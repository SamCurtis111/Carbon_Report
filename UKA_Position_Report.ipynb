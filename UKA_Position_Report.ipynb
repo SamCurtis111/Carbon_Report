{
 "cells": [
  {
   "cell_type": "code",
   "execution_count": 1,
   "id": "bba20152",
   "metadata": {},
   "outputs": [],
   "source": [
    "import warnings\n",
    "warnings.filterwarnings('ignore', category=RuntimeWarning)\n",
    "\n",
    "import pandas as pd\n",
    "import plotly.graph_objects as go\n",
    "from plotly.subplots import make_subplots\n",
    "import plotly\n",
    "\n",
    "import datetime as dt\n",
    "import calendar\n",
    "\n",
    "import openpyxl\n",
    "from openpyxl.utils.dataframe import dataframe_to_rows\n",
    "\n",
    "from Position_Report_Calcs import Position_Reporting"
   ]
  },
  {
   "cell_type": "code",
   "execution_count": 2,
   "id": "9b481c4e",
   "metadata": {},
   "outputs": [
    {
     "data": {
      "text/html": [
       "        <script type=\"text/javascript\">\n",
       "        window.PlotlyConfig = {MathJaxConfig: 'local'};\n",
       "        if (window.MathJax && window.MathJax.Hub && window.MathJax.Hub.Config) {window.MathJax.Hub.Config({SVG: {font: \"STIX-Web\"}});}\n",
       "        if (typeof require !== 'undefined') {\n",
       "        require.undef(\"plotly\");\n",
       "        requirejs.config({\n",
       "            paths: {\n",
       "                'plotly': ['https://cdn.plot.ly/plotly-2.12.1.min']\n",
       "            }\n",
       "        });\n",
       "        require(['plotly'], function(Plotly) {\n",
       "            window._Plotly = Plotly;\n",
       "        });\n",
       "        }\n",
       "        </script>\n",
       "        "
      ]
     },
     "metadata": {},
     "output_type": "display_data"
    }
   ],
   "source": [
    "plotly.offline.init_notebook_mode(connected=True)"
   ]
  },
  {
   "cell_type": "code",
   "execution_count": 3,
   "id": "e771a00a",
   "metadata": {},
   "outputs": [],
   "source": [
    "def reporting_date(run_date='today'):\n",
    "    if run_date=='today':\n",
    "        current_date = dt.datetime.today().date()\n",
    "        current_year = current_date.year\n",
    "    else:\n",
    "        current_date = run_date\n",
    "        current_year = current_date.year\n",
    "    return current_date, current_year\n",
    "        \n",
    "#current_date, current_year = reporting_date(run_date = dt.datetime.strptime('21-06-2024', '%d-%m-%Y').date())    # for a specific date\n",
    "current_date, current_year = reporting_date()    # as at today"
   ]
  },
  {
   "cell_type": "code",
   "execution_count": 4,
   "id": "295eacc0",
   "metadata": {},
   "outputs": [],
   "source": [
    "## Define the dates we want to use for reporting\n",
    "#current_date = dt.datetime.today().date()\n",
    "#current_year = str(dt.datetime.today().date().year)\n",
    "\n",
    "_, last_day = calendar.monthrange(current_date.year, current_date.month)\n",
    "end_of_month = dt.date(current_date.year, current_date.month, last_day)\n",
    "\n",
    "three_months = current_date + dt.timedelta(days=3*30)\n",
    "\n",
    "six_months = current_date + dt.timedelta(days=6*30)\n",
    "\n",
    "eoy = '10-12-{}'.format(current_year)\n",
    "end_of_year = dt.datetime.strptime(eoy, '%d-%m-%Y').date()\n",
    "\n",
    "one_year = current_date + dt.timedelta(days=365)\n",
    "\n",
    "end_of_may = dt.datetime.strptime('31-05-2024', '%d-%m-%Y').date()\n",
    "\n",
    "june = dt.datetime.strptime('15-06-2024', '%d-%m-%Y').date()\n",
    "\n",
    "end_june = dt.datetime.strptime('28-06-2024', '%d-%m-%Y').date()\n",
    "\n",
    "end_july = dt.datetime.strptime('31-07-2024', '%d-%m-%Y').date()\n",
    "\n",
    "end_august = dt.datetime.strptime('30-08-2024', '%d-%m-%Y').date()\n",
    "\n",
    "sep = dt.datetime.strptime('25-09-2024', '%d-%m-%Y').date()\n",
    "end_sep = dt.datetime.strptime('30-09-2024', '%d-%m-%Y').date()\n",
    "end_oct = dt.datetime.strptime('31-10-2024', '%d-%m-%Y').date()\n",
    "end_nov = dt.datetime.strptime('30-11-2024', '%d-%m-%Y').date()\n",
    "dec_exp = dt.datetime.strptime('16-12-2024', '%d-%m-%Y').date()\n",
    "end_dec = dt.datetime.strptime('15-12-2024', '%d-%m-%Y').date()\n",
    "\n",
    "dates_names = ['today','EoM','End of May','June Expiry','End of June', 'End of July', 'End of August', 'Sep Expiry', 'End of Sep','End of Oct','End of Nov','Dec expiry','End of Dec']\n",
    "dates_values = [current_date, end_of_month, end_of_may, june, end_june, end_july, end_august, sep, end_sep, end_oct, end_nov, dec_exp, end_dec]"
   ]
  },
  {
   "cell_type": "code",
   "execution_count": 5,
   "id": "3ca5488c",
   "metadata": {},
   "outputs": [],
   "source": [
    "## Read in the position data\n",
    "mkts = ['ACCU','NZU','EUA','UKA','CCA']\n",
    "\n",
    "positions = dict()\n",
    "for m in mkts:\n",
    "    positions[m] = pd.read_excel('Positions.xlsx', sheet_name=m)\n",
    "    positions[m]['Expiry'] = pd.to_datetime(positions[m].Expiry).dt.date\n",
    "    positions[m] = positions[m][~((positions[m]['Type'] == 'Option') & (positions[m]['Expiry'] < current_date))] # remove expired options\n",
    "\n",
    "premiums = pd.read_excel('Positions.xlsx', sheet_name='Index') "
   ]
  },
  {
   "cell_type": "code",
   "execution_count": 6,
   "id": "d56c3bd8",
   "metadata": {},
   "outputs": [],
   "source": [
    "dates = dict()\n",
    "for i in list(range(0,len(dates_names))):\n",
    "    dates[dates_names[i]] = dates_values[i]"
   ]
  },
  {
   "cell_type": "code",
   "execution_count": 7,
   "id": "c9bcfcb0",
   "metadata": {},
   "outputs": [],
   "source": [
    "current_spot = positions['UKA']\n",
    "current_spot = current_spot[current_spot.Type=='Spot'].reset_index(drop=True)\n",
    "current_spot = current_spot['Price'][0]"
   ]
  },
  {
   "cell_type": "markdown",
   "id": "756bb0ec",
   "metadata": {},
   "source": [
    "# UKA Position Report\n",
    "All PnL figures are in AUD"
   ]
  },
  {
   "cell_type": "code",
   "execution_count": 8,
   "id": "659c3281",
   "metadata": {},
   "outputs": [
    {
     "name": "stdout",
     "output_type": "stream",
     "text": [
      "Report as at 03-10-2024\n"
     ]
    }
   ],
   "source": [
    "z = current_date.strftime('%d-%m-%Y')\n",
    "print('Report as at {}'.format(z))"
   ]
  },
  {
   "cell_type": "code",
   "execution_count": 9,
   "id": "15753bb0",
   "metadata": {},
   "outputs": [
    {
     "ename": "NameError",
     "evalue": "name 'openpyxl' is not defined",
     "output_type": "error",
     "traceback": [
      "\u001b[1;31m---------------------------------------------------------------------------\u001b[0m",
      "\u001b[1;31mNameError\u001b[0m                                 Traceback (most recent call last)",
      "Cell \u001b[1;32mIn[9], line 2\u001b[0m\n\u001b[0;32m      1\u001b[0m ukas \u001b[38;5;241m=\u001b[39m \u001b[38;5;28mdict\u001b[39m()\n\u001b[1;32m----> 2\u001b[0m workbook \u001b[38;5;241m=\u001b[39m \u001b[43mopenpyxl\u001b[49m\u001b[38;5;241m.\u001b[39mWorkbook()\n\u001b[0;32m      4\u001b[0m \u001b[38;5;28;01mfor\u001b[39;00m i,d \u001b[38;5;129;01min\u001b[39;00m \u001b[38;5;28menumerate\u001b[39m(dates_values):\n\u001b[0;32m      5\u001b[0m     ukas[d] \u001b[38;5;241m=\u001b[39m Position_Reporting(positions, \u001b[38;5;124m'\u001b[39m\u001b[38;5;124mUKA\u001b[39m\u001b[38;5;124m'\u001b[39m, d)\u001b[38;5;241m.\u001b[39mcombine_frame()\n",
      "\u001b[1;31mNameError\u001b[0m: name 'openpyxl' is not defined"
     ]
    }
   ],
   "source": [
    "ukas = dict()\n",
    "workbook = openpyxl.Workbook()\n",
    "\n",
    "for i,d in enumerate(dates_values):\n",
    "    ukas[d] = Position_Reporting(positions, 'UKA', d).combine_frame()\n",
    "    \n",
    "    sheet_name = dates_names[i]\n",
    "    sheet = workbook.create_sheet(title=sheet_name)\n",
    "    \n",
    "    for row in dataframe_to_rows(ukas[d][0], index=False, header=True):\n",
    "        sheet.append(row)\n",
    "    \n",
    "workbook.save('UKA PnL Output.xlsx')"
   ]
  },
  {
   "cell_type": "code",
   "execution_count": null,
   "id": "fb9d8c7f",
   "metadata": {},
   "outputs": [],
   "source": [
    "# data type; 0=PnL, 1=Delta, 2=Option Theta, 3=Option Vega\n",
    "def generate_summary_plots(mkt_data, data_type):\n",
    "    if data_type==0:\n",
    "        colname='Total_Pnl'\n",
    "    elif data_type==1:\n",
    "        colname='Total_Delta'\n",
    "    elif data_type==2:\n",
    "        colname='Option_Theta'\n",
    "    elif data_type==3:\n",
    "        colname='Option_Vega'\n",
    "    fig = go.Figure()\n",
    "    for i in list(range(0, len(dates_names))):\n",
    "        date_value = dates_values[i]\n",
    "        date_name = dates_names[i]\n",
    "        fig.add_trace(go.Scatter(x=mkt_data[date_value][data_type].Price, y=mkt_data[date_value][data_type][colname], name=date_name))\n",
    "    return fig"
   ]
  },
  {
   "cell_type": "code",
   "execution_count": null,
   "id": "4708cc1d",
   "metadata": {},
   "outputs": [],
   "source": [
    "fig_d = generate_summary_plots(ukas, 1)\n",
    "fig_p = generate_summary_plots(ukas, 0)\n",
    "fig_t = generate_summary_plots(ukas,2)\n",
    "fig_v = generate_summary_plots(ukas,3)"
   ]
  },
  {
   "cell_type": "code",
   "execution_count": null,
   "id": "ff94b9f0",
   "metadata": {},
   "outputs": [],
   "source": [
    "fig = make_subplots(rows=1, cols=2)\n",
    "for i in range(0,len(fig_d.data)):\n",
    "    fig.add_trace(fig_p.data[i], row=1, col=1)\n",
    "    fig.add_trace(fig_d.data[i], row=1, col=2)\n",
    "\n",
    "fig.update_layout(title={'text': 'UKA Position (PnL and Delta)','x': 0.5,'xanchor': 'center'})\n",
    "\n",
    "fig.update_xaxes(title_text=\"Price\", row=1, col=1)\n",
    "fig.update_yaxes(title_text=\"PnL\", row=1, col=1)\n",
    "fig.update_xaxes(title_text=\"Price\", row=1, col=2)\n",
    "fig.update_yaxes(title_text=\"Delta\", row=1, col=2)\n",
    "\n",
    "fig.add_vline(x=current_spot, line_width=1, line_dash=\"dash\", line_color=\"green\")\n",
    "\n",
    "fig.show()"
   ]
  },
  {
   "cell_type": "code",
   "execution_count": null,
   "id": "795643ae",
   "metadata": {},
   "outputs": [],
   "source": [
    "fig = make_subplots(rows=1, cols=2)\n",
    "for i in range(0,len(fig_d.data)):\n",
    "    fig.add_trace(fig_t.data[i], row=1, col=1)\n",
    "    fig.add_trace(fig_v.data[i], row=1, col=2)\n",
    "\n",
    "fig.update_layout(title={'text': 'UKA Position (Theta and Vega)','x': 0.5,'xanchor': 'center'})\n",
    "\n",
    "fig.update_xaxes(title_text=\"Price\", row=1, col=1)\n",
    "fig.update_yaxes(title_text=\"Theta\", row=1, col=1)\n",
    "fig.update_xaxes(title_text=\"Price\", row=1, col=2)\n",
    "fig.update_yaxes(title_text=\"Vega\", row=1, col=2)\n",
    "fig.show()"
   ]
  },
  {
   "cell_type": "markdown",
   "id": "0b054dac",
   "metadata": {},
   "source": [
    "# Today's Position"
   ]
  },
  {
   "cell_type": "code",
   "execution_count": null,
   "id": "c201f2c6",
   "metadata": {},
   "outputs": [],
   "source": [
    "## USE THIS STYLE OF GRAPHING FOR TODAY DATE ENTRY ##\n",
    "position_functions = Position_Reporting(positions, 'UKA', current_date)\n",
    "pnl, delta, theta, vega, value = position_functions.combine_frame()\n",
    "\n",
    "fig_d = go.Figure()\n",
    "\n",
    "fig_d.add_trace(go.Bar(x=delta.Price, y=delta.Spot, name='Spot', base=0))\n",
    "fig_d.add_trace(go.Bar(x=delta.Price, y=delta.Fwds, name='Fwds', base=0))\n",
    "fig_d.add_trace(go.Bar(x=delta.Price, y=delta.Options, name='Options', base=0))\n",
    "fig_d.add_trace(go.Scatter(x=delta.Price, y=delta.Total_Delta, mode='lines', name='Total_Delta'))\n",
    "\n",
    "#fig_d.update_layout(title='ACCU Delta Today', xaxis_title='Price', yaxis_title='Delta', barmode='stack')\n",
    "#fig_d.show()\n",
    "\n",
    "#~~~~~~~~~~~~~~~~~~~~~~~~~~~~~~~~~\n",
    "fig_p = go.Figure()\n",
    "\n",
    "fig_p.add_trace(go.Bar(x=pnl.Price, y=pnl.Spot, name='Spot', base=0))\n",
    "fig_p.add_trace(go.Bar(x=pnl.Price, y=pnl.Fwds, name='Fwds', base=0))\n",
    "fig_p.add_trace(go.Bar(x=pnl.Price, y=pnl.Options, name='Options', base=0))\n",
    "fig_p.add_trace(go.Scatter(x=pnl.Price, y=pnl.Total_Pnl, mode='lines', name='Total_PnL'))\n",
    "\n",
    "#fig_p.update_layout(title='ACCU PnL Today', xaxis_title='Price', yaxis_title='pnl', barmode='stack')\n",
    "#fig_p.show()\n",
    "\n",
    "\n",
    "#~~~~~~~~~~~~~~~~~~~~~~~~~~~~~~~\n",
    "fig = make_subplots(rows=1, cols=2)\n",
    "for i in range(0,len(fig_d.data)):\n",
    "    fig.add_trace(fig_d.data[i], row=1, col=2)\n",
    "    fig.add_trace(fig_p.data[i], row=1, col=1)\n",
    "    \n",
    "#fig.update_layout(title={'text': 'Todays UKA Pos (PnL and Delta)','x': 0.5,'xanchor': 'center'}, barmode='stack')\n",
    "fig.update_layout(title={'text': 'Todays UKA Pos (PnL and Delta)','x': 0.5,'xanchor': 'center'})\n",
    "\n",
    "fig.update_xaxes(title_text=\"Price\", row=1, col=1)\n",
    "fig.update_yaxes(title_text=\"Pnl\", row=1, col=1)\n",
    "fig.update_xaxes(title_text=\"Price\", row=1, col=2)\n",
    "fig.update_yaxes(title_text=\"Delta\", row=1, col=2)    \n",
    "fig.show()  "
   ]
  },
  {
   "cell_type": "markdown",
   "id": "bdbfe069",
   "metadata": {},
   "source": [
    "  # Options Book"
   ]
  },
  {
   "cell_type": "code",
   "execution_count": null,
   "id": "47f6c878",
   "metadata": {},
   "outputs": [],
   "source": [
    "p,d,t,v, value = position_functions.options()"
   ]
  },
  {
   "cell_type": "code",
   "execution_count": null,
   "id": "b3e9cc12",
   "metadata": {},
   "outputs": [],
   "source": [
    "fig_p = go.Figure()\n",
    "for i in list(p)[1:-1]:\n",
    "    fig_p.add_trace(go.Bar(x=p.Price, y=p[i], name=i, base=0))\n",
    "\n",
    "fig_p.add_trace(go.Scatter(x=p.Price, y=p.Option_Pnl, mode='lines', name='Total_PnL'))\n",
    "\n",
    "#fig_p.update_layout(title='Option PnL Today', xaxis_title='Price', yaxis_title='pnl', barmode='stack')\n",
    "#fig_p.show()\n",
    "\n",
    "#~~~~~~~~~~~~~~~~~~~~~~~~~~~~~~~~~~~~~~~~~~~~~~~~~~~~~~~~~~~~~~~~~~~~~~~~~~~~~~~~~\n",
    "fig_d = go.Figure()\n",
    "for i in list(d)[1:-1]:\n",
    "    fig_d.add_trace(go.Bar(x=d.Price, y=d[i], name=i, base=0))\n",
    "\n",
    "fig_d.add_trace(go.Scatter(x=d.Price, y=d.Option_Delta, mode='lines', name='Total_Delta'))\n",
    "\n",
    "#~~~~~~~~~~~~~~~~~~~~~~~~~~~~~~~~~~~~~~~~~~~~~~~~~~~~~~~~~~~~~~~~~~~~~~~~~~~~~~~~\n",
    "fig = make_subplots(rows=1, cols=2)\n",
    "for i in range(0,len(fig_p.data)):\n",
    "    fig.add_trace(fig_p.data[i], row=1, col=1)\n",
    "    fig.add_trace(fig_d.data[i], row=1, col=2)\n",
    "    \n",
    "#fig.update_layout(title={'text': 'Todays Option Pos (PnL and Delta)','x': 0.5,'xanchor': 'center'}, barmode='stack')\n",
    "fig.update_layout(title={'text': 'Todays Option Pos (PnL and Delta)','x': 0.5,'xanchor': 'center'})\n",
    "\n",
    "fig.update_xaxes(title_text=\"Price\", row=1, col=1)\n",
    "fig.update_yaxes(title_text=\"Pnl\", row=1, col=1)\n",
    "fig.update_xaxes(title_text=\"Price\", row=1, col=2)\n",
    "fig.update_yaxes(title_text=\"Delta\", row=1, col=2)    \n",
    "fig.show()  "
   ]
  },
  {
   "cell_type": "code",
   "execution_count": null,
   "id": "175af9cd",
   "metadata": {},
   "outputs": [],
   "source": [
    "fig_t = go.Figure()\n",
    "for i in list(t)[1:-1]:\n",
    "    fig_t.add_trace(go.Bar(x=t.Price, y=t[i], name=i, base=0))\n",
    "\n",
    "fig_t.add_trace(go.Scatter(x=t.Price, y=t.Option_Theta, mode='lines', name='Total_Theta'))\n",
    "\n",
    "\n",
    "#~~~~~~~~~~~~~~~~~~~~~~~~~~~~~~~~~~~~~~~~~~~~~~~~~~~~~~~~~~~~~~~~~~~~~~~~~~~~~~~~~\n",
    "fig_v = go.Figure()\n",
    "for i in list(v)[1:-1]:\n",
    "    fig_v.add_trace(go.Bar(x=v.Price, y=v[i], name=i, base=0))\n",
    "\n",
    "fig_v.add_trace(go.Scatter(x=v.Price, y=v.Option_Vega, mode='lines', name='Total_Vega'))\n",
    "\n",
    "#~~~~~~~~~~~~~~~~~~~~~~~~~~~~~~~~~~~~~~~~~~~~~~~~~~~~~~~~~~~~~~~~~~~~~~~~~~~~~~~~\n",
    "fig = make_subplots(rows=1, cols=2)\n",
    "for i in range(0,len(fig_p.data)):\n",
    "    fig.add_trace(fig_t.data[i], row=1, col=1)\n",
    "    fig.add_trace(fig_v.data[i], row=1, col=2)\n",
    "    \n",
    "#fig.update_layout(title={'text': 'Todays Option Pos (Theta and Vega)','x': 0.5,'xanchor': 'center'}, barmode='stack')\n",
    "fig.update_layout(title={'text': 'Todays Option Pos (Theta and Vega)','x': 0.5,'xanchor': 'center'})\n",
    "\n",
    "fig.update_xaxes(title_text=\"Price\", row=1, col=1)\n",
    "fig.update_yaxes(title_text=\"Theta\", row=1, col=1)\n",
    "fig.update_xaxes(title_text=\"Price\", row=1, col=2)\n",
    "fig.update_yaxes(title_text=\"Vega\", row=1, col=2)    \n",
    "fig.show()  "
   ]
  },
  {
   "cell_type": "markdown",
   "id": "45a8ce66",
   "metadata": {},
   "source": [
    "# Historical Volatility"
   ]
  },
  {
   "cell_type": "code",
   "execution_count": null,
   "id": "d96f715e",
   "metadata": {},
   "outputs": [],
   "source": [
    "histvol = Position_Reporting(positions, 'UKA', current_date).rolling_vol()\n",
    "\n",
    "fig = go.Figure()\n",
    "for i in list(histvol)[1:]:\n",
    "    fig.add_trace(go.Scatter(x=histvol['Date'], y=histvol[i], name=i))#, base=0))\n",
    "    \n",
    "fig.show()"
   ]
  }
 ],
 "metadata": {
  "kernelspec": {
   "display_name": "Python 3 (ipykernel)",
   "language": "python",
   "name": "python3"
  },
  "language_info": {
   "codemirror_mode": {
    "name": "ipython",
    "version": 3
   },
   "file_extension": ".py",
   "mimetype": "text/x-python",
   "name": "python",
   "nbconvert_exporter": "python",
   "pygments_lexer": "ipython3",
   "version": "3.8.16"
  },
  "toc": {
   "base_numbering": 1,
   "nav_menu": {},
   "number_sections": true,
   "sideBar": true,
   "skip_h1_title": false,
   "title_cell": "Table of Contents",
   "title_sidebar": "Contents",
   "toc_cell": false,
   "toc_position": {},
   "toc_section_display": true,
   "toc_window_display": false
  },
  "varInspector": {
   "cols": {
    "lenName": 16,
    "lenType": 16,
    "lenVar": 40
   },
   "kernels_config": {
    "python": {
     "delete_cmd_postfix": "",
     "delete_cmd_prefix": "del ",
     "library": "var_list.py",
     "varRefreshCmd": "print(var_dic_list())"
    },
    "r": {
     "delete_cmd_postfix": ") ",
     "delete_cmd_prefix": "rm(",
     "library": "var_list.r",
     "varRefreshCmd": "cat(var_dic_list()) "
    }
   },
   "types_to_exclude": [
    "module",
    "function",
    "builtin_function_or_method",
    "instance",
    "_Feature"
   ],
   "window_display": false
  }
 },
 "nbformat": 4,
 "nbformat_minor": 5
}
