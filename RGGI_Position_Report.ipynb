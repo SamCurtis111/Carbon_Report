{
 "cells": [
  {
   "cell_type": "code",
   "execution_count": 1,
   "id": "bba20152",
   "metadata": {},
   "outputs": [],
   "source": [
    "import warnings\n",
    "warnings.filterwarnings('ignore', category=RuntimeWarning)\n",
    "\n",
    "import pandas as pd\n",
    "import plotly.graph_objects as go\n",
    "from plotly.subplots import make_subplots\n",
    "import plotly\n",
    "\n",
    "import datetime as dt\n",
    "import calendar\n",
    "\n",
    "import openpyxl\n",
    "from openpyxl.utils.dataframe import dataframe_to_rows\n",
    "\n",
    "from Position_Report_Calcs import Position_Reporting"
   ]
  },
  {
   "cell_type": "code",
   "execution_count": 2,
   "id": "9b481c4e",
   "metadata": {},
   "outputs": [
    {
     "data": {
      "text/html": [
       "        <script type=\"text/javascript\">\n",
       "        window.PlotlyConfig = {MathJaxConfig: 'local'};\n",
       "        if (window.MathJax && window.MathJax.Hub && window.MathJax.Hub.Config) {window.MathJax.Hub.Config({SVG: {font: \"STIX-Web\"}});}\n",
       "        if (typeof require !== 'undefined') {\n",
       "        require.undef(\"plotly\");\n",
       "        requirejs.config({\n",
       "            paths: {\n",
       "                'plotly': ['https://cdn.plot.ly/plotly-2.32.0.min']\n",
       "            }\n",
       "        });\n",
       "        require(['plotly'], function(Plotly) {\n",
       "            window._Plotly = Plotly;\n",
       "        });\n",
       "        }\n",
       "        </script>\n",
       "        "
      ]
     },
     "metadata": {},
     "output_type": "display_data"
    }
   ],
   "source": [
    "plotly.offline.init_notebook_mode(connected=True)"
   ]
  },
  {
   "cell_type": "code",
   "execution_count": 3,
   "id": "f43d6000",
   "metadata": {},
   "outputs": [],
   "source": [
    "def reporting_date(run_date='today'):\n",
    "    if run_date=='today':\n",
    "        current_date = dt.datetime.today().date()\n",
    "        current_year = current_date.year\n",
    "    else:\n",
    "        current_date = run_date\n",
    "        current_year = current_date.year\n",
    "    return current_date, current_year\n",
    "        \n",
    "#current_date, current_year = reporting_date(run_date = dt.datetime.strptime('21-06-2024', '%d-%m-%Y').date())    # for a specific date\n",
    "current_date, current_year = reporting_date()    # as at today"
   ]
  },
  {
   "cell_type": "code",
   "execution_count": 4,
   "id": "4cc034e0",
   "metadata": {},
   "outputs": [],
   "source": [
    "def get_month_year(months_fwd):   # This is incase the months fwd overlaps into a different year\n",
    "    current_date = dt.datetime.today().date()\n",
    "    month = current_date.month + months_fwd\n",
    "    year = current_date.year\n",
    "    if month > 12:\n",
    "        month -=12\n",
    "        year += 1\n",
    "        \n",
    "    _, last_day_of_month = calendar.monthrange(year, month)\n",
    "    date_to_use = dt.date(year, month, last_day_of_month)\n",
    "    return date_to_use"
   ]
  },
  {
   "cell_type": "code",
   "execution_count": 5,
   "id": "d60c6a52",
   "metadata": {},
   "outputs": [],
   "source": [
    "## Define the dates we want to use for reporting\n",
    "#current_date = dt.datetime.today().date()\n",
    "#current_year = str(dt.datetime.today().date().year)\n",
    "\n",
    "_, last_day = calendar.monthrange(current_date.year, current_date.month)\n",
    "end_of_month = dt.date(current_date.year, current_date.month, last_day)\n",
    "two_months = get_month_year(2)\n",
    "three_months = get_month_year(3)\n",
    "four_months = get_month_year(4)\n",
    "five_months = get_month_year(5)\n",
    "six_months = get_month_year(6)\n",
    "\n",
    "dec_exp = dt.datetime.strptime('16-12-2025', '%d-%m-%Y').date()\n",
    "\n",
    "dates_names = ['today','EoM','2 Months','3 Months','4 Months', '5 Months', '6 Months', 'Dec Expiry']\n",
    "dates_values = [current_date, end_of_month, two_months, three_months, four_months, five_months, six_months, dec_exp]"
   ]
  },
  {
   "cell_type": "code",
   "execution_count": 6,
   "id": "3ca5488c",
   "metadata": {},
   "outputs": [],
   "source": [
    "## Read in the position data\n",
    "mkts = ['ACCU','NZU','RGGI']\n",
    "\n",
    "positions = dict()\n",
    "for m in mkts:\n",
    "    positions[m] = pd.read_excel('Positions.xlsx', sheet_name=m)\n",
    "    positions[m]['Expiry'] = pd.to_datetime(positions[m].Expiry).dt.date\n",
    "    positions[m] = positions[m][~((positions[m]['Type'] == 'Option') & (positions[m]['Expiry'] < current_date))] # remove expired options\n",
    "\n",
    "premiums = pd.read_excel('Positions.xlsx', sheet_name='Index') "
   ]
  },
  {
   "cell_type": "code",
   "execution_count": 7,
   "id": "57bfbb22",
   "metadata": {},
   "outputs": [
    {
     "data": {
      "text/html": [
       "<div>\n",
       "<style scoped>\n",
       "    .dataframe tbody tr th:only-of-type {\n",
       "        vertical-align: middle;\n",
       "    }\n",
       "\n",
       "    .dataframe tbody tr th {\n",
       "        vertical-align: top;\n",
       "    }\n",
       "\n",
       "    .dataframe thead th {\n",
       "        text-align: right;\n",
       "    }\n",
       "</style>\n",
       "<table border=\"1\" class=\"dataframe\">\n",
       "  <thead>\n",
       "    <tr style=\"text-align: right;\">\n",
       "      <th></th>\n",
       "      <th>Market</th>\n",
       "      <th>1% Move (Adj for FUM FX)</th>\n",
       "      <th>AUD Required Return</th>\n",
       "      <th>Required Delta</th>\n",
       "      <th>Current Delta</th>\n",
       "      <th>Actual Weight (% FUM)</th>\n",
       "      <th>Over / Under Weight</th>\n",
       "    </tr>\n",
       "  </thead>\n",
       "  <tbody>\n",
       "    <tr>\n",
       "      <th>0</th>\n",
       "      <td>EUA</td>\n",
       "      <td>0.730</td>\n",
       "      <td>10934.241632</td>\n",
       "      <td>14021.853849</td>\n",
       "      <td>14.116065</td>\n",
       "      <td>0.167786</td>\n",
       "      <td>0.001120</td>\n",
       "    </tr>\n",
       "    <tr>\n",
       "      <th>1</th>\n",
       "      <td>UKA</td>\n",
       "      <td>0.000</td>\n",
       "      <td>9224.841726</td>\n",
       "      <td>27652.402751</td>\n",
       "      <td>26.000000</td>\n",
       "      <td>0.000000</td>\n",
       "      <td>-0.166667</td>\n",
       "    </tr>\n",
       "    <tr>\n",
       "      <th>2</th>\n",
       "      <td>ACCU</td>\n",
       "      <td>0.368</td>\n",
       "      <td>18116.666667</td>\n",
       "      <td>52284.752285</td>\n",
       "      <td>33.706273</td>\n",
       "      <td>0.107755</td>\n",
       "      <td>-0.058912</td>\n",
       "    </tr>\n",
       "    <tr>\n",
       "      <th>3</th>\n",
       "      <td>LGC</td>\n",
       "      <td>NaN</td>\n",
       "      <td>NaN</td>\n",
       "      <td>NaN</td>\n",
       "      <td>NaN</td>\n",
       "      <td>NaN</td>\n",
       "      <td>NaN</td>\n",
       "    </tr>\n",
       "    <tr>\n",
       "      <th>4</th>\n",
       "      <td>NZU</td>\n",
       "      <td>0.000</td>\n",
       "      <td>20073.868883</td>\n",
       "      <td>31414.505294</td>\n",
       "      <td>71.907529</td>\n",
       "      <td>0.000000</td>\n",
       "      <td>-0.166667</td>\n",
       "    </tr>\n",
       "    <tr>\n",
       "      <th>5</th>\n",
       "      <td>CCA</td>\n",
       "      <td>0.000</td>\n",
       "      <td>11285.777500</td>\n",
       "      <td>35268.054688</td>\n",
       "      <td>32.000000</td>\n",
       "      <td>0.000000</td>\n",
       "      <td>-0.166667</td>\n",
       "    </tr>\n",
       "  </tbody>\n",
       "</table>\n",
       "</div>"
      ],
      "text/plain": [
       "  Market  1% Move (Adj for FUM FX)  AUD Required Return  Required Delta  \\\n",
       "0    EUA                     0.730         10934.241632    14021.853849   \n",
       "1    UKA                     0.000          9224.841726    27652.402751   \n",
       "2   ACCU                     0.368         18116.666667    52284.752285   \n",
       "3    LGC                       NaN                  NaN             NaN   \n",
       "4    NZU                     0.000         20073.868883    31414.505294   \n",
       "5    CCA                     0.000         11285.777500    35268.054688   \n",
       "\n",
       "   Current Delta  Actual Weight (% FUM)  Over / Under Weight  \n",
       "0      14.116065               0.167786             0.001120  \n",
       "1      26.000000               0.000000            -0.166667  \n",
       "2      33.706273               0.107755            -0.058912  \n",
       "3            NaN                    NaN                  NaN  \n",
       "4      71.907529               0.000000            -0.166667  \n",
       "5      32.000000               0.000000            -0.166667  "
      ]
     },
     "execution_count": 7,
     "metadata": {},
     "output_type": "execute_result"
    }
   ],
   "source": [
    "beta = pd.read_excel('Positions.xlsx', sheet_name='Allocation')\n",
    "beta"
   ]
  },
  {
   "cell_type": "code",
   "execution_count": 8,
   "id": "3679bbc8",
   "metadata": {},
   "outputs": [],
   "source": [
    "dates = dict()\n",
    "for i in list(range(0,len(dates_names))):\n",
    "    dates[dates_names[i]] = dates_values[i]"
   ]
  },
  {
   "cell_type": "code",
   "execution_count": 9,
   "id": "0d6f379e",
   "metadata": {},
   "outputs": [],
   "source": [
    "current_spot = positions['RGGI']\n",
    "current_spot = current_spot[current_spot.Type=='Spot'].reset_index(drop=True)\n",
    "current_spot = current_spot['Price'][0]"
   ]
  },
  {
   "cell_type": "markdown",
   "id": "756bb0ec",
   "metadata": {},
   "source": [
    "# RGGI Position Report\n",
    "All PnL figures are in AUD"
   ]
  },
  {
   "cell_type": "code",
   "execution_count": 11,
   "id": "d8fb018a",
   "metadata": {},
   "outputs": [
    {
     "name": "stdout",
     "output_type": "stream",
     "text": [
      "Report as at 16-01-2025\n"
     ]
    }
   ],
   "source": [
    "z = current_date.strftime('%d-%m-%Y')\n",
    "print('Report as at {}'.format(z))"
   ]
  },
  {
   "cell_type": "code",
   "execution_count": 12,
   "id": "659c3281",
   "metadata": {},
   "outputs": [
    {
     "ename": "ValueError",
     "evalue": "cannot convert float NaN to integer",
     "output_type": "error",
     "traceback": [
      "\u001b[1;31m---------------------------------------------------------------------------\u001b[0m",
      "\u001b[1;31mValueError\u001b[0m                                Traceback (most recent call last)",
      "Cell \u001b[1;32mIn[12], line 15\u001b[0m\n\u001b[0;32m     11\u001b[0m         sheet\u001b[38;5;241m.\u001b[39mappend(row)\n\u001b[0;32m     13\u001b[0m workbook\u001b[38;5;241m.\u001b[39msave(\u001b[38;5;124m'\u001b[39m\u001b[38;5;124mRGGI PnL Output.xlsx\u001b[39m\u001b[38;5;124m'\u001b[39m)\n\u001b[1;32m---> 15\u001b[0m beta_pnl \u001b[38;5;241m=\u001b[39m Position_Reporting(positions, \u001b[38;5;124m'\u001b[39m\u001b[38;5;124mRGGI\u001b[39m\u001b[38;5;124m'\u001b[39m, d)\u001b[38;5;241m.\u001b[39mbeta_pnl()\n",
      "File \u001b[1;32mC:\\GitHub\\Carbon_Report\\Position_Report_Calcs.py:305\u001b[0m, in \u001b[0;36mPosition_Reporting.beta_pnl\u001b[1;34m(self)\u001b[0m\n\u001b[0;32m    304\u001b[0m \u001b[38;5;28;01mdef\u001b[39;00m \u001b[38;5;21mbeta_pnl\u001b[39m(\u001b[38;5;28mself\u001b[39m): \u001b[38;5;66;03m# TO COMPARE THE CURRENT PORTFOLIO AGAINST A BETA PORTFOLIO AND DERIVE ALPHA\u001b[39;00m\n\u001b[1;32m--> 305\u001b[0m     units \u001b[38;5;241m=\u001b[39m \u001b[38;5;28mself\u001b[39m\u001b[38;5;241m.\u001b[39mbeta_units()\n\u001b[0;32m    306\u001b[0m     units \u001b[38;5;241m=\u001b[39m units[\u001b[38;5;28mself\u001b[39m\u001b[38;5;241m.\u001b[39mmkt]\n\u001b[0;32m    307\u001b[0m     pnl_frame \u001b[38;5;241m=\u001b[39m pd\u001b[38;5;241m.\u001b[39mDataFrame()\n",
      "File \u001b[1;32mC:\\GitHub\\Carbon_Report\\Position_Report_Calcs.py:300\u001b[0m, in \u001b[0;36mPosition_Reporting.beta_units\u001b[1;34m(self)\u001b[0m\n\u001b[0;32m    298\u001b[0m market_units \u001b[38;5;241m=\u001b[39m aud_spot_prices\u001b[38;5;241m.\u001b[39mcopy()\n\u001b[0;32m    299\u001b[0m \u001b[38;5;28;01mfor\u001b[39;00m m \u001b[38;5;129;01min\u001b[39;00m market_units:\n\u001b[1;32m--> 300\u001b[0m     market_units[m] \u001b[38;5;241m=\u001b[39m \u001b[38;5;28mround\u001b[39m(market_allocation\u001b[38;5;241m/\u001b[39mmarket_units[m])\n\u001b[0;32m    301\u001b[0m \u001b[38;5;28;01mreturn\u001b[39;00m market_units\n",
      "\u001b[1;31mValueError\u001b[0m: cannot convert float NaN to integer"
     ]
    }
   ],
   "source": [
    "RGGIs = dict()\n",
    "workbook = openpyxl.Workbook()\n",
    "\n",
    "for i,d in enumerate(dates_values):\n",
    "    RGGIs[d] = Position_Reporting(positions, 'RGGI', d).combine_frame()\n",
    "    \n",
    "    # Generate an excel file\n",
    "    sheet_name = dates_names[i]\n",
    "    sheet = workbook.create_sheet(title=sheet_name)    \n",
    "    for row in dataframe_to_rows(RGGIs[d][0], index=False, header=True):\n",
    "        sheet.append(row)\n",
    "    \n",
    "workbook.save('RGGI PnL Output.xlsx')\n",
    "\n",
    "beta_pnl = Position_Reporting(positions, 'RGGI', d).beta_pnl()\n"
   ]
  },
  {
   "cell_type": "code",
   "execution_count": null,
   "id": "fb9d8c7f",
   "metadata": {},
   "outputs": [],
   "source": [
    "# data type; 0=PnL, 1=Delta, 2=Option Theta, 3=Option Vega\n",
    "def generate_summary_plots(mkt_data, data_type):\n",
    "    if data_type==0:\n",
    "        colname='Total_Pnl'\n",
    "    elif data_type==1:\n",
    "        colname='Total_Delta'\n",
    "    elif data_type==2:\n",
    "        colname='Option_Theta'\n",
    "    elif data_type==3:\n",
    "        colname='Option_Vega'\n",
    "    fig = go.Figure()\n",
    "    for i in list(range(0, len(dates_names))):\n",
    "        date_value = dates_values[i]\n",
    "        date_name = dates_names[i]\n",
    "        fig.add_trace(go.Scatter(x=mkt_data[date_value][data_type].Price, y=mkt_data[date_value][data_type][colname], name=date_name))\n",
    "    return fig"
   ]
  },
  {
   "cell_type": "code",
   "execution_count": null,
   "id": "eb8ac28f",
   "metadata": {},
   "outputs": [],
   "source": [
    "beta_pnl = Position_Reporting(positions,'RGGI',d).beta_pnl()\n",
    "\n",
    "beta_delta = Position_Reporting(positions,'RGGI',d).beta_units()\n",
    "beta_delta = beta_delta['RGGI']\n",
    "delta_frame = pd.DataFrame()\n",
    "delta_frame['Price'] = beta_pnl.Price\n",
    "delta_frame['Beta'] = beta_delta"
   ]
  },
  {
   "cell_type": "code",
   "execution_count": null,
   "id": "4708cc1d",
   "metadata": {},
   "outputs": [],
   "source": [
    "fig_d = generate_summary_plots(RGGIs, 1)\n",
    "fig_d = fig_d.add_trace(go.Scatter(x=delta_frame['Price'], y=delta_frame['Beta'], name='Beta'))\n",
    "\n",
    "fig_p = generate_summary_plots(RGGIs, 0)\n",
    "fig_p = fig_p.add_trace(go.Scatter(x=beta_pnl['Price'], y=beta_pnl['Spot'], name='Beta'))\n",
    "\n",
    "fig_t = generate_summary_plots(RGGIs,2)\n",
    "fig_v = generate_summary_plots(RGGIs,3)"
   ]
  },
  {
   "cell_type": "code",
   "execution_count": null,
   "id": "ff94b9f0",
   "metadata": {},
   "outputs": [],
   "source": [
    "fig = make_subplots(rows=1, cols=2)\n",
    "for i in range(0,len(fig_d.data)):\n",
    "    fig.add_trace(fig_p.data[i], row=1, col=1)\n",
    "    fig.add_trace(fig_d.data[i], row=1, col=2)\n",
    "\n",
    "fig.update_layout(title={'text': 'RGGI Position (PnL and Delta)','x': 0.5,'xanchor': 'center'})\n",
    "\n",
    "fig.update_xaxes(title_text=\"Price\", row=1, col=1)\n",
    "fig.update_yaxes(title_text=\"PnL\", row=1, col=1)\n",
    "fig.update_xaxes(title_text=\"Price\", row=1, col=2)\n",
    "fig.update_yaxes(title_text=\"Delta\", row=1, col=2)\n",
    "\n",
    "fig.add_vline(x=current_spot, line_width=1, line_dash=\"dash\", line_color=\"green\")\n",
    "\n",
    "fig.show()"
   ]
  },
  {
   "cell_type": "code",
   "execution_count": null,
   "id": "795643ae",
   "metadata": {},
   "outputs": [],
   "source": [
    "fig = make_subplots(rows=1, cols=2)\n",
    "for i in range(0,len(fig_t.data)):\n",
    "    fig.add_trace(fig_t.data[i], row=1, col=1)\n",
    "    fig.add_trace(fig_v.data[i], row=1, col=2)\n",
    "\n",
    "fig.update_layout(title={'text': 'RGGI Position (Theta and Vega)','x': 0.5,'xanchor': 'center'})\n",
    "\n",
    "fig.update_xaxes(title_text=\"Price\", row=1, col=1)\n",
    "fig.update_yaxes(title_text=\"Theta\", row=1, col=1)\n",
    "fig.update_xaxes(title_text=\"Price\", row=1, col=2)\n",
    "fig.update_yaxes(title_text=\"Vega\", row=1, col=2)\n",
    "fig.show()"
   ]
  },
  {
   "cell_type": "markdown",
   "id": "0b054dac",
   "metadata": {},
   "source": [
    "# Today's Position"
   ]
  },
  {
   "cell_type": "code",
   "execution_count": null,
   "id": "c201f2c6",
   "metadata": {},
   "outputs": [],
   "source": [
    "## USE THIS STYLE OF GRAPHING FOR TODAY DATE ENTRY ##\n",
    "position_functions = Position_Reporting(positions, 'RGGI', current_date)\n",
    "pnl, delta, theta, vega, value = position_functions.combine_frame()\n",
    "\n",
    "fig_d = go.Figure()\n",
    "\n",
    "fig_d.add_trace(go.Bar(x=delta.Price, y=delta.Spot, name='Spot', base=0))\n",
    "fig_d.add_trace(go.Bar(x=delta.Price, y=delta.Fwds, name='Fwds', base=0))\n",
    "fig_d.add_trace(go.Bar(x=delta.Price, y=delta.Options, name='Options', base=0))\n",
    "fig_d.add_trace(go.Scatter(x=delta.Price, y=delta.Total_Delta, mode='lines', name='Total_Delta'))\n",
    "\n",
    "#fig_d.update_layout(title='ACCU Delta Today', xaxis_title='Price', yaxis_title='Delta', barmode='stack')\n",
    "#fig_d.show()\n",
    "\n",
    "#~~~~~~~~~~~~~~~~~~~~~~~~~~~~~~~~~\n",
    "fig_p = go.Figure()\n",
    "\n",
    "fig_p.add_trace(go.Bar(x=pnl.Price, y=pnl.Spot, name='Spot', base=0))\n",
    "fig_p.add_trace(go.Bar(x=pnl.Price, y=pnl.Fwds, name='Fwds', base=0))\n",
    "fig_p.add_trace(go.Bar(x=pnl.Price, y=pnl.Options, name='Options', base=0))\n",
    "fig_p.add_trace(go.Scatter(x=pnl.Price, y=pnl.Total_Pnl, mode='lines', name='Total_PnL'))\n",
    "\n",
    "#fig_p.update_layout(title='ACCU PnL Today', xaxis_title='Price', yaxis_title='pnl', barmode='stack')\n",
    "#fig_p.show()\n",
    "\n",
    "\n",
    "#~~~~~~~~~~~~~~~~~~~~~~~~~~~~~~~\n",
    "fig = make_subplots(rows=1, cols=2)\n",
    "for i in range(0,len(fig_d.data)):\n",
    "    fig.add_trace(fig_d.data[i], row=1, col=2)\n",
    "    fig.add_trace(fig_p.data[i], row=1, col=1)\n",
    "    \n",
    "#fig.update_layout(title={'text': 'Todays RGGI Pos (PnL and Delta)','x': 0.5,'xanchor': 'center'}, barmode='stack')\n",
    "fig.update_layout(title={'text': 'Todays RGGI Pos (PnL and Delta)','x': 0.5,'xanchor': 'center'})\n",
    "\n",
    "fig.update_xaxes(title_text=\"Price\", row=1, col=1)\n",
    "fig.update_yaxes(title_text=\"Pnl\", row=1, col=1)\n",
    "fig.update_xaxes(title_text=\"Price\", row=1, col=2)\n",
    "fig.update_yaxes(title_text=\"Delta\", row=1, col=2)    \n",
    "fig.show()  "
   ]
  },
  {
   "cell_type": "markdown",
   "id": "bdbfe069",
   "metadata": {},
   "source": [
    "  # Options Book"
   ]
  },
  {
   "cell_type": "code",
   "execution_count": null,
   "id": "47f6c878",
   "metadata": {},
   "outputs": [],
   "source": [
    "p,d,t,v, value = position_functions.options()"
   ]
  },
  {
   "cell_type": "code",
   "execution_count": null,
   "id": "b3e9cc12",
   "metadata": {},
   "outputs": [],
   "source": [
    "fig_p = go.Figure()\n",
    "for i in list(p)[1:-1]:\n",
    "    fig_p.add_trace(go.Bar(x=p.Price, y=p[i], name=i, base=0))\n",
    "\n",
    "fig_p.add_trace(go.Scatter(x=p.Price, y=p.Option_Pnl, mode='lines', name='Total_PnL'))\n",
    "\n",
    "#fig_p.update_layout(title='Option PnL Today', xaxis_title='Price', yaxis_title='pnl', barmode='stack')\n",
    "#fig_p.show()\n",
    "\n",
    "#~~~~~~~~~~~~~~~~~~~~~~~~~~~~~~~~~~~~~~~~~~~~~~~~~~~~~~~~~~~~~~~~~~~~~~~~~~~~~~~~~\n",
    "fig_d = go.Figure()\n",
    "for i in list(d)[1:-1]:\n",
    "    fig_d.add_trace(go.Bar(x=d.Price, y=d[i], name=i, base=0))\n",
    "\n",
    "fig_d.add_trace(go.Scatter(x=d.Price, y=d.Option_Delta, mode='lines', name='Total_Delta'))\n",
    "\n",
    "#~~~~~~~~~~~~~~~~~~~~~~~~~~~~~~~~~~~~~~~~~~~~~~~~~~~~~~~~~~~~~~~~~~~~~~~~~~~~~~~~\n",
    "fig = make_subplots(rows=1, cols=2)\n",
    "for i in range(0,len(fig_p.data)):\n",
    "    fig.add_trace(fig_p.data[i], row=1, col=1)\n",
    "    fig.add_trace(fig_d.data[i], row=1, col=2)\n",
    "    \n",
    "#fig.update_layout(title={'text': 'Todays Option Pos (PnL and Delta)','x': 0.5,'xanchor': 'center'}, barmode='stack')\n",
    "fig.update_layout(title={'text': 'Todays Option Pos (PnL and Delta)','x': 0.5,'xanchor': 'center'})\n",
    "\n",
    "fig.update_xaxes(title_text=\"Price\", row=1, col=1)\n",
    "fig.update_yaxes(title_text=\"Pnl\", row=1, col=1)\n",
    "fig.update_xaxes(title_text=\"Price\", row=1, col=2)\n",
    "fig.update_yaxes(title_text=\"Delta\", row=1, col=2)    \n",
    "fig.show()  "
   ]
  },
  {
   "cell_type": "code",
   "execution_count": null,
   "id": "175af9cd",
   "metadata": {},
   "outputs": [],
   "source": [
    "fig_t = go.Figure()\n",
    "for i in list(t)[1:-1]:\n",
    "    fig_t.add_trace(go.Bar(x=t.Price, y=t[i], name=i, base=0))\n",
    "\n",
    "fig_t.add_trace(go.Scatter(x=t.Price, y=t.Option_Theta, mode='lines', name='Total_Theta'))\n",
    "\n",
    "\n",
    "#~~~~~~~~~~~~~~~~~~~~~~~~~~~~~~~~~~~~~~~~~~~~~~~~~~~~~~~~~~~~~~~~~~~~~~~~~~~~~~~~~\n",
    "fig_v = go.Figure()\n",
    "for i in list(v)[1:-1]:\n",
    "    fig_v.add_trace(go.Bar(x=v.Price, y=v[i], name=i, base=0))\n",
    "\n",
    "fig_v.add_trace(go.Scatter(x=v.Price, y=v.Option_Vega, mode='lines', name='Total_Vega'))\n",
    "\n",
    "#~~~~~~~~~~~~~~~~~~~~~~~~~~~~~~~~~~~~~~~~~~~~~~~~~~~~~~~~~~~~~~~~~~~~~~~~~~~~~~~~\n",
    "fig = make_subplots(rows=1, cols=2)\n",
    "for i in range(0,len(fig_p.data)):\n",
    "    fig.add_trace(fig_t.data[i], row=1, col=1)\n",
    "    fig.add_trace(fig_v.data[i], row=1, col=2)\n",
    "    \n",
    "#fig.update_layout(title={'text': 'Todays Option Pos (Theta and Vega)','x': 0.5,'xanchor': 'center'}, barmode='stack')\n",
    "fig.update_layout(title={'text': 'Todays Option Pos (Theta and Vega)','x': 0.5,'xanchor': 'center'})\n",
    "\n",
    "fig.update_xaxes(title_text=\"Price\", row=1, col=1)\n",
    "fig.update_yaxes(title_text=\"Theta\", row=1, col=1)\n",
    "fig.update_xaxes(title_text=\"Price\", row=1, col=2)\n",
    "fig.update_yaxes(title_text=\"Vega\", row=1, col=2)    \n",
    "fig.show()  "
   ]
  },
  {
   "cell_type": "markdown",
   "id": "0a6965fc",
   "metadata": {},
   "source": [
    "# Option PnL & Delta At Different Points in Time\n",
    "Need to rebase the option values to date of calc  \n",
    "Delta will be correct  \n",
    "Incrimental PnL will be correct, just rebase to zero"
   ]
  },
  {
   "cell_type": "markdown",
   "id": "4faea6f7",
   "metadata": {},
   "source": [
    "# Ignore For Now, Needs Adjusting\n",
    "Recalculate the starting option value so that forward looking pnl / theta it is not relative to todays value"
   ]
  },
  {
   "cell_type": "code",
   "execution_count": null,
   "id": "9fc3ec13",
   "metadata": {},
   "outputs": [],
   "source": [
    "## Define the dates we want to use for reporting\n",
    "current_date = dt.datetime.today().date()\n",
    "current_year = str(dt.datetime.today().date().year)\n",
    "\n",
    "_, last_day = calendar.monthrange(current_date.year, current_date.month)\n",
    "end_of_month = dt.date(current_date.year, current_date.month, last_day)\n",
    "\n",
    "one_month = current_date + dt.timedelta(days=1*30)\n",
    "\n",
    "three_months = current_date + dt.timedelta(days=3*30)\n",
    "\n",
    "six_months = current_date + dt.timedelta(days=6*30)\n",
    "\n",
    "eoy = '10-12-{}'.format(current_year)\n",
    "end_of_year = dt.datetime.strptime(eoy, '%d-%m-%Y').date()\n",
    "\n",
    "one_year = current_date + dt.timedelta(days=365)\n",
    "\n",
    "post_june = dt.datetime.strptime('20-06-2024', '%d-%m-%Y').date()\n",
    "post_sep = dt.datetime.strptime('26-09-2024', '%d-%m-%Y').date()"
   ]
  },
  {
   "cell_type": "code",
   "execution_count": null,
   "id": "faba4161",
   "metadata": {},
   "outputs": [],
   "source": [
    "# Options for timing are: [current_date, end_of_month, one_month, three_months, six_months, end_of_year, end_of_feb, march_expiry]\n",
    "\n",
    "def pnl_delta_plot(timing):\n",
    "    position_functions = Position_Reporting(positions, 'RGGI', timing)\n",
    "    p,d,t,v, value = position_functions.options()\n",
    "    fig_p = go.Figure()\n",
    "    for i in list(p)[1:-1]:\n",
    "        fig_p.add_trace(go.Scatter(x=p.Price, y=p[i], name=i))\n",
    "\n",
    "    fig_p.add_trace(go.Scatter(x=p.Price, y=p.Option_Pnl, mode='lines', name='Total_PnL'))\n",
    "\n",
    "    #fig_p.update_layout(title='Option PnL Today', xaxis_title='Price', yaxis_title='pnl', barmode='stack')\n",
    "    #fig_p.show()\n",
    "\n",
    "    #~~~~~~~~~~~~~~~~~~~~~~~~~~~~~~~~~~~~~~~~~~~~~~~~~~~~~~~~~~~~~~~~~~~~~~~~~~~~~~~~~\n",
    "    fig_d = go.Figure()\n",
    "    for i in list(d)[1:-1]:\n",
    "        fig_d.add_trace(go.Scatter(x=d.Price, y=d[i], name=i))\n",
    "\n",
    "    fig_d.add_trace(go.Scatter(x=d.Price, y=d.Option_Delta, mode='lines', name='Total_Delta'))\n",
    "\n",
    "    #~~~~~~~~~~~~~~~~~~~~~~~~~~~~~~~~~~~~~~~~~~~~~~~~~~~~~~~~~~~~~~~~~~~~~~~~~~~~~~~~\n",
    "    fig = make_subplots(rows=1, cols=2)\n",
    "    for i in range(0,len(fig_p.data)):\n",
    "        fig.add_trace(fig_p.data[i], row=1, col=1)\n",
    "        fig.add_trace(fig_d.data[i], row=1, col=2)\n",
    "\n",
    "    fig.update_layout(title={'text': 'Todays Option Pos (PnL and Delta)','x': 0.5,'xanchor': 'center'}, barmode='stack')\n",
    "\n",
    "    fig.update_xaxes(title_text=\"Price\", row=1, col=1)\n",
    "    fig.update_yaxes(title_text=\"Pnl\", row=1, col=1)\n",
    "    fig.update_xaxes(title_text=\"Price\", row=1, col=2)\n",
    "    fig.update_yaxes(title_text=\"Delta\", row=1, col=2)    \n",
    "    \n",
    "    fig.add_vline(x=current_spot, line_width=1, line_dash=\"dash\", line_color=\"green\")\n",
    "    fig.show()  "
   ]
  },
  {
   "cell_type": "markdown",
   "id": "ae1499b8",
   "metadata": {},
   "source": [
    "## Post Sep Expiry"
   ]
  },
  {
   "cell_type": "code",
   "execution_count": null,
   "id": "b2f27f4f",
   "metadata": {},
   "outputs": [],
   "source": [
    "current_date = post_sep\n",
    "positions = dict()\n",
    "for m in mkts:\n",
    "    positions[m] = pd.read_excel('Positions.xlsx', sheet_name=m)\n",
    "    positions[m]['Expiry'] = pd.to_datetime(positions[m].Expiry).dt.date\n",
    "    positions[m] = positions[m][~((positions[m]['Type'] == 'Option') & (positions[m]['Expiry'] < current_date))] # remove expired options"
   ]
  },
  {
   "cell_type": "code",
   "execution_count": null,
   "id": "f8417675",
   "metadata": {},
   "outputs": [],
   "source": [
    "pnl_delta_plot(post_sep)"
   ]
  },
  {
   "cell_type": "markdown",
   "id": "3e993a44",
   "metadata": {},
   "source": [
    "Post Sep Expiry, End of Year (to see theta impact)"
   ]
  },
  {
   "cell_type": "code",
   "execution_count": null,
   "id": "18bf4450",
   "metadata": {},
   "outputs": [],
   "source": [
    "pnl_delta_plot(end_of_year)"
   ]
  },
  {
   "cell_type": "markdown",
   "id": "44b486a8",
   "metadata": {},
   "source": [
    "# Historical Volatility"
   ]
  },
  {
   "cell_type": "code",
   "execution_count": null,
   "id": "fc29329a",
   "metadata": {},
   "outputs": [],
   "source": [
    "histvol = Position_Reporting(positions, 'RGGI', current_date).rolling_vol()\n",
    "\n",
    "fig = go.Figure()\n",
    "for i in list(histvol)[1:]:\n",
    "    fig.add_trace(go.Scatter(x=histvol['Date'], y=histvol[i], name=i))#, base=0))\n",
    "    \n",
    "fig.show()"
   ]
  }
 ],
 "metadata": {
  "kernelspec": {
   "display_name": "Python 3 (ipykernel)",
   "language": "python",
   "name": "python3"
  },
  "language_info": {
   "codemirror_mode": {
    "name": "ipython",
    "version": 3
   },
   "file_extension": ".py",
   "mimetype": "text/x-python",
   "name": "python",
   "nbconvert_exporter": "python",
   "pygments_lexer": "ipython3",
   "version": "3.12.3"
  },
  "toc": {
   "base_numbering": 1,
   "nav_menu": {},
   "number_sections": true,
   "sideBar": true,
   "skip_h1_title": false,
   "title_cell": "Table of Contents",
   "title_sidebar": "Contents",
   "toc_cell": false,
   "toc_position": {},
   "toc_section_display": true,
   "toc_window_display": false
  },
  "varInspector": {
   "cols": {
    "lenName": 16,
    "lenType": 16,
    "lenVar": 40
   },
   "kernels_config": {
    "python": {
     "delete_cmd_postfix": "",
     "delete_cmd_prefix": "del ",
     "library": "var_list.py",
     "varRefreshCmd": "print(var_dic_list())"
    },
    "r": {
     "delete_cmd_postfix": ") ",
     "delete_cmd_prefix": "rm(",
     "library": "var_list.r",
     "varRefreshCmd": "cat(var_dic_list()) "
    }
   },
   "types_to_exclude": [
    "module",
    "function",
    "builtin_function_or_method",
    "instance",
    "_Feature"
   ],
   "window_display": false
  }
 },
 "nbformat": 4,
 "nbformat_minor": 5
}
