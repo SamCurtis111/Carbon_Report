{
 "cells": [
  {
   "cell_type": "code",
   "execution_count": 1,
   "id": "bba20152",
   "metadata": {},
   "outputs": [],
   "source": [
    "import warnings\n",
    "warnings.filterwarnings('ignore', category=RuntimeWarning)\n",
    "\n",
    "import pandas as pd\n",
    "import plotly.graph_objects as go\n",
    "from plotly.subplots import make_subplots\n",
    "import plotly\n",
    "\n",
    "import datetime as dt\n",
    "import calendar\n",
    "\n",
    "import openpyxl\n",
    "from openpyxl.utils.dataframe import dataframe_to_rows\n",
    "\n",
    "from Position_Report_Calcs import Position_Reporting"
   ]
  },
  {
   "cell_type": "code",
   "execution_count": 2,
   "id": "9b481c4e",
   "metadata": {},
   "outputs": [
    {
     "data": {
      "text/html": [
       "        <script type=\"text/javascript\">\n",
       "        window.PlotlyConfig = {MathJaxConfig: 'local'};\n",
       "        if (window.MathJax && window.MathJax.Hub && window.MathJax.Hub.Config) {window.MathJax.Hub.Config({SVG: {font: \"STIX-Web\"}});}\n",
       "        if (typeof require !== 'undefined') {\n",
       "        require.undef(\"plotly\");\n",
       "        requirejs.config({\n",
       "            paths: {\n",
       "                'plotly': ['https://cdn.plot.ly/plotly-2.12.1.min']\n",
       "            }\n",
       "        });\n",
       "        require(['plotly'], function(Plotly) {\n",
       "            window._Plotly = Plotly;\n",
       "        });\n",
       "        }\n",
       "        </script>\n",
       "        "
      ]
     },
     "metadata": {},
     "output_type": "display_data"
    }
   ],
   "source": [
    "plotly.offline.init_notebook_mode(connected=True)"
   ]
  },
  {
   "cell_type": "code",
   "execution_count": 3,
   "id": "3ca5488c",
   "metadata": {},
   "outputs": [],
   "source": [
    "## Read in the position data\n",
    "mkts = ['ACCU','NZU','EUA','OTHER']\n",
    "\n",
    "positions = dict()\n",
    "for m in mkts:\n",
    "    positions[m] = pd.read_excel('Positions.xlsx', sheet_name=m)\n",
    "    positions[m]['Expiry'] = pd.to_datetime(positions[m].Expiry).dt.date\n",
    "\n",
    "premiums = pd.read_excel('Positions.xlsx', sheet_name='Index') "
   ]
  },
  {
   "cell_type": "code",
   "execution_count": 4,
   "id": "557de5c9",
   "metadata": {},
   "outputs": [],
   "source": [
    "## Define the dates we want to use for reporting\n",
    "current_date = dt.datetime.today().date()\n",
    "current_year = str(dt.datetime.today().date().year)\n",
    "\n",
    "_, last_day = calendar.monthrange(current_date.year, current_date.month)\n",
    "end_of_month = dt.date(current_date.year, current_date.month, last_day)\n",
    "\n",
    "one_month = current_date + dt.timedelta(days=1*30)\n",
    "\n",
    "three_months = current_date + dt.timedelta(days=3*30)\n",
    "\n",
    "six_months = current_date + dt.timedelta(days=6*30)\n",
    "\n",
    "eoy = '10-12-{}'.format(current_year)\n",
    "end_of_year = dt.datetime.strptime(eoy, '%d-%m-%Y').date()\n",
    "\n",
    "one_year = current_date + dt.timedelta(days=365)\n",
    "\n",
    "end_of_may = dt.datetime.strptime('31-05-2024', '%d-%m-%Y').date()\n",
    "\n",
    "june_expiry = dt.datetime.strptime('15-06-2024', '%d-%m-%Y').date()\n",
    "\n",
    "dates_names = ['today','EoM','3 months','6 months','EoY','OneYear','End of May', 'Mid June']\n",
    "dates_values = [current_date, end_of_month, three_months, six_months, end_of_year, one_year,end_of_may,june_expiry]"
   ]
  },
  {
   "cell_type": "code",
   "execution_count": 5,
   "id": "d56c3bd8",
   "metadata": {},
   "outputs": [],
   "source": [
    "dates = dict()\n",
    "for i in list(range(0,len(dates_names))):\n",
    "    dates[dates_names[i]] = dates_values[i]"
   ]
  },
  {
   "cell_type": "code",
   "execution_count": 6,
   "id": "c9bcfcb0",
   "metadata": {},
   "outputs": [],
   "source": [
    "current_spot = positions['OTHER']\n",
    "current_spot = current_spot[current_spot.Type=='Spot'].reset_index(drop=True)\n",
    "current_spot = current_spot['Price'][0]"
   ]
  },
  {
   "cell_type": "markdown",
   "id": "756bb0ec",
   "metadata": {},
   "source": [
    "# OTHER Position Report\n",
    "All PnL figures are in AUD"
   ]
  },
  {
   "cell_type": "code",
   "execution_count": 7,
   "id": "659c3281",
   "metadata": {},
   "outputs": [],
   "source": [
    "other = dict()\n",
    "workbook = openpyxl.Workbook()\n",
    "\n",
    "for i,d in enumerate(dates_values):\n",
    "    other[d] = Position_Reporting(positions, 'OTHER', d).combine_frame()\n",
    "    \n",
    "    sheet_name = dates_names[i]\n",
    "    sheet = workbook.create_sheet(title=sheet_name)\n",
    "    \n",
    "    for row in dataframe_to_rows(other[d][0], index=False, header=True):\n",
    "        sheet.append(row)\n",
    "    \n",
    "workbook.save('Other PnL Output.xlsx')    "
   ]
  },
  {
   "cell_type": "code",
   "execution_count": 8,
   "id": "fb9d8c7f",
   "metadata": {},
   "outputs": [],
   "source": [
    "# data type; 0=PnL, 1=Delta, 2=Option Theta, 3=Option Vega\n",
    "def generate_summary_plots(mkt_data, data_type):\n",
    "    if data_type==0:\n",
    "        colname='Total_Pnl'\n",
    "    elif data_type==1:\n",
    "        colname='Total_Delta'\n",
    "    elif data_type==2:\n",
    "        colname='Option_Theta'\n",
    "    elif data_type==3:\n",
    "        colname='Option_Vega'\n",
    "    fig = go.Figure()\n",
    "    for i in list(range(0, len(dates_names))):\n",
    "        date_value = dates_values[i]\n",
    "        date_name = dates_names[i]\n",
    "        fig.add_trace(go.Scatter(x=mkt_data[date_value][data_type].Price, y=mkt_data[date_value][data_type][colname], name=date_name))\n",
    "    return fig"
   ]
  },
  {
   "cell_type": "code",
   "execution_count": 9,
   "id": "4708cc1d",
   "metadata": {},
   "outputs": [],
   "source": [
    "#fig_d = generate_summary_plots(other, 1)\n",
    "#fig_p = generate_summary_plots(other, 0)\n",
    "#fig_t = generate_summary_plots(other,2)\n",
    "#fig_v = generate_summary_plots(other,3)"
   ]
  },
  {
   "cell_type": "code",
   "execution_count": 10,
   "id": "ff94b9f0",
   "metadata": {},
   "outputs": [],
   "source": [
    "#fig = make_subplots(rows=1, cols=2)\n",
    "#for i in range(0,len(fig_d.data)):\n",
    "#    fig.add_trace(fig_p.data[i], row=1, col=1)\n",
    "#    fig.add_trace(fig_d.data[i], row=1, col=2)\n",
    "#\n",
    "#fig.update_layout(title={'text': 'OTHER Position (PnL and Delta)','x': 0.5,'xanchor': 'center'})\n",
    "#\n",
    "#fig.update_xaxes(title_text=\"Price\", row=1, col=1)\n",
    "#fig.update_yaxes(title_text=\"PnL\", row=1, col=1)\n",
    "#fig.update_xaxes(title_text=\"Price\", row=1, col=2)\n",
    "#fig.update_yaxes(title_text=\"Delta\", row=1, col=2)\n",
    "#\n",
    "#fig.add_vline(x=current_spot, line_width=1, line_dash=\"dash\", line_color=\"green\")\n",
    "#\n",
    "#fig.show()"
   ]
  },
  {
   "cell_type": "code",
   "execution_count": 11,
   "id": "795643ae",
   "metadata": {},
   "outputs": [],
   "source": [
    "#fig = make_subplots(rows=1, cols=2)\n",
    "#for i in range(0,len(fig_d.data)):\n",
    "#    fig.add_trace(fig_t.data[i], row=1, col=1)\n",
    "#    fig.add_trace(fig_v.data[i], row=1, col=2)\n",
    "#\n",
    "#fig.update_layout(title={'text': 'OTHER Position (Theta and Vega)','x': 0.5,'xanchor': 'center'})\n",
    "#\n",
    "#fig.update_xaxes(title_text=\"Price\", row=1, col=1)\n",
    "#fig.update_yaxes(title_text=\"Theta\", row=1, col=1)\n",
    "#fig.update_xaxes(title_text=\"Price\", row=1, col=2)\n",
    "#fig.update_yaxes(title_text=\"Vega\", row=1, col=2)\n",
    "#fig.show()"
   ]
  },
  {
   "cell_type": "code",
   "execution_count": 12,
   "id": "c201f2c6",
   "metadata": {},
   "outputs": [],
   "source": [
    "## USE THIS STYLE OF GRAPHING FOR TODAY DATE ENTRY ##\n",
    "#position_functions = Position_Reporting(positions, 'OTHER', current_date)\n",
    "#pnl, delta, theta, vega, value = position_functions.combine_frame()\n",
    "#\n",
    "#fig_d = go.Figure()\n",
    "#\n",
    "#fig_d.add_trace(go.Bar(x=delta.Price, y=delta.Spot, name='Spot', base=0))\n",
    "#fig_d.add_trace(go.Bar(x=delta.Price, y=delta.Fwds, name='Fwds', base=0))\n",
    "#fig_d.add_trace(go.Bar(x=delta.Price, y=delta.Options, name='Options', base=0))\n",
    "#fig_d.add_trace(go.Scatter(x=delta.Price, y=delta.Total_Delta, mode='lines', name='Total_Delta'))\n",
    "#\n",
    "#\n",
    "##~~~~~~~~~~~~~~~~~~~~~~~~~~~~~~~~~\n",
    "#fig_p = go.Figure()\n",
    "#\n",
    "#fig_p.add_trace(go.Bar(x=pnl.Price, y=pnl.Spot, name='Spot', base=0))\n",
    "#fig_p.add_trace(go.Bar(x=pnl.Price, y=pnl.Fwds, name='Fwds', base=0))\n",
    "#fig_p.add_trace(go.Bar(x=pnl.Price, y=pnl.Options, name='Options', base=0))\n",
    "#fig_p.add_trace(go.Scatter(x=pnl.Price, y=pnl.Total_Pnl, mode='lines', name='Total_PnL'))\n",
    "#\n",
    "#\n",
    "##~~~~~~~~~~~~~~~~~~~~~~~~~~~~~~~\n",
    "#fig = make_subplots(rows=1, cols=2)\n",
    "#for i in range(0,len(fig_d.data)):\n",
    "#    fig.add_trace(fig_d.data[i], row=1, col=2)\n",
    "#    fig.add_trace(fig_p.data[i], row=1, col=1)\n",
    "#    \n",
    "#fig.update_layout(title={'text': 'Todays OTHER Pos (PnL and Delta)','x': 0.5,'xanchor': 'center'}, barmode='stack')\n",
    "#\n",
    "#fig.update_xaxes(title_text=\"Price\", row=1, col=1)\n",
    "#fig.update_yaxes(title_text=\"Pnl\", row=1, col=1)\n",
    "#fig.update_xaxes(title_text=\"Price\", row=1, col=2)\n",
    "#fig.update_yaxes(title_text=\"Delta\", row=1, col=2)    \n",
    "#fig.show()  "
   ]
  },
  {
   "cell_type": "markdown",
   "id": "d2ae8345",
   "metadata": {},
   "source": [
    "### Positions"
   ]
  },
  {
   "cell_type": "code",
   "execution_count": 9,
   "id": "7cc76593",
   "metadata": {},
   "outputs": [
    {
     "data": {
      "text/html": [
       "<div>\n",
       "<style scoped>\n",
       "    .dataframe tbody tr th:only-of-type {\n",
       "        vertical-align: middle;\n",
       "    }\n",
       "\n",
       "    .dataframe tbody tr th {\n",
       "        vertical-align: top;\n",
       "    }\n",
       "\n",
       "    .dataframe thead th {\n",
       "        text-align: right;\n",
       "    }\n",
       "</style>\n",
       "<table border=\"1\" class=\"dataframe\">\n",
       "  <thead>\n",
       "    <tr style=\"text-align: right;\">\n",
       "      <th></th>\n",
       "      <th>Name</th>\n",
       "      <th>Type</th>\n",
       "      <th>Subtype</th>\n",
       "      <th>Strike</th>\n",
       "      <th>Vol</th>\n",
       "      <th>Expiry</th>\n",
       "      <th>Qty</th>\n",
       "      <th>Price</th>\n",
       "      <th>Rate</th>\n",
       "      <th>FX</th>\n",
       "    </tr>\n",
       "  </thead>\n",
       "  <tbody>\n",
       "    <tr>\n",
       "      <th>0</th>\n",
       "      <td>EUA Dec24</td>\n",
       "      <td>Spot</td>\n",
       "      <td>NaN</td>\n",
       "      <td>NaN</td>\n",
       "      <td>NaN</td>\n",
       "      <td>NaT</td>\n",
       "      <td>0</td>\n",
       "      <td>67.820000</td>\n",
       "      <td>0.03683</td>\n",
       "      <td>1.64208</td>\n",
       "    </tr>\n",
       "    <tr>\n",
       "      <th>1</th>\n",
       "      <td>EUA Sep24 65C</td>\n",
       "      <td>Option</td>\n",
       "      <td>Call</td>\n",
       "      <td>65.0</td>\n",
       "      <td>0.441393</td>\n",
       "      <td>2024-09-25</td>\n",
       "      <td>-25000</td>\n",
       "      <td>8.725379</td>\n",
       "      <td>0.03683</td>\n",
       "      <td>1.64208</td>\n",
       "    </tr>\n",
       "    <tr>\n",
       "      <th>2</th>\n",
       "      <td>EUA Sep24 85C</td>\n",
       "      <td>Option</td>\n",
       "      <td>Call</td>\n",
       "      <td>85.0</td>\n",
       "      <td>0.424787</td>\n",
       "      <td>2024-09-25</td>\n",
       "      <td>-25000</td>\n",
       "      <td>2.227159</td>\n",
       "      <td>0.03683</td>\n",
       "      <td>1.64208</td>\n",
       "    </tr>\n",
       "    <tr>\n",
       "      <th>3</th>\n",
       "      <td>EUA Dec24 65C</td>\n",
       "      <td>Option</td>\n",
       "      <td>Call</td>\n",
       "      <td>65.0</td>\n",
       "      <td>0.443710</td>\n",
       "      <td>2024-12-16</td>\n",
       "      <td>50000</td>\n",
       "      <td>10.467722</td>\n",
       "      <td>0.03683</td>\n",
       "      <td>1.64208</td>\n",
       "    </tr>\n",
       "    <tr>\n",
       "      <th>4</th>\n",
       "      <td>EUA Dec24 75C</td>\n",
       "      <td>Option</td>\n",
       "      <td>Call</td>\n",
       "      <td>75.0</td>\n",
       "      <td>0.427567</td>\n",
       "      <td>2024-12-16</td>\n",
       "      <td>-25000</td>\n",
       "      <td>6.253707</td>\n",
       "      <td>0.03683</td>\n",
       "      <td>1.64208</td>\n",
       "    </tr>\n",
       "    <tr>\n",
       "      <th>5</th>\n",
       "      <td>EUA Dec24 50P</td>\n",
       "      <td>Option</td>\n",
       "      <td>Put</td>\n",
       "      <td>50.0</td>\n",
       "      <td>0.483594</td>\n",
       "      <td>2024-12-16</td>\n",
       "      <td>-50000</td>\n",
       "      <td>2.591206</td>\n",
       "      <td>0.03683</td>\n",
       "      <td>1.64208</td>\n",
       "    </tr>\n",
       "  </tbody>\n",
       "</table>\n",
       "</div>"
      ],
      "text/plain": [
       "            Name    Type Subtype  Strike       Vol      Expiry    Qty  \\\n",
       "0      EUA Dec24    Spot     NaN     NaN       NaN         NaT      0   \n",
       "1  EUA Sep24 65C  Option    Call    65.0  0.441393  2024-09-25 -25000   \n",
       "2  EUA Sep24 85C  Option    Call    85.0  0.424787  2024-09-25 -25000   \n",
       "3  EUA Dec24 65C  Option    Call    65.0  0.443710  2024-12-16  50000   \n",
       "4  EUA Dec24 75C  Option    Call    75.0  0.427567  2024-12-16 -25000   \n",
       "5  EUA Dec24 50P  Option     Put    50.0  0.483594  2024-12-16 -50000   \n",
       "\n",
       "       Price     Rate       FX  \n",
       "0  67.820000  0.03683  1.64208  \n",
       "1   8.725379  0.03683  1.64208  \n",
       "2   2.227159  0.03683  1.64208  \n",
       "3  10.467722  0.03683  1.64208  \n",
       "4   6.253707  0.03683  1.64208  \n",
       "5   2.591206  0.03683  1.64208  "
      ]
     },
     "execution_count": 9,
     "metadata": {},
     "output_type": "execute_result"
    }
   ],
   "source": [
    "positions['OTHER']"
   ]
  },
  {
   "cell_type": "code",
   "execution_count": 10,
   "id": "e2a919b9",
   "metadata": {},
   "outputs": [],
   "source": [
    "# Options for timing are: [current_date, end_of_month, one_month, three_months, six_months, end_of_year, end_of_feb, march_expiry]\n",
    "\n",
    "def pnl_delta_plot(timing):\n",
    "    position_functions = Position_Reporting(positions, 'OTHER', timing)\n",
    "    p,d,t,v, value = position_functions.options()\n",
    "    fig_p = go.Figure()\n",
    "    for i in list(p)[1:-1]:\n",
    "        fig_p.add_trace(go.Scatter(x=p.Price, y=p[i], name=i))\n",
    "\n",
    "    fig_p.add_trace(go.Scatter(x=p.Price, y=p.Option_Pnl, mode='lines', name='Total_PnL'))\n",
    "\n",
    "    #fig_p.update_layout(title='Option PnL Today', xaxis_title='Price', yaxis_title='pnl', barmode='stack')\n",
    "    #fig_p.show()\n",
    "\n",
    "    #~~~~~~~~~~~~~~~~~~~~~~~~~~~~~~~~~~~~~~~~~~~~~~~~~~~~~~~~~~~~~~~~~~~~~~~~~~~~~~~~~\n",
    "    fig_d = go.Figure()\n",
    "    for i in list(d)[1:-1]:\n",
    "        fig_d.add_trace(go.Scatter(x=d.Price, y=d[i], name=i))\n",
    "\n",
    "    fig_d.add_trace(go.Scatter(x=d.Price, y=d.Option_Delta, mode='lines', name='Total_Delta'))\n",
    "\n",
    "    #~~~~~~~~~~~~~~~~~~~~~~~~~~~~~~~~~~~~~~~~~~~~~~~~~~~~~~~~~~~~~~~~~~~~~~~~~~~~~~~~\n",
    "    fig = make_subplots(rows=1, cols=2)\n",
    "    for i in range(0,len(fig_p.data)):\n",
    "        fig.add_trace(fig_p.data[i], row=1, col=1)\n",
    "        fig.add_trace(fig_d.data[i], row=1, col=2)\n",
    "\n",
    "    fig.update_layout(title={'text': 'Todays Option Pos (PnL and Delta)','x': 0.5,'xanchor': 'center'}, barmode='stack')\n",
    "\n",
    "    fig.update_xaxes(title_text=\"Price\", row=1, col=1)\n",
    "    fig.update_yaxes(title_text=\"Pnl\", row=1, col=1)\n",
    "    fig.update_xaxes(title_text=\"Price\", row=1, col=2)\n",
    "    fig.update_yaxes(title_text=\"Delta\", row=1, col=2)    \n",
    "    fig.show()  "
   ]
  },
  {
   "cell_type": "markdown",
   "id": "614a4b0f",
   "metadata": {},
   "source": [
    "## Current Date"
   ]
  },
  {
   "cell_type": "code",
   "execution_count": 11,
   "id": "8fab91a0",
   "metadata": {},
   "outputs": [
    {
     "data": {
      "application/vnd.plotly.v1+json": {
       "config": {
        "plotlyServerURL": "https://plot.ly"
       },
       "data": [
        {
         "name": "EUA Sep24 65C",
         "type": "scatter",
         "x": [
          30,
          31,
          32,
          33,
          34,
          35,
          36,
          37,
          38,
          39,
          40,
          41,
          42,
          43,
          44,
          45,
          46,
          47,
          48,
          49,
          50,
          51,
          52,
          53,
          54,
          55,
          56,
          57,
          58,
          59,
          60,
          61,
          62,
          63,
          64,
          65,
          66,
          67,
          68,
          69,
          70,
          71,
          72,
          73,
          74,
          75,
          76,
          77,
          78,
          79,
          80,
          81,
          82,
          83,
          84,
          85,
          86,
          87,
          88,
          89,
          90,
          91,
          92,
          93,
          94,
          95,
          96,
          97,
          98,
          99,
          100
         ],
         "xaxis": "x",
         "y": [
          357777.72610172577,
          357571.7829151781,
          357286.1661968873,
          356898.57011188316,
          356383.00884643116,
          355709.78828617523,
          354845.58400353114,
          353753.6264007898,
          352393.9887430333,
          350723.9692461435,
          348698.55460158753,
          346270.9494710417,
          343393.1546322493,
          340016.575588265,
          336092.6434896399,
          331573.4310432953,
          326412.2475456233,
          320564.1991213214,
          313986.7025147552,
          306639.94321841974,
          298487.2712017417,
          289495.52991241653,
          279635.3164742969,
          268881.173035981,
          257211.71098996067,
          244609.67125989913,
          231061.92503636397,
          216559.42023546016,
          201097.0795769706,
          184673.65655285292,
          167291.5557121136,
          148956.62365562844,
          129677.91694655562,
          109467.45283007459,
          88339.9482499969,
          66312.55217644798,
          43404.57574255675,
          19637.224149729976,
          -4966.666241658064,
          -30382.88275211666,
          -56586.0807808027,
          -83550.01586999181,
          -111247.76199035434,
          -139651.91500623076,
          -168734.7806428737,
          -198468.54659732667,
          -228825.4387117624,
          -259777.86136423188,
          -291298.5224289814,
          -323360.54331955797,
          -355937.5547557756,
          -389003.7789935449,
          -422534.0993277652,
          -456504.1177262689,
          -490890.20148018654,
          -525669.5197662419,
          -560820.0710119379,
          -596320.7019381038,
          -632151.1191270165,
          -668291.8939304803,
          -704724.461492556,
          -741431.1146178452,
          -778394.9931695445,
          -815600.0696333178,
          -853031.1314341229,
          -890673.7605445428,
          -928514.3108754014,
          -966539.8838931409,
          -1004738.3028639418,
          -1043098.0860822405,
          -1081608.41940134
         ],
         "yaxis": "y"
        },
        {
         "name": "EUA Sep24 65C",
         "type": "scatter",
         "x": [
          30,
          31,
          32,
          33,
          34,
          35,
          36,
          37,
          38,
          39,
          40,
          41,
          42,
          43,
          44,
          45,
          46,
          47,
          48,
          49,
          50,
          51,
          52,
          53,
          54,
          55,
          56,
          57,
          58,
          59,
          60,
          61,
          62,
          63,
          64,
          65,
          66,
          67,
          68,
          69,
          70,
          71,
          72,
          73,
          74,
          75,
          76,
          77,
          78,
          79,
          80,
          81,
          82,
          83,
          84,
          85,
          86,
          87,
          88,
          89,
          90,
          91,
          92,
          93,
          94,
          95,
          96,
          97,
          98,
          99,
          100
         ],
         "xaxis": "x2",
         "y": [
          -106.9960193014301,
          -150.1894768762409,
          -206.07766456395504,
          -276.9074728459273,
          -364.97467199091705,
          -472.55945265584336,
          -601.8598254664444,
          -754.9261483383038,
          -933.5998051550833,
          -1139.4586371394278,
          -1373.7711852477453,
          -1637.4611947116432,
          -1931.083212844448,
          -2254.80952130494,
          -2608.4281167433055,
          -2991.351011061949,
          -3402.631776319588,
          -3840.9910128528304,
          -4304.848268810329,
          -4792.35887621171,
          -5301.454180727955,
          -5829.883715707089,
          -6375.257991107255,
          -6935.090721001386,
          -7506.839486430445,
          -8087.944012496143,
          -8675.861420466463,
          -9268.097990021768,
          -9862.237128166267,
          -10455.96338604827,
          -11047.082490746434,
          -11633.537465017525,
          -12213.420994102476,
          -12784.98426576499,
          -13346.642559164415,
          -13896.97789168754,
          -14434.739052441819,
          -14958.8393587901,
          -15468.352470113277,
          -15962.506582860078,
          -16440.67731467913,
          -16902.3795646447,
          -17347.258612708836,
          -17775.08069576139,
          -18185.723271080213,
          -18579.165151345893,
          -18955.476669440675,
          -19314.810006461554,
          -19657.38979312217,
          -19983.50407325294,
          -20293.495698587532,
          -20587.75420651874,
          -20866.708217025396,
          -21130.818371467787,
          -21380.570824339222,
          -21616.471289231882,
          -21839.03963209579,
          -22048.804998196116,
          -22246.301453858534,
          -22432.064119986055,
          -22606.625771287458,
          -22770.513873038926,
          -22924.24802587481,
          -23068.337788449684,
          -23203.280847720325,
          -23329.561506963124,
          -23447.649462379348,
          -23557.99884016853,
          -23661.04746719967,
          -23757.216349820752,
          -23846.90933686769
         ],
         "yaxis": "y2"
        },
        {
         "name": "EUA Sep24 85C",
         "type": "scatter",
         "x": [
          30,
          31,
          32,
          33,
          34,
          35,
          36,
          37,
          38,
          39,
          40,
          41,
          42,
          43,
          44,
          45,
          46,
          47,
          48,
          49,
          50,
          51,
          52,
          53,
          54,
          55,
          56,
          57,
          58,
          59,
          60,
          61,
          62,
          63,
          64,
          65,
          66,
          67,
          68,
          69,
          70,
          71,
          72,
          73,
          74,
          75,
          76,
          77,
          78,
          79,
          80,
          81,
          82,
          83,
          84,
          85,
          86,
          87,
          88,
          89,
          90,
          91,
          92,
          93,
          94,
          95,
          96,
          97,
          98,
          99,
          100
         ],
         "xaxis": "x",
         "y": [
          91422.65113336351,
          91417.90646212436,
          91410.36687656108,
          91398.70934048979,
          91381.13485237461,
          91355.25360708637,
          91317.95897424738,
          91265.29304131592,
          91192.30720784029,
          91092.921914571,
          90959.79000633344,
          90784.16843387941,
          90555.80298582108,
          90262.83051070082,
          89891.70265825505,
          89427.13456603368,
          88852.0811788682,
          88147.74305526723,
          87293.60262948662,
          86267.49100261928,
          85045.68446914169,
          83603.02918044882,
          81913.09163130593,
          79948.33204928863,
          77680.29728466099,
          75079.82944554085,
          72117.28630134262,
          68762.76938180621,
          64986.355720559266,
          60758.32931894467,
          56049.408623307776,
          50830.96660122611,
          45075.240352865534,
          38755.52758660842,
          31846.367707768793,
          24323.705701434326,
          16165.037422457772,
          7349.535326406813,
          -2141.845924302002,
          -12326.284172115766,
          -23219.02464743162,
          -34833.33457410469,
          -47180.47678536292,
          -60269.701415390446,
          -74108.25454929801,
          -88701.40257065708,
          -104052.47083930267,
          -120162.89526017975,
          -137032.28526362815,
          -154658.49670542614,
          -173037.71320774092,
          -192164.53449638814,
          -212032.0703420908,
          -232632.03878046566,
          -253954.86736416898,
          -275989.7962880651,
          -298724.98232190614,
          -322147.6025824104,
          -346243.957275709,
          -370999.5706401829,
          -396399.28941708116,
          -422427.3782708415,
          -449067.6116715768,
          -476303.3618380539,
          -504117.6824199364,
          -532493.3876727845,
          -561413.12694792,
          -590859.4543817439,
          -620814.8937253268,
          -651261.9983052459,
          -682183.4061508168
         ],
         "yaxis": "y"
        },
        {
         "name": "EUA Sep24 85C",
         "type": "scatter",
         "x": [
          30,
          31,
          32,
          33,
          34,
          35,
          36,
          37,
          38,
          39,
          40,
          41,
          42,
          43,
          44,
          45,
          46,
          47,
          48,
          49,
          50,
          51,
          52,
          53,
          54,
          55,
          56,
          57,
          58,
          59,
          60,
          61,
          62,
          63,
          64,
          65,
          66,
          67,
          68,
          69,
          70,
          71,
          72,
          73,
          74,
          75,
          76,
          77,
          78,
          79,
          80,
          81,
          82,
          83,
          84,
          85,
          86,
          87,
          88,
          89,
          90,
          91,
          92,
          93,
          94,
          95,
          96,
          97,
          98,
          99,
          100
         ],
         "xaxis": "x2",
         "y": [
          -2.2894940186404513,
          -3.694964546607358,
          -5.794961240824767,
          -8.851515901239736,
          -13.193877200277257,
          -19.22610364255187,
          -27.433200668661552,
          -38.385311972314945,
          -52.73954748464662,
          -71.23913210866517,
          -94.70968205942557,
          -124.05255027722157,
          -160.23531928744643,
          -204.27965014513256,
          -257.2468120589432,
          -320.2213129901343,
          -394.2931229620945,
          -480.53902696329015,
          -580.0036629872825,
          -693.6807943213603,
          -822.4953363254504,
          -967.28661019409,
          -1128.793233673405,
          -1307.6399857393164,
          -1504.3269030991164,
          -1719.2207850353177,
          -1952.5492030964624,
          -2204.397036421152,
          -2474.705484411491,
          -2763.273447775455,
          -3069.7611177587346,
          -3393.695572259267,
          -3734.4781465546985,
          -4091.393325266597,
          -4463.618890308382,
          -4850.237056054123,
          -5250.246326799228,
          -5662.5738216472,
          -6086.087827101723,
          -6519.610356738539,
          -6961.929519300469,
          -7411.811520406057,
          -7868.012147896707,
          -8329.28761589105,
          -8794.404667209565,
          -9262.14985744043,
          -9731.337966112756,
          -10200.819500911724,
          -10669.487279390207,
          -11136.282089072618,
          -11600.19744114956,
          -12060.283445131723,
          -12515.649841924995,
          -12965.46824090153,
          -13408.973612802796,
          -13845.465094867084,
          -14274.306167591547,
          -14694.924264185844,
          -15106.80987422421,
          -15509.515202425264,
          -15902.652442046083,
          -16285.891720224921,
          -16658.958769887722,
          -17021.632379678602,
          -17373.741669902534,
          -17715.163238783425,
          -18045.81821953582,
          -18365.669284900923,
          -18674.717631976106,
          -18972.999976425952,
          -19260.585581547515
         ],
         "yaxis": "y2"
        },
        {
         "name": "EUA Dec24 65C",
         "type": "scatter",
         "x": [
          30,
          31,
          32,
          33,
          34,
          35,
          36,
          37,
          38,
          39,
          40,
          41,
          42,
          43,
          44,
          45,
          46,
          47,
          48,
          49,
          50,
          51,
          52,
          53,
          54,
          55,
          56,
          57,
          58,
          59,
          60,
          61,
          62,
          63,
          64,
          65,
          66,
          67,
          68,
          69,
          70,
          71,
          72,
          73,
          74,
          75,
          76,
          77,
          78,
          79,
          80,
          81,
          82,
          83,
          84,
          85,
          86,
          87,
          88,
          89,
          90,
          91,
          92,
          93,
          94,
          95,
          96,
          97,
          98,
          99,
          100
         ],
         "xaxis": "x",
         "y": [
          -853525.4864907414,
          -851619.4101473095,
          -849261.0028792707,
          -846382.6997383306,
          -842914.0154037169,
          -838782.3274476614,
          -833913.6920520915,
          -828233.6693337265,
          -821668.1374008887,
          -814144.0767724717,
          -805590.3096269873,
          -795938.1813340335,
          -785122.1747000304,
          -773080.4502152706,
          -759755.3082319117,
          -745093.5713725592,
          -729046.8875307688,
          -711571.9555630445,
          -692630.6771873794,
          -672190.2397093158,
          -650223.1350147434,
          -626707.1208268706,
          -601625.1305539614,
          -574965.1381867835,
          -546719.9846722471,
          -516887.17202306667,
          -485468.63115088874,
          -452470.46905799455,
          -417902.700613277,
          -381778.9696914786,
          -344116.2639875908,
          -304934.62734478264,
          -264256.87296566844,
          -222108.30042213414,
          -178516.4189451429,
          -133510.67906800148,
          -87122.21431793204,
          -39383.59430345139,
          9671.409769774858,
          60008.04640440402,
          111590.79143851041,
          164383.54171435622,
          218349.79469946295,
          273452.814133719,
          329655.7819140543,
          386921.9365426476,
          445214.698557976,
          504497.7834422827,
          564735.3025564121,
          625891.8526952793,
          687932.5948865006,
          750823.3230725673,
          814530.5233250943,
          879021.4242394986,
          944264.0391513478,
          1010227.2008028853,
          1076880.5890706826,
          1144194.752344288,
          1212141.123121725,
          1280692.028361606,
          1349820.695104002,
          1419501.2518437866,
          1489708.7261111268,
          1560419.0386848047,
          1631608.994835281,
          1703256.27296607,
          1775339.4109946305,
          1847837.7907871674,
          1920731.620936358,
          1994001.9181464121,
          2067630.4874667688
         ],
         "yaxis": "y"
        },
        {
         "name": "EUA Dec24 65C",
         "type": "scatter",
         "x": [
          30,
          31,
          32,
          33,
          34,
          35,
          36,
          37,
          38,
          39,
          40,
          41,
          42,
          43,
          44,
          45,
          46,
          47,
          48,
          49,
          50,
          51,
          52,
          53,
          54,
          55,
          56,
          57,
          58,
          59,
          60,
          61,
          62,
          63,
          64,
          65,
          66,
          67,
          68,
          69,
          70,
          71,
          72,
          73,
          74,
          75,
          76,
          77,
          78,
          79,
          80,
          81,
          82,
          83,
          84,
          85,
          86,
          87,
          88,
          89,
          90,
          91,
          92,
          93,
          94,
          95,
          96,
          97,
          98,
          99,
          100
         ],
         "xaxis": "x2",
         "y": [
          1063.3384181127874,
          1325.4932895797526,
          1628.7502250915943,
          1975.15927069229,
          2366.2962004013843,
          2803.235026144534,
          3286.5352331255967,
          3816.242721518974,
          4391.903028760797,
          5012.585138730538,
          5676.914039752176,
          6383.1101537825425,
          7129.03380407271,
          7912.232997901767,
          8729.99295603297,
          9579.386004830814,
          10457.320646532711,
          11360.58882664622,
          12285.91061602873,
          13229.97571240666,
          14189.481337437248,
          15161.166258156674,
          16141.840794433452,
          17128.41278659399,
          18117.909590270738,
          19107.4962398928,
          20094.48997964291,
          21076.37140291759,
          22050.79247023403,
          23015.581693016517,
          23968.746778594985,
          24908.47503177219,
          25833.131802034077,
          26741.25725429667,
          27631.561726239863,
          28502.919917843334,
          29354.36413961795,
          30185.07682597534,
          30994.382499814856,
          31781.739354225807,
          32546.730597588896,
          33289.055689603345,
          34008.521578076725,
          34705.034029833194,
          35378.58913390948,
          36029.26504135518,
          36657.213993439516,
          37262.65467886368,
          37845.86495064124,
          38407.17492457475,
          38946.96047365135,
          39465.63712612451,
          39963.654369456526,
          40441.49035758381,
          40899.64701504813,
          41338.64552833123,
          41759.02221215724,
          42161.32473651479,
          42546.10869862809,
          42913.9345230092,
          43265.36467199495,
          43600.961148755814,
          43921.283274614034,
          44226.885722579544,
          44518.316789267425,
          44796.11688776418,
          45060.81724453324,
          45312.93878406535,
          45552.991185665225,
          45781.4720975009,
          45998.86649381198
         ],
         "yaxis": "y2"
        },
        {
         "name": "EUA Dec24 75C",
         "type": "scatter",
         "x": [
          30,
          31,
          32,
          33,
          34,
          35,
          36,
          37,
          38,
          39,
          40,
          41,
          42,
          43,
          44,
          45,
          46,
          47,
          48,
          49,
          50,
          51,
          52,
          53,
          54,
          55,
          56,
          57,
          58,
          59,
          60,
          61,
          62,
          63,
          64,
          65,
          66,
          67,
          68,
          69,
          70,
          71,
          72,
          73,
          74,
          75,
          76,
          77,
          78,
          79,
          80,
          81,
          82,
          83,
          84,
          85,
          86,
          87,
          88,
          89,
          90,
          91,
          92,
          93,
          94,
          95,
          96,
          97,
          98,
          99,
          100
         ],
         "xaxis": "x",
         "y": [
          256078.52372837721,
          255824.26984585047,
          255493.04466842997,
          255068.4423320325,
          254532.170919979,
          253864.10968025084,
          253042.4040627467,
          252043.5958369505,
          250842.78455384696,
          249413.815860722,
          247729.49166573584,
          245761.7968697458,
          243482.1373149212,
          240861.58371578448,
          237871.11660730204,
          234481.86773410632,
          230665.35378305244,
          226393.69889831656,
          221639.8429873723,
          216377.7334042438,
          210582.49816411413,
          204230.59938520388,
          197299.96615805183,
          189770.10650057343,
          181622.1984641668,
          172839.160808898,
          163405.70396384777,
          153308.3622331094,
          142535.5084011839,
          131077.35203707023,
          118925.9228983109,
          106075.04089917426,
          92520.27413577141,
          78258.88645995219,
          63289.77606794383,
          47613.406523264755,
          31231.731570576536,
          14148.115021562511,
          -3632.7530910000623,
          -22104.94298606287,
          -41261.373224176394,
          -61093.89950114327,
          -81593.40332848825,
          -102749.87987822191,
          -124552.52436074932,
          -146989.81639208779,
          -170049.60188912184,
          -193719.1721088834,
          -217985.33951949037,
          -242834.5102561968,
          -268252.7529759896,
          -294225.8639783151,
          -320739.42850799696,
          -347778.8781994023,
          -375329.5446587224,
          -403376.7092140544,
          -431905.6488912382,
          -460901.67869736184,
          -490350.1903138618,
          -520236.6873175807,
          -550546.8170612934,
          -581266.3993554289,
          -612381.452100307,
          -643878.2140234547,
          -675743.1646797676,
          -707963.0418736999,
          -740524.8566624847,
          -773415.9060979666,
          -806623.7838619659,
          -840136.3889466089,
          -873941.9325266995
         ],
         "yaxis": "y"
        },
        {
         "name": "EUA Dec24 75C",
         "type": "scatter",
         "x": [
          30,
          31,
          32,
          33,
          34,
          35,
          36,
          37,
          38,
          39,
          40,
          41,
          42,
          43,
          44,
          45,
          46,
          47,
          48,
          49,
          50,
          51,
          52,
          53,
          54,
          55,
          56,
          57,
          58,
          59,
          60,
          61,
          62,
          63,
          64,
          65,
          66,
          67,
          68,
          69,
          70,
          71,
          72,
          73,
          74,
          75,
          76,
          77,
          78,
          79,
          80,
          81,
          82,
          83,
          84,
          85,
          86,
          87,
          88,
          89,
          90,
          91,
          92,
          93,
          94,
          95,
          96,
          97,
          98,
          99,
          100
         ],
         "xaxis": "x2",
         "y": [
          -138.05078435171094,
          -181.43208939205905,
          -234.46660685323192,
          -298.3406563640354,
          -374.21670676016333,
          -463.2091604659242,
          -566.3615004603743,
          -684.6254932263539,
          -818.8429939176443,
          -969.7307468587213,
          -1137.868424668693,
          -1323.690009918309,
          -1527.4784993389799,
          -1749.363805343035,
          -1989.3236444697454,
          -2247.187137481138,
          -2522.640800301562,
          -2815.236577193851,
          -3124.4015553862496,
          -3449.4490014470457,
          -3789.5903716098355,
          -4143.947968602744,
          -4511.567944104903,
          -4891.433376738946,
          -5282.4771887596935,
          -5683.594698838399,
          -6093.655642359215,
          -6511.515523485526,
          -6936.026194198405,
          -7366.045584045086,
          -7800.446530129243,
          -8238.12467974551,
          -8678.00545794955,
          -9119.050109302416,
          -9560.260837148162,
          -10000.685075247498,
          -10439.418935603928,
          -10875.60988311368,
          -11308.458692488442,
          -11737.220745983792,
          -12161.20673205553,
          -12579.782805387913,
          -12992.370268005516,
          -13398.44482959035,
          -13797.535502855388,
          -14189.223187033418,
          -14573.138989366007,
          -14948.962331041927,
          -15316.418880442301,
          -15675.278352887597,
          -16025.352212422591,
          -16366.491307578306,
          -16698.58346956208,
          -17021.551097984404,
          -17335.34875606137,
          -17639.960794253744,
          -17935.39901852992,
          -18221.700416877535,
          -18498.924955338836,
          -18767.15345270656,
          -19026.485541084967,
          -19277.037717787818,
          -19518.941492501974,
          -19752.341632282223,
          -19977.394505748052,
          -20194.26652681508,
          -20403.132697400662,
          -20604.17524778274,
          -20797.582372651617,
          -20983.547060364937,
          -21162.266012484928
         ],
         "yaxis": "y2"
        },
        {
         "name": "EUA Dec24 50P",
         "type": "scatter",
         "x": [
          30,
          31,
          32,
          33,
          34,
          35,
          36,
          37,
          38,
          39,
          40,
          41,
          42,
          43,
          44,
          45,
          46,
          47,
          48,
          49,
          50,
          51,
          52,
          53,
          54,
          55,
          56,
          57,
          58,
          59,
          60,
          61,
          62,
          63,
          64,
          65,
          66,
          67,
          68,
          69,
          70,
          71,
          72,
          73,
          74,
          75,
          76,
          77,
          78,
          79,
          80,
          81,
          82,
          83,
          84,
          85,
          86,
          87,
          88,
          89,
          90,
          91,
          92,
          93,
          94,
          95,
          96,
          97,
          98,
          99,
          100
         ],
         "xaxis": "x",
         "y": [
          -1441363.772409816,
          -1371978.7208541778,
          -1304133.9706475586,
          -1237913.0467809672,
          -1173390.0237738683,
          -1110629.0576772832,
          -1049684.1422426852,
          -990599.0658706223,
          -933407.5436345243,
          -878133.4978133892,
          -824791.4606503418,
          -773387.0741963347,
          -723917.6638482871,
          -676372.8643357777,
          -630735.2792758109,
          -586981.1578631422,
          -545081.0746887699,
          -505000.6010045002,
          -466700.95792357955,
          -430139.6440324762,
          -395271.0316685426,
          -362046.9276860138,
          -330417.09589096706,
          -300329.73948327807,
          -271731.94281330635,
          -244570.0725587457,
          -218790.13906998612,
          -194338.1191379323,
          -171160.24182391813,
          -149203.239273572,
          -128414.56463079517,
          -108742.57928848264,
          -90136.7117720523,
          -72547.5905616424,
          -55927.15312890767,
          -40228.733403425875,
          -25407.129799211285,
          -11418.65583001362,
          1778.8247716656654,
          14225.876638290565,
          25961.483385533516,
          37023.04872328841,
          47446.40664292853,
          57265.839386536616,
          66514.1020216999,
          75222.45255803011,
          83420.6866480642,
          91137.17601527313,
          98398.90984522297,
          105231.53846251956,
          111659.41869598601,
          117705.66040779866,
          123392.1737291948,
          128739.7166062166,
          133767.94231403572,
          138495.4466480556,
          142939.81454460128,
          147117.6659239216,
          151044.70058375195,
          154735.74200327534,
          158204.77994518448,
          161465.0117681199,
          164528.88238324685,
          167408.1228075201,
          170113.78728245042,
          172656.2889412402,
          175045.4340192044,
          177290.45461265204,
          179400.04000007236,
          181382.36654672574,
          183245.12621974593
         ],
         "yaxis": "y"
        },
        {
         "name": "EUA Dec24 50P",
         "type": "scatter",
         "x": [
          30,
          31,
          32,
          33,
          34,
          35,
          36,
          37,
          38,
          39,
          40,
          41,
          42,
          43,
          44,
          45,
          46,
          47,
          48,
          49,
          50,
          51,
          52,
          53,
          54,
          55,
          56,
          57,
          58,
          59,
          60,
          61,
          62,
          63,
          64,
          65,
          66,
          67,
          68,
          69,
          70,
          71,
          72,
          73,
          74,
          75,
          76,
          77,
          78,
          79,
          80,
          81,
          82,
          83,
          84,
          85,
          86,
          87,
          88,
          89,
          90,
          91,
          92,
          93,
          94,
          95,
          96,
          97,
          98,
          99,
          100
         ],
         "xaxis": "x2",
         "y": [
          43687.72479487791,
          42754.64953677895,
          41766.73997422751,
          40729.7024872014,
          39649.6078100064,
          38532.74466454848,
          37385.48695949931,
          36214.176511260535,
          35025.022234193144,
          33824.01593907044,
          32616.86425815939,
          31408.93576312478,
          30205.22203470258,
          29010.311256393816,
          27828.37281470087,
          26663.151374035893,
          25517.96893632203,
          24395.733477241098,
          23298.952859612426,
          22229.752848695123,
          21189.89818582384,
          20180.81580929457,
          19203.619440120816,
          18259.134871913113,
          17347.925416574395,
          16470.317059529632,
          15626.42296928708,
          14816.167086244048,
          14039.306585148342,
          13295.453065109798,
          12584.092371282019,
          11904.60299415128,
          11256.273026658126,
          10638.31568701774,
          10049.883436942897,
          9490.08074180523,
          8957.975531832673,
          8452.609432400383,
          7973.006837428459,
          7518.182903382276,
          7087.1505428440505,
          6678.926496490268,
          6292.536560914208,
          5927.020047370035,
          5581.433543432102,
          5254.854045967893,
          4946.381529884447,
          4655.141012967656,
          4380.284172901511,
          4120.990568321681,
          3876.468511592546,
          3645.955636953424,
          3428.7192037968484,
          3224.0561711478044,
          3031.2930759261058,
          2849.7857443059493,
          2678.9188624421977,
          2518.105430011758,
          2366.7861174179848,
          2224.428545119156,
          2090.5265013607955,
          1964.5991126060858,
          1846.189979157753,
          1734.8662868373553,
          1630.2179041221887,
          1531.8564728241724,
          1439.4144992179392,
          1352.5444514752517,
          1270.9178683295686,
          1194.2244830676518,
          1122.171366214708
         ],
         "yaxis": "y2"
        },
        {
         "mode": "lines",
         "name": "Total_PnL",
         "type": "scatter",
         "x": [
          30,
          31,
          32,
          33,
          34,
          35,
          36,
          37,
          38,
          39,
          40,
          41,
          42,
          43,
          44,
          45,
          46,
          47,
          48,
          49,
          50,
          51,
          52,
          53,
          54,
          55,
          56,
          57,
          58,
          59,
          60,
          61,
          62,
          63,
          64,
          65,
          66,
          67,
          68,
          69,
          70,
          71,
          72,
          73,
          74,
          75,
          76,
          77,
          78,
          79,
          80,
          81,
          82,
          83,
          84,
          85,
          86,
          87,
          88,
          89,
          90,
          91,
          92,
          93,
          94,
          95,
          96,
          97,
          98,
          99,
          100
         ],
         "xaxis": "x",
         "y": [
          -1589610.3579370908,
          -1518784.1717783343,
          -1449205.3957849508,
          -1380930.0247348924,
          -1314007.7245588005,
          -1248482.2335514321,
          -1184391.8872542514,
          -1121770.2199252925,
          -1060646.6005306924,
          -1001046.8675644244,
          -942993.9340036723,
          -886508.3407557013,
          -831608.7436153258,
          -778312.3247362981,
          -726635.1247525257,
          -676592.2958922661,
          -628198.2797119947,
          -581466.9154926395,
          -536411.4869793449,
          -493044.71611650917,
          -451378.7128482885,
          -411424.8900348152,
          -373193.85218127375,
          -336695.2660842185,
          -301937.7207467649,
          -268928.5830674744,
          -237673.8549193205,
          -208178.0363455511,
          -180443.99873848134,
          -154472.87105618275,
          -130263.94138465369,
          -107814.57547723647,
          -87120.15330252818,
          -68174.02410714133,
          -50967.48004834106,
          -35489.74807028029,
          -21727.999381552265,
          -9667.375635765713,
          708.9692844803951,
          9419.813132399287,
          16485.796171633207,
          21929.340492404874,
          25774.55923818596,
          28047.15722041252,
          28774.32438283319,
          27984.623540606204,
          25707.873765853292,
          21975.030724260825,
          16818.065189535162,
          10269.840876617935,
          2363.9926429805055,
          -6865.193987882114,
          -17382.901123563875,
          -29153.893860421682,
          -42142.63203769439,
          -56313.377817420376,
          -71630.29860979834,
          -88057.56494966641,
          -105559.44301111047,
          -124100.38152336256,
          -143645.0929217441,
          -164158.62863220912,
          -185606.44844705454,
          -207954.48400250147,
          -231169.1964160953,
          -255217.628183717,
          -280067.44947197096,
          -305686.9989730321,
          -332045.31951480394,
          -359112.18864095735,
          -386858.1443923414
         ],
         "yaxis": "y"
        },
        {
         "mode": "lines",
         "name": "Total_Delta",
         "type": "scatter",
         "x": [
          30,
          31,
          32,
          33,
          34,
          35,
          36,
          37,
          38,
          39,
          40,
          41,
          42,
          43,
          44,
          45,
          46,
          47,
          48,
          49,
          50,
          51,
          52,
          53,
          54,
          55,
          56,
          57,
          58,
          59,
          60,
          61,
          62,
          63,
          64,
          65,
          66,
          67,
          68,
          69,
          70,
          71,
          72,
          73,
          74,
          75,
          76,
          77,
          78,
          79,
          80,
          81,
          82,
          83,
          84,
          85,
          86,
          87,
          88,
          89,
          90,
          91,
          92,
          93,
          94,
          95,
          96,
          97,
          98,
          99,
          100
         ],
         "xaxis": "x2",
         "y": [
          44503.72691531892,
          43744.82629554379,
          42949.150966661095,
          42120.76211278249,
          41263.518754456425,
          40380.984973928695,
          39476.36766602942,
          38552.48227924254,
          37611.742916396564,
          36656.17256169417,
          35687.4290059357,
          34706.842162000146,
          33715.458807304414,
          32714.091277502477,
          31703.367197461845,
          30683.777917333486,
          29655.723883271497,
          28619.555686877346,
          27575.609988457294,
          26524.23988912167,
          25465.839634597847,
          24400.86377294732,
          23329.841065668705,
          22253.383575027456,
          21172.191428555878,
          20087.05380305257,
          18998.846683007847,
          17908.52793923319,
          16817.130248606212,
          15725.752340257503,
          14635.54901124259,
          13547.720308901167,
          12463.500230085478,
          11384.14524098041,
          10310.9228765618,
          9245.100636659401,
          8187.935356605647,
          7140.663194824741,
          6104.490347539874,
          5080.584572025673,
          4070.0675743978154,
          3074.008295654944,
          2093.4171103798762,
          1129.240935960439,
          182.35923619641835,
          -746.4191084966678,
          -1656.358101595477,
          -2546.79614658387,
          -3417.146829411926,
          -4266.899022316727,
          -5095.616366915789,
          -5902.936196150837,
          -6688.5679552590955,
          -7452.291181622106,
          -8193.953102229147,
          -8913.465905715531,
          -9610.803743617824,
          -10285.999512732946,
          -10939.141467375499,
          -11570.369706989519,
          -12179.872581062767,
          -12767.883049689763,
          -13334.67503449272,
          -13880.559790993613,
          -14405.882329981296,
          -14911.017911973275,
          -15396.36863556465,
          -15862.360137311589,
          -16309.4384178326,
          -16738.066806043098,
          -17148.72307087345
         ],
         "yaxis": "y2"
        }
       ],
       "layout": {
        "barmode": "stack",
        "template": {
         "data": {
          "bar": [
           {
            "error_x": {
             "color": "#2a3f5f"
            },
            "error_y": {
             "color": "#2a3f5f"
            },
            "marker": {
             "line": {
              "color": "#E5ECF6",
              "width": 0.5
             },
             "pattern": {
              "fillmode": "overlay",
              "size": 10,
              "solidity": 0.2
             }
            },
            "type": "bar"
           }
          ],
          "barpolar": [
           {
            "marker": {
             "line": {
              "color": "#E5ECF6",
              "width": 0.5
             },
             "pattern": {
              "fillmode": "overlay",
              "size": 10,
              "solidity": 0.2
             }
            },
            "type": "barpolar"
           }
          ],
          "carpet": [
           {
            "aaxis": {
             "endlinecolor": "#2a3f5f",
             "gridcolor": "white",
             "linecolor": "white",
             "minorgridcolor": "white",
             "startlinecolor": "#2a3f5f"
            },
            "baxis": {
             "endlinecolor": "#2a3f5f",
             "gridcolor": "white",
             "linecolor": "white",
             "minorgridcolor": "white",
             "startlinecolor": "#2a3f5f"
            },
            "type": "carpet"
           }
          ],
          "choropleth": [
           {
            "colorbar": {
             "outlinewidth": 0,
             "ticks": ""
            },
            "type": "choropleth"
           }
          ],
          "contour": [
           {
            "colorbar": {
             "outlinewidth": 0,
             "ticks": ""
            },
            "colorscale": [
             [
              0,
              "#0d0887"
             ],
             [
              0.1111111111111111,
              "#46039f"
             ],
             [
              0.2222222222222222,
              "#7201a8"
             ],
             [
              0.3333333333333333,
              "#9c179e"
             ],
             [
              0.4444444444444444,
              "#bd3786"
             ],
             [
              0.5555555555555556,
              "#d8576b"
             ],
             [
              0.6666666666666666,
              "#ed7953"
             ],
             [
              0.7777777777777778,
              "#fb9f3a"
             ],
             [
              0.8888888888888888,
              "#fdca26"
             ],
             [
              1,
              "#f0f921"
             ]
            ],
            "type": "contour"
           }
          ],
          "contourcarpet": [
           {
            "colorbar": {
             "outlinewidth": 0,
             "ticks": ""
            },
            "type": "contourcarpet"
           }
          ],
          "heatmap": [
           {
            "colorbar": {
             "outlinewidth": 0,
             "ticks": ""
            },
            "colorscale": [
             [
              0,
              "#0d0887"
             ],
             [
              0.1111111111111111,
              "#46039f"
             ],
             [
              0.2222222222222222,
              "#7201a8"
             ],
             [
              0.3333333333333333,
              "#9c179e"
             ],
             [
              0.4444444444444444,
              "#bd3786"
             ],
             [
              0.5555555555555556,
              "#d8576b"
             ],
             [
              0.6666666666666666,
              "#ed7953"
             ],
             [
              0.7777777777777778,
              "#fb9f3a"
             ],
             [
              0.8888888888888888,
              "#fdca26"
             ],
             [
              1,
              "#f0f921"
             ]
            ],
            "type": "heatmap"
           }
          ],
          "heatmapgl": [
           {
            "colorbar": {
             "outlinewidth": 0,
             "ticks": ""
            },
            "colorscale": [
             [
              0,
              "#0d0887"
             ],
             [
              0.1111111111111111,
              "#46039f"
             ],
             [
              0.2222222222222222,
              "#7201a8"
             ],
             [
              0.3333333333333333,
              "#9c179e"
             ],
             [
              0.4444444444444444,
              "#bd3786"
             ],
             [
              0.5555555555555556,
              "#d8576b"
             ],
             [
              0.6666666666666666,
              "#ed7953"
             ],
             [
              0.7777777777777778,
              "#fb9f3a"
             ],
             [
              0.8888888888888888,
              "#fdca26"
             ],
             [
              1,
              "#f0f921"
             ]
            ],
            "type": "heatmapgl"
           }
          ],
          "histogram": [
           {
            "marker": {
             "pattern": {
              "fillmode": "overlay",
              "size": 10,
              "solidity": 0.2
             }
            },
            "type": "histogram"
           }
          ],
          "histogram2d": [
           {
            "colorbar": {
             "outlinewidth": 0,
             "ticks": ""
            },
            "colorscale": [
             [
              0,
              "#0d0887"
             ],
             [
              0.1111111111111111,
              "#46039f"
             ],
             [
              0.2222222222222222,
              "#7201a8"
             ],
             [
              0.3333333333333333,
              "#9c179e"
             ],
             [
              0.4444444444444444,
              "#bd3786"
             ],
             [
              0.5555555555555556,
              "#d8576b"
             ],
             [
              0.6666666666666666,
              "#ed7953"
             ],
             [
              0.7777777777777778,
              "#fb9f3a"
             ],
             [
              0.8888888888888888,
              "#fdca26"
             ],
             [
              1,
              "#f0f921"
             ]
            ],
            "type": "histogram2d"
           }
          ],
          "histogram2dcontour": [
           {
            "colorbar": {
             "outlinewidth": 0,
             "ticks": ""
            },
            "colorscale": [
             [
              0,
              "#0d0887"
             ],
             [
              0.1111111111111111,
              "#46039f"
             ],
             [
              0.2222222222222222,
              "#7201a8"
             ],
             [
              0.3333333333333333,
              "#9c179e"
             ],
             [
              0.4444444444444444,
              "#bd3786"
             ],
             [
              0.5555555555555556,
              "#d8576b"
             ],
             [
              0.6666666666666666,
              "#ed7953"
             ],
             [
              0.7777777777777778,
              "#fb9f3a"
             ],
             [
              0.8888888888888888,
              "#fdca26"
             ],
             [
              1,
              "#f0f921"
             ]
            ],
            "type": "histogram2dcontour"
           }
          ],
          "mesh3d": [
           {
            "colorbar": {
             "outlinewidth": 0,
             "ticks": ""
            },
            "type": "mesh3d"
           }
          ],
          "parcoords": [
           {
            "line": {
             "colorbar": {
              "outlinewidth": 0,
              "ticks": ""
             }
            },
            "type": "parcoords"
           }
          ],
          "pie": [
           {
            "automargin": true,
            "type": "pie"
           }
          ],
          "scatter": [
           {
            "fillpattern": {
             "fillmode": "overlay",
             "size": 10,
             "solidity": 0.2
            },
            "type": "scatter"
           }
          ],
          "scatter3d": [
           {
            "line": {
             "colorbar": {
              "outlinewidth": 0,
              "ticks": ""
             }
            },
            "marker": {
             "colorbar": {
              "outlinewidth": 0,
              "ticks": ""
             }
            },
            "type": "scatter3d"
           }
          ],
          "scattercarpet": [
           {
            "marker": {
             "colorbar": {
              "outlinewidth": 0,
              "ticks": ""
             }
            },
            "type": "scattercarpet"
           }
          ],
          "scattergeo": [
           {
            "marker": {
             "colorbar": {
              "outlinewidth": 0,
              "ticks": ""
             }
            },
            "type": "scattergeo"
           }
          ],
          "scattergl": [
           {
            "marker": {
             "colorbar": {
              "outlinewidth": 0,
              "ticks": ""
             }
            },
            "type": "scattergl"
           }
          ],
          "scattermapbox": [
           {
            "marker": {
             "colorbar": {
              "outlinewidth": 0,
              "ticks": ""
             }
            },
            "type": "scattermapbox"
           }
          ],
          "scatterpolar": [
           {
            "marker": {
             "colorbar": {
              "outlinewidth": 0,
              "ticks": ""
             }
            },
            "type": "scatterpolar"
           }
          ],
          "scatterpolargl": [
           {
            "marker": {
             "colorbar": {
              "outlinewidth": 0,
              "ticks": ""
             }
            },
            "type": "scatterpolargl"
           }
          ],
          "scatterternary": [
           {
            "marker": {
             "colorbar": {
              "outlinewidth": 0,
              "ticks": ""
             }
            },
            "type": "scatterternary"
           }
          ],
          "surface": [
           {
            "colorbar": {
             "outlinewidth": 0,
             "ticks": ""
            },
            "colorscale": [
             [
              0,
              "#0d0887"
             ],
             [
              0.1111111111111111,
              "#46039f"
             ],
             [
              0.2222222222222222,
              "#7201a8"
             ],
             [
              0.3333333333333333,
              "#9c179e"
             ],
             [
              0.4444444444444444,
              "#bd3786"
             ],
             [
              0.5555555555555556,
              "#d8576b"
             ],
             [
              0.6666666666666666,
              "#ed7953"
             ],
             [
              0.7777777777777778,
              "#fb9f3a"
             ],
             [
              0.8888888888888888,
              "#fdca26"
             ],
             [
              1,
              "#f0f921"
             ]
            ],
            "type": "surface"
           }
          ],
          "table": [
           {
            "cells": {
             "fill": {
              "color": "#EBF0F8"
             },
             "line": {
              "color": "white"
             }
            },
            "header": {
             "fill": {
              "color": "#C8D4E3"
             },
             "line": {
              "color": "white"
             }
            },
            "type": "table"
           }
          ]
         },
         "layout": {
          "annotationdefaults": {
           "arrowcolor": "#2a3f5f",
           "arrowhead": 0,
           "arrowwidth": 1
          },
          "autotypenumbers": "strict",
          "coloraxis": {
           "colorbar": {
            "outlinewidth": 0,
            "ticks": ""
           }
          },
          "colorscale": {
           "diverging": [
            [
             0,
             "#8e0152"
            ],
            [
             0.1,
             "#c51b7d"
            ],
            [
             0.2,
             "#de77ae"
            ],
            [
             0.3,
             "#f1b6da"
            ],
            [
             0.4,
             "#fde0ef"
            ],
            [
             0.5,
             "#f7f7f7"
            ],
            [
             0.6,
             "#e6f5d0"
            ],
            [
             0.7,
             "#b8e186"
            ],
            [
             0.8,
             "#7fbc41"
            ],
            [
             0.9,
             "#4d9221"
            ],
            [
             1,
             "#276419"
            ]
           ],
           "sequential": [
            [
             0,
             "#0d0887"
            ],
            [
             0.1111111111111111,
             "#46039f"
            ],
            [
             0.2222222222222222,
             "#7201a8"
            ],
            [
             0.3333333333333333,
             "#9c179e"
            ],
            [
             0.4444444444444444,
             "#bd3786"
            ],
            [
             0.5555555555555556,
             "#d8576b"
            ],
            [
             0.6666666666666666,
             "#ed7953"
            ],
            [
             0.7777777777777778,
             "#fb9f3a"
            ],
            [
             0.8888888888888888,
             "#fdca26"
            ],
            [
             1,
             "#f0f921"
            ]
           ],
           "sequentialminus": [
            [
             0,
             "#0d0887"
            ],
            [
             0.1111111111111111,
             "#46039f"
            ],
            [
             0.2222222222222222,
             "#7201a8"
            ],
            [
             0.3333333333333333,
             "#9c179e"
            ],
            [
             0.4444444444444444,
             "#bd3786"
            ],
            [
             0.5555555555555556,
             "#d8576b"
            ],
            [
             0.6666666666666666,
             "#ed7953"
            ],
            [
             0.7777777777777778,
             "#fb9f3a"
            ],
            [
             0.8888888888888888,
             "#fdca26"
            ],
            [
             1,
             "#f0f921"
            ]
           ]
          },
          "colorway": [
           "#636efa",
           "#EF553B",
           "#00cc96",
           "#ab63fa",
           "#FFA15A",
           "#19d3f3",
           "#FF6692",
           "#B6E880",
           "#FF97FF",
           "#FECB52"
          ],
          "font": {
           "color": "#2a3f5f"
          },
          "geo": {
           "bgcolor": "white",
           "lakecolor": "white",
           "landcolor": "#E5ECF6",
           "showlakes": true,
           "showland": true,
           "subunitcolor": "white"
          },
          "hoverlabel": {
           "align": "left"
          },
          "hovermode": "closest",
          "mapbox": {
           "style": "light"
          },
          "paper_bgcolor": "white",
          "plot_bgcolor": "#E5ECF6",
          "polar": {
           "angularaxis": {
            "gridcolor": "white",
            "linecolor": "white",
            "ticks": ""
           },
           "bgcolor": "#E5ECF6",
           "radialaxis": {
            "gridcolor": "white",
            "linecolor": "white",
            "ticks": ""
           }
          },
          "scene": {
           "xaxis": {
            "backgroundcolor": "#E5ECF6",
            "gridcolor": "white",
            "gridwidth": 2,
            "linecolor": "white",
            "showbackground": true,
            "ticks": "",
            "zerolinecolor": "white"
           },
           "yaxis": {
            "backgroundcolor": "#E5ECF6",
            "gridcolor": "white",
            "gridwidth": 2,
            "linecolor": "white",
            "showbackground": true,
            "ticks": "",
            "zerolinecolor": "white"
           },
           "zaxis": {
            "backgroundcolor": "#E5ECF6",
            "gridcolor": "white",
            "gridwidth": 2,
            "linecolor": "white",
            "showbackground": true,
            "ticks": "",
            "zerolinecolor": "white"
           }
          },
          "shapedefaults": {
           "line": {
            "color": "#2a3f5f"
           }
          },
          "ternary": {
           "aaxis": {
            "gridcolor": "white",
            "linecolor": "white",
            "ticks": ""
           },
           "baxis": {
            "gridcolor": "white",
            "linecolor": "white",
            "ticks": ""
           },
           "bgcolor": "#E5ECF6",
           "caxis": {
            "gridcolor": "white",
            "linecolor": "white",
            "ticks": ""
           }
          },
          "title": {
           "x": 0.05
          },
          "xaxis": {
           "automargin": true,
           "gridcolor": "white",
           "linecolor": "white",
           "ticks": "",
           "title": {
            "standoff": 15
           },
           "zerolinecolor": "white",
           "zerolinewidth": 2
          },
          "yaxis": {
           "automargin": true,
           "gridcolor": "white",
           "linecolor": "white",
           "ticks": "",
           "title": {
            "standoff": 15
           },
           "zerolinecolor": "white",
           "zerolinewidth": 2
          }
         }
        },
        "title": {
         "text": "Todays Option Pos (PnL and Delta)",
         "x": 0.5,
         "xanchor": "center"
        },
        "xaxis": {
         "anchor": "y",
         "domain": [
          0,
          0.45
         ],
         "title": {
          "text": "Price"
         }
        },
        "xaxis2": {
         "anchor": "y2",
         "domain": [
          0.55,
          1
         ],
         "title": {
          "text": "Price"
         }
        },
        "yaxis": {
         "anchor": "x",
         "domain": [
          0,
          1
         ],
         "title": {
          "text": "Pnl"
         }
        },
        "yaxis2": {
         "anchor": "x2",
         "domain": [
          0,
          1
         ],
         "title": {
          "text": "Delta"
         }
        }
       }
      },
      "text/html": [
       "<div>                            <div id=\"5d161c63-254a-4cc3-bb09-11b08992d721\" class=\"plotly-graph-div\" style=\"height:525px; width:100%;\"></div>            <script type=\"text/javascript\">                require([\"plotly\"], function(Plotly) {                    window.PLOTLYENV=window.PLOTLYENV || {};                                    if (document.getElementById(\"5d161c63-254a-4cc3-bb09-11b08992d721\")) {                    Plotly.newPlot(                        \"5d161c63-254a-4cc3-bb09-11b08992d721\",                        [{\"name\":\"EUA Sep24 65C\",\"x\":[30,31,32,33,34,35,36,37,38,39,40,41,42,43,44,45,46,47,48,49,50,51,52,53,54,55,56,57,58,59,60,61,62,63,64,65,66,67,68,69,70,71,72,73,74,75,76,77,78,79,80,81,82,83,84,85,86,87,88,89,90,91,92,93,94,95,96,97,98,99,100],\"y\":[357777.72610172577,357571.7829151781,357286.1661968873,356898.57011188316,356383.00884643116,355709.78828617523,354845.58400353114,353753.6264007898,352393.9887430333,350723.9692461435,348698.55460158753,346270.9494710417,343393.1546322493,340016.575588265,336092.6434896399,331573.4310432953,326412.2475456233,320564.1991213214,313986.7025147552,306639.94321841974,298487.2712017417,289495.52991241653,279635.3164742969,268881.173035981,257211.71098996067,244609.67125989913,231061.92503636397,216559.42023546016,201097.0795769706,184673.65655285292,167291.5557121136,148956.62365562844,129677.91694655562,109467.45283007459,88339.9482499969,66312.55217644798,43404.57574255675,19637.224149729976,-4966.666241658064,-30382.88275211666,-56586.0807808027,-83550.01586999181,-111247.76199035434,-139651.91500623076,-168734.7806428737,-198468.54659732667,-228825.4387117624,-259777.86136423188,-291298.5224289814,-323360.54331955797,-355937.5547557756,-389003.7789935449,-422534.0993277652,-456504.1177262689,-490890.20148018654,-525669.5197662419,-560820.0710119379,-596320.7019381038,-632151.1191270165,-668291.8939304803,-704724.461492556,-741431.1146178452,-778394.9931695445,-815600.0696333178,-853031.1314341229,-890673.7605445428,-928514.3108754014,-966539.8838931409,-1004738.3028639418,-1043098.0860822405,-1081608.41940134],\"type\":\"scatter\",\"xaxis\":\"x\",\"yaxis\":\"y\"},{\"name\":\"EUA Sep24 65C\",\"x\":[30,31,32,33,34,35,36,37,38,39,40,41,42,43,44,45,46,47,48,49,50,51,52,53,54,55,56,57,58,59,60,61,62,63,64,65,66,67,68,69,70,71,72,73,74,75,76,77,78,79,80,81,82,83,84,85,86,87,88,89,90,91,92,93,94,95,96,97,98,99,100],\"y\":[-106.9960193014301,-150.1894768762409,-206.07766456395504,-276.9074728459273,-364.97467199091705,-472.55945265584336,-601.8598254664444,-754.9261483383038,-933.5998051550833,-1139.4586371394278,-1373.7711852477453,-1637.4611947116432,-1931.083212844448,-2254.80952130494,-2608.4281167433055,-2991.351011061949,-3402.631776319588,-3840.9910128528304,-4304.848268810329,-4792.35887621171,-5301.454180727955,-5829.883715707089,-6375.257991107255,-6935.090721001386,-7506.839486430445,-8087.944012496143,-8675.861420466463,-9268.097990021768,-9862.237128166267,-10455.96338604827,-11047.082490746434,-11633.537465017525,-12213.420994102476,-12784.98426576499,-13346.642559164415,-13896.97789168754,-14434.739052441819,-14958.8393587901,-15468.352470113277,-15962.506582860078,-16440.67731467913,-16902.3795646447,-17347.258612708836,-17775.08069576139,-18185.723271080213,-18579.165151345893,-18955.476669440675,-19314.810006461554,-19657.38979312217,-19983.50407325294,-20293.495698587532,-20587.75420651874,-20866.708217025396,-21130.818371467787,-21380.570824339222,-21616.471289231882,-21839.03963209579,-22048.804998196116,-22246.301453858534,-22432.064119986055,-22606.625771287458,-22770.513873038926,-22924.24802587481,-23068.337788449684,-23203.280847720325,-23329.561506963124,-23447.649462379348,-23557.99884016853,-23661.04746719967,-23757.216349820752,-23846.90933686769],\"type\":\"scatter\",\"xaxis\":\"x2\",\"yaxis\":\"y2\"},{\"name\":\"EUA Sep24 85C\",\"x\":[30,31,32,33,34,35,36,37,38,39,40,41,42,43,44,45,46,47,48,49,50,51,52,53,54,55,56,57,58,59,60,61,62,63,64,65,66,67,68,69,70,71,72,73,74,75,76,77,78,79,80,81,82,83,84,85,86,87,88,89,90,91,92,93,94,95,96,97,98,99,100],\"y\":[91422.65113336351,91417.90646212436,91410.36687656108,91398.70934048979,91381.13485237461,91355.25360708637,91317.95897424738,91265.29304131592,91192.30720784029,91092.921914571,90959.79000633344,90784.16843387941,90555.80298582108,90262.83051070082,89891.70265825505,89427.13456603368,88852.0811788682,88147.74305526723,87293.60262948662,86267.49100261928,85045.68446914169,83603.02918044882,81913.09163130593,79948.33204928863,77680.29728466099,75079.82944554085,72117.28630134262,68762.76938180621,64986.355720559266,60758.32931894467,56049.408623307776,50830.96660122611,45075.240352865534,38755.52758660842,31846.367707768793,24323.705701434326,16165.037422457772,7349.535326406813,-2141.845924302002,-12326.284172115766,-23219.02464743162,-34833.33457410469,-47180.47678536292,-60269.701415390446,-74108.25454929801,-88701.40257065708,-104052.47083930267,-120162.89526017975,-137032.28526362815,-154658.49670542614,-173037.71320774092,-192164.53449638814,-212032.0703420908,-232632.03878046566,-253954.86736416898,-275989.7962880651,-298724.98232190614,-322147.6025824104,-346243.957275709,-370999.5706401829,-396399.28941708116,-422427.3782708415,-449067.6116715768,-476303.3618380539,-504117.6824199364,-532493.3876727845,-561413.12694792,-590859.4543817439,-620814.8937253268,-651261.9983052459,-682183.4061508168],\"type\":\"scatter\",\"xaxis\":\"x\",\"yaxis\":\"y\"},{\"name\":\"EUA Sep24 85C\",\"x\":[30,31,32,33,34,35,36,37,38,39,40,41,42,43,44,45,46,47,48,49,50,51,52,53,54,55,56,57,58,59,60,61,62,63,64,65,66,67,68,69,70,71,72,73,74,75,76,77,78,79,80,81,82,83,84,85,86,87,88,89,90,91,92,93,94,95,96,97,98,99,100],\"y\":[-2.2894940186404513,-3.694964546607358,-5.794961240824767,-8.851515901239736,-13.193877200277257,-19.22610364255187,-27.433200668661552,-38.385311972314945,-52.73954748464662,-71.23913210866517,-94.70968205942557,-124.05255027722157,-160.23531928744643,-204.27965014513256,-257.2468120589432,-320.2213129901343,-394.2931229620945,-480.53902696329015,-580.0036629872825,-693.6807943213603,-822.4953363254504,-967.28661019409,-1128.793233673405,-1307.6399857393164,-1504.3269030991164,-1719.2207850353177,-1952.5492030964624,-2204.397036421152,-2474.705484411491,-2763.273447775455,-3069.7611177587346,-3393.695572259267,-3734.4781465546985,-4091.393325266597,-4463.618890308382,-4850.237056054123,-5250.246326799228,-5662.5738216472,-6086.087827101723,-6519.610356738539,-6961.929519300469,-7411.811520406057,-7868.012147896707,-8329.28761589105,-8794.404667209565,-9262.14985744043,-9731.337966112756,-10200.819500911724,-10669.487279390207,-11136.282089072618,-11600.19744114956,-12060.283445131723,-12515.649841924995,-12965.46824090153,-13408.973612802796,-13845.465094867084,-14274.306167591547,-14694.924264185844,-15106.80987422421,-15509.515202425264,-15902.652442046083,-16285.891720224921,-16658.958769887722,-17021.632379678602,-17373.741669902534,-17715.163238783425,-18045.81821953582,-18365.669284900923,-18674.717631976106,-18972.999976425952,-19260.585581547515],\"type\":\"scatter\",\"xaxis\":\"x2\",\"yaxis\":\"y2\"},{\"name\":\"EUA Dec24 65C\",\"x\":[30,31,32,33,34,35,36,37,38,39,40,41,42,43,44,45,46,47,48,49,50,51,52,53,54,55,56,57,58,59,60,61,62,63,64,65,66,67,68,69,70,71,72,73,74,75,76,77,78,79,80,81,82,83,84,85,86,87,88,89,90,91,92,93,94,95,96,97,98,99,100],\"y\":[-853525.4864907414,-851619.4101473095,-849261.0028792707,-846382.6997383306,-842914.0154037169,-838782.3274476614,-833913.6920520915,-828233.6693337265,-821668.1374008887,-814144.0767724717,-805590.3096269873,-795938.1813340335,-785122.1747000304,-773080.4502152706,-759755.3082319117,-745093.5713725592,-729046.8875307688,-711571.9555630445,-692630.6771873794,-672190.2397093158,-650223.1350147434,-626707.1208268706,-601625.1305539614,-574965.1381867835,-546719.9846722471,-516887.17202306667,-485468.63115088874,-452470.46905799455,-417902.700613277,-381778.9696914786,-344116.2639875908,-304934.62734478264,-264256.87296566844,-222108.30042213414,-178516.4189451429,-133510.67906800148,-87122.21431793204,-39383.59430345139,9671.409769774858,60008.04640440402,111590.79143851041,164383.54171435622,218349.79469946295,273452.814133719,329655.7819140543,386921.9365426476,445214.698557976,504497.7834422827,564735.3025564121,625891.8526952793,687932.5948865006,750823.3230725673,814530.5233250943,879021.4242394986,944264.0391513478,1010227.2008028853,1076880.5890706826,1144194.752344288,1212141.123121725,1280692.028361606,1349820.695104002,1419501.2518437866,1489708.7261111268,1560419.0386848047,1631608.994835281,1703256.27296607,1775339.4109946305,1847837.7907871674,1920731.620936358,1994001.9181464121,2067630.4874667688],\"type\":\"scatter\",\"xaxis\":\"x\",\"yaxis\":\"y\"},{\"name\":\"EUA Dec24 65C\",\"x\":[30,31,32,33,34,35,36,37,38,39,40,41,42,43,44,45,46,47,48,49,50,51,52,53,54,55,56,57,58,59,60,61,62,63,64,65,66,67,68,69,70,71,72,73,74,75,76,77,78,79,80,81,82,83,84,85,86,87,88,89,90,91,92,93,94,95,96,97,98,99,100],\"y\":[1063.3384181127874,1325.4932895797526,1628.7502250915943,1975.15927069229,2366.2962004013843,2803.235026144534,3286.5352331255967,3816.242721518974,4391.903028760797,5012.585138730538,5676.914039752176,6383.1101537825425,7129.03380407271,7912.232997901767,8729.99295603297,9579.386004830814,10457.320646532711,11360.58882664622,12285.91061602873,13229.97571240666,14189.481337437248,15161.166258156674,16141.840794433452,17128.41278659399,18117.909590270738,19107.4962398928,20094.48997964291,21076.37140291759,22050.79247023403,23015.581693016517,23968.746778594985,24908.47503177219,25833.131802034077,26741.25725429667,27631.561726239863,28502.919917843334,29354.36413961795,30185.07682597534,30994.382499814856,31781.739354225807,32546.730597588896,33289.055689603345,34008.521578076725,34705.034029833194,35378.58913390948,36029.26504135518,36657.213993439516,37262.65467886368,37845.86495064124,38407.17492457475,38946.96047365135,39465.63712612451,39963.654369456526,40441.49035758381,40899.64701504813,41338.64552833123,41759.02221215724,42161.32473651479,42546.10869862809,42913.9345230092,43265.36467199495,43600.961148755814,43921.283274614034,44226.885722579544,44518.316789267425,44796.11688776418,45060.81724453324,45312.93878406535,45552.991185665225,45781.4720975009,45998.86649381198],\"type\":\"scatter\",\"xaxis\":\"x2\",\"yaxis\":\"y2\"},{\"name\":\"EUA Dec24 75C\",\"x\":[30,31,32,33,34,35,36,37,38,39,40,41,42,43,44,45,46,47,48,49,50,51,52,53,54,55,56,57,58,59,60,61,62,63,64,65,66,67,68,69,70,71,72,73,74,75,76,77,78,79,80,81,82,83,84,85,86,87,88,89,90,91,92,93,94,95,96,97,98,99,100],\"y\":[256078.52372837721,255824.26984585047,255493.04466842997,255068.4423320325,254532.170919979,253864.10968025084,253042.4040627467,252043.5958369505,250842.78455384696,249413.815860722,247729.49166573584,245761.7968697458,243482.1373149212,240861.58371578448,237871.11660730204,234481.86773410632,230665.35378305244,226393.69889831656,221639.8429873723,216377.7334042438,210582.49816411413,204230.59938520388,197299.96615805183,189770.10650057343,181622.1984641668,172839.160808898,163405.70396384777,153308.3622331094,142535.5084011839,131077.35203707023,118925.9228983109,106075.04089917426,92520.27413577141,78258.88645995219,63289.77606794383,47613.406523264755,31231.731570576536,14148.115021562511,-3632.7530910000623,-22104.94298606287,-41261.373224176394,-61093.89950114327,-81593.40332848825,-102749.87987822191,-124552.52436074932,-146989.81639208779,-170049.60188912184,-193719.1721088834,-217985.33951949037,-242834.5102561968,-268252.7529759896,-294225.8639783151,-320739.42850799696,-347778.8781994023,-375329.5446587224,-403376.7092140544,-431905.6488912382,-460901.67869736184,-490350.1903138618,-520236.6873175807,-550546.8170612934,-581266.3993554289,-612381.452100307,-643878.2140234547,-675743.1646797676,-707963.0418736999,-740524.8566624847,-773415.9060979666,-806623.7838619659,-840136.3889466089,-873941.9325266995],\"type\":\"scatter\",\"xaxis\":\"x\",\"yaxis\":\"y\"},{\"name\":\"EUA Dec24 75C\",\"x\":[30,31,32,33,34,35,36,37,38,39,40,41,42,43,44,45,46,47,48,49,50,51,52,53,54,55,56,57,58,59,60,61,62,63,64,65,66,67,68,69,70,71,72,73,74,75,76,77,78,79,80,81,82,83,84,85,86,87,88,89,90,91,92,93,94,95,96,97,98,99,100],\"y\":[-138.05078435171094,-181.43208939205905,-234.46660685323192,-298.3406563640354,-374.21670676016333,-463.2091604659242,-566.3615004603743,-684.6254932263539,-818.8429939176443,-969.7307468587213,-1137.868424668693,-1323.690009918309,-1527.4784993389799,-1749.363805343035,-1989.3236444697454,-2247.187137481138,-2522.640800301562,-2815.236577193851,-3124.4015553862496,-3449.4490014470457,-3789.5903716098355,-4143.947968602744,-4511.567944104903,-4891.433376738946,-5282.4771887596935,-5683.594698838399,-6093.655642359215,-6511.515523485526,-6936.026194198405,-7366.045584045086,-7800.446530129243,-8238.12467974551,-8678.00545794955,-9119.050109302416,-9560.260837148162,-10000.685075247498,-10439.418935603928,-10875.60988311368,-11308.458692488442,-11737.220745983792,-12161.20673205553,-12579.782805387913,-12992.370268005516,-13398.44482959035,-13797.535502855388,-14189.223187033418,-14573.138989366007,-14948.962331041927,-15316.418880442301,-15675.278352887597,-16025.352212422591,-16366.491307578306,-16698.58346956208,-17021.551097984404,-17335.34875606137,-17639.960794253744,-17935.39901852992,-18221.700416877535,-18498.924955338836,-18767.15345270656,-19026.485541084967,-19277.037717787818,-19518.941492501974,-19752.341632282223,-19977.394505748052,-20194.26652681508,-20403.132697400662,-20604.17524778274,-20797.582372651617,-20983.547060364937,-21162.266012484928],\"type\":\"scatter\",\"xaxis\":\"x2\",\"yaxis\":\"y2\"},{\"name\":\"EUA Dec24 50P\",\"x\":[30,31,32,33,34,35,36,37,38,39,40,41,42,43,44,45,46,47,48,49,50,51,52,53,54,55,56,57,58,59,60,61,62,63,64,65,66,67,68,69,70,71,72,73,74,75,76,77,78,79,80,81,82,83,84,85,86,87,88,89,90,91,92,93,94,95,96,97,98,99,100],\"y\":[-1441363.772409816,-1371978.7208541778,-1304133.9706475586,-1237913.0467809672,-1173390.0237738683,-1110629.0576772832,-1049684.1422426852,-990599.0658706223,-933407.5436345243,-878133.4978133892,-824791.4606503418,-773387.0741963347,-723917.6638482871,-676372.8643357777,-630735.2792758109,-586981.1578631422,-545081.0746887699,-505000.6010045002,-466700.95792357955,-430139.6440324762,-395271.0316685426,-362046.9276860138,-330417.09589096706,-300329.73948327807,-271731.94281330635,-244570.0725587457,-218790.13906998612,-194338.1191379323,-171160.24182391813,-149203.239273572,-128414.56463079517,-108742.57928848264,-90136.7117720523,-72547.5905616424,-55927.15312890767,-40228.733403425875,-25407.129799211285,-11418.65583001362,1778.8247716656654,14225.876638290565,25961.483385533516,37023.04872328841,47446.40664292853,57265.839386536616,66514.1020216999,75222.45255803011,83420.6866480642,91137.17601527313,98398.90984522297,105231.53846251956,111659.41869598601,117705.66040779866,123392.1737291948,128739.7166062166,133767.94231403572,138495.4466480556,142939.81454460128,147117.6659239216,151044.70058375195,154735.74200327534,158204.77994518448,161465.0117681199,164528.88238324685,167408.1228075201,170113.78728245042,172656.2889412402,175045.4340192044,177290.45461265204,179400.04000007236,181382.36654672574,183245.12621974593],\"type\":\"scatter\",\"xaxis\":\"x\",\"yaxis\":\"y\"},{\"name\":\"EUA Dec24 50P\",\"x\":[30,31,32,33,34,35,36,37,38,39,40,41,42,43,44,45,46,47,48,49,50,51,52,53,54,55,56,57,58,59,60,61,62,63,64,65,66,67,68,69,70,71,72,73,74,75,76,77,78,79,80,81,82,83,84,85,86,87,88,89,90,91,92,93,94,95,96,97,98,99,100],\"y\":[43687.72479487791,42754.64953677895,41766.73997422751,40729.7024872014,39649.6078100064,38532.74466454848,37385.48695949931,36214.176511260535,35025.022234193144,33824.01593907044,32616.86425815939,31408.93576312478,30205.22203470258,29010.311256393816,27828.37281470087,26663.151374035893,25517.96893632203,24395.733477241098,23298.952859612426,22229.752848695123,21189.89818582384,20180.81580929457,19203.619440120816,18259.134871913113,17347.925416574395,16470.317059529632,15626.42296928708,14816.167086244048,14039.306585148342,13295.453065109798,12584.092371282019,11904.60299415128,11256.273026658126,10638.31568701774,10049.883436942897,9490.08074180523,8957.975531832673,8452.609432400383,7973.006837428459,7518.182903382276,7087.1505428440505,6678.926496490268,6292.536560914208,5927.020047370035,5581.433543432102,5254.854045967893,4946.381529884447,4655.141012967656,4380.284172901511,4120.990568321681,3876.468511592546,3645.955636953424,3428.7192037968484,3224.0561711478044,3031.2930759261058,2849.7857443059493,2678.9188624421977,2518.105430011758,2366.7861174179848,2224.428545119156,2090.5265013607955,1964.5991126060858,1846.189979157753,1734.8662868373553,1630.2179041221887,1531.8564728241724,1439.4144992179392,1352.5444514752517,1270.9178683295686,1194.2244830676518,1122.171366214708],\"type\":\"scatter\",\"xaxis\":\"x2\",\"yaxis\":\"y2\"},{\"mode\":\"lines\",\"name\":\"Total_PnL\",\"x\":[30,31,32,33,34,35,36,37,38,39,40,41,42,43,44,45,46,47,48,49,50,51,52,53,54,55,56,57,58,59,60,61,62,63,64,65,66,67,68,69,70,71,72,73,74,75,76,77,78,79,80,81,82,83,84,85,86,87,88,89,90,91,92,93,94,95,96,97,98,99,100],\"y\":[-1589610.3579370908,-1518784.1717783343,-1449205.3957849508,-1380930.0247348924,-1314007.7245588005,-1248482.2335514321,-1184391.8872542514,-1121770.2199252925,-1060646.6005306924,-1001046.8675644244,-942993.9340036723,-886508.3407557013,-831608.7436153258,-778312.3247362981,-726635.1247525257,-676592.2958922661,-628198.2797119947,-581466.9154926395,-536411.4869793449,-493044.71611650917,-451378.7128482885,-411424.8900348152,-373193.85218127375,-336695.2660842185,-301937.7207467649,-268928.5830674744,-237673.8549193205,-208178.0363455511,-180443.99873848134,-154472.87105618275,-130263.94138465369,-107814.57547723647,-87120.15330252818,-68174.02410714133,-50967.48004834106,-35489.74807028029,-21727.999381552265,-9667.375635765713,708.9692844803951,9419.813132399287,16485.796171633207,21929.340492404874,25774.55923818596,28047.15722041252,28774.32438283319,27984.623540606204,25707.873765853292,21975.030724260825,16818.065189535162,10269.840876617935,2363.9926429805055,-6865.193987882114,-17382.901123563875,-29153.893860421682,-42142.63203769439,-56313.377817420376,-71630.29860979834,-88057.56494966641,-105559.44301111047,-124100.38152336256,-143645.0929217441,-164158.62863220912,-185606.44844705454,-207954.48400250147,-231169.1964160953,-255217.628183717,-280067.44947197096,-305686.9989730321,-332045.31951480394,-359112.18864095735,-386858.1443923414],\"type\":\"scatter\",\"xaxis\":\"x\",\"yaxis\":\"y\"},{\"mode\":\"lines\",\"name\":\"Total_Delta\",\"x\":[30,31,32,33,34,35,36,37,38,39,40,41,42,43,44,45,46,47,48,49,50,51,52,53,54,55,56,57,58,59,60,61,62,63,64,65,66,67,68,69,70,71,72,73,74,75,76,77,78,79,80,81,82,83,84,85,86,87,88,89,90,91,92,93,94,95,96,97,98,99,100],\"y\":[44503.72691531892,43744.82629554379,42949.150966661095,42120.76211278249,41263.518754456425,40380.984973928695,39476.36766602942,38552.48227924254,37611.742916396564,36656.17256169417,35687.4290059357,34706.842162000146,33715.458807304414,32714.091277502477,31703.367197461845,30683.777917333486,29655.723883271497,28619.555686877346,27575.609988457294,26524.23988912167,25465.839634597847,24400.86377294732,23329.841065668705,22253.383575027456,21172.191428555878,20087.05380305257,18998.846683007847,17908.52793923319,16817.130248606212,15725.752340257503,14635.54901124259,13547.720308901167,12463.500230085478,11384.14524098041,10310.9228765618,9245.100636659401,8187.935356605647,7140.663194824741,6104.490347539874,5080.584572025673,4070.0675743978154,3074.008295654944,2093.4171103798762,1129.240935960439,182.35923619641835,-746.4191084966678,-1656.358101595477,-2546.79614658387,-3417.146829411926,-4266.899022316727,-5095.616366915789,-5902.936196150837,-6688.5679552590955,-7452.291181622106,-8193.953102229147,-8913.465905715531,-9610.803743617824,-10285.999512732946,-10939.141467375499,-11570.369706989519,-12179.872581062767,-12767.883049689763,-13334.67503449272,-13880.559790993613,-14405.882329981296,-14911.017911973275,-15396.36863556465,-15862.360137311589,-16309.4384178326,-16738.066806043098,-17148.72307087345],\"type\":\"scatter\",\"xaxis\":\"x2\",\"yaxis\":\"y2\"}],                        {\"template\":{\"data\":{\"histogram2dcontour\":[{\"type\":\"histogram2dcontour\",\"colorbar\":{\"outlinewidth\":0,\"ticks\":\"\"},\"colorscale\":[[0.0,\"#0d0887\"],[0.1111111111111111,\"#46039f\"],[0.2222222222222222,\"#7201a8\"],[0.3333333333333333,\"#9c179e\"],[0.4444444444444444,\"#bd3786\"],[0.5555555555555556,\"#d8576b\"],[0.6666666666666666,\"#ed7953\"],[0.7777777777777778,\"#fb9f3a\"],[0.8888888888888888,\"#fdca26\"],[1.0,\"#f0f921\"]]}],\"choropleth\":[{\"type\":\"choropleth\",\"colorbar\":{\"outlinewidth\":0,\"ticks\":\"\"}}],\"histogram2d\":[{\"type\":\"histogram2d\",\"colorbar\":{\"outlinewidth\":0,\"ticks\":\"\"},\"colorscale\":[[0.0,\"#0d0887\"],[0.1111111111111111,\"#46039f\"],[0.2222222222222222,\"#7201a8\"],[0.3333333333333333,\"#9c179e\"],[0.4444444444444444,\"#bd3786\"],[0.5555555555555556,\"#d8576b\"],[0.6666666666666666,\"#ed7953\"],[0.7777777777777778,\"#fb9f3a\"],[0.8888888888888888,\"#fdca26\"],[1.0,\"#f0f921\"]]}],\"heatmap\":[{\"type\":\"heatmap\",\"colorbar\":{\"outlinewidth\":0,\"ticks\":\"\"},\"colorscale\":[[0.0,\"#0d0887\"],[0.1111111111111111,\"#46039f\"],[0.2222222222222222,\"#7201a8\"],[0.3333333333333333,\"#9c179e\"],[0.4444444444444444,\"#bd3786\"],[0.5555555555555556,\"#d8576b\"],[0.6666666666666666,\"#ed7953\"],[0.7777777777777778,\"#fb9f3a\"],[0.8888888888888888,\"#fdca26\"],[1.0,\"#f0f921\"]]}],\"heatmapgl\":[{\"type\":\"heatmapgl\",\"colorbar\":{\"outlinewidth\":0,\"ticks\":\"\"},\"colorscale\":[[0.0,\"#0d0887\"],[0.1111111111111111,\"#46039f\"],[0.2222222222222222,\"#7201a8\"],[0.3333333333333333,\"#9c179e\"],[0.4444444444444444,\"#bd3786\"],[0.5555555555555556,\"#d8576b\"],[0.6666666666666666,\"#ed7953\"],[0.7777777777777778,\"#fb9f3a\"],[0.8888888888888888,\"#fdca26\"],[1.0,\"#f0f921\"]]}],\"contourcarpet\":[{\"type\":\"contourcarpet\",\"colorbar\":{\"outlinewidth\":0,\"ticks\":\"\"}}],\"contour\":[{\"type\":\"contour\",\"colorbar\":{\"outlinewidth\":0,\"ticks\":\"\"},\"colorscale\":[[0.0,\"#0d0887\"],[0.1111111111111111,\"#46039f\"],[0.2222222222222222,\"#7201a8\"],[0.3333333333333333,\"#9c179e\"],[0.4444444444444444,\"#bd3786\"],[0.5555555555555556,\"#d8576b\"],[0.6666666666666666,\"#ed7953\"],[0.7777777777777778,\"#fb9f3a\"],[0.8888888888888888,\"#fdca26\"],[1.0,\"#f0f921\"]]}],\"surface\":[{\"type\":\"surface\",\"colorbar\":{\"outlinewidth\":0,\"ticks\":\"\"},\"colorscale\":[[0.0,\"#0d0887\"],[0.1111111111111111,\"#46039f\"],[0.2222222222222222,\"#7201a8\"],[0.3333333333333333,\"#9c179e\"],[0.4444444444444444,\"#bd3786\"],[0.5555555555555556,\"#d8576b\"],[0.6666666666666666,\"#ed7953\"],[0.7777777777777778,\"#fb9f3a\"],[0.8888888888888888,\"#fdca26\"],[1.0,\"#f0f921\"]]}],\"mesh3d\":[{\"type\":\"mesh3d\",\"colorbar\":{\"outlinewidth\":0,\"ticks\":\"\"}}],\"scatter\":[{\"fillpattern\":{\"fillmode\":\"overlay\",\"size\":10,\"solidity\":0.2},\"type\":\"scatter\"}],\"parcoords\":[{\"type\":\"parcoords\",\"line\":{\"colorbar\":{\"outlinewidth\":0,\"ticks\":\"\"}}}],\"scatterpolargl\":[{\"type\":\"scatterpolargl\",\"marker\":{\"colorbar\":{\"outlinewidth\":0,\"ticks\":\"\"}}}],\"bar\":[{\"error_x\":{\"color\":\"#2a3f5f\"},\"error_y\":{\"color\":\"#2a3f5f\"},\"marker\":{\"line\":{\"color\":\"#E5ECF6\",\"width\":0.5},\"pattern\":{\"fillmode\":\"overlay\",\"size\":10,\"solidity\":0.2}},\"type\":\"bar\"}],\"scattergeo\":[{\"type\":\"scattergeo\",\"marker\":{\"colorbar\":{\"outlinewidth\":0,\"ticks\":\"\"}}}],\"scatterpolar\":[{\"type\":\"scatterpolar\",\"marker\":{\"colorbar\":{\"outlinewidth\":0,\"ticks\":\"\"}}}],\"histogram\":[{\"marker\":{\"pattern\":{\"fillmode\":\"overlay\",\"size\":10,\"solidity\":0.2}},\"type\":\"histogram\"}],\"scattergl\":[{\"type\":\"scattergl\",\"marker\":{\"colorbar\":{\"outlinewidth\":0,\"ticks\":\"\"}}}],\"scatter3d\":[{\"type\":\"scatter3d\",\"line\":{\"colorbar\":{\"outlinewidth\":0,\"ticks\":\"\"}},\"marker\":{\"colorbar\":{\"outlinewidth\":0,\"ticks\":\"\"}}}],\"scattermapbox\":[{\"type\":\"scattermapbox\",\"marker\":{\"colorbar\":{\"outlinewidth\":0,\"ticks\":\"\"}}}],\"scatterternary\":[{\"type\":\"scatterternary\",\"marker\":{\"colorbar\":{\"outlinewidth\":0,\"ticks\":\"\"}}}],\"scattercarpet\":[{\"type\":\"scattercarpet\",\"marker\":{\"colorbar\":{\"outlinewidth\":0,\"ticks\":\"\"}}}],\"carpet\":[{\"aaxis\":{\"endlinecolor\":\"#2a3f5f\",\"gridcolor\":\"white\",\"linecolor\":\"white\",\"minorgridcolor\":\"white\",\"startlinecolor\":\"#2a3f5f\"},\"baxis\":{\"endlinecolor\":\"#2a3f5f\",\"gridcolor\":\"white\",\"linecolor\":\"white\",\"minorgridcolor\":\"white\",\"startlinecolor\":\"#2a3f5f\"},\"type\":\"carpet\"}],\"table\":[{\"cells\":{\"fill\":{\"color\":\"#EBF0F8\"},\"line\":{\"color\":\"white\"}},\"header\":{\"fill\":{\"color\":\"#C8D4E3\"},\"line\":{\"color\":\"white\"}},\"type\":\"table\"}],\"barpolar\":[{\"marker\":{\"line\":{\"color\":\"#E5ECF6\",\"width\":0.5},\"pattern\":{\"fillmode\":\"overlay\",\"size\":10,\"solidity\":0.2}},\"type\":\"barpolar\"}],\"pie\":[{\"automargin\":true,\"type\":\"pie\"}]},\"layout\":{\"autotypenumbers\":\"strict\",\"colorway\":[\"#636efa\",\"#EF553B\",\"#00cc96\",\"#ab63fa\",\"#FFA15A\",\"#19d3f3\",\"#FF6692\",\"#B6E880\",\"#FF97FF\",\"#FECB52\"],\"font\":{\"color\":\"#2a3f5f\"},\"hovermode\":\"closest\",\"hoverlabel\":{\"align\":\"left\"},\"paper_bgcolor\":\"white\",\"plot_bgcolor\":\"#E5ECF6\",\"polar\":{\"bgcolor\":\"#E5ECF6\",\"angularaxis\":{\"gridcolor\":\"white\",\"linecolor\":\"white\",\"ticks\":\"\"},\"radialaxis\":{\"gridcolor\":\"white\",\"linecolor\":\"white\",\"ticks\":\"\"}},\"ternary\":{\"bgcolor\":\"#E5ECF6\",\"aaxis\":{\"gridcolor\":\"white\",\"linecolor\":\"white\",\"ticks\":\"\"},\"baxis\":{\"gridcolor\":\"white\",\"linecolor\":\"white\",\"ticks\":\"\"},\"caxis\":{\"gridcolor\":\"white\",\"linecolor\":\"white\",\"ticks\":\"\"}},\"coloraxis\":{\"colorbar\":{\"outlinewidth\":0,\"ticks\":\"\"}},\"colorscale\":{\"sequential\":[[0.0,\"#0d0887\"],[0.1111111111111111,\"#46039f\"],[0.2222222222222222,\"#7201a8\"],[0.3333333333333333,\"#9c179e\"],[0.4444444444444444,\"#bd3786\"],[0.5555555555555556,\"#d8576b\"],[0.6666666666666666,\"#ed7953\"],[0.7777777777777778,\"#fb9f3a\"],[0.8888888888888888,\"#fdca26\"],[1.0,\"#f0f921\"]],\"sequentialminus\":[[0.0,\"#0d0887\"],[0.1111111111111111,\"#46039f\"],[0.2222222222222222,\"#7201a8\"],[0.3333333333333333,\"#9c179e\"],[0.4444444444444444,\"#bd3786\"],[0.5555555555555556,\"#d8576b\"],[0.6666666666666666,\"#ed7953\"],[0.7777777777777778,\"#fb9f3a\"],[0.8888888888888888,\"#fdca26\"],[1.0,\"#f0f921\"]],\"diverging\":[[0,\"#8e0152\"],[0.1,\"#c51b7d\"],[0.2,\"#de77ae\"],[0.3,\"#f1b6da\"],[0.4,\"#fde0ef\"],[0.5,\"#f7f7f7\"],[0.6,\"#e6f5d0\"],[0.7,\"#b8e186\"],[0.8,\"#7fbc41\"],[0.9,\"#4d9221\"],[1,\"#276419\"]]},\"xaxis\":{\"gridcolor\":\"white\",\"linecolor\":\"white\",\"ticks\":\"\",\"title\":{\"standoff\":15},\"zerolinecolor\":\"white\",\"automargin\":true,\"zerolinewidth\":2},\"yaxis\":{\"gridcolor\":\"white\",\"linecolor\":\"white\",\"ticks\":\"\",\"title\":{\"standoff\":15},\"zerolinecolor\":\"white\",\"automargin\":true,\"zerolinewidth\":2},\"scene\":{\"xaxis\":{\"backgroundcolor\":\"#E5ECF6\",\"gridcolor\":\"white\",\"linecolor\":\"white\",\"showbackground\":true,\"ticks\":\"\",\"zerolinecolor\":\"white\",\"gridwidth\":2},\"yaxis\":{\"backgroundcolor\":\"#E5ECF6\",\"gridcolor\":\"white\",\"linecolor\":\"white\",\"showbackground\":true,\"ticks\":\"\",\"zerolinecolor\":\"white\",\"gridwidth\":2},\"zaxis\":{\"backgroundcolor\":\"#E5ECF6\",\"gridcolor\":\"white\",\"linecolor\":\"white\",\"showbackground\":true,\"ticks\":\"\",\"zerolinecolor\":\"white\",\"gridwidth\":2}},\"shapedefaults\":{\"line\":{\"color\":\"#2a3f5f\"}},\"annotationdefaults\":{\"arrowcolor\":\"#2a3f5f\",\"arrowhead\":0,\"arrowwidth\":1},\"geo\":{\"bgcolor\":\"white\",\"landcolor\":\"#E5ECF6\",\"subunitcolor\":\"white\",\"showland\":true,\"showlakes\":true,\"lakecolor\":\"white\"},\"title\":{\"x\":0.05},\"mapbox\":{\"style\":\"light\"}}},\"xaxis\":{\"anchor\":\"y\",\"domain\":[0.0,0.45],\"title\":{\"text\":\"Price\"}},\"yaxis\":{\"anchor\":\"x\",\"domain\":[0.0,1.0],\"title\":{\"text\":\"Pnl\"}},\"xaxis2\":{\"anchor\":\"y2\",\"domain\":[0.55,1.0],\"title\":{\"text\":\"Price\"}},\"yaxis2\":{\"anchor\":\"x2\",\"domain\":[0.0,1.0],\"title\":{\"text\":\"Delta\"}},\"title\":{\"text\":\"Todays Option Pos (PnL and Delta)\",\"x\":0.5,\"xanchor\":\"center\"},\"barmode\":\"stack\"},                        {\"responsive\": true}                    ).then(function(){\n",
       "                            \n",
       "var gd = document.getElementById('5d161c63-254a-4cc3-bb09-11b08992d721');\n",
       "var x = new MutationObserver(function (mutations, observer) {{\n",
       "        var display = window.getComputedStyle(gd).display;\n",
       "        if (!display || display === 'none') {{\n",
       "            console.log([gd, 'removed!']);\n",
       "            Plotly.purge(gd);\n",
       "            observer.disconnect();\n",
       "        }}\n",
       "}});\n",
       "\n",
       "// Listen for the removal of the full notebook cells\n",
       "var notebookContainer = gd.closest('#notebook-container');\n",
       "if (notebookContainer) {{\n",
       "    x.observe(notebookContainer, {childList: true});\n",
       "}}\n",
       "\n",
       "// Listen for the clearing of the current output cell\n",
       "var outputEl = gd.closest('.output');\n",
       "if (outputEl) {{\n",
       "    x.observe(outputEl, {childList: true});\n",
       "}}\n",
       "\n",
       "                        })                };                });            </script>        </div>"
      ]
     },
     "metadata": {},
     "output_type": "display_data"
    }
   ],
   "source": [
    "pnl_delta_plot(current_date)"
   ]
  },
  {
   "cell_type": "markdown",
   "id": "188a9617",
   "metadata": {},
   "source": [
    "## End of Month"
   ]
  },
  {
   "cell_type": "code",
   "execution_count": 12,
   "id": "8d15a408",
   "metadata": {},
   "outputs": [
    {
     "data": {
      "application/vnd.plotly.v1+json": {
       "config": {
        "plotlyServerURL": "https://plot.ly"
       },
       "data": [
        {
         "name": "EUA Sep24 65C",
         "type": "scatter",
         "x": [
          30,
          31,
          32,
          33,
          34,
          35,
          36,
          37,
          38,
          39,
          40,
          41,
          42,
          43,
          44,
          45,
          46,
          47,
          48,
          49,
          50,
          51,
          52,
          53,
          54,
          55,
          56,
          57,
          58,
          59,
          60,
          61,
          62,
          63,
          64,
          65,
          66,
          67,
          68,
          69,
          70,
          71,
          72,
          73,
          74,
          75,
          76,
          77,
          78,
          79,
          80,
          81,
          82,
          83,
          84,
          85,
          86,
          87,
          88,
          89,
          90,
          91,
          92,
          93,
          94,
          95,
          96,
          97,
          98,
          99,
          100
         ],
         "xaxis": "x",
         "y": [
          358072.80807723565,
          357997.34385013103,
          357884.35517404886,
          357719.71705478756,
          357485.74833521486,
          357160.84467485175,
          356719.1959049728,
          356130.6100567907,
          355360.46118963504,
          354369.7718026955,
          353115.43365588936,
          351550.56381383445,
          349624.98617055075,
          347285.8230275024,
          344478.17678368324,
          341145.87862902816,
          337232.2793677369,
          332681.05708830367,
          327437.01721142686,
          321446.86229576165,
          314659.9116399179,
          307028.7539489095,
          298509.81990106066,
          289063.86514261947,
          278656.3578660265,
          267257.76854226156,
          254843.76246268608,
          241395.29842195293,
          226898.63909459958,
          211345.28040667874,
          194731.80848709258,
          177059.6936270581,
          158335.03111999395,
          138568.2389469846,
          117773.72206875093,
          95969.51263924205,
          73176.89482295956,
          49420.02212904102,
          24725.534316454017,
          -877.8199827507126,
          -27359.549696478174,
          -54687.77248277034,
          -82829.54718689625,
          -111751.18494923678,
          -141418.5370749002,
          -171797.25844818176,
          -202853.04586811116,
          -234551.85119444525,
          -266860.0696279925,
          -299744.70380847965,
          -333173.50470208627,
          -367115.09047505865,
          -401539.04471572523,
          -436415.9954815284,
          -471717.6767169229,
          -507416.97361867124,
          -543487.9535234045,
          -579905.8838640526,
          -616647.2386921223,
          -653689.6951966193,
          -691012.1215718503,
          -728594.5574990708,
          -766418.1884141524,
          -804465.3146377882,
          -842719.3163484337,
          -881164.6152830771,
          -919786.6339583863,
          -958571.7531159942,
          -997507.26801144,
          -1036581.3440871788,
          -1075782.972496493
         ],
         "yaxis": "y"
        },
        {
         "name": "EUA Sep24 65C",
         "type": "scatter",
         "x": [
          30,
          31,
          32,
          33,
          34,
          35,
          36,
          37,
          38,
          39,
          40,
          41,
          42,
          43,
          44,
          45,
          46,
          47,
          48,
          49,
          50,
          51,
          52,
          53,
          54,
          55,
          56,
          57,
          58,
          59,
          60,
          61,
          62,
          63,
          64,
          65,
          66,
          67,
          68,
          69,
          70,
          71,
          72,
          73,
          74,
          75,
          76,
          77,
          78,
          79,
          80,
          81,
          82,
          83,
          84,
          85,
          86,
          87,
          88,
          89,
          90,
          91,
          92,
          93,
          94,
          95,
          96,
          97,
          98,
          99,
          100
         ],
         "xaxis": "x2",
         "y": [
          -37.44916230002925,
          -56.93434098856207,
          -84.12912200306502,
          -121.10144040327988,
          -170.1661740786796,
          -233.84068159273582,
          -314.785322893948,
          -415.73169300686317,
          -539.4021820819265,
          -688.4250277802554,
          -865.2492267335299,
          -1072.0635375900663,
          -1310.723385572583,
          -1582.688833898718,
          -1888.9759967431116,
          -2230.1234079971823,
          -2606.173999565198,
          -3016.672540389502,
          -3460.6776866200435,
          -3936.7872231156216,
          -4443.174651328749,
          -4977.635000712898,
          -5537.6376022585255,
          -6120.383548471886,
          -6722.865654224054,
          -7341.92890523728,
          -7974.329612964351,
          -8616.791764793466,
          -9266.059347600478,
          -9918.943714243356,
          -10572.3653433867,
          -11223.389602997404,
          -11869.256359943009,
          -12507.40347805823,
          -13135.484412865966,
          -13751.3802428009,
          -14353.206575720806,
          -14939.315838215622,
          -15508.295496967694,
          -16058.96277981533,
          -16590.35646301929,
          -17101.726274273373,
          -17592.520431792123,
          -18062.371801605997,
          -18511.08311089535,
          -18938.611607301787,
          -19345.053504771146,
          -19730.628507318303,
          -20095.664654507582,
          -20440.583687429265,
          -20765.887092244935,
          -21072.142940443417,
          -21359.973611054247,
          -21630.044450293688,
          -21883.05339841967,
          -22119.72159179263,
          -22340.784930047965,
          -22546.98658360014,
          -22739.07040510387,
          -22917.77519966272,
          -23083.829802169024,
          -23237.948905853085,
          -23380.82958360713,
          -23513.148442637623,
          -23635.55935322412,
          -23748.691693582146,
          -23853.149054827696,
          -23949.5083526336,
          -24038.319295190176,
          -24120.104160394945,
          -24195.35783868154
         ],
         "yaxis": "y2"
        },
        {
         "name": "EUA Sep24 85C",
         "type": "scatter",
         "x": [
          30,
          31,
          32,
          33,
          34,
          35,
          36,
          37,
          38,
          39,
          40,
          41,
          42,
          43,
          44,
          45,
          46,
          47,
          48,
          49,
          50,
          51,
          52,
          53,
          54,
          55,
          56,
          57,
          58,
          59,
          60,
          61,
          62,
          63,
          64,
          65,
          66,
          67,
          68,
          69,
          70,
          71,
          72,
          73,
          74,
          75,
          76,
          77,
          78,
          79,
          80,
          81,
          82,
          83,
          84,
          85,
          86,
          87,
          88,
          89,
          90,
          91,
          92,
          93,
          94,
          95,
          96,
          97,
          98,
          99,
          100
         ],
         "xaxis": "x",
         "y": [
          91428.55918521562,
          91427.8496102668,
          91426.58892249406,
          91424.42430832704,
          91420.82319248567,
          91415.00501574781,
          91405.85666734235,
          91391.83072897981,
          91370.82650078187,
          91340.0547337854,
          91295.88803021637,
          91233.699921458,
          91147.69662051025,
          91030.74629941398,
          90874.21140026204,
          90667.78990281041,
          90399.37161160423,
          90054.91537934322,
          89618.35275826212,
          89071.52289215632,
          88394.14256720654,
          87563.81427939457,
          86556.07400599799,
          85344.47914675192,
          83900.73588376021,
          82194.86405055849,
          80195.39654524655,
          77869.60940691415,
          75183.7779255325,
          72103.45358993346,
          68593.75630370111,
          64619.676113172325,
          60146.37868614548,
          55139.50893893974,
          49565.487513108295,
          43391.795228110015,
          36587.24115763065,
          29122.21056947002,
          20968.889607170906,
          12101.464252423213,
          2496.291769568146,
          -7867.956521264561,
          -19010.18168339951,
          -30946.772789001774,
          -43691.55119194698,
          -57255.742458434535,
          -71647.97457988517,
          -86874.30077384146,
          -102938.24492615224,
          -119840.86753942634,
          -137580.84992498427,
          -156154.59430362465,
          -175556.337458979,
          -195778.27561020735,
          -216810.69823205,
          -238642.12864367678,
          -261259.46930729155,
          -284648.1499173079,
          -308792.2765157274,
          -333674.78003423807,
          -359277.56283404975,
          -385581.64198677766,
          -412567.28821040335,
          -440214.1595406823,
          -468501.42897805397,
          -497407.9055013216,
          -526912.1479806625,
          -556992.5716530896,
          -587627.5469424211,
          -618795.4905131119,
          -650474.9485426489
         ],
         "yaxis": "y"
        },
        {
         "name": "EUA Sep24 85C",
         "type": "scatter",
         "x": [
          30,
          31,
          32,
          33,
          34,
          35,
          36,
          37,
          38,
          39,
          40,
          41,
          42,
          43,
          44,
          45,
          46,
          47,
          48,
          49,
          50,
          51,
          52,
          53,
          54,
          55,
          56,
          57,
          58,
          59,
          60,
          61,
          62,
          63,
          64,
          65,
          66,
          67,
          68,
          69,
          70,
          71,
          72,
          73,
          74,
          75,
          76,
          77,
          78,
          79,
          80,
          81,
          82,
          83,
          84,
          85,
          86,
          87,
          88,
          89,
          90,
          91,
          92,
          93,
          94,
          95,
          96,
          97,
          98,
          99,
          100
         ],
         "xaxis": "x2",
         "y": [
          -0.32032803844778834,
          -0.5804595595127549,
          -1.0148647483337376,
          -1.7167206799271981,
          -2.8165784877719355,
          -4.4920528391499035,
          -6.9782434721617435,
          -10.578439413506539,
          -15.674554467986766,
          -22.736672503734198,
          -32.33105149672809,
          -45.125950912282185,
          -61.894708181431696,
          -83.51559302295449,
          -110.96810585383655,
          -145.32554856411758,
          -187.74387099907213,
          -239.44697266778016,
          -301.70880518089047,
          -375.83276689130565,
          -463.1289994478804,
          -564.8902812079829,
          -682.3672619863407,
          -816.7437971918483,
          -969.1131189351934,
          -1140.45553085988,
          -1331.61823723941,
          -1543.297821095783,
          -1776.0257768891267,
          -2030.157386816521,
          -2305.864111665536,
          -2603.1295525783453,
          -2921.748933262597,
          -3261.3319564918042,
          -3621.3088065855604,
          -4000.9390024533395,
          -4399.322754391381,
          -4815.414442070954,
          -5248.037810367111,
          -5695.902472685958,
          -6157.621316738201,
          -6631.728423530314,
          -7116.697134834961,
          -7610.957935666141,
          -8112.915854483868,
          -8620.967123262575,
          -9133.514880612951,
          -9648.983742472832,
          -10165.833105309008,
          -10682.569085340892,
          -11197.755033257272,
          -11710.020596693012,
          -12218.069331990619,
          -12720.684892275294,
          -13216.735840547337,
          -13705.179154383515,
          -14185.062503074363,
          -14655.525388818458,
          -15115.799251210496,
          -15565.20663900054,
          -16003.15955529011,
          -16429.157082300066,
          -16842.782389927637,
          -17243.699228826317,
          -17631.648003997772,
          -18006.441519163163,
          -18367.960475739714,
          -18716.148803319706,
          -19051.00889133597,
          -19372.596784277393,
          -19681.017395539
         ],
         "yaxis": "y2"
        },
        {
         "name": "EUA Dec24 65C",
         "type": "scatter",
         "x": [
          30,
          31,
          32,
          33,
          34,
          35,
          36,
          37,
          38,
          39,
          40,
          41,
          42,
          43,
          44,
          45,
          46,
          47,
          48,
          49,
          50,
          51,
          52,
          53,
          54,
          55,
          56,
          57,
          58,
          59,
          60,
          61,
          62,
          63,
          64,
          65,
          66,
          67,
          68,
          69,
          70,
          71,
          72,
          73,
          74,
          75,
          76,
          77,
          78,
          79,
          80,
          81,
          82,
          83,
          84,
          85,
          86,
          87,
          88,
          89,
          90,
          91,
          92,
          93,
          94,
          95,
          96,
          97,
          98,
          99,
          100
         ],
         "xaxis": "x",
         "y": [
          -855910.0990447282,
          -854624.2873481999,
          -852986.6637555074,
          -850933.5461038314,
          -848396.565130737,
          -845303.3468510142,
          -841578.2910229532,
          -837143.4199584894,
          -831919.2714134773,
          -825825.8099750866,
          -818783.333018614,
          -810713.349698985,
          -801539.4143416582,
          -791187.8987910192,
          -779588.6915763662,
          -766675.815012436,
          -752387.9544421519,
          -736668.8966646895,
          -719467.8771118014,
          -700739.8375049406,
          -680445.5975313596,
          -658551.9455226917,
          -635031.6542209522,
          -609863.4285003317,
          -583031.7924106492,
          -554526.9231553666,
          -524344.4396505111,
          -492485.15316711116,
          -458954.78727365297,
          -423763.67389884085,
          -386926.43185777956,
          -348461.6336523626,
          -308391.4657913542,
          -266741.3872962616,
          -223539.790481013,
          -178817.667529213,
          -132608.28585198938,
          -84946.87469934308,
          -35870.325023673286,
          14583.095841092465,
          66374.013515735,
          119462.19911141506,
          173806.80446120555,
          229366.57981667286,
          286100.0740139134,
          343965.81731325027,
          402922.48728389107,
          462929.0582418324,
          523944.9348591382,
          585930.0706480513,
          648845.0720870934,
          712651.2892009285,
          777310.8934337397,
          842786.9436696774,
          909043.4412555669,
          976045.3748724599,
          1043758.7560858099,
          1112150.6463802068,
          1181189.1764556023,
          1250843.5585285688,
          1321084.092346018,
          1391882.165580203,
          1463210.2492342568,
          1535041.8886471458,
          1607351.6906465963,
          1680115.3073585897,
          1753309.417143068,
          1826911.7030873985,
          1900900.8294527635,
          1975256.4164335825,
          2049959.013556823
         ],
         "yaxis": "y"
        },
        {
         "name": "EUA Dec24 65C",
         "type": "scatter",
         "x": [
          30,
          31,
          32,
          33,
          34,
          35,
          36,
          37,
          38,
          39,
          40,
          41,
          42,
          43,
          44,
          45,
          46,
          47,
          48,
          49,
          50,
          51,
          52,
          53,
          54,
          55,
          56,
          57,
          58,
          59,
          60,
          61,
          62,
          63,
          64,
          65,
          66,
          67,
          68,
          69,
          70,
          71,
          72,
          73,
          74,
          75,
          76,
          77,
          78,
          79,
          80,
          81,
          82,
          83,
          84,
          85,
          86,
          87,
          88,
          89,
          90,
          91,
          92,
          93,
          94,
          95,
          96,
          97,
          98,
          99,
          100
         ],
         "xaxis": "x2",
         "y": [
          703.9856153925422,
          904.3297932807476,
          1142.7264660534402,
          1422.2755499282357,
          1745.6864867835718,
          2115.210913810004,
          2532.5909371468047,
          2999.023737008196,
          3515.1424224272228,
          4081.012375933565,
          4696.141796679698,
          5359.504766205217,
          6069.574915942455,
          6824.367654883079,
          7621.4889008295895,
          8458.188328979824,
          9331.41528691861,
          10237.875706364848,
          11174.088552239615,
          12136.440574256649,
          13121.238353399833,
          14124.756856043772,
          15143.283915199085,
          16173.160246668816,
          17210.81477486141,
          18252.79518720178,
          19295.793757293544,
          20336.668575905976,
          21372.460406833983,
          22400.405443503954,
          23417.944283924066,
          24422.727468382993,
          25412.617938369513,
          26385.690778631688,
          27340.230599100123,
          28274.72690138062,
          29187.867757301585,
          30078.532106006922,
          30945.78095254443,
          31788.847725847096,
          32607.12802830197,
          33400.16898344014,
          34167.6583632125,
          34909.413652258394,
          35625.37118383701,
          36315.57546088751,
          36980.168756149265,
          37619.38106747458,
          38233.520488423484,
          38822.96403991516,
          39388.1489960684,
          39929.564726314224,
          40447.74506631082,
          40943.26122202474,
          41416.71520445388,
          41868.733786735924,
          42299.962970701046,
          42711.06294617366,
          43102.70352340041,
          43475.56001677785,
          43830.309556479864,
          44167.62780355301,
          44488.186043480346,
          44792.64863303529,
          45081.67077539528,
          45355.8965988985,
          45615.95751545749,
          45862.47083544385,
          46096.038616789556,
          46317.246727079095,
          46526.664098501955
         ],
         "yaxis": "y2"
        },
        {
         "name": "EUA Dec24 75C",
         "type": "scatter",
         "x": [
          30,
          31,
          32,
          33,
          34,
          35,
          36,
          37,
          38,
          39,
          40,
          41,
          42,
          43,
          44,
          45,
          46,
          47,
          48,
          49,
          50,
          51,
          52,
          53,
          54,
          55,
          56,
          57,
          58,
          59,
          60,
          61,
          62,
          63,
          64,
          65,
          66,
          67,
          68,
          69,
          70,
          71,
          72,
          73,
          74,
          75,
          76,
          77,
          78,
          79,
          80,
          81,
          82,
          83,
          84,
          85,
          86,
          87,
          88,
          89,
          90,
          91,
          92,
          93,
          94,
          95,
          96,
          97,
          98,
          99,
          100
         ],
         "xaxis": "x",
         "y": [
          256406.8671372049,
          256263.57934629684,
          256069.92856658032,
          255813.0046715286,
          255477.89736429567,
          255047.65337963507,
          254503.275355597,
          253823.76340883863,
          252986.19886700183,
          251965.86816270876,
          250736.42363547033,
          249270.0769595924,
          247537.8201386339,
          245509.66848426996,
          243154.91972001185,
          240442.42329809873,
          237340.85416357504,
          233818.98551113938,
          229845.955523864,
          225391.52362442508,
          220426.31237685378,
          214922.03182060763,
          208851.68367316804,
          202189.74348058412,
          194912.31940969103,
          186997.28694749865,
          178424.39929253605,
          169175.3736833138,
          159233.9543069793,
          148585.95276572075,
          137219.26735060744,
          125123.88258502797,
          112291.85065659405,
          98717.25646214052,
          84396.1680505075,
          69326.57426778466,
          53508.3113952208,
          36942.980526583684,
          19633.857364685075,
          1585.7960309314183,
          -17194.871618314275,
          -36700.439785053386,
          -56921.93436604596,
          -77849.2192860505,
          -99471.10250289523,
          -121775.4407792232,
          -144749.24243236778,
          -168378.7673858217,
          -192649.6239519578,
          -217546.86187531578,
          -243055.06125825224,
          -269158.4170757663,
          -295840.8190636883,
          -323085.9268341959,
          -350877.24013487896,
          -379198.16422261257,
          -408032.0703716026,
          -437362.3515764917,
          -467172.47354684566,
          -497446.021119032,
          -528166.7402360039,
          -559318.5756651809,
          -590885.7046400321,
          -622852.5666224508,
          -655203.8893911128,
          -687924.7116659892,
          -721000.4024815969,
          -754416.6775216218,
          -788159.6126256427,
          -822215.654675145,
          -856571.6300610326
         ],
         "yaxis": "y"
        },
        {
         "name": "EUA Dec24 75C",
         "type": "scatter",
         "x": [
          30,
          31,
          32,
          33,
          34,
          35,
          36,
          37,
          38,
          39,
          40,
          41,
          42,
          43,
          44,
          45,
          46,
          47,
          48,
          49,
          50,
          51,
          52,
          53,
          54,
          55,
          56,
          57,
          58,
          59,
          60,
          61,
          62,
          63,
          64,
          65,
          66,
          67,
          68,
          69,
          70,
          71,
          72,
          73,
          74,
          75,
          76,
          77,
          78,
          79,
          80,
          81,
          82,
          83,
          84,
          85,
          86,
          87,
          88,
          89,
          90,
          91,
          92,
          93,
          94,
          95,
          96,
          97,
          98,
          99,
          100
         ],
         "xaxis": "x2",
         "y": [
          -76.0205026274628,
          -103.79000498216962,
          -138.9934111885066,
          -182.85383651517492,
          -236.6332403152755,
          -301.60712978358134,
          -379.03812446980425,
          -470.1493911466003,
          -576.0988986467041,
          -697.9553393877609,
          -836.6764308864346,
          -993.0901587714357,
          -1167.8793636981868,
          -1361.5699175764992,
          -1574.5225871670655,
          -1806.9285509247336,
          -2058.808421620496,
          -2330.0145347253847,
          -2620.236191324797,
          -2929.0074938479434,
          -3255.717381685723,
          -3599.6214597861745,
          -3959.8552141592495,
          -4335.448221334934,
          -4725.33898164105,
          -5128.39003625688,
          -5543.4030631120495,
          -5969.1336848464925,
          -6404.3057615152775,
          -6847.624980090603,
          -7297.791590941255,
          -7753.512177482288,
          -8213.510378447774,
          -8676.5365123225,
          -9141.376080129421,
          -9606.85714591394,
          -10071.856613920681,
          -10535.305437743376,
          -10996.192809836637,
          -11453.569389948907,
          -11906.549638543158,
          -12354.313326404264,
          -12796.106294684334,
          -13231.240540900133,
          -13659.093706147838,
          -14079.108037301688,
          -14490.788895456582,
          -14893.70287857843,
          -15287.475622436434,
          -15671.789339580699,
          -16046.380151544896,
          -16411.03526472595,
          -16765.590035626323,
          -17109.924966428243,
          -17443.96266727431,
          -17767.664817210112,
          -18081.02915154545,
          -18384.086499440826,
          -18676.897891846646,
          -18959.55175652527,
          -19232.161213776788,
          -19494.86148366582,
          -19747.807413005004,
          -19991.171128080307,
          -20225.139817093233,
          -20449.9136445304,
          -20665.70379813694,
          -20872.730667850174,
          -21071.222154927378,
          -21261.412108559256,
          -21443.53888648265
         ],
         "yaxis": "y2"
        },
        {
         "name": "EUA Dec24 50P",
         "type": "scatter",
         "x": [
          30,
          31,
          32,
          33,
          34,
          35,
          36,
          37,
          38,
          39,
          40,
          41,
          42,
          43,
          44,
          45,
          46,
          47,
          48,
          49,
          50,
          51,
          52,
          53,
          54,
          55,
          56,
          57,
          58,
          59,
          60,
          61,
          62,
          63,
          64,
          65,
          66,
          67,
          68,
          69,
          70,
          71,
          72,
          73,
          74,
          75,
          76,
          77,
          78,
          79,
          80,
          81,
          82,
          83,
          84,
          85,
          86,
          87,
          88,
          89,
          90,
          91,
          92,
          93,
          94,
          95,
          96,
          97,
          98,
          99,
          100
         ],
         "xaxis": "x",
         "y": [
          -1434393.0693361412,
          -1363096.2035002888,
          -1293278.2468635123,
          -1225042.3415197057,
          -1158482.6472787657,
          -1093683.3487484225,
          -1030717.9448438359,
          -969648.8063249743,
          -910526.9799802492,
          -853392.2133611966,
          -798273.1712328792,
          -745187.8138106496,
          -694143.9070758368,
          -645139.636688853,
          -598164.298967391,
          -553199.0448271023,
          -510217.65528977435,
          -469187.3299865188,
          -430069.4728940925,
          -392820.46224700194,
          -357392.39409999206,
          -323733.79133174603,
          -291790.271956489,
          -261505.17243593582,
          -232820.12326088967,
          -205675.57540924475,
          -180011.2774001021,
          -155766.7035707746,
          -132881.43492514678,
          -111295.49445936223,
          -90949.63928525406,
          -71785.61216346234,
          -53746.355245749626,
          -36776.18892700729,
          -20820.958737491997,
          -5828.153178899222,
          8253.004663900234,
          21471.489009573048,
          33874.4241708767,
          45507.055803231866,
          56412.73832567103,
          66632.93639473393,
          76207.2384799983,
          85173.38075665738,
          93567.27969317326,
          101423.07186872835,
          108773.15970444465,
          115648.26193317381,
          122077.46776450578,
          128088.29382411296,
          133706.74305957585,
          138957.36490854985,
          143863.3161196864,
          148446.42170257217,
          152727.2355603957,
          156725.1004286622,
          160458.20680550145,
          163943.6506144781,
          167197.48938985702,
          170234.79681750806,
          173069.71550252463,
          175715.50786772624,
          178184.60511588844,
          180488.6542133173,
          182638.56287357703,
          184644.5425382345,
          186516.14936669153,
          188262.32325991066,
          189891.42495333636,
          191411.2712228799,
          192829.16825469292
         ],
         "yaxis": "y"
        },
        {
         "name": "EUA Dec24 50P",
         "type": "scatter",
         "x": [
          30,
          31,
          32,
          33,
          34,
          35,
          36,
          37,
          38,
          39,
          40,
          41,
          42,
          43,
          44,
          45,
          46,
          47,
          48,
          49,
          50,
          51,
          52,
          53,
          54,
          55,
          56,
          57,
          58,
          59,
          60,
          61,
          62,
          63,
          64,
          65,
          66,
          67,
          68,
          69,
          70,
          71,
          72,
          73,
          74,
          75,
          76,
          77,
          78,
          79,
          80,
          81,
          82,
          83,
          84,
          85,
          86,
          87,
          88,
          89,
          90,
          91,
          92,
          93,
          94,
          95,
          96,
          97,
          98,
          99,
          100
         ],
         "xaxis": "x2",
         "y": [
          44726.91788816171,
          43840.653475267885,
          42887.768809733825,
          41873.49150912222,
          40803.75440700052,
          39685.01714200058,
          38524.09410137864,
          37327.99380646562,
          36103.77333729295,
          34858.41006917046,
          33598.69186725935,
          32331.125966068143,
          31061.86604336175,
          29796.65646597122,
          28540.792316259194,
          27299.0935777303,
          26075.891741398787,
          24875.027067253613,
          23699.854775971075,
          22553.258536148645,
          21437.669735928117,
          20355.091171956698,
          19307.1239428755,
          18294.996490965754,
          17319.594888315492,
          16381.493608699217,
          15480.986160507748,
          14618.115077864984,
          13792.700875736218,
          13004.369670242499,
          12252.579247900463,
          11536.643437794624,
          10855.754699662879,
          10209.004889565087,
          9595.404204292658,
          9013.898337051607,
          8463.383901265965,
          7942.722197597502,
          7450.751412380552,
          6986.297344463377,
          6548.1827626787335,
          6135.2354984963495,
          5746.2953784186975,
          5380.220098865362,
          5035.890143078281,
          4712.21283533087,
          4408.125622736914,
          4122.598669483457,
          3854.6368425543596,
          3603.281162134847,
          3367.609784019043,
          3146.7385755850564,
          2939.8213413293015,
          2746.0497486220315,
          2564.6529992956857,
          2394.8972879343446,
          2236.085083308914,
          2087.554265304653,
          1948.6771459137797,
          1818.8593994087344,
          1697.5389236611072,
          1584.1846517128388,
          1478.2953301245016,
          1379.3982783038782,
          1287.0481409378187,
          1200.8256437951227,
          1120.3363615189032,
          1045.2095045674848,
          975.0967311759451,
          909.6709890805521,
          848.625390760449
         ],
         "yaxis": "y2"
        },
        {
         "mode": "lines",
         "name": "Total_PnL",
         "type": "scatter",
         "x": [
          30,
          31,
          32,
          33,
          34,
          35,
          36,
          37,
          38,
          39,
          40,
          41,
          42,
          43,
          44,
          45,
          46,
          47,
          48,
          49,
          50,
          51,
          52,
          53,
          54,
          55,
          56,
          57,
          58,
          59,
          60,
          61,
          62,
          63,
          64,
          65,
          66,
          67,
          68,
          69,
          70,
          71,
          72,
          73,
          74,
          75,
          76,
          77,
          78,
          79,
          80,
          81,
          82,
          83,
          84,
          85,
          86,
          87,
          88,
          89,
          90,
          91,
          92,
          93,
          94,
          95,
          96,
          97,
          98,
          99,
          100
         ],
         "xaxis": "x",
         "y": [
          -1584394.9339812133,
          -1512031.718041794,
          -1440884.0379558965,
          -1371018.7415888938,
          -1302494.7435175064,
          -1235363.192529202,
          -1169667.907938877,
          -1105446.0220888546,
          -1042728.7648363077,
          -981542.3286370935,
          -921908.7589299171,
          -863846.8228147497,
          -807372.8184878002,
          -752501.2976686859,
          -699245.6826398001,
          -647618.768009601,
          -597633.1045890101,
          -549301.268672422,
          -502636.0245123409,
          -457650.3909395995,
          -414357.6250473735,
          -372771.136805526,
          -332904.34859721456,
          -294770.513166312,
          -258382.50251206115,
          -223752.57902429262,
          -190892.15875014453,
          -159811.57522570487,
          -130519.85087168837,
          -103024.48159587014,
          -77331.2390016325,
          -53443.99349056659,
          -31364.56057437035,
          -11092.571875204034,
          7374.62841386173,
          24042.06142702449,
          38917.16618772186,
          52009.827535324686,
          63332.38043551342,
          72899.59194492825,
          80728.62229618174,
          86838.9667170607,
          91252.37970486213,
          93992.78354904118,
          95086.16293734424,
          94560.44749613912,
          92445.38410797161,
          88772.4008208978,
          83574.46411754146,
          76885.93124894249,
          68742.39926134644,
          59180.55225502877,
          48238.00831503357,
          35953.16744631794,
          22365.0617321108,
          7513.208816161496,
          -8562.53031098735,
          -25822.088363167306,
          -44225.32290923604,
          -63732.14100381237,
          -84302.61679336138,
          -105897.10170310005,
          -128476.32691444256,
          -152001.49794045815,
          -176434.38119742737,
          -201737.3825535638,
          -227873.61791088613,
          -254806.97594339648,
          -282502.17317340407,
          -310924.8016189734,
          -340041.3692886587
         ],
         "yaxis": "y"
        },
        {
         "mode": "lines",
         "name": "Total_Delta",
         "type": "scatter",
         "x": [
          30,
          31,
          32,
          33,
          34,
          35,
          36,
          37,
          38,
          39,
          40,
          41,
          42,
          43,
          44,
          45,
          46,
          47,
          48,
          49,
          50,
          51,
          52,
          53,
          54,
          55,
          56,
          57,
          58,
          59,
          60,
          61,
          62,
          63,
          64,
          65,
          66,
          67,
          68,
          69,
          70,
          71,
          72,
          73,
          74,
          75,
          76,
          77,
          78,
          79,
          80,
          81,
          82,
          83,
          84,
          85,
          86,
          87,
          88,
          89,
          90,
          91,
          92,
          93,
          94,
          95,
          96,
          97,
          98,
          99,
          100
         ],
         "xaxis": "x2",
         "y": [
          45317.113510588315,
          44583.67846301839,
          43806.35787784736,
          42990.09506145208,
          42139.824900902364,
          41260.288191595115,
          40355.88334768953,
          39430.55801990685,
          38487.74012452355,
          37530.30540543227,
          36560.57695482236,
          35580.35108499957,
          34590.943501852,
          33593.249776356126,
          32587.814527324772,
          31574.904399224088,
          30554.58073613263,
          29526.768725835795,
          28491.320645084958,
          27448.071626550423,
          26396.8870568656,
          25337.701286293413,
          24270.547779670465,
          23195.5811706359,
          22113.091908376606,
          21023.51432354696,
          19927.42900448548,
          18825.56038303522,
          17718.77039656532,
          16608.049032595973,
          15494.502485831037,
          14379.339573119581,
          13263.856966379011,
          12149.423721324241,
          11037.465503811833,
          9929.44884726405,
          8826.865714534682,
          7731.218585574473,
          6644.006247753543,
          5566.710427860278,
          4500.783372680055,
          3447.6364577285367,
          2408.629880319775,
          1385.063472951484,
          378.16865538823185,
          -610.8984716476725,
          -1581.0629019544995,
          -2531.3353914115305,
          -3460.8160512751792,
          -4368.696910300849,
          -5254.263496959662,
          -6116.895499963094,
          -6956.066571031068,
          -7771.343338350458,
          -8562.383702491752,
          -9328.934488715986,
          -10070.828530657815,
          -10787.981260381111,
          -11480.386878846826,
          -12148.11417900195,
          -12791.302091094949,
          -13410.155016553123,
          -14004.938012934925,
          -14575.971888205077,
          -15123.628257982029,
          -15648.324614582083,
          -16150.519451727954,
          -16630.707483792146,
          -17089.414993488022,
          -17527.19533707195,
          -17944.624631440787
         ],
         "yaxis": "y2"
        }
       ],
       "layout": {
        "barmode": "stack",
        "template": {
         "data": {
          "bar": [
           {
            "error_x": {
             "color": "#2a3f5f"
            },
            "error_y": {
             "color": "#2a3f5f"
            },
            "marker": {
             "line": {
              "color": "#E5ECF6",
              "width": 0.5
             },
             "pattern": {
              "fillmode": "overlay",
              "size": 10,
              "solidity": 0.2
             }
            },
            "type": "bar"
           }
          ],
          "barpolar": [
           {
            "marker": {
             "line": {
              "color": "#E5ECF6",
              "width": 0.5
             },
             "pattern": {
              "fillmode": "overlay",
              "size": 10,
              "solidity": 0.2
             }
            },
            "type": "barpolar"
           }
          ],
          "carpet": [
           {
            "aaxis": {
             "endlinecolor": "#2a3f5f",
             "gridcolor": "white",
             "linecolor": "white",
             "minorgridcolor": "white",
             "startlinecolor": "#2a3f5f"
            },
            "baxis": {
             "endlinecolor": "#2a3f5f",
             "gridcolor": "white",
             "linecolor": "white",
             "minorgridcolor": "white",
             "startlinecolor": "#2a3f5f"
            },
            "type": "carpet"
           }
          ],
          "choropleth": [
           {
            "colorbar": {
             "outlinewidth": 0,
             "ticks": ""
            },
            "type": "choropleth"
           }
          ],
          "contour": [
           {
            "colorbar": {
             "outlinewidth": 0,
             "ticks": ""
            },
            "colorscale": [
             [
              0,
              "#0d0887"
             ],
             [
              0.1111111111111111,
              "#46039f"
             ],
             [
              0.2222222222222222,
              "#7201a8"
             ],
             [
              0.3333333333333333,
              "#9c179e"
             ],
             [
              0.4444444444444444,
              "#bd3786"
             ],
             [
              0.5555555555555556,
              "#d8576b"
             ],
             [
              0.6666666666666666,
              "#ed7953"
             ],
             [
              0.7777777777777778,
              "#fb9f3a"
             ],
             [
              0.8888888888888888,
              "#fdca26"
             ],
             [
              1,
              "#f0f921"
             ]
            ],
            "type": "contour"
           }
          ],
          "contourcarpet": [
           {
            "colorbar": {
             "outlinewidth": 0,
             "ticks": ""
            },
            "type": "contourcarpet"
           }
          ],
          "heatmap": [
           {
            "colorbar": {
             "outlinewidth": 0,
             "ticks": ""
            },
            "colorscale": [
             [
              0,
              "#0d0887"
             ],
             [
              0.1111111111111111,
              "#46039f"
             ],
             [
              0.2222222222222222,
              "#7201a8"
             ],
             [
              0.3333333333333333,
              "#9c179e"
             ],
             [
              0.4444444444444444,
              "#bd3786"
             ],
             [
              0.5555555555555556,
              "#d8576b"
             ],
             [
              0.6666666666666666,
              "#ed7953"
             ],
             [
              0.7777777777777778,
              "#fb9f3a"
             ],
             [
              0.8888888888888888,
              "#fdca26"
             ],
             [
              1,
              "#f0f921"
             ]
            ],
            "type": "heatmap"
           }
          ],
          "heatmapgl": [
           {
            "colorbar": {
             "outlinewidth": 0,
             "ticks": ""
            },
            "colorscale": [
             [
              0,
              "#0d0887"
             ],
             [
              0.1111111111111111,
              "#46039f"
             ],
             [
              0.2222222222222222,
              "#7201a8"
             ],
             [
              0.3333333333333333,
              "#9c179e"
             ],
             [
              0.4444444444444444,
              "#bd3786"
             ],
             [
              0.5555555555555556,
              "#d8576b"
             ],
             [
              0.6666666666666666,
              "#ed7953"
             ],
             [
              0.7777777777777778,
              "#fb9f3a"
             ],
             [
              0.8888888888888888,
              "#fdca26"
             ],
             [
              1,
              "#f0f921"
             ]
            ],
            "type": "heatmapgl"
           }
          ],
          "histogram": [
           {
            "marker": {
             "pattern": {
              "fillmode": "overlay",
              "size": 10,
              "solidity": 0.2
             }
            },
            "type": "histogram"
           }
          ],
          "histogram2d": [
           {
            "colorbar": {
             "outlinewidth": 0,
             "ticks": ""
            },
            "colorscale": [
             [
              0,
              "#0d0887"
             ],
             [
              0.1111111111111111,
              "#46039f"
             ],
             [
              0.2222222222222222,
              "#7201a8"
             ],
             [
              0.3333333333333333,
              "#9c179e"
             ],
             [
              0.4444444444444444,
              "#bd3786"
             ],
             [
              0.5555555555555556,
              "#d8576b"
             ],
             [
              0.6666666666666666,
              "#ed7953"
             ],
             [
              0.7777777777777778,
              "#fb9f3a"
             ],
             [
              0.8888888888888888,
              "#fdca26"
             ],
             [
              1,
              "#f0f921"
             ]
            ],
            "type": "histogram2d"
           }
          ],
          "histogram2dcontour": [
           {
            "colorbar": {
             "outlinewidth": 0,
             "ticks": ""
            },
            "colorscale": [
             [
              0,
              "#0d0887"
             ],
             [
              0.1111111111111111,
              "#46039f"
             ],
             [
              0.2222222222222222,
              "#7201a8"
             ],
             [
              0.3333333333333333,
              "#9c179e"
             ],
             [
              0.4444444444444444,
              "#bd3786"
             ],
             [
              0.5555555555555556,
              "#d8576b"
             ],
             [
              0.6666666666666666,
              "#ed7953"
             ],
             [
              0.7777777777777778,
              "#fb9f3a"
             ],
             [
              0.8888888888888888,
              "#fdca26"
             ],
             [
              1,
              "#f0f921"
             ]
            ],
            "type": "histogram2dcontour"
           }
          ],
          "mesh3d": [
           {
            "colorbar": {
             "outlinewidth": 0,
             "ticks": ""
            },
            "type": "mesh3d"
           }
          ],
          "parcoords": [
           {
            "line": {
             "colorbar": {
              "outlinewidth": 0,
              "ticks": ""
             }
            },
            "type": "parcoords"
           }
          ],
          "pie": [
           {
            "automargin": true,
            "type": "pie"
           }
          ],
          "scatter": [
           {
            "fillpattern": {
             "fillmode": "overlay",
             "size": 10,
             "solidity": 0.2
            },
            "type": "scatter"
           }
          ],
          "scatter3d": [
           {
            "line": {
             "colorbar": {
              "outlinewidth": 0,
              "ticks": ""
             }
            },
            "marker": {
             "colorbar": {
              "outlinewidth": 0,
              "ticks": ""
             }
            },
            "type": "scatter3d"
           }
          ],
          "scattercarpet": [
           {
            "marker": {
             "colorbar": {
              "outlinewidth": 0,
              "ticks": ""
             }
            },
            "type": "scattercarpet"
           }
          ],
          "scattergeo": [
           {
            "marker": {
             "colorbar": {
              "outlinewidth": 0,
              "ticks": ""
             }
            },
            "type": "scattergeo"
           }
          ],
          "scattergl": [
           {
            "marker": {
             "colorbar": {
              "outlinewidth": 0,
              "ticks": ""
             }
            },
            "type": "scattergl"
           }
          ],
          "scattermapbox": [
           {
            "marker": {
             "colorbar": {
              "outlinewidth": 0,
              "ticks": ""
             }
            },
            "type": "scattermapbox"
           }
          ],
          "scatterpolar": [
           {
            "marker": {
             "colorbar": {
              "outlinewidth": 0,
              "ticks": ""
             }
            },
            "type": "scatterpolar"
           }
          ],
          "scatterpolargl": [
           {
            "marker": {
             "colorbar": {
              "outlinewidth": 0,
              "ticks": ""
             }
            },
            "type": "scatterpolargl"
           }
          ],
          "scatterternary": [
           {
            "marker": {
             "colorbar": {
              "outlinewidth": 0,
              "ticks": ""
             }
            },
            "type": "scatterternary"
           }
          ],
          "surface": [
           {
            "colorbar": {
             "outlinewidth": 0,
             "ticks": ""
            },
            "colorscale": [
             [
              0,
              "#0d0887"
             ],
             [
              0.1111111111111111,
              "#46039f"
             ],
             [
              0.2222222222222222,
              "#7201a8"
             ],
             [
              0.3333333333333333,
              "#9c179e"
             ],
             [
              0.4444444444444444,
              "#bd3786"
             ],
             [
              0.5555555555555556,
              "#d8576b"
             ],
             [
              0.6666666666666666,
              "#ed7953"
             ],
             [
              0.7777777777777778,
              "#fb9f3a"
             ],
             [
              0.8888888888888888,
              "#fdca26"
             ],
             [
              1,
              "#f0f921"
             ]
            ],
            "type": "surface"
           }
          ],
          "table": [
           {
            "cells": {
             "fill": {
              "color": "#EBF0F8"
             },
             "line": {
              "color": "white"
             }
            },
            "header": {
             "fill": {
              "color": "#C8D4E3"
             },
             "line": {
              "color": "white"
             }
            },
            "type": "table"
           }
          ]
         },
         "layout": {
          "annotationdefaults": {
           "arrowcolor": "#2a3f5f",
           "arrowhead": 0,
           "arrowwidth": 1
          },
          "autotypenumbers": "strict",
          "coloraxis": {
           "colorbar": {
            "outlinewidth": 0,
            "ticks": ""
           }
          },
          "colorscale": {
           "diverging": [
            [
             0,
             "#8e0152"
            ],
            [
             0.1,
             "#c51b7d"
            ],
            [
             0.2,
             "#de77ae"
            ],
            [
             0.3,
             "#f1b6da"
            ],
            [
             0.4,
             "#fde0ef"
            ],
            [
             0.5,
             "#f7f7f7"
            ],
            [
             0.6,
             "#e6f5d0"
            ],
            [
             0.7,
             "#b8e186"
            ],
            [
             0.8,
             "#7fbc41"
            ],
            [
             0.9,
             "#4d9221"
            ],
            [
             1,
             "#276419"
            ]
           ],
           "sequential": [
            [
             0,
             "#0d0887"
            ],
            [
             0.1111111111111111,
             "#46039f"
            ],
            [
             0.2222222222222222,
             "#7201a8"
            ],
            [
             0.3333333333333333,
             "#9c179e"
            ],
            [
             0.4444444444444444,
             "#bd3786"
            ],
            [
             0.5555555555555556,
             "#d8576b"
            ],
            [
             0.6666666666666666,
             "#ed7953"
            ],
            [
             0.7777777777777778,
             "#fb9f3a"
            ],
            [
             0.8888888888888888,
             "#fdca26"
            ],
            [
             1,
             "#f0f921"
            ]
           ],
           "sequentialminus": [
            [
             0,
             "#0d0887"
            ],
            [
             0.1111111111111111,
             "#46039f"
            ],
            [
             0.2222222222222222,
             "#7201a8"
            ],
            [
             0.3333333333333333,
             "#9c179e"
            ],
            [
             0.4444444444444444,
             "#bd3786"
            ],
            [
             0.5555555555555556,
             "#d8576b"
            ],
            [
             0.6666666666666666,
             "#ed7953"
            ],
            [
             0.7777777777777778,
             "#fb9f3a"
            ],
            [
             0.8888888888888888,
             "#fdca26"
            ],
            [
             1,
             "#f0f921"
            ]
           ]
          },
          "colorway": [
           "#636efa",
           "#EF553B",
           "#00cc96",
           "#ab63fa",
           "#FFA15A",
           "#19d3f3",
           "#FF6692",
           "#B6E880",
           "#FF97FF",
           "#FECB52"
          ],
          "font": {
           "color": "#2a3f5f"
          },
          "geo": {
           "bgcolor": "white",
           "lakecolor": "white",
           "landcolor": "#E5ECF6",
           "showlakes": true,
           "showland": true,
           "subunitcolor": "white"
          },
          "hoverlabel": {
           "align": "left"
          },
          "hovermode": "closest",
          "mapbox": {
           "style": "light"
          },
          "paper_bgcolor": "white",
          "plot_bgcolor": "#E5ECF6",
          "polar": {
           "angularaxis": {
            "gridcolor": "white",
            "linecolor": "white",
            "ticks": ""
           },
           "bgcolor": "#E5ECF6",
           "radialaxis": {
            "gridcolor": "white",
            "linecolor": "white",
            "ticks": ""
           }
          },
          "scene": {
           "xaxis": {
            "backgroundcolor": "#E5ECF6",
            "gridcolor": "white",
            "gridwidth": 2,
            "linecolor": "white",
            "showbackground": true,
            "ticks": "",
            "zerolinecolor": "white"
           },
           "yaxis": {
            "backgroundcolor": "#E5ECF6",
            "gridcolor": "white",
            "gridwidth": 2,
            "linecolor": "white",
            "showbackground": true,
            "ticks": "",
            "zerolinecolor": "white"
           },
           "zaxis": {
            "backgroundcolor": "#E5ECF6",
            "gridcolor": "white",
            "gridwidth": 2,
            "linecolor": "white",
            "showbackground": true,
            "ticks": "",
            "zerolinecolor": "white"
           }
          },
          "shapedefaults": {
           "line": {
            "color": "#2a3f5f"
           }
          },
          "ternary": {
           "aaxis": {
            "gridcolor": "white",
            "linecolor": "white",
            "ticks": ""
           },
           "baxis": {
            "gridcolor": "white",
            "linecolor": "white",
            "ticks": ""
           },
           "bgcolor": "#E5ECF6",
           "caxis": {
            "gridcolor": "white",
            "linecolor": "white",
            "ticks": ""
           }
          },
          "title": {
           "x": 0.05
          },
          "xaxis": {
           "automargin": true,
           "gridcolor": "white",
           "linecolor": "white",
           "ticks": "",
           "title": {
            "standoff": 15
           },
           "zerolinecolor": "white",
           "zerolinewidth": 2
          },
          "yaxis": {
           "automargin": true,
           "gridcolor": "white",
           "linecolor": "white",
           "ticks": "",
           "title": {
            "standoff": 15
           },
           "zerolinecolor": "white",
           "zerolinewidth": 2
          }
         }
        },
        "title": {
         "text": "Todays Option Pos (PnL and Delta)",
         "x": 0.5,
         "xanchor": "center"
        },
        "xaxis": {
         "anchor": "y",
         "domain": [
          0,
          0.45
         ],
         "title": {
          "text": "Price"
         }
        },
        "xaxis2": {
         "anchor": "y2",
         "domain": [
          0.55,
          1
         ],
         "title": {
          "text": "Price"
         }
        },
        "yaxis": {
         "anchor": "x",
         "domain": [
          0,
          1
         ],
         "title": {
          "text": "Pnl"
         }
        },
        "yaxis2": {
         "anchor": "x2",
         "domain": [
          0,
          1
         ],
         "title": {
          "text": "Delta"
         }
        }
       }
      },
      "text/html": [
       "<div>                            <div id=\"023a4bb1-259a-498a-9294-3c596e3ffcc0\" class=\"plotly-graph-div\" style=\"height:525px; width:100%;\"></div>            <script type=\"text/javascript\">                require([\"plotly\"], function(Plotly) {                    window.PLOTLYENV=window.PLOTLYENV || {};                                    if (document.getElementById(\"023a4bb1-259a-498a-9294-3c596e3ffcc0\")) {                    Plotly.newPlot(                        \"023a4bb1-259a-498a-9294-3c596e3ffcc0\",                        [{\"name\":\"EUA Sep24 65C\",\"x\":[30,31,32,33,34,35,36,37,38,39,40,41,42,43,44,45,46,47,48,49,50,51,52,53,54,55,56,57,58,59,60,61,62,63,64,65,66,67,68,69,70,71,72,73,74,75,76,77,78,79,80,81,82,83,84,85,86,87,88,89,90,91,92,93,94,95,96,97,98,99,100],\"y\":[358072.80807723565,357997.34385013103,357884.35517404886,357719.71705478756,357485.74833521486,357160.84467485175,356719.1959049728,356130.6100567907,355360.46118963504,354369.7718026955,353115.43365588936,351550.56381383445,349624.98617055075,347285.8230275024,344478.17678368324,341145.87862902816,337232.2793677369,332681.05708830367,327437.01721142686,321446.86229576165,314659.9116399179,307028.7539489095,298509.81990106066,289063.86514261947,278656.3578660265,267257.76854226156,254843.76246268608,241395.29842195293,226898.63909459958,211345.28040667874,194731.80848709258,177059.6936270581,158335.03111999395,138568.2389469846,117773.72206875093,95969.51263924205,73176.89482295956,49420.02212904102,24725.534316454017,-877.8199827507126,-27359.549696478174,-54687.77248277034,-82829.54718689625,-111751.18494923678,-141418.5370749002,-171797.25844818176,-202853.04586811116,-234551.85119444525,-266860.0696279925,-299744.70380847965,-333173.50470208627,-367115.09047505865,-401539.04471572523,-436415.9954815284,-471717.6767169229,-507416.97361867124,-543487.9535234045,-579905.8838640526,-616647.2386921223,-653689.6951966193,-691012.1215718503,-728594.5574990708,-766418.1884141524,-804465.3146377882,-842719.3163484337,-881164.6152830771,-919786.6339583863,-958571.7531159942,-997507.26801144,-1036581.3440871788,-1075782.972496493],\"type\":\"scatter\",\"xaxis\":\"x\",\"yaxis\":\"y\"},{\"name\":\"EUA Sep24 65C\",\"x\":[30,31,32,33,34,35,36,37,38,39,40,41,42,43,44,45,46,47,48,49,50,51,52,53,54,55,56,57,58,59,60,61,62,63,64,65,66,67,68,69,70,71,72,73,74,75,76,77,78,79,80,81,82,83,84,85,86,87,88,89,90,91,92,93,94,95,96,97,98,99,100],\"y\":[-37.44916230002925,-56.93434098856207,-84.12912200306502,-121.10144040327988,-170.1661740786796,-233.84068159273582,-314.785322893948,-415.73169300686317,-539.4021820819265,-688.4250277802554,-865.2492267335299,-1072.0635375900663,-1310.723385572583,-1582.688833898718,-1888.9759967431116,-2230.1234079971823,-2606.173999565198,-3016.672540389502,-3460.6776866200435,-3936.7872231156216,-4443.174651328749,-4977.635000712898,-5537.6376022585255,-6120.383548471886,-6722.865654224054,-7341.92890523728,-7974.329612964351,-8616.791764793466,-9266.059347600478,-9918.943714243356,-10572.3653433867,-11223.389602997404,-11869.256359943009,-12507.40347805823,-13135.484412865966,-13751.3802428009,-14353.206575720806,-14939.315838215622,-15508.295496967694,-16058.96277981533,-16590.35646301929,-17101.726274273373,-17592.520431792123,-18062.371801605997,-18511.08311089535,-18938.611607301787,-19345.053504771146,-19730.628507318303,-20095.664654507582,-20440.583687429265,-20765.887092244935,-21072.142940443417,-21359.973611054247,-21630.044450293688,-21883.05339841967,-22119.72159179263,-22340.784930047965,-22546.98658360014,-22739.07040510387,-22917.77519966272,-23083.829802169024,-23237.948905853085,-23380.82958360713,-23513.148442637623,-23635.55935322412,-23748.691693582146,-23853.149054827696,-23949.5083526336,-24038.319295190176,-24120.104160394945,-24195.35783868154],\"type\":\"scatter\",\"xaxis\":\"x2\",\"yaxis\":\"y2\"},{\"name\":\"EUA Sep24 85C\",\"x\":[30,31,32,33,34,35,36,37,38,39,40,41,42,43,44,45,46,47,48,49,50,51,52,53,54,55,56,57,58,59,60,61,62,63,64,65,66,67,68,69,70,71,72,73,74,75,76,77,78,79,80,81,82,83,84,85,86,87,88,89,90,91,92,93,94,95,96,97,98,99,100],\"y\":[91428.55918521562,91427.8496102668,91426.58892249406,91424.42430832704,91420.82319248567,91415.00501574781,91405.85666734235,91391.83072897981,91370.82650078187,91340.0547337854,91295.88803021637,91233.699921458,91147.69662051025,91030.74629941398,90874.21140026204,90667.78990281041,90399.37161160423,90054.91537934322,89618.35275826212,89071.52289215632,88394.14256720654,87563.81427939457,86556.07400599799,85344.47914675192,83900.73588376021,82194.86405055849,80195.39654524655,77869.60940691415,75183.7779255325,72103.45358993346,68593.75630370111,64619.676113172325,60146.37868614548,55139.50893893974,49565.487513108295,43391.795228110015,36587.24115763065,29122.21056947002,20968.889607170906,12101.464252423213,2496.291769568146,-7867.956521264561,-19010.18168339951,-30946.772789001774,-43691.55119194698,-57255.742458434535,-71647.97457988517,-86874.30077384146,-102938.24492615224,-119840.86753942634,-137580.84992498427,-156154.59430362465,-175556.337458979,-195778.27561020735,-216810.69823205,-238642.12864367678,-261259.46930729155,-284648.1499173079,-308792.2765157274,-333674.78003423807,-359277.56283404975,-385581.64198677766,-412567.28821040335,-440214.1595406823,-468501.42897805397,-497407.9055013216,-526912.1479806625,-556992.5716530896,-587627.5469424211,-618795.4905131119,-650474.9485426489],\"type\":\"scatter\",\"xaxis\":\"x\",\"yaxis\":\"y\"},{\"name\":\"EUA Sep24 85C\",\"x\":[30,31,32,33,34,35,36,37,38,39,40,41,42,43,44,45,46,47,48,49,50,51,52,53,54,55,56,57,58,59,60,61,62,63,64,65,66,67,68,69,70,71,72,73,74,75,76,77,78,79,80,81,82,83,84,85,86,87,88,89,90,91,92,93,94,95,96,97,98,99,100],\"y\":[-0.32032803844778834,-0.5804595595127549,-1.0148647483337376,-1.7167206799271981,-2.8165784877719355,-4.4920528391499035,-6.9782434721617435,-10.578439413506539,-15.674554467986766,-22.736672503734198,-32.33105149672809,-45.125950912282185,-61.894708181431696,-83.51559302295449,-110.96810585383655,-145.32554856411758,-187.74387099907213,-239.44697266778016,-301.70880518089047,-375.83276689130565,-463.1289994478804,-564.8902812079829,-682.3672619863407,-816.7437971918483,-969.1131189351934,-1140.45553085988,-1331.61823723941,-1543.297821095783,-1776.0257768891267,-2030.157386816521,-2305.864111665536,-2603.1295525783453,-2921.748933262597,-3261.3319564918042,-3621.3088065855604,-4000.9390024533395,-4399.322754391381,-4815.414442070954,-5248.037810367111,-5695.902472685958,-6157.621316738201,-6631.728423530314,-7116.697134834961,-7610.957935666141,-8112.915854483868,-8620.967123262575,-9133.514880612951,-9648.983742472832,-10165.833105309008,-10682.569085340892,-11197.755033257272,-11710.020596693012,-12218.069331990619,-12720.684892275294,-13216.735840547337,-13705.179154383515,-14185.062503074363,-14655.525388818458,-15115.799251210496,-15565.20663900054,-16003.15955529011,-16429.157082300066,-16842.782389927637,-17243.699228826317,-17631.648003997772,-18006.441519163163,-18367.960475739714,-18716.148803319706,-19051.00889133597,-19372.596784277393,-19681.017395539],\"type\":\"scatter\",\"xaxis\":\"x2\",\"yaxis\":\"y2\"},{\"name\":\"EUA Dec24 65C\",\"x\":[30,31,32,33,34,35,36,37,38,39,40,41,42,43,44,45,46,47,48,49,50,51,52,53,54,55,56,57,58,59,60,61,62,63,64,65,66,67,68,69,70,71,72,73,74,75,76,77,78,79,80,81,82,83,84,85,86,87,88,89,90,91,92,93,94,95,96,97,98,99,100],\"y\":[-855910.0990447282,-854624.2873481999,-852986.6637555074,-850933.5461038314,-848396.565130737,-845303.3468510142,-841578.2910229532,-837143.4199584894,-831919.2714134773,-825825.8099750866,-818783.333018614,-810713.349698985,-801539.4143416582,-791187.8987910192,-779588.6915763662,-766675.815012436,-752387.9544421519,-736668.8966646895,-719467.8771118014,-700739.8375049406,-680445.5975313596,-658551.9455226917,-635031.6542209522,-609863.4285003317,-583031.7924106492,-554526.9231553666,-524344.4396505111,-492485.15316711116,-458954.78727365297,-423763.67389884085,-386926.43185777956,-348461.6336523626,-308391.4657913542,-266741.3872962616,-223539.790481013,-178817.667529213,-132608.28585198938,-84946.87469934308,-35870.325023673286,14583.095841092465,66374.013515735,119462.19911141506,173806.80446120555,229366.57981667286,286100.0740139134,343965.81731325027,402922.48728389107,462929.0582418324,523944.9348591382,585930.0706480513,648845.0720870934,712651.2892009285,777310.8934337397,842786.9436696774,909043.4412555669,976045.3748724599,1043758.7560858099,1112150.6463802068,1181189.1764556023,1250843.5585285688,1321084.092346018,1391882.165580203,1463210.2492342568,1535041.8886471458,1607351.6906465963,1680115.3073585897,1753309.417143068,1826911.7030873985,1900900.8294527635,1975256.4164335825,2049959.013556823],\"type\":\"scatter\",\"xaxis\":\"x\",\"yaxis\":\"y\"},{\"name\":\"EUA Dec24 65C\",\"x\":[30,31,32,33,34,35,36,37,38,39,40,41,42,43,44,45,46,47,48,49,50,51,52,53,54,55,56,57,58,59,60,61,62,63,64,65,66,67,68,69,70,71,72,73,74,75,76,77,78,79,80,81,82,83,84,85,86,87,88,89,90,91,92,93,94,95,96,97,98,99,100],\"y\":[703.9856153925422,904.3297932807476,1142.7264660534402,1422.2755499282357,1745.6864867835718,2115.210913810004,2532.5909371468047,2999.023737008196,3515.1424224272228,4081.012375933565,4696.141796679698,5359.504766205217,6069.574915942455,6824.367654883079,7621.4889008295895,8458.188328979824,9331.41528691861,10237.875706364848,11174.088552239615,12136.440574256649,13121.238353399833,14124.756856043772,15143.283915199085,16173.160246668816,17210.81477486141,18252.79518720178,19295.793757293544,20336.668575905976,21372.460406833983,22400.405443503954,23417.944283924066,24422.727468382993,25412.617938369513,26385.690778631688,27340.230599100123,28274.72690138062,29187.867757301585,30078.532106006922,30945.78095254443,31788.847725847096,32607.12802830197,33400.16898344014,34167.6583632125,34909.413652258394,35625.37118383701,36315.57546088751,36980.168756149265,37619.38106747458,38233.520488423484,38822.96403991516,39388.1489960684,39929.564726314224,40447.74506631082,40943.26122202474,41416.71520445388,41868.733786735924,42299.962970701046,42711.06294617366,43102.70352340041,43475.56001677785,43830.309556479864,44167.62780355301,44488.186043480346,44792.64863303529,45081.67077539528,45355.8965988985,45615.95751545749,45862.47083544385,46096.038616789556,46317.246727079095,46526.664098501955],\"type\":\"scatter\",\"xaxis\":\"x2\",\"yaxis\":\"y2\"},{\"name\":\"EUA Dec24 75C\",\"x\":[30,31,32,33,34,35,36,37,38,39,40,41,42,43,44,45,46,47,48,49,50,51,52,53,54,55,56,57,58,59,60,61,62,63,64,65,66,67,68,69,70,71,72,73,74,75,76,77,78,79,80,81,82,83,84,85,86,87,88,89,90,91,92,93,94,95,96,97,98,99,100],\"y\":[256406.8671372049,256263.57934629684,256069.92856658032,255813.0046715286,255477.89736429567,255047.65337963507,254503.275355597,253823.76340883863,252986.19886700183,251965.86816270876,250736.42363547033,249270.0769595924,247537.8201386339,245509.66848426996,243154.91972001185,240442.42329809873,237340.85416357504,233818.98551113938,229845.955523864,225391.52362442508,220426.31237685378,214922.03182060763,208851.68367316804,202189.74348058412,194912.31940969103,186997.28694749865,178424.39929253605,169175.3736833138,159233.9543069793,148585.95276572075,137219.26735060744,125123.88258502797,112291.85065659405,98717.25646214052,84396.1680505075,69326.57426778466,53508.3113952208,36942.980526583684,19633.857364685075,1585.7960309314183,-17194.871618314275,-36700.439785053386,-56921.93436604596,-77849.2192860505,-99471.10250289523,-121775.4407792232,-144749.24243236778,-168378.7673858217,-192649.6239519578,-217546.86187531578,-243055.06125825224,-269158.4170757663,-295840.8190636883,-323085.9268341959,-350877.24013487896,-379198.16422261257,-408032.0703716026,-437362.3515764917,-467172.47354684566,-497446.021119032,-528166.7402360039,-559318.5756651809,-590885.7046400321,-622852.5666224508,-655203.8893911128,-687924.7116659892,-721000.4024815969,-754416.6775216218,-788159.6126256427,-822215.654675145,-856571.6300610326],\"type\":\"scatter\",\"xaxis\":\"x\",\"yaxis\":\"y\"},{\"name\":\"EUA Dec24 75C\",\"x\":[30,31,32,33,34,35,36,37,38,39,40,41,42,43,44,45,46,47,48,49,50,51,52,53,54,55,56,57,58,59,60,61,62,63,64,65,66,67,68,69,70,71,72,73,74,75,76,77,78,79,80,81,82,83,84,85,86,87,88,89,90,91,92,93,94,95,96,97,98,99,100],\"y\":[-76.0205026274628,-103.79000498216962,-138.9934111885066,-182.85383651517492,-236.6332403152755,-301.60712978358134,-379.03812446980425,-470.1493911466003,-576.0988986467041,-697.9553393877609,-836.6764308864346,-993.0901587714357,-1167.8793636981868,-1361.5699175764992,-1574.5225871670655,-1806.9285509247336,-2058.808421620496,-2330.0145347253847,-2620.236191324797,-2929.0074938479434,-3255.717381685723,-3599.6214597861745,-3959.8552141592495,-4335.448221334934,-4725.33898164105,-5128.39003625688,-5543.4030631120495,-5969.1336848464925,-6404.3057615152775,-6847.624980090603,-7297.791590941255,-7753.512177482288,-8213.510378447774,-8676.5365123225,-9141.376080129421,-9606.85714591394,-10071.856613920681,-10535.305437743376,-10996.192809836637,-11453.569389948907,-11906.549638543158,-12354.313326404264,-12796.106294684334,-13231.240540900133,-13659.093706147838,-14079.108037301688,-14490.788895456582,-14893.70287857843,-15287.475622436434,-15671.789339580699,-16046.380151544896,-16411.03526472595,-16765.590035626323,-17109.924966428243,-17443.96266727431,-17767.664817210112,-18081.02915154545,-18384.086499440826,-18676.897891846646,-18959.55175652527,-19232.161213776788,-19494.86148366582,-19747.807413005004,-19991.171128080307,-20225.139817093233,-20449.9136445304,-20665.70379813694,-20872.730667850174,-21071.222154927378,-21261.412108559256,-21443.53888648265],\"type\":\"scatter\",\"xaxis\":\"x2\",\"yaxis\":\"y2\"},{\"name\":\"EUA Dec24 50P\",\"x\":[30,31,32,33,34,35,36,37,38,39,40,41,42,43,44,45,46,47,48,49,50,51,52,53,54,55,56,57,58,59,60,61,62,63,64,65,66,67,68,69,70,71,72,73,74,75,76,77,78,79,80,81,82,83,84,85,86,87,88,89,90,91,92,93,94,95,96,97,98,99,100],\"y\":[-1434393.0693361412,-1363096.2035002888,-1293278.2468635123,-1225042.3415197057,-1158482.6472787657,-1093683.3487484225,-1030717.9448438359,-969648.8063249743,-910526.9799802492,-853392.2133611966,-798273.1712328792,-745187.8138106496,-694143.9070758368,-645139.636688853,-598164.298967391,-553199.0448271023,-510217.65528977435,-469187.3299865188,-430069.4728940925,-392820.46224700194,-357392.39409999206,-323733.79133174603,-291790.271956489,-261505.17243593582,-232820.12326088967,-205675.57540924475,-180011.2774001021,-155766.7035707746,-132881.43492514678,-111295.49445936223,-90949.63928525406,-71785.61216346234,-53746.355245749626,-36776.18892700729,-20820.958737491997,-5828.153178899222,8253.004663900234,21471.489009573048,33874.4241708767,45507.055803231866,56412.73832567103,66632.93639473393,76207.2384799983,85173.38075665738,93567.27969317326,101423.07186872835,108773.15970444465,115648.26193317381,122077.46776450578,128088.29382411296,133706.74305957585,138957.36490854985,143863.3161196864,148446.42170257217,152727.2355603957,156725.1004286622,160458.20680550145,163943.6506144781,167197.48938985702,170234.79681750806,173069.71550252463,175715.50786772624,178184.60511588844,180488.6542133173,182638.56287357703,184644.5425382345,186516.14936669153,188262.32325991066,189891.42495333636,191411.2712228799,192829.16825469292],\"type\":\"scatter\",\"xaxis\":\"x\",\"yaxis\":\"y\"},{\"name\":\"EUA Dec24 50P\",\"x\":[30,31,32,33,34,35,36,37,38,39,40,41,42,43,44,45,46,47,48,49,50,51,52,53,54,55,56,57,58,59,60,61,62,63,64,65,66,67,68,69,70,71,72,73,74,75,76,77,78,79,80,81,82,83,84,85,86,87,88,89,90,91,92,93,94,95,96,97,98,99,100],\"y\":[44726.91788816171,43840.653475267885,42887.768809733825,41873.49150912222,40803.75440700052,39685.01714200058,38524.09410137864,37327.99380646562,36103.77333729295,34858.41006917046,33598.69186725935,32331.125966068143,31061.86604336175,29796.65646597122,28540.792316259194,27299.0935777303,26075.891741398787,24875.027067253613,23699.854775971075,22553.258536148645,21437.669735928117,20355.091171956698,19307.1239428755,18294.996490965754,17319.594888315492,16381.493608699217,15480.986160507748,14618.115077864984,13792.700875736218,13004.369670242499,12252.579247900463,11536.643437794624,10855.754699662879,10209.004889565087,9595.404204292658,9013.898337051607,8463.383901265965,7942.722197597502,7450.751412380552,6986.297344463377,6548.1827626787335,6135.2354984963495,5746.2953784186975,5380.220098865362,5035.890143078281,4712.21283533087,4408.125622736914,4122.598669483457,3854.6368425543596,3603.281162134847,3367.609784019043,3146.7385755850564,2939.8213413293015,2746.0497486220315,2564.6529992956857,2394.8972879343446,2236.085083308914,2087.554265304653,1948.6771459137797,1818.8593994087344,1697.5389236611072,1584.1846517128388,1478.2953301245016,1379.3982783038782,1287.0481409378187,1200.8256437951227,1120.3363615189032,1045.2095045674848,975.0967311759451,909.6709890805521,848.625390760449],\"type\":\"scatter\",\"xaxis\":\"x2\",\"yaxis\":\"y2\"},{\"mode\":\"lines\",\"name\":\"Total_PnL\",\"x\":[30,31,32,33,34,35,36,37,38,39,40,41,42,43,44,45,46,47,48,49,50,51,52,53,54,55,56,57,58,59,60,61,62,63,64,65,66,67,68,69,70,71,72,73,74,75,76,77,78,79,80,81,82,83,84,85,86,87,88,89,90,91,92,93,94,95,96,97,98,99,100],\"y\":[-1584394.9339812133,-1512031.718041794,-1440884.0379558965,-1371018.7415888938,-1302494.7435175064,-1235363.192529202,-1169667.907938877,-1105446.0220888546,-1042728.7648363077,-981542.3286370935,-921908.7589299171,-863846.8228147497,-807372.8184878002,-752501.2976686859,-699245.6826398001,-647618.768009601,-597633.1045890101,-549301.268672422,-502636.0245123409,-457650.3909395995,-414357.6250473735,-372771.136805526,-332904.34859721456,-294770.513166312,-258382.50251206115,-223752.57902429262,-190892.15875014453,-159811.57522570487,-130519.85087168837,-103024.48159587014,-77331.2390016325,-53443.99349056659,-31364.56057437035,-11092.571875204034,7374.62841386173,24042.06142702449,38917.16618772186,52009.827535324686,63332.38043551342,72899.59194492825,80728.62229618174,86838.9667170607,91252.37970486213,93992.78354904118,95086.16293734424,94560.44749613912,92445.38410797161,88772.4008208978,83574.46411754146,76885.93124894249,68742.39926134644,59180.55225502877,48238.00831503357,35953.16744631794,22365.0617321108,7513.208816161496,-8562.53031098735,-25822.088363167306,-44225.32290923604,-63732.14100381237,-84302.61679336138,-105897.10170310005,-128476.32691444256,-152001.49794045815,-176434.38119742737,-201737.3825535638,-227873.61791088613,-254806.97594339648,-282502.17317340407,-310924.8016189734,-340041.3692886587],\"type\":\"scatter\",\"xaxis\":\"x\",\"yaxis\":\"y\"},{\"mode\":\"lines\",\"name\":\"Total_Delta\",\"x\":[30,31,32,33,34,35,36,37,38,39,40,41,42,43,44,45,46,47,48,49,50,51,52,53,54,55,56,57,58,59,60,61,62,63,64,65,66,67,68,69,70,71,72,73,74,75,76,77,78,79,80,81,82,83,84,85,86,87,88,89,90,91,92,93,94,95,96,97,98,99,100],\"y\":[45317.113510588315,44583.67846301839,43806.35787784736,42990.09506145208,42139.824900902364,41260.288191595115,40355.88334768953,39430.55801990685,38487.74012452355,37530.30540543227,36560.57695482236,35580.35108499957,34590.943501852,33593.249776356126,32587.814527324772,31574.904399224088,30554.58073613263,29526.768725835795,28491.320645084958,27448.071626550423,26396.8870568656,25337.701286293413,24270.547779670465,23195.5811706359,22113.091908376606,21023.51432354696,19927.42900448548,18825.56038303522,17718.77039656532,16608.049032595973,15494.502485831037,14379.339573119581,13263.856966379011,12149.423721324241,11037.465503811833,9929.44884726405,8826.865714534682,7731.218585574473,6644.006247753543,5566.710427860278,4500.783372680055,3447.6364577285367,2408.629880319775,1385.063472951484,378.16865538823185,-610.8984716476725,-1581.0629019544995,-2531.3353914115305,-3460.8160512751792,-4368.696910300849,-5254.263496959662,-6116.895499963094,-6956.066571031068,-7771.343338350458,-8562.383702491752,-9328.934488715986,-10070.828530657815,-10787.981260381111,-11480.386878846826,-12148.11417900195,-12791.302091094949,-13410.155016553123,-14004.938012934925,-14575.971888205077,-15123.628257982029,-15648.324614582083,-16150.519451727954,-16630.707483792146,-17089.414993488022,-17527.19533707195,-17944.624631440787],\"type\":\"scatter\",\"xaxis\":\"x2\",\"yaxis\":\"y2\"}],                        {\"template\":{\"data\":{\"histogram2dcontour\":[{\"type\":\"histogram2dcontour\",\"colorbar\":{\"outlinewidth\":0,\"ticks\":\"\"},\"colorscale\":[[0.0,\"#0d0887\"],[0.1111111111111111,\"#46039f\"],[0.2222222222222222,\"#7201a8\"],[0.3333333333333333,\"#9c179e\"],[0.4444444444444444,\"#bd3786\"],[0.5555555555555556,\"#d8576b\"],[0.6666666666666666,\"#ed7953\"],[0.7777777777777778,\"#fb9f3a\"],[0.8888888888888888,\"#fdca26\"],[1.0,\"#f0f921\"]]}],\"choropleth\":[{\"type\":\"choropleth\",\"colorbar\":{\"outlinewidth\":0,\"ticks\":\"\"}}],\"histogram2d\":[{\"type\":\"histogram2d\",\"colorbar\":{\"outlinewidth\":0,\"ticks\":\"\"},\"colorscale\":[[0.0,\"#0d0887\"],[0.1111111111111111,\"#46039f\"],[0.2222222222222222,\"#7201a8\"],[0.3333333333333333,\"#9c179e\"],[0.4444444444444444,\"#bd3786\"],[0.5555555555555556,\"#d8576b\"],[0.6666666666666666,\"#ed7953\"],[0.7777777777777778,\"#fb9f3a\"],[0.8888888888888888,\"#fdca26\"],[1.0,\"#f0f921\"]]}],\"heatmap\":[{\"type\":\"heatmap\",\"colorbar\":{\"outlinewidth\":0,\"ticks\":\"\"},\"colorscale\":[[0.0,\"#0d0887\"],[0.1111111111111111,\"#46039f\"],[0.2222222222222222,\"#7201a8\"],[0.3333333333333333,\"#9c179e\"],[0.4444444444444444,\"#bd3786\"],[0.5555555555555556,\"#d8576b\"],[0.6666666666666666,\"#ed7953\"],[0.7777777777777778,\"#fb9f3a\"],[0.8888888888888888,\"#fdca26\"],[1.0,\"#f0f921\"]]}],\"heatmapgl\":[{\"type\":\"heatmapgl\",\"colorbar\":{\"outlinewidth\":0,\"ticks\":\"\"},\"colorscale\":[[0.0,\"#0d0887\"],[0.1111111111111111,\"#46039f\"],[0.2222222222222222,\"#7201a8\"],[0.3333333333333333,\"#9c179e\"],[0.4444444444444444,\"#bd3786\"],[0.5555555555555556,\"#d8576b\"],[0.6666666666666666,\"#ed7953\"],[0.7777777777777778,\"#fb9f3a\"],[0.8888888888888888,\"#fdca26\"],[1.0,\"#f0f921\"]]}],\"contourcarpet\":[{\"type\":\"contourcarpet\",\"colorbar\":{\"outlinewidth\":0,\"ticks\":\"\"}}],\"contour\":[{\"type\":\"contour\",\"colorbar\":{\"outlinewidth\":0,\"ticks\":\"\"},\"colorscale\":[[0.0,\"#0d0887\"],[0.1111111111111111,\"#46039f\"],[0.2222222222222222,\"#7201a8\"],[0.3333333333333333,\"#9c179e\"],[0.4444444444444444,\"#bd3786\"],[0.5555555555555556,\"#d8576b\"],[0.6666666666666666,\"#ed7953\"],[0.7777777777777778,\"#fb9f3a\"],[0.8888888888888888,\"#fdca26\"],[1.0,\"#f0f921\"]]}],\"surface\":[{\"type\":\"surface\",\"colorbar\":{\"outlinewidth\":0,\"ticks\":\"\"},\"colorscale\":[[0.0,\"#0d0887\"],[0.1111111111111111,\"#46039f\"],[0.2222222222222222,\"#7201a8\"],[0.3333333333333333,\"#9c179e\"],[0.4444444444444444,\"#bd3786\"],[0.5555555555555556,\"#d8576b\"],[0.6666666666666666,\"#ed7953\"],[0.7777777777777778,\"#fb9f3a\"],[0.8888888888888888,\"#fdca26\"],[1.0,\"#f0f921\"]]}],\"mesh3d\":[{\"type\":\"mesh3d\",\"colorbar\":{\"outlinewidth\":0,\"ticks\":\"\"}}],\"scatter\":[{\"fillpattern\":{\"fillmode\":\"overlay\",\"size\":10,\"solidity\":0.2},\"type\":\"scatter\"}],\"parcoords\":[{\"type\":\"parcoords\",\"line\":{\"colorbar\":{\"outlinewidth\":0,\"ticks\":\"\"}}}],\"scatterpolargl\":[{\"type\":\"scatterpolargl\",\"marker\":{\"colorbar\":{\"outlinewidth\":0,\"ticks\":\"\"}}}],\"bar\":[{\"error_x\":{\"color\":\"#2a3f5f\"},\"error_y\":{\"color\":\"#2a3f5f\"},\"marker\":{\"line\":{\"color\":\"#E5ECF6\",\"width\":0.5},\"pattern\":{\"fillmode\":\"overlay\",\"size\":10,\"solidity\":0.2}},\"type\":\"bar\"}],\"scattergeo\":[{\"type\":\"scattergeo\",\"marker\":{\"colorbar\":{\"outlinewidth\":0,\"ticks\":\"\"}}}],\"scatterpolar\":[{\"type\":\"scatterpolar\",\"marker\":{\"colorbar\":{\"outlinewidth\":0,\"ticks\":\"\"}}}],\"histogram\":[{\"marker\":{\"pattern\":{\"fillmode\":\"overlay\",\"size\":10,\"solidity\":0.2}},\"type\":\"histogram\"}],\"scattergl\":[{\"type\":\"scattergl\",\"marker\":{\"colorbar\":{\"outlinewidth\":0,\"ticks\":\"\"}}}],\"scatter3d\":[{\"type\":\"scatter3d\",\"line\":{\"colorbar\":{\"outlinewidth\":0,\"ticks\":\"\"}},\"marker\":{\"colorbar\":{\"outlinewidth\":0,\"ticks\":\"\"}}}],\"scattermapbox\":[{\"type\":\"scattermapbox\",\"marker\":{\"colorbar\":{\"outlinewidth\":0,\"ticks\":\"\"}}}],\"scatterternary\":[{\"type\":\"scatterternary\",\"marker\":{\"colorbar\":{\"outlinewidth\":0,\"ticks\":\"\"}}}],\"scattercarpet\":[{\"type\":\"scattercarpet\",\"marker\":{\"colorbar\":{\"outlinewidth\":0,\"ticks\":\"\"}}}],\"carpet\":[{\"aaxis\":{\"endlinecolor\":\"#2a3f5f\",\"gridcolor\":\"white\",\"linecolor\":\"white\",\"minorgridcolor\":\"white\",\"startlinecolor\":\"#2a3f5f\"},\"baxis\":{\"endlinecolor\":\"#2a3f5f\",\"gridcolor\":\"white\",\"linecolor\":\"white\",\"minorgridcolor\":\"white\",\"startlinecolor\":\"#2a3f5f\"},\"type\":\"carpet\"}],\"table\":[{\"cells\":{\"fill\":{\"color\":\"#EBF0F8\"},\"line\":{\"color\":\"white\"}},\"header\":{\"fill\":{\"color\":\"#C8D4E3\"},\"line\":{\"color\":\"white\"}},\"type\":\"table\"}],\"barpolar\":[{\"marker\":{\"line\":{\"color\":\"#E5ECF6\",\"width\":0.5},\"pattern\":{\"fillmode\":\"overlay\",\"size\":10,\"solidity\":0.2}},\"type\":\"barpolar\"}],\"pie\":[{\"automargin\":true,\"type\":\"pie\"}]},\"layout\":{\"autotypenumbers\":\"strict\",\"colorway\":[\"#636efa\",\"#EF553B\",\"#00cc96\",\"#ab63fa\",\"#FFA15A\",\"#19d3f3\",\"#FF6692\",\"#B6E880\",\"#FF97FF\",\"#FECB52\"],\"font\":{\"color\":\"#2a3f5f\"},\"hovermode\":\"closest\",\"hoverlabel\":{\"align\":\"left\"},\"paper_bgcolor\":\"white\",\"plot_bgcolor\":\"#E5ECF6\",\"polar\":{\"bgcolor\":\"#E5ECF6\",\"angularaxis\":{\"gridcolor\":\"white\",\"linecolor\":\"white\",\"ticks\":\"\"},\"radialaxis\":{\"gridcolor\":\"white\",\"linecolor\":\"white\",\"ticks\":\"\"}},\"ternary\":{\"bgcolor\":\"#E5ECF6\",\"aaxis\":{\"gridcolor\":\"white\",\"linecolor\":\"white\",\"ticks\":\"\"},\"baxis\":{\"gridcolor\":\"white\",\"linecolor\":\"white\",\"ticks\":\"\"},\"caxis\":{\"gridcolor\":\"white\",\"linecolor\":\"white\",\"ticks\":\"\"}},\"coloraxis\":{\"colorbar\":{\"outlinewidth\":0,\"ticks\":\"\"}},\"colorscale\":{\"sequential\":[[0.0,\"#0d0887\"],[0.1111111111111111,\"#46039f\"],[0.2222222222222222,\"#7201a8\"],[0.3333333333333333,\"#9c179e\"],[0.4444444444444444,\"#bd3786\"],[0.5555555555555556,\"#d8576b\"],[0.6666666666666666,\"#ed7953\"],[0.7777777777777778,\"#fb9f3a\"],[0.8888888888888888,\"#fdca26\"],[1.0,\"#f0f921\"]],\"sequentialminus\":[[0.0,\"#0d0887\"],[0.1111111111111111,\"#46039f\"],[0.2222222222222222,\"#7201a8\"],[0.3333333333333333,\"#9c179e\"],[0.4444444444444444,\"#bd3786\"],[0.5555555555555556,\"#d8576b\"],[0.6666666666666666,\"#ed7953\"],[0.7777777777777778,\"#fb9f3a\"],[0.8888888888888888,\"#fdca26\"],[1.0,\"#f0f921\"]],\"diverging\":[[0,\"#8e0152\"],[0.1,\"#c51b7d\"],[0.2,\"#de77ae\"],[0.3,\"#f1b6da\"],[0.4,\"#fde0ef\"],[0.5,\"#f7f7f7\"],[0.6,\"#e6f5d0\"],[0.7,\"#b8e186\"],[0.8,\"#7fbc41\"],[0.9,\"#4d9221\"],[1,\"#276419\"]]},\"xaxis\":{\"gridcolor\":\"white\",\"linecolor\":\"white\",\"ticks\":\"\",\"title\":{\"standoff\":15},\"zerolinecolor\":\"white\",\"automargin\":true,\"zerolinewidth\":2},\"yaxis\":{\"gridcolor\":\"white\",\"linecolor\":\"white\",\"ticks\":\"\",\"title\":{\"standoff\":15},\"zerolinecolor\":\"white\",\"automargin\":true,\"zerolinewidth\":2},\"scene\":{\"xaxis\":{\"backgroundcolor\":\"#E5ECF6\",\"gridcolor\":\"white\",\"linecolor\":\"white\",\"showbackground\":true,\"ticks\":\"\",\"zerolinecolor\":\"white\",\"gridwidth\":2},\"yaxis\":{\"backgroundcolor\":\"#E5ECF6\",\"gridcolor\":\"white\",\"linecolor\":\"white\",\"showbackground\":true,\"ticks\":\"\",\"zerolinecolor\":\"white\",\"gridwidth\":2},\"zaxis\":{\"backgroundcolor\":\"#E5ECF6\",\"gridcolor\":\"white\",\"linecolor\":\"white\",\"showbackground\":true,\"ticks\":\"\",\"zerolinecolor\":\"white\",\"gridwidth\":2}},\"shapedefaults\":{\"line\":{\"color\":\"#2a3f5f\"}},\"annotationdefaults\":{\"arrowcolor\":\"#2a3f5f\",\"arrowhead\":0,\"arrowwidth\":1},\"geo\":{\"bgcolor\":\"white\",\"landcolor\":\"#E5ECF6\",\"subunitcolor\":\"white\",\"showland\":true,\"showlakes\":true,\"lakecolor\":\"white\"},\"title\":{\"x\":0.05},\"mapbox\":{\"style\":\"light\"}}},\"xaxis\":{\"anchor\":\"y\",\"domain\":[0.0,0.45],\"title\":{\"text\":\"Price\"}},\"yaxis\":{\"anchor\":\"x\",\"domain\":[0.0,1.0],\"title\":{\"text\":\"Pnl\"}},\"xaxis2\":{\"anchor\":\"y2\",\"domain\":[0.55,1.0],\"title\":{\"text\":\"Price\"}},\"yaxis2\":{\"anchor\":\"x2\",\"domain\":[0.0,1.0],\"title\":{\"text\":\"Delta\"}},\"title\":{\"text\":\"Todays Option Pos (PnL and Delta)\",\"x\":0.5,\"xanchor\":\"center\"},\"barmode\":\"stack\"},                        {\"responsive\": true}                    ).then(function(){\n",
       "                            \n",
       "var gd = document.getElementById('023a4bb1-259a-498a-9294-3c596e3ffcc0');\n",
       "var x = new MutationObserver(function (mutations, observer) {{\n",
       "        var display = window.getComputedStyle(gd).display;\n",
       "        if (!display || display === 'none') {{\n",
       "            console.log([gd, 'removed!']);\n",
       "            Plotly.purge(gd);\n",
       "            observer.disconnect();\n",
       "        }}\n",
       "}});\n",
       "\n",
       "// Listen for the removal of the full notebook cells\n",
       "var notebookContainer = gd.closest('#notebook-container');\n",
       "if (notebookContainer) {{\n",
       "    x.observe(notebookContainer, {childList: true});\n",
       "}}\n",
       "\n",
       "// Listen for the clearing of the current output cell\n",
       "var outputEl = gd.closest('.output');\n",
       "if (outputEl) {{\n",
       "    x.observe(outputEl, {childList: true});\n",
       "}}\n",
       "\n",
       "                        })                };                });            </script>        </div>"
      ]
     },
     "metadata": {},
     "output_type": "display_data"
    }
   ],
   "source": [
    "pnl_delta_plot(end_of_month)"
   ]
  },
  {
   "cell_type": "markdown",
   "id": "74ba72d0",
   "metadata": {},
   "source": [
    "## One Month"
   ]
  },
  {
   "cell_type": "code",
   "execution_count": 17,
   "id": "072e82ff",
   "metadata": {},
   "outputs": [
    {
     "data": {
      "application/vnd.plotly.v1+json": {
       "config": {
        "plotlyServerURL": "https://plot.ly"
       },
       "data": [
        {
         "name": "EUA Jun24 40P",
         "type": "scatter",
         "x": [
          30,
          31,
          32,
          33,
          34,
          35,
          36,
          37,
          38,
          39,
          40,
          41,
          42,
          43,
          44,
          45,
          46,
          47,
          48,
          49,
          50,
          51,
          52,
          53,
          54,
          55,
          56,
          57,
          58,
          59,
          60,
          61,
          62,
          63,
          64,
          65,
          66,
          67,
          68,
          69,
          70,
          71,
          72,
          73,
          74,
          75,
          76,
          77,
          78,
          79,
          80,
          81,
          82,
          83,
          84,
          85,
          86,
          87,
          88,
          89,
          90,
          91,
          92,
          93,
          94,
          95,
          96,
          97,
          98,
          99,
          100
         ],
         "xaxis": "x",
         "y": [
          815049.1042935008,
          740933.1628743804,
          669437.7950777437,
          600986.1919068758,
          535967.0062657221,
          474715.1893160612,
          417496.94440440653,
          364499.77955653105,
          315827.9835635838,
          271503.2661882005,
          231469.8551885605,
          195603.06004711386,
          163720.1916542619,
          135592.74415975073,
          110958.86362891702,
          89535.309087881,
          71028.31957110782,
          55143.00761025607,
          41591.08546316684,
          30096.883742417973,
          20401.738353759836,
          12266.9013586333,
          5475.178484614763,
          -168.4836967980809,
          -4837.2380352237415,
          -8683.196027648019,
          -11838.720824535574,
          -14417.996649085204,
          -16518.746277848855,
          -18223.99612316719,
          -19603.813752930608,
          -20716.96458417125,
          -21612.4527037655,
          -22330.925364725175,
          -22905.93196776486,
          -23365.036676931304,
          -23730.78969765436,
          -24021.56612798473,
          -24252.283608993963,
          -24435.011127972095,
          -24579.481589937113,
          -24693.520432329275,
          -24783.401823259763,
          -24854.143015402977,
          -24909.746344606534,
          -24953.397249624333,
          -24987.625605236968,
          -25014.436642784192,
          -25035.4168014046,
          -25051.819020405474,
          -25064.63125043929,
          -25074.631325515737,
          -25082.430792985382,
          -25088.50983623485,
          -25093.24503592136,
          -25096.9313909444,
          -25099.799751288512,
          -25102.030593155716,
          -25103.76488514703,
          -25105.112646136822,
          -25106.159675221013,
          -25106.972836929803,
          -25107.60420657553,
          -25108.09431774395,
          -25108.47470363715,
          -25108.76988381428,
          -25108.998915924683,
          -25109.17660664146,
          -25109.314455908567,
          -25109.421392700853,
          -25109.504347949238
         ],
         "yaxis": "y"
        },
        {
         "name": "EUA Jun24 40P",
         "type": "scatter",
         "x": [
          30,
          31,
          32,
          33,
          34,
          35,
          36,
          37,
          38,
          39,
          40,
          41,
          42,
          43,
          44,
          45,
          46,
          47,
          48,
          49,
          50,
          51,
          52,
          53,
          54,
          55,
          56,
          57,
          58,
          59,
          60,
          61,
          62,
          63,
          64,
          65,
          66,
          67,
          68,
          69,
          70,
          71,
          72,
          73,
          74,
          75,
          76,
          77,
          78,
          79,
          80,
          81,
          82,
          83,
          84,
          85,
          86,
          87,
          88,
          89,
          90,
          91,
          92,
          93,
          94,
          95,
          96,
          97,
          98,
          99,
          100
         ],
         "xaxis": "x2",
         "y": [
          -45740.2062625762,
          -44280.26364738601,
          -42557.02222631417,
          -40585.03891879655,
          -38391.46800544284,
          -36013.98945168421,
          -33497.94175969786,
          -30893.060854480387,
          -28250.210361880323,
          -25618.421578227433,
          -23042.466221697116,
          -20561.08293284087,
          -18205.88574764142,
          -16000.909456713658,
          -13962.697036289817,
          -12100.80770593936,
          -10418.617140556185,
          -8914.288974254136,
          -7581.813757593736,
          -6412.033293212549,
          -5393.591082642312,
          -4513.770879972833,
          -3759.203511918696,
          -3116.4364862285634,
          -2572.37139639267,
          -2114.5810755243024,
          -1731.5224169711762,
          -1412.6624093596329,
          -1148.5348632541081,
          -930.7440990258598,
          -751.9299856662387,
          -605.7065268462891,
          -486.58394236095745,
          -389.8820629006761,
          -311.6409471408177,
          -248.5329930890845,
          -197.77946368388365,
          -157.0732682262599,
          -124.5090099945445,
          -98.52069259864705,
          -77.82703736441965,
          -61.3840665895593,
          -48.344421388624156,
          -38.02278076385224,
          -29.866707731296405,
          -23.43225040029595,
          -18.363656415082417,
          -14.37660712583222,
          -11.244435137558462,
          -8.786849686559517,
          -6.860754642629141,
          -5.352801255736894,
          -4.17337052803779,
          -3.2517275177668115,
          -2.532131720422992,
          -1.9707240254740466,
          -1.5330419358972058,
          -1.1920412114674317,
          -0.9265243616385366,
          -0.7198949895481643,
          -0.559172377834205,
          -0.43421337679871996,
          -0.33709902848566564,
          -0.26165181106208024,
          -0.20305624089389518,
          -0.1575611057624826,
          -0.12224605674404643,
          -0.09483885943795123,
          -0.07357246144534813,
          -0.05707331102722257,
          -0.04427417276686718
         ],
         "yaxis": "y2"
        },
        {
         "name": "EUA Jun24 50P",
         "type": "scatter",
         "x": [
          30,
          31,
          32,
          33,
          34,
          35,
          36,
          37,
          38,
          39,
          40,
          41,
          42,
          43,
          44,
          45,
          46,
          47,
          48,
          49,
          50,
          51,
          52,
          53,
          54,
          55,
          56,
          57,
          58,
          59,
          60,
          61,
          62,
          63,
          64,
          65,
          66,
          67,
          68,
          69,
          70,
          71,
          72,
          73,
          74,
          75,
          76,
          77,
          78,
          79,
          80,
          81,
          82,
          83,
          84,
          85,
          86,
          87,
          88,
          89,
          90,
          91,
          92,
          93,
          94,
          95,
          96,
          97,
          98,
          99,
          100
         ],
         "xaxis": "x",
         "y": [
          -1535105.7788571445,
          -1452969.5764648516,
          -1370961.6161294447,
          -1289161.5460923018,
          -1207682.257872441,
          -1126675.9577900567,
          -1046338.4342669612,
          -966910.5721924151,
          -888676.406595518,
          -811957.3908270918,
          -737103.0136933256,
          -664478.3551280447,
          -594449.5448257253,
          -527368.3264351867,
          -463557.0040763867,
          -403294.9612058369,
          -346807.72275926155,
          -294259.22487164754,
          -245747.61302812773,
          -201304.5565537093,
          -160897.78220430305,
          -124436.31614492033,
          -91777.79181262599,
          -62737.12906493056,
          -37095.90675135545,
          -14611.820292688084,
          4972.2800367349255,
          21920.152952123935,
          36494.990856217424,
          48953.448627891536,
          59540.92031682225,
          68488.02819728796,
          76008.23042502215,
          82296.4154247903,
          87528.33063817369,
          91860.68714775455,
          95431.78649966701,
          98362.52845374493,
          100757.67547191447,
          102707.2691011318,
          104288.11316115694,
          105565.25748268852,
          106593.43299603101,
          107418.40376543636,
          108078.21391616936,
          108604.31734070755,
          109022.58576997787,
          109354.19651176082,
          109616.40518705078,
          109823.2114381254,
          109985.92712599991,
          110113.65723751229,
          110213.7038060047,
          110291.90279939245,
          110352.90329436702,
          110400.39745162378,
          110437.3089217874,
          110465.94640857373,
          110488.12823850512,
          110505.28296371724,
          110518.53027276482,
          110528.74581185081,
          110536.6129274249,
          110542.66382822946,
          110547.31222553313,
          110550.87913793279,
          110553.61323439583,
          110555.70682878928,
          110557.30842382337,
          110558.53252551713,
          110559.46730493972
         ],
         "yaxis": "y"
        },
        {
         "name": "EUA Jun24 50P",
         "type": "scatter",
         "x": [
          30,
          31,
          32,
          33,
          34,
          35,
          36,
          37,
          38,
          39,
          40,
          41,
          42,
          43,
          44,
          45,
          46,
          47,
          48,
          49,
          50,
          51,
          52,
          53,
          54,
          55,
          56,
          57,
          58,
          59,
          60,
          61,
          62,
          63,
          64,
          65,
          66,
          67,
          68,
          69,
          70,
          71,
          72,
          73,
          74,
          75,
          76,
          77,
          78,
          79,
          80,
          81,
          82,
          83,
          84,
          85,
          86,
          87,
          88,
          89,
          90,
          91,
          92,
          93,
          94,
          95,
          96,
          97,
          98,
          99,
          100
         ],
         "xaxis": "x2",
         "y": [
          49932.53871584837,
          49873.12156847455,
          49774.03048396979,
          49617.12137653742,
          49380.220439664874,
          49037.90992759508,
          48562.92837875661,
          47928.09096406694,
          47108.53506220468,
          46084.027422005136,
          44841.04682668444,
          43374.383140879196,
          41688.062163886796,
          39795.50021836249,
          37718.894053315285,
          35487.942897447414,
          33138.06742234428,
          30708.32823575951,
          28239.25377757553,
          25770.76852620479,
          23340.37469309578,
          20981.692647369215,
          18723.415211681444,
          16588.685132675473,
          14594.867751301383,
          12753.66431146716,
          11071.495724305514,
          9550.080856634535,
          8187.135610628126,
          6977.126934161193,
          5912.027205111125,
          4982.027209429163,
          4176.178643007955,
          3482.948631578936,
          2890.678532500096,
          2387.946970922095,
          1963.8426594375924,
          1608.1562315542308,
          1311.5023714378283,
          1065.3842784501544,
          862.2122990591118,
          695.2876954972431,
          558.7612587836521,
          447.5750194285533,
          357.39381624204094,
          284.53205908803847,
          225.87973250774996,
          178.8305698803172,
          141.21439479369835,
          111.23487383606357,
          87.4133388922671,
          68.53889718840821,
          53.62473127192291,
          41.870276281880116,
          32.628827159114635,
          25.3800551176353,
          19.706884735198884,
          15.276187210849779,
          11.82277111578256,
          9.136191136344118,
          7.049941715331354,
          5.432651669529109,
          4.18094468708774,
          3.2136770378388135,
          2.4673066220559647,
          1.8921859892773174,
          1.4496059534185868,
          1.1094459751004315,
          0.8483128226599579,
          0.6480705146361121,
          0.49468259466500797
         ],
         "yaxis": "y2"
        },
        {
         "name": "EUA Jun24 65C",
         "type": "scatter",
         "x": [
          30,
          31,
          32,
          33,
          34,
          35,
          36,
          37,
          38,
          39,
          40,
          41,
          42,
          43,
          44,
          45,
          46,
          47,
          48,
          49,
          50,
          51,
          52,
          53,
          54,
          55,
          56,
          57,
          58,
          59,
          60,
          61,
          62,
          63,
          64,
          65,
          66,
          67,
          68,
          69,
          70,
          71,
          72,
          73,
          74,
          75,
          76,
          77,
          78,
          79,
          80,
          81,
          82,
          83,
          84,
          85,
          86,
          87,
          88,
          89,
          90,
          91,
          92,
          93,
          94,
          95,
          96,
          97,
          98,
          99,
          100
         ],
         "xaxis": "x",
         "y": [
          193149.3864706155,
          193149.38318927813,
          193149.37167665665,
          193149.33469016623,
          193149.22513807222,
          193148.9241296426,
          193148.15263446924,
          193146.29878079897,
          193142.1031460524,
          193133.12232508083,
          193114.87117677537,
          193079.53330878788,
          193014.135657348,
          192898.11380717414,
          192700.25409130368,
          192375.0850933021,
          191858.89670847508,
          191065.67471109846,
          189883.33384021337,
          188170.69309915722,
          185755.6471297201,
          182434.93829801618,
          177975.82622729678,
          172119.79556293035,
          164588.25759716143,
          155090.01076031756,
          143330.05343014598,
          129019.21130146009,
          111883.96555990787,
          91675.85397854152,
          68179.86301029331,
          41221.32585460295,
          10670.974968713674,
          -23552.049448540303,
          -61479.27797266154,
          -103093.9775733563,
          -148333.9857426408,
          -197096.00725070774,
          -249241.01468198936,
          -304600.374306669,
          -362982.3286733697,
          -424178.5006514372,
          -487970.13363560283,
          -554133.8423165063,
          -622446.711503066,
          -692690.6417185155,
          -764655.8957486819,
          -838143.8474139788,
          -912968.9712253172,
          -988960.1389789291,
          -1065961.307263809,
          -1143831.6893737991,
          -1222445.507635507,
          -1301691.4192137853,
          -1381471.7015462224,
          -1461701.2740652326,
          -1542306.621973344,
          -1623224.6765008823,
          -1704401.6950220014,
          -1785792.1741461328,
          -1867357.8197611624,
          -1949066.5901498708,
          -2030891.8217796078,
          -2112811.442135307,
          -2194807.26992675,
          -2276864.400015089,
          -2358970.668317864,
          -2441116.1906091166,
          -2523292.96838331,
          -2605494.5546629066,
          -2687715.772681454
         ],
         "yaxis": "y"
        },
        {
         "name": "EUA Jun24 65C",
         "type": "scatter",
         "x": [
          30,
          31,
          32,
          33,
          34,
          35,
          36,
          37,
          38,
          39,
          40,
          41,
          42,
          43,
          44,
          45,
          46,
          47,
          48,
          49,
          50,
          51,
          52,
          53,
          54,
          55,
          56,
          57,
          58,
          59,
          60,
          61,
          62,
          63,
          64,
          65,
          66,
          67,
          68,
          69,
          70,
          71,
          72,
          73,
          74,
          75,
          76,
          77,
          78,
          79,
          80,
          81,
          82,
          83,
          84,
          85,
          86,
          87,
          88,
          89,
          90,
          91,
          92,
          93,
          94,
          95,
          96,
          97,
          98,
          99,
          100
         ],
         "xaxis": "x2",
         "y": [
          -0.0009564079671697198,
          -0.003551627201755684,
          -0.012015254527188912,
          -0.037306120818114054,
          -0.10701906089014378,
          -0.28535302975430626,
          -0.71104963356287,
          -1.6639827307711785,
          -3.6734162304706044,
          -7.681265350545931,
          -15.270484521241615,
          -28.960792210071652,
          -52.56109912641678,
          -91.55141875935354,
          -153.44943511190513,
          -248.10217592795425,
          -387.83560990370165,
          -587.3978933140529,
          -863.6470528976026,
          -1234.9602504320096,
          -1720.3760531809828,
          -2338.518033646042,
          -3106.381401895047,
          -4038.088533281886,
          -5143.730082656733,
          -6428.404108342861,
          -7891.547066645347,
          -9526.620736668492,
          -11321.182691104965,
          -13257.330055614391,
          -15312.471917348958,
          -17460.3587453949,
          -19672.279992293432,
          -21918.334470017697,
          -24168.681486938516,
          -26394.69232345297,
          -28569.938959998675,
          -30670.977364905204,
          -32677.903564680157,
          -34574.68005006485,
          -36349.2463008782,
          -37993.4394593991,
          -39502.75915372307,
          -40876.01436103203,
          -42114.89054525583,
          -43223.47284915633,
          -44207.75669062813,
          -45075.171506423736,
          -45834.13730769167,
          -46493.66772775309,
          -47063.027767620544,
          -47551.44974421972,
          -47967.907154123066,
          -48320.94330960424,
          -48618.54963317453,
          -48868.08730879569,
          -49076.2454514928,
          -49249.02893120687,
          -49391.76933468302,
          -49509.153147655736,
          -49605.261983909615,
          -49683.62049406913,
          -49747.24839183661,
          -49798.71379424176,
          -49840.18575676813,
          -49873.4844785307,
          -49900.12815157981,
          -49921.375833746235,
          -49938.26604292221,
          -49951.651011893446,
          -49962.22671777549
         ],
         "yaxis": "y2"
        },
        {
         "name": "EUA Jun24 75C",
         "type": "scatter",
         "x": [
          30,
          31,
          32,
          33,
          34,
          35,
          36,
          37,
          38,
          39,
          40,
          41,
          42,
          43,
          44,
          45,
          46,
          47,
          48,
          49,
          50,
          51,
          52,
          53,
          54,
          55,
          56,
          57,
          58,
          59,
          60,
          61,
          62,
          63,
          64,
          65,
          66,
          67,
          68,
          69,
          70,
          71,
          72,
          73,
          74,
          75,
          76,
          77,
          78,
          79,
          80,
          81,
          82,
          83,
          84,
          85,
          86,
          87,
          88,
          89,
          90,
          91,
          92,
          93,
          94,
          95,
          96,
          97,
          98,
          99,
          100
         ],
         "xaxis": "x",
         "y": [
          -49470.70640965446,
          -49470.70640333401,
          -49470.70637533334,
          -49470.706262603635,
          -49470.70584717853,
          -49470.70443670195,
          -49470.69999831872,
          -49470.686984689455,
          -49470.651257029866,
          -49470.559005375515,
          -49470.33406272587,
          -49469.81417004405,
          -49468.67133565709,
          -49466.27446293439,
          -49461.464341136656,
          -49452.20292244371,
          -49435.052170619594,
          -49404.434785463316,
          -49351.6320981764,
          -49263.48544462395,
          -49120.78759308228,
          -48896.38025158337,
          -48553.01058366519,
          -48041.04061054167,
          -47296.14357733187,
          -46237.15525046012,
          -44764.270205488814,
          -42757.77894999511,
          -40077.52846755431,
          -36563.25603408217,
          -32035.89598866952,
          -26299.895833851166,
          -19146.50758196523,
          -10357.94953343286,
          287.7304576212306,
          13011.31068538731,
          28026.825119417237,
          45536.03637695913,
          65723.21644935789,
          88750.47563491295,
          114753.84087250121,
          143840.2342709614,
          176085.44590926185,
          211533.1367810531,
          250194.85246780753,
          292050.97934967064,
          337052.5355036254,
          385123.65942010557,
          436164.6417832465,
          490055.3383966772,
          546658.8047745037,
          605825.0033411753,
          667394.4507037859,
          731201.6931076152,
          797078.5210771015,
          864856.8577030618,
          934371.2776707503,
          1005461.1348642748,
          1077972.2944909032,
          1151758.480712165,
          1226682.2625837417,
          1302615.7097489059,
          1379440.7550225912,
          1457049.3040811697,
          1535343.1333394607,
          1614233.6161816176,
          1693641.3154410569,
          1773495.4767936964,
          1853733.4538908266,
          1934300.0919133823,
          2015147.0920212958
         ],
         "yaxis": "y"
        },
        {
         "name": "EUA Jun24 75C",
         "type": "scatter",
         "x": [
          30,
          31,
          32,
          33,
          34,
          35,
          36,
          37,
          38,
          39,
          40,
          41,
          42,
          43,
          44,
          45,
          46,
          47,
          48,
          49,
          50,
          51,
          52,
          53,
          54,
          55,
          56,
          57,
          58,
          59,
          60,
          61,
          62,
          63,
          64,
          65,
          66,
          67,
          68,
          69,
          70,
          71,
          72,
          73,
          74,
          75,
          76,
          77,
          78,
          79,
          80,
          81,
          82,
          83,
          84,
          85,
          86,
          87,
          88,
          89,
          90,
          91,
          92,
          93,
          94,
          95,
          96,
          97,
          98,
          99,
          100
         ],
         "xaxis": "x2",
         "y": [
          1.5882534049524075e-06,
          7.497965293012458e-06,
          3.19856302396168e-05,
          0.00012427408486510576,
          0.0004428937255912377,
          0.0014570939200322431,
          0.0044509666520579205,
          0.012690403025390094,
          0.03393277639817879,
          0.08546171046957574,
          0.20354213013666192,
          0.46009199838293996,
          0.9903527539205476,
          2.036202150810938,
          4.010180875552404,
          7.584926029294209,
          13.811166310777919,
          24.264507594836118,
          41.21693245090456,
          67.82357802916655,
          108.30960095193586,
          168.13670912740724,
          254.12528396624927,
          374.5069005222356,
          538.884159716259,
          758.0803014753545,
          1043.8697487460765,
          1408.5916848509728,
          1864.6607189020285,
          2424.0001544459046,
          3097.43287016998,
          3894.0711194821615,
          4820.748856359363,
          5881.538226635688,
          7077.3858995317605,
          8405.895700660187,
          9861.272632910795,
          11434.431095913647,
          13113.258197429528,
          14883.012596787987,
          16726.831171457896,
          18626.31046471336,
          20562.127525792705,
          22514.665253850882,
          24464.610314277983,
          26393.496552026092,
          28284.172937528223,
          30121.181795063367,
          31891.039785484743,
          33582.4203507688,
          35186.2417095375,
          36695.66878810176,
          38106.04057621595,
          39414.73631674831,
          40620.99476680502,
          41725.700658043585,
          42731.15162462674,
          43640.81745969777,
          44459.10180091392,
          45191.114408933856,
          45842.46023874963,
          46419.04962955929,
          46926.93223926459,
          47372.15587901255,
          47760.65018921013,
          48098.13414699759,
          48390.045695374116,
          48641.49131332407,
          48857.213074334315,
          49041.57063396639,
          49198.53561139266
         ],
         "yaxis": "y2"
        },
        {
         "mode": "lines",
         "name": "Total_PnL",
         "type": "scatter",
         "x": [
          30,
          31,
          32,
          33,
          34,
          35,
          36,
          37,
          38,
          39,
          40,
          41,
          42,
          43,
          44,
          45,
          46,
          47,
          48,
          49,
          50,
          51,
          52,
          53,
          54,
          55,
          56,
          57,
          58,
          59,
          60,
          61,
          62,
          63,
          64,
          65,
          66,
          67,
          68,
          69,
          70,
          71,
          72,
          73,
          74,
          75,
          76,
          77,
          78,
          79,
          80,
          81,
          82,
          83,
          84,
          85,
          86,
          87,
          88,
          89,
          90,
          91,
          92,
          93,
          94,
          95,
          96,
          97,
          98,
          99,
          100
         ],
         "xaxis": "x",
         "y": [
          -576377.9945026827,
          -568357.7368045271,
          -557845.1557503777,
          -544496.7257578634,
          -528036.7323158253,
          -508282.54878105485,
          -485164.03722640424,
          -458735.1808397746,
          -429176.97114291164,
          -396791.561319186,
          -361988.6213907156,
          -325265.575942187,
          -287183.88884977245,
          -248343.74293119615,
          -209359.35069730264,
          -170836.76994709752,
          -133355.55865029828,
          -97454.97733575632,
          -63624.825822923915,
          -32300.46515675806,
          -3861.1843139053817,
          21369.14326014578,
          43120.202315620365,
          61173.14219066004,
          75358.96923325036,
          85557.83918952136,
          91699.34243685653,
          93763.58865450369,
          91782.68167072214,
          85842.05044918368,
          76081.07358551543,
          62692.493633868486,
          45920.245108005096,
          26055.491078091967,
          3430.8511553685207,
          -21587.016417145736,
          -48606.16382121091,
          -77219.0085479884,
          -107012.40636971095,
          -137577.64069859637,
          -168519.8562296487,
          -199466.52933011655,
          -230074.65655356974,
          -260036.44478541985,
          -289083.3914636956,
          -316988.74227776175,
          -343568.40008031554,
          -368680.42812489654,
          -392223.3410564246,
          -414133.408164532,
          -434381.2066137447,
          -452967.66012062726,
          -469919.7839187019,
          -485286.3331430126,
          -499133.5222106754,
          -511540.9503014914,
          -522597.8351320947,
          -532399.6258211896,
          -541045.0371777401,
          -548633.5231163874,
          -555263.1865798768,
          -561029.1074260441,
          -566022.0580361672,
          -570327.5685436518,
          -574025.2990653936,
          -577188.6745793531,
          -579884.7385583364,
          -582174.1835932725,
          -584111.5205245684,
          -585745.3516167079,
          -587118.7177031678
         ],
         "yaxis": "y"
        },
        {
         "mode": "lines",
         "name": "Total_Delta",
         "type": "scatter",
         "x": [
          30,
          31,
          32,
          33,
          34,
          35,
          36,
          37,
          38,
          39,
          40,
          41,
          42,
          43,
          44,
          45,
          46,
          47,
          48,
          49,
          50,
          51,
          52,
          53,
          54,
          55,
          56,
          57,
          58,
          59,
          60,
          61,
          62,
          63,
          64,
          65,
          66,
          67,
          68,
          69,
          70,
          71,
          72,
          73,
          74,
          75,
          76,
          77,
          78,
          79,
          80,
          81,
          82,
          83,
          84,
          85,
          86,
          87,
          88,
          89,
          90,
          91,
          92,
          93,
          94,
          95,
          96,
          97,
          98,
          99,
          100
         ],
         "xaxis": "x2",
         "y": [
          4192.33149845246,
          5592.8543769593,
          7216.996274386726,
          9032.04527589414,
          10988.645858054871,
          13023.636579975035,
          15064.280020391838,
          17033.37881725881,
          18854.685216870286,
          20458.010040137626,
          21783.51366259622,
          22784.799507826636,
          23430.60566987288,
          23705.07554504029,
          23606.757762789115,
          23146.61794160939,
          22345.42583819517,
          21230.905875786153,
          19835.009899535096,
          18191.598560589395,
          16334.71715822442,
          14297.540442877746,
          12111.955581833949,
          9808.66701368726,
          7417.650431968239,
          4968.759429075352,
          2492.295989435068,
          19.38939545738276,
          -2417.9212248289177,
          -4786.9470660331535,
          -7054.941827734092,
          -9189.966943329864,
          -11161.93643528707,
          -12943.729674703749,
          -14512.258002047478,
          -15849.382644959775,
          -16942.603131334174,
          -17785.463305663587,
          -18377.652005807344,
          -18724.803867425362,
          -18838.029867725614,
          -18733.22536577806,
          -18430.214790535334,
          -17951.79686851645,
          -17322.753122467104,
          -16568.876488442493,
          -15716.067677007239,
          -14789.535748605882,
          -13813.127562550788,
          -12808.799352834787,
          -11796.23347383341,
          -10792.594860185287,
          -9812.41521716323,
          -8867.588444091816,
          -7967.458170930819,
          -7118.977319659949,
          -6326.919984066757,
          -5594.1273255097185,
          -4921.771287014955,
          -4309.622442575084,
          -3756.310975822489,
          -3259.5724262171134,
          -2816.4723069134197,
          -2423.6058900024364,
          -2077.271317176841,
          -1773.6157066495944,
          -1508.755096309018,
          -1278.869913306502,
          -1080.278228226678,
          -909.4893807234475,
          -763.2406979609295
         ],
         "yaxis": "y2"
        }
       ],
       "layout": {
        "barmode": "stack",
        "template": {
         "data": {
          "bar": [
           {
            "error_x": {
             "color": "#2a3f5f"
            },
            "error_y": {
             "color": "#2a3f5f"
            },
            "marker": {
             "line": {
              "color": "#E5ECF6",
              "width": 0.5
             },
             "pattern": {
              "fillmode": "overlay",
              "size": 10,
              "solidity": 0.2
             }
            },
            "type": "bar"
           }
          ],
          "barpolar": [
           {
            "marker": {
             "line": {
              "color": "#E5ECF6",
              "width": 0.5
             },
             "pattern": {
              "fillmode": "overlay",
              "size": 10,
              "solidity": 0.2
             }
            },
            "type": "barpolar"
           }
          ],
          "carpet": [
           {
            "aaxis": {
             "endlinecolor": "#2a3f5f",
             "gridcolor": "white",
             "linecolor": "white",
             "minorgridcolor": "white",
             "startlinecolor": "#2a3f5f"
            },
            "baxis": {
             "endlinecolor": "#2a3f5f",
             "gridcolor": "white",
             "linecolor": "white",
             "minorgridcolor": "white",
             "startlinecolor": "#2a3f5f"
            },
            "type": "carpet"
           }
          ],
          "choropleth": [
           {
            "colorbar": {
             "outlinewidth": 0,
             "ticks": ""
            },
            "type": "choropleth"
           }
          ],
          "contour": [
           {
            "colorbar": {
             "outlinewidth": 0,
             "ticks": ""
            },
            "colorscale": [
             [
              0,
              "#0d0887"
             ],
             [
              0.1111111111111111,
              "#46039f"
             ],
             [
              0.2222222222222222,
              "#7201a8"
             ],
             [
              0.3333333333333333,
              "#9c179e"
             ],
             [
              0.4444444444444444,
              "#bd3786"
             ],
             [
              0.5555555555555556,
              "#d8576b"
             ],
             [
              0.6666666666666666,
              "#ed7953"
             ],
             [
              0.7777777777777778,
              "#fb9f3a"
             ],
             [
              0.8888888888888888,
              "#fdca26"
             ],
             [
              1,
              "#f0f921"
             ]
            ],
            "type": "contour"
           }
          ],
          "contourcarpet": [
           {
            "colorbar": {
             "outlinewidth": 0,
             "ticks": ""
            },
            "type": "contourcarpet"
           }
          ],
          "heatmap": [
           {
            "colorbar": {
             "outlinewidth": 0,
             "ticks": ""
            },
            "colorscale": [
             [
              0,
              "#0d0887"
             ],
             [
              0.1111111111111111,
              "#46039f"
             ],
             [
              0.2222222222222222,
              "#7201a8"
             ],
             [
              0.3333333333333333,
              "#9c179e"
             ],
             [
              0.4444444444444444,
              "#bd3786"
             ],
             [
              0.5555555555555556,
              "#d8576b"
             ],
             [
              0.6666666666666666,
              "#ed7953"
             ],
             [
              0.7777777777777778,
              "#fb9f3a"
             ],
             [
              0.8888888888888888,
              "#fdca26"
             ],
             [
              1,
              "#f0f921"
             ]
            ],
            "type": "heatmap"
           }
          ],
          "heatmapgl": [
           {
            "colorbar": {
             "outlinewidth": 0,
             "ticks": ""
            },
            "colorscale": [
             [
              0,
              "#0d0887"
             ],
             [
              0.1111111111111111,
              "#46039f"
             ],
             [
              0.2222222222222222,
              "#7201a8"
             ],
             [
              0.3333333333333333,
              "#9c179e"
             ],
             [
              0.4444444444444444,
              "#bd3786"
             ],
             [
              0.5555555555555556,
              "#d8576b"
             ],
             [
              0.6666666666666666,
              "#ed7953"
             ],
             [
              0.7777777777777778,
              "#fb9f3a"
             ],
             [
              0.8888888888888888,
              "#fdca26"
             ],
             [
              1,
              "#f0f921"
             ]
            ],
            "type": "heatmapgl"
           }
          ],
          "histogram": [
           {
            "marker": {
             "pattern": {
              "fillmode": "overlay",
              "size": 10,
              "solidity": 0.2
             }
            },
            "type": "histogram"
           }
          ],
          "histogram2d": [
           {
            "colorbar": {
             "outlinewidth": 0,
             "ticks": ""
            },
            "colorscale": [
             [
              0,
              "#0d0887"
             ],
             [
              0.1111111111111111,
              "#46039f"
             ],
             [
              0.2222222222222222,
              "#7201a8"
             ],
             [
              0.3333333333333333,
              "#9c179e"
             ],
             [
              0.4444444444444444,
              "#bd3786"
             ],
             [
              0.5555555555555556,
              "#d8576b"
             ],
             [
              0.6666666666666666,
              "#ed7953"
             ],
             [
              0.7777777777777778,
              "#fb9f3a"
             ],
             [
              0.8888888888888888,
              "#fdca26"
             ],
             [
              1,
              "#f0f921"
             ]
            ],
            "type": "histogram2d"
           }
          ],
          "histogram2dcontour": [
           {
            "colorbar": {
             "outlinewidth": 0,
             "ticks": ""
            },
            "colorscale": [
             [
              0,
              "#0d0887"
             ],
             [
              0.1111111111111111,
              "#46039f"
             ],
             [
              0.2222222222222222,
              "#7201a8"
             ],
             [
              0.3333333333333333,
              "#9c179e"
             ],
             [
              0.4444444444444444,
              "#bd3786"
             ],
             [
              0.5555555555555556,
              "#d8576b"
             ],
             [
              0.6666666666666666,
              "#ed7953"
             ],
             [
              0.7777777777777778,
              "#fb9f3a"
             ],
             [
              0.8888888888888888,
              "#fdca26"
             ],
             [
              1,
              "#f0f921"
             ]
            ],
            "type": "histogram2dcontour"
           }
          ],
          "mesh3d": [
           {
            "colorbar": {
             "outlinewidth": 0,
             "ticks": ""
            },
            "type": "mesh3d"
           }
          ],
          "parcoords": [
           {
            "line": {
             "colorbar": {
              "outlinewidth": 0,
              "ticks": ""
             }
            },
            "type": "parcoords"
           }
          ],
          "pie": [
           {
            "automargin": true,
            "type": "pie"
           }
          ],
          "scatter": [
           {
            "fillpattern": {
             "fillmode": "overlay",
             "size": 10,
             "solidity": 0.2
            },
            "type": "scatter"
           }
          ],
          "scatter3d": [
           {
            "line": {
             "colorbar": {
              "outlinewidth": 0,
              "ticks": ""
             }
            },
            "marker": {
             "colorbar": {
              "outlinewidth": 0,
              "ticks": ""
             }
            },
            "type": "scatter3d"
           }
          ],
          "scattercarpet": [
           {
            "marker": {
             "colorbar": {
              "outlinewidth": 0,
              "ticks": ""
             }
            },
            "type": "scattercarpet"
           }
          ],
          "scattergeo": [
           {
            "marker": {
             "colorbar": {
              "outlinewidth": 0,
              "ticks": ""
             }
            },
            "type": "scattergeo"
           }
          ],
          "scattergl": [
           {
            "marker": {
             "colorbar": {
              "outlinewidth": 0,
              "ticks": ""
             }
            },
            "type": "scattergl"
           }
          ],
          "scattermapbox": [
           {
            "marker": {
             "colorbar": {
              "outlinewidth": 0,
              "ticks": ""
             }
            },
            "type": "scattermapbox"
           }
          ],
          "scatterpolar": [
           {
            "marker": {
             "colorbar": {
              "outlinewidth": 0,
              "ticks": ""
             }
            },
            "type": "scatterpolar"
           }
          ],
          "scatterpolargl": [
           {
            "marker": {
             "colorbar": {
              "outlinewidth": 0,
              "ticks": ""
             }
            },
            "type": "scatterpolargl"
           }
          ],
          "scatterternary": [
           {
            "marker": {
             "colorbar": {
              "outlinewidth": 0,
              "ticks": ""
             }
            },
            "type": "scatterternary"
           }
          ],
          "surface": [
           {
            "colorbar": {
             "outlinewidth": 0,
             "ticks": ""
            },
            "colorscale": [
             [
              0,
              "#0d0887"
             ],
             [
              0.1111111111111111,
              "#46039f"
             ],
             [
              0.2222222222222222,
              "#7201a8"
             ],
             [
              0.3333333333333333,
              "#9c179e"
             ],
             [
              0.4444444444444444,
              "#bd3786"
             ],
             [
              0.5555555555555556,
              "#d8576b"
             ],
             [
              0.6666666666666666,
              "#ed7953"
             ],
             [
              0.7777777777777778,
              "#fb9f3a"
             ],
             [
              0.8888888888888888,
              "#fdca26"
             ],
             [
              1,
              "#f0f921"
             ]
            ],
            "type": "surface"
           }
          ],
          "table": [
           {
            "cells": {
             "fill": {
              "color": "#EBF0F8"
             },
             "line": {
              "color": "white"
             }
            },
            "header": {
             "fill": {
              "color": "#C8D4E3"
             },
             "line": {
              "color": "white"
             }
            },
            "type": "table"
           }
          ]
         },
         "layout": {
          "annotationdefaults": {
           "arrowcolor": "#2a3f5f",
           "arrowhead": 0,
           "arrowwidth": 1
          },
          "autotypenumbers": "strict",
          "coloraxis": {
           "colorbar": {
            "outlinewidth": 0,
            "ticks": ""
           }
          },
          "colorscale": {
           "diverging": [
            [
             0,
             "#8e0152"
            ],
            [
             0.1,
             "#c51b7d"
            ],
            [
             0.2,
             "#de77ae"
            ],
            [
             0.3,
             "#f1b6da"
            ],
            [
             0.4,
             "#fde0ef"
            ],
            [
             0.5,
             "#f7f7f7"
            ],
            [
             0.6,
             "#e6f5d0"
            ],
            [
             0.7,
             "#b8e186"
            ],
            [
             0.8,
             "#7fbc41"
            ],
            [
             0.9,
             "#4d9221"
            ],
            [
             1,
             "#276419"
            ]
           ],
           "sequential": [
            [
             0,
             "#0d0887"
            ],
            [
             0.1111111111111111,
             "#46039f"
            ],
            [
             0.2222222222222222,
             "#7201a8"
            ],
            [
             0.3333333333333333,
             "#9c179e"
            ],
            [
             0.4444444444444444,
             "#bd3786"
            ],
            [
             0.5555555555555556,
             "#d8576b"
            ],
            [
             0.6666666666666666,
             "#ed7953"
            ],
            [
             0.7777777777777778,
             "#fb9f3a"
            ],
            [
             0.8888888888888888,
             "#fdca26"
            ],
            [
             1,
             "#f0f921"
            ]
           ],
           "sequentialminus": [
            [
             0,
             "#0d0887"
            ],
            [
             0.1111111111111111,
             "#46039f"
            ],
            [
             0.2222222222222222,
             "#7201a8"
            ],
            [
             0.3333333333333333,
             "#9c179e"
            ],
            [
             0.4444444444444444,
             "#bd3786"
            ],
            [
             0.5555555555555556,
             "#d8576b"
            ],
            [
             0.6666666666666666,
             "#ed7953"
            ],
            [
             0.7777777777777778,
             "#fb9f3a"
            ],
            [
             0.8888888888888888,
             "#fdca26"
            ],
            [
             1,
             "#f0f921"
            ]
           ]
          },
          "colorway": [
           "#636efa",
           "#EF553B",
           "#00cc96",
           "#ab63fa",
           "#FFA15A",
           "#19d3f3",
           "#FF6692",
           "#B6E880",
           "#FF97FF",
           "#FECB52"
          ],
          "font": {
           "color": "#2a3f5f"
          },
          "geo": {
           "bgcolor": "white",
           "lakecolor": "white",
           "landcolor": "#E5ECF6",
           "showlakes": true,
           "showland": true,
           "subunitcolor": "white"
          },
          "hoverlabel": {
           "align": "left"
          },
          "hovermode": "closest",
          "mapbox": {
           "style": "light"
          },
          "paper_bgcolor": "white",
          "plot_bgcolor": "#E5ECF6",
          "polar": {
           "angularaxis": {
            "gridcolor": "white",
            "linecolor": "white",
            "ticks": ""
           },
           "bgcolor": "#E5ECF6",
           "radialaxis": {
            "gridcolor": "white",
            "linecolor": "white",
            "ticks": ""
           }
          },
          "scene": {
           "xaxis": {
            "backgroundcolor": "#E5ECF6",
            "gridcolor": "white",
            "gridwidth": 2,
            "linecolor": "white",
            "showbackground": true,
            "ticks": "",
            "zerolinecolor": "white"
           },
           "yaxis": {
            "backgroundcolor": "#E5ECF6",
            "gridcolor": "white",
            "gridwidth": 2,
            "linecolor": "white",
            "showbackground": true,
            "ticks": "",
            "zerolinecolor": "white"
           },
           "zaxis": {
            "backgroundcolor": "#E5ECF6",
            "gridcolor": "white",
            "gridwidth": 2,
            "linecolor": "white",
            "showbackground": true,
            "ticks": "",
            "zerolinecolor": "white"
           }
          },
          "shapedefaults": {
           "line": {
            "color": "#2a3f5f"
           }
          },
          "ternary": {
           "aaxis": {
            "gridcolor": "white",
            "linecolor": "white",
            "ticks": ""
           },
           "baxis": {
            "gridcolor": "white",
            "linecolor": "white",
            "ticks": ""
           },
           "bgcolor": "#E5ECF6",
           "caxis": {
            "gridcolor": "white",
            "linecolor": "white",
            "ticks": ""
           }
          },
          "title": {
           "x": 0.05
          },
          "xaxis": {
           "automargin": true,
           "gridcolor": "white",
           "linecolor": "white",
           "ticks": "",
           "title": {
            "standoff": 15
           },
           "zerolinecolor": "white",
           "zerolinewidth": 2
          },
          "yaxis": {
           "automargin": true,
           "gridcolor": "white",
           "linecolor": "white",
           "ticks": "",
           "title": {
            "standoff": 15
           },
           "zerolinecolor": "white",
           "zerolinewidth": 2
          }
         }
        },
        "title": {
         "text": "Todays Option Pos (PnL and Delta)",
         "x": 0.5,
         "xanchor": "center"
        },
        "xaxis": {
         "anchor": "y",
         "domain": [
          0,
          0.45
         ],
         "title": {
          "text": "Price"
         }
        },
        "xaxis2": {
         "anchor": "y2",
         "domain": [
          0.55,
          1
         ],
         "title": {
          "text": "Price"
         }
        },
        "yaxis": {
         "anchor": "x",
         "domain": [
          0,
          1
         ],
         "title": {
          "text": "Pnl"
         }
        },
        "yaxis2": {
         "anchor": "x2",
         "domain": [
          0,
          1
         ],
         "title": {
          "text": "Delta"
         }
        }
       }
      },
      "text/html": [
       "<div>                            <div id=\"a53a14ae-d789-426f-83c2-3ec7c32edf7c\" class=\"plotly-graph-div\" style=\"height:525px; width:100%;\"></div>            <script type=\"text/javascript\">                require([\"plotly\"], function(Plotly) {                    window.PLOTLYENV=window.PLOTLYENV || {};                                    if (document.getElementById(\"a53a14ae-d789-426f-83c2-3ec7c32edf7c\")) {                    Plotly.newPlot(                        \"a53a14ae-d789-426f-83c2-3ec7c32edf7c\",                        [{\"name\":\"EUA Jun24 40P\",\"x\":[30,31,32,33,34,35,36,37,38,39,40,41,42,43,44,45,46,47,48,49,50,51,52,53,54,55,56,57,58,59,60,61,62,63,64,65,66,67,68,69,70,71,72,73,74,75,76,77,78,79,80,81,82,83,84,85,86,87,88,89,90,91,92,93,94,95,96,97,98,99,100],\"y\":[815049.1042935008,740933.1628743804,669437.7950777437,600986.1919068758,535967.0062657221,474715.1893160612,417496.94440440653,364499.77955653105,315827.9835635838,271503.2661882005,231469.8551885605,195603.06004711386,163720.1916542619,135592.74415975073,110958.86362891702,89535.309087881,71028.31957110782,55143.00761025607,41591.08546316684,30096.883742417973,20401.738353759836,12266.9013586333,5475.178484614763,-168.4836967980809,-4837.2380352237415,-8683.196027648019,-11838.720824535574,-14417.996649085204,-16518.746277848855,-18223.99612316719,-19603.813752930608,-20716.96458417125,-21612.4527037655,-22330.925364725175,-22905.93196776486,-23365.036676931304,-23730.78969765436,-24021.56612798473,-24252.283608993963,-24435.011127972095,-24579.481589937113,-24693.520432329275,-24783.401823259763,-24854.143015402977,-24909.746344606534,-24953.397249624333,-24987.625605236968,-25014.436642784192,-25035.4168014046,-25051.819020405474,-25064.63125043929,-25074.631325515737,-25082.430792985382,-25088.50983623485,-25093.24503592136,-25096.9313909444,-25099.799751288512,-25102.030593155716,-25103.76488514703,-25105.112646136822,-25106.159675221013,-25106.972836929803,-25107.60420657553,-25108.09431774395,-25108.47470363715,-25108.76988381428,-25108.998915924683,-25109.17660664146,-25109.314455908567,-25109.421392700853,-25109.504347949238],\"type\":\"scatter\",\"xaxis\":\"x\",\"yaxis\":\"y\"},{\"name\":\"EUA Jun24 40P\",\"x\":[30,31,32,33,34,35,36,37,38,39,40,41,42,43,44,45,46,47,48,49,50,51,52,53,54,55,56,57,58,59,60,61,62,63,64,65,66,67,68,69,70,71,72,73,74,75,76,77,78,79,80,81,82,83,84,85,86,87,88,89,90,91,92,93,94,95,96,97,98,99,100],\"y\":[-45740.2062625762,-44280.26364738601,-42557.02222631417,-40585.03891879655,-38391.46800544284,-36013.98945168421,-33497.94175969786,-30893.060854480387,-28250.210361880323,-25618.421578227433,-23042.466221697116,-20561.08293284087,-18205.88574764142,-16000.909456713658,-13962.697036289817,-12100.80770593936,-10418.617140556185,-8914.288974254136,-7581.813757593736,-6412.033293212549,-5393.591082642312,-4513.770879972833,-3759.203511918696,-3116.4364862285634,-2572.37139639267,-2114.5810755243024,-1731.5224169711762,-1412.6624093596329,-1148.5348632541081,-930.7440990258598,-751.9299856662387,-605.7065268462891,-486.58394236095745,-389.8820629006761,-311.6409471408177,-248.5329930890845,-197.77946368388365,-157.0732682262599,-124.5090099945445,-98.52069259864705,-77.82703736441965,-61.3840665895593,-48.344421388624156,-38.02278076385224,-29.866707731296405,-23.43225040029595,-18.363656415082417,-14.37660712583222,-11.244435137558462,-8.786849686559517,-6.860754642629141,-5.352801255736894,-4.17337052803779,-3.2517275177668115,-2.532131720422992,-1.9707240254740466,-1.5330419358972058,-1.1920412114674317,-0.9265243616385366,-0.7198949895481643,-0.559172377834205,-0.43421337679871996,-0.33709902848566564,-0.26165181106208024,-0.20305624089389518,-0.1575611057624826,-0.12224605674404643,-0.09483885943795123,-0.07357246144534813,-0.05707331102722257,-0.04427417276686718],\"type\":\"scatter\",\"xaxis\":\"x2\",\"yaxis\":\"y2\"},{\"name\":\"EUA Jun24 50P\",\"x\":[30,31,32,33,34,35,36,37,38,39,40,41,42,43,44,45,46,47,48,49,50,51,52,53,54,55,56,57,58,59,60,61,62,63,64,65,66,67,68,69,70,71,72,73,74,75,76,77,78,79,80,81,82,83,84,85,86,87,88,89,90,91,92,93,94,95,96,97,98,99,100],\"y\":[-1535105.7788571445,-1452969.5764648516,-1370961.6161294447,-1289161.5460923018,-1207682.257872441,-1126675.9577900567,-1046338.4342669612,-966910.5721924151,-888676.406595518,-811957.3908270918,-737103.0136933256,-664478.3551280447,-594449.5448257253,-527368.3264351867,-463557.0040763867,-403294.9612058369,-346807.72275926155,-294259.22487164754,-245747.61302812773,-201304.5565537093,-160897.78220430305,-124436.31614492033,-91777.79181262599,-62737.12906493056,-37095.90675135545,-14611.820292688084,4972.2800367349255,21920.152952123935,36494.990856217424,48953.448627891536,59540.92031682225,68488.02819728796,76008.23042502215,82296.4154247903,87528.33063817369,91860.68714775455,95431.78649966701,98362.52845374493,100757.67547191447,102707.2691011318,104288.11316115694,105565.25748268852,106593.43299603101,107418.40376543636,108078.21391616936,108604.31734070755,109022.58576997787,109354.19651176082,109616.40518705078,109823.2114381254,109985.92712599991,110113.65723751229,110213.7038060047,110291.90279939245,110352.90329436702,110400.39745162378,110437.3089217874,110465.94640857373,110488.12823850512,110505.28296371724,110518.53027276482,110528.74581185081,110536.6129274249,110542.66382822946,110547.31222553313,110550.87913793279,110553.61323439583,110555.70682878928,110557.30842382337,110558.53252551713,110559.46730493972],\"type\":\"scatter\",\"xaxis\":\"x\",\"yaxis\":\"y\"},{\"name\":\"EUA Jun24 50P\",\"x\":[30,31,32,33,34,35,36,37,38,39,40,41,42,43,44,45,46,47,48,49,50,51,52,53,54,55,56,57,58,59,60,61,62,63,64,65,66,67,68,69,70,71,72,73,74,75,76,77,78,79,80,81,82,83,84,85,86,87,88,89,90,91,92,93,94,95,96,97,98,99,100],\"y\":[49932.53871584837,49873.12156847455,49774.03048396979,49617.12137653742,49380.220439664874,49037.90992759508,48562.92837875661,47928.09096406694,47108.53506220468,46084.027422005136,44841.04682668444,43374.383140879196,41688.062163886796,39795.50021836249,37718.894053315285,35487.942897447414,33138.06742234428,30708.32823575951,28239.25377757553,25770.76852620479,23340.37469309578,20981.692647369215,18723.415211681444,16588.685132675473,14594.867751301383,12753.66431146716,11071.495724305514,9550.080856634535,8187.135610628126,6977.126934161193,5912.027205111125,4982.027209429163,4176.178643007955,3482.948631578936,2890.678532500096,2387.946970922095,1963.8426594375924,1608.1562315542308,1311.5023714378283,1065.3842784501544,862.2122990591118,695.2876954972431,558.7612587836521,447.5750194285533,357.39381624204094,284.53205908803847,225.87973250774996,178.8305698803172,141.21439479369835,111.23487383606357,87.4133388922671,68.53889718840821,53.62473127192291,41.870276281880116,32.628827159114635,25.3800551176353,19.706884735198884,15.276187210849779,11.82277111578256,9.136191136344118,7.049941715331354,5.432651669529109,4.18094468708774,3.2136770378388135,2.4673066220559647,1.8921859892773174,1.4496059534185868,1.1094459751004315,0.8483128226599579,0.6480705146361121,0.49468259466500797],\"type\":\"scatter\",\"xaxis\":\"x2\",\"yaxis\":\"y2\"},{\"name\":\"EUA Jun24 65C\",\"x\":[30,31,32,33,34,35,36,37,38,39,40,41,42,43,44,45,46,47,48,49,50,51,52,53,54,55,56,57,58,59,60,61,62,63,64,65,66,67,68,69,70,71,72,73,74,75,76,77,78,79,80,81,82,83,84,85,86,87,88,89,90,91,92,93,94,95,96,97,98,99,100],\"y\":[193149.3864706155,193149.38318927813,193149.37167665665,193149.33469016623,193149.22513807222,193148.9241296426,193148.15263446924,193146.29878079897,193142.1031460524,193133.12232508083,193114.87117677537,193079.53330878788,193014.135657348,192898.11380717414,192700.25409130368,192375.0850933021,191858.89670847508,191065.67471109846,189883.33384021337,188170.69309915722,185755.6471297201,182434.93829801618,177975.82622729678,172119.79556293035,164588.25759716143,155090.01076031756,143330.05343014598,129019.21130146009,111883.96555990787,91675.85397854152,68179.86301029331,41221.32585460295,10670.974968713674,-23552.049448540303,-61479.27797266154,-103093.9775733563,-148333.9857426408,-197096.00725070774,-249241.01468198936,-304600.374306669,-362982.3286733697,-424178.5006514372,-487970.13363560283,-554133.8423165063,-622446.711503066,-692690.6417185155,-764655.8957486819,-838143.8474139788,-912968.9712253172,-988960.1389789291,-1065961.307263809,-1143831.6893737991,-1222445.507635507,-1301691.4192137853,-1381471.7015462224,-1461701.2740652326,-1542306.621973344,-1623224.6765008823,-1704401.6950220014,-1785792.1741461328,-1867357.8197611624,-1949066.5901498708,-2030891.8217796078,-2112811.442135307,-2194807.26992675,-2276864.400015089,-2358970.668317864,-2441116.1906091166,-2523292.96838331,-2605494.5546629066,-2687715.772681454],\"type\":\"scatter\",\"xaxis\":\"x\",\"yaxis\":\"y\"},{\"name\":\"EUA Jun24 65C\",\"x\":[30,31,32,33,34,35,36,37,38,39,40,41,42,43,44,45,46,47,48,49,50,51,52,53,54,55,56,57,58,59,60,61,62,63,64,65,66,67,68,69,70,71,72,73,74,75,76,77,78,79,80,81,82,83,84,85,86,87,88,89,90,91,92,93,94,95,96,97,98,99,100],\"y\":[-0.0009564079671697198,-0.003551627201755684,-0.012015254527188912,-0.037306120818114054,-0.10701906089014378,-0.28535302975430626,-0.71104963356287,-1.6639827307711785,-3.6734162304706044,-7.681265350545931,-15.270484521241615,-28.960792210071652,-52.56109912641678,-91.55141875935354,-153.44943511190513,-248.10217592795425,-387.83560990370165,-587.3978933140529,-863.6470528976026,-1234.9602504320096,-1720.3760531809828,-2338.518033646042,-3106.381401895047,-4038.088533281886,-5143.730082656733,-6428.404108342861,-7891.547066645347,-9526.620736668492,-11321.182691104965,-13257.330055614391,-15312.471917348958,-17460.3587453949,-19672.279992293432,-21918.334470017697,-24168.681486938516,-26394.69232345297,-28569.938959998675,-30670.977364905204,-32677.903564680157,-34574.68005006485,-36349.2463008782,-37993.4394593991,-39502.75915372307,-40876.01436103203,-42114.89054525583,-43223.47284915633,-44207.75669062813,-45075.171506423736,-45834.13730769167,-46493.66772775309,-47063.027767620544,-47551.44974421972,-47967.907154123066,-48320.94330960424,-48618.54963317453,-48868.08730879569,-49076.2454514928,-49249.02893120687,-49391.76933468302,-49509.153147655736,-49605.261983909615,-49683.62049406913,-49747.24839183661,-49798.71379424176,-49840.18575676813,-49873.4844785307,-49900.12815157981,-49921.375833746235,-49938.26604292221,-49951.651011893446,-49962.22671777549],\"type\":\"scatter\",\"xaxis\":\"x2\",\"yaxis\":\"y2\"},{\"name\":\"EUA Jun24 75C\",\"x\":[30,31,32,33,34,35,36,37,38,39,40,41,42,43,44,45,46,47,48,49,50,51,52,53,54,55,56,57,58,59,60,61,62,63,64,65,66,67,68,69,70,71,72,73,74,75,76,77,78,79,80,81,82,83,84,85,86,87,88,89,90,91,92,93,94,95,96,97,98,99,100],\"y\":[-49470.70640965446,-49470.70640333401,-49470.70637533334,-49470.706262603635,-49470.70584717853,-49470.70443670195,-49470.69999831872,-49470.686984689455,-49470.651257029866,-49470.559005375515,-49470.33406272587,-49469.81417004405,-49468.67133565709,-49466.27446293439,-49461.464341136656,-49452.20292244371,-49435.052170619594,-49404.434785463316,-49351.6320981764,-49263.48544462395,-49120.78759308228,-48896.38025158337,-48553.01058366519,-48041.04061054167,-47296.14357733187,-46237.15525046012,-44764.270205488814,-42757.77894999511,-40077.52846755431,-36563.25603408217,-32035.89598866952,-26299.895833851166,-19146.50758196523,-10357.94953343286,287.7304576212306,13011.31068538731,28026.825119417237,45536.03637695913,65723.21644935789,88750.47563491295,114753.84087250121,143840.2342709614,176085.44590926185,211533.1367810531,250194.85246780753,292050.97934967064,337052.5355036254,385123.65942010557,436164.6417832465,490055.3383966772,546658.8047745037,605825.0033411753,667394.4507037859,731201.6931076152,797078.5210771015,864856.8577030618,934371.2776707503,1005461.1348642748,1077972.2944909032,1151758.480712165,1226682.2625837417,1302615.7097489059,1379440.7550225912,1457049.3040811697,1535343.1333394607,1614233.6161816176,1693641.3154410569,1773495.4767936964,1853733.4538908266,1934300.0919133823,2015147.0920212958],\"type\":\"scatter\",\"xaxis\":\"x\",\"yaxis\":\"y\"},{\"name\":\"EUA Jun24 75C\",\"x\":[30,31,32,33,34,35,36,37,38,39,40,41,42,43,44,45,46,47,48,49,50,51,52,53,54,55,56,57,58,59,60,61,62,63,64,65,66,67,68,69,70,71,72,73,74,75,76,77,78,79,80,81,82,83,84,85,86,87,88,89,90,91,92,93,94,95,96,97,98,99,100],\"y\":[1.5882534049524075e-06,7.497965293012458e-06,3.19856302396168e-05,0.00012427408486510576,0.0004428937255912377,0.0014570939200322431,0.0044509666520579205,0.012690403025390094,0.03393277639817879,0.08546171046957574,0.20354213013666192,0.46009199838293996,0.9903527539205476,2.036202150810938,4.010180875552404,7.584926029294209,13.811166310777919,24.264507594836118,41.21693245090456,67.82357802916655,108.30960095193586,168.13670912740724,254.12528396624927,374.5069005222356,538.884159716259,758.0803014753545,1043.8697487460765,1408.5916848509728,1864.6607189020285,2424.0001544459046,3097.43287016998,3894.0711194821615,4820.748856359363,5881.538226635688,7077.3858995317605,8405.895700660187,9861.272632910795,11434.431095913647,13113.258197429528,14883.012596787987,16726.831171457896,18626.31046471336,20562.127525792705,22514.665253850882,24464.610314277983,26393.496552026092,28284.172937528223,30121.181795063367,31891.039785484743,33582.4203507688,35186.2417095375,36695.66878810176,38106.04057621595,39414.73631674831,40620.99476680502,41725.700658043585,42731.15162462674,43640.81745969777,44459.10180091392,45191.114408933856,45842.46023874963,46419.04962955929,46926.93223926459,47372.15587901255,47760.65018921013,48098.13414699759,48390.045695374116,48641.49131332407,48857.213074334315,49041.57063396639,49198.53561139266],\"type\":\"scatter\",\"xaxis\":\"x2\",\"yaxis\":\"y2\"},{\"mode\":\"lines\",\"name\":\"Total_PnL\",\"x\":[30,31,32,33,34,35,36,37,38,39,40,41,42,43,44,45,46,47,48,49,50,51,52,53,54,55,56,57,58,59,60,61,62,63,64,65,66,67,68,69,70,71,72,73,74,75,76,77,78,79,80,81,82,83,84,85,86,87,88,89,90,91,92,93,94,95,96,97,98,99,100],\"y\":[-576377.9945026827,-568357.7368045271,-557845.1557503777,-544496.7257578634,-528036.7323158253,-508282.54878105485,-485164.03722640424,-458735.1808397746,-429176.97114291164,-396791.561319186,-361988.6213907156,-325265.575942187,-287183.88884977245,-248343.74293119615,-209359.35069730264,-170836.76994709752,-133355.55865029828,-97454.97733575632,-63624.825822923915,-32300.46515675806,-3861.1843139053817,21369.14326014578,43120.202315620365,61173.14219066004,75358.96923325036,85557.83918952136,91699.34243685653,93763.58865450369,91782.68167072214,85842.05044918368,76081.07358551543,62692.493633868486,45920.245108005096,26055.491078091967,3430.8511553685207,-21587.016417145736,-48606.16382121091,-77219.0085479884,-107012.40636971095,-137577.64069859637,-168519.8562296487,-199466.52933011655,-230074.65655356974,-260036.44478541985,-289083.3914636956,-316988.74227776175,-343568.40008031554,-368680.42812489654,-392223.3410564246,-414133.408164532,-434381.2066137447,-452967.66012062726,-469919.7839187019,-485286.3331430126,-499133.5222106754,-511540.9503014914,-522597.8351320947,-532399.6258211896,-541045.0371777401,-548633.5231163874,-555263.1865798768,-561029.1074260441,-566022.0580361672,-570327.5685436518,-574025.2990653936,-577188.6745793531,-579884.7385583364,-582174.1835932725,-584111.5205245684,-585745.3516167079,-587118.7177031678],\"type\":\"scatter\",\"xaxis\":\"x\",\"yaxis\":\"y\"},{\"mode\":\"lines\",\"name\":\"Total_Delta\",\"x\":[30,31,32,33,34,35,36,37,38,39,40,41,42,43,44,45,46,47,48,49,50,51,52,53,54,55,56,57,58,59,60,61,62,63,64,65,66,67,68,69,70,71,72,73,74,75,76,77,78,79,80,81,82,83,84,85,86,87,88,89,90,91,92,93,94,95,96,97,98,99,100],\"y\":[4192.33149845246,5592.8543769593,7216.996274386726,9032.04527589414,10988.645858054871,13023.636579975035,15064.280020391838,17033.37881725881,18854.685216870286,20458.010040137626,21783.51366259622,22784.799507826636,23430.60566987288,23705.07554504029,23606.757762789115,23146.61794160939,22345.42583819517,21230.905875786153,19835.009899535096,18191.598560589395,16334.71715822442,14297.540442877746,12111.955581833949,9808.66701368726,7417.650431968239,4968.759429075352,2492.295989435068,19.38939545738276,-2417.9212248289177,-4786.9470660331535,-7054.941827734092,-9189.966943329864,-11161.93643528707,-12943.729674703749,-14512.258002047478,-15849.382644959775,-16942.603131334174,-17785.463305663587,-18377.652005807344,-18724.803867425362,-18838.029867725614,-18733.22536577806,-18430.214790535334,-17951.79686851645,-17322.753122467104,-16568.876488442493,-15716.067677007239,-14789.535748605882,-13813.127562550788,-12808.799352834787,-11796.23347383341,-10792.594860185287,-9812.41521716323,-8867.588444091816,-7967.458170930819,-7118.977319659949,-6326.919984066757,-5594.1273255097185,-4921.771287014955,-4309.622442575084,-3756.310975822489,-3259.5724262171134,-2816.4723069134197,-2423.6058900024364,-2077.271317176841,-1773.6157066495944,-1508.755096309018,-1278.869913306502,-1080.278228226678,-909.4893807234475,-763.2406979609295],\"type\":\"scatter\",\"xaxis\":\"x2\",\"yaxis\":\"y2\"}],                        {\"template\":{\"data\":{\"histogram2dcontour\":[{\"type\":\"histogram2dcontour\",\"colorbar\":{\"outlinewidth\":0,\"ticks\":\"\"},\"colorscale\":[[0.0,\"#0d0887\"],[0.1111111111111111,\"#46039f\"],[0.2222222222222222,\"#7201a8\"],[0.3333333333333333,\"#9c179e\"],[0.4444444444444444,\"#bd3786\"],[0.5555555555555556,\"#d8576b\"],[0.6666666666666666,\"#ed7953\"],[0.7777777777777778,\"#fb9f3a\"],[0.8888888888888888,\"#fdca26\"],[1.0,\"#f0f921\"]]}],\"choropleth\":[{\"type\":\"choropleth\",\"colorbar\":{\"outlinewidth\":0,\"ticks\":\"\"}}],\"histogram2d\":[{\"type\":\"histogram2d\",\"colorbar\":{\"outlinewidth\":0,\"ticks\":\"\"},\"colorscale\":[[0.0,\"#0d0887\"],[0.1111111111111111,\"#46039f\"],[0.2222222222222222,\"#7201a8\"],[0.3333333333333333,\"#9c179e\"],[0.4444444444444444,\"#bd3786\"],[0.5555555555555556,\"#d8576b\"],[0.6666666666666666,\"#ed7953\"],[0.7777777777777778,\"#fb9f3a\"],[0.8888888888888888,\"#fdca26\"],[1.0,\"#f0f921\"]]}],\"heatmap\":[{\"type\":\"heatmap\",\"colorbar\":{\"outlinewidth\":0,\"ticks\":\"\"},\"colorscale\":[[0.0,\"#0d0887\"],[0.1111111111111111,\"#46039f\"],[0.2222222222222222,\"#7201a8\"],[0.3333333333333333,\"#9c179e\"],[0.4444444444444444,\"#bd3786\"],[0.5555555555555556,\"#d8576b\"],[0.6666666666666666,\"#ed7953\"],[0.7777777777777778,\"#fb9f3a\"],[0.8888888888888888,\"#fdca26\"],[1.0,\"#f0f921\"]]}],\"heatmapgl\":[{\"type\":\"heatmapgl\",\"colorbar\":{\"outlinewidth\":0,\"ticks\":\"\"},\"colorscale\":[[0.0,\"#0d0887\"],[0.1111111111111111,\"#46039f\"],[0.2222222222222222,\"#7201a8\"],[0.3333333333333333,\"#9c179e\"],[0.4444444444444444,\"#bd3786\"],[0.5555555555555556,\"#d8576b\"],[0.6666666666666666,\"#ed7953\"],[0.7777777777777778,\"#fb9f3a\"],[0.8888888888888888,\"#fdca26\"],[1.0,\"#f0f921\"]]}],\"contourcarpet\":[{\"type\":\"contourcarpet\",\"colorbar\":{\"outlinewidth\":0,\"ticks\":\"\"}}],\"contour\":[{\"type\":\"contour\",\"colorbar\":{\"outlinewidth\":0,\"ticks\":\"\"},\"colorscale\":[[0.0,\"#0d0887\"],[0.1111111111111111,\"#46039f\"],[0.2222222222222222,\"#7201a8\"],[0.3333333333333333,\"#9c179e\"],[0.4444444444444444,\"#bd3786\"],[0.5555555555555556,\"#d8576b\"],[0.6666666666666666,\"#ed7953\"],[0.7777777777777778,\"#fb9f3a\"],[0.8888888888888888,\"#fdca26\"],[1.0,\"#f0f921\"]]}],\"surface\":[{\"type\":\"surface\",\"colorbar\":{\"outlinewidth\":0,\"ticks\":\"\"},\"colorscale\":[[0.0,\"#0d0887\"],[0.1111111111111111,\"#46039f\"],[0.2222222222222222,\"#7201a8\"],[0.3333333333333333,\"#9c179e\"],[0.4444444444444444,\"#bd3786\"],[0.5555555555555556,\"#d8576b\"],[0.6666666666666666,\"#ed7953\"],[0.7777777777777778,\"#fb9f3a\"],[0.8888888888888888,\"#fdca26\"],[1.0,\"#f0f921\"]]}],\"mesh3d\":[{\"type\":\"mesh3d\",\"colorbar\":{\"outlinewidth\":0,\"ticks\":\"\"}}],\"scatter\":[{\"fillpattern\":{\"fillmode\":\"overlay\",\"size\":10,\"solidity\":0.2},\"type\":\"scatter\"}],\"parcoords\":[{\"type\":\"parcoords\",\"line\":{\"colorbar\":{\"outlinewidth\":0,\"ticks\":\"\"}}}],\"scatterpolargl\":[{\"type\":\"scatterpolargl\",\"marker\":{\"colorbar\":{\"outlinewidth\":0,\"ticks\":\"\"}}}],\"bar\":[{\"error_x\":{\"color\":\"#2a3f5f\"},\"error_y\":{\"color\":\"#2a3f5f\"},\"marker\":{\"line\":{\"color\":\"#E5ECF6\",\"width\":0.5},\"pattern\":{\"fillmode\":\"overlay\",\"size\":10,\"solidity\":0.2}},\"type\":\"bar\"}],\"scattergeo\":[{\"type\":\"scattergeo\",\"marker\":{\"colorbar\":{\"outlinewidth\":0,\"ticks\":\"\"}}}],\"scatterpolar\":[{\"type\":\"scatterpolar\",\"marker\":{\"colorbar\":{\"outlinewidth\":0,\"ticks\":\"\"}}}],\"histogram\":[{\"marker\":{\"pattern\":{\"fillmode\":\"overlay\",\"size\":10,\"solidity\":0.2}},\"type\":\"histogram\"}],\"scattergl\":[{\"type\":\"scattergl\",\"marker\":{\"colorbar\":{\"outlinewidth\":0,\"ticks\":\"\"}}}],\"scatter3d\":[{\"type\":\"scatter3d\",\"line\":{\"colorbar\":{\"outlinewidth\":0,\"ticks\":\"\"}},\"marker\":{\"colorbar\":{\"outlinewidth\":0,\"ticks\":\"\"}}}],\"scattermapbox\":[{\"type\":\"scattermapbox\",\"marker\":{\"colorbar\":{\"outlinewidth\":0,\"ticks\":\"\"}}}],\"scatterternary\":[{\"type\":\"scatterternary\",\"marker\":{\"colorbar\":{\"outlinewidth\":0,\"ticks\":\"\"}}}],\"scattercarpet\":[{\"type\":\"scattercarpet\",\"marker\":{\"colorbar\":{\"outlinewidth\":0,\"ticks\":\"\"}}}],\"carpet\":[{\"aaxis\":{\"endlinecolor\":\"#2a3f5f\",\"gridcolor\":\"white\",\"linecolor\":\"white\",\"minorgridcolor\":\"white\",\"startlinecolor\":\"#2a3f5f\"},\"baxis\":{\"endlinecolor\":\"#2a3f5f\",\"gridcolor\":\"white\",\"linecolor\":\"white\",\"minorgridcolor\":\"white\",\"startlinecolor\":\"#2a3f5f\"},\"type\":\"carpet\"}],\"table\":[{\"cells\":{\"fill\":{\"color\":\"#EBF0F8\"},\"line\":{\"color\":\"white\"}},\"header\":{\"fill\":{\"color\":\"#C8D4E3\"},\"line\":{\"color\":\"white\"}},\"type\":\"table\"}],\"barpolar\":[{\"marker\":{\"line\":{\"color\":\"#E5ECF6\",\"width\":0.5},\"pattern\":{\"fillmode\":\"overlay\",\"size\":10,\"solidity\":0.2}},\"type\":\"barpolar\"}],\"pie\":[{\"automargin\":true,\"type\":\"pie\"}]},\"layout\":{\"autotypenumbers\":\"strict\",\"colorway\":[\"#636efa\",\"#EF553B\",\"#00cc96\",\"#ab63fa\",\"#FFA15A\",\"#19d3f3\",\"#FF6692\",\"#B6E880\",\"#FF97FF\",\"#FECB52\"],\"font\":{\"color\":\"#2a3f5f\"},\"hovermode\":\"closest\",\"hoverlabel\":{\"align\":\"left\"},\"paper_bgcolor\":\"white\",\"plot_bgcolor\":\"#E5ECF6\",\"polar\":{\"bgcolor\":\"#E5ECF6\",\"angularaxis\":{\"gridcolor\":\"white\",\"linecolor\":\"white\",\"ticks\":\"\"},\"radialaxis\":{\"gridcolor\":\"white\",\"linecolor\":\"white\",\"ticks\":\"\"}},\"ternary\":{\"bgcolor\":\"#E5ECF6\",\"aaxis\":{\"gridcolor\":\"white\",\"linecolor\":\"white\",\"ticks\":\"\"},\"baxis\":{\"gridcolor\":\"white\",\"linecolor\":\"white\",\"ticks\":\"\"},\"caxis\":{\"gridcolor\":\"white\",\"linecolor\":\"white\",\"ticks\":\"\"}},\"coloraxis\":{\"colorbar\":{\"outlinewidth\":0,\"ticks\":\"\"}},\"colorscale\":{\"sequential\":[[0.0,\"#0d0887\"],[0.1111111111111111,\"#46039f\"],[0.2222222222222222,\"#7201a8\"],[0.3333333333333333,\"#9c179e\"],[0.4444444444444444,\"#bd3786\"],[0.5555555555555556,\"#d8576b\"],[0.6666666666666666,\"#ed7953\"],[0.7777777777777778,\"#fb9f3a\"],[0.8888888888888888,\"#fdca26\"],[1.0,\"#f0f921\"]],\"sequentialminus\":[[0.0,\"#0d0887\"],[0.1111111111111111,\"#46039f\"],[0.2222222222222222,\"#7201a8\"],[0.3333333333333333,\"#9c179e\"],[0.4444444444444444,\"#bd3786\"],[0.5555555555555556,\"#d8576b\"],[0.6666666666666666,\"#ed7953\"],[0.7777777777777778,\"#fb9f3a\"],[0.8888888888888888,\"#fdca26\"],[1.0,\"#f0f921\"]],\"diverging\":[[0,\"#8e0152\"],[0.1,\"#c51b7d\"],[0.2,\"#de77ae\"],[0.3,\"#f1b6da\"],[0.4,\"#fde0ef\"],[0.5,\"#f7f7f7\"],[0.6,\"#e6f5d0\"],[0.7,\"#b8e186\"],[0.8,\"#7fbc41\"],[0.9,\"#4d9221\"],[1,\"#276419\"]]},\"xaxis\":{\"gridcolor\":\"white\",\"linecolor\":\"white\",\"ticks\":\"\",\"title\":{\"standoff\":15},\"zerolinecolor\":\"white\",\"automargin\":true,\"zerolinewidth\":2},\"yaxis\":{\"gridcolor\":\"white\",\"linecolor\":\"white\",\"ticks\":\"\",\"title\":{\"standoff\":15},\"zerolinecolor\":\"white\",\"automargin\":true,\"zerolinewidth\":2},\"scene\":{\"xaxis\":{\"backgroundcolor\":\"#E5ECF6\",\"gridcolor\":\"white\",\"linecolor\":\"white\",\"showbackground\":true,\"ticks\":\"\",\"zerolinecolor\":\"white\",\"gridwidth\":2},\"yaxis\":{\"backgroundcolor\":\"#E5ECF6\",\"gridcolor\":\"white\",\"linecolor\":\"white\",\"showbackground\":true,\"ticks\":\"\",\"zerolinecolor\":\"white\",\"gridwidth\":2},\"zaxis\":{\"backgroundcolor\":\"#E5ECF6\",\"gridcolor\":\"white\",\"linecolor\":\"white\",\"showbackground\":true,\"ticks\":\"\",\"zerolinecolor\":\"white\",\"gridwidth\":2}},\"shapedefaults\":{\"line\":{\"color\":\"#2a3f5f\"}},\"annotationdefaults\":{\"arrowcolor\":\"#2a3f5f\",\"arrowhead\":0,\"arrowwidth\":1},\"geo\":{\"bgcolor\":\"white\",\"landcolor\":\"#E5ECF6\",\"subunitcolor\":\"white\",\"showland\":true,\"showlakes\":true,\"lakecolor\":\"white\"},\"title\":{\"x\":0.05},\"mapbox\":{\"style\":\"light\"}}},\"xaxis\":{\"anchor\":\"y\",\"domain\":[0.0,0.45],\"title\":{\"text\":\"Price\"}},\"yaxis\":{\"anchor\":\"x\",\"domain\":[0.0,1.0],\"title\":{\"text\":\"Pnl\"}},\"xaxis2\":{\"anchor\":\"y2\",\"domain\":[0.55,1.0],\"title\":{\"text\":\"Price\"}},\"yaxis2\":{\"anchor\":\"x2\",\"domain\":[0.0,1.0],\"title\":{\"text\":\"Delta\"}},\"title\":{\"text\":\"Todays Option Pos (PnL and Delta)\",\"x\":0.5,\"xanchor\":\"center\"},\"barmode\":\"stack\"},                        {\"responsive\": true}                    ).then(function(){\n",
       "                            \n",
       "var gd = document.getElementById('a53a14ae-d789-426f-83c2-3ec7c32edf7c');\n",
       "var x = new MutationObserver(function (mutations, observer) {{\n",
       "        var display = window.getComputedStyle(gd).display;\n",
       "        if (!display || display === 'none') {{\n",
       "            console.log([gd, 'removed!']);\n",
       "            Plotly.purge(gd);\n",
       "            observer.disconnect();\n",
       "        }}\n",
       "}});\n",
       "\n",
       "// Listen for the removal of the full notebook cells\n",
       "var notebookContainer = gd.closest('#notebook-container');\n",
       "if (notebookContainer) {{\n",
       "    x.observe(notebookContainer, {childList: true});\n",
       "}}\n",
       "\n",
       "// Listen for the clearing of the current output cell\n",
       "var outputEl = gd.closest('.output');\n",
       "if (outputEl) {{\n",
       "    x.observe(outputEl, {childList: true});\n",
       "}}\n",
       "\n",
       "                        })                };                });            </script>        </div>"
      ]
     },
     "metadata": {},
     "output_type": "display_data"
    }
   ],
   "source": [
    "pnl_delta_plot(one_month)"
   ]
  },
  {
   "cell_type": "markdown",
   "id": "89f40338",
   "metadata": {},
   "source": [
    "## End of May"
   ]
  },
  {
   "cell_type": "code",
   "execution_count": 18,
   "id": "451ebb54",
   "metadata": {},
   "outputs": [
    {
     "data": {
      "application/vnd.plotly.v1+json": {
       "config": {
        "plotlyServerURL": "https://plot.ly"
       },
       "data": [
        {
         "name": "EUA Jun24 40P",
         "type": "scatter",
         "x": [
          30,
          31,
          32,
          33,
          34,
          35,
          36,
          37,
          38,
          39,
          40,
          41,
          42,
          43,
          44,
          45,
          46,
          47,
          48,
          49,
          50,
          51,
          52,
          53,
          54,
          55,
          56,
          57,
          58,
          59,
          60,
          61,
          62,
          63,
          64,
          65,
          66,
          67,
          68,
          69,
          70,
          71,
          72,
          73,
          74,
          75,
          76,
          77,
          78,
          79,
          80,
          81,
          82,
          83,
          84,
          85,
          86,
          87,
          88,
          89,
          90,
          91,
          92,
          93,
          94,
          95,
          96,
          97,
          98,
          99,
          100
         ],
         "xaxis": "x",
         "y": [
          801499.0556243575,
          720949.0513658721,
          641816.012840244,
          564767.1040300194,
          490586.6300357246,
          420120.5639265085,
          354202.1882966654,
          293571.58343569975,
          238803.36477940308,
          190254.89900198265,
          148042.22701528016,
          112044.8516686751,
          81935.16228620407,
          57224.75257572131,
          37318.64095815406,
          21569.136140029732,
          9323.117423888894,
          -40.962089677802105,
          -7087.635991196381,
          -12309.964512421835,
          -16124.285606174491,
          -18871.8742131093,
          -20825.17599601976,
          -22196.573687081378,
          -23148.09226169797,
          -23800.927420419797,
          -24244.11093344925,
          -24541.967646973113,
          -24740.263402275625,
          -24871.09988187074,
          -24956.699103129242,
          -25012.256476237184,
          -25048.044652049204,
          -25070.93479454806,
          -25085.477462933086,
          -25094.658524495913,
          -25100.420252848748,
          -25104.015869809384,
          -25106.247882810272,
          -25107.626542870967,
          -25108.47412613662,
          -25108.992918022665,
          -25109.309148892607,
          -25109.501159131032,
          -25109.617319159606,
          -25109.687351575918,
          -25109.729438237402,
          -25109.754654514913,
          -25109.769720318658,
          -25109.778697872043,
          -25109.784034335185,
          -25109.78719916674,
          -25109.78907207943,
          -25109.790178241623,
          -25109.790830345348,
          -25109.791214113553,
          -25109.791439605917,
          -25109.791571905254,
          -25109.791649422892,
          -25109.791694785625,
          -25109.791721301717,
          -25109.79173678563,
          -25109.791745818482,
          -25109.791751083612,
          -25109.791754150265,
          -25109.791755935283,
          -25109.7917569735,
          -25109.791757577135,
          -25109.791757928055,
          -25109.791758131858,
          -25109.791758250256
         ],
         "yaxis": "y"
        },
        {
         "name": "EUA Jun24 40P",
         "type": "scatter",
         "x": [
          30,
          31,
          32,
          33,
          34,
          35,
          36,
          37,
          38,
          39,
          40,
          41,
          42,
          43,
          44,
          45,
          46,
          47,
          48,
          49,
          50,
          51,
          52,
          53,
          54,
          55,
          56,
          57,
          58,
          59,
          60,
          61,
          62,
          63,
          64,
          65,
          66,
          67,
          68,
          69,
          70,
          71,
          72,
          73,
          74,
          75,
          76,
          77,
          78,
          79,
          80,
          81,
          82,
          83,
          84,
          85,
          86,
          87,
          88,
          89,
          90,
          91,
          92,
          93,
          94,
          95,
          96,
          97,
          98,
          99,
          100
         ],
         "xaxis": "x2",
         "y": [
          -49146.323700562076,
          -48460.6447914126,
          -47413.3276950693,
          -45921.71252867115,
          -43929.17983300875,
          -41419.54545320472,
          -38425.01861109012,
          -35025.532431122665,
          -31339.642698255393,
          -27509.324808047288,
          -23682.216593628265,
          -19994.936067065344,
          -16560.2527663956,
          -13459.557409592171,
          -10740.72970543406,
          -8420.487662743903,
          -6489.7591536538175,
          -4920.523356111051,
          -3672.7987860587173,
          -2700.8477372513216,
          -1958.087071655662,
          -1400.5517767351982,
          -989.0087430458161,
          -689.9601016831735,
          -475.82724283258824,
          -324.59629841165014,
          -219.16073375871647,
          -146.5383469095527,
          -97.08276995200049,
          -63.76128710966489,
          -41.53429111843909,
          -26.84673777046398,
          -17.226665785124993,
          -10.977821601293458,
          -6.950359580282228,
          -4.3735752236429,
          -2.7362625966864673,
          -1.7026148311394262,
          -1.0540241093259795,
          -0.6493681959096609,
          -0.39825557224260066,
          -0.24320958773027535,
          -0.14793094453846578,
          -0.08964016596224589,
          -0.054126743437299396,
          -0.032574816433150744,
          -0.0195435405470068,
          -0.011691264106827859,
          -0.006974901806122702,
          -0.0041505960446386325,
          -0.002464064391416443,
          -0.001459595999619978,
          -0.0008628169179125678,
          -0.0005090648291794508,
          -0.00029981679361412716,
          -0.00017628862258867173,
          -0.0001034980878777958,
          -6.067806812559695e-05,
          -3.552807492646082e-05,
          -2.0777768394708573e-05,
          -1.2138301475062008e-05,
          -7.084205444485292e-06,
          -4.130845665528682e-06,
          -2.4067969839336456e-06,
          -1.401295746106257e-06,
          -8.153533403998381e-07,
          -4.7415404935691186e-07,
          -2.7560176363294886e-07,
          -1.6012746684168633e-07,
          -9.300338277284936e-08,
          -5.4001247917767614e-08
         ],
         "yaxis": "y2"
        },
        {
         "name": "EUA Jun24 50P",
         "type": "scatter",
         "x": [
          30,
          31,
          32,
          33,
          34,
          35,
          36,
          37,
          38,
          39,
          40,
          41,
          42,
          43,
          44,
          45,
          46,
          47,
          48,
          49,
          50,
          51,
          52,
          53,
          54,
          55,
          56,
          57,
          58,
          59,
          60,
          61,
          62,
          63,
          64,
          65,
          66,
          67,
          68,
          69,
          70,
          71,
          72,
          73,
          74,
          75,
          76,
          77,
          78,
          79,
          80,
          81,
          82,
          83,
          84,
          85,
          86,
          87,
          88,
          89,
          90,
          91,
          92,
          93,
          94,
          95,
          96,
          97,
          98,
          99,
          100
         ],
         "xaxis": "x",
         "y": [
          -1538901.5220528424,
          -1456421.6851449402,
          -1373943.2029824913,
          -1291468.8463258,
          -1209005.7566446976,
          -1126570.4963375628,
          -1044197.8782529886,
          -961954.6464821312,
          -879958.1781256648,
          -798398.7417231841,
          -717561.8025344681,
          -637845.0890614623,
          -559764.4489764859,
          -483943.5205447132,
          -411084.97212377866,
          -341924.9079696008,
          -277175.9281453701,
          -217467.11931462787,
          -163290.14721059048,
          -114959.43563876512,
          -72591.58462866044,
          -36105.5440808392,
          -5241.556108693692,
          20405.74404179364,
          41346.03184318931,
          58149.83670632051,
          71408.02434280278,
          81697.79733907354,
          89557.11199482696,
          95467.90201363844,
          99847.36459484918,
          103045.86869594155,
          105349.75519549535,
          106987.32256355319,
          108136.51789739568,
          108933.17831651597,
          109479.01152040946,
          109848.814489073,
          110096.67896623365,
          110261.1140097181,
          110369.1345236785,
          110439.43175941876,
          110484.77072279881,
          110513.76286683197,
          110532.15074407314,
          110543.7221378216,
          110550.94977337211,
          110555.43217318742,
          110558.19319474084,
          110559.88289233115,
          110560.91057147643,
          110561.53192584217,
          110561.90549672334,
          110562.12889101561,
          110562.2617972087,
          110562.34048303687,
          110562.38685181129,
          110562.41405550703,
          110562.42994809957,
          110562.43919537272,
          110562.444555418,
          110562.44765097905,
          110562.44943255172,
          110562.45045451252,
          110562.45103890277,
          110562.45137208031,
          110562.45156149812,
          110562.45166889612,
          110562.45172963466,
          110562.45176390192,
          110562.45178319096
         ],
         "yaxis": "y"
        },
        {
         "name": "EUA Jun24 50P",
         "type": "scatter",
         "x": [
          30,
          31,
          32,
          33,
          34,
          35,
          36,
          37,
          38,
          39,
          40,
          41,
          42,
          43,
          44,
          45,
          46,
          47,
          48,
          49,
          50,
          51,
          52,
          53,
          54,
          55,
          56,
          57,
          58,
          59,
          60,
          61,
          62,
          63,
          64,
          65,
          66,
          67,
          68,
          69,
          70,
          71,
          72,
          73,
          74,
          75,
          76,
          77,
          78,
          79,
          80,
          81,
          82,
          83,
          84,
          85,
          86,
          87,
          88,
          89,
          90,
          91,
          92,
          93,
          94,
          95,
          96,
          97,
          98,
          99,
          100
         ],
         "xaxis": "x2",
         "y": [
          49999.85141814634,
          49999.42638899604,
          49998.03963132568,
          49994.00778163654,
          49983.46602917736,
          49958.47355420262,
          49904.34500152538,
          49796.527714813485,
          49597.80534141739,
          49256.9959825,
          48710.3855135797,
          47886.7216446404,
          46715.71148735417,
          45138.86432110707,
          43120.595843905416,
          40657.12806078221,
          37781.05506632551,
          34560.40608998655,
          31092.309253928528,
          27492.54431431093,
          23883.041477286977,
          20379.580143423966,
          17081.603823471603,
          14065.375920111366,
          11380.892159025347,
          9052.24968303746,
          7080.68331792886,
          5449.258776959476,
          4128.229112029902,
          3080.24047409452,
          2264.8313924047147,
          1641.9339611061068,
          1174.3072206532922,
          828.9898429676923,
          577.9487140406603,
          398.1328727723277,
          271.1349311942779,
          182.63126062771363,
          121.73166381684864,
          80.32860786857943,
          52.5009743848448,
          34.000074762174926,
          21.826571202543388,
          13.894885425669301,
          8.775098125751724,
          5.499631111771652,
          3.421764989591791,
          2.1141996197793222,
          1.2976544391640754,
          0.7914465218861189,
          0.4797998515382318,
          0.28919835657892357,
          0.173358320859629,
          0.10337552966976915,
          0.06133682214359837,
          0.03622071435560592,
          0.02129229050296111,
          0.012462657572598346,
          0.007264591078692817,
          0.004218028054614464,
          0.0024399868236990585,
          0.0014064481579367794,
          0.0008079666435900634,
          0.0004626671601393184,
          0.000264130500804427,
          0.00015035203637658867,
          8.535018802824368e-05,
          4.8324227952534216e-05,
          2.7292862414540764e-05,
          1.5378465167970035e-05,
          8.645906213189392e-06
         ],
         "yaxis": "y2"
        },
        {
         "name": "EUA Jun24 65C",
         "type": "scatter",
         "x": [
          30,
          31,
          32,
          33,
          34,
          35,
          36,
          37,
          38,
          39,
          40,
          41,
          42,
          43,
          44,
          45,
          46,
          47,
          48,
          49,
          50,
          51,
          52,
          53,
          54,
          55,
          56,
          57,
          58,
          59,
          60,
          61,
          62,
          63,
          64,
          65,
          66,
          67,
          68,
          69,
          70,
          71,
          72,
          73,
          74,
          75,
          76,
          77,
          78,
          79,
          80,
          81,
          82,
          83,
          84,
          85,
          86,
          87,
          88,
          89,
          90,
          91,
          92,
          93,
          94,
          95,
          96,
          97,
          98,
          99,
          100
         ],
         "xaxis": "x",
         "y": [
          193149.38756924134,
          193149.38756924163,
          193149.3875692409,
          193149.38756923226,
          193149.3875691425,
          193149.38756834078,
          193149.3875622053,
          193149.38752146353,
          193149.3872843855,
          193149.38606446507,
          193149.38046742495,
          193149.35739641002,
          193149.27135983025,
          193148.97921784184,
          193148.07062379795,
          193145.46814193393,
          193138.56812905107,
          193121.55431415074,
          193082.36690414263,
          192997.710482782,
          192825.52299983267,
          192494.59993285354,
          191891.62735447902,
          190846.69187726273,
          189119.25319917628,
          186387.33181146003,
          182242.9888847378,
          176196.83004367244,
          167693.18426755536,
          156135.9418109526,
          140923.12152125096,
          121486.51983413064,
          97331.68390381048,
          68073.21306875785,
          33461.069573785855,
          -6605.005103655703,
          -52074.049903060884,
          -102754.66055872735,
          -158335.7066936848,
          -218413.74601754776,
          -282523.5513326155,
          -350168.3949069984,
          -420847.38190317893,
          -494077.99750302103,
          -569412.9457653073,
          -646451.1674217271,
          -724843.540381187,
          -804294.1581381997,
          -884558.2596318426,
          -965437.8899067775,
          -1046776.2571558553,
          -1128451.5710209329,
          -1210370.9435279395,
          -1292464.7395984924,
          -1374681.5980011786,
          -1456984.214455966,
          -1539345.8870957764,
          -1621747.7664156477,
          -1704176.7205947337,
          -1786623.715492837,
          -1869082.6101366433,
          -1951549.277746574,
          -2034020.975299372,
          -2116495.898535077,
          -2198972.872514408,
          -2281451.139422994,
          -2363930.2149593695,
          -2446409.7923346725,
          -2528889.6788447313,
          -2611369.7544237077,
          -2693849.9448438124
         ],
         "yaxis": "y"
        },
        {
         "name": "EUA Jun24 65C",
         "type": "scatter",
         "x": [
          30,
          31,
          32,
          33,
          34,
          35,
          36,
          37,
          38,
          39,
          40,
          41,
          42,
          43,
          44,
          45,
          46,
          47,
          48,
          49,
          50,
          51,
          52,
          53,
          54,
          55,
          56,
          57,
          58,
          59,
          60,
          61,
          62,
          63,
          64,
          65,
          66,
          67,
          68,
          69,
          70,
          71,
          72,
          73,
          74,
          75,
          76,
          77,
          78,
          79,
          80,
          81,
          82,
          83,
          84,
          85,
          86,
          87,
          88,
          89,
          90,
          91,
          92,
          93,
          94,
          95,
          96,
          97,
          98,
          99,
          100
         ],
         "xaxis": "x2",
         "y": [
          -4.588285546142492e-12,
          -8.10238881608759e-11,
          -1.1633630792489863e-09,
          -1.380609106343566e-08,
          -1.3742566360568012e-07,
          -1.162684482542734e-06,
          -8.461616803586314e-06,
          -5.3549445621688426e-05,
          -0.000297611066182128,
          -0.0014656729921268602,
          -0.006448851920850564,
          -0.025541571228372893,
          -0.09169104592977852,
          -0.3002442271484131,
          -0.9020491835160955,
          -2.5000005534273253,
          -6.4235855260352555,
          -15.37303588331184,
          -34.41622333400996,
          -72.36662595445041,
          -143.4567358673655,
          -269.056917147435,
          -479.01420550312366,
          -812.0647624862289,
          -1314.77998201093,
          -2038.6870586114378,
          -3035.5538654738066,
          -4351.274119761325,
          -6019.211631061003,
          -8054.130943976065,
          -10447.861031720407,
          -13167.585423223027,
          -16157.183600154696,
          -19341.48331958784,
          -22632.762242395474,
          -25938.479023566302,
          -29169.08486389856,
          -32244.868078040647,
          -35101.06322308462,
          -37690.827827636575,
          -39986.0643924817,
          -41976.37161807375,
          -43666.60554320677,
          -45073.60921252453,
          -46222.64489420494,
          -47143.96695505798,
          -47869.84164976547,
          -48432.183525273,
          -48860.859234801705,
          -49182.62048744894,
          -49420.571870614505,
          -49594.05321735671,
          -49718.813341086025,
          -49807.36450990686,
          -49869.42776859516,
          -49912.40245913728,
          -49941.81519149212,
          -49961.721917737064,
          -49975.05083878689,
          -49983.88370154808,
          -49989.67921910125,
          -49993.445674279916,
          -49995.87106566004,
          -49997.419138176534,
          -49998.39886934937,
          -49999.013859900086,
          -49999.39686971378,
          -49999.63360333868,
          -49999.77886201393,
          -49999.867368457475,
          -49999.9209323715
         ],
         "yaxis": "y2"
        },
        {
         "name": "EUA Jun24 75C",
         "type": "scatter",
         "x": [
          30,
          31,
          32,
          33,
          34,
          35,
          36,
          37,
          38,
          39,
          40,
          41,
          42,
          43,
          44,
          45,
          46,
          47,
          48,
          49,
          50,
          51,
          52,
          53,
          54,
          55,
          56,
          57,
          58,
          59,
          60,
          61,
          62,
          63,
          64,
          65,
          66,
          67,
          68,
          69,
          70,
          71,
          72,
          73,
          74,
          75,
          76,
          77,
          78,
          79,
          80,
          81,
          82,
          83,
          84,
          85,
          86,
          87,
          88,
          89,
          90,
          91,
          92,
          93,
          94,
          95,
          96,
          97,
          98,
          99,
          100
         ],
         "xaxis": "x",
         "y": [
          -49470.706411217725,
          -49470.706411217725,
          -49470.706411217725,
          -49470.706411217725,
          -49470.706411217725,
          -49470.706411217776,
          -49470.70641121771,
          -49470.70641121674,
          -49470.706411209125,
          -49470.70641114878,
          -49470.70641073177,
          -49470.70640817127,
          -49470.70639409484,
          -49470.70632432989,
          -49470.706010668684,
          -49470.70472391264,
          -49470.69988133501,
          -49470.68307913121,
          -49470.629081473395,
          -49470.46765603901,
          -49470.01694408569,
          -49468.83721661576,
          -49465.93226300144,
          -49459.18085749059,
          -49444.325578967735,
          -49413.29054214227,
          -49351.561740745885,
          -49234.36944178246,
          -49021.489117136385,
          -48650.64613204678,
          -48029.771756909744,
          -47028.688531019936,
          -45471.14627639126,
          -43128.408294510504,
          -39715.71697031072,
          -34892.88261019804,
          -28269.91098474475,
          -19418.038071456456,
          -7885.851644805732,
          6780.53639134824,
          25014.917514897974,
          47208.06526839375,
          73686.6315442319,
          104695.83942563081,
          140387.5004190538,
          180814.25232487463,
          225930.20924592591,
          275597.54597752664,
          329597.9952517992,
          387647.876110653,
          449415.1163542909,
          514536.76896089525,
          582635.7135984275,
          653335.5276407937,
          726272.8511718566,
          801106.9079744254,
          877526.1418833241,
          955252.161753223,
          1034041.3490362177,
          1113684.5713141847,
          1194005.4727659703,
          1274857.79254068,
          1356122.1097247603,
          1437702.3433904592,
          1519522.2600095586,
          1601522.167139449,
          1683655.907460682,
          1765888.2139609042,
          1848192.4461769285,
          1930548.6982872805,
          2012942.2509538154
         ],
         "yaxis": "y"
        },
        {
         "name": "EUA Jun24 75C",
         "type": "scatter",
         "x": [
          30,
          31,
          32,
          33,
          34,
          35,
          36,
          37,
          38,
          39,
          40,
          41,
          42,
          43,
          44,
          45,
          46,
          47,
          48,
          49,
          50,
          51,
          52,
          53,
          54,
          55,
          56,
          57,
          58,
          59,
          60,
          61,
          62,
          63,
          64,
          65,
          66,
          67,
          68,
          69,
          70,
          71,
          72,
          73,
          74,
          75,
          76,
          77,
          78,
          79,
          80,
          81,
          82,
          83,
          84,
          85,
          86,
          87,
          88,
          89,
          90,
          91,
          92,
          93,
          94,
          95,
          96,
          97,
          98,
          99,
          100
         ],
         "xaxis": "x2",
         "y": [
          3.663638791284669e-18,
          1.1073840387081414e-16,
          2.6736935347744943e-15,
          5.2471954297942134e-14,
          8.502590393033935e-13,
          1.1537680890023e-11,
          1.3279296114188534e-10,
          1.3114402846159054e-09,
          1.1230748381504853e-08,
          8.420145321426208e-08,
          5.575508614508693e-07,
          3.2868899622301452e-06,
          1.737864627650921e-05,
          8.296856734198188e-05,
          0.00035990136667087794,
          0.0014266673929281457,
          0.005195656652235238,
          0.01746931412524239,
          0.05447714387567685,
          0.15823467053479848,
          0.42979044184804555,
          1.09567866242926,
          2.630749155016636,
          5.968264179189353,
          12.832287650628178,
          26.223022958823712,
          51.067687735823974,
          95.01448267583774,
          169.29650736890864,
          289.53390399209826,
          476.2904232482046,
          755.1732240134168,
          1156.2789527861764,
          1712.8543984111673,
          2459.1531413731045,
          3427.6132756036222,
          4645.626771604411,
          6132.285167533194,
          7895.540188699285,
          9930.195225628027,
          12217.045119372202,
          14723.325254907268,
          17404.44679372304,
          20206.81797368233,
          23071.41322305653,
          25937.673678290295,
          28747.31225868866,
          31447.64796094136,
          33994.19135459747,
          36352.324708502245,
          38498.04363498458,
          40417.83420552608,
          42107.83803708849,
          43572.50276060619,
          44822.92772214633,
          45875.10045111312,
          46748.18655356123,
          47462.992975045934,
          48040.67978718843,
          48501.75468747253,
          48865.35098106795,
          49148.76559325275,
          49367.218639862855,
          49533.789126698524,
          49659.480709071286,
          49753.37519147962,
          49822.83778576709,
          49873.74558711014,
          49910.71817082538,
          49937.33594212192,
          49956.33749831243
         ],
         "yaxis": "y2"
        },
        {
         "mode": "lines",
         "name": "Total_PnL",
         "type": "scatter",
         "x": [
          30,
          31,
          32,
          33,
          34,
          35,
          36,
          37,
          38,
          39,
          40,
          41,
          42,
          43,
          44,
          45,
          46,
          47,
          48,
          49,
          50,
          51,
          52,
          53,
          54,
          55,
          56,
          57,
          58,
          59,
          60,
          61,
          62,
          63,
          64,
          65,
          66,
          67,
          68,
          69,
          70,
          71,
          72,
          73,
          74,
          75,
          76,
          77,
          78,
          79,
          80,
          81,
          82,
          83,
          84,
          85,
          86,
          87,
          88,
          89,
          90,
          91,
          92,
          93,
          94,
          95,
          96,
          97,
          98,
          99,
          100
         ],
         "xaxis": "x",
         "y": [
          -593723.7852704612,
          -591793.952621044,
          -588448.5089842242,
          -583023.0611377661,
          -574740.4454510482,
          -562771.2512539314,
          -546317.0088053356,
          -524704.3819361846,
          -497476.13247308537,
          -464465.1630678852,
          -425840.90146249474,
          -382121.5864045485,
          -334150.7217245464,
          -283040.49507547996,
          -230088.96655249535,
          -176681.00841154982,
          -124184.94247376516,
          -73857.21016928615,
          -26766.045379117626,
          16257.842675556021,
          54639.635820912044,
          88048.34442228926,
          116358.96298676412,
          139596.68137448438,
          157872.86720169988,
          171322.95055521847,
          180055.34055334545,
          184118.2902939904,
          183488.54374297033,
          178082.09781067353,
          167784.01525606116,
          152491.4435228151,
          132162.24817086538,
          106861.19254325249,
          76796.39303793773,
          42340.63207816632,
          4034.6303797550754,
          -37427.90001092019,
          -81231.12725506716,
          -126479.72215935237,
          -172247.97342017564,
          -217629.8907972085,
          -261785.28878504084,
          -303977.8963696893,
          -343602.9119213399,
          -380202.8803106068,
          -413472.11080012645,
          -443250.93464200053,
          -469511.84090562124,
          -492339.9096016654,
          -511910.0142644231,
          -528463.0573333622,
          -542283.1135048681,
          -553676.8732449247,
          -562956.2758624585,
          -570424.7572126173,
          -576367.1498002468,
          -581042.9821788229,
          -584682.7332598395,
          -587486.496678065,
          -589624.4845365568,
          -591238.8292917006,
          -592446.2078878786,
          -593340.8964411889,
          -593997.9532200971,
          -594476.3126674003,
          -594821.647694163,
          -595068.9184624492,
          -595244.5726960963,
          -595368.396130657,
          -595455.0338650565
         ],
         "yaxis": "y"
        },
        {
         "mode": "lines",
         "name": "Total_Delta",
         "type": "scatter",
         "x": [
          30,
          31,
          32,
          33,
          34,
          35,
          36,
          37,
          38,
          39,
          40,
          41,
          42,
          43,
          44,
          45,
          46,
          47,
          48,
          49,
          50,
          51,
          52,
          53,
          54,
          55,
          56,
          57,
          58,
          59,
          60,
          61,
          62,
          63,
          64,
          65,
          66,
          67,
          68,
          69,
          70,
          71,
          72,
          73,
          74,
          75,
          76,
          77,
          78,
          79,
          80,
          81,
          82,
          83,
          84,
          85,
          86,
          87,
          88,
          89,
          90,
          91,
          92,
          93,
          94,
          95,
          96,
          97,
          98,
          99,
          100
         ],
         "xaxis": "x2",
         "y": [
          853.5277175842593,
          1538.7815975833646,
          2584.711936255212,
          4072.2952529515787,
          6054.286196031189,
          8538.92809983522,
          11479.326381973773,
          14770.995230142686,
          18258.162345562163,
          21747.66970886392,
          25028.162471657062,
          27891.760039290715,
          30155.36704729129,
          31679.006750256314,
          32378.964449189207,
          32234.141824152277,
          31284.877522802315,
          29624.52716730631,
          27385.148721679678,
          24719.48818577569,
          21781.9274602058,
          18711.067128203762,
          15616.211624077681,
          12569.319320121154,
          9603.117221832455,
          6715.189348973196,
          3877.0364064321607,
          1046.4607929644362,
          -1818.7687816141922,
          -4748.117852999112,
          -7748.273507185927,
          -10797.324975873968,
          -13843.824092500352,
          -16810.616899810273,
          -19602.610746561993,
          -22117.106450413994,
          -24255.059423696555,
          -25931.654264710876,
          -27084.84539467781,
          -27680.95336233588,
          -27716.91655429689,
          -27219.289497992035,
          -26240.48010922573,
          -24852.985993582493,
          -23142.51069976609,
          -21200.826220472343,
          -19119.12716962776,
          -16982.433055975966,
          -14865.37720066688,
          -12829.508483020858,
          -10922.050899842783,
          -9175.931273070055,
          -7610.802808493594,
          -6234.7588828358275,
          -5046.439009443486,
          -4037.265963598431,
          -3193.6074491384716,
          -2498.7165407116263,
          -1934.363822535459,
          -1482.1248168252641,
          -1124.325810184775,
          -844.6786816632157,
          -628.6516219613841,
          -463.6295512176439,
          -338.91789754887577,
          -245.63851888378122,
          -176.5589990706576,
          -125.88796817991533,
          -89.06066405581805,
          -62.531411050091265,
          -43.58342546716449
         ],
         "yaxis": "y2"
        }
       ],
       "layout": {
        "barmode": "stack",
        "template": {
         "data": {
          "bar": [
           {
            "error_x": {
             "color": "#2a3f5f"
            },
            "error_y": {
             "color": "#2a3f5f"
            },
            "marker": {
             "line": {
              "color": "#E5ECF6",
              "width": 0.5
             },
             "pattern": {
              "fillmode": "overlay",
              "size": 10,
              "solidity": 0.2
             }
            },
            "type": "bar"
           }
          ],
          "barpolar": [
           {
            "marker": {
             "line": {
              "color": "#E5ECF6",
              "width": 0.5
             },
             "pattern": {
              "fillmode": "overlay",
              "size": 10,
              "solidity": 0.2
             }
            },
            "type": "barpolar"
           }
          ],
          "carpet": [
           {
            "aaxis": {
             "endlinecolor": "#2a3f5f",
             "gridcolor": "white",
             "linecolor": "white",
             "minorgridcolor": "white",
             "startlinecolor": "#2a3f5f"
            },
            "baxis": {
             "endlinecolor": "#2a3f5f",
             "gridcolor": "white",
             "linecolor": "white",
             "minorgridcolor": "white",
             "startlinecolor": "#2a3f5f"
            },
            "type": "carpet"
           }
          ],
          "choropleth": [
           {
            "colorbar": {
             "outlinewidth": 0,
             "ticks": ""
            },
            "type": "choropleth"
           }
          ],
          "contour": [
           {
            "colorbar": {
             "outlinewidth": 0,
             "ticks": ""
            },
            "colorscale": [
             [
              0,
              "#0d0887"
             ],
             [
              0.1111111111111111,
              "#46039f"
             ],
             [
              0.2222222222222222,
              "#7201a8"
             ],
             [
              0.3333333333333333,
              "#9c179e"
             ],
             [
              0.4444444444444444,
              "#bd3786"
             ],
             [
              0.5555555555555556,
              "#d8576b"
             ],
             [
              0.6666666666666666,
              "#ed7953"
             ],
             [
              0.7777777777777778,
              "#fb9f3a"
             ],
             [
              0.8888888888888888,
              "#fdca26"
             ],
             [
              1,
              "#f0f921"
             ]
            ],
            "type": "contour"
           }
          ],
          "contourcarpet": [
           {
            "colorbar": {
             "outlinewidth": 0,
             "ticks": ""
            },
            "type": "contourcarpet"
           }
          ],
          "heatmap": [
           {
            "colorbar": {
             "outlinewidth": 0,
             "ticks": ""
            },
            "colorscale": [
             [
              0,
              "#0d0887"
             ],
             [
              0.1111111111111111,
              "#46039f"
             ],
             [
              0.2222222222222222,
              "#7201a8"
             ],
             [
              0.3333333333333333,
              "#9c179e"
             ],
             [
              0.4444444444444444,
              "#bd3786"
             ],
             [
              0.5555555555555556,
              "#d8576b"
             ],
             [
              0.6666666666666666,
              "#ed7953"
             ],
             [
              0.7777777777777778,
              "#fb9f3a"
             ],
             [
              0.8888888888888888,
              "#fdca26"
             ],
             [
              1,
              "#f0f921"
             ]
            ],
            "type": "heatmap"
           }
          ],
          "heatmapgl": [
           {
            "colorbar": {
             "outlinewidth": 0,
             "ticks": ""
            },
            "colorscale": [
             [
              0,
              "#0d0887"
             ],
             [
              0.1111111111111111,
              "#46039f"
             ],
             [
              0.2222222222222222,
              "#7201a8"
             ],
             [
              0.3333333333333333,
              "#9c179e"
             ],
             [
              0.4444444444444444,
              "#bd3786"
             ],
             [
              0.5555555555555556,
              "#d8576b"
             ],
             [
              0.6666666666666666,
              "#ed7953"
             ],
             [
              0.7777777777777778,
              "#fb9f3a"
             ],
             [
              0.8888888888888888,
              "#fdca26"
             ],
             [
              1,
              "#f0f921"
             ]
            ],
            "type": "heatmapgl"
           }
          ],
          "histogram": [
           {
            "marker": {
             "pattern": {
              "fillmode": "overlay",
              "size": 10,
              "solidity": 0.2
             }
            },
            "type": "histogram"
           }
          ],
          "histogram2d": [
           {
            "colorbar": {
             "outlinewidth": 0,
             "ticks": ""
            },
            "colorscale": [
             [
              0,
              "#0d0887"
             ],
             [
              0.1111111111111111,
              "#46039f"
             ],
             [
              0.2222222222222222,
              "#7201a8"
             ],
             [
              0.3333333333333333,
              "#9c179e"
             ],
             [
              0.4444444444444444,
              "#bd3786"
             ],
             [
              0.5555555555555556,
              "#d8576b"
             ],
             [
              0.6666666666666666,
              "#ed7953"
             ],
             [
              0.7777777777777778,
              "#fb9f3a"
             ],
             [
              0.8888888888888888,
              "#fdca26"
             ],
             [
              1,
              "#f0f921"
             ]
            ],
            "type": "histogram2d"
           }
          ],
          "histogram2dcontour": [
           {
            "colorbar": {
             "outlinewidth": 0,
             "ticks": ""
            },
            "colorscale": [
             [
              0,
              "#0d0887"
             ],
             [
              0.1111111111111111,
              "#46039f"
             ],
             [
              0.2222222222222222,
              "#7201a8"
             ],
             [
              0.3333333333333333,
              "#9c179e"
             ],
             [
              0.4444444444444444,
              "#bd3786"
             ],
             [
              0.5555555555555556,
              "#d8576b"
             ],
             [
              0.6666666666666666,
              "#ed7953"
             ],
             [
              0.7777777777777778,
              "#fb9f3a"
             ],
             [
              0.8888888888888888,
              "#fdca26"
             ],
             [
              1,
              "#f0f921"
             ]
            ],
            "type": "histogram2dcontour"
           }
          ],
          "mesh3d": [
           {
            "colorbar": {
             "outlinewidth": 0,
             "ticks": ""
            },
            "type": "mesh3d"
           }
          ],
          "parcoords": [
           {
            "line": {
             "colorbar": {
              "outlinewidth": 0,
              "ticks": ""
             }
            },
            "type": "parcoords"
           }
          ],
          "pie": [
           {
            "automargin": true,
            "type": "pie"
           }
          ],
          "scatter": [
           {
            "fillpattern": {
             "fillmode": "overlay",
             "size": 10,
             "solidity": 0.2
            },
            "type": "scatter"
           }
          ],
          "scatter3d": [
           {
            "line": {
             "colorbar": {
              "outlinewidth": 0,
              "ticks": ""
             }
            },
            "marker": {
             "colorbar": {
              "outlinewidth": 0,
              "ticks": ""
             }
            },
            "type": "scatter3d"
           }
          ],
          "scattercarpet": [
           {
            "marker": {
             "colorbar": {
              "outlinewidth": 0,
              "ticks": ""
             }
            },
            "type": "scattercarpet"
           }
          ],
          "scattergeo": [
           {
            "marker": {
             "colorbar": {
              "outlinewidth": 0,
              "ticks": ""
             }
            },
            "type": "scattergeo"
           }
          ],
          "scattergl": [
           {
            "marker": {
             "colorbar": {
              "outlinewidth": 0,
              "ticks": ""
             }
            },
            "type": "scattergl"
           }
          ],
          "scattermapbox": [
           {
            "marker": {
             "colorbar": {
              "outlinewidth": 0,
              "ticks": ""
             }
            },
            "type": "scattermapbox"
           }
          ],
          "scatterpolar": [
           {
            "marker": {
             "colorbar": {
              "outlinewidth": 0,
              "ticks": ""
             }
            },
            "type": "scatterpolar"
           }
          ],
          "scatterpolargl": [
           {
            "marker": {
             "colorbar": {
              "outlinewidth": 0,
              "ticks": ""
             }
            },
            "type": "scatterpolargl"
           }
          ],
          "scatterternary": [
           {
            "marker": {
             "colorbar": {
              "outlinewidth": 0,
              "ticks": ""
             }
            },
            "type": "scatterternary"
           }
          ],
          "surface": [
           {
            "colorbar": {
             "outlinewidth": 0,
             "ticks": ""
            },
            "colorscale": [
             [
              0,
              "#0d0887"
             ],
             [
              0.1111111111111111,
              "#46039f"
             ],
             [
              0.2222222222222222,
              "#7201a8"
             ],
             [
              0.3333333333333333,
              "#9c179e"
             ],
             [
              0.4444444444444444,
              "#bd3786"
             ],
             [
              0.5555555555555556,
              "#d8576b"
             ],
             [
              0.6666666666666666,
              "#ed7953"
             ],
             [
              0.7777777777777778,
              "#fb9f3a"
             ],
             [
              0.8888888888888888,
              "#fdca26"
             ],
             [
              1,
              "#f0f921"
             ]
            ],
            "type": "surface"
           }
          ],
          "table": [
           {
            "cells": {
             "fill": {
              "color": "#EBF0F8"
             },
             "line": {
              "color": "white"
             }
            },
            "header": {
             "fill": {
              "color": "#C8D4E3"
             },
             "line": {
              "color": "white"
             }
            },
            "type": "table"
           }
          ]
         },
         "layout": {
          "annotationdefaults": {
           "arrowcolor": "#2a3f5f",
           "arrowhead": 0,
           "arrowwidth": 1
          },
          "autotypenumbers": "strict",
          "coloraxis": {
           "colorbar": {
            "outlinewidth": 0,
            "ticks": ""
           }
          },
          "colorscale": {
           "diverging": [
            [
             0,
             "#8e0152"
            ],
            [
             0.1,
             "#c51b7d"
            ],
            [
             0.2,
             "#de77ae"
            ],
            [
             0.3,
             "#f1b6da"
            ],
            [
             0.4,
             "#fde0ef"
            ],
            [
             0.5,
             "#f7f7f7"
            ],
            [
             0.6,
             "#e6f5d0"
            ],
            [
             0.7,
             "#b8e186"
            ],
            [
             0.8,
             "#7fbc41"
            ],
            [
             0.9,
             "#4d9221"
            ],
            [
             1,
             "#276419"
            ]
           ],
           "sequential": [
            [
             0,
             "#0d0887"
            ],
            [
             0.1111111111111111,
             "#46039f"
            ],
            [
             0.2222222222222222,
             "#7201a8"
            ],
            [
             0.3333333333333333,
             "#9c179e"
            ],
            [
             0.4444444444444444,
             "#bd3786"
            ],
            [
             0.5555555555555556,
             "#d8576b"
            ],
            [
             0.6666666666666666,
             "#ed7953"
            ],
            [
             0.7777777777777778,
             "#fb9f3a"
            ],
            [
             0.8888888888888888,
             "#fdca26"
            ],
            [
             1,
             "#f0f921"
            ]
           ],
           "sequentialminus": [
            [
             0,
             "#0d0887"
            ],
            [
             0.1111111111111111,
             "#46039f"
            ],
            [
             0.2222222222222222,
             "#7201a8"
            ],
            [
             0.3333333333333333,
             "#9c179e"
            ],
            [
             0.4444444444444444,
             "#bd3786"
            ],
            [
             0.5555555555555556,
             "#d8576b"
            ],
            [
             0.6666666666666666,
             "#ed7953"
            ],
            [
             0.7777777777777778,
             "#fb9f3a"
            ],
            [
             0.8888888888888888,
             "#fdca26"
            ],
            [
             1,
             "#f0f921"
            ]
           ]
          },
          "colorway": [
           "#636efa",
           "#EF553B",
           "#00cc96",
           "#ab63fa",
           "#FFA15A",
           "#19d3f3",
           "#FF6692",
           "#B6E880",
           "#FF97FF",
           "#FECB52"
          ],
          "font": {
           "color": "#2a3f5f"
          },
          "geo": {
           "bgcolor": "white",
           "lakecolor": "white",
           "landcolor": "#E5ECF6",
           "showlakes": true,
           "showland": true,
           "subunitcolor": "white"
          },
          "hoverlabel": {
           "align": "left"
          },
          "hovermode": "closest",
          "mapbox": {
           "style": "light"
          },
          "paper_bgcolor": "white",
          "plot_bgcolor": "#E5ECF6",
          "polar": {
           "angularaxis": {
            "gridcolor": "white",
            "linecolor": "white",
            "ticks": ""
           },
           "bgcolor": "#E5ECF6",
           "radialaxis": {
            "gridcolor": "white",
            "linecolor": "white",
            "ticks": ""
           }
          },
          "scene": {
           "xaxis": {
            "backgroundcolor": "#E5ECF6",
            "gridcolor": "white",
            "gridwidth": 2,
            "linecolor": "white",
            "showbackground": true,
            "ticks": "",
            "zerolinecolor": "white"
           },
           "yaxis": {
            "backgroundcolor": "#E5ECF6",
            "gridcolor": "white",
            "gridwidth": 2,
            "linecolor": "white",
            "showbackground": true,
            "ticks": "",
            "zerolinecolor": "white"
           },
           "zaxis": {
            "backgroundcolor": "#E5ECF6",
            "gridcolor": "white",
            "gridwidth": 2,
            "linecolor": "white",
            "showbackground": true,
            "ticks": "",
            "zerolinecolor": "white"
           }
          },
          "shapedefaults": {
           "line": {
            "color": "#2a3f5f"
           }
          },
          "ternary": {
           "aaxis": {
            "gridcolor": "white",
            "linecolor": "white",
            "ticks": ""
           },
           "baxis": {
            "gridcolor": "white",
            "linecolor": "white",
            "ticks": ""
           },
           "bgcolor": "#E5ECF6",
           "caxis": {
            "gridcolor": "white",
            "linecolor": "white",
            "ticks": ""
           }
          },
          "title": {
           "x": 0.05
          },
          "xaxis": {
           "automargin": true,
           "gridcolor": "white",
           "linecolor": "white",
           "ticks": "",
           "title": {
            "standoff": 15
           },
           "zerolinecolor": "white",
           "zerolinewidth": 2
          },
          "yaxis": {
           "automargin": true,
           "gridcolor": "white",
           "linecolor": "white",
           "ticks": "",
           "title": {
            "standoff": 15
           },
           "zerolinecolor": "white",
           "zerolinewidth": 2
          }
         }
        },
        "title": {
         "text": "Todays Option Pos (PnL and Delta)",
         "x": 0.5,
         "xanchor": "center"
        },
        "xaxis": {
         "anchor": "y",
         "domain": [
          0,
          0.45
         ],
         "title": {
          "text": "Price"
         }
        },
        "xaxis2": {
         "anchor": "y2",
         "domain": [
          0.55,
          1
         ],
         "title": {
          "text": "Price"
         }
        },
        "yaxis": {
         "anchor": "x",
         "domain": [
          0,
          1
         ],
         "title": {
          "text": "Pnl"
         }
        },
        "yaxis2": {
         "anchor": "x2",
         "domain": [
          0,
          1
         ],
         "title": {
          "text": "Delta"
         }
        }
       }
      },
      "text/html": [
       "<div>                            <div id=\"a6551a11-bb52-480d-845e-f789a7024a02\" class=\"plotly-graph-div\" style=\"height:525px; width:100%;\"></div>            <script type=\"text/javascript\">                require([\"plotly\"], function(Plotly) {                    window.PLOTLYENV=window.PLOTLYENV || {};                                    if (document.getElementById(\"a6551a11-bb52-480d-845e-f789a7024a02\")) {                    Plotly.newPlot(                        \"a6551a11-bb52-480d-845e-f789a7024a02\",                        [{\"name\":\"EUA Jun24 40P\",\"x\":[30,31,32,33,34,35,36,37,38,39,40,41,42,43,44,45,46,47,48,49,50,51,52,53,54,55,56,57,58,59,60,61,62,63,64,65,66,67,68,69,70,71,72,73,74,75,76,77,78,79,80,81,82,83,84,85,86,87,88,89,90,91,92,93,94,95,96,97,98,99,100],\"y\":[801499.0556243575,720949.0513658721,641816.012840244,564767.1040300194,490586.6300357246,420120.5639265085,354202.1882966654,293571.58343569975,238803.36477940308,190254.89900198265,148042.22701528016,112044.8516686751,81935.16228620407,57224.75257572131,37318.64095815406,21569.136140029732,9323.117423888894,-40.962089677802105,-7087.635991196381,-12309.964512421835,-16124.285606174491,-18871.8742131093,-20825.17599601976,-22196.573687081378,-23148.09226169797,-23800.927420419797,-24244.11093344925,-24541.967646973113,-24740.263402275625,-24871.09988187074,-24956.699103129242,-25012.256476237184,-25048.044652049204,-25070.93479454806,-25085.477462933086,-25094.658524495913,-25100.420252848748,-25104.015869809384,-25106.247882810272,-25107.626542870967,-25108.47412613662,-25108.992918022665,-25109.309148892607,-25109.501159131032,-25109.617319159606,-25109.687351575918,-25109.729438237402,-25109.754654514913,-25109.769720318658,-25109.778697872043,-25109.784034335185,-25109.78719916674,-25109.78907207943,-25109.790178241623,-25109.790830345348,-25109.791214113553,-25109.791439605917,-25109.791571905254,-25109.791649422892,-25109.791694785625,-25109.791721301717,-25109.79173678563,-25109.791745818482,-25109.791751083612,-25109.791754150265,-25109.791755935283,-25109.7917569735,-25109.791757577135,-25109.791757928055,-25109.791758131858,-25109.791758250256],\"type\":\"scatter\",\"xaxis\":\"x\",\"yaxis\":\"y\"},{\"name\":\"EUA Jun24 40P\",\"x\":[30,31,32,33,34,35,36,37,38,39,40,41,42,43,44,45,46,47,48,49,50,51,52,53,54,55,56,57,58,59,60,61,62,63,64,65,66,67,68,69,70,71,72,73,74,75,76,77,78,79,80,81,82,83,84,85,86,87,88,89,90,91,92,93,94,95,96,97,98,99,100],\"y\":[-49146.323700562076,-48460.6447914126,-47413.3276950693,-45921.71252867115,-43929.17983300875,-41419.54545320472,-38425.01861109012,-35025.532431122665,-31339.642698255393,-27509.324808047288,-23682.216593628265,-19994.936067065344,-16560.2527663956,-13459.557409592171,-10740.72970543406,-8420.487662743903,-6489.7591536538175,-4920.523356111051,-3672.7987860587173,-2700.8477372513216,-1958.087071655662,-1400.5517767351982,-989.0087430458161,-689.9601016831735,-475.82724283258824,-324.59629841165014,-219.16073375871647,-146.5383469095527,-97.08276995200049,-63.76128710966489,-41.53429111843909,-26.84673777046398,-17.226665785124993,-10.977821601293458,-6.950359580282228,-4.3735752236429,-2.7362625966864673,-1.7026148311394262,-1.0540241093259795,-0.6493681959096609,-0.39825557224260066,-0.24320958773027535,-0.14793094453846578,-0.08964016596224589,-0.054126743437299396,-0.032574816433150744,-0.0195435405470068,-0.011691264106827859,-0.006974901806122702,-0.0041505960446386325,-0.002464064391416443,-0.001459595999619978,-0.0008628169179125678,-0.0005090648291794508,-0.00029981679361412716,-0.00017628862258867173,-0.0001034980878777958,-6.067806812559695e-05,-3.552807492646082e-05,-2.0777768394708573e-05,-1.2138301475062008e-05,-7.084205444485292e-06,-4.130845665528682e-06,-2.4067969839336456e-06,-1.401295746106257e-06,-8.153533403998381e-07,-4.7415404935691186e-07,-2.7560176363294886e-07,-1.6012746684168633e-07,-9.300338277284936e-08,-5.4001247917767614e-08],\"type\":\"scatter\",\"xaxis\":\"x2\",\"yaxis\":\"y2\"},{\"name\":\"EUA Jun24 50P\",\"x\":[30,31,32,33,34,35,36,37,38,39,40,41,42,43,44,45,46,47,48,49,50,51,52,53,54,55,56,57,58,59,60,61,62,63,64,65,66,67,68,69,70,71,72,73,74,75,76,77,78,79,80,81,82,83,84,85,86,87,88,89,90,91,92,93,94,95,96,97,98,99,100],\"y\":[-1538901.5220528424,-1456421.6851449402,-1373943.2029824913,-1291468.8463258,-1209005.7566446976,-1126570.4963375628,-1044197.8782529886,-961954.6464821312,-879958.1781256648,-798398.7417231841,-717561.8025344681,-637845.0890614623,-559764.4489764859,-483943.5205447132,-411084.97212377866,-341924.9079696008,-277175.9281453701,-217467.11931462787,-163290.14721059048,-114959.43563876512,-72591.58462866044,-36105.5440808392,-5241.556108693692,20405.74404179364,41346.03184318931,58149.83670632051,71408.02434280278,81697.79733907354,89557.11199482696,95467.90201363844,99847.36459484918,103045.86869594155,105349.75519549535,106987.32256355319,108136.51789739568,108933.17831651597,109479.01152040946,109848.814489073,110096.67896623365,110261.1140097181,110369.1345236785,110439.43175941876,110484.77072279881,110513.76286683197,110532.15074407314,110543.7221378216,110550.94977337211,110555.43217318742,110558.19319474084,110559.88289233115,110560.91057147643,110561.53192584217,110561.90549672334,110562.12889101561,110562.2617972087,110562.34048303687,110562.38685181129,110562.41405550703,110562.42994809957,110562.43919537272,110562.444555418,110562.44765097905,110562.44943255172,110562.45045451252,110562.45103890277,110562.45137208031,110562.45156149812,110562.45166889612,110562.45172963466,110562.45176390192,110562.45178319096],\"type\":\"scatter\",\"xaxis\":\"x\",\"yaxis\":\"y\"},{\"name\":\"EUA Jun24 50P\",\"x\":[30,31,32,33,34,35,36,37,38,39,40,41,42,43,44,45,46,47,48,49,50,51,52,53,54,55,56,57,58,59,60,61,62,63,64,65,66,67,68,69,70,71,72,73,74,75,76,77,78,79,80,81,82,83,84,85,86,87,88,89,90,91,92,93,94,95,96,97,98,99,100],\"y\":[49999.85141814634,49999.42638899604,49998.03963132568,49994.00778163654,49983.46602917736,49958.47355420262,49904.34500152538,49796.527714813485,49597.80534141739,49256.9959825,48710.3855135797,47886.7216446404,46715.71148735417,45138.86432110707,43120.595843905416,40657.12806078221,37781.05506632551,34560.40608998655,31092.309253928528,27492.54431431093,23883.041477286977,20379.580143423966,17081.603823471603,14065.375920111366,11380.892159025347,9052.24968303746,7080.68331792886,5449.258776959476,4128.229112029902,3080.24047409452,2264.8313924047147,1641.9339611061068,1174.3072206532922,828.9898429676923,577.9487140406603,398.1328727723277,271.1349311942779,182.63126062771363,121.73166381684864,80.32860786857943,52.5009743848448,34.000074762174926,21.826571202543388,13.894885425669301,8.775098125751724,5.499631111771652,3.421764989591791,2.1141996197793222,1.2976544391640754,0.7914465218861189,0.4797998515382318,0.28919835657892357,0.173358320859629,0.10337552966976915,0.06133682214359837,0.03622071435560592,0.02129229050296111,0.012462657572598346,0.007264591078692817,0.004218028054614464,0.0024399868236990585,0.0014064481579367794,0.0008079666435900634,0.0004626671601393184,0.000264130500804427,0.00015035203637658867,8.535018802824368e-05,4.8324227952534216e-05,2.7292862414540764e-05,1.5378465167970035e-05,8.645906213189392e-06],\"type\":\"scatter\",\"xaxis\":\"x2\",\"yaxis\":\"y2\"},{\"name\":\"EUA Jun24 65C\",\"x\":[30,31,32,33,34,35,36,37,38,39,40,41,42,43,44,45,46,47,48,49,50,51,52,53,54,55,56,57,58,59,60,61,62,63,64,65,66,67,68,69,70,71,72,73,74,75,76,77,78,79,80,81,82,83,84,85,86,87,88,89,90,91,92,93,94,95,96,97,98,99,100],\"y\":[193149.38756924134,193149.38756924163,193149.3875692409,193149.38756923226,193149.3875691425,193149.38756834078,193149.3875622053,193149.38752146353,193149.3872843855,193149.38606446507,193149.38046742495,193149.35739641002,193149.27135983025,193148.97921784184,193148.07062379795,193145.46814193393,193138.56812905107,193121.55431415074,193082.36690414263,192997.710482782,192825.52299983267,192494.59993285354,191891.62735447902,190846.69187726273,189119.25319917628,186387.33181146003,182242.9888847378,176196.83004367244,167693.18426755536,156135.9418109526,140923.12152125096,121486.51983413064,97331.68390381048,68073.21306875785,33461.069573785855,-6605.005103655703,-52074.049903060884,-102754.66055872735,-158335.7066936848,-218413.74601754776,-282523.5513326155,-350168.3949069984,-420847.38190317893,-494077.99750302103,-569412.9457653073,-646451.1674217271,-724843.540381187,-804294.1581381997,-884558.2596318426,-965437.8899067775,-1046776.2571558553,-1128451.5710209329,-1210370.9435279395,-1292464.7395984924,-1374681.5980011786,-1456984.214455966,-1539345.8870957764,-1621747.7664156477,-1704176.7205947337,-1786623.715492837,-1869082.6101366433,-1951549.277746574,-2034020.975299372,-2116495.898535077,-2198972.872514408,-2281451.139422994,-2363930.2149593695,-2446409.7923346725,-2528889.6788447313,-2611369.7544237077,-2693849.9448438124],\"type\":\"scatter\",\"xaxis\":\"x\",\"yaxis\":\"y\"},{\"name\":\"EUA Jun24 65C\",\"x\":[30,31,32,33,34,35,36,37,38,39,40,41,42,43,44,45,46,47,48,49,50,51,52,53,54,55,56,57,58,59,60,61,62,63,64,65,66,67,68,69,70,71,72,73,74,75,76,77,78,79,80,81,82,83,84,85,86,87,88,89,90,91,92,93,94,95,96,97,98,99,100],\"y\":[-4.588285546142492e-12,-8.10238881608759e-11,-1.1633630792489863e-09,-1.380609106343566e-08,-1.3742566360568012e-07,-1.162684482542734e-06,-8.461616803586314e-06,-5.3549445621688426e-05,-0.000297611066182128,-0.0014656729921268602,-0.006448851920850564,-0.025541571228372893,-0.09169104592977852,-0.3002442271484131,-0.9020491835160955,-2.5000005534273253,-6.4235855260352555,-15.37303588331184,-34.41622333400996,-72.36662595445041,-143.4567358673655,-269.056917147435,-479.01420550312366,-812.0647624862289,-1314.77998201093,-2038.6870586114378,-3035.5538654738066,-4351.274119761325,-6019.211631061003,-8054.130943976065,-10447.861031720407,-13167.585423223027,-16157.183600154696,-19341.48331958784,-22632.762242395474,-25938.479023566302,-29169.08486389856,-32244.868078040647,-35101.06322308462,-37690.827827636575,-39986.0643924817,-41976.37161807375,-43666.60554320677,-45073.60921252453,-46222.64489420494,-47143.96695505798,-47869.84164976547,-48432.183525273,-48860.859234801705,-49182.62048744894,-49420.571870614505,-49594.05321735671,-49718.813341086025,-49807.36450990686,-49869.42776859516,-49912.40245913728,-49941.81519149212,-49961.721917737064,-49975.05083878689,-49983.88370154808,-49989.67921910125,-49993.445674279916,-49995.87106566004,-49997.419138176534,-49998.39886934937,-49999.013859900086,-49999.39686971378,-49999.63360333868,-49999.77886201393,-49999.867368457475,-49999.9209323715],\"type\":\"scatter\",\"xaxis\":\"x2\",\"yaxis\":\"y2\"},{\"name\":\"EUA Jun24 75C\",\"x\":[30,31,32,33,34,35,36,37,38,39,40,41,42,43,44,45,46,47,48,49,50,51,52,53,54,55,56,57,58,59,60,61,62,63,64,65,66,67,68,69,70,71,72,73,74,75,76,77,78,79,80,81,82,83,84,85,86,87,88,89,90,91,92,93,94,95,96,97,98,99,100],\"y\":[-49470.706411217725,-49470.706411217725,-49470.706411217725,-49470.706411217725,-49470.706411217725,-49470.706411217776,-49470.70641121771,-49470.70641121674,-49470.706411209125,-49470.70641114878,-49470.70641073177,-49470.70640817127,-49470.70639409484,-49470.70632432989,-49470.706010668684,-49470.70472391264,-49470.69988133501,-49470.68307913121,-49470.629081473395,-49470.46765603901,-49470.01694408569,-49468.83721661576,-49465.93226300144,-49459.18085749059,-49444.325578967735,-49413.29054214227,-49351.561740745885,-49234.36944178246,-49021.489117136385,-48650.64613204678,-48029.771756909744,-47028.688531019936,-45471.14627639126,-43128.408294510504,-39715.71697031072,-34892.88261019804,-28269.91098474475,-19418.038071456456,-7885.851644805732,6780.53639134824,25014.917514897974,47208.06526839375,73686.6315442319,104695.83942563081,140387.5004190538,180814.25232487463,225930.20924592591,275597.54597752664,329597.9952517992,387647.876110653,449415.1163542909,514536.76896089525,582635.7135984275,653335.5276407937,726272.8511718566,801106.9079744254,877526.1418833241,955252.161753223,1034041.3490362177,1113684.5713141847,1194005.4727659703,1274857.79254068,1356122.1097247603,1437702.3433904592,1519522.2600095586,1601522.167139449,1683655.907460682,1765888.2139609042,1848192.4461769285,1930548.6982872805,2012942.2509538154],\"type\":\"scatter\",\"xaxis\":\"x\",\"yaxis\":\"y\"},{\"name\":\"EUA Jun24 75C\",\"x\":[30,31,32,33,34,35,36,37,38,39,40,41,42,43,44,45,46,47,48,49,50,51,52,53,54,55,56,57,58,59,60,61,62,63,64,65,66,67,68,69,70,71,72,73,74,75,76,77,78,79,80,81,82,83,84,85,86,87,88,89,90,91,92,93,94,95,96,97,98,99,100],\"y\":[3.663638791284669e-18,1.1073840387081414e-16,2.6736935347744943e-15,5.2471954297942134e-14,8.502590393033935e-13,1.1537680890023e-11,1.3279296114188534e-10,1.3114402846159054e-09,1.1230748381504853e-08,8.420145321426208e-08,5.575508614508693e-07,3.2868899622301452e-06,1.737864627650921e-05,8.296856734198188e-05,0.00035990136667087794,0.0014266673929281457,0.005195656652235238,0.01746931412524239,0.05447714387567685,0.15823467053479848,0.42979044184804555,1.09567866242926,2.630749155016636,5.968264179189353,12.832287650628178,26.223022958823712,51.067687735823974,95.01448267583774,169.29650736890864,289.53390399209826,476.2904232482046,755.1732240134168,1156.2789527861764,1712.8543984111673,2459.1531413731045,3427.6132756036222,4645.626771604411,6132.285167533194,7895.540188699285,9930.195225628027,12217.045119372202,14723.325254907268,17404.44679372304,20206.81797368233,23071.41322305653,25937.673678290295,28747.31225868866,31447.64796094136,33994.19135459747,36352.324708502245,38498.04363498458,40417.83420552608,42107.83803708849,43572.50276060619,44822.92772214633,45875.10045111312,46748.18655356123,47462.992975045934,48040.67978718843,48501.75468747253,48865.35098106795,49148.76559325275,49367.218639862855,49533.789126698524,49659.480709071286,49753.37519147962,49822.83778576709,49873.74558711014,49910.71817082538,49937.33594212192,49956.33749831243],\"type\":\"scatter\",\"xaxis\":\"x2\",\"yaxis\":\"y2\"},{\"mode\":\"lines\",\"name\":\"Total_PnL\",\"x\":[30,31,32,33,34,35,36,37,38,39,40,41,42,43,44,45,46,47,48,49,50,51,52,53,54,55,56,57,58,59,60,61,62,63,64,65,66,67,68,69,70,71,72,73,74,75,76,77,78,79,80,81,82,83,84,85,86,87,88,89,90,91,92,93,94,95,96,97,98,99,100],\"y\":[-593723.7852704612,-591793.952621044,-588448.5089842242,-583023.0611377661,-574740.4454510482,-562771.2512539314,-546317.0088053356,-524704.3819361846,-497476.13247308537,-464465.1630678852,-425840.90146249474,-382121.5864045485,-334150.7217245464,-283040.49507547996,-230088.96655249535,-176681.00841154982,-124184.94247376516,-73857.21016928615,-26766.045379117626,16257.842675556021,54639.635820912044,88048.34442228926,116358.96298676412,139596.68137448438,157872.86720169988,171322.95055521847,180055.34055334545,184118.2902939904,183488.54374297033,178082.09781067353,167784.01525606116,152491.4435228151,132162.24817086538,106861.19254325249,76796.39303793773,42340.63207816632,4034.6303797550754,-37427.90001092019,-81231.12725506716,-126479.72215935237,-172247.97342017564,-217629.8907972085,-261785.28878504084,-303977.8963696893,-343602.9119213399,-380202.8803106068,-413472.11080012645,-443250.93464200053,-469511.84090562124,-492339.9096016654,-511910.0142644231,-528463.0573333622,-542283.1135048681,-553676.8732449247,-562956.2758624585,-570424.7572126173,-576367.1498002468,-581042.9821788229,-584682.7332598395,-587486.496678065,-589624.4845365568,-591238.8292917006,-592446.2078878786,-593340.8964411889,-593997.9532200971,-594476.3126674003,-594821.647694163,-595068.9184624492,-595244.5726960963,-595368.396130657,-595455.0338650565],\"type\":\"scatter\",\"xaxis\":\"x\",\"yaxis\":\"y\"},{\"mode\":\"lines\",\"name\":\"Total_Delta\",\"x\":[30,31,32,33,34,35,36,37,38,39,40,41,42,43,44,45,46,47,48,49,50,51,52,53,54,55,56,57,58,59,60,61,62,63,64,65,66,67,68,69,70,71,72,73,74,75,76,77,78,79,80,81,82,83,84,85,86,87,88,89,90,91,92,93,94,95,96,97,98,99,100],\"y\":[853.5277175842593,1538.7815975833646,2584.711936255212,4072.2952529515787,6054.286196031189,8538.92809983522,11479.326381973773,14770.995230142686,18258.162345562163,21747.66970886392,25028.162471657062,27891.760039290715,30155.36704729129,31679.006750256314,32378.964449189207,32234.141824152277,31284.877522802315,29624.52716730631,27385.148721679678,24719.48818577569,21781.9274602058,18711.067128203762,15616.211624077681,12569.319320121154,9603.117221832455,6715.189348973196,3877.0364064321607,1046.4607929644362,-1818.7687816141922,-4748.117852999112,-7748.273507185927,-10797.324975873968,-13843.824092500352,-16810.616899810273,-19602.610746561993,-22117.106450413994,-24255.059423696555,-25931.654264710876,-27084.84539467781,-27680.95336233588,-27716.91655429689,-27219.289497992035,-26240.48010922573,-24852.985993582493,-23142.51069976609,-21200.826220472343,-19119.12716962776,-16982.433055975966,-14865.37720066688,-12829.508483020858,-10922.050899842783,-9175.931273070055,-7610.802808493594,-6234.7588828358275,-5046.439009443486,-4037.265963598431,-3193.6074491384716,-2498.7165407116263,-1934.363822535459,-1482.1248168252641,-1124.325810184775,-844.6786816632157,-628.6516219613841,-463.6295512176439,-338.91789754887577,-245.63851888378122,-176.5589990706576,-125.88796817991533,-89.06066405581805,-62.531411050091265,-43.58342546716449],\"type\":\"scatter\",\"xaxis\":\"x2\",\"yaxis\":\"y2\"}],                        {\"template\":{\"data\":{\"histogram2dcontour\":[{\"type\":\"histogram2dcontour\",\"colorbar\":{\"outlinewidth\":0,\"ticks\":\"\"},\"colorscale\":[[0.0,\"#0d0887\"],[0.1111111111111111,\"#46039f\"],[0.2222222222222222,\"#7201a8\"],[0.3333333333333333,\"#9c179e\"],[0.4444444444444444,\"#bd3786\"],[0.5555555555555556,\"#d8576b\"],[0.6666666666666666,\"#ed7953\"],[0.7777777777777778,\"#fb9f3a\"],[0.8888888888888888,\"#fdca26\"],[1.0,\"#f0f921\"]]}],\"choropleth\":[{\"type\":\"choropleth\",\"colorbar\":{\"outlinewidth\":0,\"ticks\":\"\"}}],\"histogram2d\":[{\"type\":\"histogram2d\",\"colorbar\":{\"outlinewidth\":0,\"ticks\":\"\"},\"colorscale\":[[0.0,\"#0d0887\"],[0.1111111111111111,\"#46039f\"],[0.2222222222222222,\"#7201a8\"],[0.3333333333333333,\"#9c179e\"],[0.4444444444444444,\"#bd3786\"],[0.5555555555555556,\"#d8576b\"],[0.6666666666666666,\"#ed7953\"],[0.7777777777777778,\"#fb9f3a\"],[0.8888888888888888,\"#fdca26\"],[1.0,\"#f0f921\"]]}],\"heatmap\":[{\"type\":\"heatmap\",\"colorbar\":{\"outlinewidth\":0,\"ticks\":\"\"},\"colorscale\":[[0.0,\"#0d0887\"],[0.1111111111111111,\"#46039f\"],[0.2222222222222222,\"#7201a8\"],[0.3333333333333333,\"#9c179e\"],[0.4444444444444444,\"#bd3786\"],[0.5555555555555556,\"#d8576b\"],[0.6666666666666666,\"#ed7953\"],[0.7777777777777778,\"#fb9f3a\"],[0.8888888888888888,\"#fdca26\"],[1.0,\"#f0f921\"]]}],\"heatmapgl\":[{\"type\":\"heatmapgl\",\"colorbar\":{\"outlinewidth\":0,\"ticks\":\"\"},\"colorscale\":[[0.0,\"#0d0887\"],[0.1111111111111111,\"#46039f\"],[0.2222222222222222,\"#7201a8\"],[0.3333333333333333,\"#9c179e\"],[0.4444444444444444,\"#bd3786\"],[0.5555555555555556,\"#d8576b\"],[0.6666666666666666,\"#ed7953\"],[0.7777777777777778,\"#fb9f3a\"],[0.8888888888888888,\"#fdca26\"],[1.0,\"#f0f921\"]]}],\"contourcarpet\":[{\"type\":\"contourcarpet\",\"colorbar\":{\"outlinewidth\":0,\"ticks\":\"\"}}],\"contour\":[{\"type\":\"contour\",\"colorbar\":{\"outlinewidth\":0,\"ticks\":\"\"},\"colorscale\":[[0.0,\"#0d0887\"],[0.1111111111111111,\"#46039f\"],[0.2222222222222222,\"#7201a8\"],[0.3333333333333333,\"#9c179e\"],[0.4444444444444444,\"#bd3786\"],[0.5555555555555556,\"#d8576b\"],[0.6666666666666666,\"#ed7953\"],[0.7777777777777778,\"#fb9f3a\"],[0.8888888888888888,\"#fdca26\"],[1.0,\"#f0f921\"]]}],\"surface\":[{\"type\":\"surface\",\"colorbar\":{\"outlinewidth\":0,\"ticks\":\"\"},\"colorscale\":[[0.0,\"#0d0887\"],[0.1111111111111111,\"#46039f\"],[0.2222222222222222,\"#7201a8\"],[0.3333333333333333,\"#9c179e\"],[0.4444444444444444,\"#bd3786\"],[0.5555555555555556,\"#d8576b\"],[0.6666666666666666,\"#ed7953\"],[0.7777777777777778,\"#fb9f3a\"],[0.8888888888888888,\"#fdca26\"],[1.0,\"#f0f921\"]]}],\"mesh3d\":[{\"type\":\"mesh3d\",\"colorbar\":{\"outlinewidth\":0,\"ticks\":\"\"}}],\"scatter\":[{\"fillpattern\":{\"fillmode\":\"overlay\",\"size\":10,\"solidity\":0.2},\"type\":\"scatter\"}],\"parcoords\":[{\"type\":\"parcoords\",\"line\":{\"colorbar\":{\"outlinewidth\":0,\"ticks\":\"\"}}}],\"scatterpolargl\":[{\"type\":\"scatterpolargl\",\"marker\":{\"colorbar\":{\"outlinewidth\":0,\"ticks\":\"\"}}}],\"bar\":[{\"error_x\":{\"color\":\"#2a3f5f\"},\"error_y\":{\"color\":\"#2a3f5f\"},\"marker\":{\"line\":{\"color\":\"#E5ECF6\",\"width\":0.5},\"pattern\":{\"fillmode\":\"overlay\",\"size\":10,\"solidity\":0.2}},\"type\":\"bar\"}],\"scattergeo\":[{\"type\":\"scattergeo\",\"marker\":{\"colorbar\":{\"outlinewidth\":0,\"ticks\":\"\"}}}],\"scatterpolar\":[{\"type\":\"scatterpolar\",\"marker\":{\"colorbar\":{\"outlinewidth\":0,\"ticks\":\"\"}}}],\"histogram\":[{\"marker\":{\"pattern\":{\"fillmode\":\"overlay\",\"size\":10,\"solidity\":0.2}},\"type\":\"histogram\"}],\"scattergl\":[{\"type\":\"scattergl\",\"marker\":{\"colorbar\":{\"outlinewidth\":0,\"ticks\":\"\"}}}],\"scatter3d\":[{\"type\":\"scatter3d\",\"line\":{\"colorbar\":{\"outlinewidth\":0,\"ticks\":\"\"}},\"marker\":{\"colorbar\":{\"outlinewidth\":0,\"ticks\":\"\"}}}],\"scattermapbox\":[{\"type\":\"scattermapbox\",\"marker\":{\"colorbar\":{\"outlinewidth\":0,\"ticks\":\"\"}}}],\"scatterternary\":[{\"type\":\"scatterternary\",\"marker\":{\"colorbar\":{\"outlinewidth\":0,\"ticks\":\"\"}}}],\"scattercarpet\":[{\"type\":\"scattercarpet\",\"marker\":{\"colorbar\":{\"outlinewidth\":0,\"ticks\":\"\"}}}],\"carpet\":[{\"aaxis\":{\"endlinecolor\":\"#2a3f5f\",\"gridcolor\":\"white\",\"linecolor\":\"white\",\"minorgridcolor\":\"white\",\"startlinecolor\":\"#2a3f5f\"},\"baxis\":{\"endlinecolor\":\"#2a3f5f\",\"gridcolor\":\"white\",\"linecolor\":\"white\",\"minorgridcolor\":\"white\",\"startlinecolor\":\"#2a3f5f\"},\"type\":\"carpet\"}],\"table\":[{\"cells\":{\"fill\":{\"color\":\"#EBF0F8\"},\"line\":{\"color\":\"white\"}},\"header\":{\"fill\":{\"color\":\"#C8D4E3\"},\"line\":{\"color\":\"white\"}},\"type\":\"table\"}],\"barpolar\":[{\"marker\":{\"line\":{\"color\":\"#E5ECF6\",\"width\":0.5},\"pattern\":{\"fillmode\":\"overlay\",\"size\":10,\"solidity\":0.2}},\"type\":\"barpolar\"}],\"pie\":[{\"automargin\":true,\"type\":\"pie\"}]},\"layout\":{\"autotypenumbers\":\"strict\",\"colorway\":[\"#636efa\",\"#EF553B\",\"#00cc96\",\"#ab63fa\",\"#FFA15A\",\"#19d3f3\",\"#FF6692\",\"#B6E880\",\"#FF97FF\",\"#FECB52\"],\"font\":{\"color\":\"#2a3f5f\"},\"hovermode\":\"closest\",\"hoverlabel\":{\"align\":\"left\"},\"paper_bgcolor\":\"white\",\"plot_bgcolor\":\"#E5ECF6\",\"polar\":{\"bgcolor\":\"#E5ECF6\",\"angularaxis\":{\"gridcolor\":\"white\",\"linecolor\":\"white\",\"ticks\":\"\"},\"radialaxis\":{\"gridcolor\":\"white\",\"linecolor\":\"white\",\"ticks\":\"\"}},\"ternary\":{\"bgcolor\":\"#E5ECF6\",\"aaxis\":{\"gridcolor\":\"white\",\"linecolor\":\"white\",\"ticks\":\"\"},\"baxis\":{\"gridcolor\":\"white\",\"linecolor\":\"white\",\"ticks\":\"\"},\"caxis\":{\"gridcolor\":\"white\",\"linecolor\":\"white\",\"ticks\":\"\"}},\"coloraxis\":{\"colorbar\":{\"outlinewidth\":0,\"ticks\":\"\"}},\"colorscale\":{\"sequential\":[[0.0,\"#0d0887\"],[0.1111111111111111,\"#46039f\"],[0.2222222222222222,\"#7201a8\"],[0.3333333333333333,\"#9c179e\"],[0.4444444444444444,\"#bd3786\"],[0.5555555555555556,\"#d8576b\"],[0.6666666666666666,\"#ed7953\"],[0.7777777777777778,\"#fb9f3a\"],[0.8888888888888888,\"#fdca26\"],[1.0,\"#f0f921\"]],\"sequentialminus\":[[0.0,\"#0d0887\"],[0.1111111111111111,\"#46039f\"],[0.2222222222222222,\"#7201a8\"],[0.3333333333333333,\"#9c179e\"],[0.4444444444444444,\"#bd3786\"],[0.5555555555555556,\"#d8576b\"],[0.6666666666666666,\"#ed7953\"],[0.7777777777777778,\"#fb9f3a\"],[0.8888888888888888,\"#fdca26\"],[1.0,\"#f0f921\"]],\"diverging\":[[0,\"#8e0152\"],[0.1,\"#c51b7d\"],[0.2,\"#de77ae\"],[0.3,\"#f1b6da\"],[0.4,\"#fde0ef\"],[0.5,\"#f7f7f7\"],[0.6,\"#e6f5d0\"],[0.7,\"#b8e186\"],[0.8,\"#7fbc41\"],[0.9,\"#4d9221\"],[1,\"#276419\"]]},\"xaxis\":{\"gridcolor\":\"white\",\"linecolor\":\"white\",\"ticks\":\"\",\"title\":{\"standoff\":15},\"zerolinecolor\":\"white\",\"automargin\":true,\"zerolinewidth\":2},\"yaxis\":{\"gridcolor\":\"white\",\"linecolor\":\"white\",\"ticks\":\"\",\"title\":{\"standoff\":15},\"zerolinecolor\":\"white\",\"automargin\":true,\"zerolinewidth\":2},\"scene\":{\"xaxis\":{\"backgroundcolor\":\"#E5ECF6\",\"gridcolor\":\"white\",\"linecolor\":\"white\",\"showbackground\":true,\"ticks\":\"\",\"zerolinecolor\":\"white\",\"gridwidth\":2},\"yaxis\":{\"backgroundcolor\":\"#E5ECF6\",\"gridcolor\":\"white\",\"linecolor\":\"white\",\"showbackground\":true,\"ticks\":\"\",\"zerolinecolor\":\"white\",\"gridwidth\":2},\"zaxis\":{\"backgroundcolor\":\"#E5ECF6\",\"gridcolor\":\"white\",\"linecolor\":\"white\",\"showbackground\":true,\"ticks\":\"\",\"zerolinecolor\":\"white\",\"gridwidth\":2}},\"shapedefaults\":{\"line\":{\"color\":\"#2a3f5f\"}},\"annotationdefaults\":{\"arrowcolor\":\"#2a3f5f\",\"arrowhead\":0,\"arrowwidth\":1},\"geo\":{\"bgcolor\":\"white\",\"landcolor\":\"#E5ECF6\",\"subunitcolor\":\"white\",\"showland\":true,\"showlakes\":true,\"lakecolor\":\"white\"},\"title\":{\"x\":0.05},\"mapbox\":{\"style\":\"light\"}}},\"xaxis\":{\"anchor\":\"y\",\"domain\":[0.0,0.45],\"title\":{\"text\":\"Price\"}},\"yaxis\":{\"anchor\":\"x\",\"domain\":[0.0,1.0],\"title\":{\"text\":\"Pnl\"}},\"xaxis2\":{\"anchor\":\"y2\",\"domain\":[0.55,1.0],\"title\":{\"text\":\"Price\"}},\"yaxis2\":{\"anchor\":\"x2\",\"domain\":[0.0,1.0],\"title\":{\"text\":\"Delta\"}},\"title\":{\"text\":\"Todays Option Pos (PnL and Delta)\",\"x\":0.5,\"xanchor\":\"center\"},\"barmode\":\"stack\"},                        {\"responsive\": true}                    ).then(function(){\n",
       "                            \n",
       "var gd = document.getElementById('a6551a11-bb52-480d-845e-f789a7024a02');\n",
       "var x = new MutationObserver(function (mutations, observer) {{\n",
       "        var display = window.getComputedStyle(gd).display;\n",
       "        if (!display || display === 'none') {{\n",
       "            console.log([gd, 'removed!']);\n",
       "            Plotly.purge(gd);\n",
       "            observer.disconnect();\n",
       "        }}\n",
       "}});\n",
       "\n",
       "// Listen for the removal of the full notebook cells\n",
       "var notebookContainer = gd.closest('#notebook-container');\n",
       "if (notebookContainer) {{\n",
       "    x.observe(notebookContainer, {childList: true});\n",
       "}}\n",
       "\n",
       "// Listen for the clearing of the current output cell\n",
       "var outputEl = gd.closest('.output');\n",
       "if (outputEl) {{\n",
       "    x.observe(outputEl, {childList: true});\n",
       "}}\n",
       "\n",
       "                        })                };                });            </script>        </div>"
      ]
     },
     "metadata": {},
     "output_type": "display_data"
    }
   ],
   "source": [
    "pnl_delta_plot(end_of_may)"
   ]
  },
  {
   "cell_type": "markdown",
   "id": "53e1ac51",
   "metadata": {},
   "source": [
    "## Mid June"
   ]
  },
  {
   "cell_type": "code",
   "execution_count": 19,
   "id": "d5935e2b",
   "metadata": {},
   "outputs": [
    {
     "data": {
      "application/vnd.plotly.v1+json": {
       "config": {
        "plotlyServerURL": "https://plot.ly"
       },
       "data": [
        {
         "name": "EUA Jun24 40P",
         "type": "scatter",
         "x": [
          30,
          31,
          32,
          33,
          34,
          35,
          36,
          37,
          38,
          39,
          40,
          41,
          42,
          43,
          44,
          45,
          46,
          47,
          48,
          49,
          50,
          51,
          52,
          53,
          54,
          55,
          56,
          57,
          58,
          59,
          60,
          61,
          62,
          63,
          64,
          65,
          66,
          67,
          68,
          69,
          70,
          71,
          72,
          73,
          74,
          75,
          76,
          77,
          78,
          79,
          80,
          81,
          82,
          83,
          84,
          85,
          86,
          87,
          88,
          89,
          90,
          91,
          92,
          93,
          94,
          95,
          96,
          97,
          98,
          99,
          100
         ],
         "xaxis": "x",
         "y": [
          800902.0916148059,
          718298.9221024719,
          635699.6203091413,
          553126.9471963601,
          470689.56074912613,
          388771.5249389239,
          308392.49714955845,
          231602.59020991114,
          161516.53006321876,
          101620.90701482492,
          54517.27712925135,
          20852.746777380842,
          -849.3168425407919,
          -13427.225193215354,
          -19979.518222337465,
          -23053.151493952097,
          -24355.56966621802,
          -24856.056502002186,
          -25031.228655150277,
          -25087.324847410757,
          -25103.83594669636,
          -25108.322796908637,
          -25109.453432991246,
          -25109.718735233837,
          -25109.776937081708,
          -25109.78892012874,
          -25109.79124395839,
          -25109.791669886235,
          -25109.791743909285,
          -25109.791756145096,
          -25109.791758074276,
          -25109.791758365416,
          -25109.79175840716,
          -25109.7917584132,
          -25109.791758413892,
          -25109.791758414107,
          -25109.791758413856,
          -25109.791758414038,
          -25109.791758414038,
          -25109.791758414038,
          -25109.791758414038,
          -25109.791758414038,
          -25109.791758414038,
          -25109.791758414038,
          -25109.791758414038,
          -25109.791758414038,
          -25109.791758414038,
          -25109.791758414038,
          -25109.791758414038,
          -25109.791758414038,
          -25109.791758414038,
          -25109.791758414038,
          -25109.791758414038,
          -25109.791758414038,
          -25109.791758414038,
          -25109.791758414038,
          -25109.791758414038,
          -25109.791758414038,
          -25109.791758414038,
          -25109.791758414038,
          -25109.791758414038,
          -25109.791758414038,
          -25109.791758414038,
          -25109.791758414038,
          -25109.791758414038,
          -25109.791758414038,
          -25109.791758414038,
          -25109.791758414038,
          -25109.791758414038,
          -25109.791758414038,
          -25109.791758414038
         ],
         "yaxis": "y"
        },
        {
         "name": "EUA Jun24 40P",
         "type": "scatter",
         "x": [
          30,
          31,
          32,
          33,
          34,
          35,
          36,
          37,
          38,
          39,
          40,
          41,
          42,
          43,
          44,
          45,
          46,
          47,
          48,
          49,
          50,
          51,
          52,
          53,
          54,
          55,
          56,
          57,
          58,
          59,
          60,
          61,
          62,
          63,
          64,
          65,
          66,
          67,
          68,
          69,
          70,
          71,
          72,
          73,
          74,
          75,
          76,
          77,
          78,
          79,
          80,
          81,
          82,
          83,
          84,
          85,
          86,
          87,
          88,
          89,
          90,
          91,
          92,
          93,
          94,
          95,
          96,
          97,
          98,
          99,
          100
         ],
         "xaxis": "x2",
         "y": [
          -49999.94402154474,
          -49999.2961505003,
          -49993.75569631837,
          -49959.634107463105,
          -49804.18954745655,
          -49267.621095910625,
          -47833.51422905366,
          -44807.00367041782,
          -39673.552200348175,
          -32561.67839574768,
          -24395.01179661947,
          -16516.98977987096,
          -10054.022942431107,
          -5493.901637193555,
          -2697.888752306621,
          -1193.8839566233096,
          -477.88815185169085,
          -173.77696543522947,
          -57.67030409895013,
          -17.54819202123281,
          -4.918580430546271,
          -1.2756458964202633,
          -0.30745971795198557,
          -0.06915395754925058,
          -0.01457245062952417,
          -0.0028877684521422253,
          -0.0005400651204023887,
          -9.563970171377889e-05,
          -1.608832511656999e-05,
          -2.578443014655818e-06,
          -3.9481751201719817e-07,
          -5.791478407957129e-08,
          -8.1601392309949e-09,
          -1.1046719095020308e-09,
          -1.4432899320127035e-10,
          -1.6653345369377348e-11,
          0,
          0,
          0,
          0,
          0,
          0,
          0,
          0,
          0,
          0,
          0,
          0,
          0,
          0,
          0,
          0,
          0,
          0,
          0,
          0,
          0,
          0,
          0,
          0,
          0,
          0,
          0,
          0,
          0,
          0,
          0,
          0,
          0,
          0,
          0
         ],
         "yaxis": "y2"
        },
        {
         "name": "EUA Jun24 50P",
         "type": "scatter",
         "x": [
          30,
          31,
          32,
          33,
          34,
          35,
          36,
          37,
          38,
          39,
          40,
          41,
          42,
          43,
          44,
          45,
          46,
          47,
          48,
          49,
          50,
          51,
          52,
          53,
          54,
          55,
          56,
          57,
          58,
          59,
          60,
          61,
          62,
          63,
          64,
          65,
          66,
          67,
          68,
          69,
          70,
          71,
          72,
          73,
          74,
          75,
          76,
          77,
          78,
          79,
          80,
          81,
          82,
          83,
          84,
          85,
          86,
          87,
          88,
          89,
          90,
          91,
          92,
          93,
          94,
          95,
          96,
          97,
          98,
          99,
          100
         ],
         "xaxis": "x",
         "y": [
          -1541479.393020328,
          -1458875.7888652247,
          -1376272.184710122,
          -1293668.580555018,
          -1211064.9763999158,
          -1128461.3722448498,
          -1045857.7680914648,
          -963254.1639913509,
          -880650.5610647658,
          -798046.9765835089,
          -715443.6037843546,
          -632842.0423366738,
          -550252.2612946016,
          -467721.7412913514,
          -385425.545058972,
          -303868.4959837262,
          -224197.0257777101,
          -148465.07525704708,
          -79553.5354083885,
          -20533.61422545835,
          26346.67797475725,
          60500.25030943723,
          83155.92257020508,
          96785.94287220041,
          104212.51499789189,
          107878.92566868105,
          109521.72584712716,
          110191.46144677784,
          110440.6348747189,
          110525.5162753558,
          110552.08271355016,
          110559.74897174077,
          110561.79577067302,
          110562.30310556751,
          110562.42024138945,
          110562.44551465976,
          110562.45062629956,
          110562.45159833715,
          110562.45177262726,
          110562.45180217462,
          110562.45180692308,
          110562.4518076485,
          110562.45180775391,
          110562.45180776862,
          110562.4518077705,
          110562.45180777075,
          110562.45180777076,
          110562.45180777075,
          110562.45180777075,
          110562.45180777075,
          110562.45180777075,
          110562.45180777075,
          110562.45180777075,
          110562.45180777075,
          110562.45180777075,
          110562.45180777075,
          110562.45180777075,
          110562.45180777075,
          110562.45180777075,
          110562.45180777075,
          110562.45180777075,
          110562.45180777075,
          110562.45180777075,
          110562.45180777075,
          110562.45180777075,
          110562.45180777075,
          110562.45180777075,
          110562.45180777075,
          110562.45180777075,
          110562.45180777075,
          110562.45180777075
         ],
         "yaxis": "y"
        },
        {
         "name": "EUA Jun24 50P",
         "type": "scatter",
         "x": [
          30,
          31,
          32,
          33,
          34,
          35,
          36,
          37,
          38,
          39,
          40,
          41,
          42,
          43,
          44,
          45,
          46,
          47,
          48,
          49,
          50,
          51,
          52,
          53,
          54,
          55,
          56,
          57,
          58,
          59,
          60,
          61,
          62,
          63,
          64,
          65,
          66,
          67,
          68,
          69,
          70,
          71,
          72,
          73,
          74,
          75,
          76,
          77,
          78,
          79,
          80,
          81,
          82,
          83,
          84,
          85,
          86,
          87,
          88,
          89,
          90,
          91,
          92,
          93,
          94,
          95,
          96,
          97,
          98,
          99,
          100
         ],
         "xaxis": "x2",
         "y": [
          50000,
          50000,
          50000,
          49999.999999999985,
          49999.99999999861,
          49999.99999990913,
          49999.99999610754,
          49999.99988688343,
          49999.99770378642,
          49999.9665601974,
          49999.64197406539,
          49997.11743379404,
          49982.17734574839,
          49913.69790129521,
          49666.58915088866,
          48953.97399175651,
          47288.756625210895,
          44095.10139188433,
          39008.293502917055,
          32205.184630576838,
          24487.292628559066,
          16989.495431225467,
          10696.695702752451,
          6096.229884649712,
          3144.0542576633256,
          1469.1828887485326,
          623.4466581758136,
          240.94570418423112,
          85.08634603345277,
          27.550787812319342,
          8.209002529152576,
          2.258805651933482,
          0.5760064567039702,
          0.13659246745345577,
          0.030221883218217727,
          0.006258987245155723,
          0.001217059231173323,
          0.00022285662204524215,
          3.853633523398514e-05,
          6.309802680348753e-06,
          9.807932244143558e-07,
          1.4508394485801546e-07,
          2.0472512574087887e-08,
          2.758904216193514e-09,
          3.552713678800501e-10,
          4.440892098500626e-11,
          5.551115123125783e-12,
          0,
          0,
          0,
          0,
          0,
          0,
          0,
          0,
          0,
          0,
          0,
          0,
          0,
          0,
          0,
          0,
          0,
          0,
          0,
          0,
          0,
          0,
          0,
          0
         ],
         "yaxis": "y2"
        },
        {
         "name": "EUA Jun24 65C",
         "type": "scatter",
         "x": [
          30,
          31,
          32,
          33,
          34,
          35,
          36,
          37,
          38,
          39,
          40,
          41,
          42,
          43,
          44,
          45,
          46,
          47,
          48,
          49,
          50,
          51,
          52,
          53,
          54,
          55,
          56,
          57,
          58,
          59,
          60,
          61,
          62,
          63,
          64,
          65,
          66,
          67,
          68,
          69,
          70,
          71,
          72,
          73,
          74,
          75,
          76,
          77,
          78,
          79,
          80,
          81,
          82,
          83,
          84,
          85,
          86,
          87,
          88,
          89,
          90,
          91,
          92,
          93,
          94,
          95,
          96,
          97,
          98,
          99,
          100
         ],
         "xaxis": "x",
         "y": [
          193149.3875692416,
          193149.3875692416,
          193149.3875692416,
          193149.3875692416,
          193149.3875692416,
          193149.3875692416,
          193149.3875692416,
          193149.3875692416,
          193149.3875692416,
          193149.3875692416,
          193149.3875692416,
          193149.3875692416,
          193149.3875692416,
          193149.3875692416,
          193149.3875692416,
          193149.3875692416,
          193149.3875692414,
          193149.3875692411,
          193149.38756922167,
          193149.38756862178,
          193149.38755481763,
          193149.38731271648,
          193149.38402699065,
          193149.34902657545,
          193149.05245858314,
          193147.02818026402,
          193135.76336648446,
          193084.0658206823,
          192886.2279080446,
          192248.0947506372,
          190494.75579484174,
          186347.61892428942,
          177812.89150242019,
          162361.90735686183,
          137471.35965987528,
          101354.44388561921,
          53532.9335223099,
          -5047.9964211790375,
          -72396.79192176004,
          -146112.20212559623,
          -223967.20357351334,
          -304243.56616234523,
          -385799.70714387915,
          -467969.6238948069,
          -550407.7187935455,
          -632952.9735092985,
          -715537.530143551,
          -798135.362967439,
          -880737.3400442319,
          -963340.5163487704,
          -1045944.0153147574,
          -1128547.5952333952,
          -1211151.1941429784,
          -1293754.7972292635,
          -1376358.4011788918,
          -1458962.0052966462,
          -1541565.6094453172,
          -1624169.213599368,
          -1706772.81775431,
          -1789376.4219093893,
          -1871980.0260644876,
          -1954583.6302195906,
          -2037187.2343746945,
          -2119790.8385297963,
          -2202394.4426849005,
          -2284998.0468400037,
          -2367601.6509951064,
          -2450205.255150209,
          -2532808.8593053124,
          -2615412.463460415,
          -2698016.0676155193
         ],
         "yaxis": "y"
        },
        {
         "name": "EUA Jun24 65C",
         "type": "scatter",
         "x": [
          30,
          31,
          32,
          33,
          34,
          35,
          36,
          37,
          38,
          39,
          40,
          41,
          42,
          43,
          44,
          45,
          46,
          47,
          48,
          49,
          50,
          51,
          52,
          53,
          54,
          55,
          56,
          57,
          58,
          59,
          60,
          61,
          62,
          63,
          64,
          65,
          66,
          67,
          68,
          69,
          70,
          71,
          72,
          73,
          74,
          75,
          76,
          77,
          78,
          79,
          80,
          81,
          82,
          83,
          84,
          85,
          86,
          87,
          88,
          89,
          90,
          91,
          92,
          93,
          94,
          95,
          96,
          97,
          98,
          99,
          100
         ],
         "xaxis": "x2",
         "y": [
          -3.212344561844447e-68,
          -2.444533263583676e-62,
          -6.938834613237677e-57,
          -7.94041055881529e-52,
          -3.92792288632052e-47,
          -8.943978010854617e-43,
          -9.921766682723741e-39,
          -5.644907332174629e-35,
          -1.7258455933842824e-31,
          -2.958528416272168e-28,
          -2.9560806997643976e-25,
          -1.7837117747061374e-22,
          -6.71458085710173e-20,
          -1.6246822135240003e-17,
          -2.5972420235087184e-15,
          -2.8136114978795967e-13,
          -2.1144782800269405e-11,
          -1.1265695975726125e-09,
          -4.3418914701484535e-08,
          -1.2334021438520897e-06,
          -2.6279795008725125e-05,
          -0.00042689423373751923,
          -0.005368369627207015,
          -0.05301901606137811,
          -0.41684732186909035,
          -2.6427556523429474,
          -13.676776020906805,
          -58.45856792527441,
          -208.7221403599148,
          -629.4239516003204,
          -1620.7310578573959,
          -3602.619476872341,
          -6990.336680321344,
          -11977.146143788317,
          -18341.895283016507,
          -25430.7292123707,
          -32362.490138000445,
          -38347.795701012685,
          -42936.28399750046,
          -46075.6108160756,
          -48001.868932964244,
          -49066.80275743118,
          -49599.62028008799,
          -49841.892873632794,
          -49942.408257756724,
          -49980.60369556407,
          -49993.94536125916,
          -49998.24391508867,
          -49999.52557297992,
          -49999.88031814825,
          -49999.97173998149,
          -49999.99373921645,
          -49999.998695641705,
          -49999.999743877524,
          -49999.99995249699,
          -49999.99999166077,
          -49999.99999861152,
          -49999.99999978031,
          -49999.9999999669,
          -49999.99999999524,
          -49999.999999999345,
          -49999.99999999992,
          -49999.999999999985,
          -50000,
          -50000,
          -50000,
          -50000,
          -50000,
          -50000,
          -50000,
          -50000
         ],
         "yaxis": "y2"
        },
        {
         "name": "EUA Jun24 75C",
         "type": "scatter",
         "x": [
          30,
          31,
          32,
          33,
          34,
          35,
          36,
          37,
          38,
          39,
          40,
          41,
          42,
          43,
          44,
          45,
          46,
          47,
          48,
          49,
          50,
          51,
          52,
          53,
          54,
          55,
          56,
          57,
          58,
          59,
          60,
          61,
          62,
          63,
          64,
          65,
          66,
          67,
          68,
          69,
          70,
          71,
          72,
          73,
          74,
          75,
          76,
          77,
          78,
          79,
          80,
          81,
          82,
          83,
          84,
          85,
          86,
          87,
          88,
          89,
          90,
          91,
          92,
          93,
          94,
          95,
          96,
          97,
          98,
          99,
          100
         ],
         "xaxis": "x",
         "y": [
          -49470.706411217725,
          -49470.706411217725,
          -49470.706411217725,
          -49470.706411217725,
          -49470.706411217725,
          -49470.706411217725,
          -49470.706411217725,
          -49470.706411217725,
          -49470.706411217725,
          -49470.706411217725,
          -49470.706411217725,
          -49470.706411217725,
          -49470.706411217725,
          -49470.706411217725,
          -49470.706411217725,
          -49470.706411217725,
          -49470.706411217725,
          -49470.706411217725,
          -49470.706411217725,
          -49470.706411217725,
          -49470.706411217725,
          -49470.706411217725,
          -49470.706411217725,
          -49470.706411217885,
          -49470.70641121743,
          -49470.706411211024,
          -49470.706411074665,
          -49470.70640871162,
          -49470.7063756577,
          -49470.70599766787,
          -49470.702429527446,
          -49470.67436748213,
          -49470.48887775124,
          -49469.449744055724,
          -49464.4764650694,
          -49443.98537621065,
          -49370.76144624542,
          -49142.18639753665,
          -48514.4946812496,
          -46987.564061123354,
          -43674.334989504576,
          -37216.72480513692,
          -25830.68013063163,
          -7534.850033921913,
          19464.51963365396,
          56354.14830969684,
          103423.13460066436,
          160017.34834273116,
          224744.34623070218,
          295829.16333727946,
          371479.72560047003,
          450151.7438270392,
          530671.8767872488,
          612239.8622543443,
          694360.0865901139,
          776751.5521309363,
          859267.4933205824,
          941836.9359691419,
          1024427.9664171682,
          1107027.1924586303,
          1189629.3521630643,
          1272232.5040440653,
          1354835.9735921603,
          1437439.539607918,
          1520043.1334596844,
          1602646.7349569649,
          1685250.3384564563,
          1767853.9424566964,
          1850457.5465767207,
          1933061.1507241935,
          2015664.754877703
         ],
         "yaxis": "y"
        },
        {
         "name": "EUA Jun24 75C",
         "type": "scatter",
         "x": [
          30,
          31,
          32,
          33,
          34,
          35,
          36,
          37,
          38,
          39,
          40,
          41,
          42,
          43,
          44,
          45,
          46,
          47,
          48,
          49,
          50,
          51,
          52,
          53,
          54,
          55,
          56,
          57,
          58,
          59,
          60,
          61,
          62,
          63,
          64,
          65,
          66,
          67,
          68,
          69,
          70,
          71,
          72,
          73,
          74,
          75,
          76,
          77,
          78,
          79,
          80,
          81,
          82,
          83,
          84,
          85,
          86,
          87,
          88,
          89,
          90,
          91,
          92,
          93,
          94,
          95,
          96,
          97,
          98,
          99,
          100
         ],
         "xaxis": "x2",
         "y": [
          4.976194818229001e-97,
          4.982298988455647e-90,
          1.7119302672492527e-83,
          2.192983609490792e-77,
          1.1282195280225377e-71,
          2.4927821765068194e-66,
          2.5132213200831497e-61,
          1.2214913811825725e-56,
          3.0084482502197195e-52,
          3.92948331921841e-48,
          2.837269561799785e-44,
          1.1763553837612342e-40,
          2.8998858415224874e-37,
          4.38866070735758e-34,
          4.199457531308392e-31,
          2.6107914201896664e-28,
          1.0813831752654077e-25,
          3.0543202969663563e-23,
          6.010914322693027e-21,
          8.409165780117319e-19,
          8.519998148737891e-17,
          6.361134018473173e-15,
          3.556864776845164e-13,
          1.512189051094521e-11,
          4.957895630518206e-10,
          1.2702882781265579e-08,
          2.57530758667827e-07,
          4.179875943451607e-06,
          5.491559503157668e-05,
          0.0005901294480904702,
          0.005238347539982323,
          0.038769539101542794,
          0.24137367273223165,
          1.2748731227534866,
          5.7588983562172675,
          22.422776631994868,
          75.82046854424375,
          224.29111336696477,
          584.6369278057266,
          1352.3758566326119,
          2795.990981196026,
          5203.921380018145,
          8783.992693086599,
          13550.407833079018,
          19257.890830957516,
          25430.359371640283,
          31483.179572452584,
          36885.54118565878,
          41290.10355042747,
          44581.72264991097,
          46843.92155123603,
          48278.18558438349,
          49119.59378012589,
          49577.639308595484,
          49809.659420629265,
          49919.30652583967,
          49967.769951126254,
          49987.85260753044,
          49995.672833081444,
          49998.54075860455,
          49999.53338736563,
          49999.85829405123,
          49999.95906375641,
          49999.988733491984,
          49999.9970413719,
          49999.99925757383,
          49999.99982171977,
          49999.99995897507,
          49999.99999094106,
          49999.999998077954,
          49999.99999960766
         ],
         "yaxis": "y2"
        },
        {
         "mode": "lines",
         "name": "Total_PnL",
         "type": "scatter",
         "x": [
          30,
          31,
          32,
          33,
          34,
          35,
          36,
          37,
          38,
          39,
          40,
          41,
          42,
          43,
          44,
          45,
          46,
          47,
          48,
          49,
          50,
          51,
          52,
          53,
          54,
          55,
          56,
          57,
          58,
          59,
          60,
          61,
          62,
          63,
          64,
          65,
          66,
          67,
          68,
          69,
          70,
          71,
          72,
          73,
          74,
          75,
          76,
          77,
          78,
          79,
          80,
          81,
          82,
          83,
          84,
          85,
          86,
          87,
          88,
          89,
          90,
          91,
          92,
          93,
          94,
          95,
          96,
          97,
          98,
          99,
          100
         ],
         "xaxis": "x",
         "y": [
          -596898.6202474982,
          -596898.1856047289,
          -596893.8832429567,
          -596862.952200634,
          -596696.7344927657,
          -596011.166147902,
          -593786.5897838825,
          -587972.8926234159,
          -575455.3498435231,
          -552747.3884106601,
          -517247.6454970794,
          -468310.6144012692,
          -407422.8969791185,
          -337470.28532654286,
          -261726.3821232856,
          -183242.96631965443,
          -104873.91428590444,
          -29642.45060102587,
          39093.91709446516,
          98057.74208453496,
          144921.5231716608,
          179070.60841402735,
          201725.14675298677,
          215354.86675232413,
          222781.0841081759,
          226445.45851760535,
          228076.99155857856,
          228695.0291888623,
          228746.3646631965,
          228193.11327218002,
          226466.34432079017,
          222326.90177018265,
          213794.40663693484,
          198344.96895996042,
          173459.51167778144,
          137363.1122656542,
          89614.83094395019,
          31262.47702120743,
          -35458.62658879642,
          -107647.106142959,
          -182188.87851450886,
          -256007.63091824768,
          -326177.7272251709,
          -390051.8138793742,
          -445490.53911053506,
          -491146.16515024495,
          -526661.7354935298,
          -552665.3545753511,
          -570540.3337641729,
          -582058.6929621341,
          -589011.6296649305,
          -592943.1913569993,
          -595026.6573063729,
          -596062.2749255624,
          -596545.6545394211,
          -596757.7931163531,
          -596845.456075378,
          -596879.6175808694,
          -596892.1912877852,
          -596896.5694014023,
          -596898.0138520666,
          -596898.4661261686,
          -596898.6007331775,
          -596898.6388725217,
          -596898.6491758595,
          -596898.6518336823,
          -596898.6524892936,
          -596898.6526441562,
          -596898.6526792352,
          -596898.6526868651,
          -596898.6526884597
         ],
         "yaxis": "y"
        },
        {
         "mode": "lines",
         "name": "Total_Delta",
         "type": "scatter",
         "x": [
          30,
          31,
          32,
          33,
          34,
          35,
          36,
          37,
          38,
          39,
          40,
          41,
          42,
          43,
          44,
          45,
          46,
          47,
          48,
          49,
          50,
          51,
          52,
          53,
          54,
          55,
          56,
          57,
          58,
          59,
          60,
          61,
          62,
          63,
          64,
          65,
          66,
          67,
          68,
          69,
          70,
          71,
          72,
          73,
          74,
          75,
          76,
          77,
          78,
          79,
          80,
          81,
          82,
          83,
          84,
          85,
          86,
          87,
          88,
          89,
          90,
          91,
          92,
          93,
          94,
          95,
          96,
          97,
          98,
          99,
          100
         ],
         "xaxis": "x2",
         "y": [
          0.055978455260628834,
          0.7038494997032103,
          6.244303681633028,
          40.36589253687998,
          195.81045254205674,
          732.3789039985058,
          2166.4857670538768,
          5192.99621646561,
          10326.445503438248,
          17438.288164449717,
          25604.630177445917,
          33480.127653923075,
          39928.15440331728,
          44419.79626410165,
          46968.70039858204,
          47760.0900351332,
          46810.86847335918,
          43921.32442644797,
          38950.62319877469,
          32187.636437322202,
          24482.374021848726,
          16988.219358434813,
          10696.382874664872,
          6096.107711676117,
          3143.6228378913224,
          1466.5372453404404,
          609.7693423473172,
          182.4870447991309,
          -123.6357554991921,
          -601.8725762369959,
          -1612.5168173755208,
          -3600.3219017392207,
          -6989.519300200068,
          -11975.734678199215,
          -18336.106162777218,
          -25408.300176751476,
          -32286.66845239697,
          -38123.5043647891,
          -42351.6470311584,
          -44723.23495313318,
          -45205.87795078743,
          -43862.88137726795,
          -40815.62758698092,
          -36291.48504055102,
          -30684.51742679885,
          -24550.24432392374,
          -18510.76578880657,
          -13112.70272942989,
          -8709.422022552448,
          -5418.157668237283,
          -3156.0501887454593,
          -1721.8081548329574,
          -880.4049155158136,
          -422.36043528204027,
          -190.34053186772508,
          -80.69346582110302,
          -32.23004748526728,
          -12.147392249869881,
          -4.3271668854577,
          -1.4592413906939328,
          -0.46661263371788664,
          -0.14170594869210618,
          -0.0409362435748335,
          -0.011266508015978616,
          -0.002958628101623617,
          -0.0007424261712003499,
          -0.0001782802282832563,
          -4.1024926758836955e-05,
          -9.058938303496689e-06,
          -1.9220460671931505e-06,
          -3.923414624296129e-07
         ],
         "yaxis": "y2"
        }
       ],
       "layout": {
        "barmode": "stack",
        "template": {
         "data": {
          "bar": [
           {
            "error_x": {
             "color": "#2a3f5f"
            },
            "error_y": {
             "color": "#2a3f5f"
            },
            "marker": {
             "line": {
              "color": "#E5ECF6",
              "width": 0.5
             },
             "pattern": {
              "fillmode": "overlay",
              "size": 10,
              "solidity": 0.2
             }
            },
            "type": "bar"
           }
          ],
          "barpolar": [
           {
            "marker": {
             "line": {
              "color": "#E5ECF6",
              "width": 0.5
             },
             "pattern": {
              "fillmode": "overlay",
              "size": 10,
              "solidity": 0.2
             }
            },
            "type": "barpolar"
           }
          ],
          "carpet": [
           {
            "aaxis": {
             "endlinecolor": "#2a3f5f",
             "gridcolor": "white",
             "linecolor": "white",
             "minorgridcolor": "white",
             "startlinecolor": "#2a3f5f"
            },
            "baxis": {
             "endlinecolor": "#2a3f5f",
             "gridcolor": "white",
             "linecolor": "white",
             "minorgridcolor": "white",
             "startlinecolor": "#2a3f5f"
            },
            "type": "carpet"
           }
          ],
          "choropleth": [
           {
            "colorbar": {
             "outlinewidth": 0,
             "ticks": ""
            },
            "type": "choropleth"
           }
          ],
          "contour": [
           {
            "colorbar": {
             "outlinewidth": 0,
             "ticks": ""
            },
            "colorscale": [
             [
              0,
              "#0d0887"
             ],
             [
              0.1111111111111111,
              "#46039f"
             ],
             [
              0.2222222222222222,
              "#7201a8"
             ],
             [
              0.3333333333333333,
              "#9c179e"
             ],
             [
              0.4444444444444444,
              "#bd3786"
             ],
             [
              0.5555555555555556,
              "#d8576b"
             ],
             [
              0.6666666666666666,
              "#ed7953"
             ],
             [
              0.7777777777777778,
              "#fb9f3a"
             ],
             [
              0.8888888888888888,
              "#fdca26"
             ],
             [
              1,
              "#f0f921"
             ]
            ],
            "type": "contour"
           }
          ],
          "contourcarpet": [
           {
            "colorbar": {
             "outlinewidth": 0,
             "ticks": ""
            },
            "type": "contourcarpet"
           }
          ],
          "heatmap": [
           {
            "colorbar": {
             "outlinewidth": 0,
             "ticks": ""
            },
            "colorscale": [
             [
              0,
              "#0d0887"
             ],
             [
              0.1111111111111111,
              "#46039f"
             ],
             [
              0.2222222222222222,
              "#7201a8"
             ],
             [
              0.3333333333333333,
              "#9c179e"
             ],
             [
              0.4444444444444444,
              "#bd3786"
             ],
             [
              0.5555555555555556,
              "#d8576b"
             ],
             [
              0.6666666666666666,
              "#ed7953"
             ],
             [
              0.7777777777777778,
              "#fb9f3a"
             ],
             [
              0.8888888888888888,
              "#fdca26"
             ],
             [
              1,
              "#f0f921"
             ]
            ],
            "type": "heatmap"
           }
          ],
          "heatmapgl": [
           {
            "colorbar": {
             "outlinewidth": 0,
             "ticks": ""
            },
            "colorscale": [
             [
              0,
              "#0d0887"
             ],
             [
              0.1111111111111111,
              "#46039f"
             ],
             [
              0.2222222222222222,
              "#7201a8"
             ],
             [
              0.3333333333333333,
              "#9c179e"
             ],
             [
              0.4444444444444444,
              "#bd3786"
             ],
             [
              0.5555555555555556,
              "#d8576b"
             ],
             [
              0.6666666666666666,
              "#ed7953"
             ],
             [
              0.7777777777777778,
              "#fb9f3a"
             ],
             [
              0.8888888888888888,
              "#fdca26"
             ],
             [
              1,
              "#f0f921"
             ]
            ],
            "type": "heatmapgl"
           }
          ],
          "histogram": [
           {
            "marker": {
             "pattern": {
              "fillmode": "overlay",
              "size": 10,
              "solidity": 0.2
             }
            },
            "type": "histogram"
           }
          ],
          "histogram2d": [
           {
            "colorbar": {
             "outlinewidth": 0,
             "ticks": ""
            },
            "colorscale": [
             [
              0,
              "#0d0887"
             ],
             [
              0.1111111111111111,
              "#46039f"
             ],
             [
              0.2222222222222222,
              "#7201a8"
             ],
             [
              0.3333333333333333,
              "#9c179e"
             ],
             [
              0.4444444444444444,
              "#bd3786"
             ],
             [
              0.5555555555555556,
              "#d8576b"
             ],
             [
              0.6666666666666666,
              "#ed7953"
             ],
             [
              0.7777777777777778,
              "#fb9f3a"
             ],
             [
              0.8888888888888888,
              "#fdca26"
             ],
             [
              1,
              "#f0f921"
             ]
            ],
            "type": "histogram2d"
           }
          ],
          "histogram2dcontour": [
           {
            "colorbar": {
             "outlinewidth": 0,
             "ticks": ""
            },
            "colorscale": [
             [
              0,
              "#0d0887"
             ],
             [
              0.1111111111111111,
              "#46039f"
             ],
             [
              0.2222222222222222,
              "#7201a8"
             ],
             [
              0.3333333333333333,
              "#9c179e"
             ],
             [
              0.4444444444444444,
              "#bd3786"
             ],
             [
              0.5555555555555556,
              "#d8576b"
             ],
             [
              0.6666666666666666,
              "#ed7953"
             ],
             [
              0.7777777777777778,
              "#fb9f3a"
             ],
             [
              0.8888888888888888,
              "#fdca26"
             ],
             [
              1,
              "#f0f921"
             ]
            ],
            "type": "histogram2dcontour"
           }
          ],
          "mesh3d": [
           {
            "colorbar": {
             "outlinewidth": 0,
             "ticks": ""
            },
            "type": "mesh3d"
           }
          ],
          "parcoords": [
           {
            "line": {
             "colorbar": {
              "outlinewidth": 0,
              "ticks": ""
             }
            },
            "type": "parcoords"
           }
          ],
          "pie": [
           {
            "automargin": true,
            "type": "pie"
           }
          ],
          "scatter": [
           {
            "fillpattern": {
             "fillmode": "overlay",
             "size": 10,
             "solidity": 0.2
            },
            "type": "scatter"
           }
          ],
          "scatter3d": [
           {
            "line": {
             "colorbar": {
              "outlinewidth": 0,
              "ticks": ""
             }
            },
            "marker": {
             "colorbar": {
              "outlinewidth": 0,
              "ticks": ""
             }
            },
            "type": "scatter3d"
           }
          ],
          "scattercarpet": [
           {
            "marker": {
             "colorbar": {
              "outlinewidth": 0,
              "ticks": ""
             }
            },
            "type": "scattercarpet"
           }
          ],
          "scattergeo": [
           {
            "marker": {
             "colorbar": {
              "outlinewidth": 0,
              "ticks": ""
             }
            },
            "type": "scattergeo"
           }
          ],
          "scattergl": [
           {
            "marker": {
             "colorbar": {
              "outlinewidth": 0,
              "ticks": ""
             }
            },
            "type": "scattergl"
           }
          ],
          "scattermapbox": [
           {
            "marker": {
             "colorbar": {
              "outlinewidth": 0,
              "ticks": ""
             }
            },
            "type": "scattermapbox"
           }
          ],
          "scatterpolar": [
           {
            "marker": {
             "colorbar": {
              "outlinewidth": 0,
              "ticks": ""
             }
            },
            "type": "scatterpolar"
           }
          ],
          "scatterpolargl": [
           {
            "marker": {
             "colorbar": {
              "outlinewidth": 0,
              "ticks": ""
             }
            },
            "type": "scatterpolargl"
           }
          ],
          "scatterternary": [
           {
            "marker": {
             "colorbar": {
              "outlinewidth": 0,
              "ticks": ""
             }
            },
            "type": "scatterternary"
           }
          ],
          "surface": [
           {
            "colorbar": {
             "outlinewidth": 0,
             "ticks": ""
            },
            "colorscale": [
             [
              0,
              "#0d0887"
             ],
             [
              0.1111111111111111,
              "#46039f"
             ],
             [
              0.2222222222222222,
              "#7201a8"
             ],
             [
              0.3333333333333333,
              "#9c179e"
             ],
             [
              0.4444444444444444,
              "#bd3786"
             ],
             [
              0.5555555555555556,
              "#d8576b"
             ],
             [
              0.6666666666666666,
              "#ed7953"
             ],
             [
              0.7777777777777778,
              "#fb9f3a"
             ],
             [
              0.8888888888888888,
              "#fdca26"
             ],
             [
              1,
              "#f0f921"
             ]
            ],
            "type": "surface"
           }
          ],
          "table": [
           {
            "cells": {
             "fill": {
              "color": "#EBF0F8"
             },
             "line": {
              "color": "white"
             }
            },
            "header": {
             "fill": {
              "color": "#C8D4E3"
             },
             "line": {
              "color": "white"
             }
            },
            "type": "table"
           }
          ]
         },
         "layout": {
          "annotationdefaults": {
           "arrowcolor": "#2a3f5f",
           "arrowhead": 0,
           "arrowwidth": 1
          },
          "autotypenumbers": "strict",
          "coloraxis": {
           "colorbar": {
            "outlinewidth": 0,
            "ticks": ""
           }
          },
          "colorscale": {
           "diverging": [
            [
             0,
             "#8e0152"
            ],
            [
             0.1,
             "#c51b7d"
            ],
            [
             0.2,
             "#de77ae"
            ],
            [
             0.3,
             "#f1b6da"
            ],
            [
             0.4,
             "#fde0ef"
            ],
            [
             0.5,
             "#f7f7f7"
            ],
            [
             0.6,
             "#e6f5d0"
            ],
            [
             0.7,
             "#b8e186"
            ],
            [
             0.8,
             "#7fbc41"
            ],
            [
             0.9,
             "#4d9221"
            ],
            [
             1,
             "#276419"
            ]
           ],
           "sequential": [
            [
             0,
             "#0d0887"
            ],
            [
             0.1111111111111111,
             "#46039f"
            ],
            [
             0.2222222222222222,
             "#7201a8"
            ],
            [
             0.3333333333333333,
             "#9c179e"
            ],
            [
             0.4444444444444444,
             "#bd3786"
            ],
            [
             0.5555555555555556,
             "#d8576b"
            ],
            [
             0.6666666666666666,
             "#ed7953"
            ],
            [
             0.7777777777777778,
             "#fb9f3a"
            ],
            [
             0.8888888888888888,
             "#fdca26"
            ],
            [
             1,
             "#f0f921"
            ]
           ],
           "sequentialminus": [
            [
             0,
             "#0d0887"
            ],
            [
             0.1111111111111111,
             "#46039f"
            ],
            [
             0.2222222222222222,
             "#7201a8"
            ],
            [
             0.3333333333333333,
             "#9c179e"
            ],
            [
             0.4444444444444444,
             "#bd3786"
            ],
            [
             0.5555555555555556,
             "#d8576b"
            ],
            [
             0.6666666666666666,
             "#ed7953"
            ],
            [
             0.7777777777777778,
             "#fb9f3a"
            ],
            [
             0.8888888888888888,
             "#fdca26"
            ],
            [
             1,
             "#f0f921"
            ]
           ]
          },
          "colorway": [
           "#636efa",
           "#EF553B",
           "#00cc96",
           "#ab63fa",
           "#FFA15A",
           "#19d3f3",
           "#FF6692",
           "#B6E880",
           "#FF97FF",
           "#FECB52"
          ],
          "font": {
           "color": "#2a3f5f"
          },
          "geo": {
           "bgcolor": "white",
           "lakecolor": "white",
           "landcolor": "#E5ECF6",
           "showlakes": true,
           "showland": true,
           "subunitcolor": "white"
          },
          "hoverlabel": {
           "align": "left"
          },
          "hovermode": "closest",
          "mapbox": {
           "style": "light"
          },
          "paper_bgcolor": "white",
          "plot_bgcolor": "#E5ECF6",
          "polar": {
           "angularaxis": {
            "gridcolor": "white",
            "linecolor": "white",
            "ticks": ""
           },
           "bgcolor": "#E5ECF6",
           "radialaxis": {
            "gridcolor": "white",
            "linecolor": "white",
            "ticks": ""
           }
          },
          "scene": {
           "xaxis": {
            "backgroundcolor": "#E5ECF6",
            "gridcolor": "white",
            "gridwidth": 2,
            "linecolor": "white",
            "showbackground": true,
            "ticks": "",
            "zerolinecolor": "white"
           },
           "yaxis": {
            "backgroundcolor": "#E5ECF6",
            "gridcolor": "white",
            "gridwidth": 2,
            "linecolor": "white",
            "showbackground": true,
            "ticks": "",
            "zerolinecolor": "white"
           },
           "zaxis": {
            "backgroundcolor": "#E5ECF6",
            "gridcolor": "white",
            "gridwidth": 2,
            "linecolor": "white",
            "showbackground": true,
            "ticks": "",
            "zerolinecolor": "white"
           }
          },
          "shapedefaults": {
           "line": {
            "color": "#2a3f5f"
           }
          },
          "ternary": {
           "aaxis": {
            "gridcolor": "white",
            "linecolor": "white",
            "ticks": ""
           },
           "baxis": {
            "gridcolor": "white",
            "linecolor": "white",
            "ticks": ""
           },
           "bgcolor": "#E5ECF6",
           "caxis": {
            "gridcolor": "white",
            "linecolor": "white",
            "ticks": ""
           }
          },
          "title": {
           "x": 0.05
          },
          "xaxis": {
           "automargin": true,
           "gridcolor": "white",
           "linecolor": "white",
           "ticks": "",
           "title": {
            "standoff": 15
           },
           "zerolinecolor": "white",
           "zerolinewidth": 2
          },
          "yaxis": {
           "automargin": true,
           "gridcolor": "white",
           "linecolor": "white",
           "ticks": "",
           "title": {
            "standoff": 15
           },
           "zerolinecolor": "white",
           "zerolinewidth": 2
          }
         }
        },
        "title": {
         "text": "Todays Option Pos (PnL and Delta)",
         "x": 0.5,
         "xanchor": "center"
        },
        "xaxis": {
         "anchor": "y",
         "domain": [
          0,
          0.45
         ],
         "title": {
          "text": "Price"
         }
        },
        "xaxis2": {
         "anchor": "y2",
         "domain": [
          0.55,
          1
         ],
         "title": {
          "text": "Price"
         }
        },
        "yaxis": {
         "anchor": "x",
         "domain": [
          0,
          1
         ],
         "title": {
          "text": "Pnl"
         }
        },
        "yaxis2": {
         "anchor": "x2",
         "domain": [
          0,
          1
         ],
         "title": {
          "text": "Delta"
         }
        }
       }
      },
      "text/html": [
       "<div>                            <div id=\"004b0504-1809-45e7-a7ad-35b51c7794be\" class=\"plotly-graph-div\" style=\"height:525px; width:100%;\"></div>            <script type=\"text/javascript\">                require([\"plotly\"], function(Plotly) {                    window.PLOTLYENV=window.PLOTLYENV || {};                                    if (document.getElementById(\"004b0504-1809-45e7-a7ad-35b51c7794be\")) {                    Plotly.newPlot(                        \"004b0504-1809-45e7-a7ad-35b51c7794be\",                        [{\"name\":\"EUA Jun24 40P\",\"x\":[30,31,32,33,34,35,36,37,38,39,40,41,42,43,44,45,46,47,48,49,50,51,52,53,54,55,56,57,58,59,60,61,62,63,64,65,66,67,68,69,70,71,72,73,74,75,76,77,78,79,80,81,82,83,84,85,86,87,88,89,90,91,92,93,94,95,96,97,98,99,100],\"y\":[800902.0916148059,718298.9221024719,635699.6203091413,553126.9471963601,470689.56074912613,388771.5249389239,308392.49714955845,231602.59020991114,161516.53006321876,101620.90701482492,54517.27712925135,20852.746777380842,-849.3168425407919,-13427.225193215354,-19979.518222337465,-23053.151493952097,-24355.56966621802,-24856.056502002186,-25031.228655150277,-25087.324847410757,-25103.83594669636,-25108.322796908637,-25109.453432991246,-25109.718735233837,-25109.776937081708,-25109.78892012874,-25109.79124395839,-25109.791669886235,-25109.791743909285,-25109.791756145096,-25109.791758074276,-25109.791758365416,-25109.79175840716,-25109.7917584132,-25109.791758413892,-25109.791758414107,-25109.791758413856,-25109.791758414038,-25109.791758414038,-25109.791758414038,-25109.791758414038,-25109.791758414038,-25109.791758414038,-25109.791758414038,-25109.791758414038,-25109.791758414038,-25109.791758414038,-25109.791758414038,-25109.791758414038,-25109.791758414038,-25109.791758414038,-25109.791758414038,-25109.791758414038,-25109.791758414038,-25109.791758414038,-25109.791758414038,-25109.791758414038,-25109.791758414038,-25109.791758414038,-25109.791758414038,-25109.791758414038,-25109.791758414038,-25109.791758414038,-25109.791758414038,-25109.791758414038,-25109.791758414038,-25109.791758414038,-25109.791758414038,-25109.791758414038,-25109.791758414038,-25109.791758414038],\"type\":\"scatter\",\"xaxis\":\"x\",\"yaxis\":\"y\"},{\"name\":\"EUA Jun24 40P\",\"x\":[30,31,32,33,34,35,36,37,38,39,40,41,42,43,44,45,46,47,48,49,50,51,52,53,54,55,56,57,58,59,60,61,62,63,64,65,66,67,68,69,70,71,72,73,74,75,76,77,78,79,80,81,82,83,84,85,86,87,88,89,90,91,92,93,94,95,96,97,98,99,100],\"y\":[-49999.94402154474,-49999.2961505003,-49993.75569631837,-49959.634107463105,-49804.18954745655,-49267.621095910625,-47833.51422905366,-44807.00367041782,-39673.552200348175,-32561.67839574768,-24395.01179661947,-16516.98977987096,-10054.022942431107,-5493.901637193555,-2697.888752306621,-1193.8839566233096,-477.88815185169085,-173.77696543522947,-57.67030409895013,-17.54819202123281,-4.918580430546271,-1.2756458964202633,-0.30745971795198557,-0.06915395754925058,-0.01457245062952417,-0.0028877684521422253,-0.0005400651204023887,-9.563970171377889e-05,-1.608832511656999e-05,-2.578443014655818e-06,-3.9481751201719817e-07,-5.791478407957129e-08,-8.1601392309949e-09,-1.1046719095020308e-09,-1.4432899320127035e-10,-1.6653345369377348e-11,0.0,0.0,0.0,0.0,0.0,0.0,0.0,0.0,0.0,0.0,0.0,0.0,0.0,0.0,0.0,0.0,0.0,0.0,0.0,0.0,0.0,0.0,0.0,0.0,0.0,0.0,0.0,0.0,0.0,0.0,0.0,0.0,0.0,0.0,0.0],\"type\":\"scatter\",\"xaxis\":\"x2\",\"yaxis\":\"y2\"},{\"name\":\"EUA Jun24 50P\",\"x\":[30,31,32,33,34,35,36,37,38,39,40,41,42,43,44,45,46,47,48,49,50,51,52,53,54,55,56,57,58,59,60,61,62,63,64,65,66,67,68,69,70,71,72,73,74,75,76,77,78,79,80,81,82,83,84,85,86,87,88,89,90,91,92,93,94,95,96,97,98,99,100],\"y\":[-1541479.393020328,-1458875.7888652247,-1376272.184710122,-1293668.580555018,-1211064.9763999158,-1128461.3722448498,-1045857.7680914648,-963254.1639913509,-880650.5610647658,-798046.9765835089,-715443.6037843546,-632842.0423366738,-550252.2612946016,-467721.7412913514,-385425.545058972,-303868.4959837262,-224197.0257777101,-148465.07525704708,-79553.5354083885,-20533.61422545835,26346.67797475725,60500.25030943723,83155.92257020508,96785.94287220041,104212.51499789189,107878.92566868105,109521.72584712716,110191.46144677784,110440.6348747189,110525.5162753558,110552.08271355016,110559.74897174077,110561.79577067302,110562.30310556751,110562.42024138945,110562.44551465976,110562.45062629956,110562.45159833715,110562.45177262726,110562.45180217462,110562.45180692308,110562.4518076485,110562.45180775391,110562.45180776862,110562.4518077705,110562.45180777075,110562.45180777076,110562.45180777075,110562.45180777075,110562.45180777075,110562.45180777075,110562.45180777075,110562.45180777075,110562.45180777075,110562.45180777075,110562.45180777075,110562.45180777075,110562.45180777075,110562.45180777075,110562.45180777075,110562.45180777075,110562.45180777075,110562.45180777075,110562.45180777075,110562.45180777075,110562.45180777075,110562.45180777075,110562.45180777075,110562.45180777075,110562.45180777075,110562.45180777075],\"type\":\"scatter\",\"xaxis\":\"x\",\"yaxis\":\"y\"},{\"name\":\"EUA Jun24 50P\",\"x\":[30,31,32,33,34,35,36,37,38,39,40,41,42,43,44,45,46,47,48,49,50,51,52,53,54,55,56,57,58,59,60,61,62,63,64,65,66,67,68,69,70,71,72,73,74,75,76,77,78,79,80,81,82,83,84,85,86,87,88,89,90,91,92,93,94,95,96,97,98,99,100],\"y\":[50000.0,50000.0,50000.0,49999.999999999985,49999.99999999861,49999.99999990913,49999.99999610754,49999.99988688343,49999.99770378642,49999.9665601974,49999.64197406539,49997.11743379404,49982.17734574839,49913.69790129521,49666.58915088866,48953.97399175651,47288.756625210895,44095.10139188433,39008.293502917055,32205.184630576838,24487.292628559066,16989.495431225467,10696.695702752451,6096.229884649712,3144.0542576633256,1469.1828887485326,623.4466581758136,240.94570418423112,85.08634603345277,27.550787812319342,8.209002529152576,2.258805651933482,0.5760064567039702,0.13659246745345577,0.030221883218217727,0.006258987245155723,0.001217059231173323,0.00022285662204524215,3.853633523398514e-05,6.309802680348753e-06,9.807932244143558e-07,1.4508394485801546e-07,2.0472512574087887e-08,2.758904216193514e-09,3.552713678800501e-10,4.440892098500626e-11,5.551115123125783e-12,-0.0,-0.0,-0.0,-0.0,-0.0,-0.0,-0.0,-0.0,-0.0,-0.0,-0.0,-0.0,-0.0,-0.0,-0.0,-0.0,-0.0,-0.0,-0.0,-0.0,-0.0,-0.0,-0.0,-0.0],\"type\":\"scatter\",\"xaxis\":\"x2\",\"yaxis\":\"y2\"},{\"name\":\"EUA Jun24 65C\",\"x\":[30,31,32,33,34,35,36,37,38,39,40,41,42,43,44,45,46,47,48,49,50,51,52,53,54,55,56,57,58,59,60,61,62,63,64,65,66,67,68,69,70,71,72,73,74,75,76,77,78,79,80,81,82,83,84,85,86,87,88,89,90,91,92,93,94,95,96,97,98,99,100],\"y\":[193149.3875692416,193149.3875692416,193149.3875692416,193149.3875692416,193149.3875692416,193149.3875692416,193149.3875692416,193149.3875692416,193149.3875692416,193149.3875692416,193149.3875692416,193149.3875692416,193149.3875692416,193149.3875692416,193149.3875692416,193149.3875692416,193149.3875692414,193149.3875692411,193149.38756922167,193149.38756862178,193149.38755481763,193149.38731271648,193149.38402699065,193149.34902657545,193149.05245858314,193147.02818026402,193135.76336648446,193084.0658206823,192886.2279080446,192248.0947506372,190494.75579484174,186347.61892428942,177812.89150242019,162361.90735686183,137471.35965987528,101354.44388561921,53532.9335223099,-5047.9964211790375,-72396.79192176004,-146112.20212559623,-223967.20357351334,-304243.56616234523,-385799.70714387915,-467969.6238948069,-550407.7187935455,-632952.9735092985,-715537.530143551,-798135.362967439,-880737.3400442319,-963340.5163487704,-1045944.0153147574,-1128547.5952333952,-1211151.1941429784,-1293754.7972292635,-1376358.4011788918,-1458962.0052966462,-1541565.6094453172,-1624169.213599368,-1706772.81775431,-1789376.4219093893,-1871980.0260644876,-1954583.6302195906,-2037187.2343746945,-2119790.8385297963,-2202394.4426849005,-2284998.0468400037,-2367601.6509951064,-2450205.255150209,-2532808.8593053124,-2615412.463460415,-2698016.0676155193],\"type\":\"scatter\",\"xaxis\":\"x\",\"yaxis\":\"y\"},{\"name\":\"EUA Jun24 65C\",\"x\":[30,31,32,33,34,35,36,37,38,39,40,41,42,43,44,45,46,47,48,49,50,51,52,53,54,55,56,57,58,59,60,61,62,63,64,65,66,67,68,69,70,71,72,73,74,75,76,77,78,79,80,81,82,83,84,85,86,87,88,89,90,91,92,93,94,95,96,97,98,99,100],\"y\":[-3.212344561844447e-68,-2.444533263583676e-62,-6.938834613237677e-57,-7.94041055881529e-52,-3.92792288632052e-47,-8.943978010854617e-43,-9.921766682723741e-39,-5.644907332174629e-35,-1.7258455933842824e-31,-2.958528416272168e-28,-2.9560806997643976e-25,-1.7837117747061374e-22,-6.71458085710173e-20,-1.6246822135240003e-17,-2.5972420235087184e-15,-2.8136114978795967e-13,-2.1144782800269405e-11,-1.1265695975726125e-09,-4.3418914701484535e-08,-1.2334021438520897e-06,-2.6279795008725125e-05,-0.00042689423373751923,-0.005368369627207015,-0.05301901606137811,-0.41684732186909035,-2.6427556523429474,-13.676776020906805,-58.45856792527441,-208.7221403599148,-629.4239516003204,-1620.7310578573959,-3602.619476872341,-6990.336680321344,-11977.146143788317,-18341.895283016507,-25430.7292123707,-32362.490138000445,-38347.795701012685,-42936.28399750046,-46075.6108160756,-48001.868932964244,-49066.80275743118,-49599.62028008799,-49841.892873632794,-49942.408257756724,-49980.60369556407,-49993.94536125916,-49998.24391508867,-49999.52557297992,-49999.88031814825,-49999.97173998149,-49999.99373921645,-49999.998695641705,-49999.999743877524,-49999.99995249699,-49999.99999166077,-49999.99999861152,-49999.99999978031,-49999.9999999669,-49999.99999999524,-49999.999999999345,-49999.99999999992,-49999.999999999985,-50000.0,-50000.0,-50000.0,-50000.0,-50000.0,-50000.0,-50000.0,-50000.0],\"type\":\"scatter\",\"xaxis\":\"x2\",\"yaxis\":\"y2\"},{\"name\":\"EUA Jun24 75C\",\"x\":[30,31,32,33,34,35,36,37,38,39,40,41,42,43,44,45,46,47,48,49,50,51,52,53,54,55,56,57,58,59,60,61,62,63,64,65,66,67,68,69,70,71,72,73,74,75,76,77,78,79,80,81,82,83,84,85,86,87,88,89,90,91,92,93,94,95,96,97,98,99,100],\"y\":[-49470.706411217725,-49470.706411217725,-49470.706411217725,-49470.706411217725,-49470.706411217725,-49470.706411217725,-49470.706411217725,-49470.706411217725,-49470.706411217725,-49470.706411217725,-49470.706411217725,-49470.706411217725,-49470.706411217725,-49470.706411217725,-49470.706411217725,-49470.706411217725,-49470.706411217725,-49470.706411217725,-49470.706411217725,-49470.706411217725,-49470.706411217725,-49470.706411217725,-49470.706411217725,-49470.706411217885,-49470.70641121743,-49470.706411211024,-49470.706411074665,-49470.70640871162,-49470.7063756577,-49470.70599766787,-49470.702429527446,-49470.67436748213,-49470.48887775124,-49469.449744055724,-49464.4764650694,-49443.98537621065,-49370.76144624542,-49142.18639753665,-48514.4946812496,-46987.564061123354,-43674.334989504576,-37216.72480513692,-25830.68013063163,-7534.850033921913,19464.51963365396,56354.14830969684,103423.13460066436,160017.34834273116,224744.34623070218,295829.16333727946,371479.72560047003,450151.7438270392,530671.8767872488,612239.8622543443,694360.0865901139,776751.5521309363,859267.4933205824,941836.9359691419,1024427.9664171682,1107027.1924586303,1189629.3521630643,1272232.5040440653,1354835.9735921603,1437439.539607918,1520043.1334596844,1602646.7349569649,1685250.3384564563,1767853.9424566964,1850457.5465767207,1933061.1507241935,2015664.754877703],\"type\":\"scatter\",\"xaxis\":\"x\",\"yaxis\":\"y\"},{\"name\":\"EUA Jun24 75C\",\"x\":[30,31,32,33,34,35,36,37,38,39,40,41,42,43,44,45,46,47,48,49,50,51,52,53,54,55,56,57,58,59,60,61,62,63,64,65,66,67,68,69,70,71,72,73,74,75,76,77,78,79,80,81,82,83,84,85,86,87,88,89,90,91,92,93,94,95,96,97,98,99,100],\"y\":[4.976194818229001e-97,4.982298988455647e-90,1.7119302672492527e-83,2.192983609490792e-77,1.1282195280225377e-71,2.4927821765068194e-66,2.5132213200831497e-61,1.2214913811825725e-56,3.0084482502197195e-52,3.92948331921841e-48,2.837269561799785e-44,1.1763553837612342e-40,2.8998858415224874e-37,4.38866070735758e-34,4.199457531308392e-31,2.6107914201896664e-28,1.0813831752654077e-25,3.0543202969663563e-23,6.010914322693027e-21,8.409165780117319e-19,8.519998148737891e-17,6.361134018473173e-15,3.556864776845164e-13,1.512189051094521e-11,4.957895630518206e-10,1.2702882781265579e-08,2.57530758667827e-07,4.179875943451607e-06,5.491559503157668e-05,0.0005901294480904702,0.005238347539982323,0.038769539101542794,0.24137367273223165,1.2748731227534866,5.7588983562172675,22.422776631994868,75.82046854424375,224.29111336696477,584.6369278057266,1352.3758566326119,2795.990981196026,5203.921380018145,8783.992693086599,13550.407833079018,19257.890830957516,25430.359371640283,31483.179572452584,36885.54118565878,41290.10355042747,44581.72264991097,46843.92155123603,48278.18558438349,49119.59378012589,49577.639308595484,49809.659420629265,49919.30652583967,49967.769951126254,49987.85260753044,49995.672833081444,49998.54075860455,49999.53338736563,49999.85829405123,49999.95906375641,49999.988733491984,49999.9970413719,49999.99925757383,49999.99982171977,49999.99995897507,49999.99999094106,49999.999998077954,49999.99999960766],\"type\":\"scatter\",\"xaxis\":\"x2\",\"yaxis\":\"y2\"},{\"mode\":\"lines\",\"name\":\"Total_PnL\",\"x\":[30,31,32,33,34,35,36,37,38,39,40,41,42,43,44,45,46,47,48,49,50,51,52,53,54,55,56,57,58,59,60,61,62,63,64,65,66,67,68,69,70,71,72,73,74,75,76,77,78,79,80,81,82,83,84,85,86,87,88,89,90,91,92,93,94,95,96,97,98,99,100],\"y\":[-596898.6202474982,-596898.1856047289,-596893.8832429567,-596862.952200634,-596696.7344927657,-596011.166147902,-593786.5897838825,-587972.8926234159,-575455.3498435231,-552747.3884106601,-517247.6454970794,-468310.6144012692,-407422.8969791185,-337470.28532654286,-261726.3821232856,-183242.96631965443,-104873.91428590444,-29642.45060102587,39093.91709446516,98057.74208453496,144921.5231716608,179070.60841402735,201725.14675298677,215354.86675232413,222781.0841081759,226445.45851760535,228076.99155857856,228695.0291888623,228746.3646631965,228193.11327218002,226466.34432079017,222326.90177018265,213794.40663693484,198344.96895996042,173459.51167778144,137363.1122656542,89614.83094395019,31262.47702120743,-35458.62658879642,-107647.106142959,-182188.87851450886,-256007.63091824768,-326177.7272251709,-390051.8138793742,-445490.53911053506,-491146.16515024495,-526661.7354935298,-552665.3545753511,-570540.3337641729,-582058.6929621341,-589011.6296649305,-592943.1913569993,-595026.6573063729,-596062.2749255624,-596545.6545394211,-596757.7931163531,-596845.456075378,-596879.6175808694,-596892.1912877852,-596896.5694014023,-596898.0138520666,-596898.4661261686,-596898.6007331775,-596898.6388725217,-596898.6491758595,-596898.6518336823,-596898.6524892936,-596898.6526441562,-596898.6526792352,-596898.6526868651,-596898.6526884597],\"type\":\"scatter\",\"xaxis\":\"x\",\"yaxis\":\"y\"},{\"mode\":\"lines\",\"name\":\"Total_Delta\",\"x\":[30,31,32,33,34,35,36,37,38,39,40,41,42,43,44,45,46,47,48,49,50,51,52,53,54,55,56,57,58,59,60,61,62,63,64,65,66,67,68,69,70,71,72,73,74,75,76,77,78,79,80,81,82,83,84,85,86,87,88,89,90,91,92,93,94,95,96,97,98,99,100],\"y\":[0.055978455260628834,0.7038494997032103,6.244303681633028,40.36589253687998,195.81045254205674,732.3789039985058,2166.4857670538768,5192.99621646561,10326.445503438248,17438.288164449717,25604.630177445917,33480.127653923075,39928.15440331728,44419.79626410165,46968.70039858204,47760.0900351332,46810.86847335918,43921.32442644797,38950.62319877469,32187.636437322202,24482.374021848726,16988.219358434813,10696.382874664872,6096.107711676117,3143.6228378913224,1466.5372453404404,609.7693423473172,182.4870447991309,-123.6357554991921,-601.8725762369959,-1612.5168173755208,-3600.3219017392207,-6989.519300200068,-11975.734678199215,-18336.106162777218,-25408.300176751476,-32286.66845239697,-38123.5043647891,-42351.6470311584,-44723.23495313318,-45205.87795078743,-43862.88137726795,-40815.62758698092,-36291.48504055102,-30684.51742679885,-24550.24432392374,-18510.76578880657,-13112.70272942989,-8709.422022552448,-5418.157668237283,-3156.0501887454593,-1721.8081548329574,-880.4049155158136,-422.36043528204027,-190.34053186772508,-80.69346582110302,-32.23004748526728,-12.147392249869881,-4.3271668854577,-1.4592413906939328,-0.46661263371788664,-0.14170594869210618,-0.0409362435748335,-0.011266508015978616,-0.002958628101623617,-0.0007424261712003499,-0.0001782802282832563,-4.1024926758836955e-05,-9.058938303496689e-06,-1.9220460671931505e-06,-3.923414624296129e-07],\"type\":\"scatter\",\"xaxis\":\"x2\",\"yaxis\":\"y2\"}],                        {\"template\":{\"data\":{\"histogram2dcontour\":[{\"type\":\"histogram2dcontour\",\"colorbar\":{\"outlinewidth\":0,\"ticks\":\"\"},\"colorscale\":[[0.0,\"#0d0887\"],[0.1111111111111111,\"#46039f\"],[0.2222222222222222,\"#7201a8\"],[0.3333333333333333,\"#9c179e\"],[0.4444444444444444,\"#bd3786\"],[0.5555555555555556,\"#d8576b\"],[0.6666666666666666,\"#ed7953\"],[0.7777777777777778,\"#fb9f3a\"],[0.8888888888888888,\"#fdca26\"],[1.0,\"#f0f921\"]]}],\"choropleth\":[{\"type\":\"choropleth\",\"colorbar\":{\"outlinewidth\":0,\"ticks\":\"\"}}],\"histogram2d\":[{\"type\":\"histogram2d\",\"colorbar\":{\"outlinewidth\":0,\"ticks\":\"\"},\"colorscale\":[[0.0,\"#0d0887\"],[0.1111111111111111,\"#46039f\"],[0.2222222222222222,\"#7201a8\"],[0.3333333333333333,\"#9c179e\"],[0.4444444444444444,\"#bd3786\"],[0.5555555555555556,\"#d8576b\"],[0.6666666666666666,\"#ed7953\"],[0.7777777777777778,\"#fb9f3a\"],[0.8888888888888888,\"#fdca26\"],[1.0,\"#f0f921\"]]}],\"heatmap\":[{\"type\":\"heatmap\",\"colorbar\":{\"outlinewidth\":0,\"ticks\":\"\"},\"colorscale\":[[0.0,\"#0d0887\"],[0.1111111111111111,\"#46039f\"],[0.2222222222222222,\"#7201a8\"],[0.3333333333333333,\"#9c179e\"],[0.4444444444444444,\"#bd3786\"],[0.5555555555555556,\"#d8576b\"],[0.6666666666666666,\"#ed7953\"],[0.7777777777777778,\"#fb9f3a\"],[0.8888888888888888,\"#fdca26\"],[1.0,\"#f0f921\"]]}],\"heatmapgl\":[{\"type\":\"heatmapgl\",\"colorbar\":{\"outlinewidth\":0,\"ticks\":\"\"},\"colorscale\":[[0.0,\"#0d0887\"],[0.1111111111111111,\"#46039f\"],[0.2222222222222222,\"#7201a8\"],[0.3333333333333333,\"#9c179e\"],[0.4444444444444444,\"#bd3786\"],[0.5555555555555556,\"#d8576b\"],[0.6666666666666666,\"#ed7953\"],[0.7777777777777778,\"#fb9f3a\"],[0.8888888888888888,\"#fdca26\"],[1.0,\"#f0f921\"]]}],\"contourcarpet\":[{\"type\":\"contourcarpet\",\"colorbar\":{\"outlinewidth\":0,\"ticks\":\"\"}}],\"contour\":[{\"type\":\"contour\",\"colorbar\":{\"outlinewidth\":0,\"ticks\":\"\"},\"colorscale\":[[0.0,\"#0d0887\"],[0.1111111111111111,\"#46039f\"],[0.2222222222222222,\"#7201a8\"],[0.3333333333333333,\"#9c179e\"],[0.4444444444444444,\"#bd3786\"],[0.5555555555555556,\"#d8576b\"],[0.6666666666666666,\"#ed7953\"],[0.7777777777777778,\"#fb9f3a\"],[0.8888888888888888,\"#fdca26\"],[1.0,\"#f0f921\"]]}],\"surface\":[{\"type\":\"surface\",\"colorbar\":{\"outlinewidth\":0,\"ticks\":\"\"},\"colorscale\":[[0.0,\"#0d0887\"],[0.1111111111111111,\"#46039f\"],[0.2222222222222222,\"#7201a8\"],[0.3333333333333333,\"#9c179e\"],[0.4444444444444444,\"#bd3786\"],[0.5555555555555556,\"#d8576b\"],[0.6666666666666666,\"#ed7953\"],[0.7777777777777778,\"#fb9f3a\"],[0.8888888888888888,\"#fdca26\"],[1.0,\"#f0f921\"]]}],\"mesh3d\":[{\"type\":\"mesh3d\",\"colorbar\":{\"outlinewidth\":0,\"ticks\":\"\"}}],\"scatter\":[{\"fillpattern\":{\"fillmode\":\"overlay\",\"size\":10,\"solidity\":0.2},\"type\":\"scatter\"}],\"parcoords\":[{\"type\":\"parcoords\",\"line\":{\"colorbar\":{\"outlinewidth\":0,\"ticks\":\"\"}}}],\"scatterpolargl\":[{\"type\":\"scatterpolargl\",\"marker\":{\"colorbar\":{\"outlinewidth\":0,\"ticks\":\"\"}}}],\"bar\":[{\"error_x\":{\"color\":\"#2a3f5f\"},\"error_y\":{\"color\":\"#2a3f5f\"},\"marker\":{\"line\":{\"color\":\"#E5ECF6\",\"width\":0.5},\"pattern\":{\"fillmode\":\"overlay\",\"size\":10,\"solidity\":0.2}},\"type\":\"bar\"}],\"scattergeo\":[{\"type\":\"scattergeo\",\"marker\":{\"colorbar\":{\"outlinewidth\":0,\"ticks\":\"\"}}}],\"scatterpolar\":[{\"type\":\"scatterpolar\",\"marker\":{\"colorbar\":{\"outlinewidth\":0,\"ticks\":\"\"}}}],\"histogram\":[{\"marker\":{\"pattern\":{\"fillmode\":\"overlay\",\"size\":10,\"solidity\":0.2}},\"type\":\"histogram\"}],\"scattergl\":[{\"type\":\"scattergl\",\"marker\":{\"colorbar\":{\"outlinewidth\":0,\"ticks\":\"\"}}}],\"scatter3d\":[{\"type\":\"scatter3d\",\"line\":{\"colorbar\":{\"outlinewidth\":0,\"ticks\":\"\"}},\"marker\":{\"colorbar\":{\"outlinewidth\":0,\"ticks\":\"\"}}}],\"scattermapbox\":[{\"type\":\"scattermapbox\",\"marker\":{\"colorbar\":{\"outlinewidth\":0,\"ticks\":\"\"}}}],\"scatterternary\":[{\"type\":\"scatterternary\",\"marker\":{\"colorbar\":{\"outlinewidth\":0,\"ticks\":\"\"}}}],\"scattercarpet\":[{\"type\":\"scattercarpet\",\"marker\":{\"colorbar\":{\"outlinewidth\":0,\"ticks\":\"\"}}}],\"carpet\":[{\"aaxis\":{\"endlinecolor\":\"#2a3f5f\",\"gridcolor\":\"white\",\"linecolor\":\"white\",\"minorgridcolor\":\"white\",\"startlinecolor\":\"#2a3f5f\"},\"baxis\":{\"endlinecolor\":\"#2a3f5f\",\"gridcolor\":\"white\",\"linecolor\":\"white\",\"minorgridcolor\":\"white\",\"startlinecolor\":\"#2a3f5f\"},\"type\":\"carpet\"}],\"table\":[{\"cells\":{\"fill\":{\"color\":\"#EBF0F8\"},\"line\":{\"color\":\"white\"}},\"header\":{\"fill\":{\"color\":\"#C8D4E3\"},\"line\":{\"color\":\"white\"}},\"type\":\"table\"}],\"barpolar\":[{\"marker\":{\"line\":{\"color\":\"#E5ECF6\",\"width\":0.5},\"pattern\":{\"fillmode\":\"overlay\",\"size\":10,\"solidity\":0.2}},\"type\":\"barpolar\"}],\"pie\":[{\"automargin\":true,\"type\":\"pie\"}]},\"layout\":{\"autotypenumbers\":\"strict\",\"colorway\":[\"#636efa\",\"#EF553B\",\"#00cc96\",\"#ab63fa\",\"#FFA15A\",\"#19d3f3\",\"#FF6692\",\"#B6E880\",\"#FF97FF\",\"#FECB52\"],\"font\":{\"color\":\"#2a3f5f\"},\"hovermode\":\"closest\",\"hoverlabel\":{\"align\":\"left\"},\"paper_bgcolor\":\"white\",\"plot_bgcolor\":\"#E5ECF6\",\"polar\":{\"bgcolor\":\"#E5ECF6\",\"angularaxis\":{\"gridcolor\":\"white\",\"linecolor\":\"white\",\"ticks\":\"\"},\"radialaxis\":{\"gridcolor\":\"white\",\"linecolor\":\"white\",\"ticks\":\"\"}},\"ternary\":{\"bgcolor\":\"#E5ECF6\",\"aaxis\":{\"gridcolor\":\"white\",\"linecolor\":\"white\",\"ticks\":\"\"},\"baxis\":{\"gridcolor\":\"white\",\"linecolor\":\"white\",\"ticks\":\"\"},\"caxis\":{\"gridcolor\":\"white\",\"linecolor\":\"white\",\"ticks\":\"\"}},\"coloraxis\":{\"colorbar\":{\"outlinewidth\":0,\"ticks\":\"\"}},\"colorscale\":{\"sequential\":[[0.0,\"#0d0887\"],[0.1111111111111111,\"#46039f\"],[0.2222222222222222,\"#7201a8\"],[0.3333333333333333,\"#9c179e\"],[0.4444444444444444,\"#bd3786\"],[0.5555555555555556,\"#d8576b\"],[0.6666666666666666,\"#ed7953\"],[0.7777777777777778,\"#fb9f3a\"],[0.8888888888888888,\"#fdca26\"],[1.0,\"#f0f921\"]],\"sequentialminus\":[[0.0,\"#0d0887\"],[0.1111111111111111,\"#46039f\"],[0.2222222222222222,\"#7201a8\"],[0.3333333333333333,\"#9c179e\"],[0.4444444444444444,\"#bd3786\"],[0.5555555555555556,\"#d8576b\"],[0.6666666666666666,\"#ed7953\"],[0.7777777777777778,\"#fb9f3a\"],[0.8888888888888888,\"#fdca26\"],[1.0,\"#f0f921\"]],\"diverging\":[[0,\"#8e0152\"],[0.1,\"#c51b7d\"],[0.2,\"#de77ae\"],[0.3,\"#f1b6da\"],[0.4,\"#fde0ef\"],[0.5,\"#f7f7f7\"],[0.6,\"#e6f5d0\"],[0.7,\"#b8e186\"],[0.8,\"#7fbc41\"],[0.9,\"#4d9221\"],[1,\"#276419\"]]},\"xaxis\":{\"gridcolor\":\"white\",\"linecolor\":\"white\",\"ticks\":\"\",\"title\":{\"standoff\":15},\"zerolinecolor\":\"white\",\"automargin\":true,\"zerolinewidth\":2},\"yaxis\":{\"gridcolor\":\"white\",\"linecolor\":\"white\",\"ticks\":\"\",\"title\":{\"standoff\":15},\"zerolinecolor\":\"white\",\"automargin\":true,\"zerolinewidth\":2},\"scene\":{\"xaxis\":{\"backgroundcolor\":\"#E5ECF6\",\"gridcolor\":\"white\",\"linecolor\":\"white\",\"showbackground\":true,\"ticks\":\"\",\"zerolinecolor\":\"white\",\"gridwidth\":2},\"yaxis\":{\"backgroundcolor\":\"#E5ECF6\",\"gridcolor\":\"white\",\"linecolor\":\"white\",\"showbackground\":true,\"ticks\":\"\",\"zerolinecolor\":\"white\",\"gridwidth\":2},\"zaxis\":{\"backgroundcolor\":\"#E5ECF6\",\"gridcolor\":\"white\",\"linecolor\":\"white\",\"showbackground\":true,\"ticks\":\"\",\"zerolinecolor\":\"white\",\"gridwidth\":2}},\"shapedefaults\":{\"line\":{\"color\":\"#2a3f5f\"}},\"annotationdefaults\":{\"arrowcolor\":\"#2a3f5f\",\"arrowhead\":0,\"arrowwidth\":1},\"geo\":{\"bgcolor\":\"white\",\"landcolor\":\"#E5ECF6\",\"subunitcolor\":\"white\",\"showland\":true,\"showlakes\":true,\"lakecolor\":\"white\"},\"title\":{\"x\":0.05},\"mapbox\":{\"style\":\"light\"}}},\"xaxis\":{\"anchor\":\"y\",\"domain\":[0.0,0.45],\"title\":{\"text\":\"Price\"}},\"yaxis\":{\"anchor\":\"x\",\"domain\":[0.0,1.0],\"title\":{\"text\":\"Pnl\"}},\"xaxis2\":{\"anchor\":\"y2\",\"domain\":[0.55,1.0],\"title\":{\"text\":\"Price\"}},\"yaxis2\":{\"anchor\":\"x2\",\"domain\":[0.0,1.0],\"title\":{\"text\":\"Delta\"}},\"title\":{\"text\":\"Todays Option Pos (PnL and Delta)\",\"x\":0.5,\"xanchor\":\"center\"},\"barmode\":\"stack\"},                        {\"responsive\": true}                    ).then(function(){\n",
       "                            \n",
       "var gd = document.getElementById('004b0504-1809-45e7-a7ad-35b51c7794be');\n",
       "var x = new MutationObserver(function (mutations, observer) {{\n",
       "        var display = window.getComputedStyle(gd).display;\n",
       "        if (!display || display === 'none') {{\n",
       "            console.log([gd, 'removed!']);\n",
       "            Plotly.purge(gd);\n",
       "            observer.disconnect();\n",
       "        }}\n",
       "}});\n",
       "\n",
       "// Listen for the removal of the full notebook cells\n",
       "var notebookContainer = gd.closest('#notebook-container');\n",
       "if (notebookContainer) {{\n",
       "    x.observe(notebookContainer, {childList: true});\n",
       "}}\n",
       "\n",
       "// Listen for the clearing of the current output cell\n",
       "var outputEl = gd.closest('.output');\n",
       "if (outputEl) {{\n",
       "    x.observe(outputEl, {childList: true});\n",
       "}}\n",
       "\n",
       "                        })                };                });            </script>        </div>"
      ]
     },
     "metadata": {},
     "output_type": "display_data"
    }
   ],
   "source": [
    "pnl_delta_plot(june_expiry)"
   ]
  },
  {
   "cell_type": "markdown",
   "id": "8cc6406d",
   "metadata": {},
   "source": [
    "## End of Year"
   ]
  },
  {
   "cell_type": "code",
   "execution_count": 20,
   "id": "76f3a582",
   "metadata": {},
   "outputs": [
    {
     "data": {
      "application/vnd.plotly.v1+json": {
       "config": {
        "plotlyServerURL": "https://plot.ly"
       },
       "data": [
        {
         "name": "EUA Jun24 40P",
         "type": "scatter",
         "x": [
          30,
          31,
          32,
          33,
          34,
          35,
          36,
          37,
          38,
          39,
          40,
          41,
          42,
          43,
          44,
          45,
          46,
          47,
          48,
          49,
          50,
          51,
          52,
          53,
          54,
          55,
          56,
          57,
          58,
          59,
          60,
          61,
          62,
          63,
          64,
          65,
          66,
          67,
          68,
          69,
          70,
          71,
          72,
          73,
          74,
          75,
          76,
          77,
          78,
          79,
          80,
          81,
          82,
          83,
          84,
          85,
          86,
          87,
          88,
          89,
          90,
          91,
          92,
          93,
          94,
          95,
          96,
          97,
          98,
          99,
          100
         ],
         "xaxis": "x",
         "y": [
          801255.208241586,
          718618.708241586,
          635982.208241586,
          553345.708241586,
          470709.208241586,
          388072.708241586,
          305436.208241586,
          222799.70824158596,
          140163.20824158596,
          57526.708241585955,
          -25109.791758414038,
          -25109.791758414038,
          -25109.791758414038,
          -25109.791758414038,
          -25109.791758414038,
          -25109.791758414038,
          -25109.791758414038,
          -25109.791758414038,
          -25109.791758414038,
          -25109.791758414038,
          -25109.791758414038,
          -25109.791758414038,
          -25109.791758414038,
          -25109.791758414038,
          -25109.791758414038,
          -25109.791758414038,
          -25109.791758414038,
          -25109.791758414038,
          -25109.791758414038,
          -25109.791758414038,
          -25109.791758414038,
          -25109.791758414038,
          -25109.791758414038,
          -25109.791758414038,
          -25109.791758414038,
          -25109.791758414038,
          -25109.791758414038,
          -25109.791758414038,
          -25109.791758414038,
          -25109.791758414038,
          -25109.791758414038,
          -25109.791758414038,
          -25109.791758414038,
          -25109.791758414038,
          -25109.791758414038,
          -25109.791758414038,
          -25109.791758414038,
          -25109.791758414038,
          -25109.791758414038,
          -25109.791758414038,
          -25109.791758414038,
          -25109.791758414038,
          -25109.791758414038,
          -25109.791758414038,
          -25109.791758414038,
          -25109.791758414038,
          -25109.791758414038,
          -25109.791758414038,
          -25109.791758414038,
          -25109.791758414038,
          -25109.791758414038,
          -25109.791758414038,
          -25109.791758414038,
          -25109.791758414038,
          -25109.791758414038,
          -25109.791758414038,
          -25109.791758414038,
          -25109.791758414038,
          -25109.791758414038,
          -25109.791758414038,
          -25109.791758414038
         ],
         "yaxis": "y"
        },
        {
         "name": "EUA Jun24 40P",
         "type": "scatter",
         "x": [
          30,
          31,
          32,
          33,
          34,
          35,
          36,
          37,
          38,
          39,
          40,
          41,
          42,
          43,
          44,
          45,
          46,
          47,
          48,
          49,
          50,
          51,
          52,
          53,
          54,
          55,
          56,
          57,
          58,
          59,
          60,
          61,
          62,
          63,
          64,
          65,
          66,
          67,
          68,
          69,
          70,
          71,
          72,
          73,
          74,
          75,
          76,
          77,
          78,
          79,
          80,
          81,
          82,
          83,
          84,
          85,
          86,
          87,
          88,
          89,
          90,
          91,
          92,
          93,
          94,
          95,
          96,
          97,
          98,
          99,
          100
         ],
         "xaxis": "x2",
         "y": [
          -50000,
          -50000,
          -50000,
          -50000,
          -50000,
          -50000,
          -50000,
          -50000,
          -50000,
          -50000,
          null,
          0,
          0,
          0,
          0,
          0,
          0,
          0,
          0,
          0,
          0,
          0,
          0,
          0,
          0,
          0,
          0,
          0,
          0,
          0,
          0,
          0,
          0,
          0,
          0,
          0,
          0,
          0,
          0,
          0,
          0,
          0,
          0,
          0,
          0,
          0,
          0,
          0,
          0,
          0,
          0,
          0,
          0,
          0,
          0,
          0,
          0,
          0,
          0,
          0,
          0,
          0,
          0,
          0,
          0,
          0,
          0,
          0,
          0,
          0,
          0
         ],
         "yaxis": "y2"
        },
        {
         "name": "EUA Jun24 50P",
         "type": "scatter",
         "x": [
          30,
          31,
          32,
          33,
          34,
          35,
          36,
          37,
          38,
          39,
          40,
          41,
          42,
          43,
          44,
          45,
          46,
          47,
          48,
          49,
          50,
          51,
          52,
          53,
          54,
          55,
          56,
          57,
          58,
          59,
          60,
          61,
          62,
          63,
          64,
          65,
          66,
          67,
          68,
          69,
          70,
          71,
          72,
          73,
          74,
          75,
          76,
          77,
          78,
          79,
          80,
          81,
          82,
          83,
          84,
          85,
          86,
          87,
          88,
          89,
          90,
          91,
          92,
          93,
          94,
          95,
          96,
          97,
          98,
          99,
          100
         ],
         "xaxis": "x",
         "y": [
          -1542167.5481922291,
          -1459531.0481922291,
          -1376894.5481922291,
          -1294258.0481922291,
          -1211621.5481922291,
          -1128985.0481922291,
          -1046348.5481922292,
          -963712.0481922292,
          -881075.5481922292,
          -798439.0481922292,
          -715802.5481922292,
          -633166.0481922294,
          -550529.5481922292,
          -467893.0481922293,
          -385256.54819222924,
          -302620.04819222924,
          -219983.54819222924,
          -137347.04819222927,
          -54710.54819222926,
          27925.951807770747,
          110562.45180777075,
          110562.45180777075,
          110562.45180777075,
          110562.45180777075,
          110562.45180777075,
          110562.45180777075,
          110562.45180777075,
          110562.45180777075,
          110562.45180777075,
          110562.45180777075,
          110562.45180777075,
          110562.45180777075,
          110562.45180777075,
          110562.45180777075,
          110562.45180777075,
          110562.45180777075,
          110562.45180777075,
          110562.45180777075,
          110562.45180777075,
          110562.45180777075,
          110562.45180777075,
          110562.45180777075,
          110562.45180777075,
          110562.45180777075,
          110562.45180777075,
          110562.45180777075,
          110562.45180777075,
          110562.45180777075,
          110562.45180777075,
          110562.45180777075,
          110562.45180777075,
          110562.45180777075,
          110562.45180777075,
          110562.45180777075,
          110562.45180777075,
          110562.45180777075,
          110562.45180777075,
          110562.45180777075,
          110562.45180777075,
          110562.45180777075,
          110562.45180777075,
          110562.45180777075,
          110562.45180777075,
          110562.45180777075,
          110562.45180777075,
          110562.45180777075,
          110562.45180777075,
          110562.45180777075,
          110562.45180777075,
          110562.45180777075,
          110562.45180777075
         ],
         "yaxis": "y"
        },
        {
         "name": "EUA Jun24 50P",
         "type": "scatter",
         "x": [
          30,
          31,
          32,
          33,
          34,
          35,
          36,
          37,
          38,
          39,
          40,
          41,
          42,
          43,
          44,
          45,
          46,
          47,
          48,
          49,
          50,
          51,
          52,
          53,
          54,
          55,
          56,
          57,
          58,
          59,
          60,
          61,
          62,
          63,
          64,
          65,
          66,
          67,
          68,
          69,
          70,
          71,
          72,
          73,
          74,
          75,
          76,
          77,
          78,
          79,
          80,
          81,
          82,
          83,
          84,
          85,
          86,
          87,
          88,
          89,
          90,
          91,
          92,
          93,
          94,
          95,
          96,
          97,
          98,
          99,
          100
         ],
         "xaxis": "x2",
         "y": [
          50000,
          50000,
          50000,
          50000,
          50000,
          50000,
          50000,
          50000,
          50000,
          50000,
          50000,
          50000,
          50000,
          50000,
          50000,
          50000,
          50000,
          50000,
          50000,
          50000,
          null,
          0,
          0,
          0,
          0,
          0,
          0,
          0,
          0,
          0,
          0,
          0,
          0,
          0,
          0,
          0,
          0,
          0,
          0,
          0,
          0,
          0,
          0,
          0,
          0,
          0,
          0,
          0,
          0,
          0,
          0,
          0,
          0,
          0,
          0,
          0,
          0,
          0,
          0,
          0,
          0,
          0,
          0,
          0,
          0,
          0,
          0,
          0,
          0,
          0,
          0
         ],
         "yaxis": "y2"
        },
        {
         "name": "EUA Jun24 65C",
         "type": "scatter",
         "x": [
          30,
          31,
          32,
          33,
          34,
          35,
          36,
          37,
          38,
          39,
          40,
          41,
          42,
          43,
          44,
          45,
          46,
          47,
          48,
          49,
          50,
          51,
          52,
          53,
          54,
          55,
          56,
          57,
          58,
          59,
          60,
          61,
          62,
          63,
          64,
          65,
          66,
          67,
          68,
          69,
          70,
          71,
          72,
          73,
          74,
          75,
          76,
          77,
          78,
          79,
          80,
          81,
          82,
          83,
          84,
          85,
          86,
          87,
          88,
          89,
          90,
          91,
          92,
          93,
          94,
          95,
          96,
          97,
          98,
          99,
          100
         ],
         "xaxis": "x",
         "y": [
          193149.3875692416,
          193149.3875692416,
          193149.3875692416,
          193149.3875692416,
          193149.3875692416,
          193149.3875692416,
          193149.3875692416,
          193149.3875692416,
          193149.3875692416,
          193149.3875692416,
          193149.3875692416,
          193149.3875692416,
          193149.3875692416,
          193149.3875692416,
          193149.3875692416,
          193149.3875692416,
          193149.3875692416,
          193149.3875692416,
          193149.3875692416,
          193149.3875692416,
          193149.3875692416,
          193149.3875692416,
          193149.3875692416,
          193149.3875692416,
          193149.3875692416,
          193149.3875692416,
          193149.3875692416,
          193149.3875692416,
          193149.3875692416,
          193149.3875692416,
          193149.3875692416,
          193149.3875692416,
          193149.3875692416,
          193149.3875692416,
          193149.3875692416,
          193149.3875692416,
          110512.88756924159,
          27876.387569241586,
          -54760.11243075842,
          -137396.61243075843,
          -220033.11243075843,
          -302669.6124307584,
          -385306.1124307584,
          -467942.6124307584,
          -550579.1124307584,
          -633215.6124307584,
          -715852.1124307585,
          -798488.6124307585,
          -881125.1124307585,
          -963761.6124307585,
          -1046398.1124307585,
          -1129034.6124307585,
          -1211671.1124307585,
          -1294307.6124307585,
          -1376944.1124307585,
          -1459580.6124307585,
          -1542217.1124307585,
          -1624853.6124307585,
          -1707490.1124307585,
          -1790126.6124307583,
          -1872763.1124307583,
          -1955399.6124307583,
          -2038036.1124307583,
          -2120672.6124307583,
          -2203309.1124307583,
          -2285945.6124307583,
          -2368582.1124307583,
          -2451218.6124307583,
          -2533855.1124307583,
          -2616491.6124307583,
          -2699128.1124307583
         ],
         "yaxis": "y"
        },
        {
         "name": "EUA Jun24 65C",
         "type": "scatter",
         "x": [
          30,
          31,
          32,
          33,
          34,
          35,
          36,
          37,
          38,
          39,
          40,
          41,
          42,
          43,
          44,
          45,
          46,
          47,
          48,
          49,
          50,
          51,
          52,
          53,
          54,
          55,
          56,
          57,
          58,
          59,
          60,
          61,
          62,
          63,
          64,
          65,
          66,
          67,
          68,
          69,
          70,
          71,
          72,
          73,
          74,
          75,
          76,
          77,
          78,
          79,
          80,
          81,
          82,
          83,
          84,
          85,
          86,
          87,
          88,
          89,
          90,
          91,
          92,
          93,
          94,
          95,
          96,
          97,
          98,
          99,
          100
         ],
         "xaxis": "x2",
         "y": [
          0,
          0,
          0,
          0,
          0,
          0,
          0,
          0,
          0,
          0,
          0,
          0,
          0,
          0,
          0,
          0,
          0,
          0,
          0,
          0,
          0,
          0,
          0,
          0,
          0,
          0,
          0,
          0,
          0,
          0,
          0,
          0,
          0,
          0,
          0,
          null,
          -50000,
          -50000,
          -50000,
          -50000,
          -50000,
          -50000,
          -50000,
          -50000,
          -50000,
          -50000,
          -50000,
          -50000,
          -50000,
          -50000,
          -50000,
          -50000,
          -50000,
          -50000,
          -50000,
          -50000,
          -50000,
          -50000,
          -50000,
          -50000,
          -50000,
          -50000,
          -50000,
          -50000,
          -50000,
          -50000,
          -50000,
          -50000,
          -50000,
          -50000,
          -50000
         ],
         "yaxis": "y2"
        },
        {
         "name": "EUA Jun24 75C",
         "type": "scatter",
         "x": [
          30,
          31,
          32,
          33,
          34,
          35,
          36,
          37,
          38,
          39,
          40,
          41,
          42,
          43,
          44,
          45,
          46,
          47,
          48,
          49,
          50,
          51,
          52,
          53,
          54,
          55,
          56,
          57,
          58,
          59,
          60,
          61,
          62,
          63,
          64,
          65,
          66,
          67,
          68,
          69,
          70,
          71,
          72,
          73,
          74,
          75,
          76,
          77,
          78,
          79,
          80,
          81,
          82,
          83,
          84,
          85,
          86,
          87,
          88,
          89,
          90,
          91,
          92,
          93,
          94,
          95,
          96,
          97,
          98,
          99,
          100
         ],
         "xaxis": "x",
         "y": [
          -49470.706411217725,
          -49470.706411217725,
          -49470.706411217725,
          -49470.706411217725,
          -49470.706411217725,
          -49470.706411217725,
          -49470.706411217725,
          -49470.706411217725,
          -49470.706411217725,
          -49470.706411217725,
          -49470.706411217725,
          -49470.706411217725,
          -49470.706411217725,
          -49470.706411217725,
          -49470.706411217725,
          -49470.706411217725,
          -49470.706411217725,
          -49470.706411217725,
          -49470.706411217725,
          -49470.706411217725,
          -49470.706411217725,
          -49470.706411217725,
          -49470.706411217725,
          -49470.706411217725,
          -49470.706411217725,
          -49470.706411217725,
          -49470.706411217725,
          -49470.706411217725,
          -49470.706411217725,
          -49470.706411217725,
          -49470.706411217725,
          -49470.706411217725,
          -49470.706411217725,
          -49470.706411217725,
          -49470.706411217725,
          -49470.706411217725,
          -49470.706411217725,
          -49470.706411217725,
          -49470.706411217725,
          -49470.706411217725,
          -49470.706411217725,
          -49470.706411217725,
          -49470.706411217725,
          -49470.706411217725,
          -49470.706411217725,
          -49470.706411217725,
          33165.793588782275,
          115802.29358878227,
          198438.79358878228,
          281075.2935887823,
          363711.7935887823,
          446348.29358878225,
          528984.7935887823,
          611621.2935887823,
          694257.7935887823,
          776894.2935887823,
          859530.7935887823,
          942167.2935887823,
          1024803.7935887823,
          1107440.2935887822,
          1190076.7935887822,
          1272713.2935887822,
          1355349.7935887822,
          1437986.2935887822,
          1520622.7935887822,
          1603259.2935887822,
          1685895.7935887822,
          1768532.2935887822,
          1851168.7935887822,
          1933805.2935887822,
          2016441.7935887822
         ],
         "yaxis": "y"
        },
        {
         "name": "EUA Jun24 75C",
         "type": "scatter",
         "x": [
          30,
          31,
          32,
          33,
          34,
          35,
          36,
          37,
          38,
          39,
          40,
          41,
          42,
          43,
          44,
          45,
          46,
          47,
          48,
          49,
          50,
          51,
          52,
          53,
          54,
          55,
          56,
          57,
          58,
          59,
          60,
          61,
          62,
          63,
          64,
          65,
          66,
          67,
          68,
          69,
          70,
          71,
          72,
          73,
          74,
          75,
          76,
          77,
          78,
          79,
          80,
          81,
          82,
          83,
          84,
          85,
          86,
          87,
          88,
          89,
          90,
          91,
          92,
          93,
          94,
          95,
          96,
          97,
          98,
          99,
          100
         ],
         "xaxis": "x2",
         "y": [
          0,
          0,
          0,
          0,
          0,
          0,
          0,
          0,
          0,
          0,
          0,
          0,
          0,
          0,
          0,
          0,
          0,
          0,
          0,
          0,
          0,
          0,
          0,
          0,
          0,
          0,
          0,
          0,
          0,
          0,
          0,
          0,
          0,
          0,
          0,
          0,
          0,
          0,
          0,
          0,
          0,
          0,
          0,
          0,
          0,
          null,
          50000,
          50000,
          50000,
          50000,
          50000,
          50000,
          50000,
          50000,
          50000,
          50000,
          50000,
          50000,
          50000,
          50000,
          50000,
          50000,
          50000,
          50000,
          50000,
          50000,
          50000,
          50000,
          50000,
          50000,
          50000
         ],
         "yaxis": "y2"
        },
        {
         "mode": "lines",
         "name": "Total_PnL",
         "type": "scatter",
         "x": [
          30,
          31,
          32,
          33,
          34,
          35,
          36,
          37,
          38,
          39,
          40,
          41,
          42,
          43,
          44,
          45,
          46,
          47,
          48,
          49,
          50,
          51,
          52,
          53,
          54,
          55,
          56,
          57,
          58,
          59,
          60,
          61,
          62,
          63,
          64,
          65,
          66,
          67,
          68,
          69,
          70,
          71,
          72,
          73,
          74,
          75,
          76,
          77,
          78,
          79,
          80,
          81,
          82,
          83,
          84,
          85,
          86,
          87,
          88,
          89,
          90,
          91,
          92,
          93,
          94,
          95,
          96,
          97,
          98,
          99,
          100
         ],
         "xaxis": "x",
         "y": [
          -597233.6587926192,
          -597233.6587926192,
          -597233.6587926192,
          -597233.6587926192,
          -597233.6587926192,
          -597233.6587926192,
          -597233.6587926194,
          -597233.6587926194,
          -597233.6587926194,
          -597233.6587926194,
          -597233.6587926194,
          -514597.15879261954,
          -431960.6587926194,
          -349324.15879261954,
          -266687.65879261936,
          -184051.15879261936,
          -101414.65879261939,
          -18778.158792619426,
          63858.341207380574,
          146494.8412073806,
          229131.3412073806,
          229131.3412073806,
          229131.3412073806,
          229131.3412073806,
          229131.3412073806,
          229131.3412073806,
          229131.3412073806,
          229131.3412073806,
          229131.3412073806,
          229131.3412073806,
          229131.3412073806,
          229131.3412073806,
          229131.3412073806,
          229131.3412073806,
          229131.3412073806,
          229131.3412073806,
          146494.84120738058,
          63858.341207380574,
          -18778.158792619433,
          -101414.65879261945,
          -184051.15879261945,
          -266687.6587926195,
          -349324.1587926195,
          -431960.6587926195,
          -514597.1587926195,
          -597233.6587926194,
          -597233.6587926195,
          -597233.6587926195,
          -597233.6587926195,
          -597233.6587926195,
          -597233.6587926195,
          -597233.6587926196,
          -597233.6587926195,
          -597233.6587926195,
          -597233.6587926195,
          -597233.6587926195,
          -597233.6587926195,
          -597233.6587926195,
          -597233.6587926195,
          -597233.6587926194,
          -597233.6587926194,
          -597233.6587926194,
          -597233.6587926194,
          -597233.6587926194,
          -597233.6587926196,
          -597233.6587926196,
          -597233.6587926196,
          -597233.6587926196,
          -597233.6587926196,
          -597233.6587926196,
          -597233.6587926196
         ],
         "yaxis": "y"
        },
        {
         "mode": "lines",
         "name": "Total_Delta",
         "type": "scatter",
         "x": [
          30,
          31,
          32,
          33,
          34,
          35,
          36,
          37,
          38,
          39,
          40,
          41,
          42,
          43,
          44,
          45,
          46,
          47,
          48,
          49,
          50,
          51,
          52,
          53,
          54,
          55,
          56,
          57,
          58,
          59,
          60,
          61,
          62,
          63,
          64,
          65,
          66,
          67,
          68,
          69,
          70,
          71,
          72,
          73,
          74,
          75,
          76,
          77,
          78,
          79,
          80,
          81,
          82,
          83,
          84,
          85,
          86,
          87,
          88,
          89,
          90,
          91,
          92,
          93,
          94,
          95,
          96,
          97,
          98,
          99,
          100
         ],
         "xaxis": "x2",
         "y": [
          0,
          0,
          0,
          0,
          0,
          0,
          0,
          0,
          0,
          0,
          50000,
          50000,
          50000,
          50000,
          50000,
          50000,
          50000,
          50000,
          50000,
          50000,
          0,
          0,
          0,
          0,
          0,
          0,
          0,
          0,
          0,
          0,
          0,
          0,
          0,
          0,
          0,
          0,
          -50000,
          -50000,
          -50000,
          -50000,
          -50000,
          -50000,
          -50000,
          -50000,
          -50000,
          -50000,
          0,
          0,
          0,
          0,
          0,
          0,
          0,
          0,
          0,
          0,
          0,
          0,
          0,
          0,
          0,
          0,
          0,
          0,
          0,
          0,
          0,
          0,
          0,
          0,
          0
         ],
         "yaxis": "y2"
        }
       ],
       "layout": {
        "barmode": "stack",
        "template": {
         "data": {
          "bar": [
           {
            "error_x": {
             "color": "#2a3f5f"
            },
            "error_y": {
             "color": "#2a3f5f"
            },
            "marker": {
             "line": {
              "color": "#E5ECF6",
              "width": 0.5
             },
             "pattern": {
              "fillmode": "overlay",
              "size": 10,
              "solidity": 0.2
             }
            },
            "type": "bar"
           }
          ],
          "barpolar": [
           {
            "marker": {
             "line": {
              "color": "#E5ECF6",
              "width": 0.5
             },
             "pattern": {
              "fillmode": "overlay",
              "size": 10,
              "solidity": 0.2
             }
            },
            "type": "barpolar"
           }
          ],
          "carpet": [
           {
            "aaxis": {
             "endlinecolor": "#2a3f5f",
             "gridcolor": "white",
             "linecolor": "white",
             "minorgridcolor": "white",
             "startlinecolor": "#2a3f5f"
            },
            "baxis": {
             "endlinecolor": "#2a3f5f",
             "gridcolor": "white",
             "linecolor": "white",
             "minorgridcolor": "white",
             "startlinecolor": "#2a3f5f"
            },
            "type": "carpet"
           }
          ],
          "choropleth": [
           {
            "colorbar": {
             "outlinewidth": 0,
             "ticks": ""
            },
            "type": "choropleth"
           }
          ],
          "contour": [
           {
            "colorbar": {
             "outlinewidth": 0,
             "ticks": ""
            },
            "colorscale": [
             [
              0,
              "#0d0887"
             ],
             [
              0.1111111111111111,
              "#46039f"
             ],
             [
              0.2222222222222222,
              "#7201a8"
             ],
             [
              0.3333333333333333,
              "#9c179e"
             ],
             [
              0.4444444444444444,
              "#bd3786"
             ],
             [
              0.5555555555555556,
              "#d8576b"
             ],
             [
              0.6666666666666666,
              "#ed7953"
             ],
             [
              0.7777777777777778,
              "#fb9f3a"
             ],
             [
              0.8888888888888888,
              "#fdca26"
             ],
             [
              1,
              "#f0f921"
             ]
            ],
            "type": "contour"
           }
          ],
          "contourcarpet": [
           {
            "colorbar": {
             "outlinewidth": 0,
             "ticks": ""
            },
            "type": "contourcarpet"
           }
          ],
          "heatmap": [
           {
            "colorbar": {
             "outlinewidth": 0,
             "ticks": ""
            },
            "colorscale": [
             [
              0,
              "#0d0887"
             ],
             [
              0.1111111111111111,
              "#46039f"
             ],
             [
              0.2222222222222222,
              "#7201a8"
             ],
             [
              0.3333333333333333,
              "#9c179e"
             ],
             [
              0.4444444444444444,
              "#bd3786"
             ],
             [
              0.5555555555555556,
              "#d8576b"
             ],
             [
              0.6666666666666666,
              "#ed7953"
             ],
             [
              0.7777777777777778,
              "#fb9f3a"
             ],
             [
              0.8888888888888888,
              "#fdca26"
             ],
             [
              1,
              "#f0f921"
             ]
            ],
            "type": "heatmap"
           }
          ],
          "heatmapgl": [
           {
            "colorbar": {
             "outlinewidth": 0,
             "ticks": ""
            },
            "colorscale": [
             [
              0,
              "#0d0887"
             ],
             [
              0.1111111111111111,
              "#46039f"
             ],
             [
              0.2222222222222222,
              "#7201a8"
             ],
             [
              0.3333333333333333,
              "#9c179e"
             ],
             [
              0.4444444444444444,
              "#bd3786"
             ],
             [
              0.5555555555555556,
              "#d8576b"
             ],
             [
              0.6666666666666666,
              "#ed7953"
             ],
             [
              0.7777777777777778,
              "#fb9f3a"
             ],
             [
              0.8888888888888888,
              "#fdca26"
             ],
             [
              1,
              "#f0f921"
             ]
            ],
            "type": "heatmapgl"
           }
          ],
          "histogram": [
           {
            "marker": {
             "pattern": {
              "fillmode": "overlay",
              "size": 10,
              "solidity": 0.2
             }
            },
            "type": "histogram"
           }
          ],
          "histogram2d": [
           {
            "colorbar": {
             "outlinewidth": 0,
             "ticks": ""
            },
            "colorscale": [
             [
              0,
              "#0d0887"
             ],
             [
              0.1111111111111111,
              "#46039f"
             ],
             [
              0.2222222222222222,
              "#7201a8"
             ],
             [
              0.3333333333333333,
              "#9c179e"
             ],
             [
              0.4444444444444444,
              "#bd3786"
             ],
             [
              0.5555555555555556,
              "#d8576b"
             ],
             [
              0.6666666666666666,
              "#ed7953"
             ],
             [
              0.7777777777777778,
              "#fb9f3a"
             ],
             [
              0.8888888888888888,
              "#fdca26"
             ],
             [
              1,
              "#f0f921"
             ]
            ],
            "type": "histogram2d"
           }
          ],
          "histogram2dcontour": [
           {
            "colorbar": {
             "outlinewidth": 0,
             "ticks": ""
            },
            "colorscale": [
             [
              0,
              "#0d0887"
             ],
             [
              0.1111111111111111,
              "#46039f"
             ],
             [
              0.2222222222222222,
              "#7201a8"
             ],
             [
              0.3333333333333333,
              "#9c179e"
             ],
             [
              0.4444444444444444,
              "#bd3786"
             ],
             [
              0.5555555555555556,
              "#d8576b"
             ],
             [
              0.6666666666666666,
              "#ed7953"
             ],
             [
              0.7777777777777778,
              "#fb9f3a"
             ],
             [
              0.8888888888888888,
              "#fdca26"
             ],
             [
              1,
              "#f0f921"
             ]
            ],
            "type": "histogram2dcontour"
           }
          ],
          "mesh3d": [
           {
            "colorbar": {
             "outlinewidth": 0,
             "ticks": ""
            },
            "type": "mesh3d"
           }
          ],
          "parcoords": [
           {
            "line": {
             "colorbar": {
              "outlinewidth": 0,
              "ticks": ""
             }
            },
            "type": "parcoords"
           }
          ],
          "pie": [
           {
            "automargin": true,
            "type": "pie"
           }
          ],
          "scatter": [
           {
            "fillpattern": {
             "fillmode": "overlay",
             "size": 10,
             "solidity": 0.2
            },
            "type": "scatter"
           }
          ],
          "scatter3d": [
           {
            "line": {
             "colorbar": {
              "outlinewidth": 0,
              "ticks": ""
             }
            },
            "marker": {
             "colorbar": {
              "outlinewidth": 0,
              "ticks": ""
             }
            },
            "type": "scatter3d"
           }
          ],
          "scattercarpet": [
           {
            "marker": {
             "colorbar": {
              "outlinewidth": 0,
              "ticks": ""
             }
            },
            "type": "scattercarpet"
           }
          ],
          "scattergeo": [
           {
            "marker": {
             "colorbar": {
              "outlinewidth": 0,
              "ticks": ""
             }
            },
            "type": "scattergeo"
           }
          ],
          "scattergl": [
           {
            "marker": {
             "colorbar": {
              "outlinewidth": 0,
              "ticks": ""
             }
            },
            "type": "scattergl"
           }
          ],
          "scattermapbox": [
           {
            "marker": {
             "colorbar": {
              "outlinewidth": 0,
              "ticks": ""
             }
            },
            "type": "scattermapbox"
           }
          ],
          "scatterpolar": [
           {
            "marker": {
             "colorbar": {
              "outlinewidth": 0,
              "ticks": ""
             }
            },
            "type": "scatterpolar"
           }
          ],
          "scatterpolargl": [
           {
            "marker": {
             "colorbar": {
              "outlinewidth": 0,
              "ticks": ""
             }
            },
            "type": "scatterpolargl"
           }
          ],
          "scatterternary": [
           {
            "marker": {
             "colorbar": {
              "outlinewidth": 0,
              "ticks": ""
             }
            },
            "type": "scatterternary"
           }
          ],
          "surface": [
           {
            "colorbar": {
             "outlinewidth": 0,
             "ticks": ""
            },
            "colorscale": [
             [
              0,
              "#0d0887"
             ],
             [
              0.1111111111111111,
              "#46039f"
             ],
             [
              0.2222222222222222,
              "#7201a8"
             ],
             [
              0.3333333333333333,
              "#9c179e"
             ],
             [
              0.4444444444444444,
              "#bd3786"
             ],
             [
              0.5555555555555556,
              "#d8576b"
             ],
             [
              0.6666666666666666,
              "#ed7953"
             ],
             [
              0.7777777777777778,
              "#fb9f3a"
             ],
             [
              0.8888888888888888,
              "#fdca26"
             ],
             [
              1,
              "#f0f921"
             ]
            ],
            "type": "surface"
           }
          ],
          "table": [
           {
            "cells": {
             "fill": {
              "color": "#EBF0F8"
             },
             "line": {
              "color": "white"
             }
            },
            "header": {
             "fill": {
              "color": "#C8D4E3"
             },
             "line": {
              "color": "white"
             }
            },
            "type": "table"
           }
          ]
         },
         "layout": {
          "annotationdefaults": {
           "arrowcolor": "#2a3f5f",
           "arrowhead": 0,
           "arrowwidth": 1
          },
          "autotypenumbers": "strict",
          "coloraxis": {
           "colorbar": {
            "outlinewidth": 0,
            "ticks": ""
           }
          },
          "colorscale": {
           "diverging": [
            [
             0,
             "#8e0152"
            ],
            [
             0.1,
             "#c51b7d"
            ],
            [
             0.2,
             "#de77ae"
            ],
            [
             0.3,
             "#f1b6da"
            ],
            [
             0.4,
             "#fde0ef"
            ],
            [
             0.5,
             "#f7f7f7"
            ],
            [
             0.6,
             "#e6f5d0"
            ],
            [
             0.7,
             "#b8e186"
            ],
            [
             0.8,
             "#7fbc41"
            ],
            [
             0.9,
             "#4d9221"
            ],
            [
             1,
             "#276419"
            ]
           ],
           "sequential": [
            [
             0,
             "#0d0887"
            ],
            [
             0.1111111111111111,
             "#46039f"
            ],
            [
             0.2222222222222222,
             "#7201a8"
            ],
            [
             0.3333333333333333,
             "#9c179e"
            ],
            [
             0.4444444444444444,
             "#bd3786"
            ],
            [
             0.5555555555555556,
             "#d8576b"
            ],
            [
             0.6666666666666666,
             "#ed7953"
            ],
            [
             0.7777777777777778,
             "#fb9f3a"
            ],
            [
             0.8888888888888888,
             "#fdca26"
            ],
            [
             1,
             "#f0f921"
            ]
           ],
           "sequentialminus": [
            [
             0,
             "#0d0887"
            ],
            [
             0.1111111111111111,
             "#46039f"
            ],
            [
             0.2222222222222222,
             "#7201a8"
            ],
            [
             0.3333333333333333,
             "#9c179e"
            ],
            [
             0.4444444444444444,
             "#bd3786"
            ],
            [
             0.5555555555555556,
             "#d8576b"
            ],
            [
             0.6666666666666666,
             "#ed7953"
            ],
            [
             0.7777777777777778,
             "#fb9f3a"
            ],
            [
             0.8888888888888888,
             "#fdca26"
            ],
            [
             1,
             "#f0f921"
            ]
           ]
          },
          "colorway": [
           "#636efa",
           "#EF553B",
           "#00cc96",
           "#ab63fa",
           "#FFA15A",
           "#19d3f3",
           "#FF6692",
           "#B6E880",
           "#FF97FF",
           "#FECB52"
          ],
          "font": {
           "color": "#2a3f5f"
          },
          "geo": {
           "bgcolor": "white",
           "lakecolor": "white",
           "landcolor": "#E5ECF6",
           "showlakes": true,
           "showland": true,
           "subunitcolor": "white"
          },
          "hoverlabel": {
           "align": "left"
          },
          "hovermode": "closest",
          "mapbox": {
           "style": "light"
          },
          "paper_bgcolor": "white",
          "plot_bgcolor": "#E5ECF6",
          "polar": {
           "angularaxis": {
            "gridcolor": "white",
            "linecolor": "white",
            "ticks": ""
           },
           "bgcolor": "#E5ECF6",
           "radialaxis": {
            "gridcolor": "white",
            "linecolor": "white",
            "ticks": ""
           }
          },
          "scene": {
           "xaxis": {
            "backgroundcolor": "#E5ECF6",
            "gridcolor": "white",
            "gridwidth": 2,
            "linecolor": "white",
            "showbackground": true,
            "ticks": "",
            "zerolinecolor": "white"
           },
           "yaxis": {
            "backgroundcolor": "#E5ECF6",
            "gridcolor": "white",
            "gridwidth": 2,
            "linecolor": "white",
            "showbackground": true,
            "ticks": "",
            "zerolinecolor": "white"
           },
           "zaxis": {
            "backgroundcolor": "#E5ECF6",
            "gridcolor": "white",
            "gridwidth": 2,
            "linecolor": "white",
            "showbackground": true,
            "ticks": "",
            "zerolinecolor": "white"
           }
          },
          "shapedefaults": {
           "line": {
            "color": "#2a3f5f"
           }
          },
          "ternary": {
           "aaxis": {
            "gridcolor": "white",
            "linecolor": "white",
            "ticks": ""
           },
           "baxis": {
            "gridcolor": "white",
            "linecolor": "white",
            "ticks": ""
           },
           "bgcolor": "#E5ECF6",
           "caxis": {
            "gridcolor": "white",
            "linecolor": "white",
            "ticks": ""
           }
          },
          "title": {
           "x": 0.05
          },
          "xaxis": {
           "automargin": true,
           "gridcolor": "white",
           "linecolor": "white",
           "ticks": "",
           "title": {
            "standoff": 15
           },
           "zerolinecolor": "white",
           "zerolinewidth": 2
          },
          "yaxis": {
           "automargin": true,
           "gridcolor": "white",
           "linecolor": "white",
           "ticks": "",
           "title": {
            "standoff": 15
           },
           "zerolinecolor": "white",
           "zerolinewidth": 2
          }
         }
        },
        "title": {
         "text": "Todays Option Pos (PnL and Delta)",
         "x": 0.5,
         "xanchor": "center"
        },
        "xaxis": {
         "anchor": "y",
         "domain": [
          0,
          0.45
         ],
         "title": {
          "text": "Price"
         }
        },
        "xaxis2": {
         "anchor": "y2",
         "domain": [
          0.55,
          1
         ],
         "title": {
          "text": "Price"
         }
        },
        "yaxis": {
         "anchor": "x",
         "domain": [
          0,
          1
         ],
         "title": {
          "text": "Pnl"
         }
        },
        "yaxis2": {
         "anchor": "x2",
         "domain": [
          0,
          1
         ],
         "title": {
          "text": "Delta"
         }
        }
       }
      },
      "text/html": [
       "<div>                            <div id=\"e04c4ed1-0840-47c1-958b-914c4370e691\" class=\"plotly-graph-div\" style=\"height:525px; width:100%;\"></div>            <script type=\"text/javascript\">                require([\"plotly\"], function(Plotly) {                    window.PLOTLYENV=window.PLOTLYENV || {};                                    if (document.getElementById(\"e04c4ed1-0840-47c1-958b-914c4370e691\")) {                    Plotly.newPlot(                        \"e04c4ed1-0840-47c1-958b-914c4370e691\",                        [{\"name\":\"EUA Jun24 40P\",\"x\":[30,31,32,33,34,35,36,37,38,39,40,41,42,43,44,45,46,47,48,49,50,51,52,53,54,55,56,57,58,59,60,61,62,63,64,65,66,67,68,69,70,71,72,73,74,75,76,77,78,79,80,81,82,83,84,85,86,87,88,89,90,91,92,93,94,95,96,97,98,99,100],\"y\":[801255.208241586,718618.708241586,635982.208241586,553345.708241586,470709.208241586,388072.708241586,305436.208241586,222799.70824158596,140163.20824158596,57526.708241585955,-25109.791758414038,-25109.791758414038,-25109.791758414038,-25109.791758414038,-25109.791758414038,-25109.791758414038,-25109.791758414038,-25109.791758414038,-25109.791758414038,-25109.791758414038,-25109.791758414038,-25109.791758414038,-25109.791758414038,-25109.791758414038,-25109.791758414038,-25109.791758414038,-25109.791758414038,-25109.791758414038,-25109.791758414038,-25109.791758414038,-25109.791758414038,-25109.791758414038,-25109.791758414038,-25109.791758414038,-25109.791758414038,-25109.791758414038,-25109.791758414038,-25109.791758414038,-25109.791758414038,-25109.791758414038,-25109.791758414038,-25109.791758414038,-25109.791758414038,-25109.791758414038,-25109.791758414038,-25109.791758414038,-25109.791758414038,-25109.791758414038,-25109.791758414038,-25109.791758414038,-25109.791758414038,-25109.791758414038,-25109.791758414038,-25109.791758414038,-25109.791758414038,-25109.791758414038,-25109.791758414038,-25109.791758414038,-25109.791758414038,-25109.791758414038,-25109.791758414038,-25109.791758414038,-25109.791758414038,-25109.791758414038,-25109.791758414038,-25109.791758414038,-25109.791758414038,-25109.791758414038,-25109.791758414038,-25109.791758414038,-25109.791758414038],\"type\":\"scatter\",\"xaxis\":\"x\",\"yaxis\":\"y\"},{\"name\":\"EUA Jun24 40P\",\"x\":[30,31,32,33,34,35,36,37,38,39,40,41,42,43,44,45,46,47,48,49,50,51,52,53,54,55,56,57,58,59,60,61,62,63,64,65,66,67,68,69,70,71,72,73,74,75,76,77,78,79,80,81,82,83,84,85,86,87,88,89,90,91,92,93,94,95,96,97,98,99,100],\"y\":[-50000.0,-50000.0,-50000.0,-50000.0,-50000.0,-50000.0,-50000.0,-50000.0,-50000.0,-50000.0,null,0.0,0.0,0.0,0.0,0.0,0.0,0.0,0.0,0.0,0.0,0.0,0.0,0.0,0.0,0.0,0.0,0.0,0.0,0.0,0.0,0.0,0.0,0.0,0.0,0.0,0.0,0.0,0.0,0.0,0.0,0.0,0.0,0.0,0.0,0.0,0.0,0.0,0.0,0.0,0.0,0.0,0.0,0.0,0.0,0.0,0.0,0.0,0.0,0.0,0.0,0.0,0.0,0.0,0.0,0.0,0.0,0.0,0.0,0.0,0.0],\"type\":\"scatter\",\"xaxis\":\"x2\",\"yaxis\":\"y2\"},{\"name\":\"EUA Jun24 50P\",\"x\":[30,31,32,33,34,35,36,37,38,39,40,41,42,43,44,45,46,47,48,49,50,51,52,53,54,55,56,57,58,59,60,61,62,63,64,65,66,67,68,69,70,71,72,73,74,75,76,77,78,79,80,81,82,83,84,85,86,87,88,89,90,91,92,93,94,95,96,97,98,99,100],\"y\":[-1542167.5481922291,-1459531.0481922291,-1376894.5481922291,-1294258.0481922291,-1211621.5481922291,-1128985.0481922291,-1046348.5481922292,-963712.0481922292,-881075.5481922292,-798439.0481922292,-715802.5481922292,-633166.0481922294,-550529.5481922292,-467893.0481922293,-385256.54819222924,-302620.04819222924,-219983.54819222924,-137347.04819222927,-54710.54819222926,27925.951807770747,110562.45180777075,110562.45180777075,110562.45180777075,110562.45180777075,110562.45180777075,110562.45180777075,110562.45180777075,110562.45180777075,110562.45180777075,110562.45180777075,110562.45180777075,110562.45180777075,110562.45180777075,110562.45180777075,110562.45180777075,110562.45180777075,110562.45180777075,110562.45180777075,110562.45180777075,110562.45180777075,110562.45180777075,110562.45180777075,110562.45180777075,110562.45180777075,110562.45180777075,110562.45180777075,110562.45180777075,110562.45180777075,110562.45180777075,110562.45180777075,110562.45180777075,110562.45180777075,110562.45180777075,110562.45180777075,110562.45180777075,110562.45180777075,110562.45180777075,110562.45180777075,110562.45180777075,110562.45180777075,110562.45180777075,110562.45180777075,110562.45180777075,110562.45180777075,110562.45180777075,110562.45180777075,110562.45180777075,110562.45180777075,110562.45180777075,110562.45180777075,110562.45180777075],\"type\":\"scatter\",\"xaxis\":\"x\",\"yaxis\":\"y\"},{\"name\":\"EUA Jun24 50P\",\"x\":[30,31,32,33,34,35,36,37,38,39,40,41,42,43,44,45,46,47,48,49,50,51,52,53,54,55,56,57,58,59,60,61,62,63,64,65,66,67,68,69,70,71,72,73,74,75,76,77,78,79,80,81,82,83,84,85,86,87,88,89,90,91,92,93,94,95,96,97,98,99,100],\"y\":[50000.0,50000.0,50000.0,50000.0,50000.0,50000.0,50000.0,50000.0,50000.0,50000.0,50000.0,50000.0,50000.0,50000.0,50000.0,50000.0,50000.0,50000.0,50000.0,50000.0,null,-0.0,-0.0,-0.0,-0.0,-0.0,-0.0,-0.0,-0.0,-0.0,-0.0,-0.0,-0.0,-0.0,-0.0,-0.0,-0.0,-0.0,-0.0,-0.0,-0.0,-0.0,-0.0,-0.0,-0.0,-0.0,-0.0,-0.0,-0.0,-0.0,-0.0,-0.0,-0.0,-0.0,-0.0,-0.0,-0.0,-0.0,-0.0,-0.0,-0.0,-0.0,-0.0,-0.0,-0.0,-0.0,-0.0,-0.0,-0.0,-0.0,-0.0],\"type\":\"scatter\",\"xaxis\":\"x2\",\"yaxis\":\"y2\"},{\"name\":\"EUA Jun24 65C\",\"x\":[30,31,32,33,34,35,36,37,38,39,40,41,42,43,44,45,46,47,48,49,50,51,52,53,54,55,56,57,58,59,60,61,62,63,64,65,66,67,68,69,70,71,72,73,74,75,76,77,78,79,80,81,82,83,84,85,86,87,88,89,90,91,92,93,94,95,96,97,98,99,100],\"y\":[193149.3875692416,193149.3875692416,193149.3875692416,193149.3875692416,193149.3875692416,193149.3875692416,193149.3875692416,193149.3875692416,193149.3875692416,193149.3875692416,193149.3875692416,193149.3875692416,193149.3875692416,193149.3875692416,193149.3875692416,193149.3875692416,193149.3875692416,193149.3875692416,193149.3875692416,193149.3875692416,193149.3875692416,193149.3875692416,193149.3875692416,193149.3875692416,193149.3875692416,193149.3875692416,193149.3875692416,193149.3875692416,193149.3875692416,193149.3875692416,193149.3875692416,193149.3875692416,193149.3875692416,193149.3875692416,193149.3875692416,193149.3875692416,110512.88756924159,27876.387569241586,-54760.11243075842,-137396.61243075843,-220033.11243075843,-302669.6124307584,-385306.1124307584,-467942.6124307584,-550579.1124307584,-633215.6124307584,-715852.1124307585,-798488.6124307585,-881125.1124307585,-963761.6124307585,-1046398.1124307585,-1129034.6124307585,-1211671.1124307585,-1294307.6124307585,-1376944.1124307585,-1459580.6124307585,-1542217.1124307585,-1624853.6124307585,-1707490.1124307585,-1790126.6124307583,-1872763.1124307583,-1955399.6124307583,-2038036.1124307583,-2120672.6124307583,-2203309.1124307583,-2285945.6124307583,-2368582.1124307583,-2451218.6124307583,-2533855.1124307583,-2616491.6124307583,-2699128.1124307583],\"type\":\"scatter\",\"xaxis\":\"x\",\"yaxis\":\"y\"},{\"name\":\"EUA Jun24 65C\",\"x\":[30,31,32,33,34,35,36,37,38,39,40,41,42,43,44,45,46,47,48,49,50,51,52,53,54,55,56,57,58,59,60,61,62,63,64,65,66,67,68,69,70,71,72,73,74,75,76,77,78,79,80,81,82,83,84,85,86,87,88,89,90,91,92,93,94,95,96,97,98,99,100],\"y\":[-0.0,-0.0,-0.0,-0.0,-0.0,-0.0,-0.0,-0.0,-0.0,-0.0,-0.0,-0.0,-0.0,-0.0,-0.0,-0.0,-0.0,-0.0,-0.0,-0.0,-0.0,-0.0,-0.0,-0.0,-0.0,-0.0,-0.0,-0.0,-0.0,-0.0,-0.0,-0.0,-0.0,-0.0,-0.0,null,-50000.0,-50000.0,-50000.0,-50000.0,-50000.0,-50000.0,-50000.0,-50000.0,-50000.0,-50000.0,-50000.0,-50000.0,-50000.0,-50000.0,-50000.0,-50000.0,-50000.0,-50000.0,-50000.0,-50000.0,-50000.0,-50000.0,-50000.0,-50000.0,-50000.0,-50000.0,-50000.0,-50000.0,-50000.0,-50000.0,-50000.0,-50000.0,-50000.0,-50000.0,-50000.0],\"type\":\"scatter\",\"xaxis\":\"x2\",\"yaxis\":\"y2\"},{\"name\":\"EUA Jun24 75C\",\"x\":[30,31,32,33,34,35,36,37,38,39,40,41,42,43,44,45,46,47,48,49,50,51,52,53,54,55,56,57,58,59,60,61,62,63,64,65,66,67,68,69,70,71,72,73,74,75,76,77,78,79,80,81,82,83,84,85,86,87,88,89,90,91,92,93,94,95,96,97,98,99,100],\"y\":[-49470.706411217725,-49470.706411217725,-49470.706411217725,-49470.706411217725,-49470.706411217725,-49470.706411217725,-49470.706411217725,-49470.706411217725,-49470.706411217725,-49470.706411217725,-49470.706411217725,-49470.706411217725,-49470.706411217725,-49470.706411217725,-49470.706411217725,-49470.706411217725,-49470.706411217725,-49470.706411217725,-49470.706411217725,-49470.706411217725,-49470.706411217725,-49470.706411217725,-49470.706411217725,-49470.706411217725,-49470.706411217725,-49470.706411217725,-49470.706411217725,-49470.706411217725,-49470.706411217725,-49470.706411217725,-49470.706411217725,-49470.706411217725,-49470.706411217725,-49470.706411217725,-49470.706411217725,-49470.706411217725,-49470.706411217725,-49470.706411217725,-49470.706411217725,-49470.706411217725,-49470.706411217725,-49470.706411217725,-49470.706411217725,-49470.706411217725,-49470.706411217725,-49470.706411217725,33165.793588782275,115802.29358878227,198438.79358878228,281075.2935887823,363711.7935887823,446348.29358878225,528984.7935887823,611621.2935887823,694257.7935887823,776894.2935887823,859530.7935887823,942167.2935887823,1024803.7935887823,1107440.2935887822,1190076.7935887822,1272713.2935887822,1355349.7935887822,1437986.2935887822,1520622.7935887822,1603259.2935887822,1685895.7935887822,1768532.2935887822,1851168.7935887822,1933805.2935887822,2016441.7935887822],\"type\":\"scatter\",\"xaxis\":\"x\",\"yaxis\":\"y\"},{\"name\":\"EUA Jun24 75C\",\"x\":[30,31,32,33,34,35,36,37,38,39,40,41,42,43,44,45,46,47,48,49,50,51,52,53,54,55,56,57,58,59,60,61,62,63,64,65,66,67,68,69,70,71,72,73,74,75,76,77,78,79,80,81,82,83,84,85,86,87,88,89,90,91,92,93,94,95,96,97,98,99,100],\"y\":[0.0,0.0,0.0,0.0,0.0,0.0,0.0,0.0,0.0,0.0,0.0,0.0,0.0,0.0,0.0,0.0,0.0,0.0,0.0,0.0,0.0,0.0,0.0,0.0,0.0,0.0,0.0,0.0,0.0,0.0,0.0,0.0,0.0,0.0,0.0,0.0,0.0,0.0,0.0,0.0,0.0,0.0,0.0,0.0,0.0,null,50000.0,50000.0,50000.0,50000.0,50000.0,50000.0,50000.0,50000.0,50000.0,50000.0,50000.0,50000.0,50000.0,50000.0,50000.0,50000.0,50000.0,50000.0,50000.0,50000.0,50000.0,50000.0,50000.0,50000.0,50000.0],\"type\":\"scatter\",\"xaxis\":\"x2\",\"yaxis\":\"y2\"},{\"mode\":\"lines\",\"name\":\"Total_PnL\",\"x\":[30,31,32,33,34,35,36,37,38,39,40,41,42,43,44,45,46,47,48,49,50,51,52,53,54,55,56,57,58,59,60,61,62,63,64,65,66,67,68,69,70,71,72,73,74,75,76,77,78,79,80,81,82,83,84,85,86,87,88,89,90,91,92,93,94,95,96,97,98,99,100],\"y\":[-597233.6587926192,-597233.6587926192,-597233.6587926192,-597233.6587926192,-597233.6587926192,-597233.6587926192,-597233.6587926194,-597233.6587926194,-597233.6587926194,-597233.6587926194,-597233.6587926194,-514597.15879261954,-431960.6587926194,-349324.15879261954,-266687.65879261936,-184051.15879261936,-101414.65879261939,-18778.158792619426,63858.341207380574,146494.8412073806,229131.3412073806,229131.3412073806,229131.3412073806,229131.3412073806,229131.3412073806,229131.3412073806,229131.3412073806,229131.3412073806,229131.3412073806,229131.3412073806,229131.3412073806,229131.3412073806,229131.3412073806,229131.3412073806,229131.3412073806,229131.3412073806,146494.84120738058,63858.341207380574,-18778.158792619433,-101414.65879261945,-184051.15879261945,-266687.6587926195,-349324.1587926195,-431960.6587926195,-514597.1587926195,-597233.6587926194,-597233.6587926195,-597233.6587926195,-597233.6587926195,-597233.6587926195,-597233.6587926195,-597233.6587926196,-597233.6587926195,-597233.6587926195,-597233.6587926195,-597233.6587926195,-597233.6587926195,-597233.6587926195,-597233.6587926195,-597233.6587926194,-597233.6587926194,-597233.6587926194,-597233.6587926194,-597233.6587926194,-597233.6587926196,-597233.6587926196,-597233.6587926196,-597233.6587926196,-597233.6587926196,-597233.6587926196,-597233.6587926196],\"type\":\"scatter\",\"xaxis\":\"x\",\"yaxis\":\"y\"},{\"mode\":\"lines\",\"name\":\"Total_Delta\",\"x\":[30,31,32,33,34,35,36,37,38,39,40,41,42,43,44,45,46,47,48,49,50,51,52,53,54,55,56,57,58,59,60,61,62,63,64,65,66,67,68,69,70,71,72,73,74,75,76,77,78,79,80,81,82,83,84,85,86,87,88,89,90,91,92,93,94,95,96,97,98,99,100],\"y\":[0.0,0.0,0.0,0.0,0.0,0.0,0.0,0.0,0.0,0.0,50000.0,50000.0,50000.0,50000.0,50000.0,50000.0,50000.0,50000.0,50000.0,50000.0,0.0,0.0,0.0,0.0,0.0,0.0,0.0,0.0,0.0,0.0,0.0,0.0,0.0,0.0,0.0,0.0,-50000.0,-50000.0,-50000.0,-50000.0,-50000.0,-50000.0,-50000.0,-50000.0,-50000.0,-50000.0,0.0,0.0,0.0,0.0,0.0,0.0,0.0,0.0,0.0,0.0,0.0,0.0,0.0,0.0,0.0,0.0,0.0,0.0,0.0,0.0,0.0,0.0,0.0,0.0,0.0],\"type\":\"scatter\",\"xaxis\":\"x2\",\"yaxis\":\"y2\"}],                        {\"template\":{\"data\":{\"histogram2dcontour\":[{\"type\":\"histogram2dcontour\",\"colorbar\":{\"outlinewidth\":0,\"ticks\":\"\"},\"colorscale\":[[0.0,\"#0d0887\"],[0.1111111111111111,\"#46039f\"],[0.2222222222222222,\"#7201a8\"],[0.3333333333333333,\"#9c179e\"],[0.4444444444444444,\"#bd3786\"],[0.5555555555555556,\"#d8576b\"],[0.6666666666666666,\"#ed7953\"],[0.7777777777777778,\"#fb9f3a\"],[0.8888888888888888,\"#fdca26\"],[1.0,\"#f0f921\"]]}],\"choropleth\":[{\"type\":\"choropleth\",\"colorbar\":{\"outlinewidth\":0,\"ticks\":\"\"}}],\"histogram2d\":[{\"type\":\"histogram2d\",\"colorbar\":{\"outlinewidth\":0,\"ticks\":\"\"},\"colorscale\":[[0.0,\"#0d0887\"],[0.1111111111111111,\"#46039f\"],[0.2222222222222222,\"#7201a8\"],[0.3333333333333333,\"#9c179e\"],[0.4444444444444444,\"#bd3786\"],[0.5555555555555556,\"#d8576b\"],[0.6666666666666666,\"#ed7953\"],[0.7777777777777778,\"#fb9f3a\"],[0.8888888888888888,\"#fdca26\"],[1.0,\"#f0f921\"]]}],\"heatmap\":[{\"type\":\"heatmap\",\"colorbar\":{\"outlinewidth\":0,\"ticks\":\"\"},\"colorscale\":[[0.0,\"#0d0887\"],[0.1111111111111111,\"#46039f\"],[0.2222222222222222,\"#7201a8\"],[0.3333333333333333,\"#9c179e\"],[0.4444444444444444,\"#bd3786\"],[0.5555555555555556,\"#d8576b\"],[0.6666666666666666,\"#ed7953\"],[0.7777777777777778,\"#fb9f3a\"],[0.8888888888888888,\"#fdca26\"],[1.0,\"#f0f921\"]]}],\"heatmapgl\":[{\"type\":\"heatmapgl\",\"colorbar\":{\"outlinewidth\":0,\"ticks\":\"\"},\"colorscale\":[[0.0,\"#0d0887\"],[0.1111111111111111,\"#46039f\"],[0.2222222222222222,\"#7201a8\"],[0.3333333333333333,\"#9c179e\"],[0.4444444444444444,\"#bd3786\"],[0.5555555555555556,\"#d8576b\"],[0.6666666666666666,\"#ed7953\"],[0.7777777777777778,\"#fb9f3a\"],[0.8888888888888888,\"#fdca26\"],[1.0,\"#f0f921\"]]}],\"contourcarpet\":[{\"type\":\"contourcarpet\",\"colorbar\":{\"outlinewidth\":0,\"ticks\":\"\"}}],\"contour\":[{\"type\":\"contour\",\"colorbar\":{\"outlinewidth\":0,\"ticks\":\"\"},\"colorscale\":[[0.0,\"#0d0887\"],[0.1111111111111111,\"#46039f\"],[0.2222222222222222,\"#7201a8\"],[0.3333333333333333,\"#9c179e\"],[0.4444444444444444,\"#bd3786\"],[0.5555555555555556,\"#d8576b\"],[0.6666666666666666,\"#ed7953\"],[0.7777777777777778,\"#fb9f3a\"],[0.8888888888888888,\"#fdca26\"],[1.0,\"#f0f921\"]]}],\"surface\":[{\"type\":\"surface\",\"colorbar\":{\"outlinewidth\":0,\"ticks\":\"\"},\"colorscale\":[[0.0,\"#0d0887\"],[0.1111111111111111,\"#46039f\"],[0.2222222222222222,\"#7201a8\"],[0.3333333333333333,\"#9c179e\"],[0.4444444444444444,\"#bd3786\"],[0.5555555555555556,\"#d8576b\"],[0.6666666666666666,\"#ed7953\"],[0.7777777777777778,\"#fb9f3a\"],[0.8888888888888888,\"#fdca26\"],[1.0,\"#f0f921\"]]}],\"mesh3d\":[{\"type\":\"mesh3d\",\"colorbar\":{\"outlinewidth\":0,\"ticks\":\"\"}}],\"scatter\":[{\"fillpattern\":{\"fillmode\":\"overlay\",\"size\":10,\"solidity\":0.2},\"type\":\"scatter\"}],\"parcoords\":[{\"type\":\"parcoords\",\"line\":{\"colorbar\":{\"outlinewidth\":0,\"ticks\":\"\"}}}],\"scatterpolargl\":[{\"type\":\"scatterpolargl\",\"marker\":{\"colorbar\":{\"outlinewidth\":0,\"ticks\":\"\"}}}],\"bar\":[{\"error_x\":{\"color\":\"#2a3f5f\"},\"error_y\":{\"color\":\"#2a3f5f\"},\"marker\":{\"line\":{\"color\":\"#E5ECF6\",\"width\":0.5},\"pattern\":{\"fillmode\":\"overlay\",\"size\":10,\"solidity\":0.2}},\"type\":\"bar\"}],\"scattergeo\":[{\"type\":\"scattergeo\",\"marker\":{\"colorbar\":{\"outlinewidth\":0,\"ticks\":\"\"}}}],\"scatterpolar\":[{\"type\":\"scatterpolar\",\"marker\":{\"colorbar\":{\"outlinewidth\":0,\"ticks\":\"\"}}}],\"histogram\":[{\"marker\":{\"pattern\":{\"fillmode\":\"overlay\",\"size\":10,\"solidity\":0.2}},\"type\":\"histogram\"}],\"scattergl\":[{\"type\":\"scattergl\",\"marker\":{\"colorbar\":{\"outlinewidth\":0,\"ticks\":\"\"}}}],\"scatter3d\":[{\"type\":\"scatter3d\",\"line\":{\"colorbar\":{\"outlinewidth\":0,\"ticks\":\"\"}},\"marker\":{\"colorbar\":{\"outlinewidth\":0,\"ticks\":\"\"}}}],\"scattermapbox\":[{\"type\":\"scattermapbox\",\"marker\":{\"colorbar\":{\"outlinewidth\":0,\"ticks\":\"\"}}}],\"scatterternary\":[{\"type\":\"scatterternary\",\"marker\":{\"colorbar\":{\"outlinewidth\":0,\"ticks\":\"\"}}}],\"scattercarpet\":[{\"type\":\"scattercarpet\",\"marker\":{\"colorbar\":{\"outlinewidth\":0,\"ticks\":\"\"}}}],\"carpet\":[{\"aaxis\":{\"endlinecolor\":\"#2a3f5f\",\"gridcolor\":\"white\",\"linecolor\":\"white\",\"minorgridcolor\":\"white\",\"startlinecolor\":\"#2a3f5f\"},\"baxis\":{\"endlinecolor\":\"#2a3f5f\",\"gridcolor\":\"white\",\"linecolor\":\"white\",\"minorgridcolor\":\"white\",\"startlinecolor\":\"#2a3f5f\"},\"type\":\"carpet\"}],\"table\":[{\"cells\":{\"fill\":{\"color\":\"#EBF0F8\"},\"line\":{\"color\":\"white\"}},\"header\":{\"fill\":{\"color\":\"#C8D4E3\"},\"line\":{\"color\":\"white\"}},\"type\":\"table\"}],\"barpolar\":[{\"marker\":{\"line\":{\"color\":\"#E5ECF6\",\"width\":0.5},\"pattern\":{\"fillmode\":\"overlay\",\"size\":10,\"solidity\":0.2}},\"type\":\"barpolar\"}],\"pie\":[{\"automargin\":true,\"type\":\"pie\"}]},\"layout\":{\"autotypenumbers\":\"strict\",\"colorway\":[\"#636efa\",\"#EF553B\",\"#00cc96\",\"#ab63fa\",\"#FFA15A\",\"#19d3f3\",\"#FF6692\",\"#B6E880\",\"#FF97FF\",\"#FECB52\"],\"font\":{\"color\":\"#2a3f5f\"},\"hovermode\":\"closest\",\"hoverlabel\":{\"align\":\"left\"},\"paper_bgcolor\":\"white\",\"plot_bgcolor\":\"#E5ECF6\",\"polar\":{\"bgcolor\":\"#E5ECF6\",\"angularaxis\":{\"gridcolor\":\"white\",\"linecolor\":\"white\",\"ticks\":\"\"},\"radialaxis\":{\"gridcolor\":\"white\",\"linecolor\":\"white\",\"ticks\":\"\"}},\"ternary\":{\"bgcolor\":\"#E5ECF6\",\"aaxis\":{\"gridcolor\":\"white\",\"linecolor\":\"white\",\"ticks\":\"\"},\"baxis\":{\"gridcolor\":\"white\",\"linecolor\":\"white\",\"ticks\":\"\"},\"caxis\":{\"gridcolor\":\"white\",\"linecolor\":\"white\",\"ticks\":\"\"}},\"coloraxis\":{\"colorbar\":{\"outlinewidth\":0,\"ticks\":\"\"}},\"colorscale\":{\"sequential\":[[0.0,\"#0d0887\"],[0.1111111111111111,\"#46039f\"],[0.2222222222222222,\"#7201a8\"],[0.3333333333333333,\"#9c179e\"],[0.4444444444444444,\"#bd3786\"],[0.5555555555555556,\"#d8576b\"],[0.6666666666666666,\"#ed7953\"],[0.7777777777777778,\"#fb9f3a\"],[0.8888888888888888,\"#fdca26\"],[1.0,\"#f0f921\"]],\"sequentialminus\":[[0.0,\"#0d0887\"],[0.1111111111111111,\"#46039f\"],[0.2222222222222222,\"#7201a8\"],[0.3333333333333333,\"#9c179e\"],[0.4444444444444444,\"#bd3786\"],[0.5555555555555556,\"#d8576b\"],[0.6666666666666666,\"#ed7953\"],[0.7777777777777778,\"#fb9f3a\"],[0.8888888888888888,\"#fdca26\"],[1.0,\"#f0f921\"]],\"diverging\":[[0,\"#8e0152\"],[0.1,\"#c51b7d\"],[0.2,\"#de77ae\"],[0.3,\"#f1b6da\"],[0.4,\"#fde0ef\"],[0.5,\"#f7f7f7\"],[0.6,\"#e6f5d0\"],[0.7,\"#b8e186\"],[0.8,\"#7fbc41\"],[0.9,\"#4d9221\"],[1,\"#276419\"]]},\"xaxis\":{\"gridcolor\":\"white\",\"linecolor\":\"white\",\"ticks\":\"\",\"title\":{\"standoff\":15},\"zerolinecolor\":\"white\",\"automargin\":true,\"zerolinewidth\":2},\"yaxis\":{\"gridcolor\":\"white\",\"linecolor\":\"white\",\"ticks\":\"\",\"title\":{\"standoff\":15},\"zerolinecolor\":\"white\",\"automargin\":true,\"zerolinewidth\":2},\"scene\":{\"xaxis\":{\"backgroundcolor\":\"#E5ECF6\",\"gridcolor\":\"white\",\"linecolor\":\"white\",\"showbackground\":true,\"ticks\":\"\",\"zerolinecolor\":\"white\",\"gridwidth\":2},\"yaxis\":{\"backgroundcolor\":\"#E5ECF6\",\"gridcolor\":\"white\",\"linecolor\":\"white\",\"showbackground\":true,\"ticks\":\"\",\"zerolinecolor\":\"white\",\"gridwidth\":2},\"zaxis\":{\"backgroundcolor\":\"#E5ECF6\",\"gridcolor\":\"white\",\"linecolor\":\"white\",\"showbackground\":true,\"ticks\":\"\",\"zerolinecolor\":\"white\",\"gridwidth\":2}},\"shapedefaults\":{\"line\":{\"color\":\"#2a3f5f\"}},\"annotationdefaults\":{\"arrowcolor\":\"#2a3f5f\",\"arrowhead\":0,\"arrowwidth\":1},\"geo\":{\"bgcolor\":\"white\",\"landcolor\":\"#E5ECF6\",\"subunitcolor\":\"white\",\"showland\":true,\"showlakes\":true,\"lakecolor\":\"white\"},\"title\":{\"x\":0.05},\"mapbox\":{\"style\":\"light\"}}},\"xaxis\":{\"anchor\":\"y\",\"domain\":[0.0,0.45],\"title\":{\"text\":\"Price\"}},\"yaxis\":{\"anchor\":\"x\",\"domain\":[0.0,1.0],\"title\":{\"text\":\"Pnl\"}},\"xaxis2\":{\"anchor\":\"y2\",\"domain\":[0.55,1.0],\"title\":{\"text\":\"Price\"}},\"yaxis2\":{\"anchor\":\"x2\",\"domain\":[0.0,1.0],\"title\":{\"text\":\"Delta\"}},\"title\":{\"text\":\"Todays Option Pos (PnL and Delta)\",\"x\":0.5,\"xanchor\":\"center\"},\"barmode\":\"stack\"},                        {\"responsive\": true}                    ).then(function(){\n",
       "                            \n",
       "var gd = document.getElementById('e04c4ed1-0840-47c1-958b-914c4370e691');\n",
       "var x = new MutationObserver(function (mutations, observer) {{\n",
       "        var display = window.getComputedStyle(gd).display;\n",
       "        if (!display || display === 'none') {{\n",
       "            console.log([gd, 'removed!']);\n",
       "            Plotly.purge(gd);\n",
       "            observer.disconnect();\n",
       "        }}\n",
       "}});\n",
       "\n",
       "// Listen for the removal of the full notebook cells\n",
       "var notebookContainer = gd.closest('#notebook-container');\n",
       "if (notebookContainer) {{\n",
       "    x.observe(notebookContainer, {childList: true});\n",
       "}}\n",
       "\n",
       "// Listen for the clearing of the current output cell\n",
       "var outputEl = gd.closest('.output');\n",
       "if (outputEl) {{\n",
       "    x.observe(outputEl, {childList: true});\n",
       "}}\n",
       "\n",
       "                        })                };                });            </script>        </div>"
      ]
     },
     "metadata": {},
     "output_type": "display_data"
    }
   ],
   "source": [
    "pnl_delta_plot(end_of_year)"
   ]
  },
  {
   "cell_type": "code",
   "execution_count": 21,
   "id": "175af9cd",
   "metadata": {},
   "outputs": [],
   "source": [
    "### THIS IS FOR PLOTTING THETA AND VEGA\n",
    "\n",
    "#fig_t = go.Figure()\n",
    "#for i in list(t)[1:-1]:\n",
    "#    fig_t.add_trace(go.Bar(x=t.Price, y=t[i], name=i, base=0))\n",
    "#\n",
    "#fig_t.add_trace(go.Scatter(x=t.Price, y=t.Option_Theta, mode='lines', name='Total_Theta'))\n",
    "#\n",
    "#\n",
    "#~~~~~~~~~~~~~~~~~~~~~~~~~~~~~~~~~~~~~~~~~~~~~~~~~~~~~~~~~~~~~~~~~~~~~~~~~~~~~~~~~\n",
    "#fig_v = go.Figure()\n",
    "#for i in list(v)[1:-1]:\n",
    "#    fig_v.add_trace(go.Bar(x=v.Price, y=v[i], name=i, base=0))\n",
    "#\n",
    "#fig_v.add_trace(go.Scatter(x=v.Price, y=v.Option_Vega, mode='lines', name='Total_Vega'))\n",
    "#\n",
    "##~~~~~~~~~~~~~~~~~~~~~~~~~~~~~~~~~~~~~~~~~~~~~~~~~~~~~~~~~~~~~~~~~~~~~~~~~~~~~~~~\n",
    "#fig = make_subplots(rows=1, cols=2)\n",
    "#for i in range(0,len(fig_p.data)):\n",
    "#    fig.add_trace(fig_t.data[i], row=1, col=1)\n",
    "#    fig.add_trace(fig_v.data[i], row=1, col=2)\n",
    "#   \n",
    "#fig.update_layout(title={'text': 'Todays Option Pos (Theta and Vega)','x': 0.5,'xanchor': 'center'}, barmode='stack')\n",
    "#\n",
    "#fig.update_xaxes(title_text=\"Price\", row=1, col=1)\n",
    "#fig.update_yaxes(title_text=\"Theta\", row=1, col=1)\n",
    "#fig.update_xaxes(title_text=\"Price\", row=1, col=2)\n",
    "#fig.update_yaxes(title_text=\"Vega\", row=1, col=2)    \n",
    "#fig.show()  "
   ]
  }
 ],
 "metadata": {
  "kernelspec": {
   "display_name": "Python 3 (ipykernel)",
   "language": "python",
   "name": "python3"
  },
  "language_info": {
   "codemirror_mode": {
    "name": "ipython",
    "version": 3
   },
   "file_extension": ".py",
   "mimetype": "text/x-python",
   "name": "python",
   "nbconvert_exporter": "python",
   "pygments_lexer": "ipython3",
   "version": "3.8.16"
  },
  "toc": {
   "base_numbering": 1,
   "nav_menu": {},
   "number_sections": true,
   "sideBar": true,
   "skip_h1_title": false,
   "title_cell": "Table of Contents",
   "title_sidebar": "Contents",
   "toc_cell": false,
   "toc_position": {},
   "toc_section_display": true,
   "toc_window_display": false
  },
  "varInspector": {
   "cols": {
    "lenName": 16,
    "lenType": 16,
    "lenVar": 40
   },
   "kernels_config": {
    "python": {
     "delete_cmd_postfix": "",
     "delete_cmd_prefix": "del ",
     "library": "var_list.py",
     "varRefreshCmd": "print(var_dic_list())"
    },
    "r": {
     "delete_cmd_postfix": ") ",
     "delete_cmd_prefix": "rm(",
     "library": "var_list.r",
     "varRefreshCmd": "cat(var_dic_list()) "
    }
   },
   "types_to_exclude": [
    "module",
    "function",
    "builtin_function_or_method",
    "instance",
    "_Feature"
   ],
   "window_display": false
  }
 },
 "nbformat": 4,
 "nbformat_minor": 5
}
