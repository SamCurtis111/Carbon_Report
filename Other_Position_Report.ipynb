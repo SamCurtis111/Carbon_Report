{
 "cells": [
  {
   "cell_type": "code",
   "execution_count": 1,
   "id": "bba20152",
   "metadata": {},
   "outputs": [],
   "source": [
    "import warnings\n",
    "warnings.filterwarnings('ignore', category=RuntimeWarning)\n",
    "\n",
    "import pandas as pd\n",
    "import plotly.graph_objects as go\n",
    "from plotly.subplots import make_subplots\n",
    "import plotly\n",
    "\n",
    "import datetime as dt\n",
    "from datetime import datetime, timedelta\n",
    "import calendar\n",
    "\n",
    "import openpyxl\n",
    "from openpyxl.utils.dataframe import dataframe_to_rows\n",
    "\n",
    "from Position_Report_Calcs import Position_Reporting"
   ]
  },
  {
   "cell_type": "code",
   "execution_count": 2,
   "id": "9b481c4e",
   "metadata": {},
   "outputs": [
    {
     "data": {
      "text/html": [
       "        <script type=\"text/javascript\">\n",
       "        window.PlotlyConfig = {MathJaxConfig: 'local'};\n",
       "        if (window.MathJax && window.MathJax.Hub && window.MathJax.Hub.Config) {window.MathJax.Hub.Config({SVG: {font: \"STIX-Web\"}});}\n",
       "        if (typeof require !== 'undefined') {\n",
       "        require.undef(\"plotly\");\n",
       "        requirejs.config({\n",
       "            paths: {\n",
       "                'plotly': ['https://cdn.plot.ly/plotly-2.12.1.min']\n",
       "            }\n",
       "        });\n",
       "        require(['plotly'], function(Plotly) {\n",
       "            window._Plotly = Plotly;\n",
       "        });\n",
       "        }\n",
       "        </script>\n",
       "        "
      ]
     },
     "metadata": {},
     "output_type": "display_data"
    }
   ],
   "source": [
    "plotly.offline.init_notebook_mode(connected=True)"
   ]
  },
  {
   "cell_type": "code",
   "execution_count": 3,
   "id": "0ce5e199-69f3-444d-9b2b-73c33a5b9700",
   "metadata": {},
   "outputs": [],
   "source": [
    "def reporting_date(run_date='today'):\n",
    "    if run_date=='today':\n",
    "        current_date = dt.datetime.today().date()\n",
    "        current_year = current_date.year\n",
    "    else:\n",
    "        current_date = run_date\n",
    "        current_year = current_date.year\n",
    "    return current_date, current_year\n",
    "        \n",
    "#current_date, current_year = reporting_date(run_date = dt.datetime.strptime('21-06-2024', '%d-%m-%Y').date())    # for a specific date\n",
    "current_date, current_year = reporting_date()    # as at today"
   ]
  },
  {
   "cell_type": "code",
   "execution_count": 4,
   "id": "fcd8bc16-f481-4c95-a1d6-554b455d3df1",
   "metadata": {},
   "outputs": [],
   "source": [
    "def get_month_year(months_fwd):   # This is incase the months fwd overlaps into a different year\n",
    "    current_date = dt.datetime.today().date()\n",
    "    month = current_date.month + months_fwd\n",
    "    year = current_date.year\n",
    "    if month > 12:\n",
    "        month -=12\n",
    "        year += 1\n",
    "        \n",
    "    _, last_day_of_month = calendar.monthrange(year, month)\n",
    "    date_to_use = dt.date(year, month, last_day_of_month)\n",
    "    return date_to_use"
   ]
  },
  {
   "cell_type": "code",
   "execution_count": 5,
   "id": "3ca5488c",
   "metadata": {},
   "outputs": [],
   "source": [
    "## Read in the position data\n",
    "mkts = ['ACCU','NZU','EUA','OTHER']\n",
    "\n",
    "positions = dict()\n",
    "for m in mkts:\n",
    "    positions[m] = pd.read_excel('Positions.xlsx', sheet_name=m)\n",
    "    positions[m]['Expiry'] = pd.to_datetime(positions[m].Expiry).dt.date\n",
    "\n",
    "premiums = pd.read_excel('Positions.xlsx', sheet_name='Index') "
   ]
  },
  {
   "cell_type": "code",
   "execution_count": 6,
   "id": "557de5c9",
   "metadata": {},
   "outputs": [],
   "source": [
    "## Define the dates we want to use for reporting\n",
    "#current_date = dt.datetime.today().date()\n",
    "#current_year = str(dt.datetime.today().date().year)\n",
    "\n",
    "_, last_day = calendar.monthrange(current_date.year, current_date.month)\n",
    "end_of_month = dt.date(current_date.year, current_date.month, last_day)\n",
    "two_months = get_month_year(2)\n",
    "three_months = get_month_year(3)\n",
    "four_months = get_month_year(4)\n",
    "five_months = get_month_year(5)\n",
    "six_months = get_month_year(6)\n",
    "\n",
    "dec_exp = dt.datetime.strptime('16-12-2025', '%d-%m-%Y').date()\n",
    "\n",
    "## MORE GRANULAR ##\n",
    "# Get the current date\n",
    "today = datetime.now()\n",
    "# Calculate the number of days until the next Saturday (because we want the full friday session)\n",
    "days_until_saturday = (5 - today.weekday()) % 7  # Saturday is weekday 5\n",
    "# Get the date of the end of the current week (this coming Saturday)\n",
    "end_of_this_week_saturday = today + timedelta(days=days_until_saturday)\n",
    "# Get the end of next week by adding 7 more days\n",
    "end_this_wk = end_of_this_week_saturday.date()\n",
    "four_days = today + timedelta(days=4)\n",
    "four_days = four_days.date()\n",
    "end_next_wk= end_of_this_week_saturday + timedelta(weeks=1)\n",
    "end_next_wk = end_next_wk.date()\n",
    "end_two_wk = end_of_this_week_saturday + timedelta(weeks=2)\n",
    "end_two_wk = end_two_wk.date()\n",
    "\n",
    "dates_names = ['today','End of This Wk','Four Days','End of Next Wk','End of 2 Wks','EoM','2 Months','3 Months','4 Months', '5 Months', '6 Months', 'Dec Expiry']\n",
    "dates_values = [current_date, end_this_wk, four_days, end_next_wk, end_two_wk, end_of_month, two_months, three_months, four_months, five_months, six_months, dec_exp]"
   ]
  },
  {
   "cell_type": "code",
   "execution_count": 7,
   "id": "d56c3bd8",
   "metadata": {},
   "outputs": [],
   "source": [
    "dates = dict()\n",
    "for i in list(range(0,len(dates_names))):\n",
    "    dates[dates_names[i]] = dates_values[i]"
   ]
  },
  {
   "cell_type": "code",
   "execution_count": 8,
   "id": "c9bcfcb0",
   "metadata": {},
   "outputs": [],
   "source": [
    "current_spot = positions['OTHER']\n",
    "current_spot = current_spot[current_spot.Type=='Spot'].reset_index(drop=True)\n",
    "current_spot = current_spot['Price'][0]"
   ]
  },
  {
   "cell_type": "markdown",
   "id": "756bb0ec",
   "metadata": {},
   "source": [
    "# OTHER Position Report\n",
    "All PnL figures are in AUD"
   ]
  },
  {
   "cell_type": "code",
   "execution_count": 9,
   "id": "659c3281",
   "metadata": {},
   "outputs": [],
   "source": [
    "other = dict()\n",
    "workbook = openpyxl.Workbook()\n",
    "\n",
    "for i,d in enumerate(dates_values):\n",
    "    other[d] = Position_Reporting(positions, 'OTHER', d).combine_frame()\n",
    "    \n",
    "    sheet_name = dates_names[i]\n",
    "    sheet = workbook.create_sheet(title=sheet_name)\n",
    "    \n",
    "    for row in dataframe_to_rows(other[d][0], index=False, header=True):\n",
    "        sheet.append(row)\n",
    "    \n",
    "workbook.save('Other PnL Output.xlsx')    "
   ]
  },
  {
   "cell_type": "code",
   "execution_count": 10,
   "id": "fb9d8c7f",
   "metadata": {},
   "outputs": [],
   "source": [
    "# data type; 0=PnL, 1=Delta, 2=Option Theta, 3=Option Vega\n",
    "def generate_summary_plots(mkt_data, data_type):\n",
    "    if data_type==0:\n",
    "        colname='Total_Pnl'\n",
    "    elif data_type==1:\n",
    "        colname='Total_Delta'\n",
    "    elif data_type==2:\n",
    "        colname='Option_Theta'\n",
    "    elif data_type==3:\n",
    "        colname='Option_Vega'\n",
    "    fig = go.Figure()\n",
    "    for i in list(range(0, len(dates_names))):\n",
    "        date_value = dates_values[i]\n",
    "        date_name = dates_names[i]\n",
    "        fig.add_trace(go.Scatter(x=mkt_data[date_value][data_type].Price, y=mkt_data[date_value][data_type][colname], name=date_name))\n",
    "    return fig"
   ]
  },
  {
   "cell_type": "code",
   "execution_count": 11,
   "id": "4708cc1d",
   "metadata": {},
   "outputs": [],
   "source": [
    "#fig_d = generate_summary_plots(other, 1)\n",
    "#fig_p = generate_summary_plots(other, 0)\n",
    "#fig_t = generate_summary_plots(other,2)\n",
    "#fig_v = generate_summary_plots(other,3)"
   ]
  },
  {
   "cell_type": "code",
   "execution_count": 12,
   "id": "ff94b9f0",
   "metadata": {},
   "outputs": [],
   "source": [
    "#fig = make_subplots(rows=1, cols=2)\n",
    "#for i in range(0,len(fig_d.data)):\n",
    "#    fig.add_trace(fig_p.data[i], row=1, col=1)\n",
    "#    fig.add_trace(fig_d.data[i], row=1, col=2)\n",
    "#\n",
    "#fig.update_layout(title={'text': 'OTHER Position (PnL and Delta)','x': 0.5,'xanchor': 'center'})\n",
    "#\n",
    "#fig.update_xaxes(title_text=\"Price\", row=1, col=1)\n",
    "#fig.update_yaxes(title_text=\"PnL\", row=1, col=1)\n",
    "#fig.update_xaxes(title_text=\"Price\", row=1, col=2)\n",
    "#fig.update_yaxes(title_text=\"Delta\", row=1, col=2)\n",
    "#\n",
    "#fig.add_vline(x=current_spot, line_width=1, line_dash=\"dash\", line_color=\"green\")\n",
    "#\n",
    "#fig.show()"
   ]
  },
  {
   "cell_type": "code",
   "execution_count": 13,
   "id": "795643ae",
   "metadata": {},
   "outputs": [],
   "source": [
    "#fig = make_subplots(rows=1, cols=2)\n",
    "#for i in range(0,len(fig_d.data)):\n",
    "#    fig.add_trace(fig_t.data[i], row=1, col=1)\n",
    "#    fig.add_trace(fig_v.data[i], row=1, col=2)\n",
    "#\n",
    "#fig.update_layout(title={'text': 'OTHER Position (Theta and Vega)','x': 0.5,'xanchor': 'center'})\n",
    "#\n",
    "#fig.update_xaxes(title_text=\"Price\", row=1, col=1)\n",
    "#fig.update_yaxes(title_text=\"Theta\", row=1, col=1)\n",
    "#fig.update_xaxes(title_text=\"Price\", row=1, col=2)\n",
    "#fig.update_yaxes(title_text=\"Vega\", row=1, col=2)\n",
    "#fig.show()"
   ]
  },
  {
   "cell_type": "code",
   "execution_count": 14,
   "id": "c201f2c6",
   "metadata": {},
   "outputs": [],
   "source": [
    "## USE THIS STYLE OF GRAPHING FOR TODAY DATE ENTRY ##\n",
    "#position_functions = Position_Reporting(positions, 'OTHER', current_date)\n",
    "#pnl, delta, theta, vega, value = position_functions.combine_frame()\n",
    "#\n",
    "#fig_d = go.Figure()\n",
    "#\n",
    "#fig_d.add_trace(go.Bar(x=delta.Price, y=delta.Spot, name='Spot', base=0))\n",
    "#fig_d.add_trace(go.Bar(x=delta.Price, y=delta.Fwds, name='Fwds', base=0))\n",
    "#fig_d.add_trace(go.Bar(x=delta.Price, y=delta.Options, name='Options', base=0))\n",
    "#fig_d.add_trace(go.Scatter(x=delta.Price, y=delta.Total_Delta, mode='lines', name='Total_Delta'))\n",
    "#\n",
    "#\n",
    "##~~~~~~~~~~~~~~~~~~~~~~~~~~~~~~~~~\n",
    "#fig_p = go.Figure()\n",
    "#\n",
    "#fig_p.add_trace(go.Bar(x=pnl.Price, y=pnl.Spot, name='Spot', base=0))\n",
    "#fig_p.add_trace(go.Bar(x=pnl.Price, y=pnl.Fwds, name='Fwds', base=0))\n",
    "#fig_p.add_trace(go.Bar(x=pnl.Price, y=pnl.Options, name='Options', base=0))\n",
    "#fig_p.add_trace(go.Scatter(x=pnl.Price, y=pnl.Total_Pnl, mode='lines', name='Total_PnL'))\n",
    "#\n",
    "#\n",
    "##~~~~~~~~~~~~~~~~~~~~~~~~~~~~~~~\n",
    "#fig = make_subplots(rows=1, cols=2)\n",
    "#for i in range(0,len(fig_d.data)):\n",
    "#    fig.add_trace(fig_d.data[i], row=1, col=2)\n",
    "#    fig.add_trace(fig_p.data[i], row=1, col=1)\n",
    "#    \n",
    "#fig.update_layout(title={'text': 'Todays OTHER Pos (PnL and Delta)','x': 0.5,'xanchor': 'center'}, barmode='stack')\n",
    "#\n",
    "#fig.update_xaxes(title_text=\"Price\", row=1, col=1)\n",
    "#fig.update_yaxes(title_text=\"Pnl\", row=1, col=1)\n",
    "#fig.update_xaxes(title_text=\"Price\", row=1, col=2)\n",
    "#fig.update_yaxes(title_text=\"Delta\", row=1, col=2)    \n",
    "#fig.show()  "
   ]
  },
  {
   "cell_type": "markdown",
   "id": "d2ae8345",
   "metadata": {},
   "source": [
    "### Positions"
   ]
  },
  {
   "cell_type": "code",
   "execution_count": 15,
   "id": "7cc76593",
   "metadata": {},
   "outputs": [
    {
     "data": {
      "text/html": [
       "<div>\n",
       "<style scoped>\n",
       "    .dataframe tbody tr th:only-of-type {\n",
       "        vertical-align: middle;\n",
       "    }\n",
       "\n",
       "    .dataframe tbody tr th {\n",
       "        vertical-align: top;\n",
       "    }\n",
       "\n",
       "    .dataframe thead th {\n",
       "        text-align: right;\n",
       "    }\n",
       "</style>\n",
       "<table border=\"1\" class=\"dataframe\">\n",
       "  <thead>\n",
       "    <tr style=\"text-align: right;\">\n",
       "      <th></th>\n",
       "      <th>Name</th>\n",
       "      <th>Type</th>\n",
       "      <th>Subtype</th>\n",
       "      <th>Strike</th>\n",
       "      <th>Vol</th>\n",
       "      <th>Expiry</th>\n",
       "      <th>Qty</th>\n",
       "      <th>Price</th>\n",
       "      <th>Rate</th>\n",
       "      <th>FX</th>\n",
       "    </tr>\n",
       "  </thead>\n",
       "  <tbody>\n",
       "    <tr>\n",
       "      <th>0</th>\n",
       "      <td>EUA Dec25</td>\n",
       "      <td>Spot</td>\n",
       "      <td>NaN</td>\n",
       "      <td>NaN</td>\n",
       "      <td>NaN</td>\n",
       "      <td>NaT</td>\n",
       "      <td>0</td>\n",
       "      <td>72.670000</td>\n",
       "      <td>0.0249</td>\n",
       "      <td>1.64012</td>\n",
       "    </tr>\n",
       "    <tr>\n",
       "      <th>1</th>\n",
       "      <td>EUA Mar25 75C</td>\n",
       "      <td>Option</td>\n",
       "      <td>Call</td>\n",
       "      <td>75.0</td>\n",
       "      <td>0.346185</td>\n",
       "      <td>2025-03-26</td>\n",
       "      <td>75000</td>\n",
       "      <td>2.013557</td>\n",
       "      <td>0.0249</td>\n",
       "      <td>1.64012</td>\n",
       "    </tr>\n",
       "    <tr>\n",
       "      <th>2</th>\n",
       "      <td>EUA Mar25 80C</td>\n",
       "      <td>Option</td>\n",
       "      <td>Call</td>\n",
       "      <td>80.0</td>\n",
       "      <td>0.340742</td>\n",
       "      <td>2025-03-26</td>\n",
       "      <td>250000</td>\n",
       "      <td>0.714685</td>\n",
       "      <td>0.0249</td>\n",
       "      <td>1.64012</td>\n",
       "    </tr>\n",
       "    <tr>\n",
       "      <th>3</th>\n",
       "      <td>EUA Mar25 85C</td>\n",
       "      <td>Option</td>\n",
       "      <td>Call</td>\n",
       "      <td>85.0</td>\n",
       "      <td>0.345433</td>\n",
       "      <td>2025-03-26</td>\n",
       "      <td>325000</td>\n",
       "      <td>0.226147</td>\n",
       "      <td>0.0249</td>\n",
       "      <td>1.64012</td>\n",
       "    </tr>\n",
       "    <tr>\n",
       "      <th>4</th>\n",
       "      <td>EUA Mar25 90C</td>\n",
       "      <td>Option</td>\n",
       "      <td>Call</td>\n",
       "      <td>90.0</td>\n",
       "      <td>0.358682</td>\n",
       "      <td>2025-03-26</td>\n",
       "      <td>350000</td>\n",
       "      <td>0.073714</td>\n",
       "      <td>0.0249</td>\n",
       "      <td>1.64012</td>\n",
       "    </tr>\n",
       "  </tbody>\n",
       "</table>\n",
       "</div>"
      ],
      "text/plain": [
       "            Name    Type Subtype  Strike       Vol      Expiry     Qty  \\\n",
       "0      EUA Dec25    Spot     NaN     NaN       NaN         NaT       0   \n",
       "1  EUA Mar25 75C  Option    Call    75.0  0.346185  2025-03-26   75000   \n",
       "2  EUA Mar25 80C  Option    Call    80.0  0.340742  2025-03-26  250000   \n",
       "3  EUA Mar25 85C  Option    Call    85.0  0.345433  2025-03-26  325000   \n",
       "4  EUA Mar25 90C  Option    Call    90.0  0.358682  2025-03-26  350000   \n",
       "\n",
       "       Price    Rate       FX  \n",
       "0  72.670000  0.0249  1.64012  \n",
       "1   2.013557  0.0249  1.64012  \n",
       "2   0.714685  0.0249  1.64012  \n",
       "3   0.226147  0.0249  1.64012  \n",
       "4   0.073714  0.0249  1.64012  "
      ]
     },
     "execution_count": 15,
     "metadata": {},
     "output_type": "execute_result"
    }
   ],
   "source": [
    "positions['OTHER']"
   ]
  },
  {
   "cell_type": "code",
   "execution_count": 16,
   "id": "e2a919b9",
   "metadata": {},
   "outputs": [],
   "source": [
    "# Options for timing are: [current_date, end_of_month, one_month, three_months, six_months, end_of_year, end_of_feb, march_expiry]\n",
    "\n",
    "def pnl_delta_plot(timing):\n",
    "    position_functions = Position_Reporting(positions, 'OTHER', timing)\n",
    "    p,d,t,v, value = position_functions.options()\n",
    "    fig_p = go.Figure()\n",
    "    for i in list(p)[1:-1]:\n",
    "        fig_p.add_trace(go.Scatter(x=p.Price, y=p[i], name=i))\n",
    "\n",
    "    fig_p.add_trace(go.Scatter(x=p.Price, y=p.Option_Pnl, mode='lines', name='Total_PnL'))\n",
    "\n",
    "    #fig_p.update_layout(title='Option PnL Today', xaxis_title='Price', yaxis_title='pnl', barmode='stack')\n",
    "    #fig_p.show()\n",
    "\n",
    "    #~~~~~~~~~~~~~~~~~~~~~~~~~~~~~~~~~~~~~~~~~~~~~~~~~~~~~~~~~~~~~~~~~~~~~~~~~~~~~~~~~\n",
    "    fig_d = go.Figure()\n",
    "    for i in list(d)[1:-1]:\n",
    "        fig_d.add_trace(go.Scatter(x=d.Price, y=d[i], name=i))\n",
    "\n",
    "    fig_d.add_trace(go.Scatter(x=d.Price, y=d.Option_Delta, mode='lines', name='Total_Delta'))\n",
    "\n",
    "    #~~~~~~~~~~~~~~~~~~~~~~~~~~~~~~~~~~~~~~~~~~~~~~~~~~~~~~~~~~~~~~~~~~~~~~~~~~~~~~~~\n",
    "    fig = make_subplots(rows=1, cols=2)\n",
    "    for i in range(0,len(fig_p.data)):\n",
    "        fig.add_trace(fig_p.data[i], row=1, col=1)\n",
    "        fig.add_trace(fig_d.data[i], row=1, col=2)\n",
    "\n",
    "    fig.update_layout(title={'text': 'Todays Option Pos (PnL and Delta)','x': 0.5,'xanchor': 'center'}, barmode='stack')\n",
    "\n",
    "    fig.update_xaxes(title_text=\"Price\", row=1, col=1)\n",
    "    fig.update_yaxes(title_text=\"Pnl\", row=1, col=1)\n",
    "    fig.update_xaxes(title_text=\"Price\", row=1, col=2)\n",
    "    fig.update_yaxes(title_text=\"Delta\", row=1, col=2)    \n",
    "    fig.show()  "
   ]
  },
  {
   "cell_type": "markdown",
   "id": "614a4b0f",
   "metadata": {},
   "source": [
    "## Current Date"
   ]
  },
  {
   "cell_type": "code",
   "execution_count": 17,
   "id": "8fab91a0",
   "metadata": {},
   "outputs": [
    {
     "data": {
      "application/vnd.plotly.v1+json": {
       "config": {
        "plotlyServerURL": "https://plot.ly"
       },
       "data": [
        {
         "name": "EUA Mar25 75C",
         "type": "scatter",
         "x": [
          20,
          21,
          22,
          23,
          24,
          25,
          26,
          27,
          28,
          29,
          30,
          31,
          32,
          33,
          34,
          35,
          36,
          37,
          38,
          39,
          40,
          41,
          42,
          43,
          44,
          45,
          46,
          47,
          48,
          49,
          50,
          51,
          52,
          53,
          54,
          55,
          56,
          57,
          58,
          59,
          60,
          61,
          62,
          63,
          64,
          65,
          66,
          67,
          68,
          69,
          70,
          71,
          72,
          73,
          74,
          75,
          76,
          77,
          78,
          79,
          80,
          81,
          82,
          83,
          84,
          85,
          86,
          87,
          88,
          89,
          90,
          91,
          92,
          93,
          94,
          95,
          96,
          97,
          98,
          99,
          100
         ],
         "xaxis": "x",
         "y": [
          -247685.6730499249,
          -247685.6730499249,
          -247685.6730499249,
          -247685.6730499249,
          -247685.6730499249,
          -247685.6730499249,
          -247685.6730499249,
          -247685.6730499249,
          -247685.6730499249,
          -247685.6730499249,
          -247685.6730499249,
          -247685.6730499249,
          -247685.6730499249,
          -247685.6730499248,
          -247685.6730499237,
          -247685.67304991436,
          -247685.6730498445,
          -247685.6730493838,
          -247685.67304667752,
          -247685.67303241734,
          -247685.67296452518,
          -247685.6726705708,
          -247685.67150615135,
          -247685.66726286922,
          -247685.65296523235,
          -247685.60821092036,
          -247685.4775036107,
          -247685.1198953301,
          -247684.19990899414,
          -247681.96669009607,
          -247676.83495614355,
          -247665.63818668443,
          -247642.3763369232,
          -247596.23740265224,
          -247508.6503210245,
          -247349.14553881483,
          -247069.87789991556,
          -246598.8159385149,
          -245831.82009504648,
          -244624.0993021751,
          -242781.81153124318,
          -240054.8062057814,
          -236131.63819173357,
          -230637.96708153092,
          -223139.2664585971,
          -213148.41120478645,
          -200138.2248316659,
          -183558.518589129,
          -162856.62035882843,
          -137499.95466246945,
          -106998.96086211757,
          -70928.56332418496,
          -28946.54095378409,
          19192.541518529182,
          73628.73227224311,
          134393.801065678,
          201413.92734515062,
          274517.3878718034,
          353446.31934277323,
          437871.4159844961,
          527408.3402210842,
          621634.6639176385,
          720106.2939568879,
          822372.5381198399,
          927989.2032677934,
          1036529.3585307776,
          1147591.6182983972,
          1260805.9871911872,
          1375837.4530724268,
          1492387.6122060088,
          1610194.6655810378,
          1729032.1433247302,
          1848706.7029662696,
          1969055.3155544924,
          2089942.1092375622,
          2211255.089711041,
          2332902.906296717,
          2454811.7851599464,
          2576922.709720768,
          2699188.893876424,
          2821573.5665143346
         ],
         "yaxis": "y"
        },
        {
         "name": "EUA Mar25 75C",
         "type": "scatter",
         "x": [
          20,
          21,
          22,
          23,
          24,
          25,
          26,
          27,
          28,
          29,
          30,
          31,
          32,
          33,
          34,
          35,
          36,
          37,
          38,
          39,
          40,
          41,
          42,
          43,
          44,
          45,
          46,
          47,
          48,
          49,
          50,
          51,
          52,
          53,
          54,
          55,
          56,
          57,
          58,
          59,
          60,
          61,
          62,
          63,
          64,
          65,
          66,
          67,
          68,
          69,
          70,
          71,
          72,
          73,
          74,
          75,
          76,
          77,
          78,
          79,
          80,
          81,
          82,
          83,
          84,
          85,
          86,
          87,
          88,
          89,
          90,
          91,
          92,
          93,
          94,
          95,
          96,
          97,
          98,
          99,
          100
         ],
         "xaxis": "x2",
         "y": [
          4.437359947995201e-32,
          1.5480347260130273e-29,
          3.356203483388043e-27,
          4.759681622135901e-25,
          4.613778146945686e-23,
          3.175148678288736e-21,
          1.6032902574674494e-19,
          6.11362392485561e-18,
          1.805477378585945e-16,
          4.222435589831816e-15,
          7.975824044089755e-14,
          1.2383513706896606e-12,
          1.6053267748014007e-11,
          1.7620586830875524e-10,
          1.6583782108341764e-09,
          1.3535764496549412e-08,
          9.679985602073584e-08,
          6.122090041615798e-07,
          3.4532687490934117e-06,
          1.7507066190159548e-05,
          8.033515974983318e-05,
          0.00033581953524814215,
          0.0012864180889544693,
          0.004540411701514682,
          0.014839540727873276,
          0.04511965257526085,
          0.12817050671550073,
          0.34151367276215266,
          0.8566881110207349,
          2.0300977352736225,
          4.559043894473129,
          9.731585333747308,
          19.799414180503643,
          38.495406510369946,
          71.69879711176316,
          128.21992238834014,
          220.6354752545214,
          366.060695928866,
          586.7070360271501,
          910.0544600765647,
          1368.4772029630074,
          1998.2062331509087,
          2837.589252326829,
          3924.709937963414,
          5294.535611526845,
          6975.856456123078,
          8988.340775242283,
          11340.046077139508,
          14025.69015980867,
          17025.90474972063,
          20307.579995584492,
          23825.280058506793,
          27523.588430462183,
          31340.144207942518,
          35209.06958898277,
          39064.469529625254,
          42843.704924570404,
          46490.193277378996,
          49955.564422399664,
          53201.08107471798,
          56198.31336743413,
          58929.124115575396,
          61385.07164138044,
          63566.36732589455,
          65480.53629599896,
          67140.92467230014,
          68565.17972245911,
          69773.80463487013,
          70788.8617290967,
          71632.87030262359,
          72327.92056567554,
          72895.00482171378,
          73353.5518937256,
          73721.14074139178,
          74013.36372701259,
          74243.80824342107,
          74424.1264770431,
          74564.16602697909,
          74672.13812865666,
          74754.80468599976,
          74817.66971643148
         ],
         "yaxis": "y2"
        },
        {
         "name": "EUA Mar25 80C",
         "type": "scatter",
         "x": [
          20,
          21,
          22,
          23,
          24,
          25,
          26,
          27,
          28,
          29,
          30,
          31,
          32,
          33,
          34,
          35,
          36,
          37,
          38,
          39,
          40,
          41,
          42,
          43,
          44,
          45,
          46,
          47,
          48,
          49,
          50,
          51,
          52,
          53,
          54,
          55,
          56,
          57,
          58,
          59,
          60,
          61,
          62,
          63,
          64,
          65,
          66,
          67,
          68,
          69,
          70,
          71,
          72,
          73,
          74,
          75,
          76,
          77,
          78,
          79,
          80,
          81,
          82,
          83,
          84,
          85,
          86,
          87,
          88,
          89,
          90,
          91,
          92,
          93,
          94,
          95,
          96,
          97,
          98,
          99,
          100
         ],
         "xaxis": "x",
         "y": [
          -293042.3457475392,
          -293042.3457475392,
          -293042.3457475392,
          -293042.3457475392,
          -293042.3457475392,
          -293042.3457475392,
          -293042.3457475392,
          -293042.3457475392,
          -293042.3457475392,
          -293042.3457475392,
          -293042.3457475392,
          -293042.3457475392,
          -293042.3457475392,
          -293042.3457475392,
          -293042.3457475392,
          -293042.34574753913,
          -293042.3457475383,
          -293042.34574753157,
          -293042.34574748244,
          -293042.3457471632,
          -293042.3457453035,
          -293042.3457355185,
          -293042.3456887271,
          -293042.34548417374,
          -293042.34466227086,
          -293042.34161178774,
          -293042.33110548457,
          -293042.2973831864,
          -293042.19611095404,
          -293041.91050388693,
          -293041.151502879,
          -293039.24472604267,
          -293034.7028086563,
          -293024.41614709125,
          -293002.2064384247,
          -292956.38048730575,
          -292865.81080817163,
          -292693.98036496306,
          -292380.3976917793,
          -291828.8573740616,
          -290892.22712614766,
          -289353.8076850482,
          -286905.8278499713,
          -283126.25954043475,
          -277455.7844285296,
          -269177.3039738501,
          -257400.73839943387,
          -241055.90205309572,
          -218895.9071609335,
          -189512.82816519856,
          -151366.31381969067,
          -102824.58347226601,
          -42215.948646100274,
          32112.16345057733,
          121730.58206143074,
          228066.52537061548,
          352346.8618537371,
          495550.41998196306,
          658372.4354415727,
          841203.1304997876,
          1044121.202848166,
          1266901.8043198604,
          1509037.5381934664,
          1769770.1896446985,
          2048130.379601034,
          2342982.109703655,
          2653069.222064814,
          2977061.0827370416,
          3313595.247664672,
          3661315.4149396378,
          4018903.54206175,
          4385105.556683791,
          4758750.573170548,
          5138763.919577845,
          5524174.568984662,
          5914117.756052392,
          6307833.6536997445,
          6704663.001014225,
          7104040.529857347,
          7505486.952269504,
          7908600.160510516
         ],
         "yaxis": "y"
        },
        {
         "name": "EUA Mar25 80C",
         "type": "scatter",
         "x": [
          20,
          21,
          22,
          23,
          24,
          25,
          26,
          27,
          28,
          29,
          30,
          31,
          32,
          33,
          34,
          35,
          36,
          37,
          38,
          39,
          40,
          41,
          42,
          43,
          44,
          45,
          46,
          47,
          48,
          49,
          50,
          51,
          52,
          53,
          54,
          55,
          56,
          57,
          58,
          59,
          60,
          61,
          62,
          63,
          64,
          65,
          66,
          67,
          68,
          69,
          70,
          71,
          72,
          73,
          74,
          75,
          76,
          77,
          78,
          79,
          80,
          81,
          82,
          83,
          84,
          85,
          86,
          87,
          88,
          89,
          90,
          91,
          92,
          93,
          94,
          95,
          96,
          97,
          98,
          99,
          100
         ],
         "xaxis": "x2",
         "y": [
          2.5930684233500177e-36,
          1.4712931424416655e-33,
          5.037951916934183e-31,
          1.098964285519516e-28,
          1.599774902986654e-26,
          1.6177127852657464e-24,
          1.1766492463521488e-22,
          6.3462519522610785e-21,
          2.606872771462708e-19,
          8.350116967866396e-18,
          2.1296316736824094e-16,
          4.405767289716663e-15,
          7.516998484477641e-14,
          1.073554834166565e-12,
          1.3006466135017799e-11,
          1.3529377844493805e-10,
          1.221539351299821e-09,
          9.667968793628765e-09,
          6.76797528777484e-08,
          4.2250359953265356e-07,
          2.3697120060579655e-06,
          1.2023359188066466e-05,
          5.553258794446493e-05,
          0.00023483836707777626,
          0.0009141114035915613,
          0.0032913211547285076,
          0.011011692552317086,
          0.034377713162445596,
          0.10053881175562586,
          0.27643917193951706,
          0.7170359566560273,
          1.7600505146618095,
          4.100426733810774,
          9.091738189995683,
          19.235226304004133,
          38.925076087778315,
          75.51429238967701,
          140.7420114835498,
          252.51493234092877,
          436.9619670987007,
          730.5883062004739,
          1182.256925141692,
          1854.6428971493033,
          2824.7624920604417,
          4183.196090965586,
          6031.713808497457,
          8479.174085686596,
          11635.781382528927,
          15606.028514403342,
          20480.872692920788,
          26329.86187898215,
          33194.007337110335,
          41080.17161731487,
          49957.60918758328,
          59757.07820688961,
          70372.6691221744,
          81666.209064816,
          93473.84059915862,
          105614.17261476626,
          117897.2817645334,
          130133.81267386307,
          142143.4786485417,
          153762.38555743836,
          164848.76703374472,
          175286.9038985539,
          184989.18119284642,
          193896.3934384484,
          201976.53003180347,
          209222.35197327318,
          215648.10845467274,
          221285.7418877881,
          226180.90053804018,
          230389.0282196761,
          233971.73968843964,
          236993.62654642542,
          239519.5780583502,
          241612.6487117027,
          243332.46216222574,
          244734.1102609431,
          245867.4857466601,
          246776.97662159626
         ],
         "yaxis": "y2"
        },
        {
         "name": "EUA Mar25 85C",
         "type": "scatter",
         "x": [
          20,
          21,
          22,
          23,
          24,
          25,
          26,
          27,
          28,
          29,
          30,
          31,
          32,
          33,
          34,
          35,
          36,
          37,
          38,
          39,
          40,
          41,
          42,
          43,
          44,
          45,
          46,
          47,
          48,
          49,
          50,
          51,
          52,
          53,
          54,
          55,
          56,
          57,
          58,
          59,
          60,
          61,
          62,
          63,
          64,
          65,
          66,
          67,
          68,
          69,
          70,
          71,
          72,
          73,
          74,
          75,
          76,
          77,
          78,
          79,
          80,
          81,
          82,
          83,
          84,
          85,
          86,
          87,
          88,
          89,
          90,
          91,
          92,
          93,
          94,
          95,
          96,
          97,
          98,
          99,
          100
         ],
         "xaxis": "x",
         "y": [
          -120545.32695780632,
          -120545.32695780632,
          -120545.32695780632,
          -120545.32695780632,
          -120545.32695780632,
          -120545.32695780632,
          -120545.32695780632,
          -120545.32695780632,
          -120545.32695780632,
          -120545.32695780632,
          -120545.32695780632,
          -120545.32695780632,
          -120545.32695780632,
          -120545.32695780632,
          -120545.32695780632,
          -120545.32695780632,
          -120545.32695780629,
          -120545.3269578061,
          -120545.32695780453,
          -120545.32695779335,
          -120545.32695772173,
          -120545.3269573085,
          -120545.32695514282,
          -120545.32694477547,
          -120545.32689919964,
          -120545.32671429102,
          -120545.32601873371,
          -120545.32358253695,
          -120545.31560601034,
          -120545.29110213171,
          -120545.22023204018,
          -120545.02664087742,
          -120544.5256868162,
          -120543.29425161505,
          -120540.41114348084,
          -120533.96633974666,
          -120520.17975997257,
          -120491.89579387248,
          -120436.13297242107,
          -120330.28007657848,
          -120136.45930203743,
          -119793.54928826782,
          -119206.40489146461,
          -118231.95342987294,
          -116662.1060929142,
          -114203.7984055265,
          -110456.94218630913,
          -104891.58555126337,
          -96826.06798489482,
          -85408.34272757312,
          -69602.83813007621,
          -48185.17893311236,
          -19746.75364824565,
          17289.498897970207,
          64641.554071024475,
          124129.47505331601,
          197626.7749659516,
          287004.38152411516,
          394070.35518059187,
          520508.9650587247,
          667822.8477979793,
          837281.7559760666,
          1029880.8790706473,
          1246310.9585259596,
          1486941.509024893,
          1751817.4989478942,
          2040668.9284742745,
          2352931.9532068153,
          2687779.591740539,
          3044159.6588300047,
          3420837.3880444043,
          3816440.2334057805,
          4229502.536245726,
          4658508.068824624,
          5101928.873462619,
          5558259.259689082,
          6026044.2623601565,
          6503902.2691029385,
          6990541.873476713,
          7484773.287915533,
          7985514.853256535
         ],
         "yaxis": "y"
        },
        {
         "name": "EUA Mar25 85C",
         "type": "scatter",
         "x": [
          20,
          21,
          22,
          23,
          24,
          25,
          26,
          27,
          28,
          29,
          30,
          31,
          32,
          33,
          34,
          35,
          36,
          37,
          38,
          39,
          40,
          41,
          42,
          43,
          44,
          45,
          46,
          47,
          48,
          49,
          50,
          51,
          52,
          53,
          54,
          55,
          56,
          57,
          58,
          59,
          60,
          61,
          62,
          63,
          64,
          65,
          66,
          67,
          68,
          69,
          70,
          71,
          72,
          73,
          74,
          75,
          76,
          77,
          78,
          79,
          80,
          81,
          82,
          83,
          84,
          85,
          86,
          87,
          88,
          89,
          90,
          91,
          92,
          93,
          94,
          95,
          96,
          97,
          98,
          99,
          100
         ],
         "xaxis": "x2",
         "y": [
          1.391854837952426e-38,
          8.744644012725211e-36,
          3.3184185038811685e-33,
          8.026446274116668e-31,
          1.295906727818145e-28,
          1.4534822133072184e-26,
          1.1724385731913558e-24,
          7.010895557114873e-23,
          3.1916540400002654e-21,
          1.1324331894399437e-19,
          3.1974078093265676e-18,
          7.31828733737146e-17,
          1.3804610779265477e-15,
          2.1780808319467947e-14,
          2.9130084482301185e-13,
          3.342279875360678e-12,
          3.32578831516625e-11,
          2.898516920474252e-10,
          2.2324281952798247e-09,
          1.531957403628812e-08,
          9.43679754451552e-08,
          5.253874263801215e-07,
          2.6603329850296037e-06,
          1.2322500113719287e-05,
          5.248998976144299e-05,
          0.0002066330659059314,
          0.0007551606661552043,
          0.002572885885813706,
          0.008204215994060196,
          0.024573283205120436,
          0.06936877833837546,
          0.18514225495892264,
          0.46855743276883094,
          1.127529747510143,
          2.5865276736823946,
          5.669913808217072,
          11.903869323860585,
          23.98697136117821,
          46.48439544771661,
          86.79653360698525,
          156.43495080367282,
          272.60362673661353,
          460.03067639304527,
          752.9286729134417,
          1196.8885778835029,
          1850.445718187558,
          2786.011369202844,
          4089.855048600919,
          5860.861455503767,
          8207.875908068398,
          11245.587861207492,
          15089.069064053767,
          19847.259131331382,
          25615.850868597987,
          32470.14544125793,
          40458.50357597553,
          49597.0025729692,
          59865.82004040537,
          71207.7147796677,
          83528.78273675547,
          96701.45625572355,
          110569.51405313288,
          124954.70060147611,
          139664.4342504268,
          154500.02291668946,
          169264.80578749295,
          183771.69306871554,
          197849.67163384552,
          211348.967486593,
          224144.6903452631,
          236138.91670791997,
          247261.2835420418,
          257468.25699610906,
          266741.30489910586,
          275084.23756824335,
          282519.9908167086,
          289087.11236377864,
          294836.18359643925,
          299826.36865301913,
          304122.23760335706,
          307790.9647955565
         ],
         "yaxis": "y2"
        },
        {
         "name": "EUA Mar25 90C",
         "type": "scatter",
         "x": [
          20,
          21,
          22,
          23,
          24,
          25,
          26,
          27,
          28,
          29,
          30,
          31,
          32,
          33,
          34,
          35,
          36,
          37,
          38,
          39,
          40,
          41,
          42,
          43,
          44,
          45,
          46,
          47,
          48,
          49,
          50,
          51,
          52,
          53,
          54,
          55,
          56,
          57,
          58,
          59,
          60,
          61,
          62,
          63,
          64,
          65,
          66,
          67,
          68,
          69,
          70,
          71,
          72,
          73,
          74,
          75,
          76,
          77,
          78,
          79,
          80,
          81,
          82,
          83,
          84,
          85,
          86,
          87,
          88,
          89,
          90,
          91,
          92,
          93,
          94,
          95,
          96,
          97,
          98,
          99,
          100
         ],
         "xaxis": "x",
         "y": [
          -42315.162703868795,
          -42315.162703868795,
          -42315.162703868795,
          -42315.162703868795,
          -42315.162703868795,
          -42315.162703868795,
          -42315.162703868795,
          -42315.162703868795,
          -42315.162703868795,
          -42315.162703868795,
          -42315.162703868795,
          -42315.162703868795,
          -42315.162703868795,
          -42315.162703868795,
          -42315.162703868795,
          -42315.162703868795,
          -42315.162703868795,
          -42315.162703868766,
          -42315.16270386851,
          -42315.162703866765,
          -42315.16270385566,
          -42315.162703791946,
          -42315.162703458496,
          -42315.16270185865,
          -42315.16269478568,
          -42315.162665834614,
          -42315.16255563892,
          -42315.16216402004,
          -42315.16085966211,
          -42315.15677379143,
          -42315.14469724153,
          -42315.11091474348,
          -42315.02122061882,
          -42314.79459332345,
          -42314.24831301527,
          -42312.98913951168,
          -42310.207686268426,
          -42304.307491803665,
          -42292.26521265007,
          -42268.5738771033,
          -42223.56952420377,
          -42140.888170228216,
          -41993.753818179,
          -41739.77141981207,
          -41313.90576073723,
          -40619.38261321604,
          -39516.363625754304,
          -37808.426361576865,
          -35227.12135056759,
          -31415.163427348984,
          -25909.11814371651,
          -18122.729666717907,
          -7332.263416590825,
          7334.635179589336,
          26905.06758301263,
          52560.65008409418,
          85629.88399860304,
          127572.52976418793,
          179955.92607489062,
          244423.78418307178,
          322658.5686096487,
          416339.09083966067,
          527095.3410089002,
          656462.8258920586,
          805838.7485528627,
          976442.2534878685,
          1169280.6866906001,
          1385123.4135517569,
          1624484.240220933,
          1887612.9425531279,
          2174495.867524389,
          2484865.0767199784,
          2818215.0835350584,
          3173825.917937496,
          3550791.046636524,
          3948048.583186333,
          4364414.233666612,
          4798614.523879457,
          5249319.023746135,
          5715170.502005736,
          6194812.187793221
         ],
         "yaxis": "y"
        },
        {
         "name": "EUA Mar25 90C",
         "type": "scatter",
         "x": [
          20,
          21,
          22,
          23,
          24,
          25,
          26,
          27,
          28,
          29,
          30,
          31,
          32,
          33,
          34,
          35,
          36,
          37,
          38,
          39,
          40,
          41,
          42,
          43,
          44,
          45,
          46,
          47,
          48,
          49,
          50,
          51,
          52,
          53,
          54,
          55,
          56,
          57,
          58,
          59,
          60,
          61,
          62,
          63,
          64,
          65,
          66,
          67,
          68,
          69,
          70,
          71,
          72,
          73,
          74,
          75,
          76,
          77,
          78,
          79,
          80,
          81,
          82,
          83,
          84,
          85,
          86,
          87,
          88,
          89,
          90,
          91,
          92,
          93,
          94,
          95,
          96,
          97,
          98,
          99,
          100
         ],
         "xaxis": "x2",
         "y": [
          1.2426735323164467e-38,
          6.215397411393489e-36,
          1.9260345965202723e-33,
          3.8908066852648427e-31,
          5.352670559884068e-29,
          5.207815176077456e-27,
          3.7029778143128846e-25,
          1.9802415260748067e-23,
          8.167763164195073e-22,
          2.6568473407417622e-20,
          6.951381261149044e-19,
          1.4888003971997978e-17,
          2.651361899471072e-16,
          3.9817107437863356e-15,
          5.106523520625412e-14,
          5.656991971140759e-13,
          5.469259531376568e-12,
          4.658187278998555e-11,
          3.5248949621700376e-10,
          2.388283016708686e-09,
          1.4592019922533448e-08,
          8.092001820350635e-08,
          4.0972915479402034e-07,
          1.9046701836392684e-06,
          8.169953023101166e-06,
          3.248797042355345e-05,
          0.0001202826557327283,
          0.0004162911202040967,
          0.0013518117229449436,
          0.004132926328612378,
          0.01193480644310796,
          0.032650413178838905,
          0.08485754755013034,
          0.21006541519826863,
          0.49652620590621277,
          1.1231764076424644,
          2.4367184215093234,
          5.080322796877566,
          10.198372984177213,
          19.747001981600086,
          36.943233660473524,
          66.88425510259069,
          117.36051454602158,
          199.87017084640877,
          330.8171504226684,
          532.8415534256825,
          836.1922586028368,
          1280.012197880988,
          1913.3733667897984,
          2795.878306383344,
          3997.6440124026753,
          5598.507481633495,
          7686.3407097764875,
          10354.434356893691,
          13697.997042498933,
          17809.911665608943,
          22775.979731627864,
          28669.95772085594,
          35548.73601665221,
          43448.02399341764,
          52378.88194894295,
          62325.3836336128,
          73243.60836787082,
          85062.0585579573,
          97683.48805128344,
          110988.02071793447,
          124837.3472088758,
          139079.71897135538,
          153555.41715860064,
          168102.36158531046,
          182561.5397616811,
          196781.9741399914,
          210625.0011203872,
          223967.701297827,
          236705.3900646128,
          248753.14485560535,
          260046.40505611568,
          270540.7293695933,
          280210.8312889306,
          289049.03569860547,
          297063.3092368653
         ],
         "yaxis": "y2"
        },
        {
         "mode": "lines",
         "name": "Total_PnL",
         "type": "scatter",
         "x": [
          20,
          21,
          22,
          23,
          24,
          25,
          26,
          27,
          28,
          29,
          30,
          31,
          32,
          33,
          34,
          35,
          36,
          37,
          38,
          39,
          40,
          41,
          42,
          43,
          44,
          45,
          46,
          47,
          48,
          49,
          50,
          51,
          52,
          53,
          54,
          55,
          56,
          57,
          58,
          59,
          60,
          61,
          62,
          63,
          64,
          65,
          66,
          67,
          68,
          69,
          70,
          71,
          72,
          73,
          74,
          75,
          76,
          77,
          78,
          79,
          80,
          81,
          82,
          83,
          84,
          85,
          86,
          87,
          88,
          89,
          90,
          91,
          92,
          93,
          94,
          95,
          96,
          97,
          98,
          99,
          100
         ],
         "xaxis": "x",
         "y": [
          -703588.5084591393,
          -703588.5084591393,
          -703588.5084591393,
          -703588.5084591393,
          -703588.5084591393,
          -703588.5084591393,
          -703588.5084591393,
          -703588.5084591393,
          -703588.5084591393,
          -703588.5084591393,
          -703588.5084591393,
          -703588.5084591393,
          -703588.5084591393,
          -703588.5084591391,
          -703588.5084591381,
          -703588.5084591287,
          -703588.5084590579,
          -703588.5084585904,
          -703588.508455833,
          -703588.5084412406,
          -703588.508371406,
          -703588.5080671897,
          -703588.5068534797,
          -703588.5023936771,
          -703588.4872214885,
          -703588.4392028337,
          -703588.2971834679,
          -703587.9030250736,
          -703586.8724856207,
          -703584.3250699061,
          -703578.3513883041,
          -703565.0204683479,
          -703536.6260530145,
          -703478.742394682,
          -703365.5162159454,
          -703152.4815053791,
          -702766.0761543282,
          -702088.9995891541,
          -700940.6159718969,
          -699051.8106299185,
          -696034.067483632,
          -691343.0513493257,
          -684237.6247513485,
          -673735.9514716507,
          -658571.0627407782,
          -637148.8961973791,
          -607512.2690431632,
          -567314.432555065,
          -513805.7168552244,
          -443836.28898259014,
          -353877.23095560103,
          -240061.0553962812,
          -98241.50666472084,
          75928.83904666606,
          286905.93598771095,
          539150.4515737037,
          837017.4481634423,
          1184644.7191420696,
          1585845.0360398283,
          2044007.29572608,
          2562010.9594768784,
          3142157.315053226,
          3786120.0522299013,
          4494916.512182556,
          5268899.840446583,
          6107771.220670195,
          7010610.455528086,
          7975922.436686801,
          9001696.53269857,
          10085475.62852878,
          11224431.463211581,
          12415443.01013428,
          13655174.895917602,
          14940153.221894458,
          16266836.598321367,
          17631680.688638847,
          19031195.056023233,
          20461991.579156566,
          21920824.13680096,
          23404619.6360672,
          24910500.768074606
         ],
         "yaxis": "y"
        },
        {
         "mode": "lines",
         "name": "Total_Delta",
         "type": "scatter",
         "x": [
          20,
          21,
          22,
          23,
          24,
          25,
          26,
          27,
          28,
          29,
          30,
          31,
          32,
          33,
          34,
          35,
          36,
          37,
          38,
          39,
          40,
          41,
          42,
          43,
          44,
          45,
          46,
          47,
          48,
          49,
          50,
          51,
          52,
          53,
          54,
          55,
          56,
          57,
          58,
          59,
          60,
          61,
          62,
          63,
          64,
          65,
          66,
          67,
          68,
          69,
          70,
          71,
          72,
          73,
          74,
          75,
          76,
          77,
          78,
          79,
          80,
          81,
          82,
          83,
          84,
          85,
          86,
          87,
          88,
          89,
          90,
          91,
          92,
          93,
          94,
          95,
          96,
          97,
          98,
          99,
          100
         ],
         "xaxis": "x2",
         "y": [
          4.437621889365907e-32,
          1.548183351331414e-29,
          3.3567125230328366e-27,
          4.76079250367438e-25,
          4.6153962335865106e-23,
          3.176786133711311e-21,
          1.6044823340773476e-19,
          6.120060088178703e-18,
          1.808124335660972e-16,
          4.2309255185920335e-15,
          7.997509615420123e-14,
          1.242845208856723e-12,
          1.6130083330126658e-11,
          1.7730518566198506e-10,
          1.6717270430492233e-09,
          1.3674966254066824e-08,
          9.80601225147187e-08,
          6.222134065200459e-07,
          3.5235334196626568e-06,
          1.7947277646745197e-05,
          8.281383175125885e-05,
          0.0003484492018807922,
          0.0013450207390387579,
          0.004789477238889816,
          0.015814312074249378,
          0.04865009476631884,
          0.14005764258970574,
          0.37888056293061606,
          0.9667829504933659,
          2.3352431167468723,
          5.3573834359106405,
          11.709428516546879,
          24.453255894633376,
          48.92473986307404,
          94.01707729535589,
          173.93808869197798,
          310.4903553895683,
          535.8700015704716,
          895.9047367999727,
          1453.559962763851,
          2292.443693627628,
          3519.9510401318043,
          5269.6233404152,
          7702.271273783706,
          11005.437430798602,
          15390.857536233776,
          21089.71848873456,
          28345.69470615034,
          37405.95349650557,
          48510.53165709316,
          61880.673748176814,
          77706.86394130439,
          96137.35988888492,
          117268.03862101748,
          141134.29027962926,
          167705.55389338412,
          196882.89629398345,
          228499.81163779894,
          262326.18783348583,
          298075.16956942447,
          335412.46424596367,
          373967.5004508628,
          413345.7661681657,
          453141.6271680234,
          492950.9511625257,
          532382.932370574,
          571070.6134384988,
          608679.7252718745,
          644915.5983475635,
          679528.0306878699,
          712314.1189230648,
          743119.1630417872,
          771835.838229898,
          798401.8866267644,
          822796.6179062941,
          845036.5219740852,
          865170.2926086402,
          883273.5411552375,
          899443.4483315494,
          913793.5637346224,
          926448.9203704495
         ],
         "yaxis": "y2"
        }
       ],
       "layout": {
        "barmode": "stack",
        "template": {
         "data": {
          "bar": [
           {
            "error_x": {
             "color": "#2a3f5f"
            },
            "error_y": {
             "color": "#2a3f5f"
            },
            "marker": {
             "line": {
              "color": "#E5ECF6",
              "width": 0.5
             },
             "pattern": {
              "fillmode": "overlay",
              "size": 10,
              "solidity": 0.2
             }
            },
            "type": "bar"
           }
          ],
          "barpolar": [
           {
            "marker": {
             "line": {
              "color": "#E5ECF6",
              "width": 0.5
             },
             "pattern": {
              "fillmode": "overlay",
              "size": 10,
              "solidity": 0.2
             }
            },
            "type": "barpolar"
           }
          ],
          "carpet": [
           {
            "aaxis": {
             "endlinecolor": "#2a3f5f",
             "gridcolor": "white",
             "linecolor": "white",
             "minorgridcolor": "white",
             "startlinecolor": "#2a3f5f"
            },
            "baxis": {
             "endlinecolor": "#2a3f5f",
             "gridcolor": "white",
             "linecolor": "white",
             "minorgridcolor": "white",
             "startlinecolor": "#2a3f5f"
            },
            "type": "carpet"
           }
          ],
          "choropleth": [
           {
            "colorbar": {
             "outlinewidth": 0,
             "ticks": ""
            },
            "type": "choropleth"
           }
          ],
          "contour": [
           {
            "colorbar": {
             "outlinewidth": 0,
             "ticks": ""
            },
            "colorscale": [
             [
              0,
              "#0d0887"
             ],
             [
              0.1111111111111111,
              "#46039f"
             ],
             [
              0.2222222222222222,
              "#7201a8"
             ],
             [
              0.3333333333333333,
              "#9c179e"
             ],
             [
              0.4444444444444444,
              "#bd3786"
             ],
             [
              0.5555555555555556,
              "#d8576b"
             ],
             [
              0.6666666666666666,
              "#ed7953"
             ],
             [
              0.7777777777777778,
              "#fb9f3a"
             ],
             [
              0.8888888888888888,
              "#fdca26"
             ],
             [
              1,
              "#f0f921"
             ]
            ],
            "type": "contour"
           }
          ],
          "contourcarpet": [
           {
            "colorbar": {
             "outlinewidth": 0,
             "ticks": ""
            },
            "type": "contourcarpet"
           }
          ],
          "heatmap": [
           {
            "colorbar": {
             "outlinewidth": 0,
             "ticks": ""
            },
            "colorscale": [
             [
              0,
              "#0d0887"
             ],
             [
              0.1111111111111111,
              "#46039f"
             ],
             [
              0.2222222222222222,
              "#7201a8"
             ],
             [
              0.3333333333333333,
              "#9c179e"
             ],
             [
              0.4444444444444444,
              "#bd3786"
             ],
             [
              0.5555555555555556,
              "#d8576b"
             ],
             [
              0.6666666666666666,
              "#ed7953"
             ],
             [
              0.7777777777777778,
              "#fb9f3a"
             ],
             [
              0.8888888888888888,
              "#fdca26"
             ],
             [
              1,
              "#f0f921"
             ]
            ],
            "type": "heatmap"
           }
          ],
          "heatmapgl": [
           {
            "colorbar": {
             "outlinewidth": 0,
             "ticks": ""
            },
            "colorscale": [
             [
              0,
              "#0d0887"
             ],
             [
              0.1111111111111111,
              "#46039f"
             ],
             [
              0.2222222222222222,
              "#7201a8"
             ],
             [
              0.3333333333333333,
              "#9c179e"
             ],
             [
              0.4444444444444444,
              "#bd3786"
             ],
             [
              0.5555555555555556,
              "#d8576b"
             ],
             [
              0.6666666666666666,
              "#ed7953"
             ],
             [
              0.7777777777777778,
              "#fb9f3a"
             ],
             [
              0.8888888888888888,
              "#fdca26"
             ],
             [
              1,
              "#f0f921"
             ]
            ],
            "type": "heatmapgl"
           }
          ],
          "histogram": [
           {
            "marker": {
             "pattern": {
              "fillmode": "overlay",
              "size": 10,
              "solidity": 0.2
             }
            },
            "type": "histogram"
           }
          ],
          "histogram2d": [
           {
            "colorbar": {
             "outlinewidth": 0,
             "ticks": ""
            },
            "colorscale": [
             [
              0,
              "#0d0887"
             ],
             [
              0.1111111111111111,
              "#46039f"
             ],
             [
              0.2222222222222222,
              "#7201a8"
             ],
             [
              0.3333333333333333,
              "#9c179e"
             ],
             [
              0.4444444444444444,
              "#bd3786"
             ],
             [
              0.5555555555555556,
              "#d8576b"
             ],
             [
              0.6666666666666666,
              "#ed7953"
             ],
             [
              0.7777777777777778,
              "#fb9f3a"
             ],
             [
              0.8888888888888888,
              "#fdca26"
             ],
             [
              1,
              "#f0f921"
             ]
            ],
            "type": "histogram2d"
           }
          ],
          "histogram2dcontour": [
           {
            "colorbar": {
             "outlinewidth": 0,
             "ticks": ""
            },
            "colorscale": [
             [
              0,
              "#0d0887"
             ],
             [
              0.1111111111111111,
              "#46039f"
             ],
             [
              0.2222222222222222,
              "#7201a8"
             ],
             [
              0.3333333333333333,
              "#9c179e"
             ],
             [
              0.4444444444444444,
              "#bd3786"
             ],
             [
              0.5555555555555556,
              "#d8576b"
             ],
             [
              0.6666666666666666,
              "#ed7953"
             ],
             [
              0.7777777777777778,
              "#fb9f3a"
             ],
             [
              0.8888888888888888,
              "#fdca26"
             ],
             [
              1,
              "#f0f921"
             ]
            ],
            "type": "histogram2dcontour"
           }
          ],
          "mesh3d": [
           {
            "colorbar": {
             "outlinewidth": 0,
             "ticks": ""
            },
            "type": "mesh3d"
           }
          ],
          "parcoords": [
           {
            "line": {
             "colorbar": {
              "outlinewidth": 0,
              "ticks": ""
             }
            },
            "type": "parcoords"
           }
          ],
          "pie": [
           {
            "automargin": true,
            "type": "pie"
           }
          ],
          "scatter": [
           {
            "fillpattern": {
             "fillmode": "overlay",
             "size": 10,
             "solidity": 0.2
            },
            "type": "scatter"
           }
          ],
          "scatter3d": [
           {
            "line": {
             "colorbar": {
              "outlinewidth": 0,
              "ticks": ""
             }
            },
            "marker": {
             "colorbar": {
              "outlinewidth": 0,
              "ticks": ""
             }
            },
            "type": "scatter3d"
           }
          ],
          "scattercarpet": [
           {
            "marker": {
             "colorbar": {
              "outlinewidth": 0,
              "ticks": ""
             }
            },
            "type": "scattercarpet"
           }
          ],
          "scattergeo": [
           {
            "marker": {
             "colorbar": {
              "outlinewidth": 0,
              "ticks": ""
             }
            },
            "type": "scattergeo"
           }
          ],
          "scattergl": [
           {
            "marker": {
             "colorbar": {
              "outlinewidth": 0,
              "ticks": ""
             }
            },
            "type": "scattergl"
           }
          ],
          "scattermapbox": [
           {
            "marker": {
             "colorbar": {
              "outlinewidth": 0,
              "ticks": ""
             }
            },
            "type": "scattermapbox"
           }
          ],
          "scatterpolar": [
           {
            "marker": {
             "colorbar": {
              "outlinewidth": 0,
              "ticks": ""
             }
            },
            "type": "scatterpolar"
           }
          ],
          "scatterpolargl": [
           {
            "marker": {
             "colorbar": {
              "outlinewidth": 0,
              "ticks": ""
             }
            },
            "type": "scatterpolargl"
           }
          ],
          "scatterternary": [
           {
            "marker": {
             "colorbar": {
              "outlinewidth": 0,
              "ticks": ""
             }
            },
            "type": "scatterternary"
           }
          ],
          "surface": [
           {
            "colorbar": {
             "outlinewidth": 0,
             "ticks": ""
            },
            "colorscale": [
             [
              0,
              "#0d0887"
             ],
             [
              0.1111111111111111,
              "#46039f"
             ],
             [
              0.2222222222222222,
              "#7201a8"
             ],
             [
              0.3333333333333333,
              "#9c179e"
             ],
             [
              0.4444444444444444,
              "#bd3786"
             ],
             [
              0.5555555555555556,
              "#d8576b"
             ],
             [
              0.6666666666666666,
              "#ed7953"
             ],
             [
              0.7777777777777778,
              "#fb9f3a"
             ],
             [
              0.8888888888888888,
              "#fdca26"
             ],
             [
              1,
              "#f0f921"
             ]
            ],
            "type": "surface"
           }
          ],
          "table": [
           {
            "cells": {
             "fill": {
              "color": "#EBF0F8"
             },
             "line": {
              "color": "white"
             }
            },
            "header": {
             "fill": {
              "color": "#C8D4E3"
             },
             "line": {
              "color": "white"
             }
            },
            "type": "table"
           }
          ]
         },
         "layout": {
          "annotationdefaults": {
           "arrowcolor": "#2a3f5f",
           "arrowhead": 0,
           "arrowwidth": 1
          },
          "autotypenumbers": "strict",
          "coloraxis": {
           "colorbar": {
            "outlinewidth": 0,
            "ticks": ""
           }
          },
          "colorscale": {
           "diverging": [
            [
             0,
             "#8e0152"
            ],
            [
             0.1,
             "#c51b7d"
            ],
            [
             0.2,
             "#de77ae"
            ],
            [
             0.3,
             "#f1b6da"
            ],
            [
             0.4,
             "#fde0ef"
            ],
            [
             0.5,
             "#f7f7f7"
            ],
            [
             0.6,
             "#e6f5d0"
            ],
            [
             0.7,
             "#b8e186"
            ],
            [
             0.8,
             "#7fbc41"
            ],
            [
             0.9,
             "#4d9221"
            ],
            [
             1,
             "#276419"
            ]
           ],
           "sequential": [
            [
             0,
             "#0d0887"
            ],
            [
             0.1111111111111111,
             "#46039f"
            ],
            [
             0.2222222222222222,
             "#7201a8"
            ],
            [
             0.3333333333333333,
             "#9c179e"
            ],
            [
             0.4444444444444444,
             "#bd3786"
            ],
            [
             0.5555555555555556,
             "#d8576b"
            ],
            [
             0.6666666666666666,
             "#ed7953"
            ],
            [
             0.7777777777777778,
             "#fb9f3a"
            ],
            [
             0.8888888888888888,
             "#fdca26"
            ],
            [
             1,
             "#f0f921"
            ]
           ],
           "sequentialminus": [
            [
             0,
             "#0d0887"
            ],
            [
             0.1111111111111111,
             "#46039f"
            ],
            [
             0.2222222222222222,
             "#7201a8"
            ],
            [
             0.3333333333333333,
             "#9c179e"
            ],
            [
             0.4444444444444444,
             "#bd3786"
            ],
            [
             0.5555555555555556,
             "#d8576b"
            ],
            [
             0.6666666666666666,
             "#ed7953"
            ],
            [
             0.7777777777777778,
             "#fb9f3a"
            ],
            [
             0.8888888888888888,
             "#fdca26"
            ],
            [
             1,
             "#f0f921"
            ]
           ]
          },
          "colorway": [
           "#636efa",
           "#EF553B",
           "#00cc96",
           "#ab63fa",
           "#FFA15A",
           "#19d3f3",
           "#FF6692",
           "#B6E880",
           "#FF97FF",
           "#FECB52"
          ],
          "font": {
           "color": "#2a3f5f"
          },
          "geo": {
           "bgcolor": "white",
           "lakecolor": "white",
           "landcolor": "#E5ECF6",
           "showlakes": true,
           "showland": true,
           "subunitcolor": "white"
          },
          "hoverlabel": {
           "align": "left"
          },
          "hovermode": "closest",
          "mapbox": {
           "style": "light"
          },
          "paper_bgcolor": "white",
          "plot_bgcolor": "#E5ECF6",
          "polar": {
           "angularaxis": {
            "gridcolor": "white",
            "linecolor": "white",
            "ticks": ""
           },
           "bgcolor": "#E5ECF6",
           "radialaxis": {
            "gridcolor": "white",
            "linecolor": "white",
            "ticks": ""
           }
          },
          "scene": {
           "xaxis": {
            "backgroundcolor": "#E5ECF6",
            "gridcolor": "white",
            "gridwidth": 2,
            "linecolor": "white",
            "showbackground": true,
            "ticks": "",
            "zerolinecolor": "white"
           },
           "yaxis": {
            "backgroundcolor": "#E5ECF6",
            "gridcolor": "white",
            "gridwidth": 2,
            "linecolor": "white",
            "showbackground": true,
            "ticks": "",
            "zerolinecolor": "white"
           },
           "zaxis": {
            "backgroundcolor": "#E5ECF6",
            "gridcolor": "white",
            "gridwidth": 2,
            "linecolor": "white",
            "showbackground": true,
            "ticks": "",
            "zerolinecolor": "white"
           }
          },
          "shapedefaults": {
           "line": {
            "color": "#2a3f5f"
           }
          },
          "ternary": {
           "aaxis": {
            "gridcolor": "white",
            "linecolor": "white",
            "ticks": ""
           },
           "baxis": {
            "gridcolor": "white",
            "linecolor": "white",
            "ticks": ""
           },
           "bgcolor": "#E5ECF6",
           "caxis": {
            "gridcolor": "white",
            "linecolor": "white",
            "ticks": ""
           }
          },
          "title": {
           "x": 0.05
          },
          "xaxis": {
           "automargin": true,
           "gridcolor": "white",
           "linecolor": "white",
           "ticks": "",
           "title": {
            "standoff": 15
           },
           "zerolinecolor": "white",
           "zerolinewidth": 2
          },
          "yaxis": {
           "automargin": true,
           "gridcolor": "white",
           "linecolor": "white",
           "ticks": "",
           "title": {
            "standoff": 15
           },
           "zerolinecolor": "white",
           "zerolinewidth": 2
          }
         }
        },
        "title": {
         "text": "Todays Option Pos (PnL and Delta)",
         "x": 0.5,
         "xanchor": "center"
        },
        "xaxis": {
         "anchor": "y",
         "domain": [
          0,
          0.45
         ],
         "title": {
          "text": "Price"
         }
        },
        "xaxis2": {
         "anchor": "y2",
         "domain": [
          0.55,
          1
         ],
         "title": {
          "text": "Price"
         }
        },
        "yaxis": {
         "anchor": "x",
         "domain": [
          0,
          1
         ],
         "title": {
          "text": "Pnl"
         }
        },
        "yaxis2": {
         "anchor": "x2",
         "domain": [
          0,
          1
         ],
         "title": {
          "text": "Delta"
         }
        }
       }
      },
      "text/html": [
       "<div>                            <div id=\"622708a7-aa94-436c-a4da-857ba9f9dc7b\" class=\"plotly-graph-div\" style=\"height:525px; width:100%;\"></div>            <script type=\"text/javascript\">                require([\"plotly\"], function(Plotly) {                    window.PLOTLYENV=window.PLOTLYENV || {};                                    if (document.getElementById(\"622708a7-aa94-436c-a4da-857ba9f9dc7b\")) {                    Plotly.newPlot(                        \"622708a7-aa94-436c-a4da-857ba9f9dc7b\",                        [{\"name\":\"EUA Mar25 75C\",\"x\":[20,21,22,23,24,25,26,27,28,29,30,31,32,33,34,35,36,37,38,39,40,41,42,43,44,45,46,47,48,49,50,51,52,53,54,55,56,57,58,59,60,61,62,63,64,65,66,67,68,69,70,71,72,73,74,75,76,77,78,79,80,81,82,83,84,85,86,87,88,89,90,91,92,93,94,95,96,97,98,99,100],\"y\":[-247685.6730499249,-247685.6730499249,-247685.6730499249,-247685.6730499249,-247685.6730499249,-247685.6730499249,-247685.6730499249,-247685.6730499249,-247685.6730499249,-247685.6730499249,-247685.6730499249,-247685.6730499249,-247685.6730499249,-247685.6730499248,-247685.6730499237,-247685.67304991436,-247685.6730498445,-247685.6730493838,-247685.67304667752,-247685.67303241734,-247685.67296452518,-247685.6726705708,-247685.67150615135,-247685.66726286922,-247685.65296523235,-247685.60821092036,-247685.4775036107,-247685.1198953301,-247684.19990899414,-247681.96669009607,-247676.83495614355,-247665.63818668443,-247642.3763369232,-247596.23740265224,-247508.6503210245,-247349.14553881483,-247069.87789991556,-246598.8159385149,-245831.82009504648,-244624.0993021751,-242781.81153124318,-240054.8062057814,-236131.63819173357,-230637.96708153092,-223139.2664585971,-213148.41120478645,-200138.2248316659,-183558.518589129,-162856.62035882843,-137499.95466246945,-106998.96086211757,-70928.56332418496,-28946.54095378409,19192.541518529182,73628.73227224311,134393.801065678,201413.92734515062,274517.3878718034,353446.31934277323,437871.4159844961,527408.3402210842,621634.6639176385,720106.2939568879,822372.5381198399,927989.2032677934,1036529.3585307776,1147591.6182983972,1260805.9871911872,1375837.4530724268,1492387.6122060088,1610194.6655810378,1729032.1433247302,1848706.7029662696,1969055.3155544924,2089942.1092375622,2211255.089711041,2332902.906296717,2454811.7851599464,2576922.709720768,2699188.893876424,2821573.5665143346],\"type\":\"scatter\",\"xaxis\":\"x\",\"yaxis\":\"y\"},{\"name\":\"EUA Mar25 75C\",\"x\":[20,21,22,23,24,25,26,27,28,29,30,31,32,33,34,35,36,37,38,39,40,41,42,43,44,45,46,47,48,49,50,51,52,53,54,55,56,57,58,59,60,61,62,63,64,65,66,67,68,69,70,71,72,73,74,75,76,77,78,79,80,81,82,83,84,85,86,87,88,89,90,91,92,93,94,95,96,97,98,99,100],\"y\":[4.437359947995201e-32,1.5480347260130273e-29,3.356203483388043e-27,4.759681622135901e-25,4.613778146945686e-23,3.175148678288736e-21,1.6032902574674494e-19,6.11362392485561e-18,1.805477378585945e-16,4.222435589831816e-15,7.975824044089755e-14,1.2383513706896606e-12,1.6053267748014007e-11,1.7620586830875524e-10,1.6583782108341764e-09,1.3535764496549412e-08,9.679985602073584e-08,6.122090041615798e-07,3.4532687490934117e-06,1.7507066190159548e-05,8.033515974983318e-05,0.00033581953524814215,0.0012864180889544693,0.004540411701514682,0.014839540727873276,0.04511965257526085,0.12817050671550073,0.34151367276215266,0.8566881110207349,2.0300977352736225,4.559043894473129,9.731585333747308,19.799414180503643,38.495406510369946,71.69879711176316,128.21992238834014,220.6354752545214,366.060695928866,586.7070360271501,910.0544600765647,1368.4772029630074,1998.2062331509087,2837.589252326829,3924.709937963414,5294.535611526845,6975.856456123078,8988.340775242283,11340.046077139508,14025.69015980867,17025.90474972063,20307.579995584492,23825.280058506793,27523.588430462183,31340.144207942518,35209.06958898277,39064.469529625254,42843.704924570404,46490.193277378996,49955.564422399664,53201.08107471798,56198.31336743413,58929.124115575396,61385.07164138044,63566.36732589455,65480.53629599896,67140.92467230014,68565.17972245911,69773.80463487013,70788.8617290967,71632.87030262359,72327.92056567554,72895.00482171378,73353.5518937256,73721.14074139178,74013.36372701259,74243.80824342107,74424.1264770431,74564.16602697909,74672.13812865666,74754.80468599976,74817.66971643148],\"type\":\"scatter\",\"xaxis\":\"x2\",\"yaxis\":\"y2\"},{\"name\":\"EUA Mar25 80C\",\"x\":[20,21,22,23,24,25,26,27,28,29,30,31,32,33,34,35,36,37,38,39,40,41,42,43,44,45,46,47,48,49,50,51,52,53,54,55,56,57,58,59,60,61,62,63,64,65,66,67,68,69,70,71,72,73,74,75,76,77,78,79,80,81,82,83,84,85,86,87,88,89,90,91,92,93,94,95,96,97,98,99,100],\"y\":[-293042.3457475392,-293042.3457475392,-293042.3457475392,-293042.3457475392,-293042.3457475392,-293042.3457475392,-293042.3457475392,-293042.3457475392,-293042.3457475392,-293042.3457475392,-293042.3457475392,-293042.3457475392,-293042.3457475392,-293042.3457475392,-293042.3457475392,-293042.34574753913,-293042.3457475383,-293042.34574753157,-293042.34574748244,-293042.3457471632,-293042.3457453035,-293042.3457355185,-293042.3456887271,-293042.34548417374,-293042.34466227086,-293042.34161178774,-293042.33110548457,-293042.2973831864,-293042.19611095404,-293041.91050388693,-293041.151502879,-293039.24472604267,-293034.7028086563,-293024.41614709125,-293002.2064384247,-292956.38048730575,-292865.81080817163,-292693.98036496306,-292380.3976917793,-291828.8573740616,-290892.22712614766,-289353.8076850482,-286905.8278499713,-283126.25954043475,-277455.7844285296,-269177.3039738501,-257400.73839943387,-241055.90205309572,-218895.9071609335,-189512.82816519856,-151366.31381969067,-102824.58347226601,-42215.948646100274,32112.16345057733,121730.58206143074,228066.52537061548,352346.8618537371,495550.41998196306,658372.4354415727,841203.1304997876,1044121.202848166,1266901.8043198604,1509037.5381934664,1769770.1896446985,2048130.379601034,2342982.109703655,2653069.222064814,2977061.0827370416,3313595.247664672,3661315.4149396378,4018903.54206175,4385105.556683791,4758750.573170548,5138763.919577845,5524174.568984662,5914117.756052392,6307833.6536997445,6704663.001014225,7104040.529857347,7505486.952269504,7908600.160510516],\"type\":\"scatter\",\"xaxis\":\"x\",\"yaxis\":\"y\"},{\"name\":\"EUA Mar25 80C\",\"x\":[20,21,22,23,24,25,26,27,28,29,30,31,32,33,34,35,36,37,38,39,40,41,42,43,44,45,46,47,48,49,50,51,52,53,54,55,56,57,58,59,60,61,62,63,64,65,66,67,68,69,70,71,72,73,74,75,76,77,78,79,80,81,82,83,84,85,86,87,88,89,90,91,92,93,94,95,96,97,98,99,100],\"y\":[2.5930684233500177e-36,1.4712931424416655e-33,5.037951916934183e-31,1.098964285519516e-28,1.599774902986654e-26,1.6177127852657464e-24,1.1766492463521488e-22,6.3462519522610785e-21,2.606872771462708e-19,8.350116967866396e-18,2.1296316736824094e-16,4.405767289716663e-15,7.516998484477641e-14,1.073554834166565e-12,1.3006466135017799e-11,1.3529377844493805e-10,1.221539351299821e-09,9.667968793628765e-09,6.76797528777484e-08,4.2250359953265356e-07,2.3697120060579655e-06,1.2023359188066466e-05,5.553258794446493e-05,0.00023483836707777626,0.0009141114035915613,0.0032913211547285076,0.011011692552317086,0.034377713162445596,0.10053881175562586,0.27643917193951706,0.7170359566560273,1.7600505146618095,4.100426733810774,9.091738189995683,19.235226304004133,38.925076087778315,75.51429238967701,140.7420114835498,252.51493234092877,436.9619670987007,730.5883062004739,1182.256925141692,1854.6428971493033,2824.7624920604417,4183.196090965586,6031.713808497457,8479.174085686596,11635.781382528927,15606.028514403342,20480.872692920788,26329.86187898215,33194.007337110335,41080.17161731487,49957.60918758328,59757.07820688961,70372.6691221744,81666.209064816,93473.84059915862,105614.17261476626,117897.2817645334,130133.81267386307,142143.4786485417,153762.38555743836,164848.76703374472,175286.9038985539,184989.18119284642,193896.3934384484,201976.53003180347,209222.35197327318,215648.10845467274,221285.7418877881,226180.90053804018,230389.0282196761,233971.73968843964,236993.62654642542,239519.5780583502,241612.6487117027,243332.46216222574,244734.1102609431,245867.4857466601,246776.97662159626],\"type\":\"scatter\",\"xaxis\":\"x2\",\"yaxis\":\"y2\"},{\"name\":\"EUA Mar25 85C\",\"x\":[20,21,22,23,24,25,26,27,28,29,30,31,32,33,34,35,36,37,38,39,40,41,42,43,44,45,46,47,48,49,50,51,52,53,54,55,56,57,58,59,60,61,62,63,64,65,66,67,68,69,70,71,72,73,74,75,76,77,78,79,80,81,82,83,84,85,86,87,88,89,90,91,92,93,94,95,96,97,98,99,100],\"y\":[-120545.32695780632,-120545.32695780632,-120545.32695780632,-120545.32695780632,-120545.32695780632,-120545.32695780632,-120545.32695780632,-120545.32695780632,-120545.32695780632,-120545.32695780632,-120545.32695780632,-120545.32695780632,-120545.32695780632,-120545.32695780632,-120545.32695780632,-120545.32695780632,-120545.32695780629,-120545.3269578061,-120545.32695780453,-120545.32695779335,-120545.32695772173,-120545.3269573085,-120545.32695514282,-120545.32694477547,-120545.32689919964,-120545.32671429102,-120545.32601873371,-120545.32358253695,-120545.31560601034,-120545.29110213171,-120545.22023204018,-120545.02664087742,-120544.5256868162,-120543.29425161505,-120540.41114348084,-120533.96633974666,-120520.17975997257,-120491.89579387248,-120436.13297242107,-120330.28007657848,-120136.45930203743,-119793.54928826782,-119206.40489146461,-118231.95342987294,-116662.1060929142,-114203.7984055265,-110456.94218630913,-104891.58555126337,-96826.06798489482,-85408.34272757312,-69602.83813007621,-48185.17893311236,-19746.75364824565,17289.498897970207,64641.554071024475,124129.47505331601,197626.7749659516,287004.38152411516,394070.35518059187,520508.9650587247,667822.8477979793,837281.7559760666,1029880.8790706473,1246310.9585259596,1486941.509024893,1751817.4989478942,2040668.9284742745,2352931.9532068153,2687779.591740539,3044159.6588300047,3420837.3880444043,3816440.2334057805,4229502.536245726,4658508.068824624,5101928.873462619,5558259.259689082,6026044.2623601565,6503902.2691029385,6990541.873476713,7484773.287915533,7985514.853256535],\"type\":\"scatter\",\"xaxis\":\"x\",\"yaxis\":\"y\"},{\"name\":\"EUA Mar25 85C\",\"x\":[20,21,22,23,24,25,26,27,28,29,30,31,32,33,34,35,36,37,38,39,40,41,42,43,44,45,46,47,48,49,50,51,52,53,54,55,56,57,58,59,60,61,62,63,64,65,66,67,68,69,70,71,72,73,74,75,76,77,78,79,80,81,82,83,84,85,86,87,88,89,90,91,92,93,94,95,96,97,98,99,100],\"y\":[1.391854837952426e-38,8.744644012725211e-36,3.3184185038811685e-33,8.026446274116668e-31,1.295906727818145e-28,1.4534822133072184e-26,1.1724385731913558e-24,7.010895557114873e-23,3.1916540400002654e-21,1.1324331894399437e-19,3.1974078093265676e-18,7.31828733737146e-17,1.3804610779265477e-15,2.1780808319467947e-14,2.9130084482301185e-13,3.342279875360678e-12,3.32578831516625e-11,2.898516920474252e-10,2.2324281952798247e-09,1.531957403628812e-08,9.43679754451552e-08,5.253874263801215e-07,2.6603329850296037e-06,1.2322500113719287e-05,5.248998976144299e-05,0.0002066330659059314,0.0007551606661552043,0.002572885885813706,0.008204215994060196,0.024573283205120436,0.06936877833837546,0.18514225495892264,0.46855743276883094,1.127529747510143,2.5865276736823946,5.669913808217072,11.903869323860585,23.98697136117821,46.48439544771661,86.79653360698525,156.43495080367282,272.60362673661353,460.03067639304527,752.9286729134417,1196.8885778835029,1850.445718187558,2786.011369202844,4089.855048600919,5860.861455503767,8207.875908068398,11245.587861207492,15089.069064053767,19847.259131331382,25615.850868597987,32470.14544125793,40458.50357597553,49597.0025729692,59865.82004040537,71207.7147796677,83528.78273675547,96701.45625572355,110569.51405313288,124954.70060147611,139664.4342504268,154500.02291668946,169264.80578749295,183771.69306871554,197849.67163384552,211348.967486593,224144.6903452631,236138.91670791997,247261.2835420418,257468.25699610906,266741.30489910586,275084.23756824335,282519.9908167086,289087.11236377864,294836.18359643925,299826.36865301913,304122.23760335706,307790.9647955565],\"type\":\"scatter\",\"xaxis\":\"x2\",\"yaxis\":\"y2\"},{\"name\":\"EUA Mar25 90C\",\"x\":[20,21,22,23,24,25,26,27,28,29,30,31,32,33,34,35,36,37,38,39,40,41,42,43,44,45,46,47,48,49,50,51,52,53,54,55,56,57,58,59,60,61,62,63,64,65,66,67,68,69,70,71,72,73,74,75,76,77,78,79,80,81,82,83,84,85,86,87,88,89,90,91,92,93,94,95,96,97,98,99,100],\"y\":[-42315.162703868795,-42315.162703868795,-42315.162703868795,-42315.162703868795,-42315.162703868795,-42315.162703868795,-42315.162703868795,-42315.162703868795,-42315.162703868795,-42315.162703868795,-42315.162703868795,-42315.162703868795,-42315.162703868795,-42315.162703868795,-42315.162703868795,-42315.162703868795,-42315.162703868795,-42315.162703868766,-42315.16270386851,-42315.162703866765,-42315.16270385566,-42315.162703791946,-42315.162703458496,-42315.16270185865,-42315.16269478568,-42315.162665834614,-42315.16255563892,-42315.16216402004,-42315.16085966211,-42315.15677379143,-42315.14469724153,-42315.11091474348,-42315.02122061882,-42314.79459332345,-42314.24831301527,-42312.98913951168,-42310.207686268426,-42304.307491803665,-42292.26521265007,-42268.5738771033,-42223.56952420377,-42140.888170228216,-41993.753818179,-41739.77141981207,-41313.90576073723,-40619.38261321604,-39516.363625754304,-37808.426361576865,-35227.12135056759,-31415.163427348984,-25909.11814371651,-18122.729666717907,-7332.263416590825,7334.635179589336,26905.06758301263,52560.65008409418,85629.88399860304,127572.52976418793,179955.92607489062,244423.78418307178,322658.5686096487,416339.09083966067,527095.3410089002,656462.8258920586,805838.7485528627,976442.2534878685,1169280.6866906001,1385123.4135517569,1624484.240220933,1887612.9425531279,2174495.867524389,2484865.0767199784,2818215.0835350584,3173825.917937496,3550791.046636524,3948048.583186333,4364414.233666612,4798614.523879457,5249319.023746135,5715170.502005736,6194812.187793221],\"type\":\"scatter\",\"xaxis\":\"x\",\"yaxis\":\"y\"},{\"name\":\"EUA Mar25 90C\",\"x\":[20,21,22,23,24,25,26,27,28,29,30,31,32,33,34,35,36,37,38,39,40,41,42,43,44,45,46,47,48,49,50,51,52,53,54,55,56,57,58,59,60,61,62,63,64,65,66,67,68,69,70,71,72,73,74,75,76,77,78,79,80,81,82,83,84,85,86,87,88,89,90,91,92,93,94,95,96,97,98,99,100],\"y\":[1.2426735323164467e-38,6.215397411393489e-36,1.9260345965202723e-33,3.8908066852648427e-31,5.352670559884068e-29,5.207815176077456e-27,3.7029778143128846e-25,1.9802415260748067e-23,8.167763164195073e-22,2.6568473407417622e-20,6.951381261149044e-19,1.4888003971997978e-17,2.651361899471072e-16,3.9817107437863356e-15,5.106523520625412e-14,5.656991971140759e-13,5.469259531376568e-12,4.658187278998555e-11,3.5248949621700376e-10,2.388283016708686e-09,1.4592019922533448e-08,8.092001820350635e-08,4.0972915479402034e-07,1.9046701836392684e-06,8.169953023101166e-06,3.248797042355345e-05,0.0001202826557327283,0.0004162911202040967,0.0013518117229449436,0.004132926328612378,0.01193480644310796,0.032650413178838905,0.08485754755013034,0.21006541519826863,0.49652620590621277,1.1231764076424644,2.4367184215093234,5.080322796877566,10.198372984177213,19.747001981600086,36.943233660473524,66.88425510259069,117.36051454602158,199.87017084640877,330.8171504226684,532.8415534256825,836.1922586028368,1280.012197880988,1913.3733667897984,2795.878306383344,3997.6440124026753,5598.507481633495,7686.3407097764875,10354.434356893691,13697.997042498933,17809.911665608943,22775.979731627864,28669.95772085594,35548.73601665221,43448.02399341764,52378.88194894295,62325.3836336128,73243.60836787082,85062.0585579573,97683.48805128344,110988.02071793447,124837.3472088758,139079.71897135538,153555.41715860064,168102.36158531046,182561.5397616811,196781.9741399914,210625.0011203872,223967.701297827,236705.3900646128,248753.14485560535,260046.40505611568,270540.7293695933,280210.8312889306,289049.03569860547,297063.3092368653],\"type\":\"scatter\",\"xaxis\":\"x2\",\"yaxis\":\"y2\"},{\"mode\":\"lines\",\"name\":\"Total_PnL\",\"x\":[20,21,22,23,24,25,26,27,28,29,30,31,32,33,34,35,36,37,38,39,40,41,42,43,44,45,46,47,48,49,50,51,52,53,54,55,56,57,58,59,60,61,62,63,64,65,66,67,68,69,70,71,72,73,74,75,76,77,78,79,80,81,82,83,84,85,86,87,88,89,90,91,92,93,94,95,96,97,98,99,100],\"y\":[-703588.5084591393,-703588.5084591393,-703588.5084591393,-703588.5084591393,-703588.5084591393,-703588.5084591393,-703588.5084591393,-703588.5084591393,-703588.5084591393,-703588.5084591393,-703588.5084591393,-703588.5084591393,-703588.5084591393,-703588.5084591391,-703588.5084591381,-703588.5084591287,-703588.5084590579,-703588.5084585904,-703588.508455833,-703588.5084412406,-703588.508371406,-703588.5080671897,-703588.5068534797,-703588.5023936771,-703588.4872214885,-703588.4392028337,-703588.2971834679,-703587.9030250736,-703586.8724856207,-703584.3250699061,-703578.3513883041,-703565.0204683479,-703536.6260530145,-703478.742394682,-703365.5162159454,-703152.4815053791,-702766.0761543282,-702088.9995891541,-700940.6159718969,-699051.8106299185,-696034.067483632,-691343.0513493257,-684237.6247513485,-673735.9514716507,-658571.0627407782,-637148.8961973791,-607512.2690431632,-567314.432555065,-513805.7168552244,-443836.28898259014,-353877.23095560103,-240061.0553962812,-98241.50666472084,75928.83904666606,286905.93598771095,539150.4515737037,837017.4481634423,1184644.7191420696,1585845.0360398283,2044007.29572608,2562010.9594768784,3142157.315053226,3786120.0522299013,4494916.512182556,5268899.840446583,6107771.220670195,7010610.455528086,7975922.436686801,9001696.53269857,10085475.62852878,11224431.463211581,12415443.01013428,13655174.895917602,14940153.221894458,16266836.598321367,17631680.688638847,19031195.056023233,20461991.579156566,21920824.13680096,23404619.6360672,24910500.768074606],\"type\":\"scatter\",\"xaxis\":\"x\",\"yaxis\":\"y\"},{\"mode\":\"lines\",\"name\":\"Total_Delta\",\"x\":[20,21,22,23,24,25,26,27,28,29,30,31,32,33,34,35,36,37,38,39,40,41,42,43,44,45,46,47,48,49,50,51,52,53,54,55,56,57,58,59,60,61,62,63,64,65,66,67,68,69,70,71,72,73,74,75,76,77,78,79,80,81,82,83,84,85,86,87,88,89,90,91,92,93,94,95,96,97,98,99,100],\"y\":[4.437621889365907e-32,1.548183351331414e-29,3.3567125230328366e-27,4.76079250367438e-25,4.6153962335865106e-23,3.176786133711311e-21,1.6044823340773476e-19,6.120060088178703e-18,1.808124335660972e-16,4.2309255185920335e-15,7.997509615420123e-14,1.242845208856723e-12,1.6130083330126658e-11,1.7730518566198506e-10,1.6717270430492233e-09,1.3674966254066824e-08,9.80601225147187e-08,6.222134065200459e-07,3.5235334196626568e-06,1.7947277646745197e-05,8.281383175125885e-05,0.0003484492018807922,0.0013450207390387579,0.004789477238889816,0.015814312074249378,0.04865009476631884,0.14005764258970574,0.37888056293061606,0.9667829504933659,2.3352431167468723,5.3573834359106405,11.709428516546879,24.453255894633376,48.92473986307404,94.01707729535589,173.93808869197798,310.4903553895683,535.8700015704716,895.9047367999727,1453.559962763851,2292.443693627628,3519.9510401318043,5269.6233404152,7702.271273783706,11005.437430798602,15390.857536233776,21089.71848873456,28345.69470615034,37405.95349650557,48510.53165709316,61880.673748176814,77706.86394130439,96137.35988888492,117268.03862101748,141134.29027962926,167705.55389338412,196882.89629398345,228499.81163779894,262326.18783348583,298075.16956942447,335412.46424596367,373967.5004508628,413345.7661681657,453141.6271680234,492950.9511625257,532382.932370574,571070.6134384988,608679.7252718745,644915.5983475635,679528.0306878699,712314.1189230648,743119.1630417872,771835.838229898,798401.8866267644,822796.6179062941,845036.5219740852,865170.2926086402,883273.5411552375,899443.4483315494,913793.5637346224,926448.9203704495],\"type\":\"scatter\",\"xaxis\":\"x2\",\"yaxis\":\"y2\"}],                        {\"template\":{\"data\":{\"histogram2dcontour\":[{\"type\":\"histogram2dcontour\",\"colorbar\":{\"outlinewidth\":0,\"ticks\":\"\"},\"colorscale\":[[0.0,\"#0d0887\"],[0.1111111111111111,\"#46039f\"],[0.2222222222222222,\"#7201a8\"],[0.3333333333333333,\"#9c179e\"],[0.4444444444444444,\"#bd3786\"],[0.5555555555555556,\"#d8576b\"],[0.6666666666666666,\"#ed7953\"],[0.7777777777777778,\"#fb9f3a\"],[0.8888888888888888,\"#fdca26\"],[1.0,\"#f0f921\"]]}],\"choropleth\":[{\"type\":\"choropleth\",\"colorbar\":{\"outlinewidth\":0,\"ticks\":\"\"}}],\"histogram2d\":[{\"type\":\"histogram2d\",\"colorbar\":{\"outlinewidth\":0,\"ticks\":\"\"},\"colorscale\":[[0.0,\"#0d0887\"],[0.1111111111111111,\"#46039f\"],[0.2222222222222222,\"#7201a8\"],[0.3333333333333333,\"#9c179e\"],[0.4444444444444444,\"#bd3786\"],[0.5555555555555556,\"#d8576b\"],[0.6666666666666666,\"#ed7953\"],[0.7777777777777778,\"#fb9f3a\"],[0.8888888888888888,\"#fdca26\"],[1.0,\"#f0f921\"]]}],\"heatmap\":[{\"type\":\"heatmap\",\"colorbar\":{\"outlinewidth\":0,\"ticks\":\"\"},\"colorscale\":[[0.0,\"#0d0887\"],[0.1111111111111111,\"#46039f\"],[0.2222222222222222,\"#7201a8\"],[0.3333333333333333,\"#9c179e\"],[0.4444444444444444,\"#bd3786\"],[0.5555555555555556,\"#d8576b\"],[0.6666666666666666,\"#ed7953\"],[0.7777777777777778,\"#fb9f3a\"],[0.8888888888888888,\"#fdca26\"],[1.0,\"#f0f921\"]]}],\"heatmapgl\":[{\"type\":\"heatmapgl\",\"colorbar\":{\"outlinewidth\":0,\"ticks\":\"\"},\"colorscale\":[[0.0,\"#0d0887\"],[0.1111111111111111,\"#46039f\"],[0.2222222222222222,\"#7201a8\"],[0.3333333333333333,\"#9c179e\"],[0.4444444444444444,\"#bd3786\"],[0.5555555555555556,\"#d8576b\"],[0.6666666666666666,\"#ed7953\"],[0.7777777777777778,\"#fb9f3a\"],[0.8888888888888888,\"#fdca26\"],[1.0,\"#f0f921\"]]}],\"contourcarpet\":[{\"type\":\"contourcarpet\",\"colorbar\":{\"outlinewidth\":0,\"ticks\":\"\"}}],\"contour\":[{\"type\":\"contour\",\"colorbar\":{\"outlinewidth\":0,\"ticks\":\"\"},\"colorscale\":[[0.0,\"#0d0887\"],[0.1111111111111111,\"#46039f\"],[0.2222222222222222,\"#7201a8\"],[0.3333333333333333,\"#9c179e\"],[0.4444444444444444,\"#bd3786\"],[0.5555555555555556,\"#d8576b\"],[0.6666666666666666,\"#ed7953\"],[0.7777777777777778,\"#fb9f3a\"],[0.8888888888888888,\"#fdca26\"],[1.0,\"#f0f921\"]]}],\"surface\":[{\"type\":\"surface\",\"colorbar\":{\"outlinewidth\":0,\"ticks\":\"\"},\"colorscale\":[[0.0,\"#0d0887\"],[0.1111111111111111,\"#46039f\"],[0.2222222222222222,\"#7201a8\"],[0.3333333333333333,\"#9c179e\"],[0.4444444444444444,\"#bd3786\"],[0.5555555555555556,\"#d8576b\"],[0.6666666666666666,\"#ed7953\"],[0.7777777777777778,\"#fb9f3a\"],[0.8888888888888888,\"#fdca26\"],[1.0,\"#f0f921\"]]}],\"mesh3d\":[{\"type\":\"mesh3d\",\"colorbar\":{\"outlinewidth\":0,\"ticks\":\"\"}}],\"scatter\":[{\"fillpattern\":{\"fillmode\":\"overlay\",\"size\":10,\"solidity\":0.2},\"type\":\"scatter\"}],\"parcoords\":[{\"type\":\"parcoords\",\"line\":{\"colorbar\":{\"outlinewidth\":0,\"ticks\":\"\"}}}],\"scatterpolargl\":[{\"type\":\"scatterpolargl\",\"marker\":{\"colorbar\":{\"outlinewidth\":0,\"ticks\":\"\"}}}],\"bar\":[{\"error_x\":{\"color\":\"#2a3f5f\"},\"error_y\":{\"color\":\"#2a3f5f\"},\"marker\":{\"line\":{\"color\":\"#E5ECF6\",\"width\":0.5},\"pattern\":{\"fillmode\":\"overlay\",\"size\":10,\"solidity\":0.2}},\"type\":\"bar\"}],\"scattergeo\":[{\"type\":\"scattergeo\",\"marker\":{\"colorbar\":{\"outlinewidth\":0,\"ticks\":\"\"}}}],\"scatterpolar\":[{\"type\":\"scatterpolar\",\"marker\":{\"colorbar\":{\"outlinewidth\":0,\"ticks\":\"\"}}}],\"histogram\":[{\"marker\":{\"pattern\":{\"fillmode\":\"overlay\",\"size\":10,\"solidity\":0.2}},\"type\":\"histogram\"}],\"scattergl\":[{\"type\":\"scattergl\",\"marker\":{\"colorbar\":{\"outlinewidth\":0,\"ticks\":\"\"}}}],\"scatter3d\":[{\"type\":\"scatter3d\",\"line\":{\"colorbar\":{\"outlinewidth\":0,\"ticks\":\"\"}},\"marker\":{\"colorbar\":{\"outlinewidth\":0,\"ticks\":\"\"}}}],\"scattermapbox\":[{\"type\":\"scattermapbox\",\"marker\":{\"colorbar\":{\"outlinewidth\":0,\"ticks\":\"\"}}}],\"scatterternary\":[{\"type\":\"scatterternary\",\"marker\":{\"colorbar\":{\"outlinewidth\":0,\"ticks\":\"\"}}}],\"scattercarpet\":[{\"type\":\"scattercarpet\",\"marker\":{\"colorbar\":{\"outlinewidth\":0,\"ticks\":\"\"}}}],\"carpet\":[{\"aaxis\":{\"endlinecolor\":\"#2a3f5f\",\"gridcolor\":\"white\",\"linecolor\":\"white\",\"minorgridcolor\":\"white\",\"startlinecolor\":\"#2a3f5f\"},\"baxis\":{\"endlinecolor\":\"#2a3f5f\",\"gridcolor\":\"white\",\"linecolor\":\"white\",\"minorgridcolor\":\"white\",\"startlinecolor\":\"#2a3f5f\"},\"type\":\"carpet\"}],\"table\":[{\"cells\":{\"fill\":{\"color\":\"#EBF0F8\"},\"line\":{\"color\":\"white\"}},\"header\":{\"fill\":{\"color\":\"#C8D4E3\"},\"line\":{\"color\":\"white\"}},\"type\":\"table\"}],\"barpolar\":[{\"marker\":{\"line\":{\"color\":\"#E5ECF6\",\"width\":0.5},\"pattern\":{\"fillmode\":\"overlay\",\"size\":10,\"solidity\":0.2}},\"type\":\"barpolar\"}],\"pie\":[{\"automargin\":true,\"type\":\"pie\"}]},\"layout\":{\"autotypenumbers\":\"strict\",\"colorway\":[\"#636efa\",\"#EF553B\",\"#00cc96\",\"#ab63fa\",\"#FFA15A\",\"#19d3f3\",\"#FF6692\",\"#B6E880\",\"#FF97FF\",\"#FECB52\"],\"font\":{\"color\":\"#2a3f5f\"},\"hovermode\":\"closest\",\"hoverlabel\":{\"align\":\"left\"},\"paper_bgcolor\":\"white\",\"plot_bgcolor\":\"#E5ECF6\",\"polar\":{\"bgcolor\":\"#E5ECF6\",\"angularaxis\":{\"gridcolor\":\"white\",\"linecolor\":\"white\",\"ticks\":\"\"},\"radialaxis\":{\"gridcolor\":\"white\",\"linecolor\":\"white\",\"ticks\":\"\"}},\"ternary\":{\"bgcolor\":\"#E5ECF6\",\"aaxis\":{\"gridcolor\":\"white\",\"linecolor\":\"white\",\"ticks\":\"\"},\"baxis\":{\"gridcolor\":\"white\",\"linecolor\":\"white\",\"ticks\":\"\"},\"caxis\":{\"gridcolor\":\"white\",\"linecolor\":\"white\",\"ticks\":\"\"}},\"coloraxis\":{\"colorbar\":{\"outlinewidth\":0,\"ticks\":\"\"}},\"colorscale\":{\"sequential\":[[0.0,\"#0d0887\"],[0.1111111111111111,\"#46039f\"],[0.2222222222222222,\"#7201a8\"],[0.3333333333333333,\"#9c179e\"],[0.4444444444444444,\"#bd3786\"],[0.5555555555555556,\"#d8576b\"],[0.6666666666666666,\"#ed7953\"],[0.7777777777777778,\"#fb9f3a\"],[0.8888888888888888,\"#fdca26\"],[1.0,\"#f0f921\"]],\"sequentialminus\":[[0.0,\"#0d0887\"],[0.1111111111111111,\"#46039f\"],[0.2222222222222222,\"#7201a8\"],[0.3333333333333333,\"#9c179e\"],[0.4444444444444444,\"#bd3786\"],[0.5555555555555556,\"#d8576b\"],[0.6666666666666666,\"#ed7953\"],[0.7777777777777778,\"#fb9f3a\"],[0.8888888888888888,\"#fdca26\"],[1.0,\"#f0f921\"]],\"diverging\":[[0,\"#8e0152\"],[0.1,\"#c51b7d\"],[0.2,\"#de77ae\"],[0.3,\"#f1b6da\"],[0.4,\"#fde0ef\"],[0.5,\"#f7f7f7\"],[0.6,\"#e6f5d0\"],[0.7,\"#b8e186\"],[0.8,\"#7fbc41\"],[0.9,\"#4d9221\"],[1,\"#276419\"]]},\"xaxis\":{\"gridcolor\":\"white\",\"linecolor\":\"white\",\"ticks\":\"\",\"title\":{\"standoff\":15},\"zerolinecolor\":\"white\",\"automargin\":true,\"zerolinewidth\":2},\"yaxis\":{\"gridcolor\":\"white\",\"linecolor\":\"white\",\"ticks\":\"\",\"title\":{\"standoff\":15},\"zerolinecolor\":\"white\",\"automargin\":true,\"zerolinewidth\":2},\"scene\":{\"xaxis\":{\"backgroundcolor\":\"#E5ECF6\",\"gridcolor\":\"white\",\"linecolor\":\"white\",\"showbackground\":true,\"ticks\":\"\",\"zerolinecolor\":\"white\",\"gridwidth\":2},\"yaxis\":{\"backgroundcolor\":\"#E5ECF6\",\"gridcolor\":\"white\",\"linecolor\":\"white\",\"showbackground\":true,\"ticks\":\"\",\"zerolinecolor\":\"white\",\"gridwidth\":2},\"zaxis\":{\"backgroundcolor\":\"#E5ECF6\",\"gridcolor\":\"white\",\"linecolor\":\"white\",\"showbackground\":true,\"ticks\":\"\",\"zerolinecolor\":\"white\",\"gridwidth\":2}},\"shapedefaults\":{\"line\":{\"color\":\"#2a3f5f\"}},\"annotationdefaults\":{\"arrowcolor\":\"#2a3f5f\",\"arrowhead\":0,\"arrowwidth\":1},\"geo\":{\"bgcolor\":\"white\",\"landcolor\":\"#E5ECF6\",\"subunitcolor\":\"white\",\"showland\":true,\"showlakes\":true,\"lakecolor\":\"white\"},\"title\":{\"x\":0.05},\"mapbox\":{\"style\":\"light\"}}},\"xaxis\":{\"anchor\":\"y\",\"domain\":[0.0,0.45],\"title\":{\"text\":\"Price\"}},\"yaxis\":{\"anchor\":\"x\",\"domain\":[0.0,1.0],\"title\":{\"text\":\"Pnl\"}},\"xaxis2\":{\"anchor\":\"y2\",\"domain\":[0.55,1.0],\"title\":{\"text\":\"Price\"}},\"yaxis2\":{\"anchor\":\"x2\",\"domain\":[0.0,1.0],\"title\":{\"text\":\"Delta\"}},\"title\":{\"text\":\"Todays Option Pos (PnL and Delta)\",\"x\":0.5,\"xanchor\":\"center\"},\"barmode\":\"stack\"},                        {\"responsive\": true}                    ).then(function(){\n",
       "                            \n",
       "var gd = document.getElementById('622708a7-aa94-436c-a4da-857ba9f9dc7b');\n",
       "var x = new MutationObserver(function (mutations, observer) {{\n",
       "        var display = window.getComputedStyle(gd).display;\n",
       "        if (!display || display === 'none') {{\n",
       "            console.log([gd, 'removed!']);\n",
       "            Plotly.purge(gd);\n",
       "            observer.disconnect();\n",
       "        }}\n",
       "}});\n",
       "\n",
       "// Listen for the removal of the full notebook cells\n",
       "var notebookContainer = gd.closest('#notebook-container');\n",
       "if (notebookContainer) {{\n",
       "    x.observe(notebookContainer, {childList: true});\n",
       "}}\n",
       "\n",
       "// Listen for the clearing of the current output cell\n",
       "var outputEl = gd.closest('.output');\n",
       "if (outputEl) {{\n",
       "    x.observe(outputEl, {childList: true});\n",
       "}}\n",
       "\n",
       "                        })                };                });            </script>        </div>"
      ]
     },
     "metadata": {},
     "output_type": "display_data"
    }
   ],
   "source": [
    "pnl_delta_plot(current_date)"
   ]
  },
  {
   "cell_type": "markdown",
   "id": "188a9617",
   "metadata": {},
   "source": [
    "## End of This Week"
   ]
  },
  {
   "cell_type": "code",
   "execution_count": 18,
   "id": "8d15a408",
   "metadata": {},
   "outputs": [
    {
     "data": {
      "application/vnd.plotly.v1+json": {
       "config": {
        "plotlyServerURL": "https://plot.ly"
       },
       "data": [
        {
         "name": "EUA Mar25 75C",
         "type": "scatter",
         "x": [
          20,
          21,
          22,
          23,
          24,
          25,
          26,
          27,
          28,
          29,
          30,
          31,
          32,
          33,
          34,
          35,
          36,
          37,
          38,
          39,
          40,
          41,
          42,
          43,
          44,
          45,
          46,
          47,
          48,
          49,
          50,
          51,
          52,
          53,
          54,
          55,
          56,
          57,
          58,
          59,
          60,
          61,
          62,
          63,
          64,
          65,
          66,
          67,
          68,
          69,
          70,
          71,
          72,
          73,
          74,
          75,
          76,
          77,
          78,
          79,
          80,
          81,
          82,
          83,
          84,
          85,
          86,
          87,
          88,
          89,
          90,
          91,
          92,
          93,
          94,
          95,
          96,
          97,
          98,
          99,
          100
         ],
         "xaxis": "x",
         "y": [
          -247685.6730499249,
          -247685.6730499249,
          -247685.6730499249,
          -247685.6730499249,
          -247685.6730499249,
          -247685.6730499249,
          -247685.6730499249,
          -247685.6730499249,
          -247685.6730499249,
          -247685.6730499249,
          -247685.6730499249,
          -247685.6730499249,
          -247685.6730499249,
          -247685.67304992487,
          -247685.67304992437,
          -247685.67304992053,
          -247685.67304988953,
          -247685.6730496729,
          -247685.67304832969,
          -247685.67304088266,
          -247685.6730036971,
          -247685.67283533118,
          -247685.67213982256,
          -247685.6695035726,
          -247685.66028676595,
          -247685.63042024308,
          -247685.54031651,
          -247685.28618618287,
          -247684.61352130526,
          -247682.93655000936,
          -247678.98573319576,
          -247670.1623430228,
          -247651.42810491586,
          -247613.50773565992,
          -247540.14840189216,
          -247404.1833060103,
          -247162.20859720942,
          -246747.8200161679,
          -246063.57147144192,
          -244972.09612474608,
          -243287.1339438508,
          -240765.4825931758,
          -237101.0675156429,
          -231922.35490152318,
          -224794.1719580024,
          -215224.6492469261,
          -202677.49385818336,
          -186589.2069338565,
          -166390.26267058312,
          -141528.76046819036,
          -111494.72548820553,
          -75843.11522500872,
          -34213.703991465125,
          13653.660080080805,
          67909.45339427721,
          128590.99806146775,
          195625.00673541767,
          268835.5480745792,
          347956.4402018796,
          432646.83362169005,
          522508.6492885759,
          617104.5786737687,
          715975.5033058209,
          818656.4162241066,
          924690.1904095273,
          1033638.806345799,
          1145091.8960084068,
          1258672.6657426096,
          1374041.416092097,
          1490896.980503327,
          1608976.4605045523,
          1728053.6497812313,
          1847936.5228316234,
          1968464.1252959613,
          2089503.1516078955,
          2210944.438901646,
          2332699.549959804,
          2454697.5664613014,
          2576882.1693257145,
          2699209.0466529042,
          2821643.6417207946
         ],
         "yaxis": "y"
        },
        {
         "name": "EUA Mar25 75C",
         "type": "scatter",
         "x": [
          20,
          21,
          22,
          23,
          24,
          25,
          26,
          27,
          28,
          29,
          30,
          31,
          32,
          33,
          34,
          35,
          36,
          37,
          38,
          39,
          40,
          41,
          42,
          43,
          44,
          45,
          46,
          47,
          48,
          49,
          50,
          51,
          52,
          53,
          54,
          55,
          56,
          57,
          58,
          59,
          60,
          61,
          62,
          63,
          64,
          65,
          66,
          67,
          68,
          69,
          70,
          71,
          72,
          73,
          74,
          75,
          76,
          77,
          78,
          79,
          80,
          81,
          82,
          83,
          84,
          85,
          86,
          87,
          88,
          89,
          90,
          91,
          92,
          93,
          94,
          95,
          96,
          97,
          98,
          99,
          100
         ],
         "xaxis": "x2",
         "y": [
          3.51850497800839e-33,
          1.4733396493194447e-30,
          3.7774057261409656e-28,
          6.251391931594683e-26,
          6.987730726258767e-24,
          5.486136275248355e-22,
          3.129880050908526e-20,
          1.336620034568492e-18,
          4.3854947933991177e-17,
          1.131182818913797e-15,
          2.3408962065899858e-14,
          3.9574815707570876e-13,
          5.554575038486502e-12,
          6.566807221268746e-11,
          6.624742302848831e-10,
          5.770038221479769e-09,
          4.38509778266048e-08,
          2.935873162112896e-07,
          1.746786965343221e-06,
          9.309757177330116e-06,
          4.476976978044471e-05,
          0.00019555344419274932,
          0.0007805992348305258,
          0.0028635675178274585,
          0.009703901257519786,
          0.030522169610784106,
          0.08950129726821299,
          0.2456757285452625,
          0.6336666257762108,
          1.5411898282320495,
          3.5462893608883075,
          7.743643942136891,
          16.092114226050853,
          31.911063957998042,
          60.53705760773158,
          110.1230695677307,
          192.52042854122325,
          324.13501235321047,
          526.603890285518,
          827.1097336812071,
          1258.1506043428008,
          1856.6206588110224,
          2662.1336789671227,
          3714.627606080431,
          5051.407348818102,
          6703.8928159460265,
          8694.417004371464,
          11033.447835547395,
          13717.579358173874,
          16728.556138049295,
          20033.472636336417,
          23586.147744856848,
          27329.536577304163,
          31198.928144567693,
          35125.603795759016,
          39040.60438000788,
          42878.27279612128,
          46579.294861778784,
          50093.04269161242,
          53379.11679911605,
          56408.072606263755,
          59161.393425843555,
          61630.82855932642,
          63817.2491992441,
          65729.18709601297,
          67381.21476528946,
          68792.30618041137,
          69984.28869254672,
          70980.46528458247,
          71804.4552483964,
          72479.2738880214,
          73026.6496234524,
          73466.56058521189,
          73816.9623135724,
          74093.67281662028,
          74310.3799973031,
          74478.73822790108,
          74608.52457671463,
          74707.82996670052,
          74783.26565178193,
          74840.17031751298
         ],
         "yaxis": "y2"
        },
        {
         "name": "EUA Mar25 80C",
         "type": "scatter",
         "x": [
          20,
          21,
          22,
          23,
          24,
          25,
          26,
          27,
          28,
          29,
          30,
          31,
          32,
          33,
          34,
          35,
          36,
          37,
          38,
          39,
          40,
          41,
          42,
          43,
          44,
          45,
          46,
          47,
          48,
          49,
          50,
          51,
          52,
          53,
          54,
          55,
          56,
          57,
          58,
          59,
          60,
          61,
          62,
          63,
          64,
          65,
          66,
          67,
          68,
          69,
          70,
          71,
          72,
          73,
          74,
          75,
          76,
          77,
          78,
          79,
          80,
          81,
          82,
          83,
          84,
          85,
          86,
          87,
          88,
          89,
          90,
          91,
          92,
          93,
          94,
          95,
          96,
          97,
          98,
          99,
          100
         ],
         "xaxis": "x",
         "y": [
          -293042.3457475392,
          -293042.3457475392,
          -293042.3457475392,
          -293042.3457475392,
          -293042.3457475392,
          -293042.3457475392,
          -293042.3457475392,
          -293042.3457475392,
          -293042.3457475392,
          -293042.3457475392,
          -293042.3457475392,
          -293042.3457475392,
          -293042.3457475392,
          -293042.3457475392,
          -293042.3457475392,
          -293042.3457475392,
          -293042.3457475389,
          -293042.3457475362,
          -293042.3457475154,
          -293042.3457473724,
          -293042.3457464931,
          -293042.3457416252,
          -293042.3457172057,
          -293042.3456055302,
          -293042.34513734776,
          -293042.34332878265,
          -293042.33686070604,
          -293042.31535035546,
          -293042.2485584727,
          -293042.054178299,
          -293041.52211007476,
          -293040.14774698374,
          -293036.78734023456,
          -293028.98743115517,
          -293011.75420183444,
          -292975.4193921647,
          -292902.1383939467,
          -292760.44675752823,
          -292497.2398134594,
          -292026.57141869335,
          -291214.8368600768,
          -289862.24331131496,
          -287680.9828228668,
          -284271.1722231844,
          -279096.3328415179,
          -271460.83547067724,
          -260492.19893856806,
          -245131.2786047514,
          -224133.1256619342,
          -196080.6121945347,
          -159411.84753553933,
          -112461.07721854847,
          -53511.32912756519,
          19144.25116269712,
          107136.46639754405,
          211954.22480636812,
          334883.56699190853,
          476955.91813750897,
          638909.0569379156,
          821163.1134111414,
          1023812.5712937922,
          1246633.9202770228,
          1489107.4236607356,
          1750450.546777855,
          2029659.9939217968,
          2325559.0429063793,
          2636846.9221640793,
          2962147.2901500273,
          3300053.3773301505,
          3649167.9579715854,
          4008136.957759356,
          4375676.111539183,
          4750590.617241725,
          5131788.158919398,
          5518285.981909123,
          5909212.898146303,
          6303807.191331462,
          6701411.397954443,
          7101464.881879982,
          7503495.018098838,
          7907107.674216706
         ],
         "yaxis": "y"
        },
        {
         "name": "EUA Mar25 80C",
         "type": "scatter",
         "x": [
          20,
          21,
          22,
          23,
          24,
          25,
          26,
          27,
          28,
          29,
          30,
          31,
          32,
          33,
          34,
          35,
          36,
          37,
          38,
          39,
          40,
          41,
          42,
          43,
          44,
          45,
          46,
          47,
          48,
          49,
          50,
          51,
          52,
          53,
          54,
          55,
          56,
          57,
          58,
          59,
          60,
          61,
          62,
          63,
          64,
          65,
          66,
          67,
          68,
          69,
          70,
          71,
          72,
          73,
          74,
          75,
          76,
          77,
          78,
          79,
          80,
          81,
          82,
          83,
          84,
          85,
          86,
          87,
          88,
          89,
          90,
          91,
          92,
          93,
          94,
          95,
          96,
          97,
          98,
          99,
          100
         ],
         "xaxis": "x2",
         "y": [
          1.4615878240547396e-37,
          1.010700516887012e-34,
          4.1517043198392915e-32,
          1.0712156809864803e-29,
          1.821275944805789e-27,
          2.126616455972735e-25,
          1.7677721245180224e-23,
          1.0794986715470145e-21,
          4.977911079817276e-20,
          1.7760671861156907e-18,
          5.0096964952906786e-17,
          1.1387312867409936e-15,
          2.1218501602619547e-14,
          3.2911253471437e-13,
          4.308142378523139e-12,
          4.818846187542403e-11,
          4.657778977210739e-10,
          3.930234091838114e-09,
          2.9220054953089145e-08,
          1.9303231216345555e-07,
          1.1418579343274177e-06,
          6.0910414232183e-06,
          2.949037380182442e-05,
          0.00013036579823014,
          0.0005290828060493619,
          0.0019813390922888176,
          0.006878634154553103,
          0.022235001305941703,
          0.06719101287095972,
          0.19052349259972384,
          0.5086994405551329,
          1.283096171254631,
          3.0666127713538716,
          6.964529151585782,
          15.069920806126843,
          31.1457221443355,
          61.62690635450017,
          116.99923068080207,
          213.56851061715693,
          375.5632739126935,
          637.4176831582809,
          1045.973406624375,
          1662.2397009119438,
          2562.2865594985456,
          3836.8419369627513,
          5589.238595460094,
          7931.512757603025,
          10978.681552858758,
          14841.488277435325,
          19618.160931747985,
          25385.934163628484,
          32193.19788126118,
          40053.1327428478,
          48939.5692253569,
          58785.57998308755,
          69485.01919218831,
          80896.90238950298,
          92852.22249230555,
          105162.5621831026,
          117629.71683767339,
          130055.49693893833,
          142250.92994316397,
          154044.21139245038,
          165286.9378787305,
          175858.36125969034,
          185667.6068835097,
          194653.97625107344,
          202785.5915426251,
          210056.72858596122,
          216484.2260774169,
          222103.35766580957,
          226963.51894078712,
          231124.02411646477,
          234650.23788693023,
          237610.1958649988,
          240071.79946751322,
          242100.61302195652,
          243758.24494058528,
          245101.26182728293,
          246180.5636823623,
          247041.13832136948
         ],
         "yaxis": "y2"
        },
        {
         "name": "EUA Mar25 85C",
         "type": "scatter",
         "x": [
          20,
          21,
          22,
          23,
          24,
          25,
          26,
          27,
          28,
          29,
          30,
          31,
          32,
          33,
          34,
          35,
          36,
          37,
          38,
          39,
          40,
          41,
          42,
          43,
          44,
          45,
          46,
          47,
          48,
          49,
          50,
          51,
          52,
          53,
          54,
          55,
          56,
          57,
          58,
          59,
          60,
          61,
          62,
          63,
          64,
          65,
          66,
          67,
          68,
          69,
          70,
          71,
          72,
          73,
          74,
          75,
          76,
          77,
          78,
          79,
          80,
          81,
          82,
          83,
          84,
          85,
          86,
          87,
          88,
          89,
          90,
          91,
          92,
          93,
          94,
          95,
          96,
          97,
          98,
          99,
          100
         ],
         "xaxis": "x",
         "y": [
          -120545.32695780632,
          -120545.32695780632,
          -120545.32695780632,
          -120545.32695780632,
          -120545.32695780632,
          -120545.32695780632,
          -120545.32695780632,
          -120545.32695780632,
          -120545.32695780632,
          -120545.32695780632,
          -120545.32695780632,
          -120545.32695780632,
          -120545.32695780632,
          -120545.32695780632,
          -120545.32695780632,
          -120545.32695780632,
          -120545.32695780632,
          -120545.32695780625,
          -120545.32695780565,
          -120545.32695780118,
          -120545.3269577708,
          -120545.32695758581,
          -120545.32695656584,
          -120545.32695144314,
          -120545.3269278786,
          -120545.3268280876,
          -120545.32643719659,
          -120545.32501467546,
          -120545.32018551776,
          -120545.30483439761,
          -120545.25897821816,
          -120545.12983415372,
          -120544.78587653802,
          -120543.91704047115,
          -120541.82994490556,
          -120537.05009036182,
          -120526.58882671224,
          -120504.65985085118,
          -120460.54060296604,
          -120375.17717677812,
          -120216.04439166994,
          -119929.72086249532,
          -119431.65340433986,
          -118592.69754413496,
          -117222.25557533656,
          -115048.19863108317,
          -111694.23899167418,
          -106655.96976065666,
          -99277.34139083729,
          -88729.81045863288,
          -73996.68342789606,
          -53865.20759770468,
          -26928.683366887133,
          8399.720782735314,
          53860.63567029869,
          111309.88071010154,
          182668.9380510859,
          269866.93243356334,
          374777.4010424209,
          499153.702281095,
          644567.1137445063,
          812351.490744047,
          1003557.8280402074,
          1218921.2597270715,
          1458842.0439548139,
          1723381.021299808,
          2012269.01623678,
          2324928.7627502894,
          2660507.2452845913,
          3017915.8933666237,
          3395875.8614633274,
          3792965.64841888,
          4207668.527086987,
          4638417.616221599,
          5083636.880091244,
          5541776.834882305,
          6011344.229367504,
          6490925.414633356,
          6979203.498884373,
          7474969.684301973,
          7977129.399132671
         ],
         "yaxis": "y"
        },
        {
         "name": "EUA Mar25 85C",
         "type": "scatter",
         "x": [
          20,
          21,
          22,
          23,
          24,
          25,
          26,
          27,
          28,
          29,
          30,
          31,
          32,
          33,
          34,
          35,
          36,
          37,
          38,
          39,
          40,
          41,
          42,
          43,
          44,
          45,
          46,
          47,
          48,
          49,
          50,
          51,
          52,
          53,
          54,
          55,
          56,
          57,
          58,
          59,
          60,
          61,
          62,
          63,
          64,
          65,
          66,
          67,
          68,
          69,
          70,
          71,
          72,
          73,
          74,
          75,
          76,
          77,
          78,
          79,
          80,
          81,
          82,
          83,
          84,
          85,
          86,
          87,
          88,
          89,
          90,
          91,
          92,
          93,
          94,
          95,
          96,
          97,
          98,
          99,
          100
         ],
         "xaxis": "x2",
         "y": [
          6.608112523059967e-40,
          5.076227204384114e-37,
          2.3184314922977396e-34,
          6.654722870577347e-32,
          1.2590138699877226e-29,
          1.635930988274881e-27,
          1.5130843334772804e-25,
          1.027767953351307e-23,
          5.269604481833453e-22,
          2.0894227582025394e-20,
          6.545708080714372e-19,
          1.651420071050113e-17,
          3.412956677512173e-16,
          5.866906650791742e-15,
          8.504647725896926e-14,
          1.0525691306658971e-12,
          1.1247523368754062e-11,
          1.0483048242131868e-10,
          8.601124093633734e-10,
          6.264951468701986e-09,
          4.082418659148684e-08,
          2.3967113414786915e-07,
          1.2759143983433686e-06,
          6.196099537068149e-06,
          2.7598573265214852e-05,
          0.00011332444671368792,
          0.0004309841650969995,
          0.0015246918677799893,
          0.005037702196215139,
          0.015603992297393982,
          0.04546766533196149,
          0.12503790370587978,
          0.3255124761580971,
          0.8044697527301623,
          1.8924250133086526,
          4.2478903823167675,
          9.119819772199618,
          18.767629368905393,
          37.096991713655285,
          70.56972250858762,
          129.433093823345,
          229.2832473463981,
          392.9268494198176,
          652.4366324529192,
          1051.2171812601587,
          1645.819716402612,
          2507.1849844530852,
          3720.9688603127884,
          5386.630096563654,
          7615.041137064509,
          10524.518587243818,
          14235.346564263027,
          18863.061071616627,
          24510.948229125042,
          31262.35432308335,
          39173.4865792916,
          48267.3849927319,
          58529.664345124875,
          69906.47125812995,
          82304.89413301225,
          95595.83158143572,
          109619.09729665858,
          124190.34371265015,
          139109.24441913018,
          154168.29853353984,
          169161.61188219354,
          183893.0639048749,
          198183.37283185532,
          211875.70789952565,
          224839.64786235648,
          236973.43272586932,
          248204.58647905392,
          258489.09288881687,
          267809.3789545278,
          276171.4004943585,
          283601.1341217685,
          290140.76460144634,
          295844.82264789887,
          300776.4824207414,
          305004.17663394986,
          308598.6357198532
         ],
         "yaxis": "y2"
        },
        {
         "name": "EUA Mar25 90C",
         "type": "scatter",
         "x": [
          20,
          21,
          22,
          23,
          24,
          25,
          26,
          27,
          28,
          29,
          30,
          31,
          32,
          33,
          34,
          35,
          36,
          37,
          38,
          39,
          40,
          41,
          42,
          43,
          44,
          45,
          46,
          47,
          48,
          49,
          50,
          51,
          52,
          53,
          54,
          55,
          56,
          57,
          58,
          59,
          60,
          61,
          62,
          63,
          64,
          65,
          66,
          67,
          68,
          69,
          70,
          71,
          72,
          73,
          74,
          75,
          76,
          77,
          78,
          79,
          80,
          81,
          82,
          83,
          84,
          85,
          86,
          87,
          88,
          89,
          90,
          91,
          92,
          93,
          94,
          95,
          96,
          97,
          98,
          99,
          100
         ],
         "xaxis": "x",
         "y": [
          -42315.162703868795,
          -42315.162703868795,
          -42315.162703868795,
          -42315.162703868795,
          -42315.162703868795,
          -42315.162703868795,
          -42315.162703868795,
          -42315.162703868795,
          -42315.162703868795,
          -42315.162703868795,
          -42315.162703868795,
          -42315.162703868795,
          -42315.162703868795,
          -42315.162703868795,
          -42315.162703868795,
          -42315.162703868795,
          -42315.162703868795,
          -42315.162703868795,
          -42315.16270386869,
          -42315.16270386803,
          -42315.16270386361,
          -42315.16270383676,
          -42315.16270368894,
          -42315.16270294474,
          -42315.162699501096,
          -42315.16268478315,
          -42315.1626264209,
          -42315.162410800964,
          -42315.16166572088,
          -42315.15924891823,
          -42315.15186541006,
          -42315.13055320885,
          -42315.07226128932,
          -42314.92076887791,
          -42314.545719803886,
          -42313.65908935991,
          -42311.65307934759,
          -42307.30017552592,
          -42298.22310389031,
          -42279.99891805974,
          -42244.70866900217,
          -42178.686299441426,
          -42059.165609523065,
          -41849.48434847276,
          -41492.49484034126,
          -40901.86739112283,
          -39951.07055798875,
          -38459.98015588902,
          -36179.30637992661,
          -32773.323407553384,
          -27801.713147308867,
          -20701.65774190222,
          -10771.589779910686,
          2841.8107946597006,
          21151.738323877864,
          45332.98247794119,
          76716.01509842357,
          116772.65183647208,
          167093.06311431492,
          229354.54577945007,
          305283.1122327315,
          396609.542100684,
          505022.01254943735,
          632117.7300550403,
          779356.1003574167,
          948015.8871892011,
          1139158.537939785,
          1353599.4275261303,
          1591888.2353918052,
          1854299.0768574874,
          2140830.4119855007,
          2451214.200947718,
          2784933.3037541555,
          3141245.7614149675,
          3519214.3595671616,
          3917739.7662531114,
          4335595.544111738,
          4771463.446717318,
          5223967.59682585,
          5691706.386061857,
          6173281.206427841
         ],
         "yaxis": "y"
        },
        {
         "name": "EUA Mar25 90C",
         "type": "scatter",
         "x": [
          20,
          21,
          22,
          23,
          24,
          25,
          26,
          27,
          28,
          29,
          30,
          31,
          32,
          33,
          34,
          35,
          36,
          37,
          38,
          39,
          40,
          41,
          42,
          43,
          44,
          45,
          46,
          47,
          48,
          49,
          50,
          51,
          52,
          53,
          54,
          55,
          56,
          57,
          58,
          59,
          60,
          61,
          62,
          63,
          64,
          65,
          66,
          67,
          68,
          69,
          70,
          71,
          72,
          73,
          74,
          75,
          76,
          77,
          78,
          79,
          80,
          81,
          82,
          83,
          84,
          85,
          86,
          87,
          88,
          89,
          90,
          91,
          92,
          93,
          94,
          95,
          96,
          97,
          98,
          99,
          100
         ],
         "xaxis": "x2",
         "y": [
          5.8603549245651574e-40,
          3.5585559654485575e-37,
          1.3188674581306258e-34,
          3.144083914826996e-32,
          5.04337277415716e-30,
          5.659704209147144e-28,
          4.5963626060372655e-26,
          2.782488730350796e-24,
          1.2886644805398757e-22,
          4.67192954066908e-21,
          1.353109656570942e-19,
          3.1879247581031916e-18,
          6.209270981215473e-17,
          1.014430710728222e-15,
          1.4083535592466204e-14,
          1.6811750253310778e-13,
          1.7439909219100996e-12,
          1.5874324303670237e-11,
          1.2790186764004037e-10,
          9.195259348360747e-10,
          5.941996640593201e-09,
          3.474491025470224e-08,
          1.8497398313774467e-07,
          9.016683598112693e-07,
          4.045415342267446e-06,
          1.6786074966607684e-05,
          6.470496588958339e-05,
          0.00023265852455874576,
          0.0007833479433620752,
          0.002478500464317928,
          0.00739365512929309,
          0.020859557351861055,
          0.055818402770050166,
          0.1420513125171877,
          0.34466955515940656,
          0.7992378203532909,
          1.7751170703770953,
          3.7840784699853285,
          7.757577346124322,
          15.322377793031356,
          29.208941571869307,
          53.82801377273644,
          96.04570450202228,
          166.17379972834456,
          279.16858784568814,
          455.99826140872574,
          725.098164776192,
          1123.7893696138967,
          1699.4958919671965,
          2510.567152110002,
          3626.5027546397446,
          5127.39240231667,
          7102.42768479868,
          9647.413347089205,
          12861.29765779424,
          16841.844852458216,
          21680.67478134107,
          27457.982446472543,
          34237.31091511473,
          42060.7761661699,
          50945.12736781441,
          60878.97173625656,
          71821.40535731928,
          83702.18009840528,
          96423.4144672342,
          109862.73619166047,
          123877.63858487674,
          138310.75112570685,
          152995.67337948357,
          167763.00281832047,
          182446.19998090062,
          196886.9743568375,
          210939.93481203043,
          224476.32155236174,
          237386.71466418088,
          249582.6899861364,
          260997.46060353128,
          271585.597453169,
          281321.96302622335,
          290200.01729814144,
          298229.66556965787
         ],
         "yaxis": "y2"
        },
        {
         "mode": "lines",
         "name": "Total_PnL",
         "type": "scatter",
         "x": [
          20,
          21,
          22,
          23,
          24,
          25,
          26,
          27,
          28,
          29,
          30,
          31,
          32,
          33,
          34,
          35,
          36,
          37,
          38,
          39,
          40,
          41,
          42,
          43,
          44,
          45,
          46,
          47,
          48,
          49,
          50,
          51,
          52,
          53,
          54,
          55,
          56,
          57,
          58,
          59,
          60,
          61,
          62,
          63,
          64,
          65,
          66,
          67,
          68,
          69,
          70,
          71,
          72,
          73,
          74,
          75,
          76,
          77,
          78,
          79,
          80,
          81,
          82,
          83,
          84,
          85,
          86,
          87,
          88,
          89,
          90,
          91,
          92,
          93,
          94,
          95,
          96,
          97,
          98,
          99,
          100
         ],
         "xaxis": "x",
         "y": [
          -703588.5084591393,
          -703588.5084591393,
          -703588.5084591393,
          -703588.5084591393,
          -703588.5084591393,
          -703588.5084591393,
          -703588.5084591393,
          -703588.5084591393,
          -703588.5084591393,
          -703588.5084591393,
          -703588.5084591393,
          -703588.5084591393,
          -703588.5084591393,
          -703588.5084591393,
          -703588.5084591387,
          -703588.508459135,
          -703588.5084591036,
          -703588.5084588842,
          -703588.5084575195,
          -703588.5084499242,
          -703588.5084118245,
          -703588.5082383789,
          -703588.5075172831,
          -703588.5047634906,
          -703588.4950514935,
          -703588.4632618964,
          -703588.3662408335,
          -703588.0889620148,
          -703587.3439310166,
          -703585.4548116241,
          -703580.9186868988,
          -703570.5704773691,
          -703548.0735829778,
          -703501.3329761642,
          -703408.2782684361,
          -703230.3118778968,
          -702902.5888972159,
          -702320.2268000733,
          -701319.5749917576,
          -699653.8436382773,
          -696962.7238645997,
          -692736.1330664275,
          -686272.8693523727,
          -676635.7090173153,
          -662605.2552151982,
          -642635.5507398093,
          -614815.0023464143,
          -576836.4354551537,
          -525980.0361032812,
          -459112.5065289113,
          -372704.96959894977,
          -262871.0577831641,
          -125425.30626582814,
          44039.44282017294,
          250058.2937859978,
          497188.08605587867,
          789893.5268768357,
          1132431.0504821236,
          1528735.961296531,
          1982318.1950933768,
          2496171.446559606,
          3072699.531795522,
          3713662.7675562007,
          4420145.952784074,
          5192548.328643555,
          6030594.757741188,
          6933366.372349051,
          7899348.146169057,
          8926490.274098644,
          10012279.908699023,
          11153819.691712737,
          12347909.610687012,
          13591128.97091449,
          14879915.661851926,
          16210640.373175424,
          17579673.938183364,
          18983446.514770508,
          20418497.825766418,
          21881518.14691592,
          23369380.135115575,
          24879161.921498016
         ],
         "yaxis": "y"
        },
        {
         "mode": "lines",
         "name": "Total_Delta",
         "type": "scatter",
         "x": [
          20,
          21,
          22,
          23,
          24,
          25,
          26,
          27,
          28,
          29,
          30,
          31,
          32,
          33,
          34,
          35,
          36,
          37,
          38,
          39,
          40,
          41,
          42,
          43,
          44,
          45,
          46,
          47,
          48,
          49,
          50,
          51,
          52,
          53,
          54,
          55,
          56,
          57,
          58,
          59,
          60,
          61,
          62,
          63,
          64,
          65,
          66,
          67,
          68,
          69,
          70,
          71,
          72,
          73,
          74,
          75,
          76,
          77,
          78,
          79,
          80,
          81,
          82,
          83,
          84,
          85,
          86,
          87,
          88,
          89,
          90,
          91,
          92,
          93,
          94,
          95,
          96,
          97,
          98,
          99,
          100
         ],
         "xaxis": "x2",
         "y": [
          3.5186523836375406e-33,
          1.4734415828494502e-30,
          3.7778245338719e-28,
          6.252472946082455e-26,
          6.989569635715046e-24,
          5.48828491071842e-22,
          3.131667550238985e-20,
          1.337712593408303e-18,
          4.390538287168559e-17,
          1.1329844522570355e-15,
          2.3459848912626492e-14,
          3.9690659048791836e-13,
          5.576196928466685e-12,
          6.600406608476334e-11,
          6.668815026762577e-10,
          5.819447369988391e-09,
          4.432974723861654e-08,
          2.976382551098527e-07,
          1.7769950345733135e-06,
          9.50997396689711e-06,
          4.59583938980042e-05,
          0.0002019189016603702,
          0.0008115504970138313,
          0.003001031083954478,
          0.010264628052176629,
          0.03263361922475321,
          0.09687562055375268,
          0.26966808024354294,
          0.7066786887867478,
          1.7497958135934855,
          4.107850121904695,
          9.172637574449263,
          19.54005787633287,
          39.82211417483118,
          77.8440729823265,
          146.31591991473624,
          265.04227173830014,
          463.6859508729033,
          785.0269699624545,
          1288.5651078955195,
          2054.210322896296,
          3185.705326554532,
          4813.345933800906,
          7095.524597760241,
          10218.635054886701,
          14394.949389217458,
          19858.212911203766,
          26856.887618332836,
          35645.193624140054,
          46472.325358971786,
          59570.42814184846,
          75142.08459269773,
          93348.15807656727,
          114296.85894613885,
          138034.83575972414,
          164540.955003946,
          193723.23495969723,
          225419.16414568175,
          259399.3870479597,
          295374.5039359716,
          333004.52849445224,
          371910.39240192267,
          411686.78902174626,
          451915.6115955101,
          492179.2613564773,
          532073.1697226532,
          571216.9849212364,
          609264.004192734,
          645908.5751495529,
          680891.3320064903,
          714002.2642606009,
          745081.7294001309,
          774019.612402524,
          800752.9007073921,
          825261.9838401584,
          847566.0035727213,
          867717.5764548352,
          885797.1896183677,
          901907.5372409482,
          916168.0232662356,
          928709.6099283935
         ],
         "yaxis": "y2"
        }
       ],
       "layout": {
        "barmode": "stack",
        "template": {
         "data": {
          "bar": [
           {
            "error_x": {
             "color": "#2a3f5f"
            },
            "error_y": {
             "color": "#2a3f5f"
            },
            "marker": {
             "line": {
              "color": "#E5ECF6",
              "width": 0.5
             },
             "pattern": {
              "fillmode": "overlay",
              "size": 10,
              "solidity": 0.2
             }
            },
            "type": "bar"
           }
          ],
          "barpolar": [
           {
            "marker": {
             "line": {
              "color": "#E5ECF6",
              "width": 0.5
             },
             "pattern": {
              "fillmode": "overlay",
              "size": 10,
              "solidity": 0.2
             }
            },
            "type": "barpolar"
           }
          ],
          "carpet": [
           {
            "aaxis": {
             "endlinecolor": "#2a3f5f",
             "gridcolor": "white",
             "linecolor": "white",
             "minorgridcolor": "white",
             "startlinecolor": "#2a3f5f"
            },
            "baxis": {
             "endlinecolor": "#2a3f5f",
             "gridcolor": "white",
             "linecolor": "white",
             "minorgridcolor": "white",
             "startlinecolor": "#2a3f5f"
            },
            "type": "carpet"
           }
          ],
          "choropleth": [
           {
            "colorbar": {
             "outlinewidth": 0,
             "ticks": ""
            },
            "type": "choropleth"
           }
          ],
          "contour": [
           {
            "colorbar": {
             "outlinewidth": 0,
             "ticks": ""
            },
            "colorscale": [
             [
              0,
              "#0d0887"
             ],
             [
              0.1111111111111111,
              "#46039f"
             ],
             [
              0.2222222222222222,
              "#7201a8"
             ],
             [
              0.3333333333333333,
              "#9c179e"
             ],
             [
              0.4444444444444444,
              "#bd3786"
             ],
             [
              0.5555555555555556,
              "#d8576b"
             ],
             [
              0.6666666666666666,
              "#ed7953"
             ],
             [
              0.7777777777777778,
              "#fb9f3a"
             ],
             [
              0.8888888888888888,
              "#fdca26"
             ],
             [
              1,
              "#f0f921"
             ]
            ],
            "type": "contour"
           }
          ],
          "contourcarpet": [
           {
            "colorbar": {
             "outlinewidth": 0,
             "ticks": ""
            },
            "type": "contourcarpet"
           }
          ],
          "heatmap": [
           {
            "colorbar": {
             "outlinewidth": 0,
             "ticks": ""
            },
            "colorscale": [
             [
              0,
              "#0d0887"
             ],
             [
              0.1111111111111111,
              "#46039f"
             ],
             [
              0.2222222222222222,
              "#7201a8"
             ],
             [
              0.3333333333333333,
              "#9c179e"
             ],
             [
              0.4444444444444444,
              "#bd3786"
             ],
             [
              0.5555555555555556,
              "#d8576b"
             ],
             [
              0.6666666666666666,
              "#ed7953"
             ],
             [
              0.7777777777777778,
              "#fb9f3a"
             ],
             [
              0.8888888888888888,
              "#fdca26"
             ],
             [
              1,
              "#f0f921"
             ]
            ],
            "type": "heatmap"
           }
          ],
          "heatmapgl": [
           {
            "colorbar": {
             "outlinewidth": 0,
             "ticks": ""
            },
            "colorscale": [
             [
              0,
              "#0d0887"
             ],
             [
              0.1111111111111111,
              "#46039f"
             ],
             [
              0.2222222222222222,
              "#7201a8"
             ],
             [
              0.3333333333333333,
              "#9c179e"
             ],
             [
              0.4444444444444444,
              "#bd3786"
             ],
             [
              0.5555555555555556,
              "#d8576b"
             ],
             [
              0.6666666666666666,
              "#ed7953"
             ],
             [
              0.7777777777777778,
              "#fb9f3a"
             ],
             [
              0.8888888888888888,
              "#fdca26"
             ],
             [
              1,
              "#f0f921"
             ]
            ],
            "type": "heatmapgl"
           }
          ],
          "histogram": [
           {
            "marker": {
             "pattern": {
              "fillmode": "overlay",
              "size": 10,
              "solidity": 0.2
             }
            },
            "type": "histogram"
           }
          ],
          "histogram2d": [
           {
            "colorbar": {
             "outlinewidth": 0,
             "ticks": ""
            },
            "colorscale": [
             [
              0,
              "#0d0887"
             ],
             [
              0.1111111111111111,
              "#46039f"
             ],
             [
              0.2222222222222222,
              "#7201a8"
             ],
             [
              0.3333333333333333,
              "#9c179e"
             ],
             [
              0.4444444444444444,
              "#bd3786"
             ],
             [
              0.5555555555555556,
              "#d8576b"
             ],
             [
              0.6666666666666666,
              "#ed7953"
             ],
             [
              0.7777777777777778,
              "#fb9f3a"
             ],
             [
              0.8888888888888888,
              "#fdca26"
             ],
             [
              1,
              "#f0f921"
             ]
            ],
            "type": "histogram2d"
           }
          ],
          "histogram2dcontour": [
           {
            "colorbar": {
             "outlinewidth": 0,
             "ticks": ""
            },
            "colorscale": [
             [
              0,
              "#0d0887"
             ],
             [
              0.1111111111111111,
              "#46039f"
             ],
             [
              0.2222222222222222,
              "#7201a8"
             ],
             [
              0.3333333333333333,
              "#9c179e"
             ],
             [
              0.4444444444444444,
              "#bd3786"
             ],
             [
              0.5555555555555556,
              "#d8576b"
             ],
             [
              0.6666666666666666,
              "#ed7953"
             ],
             [
              0.7777777777777778,
              "#fb9f3a"
             ],
             [
              0.8888888888888888,
              "#fdca26"
             ],
             [
              1,
              "#f0f921"
             ]
            ],
            "type": "histogram2dcontour"
           }
          ],
          "mesh3d": [
           {
            "colorbar": {
             "outlinewidth": 0,
             "ticks": ""
            },
            "type": "mesh3d"
           }
          ],
          "parcoords": [
           {
            "line": {
             "colorbar": {
              "outlinewidth": 0,
              "ticks": ""
             }
            },
            "type": "parcoords"
           }
          ],
          "pie": [
           {
            "automargin": true,
            "type": "pie"
           }
          ],
          "scatter": [
           {
            "fillpattern": {
             "fillmode": "overlay",
             "size": 10,
             "solidity": 0.2
            },
            "type": "scatter"
           }
          ],
          "scatter3d": [
           {
            "line": {
             "colorbar": {
              "outlinewidth": 0,
              "ticks": ""
             }
            },
            "marker": {
             "colorbar": {
              "outlinewidth": 0,
              "ticks": ""
             }
            },
            "type": "scatter3d"
           }
          ],
          "scattercarpet": [
           {
            "marker": {
             "colorbar": {
              "outlinewidth": 0,
              "ticks": ""
             }
            },
            "type": "scattercarpet"
           }
          ],
          "scattergeo": [
           {
            "marker": {
             "colorbar": {
              "outlinewidth": 0,
              "ticks": ""
             }
            },
            "type": "scattergeo"
           }
          ],
          "scattergl": [
           {
            "marker": {
             "colorbar": {
              "outlinewidth": 0,
              "ticks": ""
             }
            },
            "type": "scattergl"
           }
          ],
          "scattermapbox": [
           {
            "marker": {
             "colorbar": {
              "outlinewidth": 0,
              "ticks": ""
             }
            },
            "type": "scattermapbox"
           }
          ],
          "scatterpolar": [
           {
            "marker": {
             "colorbar": {
              "outlinewidth": 0,
              "ticks": ""
             }
            },
            "type": "scatterpolar"
           }
          ],
          "scatterpolargl": [
           {
            "marker": {
             "colorbar": {
              "outlinewidth": 0,
              "ticks": ""
             }
            },
            "type": "scatterpolargl"
           }
          ],
          "scatterternary": [
           {
            "marker": {
             "colorbar": {
              "outlinewidth": 0,
              "ticks": ""
             }
            },
            "type": "scatterternary"
           }
          ],
          "surface": [
           {
            "colorbar": {
             "outlinewidth": 0,
             "ticks": ""
            },
            "colorscale": [
             [
              0,
              "#0d0887"
             ],
             [
              0.1111111111111111,
              "#46039f"
             ],
             [
              0.2222222222222222,
              "#7201a8"
             ],
             [
              0.3333333333333333,
              "#9c179e"
             ],
             [
              0.4444444444444444,
              "#bd3786"
             ],
             [
              0.5555555555555556,
              "#d8576b"
             ],
             [
              0.6666666666666666,
              "#ed7953"
             ],
             [
              0.7777777777777778,
              "#fb9f3a"
             ],
             [
              0.8888888888888888,
              "#fdca26"
             ],
             [
              1,
              "#f0f921"
             ]
            ],
            "type": "surface"
           }
          ],
          "table": [
           {
            "cells": {
             "fill": {
              "color": "#EBF0F8"
             },
             "line": {
              "color": "white"
             }
            },
            "header": {
             "fill": {
              "color": "#C8D4E3"
             },
             "line": {
              "color": "white"
             }
            },
            "type": "table"
           }
          ]
         },
         "layout": {
          "annotationdefaults": {
           "arrowcolor": "#2a3f5f",
           "arrowhead": 0,
           "arrowwidth": 1
          },
          "autotypenumbers": "strict",
          "coloraxis": {
           "colorbar": {
            "outlinewidth": 0,
            "ticks": ""
           }
          },
          "colorscale": {
           "diverging": [
            [
             0,
             "#8e0152"
            ],
            [
             0.1,
             "#c51b7d"
            ],
            [
             0.2,
             "#de77ae"
            ],
            [
             0.3,
             "#f1b6da"
            ],
            [
             0.4,
             "#fde0ef"
            ],
            [
             0.5,
             "#f7f7f7"
            ],
            [
             0.6,
             "#e6f5d0"
            ],
            [
             0.7,
             "#b8e186"
            ],
            [
             0.8,
             "#7fbc41"
            ],
            [
             0.9,
             "#4d9221"
            ],
            [
             1,
             "#276419"
            ]
           ],
           "sequential": [
            [
             0,
             "#0d0887"
            ],
            [
             0.1111111111111111,
             "#46039f"
            ],
            [
             0.2222222222222222,
             "#7201a8"
            ],
            [
             0.3333333333333333,
             "#9c179e"
            ],
            [
             0.4444444444444444,
             "#bd3786"
            ],
            [
             0.5555555555555556,
             "#d8576b"
            ],
            [
             0.6666666666666666,
             "#ed7953"
            ],
            [
             0.7777777777777778,
             "#fb9f3a"
            ],
            [
             0.8888888888888888,
             "#fdca26"
            ],
            [
             1,
             "#f0f921"
            ]
           ],
           "sequentialminus": [
            [
             0,
             "#0d0887"
            ],
            [
             0.1111111111111111,
             "#46039f"
            ],
            [
             0.2222222222222222,
             "#7201a8"
            ],
            [
             0.3333333333333333,
             "#9c179e"
            ],
            [
             0.4444444444444444,
             "#bd3786"
            ],
            [
             0.5555555555555556,
             "#d8576b"
            ],
            [
             0.6666666666666666,
             "#ed7953"
            ],
            [
             0.7777777777777778,
             "#fb9f3a"
            ],
            [
             0.8888888888888888,
             "#fdca26"
            ],
            [
             1,
             "#f0f921"
            ]
           ]
          },
          "colorway": [
           "#636efa",
           "#EF553B",
           "#00cc96",
           "#ab63fa",
           "#FFA15A",
           "#19d3f3",
           "#FF6692",
           "#B6E880",
           "#FF97FF",
           "#FECB52"
          ],
          "font": {
           "color": "#2a3f5f"
          },
          "geo": {
           "bgcolor": "white",
           "lakecolor": "white",
           "landcolor": "#E5ECF6",
           "showlakes": true,
           "showland": true,
           "subunitcolor": "white"
          },
          "hoverlabel": {
           "align": "left"
          },
          "hovermode": "closest",
          "mapbox": {
           "style": "light"
          },
          "paper_bgcolor": "white",
          "plot_bgcolor": "#E5ECF6",
          "polar": {
           "angularaxis": {
            "gridcolor": "white",
            "linecolor": "white",
            "ticks": ""
           },
           "bgcolor": "#E5ECF6",
           "radialaxis": {
            "gridcolor": "white",
            "linecolor": "white",
            "ticks": ""
           }
          },
          "scene": {
           "xaxis": {
            "backgroundcolor": "#E5ECF6",
            "gridcolor": "white",
            "gridwidth": 2,
            "linecolor": "white",
            "showbackground": true,
            "ticks": "",
            "zerolinecolor": "white"
           },
           "yaxis": {
            "backgroundcolor": "#E5ECF6",
            "gridcolor": "white",
            "gridwidth": 2,
            "linecolor": "white",
            "showbackground": true,
            "ticks": "",
            "zerolinecolor": "white"
           },
           "zaxis": {
            "backgroundcolor": "#E5ECF6",
            "gridcolor": "white",
            "gridwidth": 2,
            "linecolor": "white",
            "showbackground": true,
            "ticks": "",
            "zerolinecolor": "white"
           }
          },
          "shapedefaults": {
           "line": {
            "color": "#2a3f5f"
           }
          },
          "ternary": {
           "aaxis": {
            "gridcolor": "white",
            "linecolor": "white",
            "ticks": ""
           },
           "baxis": {
            "gridcolor": "white",
            "linecolor": "white",
            "ticks": ""
           },
           "bgcolor": "#E5ECF6",
           "caxis": {
            "gridcolor": "white",
            "linecolor": "white",
            "ticks": ""
           }
          },
          "title": {
           "x": 0.05
          },
          "xaxis": {
           "automargin": true,
           "gridcolor": "white",
           "linecolor": "white",
           "ticks": "",
           "title": {
            "standoff": 15
           },
           "zerolinecolor": "white",
           "zerolinewidth": 2
          },
          "yaxis": {
           "automargin": true,
           "gridcolor": "white",
           "linecolor": "white",
           "ticks": "",
           "title": {
            "standoff": 15
           },
           "zerolinecolor": "white",
           "zerolinewidth": 2
          }
         }
        },
        "title": {
         "text": "Todays Option Pos (PnL and Delta)",
         "x": 0.5,
         "xanchor": "center"
        },
        "xaxis": {
         "anchor": "y",
         "domain": [
          0,
          0.45
         ],
         "title": {
          "text": "Price"
         }
        },
        "xaxis2": {
         "anchor": "y2",
         "domain": [
          0.55,
          1
         ],
         "title": {
          "text": "Price"
         }
        },
        "yaxis": {
         "anchor": "x",
         "domain": [
          0,
          1
         ],
         "title": {
          "text": "Pnl"
         }
        },
        "yaxis2": {
         "anchor": "x2",
         "domain": [
          0,
          1
         ],
         "title": {
          "text": "Delta"
         }
        }
       }
      },
      "text/html": [
       "<div>                            <div id=\"f11a8b18-52dd-405b-af49-5759aeba5803\" class=\"plotly-graph-div\" style=\"height:525px; width:100%;\"></div>            <script type=\"text/javascript\">                require([\"plotly\"], function(Plotly) {                    window.PLOTLYENV=window.PLOTLYENV || {};                                    if (document.getElementById(\"f11a8b18-52dd-405b-af49-5759aeba5803\")) {                    Plotly.newPlot(                        \"f11a8b18-52dd-405b-af49-5759aeba5803\",                        [{\"name\":\"EUA Mar25 75C\",\"x\":[20,21,22,23,24,25,26,27,28,29,30,31,32,33,34,35,36,37,38,39,40,41,42,43,44,45,46,47,48,49,50,51,52,53,54,55,56,57,58,59,60,61,62,63,64,65,66,67,68,69,70,71,72,73,74,75,76,77,78,79,80,81,82,83,84,85,86,87,88,89,90,91,92,93,94,95,96,97,98,99,100],\"y\":[-247685.6730499249,-247685.6730499249,-247685.6730499249,-247685.6730499249,-247685.6730499249,-247685.6730499249,-247685.6730499249,-247685.6730499249,-247685.6730499249,-247685.6730499249,-247685.6730499249,-247685.6730499249,-247685.6730499249,-247685.67304992487,-247685.67304992437,-247685.67304992053,-247685.67304988953,-247685.6730496729,-247685.67304832969,-247685.67304088266,-247685.6730036971,-247685.67283533118,-247685.67213982256,-247685.6695035726,-247685.66028676595,-247685.63042024308,-247685.54031651,-247685.28618618287,-247684.61352130526,-247682.93655000936,-247678.98573319576,-247670.1623430228,-247651.42810491586,-247613.50773565992,-247540.14840189216,-247404.1833060103,-247162.20859720942,-246747.8200161679,-246063.57147144192,-244972.09612474608,-243287.1339438508,-240765.4825931758,-237101.0675156429,-231922.35490152318,-224794.1719580024,-215224.6492469261,-202677.49385818336,-186589.2069338565,-166390.26267058312,-141528.76046819036,-111494.72548820553,-75843.11522500872,-34213.703991465125,13653.660080080805,67909.45339427721,128590.99806146775,195625.00673541767,268835.5480745792,347956.4402018796,432646.83362169005,522508.6492885759,617104.5786737687,715975.5033058209,818656.4162241066,924690.1904095273,1033638.806345799,1145091.8960084068,1258672.6657426096,1374041.416092097,1490896.980503327,1608976.4605045523,1728053.6497812313,1847936.5228316234,1968464.1252959613,2089503.1516078955,2210944.438901646,2332699.549959804,2454697.5664613014,2576882.1693257145,2699209.0466529042,2821643.6417207946],\"type\":\"scatter\",\"xaxis\":\"x\",\"yaxis\":\"y\"},{\"name\":\"EUA Mar25 75C\",\"x\":[20,21,22,23,24,25,26,27,28,29,30,31,32,33,34,35,36,37,38,39,40,41,42,43,44,45,46,47,48,49,50,51,52,53,54,55,56,57,58,59,60,61,62,63,64,65,66,67,68,69,70,71,72,73,74,75,76,77,78,79,80,81,82,83,84,85,86,87,88,89,90,91,92,93,94,95,96,97,98,99,100],\"y\":[3.51850497800839e-33,1.4733396493194447e-30,3.7774057261409656e-28,6.251391931594683e-26,6.987730726258767e-24,5.486136275248355e-22,3.129880050908526e-20,1.336620034568492e-18,4.3854947933991177e-17,1.131182818913797e-15,2.3408962065899858e-14,3.9574815707570876e-13,5.554575038486502e-12,6.566807221268746e-11,6.624742302848831e-10,5.770038221479769e-09,4.38509778266048e-08,2.935873162112896e-07,1.746786965343221e-06,9.309757177330116e-06,4.476976978044471e-05,0.00019555344419274932,0.0007805992348305258,0.0028635675178274585,0.009703901257519786,0.030522169610784106,0.08950129726821299,0.2456757285452625,0.6336666257762108,1.5411898282320495,3.5462893608883075,7.743643942136891,16.092114226050853,31.911063957998042,60.53705760773158,110.1230695677307,192.52042854122325,324.13501235321047,526.603890285518,827.1097336812071,1258.1506043428008,1856.6206588110224,2662.1336789671227,3714.627606080431,5051.407348818102,6703.8928159460265,8694.417004371464,11033.447835547395,13717.579358173874,16728.556138049295,20033.472636336417,23586.147744856848,27329.536577304163,31198.928144567693,35125.603795759016,39040.60438000788,42878.27279612128,46579.294861778784,50093.04269161242,53379.11679911605,56408.072606263755,59161.393425843555,61630.82855932642,63817.2491992441,65729.18709601297,67381.21476528946,68792.30618041137,69984.28869254672,70980.46528458247,71804.4552483964,72479.2738880214,73026.6496234524,73466.56058521189,73816.9623135724,74093.67281662028,74310.3799973031,74478.73822790108,74608.52457671463,74707.82996670052,74783.26565178193,74840.17031751298],\"type\":\"scatter\",\"xaxis\":\"x2\",\"yaxis\":\"y2\"},{\"name\":\"EUA Mar25 80C\",\"x\":[20,21,22,23,24,25,26,27,28,29,30,31,32,33,34,35,36,37,38,39,40,41,42,43,44,45,46,47,48,49,50,51,52,53,54,55,56,57,58,59,60,61,62,63,64,65,66,67,68,69,70,71,72,73,74,75,76,77,78,79,80,81,82,83,84,85,86,87,88,89,90,91,92,93,94,95,96,97,98,99,100],\"y\":[-293042.3457475392,-293042.3457475392,-293042.3457475392,-293042.3457475392,-293042.3457475392,-293042.3457475392,-293042.3457475392,-293042.3457475392,-293042.3457475392,-293042.3457475392,-293042.3457475392,-293042.3457475392,-293042.3457475392,-293042.3457475392,-293042.3457475392,-293042.3457475392,-293042.3457475389,-293042.3457475362,-293042.3457475154,-293042.3457473724,-293042.3457464931,-293042.3457416252,-293042.3457172057,-293042.3456055302,-293042.34513734776,-293042.34332878265,-293042.33686070604,-293042.31535035546,-293042.2485584727,-293042.054178299,-293041.52211007476,-293040.14774698374,-293036.78734023456,-293028.98743115517,-293011.75420183444,-292975.4193921647,-292902.1383939467,-292760.44675752823,-292497.2398134594,-292026.57141869335,-291214.8368600768,-289862.24331131496,-287680.9828228668,-284271.1722231844,-279096.3328415179,-271460.83547067724,-260492.19893856806,-245131.2786047514,-224133.1256619342,-196080.6121945347,-159411.84753553933,-112461.07721854847,-53511.32912756519,19144.25116269712,107136.46639754405,211954.22480636812,334883.56699190853,476955.91813750897,638909.0569379156,821163.1134111414,1023812.5712937922,1246633.9202770228,1489107.4236607356,1750450.546777855,2029659.9939217968,2325559.0429063793,2636846.9221640793,2962147.2901500273,3300053.3773301505,3649167.9579715854,4008136.957759356,4375676.111539183,4750590.617241725,5131788.158919398,5518285.981909123,5909212.898146303,6303807.191331462,6701411.397954443,7101464.881879982,7503495.018098838,7907107.674216706],\"type\":\"scatter\",\"xaxis\":\"x\",\"yaxis\":\"y\"},{\"name\":\"EUA Mar25 80C\",\"x\":[20,21,22,23,24,25,26,27,28,29,30,31,32,33,34,35,36,37,38,39,40,41,42,43,44,45,46,47,48,49,50,51,52,53,54,55,56,57,58,59,60,61,62,63,64,65,66,67,68,69,70,71,72,73,74,75,76,77,78,79,80,81,82,83,84,85,86,87,88,89,90,91,92,93,94,95,96,97,98,99,100],\"y\":[1.4615878240547396e-37,1.010700516887012e-34,4.1517043198392915e-32,1.0712156809864803e-29,1.821275944805789e-27,2.126616455972735e-25,1.7677721245180224e-23,1.0794986715470145e-21,4.977911079817276e-20,1.7760671861156907e-18,5.0096964952906786e-17,1.1387312867409936e-15,2.1218501602619547e-14,3.2911253471437e-13,4.308142378523139e-12,4.818846187542403e-11,4.657778977210739e-10,3.930234091838114e-09,2.9220054953089145e-08,1.9303231216345555e-07,1.1418579343274177e-06,6.0910414232183e-06,2.949037380182442e-05,0.00013036579823014,0.0005290828060493619,0.0019813390922888176,0.006878634154553103,0.022235001305941703,0.06719101287095972,0.19052349259972384,0.5086994405551329,1.283096171254631,3.0666127713538716,6.964529151585782,15.069920806126843,31.1457221443355,61.62690635450017,116.99923068080207,213.56851061715693,375.5632739126935,637.4176831582809,1045.973406624375,1662.2397009119438,2562.2865594985456,3836.8419369627513,5589.238595460094,7931.512757603025,10978.681552858758,14841.488277435325,19618.160931747985,25385.934163628484,32193.19788126118,40053.1327428478,48939.5692253569,58785.57998308755,69485.01919218831,80896.90238950298,92852.22249230555,105162.5621831026,117629.71683767339,130055.49693893833,142250.92994316397,154044.21139245038,165286.9378787305,175858.36125969034,185667.6068835097,194653.97625107344,202785.5915426251,210056.72858596122,216484.2260774169,222103.35766580957,226963.51894078712,231124.02411646477,234650.23788693023,237610.1958649988,240071.79946751322,242100.61302195652,243758.24494058528,245101.26182728293,246180.5636823623,247041.13832136948],\"type\":\"scatter\",\"xaxis\":\"x2\",\"yaxis\":\"y2\"},{\"name\":\"EUA Mar25 85C\",\"x\":[20,21,22,23,24,25,26,27,28,29,30,31,32,33,34,35,36,37,38,39,40,41,42,43,44,45,46,47,48,49,50,51,52,53,54,55,56,57,58,59,60,61,62,63,64,65,66,67,68,69,70,71,72,73,74,75,76,77,78,79,80,81,82,83,84,85,86,87,88,89,90,91,92,93,94,95,96,97,98,99,100],\"y\":[-120545.32695780632,-120545.32695780632,-120545.32695780632,-120545.32695780632,-120545.32695780632,-120545.32695780632,-120545.32695780632,-120545.32695780632,-120545.32695780632,-120545.32695780632,-120545.32695780632,-120545.32695780632,-120545.32695780632,-120545.32695780632,-120545.32695780632,-120545.32695780632,-120545.32695780632,-120545.32695780625,-120545.32695780565,-120545.32695780118,-120545.3269577708,-120545.32695758581,-120545.32695656584,-120545.32695144314,-120545.3269278786,-120545.3268280876,-120545.32643719659,-120545.32501467546,-120545.32018551776,-120545.30483439761,-120545.25897821816,-120545.12983415372,-120544.78587653802,-120543.91704047115,-120541.82994490556,-120537.05009036182,-120526.58882671224,-120504.65985085118,-120460.54060296604,-120375.17717677812,-120216.04439166994,-119929.72086249532,-119431.65340433986,-118592.69754413496,-117222.25557533656,-115048.19863108317,-111694.23899167418,-106655.96976065666,-99277.34139083729,-88729.81045863288,-73996.68342789606,-53865.20759770468,-26928.683366887133,8399.720782735314,53860.63567029869,111309.88071010154,182668.9380510859,269866.93243356334,374777.4010424209,499153.702281095,644567.1137445063,812351.490744047,1003557.8280402074,1218921.2597270715,1458842.0439548139,1723381.021299808,2012269.01623678,2324928.7627502894,2660507.2452845913,3017915.8933666237,3395875.8614633274,3792965.64841888,4207668.527086987,4638417.616221599,5083636.880091244,5541776.834882305,6011344.229367504,6490925.414633356,6979203.498884373,7474969.684301973,7977129.399132671],\"type\":\"scatter\",\"xaxis\":\"x\",\"yaxis\":\"y\"},{\"name\":\"EUA Mar25 85C\",\"x\":[20,21,22,23,24,25,26,27,28,29,30,31,32,33,34,35,36,37,38,39,40,41,42,43,44,45,46,47,48,49,50,51,52,53,54,55,56,57,58,59,60,61,62,63,64,65,66,67,68,69,70,71,72,73,74,75,76,77,78,79,80,81,82,83,84,85,86,87,88,89,90,91,92,93,94,95,96,97,98,99,100],\"y\":[6.608112523059967e-40,5.076227204384114e-37,2.3184314922977396e-34,6.654722870577347e-32,1.2590138699877226e-29,1.635930988274881e-27,1.5130843334772804e-25,1.027767953351307e-23,5.269604481833453e-22,2.0894227582025394e-20,6.545708080714372e-19,1.651420071050113e-17,3.412956677512173e-16,5.866906650791742e-15,8.504647725896926e-14,1.0525691306658971e-12,1.1247523368754062e-11,1.0483048242131868e-10,8.601124093633734e-10,6.264951468701986e-09,4.082418659148684e-08,2.3967113414786915e-07,1.2759143983433686e-06,6.196099537068149e-06,2.7598573265214852e-05,0.00011332444671368792,0.0004309841650969995,0.0015246918677799893,0.005037702196215139,0.015603992297393982,0.04546766533196149,0.12503790370587978,0.3255124761580971,0.8044697527301623,1.8924250133086526,4.2478903823167675,9.119819772199618,18.767629368905393,37.096991713655285,70.56972250858762,129.433093823345,229.2832473463981,392.9268494198176,652.4366324529192,1051.2171812601587,1645.819716402612,2507.1849844530852,3720.9688603127884,5386.630096563654,7615.041137064509,10524.518587243818,14235.346564263027,18863.061071616627,24510.948229125042,31262.35432308335,39173.4865792916,48267.3849927319,58529.664345124875,69906.47125812995,82304.89413301225,95595.83158143572,109619.09729665858,124190.34371265015,139109.24441913018,154168.29853353984,169161.61188219354,183893.0639048749,198183.37283185532,211875.70789952565,224839.64786235648,236973.43272586932,248204.58647905392,258489.09288881687,267809.3789545278,276171.4004943585,283601.1341217685,290140.76460144634,295844.82264789887,300776.4824207414,305004.17663394986,308598.6357198532],\"type\":\"scatter\",\"xaxis\":\"x2\",\"yaxis\":\"y2\"},{\"name\":\"EUA Mar25 90C\",\"x\":[20,21,22,23,24,25,26,27,28,29,30,31,32,33,34,35,36,37,38,39,40,41,42,43,44,45,46,47,48,49,50,51,52,53,54,55,56,57,58,59,60,61,62,63,64,65,66,67,68,69,70,71,72,73,74,75,76,77,78,79,80,81,82,83,84,85,86,87,88,89,90,91,92,93,94,95,96,97,98,99,100],\"y\":[-42315.162703868795,-42315.162703868795,-42315.162703868795,-42315.162703868795,-42315.162703868795,-42315.162703868795,-42315.162703868795,-42315.162703868795,-42315.162703868795,-42315.162703868795,-42315.162703868795,-42315.162703868795,-42315.162703868795,-42315.162703868795,-42315.162703868795,-42315.162703868795,-42315.162703868795,-42315.162703868795,-42315.16270386869,-42315.16270386803,-42315.16270386361,-42315.16270383676,-42315.16270368894,-42315.16270294474,-42315.162699501096,-42315.16268478315,-42315.1626264209,-42315.162410800964,-42315.16166572088,-42315.15924891823,-42315.15186541006,-42315.13055320885,-42315.07226128932,-42314.92076887791,-42314.545719803886,-42313.65908935991,-42311.65307934759,-42307.30017552592,-42298.22310389031,-42279.99891805974,-42244.70866900217,-42178.686299441426,-42059.165609523065,-41849.48434847276,-41492.49484034126,-40901.86739112283,-39951.07055798875,-38459.98015588902,-36179.30637992661,-32773.323407553384,-27801.713147308867,-20701.65774190222,-10771.589779910686,2841.8107946597006,21151.738323877864,45332.98247794119,76716.01509842357,116772.65183647208,167093.06311431492,229354.54577945007,305283.1122327315,396609.542100684,505022.01254943735,632117.7300550403,779356.1003574167,948015.8871892011,1139158.537939785,1353599.4275261303,1591888.2353918052,1854299.0768574874,2140830.4119855007,2451214.200947718,2784933.3037541555,3141245.7614149675,3519214.3595671616,3917739.7662531114,4335595.544111738,4771463.446717318,5223967.59682585,5691706.386061857,6173281.206427841],\"type\":\"scatter\",\"xaxis\":\"x\",\"yaxis\":\"y\"},{\"name\":\"EUA Mar25 90C\",\"x\":[20,21,22,23,24,25,26,27,28,29,30,31,32,33,34,35,36,37,38,39,40,41,42,43,44,45,46,47,48,49,50,51,52,53,54,55,56,57,58,59,60,61,62,63,64,65,66,67,68,69,70,71,72,73,74,75,76,77,78,79,80,81,82,83,84,85,86,87,88,89,90,91,92,93,94,95,96,97,98,99,100],\"y\":[5.8603549245651574e-40,3.5585559654485575e-37,1.3188674581306258e-34,3.144083914826996e-32,5.04337277415716e-30,5.659704209147144e-28,4.5963626060372655e-26,2.782488730350796e-24,1.2886644805398757e-22,4.67192954066908e-21,1.353109656570942e-19,3.1879247581031916e-18,6.209270981215473e-17,1.014430710728222e-15,1.4083535592466204e-14,1.6811750253310778e-13,1.7439909219100996e-12,1.5874324303670237e-11,1.2790186764004037e-10,9.195259348360747e-10,5.941996640593201e-09,3.474491025470224e-08,1.8497398313774467e-07,9.016683598112693e-07,4.045415342267446e-06,1.6786074966607684e-05,6.470496588958339e-05,0.00023265852455874576,0.0007833479433620752,0.002478500464317928,0.00739365512929309,0.020859557351861055,0.055818402770050166,0.1420513125171877,0.34466955515940656,0.7992378203532909,1.7751170703770953,3.7840784699853285,7.757577346124322,15.322377793031356,29.208941571869307,53.82801377273644,96.04570450202228,166.17379972834456,279.16858784568814,455.99826140872574,725.098164776192,1123.7893696138967,1699.4958919671965,2510.567152110002,3626.5027546397446,5127.39240231667,7102.42768479868,9647.413347089205,12861.29765779424,16841.844852458216,21680.67478134107,27457.982446472543,34237.31091511473,42060.7761661699,50945.12736781441,60878.97173625656,71821.40535731928,83702.18009840528,96423.4144672342,109862.73619166047,123877.63858487674,138310.75112570685,152995.67337948357,167763.00281832047,182446.19998090062,196886.9743568375,210939.93481203043,224476.32155236174,237386.71466418088,249582.6899861364,260997.46060353128,271585.597453169,281321.96302622335,290200.01729814144,298229.66556965787],\"type\":\"scatter\",\"xaxis\":\"x2\",\"yaxis\":\"y2\"},{\"mode\":\"lines\",\"name\":\"Total_PnL\",\"x\":[20,21,22,23,24,25,26,27,28,29,30,31,32,33,34,35,36,37,38,39,40,41,42,43,44,45,46,47,48,49,50,51,52,53,54,55,56,57,58,59,60,61,62,63,64,65,66,67,68,69,70,71,72,73,74,75,76,77,78,79,80,81,82,83,84,85,86,87,88,89,90,91,92,93,94,95,96,97,98,99,100],\"y\":[-703588.5084591393,-703588.5084591393,-703588.5084591393,-703588.5084591393,-703588.5084591393,-703588.5084591393,-703588.5084591393,-703588.5084591393,-703588.5084591393,-703588.5084591393,-703588.5084591393,-703588.5084591393,-703588.5084591393,-703588.5084591393,-703588.5084591387,-703588.508459135,-703588.5084591036,-703588.5084588842,-703588.5084575195,-703588.5084499242,-703588.5084118245,-703588.5082383789,-703588.5075172831,-703588.5047634906,-703588.4950514935,-703588.4632618964,-703588.3662408335,-703588.0889620148,-703587.3439310166,-703585.4548116241,-703580.9186868988,-703570.5704773691,-703548.0735829778,-703501.3329761642,-703408.2782684361,-703230.3118778968,-702902.5888972159,-702320.2268000733,-701319.5749917576,-699653.8436382773,-696962.7238645997,-692736.1330664275,-686272.8693523727,-676635.7090173153,-662605.2552151982,-642635.5507398093,-614815.0023464143,-576836.4354551537,-525980.0361032812,-459112.5065289113,-372704.96959894977,-262871.0577831641,-125425.30626582814,44039.44282017294,250058.2937859978,497188.08605587867,789893.5268768357,1132431.0504821236,1528735.961296531,1982318.1950933768,2496171.446559606,3072699.531795522,3713662.7675562007,4420145.952784074,5192548.328643555,6030594.757741188,6933366.372349051,7899348.146169057,8926490.274098644,10012279.908699023,11153819.691712737,12347909.610687012,13591128.97091449,14879915.661851926,16210640.373175424,17579673.938183364,18983446.514770508,20418497.825766418,21881518.14691592,23369380.135115575,24879161.921498016],\"type\":\"scatter\",\"xaxis\":\"x\",\"yaxis\":\"y\"},{\"mode\":\"lines\",\"name\":\"Total_Delta\",\"x\":[20,21,22,23,24,25,26,27,28,29,30,31,32,33,34,35,36,37,38,39,40,41,42,43,44,45,46,47,48,49,50,51,52,53,54,55,56,57,58,59,60,61,62,63,64,65,66,67,68,69,70,71,72,73,74,75,76,77,78,79,80,81,82,83,84,85,86,87,88,89,90,91,92,93,94,95,96,97,98,99,100],\"y\":[3.5186523836375406e-33,1.4734415828494502e-30,3.7778245338719e-28,6.252472946082455e-26,6.989569635715046e-24,5.48828491071842e-22,3.131667550238985e-20,1.337712593408303e-18,4.390538287168559e-17,1.1329844522570355e-15,2.3459848912626492e-14,3.9690659048791836e-13,5.576196928466685e-12,6.600406608476334e-11,6.668815026762577e-10,5.819447369988391e-09,4.432974723861654e-08,2.976382551098527e-07,1.7769950345733135e-06,9.50997396689711e-06,4.59583938980042e-05,0.0002019189016603702,0.0008115504970138313,0.003001031083954478,0.010264628052176629,0.03263361922475321,0.09687562055375268,0.26966808024354294,0.7066786887867478,1.7497958135934855,4.107850121904695,9.172637574449263,19.54005787633287,39.82211417483118,77.8440729823265,146.31591991473624,265.04227173830014,463.6859508729033,785.0269699624545,1288.5651078955195,2054.210322896296,3185.705326554532,4813.345933800906,7095.524597760241,10218.635054886701,14394.949389217458,19858.212911203766,26856.887618332836,35645.193624140054,46472.325358971786,59570.42814184846,75142.08459269773,93348.15807656727,114296.85894613885,138034.83575972414,164540.955003946,193723.23495969723,225419.16414568175,259399.3870479597,295374.5039359716,333004.52849445224,371910.39240192267,411686.78902174626,451915.6115955101,492179.2613564773,532073.1697226532,571216.9849212364,609264.004192734,645908.5751495529,680891.3320064903,714002.2642606009,745081.7294001309,774019.612402524,800752.9007073921,825261.9838401584,847566.0035727213,867717.5764548352,885797.1896183677,901907.5372409482,916168.0232662356,928709.6099283935],\"type\":\"scatter\",\"xaxis\":\"x2\",\"yaxis\":\"y2\"}],                        {\"template\":{\"data\":{\"histogram2dcontour\":[{\"type\":\"histogram2dcontour\",\"colorbar\":{\"outlinewidth\":0,\"ticks\":\"\"},\"colorscale\":[[0.0,\"#0d0887\"],[0.1111111111111111,\"#46039f\"],[0.2222222222222222,\"#7201a8\"],[0.3333333333333333,\"#9c179e\"],[0.4444444444444444,\"#bd3786\"],[0.5555555555555556,\"#d8576b\"],[0.6666666666666666,\"#ed7953\"],[0.7777777777777778,\"#fb9f3a\"],[0.8888888888888888,\"#fdca26\"],[1.0,\"#f0f921\"]]}],\"choropleth\":[{\"type\":\"choropleth\",\"colorbar\":{\"outlinewidth\":0,\"ticks\":\"\"}}],\"histogram2d\":[{\"type\":\"histogram2d\",\"colorbar\":{\"outlinewidth\":0,\"ticks\":\"\"},\"colorscale\":[[0.0,\"#0d0887\"],[0.1111111111111111,\"#46039f\"],[0.2222222222222222,\"#7201a8\"],[0.3333333333333333,\"#9c179e\"],[0.4444444444444444,\"#bd3786\"],[0.5555555555555556,\"#d8576b\"],[0.6666666666666666,\"#ed7953\"],[0.7777777777777778,\"#fb9f3a\"],[0.8888888888888888,\"#fdca26\"],[1.0,\"#f0f921\"]]}],\"heatmap\":[{\"type\":\"heatmap\",\"colorbar\":{\"outlinewidth\":0,\"ticks\":\"\"},\"colorscale\":[[0.0,\"#0d0887\"],[0.1111111111111111,\"#46039f\"],[0.2222222222222222,\"#7201a8\"],[0.3333333333333333,\"#9c179e\"],[0.4444444444444444,\"#bd3786\"],[0.5555555555555556,\"#d8576b\"],[0.6666666666666666,\"#ed7953\"],[0.7777777777777778,\"#fb9f3a\"],[0.8888888888888888,\"#fdca26\"],[1.0,\"#f0f921\"]]}],\"heatmapgl\":[{\"type\":\"heatmapgl\",\"colorbar\":{\"outlinewidth\":0,\"ticks\":\"\"},\"colorscale\":[[0.0,\"#0d0887\"],[0.1111111111111111,\"#46039f\"],[0.2222222222222222,\"#7201a8\"],[0.3333333333333333,\"#9c179e\"],[0.4444444444444444,\"#bd3786\"],[0.5555555555555556,\"#d8576b\"],[0.6666666666666666,\"#ed7953\"],[0.7777777777777778,\"#fb9f3a\"],[0.8888888888888888,\"#fdca26\"],[1.0,\"#f0f921\"]]}],\"contourcarpet\":[{\"type\":\"contourcarpet\",\"colorbar\":{\"outlinewidth\":0,\"ticks\":\"\"}}],\"contour\":[{\"type\":\"contour\",\"colorbar\":{\"outlinewidth\":0,\"ticks\":\"\"},\"colorscale\":[[0.0,\"#0d0887\"],[0.1111111111111111,\"#46039f\"],[0.2222222222222222,\"#7201a8\"],[0.3333333333333333,\"#9c179e\"],[0.4444444444444444,\"#bd3786\"],[0.5555555555555556,\"#d8576b\"],[0.6666666666666666,\"#ed7953\"],[0.7777777777777778,\"#fb9f3a\"],[0.8888888888888888,\"#fdca26\"],[1.0,\"#f0f921\"]]}],\"surface\":[{\"type\":\"surface\",\"colorbar\":{\"outlinewidth\":0,\"ticks\":\"\"},\"colorscale\":[[0.0,\"#0d0887\"],[0.1111111111111111,\"#46039f\"],[0.2222222222222222,\"#7201a8\"],[0.3333333333333333,\"#9c179e\"],[0.4444444444444444,\"#bd3786\"],[0.5555555555555556,\"#d8576b\"],[0.6666666666666666,\"#ed7953\"],[0.7777777777777778,\"#fb9f3a\"],[0.8888888888888888,\"#fdca26\"],[1.0,\"#f0f921\"]]}],\"mesh3d\":[{\"type\":\"mesh3d\",\"colorbar\":{\"outlinewidth\":0,\"ticks\":\"\"}}],\"scatter\":[{\"fillpattern\":{\"fillmode\":\"overlay\",\"size\":10,\"solidity\":0.2},\"type\":\"scatter\"}],\"parcoords\":[{\"type\":\"parcoords\",\"line\":{\"colorbar\":{\"outlinewidth\":0,\"ticks\":\"\"}}}],\"scatterpolargl\":[{\"type\":\"scatterpolargl\",\"marker\":{\"colorbar\":{\"outlinewidth\":0,\"ticks\":\"\"}}}],\"bar\":[{\"error_x\":{\"color\":\"#2a3f5f\"},\"error_y\":{\"color\":\"#2a3f5f\"},\"marker\":{\"line\":{\"color\":\"#E5ECF6\",\"width\":0.5},\"pattern\":{\"fillmode\":\"overlay\",\"size\":10,\"solidity\":0.2}},\"type\":\"bar\"}],\"scattergeo\":[{\"type\":\"scattergeo\",\"marker\":{\"colorbar\":{\"outlinewidth\":0,\"ticks\":\"\"}}}],\"scatterpolar\":[{\"type\":\"scatterpolar\",\"marker\":{\"colorbar\":{\"outlinewidth\":0,\"ticks\":\"\"}}}],\"histogram\":[{\"marker\":{\"pattern\":{\"fillmode\":\"overlay\",\"size\":10,\"solidity\":0.2}},\"type\":\"histogram\"}],\"scattergl\":[{\"type\":\"scattergl\",\"marker\":{\"colorbar\":{\"outlinewidth\":0,\"ticks\":\"\"}}}],\"scatter3d\":[{\"type\":\"scatter3d\",\"line\":{\"colorbar\":{\"outlinewidth\":0,\"ticks\":\"\"}},\"marker\":{\"colorbar\":{\"outlinewidth\":0,\"ticks\":\"\"}}}],\"scattermapbox\":[{\"type\":\"scattermapbox\",\"marker\":{\"colorbar\":{\"outlinewidth\":0,\"ticks\":\"\"}}}],\"scatterternary\":[{\"type\":\"scatterternary\",\"marker\":{\"colorbar\":{\"outlinewidth\":0,\"ticks\":\"\"}}}],\"scattercarpet\":[{\"type\":\"scattercarpet\",\"marker\":{\"colorbar\":{\"outlinewidth\":0,\"ticks\":\"\"}}}],\"carpet\":[{\"aaxis\":{\"endlinecolor\":\"#2a3f5f\",\"gridcolor\":\"white\",\"linecolor\":\"white\",\"minorgridcolor\":\"white\",\"startlinecolor\":\"#2a3f5f\"},\"baxis\":{\"endlinecolor\":\"#2a3f5f\",\"gridcolor\":\"white\",\"linecolor\":\"white\",\"minorgridcolor\":\"white\",\"startlinecolor\":\"#2a3f5f\"},\"type\":\"carpet\"}],\"table\":[{\"cells\":{\"fill\":{\"color\":\"#EBF0F8\"},\"line\":{\"color\":\"white\"}},\"header\":{\"fill\":{\"color\":\"#C8D4E3\"},\"line\":{\"color\":\"white\"}},\"type\":\"table\"}],\"barpolar\":[{\"marker\":{\"line\":{\"color\":\"#E5ECF6\",\"width\":0.5},\"pattern\":{\"fillmode\":\"overlay\",\"size\":10,\"solidity\":0.2}},\"type\":\"barpolar\"}],\"pie\":[{\"automargin\":true,\"type\":\"pie\"}]},\"layout\":{\"autotypenumbers\":\"strict\",\"colorway\":[\"#636efa\",\"#EF553B\",\"#00cc96\",\"#ab63fa\",\"#FFA15A\",\"#19d3f3\",\"#FF6692\",\"#B6E880\",\"#FF97FF\",\"#FECB52\"],\"font\":{\"color\":\"#2a3f5f\"},\"hovermode\":\"closest\",\"hoverlabel\":{\"align\":\"left\"},\"paper_bgcolor\":\"white\",\"plot_bgcolor\":\"#E5ECF6\",\"polar\":{\"bgcolor\":\"#E5ECF6\",\"angularaxis\":{\"gridcolor\":\"white\",\"linecolor\":\"white\",\"ticks\":\"\"},\"radialaxis\":{\"gridcolor\":\"white\",\"linecolor\":\"white\",\"ticks\":\"\"}},\"ternary\":{\"bgcolor\":\"#E5ECF6\",\"aaxis\":{\"gridcolor\":\"white\",\"linecolor\":\"white\",\"ticks\":\"\"},\"baxis\":{\"gridcolor\":\"white\",\"linecolor\":\"white\",\"ticks\":\"\"},\"caxis\":{\"gridcolor\":\"white\",\"linecolor\":\"white\",\"ticks\":\"\"}},\"coloraxis\":{\"colorbar\":{\"outlinewidth\":0,\"ticks\":\"\"}},\"colorscale\":{\"sequential\":[[0.0,\"#0d0887\"],[0.1111111111111111,\"#46039f\"],[0.2222222222222222,\"#7201a8\"],[0.3333333333333333,\"#9c179e\"],[0.4444444444444444,\"#bd3786\"],[0.5555555555555556,\"#d8576b\"],[0.6666666666666666,\"#ed7953\"],[0.7777777777777778,\"#fb9f3a\"],[0.8888888888888888,\"#fdca26\"],[1.0,\"#f0f921\"]],\"sequentialminus\":[[0.0,\"#0d0887\"],[0.1111111111111111,\"#46039f\"],[0.2222222222222222,\"#7201a8\"],[0.3333333333333333,\"#9c179e\"],[0.4444444444444444,\"#bd3786\"],[0.5555555555555556,\"#d8576b\"],[0.6666666666666666,\"#ed7953\"],[0.7777777777777778,\"#fb9f3a\"],[0.8888888888888888,\"#fdca26\"],[1.0,\"#f0f921\"]],\"diverging\":[[0,\"#8e0152\"],[0.1,\"#c51b7d\"],[0.2,\"#de77ae\"],[0.3,\"#f1b6da\"],[0.4,\"#fde0ef\"],[0.5,\"#f7f7f7\"],[0.6,\"#e6f5d0\"],[0.7,\"#b8e186\"],[0.8,\"#7fbc41\"],[0.9,\"#4d9221\"],[1,\"#276419\"]]},\"xaxis\":{\"gridcolor\":\"white\",\"linecolor\":\"white\",\"ticks\":\"\",\"title\":{\"standoff\":15},\"zerolinecolor\":\"white\",\"automargin\":true,\"zerolinewidth\":2},\"yaxis\":{\"gridcolor\":\"white\",\"linecolor\":\"white\",\"ticks\":\"\",\"title\":{\"standoff\":15},\"zerolinecolor\":\"white\",\"automargin\":true,\"zerolinewidth\":2},\"scene\":{\"xaxis\":{\"backgroundcolor\":\"#E5ECF6\",\"gridcolor\":\"white\",\"linecolor\":\"white\",\"showbackground\":true,\"ticks\":\"\",\"zerolinecolor\":\"white\",\"gridwidth\":2},\"yaxis\":{\"backgroundcolor\":\"#E5ECF6\",\"gridcolor\":\"white\",\"linecolor\":\"white\",\"showbackground\":true,\"ticks\":\"\",\"zerolinecolor\":\"white\",\"gridwidth\":2},\"zaxis\":{\"backgroundcolor\":\"#E5ECF6\",\"gridcolor\":\"white\",\"linecolor\":\"white\",\"showbackground\":true,\"ticks\":\"\",\"zerolinecolor\":\"white\",\"gridwidth\":2}},\"shapedefaults\":{\"line\":{\"color\":\"#2a3f5f\"}},\"annotationdefaults\":{\"arrowcolor\":\"#2a3f5f\",\"arrowhead\":0,\"arrowwidth\":1},\"geo\":{\"bgcolor\":\"white\",\"landcolor\":\"#E5ECF6\",\"subunitcolor\":\"white\",\"showland\":true,\"showlakes\":true,\"lakecolor\":\"white\"},\"title\":{\"x\":0.05},\"mapbox\":{\"style\":\"light\"}}},\"xaxis\":{\"anchor\":\"y\",\"domain\":[0.0,0.45],\"title\":{\"text\":\"Price\"}},\"yaxis\":{\"anchor\":\"x\",\"domain\":[0.0,1.0],\"title\":{\"text\":\"Pnl\"}},\"xaxis2\":{\"anchor\":\"y2\",\"domain\":[0.55,1.0],\"title\":{\"text\":\"Price\"}},\"yaxis2\":{\"anchor\":\"x2\",\"domain\":[0.0,1.0],\"title\":{\"text\":\"Delta\"}},\"title\":{\"text\":\"Todays Option Pos (PnL and Delta)\",\"x\":0.5,\"xanchor\":\"center\"},\"barmode\":\"stack\"},                        {\"responsive\": true}                    ).then(function(){\n",
       "                            \n",
       "var gd = document.getElementById('f11a8b18-52dd-405b-af49-5759aeba5803');\n",
       "var x = new MutationObserver(function (mutations, observer) {{\n",
       "        var display = window.getComputedStyle(gd).display;\n",
       "        if (!display || display === 'none') {{\n",
       "            console.log([gd, 'removed!']);\n",
       "            Plotly.purge(gd);\n",
       "            observer.disconnect();\n",
       "        }}\n",
       "}});\n",
       "\n",
       "// Listen for the removal of the full notebook cells\n",
       "var notebookContainer = gd.closest('#notebook-container');\n",
       "if (notebookContainer) {{\n",
       "    x.observe(notebookContainer, {childList: true});\n",
       "}}\n",
       "\n",
       "// Listen for the clearing of the current output cell\n",
       "var outputEl = gd.closest('.output');\n",
       "if (outputEl) {{\n",
       "    x.observe(outputEl, {childList: true});\n",
       "}}\n",
       "\n",
       "                        })                };                });            </script>        </div>"
      ]
     },
     "metadata": {},
     "output_type": "display_data"
    }
   ],
   "source": [
    "pnl_delta_plot(end_this_wk)"
   ]
  },
  {
   "cell_type": "markdown",
   "id": "1412656a",
   "metadata": {},
   "source": [
    "## Four Days"
   ]
  },
  {
   "cell_type": "code",
   "execution_count": 19,
   "id": "28ff6cca",
   "metadata": {},
   "outputs": [
    {
     "data": {
      "application/vnd.plotly.v1+json": {
       "config": {
        "plotlyServerURL": "https://plot.ly"
       },
       "data": [
        {
         "name": "EUA Mar25 75C",
         "type": "scatter",
         "x": [
          20,
          21,
          22,
          23,
          24,
          25,
          26,
          27,
          28,
          29,
          30,
          31,
          32,
          33,
          34,
          35,
          36,
          37,
          38,
          39,
          40,
          41,
          42,
          43,
          44,
          45,
          46,
          47,
          48,
          49,
          50,
          51,
          52,
          53,
          54,
          55,
          56,
          57,
          58,
          59,
          60,
          61,
          62,
          63,
          64,
          65,
          66,
          67,
          68,
          69,
          70,
          71,
          72,
          73,
          74,
          75,
          76,
          77,
          78,
          79,
          80,
          81,
          82,
          83,
          84,
          85,
          86,
          87,
          88,
          89,
          90,
          91,
          92,
          93,
          94,
          95,
          96,
          97,
          98,
          99,
          100
         ],
         "xaxis": "x",
         "y": [
          -247685.6730499249,
          -247685.6730499249,
          -247685.6730499249,
          -247685.6730499249,
          -247685.6730499249,
          -247685.6730499249,
          -247685.6730499249,
          -247685.6730499249,
          -247685.6730499249,
          -247685.6730499249,
          -247685.6730499249,
          -247685.6730499249,
          -247685.6730499249,
          -247685.6730499249,
          -247685.6730499249,
          -247685.67304992466,
          -247685.6730499227,
          -247685.67304990615,
          -247685.6730497827,
          -247685.67304896846,
          -247685.67304418536,
          -247685.67301896095,
          -247685.6728987328,
          -247685.67237755875,
          -247685.67031096923,
          -247685.66277511377,
          -247685.6373795799,
          -247685.55792629282,
          -247685.32616666958,
          -247684.69339345058,
          -247683.07031752216,
          -247679.14568065613,
          -247670.1709319458,
          -247650.7034021545,
          -247610.53471758953,
          -247531.48489206206,
          -247382.7437015343,
          -247114.52008970847,
          -246649.94095369027,
          -245875.42776491347,
          -244630.15011095826,
          -242695.5549160544,
          -239786.31863710095,
          -235544.2767516658,
          -229536.87181209674,
          -221261.38422260925,
          -210155.6756035597,
          -195615.44549503748,
          -177017.1865817585,
          -153745.25453454902,
          -125220.87562889964,
          -90930.59788416122,
          -50451.6991386347,
          -3472.390320547899,
          50194.76622813487,
          110607.06281750365,
          177693.53036232042,
          251263.83109162777,
          331022.91737065214,
          416589.8420221986,
          507518.9513105425,
          603321.7391189307,
          703487.8498499116,
          807504.0350620805,
          914870.2388726695,
          1025112.3593343345,
          1137791.568066349,
          1252510.3426974278,
          1368915.5639286353,
          1486699.150489478,
          1605596.758638913,
          1725385.0710301816,
          1845878.1577660856,
          1966923.3251732308,
          2088396.7882590715,
          2210199.421324719,
          2332252.765158284,
          2454495.4031913984,
          2576879.7651625145,
          2699369.375581934,
          2821936.5347827803
         ],
         "yaxis": "y"
        },
        {
         "name": "EUA Mar25 75C",
         "type": "scatter",
         "x": [
          20,
          21,
          22,
          23,
          24,
          25,
          26,
          27,
          28,
          29,
          30,
          31,
          32,
          33,
          34,
          35,
          36,
          37,
          38,
          39,
          40,
          41,
          42,
          43,
          44,
          45,
          46,
          47,
          48,
          49,
          50,
          51,
          52,
          53,
          54,
          55,
          56,
          57,
          58,
          59,
          60,
          61,
          62,
          63,
          64,
          65,
          66,
          67,
          68,
          69,
          70,
          71,
          72,
          73,
          74,
          75,
          76,
          77,
          78,
          79,
          80,
          81,
          82,
          83,
          84,
          85,
          86,
          87,
          88,
          89,
          90,
          91,
          92,
          93,
          94,
          95,
          96,
          97,
          98,
          99,
          100
         ],
         "xaxis": "x2",
         "y": [
          6.165751596294016e-37,
          4.81508769949703e-34,
          2.1882475064159366e-31,
          6.134572760006856e-29,
          1.1152940102677933e-26,
          1.372983500898203e-24,
          1.1882272450196498e-22,
          7.469892400909568e-21,
          3.5106830442687917e-19,
          1.2651341659669221e-17,
          3.575153155311114e-16,
          8.082216079961097e-15,
          1.4879103568378921e-13,
          2.266517476262827e-12,
          2.898013758308443e-11,
          3.1507230371093286e-10,
          2.9468598036383207e-09,
          2.3963229844179384e-08,
          1.7105920261168864e-07,
          1.0813601760810832e-06,
          6.102320709713721e-06,
          3.096737283133373e-05,
          0.00014227204776057957,
          0.0005954241481711664,
          0.0022829647322980496,
          0.008061608368634838,
          0.026345471105620664,
          0.08004031005216157,
          0.22701061770966416,
          0.6034019286292897,
          1.5085610941840204,
          3.559441718088799,
          7.951235869920682,
          16.86570532554842,
          34.0639377897438,
          65.68042137002476,
          121.19681523327012,
          214.51766537278556,
          365.0043260490276,
          598.2621113790617,
          946.4382362102347,
          1447.7929148859193,
          2145.364925121481,
          3084.6659040575387,
          4310.490143028115,
          5863.091590105976,
          7774.123252847802,
          10062.823819862291,
          12732.949549023066,
          15770.879522046713,
          19145.179984002505,
          22807.724213049387,
          26696.26230465715,
          30738.1552343388,
          34854.85783041697,
          38966.67246399735,
          42997.302451192234,
          46877.802172838965,
          50549.63180512619,
          53966.656285019504,
          57096.0591587161,
          59918.25478599239,
          62425.96562453636,
          64622.68025168817,
          66520.72351830562,
          68139.15819008635,
          69501.70545564377,
          70634.8282604987,
          71566.07432224897,
          72322.73104329374,
          72930.80652043711,
          73414.32164691533,
          73794.87843924551,
          74091.45850325792,
          74320.40153085825,
          74495.51510460385,
          74628.27208039215,
          74728.05882062689,
          74802.44528009073,
          74857.45547702475,
          74897.82361891179
         ],
         "yaxis": "y2"
        },
        {
         "name": "EUA Mar25 80C",
         "type": "scatter",
         "x": [
          20,
          21,
          22,
          23,
          24,
          25,
          26,
          27,
          28,
          29,
          30,
          31,
          32,
          33,
          34,
          35,
          36,
          37,
          38,
          39,
          40,
          41,
          42,
          43,
          44,
          45,
          46,
          47,
          48,
          49,
          50,
          51,
          52,
          53,
          54,
          55,
          56,
          57,
          58,
          59,
          60,
          61,
          62,
          63,
          64,
          65,
          66,
          67,
          68,
          69,
          70,
          71,
          72,
          73,
          74,
          75,
          76,
          77,
          78,
          79,
          80,
          81,
          82,
          83,
          84,
          85,
          86,
          87,
          88,
          89,
          90,
          91,
          92,
          93,
          94,
          95,
          96,
          97,
          98,
          99,
          100
         ],
         "xaxis": "x",
         "y": [
          -293042.3457475392,
          -293042.3457475392,
          -293042.3457475392,
          -293042.3457475392,
          -293042.3457475392,
          -293042.3457475392,
          -293042.3457475392,
          -293042.3457475392,
          -293042.3457475392,
          -293042.3457475392,
          -293042.3457475392,
          -293042.3457475392,
          -293042.3457475392,
          -293042.3457475392,
          -293042.3457475392,
          -293042.3457475392,
          -293042.3457475392,
          -293042.3457475391,
          -293042.34574753797,
          -293042.3457475287,
          -293042.3457474602,
          -293042.3457470092,
          -293042.3457443458,
          -293042.3457301403,
          -293042.3456613038,
          -293042.3453565236,
          -293042.3441170753,
          -293042.33946501266,
          -293042.3232771391,
          -293042.2708355635,
          -293042.1120564665,
          -293041.6611163079,
          -293040.45573353453,
          -293037.4135245255,
          -293030.14239878743,
          -293013.638992551,
          -292977.9739743026,
          -292904.40772734745,
          -292759.2331390215,
          -292484.5511528937,
          -291985.21070263826,
          -291111.3512278979,
          -289636.4201723894,
          -287231.2083208996,
          -283435.30473797984,
          -277628.3092341121,
          -269003.9888856055,
          -256551.1353055016,
          -239044.99498625196,
          -215052.68914372943,
          -182954.99027292032,
          -140985.2703158569,
          -87284.57405794409,
          -19969.866622749254,
          62789.15682940669,
          162690.47324932207,
          281223.6087884114,
          419603.0051186825,
          578715.954239144,
          759088.7117883442,
          960872.6147726862,
          1183850.1755768908,
          1427459.429562361,
          1690833.4594476677,
          1972851.118531431,
          2272194.5650490727,
          2587409.2727469504,
          2916962.6180598936,
          3259297.851244456,
          3612881.116475833,
          3976240.0807415927,
          4347993.5698137395,
          4726872.324899278,
          5111731.547364715,
          5501556.278643726,
          5895460.876191534,
          6292683.916609458,
          6692579.814303866,
          7094608.321269431,
          7498322.902143796,
          7903358.785510953
         ],
         "yaxis": "y"
        },
        {
         "name": "EUA Mar25 80C",
         "type": "scatter",
         "x": [
          20,
          21,
          22,
          23,
          24,
          25,
          26,
          27,
          28,
          29,
          30,
          31,
          32,
          33,
          34,
          35,
          36,
          37,
          38,
          39,
          40,
          41,
          42,
          43,
          44,
          45,
          46,
          47,
          48,
          49,
          50,
          51,
          52,
          53,
          54,
          55,
          56,
          57,
          58,
          59,
          60,
          61,
          62,
          63,
          64,
          65,
          66,
          67,
          68,
          69,
          70,
          71,
          72,
          73,
          74,
          75,
          76,
          77,
          78,
          79,
          80,
          81,
          82,
          83,
          84,
          85,
          86,
          87,
          88,
          89,
          90,
          91,
          92,
          93,
          94,
          95,
          96,
          97,
          98,
          99,
          100
         ],
         "xaxis": "x2",
         "y": [
          7.98829215822977e-42,
          1.085268275125313e-38,
          8.298449017630665e-36,
          3.798244332634498e-33,
          1.0971096567279177e-30,
          2.093265532965906e-28,
          2.7449252296873304e-26,
          2.5610315385655488e-24,
          1.7526166938057525e-22,
          9.036438450359267e-21,
          3.594730805593825e-19,
          1.1268677839277155e-17,
          2.836685708205287e-16,
          5.832061018501435e-15,
          9.942686070329711e-14,
          1.4249688696349234e-12,
          1.7382275625724982e-11,
          1.825095420376303e-10,
          1.6663916867516898e-09,
          1.335436204693019e-08,
          9.473627493922781e-08,
          5.995667026819012e-07,
          3.4094867841775432e-06,
          1.7535704025840258e-05,
          8.206687297607821e-05,
          0.0003514378251343813,
          0.0013842286078956704,
          0.005038755774355586,
          0.01702639058724056,
          0.053628691932481404,
          0.15805741278969387,
          0.43745208218895826,
          1.1407645155008275,
          2.811701847831212,
          6.569344447151092,
          14.589728102350483,
          30.879150099648456,
          62.43536662725412,
          120.87498801664391,
          224.55355148411675,
          401.1131423778987,
          690.2648731283344,
          1146.466817947125,
          1841.0218876149775,
          2863.0327168338736,
          4318.649538077245,
          6328.158247336792,
          9020.683781719874,
          12526.605674304777,
          16968.149581733906,
          22448.964995423023,
          29043.75662312872,
          36789.14932264131,
          45676.904328698656,
          55650.37134719548,
          66604.69281494216,
          78390.83347611924,
          90823.06194230572,
          103689.12939988909,
          116762.12665696643,
          129812.88302199767,
          142621.80161743486,
          154989.1849240039,
          166743.35443493718,
          177746.16428116002,
          187895.80626318388,
          197127.06603342024,
          205409.39194580645,
          212743.2670210243,
          219155.43021420576,
          224693.4846875519,
          229420.37295612606,
          233409.10893018378,
          236738.05192151354,
          239486.90201033876,
          241733.50052852754,
          243551.4405741552,
          245008.433527777,
          246165.33860691747,
          247075.74157189656,
          247785.96253218627
         ],
         "yaxis": "y2"
        },
        {
         "name": "EUA Mar25 85C",
         "type": "scatter",
         "x": [
          20,
          21,
          22,
          23,
          24,
          25,
          26,
          27,
          28,
          29,
          30,
          31,
          32,
          33,
          34,
          35,
          36,
          37,
          38,
          39,
          40,
          41,
          42,
          43,
          44,
          45,
          46,
          47,
          48,
          49,
          50,
          51,
          52,
          53,
          54,
          55,
          56,
          57,
          58,
          59,
          60,
          61,
          62,
          63,
          64,
          65,
          66,
          67,
          68,
          69,
          70,
          71,
          72,
          73,
          74,
          75,
          76,
          77,
          78,
          79,
          80,
          81,
          82,
          83,
          84,
          85,
          86,
          87,
          88,
          89,
          90,
          91,
          92,
          93,
          94,
          95,
          96,
          97,
          98,
          99,
          100
         ],
         "xaxis": "x",
         "y": [
          -120545.32695780632,
          -120545.32695780632,
          -120545.32695780632,
          -120545.32695780632,
          -120545.32695780632,
          -120545.32695780632,
          -120545.32695780632,
          -120545.32695780632,
          -120545.32695780632,
          -120545.32695780632,
          -120545.32695780632,
          -120545.32695780632,
          -120545.32695780632,
          -120545.32695780632,
          -120545.32695780632,
          -120545.32695780632,
          -120545.32695780632,
          -120545.32695780632,
          -120545.32695780629,
          -120545.3269578061,
          -120545.32695780449,
          -120545.32695779252,
          -120545.32695771415,
          -120545.32695725051,
          -120545.326954761,
          -120545.3269425592,
          -120545.32688768322,
          -120545.32666012664,
          -120545.32578616095,
          -120545.3226643242,
          -120545.31225254598,
          -120545.27971290087,
          -120545.18409392741,
          -120544.9190648216,
          -120544.22412248858,
          -120542.49543337255,
          -120538.40535690445,
          -120529.17841173727,
          -120509.28544864728,
          -120468.20819352032,
          -120386.8022873187,
          -120231.66864413876,
          -119946.86256806807,
          -119442.26945479747,
          -118578.09980853846,
          -117145.24156641375,
          -114841.67015782506,
          -111245.73900972492,
          -105787.89769667442,
          -97723.11491477455,
          -86106.8945470495,
          -69778.1338487321,
          -47352.070860849904,
          -17226.136200389148,
          22399.340605313733,
          73484.84896187721,
          138100.57603437317,
          218362.69019391332,
          316360.6314240899,
          434080.04094771825,
          573326.5284232264,
          735655.5083529854,
          922312.8431479516,
          1134190.0834366856,
          1371796.825362541,
          1635251.2695241794,
          1924288.6325686378,
          2238285.7788726855,
          2576299.4203753,
          2937114.5471197907,
          3319299.4224465108,
          3721263.485980809,
          4141314.8028116734,
          4577714.205967249,
          5028723.920279241,
          5492649.149988567,
          5967871.791369047,
          6452876.042151689,
          6946266.186207428,
          7446777.216637706,
          7953279.220002704
         ],
         "yaxis": "y"
        },
        {
         "name": "EUA Mar25 85C",
         "type": "scatter",
         "x": [
          20,
          21,
          22,
          23,
          24,
          25,
          26,
          27,
          28,
          29,
          30,
          31,
          32,
          33,
          34,
          35,
          36,
          37,
          38,
          39,
          40,
          41,
          42,
          43,
          44,
          45,
          46,
          47,
          48,
          49,
          50,
          51,
          52,
          53,
          54,
          55,
          56,
          57,
          58,
          59,
          60,
          61,
          62,
          63,
          64,
          65,
          66,
          67,
          68,
          69,
          70,
          71,
          72,
          73,
          74,
          75,
          76,
          77,
          78,
          79,
          80,
          81,
          82,
          83,
          84,
          85,
          86,
          87,
          88,
          89,
          90,
          91,
          92,
          93,
          94,
          95,
          96,
          97,
          98,
          99,
          100
         ],
         "xaxis": "x2",
         "y": [
          2.010417386622998e-44,
          3.0677889572482667e-41,
          2.637336381300902e-38,
          1.3579800824586807e-35,
          4.4140014424881825e-33,
          9.477670115665943e-31,
          1.398421451158316e-28,
          1.4676303605341373e-26,
          1.1292449910386547e-24,
          6.542671974632358e-23,
          2.9227961597146552e-21,
          1.0281695284855927e-19,
          2.9021603186746647e-18,
          6.684790482274597e-17,
          1.2756882205948107e-15,
          2.0446853759460964e-14,
          2.786773875742726e-13,
          3.266172429405939e-12,
          3.3255705400770124e-11,
          2.969060732321528e-10,
          2.3441527548588987e-09,
          1.649468807113667e-08,
          1.0418214059083262e-07,
          5.945437054426694e-07,
          3.084195462543301e-06,
          1.4624865046894204e-05,
          6.371996106328771e-05,
          0.0002563122783409963,
          0.0009560935181632295,
          0.0033209244501586042,
          0.010782312136870567,
          0.032840717416308396,
          0.0941480777746361,
          0.25483795750896754,
          0.6531903756878619,
          1.5897475871648266,
          3.683376188894045,
          8.144101042804378,
          17.222940849886452,
          34.91158289251693,
          67.96860506499057,
          127.33677466236652,
          229.98069205227085,
          401.1114119080769,
          676.675845468711,
          1105.8824872964017,
          1753.42817750426,
          2701.006361057152,
          4047.640886898981,
          5908.422227371828,
          8411.336484879466,
          11692.068284418123,
          15886.906673895028,
          21124.154064628994,
          27514.688955758356,
          35142.520159793894,
          44056.25826919359,
          54262.399535570206,
          65721.16814783607,
          78345.4146714826,
          92002.75642898968,
          106520.8140958141,
          121695.09294992915,
          137298.81566504325,
          153093.8626812113,
          168841.92729905437,
          184315.04188153252,
          199304.76243903014,
          213629.48647350966,
          227139.5946626245,
          239720.32306895035,
          251292.4658474944,
          261811.1624210096,
          271263.1288957963,
          279662.7493730772,
          287047.45292519405,
          293472.7745971199,
          299007.4442957409,
          303728.7767402671,
          307718.5587773252,
          311059.55554016324
         ],
         "yaxis": "y2"
        },
        {
         "name": "EUA Mar25 90C",
         "type": "scatter",
         "x": [
          20,
          21,
          22,
          23,
          24,
          25,
          26,
          27,
          28,
          29,
          30,
          31,
          32,
          33,
          34,
          35,
          36,
          37,
          38,
          39,
          40,
          41,
          42,
          43,
          44,
          45,
          46,
          47,
          48,
          49,
          50,
          51,
          52,
          53,
          54,
          55,
          56,
          57,
          58,
          59,
          60,
          61,
          62,
          63,
          64,
          65,
          66,
          67,
          68,
          69,
          70,
          71,
          72,
          73,
          74,
          75,
          76,
          77,
          78,
          79,
          80,
          81,
          82,
          83,
          84,
          85,
          86,
          87,
          88,
          89,
          90,
          91,
          92,
          93,
          94,
          95,
          96,
          97,
          98,
          99,
          100
         ],
         "xaxis": "x",
         "y": [
          -42315.162703868795,
          -42315.162703868795,
          -42315.162703868795,
          -42315.162703868795,
          -42315.162703868795,
          -42315.162703868795,
          -42315.162703868795,
          -42315.162703868795,
          -42315.162703868795,
          -42315.162703868795,
          -42315.162703868795,
          -42315.162703868795,
          -42315.162703868795,
          -42315.162703868795,
          -42315.162703868795,
          -42315.162703868795,
          -42315.162703868795,
          -42315.162703868795,
          -42315.162703868795,
          -42315.16270386877,
          -42315.16270386858,
          -42315.162703867165,
          -42315.16270385793,
          -42315.162703803115,
          -42315.162703506794,
          -42315.16270203922,
          -42315.16269534725,
          -42315.162667123346,
          -42315.162556551084,
          -42315.16215256437,
          -42315.1607709503,
          -42315.15633278379,
          -42315.142898426086,
          -42315.10446270103,
          -42315.00023501469,
          -42314.73163296121,
          -42314.07216814694,
          -42312.526049208114,
          -42309.05695467592,
          -42301.592312299574,
          -42286.15868324443,
          -42255.44071200931,
          -42196.4833751376,
          -42087.18369494668,
          -41891.15807466683,
          -41550.54447962821,
          -40976.32730532255,
          -40035.87843602842,
          -38537.60598650769,
          -36212.89596635565,
          -32695.90853316701,
          -27502.217749684565,
          -20007.71245407293,
          -9429.54432653635,
          5188.847714026429,
          24986.54787237643,
          51285.882672211395,
          85583.5210642125,
          129531.04079166515,
          184904.82356399714,
          253566.0057052304,
          337412.0695075388,
          438322.4185297304,
          558100.8532572428,
          698418.1897001151,
          860758.3102708497,
          1046370.7041109208,
          1256232.0744310182,
          1491018.920038908,
          1751092.2100635427,
          2036494.444296581,
          2346958.6025228463,
          2681927.799149719,
          3040583.9216721007,
          3421883.1703846725,
          3824596.239659291,
          4247350.877706466,
          4688674.7078378685,
          5147036.4564891625,
          5620884.073949576,
          6108678.615195269
         ],
         "yaxis": "y"
        },
        {
         "name": "EUA Mar25 90C",
         "type": "scatter",
         "x": [
          20,
          21,
          22,
          23,
          24,
          25,
          26,
          27,
          28,
          29,
          30,
          31,
          32,
          33,
          34,
          35,
          36,
          37,
          38,
          39,
          40,
          41,
          42,
          43,
          44,
          45,
          46,
          47,
          48,
          49,
          50,
          51,
          52,
          53,
          54,
          55,
          56,
          57,
          58,
          59,
          60,
          61,
          62,
          63,
          64,
          65,
          66,
          67,
          68,
          69,
          70,
          71,
          72,
          73,
          74,
          75,
          76,
          77,
          78,
          79,
          80,
          81,
          82,
          83,
          84,
          85,
          86,
          87,
          88,
          89,
          90,
          91,
          92,
          93,
          94,
          95,
          96,
          97,
          98,
          99,
          100
         ],
         "xaxis": "x2",
         "y": [
          1.7425137870453232e-44,
          2.0516164946159918e-41,
          1.4008250225369405e-38,
          5.8774202166712695e-36,
          1.592571519660515e-33,
          2.909263540817758e-31,
          3.7193177780762133e-29,
          3.4381168456643345e-27,
          2.364898066543109e-25,
          1.2414596958199064e-23,
          5.086576317342367e-22,
          1.6594443367403256e-20,
          4.388232319706327e-19,
          9.557608683182041e-18,
          1.7393439619335853e-16,
          2.6793589948995654e-15,
          3.534935785552701e-14,
          4.037016341011321e-13,
          4.0297023066615825e-12,
          3.5469347301200326e-11,
          2.7752719663143104e-10,
          1.9446431245992395e-09,
          1.228577859354027e-08,
          7.042126865187517e-08,
          3.6833307756852884e-07,
          1.7673351464060208e-06,
          7.81755171197262e-06,
          3.202371447954811e-05,
          0.00012199858567397697,
          0.0004339339523239371,
          0.0014463183074578383,
          0.004532664872776877,
          0.013399003764111805,
          0.03747228911253827,
          0.09942001607803722,
          0.25089648655969243,
          0.6037178546380919,
          1.3883197902765756,
          3.057730957453814,
          6.463189742270223,
          13.136074868063874,
          25.718282805962712,
          48.58692203733096,
          88.71587477838231,
          156.80295901512014,
          268.6644605920575,
          446.8579283064107,
          722.4414391540948,
          1136.7185955244227,
          1742.7621531973389,
          2606.4664947277365,
          3806.86164541815,
          5435.438681660534,
          7594.293335754352,
          10392.990304906285,
          13944.17725279574,
          18358.120482867045,
          23736.475160263886,
          30165.72177523042,
          37710.77926388454,
          46409.33089957744,
          56267.366107376714,
          67256.35233468711,
          79312.3163681837,
          92336.95033020512,
          106200.68366033449,
          120747.49867746614,
          135801.13134850602,
          151172.2035451297,
          166665.78532114753,
          182088.88637283066,
          197257.42007166374,
          212002.2622378711,
          226174.1285237763,
          239647.10643966947,
          252320.78896521512,
          264121.0565784228,
          274999.6363288976,
          284932.6261859047,
          293918.20905974664,
          301973.79480546864
         ],
         "yaxis": "y2"
        },
        {
         "mode": "lines",
         "name": "Total_PnL",
         "type": "scatter",
         "x": [
          20,
          21,
          22,
          23,
          24,
          25,
          26,
          27,
          28,
          29,
          30,
          31,
          32,
          33,
          34,
          35,
          36,
          37,
          38,
          39,
          40,
          41,
          42,
          43,
          44,
          45,
          46,
          47,
          48,
          49,
          50,
          51,
          52,
          53,
          54,
          55,
          56,
          57,
          58,
          59,
          60,
          61,
          62,
          63,
          64,
          65,
          66,
          67,
          68,
          69,
          70,
          71,
          72,
          73,
          74,
          75,
          76,
          77,
          78,
          79,
          80,
          81,
          82,
          83,
          84,
          85,
          86,
          87,
          88,
          89,
          90,
          91,
          92,
          93,
          94,
          95,
          96,
          97,
          98,
          99,
          100
         ],
         "xaxis": "x",
         "y": [
          -703588.5084591393,
          -703588.5084591393,
          -703588.5084591393,
          -703588.5084591393,
          -703588.5084591393,
          -703588.5084591393,
          -703588.5084591393,
          -703588.5084591393,
          -703588.5084591393,
          -703588.5084591393,
          -703588.5084591393,
          -703588.5084591393,
          -703588.5084591393,
          -703588.5084591393,
          -703588.5084591393,
          -703588.508459139,
          -703588.508459137,
          -703588.5084591204,
          -703588.5084589957,
          -703588.5084581721,
          -703588.5084533186,
          -703588.5084276298,
          -703588.5083046507,
          -703588.5077687526,
          -703588.5056305408,
          -703588.4977762358,
          -703588.4710796856,
          -703588.3867185556,
          -703588.1377865208,
          -703587.4490459026,
          -703585.6553974849,
          -703581.2428426486,
          -703570.9536578337,
          -703548.1404542025,
          -703499.9014738802,
          -703402.3509509468,
          -703213.1952008883,
          -702860.6322780014,
          -702227.5164960349,
          -701129.779423627,
          -699288.3217841596,
          -696294.0155001003,
          -691566.084752696,
          -684304.9382223096,
          -673441.4344332819,
          -657585.4795027634,
          -634977.6619523128,
          -603448.1982462924,
          -560387.6852511927,
          -502733.95455940865,
          -426978.66898203647,
          -329196.2197984348,
          -205096.0565115016,
          -50097.937470222656,
          140572.11137688172,
          371768.9329010794,
          648303.5978573164,
          974813.0474684361,
          1355630.5438255512,
          1794663.4183222584,
          2295284.1002116855,
          2860239.4925563456,
          3491582.5410899543,
          4190628.4312036764,
          4957936.372466757,
          5793316.5041784365,
          6695860.177492858,
          7663990.814061025,
          8695531.7555873,
          9787787.024148645,
          10937630.706123598,
          12141600.729347577,
          13395993.084626757,
          14696953.000177296,
          16040560.157566711,
          17422905.687164113,
          18840159.350843254,
          20288625.96748482,
          21764790.72912854,
          23265353.56831301,
          24787253.155491702
         ],
         "yaxis": "y"
        },
        {
         "mode": "lines",
         "name": "Total_Delta",
         "type": "scatter",
         "x": [
          20,
          21,
          22,
          23,
          24,
          25,
          26,
          27,
          28,
          29,
          30,
          31,
          32,
          33,
          34,
          35,
          36,
          37,
          38,
          39,
          40,
          41,
          42,
          43,
          44,
          45,
          46,
          47,
          48,
          49,
          50,
          51,
          52,
          53,
          54,
          55,
          56,
          57,
          58,
          59,
          60,
          61,
          62,
          63,
          64,
          65,
          66,
          67,
          68,
          69,
          70,
          71,
          72,
          73,
          74,
          75,
          76,
          77,
          78,
          79,
          80,
          81,
          82,
          83,
          84,
          85,
          86,
          87,
          88,
          89,
          90,
          91,
          92,
          93,
          94,
          95,
          96,
          97,
          98,
          99,
          100
         ],
         "xaxis": "x2",
         "y": [
          6.165831854508716e-37,
          4.815196738265088e-34,
          2.188330894722253e-31,
          6.134954530162223e-29,
          1.1154043218907624e-26,
          1.3731940661448653e-24,
          1.1885035078958475e-22,
          7.472471546868584e-21,
          3.5124493183105744e-19,
          1.2660455939436284e-17,
          3.5787822006546223e-16,
          8.09360416919659e-15,
          1.490780452381604e-13,
          2.2724259427948343e-12,
          2.9081014066404514e-11,
          3.1652039879332214e-10,
          2.9645561060094758e-09,
          2.414940926028052e-08,
          1.7276287970614774e-07,
          1.0950469135485467e-06,
          6.199678664604438e-06,
          3.1585378865211356e-05,
          0.0001457980024639415,
          0.0006136248171711013,
          0.0023684841338142398,
          0.008429438393962518,
          0.027801237226291593,
          0.0853674018193377,
          0.24511510040074191,
          0.6607854789642537,
          1.6788471374180427,
          4.034267182566842,
          9.199547466960256,
          19.96971742000114,
          41.385892628660784,
          82.11079354609976,
          156.3630593764507,
          286.48545283312063,
          506.1599858730118,
          864.1904354979655,
          1428.6560585211878,
          2291.112845482583,
          3570.399357158208,
          5415.515078358975,
          8007.00166434582,
          11556.28807607168,
          16302.567605995264,
          22506.955401793413,
          30443.91470575125,
          40390.213484349784,
          52611.94795903273,
          67350.41076601438,
          84807.75698285401,
          105133.5069634208,
          128412.9084382771,
          154658.06269152917,
          183802.51467937208,
          215699.73881097877,
          250125.65112808178,
          286784.9768773531,
          325321.0295092809,
          365328.23660661804,
          406366.5958331565,
          447977.1667198523,
          489697.70081088203,
          531077.5754126591,
          571691.3120480627,
          611150.1139938412,
          649111.0313619127,
          685283.5412412715,
          719433.50064977,
          751384.5805221996,
          781017.41202831,
          808266.767844344,
          833117.1593539437,
          855597.2575235405,
          875773.5438300901,
          893743.5729730425,
          909629.1868131801,
          923569.9648859932,
          935717.13649673
         ],
         "yaxis": "y2"
        }
       ],
       "layout": {
        "barmode": "stack",
        "template": {
         "data": {
          "bar": [
           {
            "error_x": {
             "color": "#2a3f5f"
            },
            "error_y": {
             "color": "#2a3f5f"
            },
            "marker": {
             "line": {
              "color": "#E5ECF6",
              "width": 0.5
             },
             "pattern": {
              "fillmode": "overlay",
              "size": 10,
              "solidity": 0.2
             }
            },
            "type": "bar"
           }
          ],
          "barpolar": [
           {
            "marker": {
             "line": {
              "color": "#E5ECF6",
              "width": 0.5
             },
             "pattern": {
              "fillmode": "overlay",
              "size": 10,
              "solidity": 0.2
             }
            },
            "type": "barpolar"
           }
          ],
          "carpet": [
           {
            "aaxis": {
             "endlinecolor": "#2a3f5f",
             "gridcolor": "white",
             "linecolor": "white",
             "minorgridcolor": "white",
             "startlinecolor": "#2a3f5f"
            },
            "baxis": {
             "endlinecolor": "#2a3f5f",
             "gridcolor": "white",
             "linecolor": "white",
             "minorgridcolor": "white",
             "startlinecolor": "#2a3f5f"
            },
            "type": "carpet"
           }
          ],
          "choropleth": [
           {
            "colorbar": {
             "outlinewidth": 0,
             "ticks": ""
            },
            "type": "choropleth"
           }
          ],
          "contour": [
           {
            "colorbar": {
             "outlinewidth": 0,
             "ticks": ""
            },
            "colorscale": [
             [
              0,
              "#0d0887"
             ],
             [
              0.1111111111111111,
              "#46039f"
             ],
             [
              0.2222222222222222,
              "#7201a8"
             ],
             [
              0.3333333333333333,
              "#9c179e"
             ],
             [
              0.4444444444444444,
              "#bd3786"
             ],
             [
              0.5555555555555556,
              "#d8576b"
             ],
             [
              0.6666666666666666,
              "#ed7953"
             ],
             [
              0.7777777777777778,
              "#fb9f3a"
             ],
             [
              0.8888888888888888,
              "#fdca26"
             ],
             [
              1,
              "#f0f921"
             ]
            ],
            "type": "contour"
           }
          ],
          "contourcarpet": [
           {
            "colorbar": {
             "outlinewidth": 0,
             "ticks": ""
            },
            "type": "contourcarpet"
           }
          ],
          "heatmap": [
           {
            "colorbar": {
             "outlinewidth": 0,
             "ticks": ""
            },
            "colorscale": [
             [
              0,
              "#0d0887"
             ],
             [
              0.1111111111111111,
              "#46039f"
             ],
             [
              0.2222222222222222,
              "#7201a8"
             ],
             [
              0.3333333333333333,
              "#9c179e"
             ],
             [
              0.4444444444444444,
              "#bd3786"
             ],
             [
              0.5555555555555556,
              "#d8576b"
             ],
             [
              0.6666666666666666,
              "#ed7953"
             ],
             [
              0.7777777777777778,
              "#fb9f3a"
             ],
             [
              0.8888888888888888,
              "#fdca26"
             ],
             [
              1,
              "#f0f921"
             ]
            ],
            "type": "heatmap"
           }
          ],
          "heatmapgl": [
           {
            "colorbar": {
             "outlinewidth": 0,
             "ticks": ""
            },
            "colorscale": [
             [
              0,
              "#0d0887"
             ],
             [
              0.1111111111111111,
              "#46039f"
             ],
             [
              0.2222222222222222,
              "#7201a8"
             ],
             [
              0.3333333333333333,
              "#9c179e"
             ],
             [
              0.4444444444444444,
              "#bd3786"
             ],
             [
              0.5555555555555556,
              "#d8576b"
             ],
             [
              0.6666666666666666,
              "#ed7953"
             ],
             [
              0.7777777777777778,
              "#fb9f3a"
             ],
             [
              0.8888888888888888,
              "#fdca26"
             ],
             [
              1,
              "#f0f921"
             ]
            ],
            "type": "heatmapgl"
           }
          ],
          "histogram": [
           {
            "marker": {
             "pattern": {
              "fillmode": "overlay",
              "size": 10,
              "solidity": 0.2
             }
            },
            "type": "histogram"
           }
          ],
          "histogram2d": [
           {
            "colorbar": {
             "outlinewidth": 0,
             "ticks": ""
            },
            "colorscale": [
             [
              0,
              "#0d0887"
             ],
             [
              0.1111111111111111,
              "#46039f"
             ],
             [
              0.2222222222222222,
              "#7201a8"
             ],
             [
              0.3333333333333333,
              "#9c179e"
             ],
             [
              0.4444444444444444,
              "#bd3786"
             ],
             [
              0.5555555555555556,
              "#d8576b"
             ],
             [
              0.6666666666666666,
              "#ed7953"
             ],
             [
              0.7777777777777778,
              "#fb9f3a"
             ],
             [
              0.8888888888888888,
              "#fdca26"
             ],
             [
              1,
              "#f0f921"
             ]
            ],
            "type": "histogram2d"
           }
          ],
          "histogram2dcontour": [
           {
            "colorbar": {
             "outlinewidth": 0,
             "ticks": ""
            },
            "colorscale": [
             [
              0,
              "#0d0887"
             ],
             [
              0.1111111111111111,
              "#46039f"
             ],
             [
              0.2222222222222222,
              "#7201a8"
             ],
             [
              0.3333333333333333,
              "#9c179e"
             ],
             [
              0.4444444444444444,
              "#bd3786"
             ],
             [
              0.5555555555555556,
              "#d8576b"
             ],
             [
              0.6666666666666666,
              "#ed7953"
             ],
             [
              0.7777777777777778,
              "#fb9f3a"
             ],
             [
              0.8888888888888888,
              "#fdca26"
             ],
             [
              1,
              "#f0f921"
             ]
            ],
            "type": "histogram2dcontour"
           }
          ],
          "mesh3d": [
           {
            "colorbar": {
             "outlinewidth": 0,
             "ticks": ""
            },
            "type": "mesh3d"
           }
          ],
          "parcoords": [
           {
            "line": {
             "colorbar": {
              "outlinewidth": 0,
              "ticks": ""
             }
            },
            "type": "parcoords"
           }
          ],
          "pie": [
           {
            "automargin": true,
            "type": "pie"
           }
          ],
          "scatter": [
           {
            "fillpattern": {
             "fillmode": "overlay",
             "size": 10,
             "solidity": 0.2
            },
            "type": "scatter"
           }
          ],
          "scatter3d": [
           {
            "line": {
             "colorbar": {
              "outlinewidth": 0,
              "ticks": ""
             }
            },
            "marker": {
             "colorbar": {
              "outlinewidth": 0,
              "ticks": ""
             }
            },
            "type": "scatter3d"
           }
          ],
          "scattercarpet": [
           {
            "marker": {
             "colorbar": {
              "outlinewidth": 0,
              "ticks": ""
             }
            },
            "type": "scattercarpet"
           }
          ],
          "scattergeo": [
           {
            "marker": {
             "colorbar": {
              "outlinewidth": 0,
              "ticks": ""
             }
            },
            "type": "scattergeo"
           }
          ],
          "scattergl": [
           {
            "marker": {
             "colorbar": {
              "outlinewidth": 0,
              "ticks": ""
             }
            },
            "type": "scattergl"
           }
          ],
          "scattermapbox": [
           {
            "marker": {
             "colorbar": {
              "outlinewidth": 0,
              "ticks": ""
             }
            },
            "type": "scattermapbox"
           }
          ],
          "scatterpolar": [
           {
            "marker": {
             "colorbar": {
              "outlinewidth": 0,
              "ticks": ""
             }
            },
            "type": "scatterpolar"
           }
          ],
          "scatterpolargl": [
           {
            "marker": {
             "colorbar": {
              "outlinewidth": 0,
              "ticks": ""
             }
            },
            "type": "scatterpolargl"
           }
          ],
          "scatterternary": [
           {
            "marker": {
             "colorbar": {
              "outlinewidth": 0,
              "ticks": ""
             }
            },
            "type": "scatterternary"
           }
          ],
          "surface": [
           {
            "colorbar": {
             "outlinewidth": 0,
             "ticks": ""
            },
            "colorscale": [
             [
              0,
              "#0d0887"
             ],
             [
              0.1111111111111111,
              "#46039f"
             ],
             [
              0.2222222222222222,
              "#7201a8"
             ],
             [
              0.3333333333333333,
              "#9c179e"
             ],
             [
              0.4444444444444444,
              "#bd3786"
             ],
             [
              0.5555555555555556,
              "#d8576b"
             ],
             [
              0.6666666666666666,
              "#ed7953"
             ],
             [
              0.7777777777777778,
              "#fb9f3a"
             ],
             [
              0.8888888888888888,
              "#fdca26"
             ],
             [
              1,
              "#f0f921"
             ]
            ],
            "type": "surface"
           }
          ],
          "table": [
           {
            "cells": {
             "fill": {
              "color": "#EBF0F8"
             },
             "line": {
              "color": "white"
             }
            },
            "header": {
             "fill": {
              "color": "#C8D4E3"
             },
             "line": {
              "color": "white"
             }
            },
            "type": "table"
           }
          ]
         },
         "layout": {
          "annotationdefaults": {
           "arrowcolor": "#2a3f5f",
           "arrowhead": 0,
           "arrowwidth": 1
          },
          "autotypenumbers": "strict",
          "coloraxis": {
           "colorbar": {
            "outlinewidth": 0,
            "ticks": ""
           }
          },
          "colorscale": {
           "diverging": [
            [
             0,
             "#8e0152"
            ],
            [
             0.1,
             "#c51b7d"
            ],
            [
             0.2,
             "#de77ae"
            ],
            [
             0.3,
             "#f1b6da"
            ],
            [
             0.4,
             "#fde0ef"
            ],
            [
             0.5,
             "#f7f7f7"
            ],
            [
             0.6,
             "#e6f5d0"
            ],
            [
             0.7,
             "#b8e186"
            ],
            [
             0.8,
             "#7fbc41"
            ],
            [
             0.9,
             "#4d9221"
            ],
            [
             1,
             "#276419"
            ]
           ],
           "sequential": [
            [
             0,
             "#0d0887"
            ],
            [
             0.1111111111111111,
             "#46039f"
            ],
            [
             0.2222222222222222,
             "#7201a8"
            ],
            [
             0.3333333333333333,
             "#9c179e"
            ],
            [
             0.4444444444444444,
             "#bd3786"
            ],
            [
             0.5555555555555556,
             "#d8576b"
            ],
            [
             0.6666666666666666,
             "#ed7953"
            ],
            [
             0.7777777777777778,
             "#fb9f3a"
            ],
            [
             0.8888888888888888,
             "#fdca26"
            ],
            [
             1,
             "#f0f921"
            ]
           ],
           "sequentialminus": [
            [
             0,
             "#0d0887"
            ],
            [
             0.1111111111111111,
             "#46039f"
            ],
            [
             0.2222222222222222,
             "#7201a8"
            ],
            [
             0.3333333333333333,
             "#9c179e"
            ],
            [
             0.4444444444444444,
             "#bd3786"
            ],
            [
             0.5555555555555556,
             "#d8576b"
            ],
            [
             0.6666666666666666,
             "#ed7953"
            ],
            [
             0.7777777777777778,
             "#fb9f3a"
            ],
            [
             0.8888888888888888,
             "#fdca26"
            ],
            [
             1,
             "#f0f921"
            ]
           ]
          },
          "colorway": [
           "#636efa",
           "#EF553B",
           "#00cc96",
           "#ab63fa",
           "#FFA15A",
           "#19d3f3",
           "#FF6692",
           "#B6E880",
           "#FF97FF",
           "#FECB52"
          ],
          "font": {
           "color": "#2a3f5f"
          },
          "geo": {
           "bgcolor": "white",
           "lakecolor": "white",
           "landcolor": "#E5ECF6",
           "showlakes": true,
           "showland": true,
           "subunitcolor": "white"
          },
          "hoverlabel": {
           "align": "left"
          },
          "hovermode": "closest",
          "mapbox": {
           "style": "light"
          },
          "paper_bgcolor": "white",
          "plot_bgcolor": "#E5ECF6",
          "polar": {
           "angularaxis": {
            "gridcolor": "white",
            "linecolor": "white",
            "ticks": ""
           },
           "bgcolor": "#E5ECF6",
           "radialaxis": {
            "gridcolor": "white",
            "linecolor": "white",
            "ticks": ""
           }
          },
          "scene": {
           "xaxis": {
            "backgroundcolor": "#E5ECF6",
            "gridcolor": "white",
            "gridwidth": 2,
            "linecolor": "white",
            "showbackground": true,
            "ticks": "",
            "zerolinecolor": "white"
           },
           "yaxis": {
            "backgroundcolor": "#E5ECF6",
            "gridcolor": "white",
            "gridwidth": 2,
            "linecolor": "white",
            "showbackground": true,
            "ticks": "",
            "zerolinecolor": "white"
           },
           "zaxis": {
            "backgroundcolor": "#E5ECF6",
            "gridcolor": "white",
            "gridwidth": 2,
            "linecolor": "white",
            "showbackground": true,
            "ticks": "",
            "zerolinecolor": "white"
           }
          },
          "shapedefaults": {
           "line": {
            "color": "#2a3f5f"
           }
          },
          "ternary": {
           "aaxis": {
            "gridcolor": "white",
            "linecolor": "white",
            "ticks": ""
           },
           "baxis": {
            "gridcolor": "white",
            "linecolor": "white",
            "ticks": ""
           },
           "bgcolor": "#E5ECF6",
           "caxis": {
            "gridcolor": "white",
            "linecolor": "white",
            "ticks": ""
           }
          },
          "title": {
           "x": 0.05
          },
          "xaxis": {
           "automargin": true,
           "gridcolor": "white",
           "linecolor": "white",
           "ticks": "",
           "title": {
            "standoff": 15
           },
           "zerolinecolor": "white",
           "zerolinewidth": 2
          },
          "yaxis": {
           "automargin": true,
           "gridcolor": "white",
           "linecolor": "white",
           "ticks": "",
           "title": {
            "standoff": 15
           },
           "zerolinecolor": "white",
           "zerolinewidth": 2
          }
         }
        },
        "title": {
         "text": "Todays Option Pos (PnL and Delta)",
         "x": 0.5,
         "xanchor": "center"
        },
        "xaxis": {
         "anchor": "y",
         "domain": [
          0,
          0.45
         ],
         "title": {
          "text": "Price"
         }
        },
        "xaxis2": {
         "anchor": "y2",
         "domain": [
          0.55,
          1
         ],
         "title": {
          "text": "Price"
         }
        },
        "yaxis": {
         "anchor": "x",
         "domain": [
          0,
          1
         ],
         "title": {
          "text": "Pnl"
         }
        },
        "yaxis2": {
         "anchor": "x2",
         "domain": [
          0,
          1
         ],
         "title": {
          "text": "Delta"
         }
        }
       }
      },
      "text/html": [
       "<div>                            <div id=\"627d8e7e-d2d7-40f7-b06d-7c0d4cc9a098\" class=\"plotly-graph-div\" style=\"height:525px; width:100%;\"></div>            <script type=\"text/javascript\">                require([\"plotly\"], function(Plotly) {                    window.PLOTLYENV=window.PLOTLYENV || {};                                    if (document.getElementById(\"627d8e7e-d2d7-40f7-b06d-7c0d4cc9a098\")) {                    Plotly.newPlot(                        \"627d8e7e-d2d7-40f7-b06d-7c0d4cc9a098\",                        [{\"name\":\"EUA Mar25 75C\",\"x\":[20,21,22,23,24,25,26,27,28,29,30,31,32,33,34,35,36,37,38,39,40,41,42,43,44,45,46,47,48,49,50,51,52,53,54,55,56,57,58,59,60,61,62,63,64,65,66,67,68,69,70,71,72,73,74,75,76,77,78,79,80,81,82,83,84,85,86,87,88,89,90,91,92,93,94,95,96,97,98,99,100],\"y\":[-247685.6730499249,-247685.6730499249,-247685.6730499249,-247685.6730499249,-247685.6730499249,-247685.6730499249,-247685.6730499249,-247685.6730499249,-247685.6730499249,-247685.6730499249,-247685.6730499249,-247685.6730499249,-247685.6730499249,-247685.6730499249,-247685.6730499249,-247685.67304992466,-247685.6730499227,-247685.67304990615,-247685.6730497827,-247685.67304896846,-247685.67304418536,-247685.67301896095,-247685.6728987328,-247685.67237755875,-247685.67031096923,-247685.66277511377,-247685.6373795799,-247685.55792629282,-247685.32616666958,-247684.69339345058,-247683.07031752216,-247679.14568065613,-247670.1709319458,-247650.7034021545,-247610.53471758953,-247531.48489206206,-247382.7437015343,-247114.52008970847,-246649.94095369027,-245875.42776491347,-244630.15011095826,-242695.5549160544,-239786.31863710095,-235544.2767516658,-229536.87181209674,-221261.38422260925,-210155.6756035597,-195615.44549503748,-177017.1865817585,-153745.25453454902,-125220.87562889964,-90930.59788416122,-50451.6991386347,-3472.390320547899,50194.76622813487,110607.06281750365,177693.53036232042,251263.83109162777,331022.91737065214,416589.8420221986,507518.9513105425,603321.7391189307,703487.8498499116,807504.0350620805,914870.2388726695,1025112.3593343345,1137791.568066349,1252510.3426974278,1368915.5639286353,1486699.150489478,1605596.758638913,1725385.0710301816,1845878.1577660856,1966923.3251732308,2088396.7882590715,2210199.421324719,2332252.765158284,2454495.4031913984,2576879.7651625145,2699369.375581934,2821936.5347827803],\"type\":\"scatter\",\"xaxis\":\"x\",\"yaxis\":\"y\"},{\"name\":\"EUA Mar25 75C\",\"x\":[20,21,22,23,24,25,26,27,28,29,30,31,32,33,34,35,36,37,38,39,40,41,42,43,44,45,46,47,48,49,50,51,52,53,54,55,56,57,58,59,60,61,62,63,64,65,66,67,68,69,70,71,72,73,74,75,76,77,78,79,80,81,82,83,84,85,86,87,88,89,90,91,92,93,94,95,96,97,98,99,100],\"y\":[6.165751596294016e-37,4.81508769949703e-34,2.1882475064159366e-31,6.134572760006856e-29,1.1152940102677933e-26,1.372983500898203e-24,1.1882272450196498e-22,7.469892400909568e-21,3.5106830442687917e-19,1.2651341659669221e-17,3.575153155311114e-16,8.082216079961097e-15,1.4879103568378921e-13,2.266517476262827e-12,2.898013758308443e-11,3.1507230371093286e-10,2.9468598036383207e-09,2.3963229844179384e-08,1.7105920261168864e-07,1.0813601760810832e-06,6.102320709713721e-06,3.096737283133373e-05,0.00014227204776057957,0.0005954241481711664,0.0022829647322980496,0.008061608368634838,0.026345471105620664,0.08004031005216157,0.22701061770966416,0.6034019286292897,1.5085610941840204,3.559441718088799,7.951235869920682,16.86570532554842,34.0639377897438,65.68042137002476,121.19681523327012,214.51766537278556,365.0043260490276,598.2621113790617,946.4382362102347,1447.7929148859193,2145.364925121481,3084.6659040575387,4310.490143028115,5863.091590105976,7774.123252847802,10062.823819862291,12732.949549023066,15770.879522046713,19145.179984002505,22807.724213049387,26696.26230465715,30738.1552343388,34854.85783041697,38966.67246399735,42997.302451192234,46877.802172838965,50549.63180512619,53966.656285019504,57096.0591587161,59918.25478599239,62425.96562453636,64622.68025168817,66520.72351830562,68139.15819008635,69501.70545564377,70634.8282604987,71566.07432224897,72322.73104329374,72930.80652043711,73414.32164691533,73794.87843924551,74091.45850325792,74320.40153085825,74495.51510460385,74628.27208039215,74728.05882062689,74802.44528009073,74857.45547702475,74897.82361891179],\"type\":\"scatter\",\"xaxis\":\"x2\",\"yaxis\":\"y2\"},{\"name\":\"EUA Mar25 80C\",\"x\":[20,21,22,23,24,25,26,27,28,29,30,31,32,33,34,35,36,37,38,39,40,41,42,43,44,45,46,47,48,49,50,51,52,53,54,55,56,57,58,59,60,61,62,63,64,65,66,67,68,69,70,71,72,73,74,75,76,77,78,79,80,81,82,83,84,85,86,87,88,89,90,91,92,93,94,95,96,97,98,99,100],\"y\":[-293042.3457475392,-293042.3457475392,-293042.3457475392,-293042.3457475392,-293042.3457475392,-293042.3457475392,-293042.3457475392,-293042.3457475392,-293042.3457475392,-293042.3457475392,-293042.3457475392,-293042.3457475392,-293042.3457475392,-293042.3457475392,-293042.3457475392,-293042.3457475392,-293042.3457475392,-293042.3457475391,-293042.34574753797,-293042.3457475287,-293042.3457474602,-293042.3457470092,-293042.3457443458,-293042.3457301403,-293042.3456613038,-293042.3453565236,-293042.3441170753,-293042.33946501266,-293042.3232771391,-293042.2708355635,-293042.1120564665,-293041.6611163079,-293040.45573353453,-293037.4135245255,-293030.14239878743,-293013.638992551,-292977.9739743026,-292904.40772734745,-292759.2331390215,-292484.5511528937,-291985.21070263826,-291111.3512278979,-289636.4201723894,-287231.2083208996,-283435.30473797984,-277628.3092341121,-269003.9888856055,-256551.1353055016,-239044.99498625196,-215052.68914372943,-182954.99027292032,-140985.2703158569,-87284.57405794409,-19969.866622749254,62789.15682940669,162690.47324932207,281223.6087884114,419603.0051186825,578715.954239144,759088.7117883442,960872.6147726862,1183850.1755768908,1427459.429562361,1690833.4594476677,1972851.118531431,2272194.5650490727,2587409.2727469504,2916962.6180598936,3259297.851244456,3612881.116475833,3976240.0807415927,4347993.5698137395,4726872.324899278,5111731.547364715,5501556.278643726,5895460.876191534,6292683.916609458,6692579.814303866,7094608.321269431,7498322.902143796,7903358.785510953],\"type\":\"scatter\",\"xaxis\":\"x\",\"yaxis\":\"y\"},{\"name\":\"EUA Mar25 80C\",\"x\":[20,21,22,23,24,25,26,27,28,29,30,31,32,33,34,35,36,37,38,39,40,41,42,43,44,45,46,47,48,49,50,51,52,53,54,55,56,57,58,59,60,61,62,63,64,65,66,67,68,69,70,71,72,73,74,75,76,77,78,79,80,81,82,83,84,85,86,87,88,89,90,91,92,93,94,95,96,97,98,99,100],\"y\":[7.98829215822977e-42,1.085268275125313e-38,8.298449017630665e-36,3.798244332634498e-33,1.0971096567279177e-30,2.093265532965906e-28,2.7449252296873304e-26,2.5610315385655488e-24,1.7526166938057525e-22,9.036438450359267e-21,3.594730805593825e-19,1.1268677839277155e-17,2.836685708205287e-16,5.832061018501435e-15,9.942686070329711e-14,1.4249688696349234e-12,1.7382275625724982e-11,1.825095420376303e-10,1.6663916867516898e-09,1.335436204693019e-08,9.473627493922781e-08,5.995667026819012e-07,3.4094867841775432e-06,1.7535704025840258e-05,8.206687297607821e-05,0.0003514378251343813,0.0013842286078956704,0.005038755774355586,0.01702639058724056,0.053628691932481404,0.15805741278969387,0.43745208218895826,1.1407645155008275,2.811701847831212,6.569344447151092,14.589728102350483,30.879150099648456,62.43536662725412,120.87498801664391,224.55355148411675,401.1131423778987,690.2648731283344,1146.466817947125,1841.0218876149775,2863.0327168338736,4318.649538077245,6328.158247336792,9020.683781719874,12526.605674304777,16968.149581733906,22448.964995423023,29043.75662312872,36789.14932264131,45676.904328698656,55650.37134719548,66604.69281494216,78390.83347611924,90823.06194230572,103689.12939988909,116762.12665696643,129812.88302199767,142621.80161743486,154989.1849240039,166743.35443493718,177746.16428116002,187895.80626318388,197127.06603342024,205409.39194580645,212743.2670210243,219155.43021420576,224693.4846875519,229420.37295612606,233409.10893018378,236738.05192151354,239486.90201033876,241733.50052852754,243551.4405741552,245008.433527777,246165.33860691747,247075.74157189656,247785.96253218627],\"type\":\"scatter\",\"xaxis\":\"x2\",\"yaxis\":\"y2\"},{\"name\":\"EUA Mar25 85C\",\"x\":[20,21,22,23,24,25,26,27,28,29,30,31,32,33,34,35,36,37,38,39,40,41,42,43,44,45,46,47,48,49,50,51,52,53,54,55,56,57,58,59,60,61,62,63,64,65,66,67,68,69,70,71,72,73,74,75,76,77,78,79,80,81,82,83,84,85,86,87,88,89,90,91,92,93,94,95,96,97,98,99,100],\"y\":[-120545.32695780632,-120545.32695780632,-120545.32695780632,-120545.32695780632,-120545.32695780632,-120545.32695780632,-120545.32695780632,-120545.32695780632,-120545.32695780632,-120545.32695780632,-120545.32695780632,-120545.32695780632,-120545.32695780632,-120545.32695780632,-120545.32695780632,-120545.32695780632,-120545.32695780632,-120545.32695780632,-120545.32695780629,-120545.3269578061,-120545.32695780449,-120545.32695779252,-120545.32695771415,-120545.32695725051,-120545.326954761,-120545.3269425592,-120545.32688768322,-120545.32666012664,-120545.32578616095,-120545.3226643242,-120545.31225254598,-120545.27971290087,-120545.18409392741,-120544.9190648216,-120544.22412248858,-120542.49543337255,-120538.40535690445,-120529.17841173727,-120509.28544864728,-120468.20819352032,-120386.8022873187,-120231.66864413876,-119946.86256806807,-119442.26945479747,-118578.09980853846,-117145.24156641375,-114841.67015782506,-111245.73900972492,-105787.89769667442,-97723.11491477455,-86106.8945470495,-69778.1338487321,-47352.070860849904,-17226.136200389148,22399.340605313733,73484.84896187721,138100.57603437317,218362.69019391332,316360.6314240899,434080.04094771825,573326.5284232264,735655.5083529854,922312.8431479516,1134190.0834366856,1371796.825362541,1635251.2695241794,1924288.6325686378,2238285.7788726855,2576299.4203753,2937114.5471197907,3319299.4224465108,3721263.485980809,4141314.8028116734,4577714.205967249,5028723.920279241,5492649.149988567,5967871.791369047,6452876.042151689,6946266.186207428,7446777.216637706,7953279.220002704],\"type\":\"scatter\",\"xaxis\":\"x\",\"yaxis\":\"y\"},{\"name\":\"EUA Mar25 85C\",\"x\":[20,21,22,23,24,25,26,27,28,29,30,31,32,33,34,35,36,37,38,39,40,41,42,43,44,45,46,47,48,49,50,51,52,53,54,55,56,57,58,59,60,61,62,63,64,65,66,67,68,69,70,71,72,73,74,75,76,77,78,79,80,81,82,83,84,85,86,87,88,89,90,91,92,93,94,95,96,97,98,99,100],\"y\":[2.010417386622998e-44,3.0677889572482667e-41,2.637336381300902e-38,1.3579800824586807e-35,4.4140014424881825e-33,9.477670115665943e-31,1.398421451158316e-28,1.4676303605341373e-26,1.1292449910386547e-24,6.542671974632358e-23,2.9227961597146552e-21,1.0281695284855927e-19,2.9021603186746647e-18,6.684790482274597e-17,1.2756882205948107e-15,2.0446853759460964e-14,2.786773875742726e-13,3.266172429405939e-12,3.3255705400770124e-11,2.969060732321528e-10,2.3441527548588987e-09,1.649468807113667e-08,1.0418214059083262e-07,5.945437054426694e-07,3.084195462543301e-06,1.4624865046894204e-05,6.371996106328771e-05,0.0002563122783409963,0.0009560935181632295,0.0033209244501586042,0.010782312136870567,0.032840717416308396,0.0941480777746361,0.25483795750896754,0.6531903756878619,1.5897475871648266,3.683376188894045,8.144101042804378,17.222940849886452,34.91158289251693,67.96860506499057,127.33677466236652,229.98069205227085,401.1114119080769,676.675845468711,1105.8824872964017,1753.42817750426,2701.006361057152,4047.640886898981,5908.422227371828,8411.336484879466,11692.068284418123,15886.906673895028,21124.154064628994,27514.688955758356,35142.520159793894,44056.25826919359,54262.399535570206,65721.16814783607,78345.4146714826,92002.75642898968,106520.8140958141,121695.09294992915,137298.81566504325,153093.8626812113,168841.92729905437,184315.04188153252,199304.76243903014,213629.48647350966,227139.5946626245,239720.32306895035,251292.4658474944,261811.1624210096,271263.1288957963,279662.7493730772,287047.45292519405,293472.7745971199,299007.4442957409,303728.7767402671,307718.5587773252,311059.55554016324],\"type\":\"scatter\",\"xaxis\":\"x2\",\"yaxis\":\"y2\"},{\"name\":\"EUA Mar25 90C\",\"x\":[20,21,22,23,24,25,26,27,28,29,30,31,32,33,34,35,36,37,38,39,40,41,42,43,44,45,46,47,48,49,50,51,52,53,54,55,56,57,58,59,60,61,62,63,64,65,66,67,68,69,70,71,72,73,74,75,76,77,78,79,80,81,82,83,84,85,86,87,88,89,90,91,92,93,94,95,96,97,98,99,100],\"y\":[-42315.162703868795,-42315.162703868795,-42315.162703868795,-42315.162703868795,-42315.162703868795,-42315.162703868795,-42315.162703868795,-42315.162703868795,-42315.162703868795,-42315.162703868795,-42315.162703868795,-42315.162703868795,-42315.162703868795,-42315.162703868795,-42315.162703868795,-42315.162703868795,-42315.162703868795,-42315.162703868795,-42315.162703868795,-42315.16270386877,-42315.16270386858,-42315.162703867165,-42315.16270385793,-42315.162703803115,-42315.162703506794,-42315.16270203922,-42315.16269534725,-42315.162667123346,-42315.162556551084,-42315.16215256437,-42315.1607709503,-42315.15633278379,-42315.142898426086,-42315.10446270103,-42315.00023501469,-42314.73163296121,-42314.07216814694,-42312.526049208114,-42309.05695467592,-42301.592312299574,-42286.15868324443,-42255.44071200931,-42196.4833751376,-42087.18369494668,-41891.15807466683,-41550.54447962821,-40976.32730532255,-40035.87843602842,-38537.60598650769,-36212.89596635565,-32695.90853316701,-27502.217749684565,-20007.71245407293,-9429.54432653635,5188.847714026429,24986.54787237643,51285.882672211395,85583.5210642125,129531.04079166515,184904.82356399714,253566.0057052304,337412.0695075388,438322.4185297304,558100.8532572428,698418.1897001151,860758.3102708497,1046370.7041109208,1256232.0744310182,1491018.920038908,1751092.2100635427,2036494.444296581,2346958.6025228463,2681927.799149719,3040583.9216721007,3421883.1703846725,3824596.239659291,4247350.877706466,4688674.7078378685,5147036.4564891625,5620884.073949576,6108678.615195269],\"type\":\"scatter\",\"xaxis\":\"x\",\"yaxis\":\"y\"},{\"name\":\"EUA Mar25 90C\",\"x\":[20,21,22,23,24,25,26,27,28,29,30,31,32,33,34,35,36,37,38,39,40,41,42,43,44,45,46,47,48,49,50,51,52,53,54,55,56,57,58,59,60,61,62,63,64,65,66,67,68,69,70,71,72,73,74,75,76,77,78,79,80,81,82,83,84,85,86,87,88,89,90,91,92,93,94,95,96,97,98,99,100],\"y\":[1.7425137870453232e-44,2.0516164946159918e-41,1.4008250225369405e-38,5.8774202166712695e-36,1.592571519660515e-33,2.909263540817758e-31,3.7193177780762133e-29,3.4381168456643345e-27,2.364898066543109e-25,1.2414596958199064e-23,5.086576317342367e-22,1.6594443367403256e-20,4.388232319706327e-19,9.557608683182041e-18,1.7393439619335853e-16,2.6793589948995654e-15,3.534935785552701e-14,4.037016341011321e-13,4.0297023066615825e-12,3.5469347301200326e-11,2.7752719663143104e-10,1.9446431245992395e-09,1.228577859354027e-08,7.042126865187517e-08,3.6833307756852884e-07,1.7673351464060208e-06,7.81755171197262e-06,3.202371447954811e-05,0.00012199858567397697,0.0004339339523239371,0.0014463183074578383,0.004532664872776877,0.013399003764111805,0.03747228911253827,0.09942001607803722,0.25089648655969243,0.6037178546380919,1.3883197902765756,3.057730957453814,6.463189742270223,13.136074868063874,25.718282805962712,48.58692203733096,88.71587477838231,156.80295901512014,268.6644605920575,446.8579283064107,722.4414391540948,1136.7185955244227,1742.7621531973389,2606.4664947277365,3806.86164541815,5435.438681660534,7594.293335754352,10392.990304906285,13944.17725279574,18358.120482867045,23736.475160263886,30165.72177523042,37710.77926388454,46409.33089957744,56267.366107376714,67256.35233468711,79312.3163681837,92336.95033020512,106200.68366033449,120747.49867746614,135801.13134850602,151172.2035451297,166665.78532114753,182088.88637283066,197257.42007166374,212002.2622378711,226174.1285237763,239647.10643966947,252320.78896521512,264121.0565784228,274999.6363288976,284932.6261859047,293918.20905974664,301973.79480546864],\"type\":\"scatter\",\"xaxis\":\"x2\",\"yaxis\":\"y2\"},{\"mode\":\"lines\",\"name\":\"Total_PnL\",\"x\":[20,21,22,23,24,25,26,27,28,29,30,31,32,33,34,35,36,37,38,39,40,41,42,43,44,45,46,47,48,49,50,51,52,53,54,55,56,57,58,59,60,61,62,63,64,65,66,67,68,69,70,71,72,73,74,75,76,77,78,79,80,81,82,83,84,85,86,87,88,89,90,91,92,93,94,95,96,97,98,99,100],\"y\":[-703588.5084591393,-703588.5084591393,-703588.5084591393,-703588.5084591393,-703588.5084591393,-703588.5084591393,-703588.5084591393,-703588.5084591393,-703588.5084591393,-703588.5084591393,-703588.5084591393,-703588.5084591393,-703588.5084591393,-703588.5084591393,-703588.5084591393,-703588.508459139,-703588.508459137,-703588.5084591204,-703588.5084589957,-703588.5084581721,-703588.5084533186,-703588.5084276298,-703588.5083046507,-703588.5077687526,-703588.5056305408,-703588.4977762358,-703588.4710796856,-703588.3867185556,-703588.1377865208,-703587.4490459026,-703585.6553974849,-703581.2428426486,-703570.9536578337,-703548.1404542025,-703499.9014738802,-703402.3509509468,-703213.1952008883,-702860.6322780014,-702227.5164960349,-701129.779423627,-699288.3217841596,-696294.0155001003,-691566.084752696,-684304.9382223096,-673441.4344332819,-657585.4795027634,-634977.6619523128,-603448.1982462924,-560387.6852511927,-502733.95455940865,-426978.66898203647,-329196.2197984348,-205096.0565115016,-50097.937470222656,140572.11137688172,371768.9329010794,648303.5978573164,974813.0474684361,1355630.5438255512,1794663.4183222584,2295284.1002116855,2860239.4925563456,3491582.5410899543,4190628.4312036764,4957936.372466757,5793316.5041784365,6695860.177492858,7663990.814061025,8695531.7555873,9787787.024148645,10937630.706123598,12141600.729347577,13395993.084626757,14696953.000177296,16040560.157566711,17422905.687164113,18840159.350843254,20288625.96748482,21764790.72912854,23265353.56831301,24787253.155491702],\"type\":\"scatter\",\"xaxis\":\"x\",\"yaxis\":\"y\"},{\"mode\":\"lines\",\"name\":\"Total_Delta\",\"x\":[20,21,22,23,24,25,26,27,28,29,30,31,32,33,34,35,36,37,38,39,40,41,42,43,44,45,46,47,48,49,50,51,52,53,54,55,56,57,58,59,60,61,62,63,64,65,66,67,68,69,70,71,72,73,74,75,76,77,78,79,80,81,82,83,84,85,86,87,88,89,90,91,92,93,94,95,96,97,98,99,100],\"y\":[6.165831854508716e-37,4.815196738265088e-34,2.188330894722253e-31,6.134954530162223e-29,1.1154043218907624e-26,1.3731940661448653e-24,1.1885035078958475e-22,7.472471546868584e-21,3.5124493183105744e-19,1.2660455939436284e-17,3.5787822006546223e-16,8.09360416919659e-15,1.490780452381604e-13,2.2724259427948343e-12,2.9081014066404514e-11,3.1652039879332214e-10,2.9645561060094758e-09,2.414940926028052e-08,1.7276287970614774e-07,1.0950469135485467e-06,6.199678664604438e-06,3.1585378865211356e-05,0.0001457980024639415,0.0006136248171711013,0.0023684841338142398,0.008429438393962518,0.027801237226291593,0.0853674018193377,0.24511510040074191,0.6607854789642537,1.6788471374180427,4.034267182566842,9.199547466960256,19.96971742000114,41.385892628660784,82.11079354609976,156.3630593764507,286.48545283312063,506.1599858730118,864.1904354979655,1428.6560585211878,2291.112845482583,3570.399357158208,5415.515078358975,8007.00166434582,11556.28807607168,16302.567605995264,22506.955401793413,30443.91470575125,40390.213484349784,52611.94795903273,67350.41076601438,84807.75698285401,105133.5069634208,128412.9084382771,154658.06269152917,183802.51467937208,215699.73881097877,250125.65112808178,286784.9768773531,325321.0295092809,365328.23660661804,406366.5958331565,447977.1667198523,489697.70081088203,531077.5754126591,571691.3120480627,611150.1139938412,649111.0313619127,685283.5412412715,719433.50064977,751384.5805221996,781017.41202831,808266.767844344,833117.1593539437,855597.2575235405,875773.5438300901,893743.5729730425,909629.1868131801,923569.9648859932,935717.13649673],\"type\":\"scatter\",\"xaxis\":\"x2\",\"yaxis\":\"y2\"}],                        {\"template\":{\"data\":{\"histogram2dcontour\":[{\"type\":\"histogram2dcontour\",\"colorbar\":{\"outlinewidth\":0,\"ticks\":\"\"},\"colorscale\":[[0.0,\"#0d0887\"],[0.1111111111111111,\"#46039f\"],[0.2222222222222222,\"#7201a8\"],[0.3333333333333333,\"#9c179e\"],[0.4444444444444444,\"#bd3786\"],[0.5555555555555556,\"#d8576b\"],[0.6666666666666666,\"#ed7953\"],[0.7777777777777778,\"#fb9f3a\"],[0.8888888888888888,\"#fdca26\"],[1.0,\"#f0f921\"]]}],\"choropleth\":[{\"type\":\"choropleth\",\"colorbar\":{\"outlinewidth\":0,\"ticks\":\"\"}}],\"histogram2d\":[{\"type\":\"histogram2d\",\"colorbar\":{\"outlinewidth\":0,\"ticks\":\"\"},\"colorscale\":[[0.0,\"#0d0887\"],[0.1111111111111111,\"#46039f\"],[0.2222222222222222,\"#7201a8\"],[0.3333333333333333,\"#9c179e\"],[0.4444444444444444,\"#bd3786\"],[0.5555555555555556,\"#d8576b\"],[0.6666666666666666,\"#ed7953\"],[0.7777777777777778,\"#fb9f3a\"],[0.8888888888888888,\"#fdca26\"],[1.0,\"#f0f921\"]]}],\"heatmap\":[{\"type\":\"heatmap\",\"colorbar\":{\"outlinewidth\":0,\"ticks\":\"\"},\"colorscale\":[[0.0,\"#0d0887\"],[0.1111111111111111,\"#46039f\"],[0.2222222222222222,\"#7201a8\"],[0.3333333333333333,\"#9c179e\"],[0.4444444444444444,\"#bd3786\"],[0.5555555555555556,\"#d8576b\"],[0.6666666666666666,\"#ed7953\"],[0.7777777777777778,\"#fb9f3a\"],[0.8888888888888888,\"#fdca26\"],[1.0,\"#f0f921\"]]}],\"heatmapgl\":[{\"type\":\"heatmapgl\",\"colorbar\":{\"outlinewidth\":0,\"ticks\":\"\"},\"colorscale\":[[0.0,\"#0d0887\"],[0.1111111111111111,\"#46039f\"],[0.2222222222222222,\"#7201a8\"],[0.3333333333333333,\"#9c179e\"],[0.4444444444444444,\"#bd3786\"],[0.5555555555555556,\"#d8576b\"],[0.6666666666666666,\"#ed7953\"],[0.7777777777777778,\"#fb9f3a\"],[0.8888888888888888,\"#fdca26\"],[1.0,\"#f0f921\"]]}],\"contourcarpet\":[{\"type\":\"contourcarpet\",\"colorbar\":{\"outlinewidth\":0,\"ticks\":\"\"}}],\"contour\":[{\"type\":\"contour\",\"colorbar\":{\"outlinewidth\":0,\"ticks\":\"\"},\"colorscale\":[[0.0,\"#0d0887\"],[0.1111111111111111,\"#46039f\"],[0.2222222222222222,\"#7201a8\"],[0.3333333333333333,\"#9c179e\"],[0.4444444444444444,\"#bd3786\"],[0.5555555555555556,\"#d8576b\"],[0.6666666666666666,\"#ed7953\"],[0.7777777777777778,\"#fb9f3a\"],[0.8888888888888888,\"#fdca26\"],[1.0,\"#f0f921\"]]}],\"surface\":[{\"type\":\"surface\",\"colorbar\":{\"outlinewidth\":0,\"ticks\":\"\"},\"colorscale\":[[0.0,\"#0d0887\"],[0.1111111111111111,\"#46039f\"],[0.2222222222222222,\"#7201a8\"],[0.3333333333333333,\"#9c179e\"],[0.4444444444444444,\"#bd3786\"],[0.5555555555555556,\"#d8576b\"],[0.6666666666666666,\"#ed7953\"],[0.7777777777777778,\"#fb9f3a\"],[0.8888888888888888,\"#fdca26\"],[1.0,\"#f0f921\"]]}],\"mesh3d\":[{\"type\":\"mesh3d\",\"colorbar\":{\"outlinewidth\":0,\"ticks\":\"\"}}],\"scatter\":[{\"fillpattern\":{\"fillmode\":\"overlay\",\"size\":10,\"solidity\":0.2},\"type\":\"scatter\"}],\"parcoords\":[{\"type\":\"parcoords\",\"line\":{\"colorbar\":{\"outlinewidth\":0,\"ticks\":\"\"}}}],\"scatterpolargl\":[{\"type\":\"scatterpolargl\",\"marker\":{\"colorbar\":{\"outlinewidth\":0,\"ticks\":\"\"}}}],\"bar\":[{\"error_x\":{\"color\":\"#2a3f5f\"},\"error_y\":{\"color\":\"#2a3f5f\"},\"marker\":{\"line\":{\"color\":\"#E5ECF6\",\"width\":0.5},\"pattern\":{\"fillmode\":\"overlay\",\"size\":10,\"solidity\":0.2}},\"type\":\"bar\"}],\"scattergeo\":[{\"type\":\"scattergeo\",\"marker\":{\"colorbar\":{\"outlinewidth\":0,\"ticks\":\"\"}}}],\"scatterpolar\":[{\"type\":\"scatterpolar\",\"marker\":{\"colorbar\":{\"outlinewidth\":0,\"ticks\":\"\"}}}],\"histogram\":[{\"marker\":{\"pattern\":{\"fillmode\":\"overlay\",\"size\":10,\"solidity\":0.2}},\"type\":\"histogram\"}],\"scattergl\":[{\"type\":\"scattergl\",\"marker\":{\"colorbar\":{\"outlinewidth\":0,\"ticks\":\"\"}}}],\"scatter3d\":[{\"type\":\"scatter3d\",\"line\":{\"colorbar\":{\"outlinewidth\":0,\"ticks\":\"\"}},\"marker\":{\"colorbar\":{\"outlinewidth\":0,\"ticks\":\"\"}}}],\"scattermapbox\":[{\"type\":\"scattermapbox\",\"marker\":{\"colorbar\":{\"outlinewidth\":0,\"ticks\":\"\"}}}],\"scatterternary\":[{\"type\":\"scatterternary\",\"marker\":{\"colorbar\":{\"outlinewidth\":0,\"ticks\":\"\"}}}],\"scattercarpet\":[{\"type\":\"scattercarpet\",\"marker\":{\"colorbar\":{\"outlinewidth\":0,\"ticks\":\"\"}}}],\"carpet\":[{\"aaxis\":{\"endlinecolor\":\"#2a3f5f\",\"gridcolor\":\"white\",\"linecolor\":\"white\",\"minorgridcolor\":\"white\",\"startlinecolor\":\"#2a3f5f\"},\"baxis\":{\"endlinecolor\":\"#2a3f5f\",\"gridcolor\":\"white\",\"linecolor\":\"white\",\"minorgridcolor\":\"white\",\"startlinecolor\":\"#2a3f5f\"},\"type\":\"carpet\"}],\"table\":[{\"cells\":{\"fill\":{\"color\":\"#EBF0F8\"},\"line\":{\"color\":\"white\"}},\"header\":{\"fill\":{\"color\":\"#C8D4E3\"},\"line\":{\"color\":\"white\"}},\"type\":\"table\"}],\"barpolar\":[{\"marker\":{\"line\":{\"color\":\"#E5ECF6\",\"width\":0.5},\"pattern\":{\"fillmode\":\"overlay\",\"size\":10,\"solidity\":0.2}},\"type\":\"barpolar\"}],\"pie\":[{\"automargin\":true,\"type\":\"pie\"}]},\"layout\":{\"autotypenumbers\":\"strict\",\"colorway\":[\"#636efa\",\"#EF553B\",\"#00cc96\",\"#ab63fa\",\"#FFA15A\",\"#19d3f3\",\"#FF6692\",\"#B6E880\",\"#FF97FF\",\"#FECB52\"],\"font\":{\"color\":\"#2a3f5f\"},\"hovermode\":\"closest\",\"hoverlabel\":{\"align\":\"left\"},\"paper_bgcolor\":\"white\",\"plot_bgcolor\":\"#E5ECF6\",\"polar\":{\"bgcolor\":\"#E5ECF6\",\"angularaxis\":{\"gridcolor\":\"white\",\"linecolor\":\"white\",\"ticks\":\"\"},\"radialaxis\":{\"gridcolor\":\"white\",\"linecolor\":\"white\",\"ticks\":\"\"}},\"ternary\":{\"bgcolor\":\"#E5ECF6\",\"aaxis\":{\"gridcolor\":\"white\",\"linecolor\":\"white\",\"ticks\":\"\"},\"baxis\":{\"gridcolor\":\"white\",\"linecolor\":\"white\",\"ticks\":\"\"},\"caxis\":{\"gridcolor\":\"white\",\"linecolor\":\"white\",\"ticks\":\"\"}},\"coloraxis\":{\"colorbar\":{\"outlinewidth\":0,\"ticks\":\"\"}},\"colorscale\":{\"sequential\":[[0.0,\"#0d0887\"],[0.1111111111111111,\"#46039f\"],[0.2222222222222222,\"#7201a8\"],[0.3333333333333333,\"#9c179e\"],[0.4444444444444444,\"#bd3786\"],[0.5555555555555556,\"#d8576b\"],[0.6666666666666666,\"#ed7953\"],[0.7777777777777778,\"#fb9f3a\"],[0.8888888888888888,\"#fdca26\"],[1.0,\"#f0f921\"]],\"sequentialminus\":[[0.0,\"#0d0887\"],[0.1111111111111111,\"#46039f\"],[0.2222222222222222,\"#7201a8\"],[0.3333333333333333,\"#9c179e\"],[0.4444444444444444,\"#bd3786\"],[0.5555555555555556,\"#d8576b\"],[0.6666666666666666,\"#ed7953\"],[0.7777777777777778,\"#fb9f3a\"],[0.8888888888888888,\"#fdca26\"],[1.0,\"#f0f921\"]],\"diverging\":[[0,\"#8e0152\"],[0.1,\"#c51b7d\"],[0.2,\"#de77ae\"],[0.3,\"#f1b6da\"],[0.4,\"#fde0ef\"],[0.5,\"#f7f7f7\"],[0.6,\"#e6f5d0\"],[0.7,\"#b8e186\"],[0.8,\"#7fbc41\"],[0.9,\"#4d9221\"],[1,\"#276419\"]]},\"xaxis\":{\"gridcolor\":\"white\",\"linecolor\":\"white\",\"ticks\":\"\",\"title\":{\"standoff\":15},\"zerolinecolor\":\"white\",\"automargin\":true,\"zerolinewidth\":2},\"yaxis\":{\"gridcolor\":\"white\",\"linecolor\":\"white\",\"ticks\":\"\",\"title\":{\"standoff\":15},\"zerolinecolor\":\"white\",\"automargin\":true,\"zerolinewidth\":2},\"scene\":{\"xaxis\":{\"backgroundcolor\":\"#E5ECF6\",\"gridcolor\":\"white\",\"linecolor\":\"white\",\"showbackground\":true,\"ticks\":\"\",\"zerolinecolor\":\"white\",\"gridwidth\":2},\"yaxis\":{\"backgroundcolor\":\"#E5ECF6\",\"gridcolor\":\"white\",\"linecolor\":\"white\",\"showbackground\":true,\"ticks\":\"\",\"zerolinecolor\":\"white\",\"gridwidth\":2},\"zaxis\":{\"backgroundcolor\":\"#E5ECF6\",\"gridcolor\":\"white\",\"linecolor\":\"white\",\"showbackground\":true,\"ticks\":\"\",\"zerolinecolor\":\"white\",\"gridwidth\":2}},\"shapedefaults\":{\"line\":{\"color\":\"#2a3f5f\"}},\"annotationdefaults\":{\"arrowcolor\":\"#2a3f5f\",\"arrowhead\":0,\"arrowwidth\":1},\"geo\":{\"bgcolor\":\"white\",\"landcolor\":\"#E5ECF6\",\"subunitcolor\":\"white\",\"showland\":true,\"showlakes\":true,\"lakecolor\":\"white\"},\"title\":{\"x\":0.05},\"mapbox\":{\"style\":\"light\"}}},\"xaxis\":{\"anchor\":\"y\",\"domain\":[0.0,0.45],\"title\":{\"text\":\"Price\"}},\"yaxis\":{\"anchor\":\"x\",\"domain\":[0.0,1.0],\"title\":{\"text\":\"Pnl\"}},\"xaxis2\":{\"anchor\":\"y2\",\"domain\":[0.55,1.0],\"title\":{\"text\":\"Price\"}},\"yaxis2\":{\"anchor\":\"x2\",\"domain\":[0.0,1.0],\"title\":{\"text\":\"Delta\"}},\"title\":{\"text\":\"Todays Option Pos (PnL and Delta)\",\"x\":0.5,\"xanchor\":\"center\"},\"barmode\":\"stack\"},                        {\"responsive\": true}                    ).then(function(){\n",
       "                            \n",
       "var gd = document.getElementById('627d8e7e-d2d7-40f7-b06d-7c0d4cc9a098');\n",
       "var x = new MutationObserver(function (mutations, observer) {{\n",
       "        var display = window.getComputedStyle(gd).display;\n",
       "        if (!display || display === 'none') {{\n",
       "            console.log([gd, 'removed!']);\n",
       "            Plotly.purge(gd);\n",
       "            observer.disconnect();\n",
       "        }}\n",
       "}});\n",
       "\n",
       "// Listen for the removal of the full notebook cells\n",
       "var notebookContainer = gd.closest('#notebook-container');\n",
       "if (notebookContainer) {{\n",
       "    x.observe(notebookContainer, {childList: true});\n",
       "}}\n",
       "\n",
       "// Listen for the clearing of the current output cell\n",
       "var outputEl = gd.closest('.output');\n",
       "if (outputEl) {{\n",
       "    x.observe(outputEl, {childList: true});\n",
       "}}\n",
       "\n",
       "                        })                };                });            </script>        </div>"
      ]
     },
     "metadata": {},
     "output_type": "display_data"
    }
   ],
   "source": [
    "pnl_delta_plot(four_days)"
   ]
  },
  {
   "cell_type": "markdown",
   "id": "1e750bed-711b-4f18-94e3-eff90a310a44",
   "metadata": {},
   "source": [
    "## End of Next Week"
   ]
  },
  {
   "cell_type": "code",
   "execution_count": 20,
   "id": "5b6cbac5-ca2d-4f4c-a598-827398742811",
   "metadata": {},
   "outputs": [
    {
     "data": {
      "application/vnd.plotly.v1+json": {
       "config": {
        "plotlyServerURL": "https://plot.ly"
       },
       "data": [
        {
         "name": "EUA Mar25 75C",
         "type": "scatter",
         "x": [
          20,
          21,
          22,
          23,
          24,
          25,
          26,
          27,
          28,
          29,
          30,
          31,
          32,
          33,
          34,
          35,
          36,
          37,
          38,
          39,
          40,
          41,
          42,
          43,
          44,
          45,
          46,
          47,
          48,
          49,
          50,
          51,
          52,
          53,
          54,
          55,
          56,
          57,
          58,
          59,
          60,
          61,
          62,
          63,
          64,
          65,
          66,
          67,
          68,
          69,
          70,
          71,
          72,
          73,
          74,
          75,
          76,
          77,
          78,
          79,
          80,
          81,
          82,
          83,
          84,
          85,
          86,
          87,
          88,
          89,
          90,
          91,
          92,
          93,
          94,
          95,
          96,
          97,
          98,
          99,
          100
         ],
         "xaxis": "x",
         "y": [
          -247685.6730499249,
          -247685.6730499249,
          -247685.6730499249,
          -247685.6730499249,
          -247685.6730499249,
          -247685.6730499249,
          -247685.6730499249,
          -247685.6730499249,
          -247685.6730499249,
          -247685.6730499249,
          -247685.6730499249,
          -247685.6730499249,
          -247685.6730499249,
          -247685.6730499249,
          -247685.6730499249,
          -247685.6730499249,
          -247685.6730499249,
          -247685.67304992466,
          -247685.67304992257,
          -247685.67304990368,
          -247685.67304975732,
          -247685.67304875643,
          -247685.67304266934,
          -247685.67300950372,
          -247685.67284653403,
          -247685.6721198664,
          -247685.66916289306,
          -247685.6581237916,
          -247685.62012909006,
          -247685.4990149116,
          -247685.13993258573,
          -247684.14580648337,
          -247681.56624221275,
          -247675.27096056816,
          -247660.77454096547,
          -247629.18012685352,
          -247563.82003113726,
          -247435.12996011143,
          -247193.35073717232,
          -246758.85442181496,
          -246010.26585885923,
          -244771.07849577433,
          -242796.07190262093,
          -239759.40292854642,
          -235246.6090741846,
          -228752.7881430294,
          -219688.8143162233,
          -207396.61950095606,
          -191173.41509422404,
          -170303.44492732768,
          -144094.68191435863,
          -111917.03513391674,
          -73238.28329883322,
          -27654.157549673488,
          25090.285891128606,
          85089.77476414699,
          152278.9218080265,
          226442.60191489986,
          307234.87681789894,
          394204.05849897815,
          486821.2023034242,
          584509.3806918637,
          686671.4376298945,
          792714.4620057142,
          902069.8401400729,
          1014208.358412294,
          1128650.3569195305,
          1244971.3417929257,
          1362803.7321146296,
          1481835.5537846594,
          1601806.9182121279,
          1722505.0667697974,
          1843758.6523045658,
          1965431.7934126994,
          2087418.2969887387,
          2209636.3147303495,
          2332023.5887702554,
          2454533.354303067,
          2577130.9031253895,
          2699790.7691264483,
          2822494.4713711324
         ],
         "yaxis": "y"
        },
        {
         "name": "EUA Mar25 75C",
         "type": "scatter",
         "x": [
          20,
          21,
          22,
          23,
          24,
          25,
          26,
          27,
          28,
          29,
          30,
          31,
          32,
          33,
          34,
          35,
          36,
          37,
          38,
          39,
          40,
          41,
          42,
          43,
          44,
          45,
          46,
          47,
          48,
          49,
          50,
          51,
          52,
          53,
          54,
          55,
          56,
          57,
          58,
          59,
          60,
          61,
          62,
          63,
          64,
          65,
          66,
          67,
          68,
          69,
          70,
          71,
          72,
          73,
          74,
          75,
          76,
          77,
          78,
          79,
          80,
          81,
          82,
          83,
          84,
          85,
          86,
          87,
          88,
          89,
          90,
          91,
          92,
          93,
          94,
          95,
          96,
          97,
          98,
          99,
          100
         ],
         "xaxis": "x2",
         "y": [
          2.417211671777568e-43,
          5.468620649540171e-40,
          6.601537529690426e-37,
          4.5497963539881894e-34,
          1.8972181071751585e-31,
          5.032419762583116e-29,
          8.86880833491986e-27,
          1.0786521582227425e-24,
          9.360625163340202e-23,
          5.9690078050906955e-21,
          2.8706368766218165e-19,
          1.0655756362451825e-17,
          3.1166653909955903e-16,
          7.316937325008369e-15,
          1.401910201841573e-13,
          2.2252005910961126e-12,
          2.9659109227128054e-11,
          3.3606172849798903e-10,
          3.2733949214987508e-09,
          2.7689308851977005e-08,
          2.0530218239279111e-07,
          1.3456591292661007e-06,
          7.85821733438235e-06,
          4.1178896479035515e-05,
          0.00019491975275563668,
          0.000838523607740618,
          0.003296867401111245,
          0.011909201147299778,
          0.03971583883363975,
          0.1228292291632966,
          0.3537683461784505,
          0.9526106846091267,
          2.407019596892372,
          5.726619051581396,
          12.869611614611262,
          27.402507616191325,
          55.43763600320162,
          106.84880801115261,
          196.68971429529515,
          346.6394334088482,
          586.1949919238426,
          953.2534992570677,
          1493.7107479995539,
          2259.776004231187,
          3306.8708257190196,
          4689.222910829515,
          6454.538059271041,
          8638.372500003594,
          11258.973207905294,
          14313.36300747961,
          17775.309118588077,
          21595.552126461913,
          25704.33950854437,
          30015.970744988605,
          34434.784184936354,
          38861.846456800835,
          43201.56430529033,
          47367.51969398398,
          51287.00288641685,
          54903.9432593915,
          58180.16987208913,
          61095.13617628755,
          63644.39101420673,
          65837.16078657717,
          67693.4277774008,
          69240.85873942936,
          70511.87250677412,
          71541.05296212289,
          72363.02927442061,
          73010.8700865757,
          73514.97890116721,
          73902.43678248531,
          74196.71496726444,
          74417.67129715314,
          74581.74681070086,
          74702.28848544699,
          74789.93756336645,
          74853.0374264939,
          74898.02873926867,
          74929.8114269322,
          74952.06251986157
         ],
         "yaxis": "y2"
        },
        {
         "name": "EUA Mar25 80C",
         "type": "scatter",
         "x": [
          20,
          21,
          22,
          23,
          24,
          25,
          26,
          27,
          28,
          29,
          30,
          31,
          32,
          33,
          34,
          35,
          36,
          37,
          38,
          39,
          40,
          41,
          42,
          43,
          44,
          45,
          46,
          47,
          48,
          49,
          50,
          51,
          52,
          53,
          54,
          55,
          56,
          57,
          58,
          59,
          60,
          61,
          62,
          63,
          64,
          65,
          66,
          67,
          68,
          69,
          70,
          71,
          72,
          73,
          74,
          75,
          76,
          77,
          78,
          79,
          80,
          81,
          82,
          83,
          84,
          85,
          86,
          87,
          88,
          89,
          90,
          91,
          92,
          93,
          94,
          95,
          96,
          97,
          98,
          99,
          100
         ],
         "xaxis": "x",
         "y": [
          -293042.3457475392,
          -293042.3457475392,
          -293042.3457475392,
          -293042.3457475392,
          -293042.3457475392,
          -293042.3457475392,
          -293042.3457475392,
          -293042.3457475392,
          -293042.3457475392,
          -293042.3457475392,
          -293042.3457475392,
          -293042.3457475392,
          -293042.3457475392,
          -293042.3457475392,
          -293042.3457475392,
          -293042.3457475392,
          -293042.3457475392,
          -293042.3457475392,
          -293042.3457475392,
          -293042.34574753913,
          -293042.3457475382,
          -293042.34574753034,
          -293042.3457474689,
          -293042.34574704245,
          -293042.3457443982,
          -293042.345729627,
          -293042.34565485676,
          -293042.3453099727,
          -293042.3438528275,
          -293042.33818631584,
          -293042.31781282293,
          -293042.24980263546,
          -293042.03818918276,
          -293041.42221052427,
          -293039.73902155104,
          -293035.40746034915,
          -293024.8777762135,
          -293000.6293933627,
          -292947.58828630025,
          -292837.1028894017,
          -292617.41839375393,
          -292199.51074745273,
          -291437.29019521485,
          -290101.65923843073,
          -287848.7656885929,
          -284183.99746929755,
          -278424.68074366543,
          -269665.8171161004,
          -256754.2091697058,
          -238276.65659530577,
          -212567.32373628148,
          -177737.81235013087,
          -131731.0550823198,
          -72397.20768991996,
          2413.2682054491643,
          94746.66387206923,
          206442.1746263433,
          339036.5277389525,
          493685.65518023755,
          671110.0690907969,
          871567.9260517678,
          1094856.765548667,
          1340342.0233971307,
          1607008.0299415898,
          1893525.5605088093,
          2198329.22036419,
          2519697.986993592,
          2855832.9579378306,
          3204927.5548101994,
          3565226.8837345685,
          3935074.4358537556,
          4312945.658461539,
          4697469.02385016,
          5087436.013113568,
          5481801.910109619,
          5879679.498225361,
          6280327.724169866,
          6683137.203004203,
          7087614.150207977,
          7493363.994697455,
          7900075.594133711
         ],
         "yaxis": "y"
        },
        {
         "name": "EUA Mar25 80C",
         "type": "scatter",
         "x": [
          20,
          21,
          22,
          23,
          24,
          25,
          26,
          27,
          28,
          29,
          30,
          31,
          32,
          33,
          34,
          35,
          36,
          37,
          38,
          39,
          40,
          41,
          42,
          43,
          44,
          45,
          46,
          47,
          48,
          49,
          50,
          51,
          52,
          53,
          54,
          55,
          56,
          57,
          58,
          59,
          60,
          61,
          62,
          63,
          64,
          65,
          66,
          67,
          68,
          69,
          70,
          71,
          72,
          73,
          74,
          75,
          76,
          77,
          78,
          79,
          80,
          81,
          82,
          83,
          84,
          85,
          86,
          87,
          88,
          89,
          90,
          91,
          92,
          93,
          94,
          95,
          96,
          97,
          98,
          99,
          100
         ],
         "xaxis": "x2",
         "y": [
          4.287633841383302e-49,
          1.8443270542698277e-45,
          4.0723760210747234e-42,
          4.957690996092277e-39,
          3.538039016963796e-36,
          1.5606201873917838e-33,
          4.455181488734391e-31,
          8.568839397626453e-29,
          1.1502462677917347e-26,
          1.111699539911242e-24,
          7.952138868209505e-23,
          4.314477061598141e-21,
          1.8147862654675076e-19,
          6.035196995314591e-18,
          1.6150277533066047e-16,
          3.5333931563854467e-15,
          6.411615612404951e-14,
          9.7760800947142e-13,
          1.2674411398510413e-11,
          1.412357921450488e-10,
          1.366150074674838e-09,
          1.1574704346821898e-08,
          8.661180600075372e-08,
          5.767769253581297e-07,
          3.4423066476812336e-06,
          1.8531673454301293e-05,
          9.053231846625126e-05,
          0.0004035759412118852,
          0.0016501154394737204,
          0.006217956790615945,
          0.02168995126997451,
          0.0703313923120671,
          0.21281507150497908,
          0.6031032142520312,
          1.6061668356324064,
          4.032566609093041,
          9.573319501687292,
          21.550378049128742,
          46.12210294661315,
          94.08291540654122,
          183.35206770918336,
          342.1411658018208,
          612.6184202910961,
          1054.664807274194,
          1749.0837035727186,
          2799.4430475749173,
          4331.668063380121,
          6490.621341988591,
          9433.229634382913,
          13318.217167343666,
          18293.105330209826,
          24479.721138102734,
          31959.89323378358,
          40763.196896486246,
          50858.48125922292,
          62150.4815335225,
          74482.16009995475,
          87642.65325778157,
          101379.96371788211,
          115416.95794169583,
          129468.88904493251,
          143260.60460161953,
          156541.79556443042,
          169099.0365722162,
          180763.87359731412,
          191416.7419261149,
          200986.96783662852,
          209449.46642856672,
          216818.96908450744,
          223142.69633841707,
          228492.3550362037,
          232956.21434874338,
          236631.8394427185,
          239619.86814873118,
          242019.03189589607,
          243922.46596766138,
          245415.23550280728,
          246572.92488084192,
          247461.09597008367,
          248135.40861741308,
          248642.20673776645
         ],
         "yaxis": "y2"
        },
        {
         "name": "EUA Mar25 85C",
         "type": "scatter",
         "x": [
          20,
          21,
          22,
          23,
          24,
          25,
          26,
          27,
          28,
          29,
          30,
          31,
          32,
          33,
          34,
          35,
          36,
          37,
          38,
          39,
          40,
          41,
          42,
          43,
          44,
          45,
          46,
          47,
          48,
          49,
          50,
          51,
          52,
          53,
          54,
          55,
          56,
          57,
          58,
          59,
          60,
          61,
          62,
          63,
          64,
          65,
          66,
          67,
          68,
          69,
          70,
          71,
          72,
          73,
          74,
          75,
          76,
          77,
          78,
          79,
          80,
          81,
          82,
          83,
          84,
          85,
          86,
          87,
          88,
          89,
          90,
          91,
          92,
          93,
          94,
          95,
          96,
          97,
          98,
          99,
          100
         ],
         "xaxis": "x",
         "y": [
          -120545.32695780632,
          -120545.32695780632,
          -120545.32695780632,
          -120545.32695780632,
          -120545.32695780632,
          -120545.32695780632,
          -120545.32695780632,
          -120545.32695780632,
          -120545.32695780632,
          -120545.32695780632,
          -120545.32695780632,
          -120545.32695780632,
          -120545.32695780632,
          -120545.32695780632,
          -120545.32695780632,
          -120545.32695780632,
          -120545.32695780632,
          -120545.32695780632,
          -120545.32695780632,
          -120545.32695780632,
          -120545.32695780632,
          -120545.3269578062,
          -120545.3269578052,
          -120545.32695779741,
          -120545.326957743,
          -120545.32695740077,
          -120545.32695545322,
          -120545.32694536487,
          -120545.32689755179,
          -120545.32668921414,
          -120545.32585084758,
          -120545.3227221351,
          -120545.31185130704,
          -120545.27655620179,
          -120545.1691053624,
          -120544.86139335544,
          -120544.02995718588,
          -120541.90428995146,
          -120536.74840423149,
          -120524.85390951899,
          -120498.69287183615,
          -120443.71284875128,
          -120333.07133934408,
          -120119.43839879642,
          -119722.90097069093,
          -119014.05246108281,
          -117791.61941697529,
          -115754.51696745859,
          -112469.04431295935,
          -107332.97412726206,
          -99539.42487054956,
          -88044.43912687828,
          -71542.89804462019,
          -48457.56941169643,
          -16945.56798911715,
          25074.736159902808,
          79875.19777894481,
          149848.88127689733,
          237424.04020531627,
          344966.69826158124,
          474678.97813300457,
          628501.0536172022,
          808024.4155768817,
          1014423.0825214533,
          1248407.6199937682,
          1510204.6199760772,
          1799561.935606481,
          2115777.7622982254,
          2457749.8461600184,
          2824039.845331945,
          3212947.2375624534,
          3622587.1383558842,
          4050966.8784429776,
          4496057.051921316,
          4955853.833036811,
          5428430.520797547,
          5911977.379436135,
          6404829.8051961195,
          6905485.608678545,
          7412612.734274165,
          7925049.0498193465
         ],
         "yaxis": "y"
        },
        {
         "name": "EUA Mar25 85C",
         "type": "scatter",
         "x": [
          20,
          21,
          22,
          23,
          24,
          25,
          26,
          27,
          28,
          29,
          30,
          31,
          32,
          33,
          34,
          35,
          36,
          37,
          38,
          39,
          40,
          41,
          42,
          43,
          44,
          45,
          46,
          47,
          48,
          49,
          50,
          51,
          52,
          53,
          54,
          55,
          56,
          57,
          58,
          59,
          60,
          61,
          62,
          63,
          64,
          65,
          66,
          67,
          68,
          69,
          70,
          71,
          72,
          73,
          74,
          75,
          76,
          77,
          78,
          79,
          80,
          81,
          82,
          83,
          84,
          85,
          86,
          87,
          88,
          89,
          90,
          91,
          92,
          93,
          94,
          95,
          96,
          97,
          98,
          99,
          100
         ],
         "xaxis": "x2",
         "y": [
          3.97047462052406e-52,
          1.954763224610869e-48,
          4.9457206904979116e-45,
          6.903866258135342e-42,
          5.6514498963256686e-39,
          2.8596170588166387e-36,
          9.36304763059627e-34,
          2.064714263078756e-31,
          3.1760841772566137e-29,
          3.515388090085525e-27,
          2.8775994423658853e-25,
          1.7851453283027634e-23,
          8.577838588588087e-22,
          3.255620991627178e-20,
          9.932879669239363e-19,
          2.475063657399967e-17,
          5.109688222481421e-16,
          8.85415267230282e-15,
          1.3031065872741901e-13,
          1.6465499347007574e-12,
          1.803888535964622e-11,
          1.729026937972384e-10,
          1.4619958727803148e-09,
          1.0988761413478597e-08,
          7.39359075128121e-08,
          4.4820595221460516e-07,
          2.462720567479578e-06,
          1.2333207809465918e-05,
          5.6584121556117256e-05,
          0.00023897195146503882,
          0.0009331800351116091,
          0.0033833834286265164,
          0.011433666199213505,
          0.03614430523104208,
          0.10724706592498677,
          0.29964085238721144,
          0.7906438854863762,
          1.9757930540447168,
          4.688428721420043,
          10.590516765349737,
          22.825942335898677,
          47.046096301827845,
          92.92049535246642,
          176.21965156353158,
          321.49164784572906,
          565.2419515123436,
          959.373049727971,
          1574.4663386936302,
          2502.327787699108,
          3857.115264840035,
          5774.362894053696,
          8407.347591488984,
          11920.511875612545,
          16480.040792293676,
          22242.134410676135,
          29339.94439622463,
          37870.471399244925,
          47882.87971609064,
          59369.63600024674,
          72261.61746463065,
          86427.89932340007,
          101680.3900582506,
          117782.92239144699,
          134463.91326965127,
          151431.3471709257,
          168388.65570460955,
          185050.0728205667,
          201154.21903946644,
          216474.96734168398,
          230829.01268830258,
          244079.94991044395,
          256139.01164444126,
          266962.89340507134,
          276549.2772658364,
          284930.7551284518,
          292167.8562237125,
          298341.81899015896,
          303547.6367670841,
          307887.77205330995,
          311466.7949958709,
          314387.0733964527
         ],
         "yaxis": "y2"
        },
        {
         "name": "EUA Mar25 90C",
         "type": "scatter",
         "x": [
          20,
          21,
          22,
          23,
          24,
          25,
          26,
          27,
          28,
          29,
          30,
          31,
          32,
          33,
          34,
          35,
          36,
          37,
          38,
          39,
          40,
          41,
          42,
          43,
          44,
          45,
          46,
          47,
          48,
          49,
          50,
          51,
          52,
          53,
          54,
          55,
          56,
          57,
          58,
          59,
          60,
          61,
          62,
          63,
          64,
          65,
          66,
          67,
          68,
          69,
          70,
          71,
          72,
          73,
          74,
          75,
          76,
          77,
          78,
          79,
          80,
          81,
          82,
          83,
          84,
          85,
          86,
          87,
          88,
          89,
          90,
          91,
          92,
          93,
          94,
          95,
          96,
          97,
          98,
          99,
          100
         ],
         "xaxis": "x",
         "y": [
          -42315.162703868795,
          -42315.162703868795,
          -42315.162703868795,
          -42315.162703868795,
          -42315.162703868795,
          -42315.162703868795,
          -42315.162703868795,
          -42315.162703868795,
          -42315.162703868795,
          -42315.162703868795,
          -42315.162703868795,
          -42315.162703868795,
          -42315.162703868795,
          -42315.162703868795,
          -42315.162703868795,
          -42315.162703868795,
          -42315.162703868795,
          -42315.162703868795,
          -42315.162703868795,
          -42315.162703868795,
          -42315.162703868795,
          -42315.162703868795,
          -42315.1627038687,
          -42315.16270386806,
          -42315.16270386349,
          -42315.16270383444,
          -42315.162703666276,
          -42315.162702777576,
          -42315.16269846545,
          -42315.16267916841,
          -42315.16259918207,
          -42315.162290864,
          -42315.161181540156,
          -42315.15744295649,
          -42315.14560267615,
          -42315.11025579202,
          -42315.01050389177,
          -42314.7436683808,
          -42314.06537009541,
          -42312.42292551285,
          -42308.62599386609,
          -42300.22808206718,
          -42282.421519660864,
          -42246.15666513517,
          -42175.08897933564,
          -42040.84905092582,
          -41796.04421031881,
          -41364.368419184095,
          -40627.25700839446,
          -39406.709560265495,
          -37444.24066956935,
          -34376.4048775742,
          -29707.94856187753,
          -22784.304210467188,
          -12765.768276721283,
          1393.817420654706,
          20960.837692686717,
          47425.204606162806,
          82490.76460651994,
          128051.26365157586,
          186151.49336323168,
          258934.585192759,
          348577.77641160565,
          457220.17205126164,
          586886.9183689549,
          739414.6741513384,
          916383.2609627595,
          1119057.899925675,
          1348345.5671218256,
          1604767.834309385,
          1888451.2454427232,
          2199134.95766259,
          2536194.179936005,
          2898676.9769453304,
          3285351.336247432,
          3694759.049021258,
          4125272.917544996,
          4575154.034597996,
          5042606.31977964,
          5525826.074013727,
          6023044.954768785
         ],
         "yaxis": "y"
        },
        {
         "name": "EUA Mar25 90C",
         "type": "scatter",
         "x": [
          20,
          21,
          22,
          23,
          24,
          25,
          26,
          27,
          28,
          29,
          30,
          31,
          32,
          33,
          34,
          35,
          36,
          37,
          38,
          39,
          40,
          41,
          42,
          43,
          44,
          45,
          46,
          47,
          48,
          49,
          50,
          51,
          52,
          53,
          54,
          55,
          56,
          57,
          58,
          59,
          60,
          61,
          62,
          63,
          64,
          65,
          66,
          67,
          68,
          69,
          70,
          71,
          72,
          73,
          74,
          75,
          76,
          77,
          78,
          79,
          80,
          81,
          82,
          83,
          84,
          85,
          86,
          87,
          88,
          89,
          90,
          91,
          92,
          93,
          94,
          95,
          96,
          97,
          98,
          99,
          100
         ],
         "xaxis": "x2",
         "y": [
          3.3093339865139972e-52,
          1.2062679328872469e-48,
          2.336737453746586e-45,
          2.57284029007615e-42,
          1.7057060240210583e-39,
          7.157058751780366e-37,
          1.984841288921835e-34,
          3.778585189142916e-32,
          5.105009851035777e-30,
          5.040595975234672e-28,
          3.733270018572878e-26,
          2.122651476472578e-24,
          9.458782258404965e-23,
          3.3652182150890554e-21,
          9.719768958539208e-20,
          2.313648752558873e-18,
          4.600967691857235e-17,
          7.738809548280385e-16,
          1.1133976371862797e-14,
          1.3842843598333282e-13,
          1.5012883575781576e-12,
          1.4324847077606006e-11,
          1.2120499532258242e-10,
          9.160073692488326e-10,
          6.224749652667204e-09,
          3.827043329490257e-08,
          2.140900599238174e-07,
          1.0954997351057854e-06,
          5.152719535169394e-06,
          2.2379211273506448e-05,
          9.01313440638871e-05,
          0.0003379431151068104,
          0.0011839893294814383,
          0.0038894093106248352,
          0.012018509593036573,
          0.03503967974676139,
          0.09665909782644842,
          0.2529615479265223,
          0.6296263074808254,
          1.4940044011295175,
          3.3870928641164646,
          7.3522456560946825,
          15.310592517314424,
          30.64489378855718,
          59.0595964566617,
          109.7795234093384,
          197.12697842716727,
          342.47252182885467,
          576.4871540779267,
          941.537382689701,
          1493.970290951135,
          2305.9498733430232,
          3466.448815398613,
          5080.991576566207,
          7269.7999977427335,
          10164.116968233184,
          13900.669556251407,
          18614.459918266457,
          24430.309131695514,
          31453.78924575352,
          39762.32696082757,
          49397.321122635105,
          60358.07177862328,
          72598.17321564326,
          86024.79532105116,
          100500.99739021427,
          115850.92372048668,
          131867.45912148582,
          148321.70749177577,
          164973.5204699175,
          181582.25597901494,
          197916.98573178434,
          213765.48316815248,
          228941.48808258687,
          243289.93699041376,
          256690.04490957924,
          269056.30384133063,
          280337.61036180233,
          290514.84026357083,
          299597.2492197126,
          307618.0974152621
         ],
         "yaxis": "y2"
        },
        {
         "mode": "lines",
         "name": "Total_PnL",
         "type": "scatter",
         "x": [
          20,
          21,
          22,
          23,
          24,
          25,
          26,
          27,
          28,
          29,
          30,
          31,
          32,
          33,
          34,
          35,
          36,
          37,
          38,
          39,
          40,
          41,
          42,
          43,
          44,
          45,
          46,
          47,
          48,
          49,
          50,
          51,
          52,
          53,
          54,
          55,
          56,
          57,
          58,
          59,
          60,
          61,
          62,
          63,
          64,
          65,
          66,
          67,
          68,
          69,
          70,
          71,
          72,
          73,
          74,
          75,
          76,
          77,
          78,
          79,
          80,
          81,
          82,
          83,
          84,
          85,
          86,
          87,
          88,
          89,
          90,
          91,
          92,
          93,
          94,
          95,
          96,
          97,
          98,
          99,
          100
         ],
         "xaxis": "x",
         "y": [
          -703588.5084591393,
          -703588.5084591393,
          -703588.5084591393,
          -703588.5084591393,
          -703588.5084591393,
          -703588.5084591393,
          -703588.5084591393,
          -703588.5084591393,
          -703588.5084591393,
          -703588.5084591393,
          -703588.5084591393,
          -703588.5084591393,
          -703588.5084591393,
          -703588.5084591393,
          -703588.5084591393,
          -703588.5084591393,
          -703588.5084591393,
          -703588.508459139,
          -703588.5084591369,
          -703588.508459118,
          -703588.5084589707,
          -703588.5084579618,
          -703588.5084518121,
          -703588.5084182117,
          -703588.5082525387,
          -703588.5075107287,
          -703588.5044768694,
          -703588.4930819067,
          -703588.4535779348,
          -703588.3265696099,
          -703587.9461954384,
          -703586.880622118,
          -703584.0774642427,
          -703577.1271702506,
          -703560.8282705551,
          -703524.5592363501,
          -703447.7382684284,
          -703292.4073118063,
          -702991.7527977995,
          -702433.2341462487,
          -701435.0031183155,
          -699714.5301740455,
          -696848.8549568406,
          -692226.6572309087,
          -684993.3647128041,
          -673991.6871243356,
          -657701.1586871828,
          -634181.3220036991,
          -601023.9255852837,
          -555319.785210161,
          -493645.67119075905,
          -412075.6914885001,
          -306220.1849876507,
          -171293.23886175707,
          -2207.782169260663,
          206304.99221677374,
          459557.1319060013,
          762753.2155369124,
          1120835.3368099728,
          1538332.089502932,
          2019219.5998514283,
          2566801.785050492,
          3183615.6530155125,
          3871365.7465200187,
          4630889.939011605,
          5462156.8729039,
          6364293.540482364,
          7335639.961954657,
          8373826.700206673,
          9475870.117160557,
          10638279.837071061,
          11857172.821249811,
          13128388.734533707,
          14447601.835392915,
          15810425.3763826,
          17212505.382774517,
          18649601.60992125,
          20117654.397101384,
          21612836.98179155,
          23131593.572111793,
          24670664.070092976
         ],
         "yaxis": "y"
        },
        {
         "mode": "lines",
         "name": "Total_Delta",
         "type": "scatter",
         "x": [
          20,
          21,
          22,
          23,
          24,
          25,
          26,
          27,
          28,
          29,
          30,
          31,
          32,
          33,
          34,
          35,
          36,
          37,
          38,
          39,
          40,
          41,
          42,
          43,
          44,
          45,
          46,
          47,
          48,
          49,
          50,
          51,
          52,
          53,
          54,
          55,
          56,
          57,
          58,
          59,
          60,
          61,
          62,
          63,
          64,
          65,
          66,
          67,
          68,
          69,
          70,
          71,
          72,
          73,
          74,
          75,
          76,
          77,
          78,
          79,
          80,
          81,
          82,
          83,
          84,
          85,
          86,
          87,
          88,
          89,
          90,
          91,
          92,
          93,
          94,
          95,
          96,
          97,
          98,
          99,
          100
         ],
         "xaxis": "x2",
         "y": [
          2.417215966691218e-43,
          5.468639124421025e-40,
          6.601578326275218e-37,
          4.5498460256652155e-34,
          1.8972535611368873e-31,
          5.0325761821341485e-29,
          8.869254987857627e-27,
          1.0787380908739969e-24,
          9.361779096193155e-23,
          5.970123524078294e-21,
          2.8714353414350817e-19,
          1.0660090813618183e-17,
          3.118489700977872e-16,
          7.323008443431815e-15,
          1.4035361344514444e-13,
          2.2287610485378247e-12,
          2.972378236175127e-11,
          3.370489645410876e-10,
          3.2862107775323603e-09,
          2.7832329622492738e-08,
          2.066878726411832e-07,
          1.3574210611537974e-06,
          7.946412341251206e-06,
          4.176757817317637e-05,
          0.0001984422200604834,
          0.0008575417575804289,
          0.0033900765302048996,
          0.012326205796056235,
          0.04142769111420476,
          0.1293085371166511,
          0.3764816088276005,
          1.0266634034649271,
          2.6324523239260462,
          6.3697559803750945,
          14.595044025761693,
          31.76975475741834,
          65.89825848820173,
          130.6279406622526,
          248.1298722708092,
          452.80686998186866,
          795.7600948330412,
          1349.793007016811,
          2214.560256160431,
          3521.3053568574696,
          5436.505773594129,
          8163.687433326114,
          11942.7061508063,
          17045.93270251467,
          23771.017784065243,
          32430.232822353013,
          43336.74763380273,
          56788.570729396655,
          73051.19343333911,
          92340.20001033472,
          114805.19985257815,
          140516.38935478116,
          169454.86536074142,
          201507.5125861226,
          236466.91173624122,
          274036.30791147146,
          313839.2852012493,
          355433.4519587928,
          398327.18074870744,
          441998.28384408785,
          485913.4438666918,
          529547.2537603681,
          572399.836884456,
          614012.1975516418,
          653978.6731923878,
          691956.0995832128,
          727669.5398268298,
          760914.6485074543,
          791556.9309832068,
          819528.3047943077,
          844821.4708254626,
          867482.6555864001,
          887603.2958976633,
          905311.2094362222,
          920761.7370262332,
          934129.2642599288,
          945599.4400693427
         ],
         "yaxis": "y2"
        }
       ],
       "layout": {
        "barmode": "stack",
        "template": {
         "data": {
          "bar": [
           {
            "error_x": {
             "color": "#2a3f5f"
            },
            "error_y": {
             "color": "#2a3f5f"
            },
            "marker": {
             "line": {
              "color": "#E5ECF6",
              "width": 0.5
             },
             "pattern": {
              "fillmode": "overlay",
              "size": 10,
              "solidity": 0.2
             }
            },
            "type": "bar"
           }
          ],
          "barpolar": [
           {
            "marker": {
             "line": {
              "color": "#E5ECF6",
              "width": 0.5
             },
             "pattern": {
              "fillmode": "overlay",
              "size": 10,
              "solidity": 0.2
             }
            },
            "type": "barpolar"
           }
          ],
          "carpet": [
           {
            "aaxis": {
             "endlinecolor": "#2a3f5f",
             "gridcolor": "white",
             "linecolor": "white",
             "minorgridcolor": "white",
             "startlinecolor": "#2a3f5f"
            },
            "baxis": {
             "endlinecolor": "#2a3f5f",
             "gridcolor": "white",
             "linecolor": "white",
             "minorgridcolor": "white",
             "startlinecolor": "#2a3f5f"
            },
            "type": "carpet"
           }
          ],
          "choropleth": [
           {
            "colorbar": {
             "outlinewidth": 0,
             "ticks": ""
            },
            "type": "choropleth"
           }
          ],
          "contour": [
           {
            "colorbar": {
             "outlinewidth": 0,
             "ticks": ""
            },
            "colorscale": [
             [
              0,
              "#0d0887"
             ],
             [
              0.1111111111111111,
              "#46039f"
             ],
             [
              0.2222222222222222,
              "#7201a8"
             ],
             [
              0.3333333333333333,
              "#9c179e"
             ],
             [
              0.4444444444444444,
              "#bd3786"
             ],
             [
              0.5555555555555556,
              "#d8576b"
             ],
             [
              0.6666666666666666,
              "#ed7953"
             ],
             [
              0.7777777777777778,
              "#fb9f3a"
             ],
             [
              0.8888888888888888,
              "#fdca26"
             ],
             [
              1,
              "#f0f921"
             ]
            ],
            "type": "contour"
           }
          ],
          "contourcarpet": [
           {
            "colorbar": {
             "outlinewidth": 0,
             "ticks": ""
            },
            "type": "contourcarpet"
           }
          ],
          "heatmap": [
           {
            "colorbar": {
             "outlinewidth": 0,
             "ticks": ""
            },
            "colorscale": [
             [
              0,
              "#0d0887"
             ],
             [
              0.1111111111111111,
              "#46039f"
             ],
             [
              0.2222222222222222,
              "#7201a8"
             ],
             [
              0.3333333333333333,
              "#9c179e"
             ],
             [
              0.4444444444444444,
              "#bd3786"
             ],
             [
              0.5555555555555556,
              "#d8576b"
             ],
             [
              0.6666666666666666,
              "#ed7953"
             ],
             [
              0.7777777777777778,
              "#fb9f3a"
             ],
             [
              0.8888888888888888,
              "#fdca26"
             ],
             [
              1,
              "#f0f921"
             ]
            ],
            "type": "heatmap"
           }
          ],
          "heatmapgl": [
           {
            "colorbar": {
             "outlinewidth": 0,
             "ticks": ""
            },
            "colorscale": [
             [
              0,
              "#0d0887"
             ],
             [
              0.1111111111111111,
              "#46039f"
             ],
             [
              0.2222222222222222,
              "#7201a8"
             ],
             [
              0.3333333333333333,
              "#9c179e"
             ],
             [
              0.4444444444444444,
              "#bd3786"
             ],
             [
              0.5555555555555556,
              "#d8576b"
             ],
             [
              0.6666666666666666,
              "#ed7953"
             ],
             [
              0.7777777777777778,
              "#fb9f3a"
             ],
             [
              0.8888888888888888,
              "#fdca26"
             ],
             [
              1,
              "#f0f921"
             ]
            ],
            "type": "heatmapgl"
           }
          ],
          "histogram": [
           {
            "marker": {
             "pattern": {
              "fillmode": "overlay",
              "size": 10,
              "solidity": 0.2
             }
            },
            "type": "histogram"
           }
          ],
          "histogram2d": [
           {
            "colorbar": {
             "outlinewidth": 0,
             "ticks": ""
            },
            "colorscale": [
             [
              0,
              "#0d0887"
             ],
             [
              0.1111111111111111,
              "#46039f"
             ],
             [
              0.2222222222222222,
              "#7201a8"
             ],
             [
              0.3333333333333333,
              "#9c179e"
             ],
             [
              0.4444444444444444,
              "#bd3786"
             ],
             [
              0.5555555555555556,
              "#d8576b"
             ],
             [
              0.6666666666666666,
              "#ed7953"
             ],
             [
              0.7777777777777778,
              "#fb9f3a"
             ],
             [
              0.8888888888888888,
              "#fdca26"
             ],
             [
              1,
              "#f0f921"
             ]
            ],
            "type": "histogram2d"
           }
          ],
          "histogram2dcontour": [
           {
            "colorbar": {
             "outlinewidth": 0,
             "ticks": ""
            },
            "colorscale": [
             [
              0,
              "#0d0887"
             ],
             [
              0.1111111111111111,
              "#46039f"
             ],
             [
              0.2222222222222222,
              "#7201a8"
             ],
             [
              0.3333333333333333,
              "#9c179e"
             ],
             [
              0.4444444444444444,
              "#bd3786"
             ],
             [
              0.5555555555555556,
              "#d8576b"
             ],
             [
              0.6666666666666666,
              "#ed7953"
             ],
             [
              0.7777777777777778,
              "#fb9f3a"
             ],
             [
              0.8888888888888888,
              "#fdca26"
             ],
             [
              1,
              "#f0f921"
             ]
            ],
            "type": "histogram2dcontour"
           }
          ],
          "mesh3d": [
           {
            "colorbar": {
             "outlinewidth": 0,
             "ticks": ""
            },
            "type": "mesh3d"
           }
          ],
          "parcoords": [
           {
            "line": {
             "colorbar": {
              "outlinewidth": 0,
              "ticks": ""
             }
            },
            "type": "parcoords"
           }
          ],
          "pie": [
           {
            "automargin": true,
            "type": "pie"
           }
          ],
          "scatter": [
           {
            "fillpattern": {
             "fillmode": "overlay",
             "size": 10,
             "solidity": 0.2
            },
            "type": "scatter"
           }
          ],
          "scatter3d": [
           {
            "line": {
             "colorbar": {
              "outlinewidth": 0,
              "ticks": ""
             }
            },
            "marker": {
             "colorbar": {
              "outlinewidth": 0,
              "ticks": ""
             }
            },
            "type": "scatter3d"
           }
          ],
          "scattercarpet": [
           {
            "marker": {
             "colorbar": {
              "outlinewidth": 0,
              "ticks": ""
             }
            },
            "type": "scattercarpet"
           }
          ],
          "scattergeo": [
           {
            "marker": {
             "colorbar": {
              "outlinewidth": 0,
              "ticks": ""
             }
            },
            "type": "scattergeo"
           }
          ],
          "scattergl": [
           {
            "marker": {
             "colorbar": {
              "outlinewidth": 0,
              "ticks": ""
             }
            },
            "type": "scattergl"
           }
          ],
          "scattermapbox": [
           {
            "marker": {
             "colorbar": {
              "outlinewidth": 0,
              "ticks": ""
             }
            },
            "type": "scattermapbox"
           }
          ],
          "scatterpolar": [
           {
            "marker": {
             "colorbar": {
              "outlinewidth": 0,
              "ticks": ""
             }
            },
            "type": "scatterpolar"
           }
          ],
          "scatterpolargl": [
           {
            "marker": {
             "colorbar": {
              "outlinewidth": 0,
              "ticks": ""
             }
            },
            "type": "scatterpolargl"
           }
          ],
          "scatterternary": [
           {
            "marker": {
             "colorbar": {
              "outlinewidth": 0,
              "ticks": ""
             }
            },
            "type": "scatterternary"
           }
          ],
          "surface": [
           {
            "colorbar": {
             "outlinewidth": 0,
             "ticks": ""
            },
            "colorscale": [
             [
              0,
              "#0d0887"
             ],
             [
              0.1111111111111111,
              "#46039f"
             ],
             [
              0.2222222222222222,
              "#7201a8"
             ],
             [
              0.3333333333333333,
              "#9c179e"
             ],
             [
              0.4444444444444444,
              "#bd3786"
             ],
             [
              0.5555555555555556,
              "#d8576b"
             ],
             [
              0.6666666666666666,
              "#ed7953"
             ],
             [
              0.7777777777777778,
              "#fb9f3a"
             ],
             [
              0.8888888888888888,
              "#fdca26"
             ],
             [
              1,
              "#f0f921"
             ]
            ],
            "type": "surface"
           }
          ],
          "table": [
           {
            "cells": {
             "fill": {
              "color": "#EBF0F8"
             },
             "line": {
              "color": "white"
             }
            },
            "header": {
             "fill": {
              "color": "#C8D4E3"
             },
             "line": {
              "color": "white"
             }
            },
            "type": "table"
           }
          ]
         },
         "layout": {
          "annotationdefaults": {
           "arrowcolor": "#2a3f5f",
           "arrowhead": 0,
           "arrowwidth": 1
          },
          "autotypenumbers": "strict",
          "coloraxis": {
           "colorbar": {
            "outlinewidth": 0,
            "ticks": ""
           }
          },
          "colorscale": {
           "diverging": [
            [
             0,
             "#8e0152"
            ],
            [
             0.1,
             "#c51b7d"
            ],
            [
             0.2,
             "#de77ae"
            ],
            [
             0.3,
             "#f1b6da"
            ],
            [
             0.4,
             "#fde0ef"
            ],
            [
             0.5,
             "#f7f7f7"
            ],
            [
             0.6,
             "#e6f5d0"
            ],
            [
             0.7,
             "#b8e186"
            ],
            [
             0.8,
             "#7fbc41"
            ],
            [
             0.9,
             "#4d9221"
            ],
            [
             1,
             "#276419"
            ]
           ],
           "sequential": [
            [
             0,
             "#0d0887"
            ],
            [
             0.1111111111111111,
             "#46039f"
            ],
            [
             0.2222222222222222,
             "#7201a8"
            ],
            [
             0.3333333333333333,
             "#9c179e"
            ],
            [
             0.4444444444444444,
             "#bd3786"
            ],
            [
             0.5555555555555556,
             "#d8576b"
            ],
            [
             0.6666666666666666,
             "#ed7953"
            ],
            [
             0.7777777777777778,
             "#fb9f3a"
            ],
            [
             0.8888888888888888,
             "#fdca26"
            ],
            [
             1,
             "#f0f921"
            ]
           ],
           "sequentialminus": [
            [
             0,
             "#0d0887"
            ],
            [
             0.1111111111111111,
             "#46039f"
            ],
            [
             0.2222222222222222,
             "#7201a8"
            ],
            [
             0.3333333333333333,
             "#9c179e"
            ],
            [
             0.4444444444444444,
             "#bd3786"
            ],
            [
             0.5555555555555556,
             "#d8576b"
            ],
            [
             0.6666666666666666,
             "#ed7953"
            ],
            [
             0.7777777777777778,
             "#fb9f3a"
            ],
            [
             0.8888888888888888,
             "#fdca26"
            ],
            [
             1,
             "#f0f921"
            ]
           ]
          },
          "colorway": [
           "#636efa",
           "#EF553B",
           "#00cc96",
           "#ab63fa",
           "#FFA15A",
           "#19d3f3",
           "#FF6692",
           "#B6E880",
           "#FF97FF",
           "#FECB52"
          ],
          "font": {
           "color": "#2a3f5f"
          },
          "geo": {
           "bgcolor": "white",
           "lakecolor": "white",
           "landcolor": "#E5ECF6",
           "showlakes": true,
           "showland": true,
           "subunitcolor": "white"
          },
          "hoverlabel": {
           "align": "left"
          },
          "hovermode": "closest",
          "mapbox": {
           "style": "light"
          },
          "paper_bgcolor": "white",
          "plot_bgcolor": "#E5ECF6",
          "polar": {
           "angularaxis": {
            "gridcolor": "white",
            "linecolor": "white",
            "ticks": ""
           },
           "bgcolor": "#E5ECF6",
           "radialaxis": {
            "gridcolor": "white",
            "linecolor": "white",
            "ticks": ""
           }
          },
          "scene": {
           "xaxis": {
            "backgroundcolor": "#E5ECF6",
            "gridcolor": "white",
            "gridwidth": 2,
            "linecolor": "white",
            "showbackground": true,
            "ticks": "",
            "zerolinecolor": "white"
           },
           "yaxis": {
            "backgroundcolor": "#E5ECF6",
            "gridcolor": "white",
            "gridwidth": 2,
            "linecolor": "white",
            "showbackground": true,
            "ticks": "",
            "zerolinecolor": "white"
           },
           "zaxis": {
            "backgroundcolor": "#E5ECF6",
            "gridcolor": "white",
            "gridwidth": 2,
            "linecolor": "white",
            "showbackground": true,
            "ticks": "",
            "zerolinecolor": "white"
           }
          },
          "shapedefaults": {
           "line": {
            "color": "#2a3f5f"
           }
          },
          "ternary": {
           "aaxis": {
            "gridcolor": "white",
            "linecolor": "white",
            "ticks": ""
           },
           "baxis": {
            "gridcolor": "white",
            "linecolor": "white",
            "ticks": ""
           },
           "bgcolor": "#E5ECF6",
           "caxis": {
            "gridcolor": "white",
            "linecolor": "white",
            "ticks": ""
           }
          },
          "title": {
           "x": 0.05
          },
          "xaxis": {
           "automargin": true,
           "gridcolor": "white",
           "linecolor": "white",
           "ticks": "",
           "title": {
            "standoff": 15
           },
           "zerolinecolor": "white",
           "zerolinewidth": 2
          },
          "yaxis": {
           "automargin": true,
           "gridcolor": "white",
           "linecolor": "white",
           "ticks": "",
           "title": {
            "standoff": 15
           },
           "zerolinecolor": "white",
           "zerolinewidth": 2
          }
         }
        },
        "title": {
         "text": "Todays Option Pos (PnL and Delta)",
         "x": 0.5,
         "xanchor": "center"
        },
        "xaxis": {
         "anchor": "y",
         "domain": [
          0,
          0.45
         ],
         "title": {
          "text": "Price"
         }
        },
        "xaxis2": {
         "anchor": "y2",
         "domain": [
          0.55,
          1
         ],
         "title": {
          "text": "Price"
         }
        },
        "yaxis": {
         "anchor": "x",
         "domain": [
          0,
          1
         ],
         "title": {
          "text": "Pnl"
         }
        },
        "yaxis2": {
         "anchor": "x2",
         "domain": [
          0,
          1
         ],
         "title": {
          "text": "Delta"
         }
        }
       }
      },
      "text/html": [
       "<div>                            <div id=\"39acd891-de91-4beb-87f4-cc62fe120e74\" class=\"plotly-graph-div\" style=\"height:525px; width:100%;\"></div>            <script type=\"text/javascript\">                require([\"plotly\"], function(Plotly) {                    window.PLOTLYENV=window.PLOTLYENV || {};                                    if (document.getElementById(\"39acd891-de91-4beb-87f4-cc62fe120e74\")) {                    Plotly.newPlot(                        \"39acd891-de91-4beb-87f4-cc62fe120e74\",                        [{\"name\":\"EUA Mar25 75C\",\"x\":[20,21,22,23,24,25,26,27,28,29,30,31,32,33,34,35,36,37,38,39,40,41,42,43,44,45,46,47,48,49,50,51,52,53,54,55,56,57,58,59,60,61,62,63,64,65,66,67,68,69,70,71,72,73,74,75,76,77,78,79,80,81,82,83,84,85,86,87,88,89,90,91,92,93,94,95,96,97,98,99,100],\"y\":[-247685.6730499249,-247685.6730499249,-247685.6730499249,-247685.6730499249,-247685.6730499249,-247685.6730499249,-247685.6730499249,-247685.6730499249,-247685.6730499249,-247685.6730499249,-247685.6730499249,-247685.6730499249,-247685.6730499249,-247685.6730499249,-247685.6730499249,-247685.6730499249,-247685.6730499249,-247685.67304992466,-247685.67304992257,-247685.67304990368,-247685.67304975732,-247685.67304875643,-247685.67304266934,-247685.67300950372,-247685.67284653403,-247685.6721198664,-247685.66916289306,-247685.6581237916,-247685.62012909006,-247685.4990149116,-247685.13993258573,-247684.14580648337,-247681.56624221275,-247675.27096056816,-247660.77454096547,-247629.18012685352,-247563.82003113726,-247435.12996011143,-247193.35073717232,-246758.85442181496,-246010.26585885923,-244771.07849577433,-242796.07190262093,-239759.40292854642,-235246.6090741846,-228752.7881430294,-219688.8143162233,-207396.61950095606,-191173.41509422404,-170303.44492732768,-144094.68191435863,-111917.03513391674,-73238.28329883322,-27654.157549673488,25090.285891128606,85089.77476414699,152278.9218080265,226442.60191489986,307234.87681789894,394204.05849897815,486821.2023034242,584509.3806918637,686671.4376298945,792714.4620057142,902069.8401400729,1014208.358412294,1128650.3569195305,1244971.3417929257,1362803.7321146296,1481835.5537846594,1601806.9182121279,1722505.0667697974,1843758.6523045658,1965431.7934126994,2087418.2969887387,2209636.3147303495,2332023.5887702554,2454533.354303067,2577130.9031253895,2699790.7691264483,2822494.4713711324],\"type\":\"scatter\",\"xaxis\":\"x\",\"yaxis\":\"y\"},{\"name\":\"EUA Mar25 75C\",\"x\":[20,21,22,23,24,25,26,27,28,29,30,31,32,33,34,35,36,37,38,39,40,41,42,43,44,45,46,47,48,49,50,51,52,53,54,55,56,57,58,59,60,61,62,63,64,65,66,67,68,69,70,71,72,73,74,75,76,77,78,79,80,81,82,83,84,85,86,87,88,89,90,91,92,93,94,95,96,97,98,99,100],\"y\":[2.417211671777568e-43,5.468620649540171e-40,6.601537529690426e-37,4.5497963539881894e-34,1.8972181071751585e-31,5.032419762583116e-29,8.86880833491986e-27,1.0786521582227425e-24,9.360625163340202e-23,5.9690078050906955e-21,2.8706368766218165e-19,1.0655756362451825e-17,3.1166653909955903e-16,7.316937325008369e-15,1.401910201841573e-13,2.2252005910961126e-12,2.9659109227128054e-11,3.3606172849798903e-10,3.2733949214987508e-09,2.7689308851977005e-08,2.0530218239279111e-07,1.3456591292661007e-06,7.85821733438235e-06,4.1178896479035515e-05,0.00019491975275563668,0.000838523607740618,0.003296867401111245,0.011909201147299778,0.03971583883363975,0.1228292291632966,0.3537683461784505,0.9526106846091267,2.407019596892372,5.726619051581396,12.869611614611262,27.402507616191325,55.43763600320162,106.84880801115261,196.68971429529515,346.6394334088482,586.1949919238426,953.2534992570677,1493.7107479995539,2259.776004231187,3306.8708257190196,4689.222910829515,6454.538059271041,8638.372500003594,11258.973207905294,14313.36300747961,17775.309118588077,21595.552126461913,25704.33950854437,30015.970744988605,34434.784184936354,38861.846456800835,43201.56430529033,47367.51969398398,51287.00288641685,54903.9432593915,58180.16987208913,61095.13617628755,63644.39101420673,65837.16078657717,67693.4277774008,69240.85873942936,70511.87250677412,71541.05296212289,72363.02927442061,73010.8700865757,73514.97890116721,73902.43678248531,74196.71496726444,74417.67129715314,74581.74681070086,74702.28848544699,74789.93756336645,74853.0374264939,74898.02873926867,74929.8114269322,74952.06251986157],\"type\":\"scatter\",\"xaxis\":\"x2\",\"yaxis\":\"y2\"},{\"name\":\"EUA Mar25 80C\",\"x\":[20,21,22,23,24,25,26,27,28,29,30,31,32,33,34,35,36,37,38,39,40,41,42,43,44,45,46,47,48,49,50,51,52,53,54,55,56,57,58,59,60,61,62,63,64,65,66,67,68,69,70,71,72,73,74,75,76,77,78,79,80,81,82,83,84,85,86,87,88,89,90,91,92,93,94,95,96,97,98,99,100],\"y\":[-293042.3457475392,-293042.3457475392,-293042.3457475392,-293042.3457475392,-293042.3457475392,-293042.3457475392,-293042.3457475392,-293042.3457475392,-293042.3457475392,-293042.3457475392,-293042.3457475392,-293042.3457475392,-293042.3457475392,-293042.3457475392,-293042.3457475392,-293042.3457475392,-293042.3457475392,-293042.3457475392,-293042.3457475392,-293042.34574753913,-293042.3457475382,-293042.34574753034,-293042.3457474689,-293042.34574704245,-293042.3457443982,-293042.345729627,-293042.34565485676,-293042.3453099727,-293042.3438528275,-293042.33818631584,-293042.31781282293,-293042.24980263546,-293042.03818918276,-293041.42221052427,-293039.73902155104,-293035.40746034915,-293024.8777762135,-293000.6293933627,-292947.58828630025,-292837.1028894017,-292617.41839375393,-292199.51074745273,-291437.29019521485,-290101.65923843073,-287848.7656885929,-284183.99746929755,-278424.68074366543,-269665.8171161004,-256754.2091697058,-238276.65659530577,-212567.32373628148,-177737.81235013087,-131731.0550823198,-72397.20768991996,2413.2682054491643,94746.66387206923,206442.1746263433,339036.5277389525,493685.65518023755,671110.0690907969,871567.9260517678,1094856.765548667,1340342.0233971307,1607008.0299415898,1893525.5605088093,2198329.22036419,2519697.986993592,2855832.9579378306,3204927.5548101994,3565226.8837345685,3935074.4358537556,4312945.658461539,4697469.02385016,5087436.013113568,5481801.910109619,5879679.498225361,6280327.724169866,6683137.203004203,7087614.150207977,7493363.994697455,7900075.594133711],\"type\":\"scatter\",\"xaxis\":\"x\",\"yaxis\":\"y\"},{\"name\":\"EUA Mar25 80C\",\"x\":[20,21,22,23,24,25,26,27,28,29,30,31,32,33,34,35,36,37,38,39,40,41,42,43,44,45,46,47,48,49,50,51,52,53,54,55,56,57,58,59,60,61,62,63,64,65,66,67,68,69,70,71,72,73,74,75,76,77,78,79,80,81,82,83,84,85,86,87,88,89,90,91,92,93,94,95,96,97,98,99,100],\"y\":[4.287633841383302e-49,1.8443270542698277e-45,4.0723760210747234e-42,4.957690996092277e-39,3.538039016963796e-36,1.5606201873917838e-33,4.455181488734391e-31,8.568839397626453e-29,1.1502462677917347e-26,1.111699539911242e-24,7.952138868209505e-23,4.314477061598141e-21,1.8147862654675076e-19,6.035196995314591e-18,1.6150277533066047e-16,3.5333931563854467e-15,6.411615612404951e-14,9.7760800947142e-13,1.2674411398510413e-11,1.412357921450488e-10,1.366150074674838e-09,1.1574704346821898e-08,8.661180600075372e-08,5.767769253581297e-07,3.4423066476812336e-06,1.8531673454301293e-05,9.053231846625126e-05,0.0004035759412118852,0.0016501154394737204,0.006217956790615945,0.02168995126997451,0.0703313923120671,0.21281507150497908,0.6031032142520312,1.6061668356324064,4.032566609093041,9.573319501687292,21.550378049128742,46.12210294661315,94.08291540654122,183.35206770918336,342.1411658018208,612.6184202910961,1054.664807274194,1749.0837035727186,2799.4430475749173,4331.668063380121,6490.621341988591,9433.229634382913,13318.217167343666,18293.105330209826,24479.721138102734,31959.89323378358,40763.196896486246,50858.48125922292,62150.4815335225,74482.16009995475,87642.65325778157,101379.96371788211,115416.95794169583,129468.88904493251,143260.60460161953,156541.79556443042,169099.0365722162,180763.87359731412,191416.7419261149,200986.96783662852,209449.46642856672,216818.96908450744,223142.69633841707,228492.3550362037,232956.21434874338,236631.8394427185,239619.86814873118,242019.03189589607,243922.46596766138,245415.23550280728,246572.92488084192,247461.09597008367,248135.40861741308,248642.20673776645],\"type\":\"scatter\",\"xaxis\":\"x2\",\"yaxis\":\"y2\"},{\"name\":\"EUA Mar25 85C\",\"x\":[20,21,22,23,24,25,26,27,28,29,30,31,32,33,34,35,36,37,38,39,40,41,42,43,44,45,46,47,48,49,50,51,52,53,54,55,56,57,58,59,60,61,62,63,64,65,66,67,68,69,70,71,72,73,74,75,76,77,78,79,80,81,82,83,84,85,86,87,88,89,90,91,92,93,94,95,96,97,98,99,100],\"y\":[-120545.32695780632,-120545.32695780632,-120545.32695780632,-120545.32695780632,-120545.32695780632,-120545.32695780632,-120545.32695780632,-120545.32695780632,-120545.32695780632,-120545.32695780632,-120545.32695780632,-120545.32695780632,-120545.32695780632,-120545.32695780632,-120545.32695780632,-120545.32695780632,-120545.32695780632,-120545.32695780632,-120545.32695780632,-120545.32695780632,-120545.32695780632,-120545.3269578062,-120545.3269578052,-120545.32695779741,-120545.326957743,-120545.32695740077,-120545.32695545322,-120545.32694536487,-120545.32689755179,-120545.32668921414,-120545.32585084758,-120545.3227221351,-120545.31185130704,-120545.27655620179,-120545.1691053624,-120544.86139335544,-120544.02995718588,-120541.90428995146,-120536.74840423149,-120524.85390951899,-120498.69287183615,-120443.71284875128,-120333.07133934408,-120119.43839879642,-119722.90097069093,-119014.05246108281,-117791.61941697529,-115754.51696745859,-112469.04431295935,-107332.97412726206,-99539.42487054956,-88044.43912687828,-71542.89804462019,-48457.56941169643,-16945.56798911715,25074.736159902808,79875.19777894481,149848.88127689733,237424.04020531627,344966.69826158124,474678.97813300457,628501.0536172022,808024.4155768817,1014423.0825214533,1248407.6199937682,1510204.6199760772,1799561.935606481,2115777.7622982254,2457749.8461600184,2824039.845331945,3212947.2375624534,3622587.1383558842,4050966.8784429776,4496057.051921316,4955853.833036811,5428430.520797547,5911977.379436135,6404829.8051961195,6905485.608678545,7412612.734274165,7925049.0498193465],\"type\":\"scatter\",\"xaxis\":\"x\",\"yaxis\":\"y\"},{\"name\":\"EUA Mar25 85C\",\"x\":[20,21,22,23,24,25,26,27,28,29,30,31,32,33,34,35,36,37,38,39,40,41,42,43,44,45,46,47,48,49,50,51,52,53,54,55,56,57,58,59,60,61,62,63,64,65,66,67,68,69,70,71,72,73,74,75,76,77,78,79,80,81,82,83,84,85,86,87,88,89,90,91,92,93,94,95,96,97,98,99,100],\"y\":[3.97047462052406e-52,1.954763224610869e-48,4.9457206904979116e-45,6.903866258135342e-42,5.6514498963256686e-39,2.8596170588166387e-36,9.36304763059627e-34,2.064714263078756e-31,3.1760841772566137e-29,3.515388090085525e-27,2.8775994423658853e-25,1.7851453283027634e-23,8.577838588588087e-22,3.255620991627178e-20,9.932879669239363e-19,2.475063657399967e-17,5.109688222481421e-16,8.85415267230282e-15,1.3031065872741901e-13,1.6465499347007574e-12,1.803888535964622e-11,1.729026937972384e-10,1.4619958727803148e-09,1.0988761413478597e-08,7.39359075128121e-08,4.4820595221460516e-07,2.462720567479578e-06,1.2333207809465918e-05,5.6584121556117256e-05,0.00023897195146503882,0.0009331800351116091,0.0033833834286265164,0.011433666199213505,0.03614430523104208,0.10724706592498677,0.29964085238721144,0.7906438854863762,1.9757930540447168,4.688428721420043,10.590516765349737,22.825942335898677,47.046096301827845,92.92049535246642,176.21965156353158,321.49164784572906,565.2419515123436,959.373049727971,1574.4663386936302,2502.327787699108,3857.115264840035,5774.362894053696,8407.347591488984,11920.511875612545,16480.040792293676,22242.134410676135,29339.94439622463,37870.471399244925,47882.87971609064,59369.63600024674,72261.61746463065,86427.89932340007,101680.3900582506,117782.92239144699,134463.91326965127,151431.3471709257,168388.65570460955,185050.0728205667,201154.21903946644,216474.96734168398,230829.01268830258,244079.94991044395,256139.01164444126,266962.89340507134,276549.2772658364,284930.7551284518,292167.8562237125,298341.81899015896,303547.6367670841,307887.77205330995,311466.7949958709,314387.0733964527],\"type\":\"scatter\",\"xaxis\":\"x2\",\"yaxis\":\"y2\"},{\"name\":\"EUA Mar25 90C\",\"x\":[20,21,22,23,24,25,26,27,28,29,30,31,32,33,34,35,36,37,38,39,40,41,42,43,44,45,46,47,48,49,50,51,52,53,54,55,56,57,58,59,60,61,62,63,64,65,66,67,68,69,70,71,72,73,74,75,76,77,78,79,80,81,82,83,84,85,86,87,88,89,90,91,92,93,94,95,96,97,98,99,100],\"y\":[-42315.162703868795,-42315.162703868795,-42315.162703868795,-42315.162703868795,-42315.162703868795,-42315.162703868795,-42315.162703868795,-42315.162703868795,-42315.162703868795,-42315.162703868795,-42315.162703868795,-42315.162703868795,-42315.162703868795,-42315.162703868795,-42315.162703868795,-42315.162703868795,-42315.162703868795,-42315.162703868795,-42315.162703868795,-42315.162703868795,-42315.162703868795,-42315.162703868795,-42315.1627038687,-42315.16270386806,-42315.16270386349,-42315.16270383444,-42315.162703666276,-42315.162702777576,-42315.16269846545,-42315.16267916841,-42315.16259918207,-42315.162290864,-42315.161181540156,-42315.15744295649,-42315.14560267615,-42315.11025579202,-42315.01050389177,-42314.7436683808,-42314.06537009541,-42312.42292551285,-42308.62599386609,-42300.22808206718,-42282.421519660864,-42246.15666513517,-42175.08897933564,-42040.84905092582,-41796.04421031881,-41364.368419184095,-40627.25700839446,-39406.709560265495,-37444.24066956935,-34376.4048775742,-29707.94856187753,-22784.304210467188,-12765.768276721283,1393.817420654706,20960.837692686717,47425.204606162806,82490.76460651994,128051.26365157586,186151.49336323168,258934.585192759,348577.77641160565,457220.17205126164,586886.9183689549,739414.6741513384,916383.2609627595,1119057.899925675,1348345.5671218256,1604767.834309385,1888451.2454427232,2199134.95766259,2536194.179936005,2898676.9769453304,3285351.336247432,3694759.049021258,4125272.917544996,4575154.034597996,5042606.31977964,5525826.074013727,6023044.954768785],\"type\":\"scatter\",\"xaxis\":\"x\",\"yaxis\":\"y\"},{\"name\":\"EUA Mar25 90C\",\"x\":[20,21,22,23,24,25,26,27,28,29,30,31,32,33,34,35,36,37,38,39,40,41,42,43,44,45,46,47,48,49,50,51,52,53,54,55,56,57,58,59,60,61,62,63,64,65,66,67,68,69,70,71,72,73,74,75,76,77,78,79,80,81,82,83,84,85,86,87,88,89,90,91,92,93,94,95,96,97,98,99,100],\"y\":[3.3093339865139972e-52,1.2062679328872469e-48,2.336737453746586e-45,2.57284029007615e-42,1.7057060240210583e-39,7.157058751780366e-37,1.984841288921835e-34,3.778585189142916e-32,5.105009851035777e-30,5.040595975234672e-28,3.733270018572878e-26,2.122651476472578e-24,9.458782258404965e-23,3.3652182150890554e-21,9.719768958539208e-20,2.313648752558873e-18,4.600967691857235e-17,7.738809548280385e-16,1.1133976371862797e-14,1.3842843598333282e-13,1.5012883575781576e-12,1.4324847077606006e-11,1.2120499532258242e-10,9.160073692488326e-10,6.224749652667204e-09,3.827043329490257e-08,2.140900599238174e-07,1.0954997351057854e-06,5.152719535169394e-06,2.2379211273506448e-05,9.01313440638871e-05,0.0003379431151068104,0.0011839893294814383,0.0038894093106248352,0.012018509593036573,0.03503967974676139,0.09665909782644842,0.2529615479265223,0.6296263074808254,1.4940044011295175,3.3870928641164646,7.3522456560946825,15.310592517314424,30.64489378855718,59.0595964566617,109.7795234093384,197.12697842716727,342.47252182885467,576.4871540779267,941.537382689701,1493.970290951135,2305.9498733430232,3466.448815398613,5080.991576566207,7269.7999977427335,10164.116968233184,13900.669556251407,18614.459918266457,24430.309131695514,31453.78924575352,39762.32696082757,49397.321122635105,60358.07177862328,72598.17321564326,86024.79532105116,100500.99739021427,115850.92372048668,131867.45912148582,148321.70749177577,164973.5204699175,181582.25597901494,197916.98573178434,213765.48316815248,228941.48808258687,243289.93699041376,256690.04490957924,269056.30384133063,280337.61036180233,290514.84026357083,299597.2492197126,307618.0974152621],\"type\":\"scatter\",\"xaxis\":\"x2\",\"yaxis\":\"y2\"},{\"mode\":\"lines\",\"name\":\"Total_PnL\",\"x\":[20,21,22,23,24,25,26,27,28,29,30,31,32,33,34,35,36,37,38,39,40,41,42,43,44,45,46,47,48,49,50,51,52,53,54,55,56,57,58,59,60,61,62,63,64,65,66,67,68,69,70,71,72,73,74,75,76,77,78,79,80,81,82,83,84,85,86,87,88,89,90,91,92,93,94,95,96,97,98,99,100],\"y\":[-703588.5084591393,-703588.5084591393,-703588.5084591393,-703588.5084591393,-703588.5084591393,-703588.5084591393,-703588.5084591393,-703588.5084591393,-703588.5084591393,-703588.5084591393,-703588.5084591393,-703588.5084591393,-703588.5084591393,-703588.5084591393,-703588.5084591393,-703588.5084591393,-703588.5084591393,-703588.508459139,-703588.5084591369,-703588.508459118,-703588.5084589707,-703588.5084579618,-703588.5084518121,-703588.5084182117,-703588.5082525387,-703588.5075107287,-703588.5044768694,-703588.4930819067,-703588.4535779348,-703588.3265696099,-703587.9461954384,-703586.880622118,-703584.0774642427,-703577.1271702506,-703560.8282705551,-703524.5592363501,-703447.7382684284,-703292.4073118063,-702991.7527977995,-702433.2341462487,-701435.0031183155,-699714.5301740455,-696848.8549568406,-692226.6572309087,-684993.3647128041,-673991.6871243356,-657701.1586871828,-634181.3220036991,-601023.9255852837,-555319.785210161,-493645.67119075905,-412075.6914885001,-306220.1849876507,-171293.23886175707,-2207.782169260663,206304.99221677374,459557.1319060013,762753.2155369124,1120835.3368099728,1538332.089502932,2019219.5998514283,2566801.785050492,3183615.6530155125,3871365.7465200187,4630889.939011605,5462156.8729039,6364293.540482364,7335639.961954657,8373826.700206673,9475870.117160557,10638279.837071061,11857172.821249811,13128388.734533707,14447601.835392915,15810425.3763826,17212505.382774517,18649601.60992125,20117654.397101384,21612836.98179155,23131593.572111793,24670664.070092976],\"type\":\"scatter\",\"xaxis\":\"x\",\"yaxis\":\"y\"},{\"mode\":\"lines\",\"name\":\"Total_Delta\",\"x\":[20,21,22,23,24,25,26,27,28,29,30,31,32,33,34,35,36,37,38,39,40,41,42,43,44,45,46,47,48,49,50,51,52,53,54,55,56,57,58,59,60,61,62,63,64,65,66,67,68,69,70,71,72,73,74,75,76,77,78,79,80,81,82,83,84,85,86,87,88,89,90,91,92,93,94,95,96,97,98,99,100],\"y\":[2.417215966691218e-43,5.468639124421025e-40,6.601578326275218e-37,4.5498460256652155e-34,1.8972535611368873e-31,5.0325761821341485e-29,8.869254987857627e-27,1.0787380908739969e-24,9.361779096193155e-23,5.970123524078294e-21,2.8714353414350817e-19,1.0660090813618183e-17,3.118489700977872e-16,7.323008443431815e-15,1.4035361344514444e-13,2.2287610485378247e-12,2.972378236175127e-11,3.370489645410876e-10,3.2862107775323603e-09,2.7832329622492738e-08,2.066878726411832e-07,1.3574210611537974e-06,7.946412341251206e-06,4.176757817317637e-05,0.0001984422200604834,0.0008575417575804289,0.0033900765302048996,0.012326205796056235,0.04142769111420476,0.1293085371166511,0.3764816088276005,1.0266634034649271,2.6324523239260462,6.3697559803750945,14.595044025761693,31.76975475741834,65.89825848820173,130.6279406622526,248.1298722708092,452.80686998186866,795.7600948330412,1349.793007016811,2214.560256160431,3521.3053568574696,5436.505773594129,8163.687433326114,11942.7061508063,17045.93270251467,23771.017784065243,32430.232822353013,43336.74763380273,56788.570729396655,73051.19343333911,92340.20001033472,114805.19985257815,140516.38935478116,169454.86536074142,201507.5125861226,236466.91173624122,274036.30791147146,313839.2852012493,355433.4519587928,398327.18074870744,441998.28384408785,485913.4438666918,529547.2537603681,572399.836884456,614012.1975516418,653978.6731923878,691956.0995832128,727669.5398268298,760914.6485074543,791556.9309832068,819528.3047943077,844821.4708254626,867482.6555864001,887603.2958976633,905311.2094362222,920761.7370262332,934129.2642599288,945599.4400693427],\"type\":\"scatter\",\"xaxis\":\"x2\",\"yaxis\":\"y2\"}],                        {\"template\":{\"data\":{\"histogram2dcontour\":[{\"type\":\"histogram2dcontour\",\"colorbar\":{\"outlinewidth\":0,\"ticks\":\"\"},\"colorscale\":[[0.0,\"#0d0887\"],[0.1111111111111111,\"#46039f\"],[0.2222222222222222,\"#7201a8\"],[0.3333333333333333,\"#9c179e\"],[0.4444444444444444,\"#bd3786\"],[0.5555555555555556,\"#d8576b\"],[0.6666666666666666,\"#ed7953\"],[0.7777777777777778,\"#fb9f3a\"],[0.8888888888888888,\"#fdca26\"],[1.0,\"#f0f921\"]]}],\"choropleth\":[{\"type\":\"choropleth\",\"colorbar\":{\"outlinewidth\":0,\"ticks\":\"\"}}],\"histogram2d\":[{\"type\":\"histogram2d\",\"colorbar\":{\"outlinewidth\":0,\"ticks\":\"\"},\"colorscale\":[[0.0,\"#0d0887\"],[0.1111111111111111,\"#46039f\"],[0.2222222222222222,\"#7201a8\"],[0.3333333333333333,\"#9c179e\"],[0.4444444444444444,\"#bd3786\"],[0.5555555555555556,\"#d8576b\"],[0.6666666666666666,\"#ed7953\"],[0.7777777777777778,\"#fb9f3a\"],[0.8888888888888888,\"#fdca26\"],[1.0,\"#f0f921\"]]}],\"heatmap\":[{\"type\":\"heatmap\",\"colorbar\":{\"outlinewidth\":0,\"ticks\":\"\"},\"colorscale\":[[0.0,\"#0d0887\"],[0.1111111111111111,\"#46039f\"],[0.2222222222222222,\"#7201a8\"],[0.3333333333333333,\"#9c179e\"],[0.4444444444444444,\"#bd3786\"],[0.5555555555555556,\"#d8576b\"],[0.6666666666666666,\"#ed7953\"],[0.7777777777777778,\"#fb9f3a\"],[0.8888888888888888,\"#fdca26\"],[1.0,\"#f0f921\"]]}],\"heatmapgl\":[{\"type\":\"heatmapgl\",\"colorbar\":{\"outlinewidth\":0,\"ticks\":\"\"},\"colorscale\":[[0.0,\"#0d0887\"],[0.1111111111111111,\"#46039f\"],[0.2222222222222222,\"#7201a8\"],[0.3333333333333333,\"#9c179e\"],[0.4444444444444444,\"#bd3786\"],[0.5555555555555556,\"#d8576b\"],[0.6666666666666666,\"#ed7953\"],[0.7777777777777778,\"#fb9f3a\"],[0.8888888888888888,\"#fdca26\"],[1.0,\"#f0f921\"]]}],\"contourcarpet\":[{\"type\":\"contourcarpet\",\"colorbar\":{\"outlinewidth\":0,\"ticks\":\"\"}}],\"contour\":[{\"type\":\"contour\",\"colorbar\":{\"outlinewidth\":0,\"ticks\":\"\"},\"colorscale\":[[0.0,\"#0d0887\"],[0.1111111111111111,\"#46039f\"],[0.2222222222222222,\"#7201a8\"],[0.3333333333333333,\"#9c179e\"],[0.4444444444444444,\"#bd3786\"],[0.5555555555555556,\"#d8576b\"],[0.6666666666666666,\"#ed7953\"],[0.7777777777777778,\"#fb9f3a\"],[0.8888888888888888,\"#fdca26\"],[1.0,\"#f0f921\"]]}],\"surface\":[{\"type\":\"surface\",\"colorbar\":{\"outlinewidth\":0,\"ticks\":\"\"},\"colorscale\":[[0.0,\"#0d0887\"],[0.1111111111111111,\"#46039f\"],[0.2222222222222222,\"#7201a8\"],[0.3333333333333333,\"#9c179e\"],[0.4444444444444444,\"#bd3786\"],[0.5555555555555556,\"#d8576b\"],[0.6666666666666666,\"#ed7953\"],[0.7777777777777778,\"#fb9f3a\"],[0.8888888888888888,\"#fdca26\"],[1.0,\"#f0f921\"]]}],\"mesh3d\":[{\"type\":\"mesh3d\",\"colorbar\":{\"outlinewidth\":0,\"ticks\":\"\"}}],\"scatter\":[{\"fillpattern\":{\"fillmode\":\"overlay\",\"size\":10,\"solidity\":0.2},\"type\":\"scatter\"}],\"parcoords\":[{\"type\":\"parcoords\",\"line\":{\"colorbar\":{\"outlinewidth\":0,\"ticks\":\"\"}}}],\"scatterpolargl\":[{\"type\":\"scatterpolargl\",\"marker\":{\"colorbar\":{\"outlinewidth\":0,\"ticks\":\"\"}}}],\"bar\":[{\"error_x\":{\"color\":\"#2a3f5f\"},\"error_y\":{\"color\":\"#2a3f5f\"},\"marker\":{\"line\":{\"color\":\"#E5ECF6\",\"width\":0.5},\"pattern\":{\"fillmode\":\"overlay\",\"size\":10,\"solidity\":0.2}},\"type\":\"bar\"}],\"scattergeo\":[{\"type\":\"scattergeo\",\"marker\":{\"colorbar\":{\"outlinewidth\":0,\"ticks\":\"\"}}}],\"scatterpolar\":[{\"type\":\"scatterpolar\",\"marker\":{\"colorbar\":{\"outlinewidth\":0,\"ticks\":\"\"}}}],\"histogram\":[{\"marker\":{\"pattern\":{\"fillmode\":\"overlay\",\"size\":10,\"solidity\":0.2}},\"type\":\"histogram\"}],\"scattergl\":[{\"type\":\"scattergl\",\"marker\":{\"colorbar\":{\"outlinewidth\":0,\"ticks\":\"\"}}}],\"scatter3d\":[{\"type\":\"scatter3d\",\"line\":{\"colorbar\":{\"outlinewidth\":0,\"ticks\":\"\"}},\"marker\":{\"colorbar\":{\"outlinewidth\":0,\"ticks\":\"\"}}}],\"scattermapbox\":[{\"type\":\"scattermapbox\",\"marker\":{\"colorbar\":{\"outlinewidth\":0,\"ticks\":\"\"}}}],\"scatterternary\":[{\"type\":\"scatterternary\",\"marker\":{\"colorbar\":{\"outlinewidth\":0,\"ticks\":\"\"}}}],\"scattercarpet\":[{\"type\":\"scattercarpet\",\"marker\":{\"colorbar\":{\"outlinewidth\":0,\"ticks\":\"\"}}}],\"carpet\":[{\"aaxis\":{\"endlinecolor\":\"#2a3f5f\",\"gridcolor\":\"white\",\"linecolor\":\"white\",\"minorgridcolor\":\"white\",\"startlinecolor\":\"#2a3f5f\"},\"baxis\":{\"endlinecolor\":\"#2a3f5f\",\"gridcolor\":\"white\",\"linecolor\":\"white\",\"minorgridcolor\":\"white\",\"startlinecolor\":\"#2a3f5f\"},\"type\":\"carpet\"}],\"table\":[{\"cells\":{\"fill\":{\"color\":\"#EBF0F8\"},\"line\":{\"color\":\"white\"}},\"header\":{\"fill\":{\"color\":\"#C8D4E3\"},\"line\":{\"color\":\"white\"}},\"type\":\"table\"}],\"barpolar\":[{\"marker\":{\"line\":{\"color\":\"#E5ECF6\",\"width\":0.5},\"pattern\":{\"fillmode\":\"overlay\",\"size\":10,\"solidity\":0.2}},\"type\":\"barpolar\"}],\"pie\":[{\"automargin\":true,\"type\":\"pie\"}]},\"layout\":{\"autotypenumbers\":\"strict\",\"colorway\":[\"#636efa\",\"#EF553B\",\"#00cc96\",\"#ab63fa\",\"#FFA15A\",\"#19d3f3\",\"#FF6692\",\"#B6E880\",\"#FF97FF\",\"#FECB52\"],\"font\":{\"color\":\"#2a3f5f\"},\"hovermode\":\"closest\",\"hoverlabel\":{\"align\":\"left\"},\"paper_bgcolor\":\"white\",\"plot_bgcolor\":\"#E5ECF6\",\"polar\":{\"bgcolor\":\"#E5ECF6\",\"angularaxis\":{\"gridcolor\":\"white\",\"linecolor\":\"white\",\"ticks\":\"\"},\"radialaxis\":{\"gridcolor\":\"white\",\"linecolor\":\"white\",\"ticks\":\"\"}},\"ternary\":{\"bgcolor\":\"#E5ECF6\",\"aaxis\":{\"gridcolor\":\"white\",\"linecolor\":\"white\",\"ticks\":\"\"},\"baxis\":{\"gridcolor\":\"white\",\"linecolor\":\"white\",\"ticks\":\"\"},\"caxis\":{\"gridcolor\":\"white\",\"linecolor\":\"white\",\"ticks\":\"\"}},\"coloraxis\":{\"colorbar\":{\"outlinewidth\":0,\"ticks\":\"\"}},\"colorscale\":{\"sequential\":[[0.0,\"#0d0887\"],[0.1111111111111111,\"#46039f\"],[0.2222222222222222,\"#7201a8\"],[0.3333333333333333,\"#9c179e\"],[0.4444444444444444,\"#bd3786\"],[0.5555555555555556,\"#d8576b\"],[0.6666666666666666,\"#ed7953\"],[0.7777777777777778,\"#fb9f3a\"],[0.8888888888888888,\"#fdca26\"],[1.0,\"#f0f921\"]],\"sequentialminus\":[[0.0,\"#0d0887\"],[0.1111111111111111,\"#46039f\"],[0.2222222222222222,\"#7201a8\"],[0.3333333333333333,\"#9c179e\"],[0.4444444444444444,\"#bd3786\"],[0.5555555555555556,\"#d8576b\"],[0.6666666666666666,\"#ed7953\"],[0.7777777777777778,\"#fb9f3a\"],[0.8888888888888888,\"#fdca26\"],[1.0,\"#f0f921\"]],\"diverging\":[[0,\"#8e0152\"],[0.1,\"#c51b7d\"],[0.2,\"#de77ae\"],[0.3,\"#f1b6da\"],[0.4,\"#fde0ef\"],[0.5,\"#f7f7f7\"],[0.6,\"#e6f5d0\"],[0.7,\"#b8e186\"],[0.8,\"#7fbc41\"],[0.9,\"#4d9221\"],[1,\"#276419\"]]},\"xaxis\":{\"gridcolor\":\"white\",\"linecolor\":\"white\",\"ticks\":\"\",\"title\":{\"standoff\":15},\"zerolinecolor\":\"white\",\"automargin\":true,\"zerolinewidth\":2},\"yaxis\":{\"gridcolor\":\"white\",\"linecolor\":\"white\",\"ticks\":\"\",\"title\":{\"standoff\":15},\"zerolinecolor\":\"white\",\"automargin\":true,\"zerolinewidth\":2},\"scene\":{\"xaxis\":{\"backgroundcolor\":\"#E5ECF6\",\"gridcolor\":\"white\",\"linecolor\":\"white\",\"showbackground\":true,\"ticks\":\"\",\"zerolinecolor\":\"white\",\"gridwidth\":2},\"yaxis\":{\"backgroundcolor\":\"#E5ECF6\",\"gridcolor\":\"white\",\"linecolor\":\"white\",\"showbackground\":true,\"ticks\":\"\",\"zerolinecolor\":\"white\",\"gridwidth\":2},\"zaxis\":{\"backgroundcolor\":\"#E5ECF6\",\"gridcolor\":\"white\",\"linecolor\":\"white\",\"showbackground\":true,\"ticks\":\"\",\"zerolinecolor\":\"white\",\"gridwidth\":2}},\"shapedefaults\":{\"line\":{\"color\":\"#2a3f5f\"}},\"annotationdefaults\":{\"arrowcolor\":\"#2a3f5f\",\"arrowhead\":0,\"arrowwidth\":1},\"geo\":{\"bgcolor\":\"white\",\"landcolor\":\"#E5ECF6\",\"subunitcolor\":\"white\",\"showland\":true,\"showlakes\":true,\"lakecolor\":\"white\"},\"title\":{\"x\":0.05},\"mapbox\":{\"style\":\"light\"}}},\"xaxis\":{\"anchor\":\"y\",\"domain\":[0.0,0.45],\"title\":{\"text\":\"Price\"}},\"yaxis\":{\"anchor\":\"x\",\"domain\":[0.0,1.0],\"title\":{\"text\":\"Pnl\"}},\"xaxis2\":{\"anchor\":\"y2\",\"domain\":[0.55,1.0],\"title\":{\"text\":\"Price\"}},\"yaxis2\":{\"anchor\":\"x2\",\"domain\":[0.0,1.0],\"title\":{\"text\":\"Delta\"}},\"title\":{\"text\":\"Todays Option Pos (PnL and Delta)\",\"x\":0.5,\"xanchor\":\"center\"},\"barmode\":\"stack\"},                        {\"responsive\": true}                    ).then(function(){\n",
       "                            \n",
       "var gd = document.getElementById('39acd891-de91-4beb-87f4-cc62fe120e74');\n",
       "var x = new MutationObserver(function (mutations, observer) {{\n",
       "        var display = window.getComputedStyle(gd).display;\n",
       "        if (!display || display === 'none') {{\n",
       "            console.log([gd, 'removed!']);\n",
       "            Plotly.purge(gd);\n",
       "            observer.disconnect();\n",
       "        }}\n",
       "}});\n",
       "\n",
       "// Listen for the removal of the full notebook cells\n",
       "var notebookContainer = gd.closest('#notebook-container');\n",
       "if (notebookContainer) {{\n",
       "    x.observe(notebookContainer, {childList: true});\n",
       "}}\n",
       "\n",
       "// Listen for the clearing of the current output cell\n",
       "var outputEl = gd.closest('.output');\n",
       "if (outputEl) {{\n",
       "    x.observe(outputEl, {childList: true});\n",
       "}}\n",
       "\n",
       "                        })                };                });            </script>        </div>"
      ]
     },
     "metadata": {},
     "output_type": "display_data"
    }
   ],
   "source": [
    "pnl_delta_plot(end_next_wk)"
   ]
  },
  {
   "cell_type": "markdown",
   "id": "9c6a0988-c940-4dbc-a55c-15ceea732f6e",
   "metadata": {},
   "source": [
    "## End of 2 Weeks"
   ]
  },
  {
   "cell_type": "code",
   "execution_count": 21,
   "id": "551d95c7-9cae-4174-88c2-1fb026cb34fc",
   "metadata": {},
   "outputs": [
    {
     "data": {
      "application/vnd.plotly.v1+json": {
       "config": {
        "plotlyServerURL": "https://plot.ly"
       },
       "data": [
        {
         "name": "EUA Mar25 75C",
         "type": "scatter",
         "x": [
          20,
          21,
          22,
          23,
          24,
          25,
          26,
          27,
          28,
          29,
          30,
          31,
          32,
          33,
          34,
          35,
          36,
          37,
          38,
          39,
          40,
          41,
          42,
          43,
          44,
          45,
          46,
          47,
          48,
          49,
          50,
          51,
          52,
          53,
          54,
          55,
          56,
          57,
          58,
          59,
          60,
          61,
          62,
          63,
          64,
          65,
          66,
          67,
          68,
          69,
          70,
          71,
          72,
          73,
          74,
          75,
          76,
          77,
          78,
          79,
          80,
          81,
          82,
          83,
          84,
          85,
          86,
          87,
          88,
          89,
          90,
          91,
          92,
          93,
          94,
          95,
          96,
          97,
          98,
          99,
          100
         ],
         "xaxis": "x",
         "y": [
          -247685.6730499249,
          -247685.6730499249,
          -247685.6730499249,
          -247685.6730499249,
          -247685.6730499249,
          -247685.6730499249,
          -247685.6730499249,
          -247685.6730499249,
          -247685.6730499249,
          -247685.6730499249,
          -247685.6730499249,
          -247685.6730499249,
          -247685.6730499249,
          -247685.6730499249,
          -247685.6730499249,
          -247685.6730499249,
          -247685.6730499249,
          -247685.6730499249,
          -247685.6730499249,
          -247685.6730499249,
          -247685.6730499249,
          -247685.6730499248,
          -247685.67304992332,
          -247685.6730499084,
          -247685.6730497743,
          -247685.6730487224,
          -247685.67304145274,
          -247685.6729968726,
          -247685.67275264394,
          -247685.6715498121,
          -247685.66619301477,
          -247685.6445026639,
          -247685.5642419024,
          -247685.29153993854,
          -247684.4369349868,
          -247681.9563132056,
          -247675.2606796224,
          -247658.39211565317,
          -247618.58607030904,
          -247530.30830967086,
          -247345.74016506984,
          -246980.84436506813,
          -246296.72921644684,
          -245077.11270037392,
          -243004.17498889912,
          -239636.6710123532,
          -234395.3721198743,
          -226561.19241501117,
          -215290.35548967126,
          -199648.62534408382,
          -178663.32997088437,
          -151388.36823446254,
          -116974.48363055891,
          -74735.57053798628,
          -24202.056911947904,
          34845.58031470964,
          102366.86089090155,
          178074.87827941403,
          261469.984586613,
          351887.7271490074,
          448554.03731629776,
          550640.8173088855,
          657316.2386997843,
          767785.8417119405,
          881322.4711075183,
          997284.841024127,
          1115125.8570154433,
          1234392.6476860447,
          1354720.595133299,
          1475823.601997932,
          1597482.524156146,
          1719533.260154712,
          1841855.5252406609,
          1964362.919737881,
          2086994.5663100223,
          2209708.349706518,
          2332475.6394974375,
          2455277.295017278,
          2578100.7230022303,
          2700937.763985518,
          2823783.208433376
         ],
         "yaxis": "y"
        },
        {
         "name": "EUA Mar25 75C",
         "type": "scatter",
         "x": [
          20,
          21,
          22,
          23,
          24,
          25,
          26,
          27,
          28,
          29,
          30,
          31,
          32,
          33,
          34,
          35,
          36,
          37,
          38,
          39,
          40,
          41,
          42,
          43,
          44,
          45,
          46,
          47,
          48,
          49,
          50,
          51,
          52,
          53,
          54,
          55,
          56,
          57,
          58,
          59,
          60,
          61,
          62,
          63,
          64,
          65,
          66,
          67,
          68,
          69,
          70,
          71,
          72,
          73,
          74,
          75,
          76,
          77,
          78,
          79,
          80,
          81,
          82,
          83,
          84,
          85,
          86,
          87,
          88,
          89,
          90,
          91,
          92,
          93,
          94,
          95,
          96,
          97,
          98,
          99,
          100
         ],
         "xaxis": "x2",
         "y": [
          2.1847759364259357e-61,
          9.917013176762018e-57,
          1.8808299952788776e-52,
          1.6372598433581675e-48,
          7.090682605463602e-45,
          1.637875533954946e-41,
          2.1435880628998397e-38,
          1.6756627753930098e-35,
          8.194618890765722e-33,
          2.6115602442240774e-30,
          5.623443242451327e-28,
          8.448808416760326e-26,
          9.114596055344152e-24,
          7.244108974456218e-22,
          4.3407289108632673e-20,
          2.0021922462692907e-18,
          7.244056790863118e-17,
          2.0911947891759045e-15,
          4.8918424959794474e-14,
          9.40473277270995e-13,
          1.5052737195068032e-11,
          2.029572327502551e-10,
          2.330316450039355e-09,
          2.301272806300036e-08,
          1.9726248353534678e-07,
          1.4801891806587995e-06,
          9.799011085466269e-06,
          5.7648088274832784e-05,
          0.0003034195453473633,
          0.001437707617863698,
          0.006168665577791211,
          0.024096861889579334,
          0.0861347153125832,
          0.28307587044249694,
          0.8591395880699604,
          2.4180895861117713,
          6.336256459258411,
          15.514954583562183,
          35.623922281519405,
          76.9556987949102,
          156.8944830762506,
          302.7853765324498,
          554.6944963265256,
          967.2547503643451,
          1609.6181517143407,
          2562.6113040991722,
          3912.5915941437624,
          5742.198153181829,
          8119.031570824936,
          11084.039027592364,
          14641.777174109877,
          18754.608321243064,
          23342.243033655548,
          28287.024784810437,
          33444.22557574771,
          38655.676809346805,
          43764.52183308943,
          48628.84110074261,
          53132.321546416286,
          57190.863319664386,
          60754.83582467913,
          63807.42189060558,
          66359.99470921252,
          68445.70610449738,
          70112.44713522473,
          71416.14087652396,
          72415.02901857255,
          73165.29910608174,
          73718.12672413782,
          74118.00872009345,
          74402.14731286901,
          74600.60103813726,
          74736.92810952174,
          74829.08997446274,
          74890.43919170718,
          74930.67271621409,
          74956.68101071648,
          74973.26141489361,
          74983.69045053843,
          74990.16571324314,
          74994.13603453687
         ],
         "yaxis": "y2"
        },
        {
         "name": "EUA Mar25 80C",
         "type": "scatter",
         "x": [
          20,
          21,
          22,
          23,
          24,
          25,
          26,
          27,
          28,
          29,
          30,
          31,
          32,
          33,
          34,
          35,
          36,
          37,
          38,
          39,
          40,
          41,
          42,
          43,
          44,
          45,
          46,
          47,
          48,
          49,
          50,
          51,
          52,
          53,
          54,
          55,
          56,
          57,
          58,
          59,
          60,
          61,
          62,
          63,
          64,
          65,
          66,
          67,
          68,
          69,
          70,
          71,
          72,
          73,
          74,
          75,
          76,
          77,
          78,
          79,
          80,
          81,
          82,
          83,
          84,
          85,
          86,
          87,
          88,
          89,
          90,
          91,
          92,
          93,
          94,
          95,
          96,
          97,
          98,
          99,
          100
         ],
         "xaxis": "x",
         "y": [
          -293042.3457475392,
          -293042.3457475392,
          -293042.3457475392,
          -293042.3457475392,
          -293042.3457475392,
          -293042.3457475392,
          -293042.3457475392,
          -293042.3457475392,
          -293042.3457475392,
          -293042.3457475392,
          -293042.3457475392,
          -293042.3457475392,
          -293042.3457475392,
          -293042.3457475392,
          -293042.3457475392,
          -293042.3457475392,
          -293042.3457475392,
          -293042.3457475392,
          -293042.3457475392,
          -293042.3457475392,
          -293042.3457475392,
          -293042.3457475392,
          -293042.3457475392,
          -293042.3457475392,
          -293042.3457475389,
          -293042.34574753576,
          -293042.3457475069,
          -293042.3457472687,
          -293042.3457455329,
          -293042.3457342551,
          -293042.34566853876,
          -293042.3453230901,
          -293042.3436760827,
          -293042.3365179045,
          -293042.3080235742,
          -293042.2036740711,
          -293041.8506465455,
          -293040.74296200776,
          -293037.5076396697,
          -293028.68035750545,
          -293006.1080865201,
          -292951.84349046485,
          -292828.83504278684,
          -292565.1716822207,
          -292029.3486270112,
          -290994.31143973,
          -289089.2443961133,
          -285740.3900982811,
          -280105.5030557652,
          -271010.311095487,
          -256898.64682573857,
          -235809.5813270889,
          -205393.9565361315,
          -162978.71421871128,
          -105680.69908493102,
          -30563.340361605697,
          65178.46430165162,
          184025.96804196102,
          327959.9341287865,
          498321.3781976658,
          695725.964176297,
          920040.3696247486,
          1170420.0830957494,
          1445400.0677253765,
          1743023.8749007084,
          2060993.849137381,
          2396825.0776037006,
          2747988.185298747,
          3112030.0956219905,
          3486666.5078433836,
          3869844.246179219,
          4259775.216155767,
          4654946.161141183,
          5054109.708167606,
          5456262.483051543,
          5860615.622395327,
          6266562.104510833,
          6673644.22388729,
          7081523.444728101,
          7489953.917571728,
          7898760.193306201
         ],
         "yaxis": "y"
        },
        {
         "name": "EUA Mar25 80C",
         "type": "scatter",
         "x": [
          20,
          21,
          22,
          23,
          24,
          25,
          26,
          27,
          28,
          29,
          30,
          31,
          32,
          33,
          34,
          35,
          36,
          37,
          38,
          39,
          40,
          41,
          42,
          43,
          44,
          45,
          46,
          47,
          48,
          49,
          50,
          51,
          52,
          53,
          54,
          55,
          56,
          57,
          58,
          59,
          60,
          61,
          62,
          63,
          64,
          65,
          66,
          67,
          68,
          69,
          70,
          71,
          72,
          73,
          74,
          75,
          76,
          77,
          78,
          79,
          80,
          81,
          82,
          83,
          84,
          85,
          86,
          87,
          88,
          89,
          90,
          91,
          92,
          93,
          94,
          95,
          96,
          97,
          98,
          99,
          100
         ],
         "xaxis": "x2",
         "y": [
          1.4241687821424307e-69,
          1.5790795769670293e-64,
          6.932568220122561e-60,
          1.3308770541300082e-55,
          1.2165400749123475e-51,
          5.699122053106167e-48,
          1.458608873581256e-44,
          2.1565751667674296e-41,
          1.9345071680586621e-38,
          1.0993329062723782e-35,
          4.1121636356398546e-33,
          1.0475700364794568e-30,
          1.8735686059598082e-28,
          2.4174479474427692e-26,
          2.306087671497139e-24,
          1.6626835120685853e-22,
          9.243243905413638e-21,
          4.0343892590658464e-19,
          1.4054417273554385e-17,
          3.9667903427925225e-16,
          9.196094389081678e-15,
          1.7731658960619555e-13,
          2.8765489716009013e-12,
          3.967915271748955e-11,
          4.699490806985865e-10,
          4.8221450299695154e-09,
          4.322543381636942e-08,
          3.4110651888540516e-07,
          2.3866702973836425e-06,
          1.4904835279276345e-05,
          8.359399193689532e-05,
          0.0004234818235187461,
          0.0019482236154501895,
          0.00818027205990761,
          0.031496566126067715,
          0.11169647284855462,
          0.3663481779181599,
          1.1156227429549135,
          3.165931537314635,
          8.40133515901473,
          20.915902628757802,
          49.00373459143036,
          108.36248036255961,
          226.7956980814554,
          450.4506069898717,
          851.1634062843789,
          1533.8410925475796,
          2642.126312117297,
          4360.104164359681,
          6907.784842465411,
          10528.733501134146,
          15469.544094454302,
          21952.656054611693,
          30145.866802677112,
          40133.27418640532,
          51892.835088986874,
          65285.0243503231,
          80055.31660602757,
          95850.78874547115,
          112248.6299073689,
          128792.33355107198,
          145030.257343399,
          160551.23462539044,
          175012.89324089774,
          188159.96099009443,
          199831.69322979226,
          209959.2509538342,
          218555.10211676816,
          225697.182481643,
          231510.64860996007,
          236149.70519206193,
          239781.36511390447,
          242572.27933766771,
          244679.09725162867,
          246242.27805042808,
          247382.90927084442,
          248201.89701668144,
          248780.84365344557,
          249183.98057131463,
          249460.6332595998,
          249647.82761368193
         ],
         "yaxis": "y2"
        },
        {
         "name": "EUA Mar25 85C",
         "type": "scatter",
         "x": [
          20,
          21,
          22,
          23,
          24,
          25,
          26,
          27,
          28,
          29,
          30,
          31,
          32,
          33,
          34,
          35,
          36,
          37,
          38,
          39,
          40,
          41,
          42,
          43,
          44,
          45,
          46,
          47,
          48,
          49,
          50,
          51,
          52,
          53,
          54,
          55,
          56,
          57,
          58,
          59,
          60,
          61,
          62,
          63,
          64,
          65,
          66,
          67,
          68,
          69,
          70,
          71,
          72,
          73,
          74,
          75,
          76,
          77,
          78,
          79,
          80,
          81,
          82,
          83,
          84,
          85,
          86,
          87,
          88,
          89,
          90,
          91,
          92,
          93,
          94,
          95,
          96,
          97,
          98,
          99,
          100
         ],
         "xaxis": "x",
         "y": [
          -120545.32695780632,
          -120545.32695780632,
          -120545.32695780632,
          -120545.32695780632,
          -120545.32695780632,
          -120545.32695780632,
          -120545.32695780632,
          -120545.32695780632,
          -120545.32695780632,
          -120545.32695780632,
          -120545.32695780632,
          -120545.32695780632,
          -120545.32695780632,
          -120545.32695780632,
          -120545.32695780632,
          -120545.32695780632,
          -120545.32695780632,
          -120545.32695780632,
          -120545.32695780632,
          -120545.32695780632,
          -120545.32695780632,
          -120545.32695780632,
          -120545.32695780632,
          -120545.32695780632,
          -120545.32695780632,
          -120545.32695780632,
          -120545.32695780613,
          -120545.3269578045,
          -120545.32695779047,
          -120545.32695768359,
          -120545.32695695465,
          -120545.32695247582,
          -120545.32692755407,
          -120545.32680133414,
          -120545.3262167256,
          -120545.32372950956,
          -120545.31396885635,
          -120545.27849905101,
          -120545.15870064237,
          -120544.7813358436,
          -120543.66906463474,
          -120540.59196560101,
          -120532.5784366132,
          -120512.87867790104,
          -120467.0440038159,
          -120365.86093764682,
          -120153.42226919156,
          -119728.26036597132,
          -118915.41419132412,
          -117427.79187356484,
          -114816.43292953163,
          -110411.34329540735,
          -103257.3182442995,
          -92052.1504383922,
          -75097.16679502255,
          -50271.364659665196,
          -15039.845492457283,
          33495.57304068003,
          98500.59278212585,
          183270.84656047547,
          291062.39328214404,
          424905.77579287224,
          587422.5392881559,
          780663.6545563671,
          1005986.8394880524,
          1263984.8061602116,
          1554469.9312232023,
          1876513.9364987663,
          2228535.018478262,
          2608420.35792911,
          3013669.5498580458,
          3441544.264447014,
          3889211.0613652905,
          4353867.175855424,
          4832842.628206341,
          5323675.57352842,
          5824160.93508306,
          6332374.759110585,
          6846678.278392227,
          7365706.409892453,
          7888345.473643997
         ],
         "yaxis": "y"
        },
        {
         "name": "EUA Mar25 85C",
         "type": "scatter",
         "x": [
          20,
          21,
          22,
          23,
          24,
          25,
          26,
          27,
          28,
          29,
          30,
          31,
          32,
          33,
          34,
          35,
          36,
          37,
          38,
          39,
          40,
          41,
          42,
          43,
          44,
          45,
          46,
          47,
          48,
          49,
          50,
          51,
          52,
          53,
          54,
          55,
          56,
          57,
          58,
          59,
          60,
          61,
          62,
          63,
          64,
          65,
          66,
          67,
          68,
          69,
          70,
          71,
          72,
          73,
          74,
          75,
          76,
          77,
          78,
          79,
          80,
          81,
          82,
          83,
          84,
          85,
          86,
          87,
          88,
          89,
          90,
          91,
          92,
          93,
          94,
          95,
          96,
          97,
          98,
          99,
          100
         ],
         "xaxis": "x2",
         "y": [
          7.869977901818947e-74,
          1.0531720207472577e-68,
          5.589382585865558e-64,
          1.2984105831996584e-59,
          1.4368899490279841e-55,
          8.150319418034743e-52,
          2.5251168987629718e-48,
          4.517258849466812e-45,
          4.8994399745135475e-42,
          3.363506141615906e-39,
          1.518373443565458e-36,
          4.662763845873336e-34,
          1.0040309855390495e-31,
          1.557696261794345e-29,
          1.784238983383598e-27,
          1.5424804850815543e-25,
          1.0266704876360289e-23,
          5.357113724384646e-22,
          2.2276726248300643e-20,
          7.493661667520905e-19,
          2.0672800978861074e-17,
          4.735945911677711e-16,
          9.113978697124673e-15,
          1.488994304425344e-13,
          2.08540481713223e-12,
          2.5264044395460423e-11,
          2.669556810991696e-10,
          2.479370803557865e-09,
          2.0384985134999137e-08,
          1.4935743539702702e-07,
          9.812321215030518e-07,
          5.8135796120036734e-06,
          3.1230164895045485e-05,
          0.00015287731250336996,
          0.0006851560439693254,
          0.0028237419553114327,
          0.010745909217592246,
          0.037907858101701164,
          0.12441387184212503,
          0.38120232804306675,
          1.0939524984249152,
          2.9493644457312045,
          7.4921117933944705,
          17.981177335447814,
          40.879058950386856,
          88.2524384982315,
          181.34998893810248,
          355.50619691390824,
          666.2622767941393,
          1196.191339758456,
          2061.4141488332893,
          3416.3068609512184,
          5454.59509146414,
          8405.068900130438,
          12520.657870859335,
          18060.580669093957,
          25266.593286460033,
          34335.73945118007,
          45393.12197664711,
          58468.755920152165,
          73482.34226964643,
          90238.80458283234,
          108435.84179213672,
          127682.89407024704,
          147529.17867171703,
          167497.1712857038,
          187117.30610299617,
          205959.80204697547,
          223660.2931190042,
          239937.13272729915,
          254599.58991444216,
          267547.4084971625,
          278763.17046192946,
          288299.4927805683,
          296263.28071859013,
          302799.1192298625,
          308073.5074695044,
          312261.1428223584,
          315533.94234808465,
          318053.0279541326,
          319963.542762438
         ],
         "yaxis": "y2"
        },
        {
         "name": "EUA Mar25 90C",
         "type": "scatter",
         "x": [
          20,
          21,
          22,
          23,
          24,
          25,
          26,
          27,
          28,
          29,
          30,
          31,
          32,
          33,
          34,
          35,
          36,
          37,
          38,
          39,
          40,
          41,
          42,
          43,
          44,
          45,
          46,
          47,
          48,
          49,
          50,
          51,
          52,
          53,
          54,
          55,
          56,
          57,
          58,
          59,
          60,
          61,
          62,
          63,
          64,
          65,
          66,
          67,
          68,
          69,
          70,
          71,
          72,
          73,
          74,
          75,
          76,
          77,
          78,
          79,
          80,
          81,
          82,
          83,
          84,
          85,
          86,
          87,
          88,
          89,
          90,
          91,
          92,
          93,
          94,
          95,
          96,
          97,
          98,
          99,
          100
         ],
         "xaxis": "x",
         "y": [
          -42315.162703868795,
          -42315.162703868795,
          -42315.162703868795,
          -42315.162703868795,
          -42315.162703868795,
          -42315.162703868795,
          -42315.162703868795,
          -42315.162703868795,
          -42315.162703868795,
          -42315.162703868795,
          -42315.162703868795,
          -42315.162703868795,
          -42315.162703868795,
          -42315.162703868795,
          -42315.162703868795,
          -42315.162703868795,
          -42315.162703868795,
          -42315.162703868795,
          -42315.162703868795,
          -42315.162703868795,
          -42315.162703868795,
          -42315.162703868795,
          -42315.162703868795,
          -42315.162703868795,
          -42315.162703868795,
          -42315.162703868795,
          -42315.162703868795,
          -42315.16270386874,
          -42315.16270386825,
          -42315.16270386439,
          -42315.162703836926,
          -42315.16270366021,
          -42315.16270262667,
          -42315.16269710658,
          -42315.162670060134,
          -42315.162547979744,
          -42315.16203832849,
          -42315.16006314615,
          -42315.15293185749,
          -42315.12886678632,
          -42315.05272648597,
          -42314.8261969622,
          -42314.19068693452,
          -42312.50511548645,
          -42308.26791696356,
          -42298.148829492755,
          -42275.13933481103,
          -42225.21637492065,
          -42121.65426667756,
          -41915.8533795827,
          -41523.35343751956,
          -40803.6681025167,
          -39532.8357110072,
          -37368.23409698165,
          -33806.30496476657,
          -28135.32761972947,
          -19387.101713649598,
          -6293.052365744408,
          12748.512112190523,
          39686.85334277688,
          76808.51652027403,
          126697.73491611973,
          192165.89818801047,
          276152.0934874734,
          381600.5114252297,
          511323.8194530112,
          667863.8773530956,
          853362.0082593721,
          1069450.2982832578,
          1317173.2047332893,
          1596945.470053367,
          1908548.4842724605,
          2251163.3816713286,
          2623435.813045409,
          3023564.8848648,
          3449407.40329964,
          3898588.3220882025,
          4368609.028703067,
          4856946.5652075345,
          5361138.770132379,
          5878852.350619942
         ],
         "yaxis": "y"
        },
        {
         "name": "EUA Mar25 90C",
         "type": "scatter",
         "x": [
          20,
          21,
          22,
          23,
          24,
          25,
          26,
          27,
          28,
          29,
          30,
          31,
          32,
          33,
          34,
          35,
          36,
          37,
          38,
          39,
          40,
          41,
          42,
          43,
          44,
          45,
          46,
          47,
          48,
          49,
          50,
          51,
          52,
          53,
          54,
          55,
          56,
          57,
          58,
          59,
          60,
          61,
          62,
          63,
          64,
          65,
          66,
          67,
          68,
          69,
          70,
          71,
          72,
          73,
          74,
          75,
          76,
          77,
          78,
          79,
          80,
          81,
          82,
          83,
          84,
          85,
          86,
          87,
          88,
          89,
          90,
          91,
          92,
          93,
          94,
          95,
          96,
          97,
          98,
          99,
          100
         ],
         "xaxis": "x2",
         "y": [
          5.8744410456251145e-74,
          5.180766605762553e-69,
          1.898511326806454e-64,
          3.1735847269321354e-60,
          2.621829847899157e-56,
          1.1472327597101085e-52,
          2.823817519300484e-49,
          4.1210928882744986e-46,
          3.734681343371109e-43,
          2.1891542176451596e-40,
          8.605639814840153e-38,
          2.3428645986281418e-35,
          4.546210295303415e-33,
          6.451750276777647e-31,
          6.853178447099045e-29,
          5.563762162037471e-27,
          3.5181776032510534e-25,
          1.7627398949452119e-23,
          7.108120111169294e-22,
          2.339884392747195e-20,
          6.370189938116306e-19,
          1.4514406652145533e-17,
          2.7982141542006845e-16,
          4.610649282822409e-15,
          6.553368723661998e-14,
          8.104034695944143e-13,
          8.788314801011394e-12,
          8.418951592413837e-11,
          7.173141403592429e-10,
          5.470183040814193e-09,
          3.7556693080252674e-08,
          2.334233101892652e-07,
          1.3200555522801561e-06,
          6.8250485389804275e-06,
          3.2406047759781265e-05,
          0.00014189663152506813,
          0.0005752415137040267,
          0.0021670220254838726,
          0.007612350681303854,
          0.025017038203730784,
          0.07715295208853368,
          0.2239398710918736,
          0.6134307869889426,
          1.5899503779578206,
          3.908897635281912,
          9.13674007139351,
          20.349638380803846,
          43.27780353977687,
          88.0617574331749,
          171.77215754359037,
          321.7757319055379,
          579.8900757994262,
          1007.0576706243746,
          1688.005307040145,
          2735.086598022573,
          4290.302261742828,
          6524.4334622503475,
          9632.372520013647,
          13824.120713132555,
          19311.518278802814,
          26291.49197789093,
          34927.31943558189,
          45329.96726482355,
          57541.829678714515,
          71525.09556445944,
          87156.49837706616,
          104229.42596446638,
          122463.41995694657,
          141520.14194930485,
          161024.08717038692,
          180585.8089344026,
          199825.2427546267,
          218392.8852746479,
          235987.0297308696,
          252365.88689507154,
          267354.113427751,
          280843.92091738153,
          292791.4660042473,
          303209.57635189826,
          312158.03544501174,
          319732.64761180885
         ],
         "yaxis": "y2"
        },
        {
         "mode": "lines",
         "name": "Total_PnL",
         "type": "scatter",
         "x": [
          20,
          21,
          22,
          23,
          24,
          25,
          26,
          27,
          28,
          29,
          30,
          31,
          32,
          33,
          34,
          35,
          36,
          37,
          38,
          39,
          40,
          41,
          42,
          43,
          44,
          45,
          46,
          47,
          48,
          49,
          50,
          51,
          52,
          53,
          54,
          55,
          56,
          57,
          58,
          59,
          60,
          61,
          62,
          63,
          64,
          65,
          66,
          67,
          68,
          69,
          70,
          71,
          72,
          73,
          74,
          75,
          76,
          77,
          78,
          79,
          80,
          81,
          82,
          83,
          84,
          85,
          86,
          87,
          88,
          89,
          90,
          91,
          92,
          93,
          94,
          95,
          96,
          97,
          98,
          99,
          100
         ],
         "xaxis": "x",
         "y": [
          -703588.5084591393,
          -703588.5084591393,
          -703588.5084591393,
          -703588.5084591393,
          -703588.5084591393,
          -703588.5084591393,
          -703588.5084591393,
          -703588.5084591393,
          -703588.5084591393,
          -703588.5084591393,
          -703588.5084591393,
          -703588.5084591393,
          -703588.5084591393,
          -703588.5084591393,
          -703588.5084591393,
          -703588.5084591393,
          -703588.5084591393,
          -703588.5084591393,
          -703588.5084591393,
          -703588.5084591393,
          -703588.5084591393,
          -703588.5084591391,
          -703588.5084591378,
          -703588.5084591227,
          -703588.5084589884,
          -703588.5084579333,
          -703588.5084506345,
          -703588.5084058145,
          -703588.5081598356,
          -703588.5069456152,
          -703588.5015223451,
          -703588.47948189,
          -703588.3975481659,
          -703588.1175562838,
          -703587.2338453467,
          -703584.646264766,
          -703577.5873333528,
          -703559.573639858,
          -703516.4053424787,
          -703418.8988698063,
          -703210.5700427106,
          -702788.1060180961,
          -701972.3333827814,
          -700467.6681759821,
          -697808.8355366897,
          -693294.9922192227,
          -685913.1781199902,
          -674255.0592541842,
          -656432.9270034381,
          -630002.5816927184,
          -591901.7631636742,
          -538412.9609594755,
          -465158.59412199707,
          -367134.66929207137,
          -238786.22775666806,
          -74124.45232629072,
          133118.37798644628,
          389303.36699631065,
          700679.0236097157,
          1073166.8052499255,
          1512150.911295013,
          2022284.6976426262,
          2607324.7592717,
          3270001.657481157,
          4011933.6969215088,
          4833587.31577473,
          5734284.743195442,
          6712256.77774293,
          7764736.007516808,
          8888083.672503715,
          10077941.790246777,
          11329401.225029953,
          12637176.129418463,
          13995775.61680632,
          15399664.562432706,
          16843406.948929906,
          18321787.00117953,
          19829905.30671822,
          21363249.011330094,
          22917736.861582078,
          24489741.226003516
         ],
         "yaxis": "y"
        },
        {
         "mode": "lines",
         "name": "Total_Delta",
         "type": "scatter",
         "x": [
          20,
          21,
          22,
          23,
          24,
          25,
          26,
          27,
          28,
          29,
          30,
          31,
          32,
          33,
          34,
          35,
          36,
          37,
          38,
          39,
          40,
          41,
          42,
          43,
          44,
          45,
          46,
          47,
          48,
          49,
          50,
          51,
          52,
          53,
          54,
          55,
          56,
          57,
          58,
          59,
          60,
          61,
          62,
          63,
          64,
          65,
          66,
          67,
          68,
          69,
          70,
          71,
          72,
          73,
          74,
          75,
          76,
          77,
          78,
          79,
          80,
          81,
          82,
          83,
          84,
          85,
          86,
          87,
          88,
          89,
          90,
          91,
          92,
          93,
          94,
          95,
          96,
          97,
          98,
          99,
          100
         ],
         "xaxis": "x2",
         "y": [
          2.184775950668998e-61,
          9.917013334685689e-57,
          1.8808300646120474e-52,
          1.6372599764620307e-48,
          7.090683822173585e-45,
          1.6378761039601266e-41,
          2.1435895217894633e-38,
          1.6756649324611132e-35,
          8.194638241110311e-33,
          2.6115712411355618e-30,
          5.623484380131982e-28,
          8.448913222734477e-26,
          9.114783517154056e-24,
          7.244350881472338e-22,
          4.340959704907494e-20,
          2.0023586744323083e-18,
          7.244982177105923e-17,
          2.091598781440583e-15,
          4.893250236460629e-14,
          9.40870729070285e-13,
          1.5061954599277088e-11,
          2.0313503744885912e-10,
          2.3332023928110685e-09,
          2.3052560725797575e-08,
          1.9773458355454973e-07,
          1.485037400136634e-06,
          9.842512263278537e-06,
          5.799175835403767e-05,
          0.00030582731794402234,
          0.0014527672807614124,
          0.00625327835854269,
          0.024526390716020273,
          0.08811548914848072,
          0.2914158448634469,
          0.8913537162877573,
          2.532751697547163,
          6.713925787907867,
          16.67065220664428,
          38.92188004135747,
          85.76325332017174,
          178.98149115552187,
          354.96241544070324,
          671.1625192694686,
          1213.6215761592064,
          2104.8567152898813,
          3511.163888953176,
          5648.132314010249,
          8783.108465752812,
          13233.459769411931,
          19359.787367359822,
          27553.70055598285,
          38220.349352448015,
          51756.551850355754,
          68525.96579465814,
          88833.24423103493,
          112899.39482917046,
          140840.57293212292,
          172652.2696779639,
          208200.3529816671,
          247219.76742598828,
          289321.0036232885,
          334003.8032524188,
          380677.0383915632,
          428683.3230943567,
          477326.6823614957,
          525901.5037690862,
          573721.0120398693,
          620143.623226772,
          664595.7442740898,
          706589.8772277395,
          745737.2513537756,
          781754.617403831,
          814465.263183767,
          843794.7097375293,
          869761.8848557968,
          892466.814644672,
          912076.0064142838,
          928806.7138949449,
          942911.189721836,
          954661.8623719872,
          964338.1540224656
         ],
         "yaxis": "y2"
        }
       ],
       "layout": {
        "barmode": "stack",
        "template": {
         "data": {
          "bar": [
           {
            "error_x": {
             "color": "#2a3f5f"
            },
            "error_y": {
             "color": "#2a3f5f"
            },
            "marker": {
             "line": {
              "color": "#E5ECF6",
              "width": 0.5
             },
             "pattern": {
              "fillmode": "overlay",
              "size": 10,
              "solidity": 0.2
             }
            },
            "type": "bar"
           }
          ],
          "barpolar": [
           {
            "marker": {
             "line": {
              "color": "#E5ECF6",
              "width": 0.5
             },
             "pattern": {
              "fillmode": "overlay",
              "size": 10,
              "solidity": 0.2
             }
            },
            "type": "barpolar"
           }
          ],
          "carpet": [
           {
            "aaxis": {
             "endlinecolor": "#2a3f5f",
             "gridcolor": "white",
             "linecolor": "white",
             "minorgridcolor": "white",
             "startlinecolor": "#2a3f5f"
            },
            "baxis": {
             "endlinecolor": "#2a3f5f",
             "gridcolor": "white",
             "linecolor": "white",
             "minorgridcolor": "white",
             "startlinecolor": "#2a3f5f"
            },
            "type": "carpet"
           }
          ],
          "choropleth": [
           {
            "colorbar": {
             "outlinewidth": 0,
             "ticks": ""
            },
            "type": "choropleth"
           }
          ],
          "contour": [
           {
            "colorbar": {
             "outlinewidth": 0,
             "ticks": ""
            },
            "colorscale": [
             [
              0,
              "#0d0887"
             ],
             [
              0.1111111111111111,
              "#46039f"
             ],
             [
              0.2222222222222222,
              "#7201a8"
             ],
             [
              0.3333333333333333,
              "#9c179e"
             ],
             [
              0.4444444444444444,
              "#bd3786"
             ],
             [
              0.5555555555555556,
              "#d8576b"
             ],
             [
              0.6666666666666666,
              "#ed7953"
             ],
             [
              0.7777777777777778,
              "#fb9f3a"
             ],
             [
              0.8888888888888888,
              "#fdca26"
             ],
             [
              1,
              "#f0f921"
             ]
            ],
            "type": "contour"
           }
          ],
          "contourcarpet": [
           {
            "colorbar": {
             "outlinewidth": 0,
             "ticks": ""
            },
            "type": "contourcarpet"
           }
          ],
          "heatmap": [
           {
            "colorbar": {
             "outlinewidth": 0,
             "ticks": ""
            },
            "colorscale": [
             [
              0,
              "#0d0887"
             ],
             [
              0.1111111111111111,
              "#46039f"
             ],
             [
              0.2222222222222222,
              "#7201a8"
             ],
             [
              0.3333333333333333,
              "#9c179e"
             ],
             [
              0.4444444444444444,
              "#bd3786"
             ],
             [
              0.5555555555555556,
              "#d8576b"
             ],
             [
              0.6666666666666666,
              "#ed7953"
             ],
             [
              0.7777777777777778,
              "#fb9f3a"
             ],
             [
              0.8888888888888888,
              "#fdca26"
             ],
             [
              1,
              "#f0f921"
             ]
            ],
            "type": "heatmap"
           }
          ],
          "heatmapgl": [
           {
            "colorbar": {
             "outlinewidth": 0,
             "ticks": ""
            },
            "colorscale": [
             [
              0,
              "#0d0887"
             ],
             [
              0.1111111111111111,
              "#46039f"
             ],
             [
              0.2222222222222222,
              "#7201a8"
             ],
             [
              0.3333333333333333,
              "#9c179e"
             ],
             [
              0.4444444444444444,
              "#bd3786"
             ],
             [
              0.5555555555555556,
              "#d8576b"
             ],
             [
              0.6666666666666666,
              "#ed7953"
             ],
             [
              0.7777777777777778,
              "#fb9f3a"
             ],
             [
              0.8888888888888888,
              "#fdca26"
             ],
             [
              1,
              "#f0f921"
             ]
            ],
            "type": "heatmapgl"
           }
          ],
          "histogram": [
           {
            "marker": {
             "pattern": {
              "fillmode": "overlay",
              "size": 10,
              "solidity": 0.2
             }
            },
            "type": "histogram"
           }
          ],
          "histogram2d": [
           {
            "colorbar": {
             "outlinewidth": 0,
             "ticks": ""
            },
            "colorscale": [
             [
              0,
              "#0d0887"
             ],
             [
              0.1111111111111111,
              "#46039f"
             ],
             [
              0.2222222222222222,
              "#7201a8"
             ],
             [
              0.3333333333333333,
              "#9c179e"
             ],
             [
              0.4444444444444444,
              "#bd3786"
             ],
             [
              0.5555555555555556,
              "#d8576b"
             ],
             [
              0.6666666666666666,
              "#ed7953"
             ],
             [
              0.7777777777777778,
              "#fb9f3a"
             ],
             [
              0.8888888888888888,
              "#fdca26"
             ],
             [
              1,
              "#f0f921"
             ]
            ],
            "type": "histogram2d"
           }
          ],
          "histogram2dcontour": [
           {
            "colorbar": {
             "outlinewidth": 0,
             "ticks": ""
            },
            "colorscale": [
             [
              0,
              "#0d0887"
             ],
             [
              0.1111111111111111,
              "#46039f"
             ],
             [
              0.2222222222222222,
              "#7201a8"
             ],
             [
              0.3333333333333333,
              "#9c179e"
             ],
             [
              0.4444444444444444,
              "#bd3786"
             ],
             [
              0.5555555555555556,
              "#d8576b"
             ],
             [
              0.6666666666666666,
              "#ed7953"
             ],
             [
              0.7777777777777778,
              "#fb9f3a"
             ],
             [
              0.8888888888888888,
              "#fdca26"
             ],
             [
              1,
              "#f0f921"
             ]
            ],
            "type": "histogram2dcontour"
           }
          ],
          "mesh3d": [
           {
            "colorbar": {
             "outlinewidth": 0,
             "ticks": ""
            },
            "type": "mesh3d"
           }
          ],
          "parcoords": [
           {
            "line": {
             "colorbar": {
              "outlinewidth": 0,
              "ticks": ""
             }
            },
            "type": "parcoords"
           }
          ],
          "pie": [
           {
            "automargin": true,
            "type": "pie"
           }
          ],
          "scatter": [
           {
            "fillpattern": {
             "fillmode": "overlay",
             "size": 10,
             "solidity": 0.2
            },
            "type": "scatter"
           }
          ],
          "scatter3d": [
           {
            "line": {
             "colorbar": {
              "outlinewidth": 0,
              "ticks": ""
             }
            },
            "marker": {
             "colorbar": {
              "outlinewidth": 0,
              "ticks": ""
             }
            },
            "type": "scatter3d"
           }
          ],
          "scattercarpet": [
           {
            "marker": {
             "colorbar": {
              "outlinewidth": 0,
              "ticks": ""
             }
            },
            "type": "scattercarpet"
           }
          ],
          "scattergeo": [
           {
            "marker": {
             "colorbar": {
              "outlinewidth": 0,
              "ticks": ""
             }
            },
            "type": "scattergeo"
           }
          ],
          "scattergl": [
           {
            "marker": {
             "colorbar": {
              "outlinewidth": 0,
              "ticks": ""
             }
            },
            "type": "scattergl"
           }
          ],
          "scattermapbox": [
           {
            "marker": {
             "colorbar": {
              "outlinewidth": 0,
              "ticks": ""
             }
            },
            "type": "scattermapbox"
           }
          ],
          "scatterpolar": [
           {
            "marker": {
             "colorbar": {
              "outlinewidth": 0,
              "ticks": ""
             }
            },
            "type": "scatterpolar"
           }
          ],
          "scatterpolargl": [
           {
            "marker": {
             "colorbar": {
              "outlinewidth": 0,
              "ticks": ""
             }
            },
            "type": "scatterpolargl"
           }
          ],
          "scatterternary": [
           {
            "marker": {
             "colorbar": {
              "outlinewidth": 0,
              "ticks": ""
             }
            },
            "type": "scatterternary"
           }
          ],
          "surface": [
           {
            "colorbar": {
             "outlinewidth": 0,
             "ticks": ""
            },
            "colorscale": [
             [
              0,
              "#0d0887"
             ],
             [
              0.1111111111111111,
              "#46039f"
             ],
             [
              0.2222222222222222,
              "#7201a8"
             ],
             [
              0.3333333333333333,
              "#9c179e"
             ],
             [
              0.4444444444444444,
              "#bd3786"
             ],
             [
              0.5555555555555556,
              "#d8576b"
             ],
             [
              0.6666666666666666,
              "#ed7953"
             ],
             [
              0.7777777777777778,
              "#fb9f3a"
             ],
             [
              0.8888888888888888,
              "#fdca26"
             ],
             [
              1,
              "#f0f921"
             ]
            ],
            "type": "surface"
           }
          ],
          "table": [
           {
            "cells": {
             "fill": {
              "color": "#EBF0F8"
             },
             "line": {
              "color": "white"
             }
            },
            "header": {
             "fill": {
              "color": "#C8D4E3"
             },
             "line": {
              "color": "white"
             }
            },
            "type": "table"
           }
          ]
         },
         "layout": {
          "annotationdefaults": {
           "arrowcolor": "#2a3f5f",
           "arrowhead": 0,
           "arrowwidth": 1
          },
          "autotypenumbers": "strict",
          "coloraxis": {
           "colorbar": {
            "outlinewidth": 0,
            "ticks": ""
           }
          },
          "colorscale": {
           "diverging": [
            [
             0,
             "#8e0152"
            ],
            [
             0.1,
             "#c51b7d"
            ],
            [
             0.2,
             "#de77ae"
            ],
            [
             0.3,
             "#f1b6da"
            ],
            [
             0.4,
             "#fde0ef"
            ],
            [
             0.5,
             "#f7f7f7"
            ],
            [
             0.6,
             "#e6f5d0"
            ],
            [
             0.7,
             "#b8e186"
            ],
            [
             0.8,
             "#7fbc41"
            ],
            [
             0.9,
             "#4d9221"
            ],
            [
             1,
             "#276419"
            ]
           ],
           "sequential": [
            [
             0,
             "#0d0887"
            ],
            [
             0.1111111111111111,
             "#46039f"
            ],
            [
             0.2222222222222222,
             "#7201a8"
            ],
            [
             0.3333333333333333,
             "#9c179e"
            ],
            [
             0.4444444444444444,
             "#bd3786"
            ],
            [
             0.5555555555555556,
             "#d8576b"
            ],
            [
             0.6666666666666666,
             "#ed7953"
            ],
            [
             0.7777777777777778,
             "#fb9f3a"
            ],
            [
             0.8888888888888888,
             "#fdca26"
            ],
            [
             1,
             "#f0f921"
            ]
           ],
           "sequentialminus": [
            [
             0,
             "#0d0887"
            ],
            [
             0.1111111111111111,
             "#46039f"
            ],
            [
             0.2222222222222222,
             "#7201a8"
            ],
            [
             0.3333333333333333,
             "#9c179e"
            ],
            [
             0.4444444444444444,
             "#bd3786"
            ],
            [
             0.5555555555555556,
             "#d8576b"
            ],
            [
             0.6666666666666666,
             "#ed7953"
            ],
            [
             0.7777777777777778,
             "#fb9f3a"
            ],
            [
             0.8888888888888888,
             "#fdca26"
            ],
            [
             1,
             "#f0f921"
            ]
           ]
          },
          "colorway": [
           "#636efa",
           "#EF553B",
           "#00cc96",
           "#ab63fa",
           "#FFA15A",
           "#19d3f3",
           "#FF6692",
           "#B6E880",
           "#FF97FF",
           "#FECB52"
          ],
          "font": {
           "color": "#2a3f5f"
          },
          "geo": {
           "bgcolor": "white",
           "lakecolor": "white",
           "landcolor": "#E5ECF6",
           "showlakes": true,
           "showland": true,
           "subunitcolor": "white"
          },
          "hoverlabel": {
           "align": "left"
          },
          "hovermode": "closest",
          "mapbox": {
           "style": "light"
          },
          "paper_bgcolor": "white",
          "plot_bgcolor": "#E5ECF6",
          "polar": {
           "angularaxis": {
            "gridcolor": "white",
            "linecolor": "white",
            "ticks": ""
           },
           "bgcolor": "#E5ECF6",
           "radialaxis": {
            "gridcolor": "white",
            "linecolor": "white",
            "ticks": ""
           }
          },
          "scene": {
           "xaxis": {
            "backgroundcolor": "#E5ECF6",
            "gridcolor": "white",
            "gridwidth": 2,
            "linecolor": "white",
            "showbackground": true,
            "ticks": "",
            "zerolinecolor": "white"
           },
           "yaxis": {
            "backgroundcolor": "#E5ECF6",
            "gridcolor": "white",
            "gridwidth": 2,
            "linecolor": "white",
            "showbackground": true,
            "ticks": "",
            "zerolinecolor": "white"
           },
           "zaxis": {
            "backgroundcolor": "#E5ECF6",
            "gridcolor": "white",
            "gridwidth": 2,
            "linecolor": "white",
            "showbackground": true,
            "ticks": "",
            "zerolinecolor": "white"
           }
          },
          "shapedefaults": {
           "line": {
            "color": "#2a3f5f"
           }
          },
          "ternary": {
           "aaxis": {
            "gridcolor": "white",
            "linecolor": "white",
            "ticks": ""
           },
           "baxis": {
            "gridcolor": "white",
            "linecolor": "white",
            "ticks": ""
           },
           "bgcolor": "#E5ECF6",
           "caxis": {
            "gridcolor": "white",
            "linecolor": "white",
            "ticks": ""
           }
          },
          "title": {
           "x": 0.05
          },
          "xaxis": {
           "automargin": true,
           "gridcolor": "white",
           "linecolor": "white",
           "ticks": "",
           "title": {
            "standoff": 15
           },
           "zerolinecolor": "white",
           "zerolinewidth": 2
          },
          "yaxis": {
           "automargin": true,
           "gridcolor": "white",
           "linecolor": "white",
           "ticks": "",
           "title": {
            "standoff": 15
           },
           "zerolinecolor": "white",
           "zerolinewidth": 2
          }
         }
        },
        "title": {
         "text": "Todays Option Pos (PnL and Delta)",
         "x": 0.5,
         "xanchor": "center"
        },
        "xaxis": {
         "anchor": "y",
         "domain": [
          0,
          0.45
         ],
         "title": {
          "text": "Price"
         }
        },
        "xaxis2": {
         "anchor": "y2",
         "domain": [
          0.55,
          1
         ],
         "title": {
          "text": "Price"
         }
        },
        "yaxis": {
         "anchor": "x",
         "domain": [
          0,
          1
         ],
         "title": {
          "text": "Pnl"
         }
        },
        "yaxis2": {
         "anchor": "x2",
         "domain": [
          0,
          1
         ],
         "title": {
          "text": "Delta"
         }
        }
       }
      },
      "text/html": [
       "<div>                            <div id=\"b4d9831b-5bcd-454e-bfce-b78b05f6c071\" class=\"plotly-graph-div\" style=\"height:525px; width:100%;\"></div>            <script type=\"text/javascript\">                require([\"plotly\"], function(Plotly) {                    window.PLOTLYENV=window.PLOTLYENV || {};                                    if (document.getElementById(\"b4d9831b-5bcd-454e-bfce-b78b05f6c071\")) {                    Plotly.newPlot(                        \"b4d9831b-5bcd-454e-bfce-b78b05f6c071\",                        [{\"name\":\"EUA Mar25 75C\",\"x\":[20,21,22,23,24,25,26,27,28,29,30,31,32,33,34,35,36,37,38,39,40,41,42,43,44,45,46,47,48,49,50,51,52,53,54,55,56,57,58,59,60,61,62,63,64,65,66,67,68,69,70,71,72,73,74,75,76,77,78,79,80,81,82,83,84,85,86,87,88,89,90,91,92,93,94,95,96,97,98,99,100],\"y\":[-247685.6730499249,-247685.6730499249,-247685.6730499249,-247685.6730499249,-247685.6730499249,-247685.6730499249,-247685.6730499249,-247685.6730499249,-247685.6730499249,-247685.6730499249,-247685.6730499249,-247685.6730499249,-247685.6730499249,-247685.6730499249,-247685.6730499249,-247685.6730499249,-247685.6730499249,-247685.6730499249,-247685.6730499249,-247685.6730499249,-247685.6730499249,-247685.6730499248,-247685.67304992332,-247685.6730499084,-247685.6730497743,-247685.6730487224,-247685.67304145274,-247685.6729968726,-247685.67275264394,-247685.6715498121,-247685.66619301477,-247685.6445026639,-247685.5642419024,-247685.29153993854,-247684.4369349868,-247681.9563132056,-247675.2606796224,-247658.39211565317,-247618.58607030904,-247530.30830967086,-247345.74016506984,-246980.84436506813,-246296.72921644684,-245077.11270037392,-243004.17498889912,-239636.6710123532,-234395.3721198743,-226561.19241501117,-215290.35548967126,-199648.62534408382,-178663.32997088437,-151388.36823446254,-116974.48363055891,-74735.57053798628,-24202.056911947904,34845.58031470964,102366.86089090155,178074.87827941403,261469.984586613,351887.7271490074,448554.03731629776,550640.8173088855,657316.2386997843,767785.8417119405,881322.4711075183,997284.841024127,1115125.8570154433,1234392.6476860447,1354720.595133299,1475823.601997932,1597482.524156146,1719533.260154712,1841855.5252406609,1964362.919737881,2086994.5663100223,2209708.349706518,2332475.6394974375,2455277.295017278,2578100.7230022303,2700937.763985518,2823783.208433376],\"type\":\"scatter\",\"xaxis\":\"x\",\"yaxis\":\"y\"},{\"name\":\"EUA Mar25 75C\",\"x\":[20,21,22,23,24,25,26,27,28,29,30,31,32,33,34,35,36,37,38,39,40,41,42,43,44,45,46,47,48,49,50,51,52,53,54,55,56,57,58,59,60,61,62,63,64,65,66,67,68,69,70,71,72,73,74,75,76,77,78,79,80,81,82,83,84,85,86,87,88,89,90,91,92,93,94,95,96,97,98,99,100],\"y\":[2.1847759364259357e-61,9.917013176762018e-57,1.8808299952788776e-52,1.6372598433581675e-48,7.090682605463602e-45,1.637875533954946e-41,2.1435880628998397e-38,1.6756627753930098e-35,8.194618890765722e-33,2.6115602442240774e-30,5.623443242451327e-28,8.448808416760326e-26,9.114596055344152e-24,7.244108974456218e-22,4.3407289108632673e-20,2.0021922462692907e-18,7.244056790863118e-17,2.0911947891759045e-15,4.8918424959794474e-14,9.40473277270995e-13,1.5052737195068032e-11,2.029572327502551e-10,2.330316450039355e-09,2.301272806300036e-08,1.9726248353534678e-07,1.4801891806587995e-06,9.799011085466269e-06,5.7648088274832784e-05,0.0003034195453473633,0.001437707617863698,0.006168665577791211,0.024096861889579334,0.0861347153125832,0.28307587044249694,0.8591395880699604,2.4180895861117713,6.336256459258411,15.514954583562183,35.623922281519405,76.9556987949102,156.8944830762506,302.7853765324498,554.6944963265256,967.2547503643451,1609.6181517143407,2562.6113040991722,3912.5915941437624,5742.198153181829,8119.031570824936,11084.039027592364,14641.777174109877,18754.608321243064,23342.243033655548,28287.024784810437,33444.22557574771,38655.676809346805,43764.52183308943,48628.84110074261,53132.321546416286,57190.863319664386,60754.83582467913,63807.42189060558,66359.99470921252,68445.70610449738,70112.44713522473,71416.14087652396,72415.02901857255,73165.29910608174,73718.12672413782,74118.00872009345,74402.14731286901,74600.60103813726,74736.92810952174,74829.08997446274,74890.43919170718,74930.67271621409,74956.68101071648,74973.26141489361,74983.69045053843,74990.16571324314,74994.13603453687],\"type\":\"scatter\",\"xaxis\":\"x2\",\"yaxis\":\"y2\"},{\"name\":\"EUA Mar25 80C\",\"x\":[20,21,22,23,24,25,26,27,28,29,30,31,32,33,34,35,36,37,38,39,40,41,42,43,44,45,46,47,48,49,50,51,52,53,54,55,56,57,58,59,60,61,62,63,64,65,66,67,68,69,70,71,72,73,74,75,76,77,78,79,80,81,82,83,84,85,86,87,88,89,90,91,92,93,94,95,96,97,98,99,100],\"y\":[-293042.3457475392,-293042.3457475392,-293042.3457475392,-293042.3457475392,-293042.3457475392,-293042.3457475392,-293042.3457475392,-293042.3457475392,-293042.3457475392,-293042.3457475392,-293042.3457475392,-293042.3457475392,-293042.3457475392,-293042.3457475392,-293042.3457475392,-293042.3457475392,-293042.3457475392,-293042.3457475392,-293042.3457475392,-293042.3457475392,-293042.3457475392,-293042.3457475392,-293042.3457475392,-293042.3457475392,-293042.3457475389,-293042.34574753576,-293042.3457475069,-293042.3457472687,-293042.3457455329,-293042.3457342551,-293042.34566853876,-293042.3453230901,-293042.3436760827,-293042.3365179045,-293042.3080235742,-293042.2036740711,-293041.8506465455,-293040.74296200776,-293037.5076396697,-293028.68035750545,-293006.1080865201,-292951.84349046485,-292828.83504278684,-292565.1716822207,-292029.3486270112,-290994.31143973,-289089.2443961133,-285740.3900982811,-280105.5030557652,-271010.311095487,-256898.64682573857,-235809.5813270889,-205393.9565361315,-162978.71421871128,-105680.69908493102,-30563.340361605697,65178.46430165162,184025.96804196102,327959.9341287865,498321.3781976658,695725.964176297,920040.3696247486,1170420.0830957494,1445400.0677253765,1743023.8749007084,2060993.849137381,2396825.0776037006,2747988.185298747,3112030.0956219905,3486666.5078433836,3869844.246179219,4259775.216155767,4654946.161141183,5054109.708167606,5456262.483051543,5860615.622395327,6266562.104510833,6673644.22388729,7081523.444728101,7489953.917571728,7898760.193306201],\"type\":\"scatter\",\"xaxis\":\"x\",\"yaxis\":\"y\"},{\"name\":\"EUA Mar25 80C\",\"x\":[20,21,22,23,24,25,26,27,28,29,30,31,32,33,34,35,36,37,38,39,40,41,42,43,44,45,46,47,48,49,50,51,52,53,54,55,56,57,58,59,60,61,62,63,64,65,66,67,68,69,70,71,72,73,74,75,76,77,78,79,80,81,82,83,84,85,86,87,88,89,90,91,92,93,94,95,96,97,98,99,100],\"y\":[1.4241687821424307e-69,1.5790795769670293e-64,6.932568220122561e-60,1.3308770541300082e-55,1.2165400749123475e-51,5.699122053106167e-48,1.458608873581256e-44,2.1565751667674296e-41,1.9345071680586621e-38,1.0993329062723782e-35,4.1121636356398546e-33,1.0475700364794568e-30,1.8735686059598082e-28,2.4174479474427692e-26,2.306087671497139e-24,1.6626835120685853e-22,9.243243905413638e-21,4.0343892590658464e-19,1.4054417273554385e-17,3.9667903427925225e-16,9.196094389081678e-15,1.7731658960619555e-13,2.8765489716009013e-12,3.967915271748955e-11,4.699490806985865e-10,4.8221450299695154e-09,4.322543381636942e-08,3.4110651888540516e-07,2.3866702973836425e-06,1.4904835279276345e-05,8.359399193689532e-05,0.0004234818235187461,0.0019482236154501895,0.00818027205990761,0.031496566126067715,0.11169647284855462,0.3663481779181599,1.1156227429549135,3.165931537314635,8.40133515901473,20.915902628757802,49.00373459143036,108.36248036255961,226.7956980814554,450.4506069898717,851.1634062843789,1533.8410925475796,2642.126312117297,4360.104164359681,6907.784842465411,10528.733501134146,15469.544094454302,21952.656054611693,30145.866802677112,40133.27418640532,51892.835088986874,65285.0243503231,80055.31660602757,95850.78874547115,112248.6299073689,128792.33355107198,145030.257343399,160551.23462539044,175012.89324089774,188159.96099009443,199831.69322979226,209959.2509538342,218555.10211676816,225697.182481643,231510.64860996007,236149.70519206193,239781.36511390447,242572.27933766771,244679.09725162867,246242.27805042808,247382.90927084442,248201.89701668144,248780.84365344557,249183.98057131463,249460.6332595998,249647.82761368193],\"type\":\"scatter\",\"xaxis\":\"x2\",\"yaxis\":\"y2\"},{\"name\":\"EUA Mar25 85C\",\"x\":[20,21,22,23,24,25,26,27,28,29,30,31,32,33,34,35,36,37,38,39,40,41,42,43,44,45,46,47,48,49,50,51,52,53,54,55,56,57,58,59,60,61,62,63,64,65,66,67,68,69,70,71,72,73,74,75,76,77,78,79,80,81,82,83,84,85,86,87,88,89,90,91,92,93,94,95,96,97,98,99,100],\"y\":[-120545.32695780632,-120545.32695780632,-120545.32695780632,-120545.32695780632,-120545.32695780632,-120545.32695780632,-120545.32695780632,-120545.32695780632,-120545.32695780632,-120545.32695780632,-120545.32695780632,-120545.32695780632,-120545.32695780632,-120545.32695780632,-120545.32695780632,-120545.32695780632,-120545.32695780632,-120545.32695780632,-120545.32695780632,-120545.32695780632,-120545.32695780632,-120545.32695780632,-120545.32695780632,-120545.32695780632,-120545.32695780632,-120545.32695780632,-120545.32695780613,-120545.3269578045,-120545.32695779047,-120545.32695768359,-120545.32695695465,-120545.32695247582,-120545.32692755407,-120545.32680133414,-120545.3262167256,-120545.32372950956,-120545.31396885635,-120545.27849905101,-120545.15870064237,-120544.7813358436,-120543.66906463474,-120540.59196560101,-120532.5784366132,-120512.87867790104,-120467.0440038159,-120365.86093764682,-120153.42226919156,-119728.26036597132,-118915.41419132412,-117427.79187356484,-114816.43292953163,-110411.34329540735,-103257.3182442995,-92052.1504383922,-75097.16679502255,-50271.364659665196,-15039.845492457283,33495.57304068003,98500.59278212585,183270.84656047547,291062.39328214404,424905.77579287224,587422.5392881559,780663.6545563671,1005986.8394880524,1263984.8061602116,1554469.9312232023,1876513.9364987663,2228535.018478262,2608420.35792911,3013669.5498580458,3441544.264447014,3889211.0613652905,4353867.175855424,4832842.628206341,5323675.57352842,5824160.93508306,6332374.759110585,6846678.278392227,7365706.409892453,7888345.473643997],\"type\":\"scatter\",\"xaxis\":\"x\",\"yaxis\":\"y\"},{\"name\":\"EUA Mar25 85C\",\"x\":[20,21,22,23,24,25,26,27,28,29,30,31,32,33,34,35,36,37,38,39,40,41,42,43,44,45,46,47,48,49,50,51,52,53,54,55,56,57,58,59,60,61,62,63,64,65,66,67,68,69,70,71,72,73,74,75,76,77,78,79,80,81,82,83,84,85,86,87,88,89,90,91,92,93,94,95,96,97,98,99,100],\"y\":[7.869977901818947e-74,1.0531720207472577e-68,5.589382585865558e-64,1.2984105831996584e-59,1.4368899490279841e-55,8.150319418034743e-52,2.5251168987629718e-48,4.517258849466812e-45,4.8994399745135475e-42,3.363506141615906e-39,1.518373443565458e-36,4.662763845873336e-34,1.0040309855390495e-31,1.557696261794345e-29,1.784238983383598e-27,1.5424804850815543e-25,1.0266704876360289e-23,5.357113724384646e-22,2.2276726248300643e-20,7.493661667520905e-19,2.0672800978861074e-17,4.735945911677711e-16,9.113978697124673e-15,1.488994304425344e-13,2.08540481713223e-12,2.5264044395460423e-11,2.669556810991696e-10,2.479370803557865e-09,2.0384985134999137e-08,1.4935743539702702e-07,9.812321215030518e-07,5.8135796120036734e-06,3.1230164895045485e-05,0.00015287731250336996,0.0006851560439693254,0.0028237419553114327,0.010745909217592246,0.037907858101701164,0.12441387184212503,0.38120232804306675,1.0939524984249152,2.9493644457312045,7.4921117933944705,17.981177335447814,40.879058950386856,88.2524384982315,181.34998893810248,355.50619691390824,666.2622767941393,1196.191339758456,2061.4141488332893,3416.3068609512184,5454.59509146414,8405.068900130438,12520.657870859335,18060.580669093957,25266.593286460033,34335.73945118007,45393.12197664711,58468.755920152165,73482.34226964643,90238.80458283234,108435.84179213672,127682.89407024704,147529.17867171703,167497.1712857038,187117.30610299617,205959.80204697547,223660.2931190042,239937.13272729915,254599.58991444216,267547.4084971625,278763.17046192946,288299.4927805683,296263.28071859013,302799.1192298625,308073.5074695044,312261.1428223584,315533.94234808465,318053.0279541326,319963.542762438],\"type\":\"scatter\",\"xaxis\":\"x2\",\"yaxis\":\"y2\"},{\"name\":\"EUA Mar25 90C\",\"x\":[20,21,22,23,24,25,26,27,28,29,30,31,32,33,34,35,36,37,38,39,40,41,42,43,44,45,46,47,48,49,50,51,52,53,54,55,56,57,58,59,60,61,62,63,64,65,66,67,68,69,70,71,72,73,74,75,76,77,78,79,80,81,82,83,84,85,86,87,88,89,90,91,92,93,94,95,96,97,98,99,100],\"y\":[-42315.162703868795,-42315.162703868795,-42315.162703868795,-42315.162703868795,-42315.162703868795,-42315.162703868795,-42315.162703868795,-42315.162703868795,-42315.162703868795,-42315.162703868795,-42315.162703868795,-42315.162703868795,-42315.162703868795,-42315.162703868795,-42315.162703868795,-42315.162703868795,-42315.162703868795,-42315.162703868795,-42315.162703868795,-42315.162703868795,-42315.162703868795,-42315.162703868795,-42315.162703868795,-42315.162703868795,-42315.162703868795,-42315.162703868795,-42315.162703868795,-42315.16270386874,-42315.16270386825,-42315.16270386439,-42315.162703836926,-42315.16270366021,-42315.16270262667,-42315.16269710658,-42315.162670060134,-42315.162547979744,-42315.16203832849,-42315.16006314615,-42315.15293185749,-42315.12886678632,-42315.05272648597,-42314.8261969622,-42314.19068693452,-42312.50511548645,-42308.26791696356,-42298.148829492755,-42275.13933481103,-42225.21637492065,-42121.65426667756,-41915.8533795827,-41523.35343751956,-40803.6681025167,-39532.8357110072,-37368.23409698165,-33806.30496476657,-28135.32761972947,-19387.101713649598,-6293.052365744408,12748.512112190523,39686.85334277688,76808.51652027403,126697.73491611973,192165.89818801047,276152.0934874734,381600.5114252297,511323.8194530112,667863.8773530956,853362.0082593721,1069450.2982832578,1317173.2047332893,1596945.470053367,1908548.4842724605,2251163.3816713286,2623435.813045409,3023564.8848648,3449407.40329964,3898588.3220882025,4368609.028703067,4856946.5652075345,5361138.770132379,5878852.350619942],\"type\":\"scatter\",\"xaxis\":\"x\",\"yaxis\":\"y\"},{\"name\":\"EUA Mar25 90C\",\"x\":[20,21,22,23,24,25,26,27,28,29,30,31,32,33,34,35,36,37,38,39,40,41,42,43,44,45,46,47,48,49,50,51,52,53,54,55,56,57,58,59,60,61,62,63,64,65,66,67,68,69,70,71,72,73,74,75,76,77,78,79,80,81,82,83,84,85,86,87,88,89,90,91,92,93,94,95,96,97,98,99,100],\"y\":[5.8744410456251145e-74,5.180766605762553e-69,1.898511326806454e-64,3.1735847269321354e-60,2.621829847899157e-56,1.1472327597101085e-52,2.823817519300484e-49,4.1210928882744986e-46,3.734681343371109e-43,2.1891542176451596e-40,8.605639814840153e-38,2.3428645986281418e-35,4.546210295303415e-33,6.451750276777647e-31,6.853178447099045e-29,5.563762162037471e-27,3.5181776032510534e-25,1.7627398949452119e-23,7.108120111169294e-22,2.339884392747195e-20,6.370189938116306e-19,1.4514406652145533e-17,2.7982141542006845e-16,4.610649282822409e-15,6.553368723661998e-14,8.104034695944143e-13,8.788314801011394e-12,8.418951592413837e-11,7.173141403592429e-10,5.470183040814193e-09,3.7556693080252674e-08,2.334233101892652e-07,1.3200555522801561e-06,6.8250485389804275e-06,3.2406047759781265e-05,0.00014189663152506813,0.0005752415137040267,0.0021670220254838726,0.007612350681303854,0.025017038203730784,0.07715295208853368,0.2239398710918736,0.6134307869889426,1.5899503779578206,3.908897635281912,9.13674007139351,20.349638380803846,43.27780353977687,88.0617574331749,171.77215754359037,321.7757319055379,579.8900757994262,1007.0576706243746,1688.005307040145,2735.086598022573,4290.302261742828,6524.4334622503475,9632.372520013647,13824.120713132555,19311.518278802814,26291.49197789093,34927.31943558189,45329.96726482355,57541.829678714515,71525.09556445944,87156.49837706616,104229.42596446638,122463.41995694657,141520.14194930485,161024.08717038692,180585.8089344026,199825.2427546267,218392.8852746479,235987.0297308696,252365.88689507154,267354.113427751,280843.92091738153,292791.4660042473,303209.57635189826,312158.03544501174,319732.64761180885],\"type\":\"scatter\",\"xaxis\":\"x2\",\"yaxis\":\"y2\"},{\"mode\":\"lines\",\"name\":\"Total_PnL\",\"x\":[20,21,22,23,24,25,26,27,28,29,30,31,32,33,34,35,36,37,38,39,40,41,42,43,44,45,46,47,48,49,50,51,52,53,54,55,56,57,58,59,60,61,62,63,64,65,66,67,68,69,70,71,72,73,74,75,76,77,78,79,80,81,82,83,84,85,86,87,88,89,90,91,92,93,94,95,96,97,98,99,100],\"y\":[-703588.5084591393,-703588.5084591393,-703588.5084591393,-703588.5084591393,-703588.5084591393,-703588.5084591393,-703588.5084591393,-703588.5084591393,-703588.5084591393,-703588.5084591393,-703588.5084591393,-703588.5084591393,-703588.5084591393,-703588.5084591393,-703588.5084591393,-703588.5084591393,-703588.5084591393,-703588.5084591393,-703588.5084591393,-703588.5084591393,-703588.5084591393,-703588.5084591391,-703588.5084591378,-703588.5084591227,-703588.5084589884,-703588.5084579333,-703588.5084506345,-703588.5084058145,-703588.5081598356,-703588.5069456152,-703588.5015223451,-703588.47948189,-703588.3975481659,-703588.1175562838,-703587.2338453467,-703584.646264766,-703577.5873333528,-703559.573639858,-703516.4053424787,-703418.8988698063,-703210.5700427106,-702788.1060180961,-701972.3333827814,-700467.6681759821,-697808.8355366897,-693294.9922192227,-685913.1781199902,-674255.0592541842,-656432.9270034381,-630002.5816927184,-591901.7631636742,-538412.9609594755,-465158.59412199707,-367134.66929207137,-238786.22775666806,-74124.45232629072,133118.37798644628,389303.36699631065,700679.0236097157,1073166.8052499255,1512150.911295013,2022284.6976426262,2607324.7592717,3270001.657481157,4011933.6969215088,4833587.31577473,5734284.743195442,6712256.77774293,7764736.007516808,8888083.672503715,10077941.790246777,11329401.225029953,12637176.129418463,13995775.61680632,15399664.562432706,16843406.948929906,18321787.00117953,19829905.30671822,21363249.011330094,22917736.861582078,24489741.226003516],\"type\":\"scatter\",\"xaxis\":\"x\",\"yaxis\":\"y\"},{\"mode\":\"lines\",\"name\":\"Total_Delta\",\"x\":[20,21,22,23,24,25,26,27,28,29,30,31,32,33,34,35,36,37,38,39,40,41,42,43,44,45,46,47,48,49,50,51,52,53,54,55,56,57,58,59,60,61,62,63,64,65,66,67,68,69,70,71,72,73,74,75,76,77,78,79,80,81,82,83,84,85,86,87,88,89,90,91,92,93,94,95,96,97,98,99,100],\"y\":[2.184775950668998e-61,9.917013334685689e-57,1.8808300646120474e-52,1.6372599764620307e-48,7.090683822173585e-45,1.6378761039601266e-41,2.1435895217894633e-38,1.6756649324611132e-35,8.194638241110311e-33,2.6115712411355618e-30,5.623484380131982e-28,8.448913222734477e-26,9.114783517154056e-24,7.244350881472338e-22,4.340959704907494e-20,2.0023586744323083e-18,7.244982177105923e-17,2.091598781440583e-15,4.893250236460629e-14,9.40870729070285e-13,1.5061954599277088e-11,2.0313503744885912e-10,2.3332023928110685e-09,2.3052560725797575e-08,1.9773458355454973e-07,1.485037400136634e-06,9.842512263278537e-06,5.799175835403767e-05,0.00030582731794402234,0.0014527672807614124,0.00625327835854269,0.024526390716020273,0.08811548914848072,0.2914158448634469,0.8913537162877573,2.532751697547163,6.713925787907867,16.67065220664428,38.92188004135747,85.76325332017174,178.98149115552187,354.96241544070324,671.1625192694686,1213.6215761592064,2104.8567152898813,3511.163888953176,5648.132314010249,8783.108465752812,13233.459769411931,19359.787367359822,27553.70055598285,38220.349352448015,51756.551850355754,68525.96579465814,88833.24423103493,112899.39482917046,140840.57293212292,172652.2696779639,208200.3529816671,247219.76742598828,289321.0036232885,334003.8032524188,380677.0383915632,428683.3230943567,477326.6823614957,525901.5037690862,573721.0120398693,620143.623226772,664595.7442740898,706589.8772277395,745737.2513537756,781754.617403831,814465.263183767,843794.7097375293,869761.8848557968,892466.814644672,912076.0064142838,928806.7138949449,942911.189721836,954661.8623719872,964338.1540224656],\"type\":\"scatter\",\"xaxis\":\"x2\",\"yaxis\":\"y2\"}],                        {\"template\":{\"data\":{\"histogram2dcontour\":[{\"type\":\"histogram2dcontour\",\"colorbar\":{\"outlinewidth\":0,\"ticks\":\"\"},\"colorscale\":[[0.0,\"#0d0887\"],[0.1111111111111111,\"#46039f\"],[0.2222222222222222,\"#7201a8\"],[0.3333333333333333,\"#9c179e\"],[0.4444444444444444,\"#bd3786\"],[0.5555555555555556,\"#d8576b\"],[0.6666666666666666,\"#ed7953\"],[0.7777777777777778,\"#fb9f3a\"],[0.8888888888888888,\"#fdca26\"],[1.0,\"#f0f921\"]]}],\"choropleth\":[{\"type\":\"choropleth\",\"colorbar\":{\"outlinewidth\":0,\"ticks\":\"\"}}],\"histogram2d\":[{\"type\":\"histogram2d\",\"colorbar\":{\"outlinewidth\":0,\"ticks\":\"\"},\"colorscale\":[[0.0,\"#0d0887\"],[0.1111111111111111,\"#46039f\"],[0.2222222222222222,\"#7201a8\"],[0.3333333333333333,\"#9c179e\"],[0.4444444444444444,\"#bd3786\"],[0.5555555555555556,\"#d8576b\"],[0.6666666666666666,\"#ed7953\"],[0.7777777777777778,\"#fb9f3a\"],[0.8888888888888888,\"#fdca26\"],[1.0,\"#f0f921\"]]}],\"heatmap\":[{\"type\":\"heatmap\",\"colorbar\":{\"outlinewidth\":0,\"ticks\":\"\"},\"colorscale\":[[0.0,\"#0d0887\"],[0.1111111111111111,\"#46039f\"],[0.2222222222222222,\"#7201a8\"],[0.3333333333333333,\"#9c179e\"],[0.4444444444444444,\"#bd3786\"],[0.5555555555555556,\"#d8576b\"],[0.6666666666666666,\"#ed7953\"],[0.7777777777777778,\"#fb9f3a\"],[0.8888888888888888,\"#fdca26\"],[1.0,\"#f0f921\"]]}],\"heatmapgl\":[{\"type\":\"heatmapgl\",\"colorbar\":{\"outlinewidth\":0,\"ticks\":\"\"},\"colorscale\":[[0.0,\"#0d0887\"],[0.1111111111111111,\"#46039f\"],[0.2222222222222222,\"#7201a8\"],[0.3333333333333333,\"#9c179e\"],[0.4444444444444444,\"#bd3786\"],[0.5555555555555556,\"#d8576b\"],[0.6666666666666666,\"#ed7953\"],[0.7777777777777778,\"#fb9f3a\"],[0.8888888888888888,\"#fdca26\"],[1.0,\"#f0f921\"]]}],\"contourcarpet\":[{\"type\":\"contourcarpet\",\"colorbar\":{\"outlinewidth\":0,\"ticks\":\"\"}}],\"contour\":[{\"type\":\"contour\",\"colorbar\":{\"outlinewidth\":0,\"ticks\":\"\"},\"colorscale\":[[0.0,\"#0d0887\"],[0.1111111111111111,\"#46039f\"],[0.2222222222222222,\"#7201a8\"],[0.3333333333333333,\"#9c179e\"],[0.4444444444444444,\"#bd3786\"],[0.5555555555555556,\"#d8576b\"],[0.6666666666666666,\"#ed7953\"],[0.7777777777777778,\"#fb9f3a\"],[0.8888888888888888,\"#fdca26\"],[1.0,\"#f0f921\"]]}],\"surface\":[{\"type\":\"surface\",\"colorbar\":{\"outlinewidth\":0,\"ticks\":\"\"},\"colorscale\":[[0.0,\"#0d0887\"],[0.1111111111111111,\"#46039f\"],[0.2222222222222222,\"#7201a8\"],[0.3333333333333333,\"#9c179e\"],[0.4444444444444444,\"#bd3786\"],[0.5555555555555556,\"#d8576b\"],[0.6666666666666666,\"#ed7953\"],[0.7777777777777778,\"#fb9f3a\"],[0.8888888888888888,\"#fdca26\"],[1.0,\"#f0f921\"]]}],\"mesh3d\":[{\"type\":\"mesh3d\",\"colorbar\":{\"outlinewidth\":0,\"ticks\":\"\"}}],\"scatter\":[{\"fillpattern\":{\"fillmode\":\"overlay\",\"size\":10,\"solidity\":0.2},\"type\":\"scatter\"}],\"parcoords\":[{\"type\":\"parcoords\",\"line\":{\"colorbar\":{\"outlinewidth\":0,\"ticks\":\"\"}}}],\"scatterpolargl\":[{\"type\":\"scatterpolargl\",\"marker\":{\"colorbar\":{\"outlinewidth\":0,\"ticks\":\"\"}}}],\"bar\":[{\"error_x\":{\"color\":\"#2a3f5f\"},\"error_y\":{\"color\":\"#2a3f5f\"},\"marker\":{\"line\":{\"color\":\"#E5ECF6\",\"width\":0.5},\"pattern\":{\"fillmode\":\"overlay\",\"size\":10,\"solidity\":0.2}},\"type\":\"bar\"}],\"scattergeo\":[{\"type\":\"scattergeo\",\"marker\":{\"colorbar\":{\"outlinewidth\":0,\"ticks\":\"\"}}}],\"scatterpolar\":[{\"type\":\"scatterpolar\",\"marker\":{\"colorbar\":{\"outlinewidth\":0,\"ticks\":\"\"}}}],\"histogram\":[{\"marker\":{\"pattern\":{\"fillmode\":\"overlay\",\"size\":10,\"solidity\":0.2}},\"type\":\"histogram\"}],\"scattergl\":[{\"type\":\"scattergl\",\"marker\":{\"colorbar\":{\"outlinewidth\":0,\"ticks\":\"\"}}}],\"scatter3d\":[{\"type\":\"scatter3d\",\"line\":{\"colorbar\":{\"outlinewidth\":0,\"ticks\":\"\"}},\"marker\":{\"colorbar\":{\"outlinewidth\":0,\"ticks\":\"\"}}}],\"scattermapbox\":[{\"type\":\"scattermapbox\",\"marker\":{\"colorbar\":{\"outlinewidth\":0,\"ticks\":\"\"}}}],\"scatterternary\":[{\"type\":\"scatterternary\",\"marker\":{\"colorbar\":{\"outlinewidth\":0,\"ticks\":\"\"}}}],\"scattercarpet\":[{\"type\":\"scattercarpet\",\"marker\":{\"colorbar\":{\"outlinewidth\":0,\"ticks\":\"\"}}}],\"carpet\":[{\"aaxis\":{\"endlinecolor\":\"#2a3f5f\",\"gridcolor\":\"white\",\"linecolor\":\"white\",\"minorgridcolor\":\"white\",\"startlinecolor\":\"#2a3f5f\"},\"baxis\":{\"endlinecolor\":\"#2a3f5f\",\"gridcolor\":\"white\",\"linecolor\":\"white\",\"minorgridcolor\":\"white\",\"startlinecolor\":\"#2a3f5f\"},\"type\":\"carpet\"}],\"table\":[{\"cells\":{\"fill\":{\"color\":\"#EBF0F8\"},\"line\":{\"color\":\"white\"}},\"header\":{\"fill\":{\"color\":\"#C8D4E3\"},\"line\":{\"color\":\"white\"}},\"type\":\"table\"}],\"barpolar\":[{\"marker\":{\"line\":{\"color\":\"#E5ECF6\",\"width\":0.5},\"pattern\":{\"fillmode\":\"overlay\",\"size\":10,\"solidity\":0.2}},\"type\":\"barpolar\"}],\"pie\":[{\"automargin\":true,\"type\":\"pie\"}]},\"layout\":{\"autotypenumbers\":\"strict\",\"colorway\":[\"#636efa\",\"#EF553B\",\"#00cc96\",\"#ab63fa\",\"#FFA15A\",\"#19d3f3\",\"#FF6692\",\"#B6E880\",\"#FF97FF\",\"#FECB52\"],\"font\":{\"color\":\"#2a3f5f\"},\"hovermode\":\"closest\",\"hoverlabel\":{\"align\":\"left\"},\"paper_bgcolor\":\"white\",\"plot_bgcolor\":\"#E5ECF6\",\"polar\":{\"bgcolor\":\"#E5ECF6\",\"angularaxis\":{\"gridcolor\":\"white\",\"linecolor\":\"white\",\"ticks\":\"\"},\"radialaxis\":{\"gridcolor\":\"white\",\"linecolor\":\"white\",\"ticks\":\"\"}},\"ternary\":{\"bgcolor\":\"#E5ECF6\",\"aaxis\":{\"gridcolor\":\"white\",\"linecolor\":\"white\",\"ticks\":\"\"},\"baxis\":{\"gridcolor\":\"white\",\"linecolor\":\"white\",\"ticks\":\"\"},\"caxis\":{\"gridcolor\":\"white\",\"linecolor\":\"white\",\"ticks\":\"\"}},\"coloraxis\":{\"colorbar\":{\"outlinewidth\":0,\"ticks\":\"\"}},\"colorscale\":{\"sequential\":[[0.0,\"#0d0887\"],[0.1111111111111111,\"#46039f\"],[0.2222222222222222,\"#7201a8\"],[0.3333333333333333,\"#9c179e\"],[0.4444444444444444,\"#bd3786\"],[0.5555555555555556,\"#d8576b\"],[0.6666666666666666,\"#ed7953\"],[0.7777777777777778,\"#fb9f3a\"],[0.8888888888888888,\"#fdca26\"],[1.0,\"#f0f921\"]],\"sequentialminus\":[[0.0,\"#0d0887\"],[0.1111111111111111,\"#46039f\"],[0.2222222222222222,\"#7201a8\"],[0.3333333333333333,\"#9c179e\"],[0.4444444444444444,\"#bd3786\"],[0.5555555555555556,\"#d8576b\"],[0.6666666666666666,\"#ed7953\"],[0.7777777777777778,\"#fb9f3a\"],[0.8888888888888888,\"#fdca26\"],[1.0,\"#f0f921\"]],\"diverging\":[[0,\"#8e0152\"],[0.1,\"#c51b7d\"],[0.2,\"#de77ae\"],[0.3,\"#f1b6da\"],[0.4,\"#fde0ef\"],[0.5,\"#f7f7f7\"],[0.6,\"#e6f5d0\"],[0.7,\"#b8e186\"],[0.8,\"#7fbc41\"],[0.9,\"#4d9221\"],[1,\"#276419\"]]},\"xaxis\":{\"gridcolor\":\"white\",\"linecolor\":\"white\",\"ticks\":\"\",\"title\":{\"standoff\":15},\"zerolinecolor\":\"white\",\"automargin\":true,\"zerolinewidth\":2},\"yaxis\":{\"gridcolor\":\"white\",\"linecolor\":\"white\",\"ticks\":\"\",\"title\":{\"standoff\":15},\"zerolinecolor\":\"white\",\"automargin\":true,\"zerolinewidth\":2},\"scene\":{\"xaxis\":{\"backgroundcolor\":\"#E5ECF6\",\"gridcolor\":\"white\",\"linecolor\":\"white\",\"showbackground\":true,\"ticks\":\"\",\"zerolinecolor\":\"white\",\"gridwidth\":2},\"yaxis\":{\"backgroundcolor\":\"#E5ECF6\",\"gridcolor\":\"white\",\"linecolor\":\"white\",\"showbackground\":true,\"ticks\":\"\",\"zerolinecolor\":\"white\",\"gridwidth\":2},\"zaxis\":{\"backgroundcolor\":\"#E5ECF6\",\"gridcolor\":\"white\",\"linecolor\":\"white\",\"showbackground\":true,\"ticks\":\"\",\"zerolinecolor\":\"white\",\"gridwidth\":2}},\"shapedefaults\":{\"line\":{\"color\":\"#2a3f5f\"}},\"annotationdefaults\":{\"arrowcolor\":\"#2a3f5f\",\"arrowhead\":0,\"arrowwidth\":1},\"geo\":{\"bgcolor\":\"white\",\"landcolor\":\"#E5ECF6\",\"subunitcolor\":\"white\",\"showland\":true,\"showlakes\":true,\"lakecolor\":\"white\"},\"title\":{\"x\":0.05},\"mapbox\":{\"style\":\"light\"}}},\"xaxis\":{\"anchor\":\"y\",\"domain\":[0.0,0.45],\"title\":{\"text\":\"Price\"}},\"yaxis\":{\"anchor\":\"x\",\"domain\":[0.0,1.0],\"title\":{\"text\":\"Pnl\"}},\"xaxis2\":{\"anchor\":\"y2\",\"domain\":[0.55,1.0],\"title\":{\"text\":\"Price\"}},\"yaxis2\":{\"anchor\":\"x2\",\"domain\":[0.0,1.0],\"title\":{\"text\":\"Delta\"}},\"title\":{\"text\":\"Todays Option Pos (PnL and Delta)\",\"x\":0.5,\"xanchor\":\"center\"},\"barmode\":\"stack\"},                        {\"responsive\": true}                    ).then(function(){\n",
       "                            \n",
       "var gd = document.getElementById('b4d9831b-5bcd-454e-bfce-b78b05f6c071');\n",
       "var x = new MutationObserver(function (mutations, observer) {{\n",
       "        var display = window.getComputedStyle(gd).display;\n",
       "        if (!display || display === 'none') {{\n",
       "            console.log([gd, 'removed!']);\n",
       "            Plotly.purge(gd);\n",
       "            observer.disconnect();\n",
       "        }}\n",
       "}});\n",
       "\n",
       "// Listen for the removal of the full notebook cells\n",
       "var notebookContainer = gd.closest('#notebook-container');\n",
       "if (notebookContainer) {{\n",
       "    x.observe(notebookContainer, {childList: true});\n",
       "}}\n",
       "\n",
       "// Listen for the clearing of the current output cell\n",
       "var outputEl = gd.closest('.output');\n",
       "if (outputEl) {{\n",
       "    x.observe(outputEl, {childList: true});\n",
       "}}\n",
       "\n",
       "                        })                };                });            </script>        </div>"
      ]
     },
     "metadata": {},
     "output_type": "display_data"
    }
   ],
   "source": [
    "pnl_delta_plot(end_two_wk)"
   ]
  },
  {
   "cell_type": "markdown",
   "id": "2e416a58-312a-4763-ae26-a9e34ce0a640",
   "metadata": {},
   "source": [
    "## End of Month"
   ]
  },
  {
   "cell_type": "code",
   "execution_count": 22,
   "id": "21589bc1-b268-439c-9383-12137c7f17fd",
   "metadata": {},
   "outputs": [
    {
     "data": {
      "application/vnd.plotly.v1+json": {
       "config": {
        "plotlyServerURL": "https://plot.ly"
       },
       "data": [
        {
         "name": "EUA Mar25 75C",
         "type": "scatter",
         "x": [
          20,
          21,
          22,
          23,
          24,
          25,
          26,
          27,
          28,
          29,
          30,
          31,
          32,
          33,
          34,
          35,
          36,
          37,
          38,
          39,
          40,
          41,
          42,
          43,
          44,
          45,
          46,
          47,
          48,
          49,
          50,
          51,
          52,
          53,
          54,
          55,
          56,
          57,
          58,
          59,
          60,
          61,
          62,
          63,
          64,
          65,
          66,
          67,
          68,
          69,
          70,
          71,
          72,
          73,
          74,
          75,
          76,
          77,
          78,
          79,
          80,
          81,
          82,
          83,
          84,
          85,
          86,
          87,
          88,
          89,
          90,
          91,
          92,
          93,
          94,
          95,
          96,
          97,
          98,
          99,
          100
         ],
         "xaxis": "x",
         "y": [
          -247685.6730499249,
          -247685.6730499249,
          -247685.6730499249,
          -247685.6730499249,
          -247685.6730499249,
          -247685.6730499249,
          -247685.6730499249,
          -247685.6730499249,
          -247685.6730499249,
          -247685.6730499249,
          -247685.6730499249,
          -247685.6730499249,
          -247685.6730499249,
          -247685.6730499249,
          -247685.6730499249,
          -247685.6730499249,
          -247685.67304992487,
          -247685.67304992414,
          -247685.6730499175,
          -247685.67304986366,
          -247685.6730494773,
          -247685.67304701963,
          -247685.673033054,
          -247685.67296165795,
          -247685.67263118242,
          -247685.67123793007,
          -247685.6658586367,
          -247685.64674110894,
          -247685.58390666792,
          -247685.39207126747,
          -247684.84581046566,
          -247683.38945158178,
          -247679.74121845484,
          -247671.12547815233,
          -247651.8831178255,
          -247611.12095195978,
          -247528.9929327213,
          -247371.1977854411,
          -247081.37401974827,
          -246571.3102299473,
          -245709.27620519616,
          -244307.28671692396,
          -242108.65475014877,
          -238777.65467155163,
          -233893.36399035866,
          -226949.67170537502,
          -217362.97593445663,
          -204488.26999028877,
          -187643.24675032622,
          -166138.9146164237,
          -139314.220261763,
          -106571.49949356026,
          -67409.35180090596,
          -21449.792734765677,
          31542.77404168016,
          91652.23573108981,
          158811.45528821027,
          232812.24904857617,
          313323.0711667562,
          399912.23780280934,
          492074.2710011322,
          589256.998256317,
          690887.34791322,
          796394.248378389,
          905227.5810886635,
          1016872.6735257206,
          1130860.2888535715,
          1246772.435825371,
          1364244.5717378403,
          1482964.906061732,
          1602671.549304027,
          1723148.213863617,
          1844219.0861217668,
          1965743.3748329636,
          2087609.9189480236,
          2209732.122087608,
          2332043.379700434,
          2454493.082818781,
          2577043.2202248476,
          2699665.5574211394,
          2822339.343370573
         ],
         "yaxis": "y"
        },
        {
         "name": "EUA Mar25 75C",
         "type": "scatter",
         "x": [
          20,
          21,
          22,
          23,
          24,
          25,
          26,
          27,
          28,
          29,
          30,
          31,
          32,
          33,
          34,
          35,
          36,
          37,
          38,
          39,
          40,
          41,
          42,
          43,
          44,
          45,
          46,
          47,
          48,
          49,
          50,
          51,
          52,
          53,
          54,
          55,
          56,
          57,
          58,
          59,
          60,
          61,
          62,
          63,
          64,
          65,
          66,
          67,
          68,
          69,
          70,
          71,
          72,
          73,
          74,
          75,
          76,
          77,
          78,
          79,
          80,
          81,
          82,
          83,
          84,
          85,
          86,
          87,
          88,
          89,
          90,
          91,
          92,
          93,
          94,
          95,
          96,
          97,
          98,
          99,
          100
         ],
         "xaxis": "x2",
         "y": [
          1.4768117379979714e-41,
          2.483574218477893e-38,
          2.2831659096875013e-35,
          1.2244783645346886e-32,
          4.0508607299825354e-30,
          8.674506724956615e-28,
          1.2537503342412903e-25,
          1.2685578174307071e-23,
          9.27822473790927e-22,
          5.046036185062455e-20,
          2.092361794687339e-18,
          6.763766991904274e-17,
          1.7387250536074397e-15,
          3.6181624719210635e-14,
          6.19299874039273e-13,
          8.84557288285248e-12,
          1.0681168344557671e-10,
          1.1033327716742759e-09,
          9.854836303497525e-09,
          7.685883509459018e-08,
          5.281024243222244e-07,
          3.2230947459159365e-06,
          1.7604187041068587e-05,
          8.664462515370725e-05,
          0.0003867308543684148,
          0.0015745770006268612,
          0.005879786237425547,
          0.020238723447583064,
          0.064513871369801,
          0.1912729711732956,
          0.5295870697384102,
          1.3744833484728398,
          3.3557361135235126,
          7.73236659987796,
          16.86763776091004,
          34.935959601783,
          68.88943011331781,
          129.66145196618717,
          233.50824321333243,
          403.2965003282169,
          669.4583563486074,
          1070.2819786134544,
          1651.216200868987,
          2462.958525604471,
          3558.2663234089455,
          4987.656491360799,
          6794.394774524011,
          9009.368570122884,
          11646.537533249784,
          14699.63476735697,
          18140.64549114499,
          21920.3460207955,
          25970.89147335594,
          30210.152823053395,
          34547.275302191425,
          38888.797143014555,
          43144.64459743781,
          47233.397885401224,
          51086.37748532683,
          54650.29563995307,
          57888.41766216464,
          60780.35111164501,
          63320.708015854376,
          65516.957520235046,
          67386.80559484844,
          68955.41418642283,
          70252.71804991452,
          71311.02779882052,
          72163.0351881274,
          72840.27085829826,
          73372.0116457529,
          73784.5966186302,
          74101.08803245447,
          74341.20340815396,
          74521.44495565504,
          74655.35940500807,
          74753.87203192357,
          74825.65089229928,
          74877.4692820539,
          74914.54511849799,
          74940.84473644992
         ],
         "yaxis": "y2"
        },
        {
         "name": "EUA Mar25 80C",
         "type": "scatter",
         "x": [
          20,
          21,
          22,
          23,
          24,
          25,
          26,
          27,
          28,
          29,
          30,
          31,
          32,
          33,
          34,
          35,
          36,
          37,
          38,
          39,
          40,
          41,
          42,
          43,
          44,
          45,
          46,
          47,
          48,
          49,
          50,
          51,
          52,
          53,
          54,
          55,
          56,
          57,
          58,
          59,
          60,
          61,
          62,
          63,
          64,
          65,
          66,
          67,
          68,
          69,
          70,
          71,
          72,
          73,
          74,
          75,
          76,
          77,
          78,
          79,
          80,
          81,
          82,
          83,
          84,
          85,
          86,
          87,
          88,
          89,
          90,
          91,
          92,
          93,
          94,
          95,
          96,
          97,
          98,
          99,
          100
         ],
         "xaxis": "x",
         "y": [
          -293042.3457475392,
          -293042.3457475392,
          -293042.3457475392,
          -293042.3457475392,
          -293042.3457475392,
          -293042.3457475392,
          -293042.3457475392,
          -293042.3457475392,
          -293042.3457475392,
          -293042.3457475392,
          -293042.3457475392,
          -293042.3457475392,
          -293042.3457475392,
          -293042.3457475392,
          -293042.3457475392,
          -293042.3457475392,
          -293042.3457475392,
          -293042.3457475392,
          -293042.3457475392,
          -293042.34574753884,
          -293042.3457475359,
          -293042.34574751154,
          -293042.34574733593,
          -293042.34574620426,
          -293042.34573965205,
          -293042.34570534574,
          -293042.3455419665,
          -293042.34483043425,
          -293042.3419824442,
          -293042.33145683544,
          -293042.2953822877,
          -293042.1802616594,
          -293041.8369076353,
          -293040.87640100997,
          -293038.3478975157,
          -293032.0647285353,
          -293017.2834668548,
          -292984.27292433806,
          -292914.10731949867,
          -292771.81377771863,
          -292495.8601491117,
          -291982.97014703363,
          -291067.4929089113,
          -289495.10825394833,
          -286891.5390856198,
          -282728.1069986738,
          -276287.2472713421,
          -266632.25178006233,
          -252586.2482849525,
          -232725.49159731585,
          -205391.27220622296,
          -168723.13031094315,
          -120713.76433647062,
          -59283.36691943247,
          17631.47051263102,
          111981.23821615225,
          225507.57059411152,
          359656.27477127133,
          515506.82190526155,
          693723.9979225954,
          894534.9991651531,
          1117732.6102658939,
          1362702.5912768033,
          1628471.3406269855,
          1913768.4963303362,
          2217098.473858894,
          2536814.983824043,
          2871193.204804068,
          3218495.3304645084,
          3577026.4716455587,
          3945179.1926505957,
          4321466.15096095,
          4704541.291772178,
          5093210.77178638,
          5486435.2415329665,
          5883325.325221968,
          6283132.14537032,
          6685234.599271283,
          7089124.8593652705,
          7494393.2874347195,
          7900713.661542102
         ],
         "yaxis": "y"
        },
        {
         "name": "EUA Mar25 80C",
         "type": "scatter",
         "x": [
          20,
          21,
          22,
          23,
          24,
          25,
          26,
          27,
          28,
          29,
          30,
          31,
          32,
          33,
          34,
          35,
          36,
          37,
          38,
          39,
          40,
          41,
          42,
          43,
          44,
          45,
          46,
          47,
          48,
          49,
          50,
          51,
          52,
          53,
          54,
          55,
          56,
          57,
          58,
          59,
          60,
          61,
          62,
          63,
          64,
          65,
          66,
          67,
          68,
          69,
          70,
          71,
          72,
          73,
          74,
          75,
          76,
          77,
          78,
          79,
          80,
          81,
          82,
          83,
          84,
          85,
          86,
          87,
          88,
          89,
          90,
          91,
          92,
          93,
          94,
          95,
          96,
          97,
          98,
          99,
          100
         ],
         "xaxis": "x2",
         "y": [
          4.560676112220269e-47,
          1.4225810472082904e-43,
          2.3370324048315874e-40,
          2.165859053798548e-37,
          1.2010984014145704e-34,
          4.1939646344089754e-32,
          9.637890198277556e-30,
          1.5150726347794767e-27,
          1.685440466032568e-25,
          1.3671539018746504e-23,
          8.303420024477425e-22,
          3.866075686148063e-20,
          1.40927981898315e-18,
          4.0985067208524575e-17,
          9.671975042756913e-16,
          1.8806209348147e-14,
          3.054809404744094e-13,
          4.197632485941757e-12,
          4.935241745093639e-11,
          5.016538440398401e-10,
          4.450509565996777e-09,
          3.476128037397281e-08,
          2.4094719660082587e-07,
          1.4930315119061639e-06,
          8.32659397447837e-06,
          4.2055394789288144e-05,
          0.00019347850585412093,
          0.0008151110398131052,
          0.0031602616185231196,
          0.011327885227721473,
          0.03770104380576612,
          0.11696877624977071,
          0.3395603577825753,
          0.9255671388238687,
          2.3766222933501364,
          5.766377888866158,
          13.258227004460007,
          28.965559046122284,
          60.2836046182569,
          119.8068411936,
          227.88514723032765,
          415.7541336259797,
          729.0024460314514,
          1230.9330901647888,
          2005.1797509283163,
          3156.8102266322508,
          4811.146062243929,
          7109.6915143795295,
          10202.90292613596,
          14240.004146528421,
          19356.585891602474,
          25661.211757764813,
          33222.584199475474,
          42058.9187478292,
          52130.99930575214,
          63339.96288869785,
          75530.26139035012,
          88497.57757040847,
          102000.8487347284,
          115777.0753564901,
          129557.3294658878,
          143082.35126011257,
          156116.31130562778,
          168457.66593769897,
          179946.4726498941,
          190467.9855230012,
          199952.75399226637,
          208373.75687046294,
          215741.29563835677,
          222096.4459493975,
          227503.83991725865,
          232044.45002231127,
          235808.89807342863,
          238891.6477318561,
          241386.27965464327,
          243381.91045833568,
          244960.70943611083,
          246196.39305863355,
          247153.53481729658,
          247887.51198519723,
          248444.91499005046
         ],
         "yaxis": "y2"
        },
        {
         "name": "EUA Mar25 85C",
         "type": "scatter",
         "x": [
          20,
          21,
          22,
          23,
          24,
          25,
          26,
          27,
          28,
          29,
          30,
          31,
          32,
          33,
          34,
          35,
          36,
          37,
          38,
          39,
          40,
          41,
          42,
          43,
          44,
          45,
          46,
          47,
          48,
          49,
          50,
          51,
          52,
          53,
          54,
          55,
          56,
          57,
          58,
          59,
          60,
          61,
          62,
          63,
          64,
          65,
          66,
          67,
          68,
          69,
          70,
          71,
          72,
          73,
          74,
          75,
          76,
          77,
          78,
          79,
          80,
          81,
          82,
          83,
          84,
          85,
          86,
          87,
          88,
          89,
          90,
          91,
          92,
          93,
          94,
          95,
          96,
          97,
          98,
          99,
          100
         ],
         "xaxis": "x",
         "y": [
          -120545.32695780632,
          -120545.32695780632,
          -120545.32695780632,
          -120545.32695780632,
          -120545.32695780632,
          -120545.32695780632,
          -120545.32695780632,
          -120545.32695780632,
          -120545.32695780632,
          -120545.32695780632,
          -120545.32695780632,
          -120545.32695780632,
          -120545.32695780632,
          -120545.32695780632,
          -120545.32695780632,
          -120545.32695780632,
          -120545.32695780632,
          -120545.32695780632,
          -120545.32695780632,
          -120545.32695780632,
          -120545.32695780628,
          -120545.32695780587,
          -120545.3269578025,
          -120545.3269577782,
          -120545.32695762037,
          -120545.32695669467,
          -120545.32695176096,
          -120545.32692774056,
          -120545.32682037623,
          -120545.32637775621,
          -120545.32468742435,
          -120545.31868351148,
          -120545.29877429528,
          -120545.23692124124,
          -120545.05629204739,
          -120544.55892400602,
          -120543.26385712066,
          -120540.0663123716,
          -120532.56102534165,
          -120515.77313240468,
          -120479.90605075337,
          -120406.5552370755,
          -120262.67192186807,
          -119991.43212300018,
          -119499.1301468468,
          -118637.33759204093,
          -117179.90724306945,
          -114794.98829128618,
          -111013.04044148812,
          -105192.81457059186,
          -96488.2701929182,
          -83820.24278705643,
          -65857.16064988173,
          -41009.072656558485,
          -7438.586422511098,
          36908.966114564246,
          94255.60519494112,
          166922.56425631707,
          257247.55365678438,
          367492.8245006285,
          499750.6517047127,
          655853.3433281822,
          837294.5740882396,
          1045167.7912449627,
          1280125.8106421283,
          1542363.7404177438,
          1831625.2995164215,
          2147230.6844398985,
          2488122.579969133,
          2852925.8375882064,
          3240015.8112297542,
          3647590.3235675665,
          4073740.6597948093,
          4516517.735024386,
          4973990.526080688,
          5444294.872233857,
          5925671.724326313,
          6416494.776747379,
          6915288.10103576,
          7420734.891551099,
          7931678.734851355
         ],
         "yaxis": "y"
        },
        {
         "name": "EUA Mar25 85C",
         "type": "scatter",
         "x": [
          20,
          21,
          22,
          23,
          24,
          25,
          26,
          27,
          28,
          29,
          30,
          31,
          32,
          33,
          34,
          35,
          36,
          37,
          38,
          39,
          40,
          41,
          42,
          43,
          44,
          45,
          46,
          47,
          48,
          49,
          50,
          51,
          52,
          53,
          54,
          55,
          56,
          57,
          58,
          59,
          60,
          61,
          62,
          63,
          64,
          65,
          66,
          67,
          68,
          69,
          70,
          71,
          72,
          73,
          74,
          75,
          76,
          77,
          78,
          79,
          80,
          81,
          82,
          83,
          84,
          85,
          86,
          87,
          88,
          89,
          90,
          91,
          92,
          93,
          94,
          95,
          96,
          97,
          98,
          99,
          100
         ],
         "xaxis": "x2",
         "y": [
          5.581240881116936e-50,
          1.9821217075549245e-46,
          3.711455990076596e-43,
          3.923100923824481e-40,
          2.482242929281711e-37,
          9.889724361889471e-35,
          2.5927762595479107e-32,
          4.648259801037995e-30,
          5.894258387797447e-28,
          5.446573641468054e-26,
          3.765656556082681e-24,
          1.9942670660060074e-22,
          8.261550769941597e-21,
          2.7279693136237197e-19,
          7.302256364678722e-18,
          1.6089185588674595e-16,
          2.9584069432377514e-15,
          4.596837891931172e-14,
          6.104866386852208e-13,
          7.001813595578574e-12,
          7.001251603463119e-11,
          6.156564888453624e-10,
          4.799055592987032e-09,
          3.3404618598598115e-08,
          2.090352519755076e-07,
          1.1833094755810611e-06,
          6.094567603853778e-06,
          2.871235866895271e-05,
          0.00012434397941557808,
          0.0004972870547019574,
          0.0018444814883388152,
          0.0063702767387000935,
          0.02056250389380206,
          0.06224992059935281,
          0.1773215475231175,
          0.47672760730060476,
          1.2131372393869375,
          2.9298832134413537,
          6.732748926226955,
          14.756173935749873,
          30.91528899630796,
          62.04631649265969,
          119.53000443657449,
          221.45482833609123,
          395.3003312573555,
          681.0049210935688,
          1134.1365182670504,
          1828.7313444986623,
          2859.239626370329,
          4340.955866902657,
          6408.350104429448,
          9210.874929740463,
          12906.097393764794,
          17650.364904383863,
          23587.605679593365,
          30837.219165246308,
          39482.26196973084,
          49559.22729698056,
          61050.6246450969,
          73881.29888214945,
          87919.02269453657,
          102979.41642093348,
          118834.76790460598,
          135225.91242545017,
          151876.04361983592,
          168505.19145394512,
          184844.12721724476,
          200646.61856726717,
          215699.22267453777,
          229828.12610035224,
          242902.86921659744,
          254837.09032547704,
          265586.66100347834,
          275145.7436689948,
          283541.3818052756,
          290827.2399598781,
          297077.0590241152,
          302378.3003919667,
          306826.3388401573,
          310519.4447895063,
          313554.6849261095
         ],
         "yaxis": "y2"
        },
        {
         "name": "EUA Mar25 90C",
         "type": "scatter",
         "x": [
          20,
          21,
          22,
          23,
          24,
          25,
          26,
          27,
          28,
          29,
          30,
          31,
          32,
          33,
          34,
          35,
          36,
          37,
          38,
          39,
          40,
          41,
          42,
          43,
          44,
          45,
          46,
          47,
          48,
          49,
          50,
          51,
          52,
          53,
          54,
          55,
          56,
          57,
          58,
          59,
          60,
          61,
          62,
          63,
          64,
          65,
          66,
          67,
          68,
          69,
          70,
          71,
          72,
          73,
          74,
          75,
          76,
          77,
          78,
          79,
          80,
          81,
          82,
          83,
          84,
          85,
          86,
          87,
          88,
          89,
          90,
          91,
          92,
          93,
          94,
          95,
          96,
          97,
          98,
          99,
          100
         ],
         "xaxis": "x",
         "y": [
          -42315.162703868795,
          -42315.162703868795,
          -42315.162703868795,
          -42315.162703868795,
          -42315.162703868795,
          -42315.162703868795,
          -42315.162703868795,
          -42315.162703868795,
          -42315.162703868795,
          -42315.162703868795,
          -42315.162703868795,
          -42315.162703868795,
          -42315.162703868795,
          -42315.162703868795,
          -42315.162703868795,
          -42315.162703868795,
          -42315.162703868795,
          -42315.162703868795,
          -42315.162703868795,
          -42315.162703868795,
          -42315.162703868795,
          -42315.16270386876,
          -42315.16270386845,
          -42315.16270386622,
          -42315.16270385162,
          -42315.162703764996,
          -42315.16270329598,
          -42315.16270096818,
          -42315.162690327044,
          -42315.16264532389,
          -42315.16246851785,
          -42315.16182075148,
          -42315.15959967245,
          -42315.152448288514,
          -42315.13075826605,
          -42315.06860673628,
          -42314.89988726861,
          -42314.4648489787,
          -42313.39677982161,
          -42310.89424574804,
          -42305.28619949835,
          -42293.241839782604,
          -42268.402661370084,
          -42219.12299294647,
          -42124.90602039727,
          -41951.0313786318,
          -41640.81270580084,
          -41104.93021454,
          -40207.38692047179,
          -38747.864296535656,
          -36440.61564884639,
          -32890.52234137886,
          -27567.509954506575,
          -19781.111404746593,
          -8657.48348231894,
          6878.464862450264,
          28113.07836103485,
          56543.56358606541,
          93865.2285403106,
          141945.25284850653,
          202782.9878196006,
          278457.9965959234,
          371068.22431004647,
          482661.6931395698,
          615165.8243223947,
          770318.8140500261,
          949607.3980440968,
          1154214.8487160103,
          1384982.2248016573,
          1642384.837455226,
          1926524.7296087982,
          2237138.809825402,
          2573621.2474815203,
          2935057.9074819544,
          3320270.0325853173,
          3727864.0890716612,
          4156284.6655471195,
          4603867.519321796,
          5068890.2477578595,
          5549618.563080001,
          6044346.708013911
         ],
         "yaxis": "y"
        },
        {
         "name": "EUA Mar25 90C",
         "type": "scatter",
         "x": [
          20,
          21,
          22,
          23,
          24,
          25,
          26,
          27,
          28,
          29,
          30,
          31,
          32,
          33,
          34,
          35,
          36,
          37,
          38,
          39,
          40,
          41,
          42,
          43,
          44,
          45,
          46,
          47,
          48,
          49,
          50,
          51,
          52,
          53,
          54,
          55,
          56,
          57,
          58,
          59,
          60,
          61,
          62,
          63,
          64,
          65,
          66,
          67,
          68,
          69,
          70,
          71,
          72,
          73,
          74,
          75,
          76,
          77,
          78,
          79,
          80,
          81,
          82,
          83,
          84,
          85,
          86,
          87,
          88,
          89,
          90,
          91,
          92,
          93,
          94,
          95,
          96,
          97,
          98,
          99,
          100
         ],
         "xaxis": "x2",
         "y": [
          4.702913399327824e-50,
          1.2508852320332123e-46,
          1.8117594295385894e-43,
          1.5242887459066545e-40,
          7.874177104730635e-38,
          2.620183663228051e-35,
          5.855235249885635e-33,
          9.112999675240724e-31,
          1.0199487121298256e-28,
          8.444199960812126e-27,
          5.302383959561218e-25,
          2.582193718944304e-23,
          9.948353190261214e-22,
          3.0867583887166764e-20,
          7.838044457267408e-19,
          1.6525292415752263e-17,
          2.9309676618487333e-16,
          4.425374298037517e-15,
          5.749848917823166e-14,
          6.49242546089829e-13,
          6.42850855651296e-12,
          5.6278994296523796e-11,
          4.389362714827169e-10,
          3.0711293751971396e-09,
          1.9400882609855478e-08,
          1.1131224567115937e-07,
          5.832309276554882e-07,
          2.804899569083083e-06,
          1.2439915649860447e-05,
          5.110232503638403e-05,
          0.0001952338781085758,
          0.0006963204268694693,
          0.0023267028399322964,
          0.007307830416443899,
          0.021642008409604514,
          0.060607927856273565,
          0.1609413056334567,
          0.40627831671389697,
          0.977335418745962,
          2.2454967309948746,
          4.938086379377593,
          10.414994920914868,
          21.1077575074422,
          41.18051215931172,
          77.47305194798653,
          140.7742521892631,
          247.44477586079432,
          421.3584864739665,
          696.063588926259,
          1116.9834578290966,
          1743.39511065321,
          2649.856369046167,
          3926.718670443982,
          5679.376983450245,
          8025.981030903808,
          11093.463312419528,
          15011.918427172595,
          19907.57363288471,
          25894.79366600038,
          33067.73220421085,
          41492.34968913337,
          51199.542683539126,
          62180.06586446778,
          74381.78017368296,
          87709.54815330153,
          102027.84791105425,
          117165.92274038584,
          132925.05559740248,
          149087.38232103657,
          165425.55170466594,
          181712.51084577598,
          197730.73692985348,
          213280.33956970126,
          228185.60311960554,
          242299.7055604969,
          255507.51961833876,
          267726.5556428689,
          278906.2318415755,
          289025.7483268478,
          298090.8947536383,
          306130.13908875233
         ],
         "yaxis": "y2"
        },
        {
         "mode": "lines",
         "name": "Total_PnL",
         "type": "scatter",
         "x": [
          20,
          21,
          22,
          23,
          24,
          25,
          26,
          27,
          28,
          29,
          30,
          31,
          32,
          33,
          34,
          35,
          36,
          37,
          38,
          39,
          40,
          41,
          42,
          43,
          44,
          45,
          46,
          47,
          48,
          49,
          50,
          51,
          52,
          53,
          54,
          55,
          56,
          57,
          58,
          59,
          60,
          61,
          62,
          63,
          64,
          65,
          66,
          67,
          68,
          69,
          70,
          71,
          72,
          73,
          74,
          75,
          76,
          77,
          78,
          79,
          80,
          81,
          82,
          83,
          84,
          85,
          86,
          87,
          88,
          89,
          90,
          91,
          92,
          93,
          94,
          95,
          96,
          97,
          98,
          99,
          100
         ],
         "xaxis": "x",
         "y": [
          -703588.5084591393,
          -703588.5084591393,
          -703588.5084591393,
          -703588.5084591393,
          -703588.5084591393,
          -703588.5084591393,
          -703588.5084591393,
          -703588.5084591393,
          -703588.5084591393,
          -703588.5084591393,
          -703588.5084591393,
          -703588.5084591393,
          -703588.5084591393,
          -703588.5084591393,
          -703588.5084591393,
          -703588.5084591393,
          -703588.5084591393,
          -703588.5084591385,
          -703588.5084591319,
          -703588.5084590777,
          -703588.5084586883,
          -703588.508456206,
          -703588.5084420609,
          -703588.5083695067,
          -703588.5080323063,
          -703588.5066037355,
          -703588.5010556601,
          -703588.481200252,
          -703588.4153998154,
          -703588.2125511831,
          -703587.6283486956,
          -703586.0502175041,
          -703582.0365000578,
          -703572.3912486921,
          -703550.4180656546,
          -703502.8132112374,
          -703404.4401439654,
          -703210.0018711295,
          -702841.4391444102,
          -702169.7913858186,
          -700990.3286045595,
          -698990.0539408157,
          -695707.2222422983,
          -690483.3180414465,
          -682408.9392432226,
          -670266.1476747215,
          -652470.943154669,
          -627020.4402761773,
          -591449.9223972387,
          -542805.085080867,
          -477634.3783097505,
          -392005.3949329387,
          -281547.78674176487,
          -141523.34371550323,
          33078.174649481145,
          247420.90492425658,
          506687.7094382977,
          815934.65166223,
          1179942.6752691127,
          1603074.3130745396,
          2089142.9096905987,
          2641300.948446316,
          3261952.737588309,
          3952695.073389907,
          4714287.712383523,
          5546653.701852385,
          6448907.970238132,
          7419411.1737853475,
          8455844.70697314,
          9555302.052750723,
          10714391.282793175,
          11929343.498217534,
          13196122.285170276,
          14510529.789125685,
          15868305.719146995,
          17265216.408615094,
          18697131.914944187,
          20160089.978159238,
          21650346.428383738,
          23164412.29948696,
          24699078.447777938
         ],
         "yaxis": "y"
        },
        {
         "mode": "lines",
         "name": "Total_Delta",
         "type": "scatter",
         "x": [
          20,
          21,
          22,
          23,
          24,
          25,
          26,
          27,
          28,
          29,
          30,
          31,
          32,
          33,
          34,
          35,
          36,
          37,
          38,
          39,
          40,
          41,
          42,
          43,
          44,
          45,
          46,
          47,
          48,
          49,
          50,
          51,
          52,
          53,
          54,
          55,
          56,
          57,
          58,
          59,
          60,
          61,
          62,
          63,
          64,
          65,
          66,
          67,
          68,
          69,
          70,
          71,
          72,
          73,
          74,
          75,
          76,
          77,
          78,
          79,
          80,
          81,
          82,
          83,
          84,
          85,
          86,
          87,
          88,
          89,
          90,
          91,
          92,
          93,
          94,
          95,
          96,
          97,
          98,
          99,
          100
         ],
         "xaxis": "x2",
         "y": [
          1.476816308958238e-41,
          2.4835884766184345e-38,
          2.283189335243704e-35,
          1.2245000775991233e-32,
          4.0509811667887404e-30,
          8.67492737241086e-28,
          1.2538470309732516e-25,
          1.268709880650162e-23,
          9.279917092582402e-22,
          5.0474096299579673e-20,
          2.0931964325847385e-18,
          6.767655592454801e-17,
          1.7401435898125117e-15,
          3.622291345093441e-14,
          6.202751576043591e-13,
          8.86455650934893e-12,
          1.0712041588976054e-10,
          1.1075807979134351e-09,
          9.904856706076324e-09,
          7.736813999477169e-08,
          5.326293749128124e-07,
          3.2585279617730513e-06,
          1.7850372229533878e-05,
          8.817413241358722e-05,
          0.00039528588447747856,
          0.0016179270171374014,
          0.006079942541811177,
          0.021085351745634206,
          0.06781091688338955,
          0.20314924578075538,
          0.5693278289106237,
          1.4985187218881801,
          3.718185678039822,
          8.727491489717625,
          19.443223610192895,
          41.239673025806034,
          83.52173566279822,
          161.9631725424647,
          301.50193217656226,
          540.1050121885617,
          933.1968789546206,
          1558.4974236530088,
          2520.856408844455,
          3956.526956264663,
          6036.219457542604,
          8966.245891275881,
          12987.122130895787,
          18369.14991547504,
          25404.743674682333,
          34397.57823861715,
          45648.97659783012,
          59442.28907734694,
          76026.29173704018,
          95598.81345871672,
          118291.86131844076,
          144159.44250937825,
          173169.08638469136,
          205197.77638567495,
          240032.6445311525,
          277376.4020828034,
          316857.11951172235,
          358041.66147623025,
          400451.8530905559,
          443582.31605706713,
          486918.87001788,
          529956.4390744234,
          572215.5219998115,
          613256.4588339531,
          652690.9358220585,
          690190.394612714,
          725491.2316253849,
          758396.8738962719,
          788776.9866790626,
          816564.1979286104,
          841748.8119760709,
          864372.0294415606,
          884518.1961350185,
          902306.5761844751,
          917883.0912663556,
          931412.3966468399,
          943070.5837413622
         ],
         "yaxis": "y2"
        }
       ],
       "layout": {
        "barmode": "stack",
        "template": {
         "data": {
          "bar": [
           {
            "error_x": {
             "color": "#2a3f5f"
            },
            "error_y": {
             "color": "#2a3f5f"
            },
            "marker": {
             "line": {
              "color": "#E5ECF6",
              "width": 0.5
             },
             "pattern": {
              "fillmode": "overlay",
              "size": 10,
              "solidity": 0.2
             }
            },
            "type": "bar"
           }
          ],
          "barpolar": [
           {
            "marker": {
             "line": {
              "color": "#E5ECF6",
              "width": 0.5
             },
             "pattern": {
              "fillmode": "overlay",
              "size": 10,
              "solidity": 0.2
             }
            },
            "type": "barpolar"
           }
          ],
          "carpet": [
           {
            "aaxis": {
             "endlinecolor": "#2a3f5f",
             "gridcolor": "white",
             "linecolor": "white",
             "minorgridcolor": "white",
             "startlinecolor": "#2a3f5f"
            },
            "baxis": {
             "endlinecolor": "#2a3f5f",
             "gridcolor": "white",
             "linecolor": "white",
             "minorgridcolor": "white",
             "startlinecolor": "#2a3f5f"
            },
            "type": "carpet"
           }
          ],
          "choropleth": [
           {
            "colorbar": {
             "outlinewidth": 0,
             "ticks": ""
            },
            "type": "choropleth"
           }
          ],
          "contour": [
           {
            "colorbar": {
             "outlinewidth": 0,
             "ticks": ""
            },
            "colorscale": [
             [
              0,
              "#0d0887"
             ],
             [
              0.1111111111111111,
              "#46039f"
             ],
             [
              0.2222222222222222,
              "#7201a8"
             ],
             [
              0.3333333333333333,
              "#9c179e"
             ],
             [
              0.4444444444444444,
              "#bd3786"
             ],
             [
              0.5555555555555556,
              "#d8576b"
             ],
             [
              0.6666666666666666,
              "#ed7953"
             ],
             [
              0.7777777777777778,
              "#fb9f3a"
             ],
             [
              0.8888888888888888,
              "#fdca26"
             ],
             [
              1,
              "#f0f921"
             ]
            ],
            "type": "contour"
           }
          ],
          "contourcarpet": [
           {
            "colorbar": {
             "outlinewidth": 0,
             "ticks": ""
            },
            "type": "contourcarpet"
           }
          ],
          "heatmap": [
           {
            "colorbar": {
             "outlinewidth": 0,
             "ticks": ""
            },
            "colorscale": [
             [
              0,
              "#0d0887"
             ],
             [
              0.1111111111111111,
              "#46039f"
             ],
             [
              0.2222222222222222,
              "#7201a8"
             ],
             [
              0.3333333333333333,
              "#9c179e"
             ],
             [
              0.4444444444444444,
              "#bd3786"
             ],
             [
              0.5555555555555556,
              "#d8576b"
             ],
             [
              0.6666666666666666,
              "#ed7953"
             ],
             [
              0.7777777777777778,
              "#fb9f3a"
             ],
             [
              0.8888888888888888,
              "#fdca26"
             ],
             [
              1,
              "#f0f921"
             ]
            ],
            "type": "heatmap"
           }
          ],
          "heatmapgl": [
           {
            "colorbar": {
             "outlinewidth": 0,
             "ticks": ""
            },
            "colorscale": [
             [
              0,
              "#0d0887"
             ],
             [
              0.1111111111111111,
              "#46039f"
             ],
             [
              0.2222222222222222,
              "#7201a8"
             ],
             [
              0.3333333333333333,
              "#9c179e"
             ],
             [
              0.4444444444444444,
              "#bd3786"
             ],
             [
              0.5555555555555556,
              "#d8576b"
             ],
             [
              0.6666666666666666,
              "#ed7953"
             ],
             [
              0.7777777777777778,
              "#fb9f3a"
             ],
             [
              0.8888888888888888,
              "#fdca26"
             ],
             [
              1,
              "#f0f921"
             ]
            ],
            "type": "heatmapgl"
           }
          ],
          "histogram": [
           {
            "marker": {
             "pattern": {
              "fillmode": "overlay",
              "size": 10,
              "solidity": 0.2
             }
            },
            "type": "histogram"
           }
          ],
          "histogram2d": [
           {
            "colorbar": {
             "outlinewidth": 0,
             "ticks": ""
            },
            "colorscale": [
             [
              0,
              "#0d0887"
             ],
             [
              0.1111111111111111,
              "#46039f"
             ],
             [
              0.2222222222222222,
              "#7201a8"
             ],
             [
              0.3333333333333333,
              "#9c179e"
             ],
             [
              0.4444444444444444,
              "#bd3786"
             ],
             [
              0.5555555555555556,
              "#d8576b"
             ],
             [
              0.6666666666666666,
              "#ed7953"
             ],
             [
              0.7777777777777778,
              "#fb9f3a"
             ],
             [
              0.8888888888888888,
              "#fdca26"
             ],
             [
              1,
              "#f0f921"
             ]
            ],
            "type": "histogram2d"
           }
          ],
          "histogram2dcontour": [
           {
            "colorbar": {
             "outlinewidth": 0,
             "ticks": ""
            },
            "colorscale": [
             [
              0,
              "#0d0887"
             ],
             [
              0.1111111111111111,
              "#46039f"
             ],
             [
              0.2222222222222222,
              "#7201a8"
             ],
             [
              0.3333333333333333,
              "#9c179e"
             ],
             [
              0.4444444444444444,
              "#bd3786"
             ],
             [
              0.5555555555555556,
              "#d8576b"
             ],
             [
              0.6666666666666666,
              "#ed7953"
             ],
             [
              0.7777777777777778,
              "#fb9f3a"
             ],
             [
              0.8888888888888888,
              "#fdca26"
             ],
             [
              1,
              "#f0f921"
             ]
            ],
            "type": "histogram2dcontour"
           }
          ],
          "mesh3d": [
           {
            "colorbar": {
             "outlinewidth": 0,
             "ticks": ""
            },
            "type": "mesh3d"
           }
          ],
          "parcoords": [
           {
            "line": {
             "colorbar": {
              "outlinewidth": 0,
              "ticks": ""
             }
            },
            "type": "parcoords"
           }
          ],
          "pie": [
           {
            "automargin": true,
            "type": "pie"
           }
          ],
          "scatter": [
           {
            "fillpattern": {
             "fillmode": "overlay",
             "size": 10,
             "solidity": 0.2
            },
            "type": "scatter"
           }
          ],
          "scatter3d": [
           {
            "line": {
             "colorbar": {
              "outlinewidth": 0,
              "ticks": ""
             }
            },
            "marker": {
             "colorbar": {
              "outlinewidth": 0,
              "ticks": ""
             }
            },
            "type": "scatter3d"
           }
          ],
          "scattercarpet": [
           {
            "marker": {
             "colorbar": {
              "outlinewidth": 0,
              "ticks": ""
             }
            },
            "type": "scattercarpet"
           }
          ],
          "scattergeo": [
           {
            "marker": {
             "colorbar": {
              "outlinewidth": 0,
              "ticks": ""
             }
            },
            "type": "scattergeo"
           }
          ],
          "scattergl": [
           {
            "marker": {
             "colorbar": {
              "outlinewidth": 0,
              "ticks": ""
             }
            },
            "type": "scattergl"
           }
          ],
          "scattermapbox": [
           {
            "marker": {
             "colorbar": {
              "outlinewidth": 0,
              "ticks": ""
             }
            },
            "type": "scattermapbox"
           }
          ],
          "scatterpolar": [
           {
            "marker": {
             "colorbar": {
              "outlinewidth": 0,
              "ticks": ""
             }
            },
            "type": "scatterpolar"
           }
          ],
          "scatterpolargl": [
           {
            "marker": {
             "colorbar": {
              "outlinewidth": 0,
              "ticks": ""
             }
            },
            "type": "scatterpolargl"
           }
          ],
          "scatterternary": [
           {
            "marker": {
             "colorbar": {
              "outlinewidth": 0,
              "ticks": ""
             }
            },
            "type": "scatterternary"
           }
          ],
          "surface": [
           {
            "colorbar": {
             "outlinewidth": 0,
             "ticks": ""
            },
            "colorscale": [
             [
              0,
              "#0d0887"
             ],
             [
              0.1111111111111111,
              "#46039f"
             ],
             [
              0.2222222222222222,
              "#7201a8"
             ],
             [
              0.3333333333333333,
              "#9c179e"
             ],
             [
              0.4444444444444444,
              "#bd3786"
             ],
             [
              0.5555555555555556,
              "#d8576b"
             ],
             [
              0.6666666666666666,
              "#ed7953"
             ],
             [
              0.7777777777777778,
              "#fb9f3a"
             ],
             [
              0.8888888888888888,
              "#fdca26"
             ],
             [
              1,
              "#f0f921"
             ]
            ],
            "type": "surface"
           }
          ],
          "table": [
           {
            "cells": {
             "fill": {
              "color": "#EBF0F8"
             },
             "line": {
              "color": "white"
             }
            },
            "header": {
             "fill": {
              "color": "#C8D4E3"
             },
             "line": {
              "color": "white"
             }
            },
            "type": "table"
           }
          ]
         },
         "layout": {
          "annotationdefaults": {
           "arrowcolor": "#2a3f5f",
           "arrowhead": 0,
           "arrowwidth": 1
          },
          "autotypenumbers": "strict",
          "coloraxis": {
           "colorbar": {
            "outlinewidth": 0,
            "ticks": ""
           }
          },
          "colorscale": {
           "diverging": [
            [
             0,
             "#8e0152"
            ],
            [
             0.1,
             "#c51b7d"
            ],
            [
             0.2,
             "#de77ae"
            ],
            [
             0.3,
             "#f1b6da"
            ],
            [
             0.4,
             "#fde0ef"
            ],
            [
             0.5,
             "#f7f7f7"
            ],
            [
             0.6,
             "#e6f5d0"
            ],
            [
             0.7,
             "#b8e186"
            ],
            [
             0.8,
             "#7fbc41"
            ],
            [
             0.9,
             "#4d9221"
            ],
            [
             1,
             "#276419"
            ]
           ],
           "sequential": [
            [
             0,
             "#0d0887"
            ],
            [
             0.1111111111111111,
             "#46039f"
            ],
            [
             0.2222222222222222,
             "#7201a8"
            ],
            [
             0.3333333333333333,
             "#9c179e"
            ],
            [
             0.4444444444444444,
             "#bd3786"
            ],
            [
             0.5555555555555556,
             "#d8576b"
            ],
            [
             0.6666666666666666,
             "#ed7953"
            ],
            [
             0.7777777777777778,
             "#fb9f3a"
            ],
            [
             0.8888888888888888,
             "#fdca26"
            ],
            [
             1,
             "#f0f921"
            ]
           ],
           "sequentialminus": [
            [
             0,
             "#0d0887"
            ],
            [
             0.1111111111111111,
             "#46039f"
            ],
            [
             0.2222222222222222,
             "#7201a8"
            ],
            [
             0.3333333333333333,
             "#9c179e"
            ],
            [
             0.4444444444444444,
             "#bd3786"
            ],
            [
             0.5555555555555556,
             "#d8576b"
            ],
            [
             0.6666666666666666,
             "#ed7953"
            ],
            [
             0.7777777777777778,
             "#fb9f3a"
            ],
            [
             0.8888888888888888,
             "#fdca26"
            ],
            [
             1,
             "#f0f921"
            ]
           ]
          },
          "colorway": [
           "#636efa",
           "#EF553B",
           "#00cc96",
           "#ab63fa",
           "#FFA15A",
           "#19d3f3",
           "#FF6692",
           "#B6E880",
           "#FF97FF",
           "#FECB52"
          ],
          "font": {
           "color": "#2a3f5f"
          },
          "geo": {
           "bgcolor": "white",
           "lakecolor": "white",
           "landcolor": "#E5ECF6",
           "showlakes": true,
           "showland": true,
           "subunitcolor": "white"
          },
          "hoverlabel": {
           "align": "left"
          },
          "hovermode": "closest",
          "mapbox": {
           "style": "light"
          },
          "paper_bgcolor": "white",
          "plot_bgcolor": "#E5ECF6",
          "polar": {
           "angularaxis": {
            "gridcolor": "white",
            "linecolor": "white",
            "ticks": ""
           },
           "bgcolor": "#E5ECF6",
           "radialaxis": {
            "gridcolor": "white",
            "linecolor": "white",
            "ticks": ""
           }
          },
          "scene": {
           "xaxis": {
            "backgroundcolor": "#E5ECF6",
            "gridcolor": "white",
            "gridwidth": 2,
            "linecolor": "white",
            "showbackground": true,
            "ticks": "",
            "zerolinecolor": "white"
           },
           "yaxis": {
            "backgroundcolor": "#E5ECF6",
            "gridcolor": "white",
            "gridwidth": 2,
            "linecolor": "white",
            "showbackground": true,
            "ticks": "",
            "zerolinecolor": "white"
           },
           "zaxis": {
            "backgroundcolor": "#E5ECF6",
            "gridcolor": "white",
            "gridwidth": 2,
            "linecolor": "white",
            "showbackground": true,
            "ticks": "",
            "zerolinecolor": "white"
           }
          },
          "shapedefaults": {
           "line": {
            "color": "#2a3f5f"
           }
          },
          "ternary": {
           "aaxis": {
            "gridcolor": "white",
            "linecolor": "white",
            "ticks": ""
           },
           "baxis": {
            "gridcolor": "white",
            "linecolor": "white",
            "ticks": ""
           },
           "bgcolor": "#E5ECF6",
           "caxis": {
            "gridcolor": "white",
            "linecolor": "white",
            "ticks": ""
           }
          },
          "title": {
           "x": 0.05
          },
          "xaxis": {
           "automargin": true,
           "gridcolor": "white",
           "linecolor": "white",
           "ticks": "",
           "title": {
            "standoff": 15
           },
           "zerolinecolor": "white",
           "zerolinewidth": 2
          },
          "yaxis": {
           "automargin": true,
           "gridcolor": "white",
           "linecolor": "white",
           "ticks": "",
           "title": {
            "standoff": 15
           },
           "zerolinecolor": "white",
           "zerolinewidth": 2
          }
         }
        },
        "title": {
         "text": "Todays Option Pos (PnL and Delta)",
         "x": 0.5,
         "xanchor": "center"
        },
        "xaxis": {
         "anchor": "y",
         "domain": [
          0,
          0.45
         ],
         "title": {
          "text": "Price"
         }
        },
        "xaxis2": {
         "anchor": "y2",
         "domain": [
          0.55,
          1
         ],
         "title": {
          "text": "Price"
         }
        },
        "yaxis": {
         "anchor": "x",
         "domain": [
          0,
          1
         ],
         "title": {
          "text": "Pnl"
         }
        },
        "yaxis2": {
         "anchor": "x2",
         "domain": [
          0,
          1
         ],
         "title": {
          "text": "Delta"
         }
        }
       }
      },
      "text/html": [
       "<div>                            <div id=\"c972e90c-9df2-4b9e-b60c-c5b5019a56fb\" class=\"plotly-graph-div\" style=\"height:525px; width:100%;\"></div>            <script type=\"text/javascript\">                require([\"plotly\"], function(Plotly) {                    window.PLOTLYENV=window.PLOTLYENV || {};                                    if (document.getElementById(\"c972e90c-9df2-4b9e-b60c-c5b5019a56fb\")) {                    Plotly.newPlot(                        \"c972e90c-9df2-4b9e-b60c-c5b5019a56fb\",                        [{\"name\":\"EUA Mar25 75C\",\"x\":[20,21,22,23,24,25,26,27,28,29,30,31,32,33,34,35,36,37,38,39,40,41,42,43,44,45,46,47,48,49,50,51,52,53,54,55,56,57,58,59,60,61,62,63,64,65,66,67,68,69,70,71,72,73,74,75,76,77,78,79,80,81,82,83,84,85,86,87,88,89,90,91,92,93,94,95,96,97,98,99,100],\"y\":[-247685.6730499249,-247685.6730499249,-247685.6730499249,-247685.6730499249,-247685.6730499249,-247685.6730499249,-247685.6730499249,-247685.6730499249,-247685.6730499249,-247685.6730499249,-247685.6730499249,-247685.6730499249,-247685.6730499249,-247685.6730499249,-247685.6730499249,-247685.6730499249,-247685.67304992487,-247685.67304992414,-247685.6730499175,-247685.67304986366,-247685.6730494773,-247685.67304701963,-247685.673033054,-247685.67296165795,-247685.67263118242,-247685.67123793007,-247685.6658586367,-247685.64674110894,-247685.58390666792,-247685.39207126747,-247684.84581046566,-247683.38945158178,-247679.74121845484,-247671.12547815233,-247651.8831178255,-247611.12095195978,-247528.9929327213,-247371.1977854411,-247081.37401974827,-246571.3102299473,-245709.27620519616,-244307.28671692396,-242108.65475014877,-238777.65467155163,-233893.36399035866,-226949.67170537502,-217362.97593445663,-204488.26999028877,-187643.24675032622,-166138.9146164237,-139314.220261763,-106571.49949356026,-67409.35180090596,-21449.792734765677,31542.77404168016,91652.23573108981,158811.45528821027,232812.24904857617,313323.0711667562,399912.23780280934,492074.2710011322,589256.998256317,690887.34791322,796394.248378389,905227.5810886635,1016872.6735257206,1130860.2888535715,1246772.435825371,1364244.5717378403,1482964.906061732,1602671.549304027,1723148.213863617,1844219.0861217668,1965743.3748329636,2087609.9189480236,2209732.122087608,2332043.379700434,2454493.082818781,2577043.2202248476,2699665.5574211394,2822339.343370573],\"type\":\"scatter\",\"xaxis\":\"x\",\"yaxis\":\"y\"},{\"name\":\"EUA Mar25 75C\",\"x\":[20,21,22,23,24,25,26,27,28,29,30,31,32,33,34,35,36,37,38,39,40,41,42,43,44,45,46,47,48,49,50,51,52,53,54,55,56,57,58,59,60,61,62,63,64,65,66,67,68,69,70,71,72,73,74,75,76,77,78,79,80,81,82,83,84,85,86,87,88,89,90,91,92,93,94,95,96,97,98,99,100],\"y\":[1.4768117379979714e-41,2.483574218477893e-38,2.2831659096875013e-35,1.2244783645346886e-32,4.0508607299825354e-30,8.674506724956615e-28,1.2537503342412903e-25,1.2685578174307071e-23,9.27822473790927e-22,5.046036185062455e-20,2.092361794687339e-18,6.763766991904274e-17,1.7387250536074397e-15,3.6181624719210635e-14,6.19299874039273e-13,8.84557288285248e-12,1.0681168344557671e-10,1.1033327716742759e-09,9.854836303497525e-09,7.685883509459018e-08,5.281024243222244e-07,3.2230947459159365e-06,1.7604187041068587e-05,8.664462515370725e-05,0.0003867308543684148,0.0015745770006268612,0.005879786237425547,0.020238723447583064,0.064513871369801,0.1912729711732956,0.5295870697384102,1.3744833484728398,3.3557361135235126,7.73236659987796,16.86763776091004,34.935959601783,68.88943011331781,129.66145196618717,233.50824321333243,403.2965003282169,669.4583563486074,1070.2819786134544,1651.216200868987,2462.958525604471,3558.2663234089455,4987.656491360799,6794.394774524011,9009.368570122884,11646.537533249784,14699.63476735697,18140.64549114499,21920.3460207955,25970.89147335594,30210.152823053395,34547.275302191425,38888.797143014555,43144.64459743781,47233.397885401224,51086.37748532683,54650.29563995307,57888.41766216464,60780.35111164501,63320.708015854376,65516.957520235046,67386.80559484844,68955.41418642283,70252.71804991452,71311.02779882052,72163.0351881274,72840.27085829826,73372.0116457529,73784.5966186302,74101.08803245447,74341.20340815396,74521.44495565504,74655.35940500807,74753.87203192357,74825.65089229928,74877.4692820539,74914.54511849799,74940.84473644992],\"type\":\"scatter\",\"xaxis\":\"x2\",\"yaxis\":\"y2\"},{\"name\":\"EUA Mar25 80C\",\"x\":[20,21,22,23,24,25,26,27,28,29,30,31,32,33,34,35,36,37,38,39,40,41,42,43,44,45,46,47,48,49,50,51,52,53,54,55,56,57,58,59,60,61,62,63,64,65,66,67,68,69,70,71,72,73,74,75,76,77,78,79,80,81,82,83,84,85,86,87,88,89,90,91,92,93,94,95,96,97,98,99,100],\"y\":[-293042.3457475392,-293042.3457475392,-293042.3457475392,-293042.3457475392,-293042.3457475392,-293042.3457475392,-293042.3457475392,-293042.3457475392,-293042.3457475392,-293042.3457475392,-293042.3457475392,-293042.3457475392,-293042.3457475392,-293042.3457475392,-293042.3457475392,-293042.3457475392,-293042.3457475392,-293042.3457475392,-293042.3457475392,-293042.34574753884,-293042.3457475359,-293042.34574751154,-293042.34574733593,-293042.34574620426,-293042.34573965205,-293042.34570534574,-293042.3455419665,-293042.34483043425,-293042.3419824442,-293042.33145683544,-293042.2953822877,-293042.1802616594,-293041.8369076353,-293040.87640100997,-293038.3478975157,-293032.0647285353,-293017.2834668548,-292984.27292433806,-292914.10731949867,-292771.81377771863,-292495.8601491117,-291982.97014703363,-291067.4929089113,-289495.10825394833,-286891.5390856198,-282728.1069986738,-276287.2472713421,-266632.25178006233,-252586.2482849525,-232725.49159731585,-205391.27220622296,-168723.13031094315,-120713.76433647062,-59283.36691943247,17631.47051263102,111981.23821615225,225507.57059411152,359656.27477127133,515506.82190526155,693723.9979225954,894534.9991651531,1117732.6102658939,1362702.5912768033,1628471.3406269855,1913768.4963303362,2217098.473858894,2536814.983824043,2871193.204804068,3218495.3304645084,3577026.4716455587,3945179.1926505957,4321466.15096095,4704541.291772178,5093210.77178638,5486435.2415329665,5883325.325221968,6283132.14537032,6685234.599271283,7089124.8593652705,7494393.2874347195,7900713.661542102],\"type\":\"scatter\",\"xaxis\":\"x\",\"yaxis\":\"y\"},{\"name\":\"EUA Mar25 80C\",\"x\":[20,21,22,23,24,25,26,27,28,29,30,31,32,33,34,35,36,37,38,39,40,41,42,43,44,45,46,47,48,49,50,51,52,53,54,55,56,57,58,59,60,61,62,63,64,65,66,67,68,69,70,71,72,73,74,75,76,77,78,79,80,81,82,83,84,85,86,87,88,89,90,91,92,93,94,95,96,97,98,99,100],\"y\":[4.560676112220269e-47,1.4225810472082904e-43,2.3370324048315874e-40,2.165859053798548e-37,1.2010984014145704e-34,4.1939646344089754e-32,9.637890198277556e-30,1.5150726347794767e-27,1.685440466032568e-25,1.3671539018746504e-23,8.303420024477425e-22,3.866075686148063e-20,1.40927981898315e-18,4.0985067208524575e-17,9.671975042756913e-16,1.8806209348147e-14,3.054809404744094e-13,4.197632485941757e-12,4.935241745093639e-11,5.016538440398401e-10,4.450509565996777e-09,3.476128037397281e-08,2.4094719660082587e-07,1.4930315119061639e-06,8.32659397447837e-06,4.2055394789288144e-05,0.00019347850585412093,0.0008151110398131052,0.0031602616185231196,0.011327885227721473,0.03770104380576612,0.11696877624977071,0.3395603577825753,0.9255671388238687,2.3766222933501364,5.766377888866158,13.258227004460007,28.965559046122284,60.2836046182569,119.8068411936,227.88514723032765,415.7541336259797,729.0024460314514,1230.9330901647888,2005.1797509283163,3156.8102266322508,4811.146062243929,7109.6915143795295,10202.90292613596,14240.004146528421,19356.585891602474,25661.211757764813,33222.584199475474,42058.9187478292,52130.99930575214,63339.96288869785,75530.26139035012,88497.57757040847,102000.8487347284,115777.0753564901,129557.3294658878,143082.35126011257,156116.31130562778,168457.66593769897,179946.4726498941,190467.9855230012,199952.75399226637,208373.75687046294,215741.29563835677,222096.4459493975,227503.83991725865,232044.45002231127,235808.89807342863,238891.6477318561,241386.27965464327,243381.91045833568,244960.70943611083,246196.39305863355,247153.53481729658,247887.51198519723,248444.91499005046],\"type\":\"scatter\",\"xaxis\":\"x2\",\"yaxis\":\"y2\"},{\"name\":\"EUA Mar25 85C\",\"x\":[20,21,22,23,24,25,26,27,28,29,30,31,32,33,34,35,36,37,38,39,40,41,42,43,44,45,46,47,48,49,50,51,52,53,54,55,56,57,58,59,60,61,62,63,64,65,66,67,68,69,70,71,72,73,74,75,76,77,78,79,80,81,82,83,84,85,86,87,88,89,90,91,92,93,94,95,96,97,98,99,100],\"y\":[-120545.32695780632,-120545.32695780632,-120545.32695780632,-120545.32695780632,-120545.32695780632,-120545.32695780632,-120545.32695780632,-120545.32695780632,-120545.32695780632,-120545.32695780632,-120545.32695780632,-120545.32695780632,-120545.32695780632,-120545.32695780632,-120545.32695780632,-120545.32695780632,-120545.32695780632,-120545.32695780632,-120545.32695780632,-120545.32695780632,-120545.32695780628,-120545.32695780587,-120545.3269578025,-120545.3269577782,-120545.32695762037,-120545.32695669467,-120545.32695176096,-120545.32692774056,-120545.32682037623,-120545.32637775621,-120545.32468742435,-120545.31868351148,-120545.29877429528,-120545.23692124124,-120545.05629204739,-120544.55892400602,-120543.26385712066,-120540.0663123716,-120532.56102534165,-120515.77313240468,-120479.90605075337,-120406.5552370755,-120262.67192186807,-119991.43212300018,-119499.1301468468,-118637.33759204093,-117179.90724306945,-114794.98829128618,-111013.04044148812,-105192.81457059186,-96488.2701929182,-83820.24278705643,-65857.16064988173,-41009.072656558485,-7438.586422511098,36908.966114564246,94255.60519494112,166922.56425631707,257247.55365678438,367492.8245006285,499750.6517047127,655853.3433281822,837294.5740882396,1045167.7912449627,1280125.8106421283,1542363.7404177438,1831625.2995164215,2147230.6844398985,2488122.579969133,2852925.8375882064,3240015.8112297542,3647590.3235675665,4073740.6597948093,4516517.735024386,4973990.526080688,5444294.872233857,5925671.724326313,6416494.776747379,6915288.10103576,7420734.891551099,7931678.734851355],\"type\":\"scatter\",\"xaxis\":\"x\",\"yaxis\":\"y\"},{\"name\":\"EUA Mar25 85C\",\"x\":[20,21,22,23,24,25,26,27,28,29,30,31,32,33,34,35,36,37,38,39,40,41,42,43,44,45,46,47,48,49,50,51,52,53,54,55,56,57,58,59,60,61,62,63,64,65,66,67,68,69,70,71,72,73,74,75,76,77,78,79,80,81,82,83,84,85,86,87,88,89,90,91,92,93,94,95,96,97,98,99,100],\"y\":[5.581240881116936e-50,1.9821217075549245e-46,3.711455990076596e-43,3.923100923824481e-40,2.482242929281711e-37,9.889724361889471e-35,2.5927762595479107e-32,4.648259801037995e-30,5.894258387797447e-28,5.446573641468054e-26,3.765656556082681e-24,1.9942670660060074e-22,8.261550769941597e-21,2.7279693136237197e-19,7.302256364678722e-18,1.6089185588674595e-16,2.9584069432377514e-15,4.596837891931172e-14,6.104866386852208e-13,7.001813595578574e-12,7.001251603463119e-11,6.156564888453624e-10,4.799055592987032e-09,3.3404618598598115e-08,2.090352519755076e-07,1.1833094755810611e-06,6.094567603853778e-06,2.871235866895271e-05,0.00012434397941557808,0.0004972870547019574,0.0018444814883388152,0.0063702767387000935,0.02056250389380206,0.06224992059935281,0.1773215475231175,0.47672760730060476,1.2131372393869375,2.9298832134413537,6.732748926226955,14.756173935749873,30.91528899630796,62.04631649265969,119.53000443657449,221.45482833609123,395.3003312573555,681.0049210935688,1134.1365182670504,1828.7313444986623,2859.239626370329,4340.955866902657,6408.350104429448,9210.874929740463,12906.097393764794,17650.364904383863,23587.605679593365,30837.219165246308,39482.26196973084,49559.22729698056,61050.6246450969,73881.29888214945,87919.02269453657,102979.41642093348,118834.76790460598,135225.91242545017,151876.04361983592,168505.19145394512,184844.12721724476,200646.61856726717,215699.22267453777,229828.12610035224,242902.86921659744,254837.09032547704,265586.66100347834,275145.7436689948,283541.3818052756,290827.2399598781,297077.0590241152,302378.3003919667,306826.3388401573,310519.4447895063,313554.6849261095],\"type\":\"scatter\",\"xaxis\":\"x2\",\"yaxis\":\"y2\"},{\"name\":\"EUA Mar25 90C\",\"x\":[20,21,22,23,24,25,26,27,28,29,30,31,32,33,34,35,36,37,38,39,40,41,42,43,44,45,46,47,48,49,50,51,52,53,54,55,56,57,58,59,60,61,62,63,64,65,66,67,68,69,70,71,72,73,74,75,76,77,78,79,80,81,82,83,84,85,86,87,88,89,90,91,92,93,94,95,96,97,98,99,100],\"y\":[-42315.162703868795,-42315.162703868795,-42315.162703868795,-42315.162703868795,-42315.162703868795,-42315.162703868795,-42315.162703868795,-42315.162703868795,-42315.162703868795,-42315.162703868795,-42315.162703868795,-42315.162703868795,-42315.162703868795,-42315.162703868795,-42315.162703868795,-42315.162703868795,-42315.162703868795,-42315.162703868795,-42315.162703868795,-42315.162703868795,-42315.162703868795,-42315.16270386876,-42315.16270386845,-42315.16270386622,-42315.16270385162,-42315.162703764996,-42315.16270329598,-42315.16270096818,-42315.162690327044,-42315.16264532389,-42315.16246851785,-42315.16182075148,-42315.15959967245,-42315.152448288514,-42315.13075826605,-42315.06860673628,-42314.89988726861,-42314.4648489787,-42313.39677982161,-42310.89424574804,-42305.28619949835,-42293.241839782604,-42268.402661370084,-42219.12299294647,-42124.90602039727,-41951.0313786318,-41640.81270580084,-41104.93021454,-40207.38692047179,-38747.864296535656,-36440.61564884639,-32890.52234137886,-27567.509954506575,-19781.111404746593,-8657.48348231894,6878.464862450264,28113.07836103485,56543.56358606541,93865.2285403106,141945.25284850653,202782.9878196006,278457.9965959234,371068.22431004647,482661.6931395698,615165.8243223947,770318.8140500261,949607.3980440968,1154214.8487160103,1384982.2248016573,1642384.837455226,1926524.7296087982,2237138.809825402,2573621.2474815203,2935057.9074819544,3320270.0325853173,3727864.0890716612,4156284.6655471195,4603867.519321796,5068890.2477578595,5549618.563080001,6044346.708013911],\"type\":\"scatter\",\"xaxis\":\"x\",\"yaxis\":\"y\"},{\"name\":\"EUA Mar25 90C\",\"x\":[20,21,22,23,24,25,26,27,28,29,30,31,32,33,34,35,36,37,38,39,40,41,42,43,44,45,46,47,48,49,50,51,52,53,54,55,56,57,58,59,60,61,62,63,64,65,66,67,68,69,70,71,72,73,74,75,76,77,78,79,80,81,82,83,84,85,86,87,88,89,90,91,92,93,94,95,96,97,98,99,100],\"y\":[4.702913399327824e-50,1.2508852320332123e-46,1.8117594295385894e-43,1.5242887459066545e-40,7.874177104730635e-38,2.620183663228051e-35,5.855235249885635e-33,9.112999675240724e-31,1.0199487121298256e-28,8.444199960812126e-27,5.302383959561218e-25,2.582193718944304e-23,9.948353190261214e-22,3.0867583887166764e-20,7.838044457267408e-19,1.6525292415752263e-17,2.9309676618487333e-16,4.425374298037517e-15,5.749848917823166e-14,6.49242546089829e-13,6.42850855651296e-12,5.6278994296523796e-11,4.389362714827169e-10,3.0711293751971396e-09,1.9400882609855478e-08,1.1131224567115937e-07,5.832309276554882e-07,2.804899569083083e-06,1.2439915649860447e-05,5.110232503638403e-05,0.0001952338781085758,0.0006963204268694693,0.0023267028399322964,0.007307830416443899,0.021642008409604514,0.060607927856273565,0.1609413056334567,0.40627831671389697,0.977335418745962,2.2454967309948746,4.938086379377593,10.414994920914868,21.1077575074422,41.18051215931172,77.47305194798653,140.7742521892631,247.44477586079432,421.3584864739665,696.063588926259,1116.9834578290966,1743.39511065321,2649.856369046167,3926.718670443982,5679.376983450245,8025.981030903808,11093.463312419528,15011.918427172595,19907.57363288471,25894.79366600038,33067.73220421085,41492.34968913337,51199.542683539126,62180.06586446778,74381.78017368296,87709.54815330153,102027.84791105425,117165.92274038584,132925.05559740248,149087.38232103657,165425.55170466594,181712.51084577598,197730.73692985348,213280.33956970126,228185.60311960554,242299.7055604969,255507.51961833876,267726.5556428689,278906.2318415755,289025.7483268478,298090.8947536383,306130.13908875233],\"type\":\"scatter\",\"xaxis\":\"x2\",\"yaxis\":\"y2\"},{\"mode\":\"lines\",\"name\":\"Total_PnL\",\"x\":[20,21,22,23,24,25,26,27,28,29,30,31,32,33,34,35,36,37,38,39,40,41,42,43,44,45,46,47,48,49,50,51,52,53,54,55,56,57,58,59,60,61,62,63,64,65,66,67,68,69,70,71,72,73,74,75,76,77,78,79,80,81,82,83,84,85,86,87,88,89,90,91,92,93,94,95,96,97,98,99,100],\"y\":[-703588.5084591393,-703588.5084591393,-703588.5084591393,-703588.5084591393,-703588.5084591393,-703588.5084591393,-703588.5084591393,-703588.5084591393,-703588.5084591393,-703588.5084591393,-703588.5084591393,-703588.5084591393,-703588.5084591393,-703588.5084591393,-703588.5084591393,-703588.5084591393,-703588.5084591393,-703588.5084591385,-703588.5084591319,-703588.5084590777,-703588.5084586883,-703588.508456206,-703588.5084420609,-703588.5083695067,-703588.5080323063,-703588.5066037355,-703588.5010556601,-703588.481200252,-703588.4153998154,-703588.2125511831,-703587.6283486956,-703586.0502175041,-703582.0365000578,-703572.3912486921,-703550.4180656546,-703502.8132112374,-703404.4401439654,-703210.0018711295,-702841.4391444102,-702169.7913858186,-700990.3286045595,-698990.0539408157,-695707.2222422983,-690483.3180414465,-682408.9392432226,-670266.1476747215,-652470.943154669,-627020.4402761773,-591449.9223972387,-542805.085080867,-477634.3783097505,-392005.3949329387,-281547.78674176487,-141523.34371550323,33078.174649481145,247420.90492425658,506687.7094382977,815934.65166223,1179942.6752691127,1603074.3130745396,2089142.9096905987,2641300.948446316,3261952.737588309,3952695.073389907,4714287.712383523,5546653.701852385,6448907.970238132,7419411.1737853475,8455844.70697314,9555302.052750723,10714391.282793175,11929343.498217534,13196122.285170276,14510529.789125685,15868305.719146995,17265216.408615094,18697131.914944187,20160089.978159238,21650346.428383738,23164412.29948696,24699078.447777938],\"type\":\"scatter\",\"xaxis\":\"x\",\"yaxis\":\"y\"},{\"mode\":\"lines\",\"name\":\"Total_Delta\",\"x\":[20,21,22,23,24,25,26,27,28,29,30,31,32,33,34,35,36,37,38,39,40,41,42,43,44,45,46,47,48,49,50,51,52,53,54,55,56,57,58,59,60,61,62,63,64,65,66,67,68,69,70,71,72,73,74,75,76,77,78,79,80,81,82,83,84,85,86,87,88,89,90,91,92,93,94,95,96,97,98,99,100],\"y\":[1.476816308958238e-41,2.4835884766184345e-38,2.283189335243704e-35,1.2245000775991233e-32,4.0509811667887404e-30,8.67492737241086e-28,1.2538470309732516e-25,1.268709880650162e-23,9.279917092582402e-22,5.0474096299579673e-20,2.0931964325847385e-18,6.767655592454801e-17,1.7401435898125117e-15,3.622291345093441e-14,6.202751576043591e-13,8.86455650934893e-12,1.0712041588976054e-10,1.1075807979134351e-09,9.904856706076324e-09,7.736813999477169e-08,5.326293749128124e-07,3.2585279617730513e-06,1.7850372229533878e-05,8.817413241358722e-05,0.00039528588447747856,0.0016179270171374014,0.006079942541811177,0.021085351745634206,0.06781091688338955,0.20314924578075538,0.5693278289106237,1.4985187218881801,3.718185678039822,8.727491489717625,19.443223610192895,41.239673025806034,83.52173566279822,161.9631725424647,301.50193217656226,540.1050121885617,933.1968789546206,1558.4974236530088,2520.856408844455,3956.526956264663,6036.219457542604,8966.245891275881,12987.122130895787,18369.14991547504,25404.743674682333,34397.57823861715,45648.97659783012,59442.28907734694,76026.29173704018,95598.81345871672,118291.86131844076,144159.44250937825,173169.08638469136,205197.77638567495,240032.6445311525,277376.4020828034,316857.11951172235,358041.66147623025,400451.8530905559,443582.31605706713,486918.87001788,529956.4390744234,572215.5219998115,613256.4588339531,652690.9358220585,690190.394612714,725491.2316253849,758396.8738962719,788776.9866790626,816564.1979286104,841748.8119760709,864372.0294415606,884518.1961350185,902306.5761844751,917883.0912663556,931412.3966468399,943070.5837413622],\"type\":\"scatter\",\"xaxis\":\"x2\",\"yaxis\":\"y2\"}],                        {\"template\":{\"data\":{\"histogram2dcontour\":[{\"type\":\"histogram2dcontour\",\"colorbar\":{\"outlinewidth\":0,\"ticks\":\"\"},\"colorscale\":[[0.0,\"#0d0887\"],[0.1111111111111111,\"#46039f\"],[0.2222222222222222,\"#7201a8\"],[0.3333333333333333,\"#9c179e\"],[0.4444444444444444,\"#bd3786\"],[0.5555555555555556,\"#d8576b\"],[0.6666666666666666,\"#ed7953\"],[0.7777777777777778,\"#fb9f3a\"],[0.8888888888888888,\"#fdca26\"],[1.0,\"#f0f921\"]]}],\"choropleth\":[{\"type\":\"choropleth\",\"colorbar\":{\"outlinewidth\":0,\"ticks\":\"\"}}],\"histogram2d\":[{\"type\":\"histogram2d\",\"colorbar\":{\"outlinewidth\":0,\"ticks\":\"\"},\"colorscale\":[[0.0,\"#0d0887\"],[0.1111111111111111,\"#46039f\"],[0.2222222222222222,\"#7201a8\"],[0.3333333333333333,\"#9c179e\"],[0.4444444444444444,\"#bd3786\"],[0.5555555555555556,\"#d8576b\"],[0.6666666666666666,\"#ed7953\"],[0.7777777777777778,\"#fb9f3a\"],[0.8888888888888888,\"#fdca26\"],[1.0,\"#f0f921\"]]}],\"heatmap\":[{\"type\":\"heatmap\",\"colorbar\":{\"outlinewidth\":0,\"ticks\":\"\"},\"colorscale\":[[0.0,\"#0d0887\"],[0.1111111111111111,\"#46039f\"],[0.2222222222222222,\"#7201a8\"],[0.3333333333333333,\"#9c179e\"],[0.4444444444444444,\"#bd3786\"],[0.5555555555555556,\"#d8576b\"],[0.6666666666666666,\"#ed7953\"],[0.7777777777777778,\"#fb9f3a\"],[0.8888888888888888,\"#fdca26\"],[1.0,\"#f0f921\"]]}],\"heatmapgl\":[{\"type\":\"heatmapgl\",\"colorbar\":{\"outlinewidth\":0,\"ticks\":\"\"},\"colorscale\":[[0.0,\"#0d0887\"],[0.1111111111111111,\"#46039f\"],[0.2222222222222222,\"#7201a8\"],[0.3333333333333333,\"#9c179e\"],[0.4444444444444444,\"#bd3786\"],[0.5555555555555556,\"#d8576b\"],[0.6666666666666666,\"#ed7953\"],[0.7777777777777778,\"#fb9f3a\"],[0.8888888888888888,\"#fdca26\"],[1.0,\"#f0f921\"]]}],\"contourcarpet\":[{\"type\":\"contourcarpet\",\"colorbar\":{\"outlinewidth\":0,\"ticks\":\"\"}}],\"contour\":[{\"type\":\"contour\",\"colorbar\":{\"outlinewidth\":0,\"ticks\":\"\"},\"colorscale\":[[0.0,\"#0d0887\"],[0.1111111111111111,\"#46039f\"],[0.2222222222222222,\"#7201a8\"],[0.3333333333333333,\"#9c179e\"],[0.4444444444444444,\"#bd3786\"],[0.5555555555555556,\"#d8576b\"],[0.6666666666666666,\"#ed7953\"],[0.7777777777777778,\"#fb9f3a\"],[0.8888888888888888,\"#fdca26\"],[1.0,\"#f0f921\"]]}],\"surface\":[{\"type\":\"surface\",\"colorbar\":{\"outlinewidth\":0,\"ticks\":\"\"},\"colorscale\":[[0.0,\"#0d0887\"],[0.1111111111111111,\"#46039f\"],[0.2222222222222222,\"#7201a8\"],[0.3333333333333333,\"#9c179e\"],[0.4444444444444444,\"#bd3786\"],[0.5555555555555556,\"#d8576b\"],[0.6666666666666666,\"#ed7953\"],[0.7777777777777778,\"#fb9f3a\"],[0.8888888888888888,\"#fdca26\"],[1.0,\"#f0f921\"]]}],\"mesh3d\":[{\"type\":\"mesh3d\",\"colorbar\":{\"outlinewidth\":0,\"ticks\":\"\"}}],\"scatter\":[{\"fillpattern\":{\"fillmode\":\"overlay\",\"size\":10,\"solidity\":0.2},\"type\":\"scatter\"}],\"parcoords\":[{\"type\":\"parcoords\",\"line\":{\"colorbar\":{\"outlinewidth\":0,\"ticks\":\"\"}}}],\"scatterpolargl\":[{\"type\":\"scatterpolargl\",\"marker\":{\"colorbar\":{\"outlinewidth\":0,\"ticks\":\"\"}}}],\"bar\":[{\"error_x\":{\"color\":\"#2a3f5f\"},\"error_y\":{\"color\":\"#2a3f5f\"},\"marker\":{\"line\":{\"color\":\"#E5ECF6\",\"width\":0.5},\"pattern\":{\"fillmode\":\"overlay\",\"size\":10,\"solidity\":0.2}},\"type\":\"bar\"}],\"scattergeo\":[{\"type\":\"scattergeo\",\"marker\":{\"colorbar\":{\"outlinewidth\":0,\"ticks\":\"\"}}}],\"scatterpolar\":[{\"type\":\"scatterpolar\",\"marker\":{\"colorbar\":{\"outlinewidth\":0,\"ticks\":\"\"}}}],\"histogram\":[{\"marker\":{\"pattern\":{\"fillmode\":\"overlay\",\"size\":10,\"solidity\":0.2}},\"type\":\"histogram\"}],\"scattergl\":[{\"type\":\"scattergl\",\"marker\":{\"colorbar\":{\"outlinewidth\":0,\"ticks\":\"\"}}}],\"scatter3d\":[{\"type\":\"scatter3d\",\"line\":{\"colorbar\":{\"outlinewidth\":0,\"ticks\":\"\"}},\"marker\":{\"colorbar\":{\"outlinewidth\":0,\"ticks\":\"\"}}}],\"scattermapbox\":[{\"type\":\"scattermapbox\",\"marker\":{\"colorbar\":{\"outlinewidth\":0,\"ticks\":\"\"}}}],\"scatterternary\":[{\"type\":\"scatterternary\",\"marker\":{\"colorbar\":{\"outlinewidth\":0,\"ticks\":\"\"}}}],\"scattercarpet\":[{\"type\":\"scattercarpet\",\"marker\":{\"colorbar\":{\"outlinewidth\":0,\"ticks\":\"\"}}}],\"carpet\":[{\"aaxis\":{\"endlinecolor\":\"#2a3f5f\",\"gridcolor\":\"white\",\"linecolor\":\"white\",\"minorgridcolor\":\"white\",\"startlinecolor\":\"#2a3f5f\"},\"baxis\":{\"endlinecolor\":\"#2a3f5f\",\"gridcolor\":\"white\",\"linecolor\":\"white\",\"minorgridcolor\":\"white\",\"startlinecolor\":\"#2a3f5f\"},\"type\":\"carpet\"}],\"table\":[{\"cells\":{\"fill\":{\"color\":\"#EBF0F8\"},\"line\":{\"color\":\"white\"}},\"header\":{\"fill\":{\"color\":\"#C8D4E3\"},\"line\":{\"color\":\"white\"}},\"type\":\"table\"}],\"barpolar\":[{\"marker\":{\"line\":{\"color\":\"#E5ECF6\",\"width\":0.5},\"pattern\":{\"fillmode\":\"overlay\",\"size\":10,\"solidity\":0.2}},\"type\":\"barpolar\"}],\"pie\":[{\"automargin\":true,\"type\":\"pie\"}]},\"layout\":{\"autotypenumbers\":\"strict\",\"colorway\":[\"#636efa\",\"#EF553B\",\"#00cc96\",\"#ab63fa\",\"#FFA15A\",\"#19d3f3\",\"#FF6692\",\"#B6E880\",\"#FF97FF\",\"#FECB52\"],\"font\":{\"color\":\"#2a3f5f\"},\"hovermode\":\"closest\",\"hoverlabel\":{\"align\":\"left\"},\"paper_bgcolor\":\"white\",\"plot_bgcolor\":\"#E5ECF6\",\"polar\":{\"bgcolor\":\"#E5ECF6\",\"angularaxis\":{\"gridcolor\":\"white\",\"linecolor\":\"white\",\"ticks\":\"\"},\"radialaxis\":{\"gridcolor\":\"white\",\"linecolor\":\"white\",\"ticks\":\"\"}},\"ternary\":{\"bgcolor\":\"#E5ECF6\",\"aaxis\":{\"gridcolor\":\"white\",\"linecolor\":\"white\",\"ticks\":\"\"},\"baxis\":{\"gridcolor\":\"white\",\"linecolor\":\"white\",\"ticks\":\"\"},\"caxis\":{\"gridcolor\":\"white\",\"linecolor\":\"white\",\"ticks\":\"\"}},\"coloraxis\":{\"colorbar\":{\"outlinewidth\":0,\"ticks\":\"\"}},\"colorscale\":{\"sequential\":[[0.0,\"#0d0887\"],[0.1111111111111111,\"#46039f\"],[0.2222222222222222,\"#7201a8\"],[0.3333333333333333,\"#9c179e\"],[0.4444444444444444,\"#bd3786\"],[0.5555555555555556,\"#d8576b\"],[0.6666666666666666,\"#ed7953\"],[0.7777777777777778,\"#fb9f3a\"],[0.8888888888888888,\"#fdca26\"],[1.0,\"#f0f921\"]],\"sequentialminus\":[[0.0,\"#0d0887\"],[0.1111111111111111,\"#46039f\"],[0.2222222222222222,\"#7201a8\"],[0.3333333333333333,\"#9c179e\"],[0.4444444444444444,\"#bd3786\"],[0.5555555555555556,\"#d8576b\"],[0.6666666666666666,\"#ed7953\"],[0.7777777777777778,\"#fb9f3a\"],[0.8888888888888888,\"#fdca26\"],[1.0,\"#f0f921\"]],\"diverging\":[[0,\"#8e0152\"],[0.1,\"#c51b7d\"],[0.2,\"#de77ae\"],[0.3,\"#f1b6da\"],[0.4,\"#fde0ef\"],[0.5,\"#f7f7f7\"],[0.6,\"#e6f5d0\"],[0.7,\"#b8e186\"],[0.8,\"#7fbc41\"],[0.9,\"#4d9221\"],[1,\"#276419\"]]},\"xaxis\":{\"gridcolor\":\"white\",\"linecolor\":\"white\",\"ticks\":\"\",\"title\":{\"standoff\":15},\"zerolinecolor\":\"white\",\"automargin\":true,\"zerolinewidth\":2},\"yaxis\":{\"gridcolor\":\"white\",\"linecolor\":\"white\",\"ticks\":\"\",\"title\":{\"standoff\":15},\"zerolinecolor\":\"white\",\"automargin\":true,\"zerolinewidth\":2},\"scene\":{\"xaxis\":{\"backgroundcolor\":\"#E5ECF6\",\"gridcolor\":\"white\",\"linecolor\":\"white\",\"showbackground\":true,\"ticks\":\"\",\"zerolinecolor\":\"white\",\"gridwidth\":2},\"yaxis\":{\"backgroundcolor\":\"#E5ECF6\",\"gridcolor\":\"white\",\"linecolor\":\"white\",\"showbackground\":true,\"ticks\":\"\",\"zerolinecolor\":\"white\",\"gridwidth\":2},\"zaxis\":{\"backgroundcolor\":\"#E5ECF6\",\"gridcolor\":\"white\",\"linecolor\":\"white\",\"showbackground\":true,\"ticks\":\"\",\"zerolinecolor\":\"white\",\"gridwidth\":2}},\"shapedefaults\":{\"line\":{\"color\":\"#2a3f5f\"}},\"annotationdefaults\":{\"arrowcolor\":\"#2a3f5f\",\"arrowhead\":0,\"arrowwidth\":1},\"geo\":{\"bgcolor\":\"white\",\"landcolor\":\"#E5ECF6\",\"subunitcolor\":\"white\",\"showland\":true,\"showlakes\":true,\"lakecolor\":\"white\"},\"title\":{\"x\":0.05},\"mapbox\":{\"style\":\"light\"}}},\"xaxis\":{\"anchor\":\"y\",\"domain\":[0.0,0.45],\"title\":{\"text\":\"Price\"}},\"yaxis\":{\"anchor\":\"x\",\"domain\":[0.0,1.0],\"title\":{\"text\":\"Pnl\"}},\"xaxis2\":{\"anchor\":\"y2\",\"domain\":[0.55,1.0],\"title\":{\"text\":\"Price\"}},\"yaxis2\":{\"anchor\":\"x2\",\"domain\":[0.0,1.0],\"title\":{\"text\":\"Delta\"}},\"title\":{\"text\":\"Todays Option Pos (PnL and Delta)\",\"x\":0.5,\"xanchor\":\"center\"},\"barmode\":\"stack\"},                        {\"responsive\": true}                    ).then(function(){\n",
       "                            \n",
       "var gd = document.getElementById('c972e90c-9df2-4b9e-b60c-c5b5019a56fb');\n",
       "var x = new MutationObserver(function (mutations, observer) {{\n",
       "        var display = window.getComputedStyle(gd).display;\n",
       "        if (!display || display === 'none') {{\n",
       "            console.log([gd, 'removed!']);\n",
       "            Plotly.purge(gd);\n",
       "            observer.disconnect();\n",
       "        }}\n",
       "}});\n",
       "\n",
       "// Listen for the removal of the full notebook cells\n",
       "var notebookContainer = gd.closest('#notebook-container');\n",
       "if (notebookContainer) {{\n",
       "    x.observe(notebookContainer, {childList: true});\n",
       "}}\n",
       "\n",
       "// Listen for the clearing of the current output cell\n",
       "var outputEl = gd.closest('.output');\n",
       "if (outputEl) {{\n",
       "    x.observe(outputEl, {childList: true});\n",
       "}}\n",
       "\n",
       "                        })                };                });            </script>        </div>"
      ]
     },
     "metadata": {},
     "output_type": "display_data"
    }
   ],
   "source": [
    "pnl_delta_plot(end_of_month)"
   ]
  },
  {
   "cell_type": "markdown",
   "id": "89f40338",
   "metadata": {},
   "source": [
    "## End of Next Month"
   ]
  },
  {
   "cell_type": "code",
   "execution_count": 23,
   "id": "451ebb54",
   "metadata": {},
   "outputs": [
    {
     "data": {
      "application/vnd.plotly.v1+json": {
       "config": {
        "plotlyServerURL": "https://plot.ly"
       },
       "data": [
        {
         "name": "EUA Mar25 75C",
         "type": "scatter",
         "x": [
          20,
          21,
          22,
          23,
          24,
          25,
          26,
          27,
          28,
          29,
          30,
          31,
          32,
          33,
          34,
          35,
          36,
          37,
          38,
          39,
          40,
          41,
          42,
          43,
          44,
          45,
          46,
          47,
          48,
          49,
          50,
          51,
          52,
          53,
          54,
          55,
          56,
          57,
          58,
          59,
          60,
          61,
          62,
          63,
          64,
          65,
          66,
          67,
          68,
          69,
          70,
          71,
          72,
          73,
          74,
          75,
          76,
          77,
          78,
          79,
          80,
          81,
          82,
          83,
          84,
          85,
          86,
          87,
          88,
          89,
          90,
          91,
          92,
          93,
          94,
          95,
          96,
          97,
          98,
          99,
          100
         ],
         "xaxis": "x",
         "y": [
          -247685.6730499249,
          -247685.6730499249,
          -247685.6730499249,
          -247685.6730499249,
          -247685.6730499249,
          -247685.6730499249,
          -247685.6730499249,
          -247685.6730499249,
          -247685.6730499249,
          -247685.6730499249,
          -247685.6730499249,
          -247685.6730499249,
          -247685.6730499249,
          -247685.6730499249,
          -247685.6730499249,
          -247685.6730499249,
          -247685.6730499249,
          -247685.6730499249,
          -247685.6730499249,
          -247685.6730499249,
          -247685.6730499249,
          -247685.6730499249,
          -247685.6730499249,
          -247685.6730499249,
          -247685.6730499249,
          -247685.6730499249,
          -247685.6730499249,
          -247685.6730499249,
          -247685.6730499249,
          -247685.6730499249,
          -247685.6730499249,
          -247685.6730499249,
          -247685.6730499249,
          -247685.6730499249,
          -247685.6730499249,
          -247685.6730499249,
          -247685.6730499249,
          -247685.6730499249,
          -247685.6730499249,
          -247685.6730499249,
          -247685.6730499249,
          -247685.6730499249,
          -247685.6730499249,
          -247685.6730499249,
          -247685.6730499249,
          -247685.6730499249,
          -247685.6730499249,
          -247685.6730499249,
          -247685.6730499249,
          -247685.6730499249,
          -247685.6730499249,
          -247685.6730499249,
          -247685.6730499249,
          -247685.6730499249,
          -247685.6730499249,
          -247685.6730499249,
          -124676.67304992491,
          -1667.6730499248938,
          121341.3269500751,
          244350.3269500751,
          367359.3269500751,
          490368.3269500751,
          613377.3269500752,
          736386.3269500752,
          859395.3269500752,
          982404.3269500752,
          1105413.326950075,
          1228422.326950075,
          1351431.326950075,
          1474440.326950075,
          1597449.326950075,
          1720458.326950075,
          1843467.326950075,
          1966476.326950075,
          2089485.326950075,
          2212494.326950075,
          2335503.326950075,
          2458512.326950075,
          2581521.326950075,
          2704530.326950075,
          2827539.326950075
         ],
         "yaxis": "y"
        },
        {
         "name": "EUA Mar25 75C",
         "type": "scatter",
         "x": [
          20,
          21,
          22,
          23,
          24,
          25,
          26,
          27,
          28,
          29,
          30,
          31,
          32,
          33,
          34,
          35,
          36,
          37,
          38,
          39,
          40,
          41,
          42,
          43,
          44,
          45,
          46,
          47,
          48,
          49,
          50,
          51,
          52,
          53,
          54,
          55,
          56,
          57,
          58,
          59,
          60,
          61,
          62,
          63,
          64,
          65,
          66,
          67,
          68,
          69,
          70,
          71,
          72,
          73,
          74,
          75,
          76,
          77,
          78,
          79,
          80,
          81,
          82,
          83,
          84,
          85,
          86,
          87,
          88,
          89,
          90,
          91,
          92,
          93,
          94,
          95,
          96,
          97,
          98,
          99,
          100
         ],
         "xaxis": "x2",
         "y": [
          0,
          0,
          0,
          0,
          0,
          0,
          0,
          0,
          0,
          0,
          0,
          0,
          0,
          0,
          0,
          0,
          0,
          0,
          0,
          0,
          0,
          0,
          0,
          0,
          0,
          0,
          0,
          0,
          0,
          0,
          0,
          0,
          0,
          0,
          0,
          0,
          0,
          0,
          0,
          0,
          0,
          0,
          0,
          0,
          0,
          0,
          0,
          0,
          0,
          0,
          0,
          0,
          0,
          0,
          0,
          null,
          75000,
          75000,
          75000,
          75000,
          75000,
          75000,
          75000,
          75000,
          75000,
          75000,
          75000,
          75000,
          75000,
          75000,
          75000,
          75000,
          75000,
          75000,
          75000,
          75000,
          75000,
          75000,
          75000,
          75000,
          75000
         ],
         "yaxis": "y2"
        },
        {
         "name": "EUA Mar25 80C",
         "type": "scatter",
         "x": [
          20,
          21,
          22,
          23,
          24,
          25,
          26,
          27,
          28,
          29,
          30,
          31,
          32,
          33,
          34,
          35,
          36,
          37,
          38,
          39,
          40,
          41,
          42,
          43,
          44,
          45,
          46,
          47,
          48,
          49,
          50,
          51,
          52,
          53,
          54,
          55,
          56,
          57,
          58,
          59,
          60,
          61,
          62,
          63,
          64,
          65,
          66,
          67,
          68,
          69,
          70,
          71,
          72,
          73,
          74,
          75,
          76,
          77,
          78,
          79,
          80,
          81,
          82,
          83,
          84,
          85,
          86,
          87,
          88,
          89,
          90,
          91,
          92,
          93,
          94,
          95,
          96,
          97,
          98,
          99,
          100
         ],
         "xaxis": "x",
         "y": [
          -293042.3457475392,
          -293042.3457475392,
          -293042.3457475392,
          -293042.3457475392,
          -293042.3457475392,
          -293042.3457475392,
          -293042.3457475392,
          -293042.3457475392,
          -293042.3457475392,
          -293042.3457475392,
          -293042.3457475392,
          -293042.3457475392,
          -293042.3457475392,
          -293042.3457475392,
          -293042.3457475392,
          -293042.3457475392,
          -293042.3457475392,
          -293042.3457475392,
          -293042.3457475392,
          -293042.3457475392,
          -293042.3457475392,
          -293042.3457475392,
          -293042.3457475392,
          -293042.3457475392,
          -293042.3457475392,
          -293042.3457475392,
          -293042.3457475392,
          -293042.3457475392,
          -293042.3457475392,
          -293042.3457475392,
          -293042.3457475392,
          -293042.3457475392,
          -293042.3457475392,
          -293042.3457475392,
          -293042.3457475392,
          -293042.3457475392,
          -293042.3457475392,
          -293042.3457475392,
          -293042.3457475392,
          -293042.3457475392,
          -293042.3457475392,
          -293042.3457475392,
          -293042.3457475392,
          -293042.3457475392,
          -293042.3457475392,
          -293042.3457475392,
          -293042.3457475392,
          -293042.3457475392,
          -293042.3457475392,
          -293042.3457475392,
          -293042.3457475392,
          -293042.3457475392,
          -293042.3457475392,
          -293042.3457475392,
          -293042.3457475392,
          -293042.3457475392,
          -293042.3457475392,
          -293042.3457475392,
          -293042.3457475392,
          -293042.3457475392,
          -293042.3457475392,
          116987.65425246078,
          527017.6542524608,
          937047.6542524607,
          1347077.6542524607,
          1757107.6542524607,
          2167137.6542524607,
          2577167.6542524607,
          2987197.6542524607,
          3397227.6542524607,
          3807257.65425246,
          4217287.65425246,
          4627317.65425246,
          5037347.65425246,
          5447377.65425246,
          5857407.65425246,
          6267437.65425246,
          6677467.654252461,
          7087497.654252461,
          7497527.654252461,
          7907557.654252461
         ],
         "yaxis": "y"
        },
        {
         "name": "EUA Mar25 80C",
         "type": "scatter",
         "x": [
          20,
          21,
          22,
          23,
          24,
          25,
          26,
          27,
          28,
          29,
          30,
          31,
          32,
          33,
          34,
          35,
          36,
          37,
          38,
          39,
          40,
          41,
          42,
          43,
          44,
          45,
          46,
          47,
          48,
          49,
          50,
          51,
          52,
          53,
          54,
          55,
          56,
          57,
          58,
          59,
          60,
          61,
          62,
          63,
          64,
          65,
          66,
          67,
          68,
          69,
          70,
          71,
          72,
          73,
          74,
          75,
          76,
          77,
          78,
          79,
          80,
          81,
          82,
          83,
          84,
          85,
          86,
          87,
          88,
          89,
          90,
          91,
          92,
          93,
          94,
          95,
          96,
          97,
          98,
          99,
          100
         ],
         "xaxis": "x2",
         "y": [
          0,
          0,
          0,
          0,
          0,
          0,
          0,
          0,
          0,
          0,
          0,
          0,
          0,
          0,
          0,
          0,
          0,
          0,
          0,
          0,
          0,
          0,
          0,
          0,
          0,
          0,
          0,
          0,
          0,
          0,
          0,
          0,
          0,
          0,
          0,
          0,
          0,
          0,
          0,
          0,
          0,
          0,
          0,
          0,
          0,
          0,
          0,
          0,
          0,
          0,
          0,
          0,
          0,
          0,
          0,
          0,
          0,
          0,
          0,
          0,
          null,
          250000,
          250000,
          250000,
          250000,
          250000,
          250000,
          250000,
          250000,
          250000,
          250000,
          250000,
          250000,
          250000,
          250000,
          250000,
          250000,
          250000,
          250000,
          250000,
          250000
         ],
         "yaxis": "y2"
        },
        {
         "name": "EUA Mar25 85C",
         "type": "scatter",
         "x": [
          20,
          21,
          22,
          23,
          24,
          25,
          26,
          27,
          28,
          29,
          30,
          31,
          32,
          33,
          34,
          35,
          36,
          37,
          38,
          39,
          40,
          41,
          42,
          43,
          44,
          45,
          46,
          47,
          48,
          49,
          50,
          51,
          52,
          53,
          54,
          55,
          56,
          57,
          58,
          59,
          60,
          61,
          62,
          63,
          64,
          65,
          66,
          67,
          68,
          69,
          70,
          71,
          72,
          73,
          74,
          75,
          76,
          77,
          78,
          79,
          80,
          81,
          82,
          83,
          84,
          85,
          86,
          87,
          88,
          89,
          90,
          91,
          92,
          93,
          94,
          95,
          96,
          97,
          98,
          99,
          100
         ],
         "xaxis": "x",
         "y": [
          -120545.32695780632,
          -120545.32695780632,
          -120545.32695780632,
          -120545.32695780632,
          -120545.32695780632,
          -120545.32695780632,
          -120545.32695780632,
          -120545.32695780632,
          -120545.32695780632,
          -120545.32695780632,
          -120545.32695780632,
          -120545.32695780632,
          -120545.32695780632,
          -120545.32695780632,
          -120545.32695780632,
          -120545.32695780632,
          -120545.32695780632,
          -120545.32695780632,
          -120545.32695780632,
          -120545.32695780632,
          -120545.32695780632,
          -120545.32695780632,
          -120545.32695780632,
          -120545.32695780632,
          -120545.32695780632,
          -120545.32695780632,
          -120545.32695780632,
          -120545.32695780632,
          -120545.32695780632,
          -120545.32695780632,
          -120545.32695780632,
          -120545.32695780632,
          -120545.32695780632,
          -120545.32695780632,
          -120545.32695780632,
          -120545.32695780632,
          -120545.32695780632,
          -120545.32695780632,
          -120545.32695780632,
          -120545.32695780632,
          -120545.32695780632,
          -120545.32695780632,
          -120545.32695780632,
          -120545.32695780632,
          -120545.32695780632,
          -120545.32695780632,
          -120545.32695780632,
          -120545.32695780632,
          -120545.32695780632,
          -120545.32695780632,
          -120545.32695780632,
          -120545.32695780632,
          -120545.32695780632,
          -120545.32695780632,
          -120545.32695780632,
          -120545.32695780632,
          -120545.32695780632,
          -120545.32695780632,
          -120545.32695780632,
          -120545.32695780632,
          -120545.32695780632,
          -120545.32695780632,
          -120545.32695780632,
          -120545.32695780632,
          -120545.32695780632,
          -120545.32695780632,
          412493.6730421937,
          945532.6730421936,
          1478571.6730421938,
          2011610.6730421938,
          2544649.6730421935,
          3077688.6730421935,
          3610727.6730421935,
          4143766.6730421935,
          4676805.673042194,
          5209844.673042194,
          5742883.673042194,
          6275922.673042194,
          6808961.673042194,
          7342000.673042195,
          7875039.673042195
         ],
         "yaxis": "y"
        },
        {
         "name": "EUA Mar25 85C",
         "type": "scatter",
         "x": [
          20,
          21,
          22,
          23,
          24,
          25,
          26,
          27,
          28,
          29,
          30,
          31,
          32,
          33,
          34,
          35,
          36,
          37,
          38,
          39,
          40,
          41,
          42,
          43,
          44,
          45,
          46,
          47,
          48,
          49,
          50,
          51,
          52,
          53,
          54,
          55,
          56,
          57,
          58,
          59,
          60,
          61,
          62,
          63,
          64,
          65,
          66,
          67,
          68,
          69,
          70,
          71,
          72,
          73,
          74,
          75,
          76,
          77,
          78,
          79,
          80,
          81,
          82,
          83,
          84,
          85,
          86,
          87,
          88,
          89,
          90,
          91,
          92,
          93,
          94,
          95,
          96,
          97,
          98,
          99,
          100
         ],
         "xaxis": "x2",
         "y": [
          0,
          0,
          0,
          0,
          0,
          0,
          0,
          0,
          0,
          0,
          0,
          0,
          0,
          0,
          0,
          0,
          0,
          0,
          0,
          0,
          0,
          0,
          0,
          0,
          0,
          0,
          0,
          0,
          0,
          0,
          0,
          0,
          0,
          0,
          0,
          0,
          0,
          0,
          0,
          0,
          0,
          0,
          0,
          0,
          0,
          0,
          0,
          0,
          0,
          0,
          0,
          0,
          0,
          0,
          0,
          0,
          0,
          0,
          0,
          0,
          0,
          0,
          0,
          0,
          0,
          null,
          325000,
          325000,
          325000,
          325000,
          325000,
          325000,
          325000,
          325000,
          325000,
          325000,
          325000,
          325000,
          325000,
          325000,
          325000
         ],
         "yaxis": "y2"
        },
        {
         "name": "EUA Mar25 90C",
         "type": "scatter",
         "x": [
          20,
          21,
          22,
          23,
          24,
          25,
          26,
          27,
          28,
          29,
          30,
          31,
          32,
          33,
          34,
          35,
          36,
          37,
          38,
          39,
          40,
          41,
          42,
          43,
          44,
          45,
          46,
          47,
          48,
          49,
          50,
          51,
          52,
          53,
          54,
          55,
          56,
          57,
          58,
          59,
          60,
          61,
          62,
          63,
          64,
          65,
          66,
          67,
          68,
          69,
          70,
          71,
          72,
          73,
          74,
          75,
          76,
          77,
          78,
          79,
          80,
          81,
          82,
          83,
          84,
          85,
          86,
          87,
          88,
          89,
          90,
          91,
          92,
          93,
          94,
          95,
          96,
          97,
          98,
          99,
          100
         ],
         "xaxis": "x",
         "y": [
          -42315.162703868795,
          -42315.162703868795,
          -42315.162703868795,
          -42315.162703868795,
          -42315.162703868795,
          -42315.162703868795,
          -42315.162703868795,
          -42315.162703868795,
          -42315.162703868795,
          -42315.162703868795,
          -42315.162703868795,
          -42315.162703868795,
          -42315.162703868795,
          -42315.162703868795,
          -42315.162703868795,
          -42315.162703868795,
          -42315.162703868795,
          -42315.162703868795,
          -42315.162703868795,
          -42315.162703868795,
          -42315.162703868795,
          -42315.162703868795,
          -42315.162703868795,
          -42315.162703868795,
          -42315.162703868795,
          -42315.162703868795,
          -42315.162703868795,
          -42315.162703868795,
          -42315.162703868795,
          -42315.162703868795,
          -42315.162703868795,
          -42315.162703868795,
          -42315.162703868795,
          -42315.162703868795,
          -42315.162703868795,
          -42315.162703868795,
          -42315.162703868795,
          -42315.162703868795,
          -42315.162703868795,
          -42315.162703868795,
          -42315.162703868795,
          -42315.162703868795,
          -42315.162703868795,
          -42315.162703868795,
          -42315.162703868795,
          -42315.162703868795,
          -42315.162703868795,
          -42315.162703868795,
          -42315.162703868795,
          -42315.162703868795,
          -42315.162703868795,
          -42315.162703868795,
          -42315.162703868795,
          -42315.162703868795,
          -42315.162703868795,
          -42315.162703868795,
          -42315.162703868795,
          -42315.162703868795,
          -42315.162703868795,
          -42315.162703868795,
          -42315.162703868795,
          -42315.162703868795,
          -42315.162703868795,
          -42315.162703868795,
          -42315.162703868795,
          -42315.162703868795,
          -42315.162703868795,
          -42315.162703868795,
          -42315.162703868795,
          -42315.162703868795,
          -42315.162703868795,
          531726.8372961312,
          1105768.8372961313,
          1679810.8372961313,
          2253852.8372961315,
          2827894.837296131,
          3401936.837296131,
          3975978.837296131,
          4550020.837296131,
          5124062.837296131,
          5698104.837296131
         ],
         "yaxis": "y"
        },
        {
         "name": "EUA Mar25 90C",
         "type": "scatter",
         "x": [
          20,
          21,
          22,
          23,
          24,
          25,
          26,
          27,
          28,
          29,
          30,
          31,
          32,
          33,
          34,
          35,
          36,
          37,
          38,
          39,
          40,
          41,
          42,
          43,
          44,
          45,
          46,
          47,
          48,
          49,
          50,
          51,
          52,
          53,
          54,
          55,
          56,
          57,
          58,
          59,
          60,
          61,
          62,
          63,
          64,
          65,
          66,
          67,
          68,
          69,
          70,
          71,
          72,
          73,
          74,
          75,
          76,
          77,
          78,
          79,
          80,
          81,
          82,
          83,
          84,
          85,
          86,
          87,
          88,
          89,
          90,
          91,
          92,
          93,
          94,
          95,
          96,
          97,
          98,
          99,
          100
         ],
         "xaxis": "x2",
         "y": [
          0,
          0,
          0,
          0,
          0,
          0,
          0,
          0,
          0,
          0,
          0,
          0,
          0,
          0,
          0,
          0,
          0,
          0,
          0,
          0,
          0,
          0,
          0,
          0,
          0,
          0,
          0,
          0,
          0,
          0,
          0,
          0,
          0,
          0,
          0,
          0,
          0,
          0,
          0,
          0,
          0,
          0,
          0,
          0,
          0,
          0,
          0,
          0,
          0,
          0,
          0,
          0,
          0,
          0,
          0,
          0,
          0,
          0,
          0,
          0,
          0,
          0,
          0,
          0,
          0,
          0,
          0,
          0,
          0,
          0,
          null,
          350000,
          350000,
          350000,
          350000,
          350000,
          350000,
          350000,
          350000,
          350000,
          350000
         ],
         "yaxis": "y2"
        },
        {
         "mode": "lines",
         "name": "Total_PnL",
         "type": "scatter",
         "x": [
          20,
          21,
          22,
          23,
          24,
          25,
          26,
          27,
          28,
          29,
          30,
          31,
          32,
          33,
          34,
          35,
          36,
          37,
          38,
          39,
          40,
          41,
          42,
          43,
          44,
          45,
          46,
          47,
          48,
          49,
          50,
          51,
          52,
          53,
          54,
          55,
          56,
          57,
          58,
          59,
          60,
          61,
          62,
          63,
          64,
          65,
          66,
          67,
          68,
          69,
          70,
          71,
          72,
          73,
          74,
          75,
          76,
          77,
          78,
          79,
          80,
          81,
          82,
          83,
          84,
          85,
          86,
          87,
          88,
          89,
          90,
          91,
          92,
          93,
          94,
          95,
          96,
          97,
          98,
          99,
          100
         ],
         "xaxis": "x",
         "y": [
          -703588.5084591393,
          -703588.5084591393,
          -703588.5084591393,
          -703588.5084591393,
          -703588.5084591393,
          -703588.5084591393,
          -703588.5084591393,
          -703588.5084591393,
          -703588.5084591393,
          -703588.5084591393,
          -703588.5084591393,
          -703588.5084591393,
          -703588.5084591393,
          -703588.5084591393,
          -703588.5084591393,
          -703588.5084591393,
          -703588.5084591393,
          -703588.5084591393,
          -703588.5084591393,
          -703588.5084591393,
          -703588.5084591393,
          -703588.5084591393,
          -703588.5084591393,
          -703588.5084591393,
          -703588.5084591393,
          -703588.5084591393,
          -703588.5084591393,
          -703588.5084591393,
          -703588.5084591393,
          -703588.5084591393,
          -703588.5084591393,
          -703588.5084591393,
          -703588.5084591393,
          -703588.5084591393,
          -703588.5084591393,
          -703588.5084591393,
          -703588.5084591393,
          -703588.5084591393,
          -703588.5084591393,
          -703588.5084591393,
          -703588.5084591393,
          -703588.5084591393,
          -703588.5084591393,
          -703588.5084591393,
          -703588.5084591393,
          -703588.5084591393,
          -703588.5084591393,
          -703588.5084591393,
          -703588.5084591393,
          -703588.5084591393,
          -703588.5084591393,
          -703588.5084591393,
          -703588.5084591393,
          -703588.5084591393,
          -703588.5084591393,
          -703588.5084591393,
          -580579.5084591393,
          -457570.5084591392,
          -334561.5084591392,
          -211552.50845913918,
          -88543.50845913921,
          444495.4915408608,
          977534.4915408609,
          1510573.4915408609,
          2043612.4915408609,
          2576651.4915408604,
          3642729.4915408604,
          4708807.49154086,
          5774885.49154086,
          6840963.49154086,
          7907041.491540859,
          9547161.49154086,
          11187281.49154086,
          12827401.49154086,
          14467521.49154086,
          16107641.49154086,
          17747761.49154086,
          19387881.49154086,
          21028001.49154086,
          22668121.49154086,
          24308241.49154086
         ],
         "yaxis": "y"
        },
        {
         "mode": "lines",
         "name": "Total_Delta",
         "type": "scatter",
         "x": [
          20,
          21,
          22,
          23,
          24,
          25,
          26,
          27,
          28,
          29,
          30,
          31,
          32,
          33,
          34,
          35,
          36,
          37,
          38,
          39,
          40,
          41,
          42,
          43,
          44,
          45,
          46,
          47,
          48,
          49,
          50,
          51,
          52,
          53,
          54,
          55,
          56,
          57,
          58,
          59,
          60,
          61,
          62,
          63,
          64,
          65,
          66,
          67,
          68,
          69,
          70,
          71,
          72,
          73,
          74,
          75,
          76,
          77,
          78,
          79,
          80,
          81,
          82,
          83,
          84,
          85,
          86,
          87,
          88,
          89,
          90,
          91,
          92,
          93,
          94,
          95,
          96,
          97,
          98,
          99,
          100
         ],
         "xaxis": "x2",
         "y": [
          0,
          0,
          0,
          0,
          0,
          0,
          0,
          0,
          0,
          0,
          0,
          0,
          0,
          0,
          0,
          0,
          0,
          0,
          0,
          0,
          0,
          0,
          0,
          0,
          0,
          0,
          0,
          0,
          0,
          0,
          0,
          0,
          0,
          0,
          0,
          0,
          0,
          0,
          0,
          0,
          0,
          0,
          0,
          0,
          0,
          0,
          0,
          0,
          0,
          0,
          0,
          0,
          0,
          0,
          0,
          0,
          75000,
          75000,
          75000,
          75000,
          75000,
          325000,
          325000,
          325000,
          325000,
          325000,
          650000,
          650000,
          650000,
          650000,
          650000,
          1000000,
          1000000,
          1000000,
          1000000,
          1000000,
          1000000,
          1000000,
          1000000,
          1000000,
          1000000
         ],
         "yaxis": "y2"
        }
       ],
       "layout": {
        "barmode": "stack",
        "template": {
         "data": {
          "bar": [
           {
            "error_x": {
             "color": "#2a3f5f"
            },
            "error_y": {
             "color": "#2a3f5f"
            },
            "marker": {
             "line": {
              "color": "#E5ECF6",
              "width": 0.5
             },
             "pattern": {
              "fillmode": "overlay",
              "size": 10,
              "solidity": 0.2
             }
            },
            "type": "bar"
           }
          ],
          "barpolar": [
           {
            "marker": {
             "line": {
              "color": "#E5ECF6",
              "width": 0.5
             },
             "pattern": {
              "fillmode": "overlay",
              "size": 10,
              "solidity": 0.2
             }
            },
            "type": "barpolar"
           }
          ],
          "carpet": [
           {
            "aaxis": {
             "endlinecolor": "#2a3f5f",
             "gridcolor": "white",
             "linecolor": "white",
             "minorgridcolor": "white",
             "startlinecolor": "#2a3f5f"
            },
            "baxis": {
             "endlinecolor": "#2a3f5f",
             "gridcolor": "white",
             "linecolor": "white",
             "minorgridcolor": "white",
             "startlinecolor": "#2a3f5f"
            },
            "type": "carpet"
           }
          ],
          "choropleth": [
           {
            "colorbar": {
             "outlinewidth": 0,
             "ticks": ""
            },
            "type": "choropleth"
           }
          ],
          "contour": [
           {
            "colorbar": {
             "outlinewidth": 0,
             "ticks": ""
            },
            "colorscale": [
             [
              0,
              "#0d0887"
             ],
             [
              0.1111111111111111,
              "#46039f"
             ],
             [
              0.2222222222222222,
              "#7201a8"
             ],
             [
              0.3333333333333333,
              "#9c179e"
             ],
             [
              0.4444444444444444,
              "#bd3786"
             ],
             [
              0.5555555555555556,
              "#d8576b"
             ],
             [
              0.6666666666666666,
              "#ed7953"
             ],
             [
              0.7777777777777778,
              "#fb9f3a"
             ],
             [
              0.8888888888888888,
              "#fdca26"
             ],
             [
              1,
              "#f0f921"
             ]
            ],
            "type": "contour"
           }
          ],
          "contourcarpet": [
           {
            "colorbar": {
             "outlinewidth": 0,
             "ticks": ""
            },
            "type": "contourcarpet"
           }
          ],
          "heatmap": [
           {
            "colorbar": {
             "outlinewidth": 0,
             "ticks": ""
            },
            "colorscale": [
             [
              0,
              "#0d0887"
             ],
             [
              0.1111111111111111,
              "#46039f"
             ],
             [
              0.2222222222222222,
              "#7201a8"
             ],
             [
              0.3333333333333333,
              "#9c179e"
             ],
             [
              0.4444444444444444,
              "#bd3786"
             ],
             [
              0.5555555555555556,
              "#d8576b"
             ],
             [
              0.6666666666666666,
              "#ed7953"
             ],
             [
              0.7777777777777778,
              "#fb9f3a"
             ],
             [
              0.8888888888888888,
              "#fdca26"
             ],
             [
              1,
              "#f0f921"
             ]
            ],
            "type": "heatmap"
           }
          ],
          "heatmapgl": [
           {
            "colorbar": {
             "outlinewidth": 0,
             "ticks": ""
            },
            "colorscale": [
             [
              0,
              "#0d0887"
             ],
             [
              0.1111111111111111,
              "#46039f"
             ],
             [
              0.2222222222222222,
              "#7201a8"
             ],
             [
              0.3333333333333333,
              "#9c179e"
             ],
             [
              0.4444444444444444,
              "#bd3786"
             ],
             [
              0.5555555555555556,
              "#d8576b"
             ],
             [
              0.6666666666666666,
              "#ed7953"
             ],
             [
              0.7777777777777778,
              "#fb9f3a"
             ],
             [
              0.8888888888888888,
              "#fdca26"
             ],
             [
              1,
              "#f0f921"
             ]
            ],
            "type": "heatmapgl"
           }
          ],
          "histogram": [
           {
            "marker": {
             "pattern": {
              "fillmode": "overlay",
              "size": 10,
              "solidity": 0.2
             }
            },
            "type": "histogram"
           }
          ],
          "histogram2d": [
           {
            "colorbar": {
             "outlinewidth": 0,
             "ticks": ""
            },
            "colorscale": [
             [
              0,
              "#0d0887"
             ],
             [
              0.1111111111111111,
              "#46039f"
             ],
             [
              0.2222222222222222,
              "#7201a8"
             ],
             [
              0.3333333333333333,
              "#9c179e"
             ],
             [
              0.4444444444444444,
              "#bd3786"
             ],
             [
              0.5555555555555556,
              "#d8576b"
             ],
             [
              0.6666666666666666,
              "#ed7953"
             ],
             [
              0.7777777777777778,
              "#fb9f3a"
             ],
             [
              0.8888888888888888,
              "#fdca26"
             ],
             [
              1,
              "#f0f921"
             ]
            ],
            "type": "histogram2d"
           }
          ],
          "histogram2dcontour": [
           {
            "colorbar": {
             "outlinewidth": 0,
             "ticks": ""
            },
            "colorscale": [
             [
              0,
              "#0d0887"
             ],
             [
              0.1111111111111111,
              "#46039f"
             ],
             [
              0.2222222222222222,
              "#7201a8"
             ],
             [
              0.3333333333333333,
              "#9c179e"
             ],
             [
              0.4444444444444444,
              "#bd3786"
             ],
             [
              0.5555555555555556,
              "#d8576b"
             ],
             [
              0.6666666666666666,
              "#ed7953"
             ],
             [
              0.7777777777777778,
              "#fb9f3a"
             ],
             [
              0.8888888888888888,
              "#fdca26"
             ],
             [
              1,
              "#f0f921"
             ]
            ],
            "type": "histogram2dcontour"
           }
          ],
          "mesh3d": [
           {
            "colorbar": {
             "outlinewidth": 0,
             "ticks": ""
            },
            "type": "mesh3d"
           }
          ],
          "parcoords": [
           {
            "line": {
             "colorbar": {
              "outlinewidth": 0,
              "ticks": ""
             }
            },
            "type": "parcoords"
           }
          ],
          "pie": [
           {
            "automargin": true,
            "type": "pie"
           }
          ],
          "scatter": [
           {
            "fillpattern": {
             "fillmode": "overlay",
             "size": 10,
             "solidity": 0.2
            },
            "type": "scatter"
           }
          ],
          "scatter3d": [
           {
            "line": {
             "colorbar": {
              "outlinewidth": 0,
              "ticks": ""
             }
            },
            "marker": {
             "colorbar": {
              "outlinewidth": 0,
              "ticks": ""
             }
            },
            "type": "scatter3d"
           }
          ],
          "scattercarpet": [
           {
            "marker": {
             "colorbar": {
              "outlinewidth": 0,
              "ticks": ""
             }
            },
            "type": "scattercarpet"
           }
          ],
          "scattergeo": [
           {
            "marker": {
             "colorbar": {
              "outlinewidth": 0,
              "ticks": ""
             }
            },
            "type": "scattergeo"
           }
          ],
          "scattergl": [
           {
            "marker": {
             "colorbar": {
              "outlinewidth": 0,
              "ticks": ""
             }
            },
            "type": "scattergl"
           }
          ],
          "scattermapbox": [
           {
            "marker": {
             "colorbar": {
              "outlinewidth": 0,
              "ticks": ""
             }
            },
            "type": "scattermapbox"
           }
          ],
          "scatterpolar": [
           {
            "marker": {
             "colorbar": {
              "outlinewidth": 0,
              "ticks": ""
             }
            },
            "type": "scatterpolar"
           }
          ],
          "scatterpolargl": [
           {
            "marker": {
             "colorbar": {
              "outlinewidth": 0,
              "ticks": ""
             }
            },
            "type": "scatterpolargl"
           }
          ],
          "scatterternary": [
           {
            "marker": {
             "colorbar": {
              "outlinewidth": 0,
              "ticks": ""
             }
            },
            "type": "scatterternary"
           }
          ],
          "surface": [
           {
            "colorbar": {
             "outlinewidth": 0,
             "ticks": ""
            },
            "colorscale": [
             [
              0,
              "#0d0887"
             ],
             [
              0.1111111111111111,
              "#46039f"
             ],
             [
              0.2222222222222222,
              "#7201a8"
             ],
             [
              0.3333333333333333,
              "#9c179e"
             ],
             [
              0.4444444444444444,
              "#bd3786"
             ],
             [
              0.5555555555555556,
              "#d8576b"
             ],
             [
              0.6666666666666666,
              "#ed7953"
             ],
             [
              0.7777777777777778,
              "#fb9f3a"
             ],
             [
              0.8888888888888888,
              "#fdca26"
             ],
             [
              1,
              "#f0f921"
             ]
            ],
            "type": "surface"
           }
          ],
          "table": [
           {
            "cells": {
             "fill": {
              "color": "#EBF0F8"
             },
             "line": {
              "color": "white"
             }
            },
            "header": {
             "fill": {
              "color": "#C8D4E3"
             },
             "line": {
              "color": "white"
             }
            },
            "type": "table"
           }
          ]
         },
         "layout": {
          "annotationdefaults": {
           "arrowcolor": "#2a3f5f",
           "arrowhead": 0,
           "arrowwidth": 1
          },
          "autotypenumbers": "strict",
          "coloraxis": {
           "colorbar": {
            "outlinewidth": 0,
            "ticks": ""
           }
          },
          "colorscale": {
           "diverging": [
            [
             0,
             "#8e0152"
            ],
            [
             0.1,
             "#c51b7d"
            ],
            [
             0.2,
             "#de77ae"
            ],
            [
             0.3,
             "#f1b6da"
            ],
            [
             0.4,
             "#fde0ef"
            ],
            [
             0.5,
             "#f7f7f7"
            ],
            [
             0.6,
             "#e6f5d0"
            ],
            [
             0.7,
             "#b8e186"
            ],
            [
             0.8,
             "#7fbc41"
            ],
            [
             0.9,
             "#4d9221"
            ],
            [
             1,
             "#276419"
            ]
           ],
           "sequential": [
            [
             0,
             "#0d0887"
            ],
            [
             0.1111111111111111,
             "#46039f"
            ],
            [
             0.2222222222222222,
             "#7201a8"
            ],
            [
             0.3333333333333333,
             "#9c179e"
            ],
            [
             0.4444444444444444,
             "#bd3786"
            ],
            [
             0.5555555555555556,
             "#d8576b"
            ],
            [
             0.6666666666666666,
             "#ed7953"
            ],
            [
             0.7777777777777778,
             "#fb9f3a"
            ],
            [
             0.8888888888888888,
             "#fdca26"
            ],
            [
             1,
             "#f0f921"
            ]
           ],
           "sequentialminus": [
            [
             0,
             "#0d0887"
            ],
            [
             0.1111111111111111,
             "#46039f"
            ],
            [
             0.2222222222222222,
             "#7201a8"
            ],
            [
             0.3333333333333333,
             "#9c179e"
            ],
            [
             0.4444444444444444,
             "#bd3786"
            ],
            [
             0.5555555555555556,
             "#d8576b"
            ],
            [
             0.6666666666666666,
             "#ed7953"
            ],
            [
             0.7777777777777778,
             "#fb9f3a"
            ],
            [
             0.8888888888888888,
             "#fdca26"
            ],
            [
             1,
             "#f0f921"
            ]
           ]
          },
          "colorway": [
           "#636efa",
           "#EF553B",
           "#00cc96",
           "#ab63fa",
           "#FFA15A",
           "#19d3f3",
           "#FF6692",
           "#B6E880",
           "#FF97FF",
           "#FECB52"
          ],
          "font": {
           "color": "#2a3f5f"
          },
          "geo": {
           "bgcolor": "white",
           "lakecolor": "white",
           "landcolor": "#E5ECF6",
           "showlakes": true,
           "showland": true,
           "subunitcolor": "white"
          },
          "hoverlabel": {
           "align": "left"
          },
          "hovermode": "closest",
          "mapbox": {
           "style": "light"
          },
          "paper_bgcolor": "white",
          "plot_bgcolor": "#E5ECF6",
          "polar": {
           "angularaxis": {
            "gridcolor": "white",
            "linecolor": "white",
            "ticks": ""
           },
           "bgcolor": "#E5ECF6",
           "radialaxis": {
            "gridcolor": "white",
            "linecolor": "white",
            "ticks": ""
           }
          },
          "scene": {
           "xaxis": {
            "backgroundcolor": "#E5ECF6",
            "gridcolor": "white",
            "gridwidth": 2,
            "linecolor": "white",
            "showbackground": true,
            "ticks": "",
            "zerolinecolor": "white"
           },
           "yaxis": {
            "backgroundcolor": "#E5ECF6",
            "gridcolor": "white",
            "gridwidth": 2,
            "linecolor": "white",
            "showbackground": true,
            "ticks": "",
            "zerolinecolor": "white"
           },
           "zaxis": {
            "backgroundcolor": "#E5ECF6",
            "gridcolor": "white",
            "gridwidth": 2,
            "linecolor": "white",
            "showbackground": true,
            "ticks": "",
            "zerolinecolor": "white"
           }
          },
          "shapedefaults": {
           "line": {
            "color": "#2a3f5f"
           }
          },
          "ternary": {
           "aaxis": {
            "gridcolor": "white",
            "linecolor": "white",
            "ticks": ""
           },
           "baxis": {
            "gridcolor": "white",
            "linecolor": "white",
            "ticks": ""
           },
           "bgcolor": "#E5ECF6",
           "caxis": {
            "gridcolor": "white",
            "linecolor": "white",
            "ticks": ""
           }
          },
          "title": {
           "x": 0.05
          },
          "xaxis": {
           "automargin": true,
           "gridcolor": "white",
           "linecolor": "white",
           "ticks": "",
           "title": {
            "standoff": 15
           },
           "zerolinecolor": "white",
           "zerolinewidth": 2
          },
          "yaxis": {
           "automargin": true,
           "gridcolor": "white",
           "linecolor": "white",
           "ticks": "",
           "title": {
            "standoff": 15
           },
           "zerolinecolor": "white",
           "zerolinewidth": 2
          }
         }
        },
        "title": {
         "text": "Todays Option Pos (PnL and Delta)",
         "x": 0.5,
         "xanchor": "center"
        },
        "xaxis": {
         "anchor": "y",
         "domain": [
          0,
          0.45
         ],
         "title": {
          "text": "Price"
         }
        },
        "xaxis2": {
         "anchor": "y2",
         "domain": [
          0.55,
          1
         ],
         "title": {
          "text": "Price"
         }
        },
        "yaxis": {
         "anchor": "x",
         "domain": [
          0,
          1
         ],
         "title": {
          "text": "Pnl"
         }
        },
        "yaxis2": {
         "anchor": "x2",
         "domain": [
          0,
          1
         ],
         "title": {
          "text": "Delta"
         }
        }
       }
      },
      "text/html": [
       "<div>                            <div id=\"2133b081-aa33-4d4f-90bf-06ef14774fdc\" class=\"plotly-graph-div\" style=\"height:525px; width:100%;\"></div>            <script type=\"text/javascript\">                require([\"plotly\"], function(Plotly) {                    window.PLOTLYENV=window.PLOTLYENV || {};                                    if (document.getElementById(\"2133b081-aa33-4d4f-90bf-06ef14774fdc\")) {                    Plotly.newPlot(                        \"2133b081-aa33-4d4f-90bf-06ef14774fdc\",                        [{\"name\":\"EUA Mar25 75C\",\"x\":[20,21,22,23,24,25,26,27,28,29,30,31,32,33,34,35,36,37,38,39,40,41,42,43,44,45,46,47,48,49,50,51,52,53,54,55,56,57,58,59,60,61,62,63,64,65,66,67,68,69,70,71,72,73,74,75,76,77,78,79,80,81,82,83,84,85,86,87,88,89,90,91,92,93,94,95,96,97,98,99,100],\"y\":[-247685.6730499249,-247685.6730499249,-247685.6730499249,-247685.6730499249,-247685.6730499249,-247685.6730499249,-247685.6730499249,-247685.6730499249,-247685.6730499249,-247685.6730499249,-247685.6730499249,-247685.6730499249,-247685.6730499249,-247685.6730499249,-247685.6730499249,-247685.6730499249,-247685.6730499249,-247685.6730499249,-247685.6730499249,-247685.6730499249,-247685.6730499249,-247685.6730499249,-247685.6730499249,-247685.6730499249,-247685.6730499249,-247685.6730499249,-247685.6730499249,-247685.6730499249,-247685.6730499249,-247685.6730499249,-247685.6730499249,-247685.6730499249,-247685.6730499249,-247685.6730499249,-247685.6730499249,-247685.6730499249,-247685.6730499249,-247685.6730499249,-247685.6730499249,-247685.6730499249,-247685.6730499249,-247685.6730499249,-247685.6730499249,-247685.6730499249,-247685.6730499249,-247685.6730499249,-247685.6730499249,-247685.6730499249,-247685.6730499249,-247685.6730499249,-247685.6730499249,-247685.6730499249,-247685.6730499249,-247685.6730499249,-247685.6730499249,-247685.6730499249,-124676.67304992491,-1667.6730499248938,121341.3269500751,244350.3269500751,367359.3269500751,490368.3269500751,613377.3269500752,736386.3269500752,859395.3269500752,982404.3269500752,1105413.326950075,1228422.326950075,1351431.326950075,1474440.326950075,1597449.326950075,1720458.326950075,1843467.326950075,1966476.326950075,2089485.326950075,2212494.326950075,2335503.326950075,2458512.326950075,2581521.326950075,2704530.326950075,2827539.326950075],\"type\":\"scatter\",\"xaxis\":\"x\",\"yaxis\":\"y\"},{\"name\":\"EUA Mar25 75C\",\"x\":[20,21,22,23,24,25,26,27,28,29,30,31,32,33,34,35,36,37,38,39,40,41,42,43,44,45,46,47,48,49,50,51,52,53,54,55,56,57,58,59,60,61,62,63,64,65,66,67,68,69,70,71,72,73,74,75,76,77,78,79,80,81,82,83,84,85,86,87,88,89,90,91,92,93,94,95,96,97,98,99,100],\"y\":[0.0,0.0,0.0,0.0,0.0,0.0,0.0,0.0,0.0,0.0,0.0,0.0,0.0,0.0,0.0,0.0,0.0,0.0,0.0,0.0,0.0,0.0,0.0,0.0,0.0,0.0,0.0,0.0,0.0,0.0,0.0,0.0,0.0,0.0,0.0,0.0,0.0,0.0,0.0,0.0,0.0,0.0,0.0,0.0,0.0,0.0,0.0,0.0,0.0,0.0,0.0,0.0,0.0,0.0,0.0,null,75000.0,75000.0,75000.0,75000.0,75000.0,75000.0,75000.0,75000.0,75000.0,75000.0,75000.0,75000.0,75000.0,75000.0,75000.0,75000.0,75000.0,75000.0,75000.0,75000.0,75000.0,75000.0,75000.0,75000.0,75000.0],\"type\":\"scatter\",\"xaxis\":\"x2\",\"yaxis\":\"y2\"},{\"name\":\"EUA Mar25 80C\",\"x\":[20,21,22,23,24,25,26,27,28,29,30,31,32,33,34,35,36,37,38,39,40,41,42,43,44,45,46,47,48,49,50,51,52,53,54,55,56,57,58,59,60,61,62,63,64,65,66,67,68,69,70,71,72,73,74,75,76,77,78,79,80,81,82,83,84,85,86,87,88,89,90,91,92,93,94,95,96,97,98,99,100],\"y\":[-293042.3457475392,-293042.3457475392,-293042.3457475392,-293042.3457475392,-293042.3457475392,-293042.3457475392,-293042.3457475392,-293042.3457475392,-293042.3457475392,-293042.3457475392,-293042.3457475392,-293042.3457475392,-293042.3457475392,-293042.3457475392,-293042.3457475392,-293042.3457475392,-293042.3457475392,-293042.3457475392,-293042.3457475392,-293042.3457475392,-293042.3457475392,-293042.3457475392,-293042.3457475392,-293042.3457475392,-293042.3457475392,-293042.3457475392,-293042.3457475392,-293042.3457475392,-293042.3457475392,-293042.3457475392,-293042.3457475392,-293042.3457475392,-293042.3457475392,-293042.3457475392,-293042.3457475392,-293042.3457475392,-293042.3457475392,-293042.3457475392,-293042.3457475392,-293042.3457475392,-293042.3457475392,-293042.3457475392,-293042.3457475392,-293042.3457475392,-293042.3457475392,-293042.3457475392,-293042.3457475392,-293042.3457475392,-293042.3457475392,-293042.3457475392,-293042.3457475392,-293042.3457475392,-293042.3457475392,-293042.3457475392,-293042.3457475392,-293042.3457475392,-293042.3457475392,-293042.3457475392,-293042.3457475392,-293042.3457475392,-293042.3457475392,116987.65425246078,527017.6542524608,937047.6542524607,1347077.6542524607,1757107.6542524607,2167137.6542524607,2577167.6542524607,2987197.6542524607,3397227.6542524607,3807257.65425246,4217287.65425246,4627317.65425246,5037347.65425246,5447377.65425246,5857407.65425246,6267437.65425246,6677467.654252461,7087497.654252461,7497527.654252461,7907557.654252461],\"type\":\"scatter\",\"xaxis\":\"x\",\"yaxis\":\"y\"},{\"name\":\"EUA Mar25 80C\",\"x\":[20,21,22,23,24,25,26,27,28,29,30,31,32,33,34,35,36,37,38,39,40,41,42,43,44,45,46,47,48,49,50,51,52,53,54,55,56,57,58,59,60,61,62,63,64,65,66,67,68,69,70,71,72,73,74,75,76,77,78,79,80,81,82,83,84,85,86,87,88,89,90,91,92,93,94,95,96,97,98,99,100],\"y\":[0.0,0.0,0.0,0.0,0.0,0.0,0.0,0.0,0.0,0.0,0.0,0.0,0.0,0.0,0.0,0.0,0.0,0.0,0.0,0.0,0.0,0.0,0.0,0.0,0.0,0.0,0.0,0.0,0.0,0.0,0.0,0.0,0.0,0.0,0.0,0.0,0.0,0.0,0.0,0.0,0.0,0.0,0.0,0.0,0.0,0.0,0.0,0.0,0.0,0.0,0.0,0.0,0.0,0.0,0.0,0.0,0.0,0.0,0.0,0.0,null,250000.0,250000.0,250000.0,250000.0,250000.0,250000.0,250000.0,250000.0,250000.0,250000.0,250000.0,250000.0,250000.0,250000.0,250000.0,250000.0,250000.0,250000.0,250000.0,250000.0],\"type\":\"scatter\",\"xaxis\":\"x2\",\"yaxis\":\"y2\"},{\"name\":\"EUA Mar25 85C\",\"x\":[20,21,22,23,24,25,26,27,28,29,30,31,32,33,34,35,36,37,38,39,40,41,42,43,44,45,46,47,48,49,50,51,52,53,54,55,56,57,58,59,60,61,62,63,64,65,66,67,68,69,70,71,72,73,74,75,76,77,78,79,80,81,82,83,84,85,86,87,88,89,90,91,92,93,94,95,96,97,98,99,100],\"y\":[-120545.32695780632,-120545.32695780632,-120545.32695780632,-120545.32695780632,-120545.32695780632,-120545.32695780632,-120545.32695780632,-120545.32695780632,-120545.32695780632,-120545.32695780632,-120545.32695780632,-120545.32695780632,-120545.32695780632,-120545.32695780632,-120545.32695780632,-120545.32695780632,-120545.32695780632,-120545.32695780632,-120545.32695780632,-120545.32695780632,-120545.32695780632,-120545.32695780632,-120545.32695780632,-120545.32695780632,-120545.32695780632,-120545.32695780632,-120545.32695780632,-120545.32695780632,-120545.32695780632,-120545.32695780632,-120545.32695780632,-120545.32695780632,-120545.32695780632,-120545.32695780632,-120545.32695780632,-120545.32695780632,-120545.32695780632,-120545.32695780632,-120545.32695780632,-120545.32695780632,-120545.32695780632,-120545.32695780632,-120545.32695780632,-120545.32695780632,-120545.32695780632,-120545.32695780632,-120545.32695780632,-120545.32695780632,-120545.32695780632,-120545.32695780632,-120545.32695780632,-120545.32695780632,-120545.32695780632,-120545.32695780632,-120545.32695780632,-120545.32695780632,-120545.32695780632,-120545.32695780632,-120545.32695780632,-120545.32695780632,-120545.32695780632,-120545.32695780632,-120545.32695780632,-120545.32695780632,-120545.32695780632,-120545.32695780632,412493.6730421937,945532.6730421936,1478571.6730421938,2011610.6730421938,2544649.6730421935,3077688.6730421935,3610727.6730421935,4143766.6730421935,4676805.673042194,5209844.673042194,5742883.673042194,6275922.673042194,6808961.673042194,7342000.673042195,7875039.673042195],\"type\":\"scatter\",\"xaxis\":\"x\",\"yaxis\":\"y\"},{\"name\":\"EUA Mar25 85C\",\"x\":[20,21,22,23,24,25,26,27,28,29,30,31,32,33,34,35,36,37,38,39,40,41,42,43,44,45,46,47,48,49,50,51,52,53,54,55,56,57,58,59,60,61,62,63,64,65,66,67,68,69,70,71,72,73,74,75,76,77,78,79,80,81,82,83,84,85,86,87,88,89,90,91,92,93,94,95,96,97,98,99,100],\"y\":[0.0,0.0,0.0,0.0,0.0,0.0,0.0,0.0,0.0,0.0,0.0,0.0,0.0,0.0,0.0,0.0,0.0,0.0,0.0,0.0,0.0,0.0,0.0,0.0,0.0,0.0,0.0,0.0,0.0,0.0,0.0,0.0,0.0,0.0,0.0,0.0,0.0,0.0,0.0,0.0,0.0,0.0,0.0,0.0,0.0,0.0,0.0,0.0,0.0,0.0,0.0,0.0,0.0,0.0,0.0,0.0,0.0,0.0,0.0,0.0,0.0,0.0,0.0,0.0,0.0,null,325000.0,325000.0,325000.0,325000.0,325000.0,325000.0,325000.0,325000.0,325000.0,325000.0,325000.0,325000.0,325000.0,325000.0,325000.0],\"type\":\"scatter\",\"xaxis\":\"x2\",\"yaxis\":\"y2\"},{\"name\":\"EUA Mar25 90C\",\"x\":[20,21,22,23,24,25,26,27,28,29,30,31,32,33,34,35,36,37,38,39,40,41,42,43,44,45,46,47,48,49,50,51,52,53,54,55,56,57,58,59,60,61,62,63,64,65,66,67,68,69,70,71,72,73,74,75,76,77,78,79,80,81,82,83,84,85,86,87,88,89,90,91,92,93,94,95,96,97,98,99,100],\"y\":[-42315.162703868795,-42315.162703868795,-42315.162703868795,-42315.162703868795,-42315.162703868795,-42315.162703868795,-42315.162703868795,-42315.162703868795,-42315.162703868795,-42315.162703868795,-42315.162703868795,-42315.162703868795,-42315.162703868795,-42315.162703868795,-42315.162703868795,-42315.162703868795,-42315.162703868795,-42315.162703868795,-42315.162703868795,-42315.162703868795,-42315.162703868795,-42315.162703868795,-42315.162703868795,-42315.162703868795,-42315.162703868795,-42315.162703868795,-42315.162703868795,-42315.162703868795,-42315.162703868795,-42315.162703868795,-42315.162703868795,-42315.162703868795,-42315.162703868795,-42315.162703868795,-42315.162703868795,-42315.162703868795,-42315.162703868795,-42315.162703868795,-42315.162703868795,-42315.162703868795,-42315.162703868795,-42315.162703868795,-42315.162703868795,-42315.162703868795,-42315.162703868795,-42315.162703868795,-42315.162703868795,-42315.162703868795,-42315.162703868795,-42315.162703868795,-42315.162703868795,-42315.162703868795,-42315.162703868795,-42315.162703868795,-42315.162703868795,-42315.162703868795,-42315.162703868795,-42315.162703868795,-42315.162703868795,-42315.162703868795,-42315.162703868795,-42315.162703868795,-42315.162703868795,-42315.162703868795,-42315.162703868795,-42315.162703868795,-42315.162703868795,-42315.162703868795,-42315.162703868795,-42315.162703868795,-42315.162703868795,531726.8372961312,1105768.8372961313,1679810.8372961313,2253852.8372961315,2827894.837296131,3401936.837296131,3975978.837296131,4550020.837296131,5124062.837296131,5698104.837296131],\"type\":\"scatter\",\"xaxis\":\"x\",\"yaxis\":\"y\"},{\"name\":\"EUA Mar25 90C\",\"x\":[20,21,22,23,24,25,26,27,28,29,30,31,32,33,34,35,36,37,38,39,40,41,42,43,44,45,46,47,48,49,50,51,52,53,54,55,56,57,58,59,60,61,62,63,64,65,66,67,68,69,70,71,72,73,74,75,76,77,78,79,80,81,82,83,84,85,86,87,88,89,90,91,92,93,94,95,96,97,98,99,100],\"y\":[0.0,0.0,0.0,0.0,0.0,0.0,0.0,0.0,0.0,0.0,0.0,0.0,0.0,0.0,0.0,0.0,0.0,0.0,0.0,0.0,0.0,0.0,0.0,0.0,0.0,0.0,0.0,0.0,0.0,0.0,0.0,0.0,0.0,0.0,0.0,0.0,0.0,0.0,0.0,0.0,0.0,0.0,0.0,0.0,0.0,0.0,0.0,0.0,0.0,0.0,0.0,0.0,0.0,0.0,0.0,0.0,0.0,0.0,0.0,0.0,0.0,0.0,0.0,0.0,0.0,0.0,0.0,0.0,0.0,0.0,null,350000.0,350000.0,350000.0,350000.0,350000.0,350000.0,350000.0,350000.0,350000.0,350000.0],\"type\":\"scatter\",\"xaxis\":\"x2\",\"yaxis\":\"y2\"},{\"mode\":\"lines\",\"name\":\"Total_PnL\",\"x\":[20,21,22,23,24,25,26,27,28,29,30,31,32,33,34,35,36,37,38,39,40,41,42,43,44,45,46,47,48,49,50,51,52,53,54,55,56,57,58,59,60,61,62,63,64,65,66,67,68,69,70,71,72,73,74,75,76,77,78,79,80,81,82,83,84,85,86,87,88,89,90,91,92,93,94,95,96,97,98,99,100],\"y\":[-703588.5084591393,-703588.5084591393,-703588.5084591393,-703588.5084591393,-703588.5084591393,-703588.5084591393,-703588.5084591393,-703588.5084591393,-703588.5084591393,-703588.5084591393,-703588.5084591393,-703588.5084591393,-703588.5084591393,-703588.5084591393,-703588.5084591393,-703588.5084591393,-703588.5084591393,-703588.5084591393,-703588.5084591393,-703588.5084591393,-703588.5084591393,-703588.5084591393,-703588.5084591393,-703588.5084591393,-703588.5084591393,-703588.5084591393,-703588.5084591393,-703588.5084591393,-703588.5084591393,-703588.5084591393,-703588.5084591393,-703588.5084591393,-703588.5084591393,-703588.5084591393,-703588.5084591393,-703588.5084591393,-703588.5084591393,-703588.5084591393,-703588.5084591393,-703588.5084591393,-703588.5084591393,-703588.5084591393,-703588.5084591393,-703588.5084591393,-703588.5084591393,-703588.5084591393,-703588.5084591393,-703588.5084591393,-703588.5084591393,-703588.5084591393,-703588.5084591393,-703588.5084591393,-703588.5084591393,-703588.5084591393,-703588.5084591393,-703588.5084591393,-580579.5084591393,-457570.5084591392,-334561.5084591392,-211552.50845913918,-88543.50845913921,444495.4915408608,977534.4915408609,1510573.4915408609,2043612.4915408609,2576651.4915408604,3642729.4915408604,4708807.49154086,5774885.49154086,6840963.49154086,7907041.491540859,9547161.49154086,11187281.49154086,12827401.49154086,14467521.49154086,16107641.49154086,17747761.49154086,19387881.49154086,21028001.49154086,22668121.49154086,24308241.49154086],\"type\":\"scatter\",\"xaxis\":\"x\",\"yaxis\":\"y\"},{\"mode\":\"lines\",\"name\":\"Total_Delta\",\"x\":[20,21,22,23,24,25,26,27,28,29,30,31,32,33,34,35,36,37,38,39,40,41,42,43,44,45,46,47,48,49,50,51,52,53,54,55,56,57,58,59,60,61,62,63,64,65,66,67,68,69,70,71,72,73,74,75,76,77,78,79,80,81,82,83,84,85,86,87,88,89,90,91,92,93,94,95,96,97,98,99,100],\"y\":[0.0,0.0,0.0,0.0,0.0,0.0,0.0,0.0,0.0,0.0,0.0,0.0,0.0,0.0,0.0,0.0,0.0,0.0,0.0,0.0,0.0,0.0,0.0,0.0,0.0,0.0,0.0,0.0,0.0,0.0,0.0,0.0,0.0,0.0,0.0,0.0,0.0,0.0,0.0,0.0,0.0,0.0,0.0,0.0,0.0,0.0,0.0,0.0,0.0,0.0,0.0,0.0,0.0,0.0,0.0,0.0,75000.0,75000.0,75000.0,75000.0,75000.0,325000.0,325000.0,325000.0,325000.0,325000.0,650000.0,650000.0,650000.0,650000.0,650000.0,1000000.0,1000000.0,1000000.0,1000000.0,1000000.0,1000000.0,1000000.0,1000000.0,1000000.0,1000000.0],\"type\":\"scatter\",\"xaxis\":\"x2\",\"yaxis\":\"y2\"}],                        {\"template\":{\"data\":{\"histogram2dcontour\":[{\"type\":\"histogram2dcontour\",\"colorbar\":{\"outlinewidth\":0,\"ticks\":\"\"},\"colorscale\":[[0.0,\"#0d0887\"],[0.1111111111111111,\"#46039f\"],[0.2222222222222222,\"#7201a8\"],[0.3333333333333333,\"#9c179e\"],[0.4444444444444444,\"#bd3786\"],[0.5555555555555556,\"#d8576b\"],[0.6666666666666666,\"#ed7953\"],[0.7777777777777778,\"#fb9f3a\"],[0.8888888888888888,\"#fdca26\"],[1.0,\"#f0f921\"]]}],\"choropleth\":[{\"type\":\"choropleth\",\"colorbar\":{\"outlinewidth\":0,\"ticks\":\"\"}}],\"histogram2d\":[{\"type\":\"histogram2d\",\"colorbar\":{\"outlinewidth\":0,\"ticks\":\"\"},\"colorscale\":[[0.0,\"#0d0887\"],[0.1111111111111111,\"#46039f\"],[0.2222222222222222,\"#7201a8\"],[0.3333333333333333,\"#9c179e\"],[0.4444444444444444,\"#bd3786\"],[0.5555555555555556,\"#d8576b\"],[0.6666666666666666,\"#ed7953\"],[0.7777777777777778,\"#fb9f3a\"],[0.8888888888888888,\"#fdca26\"],[1.0,\"#f0f921\"]]}],\"heatmap\":[{\"type\":\"heatmap\",\"colorbar\":{\"outlinewidth\":0,\"ticks\":\"\"},\"colorscale\":[[0.0,\"#0d0887\"],[0.1111111111111111,\"#46039f\"],[0.2222222222222222,\"#7201a8\"],[0.3333333333333333,\"#9c179e\"],[0.4444444444444444,\"#bd3786\"],[0.5555555555555556,\"#d8576b\"],[0.6666666666666666,\"#ed7953\"],[0.7777777777777778,\"#fb9f3a\"],[0.8888888888888888,\"#fdca26\"],[1.0,\"#f0f921\"]]}],\"heatmapgl\":[{\"type\":\"heatmapgl\",\"colorbar\":{\"outlinewidth\":0,\"ticks\":\"\"},\"colorscale\":[[0.0,\"#0d0887\"],[0.1111111111111111,\"#46039f\"],[0.2222222222222222,\"#7201a8\"],[0.3333333333333333,\"#9c179e\"],[0.4444444444444444,\"#bd3786\"],[0.5555555555555556,\"#d8576b\"],[0.6666666666666666,\"#ed7953\"],[0.7777777777777778,\"#fb9f3a\"],[0.8888888888888888,\"#fdca26\"],[1.0,\"#f0f921\"]]}],\"contourcarpet\":[{\"type\":\"contourcarpet\",\"colorbar\":{\"outlinewidth\":0,\"ticks\":\"\"}}],\"contour\":[{\"type\":\"contour\",\"colorbar\":{\"outlinewidth\":0,\"ticks\":\"\"},\"colorscale\":[[0.0,\"#0d0887\"],[0.1111111111111111,\"#46039f\"],[0.2222222222222222,\"#7201a8\"],[0.3333333333333333,\"#9c179e\"],[0.4444444444444444,\"#bd3786\"],[0.5555555555555556,\"#d8576b\"],[0.6666666666666666,\"#ed7953\"],[0.7777777777777778,\"#fb9f3a\"],[0.8888888888888888,\"#fdca26\"],[1.0,\"#f0f921\"]]}],\"surface\":[{\"type\":\"surface\",\"colorbar\":{\"outlinewidth\":0,\"ticks\":\"\"},\"colorscale\":[[0.0,\"#0d0887\"],[0.1111111111111111,\"#46039f\"],[0.2222222222222222,\"#7201a8\"],[0.3333333333333333,\"#9c179e\"],[0.4444444444444444,\"#bd3786\"],[0.5555555555555556,\"#d8576b\"],[0.6666666666666666,\"#ed7953\"],[0.7777777777777778,\"#fb9f3a\"],[0.8888888888888888,\"#fdca26\"],[1.0,\"#f0f921\"]]}],\"mesh3d\":[{\"type\":\"mesh3d\",\"colorbar\":{\"outlinewidth\":0,\"ticks\":\"\"}}],\"scatter\":[{\"fillpattern\":{\"fillmode\":\"overlay\",\"size\":10,\"solidity\":0.2},\"type\":\"scatter\"}],\"parcoords\":[{\"type\":\"parcoords\",\"line\":{\"colorbar\":{\"outlinewidth\":0,\"ticks\":\"\"}}}],\"scatterpolargl\":[{\"type\":\"scatterpolargl\",\"marker\":{\"colorbar\":{\"outlinewidth\":0,\"ticks\":\"\"}}}],\"bar\":[{\"error_x\":{\"color\":\"#2a3f5f\"},\"error_y\":{\"color\":\"#2a3f5f\"},\"marker\":{\"line\":{\"color\":\"#E5ECF6\",\"width\":0.5},\"pattern\":{\"fillmode\":\"overlay\",\"size\":10,\"solidity\":0.2}},\"type\":\"bar\"}],\"scattergeo\":[{\"type\":\"scattergeo\",\"marker\":{\"colorbar\":{\"outlinewidth\":0,\"ticks\":\"\"}}}],\"scatterpolar\":[{\"type\":\"scatterpolar\",\"marker\":{\"colorbar\":{\"outlinewidth\":0,\"ticks\":\"\"}}}],\"histogram\":[{\"marker\":{\"pattern\":{\"fillmode\":\"overlay\",\"size\":10,\"solidity\":0.2}},\"type\":\"histogram\"}],\"scattergl\":[{\"type\":\"scattergl\",\"marker\":{\"colorbar\":{\"outlinewidth\":0,\"ticks\":\"\"}}}],\"scatter3d\":[{\"type\":\"scatter3d\",\"line\":{\"colorbar\":{\"outlinewidth\":0,\"ticks\":\"\"}},\"marker\":{\"colorbar\":{\"outlinewidth\":0,\"ticks\":\"\"}}}],\"scattermapbox\":[{\"type\":\"scattermapbox\",\"marker\":{\"colorbar\":{\"outlinewidth\":0,\"ticks\":\"\"}}}],\"scatterternary\":[{\"type\":\"scatterternary\",\"marker\":{\"colorbar\":{\"outlinewidth\":0,\"ticks\":\"\"}}}],\"scattercarpet\":[{\"type\":\"scattercarpet\",\"marker\":{\"colorbar\":{\"outlinewidth\":0,\"ticks\":\"\"}}}],\"carpet\":[{\"aaxis\":{\"endlinecolor\":\"#2a3f5f\",\"gridcolor\":\"white\",\"linecolor\":\"white\",\"minorgridcolor\":\"white\",\"startlinecolor\":\"#2a3f5f\"},\"baxis\":{\"endlinecolor\":\"#2a3f5f\",\"gridcolor\":\"white\",\"linecolor\":\"white\",\"minorgridcolor\":\"white\",\"startlinecolor\":\"#2a3f5f\"},\"type\":\"carpet\"}],\"table\":[{\"cells\":{\"fill\":{\"color\":\"#EBF0F8\"},\"line\":{\"color\":\"white\"}},\"header\":{\"fill\":{\"color\":\"#C8D4E3\"},\"line\":{\"color\":\"white\"}},\"type\":\"table\"}],\"barpolar\":[{\"marker\":{\"line\":{\"color\":\"#E5ECF6\",\"width\":0.5},\"pattern\":{\"fillmode\":\"overlay\",\"size\":10,\"solidity\":0.2}},\"type\":\"barpolar\"}],\"pie\":[{\"automargin\":true,\"type\":\"pie\"}]},\"layout\":{\"autotypenumbers\":\"strict\",\"colorway\":[\"#636efa\",\"#EF553B\",\"#00cc96\",\"#ab63fa\",\"#FFA15A\",\"#19d3f3\",\"#FF6692\",\"#B6E880\",\"#FF97FF\",\"#FECB52\"],\"font\":{\"color\":\"#2a3f5f\"},\"hovermode\":\"closest\",\"hoverlabel\":{\"align\":\"left\"},\"paper_bgcolor\":\"white\",\"plot_bgcolor\":\"#E5ECF6\",\"polar\":{\"bgcolor\":\"#E5ECF6\",\"angularaxis\":{\"gridcolor\":\"white\",\"linecolor\":\"white\",\"ticks\":\"\"},\"radialaxis\":{\"gridcolor\":\"white\",\"linecolor\":\"white\",\"ticks\":\"\"}},\"ternary\":{\"bgcolor\":\"#E5ECF6\",\"aaxis\":{\"gridcolor\":\"white\",\"linecolor\":\"white\",\"ticks\":\"\"},\"baxis\":{\"gridcolor\":\"white\",\"linecolor\":\"white\",\"ticks\":\"\"},\"caxis\":{\"gridcolor\":\"white\",\"linecolor\":\"white\",\"ticks\":\"\"}},\"coloraxis\":{\"colorbar\":{\"outlinewidth\":0,\"ticks\":\"\"}},\"colorscale\":{\"sequential\":[[0.0,\"#0d0887\"],[0.1111111111111111,\"#46039f\"],[0.2222222222222222,\"#7201a8\"],[0.3333333333333333,\"#9c179e\"],[0.4444444444444444,\"#bd3786\"],[0.5555555555555556,\"#d8576b\"],[0.6666666666666666,\"#ed7953\"],[0.7777777777777778,\"#fb9f3a\"],[0.8888888888888888,\"#fdca26\"],[1.0,\"#f0f921\"]],\"sequentialminus\":[[0.0,\"#0d0887\"],[0.1111111111111111,\"#46039f\"],[0.2222222222222222,\"#7201a8\"],[0.3333333333333333,\"#9c179e\"],[0.4444444444444444,\"#bd3786\"],[0.5555555555555556,\"#d8576b\"],[0.6666666666666666,\"#ed7953\"],[0.7777777777777778,\"#fb9f3a\"],[0.8888888888888888,\"#fdca26\"],[1.0,\"#f0f921\"]],\"diverging\":[[0,\"#8e0152\"],[0.1,\"#c51b7d\"],[0.2,\"#de77ae\"],[0.3,\"#f1b6da\"],[0.4,\"#fde0ef\"],[0.5,\"#f7f7f7\"],[0.6,\"#e6f5d0\"],[0.7,\"#b8e186\"],[0.8,\"#7fbc41\"],[0.9,\"#4d9221\"],[1,\"#276419\"]]},\"xaxis\":{\"gridcolor\":\"white\",\"linecolor\":\"white\",\"ticks\":\"\",\"title\":{\"standoff\":15},\"zerolinecolor\":\"white\",\"automargin\":true,\"zerolinewidth\":2},\"yaxis\":{\"gridcolor\":\"white\",\"linecolor\":\"white\",\"ticks\":\"\",\"title\":{\"standoff\":15},\"zerolinecolor\":\"white\",\"automargin\":true,\"zerolinewidth\":2},\"scene\":{\"xaxis\":{\"backgroundcolor\":\"#E5ECF6\",\"gridcolor\":\"white\",\"linecolor\":\"white\",\"showbackground\":true,\"ticks\":\"\",\"zerolinecolor\":\"white\",\"gridwidth\":2},\"yaxis\":{\"backgroundcolor\":\"#E5ECF6\",\"gridcolor\":\"white\",\"linecolor\":\"white\",\"showbackground\":true,\"ticks\":\"\",\"zerolinecolor\":\"white\",\"gridwidth\":2},\"zaxis\":{\"backgroundcolor\":\"#E5ECF6\",\"gridcolor\":\"white\",\"linecolor\":\"white\",\"showbackground\":true,\"ticks\":\"\",\"zerolinecolor\":\"white\",\"gridwidth\":2}},\"shapedefaults\":{\"line\":{\"color\":\"#2a3f5f\"}},\"annotationdefaults\":{\"arrowcolor\":\"#2a3f5f\",\"arrowhead\":0,\"arrowwidth\":1},\"geo\":{\"bgcolor\":\"white\",\"landcolor\":\"#E5ECF6\",\"subunitcolor\":\"white\",\"showland\":true,\"showlakes\":true,\"lakecolor\":\"white\"},\"title\":{\"x\":0.05},\"mapbox\":{\"style\":\"light\"}}},\"xaxis\":{\"anchor\":\"y\",\"domain\":[0.0,0.45],\"title\":{\"text\":\"Price\"}},\"yaxis\":{\"anchor\":\"x\",\"domain\":[0.0,1.0],\"title\":{\"text\":\"Pnl\"}},\"xaxis2\":{\"anchor\":\"y2\",\"domain\":[0.55,1.0],\"title\":{\"text\":\"Price\"}},\"yaxis2\":{\"anchor\":\"x2\",\"domain\":[0.0,1.0],\"title\":{\"text\":\"Delta\"}},\"title\":{\"text\":\"Todays Option Pos (PnL and Delta)\",\"x\":0.5,\"xanchor\":\"center\"},\"barmode\":\"stack\"},                        {\"responsive\": true}                    ).then(function(){\n",
       "                            \n",
       "var gd = document.getElementById('2133b081-aa33-4d4f-90bf-06ef14774fdc');\n",
       "var x = new MutationObserver(function (mutations, observer) {{\n",
       "        var display = window.getComputedStyle(gd).display;\n",
       "        if (!display || display === 'none') {{\n",
       "            console.log([gd, 'removed!']);\n",
       "            Plotly.purge(gd);\n",
       "            observer.disconnect();\n",
       "        }}\n",
       "}});\n",
       "\n",
       "// Listen for the removal of the full notebook cells\n",
       "var notebookContainer = gd.closest('#notebook-container');\n",
       "if (notebookContainer) {{\n",
       "    x.observe(notebookContainer, {childList: true});\n",
       "}}\n",
       "\n",
       "// Listen for the clearing of the current output cell\n",
       "var outputEl = gd.closest('.output');\n",
       "if (outputEl) {{\n",
       "    x.observe(outputEl, {childList: true});\n",
       "}}\n",
       "\n",
       "                        })                };                });            </script>        </div>"
      ]
     },
     "metadata": {},
     "output_type": "display_data"
    }
   ],
   "source": [
    "pnl_delta_plot(two_months)"
   ]
  },
  {
   "cell_type": "markdown",
   "id": "8cc6406d",
   "metadata": {},
   "source": [
    "## End of Year"
   ]
  },
  {
   "cell_type": "code",
   "execution_count": 24,
   "id": "76f3a582",
   "metadata": {},
   "outputs": [
    {
     "data": {
      "application/vnd.plotly.v1+json": {
       "config": {
        "plotlyServerURL": "https://plot.ly"
       },
       "data": [
        {
         "name": "EUA Mar25 75C",
         "type": "scatter",
         "x": [
          20,
          21,
          22,
          23,
          24,
          25,
          26,
          27,
          28,
          29,
          30,
          31,
          32,
          33,
          34,
          35,
          36,
          37,
          38,
          39,
          40,
          41,
          42,
          43,
          44,
          45,
          46,
          47,
          48,
          49,
          50,
          51,
          52,
          53,
          54,
          55,
          56,
          57,
          58,
          59,
          60,
          61,
          62,
          63,
          64,
          65,
          66,
          67,
          68,
          69,
          70,
          71,
          72,
          73,
          74,
          75,
          76,
          77,
          78,
          79,
          80,
          81,
          82,
          83,
          84,
          85,
          86,
          87,
          88,
          89,
          90,
          91,
          92,
          93,
          94,
          95,
          96,
          97,
          98,
          99,
          100
         ],
         "xaxis": "x",
         "y": [
          -247685.6730499249,
          -247685.6730499249,
          -247685.6730499249,
          -247685.6730499249,
          -247685.6730499249,
          -247685.6730499249,
          -247685.6730499249,
          -247685.6730499249,
          -247685.6730499249,
          -247685.6730499249,
          -247685.6730499249,
          -247685.6730499249,
          -247685.6730499249,
          -247685.6730499249,
          -247685.6730499249,
          -247685.6730499249,
          -247685.6730499249,
          -247685.6730499249,
          -247685.6730499249,
          -247685.6730499249,
          -247685.6730499249,
          -247685.6730499249,
          -247685.6730499249,
          -247685.6730499249,
          -247685.6730499249,
          -247685.6730499249,
          -247685.6730499249,
          -247685.6730499249,
          -247685.6730499249,
          -247685.6730499249,
          -247685.6730499249,
          -247685.6730499249,
          -247685.6730499249,
          -247685.6730499249,
          -247685.6730499249,
          -247685.6730499249,
          -247685.6730499249,
          -247685.6730499249,
          -247685.6730499249,
          -247685.6730499249,
          -247685.6730499249,
          -247685.6730499249,
          -247685.6730499249,
          -247685.6730499249,
          -247685.6730499249,
          -247685.6730499249,
          -247685.6730499249,
          -247685.6730499249,
          -247685.6730499249,
          -247685.6730499249,
          -247685.6730499249,
          -247685.6730499249,
          -247685.6730499249,
          -247685.6730499249,
          -247685.6730499249,
          -247685.6730499249,
          -124676.67304992491,
          -1667.6730499248938,
          121341.3269500751,
          244350.3269500751,
          367359.3269500751,
          490368.3269500751,
          613377.3269500752,
          736386.3269500752,
          859395.3269500752,
          982404.3269500752,
          1105413.326950075,
          1228422.326950075,
          1351431.326950075,
          1474440.326950075,
          1597449.326950075,
          1720458.326950075,
          1843467.326950075,
          1966476.326950075,
          2089485.326950075,
          2212494.326950075,
          2335503.326950075,
          2458512.326950075,
          2581521.326950075,
          2704530.326950075,
          2827539.326950075
         ],
         "yaxis": "y"
        },
        {
         "name": "EUA Mar25 75C",
         "type": "scatter",
         "x": [
          20,
          21,
          22,
          23,
          24,
          25,
          26,
          27,
          28,
          29,
          30,
          31,
          32,
          33,
          34,
          35,
          36,
          37,
          38,
          39,
          40,
          41,
          42,
          43,
          44,
          45,
          46,
          47,
          48,
          49,
          50,
          51,
          52,
          53,
          54,
          55,
          56,
          57,
          58,
          59,
          60,
          61,
          62,
          63,
          64,
          65,
          66,
          67,
          68,
          69,
          70,
          71,
          72,
          73,
          74,
          75,
          76,
          77,
          78,
          79,
          80,
          81,
          82,
          83,
          84,
          85,
          86,
          87,
          88,
          89,
          90,
          91,
          92,
          93,
          94,
          95,
          96,
          97,
          98,
          99,
          100
         ],
         "xaxis": "x2",
         "y": [
          0,
          0,
          0,
          0,
          0,
          0,
          0,
          0,
          0,
          0,
          0,
          0,
          0,
          0,
          0,
          0,
          0,
          0,
          0,
          0,
          0,
          0,
          0,
          0,
          0,
          0,
          0,
          0,
          0,
          0,
          0,
          0,
          0,
          0,
          0,
          0,
          0,
          0,
          0,
          0,
          0,
          0,
          0,
          0,
          0,
          0,
          0,
          0,
          0,
          0,
          0,
          0,
          0,
          0,
          0,
          null,
          75000,
          75000,
          75000,
          75000,
          75000,
          75000,
          75000,
          75000,
          75000,
          75000,
          75000,
          75000,
          75000,
          75000,
          75000,
          75000,
          75000,
          75000,
          75000,
          75000,
          75000,
          75000,
          75000,
          75000,
          75000
         ],
         "yaxis": "y2"
        },
        {
         "name": "EUA Mar25 80C",
         "type": "scatter",
         "x": [
          20,
          21,
          22,
          23,
          24,
          25,
          26,
          27,
          28,
          29,
          30,
          31,
          32,
          33,
          34,
          35,
          36,
          37,
          38,
          39,
          40,
          41,
          42,
          43,
          44,
          45,
          46,
          47,
          48,
          49,
          50,
          51,
          52,
          53,
          54,
          55,
          56,
          57,
          58,
          59,
          60,
          61,
          62,
          63,
          64,
          65,
          66,
          67,
          68,
          69,
          70,
          71,
          72,
          73,
          74,
          75,
          76,
          77,
          78,
          79,
          80,
          81,
          82,
          83,
          84,
          85,
          86,
          87,
          88,
          89,
          90,
          91,
          92,
          93,
          94,
          95,
          96,
          97,
          98,
          99,
          100
         ],
         "xaxis": "x",
         "y": [
          -293042.3457475392,
          -293042.3457475392,
          -293042.3457475392,
          -293042.3457475392,
          -293042.3457475392,
          -293042.3457475392,
          -293042.3457475392,
          -293042.3457475392,
          -293042.3457475392,
          -293042.3457475392,
          -293042.3457475392,
          -293042.3457475392,
          -293042.3457475392,
          -293042.3457475392,
          -293042.3457475392,
          -293042.3457475392,
          -293042.3457475392,
          -293042.3457475392,
          -293042.3457475392,
          -293042.3457475392,
          -293042.3457475392,
          -293042.3457475392,
          -293042.3457475392,
          -293042.3457475392,
          -293042.3457475392,
          -293042.3457475392,
          -293042.3457475392,
          -293042.3457475392,
          -293042.3457475392,
          -293042.3457475392,
          -293042.3457475392,
          -293042.3457475392,
          -293042.3457475392,
          -293042.3457475392,
          -293042.3457475392,
          -293042.3457475392,
          -293042.3457475392,
          -293042.3457475392,
          -293042.3457475392,
          -293042.3457475392,
          -293042.3457475392,
          -293042.3457475392,
          -293042.3457475392,
          -293042.3457475392,
          -293042.3457475392,
          -293042.3457475392,
          -293042.3457475392,
          -293042.3457475392,
          -293042.3457475392,
          -293042.3457475392,
          -293042.3457475392,
          -293042.3457475392,
          -293042.3457475392,
          -293042.3457475392,
          -293042.3457475392,
          -293042.3457475392,
          -293042.3457475392,
          -293042.3457475392,
          -293042.3457475392,
          -293042.3457475392,
          -293042.3457475392,
          116987.65425246078,
          527017.6542524608,
          937047.6542524607,
          1347077.6542524607,
          1757107.6542524607,
          2167137.6542524607,
          2577167.6542524607,
          2987197.6542524607,
          3397227.6542524607,
          3807257.65425246,
          4217287.65425246,
          4627317.65425246,
          5037347.65425246,
          5447377.65425246,
          5857407.65425246,
          6267437.65425246,
          6677467.654252461,
          7087497.654252461,
          7497527.654252461,
          7907557.654252461
         ],
         "yaxis": "y"
        },
        {
         "name": "EUA Mar25 80C",
         "type": "scatter",
         "x": [
          20,
          21,
          22,
          23,
          24,
          25,
          26,
          27,
          28,
          29,
          30,
          31,
          32,
          33,
          34,
          35,
          36,
          37,
          38,
          39,
          40,
          41,
          42,
          43,
          44,
          45,
          46,
          47,
          48,
          49,
          50,
          51,
          52,
          53,
          54,
          55,
          56,
          57,
          58,
          59,
          60,
          61,
          62,
          63,
          64,
          65,
          66,
          67,
          68,
          69,
          70,
          71,
          72,
          73,
          74,
          75,
          76,
          77,
          78,
          79,
          80,
          81,
          82,
          83,
          84,
          85,
          86,
          87,
          88,
          89,
          90,
          91,
          92,
          93,
          94,
          95,
          96,
          97,
          98,
          99,
          100
         ],
         "xaxis": "x2",
         "y": [
          0,
          0,
          0,
          0,
          0,
          0,
          0,
          0,
          0,
          0,
          0,
          0,
          0,
          0,
          0,
          0,
          0,
          0,
          0,
          0,
          0,
          0,
          0,
          0,
          0,
          0,
          0,
          0,
          0,
          0,
          0,
          0,
          0,
          0,
          0,
          0,
          0,
          0,
          0,
          0,
          0,
          0,
          0,
          0,
          0,
          0,
          0,
          0,
          0,
          0,
          0,
          0,
          0,
          0,
          0,
          0,
          0,
          0,
          0,
          0,
          null,
          250000,
          250000,
          250000,
          250000,
          250000,
          250000,
          250000,
          250000,
          250000,
          250000,
          250000,
          250000,
          250000,
          250000,
          250000,
          250000,
          250000,
          250000,
          250000,
          250000
         ],
         "yaxis": "y2"
        },
        {
         "name": "EUA Mar25 85C",
         "type": "scatter",
         "x": [
          20,
          21,
          22,
          23,
          24,
          25,
          26,
          27,
          28,
          29,
          30,
          31,
          32,
          33,
          34,
          35,
          36,
          37,
          38,
          39,
          40,
          41,
          42,
          43,
          44,
          45,
          46,
          47,
          48,
          49,
          50,
          51,
          52,
          53,
          54,
          55,
          56,
          57,
          58,
          59,
          60,
          61,
          62,
          63,
          64,
          65,
          66,
          67,
          68,
          69,
          70,
          71,
          72,
          73,
          74,
          75,
          76,
          77,
          78,
          79,
          80,
          81,
          82,
          83,
          84,
          85,
          86,
          87,
          88,
          89,
          90,
          91,
          92,
          93,
          94,
          95,
          96,
          97,
          98,
          99,
          100
         ],
         "xaxis": "x",
         "y": [
          -120545.32695780632,
          -120545.32695780632,
          -120545.32695780632,
          -120545.32695780632,
          -120545.32695780632,
          -120545.32695780632,
          -120545.32695780632,
          -120545.32695780632,
          -120545.32695780632,
          -120545.32695780632,
          -120545.32695780632,
          -120545.32695780632,
          -120545.32695780632,
          -120545.32695780632,
          -120545.32695780632,
          -120545.32695780632,
          -120545.32695780632,
          -120545.32695780632,
          -120545.32695780632,
          -120545.32695780632,
          -120545.32695780632,
          -120545.32695780632,
          -120545.32695780632,
          -120545.32695780632,
          -120545.32695780632,
          -120545.32695780632,
          -120545.32695780632,
          -120545.32695780632,
          -120545.32695780632,
          -120545.32695780632,
          -120545.32695780632,
          -120545.32695780632,
          -120545.32695780632,
          -120545.32695780632,
          -120545.32695780632,
          -120545.32695780632,
          -120545.32695780632,
          -120545.32695780632,
          -120545.32695780632,
          -120545.32695780632,
          -120545.32695780632,
          -120545.32695780632,
          -120545.32695780632,
          -120545.32695780632,
          -120545.32695780632,
          -120545.32695780632,
          -120545.32695780632,
          -120545.32695780632,
          -120545.32695780632,
          -120545.32695780632,
          -120545.32695780632,
          -120545.32695780632,
          -120545.32695780632,
          -120545.32695780632,
          -120545.32695780632,
          -120545.32695780632,
          -120545.32695780632,
          -120545.32695780632,
          -120545.32695780632,
          -120545.32695780632,
          -120545.32695780632,
          -120545.32695780632,
          -120545.32695780632,
          -120545.32695780632,
          -120545.32695780632,
          -120545.32695780632,
          412493.6730421937,
          945532.6730421936,
          1478571.6730421938,
          2011610.6730421938,
          2544649.6730421935,
          3077688.6730421935,
          3610727.6730421935,
          4143766.6730421935,
          4676805.673042194,
          5209844.673042194,
          5742883.673042194,
          6275922.673042194,
          6808961.673042194,
          7342000.673042195,
          7875039.673042195
         ],
         "yaxis": "y"
        },
        {
         "name": "EUA Mar25 85C",
         "type": "scatter",
         "x": [
          20,
          21,
          22,
          23,
          24,
          25,
          26,
          27,
          28,
          29,
          30,
          31,
          32,
          33,
          34,
          35,
          36,
          37,
          38,
          39,
          40,
          41,
          42,
          43,
          44,
          45,
          46,
          47,
          48,
          49,
          50,
          51,
          52,
          53,
          54,
          55,
          56,
          57,
          58,
          59,
          60,
          61,
          62,
          63,
          64,
          65,
          66,
          67,
          68,
          69,
          70,
          71,
          72,
          73,
          74,
          75,
          76,
          77,
          78,
          79,
          80,
          81,
          82,
          83,
          84,
          85,
          86,
          87,
          88,
          89,
          90,
          91,
          92,
          93,
          94,
          95,
          96,
          97,
          98,
          99,
          100
         ],
         "xaxis": "x2",
         "y": [
          0,
          0,
          0,
          0,
          0,
          0,
          0,
          0,
          0,
          0,
          0,
          0,
          0,
          0,
          0,
          0,
          0,
          0,
          0,
          0,
          0,
          0,
          0,
          0,
          0,
          0,
          0,
          0,
          0,
          0,
          0,
          0,
          0,
          0,
          0,
          0,
          0,
          0,
          0,
          0,
          0,
          0,
          0,
          0,
          0,
          0,
          0,
          0,
          0,
          0,
          0,
          0,
          0,
          0,
          0,
          0,
          0,
          0,
          0,
          0,
          0,
          0,
          0,
          0,
          0,
          null,
          325000,
          325000,
          325000,
          325000,
          325000,
          325000,
          325000,
          325000,
          325000,
          325000,
          325000,
          325000,
          325000,
          325000,
          325000
         ],
         "yaxis": "y2"
        },
        {
         "name": "EUA Mar25 90C",
         "type": "scatter",
         "x": [
          20,
          21,
          22,
          23,
          24,
          25,
          26,
          27,
          28,
          29,
          30,
          31,
          32,
          33,
          34,
          35,
          36,
          37,
          38,
          39,
          40,
          41,
          42,
          43,
          44,
          45,
          46,
          47,
          48,
          49,
          50,
          51,
          52,
          53,
          54,
          55,
          56,
          57,
          58,
          59,
          60,
          61,
          62,
          63,
          64,
          65,
          66,
          67,
          68,
          69,
          70,
          71,
          72,
          73,
          74,
          75,
          76,
          77,
          78,
          79,
          80,
          81,
          82,
          83,
          84,
          85,
          86,
          87,
          88,
          89,
          90,
          91,
          92,
          93,
          94,
          95,
          96,
          97,
          98,
          99,
          100
         ],
         "xaxis": "x",
         "y": [
          -42315.162703868795,
          -42315.162703868795,
          -42315.162703868795,
          -42315.162703868795,
          -42315.162703868795,
          -42315.162703868795,
          -42315.162703868795,
          -42315.162703868795,
          -42315.162703868795,
          -42315.162703868795,
          -42315.162703868795,
          -42315.162703868795,
          -42315.162703868795,
          -42315.162703868795,
          -42315.162703868795,
          -42315.162703868795,
          -42315.162703868795,
          -42315.162703868795,
          -42315.162703868795,
          -42315.162703868795,
          -42315.162703868795,
          -42315.162703868795,
          -42315.162703868795,
          -42315.162703868795,
          -42315.162703868795,
          -42315.162703868795,
          -42315.162703868795,
          -42315.162703868795,
          -42315.162703868795,
          -42315.162703868795,
          -42315.162703868795,
          -42315.162703868795,
          -42315.162703868795,
          -42315.162703868795,
          -42315.162703868795,
          -42315.162703868795,
          -42315.162703868795,
          -42315.162703868795,
          -42315.162703868795,
          -42315.162703868795,
          -42315.162703868795,
          -42315.162703868795,
          -42315.162703868795,
          -42315.162703868795,
          -42315.162703868795,
          -42315.162703868795,
          -42315.162703868795,
          -42315.162703868795,
          -42315.162703868795,
          -42315.162703868795,
          -42315.162703868795,
          -42315.162703868795,
          -42315.162703868795,
          -42315.162703868795,
          -42315.162703868795,
          -42315.162703868795,
          -42315.162703868795,
          -42315.162703868795,
          -42315.162703868795,
          -42315.162703868795,
          -42315.162703868795,
          -42315.162703868795,
          -42315.162703868795,
          -42315.162703868795,
          -42315.162703868795,
          -42315.162703868795,
          -42315.162703868795,
          -42315.162703868795,
          -42315.162703868795,
          -42315.162703868795,
          -42315.162703868795,
          531726.8372961312,
          1105768.8372961313,
          1679810.8372961313,
          2253852.8372961315,
          2827894.837296131,
          3401936.837296131,
          3975978.837296131,
          4550020.837296131,
          5124062.837296131,
          5698104.837296131
         ],
         "yaxis": "y"
        },
        {
         "name": "EUA Mar25 90C",
         "type": "scatter",
         "x": [
          20,
          21,
          22,
          23,
          24,
          25,
          26,
          27,
          28,
          29,
          30,
          31,
          32,
          33,
          34,
          35,
          36,
          37,
          38,
          39,
          40,
          41,
          42,
          43,
          44,
          45,
          46,
          47,
          48,
          49,
          50,
          51,
          52,
          53,
          54,
          55,
          56,
          57,
          58,
          59,
          60,
          61,
          62,
          63,
          64,
          65,
          66,
          67,
          68,
          69,
          70,
          71,
          72,
          73,
          74,
          75,
          76,
          77,
          78,
          79,
          80,
          81,
          82,
          83,
          84,
          85,
          86,
          87,
          88,
          89,
          90,
          91,
          92,
          93,
          94,
          95,
          96,
          97,
          98,
          99,
          100
         ],
         "xaxis": "x2",
         "y": [
          0,
          0,
          0,
          0,
          0,
          0,
          0,
          0,
          0,
          0,
          0,
          0,
          0,
          0,
          0,
          0,
          0,
          0,
          0,
          0,
          0,
          0,
          0,
          0,
          0,
          0,
          0,
          0,
          0,
          0,
          0,
          0,
          0,
          0,
          0,
          0,
          0,
          0,
          0,
          0,
          0,
          0,
          0,
          0,
          0,
          0,
          0,
          0,
          0,
          0,
          0,
          0,
          0,
          0,
          0,
          0,
          0,
          0,
          0,
          0,
          0,
          0,
          0,
          0,
          0,
          0,
          0,
          0,
          0,
          0,
          null,
          350000,
          350000,
          350000,
          350000,
          350000,
          350000,
          350000,
          350000,
          350000,
          350000
         ],
         "yaxis": "y2"
        },
        {
         "mode": "lines",
         "name": "Total_PnL",
         "type": "scatter",
         "x": [
          20,
          21,
          22,
          23,
          24,
          25,
          26,
          27,
          28,
          29,
          30,
          31,
          32,
          33,
          34,
          35,
          36,
          37,
          38,
          39,
          40,
          41,
          42,
          43,
          44,
          45,
          46,
          47,
          48,
          49,
          50,
          51,
          52,
          53,
          54,
          55,
          56,
          57,
          58,
          59,
          60,
          61,
          62,
          63,
          64,
          65,
          66,
          67,
          68,
          69,
          70,
          71,
          72,
          73,
          74,
          75,
          76,
          77,
          78,
          79,
          80,
          81,
          82,
          83,
          84,
          85,
          86,
          87,
          88,
          89,
          90,
          91,
          92,
          93,
          94,
          95,
          96,
          97,
          98,
          99,
          100
         ],
         "xaxis": "x",
         "y": [
          -703588.5084591393,
          -703588.5084591393,
          -703588.5084591393,
          -703588.5084591393,
          -703588.5084591393,
          -703588.5084591393,
          -703588.5084591393,
          -703588.5084591393,
          -703588.5084591393,
          -703588.5084591393,
          -703588.5084591393,
          -703588.5084591393,
          -703588.5084591393,
          -703588.5084591393,
          -703588.5084591393,
          -703588.5084591393,
          -703588.5084591393,
          -703588.5084591393,
          -703588.5084591393,
          -703588.5084591393,
          -703588.5084591393,
          -703588.5084591393,
          -703588.5084591393,
          -703588.5084591393,
          -703588.5084591393,
          -703588.5084591393,
          -703588.5084591393,
          -703588.5084591393,
          -703588.5084591393,
          -703588.5084591393,
          -703588.5084591393,
          -703588.5084591393,
          -703588.5084591393,
          -703588.5084591393,
          -703588.5084591393,
          -703588.5084591393,
          -703588.5084591393,
          -703588.5084591393,
          -703588.5084591393,
          -703588.5084591393,
          -703588.5084591393,
          -703588.5084591393,
          -703588.5084591393,
          -703588.5084591393,
          -703588.5084591393,
          -703588.5084591393,
          -703588.5084591393,
          -703588.5084591393,
          -703588.5084591393,
          -703588.5084591393,
          -703588.5084591393,
          -703588.5084591393,
          -703588.5084591393,
          -703588.5084591393,
          -703588.5084591393,
          -703588.5084591393,
          -580579.5084591393,
          -457570.5084591392,
          -334561.5084591392,
          -211552.50845913918,
          -88543.50845913921,
          444495.4915408608,
          977534.4915408609,
          1510573.4915408609,
          2043612.4915408609,
          2576651.4915408604,
          3642729.4915408604,
          4708807.49154086,
          5774885.49154086,
          6840963.49154086,
          7907041.491540859,
          9547161.49154086,
          11187281.49154086,
          12827401.49154086,
          14467521.49154086,
          16107641.49154086,
          17747761.49154086,
          19387881.49154086,
          21028001.49154086,
          22668121.49154086,
          24308241.49154086
         ],
         "yaxis": "y"
        },
        {
         "mode": "lines",
         "name": "Total_Delta",
         "type": "scatter",
         "x": [
          20,
          21,
          22,
          23,
          24,
          25,
          26,
          27,
          28,
          29,
          30,
          31,
          32,
          33,
          34,
          35,
          36,
          37,
          38,
          39,
          40,
          41,
          42,
          43,
          44,
          45,
          46,
          47,
          48,
          49,
          50,
          51,
          52,
          53,
          54,
          55,
          56,
          57,
          58,
          59,
          60,
          61,
          62,
          63,
          64,
          65,
          66,
          67,
          68,
          69,
          70,
          71,
          72,
          73,
          74,
          75,
          76,
          77,
          78,
          79,
          80,
          81,
          82,
          83,
          84,
          85,
          86,
          87,
          88,
          89,
          90,
          91,
          92,
          93,
          94,
          95,
          96,
          97,
          98,
          99,
          100
         ],
         "xaxis": "x2",
         "y": [
          0,
          0,
          0,
          0,
          0,
          0,
          0,
          0,
          0,
          0,
          0,
          0,
          0,
          0,
          0,
          0,
          0,
          0,
          0,
          0,
          0,
          0,
          0,
          0,
          0,
          0,
          0,
          0,
          0,
          0,
          0,
          0,
          0,
          0,
          0,
          0,
          0,
          0,
          0,
          0,
          0,
          0,
          0,
          0,
          0,
          0,
          0,
          0,
          0,
          0,
          0,
          0,
          0,
          0,
          0,
          0,
          75000,
          75000,
          75000,
          75000,
          75000,
          325000,
          325000,
          325000,
          325000,
          325000,
          650000,
          650000,
          650000,
          650000,
          650000,
          1000000,
          1000000,
          1000000,
          1000000,
          1000000,
          1000000,
          1000000,
          1000000,
          1000000,
          1000000
         ],
         "yaxis": "y2"
        }
       ],
       "layout": {
        "barmode": "stack",
        "template": {
         "data": {
          "bar": [
           {
            "error_x": {
             "color": "#2a3f5f"
            },
            "error_y": {
             "color": "#2a3f5f"
            },
            "marker": {
             "line": {
              "color": "#E5ECF6",
              "width": 0.5
             },
             "pattern": {
              "fillmode": "overlay",
              "size": 10,
              "solidity": 0.2
             }
            },
            "type": "bar"
           }
          ],
          "barpolar": [
           {
            "marker": {
             "line": {
              "color": "#E5ECF6",
              "width": 0.5
             },
             "pattern": {
              "fillmode": "overlay",
              "size": 10,
              "solidity": 0.2
             }
            },
            "type": "barpolar"
           }
          ],
          "carpet": [
           {
            "aaxis": {
             "endlinecolor": "#2a3f5f",
             "gridcolor": "white",
             "linecolor": "white",
             "minorgridcolor": "white",
             "startlinecolor": "#2a3f5f"
            },
            "baxis": {
             "endlinecolor": "#2a3f5f",
             "gridcolor": "white",
             "linecolor": "white",
             "minorgridcolor": "white",
             "startlinecolor": "#2a3f5f"
            },
            "type": "carpet"
           }
          ],
          "choropleth": [
           {
            "colorbar": {
             "outlinewidth": 0,
             "ticks": ""
            },
            "type": "choropleth"
           }
          ],
          "contour": [
           {
            "colorbar": {
             "outlinewidth": 0,
             "ticks": ""
            },
            "colorscale": [
             [
              0,
              "#0d0887"
             ],
             [
              0.1111111111111111,
              "#46039f"
             ],
             [
              0.2222222222222222,
              "#7201a8"
             ],
             [
              0.3333333333333333,
              "#9c179e"
             ],
             [
              0.4444444444444444,
              "#bd3786"
             ],
             [
              0.5555555555555556,
              "#d8576b"
             ],
             [
              0.6666666666666666,
              "#ed7953"
             ],
             [
              0.7777777777777778,
              "#fb9f3a"
             ],
             [
              0.8888888888888888,
              "#fdca26"
             ],
             [
              1,
              "#f0f921"
             ]
            ],
            "type": "contour"
           }
          ],
          "contourcarpet": [
           {
            "colorbar": {
             "outlinewidth": 0,
             "ticks": ""
            },
            "type": "contourcarpet"
           }
          ],
          "heatmap": [
           {
            "colorbar": {
             "outlinewidth": 0,
             "ticks": ""
            },
            "colorscale": [
             [
              0,
              "#0d0887"
             ],
             [
              0.1111111111111111,
              "#46039f"
             ],
             [
              0.2222222222222222,
              "#7201a8"
             ],
             [
              0.3333333333333333,
              "#9c179e"
             ],
             [
              0.4444444444444444,
              "#bd3786"
             ],
             [
              0.5555555555555556,
              "#d8576b"
             ],
             [
              0.6666666666666666,
              "#ed7953"
             ],
             [
              0.7777777777777778,
              "#fb9f3a"
             ],
             [
              0.8888888888888888,
              "#fdca26"
             ],
             [
              1,
              "#f0f921"
             ]
            ],
            "type": "heatmap"
           }
          ],
          "heatmapgl": [
           {
            "colorbar": {
             "outlinewidth": 0,
             "ticks": ""
            },
            "colorscale": [
             [
              0,
              "#0d0887"
             ],
             [
              0.1111111111111111,
              "#46039f"
             ],
             [
              0.2222222222222222,
              "#7201a8"
             ],
             [
              0.3333333333333333,
              "#9c179e"
             ],
             [
              0.4444444444444444,
              "#bd3786"
             ],
             [
              0.5555555555555556,
              "#d8576b"
             ],
             [
              0.6666666666666666,
              "#ed7953"
             ],
             [
              0.7777777777777778,
              "#fb9f3a"
             ],
             [
              0.8888888888888888,
              "#fdca26"
             ],
             [
              1,
              "#f0f921"
             ]
            ],
            "type": "heatmapgl"
           }
          ],
          "histogram": [
           {
            "marker": {
             "pattern": {
              "fillmode": "overlay",
              "size": 10,
              "solidity": 0.2
             }
            },
            "type": "histogram"
           }
          ],
          "histogram2d": [
           {
            "colorbar": {
             "outlinewidth": 0,
             "ticks": ""
            },
            "colorscale": [
             [
              0,
              "#0d0887"
             ],
             [
              0.1111111111111111,
              "#46039f"
             ],
             [
              0.2222222222222222,
              "#7201a8"
             ],
             [
              0.3333333333333333,
              "#9c179e"
             ],
             [
              0.4444444444444444,
              "#bd3786"
             ],
             [
              0.5555555555555556,
              "#d8576b"
             ],
             [
              0.6666666666666666,
              "#ed7953"
             ],
             [
              0.7777777777777778,
              "#fb9f3a"
             ],
             [
              0.8888888888888888,
              "#fdca26"
             ],
             [
              1,
              "#f0f921"
             ]
            ],
            "type": "histogram2d"
           }
          ],
          "histogram2dcontour": [
           {
            "colorbar": {
             "outlinewidth": 0,
             "ticks": ""
            },
            "colorscale": [
             [
              0,
              "#0d0887"
             ],
             [
              0.1111111111111111,
              "#46039f"
             ],
             [
              0.2222222222222222,
              "#7201a8"
             ],
             [
              0.3333333333333333,
              "#9c179e"
             ],
             [
              0.4444444444444444,
              "#bd3786"
             ],
             [
              0.5555555555555556,
              "#d8576b"
             ],
             [
              0.6666666666666666,
              "#ed7953"
             ],
             [
              0.7777777777777778,
              "#fb9f3a"
             ],
             [
              0.8888888888888888,
              "#fdca26"
             ],
             [
              1,
              "#f0f921"
             ]
            ],
            "type": "histogram2dcontour"
           }
          ],
          "mesh3d": [
           {
            "colorbar": {
             "outlinewidth": 0,
             "ticks": ""
            },
            "type": "mesh3d"
           }
          ],
          "parcoords": [
           {
            "line": {
             "colorbar": {
              "outlinewidth": 0,
              "ticks": ""
             }
            },
            "type": "parcoords"
           }
          ],
          "pie": [
           {
            "automargin": true,
            "type": "pie"
           }
          ],
          "scatter": [
           {
            "fillpattern": {
             "fillmode": "overlay",
             "size": 10,
             "solidity": 0.2
            },
            "type": "scatter"
           }
          ],
          "scatter3d": [
           {
            "line": {
             "colorbar": {
              "outlinewidth": 0,
              "ticks": ""
             }
            },
            "marker": {
             "colorbar": {
              "outlinewidth": 0,
              "ticks": ""
             }
            },
            "type": "scatter3d"
           }
          ],
          "scattercarpet": [
           {
            "marker": {
             "colorbar": {
              "outlinewidth": 0,
              "ticks": ""
             }
            },
            "type": "scattercarpet"
           }
          ],
          "scattergeo": [
           {
            "marker": {
             "colorbar": {
              "outlinewidth": 0,
              "ticks": ""
             }
            },
            "type": "scattergeo"
           }
          ],
          "scattergl": [
           {
            "marker": {
             "colorbar": {
              "outlinewidth": 0,
              "ticks": ""
             }
            },
            "type": "scattergl"
           }
          ],
          "scattermapbox": [
           {
            "marker": {
             "colorbar": {
              "outlinewidth": 0,
              "ticks": ""
             }
            },
            "type": "scattermapbox"
           }
          ],
          "scatterpolar": [
           {
            "marker": {
             "colorbar": {
              "outlinewidth": 0,
              "ticks": ""
             }
            },
            "type": "scatterpolar"
           }
          ],
          "scatterpolargl": [
           {
            "marker": {
             "colorbar": {
              "outlinewidth": 0,
              "ticks": ""
             }
            },
            "type": "scatterpolargl"
           }
          ],
          "scatterternary": [
           {
            "marker": {
             "colorbar": {
              "outlinewidth": 0,
              "ticks": ""
             }
            },
            "type": "scatterternary"
           }
          ],
          "surface": [
           {
            "colorbar": {
             "outlinewidth": 0,
             "ticks": ""
            },
            "colorscale": [
             [
              0,
              "#0d0887"
             ],
             [
              0.1111111111111111,
              "#46039f"
             ],
             [
              0.2222222222222222,
              "#7201a8"
             ],
             [
              0.3333333333333333,
              "#9c179e"
             ],
             [
              0.4444444444444444,
              "#bd3786"
             ],
             [
              0.5555555555555556,
              "#d8576b"
             ],
             [
              0.6666666666666666,
              "#ed7953"
             ],
             [
              0.7777777777777778,
              "#fb9f3a"
             ],
             [
              0.8888888888888888,
              "#fdca26"
             ],
             [
              1,
              "#f0f921"
             ]
            ],
            "type": "surface"
           }
          ],
          "table": [
           {
            "cells": {
             "fill": {
              "color": "#EBF0F8"
             },
             "line": {
              "color": "white"
             }
            },
            "header": {
             "fill": {
              "color": "#C8D4E3"
             },
             "line": {
              "color": "white"
             }
            },
            "type": "table"
           }
          ]
         },
         "layout": {
          "annotationdefaults": {
           "arrowcolor": "#2a3f5f",
           "arrowhead": 0,
           "arrowwidth": 1
          },
          "autotypenumbers": "strict",
          "coloraxis": {
           "colorbar": {
            "outlinewidth": 0,
            "ticks": ""
           }
          },
          "colorscale": {
           "diverging": [
            [
             0,
             "#8e0152"
            ],
            [
             0.1,
             "#c51b7d"
            ],
            [
             0.2,
             "#de77ae"
            ],
            [
             0.3,
             "#f1b6da"
            ],
            [
             0.4,
             "#fde0ef"
            ],
            [
             0.5,
             "#f7f7f7"
            ],
            [
             0.6,
             "#e6f5d0"
            ],
            [
             0.7,
             "#b8e186"
            ],
            [
             0.8,
             "#7fbc41"
            ],
            [
             0.9,
             "#4d9221"
            ],
            [
             1,
             "#276419"
            ]
           ],
           "sequential": [
            [
             0,
             "#0d0887"
            ],
            [
             0.1111111111111111,
             "#46039f"
            ],
            [
             0.2222222222222222,
             "#7201a8"
            ],
            [
             0.3333333333333333,
             "#9c179e"
            ],
            [
             0.4444444444444444,
             "#bd3786"
            ],
            [
             0.5555555555555556,
             "#d8576b"
            ],
            [
             0.6666666666666666,
             "#ed7953"
            ],
            [
             0.7777777777777778,
             "#fb9f3a"
            ],
            [
             0.8888888888888888,
             "#fdca26"
            ],
            [
             1,
             "#f0f921"
            ]
           ],
           "sequentialminus": [
            [
             0,
             "#0d0887"
            ],
            [
             0.1111111111111111,
             "#46039f"
            ],
            [
             0.2222222222222222,
             "#7201a8"
            ],
            [
             0.3333333333333333,
             "#9c179e"
            ],
            [
             0.4444444444444444,
             "#bd3786"
            ],
            [
             0.5555555555555556,
             "#d8576b"
            ],
            [
             0.6666666666666666,
             "#ed7953"
            ],
            [
             0.7777777777777778,
             "#fb9f3a"
            ],
            [
             0.8888888888888888,
             "#fdca26"
            ],
            [
             1,
             "#f0f921"
            ]
           ]
          },
          "colorway": [
           "#636efa",
           "#EF553B",
           "#00cc96",
           "#ab63fa",
           "#FFA15A",
           "#19d3f3",
           "#FF6692",
           "#B6E880",
           "#FF97FF",
           "#FECB52"
          ],
          "font": {
           "color": "#2a3f5f"
          },
          "geo": {
           "bgcolor": "white",
           "lakecolor": "white",
           "landcolor": "#E5ECF6",
           "showlakes": true,
           "showland": true,
           "subunitcolor": "white"
          },
          "hoverlabel": {
           "align": "left"
          },
          "hovermode": "closest",
          "mapbox": {
           "style": "light"
          },
          "paper_bgcolor": "white",
          "plot_bgcolor": "#E5ECF6",
          "polar": {
           "angularaxis": {
            "gridcolor": "white",
            "linecolor": "white",
            "ticks": ""
           },
           "bgcolor": "#E5ECF6",
           "radialaxis": {
            "gridcolor": "white",
            "linecolor": "white",
            "ticks": ""
           }
          },
          "scene": {
           "xaxis": {
            "backgroundcolor": "#E5ECF6",
            "gridcolor": "white",
            "gridwidth": 2,
            "linecolor": "white",
            "showbackground": true,
            "ticks": "",
            "zerolinecolor": "white"
           },
           "yaxis": {
            "backgroundcolor": "#E5ECF6",
            "gridcolor": "white",
            "gridwidth": 2,
            "linecolor": "white",
            "showbackground": true,
            "ticks": "",
            "zerolinecolor": "white"
           },
           "zaxis": {
            "backgroundcolor": "#E5ECF6",
            "gridcolor": "white",
            "gridwidth": 2,
            "linecolor": "white",
            "showbackground": true,
            "ticks": "",
            "zerolinecolor": "white"
           }
          },
          "shapedefaults": {
           "line": {
            "color": "#2a3f5f"
           }
          },
          "ternary": {
           "aaxis": {
            "gridcolor": "white",
            "linecolor": "white",
            "ticks": ""
           },
           "baxis": {
            "gridcolor": "white",
            "linecolor": "white",
            "ticks": ""
           },
           "bgcolor": "#E5ECF6",
           "caxis": {
            "gridcolor": "white",
            "linecolor": "white",
            "ticks": ""
           }
          },
          "title": {
           "x": 0.05
          },
          "xaxis": {
           "automargin": true,
           "gridcolor": "white",
           "linecolor": "white",
           "ticks": "",
           "title": {
            "standoff": 15
           },
           "zerolinecolor": "white",
           "zerolinewidth": 2
          },
          "yaxis": {
           "automargin": true,
           "gridcolor": "white",
           "linecolor": "white",
           "ticks": "",
           "title": {
            "standoff": 15
           },
           "zerolinecolor": "white",
           "zerolinewidth": 2
          }
         }
        },
        "title": {
         "text": "Todays Option Pos (PnL and Delta)",
         "x": 0.5,
         "xanchor": "center"
        },
        "xaxis": {
         "anchor": "y",
         "domain": [
          0,
          0.45
         ],
         "title": {
          "text": "Price"
         }
        },
        "xaxis2": {
         "anchor": "y2",
         "domain": [
          0.55,
          1
         ],
         "title": {
          "text": "Price"
         }
        },
        "yaxis": {
         "anchor": "x",
         "domain": [
          0,
          1
         ],
         "title": {
          "text": "Pnl"
         }
        },
        "yaxis2": {
         "anchor": "x2",
         "domain": [
          0,
          1
         ],
         "title": {
          "text": "Delta"
         }
        }
       }
      },
      "text/html": [
       "<div>                            <div id=\"3086e4fe-c9ff-4bfc-abb0-aa98cc577225\" class=\"plotly-graph-div\" style=\"height:525px; width:100%;\"></div>            <script type=\"text/javascript\">                require([\"plotly\"], function(Plotly) {                    window.PLOTLYENV=window.PLOTLYENV || {};                                    if (document.getElementById(\"3086e4fe-c9ff-4bfc-abb0-aa98cc577225\")) {                    Plotly.newPlot(                        \"3086e4fe-c9ff-4bfc-abb0-aa98cc577225\",                        [{\"name\":\"EUA Mar25 75C\",\"x\":[20,21,22,23,24,25,26,27,28,29,30,31,32,33,34,35,36,37,38,39,40,41,42,43,44,45,46,47,48,49,50,51,52,53,54,55,56,57,58,59,60,61,62,63,64,65,66,67,68,69,70,71,72,73,74,75,76,77,78,79,80,81,82,83,84,85,86,87,88,89,90,91,92,93,94,95,96,97,98,99,100],\"y\":[-247685.6730499249,-247685.6730499249,-247685.6730499249,-247685.6730499249,-247685.6730499249,-247685.6730499249,-247685.6730499249,-247685.6730499249,-247685.6730499249,-247685.6730499249,-247685.6730499249,-247685.6730499249,-247685.6730499249,-247685.6730499249,-247685.6730499249,-247685.6730499249,-247685.6730499249,-247685.6730499249,-247685.6730499249,-247685.6730499249,-247685.6730499249,-247685.6730499249,-247685.6730499249,-247685.6730499249,-247685.6730499249,-247685.6730499249,-247685.6730499249,-247685.6730499249,-247685.6730499249,-247685.6730499249,-247685.6730499249,-247685.6730499249,-247685.6730499249,-247685.6730499249,-247685.6730499249,-247685.6730499249,-247685.6730499249,-247685.6730499249,-247685.6730499249,-247685.6730499249,-247685.6730499249,-247685.6730499249,-247685.6730499249,-247685.6730499249,-247685.6730499249,-247685.6730499249,-247685.6730499249,-247685.6730499249,-247685.6730499249,-247685.6730499249,-247685.6730499249,-247685.6730499249,-247685.6730499249,-247685.6730499249,-247685.6730499249,-247685.6730499249,-124676.67304992491,-1667.6730499248938,121341.3269500751,244350.3269500751,367359.3269500751,490368.3269500751,613377.3269500752,736386.3269500752,859395.3269500752,982404.3269500752,1105413.326950075,1228422.326950075,1351431.326950075,1474440.326950075,1597449.326950075,1720458.326950075,1843467.326950075,1966476.326950075,2089485.326950075,2212494.326950075,2335503.326950075,2458512.326950075,2581521.326950075,2704530.326950075,2827539.326950075],\"type\":\"scatter\",\"xaxis\":\"x\",\"yaxis\":\"y\"},{\"name\":\"EUA Mar25 75C\",\"x\":[20,21,22,23,24,25,26,27,28,29,30,31,32,33,34,35,36,37,38,39,40,41,42,43,44,45,46,47,48,49,50,51,52,53,54,55,56,57,58,59,60,61,62,63,64,65,66,67,68,69,70,71,72,73,74,75,76,77,78,79,80,81,82,83,84,85,86,87,88,89,90,91,92,93,94,95,96,97,98,99,100],\"y\":[0.0,0.0,0.0,0.0,0.0,0.0,0.0,0.0,0.0,0.0,0.0,0.0,0.0,0.0,0.0,0.0,0.0,0.0,0.0,0.0,0.0,0.0,0.0,0.0,0.0,0.0,0.0,0.0,0.0,0.0,0.0,0.0,0.0,0.0,0.0,0.0,0.0,0.0,0.0,0.0,0.0,0.0,0.0,0.0,0.0,0.0,0.0,0.0,0.0,0.0,0.0,0.0,0.0,0.0,0.0,null,75000.0,75000.0,75000.0,75000.0,75000.0,75000.0,75000.0,75000.0,75000.0,75000.0,75000.0,75000.0,75000.0,75000.0,75000.0,75000.0,75000.0,75000.0,75000.0,75000.0,75000.0,75000.0,75000.0,75000.0,75000.0],\"type\":\"scatter\",\"xaxis\":\"x2\",\"yaxis\":\"y2\"},{\"name\":\"EUA Mar25 80C\",\"x\":[20,21,22,23,24,25,26,27,28,29,30,31,32,33,34,35,36,37,38,39,40,41,42,43,44,45,46,47,48,49,50,51,52,53,54,55,56,57,58,59,60,61,62,63,64,65,66,67,68,69,70,71,72,73,74,75,76,77,78,79,80,81,82,83,84,85,86,87,88,89,90,91,92,93,94,95,96,97,98,99,100],\"y\":[-293042.3457475392,-293042.3457475392,-293042.3457475392,-293042.3457475392,-293042.3457475392,-293042.3457475392,-293042.3457475392,-293042.3457475392,-293042.3457475392,-293042.3457475392,-293042.3457475392,-293042.3457475392,-293042.3457475392,-293042.3457475392,-293042.3457475392,-293042.3457475392,-293042.3457475392,-293042.3457475392,-293042.3457475392,-293042.3457475392,-293042.3457475392,-293042.3457475392,-293042.3457475392,-293042.3457475392,-293042.3457475392,-293042.3457475392,-293042.3457475392,-293042.3457475392,-293042.3457475392,-293042.3457475392,-293042.3457475392,-293042.3457475392,-293042.3457475392,-293042.3457475392,-293042.3457475392,-293042.3457475392,-293042.3457475392,-293042.3457475392,-293042.3457475392,-293042.3457475392,-293042.3457475392,-293042.3457475392,-293042.3457475392,-293042.3457475392,-293042.3457475392,-293042.3457475392,-293042.3457475392,-293042.3457475392,-293042.3457475392,-293042.3457475392,-293042.3457475392,-293042.3457475392,-293042.3457475392,-293042.3457475392,-293042.3457475392,-293042.3457475392,-293042.3457475392,-293042.3457475392,-293042.3457475392,-293042.3457475392,-293042.3457475392,116987.65425246078,527017.6542524608,937047.6542524607,1347077.6542524607,1757107.6542524607,2167137.6542524607,2577167.6542524607,2987197.6542524607,3397227.6542524607,3807257.65425246,4217287.65425246,4627317.65425246,5037347.65425246,5447377.65425246,5857407.65425246,6267437.65425246,6677467.654252461,7087497.654252461,7497527.654252461,7907557.654252461],\"type\":\"scatter\",\"xaxis\":\"x\",\"yaxis\":\"y\"},{\"name\":\"EUA Mar25 80C\",\"x\":[20,21,22,23,24,25,26,27,28,29,30,31,32,33,34,35,36,37,38,39,40,41,42,43,44,45,46,47,48,49,50,51,52,53,54,55,56,57,58,59,60,61,62,63,64,65,66,67,68,69,70,71,72,73,74,75,76,77,78,79,80,81,82,83,84,85,86,87,88,89,90,91,92,93,94,95,96,97,98,99,100],\"y\":[0.0,0.0,0.0,0.0,0.0,0.0,0.0,0.0,0.0,0.0,0.0,0.0,0.0,0.0,0.0,0.0,0.0,0.0,0.0,0.0,0.0,0.0,0.0,0.0,0.0,0.0,0.0,0.0,0.0,0.0,0.0,0.0,0.0,0.0,0.0,0.0,0.0,0.0,0.0,0.0,0.0,0.0,0.0,0.0,0.0,0.0,0.0,0.0,0.0,0.0,0.0,0.0,0.0,0.0,0.0,0.0,0.0,0.0,0.0,0.0,null,250000.0,250000.0,250000.0,250000.0,250000.0,250000.0,250000.0,250000.0,250000.0,250000.0,250000.0,250000.0,250000.0,250000.0,250000.0,250000.0,250000.0,250000.0,250000.0,250000.0],\"type\":\"scatter\",\"xaxis\":\"x2\",\"yaxis\":\"y2\"},{\"name\":\"EUA Mar25 85C\",\"x\":[20,21,22,23,24,25,26,27,28,29,30,31,32,33,34,35,36,37,38,39,40,41,42,43,44,45,46,47,48,49,50,51,52,53,54,55,56,57,58,59,60,61,62,63,64,65,66,67,68,69,70,71,72,73,74,75,76,77,78,79,80,81,82,83,84,85,86,87,88,89,90,91,92,93,94,95,96,97,98,99,100],\"y\":[-120545.32695780632,-120545.32695780632,-120545.32695780632,-120545.32695780632,-120545.32695780632,-120545.32695780632,-120545.32695780632,-120545.32695780632,-120545.32695780632,-120545.32695780632,-120545.32695780632,-120545.32695780632,-120545.32695780632,-120545.32695780632,-120545.32695780632,-120545.32695780632,-120545.32695780632,-120545.32695780632,-120545.32695780632,-120545.32695780632,-120545.32695780632,-120545.32695780632,-120545.32695780632,-120545.32695780632,-120545.32695780632,-120545.32695780632,-120545.32695780632,-120545.32695780632,-120545.32695780632,-120545.32695780632,-120545.32695780632,-120545.32695780632,-120545.32695780632,-120545.32695780632,-120545.32695780632,-120545.32695780632,-120545.32695780632,-120545.32695780632,-120545.32695780632,-120545.32695780632,-120545.32695780632,-120545.32695780632,-120545.32695780632,-120545.32695780632,-120545.32695780632,-120545.32695780632,-120545.32695780632,-120545.32695780632,-120545.32695780632,-120545.32695780632,-120545.32695780632,-120545.32695780632,-120545.32695780632,-120545.32695780632,-120545.32695780632,-120545.32695780632,-120545.32695780632,-120545.32695780632,-120545.32695780632,-120545.32695780632,-120545.32695780632,-120545.32695780632,-120545.32695780632,-120545.32695780632,-120545.32695780632,-120545.32695780632,412493.6730421937,945532.6730421936,1478571.6730421938,2011610.6730421938,2544649.6730421935,3077688.6730421935,3610727.6730421935,4143766.6730421935,4676805.673042194,5209844.673042194,5742883.673042194,6275922.673042194,6808961.673042194,7342000.673042195,7875039.673042195],\"type\":\"scatter\",\"xaxis\":\"x\",\"yaxis\":\"y\"},{\"name\":\"EUA Mar25 85C\",\"x\":[20,21,22,23,24,25,26,27,28,29,30,31,32,33,34,35,36,37,38,39,40,41,42,43,44,45,46,47,48,49,50,51,52,53,54,55,56,57,58,59,60,61,62,63,64,65,66,67,68,69,70,71,72,73,74,75,76,77,78,79,80,81,82,83,84,85,86,87,88,89,90,91,92,93,94,95,96,97,98,99,100],\"y\":[0.0,0.0,0.0,0.0,0.0,0.0,0.0,0.0,0.0,0.0,0.0,0.0,0.0,0.0,0.0,0.0,0.0,0.0,0.0,0.0,0.0,0.0,0.0,0.0,0.0,0.0,0.0,0.0,0.0,0.0,0.0,0.0,0.0,0.0,0.0,0.0,0.0,0.0,0.0,0.0,0.0,0.0,0.0,0.0,0.0,0.0,0.0,0.0,0.0,0.0,0.0,0.0,0.0,0.0,0.0,0.0,0.0,0.0,0.0,0.0,0.0,0.0,0.0,0.0,0.0,null,325000.0,325000.0,325000.0,325000.0,325000.0,325000.0,325000.0,325000.0,325000.0,325000.0,325000.0,325000.0,325000.0,325000.0,325000.0],\"type\":\"scatter\",\"xaxis\":\"x2\",\"yaxis\":\"y2\"},{\"name\":\"EUA Mar25 90C\",\"x\":[20,21,22,23,24,25,26,27,28,29,30,31,32,33,34,35,36,37,38,39,40,41,42,43,44,45,46,47,48,49,50,51,52,53,54,55,56,57,58,59,60,61,62,63,64,65,66,67,68,69,70,71,72,73,74,75,76,77,78,79,80,81,82,83,84,85,86,87,88,89,90,91,92,93,94,95,96,97,98,99,100],\"y\":[-42315.162703868795,-42315.162703868795,-42315.162703868795,-42315.162703868795,-42315.162703868795,-42315.162703868795,-42315.162703868795,-42315.162703868795,-42315.162703868795,-42315.162703868795,-42315.162703868795,-42315.162703868795,-42315.162703868795,-42315.162703868795,-42315.162703868795,-42315.162703868795,-42315.162703868795,-42315.162703868795,-42315.162703868795,-42315.162703868795,-42315.162703868795,-42315.162703868795,-42315.162703868795,-42315.162703868795,-42315.162703868795,-42315.162703868795,-42315.162703868795,-42315.162703868795,-42315.162703868795,-42315.162703868795,-42315.162703868795,-42315.162703868795,-42315.162703868795,-42315.162703868795,-42315.162703868795,-42315.162703868795,-42315.162703868795,-42315.162703868795,-42315.162703868795,-42315.162703868795,-42315.162703868795,-42315.162703868795,-42315.162703868795,-42315.162703868795,-42315.162703868795,-42315.162703868795,-42315.162703868795,-42315.162703868795,-42315.162703868795,-42315.162703868795,-42315.162703868795,-42315.162703868795,-42315.162703868795,-42315.162703868795,-42315.162703868795,-42315.162703868795,-42315.162703868795,-42315.162703868795,-42315.162703868795,-42315.162703868795,-42315.162703868795,-42315.162703868795,-42315.162703868795,-42315.162703868795,-42315.162703868795,-42315.162703868795,-42315.162703868795,-42315.162703868795,-42315.162703868795,-42315.162703868795,-42315.162703868795,531726.8372961312,1105768.8372961313,1679810.8372961313,2253852.8372961315,2827894.837296131,3401936.837296131,3975978.837296131,4550020.837296131,5124062.837296131,5698104.837296131],\"type\":\"scatter\",\"xaxis\":\"x\",\"yaxis\":\"y\"},{\"name\":\"EUA Mar25 90C\",\"x\":[20,21,22,23,24,25,26,27,28,29,30,31,32,33,34,35,36,37,38,39,40,41,42,43,44,45,46,47,48,49,50,51,52,53,54,55,56,57,58,59,60,61,62,63,64,65,66,67,68,69,70,71,72,73,74,75,76,77,78,79,80,81,82,83,84,85,86,87,88,89,90,91,92,93,94,95,96,97,98,99,100],\"y\":[0.0,0.0,0.0,0.0,0.0,0.0,0.0,0.0,0.0,0.0,0.0,0.0,0.0,0.0,0.0,0.0,0.0,0.0,0.0,0.0,0.0,0.0,0.0,0.0,0.0,0.0,0.0,0.0,0.0,0.0,0.0,0.0,0.0,0.0,0.0,0.0,0.0,0.0,0.0,0.0,0.0,0.0,0.0,0.0,0.0,0.0,0.0,0.0,0.0,0.0,0.0,0.0,0.0,0.0,0.0,0.0,0.0,0.0,0.0,0.0,0.0,0.0,0.0,0.0,0.0,0.0,0.0,0.0,0.0,0.0,null,350000.0,350000.0,350000.0,350000.0,350000.0,350000.0,350000.0,350000.0,350000.0,350000.0],\"type\":\"scatter\",\"xaxis\":\"x2\",\"yaxis\":\"y2\"},{\"mode\":\"lines\",\"name\":\"Total_PnL\",\"x\":[20,21,22,23,24,25,26,27,28,29,30,31,32,33,34,35,36,37,38,39,40,41,42,43,44,45,46,47,48,49,50,51,52,53,54,55,56,57,58,59,60,61,62,63,64,65,66,67,68,69,70,71,72,73,74,75,76,77,78,79,80,81,82,83,84,85,86,87,88,89,90,91,92,93,94,95,96,97,98,99,100],\"y\":[-703588.5084591393,-703588.5084591393,-703588.5084591393,-703588.5084591393,-703588.5084591393,-703588.5084591393,-703588.5084591393,-703588.5084591393,-703588.5084591393,-703588.5084591393,-703588.5084591393,-703588.5084591393,-703588.5084591393,-703588.5084591393,-703588.5084591393,-703588.5084591393,-703588.5084591393,-703588.5084591393,-703588.5084591393,-703588.5084591393,-703588.5084591393,-703588.5084591393,-703588.5084591393,-703588.5084591393,-703588.5084591393,-703588.5084591393,-703588.5084591393,-703588.5084591393,-703588.5084591393,-703588.5084591393,-703588.5084591393,-703588.5084591393,-703588.5084591393,-703588.5084591393,-703588.5084591393,-703588.5084591393,-703588.5084591393,-703588.5084591393,-703588.5084591393,-703588.5084591393,-703588.5084591393,-703588.5084591393,-703588.5084591393,-703588.5084591393,-703588.5084591393,-703588.5084591393,-703588.5084591393,-703588.5084591393,-703588.5084591393,-703588.5084591393,-703588.5084591393,-703588.5084591393,-703588.5084591393,-703588.5084591393,-703588.5084591393,-703588.5084591393,-580579.5084591393,-457570.5084591392,-334561.5084591392,-211552.50845913918,-88543.50845913921,444495.4915408608,977534.4915408609,1510573.4915408609,2043612.4915408609,2576651.4915408604,3642729.4915408604,4708807.49154086,5774885.49154086,6840963.49154086,7907041.491540859,9547161.49154086,11187281.49154086,12827401.49154086,14467521.49154086,16107641.49154086,17747761.49154086,19387881.49154086,21028001.49154086,22668121.49154086,24308241.49154086],\"type\":\"scatter\",\"xaxis\":\"x\",\"yaxis\":\"y\"},{\"mode\":\"lines\",\"name\":\"Total_Delta\",\"x\":[20,21,22,23,24,25,26,27,28,29,30,31,32,33,34,35,36,37,38,39,40,41,42,43,44,45,46,47,48,49,50,51,52,53,54,55,56,57,58,59,60,61,62,63,64,65,66,67,68,69,70,71,72,73,74,75,76,77,78,79,80,81,82,83,84,85,86,87,88,89,90,91,92,93,94,95,96,97,98,99,100],\"y\":[0.0,0.0,0.0,0.0,0.0,0.0,0.0,0.0,0.0,0.0,0.0,0.0,0.0,0.0,0.0,0.0,0.0,0.0,0.0,0.0,0.0,0.0,0.0,0.0,0.0,0.0,0.0,0.0,0.0,0.0,0.0,0.0,0.0,0.0,0.0,0.0,0.0,0.0,0.0,0.0,0.0,0.0,0.0,0.0,0.0,0.0,0.0,0.0,0.0,0.0,0.0,0.0,0.0,0.0,0.0,0.0,75000.0,75000.0,75000.0,75000.0,75000.0,325000.0,325000.0,325000.0,325000.0,325000.0,650000.0,650000.0,650000.0,650000.0,650000.0,1000000.0,1000000.0,1000000.0,1000000.0,1000000.0,1000000.0,1000000.0,1000000.0,1000000.0,1000000.0],\"type\":\"scatter\",\"xaxis\":\"x2\",\"yaxis\":\"y2\"}],                        {\"template\":{\"data\":{\"histogram2dcontour\":[{\"type\":\"histogram2dcontour\",\"colorbar\":{\"outlinewidth\":0,\"ticks\":\"\"},\"colorscale\":[[0.0,\"#0d0887\"],[0.1111111111111111,\"#46039f\"],[0.2222222222222222,\"#7201a8\"],[0.3333333333333333,\"#9c179e\"],[0.4444444444444444,\"#bd3786\"],[0.5555555555555556,\"#d8576b\"],[0.6666666666666666,\"#ed7953\"],[0.7777777777777778,\"#fb9f3a\"],[0.8888888888888888,\"#fdca26\"],[1.0,\"#f0f921\"]]}],\"choropleth\":[{\"type\":\"choropleth\",\"colorbar\":{\"outlinewidth\":0,\"ticks\":\"\"}}],\"histogram2d\":[{\"type\":\"histogram2d\",\"colorbar\":{\"outlinewidth\":0,\"ticks\":\"\"},\"colorscale\":[[0.0,\"#0d0887\"],[0.1111111111111111,\"#46039f\"],[0.2222222222222222,\"#7201a8\"],[0.3333333333333333,\"#9c179e\"],[0.4444444444444444,\"#bd3786\"],[0.5555555555555556,\"#d8576b\"],[0.6666666666666666,\"#ed7953\"],[0.7777777777777778,\"#fb9f3a\"],[0.8888888888888888,\"#fdca26\"],[1.0,\"#f0f921\"]]}],\"heatmap\":[{\"type\":\"heatmap\",\"colorbar\":{\"outlinewidth\":0,\"ticks\":\"\"},\"colorscale\":[[0.0,\"#0d0887\"],[0.1111111111111111,\"#46039f\"],[0.2222222222222222,\"#7201a8\"],[0.3333333333333333,\"#9c179e\"],[0.4444444444444444,\"#bd3786\"],[0.5555555555555556,\"#d8576b\"],[0.6666666666666666,\"#ed7953\"],[0.7777777777777778,\"#fb9f3a\"],[0.8888888888888888,\"#fdca26\"],[1.0,\"#f0f921\"]]}],\"heatmapgl\":[{\"type\":\"heatmapgl\",\"colorbar\":{\"outlinewidth\":0,\"ticks\":\"\"},\"colorscale\":[[0.0,\"#0d0887\"],[0.1111111111111111,\"#46039f\"],[0.2222222222222222,\"#7201a8\"],[0.3333333333333333,\"#9c179e\"],[0.4444444444444444,\"#bd3786\"],[0.5555555555555556,\"#d8576b\"],[0.6666666666666666,\"#ed7953\"],[0.7777777777777778,\"#fb9f3a\"],[0.8888888888888888,\"#fdca26\"],[1.0,\"#f0f921\"]]}],\"contourcarpet\":[{\"type\":\"contourcarpet\",\"colorbar\":{\"outlinewidth\":0,\"ticks\":\"\"}}],\"contour\":[{\"type\":\"contour\",\"colorbar\":{\"outlinewidth\":0,\"ticks\":\"\"},\"colorscale\":[[0.0,\"#0d0887\"],[0.1111111111111111,\"#46039f\"],[0.2222222222222222,\"#7201a8\"],[0.3333333333333333,\"#9c179e\"],[0.4444444444444444,\"#bd3786\"],[0.5555555555555556,\"#d8576b\"],[0.6666666666666666,\"#ed7953\"],[0.7777777777777778,\"#fb9f3a\"],[0.8888888888888888,\"#fdca26\"],[1.0,\"#f0f921\"]]}],\"surface\":[{\"type\":\"surface\",\"colorbar\":{\"outlinewidth\":0,\"ticks\":\"\"},\"colorscale\":[[0.0,\"#0d0887\"],[0.1111111111111111,\"#46039f\"],[0.2222222222222222,\"#7201a8\"],[0.3333333333333333,\"#9c179e\"],[0.4444444444444444,\"#bd3786\"],[0.5555555555555556,\"#d8576b\"],[0.6666666666666666,\"#ed7953\"],[0.7777777777777778,\"#fb9f3a\"],[0.8888888888888888,\"#fdca26\"],[1.0,\"#f0f921\"]]}],\"mesh3d\":[{\"type\":\"mesh3d\",\"colorbar\":{\"outlinewidth\":0,\"ticks\":\"\"}}],\"scatter\":[{\"fillpattern\":{\"fillmode\":\"overlay\",\"size\":10,\"solidity\":0.2},\"type\":\"scatter\"}],\"parcoords\":[{\"type\":\"parcoords\",\"line\":{\"colorbar\":{\"outlinewidth\":0,\"ticks\":\"\"}}}],\"scatterpolargl\":[{\"type\":\"scatterpolargl\",\"marker\":{\"colorbar\":{\"outlinewidth\":0,\"ticks\":\"\"}}}],\"bar\":[{\"error_x\":{\"color\":\"#2a3f5f\"},\"error_y\":{\"color\":\"#2a3f5f\"},\"marker\":{\"line\":{\"color\":\"#E5ECF6\",\"width\":0.5},\"pattern\":{\"fillmode\":\"overlay\",\"size\":10,\"solidity\":0.2}},\"type\":\"bar\"}],\"scattergeo\":[{\"type\":\"scattergeo\",\"marker\":{\"colorbar\":{\"outlinewidth\":0,\"ticks\":\"\"}}}],\"scatterpolar\":[{\"type\":\"scatterpolar\",\"marker\":{\"colorbar\":{\"outlinewidth\":0,\"ticks\":\"\"}}}],\"histogram\":[{\"marker\":{\"pattern\":{\"fillmode\":\"overlay\",\"size\":10,\"solidity\":0.2}},\"type\":\"histogram\"}],\"scattergl\":[{\"type\":\"scattergl\",\"marker\":{\"colorbar\":{\"outlinewidth\":0,\"ticks\":\"\"}}}],\"scatter3d\":[{\"type\":\"scatter3d\",\"line\":{\"colorbar\":{\"outlinewidth\":0,\"ticks\":\"\"}},\"marker\":{\"colorbar\":{\"outlinewidth\":0,\"ticks\":\"\"}}}],\"scattermapbox\":[{\"type\":\"scattermapbox\",\"marker\":{\"colorbar\":{\"outlinewidth\":0,\"ticks\":\"\"}}}],\"scatterternary\":[{\"type\":\"scatterternary\",\"marker\":{\"colorbar\":{\"outlinewidth\":0,\"ticks\":\"\"}}}],\"scattercarpet\":[{\"type\":\"scattercarpet\",\"marker\":{\"colorbar\":{\"outlinewidth\":0,\"ticks\":\"\"}}}],\"carpet\":[{\"aaxis\":{\"endlinecolor\":\"#2a3f5f\",\"gridcolor\":\"white\",\"linecolor\":\"white\",\"minorgridcolor\":\"white\",\"startlinecolor\":\"#2a3f5f\"},\"baxis\":{\"endlinecolor\":\"#2a3f5f\",\"gridcolor\":\"white\",\"linecolor\":\"white\",\"minorgridcolor\":\"white\",\"startlinecolor\":\"#2a3f5f\"},\"type\":\"carpet\"}],\"table\":[{\"cells\":{\"fill\":{\"color\":\"#EBF0F8\"},\"line\":{\"color\":\"white\"}},\"header\":{\"fill\":{\"color\":\"#C8D4E3\"},\"line\":{\"color\":\"white\"}},\"type\":\"table\"}],\"barpolar\":[{\"marker\":{\"line\":{\"color\":\"#E5ECF6\",\"width\":0.5},\"pattern\":{\"fillmode\":\"overlay\",\"size\":10,\"solidity\":0.2}},\"type\":\"barpolar\"}],\"pie\":[{\"automargin\":true,\"type\":\"pie\"}]},\"layout\":{\"autotypenumbers\":\"strict\",\"colorway\":[\"#636efa\",\"#EF553B\",\"#00cc96\",\"#ab63fa\",\"#FFA15A\",\"#19d3f3\",\"#FF6692\",\"#B6E880\",\"#FF97FF\",\"#FECB52\"],\"font\":{\"color\":\"#2a3f5f\"},\"hovermode\":\"closest\",\"hoverlabel\":{\"align\":\"left\"},\"paper_bgcolor\":\"white\",\"plot_bgcolor\":\"#E5ECF6\",\"polar\":{\"bgcolor\":\"#E5ECF6\",\"angularaxis\":{\"gridcolor\":\"white\",\"linecolor\":\"white\",\"ticks\":\"\"},\"radialaxis\":{\"gridcolor\":\"white\",\"linecolor\":\"white\",\"ticks\":\"\"}},\"ternary\":{\"bgcolor\":\"#E5ECF6\",\"aaxis\":{\"gridcolor\":\"white\",\"linecolor\":\"white\",\"ticks\":\"\"},\"baxis\":{\"gridcolor\":\"white\",\"linecolor\":\"white\",\"ticks\":\"\"},\"caxis\":{\"gridcolor\":\"white\",\"linecolor\":\"white\",\"ticks\":\"\"}},\"coloraxis\":{\"colorbar\":{\"outlinewidth\":0,\"ticks\":\"\"}},\"colorscale\":{\"sequential\":[[0.0,\"#0d0887\"],[0.1111111111111111,\"#46039f\"],[0.2222222222222222,\"#7201a8\"],[0.3333333333333333,\"#9c179e\"],[0.4444444444444444,\"#bd3786\"],[0.5555555555555556,\"#d8576b\"],[0.6666666666666666,\"#ed7953\"],[0.7777777777777778,\"#fb9f3a\"],[0.8888888888888888,\"#fdca26\"],[1.0,\"#f0f921\"]],\"sequentialminus\":[[0.0,\"#0d0887\"],[0.1111111111111111,\"#46039f\"],[0.2222222222222222,\"#7201a8\"],[0.3333333333333333,\"#9c179e\"],[0.4444444444444444,\"#bd3786\"],[0.5555555555555556,\"#d8576b\"],[0.6666666666666666,\"#ed7953\"],[0.7777777777777778,\"#fb9f3a\"],[0.8888888888888888,\"#fdca26\"],[1.0,\"#f0f921\"]],\"diverging\":[[0,\"#8e0152\"],[0.1,\"#c51b7d\"],[0.2,\"#de77ae\"],[0.3,\"#f1b6da\"],[0.4,\"#fde0ef\"],[0.5,\"#f7f7f7\"],[0.6,\"#e6f5d0\"],[0.7,\"#b8e186\"],[0.8,\"#7fbc41\"],[0.9,\"#4d9221\"],[1,\"#276419\"]]},\"xaxis\":{\"gridcolor\":\"white\",\"linecolor\":\"white\",\"ticks\":\"\",\"title\":{\"standoff\":15},\"zerolinecolor\":\"white\",\"automargin\":true,\"zerolinewidth\":2},\"yaxis\":{\"gridcolor\":\"white\",\"linecolor\":\"white\",\"ticks\":\"\",\"title\":{\"standoff\":15},\"zerolinecolor\":\"white\",\"automargin\":true,\"zerolinewidth\":2},\"scene\":{\"xaxis\":{\"backgroundcolor\":\"#E5ECF6\",\"gridcolor\":\"white\",\"linecolor\":\"white\",\"showbackground\":true,\"ticks\":\"\",\"zerolinecolor\":\"white\",\"gridwidth\":2},\"yaxis\":{\"backgroundcolor\":\"#E5ECF6\",\"gridcolor\":\"white\",\"linecolor\":\"white\",\"showbackground\":true,\"ticks\":\"\",\"zerolinecolor\":\"white\",\"gridwidth\":2},\"zaxis\":{\"backgroundcolor\":\"#E5ECF6\",\"gridcolor\":\"white\",\"linecolor\":\"white\",\"showbackground\":true,\"ticks\":\"\",\"zerolinecolor\":\"white\",\"gridwidth\":2}},\"shapedefaults\":{\"line\":{\"color\":\"#2a3f5f\"}},\"annotationdefaults\":{\"arrowcolor\":\"#2a3f5f\",\"arrowhead\":0,\"arrowwidth\":1},\"geo\":{\"bgcolor\":\"white\",\"landcolor\":\"#E5ECF6\",\"subunitcolor\":\"white\",\"showland\":true,\"showlakes\":true,\"lakecolor\":\"white\"},\"title\":{\"x\":0.05},\"mapbox\":{\"style\":\"light\"}}},\"xaxis\":{\"anchor\":\"y\",\"domain\":[0.0,0.45],\"title\":{\"text\":\"Price\"}},\"yaxis\":{\"anchor\":\"x\",\"domain\":[0.0,1.0],\"title\":{\"text\":\"Pnl\"}},\"xaxis2\":{\"anchor\":\"y2\",\"domain\":[0.55,1.0],\"title\":{\"text\":\"Price\"}},\"yaxis2\":{\"anchor\":\"x2\",\"domain\":[0.0,1.0],\"title\":{\"text\":\"Delta\"}},\"title\":{\"text\":\"Todays Option Pos (PnL and Delta)\",\"x\":0.5,\"xanchor\":\"center\"},\"barmode\":\"stack\"},                        {\"responsive\": true}                    ).then(function(){\n",
       "                            \n",
       "var gd = document.getElementById('3086e4fe-c9ff-4bfc-abb0-aa98cc577225');\n",
       "var x = new MutationObserver(function (mutations, observer) {{\n",
       "        var display = window.getComputedStyle(gd).display;\n",
       "        if (!display || display === 'none') {{\n",
       "            console.log([gd, 'removed!']);\n",
       "            Plotly.purge(gd);\n",
       "            observer.disconnect();\n",
       "        }}\n",
       "}});\n",
       "\n",
       "// Listen for the removal of the full notebook cells\n",
       "var notebookContainer = gd.closest('#notebook-container');\n",
       "if (notebookContainer) {{\n",
       "    x.observe(notebookContainer, {childList: true});\n",
       "}}\n",
       "\n",
       "// Listen for the clearing of the current output cell\n",
       "var outputEl = gd.closest('.output');\n",
       "if (outputEl) {{\n",
       "    x.observe(outputEl, {childList: true});\n",
       "}}\n",
       "\n",
       "                        })                };                });            </script>        </div>"
      ]
     },
     "metadata": {},
     "output_type": "display_data"
    }
   ],
   "source": [
    "pnl_delta_plot(dec_exp)"
   ]
  },
  {
   "cell_type": "code",
   "execution_count": 25,
   "id": "175af9cd",
   "metadata": {},
   "outputs": [],
   "source": [
    "### THIS IS FOR PLOTTING THETA AND VEGA\n",
    "\n",
    "#fig_t = go.Figure()\n",
    "#for i in list(t)[1:-1]:\n",
    "#    fig_t.add_trace(go.Bar(x=t.Price, y=t[i], name=i, base=0))\n",
    "#\n",
    "#fig_t.add_trace(go.Scatter(x=t.Price, y=t.Option_Theta, mode='lines', name='Total_Theta'))\n",
    "#\n",
    "#\n",
    "#~~~~~~~~~~~~~~~~~~~~~~~~~~~~~~~~~~~~~~~~~~~~~~~~~~~~~~~~~~~~~~~~~~~~~~~~~~~~~~~~~\n",
    "#fig_v = go.Figure()\n",
    "#for i in list(v)[1:-1]:\n",
    "#    fig_v.add_trace(go.Bar(x=v.Price, y=v[i], name=i, base=0))\n",
    "#\n",
    "#fig_v.add_trace(go.Scatter(x=v.Price, y=v.Option_Vega, mode='lines', name='Total_Vega'))\n",
    "#\n",
    "##~~~~~~~~~~~~~~~~~~~~~~~~~~~~~~~~~~~~~~~~~~~~~~~~~~~~~~~~~~~~~~~~~~~~~~~~~~~~~~~~\n",
    "#fig = make_subplots(rows=1, cols=2)\n",
    "#for i in range(0,len(fig_p.data)):\n",
    "#    fig.add_trace(fig_t.data[i], row=1, col=1)\n",
    "#    fig.add_trace(fig_v.data[i], row=1, col=2)\n",
    "#   \n",
    "#fig.update_layout(title={'text': 'Todays Option Pos (Theta and Vega)','x': 0.5,'xanchor': 'center'}, barmode='stack')\n",
    "#\n",
    "#fig.update_xaxes(title_text=\"Price\", row=1, col=1)\n",
    "#fig.update_yaxes(title_text=\"Theta\", row=1, col=1)\n",
    "#fig.update_xaxes(title_text=\"Price\", row=1, col=2)\n",
    "#fig.update_yaxes(title_text=\"Vega\", row=1, col=2)    \n",
    "#fig.show()  "
   ]
  }
 ],
 "metadata": {
  "kernelspec": {
   "display_name": "Python 3 (ipykernel)",
   "language": "python",
   "name": "python3"
  },
  "language_info": {
   "codemirror_mode": {
    "name": "ipython",
    "version": 3
   },
   "file_extension": ".py",
   "mimetype": "text/x-python",
   "name": "python",
   "nbconvert_exporter": "python",
   "pygments_lexer": "ipython3",
   "version": "3.8.16"
  },
  "toc": {
   "base_numbering": 1,
   "nav_menu": {},
   "number_sections": true,
   "sideBar": true,
   "skip_h1_title": false,
   "title_cell": "Table of Contents",
   "title_sidebar": "Contents",
   "toc_cell": false,
   "toc_position": {},
   "toc_section_display": true,
   "toc_window_display": false
  },
  "varInspector": {
   "cols": {
    "lenName": 16,
    "lenType": 16,
    "lenVar": 40
   },
   "kernels_config": {
    "python": {
     "delete_cmd_postfix": "",
     "delete_cmd_prefix": "del ",
     "library": "var_list.py",
     "varRefreshCmd": "print(var_dic_list())"
    },
    "r": {
     "delete_cmd_postfix": ") ",
     "delete_cmd_prefix": "rm(",
     "library": "var_list.r",
     "varRefreshCmd": "cat(var_dic_list()) "
    }
   },
   "types_to_exclude": [
    "module",
    "function",
    "builtin_function_or_method",
    "instance",
    "_Feature"
   ],
   "window_display": false
  }
 },
 "nbformat": 4,
 "nbformat_minor": 5
}
