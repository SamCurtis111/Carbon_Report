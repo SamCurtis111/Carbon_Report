{
 "cells": [
  {
   "cell_type": "code",
   "execution_count": 1,
   "id": "bba20152",
   "metadata": {},
   "outputs": [],
   "source": [
    "import warnings\n",
    "warnings.filterwarnings('ignore', category=RuntimeWarning)\n",
    "\n",
    "import pandas as pd\n",
    "import plotly.graph_objects as go\n",
    "from plotly.subplots import make_subplots\n",
    "import plotly\n",
    "\n",
    "import datetime as dt\n",
    "import calendar\n",
    "\n",
    "import openpyxl\n",
    "from openpyxl.utils.dataframe import dataframe_to_rows\n",
    "\n",
    "from Position_Report_Calcs import Position_Reporting"
   ]
  },
  {
   "cell_type": "code",
   "execution_count": 2,
   "id": "9b481c4e",
   "metadata": {},
   "outputs": [
    {
     "data": {
      "text/html": [
       "        <script type=\"text/javascript\">\n",
       "        window.PlotlyConfig = {MathJaxConfig: 'local'};\n",
       "        if (window.MathJax && window.MathJax.Hub && window.MathJax.Hub.Config) {window.MathJax.Hub.Config({SVG: {font: \"STIX-Web\"}});}\n",
       "        if (typeof require !== 'undefined') {\n",
       "        require.undef(\"plotly\");\n",
       "        requirejs.config({\n",
       "            paths: {\n",
       "                'plotly': ['https://cdn.plot.ly/plotly-2.12.1.min']\n",
       "            }\n",
       "        });\n",
       "        require(['plotly'], function(Plotly) {\n",
       "            window._Plotly = Plotly;\n",
       "        });\n",
       "        }\n",
       "        </script>\n",
       "        "
      ]
     },
     "metadata": {},
     "output_type": "display_data"
    }
   ],
   "source": [
    "plotly.offline.init_notebook_mode(connected=True)"
   ]
  },
  {
   "cell_type": "code",
   "execution_count": 3,
   "id": "3ca5488c",
   "metadata": {},
   "outputs": [],
   "source": [
    "## Read in the position data\n",
    "mkts = ['ACCU','NZU','EUA','OTHER']\n",
    "\n",
    "positions = dict()\n",
    "for m in mkts:\n",
    "    positions[m] = pd.read_excel('Positions.xlsx', sheet_name=m)\n",
    "    positions[m]['Expiry'] = pd.to_datetime(positions[m].Expiry).dt.date\n",
    "\n",
    "premiums = pd.read_excel('Positions.xlsx', sheet_name='Index') "
   ]
  },
  {
   "cell_type": "code",
   "execution_count": 4,
   "id": "557de5c9",
   "metadata": {},
   "outputs": [],
   "source": [
    "## Define the dates we want to use for reporting\n",
    "current_date = dt.datetime.today().date()\n",
    "current_year = str(dt.datetime.today().date().year)\n",
    "\n",
    "_, last_day = calendar.monthrange(current_date.year, current_date.month)\n",
    "end_of_month = dt.date(current_date.year, current_date.month, last_day)\n",
    "\n",
    "one_month = current_date + dt.timedelta(days=1*30)\n",
    "\n",
    "three_months = current_date + dt.timedelta(days=3*30)\n",
    "\n",
    "six_months = current_date + dt.timedelta(days=6*30)\n",
    "\n",
    "eoy = '10-12-{}'.format(current_year)\n",
    "end_of_year = dt.datetime.strptime(eoy, '%d-%m-%Y').date()\n",
    "\n",
    "one_year = current_date + dt.timedelta(days=365)\n",
    "\n",
    "end_of_may = dt.datetime.strptime('31-05-2024', '%d-%m-%Y').date()\n",
    "\n",
    "june_expiry = dt.datetime.strptime('15-06-2024', '%d-%m-%Y').date()\n",
    "\n",
    "dates_names = ['today','EoM','3 months','6 months','EoY','OneYear','End of May', 'Mid June']\n",
    "dates_values = [current_date, end_of_month, three_months, six_months, end_of_year, one_year,end_of_may,june_expiry]"
   ]
  },
  {
   "cell_type": "code",
   "execution_count": 5,
   "id": "d56c3bd8",
   "metadata": {},
   "outputs": [],
   "source": [
    "dates = dict()\n",
    "for i in list(range(0,len(dates_names))):\n",
    "    dates[dates_names[i]] = dates_values[i]"
   ]
  },
  {
   "cell_type": "code",
   "execution_count": 6,
   "id": "c9bcfcb0",
   "metadata": {},
   "outputs": [],
   "source": [
    "current_spot = positions['OTHER']\n",
    "current_spot = current_spot[current_spot.Type=='Spot'].reset_index(drop=True)\n",
    "current_spot = current_spot['Price'][0]"
   ]
  },
  {
   "cell_type": "markdown",
   "id": "756bb0ec",
   "metadata": {},
   "source": [
    "# OTHER Position Report\n",
    "All PnL figures are in AUD"
   ]
  },
  {
   "cell_type": "code",
   "execution_count": 7,
   "id": "659c3281",
   "metadata": {},
   "outputs": [],
   "source": [
    "other = dict()\n",
    "workbook = openpyxl.Workbook()\n",
    "\n",
    "for i,d in enumerate(dates_values):\n",
    "    other[d] = Position_Reporting(positions, 'OTHER', d).combine_frame()\n",
    "    \n",
    "    sheet_name = dates_names[i]\n",
    "    sheet = workbook.create_sheet(title=sheet_name)\n",
    "    \n",
    "    for row in dataframe_to_rows(other[d][0], index=False, header=True):\n",
    "        sheet.append(row)\n",
    "    \n",
    "workbook.save('Other PnL Output.xlsx')    "
   ]
  },
  {
   "cell_type": "code",
   "execution_count": 8,
   "id": "fb9d8c7f",
   "metadata": {},
   "outputs": [],
   "source": [
    "# data type; 0=PnL, 1=Delta, 2=Option Theta, 3=Option Vega\n",
    "def generate_summary_plots(mkt_data, data_type):\n",
    "    if data_type==0:\n",
    "        colname='Total_Pnl'\n",
    "    elif data_type==1:\n",
    "        colname='Total_Delta'\n",
    "    elif data_type==2:\n",
    "        colname='Option_Theta'\n",
    "    elif data_type==3:\n",
    "        colname='Option_Vega'\n",
    "    fig = go.Figure()\n",
    "    for i in list(range(0, len(dates_names))):\n",
    "        date_value = dates_values[i]\n",
    "        date_name = dates_names[i]\n",
    "        fig.add_trace(go.Scatter(x=mkt_data[date_value][data_type].Price, y=mkt_data[date_value][data_type][colname], name=date_name))\n",
    "    return fig"
   ]
  },
  {
   "cell_type": "code",
   "execution_count": 9,
   "id": "4708cc1d",
   "metadata": {},
   "outputs": [],
   "source": [
    "#fig_d = generate_summary_plots(other, 1)\n",
    "#fig_p = generate_summary_plots(other, 0)\n",
    "#fig_t = generate_summary_plots(other,2)\n",
    "#fig_v = generate_summary_plots(other,3)"
   ]
  },
  {
   "cell_type": "code",
   "execution_count": 10,
   "id": "ff94b9f0",
   "metadata": {},
   "outputs": [],
   "source": [
    "#fig = make_subplots(rows=1, cols=2)\n",
    "#for i in range(0,len(fig_d.data)):\n",
    "#    fig.add_trace(fig_p.data[i], row=1, col=1)\n",
    "#    fig.add_trace(fig_d.data[i], row=1, col=2)\n",
    "#\n",
    "#fig.update_layout(title={'text': 'OTHER Position (PnL and Delta)','x': 0.5,'xanchor': 'center'})\n",
    "#\n",
    "#fig.update_xaxes(title_text=\"Price\", row=1, col=1)\n",
    "#fig.update_yaxes(title_text=\"PnL\", row=1, col=1)\n",
    "#fig.update_xaxes(title_text=\"Price\", row=1, col=2)\n",
    "#fig.update_yaxes(title_text=\"Delta\", row=1, col=2)\n",
    "#\n",
    "#fig.add_vline(x=current_spot, line_width=1, line_dash=\"dash\", line_color=\"green\")\n",
    "#\n",
    "#fig.show()"
   ]
  },
  {
   "cell_type": "code",
   "execution_count": 11,
   "id": "795643ae",
   "metadata": {},
   "outputs": [],
   "source": [
    "#fig = make_subplots(rows=1, cols=2)\n",
    "#for i in range(0,len(fig_d.data)):\n",
    "#    fig.add_trace(fig_t.data[i], row=1, col=1)\n",
    "#    fig.add_trace(fig_v.data[i], row=1, col=2)\n",
    "#\n",
    "#fig.update_layout(title={'text': 'OTHER Position (Theta and Vega)','x': 0.5,'xanchor': 'center'})\n",
    "#\n",
    "#fig.update_xaxes(title_text=\"Price\", row=1, col=1)\n",
    "#fig.update_yaxes(title_text=\"Theta\", row=1, col=1)\n",
    "#fig.update_xaxes(title_text=\"Price\", row=1, col=2)\n",
    "#fig.update_yaxes(title_text=\"Vega\", row=1, col=2)\n",
    "#fig.show()"
   ]
  },
  {
   "cell_type": "code",
   "execution_count": 12,
   "id": "c201f2c6",
   "metadata": {},
   "outputs": [],
   "source": [
    "## USE THIS STYLE OF GRAPHING FOR TODAY DATE ENTRY ##\n",
    "#position_functions = Position_Reporting(positions, 'OTHER', current_date)\n",
    "#pnl, delta, theta, vega, value = position_functions.combine_frame()\n",
    "#\n",
    "#fig_d = go.Figure()\n",
    "#\n",
    "#fig_d.add_trace(go.Bar(x=delta.Price, y=delta.Spot, name='Spot', base=0))\n",
    "#fig_d.add_trace(go.Bar(x=delta.Price, y=delta.Fwds, name='Fwds', base=0))\n",
    "#fig_d.add_trace(go.Bar(x=delta.Price, y=delta.Options, name='Options', base=0))\n",
    "#fig_d.add_trace(go.Scatter(x=delta.Price, y=delta.Total_Delta, mode='lines', name='Total_Delta'))\n",
    "#\n",
    "#\n",
    "##~~~~~~~~~~~~~~~~~~~~~~~~~~~~~~~~~\n",
    "#fig_p = go.Figure()\n",
    "#\n",
    "#fig_p.add_trace(go.Bar(x=pnl.Price, y=pnl.Spot, name='Spot', base=0))\n",
    "#fig_p.add_trace(go.Bar(x=pnl.Price, y=pnl.Fwds, name='Fwds', base=0))\n",
    "#fig_p.add_trace(go.Bar(x=pnl.Price, y=pnl.Options, name='Options', base=0))\n",
    "#fig_p.add_trace(go.Scatter(x=pnl.Price, y=pnl.Total_Pnl, mode='lines', name='Total_PnL'))\n",
    "#\n",
    "#\n",
    "##~~~~~~~~~~~~~~~~~~~~~~~~~~~~~~~\n",
    "#fig = make_subplots(rows=1, cols=2)\n",
    "#for i in range(0,len(fig_d.data)):\n",
    "#    fig.add_trace(fig_d.data[i], row=1, col=2)\n",
    "#    fig.add_trace(fig_p.data[i], row=1, col=1)\n",
    "#    \n",
    "#fig.update_layout(title={'text': 'Todays OTHER Pos (PnL and Delta)','x': 0.5,'xanchor': 'center'}, barmode='stack')\n",
    "#\n",
    "#fig.update_xaxes(title_text=\"Price\", row=1, col=1)\n",
    "#fig.update_yaxes(title_text=\"Pnl\", row=1, col=1)\n",
    "#fig.update_xaxes(title_text=\"Price\", row=1, col=2)\n",
    "#fig.update_yaxes(title_text=\"Delta\", row=1, col=2)    \n",
    "#fig.show()  "
   ]
  },
  {
   "cell_type": "markdown",
   "id": "d2ae8345",
   "metadata": {},
   "source": [
    "### Positions"
   ]
  },
  {
   "cell_type": "code",
   "execution_count": 13,
   "id": "7cc76593",
   "metadata": {},
   "outputs": [
    {
     "data": {
      "text/html": [
       "<div>\n",
       "<style scoped>\n",
       "    .dataframe tbody tr th:only-of-type {\n",
       "        vertical-align: middle;\n",
       "    }\n",
       "\n",
       "    .dataframe tbody tr th {\n",
       "        vertical-align: top;\n",
       "    }\n",
       "\n",
       "    .dataframe thead th {\n",
       "        text-align: right;\n",
       "    }\n",
       "</style>\n",
       "<table border=\"1\" class=\"dataframe\">\n",
       "  <thead>\n",
       "    <tr style=\"text-align: right;\">\n",
       "      <th></th>\n",
       "      <th>Name</th>\n",
       "      <th>Type</th>\n",
       "      <th>Subtype</th>\n",
       "      <th>Strike</th>\n",
       "      <th>Vol</th>\n",
       "      <th>Expiry</th>\n",
       "      <th>Qty</th>\n",
       "      <th>Price</th>\n",
       "      <th>Rate</th>\n",
       "      <th>FX</th>\n",
       "    </tr>\n",
       "  </thead>\n",
       "  <tbody>\n",
       "    <tr>\n",
       "      <th>0</th>\n",
       "      <td>EUA Dec24</td>\n",
       "      <td>Spot</td>\n",
       "      <td>NaN</td>\n",
       "      <td>NaN</td>\n",
       "      <td>NaN</td>\n",
       "      <td>NaT</td>\n",
       "      <td>0</td>\n",
       "      <td>61.800000</td>\n",
       "      <td>0.037</td>\n",
       "      <td>1.65273</td>\n",
       "    </tr>\n",
       "    <tr>\n",
       "      <th>1</th>\n",
       "      <td>EUA Jun24 40P</td>\n",
       "      <td>Option</td>\n",
       "      <td>Put</td>\n",
       "      <td>40.0</td>\n",
       "      <td>0.577220</td>\n",
       "      <td>2024-06-19</td>\n",
       "      <td>50000</td>\n",
       "      <td>0.303858</td>\n",
       "      <td>0.037</td>\n",
       "      <td>1.65273</td>\n",
       "    </tr>\n",
       "    <tr>\n",
       "      <th>2</th>\n",
       "      <td>EUA Jun24 50P</td>\n",
       "      <td>Option</td>\n",
       "      <td>Put</td>\n",
       "      <td>50.0</td>\n",
       "      <td>0.488380</td>\n",
       "      <td>2024-06-19</td>\n",
       "      <td>-50000</td>\n",
       "      <td>1.337937</td>\n",
       "      <td>0.037</td>\n",
       "      <td>1.65273</td>\n",
       "    </tr>\n",
       "    <tr>\n",
       "      <th>3</th>\n",
       "      <td>EUA Jun24 65C</td>\n",
       "      <td>Option</td>\n",
       "      <td>Call</td>\n",
       "      <td>65.0</td>\n",
       "      <td>0.409312</td>\n",
       "      <td>2024-06-19</td>\n",
       "      <td>-50000</td>\n",
       "      <td>2.337337</td>\n",
       "      <td>0.037</td>\n",
       "      <td>1.65273</td>\n",
       "    </tr>\n",
       "    <tr>\n",
       "      <th>4</th>\n",
       "      <td>EUA Jun24 75C</td>\n",
       "      <td>Option</td>\n",
       "      <td>Call</td>\n",
       "      <td>75.0</td>\n",
       "      <td>0.408955</td>\n",
       "      <td>2024-06-19</td>\n",
       "      <td>50000</td>\n",
       "      <td>0.598654</td>\n",
       "      <td>0.037</td>\n",
       "      <td>1.65273</td>\n",
       "    </tr>\n",
       "  </tbody>\n",
       "</table>\n",
       "</div>"
      ],
      "text/plain": [
       "            Name    Type Subtype  Strike       Vol      Expiry    Qty  \\\n",
       "0      EUA Dec24    Spot     NaN     NaN       NaN         NaT      0   \n",
       "1  EUA Jun24 40P  Option     Put    40.0  0.577220  2024-06-19  50000   \n",
       "2  EUA Jun24 50P  Option     Put    50.0  0.488380  2024-06-19 -50000   \n",
       "3  EUA Jun24 65C  Option    Call    65.0  0.409312  2024-06-19 -50000   \n",
       "4  EUA Jun24 75C  Option    Call    75.0  0.408955  2024-06-19  50000   \n",
       "\n",
       "       Price   Rate       FX  \n",
       "0  61.800000  0.037  1.65273  \n",
       "1   0.303858  0.037  1.65273  \n",
       "2   1.337937  0.037  1.65273  \n",
       "3   2.337337  0.037  1.65273  \n",
       "4   0.598654  0.037  1.65273  "
      ]
     },
     "execution_count": 13,
     "metadata": {},
     "output_type": "execute_result"
    }
   ],
   "source": [
    "positions['OTHER']"
   ]
  },
  {
   "cell_type": "code",
   "execution_count": 14,
   "id": "e2a919b9",
   "metadata": {},
   "outputs": [],
   "source": [
    "# Options for timing are: [current_date, end_of_month, one_month, three_months, six_months, end_of_year, end_of_feb, march_expiry]\n",
    "\n",
    "def pnl_delta_plot(timing):\n",
    "    position_functions = Position_Reporting(positions, 'OTHER', timing)\n",
    "    p,d,t,v, value = position_functions.options()\n",
    "    fig_p = go.Figure()\n",
    "    for i in list(p)[1:-1]:\n",
    "        fig_p.add_trace(go.Scatter(x=p.Price, y=p[i], name=i))\n",
    "\n",
    "    fig_p.add_trace(go.Scatter(x=p.Price, y=p.Option_Pnl, mode='lines', name='Total_PnL'))\n",
    "\n",
    "    #fig_p.update_layout(title='Option PnL Today', xaxis_title='Price', yaxis_title='pnl', barmode='stack')\n",
    "    #fig_p.show()\n",
    "\n",
    "    #~~~~~~~~~~~~~~~~~~~~~~~~~~~~~~~~~~~~~~~~~~~~~~~~~~~~~~~~~~~~~~~~~~~~~~~~~~~~~~~~~\n",
    "    fig_d = go.Figure()\n",
    "    for i in list(d)[1:-1]:\n",
    "        fig_d.add_trace(go.Scatter(x=d.Price, y=d[i], name=i))\n",
    "\n",
    "    fig_d.add_trace(go.Scatter(x=d.Price, y=d.Option_Delta, mode='lines', name='Total_Delta'))\n",
    "\n",
    "    #~~~~~~~~~~~~~~~~~~~~~~~~~~~~~~~~~~~~~~~~~~~~~~~~~~~~~~~~~~~~~~~~~~~~~~~~~~~~~~~~\n",
    "    fig = make_subplots(rows=1, cols=2)\n",
    "    for i in range(0,len(fig_p.data)):\n",
    "        fig.add_trace(fig_p.data[i], row=1, col=1)\n",
    "        fig.add_trace(fig_d.data[i], row=1, col=2)\n",
    "\n",
    "    fig.update_layout(title={'text': 'Todays Option Pos (PnL and Delta)','x': 0.5,'xanchor': 'center'}, barmode='stack')\n",
    "\n",
    "    fig.update_xaxes(title_text=\"Price\", row=1, col=1)\n",
    "    fig.update_yaxes(title_text=\"Pnl\", row=1, col=1)\n",
    "    fig.update_xaxes(title_text=\"Price\", row=1, col=2)\n",
    "    fig.update_yaxes(title_text=\"Delta\", row=1, col=2)    \n",
    "    fig.show()  "
   ]
  },
  {
   "cell_type": "markdown",
   "id": "614a4b0f",
   "metadata": {},
   "source": [
    "## Current Date"
   ]
  },
  {
   "cell_type": "code",
   "execution_count": 15,
   "id": "8fab91a0",
   "metadata": {},
   "outputs": [
    {
     "data": {
      "application/vnd.plotly.v1+json": {
       "config": {
        "plotlyServerURL": "https://plot.ly"
       },
       "data": [
        {
         "name": "EUA Jun24 40P",
         "type": "scatter",
         "x": [
          30,
          31,
          32,
          33,
          34,
          35,
          36,
          37,
          38,
          39,
          40,
          41,
          42,
          43,
          44,
          45,
          46,
          47,
          48,
          49,
          50,
          51,
          52,
          53,
          54,
          55,
          56,
          57,
          58,
          59,
          60,
          61,
          62,
          63,
          64,
          65,
          66,
          67,
          68,
          69,
          70,
          71,
          72,
          73,
          74,
          75,
          76,
          77,
          78,
          79,
          80,
          81,
          82,
          83,
          84,
          85,
          86,
          87,
          88,
          89,
          90,
          91,
          92,
          93,
          94,
          95,
          96,
          97,
          98,
          99,
          100
         ],
         "xaxis": "x",
         "y": [
          842556.5465397373,
          774997.0115768157,
          710266.3583000469,
          648562.7602107219,
          590044.711825236,
          534828.2506772388,
          482986.1206513873,
          434548.66536449833,
          389506.16603134375,
          347812.30110163963,
          309388.3990109006,
          274128.1733600635,
          241902.6642706369,
          212565.1537472747,
          185955.87092877924,
          161906.35073717628,
          140243.3535526498,
          120792.29221753766,
          103380.14493011328,
          87837.85818838551,
          74002.26316853813,
          61717.54239181618,
          50836.29205340411,
          41220.22983327555,
          32740.59924648773,
          25278.320417588307,
          18723.934282792805,
          12977.383225716425,
          7947.666517163633,
          3552.4040302344197,
          -282.6631820385563,
          -3624.2115300754467,
          -6531.893162011581,
          -9058.898182618808,
          -11252.508575464934,
          -13154.634566180657,
          -14802.326693768538,
          -16228.258965157682,
          -17461.180193903638,
          -18526.332009534053,
          -19445.83311317715,
          -20239.03019040345,
          -20922.8165135852,
          -21511.919710294125,
          -22019.160473736,
          -22455.68417484973,
          -22831.16742788211,
          -23154.001683045095,
          -23431.455888653265,
          -23669.82019529928,
          -23874.53257787507,
          -24050.290136868593,
          -24201.14671574728,
          -24330.59834203867,
          -24441.657870232266,
          -24536.92007801784,
          -24618.618345880517,
          -24688.673935222178,
          -24748.738772901113,
          -24800.232550868925,
          -24844.374858650055,
          -24882.212983587007,
          -24914.64593889658,
          -24942.445212183175,
          -24966.272666746456,
          -24986.695974210033,
          -25004.201909263928,
          -25019.20779500862,
          -25032.071350108738,
          -25043.099156128967,
          -25052.55393462531
         ],
         "yaxis": "y"
        },
        {
         "name": "EUA Jun24 40P",
         "type": "scatter",
         "x": [
          30,
          31,
          32,
          33,
          34,
          35,
          36,
          37,
          38,
          39,
          40,
          41,
          42,
          43,
          44,
          45,
          46,
          47,
          48,
          49,
          50,
          51,
          52,
          53,
          54,
          55,
          56,
          57,
          58,
          59,
          60,
          61,
          62,
          63,
          64,
          65,
          66,
          67,
          68,
          69,
          70,
          71,
          72,
          73,
          74,
          75,
          76,
          77,
          78,
          79,
          80,
          81,
          82,
          83,
          84,
          85,
          86,
          87,
          88,
          89,
          90,
          91,
          92,
          93,
          94,
          95,
          96,
          97,
          98,
          99,
          100
         ],
         "xaxis": "x2",
         "y": [
          -41987.774944427125,
          -40331.595141344624,
          -38543.43051575747,
          -36646.2020086581,
          -34665.14175213746,
          -32626.566814888676,
          -30556.750951132326,
          -28480.951741648252,
          -26422.62659268302,
          -24402.85002452544,
          -22439.92781526414,
          -20549.191294811575,
          -18742.947223724666,
          -17030.554669949153,
          -15418.599352131096,
          -13911.137242328248,
          -12509.982057256575,
          -11215.014967187486,
          -10024.49889939795,
          -8935.383827359956,
          -7943.593158859658,
          -7044.284610299634,
          -6232.08170606187,
          -5501.274256300936,
          -4845.987870099017,
          -4260.323805032534,
          -3738.471303496249,
          -3274.7950894772616,
          -2863.9009638921243,
          -2500.6825034512126,
          -2180.3517909000257,
          -1898.4569284507313,
          -1650.8888477884177,
          -1433.8796578404033,
          -1243.9944871553587,
          -1078.1184969167246,
          -933.4404740711843,
          -807.4341686368558,
          -697.8383187909166,
          -602.6361133888659,
          -520.0346740773132,
          -448.44499695874117,
          -386.4626749715883,
          -332.84962448269505,
          -286.5169605987039,
          -246.50910292496886,
          -211.98914456914684,
          -182.22547990576766,
          -156.57965899938398,
          -134.49541686553766,
          -115.48881239549225,
          -99.13940346766847,
          -85.08238040352833,
          -73.00157857110801,
          -62.62329183193138,
          -53.710811045870614,
          -46.05961549585813,
          -39.49314947596094,
          -33.85912109594158,
          -29.026265357656733,
          -24.88151857819032,
          -21.32755614288051,
          -18.280650278357236,
          -15.668808981045279,
          -13.430161383326533,
          -11.511558668980681,
          -9.867363154991704,
          -8.45840134359177,
          -7.251059626239842,
          -6.216503906936177,
          -5.330006723364145
         ],
         "yaxis": "y2"
        },
        {
         "name": "EUA Jun24 50P",
         "type": "scatter",
         "x": [
          30,
          31,
          32,
          33,
          34,
          35,
          36,
          37,
          38,
          39,
          40,
          41,
          42,
          43,
          44,
          45,
          46,
          47,
          48,
          49,
          50,
          51,
          52,
          53,
          54,
          55,
          56,
          57,
          58,
          59,
          60,
          61,
          62,
          63,
          64,
          65,
          66,
          67,
          68,
          69,
          70,
          71,
          72,
          73,
          74,
          75,
          76,
          77,
          78,
          79,
          80,
          81,
          82,
          83,
          84,
          85,
          86,
          87,
          88,
          89,
          90,
          91,
          92,
          93,
          94,
          95,
          96,
          97,
          98,
          99,
          100
         ],
         "xaxis": "x",
         "y": [
          -1531963.2520064262,
          -1451154.3892172368,
          -1370890.209379861,
          -1291334.6087502267,
          -1212675.0251761358,
          -1135119.2990424647,
          -1058891.1664671372,
          -984224.6433976793,
          -911357.6464384373,
          -840525.2443242747,
          -771952.942021557,
          -705850.3715715902,
          -642405.707597583,
          -581781.0503156758,
          -524108.93466948805,
          -469490.039688742,
          -417992.09450089314,
          -369649.91166111565,
          -324466.42754460854,
          -282414.59448330157,
          -243439.94959095347,
          -207463.67914726978,
          -174386.0026484186,
          -144089.71450712212,
          -116443.74121707615,
          -91306.59510945206,
          -68529.63049876319,
          -47960.03233614094,
          -29443.490190925695,
          -12826.530608028886,
          2041.5018574236246,
          15306.81054322293,
          27109.84418975083,
          37584.3027156123,
          46856.42253681523,
          55044.50958251298,
          62258.68690041263,
          68600.82396324941,
          74164.61612423643,
          79035.7848026862,
          83292.37163507812,
          87005.10277295814,
          90237.80256426476,
          93047.8388787315,
          95486.58522785158,
          97599.88751499486,
          99428.52568741918,
          101008.66272635211,
          102372.27529766098,
          103547.56199979587,
          104559.32650209416,
          105429.33398543921,
          106176.6402019704,
          106817.89318601465,
          107367.60819955703,
          107838.41690642624,
          108241.29206243518,
          108585.74920444161,
          108880.02693804183,
          109131.24747741272,
          109345.55909554576,
          109528.26211058545,
          109683.91997402055,
          109816.45694725285,
          109929.2437611766,
          110025.17255411456,
          110106.72228094275,
          110176.01568362289,
          110234.86881305186,
          110284.83399585068,
          110327.23704856736
         ],
         "yaxis": "y"
        },
        {
         "name": "EUA Jun24 50P",
         "type": "scatter",
         "x": [
          30,
          31,
          32,
          33,
          34,
          35,
          36,
          37,
          38,
          39,
          40,
          41,
          42,
          43,
          44,
          45,
          46,
          47,
          48,
          49,
          50,
          51,
          52,
          53,
          54,
          55,
          56,
          57,
          58,
          59,
          60,
          61,
          62,
          63,
          64,
          65,
          66,
          67,
          68,
          69,
          70,
          71,
          72,
          73,
          74,
          75,
          76,
          77,
          78,
          79,
          80,
          81,
          82,
          83,
          84,
          85,
          86,
          87,
          88,
          89,
          90,
          91,
          92,
          93,
          94,
          95,
          96,
          97,
          98,
          99,
          100
         ],
         "xaxis": "x2",
         "y": [
          49382.33771820526,
          49095.26423372918,
          48715.893290224594,
          48229.225067395484,
          47621.72085490378,
          46882.19243542909,
          46002.56748787785,
          44978.46705524272,
          43809.553474967055,
          42499.63184977938,
          41056.51171996355,
          39491.65544980172,
          37819.65433121106,
          36057.58190917061,
          34224.276768732845,
          32339.604827857547,
          30423.745245471124,
          28496.535693766644,
          26576.903210389813,
          24682.397207952683,
          22828.83229360035,
          21030.040891302877,
          19297.729565909416,
          17641.42851258515,
          16068.520829555271,
          14584.336758297633,
          13192.297812655752,
          11894.096361267897,
          10689.897514880615,
          9578.55186407821,
          8557.809511730997,
          7624.5277865748085,
          6774.866888995024,
          6004.469424044889,
          5308.6212691736855,
          4682.392480733838,
          4120.757960114491,
          3618.6983880551193,
          3171.2825148202396,
          2773.7322906152162,
          2421.4725634967403,
          2110.167189750123,
          1835.7434213635393,
          1594.4063812932675,
          1382.6453309627063,
          1197.2332937603358,
          1035.2214377507441,
          893.9294518399365,
          770.9329809158561,
          664.0490233043362,
          571.3200425243537,
          490.99740745946474,
          421.52465207450086,
          361.5209381166218,
          309.7650115580719,
          265.1798650805448,
          226.81825356573037,
          193.84915605941688,
          165.5452346552011,
          141.27130683522782,
          120.47382169956822,
          102.67131098903315,
          87.4457717467525,
          74.43492787730932,
          63.325311877837635,
          53.846104881805076,
          45.76367223260158,
          38.876732554560256,
          33.012100268908775,
          28.020944348883248,
          23.77550953020502
         ],
         "yaxis": "y2"
        },
        {
         "name": "EUA Jun24 65C",
         "type": "scatter",
         "x": [
          30,
          31,
          32,
          33,
          34,
          35,
          36,
          37,
          38,
          39,
          40,
          41,
          42,
          43,
          44,
          45,
          46,
          47,
          48,
          49,
          50,
          51,
          52,
          53,
          54,
          55,
          56,
          57,
          58,
          59,
          60,
          61,
          62,
          63,
          64,
          65,
          66,
          67,
          68,
          69,
          70,
          71,
          72,
          73,
          74,
          75,
          76,
          77,
          78,
          79,
          80,
          81,
          82,
          83,
          84,
          85,
          86,
          87,
          88,
          89,
          90,
          91,
          92,
          93,
          94,
          95,
          96,
          97,
          98,
          99,
          100
         ],
         "xaxis": "x",
         "y": [
          193147.90049210604,
          193145.93324679963,
          193141.7948356638,
          193133.5256820031,
          193117.76813612497,
          193089.02785599016,
          193038.69037546433,
          192953.77628676448,
          192815.4426506509,
          192597.26851972923,
          192263.39562248645,
          191766.62712896126,
          191046.61349374903,
          190028.27055675938,
          188620.5783891763,
          186715.8984094567,
          184189.9214788622,
          180902.3231589751,
          176698.15759481527,
          171409.97295170094,
          164860.5836122566,
          156866.39174044222,
          147241.116857878,
          135799.7691613222,
          122362.69159813464,
          106759.49714655447,
          88832.74019581963,
          68441.18245465434,
          45462.54198994794,
          19795.646151771267,
          -8638.057328424562,
          -39893.64420843686,
          -74002.49602439572,
          -110972.67885348343,
          -150789.85640693206,
          -193418.6607103539,
          -238804.43459946592,
          -286875.25642532244,
          -337544.1580959481,
          -390711.45209282346,
          -446267.0905283766,
          -504092.98878833454,
          -564065.257016667,
          -626056.2939286911,
          -689936.7085729371,
          -755577.0462243082,
          -822849.3042260541,
          -891628.2320706035,
          -961792.4171890148,
          -1033225.1637637793,
          -1105815.1764183922,
          -1179457.0639515887,
          -1254051.68049227,
          -1329506.322694271,
          -1405734.802018834,
          -1482657.4109192083,
          -1560200.8009911615,
          -1638297.7900194821,
          -1716887.1134522755,
          -1795913.1342747244,
          -1875325.5236171233,
          -1955078.922787478,
          -2035132.5958200565,
          -2115450.0801177532,
          -2195998.841365483,
          -2276749.937621191,
          -2357677.696359599,
          -2438759.407253425,
          -2519975.0326247504,
          -2601306.936778643,
          -2682739.6348328376
         ],
         "yaxis": "y"
        },
        {
         "name": "EUA Jun24 65C",
         "type": "scatter",
         "x": [
          30,
          31,
          32,
          33,
          34,
          35,
          36,
          37,
          38,
          39,
          40,
          41,
          42,
          43,
          44,
          45,
          46,
          47,
          48,
          49,
          50,
          51,
          52,
          53,
          54,
          55,
          56,
          57,
          58,
          59,
          60,
          61,
          62,
          63,
          64,
          65,
          66,
          67,
          68,
          69,
          70,
          71,
          72,
          73,
          74,
          75,
          76,
          77,
          78,
          79,
          80,
          81,
          82,
          83,
          84,
          85,
          86,
          87,
          88,
          89,
          90,
          91,
          92,
          93,
          94,
          95,
          96,
          97,
          98,
          99,
          100
         ],
         "xaxis": "x2",
         "y": [
          -0.7902728926491449,
          -1.714425914888419,
          -3.523307539050487,
          -6.88890573957613,
          -12.864842036338546,
          -23.02677578641131,
          -39.62872321043782,
          -65.76284644070974,
          -105.50586016429514,
          -164.03234118623726,
          -247.67466803119814,
          -363.9114814406784,
          -521.2714170857973,
          -729.1459414454821,
          -997.5135727776252,
          -1336.5865234832365,
          -1756.3987519680986,
          -2266.36059291895,
          -2874.8088508013916,
          -3588.5821516047836,
          -4412.649479740871,
          -5349.815534118221,
          -6400.520416643393,
          -7562.743953557094,
          -8832.017413251633,
          -10201.538230806751,
          -11662.377156249831,
          -13203.76241549036,
          -14813.422229502594,
          -16477.965422532252,
          -18183.279759289097,
          -19914.9288685159,
          -21658.530850091283,
          -23400.10460812883,
          -25126.37328940696,
          -26825.017649754835,
          -28484.875481898114,
          -30096.086233578622,
          -31650.182499361712,
          -33140.132113181615,
          -34560.33607906619,
          -35906.58857118495,
          -37176.00575682039,
          -38366.93031165282,
          -39478.81828082486,
          -40512.11446959986,
          -41468.12189934198,
          -42348.87010655004,
          -43156.9862539386,
          -43895.57221158999,
          -44568.08999059381,
          -45178.25719851721,
          -45729.953553288586,
          -46227.13894934914,
          -46673.78312035831,
          -47073.806584345715,
          -47431.03228426003,
          -47749.147141143796,
          -48031.672608965084,
          -48281.943249142445,
          -48503.09231872172,
          -48698.04337922151,
          -48869.50697441231,
          -49019.98148681043,
          -49151.75735765084,
          -49266.92393787818,
          -49367.37832367736,
          -49454.83561566502,
          -49530.84012338772,
          -49596.777114300436,
          -49653.88477765871
         ],
         "yaxis": "y2"
        },
        {
         "name": "EUA Jun24 75C",
         "type": "scatter",
         "x": [
          30,
          31,
          32,
          33,
          34,
          35,
          36,
          37,
          38,
          39,
          40,
          41,
          42,
          43,
          44,
          45,
          46,
          47,
          48,
          49,
          50,
          51,
          52,
          53,
          54,
          55,
          56,
          57,
          58,
          59,
          60,
          61,
          62,
          63,
          64,
          65,
          66,
          67,
          68,
          69,
          70,
          71,
          72,
          73,
          74,
          75,
          76,
          77,
          78,
          79,
          80,
          81,
          82,
          83,
          84,
          85,
          86,
          87,
          88,
          89,
          90,
          91,
          92,
          93,
          94,
          95,
          96,
          97,
          98,
          99,
          100
         ],
         "xaxis": "x",
         "y": [
          -49470.67670726877,
          -49470.62754088276,
          -49470.50921204776,
          -49470.2399416626,
          -49469.658081984206,
          -49468.45954124928,
          -49466.09794852441,
          -49461.63269200801,
          -49453.50768503364,
          -49439.242643357116,
          -49415.0194172188,
          -49375.1490266623,
          -49311.41078853993,
          -49212.263268714036,
          -49061.93734283368,
          -48839.433639991075,
          -48517.45901596049,
          -48061.34821998638,
          -47428.02631896721,
          -46565.073597047,
          -45409.95670583591,
          -43889.487332339995,
          -41919.56254764609,
          -39405.22970612008,
          -36241.10407400856,
          -32312.150360745803,
          -27494.821261654117,
          -21658.52829638452,
          -14667.403865640728,
          -6382.299591845079,
          3337.044553837567,
          14629.732612497772,
          27631.421564388067,
          42472.08083120575,
          59273.871771926744,
          78149.20901762953,
          99199.05560783292,
          122511.49243459105,
          148160.59021483344,
          176205.59979690416,
          206690.4646823335,
          239643.6487186386,
          275078.26237998327,
          312992.46315986675,
          353370.09949168767,
          396181.5633180303,
          441384.81388363003,
          488926.5343929938,
          538743.3836605485,
          590763.3065641935,
          644906.8697507789,
          701088.5923912025,
          759218.2456111402,
          819202.0983181733,
          880944.0913201938,
          944346.9257263244,
          1009313.0555137069,
          1075745.5777354168,
          1143549.017069443,
          1212630.0042246387,
          1282897.8501079984,
          1354265.0196185838,
          1426647.5104816584,
          1499965.1436984437,
          1574141.7729968643,
          1649105.4211658884,
          1724788.3513829361,
          1801127.0816427423,
          1878062.350208469,
          1955539.0396710725,
          2033506.066756592
         ],
         "yaxis": "y"
        },
        {
         "name": "EUA Jun24 75C",
         "type": "scatter",
         "x": [
          30,
          31,
          32,
          33,
          34,
          35,
          36,
          37,
          38,
          39,
          40,
          41,
          42,
          43,
          44,
          45,
          46,
          47,
          48,
          49,
          50,
          51,
          52,
          53,
          54,
          55,
          56,
          57,
          58,
          59,
          60,
          61,
          62,
          63,
          64,
          65,
          66,
          67,
          68,
          69,
          70,
          71,
          72,
          73,
          74,
          75,
          76,
          77,
          78,
          79,
          80,
          81,
          82,
          83,
          84,
          85,
          86,
          87,
          88,
          89,
          90,
          91,
          92,
          93,
          94,
          95,
          96,
          97,
          98,
          99,
          100
         ],
         "xaxis": "x2",
         "y": [
          0.01825175872647558,
          0.04545186424503102,
          0.10671031128168948,
          0.23728277859814934,
          0.5017949908263292,
          1.012989742935653,
          1.9586899994024731,
          3.6386066773736028,
          6.512076769940631,
          11.256886689065214,
          18.83804628649995,
          30.583833213052618,
          48.26479446594138,
          74.16988783599656,
          111.17280038985128,
          162.78090089062653,
          233.15941666809115,
          327.124336783755,
          450.09919894732803,
          608.0331894397411,
          807.2806675539578,
          1054.4450631148566,
          1356.192815231014,
          1719.0453672393164,
          2149.1589972747834,
          2652.1033029095897,
          3232.6494058165954,
          3894.5784099851826,
          4640.5194154847395,
          5471.824594334071,
          6388.4866464922725,
          7389.101558863892,
          8470.877172142733,
          9629.68578447772,
          10860.157022621612,
          12155.80558895348,
          13509.187305866879,
          14912.07614893325,
          16355.654674856665,
          17830.71037012672,
          19327.83091208293,
          20837.59207402053,
          22350.73294278697,
          23858.314174511208,
          25351.856120678895,
          26823.454750730434,
          28265.874327920894,
          29672.616723698018,
          31037.96805580785,
          32357.023991523925,
          33625.69556457775,
          34840.69771559388,
          35999.52299061646,
          37100.402934827405,
          38142.259715944696,
          39124.650422683546,
          40047.706326948784,
          40912.06919225859,
          41718.82647198759,
          42469.44698414408,
          43165.71838714041,
          43809.68752365787,
          44403.604455259,
          44949.87078475184,
          45450.99266042925,
          45909.53867849827,
          46328.10274818264,
          46709.27185790579,
          47055.59857955021,
          47369.57806931387,
          47653.62926599502
         ],
         "yaxis": "y2"
        },
        {
         "mode": "lines",
         "name": "Total_PnL",
         "type": "scatter",
         "x": [
          30,
          31,
          32,
          33,
          34,
          35,
          36,
          37,
          38,
          39,
          40,
          41,
          42,
          43,
          44,
          45,
          46,
          47,
          48,
          49,
          50,
          51,
          52,
          53,
          54,
          55,
          56,
          57,
          58,
          59,
          60,
          61,
          62,
          63,
          64,
          65,
          66,
          67,
          68,
          69,
          70,
          71,
          72,
          73,
          74,
          75,
          76,
          77,
          78,
          79,
          80,
          81,
          82,
          83,
          84,
          85,
          86,
          87,
          88,
          89,
          90,
          91,
          92,
          93,
          94,
          95,
          96,
          97,
          98,
          99,
          100
         ],
         "xaxis": "x",
         "y": [
          -545729.4816818517,
          -532482.0719345042,
          -516952.56545619795,
          -499108.56279916427,
          -478982.2032967591,
          -456670.480050485,
          -432332.45338880987,
          -406183.83443842456,
          -378489.54544147634,
          -349554.91734626296,
          -319716.1668053888,
          -289330.7201092277,
          -258767.840621737,
          -228399.8892803558,
          -198594.42269436616,
          -169707.22418210012,
          -142076.27848534164,
          -116016.64450458928,
          -91816.15133864719,
          -69731.83694026213,
          -49987.05951599465,
          -32769.23234735137,
          -18228.156284782577,
          -6474.94521864444,
          2418.445553537662,
          8419.07209394492,
          11532.222718195128,
          11800.005047845301,
          9299.31445054515,
          4139.219982131722,
          -3542.1740992019268,
          -13581.312582791606,
          -25793.123432268396,
          -39975.1934892842,
          -55912.070673655006,
          -73379.57667639203,
          -92149.01878498892,
          -111991.19899263966,
          -132680.13195078186,
          -153996.39950276716,
          -175730.08732414214,
          -197683.26748714127,
          -219672.0085860042,
          -241527.91160038696,
          -263099.18432713376,
          -284251.2795661328,
          -304867.13208288705,
          -324847.0366343027,
          -344108.2141194587,
          -362584.11539508926,
          -380223.51274339424,
          -396989.4277118156,
          -412857.94139490684,
          -427816.92953212187,
          -441864.7603693155,
          -455008.98836447543,
          -467265.07176089997,
          -478655.13701484585,
          -489206.80821769196,
          -498952.115123542,
          -507926.48927222914,
          -516167.8540418956,
          -523715.81130327424,
          -530610.92468424,
          -536894.0972741889,
          -542606.0398753982,
          -547786.8246049841,
          -552475.5177220684,
          -556709.8849533384,
          -560526.1622678491,
          -563958.8849623038
         ],
         "yaxis": "y"
        },
        {
         "mode": "lines",
         "name": "Total_Delta",
         "type": "scatter",
         "x": [
          30,
          31,
          32,
          33,
          34,
          35,
          36,
          37,
          38,
          39,
          40,
          41,
          42,
          43,
          44,
          45,
          46,
          47,
          48,
          49,
          50,
          51,
          52,
          53,
          54,
          55,
          56,
          57,
          58,
          59,
          60,
          61,
          62,
          63,
          64,
          65,
          66,
          67,
          68,
          69,
          70,
          71,
          72,
          73,
          74,
          75,
          76,
          77,
          78,
          79,
          80,
          81,
          82,
          83,
          84,
          85,
          86,
          87,
          88,
          89,
          90,
          91,
          92,
          93,
          94,
          95,
          96,
          97,
          98,
          99,
          100
         ],
         "xaxis": "x2",
         "y": [
          7393.7907526442095,
          8762.000118333917,
          10169.046177239356,
          11576.371435776404,
          12944.21605572081,
          14233.611834496938,
          15408.14650353449,
          16435.39107383113,
          17287.93309888968,
          17944.00637075677,
          18387.74728295471,
          18609.13650676252,
          18603.700484866535,
          18372.05118561197,
          17919.336644213974,
          17254.661962936687,
          16390.523852914543,
          15342.284470443961,
          14127.6946591378,
          12766.464418427684,
          11279.87032255378,
          9690.38580999988,
          8021.320258435167,
          6296.455669966435,
          4539.674543479404,
          2774.5780253679377,
          1024.0987587262662,
          -689.8827337145431,
          -2346.906263029364,
          -3928.271467571184,
          -5417.335391965853,
          -6799.756451527933,
          -8063.675636741944,
          -9199.829057446625,
          -10201.589484767022,
          -11064.93807698424,
          -11788.370689987929,
          -12372.745865227109,
          -12821.083628475724,
          -13138.325565828545,
          -13331.067277563834,
          -13407.274304373033,
          -13375.99206764147,
          -13247.059380331033,
          -13030.833789781966,
          -12737.935528034057,
          -12379.015278239494,
          -11964.549410917854,
          -11504.664876214276,
          -11008.994613627267,
          -10486.563195887204,
          -9945.701478931536,
          -9393.988291001151,
          -8838.216654976219,
          -8284.381684687476,
          -7737.687107627498,
          -7202.567319241374,
          -6682.721942301752,
          -6181.160023418233,
          -5700.2512235207905,
          -5241.781628459932,
          -4807.012100717489,
          -4396.737397684912,
          -4011.344583162325,
          -3650.8695467270736,
          -3315.050713167082,
          -3003.3792664171124,
          -2715.1454265482607,
          -2449.4805031948417,
          -2205.3946045446137,
          -1981.8100088568535
         ],
         "yaxis": "y2"
        }
       ],
       "layout": {
        "barmode": "stack",
        "template": {
         "data": {
          "bar": [
           {
            "error_x": {
             "color": "#2a3f5f"
            },
            "error_y": {
             "color": "#2a3f5f"
            },
            "marker": {
             "line": {
              "color": "#E5ECF6",
              "width": 0.5
             },
             "pattern": {
              "fillmode": "overlay",
              "size": 10,
              "solidity": 0.2
             }
            },
            "type": "bar"
           }
          ],
          "barpolar": [
           {
            "marker": {
             "line": {
              "color": "#E5ECF6",
              "width": 0.5
             },
             "pattern": {
              "fillmode": "overlay",
              "size": 10,
              "solidity": 0.2
             }
            },
            "type": "barpolar"
           }
          ],
          "carpet": [
           {
            "aaxis": {
             "endlinecolor": "#2a3f5f",
             "gridcolor": "white",
             "linecolor": "white",
             "minorgridcolor": "white",
             "startlinecolor": "#2a3f5f"
            },
            "baxis": {
             "endlinecolor": "#2a3f5f",
             "gridcolor": "white",
             "linecolor": "white",
             "minorgridcolor": "white",
             "startlinecolor": "#2a3f5f"
            },
            "type": "carpet"
           }
          ],
          "choropleth": [
           {
            "colorbar": {
             "outlinewidth": 0,
             "ticks": ""
            },
            "type": "choropleth"
           }
          ],
          "contour": [
           {
            "colorbar": {
             "outlinewidth": 0,
             "ticks": ""
            },
            "colorscale": [
             [
              0,
              "#0d0887"
             ],
             [
              0.1111111111111111,
              "#46039f"
             ],
             [
              0.2222222222222222,
              "#7201a8"
             ],
             [
              0.3333333333333333,
              "#9c179e"
             ],
             [
              0.4444444444444444,
              "#bd3786"
             ],
             [
              0.5555555555555556,
              "#d8576b"
             ],
             [
              0.6666666666666666,
              "#ed7953"
             ],
             [
              0.7777777777777778,
              "#fb9f3a"
             ],
             [
              0.8888888888888888,
              "#fdca26"
             ],
             [
              1,
              "#f0f921"
             ]
            ],
            "type": "contour"
           }
          ],
          "contourcarpet": [
           {
            "colorbar": {
             "outlinewidth": 0,
             "ticks": ""
            },
            "type": "contourcarpet"
           }
          ],
          "heatmap": [
           {
            "colorbar": {
             "outlinewidth": 0,
             "ticks": ""
            },
            "colorscale": [
             [
              0,
              "#0d0887"
             ],
             [
              0.1111111111111111,
              "#46039f"
             ],
             [
              0.2222222222222222,
              "#7201a8"
             ],
             [
              0.3333333333333333,
              "#9c179e"
             ],
             [
              0.4444444444444444,
              "#bd3786"
             ],
             [
              0.5555555555555556,
              "#d8576b"
             ],
             [
              0.6666666666666666,
              "#ed7953"
             ],
             [
              0.7777777777777778,
              "#fb9f3a"
             ],
             [
              0.8888888888888888,
              "#fdca26"
             ],
             [
              1,
              "#f0f921"
             ]
            ],
            "type": "heatmap"
           }
          ],
          "heatmapgl": [
           {
            "colorbar": {
             "outlinewidth": 0,
             "ticks": ""
            },
            "colorscale": [
             [
              0,
              "#0d0887"
             ],
             [
              0.1111111111111111,
              "#46039f"
             ],
             [
              0.2222222222222222,
              "#7201a8"
             ],
             [
              0.3333333333333333,
              "#9c179e"
             ],
             [
              0.4444444444444444,
              "#bd3786"
             ],
             [
              0.5555555555555556,
              "#d8576b"
             ],
             [
              0.6666666666666666,
              "#ed7953"
             ],
             [
              0.7777777777777778,
              "#fb9f3a"
             ],
             [
              0.8888888888888888,
              "#fdca26"
             ],
             [
              1,
              "#f0f921"
             ]
            ],
            "type": "heatmapgl"
           }
          ],
          "histogram": [
           {
            "marker": {
             "pattern": {
              "fillmode": "overlay",
              "size": 10,
              "solidity": 0.2
             }
            },
            "type": "histogram"
           }
          ],
          "histogram2d": [
           {
            "colorbar": {
             "outlinewidth": 0,
             "ticks": ""
            },
            "colorscale": [
             [
              0,
              "#0d0887"
             ],
             [
              0.1111111111111111,
              "#46039f"
             ],
             [
              0.2222222222222222,
              "#7201a8"
             ],
             [
              0.3333333333333333,
              "#9c179e"
             ],
             [
              0.4444444444444444,
              "#bd3786"
             ],
             [
              0.5555555555555556,
              "#d8576b"
             ],
             [
              0.6666666666666666,
              "#ed7953"
             ],
             [
              0.7777777777777778,
              "#fb9f3a"
             ],
             [
              0.8888888888888888,
              "#fdca26"
             ],
             [
              1,
              "#f0f921"
             ]
            ],
            "type": "histogram2d"
           }
          ],
          "histogram2dcontour": [
           {
            "colorbar": {
             "outlinewidth": 0,
             "ticks": ""
            },
            "colorscale": [
             [
              0,
              "#0d0887"
             ],
             [
              0.1111111111111111,
              "#46039f"
             ],
             [
              0.2222222222222222,
              "#7201a8"
             ],
             [
              0.3333333333333333,
              "#9c179e"
             ],
             [
              0.4444444444444444,
              "#bd3786"
             ],
             [
              0.5555555555555556,
              "#d8576b"
             ],
             [
              0.6666666666666666,
              "#ed7953"
             ],
             [
              0.7777777777777778,
              "#fb9f3a"
             ],
             [
              0.8888888888888888,
              "#fdca26"
             ],
             [
              1,
              "#f0f921"
             ]
            ],
            "type": "histogram2dcontour"
           }
          ],
          "mesh3d": [
           {
            "colorbar": {
             "outlinewidth": 0,
             "ticks": ""
            },
            "type": "mesh3d"
           }
          ],
          "parcoords": [
           {
            "line": {
             "colorbar": {
              "outlinewidth": 0,
              "ticks": ""
             }
            },
            "type": "parcoords"
           }
          ],
          "pie": [
           {
            "automargin": true,
            "type": "pie"
           }
          ],
          "scatter": [
           {
            "fillpattern": {
             "fillmode": "overlay",
             "size": 10,
             "solidity": 0.2
            },
            "type": "scatter"
           }
          ],
          "scatter3d": [
           {
            "line": {
             "colorbar": {
              "outlinewidth": 0,
              "ticks": ""
             }
            },
            "marker": {
             "colorbar": {
              "outlinewidth": 0,
              "ticks": ""
             }
            },
            "type": "scatter3d"
           }
          ],
          "scattercarpet": [
           {
            "marker": {
             "colorbar": {
              "outlinewidth": 0,
              "ticks": ""
             }
            },
            "type": "scattercarpet"
           }
          ],
          "scattergeo": [
           {
            "marker": {
             "colorbar": {
              "outlinewidth": 0,
              "ticks": ""
             }
            },
            "type": "scattergeo"
           }
          ],
          "scattergl": [
           {
            "marker": {
             "colorbar": {
              "outlinewidth": 0,
              "ticks": ""
             }
            },
            "type": "scattergl"
           }
          ],
          "scattermapbox": [
           {
            "marker": {
             "colorbar": {
              "outlinewidth": 0,
              "ticks": ""
             }
            },
            "type": "scattermapbox"
           }
          ],
          "scatterpolar": [
           {
            "marker": {
             "colorbar": {
              "outlinewidth": 0,
              "ticks": ""
             }
            },
            "type": "scatterpolar"
           }
          ],
          "scatterpolargl": [
           {
            "marker": {
             "colorbar": {
              "outlinewidth": 0,
              "ticks": ""
             }
            },
            "type": "scatterpolargl"
           }
          ],
          "scatterternary": [
           {
            "marker": {
             "colorbar": {
              "outlinewidth": 0,
              "ticks": ""
             }
            },
            "type": "scatterternary"
           }
          ],
          "surface": [
           {
            "colorbar": {
             "outlinewidth": 0,
             "ticks": ""
            },
            "colorscale": [
             [
              0,
              "#0d0887"
             ],
             [
              0.1111111111111111,
              "#46039f"
             ],
             [
              0.2222222222222222,
              "#7201a8"
             ],
             [
              0.3333333333333333,
              "#9c179e"
             ],
             [
              0.4444444444444444,
              "#bd3786"
             ],
             [
              0.5555555555555556,
              "#d8576b"
             ],
             [
              0.6666666666666666,
              "#ed7953"
             ],
             [
              0.7777777777777778,
              "#fb9f3a"
             ],
             [
              0.8888888888888888,
              "#fdca26"
             ],
             [
              1,
              "#f0f921"
             ]
            ],
            "type": "surface"
           }
          ],
          "table": [
           {
            "cells": {
             "fill": {
              "color": "#EBF0F8"
             },
             "line": {
              "color": "white"
             }
            },
            "header": {
             "fill": {
              "color": "#C8D4E3"
             },
             "line": {
              "color": "white"
             }
            },
            "type": "table"
           }
          ]
         },
         "layout": {
          "annotationdefaults": {
           "arrowcolor": "#2a3f5f",
           "arrowhead": 0,
           "arrowwidth": 1
          },
          "autotypenumbers": "strict",
          "coloraxis": {
           "colorbar": {
            "outlinewidth": 0,
            "ticks": ""
           }
          },
          "colorscale": {
           "diverging": [
            [
             0,
             "#8e0152"
            ],
            [
             0.1,
             "#c51b7d"
            ],
            [
             0.2,
             "#de77ae"
            ],
            [
             0.3,
             "#f1b6da"
            ],
            [
             0.4,
             "#fde0ef"
            ],
            [
             0.5,
             "#f7f7f7"
            ],
            [
             0.6,
             "#e6f5d0"
            ],
            [
             0.7,
             "#b8e186"
            ],
            [
             0.8,
             "#7fbc41"
            ],
            [
             0.9,
             "#4d9221"
            ],
            [
             1,
             "#276419"
            ]
           ],
           "sequential": [
            [
             0,
             "#0d0887"
            ],
            [
             0.1111111111111111,
             "#46039f"
            ],
            [
             0.2222222222222222,
             "#7201a8"
            ],
            [
             0.3333333333333333,
             "#9c179e"
            ],
            [
             0.4444444444444444,
             "#bd3786"
            ],
            [
             0.5555555555555556,
             "#d8576b"
            ],
            [
             0.6666666666666666,
             "#ed7953"
            ],
            [
             0.7777777777777778,
             "#fb9f3a"
            ],
            [
             0.8888888888888888,
             "#fdca26"
            ],
            [
             1,
             "#f0f921"
            ]
           ],
           "sequentialminus": [
            [
             0,
             "#0d0887"
            ],
            [
             0.1111111111111111,
             "#46039f"
            ],
            [
             0.2222222222222222,
             "#7201a8"
            ],
            [
             0.3333333333333333,
             "#9c179e"
            ],
            [
             0.4444444444444444,
             "#bd3786"
            ],
            [
             0.5555555555555556,
             "#d8576b"
            ],
            [
             0.6666666666666666,
             "#ed7953"
            ],
            [
             0.7777777777777778,
             "#fb9f3a"
            ],
            [
             0.8888888888888888,
             "#fdca26"
            ],
            [
             1,
             "#f0f921"
            ]
           ]
          },
          "colorway": [
           "#636efa",
           "#EF553B",
           "#00cc96",
           "#ab63fa",
           "#FFA15A",
           "#19d3f3",
           "#FF6692",
           "#B6E880",
           "#FF97FF",
           "#FECB52"
          ],
          "font": {
           "color": "#2a3f5f"
          },
          "geo": {
           "bgcolor": "white",
           "lakecolor": "white",
           "landcolor": "#E5ECF6",
           "showlakes": true,
           "showland": true,
           "subunitcolor": "white"
          },
          "hoverlabel": {
           "align": "left"
          },
          "hovermode": "closest",
          "mapbox": {
           "style": "light"
          },
          "paper_bgcolor": "white",
          "plot_bgcolor": "#E5ECF6",
          "polar": {
           "angularaxis": {
            "gridcolor": "white",
            "linecolor": "white",
            "ticks": ""
           },
           "bgcolor": "#E5ECF6",
           "radialaxis": {
            "gridcolor": "white",
            "linecolor": "white",
            "ticks": ""
           }
          },
          "scene": {
           "xaxis": {
            "backgroundcolor": "#E5ECF6",
            "gridcolor": "white",
            "gridwidth": 2,
            "linecolor": "white",
            "showbackground": true,
            "ticks": "",
            "zerolinecolor": "white"
           },
           "yaxis": {
            "backgroundcolor": "#E5ECF6",
            "gridcolor": "white",
            "gridwidth": 2,
            "linecolor": "white",
            "showbackground": true,
            "ticks": "",
            "zerolinecolor": "white"
           },
           "zaxis": {
            "backgroundcolor": "#E5ECF6",
            "gridcolor": "white",
            "gridwidth": 2,
            "linecolor": "white",
            "showbackground": true,
            "ticks": "",
            "zerolinecolor": "white"
           }
          },
          "shapedefaults": {
           "line": {
            "color": "#2a3f5f"
           }
          },
          "ternary": {
           "aaxis": {
            "gridcolor": "white",
            "linecolor": "white",
            "ticks": ""
           },
           "baxis": {
            "gridcolor": "white",
            "linecolor": "white",
            "ticks": ""
           },
           "bgcolor": "#E5ECF6",
           "caxis": {
            "gridcolor": "white",
            "linecolor": "white",
            "ticks": ""
           }
          },
          "title": {
           "x": 0.05
          },
          "xaxis": {
           "automargin": true,
           "gridcolor": "white",
           "linecolor": "white",
           "ticks": "",
           "title": {
            "standoff": 15
           },
           "zerolinecolor": "white",
           "zerolinewidth": 2
          },
          "yaxis": {
           "automargin": true,
           "gridcolor": "white",
           "linecolor": "white",
           "ticks": "",
           "title": {
            "standoff": 15
           },
           "zerolinecolor": "white",
           "zerolinewidth": 2
          }
         }
        },
        "title": {
         "text": "Todays Option Pos (PnL and Delta)",
         "x": 0.5,
         "xanchor": "center"
        },
        "xaxis": {
         "anchor": "y",
         "domain": [
          0,
          0.45
         ],
         "title": {
          "text": "Price"
         }
        },
        "xaxis2": {
         "anchor": "y2",
         "domain": [
          0.55,
          1
         ],
         "title": {
          "text": "Price"
         }
        },
        "yaxis": {
         "anchor": "x",
         "domain": [
          0,
          1
         ],
         "title": {
          "text": "Pnl"
         }
        },
        "yaxis2": {
         "anchor": "x2",
         "domain": [
          0,
          1
         ],
         "title": {
          "text": "Delta"
         }
        }
       }
      },
      "text/html": [
       "<div>                            <div id=\"7c5dfc59-da1b-4094-aa26-22e4242996ea\" class=\"plotly-graph-div\" style=\"height:525px; width:100%;\"></div>            <script type=\"text/javascript\">                require([\"plotly\"], function(Plotly) {                    window.PLOTLYENV=window.PLOTLYENV || {};                                    if (document.getElementById(\"7c5dfc59-da1b-4094-aa26-22e4242996ea\")) {                    Plotly.newPlot(                        \"7c5dfc59-da1b-4094-aa26-22e4242996ea\",                        [{\"name\":\"EUA Jun24 40P\",\"x\":[30,31,32,33,34,35,36,37,38,39,40,41,42,43,44,45,46,47,48,49,50,51,52,53,54,55,56,57,58,59,60,61,62,63,64,65,66,67,68,69,70,71,72,73,74,75,76,77,78,79,80,81,82,83,84,85,86,87,88,89,90,91,92,93,94,95,96,97,98,99,100],\"y\":[842556.5465397373,774997.0115768157,710266.3583000469,648562.7602107219,590044.711825236,534828.2506772388,482986.1206513873,434548.66536449833,389506.16603134375,347812.30110163963,309388.3990109006,274128.1733600635,241902.6642706369,212565.1537472747,185955.87092877924,161906.35073717628,140243.3535526498,120792.29221753766,103380.14493011328,87837.85818838551,74002.26316853813,61717.54239181618,50836.29205340411,41220.22983327555,32740.59924648773,25278.320417588307,18723.934282792805,12977.383225716425,7947.666517163633,3552.4040302344197,-282.6631820385563,-3624.2115300754467,-6531.893162011581,-9058.898182618808,-11252.508575464934,-13154.634566180657,-14802.326693768538,-16228.258965157682,-17461.180193903638,-18526.332009534053,-19445.83311317715,-20239.03019040345,-20922.8165135852,-21511.919710294125,-22019.160473736,-22455.68417484973,-22831.16742788211,-23154.001683045095,-23431.455888653265,-23669.82019529928,-23874.53257787507,-24050.290136868593,-24201.14671574728,-24330.59834203867,-24441.657870232266,-24536.92007801784,-24618.618345880517,-24688.673935222178,-24748.738772901113,-24800.232550868925,-24844.374858650055,-24882.212983587007,-24914.64593889658,-24942.445212183175,-24966.272666746456,-24986.695974210033,-25004.201909263928,-25019.20779500862,-25032.071350108738,-25043.099156128967,-25052.55393462531],\"type\":\"scatter\",\"xaxis\":\"x\",\"yaxis\":\"y\"},{\"name\":\"EUA Jun24 40P\",\"x\":[30,31,32,33,34,35,36,37,38,39,40,41,42,43,44,45,46,47,48,49,50,51,52,53,54,55,56,57,58,59,60,61,62,63,64,65,66,67,68,69,70,71,72,73,74,75,76,77,78,79,80,81,82,83,84,85,86,87,88,89,90,91,92,93,94,95,96,97,98,99,100],\"y\":[-41987.774944427125,-40331.595141344624,-38543.43051575747,-36646.2020086581,-34665.14175213746,-32626.566814888676,-30556.750951132326,-28480.951741648252,-26422.62659268302,-24402.85002452544,-22439.92781526414,-20549.191294811575,-18742.947223724666,-17030.554669949153,-15418.599352131096,-13911.137242328248,-12509.982057256575,-11215.014967187486,-10024.49889939795,-8935.383827359956,-7943.593158859658,-7044.284610299634,-6232.08170606187,-5501.274256300936,-4845.987870099017,-4260.323805032534,-3738.471303496249,-3274.7950894772616,-2863.9009638921243,-2500.6825034512126,-2180.3517909000257,-1898.4569284507313,-1650.8888477884177,-1433.8796578404033,-1243.9944871553587,-1078.1184969167246,-933.4404740711843,-807.4341686368558,-697.8383187909166,-602.6361133888659,-520.0346740773132,-448.44499695874117,-386.4626749715883,-332.84962448269505,-286.5169605987039,-246.50910292496886,-211.98914456914684,-182.22547990576766,-156.57965899938398,-134.49541686553766,-115.48881239549225,-99.13940346766847,-85.08238040352833,-73.00157857110801,-62.62329183193138,-53.710811045870614,-46.05961549585813,-39.49314947596094,-33.85912109594158,-29.026265357656733,-24.88151857819032,-21.32755614288051,-18.280650278357236,-15.668808981045279,-13.430161383326533,-11.511558668980681,-9.867363154991704,-8.45840134359177,-7.251059626239842,-6.216503906936177,-5.330006723364145],\"type\":\"scatter\",\"xaxis\":\"x2\",\"yaxis\":\"y2\"},{\"name\":\"EUA Jun24 50P\",\"x\":[30,31,32,33,34,35,36,37,38,39,40,41,42,43,44,45,46,47,48,49,50,51,52,53,54,55,56,57,58,59,60,61,62,63,64,65,66,67,68,69,70,71,72,73,74,75,76,77,78,79,80,81,82,83,84,85,86,87,88,89,90,91,92,93,94,95,96,97,98,99,100],\"y\":[-1531963.2520064262,-1451154.3892172368,-1370890.209379861,-1291334.6087502267,-1212675.0251761358,-1135119.2990424647,-1058891.1664671372,-984224.6433976793,-911357.6464384373,-840525.2443242747,-771952.942021557,-705850.3715715902,-642405.707597583,-581781.0503156758,-524108.93466948805,-469490.039688742,-417992.09450089314,-369649.91166111565,-324466.42754460854,-282414.59448330157,-243439.94959095347,-207463.67914726978,-174386.0026484186,-144089.71450712212,-116443.74121707615,-91306.59510945206,-68529.63049876319,-47960.03233614094,-29443.490190925695,-12826.530608028886,2041.5018574236246,15306.81054322293,27109.84418975083,37584.3027156123,46856.42253681523,55044.50958251298,62258.68690041263,68600.82396324941,74164.61612423643,79035.7848026862,83292.37163507812,87005.10277295814,90237.80256426476,93047.8388787315,95486.58522785158,97599.88751499486,99428.52568741918,101008.66272635211,102372.27529766098,103547.56199979587,104559.32650209416,105429.33398543921,106176.6402019704,106817.89318601465,107367.60819955703,107838.41690642624,108241.29206243518,108585.74920444161,108880.02693804183,109131.24747741272,109345.55909554576,109528.26211058545,109683.91997402055,109816.45694725285,109929.2437611766,110025.17255411456,110106.72228094275,110176.01568362289,110234.86881305186,110284.83399585068,110327.23704856736],\"type\":\"scatter\",\"xaxis\":\"x\",\"yaxis\":\"y\"},{\"name\":\"EUA Jun24 50P\",\"x\":[30,31,32,33,34,35,36,37,38,39,40,41,42,43,44,45,46,47,48,49,50,51,52,53,54,55,56,57,58,59,60,61,62,63,64,65,66,67,68,69,70,71,72,73,74,75,76,77,78,79,80,81,82,83,84,85,86,87,88,89,90,91,92,93,94,95,96,97,98,99,100],\"y\":[49382.33771820526,49095.26423372918,48715.893290224594,48229.225067395484,47621.72085490378,46882.19243542909,46002.56748787785,44978.46705524272,43809.553474967055,42499.63184977938,41056.51171996355,39491.65544980172,37819.65433121106,36057.58190917061,34224.276768732845,32339.604827857547,30423.745245471124,28496.535693766644,26576.903210389813,24682.397207952683,22828.83229360035,21030.040891302877,19297.729565909416,17641.42851258515,16068.520829555271,14584.336758297633,13192.297812655752,11894.096361267897,10689.897514880615,9578.55186407821,8557.809511730997,7624.5277865748085,6774.866888995024,6004.469424044889,5308.6212691736855,4682.392480733838,4120.757960114491,3618.6983880551193,3171.2825148202396,2773.7322906152162,2421.4725634967403,2110.167189750123,1835.7434213635393,1594.4063812932675,1382.6453309627063,1197.2332937603358,1035.2214377507441,893.9294518399365,770.9329809158561,664.0490233043362,571.3200425243537,490.99740745946474,421.52465207450086,361.5209381166218,309.7650115580719,265.1798650805448,226.81825356573037,193.84915605941688,165.5452346552011,141.27130683522782,120.47382169956822,102.67131098903315,87.4457717467525,74.43492787730932,63.325311877837635,53.846104881805076,45.76367223260158,38.876732554560256,33.012100268908775,28.020944348883248,23.77550953020502],\"type\":\"scatter\",\"xaxis\":\"x2\",\"yaxis\":\"y2\"},{\"name\":\"EUA Jun24 65C\",\"x\":[30,31,32,33,34,35,36,37,38,39,40,41,42,43,44,45,46,47,48,49,50,51,52,53,54,55,56,57,58,59,60,61,62,63,64,65,66,67,68,69,70,71,72,73,74,75,76,77,78,79,80,81,82,83,84,85,86,87,88,89,90,91,92,93,94,95,96,97,98,99,100],\"y\":[193147.90049210604,193145.93324679963,193141.7948356638,193133.5256820031,193117.76813612497,193089.02785599016,193038.69037546433,192953.77628676448,192815.4426506509,192597.26851972923,192263.39562248645,191766.62712896126,191046.61349374903,190028.27055675938,188620.5783891763,186715.8984094567,184189.9214788622,180902.3231589751,176698.15759481527,171409.97295170094,164860.5836122566,156866.39174044222,147241.116857878,135799.7691613222,122362.69159813464,106759.49714655447,88832.74019581963,68441.18245465434,45462.54198994794,19795.646151771267,-8638.057328424562,-39893.64420843686,-74002.49602439572,-110972.67885348343,-150789.85640693206,-193418.6607103539,-238804.43459946592,-286875.25642532244,-337544.1580959481,-390711.45209282346,-446267.0905283766,-504092.98878833454,-564065.257016667,-626056.2939286911,-689936.7085729371,-755577.0462243082,-822849.3042260541,-891628.2320706035,-961792.4171890148,-1033225.1637637793,-1105815.1764183922,-1179457.0639515887,-1254051.68049227,-1329506.322694271,-1405734.802018834,-1482657.4109192083,-1560200.8009911615,-1638297.7900194821,-1716887.1134522755,-1795913.1342747244,-1875325.5236171233,-1955078.922787478,-2035132.5958200565,-2115450.0801177532,-2195998.841365483,-2276749.937621191,-2357677.696359599,-2438759.407253425,-2519975.0326247504,-2601306.936778643,-2682739.6348328376],\"type\":\"scatter\",\"xaxis\":\"x\",\"yaxis\":\"y\"},{\"name\":\"EUA Jun24 65C\",\"x\":[30,31,32,33,34,35,36,37,38,39,40,41,42,43,44,45,46,47,48,49,50,51,52,53,54,55,56,57,58,59,60,61,62,63,64,65,66,67,68,69,70,71,72,73,74,75,76,77,78,79,80,81,82,83,84,85,86,87,88,89,90,91,92,93,94,95,96,97,98,99,100],\"y\":[-0.7902728926491449,-1.714425914888419,-3.523307539050487,-6.88890573957613,-12.864842036338546,-23.02677578641131,-39.62872321043782,-65.76284644070974,-105.50586016429514,-164.03234118623726,-247.67466803119814,-363.9114814406784,-521.2714170857973,-729.1459414454821,-997.5135727776252,-1336.5865234832365,-1756.3987519680986,-2266.36059291895,-2874.8088508013916,-3588.5821516047836,-4412.649479740871,-5349.815534118221,-6400.520416643393,-7562.743953557094,-8832.017413251633,-10201.538230806751,-11662.377156249831,-13203.76241549036,-14813.422229502594,-16477.965422532252,-18183.279759289097,-19914.9288685159,-21658.530850091283,-23400.10460812883,-25126.37328940696,-26825.017649754835,-28484.875481898114,-30096.086233578622,-31650.182499361712,-33140.132113181615,-34560.33607906619,-35906.58857118495,-37176.00575682039,-38366.93031165282,-39478.81828082486,-40512.11446959986,-41468.12189934198,-42348.87010655004,-43156.9862539386,-43895.57221158999,-44568.08999059381,-45178.25719851721,-45729.953553288586,-46227.13894934914,-46673.78312035831,-47073.806584345715,-47431.03228426003,-47749.147141143796,-48031.672608965084,-48281.943249142445,-48503.09231872172,-48698.04337922151,-48869.50697441231,-49019.98148681043,-49151.75735765084,-49266.92393787818,-49367.37832367736,-49454.83561566502,-49530.84012338772,-49596.777114300436,-49653.88477765871],\"type\":\"scatter\",\"xaxis\":\"x2\",\"yaxis\":\"y2\"},{\"name\":\"EUA Jun24 75C\",\"x\":[30,31,32,33,34,35,36,37,38,39,40,41,42,43,44,45,46,47,48,49,50,51,52,53,54,55,56,57,58,59,60,61,62,63,64,65,66,67,68,69,70,71,72,73,74,75,76,77,78,79,80,81,82,83,84,85,86,87,88,89,90,91,92,93,94,95,96,97,98,99,100],\"y\":[-49470.67670726877,-49470.62754088276,-49470.50921204776,-49470.2399416626,-49469.658081984206,-49468.45954124928,-49466.09794852441,-49461.63269200801,-49453.50768503364,-49439.242643357116,-49415.0194172188,-49375.1490266623,-49311.41078853993,-49212.263268714036,-49061.93734283368,-48839.433639991075,-48517.45901596049,-48061.34821998638,-47428.02631896721,-46565.073597047,-45409.95670583591,-43889.487332339995,-41919.56254764609,-39405.22970612008,-36241.10407400856,-32312.150360745803,-27494.821261654117,-21658.52829638452,-14667.403865640728,-6382.299591845079,3337.044553837567,14629.732612497772,27631.421564388067,42472.08083120575,59273.871771926744,78149.20901762953,99199.05560783292,122511.49243459105,148160.59021483344,176205.59979690416,206690.4646823335,239643.6487186386,275078.26237998327,312992.46315986675,353370.09949168767,396181.5633180303,441384.81388363003,488926.5343929938,538743.3836605485,590763.3065641935,644906.8697507789,701088.5923912025,759218.2456111402,819202.0983181733,880944.0913201938,944346.9257263244,1009313.0555137069,1075745.5777354168,1143549.017069443,1212630.0042246387,1282897.8501079984,1354265.0196185838,1426647.5104816584,1499965.1436984437,1574141.7729968643,1649105.4211658884,1724788.3513829361,1801127.0816427423,1878062.350208469,1955539.0396710725,2033506.066756592],\"type\":\"scatter\",\"xaxis\":\"x\",\"yaxis\":\"y\"},{\"name\":\"EUA Jun24 75C\",\"x\":[30,31,32,33,34,35,36,37,38,39,40,41,42,43,44,45,46,47,48,49,50,51,52,53,54,55,56,57,58,59,60,61,62,63,64,65,66,67,68,69,70,71,72,73,74,75,76,77,78,79,80,81,82,83,84,85,86,87,88,89,90,91,92,93,94,95,96,97,98,99,100],\"y\":[0.01825175872647558,0.04545186424503102,0.10671031128168948,0.23728277859814934,0.5017949908263292,1.012989742935653,1.9586899994024731,3.6386066773736028,6.512076769940631,11.256886689065214,18.83804628649995,30.583833213052618,48.26479446594138,74.16988783599656,111.17280038985128,162.78090089062653,233.15941666809115,327.124336783755,450.09919894732803,608.0331894397411,807.2806675539578,1054.4450631148566,1356.192815231014,1719.0453672393164,2149.1589972747834,2652.1033029095897,3232.6494058165954,3894.5784099851826,4640.5194154847395,5471.824594334071,6388.4866464922725,7389.101558863892,8470.877172142733,9629.68578447772,10860.157022621612,12155.80558895348,13509.187305866879,14912.07614893325,16355.654674856665,17830.71037012672,19327.83091208293,20837.59207402053,22350.73294278697,23858.314174511208,25351.856120678895,26823.454750730434,28265.874327920894,29672.616723698018,31037.96805580785,32357.023991523925,33625.69556457775,34840.69771559388,35999.52299061646,37100.402934827405,38142.259715944696,39124.650422683546,40047.706326948784,40912.06919225859,41718.82647198759,42469.44698414408,43165.71838714041,43809.68752365787,44403.604455259,44949.87078475184,45450.99266042925,45909.53867849827,46328.10274818264,46709.27185790579,47055.59857955021,47369.57806931387,47653.62926599502],\"type\":\"scatter\",\"xaxis\":\"x2\",\"yaxis\":\"y2\"},{\"mode\":\"lines\",\"name\":\"Total_PnL\",\"x\":[30,31,32,33,34,35,36,37,38,39,40,41,42,43,44,45,46,47,48,49,50,51,52,53,54,55,56,57,58,59,60,61,62,63,64,65,66,67,68,69,70,71,72,73,74,75,76,77,78,79,80,81,82,83,84,85,86,87,88,89,90,91,92,93,94,95,96,97,98,99,100],\"y\":[-545729.4816818517,-532482.0719345042,-516952.56545619795,-499108.56279916427,-478982.2032967591,-456670.480050485,-432332.45338880987,-406183.83443842456,-378489.54544147634,-349554.91734626296,-319716.1668053888,-289330.7201092277,-258767.840621737,-228399.8892803558,-198594.42269436616,-169707.22418210012,-142076.27848534164,-116016.64450458928,-91816.15133864719,-69731.83694026213,-49987.05951599465,-32769.23234735137,-18228.156284782577,-6474.94521864444,2418.445553537662,8419.07209394492,11532.222718195128,11800.005047845301,9299.31445054515,4139.219982131722,-3542.1740992019268,-13581.312582791606,-25793.123432268396,-39975.1934892842,-55912.070673655006,-73379.57667639203,-92149.01878498892,-111991.19899263966,-132680.13195078186,-153996.39950276716,-175730.08732414214,-197683.26748714127,-219672.0085860042,-241527.91160038696,-263099.18432713376,-284251.2795661328,-304867.13208288705,-324847.0366343027,-344108.2141194587,-362584.11539508926,-380223.51274339424,-396989.4277118156,-412857.94139490684,-427816.92953212187,-441864.7603693155,-455008.98836447543,-467265.07176089997,-478655.13701484585,-489206.80821769196,-498952.115123542,-507926.48927222914,-516167.8540418956,-523715.81130327424,-530610.92468424,-536894.0972741889,-542606.0398753982,-547786.8246049841,-552475.5177220684,-556709.8849533384,-560526.1622678491,-563958.8849623038],\"type\":\"scatter\",\"xaxis\":\"x\",\"yaxis\":\"y\"},{\"mode\":\"lines\",\"name\":\"Total_Delta\",\"x\":[30,31,32,33,34,35,36,37,38,39,40,41,42,43,44,45,46,47,48,49,50,51,52,53,54,55,56,57,58,59,60,61,62,63,64,65,66,67,68,69,70,71,72,73,74,75,76,77,78,79,80,81,82,83,84,85,86,87,88,89,90,91,92,93,94,95,96,97,98,99,100],\"y\":[7393.7907526442095,8762.000118333917,10169.046177239356,11576.371435776404,12944.21605572081,14233.611834496938,15408.14650353449,16435.39107383113,17287.93309888968,17944.00637075677,18387.74728295471,18609.13650676252,18603.700484866535,18372.05118561197,17919.336644213974,17254.661962936687,16390.523852914543,15342.284470443961,14127.6946591378,12766.464418427684,11279.87032255378,9690.38580999988,8021.320258435167,6296.455669966435,4539.674543479404,2774.5780253679377,1024.0987587262662,-689.8827337145431,-2346.906263029364,-3928.271467571184,-5417.335391965853,-6799.756451527933,-8063.675636741944,-9199.829057446625,-10201.589484767022,-11064.93807698424,-11788.370689987929,-12372.745865227109,-12821.083628475724,-13138.325565828545,-13331.067277563834,-13407.274304373033,-13375.99206764147,-13247.059380331033,-13030.833789781966,-12737.935528034057,-12379.015278239494,-11964.549410917854,-11504.664876214276,-11008.994613627267,-10486.563195887204,-9945.701478931536,-9393.988291001151,-8838.216654976219,-8284.381684687476,-7737.687107627498,-7202.567319241374,-6682.721942301752,-6181.160023418233,-5700.2512235207905,-5241.781628459932,-4807.012100717489,-4396.737397684912,-4011.344583162325,-3650.8695467270736,-3315.050713167082,-3003.3792664171124,-2715.1454265482607,-2449.4805031948417,-2205.3946045446137,-1981.8100088568535],\"type\":\"scatter\",\"xaxis\":\"x2\",\"yaxis\":\"y2\"}],                        {\"template\":{\"data\":{\"histogram2dcontour\":[{\"type\":\"histogram2dcontour\",\"colorbar\":{\"outlinewidth\":0,\"ticks\":\"\"},\"colorscale\":[[0.0,\"#0d0887\"],[0.1111111111111111,\"#46039f\"],[0.2222222222222222,\"#7201a8\"],[0.3333333333333333,\"#9c179e\"],[0.4444444444444444,\"#bd3786\"],[0.5555555555555556,\"#d8576b\"],[0.6666666666666666,\"#ed7953\"],[0.7777777777777778,\"#fb9f3a\"],[0.8888888888888888,\"#fdca26\"],[1.0,\"#f0f921\"]]}],\"choropleth\":[{\"type\":\"choropleth\",\"colorbar\":{\"outlinewidth\":0,\"ticks\":\"\"}}],\"histogram2d\":[{\"type\":\"histogram2d\",\"colorbar\":{\"outlinewidth\":0,\"ticks\":\"\"},\"colorscale\":[[0.0,\"#0d0887\"],[0.1111111111111111,\"#46039f\"],[0.2222222222222222,\"#7201a8\"],[0.3333333333333333,\"#9c179e\"],[0.4444444444444444,\"#bd3786\"],[0.5555555555555556,\"#d8576b\"],[0.6666666666666666,\"#ed7953\"],[0.7777777777777778,\"#fb9f3a\"],[0.8888888888888888,\"#fdca26\"],[1.0,\"#f0f921\"]]}],\"heatmap\":[{\"type\":\"heatmap\",\"colorbar\":{\"outlinewidth\":0,\"ticks\":\"\"},\"colorscale\":[[0.0,\"#0d0887\"],[0.1111111111111111,\"#46039f\"],[0.2222222222222222,\"#7201a8\"],[0.3333333333333333,\"#9c179e\"],[0.4444444444444444,\"#bd3786\"],[0.5555555555555556,\"#d8576b\"],[0.6666666666666666,\"#ed7953\"],[0.7777777777777778,\"#fb9f3a\"],[0.8888888888888888,\"#fdca26\"],[1.0,\"#f0f921\"]]}],\"heatmapgl\":[{\"type\":\"heatmapgl\",\"colorbar\":{\"outlinewidth\":0,\"ticks\":\"\"},\"colorscale\":[[0.0,\"#0d0887\"],[0.1111111111111111,\"#46039f\"],[0.2222222222222222,\"#7201a8\"],[0.3333333333333333,\"#9c179e\"],[0.4444444444444444,\"#bd3786\"],[0.5555555555555556,\"#d8576b\"],[0.6666666666666666,\"#ed7953\"],[0.7777777777777778,\"#fb9f3a\"],[0.8888888888888888,\"#fdca26\"],[1.0,\"#f0f921\"]]}],\"contourcarpet\":[{\"type\":\"contourcarpet\",\"colorbar\":{\"outlinewidth\":0,\"ticks\":\"\"}}],\"contour\":[{\"type\":\"contour\",\"colorbar\":{\"outlinewidth\":0,\"ticks\":\"\"},\"colorscale\":[[0.0,\"#0d0887\"],[0.1111111111111111,\"#46039f\"],[0.2222222222222222,\"#7201a8\"],[0.3333333333333333,\"#9c179e\"],[0.4444444444444444,\"#bd3786\"],[0.5555555555555556,\"#d8576b\"],[0.6666666666666666,\"#ed7953\"],[0.7777777777777778,\"#fb9f3a\"],[0.8888888888888888,\"#fdca26\"],[1.0,\"#f0f921\"]]}],\"surface\":[{\"type\":\"surface\",\"colorbar\":{\"outlinewidth\":0,\"ticks\":\"\"},\"colorscale\":[[0.0,\"#0d0887\"],[0.1111111111111111,\"#46039f\"],[0.2222222222222222,\"#7201a8\"],[0.3333333333333333,\"#9c179e\"],[0.4444444444444444,\"#bd3786\"],[0.5555555555555556,\"#d8576b\"],[0.6666666666666666,\"#ed7953\"],[0.7777777777777778,\"#fb9f3a\"],[0.8888888888888888,\"#fdca26\"],[1.0,\"#f0f921\"]]}],\"mesh3d\":[{\"type\":\"mesh3d\",\"colorbar\":{\"outlinewidth\":0,\"ticks\":\"\"}}],\"scatter\":[{\"fillpattern\":{\"fillmode\":\"overlay\",\"size\":10,\"solidity\":0.2},\"type\":\"scatter\"}],\"parcoords\":[{\"type\":\"parcoords\",\"line\":{\"colorbar\":{\"outlinewidth\":0,\"ticks\":\"\"}}}],\"scatterpolargl\":[{\"type\":\"scatterpolargl\",\"marker\":{\"colorbar\":{\"outlinewidth\":0,\"ticks\":\"\"}}}],\"bar\":[{\"error_x\":{\"color\":\"#2a3f5f\"},\"error_y\":{\"color\":\"#2a3f5f\"},\"marker\":{\"line\":{\"color\":\"#E5ECF6\",\"width\":0.5},\"pattern\":{\"fillmode\":\"overlay\",\"size\":10,\"solidity\":0.2}},\"type\":\"bar\"}],\"scattergeo\":[{\"type\":\"scattergeo\",\"marker\":{\"colorbar\":{\"outlinewidth\":0,\"ticks\":\"\"}}}],\"scatterpolar\":[{\"type\":\"scatterpolar\",\"marker\":{\"colorbar\":{\"outlinewidth\":0,\"ticks\":\"\"}}}],\"histogram\":[{\"marker\":{\"pattern\":{\"fillmode\":\"overlay\",\"size\":10,\"solidity\":0.2}},\"type\":\"histogram\"}],\"scattergl\":[{\"type\":\"scattergl\",\"marker\":{\"colorbar\":{\"outlinewidth\":0,\"ticks\":\"\"}}}],\"scatter3d\":[{\"type\":\"scatter3d\",\"line\":{\"colorbar\":{\"outlinewidth\":0,\"ticks\":\"\"}},\"marker\":{\"colorbar\":{\"outlinewidth\":0,\"ticks\":\"\"}}}],\"scattermapbox\":[{\"type\":\"scattermapbox\",\"marker\":{\"colorbar\":{\"outlinewidth\":0,\"ticks\":\"\"}}}],\"scatterternary\":[{\"type\":\"scatterternary\",\"marker\":{\"colorbar\":{\"outlinewidth\":0,\"ticks\":\"\"}}}],\"scattercarpet\":[{\"type\":\"scattercarpet\",\"marker\":{\"colorbar\":{\"outlinewidth\":0,\"ticks\":\"\"}}}],\"carpet\":[{\"aaxis\":{\"endlinecolor\":\"#2a3f5f\",\"gridcolor\":\"white\",\"linecolor\":\"white\",\"minorgridcolor\":\"white\",\"startlinecolor\":\"#2a3f5f\"},\"baxis\":{\"endlinecolor\":\"#2a3f5f\",\"gridcolor\":\"white\",\"linecolor\":\"white\",\"minorgridcolor\":\"white\",\"startlinecolor\":\"#2a3f5f\"},\"type\":\"carpet\"}],\"table\":[{\"cells\":{\"fill\":{\"color\":\"#EBF0F8\"},\"line\":{\"color\":\"white\"}},\"header\":{\"fill\":{\"color\":\"#C8D4E3\"},\"line\":{\"color\":\"white\"}},\"type\":\"table\"}],\"barpolar\":[{\"marker\":{\"line\":{\"color\":\"#E5ECF6\",\"width\":0.5},\"pattern\":{\"fillmode\":\"overlay\",\"size\":10,\"solidity\":0.2}},\"type\":\"barpolar\"}],\"pie\":[{\"automargin\":true,\"type\":\"pie\"}]},\"layout\":{\"autotypenumbers\":\"strict\",\"colorway\":[\"#636efa\",\"#EF553B\",\"#00cc96\",\"#ab63fa\",\"#FFA15A\",\"#19d3f3\",\"#FF6692\",\"#B6E880\",\"#FF97FF\",\"#FECB52\"],\"font\":{\"color\":\"#2a3f5f\"},\"hovermode\":\"closest\",\"hoverlabel\":{\"align\":\"left\"},\"paper_bgcolor\":\"white\",\"plot_bgcolor\":\"#E5ECF6\",\"polar\":{\"bgcolor\":\"#E5ECF6\",\"angularaxis\":{\"gridcolor\":\"white\",\"linecolor\":\"white\",\"ticks\":\"\"},\"radialaxis\":{\"gridcolor\":\"white\",\"linecolor\":\"white\",\"ticks\":\"\"}},\"ternary\":{\"bgcolor\":\"#E5ECF6\",\"aaxis\":{\"gridcolor\":\"white\",\"linecolor\":\"white\",\"ticks\":\"\"},\"baxis\":{\"gridcolor\":\"white\",\"linecolor\":\"white\",\"ticks\":\"\"},\"caxis\":{\"gridcolor\":\"white\",\"linecolor\":\"white\",\"ticks\":\"\"}},\"coloraxis\":{\"colorbar\":{\"outlinewidth\":0,\"ticks\":\"\"}},\"colorscale\":{\"sequential\":[[0.0,\"#0d0887\"],[0.1111111111111111,\"#46039f\"],[0.2222222222222222,\"#7201a8\"],[0.3333333333333333,\"#9c179e\"],[0.4444444444444444,\"#bd3786\"],[0.5555555555555556,\"#d8576b\"],[0.6666666666666666,\"#ed7953\"],[0.7777777777777778,\"#fb9f3a\"],[0.8888888888888888,\"#fdca26\"],[1.0,\"#f0f921\"]],\"sequentialminus\":[[0.0,\"#0d0887\"],[0.1111111111111111,\"#46039f\"],[0.2222222222222222,\"#7201a8\"],[0.3333333333333333,\"#9c179e\"],[0.4444444444444444,\"#bd3786\"],[0.5555555555555556,\"#d8576b\"],[0.6666666666666666,\"#ed7953\"],[0.7777777777777778,\"#fb9f3a\"],[0.8888888888888888,\"#fdca26\"],[1.0,\"#f0f921\"]],\"diverging\":[[0,\"#8e0152\"],[0.1,\"#c51b7d\"],[0.2,\"#de77ae\"],[0.3,\"#f1b6da\"],[0.4,\"#fde0ef\"],[0.5,\"#f7f7f7\"],[0.6,\"#e6f5d0\"],[0.7,\"#b8e186\"],[0.8,\"#7fbc41\"],[0.9,\"#4d9221\"],[1,\"#276419\"]]},\"xaxis\":{\"gridcolor\":\"white\",\"linecolor\":\"white\",\"ticks\":\"\",\"title\":{\"standoff\":15},\"zerolinecolor\":\"white\",\"automargin\":true,\"zerolinewidth\":2},\"yaxis\":{\"gridcolor\":\"white\",\"linecolor\":\"white\",\"ticks\":\"\",\"title\":{\"standoff\":15},\"zerolinecolor\":\"white\",\"automargin\":true,\"zerolinewidth\":2},\"scene\":{\"xaxis\":{\"backgroundcolor\":\"#E5ECF6\",\"gridcolor\":\"white\",\"linecolor\":\"white\",\"showbackground\":true,\"ticks\":\"\",\"zerolinecolor\":\"white\",\"gridwidth\":2},\"yaxis\":{\"backgroundcolor\":\"#E5ECF6\",\"gridcolor\":\"white\",\"linecolor\":\"white\",\"showbackground\":true,\"ticks\":\"\",\"zerolinecolor\":\"white\",\"gridwidth\":2},\"zaxis\":{\"backgroundcolor\":\"#E5ECF6\",\"gridcolor\":\"white\",\"linecolor\":\"white\",\"showbackground\":true,\"ticks\":\"\",\"zerolinecolor\":\"white\",\"gridwidth\":2}},\"shapedefaults\":{\"line\":{\"color\":\"#2a3f5f\"}},\"annotationdefaults\":{\"arrowcolor\":\"#2a3f5f\",\"arrowhead\":0,\"arrowwidth\":1},\"geo\":{\"bgcolor\":\"white\",\"landcolor\":\"#E5ECF6\",\"subunitcolor\":\"white\",\"showland\":true,\"showlakes\":true,\"lakecolor\":\"white\"},\"title\":{\"x\":0.05},\"mapbox\":{\"style\":\"light\"}}},\"xaxis\":{\"anchor\":\"y\",\"domain\":[0.0,0.45],\"title\":{\"text\":\"Price\"}},\"yaxis\":{\"anchor\":\"x\",\"domain\":[0.0,1.0],\"title\":{\"text\":\"Pnl\"}},\"xaxis2\":{\"anchor\":\"y2\",\"domain\":[0.55,1.0],\"title\":{\"text\":\"Price\"}},\"yaxis2\":{\"anchor\":\"x2\",\"domain\":[0.0,1.0],\"title\":{\"text\":\"Delta\"}},\"title\":{\"text\":\"Todays Option Pos (PnL and Delta)\",\"x\":0.5,\"xanchor\":\"center\"},\"barmode\":\"stack\"},                        {\"responsive\": true}                    ).then(function(){\n",
       "                            \n",
       "var gd = document.getElementById('7c5dfc59-da1b-4094-aa26-22e4242996ea');\n",
       "var x = new MutationObserver(function (mutations, observer) {{\n",
       "        var display = window.getComputedStyle(gd).display;\n",
       "        if (!display || display === 'none') {{\n",
       "            console.log([gd, 'removed!']);\n",
       "            Plotly.purge(gd);\n",
       "            observer.disconnect();\n",
       "        }}\n",
       "}});\n",
       "\n",
       "// Listen for the removal of the full notebook cells\n",
       "var notebookContainer = gd.closest('#notebook-container');\n",
       "if (notebookContainer) {{\n",
       "    x.observe(notebookContainer, {childList: true});\n",
       "}}\n",
       "\n",
       "// Listen for the clearing of the current output cell\n",
       "var outputEl = gd.closest('.output');\n",
       "if (outputEl) {{\n",
       "    x.observe(outputEl, {childList: true});\n",
       "}}\n",
       "\n",
       "                        })                };                });            </script>        </div>"
      ]
     },
     "metadata": {},
     "output_type": "display_data"
    }
   ],
   "source": [
    "pnl_delta_plot(current_date)"
   ]
  },
  {
   "cell_type": "markdown",
   "id": "188a9617",
   "metadata": {},
   "source": [
    "## End of Month"
   ]
  },
  {
   "cell_type": "code",
   "execution_count": 16,
   "id": "8d15a408",
   "metadata": {},
   "outputs": [
    {
     "data": {
      "application/vnd.plotly.v1+json": {
       "config": {
        "plotlyServerURL": "https://plot.ly"
       },
       "data": [
        {
         "name": "EUA Jun24 40P",
         "type": "scatter",
         "x": [
          30,
          31,
          32,
          33,
          34,
          35,
          36,
          37,
          38,
          39,
          40,
          41,
          42,
          43,
          44,
          45,
          46,
          47,
          48,
          49,
          50,
          51,
          52,
          53,
          54,
          55,
          56,
          57,
          58,
          59,
          60,
          61,
          62,
          63,
          64,
          65,
          66,
          67,
          68,
          69,
          70,
          71,
          72,
          73,
          74,
          75,
          76,
          77,
          78,
          79,
          80,
          81,
          82,
          83,
          84,
          85,
          86,
          87,
          88,
          89,
          90,
          91,
          92,
          93,
          94,
          95,
          96,
          97,
          98,
          99,
          100
         ],
         "xaxis": "x",
         "y": [
          821845.9050514301,
          749718.2110436979,
          680335.2231152387,
          614041.5036700654,
          551140.3619136557,
          491881.8710974045,
          436454.5013866133,
          384980.62392317085,
          337515.76124513865,
          294051.1621103894,
          254519.08124323512,
          218800.0456484922,
          186731.3759145212,
          158116.28365336734,
          132732.96311151522,
          110343.21553414443,
          90700.27195699952,
          73555.60091670076,
          58664.59367251846,
          45791.10636940288,
          34710.90470389481,
          25214.102890736576,
          17106.717316705188,
          10211.469215017029,
          4367.973240686608,
          -567.5569098501296,
          -4722.965946782129,
          -8211.072084411233,
          -11130.750244443485,
          -13568.109761211983,
          -15597.708065820872,
          -17283.755469202006,
          -18681.278061607263,
          -19837.21579362865,
          -20791.441038739176,
          -21577.689489924094,
          -22224.400296604505,
          -22755.46611057439,
          -23190.89639237882,
          -23547.399133435025,
          -23838.887256831353,
          -24076.916530850427,
          -24271.061999538357,
          -24429.23981622415,
          -24557.98104919158,
          -24662.66358493093,
          -24747.7077380458,
          -24816.74062881183,
          -24872.733838880275,
          -24918.11832317507,
          -24954.880054927722,
          -24984.63941902204,
          -25008.71695036691,
          -25028.18763993886,
          -25043.92570057754,
          -25056.64139529238,
          -25066.91127977095,
          -25075.202994435385,
          -25081.89555623427,
          -25087.295942703917,
          -25091.652627373052,
          -25095.166613039888,
          -25098.000414967333,
          -25100.28536704226,
          -25102.127558034044,
          -25103.61265037919,
          -25104.80978851458,
          -25105.774766301245,
          -25106.55259214591,
          -25107.179564974416,
          -25107.68495332174
         ],
         "yaxis": "y"
        },
        {
         "name": "EUA Jun24 40P",
         "type": "scatter",
         "x": [
          30,
          31,
          32,
          33,
          34,
          35,
          36,
          37,
          38,
          39,
          40,
          41,
          42,
          43,
          44,
          45,
          46,
          47,
          48,
          49,
          50,
          51,
          52,
          53,
          54,
          55,
          56,
          57,
          58,
          59,
          60,
          61,
          62,
          63,
          64,
          65,
          66,
          67,
          68,
          69,
          70,
          71,
          72,
          73,
          74,
          75,
          76,
          77,
          78,
          79,
          80,
          81,
          82,
          83,
          84,
          85,
          86,
          87,
          88,
          89,
          90,
          91,
          92,
          93,
          94,
          95,
          96,
          97,
          98,
          99,
          100
         ],
         "xaxis": "x2",
         "y": [
          -44619.44709665011,
          -43061.3744618061,
          -41284.14251327478,
          -39308.550918178684,
          -37163.668764811475,
          -34884.7993906626,
          -32511.162227518555,
          -30083.541904256905,
          -27642.113257962024,
          -25224.593327828436,
          -22864.809631669348,
          -20591.717045621448,
          -18428.84909171172,
          -16394.155947604995,
          -14500.161134252592,
          -12754.360063081822,
          -11159.783997375462,
          -9715.659791175558,
          -8418.106458503893,
          -7260.822049926763,
          -6235.726842442468,
          -5333.540371447826,
          -4544.279697810926,
          -3857.674223265761,
          -3263.4983253455875,
          -2751.8272363967812,
          -2313.2241965299395,
          -1938.8682651127865,
          -1620.63257698013,
          -1351.1225495324297,
          -1123.6828173432523,
          -932.3806791650402,
          -771.9727317896107,
          -637.8602399531419,
          -526.0377216830702,
          -433.03825749193004,
          -355.87818230493065,
          -292.00309860856197,
          -239.23655535756373,
          -195.73226045779825,
          -159.9303222533932,
          -130.5177328996543,
          -106.39309916635753,
          -86.63548024674395,
          -70.47709503801846,
          -57.2796022027644,
          -46.5136258769705,
          -37.741190530138354,
          -30.600734049385238,
          -24.794383756204795,
          -20.077202026375083,
          -16.248133651042274,
          -13.142413985456347,
          -10.625223819488161,
          -8.586402777305269,
          -6.936057281148322,
          -5.600921331960773,
          -4.521348400854386,
          -3.6488305612536465,
          -2.943956688333804,
          -2.374735235255443,
          -1.9152189265847497,
          -1.5443788664748492,
          -1.2451842250238432,
          -1.003851019543145,
          -0.80922971590347,
          -0.652306594872698,
          -0.5257981984863047,
          -0.4238218181629172,
          -0.3416280190737808,
          -0.2753837098856682
         ],
         "yaxis": "y2"
        },
        {
         "name": "EUA Jun24 50P",
         "type": "scatter",
         "x": [
          30,
          31,
          32,
          33,
          34,
          35,
          36,
          37,
          38,
          39,
          40,
          41,
          42,
          43,
          44,
          45,
          46,
          47,
          48,
          49,
          50,
          51,
          52,
          53,
          54,
          55,
          56,
          57,
          58,
          59,
          60,
          61,
          62,
          63,
          64,
          65,
          66,
          67,
          68,
          69,
          70,
          71,
          72,
          73,
          74,
          75,
          76,
          77,
          78,
          79,
          80,
          81,
          82,
          83,
          84,
          85,
          86,
          87,
          88,
          89,
          90,
          91,
          92,
          93,
          94,
          95,
          96,
          97,
          98,
          99,
          100
         ],
         "xaxis": "x",
         "y": [
          -1533986.7536091283,
          -1452101.028477878,
          -1370442.3570545695,
          -1289121.9998143585,
          -1208285.3344046718,
          -1128114.3987146227,
          -1048828.1500615783,
          -970680.0557875668,
          -893952.9150780377,
          -818951.1198135541,
          -745990.8452690082,
          -675388.8786851153,
          -607450.918773441,
          -542460.2029055214,
          -480667.2481141042,
          -422281.3465619249,
          -367464.262488466,
          -316326.36439393944,
          -268925.2193598379,
          -225266.49633047156,
          -185306.88520329611,
          -148958.64483119856,
          -116095.34540018236,
          -86558.36423632358,
          -60163.72101704675,
          -36708.88932103313,
          -15979.287111428968,
          2245.779297064446,
          18187.871866246245,
          32064.966452857723,
          44087.81914423459,
          54457.13912888056,
          63361.51921899453,
          70976.05113222382,
          77461.53815696057,
          82964.21134015737,
          87615.85518208957,
          91534.25336354047,
          94823.8727776051,
          97576.71381253605,
          99873.26539519404,
          101783.51395918804,
          103367.96567201606,
          104678.6505597407,
          105760.08538351677,
          106650.17915241806,
          107381.07099715984,
          107979.89483988723,
          108469.46897783165,
          108868.9114776637,
          109194.18428563188,
          109458.57032755729,
          109673.08872563926,
          109846.85370687778,
          109987.38291738357,
          110100.86076996484,
          110192.36220662536,
          110266.0419074558,
          110325.29356542032,
          110372.88340522796,
          110411.06167790433,
          110441.6554278438,
          110466.14541756234,
          110485.7297142537,
          110501.37609543493,
          110513.86511987566,
          110523.82543433794,
          110531.76264488409,
          110538.08287139086,
          110543.11192275204,
          110547.1108751226
         ],
         "yaxis": "y"
        },
        {
         "name": "EUA Jun24 50P",
         "type": "scatter",
         "x": [
          30,
          31,
          32,
          33,
          34,
          35,
          36,
          37,
          38,
          39,
          40,
          41,
          42,
          43,
          44,
          45,
          46,
          47,
          48,
          49,
          50,
          51,
          52,
          53,
          54,
          55,
          56,
          57,
          58,
          59,
          60,
          61,
          62,
          63,
          64,
          65,
          66,
          67,
          68,
          69,
          70,
          71,
          72,
          73,
          74,
          75,
          76,
          77,
          78,
          79,
          80,
          81,
          82,
          83,
          84,
          85,
          86,
          87,
          88,
          89,
          90,
          91,
          92,
          93,
          94,
          95,
          96,
          97,
          98,
          99,
          100
         ],
         "xaxis": "x2",
         "y": [
          49844.116992937656,
          49733.56842345103,
          49564.94502892989,
          49318.650453512295,
          48972.961089663826,
          48505.24963370969,
          47893.51698239811,
          47118.07643885828,
          46163.20505392097,
          45018.57771728728,
          43680.32841149617,
          42151.63275553767,
          40442.766565292666,
          38570.65614032002,
          36557.98842838009,
          34431.987074663106,
          32222.98091036863,
          29962.895007181527,
          27683.783663690832,
          25416.503607296705,
          23189.59874992918,
          21028.439196174044,
          18954.630254551143,
          16985.684313620837,
          15134.930936438568,
          13411.628801558645,
          11821.236866907737,
          10365.800570386247,
          9044.410972529171,
          7853.6993894613215,
          6788.336223936309,
          5841.509496124709,
          5005.365315277993,
          4271.398730657411,
          3630.788752514502,
          3074.675694498702,
          2594.3823313030302,
          2181.582748703992,
          1828.4243002793187,
          1527.6089165935814,
          1272.4402869333185,
          1056.8432929729977,
          875.3616452877754,
          723.1390649848901,
          595.8886503390826,
          489.85433813548696,
          401.7676589155472,
          328.80232621206875,
          268.528611094021,
          218.86894398328582,
          178.05575754722415,
          144.5922342731165,
          117.21634364664224,
          94.86833845104292,
          76.66171861426818,
          61.857555315542044,
          49.8419892930424,
          40.106667855138724,
          32.2318583337422,
          25.871965975798883,
          20.743186865640475,
          16.61303762042765,
          13.291520313496452,
          10.623701051237777,
          8.483502131212406,
          6.768529485068342,
          5.39577828345128,
          4.298079570030922,
          3.421169245548805,
          2.7212774575124943,
          2.1631514074138547
         ],
         "yaxis": "y2"
        },
        {
         "name": "EUA Jun24 65C",
         "type": "scatter",
         "x": [
          30,
          31,
          32,
          33,
          34,
          35,
          36,
          37,
          38,
          39,
          40,
          41,
          42,
          43,
          44,
          45,
          46,
          47,
          48,
          49,
          50,
          51,
          52,
          53,
          54,
          55,
          56,
          57,
          58,
          59,
          60,
          61,
          62,
          63,
          64,
          65,
          66,
          67,
          68,
          69,
          70,
          71,
          72,
          73,
          74,
          75,
          76,
          77,
          78,
          79,
          80,
          81,
          82,
          83,
          84,
          85,
          86,
          87,
          88,
          89,
          90,
          91,
          92,
          93,
          94,
          95,
          96,
          97,
          98,
          99,
          100
         ],
         "xaxis": "x",
         "y": [
          193149.37078838775,
          193149.333180132,
          193149.22471003674,
          193148.93419132804,
          193148.20745828972,
          193146.5007250661,
          193142.71992648294,
          193134.78622823404,
          193118.9547595607,
          193088.80731398577,
          193033.84539853132,
          192937.63195951015,
          192775.47054402562,
          192511.668309791,
          192096.49889351375,
          191463.05373492753,
          190524.23469665364,
          189170.1850223075,
          187266.47005311566,
          184653.2978192059,
          181146.01198899205,
          176537.0005484711,
          170599.05259112135,
          163090.07550157883,
          153758.96950778711,
          142352.3589721555,
          128621.81004819795,
          112331.12865800977,
          93263.33294914069,
          71226.92807895623,
          46061.17254931739,
          17640.106283744433,
          -14124.79792656714,
          -49283.40507335095,
          -87847.06965485077,
          -129790.05351733437,
          -175052.03753939315,
          -223541.51611090038,
          -275139.8431552758,
          -329705.69528533076,
          -387079.72894344764,
          -447089.23078944394,
          -509552.590675503,
          -574283.4609211151,
          -641094.5012813013,
          -709800.6435308977,
          -780221.8411143343,
          -852185.2965905644,
          -925527.1819505524,
          -1000093.8840894449,
          -1075742.8199409344,
          -1152342.8734618344,
          -1229774.5103984734,
          -1307929.6272694187,
          -1386711.1889775824,
          -1466032.705603759,
          -1545817.5938510573,
          -1625998.462836188,
          -1706516.3578927752,
          -1787319.9901008974,
          -1868364.9736323585,
          -1949613.087869156,
          -2031031.5767116102,
          -2112592.493587013,
          -2194272.0974009023,
          -2276050.302013375,
          -2357910.179722557,
          -2439837.517636067,
          -2521820.424641386,
          -2603848.9858804885,
          -2685914.9611275145
         ],
         "yaxis": "y"
        },
        {
         "name": "EUA Jun24 65C",
         "type": "scatter",
         "x": [
          30,
          31,
          32,
          33,
          34,
          35,
          36,
          37,
          38,
          39,
          40,
          41,
          42,
          43,
          44,
          45,
          46,
          47,
          48,
          49,
          50,
          51,
          52,
          53,
          54,
          55,
          56,
          57,
          58,
          59,
          60,
          61,
          62,
          63,
          64,
          65,
          66,
          67,
          68,
          69,
          70,
          71,
          72,
          73,
          74,
          75,
          76,
          77,
          78,
          79,
          80,
          81,
          82,
          83,
          84,
          85,
          86,
          87,
          88,
          89,
          90,
          91,
          92,
          93,
          94,
          95,
          96,
          97,
          98,
          99,
          100
         ],
         "xaxis": "x2",
         "y": [
          -0.012426654510326207,
          -0.03754469498499781,
          -0.10490211459047381,
          -0.2727508301848736,
          -0.6636265904448719,
          -1.518611958485198,
          -3.2833274280891365,
          -6.734724506307122,
          -13.155105755612137,
          -24.554086137025852,
          -43.9304701345176,
          -75.55514526860168,
          -125.24484232524682,
          -200.58733463790838,
          -311.07378354159204,
          -468.09541555310847,
          -684.7704253907518,
          -975.582466500313,
          -1355.8324887621757,
          -1840.9281413311076,
          -2445.5561136818533,
          -3182.799426154992,
          -4063.271325305853,
          -5094.338756111241,
          -6279.5013447616675,
          -7617.9776188712885,
          -9104.530923646573,
          -10729.545777011323,
          -12479.34392377976,
          -14336.710456661667,
          -16281.585827939085,
          -18291.870393983954,
          -20344.284573162415,
          -22415.22935231057,
          -24481.597847701098,
          -26521.497713467958,
          -28514.855088305623,
          -30443.88223405261,
          -32293.401983113825,
          -34051.03176578484,
          -35707.23780558989,
          -37255.2757946473,
          -38691.03797052962,
          -40012.828172124886,
          -41221.086440078914,
          -42318.083401799144,
          -43307.60241696651,
          -44194.62461590105,
          -44985.02885655895,
          -45685.31551565487,
          -46302.36011139955,
          -46843.2001635862,
          -47314.856509319645,
          -47724.18854082246,
          -48077.78151023534,
          -48381.86312372344,
          -48642.246075267605,
          -48864.29289218009,
          -49052.8994200365,
          -49212.49340688983,
          -49347.0449031266,
          -49460.0855290382,
          -49554.73403991421,
          -49633.72600893799,
          -49699.44582950454,
          -49753.959595471184,
          -49799.04774052024,
          -49836.23660097204,
          -49866.82830821804,
          -49891.9286181765,
          -49912.47244829695
         ],
         "yaxis": "y2"
        },
        {
         "name": "EUA Jun24 75C",
         "type": "scatter",
         "x": [
          30,
          31,
          32,
          33,
          34,
          35,
          36,
          37,
          38,
          39,
          40,
          41,
          42,
          43,
          44,
          45,
          46,
          47,
          48,
          49,
          50,
          51,
          52,
          53,
          54,
          55,
          56,
          57,
          58,
          59,
          60,
          61,
          62,
          63,
          64,
          65,
          66,
          67,
          68,
          69,
          70,
          71,
          72,
          73,
          74,
          75,
          76,
          77,
          78,
          79,
          80,
          81,
          82,
          83,
          84,
          85,
          86,
          87,
          88,
          89,
          90,
          91,
          92,
          93,
          94,
          95,
          96,
          97,
          98,
          99,
          100
         ],
         "xaxis": "x",
         "y": [
          -49470.70634545088,
          -49470.70615190942,
          -49470.705473220354,
          -49470.70327737163,
          -49470.69668224835,
          -49470.67819275675,
          -49470.6295662481,
          -49470.50905419535,
          -49470.22644755312,
          -49469.59700501284,
          -49468.260906139934,
          -49465.54951883472,
          -49460.27400692145,
          -49450.40651178425,
          -49432.62054912375,
          -49401.65680199385,
          -49349.484567786436,
          -49264.23880018931,
          -49128.92840643236,
          -48919.932760694675,
          -48605.3288282052,
          -48143.11848488896,
          -47479.45150689118,
          -46546.96094991203,
          -45263.34109054098,
          -43530.30128205539,
          -41233.0205700255,
          -38240.20760552146,
          -34404.83952499575,
          -29565.61448398202,
          -23549.108788452213,
          -16172.584904609035,
          -7247.354921369476,
          3417.431229282846,
          16010.72958579411,
          30715.449964938496,
          47704.38328778017,
          67136.37627622319,
          89152.90374879031,
          113875.16314370505,
          141401.78473273365,
          171807.21684457042,
          205140.81080467222,
          241426.59746147293,
          280663.7179355896,
          322827.4469314185,
          367870.72839983687,
          415726.1308481375,
          466308.1230310739,
          519515.5696426111,
          575234.350220399,
          633340.0118717939,
          693700.3766580834,
          756178.0365654051,
          820632.6820467747,
          886923.2233506404,
          954909.676605393,
          1024454.7984031332,
          1095425.4630645348,
          1167693.7856522186,
          1241138.0010359588,
          1315643.1149030977,
          1391101.346633959,
          1467412.3865636676,
          1544483.4915050233,
          1622229.442706969,
          1700572.3898711053,
          1779441.6036390385,
          1858773.1572772595,
          1938509.556284515,
          2018599.3324680978
         ],
         "yaxis": "y"
        },
        {
         "name": "EUA Jun24 75C",
         "type": "scatter",
         "x": [
          30,
          31,
          32,
          33,
          34,
          35,
          36,
          37,
          38,
          39,
          40,
          41,
          42,
          43,
          44,
          45,
          46,
          47,
          48,
          49,
          50,
          51,
          52,
          53,
          54,
          55,
          56,
          57,
          58,
          59,
          60,
          61,
          62,
          63,
          64,
          65,
          66,
          67,
          68,
          69,
          70,
          71,
          72,
          73,
          74,
          75,
          76,
          77,
          78,
          79,
          80,
          81,
          82,
          83,
          84,
          85,
          86,
          87,
          88,
          89,
          90,
          91,
          92,
          93,
          94,
          95,
          96,
          97,
          98,
          99,
          100
         ],
         "xaxis": "x2",
         "y": [
          5.668448448672751e-05,
          0.0002093414045652247,
          0.0007100833864475654,
          0.00222692001783581,
          0.006495717676034876,
          0.017717742632370696,
          0.04541051344881818,
          0.10984557946711254,
          0.25178192471601396,
          0.5488655819362284,
          1.1417046602109324,
          2.2730695518191415,
          4.3436882557035545,
          7.987476857411615,
          14.167586821895721,
          24.292301367066607,
          40.34667926701769,
          65.03222520807174,
          101.9032353561186,
          155.48541207542058,
          231.36046594723143,
          336.20023320848946,
          477.7356386272583,
          664.6496599541489,
          906.3890330476667,
          1212.8962367774643,
          1594.270576571423,
          2060.374117786458,
          2620.404007699238,
          3282.456711433146,
          4053.1114411794133,
          4937.059419375947,
          5936.80270042731,
          7052.441439592619,
          8281.562279388516,
          9619.233562450796,
          11058.106034358872,
          12588.611175699816,
          14199.243793624555,
          15876.911355595319,
          17607.32994591543,
          19375.4456959049,
          21165.860972051174,
          22963.24628908047,
          24752.72156399235,
          26520.193627663586,
          28252.640547851905,
          29938.337002978336,
          31567.01843673176,
          33129.98483216098,
          34620.14754318363,
          36032.024641827535,
          37361.69166290841,
          38606.69547834432,
          39765.9393667675,
          40839.547237515784,
          41828.71450982308,
          42735.552429394265,
          43562.931713179765,
          44314.33042818647,
          44993.6899991236,
          45605.2822570139,
          46153.58952762484,
          46643.19894298866,
          47078.71145827947,
          47464.66547713396,
          47805.47453060198,
          48105.37811189082,
          48368.4045304213,
          48598.34450140695,
          48798.73411693577
         ],
         "yaxis": "y2"
        },
        {
         "mode": "lines",
         "name": "Total_PnL",
         "type": "scatter",
         "x": [
          30,
          31,
          32,
          33,
          34,
          35,
          36,
          37,
          38,
          39,
          40,
          41,
          42,
          43,
          44,
          45,
          46,
          47,
          48,
          49,
          50,
          51,
          52,
          53,
          54,
          55,
          56,
          57,
          58,
          59,
          60,
          61,
          62,
          63,
          64,
          65,
          66,
          67,
          68,
          69,
          70,
          71,
          72,
          73,
          74,
          75,
          76,
          77,
          78,
          79,
          80,
          81,
          82,
          83,
          84,
          85,
          86,
          87,
          88,
          89,
          90,
          91,
          92,
          93,
          94,
          95,
          96,
          97,
          98,
          99,
          100
         ],
         "xaxis": "x",
         "y": [
          -568462.1841147613,
          -558704.1904059576,
          -546428.6147025144,
          -531402.2652303367,
          -513467.46171497484,
          -492556.70508490887,
          -468701.55831473006,
          -442035.1546903573,
          -412788.4255208914,
          -381280.74739419186,
          -347906.17953338166,
          -313116.75059594767,
          -277404.3463218156,
          -241282.6574541473,
          -205270.40665819898,
          -169876.7340948468,
          -135589.24040259921,
          -102864.81725512049,
          -72123.08404063614,
          -43742.02490255746,
          -18055.297338614466,
          4649.340123120135,
          24130.973000752994,
          40196.21953036025,
          52699.880640886004,
          61545.61145921684,
          66686.53641996135,
          68125.62826514152,
          65915.61504594769,
          60158.17028661996,
          51002.1748392789,
          38640.90503881395,
          23308.088309450653,
          5272.861494527058,
          -15166.242950835269,
          -37688.081702162584,
          -61956.19936612792,
          -87626.35258171111,
          -114353.96302125922,
          -141801.21746252468,
          -169643.56607235127,
          -197575.41651653592,
          -225314.8761983531,
          -252607.45271612567,
          -279228.67901138647,
          -304985.6810319921,
          -329717.74945538334,
          -353296.01153135154,
          -375622.32378052716,
          -396627.52129234513,
          -416269.16548983124,
          -434528.93068150536,
          -451409.76196511765,
          -466932.9246370746,
          -481135.0497140017,
          -494065.26287844614,
          -505782.4663188099,
          -516352.8255200344,
          -525847.4968190542,
          -534340.6169861548,
          -541907.5635458685,
          -548623.4841512542,
          -554562.0850750562,
          -559794.6626761339,
          -564389.3573584782,
          -568410.6068369094,
          -571918.7742056281,
          -574969.9261184453,
          -577615.7370848819,
          -579903.4972381957,
          -581876.2027376157
         ],
         "yaxis": "y"
        },
        {
         "mode": "lines",
         "name": "Total_Delta",
         "type": "scatter",
         "x": [
          30,
          31,
          32,
          33,
          34,
          35,
          36,
          37,
          38,
          39,
          40,
          41,
          42,
          43,
          44,
          45,
          46,
          47,
          48,
          49,
          50,
          51,
          52,
          53,
          54,
          55,
          56,
          57,
          58,
          59,
          60,
          61,
          62,
          63,
          64,
          65,
          66,
          67,
          68,
          69,
          70,
          71,
          72,
          73,
          74,
          75,
          76,
          77,
          78,
          79,
          80,
          81,
          82,
          83,
          84,
          85,
          86,
          87,
          88,
          89,
          90,
          91,
          92,
          93,
          94,
          95,
          96,
          97,
          98,
          99,
          100
         ],
         "xaxis": "x2",
         "y": [
          5224.65752631752,
          6672.15662629135,
          8280.698323623905,
          10009.829011423444,
          11808.635193979582,
          13618.949348831236,
          15379.116837964917,
          17027.90965567454,
          18508.188472128044,
          19769.979168903752,
          20772.730014352517,
          21486.63363419944,
          21893.016319511404,
          21983.900334934526,
          21760.9210974078,
          21233.823897395243,
          20418.773166869436,
          19336.684974713728,
          18011.747951780886,
          16470.238828114256,
          14739.676259752088,
          12848.299631779715,
          10824.814870061622,
          8698.320994197984,
          6498.320299378979,
          4254.720183068041,
          1997.752323302647,
          -242.2393539514028,
          -2435.16152053148,
          -4551.67690529963,
          -6563.820980166614,
          -8445.682157648338,
          -10174.089289246722,
          -11729.249422013683,
          -13095.284537481151,
          -14260.62671401039,
          -15218.24490494865,
          -15965.691408257362,
          -16504.970444567516,
          -16842.24375405374,
          -16987.39789499453,
          -16953.504538669054,
          -16756.20845235703,
          -16413.07829830627,
          -15942.953320785502,
          -15365.315038202836,
          -14699.707836076032,
          -13965.226477240783,
          -13180.082542782558,
          -12361.256123266801,
          -11524.234012695066,
          -10682.831421136594,
          -9849.09091675005,
          -9033.249947846583,
          -8243.766827630876,
          -7487.394388173256,
          -6769.290497483438,
          -6093.15514333154,
          -5461.3846790842435,
          -4875.234969415898,
          -4334.986452372621,
          -3840.105453330456,
          -3389.397370842351,
          -2981.1485491231215,
          -2613.2547201134003,
          -2283.334818568059,
          -1988.8297382296805,
          -1727.0862077096754,
          -1495.4264303693562,
          -1291.2044673311102,
          -1111.8505636636473
         ],
         "yaxis": "y2"
        }
       ],
       "layout": {
        "barmode": "stack",
        "template": {
         "data": {
          "bar": [
           {
            "error_x": {
             "color": "#2a3f5f"
            },
            "error_y": {
             "color": "#2a3f5f"
            },
            "marker": {
             "line": {
              "color": "#E5ECF6",
              "width": 0.5
             },
             "pattern": {
              "fillmode": "overlay",
              "size": 10,
              "solidity": 0.2
             }
            },
            "type": "bar"
           }
          ],
          "barpolar": [
           {
            "marker": {
             "line": {
              "color": "#E5ECF6",
              "width": 0.5
             },
             "pattern": {
              "fillmode": "overlay",
              "size": 10,
              "solidity": 0.2
             }
            },
            "type": "barpolar"
           }
          ],
          "carpet": [
           {
            "aaxis": {
             "endlinecolor": "#2a3f5f",
             "gridcolor": "white",
             "linecolor": "white",
             "minorgridcolor": "white",
             "startlinecolor": "#2a3f5f"
            },
            "baxis": {
             "endlinecolor": "#2a3f5f",
             "gridcolor": "white",
             "linecolor": "white",
             "minorgridcolor": "white",
             "startlinecolor": "#2a3f5f"
            },
            "type": "carpet"
           }
          ],
          "choropleth": [
           {
            "colorbar": {
             "outlinewidth": 0,
             "ticks": ""
            },
            "type": "choropleth"
           }
          ],
          "contour": [
           {
            "colorbar": {
             "outlinewidth": 0,
             "ticks": ""
            },
            "colorscale": [
             [
              0,
              "#0d0887"
             ],
             [
              0.1111111111111111,
              "#46039f"
             ],
             [
              0.2222222222222222,
              "#7201a8"
             ],
             [
              0.3333333333333333,
              "#9c179e"
             ],
             [
              0.4444444444444444,
              "#bd3786"
             ],
             [
              0.5555555555555556,
              "#d8576b"
             ],
             [
              0.6666666666666666,
              "#ed7953"
             ],
             [
              0.7777777777777778,
              "#fb9f3a"
             ],
             [
              0.8888888888888888,
              "#fdca26"
             ],
             [
              1,
              "#f0f921"
             ]
            ],
            "type": "contour"
           }
          ],
          "contourcarpet": [
           {
            "colorbar": {
             "outlinewidth": 0,
             "ticks": ""
            },
            "type": "contourcarpet"
           }
          ],
          "heatmap": [
           {
            "colorbar": {
             "outlinewidth": 0,
             "ticks": ""
            },
            "colorscale": [
             [
              0,
              "#0d0887"
             ],
             [
              0.1111111111111111,
              "#46039f"
             ],
             [
              0.2222222222222222,
              "#7201a8"
             ],
             [
              0.3333333333333333,
              "#9c179e"
             ],
             [
              0.4444444444444444,
              "#bd3786"
             ],
             [
              0.5555555555555556,
              "#d8576b"
             ],
             [
              0.6666666666666666,
              "#ed7953"
             ],
             [
              0.7777777777777778,
              "#fb9f3a"
             ],
             [
              0.8888888888888888,
              "#fdca26"
             ],
             [
              1,
              "#f0f921"
             ]
            ],
            "type": "heatmap"
           }
          ],
          "heatmapgl": [
           {
            "colorbar": {
             "outlinewidth": 0,
             "ticks": ""
            },
            "colorscale": [
             [
              0,
              "#0d0887"
             ],
             [
              0.1111111111111111,
              "#46039f"
             ],
             [
              0.2222222222222222,
              "#7201a8"
             ],
             [
              0.3333333333333333,
              "#9c179e"
             ],
             [
              0.4444444444444444,
              "#bd3786"
             ],
             [
              0.5555555555555556,
              "#d8576b"
             ],
             [
              0.6666666666666666,
              "#ed7953"
             ],
             [
              0.7777777777777778,
              "#fb9f3a"
             ],
             [
              0.8888888888888888,
              "#fdca26"
             ],
             [
              1,
              "#f0f921"
             ]
            ],
            "type": "heatmapgl"
           }
          ],
          "histogram": [
           {
            "marker": {
             "pattern": {
              "fillmode": "overlay",
              "size": 10,
              "solidity": 0.2
             }
            },
            "type": "histogram"
           }
          ],
          "histogram2d": [
           {
            "colorbar": {
             "outlinewidth": 0,
             "ticks": ""
            },
            "colorscale": [
             [
              0,
              "#0d0887"
             ],
             [
              0.1111111111111111,
              "#46039f"
             ],
             [
              0.2222222222222222,
              "#7201a8"
             ],
             [
              0.3333333333333333,
              "#9c179e"
             ],
             [
              0.4444444444444444,
              "#bd3786"
             ],
             [
              0.5555555555555556,
              "#d8576b"
             ],
             [
              0.6666666666666666,
              "#ed7953"
             ],
             [
              0.7777777777777778,
              "#fb9f3a"
             ],
             [
              0.8888888888888888,
              "#fdca26"
             ],
             [
              1,
              "#f0f921"
             ]
            ],
            "type": "histogram2d"
           }
          ],
          "histogram2dcontour": [
           {
            "colorbar": {
             "outlinewidth": 0,
             "ticks": ""
            },
            "colorscale": [
             [
              0,
              "#0d0887"
             ],
             [
              0.1111111111111111,
              "#46039f"
             ],
             [
              0.2222222222222222,
              "#7201a8"
             ],
             [
              0.3333333333333333,
              "#9c179e"
             ],
             [
              0.4444444444444444,
              "#bd3786"
             ],
             [
              0.5555555555555556,
              "#d8576b"
             ],
             [
              0.6666666666666666,
              "#ed7953"
             ],
             [
              0.7777777777777778,
              "#fb9f3a"
             ],
             [
              0.8888888888888888,
              "#fdca26"
             ],
             [
              1,
              "#f0f921"
             ]
            ],
            "type": "histogram2dcontour"
           }
          ],
          "mesh3d": [
           {
            "colorbar": {
             "outlinewidth": 0,
             "ticks": ""
            },
            "type": "mesh3d"
           }
          ],
          "parcoords": [
           {
            "line": {
             "colorbar": {
              "outlinewidth": 0,
              "ticks": ""
             }
            },
            "type": "parcoords"
           }
          ],
          "pie": [
           {
            "automargin": true,
            "type": "pie"
           }
          ],
          "scatter": [
           {
            "fillpattern": {
             "fillmode": "overlay",
             "size": 10,
             "solidity": 0.2
            },
            "type": "scatter"
           }
          ],
          "scatter3d": [
           {
            "line": {
             "colorbar": {
              "outlinewidth": 0,
              "ticks": ""
             }
            },
            "marker": {
             "colorbar": {
              "outlinewidth": 0,
              "ticks": ""
             }
            },
            "type": "scatter3d"
           }
          ],
          "scattercarpet": [
           {
            "marker": {
             "colorbar": {
              "outlinewidth": 0,
              "ticks": ""
             }
            },
            "type": "scattercarpet"
           }
          ],
          "scattergeo": [
           {
            "marker": {
             "colorbar": {
              "outlinewidth": 0,
              "ticks": ""
             }
            },
            "type": "scattergeo"
           }
          ],
          "scattergl": [
           {
            "marker": {
             "colorbar": {
              "outlinewidth": 0,
              "ticks": ""
             }
            },
            "type": "scattergl"
           }
          ],
          "scattermapbox": [
           {
            "marker": {
             "colorbar": {
              "outlinewidth": 0,
              "ticks": ""
             }
            },
            "type": "scattermapbox"
           }
          ],
          "scatterpolar": [
           {
            "marker": {
             "colorbar": {
              "outlinewidth": 0,
              "ticks": ""
             }
            },
            "type": "scatterpolar"
           }
          ],
          "scatterpolargl": [
           {
            "marker": {
             "colorbar": {
              "outlinewidth": 0,
              "ticks": ""
             }
            },
            "type": "scatterpolargl"
           }
          ],
          "scatterternary": [
           {
            "marker": {
             "colorbar": {
              "outlinewidth": 0,
              "ticks": ""
             }
            },
            "type": "scatterternary"
           }
          ],
          "surface": [
           {
            "colorbar": {
             "outlinewidth": 0,
             "ticks": ""
            },
            "colorscale": [
             [
              0,
              "#0d0887"
             ],
             [
              0.1111111111111111,
              "#46039f"
             ],
             [
              0.2222222222222222,
              "#7201a8"
             ],
             [
              0.3333333333333333,
              "#9c179e"
             ],
             [
              0.4444444444444444,
              "#bd3786"
             ],
             [
              0.5555555555555556,
              "#d8576b"
             ],
             [
              0.6666666666666666,
              "#ed7953"
             ],
             [
              0.7777777777777778,
              "#fb9f3a"
             ],
             [
              0.8888888888888888,
              "#fdca26"
             ],
             [
              1,
              "#f0f921"
             ]
            ],
            "type": "surface"
           }
          ],
          "table": [
           {
            "cells": {
             "fill": {
              "color": "#EBF0F8"
             },
             "line": {
              "color": "white"
             }
            },
            "header": {
             "fill": {
              "color": "#C8D4E3"
             },
             "line": {
              "color": "white"
             }
            },
            "type": "table"
           }
          ]
         },
         "layout": {
          "annotationdefaults": {
           "arrowcolor": "#2a3f5f",
           "arrowhead": 0,
           "arrowwidth": 1
          },
          "autotypenumbers": "strict",
          "coloraxis": {
           "colorbar": {
            "outlinewidth": 0,
            "ticks": ""
           }
          },
          "colorscale": {
           "diverging": [
            [
             0,
             "#8e0152"
            ],
            [
             0.1,
             "#c51b7d"
            ],
            [
             0.2,
             "#de77ae"
            ],
            [
             0.3,
             "#f1b6da"
            ],
            [
             0.4,
             "#fde0ef"
            ],
            [
             0.5,
             "#f7f7f7"
            ],
            [
             0.6,
             "#e6f5d0"
            ],
            [
             0.7,
             "#b8e186"
            ],
            [
             0.8,
             "#7fbc41"
            ],
            [
             0.9,
             "#4d9221"
            ],
            [
             1,
             "#276419"
            ]
           ],
           "sequential": [
            [
             0,
             "#0d0887"
            ],
            [
             0.1111111111111111,
             "#46039f"
            ],
            [
             0.2222222222222222,
             "#7201a8"
            ],
            [
             0.3333333333333333,
             "#9c179e"
            ],
            [
             0.4444444444444444,
             "#bd3786"
            ],
            [
             0.5555555555555556,
             "#d8576b"
            ],
            [
             0.6666666666666666,
             "#ed7953"
            ],
            [
             0.7777777777777778,
             "#fb9f3a"
            ],
            [
             0.8888888888888888,
             "#fdca26"
            ],
            [
             1,
             "#f0f921"
            ]
           ],
           "sequentialminus": [
            [
             0,
             "#0d0887"
            ],
            [
             0.1111111111111111,
             "#46039f"
            ],
            [
             0.2222222222222222,
             "#7201a8"
            ],
            [
             0.3333333333333333,
             "#9c179e"
            ],
            [
             0.4444444444444444,
             "#bd3786"
            ],
            [
             0.5555555555555556,
             "#d8576b"
            ],
            [
             0.6666666666666666,
             "#ed7953"
            ],
            [
             0.7777777777777778,
             "#fb9f3a"
            ],
            [
             0.8888888888888888,
             "#fdca26"
            ],
            [
             1,
             "#f0f921"
            ]
           ]
          },
          "colorway": [
           "#636efa",
           "#EF553B",
           "#00cc96",
           "#ab63fa",
           "#FFA15A",
           "#19d3f3",
           "#FF6692",
           "#B6E880",
           "#FF97FF",
           "#FECB52"
          ],
          "font": {
           "color": "#2a3f5f"
          },
          "geo": {
           "bgcolor": "white",
           "lakecolor": "white",
           "landcolor": "#E5ECF6",
           "showlakes": true,
           "showland": true,
           "subunitcolor": "white"
          },
          "hoverlabel": {
           "align": "left"
          },
          "hovermode": "closest",
          "mapbox": {
           "style": "light"
          },
          "paper_bgcolor": "white",
          "plot_bgcolor": "#E5ECF6",
          "polar": {
           "angularaxis": {
            "gridcolor": "white",
            "linecolor": "white",
            "ticks": ""
           },
           "bgcolor": "#E5ECF6",
           "radialaxis": {
            "gridcolor": "white",
            "linecolor": "white",
            "ticks": ""
           }
          },
          "scene": {
           "xaxis": {
            "backgroundcolor": "#E5ECF6",
            "gridcolor": "white",
            "gridwidth": 2,
            "linecolor": "white",
            "showbackground": true,
            "ticks": "",
            "zerolinecolor": "white"
           },
           "yaxis": {
            "backgroundcolor": "#E5ECF6",
            "gridcolor": "white",
            "gridwidth": 2,
            "linecolor": "white",
            "showbackground": true,
            "ticks": "",
            "zerolinecolor": "white"
           },
           "zaxis": {
            "backgroundcolor": "#E5ECF6",
            "gridcolor": "white",
            "gridwidth": 2,
            "linecolor": "white",
            "showbackground": true,
            "ticks": "",
            "zerolinecolor": "white"
           }
          },
          "shapedefaults": {
           "line": {
            "color": "#2a3f5f"
           }
          },
          "ternary": {
           "aaxis": {
            "gridcolor": "white",
            "linecolor": "white",
            "ticks": ""
           },
           "baxis": {
            "gridcolor": "white",
            "linecolor": "white",
            "ticks": ""
           },
           "bgcolor": "#E5ECF6",
           "caxis": {
            "gridcolor": "white",
            "linecolor": "white",
            "ticks": ""
           }
          },
          "title": {
           "x": 0.05
          },
          "xaxis": {
           "automargin": true,
           "gridcolor": "white",
           "linecolor": "white",
           "ticks": "",
           "title": {
            "standoff": 15
           },
           "zerolinecolor": "white",
           "zerolinewidth": 2
          },
          "yaxis": {
           "automargin": true,
           "gridcolor": "white",
           "linecolor": "white",
           "ticks": "",
           "title": {
            "standoff": 15
           },
           "zerolinecolor": "white",
           "zerolinewidth": 2
          }
         }
        },
        "title": {
         "text": "Todays Option Pos (PnL and Delta)",
         "x": 0.5,
         "xanchor": "center"
        },
        "xaxis": {
         "anchor": "y",
         "domain": [
          0,
          0.45
         ],
         "title": {
          "text": "Price"
         }
        },
        "xaxis2": {
         "anchor": "y2",
         "domain": [
          0.55,
          1
         ],
         "title": {
          "text": "Price"
         }
        },
        "yaxis": {
         "anchor": "x",
         "domain": [
          0,
          1
         ],
         "title": {
          "text": "Pnl"
         }
        },
        "yaxis2": {
         "anchor": "x2",
         "domain": [
          0,
          1
         ],
         "title": {
          "text": "Delta"
         }
        }
       }
      },
      "text/html": [
       "<div>                            <div id=\"380ab258-84cc-40fc-ab97-925ebdc10e98\" class=\"plotly-graph-div\" style=\"height:525px; width:100%;\"></div>            <script type=\"text/javascript\">                require([\"plotly\"], function(Plotly) {                    window.PLOTLYENV=window.PLOTLYENV || {};                                    if (document.getElementById(\"380ab258-84cc-40fc-ab97-925ebdc10e98\")) {                    Plotly.newPlot(                        \"380ab258-84cc-40fc-ab97-925ebdc10e98\",                        [{\"name\":\"EUA Jun24 40P\",\"x\":[30,31,32,33,34,35,36,37,38,39,40,41,42,43,44,45,46,47,48,49,50,51,52,53,54,55,56,57,58,59,60,61,62,63,64,65,66,67,68,69,70,71,72,73,74,75,76,77,78,79,80,81,82,83,84,85,86,87,88,89,90,91,92,93,94,95,96,97,98,99,100],\"y\":[821845.9050514301,749718.2110436979,680335.2231152387,614041.5036700654,551140.3619136557,491881.8710974045,436454.5013866133,384980.62392317085,337515.76124513865,294051.1621103894,254519.08124323512,218800.0456484922,186731.3759145212,158116.28365336734,132732.96311151522,110343.21553414443,90700.27195699952,73555.60091670076,58664.59367251846,45791.10636940288,34710.90470389481,25214.102890736576,17106.717316705188,10211.469215017029,4367.973240686608,-567.5569098501296,-4722.965946782129,-8211.072084411233,-11130.750244443485,-13568.109761211983,-15597.708065820872,-17283.755469202006,-18681.278061607263,-19837.21579362865,-20791.441038739176,-21577.689489924094,-22224.400296604505,-22755.46611057439,-23190.89639237882,-23547.399133435025,-23838.887256831353,-24076.916530850427,-24271.061999538357,-24429.23981622415,-24557.98104919158,-24662.66358493093,-24747.7077380458,-24816.74062881183,-24872.733838880275,-24918.11832317507,-24954.880054927722,-24984.63941902204,-25008.71695036691,-25028.18763993886,-25043.92570057754,-25056.64139529238,-25066.91127977095,-25075.202994435385,-25081.89555623427,-25087.295942703917,-25091.652627373052,-25095.166613039888,-25098.000414967333,-25100.28536704226,-25102.127558034044,-25103.61265037919,-25104.80978851458,-25105.774766301245,-25106.55259214591,-25107.179564974416,-25107.68495332174],\"type\":\"scatter\",\"xaxis\":\"x\",\"yaxis\":\"y\"},{\"name\":\"EUA Jun24 40P\",\"x\":[30,31,32,33,34,35,36,37,38,39,40,41,42,43,44,45,46,47,48,49,50,51,52,53,54,55,56,57,58,59,60,61,62,63,64,65,66,67,68,69,70,71,72,73,74,75,76,77,78,79,80,81,82,83,84,85,86,87,88,89,90,91,92,93,94,95,96,97,98,99,100],\"y\":[-44619.44709665011,-43061.3744618061,-41284.14251327478,-39308.550918178684,-37163.668764811475,-34884.7993906626,-32511.162227518555,-30083.541904256905,-27642.113257962024,-25224.593327828436,-22864.809631669348,-20591.717045621448,-18428.84909171172,-16394.155947604995,-14500.161134252592,-12754.360063081822,-11159.783997375462,-9715.659791175558,-8418.106458503893,-7260.822049926763,-6235.726842442468,-5333.540371447826,-4544.279697810926,-3857.674223265761,-3263.4983253455875,-2751.8272363967812,-2313.2241965299395,-1938.8682651127865,-1620.63257698013,-1351.1225495324297,-1123.6828173432523,-932.3806791650402,-771.9727317896107,-637.8602399531419,-526.0377216830702,-433.03825749193004,-355.87818230493065,-292.00309860856197,-239.23655535756373,-195.73226045779825,-159.9303222533932,-130.5177328996543,-106.39309916635753,-86.63548024674395,-70.47709503801846,-57.2796022027644,-46.5136258769705,-37.741190530138354,-30.600734049385238,-24.794383756204795,-20.077202026375083,-16.248133651042274,-13.142413985456347,-10.625223819488161,-8.586402777305269,-6.936057281148322,-5.600921331960773,-4.521348400854386,-3.6488305612536465,-2.943956688333804,-2.374735235255443,-1.9152189265847497,-1.5443788664748492,-1.2451842250238432,-1.003851019543145,-0.80922971590347,-0.652306594872698,-0.5257981984863047,-0.4238218181629172,-0.3416280190737808,-0.2753837098856682],\"type\":\"scatter\",\"xaxis\":\"x2\",\"yaxis\":\"y2\"},{\"name\":\"EUA Jun24 50P\",\"x\":[30,31,32,33,34,35,36,37,38,39,40,41,42,43,44,45,46,47,48,49,50,51,52,53,54,55,56,57,58,59,60,61,62,63,64,65,66,67,68,69,70,71,72,73,74,75,76,77,78,79,80,81,82,83,84,85,86,87,88,89,90,91,92,93,94,95,96,97,98,99,100],\"y\":[-1533986.7536091283,-1452101.028477878,-1370442.3570545695,-1289121.9998143585,-1208285.3344046718,-1128114.3987146227,-1048828.1500615783,-970680.0557875668,-893952.9150780377,-818951.1198135541,-745990.8452690082,-675388.8786851153,-607450.918773441,-542460.2029055214,-480667.2481141042,-422281.3465619249,-367464.262488466,-316326.36439393944,-268925.2193598379,-225266.49633047156,-185306.88520329611,-148958.64483119856,-116095.34540018236,-86558.36423632358,-60163.72101704675,-36708.88932103313,-15979.287111428968,2245.779297064446,18187.871866246245,32064.966452857723,44087.81914423459,54457.13912888056,63361.51921899453,70976.05113222382,77461.53815696057,82964.21134015737,87615.85518208957,91534.25336354047,94823.8727776051,97576.71381253605,99873.26539519404,101783.51395918804,103367.96567201606,104678.6505597407,105760.08538351677,106650.17915241806,107381.07099715984,107979.89483988723,108469.46897783165,108868.9114776637,109194.18428563188,109458.57032755729,109673.08872563926,109846.85370687778,109987.38291738357,110100.86076996484,110192.36220662536,110266.0419074558,110325.29356542032,110372.88340522796,110411.06167790433,110441.6554278438,110466.14541756234,110485.7297142537,110501.37609543493,110513.86511987566,110523.82543433794,110531.76264488409,110538.08287139086,110543.11192275204,110547.1108751226],\"type\":\"scatter\",\"xaxis\":\"x\",\"yaxis\":\"y\"},{\"name\":\"EUA Jun24 50P\",\"x\":[30,31,32,33,34,35,36,37,38,39,40,41,42,43,44,45,46,47,48,49,50,51,52,53,54,55,56,57,58,59,60,61,62,63,64,65,66,67,68,69,70,71,72,73,74,75,76,77,78,79,80,81,82,83,84,85,86,87,88,89,90,91,92,93,94,95,96,97,98,99,100],\"y\":[49844.116992937656,49733.56842345103,49564.94502892989,49318.650453512295,48972.961089663826,48505.24963370969,47893.51698239811,47118.07643885828,46163.20505392097,45018.57771728728,43680.32841149617,42151.63275553767,40442.766565292666,38570.65614032002,36557.98842838009,34431.987074663106,32222.98091036863,29962.895007181527,27683.783663690832,25416.503607296705,23189.59874992918,21028.439196174044,18954.630254551143,16985.684313620837,15134.930936438568,13411.628801558645,11821.236866907737,10365.800570386247,9044.410972529171,7853.6993894613215,6788.336223936309,5841.509496124709,5005.365315277993,4271.398730657411,3630.788752514502,3074.675694498702,2594.3823313030302,2181.582748703992,1828.4243002793187,1527.6089165935814,1272.4402869333185,1056.8432929729977,875.3616452877754,723.1390649848901,595.8886503390826,489.85433813548696,401.7676589155472,328.80232621206875,268.528611094021,218.86894398328582,178.05575754722415,144.5922342731165,117.21634364664224,94.86833845104292,76.66171861426818,61.857555315542044,49.8419892930424,40.106667855138724,32.2318583337422,25.871965975798883,20.743186865640475,16.61303762042765,13.291520313496452,10.623701051237777,8.483502131212406,6.768529485068342,5.39577828345128,4.298079570030922,3.421169245548805,2.7212774575124943,2.1631514074138547],\"type\":\"scatter\",\"xaxis\":\"x2\",\"yaxis\":\"y2\"},{\"name\":\"EUA Jun24 65C\",\"x\":[30,31,32,33,34,35,36,37,38,39,40,41,42,43,44,45,46,47,48,49,50,51,52,53,54,55,56,57,58,59,60,61,62,63,64,65,66,67,68,69,70,71,72,73,74,75,76,77,78,79,80,81,82,83,84,85,86,87,88,89,90,91,92,93,94,95,96,97,98,99,100],\"y\":[193149.37078838775,193149.333180132,193149.22471003674,193148.93419132804,193148.20745828972,193146.5007250661,193142.71992648294,193134.78622823404,193118.9547595607,193088.80731398577,193033.84539853132,192937.63195951015,192775.47054402562,192511.668309791,192096.49889351375,191463.05373492753,190524.23469665364,189170.1850223075,187266.47005311566,184653.2978192059,181146.01198899205,176537.0005484711,170599.05259112135,163090.07550157883,153758.96950778711,142352.3589721555,128621.81004819795,112331.12865800977,93263.33294914069,71226.92807895623,46061.17254931739,17640.106283744433,-14124.79792656714,-49283.40507335095,-87847.06965485077,-129790.05351733437,-175052.03753939315,-223541.51611090038,-275139.8431552758,-329705.69528533076,-387079.72894344764,-447089.23078944394,-509552.590675503,-574283.4609211151,-641094.5012813013,-709800.6435308977,-780221.8411143343,-852185.2965905644,-925527.1819505524,-1000093.8840894449,-1075742.8199409344,-1152342.8734618344,-1229774.5103984734,-1307929.6272694187,-1386711.1889775824,-1466032.705603759,-1545817.5938510573,-1625998.462836188,-1706516.3578927752,-1787319.9901008974,-1868364.9736323585,-1949613.087869156,-2031031.5767116102,-2112592.493587013,-2194272.0974009023,-2276050.302013375,-2357910.179722557,-2439837.517636067,-2521820.424641386,-2603848.9858804885,-2685914.9611275145],\"type\":\"scatter\",\"xaxis\":\"x\",\"yaxis\":\"y\"},{\"name\":\"EUA Jun24 65C\",\"x\":[30,31,32,33,34,35,36,37,38,39,40,41,42,43,44,45,46,47,48,49,50,51,52,53,54,55,56,57,58,59,60,61,62,63,64,65,66,67,68,69,70,71,72,73,74,75,76,77,78,79,80,81,82,83,84,85,86,87,88,89,90,91,92,93,94,95,96,97,98,99,100],\"y\":[-0.012426654510326207,-0.03754469498499781,-0.10490211459047381,-0.2727508301848736,-0.6636265904448719,-1.518611958485198,-3.2833274280891365,-6.734724506307122,-13.155105755612137,-24.554086137025852,-43.9304701345176,-75.55514526860168,-125.24484232524682,-200.58733463790838,-311.07378354159204,-468.09541555310847,-684.7704253907518,-975.582466500313,-1355.8324887621757,-1840.9281413311076,-2445.5561136818533,-3182.799426154992,-4063.271325305853,-5094.338756111241,-6279.5013447616675,-7617.9776188712885,-9104.530923646573,-10729.545777011323,-12479.34392377976,-14336.710456661667,-16281.585827939085,-18291.870393983954,-20344.284573162415,-22415.22935231057,-24481.597847701098,-26521.497713467958,-28514.855088305623,-30443.88223405261,-32293.401983113825,-34051.03176578484,-35707.23780558989,-37255.2757946473,-38691.03797052962,-40012.828172124886,-41221.086440078914,-42318.083401799144,-43307.60241696651,-44194.62461590105,-44985.02885655895,-45685.31551565487,-46302.36011139955,-46843.2001635862,-47314.856509319645,-47724.18854082246,-48077.78151023534,-48381.86312372344,-48642.246075267605,-48864.29289218009,-49052.8994200365,-49212.49340688983,-49347.0449031266,-49460.0855290382,-49554.73403991421,-49633.72600893799,-49699.44582950454,-49753.959595471184,-49799.04774052024,-49836.23660097204,-49866.82830821804,-49891.9286181765,-49912.47244829695],\"type\":\"scatter\",\"xaxis\":\"x2\",\"yaxis\":\"y2\"},{\"name\":\"EUA Jun24 75C\",\"x\":[30,31,32,33,34,35,36,37,38,39,40,41,42,43,44,45,46,47,48,49,50,51,52,53,54,55,56,57,58,59,60,61,62,63,64,65,66,67,68,69,70,71,72,73,74,75,76,77,78,79,80,81,82,83,84,85,86,87,88,89,90,91,92,93,94,95,96,97,98,99,100],\"y\":[-49470.70634545088,-49470.70615190942,-49470.705473220354,-49470.70327737163,-49470.69668224835,-49470.67819275675,-49470.6295662481,-49470.50905419535,-49470.22644755312,-49469.59700501284,-49468.260906139934,-49465.54951883472,-49460.27400692145,-49450.40651178425,-49432.62054912375,-49401.65680199385,-49349.484567786436,-49264.23880018931,-49128.92840643236,-48919.932760694675,-48605.3288282052,-48143.11848488896,-47479.45150689118,-46546.96094991203,-45263.34109054098,-43530.30128205539,-41233.0205700255,-38240.20760552146,-34404.83952499575,-29565.61448398202,-23549.108788452213,-16172.584904609035,-7247.354921369476,3417.431229282846,16010.72958579411,30715.449964938496,47704.38328778017,67136.37627622319,89152.90374879031,113875.16314370505,141401.78473273365,171807.21684457042,205140.81080467222,241426.59746147293,280663.7179355896,322827.4469314185,367870.72839983687,415726.1308481375,466308.1230310739,519515.5696426111,575234.350220399,633340.0118717939,693700.3766580834,756178.0365654051,820632.6820467747,886923.2233506404,954909.676605393,1024454.7984031332,1095425.4630645348,1167693.7856522186,1241138.0010359588,1315643.1149030977,1391101.346633959,1467412.3865636676,1544483.4915050233,1622229.442706969,1700572.3898711053,1779441.6036390385,1858773.1572772595,1938509.556284515,2018599.3324680978],\"type\":\"scatter\",\"xaxis\":\"x\",\"yaxis\":\"y\"},{\"name\":\"EUA Jun24 75C\",\"x\":[30,31,32,33,34,35,36,37,38,39,40,41,42,43,44,45,46,47,48,49,50,51,52,53,54,55,56,57,58,59,60,61,62,63,64,65,66,67,68,69,70,71,72,73,74,75,76,77,78,79,80,81,82,83,84,85,86,87,88,89,90,91,92,93,94,95,96,97,98,99,100],\"y\":[5.668448448672751e-05,0.0002093414045652247,0.0007100833864475654,0.00222692001783581,0.006495717676034876,0.017717742632370696,0.04541051344881818,0.10984557946711254,0.25178192471601396,0.5488655819362284,1.1417046602109324,2.2730695518191415,4.3436882557035545,7.987476857411615,14.167586821895721,24.292301367066607,40.34667926701769,65.03222520807174,101.9032353561186,155.48541207542058,231.36046594723143,336.20023320848946,477.7356386272583,664.6496599541489,906.3890330476667,1212.8962367774643,1594.270576571423,2060.374117786458,2620.404007699238,3282.456711433146,4053.1114411794133,4937.059419375947,5936.80270042731,7052.441439592619,8281.562279388516,9619.233562450796,11058.106034358872,12588.611175699816,14199.243793624555,15876.911355595319,17607.32994591543,19375.4456959049,21165.860972051174,22963.24628908047,24752.72156399235,26520.193627663586,28252.640547851905,29938.337002978336,31567.01843673176,33129.98483216098,34620.14754318363,36032.024641827535,37361.69166290841,38606.69547834432,39765.9393667675,40839.547237515784,41828.71450982308,42735.552429394265,43562.931713179765,44314.33042818647,44993.6899991236,45605.2822570139,46153.58952762484,46643.19894298866,47078.71145827947,47464.66547713396,47805.47453060198,48105.37811189082,48368.4045304213,48598.34450140695,48798.73411693577],\"type\":\"scatter\",\"xaxis\":\"x2\",\"yaxis\":\"y2\"},{\"mode\":\"lines\",\"name\":\"Total_PnL\",\"x\":[30,31,32,33,34,35,36,37,38,39,40,41,42,43,44,45,46,47,48,49,50,51,52,53,54,55,56,57,58,59,60,61,62,63,64,65,66,67,68,69,70,71,72,73,74,75,76,77,78,79,80,81,82,83,84,85,86,87,88,89,90,91,92,93,94,95,96,97,98,99,100],\"y\":[-568462.1841147613,-558704.1904059576,-546428.6147025144,-531402.2652303367,-513467.46171497484,-492556.70508490887,-468701.55831473006,-442035.1546903573,-412788.4255208914,-381280.74739419186,-347906.17953338166,-313116.75059594767,-277404.3463218156,-241282.6574541473,-205270.40665819898,-169876.7340948468,-135589.24040259921,-102864.81725512049,-72123.08404063614,-43742.02490255746,-18055.297338614466,4649.340123120135,24130.973000752994,40196.21953036025,52699.880640886004,61545.61145921684,66686.53641996135,68125.62826514152,65915.61504594769,60158.17028661996,51002.1748392789,38640.90503881395,23308.088309450653,5272.861494527058,-15166.242950835269,-37688.081702162584,-61956.19936612792,-87626.35258171111,-114353.96302125922,-141801.21746252468,-169643.56607235127,-197575.41651653592,-225314.8761983531,-252607.45271612567,-279228.67901138647,-304985.6810319921,-329717.74945538334,-353296.01153135154,-375622.32378052716,-396627.52129234513,-416269.16548983124,-434528.93068150536,-451409.76196511765,-466932.9246370746,-481135.0497140017,-494065.26287844614,-505782.4663188099,-516352.8255200344,-525847.4968190542,-534340.6169861548,-541907.5635458685,-548623.4841512542,-554562.0850750562,-559794.6626761339,-564389.3573584782,-568410.6068369094,-571918.7742056281,-574969.9261184453,-577615.7370848819,-579903.4972381957,-581876.2027376157],\"type\":\"scatter\",\"xaxis\":\"x\",\"yaxis\":\"y\"},{\"mode\":\"lines\",\"name\":\"Total_Delta\",\"x\":[30,31,32,33,34,35,36,37,38,39,40,41,42,43,44,45,46,47,48,49,50,51,52,53,54,55,56,57,58,59,60,61,62,63,64,65,66,67,68,69,70,71,72,73,74,75,76,77,78,79,80,81,82,83,84,85,86,87,88,89,90,91,92,93,94,95,96,97,98,99,100],\"y\":[5224.65752631752,6672.15662629135,8280.698323623905,10009.829011423444,11808.635193979582,13618.949348831236,15379.116837964917,17027.90965567454,18508.188472128044,19769.979168903752,20772.730014352517,21486.63363419944,21893.016319511404,21983.900334934526,21760.9210974078,21233.823897395243,20418.773166869436,19336.684974713728,18011.747951780886,16470.238828114256,14739.676259752088,12848.299631779715,10824.814870061622,8698.320994197984,6498.320299378979,4254.720183068041,1997.752323302647,-242.2393539514028,-2435.16152053148,-4551.67690529963,-6563.820980166614,-8445.682157648338,-10174.089289246722,-11729.249422013683,-13095.284537481151,-14260.62671401039,-15218.24490494865,-15965.691408257362,-16504.970444567516,-16842.24375405374,-16987.39789499453,-16953.504538669054,-16756.20845235703,-16413.07829830627,-15942.953320785502,-15365.315038202836,-14699.707836076032,-13965.226477240783,-13180.082542782558,-12361.256123266801,-11524.234012695066,-10682.831421136594,-9849.09091675005,-9033.249947846583,-8243.766827630876,-7487.394388173256,-6769.290497483438,-6093.15514333154,-5461.3846790842435,-4875.234969415898,-4334.986452372621,-3840.105453330456,-3389.397370842351,-2981.1485491231215,-2613.2547201134003,-2283.334818568059,-1988.8297382296805,-1727.0862077096754,-1495.4264303693562,-1291.2044673311102,-1111.8505636636473],\"type\":\"scatter\",\"xaxis\":\"x2\",\"yaxis\":\"y2\"}],                        {\"template\":{\"data\":{\"histogram2dcontour\":[{\"type\":\"histogram2dcontour\",\"colorbar\":{\"outlinewidth\":0,\"ticks\":\"\"},\"colorscale\":[[0.0,\"#0d0887\"],[0.1111111111111111,\"#46039f\"],[0.2222222222222222,\"#7201a8\"],[0.3333333333333333,\"#9c179e\"],[0.4444444444444444,\"#bd3786\"],[0.5555555555555556,\"#d8576b\"],[0.6666666666666666,\"#ed7953\"],[0.7777777777777778,\"#fb9f3a\"],[0.8888888888888888,\"#fdca26\"],[1.0,\"#f0f921\"]]}],\"choropleth\":[{\"type\":\"choropleth\",\"colorbar\":{\"outlinewidth\":0,\"ticks\":\"\"}}],\"histogram2d\":[{\"type\":\"histogram2d\",\"colorbar\":{\"outlinewidth\":0,\"ticks\":\"\"},\"colorscale\":[[0.0,\"#0d0887\"],[0.1111111111111111,\"#46039f\"],[0.2222222222222222,\"#7201a8\"],[0.3333333333333333,\"#9c179e\"],[0.4444444444444444,\"#bd3786\"],[0.5555555555555556,\"#d8576b\"],[0.6666666666666666,\"#ed7953\"],[0.7777777777777778,\"#fb9f3a\"],[0.8888888888888888,\"#fdca26\"],[1.0,\"#f0f921\"]]}],\"heatmap\":[{\"type\":\"heatmap\",\"colorbar\":{\"outlinewidth\":0,\"ticks\":\"\"},\"colorscale\":[[0.0,\"#0d0887\"],[0.1111111111111111,\"#46039f\"],[0.2222222222222222,\"#7201a8\"],[0.3333333333333333,\"#9c179e\"],[0.4444444444444444,\"#bd3786\"],[0.5555555555555556,\"#d8576b\"],[0.6666666666666666,\"#ed7953\"],[0.7777777777777778,\"#fb9f3a\"],[0.8888888888888888,\"#fdca26\"],[1.0,\"#f0f921\"]]}],\"heatmapgl\":[{\"type\":\"heatmapgl\",\"colorbar\":{\"outlinewidth\":0,\"ticks\":\"\"},\"colorscale\":[[0.0,\"#0d0887\"],[0.1111111111111111,\"#46039f\"],[0.2222222222222222,\"#7201a8\"],[0.3333333333333333,\"#9c179e\"],[0.4444444444444444,\"#bd3786\"],[0.5555555555555556,\"#d8576b\"],[0.6666666666666666,\"#ed7953\"],[0.7777777777777778,\"#fb9f3a\"],[0.8888888888888888,\"#fdca26\"],[1.0,\"#f0f921\"]]}],\"contourcarpet\":[{\"type\":\"contourcarpet\",\"colorbar\":{\"outlinewidth\":0,\"ticks\":\"\"}}],\"contour\":[{\"type\":\"contour\",\"colorbar\":{\"outlinewidth\":0,\"ticks\":\"\"},\"colorscale\":[[0.0,\"#0d0887\"],[0.1111111111111111,\"#46039f\"],[0.2222222222222222,\"#7201a8\"],[0.3333333333333333,\"#9c179e\"],[0.4444444444444444,\"#bd3786\"],[0.5555555555555556,\"#d8576b\"],[0.6666666666666666,\"#ed7953\"],[0.7777777777777778,\"#fb9f3a\"],[0.8888888888888888,\"#fdca26\"],[1.0,\"#f0f921\"]]}],\"surface\":[{\"type\":\"surface\",\"colorbar\":{\"outlinewidth\":0,\"ticks\":\"\"},\"colorscale\":[[0.0,\"#0d0887\"],[0.1111111111111111,\"#46039f\"],[0.2222222222222222,\"#7201a8\"],[0.3333333333333333,\"#9c179e\"],[0.4444444444444444,\"#bd3786\"],[0.5555555555555556,\"#d8576b\"],[0.6666666666666666,\"#ed7953\"],[0.7777777777777778,\"#fb9f3a\"],[0.8888888888888888,\"#fdca26\"],[1.0,\"#f0f921\"]]}],\"mesh3d\":[{\"type\":\"mesh3d\",\"colorbar\":{\"outlinewidth\":0,\"ticks\":\"\"}}],\"scatter\":[{\"fillpattern\":{\"fillmode\":\"overlay\",\"size\":10,\"solidity\":0.2},\"type\":\"scatter\"}],\"parcoords\":[{\"type\":\"parcoords\",\"line\":{\"colorbar\":{\"outlinewidth\":0,\"ticks\":\"\"}}}],\"scatterpolargl\":[{\"type\":\"scatterpolargl\",\"marker\":{\"colorbar\":{\"outlinewidth\":0,\"ticks\":\"\"}}}],\"bar\":[{\"error_x\":{\"color\":\"#2a3f5f\"},\"error_y\":{\"color\":\"#2a3f5f\"},\"marker\":{\"line\":{\"color\":\"#E5ECF6\",\"width\":0.5},\"pattern\":{\"fillmode\":\"overlay\",\"size\":10,\"solidity\":0.2}},\"type\":\"bar\"}],\"scattergeo\":[{\"type\":\"scattergeo\",\"marker\":{\"colorbar\":{\"outlinewidth\":0,\"ticks\":\"\"}}}],\"scatterpolar\":[{\"type\":\"scatterpolar\",\"marker\":{\"colorbar\":{\"outlinewidth\":0,\"ticks\":\"\"}}}],\"histogram\":[{\"marker\":{\"pattern\":{\"fillmode\":\"overlay\",\"size\":10,\"solidity\":0.2}},\"type\":\"histogram\"}],\"scattergl\":[{\"type\":\"scattergl\",\"marker\":{\"colorbar\":{\"outlinewidth\":0,\"ticks\":\"\"}}}],\"scatter3d\":[{\"type\":\"scatter3d\",\"line\":{\"colorbar\":{\"outlinewidth\":0,\"ticks\":\"\"}},\"marker\":{\"colorbar\":{\"outlinewidth\":0,\"ticks\":\"\"}}}],\"scattermapbox\":[{\"type\":\"scattermapbox\",\"marker\":{\"colorbar\":{\"outlinewidth\":0,\"ticks\":\"\"}}}],\"scatterternary\":[{\"type\":\"scatterternary\",\"marker\":{\"colorbar\":{\"outlinewidth\":0,\"ticks\":\"\"}}}],\"scattercarpet\":[{\"type\":\"scattercarpet\",\"marker\":{\"colorbar\":{\"outlinewidth\":0,\"ticks\":\"\"}}}],\"carpet\":[{\"aaxis\":{\"endlinecolor\":\"#2a3f5f\",\"gridcolor\":\"white\",\"linecolor\":\"white\",\"minorgridcolor\":\"white\",\"startlinecolor\":\"#2a3f5f\"},\"baxis\":{\"endlinecolor\":\"#2a3f5f\",\"gridcolor\":\"white\",\"linecolor\":\"white\",\"minorgridcolor\":\"white\",\"startlinecolor\":\"#2a3f5f\"},\"type\":\"carpet\"}],\"table\":[{\"cells\":{\"fill\":{\"color\":\"#EBF0F8\"},\"line\":{\"color\":\"white\"}},\"header\":{\"fill\":{\"color\":\"#C8D4E3\"},\"line\":{\"color\":\"white\"}},\"type\":\"table\"}],\"barpolar\":[{\"marker\":{\"line\":{\"color\":\"#E5ECF6\",\"width\":0.5},\"pattern\":{\"fillmode\":\"overlay\",\"size\":10,\"solidity\":0.2}},\"type\":\"barpolar\"}],\"pie\":[{\"automargin\":true,\"type\":\"pie\"}]},\"layout\":{\"autotypenumbers\":\"strict\",\"colorway\":[\"#636efa\",\"#EF553B\",\"#00cc96\",\"#ab63fa\",\"#FFA15A\",\"#19d3f3\",\"#FF6692\",\"#B6E880\",\"#FF97FF\",\"#FECB52\"],\"font\":{\"color\":\"#2a3f5f\"},\"hovermode\":\"closest\",\"hoverlabel\":{\"align\":\"left\"},\"paper_bgcolor\":\"white\",\"plot_bgcolor\":\"#E5ECF6\",\"polar\":{\"bgcolor\":\"#E5ECF6\",\"angularaxis\":{\"gridcolor\":\"white\",\"linecolor\":\"white\",\"ticks\":\"\"},\"radialaxis\":{\"gridcolor\":\"white\",\"linecolor\":\"white\",\"ticks\":\"\"}},\"ternary\":{\"bgcolor\":\"#E5ECF6\",\"aaxis\":{\"gridcolor\":\"white\",\"linecolor\":\"white\",\"ticks\":\"\"},\"baxis\":{\"gridcolor\":\"white\",\"linecolor\":\"white\",\"ticks\":\"\"},\"caxis\":{\"gridcolor\":\"white\",\"linecolor\":\"white\",\"ticks\":\"\"}},\"coloraxis\":{\"colorbar\":{\"outlinewidth\":0,\"ticks\":\"\"}},\"colorscale\":{\"sequential\":[[0.0,\"#0d0887\"],[0.1111111111111111,\"#46039f\"],[0.2222222222222222,\"#7201a8\"],[0.3333333333333333,\"#9c179e\"],[0.4444444444444444,\"#bd3786\"],[0.5555555555555556,\"#d8576b\"],[0.6666666666666666,\"#ed7953\"],[0.7777777777777778,\"#fb9f3a\"],[0.8888888888888888,\"#fdca26\"],[1.0,\"#f0f921\"]],\"sequentialminus\":[[0.0,\"#0d0887\"],[0.1111111111111111,\"#46039f\"],[0.2222222222222222,\"#7201a8\"],[0.3333333333333333,\"#9c179e\"],[0.4444444444444444,\"#bd3786\"],[0.5555555555555556,\"#d8576b\"],[0.6666666666666666,\"#ed7953\"],[0.7777777777777778,\"#fb9f3a\"],[0.8888888888888888,\"#fdca26\"],[1.0,\"#f0f921\"]],\"diverging\":[[0,\"#8e0152\"],[0.1,\"#c51b7d\"],[0.2,\"#de77ae\"],[0.3,\"#f1b6da\"],[0.4,\"#fde0ef\"],[0.5,\"#f7f7f7\"],[0.6,\"#e6f5d0\"],[0.7,\"#b8e186\"],[0.8,\"#7fbc41\"],[0.9,\"#4d9221\"],[1,\"#276419\"]]},\"xaxis\":{\"gridcolor\":\"white\",\"linecolor\":\"white\",\"ticks\":\"\",\"title\":{\"standoff\":15},\"zerolinecolor\":\"white\",\"automargin\":true,\"zerolinewidth\":2},\"yaxis\":{\"gridcolor\":\"white\",\"linecolor\":\"white\",\"ticks\":\"\",\"title\":{\"standoff\":15},\"zerolinecolor\":\"white\",\"automargin\":true,\"zerolinewidth\":2},\"scene\":{\"xaxis\":{\"backgroundcolor\":\"#E5ECF6\",\"gridcolor\":\"white\",\"linecolor\":\"white\",\"showbackground\":true,\"ticks\":\"\",\"zerolinecolor\":\"white\",\"gridwidth\":2},\"yaxis\":{\"backgroundcolor\":\"#E5ECF6\",\"gridcolor\":\"white\",\"linecolor\":\"white\",\"showbackground\":true,\"ticks\":\"\",\"zerolinecolor\":\"white\",\"gridwidth\":2},\"zaxis\":{\"backgroundcolor\":\"#E5ECF6\",\"gridcolor\":\"white\",\"linecolor\":\"white\",\"showbackground\":true,\"ticks\":\"\",\"zerolinecolor\":\"white\",\"gridwidth\":2}},\"shapedefaults\":{\"line\":{\"color\":\"#2a3f5f\"}},\"annotationdefaults\":{\"arrowcolor\":\"#2a3f5f\",\"arrowhead\":0,\"arrowwidth\":1},\"geo\":{\"bgcolor\":\"white\",\"landcolor\":\"#E5ECF6\",\"subunitcolor\":\"white\",\"showland\":true,\"showlakes\":true,\"lakecolor\":\"white\"},\"title\":{\"x\":0.05},\"mapbox\":{\"style\":\"light\"}}},\"xaxis\":{\"anchor\":\"y\",\"domain\":[0.0,0.45],\"title\":{\"text\":\"Price\"}},\"yaxis\":{\"anchor\":\"x\",\"domain\":[0.0,1.0],\"title\":{\"text\":\"Pnl\"}},\"xaxis2\":{\"anchor\":\"y2\",\"domain\":[0.55,1.0],\"title\":{\"text\":\"Price\"}},\"yaxis2\":{\"anchor\":\"x2\",\"domain\":[0.0,1.0],\"title\":{\"text\":\"Delta\"}},\"title\":{\"text\":\"Todays Option Pos (PnL and Delta)\",\"x\":0.5,\"xanchor\":\"center\"},\"barmode\":\"stack\"},                        {\"responsive\": true}                    ).then(function(){\n",
       "                            \n",
       "var gd = document.getElementById('380ab258-84cc-40fc-ab97-925ebdc10e98');\n",
       "var x = new MutationObserver(function (mutations, observer) {{\n",
       "        var display = window.getComputedStyle(gd).display;\n",
       "        if (!display || display === 'none') {{\n",
       "            console.log([gd, 'removed!']);\n",
       "            Plotly.purge(gd);\n",
       "            observer.disconnect();\n",
       "        }}\n",
       "}});\n",
       "\n",
       "// Listen for the removal of the full notebook cells\n",
       "var notebookContainer = gd.closest('#notebook-container');\n",
       "if (notebookContainer) {{\n",
       "    x.observe(notebookContainer, {childList: true});\n",
       "}}\n",
       "\n",
       "// Listen for the clearing of the current output cell\n",
       "var outputEl = gd.closest('.output');\n",
       "if (outputEl) {{\n",
       "    x.observe(outputEl, {childList: true});\n",
       "}}\n",
       "\n",
       "                        })                };                });            </script>        </div>"
      ]
     },
     "metadata": {},
     "output_type": "display_data"
    }
   ],
   "source": [
    "pnl_delta_plot(end_of_month)"
   ]
  },
  {
   "cell_type": "markdown",
   "id": "74ba72d0",
   "metadata": {},
   "source": [
    "## One Month"
   ]
  },
  {
   "cell_type": "code",
   "execution_count": 17,
   "id": "072e82ff",
   "metadata": {},
   "outputs": [
    {
     "data": {
      "application/vnd.plotly.v1+json": {
       "config": {
        "plotlyServerURL": "https://plot.ly"
       },
       "data": [
        {
         "name": "EUA Jun24 40P",
         "type": "scatter",
         "x": [
          30,
          31,
          32,
          33,
          34,
          35,
          36,
          37,
          38,
          39,
          40,
          41,
          42,
          43,
          44,
          45,
          46,
          47,
          48,
          49,
          50,
          51,
          52,
          53,
          54,
          55,
          56,
          57,
          58,
          59,
          60,
          61,
          62,
          63,
          64,
          65,
          66,
          67,
          68,
          69,
          70,
          71,
          72,
          73,
          74,
          75,
          76,
          77,
          78,
          79,
          80,
          81,
          82,
          83,
          84,
          85,
          86,
          87,
          88,
          89,
          90,
          91,
          92,
          93,
          94,
          95,
          96,
          97,
          98,
          99,
          100
         ],
         "xaxis": "x",
         "y": [
          815049.1042935008,
          740933.1628743804,
          669437.7950777437,
          600986.1919068758,
          535967.0062657221,
          474715.1893160612,
          417496.94440440653,
          364499.77955653105,
          315827.9835635838,
          271503.2661882005,
          231469.8551885605,
          195603.06004711386,
          163720.1916542619,
          135592.74415975073,
          110958.86362891702,
          89535.309087881,
          71028.31957110782,
          55143.00761025607,
          41591.08546316684,
          30096.883742417973,
          20401.738353759836,
          12266.9013586333,
          5475.178484614763,
          -168.4836967980809,
          -4837.2380352237415,
          -8683.196027648019,
          -11838.720824535574,
          -14417.996649085204,
          -16518.746277848855,
          -18223.99612316719,
          -19603.813752930608,
          -20716.96458417125,
          -21612.4527037655,
          -22330.925364725175,
          -22905.93196776486,
          -23365.036676931304,
          -23730.78969765436,
          -24021.56612798473,
          -24252.283608993963,
          -24435.011127972095,
          -24579.481589937113,
          -24693.520432329275,
          -24783.401823259763,
          -24854.143015402977,
          -24909.746344606534,
          -24953.397249624333,
          -24987.625605236968,
          -25014.436642784192,
          -25035.4168014046,
          -25051.819020405474,
          -25064.63125043929,
          -25074.631325515737,
          -25082.430792985382,
          -25088.50983623485,
          -25093.24503592136,
          -25096.9313909444,
          -25099.799751288512,
          -25102.030593155716,
          -25103.76488514703,
          -25105.112646136822,
          -25106.159675221013,
          -25106.972836929803,
          -25107.60420657553,
          -25108.09431774395,
          -25108.47470363715,
          -25108.76988381428,
          -25108.998915924683,
          -25109.17660664146,
          -25109.314455908567,
          -25109.421392700853,
          -25109.504347949238
         ],
         "yaxis": "y"
        },
        {
         "name": "EUA Jun24 40P",
         "type": "scatter",
         "x": [
          30,
          31,
          32,
          33,
          34,
          35,
          36,
          37,
          38,
          39,
          40,
          41,
          42,
          43,
          44,
          45,
          46,
          47,
          48,
          49,
          50,
          51,
          52,
          53,
          54,
          55,
          56,
          57,
          58,
          59,
          60,
          61,
          62,
          63,
          64,
          65,
          66,
          67,
          68,
          69,
          70,
          71,
          72,
          73,
          74,
          75,
          76,
          77,
          78,
          79,
          80,
          81,
          82,
          83,
          84,
          85,
          86,
          87,
          88,
          89,
          90,
          91,
          92,
          93,
          94,
          95,
          96,
          97,
          98,
          99,
          100
         ],
         "xaxis": "x2",
         "y": [
          -45740.2062625762,
          -44280.26364738601,
          -42557.02222631417,
          -40585.03891879655,
          -38391.46800544284,
          -36013.98945168421,
          -33497.94175969786,
          -30893.060854480387,
          -28250.210361880323,
          -25618.421578227433,
          -23042.466221697116,
          -20561.08293284087,
          -18205.88574764142,
          -16000.909456713658,
          -13962.697036289817,
          -12100.80770593936,
          -10418.617140556185,
          -8914.288974254136,
          -7581.813757593736,
          -6412.033293212549,
          -5393.591082642312,
          -4513.770879972833,
          -3759.203511918696,
          -3116.4364862285634,
          -2572.37139639267,
          -2114.5810755243024,
          -1731.5224169711762,
          -1412.6624093596329,
          -1148.5348632541081,
          -930.7440990258598,
          -751.9299856662387,
          -605.7065268462891,
          -486.58394236095745,
          -389.8820629006761,
          -311.6409471408177,
          -248.5329930890845,
          -197.77946368388365,
          -157.0732682262599,
          -124.5090099945445,
          -98.52069259864705,
          -77.82703736441965,
          -61.3840665895593,
          -48.344421388624156,
          -38.02278076385224,
          -29.866707731296405,
          -23.43225040029595,
          -18.363656415082417,
          -14.37660712583222,
          -11.244435137558462,
          -8.786849686559517,
          -6.860754642629141,
          -5.352801255736894,
          -4.17337052803779,
          -3.2517275177668115,
          -2.532131720422992,
          -1.9707240254740466,
          -1.5330419358972058,
          -1.1920412114674317,
          -0.9265243616385366,
          -0.7198949895481643,
          -0.559172377834205,
          -0.43421337679871996,
          -0.33709902848566564,
          -0.26165181106208024,
          -0.20305624089389518,
          -0.1575611057624826,
          -0.12224605674404643,
          -0.09483885943795123,
          -0.07357246144534813,
          -0.05707331102722257,
          -0.04427417276686718
         ],
         "yaxis": "y2"
        },
        {
         "name": "EUA Jun24 50P",
         "type": "scatter",
         "x": [
          30,
          31,
          32,
          33,
          34,
          35,
          36,
          37,
          38,
          39,
          40,
          41,
          42,
          43,
          44,
          45,
          46,
          47,
          48,
          49,
          50,
          51,
          52,
          53,
          54,
          55,
          56,
          57,
          58,
          59,
          60,
          61,
          62,
          63,
          64,
          65,
          66,
          67,
          68,
          69,
          70,
          71,
          72,
          73,
          74,
          75,
          76,
          77,
          78,
          79,
          80,
          81,
          82,
          83,
          84,
          85,
          86,
          87,
          88,
          89,
          90,
          91,
          92,
          93,
          94,
          95,
          96,
          97,
          98,
          99,
          100
         ],
         "xaxis": "x",
         "y": [
          -1535105.7788571445,
          -1452969.5764648516,
          -1370961.6161294447,
          -1289161.5460923018,
          -1207682.257872441,
          -1126675.9577900567,
          -1046338.4342669612,
          -966910.5721924151,
          -888676.406595518,
          -811957.3908270918,
          -737103.0136933256,
          -664478.3551280447,
          -594449.5448257253,
          -527368.3264351867,
          -463557.0040763867,
          -403294.9612058369,
          -346807.72275926155,
          -294259.22487164754,
          -245747.61302812773,
          -201304.5565537093,
          -160897.78220430305,
          -124436.31614492033,
          -91777.79181262599,
          -62737.12906493056,
          -37095.90675135545,
          -14611.820292688084,
          4972.2800367349255,
          21920.152952123935,
          36494.990856217424,
          48953.448627891536,
          59540.92031682225,
          68488.02819728796,
          76008.23042502215,
          82296.4154247903,
          87528.33063817369,
          91860.68714775455,
          95431.78649966701,
          98362.52845374493,
          100757.67547191447,
          102707.2691011318,
          104288.11316115694,
          105565.25748268852,
          106593.43299603101,
          107418.40376543636,
          108078.21391616936,
          108604.31734070755,
          109022.58576997787,
          109354.19651176082,
          109616.40518705078,
          109823.2114381254,
          109985.92712599991,
          110113.65723751229,
          110213.7038060047,
          110291.90279939245,
          110352.90329436702,
          110400.39745162378,
          110437.3089217874,
          110465.94640857373,
          110488.12823850512,
          110505.28296371724,
          110518.53027276482,
          110528.74581185081,
          110536.6129274249,
          110542.66382822946,
          110547.31222553313,
          110550.87913793279,
          110553.61323439583,
          110555.70682878928,
          110557.30842382337,
          110558.53252551713,
          110559.46730493972
         ],
         "yaxis": "y"
        },
        {
         "name": "EUA Jun24 50P",
         "type": "scatter",
         "x": [
          30,
          31,
          32,
          33,
          34,
          35,
          36,
          37,
          38,
          39,
          40,
          41,
          42,
          43,
          44,
          45,
          46,
          47,
          48,
          49,
          50,
          51,
          52,
          53,
          54,
          55,
          56,
          57,
          58,
          59,
          60,
          61,
          62,
          63,
          64,
          65,
          66,
          67,
          68,
          69,
          70,
          71,
          72,
          73,
          74,
          75,
          76,
          77,
          78,
          79,
          80,
          81,
          82,
          83,
          84,
          85,
          86,
          87,
          88,
          89,
          90,
          91,
          92,
          93,
          94,
          95,
          96,
          97,
          98,
          99,
          100
         ],
         "xaxis": "x2",
         "y": [
          49932.53871584837,
          49873.12156847455,
          49774.03048396979,
          49617.12137653742,
          49380.220439664874,
          49037.90992759508,
          48562.92837875661,
          47928.09096406694,
          47108.53506220468,
          46084.027422005136,
          44841.04682668444,
          43374.383140879196,
          41688.062163886796,
          39795.50021836249,
          37718.894053315285,
          35487.942897447414,
          33138.06742234428,
          30708.32823575951,
          28239.25377757553,
          25770.76852620479,
          23340.37469309578,
          20981.692647369215,
          18723.415211681444,
          16588.685132675473,
          14594.867751301383,
          12753.66431146716,
          11071.495724305514,
          9550.080856634535,
          8187.135610628126,
          6977.126934161193,
          5912.027205111125,
          4982.027209429163,
          4176.178643007955,
          3482.948631578936,
          2890.678532500096,
          2387.946970922095,
          1963.8426594375924,
          1608.1562315542308,
          1311.5023714378283,
          1065.3842784501544,
          862.2122990591118,
          695.2876954972431,
          558.7612587836521,
          447.5750194285533,
          357.39381624204094,
          284.53205908803847,
          225.87973250774996,
          178.8305698803172,
          141.21439479369835,
          111.23487383606357,
          87.4133388922671,
          68.53889718840821,
          53.62473127192291,
          41.870276281880116,
          32.628827159114635,
          25.3800551176353,
          19.706884735198884,
          15.276187210849779,
          11.82277111578256,
          9.136191136344118,
          7.049941715331354,
          5.432651669529109,
          4.18094468708774,
          3.2136770378388135,
          2.4673066220559647,
          1.8921859892773174,
          1.4496059534185868,
          1.1094459751004315,
          0.8483128226599579,
          0.6480705146361121,
          0.49468259466500797
         ],
         "yaxis": "y2"
        },
        {
         "name": "EUA Jun24 65C",
         "type": "scatter",
         "x": [
          30,
          31,
          32,
          33,
          34,
          35,
          36,
          37,
          38,
          39,
          40,
          41,
          42,
          43,
          44,
          45,
          46,
          47,
          48,
          49,
          50,
          51,
          52,
          53,
          54,
          55,
          56,
          57,
          58,
          59,
          60,
          61,
          62,
          63,
          64,
          65,
          66,
          67,
          68,
          69,
          70,
          71,
          72,
          73,
          74,
          75,
          76,
          77,
          78,
          79,
          80,
          81,
          82,
          83,
          84,
          85,
          86,
          87,
          88,
          89,
          90,
          91,
          92,
          93,
          94,
          95,
          96,
          97,
          98,
          99,
          100
         ],
         "xaxis": "x",
         "y": [
          193149.3864706155,
          193149.38318927813,
          193149.37167665665,
          193149.33469016623,
          193149.22513807222,
          193148.9241296426,
          193148.15263446924,
          193146.29878079897,
          193142.1031460524,
          193133.12232508083,
          193114.87117677537,
          193079.53330878788,
          193014.135657348,
          192898.11380717414,
          192700.25409130368,
          192375.0850933021,
          191858.89670847508,
          191065.67471109846,
          189883.33384021337,
          188170.69309915722,
          185755.6471297201,
          182434.93829801618,
          177975.82622729678,
          172119.79556293035,
          164588.25759716143,
          155090.01076031756,
          143330.05343014598,
          129019.21130146009,
          111883.96555990787,
          91675.85397854152,
          68179.86301029331,
          41221.32585460295,
          10670.974968713674,
          -23552.049448540303,
          -61479.27797266154,
          -103093.9775733563,
          -148333.9857426408,
          -197096.00725070774,
          -249241.01468198936,
          -304600.374306669,
          -362982.3286733697,
          -424178.5006514372,
          -487970.13363560283,
          -554133.8423165063,
          -622446.711503066,
          -692690.6417185155,
          -764655.8957486819,
          -838143.8474139788,
          -912968.9712253172,
          -988960.1389789291,
          -1065961.307263809,
          -1143831.6893737991,
          -1222445.507635507,
          -1301691.4192137853,
          -1381471.7015462224,
          -1461701.2740652326,
          -1542306.621973344,
          -1623224.6765008823,
          -1704401.6950220014,
          -1785792.1741461328,
          -1867357.8197611624,
          -1949066.5901498708,
          -2030891.8217796078,
          -2112811.442135307,
          -2194807.26992675,
          -2276864.400015089,
          -2358970.668317864,
          -2441116.1906091166,
          -2523292.96838331,
          -2605494.5546629066,
          -2687715.772681454
         ],
         "yaxis": "y"
        },
        {
         "name": "EUA Jun24 65C",
         "type": "scatter",
         "x": [
          30,
          31,
          32,
          33,
          34,
          35,
          36,
          37,
          38,
          39,
          40,
          41,
          42,
          43,
          44,
          45,
          46,
          47,
          48,
          49,
          50,
          51,
          52,
          53,
          54,
          55,
          56,
          57,
          58,
          59,
          60,
          61,
          62,
          63,
          64,
          65,
          66,
          67,
          68,
          69,
          70,
          71,
          72,
          73,
          74,
          75,
          76,
          77,
          78,
          79,
          80,
          81,
          82,
          83,
          84,
          85,
          86,
          87,
          88,
          89,
          90,
          91,
          92,
          93,
          94,
          95,
          96,
          97,
          98,
          99,
          100
         ],
         "xaxis": "x2",
         "y": [
          -0.0009564079671697198,
          -0.003551627201755684,
          -0.012015254527188912,
          -0.037306120818114054,
          -0.10701906089014378,
          -0.28535302975430626,
          -0.71104963356287,
          -1.6639827307711785,
          -3.6734162304706044,
          -7.681265350545931,
          -15.270484521241615,
          -28.960792210071652,
          -52.56109912641678,
          -91.55141875935354,
          -153.44943511190513,
          -248.10217592795425,
          -387.83560990370165,
          -587.3978933140529,
          -863.6470528976026,
          -1234.9602504320096,
          -1720.3760531809828,
          -2338.518033646042,
          -3106.381401895047,
          -4038.088533281886,
          -5143.730082656733,
          -6428.404108342861,
          -7891.547066645347,
          -9526.620736668492,
          -11321.182691104965,
          -13257.330055614391,
          -15312.471917348958,
          -17460.3587453949,
          -19672.279992293432,
          -21918.334470017697,
          -24168.681486938516,
          -26394.69232345297,
          -28569.938959998675,
          -30670.977364905204,
          -32677.903564680157,
          -34574.68005006485,
          -36349.2463008782,
          -37993.4394593991,
          -39502.75915372307,
          -40876.01436103203,
          -42114.89054525583,
          -43223.47284915633,
          -44207.75669062813,
          -45075.171506423736,
          -45834.13730769167,
          -46493.66772775309,
          -47063.027767620544,
          -47551.44974421972,
          -47967.907154123066,
          -48320.94330960424,
          -48618.54963317453,
          -48868.08730879569,
          -49076.2454514928,
          -49249.02893120687,
          -49391.76933468302,
          -49509.153147655736,
          -49605.261983909615,
          -49683.62049406913,
          -49747.24839183661,
          -49798.71379424176,
          -49840.18575676813,
          -49873.4844785307,
          -49900.12815157981,
          -49921.375833746235,
          -49938.26604292221,
          -49951.651011893446,
          -49962.22671777549
         ],
         "yaxis": "y2"
        },
        {
         "name": "EUA Jun24 75C",
         "type": "scatter",
         "x": [
          30,
          31,
          32,
          33,
          34,
          35,
          36,
          37,
          38,
          39,
          40,
          41,
          42,
          43,
          44,
          45,
          46,
          47,
          48,
          49,
          50,
          51,
          52,
          53,
          54,
          55,
          56,
          57,
          58,
          59,
          60,
          61,
          62,
          63,
          64,
          65,
          66,
          67,
          68,
          69,
          70,
          71,
          72,
          73,
          74,
          75,
          76,
          77,
          78,
          79,
          80,
          81,
          82,
          83,
          84,
          85,
          86,
          87,
          88,
          89,
          90,
          91,
          92,
          93,
          94,
          95,
          96,
          97,
          98,
          99,
          100
         ],
         "xaxis": "x",
         "y": [
          -49470.70640965446,
          -49470.70640333401,
          -49470.70637533334,
          -49470.706262603635,
          -49470.70584717853,
          -49470.70443670195,
          -49470.69999831872,
          -49470.686984689455,
          -49470.651257029866,
          -49470.559005375515,
          -49470.33406272587,
          -49469.81417004405,
          -49468.67133565709,
          -49466.27446293439,
          -49461.464341136656,
          -49452.20292244371,
          -49435.052170619594,
          -49404.434785463316,
          -49351.6320981764,
          -49263.48544462395,
          -49120.78759308228,
          -48896.38025158337,
          -48553.01058366519,
          -48041.04061054167,
          -47296.14357733187,
          -46237.15525046012,
          -44764.270205488814,
          -42757.77894999511,
          -40077.52846755431,
          -36563.25603408217,
          -32035.89598866952,
          -26299.895833851166,
          -19146.50758196523,
          -10357.94953343286,
          287.7304576212306,
          13011.31068538731,
          28026.825119417237,
          45536.03637695913,
          65723.21644935789,
          88750.47563491295,
          114753.84087250121,
          143840.2342709614,
          176085.44590926185,
          211533.1367810531,
          250194.85246780753,
          292050.97934967064,
          337052.5355036254,
          385123.65942010557,
          436164.6417832465,
          490055.3383966772,
          546658.8047745037,
          605825.0033411753,
          667394.4507037859,
          731201.6931076152,
          797078.5210771015,
          864856.8577030618,
          934371.2776707503,
          1005461.1348642748,
          1077972.2944909032,
          1151758.480712165,
          1226682.2625837417,
          1302615.7097489059,
          1379440.7550225912,
          1457049.3040811697,
          1535343.1333394607,
          1614233.6161816176,
          1693641.3154410569,
          1773495.4767936964,
          1853733.4538908266,
          1934300.0919133823,
          2015147.0920212958
         ],
         "yaxis": "y"
        },
        {
         "name": "EUA Jun24 75C",
         "type": "scatter",
         "x": [
          30,
          31,
          32,
          33,
          34,
          35,
          36,
          37,
          38,
          39,
          40,
          41,
          42,
          43,
          44,
          45,
          46,
          47,
          48,
          49,
          50,
          51,
          52,
          53,
          54,
          55,
          56,
          57,
          58,
          59,
          60,
          61,
          62,
          63,
          64,
          65,
          66,
          67,
          68,
          69,
          70,
          71,
          72,
          73,
          74,
          75,
          76,
          77,
          78,
          79,
          80,
          81,
          82,
          83,
          84,
          85,
          86,
          87,
          88,
          89,
          90,
          91,
          92,
          93,
          94,
          95,
          96,
          97,
          98,
          99,
          100
         ],
         "xaxis": "x2",
         "y": [
          1.5882534049524075e-06,
          7.497965293012458e-06,
          3.19856302396168e-05,
          0.00012427408486510576,
          0.0004428937255912377,
          0.0014570939200322431,
          0.0044509666520579205,
          0.012690403025390094,
          0.03393277639817879,
          0.08546171046957574,
          0.20354213013666192,
          0.46009199838293996,
          0.9903527539205476,
          2.036202150810938,
          4.010180875552404,
          7.584926029294209,
          13.811166310777919,
          24.264507594836118,
          41.21693245090456,
          67.82357802916655,
          108.30960095193586,
          168.13670912740724,
          254.12528396624927,
          374.5069005222356,
          538.884159716259,
          758.0803014753545,
          1043.8697487460765,
          1408.5916848509728,
          1864.6607189020285,
          2424.0001544459046,
          3097.43287016998,
          3894.0711194821615,
          4820.748856359363,
          5881.538226635688,
          7077.3858995317605,
          8405.895700660187,
          9861.272632910795,
          11434.431095913647,
          13113.258197429528,
          14883.012596787987,
          16726.831171457896,
          18626.31046471336,
          20562.127525792705,
          22514.665253850882,
          24464.610314277983,
          26393.496552026092,
          28284.172937528223,
          30121.181795063367,
          31891.039785484743,
          33582.4203507688,
          35186.2417095375,
          36695.66878810176,
          38106.04057621595,
          39414.73631674831,
          40620.99476680502,
          41725.700658043585,
          42731.15162462674,
          43640.81745969777,
          44459.10180091392,
          45191.114408933856,
          45842.46023874963,
          46419.04962955929,
          46926.93223926459,
          47372.15587901255,
          47760.65018921013,
          48098.13414699759,
          48390.045695374116,
          48641.49131332407,
          48857.213074334315,
          49041.57063396639,
          49198.53561139266
         ],
         "yaxis": "y2"
        },
        {
         "mode": "lines",
         "name": "Total_PnL",
         "type": "scatter",
         "x": [
          30,
          31,
          32,
          33,
          34,
          35,
          36,
          37,
          38,
          39,
          40,
          41,
          42,
          43,
          44,
          45,
          46,
          47,
          48,
          49,
          50,
          51,
          52,
          53,
          54,
          55,
          56,
          57,
          58,
          59,
          60,
          61,
          62,
          63,
          64,
          65,
          66,
          67,
          68,
          69,
          70,
          71,
          72,
          73,
          74,
          75,
          76,
          77,
          78,
          79,
          80,
          81,
          82,
          83,
          84,
          85,
          86,
          87,
          88,
          89,
          90,
          91,
          92,
          93,
          94,
          95,
          96,
          97,
          98,
          99,
          100
         ],
         "xaxis": "x",
         "y": [
          -576377.9945026827,
          -568357.7368045271,
          -557845.1557503777,
          -544496.7257578634,
          -528036.7323158253,
          -508282.54878105485,
          -485164.03722640424,
          -458735.1808397746,
          -429176.97114291164,
          -396791.561319186,
          -361988.6213907156,
          -325265.575942187,
          -287183.88884977245,
          -248343.74293119615,
          -209359.35069730264,
          -170836.76994709752,
          -133355.55865029828,
          -97454.97733575632,
          -63624.825822923915,
          -32300.46515675806,
          -3861.1843139053817,
          21369.14326014578,
          43120.202315620365,
          61173.14219066004,
          75358.96923325036,
          85557.83918952136,
          91699.34243685653,
          93763.58865450369,
          91782.68167072214,
          85842.05044918368,
          76081.07358551543,
          62692.493633868486,
          45920.245108005096,
          26055.491078091967,
          3430.8511553685207,
          -21587.016417145736,
          -48606.16382121091,
          -77219.0085479884,
          -107012.40636971095,
          -137577.64069859637,
          -168519.8562296487,
          -199466.52933011655,
          -230074.65655356974,
          -260036.44478541985,
          -289083.3914636956,
          -316988.74227776175,
          -343568.40008031554,
          -368680.42812489654,
          -392223.3410564246,
          -414133.408164532,
          -434381.2066137447,
          -452967.66012062726,
          -469919.7839187019,
          -485286.3331430126,
          -499133.5222106754,
          -511540.9503014914,
          -522597.8351320947,
          -532399.6258211896,
          -541045.0371777401,
          -548633.5231163874,
          -555263.1865798768,
          -561029.1074260441,
          -566022.0580361672,
          -570327.5685436518,
          -574025.2990653936,
          -577188.6745793531,
          -579884.7385583364,
          -582174.1835932725,
          -584111.5205245684,
          -585745.3516167079,
          -587118.7177031678
         ],
         "yaxis": "y"
        },
        {
         "mode": "lines",
         "name": "Total_Delta",
         "type": "scatter",
         "x": [
          30,
          31,
          32,
          33,
          34,
          35,
          36,
          37,
          38,
          39,
          40,
          41,
          42,
          43,
          44,
          45,
          46,
          47,
          48,
          49,
          50,
          51,
          52,
          53,
          54,
          55,
          56,
          57,
          58,
          59,
          60,
          61,
          62,
          63,
          64,
          65,
          66,
          67,
          68,
          69,
          70,
          71,
          72,
          73,
          74,
          75,
          76,
          77,
          78,
          79,
          80,
          81,
          82,
          83,
          84,
          85,
          86,
          87,
          88,
          89,
          90,
          91,
          92,
          93,
          94,
          95,
          96,
          97,
          98,
          99,
          100
         ],
         "xaxis": "x2",
         "y": [
          4192.33149845246,
          5592.8543769593,
          7216.996274386726,
          9032.04527589414,
          10988.645858054871,
          13023.636579975035,
          15064.280020391838,
          17033.37881725881,
          18854.685216870286,
          20458.010040137626,
          21783.51366259622,
          22784.799507826636,
          23430.60566987288,
          23705.07554504029,
          23606.757762789115,
          23146.61794160939,
          22345.42583819517,
          21230.905875786153,
          19835.009899535096,
          18191.598560589395,
          16334.71715822442,
          14297.540442877746,
          12111.955581833949,
          9808.66701368726,
          7417.650431968239,
          4968.759429075352,
          2492.295989435068,
          19.38939545738276,
          -2417.9212248289177,
          -4786.9470660331535,
          -7054.941827734092,
          -9189.966943329864,
          -11161.93643528707,
          -12943.729674703749,
          -14512.258002047478,
          -15849.382644959775,
          -16942.603131334174,
          -17785.463305663587,
          -18377.652005807344,
          -18724.803867425362,
          -18838.029867725614,
          -18733.22536577806,
          -18430.214790535334,
          -17951.79686851645,
          -17322.753122467104,
          -16568.876488442493,
          -15716.067677007239,
          -14789.535748605882,
          -13813.127562550788,
          -12808.799352834787,
          -11796.23347383341,
          -10792.594860185287,
          -9812.41521716323,
          -8867.588444091816,
          -7967.458170930819,
          -7118.977319659949,
          -6326.919984066757,
          -5594.1273255097185,
          -4921.771287014955,
          -4309.622442575084,
          -3756.310975822489,
          -3259.5724262171134,
          -2816.4723069134197,
          -2423.6058900024364,
          -2077.271317176841,
          -1773.6157066495944,
          -1508.755096309018,
          -1278.869913306502,
          -1080.278228226678,
          -909.4893807234475,
          -763.2406979609295
         ],
         "yaxis": "y2"
        }
       ],
       "layout": {
        "barmode": "stack",
        "template": {
         "data": {
          "bar": [
           {
            "error_x": {
             "color": "#2a3f5f"
            },
            "error_y": {
             "color": "#2a3f5f"
            },
            "marker": {
             "line": {
              "color": "#E5ECF6",
              "width": 0.5
             },
             "pattern": {
              "fillmode": "overlay",
              "size": 10,
              "solidity": 0.2
             }
            },
            "type": "bar"
           }
          ],
          "barpolar": [
           {
            "marker": {
             "line": {
              "color": "#E5ECF6",
              "width": 0.5
             },
             "pattern": {
              "fillmode": "overlay",
              "size": 10,
              "solidity": 0.2
             }
            },
            "type": "barpolar"
           }
          ],
          "carpet": [
           {
            "aaxis": {
             "endlinecolor": "#2a3f5f",
             "gridcolor": "white",
             "linecolor": "white",
             "minorgridcolor": "white",
             "startlinecolor": "#2a3f5f"
            },
            "baxis": {
             "endlinecolor": "#2a3f5f",
             "gridcolor": "white",
             "linecolor": "white",
             "minorgridcolor": "white",
             "startlinecolor": "#2a3f5f"
            },
            "type": "carpet"
           }
          ],
          "choropleth": [
           {
            "colorbar": {
             "outlinewidth": 0,
             "ticks": ""
            },
            "type": "choropleth"
           }
          ],
          "contour": [
           {
            "colorbar": {
             "outlinewidth": 0,
             "ticks": ""
            },
            "colorscale": [
             [
              0,
              "#0d0887"
             ],
             [
              0.1111111111111111,
              "#46039f"
             ],
             [
              0.2222222222222222,
              "#7201a8"
             ],
             [
              0.3333333333333333,
              "#9c179e"
             ],
             [
              0.4444444444444444,
              "#bd3786"
             ],
             [
              0.5555555555555556,
              "#d8576b"
             ],
             [
              0.6666666666666666,
              "#ed7953"
             ],
             [
              0.7777777777777778,
              "#fb9f3a"
             ],
             [
              0.8888888888888888,
              "#fdca26"
             ],
             [
              1,
              "#f0f921"
             ]
            ],
            "type": "contour"
           }
          ],
          "contourcarpet": [
           {
            "colorbar": {
             "outlinewidth": 0,
             "ticks": ""
            },
            "type": "contourcarpet"
           }
          ],
          "heatmap": [
           {
            "colorbar": {
             "outlinewidth": 0,
             "ticks": ""
            },
            "colorscale": [
             [
              0,
              "#0d0887"
             ],
             [
              0.1111111111111111,
              "#46039f"
             ],
             [
              0.2222222222222222,
              "#7201a8"
             ],
             [
              0.3333333333333333,
              "#9c179e"
             ],
             [
              0.4444444444444444,
              "#bd3786"
             ],
             [
              0.5555555555555556,
              "#d8576b"
             ],
             [
              0.6666666666666666,
              "#ed7953"
             ],
             [
              0.7777777777777778,
              "#fb9f3a"
             ],
             [
              0.8888888888888888,
              "#fdca26"
             ],
             [
              1,
              "#f0f921"
             ]
            ],
            "type": "heatmap"
           }
          ],
          "heatmapgl": [
           {
            "colorbar": {
             "outlinewidth": 0,
             "ticks": ""
            },
            "colorscale": [
             [
              0,
              "#0d0887"
             ],
             [
              0.1111111111111111,
              "#46039f"
             ],
             [
              0.2222222222222222,
              "#7201a8"
             ],
             [
              0.3333333333333333,
              "#9c179e"
             ],
             [
              0.4444444444444444,
              "#bd3786"
             ],
             [
              0.5555555555555556,
              "#d8576b"
             ],
             [
              0.6666666666666666,
              "#ed7953"
             ],
             [
              0.7777777777777778,
              "#fb9f3a"
             ],
             [
              0.8888888888888888,
              "#fdca26"
             ],
             [
              1,
              "#f0f921"
             ]
            ],
            "type": "heatmapgl"
           }
          ],
          "histogram": [
           {
            "marker": {
             "pattern": {
              "fillmode": "overlay",
              "size": 10,
              "solidity": 0.2
             }
            },
            "type": "histogram"
           }
          ],
          "histogram2d": [
           {
            "colorbar": {
             "outlinewidth": 0,
             "ticks": ""
            },
            "colorscale": [
             [
              0,
              "#0d0887"
             ],
             [
              0.1111111111111111,
              "#46039f"
             ],
             [
              0.2222222222222222,
              "#7201a8"
             ],
             [
              0.3333333333333333,
              "#9c179e"
             ],
             [
              0.4444444444444444,
              "#bd3786"
             ],
             [
              0.5555555555555556,
              "#d8576b"
             ],
             [
              0.6666666666666666,
              "#ed7953"
             ],
             [
              0.7777777777777778,
              "#fb9f3a"
             ],
             [
              0.8888888888888888,
              "#fdca26"
             ],
             [
              1,
              "#f0f921"
             ]
            ],
            "type": "histogram2d"
           }
          ],
          "histogram2dcontour": [
           {
            "colorbar": {
             "outlinewidth": 0,
             "ticks": ""
            },
            "colorscale": [
             [
              0,
              "#0d0887"
             ],
             [
              0.1111111111111111,
              "#46039f"
             ],
             [
              0.2222222222222222,
              "#7201a8"
             ],
             [
              0.3333333333333333,
              "#9c179e"
             ],
             [
              0.4444444444444444,
              "#bd3786"
             ],
             [
              0.5555555555555556,
              "#d8576b"
             ],
             [
              0.6666666666666666,
              "#ed7953"
             ],
             [
              0.7777777777777778,
              "#fb9f3a"
             ],
             [
              0.8888888888888888,
              "#fdca26"
             ],
             [
              1,
              "#f0f921"
             ]
            ],
            "type": "histogram2dcontour"
           }
          ],
          "mesh3d": [
           {
            "colorbar": {
             "outlinewidth": 0,
             "ticks": ""
            },
            "type": "mesh3d"
           }
          ],
          "parcoords": [
           {
            "line": {
             "colorbar": {
              "outlinewidth": 0,
              "ticks": ""
             }
            },
            "type": "parcoords"
           }
          ],
          "pie": [
           {
            "automargin": true,
            "type": "pie"
           }
          ],
          "scatter": [
           {
            "fillpattern": {
             "fillmode": "overlay",
             "size": 10,
             "solidity": 0.2
            },
            "type": "scatter"
           }
          ],
          "scatter3d": [
           {
            "line": {
             "colorbar": {
              "outlinewidth": 0,
              "ticks": ""
             }
            },
            "marker": {
             "colorbar": {
              "outlinewidth": 0,
              "ticks": ""
             }
            },
            "type": "scatter3d"
           }
          ],
          "scattercarpet": [
           {
            "marker": {
             "colorbar": {
              "outlinewidth": 0,
              "ticks": ""
             }
            },
            "type": "scattercarpet"
           }
          ],
          "scattergeo": [
           {
            "marker": {
             "colorbar": {
              "outlinewidth": 0,
              "ticks": ""
             }
            },
            "type": "scattergeo"
           }
          ],
          "scattergl": [
           {
            "marker": {
             "colorbar": {
              "outlinewidth": 0,
              "ticks": ""
             }
            },
            "type": "scattergl"
           }
          ],
          "scattermapbox": [
           {
            "marker": {
             "colorbar": {
              "outlinewidth": 0,
              "ticks": ""
             }
            },
            "type": "scattermapbox"
           }
          ],
          "scatterpolar": [
           {
            "marker": {
             "colorbar": {
              "outlinewidth": 0,
              "ticks": ""
             }
            },
            "type": "scatterpolar"
           }
          ],
          "scatterpolargl": [
           {
            "marker": {
             "colorbar": {
              "outlinewidth": 0,
              "ticks": ""
             }
            },
            "type": "scatterpolargl"
           }
          ],
          "scatterternary": [
           {
            "marker": {
             "colorbar": {
              "outlinewidth": 0,
              "ticks": ""
             }
            },
            "type": "scatterternary"
           }
          ],
          "surface": [
           {
            "colorbar": {
             "outlinewidth": 0,
             "ticks": ""
            },
            "colorscale": [
             [
              0,
              "#0d0887"
             ],
             [
              0.1111111111111111,
              "#46039f"
             ],
             [
              0.2222222222222222,
              "#7201a8"
             ],
             [
              0.3333333333333333,
              "#9c179e"
             ],
             [
              0.4444444444444444,
              "#bd3786"
             ],
             [
              0.5555555555555556,
              "#d8576b"
             ],
             [
              0.6666666666666666,
              "#ed7953"
             ],
             [
              0.7777777777777778,
              "#fb9f3a"
             ],
             [
              0.8888888888888888,
              "#fdca26"
             ],
             [
              1,
              "#f0f921"
             ]
            ],
            "type": "surface"
           }
          ],
          "table": [
           {
            "cells": {
             "fill": {
              "color": "#EBF0F8"
             },
             "line": {
              "color": "white"
             }
            },
            "header": {
             "fill": {
              "color": "#C8D4E3"
             },
             "line": {
              "color": "white"
             }
            },
            "type": "table"
           }
          ]
         },
         "layout": {
          "annotationdefaults": {
           "arrowcolor": "#2a3f5f",
           "arrowhead": 0,
           "arrowwidth": 1
          },
          "autotypenumbers": "strict",
          "coloraxis": {
           "colorbar": {
            "outlinewidth": 0,
            "ticks": ""
           }
          },
          "colorscale": {
           "diverging": [
            [
             0,
             "#8e0152"
            ],
            [
             0.1,
             "#c51b7d"
            ],
            [
             0.2,
             "#de77ae"
            ],
            [
             0.3,
             "#f1b6da"
            ],
            [
             0.4,
             "#fde0ef"
            ],
            [
             0.5,
             "#f7f7f7"
            ],
            [
             0.6,
             "#e6f5d0"
            ],
            [
             0.7,
             "#b8e186"
            ],
            [
             0.8,
             "#7fbc41"
            ],
            [
             0.9,
             "#4d9221"
            ],
            [
             1,
             "#276419"
            ]
           ],
           "sequential": [
            [
             0,
             "#0d0887"
            ],
            [
             0.1111111111111111,
             "#46039f"
            ],
            [
             0.2222222222222222,
             "#7201a8"
            ],
            [
             0.3333333333333333,
             "#9c179e"
            ],
            [
             0.4444444444444444,
             "#bd3786"
            ],
            [
             0.5555555555555556,
             "#d8576b"
            ],
            [
             0.6666666666666666,
             "#ed7953"
            ],
            [
             0.7777777777777778,
             "#fb9f3a"
            ],
            [
             0.8888888888888888,
             "#fdca26"
            ],
            [
             1,
             "#f0f921"
            ]
           ],
           "sequentialminus": [
            [
             0,
             "#0d0887"
            ],
            [
             0.1111111111111111,
             "#46039f"
            ],
            [
             0.2222222222222222,
             "#7201a8"
            ],
            [
             0.3333333333333333,
             "#9c179e"
            ],
            [
             0.4444444444444444,
             "#bd3786"
            ],
            [
             0.5555555555555556,
             "#d8576b"
            ],
            [
             0.6666666666666666,
             "#ed7953"
            ],
            [
             0.7777777777777778,
             "#fb9f3a"
            ],
            [
             0.8888888888888888,
             "#fdca26"
            ],
            [
             1,
             "#f0f921"
            ]
           ]
          },
          "colorway": [
           "#636efa",
           "#EF553B",
           "#00cc96",
           "#ab63fa",
           "#FFA15A",
           "#19d3f3",
           "#FF6692",
           "#B6E880",
           "#FF97FF",
           "#FECB52"
          ],
          "font": {
           "color": "#2a3f5f"
          },
          "geo": {
           "bgcolor": "white",
           "lakecolor": "white",
           "landcolor": "#E5ECF6",
           "showlakes": true,
           "showland": true,
           "subunitcolor": "white"
          },
          "hoverlabel": {
           "align": "left"
          },
          "hovermode": "closest",
          "mapbox": {
           "style": "light"
          },
          "paper_bgcolor": "white",
          "plot_bgcolor": "#E5ECF6",
          "polar": {
           "angularaxis": {
            "gridcolor": "white",
            "linecolor": "white",
            "ticks": ""
           },
           "bgcolor": "#E5ECF6",
           "radialaxis": {
            "gridcolor": "white",
            "linecolor": "white",
            "ticks": ""
           }
          },
          "scene": {
           "xaxis": {
            "backgroundcolor": "#E5ECF6",
            "gridcolor": "white",
            "gridwidth": 2,
            "linecolor": "white",
            "showbackground": true,
            "ticks": "",
            "zerolinecolor": "white"
           },
           "yaxis": {
            "backgroundcolor": "#E5ECF6",
            "gridcolor": "white",
            "gridwidth": 2,
            "linecolor": "white",
            "showbackground": true,
            "ticks": "",
            "zerolinecolor": "white"
           },
           "zaxis": {
            "backgroundcolor": "#E5ECF6",
            "gridcolor": "white",
            "gridwidth": 2,
            "linecolor": "white",
            "showbackground": true,
            "ticks": "",
            "zerolinecolor": "white"
           }
          },
          "shapedefaults": {
           "line": {
            "color": "#2a3f5f"
           }
          },
          "ternary": {
           "aaxis": {
            "gridcolor": "white",
            "linecolor": "white",
            "ticks": ""
           },
           "baxis": {
            "gridcolor": "white",
            "linecolor": "white",
            "ticks": ""
           },
           "bgcolor": "#E5ECF6",
           "caxis": {
            "gridcolor": "white",
            "linecolor": "white",
            "ticks": ""
           }
          },
          "title": {
           "x": 0.05
          },
          "xaxis": {
           "automargin": true,
           "gridcolor": "white",
           "linecolor": "white",
           "ticks": "",
           "title": {
            "standoff": 15
           },
           "zerolinecolor": "white",
           "zerolinewidth": 2
          },
          "yaxis": {
           "automargin": true,
           "gridcolor": "white",
           "linecolor": "white",
           "ticks": "",
           "title": {
            "standoff": 15
           },
           "zerolinecolor": "white",
           "zerolinewidth": 2
          }
         }
        },
        "title": {
         "text": "Todays Option Pos (PnL and Delta)",
         "x": 0.5,
         "xanchor": "center"
        },
        "xaxis": {
         "anchor": "y",
         "domain": [
          0,
          0.45
         ],
         "title": {
          "text": "Price"
         }
        },
        "xaxis2": {
         "anchor": "y2",
         "domain": [
          0.55,
          1
         ],
         "title": {
          "text": "Price"
         }
        },
        "yaxis": {
         "anchor": "x",
         "domain": [
          0,
          1
         ],
         "title": {
          "text": "Pnl"
         }
        },
        "yaxis2": {
         "anchor": "x2",
         "domain": [
          0,
          1
         ],
         "title": {
          "text": "Delta"
         }
        }
       }
      },
      "text/html": [
       "<div>                            <div id=\"a53a14ae-d789-426f-83c2-3ec7c32edf7c\" class=\"plotly-graph-div\" style=\"height:525px; width:100%;\"></div>            <script type=\"text/javascript\">                require([\"plotly\"], function(Plotly) {                    window.PLOTLYENV=window.PLOTLYENV || {};                                    if (document.getElementById(\"a53a14ae-d789-426f-83c2-3ec7c32edf7c\")) {                    Plotly.newPlot(                        \"a53a14ae-d789-426f-83c2-3ec7c32edf7c\",                        [{\"name\":\"EUA Jun24 40P\",\"x\":[30,31,32,33,34,35,36,37,38,39,40,41,42,43,44,45,46,47,48,49,50,51,52,53,54,55,56,57,58,59,60,61,62,63,64,65,66,67,68,69,70,71,72,73,74,75,76,77,78,79,80,81,82,83,84,85,86,87,88,89,90,91,92,93,94,95,96,97,98,99,100],\"y\":[815049.1042935008,740933.1628743804,669437.7950777437,600986.1919068758,535967.0062657221,474715.1893160612,417496.94440440653,364499.77955653105,315827.9835635838,271503.2661882005,231469.8551885605,195603.06004711386,163720.1916542619,135592.74415975073,110958.86362891702,89535.309087881,71028.31957110782,55143.00761025607,41591.08546316684,30096.883742417973,20401.738353759836,12266.9013586333,5475.178484614763,-168.4836967980809,-4837.2380352237415,-8683.196027648019,-11838.720824535574,-14417.996649085204,-16518.746277848855,-18223.99612316719,-19603.813752930608,-20716.96458417125,-21612.4527037655,-22330.925364725175,-22905.93196776486,-23365.036676931304,-23730.78969765436,-24021.56612798473,-24252.283608993963,-24435.011127972095,-24579.481589937113,-24693.520432329275,-24783.401823259763,-24854.143015402977,-24909.746344606534,-24953.397249624333,-24987.625605236968,-25014.436642784192,-25035.4168014046,-25051.819020405474,-25064.63125043929,-25074.631325515737,-25082.430792985382,-25088.50983623485,-25093.24503592136,-25096.9313909444,-25099.799751288512,-25102.030593155716,-25103.76488514703,-25105.112646136822,-25106.159675221013,-25106.972836929803,-25107.60420657553,-25108.09431774395,-25108.47470363715,-25108.76988381428,-25108.998915924683,-25109.17660664146,-25109.314455908567,-25109.421392700853,-25109.504347949238],\"type\":\"scatter\",\"xaxis\":\"x\",\"yaxis\":\"y\"},{\"name\":\"EUA Jun24 40P\",\"x\":[30,31,32,33,34,35,36,37,38,39,40,41,42,43,44,45,46,47,48,49,50,51,52,53,54,55,56,57,58,59,60,61,62,63,64,65,66,67,68,69,70,71,72,73,74,75,76,77,78,79,80,81,82,83,84,85,86,87,88,89,90,91,92,93,94,95,96,97,98,99,100],\"y\":[-45740.2062625762,-44280.26364738601,-42557.02222631417,-40585.03891879655,-38391.46800544284,-36013.98945168421,-33497.94175969786,-30893.060854480387,-28250.210361880323,-25618.421578227433,-23042.466221697116,-20561.08293284087,-18205.88574764142,-16000.909456713658,-13962.697036289817,-12100.80770593936,-10418.617140556185,-8914.288974254136,-7581.813757593736,-6412.033293212549,-5393.591082642312,-4513.770879972833,-3759.203511918696,-3116.4364862285634,-2572.37139639267,-2114.5810755243024,-1731.5224169711762,-1412.6624093596329,-1148.5348632541081,-930.7440990258598,-751.9299856662387,-605.7065268462891,-486.58394236095745,-389.8820629006761,-311.6409471408177,-248.5329930890845,-197.77946368388365,-157.0732682262599,-124.5090099945445,-98.52069259864705,-77.82703736441965,-61.3840665895593,-48.344421388624156,-38.02278076385224,-29.866707731296405,-23.43225040029595,-18.363656415082417,-14.37660712583222,-11.244435137558462,-8.786849686559517,-6.860754642629141,-5.352801255736894,-4.17337052803779,-3.2517275177668115,-2.532131720422992,-1.9707240254740466,-1.5330419358972058,-1.1920412114674317,-0.9265243616385366,-0.7198949895481643,-0.559172377834205,-0.43421337679871996,-0.33709902848566564,-0.26165181106208024,-0.20305624089389518,-0.1575611057624826,-0.12224605674404643,-0.09483885943795123,-0.07357246144534813,-0.05707331102722257,-0.04427417276686718],\"type\":\"scatter\",\"xaxis\":\"x2\",\"yaxis\":\"y2\"},{\"name\":\"EUA Jun24 50P\",\"x\":[30,31,32,33,34,35,36,37,38,39,40,41,42,43,44,45,46,47,48,49,50,51,52,53,54,55,56,57,58,59,60,61,62,63,64,65,66,67,68,69,70,71,72,73,74,75,76,77,78,79,80,81,82,83,84,85,86,87,88,89,90,91,92,93,94,95,96,97,98,99,100],\"y\":[-1535105.7788571445,-1452969.5764648516,-1370961.6161294447,-1289161.5460923018,-1207682.257872441,-1126675.9577900567,-1046338.4342669612,-966910.5721924151,-888676.406595518,-811957.3908270918,-737103.0136933256,-664478.3551280447,-594449.5448257253,-527368.3264351867,-463557.0040763867,-403294.9612058369,-346807.72275926155,-294259.22487164754,-245747.61302812773,-201304.5565537093,-160897.78220430305,-124436.31614492033,-91777.79181262599,-62737.12906493056,-37095.90675135545,-14611.820292688084,4972.2800367349255,21920.152952123935,36494.990856217424,48953.448627891536,59540.92031682225,68488.02819728796,76008.23042502215,82296.4154247903,87528.33063817369,91860.68714775455,95431.78649966701,98362.52845374493,100757.67547191447,102707.2691011318,104288.11316115694,105565.25748268852,106593.43299603101,107418.40376543636,108078.21391616936,108604.31734070755,109022.58576997787,109354.19651176082,109616.40518705078,109823.2114381254,109985.92712599991,110113.65723751229,110213.7038060047,110291.90279939245,110352.90329436702,110400.39745162378,110437.3089217874,110465.94640857373,110488.12823850512,110505.28296371724,110518.53027276482,110528.74581185081,110536.6129274249,110542.66382822946,110547.31222553313,110550.87913793279,110553.61323439583,110555.70682878928,110557.30842382337,110558.53252551713,110559.46730493972],\"type\":\"scatter\",\"xaxis\":\"x\",\"yaxis\":\"y\"},{\"name\":\"EUA Jun24 50P\",\"x\":[30,31,32,33,34,35,36,37,38,39,40,41,42,43,44,45,46,47,48,49,50,51,52,53,54,55,56,57,58,59,60,61,62,63,64,65,66,67,68,69,70,71,72,73,74,75,76,77,78,79,80,81,82,83,84,85,86,87,88,89,90,91,92,93,94,95,96,97,98,99,100],\"y\":[49932.53871584837,49873.12156847455,49774.03048396979,49617.12137653742,49380.220439664874,49037.90992759508,48562.92837875661,47928.09096406694,47108.53506220468,46084.027422005136,44841.04682668444,43374.383140879196,41688.062163886796,39795.50021836249,37718.894053315285,35487.942897447414,33138.06742234428,30708.32823575951,28239.25377757553,25770.76852620479,23340.37469309578,20981.692647369215,18723.415211681444,16588.685132675473,14594.867751301383,12753.66431146716,11071.495724305514,9550.080856634535,8187.135610628126,6977.126934161193,5912.027205111125,4982.027209429163,4176.178643007955,3482.948631578936,2890.678532500096,2387.946970922095,1963.8426594375924,1608.1562315542308,1311.5023714378283,1065.3842784501544,862.2122990591118,695.2876954972431,558.7612587836521,447.5750194285533,357.39381624204094,284.53205908803847,225.87973250774996,178.8305698803172,141.21439479369835,111.23487383606357,87.4133388922671,68.53889718840821,53.62473127192291,41.870276281880116,32.628827159114635,25.3800551176353,19.706884735198884,15.276187210849779,11.82277111578256,9.136191136344118,7.049941715331354,5.432651669529109,4.18094468708774,3.2136770378388135,2.4673066220559647,1.8921859892773174,1.4496059534185868,1.1094459751004315,0.8483128226599579,0.6480705146361121,0.49468259466500797],\"type\":\"scatter\",\"xaxis\":\"x2\",\"yaxis\":\"y2\"},{\"name\":\"EUA Jun24 65C\",\"x\":[30,31,32,33,34,35,36,37,38,39,40,41,42,43,44,45,46,47,48,49,50,51,52,53,54,55,56,57,58,59,60,61,62,63,64,65,66,67,68,69,70,71,72,73,74,75,76,77,78,79,80,81,82,83,84,85,86,87,88,89,90,91,92,93,94,95,96,97,98,99,100],\"y\":[193149.3864706155,193149.38318927813,193149.37167665665,193149.33469016623,193149.22513807222,193148.9241296426,193148.15263446924,193146.29878079897,193142.1031460524,193133.12232508083,193114.87117677537,193079.53330878788,193014.135657348,192898.11380717414,192700.25409130368,192375.0850933021,191858.89670847508,191065.67471109846,189883.33384021337,188170.69309915722,185755.6471297201,182434.93829801618,177975.82622729678,172119.79556293035,164588.25759716143,155090.01076031756,143330.05343014598,129019.21130146009,111883.96555990787,91675.85397854152,68179.86301029331,41221.32585460295,10670.974968713674,-23552.049448540303,-61479.27797266154,-103093.9775733563,-148333.9857426408,-197096.00725070774,-249241.01468198936,-304600.374306669,-362982.3286733697,-424178.5006514372,-487970.13363560283,-554133.8423165063,-622446.711503066,-692690.6417185155,-764655.8957486819,-838143.8474139788,-912968.9712253172,-988960.1389789291,-1065961.307263809,-1143831.6893737991,-1222445.507635507,-1301691.4192137853,-1381471.7015462224,-1461701.2740652326,-1542306.621973344,-1623224.6765008823,-1704401.6950220014,-1785792.1741461328,-1867357.8197611624,-1949066.5901498708,-2030891.8217796078,-2112811.442135307,-2194807.26992675,-2276864.400015089,-2358970.668317864,-2441116.1906091166,-2523292.96838331,-2605494.5546629066,-2687715.772681454],\"type\":\"scatter\",\"xaxis\":\"x\",\"yaxis\":\"y\"},{\"name\":\"EUA Jun24 65C\",\"x\":[30,31,32,33,34,35,36,37,38,39,40,41,42,43,44,45,46,47,48,49,50,51,52,53,54,55,56,57,58,59,60,61,62,63,64,65,66,67,68,69,70,71,72,73,74,75,76,77,78,79,80,81,82,83,84,85,86,87,88,89,90,91,92,93,94,95,96,97,98,99,100],\"y\":[-0.0009564079671697198,-0.003551627201755684,-0.012015254527188912,-0.037306120818114054,-0.10701906089014378,-0.28535302975430626,-0.71104963356287,-1.6639827307711785,-3.6734162304706044,-7.681265350545931,-15.270484521241615,-28.960792210071652,-52.56109912641678,-91.55141875935354,-153.44943511190513,-248.10217592795425,-387.83560990370165,-587.3978933140529,-863.6470528976026,-1234.9602504320096,-1720.3760531809828,-2338.518033646042,-3106.381401895047,-4038.088533281886,-5143.730082656733,-6428.404108342861,-7891.547066645347,-9526.620736668492,-11321.182691104965,-13257.330055614391,-15312.471917348958,-17460.3587453949,-19672.279992293432,-21918.334470017697,-24168.681486938516,-26394.69232345297,-28569.938959998675,-30670.977364905204,-32677.903564680157,-34574.68005006485,-36349.2463008782,-37993.4394593991,-39502.75915372307,-40876.01436103203,-42114.89054525583,-43223.47284915633,-44207.75669062813,-45075.171506423736,-45834.13730769167,-46493.66772775309,-47063.027767620544,-47551.44974421972,-47967.907154123066,-48320.94330960424,-48618.54963317453,-48868.08730879569,-49076.2454514928,-49249.02893120687,-49391.76933468302,-49509.153147655736,-49605.261983909615,-49683.62049406913,-49747.24839183661,-49798.71379424176,-49840.18575676813,-49873.4844785307,-49900.12815157981,-49921.375833746235,-49938.26604292221,-49951.651011893446,-49962.22671777549],\"type\":\"scatter\",\"xaxis\":\"x2\",\"yaxis\":\"y2\"},{\"name\":\"EUA Jun24 75C\",\"x\":[30,31,32,33,34,35,36,37,38,39,40,41,42,43,44,45,46,47,48,49,50,51,52,53,54,55,56,57,58,59,60,61,62,63,64,65,66,67,68,69,70,71,72,73,74,75,76,77,78,79,80,81,82,83,84,85,86,87,88,89,90,91,92,93,94,95,96,97,98,99,100],\"y\":[-49470.70640965446,-49470.70640333401,-49470.70637533334,-49470.706262603635,-49470.70584717853,-49470.70443670195,-49470.69999831872,-49470.686984689455,-49470.651257029866,-49470.559005375515,-49470.33406272587,-49469.81417004405,-49468.67133565709,-49466.27446293439,-49461.464341136656,-49452.20292244371,-49435.052170619594,-49404.434785463316,-49351.6320981764,-49263.48544462395,-49120.78759308228,-48896.38025158337,-48553.01058366519,-48041.04061054167,-47296.14357733187,-46237.15525046012,-44764.270205488814,-42757.77894999511,-40077.52846755431,-36563.25603408217,-32035.89598866952,-26299.895833851166,-19146.50758196523,-10357.94953343286,287.7304576212306,13011.31068538731,28026.825119417237,45536.03637695913,65723.21644935789,88750.47563491295,114753.84087250121,143840.2342709614,176085.44590926185,211533.1367810531,250194.85246780753,292050.97934967064,337052.5355036254,385123.65942010557,436164.6417832465,490055.3383966772,546658.8047745037,605825.0033411753,667394.4507037859,731201.6931076152,797078.5210771015,864856.8577030618,934371.2776707503,1005461.1348642748,1077972.2944909032,1151758.480712165,1226682.2625837417,1302615.7097489059,1379440.7550225912,1457049.3040811697,1535343.1333394607,1614233.6161816176,1693641.3154410569,1773495.4767936964,1853733.4538908266,1934300.0919133823,2015147.0920212958],\"type\":\"scatter\",\"xaxis\":\"x\",\"yaxis\":\"y\"},{\"name\":\"EUA Jun24 75C\",\"x\":[30,31,32,33,34,35,36,37,38,39,40,41,42,43,44,45,46,47,48,49,50,51,52,53,54,55,56,57,58,59,60,61,62,63,64,65,66,67,68,69,70,71,72,73,74,75,76,77,78,79,80,81,82,83,84,85,86,87,88,89,90,91,92,93,94,95,96,97,98,99,100],\"y\":[1.5882534049524075e-06,7.497965293012458e-06,3.19856302396168e-05,0.00012427408486510576,0.0004428937255912377,0.0014570939200322431,0.0044509666520579205,0.012690403025390094,0.03393277639817879,0.08546171046957574,0.20354213013666192,0.46009199838293996,0.9903527539205476,2.036202150810938,4.010180875552404,7.584926029294209,13.811166310777919,24.264507594836118,41.21693245090456,67.82357802916655,108.30960095193586,168.13670912740724,254.12528396624927,374.5069005222356,538.884159716259,758.0803014753545,1043.8697487460765,1408.5916848509728,1864.6607189020285,2424.0001544459046,3097.43287016998,3894.0711194821615,4820.748856359363,5881.538226635688,7077.3858995317605,8405.895700660187,9861.272632910795,11434.431095913647,13113.258197429528,14883.012596787987,16726.831171457896,18626.31046471336,20562.127525792705,22514.665253850882,24464.610314277983,26393.496552026092,28284.172937528223,30121.181795063367,31891.039785484743,33582.4203507688,35186.2417095375,36695.66878810176,38106.04057621595,39414.73631674831,40620.99476680502,41725.700658043585,42731.15162462674,43640.81745969777,44459.10180091392,45191.114408933856,45842.46023874963,46419.04962955929,46926.93223926459,47372.15587901255,47760.65018921013,48098.13414699759,48390.045695374116,48641.49131332407,48857.213074334315,49041.57063396639,49198.53561139266],\"type\":\"scatter\",\"xaxis\":\"x2\",\"yaxis\":\"y2\"},{\"mode\":\"lines\",\"name\":\"Total_PnL\",\"x\":[30,31,32,33,34,35,36,37,38,39,40,41,42,43,44,45,46,47,48,49,50,51,52,53,54,55,56,57,58,59,60,61,62,63,64,65,66,67,68,69,70,71,72,73,74,75,76,77,78,79,80,81,82,83,84,85,86,87,88,89,90,91,92,93,94,95,96,97,98,99,100],\"y\":[-576377.9945026827,-568357.7368045271,-557845.1557503777,-544496.7257578634,-528036.7323158253,-508282.54878105485,-485164.03722640424,-458735.1808397746,-429176.97114291164,-396791.561319186,-361988.6213907156,-325265.575942187,-287183.88884977245,-248343.74293119615,-209359.35069730264,-170836.76994709752,-133355.55865029828,-97454.97733575632,-63624.825822923915,-32300.46515675806,-3861.1843139053817,21369.14326014578,43120.202315620365,61173.14219066004,75358.96923325036,85557.83918952136,91699.34243685653,93763.58865450369,91782.68167072214,85842.05044918368,76081.07358551543,62692.493633868486,45920.245108005096,26055.491078091967,3430.8511553685207,-21587.016417145736,-48606.16382121091,-77219.0085479884,-107012.40636971095,-137577.64069859637,-168519.8562296487,-199466.52933011655,-230074.65655356974,-260036.44478541985,-289083.3914636956,-316988.74227776175,-343568.40008031554,-368680.42812489654,-392223.3410564246,-414133.408164532,-434381.2066137447,-452967.66012062726,-469919.7839187019,-485286.3331430126,-499133.5222106754,-511540.9503014914,-522597.8351320947,-532399.6258211896,-541045.0371777401,-548633.5231163874,-555263.1865798768,-561029.1074260441,-566022.0580361672,-570327.5685436518,-574025.2990653936,-577188.6745793531,-579884.7385583364,-582174.1835932725,-584111.5205245684,-585745.3516167079,-587118.7177031678],\"type\":\"scatter\",\"xaxis\":\"x\",\"yaxis\":\"y\"},{\"mode\":\"lines\",\"name\":\"Total_Delta\",\"x\":[30,31,32,33,34,35,36,37,38,39,40,41,42,43,44,45,46,47,48,49,50,51,52,53,54,55,56,57,58,59,60,61,62,63,64,65,66,67,68,69,70,71,72,73,74,75,76,77,78,79,80,81,82,83,84,85,86,87,88,89,90,91,92,93,94,95,96,97,98,99,100],\"y\":[4192.33149845246,5592.8543769593,7216.996274386726,9032.04527589414,10988.645858054871,13023.636579975035,15064.280020391838,17033.37881725881,18854.685216870286,20458.010040137626,21783.51366259622,22784.799507826636,23430.60566987288,23705.07554504029,23606.757762789115,23146.61794160939,22345.42583819517,21230.905875786153,19835.009899535096,18191.598560589395,16334.71715822442,14297.540442877746,12111.955581833949,9808.66701368726,7417.650431968239,4968.759429075352,2492.295989435068,19.38939545738276,-2417.9212248289177,-4786.9470660331535,-7054.941827734092,-9189.966943329864,-11161.93643528707,-12943.729674703749,-14512.258002047478,-15849.382644959775,-16942.603131334174,-17785.463305663587,-18377.652005807344,-18724.803867425362,-18838.029867725614,-18733.22536577806,-18430.214790535334,-17951.79686851645,-17322.753122467104,-16568.876488442493,-15716.067677007239,-14789.535748605882,-13813.127562550788,-12808.799352834787,-11796.23347383341,-10792.594860185287,-9812.41521716323,-8867.588444091816,-7967.458170930819,-7118.977319659949,-6326.919984066757,-5594.1273255097185,-4921.771287014955,-4309.622442575084,-3756.310975822489,-3259.5724262171134,-2816.4723069134197,-2423.6058900024364,-2077.271317176841,-1773.6157066495944,-1508.755096309018,-1278.869913306502,-1080.278228226678,-909.4893807234475,-763.2406979609295],\"type\":\"scatter\",\"xaxis\":\"x2\",\"yaxis\":\"y2\"}],                        {\"template\":{\"data\":{\"histogram2dcontour\":[{\"type\":\"histogram2dcontour\",\"colorbar\":{\"outlinewidth\":0,\"ticks\":\"\"},\"colorscale\":[[0.0,\"#0d0887\"],[0.1111111111111111,\"#46039f\"],[0.2222222222222222,\"#7201a8\"],[0.3333333333333333,\"#9c179e\"],[0.4444444444444444,\"#bd3786\"],[0.5555555555555556,\"#d8576b\"],[0.6666666666666666,\"#ed7953\"],[0.7777777777777778,\"#fb9f3a\"],[0.8888888888888888,\"#fdca26\"],[1.0,\"#f0f921\"]]}],\"choropleth\":[{\"type\":\"choropleth\",\"colorbar\":{\"outlinewidth\":0,\"ticks\":\"\"}}],\"histogram2d\":[{\"type\":\"histogram2d\",\"colorbar\":{\"outlinewidth\":0,\"ticks\":\"\"},\"colorscale\":[[0.0,\"#0d0887\"],[0.1111111111111111,\"#46039f\"],[0.2222222222222222,\"#7201a8\"],[0.3333333333333333,\"#9c179e\"],[0.4444444444444444,\"#bd3786\"],[0.5555555555555556,\"#d8576b\"],[0.6666666666666666,\"#ed7953\"],[0.7777777777777778,\"#fb9f3a\"],[0.8888888888888888,\"#fdca26\"],[1.0,\"#f0f921\"]]}],\"heatmap\":[{\"type\":\"heatmap\",\"colorbar\":{\"outlinewidth\":0,\"ticks\":\"\"},\"colorscale\":[[0.0,\"#0d0887\"],[0.1111111111111111,\"#46039f\"],[0.2222222222222222,\"#7201a8\"],[0.3333333333333333,\"#9c179e\"],[0.4444444444444444,\"#bd3786\"],[0.5555555555555556,\"#d8576b\"],[0.6666666666666666,\"#ed7953\"],[0.7777777777777778,\"#fb9f3a\"],[0.8888888888888888,\"#fdca26\"],[1.0,\"#f0f921\"]]}],\"heatmapgl\":[{\"type\":\"heatmapgl\",\"colorbar\":{\"outlinewidth\":0,\"ticks\":\"\"},\"colorscale\":[[0.0,\"#0d0887\"],[0.1111111111111111,\"#46039f\"],[0.2222222222222222,\"#7201a8\"],[0.3333333333333333,\"#9c179e\"],[0.4444444444444444,\"#bd3786\"],[0.5555555555555556,\"#d8576b\"],[0.6666666666666666,\"#ed7953\"],[0.7777777777777778,\"#fb9f3a\"],[0.8888888888888888,\"#fdca26\"],[1.0,\"#f0f921\"]]}],\"contourcarpet\":[{\"type\":\"contourcarpet\",\"colorbar\":{\"outlinewidth\":0,\"ticks\":\"\"}}],\"contour\":[{\"type\":\"contour\",\"colorbar\":{\"outlinewidth\":0,\"ticks\":\"\"},\"colorscale\":[[0.0,\"#0d0887\"],[0.1111111111111111,\"#46039f\"],[0.2222222222222222,\"#7201a8\"],[0.3333333333333333,\"#9c179e\"],[0.4444444444444444,\"#bd3786\"],[0.5555555555555556,\"#d8576b\"],[0.6666666666666666,\"#ed7953\"],[0.7777777777777778,\"#fb9f3a\"],[0.8888888888888888,\"#fdca26\"],[1.0,\"#f0f921\"]]}],\"surface\":[{\"type\":\"surface\",\"colorbar\":{\"outlinewidth\":0,\"ticks\":\"\"},\"colorscale\":[[0.0,\"#0d0887\"],[0.1111111111111111,\"#46039f\"],[0.2222222222222222,\"#7201a8\"],[0.3333333333333333,\"#9c179e\"],[0.4444444444444444,\"#bd3786\"],[0.5555555555555556,\"#d8576b\"],[0.6666666666666666,\"#ed7953\"],[0.7777777777777778,\"#fb9f3a\"],[0.8888888888888888,\"#fdca26\"],[1.0,\"#f0f921\"]]}],\"mesh3d\":[{\"type\":\"mesh3d\",\"colorbar\":{\"outlinewidth\":0,\"ticks\":\"\"}}],\"scatter\":[{\"fillpattern\":{\"fillmode\":\"overlay\",\"size\":10,\"solidity\":0.2},\"type\":\"scatter\"}],\"parcoords\":[{\"type\":\"parcoords\",\"line\":{\"colorbar\":{\"outlinewidth\":0,\"ticks\":\"\"}}}],\"scatterpolargl\":[{\"type\":\"scatterpolargl\",\"marker\":{\"colorbar\":{\"outlinewidth\":0,\"ticks\":\"\"}}}],\"bar\":[{\"error_x\":{\"color\":\"#2a3f5f\"},\"error_y\":{\"color\":\"#2a3f5f\"},\"marker\":{\"line\":{\"color\":\"#E5ECF6\",\"width\":0.5},\"pattern\":{\"fillmode\":\"overlay\",\"size\":10,\"solidity\":0.2}},\"type\":\"bar\"}],\"scattergeo\":[{\"type\":\"scattergeo\",\"marker\":{\"colorbar\":{\"outlinewidth\":0,\"ticks\":\"\"}}}],\"scatterpolar\":[{\"type\":\"scatterpolar\",\"marker\":{\"colorbar\":{\"outlinewidth\":0,\"ticks\":\"\"}}}],\"histogram\":[{\"marker\":{\"pattern\":{\"fillmode\":\"overlay\",\"size\":10,\"solidity\":0.2}},\"type\":\"histogram\"}],\"scattergl\":[{\"type\":\"scattergl\",\"marker\":{\"colorbar\":{\"outlinewidth\":0,\"ticks\":\"\"}}}],\"scatter3d\":[{\"type\":\"scatter3d\",\"line\":{\"colorbar\":{\"outlinewidth\":0,\"ticks\":\"\"}},\"marker\":{\"colorbar\":{\"outlinewidth\":0,\"ticks\":\"\"}}}],\"scattermapbox\":[{\"type\":\"scattermapbox\",\"marker\":{\"colorbar\":{\"outlinewidth\":0,\"ticks\":\"\"}}}],\"scatterternary\":[{\"type\":\"scatterternary\",\"marker\":{\"colorbar\":{\"outlinewidth\":0,\"ticks\":\"\"}}}],\"scattercarpet\":[{\"type\":\"scattercarpet\",\"marker\":{\"colorbar\":{\"outlinewidth\":0,\"ticks\":\"\"}}}],\"carpet\":[{\"aaxis\":{\"endlinecolor\":\"#2a3f5f\",\"gridcolor\":\"white\",\"linecolor\":\"white\",\"minorgridcolor\":\"white\",\"startlinecolor\":\"#2a3f5f\"},\"baxis\":{\"endlinecolor\":\"#2a3f5f\",\"gridcolor\":\"white\",\"linecolor\":\"white\",\"minorgridcolor\":\"white\",\"startlinecolor\":\"#2a3f5f\"},\"type\":\"carpet\"}],\"table\":[{\"cells\":{\"fill\":{\"color\":\"#EBF0F8\"},\"line\":{\"color\":\"white\"}},\"header\":{\"fill\":{\"color\":\"#C8D4E3\"},\"line\":{\"color\":\"white\"}},\"type\":\"table\"}],\"barpolar\":[{\"marker\":{\"line\":{\"color\":\"#E5ECF6\",\"width\":0.5},\"pattern\":{\"fillmode\":\"overlay\",\"size\":10,\"solidity\":0.2}},\"type\":\"barpolar\"}],\"pie\":[{\"automargin\":true,\"type\":\"pie\"}]},\"layout\":{\"autotypenumbers\":\"strict\",\"colorway\":[\"#636efa\",\"#EF553B\",\"#00cc96\",\"#ab63fa\",\"#FFA15A\",\"#19d3f3\",\"#FF6692\",\"#B6E880\",\"#FF97FF\",\"#FECB52\"],\"font\":{\"color\":\"#2a3f5f\"},\"hovermode\":\"closest\",\"hoverlabel\":{\"align\":\"left\"},\"paper_bgcolor\":\"white\",\"plot_bgcolor\":\"#E5ECF6\",\"polar\":{\"bgcolor\":\"#E5ECF6\",\"angularaxis\":{\"gridcolor\":\"white\",\"linecolor\":\"white\",\"ticks\":\"\"},\"radialaxis\":{\"gridcolor\":\"white\",\"linecolor\":\"white\",\"ticks\":\"\"}},\"ternary\":{\"bgcolor\":\"#E5ECF6\",\"aaxis\":{\"gridcolor\":\"white\",\"linecolor\":\"white\",\"ticks\":\"\"},\"baxis\":{\"gridcolor\":\"white\",\"linecolor\":\"white\",\"ticks\":\"\"},\"caxis\":{\"gridcolor\":\"white\",\"linecolor\":\"white\",\"ticks\":\"\"}},\"coloraxis\":{\"colorbar\":{\"outlinewidth\":0,\"ticks\":\"\"}},\"colorscale\":{\"sequential\":[[0.0,\"#0d0887\"],[0.1111111111111111,\"#46039f\"],[0.2222222222222222,\"#7201a8\"],[0.3333333333333333,\"#9c179e\"],[0.4444444444444444,\"#bd3786\"],[0.5555555555555556,\"#d8576b\"],[0.6666666666666666,\"#ed7953\"],[0.7777777777777778,\"#fb9f3a\"],[0.8888888888888888,\"#fdca26\"],[1.0,\"#f0f921\"]],\"sequentialminus\":[[0.0,\"#0d0887\"],[0.1111111111111111,\"#46039f\"],[0.2222222222222222,\"#7201a8\"],[0.3333333333333333,\"#9c179e\"],[0.4444444444444444,\"#bd3786\"],[0.5555555555555556,\"#d8576b\"],[0.6666666666666666,\"#ed7953\"],[0.7777777777777778,\"#fb9f3a\"],[0.8888888888888888,\"#fdca26\"],[1.0,\"#f0f921\"]],\"diverging\":[[0,\"#8e0152\"],[0.1,\"#c51b7d\"],[0.2,\"#de77ae\"],[0.3,\"#f1b6da\"],[0.4,\"#fde0ef\"],[0.5,\"#f7f7f7\"],[0.6,\"#e6f5d0\"],[0.7,\"#b8e186\"],[0.8,\"#7fbc41\"],[0.9,\"#4d9221\"],[1,\"#276419\"]]},\"xaxis\":{\"gridcolor\":\"white\",\"linecolor\":\"white\",\"ticks\":\"\",\"title\":{\"standoff\":15},\"zerolinecolor\":\"white\",\"automargin\":true,\"zerolinewidth\":2},\"yaxis\":{\"gridcolor\":\"white\",\"linecolor\":\"white\",\"ticks\":\"\",\"title\":{\"standoff\":15},\"zerolinecolor\":\"white\",\"automargin\":true,\"zerolinewidth\":2},\"scene\":{\"xaxis\":{\"backgroundcolor\":\"#E5ECF6\",\"gridcolor\":\"white\",\"linecolor\":\"white\",\"showbackground\":true,\"ticks\":\"\",\"zerolinecolor\":\"white\",\"gridwidth\":2},\"yaxis\":{\"backgroundcolor\":\"#E5ECF6\",\"gridcolor\":\"white\",\"linecolor\":\"white\",\"showbackground\":true,\"ticks\":\"\",\"zerolinecolor\":\"white\",\"gridwidth\":2},\"zaxis\":{\"backgroundcolor\":\"#E5ECF6\",\"gridcolor\":\"white\",\"linecolor\":\"white\",\"showbackground\":true,\"ticks\":\"\",\"zerolinecolor\":\"white\",\"gridwidth\":2}},\"shapedefaults\":{\"line\":{\"color\":\"#2a3f5f\"}},\"annotationdefaults\":{\"arrowcolor\":\"#2a3f5f\",\"arrowhead\":0,\"arrowwidth\":1},\"geo\":{\"bgcolor\":\"white\",\"landcolor\":\"#E5ECF6\",\"subunitcolor\":\"white\",\"showland\":true,\"showlakes\":true,\"lakecolor\":\"white\"},\"title\":{\"x\":0.05},\"mapbox\":{\"style\":\"light\"}}},\"xaxis\":{\"anchor\":\"y\",\"domain\":[0.0,0.45],\"title\":{\"text\":\"Price\"}},\"yaxis\":{\"anchor\":\"x\",\"domain\":[0.0,1.0],\"title\":{\"text\":\"Pnl\"}},\"xaxis2\":{\"anchor\":\"y2\",\"domain\":[0.55,1.0],\"title\":{\"text\":\"Price\"}},\"yaxis2\":{\"anchor\":\"x2\",\"domain\":[0.0,1.0],\"title\":{\"text\":\"Delta\"}},\"title\":{\"text\":\"Todays Option Pos (PnL and Delta)\",\"x\":0.5,\"xanchor\":\"center\"},\"barmode\":\"stack\"},                        {\"responsive\": true}                    ).then(function(){\n",
       "                            \n",
       "var gd = document.getElementById('a53a14ae-d789-426f-83c2-3ec7c32edf7c');\n",
       "var x = new MutationObserver(function (mutations, observer) {{\n",
       "        var display = window.getComputedStyle(gd).display;\n",
       "        if (!display || display === 'none') {{\n",
       "            console.log([gd, 'removed!']);\n",
       "            Plotly.purge(gd);\n",
       "            observer.disconnect();\n",
       "        }}\n",
       "}});\n",
       "\n",
       "// Listen for the removal of the full notebook cells\n",
       "var notebookContainer = gd.closest('#notebook-container');\n",
       "if (notebookContainer) {{\n",
       "    x.observe(notebookContainer, {childList: true});\n",
       "}}\n",
       "\n",
       "// Listen for the clearing of the current output cell\n",
       "var outputEl = gd.closest('.output');\n",
       "if (outputEl) {{\n",
       "    x.observe(outputEl, {childList: true});\n",
       "}}\n",
       "\n",
       "                        })                };                });            </script>        </div>"
      ]
     },
     "metadata": {},
     "output_type": "display_data"
    }
   ],
   "source": [
    "pnl_delta_plot(one_month)"
   ]
  },
  {
   "cell_type": "markdown",
   "id": "89f40338",
   "metadata": {},
   "source": [
    "## End of May"
   ]
  },
  {
   "cell_type": "code",
   "execution_count": 18,
   "id": "451ebb54",
   "metadata": {},
   "outputs": [
    {
     "data": {
      "application/vnd.plotly.v1+json": {
       "config": {
        "plotlyServerURL": "https://plot.ly"
       },
       "data": [
        {
         "name": "EUA Jun24 40P",
         "type": "scatter",
         "x": [
          30,
          31,
          32,
          33,
          34,
          35,
          36,
          37,
          38,
          39,
          40,
          41,
          42,
          43,
          44,
          45,
          46,
          47,
          48,
          49,
          50,
          51,
          52,
          53,
          54,
          55,
          56,
          57,
          58,
          59,
          60,
          61,
          62,
          63,
          64,
          65,
          66,
          67,
          68,
          69,
          70,
          71,
          72,
          73,
          74,
          75,
          76,
          77,
          78,
          79,
          80,
          81,
          82,
          83,
          84,
          85,
          86,
          87,
          88,
          89,
          90,
          91,
          92,
          93,
          94,
          95,
          96,
          97,
          98,
          99,
          100
         ],
         "xaxis": "x",
         "y": [
          801499.0556243575,
          720949.0513658721,
          641816.012840244,
          564767.1040300194,
          490586.6300357246,
          420120.5639265085,
          354202.1882966654,
          293571.58343569975,
          238803.36477940308,
          190254.89900198265,
          148042.22701528016,
          112044.8516686751,
          81935.16228620407,
          57224.75257572131,
          37318.64095815406,
          21569.136140029732,
          9323.117423888894,
          -40.962089677802105,
          -7087.635991196381,
          -12309.964512421835,
          -16124.285606174491,
          -18871.8742131093,
          -20825.17599601976,
          -22196.573687081378,
          -23148.09226169797,
          -23800.927420419797,
          -24244.11093344925,
          -24541.967646973113,
          -24740.263402275625,
          -24871.09988187074,
          -24956.699103129242,
          -25012.256476237184,
          -25048.044652049204,
          -25070.93479454806,
          -25085.477462933086,
          -25094.658524495913,
          -25100.420252848748,
          -25104.015869809384,
          -25106.247882810272,
          -25107.626542870967,
          -25108.47412613662,
          -25108.992918022665,
          -25109.309148892607,
          -25109.501159131032,
          -25109.617319159606,
          -25109.687351575918,
          -25109.729438237402,
          -25109.754654514913,
          -25109.769720318658,
          -25109.778697872043,
          -25109.784034335185,
          -25109.78719916674,
          -25109.78907207943,
          -25109.790178241623,
          -25109.790830345348,
          -25109.791214113553,
          -25109.791439605917,
          -25109.791571905254,
          -25109.791649422892,
          -25109.791694785625,
          -25109.791721301717,
          -25109.79173678563,
          -25109.791745818482,
          -25109.791751083612,
          -25109.791754150265,
          -25109.791755935283,
          -25109.7917569735,
          -25109.791757577135,
          -25109.791757928055,
          -25109.791758131858,
          -25109.791758250256
         ],
         "yaxis": "y"
        },
        {
         "name": "EUA Jun24 40P",
         "type": "scatter",
         "x": [
          30,
          31,
          32,
          33,
          34,
          35,
          36,
          37,
          38,
          39,
          40,
          41,
          42,
          43,
          44,
          45,
          46,
          47,
          48,
          49,
          50,
          51,
          52,
          53,
          54,
          55,
          56,
          57,
          58,
          59,
          60,
          61,
          62,
          63,
          64,
          65,
          66,
          67,
          68,
          69,
          70,
          71,
          72,
          73,
          74,
          75,
          76,
          77,
          78,
          79,
          80,
          81,
          82,
          83,
          84,
          85,
          86,
          87,
          88,
          89,
          90,
          91,
          92,
          93,
          94,
          95,
          96,
          97,
          98,
          99,
          100
         ],
         "xaxis": "x2",
         "y": [
          -49146.323700562076,
          -48460.6447914126,
          -47413.3276950693,
          -45921.71252867115,
          -43929.17983300875,
          -41419.54545320472,
          -38425.01861109012,
          -35025.532431122665,
          -31339.642698255393,
          -27509.324808047288,
          -23682.216593628265,
          -19994.936067065344,
          -16560.2527663956,
          -13459.557409592171,
          -10740.72970543406,
          -8420.487662743903,
          -6489.7591536538175,
          -4920.523356111051,
          -3672.7987860587173,
          -2700.8477372513216,
          -1958.087071655662,
          -1400.5517767351982,
          -989.0087430458161,
          -689.9601016831735,
          -475.82724283258824,
          -324.59629841165014,
          -219.16073375871647,
          -146.5383469095527,
          -97.08276995200049,
          -63.76128710966489,
          -41.53429111843909,
          -26.84673777046398,
          -17.226665785124993,
          -10.977821601293458,
          -6.950359580282228,
          -4.3735752236429,
          -2.7362625966864673,
          -1.7026148311394262,
          -1.0540241093259795,
          -0.6493681959096609,
          -0.39825557224260066,
          -0.24320958773027535,
          -0.14793094453846578,
          -0.08964016596224589,
          -0.054126743437299396,
          -0.032574816433150744,
          -0.0195435405470068,
          -0.011691264106827859,
          -0.006974901806122702,
          -0.0041505960446386325,
          -0.002464064391416443,
          -0.001459595999619978,
          -0.0008628169179125678,
          -0.0005090648291794508,
          -0.00029981679361412716,
          -0.00017628862258867173,
          -0.0001034980878777958,
          -6.067806812559695e-05,
          -3.552807492646082e-05,
          -2.0777768394708573e-05,
          -1.2138301475062008e-05,
          -7.084205444485292e-06,
          -4.130845665528682e-06,
          -2.4067969839336456e-06,
          -1.401295746106257e-06,
          -8.153533403998381e-07,
          -4.7415404935691186e-07,
          -2.7560176363294886e-07,
          -1.6012746684168633e-07,
          -9.300338277284936e-08,
          -5.4001247917767614e-08
         ],
         "yaxis": "y2"
        },
        {
         "name": "EUA Jun24 50P",
         "type": "scatter",
         "x": [
          30,
          31,
          32,
          33,
          34,
          35,
          36,
          37,
          38,
          39,
          40,
          41,
          42,
          43,
          44,
          45,
          46,
          47,
          48,
          49,
          50,
          51,
          52,
          53,
          54,
          55,
          56,
          57,
          58,
          59,
          60,
          61,
          62,
          63,
          64,
          65,
          66,
          67,
          68,
          69,
          70,
          71,
          72,
          73,
          74,
          75,
          76,
          77,
          78,
          79,
          80,
          81,
          82,
          83,
          84,
          85,
          86,
          87,
          88,
          89,
          90,
          91,
          92,
          93,
          94,
          95,
          96,
          97,
          98,
          99,
          100
         ],
         "xaxis": "x",
         "y": [
          -1538901.5220528424,
          -1456421.6851449402,
          -1373943.2029824913,
          -1291468.8463258,
          -1209005.7566446976,
          -1126570.4963375628,
          -1044197.8782529886,
          -961954.6464821312,
          -879958.1781256648,
          -798398.7417231841,
          -717561.8025344681,
          -637845.0890614623,
          -559764.4489764859,
          -483943.5205447132,
          -411084.97212377866,
          -341924.9079696008,
          -277175.9281453701,
          -217467.11931462787,
          -163290.14721059048,
          -114959.43563876512,
          -72591.58462866044,
          -36105.5440808392,
          -5241.556108693692,
          20405.74404179364,
          41346.03184318931,
          58149.83670632051,
          71408.02434280278,
          81697.79733907354,
          89557.11199482696,
          95467.90201363844,
          99847.36459484918,
          103045.86869594155,
          105349.75519549535,
          106987.32256355319,
          108136.51789739568,
          108933.17831651597,
          109479.01152040946,
          109848.814489073,
          110096.67896623365,
          110261.1140097181,
          110369.1345236785,
          110439.43175941876,
          110484.77072279881,
          110513.76286683197,
          110532.15074407314,
          110543.7221378216,
          110550.94977337211,
          110555.43217318742,
          110558.19319474084,
          110559.88289233115,
          110560.91057147643,
          110561.53192584217,
          110561.90549672334,
          110562.12889101561,
          110562.2617972087,
          110562.34048303687,
          110562.38685181129,
          110562.41405550703,
          110562.42994809957,
          110562.43919537272,
          110562.444555418,
          110562.44765097905,
          110562.44943255172,
          110562.45045451252,
          110562.45103890277,
          110562.45137208031,
          110562.45156149812,
          110562.45166889612,
          110562.45172963466,
          110562.45176390192,
          110562.45178319096
         ],
         "yaxis": "y"
        },
        {
         "name": "EUA Jun24 50P",
         "type": "scatter",
         "x": [
          30,
          31,
          32,
          33,
          34,
          35,
          36,
          37,
          38,
          39,
          40,
          41,
          42,
          43,
          44,
          45,
          46,
          47,
          48,
          49,
          50,
          51,
          52,
          53,
          54,
          55,
          56,
          57,
          58,
          59,
          60,
          61,
          62,
          63,
          64,
          65,
          66,
          67,
          68,
          69,
          70,
          71,
          72,
          73,
          74,
          75,
          76,
          77,
          78,
          79,
          80,
          81,
          82,
          83,
          84,
          85,
          86,
          87,
          88,
          89,
          90,
          91,
          92,
          93,
          94,
          95,
          96,
          97,
          98,
          99,
          100
         ],
         "xaxis": "x2",
         "y": [
          49999.85141814634,
          49999.42638899604,
          49998.03963132568,
          49994.00778163654,
          49983.46602917736,
          49958.47355420262,
          49904.34500152538,
          49796.527714813485,
          49597.80534141739,
          49256.9959825,
          48710.3855135797,
          47886.7216446404,
          46715.71148735417,
          45138.86432110707,
          43120.595843905416,
          40657.12806078221,
          37781.05506632551,
          34560.40608998655,
          31092.309253928528,
          27492.54431431093,
          23883.041477286977,
          20379.580143423966,
          17081.603823471603,
          14065.375920111366,
          11380.892159025347,
          9052.24968303746,
          7080.68331792886,
          5449.258776959476,
          4128.229112029902,
          3080.24047409452,
          2264.8313924047147,
          1641.9339611061068,
          1174.3072206532922,
          828.9898429676923,
          577.9487140406603,
          398.1328727723277,
          271.1349311942779,
          182.63126062771363,
          121.73166381684864,
          80.32860786857943,
          52.5009743848448,
          34.000074762174926,
          21.826571202543388,
          13.894885425669301,
          8.775098125751724,
          5.499631111771652,
          3.421764989591791,
          2.1141996197793222,
          1.2976544391640754,
          0.7914465218861189,
          0.4797998515382318,
          0.28919835657892357,
          0.173358320859629,
          0.10337552966976915,
          0.06133682214359837,
          0.03622071435560592,
          0.02129229050296111,
          0.012462657572598346,
          0.007264591078692817,
          0.004218028054614464,
          0.0024399868236990585,
          0.0014064481579367794,
          0.0008079666435900634,
          0.0004626671601393184,
          0.000264130500804427,
          0.00015035203637658867,
          8.535018802824368e-05,
          4.8324227952534216e-05,
          2.7292862414540764e-05,
          1.5378465167970035e-05,
          8.645906213189392e-06
         ],
         "yaxis": "y2"
        },
        {
         "name": "EUA Jun24 65C",
         "type": "scatter",
         "x": [
          30,
          31,
          32,
          33,
          34,
          35,
          36,
          37,
          38,
          39,
          40,
          41,
          42,
          43,
          44,
          45,
          46,
          47,
          48,
          49,
          50,
          51,
          52,
          53,
          54,
          55,
          56,
          57,
          58,
          59,
          60,
          61,
          62,
          63,
          64,
          65,
          66,
          67,
          68,
          69,
          70,
          71,
          72,
          73,
          74,
          75,
          76,
          77,
          78,
          79,
          80,
          81,
          82,
          83,
          84,
          85,
          86,
          87,
          88,
          89,
          90,
          91,
          92,
          93,
          94,
          95,
          96,
          97,
          98,
          99,
          100
         ],
         "xaxis": "x",
         "y": [
          193149.38756924134,
          193149.38756924163,
          193149.3875692409,
          193149.38756923226,
          193149.3875691425,
          193149.38756834078,
          193149.3875622053,
          193149.38752146353,
          193149.3872843855,
          193149.38606446507,
          193149.38046742495,
          193149.35739641002,
          193149.27135983025,
          193148.97921784184,
          193148.07062379795,
          193145.46814193393,
          193138.56812905107,
          193121.55431415074,
          193082.36690414263,
          192997.710482782,
          192825.52299983267,
          192494.59993285354,
          191891.62735447902,
          190846.69187726273,
          189119.25319917628,
          186387.33181146003,
          182242.9888847378,
          176196.83004367244,
          167693.18426755536,
          156135.9418109526,
          140923.12152125096,
          121486.51983413064,
          97331.68390381048,
          68073.21306875785,
          33461.069573785855,
          -6605.005103655703,
          -52074.049903060884,
          -102754.66055872735,
          -158335.7066936848,
          -218413.74601754776,
          -282523.5513326155,
          -350168.3949069984,
          -420847.38190317893,
          -494077.99750302103,
          -569412.9457653073,
          -646451.1674217271,
          -724843.540381187,
          -804294.1581381997,
          -884558.2596318426,
          -965437.8899067775,
          -1046776.2571558553,
          -1128451.5710209329,
          -1210370.9435279395,
          -1292464.7395984924,
          -1374681.5980011786,
          -1456984.214455966,
          -1539345.8870957764,
          -1621747.7664156477,
          -1704176.7205947337,
          -1786623.715492837,
          -1869082.6101366433,
          -1951549.277746574,
          -2034020.975299372,
          -2116495.898535077,
          -2198972.872514408,
          -2281451.139422994,
          -2363930.2149593695,
          -2446409.7923346725,
          -2528889.6788447313,
          -2611369.7544237077,
          -2693849.9448438124
         ],
         "yaxis": "y"
        },
        {
         "name": "EUA Jun24 65C",
         "type": "scatter",
         "x": [
          30,
          31,
          32,
          33,
          34,
          35,
          36,
          37,
          38,
          39,
          40,
          41,
          42,
          43,
          44,
          45,
          46,
          47,
          48,
          49,
          50,
          51,
          52,
          53,
          54,
          55,
          56,
          57,
          58,
          59,
          60,
          61,
          62,
          63,
          64,
          65,
          66,
          67,
          68,
          69,
          70,
          71,
          72,
          73,
          74,
          75,
          76,
          77,
          78,
          79,
          80,
          81,
          82,
          83,
          84,
          85,
          86,
          87,
          88,
          89,
          90,
          91,
          92,
          93,
          94,
          95,
          96,
          97,
          98,
          99,
          100
         ],
         "xaxis": "x2",
         "y": [
          -4.588285546142492e-12,
          -8.10238881608759e-11,
          -1.1633630792489863e-09,
          -1.380609106343566e-08,
          -1.3742566360568012e-07,
          -1.162684482542734e-06,
          -8.461616803586314e-06,
          -5.3549445621688426e-05,
          -0.000297611066182128,
          -0.0014656729921268602,
          -0.006448851920850564,
          -0.025541571228372893,
          -0.09169104592977852,
          -0.3002442271484131,
          -0.9020491835160955,
          -2.5000005534273253,
          -6.4235855260352555,
          -15.37303588331184,
          -34.41622333400996,
          -72.36662595445041,
          -143.4567358673655,
          -269.056917147435,
          -479.01420550312366,
          -812.0647624862289,
          -1314.77998201093,
          -2038.6870586114378,
          -3035.5538654738066,
          -4351.274119761325,
          -6019.211631061003,
          -8054.130943976065,
          -10447.861031720407,
          -13167.585423223027,
          -16157.183600154696,
          -19341.48331958784,
          -22632.762242395474,
          -25938.479023566302,
          -29169.08486389856,
          -32244.868078040647,
          -35101.06322308462,
          -37690.827827636575,
          -39986.0643924817,
          -41976.37161807375,
          -43666.60554320677,
          -45073.60921252453,
          -46222.64489420494,
          -47143.96695505798,
          -47869.84164976547,
          -48432.183525273,
          -48860.859234801705,
          -49182.62048744894,
          -49420.571870614505,
          -49594.05321735671,
          -49718.813341086025,
          -49807.36450990686,
          -49869.42776859516,
          -49912.40245913728,
          -49941.81519149212,
          -49961.721917737064,
          -49975.05083878689,
          -49983.88370154808,
          -49989.67921910125,
          -49993.445674279916,
          -49995.87106566004,
          -49997.419138176534,
          -49998.39886934937,
          -49999.013859900086,
          -49999.39686971378,
          -49999.63360333868,
          -49999.77886201393,
          -49999.867368457475,
          -49999.9209323715
         ],
         "yaxis": "y2"
        },
        {
         "name": "EUA Jun24 75C",
         "type": "scatter",
         "x": [
          30,
          31,
          32,
          33,
          34,
          35,
          36,
          37,
          38,
          39,
          40,
          41,
          42,
          43,
          44,
          45,
          46,
          47,
          48,
          49,
          50,
          51,
          52,
          53,
          54,
          55,
          56,
          57,
          58,
          59,
          60,
          61,
          62,
          63,
          64,
          65,
          66,
          67,
          68,
          69,
          70,
          71,
          72,
          73,
          74,
          75,
          76,
          77,
          78,
          79,
          80,
          81,
          82,
          83,
          84,
          85,
          86,
          87,
          88,
          89,
          90,
          91,
          92,
          93,
          94,
          95,
          96,
          97,
          98,
          99,
          100
         ],
         "xaxis": "x",
         "y": [
          -49470.706411217725,
          -49470.706411217725,
          -49470.706411217725,
          -49470.706411217725,
          -49470.706411217725,
          -49470.706411217776,
          -49470.70641121771,
          -49470.70641121674,
          -49470.706411209125,
          -49470.70641114878,
          -49470.70641073177,
          -49470.70640817127,
          -49470.70639409484,
          -49470.70632432989,
          -49470.706010668684,
          -49470.70472391264,
          -49470.69988133501,
          -49470.68307913121,
          -49470.629081473395,
          -49470.46765603901,
          -49470.01694408569,
          -49468.83721661576,
          -49465.93226300144,
          -49459.18085749059,
          -49444.325578967735,
          -49413.29054214227,
          -49351.561740745885,
          -49234.36944178246,
          -49021.489117136385,
          -48650.64613204678,
          -48029.771756909744,
          -47028.688531019936,
          -45471.14627639126,
          -43128.408294510504,
          -39715.71697031072,
          -34892.88261019804,
          -28269.91098474475,
          -19418.038071456456,
          -7885.851644805732,
          6780.53639134824,
          25014.917514897974,
          47208.06526839375,
          73686.6315442319,
          104695.83942563081,
          140387.5004190538,
          180814.25232487463,
          225930.20924592591,
          275597.54597752664,
          329597.9952517992,
          387647.876110653,
          449415.1163542909,
          514536.76896089525,
          582635.7135984275,
          653335.5276407937,
          726272.8511718566,
          801106.9079744254,
          877526.1418833241,
          955252.161753223,
          1034041.3490362177,
          1113684.5713141847,
          1194005.4727659703,
          1274857.79254068,
          1356122.1097247603,
          1437702.3433904592,
          1519522.2600095586,
          1601522.167139449,
          1683655.907460682,
          1765888.2139609042,
          1848192.4461769285,
          1930548.6982872805,
          2012942.2509538154
         ],
         "yaxis": "y"
        },
        {
         "name": "EUA Jun24 75C",
         "type": "scatter",
         "x": [
          30,
          31,
          32,
          33,
          34,
          35,
          36,
          37,
          38,
          39,
          40,
          41,
          42,
          43,
          44,
          45,
          46,
          47,
          48,
          49,
          50,
          51,
          52,
          53,
          54,
          55,
          56,
          57,
          58,
          59,
          60,
          61,
          62,
          63,
          64,
          65,
          66,
          67,
          68,
          69,
          70,
          71,
          72,
          73,
          74,
          75,
          76,
          77,
          78,
          79,
          80,
          81,
          82,
          83,
          84,
          85,
          86,
          87,
          88,
          89,
          90,
          91,
          92,
          93,
          94,
          95,
          96,
          97,
          98,
          99,
          100
         ],
         "xaxis": "x2",
         "y": [
          3.663638791284669e-18,
          1.1073840387081414e-16,
          2.6736935347744943e-15,
          5.2471954297942134e-14,
          8.502590393033935e-13,
          1.1537680890023e-11,
          1.3279296114188534e-10,
          1.3114402846159054e-09,
          1.1230748381504853e-08,
          8.420145321426208e-08,
          5.575508614508693e-07,
          3.2868899622301452e-06,
          1.737864627650921e-05,
          8.296856734198188e-05,
          0.00035990136667087794,
          0.0014266673929281457,
          0.005195656652235238,
          0.01746931412524239,
          0.05447714387567685,
          0.15823467053479848,
          0.42979044184804555,
          1.09567866242926,
          2.630749155016636,
          5.968264179189353,
          12.832287650628178,
          26.223022958823712,
          51.067687735823974,
          95.01448267583774,
          169.29650736890864,
          289.53390399209826,
          476.2904232482046,
          755.1732240134168,
          1156.2789527861764,
          1712.8543984111673,
          2459.1531413731045,
          3427.6132756036222,
          4645.626771604411,
          6132.285167533194,
          7895.540188699285,
          9930.195225628027,
          12217.045119372202,
          14723.325254907268,
          17404.44679372304,
          20206.81797368233,
          23071.41322305653,
          25937.673678290295,
          28747.31225868866,
          31447.64796094136,
          33994.19135459747,
          36352.324708502245,
          38498.04363498458,
          40417.83420552608,
          42107.83803708849,
          43572.50276060619,
          44822.92772214633,
          45875.10045111312,
          46748.18655356123,
          47462.992975045934,
          48040.67978718843,
          48501.75468747253,
          48865.35098106795,
          49148.76559325275,
          49367.218639862855,
          49533.789126698524,
          49659.480709071286,
          49753.37519147962,
          49822.83778576709,
          49873.74558711014,
          49910.71817082538,
          49937.33594212192,
          49956.33749831243
         ],
         "yaxis": "y2"
        },
        {
         "mode": "lines",
         "name": "Total_PnL",
         "type": "scatter",
         "x": [
          30,
          31,
          32,
          33,
          34,
          35,
          36,
          37,
          38,
          39,
          40,
          41,
          42,
          43,
          44,
          45,
          46,
          47,
          48,
          49,
          50,
          51,
          52,
          53,
          54,
          55,
          56,
          57,
          58,
          59,
          60,
          61,
          62,
          63,
          64,
          65,
          66,
          67,
          68,
          69,
          70,
          71,
          72,
          73,
          74,
          75,
          76,
          77,
          78,
          79,
          80,
          81,
          82,
          83,
          84,
          85,
          86,
          87,
          88,
          89,
          90,
          91,
          92,
          93,
          94,
          95,
          96,
          97,
          98,
          99,
          100
         ],
         "xaxis": "x",
         "y": [
          -593723.7852704612,
          -591793.952621044,
          -588448.5089842242,
          -583023.0611377661,
          -574740.4454510482,
          -562771.2512539314,
          -546317.0088053356,
          -524704.3819361846,
          -497476.13247308537,
          -464465.1630678852,
          -425840.90146249474,
          -382121.5864045485,
          -334150.7217245464,
          -283040.49507547996,
          -230088.96655249535,
          -176681.00841154982,
          -124184.94247376516,
          -73857.21016928615,
          -26766.045379117626,
          16257.842675556021,
          54639.635820912044,
          88048.34442228926,
          116358.96298676412,
          139596.68137448438,
          157872.86720169988,
          171322.95055521847,
          180055.34055334545,
          184118.2902939904,
          183488.54374297033,
          178082.09781067353,
          167784.01525606116,
          152491.4435228151,
          132162.24817086538,
          106861.19254325249,
          76796.39303793773,
          42340.63207816632,
          4034.6303797550754,
          -37427.90001092019,
          -81231.12725506716,
          -126479.72215935237,
          -172247.97342017564,
          -217629.8907972085,
          -261785.28878504084,
          -303977.8963696893,
          -343602.9119213399,
          -380202.8803106068,
          -413472.11080012645,
          -443250.93464200053,
          -469511.84090562124,
          -492339.9096016654,
          -511910.0142644231,
          -528463.0573333622,
          -542283.1135048681,
          -553676.8732449247,
          -562956.2758624585,
          -570424.7572126173,
          -576367.1498002468,
          -581042.9821788229,
          -584682.7332598395,
          -587486.496678065,
          -589624.4845365568,
          -591238.8292917006,
          -592446.2078878786,
          -593340.8964411889,
          -593997.9532200971,
          -594476.3126674003,
          -594821.647694163,
          -595068.9184624492,
          -595244.5726960963,
          -595368.396130657,
          -595455.0338650565
         ],
         "yaxis": "y"
        },
        {
         "mode": "lines",
         "name": "Total_Delta",
         "type": "scatter",
         "x": [
          30,
          31,
          32,
          33,
          34,
          35,
          36,
          37,
          38,
          39,
          40,
          41,
          42,
          43,
          44,
          45,
          46,
          47,
          48,
          49,
          50,
          51,
          52,
          53,
          54,
          55,
          56,
          57,
          58,
          59,
          60,
          61,
          62,
          63,
          64,
          65,
          66,
          67,
          68,
          69,
          70,
          71,
          72,
          73,
          74,
          75,
          76,
          77,
          78,
          79,
          80,
          81,
          82,
          83,
          84,
          85,
          86,
          87,
          88,
          89,
          90,
          91,
          92,
          93,
          94,
          95,
          96,
          97,
          98,
          99,
          100
         ],
         "xaxis": "x2",
         "y": [
          853.5277175842593,
          1538.7815975833646,
          2584.711936255212,
          4072.2952529515787,
          6054.286196031189,
          8538.92809983522,
          11479.326381973773,
          14770.995230142686,
          18258.162345562163,
          21747.66970886392,
          25028.162471657062,
          27891.760039290715,
          30155.36704729129,
          31679.006750256314,
          32378.964449189207,
          32234.141824152277,
          31284.877522802315,
          29624.52716730631,
          27385.148721679678,
          24719.48818577569,
          21781.9274602058,
          18711.067128203762,
          15616.211624077681,
          12569.319320121154,
          9603.117221832455,
          6715.189348973196,
          3877.0364064321607,
          1046.4607929644362,
          -1818.7687816141922,
          -4748.117852999112,
          -7748.273507185927,
          -10797.324975873968,
          -13843.824092500352,
          -16810.616899810273,
          -19602.610746561993,
          -22117.106450413994,
          -24255.059423696555,
          -25931.654264710876,
          -27084.84539467781,
          -27680.95336233588,
          -27716.91655429689,
          -27219.289497992035,
          -26240.48010922573,
          -24852.985993582493,
          -23142.51069976609,
          -21200.826220472343,
          -19119.12716962776,
          -16982.433055975966,
          -14865.37720066688,
          -12829.508483020858,
          -10922.050899842783,
          -9175.931273070055,
          -7610.802808493594,
          -6234.7588828358275,
          -5046.439009443486,
          -4037.265963598431,
          -3193.6074491384716,
          -2498.7165407116263,
          -1934.363822535459,
          -1482.1248168252641,
          -1124.325810184775,
          -844.6786816632157,
          -628.6516219613841,
          -463.6295512176439,
          -338.91789754887577,
          -245.63851888378122,
          -176.5589990706576,
          -125.88796817991533,
          -89.06066405581805,
          -62.531411050091265,
          -43.58342546716449
         ],
         "yaxis": "y2"
        }
       ],
       "layout": {
        "barmode": "stack",
        "template": {
         "data": {
          "bar": [
           {
            "error_x": {
             "color": "#2a3f5f"
            },
            "error_y": {
             "color": "#2a3f5f"
            },
            "marker": {
             "line": {
              "color": "#E5ECF6",
              "width": 0.5
             },
             "pattern": {
              "fillmode": "overlay",
              "size": 10,
              "solidity": 0.2
             }
            },
            "type": "bar"
           }
          ],
          "barpolar": [
           {
            "marker": {
             "line": {
              "color": "#E5ECF6",
              "width": 0.5
             },
             "pattern": {
              "fillmode": "overlay",
              "size": 10,
              "solidity": 0.2
             }
            },
            "type": "barpolar"
           }
          ],
          "carpet": [
           {
            "aaxis": {
             "endlinecolor": "#2a3f5f",
             "gridcolor": "white",
             "linecolor": "white",
             "minorgridcolor": "white",
             "startlinecolor": "#2a3f5f"
            },
            "baxis": {
             "endlinecolor": "#2a3f5f",
             "gridcolor": "white",
             "linecolor": "white",
             "minorgridcolor": "white",
             "startlinecolor": "#2a3f5f"
            },
            "type": "carpet"
           }
          ],
          "choropleth": [
           {
            "colorbar": {
             "outlinewidth": 0,
             "ticks": ""
            },
            "type": "choropleth"
           }
          ],
          "contour": [
           {
            "colorbar": {
             "outlinewidth": 0,
             "ticks": ""
            },
            "colorscale": [
             [
              0,
              "#0d0887"
             ],
             [
              0.1111111111111111,
              "#46039f"
             ],
             [
              0.2222222222222222,
              "#7201a8"
             ],
             [
              0.3333333333333333,
              "#9c179e"
             ],
             [
              0.4444444444444444,
              "#bd3786"
             ],
             [
              0.5555555555555556,
              "#d8576b"
             ],
             [
              0.6666666666666666,
              "#ed7953"
             ],
             [
              0.7777777777777778,
              "#fb9f3a"
             ],
             [
              0.8888888888888888,
              "#fdca26"
             ],
             [
              1,
              "#f0f921"
             ]
            ],
            "type": "contour"
           }
          ],
          "contourcarpet": [
           {
            "colorbar": {
             "outlinewidth": 0,
             "ticks": ""
            },
            "type": "contourcarpet"
           }
          ],
          "heatmap": [
           {
            "colorbar": {
             "outlinewidth": 0,
             "ticks": ""
            },
            "colorscale": [
             [
              0,
              "#0d0887"
             ],
             [
              0.1111111111111111,
              "#46039f"
             ],
             [
              0.2222222222222222,
              "#7201a8"
             ],
             [
              0.3333333333333333,
              "#9c179e"
             ],
             [
              0.4444444444444444,
              "#bd3786"
             ],
             [
              0.5555555555555556,
              "#d8576b"
             ],
             [
              0.6666666666666666,
              "#ed7953"
             ],
             [
              0.7777777777777778,
              "#fb9f3a"
             ],
             [
              0.8888888888888888,
              "#fdca26"
             ],
             [
              1,
              "#f0f921"
             ]
            ],
            "type": "heatmap"
           }
          ],
          "heatmapgl": [
           {
            "colorbar": {
             "outlinewidth": 0,
             "ticks": ""
            },
            "colorscale": [
             [
              0,
              "#0d0887"
             ],
             [
              0.1111111111111111,
              "#46039f"
             ],
             [
              0.2222222222222222,
              "#7201a8"
             ],
             [
              0.3333333333333333,
              "#9c179e"
             ],
             [
              0.4444444444444444,
              "#bd3786"
             ],
             [
              0.5555555555555556,
              "#d8576b"
             ],
             [
              0.6666666666666666,
              "#ed7953"
             ],
             [
              0.7777777777777778,
              "#fb9f3a"
             ],
             [
              0.8888888888888888,
              "#fdca26"
             ],
             [
              1,
              "#f0f921"
             ]
            ],
            "type": "heatmapgl"
           }
          ],
          "histogram": [
           {
            "marker": {
             "pattern": {
              "fillmode": "overlay",
              "size": 10,
              "solidity": 0.2
             }
            },
            "type": "histogram"
           }
          ],
          "histogram2d": [
           {
            "colorbar": {
             "outlinewidth": 0,
             "ticks": ""
            },
            "colorscale": [
             [
              0,
              "#0d0887"
             ],
             [
              0.1111111111111111,
              "#46039f"
             ],
             [
              0.2222222222222222,
              "#7201a8"
             ],
             [
              0.3333333333333333,
              "#9c179e"
             ],
             [
              0.4444444444444444,
              "#bd3786"
             ],
             [
              0.5555555555555556,
              "#d8576b"
             ],
             [
              0.6666666666666666,
              "#ed7953"
             ],
             [
              0.7777777777777778,
              "#fb9f3a"
             ],
             [
              0.8888888888888888,
              "#fdca26"
             ],
             [
              1,
              "#f0f921"
             ]
            ],
            "type": "histogram2d"
           }
          ],
          "histogram2dcontour": [
           {
            "colorbar": {
             "outlinewidth": 0,
             "ticks": ""
            },
            "colorscale": [
             [
              0,
              "#0d0887"
             ],
             [
              0.1111111111111111,
              "#46039f"
             ],
             [
              0.2222222222222222,
              "#7201a8"
             ],
             [
              0.3333333333333333,
              "#9c179e"
             ],
             [
              0.4444444444444444,
              "#bd3786"
             ],
             [
              0.5555555555555556,
              "#d8576b"
             ],
             [
              0.6666666666666666,
              "#ed7953"
             ],
             [
              0.7777777777777778,
              "#fb9f3a"
             ],
             [
              0.8888888888888888,
              "#fdca26"
             ],
             [
              1,
              "#f0f921"
             ]
            ],
            "type": "histogram2dcontour"
           }
          ],
          "mesh3d": [
           {
            "colorbar": {
             "outlinewidth": 0,
             "ticks": ""
            },
            "type": "mesh3d"
           }
          ],
          "parcoords": [
           {
            "line": {
             "colorbar": {
              "outlinewidth": 0,
              "ticks": ""
             }
            },
            "type": "parcoords"
           }
          ],
          "pie": [
           {
            "automargin": true,
            "type": "pie"
           }
          ],
          "scatter": [
           {
            "fillpattern": {
             "fillmode": "overlay",
             "size": 10,
             "solidity": 0.2
            },
            "type": "scatter"
           }
          ],
          "scatter3d": [
           {
            "line": {
             "colorbar": {
              "outlinewidth": 0,
              "ticks": ""
             }
            },
            "marker": {
             "colorbar": {
              "outlinewidth": 0,
              "ticks": ""
             }
            },
            "type": "scatter3d"
           }
          ],
          "scattercarpet": [
           {
            "marker": {
             "colorbar": {
              "outlinewidth": 0,
              "ticks": ""
             }
            },
            "type": "scattercarpet"
           }
          ],
          "scattergeo": [
           {
            "marker": {
             "colorbar": {
              "outlinewidth": 0,
              "ticks": ""
             }
            },
            "type": "scattergeo"
           }
          ],
          "scattergl": [
           {
            "marker": {
             "colorbar": {
              "outlinewidth": 0,
              "ticks": ""
             }
            },
            "type": "scattergl"
           }
          ],
          "scattermapbox": [
           {
            "marker": {
             "colorbar": {
              "outlinewidth": 0,
              "ticks": ""
             }
            },
            "type": "scattermapbox"
           }
          ],
          "scatterpolar": [
           {
            "marker": {
             "colorbar": {
              "outlinewidth": 0,
              "ticks": ""
             }
            },
            "type": "scatterpolar"
           }
          ],
          "scatterpolargl": [
           {
            "marker": {
             "colorbar": {
              "outlinewidth": 0,
              "ticks": ""
             }
            },
            "type": "scatterpolargl"
           }
          ],
          "scatterternary": [
           {
            "marker": {
             "colorbar": {
              "outlinewidth": 0,
              "ticks": ""
             }
            },
            "type": "scatterternary"
           }
          ],
          "surface": [
           {
            "colorbar": {
             "outlinewidth": 0,
             "ticks": ""
            },
            "colorscale": [
             [
              0,
              "#0d0887"
             ],
             [
              0.1111111111111111,
              "#46039f"
             ],
             [
              0.2222222222222222,
              "#7201a8"
             ],
             [
              0.3333333333333333,
              "#9c179e"
             ],
             [
              0.4444444444444444,
              "#bd3786"
             ],
             [
              0.5555555555555556,
              "#d8576b"
             ],
             [
              0.6666666666666666,
              "#ed7953"
             ],
             [
              0.7777777777777778,
              "#fb9f3a"
             ],
             [
              0.8888888888888888,
              "#fdca26"
             ],
             [
              1,
              "#f0f921"
             ]
            ],
            "type": "surface"
           }
          ],
          "table": [
           {
            "cells": {
             "fill": {
              "color": "#EBF0F8"
             },
             "line": {
              "color": "white"
             }
            },
            "header": {
             "fill": {
              "color": "#C8D4E3"
             },
             "line": {
              "color": "white"
             }
            },
            "type": "table"
           }
          ]
         },
         "layout": {
          "annotationdefaults": {
           "arrowcolor": "#2a3f5f",
           "arrowhead": 0,
           "arrowwidth": 1
          },
          "autotypenumbers": "strict",
          "coloraxis": {
           "colorbar": {
            "outlinewidth": 0,
            "ticks": ""
           }
          },
          "colorscale": {
           "diverging": [
            [
             0,
             "#8e0152"
            ],
            [
             0.1,
             "#c51b7d"
            ],
            [
             0.2,
             "#de77ae"
            ],
            [
             0.3,
             "#f1b6da"
            ],
            [
             0.4,
             "#fde0ef"
            ],
            [
             0.5,
             "#f7f7f7"
            ],
            [
             0.6,
             "#e6f5d0"
            ],
            [
             0.7,
             "#b8e186"
            ],
            [
             0.8,
             "#7fbc41"
            ],
            [
             0.9,
             "#4d9221"
            ],
            [
             1,
             "#276419"
            ]
           ],
           "sequential": [
            [
             0,
             "#0d0887"
            ],
            [
             0.1111111111111111,
             "#46039f"
            ],
            [
             0.2222222222222222,
             "#7201a8"
            ],
            [
             0.3333333333333333,
             "#9c179e"
            ],
            [
             0.4444444444444444,
             "#bd3786"
            ],
            [
             0.5555555555555556,
             "#d8576b"
            ],
            [
             0.6666666666666666,
             "#ed7953"
            ],
            [
             0.7777777777777778,
             "#fb9f3a"
            ],
            [
             0.8888888888888888,
             "#fdca26"
            ],
            [
             1,
             "#f0f921"
            ]
           ],
           "sequentialminus": [
            [
             0,
             "#0d0887"
            ],
            [
             0.1111111111111111,
             "#46039f"
            ],
            [
             0.2222222222222222,
             "#7201a8"
            ],
            [
             0.3333333333333333,
             "#9c179e"
            ],
            [
             0.4444444444444444,
             "#bd3786"
            ],
            [
             0.5555555555555556,
             "#d8576b"
            ],
            [
             0.6666666666666666,
             "#ed7953"
            ],
            [
             0.7777777777777778,
             "#fb9f3a"
            ],
            [
             0.8888888888888888,
             "#fdca26"
            ],
            [
             1,
             "#f0f921"
            ]
           ]
          },
          "colorway": [
           "#636efa",
           "#EF553B",
           "#00cc96",
           "#ab63fa",
           "#FFA15A",
           "#19d3f3",
           "#FF6692",
           "#B6E880",
           "#FF97FF",
           "#FECB52"
          ],
          "font": {
           "color": "#2a3f5f"
          },
          "geo": {
           "bgcolor": "white",
           "lakecolor": "white",
           "landcolor": "#E5ECF6",
           "showlakes": true,
           "showland": true,
           "subunitcolor": "white"
          },
          "hoverlabel": {
           "align": "left"
          },
          "hovermode": "closest",
          "mapbox": {
           "style": "light"
          },
          "paper_bgcolor": "white",
          "plot_bgcolor": "#E5ECF6",
          "polar": {
           "angularaxis": {
            "gridcolor": "white",
            "linecolor": "white",
            "ticks": ""
           },
           "bgcolor": "#E5ECF6",
           "radialaxis": {
            "gridcolor": "white",
            "linecolor": "white",
            "ticks": ""
           }
          },
          "scene": {
           "xaxis": {
            "backgroundcolor": "#E5ECF6",
            "gridcolor": "white",
            "gridwidth": 2,
            "linecolor": "white",
            "showbackground": true,
            "ticks": "",
            "zerolinecolor": "white"
           },
           "yaxis": {
            "backgroundcolor": "#E5ECF6",
            "gridcolor": "white",
            "gridwidth": 2,
            "linecolor": "white",
            "showbackground": true,
            "ticks": "",
            "zerolinecolor": "white"
           },
           "zaxis": {
            "backgroundcolor": "#E5ECF6",
            "gridcolor": "white",
            "gridwidth": 2,
            "linecolor": "white",
            "showbackground": true,
            "ticks": "",
            "zerolinecolor": "white"
           }
          },
          "shapedefaults": {
           "line": {
            "color": "#2a3f5f"
           }
          },
          "ternary": {
           "aaxis": {
            "gridcolor": "white",
            "linecolor": "white",
            "ticks": ""
           },
           "baxis": {
            "gridcolor": "white",
            "linecolor": "white",
            "ticks": ""
           },
           "bgcolor": "#E5ECF6",
           "caxis": {
            "gridcolor": "white",
            "linecolor": "white",
            "ticks": ""
           }
          },
          "title": {
           "x": 0.05
          },
          "xaxis": {
           "automargin": true,
           "gridcolor": "white",
           "linecolor": "white",
           "ticks": "",
           "title": {
            "standoff": 15
           },
           "zerolinecolor": "white",
           "zerolinewidth": 2
          },
          "yaxis": {
           "automargin": true,
           "gridcolor": "white",
           "linecolor": "white",
           "ticks": "",
           "title": {
            "standoff": 15
           },
           "zerolinecolor": "white",
           "zerolinewidth": 2
          }
         }
        },
        "title": {
         "text": "Todays Option Pos (PnL and Delta)",
         "x": 0.5,
         "xanchor": "center"
        },
        "xaxis": {
         "anchor": "y",
         "domain": [
          0,
          0.45
         ],
         "title": {
          "text": "Price"
         }
        },
        "xaxis2": {
         "anchor": "y2",
         "domain": [
          0.55,
          1
         ],
         "title": {
          "text": "Price"
         }
        },
        "yaxis": {
         "anchor": "x",
         "domain": [
          0,
          1
         ],
         "title": {
          "text": "Pnl"
         }
        },
        "yaxis2": {
         "anchor": "x2",
         "domain": [
          0,
          1
         ],
         "title": {
          "text": "Delta"
         }
        }
       }
      },
      "text/html": [
       "<div>                            <div id=\"a6551a11-bb52-480d-845e-f789a7024a02\" class=\"plotly-graph-div\" style=\"height:525px; width:100%;\"></div>            <script type=\"text/javascript\">                require([\"plotly\"], function(Plotly) {                    window.PLOTLYENV=window.PLOTLYENV || {};                                    if (document.getElementById(\"a6551a11-bb52-480d-845e-f789a7024a02\")) {                    Plotly.newPlot(                        \"a6551a11-bb52-480d-845e-f789a7024a02\",                        [{\"name\":\"EUA Jun24 40P\",\"x\":[30,31,32,33,34,35,36,37,38,39,40,41,42,43,44,45,46,47,48,49,50,51,52,53,54,55,56,57,58,59,60,61,62,63,64,65,66,67,68,69,70,71,72,73,74,75,76,77,78,79,80,81,82,83,84,85,86,87,88,89,90,91,92,93,94,95,96,97,98,99,100],\"y\":[801499.0556243575,720949.0513658721,641816.012840244,564767.1040300194,490586.6300357246,420120.5639265085,354202.1882966654,293571.58343569975,238803.36477940308,190254.89900198265,148042.22701528016,112044.8516686751,81935.16228620407,57224.75257572131,37318.64095815406,21569.136140029732,9323.117423888894,-40.962089677802105,-7087.635991196381,-12309.964512421835,-16124.285606174491,-18871.8742131093,-20825.17599601976,-22196.573687081378,-23148.09226169797,-23800.927420419797,-24244.11093344925,-24541.967646973113,-24740.263402275625,-24871.09988187074,-24956.699103129242,-25012.256476237184,-25048.044652049204,-25070.93479454806,-25085.477462933086,-25094.658524495913,-25100.420252848748,-25104.015869809384,-25106.247882810272,-25107.626542870967,-25108.47412613662,-25108.992918022665,-25109.309148892607,-25109.501159131032,-25109.617319159606,-25109.687351575918,-25109.729438237402,-25109.754654514913,-25109.769720318658,-25109.778697872043,-25109.784034335185,-25109.78719916674,-25109.78907207943,-25109.790178241623,-25109.790830345348,-25109.791214113553,-25109.791439605917,-25109.791571905254,-25109.791649422892,-25109.791694785625,-25109.791721301717,-25109.79173678563,-25109.791745818482,-25109.791751083612,-25109.791754150265,-25109.791755935283,-25109.7917569735,-25109.791757577135,-25109.791757928055,-25109.791758131858,-25109.791758250256],\"type\":\"scatter\",\"xaxis\":\"x\",\"yaxis\":\"y\"},{\"name\":\"EUA Jun24 40P\",\"x\":[30,31,32,33,34,35,36,37,38,39,40,41,42,43,44,45,46,47,48,49,50,51,52,53,54,55,56,57,58,59,60,61,62,63,64,65,66,67,68,69,70,71,72,73,74,75,76,77,78,79,80,81,82,83,84,85,86,87,88,89,90,91,92,93,94,95,96,97,98,99,100],\"y\":[-49146.323700562076,-48460.6447914126,-47413.3276950693,-45921.71252867115,-43929.17983300875,-41419.54545320472,-38425.01861109012,-35025.532431122665,-31339.642698255393,-27509.324808047288,-23682.216593628265,-19994.936067065344,-16560.2527663956,-13459.557409592171,-10740.72970543406,-8420.487662743903,-6489.7591536538175,-4920.523356111051,-3672.7987860587173,-2700.8477372513216,-1958.087071655662,-1400.5517767351982,-989.0087430458161,-689.9601016831735,-475.82724283258824,-324.59629841165014,-219.16073375871647,-146.5383469095527,-97.08276995200049,-63.76128710966489,-41.53429111843909,-26.84673777046398,-17.226665785124993,-10.977821601293458,-6.950359580282228,-4.3735752236429,-2.7362625966864673,-1.7026148311394262,-1.0540241093259795,-0.6493681959096609,-0.39825557224260066,-0.24320958773027535,-0.14793094453846578,-0.08964016596224589,-0.054126743437299396,-0.032574816433150744,-0.0195435405470068,-0.011691264106827859,-0.006974901806122702,-0.0041505960446386325,-0.002464064391416443,-0.001459595999619978,-0.0008628169179125678,-0.0005090648291794508,-0.00029981679361412716,-0.00017628862258867173,-0.0001034980878777958,-6.067806812559695e-05,-3.552807492646082e-05,-2.0777768394708573e-05,-1.2138301475062008e-05,-7.084205444485292e-06,-4.130845665528682e-06,-2.4067969839336456e-06,-1.401295746106257e-06,-8.153533403998381e-07,-4.7415404935691186e-07,-2.7560176363294886e-07,-1.6012746684168633e-07,-9.300338277284936e-08,-5.4001247917767614e-08],\"type\":\"scatter\",\"xaxis\":\"x2\",\"yaxis\":\"y2\"},{\"name\":\"EUA Jun24 50P\",\"x\":[30,31,32,33,34,35,36,37,38,39,40,41,42,43,44,45,46,47,48,49,50,51,52,53,54,55,56,57,58,59,60,61,62,63,64,65,66,67,68,69,70,71,72,73,74,75,76,77,78,79,80,81,82,83,84,85,86,87,88,89,90,91,92,93,94,95,96,97,98,99,100],\"y\":[-1538901.5220528424,-1456421.6851449402,-1373943.2029824913,-1291468.8463258,-1209005.7566446976,-1126570.4963375628,-1044197.8782529886,-961954.6464821312,-879958.1781256648,-798398.7417231841,-717561.8025344681,-637845.0890614623,-559764.4489764859,-483943.5205447132,-411084.97212377866,-341924.9079696008,-277175.9281453701,-217467.11931462787,-163290.14721059048,-114959.43563876512,-72591.58462866044,-36105.5440808392,-5241.556108693692,20405.74404179364,41346.03184318931,58149.83670632051,71408.02434280278,81697.79733907354,89557.11199482696,95467.90201363844,99847.36459484918,103045.86869594155,105349.75519549535,106987.32256355319,108136.51789739568,108933.17831651597,109479.01152040946,109848.814489073,110096.67896623365,110261.1140097181,110369.1345236785,110439.43175941876,110484.77072279881,110513.76286683197,110532.15074407314,110543.7221378216,110550.94977337211,110555.43217318742,110558.19319474084,110559.88289233115,110560.91057147643,110561.53192584217,110561.90549672334,110562.12889101561,110562.2617972087,110562.34048303687,110562.38685181129,110562.41405550703,110562.42994809957,110562.43919537272,110562.444555418,110562.44765097905,110562.44943255172,110562.45045451252,110562.45103890277,110562.45137208031,110562.45156149812,110562.45166889612,110562.45172963466,110562.45176390192,110562.45178319096],\"type\":\"scatter\",\"xaxis\":\"x\",\"yaxis\":\"y\"},{\"name\":\"EUA Jun24 50P\",\"x\":[30,31,32,33,34,35,36,37,38,39,40,41,42,43,44,45,46,47,48,49,50,51,52,53,54,55,56,57,58,59,60,61,62,63,64,65,66,67,68,69,70,71,72,73,74,75,76,77,78,79,80,81,82,83,84,85,86,87,88,89,90,91,92,93,94,95,96,97,98,99,100],\"y\":[49999.85141814634,49999.42638899604,49998.03963132568,49994.00778163654,49983.46602917736,49958.47355420262,49904.34500152538,49796.527714813485,49597.80534141739,49256.9959825,48710.3855135797,47886.7216446404,46715.71148735417,45138.86432110707,43120.595843905416,40657.12806078221,37781.05506632551,34560.40608998655,31092.309253928528,27492.54431431093,23883.041477286977,20379.580143423966,17081.603823471603,14065.375920111366,11380.892159025347,9052.24968303746,7080.68331792886,5449.258776959476,4128.229112029902,3080.24047409452,2264.8313924047147,1641.9339611061068,1174.3072206532922,828.9898429676923,577.9487140406603,398.1328727723277,271.1349311942779,182.63126062771363,121.73166381684864,80.32860786857943,52.5009743848448,34.000074762174926,21.826571202543388,13.894885425669301,8.775098125751724,5.499631111771652,3.421764989591791,2.1141996197793222,1.2976544391640754,0.7914465218861189,0.4797998515382318,0.28919835657892357,0.173358320859629,0.10337552966976915,0.06133682214359837,0.03622071435560592,0.02129229050296111,0.012462657572598346,0.007264591078692817,0.004218028054614464,0.0024399868236990585,0.0014064481579367794,0.0008079666435900634,0.0004626671601393184,0.000264130500804427,0.00015035203637658867,8.535018802824368e-05,4.8324227952534216e-05,2.7292862414540764e-05,1.5378465167970035e-05,8.645906213189392e-06],\"type\":\"scatter\",\"xaxis\":\"x2\",\"yaxis\":\"y2\"},{\"name\":\"EUA Jun24 65C\",\"x\":[30,31,32,33,34,35,36,37,38,39,40,41,42,43,44,45,46,47,48,49,50,51,52,53,54,55,56,57,58,59,60,61,62,63,64,65,66,67,68,69,70,71,72,73,74,75,76,77,78,79,80,81,82,83,84,85,86,87,88,89,90,91,92,93,94,95,96,97,98,99,100],\"y\":[193149.38756924134,193149.38756924163,193149.3875692409,193149.38756923226,193149.3875691425,193149.38756834078,193149.3875622053,193149.38752146353,193149.3872843855,193149.38606446507,193149.38046742495,193149.35739641002,193149.27135983025,193148.97921784184,193148.07062379795,193145.46814193393,193138.56812905107,193121.55431415074,193082.36690414263,192997.710482782,192825.52299983267,192494.59993285354,191891.62735447902,190846.69187726273,189119.25319917628,186387.33181146003,182242.9888847378,176196.83004367244,167693.18426755536,156135.9418109526,140923.12152125096,121486.51983413064,97331.68390381048,68073.21306875785,33461.069573785855,-6605.005103655703,-52074.049903060884,-102754.66055872735,-158335.7066936848,-218413.74601754776,-282523.5513326155,-350168.3949069984,-420847.38190317893,-494077.99750302103,-569412.9457653073,-646451.1674217271,-724843.540381187,-804294.1581381997,-884558.2596318426,-965437.8899067775,-1046776.2571558553,-1128451.5710209329,-1210370.9435279395,-1292464.7395984924,-1374681.5980011786,-1456984.214455966,-1539345.8870957764,-1621747.7664156477,-1704176.7205947337,-1786623.715492837,-1869082.6101366433,-1951549.277746574,-2034020.975299372,-2116495.898535077,-2198972.872514408,-2281451.139422994,-2363930.2149593695,-2446409.7923346725,-2528889.6788447313,-2611369.7544237077,-2693849.9448438124],\"type\":\"scatter\",\"xaxis\":\"x\",\"yaxis\":\"y\"},{\"name\":\"EUA Jun24 65C\",\"x\":[30,31,32,33,34,35,36,37,38,39,40,41,42,43,44,45,46,47,48,49,50,51,52,53,54,55,56,57,58,59,60,61,62,63,64,65,66,67,68,69,70,71,72,73,74,75,76,77,78,79,80,81,82,83,84,85,86,87,88,89,90,91,92,93,94,95,96,97,98,99,100],\"y\":[-4.588285546142492e-12,-8.10238881608759e-11,-1.1633630792489863e-09,-1.380609106343566e-08,-1.3742566360568012e-07,-1.162684482542734e-06,-8.461616803586314e-06,-5.3549445621688426e-05,-0.000297611066182128,-0.0014656729921268602,-0.006448851920850564,-0.025541571228372893,-0.09169104592977852,-0.3002442271484131,-0.9020491835160955,-2.5000005534273253,-6.4235855260352555,-15.37303588331184,-34.41622333400996,-72.36662595445041,-143.4567358673655,-269.056917147435,-479.01420550312366,-812.0647624862289,-1314.77998201093,-2038.6870586114378,-3035.5538654738066,-4351.274119761325,-6019.211631061003,-8054.130943976065,-10447.861031720407,-13167.585423223027,-16157.183600154696,-19341.48331958784,-22632.762242395474,-25938.479023566302,-29169.08486389856,-32244.868078040647,-35101.06322308462,-37690.827827636575,-39986.0643924817,-41976.37161807375,-43666.60554320677,-45073.60921252453,-46222.64489420494,-47143.96695505798,-47869.84164976547,-48432.183525273,-48860.859234801705,-49182.62048744894,-49420.571870614505,-49594.05321735671,-49718.813341086025,-49807.36450990686,-49869.42776859516,-49912.40245913728,-49941.81519149212,-49961.721917737064,-49975.05083878689,-49983.88370154808,-49989.67921910125,-49993.445674279916,-49995.87106566004,-49997.419138176534,-49998.39886934937,-49999.013859900086,-49999.39686971378,-49999.63360333868,-49999.77886201393,-49999.867368457475,-49999.9209323715],\"type\":\"scatter\",\"xaxis\":\"x2\",\"yaxis\":\"y2\"},{\"name\":\"EUA Jun24 75C\",\"x\":[30,31,32,33,34,35,36,37,38,39,40,41,42,43,44,45,46,47,48,49,50,51,52,53,54,55,56,57,58,59,60,61,62,63,64,65,66,67,68,69,70,71,72,73,74,75,76,77,78,79,80,81,82,83,84,85,86,87,88,89,90,91,92,93,94,95,96,97,98,99,100],\"y\":[-49470.706411217725,-49470.706411217725,-49470.706411217725,-49470.706411217725,-49470.706411217725,-49470.706411217776,-49470.70641121771,-49470.70641121674,-49470.706411209125,-49470.70641114878,-49470.70641073177,-49470.70640817127,-49470.70639409484,-49470.70632432989,-49470.706010668684,-49470.70472391264,-49470.69988133501,-49470.68307913121,-49470.629081473395,-49470.46765603901,-49470.01694408569,-49468.83721661576,-49465.93226300144,-49459.18085749059,-49444.325578967735,-49413.29054214227,-49351.561740745885,-49234.36944178246,-49021.489117136385,-48650.64613204678,-48029.771756909744,-47028.688531019936,-45471.14627639126,-43128.408294510504,-39715.71697031072,-34892.88261019804,-28269.91098474475,-19418.038071456456,-7885.851644805732,6780.53639134824,25014.917514897974,47208.06526839375,73686.6315442319,104695.83942563081,140387.5004190538,180814.25232487463,225930.20924592591,275597.54597752664,329597.9952517992,387647.876110653,449415.1163542909,514536.76896089525,582635.7135984275,653335.5276407937,726272.8511718566,801106.9079744254,877526.1418833241,955252.161753223,1034041.3490362177,1113684.5713141847,1194005.4727659703,1274857.79254068,1356122.1097247603,1437702.3433904592,1519522.2600095586,1601522.167139449,1683655.907460682,1765888.2139609042,1848192.4461769285,1930548.6982872805,2012942.2509538154],\"type\":\"scatter\",\"xaxis\":\"x\",\"yaxis\":\"y\"},{\"name\":\"EUA Jun24 75C\",\"x\":[30,31,32,33,34,35,36,37,38,39,40,41,42,43,44,45,46,47,48,49,50,51,52,53,54,55,56,57,58,59,60,61,62,63,64,65,66,67,68,69,70,71,72,73,74,75,76,77,78,79,80,81,82,83,84,85,86,87,88,89,90,91,92,93,94,95,96,97,98,99,100],\"y\":[3.663638791284669e-18,1.1073840387081414e-16,2.6736935347744943e-15,5.2471954297942134e-14,8.502590393033935e-13,1.1537680890023e-11,1.3279296114188534e-10,1.3114402846159054e-09,1.1230748381504853e-08,8.420145321426208e-08,5.575508614508693e-07,3.2868899622301452e-06,1.737864627650921e-05,8.296856734198188e-05,0.00035990136667087794,0.0014266673929281457,0.005195656652235238,0.01746931412524239,0.05447714387567685,0.15823467053479848,0.42979044184804555,1.09567866242926,2.630749155016636,5.968264179189353,12.832287650628178,26.223022958823712,51.067687735823974,95.01448267583774,169.29650736890864,289.53390399209826,476.2904232482046,755.1732240134168,1156.2789527861764,1712.8543984111673,2459.1531413731045,3427.6132756036222,4645.626771604411,6132.285167533194,7895.540188699285,9930.195225628027,12217.045119372202,14723.325254907268,17404.44679372304,20206.81797368233,23071.41322305653,25937.673678290295,28747.31225868866,31447.64796094136,33994.19135459747,36352.324708502245,38498.04363498458,40417.83420552608,42107.83803708849,43572.50276060619,44822.92772214633,45875.10045111312,46748.18655356123,47462.992975045934,48040.67978718843,48501.75468747253,48865.35098106795,49148.76559325275,49367.218639862855,49533.789126698524,49659.480709071286,49753.37519147962,49822.83778576709,49873.74558711014,49910.71817082538,49937.33594212192,49956.33749831243],\"type\":\"scatter\",\"xaxis\":\"x2\",\"yaxis\":\"y2\"},{\"mode\":\"lines\",\"name\":\"Total_PnL\",\"x\":[30,31,32,33,34,35,36,37,38,39,40,41,42,43,44,45,46,47,48,49,50,51,52,53,54,55,56,57,58,59,60,61,62,63,64,65,66,67,68,69,70,71,72,73,74,75,76,77,78,79,80,81,82,83,84,85,86,87,88,89,90,91,92,93,94,95,96,97,98,99,100],\"y\":[-593723.7852704612,-591793.952621044,-588448.5089842242,-583023.0611377661,-574740.4454510482,-562771.2512539314,-546317.0088053356,-524704.3819361846,-497476.13247308537,-464465.1630678852,-425840.90146249474,-382121.5864045485,-334150.7217245464,-283040.49507547996,-230088.96655249535,-176681.00841154982,-124184.94247376516,-73857.21016928615,-26766.045379117626,16257.842675556021,54639.635820912044,88048.34442228926,116358.96298676412,139596.68137448438,157872.86720169988,171322.95055521847,180055.34055334545,184118.2902939904,183488.54374297033,178082.09781067353,167784.01525606116,152491.4435228151,132162.24817086538,106861.19254325249,76796.39303793773,42340.63207816632,4034.6303797550754,-37427.90001092019,-81231.12725506716,-126479.72215935237,-172247.97342017564,-217629.8907972085,-261785.28878504084,-303977.8963696893,-343602.9119213399,-380202.8803106068,-413472.11080012645,-443250.93464200053,-469511.84090562124,-492339.9096016654,-511910.0142644231,-528463.0573333622,-542283.1135048681,-553676.8732449247,-562956.2758624585,-570424.7572126173,-576367.1498002468,-581042.9821788229,-584682.7332598395,-587486.496678065,-589624.4845365568,-591238.8292917006,-592446.2078878786,-593340.8964411889,-593997.9532200971,-594476.3126674003,-594821.647694163,-595068.9184624492,-595244.5726960963,-595368.396130657,-595455.0338650565],\"type\":\"scatter\",\"xaxis\":\"x\",\"yaxis\":\"y\"},{\"mode\":\"lines\",\"name\":\"Total_Delta\",\"x\":[30,31,32,33,34,35,36,37,38,39,40,41,42,43,44,45,46,47,48,49,50,51,52,53,54,55,56,57,58,59,60,61,62,63,64,65,66,67,68,69,70,71,72,73,74,75,76,77,78,79,80,81,82,83,84,85,86,87,88,89,90,91,92,93,94,95,96,97,98,99,100],\"y\":[853.5277175842593,1538.7815975833646,2584.711936255212,4072.2952529515787,6054.286196031189,8538.92809983522,11479.326381973773,14770.995230142686,18258.162345562163,21747.66970886392,25028.162471657062,27891.760039290715,30155.36704729129,31679.006750256314,32378.964449189207,32234.141824152277,31284.877522802315,29624.52716730631,27385.148721679678,24719.48818577569,21781.9274602058,18711.067128203762,15616.211624077681,12569.319320121154,9603.117221832455,6715.189348973196,3877.0364064321607,1046.4607929644362,-1818.7687816141922,-4748.117852999112,-7748.273507185927,-10797.324975873968,-13843.824092500352,-16810.616899810273,-19602.610746561993,-22117.106450413994,-24255.059423696555,-25931.654264710876,-27084.84539467781,-27680.95336233588,-27716.91655429689,-27219.289497992035,-26240.48010922573,-24852.985993582493,-23142.51069976609,-21200.826220472343,-19119.12716962776,-16982.433055975966,-14865.37720066688,-12829.508483020858,-10922.050899842783,-9175.931273070055,-7610.802808493594,-6234.7588828358275,-5046.439009443486,-4037.265963598431,-3193.6074491384716,-2498.7165407116263,-1934.363822535459,-1482.1248168252641,-1124.325810184775,-844.6786816632157,-628.6516219613841,-463.6295512176439,-338.91789754887577,-245.63851888378122,-176.5589990706576,-125.88796817991533,-89.06066405581805,-62.531411050091265,-43.58342546716449],\"type\":\"scatter\",\"xaxis\":\"x2\",\"yaxis\":\"y2\"}],                        {\"template\":{\"data\":{\"histogram2dcontour\":[{\"type\":\"histogram2dcontour\",\"colorbar\":{\"outlinewidth\":0,\"ticks\":\"\"},\"colorscale\":[[0.0,\"#0d0887\"],[0.1111111111111111,\"#46039f\"],[0.2222222222222222,\"#7201a8\"],[0.3333333333333333,\"#9c179e\"],[0.4444444444444444,\"#bd3786\"],[0.5555555555555556,\"#d8576b\"],[0.6666666666666666,\"#ed7953\"],[0.7777777777777778,\"#fb9f3a\"],[0.8888888888888888,\"#fdca26\"],[1.0,\"#f0f921\"]]}],\"choropleth\":[{\"type\":\"choropleth\",\"colorbar\":{\"outlinewidth\":0,\"ticks\":\"\"}}],\"histogram2d\":[{\"type\":\"histogram2d\",\"colorbar\":{\"outlinewidth\":0,\"ticks\":\"\"},\"colorscale\":[[0.0,\"#0d0887\"],[0.1111111111111111,\"#46039f\"],[0.2222222222222222,\"#7201a8\"],[0.3333333333333333,\"#9c179e\"],[0.4444444444444444,\"#bd3786\"],[0.5555555555555556,\"#d8576b\"],[0.6666666666666666,\"#ed7953\"],[0.7777777777777778,\"#fb9f3a\"],[0.8888888888888888,\"#fdca26\"],[1.0,\"#f0f921\"]]}],\"heatmap\":[{\"type\":\"heatmap\",\"colorbar\":{\"outlinewidth\":0,\"ticks\":\"\"},\"colorscale\":[[0.0,\"#0d0887\"],[0.1111111111111111,\"#46039f\"],[0.2222222222222222,\"#7201a8\"],[0.3333333333333333,\"#9c179e\"],[0.4444444444444444,\"#bd3786\"],[0.5555555555555556,\"#d8576b\"],[0.6666666666666666,\"#ed7953\"],[0.7777777777777778,\"#fb9f3a\"],[0.8888888888888888,\"#fdca26\"],[1.0,\"#f0f921\"]]}],\"heatmapgl\":[{\"type\":\"heatmapgl\",\"colorbar\":{\"outlinewidth\":0,\"ticks\":\"\"},\"colorscale\":[[0.0,\"#0d0887\"],[0.1111111111111111,\"#46039f\"],[0.2222222222222222,\"#7201a8\"],[0.3333333333333333,\"#9c179e\"],[0.4444444444444444,\"#bd3786\"],[0.5555555555555556,\"#d8576b\"],[0.6666666666666666,\"#ed7953\"],[0.7777777777777778,\"#fb9f3a\"],[0.8888888888888888,\"#fdca26\"],[1.0,\"#f0f921\"]]}],\"contourcarpet\":[{\"type\":\"contourcarpet\",\"colorbar\":{\"outlinewidth\":0,\"ticks\":\"\"}}],\"contour\":[{\"type\":\"contour\",\"colorbar\":{\"outlinewidth\":0,\"ticks\":\"\"},\"colorscale\":[[0.0,\"#0d0887\"],[0.1111111111111111,\"#46039f\"],[0.2222222222222222,\"#7201a8\"],[0.3333333333333333,\"#9c179e\"],[0.4444444444444444,\"#bd3786\"],[0.5555555555555556,\"#d8576b\"],[0.6666666666666666,\"#ed7953\"],[0.7777777777777778,\"#fb9f3a\"],[0.8888888888888888,\"#fdca26\"],[1.0,\"#f0f921\"]]}],\"surface\":[{\"type\":\"surface\",\"colorbar\":{\"outlinewidth\":0,\"ticks\":\"\"},\"colorscale\":[[0.0,\"#0d0887\"],[0.1111111111111111,\"#46039f\"],[0.2222222222222222,\"#7201a8\"],[0.3333333333333333,\"#9c179e\"],[0.4444444444444444,\"#bd3786\"],[0.5555555555555556,\"#d8576b\"],[0.6666666666666666,\"#ed7953\"],[0.7777777777777778,\"#fb9f3a\"],[0.8888888888888888,\"#fdca26\"],[1.0,\"#f0f921\"]]}],\"mesh3d\":[{\"type\":\"mesh3d\",\"colorbar\":{\"outlinewidth\":0,\"ticks\":\"\"}}],\"scatter\":[{\"fillpattern\":{\"fillmode\":\"overlay\",\"size\":10,\"solidity\":0.2},\"type\":\"scatter\"}],\"parcoords\":[{\"type\":\"parcoords\",\"line\":{\"colorbar\":{\"outlinewidth\":0,\"ticks\":\"\"}}}],\"scatterpolargl\":[{\"type\":\"scatterpolargl\",\"marker\":{\"colorbar\":{\"outlinewidth\":0,\"ticks\":\"\"}}}],\"bar\":[{\"error_x\":{\"color\":\"#2a3f5f\"},\"error_y\":{\"color\":\"#2a3f5f\"},\"marker\":{\"line\":{\"color\":\"#E5ECF6\",\"width\":0.5},\"pattern\":{\"fillmode\":\"overlay\",\"size\":10,\"solidity\":0.2}},\"type\":\"bar\"}],\"scattergeo\":[{\"type\":\"scattergeo\",\"marker\":{\"colorbar\":{\"outlinewidth\":0,\"ticks\":\"\"}}}],\"scatterpolar\":[{\"type\":\"scatterpolar\",\"marker\":{\"colorbar\":{\"outlinewidth\":0,\"ticks\":\"\"}}}],\"histogram\":[{\"marker\":{\"pattern\":{\"fillmode\":\"overlay\",\"size\":10,\"solidity\":0.2}},\"type\":\"histogram\"}],\"scattergl\":[{\"type\":\"scattergl\",\"marker\":{\"colorbar\":{\"outlinewidth\":0,\"ticks\":\"\"}}}],\"scatter3d\":[{\"type\":\"scatter3d\",\"line\":{\"colorbar\":{\"outlinewidth\":0,\"ticks\":\"\"}},\"marker\":{\"colorbar\":{\"outlinewidth\":0,\"ticks\":\"\"}}}],\"scattermapbox\":[{\"type\":\"scattermapbox\",\"marker\":{\"colorbar\":{\"outlinewidth\":0,\"ticks\":\"\"}}}],\"scatterternary\":[{\"type\":\"scatterternary\",\"marker\":{\"colorbar\":{\"outlinewidth\":0,\"ticks\":\"\"}}}],\"scattercarpet\":[{\"type\":\"scattercarpet\",\"marker\":{\"colorbar\":{\"outlinewidth\":0,\"ticks\":\"\"}}}],\"carpet\":[{\"aaxis\":{\"endlinecolor\":\"#2a3f5f\",\"gridcolor\":\"white\",\"linecolor\":\"white\",\"minorgridcolor\":\"white\",\"startlinecolor\":\"#2a3f5f\"},\"baxis\":{\"endlinecolor\":\"#2a3f5f\",\"gridcolor\":\"white\",\"linecolor\":\"white\",\"minorgridcolor\":\"white\",\"startlinecolor\":\"#2a3f5f\"},\"type\":\"carpet\"}],\"table\":[{\"cells\":{\"fill\":{\"color\":\"#EBF0F8\"},\"line\":{\"color\":\"white\"}},\"header\":{\"fill\":{\"color\":\"#C8D4E3\"},\"line\":{\"color\":\"white\"}},\"type\":\"table\"}],\"barpolar\":[{\"marker\":{\"line\":{\"color\":\"#E5ECF6\",\"width\":0.5},\"pattern\":{\"fillmode\":\"overlay\",\"size\":10,\"solidity\":0.2}},\"type\":\"barpolar\"}],\"pie\":[{\"automargin\":true,\"type\":\"pie\"}]},\"layout\":{\"autotypenumbers\":\"strict\",\"colorway\":[\"#636efa\",\"#EF553B\",\"#00cc96\",\"#ab63fa\",\"#FFA15A\",\"#19d3f3\",\"#FF6692\",\"#B6E880\",\"#FF97FF\",\"#FECB52\"],\"font\":{\"color\":\"#2a3f5f\"},\"hovermode\":\"closest\",\"hoverlabel\":{\"align\":\"left\"},\"paper_bgcolor\":\"white\",\"plot_bgcolor\":\"#E5ECF6\",\"polar\":{\"bgcolor\":\"#E5ECF6\",\"angularaxis\":{\"gridcolor\":\"white\",\"linecolor\":\"white\",\"ticks\":\"\"},\"radialaxis\":{\"gridcolor\":\"white\",\"linecolor\":\"white\",\"ticks\":\"\"}},\"ternary\":{\"bgcolor\":\"#E5ECF6\",\"aaxis\":{\"gridcolor\":\"white\",\"linecolor\":\"white\",\"ticks\":\"\"},\"baxis\":{\"gridcolor\":\"white\",\"linecolor\":\"white\",\"ticks\":\"\"},\"caxis\":{\"gridcolor\":\"white\",\"linecolor\":\"white\",\"ticks\":\"\"}},\"coloraxis\":{\"colorbar\":{\"outlinewidth\":0,\"ticks\":\"\"}},\"colorscale\":{\"sequential\":[[0.0,\"#0d0887\"],[0.1111111111111111,\"#46039f\"],[0.2222222222222222,\"#7201a8\"],[0.3333333333333333,\"#9c179e\"],[0.4444444444444444,\"#bd3786\"],[0.5555555555555556,\"#d8576b\"],[0.6666666666666666,\"#ed7953\"],[0.7777777777777778,\"#fb9f3a\"],[0.8888888888888888,\"#fdca26\"],[1.0,\"#f0f921\"]],\"sequentialminus\":[[0.0,\"#0d0887\"],[0.1111111111111111,\"#46039f\"],[0.2222222222222222,\"#7201a8\"],[0.3333333333333333,\"#9c179e\"],[0.4444444444444444,\"#bd3786\"],[0.5555555555555556,\"#d8576b\"],[0.6666666666666666,\"#ed7953\"],[0.7777777777777778,\"#fb9f3a\"],[0.8888888888888888,\"#fdca26\"],[1.0,\"#f0f921\"]],\"diverging\":[[0,\"#8e0152\"],[0.1,\"#c51b7d\"],[0.2,\"#de77ae\"],[0.3,\"#f1b6da\"],[0.4,\"#fde0ef\"],[0.5,\"#f7f7f7\"],[0.6,\"#e6f5d0\"],[0.7,\"#b8e186\"],[0.8,\"#7fbc41\"],[0.9,\"#4d9221\"],[1,\"#276419\"]]},\"xaxis\":{\"gridcolor\":\"white\",\"linecolor\":\"white\",\"ticks\":\"\",\"title\":{\"standoff\":15},\"zerolinecolor\":\"white\",\"automargin\":true,\"zerolinewidth\":2},\"yaxis\":{\"gridcolor\":\"white\",\"linecolor\":\"white\",\"ticks\":\"\",\"title\":{\"standoff\":15},\"zerolinecolor\":\"white\",\"automargin\":true,\"zerolinewidth\":2},\"scene\":{\"xaxis\":{\"backgroundcolor\":\"#E5ECF6\",\"gridcolor\":\"white\",\"linecolor\":\"white\",\"showbackground\":true,\"ticks\":\"\",\"zerolinecolor\":\"white\",\"gridwidth\":2},\"yaxis\":{\"backgroundcolor\":\"#E5ECF6\",\"gridcolor\":\"white\",\"linecolor\":\"white\",\"showbackground\":true,\"ticks\":\"\",\"zerolinecolor\":\"white\",\"gridwidth\":2},\"zaxis\":{\"backgroundcolor\":\"#E5ECF6\",\"gridcolor\":\"white\",\"linecolor\":\"white\",\"showbackground\":true,\"ticks\":\"\",\"zerolinecolor\":\"white\",\"gridwidth\":2}},\"shapedefaults\":{\"line\":{\"color\":\"#2a3f5f\"}},\"annotationdefaults\":{\"arrowcolor\":\"#2a3f5f\",\"arrowhead\":0,\"arrowwidth\":1},\"geo\":{\"bgcolor\":\"white\",\"landcolor\":\"#E5ECF6\",\"subunitcolor\":\"white\",\"showland\":true,\"showlakes\":true,\"lakecolor\":\"white\"},\"title\":{\"x\":0.05},\"mapbox\":{\"style\":\"light\"}}},\"xaxis\":{\"anchor\":\"y\",\"domain\":[0.0,0.45],\"title\":{\"text\":\"Price\"}},\"yaxis\":{\"anchor\":\"x\",\"domain\":[0.0,1.0],\"title\":{\"text\":\"Pnl\"}},\"xaxis2\":{\"anchor\":\"y2\",\"domain\":[0.55,1.0],\"title\":{\"text\":\"Price\"}},\"yaxis2\":{\"anchor\":\"x2\",\"domain\":[0.0,1.0],\"title\":{\"text\":\"Delta\"}},\"title\":{\"text\":\"Todays Option Pos (PnL and Delta)\",\"x\":0.5,\"xanchor\":\"center\"},\"barmode\":\"stack\"},                        {\"responsive\": true}                    ).then(function(){\n",
       "                            \n",
       "var gd = document.getElementById('a6551a11-bb52-480d-845e-f789a7024a02');\n",
       "var x = new MutationObserver(function (mutations, observer) {{\n",
       "        var display = window.getComputedStyle(gd).display;\n",
       "        if (!display || display === 'none') {{\n",
       "            console.log([gd, 'removed!']);\n",
       "            Plotly.purge(gd);\n",
       "            observer.disconnect();\n",
       "        }}\n",
       "}});\n",
       "\n",
       "// Listen for the removal of the full notebook cells\n",
       "var notebookContainer = gd.closest('#notebook-container');\n",
       "if (notebookContainer) {{\n",
       "    x.observe(notebookContainer, {childList: true});\n",
       "}}\n",
       "\n",
       "// Listen for the clearing of the current output cell\n",
       "var outputEl = gd.closest('.output');\n",
       "if (outputEl) {{\n",
       "    x.observe(outputEl, {childList: true});\n",
       "}}\n",
       "\n",
       "                        })                };                });            </script>        </div>"
      ]
     },
     "metadata": {},
     "output_type": "display_data"
    }
   ],
   "source": [
    "pnl_delta_plot(end_of_may)"
   ]
  },
  {
   "cell_type": "markdown",
   "id": "53e1ac51",
   "metadata": {},
   "source": [
    "## Mid June"
   ]
  },
  {
   "cell_type": "code",
   "execution_count": 19,
   "id": "d5935e2b",
   "metadata": {},
   "outputs": [
    {
     "data": {
      "application/vnd.plotly.v1+json": {
       "config": {
        "plotlyServerURL": "https://plot.ly"
       },
       "data": [
        {
         "name": "EUA Jun24 40P",
         "type": "scatter",
         "x": [
          30,
          31,
          32,
          33,
          34,
          35,
          36,
          37,
          38,
          39,
          40,
          41,
          42,
          43,
          44,
          45,
          46,
          47,
          48,
          49,
          50,
          51,
          52,
          53,
          54,
          55,
          56,
          57,
          58,
          59,
          60,
          61,
          62,
          63,
          64,
          65,
          66,
          67,
          68,
          69,
          70,
          71,
          72,
          73,
          74,
          75,
          76,
          77,
          78,
          79,
          80,
          81,
          82,
          83,
          84,
          85,
          86,
          87,
          88,
          89,
          90,
          91,
          92,
          93,
          94,
          95,
          96,
          97,
          98,
          99,
          100
         ],
         "xaxis": "x",
         "y": [
          800902.0916148059,
          718298.9221024719,
          635699.6203091413,
          553126.9471963601,
          470689.56074912613,
          388771.5249389239,
          308392.49714955845,
          231602.59020991114,
          161516.53006321876,
          101620.90701482492,
          54517.27712925135,
          20852.746777380842,
          -849.3168425407919,
          -13427.225193215354,
          -19979.518222337465,
          -23053.151493952097,
          -24355.56966621802,
          -24856.056502002186,
          -25031.228655150277,
          -25087.324847410757,
          -25103.83594669636,
          -25108.322796908637,
          -25109.453432991246,
          -25109.718735233837,
          -25109.776937081708,
          -25109.78892012874,
          -25109.79124395839,
          -25109.791669886235,
          -25109.791743909285,
          -25109.791756145096,
          -25109.791758074276,
          -25109.791758365416,
          -25109.79175840716,
          -25109.7917584132,
          -25109.791758413892,
          -25109.791758414107,
          -25109.791758413856,
          -25109.791758414038,
          -25109.791758414038,
          -25109.791758414038,
          -25109.791758414038,
          -25109.791758414038,
          -25109.791758414038,
          -25109.791758414038,
          -25109.791758414038,
          -25109.791758414038,
          -25109.791758414038,
          -25109.791758414038,
          -25109.791758414038,
          -25109.791758414038,
          -25109.791758414038,
          -25109.791758414038,
          -25109.791758414038,
          -25109.791758414038,
          -25109.791758414038,
          -25109.791758414038,
          -25109.791758414038,
          -25109.791758414038,
          -25109.791758414038,
          -25109.791758414038,
          -25109.791758414038,
          -25109.791758414038,
          -25109.791758414038,
          -25109.791758414038,
          -25109.791758414038,
          -25109.791758414038,
          -25109.791758414038,
          -25109.791758414038,
          -25109.791758414038,
          -25109.791758414038,
          -25109.791758414038
         ],
         "yaxis": "y"
        },
        {
         "name": "EUA Jun24 40P",
         "type": "scatter",
         "x": [
          30,
          31,
          32,
          33,
          34,
          35,
          36,
          37,
          38,
          39,
          40,
          41,
          42,
          43,
          44,
          45,
          46,
          47,
          48,
          49,
          50,
          51,
          52,
          53,
          54,
          55,
          56,
          57,
          58,
          59,
          60,
          61,
          62,
          63,
          64,
          65,
          66,
          67,
          68,
          69,
          70,
          71,
          72,
          73,
          74,
          75,
          76,
          77,
          78,
          79,
          80,
          81,
          82,
          83,
          84,
          85,
          86,
          87,
          88,
          89,
          90,
          91,
          92,
          93,
          94,
          95,
          96,
          97,
          98,
          99,
          100
         ],
         "xaxis": "x2",
         "y": [
          -49999.94402154474,
          -49999.2961505003,
          -49993.75569631837,
          -49959.634107463105,
          -49804.18954745655,
          -49267.621095910625,
          -47833.51422905366,
          -44807.00367041782,
          -39673.552200348175,
          -32561.67839574768,
          -24395.01179661947,
          -16516.98977987096,
          -10054.022942431107,
          -5493.901637193555,
          -2697.888752306621,
          -1193.8839566233096,
          -477.88815185169085,
          -173.77696543522947,
          -57.67030409895013,
          -17.54819202123281,
          -4.918580430546271,
          -1.2756458964202633,
          -0.30745971795198557,
          -0.06915395754925058,
          -0.01457245062952417,
          -0.0028877684521422253,
          -0.0005400651204023887,
          -9.563970171377889e-05,
          -1.608832511656999e-05,
          -2.578443014655818e-06,
          -3.9481751201719817e-07,
          -5.791478407957129e-08,
          -8.1601392309949e-09,
          -1.1046719095020308e-09,
          -1.4432899320127035e-10,
          -1.6653345369377348e-11,
          0,
          0,
          0,
          0,
          0,
          0,
          0,
          0,
          0,
          0,
          0,
          0,
          0,
          0,
          0,
          0,
          0,
          0,
          0,
          0,
          0,
          0,
          0,
          0,
          0,
          0,
          0,
          0,
          0,
          0,
          0,
          0,
          0,
          0,
          0
         ],
         "yaxis": "y2"
        },
        {
         "name": "EUA Jun24 50P",
         "type": "scatter",
         "x": [
          30,
          31,
          32,
          33,
          34,
          35,
          36,
          37,
          38,
          39,
          40,
          41,
          42,
          43,
          44,
          45,
          46,
          47,
          48,
          49,
          50,
          51,
          52,
          53,
          54,
          55,
          56,
          57,
          58,
          59,
          60,
          61,
          62,
          63,
          64,
          65,
          66,
          67,
          68,
          69,
          70,
          71,
          72,
          73,
          74,
          75,
          76,
          77,
          78,
          79,
          80,
          81,
          82,
          83,
          84,
          85,
          86,
          87,
          88,
          89,
          90,
          91,
          92,
          93,
          94,
          95,
          96,
          97,
          98,
          99,
          100
         ],
         "xaxis": "x",
         "y": [
          -1541479.393020328,
          -1458875.7888652247,
          -1376272.184710122,
          -1293668.580555018,
          -1211064.9763999158,
          -1128461.3722448498,
          -1045857.7680914648,
          -963254.1639913509,
          -880650.5610647658,
          -798046.9765835089,
          -715443.6037843546,
          -632842.0423366738,
          -550252.2612946016,
          -467721.7412913514,
          -385425.545058972,
          -303868.4959837262,
          -224197.0257777101,
          -148465.07525704708,
          -79553.5354083885,
          -20533.61422545835,
          26346.67797475725,
          60500.25030943723,
          83155.92257020508,
          96785.94287220041,
          104212.51499789189,
          107878.92566868105,
          109521.72584712716,
          110191.46144677784,
          110440.6348747189,
          110525.5162753558,
          110552.08271355016,
          110559.74897174077,
          110561.79577067302,
          110562.30310556751,
          110562.42024138945,
          110562.44551465976,
          110562.45062629956,
          110562.45159833715,
          110562.45177262726,
          110562.45180217462,
          110562.45180692308,
          110562.4518076485,
          110562.45180775391,
          110562.45180776862,
          110562.4518077705,
          110562.45180777075,
          110562.45180777076,
          110562.45180777075,
          110562.45180777075,
          110562.45180777075,
          110562.45180777075,
          110562.45180777075,
          110562.45180777075,
          110562.45180777075,
          110562.45180777075,
          110562.45180777075,
          110562.45180777075,
          110562.45180777075,
          110562.45180777075,
          110562.45180777075,
          110562.45180777075,
          110562.45180777075,
          110562.45180777075,
          110562.45180777075,
          110562.45180777075,
          110562.45180777075,
          110562.45180777075,
          110562.45180777075,
          110562.45180777075,
          110562.45180777075,
          110562.45180777075
         ],
         "yaxis": "y"
        },
        {
         "name": "EUA Jun24 50P",
         "type": "scatter",
         "x": [
          30,
          31,
          32,
          33,
          34,
          35,
          36,
          37,
          38,
          39,
          40,
          41,
          42,
          43,
          44,
          45,
          46,
          47,
          48,
          49,
          50,
          51,
          52,
          53,
          54,
          55,
          56,
          57,
          58,
          59,
          60,
          61,
          62,
          63,
          64,
          65,
          66,
          67,
          68,
          69,
          70,
          71,
          72,
          73,
          74,
          75,
          76,
          77,
          78,
          79,
          80,
          81,
          82,
          83,
          84,
          85,
          86,
          87,
          88,
          89,
          90,
          91,
          92,
          93,
          94,
          95,
          96,
          97,
          98,
          99,
          100
         ],
         "xaxis": "x2",
         "y": [
          50000,
          50000,
          50000,
          49999.999999999985,
          49999.99999999861,
          49999.99999990913,
          49999.99999610754,
          49999.99988688343,
          49999.99770378642,
          49999.9665601974,
          49999.64197406539,
          49997.11743379404,
          49982.17734574839,
          49913.69790129521,
          49666.58915088866,
          48953.97399175651,
          47288.756625210895,
          44095.10139188433,
          39008.293502917055,
          32205.184630576838,
          24487.292628559066,
          16989.495431225467,
          10696.695702752451,
          6096.229884649712,
          3144.0542576633256,
          1469.1828887485326,
          623.4466581758136,
          240.94570418423112,
          85.08634603345277,
          27.550787812319342,
          8.209002529152576,
          2.258805651933482,
          0.5760064567039702,
          0.13659246745345577,
          0.030221883218217727,
          0.006258987245155723,
          0.001217059231173323,
          0.00022285662204524215,
          3.853633523398514e-05,
          6.309802680348753e-06,
          9.807932244143558e-07,
          1.4508394485801546e-07,
          2.0472512574087887e-08,
          2.758904216193514e-09,
          3.552713678800501e-10,
          4.440892098500626e-11,
          5.551115123125783e-12,
          0,
          0,
          0,
          0,
          0,
          0,
          0,
          0,
          0,
          0,
          0,
          0,
          0,
          0,
          0,
          0,
          0,
          0,
          0,
          0,
          0,
          0,
          0,
          0
         ],
         "yaxis": "y2"
        },
        {
         "name": "EUA Jun24 65C",
         "type": "scatter",
         "x": [
          30,
          31,
          32,
          33,
          34,
          35,
          36,
          37,
          38,
          39,
          40,
          41,
          42,
          43,
          44,
          45,
          46,
          47,
          48,
          49,
          50,
          51,
          52,
          53,
          54,
          55,
          56,
          57,
          58,
          59,
          60,
          61,
          62,
          63,
          64,
          65,
          66,
          67,
          68,
          69,
          70,
          71,
          72,
          73,
          74,
          75,
          76,
          77,
          78,
          79,
          80,
          81,
          82,
          83,
          84,
          85,
          86,
          87,
          88,
          89,
          90,
          91,
          92,
          93,
          94,
          95,
          96,
          97,
          98,
          99,
          100
         ],
         "xaxis": "x",
         "y": [
          193149.3875692416,
          193149.3875692416,
          193149.3875692416,
          193149.3875692416,
          193149.3875692416,
          193149.3875692416,
          193149.3875692416,
          193149.3875692416,
          193149.3875692416,
          193149.3875692416,
          193149.3875692416,
          193149.3875692416,
          193149.3875692416,
          193149.3875692416,
          193149.3875692416,
          193149.3875692416,
          193149.3875692414,
          193149.3875692411,
          193149.38756922167,
          193149.38756862178,
          193149.38755481763,
          193149.38731271648,
          193149.38402699065,
          193149.34902657545,
          193149.05245858314,
          193147.02818026402,
          193135.76336648446,
          193084.0658206823,
          192886.2279080446,
          192248.0947506372,
          190494.75579484174,
          186347.61892428942,
          177812.89150242019,
          162361.90735686183,
          137471.35965987528,
          101354.44388561921,
          53532.9335223099,
          -5047.9964211790375,
          -72396.79192176004,
          -146112.20212559623,
          -223967.20357351334,
          -304243.56616234523,
          -385799.70714387915,
          -467969.6238948069,
          -550407.7187935455,
          -632952.9735092985,
          -715537.530143551,
          -798135.362967439,
          -880737.3400442319,
          -963340.5163487704,
          -1045944.0153147574,
          -1128547.5952333952,
          -1211151.1941429784,
          -1293754.7972292635,
          -1376358.4011788918,
          -1458962.0052966462,
          -1541565.6094453172,
          -1624169.213599368,
          -1706772.81775431,
          -1789376.4219093893,
          -1871980.0260644876,
          -1954583.6302195906,
          -2037187.2343746945,
          -2119790.8385297963,
          -2202394.4426849005,
          -2284998.0468400037,
          -2367601.6509951064,
          -2450205.255150209,
          -2532808.8593053124,
          -2615412.463460415,
          -2698016.0676155193
         ],
         "yaxis": "y"
        },
        {
         "name": "EUA Jun24 65C",
         "type": "scatter",
         "x": [
          30,
          31,
          32,
          33,
          34,
          35,
          36,
          37,
          38,
          39,
          40,
          41,
          42,
          43,
          44,
          45,
          46,
          47,
          48,
          49,
          50,
          51,
          52,
          53,
          54,
          55,
          56,
          57,
          58,
          59,
          60,
          61,
          62,
          63,
          64,
          65,
          66,
          67,
          68,
          69,
          70,
          71,
          72,
          73,
          74,
          75,
          76,
          77,
          78,
          79,
          80,
          81,
          82,
          83,
          84,
          85,
          86,
          87,
          88,
          89,
          90,
          91,
          92,
          93,
          94,
          95,
          96,
          97,
          98,
          99,
          100
         ],
         "xaxis": "x2",
         "y": [
          -3.212344561844447e-68,
          -2.444533263583676e-62,
          -6.938834613237677e-57,
          -7.94041055881529e-52,
          -3.92792288632052e-47,
          -8.943978010854617e-43,
          -9.921766682723741e-39,
          -5.644907332174629e-35,
          -1.7258455933842824e-31,
          -2.958528416272168e-28,
          -2.9560806997643976e-25,
          -1.7837117747061374e-22,
          -6.71458085710173e-20,
          -1.6246822135240003e-17,
          -2.5972420235087184e-15,
          -2.8136114978795967e-13,
          -2.1144782800269405e-11,
          -1.1265695975726125e-09,
          -4.3418914701484535e-08,
          -1.2334021438520897e-06,
          -2.6279795008725125e-05,
          -0.00042689423373751923,
          -0.005368369627207015,
          -0.05301901606137811,
          -0.41684732186909035,
          -2.6427556523429474,
          -13.676776020906805,
          -58.45856792527441,
          -208.7221403599148,
          -629.4239516003204,
          -1620.7310578573959,
          -3602.619476872341,
          -6990.336680321344,
          -11977.146143788317,
          -18341.895283016507,
          -25430.7292123707,
          -32362.490138000445,
          -38347.795701012685,
          -42936.28399750046,
          -46075.6108160756,
          -48001.868932964244,
          -49066.80275743118,
          -49599.62028008799,
          -49841.892873632794,
          -49942.408257756724,
          -49980.60369556407,
          -49993.94536125916,
          -49998.24391508867,
          -49999.52557297992,
          -49999.88031814825,
          -49999.97173998149,
          -49999.99373921645,
          -49999.998695641705,
          -49999.999743877524,
          -49999.99995249699,
          -49999.99999166077,
          -49999.99999861152,
          -49999.99999978031,
          -49999.9999999669,
          -49999.99999999524,
          -49999.999999999345,
          -49999.99999999992,
          -49999.999999999985,
          -50000,
          -50000,
          -50000,
          -50000,
          -50000,
          -50000,
          -50000,
          -50000
         ],
         "yaxis": "y2"
        },
        {
         "name": "EUA Jun24 75C",
         "type": "scatter",
         "x": [
          30,
          31,
          32,
          33,
          34,
          35,
          36,
          37,
          38,
          39,
          40,
          41,
          42,
          43,
          44,
          45,
          46,
          47,
          48,
          49,
          50,
          51,
          52,
          53,
          54,
          55,
          56,
          57,
          58,
          59,
          60,
          61,
          62,
          63,
          64,
          65,
          66,
          67,
          68,
          69,
          70,
          71,
          72,
          73,
          74,
          75,
          76,
          77,
          78,
          79,
          80,
          81,
          82,
          83,
          84,
          85,
          86,
          87,
          88,
          89,
          90,
          91,
          92,
          93,
          94,
          95,
          96,
          97,
          98,
          99,
          100
         ],
         "xaxis": "x",
         "y": [
          -49470.706411217725,
          -49470.706411217725,
          -49470.706411217725,
          -49470.706411217725,
          -49470.706411217725,
          -49470.706411217725,
          -49470.706411217725,
          -49470.706411217725,
          -49470.706411217725,
          -49470.706411217725,
          -49470.706411217725,
          -49470.706411217725,
          -49470.706411217725,
          -49470.706411217725,
          -49470.706411217725,
          -49470.706411217725,
          -49470.706411217725,
          -49470.706411217725,
          -49470.706411217725,
          -49470.706411217725,
          -49470.706411217725,
          -49470.706411217725,
          -49470.706411217725,
          -49470.706411217885,
          -49470.70641121743,
          -49470.706411211024,
          -49470.706411074665,
          -49470.70640871162,
          -49470.7063756577,
          -49470.70599766787,
          -49470.702429527446,
          -49470.67436748213,
          -49470.48887775124,
          -49469.449744055724,
          -49464.4764650694,
          -49443.98537621065,
          -49370.76144624542,
          -49142.18639753665,
          -48514.4946812496,
          -46987.564061123354,
          -43674.334989504576,
          -37216.72480513692,
          -25830.68013063163,
          -7534.850033921913,
          19464.51963365396,
          56354.14830969684,
          103423.13460066436,
          160017.34834273116,
          224744.34623070218,
          295829.16333727946,
          371479.72560047003,
          450151.7438270392,
          530671.8767872488,
          612239.8622543443,
          694360.0865901139,
          776751.5521309363,
          859267.4933205824,
          941836.9359691419,
          1024427.9664171682,
          1107027.1924586303,
          1189629.3521630643,
          1272232.5040440653,
          1354835.9735921603,
          1437439.539607918,
          1520043.1334596844,
          1602646.7349569649,
          1685250.3384564563,
          1767853.9424566964,
          1850457.5465767207,
          1933061.1507241935,
          2015664.754877703
         ],
         "yaxis": "y"
        },
        {
         "name": "EUA Jun24 75C",
         "type": "scatter",
         "x": [
          30,
          31,
          32,
          33,
          34,
          35,
          36,
          37,
          38,
          39,
          40,
          41,
          42,
          43,
          44,
          45,
          46,
          47,
          48,
          49,
          50,
          51,
          52,
          53,
          54,
          55,
          56,
          57,
          58,
          59,
          60,
          61,
          62,
          63,
          64,
          65,
          66,
          67,
          68,
          69,
          70,
          71,
          72,
          73,
          74,
          75,
          76,
          77,
          78,
          79,
          80,
          81,
          82,
          83,
          84,
          85,
          86,
          87,
          88,
          89,
          90,
          91,
          92,
          93,
          94,
          95,
          96,
          97,
          98,
          99,
          100
         ],
         "xaxis": "x2",
         "y": [
          4.976194818229001e-97,
          4.982298988455647e-90,
          1.7119302672492527e-83,
          2.192983609490792e-77,
          1.1282195280225377e-71,
          2.4927821765068194e-66,
          2.5132213200831497e-61,
          1.2214913811825725e-56,
          3.0084482502197195e-52,
          3.92948331921841e-48,
          2.837269561799785e-44,
          1.1763553837612342e-40,
          2.8998858415224874e-37,
          4.38866070735758e-34,
          4.199457531308392e-31,
          2.6107914201896664e-28,
          1.0813831752654077e-25,
          3.0543202969663563e-23,
          6.010914322693027e-21,
          8.409165780117319e-19,
          8.519998148737891e-17,
          6.361134018473173e-15,
          3.556864776845164e-13,
          1.512189051094521e-11,
          4.957895630518206e-10,
          1.2702882781265579e-08,
          2.57530758667827e-07,
          4.179875943451607e-06,
          5.491559503157668e-05,
          0.0005901294480904702,
          0.005238347539982323,
          0.038769539101542794,
          0.24137367273223165,
          1.2748731227534866,
          5.7588983562172675,
          22.422776631994868,
          75.82046854424375,
          224.29111336696477,
          584.6369278057266,
          1352.3758566326119,
          2795.990981196026,
          5203.921380018145,
          8783.992693086599,
          13550.407833079018,
          19257.890830957516,
          25430.359371640283,
          31483.179572452584,
          36885.54118565878,
          41290.10355042747,
          44581.72264991097,
          46843.92155123603,
          48278.18558438349,
          49119.59378012589,
          49577.639308595484,
          49809.659420629265,
          49919.30652583967,
          49967.769951126254,
          49987.85260753044,
          49995.672833081444,
          49998.54075860455,
          49999.53338736563,
          49999.85829405123,
          49999.95906375641,
          49999.988733491984,
          49999.9970413719,
          49999.99925757383,
          49999.99982171977,
          49999.99995897507,
          49999.99999094106,
          49999.999998077954,
          49999.99999960766
         ],
         "yaxis": "y2"
        },
        {
         "mode": "lines",
         "name": "Total_PnL",
         "type": "scatter",
         "x": [
          30,
          31,
          32,
          33,
          34,
          35,
          36,
          37,
          38,
          39,
          40,
          41,
          42,
          43,
          44,
          45,
          46,
          47,
          48,
          49,
          50,
          51,
          52,
          53,
          54,
          55,
          56,
          57,
          58,
          59,
          60,
          61,
          62,
          63,
          64,
          65,
          66,
          67,
          68,
          69,
          70,
          71,
          72,
          73,
          74,
          75,
          76,
          77,
          78,
          79,
          80,
          81,
          82,
          83,
          84,
          85,
          86,
          87,
          88,
          89,
          90,
          91,
          92,
          93,
          94,
          95,
          96,
          97,
          98,
          99,
          100
         ],
         "xaxis": "x",
         "y": [
          -596898.6202474982,
          -596898.1856047289,
          -596893.8832429567,
          -596862.952200634,
          -596696.7344927657,
          -596011.166147902,
          -593786.5897838825,
          -587972.8926234159,
          -575455.3498435231,
          -552747.3884106601,
          -517247.6454970794,
          -468310.6144012692,
          -407422.8969791185,
          -337470.28532654286,
          -261726.3821232856,
          -183242.96631965443,
          -104873.91428590444,
          -29642.45060102587,
          39093.91709446516,
          98057.74208453496,
          144921.5231716608,
          179070.60841402735,
          201725.14675298677,
          215354.86675232413,
          222781.0841081759,
          226445.45851760535,
          228076.99155857856,
          228695.0291888623,
          228746.3646631965,
          228193.11327218002,
          226466.34432079017,
          222326.90177018265,
          213794.40663693484,
          198344.96895996042,
          173459.51167778144,
          137363.1122656542,
          89614.83094395019,
          31262.47702120743,
          -35458.62658879642,
          -107647.106142959,
          -182188.87851450886,
          -256007.63091824768,
          -326177.7272251709,
          -390051.8138793742,
          -445490.53911053506,
          -491146.16515024495,
          -526661.7354935298,
          -552665.3545753511,
          -570540.3337641729,
          -582058.6929621341,
          -589011.6296649305,
          -592943.1913569993,
          -595026.6573063729,
          -596062.2749255624,
          -596545.6545394211,
          -596757.7931163531,
          -596845.456075378,
          -596879.6175808694,
          -596892.1912877852,
          -596896.5694014023,
          -596898.0138520666,
          -596898.4661261686,
          -596898.6007331775,
          -596898.6388725217,
          -596898.6491758595,
          -596898.6518336823,
          -596898.6524892936,
          -596898.6526441562,
          -596898.6526792352,
          -596898.6526868651,
          -596898.6526884597
         ],
         "yaxis": "y"
        },
        {
         "mode": "lines",
         "name": "Total_Delta",
         "type": "scatter",
         "x": [
          30,
          31,
          32,
          33,
          34,
          35,
          36,
          37,
          38,
          39,
          40,
          41,
          42,
          43,
          44,
          45,
          46,
          47,
          48,
          49,
          50,
          51,
          52,
          53,
          54,
          55,
          56,
          57,
          58,
          59,
          60,
          61,
          62,
          63,
          64,
          65,
          66,
          67,
          68,
          69,
          70,
          71,
          72,
          73,
          74,
          75,
          76,
          77,
          78,
          79,
          80,
          81,
          82,
          83,
          84,
          85,
          86,
          87,
          88,
          89,
          90,
          91,
          92,
          93,
          94,
          95,
          96,
          97,
          98,
          99,
          100
         ],
         "xaxis": "x2",
         "y": [
          0.055978455260628834,
          0.7038494997032103,
          6.244303681633028,
          40.36589253687998,
          195.81045254205674,
          732.3789039985058,
          2166.4857670538768,
          5192.99621646561,
          10326.445503438248,
          17438.288164449717,
          25604.630177445917,
          33480.127653923075,
          39928.15440331728,
          44419.79626410165,
          46968.70039858204,
          47760.0900351332,
          46810.86847335918,
          43921.32442644797,
          38950.62319877469,
          32187.636437322202,
          24482.374021848726,
          16988.219358434813,
          10696.382874664872,
          6096.107711676117,
          3143.6228378913224,
          1466.5372453404404,
          609.7693423473172,
          182.4870447991309,
          -123.6357554991921,
          -601.8725762369959,
          -1612.5168173755208,
          -3600.3219017392207,
          -6989.519300200068,
          -11975.734678199215,
          -18336.106162777218,
          -25408.300176751476,
          -32286.66845239697,
          -38123.5043647891,
          -42351.6470311584,
          -44723.23495313318,
          -45205.87795078743,
          -43862.88137726795,
          -40815.62758698092,
          -36291.48504055102,
          -30684.51742679885,
          -24550.24432392374,
          -18510.76578880657,
          -13112.70272942989,
          -8709.422022552448,
          -5418.157668237283,
          -3156.0501887454593,
          -1721.8081548329574,
          -880.4049155158136,
          -422.36043528204027,
          -190.34053186772508,
          -80.69346582110302,
          -32.23004748526728,
          -12.147392249869881,
          -4.3271668854577,
          -1.4592413906939328,
          -0.46661263371788664,
          -0.14170594869210618,
          -0.0409362435748335,
          -0.011266508015978616,
          -0.002958628101623617,
          -0.0007424261712003499,
          -0.0001782802282832563,
          -4.1024926758836955e-05,
          -9.058938303496689e-06,
          -1.9220460671931505e-06,
          -3.923414624296129e-07
         ],
         "yaxis": "y2"
        }
       ],
       "layout": {
        "barmode": "stack",
        "template": {
         "data": {
          "bar": [
           {
            "error_x": {
             "color": "#2a3f5f"
            },
            "error_y": {
             "color": "#2a3f5f"
            },
            "marker": {
             "line": {
              "color": "#E5ECF6",
              "width": 0.5
             },
             "pattern": {
              "fillmode": "overlay",
              "size": 10,
              "solidity": 0.2
             }
            },
            "type": "bar"
           }
          ],
          "barpolar": [
           {
            "marker": {
             "line": {
              "color": "#E5ECF6",
              "width": 0.5
             },
             "pattern": {
              "fillmode": "overlay",
              "size": 10,
              "solidity": 0.2
             }
            },
            "type": "barpolar"
           }
          ],
          "carpet": [
           {
            "aaxis": {
             "endlinecolor": "#2a3f5f",
             "gridcolor": "white",
             "linecolor": "white",
             "minorgridcolor": "white",
             "startlinecolor": "#2a3f5f"
            },
            "baxis": {
             "endlinecolor": "#2a3f5f",
             "gridcolor": "white",
             "linecolor": "white",
             "minorgridcolor": "white",
             "startlinecolor": "#2a3f5f"
            },
            "type": "carpet"
           }
          ],
          "choropleth": [
           {
            "colorbar": {
             "outlinewidth": 0,
             "ticks": ""
            },
            "type": "choropleth"
           }
          ],
          "contour": [
           {
            "colorbar": {
             "outlinewidth": 0,
             "ticks": ""
            },
            "colorscale": [
             [
              0,
              "#0d0887"
             ],
             [
              0.1111111111111111,
              "#46039f"
             ],
             [
              0.2222222222222222,
              "#7201a8"
             ],
             [
              0.3333333333333333,
              "#9c179e"
             ],
             [
              0.4444444444444444,
              "#bd3786"
             ],
             [
              0.5555555555555556,
              "#d8576b"
             ],
             [
              0.6666666666666666,
              "#ed7953"
             ],
             [
              0.7777777777777778,
              "#fb9f3a"
             ],
             [
              0.8888888888888888,
              "#fdca26"
             ],
             [
              1,
              "#f0f921"
             ]
            ],
            "type": "contour"
           }
          ],
          "contourcarpet": [
           {
            "colorbar": {
             "outlinewidth": 0,
             "ticks": ""
            },
            "type": "contourcarpet"
           }
          ],
          "heatmap": [
           {
            "colorbar": {
             "outlinewidth": 0,
             "ticks": ""
            },
            "colorscale": [
             [
              0,
              "#0d0887"
             ],
             [
              0.1111111111111111,
              "#46039f"
             ],
             [
              0.2222222222222222,
              "#7201a8"
             ],
             [
              0.3333333333333333,
              "#9c179e"
             ],
             [
              0.4444444444444444,
              "#bd3786"
             ],
             [
              0.5555555555555556,
              "#d8576b"
             ],
             [
              0.6666666666666666,
              "#ed7953"
             ],
             [
              0.7777777777777778,
              "#fb9f3a"
             ],
             [
              0.8888888888888888,
              "#fdca26"
             ],
             [
              1,
              "#f0f921"
             ]
            ],
            "type": "heatmap"
           }
          ],
          "heatmapgl": [
           {
            "colorbar": {
             "outlinewidth": 0,
             "ticks": ""
            },
            "colorscale": [
             [
              0,
              "#0d0887"
             ],
             [
              0.1111111111111111,
              "#46039f"
             ],
             [
              0.2222222222222222,
              "#7201a8"
             ],
             [
              0.3333333333333333,
              "#9c179e"
             ],
             [
              0.4444444444444444,
              "#bd3786"
             ],
             [
              0.5555555555555556,
              "#d8576b"
             ],
             [
              0.6666666666666666,
              "#ed7953"
             ],
             [
              0.7777777777777778,
              "#fb9f3a"
             ],
             [
              0.8888888888888888,
              "#fdca26"
             ],
             [
              1,
              "#f0f921"
             ]
            ],
            "type": "heatmapgl"
           }
          ],
          "histogram": [
           {
            "marker": {
             "pattern": {
              "fillmode": "overlay",
              "size": 10,
              "solidity": 0.2
             }
            },
            "type": "histogram"
           }
          ],
          "histogram2d": [
           {
            "colorbar": {
             "outlinewidth": 0,
             "ticks": ""
            },
            "colorscale": [
             [
              0,
              "#0d0887"
             ],
             [
              0.1111111111111111,
              "#46039f"
             ],
             [
              0.2222222222222222,
              "#7201a8"
             ],
             [
              0.3333333333333333,
              "#9c179e"
             ],
             [
              0.4444444444444444,
              "#bd3786"
             ],
             [
              0.5555555555555556,
              "#d8576b"
             ],
             [
              0.6666666666666666,
              "#ed7953"
             ],
             [
              0.7777777777777778,
              "#fb9f3a"
             ],
             [
              0.8888888888888888,
              "#fdca26"
             ],
             [
              1,
              "#f0f921"
             ]
            ],
            "type": "histogram2d"
           }
          ],
          "histogram2dcontour": [
           {
            "colorbar": {
             "outlinewidth": 0,
             "ticks": ""
            },
            "colorscale": [
             [
              0,
              "#0d0887"
             ],
             [
              0.1111111111111111,
              "#46039f"
             ],
             [
              0.2222222222222222,
              "#7201a8"
             ],
             [
              0.3333333333333333,
              "#9c179e"
             ],
             [
              0.4444444444444444,
              "#bd3786"
             ],
             [
              0.5555555555555556,
              "#d8576b"
             ],
             [
              0.6666666666666666,
              "#ed7953"
             ],
             [
              0.7777777777777778,
              "#fb9f3a"
             ],
             [
              0.8888888888888888,
              "#fdca26"
             ],
             [
              1,
              "#f0f921"
             ]
            ],
            "type": "histogram2dcontour"
           }
          ],
          "mesh3d": [
           {
            "colorbar": {
             "outlinewidth": 0,
             "ticks": ""
            },
            "type": "mesh3d"
           }
          ],
          "parcoords": [
           {
            "line": {
             "colorbar": {
              "outlinewidth": 0,
              "ticks": ""
             }
            },
            "type": "parcoords"
           }
          ],
          "pie": [
           {
            "automargin": true,
            "type": "pie"
           }
          ],
          "scatter": [
           {
            "fillpattern": {
             "fillmode": "overlay",
             "size": 10,
             "solidity": 0.2
            },
            "type": "scatter"
           }
          ],
          "scatter3d": [
           {
            "line": {
             "colorbar": {
              "outlinewidth": 0,
              "ticks": ""
             }
            },
            "marker": {
             "colorbar": {
              "outlinewidth": 0,
              "ticks": ""
             }
            },
            "type": "scatter3d"
           }
          ],
          "scattercarpet": [
           {
            "marker": {
             "colorbar": {
              "outlinewidth": 0,
              "ticks": ""
             }
            },
            "type": "scattercarpet"
           }
          ],
          "scattergeo": [
           {
            "marker": {
             "colorbar": {
              "outlinewidth": 0,
              "ticks": ""
             }
            },
            "type": "scattergeo"
           }
          ],
          "scattergl": [
           {
            "marker": {
             "colorbar": {
              "outlinewidth": 0,
              "ticks": ""
             }
            },
            "type": "scattergl"
           }
          ],
          "scattermapbox": [
           {
            "marker": {
             "colorbar": {
              "outlinewidth": 0,
              "ticks": ""
             }
            },
            "type": "scattermapbox"
           }
          ],
          "scatterpolar": [
           {
            "marker": {
             "colorbar": {
              "outlinewidth": 0,
              "ticks": ""
             }
            },
            "type": "scatterpolar"
           }
          ],
          "scatterpolargl": [
           {
            "marker": {
             "colorbar": {
              "outlinewidth": 0,
              "ticks": ""
             }
            },
            "type": "scatterpolargl"
           }
          ],
          "scatterternary": [
           {
            "marker": {
             "colorbar": {
              "outlinewidth": 0,
              "ticks": ""
             }
            },
            "type": "scatterternary"
           }
          ],
          "surface": [
           {
            "colorbar": {
             "outlinewidth": 0,
             "ticks": ""
            },
            "colorscale": [
             [
              0,
              "#0d0887"
             ],
             [
              0.1111111111111111,
              "#46039f"
             ],
             [
              0.2222222222222222,
              "#7201a8"
             ],
             [
              0.3333333333333333,
              "#9c179e"
             ],
             [
              0.4444444444444444,
              "#bd3786"
             ],
             [
              0.5555555555555556,
              "#d8576b"
             ],
             [
              0.6666666666666666,
              "#ed7953"
             ],
             [
              0.7777777777777778,
              "#fb9f3a"
             ],
             [
              0.8888888888888888,
              "#fdca26"
             ],
             [
              1,
              "#f0f921"
             ]
            ],
            "type": "surface"
           }
          ],
          "table": [
           {
            "cells": {
             "fill": {
              "color": "#EBF0F8"
             },
             "line": {
              "color": "white"
             }
            },
            "header": {
             "fill": {
              "color": "#C8D4E3"
             },
             "line": {
              "color": "white"
             }
            },
            "type": "table"
           }
          ]
         },
         "layout": {
          "annotationdefaults": {
           "arrowcolor": "#2a3f5f",
           "arrowhead": 0,
           "arrowwidth": 1
          },
          "autotypenumbers": "strict",
          "coloraxis": {
           "colorbar": {
            "outlinewidth": 0,
            "ticks": ""
           }
          },
          "colorscale": {
           "diverging": [
            [
             0,
             "#8e0152"
            ],
            [
             0.1,
             "#c51b7d"
            ],
            [
             0.2,
             "#de77ae"
            ],
            [
             0.3,
             "#f1b6da"
            ],
            [
             0.4,
             "#fde0ef"
            ],
            [
             0.5,
             "#f7f7f7"
            ],
            [
             0.6,
             "#e6f5d0"
            ],
            [
             0.7,
             "#b8e186"
            ],
            [
             0.8,
             "#7fbc41"
            ],
            [
             0.9,
             "#4d9221"
            ],
            [
             1,
             "#276419"
            ]
           ],
           "sequential": [
            [
             0,
             "#0d0887"
            ],
            [
             0.1111111111111111,
             "#46039f"
            ],
            [
             0.2222222222222222,
             "#7201a8"
            ],
            [
             0.3333333333333333,
             "#9c179e"
            ],
            [
             0.4444444444444444,
             "#bd3786"
            ],
            [
             0.5555555555555556,
             "#d8576b"
            ],
            [
             0.6666666666666666,
             "#ed7953"
            ],
            [
             0.7777777777777778,
             "#fb9f3a"
            ],
            [
             0.8888888888888888,
             "#fdca26"
            ],
            [
             1,
             "#f0f921"
            ]
           ],
           "sequentialminus": [
            [
             0,
             "#0d0887"
            ],
            [
             0.1111111111111111,
             "#46039f"
            ],
            [
             0.2222222222222222,
             "#7201a8"
            ],
            [
             0.3333333333333333,
             "#9c179e"
            ],
            [
             0.4444444444444444,
             "#bd3786"
            ],
            [
             0.5555555555555556,
             "#d8576b"
            ],
            [
             0.6666666666666666,
             "#ed7953"
            ],
            [
             0.7777777777777778,
             "#fb9f3a"
            ],
            [
             0.8888888888888888,
             "#fdca26"
            ],
            [
             1,
             "#f0f921"
            ]
           ]
          },
          "colorway": [
           "#636efa",
           "#EF553B",
           "#00cc96",
           "#ab63fa",
           "#FFA15A",
           "#19d3f3",
           "#FF6692",
           "#B6E880",
           "#FF97FF",
           "#FECB52"
          ],
          "font": {
           "color": "#2a3f5f"
          },
          "geo": {
           "bgcolor": "white",
           "lakecolor": "white",
           "landcolor": "#E5ECF6",
           "showlakes": true,
           "showland": true,
           "subunitcolor": "white"
          },
          "hoverlabel": {
           "align": "left"
          },
          "hovermode": "closest",
          "mapbox": {
           "style": "light"
          },
          "paper_bgcolor": "white",
          "plot_bgcolor": "#E5ECF6",
          "polar": {
           "angularaxis": {
            "gridcolor": "white",
            "linecolor": "white",
            "ticks": ""
           },
           "bgcolor": "#E5ECF6",
           "radialaxis": {
            "gridcolor": "white",
            "linecolor": "white",
            "ticks": ""
           }
          },
          "scene": {
           "xaxis": {
            "backgroundcolor": "#E5ECF6",
            "gridcolor": "white",
            "gridwidth": 2,
            "linecolor": "white",
            "showbackground": true,
            "ticks": "",
            "zerolinecolor": "white"
           },
           "yaxis": {
            "backgroundcolor": "#E5ECF6",
            "gridcolor": "white",
            "gridwidth": 2,
            "linecolor": "white",
            "showbackground": true,
            "ticks": "",
            "zerolinecolor": "white"
           },
           "zaxis": {
            "backgroundcolor": "#E5ECF6",
            "gridcolor": "white",
            "gridwidth": 2,
            "linecolor": "white",
            "showbackground": true,
            "ticks": "",
            "zerolinecolor": "white"
           }
          },
          "shapedefaults": {
           "line": {
            "color": "#2a3f5f"
           }
          },
          "ternary": {
           "aaxis": {
            "gridcolor": "white",
            "linecolor": "white",
            "ticks": ""
           },
           "baxis": {
            "gridcolor": "white",
            "linecolor": "white",
            "ticks": ""
           },
           "bgcolor": "#E5ECF6",
           "caxis": {
            "gridcolor": "white",
            "linecolor": "white",
            "ticks": ""
           }
          },
          "title": {
           "x": 0.05
          },
          "xaxis": {
           "automargin": true,
           "gridcolor": "white",
           "linecolor": "white",
           "ticks": "",
           "title": {
            "standoff": 15
           },
           "zerolinecolor": "white",
           "zerolinewidth": 2
          },
          "yaxis": {
           "automargin": true,
           "gridcolor": "white",
           "linecolor": "white",
           "ticks": "",
           "title": {
            "standoff": 15
           },
           "zerolinecolor": "white",
           "zerolinewidth": 2
          }
         }
        },
        "title": {
         "text": "Todays Option Pos (PnL and Delta)",
         "x": 0.5,
         "xanchor": "center"
        },
        "xaxis": {
         "anchor": "y",
         "domain": [
          0,
          0.45
         ],
         "title": {
          "text": "Price"
         }
        },
        "xaxis2": {
         "anchor": "y2",
         "domain": [
          0.55,
          1
         ],
         "title": {
          "text": "Price"
         }
        },
        "yaxis": {
         "anchor": "x",
         "domain": [
          0,
          1
         ],
         "title": {
          "text": "Pnl"
         }
        },
        "yaxis2": {
         "anchor": "x2",
         "domain": [
          0,
          1
         ],
         "title": {
          "text": "Delta"
         }
        }
       }
      },
      "text/html": [
       "<div>                            <div id=\"004b0504-1809-45e7-a7ad-35b51c7794be\" class=\"plotly-graph-div\" style=\"height:525px; width:100%;\"></div>            <script type=\"text/javascript\">                require([\"plotly\"], function(Plotly) {                    window.PLOTLYENV=window.PLOTLYENV || {};                                    if (document.getElementById(\"004b0504-1809-45e7-a7ad-35b51c7794be\")) {                    Plotly.newPlot(                        \"004b0504-1809-45e7-a7ad-35b51c7794be\",                        [{\"name\":\"EUA Jun24 40P\",\"x\":[30,31,32,33,34,35,36,37,38,39,40,41,42,43,44,45,46,47,48,49,50,51,52,53,54,55,56,57,58,59,60,61,62,63,64,65,66,67,68,69,70,71,72,73,74,75,76,77,78,79,80,81,82,83,84,85,86,87,88,89,90,91,92,93,94,95,96,97,98,99,100],\"y\":[800902.0916148059,718298.9221024719,635699.6203091413,553126.9471963601,470689.56074912613,388771.5249389239,308392.49714955845,231602.59020991114,161516.53006321876,101620.90701482492,54517.27712925135,20852.746777380842,-849.3168425407919,-13427.225193215354,-19979.518222337465,-23053.151493952097,-24355.56966621802,-24856.056502002186,-25031.228655150277,-25087.324847410757,-25103.83594669636,-25108.322796908637,-25109.453432991246,-25109.718735233837,-25109.776937081708,-25109.78892012874,-25109.79124395839,-25109.791669886235,-25109.791743909285,-25109.791756145096,-25109.791758074276,-25109.791758365416,-25109.79175840716,-25109.7917584132,-25109.791758413892,-25109.791758414107,-25109.791758413856,-25109.791758414038,-25109.791758414038,-25109.791758414038,-25109.791758414038,-25109.791758414038,-25109.791758414038,-25109.791758414038,-25109.791758414038,-25109.791758414038,-25109.791758414038,-25109.791758414038,-25109.791758414038,-25109.791758414038,-25109.791758414038,-25109.791758414038,-25109.791758414038,-25109.791758414038,-25109.791758414038,-25109.791758414038,-25109.791758414038,-25109.791758414038,-25109.791758414038,-25109.791758414038,-25109.791758414038,-25109.791758414038,-25109.791758414038,-25109.791758414038,-25109.791758414038,-25109.791758414038,-25109.791758414038,-25109.791758414038,-25109.791758414038,-25109.791758414038,-25109.791758414038],\"type\":\"scatter\",\"xaxis\":\"x\",\"yaxis\":\"y\"},{\"name\":\"EUA Jun24 40P\",\"x\":[30,31,32,33,34,35,36,37,38,39,40,41,42,43,44,45,46,47,48,49,50,51,52,53,54,55,56,57,58,59,60,61,62,63,64,65,66,67,68,69,70,71,72,73,74,75,76,77,78,79,80,81,82,83,84,85,86,87,88,89,90,91,92,93,94,95,96,97,98,99,100],\"y\":[-49999.94402154474,-49999.2961505003,-49993.75569631837,-49959.634107463105,-49804.18954745655,-49267.621095910625,-47833.51422905366,-44807.00367041782,-39673.552200348175,-32561.67839574768,-24395.01179661947,-16516.98977987096,-10054.022942431107,-5493.901637193555,-2697.888752306621,-1193.8839566233096,-477.88815185169085,-173.77696543522947,-57.67030409895013,-17.54819202123281,-4.918580430546271,-1.2756458964202633,-0.30745971795198557,-0.06915395754925058,-0.01457245062952417,-0.0028877684521422253,-0.0005400651204023887,-9.563970171377889e-05,-1.608832511656999e-05,-2.578443014655818e-06,-3.9481751201719817e-07,-5.791478407957129e-08,-8.1601392309949e-09,-1.1046719095020308e-09,-1.4432899320127035e-10,-1.6653345369377348e-11,0.0,0.0,0.0,0.0,0.0,0.0,0.0,0.0,0.0,0.0,0.0,0.0,0.0,0.0,0.0,0.0,0.0,0.0,0.0,0.0,0.0,0.0,0.0,0.0,0.0,0.0,0.0,0.0,0.0,0.0,0.0,0.0,0.0,0.0,0.0],\"type\":\"scatter\",\"xaxis\":\"x2\",\"yaxis\":\"y2\"},{\"name\":\"EUA Jun24 50P\",\"x\":[30,31,32,33,34,35,36,37,38,39,40,41,42,43,44,45,46,47,48,49,50,51,52,53,54,55,56,57,58,59,60,61,62,63,64,65,66,67,68,69,70,71,72,73,74,75,76,77,78,79,80,81,82,83,84,85,86,87,88,89,90,91,92,93,94,95,96,97,98,99,100],\"y\":[-1541479.393020328,-1458875.7888652247,-1376272.184710122,-1293668.580555018,-1211064.9763999158,-1128461.3722448498,-1045857.7680914648,-963254.1639913509,-880650.5610647658,-798046.9765835089,-715443.6037843546,-632842.0423366738,-550252.2612946016,-467721.7412913514,-385425.545058972,-303868.4959837262,-224197.0257777101,-148465.07525704708,-79553.5354083885,-20533.61422545835,26346.67797475725,60500.25030943723,83155.92257020508,96785.94287220041,104212.51499789189,107878.92566868105,109521.72584712716,110191.46144677784,110440.6348747189,110525.5162753558,110552.08271355016,110559.74897174077,110561.79577067302,110562.30310556751,110562.42024138945,110562.44551465976,110562.45062629956,110562.45159833715,110562.45177262726,110562.45180217462,110562.45180692308,110562.4518076485,110562.45180775391,110562.45180776862,110562.4518077705,110562.45180777075,110562.45180777076,110562.45180777075,110562.45180777075,110562.45180777075,110562.45180777075,110562.45180777075,110562.45180777075,110562.45180777075,110562.45180777075,110562.45180777075,110562.45180777075,110562.45180777075,110562.45180777075,110562.45180777075,110562.45180777075,110562.45180777075,110562.45180777075,110562.45180777075,110562.45180777075,110562.45180777075,110562.45180777075,110562.45180777075,110562.45180777075,110562.45180777075,110562.45180777075],\"type\":\"scatter\",\"xaxis\":\"x\",\"yaxis\":\"y\"},{\"name\":\"EUA Jun24 50P\",\"x\":[30,31,32,33,34,35,36,37,38,39,40,41,42,43,44,45,46,47,48,49,50,51,52,53,54,55,56,57,58,59,60,61,62,63,64,65,66,67,68,69,70,71,72,73,74,75,76,77,78,79,80,81,82,83,84,85,86,87,88,89,90,91,92,93,94,95,96,97,98,99,100],\"y\":[50000.0,50000.0,50000.0,49999.999999999985,49999.99999999861,49999.99999990913,49999.99999610754,49999.99988688343,49999.99770378642,49999.9665601974,49999.64197406539,49997.11743379404,49982.17734574839,49913.69790129521,49666.58915088866,48953.97399175651,47288.756625210895,44095.10139188433,39008.293502917055,32205.184630576838,24487.292628559066,16989.495431225467,10696.695702752451,6096.229884649712,3144.0542576633256,1469.1828887485326,623.4466581758136,240.94570418423112,85.08634603345277,27.550787812319342,8.209002529152576,2.258805651933482,0.5760064567039702,0.13659246745345577,0.030221883218217727,0.006258987245155723,0.001217059231173323,0.00022285662204524215,3.853633523398514e-05,6.309802680348753e-06,9.807932244143558e-07,1.4508394485801546e-07,2.0472512574087887e-08,2.758904216193514e-09,3.552713678800501e-10,4.440892098500626e-11,5.551115123125783e-12,-0.0,-0.0,-0.0,-0.0,-0.0,-0.0,-0.0,-0.0,-0.0,-0.0,-0.0,-0.0,-0.0,-0.0,-0.0,-0.0,-0.0,-0.0,-0.0,-0.0,-0.0,-0.0,-0.0,-0.0],\"type\":\"scatter\",\"xaxis\":\"x2\",\"yaxis\":\"y2\"},{\"name\":\"EUA Jun24 65C\",\"x\":[30,31,32,33,34,35,36,37,38,39,40,41,42,43,44,45,46,47,48,49,50,51,52,53,54,55,56,57,58,59,60,61,62,63,64,65,66,67,68,69,70,71,72,73,74,75,76,77,78,79,80,81,82,83,84,85,86,87,88,89,90,91,92,93,94,95,96,97,98,99,100],\"y\":[193149.3875692416,193149.3875692416,193149.3875692416,193149.3875692416,193149.3875692416,193149.3875692416,193149.3875692416,193149.3875692416,193149.3875692416,193149.3875692416,193149.3875692416,193149.3875692416,193149.3875692416,193149.3875692416,193149.3875692416,193149.3875692416,193149.3875692414,193149.3875692411,193149.38756922167,193149.38756862178,193149.38755481763,193149.38731271648,193149.38402699065,193149.34902657545,193149.05245858314,193147.02818026402,193135.76336648446,193084.0658206823,192886.2279080446,192248.0947506372,190494.75579484174,186347.61892428942,177812.89150242019,162361.90735686183,137471.35965987528,101354.44388561921,53532.9335223099,-5047.9964211790375,-72396.79192176004,-146112.20212559623,-223967.20357351334,-304243.56616234523,-385799.70714387915,-467969.6238948069,-550407.7187935455,-632952.9735092985,-715537.530143551,-798135.362967439,-880737.3400442319,-963340.5163487704,-1045944.0153147574,-1128547.5952333952,-1211151.1941429784,-1293754.7972292635,-1376358.4011788918,-1458962.0052966462,-1541565.6094453172,-1624169.213599368,-1706772.81775431,-1789376.4219093893,-1871980.0260644876,-1954583.6302195906,-2037187.2343746945,-2119790.8385297963,-2202394.4426849005,-2284998.0468400037,-2367601.6509951064,-2450205.255150209,-2532808.8593053124,-2615412.463460415,-2698016.0676155193],\"type\":\"scatter\",\"xaxis\":\"x\",\"yaxis\":\"y\"},{\"name\":\"EUA Jun24 65C\",\"x\":[30,31,32,33,34,35,36,37,38,39,40,41,42,43,44,45,46,47,48,49,50,51,52,53,54,55,56,57,58,59,60,61,62,63,64,65,66,67,68,69,70,71,72,73,74,75,76,77,78,79,80,81,82,83,84,85,86,87,88,89,90,91,92,93,94,95,96,97,98,99,100],\"y\":[-3.212344561844447e-68,-2.444533263583676e-62,-6.938834613237677e-57,-7.94041055881529e-52,-3.92792288632052e-47,-8.943978010854617e-43,-9.921766682723741e-39,-5.644907332174629e-35,-1.7258455933842824e-31,-2.958528416272168e-28,-2.9560806997643976e-25,-1.7837117747061374e-22,-6.71458085710173e-20,-1.6246822135240003e-17,-2.5972420235087184e-15,-2.8136114978795967e-13,-2.1144782800269405e-11,-1.1265695975726125e-09,-4.3418914701484535e-08,-1.2334021438520897e-06,-2.6279795008725125e-05,-0.00042689423373751923,-0.005368369627207015,-0.05301901606137811,-0.41684732186909035,-2.6427556523429474,-13.676776020906805,-58.45856792527441,-208.7221403599148,-629.4239516003204,-1620.7310578573959,-3602.619476872341,-6990.336680321344,-11977.146143788317,-18341.895283016507,-25430.7292123707,-32362.490138000445,-38347.795701012685,-42936.28399750046,-46075.6108160756,-48001.868932964244,-49066.80275743118,-49599.62028008799,-49841.892873632794,-49942.408257756724,-49980.60369556407,-49993.94536125916,-49998.24391508867,-49999.52557297992,-49999.88031814825,-49999.97173998149,-49999.99373921645,-49999.998695641705,-49999.999743877524,-49999.99995249699,-49999.99999166077,-49999.99999861152,-49999.99999978031,-49999.9999999669,-49999.99999999524,-49999.999999999345,-49999.99999999992,-49999.999999999985,-50000.0,-50000.0,-50000.0,-50000.0,-50000.0,-50000.0,-50000.0,-50000.0],\"type\":\"scatter\",\"xaxis\":\"x2\",\"yaxis\":\"y2\"},{\"name\":\"EUA Jun24 75C\",\"x\":[30,31,32,33,34,35,36,37,38,39,40,41,42,43,44,45,46,47,48,49,50,51,52,53,54,55,56,57,58,59,60,61,62,63,64,65,66,67,68,69,70,71,72,73,74,75,76,77,78,79,80,81,82,83,84,85,86,87,88,89,90,91,92,93,94,95,96,97,98,99,100],\"y\":[-49470.706411217725,-49470.706411217725,-49470.706411217725,-49470.706411217725,-49470.706411217725,-49470.706411217725,-49470.706411217725,-49470.706411217725,-49470.706411217725,-49470.706411217725,-49470.706411217725,-49470.706411217725,-49470.706411217725,-49470.706411217725,-49470.706411217725,-49470.706411217725,-49470.706411217725,-49470.706411217725,-49470.706411217725,-49470.706411217725,-49470.706411217725,-49470.706411217725,-49470.706411217725,-49470.706411217885,-49470.70641121743,-49470.706411211024,-49470.706411074665,-49470.70640871162,-49470.7063756577,-49470.70599766787,-49470.702429527446,-49470.67436748213,-49470.48887775124,-49469.449744055724,-49464.4764650694,-49443.98537621065,-49370.76144624542,-49142.18639753665,-48514.4946812496,-46987.564061123354,-43674.334989504576,-37216.72480513692,-25830.68013063163,-7534.850033921913,19464.51963365396,56354.14830969684,103423.13460066436,160017.34834273116,224744.34623070218,295829.16333727946,371479.72560047003,450151.7438270392,530671.8767872488,612239.8622543443,694360.0865901139,776751.5521309363,859267.4933205824,941836.9359691419,1024427.9664171682,1107027.1924586303,1189629.3521630643,1272232.5040440653,1354835.9735921603,1437439.539607918,1520043.1334596844,1602646.7349569649,1685250.3384564563,1767853.9424566964,1850457.5465767207,1933061.1507241935,2015664.754877703],\"type\":\"scatter\",\"xaxis\":\"x\",\"yaxis\":\"y\"},{\"name\":\"EUA Jun24 75C\",\"x\":[30,31,32,33,34,35,36,37,38,39,40,41,42,43,44,45,46,47,48,49,50,51,52,53,54,55,56,57,58,59,60,61,62,63,64,65,66,67,68,69,70,71,72,73,74,75,76,77,78,79,80,81,82,83,84,85,86,87,88,89,90,91,92,93,94,95,96,97,98,99,100],\"y\":[4.976194818229001e-97,4.982298988455647e-90,1.7119302672492527e-83,2.192983609490792e-77,1.1282195280225377e-71,2.4927821765068194e-66,2.5132213200831497e-61,1.2214913811825725e-56,3.0084482502197195e-52,3.92948331921841e-48,2.837269561799785e-44,1.1763553837612342e-40,2.8998858415224874e-37,4.38866070735758e-34,4.199457531308392e-31,2.6107914201896664e-28,1.0813831752654077e-25,3.0543202969663563e-23,6.010914322693027e-21,8.409165780117319e-19,8.519998148737891e-17,6.361134018473173e-15,3.556864776845164e-13,1.512189051094521e-11,4.957895630518206e-10,1.2702882781265579e-08,2.57530758667827e-07,4.179875943451607e-06,5.491559503157668e-05,0.0005901294480904702,0.005238347539982323,0.038769539101542794,0.24137367273223165,1.2748731227534866,5.7588983562172675,22.422776631994868,75.82046854424375,224.29111336696477,584.6369278057266,1352.3758566326119,2795.990981196026,5203.921380018145,8783.992693086599,13550.407833079018,19257.890830957516,25430.359371640283,31483.179572452584,36885.54118565878,41290.10355042747,44581.72264991097,46843.92155123603,48278.18558438349,49119.59378012589,49577.639308595484,49809.659420629265,49919.30652583967,49967.769951126254,49987.85260753044,49995.672833081444,49998.54075860455,49999.53338736563,49999.85829405123,49999.95906375641,49999.988733491984,49999.9970413719,49999.99925757383,49999.99982171977,49999.99995897507,49999.99999094106,49999.999998077954,49999.99999960766],\"type\":\"scatter\",\"xaxis\":\"x2\",\"yaxis\":\"y2\"},{\"mode\":\"lines\",\"name\":\"Total_PnL\",\"x\":[30,31,32,33,34,35,36,37,38,39,40,41,42,43,44,45,46,47,48,49,50,51,52,53,54,55,56,57,58,59,60,61,62,63,64,65,66,67,68,69,70,71,72,73,74,75,76,77,78,79,80,81,82,83,84,85,86,87,88,89,90,91,92,93,94,95,96,97,98,99,100],\"y\":[-596898.6202474982,-596898.1856047289,-596893.8832429567,-596862.952200634,-596696.7344927657,-596011.166147902,-593786.5897838825,-587972.8926234159,-575455.3498435231,-552747.3884106601,-517247.6454970794,-468310.6144012692,-407422.8969791185,-337470.28532654286,-261726.3821232856,-183242.96631965443,-104873.91428590444,-29642.45060102587,39093.91709446516,98057.74208453496,144921.5231716608,179070.60841402735,201725.14675298677,215354.86675232413,222781.0841081759,226445.45851760535,228076.99155857856,228695.0291888623,228746.3646631965,228193.11327218002,226466.34432079017,222326.90177018265,213794.40663693484,198344.96895996042,173459.51167778144,137363.1122656542,89614.83094395019,31262.47702120743,-35458.62658879642,-107647.106142959,-182188.87851450886,-256007.63091824768,-326177.7272251709,-390051.8138793742,-445490.53911053506,-491146.16515024495,-526661.7354935298,-552665.3545753511,-570540.3337641729,-582058.6929621341,-589011.6296649305,-592943.1913569993,-595026.6573063729,-596062.2749255624,-596545.6545394211,-596757.7931163531,-596845.456075378,-596879.6175808694,-596892.1912877852,-596896.5694014023,-596898.0138520666,-596898.4661261686,-596898.6007331775,-596898.6388725217,-596898.6491758595,-596898.6518336823,-596898.6524892936,-596898.6526441562,-596898.6526792352,-596898.6526868651,-596898.6526884597],\"type\":\"scatter\",\"xaxis\":\"x\",\"yaxis\":\"y\"},{\"mode\":\"lines\",\"name\":\"Total_Delta\",\"x\":[30,31,32,33,34,35,36,37,38,39,40,41,42,43,44,45,46,47,48,49,50,51,52,53,54,55,56,57,58,59,60,61,62,63,64,65,66,67,68,69,70,71,72,73,74,75,76,77,78,79,80,81,82,83,84,85,86,87,88,89,90,91,92,93,94,95,96,97,98,99,100],\"y\":[0.055978455260628834,0.7038494997032103,6.244303681633028,40.36589253687998,195.81045254205674,732.3789039985058,2166.4857670538768,5192.99621646561,10326.445503438248,17438.288164449717,25604.630177445917,33480.127653923075,39928.15440331728,44419.79626410165,46968.70039858204,47760.0900351332,46810.86847335918,43921.32442644797,38950.62319877469,32187.636437322202,24482.374021848726,16988.219358434813,10696.382874664872,6096.107711676117,3143.6228378913224,1466.5372453404404,609.7693423473172,182.4870447991309,-123.6357554991921,-601.8725762369959,-1612.5168173755208,-3600.3219017392207,-6989.519300200068,-11975.734678199215,-18336.106162777218,-25408.300176751476,-32286.66845239697,-38123.5043647891,-42351.6470311584,-44723.23495313318,-45205.87795078743,-43862.88137726795,-40815.62758698092,-36291.48504055102,-30684.51742679885,-24550.24432392374,-18510.76578880657,-13112.70272942989,-8709.422022552448,-5418.157668237283,-3156.0501887454593,-1721.8081548329574,-880.4049155158136,-422.36043528204027,-190.34053186772508,-80.69346582110302,-32.23004748526728,-12.147392249869881,-4.3271668854577,-1.4592413906939328,-0.46661263371788664,-0.14170594869210618,-0.0409362435748335,-0.011266508015978616,-0.002958628101623617,-0.0007424261712003499,-0.0001782802282832563,-4.1024926758836955e-05,-9.058938303496689e-06,-1.9220460671931505e-06,-3.923414624296129e-07],\"type\":\"scatter\",\"xaxis\":\"x2\",\"yaxis\":\"y2\"}],                        {\"template\":{\"data\":{\"histogram2dcontour\":[{\"type\":\"histogram2dcontour\",\"colorbar\":{\"outlinewidth\":0,\"ticks\":\"\"},\"colorscale\":[[0.0,\"#0d0887\"],[0.1111111111111111,\"#46039f\"],[0.2222222222222222,\"#7201a8\"],[0.3333333333333333,\"#9c179e\"],[0.4444444444444444,\"#bd3786\"],[0.5555555555555556,\"#d8576b\"],[0.6666666666666666,\"#ed7953\"],[0.7777777777777778,\"#fb9f3a\"],[0.8888888888888888,\"#fdca26\"],[1.0,\"#f0f921\"]]}],\"choropleth\":[{\"type\":\"choropleth\",\"colorbar\":{\"outlinewidth\":0,\"ticks\":\"\"}}],\"histogram2d\":[{\"type\":\"histogram2d\",\"colorbar\":{\"outlinewidth\":0,\"ticks\":\"\"},\"colorscale\":[[0.0,\"#0d0887\"],[0.1111111111111111,\"#46039f\"],[0.2222222222222222,\"#7201a8\"],[0.3333333333333333,\"#9c179e\"],[0.4444444444444444,\"#bd3786\"],[0.5555555555555556,\"#d8576b\"],[0.6666666666666666,\"#ed7953\"],[0.7777777777777778,\"#fb9f3a\"],[0.8888888888888888,\"#fdca26\"],[1.0,\"#f0f921\"]]}],\"heatmap\":[{\"type\":\"heatmap\",\"colorbar\":{\"outlinewidth\":0,\"ticks\":\"\"},\"colorscale\":[[0.0,\"#0d0887\"],[0.1111111111111111,\"#46039f\"],[0.2222222222222222,\"#7201a8\"],[0.3333333333333333,\"#9c179e\"],[0.4444444444444444,\"#bd3786\"],[0.5555555555555556,\"#d8576b\"],[0.6666666666666666,\"#ed7953\"],[0.7777777777777778,\"#fb9f3a\"],[0.8888888888888888,\"#fdca26\"],[1.0,\"#f0f921\"]]}],\"heatmapgl\":[{\"type\":\"heatmapgl\",\"colorbar\":{\"outlinewidth\":0,\"ticks\":\"\"},\"colorscale\":[[0.0,\"#0d0887\"],[0.1111111111111111,\"#46039f\"],[0.2222222222222222,\"#7201a8\"],[0.3333333333333333,\"#9c179e\"],[0.4444444444444444,\"#bd3786\"],[0.5555555555555556,\"#d8576b\"],[0.6666666666666666,\"#ed7953\"],[0.7777777777777778,\"#fb9f3a\"],[0.8888888888888888,\"#fdca26\"],[1.0,\"#f0f921\"]]}],\"contourcarpet\":[{\"type\":\"contourcarpet\",\"colorbar\":{\"outlinewidth\":0,\"ticks\":\"\"}}],\"contour\":[{\"type\":\"contour\",\"colorbar\":{\"outlinewidth\":0,\"ticks\":\"\"},\"colorscale\":[[0.0,\"#0d0887\"],[0.1111111111111111,\"#46039f\"],[0.2222222222222222,\"#7201a8\"],[0.3333333333333333,\"#9c179e\"],[0.4444444444444444,\"#bd3786\"],[0.5555555555555556,\"#d8576b\"],[0.6666666666666666,\"#ed7953\"],[0.7777777777777778,\"#fb9f3a\"],[0.8888888888888888,\"#fdca26\"],[1.0,\"#f0f921\"]]}],\"surface\":[{\"type\":\"surface\",\"colorbar\":{\"outlinewidth\":0,\"ticks\":\"\"},\"colorscale\":[[0.0,\"#0d0887\"],[0.1111111111111111,\"#46039f\"],[0.2222222222222222,\"#7201a8\"],[0.3333333333333333,\"#9c179e\"],[0.4444444444444444,\"#bd3786\"],[0.5555555555555556,\"#d8576b\"],[0.6666666666666666,\"#ed7953\"],[0.7777777777777778,\"#fb9f3a\"],[0.8888888888888888,\"#fdca26\"],[1.0,\"#f0f921\"]]}],\"mesh3d\":[{\"type\":\"mesh3d\",\"colorbar\":{\"outlinewidth\":0,\"ticks\":\"\"}}],\"scatter\":[{\"fillpattern\":{\"fillmode\":\"overlay\",\"size\":10,\"solidity\":0.2},\"type\":\"scatter\"}],\"parcoords\":[{\"type\":\"parcoords\",\"line\":{\"colorbar\":{\"outlinewidth\":0,\"ticks\":\"\"}}}],\"scatterpolargl\":[{\"type\":\"scatterpolargl\",\"marker\":{\"colorbar\":{\"outlinewidth\":0,\"ticks\":\"\"}}}],\"bar\":[{\"error_x\":{\"color\":\"#2a3f5f\"},\"error_y\":{\"color\":\"#2a3f5f\"},\"marker\":{\"line\":{\"color\":\"#E5ECF6\",\"width\":0.5},\"pattern\":{\"fillmode\":\"overlay\",\"size\":10,\"solidity\":0.2}},\"type\":\"bar\"}],\"scattergeo\":[{\"type\":\"scattergeo\",\"marker\":{\"colorbar\":{\"outlinewidth\":0,\"ticks\":\"\"}}}],\"scatterpolar\":[{\"type\":\"scatterpolar\",\"marker\":{\"colorbar\":{\"outlinewidth\":0,\"ticks\":\"\"}}}],\"histogram\":[{\"marker\":{\"pattern\":{\"fillmode\":\"overlay\",\"size\":10,\"solidity\":0.2}},\"type\":\"histogram\"}],\"scattergl\":[{\"type\":\"scattergl\",\"marker\":{\"colorbar\":{\"outlinewidth\":0,\"ticks\":\"\"}}}],\"scatter3d\":[{\"type\":\"scatter3d\",\"line\":{\"colorbar\":{\"outlinewidth\":0,\"ticks\":\"\"}},\"marker\":{\"colorbar\":{\"outlinewidth\":0,\"ticks\":\"\"}}}],\"scattermapbox\":[{\"type\":\"scattermapbox\",\"marker\":{\"colorbar\":{\"outlinewidth\":0,\"ticks\":\"\"}}}],\"scatterternary\":[{\"type\":\"scatterternary\",\"marker\":{\"colorbar\":{\"outlinewidth\":0,\"ticks\":\"\"}}}],\"scattercarpet\":[{\"type\":\"scattercarpet\",\"marker\":{\"colorbar\":{\"outlinewidth\":0,\"ticks\":\"\"}}}],\"carpet\":[{\"aaxis\":{\"endlinecolor\":\"#2a3f5f\",\"gridcolor\":\"white\",\"linecolor\":\"white\",\"minorgridcolor\":\"white\",\"startlinecolor\":\"#2a3f5f\"},\"baxis\":{\"endlinecolor\":\"#2a3f5f\",\"gridcolor\":\"white\",\"linecolor\":\"white\",\"minorgridcolor\":\"white\",\"startlinecolor\":\"#2a3f5f\"},\"type\":\"carpet\"}],\"table\":[{\"cells\":{\"fill\":{\"color\":\"#EBF0F8\"},\"line\":{\"color\":\"white\"}},\"header\":{\"fill\":{\"color\":\"#C8D4E3\"},\"line\":{\"color\":\"white\"}},\"type\":\"table\"}],\"barpolar\":[{\"marker\":{\"line\":{\"color\":\"#E5ECF6\",\"width\":0.5},\"pattern\":{\"fillmode\":\"overlay\",\"size\":10,\"solidity\":0.2}},\"type\":\"barpolar\"}],\"pie\":[{\"automargin\":true,\"type\":\"pie\"}]},\"layout\":{\"autotypenumbers\":\"strict\",\"colorway\":[\"#636efa\",\"#EF553B\",\"#00cc96\",\"#ab63fa\",\"#FFA15A\",\"#19d3f3\",\"#FF6692\",\"#B6E880\",\"#FF97FF\",\"#FECB52\"],\"font\":{\"color\":\"#2a3f5f\"},\"hovermode\":\"closest\",\"hoverlabel\":{\"align\":\"left\"},\"paper_bgcolor\":\"white\",\"plot_bgcolor\":\"#E5ECF6\",\"polar\":{\"bgcolor\":\"#E5ECF6\",\"angularaxis\":{\"gridcolor\":\"white\",\"linecolor\":\"white\",\"ticks\":\"\"},\"radialaxis\":{\"gridcolor\":\"white\",\"linecolor\":\"white\",\"ticks\":\"\"}},\"ternary\":{\"bgcolor\":\"#E5ECF6\",\"aaxis\":{\"gridcolor\":\"white\",\"linecolor\":\"white\",\"ticks\":\"\"},\"baxis\":{\"gridcolor\":\"white\",\"linecolor\":\"white\",\"ticks\":\"\"},\"caxis\":{\"gridcolor\":\"white\",\"linecolor\":\"white\",\"ticks\":\"\"}},\"coloraxis\":{\"colorbar\":{\"outlinewidth\":0,\"ticks\":\"\"}},\"colorscale\":{\"sequential\":[[0.0,\"#0d0887\"],[0.1111111111111111,\"#46039f\"],[0.2222222222222222,\"#7201a8\"],[0.3333333333333333,\"#9c179e\"],[0.4444444444444444,\"#bd3786\"],[0.5555555555555556,\"#d8576b\"],[0.6666666666666666,\"#ed7953\"],[0.7777777777777778,\"#fb9f3a\"],[0.8888888888888888,\"#fdca26\"],[1.0,\"#f0f921\"]],\"sequentialminus\":[[0.0,\"#0d0887\"],[0.1111111111111111,\"#46039f\"],[0.2222222222222222,\"#7201a8\"],[0.3333333333333333,\"#9c179e\"],[0.4444444444444444,\"#bd3786\"],[0.5555555555555556,\"#d8576b\"],[0.6666666666666666,\"#ed7953\"],[0.7777777777777778,\"#fb9f3a\"],[0.8888888888888888,\"#fdca26\"],[1.0,\"#f0f921\"]],\"diverging\":[[0,\"#8e0152\"],[0.1,\"#c51b7d\"],[0.2,\"#de77ae\"],[0.3,\"#f1b6da\"],[0.4,\"#fde0ef\"],[0.5,\"#f7f7f7\"],[0.6,\"#e6f5d0\"],[0.7,\"#b8e186\"],[0.8,\"#7fbc41\"],[0.9,\"#4d9221\"],[1,\"#276419\"]]},\"xaxis\":{\"gridcolor\":\"white\",\"linecolor\":\"white\",\"ticks\":\"\",\"title\":{\"standoff\":15},\"zerolinecolor\":\"white\",\"automargin\":true,\"zerolinewidth\":2},\"yaxis\":{\"gridcolor\":\"white\",\"linecolor\":\"white\",\"ticks\":\"\",\"title\":{\"standoff\":15},\"zerolinecolor\":\"white\",\"automargin\":true,\"zerolinewidth\":2},\"scene\":{\"xaxis\":{\"backgroundcolor\":\"#E5ECF6\",\"gridcolor\":\"white\",\"linecolor\":\"white\",\"showbackground\":true,\"ticks\":\"\",\"zerolinecolor\":\"white\",\"gridwidth\":2},\"yaxis\":{\"backgroundcolor\":\"#E5ECF6\",\"gridcolor\":\"white\",\"linecolor\":\"white\",\"showbackground\":true,\"ticks\":\"\",\"zerolinecolor\":\"white\",\"gridwidth\":2},\"zaxis\":{\"backgroundcolor\":\"#E5ECF6\",\"gridcolor\":\"white\",\"linecolor\":\"white\",\"showbackground\":true,\"ticks\":\"\",\"zerolinecolor\":\"white\",\"gridwidth\":2}},\"shapedefaults\":{\"line\":{\"color\":\"#2a3f5f\"}},\"annotationdefaults\":{\"arrowcolor\":\"#2a3f5f\",\"arrowhead\":0,\"arrowwidth\":1},\"geo\":{\"bgcolor\":\"white\",\"landcolor\":\"#E5ECF6\",\"subunitcolor\":\"white\",\"showland\":true,\"showlakes\":true,\"lakecolor\":\"white\"},\"title\":{\"x\":0.05},\"mapbox\":{\"style\":\"light\"}}},\"xaxis\":{\"anchor\":\"y\",\"domain\":[0.0,0.45],\"title\":{\"text\":\"Price\"}},\"yaxis\":{\"anchor\":\"x\",\"domain\":[0.0,1.0],\"title\":{\"text\":\"Pnl\"}},\"xaxis2\":{\"anchor\":\"y2\",\"domain\":[0.55,1.0],\"title\":{\"text\":\"Price\"}},\"yaxis2\":{\"anchor\":\"x2\",\"domain\":[0.0,1.0],\"title\":{\"text\":\"Delta\"}},\"title\":{\"text\":\"Todays Option Pos (PnL and Delta)\",\"x\":0.5,\"xanchor\":\"center\"},\"barmode\":\"stack\"},                        {\"responsive\": true}                    ).then(function(){\n",
       "                            \n",
       "var gd = document.getElementById('004b0504-1809-45e7-a7ad-35b51c7794be');\n",
       "var x = new MutationObserver(function (mutations, observer) {{\n",
       "        var display = window.getComputedStyle(gd).display;\n",
       "        if (!display || display === 'none') {{\n",
       "            console.log([gd, 'removed!']);\n",
       "            Plotly.purge(gd);\n",
       "            observer.disconnect();\n",
       "        }}\n",
       "}});\n",
       "\n",
       "// Listen for the removal of the full notebook cells\n",
       "var notebookContainer = gd.closest('#notebook-container');\n",
       "if (notebookContainer) {{\n",
       "    x.observe(notebookContainer, {childList: true});\n",
       "}}\n",
       "\n",
       "// Listen for the clearing of the current output cell\n",
       "var outputEl = gd.closest('.output');\n",
       "if (outputEl) {{\n",
       "    x.observe(outputEl, {childList: true});\n",
       "}}\n",
       "\n",
       "                        })                };                });            </script>        </div>"
      ]
     },
     "metadata": {},
     "output_type": "display_data"
    }
   ],
   "source": [
    "pnl_delta_plot(june_expiry)"
   ]
  },
  {
   "cell_type": "markdown",
   "id": "8cc6406d",
   "metadata": {},
   "source": [
    "## End of Year"
   ]
  },
  {
   "cell_type": "code",
   "execution_count": 20,
   "id": "76f3a582",
   "metadata": {},
   "outputs": [
    {
     "data": {
      "application/vnd.plotly.v1+json": {
       "config": {
        "plotlyServerURL": "https://plot.ly"
       },
       "data": [
        {
         "name": "EUA Jun24 40P",
         "type": "scatter",
         "x": [
          30,
          31,
          32,
          33,
          34,
          35,
          36,
          37,
          38,
          39,
          40,
          41,
          42,
          43,
          44,
          45,
          46,
          47,
          48,
          49,
          50,
          51,
          52,
          53,
          54,
          55,
          56,
          57,
          58,
          59,
          60,
          61,
          62,
          63,
          64,
          65,
          66,
          67,
          68,
          69,
          70,
          71,
          72,
          73,
          74,
          75,
          76,
          77,
          78,
          79,
          80,
          81,
          82,
          83,
          84,
          85,
          86,
          87,
          88,
          89,
          90,
          91,
          92,
          93,
          94,
          95,
          96,
          97,
          98,
          99,
          100
         ],
         "xaxis": "x",
         "y": [
          801255.208241586,
          718618.708241586,
          635982.208241586,
          553345.708241586,
          470709.208241586,
          388072.708241586,
          305436.208241586,
          222799.70824158596,
          140163.20824158596,
          57526.708241585955,
          -25109.791758414038,
          -25109.791758414038,
          -25109.791758414038,
          -25109.791758414038,
          -25109.791758414038,
          -25109.791758414038,
          -25109.791758414038,
          -25109.791758414038,
          -25109.791758414038,
          -25109.791758414038,
          -25109.791758414038,
          -25109.791758414038,
          -25109.791758414038,
          -25109.791758414038,
          -25109.791758414038,
          -25109.791758414038,
          -25109.791758414038,
          -25109.791758414038,
          -25109.791758414038,
          -25109.791758414038,
          -25109.791758414038,
          -25109.791758414038,
          -25109.791758414038,
          -25109.791758414038,
          -25109.791758414038,
          -25109.791758414038,
          -25109.791758414038,
          -25109.791758414038,
          -25109.791758414038,
          -25109.791758414038,
          -25109.791758414038,
          -25109.791758414038,
          -25109.791758414038,
          -25109.791758414038,
          -25109.791758414038,
          -25109.791758414038,
          -25109.791758414038,
          -25109.791758414038,
          -25109.791758414038,
          -25109.791758414038,
          -25109.791758414038,
          -25109.791758414038,
          -25109.791758414038,
          -25109.791758414038,
          -25109.791758414038,
          -25109.791758414038,
          -25109.791758414038,
          -25109.791758414038,
          -25109.791758414038,
          -25109.791758414038,
          -25109.791758414038,
          -25109.791758414038,
          -25109.791758414038,
          -25109.791758414038,
          -25109.791758414038,
          -25109.791758414038,
          -25109.791758414038,
          -25109.791758414038,
          -25109.791758414038,
          -25109.791758414038,
          -25109.791758414038
         ],
         "yaxis": "y"
        },
        {
         "name": "EUA Jun24 40P",
         "type": "scatter",
         "x": [
          30,
          31,
          32,
          33,
          34,
          35,
          36,
          37,
          38,
          39,
          40,
          41,
          42,
          43,
          44,
          45,
          46,
          47,
          48,
          49,
          50,
          51,
          52,
          53,
          54,
          55,
          56,
          57,
          58,
          59,
          60,
          61,
          62,
          63,
          64,
          65,
          66,
          67,
          68,
          69,
          70,
          71,
          72,
          73,
          74,
          75,
          76,
          77,
          78,
          79,
          80,
          81,
          82,
          83,
          84,
          85,
          86,
          87,
          88,
          89,
          90,
          91,
          92,
          93,
          94,
          95,
          96,
          97,
          98,
          99,
          100
         ],
         "xaxis": "x2",
         "y": [
          -50000,
          -50000,
          -50000,
          -50000,
          -50000,
          -50000,
          -50000,
          -50000,
          -50000,
          -50000,
          null,
          0,
          0,
          0,
          0,
          0,
          0,
          0,
          0,
          0,
          0,
          0,
          0,
          0,
          0,
          0,
          0,
          0,
          0,
          0,
          0,
          0,
          0,
          0,
          0,
          0,
          0,
          0,
          0,
          0,
          0,
          0,
          0,
          0,
          0,
          0,
          0,
          0,
          0,
          0,
          0,
          0,
          0,
          0,
          0,
          0,
          0,
          0,
          0,
          0,
          0,
          0,
          0,
          0,
          0,
          0,
          0,
          0,
          0,
          0,
          0
         ],
         "yaxis": "y2"
        },
        {
         "name": "EUA Jun24 50P",
         "type": "scatter",
         "x": [
          30,
          31,
          32,
          33,
          34,
          35,
          36,
          37,
          38,
          39,
          40,
          41,
          42,
          43,
          44,
          45,
          46,
          47,
          48,
          49,
          50,
          51,
          52,
          53,
          54,
          55,
          56,
          57,
          58,
          59,
          60,
          61,
          62,
          63,
          64,
          65,
          66,
          67,
          68,
          69,
          70,
          71,
          72,
          73,
          74,
          75,
          76,
          77,
          78,
          79,
          80,
          81,
          82,
          83,
          84,
          85,
          86,
          87,
          88,
          89,
          90,
          91,
          92,
          93,
          94,
          95,
          96,
          97,
          98,
          99,
          100
         ],
         "xaxis": "x",
         "y": [
          -1542167.5481922291,
          -1459531.0481922291,
          -1376894.5481922291,
          -1294258.0481922291,
          -1211621.5481922291,
          -1128985.0481922291,
          -1046348.5481922292,
          -963712.0481922292,
          -881075.5481922292,
          -798439.0481922292,
          -715802.5481922292,
          -633166.0481922294,
          -550529.5481922292,
          -467893.0481922293,
          -385256.54819222924,
          -302620.04819222924,
          -219983.54819222924,
          -137347.04819222927,
          -54710.54819222926,
          27925.951807770747,
          110562.45180777075,
          110562.45180777075,
          110562.45180777075,
          110562.45180777075,
          110562.45180777075,
          110562.45180777075,
          110562.45180777075,
          110562.45180777075,
          110562.45180777075,
          110562.45180777075,
          110562.45180777075,
          110562.45180777075,
          110562.45180777075,
          110562.45180777075,
          110562.45180777075,
          110562.45180777075,
          110562.45180777075,
          110562.45180777075,
          110562.45180777075,
          110562.45180777075,
          110562.45180777075,
          110562.45180777075,
          110562.45180777075,
          110562.45180777075,
          110562.45180777075,
          110562.45180777075,
          110562.45180777075,
          110562.45180777075,
          110562.45180777075,
          110562.45180777075,
          110562.45180777075,
          110562.45180777075,
          110562.45180777075,
          110562.45180777075,
          110562.45180777075,
          110562.45180777075,
          110562.45180777075,
          110562.45180777075,
          110562.45180777075,
          110562.45180777075,
          110562.45180777075,
          110562.45180777075,
          110562.45180777075,
          110562.45180777075,
          110562.45180777075,
          110562.45180777075,
          110562.45180777075,
          110562.45180777075,
          110562.45180777075,
          110562.45180777075,
          110562.45180777075
         ],
         "yaxis": "y"
        },
        {
         "name": "EUA Jun24 50P",
         "type": "scatter",
         "x": [
          30,
          31,
          32,
          33,
          34,
          35,
          36,
          37,
          38,
          39,
          40,
          41,
          42,
          43,
          44,
          45,
          46,
          47,
          48,
          49,
          50,
          51,
          52,
          53,
          54,
          55,
          56,
          57,
          58,
          59,
          60,
          61,
          62,
          63,
          64,
          65,
          66,
          67,
          68,
          69,
          70,
          71,
          72,
          73,
          74,
          75,
          76,
          77,
          78,
          79,
          80,
          81,
          82,
          83,
          84,
          85,
          86,
          87,
          88,
          89,
          90,
          91,
          92,
          93,
          94,
          95,
          96,
          97,
          98,
          99,
          100
         ],
         "xaxis": "x2",
         "y": [
          50000,
          50000,
          50000,
          50000,
          50000,
          50000,
          50000,
          50000,
          50000,
          50000,
          50000,
          50000,
          50000,
          50000,
          50000,
          50000,
          50000,
          50000,
          50000,
          50000,
          null,
          0,
          0,
          0,
          0,
          0,
          0,
          0,
          0,
          0,
          0,
          0,
          0,
          0,
          0,
          0,
          0,
          0,
          0,
          0,
          0,
          0,
          0,
          0,
          0,
          0,
          0,
          0,
          0,
          0,
          0,
          0,
          0,
          0,
          0,
          0,
          0,
          0,
          0,
          0,
          0,
          0,
          0,
          0,
          0,
          0,
          0,
          0,
          0,
          0,
          0
         ],
         "yaxis": "y2"
        },
        {
         "name": "EUA Jun24 65C",
         "type": "scatter",
         "x": [
          30,
          31,
          32,
          33,
          34,
          35,
          36,
          37,
          38,
          39,
          40,
          41,
          42,
          43,
          44,
          45,
          46,
          47,
          48,
          49,
          50,
          51,
          52,
          53,
          54,
          55,
          56,
          57,
          58,
          59,
          60,
          61,
          62,
          63,
          64,
          65,
          66,
          67,
          68,
          69,
          70,
          71,
          72,
          73,
          74,
          75,
          76,
          77,
          78,
          79,
          80,
          81,
          82,
          83,
          84,
          85,
          86,
          87,
          88,
          89,
          90,
          91,
          92,
          93,
          94,
          95,
          96,
          97,
          98,
          99,
          100
         ],
         "xaxis": "x",
         "y": [
          193149.3875692416,
          193149.3875692416,
          193149.3875692416,
          193149.3875692416,
          193149.3875692416,
          193149.3875692416,
          193149.3875692416,
          193149.3875692416,
          193149.3875692416,
          193149.3875692416,
          193149.3875692416,
          193149.3875692416,
          193149.3875692416,
          193149.3875692416,
          193149.3875692416,
          193149.3875692416,
          193149.3875692416,
          193149.3875692416,
          193149.3875692416,
          193149.3875692416,
          193149.3875692416,
          193149.3875692416,
          193149.3875692416,
          193149.3875692416,
          193149.3875692416,
          193149.3875692416,
          193149.3875692416,
          193149.3875692416,
          193149.3875692416,
          193149.3875692416,
          193149.3875692416,
          193149.3875692416,
          193149.3875692416,
          193149.3875692416,
          193149.3875692416,
          193149.3875692416,
          110512.88756924159,
          27876.387569241586,
          -54760.11243075842,
          -137396.61243075843,
          -220033.11243075843,
          -302669.6124307584,
          -385306.1124307584,
          -467942.6124307584,
          -550579.1124307584,
          -633215.6124307584,
          -715852.1124307585,
          -798488.6124307585,
          -881125.1124307585,
          -963761.6124307585,
          -1046398.1124307585,
          -1129034.6124307585,
          -1211671.1124307585,
          -1294307.6124307585,
          -1376944.1124307585,
          -1459580.6124307585,
          -1542217.1124307585,
          -1624853.6124307585,
          -1707490.1124307585,
          -1790126.6124307583,
          -1872763.1124307583,
          -1955399.6124307583,
          -2038036.1124307583,
          -2120672.6124307583,
          -2203309.1124307583,
          -2285945.6124307583,
          -2368582.1124307583,
          -2451218.6124307583,
          -2533855.1124307583,
          -2616491.6124307583,
          -2699128.1124307583
         ],
         "yaxis": "y"
        },
        {
         "name": "EUA Jun24 65C",
         "type": "scatter",
         "x": [
          30,
          31,
          32,
          33,
          34,
          35,
          36,
          37,
          38,
          39,
          40,
          41,
          42,
          43,
          44,
          45,
          46,
          47,
          48,
          49,
          50,
          51,
          52,
          53,
          54,
          55,
          56,
          57,
          58,
          59,
          60,
          61,
          62,
          63,
          64,
          65,
          66,
          67,
          68,
          69,
          70,
          71,
          72,
          73,
          74,
          75,
          76,
          77,
          78,
          79,
          80,
          81,
          82,
          83,
          84,
          85,
          86,
          87,
          88,
          89,
          90,
          91,
          92,
          93,
          94,
          95,
          96,
          97,
          98,
          99,
          100
         ],
         "xaxis": "x2",
         "y": [
          0,
          0,
          0,
          0,
          0,
          0,
          0,
          0,
          0,
          0,
          0,
          0,
          0,
          0,
          0,
          0,
          0,
          0,
          0,
          0,
          0,
          0,
          0,
          0,
          0,
          0,
          0,
          0,
          0,
          0,
          0,
          0,
          0,
          0,
          0,
          null,
          -50000,
          -50000,
          -50000,
          -50000,
          -50000,
          -50000,
          -50000,
          -50000,
          -50000,
          -50000,
          -50000,
          -50000,
          -50000,
          -50000,
          -50000,
          -50000,
          -50000,
          -50000,
          -50000,
          -50000,
          -50000,
          -50000,
          -50000,
          -50000,
          -50000,
          -50000,
          -50000,
          -50000,
          -50000,
          -50000,
          -50000,
          -50000,
          -50000,
          -50000,
          -50000
         ],
         "yaxis": "y2"
        },
        {
         "name": "EUA Jun24 75C",
         "type": "scatter",
         "x": [
          30,
          31,
          32,
          33,
          34,
          35,
          36,
          37,
          38,
          39,
          40,
          41,
          42,
          43,
          44,
          45,
          46,
          47,
          48,
          49,
          50,
          51,
          52,
          53,
          54,
          55,
          56,
          57,
          58,
          59,
          60,
          61,
          62,
          63,
          64,
          65,
          66,
          67,
          68,
          69,
          70,
          71,
          72,
          73,
          74,
          75,
          76,
          77,
          78,
          79,
          80,
          81,
          82,
          83,
          84,
          85,
          86,
          87,
          88,
          89,
          90,
          91,
          92,
          93,
          94,
          95,
          96,
          97,
          98,
          99,
          100
         ],
         "xaxis": "x",
         "y": [
          -49470.706411217725,
          -49470.706411217725,
          -49470.706411217725,
          -49470.706411217725,
          -49470.706411217725,
          -49470.706411217725,
          -49470.706411217725,
          -49470.706411217725,
          -49470.706411217725,
          -49470.706411217725,
          -49470.706411217725,
          -49470.706411217725,
          -49470.706411217725,
          -49470.706411217725,
          -49470.706411217725,
          -49470.706411217725,
          -49470.706411217725,
          -49470.706411217725,
          -49470.706411217725,
          -49470.706411217725,
          -49470.706411217725,
          -49470.706411217725,
          -49470.706411217725,
          -49470.706411217725,
          -49470.706411217725,
          -49470.706411217725,
          -49470.706411217725,
          -49470.706411217725,
          -49470.706411217725,
          -49470.706411217725,
          -49470.706411217725,
          -49470.706411217725,
          -49470.706411217725,
          -49470.706411217725,
          -49470.706411217725,
          -49470.706411217725,
          -49470.706411217725,
          -49470.706411217725,
          -49470.706411217725,
          -49470.706411217725,
          -49470.706411217725,
          -49470.706411217725,
          -49470.706411217725,
          -49470.706411217725,
          -49470.706411217725,
          -49470.706411217725,
          33165.793588782275,
          115802.29358878227,
          198438.79358878228,
          281075.2935887823,
          363711.7935887823,
          446348.29358878225,
          528984.7935887823,
          611621.2935887823,
          694257.7935887823,
          776894.2935887823,
          859530.7935887823,
          942167.2935887823,
          1024803.7935887823,
          1107440.2935887822,
          1190076.7935887822,
          1272713.2935887822,
          1355349.7935887822,
          1437986.2935887822,
          1520622.7935887822,
          1603259.2935887822,
          1685895.7935887822,
          1768532.2935887822,
          1851168.7935887822,
          1933805.2935887822,
          2016441.7935887822
         ],
         "yaxis": "y"
        },
        {
         "name": "EUA Jun24 75C",
         "type": "scatter",
         "x": [
          30,
          31,
          32,
          33,
          34,
          35,
          36,
          37,
          38,
          39,
          40,
          41,
          42,
          43,
          44,
          45,
          46,
          47,
          48,
          49,
          50,
          51,
          52,
          53,
          54,
          55,
          56,
          57,
          58,
          59,
          60,
          61,
          62,
          63,
          64,
          65,
          66,
          67,
          68,
          69,
          70,
          71,
          72,
          73,
          74,
          75,
          76,
          77,
          78,
          79,
          80,
          81,
          82,
          83,
          84,
          85,
          86,
          87,
          88,
          89,
          90,
          91,
          92,
          93,
          94,
          95,
          96,
          97,
          98,
          99,
          100
         ],
         "xaxis": "x2",
         "y": [
          0,
          0,
          0,
          0,
          0,
          0,
          0,
          0,
          0,
          0,
          0,
          0,
          0,
          0,
          0,
          0,
          0,
          0,
          0,
          0,
          0,
          0,
          0,
          0,
          0,
          0,
          0,
          0,
          0,
          0,
          0,
          0,
          0,
          0,
          0,
          0,
          0,
          0,
          0,
          0,
          0,
          0,
          0,
          0,
          0,
          null,
          50000,
          50000,
          50000,
          50000,
          50000,
          50000,
          50000,
          50000,
          50000,
          50000,
          50000,
          50000,
          50000,
          50000,
          50000,
          50000,
          50000,
          50000,
          50000,
          50000,
          50000,
          50000,
          50000,
          50000,
          50000
         ],
         "yaxis": "y2"
        },
        {
         "mode": "lines",
         "name": "Total_PnL",
         "type": "scatter",
         "x": [
          30,
          31,
          32,
          33,
          34,
          35,
          36,
          37,
          38,
          39,
          40,
          41,
          42,
          43,
          44,
          45,
          46,
          47,
          48,
          49,
          50,
          51,
          52,
          53,
          54,
          55,
          56,
          57,
          58,
          59,
          60,
          61,
          62,
          63,
          64,
          65,
          66,
          67,
          68,
          69,
          70,
          71,
          72,
          73,
          74,
          75,
          76,
          77,
          78,
          79,
          80,
          81,
          82,
          83,
          84,
          85,
          86,
          87,
          88,
          89,
          90,
          91,
          92,
          93,
          94,
          95,
          96,
          97,
          98,
          99,
          100
         ],
         "xaxis": "x",
         "y": [
          -597233.6587926192,
          -597233.6587926192,
          -597233.6587926192,
          -597233.6587926192,
          -597233.6587926192,
          -597233.6587926192,
          -597233.6587926194,
          -597233.6587926194,
          -597233.6587926194,
          -597233.6587926194,
          -597233.6587926194,
          -514597.15879261954,
          -431960.6587926194,
          -349324.15879261954,
          -266687.65879261936,
          -184051.15879261936,
          -101414.65879261939,
          -18778.158792619426,
          63858.341207380574,
          146494.8412073806,
          229131.3412073806,
          229131.3412073806,
          229131.3412073806,
          229131.3412073806,
          229131.3412073806,
          229131.3412073806,
          229131.3412073806,
          229131.3412073806,
          229131.3412073806,
          229131.3412073806,
          229131.3412073806,
          229131.3412073806,
          229131.3412073806,
          229131.3412073806,
          229131.3412073806,
          229131.3412073806,
          146494.84120738058,
          63858.341207380574,
          -18778.158792619433,
          -101414.65879261945,
          -184051.15879261945,
          -266687.6587926195,
          -349324.1587926195,
          -431960.6587926195,
          -514597.1587926195,
          -597233.6587926194,
          -597233.6587926195,
          -597233.6587926195,
          -597233.6587926195,
          -597233.6587926195,
          -597233.6587926195,
          -597233.6587926196,
          -597233.6587926195,
          -597233.6587926195,
          -597233.6587926195,
          -597233.6587926195,
          -597233.6587926195,
          -597233.6587926195,
          -597233.6587926195,
          -597233.6587926194,
          -597233.6587926194,
          -597233.6587926194,
          -597233.6587926194,
          -597233.6587926194,
          -597233.6587926196,
          -597233.6587926196,
          -597233.6587926196,
          -597233.6587926196,
          -597233.6587926196,
          -597233.6587926196,
          -597233.6587926196
         ],
         "yaxis": "y"
        },
        {
         "mode": "lines",
         "name": "Total_Delta",
         "type": "scatter",
         "x": [
          30,
          31,
          32,
          33,
          34,
          35,
          36,
          37,
          38,
          39,
          40,
          41,
          42,
          43,
          44,
          45,
          46,
          47,
          48,
          49,
          50,
          51,
          52,
          53,
          54,
          55,
          56,
          57,
          58,
          59,
          60,
          61,
          62,
          63,
          64,
          65,
          66,
          67,
          68,
          69,
          70,
          71,
          72,
          73,
          74,
          75,
          76,
          77,
          78,
          79,
          80,
          81,
          82,
          83,
          84,
          85,
          86,
          87,
          88,
          89,
          90,
          91,
          92,
          93,
          94,
          95,
          96,
          97,
          98,
          99,
          100
         ],
         "xaxis": "x2",
         "y": [
          0,
          0,
          0,
          0,
          0,
          0,
          0,
          0,
          0,
          0,
          50000,
          50000,
          50000,
          50000,
          50000,
          50000,
          50000,
          50000,
          50000,
          50000,
          0,
          0,
          0,
          0,
          0,
          0,
          0,
          0,
          0,
          0,
          0,
          0,
          0,
          0,
          0,
          0,
          -50000,
          -50000,
          -50000,
          -50000,
          -50000,
          -50000,
          -50000,
          -50000,
          -50000,
          -50000,
          0,
          0,
          0,
          0,
          0,
          0,
          0,
          0,
          0,
          0,
          0,
          0,
          0,
          0,
          0,
          0,
          0,
          0,
          0,
          0,
          0,
          0,
          0,
          0,
          0
         ],
         "yaxis": "y2"
        }
       ],
       "layout": {
        "barmode": "stack",
        "template": {
         "data": {
          "bar": [
           {
            "error_x": {
             "color": "#2a3f5f"
            },
            "error_y": {
             "color": "#2a3f5f"
            },
            "marker": {
             "line": {
              "color": "#E5ECF6",
              "width": 0.5
             },
             "pattern": {
              "fillmode": "overlay",
              "size": 10,
              "solidity": 0.2
             }
            },
            "type": "bar"
           }
          ],
          "barpolar": [
           {
            "marker": {
             "line": {
              "color": "#E5ECF6",
              "width": 0.5
             },
             "pattern": {
              "fillmode": "overlay",
              "size": 10,
              "solidity": 0.2
             }
            },
            "type": "barpolar"
           }
          ],
          "carpet": [
           {
            "aaxis": {
             "endlinecolor": "#2a3f5f",
             "gridcolor": "white",
             "linecolor": "white",
             "minorgridcolor": "white",
             "startlinecolor": "#2a3f5f"
            },
            "baxis": {
             "endlinecolor": "#2a3f5f",
             "gridcolor": "white",
             "linecolor": "white",
             "minorgridcolor": "white",
             "startlinecolor": "#2a3f5f"
            },
            "type": "carpet"
           }
          ],
          "choropleth": [
           {
            "colorbar": {
             "outlinewidth": 0,
             "ticks": ""
            },
            "type": "choropleth"
           }
          ],
          "contour": [
           {
            "colorbar": {
             "outlinewidth": 0,
             "ticks": ""
            },
            "colorscale": [
             [
              0,
              "#0d0887"
             ],
             [
              0.1111111111111111,
              "#46039f"
             ],
             [
              0.2222222222222222,
              "#7201a8"
             ],
             [
              0.3333333333333333,
              "#9c179e"
             ],
             [
              0.4444444444444444,
              "#bd3786"
             ],
             [
              0.5555555555555556,
              "#d8576b"
             ],
             [
              0.6666666666666666,
              "#ed7953"
             ],
             [
              0.7777777777777778,
              "#fb9f3a"
             ],
             [
              0.8888888888888888,
              "#fdca26"
             ],
             [
              1,
              "#f0f921"
             ]
            ],
            "type": "contour"
           }
          ],
          "contourcarpet": [
           {
            "colorbar": {
             "outlinewidth": 0,
             "ticks": ""
            },
            "type": "contourcarpet"
           }
          ],
          "heatmap": [
           {
            "colorbar": {
             "outlinewidth": 0,
             "ticks": ""
            },
            "colorscale": [
             [
              0,
              "#0d0887"
             ],
             [
              0.1111111111111111,
              "#46039f"
             ],
             [
              0.2222222222222222,
              "#7201a8"
             ],
             [
              0.3333333333333333,
              "#9c179e"
             ],
             [
              0.4444444444444444,
              "#bd3786"
             ],
             [
              0.5555555555555556,
              "#d8576b"
             ],
             [
              0.6666666666666666,
              "#ed7953"
             ],
             [
              0.7777777777777778,
              "#fb9f3a"
             ],
             [
              0.8888888888888888,
              "#fdca26"
             ],
             [
              1,
              "#f0f921"
             ]
            ],
            "type": "heatmap"
           }
          ],
          "heatmapgl": [
           {
            "colorbar": {
             "outlinewidth": 0,
             "ticks": ""
            },
            "colorscale": [
             [
              0,
              "#0d0887"
             ],
             [
              0.1111111111111111,
              "#46039f"
             ],
             [
              0.2222222222222222,
              "#7201a8"
             ],
             [
              0.3333333333333333,
              "#9c179e"
             ],
             [
              0.4444444444444444,
              "#bd3786"
             ],
             [
              0.5555555555555556,
              "#d8576b"
             ],
             [
              0.6666666666666666,
              "#ed7953"
             ],
             [
              0.7777777777777778,
              "#fb9f3a"
             ],
             [
              0.8888888888888888,
              "#fdca26"
             ],
             [
              1,
              "#f0f921"
             ]
            ],
            "type": "heatmapgl"
           }
          ],
          "histogram": [
           {
            "marker": {
             "pattern": {
              "fillmode": "overlay",
              "size": 10,
              "solidity": 0.2
             }
            },
            "type": "histogram"
           }
          ],
          "histogram2d": [
           {
            "colorbar": {
             "outlinewidth": 0,
             "ticks": ""
            },
            "colorscale": [
             [
              0,
              "#0d0887"
             ],
             [
              0.1111111111111111,
              "#46039f"
             ],
             [
              0.2222222222222222,
              "#7201a8"
             ],
             [
              0.3333333333333333,
              "#9c179e"
             ],
             [
              0.4444444444444444,
              "#bd3786"
             ],
             [
              0.5555555555555556,
              "#d8576b"
             ],
             [
              0.6666666666666666,
              "#ed7953"
             ],
             [
              0.7777777777777778,
              "#fb9f3a"
             ],
             [
              0.8888888888888888,
              "#fdca26"
             ],
             [
              1,
              "#f0f921"
             ]
            ],
            "type": "histogram2d"
           }
          ],
          "histogram2dcontour": [
           {
            "colorbar": {
             "outlinewidth": 0,
             "ticks": ""
            },
            "colorscale": [
             [
              0,
              "#0d0887"
             ],
             [
              0.1111111111111111,
              "#46039f"
             ],
             [
              0.2222222222222222,
              "#7201a8"
             ],
             [
              0.3333333333333333,
              "#9c179e"
             ],
             [
              0.4444444444444444,
              "#bd3786"
             ],
             [
              0.5555555555555556,
              "#d8576b"
             ],
             [
              0.6666666666666666,
              "#ed7953"
             ],
             [
              0.7777777777777778,
              "#fb9f3a"
             ],
             [
              0.8888888888888888,
              "#fdca26"
             ],
             [
              1,
              "#f0f921"
             ]
            ],
            "type": "histogram2dcontour"
           }
          ],
          "mesh3d": [
           {
            "colorbar": {
             "outlinewidth": 0,
             "ticks": ""
            },
            "type": "mesh3d"
           }
          ],
          "parcoords": [
           {
            "line": {
             "colorbar": {
              "outlinewidth": 0,
              "ticks": ""
             }
            },
            "type": "parcoords"
           }
          ],
          "pie": [
           {
            "automargin": true,
            "type": "pie"
           }
          ],
          "scatter": [
           {
            "fillpattern": {
             "fillmode": "overlay",
             "size": 10,
             "solidity": 0.2
            },
            "type": "scatter"
           }
          ],
          "scatter3d": [
           {
            "line": {
             "colorbar": {
              "outlinewidth": 0,
              "ticks": ""
             }
            },
            "marker": {
             "colorbar": {
              "outlinewidth": 0,
              "ticks": ""
             }
            },
            "type": "scatter3d"
           }
          ],
          "scattercarpet": [
           {
            "marker": {
             "colorbar": {
              "outlinewidth": 0,
              "ticks": ""
             }
            },
            "type": "scattercarpet"
           }
          ],
          "scattergeo": [
           {
            "marker": {
             "colorbar": {
              "outlinewidth": 0,
              "ticks": ""
             }
            },
            "type": "scattergeo"
           }
          ],
          "scattergl": [
           {
            "marker": {
             "colorbar": {
              "outlinewidth": 0,
              "ticks": ""
             }
            },
            "type": "scattergl"
           }
          ],
          "scattermapbox": [
           {
            "marker": {
             "colorbar": {
              "outlinewidth": 0,
              "ticks": ""
             }
            },
            "type": "scattermapbox"
           }
          ],
          "scatterpolar": [
           {
            "marker": {
             "colorbar": {
              "outlinewidth": 0,
              "ticks": ""
             }
            },
            "type": "scatterpolar"
           }
          ],
          "scatterpolargl": [
           {
            "marker": {
             "colorbar": {
              "outlinewidth": 0,
              "ticks": ""
             }
            },
            "type": "scatterpolargl"
           }
          ],
          "scatterternary": [
           {
            "marker": {
             "colorbar": {
              "outlinewidth": 0,
              "ticks": ""
             }
            },
            "type": "scatterternary"
           }
          ],
          "surface": [
           {
            "colorbar": {
             "outlinewidth": 0,
             "ticks": ""
            },
            "colorscale": [
             [
              0,
              "#0d0887"
             ],
             [
              0.1111111111111111,
              "#46039f"
             ],
             [
              0.2222222222222222,
              "#7201a8"
             ],
             [
              0.3333333333333333,
              "#9c179e"
             ],
             [
              0.4444444444444444,
              "#bd3786"
             ],
             [
              0.5555555555555556,
              "#d8576b"
             ],
             [
              0.6666666666666666,
              "#ed7953"
             ],
             [
              0.7777777777777778,
              "#fb9f3a"
             ],
             [
              0.8888888888888888,
              "#fdca26"
             ],
             [
              1,
              "#f0f921"
             ]
            ],
            "type": "surface"
           }
          ],
          "table": [
           {
            "cells": {
             "fill": {
              "color": "#EBF0F8"
             },
             "line": {
              "color": "white"
             }
            },
            "header": {
             "fill": {
              "color": "#C8D4E3"
             },
             "line": {
              "color": "white"
             }
            },
            "type": "table"
           }
          ]
         },
         "layout": {
          "annotationdefaults": {
           "arrowcolor": "#2a3f5f",
           "arrowhead": 0,
           "arrowwidth": 1
          },
          "autotypenumbers": "strict",
          "coloraxis": {
           "colorbar": {
            "outlinewidth": 0,
            "ticks": ""
           }
          },
          "colorscale": {
           "diverging": [
            [
             0,
             "#8e0152"
            ],
            [
             0.1,
             "#c51b7d"
            ],
            [
             0.2,
             "#de77ae"
            ],
            [
             0.3,
             "#f1b6da"
            ],
            [
             0.4,
             "#fde0ef"
            ],
            [
             0.5,
             "#f7f7f7"
            ],
            [
             0.6,
             "#e6f5d0"
            ],
            [
             0.7,
             "#b8e186"
            ],
            [
             0.8,
             "#7fbc41"
            ],
            [
             0.9,
             "#4d9221"
            ],
            [
             1,
             "#276419"
            ]
           ],
           "sequential": [
            [
             0,
             "#0d0887"
            ],
            [
             0.1111111111111111,
             "#46039f"
            ],
            [
             0.2222222222222222,
             "#7201a8"
            ],
            [
             0.3333333333333333,
             "#9c179e"
            ],
            [
             0.4444444444444444,
             "#bd3786"
            ],
            [
             0.5555555555555556,
             "#d8576b"
            ],
            [
             0.6666666666666666,
             "#ed7953"
            ],
            [
             0.7777777777777778,
             "#fb9f3a"
            ],
            [
             0.8888888888888888,
             "#fdca26"
            ],
            [
             1,
             "#f0f921"
            ]
           ],
           "sequentialminus": [
            [
             0,
             "#0d0887"
            ],
            [
             0.1111111111111111,
             "#46039f"
            ],
            [
             0.2222222222222222,
             "#7201a8"
            ],
            [
             0.3333333333333333,
             "#9c179e"
            ],
            [
             0.4444444444444444,
             "#bd3786"
            ],
            [
             0.5555555555555556,
             "#d8576b"
            ],
            [
             0.6666666666666666,
             "#ed7953"
            ],
            [
             0.7777777777777778,
             "#fb9f3a"
            ],
            [
             0.8888888888888888,
             "#fdca26"
            ],
            [
             1,
             "#f0f921"
            ]
           ]
          },
          "colorway": [
           "#636efa",
           "#EF553B",
           "#00cc96",
           "#ab63fa",
           "#FFA15A",
           "#19d3f3",
           "#FF6692",
           "#B6E880",
           "#FF97FF",
           "#FECB52"
          ],
          "font": {
           "color": "#2a3f5f"
          },
          "geo": {
           "bgcolor": "white",
           "lakecolor": "white",
           "landcolor": "#E5ECF6",
           "showlakes": true,
           "showland": true,
           "subunitcolor": "white"
          },
          "hoverlabel": {
           "align": "left"
          },
          "hovermode": "closest",
          "mapbox": {
           "style": "light"
          },
          "paper_bgcolor": "white",
          "plot_bgcolor": "#E5ECF6",
          "polar": {
           "angularaxis": {
            "gridcolor": "white",
            "linecolor": "white",
            "ticks": ""
           },
           "bgcolor": "#E5ECF6",
           "radialaxis": {
            "gridcolor": "white",
            "linecolor": "white",
            "ticks": ""
           }
          },
          "scene": {
           "xaxis": {
            "backgroundcolor": "#E5ECF6",
            "gridcolor": "white",
            "gridwidth": 2,
            "linecolor": "white",
            "showbackground": true,
            "ticks": "",
            "zerolinecolor": "white"
           },
           "yaxis": {
            "backgroundcolor": "#E5ECF6",
            "gridcolor": "white",
            "gridwidth": 2,
            "linecolor": "white",
            "showbackground": true,
            "ticks": "",
            "zerolinecolor": "white"
           },
           "zaxis": {
            "backgroundcolor": "#E5ECF6",
            "gridcolor": "white",
            "gridwidth": 2,
            "linecolor": "white",
            "showbackground": true,
            "ticks": "",
            "zerolinecolor": "white"
           }
          },
          "shapedefaults": {
           "line": {
            "color": "#2a3f5f"
           }
          },
          "ternary": {
           "aaxis": {
            "gridcolor": "white",
            "linecolor": "white",
            "ticks": ""
           },
           "baxis": {
            "gridcolor": "white",
            "linecolor": "white",
            "ticks": ""
           },
           "bgcolor": "#E5ECF6",
           "caxis": {
            "gridcolor": "white",
            "linecolor": "white",
            "ticks": ""
           }
          },
          "title": {
           "x": 0.05
          },
          "xaxis": {
           "automargin": true,
           "gridcolor": "white",
           "linecolor": "white",
           "ticks": "",
           "title": {
            "standoff": 15
           },
           "zerolinecolor": "white",
           "zerolinewidth": 2
          },
          "yaxis": {
           "automargin": true,
           "gridcolor": "white",
           "linecolor": "white",
           "ticks": "",
           "title": {
            "standoff": 15
           },
           "zerolinecolor": "white",
           "zerolinewidth": 2
          }
         }
        },
        "title": {
         "text": "Todays Option Pos (PnL and Delta)",
         "x": 0.5,
         "xanchor": "center"
        },
        "xaxis": {
         "anchor": "y",
         "domain": [
          0,
          0.45
         ],
         "title": {
          "text": "Price"
         }
        },
        "xaxis2": {
         "anchor": "y2",
         "domain": [
          0.55,
          1
         ],
         "title": {
          "text": "Price"
         }
        },
        "yaxis": {
         "anchor": "x",
         "domain": [
          0,
          1
         ],
         "title": {
          "text": "Pnl"
         }
        },
        "yaxis2": {
         "anchor": "x2",
         "domain": [
          0,
          1
         ],
         "title": {
          "text": "Delta"
         }
        }
       }
      },
      "text/html": [
       "<div>                            <div id=\"e04c4ed1-0840-47c1-958b-914c4370e691\" class=\"plotly-graph-div\" style=\"height:525px; width:100%;\"></div>            <script type=\"text/javascript\">                require([\"plotly\"], function(Plotly) {                    window.PLOTLYENV=window.PLOTLYENV || {};                                    if (document.getElementById(\"e04c4ed1-0840-47c1-958b-914c4370e691\")) {                    Plotly.newPlot(                        \"e04c4ed1-0840-47c1-958b-914c4370e691\",                        [{\"name\":\"EUA Jun24 40P\",\"x\":[30,31,32,33,34,35,36,37,38,39,40,41,42,43,44,45,46,47,48,49,50,51,52,53,54,55,56,57,58,59,60,61,62,63,64,65,66,67,68,69,70,71,72,73,74,75,76,77,78,79,80,81,82,83,84,85,86,87,88,89,90,91,92,93,94,95,96,97,98,99,100],\"y\":[801255.208241586,718618.708241586,635982.208241586,553345.708241586,470709.208241586,388072.708241586,305436.208241586,222799.70824158596,140163.20824158596,57526.708241585955,-25109.791758414038,-25109.791758414038,-25109.791758414038,-25109.791758414038,-25109.791758414038,-25109.791758414038,-25109.791758414038,-25109.791758414038,-25109.791758414038,-25109.791758414038,-25109.791758414038,-25109.791758414038,-25109.791758414038,-25109.791758414038,-25109.791758414038,-25109.791758414038,-25109.791758414038,-25109.791758414038,-25109.791758414038,-25109.791758414038,-25109.791758414038,-25109.791758414038,-25109.791758414038,-25109.791758414038,-25109.791758414038,-25109.791758414038,-25109.791758414038,-25109.791758414038,-25109.791758414038,-25109.791758414038,-25109.791758414038,-25109.791758414038,-25109.791758414038,-25109.791758414038,-25109.791758414038,-25109.791758414038,-25109.791758414038,-25109.791758414038,-25109.791758414038,-25109.791758414038,-25109.791758414038,-25109.791758414038,-25109.791758414038,-25109.791758414038,-25109.791758414038,-25109.791758414038,-25109.791758414038,-25109.791758414038,-25109.791758414038,-25109.791758414038,-25109.791758414038,-25109.791758414038,-25109.791758414038,-25109.791758414038,-25109.791758414038,-25109.791758414038,-25109.791758414038,-25109.791758414038,-25109.791758414038,-25109.791758414038,-25109.791758414038],\"type\":\"scatter\",\"xaxis\":\"x\",\"yaxis\":\"y\"},{\"name\":\"EUA Jun24 40P\",\"x\":[30,31,32,33,34,35,36,37,38,39,40,41,42,43,44,45,46,47,48,49,50,51,52,53,54,55,56,57,58,59,60,61,62,63,64,65,66,67,68,69,70,71,72,73,74,75,76,77,78,79,80,81,82,83,84,85,86,87,88,89,90,91,92,93,94,95,96,97,98,99,100],\"y\":[-50000.0,-50000.0,-50000.0,-50000.0,-50000.0,-50000.0,-50000.0,-50000.0,-50000.0,-50000.0,null,0.0,0.0,0.0,0.0,0.0,0.0,0.0,0.0,0.0,0.0,0.0,0.0,0.0,0.0,0.0,0.0,0.0,0.0,0.0,0.0,0.0,0.0,0.0,0.0,0.0,0.0,0.0,0.0,0.0,0.0,0.0,0.0,0.0,0.0,0.0,0.0,0.0,0.0,0.0,0.0,0.0,0.0,0.0,0.0,0.0,0.0,0.0,0.0,0.0,0.0,0.0,0.0,0.0,0.0,0.0,0.0,0.0,0.0,0.0,0.0],\"type\":\"scatter\",\"xaxis\":\"x2\",\"yaxis\":\"y2\"},{\"name\":\"EUA Jun24 50P\",\"x\":[30,31,32,33,34,35,36,37,38,39,40,41,42,43,44,45,46,47,48,49,50,51,52,53,54,55,56,57,58,59,60,61,62,63,64,65,66,67,68,69,70,71,72,73,74,75,76,77,78,79,80,81,82,83,84,85,86,87,88,89,90,91,92,93,94,95,96,97,98,99,100],\"y\":[-1542167.5481922291,-1459531.0481922291,-1376894.5481922291,-1294258.0481922291,-1211621.5481922291,-1128985.0481922291,-1046348.5481922292,-963712.0481922292,-881075.5481922292,-798439.0481922292,-715802.5481922292,-633166.0481922294,-550529.5481922292,-467893.0481922293,-385256.54819222924,-302620.04819222924,-219983.54819222924,-137347.04819222927,-54710.54819222926,27925.951807770747,110562.45180777075,110562.45180777075,110562.45180777075,110562.45180777075,110562.45180777075,110562.45180777075,110562.45180777075,110562.45180777075,110562.45180777075,110562.45180777075,110562.45180777075,110562.45180777075,110562.45180777075,110562.45180777075,110562.45180777075,110562.45180777075,110562.45180777075,110562.45180777075,110562.45180777075,110562.45180777075,110562.45180777075,110562.45180777075,110562.45180777075,110562.45180777075,110562.45180777075,110562.45180777075,110562.45180777075,110562.45180777075,110562.45180777075,110562.45180777075,110562.45180777075,110562.45180777075,110562.45180777075,110562.45180777075,110562.45180777075,110562.45180777075,110562.45180777075,110562.45180777075,110562.45180777075,110562.45180777075,110562.45180777075,110562.45180777075,110562.45180777075,110562.45180777075,110562.45180777075,110562.45180777075,110562.45180777075,110562.45180777075,110562.45180777075,110562.45180777075,110562.45180777075],\"type\":\"scatter\",\"xaxis\":\"x\",\"yaxis\":\"y\"},{\"name\":\"EUA Jun24 50P\",\"x\":[30,31,32,33,34,35,36,37,38,39,40,41,42,43,44,45,46,47,48,49,50,51,52,53,54,55,56,57,58,59,60,61,62,63,64,65,66,67,68,69,70,71,72,73,74,75,76,77,78,79,80,81,82,83,84,85,86,87,88,89,90,91,92,93,94,95,96,97,98,99,100],\"y\":[50000.0,50000.0,50000.0,50000.0,50000.0,50000.0,50000.0,50000.0,50000.0,50000.0,50000.0,50000.0,50000.0,50000.0,50000.0,50000.0,50000.0,50000.0,50000.0,50000.0,null,-0.0,-0.0,-0.0,-0.0,-0.0,-0.0,-0.0,-0.0,-0.0,-0.0,-0.0,-0.0,-0.0,-0.0,-0.0,-0.0,-0.0,-0.0,-0.0,-0.0,-0.0,-0.0,-0.0,-0.0,-0.0,-0.0,-0.0,-0.0,-0.0,-0.0,-0.0,-0.0,-0.0,-0.0,-0.0,-0.0,-0.0,-0.0,-0.0,-0.0,-0.0,-0.0,-0.0,-0.0,-0.0,-0.0,-0.0,-0.0,-0.0,-0.0],\"type\":\"scatter\",\"xaxis\":\"x2\",\"yaxis\":\"y2\"},{\"name\":\"EUA Jun24 65C\",\"x\":[30,31,32,33,34,35,36,37,38,39,40,41,42,43,44,45,46,47,48,49,50,51,52,53,54,55,56,57,58,59,60,61,62,63,64,65,66,67,68,69,70,71,72,73,74,75,76,77,78,79,80,81,82,83,84,85,86,87,88,89,90,91,92,93,94,95,96,97,98,99,100],\"y\":[193149.3875692416,193149.3875692416,193149.3875692416,193149.3875692416,193149.3875692416,193149.3875692416,193149.3875692416,193149.3875692416,193149.3875692416,193149.3875692416,193149.3875692416,193149.3875692416,193149.3875692416,193149.3875692416,193149.3875692416,193149.3875692416,193149.3875692416,193149.3875692416,193149.3875692416,193149.3875692416,193149.3875692416,193149.3875692416,193149.3875692416,193149.3875692416,193149.3875692416,193149.3875692416,193149.3875692416,193149.3875692416,193149.3875692416,193149.3875692416,193149.3875692416,193149.3875692416,193149.3875692416,193149.3875692416,193149.3875692416,193149.3875692416,110512.88756924159,27876.387569241586,-54760.11243075842,-137396.61243075843,-220033.11243075843,-302669.6124307584,-385306.1124307584,-467942.6124307584,-550579.1124307584,-633215.6124307584,-715852.1124307585,-798488.6124307585,-881125.1124307585,-963761.6124307585,-1046398.1124307585,-1129034.6124307585,-1211671.1124307585,-1294307.6124307585,-1376944.1124307585,-1459580.6124307585,-1542217.1124307585,-1624853.6124307585,-1707490.1124307585,-1790126.6124307583,-1872763.1124307583,-1955399.6124307583,-2038036.1124307583,-2120672.6124307583,-2203309.1124307583,-2285945.6124307583,-2368582.1124307583,-2451218.6124307583,-2533855.1124307583,-2616491.6124307583,-2699128.1124307583],\"type\":\"scatter\",\"xaxis\":\"x\",\"yaxis\":\"y\"},{\"name\":\"EUA Jun24 65C\",\"x\":[30,31,32,33,34,35,36,37,38,39,40,41,42,43,44,45,46,47,48,49,50,51,52,53,54,55,56,57,58,59,60,61,62,63,64,65,66,67,68,69,70,71,72,73,74,75,76,77,78,79,80,81,82,83,84,85,86,87,88,89,90,91,92,93,94,95,96,97,98,99,100],\"y\":[-0.0,-0.0,-0.0,-0.0,-0.0,-0.0,-0.0,-0.0,-0.0,-0.0,-0.0,-0.0,-0.0,-0.0,-0.0,-0.0,-0.0,-0.0,-0.0,-0.0,-0.0,-0.0,-0.0,-0.0,-0.0,-0.0,-0.0,-0.0,-0.0,-0.0,-0.0,-0.0,-0.0,-0.0,-0.0,null,-50000.0,-50000.0,-50000.0,-50000.0,-50000.0,-50000.0,-50000.0,-50000.0,-50000.0,-50000.0,-50000.0,-50000.0,-50000.0,-50000.0,-50000.0,-50000.0,-50000.0,-50000.0,-50000.0,-50000.0,-50000.0,-50000.0,-50000.0,-50000.0,-50000.0,-50000.0,-50000.0,-50000.0,-50000.0,-50000.0,-50000.0,-50000.0,-50000.0,-50000.0,-50000.0],\"type\":\"scatter\",\"xaxis\":\"x2\",\"yaxis\":\"y2\"},{\"name\":\"EUA Jun24 75C\",\"x\":[30,31,32,33,34,35,36,37,38,39,40,41,42,43,44,45,46,47,48,49,50,51,52,53,54,55,56,57,58,59,60,61,62,63,64,65,66,67,68,69,70,71,72,73,74,75,76,77,78,79,80,81,82,83,84,85,86,87,88,89,90,91,92,93,94,95,96,97,98,99,100],\"y\":[-49470.706411217725,-49470.706411217725,-49470.706411217725,-49470.706411217725,-49470.706411217725,-49470.706411217725,-49470.706411217725,-49470.706411217725,-49470.706411217725,-49470.706411217725,-49470.706411217725,-49470.706411217725,-49470.706411217725,-49470.706411217725,-49470.706411217725,-49470.706411217725,-49470.706411217725,-49470.706411217725,-49470.706411217725,-49470.706411217725,-49470.706411217725,-49470.706411217725,-49470.706411217725,-49470.706411217725,-49470.706411217725,-49470.706411217725,-49470.706411217725,-49470.706411217725,-49470.706411217725,-49470.706411217725,-49470.706411217725,-49470.706411217725,-49470.706411217725,-49470.706411217725,-49470.706411217725,-49470.706411217725,-49470.706411217725,-49470.706411217725,-49470.706411217725,-49470.706411217725,-49470.706411217725,-49470.706411217725,-49470.706411217725,-49470.706411217725,-49470.706411217725,-49470.706411217725,33165.793588782275,115802.29358878227,198438.79358878228,281075.2935887823,363711.7935887823,446348.29358878225,528984.7935887823,611621.2935887823,694257.7935887823,776894.2935887823,859530.7935887823,942167.2935887823,1024803.7935887823,1107440.2935887822,1190076.7935887822,1272713.2935887822,1355349.7935887822,1437986.2935887822,1520622.7935887822,1603259.2935887822,1685895.7935887822,1768532.2935887822,1851168.7935887822,1933805.2935887822,2016441.7935887822],\"type\":\"scatter\",\"xaxis\":\"x\",\"yaxis\":\"y\"},{\"name\":\"EUA Jun24 75C\",\"x\":[30,31,32,33,34,35,36,37,38,39,40,41,42,43,44,45,46,47,48,49,50,51,52,53,54,55,56,57,58,59,60,61,62,63,64,65,66,67,68,69,70,71,72,73,74,75,76,77,78,79,80,81,82,83,84,85,86,87,88,89,90,91,92,93,94,95,96,97,98,99,100],\"y\":[0.0,0.0,0.0,0.0,0.0,0.0,0.0,0.0,0.0,0.0,0.0,0.0,0.0,0.0,0.0,0.0,0.0,0.0,0.0,0.0,0.0,0.0,0.0,0.0,0.0,0.0,0.0,0.0,0.0,0.0,0.0,0.0,0.0,0.0,0.0,0.0,0.0,0.0,0.0,0.0,0.0,0.0,0.0,0.0,0.0,null,50000.0,50000.0,50000.0,50000.0,50000.0,50000.0,50000.0,50000.0,50000.0,50000.0,50000.0,50000.0,50000.0,50000.0,50000.0,50000.0,50000.0,50000.0,50000.0,50000.0,50000.0,50000.0,50000.0,50000.0,50000.0],\"type\":\"scatter\",\"xaxis\":\"x2\",\"yaxis\":\"y2\"},{\"mode\":\"lines\",\"name\":\"Total_PnL\",\"x\":[30,31,32,33,34,35,36,37,38,39,40,41,42,43,44,45,46,47,48,49,50,51,52,53,54,55,56,57,58,59,60,61,62,63,64,65,66,67,68,69,70,71,72,73,74,75,76,77,78,79,80,81,82,83,84,85,86,87,88,89,90,91,92,93,94,95,96,97,98,99,100],\"y\":[-597233.6587926192,-597233.6587926192,-597233.6587926192,-597233.6587926192,-597233.6587926192,-597233.6587926192,-597233.6587926194,-597233.6587926194,-597233.6587926194,-597233.6587926194,-597233.6587926194,-514597.15879261954,-431960.6587926194,-349324.15879261954,-266687.65879261936,-184051.15879261936,-101414.65879261939,-18778.158792619426,63858.341207380574,146494.8412073806,229131.3412073806,229131.3412073806,229131.3412073806,229131.3412073806,229131.3412073806,229131.3412073806,229131.3412073806,229131.3412073806,229131.3412073806,229131.3412073806,229131.3412073806,229131.3412073806,229131.3412073806,229131.3412073806,229131.3412073806,229131.3412073806,146494.84120738058,63858.341207380574,-18778.158792619433,-101414.65879261945,-184051.15879261945,-266687.6587926195,-349324.1587926195,-431960.6587926195,-514597.1587926195,-597233.6587926194,-597233.6587926195,-597233.6587926195,-597233.6587926195,-597233.6587926195,-597233.6587926195,-597233.6587926196,-597233.6587926195,-597233.6587926195,-597233.6587926195,-597233.6587926195,-597233.6587926195,-597233.6587926195,-597233.6587926195,-597233.6587926194,-597233.6587926194,-597233.6587926194,-597233.6587926194,-597233.6587926194,-597233.6587926196,-597233.6587926196,-597233.6587926196,-597233.6587926196,-597233.6587926196,-597233.6587926196,-597233.6587926196],\"type\":\"scatter\",\"xaxis\":\"x\",\"yaxis\":\"y\"},{\"mode\":\"lines\",\"name\":\"Total_Delta\",\"x\":[30,31,32,33,34,35,36,37,38,39,40,41,42,43,44,45,46,47,48,49,50,51,52,53,54,55,56,57,58,59,60,61,62,63,64,65,66,67,68,69,70,71,72,73,74,75,76,77,78,79,80,81,82,83,84,85,86,87,88,89,90,91,92,93,94,95,96,97,98,99,100],\"y\":[0.0,0.0,0.0,0.0,0.0,0.0,0.0,0.0,0.0,0.0,50000.0,50000.0,50000.0,50000.0,50000.0,50000.0,50000.0,50000.0,50000.0,50000.0,0.0,0.0,0.0,0.0,0.0,0.0,0.0,0.0,0.0,0.0,0.0,0.0,0.0,0.0,0.0,0.0,-50000.0,-50000.0,-50000.0,-50000.0,-50000.0,-50000.0,-50000.0,-50000.0,-50000.0,-50000.0,0.0,0.0,0.0,0.0,0.0,0.0,0.0,0.0,0.0,0.0,0.0,0.0,0.0,0.0,0.0,0.0,0.0,0.0,0.0,0.0,0.0,0.0,0.0,0.0,0.0],\"type\":\"scatter\",\"xaxis\":\"x2\",\"yaxis\":\"y2\"}],                        {\"template\":{\"data\":{\"histogram2dcontour\":[{\"type\":\"histogram2dcontour\",\"colorbar\":{\"outlinewidth\":0,\"ticks\":\"\"},\"colorscale\":[[0.0,\"#0d0887\"],[0.1111111111111111,\"#46039f\"],[0.2222222222222222,\"#7201a8\"],[0.3333333333333333,\"#9c179e\"],[0.4444444444444444,\"#bd3786\"],[0.5555555555555556,\"#d8576b\"],[0.6666666666666666,\"#ed7953\"],[0.7777777777777778,\"#fb9f3a\"],[0.8888888888888888,\"#fdca26\"],[1.0,\"#f0f921\"]]}],\"choropleth\":[{\"type\":\"choropleth\",\"colorbar\":{\"outlinewidth\":0,\"ticks\":\"\"}}],\"histogram2d\":[{\"type\":\"histogram2d\",\"colorbar\":{\"outlinewidth\":0,\"ticks\":\"\"},\"colorscale\":[[0.0,\"#0d0887\"],[0.1111111111111111,\"#46039f\"],[0.2222222222222222,\"#7201a8\"],[0.3333333333333333,\"#9c179e\"],[0.4444444444444444,\"#bd3786\"],[0.5555555555555556,\"#d8576b\"],[0.6666666666666666,\"#ed7953\"],[0.7777777777777778,\"#fb9f3a\"],[0.8888888888888888,\"#fdca26\"],[1.0,\"#f0f921\"]]}],\"heatmap\":[{\"type\":\"heatmap\",\"colorbar\":{\"outlinewidth\":0,\"ticks\":\"\"},\"colorscale\":[[0.0,\"#0d0887\"],[0.1111111111111111,\"#46039f\"],[0.2222222222222222,\"#7201a8\"],[0.3333333333333333,\"#9c179e\"],[0.4444444444444444,\"#bd3786\"],[0.5555555555555556,\"#d8576b\"],[0.6666666666666666,\"#ed7953\"],[0.7777777777777778,\"#fb9f3a\"],[0.8888888888888888,\"#fdca26\"],[1.0,\"#f0f921\"]]}],\"heatmapgl\":[{\"type\":\"heatmapgl\",\"colorbar\":{\"outlinewidth\":0,\"ticks\":\"\"},\"colorscale\":[[0.0,\"#0d0887\"],[0.1111111111111111,\"#46039f\"],[0.2222222222222222,\"#7201a8\"],[0.3333333333333333,\"#9c179e\"],[0.4444444444444444,\"#bd3786\"],[0.5555555555555556,\"#d8576b\"],[0.6666666666666666,\"#ed7953\"],[0.7777777777777778,\"#fb9f3a\"],[0.8888888888888888,\"#fdca26\"],[1.0,\"#f0f921\"]]}],\"contourcarpet\":[{\"type\":\"contourcarpet\",\"colorbar\":{\"outlinewidth\":0,\"ticks\":\"\"}}],\"contour\":[{\"type\":\"contour\",\"colorbar\":{\"outlinewidth\":0,\"ticks\":\"\"},\"colorscale\":[[0.0,\"#0d0887\"],[0.1111111111111111,\"#46039f\"],[0.2222222222222222,\"#7201a8\"],[0.3333333333333333,\"#9c179e\"],[0.4444444444444444,\"#bd3786\"],[0.5555555555555556,\"#d8576b\"],[0.6666666666666666,\"#ed7953\"],[0.7777777777777778,\"#fb9f3a\"],[0.8888888888888888,\"#fdca26\"],[1.0,\"#f0f921\"]]}],\"surface\":[{\"type\":\"surface\",\"colorbar\":{\"outlinewidth\":0,\"ticks\":\"\"},\"colorscale\":[[0.0,\"#0d0887\"],[0.1111111111111111,\"#46039f\"],[0.2222222222222222,\"#7201a8\"],[0.3333333333333333,\"#9c179e\"],[0.4444444444444444,\"#bd3786\"],[0.5555555555555556,\"#d8576b\"],[0.6666666666666666,\"#ed7953\"],[0.7777777777777778,\"#fb9f3a\"],[0.8888888888888888,\"#fdca26\"],[1.0,\"#f0f921\"]]}],\"mesh3d\":[{\"type\":\"mesh3d\",\"colorbar\":{\"outlinewidth\":0,\"ticks\":\"\"}}],\"scatter\":[{\"fillpattern\":{\"fillmode\":\"overlay\",\"size\":10,\"solidity\":0.2},\"type\":\"scatter\"}],\"parcoords\":[{\"type\":\"parcoords\",\"line\":{\"colorbar\":{\"outlinewidth\":0,\"ticks\":\"\"}}}],\"scatterpolargl\":[{\"type\":\"scatterpolargl\",\"marker\":{\"colorbar\":{\"outlinewidth\":0,\"ticks\":\"\"}}}],\"bar\":[{\"error_x\":{\"color\":\"#2a3f5f\"},\"error_y\":{\"color\":\"#2a3f5f\"},\"marker\":{\"line\":{\"color\":\"#E5ECF6\",\"width\":0.5},\"pattern\":{\"fillmode\":\"overlay\",\"size\":10,\"solidity\":0.2}},\"type\":\"bar\"}],\"scattergeo\":[{\"type\":\"scattergeo\",\"marker\":{\"colorbar\":{\"outlinewidth\":0,\"ticks\":\"\"}}}],\"scatterpolar\":[{\"type\":\"scatterpolar\",\"marker\":{\"colorbar\":{\"outlinewidth\":0,\"ticks\":\"\"}}}],\"histogram\":[{\"marker\":{\"pattern\":{\"fillmode\":\"overlay\",\"size\":10,\"solidity\":0.2}},\"type\":\"histogram\"}],\"scattergl\":[{\"type\":\"scattergl\",\"marker\":{\"colorbar\":{\"outlinewidth\":0,\"ticks\":\"\"}}}],\"scatter3d\":[{\"type\":\"scatter3d\",\"line\":{\"colorbar\":{\"outlinewidth\":0,\"ticks\":\"\"}},\"marker\":{\"colorbar\":{\"outlinewidth\":0,\"ticks\":\"\"}}}],\"scattermapbox\":[{\"type\":\"scattermapbox\",\"marker\":{\"colorbar\":{\"outlinewidth\":0,\"ticks\":\"\"}}}],\"scatterternary\":[{\"type\":\"scatterternary\",\"marker\":{\"colorbar\":{\"outlinewidth\":0,\"ticks\":\"\"}}}],\"scattercarpet\":[{\"type\":\"scattercarpet\",\"marker\":{\"colorbar\":{\"outlinewidth\":0,\"ticks\":\"\"}}}],\"carpet\":[{\"aaxis\":{\"endlinecolor\":\"#2a3f5f\",\"gridcolor\":\"white\",\"linecolor\":\"white\",\"minorgridcolor\":\"white\",\"startlinecolor\":\"#2a3f5f\"},\"baxis\":{\"endlinecolor\":\"#2a3f5f\",\"gridcolor\":\"white\",\"linecolor\":\"white\",\"minorgridcolor\":\"white\",\"startlinecolor\":\"#2a3f5f\"},\"type\":\"carpet\"}],\"table\":[{\"cells\":{\"fill\":{\"color\":\"#EBF0F8\"},\"line\":{\"color\":\"white\"}},\"header\":{\"fill\":{\"color\":\"#C8D4E3\"},\"line\":{\"color\":\"white\"}},\"type\":\"table\"}],\"barpolar\":[{\"marker\":{\"line\":{\"color\":\"#E5ECF6\",\"width\":0.5},\"pattern\":{\"fillmode\":\"overlay\",\"size\":10,\"solidity\":0.2}},\"type\":\"barpolar\"}],\"pie\":[{\"automargin\":true,\"type\":\"pie\"}]},\"layout\":{\"autotypenumbers\":\"strict\",\"colorway\":[\"#636efa\",\"#EF553B\",\"#00cc96\",\"#ab63fa\",\"#FFA15A\",\"#19d3f3\",\"#FF6692\",\"#B6E880\",\"#FF97FF\",\"#FECB52\"],\"font\":{\"color\":\"#2a3f5f\"},\"hovermode\":\"closest\",\"hoverlabel\":{\"align\":\"left\"},\"paper_bgcolor\":\"white\",\"plot_bgcolor\":\"#E5ECF6\",\"polar\":{\"bgcolor\":\"#E5ECF6\",\"angularaxis\":{\"gridcolor\":\"white\",\"linecolor\":\"white\",\"ticks\":\"\"},\"radialaxis\":{\"gridcolor\":\"white\",\"linecolor\":\"white\",\"ticks\":\"\"}},\"ternary\":{\"bgcolor\":\"#E5ECF6\",\"aaxis\":{\"gridcolor\":\"white\",\"linecolor\":\"white\",\"ticks\":\"\"},\"baxis\":{\"gridcolor\":\"white\",\"linecolor\":\"white\",\"ticks\":\"\"},\"caxis\":{\"gridcolor\":\"white\",\"linecolor\":\"white\",\"ticks\":\"\"}},\"coloraxis\":{\"colorbar\":{\"outlinewidth\":0,\"ticks\":\"\"}},\"colorscale\":{\"sequential\":[[0.0,\"#0d0887\"],[0.1111111111111111,\"#46039f\"],[0.2222222222222222,\"#7201a8\"],[0.3333333333333333,\"#9c179e\"],[0.4444444444444444,\"#bd3786\"],[0.5555555555555556,\"#d8576b\"],[0.6666666666666666,\"#ed7953\"],[0.7777777777777778,\"#fb9f3a\"],[0.8888888888888888,\"#fdca26\"],[1.0,\"#f0f921\"]],\"sequentialminus\":[[0.0,\"#0d0887\"],[0.1111111111111111,\"#46039f\"],[0.2222222222222222,\"#7201a8\"],[0.3333333333333333,\"#9c179e\"],[0.4444444444444444,\"#bd3786\"],[0.5555555555555556,\"#d8576b\"],[0.6666666666666666,\"#ed7953\"],[0.7777777777777778,\"#fb9f3a\"],[0.8888888888888888,\"#fdca26\"],[1.0,\"#f0f921\"]],\"diverging\":[[0,\"#8e0152\"],[0.1,\"#c51b7d\"],[0.2,\"#de77ae\"],[0.3,\"#f1b6da\"],[0.4,\"#fde0ef\"],[0.5,\"#f7f7f7\"],[0.6,\"#e6f5d0\"],[0.7,\"#b8e186\"],[0.8,\"#7fbc41\"],[0.9,\"#4d9221\"],[1,\"#276419\"]]},\"xaxis\":{\"gridcolor\":\"white\",\"linecolor\":\"white\",\"ticks\":\"\",\"title\":{\"standoff\":15},\"zerolinecolor\":\"white\",\"automargin\":true,\"zerolinewidth\":2},\"yaxis\":{\"gridcolor\":\"white\",\"linecolor\":\"white\",\"ticks\":\"\",\"title\":{\"standoff\":15},\"zerolinecolor\":\"white\",\"automargin\":true,\"zerolinewidth\":2},\"scene\":{\"xaxis\":{\"backgroundcolor\":\"#E5ECF6\",\"gridcolor\":\"white\",\"linecolor\":\"white\",\"showbackground\":true,\"ticks\":\"\",\"zerolinecolor\":\"white\",\"gridwidth\":2},\"yaxis\":{\"backgroundcolor\":\"#E5ECF6\",\"gridcolor\":\"white\",\"linecolor\":\"white\",\"showbackground\":true,\"ticks\":\"\",\"zerolinecolor\":\"white\",\"gridwidth\":2},\"zaxis\":{\"backgroundcolor\":\"#E5ECF6\",\"gridcolor\":\"white\",\"linecolor\":\"white\",\"showbackground\":true,\"ticks\":\"\",\"zerolinecolor\":\"white\",\"gridwidth\":2}},\"shapedefaults\":{\"line\":{\"color\":\"#2a3f5f\"}},\"annotationdefaults\":{\"arrowcolor\":\"#2a3f5f\",\"arrowhead\":0,\"arrowwidth\":1},\"geo\":{\"bgcolor\":\"white\",\"landcolor\":\"#E5ECF6\",\"subunitcolor\":\"white\",\"showland\":true,\"showlakes\":true,\"lakecolor\":\"white\"},\"title\":{\"x\":0.05},\"mapbox\":{\"style\":\"light\"}}},\"xaxis\":{\"anchor\":\"y\",\"domain\":[0.0,0.45],\"title\":{\"text\":\"Price\"}},\"yaxis\":{\"anchor\":\"x\",\"domain\":[0.0,1.0],\"title\":{\"text\":\"Pnl\"}},\"xaxis2\":{\"anchor\":\"y2\",\"domain\":[0.55,1.0],\"title\":{\"text\":\"Price\"}},\"yaxis2\":{\"anchor\":\"x2\",\"domain\":[0.0,1.0],\"title\":{\"text\":\"Delta\"}},\"title\":{\"text\":\"Todays Option Pos (PnL and Delta)\",\"x\":0.5,\"xanchor\":\"center\"},\"barmode\":\"stack\"},                        {\"responsive\": true}                    ).then(function(){\n",
       "                            \n",
       "var gd = document.getElementById('e04c4ed1-0840-47c1-958b-914c4370e691');\n",
       "var x = new MutationObserver(function (mutations, observer) {{\n",
       "        var display = window.getComputedStyle(gd).display;\n",
       "        if (!display || display === 'none') {{\n",
       "            console.log([gd, 'removed!']);\n",
       "            Plotly.purge(gd);\n",
       "            observer.disconnect();\n",
       "        }}\n",
       "}});\n",
       "\n",
       "// Listen for the removal of the full notebook cells\n",
       "var notebookContainer = gd.closest('#notebook-container');\n",
       "if (notebookContainer) {{\n",
       "    x.observe(notebookContainer, {childList: true});\n",
       "}}\n",
       "\n",
       "// Listen for the clearing of the current output cell\n",
       "var outputEl = gd.closest('.output');\n",
       "if (outputEl) {{\n",
       "    x.observe(outputEl, {childList: true});\n",
       "}}\n",
       "\n",
       "                        })                };                });            </script>        </div>"
      ]
     },
     "metadata": {},
     "output_type": "display_data"
    }
   ],
   "source": [
    "pnl_delta_plot(end_of_year)"
   ]
  },
  {
   "cell_type": "code",
   "execution_count": 21,
   "id": "175af9cd",
   "metadata": {},
   "outputs": [],
   "source": [
    "### THIS IS FOR PLOTTING THETA AND VEGA\n",
    "\n",
    "#fig_t = go.Figure()\n",
    "#for i in list(t)[1:-1]:\n",
    "#    fig_t.add_trace(go.Bar(x=t.Price, y=t[i], name=i, base=0))\n",
    "#\n",
    "#fig_t.add_trace(go.Scatter(x=t.Price, y=t.Option_Theta, mode='lines', name='Total_Theta'))\n",
    "#\n",
    "#\n",
    "#~~~~~~~~~~~~~~~~~~~~~~~~~~~~~~~~~~~~~~~~~~~~~~~~~~~~~~~~~~~~~~~~~~~~~~~~~~~~~~~~~\n",
    "#fig_v = go.Figure()\n",
    "#for i in list(v)[1:-1]:\n",
    "#    fig_v.add_trace(go.Bar(x=v.Price, y=v[i], name=i, base=0))\n",
    "#\n",
    "#fig_v.add_trace(go.Scatter(x=v.Price, y=v.Option_Vega, mode='lines', name='Total_Vega'))\n",
    "#\n",
    "##~~~~~~~~~~~~~~~~~~~~~~~~~~~~~~~~~~~~~~~~~~~~~~~~~~~~~~~~~~~~~~~~~~~~~~~~~~~~~~~~\n",
    "#fig = make_subplots(rows=1, cols=2)\n",
    "#for i in range(0,len(fig_p.data)):\n",
    "#    fig.add_trace(fig_t.data[i], row=1, col=1)\n",
    "#    fig.add_trace(fig_v.data[i], row=1, col=2)\n",
    "#   \n",
    "#fig.update_layout(title={'text': 'Todays Option Pos (Theta and Vega)','x': 0.5,'xanchor': 'center'}, barmode='stack')\n",
    "#\n",
    "#fig.update_xaxes(title_text=\"Price\", row=1, col=1)\n",
    "#fig.update_yaxes(title_text=\"Theta\", row=1, col=1)\n",
    "#fig.update_xaxes(title_text=\"Price\", row=1, col=2)\n",
    "#fig.update_yaxes(title_text=\"Vega\", row=1, col=2)    \n",
    "#fig.show()  "
   ]
  }
 ],
 "metadata": {
  "kernelspec": {
   "display_name": "Python 3 (ipykernel)",
   "language": "python",
   "name": "python3"
  },
  "language_info": {
   "codemirror_mode": {
    "name": "ipython",
    "version": 3
   },
   "file_extension": ".py",
   "mimetype": "text/x-python",
   "name": "python",
   "nbconvert_exporter": "python",
   "pygments_lexer": "ipython3",
   "version": "3.8.16"
  },
  "toc": {
   "base_numbering": 1,
   "nav_menu": {},
   "number_sections": true,
   "sideBar": true,
   "skip_h1_title": false,
   "title_cell": "Table of Contents",
   "title_sidebar": "Contents",
   "toc_cell": false,
   "toc_position": {},
   "toc_section_display": true,
   "toc_window_display": false
  },
  "varInspector": {
   "cols": {
    "lenName": 16,
    "lenType": 16,
    "lenVar": 40
   },
   "kernels_config": {
    "python": {
     "delete_cmd_postfix": "",
     "delete_cmd_prefix": "del ",
     "library": "var_list.py",
     "varRefreshCmd": "print(var_dic_list())"
    },
    "r": {
     "delete_cmd_postfix": ") ",
     "delete_cmd_prefix": "rm(",
     "library": "var_list.r",
     "varRefreshCmd": "cat(var_dic_list()) "
    }
   },
   "types_to_exclude": [
    "module",
    "function",
    "builtin_function_or_method",
    "instance",
    "_Feature"
   ],
   "window_display": false
  }
 },
 "nbformat": 4,
 "nbformat_minor": 5
}
