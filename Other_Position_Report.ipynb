{
 "cells": [
  {
   "cell_type": "code",
   "execution_count": 1,
   "id": "bba20152",
   "metadata": {},
   "outputs": [],
   "source": [
    "import warnings\n",
    "warnings.filterwarnings('ignore', category=RuntimeWarning)\n",
    "\n",
    "import pandas as pd\n",
    "import plotly.graph_objects as go\n",
    "from plotly.subplots import make_subplots\n",
    "import plotly\n",
    "\n",
    "import datetime as dt\n",
    "from datetime import datetime, timedelta\n",
    "import calendar\n",
    "\n",
    "import openpyxl\n",
    "from openpyxl.utils.dataframe import dataframe_to_rows\n",
    "\n",
    "from Position_Report_Calcs import Position_Reporting"
   ]
  },
  {
   "cell_type": "code",
   "execution_count": 2,
   "id": "9b481c4e",
   "metadata": {},
   "outputs": [
    {
     "data": {
      "text/html": [
       "        <script type=\"text/javascript\">\n",
       "        window.PlotlyConfig = {MathJaxConfig: 'local'};\n",
       "        if (window.MathJax && window.MathJax.Hub && window.MathJax.Hub.Config) {window.MathJax.Hub.Config({SVG: {font: \"STIX-Web\"}});}\n",
       "        if (typeof require !== 'undefined') {\n",
       "        require.undef(\"plotly\");\n",
       "        requirejs.config({\n",
       "            paths: {\n",
       "                'plotly': ['https://cdn.plot.ly/plotly-2.32.0.min']\n",
       "            }\n",
       "        });\n",
       "        require(['plotly'], function(Plotly) {\n",
       "            window._Plotly = Plotly;\n",
       "        });\n",
       "        }\n",
       "        </script>\n",
       "        "
      ]
     },
     "metadata": {},
     "output_type": "display_data"
    }
   ],
   "source": [
    "plotly.offline.init_notebook_mode(connected=True)"
   ]
  },
  {
   "cell_type": "code",
   "execution_count": 3,
   "id": "0ce5e199-69f3-444d-9b2b-73c33a5b9700",
   "metadata": {},
   "outputs": [],
   "source": [
    "def reporting_date(run_date='today'):\n",
    "    if run_date=='today':\n",
    "        current_date = dt.datetime.today().date()\n",
    "        current_year = current_date.year\n",
    "    else:\n",
    "        current_date = run_date\n",
    "        current_year = current_date.year\n",
    "    return current_date, current_year\n",
    "        \n",
    "#current_date, current_year = reporting_date(run_date = dt.datetime.strptime('21-06-2024', '%d-%m-%Y').date())    # for a specific date\n",
    "current_date, current_year = reporting_date()    # as at today"
   ]
  },
  {
   "cell_type": "code",
   "execution_count": 4,
   "id": "fcd8bc16-f481-4c95-a1d6-554b455d3df1",
   "metadata": {},
   "outputs": [],
   "source": [
    "def get_month_year(months_fwd):   # This is incase the months fwd overlaps into a different year\n",
    "    current_date = dt.datetime.today().date()\n",
    "    month = current_date.month + months_fwd\n",
    "    year = current_date.year\n",
    "    if month > 12:\n",
    "        month -=12\n",
    "        year += 1\n",
    "        \n",
    "    _, last_day_of_month = calendar.monthrange(year, month)\n",
    "    date_to_use = dt.date(year, month, last_day_of_month)\n",
    "    return date_to_use"
   ]
  },
  {
   "cell_type": "code",
   "execution_count": 5,
   "id": "3ca5488c",
   "metadata": {},
   "outputs": [],
   "source": [
    "## Read in the position data\n",
    "mkts = ['ACCU','NZU','EUA','OTHER']\n",
    "\n",
    "positions = dict()\n",
    "for m in mkts:\n",
    "    positions[m] = pd.read_excel('Positions.xlsx', sheet_name=m)\n",
    "    positions[m]['Expiry'] = pd.to_datetime(positions[m].Expiry).dt.date\n",
    "\n",
    "premiums = pd.read_excel('Positions.xlsx', sheet_name='Index') "
   ]
  },
  {
   "cell_type": "code",
   "execution_count": 6,
   "id": "557de5c9",
   "metadata": {},
   "outputs": [],
   "source": [
    "## Define the dates we want to use for reporting\n",
    "#current_date = dt.datetime.today().date()\n",
    "#current_year = str(dt.datetime.today().date().year)\n",
    "\n",
    "_, last_day = calendar.monthrange(current_date.year, current_date.month)\n",
    "end_of_month = dt.date(current_date.year, current_date.month, last_day)\n",
    "two_months = get_month_year(2)\n",
    "three_months = get_month_year(3)\n",
    "four_months = get_month_year(4)\n",
    "five_months = get_month_year(5)\n",
    "six_months = get_month_year(6)\n",
    "\n",
    "dec_exp = dt.datetime.strptime('16-12-2025', '%d-%m-%Y').date()\n",
    "\n",
    "## MORE GRANULAR ##\n",
    "# Get the current date\n",
    "today = datetime.now()\n",
    "# Calculate the number of days until the next Saturday (because we want the full friday session)\n",
    "days_until_saturday = (5 - today.weekday()) % 7  # Saturday is weekday 5\n",
    "# Get the date of the end of the current week (this coming Saturday)\n",
    "end_of_this_week_saturday = today + timedelta(days=days_until_saturday)\n",
    "# Get the end of next week by adding 7 more days\n",
    "end_this_wk = end_of_this_week_saturday.date()\n",
    "end_next_wk= end_of_this_week_saturday + timedelta(weeks=1)\n",
    "end_next_wk = end_next_wk.date()\n",
    "end_two_wk = end_of_this_week_saturday + timedelta(weeks=2)\n",
    "end_two_wk = end_two_wk.date()\n",
    "\n",
    "dates_names = ['today','End of This Wk','End of Next Wk','End of 2 Wks','EoM','2 Months','3 Months','4 Months', '5 Months', '6 Months', 'Dec Expiry']\n",
    "dates_values = [current_date, end_this_wk, end_next_wk, end_two_wk, end_of_month, two_months, three_months, four_months, five_months, six_months, dec_exp]"
   ]
  },
  {
   "cell_type": "code",
   "execution_count": 7,
   "id": "d56c3bd8",
   "metadata": {},
   "outputs": [],
   "source": [
    "dates = dict()\n",
    "for i in list(range(0,len(dates_names))):\n",
    "    dates[dates_names[i]] = dates_values[i]"
   ]
  },
  {
   "cell_type": "code",
   "execution_count": 8,
   "id": "c9bcfcb0",
   "metadata": {},
   "outputs": [],
   "source": [
    "current_spot = positions['OTHER']\n",
    "current_spot = current_spot[current_spot.Type=='Spot'].reset_index(drop=True)\n",
    "current_spot = current_spot['Price'][0]"
   ]
  },
  {
   "cell_type": "markdown",
   "id": "756bb0ec",
   "metadata": {},
   "source": [
    "# OTHER Position Report\n",
    "All PnL figures are in AUD"
   ]
  },
  {
   "cell_type": "code",
   "execution_count": 10,
   "id": "659c3281",
   "metadata": {},
   "outputs": [],
   "source": [
    "other = dict()\n",
    "workbook = openpyxl.Workbook()\n",
    "\n",
    "for i,d in enumerate(dates_values):\n",
    "    other[d] = Position_Reporting(positions, 'OTHER', d).combine_frame()\n",
    "    \n",
    "    sheet_name = dates_names[i]\n",
    "    sheet = workbook.create_sheet(title=sheet_name)\n",
    "    \n",
    "    for row in dataframe_to_rows(other[d][0], index=False, header=True):\n",
    "        sheet.append(row)\n",
    "    \n",
    "workbook.save('Other PnL Output.xlsx')    "
   ]
  },
  {
   "cell_type": "code",
   "execution_count": 11,
   "id": "fb9d8c7f",
   "metadata": {},
   "outputs": [],
   "source": [
    "# data type; 0=PnL, 1=Delta, 2=Option Theta, 3=Option Vega\n",
    "def generate_summary_plots(mkt_data, data_type):\n",
    "    if data_type==0:\n",
    "        colname='Total_Pnl'\n",
    "    elif data_type==1:\n",
    "        colname='Total_Delta'\n",
    "    elif data_type==2:\n",
    "        colname='Option_Theta'\n",
    "    elif data_type==3:\n",
    "        colname='Option_Vega'\n",
    "    fig = go.Figure()\n",
    "    for i in list(range(0, len(dates_names))):\n",
    "        date_value = dates_values[i]\n",
    "        date_name = dates_names[i]\n",
    "        fig.add_trace(go.Scatter(x=mkt_data[date_value][data_type].Price, y=mkt_data[date_value][data_type][colname], name=date_name))\n",
    "    return fig"
   ]
  },
  {
   "cell_type": "code",
   "execution_count": 12,
   "id": "4708cc1d",
   "metadata": {},
   "outputs": [],
   "source": [
    "#fig_d = generate_summary_plots(other, 1)\n",
    "#fig_p = generate_summary_plots(other, 0)\n",
    "#fig_t = generate_summary_plots(other,2)\n",
    "#fig_v = generate_summary_plots(other,3)"
   ]
  },
  {
   "cell_type": "code",
   "execution_count": 13,
   "id": "ff94b9f0",
   "metadata": {},
   "outputs": [],
   "source": [
    "#fig = make_subplots(rows=1, cols=2)\n",
    "#for i in range(0,len(fig_d.data)):\n",
    "#    fig.add_trace(fig_p.data[i], row=1, col=1)\n",
    "#    fig.add_trace(fig_d.data[i], row=1, col=2)\n",
    "#\n",
    "#fig.update_layout(title={'text': 'OTHER Position (PnL and Delta)','x': 0.5,'xanchor': 'center'})\n",
    "#\n",
    "#fig.update_xaxes(title_text=\"Price\", row=1, col=1)\n",
    "#fig.update_yaxes(title_text=\"PnL\", row=1, col=1)\n",
    "#fig.update_xaxes(title_text=\"Price\", row=1, col=2)\n",
    "#fig.update_yaxes(title_text=\"Delta\", row=1, col=2)\n",
    "#\n",
    "#fig.add_vline(x=current_spot, line_width=1, line_dash=\"dash\", line_color=\"green\")\n",
    "#\n",
    "#fig.show()"
   ]
  },
  {
   "cell_type": "code",
   "execution_count": 14,
   "id": "795643ae",
   "metadata": {},
   "outputs": [],
   "source": [
    "#fig = make_subplots(rows=1, cols=2)\n",
    "#for i in range(0,len(fig_d.data)):\n",
    "#    fig.add_trace(fig_t.data[i], row=1, col=1)\n",
    "#    fig.add_trace(fig_v.data[i], row=1, col=2)\n",
    "#\n",
    "#fig.update_layout(title={'text': 'OTHER Position (Theta and Vega)','x': 0.5,'xanchor': 'center'})\n",
    "#\n",
    "#fig.update_xaxes(title_text=\"Price\", row=1, col=1)\n",
    "#fig.update_yaxes(title_text=\"Theta\", row=1, col=1)\n",
    "#fig.update_xaxes(title_text=\"Price\", row=1, col=2)\n",
    "#fig.update_yaxes(title_text=\"Vega\", row=1, col=2)\n",
    "#fig.show()"
   ]
  },
  {
   "cell_type": "code",
   "execution_count": 15,
   "id": "c201f2c6",
   "metadata": {},
   "outputs": [],
   "source": [
    "## USE THIS STYLE OF GRAPHING FOR TODAY DATE ENTRY ##\n",
    "#position_functions = Position_Reporting(positions, 'OTHER', current_date)\n",
    "#pnl, delta, theta, vega, value = position_functions.combine_frame()\n",
    "#\n",
    "#fig_d = go.Figure()\n",
    "#\n",
    "#fig_d.add_trace(go.Bar(x=delta.Price, y=delta.Spot, name='Spot', base=0))\n",
    "#fig_d.add_trace(go.Bar(x=delta.Price, y=delta.Fwds, name='Fwds', base=0))\n",
    "#fig_d.add_trace(go.Bar(x=delta.Price, y=delta.Options, name='Options', base=0))\n",
    "#fig_d.add_trace(go.Scatter(x=delta.Price, y=delta.Total_Delta, mode='lines', name='Total_Delta'))\n",
    "#\n",
    "#\n",
    "##~~~~~~~~~~~~~~~~~~~~~~~~~~~~~~~~~\n",
    "#fig_p = go.Figure()\n",
    "#\n",
    "#fig_p.add_trace(go.Bar(x=pnl.Price, y=pnl.Spot, name='Spot', base=0))\n",
    "#fig_p.add_trace(go.Bar(x=pnl.Price, y=pnl.Fwds, name='Fwds', base=0))\n",
    "#fig_p.add_trace(go.Bar(x=pnl.Price, y=pnl.Options, name='Options', base=0))\n",
    "#fig_p.add_trace(go.Scatter(x=pnl.Price, y=pnl.Total_Pnl, mode='lines', name='Total_PnL'))\n",
    "#\n",
    "#\n",
    "##~~~~~~~~~~~~~~~~~~~~~~~~~~~~~~~\n",
    "#fig = make_subplots(rows=1, cols=2)\n",
    "#for i in range(0,len(fig_d.data)):\n",
    "#    fig.add_trace(fig_d.data[i], row=1, col=2)\n",
    "#    fig.add_trace(fig_p.data[i], row=1, col=1)\n",
    "#    \n",
    "#fig.update_layout(title={'text': 'Todays OTHER Pos (PnL and Delta)','x': 0.5,'xanchor': 'center'}, barmode='stack')\n",
    "#\n",
    "#fig.update_xaxes(title_text=\"Price\", row=1, col=1)\n",
    "#fig.update_yaxes(title_text=\"Pnl\", row=1, col=1)\n",
    "#fig.update_xaxes(title_text=\"Price\", row=1, col=2)\n",
    "#fig.update_yaxes(title_text=\"Delta\", row=1, col=2)    \n",
    "#fig.show()  "
   ]
  },
  {
   "cell_type": "markdown",
   "id": "d2ae8345",
   "metadata": {},
   "source": [
    "### Positions"
   ]
  },
  {
   "cell_type": "code",
   "execution_count": 17,
   "id": "7cc76593",
   "metadata": {},
   "outputs": [
    {
     "data": {
      "text/html": [
       "<div>\n",
       "<style scoped>\n",
       "    .dataframe tbody tr th:only-of-type {\n",
       "        vertical-align: middle;\n",
       "    }\n",
       "\n",
       "    .dataframe tbody tr th {\n",
       "        vertical-align: top;\n",
       "    }\n",
       "\n",
       "    .dataframe thead th {\n",
       "        text-align: right;\n",
       "    }\n",
       "</style>\n",
       "<table border=\"1\" class=\"dataframe\">\n",
       "  <thead>\n",
       "    <tr style=\"text-align: right;\">\n",
       "      <th></th>\n",
       "      <th>Name</th>\n",
       "      <th>Type</th>\n",
       "      <th>Subtype</th>\n",
       "      <th>Strike</th>\n",
       "      <th>Vol</th>\n",
       "      <th>Expiry</th>\n",
       "      <th>Qty</th>\n",
       "      <th>Price</th>\n",
       "      <th>Rate</th>\n",
       "      <th>FX</th>\n",
       "    </tr>\n",
       "  </thead>\n",
       "  <tbody>\n",
       "    <tr>\n",
       "      <th>0</th>\n",
       "      <td>EUA Dec25</td>\n",
       "      <td>Spot</td>\n",
       "      <td>NaN</td>\n",
       "      <td>NaN</td>\n",
       "      <td>NaN</td>\n",
       "      <td>NaT</td>\n",
       "      <td>0</td>\n",
       "      <td>80.960000</td>\n",
       "      <td>0.025573</td>\n",
       "      <td>1.66419</td>\n",
       "    </tr>\n",
       "    <tr>\n",
       "      <th>1</th>\n",
       "      <td>EUA Mar25 60P</td>\n",
       "      <td>Option</td>\n",
       "      <td>Put</td>\n",
       "      <td>60.0</td>\n",
       "      <td>0.457228</td>\n",
       "      <td>2025-03-26</td>\n",
       "      <td>200000</td>\n",
       "      <td>0.174500</td>\n",
       "      <td>0.025573</td>\n",
       "      <td>1.66419</td>\n",
       "    </tr>\n",
       "    <tr>\n",
       "      <th>2</th>\n",
       "      <td>EUA Mar25 65P</td>\n",
       "      <td>Option</td>\n",
       "      <td>Put</td>\n",
       "      <td>65.0</td>\n",
       "      <td>0.413339</td>\n",
       "      <td>2025-03-26</td>\n",
       "      <td>100000</td>\n",
       "      <td>0.365090</td>\n",
       "      <td>0.025573</td>\n",
       "      <td>1.66419</td>\n",
       "    </tr>\n",
       "    <tr>\n",
       "      <th>3</th>\n",
       "      <td>EUA Mar25 70P</td>\n",
       "      <td>Option</td>\n",
       "      <td>Put</td>\n",
       "      <td>70.0</td>\n",
       "      <td>0.376768</td>\n",
       "      <td>2025-03-26</td>\n",
       "      <td>50000</td>\n",
       "      <td>0.786918</td>\n",
       "      <td>0.025573</td>\n",
       "      <td>1.66419</td>\n",
       "    </tr>\n",
       "  </tbody>\n",
       "</table>\n",
       "</div>"
      ],
      "text/plain": [
       "            Name    Type Subtype  Strike       Vol      Expiry     Qty  \\\n",
       "0      EUA Dec25    Spot     NaN     NaN       NaN         NaT       0   \n",
       "1  EUA Mar25 60P  Option     Put    60.0  0.457228  2025-03-26  200000   \n",
       "2  EUA Mar25 65P  Option     Put    65.0  0.413339  2025-03-26  100000   \n",
       "3  EUA Mar25 70P  Option     Put    70.0  0.376768  2025-03-26   50000   \n",
       "\n",
       "       Price      Rate       FX  \n",
       "0  80.960000  0.025573  1.66419  \n",
       "1   0.174500  0.025573  1.66419  \n",
       "2   0.365090  0.025573  1.66419  \n",
       "3   0.786918  0.025573  1.66419  "
      ]
     },
     "execution_count": 17,
     "metadata": {},
     "output_type": "execute_result"
    }
   ],
   "source": [
    "positions['OTHER']"
   ]
  },
  {
   "cell_type": "code",
   "execution_count": 18,
   "id": "e2a919b9",
   "metadata": {},
   "outputs": [],
   "source": [
    "# Options for timing are: [current_date, end_of_month, one_month, three_months, six_months, end_of_year, end_of_feb, march_expiry]\n",
    "\n",
    "def pnl_delta_plot(timing):\n",
    "    position_functions = Position_Reporting(positions, 'OTHER', timing)\n",
    "    p,d,t,v, value = position_functions.options()\n",
    "    fig_p = go.Figure()\n",
    "    for i in list(p)[1:-1]:\n",
    "        fig_p.add_trace(go.Scatter(x=p.Price, y=p[i], name=i))\n",
    "\n",
    "    fig_p.add_trace(go.Scatter(x=p.Price, y=p.Option_Pnl, mode='lines', name='Total_PnL'))\n",
    "\n",
    "    #fig_p.update_layout(title='Option PnL Today', xaxis_title='Price', yaxis_title='pnl', barmode='stack')\n",
    "    #fig_p.show()\n",
    "\n",
    "    #~~~~~~~~~~~~~~~~~~~~~~~~~~~~~~~~~~~~~~~~~~~~~~~~~~~~~~~~~~~~~~~~~~~~~~~~~~~~~~~~~\n",
    "    fig_d = go.Figure()\n",
    "    for i in list(d)[1:-1]:\n",
    "        fig_d.add_trace(go.Scatter(x=d.Price, y=d[i], name=i))\n",
    "\n",
    "    fig_d.add_trace(go.Scatter(x=d.Price, y=d.Option_Delta, mode='lines', name='Total_Delta'))\n",
    "\n",
    "    #~~~~~~~~~~~~~~~~~~~~~~~~~~~~~~~~~~~~~~~~~~~~~~~~~~~~~~~~~~~~~~~~~~~~~~~~~~~~~~~~\n",
    "    fig = make_subplots(rows=1, cols=2)\n",
    "    for i in range(0,len(fig_p.data)):\n",
    "        fig.add_trace(fig_p.data[i], row=1, col=1)\n",
    "        fig.add_trace(fig_d.data[i], row=1, col=2)\n",
    "\n",
    "    fig.update_layout(title={'text': 'Todays Option Pos (PnL and Delta)','x': 0.5,'xanchor': 'center'}, barmode='stack')\n",
    "\n",
    "    fig.update_xaxes(title_text=\"Price\", row=1, col=1)\n",
    "    fig.update_yaxes(title_text=\"Pnl\", row=1, col=1)\n",
    "    fig.update_xaxes(title_text=\"Price\", row=1, col=2)\n",
    "    fig.update_yaxes(title_text=\"Delta\", row=1, col=2)    \n",
    "    fig.show()  "
   ]
  },
  {
   "cell_type": "markdown",
   "id": "614a4b0f",
   "metadata": {},
   "source": [
    "## Current Date"
   ]
  },
  {
   "cell_type": "code",
   "execution_count": 20,
   "id": "8fab91a0",
   "metadata": {},
   "outputs": [
    {
     "data": {
      "application/vnd.plotly.v1+json": {
       "config": {
        "plotlyServerURL": "https://plot.ly"
       },
       "data": [
        {
         "name": "EUA Mar25 60P",
         "type": "scatter",
         "x": [
          30,
          31,
          32,
          33,
          34,
          35,
          36,
          37,
          38,
          39,
          40,
          41,
          42,
          43,
          44,
          45,
          46,
          47,
          48,
          49,
          50,
          51,
          52,
          53,
          54,
          55,
          56,
          57,
          58,
          59,
          60,
          61,
          62,
          63,
          64,
          65,
          66,
          67,
          68,
          69,
          70,
          71,
          72,
          73,
          74,
          75,
          76,
          77,
          78,
          79,
          80,
          81,
          82,
          83,
          84,
          85,
          86,
          87,
          88,
          89,
          90,
          91,
          92,
          93,
          94,
          95,
          96,
          97,
          98,
          99,
          100
         ],
         "xaxis": "x",
         "y": [
          9892151.710143236,
          9560493.118395895,
          9228852.40545641,
          8897246.321742684,
          8565703.835070644,
          8234272.544751575,
          7903027.03500885,
          7572079.109951288,
          7241589.5707925735,
          6911780.884178838,
          6582949.796890462,
          6255478.729485995,
          5929844.675765791,
          5606624.376125765,
          5286494.7282575695,
          4970227.731326493,
          4658679.691740284,
          4352774.897750008,
          4053484.439003383,
          3761801.2522250707,
          3478712.7731580297,
          3205172.7416341407,
          2942073.7329091006,
          2690221.8827380724,
          2450315.0581127657,
          2222925.4310546597,
          2008487.0742292984,
          1807288.8486612982,
          1619472.5254997823,
          1445035.7989809858,
          1283839.6220376207,
          1135619.1371584742,
          999997.3838286259,
          876500.9352467777,
          764576.6420642996,
          663608.7282896626,
          572935.5820379466,
          491865.6995928674,
          419692.3646192822,
          355706.7664236733,
          299209.37505475193,
          249519.49197813656,
          205982.98017514945,
          167978.24558412432,
          134920.59292702275,
          106265.11423612367,
          81508.28957033552,
          60188.48862612827,
          41885.56148820125,
          26219.698882225548,
          12849.729077849875,
          1471.0018933560352,
          -8187.008362816107,
          -16363.268449927762,
          -23267.826639795087,
          -29084.45235743065,
          -33973.21573767795,
          -38072.962434255016,
          -41503.65170820081,
          -44368.53657704517,
          -46756.17370051756,
          -48742.25784920948,
          -50391.28142175253,
          -51758.023734553004,
          -52888.8779011279,
          -53823.0252352052,
          -54593.468430096276,
          -55227.93544678238,
          -55749.66622613835,
          -56178.09414861102,
          -56529.43370019844
         ],
         "yaxis": "y"
        },
        {
         "name": "EUA Mar25 60P",
         "type": "scatter",
         "x": [
          30,
          31,
          32,
          33,
          34,
          35,
          36,
          37,
          38,
          39,
          40,
          41,
          42,
          43,
          44,
          45,
          46,
          47,
          48,
          49,
          50,
          51,
          52,
          53,
          54,
          55,
          56,
          57,
          58,
          59,
          60,
          61,
          62,
          63,
          64,
          65,
          66,
          67,
          68,
          69,
          70,
          71,
          72,
          73,
          74,
          75,
          76,
          77,
          78,
          79,
          80,
          81,
          82,
          83,
          84,
          85,
          86,
          87,
          88,
          89,
          90,
          91,
          92,
          93,
          94,
          95,
          96,
          97,
          98,
          99,
          100
         ],
         "xaxis": "x2",
         "y": [
          -199993.95548853188,
          -199986.5082639217,
          -199971.62445544693,
          -199943.4953382783,
          -199893.00369695178,
          -199806.5840181034,
          -199665.04474609217,
          -199442.5053898657,
          -199105.6318307216,
          -198613.35770117384,
          -197917.25265743874,
          -196962.6404555389,
          -195690.48808299613,
          -194039.9939321401,
          -191951.71273974606,
          -189370.9818683865,
          -186251.36839577454,
          -182557.8453615835,
          -178269.42873142776,
          -173381.05937770833,
          -167904.5880603246,
          -161868.80544141252,
          -155318.54286931016,
          -148312.9437146143,
          -140923.06260736976,
          -133228.9871489079,
          -125316.69263187147,
          -117274.83658052856,
          -109191.67993308796,
          -101152.28990479959,
          -93236.14080876723,
          -85515.18792196804,
          -78052.44972972087,
          -70901.09849308415,
          -64104.029978713916,
          -57693.86132619347,
          -51693.2915376586,
          -46115.751457284656,
          -40966.2684289017,
          -36242.473900380224,
          -31935.68882404412,
          -28032.030568152866,
          -24513.495121849483,
          -21358.978744032032,
          -18545.213178588172,
          -16047.597639704247,
          -13840.91865116941,
          -11899.955349048285,
          -10199.972998832374,
          -8717.111299690172,
          -7428.676675800627,
          -6313.349350940544,
          -5351.316746488322,
          -4524.344813992887,
          -3815.7984796497235,
          -3210.6215895429946,
          -2695.2857295874155,
          -2257.716157820222,
          -1887.2019116148886,
          -1574.2960003569005,
          -1310.7105088363323,
          -1089.210446482869,
          -903.5092986375171,
          -748.1684747463024,
          -618.5022039364885,
          -510.48889512876895,
          -420.68954759326704,
          -346.1734577358877,
          -284.4512071561223,
          -233.41472387599094,
          -191.2840718618636
         ],
         "yaxis": "y2"
        },
        {
         "name": "EUA Mar25 65P",
         "type": "scatter",
         "x": [
          30,
          31,
          32,
          33,
          34,
          35,
          36,
          37,
          38,
          39,
          40,
          41,
          42,
          43,
          44,
          45,
          46,
          47,
          48,
          49,
          50,
          51,
          52,
          53,
          54,
          55,
          56,
          57,
          58,
          59,
          60,
          61,
          62,
          63,
          64,
          65,
          66,
          67,
          68,
          69,
          70,
          71,
          72,
          73,
          74,
          75,
          76,
          77,
          78,
          79,
          80,
          81,
          82,
          83,
          84,
          85,
          86,
          87,
          88,
          89,
          90,
          91,
          92,
          93,
          94,
          95,
          96,
          97,
          98,
          99,
          100
         ],
         "xaxis": "x",
         "y": [
          5743537.79526099,
          5577700.874528004,
          5411864.131128124,
          5246027.834791017,
          5080192.591067414,
          4914359.673957913,
          4748531.606966621,
          4582713.11588948,
          4416912.599748349,
          4251144.27380914,
          4085431.120871131,
          3919808.7363959095,
          3754330.0668211286,
          3589070.9227878503,
          3424136.011869187,
          3259665.0971421944,
          3095838.7707245033,
          2932883.2570338547,
          2771073.6462876396,
          2610735.0137965064,
          2452241.003941212,
          2296009.6381419026,
          2142496.3239665627,
          1992184.2728649543,
          1845572.7506162575,
          1703163.7637485724,
          1565447.908916892,
          1432890.1701618456,
          1305916.439051072,
          1184901.4605378555,
          1070158.7846586618,
          961933.1465688626,
          860395.5221329288,
          765640.9300598153,
          677688.8888861818,
          596486.2990645526,
          521912.41419956303,
          453785.49436300824,
          391870.69817576685,
          335888.76593303966,
          285525.0684551127,
          240438.63942425922,
          200270.86620736704,
          164653.57930743165,
          133216.34808939166,
          105592.85573351102,
          81426.28605043853,
          60373.70653492163,
          42109.47455812537,
          26327.72649582065,
          12744.033148265258,
          1096.3198176733827,
          -8854.843014488575,
          -17326.471041811918,
          -24513.815546737475,
          -30591.333846803434,
          -35713.89308395324,
          -40018.13039963306,
          -43623.90384340763,
          -46635.77959668987,
          -49144.51177953636,
          -51228.480920084214,
          -52955.06590326402,
          -54381.93178125767,
          -55558.22220670011,
          -56525.650483651894,
          -57319.487404430016,
          -57969.4472609933,
          -58500.47580902042,
          -58933.44564556558,
          -59285.7655580639
         ],
         "yaxis": "y"
        },
        {
         "name": "EUA Mar25 65P",
         "type": "scatter",
         "x": [
          30,
          31,
          32,
          33,
          34,
          35,
          36,
          37,
          38,
          39,
          40,
          41,
          42,
          43,
          44,
          45,
          46,
          47,
          48,
          49,
          50,
          51,
          52,
          53,
          54,
          55,
          56,
          57,
          58,
          59,
          60,
          61,
          62,
          63,
          64,
          65,
          66,
          67,
          68,
          69,
          70,
          71,
          72,
          73,
          74,
          75,
          76,
          77,
          78,
          79,
          80,
          81,
          82,
          83,
          84,
          85,
          86,
          87,
          88,
          89,
          90,
          91,
          92,
          93,
          94,
          95,
          96,
          97,
          98,
          99,
          100
         ],
         "xaxis": "x2",
         "y": [
          -99999.96775917214,
          -99999.90460922907,
          -99999.73859711787,
          -99999.33247016203,
          -99998.40276100794,
          -99996.40122165189,
          -99992.3305019565,
          -99984.47739510144,
          -99970.05342820464,
          -99944.74497998545,
          -99902.19300642534,
          -99833.44372432846,
          -99726.43257367509,
          -99565.57987646406,
          -99331.58335873936,
          -99001.48685655459,
          -98549.0849850327,
          -97945.69180929904,
          -97161.2615635786,
          -96165.806908073,
          -94931.02143677615,
          -93431.98396075454,
          -91648.80673072717,
          -89568.09024001309,
          -87184.06314776184,
          -84499.31459533214,
          -81525.06359657172,
          -78280.95132015045,
          -74794.38202122472,
          -71099.47289274786,
          -67235.69913536993,
          -63246.33642159182,
          -59176.80836502484,
          -55073.04248974034,
          -50979.92628340673,
          -46939.93746972638,
          -42992.00206279758,
          -39170.61234151097,
          -35505.216528236575,
          -32019.874120755932,
          -28733.156441044106,
          -25658.261467884957,
          -22803.305428725173,
          -20171.750629836428,
          -17762.929071892275,
          -15572.623878437586,
          -13593.674770032061,
          -11816.579090889301,
          -10230.065658774512,
          -8821.624488129264,
          -7577.980870899104,
          -6485.507141898661,
          -5530.5695598247385,
          -4699.811040595503,
          -3980.3729927346044,
          -3360.061279525339,
          -2827.4624555012283,
          -2372.016998320303,
          -1984.056389419231,
          -1654.8106931427496,
          -1376.3928403957127,
          -1141.7652228903453,
          -944.693517284323,
          -779.6919401670266,
          -641.9634267148977,
          -527.3375576230088,
          -432.2084500850365,
          -353.4742902004728,
          -288.4797207398759,
          -234.96190930433204,
          -191.00080374214735
         ],
         "yaxis": "y2"
        },
        {
         "name": "EUA Mar25 70P",
         "type": "scatter",
         "x": [
          30,
          31,
          32,
          33,
          34,
          35,
          36,
          37,
          38,
          39,
          40,
          41,
          42,
          43,
          44,
          45,
          46,
          47,
          48,
          49,
          50,
          51,
          52,
          53,
          54,
          55,
          56,
          57,
          58,
          59,
          60,
          61,
          62,
          63,
          64,
          65,
          66,
          67,
          68,
          69,
          70,
          71,
          72,
          73,
          74,
          75,
          76,
          77,
          78,
          79,
          80,
          81,
          82,
          83,
          84,
          85,
          86,
          87,
          88,
          89,
          90,
          91,
          92,
          93,
          94,
          95,
          96,
          97,
          98,
          99,
          100
         ],
         "xaxis": "x",
         "y": [
          3251261.2818147573,
          3168342.773106003,
          3085424.264907527,
          3002505.758469649,
          2919587.257607729,
          2836668.773059038,
          2753750.332852173,
          2670832.0052096453,
          2587913.945703522,
          2504996.488132866,
          2422080.309036447,
          2339166.708310029,
          2256258.061433901,
          2173358.5095266425,
          2090474.958041804,
          2007618.4492510245,
          1924805.9541149507,
          1842062.593820711,
          1759424.250924308,
          1676940.4686717398,
          1594677.4717928905,
          1512721.0822308578,
          1431179.259015484,
          1350183.9718869384,
          1269892.129578195,
          1190485.3279930842,
          1112168.2582671053,
          1035165.7128089328,
          959718.2384099455,
          886076.5970681655,
          814495.2949912124,
          745225.5177306024,
          678507.8570270552,
          614565.2290174396,
          553596.3642608246,
          495770.2014500992,
          441221.4452875831,
          390047.4630690497,
          342306.602806386,
          298017.9264774934,
          257162.2721635321,
          219684.49353288778,
          185496.67743079684,
          154482.11131128087,
          126499.76123782173,
          101389.02615489549,
          78974.55214969678,
          59070.91806105719,
          41487.037543825274,
          26030.159282878063,
          12509.383641451088,
          738.6483724168628,
          -9460.833505491544,
          -18258.674976001483,
          -25813.926512834336,
          -32274.153997254965,
          -37774.929455351914,
          -42439.67565997876,
          -46379.80406657239,
          -49695.08698030555,
          -52474.208526862356,
          -54795.44421803662,
          -56727.42504963832,
          -58329.94862817652,
          -59654.80638671107,
          -60746.60221459602,
          -61643.54357964181,
          -62378.19133434003,
          -62978.15880621819,
          -63466.754463874415,
          -63863.56545065414
         ],
         "yaxis": "y"
        },
        {
         "name": "EUA Mar25 70P",
         "type": "scatter",
         "x": [
          30,
          31,
          32,
          33,
          34,
          35,
          36,
          37,
          38,
          39,
          40,
          41,
          42,
          43,
          44,
          45,
          46,
          47,
          48,
          49,
          50,
          51,
          52,
          53,
          54,
          55,
          56,
          57,
          58,
          59,
          60,
          61,
          62,
          63,
          64,
          65,
          66,
          67,
          68,
          69,
          70,
          71,
          72,
          73,
          74,
          75,
          76,
          77,
          78,
          79,
          80,
          81,
          82,
          83,
          84,
          85,
          86,
          87,
          88,
          89,
          90,
          91,
          92,
          93,
          94,
          95,
          96,
          97,
          98,
          99,
          100
         ],
         "xaxis": "x2",
         "y": [
          -49999.99995247447,
          -49999.9998028838,
          -49999.99925765159,
          -49999.997442132466,
          -49999.991881175745,
          -49999.9761152407,
          -49999.93451032367,
          -49999.83179641384,
          -49999.59346751776,
          -49999.07153885719,
          -49997.98861605243,
          -49995.852334121235,
          -49991.83266762877,
          -49984.597085135014,
          -49972.10347073416,
          -49951.35813360425,
          -49918.155395961956,
          -49866.824846399635,
          -49790.020529362686,
          -49678.59112330683,
          -49521.56984810908,
          -49306.316476333246,
          -49018.83147792958,
          -48644.245201356694,
          -48167.465247425185,
          -47573.945580934815,
          -46850.52430381735,
          -45986.26582671777,
          -44973.23904461072,
          -43807.16660121945,
          -42487.890869371775,
          -41019.61838600078,
          -39410.92401865063,
          -37674.51668369324,
          -35826.787653387626,
          -33887.178443709556,
          -31877.4166320862,
          -29820.67406634536,
          -27740.70281252702,
          -25661.00042851286,
          -23604.048720538158,
          -21590.660236442498,
          -19639.455614509334,
          -17766.483684078627,
          -15984.9858489023,
          -14305.297465448119,
          -12734.87207302676,
          -11278.409602901673,
          -9938.067037063947,
          -8713.72919011949,
          -7603.318030580975,
          -6603.12086945537,
          -5708.120445616438,
          -4912.313076965358,
          -4209.004321198484,
          -3591.0747593560664,
          -3051.211403911408,
          -2582.102728076274,
          -2176.597356232668,
          -1827.8280337860053,
          -1529.303629024964,
          -1274.9726538582195,
          -1059.26218256161,
          -877.096161969132,
          -723.897006957952,
          -595.5741214247467,
          -488.50263002376823,
          -399.49519408783993,
          -325.76935186372503,
          -264.9123953979649,
          -214.84539329675866
         ],
         "yaxis": "y2"
        },
        {
         "mode": "lines",
         "name": "Total_PnL",
         "type": "scatter",
         "x": [
          30,
          31,
          32,
          33,
          34,
          35,
          36,
          37,
          38,
          39,
          40,
          41,
          42,
          43,
          44,
          45,
          46,
          47,
          48,
          49,
          50,
          51,
          52,
          53,
          54,
          55,
          56,
          57,
          58,
          59,
          60,
          61,
          62,
          63,
          64,
          65,
          66,
          67,
          68,
          69,
          70,
          71,
          72,
          73,
          74,
          75,
          76,
          77,
          78,
          79,
          80,
          81,
          82,
          83,
          84,
          85,
          86,
          87,
          88,
          89,
          90,
          91,
          92,
          93,
          94,
          95,
          96,
          97,
          98,
          99,
          100
         ],
         "xaxis": "x",
         "y": [
          18886950.787218984,
          18306536.7660299,
          17726140.80149206,
          17145779.91500335,
          16565483.683745787,
          15985300.991768526,
          15405308.974827643,
          14825624.231050415,
          14246416.116244443,
          13667921.646120844,
          13090461.226798039,
          12514454.174191933,
          11940432.804020822,
          11369053.808440257,
          10801105.69816856,
          10237511.277719712,
          9679324.416579738,
          9127720.748604573,
          8583982.33621533,
          8049476.734693318,
          7525631.248892132,
          7013903.462006901,
          6515749.315891147,
          6032590.127489965,
          5565779.938307218,
          5116574.522796316,
          4686103.241413296,
          4275344.731632077,
          3885107.2029608004,
          3516013.8565870067,
          3168493.7016874948,
          2842777.801457939,
          2538900.76298861,
          2256707.094324033,
          1995861.895211306,
          1755865.2288043145,
          1536069.4415250928,
          1335698.6570249253,
          1153869.6656014351,
          989613.4588342065,
          841896.7156733967,
          709642.6249352836,
          591750.5238133133,
          487113.9362028368,
          394636.70225423615,
          313246.9961245302,
          241909.12777047086,
          179633.1132221071,
          125482.07359015191,
          78577.58466092427,
          38103.14586756622,
          3305.970083446281,
          -26502.684882796228,
          -51948.41446774117,
          -73595.5686993669,
          -91949.94020148905,
          -107462.0382769831,
          -120530.76849386684,
          -131507.35961818084,
          -140699.4031540406,
          -148374.89400691626,
          -154766.1829873303,
          -160073.77237465486,
          -164469.9041439872,
          -168101.9064945391,
          -171095.27793345312,
          -173556.4994141681,
          -175575.5740421157,
          -177228.30084137697,
          -178578.29425805103,
          -179678.76470891648
         ],
         "yaxis": "y"
        },
        {
         "mode": "lines",
         "name": "Total_Delta",
         "type": "scatter",
         "x": [
          30,
          31,
          32,
          33,
          34,
          35,
          36,
          37,
          38,
          39,
          40,
          41,
          42,
          43,
          44,
          45,
          46,
          47,
          48,
          49,
          50,
          51,
          52,
          53,
          54,
          55,
          56,
          57,
          58,
          59,
          60,
          61,
          62,
          63,
          64,
          65,
          66,
          67,
          68,
          69,
          70,
          71,
          72,
          73,
          74,
          75,
          76,
          77,
          78,
          79,
          80,
          81,
          82,
          83,
          84,
          85,
          86,
          87,
          88,
          89,
          90,
          91,
          92,
          93,
          94,
          95,
          96,
          97,
          98,
          99,
          100
         ],
         "xaxis": "x2",
         "y": [
          -349993.92320017854,
          -349986.4126760346,
          -349971.36231021635,
          -349942.82525057276,
          -349891.39833913546,
          -349802.961354996,
          -349657.3097583724,
          -349426.8145813809,
          -349075.278726444,
          -348557.17422001646,
          -347817.4342799165,
          -346791.9365139886,
          -345408.7533243,
          -343590.17089373915,
          -341255.39956921956,
          -338323.8268585453,
          -334718.6087767692,
          -330370.36201728217,
          -325220.71082436905,
          -319225.45740908815,
          -312357.17934520985,
          -304607.1058785003,
          -295986.18107796693,
          -286525.27915598406,
          -276274.5910025568,
          -265302.24732517486,
          -253692.28053226054,
          -241542.05372739676,
          -228959.30099892337,
          -216058.9293987669,
          -202959.7308135089,
          -189781.14272956064,
          -176640.18211339635,
          -163648.65766651774,
          -150910.74391550827,
          -138520.9772396294,
          -126562.71023254238,
          -115107.03786514097,
          -104212.1877696653,
          -93923.34844964903,
          -84272.89398562638,
          -75280.95227248032,
          -66956.25616508399,
          -59297.21305794708,
          -52293.12809938275,
          -45925.51898358995,
          -40169.46549422823,
          -34994.944042839255,
          -30368.105694670834,
          -26252.46497793893,
          -22609.975577280704,
          -19401.977362294572,
          -16590.006751929497,
          -14136.468931553747,
          -12005.175793582812,
          -10161.7576284244,
          -8573.959589000051,
          -7211.8358842168,
          -6047.855657266788,
          -5056.934727285656,
          -4216.406978257009,
          -3505.9483232314337,
          -2907.46499848345,
          -2404.956576882461,
          -1984.3626376093382,
          -1633.4005741765245,
          -1341.4006277020717,
          -1099.1429420242005,
          -898.7002797597231,
          -733.2890285782878,
          -597.1302689007696
         ],
         "yaxis": "y2"
        }
       ],
       "layout": {
        "autosize": true,
        "barmode": "stack",
        "template": {
         "data": {
          "bar": [
           {
            "error_x": {
             "color": "#2a3f5f"
            },
            "error_y": {
             "color": "#2a3f5f"
            },
            "marker": {
             "line": {
              "color": "#E5ECF6",
              "width": 0.5
             },
             "pattern": {
              "fillmode": "overlay",
              "size": 10,
              "solidity": 0.2
             }
            },
            "type": "bar"
           }
          ],
          "barpolar": [
           {
            "marker": {
             "line": {
              "color": "#E5ECF6",
              "width": 0.5
             },
             "pattern": {
              "fillmode": "overlay",
              "size": 10,
              "solidity": 0.2
             }
            },
            "type": "barpolar"
           }
          ],
          "carpet": [
           {
            "aaxis": {
             "endlinecolor": "#2a3f5f",
             "gridcolor": "white",
             "linecolor": "white",
             "minorgridcolor": "white",
             "startlinecolor": "#2a3f5f"
            },
            "baxis": {
             "endlinecolor": "#2a3f5f",
             "gridcolor": "white",
             "linecolor": "white",
             "minorgridcolor": "white",
             "startlinecolor": "#2a3f5f"
            },
            "type": "carpet"
           }
          ],
          "choropleth": [
           {
            "colorbar": {
             "outlinewidth": 0,
             "ticks": ""
            },
            "type": "choropleth"
           }
          ],
          "contour": [
           {
            "colorbar": {
             "outlinewidth": 0,
             "ticks": ""
            },
            "colorscale": [
             [
              0,
              "#0d0887"
             ],
             [
              0.1111111111111111,
              "#46039f"
             ],
             [
              0.2222222222222222,
              "#7201a8"
             ],
             [
              0.3333333333333333,
              "#9c179e"
             ],
             [
              0.4444444444444444,
              "#bd3786"
             ],
             [
              0.5555555555555556,
              "#d8576b"
             ],
             [
              0.6666666666666666,
              "#ed7953"
             ],
             [
              0.7777777777777778,
              "#fb9f3a"
             ],
             [
              0.8888888888888888,
              "#fdca26"
             ],
             [
              1,
              "#f0f921"
             ]
            ],
            "type": "contour"
           }
          ],
          "contourcarpet": [
           {
            "colorbar": {
             "outlinewidth": 0,
             "ticks": ""
            },
            "type": "contourcarpet"
           }
          ],
          "heatmap": [
           {
            "colorbar": {
             "outlinewidth": 0,
             "ticks": ""
            },
            "colorscale": [
             [
              0,
              "#0d0887"
             ],
             [
              0.1111111111111111,
              "#46039f"
             ],
             [
              0.2222222222222222,
              "#7201a8"
             ],
             [
              0.3333333333333333,
              "#9c179e"
             ],
             [
              0.4444444444444444,
              "#bd3786"
             ],
             [
              0.5555555555555556,
              "#d8576b"
             ],
             [
              0.6666666666666666,
              "#ed7953"
             ],
             [
              0.7777777777777778,
              "#fb9f3a"
             ],
             [
              0.8888888888888888,
              "#fdca26"
             ],
             [
              1,
              "#f0f921"
             ]
            ],
            "type": "heatmap"
           }
          ],
          "heatmapgl": [
           {
            "colorbar": {
             "outlinewidth": 0,
             "ticks": ""
            },
            "colorscale": [
             [
              0,
              "#0d0887"
             ],
             [
              0.1111111111111111,
              "#46039f"
             ],
             [
              0.2222222222222222,
              "#7201a8"
             ],
             [
              0.3333333333333333,
              "#9c179e"
             ],
             [
              0.4444444444444444,
              "#bd3786"
             ],
             [
              0.5555555555555556,
              "#d8576b"
             ],
             [
              0.6666666666666666,
              "#ed7953"
             ],
             [
              0.7777777777777778,
              "#fb9f3a"
             ],
             [
              0.8888888888888888,
              "#fdca26"
             ],
             [
              1,
              "#f0f921"
             ]
            ],
            "type": "heatmapgl"
           }
          ],
          "histogram": [
           {
            "marker": {
             "pattern": {
              "fillmode": "overlay",
              "size": 10,
              "solidity": 0.2
             }
            },
            "type": "histogram"
           }
          ],
          "histogram2d": [
           {
            "colorbar": {
             "outlinewidth": 0,
             "ticks": ""
            },
            "colorscale": [
             [
              0,
              "#0d0887"
             ],
             [
              0.1111111111111111,
              "#46039f"
             ],
             [
              0.2222222222222222,
              "#7201a8"
             ],
             [
              0.3333333333333333,
              "#9c179e"
             ],
             [
              0.4444444444444444,
              "#bd3786"
             ],
             [
              0.5555555555555556,
              "#d8576b"
             ],
             [
              0.6666666666666666,
              "#ed7953"
             ],
             [
              0.7777777777777778,
              "#fb9f3a"
             ],
             [
              0.8888888888888888,
              "#fdca26"
             ],
             [
              1,
              "#f0f921"
             ]
            ],
            "type": "histogram2d"
           }
          ],
          "histogram2dcontour": [
           {
            "colorbar": {
             "outlinewidth": 0,
             "ticks": ""
            },
            "colorscale": [
             [
              0,
              "#0d0887"
             ],
             [
              0.1111111111111111,
              "#46039f"
             ],
             [
              0.2222222222222222,
              "#7201a8"
             ],
             [
              0.3333333333333333,
              "#9c179e"
             ],
             [
              0.4444444444444444,
              "#bd3786"
             ],
             [
              0.5555555555555556,
              "#d8576b"
             ],
             [
              0.6666666666666666,
              "#ed7953"
             ],
             [
              0.7777777777777778,
              "#fb9f3a"
             ],
             [
              0.8888888888888888,
              "#fdca26"
             ],
             [
              1,
              "#f0f921"
             ]
            ],
            "type": "histogram2dcontour"
           }
          ],
          "mesh3d": [
           {
            "colorbar": {
             "outlinewidth": 0,
             "ticks": ""
            },
            "type": "mesh3d"
           }
          ],
          "parcoords": [
           {
            "line": {
             "colorbar": {
              "outlinewidth": 0,
              "ticks": ""
             }
            },
            "type": "parcoords"
           }
          ],
          "pie": [
           {
            "automargin": true,
            "type": "pie"
           }
          ],
          "scatter": [
           {
            "fillpattern": {
             "fillmode": "overlay",
             "size": 10,
             "solidity": 0.2
            },
            "type": "scatter"
           }
          ],
          "scatter3d": [
           {
            "line": {
             "colorbar": {
              "outlinewidth": 0,
              "ticks": ""
             }
            },
            "marker": {
             "colorbar": {
              "outlinewidth": 0,
              "ticks": ""
             }
            },
            "type": "scatter3d"
           }
          ],
          "scattercarpet": [
           {
            "marker": {
             "colorbar": {
              "outlinewidth": 0,
              "ticks": ""
             }
            },
            "type": "scattercarpet"
           }
          ],
          "scattergeo": [
           {
            "marker": {
             "colorbar": {
              "outlinewidth": 0,
              "ticks": ""
             }
            },
            "type": "scattergeo"
           }
          ],
          "scattergl": [
           {
            "marker": {
             "colorbar": {
              "outlinewidth": 0,
              "ticks": ""
             }
            },
            "type": "scattergl"
           }
          ],
          "scattermapbox": [
           {
            "marker": {
             "colorbar": {
              "outlinewidth": 0,
              "ticks": ""
             }
            },
            "type": "scattermapbox"
           }
          ],
          "scatterpolar": [
           {
            "marker": {
             "colorbar": {
              "outlinewidth": 0,
              "ticks": ""
             }
            },
            "type": "scatterpolar"
           }
          ],
          "scatterpolargl": [
           {
            "marker": {
             "colorbar": {
              "outlinewidth": 0,
              "ticks": ""
             }
            },
            "type": "scatterpolargl"
           }
          ],
          "scatterternary": [
           {
            "marker": {
             "colorbar": {
              "outlinewidth": 0,
              "ticks": ""
             }
            },
            "type": "scatterternary"
           }
          ],
          "surface": [
           {
            "colorbar": {
             "outlinewidth": 0,
             "ticks": ""
            },
            "colorscale": [
             [
              0,
              "#0d0887"
             ],
             [
              0.1111111111111111,
              "#46039f"
             ],
             [
              0.2222222222222222,
              "#7201a8"
             ],
             [
              0.3333333333333333,
              "#9c179e"
             ],
             [
              0.4444444444444444,
              "#bd3786"
             ],
             [
              0.5555555555555556,
              "#d8576b"
             ],
             [
              0.6666666666666666,
              "#ed7953"
             ],
             [
              0.7777777777777778,
              "#fb9f3a"
             ],
             [
              0.8888888888888888,
              "#fdca26"
             ],
             [
              1,
              "#f0f921"
             ]
            ],
            "type": "surface"
           }
          ],
          "table": [
           {
            "cells": {
             "fill": {
              "color": "#EBF0F8"
             },
             "line": {
              "color": "white"
             }
            },
            "header": {
             "fill": {
              "color": "#C8D4E3"
             },
             "line": {
              "color": "white"
             }
            },
            "type": "table"
           }
          ]
         },
         "layout": {
          "annotationdefaults": {
           "arrowcolor": "#2a3f5f",
           "arrowhead": 0,
           "arrowwidth": 1
          },
          "autotypenumbers": "strict",
          "coloraxis": {
           "colorbar": {
            "outlinewidth": 0,
            "ticks": ""
           }
          },
          "colorscale": {
           "diverging": [
            [
             0,
             "#8e0152"
            ],
            [
             0.1,
             "#c51b7d"
            ],
            [
             0.2,
             "#de77ae"
            ],
            [
             0.3,
             "#f1b6da"
            ],
            [
             0.4,
             "#fde0ef"
            ],
            [
             0.5,
             "#f7f7f7"
            ],
            [
             0.6,
             "#e6f5d0"
            ],
            [
             0.7,
             "#b8e186"
            ],
            [
             0.8,
             "#7fbc41"
            ],
            [
             0.9,
             "#4d9221"
            ],
            [
             1,
             "#276419"
            ]
           ],
           "sequential": [
            [
             0,
             "#0d0887"
            ],
            [
             0.1111111111111111,
             "#46039f"
            ],
            [
             0.2222222222222222,
             "#7201a8"
            ],
            [
             0.3333333333333333,
             "#9c179e"
            ],
            [
             0.4444444444444444,
             "#bd3786"
            ],
            [
             0.5555555555555556,
             "#d8576b"
            ],
            [
             0.6666666666666666,
             "#ed7953"
            ],
            [
             0.7777777777777778,
             "#fb9f3a"
            ],
            [
             0.8888888888888888,
             "#fdca26"
            ],
            [
             1,
             "#f0f921"
            ]
           ],
           "sequentialminus": [
            [
             0,
             "#0d0887"
            ],
            [
             0.1111111111111111,
             "#46039f"
            ],
            [
             0.2222222222222222,
             "#7201a8"
            ],
            [
             0.3333333333333333,
             "#9c179e"
            ],
            [
             0.4444444444444444,
             "#bd3786"
            ],
            [
             0.5555555555555556,
             "#d8576b"
            ],
            [
             0.6666666666666666,
             "#ed7953"
            ],
            [
             0.7777777777777778,
             "#fb9f3a"
            ],
            [
             0.8888888888888888,
             "#fdca26"
            ],
            [
             1,
             "#f0f921"
            ]
           ]
          },
          "colorway": [
           "#636efa",
           "#EF553B",
           "#00cc96",
           "#ab63fa",
           "#FFA15A",
           "#19d3f3",
           "#FF6692",
           "#B6E880",
           "#FF97FF",
           "#FECB52"
          ],
          "font": {
           "color": "#2a3f5f"
          },
          "geo": {
           "bgcolor": "white",
           "lakecolor": "white",
           "landcolor": "#E5ECF6",
           "showlakes": true,
           "showland": true,
           "subunitcolor": "white"
          },
          "hoverlabel": {
           "align": "left"
          },
          "hovermode": "closest",
          "mapbox": {
           "style": "light"
          },
          "paper_bgcolor": "white",
          "plot_bgcolor": "#E5ECF6",
          "polar": {
           "angularaxis": {
            "gridcolor": "white",
            "linecolor": "white",
            "ticks": ""
           },
           "bgcolor": "#E5ECF6",
           "radialaxis": {
            "gridcolor": "white",
            "linecolor": "white",
            "ticks": ""
           }
          },
          "scene": {
           "xaxis": {
            "backgroundcolor": "#E5ECF6",
            "gridcolor": "white",
            "gridwidth": 2,
            "linecolor": "white",
            "showbackground": true,
            "ticks": "",
            "zerolinecolor": "white"
           },
           "yaxis": {
            "backgroundcolor": "#E5ECF6",
            "gridcolor": "white",
            "gridwidth": 2,
            "linecolor": "white",
            "showbackground": true,
            "ticks": "",
            "zerolinecolor": "white"
           },
           "zaxis": {
            "backgroundcolor": "#E5ECF6",
            "gridcolor": "white",
            "gridwidth": 2,
            "linecolor": "white",
            "showbackground": true,
            "ticks": "",
            "zerolinecolor": "white"
           }
          },
          "shapedefaults": {
           "line": {
            "color": "#2a3f5f"
           }
          },
          "ternary": {
           "aaxis": {
            "gridcolor": "white",
            "linecolor": "white",
            "ticks": ""
           },
           "baxis": {
            "gridcolor": "white",
            "linecolor": "white",
            "ticks": ""
           },
           "bgcolor": "#E5ECF6",
           "caxis": {
            "gridcolor": "white",
            "linecolor": "white",
            "ticks": ""
           }
          },
          "title": {
           "x": 0.05
          },
          "xaxis": {
           "automargin": true,
           "gridcolor": "white",
           "linecolor": "white",
           "ticks": "",
           "title": {
            "standoff": 15
           },
           "zerolinecolor": "white",
           "zerolinewidth": 2
          },
          "yaxis": {
           "automargin": true,
           "gridcolor": "white",
           "linecolor": "white",
           "ticks": "",
           "title": {
            "standoff": 15
           },
           "zerolinecolor": "white",
           "zerolinewidth": 2
          }
         }
        },
        "title": {
         "text": "Todays Option Pos (PnL and Delta)",
         "x": 0.5,
         "xanchor": "center"
        },
        "xaxis": {
         "anchor": "y",
         "autorange": true,
         "domain": [
          0,
          0.45
         ],
         "range": [
          30,
          100
         ],
         "title": {
          "text": "Price"
         },
         "type": "linear"
        },
        "xaxis2": {
         "anchor": "y2",
         "autorange": true,
         "domain": [
          0.55,
          1
         ],
         "range": [
          30,
          100
         ],
         "title": {
          "text": "Price"
         },
         "type": "linear"
        },
        "yaxis": {
         "anchor": "x",
         "autorange": true,
         "domain": [
          0,
          1
         ],
         "range": [
          -1238935.9620382444,
          19946207.98454831
         ],
         "title": {
          "text": "Pnl"
         },
         "type": "linear"
        },
        "yaxis2": {
         "anchor": "x2",
         "autorange": true,
         "domain": [
          0,
          1
         ],
         "range": [
          -369427.41888886946,
          19242.494884948766
         ],
         "title": {
          "text": "Delta"
         },
         "type": "linear"
        }
       }
      },
      "image/png": "[encoded data removed]",
      "text/html": [
       "<div>                            <div id=\"818fc553-a03b-4185-92cc-c0cbcb753265\" class=\"plotly-graph-div\" style=\"height:525px; width:100%;\"></div>            <script type=\"text/javascript\">                require([\"plotly\"], function(Plotly) {                    window.PLOTLYENV=window.PLOTLYENV || {};                                    if (document.getElementById(\"818fc553-a03b-4185-92cc-c0cbcb753265\")) {                    Plotly.newPlot(                        \"818fc553-a03b-4185-92cc-c0cbcb753265\",                        [{\"name\":\"EUA Mar25 60P\",\"x\":[30,31,32,33,34,35,36,37,38,39,40,41,42,43,44,45,46,47,48,49,50,51,52,53,54,55,56,57,58,59,60,61,62,63,64,65,66,67,68,69,70,71,72,73,74,75,76,77,78,79,80,81,82,83,84,85,86,87,88,89,90,91,92,93,94,95,96,97,98,99,100],\"y\":[9892151.710143236,9560493.118395895,9228852.40545641,8897246.321742684,8565703.835070644,8234272.544751575,7903027.03500885,7572079.109951288,7241589.5707925735,6911780.884178838,6582949.796890462,6255478.729485995,5929844.675765791,5606624.376125765,5286494.7282575695,4970227.731326493,4658679.691740284,4352774.897750008,4053484.439003383,3761801.2522250707,3478712.7731580297,3205172.7416341407,2942073.7329091006,2690221.8827380724,2450315.0581127657,2222925.4310546597,2008487.0742292984,1807288.8486612982,1619472.5254997823,1445035.7989809858,1283839.6220376207,1135619.1371584742,999997.3838286259,876500.9352467777,764576.6420642996,663608.7282896626,572935.5820379466,491865.6995928674,419692.3646192822,355706.7664236733,299209.37505475193,249519.49197813656,205982.98017514945,167978.24558412432,134920.59292702275,106265.11423612367,81508.28957033552,60188.48862612827,41885.56148820125,26219.698882225548,12849.729077849875,1471.0018933560352,-8187.008362816107,-16363.268449927762,-23267.826639795087,-29084.45235743065,-33973.21573767795,-38072.962434255016,-41503.65170820081,-44368.53657704517,-46756.17370051756,-48742.25784920948,-50391.28142175253,-51758.023734553004,-52888.8779011279,-53823.0252352052,-54593.468430096276,-55227.93544678238,-55749.66622613835,-56178.09414861102,-56529.43370019844],\"type\":\"scatter\",\"xaxis\":\"x\",\"yaxis\":\"y\"},{\"name\":\"EUA Mar25 60P\",\"x\":[30,31,32,33,34,35,36,37,38,39,40,41,42,43,44,45,46,47,48,49,50,51,52,53,54,55,56,57,58,59,60,61,62,63,64,65,66,67,68,69,70,71,72,73,74,75,76,77,78,79,80,81,82,83,84,85,86,87,88,89,90,91,92,93,94,95,96,97,98,99,100],\"y\":[-199993.95548853188,-199986.5082639217,-199971.62445544693,-199943.4953382783,-199893.00369695178,-199806.5840181034,-199665.04474609217,-199442.5053898657,-199105.6318307216,-198613.35770117384,-197917.25265743874,-196962.6404555389,-195690.48808299613,-194039.9939321401,-191951.71273974606,-189370.9818683865,-186251.36839577454,-182557.8453615835,-178269.42873142776,-173381.05937770833,-167904.5880603246,-161868.80544141252,-155318.54286931016,-148312.9437146143,-140923.06260736976,-133228.9871489079,-125316.69263187147,-117274.83658052856,-109191.67993308796,-101152.28990479959,-93236.14080876723,-85515.18792196804,-78052.44972972087,-70901.09849308415,-64104.029978713916,-57693.86132619347,-51693.2915376586,-46115.751457284656,-40966.2684289017,-36242.473900380224,-31935.68882404412,-28032.030568152866,-24513.495121849483,-21358.978744032032,-18545.213178588172,-16047.597639704247,-13840.91865116941,-11899.955349048285,-10199.972998832374,-8717.111299690172,-7428.676675800627,-6313.349350940544,-5351.316746488322,-4524.344813992887,-3815.7984796497235,-3210.6215895429946,-2695.2857295874155,-2257.716157820222,-1887.2019116148886,-1574.2960003569005,-1310.7105088363323,-1089.210446482869,-903.5092986375171,-748.1684747463024,-618.5022039364885,-510.48889512876895,-420.68954759326704,-346.1734577358877,-284.4512071561223,-233.41472387599094,-191.2840718618636],\"type\":\"scatter\",\"xaxis\":\"x2\",\"yaxis\":\"y2\"},{\"name\":\"EUA Mar25 65P\",\"x\":[30,31,32,33,34,35,36,37,38,39,40,41,42,43,44,45,46,47,48,49,50,51,52,53,54,55,56,57,58,59,60,61,62,63,64,65,66,67,68,69,70,71,72,73,74,75,76,77,78,79,80,81,82,83,84,85,86,87,88,89,90,91,92,93,94,95,96,97,98,99,100],\"y\":[5743537.79526099,5577700.874528004,5411864.131128124,5246027.834791017,5080192.591067414,4914359.673957913,4748531.606966621,4582713.11588948,4416912.599748349,4251144.27380914,4085431.120871131,3919808.7363959095,3754330.0668211286,3589070.9227878503,3424136.011869187,3259665.0971421944,3095838.7707245033,2932883.2570338547,2771073.6462876396,2610735.0137965064,2452241.003941212,2296009.6381419026,2142496.3239665627,1992184.2728649543,1845572.7506162575,1703163.7637485724,1565447.908916892,1432890.1701618456,1305916.439051072,1184901.4605378555,1070158.7846586618,961933.1465688626,860395.5221329288,765640.9300598153,677688.8888861818,596486.2990645526,521912.41419956303,453785.49436300824,391870.69817576685,335888.76593303966,285525.0684551127,240438.63942425922,200270.86620736704,164653.57930743165,133216.34808939166,105592.85573351102,81426.28605043853,60373.70653492163,42109.47455812537,26327.72649582065,12744.033148265258,1096.3198176733827,-8854.843014488575,-17326.471041811918,-24513.815546737475,-30591.333846803434,-35713.89308395324,-40018.13039963306,-43623.90384340763,-46635.77959668987,-49144.51177953636,-51228.480920084214,-52955.06590326402,-54381.93178125767,-55558.22220670011,-56525.650483651894,-57319.487404430016,-57969.4472609933,-58500.47580902042,-58933.44564556558,-59285.7655580639],\"type\":\"scatter\",\"xaxis\":\"x\",\"yaxis\":\"y\"},{\"name\":\"EUA Mar25 65P\",\"x\":[30,31,32,33,34,35,36,37,38,39,40,41,42,43,44,45,46,47,48,49,50,51,52,53,54,55,56,57,58,59,60,61,62,63,64,65,66,67,68,69,70,71,72,73,74,75,76,77,78,79,80,81,82,83,84,85,86,87,88,89,90,91,92,93,94,95,96,97,98,99,100],\"y\":[-99999.96775917214,-99999.90460922907,-99999.73859711787,-99999.33247016203,-99998.40276100794,-99996.40122165189,-99992.3305019565,-99984.47739510144,-99970.05342820464,-99944.74497998545,-99902.19300642534,-99833.44372432846,-99726.43257367509,-99565.57987646406,-99331.58335873936,-99001.48685655459,-98549.0849850327,-97945.69180929904,-97161.2615635786,-96165.806908073,-94931.02143677615,-93431.98396075454,-91648.80673072717,-89568.09024001309,-87184.06314776184,-84499.31459533214,-81525.06359657172,-78280.95132015045,-74794.38202122472,-71099.47289274786,-67235.69913536993,-63246.33642159182,-59176.80836502484,-55073.04248974034,-50979.92628340673,-46939.93746972638,-42992.00206279758,-39170.61234151097,-35505.216528236575,-32019.874120755932,-28733.156441044106,-25658.261467884957,-22803.305428725173,-20171.750629836428,-17762.929071892275,-15572.623878437586,-13593.674770032061,-11816.579090889301,-10230.065658774512,-8821.624488129264,-7577.980870899104,-6485.507141898661,-5530.5695598247385,-4699.811040595503,-3980.3729927346044,-3360.061279525339,-2827.4624555012283,-2372.016998320303,-1984.056389419231,-1654.8106931427496,-1376.3928403957127,-1141.7652228903453,-944.693517284323,-779.6919401670266,-641.9634267148977,-527.3375576230088,-432.2084500850365,-353.4742902004728,-288.4797207398759,-234.96190930433204,-191.00080374214735],\"type\":\"scatter\",\"xaxis\":\"x2\",\"yaxis\":\"y2\"},{\"name\":\"EUA Mar25 70P\",\"x\":[30,31,32,33,34,35,36,37,38,39,40,41,42,43,44,45,46,47,48,49,50,51,52,53,54,55,56,57,58,59,60,61,62,63,64,65,66,67,68,69,70,71,72,73,74,75,76,77,78,79,80,81,82,83,84,85,86,87,88,89,90,91,92,93,94,95,96,97,98,99,100],\"y\":[3251261.2818147573,3168342.773106003,3085424.264907527,3002505.758469649,2919587.257607729,2836668.773059038,2753750.332852173,2670832.0052096453,2587913.945703522,2504996.488132866,2422080.309036447,2339166.708310029,2256258.061433901,2173358.5095266425,2090474.958041804,2007618.4492510245,1924805.9541149507,1842062.593820711,1759424.250924308,1676940.4686717398,1594677.4717928905,1512721.0822308578,1431179.259015484,1350183.9718869384,1269892.129578195,1190485.3279930842,1112168.2582671053,1035165.7128089328,959718.2384099455,886076.5970681655,814495.2949912124,745225.5177306024,678507.8570270552,614565.2290174396,553596.3642608246,495770.2014500992,441221.4452875831,390047.4630690497,342306.602806386,298017.9264774934,257162.2721635321,219684.49353288778,185496.67743079684,154482.11131128087,126499.76123782173,101389.02615489549,78974.55214969678,59070.91806105719,41487.037543825274,26030.159282878063,12509.383641451088,738.6483724168628,-9460.833505491544,-18258.674976001483,-25813.926512834336,-32274.153997254965,-37774.929455351914,-42439.67565997876,-46379.80406657239,-49695.08698030555,-52474.208526862356,-54795.44421803662,-56727.42504963832,-58329.94862817652,-59654.80638671107,-60746.60221459602,-61643.54357964181,-62378.19133434003,-62978.15880621819,-63466.754463874415,-63863.56545065414],\"type\":\"scatter\",\"xaxis\":\"x\",\"yaxis\":\"y\"},{\"name\":\"EUA Mar25 70P\",\"x\":[30,31,32,33,34,35,36,37,38,39,40,41,42,43,44,45,46,47,48,49,50,51,52,53,54,55,56,57,58,59,60,61,62,63,64,65,66,67,68,69,70,71,72,73,74,75,76,77,78,79,80,81,82,83,84,85,86,87,88,89,90,91,92,93,94,95,96,97,98,99,100],\"y\":[-49999.99995247447,-49999.9998028838,-49999.99925765159,-49999.997442132466,-49999.991881175745,-49999.9761152407,-49999.93451032367,-49999.83179641384,-49999.59346751776,-49999.07153885719,-49997.98861605243,-49995.852334121235,-49991.83266762877,-49984.597085135014,-49972.10347073416,-49951.35813360425,-49918.155395961956,-49866.824846399635,-49790.020529362686,-49678.59112330683,-49521.56984810908,-49306.316476333246,-49018.83147792958,-48644.245201356694,-48167.465247425185,-47573.945580934815,-46850.52430381735,-45986.26582671777,-44973.23904461072,-43807.16660121945,-42487.890869371775,-41019.61838600078,-39410.92401865063,-37674.51668369324,-35826.787653387626,-33887.178443709556,-31877.4166320862,-29820.67406634536,-27740.70281252702,-25661.00042851286,-23604.048720538158,-21590.660236442498,-19639.455614509334,-17766.483684078627,-15984.9858489023,-14305.297465448119,-12734.87207302676,-11278.409602901673,-9938.067037063947,-8713.72919011949,-7603.318030580975,-6603.12086945537,-5708.120445616438,-4912.313076965358,-4209.004321198484,-3591.0747593560664,-3051.211403911408,-2582.102728076274,-2176.597356232668,-1827.8280337860053,-1529.303629024964,-1274.9726538582195,-1059.26218256161,-877.096161969132,-723.897006957952,-595.5741214247467,-488.50263002376823,-399.49519408783993,-325.76935186372503,-264.9123953979649,-214.84539329675866],\"type\":\"scatter\",\"xaxis\":\"x2\",\"yaxis\":\"y2\"},{\"mode\":\"lines\",\"name\":\"Total_PnL\",\"x\":[30,31,32,33,34,35,36,37,38,39,40,41,42,43,44,45,46,47,48,49,50,51,52,53,54,55,56,57,58,59,60,61,62,63,64,65,66,67,68,69,70,71,72,73,74,75,76,77,78,79,80,81,82,83,84,85,86,87,88,89,90,91,92,93,94,95,96,97,98,99,100],\"y\":[18886950.787218984,18306536.7660299,17726140.80149206,17145779.91500335,16565483.683745787,15985300.991768526,15405308.974827643,14825624.231050415,14246416.116244443,13667921.646120844,13090461.226798039,12514454.174191933,11940432.804020822,11369053.808440257,10801105.69816856,10237511.277719712,9679324.416579738,9127720.748604573,8583982.33621533,8049476.734693318,7525631.248892132,7013903.462006901,6515749.315891147,6032590.127489965,5565779.938307218,5116574.522796316,4686103.241413296,4275344.731632077,3885107.2029608004,3516013.8565870067,3168493.7016874948,2842777.801457939,2538900.76298861,2256707.094324033,1995861.895211306,1755865.2288043145,1536069.4415250928,1335698.6570249253,1153869.6656014351,989613.4588342065,841896.7156733967,709642.6249352836,591750.5238133133,487113.9362028368,394636.70225423615,313246.9961245302,241909.12777047086,179633.1132221071,125482.07359015191,78577.58466092427,38103.14586756622,3305.970083446281,-26502.684882796228,-51948.41446774117,-73595.5686993669,-91949.94020148905,-107462.0382769831,-120530.76849386684,-131507.35961818084,-140699.4031540406,-148374.89400691626,-154766.1829873303,-160073.77237465486,-164469.9041439872,-168101.9064945391,-171095.27793345312,-173556.4994141681,-175575.5740421157,-177228.30084137697,-178578.29425805103,-179678.76470891648],\"type\":\"scatter\",\"xaxis\":\"x\",\"yaxis\":\"y\"},{\"mode\":\"lines\",\"name\":\"Total_Delta\",\"x\":[30,31,32,33,34,35,36,37,38,39,40,41,42,43,44,45,46,47,48,49,50,51,52,53,54,55,56,57,58,59,60,61,62,63,64,65,66,67,68,69,70,71,72,73,74,75,76,77,78,79,80,81,82,83,84,85,86,87,88,89,90,91,92,93,94,95,96,97,98,99,100],\"y\":[-349993.92320017854,-349986.4126760346,-349971.36231021635,-349942.82525057276,-349891.39833913546,-349802.961354996,-349657.3097583724,-349426.8145813809,-349075.278726444,-348557.17422001646,-347817.4342799165,-346791.9365139886,-345408.7533243,-343590.17089373915,-341255.39956921956,-338323.8268585453,-334718.6087767692,-330370.36201728217,-325220.71082436905,-319225.45740908815,-312357.17934520985,-304607.1058785003,-295986.18107796693,-286525.27915598406,-276274.5910025568,-265302.24732517486,-253692.28053226054,-241542.05372739676,-228959.30099892337,-216058.9293987669,-202959.7308135089,-189781.14272956064,-176640.18211339635,-163648.65766651774,-150910.74391550827,-138520.9772396294,-126562.71023254238,-115107.03786514097,-104212.1877696653,-93923.34844964903,-84272.89398562638,-75280.95227248032,-66956.25616508399,-59297.21305794708,-52293.12809938275,-45925.51898358995,-40169.46549422823,-34994.944042839255,-30368.105694670834,-26252.46497793893,-22609.975577280704,-19401.977362294572,-16590.006751929497,-14136.468931553747,-12005.175793582812,-10161.7576284244,-8573.959589000051,-7211.8358842168,-6047.855657266788,-5056.934727285656,-4216.406978257009,-3505.9483232314337,-2907.46499848345,-2404.956576882461,-1984.3626376093382,-1633.4005741765245,-1341.4006277020717,-1099.1429420242005,-898.7002797597231,-733.2890285782878,-597.1302689007696],\"type\":\"scatter\",\"xaxis\":\"x2\",\"yaxis\":\"y2\"}],                        {\"template\":{\"data\":{\"histogram2dcontour\":[{\"type\":\"histogram2dcontour\",\"colorbar\":{\"outlinewidth\":0,\"ticks\":\"\"},\"colorscale\":[[0.0,\"#0d0887\"],[0.1111111111111111,\"#46039f\"],[0.2222222222222222,\"#7201a8\"],[0.3333333333333333,\"#9c179e\"],[0.4444444444444444,\"#bd3786\"],[0.5555555555555556,\"#d8576b\"],[0.6666666666666666,\"#ed7953\"],[0.7777777777777778,\"#fb9f3a\"],[0.8888888888888888,\"#fdca26\"],[1.0,\"#f0f921\"]]}],\"choropleth\":[{\"type\":\"choropleth\",\"colorbar\":{\"outlinewidth\":0,\"ticks\":\"\"}}],\"histogram2d\":[{\"type\":\"histogram2d\",\"colorbar\":{\"outlinewidth\":0,\"ticks\":\"\"},\"colorscale\":[[0.0,\"#0d0887\"],[0.1111111111111111,\"#46039f\"],[0.2222222222222222,\"#7201a8\"],[0.3333333333333333,\"#9c179e\"],[0.4444444444444444,\"#bd3786\"],[0.5555555555555556,\"#d8576b\"],[0.6666666666666666,\"#ed7953\"],[0.7777777777777778,\"#fb9f3a\"],[0.8888888888888888,\"#fdca26\"],[1.0,\"#f0f921\"]]}],\"heatmap\":[{\"type\":\"heatmap\",\"colorbar\":{\"outlinewidth\":0,\"ticks\":\"\"},\"colorscale\":[[0.0,\"#0d0887\"],[0.1111111111111111,\"#46039f\"],[0.2222222222222222,\"#7201a8\"],[0.3333333333333333,\"#9c179e\"],[0.4444444444444444,\"#bd3786\"],[0.5555555555555556,\"#d8576b\"],[0.6666666666666666,\"#ed7953\"],[0.7777777777777778,\"#fb9f3a\"],[0.8888888888888888,\"#fdca26\"],[1.0,\"#f0f921\"]]}],\"heatmapgl\":[{\"type\":\"heatmapgl\",\"colorbar\":{\"outlinewidth\":0,\"ticks\":\"\"},\"colorscale\":[[0.0,\"#0d0887\"],[0.1111111111111111,\"#46039f\"],[0.2222222222222222,\"#7201a8\"],[0.3333333333333333,\"#9c179e\"],[0.4444444444444444,\"#bd3786\"],[0.5555555555555556,\"#d8576b\"],[0.6666666666666666,\"#ed7953\"],[0.7777777777777778,\"#fb9f3a\"],[0.8888888888888888,\"#fdca26\"],[1.0,\"#f0f921\"]]}],\"contourcarpet\":[{\"type\":\"contourcarpet\",\"colorbar\":{\"outlinewidth\":0,\"ticks\":\"\"}}],\"contour\":[{\"type\":\"contour\",\"colorbar\":{\"outlinewidth\":0,\"ticks\":\"\"},\"colorscale\":[[0.0,\"#0d0887\"],[0.1111111111111111,\"#46039f\"],[0.2222222222222222,\"#7201a8\"],[0.3333333333333333,\"#9c179e\"],[0.4444444444444444,\"#bd3786\"],[0.5555555555555556,\"#d8576b\"],[0.6666666666666666,\"#ed7953\"],[0.7777777777777778,\"#fb9f3a\"],[0.8888888888888888,\"#fdca26\"],[1.0,\"#f0f921\"]]}],\"surface\":[{\"type\":\"surface\",\"colorbar\":{\"outlinewidth\":0,\"ticks\":\"\"},\"colorscale\":[[0.0,\"#0d0887\"],[0.1111111111111111,\"#46039f\"],[0.2222222222222222,\"#7201a8\"],[0.3333333333333333,\"#9c179e\"],[0.4444444444444444,\"#bd3786\"],[0.5555555555555556,\"#d8576b\"],[0.6666666666666666,\"#ed7953\"],[0.7777777777777778,\"#fb9f3a\"],[0.8888888888888888,\"#fdca26\"],[1.0,\"#f0f921\"]]}],\"mesh3d\":[{\"type\":\"mesh3d\",\"colorbar\":{\"outlinewidth\":0,\"ticks\":\"\"}}],\"scatter\":[{\"fillpattern\":{\"fillmode\":\"overlay\",\"size\":10,\"solidity\":0.2},\"type\":\"scatter\"}],\"parcoords\":[{\"type\":\"parcoords\",\"line\":{\"colorbar\":{\"outlinewidth\":0,\"ticks\":\"\"}}}],\"scatterpolargl\":[{\"type\":\"scatterpolargl\",\"marker\":{\"colorbar\":{\"outlinewidth\":0,\"ticks\":\"\"}}}],\"bar\":[{\"error_x\":{\"color\":\"#2a3f5f\"},\"error_y\":{\"color\":\"#2a3f5f\"},\"marker\":{\"line\":{\"color\":\"#E5ECF6\",\"width\":0.5},\"pattern\":{\"fillmode\":\"overlay\",\"size\":10,\"solidity\":0.2}},\"type\":\"bar\"}],\"scattergeo\":[{\"type\":\"scattergeo\",\"marker\":{\"colorbar\":{\"outlinewidth\":0,\"ticks\":\"\"}}}],\"scatterpolar\":[{\"type\":\"scatterpolar\",\"marker\":{\"colorbar\":{\"outlinewidth\":0,\"ticks\":\"\"}}}],\"histogram\":[{\"marker\":{\"pattern\":{\"fillmode\":\"overlay\",\"size\":10,\"solidity\":0.2}},\"type\":\"histogram\"}],\"scattergl\":[{\"type\":\"scattergl\",\"marker\":{\"colorbar\":{\"outlinewidth\":0,\"ticks\":\"\"}}}],\"scatter3d\":[{\"type\":\"scatter3d\",\"line\":{\"colorbar\":{\"outlinewidth\":0,\"ticks\":\"\"}},\"marker\":{\"colorbar\":{\"outlinewidth\":0,\"ticks\":\"\"}}}],\"scattermapbox\":[{\"type\":\"scattermapbox\",\"marker\":{\"colorbar\":{\"outlinewidth\":0,\"ticks\":\"\"}}}],\"scatterternary\":[{\"type\":\"scatterternary\",\"marker\":{\"colorbar\":{\"outlinewidth\":0,\"ticks\":\"\"}}}],\"scattercarpet\":[{\"type\":\"scattercarpet\",\"marker\":{\"colorbar\":{\"outlinewidth\":0,\"ticks\":\"\"}}}],\"carpet\":[{\"aaxis\":{\"endlinecolor\":\"#2a3f5f\",\"gridcolor\":\"white\",\"linecolor\":\"white\",\"minorgridcolor\":\"white\",\"startlinecolor\":\"#2a3f5f\"},\"baxis\":{\"endlinecolor\":\"#2a3f5f\",\"gridcolor\":\"white\",\"linecolor\":\"white\",\"minorgridcolor\":\"white\",\"startlinecolor\":\"#2a3f5f\"},\"type\":\"carpet\"}],\"table\":[{\"cells\":{\"fill\":{\"color\":\"#EBF0F8\"},\"line\":{\"color\":\"white\"}},\"header\":{\"fill\":{\"color\":\"#C8D4E3\"},\"line\":{\"color\":\"white\"}},\"type\":\"table\"}],\"barpolar\":[{\"marker\":{\"line\":{\"color\":\"#E5ECF6\",\"width\":0.5},\"pattern\":{\"fillmode\":\"overlay\",\"size\":10,\"solidity\":0.2}},\"type\":\"barpolar\"}],\"pie\":[{\"automargin\":true,\"type\":\"pie\"}]},\"layout\":{\"autotypenumbers\":\"strict\",\"colorway\":[\"#636efa\",\"#EF553B\",\"#00cc96\",\"#ab63fa\",\"#FFA15A\",\"#19d3f3\",\"#FF6692\",\"#B6E880\",\"#FF97FF\",\"#FECB52\"],\"font\":{\"color\":\"#2a3f5f\"},\"hovermode\":\"closest\",\"hoverlabel\":{\"align\":\"left\"},\"paper_bgcolor\":\"white\",\"plot_bgcolor\":\"#E5ECF6\",\"polar\":{\"bgcolor\":\"#E5ECF6\",\"angularaxis\":{\"gridcolor\":\"white\",\"linecolor\":\"white\",\"ticks\":\"\"},\"radialaxis\":{\"gridcolor\":\"white\",\"linecolor\":\"white\",\"ticks\":\"\"}},\"ternary\":{\"bgcolor\":\"#E5ECF6\",\"aaxis\":{\"gridcolor\":\"white\",\"linecolor\":\"white\",\"ticks\":\"\"},\"baxis\":{\"gridcolor\":\"white\",\"linecolor\":\"white\",\"ticks\":\"\"},\"caxis\":{\"gridcolor\":\"white\",\"linecolor\":\"white\",\"ticks\":\"\"}},\"coloraxis\":{\"colorbar\":{\"outlinewidth\":0,\"ticks\":\"\"}},\"colorscale\":{\"sequential\":[[0.0,\"#0d0887\"],[0.1111111111111111,\"#46039f\"],[0.2222222222222222,\"#7201a8\"],[0.3333333333333333,\"#9c179e\"],[0.4444444444444444,\"#bd3786\"],[0.5555555555555556,\"#d8576b\"],[0.6666666666666666,\"#ed7953\"],[0.7777777777777778,\"#fb9f3a\"],[0.8888888888888888,\"#fdca26\"],[1.0,\"#f0f921\"]],\"sequentialminus\":[[0.0,\"#0d0887\"],[0.1111111111111111,\"#46039f\"],[0.2222222222222222,\"#7201a8\"],[0.3333333333333333,\"#9c179e\"],[0.4444444444444444,\"#bd3786\"],[0.5555555555555556,\"#d8576b\"],[0.6666666666666666,\"#ed7953\"],[0.7777777777777778,\"#fb9f3a\"],[0.8888888888888888,\"#fdca26\"],[1.0,\"#f0f921\"]],\"diverging\":[[0,\"#8e0152\"],[0.1,\"#c51b7d\"],[0.2,\"#de77ae\"],[0.3,\"#f1b6da\"],[0.4,\"#fde0ef\"],[0.5,\"#f7f7f7\"],[0.6,\"#e6f5d0\"],[0.7,\"#b8e186\"],[0.8,\"#7fbc41\"],[0.9,\"#4d9221\"],[1,\"#276419\"]]},\"xaxis\":{\"gridcolor\":\"white\",\"linecolor\":\"white\",\"ticks\":\"\",\"title\":{\"standoff\":15},\"zerolinecolor\":\"white\",\"automargin\":true,\"zerolinewidth\":2},\"yaxis\":{\"gridcolor\":\"white\",\"linecolor\":\"white\",\"ticks\":\"\",\"title\":{\"standoff\":15},\"zerolinecolor\":\"white\",\"automargin\":true,\"zerolinewidth\":2},\"scene\":{\"xaxis\":{\"backgroundcolor\":\"#E5ECF6\",\"gridcolor\":\"white\",\"linecolor\":\"white\",\"showbackground\":true,\"ticks\":\"\",\"zerolinecolor\":\"white\",\"gridwidth\":2},\"yaxis\":{\"backgroundcolor\":\"#E5ECF6\",\"gridcolor\":\"white\",\"linecolor\":\"white\",\"showbackground\":true,\"ticks\":\"\",\"zerolinecolor\":\"white\",\"gridwidth\":2},\"zaxis\":{\"backgroundcolor\":\"#E5ECF6\",\"gridcolor\":\"white\",\"linecolor\":\"white\",\"showbackground\":true,\"ticks\":\"\",\"zerolinecolor\":\"white\",\"gridwidth\":2}},\"shapedefaults\":{\"line\":{\"color\":\"#2a3f5f\"}},\"annotationdefaults\":{\"arrowcolor\":\"#2a3f5f\",\"arrowhead\":0,\"arrowwidth\":1},\"geo\":{\"bgcolor\":\"white\",\"landcolor\":\"#E5ECF6\",\"subunitcolor\":\"white\",\"showland\":true,\"showlakes\":true,\"lakecolor\":\"white\"},\"title\":{\"x\":0.05},\"mapbox\":{\"style\":\"light\"}}},\"xaxis\":{\"anchor\":\"y\",\"domain\":[0.0,0.45],\"title\":{\"text\":\"Price\"}},\"yaxis\":{\"anchor\":\"x\",\"domain\":[0.0,1.0],\"title\":{\"text\":\"Pnl\"}},\"xaxis2\":{\"anchor\":\"y2\",\"domain\":[0.55,1.0],\"title\":{\"text\":\"Price\"}},\"yaxis2\":{\"anchor\":\"x2\",\"domain\":[0.0,1.0],\"title\":{\"text\":\"Delta\"}},\"title\":{\"text\":\"Todays Option Pos (PnL and Delta)\",\"x\":0.5,\"xanchor\":\"center\"},\"barmode\":\"stack\"},                        {\"responsive\": true}                    ).then(function(){\n",
       "                            \n",
       "var gd = document.getElementById('818fc553-a03b-4185-92cc-c0cbcb753265');\n",
       "var x = new MutationObserver(function (mutations, observer) {{\n",
       "        var display = window.getComputedStyle(gd).display;\n",
       "        if (!display || display === 'none') {{\n",
       "            console.log([gd, 'removed!']);\n",
       "            Plotly.purge(gd);\n",
       "            observer.disconnect();\n",
       "        }}\n",
       "}});\n",
       "\n",
       "// Listen for the removal of the full notebook cells\n",
       "var notebookContainer = gd.closest('#notebook-container');\n",
       "if (notebookContainer) {{\n",
       "    x.observe(notebookContainer, {childList: true});\n",
       "}}\n",
       "\n",
       "// Listen for the clearing of the current output cell\n",
       "var outputEl = gd.closest('.output');\n",
       "if (outputEl) {{\n",
       "    x.observe(outputEl, {childList: true});\n",
       "}}\n",
       "\n",
       "                        })                };                });            </script>        </div>"
      ]
     },
     "metadata": {},
     "output_type": "display_data"
    }
   ],
   "source": [
    "pnl_delta_plot(current_date)"
   ]
  },
  {
   "cell_type": "markdown",
   "id": "188a9617",
   "metadata": {},
   "source": [
    "## End of This Week"
   ]
  },
  {
   "cell_type": "code",
   "execution_count": 22,
   "id": "8d15a408",
   "metadata": {},
   "outputs": [
    {
     "data": {
      "application/vnd.plotly.v1+json": {
       "config": {
        "plotlyServerURL": "https://plot.ly"
       },
       "data": [
        {
         "name": "EUA Mar25 60P",
         "type": "scatter",
         "x": [
          30,
          31,
          32,
          33,
          34,
          35,
          36,
          37,
          38,
          39,
          40,
          41,
          42,
          43,
          44,
          45,
          46,
          47,
          48,
          49,
          50,
          51,
          52,
          53,
          54,
          55,
          56,
          57,
          58,
          59,
          60,
          61,
          62,
          63,
          64,
          65,
          66,
          67,
          68,
          69,
          70,
          71,
          72,
          73,
          74,
          75,
          76,
          77,
          78,
          79,
          80,
          81,
          82,
          83,
          84,
          85,
          86,
          87,
          88,
          89,
          90,
          91,
          92,
          93,
          94,
          95,
          96,
          97,
          98,
          99,
          100
         ],
         "xaxis": "x",
         "y": [
          9894934.436127685,
          9563174.88154682,
          9231425.017014703,
          8899695.101590676,
          8568003.946318593,
          8236384.180271851,
          7904889.5549123995,
          7573604.462145225,
          7242655.582457867,
          6912225.241527901,
          6582565.680299951,
          6254013.095187588,
          5927000.047407996,
          5602064.730614095,
          5279855.659957527,
          4961130.610246937,
          4646749.061522786,
          4337657.955967299,
          4034871.1621025647,
          3739443.6069100974,
          3452441.5067379433,
          3174910.4529046263,
          2907843.259251159,
          2652149.4518683865,
          2408628.0927861435,
          2177945.3130547567,
          1960617.5298498552,
          1757000.8836231735,
          1567286.9987119827,
          1391504.7807008235,
          1229527.6426810736,
          1081085.3159052415,
          945779.2532893346,
          823100.5730505383,
          712449.5041173934,
          613155.3702157305,
          524496.2691499621,
          445717.7511550829,
          376049.96009056474,
          314722.86085358454,
          260979.32574283102,
          214085.98461800488,
          173341.8543813658,
          138084.85078481314,
          107696.35001101314,
          81604.01049799955,
          59283.08963289261,
          40256.49831659067,
          24093.83226013672,
          10409.605390308707,
          -1139.1091776951146,
          -10855.448975519093,
          -19005.786859283693,
          -25822.88040674594,
          -31509.04071463165,
          -36239.238194076745,
          -40164.08346595358,
          -43412.639281154574,
          -46095.03446825942,
          -48304.86332550098,
          -50121.36381049283,
          -51611.37558811839,
          -52831.08475514529,
          -53827.56615949864,
          -54640.136954876085,
          -55301.53664050865,
          -55838.949568124066,
          -56274.885960679094,
          -56627.937056709176,
          -56913.41921705501,
          -57143.9208265582
         ],
         "yaxis": "y"
        },
        {
         "name": "EUA Mar25 60P",
         "type": "scatter",
         "x": [
          30,
          31,
          32,
          33,
          34,
          35,
          36,
          37,
          38,
          39,
          40,
          41,
          42,
          43,
          44,
          45,
          46,
          47,
          48,
          49,
          50,
          51,
          52,
          53,
          54,
          55,
          56,
          57,
          58,
          59,
          60,
          61,
          62,
          63,
          64,
          65,
          66,
          67,
          68,
          69,
          70,
          71,
          72,
          73,
          74,
          75,
          76,
          77,
          78,
          79,
          80,
          81,
          82,
          83,
          84,
          85,
          86,
          87,
          88,
          89,
          90,
          91,
          92,
          93,
          94,
          95,
          96,
          97,
          98,
          99,
          100
         ],
         "xaxis": "x2",
         "y": [
          -199997.19696003202,
          -199993.3056237336,
          -199985.01382571485,
          -199968.38832596765,
          -199936.87161510717,
          -199880.14269007414,
          -199782.81382840037,
          -199623.09044914198,
          -199371.57741190714,
          -198990.45168788344,
          -198433.2255868337,
          -197645.2896129155,
          -196565.35050531267,
          -195127.777354069,
          -193265.75262475378,
          -190915.0143731897,
          -188017.88894622374,
          -184527.26371885452,
          -180410.14384227456,
          -175650.47500057772,
          -170250.98850892318,
          -164233.92366873196,
          -157640.59080728906,
          -150529.84281933188,
          -142975.61157369512,
          -135063.73017486194,
          -126888.29886206854,
          -118547.86131831678,
          -110141.64258554242,
          -101766.0650526873,
          -93511.71158897642,
          -85460.8514086986,
          -77685.59056383492,
          -70246.65976718889,
          -63192.81082767514,
          -56560.76117256048,
          -50375.60429945469,
          -44651.59207941079,
          -39393.19143064264,
          -34596.32137714173,
          -30249.685101872627,
          -26336.12353628907,
          -22833.930709962046,
          -19718.08519442959,
          -16961.365495766146,
          -14535.329466285351,
          -12411.148279800522,
          -10560.294043955997,
          -8955.086688830315,
          -7569.110488955433,
          -6377.513649673694,
          -5357.20607044532,
          -4486.970956595271,
          -3747.505650291827,
          -3121.4061327521804,
          -2593.108323079929,
          -2148.797739570574,
          -1776.2974355696847,
          -1464.9424788881315,
          -1205.4476860000163,
          -989.7738987245219,
          -810.9968298955383,
          -663.1814174705708,
          -541.2637133855425,
          -440.9415855554322,
          -358.574914650811,
          -291.09550449453184,
          -235.9265777280406,
          -190.9114784761856,
          -154.2510337503744,
          -124.44891946150616
         ],
         "yaxis": "y2"
        },
        {
         "name": "EUA Mar25 65P",
         "type": "scatter",
         "x": [
          30,
          31,
          32,
          33,
          34,
          35,
          36,
          37,
          38,
          39,
          40,
          41,
          42,
          43,
          44,
          45,
          46,
          47,
          48,
          49,
          50,
          51,
          52,
          53,
          54,
          55,
          56,
          57,
          58,
          59,
          60,
          61,
          62,
          63,
          64,
          65,
          66,
          67,
          68,
          69,
          70,
          71,
          72,
          73,
          74,
          75,
          76,
          77,
          78,
          79,
          80,
          81,
          82,
          83,
          84,
          85,
          86,
          87,
          88,
          89,
          90,
          91,
          92,
          93,
          94,
          95,
          96,
          97,
          98,
          99,
          100
         ],
         "xaxis": "x",
         "y": [
          5745164.689249474,
          5579281.220358569,
          5413397.819221871,
          5247514.603766549,
          5081631.860754848,
          4915750.240026833,
          4749871.120879727,
          4583997.2578875795,
          4418133.848448011,
          4252290.192356551,
          4086482.1234601205,
          3920735.3728375575,
          3755089.962311594,
          3589605.6226878865,
          3424368.087998074,
          3259495.9500873457,
          3095147.5905292192,
          2931527.56728789,
          2768891.749525825,
          2607550.4870616184,
          2447869.1819561725,
          2290265.7958066026,
          2135205.0613870877,
          1983189.4443043196,
          1834747.1860517215,
          1690418.0201050988,
          1550737.357711063,
          1416219.8684194244,
          1287343.4216286761,
          1164534.310104616,
          1048154.5552090479,
          938491.9144872836,
          835752.997609291,
          740059.6697360454,
          651448.7036352452,
          569874.4507806622,
          495214.1495126168,
          427275.3817972579,
          365805.13062973646,
          310499.87471414125,
          261016.179514736,
          216981.29591008252,
          178003.35047907973,
          143680.79606134098,
          113610.87972909486,
          87396.97113340587,
          64654.67240622649,
          45016.69811136005,
          28136.568350505793,
          13691.199536015909,
          1382.5060352385076,
          -9061.856916206709,
          -17888.471284802956,
          -25318.718166772367,
          -31549.793139212314,
          -36756.055575620034,
          -41090.606133486996,
          -44687.00164173777,
          -47661.03191906252,
          -50112.49783365783,
          -52126.943604092376,
          -53777.30858181497,
          -55125.474361560744,
          -56223.691984206955,
          -57115.8812744281,
          -57838.80010825508,
          -58423.085791334386,
          -58894.17392708284,
          -59273.10235070422,
          -59577.209080319844,
          -59820.73395721859
         ],
         "yaxis": "y"
        },
        {
         "name": "EUA Mar25 65P",
         "type": "scatter",
         "x": [
          30,
          31,
          32,
          33,
          34,
          35,
          36,
          37,
          38,
          39,
          40,
          41,
          42,
          43,
          44,
          45,
          46,
          47,
          48,
          49,
          50,
          51,
          52,
          53,
          54,
          55,
          56,
          57,
          58,
          59,
          60,
          61,
          62,
          63,
          64,
          65,
          66,
          67,
          68,
          69,
          70,
          71,
          72,
          73,
          74,
          75,
          76,
          77,
          78,
          79,
          80,
          81,
          82,
          83,
          84,
          85,
          86,
          87,
          88,
          89,
          90,
          91,
          92,
          93,
          94,
          95,
          96,
          97,
          98,
          99,
          100
         ],
         "xaxis": "x2",
         "y": [
          -99999.98979611146,
          -99999.96688838319,
          -99999.90114906884,
          -99999.72669347806,
          -99999.29599152443,
          -99998.3013723346,
          -99996.14237236972,
          -99991.71759777394,
          -99983.12109545332,
          -99967.23063189382,
          -99939.1900127648,
          -99891.80923391557,
          -99814.93229311472,
          -99694.84833433403,
          -99513.84160695027,
          -99249.98371897274,
          -98877.2636202542,
          -98366.12525608583,
          -97684.44191894928,
          -96798.905292883,
          -95676.75362071712,
          -94287.71571812883,
          -92606.01325558017,
          -90612.24812966646,
          -88295.00703402217,
          -85652.04038508273,
          -82690.91354654644,
          -79429.07883918354,
          -75893.370292526,
          -72118.97295199645,
          -68147.95946059281,
          -64027.515033093885,
          -59807.98627515131,
          -55540.88989224568,
          -51277.00602465818,
          -47064.66059105751,
          -42948.27496256333,
          -38967.23285438694,
          -35155.086463238025,
          -31539.098915490827,
          -28140.099599185243,
          -24972.61376303279,
          -22045.218047946437,
          -19361.069017572772,
          -16918.551555225058,
          -14711.997268462728,
          -12732.428791192619,
          -10968.2931354671,
          -9406.155172534647,
          -8031.330223301081,
          -6828.442094416442,
          -5781.899360608933,
          -4876.288072443402,
          -4096.683293964831,
          -3428.8849765139685,
          -2859.5857512695557,
          -2376.479413476884,
          -1968.3193354331663,
          -1624.9359455380863,
          -1337.2219001906326,
          -1097.0927899982553,
          -897.4302763271602,
          -732.0135406660766,
          -595.4439176245608,
          -483.06662271473397,
          -390.8926112805689,
          -315.522833876769,
          -254.07649389596054,
          -204.1243649731017,
          -163.6277826555843,
          -130.88357739121648
         ],
         "yaxis": "y2"
        },
        {
         "name": "EUA Mar25 70P",
         "type": "scatter",
         "x": [
          30,
          31,
          32,
          33,
          34,
          35,
          36,
          37,
          38,
          39,
          40,
          41,
          42,
          43,
          44,
          45,
          46,
          47,
          48,
          49,
          50,
          51,
          52,
          53,
          54,
          55,
          56,
          57,
          58,
          59,
          60,
          61,
          62,
          63,
          64,
          65,
          66,
          67,
          68,
          69,
          70,
          71,
          72,
          73,
          74,
          75,
          76,
          77,
          78,
          79,
          80,
          81,
          82,
          83,
          84,
          85,
          86,
          87,
          88,
          89,
          90,
          91,
          92,
          93,
          94,
          95,
          96,
          97,
          98,
          99,
          100
         ],
         "xaxis": "x",
         "y": [
          3252190.953514252,
          3169249.2028730256,
          3086307.452355587,
          3003365.7023149705,
          2920423.9539479413,
          2837482.2109702677,
          2754540.484014839,
          2671598.801283406,
          2588657.232463506,
          2505715.938738174,
          2422775.270551716,
          2339835.946926466,
          2256899.364975987,
          2173968.1039728876,
          2091046.7015500173,
          2008142.7856785464,
          1925268.639715237,
          1842443.2543915368,
          1759694.8775502322,
          1677064.0105625032,
          1594606.7247345513,
          1512398.0908043014,
          1430535.441983316,
          1349141.1390436457,
          1268364.4863128185,
          1188382.467859195,
          1109399.0357074018,
          1031642.7823278819,
          955362.9577057032,
          880823.932483459,
          808298.3464237488,
          738059.2997039852,
          670372.0301592954,
          605485.5639305984,
          543624.8269102472,
          484983.6621842501,
          429719.1212351002,
          377947.2941294696,
          329740.82803709304,
          285128.1660065546,
          244094.4294274271,
          206583.77620707283,
          172502.99773752972,
          141726.07366469398,
          114099.38408891938,
          89447.28176817048,
          67577.7483002869,
          48287.89342583053,
          31369.100580182378,
          16611.669959533574,
          3808.8585978687065,
          -7239.737935996754,
          -16725.477918940916,
          -24828.622755412413,
          -31716.900531551066,
          -37544.62312654681,
          -42452.28490195556,
          -46566.565673602265,
          -50000.66024884609,
          -52854.86017258144,
          -55217.31939341793,
          -57164.94336413294,
          -58764.34979687372,
          -60072.85823257025,
          -61139.47424532856,
          -62005.84212583698,
          -62707.14704405929,
          -63272.95386087963,
          -63727.97490687303,
          -64092.76320353346,
          -64384.330841330026
         ],
         "yaxis": "y"
        },
        {
         "name": "EUA Mar25 70P",
         "type": "scatter",
         "x": [
          30,
          31,
          32,
          33,
          34,
          35,
          36,
          37,
          38,
          39,
          40,
          41,
          42,
          43,
          44,
          45,
          46,
          47,
          48,
          49,
          50,
          51,
          52,
          53,
          54,
          55,
          56,
          57,
          58,
          59,
          60,
          61,
          62,
          63,
          64,
          65,
          66,
          67,
          68,
          69,
          70,
          71,
          72,
          73,
          74,
          75,
          76,
          77,
          78,
          79,
          80,
          81,
          82,
          83,
          84,
          85,
          86,
          87,
          88,
          89,
          90,
          91,
          92,
          93,
          94,
          95,
          96,
          97,
          98,
          99,
          100
         ],
         "xaxis": "x2",
         "y": [
          -49999.99999083231,
          -49999.999957044805,
          -49999.99981878427,
          -49999.999305964324,
          -49999.9975689672,
          -49999.99215987993,
          -49999.9765793629,
          -49999.93483791723,
          -49999.830304126124,
          -49999.58447623436,
          -49999.039346724385,
          -49997.89510720773,
          -49995.61371709641,
          -49991.27920323383,
          -49983.408364511764,
          -49969.71145424992,
          -49946.81144074077,
          -49909.941802364614,
          -49852.654805861384,
          -49766.5824658082,
          -49641.298278158596,
          -49464.327122021445,
          -49221.34216764706,
          -48896.57135314704,
          -48473.41366358738,
          -47935.24003273504,
          -47266.32893584055,
          -46452.8664715301,
          -45483.92812209253,
          -44352.356406111954,
          -43055.45575025847,
          -41595.44203859412,
          -39979.607122421876,
          -38220.1849721447,
          -36333.93275833343,
          -34341.463870078,
          -32266.38830586572,
          -30134.327525358123,
          -27971.875246577925,
          -25805.57323972256,
          -23660.96304427228,
          -21561.762308540267,
          -19529.199888137748,
          -17581.52864946353,
          -15733.720570717924,
          -13997.336323812031,
          -12380.551761032177,
          -10888.316934630537,
          -9522.619422467404,
          -8282.82253627045,
          -7166.049997384244,
          -6167.591336953748,
          -5281.306056568602,
          -4500.008953972135,
          -3815.8235348548064,
          -3220.494749688063,
          -2705.656168196635,
          -2263.0499824584817,
          -1884.7008439387857,
          -1563.0464867887606,
          -1291.0294142750079,
          -1062.154703380458,
          -870.5193073942352,
          -710.818205808339,
          -578.3324596999262,
          -468.90376434385314,
          -378.89952177870276,
          -305.171843147245,
          -245.0132786564474,
          -196.11149396432936,
          -156.5045866101955
         ],
         "yaxis": "y2"
        },
        {
         "mode": "lines",
         "name": "Total_PnL",
         "type": "scatter",
         "x": [
          30,
          31,
          32,
          33,
          34,
          35,
          36,
          37,
          38,
          39,
          40,
          41,
          42,
          43,
          44,
          45,
          46,
          47,
          48,
          49,
          50,
          51,
          52,
          53,
          54,
          55,
          56,
          57,
          58,
          59,
          60,
          61,
          62,
          63,
          64,
          65,
          66,
          67,
          68,
          69,
          70,
          71,
          72,
          73,
          74,
          75,
          76,
          77,
          78,
          79,
          80,
          81,
          82,
          83,
          84,
          85,
          86,
          87,
          88,
          89,
          90,
          91,
          92,
          93,
          94,
          95,
          96,
          97,
          98,
          99,
          100
         ],
         "xaxis": "x",
         "y": [
          18892290.07889141,
          18311705.304778416,
          17731130.28859216,
          17150575.407672197,
          16570059.761021381,
          15989616.631268952,
          15409301.159806967,
          14829200.52131621,
          14249446.663369384,
          13670231.372622628,
          13091823.074311785,
          12514584.414951611,
          11938989.374695577,
          11365638.45727487,
          10795270.44950562,
          10228769.346012829,
          9667165.291767241,
          9111628.777646724,
          8563457.789178621,
          8024058.10453422,
          7494917.413428667,
          6977574.33951553,
          6473583.762621563,
          5984480.035216352,
          5511739.765150684,
          5056745.80101905,
          4620753.92326832,
          4204863.53437048,
          3809993.378046362,
          3436863.023288898,
          3085980.5443138704,
          2757636.5300965104,
          2451904.2810579212,
          2168645.806717182,
          1907523.0346628856,
          1668013.4831806428,
          1449429.5398976791,
          1250940.4270818105,
          1071595.9187573944,
          910350.9015742803,
          766089.9346849942,
          637651.0567351603,
          523848.20259797527,
          423491.7205108481,
          335406.6138290274,
          258448.2633995759,
          191515.510339406,
          133561.08985378125,
          83599.5011908249,
          40712.47488585819,
          4052.2554554120998,
          -27157.043827722555,
          -53619.736063027565,
          -75970.22132893073,
          -94775.73438539503,
          -110539.9168962436,
          -123706.97450139614,
          -134666.2065964946,
          -143756.72663616802,
          -151272.22133174026,
          -157465.62680800312,
          -162553.6275340663,
          -166720.90891357977,
          -170124.11637627584,
          -172895.49247463275,
          -175146.17887460074,
          -176969.18240351774,
          -178442.01374864156,
          -179629.0143142864,
          -180583.3915009083,
          -181348.9856251068
         ],
         "yaxis": "y"
        },
        {
         "mode": "lines",
         "name": "Total_Delta",
         "type": "scatter",
         "x": [
          30,
          31,
          32,
          33,
          34,
          35,
          36,
          37,
          38,
          39,
          40,
          41,
          42,
          43,
          44,
          45,
          46,
          47,
          48,
          49,
          50,
          51,
          52,
          53,
          54,
          55,
          56,
          57,
          58,
          59,
          60,
          61,
          62,
          63,
          64,
          65,
          66,
          67,
          68,
          69,
          70,
          71,
          72,
          73,
          74,
          75,
          76,
          77,
          78,
          79,
          80,
          81,
          82,
          83,
          84,
          85,
          86,
          87,
          88,
          89,
          90,
          91,
          92,
          93,
          94,
          95,
          96,
          97,
          98,
          99,
          100
         ],
         "xaxis": "x2",
         "y": [
          -349997.18674697576,
          -349993.2724691616,
          -349984.91479356796,
          -349968.11432541005,
          -349936.1651755988,
          -349878.4362222887,
          -349778.932780133,
          -349614.74288483313,
          -349354.5288114866,
          -348957.2667960116,
          -348371.4549463229,
          -347534.99395403883,
          -346375.8965155238,
          -344813.90489163686,
          -342763.0025962158,
          -340134.70954641234,
          -336841.9640072187,
          -332803.33077730495,
          -327947.2405670852,
          -322215.96275926894,
          -315569.0404077989,
          -307985.96650888224,
          -299467.9462305163,
          -290038.6623021454,
          -279744.03227130463,
          -268651.0105926797,
          -256845.54134445553,
          -244429.80662903044,
          -231518.94100016096,
          -218237.3944107957,
          -204715.1267998277,
          -191083.80848038662,
          -177473.1839614081,
          -164007.73463157925,
          -150803.74961066674,
          -137966.885633696,
          -125590.26756788374,
          -113753.15245915586,
          -102520.1531404586,
          -91940.99353235512,
          -82050.74774533015,
          -72870.49960786212,
          -64408.34864604623,
          -56660.682861465895,
          -49613.63762170913,
          -43244.66305856011,
          -37524.128832025315,
          -32416.904114053636,
          -27883.861283832368,
          -23883.263248526964,
          -20372.005741474382,
          -17306.696768008,
          -14644.565085607275,
          -12344.197898228793,
          -10366.114644120955,
          -8673.188824037548,
          -7230.933321244093,
          -6007.666753461333,
          -4974.579268365003,
          -4105.71607297941,
          -3377.8961029977854,
          -2770.581809603156,
          -2265.7142655308826,
          -1847.5258368184423,
          -1502.3406679700925,
          -1218.3712902752332,
          -985.5178601500036,
          -795.1749147712461,
          -640.0491221057347,
          -513.9903103702881,
          -411.83708346291814
         ],
         "yaxis": "y2"
        }
       ],
       "layout": {
        "autosize": true,
        "barmode": "stack",
        "template": {
         "data": {
          "bar": [
           {
            "error_x": {
             "color": "#2a3f5f"
            },
            "error_y": {
             "color": "#2a3f5f"
            },
            "marker": {
             "line": {
              "color": "#E5ECF6",
              "width": 0.5
             },
             "pattern": {
              "fillmode": "overlay",
              "size": 10,
              "solidity": 0.2
             }
            },
            "type": "bar"
           }
          ],
          "barpolar": [
           {
            "marker": {
             "line": {
              "color": "#E5ECF6",
              "width": 0.5
             },
             "pattern": {
              "fillmode": "overlay",
              "size": 10,
              "solidity": 0.2
             }
            },
            "type": "barpolar"
           }
          ],
          "carpet": [
           {
            "aaxis": {
             "endlinecolor": "#2a3f5f",
             "gridcolor": "white",
             "linecolor": "white",
             "minorgridcolor": "white",
             "startlinecolor": "#2a3f5f"
            },
            "baxis": {
             "endlinecolor": "#2a3f5f",
             "gridcolor": "white",
             "linecolor": "white",
             "minorgridcolor": "white",
             "startlinecolor": "#2a3f5f"
            },
            "type": "carpet"
           }
          ],
          "choropleth": [
           {
            "colorbar": {
             "outlinewidth": 0,
             "ticks": ""
            },
            "type": "choropleth"
           }
          ],
          "contour": [
           {
            "colorbar": {
             "outlinewidth": 0,
             "ticks": ""
            },
            "colorscale": [
             [
              0,
              "#0d0887"
             ],
             [
              0.1111111111111111,
              "#46039f"
             ],
             [
              0.2222222222222222,
              "#7201a8"
             ],
             [
              0.3333333333333333,
              "#9c179e"
             ],
             [
              0.4444444444444444,
              "#bd3786"
             ],
             [
              0.5555555555555556,
              "#d8576b"
             ],
             [
              0.6666666666666666,
              "#ed7953"
             ],
             [
              0.7777777777777778,
              "#fb9f3a"
             ],
             [
              0.8888888888888888,
              "#fdca26"
             ],
             [
              1,
              "#f0f921"
             ]
            ],
            "type": "contour"
           }
          ],
          "contourcarpet": [
           {
            "colorbar": {
             "outlinewidth": 0,
             "ticks": ""
            },
            "type": "contourcarpet"
           }
          ],
          "heatmap": [
           {
            "colorbar": {
             "outlinewidth": 0,
             "ticks": ""
            },
            "colorscale": [
             [
              0,
              "#0d0887"
             ],
             [
              0.1111111111111111,
              "#46039f"
             ],
             [
              0.2222222222222222,
              "#7201a8"
             ],
             [
              0.3333333333333333,
              "#9c179e"
             ],
             [
              0.4444444444444444,
              "#bd3786"
             ],
             [
              0.5555555555555556,
              "#d8576b"
             ],
             [
              0.6666666666666666,
              "#ed7953"
             ],
             [
              0.7777777777777778,
              "#fb9f3a"
             ],
             [
              0.8888888888888888,
              "#fdca26"
             ],
             [
              1,
              "#f0f921"
             ]
            ],
            "type": "heatmap"
           }
          ],
          "heatmapgl": [
           {
            "colorbar": {
             "outlinewidth": 0,
             "ticks": ""
            },
            "colorscale": [
             [
              0,
              "#0d0887"
             ],
             [
              0.1111111111111111,
              "#46039f"
             ],
             [
              0.2222222222222222,
              "#7201a8"
             ],
             [
              0.3333333333333333,
              "#9c179e"
             ],
             [
              0.4444444444444444,
              "#bd3786"
             ],
             [
              0.5555555555555556,
              "#d8576b"
             ],
             [
              0.6666666666666666,
              "#ed7953"
             ],
             [
              0.7777777777777778,
              "#fb9f3a"
             ],
             [
              0.8888888888888888,
              "#fdca26"
             ],
             [
              1,
              "#f0f921"
             ]
            ],
            "type": "heatmapgl"
           }
          ],
          "histogram": [
           {
            "marker": {
             "pattern": {
              "fillmode": "overlay",
              "size": 10,
              "solidity": 0.2
             }
            },
            "type": "histogram"
           }
          ],
          "histogram2d": [
           {
            "colorbar": {
             "outlinewidth": 0,
             "ticks": ""
            },
            "colorscale": [
             [
              0,
              "#0d0887"
             ],
             [
              0.1111111111111111,
              "#46039f"
             ],
             [
              0.2222222222222222,
              "#7201a8"
             ],
             [
              0.3333333333333333,
              "#9c179e"
             ],
             [
              0.4444444444444444,
              "#bd3786"
             ],
             [
              0.5555555555555556,
              "#d8576b"
             ],
             [
              0.6666666666666666,
              "#ed7953"
             ],
             [
              0.7777777777777778,
              "#fb9f3a"
             ],
             [
              0.8888888888888888,
              "#fdca26"
             ],
             [
              1,
              "#f0f921"
             ]
            ],
            "type": "histogram2d"
           }
          ],
          "histogram2dcontour": [
           {
            "colorbar": {
             "outlinewidth": 0,
             "ticks": ""
            },
            "colorscale": [
             [
              0,
              "#0d0887"
             ],
             [
              0.1111111111111111,
              "#46039f"
             ],
             [
              0.2222222222222222,
              "#7201a8"
             ],
             [
              0.3333333333333333,
              "#9c179e"
             ],
             [
              0.4444444444444444,
              "#bd3786"
             ],
             [
              0.5555555555555556,
              "#d8576b"
             ],
             [
              0.6666666666666666,
              "#ed7953"
             ],
             [
              0.7777777777777778,
              "#fb9f3a"
             ],
             [
              0.8888888888888888,
              "#fdca26"
             ],
             [
              1,
              "#f0f921"
             ]
            ],
            "type": "histogram2dcontour"
           }
          ],
          "mesh3d": [
           {
            "colorbar": {
             "outlinewidth": 0,
             "ticks": ""
            },
            "type": "mesh3d"
           }
          ],
          "parcoords": [
           {
            "line": {
             "colorbar": {
              "outlinewidth": 0,
              "ticks": ""
             }
            },
            "type": "parcoords"
           }
          ],
          "pie": [
           {
            "automargin": true,
            "type": "pie"
           }
          ],
          "scatter": [
           {
            "fillpattern": {
             "fillmode": "overlay",
             "size": 10,
             "solidity": 0.2
            },
            "type": "scatter"
           }
          ],
          "scatter3d": [
           {
            "line": {
             "colorbar": {
              "outlinewidth": 0,
              "ticks": ""
             }
            },
            "marker": {
             "colorbar": {
              "outlinewidth": 0,
              "ticks": ""
             }
            },
            "type": "scatter3d"
           }
          ],
          "scattercarpet": [
           {
            "marker": {
             "colorbar": {
              "outlinewidth": 0,
              "ticks": ""
             }
            },
            "type": "scattercarpet"
           }
          ],
          "scattergeo": [
           {
            "marker": {
             "colorbar": {
              "outlinewidth": 0,
              "ticks": ""
             }
            },
            "type": "scattergeo"
           }
          ],
          "scattergl": [
           {
            "marker": {
             "colorbar": {
              "outlinewidth": 0,
              "ticks": ""
             }
            },
            "type": "scattergl"
           }
          ],
          "scattermapbox": [
           {
            "marker": {
             "colorbar": {
              "outlinewidth": 0,
              "ticks": ""
             }
            },
            "type": "scattermapbox"
           }
          ],
          "scatterpolar": [
           {
            "marker": {
             "colorbar": {
              "outlinewidth": 0,
              "ticks": ""
             }
            },
            "type": "scatterpolar"
           }
          ],
          "scatterpolargl": [
           {
            "marker": {
             "colorbar": {
              "outlinewidth": 0,
              "ticks": ""
             }
            },
            "type": "scatterpolargl"
           }
          ],
          "scatterternary": [
           {
            "marker": {
             "colorbar": {
              "outlinewidth": 0,
              "ticks": ""
             }
            },
            "type": "scatterternary"
           }
          ],
          "surface": [
           {
            "colorbar": {
             "outlinewidth": 0,
             "ticks": ""
            },
            "colorscale": [
             [
              0,
              "#0d0887"
             ],
             [
              0.1111111111111111,
              "#46039f"
             ],
             [
              0.2222222222222222,
              "#7201a8"
             ],
             [
              0.3333333333333333,
              "#9c179e"
             ],
             [
              0.4444444444444444,
              "#bd3786"
             ],
             [
              0.5555555555555556,
              "#d8576b"
             ],
             [
              0.6666666666666666,
              "#ed7953"
             ],
             [
              0.7777777777777778,
              "#fb9f3a"
             ],
             [
              0.8888888888888888,
              "#fdca26"
             ],
             [
              1,
              "#f0f921"
             ]
            ],
            "type": "surface"
           }
          ],
          "table": [
           {
            "cells": {
             "fill": {
              "color": "#EBF0F8"
             },
             "line": {
              "color": "white"
             }
            },
            "header": {
             "fill": {
              "color": "#C8D4E3"
             },
             "line": {
              "color": "white"
             }
            },
            "type": "table"
           }
          ]
         },
         "layout": {
          "annotationdefaults": {
           "arrowcolor": "#2a3f5f",
           "arrowhead": 0,
           "arrowwidth": 1
          },
          "autotypenumbers": "strict",
          "coloraxis": {
           "colorbar": {
            "outlinewidth": 0,
            "ticks": ""
           }
          },
          "colorscale": {
           "diverging": [
            [
             0,
             "#8e0152"
            ],
            [
             0.1,
             "#c51b7d"
            ],
            [
             0.2,
             "#de77ae"
            ],
            [
             0.3,
             "#f1b6da"
            ],
            [
             0.4,
             "#fde0ef"
            ],
            [
             0.5,
             "#f7f7f7"
            ],
            [
             0.6,
             "#e6f5d0"
            ],
            [
             0.7,
             "#b8e186"
            ],
            [
             0.8,
             "#7fbc41"
            ],
            [
             0.9,
             "#4d9221"
            ],
            [
             1,
             "#276419"
            ]
           ],
           "sequential": [
            [
             0,
             "#0d0887"
            ],
            [
             0.1111111111111111,
             "#46039f"
            ],
            [
             0.2222222222222222,
             "#7201a8"
            ],
            [
             0.3333333333333333,
             "#9c179e"
            ],
            [
             0.4444444444444444,
             "#bd3786"
            ],
            [
             0.5555555555555556,
             "#d8576b"
            ],
            [
             0.6666666666666666,
             "#ed7953"
            ],
            [
             0.7777777777777778,
             "#fb9f3a"
            ],
            [
             0.8888888888888888,
             "#fdca26"
            ],
            [
             1,
             "#f0f921"
            ]
           ],
           "sequentialminus": [
            [
             0,
             "#0d0887"
            ],
            [
             0.1111111111111111,
             "#46039f"
            ],
            [
             0.2222222222222222,
             "#7201a8"
            ],
            [
             0.3333333333333333,
             "#9c179e"
            ],
            [
             0.4444444444444444,
             "#bd3786"
            ],
            [
             0.5555555555555556,
             "#d8576b"
            ],
            [
             0.6666666666666666,
             "#ed7953"
            ],
            [
             0.7777777777777778,
             "#fb9f3a"
            ],
            [
             0.8888888888888888,
             "#fdca26"
            ],
            [
             1,
             "#f0f921"
            ]
           ]
          },
          "colorway": [
           "#636efa",
           "#EF553B",
           "#00cc96",
           "#ab63fa",
           "#FFA15A",
           "#19d3f3",
           "#FF6692",
           "#B6E880",
           "#FF97FF",
           "#FECB52"
          ],
          "font": {
           "color": "#2a3f5f"
          },
          "geo": {
           "bgcolor": "white",
           "lakecolor": "white",
           "landcolor": "#E5ECF6",
           "showlakes": true,
           "showland": true,
           "subunitcolor": "white"
          },
          "hoverlabel": {
           "align": "left"
          },
          "hovermode": "closest",
          "mapbox": {
           "style": "light"
          },
          "paper_bgcolor": "white",
          "plot_bgcolor": "#E5ECF6",
          "polar": {
           "angularaxis": {
            "gridcolor": "white",
            "linecolor": "white",
            "ticks": ""
           },
           "bgcolor": "#E5ECF6",
           "radialaxis": {
            "gridcolor": "white",
            "linecolor": "white",
            "ticks": ""
           }
          },
          "scene": {
           "xaxis": {
            "backgroundcolor": "#E5ECF6",
            "gridcolor": "white",
            "gridwidth": 2,
            "linecolor": "white",
            "showbackground": true,
            "ticks": "",
            "zerolinecolor": "white"
           },
           "yaxis": {
            "backgroundcolor": "#E5ECF6",
            "gridcolor": "white",
            "gridwidth": 2,
            "linecolor": "white",
            "showbackground": true,
            "ticks": "",
            "zerolinecolor": "white"
           },
           "zaxis": {
            "backgroundcolor": "#E5ECF6",
            "gridcolor": "white",
            "gridwidth": 2,
            "linecolor": "white",
            "showbackground": true,
            "ticks": "",
            "zerolinecolor": "white"
           }
          },
          "shapedefaults": {
           "line": {
            "color": "#2a3f5f"
           }
          },
          "ternary": {
           "aaxis": {
            "gridcolor": "white",
            "linecolor": "white",
            "ticks": ""
           },
           "baxis": {
            "gridcolor": "white",
            "linecolor": "white",
            "ticks": ""
           },
           "bgcolor": "#E5ECF6",
           "caxis": {
            "gridcolor": "white",
            "linecolor": "white",
            "ticks": ""
           }
          },
          "title": {
           "x": 0.05
          },
          "xaxis": {
           "automargin": true,
           "gridcolor": "white",
           "linecolor": "white",
           "ticks": "",
           "title": {
            "standoff": 15
           },
           "zerolinecolor": "white",
           "zerolinewidth": 2
          },
          "yaxis": {
           "automargin": true,
           "gridcolor": "white",
           "linecolor": "white",
           "ticks": "",
           "title": {
            "standoff": 15
           },
           "zerolinecolor": "white",
           "zerolinewidth": 2
          }
         }
        },
        "title": {
         "text": "Todays Option Pos (PnL and Delta)",
         "x": 0.5,
         "xanchor": "center"
        },
        "xaxis": {
         "anchor": "y",
         "autorange": true,
         "domain": [
          0,
          0.45
         ],
         "range": [
          30,
          100
         ],
         "title": {
          "text": "Price"
         },
         "type": "linear"
        },
        "xaxis2": {
         "anchor": "y2",
         "autorange": true,
         "domain": [
          0.55,
          1
         ],
         "range": [
          30,
          100
         ],
         "title": {
          "text": "Price"
         },
         "type": "linear"
        },
        "yaxis": {
         "anchor": "x",
         "autorange": true,
         "domain": [
          0,
          1
         ],
         "range": [
          -1240995.600320469,
          19951936.693586774
         ],
         "title": {
          "text": "Pnl"
         },
         "type": "linear"
        },
        "yaxis2": {
         "anchor": "x2",
         "autorange": true,
         "domain": [
          0,
          1
         ],
         "range": [
          -369434.56107072654,
          19312.925404289286
         ],
         "title": {
          "text": "Delta"
         },
         "type": "linear"
        }
       }
      },
      "image/png": "[encoded data removed]",
      "text/html": [
       "<div>                            <div id=\"c2b27a55-8f2e-465f-9f0a-e5b72dfed5a5\" class=\"plotly-graph-div\" style=\"height:525px; width:100%;\"></div>            <script type=\"text/javascript\">                require([\"plotly\"], function(Plotly) {                    window.PLOTLYENV=window.PLOTLYENV || {};                                    if (document.getElementById(\"c2b27a55-8f2e-465f-9f0a-e5b72dfed5a5\")) {                    Plotly.newPlot(                        \"c2b27a55-8f2e-465f-9f0a-e5b72dfed5a5\",                        [{\"name\":\"EUA Mar25 60P\",\"x\":[30,31,32,33,34,35,36,37,38,39,40,41,42,43,44,45,46,47,48,49,50,51,52,53,54,55,56,57,58,59,60,61,62,63,64,65,66,67,68,69,70,71,72,73,74,75,76,77,78,79,80,81,82,83,84,85,86,87,88,89,90,91,92,93,94,95,96,97,98,99,100],\"y\":[9894934.436127685,9563174.88154682,9231425.017014703,8899695.101590676,8568003.946318593,8236384.180271851,7904889.5549123995,7573604.462145225,7242655.582457867,6912225.241527901,6582565.680299951,6254013.095187588,5927000.047407996,5602064.730614095,5279855.659957527,4961130.610246937,4646749.061522786,4337657.955967299,4034871.1621025647,3739443.6069100974,3452441.5067379433,3174910.4529046263,2907843.259251159,2652149.4518683865,2408628.0927861435,2177945.3130547567,1960617.5298498552,1757000.8836231735,1567286.9987119827,1391504.7807008235,1229527.6426810736,1081085.3159052415,945779.2532893346,823100.5730505383,712449.5041173934,613155.3702157305,524496.2691499621,445717.7511550829,376049.96009056474,314722.86085358454,260979.32574283102,214085.98461800488,173341.8543813658,138084.85078481314,107696.35001101314,81604.01049799955,59283.08963289261,40256.49831659067,24093.83226013672,10409.605390308707,-1139.1091776951146,-10855.448975519093,-19005.786859283693,-25822.88040674594,-31509.04071463165,-36239.238194076745,-40164.08346595358,-43412.639281154574,-46095.03446825942,-48304.86332550098,-50121.36381049283,-51611.37558811839,-52831.08475514529,-53827.56615949864,-54640.136954876085,-55301.53664050865,-55838.949568124066,-56274.885960679094,-56627.937056709176,-56913.41921705501,-57143.9208265582],\"type\":\"scatter\",\"xaxis\":\"x\",\"yaxis\":\"y\"},{\"name\":\"EUA Mar25 60P\",\"x\":[30,31,32,33,34,35,36,37,38,39,40,41,42,43,44,45,46,47,48,49,50,51,52,53,54,55,56,57,58,59,60,61,62,63,64,65,66,67,68,69,70,71,72,73,74,75,76,77,78,79,80,81,82,83,84,85,86,87,88,89,90,91,92,93,94,95,96,97,98,99,100],\"y\":[-199997.19696003202,-199993.3056237336,-199985.01382571485,-199968.38832596765,-199936.87161510717,-199880.14269007414,-199782.81382840037,-199623.09044914198,-199371.57741190714,-198990.45168788344,-198433.2255868337,-197645.2896129155,-196565.35050531267,-195127.777354069,-193265.75262475378,-190915.0143731897,-188017.88894622374,-184527.26371885452,-180410.14384227456,-175650.47500057772,-170250.98850892318,-164233.92366873196,-157640.59080728906,-150529.84281933188,-142975.61157369512,-135063.73017486194,-126888.29886206854,-118547.86131831678,-110141.64258554242,-101766.0650526873,-93511.71158897642,-85460.8514086986,-77685.59056383492,-70246.65976718889,-63192.81082767514,-56560.76117256048,-50375.60429945469,-44651.59207941079,-39393.19143064264,-34596.32137714173,-30249.685101872627,-26336.12353628907,-22833.930709962046,-19718.08519442959,-16961.365495766146,-14535.329466285351,-12411.148279800522,-10560.294043955997,-8955.086688830315,-7569.110488955433,-6377.513649673694,-5357.20607044532,-4486.970956595271,-3747.505650291827,-3121.4061327521804,-2593.108323079929,-2148.797739570574,-1776.2974355696847,-1464.9424788881315,-1205.4476860000163,-989.7738987245219,-810.9968298955383,-663.1814174705708,-541.2637133855425,-440.9415855554322,-358.574914650811,-291.09550449453184,-235.9265777280406,-190.9114784761856,-154.2510337503744,-124.44891946150616],\"type\":\"scatter\",\"xaxis\":\"x2\",\"yaxis\":\"y2\"},{\"name\":\"EUA Mar25 65P\",\"x\":[30,31,32,33,34,35,36,37,38,39,40,41,42,43,44,45,46,47,48,49,50,51,52,53,54,55,56,57,58,59,60,61,62,63,64,65,66,67,68,69,70,71,72,73,74,75,76,77,78,79,80,81,82,83,84,85,86,87,88,89,90,91,92,93,94,95,96,97,98,99,100],\"y\":[5745164.689249474,5579281.220358569,5413397.819221871,5247514.603766549,5081631.860754848,4915750.240026833,4749871.120879727,4583997.2578875795,4418133.848448011,4252290.192356551,4086482.1234601205,3920735.3728375575,3755089.962311594,3589605.6226878865,3424368.087998074,3259495.9500873457,3095147.5905292192,2931527.56728789,2768891.749525825,2607550.4870616184,2447869.1819561725,2290265.7958066026,2135205.0613870877,1983189.4443043196,1834747.1860517215,1690418.0201050988,1550737.357711063,1416219.8684194244,1287343.4216286761,1164534.310104616,1048154.5552090479,938491.9144872836,835752.997609291,740059.6697360454,651448.7036352452,569874.4507806622,495214.1495126168,427275.3817972579,365805.13062973646,310499.87471414125,261016.179514736,216981.29591008252,178003.35047907973,143680.79606134098,113610.87972909486,87396.97113340587,64654.67240622649,45016.69811136005,28136.568350505793,13691.199536015909,1382.5060352385076,-9061.856916206709,-17888.471284802956,-25318.718166772367,-31549.793139212314,-36756.055575620034,-41090.606133486996,-44687.00164173777,-47661.03191906252,-50112.49783365783,-52126.943604092376,-53777.30858181497,-55125.474361560744,-56223.691984206955,-57115.8812744281,-57838.80010825508,-58423.085791334386,-58894.17392708284,-59273.10235070422,-59577.209080319844,-59820.73395721859],\"type\":\"scatter\",\"xaxis\":\"x\",\"yaxis\":\"y\"},{\"name\":\"EUA Mar25 65P\",\"x\":[30,31,32,33,34,35,36,37,38,39,40,41,42,43,44,45,46,47,48,49,50,51,52,53,54,55,56,57,58,59,60,61,62,63,64,65,66,67,68,69,70,71,72,73,74,75,76,77,78,79,80,81,82,83,84,85,86,87,88,89,90,91,92,93,94,95,96,97,98,99,100],\"y\":[-99999.98979611146,-99999.96688838319,-99999.90114906884,-99999.72669347806,-99999.29599152443,-99998.3013723346,-99996.14237236972,-99991.71759777394,-99983.12109545332,-99967.23063189382,-99939.1900127648,-99891.80923391557,-99814.93229311472,-99694.84833433403,-99513.84160695027,-99249.98371897274,-98877.2636202542,-98366.12525608583,-97684.44191894928,-96798.905292883,-95676.75362071712,-94287.71571812883,-92606.01325558017,-90612.24812966646,-88295.00703402217,-85652.04038508273,-82690.91354654644,-79429.07883918354,-75893.370292526,-72118.97295199645,-68147.95946059281,-64027.515033093885,-59807.98627515131,-55540.88989224568,-51277.00602465818,-47064.66059105751,-42948.27496256333,-38967.23285438694,-35155.086463238025,-31539.098915490827,-28140.099599185243,-24972.61376303279,-22045.218047946437,-19361.069017572772,-16918.551555225058,-14711.997268462728,-12732.428791192619,-10968.2931354671,-9406.155172534647,-8031.330223301081,-6828.442094416442,-5781.899360608933,-4876.288072443402,-4096.683293964831,-3428.8849765139685,-2859.5857512695557,-2376.479413476884,-1968.3193354331663,-1624.9359455380863,-1337.2219001906326,-1097.0927899982553,-897.4302763271602,-732.0135406660766,-595.4439176245608,-483.06662271473397,-390.8926112805689,-315.522833876769,-254.07649389596054,-204.1243649731017,-163.6277826555843,-130.88357739121648],\"type\":\"scatter\",\"xaxis\":\"x2\",\"yaxis\":\"y2\"},{\"name\":\"EUA Mar25 70P\",\"x\":[30,31,32,33,34,35,36,37,38,39,40,41,42,43,44,45,46,47,48,49,50,51,52,53,54,55,56,57,58,59,60,61,62,63,64,65,66,67,68,69,70,71,72,73,74,75,76,77,78,79,80,81,82,83,84,85,86,87,88,89,90,91,92,93,94,95,96,97,98,99,100],\"y\":[3252190.953514252,3169249.2028730256,3086307.452355587,3003365.7023149705,2920423.9539479413,2837482.2109702677,2754540.484014839,2671598.801283406,2588657.232463506,2505715.938738174,2422775.270551716,2339835.946926466,2256899.364975987,2173968.1039728876,2091046.7015500173,2008142.7856785464,1925268.639715237,1842443.2543915368,1759694.8775502322,1677064.0105625032,1594606.7247345513,1512398.0908043014,1430535.441983316,1349141.1390436457,1268364.4863128185,1188382.467859195,1109399.0357074018,1031642.7823278819,955362.9577057032,880823.932483459,808298.3464237488,738059.2997039852,670372.0301592954,605485.5639305984,543624.8269102472,484983.6621842501,429719.1212351002,377947.2941294696,329740.82803709304,285128.1660065546,244094.4294274271,206583.77620707283,172502.99773752972,141726.07366469398,114099.38408891938,89447.28176817048,67577.7483002869,48287.89342583053,31369.100580182378,16611.669959533574,3808.8585978687065,-7239.737935996754,-16725.477918940916,-24828.622755412413,-31716.900531551066,-37544.62312654681,-42452.28490195556,-46566.565673602265,-50000.66024884609,-52854.86017258144,-55217.31939341793,-57164.94336413294,-58764.34979687372,-60072.85823257025,-61139.47424532856,-62005.84212583698,-62707.14704405929,-63272.95386087963,-63727.97490687303,-64092.76320353346,-64384.330841330026],\"type\":\"scatter\",\"xaxis\":\"x\",\"yaxis\":\"y\"},{\"name\":\"EUA Mar25 70P\",\"x\":[30,31,32,33,34,35,36,37,38,39,40,41,42,43,44,45,46,47,48,49,50,51,52,53,54,55,56,57,58,59,60,61,62,63,64,65,66,67,68,69,70,71,72,73,74,75,76,77,78,79,80,81,82,83,84,85,86,87,88,89,90,91,92,93,94,95,96,97,98,99,100],\"y\":[-49999.99999083231,-49999.999957044805,-49999.99981878427,-49999.999305964324,-49999.9975689672,-49999.99215987993,-49999.9765793629,-49999.93483791723,-49999.830304126124,-49999.58447623436,-49999.039346724385,-49997.89510720773,-49995.61371709641,-49991.27920323383,-49983.408364511764,-49969.71145424992,-49946.81144074077,-49909.941802364614,-49852.654805861384,-49766.5824658082,-49641.298278158596,-49464.327122021445,-49221.34216764706,-48896.57135314704,-48473.41366358738,-47935.24003273504,-47266.32893584055,-46452.8664715301,-45483.92812209253,-44352.356406111954,-43055.45575025847,-41595.44203859412,-39979.607122421876,-38220.1849721447,-36333.93275833343,-34341.463870078,-32266.38830586572,-30134.327525358123,-27971.875246577925,-25805.57323972256,-23660.96304427228,-21561.762308540267,-19529.199888137748,-17581.52864946353,-15733.720570717924,-13997.336323812031,-12380.551761032177,-10888.316934630537,-9522.619422467404,-8282.82253627045,-7166.049997384244,-6167.591336953748,-5281.306056568602,-4500.008953972135,-3815.8235348548064,-3220.494749688063,-2705.656168196635,-2263.0499824584817,-1884.7008439387857,-1563.0464867887606,-1291.0294142750079,-1062.154703380458,-870.5193073942352,-710.818205808339,-578.3324596999262,-468.90376434385314,-378.89952177870276,-305.171843147245,-245.0132786564474,-196.11149396432936,-156.5045866101955],\"type\":\"scatter\",\"xaxis\":\"x2\",\"yaxis\":\"y2\"},{\"mode\":\"lines\",\"name\":\"Total_PnL\",\"x\":[30,31,32,33,34,35,36,37,38,39,40,41,42,43,44,45,46,47,48,49,50,51,52,53,54,55,56,57,58,59,60,61,62,63,64,65,66,67,68,69,70,71,72,73,74,75,76,77,78,79,80,81,82,83,84,85,86,87,88,89,90,91,92,93,94,95,96,97,98,99,100],\"y\":[18892290.07889141,18311705.304778416,17731130.28859216,17150575.407672197,16570059.761021381,15989616.631268952,15409301.159806967,14829200.52131621,14249446.663369384,13670231.372622628,13091823.074311785,12514584.414951611,11938989.374695577,11365638.45727487,10795270.44950562,10228769.346012829,9667165.291767241,9111628.777646724,8563457.789178621,8024058.10453422,7494917.413428667,6977574.33951553,6473583.762621563,5984480.035216352,5511739.765150684,5056745.80101905,4620753.92326832,4204863.53437048,3809993.378046362,3436863.023288898,3085980.5443138704,2757636.5300965104,2451904.2810579212,2168645.806717182,1907523.0346628856,1668013.4831806428,1449429.5398976791,1250940.4270818105,1071595.9187573944,910350.9015742803,766089.9346849942,637651.0567351603,523848.20259797527,423491.7205108481,335406.6138290274,258448.2633995759,191515.510339406,133561.08985378125,83599.5011908249,40712.47488585819,4052.2554554120998,-27157.043827722555,-53619.736063027565,-75970.22132893073,-94775.73438539503,-110539.9168962436,-123706.97450139614,-134666.2065964946,-143756.72663616802,-151272.22133174026,-157465.62680800312,-162553.6275340663,-166720.90891357977,-170124.11637627584,-172895.49247463275,-175146.17887460074,-176969.18240351774,-178442.01374864156,-179629.0143142864,-180583.3915009083,-181348.9856251068],\"type\":\"scatter\",\"xaxis\":\"x\",\"yaxis\":\"y\"},{\"mode\":\"lines\",\"name\":\"Total_Delta\",\"x\":[30,31,32,33,34,35,36,37,38,39,40,41,42,43,44,45,46,47,48,49,50,51,52,53,54,55,56,57,58,59,60,61,62,63,64,65,66,67,68,69,70,71,72,73,74,75,76,77,78,79,80,81,82,83,84,85,86,87,88,89,90,91,92,93,94,95,96,97,98,99,100],\"y\":[-349997.18674697576,-349993.2724691616,-349984.91479356796,-349968.11432541005,-349936.1651755988,-349878.4362222887,-349778.932780133,-349614.74288483313,-349354.5288114866,-348957.2667960116,-348371.4549463229,-347534.99395403883,-346375.8965155238,-344813.90489163686,-342763.0025962158,-340134.70954641234,-336841.9640072187,-332803.33077730495,-327947.2405670852,-322215.96275926894,-315569.0404077989,-307985.96650888224,-299467.9462305163,-290038.6623021454,-279744.03227130463,-268651.0105926797,-256845.54134445553,-244429.80662903044,-231518.94100016096,-218237.3944107957,-204715.1267998277,-191083.80848038662,-177473.1839614081,-164007.73463157925,-150803.74961066674,-137966.885633696,-125590.26756788374,-113753.15245915586,-102520.1531404586,-91940.99353235512,-82050.74774533015,-72870.49960786212,-64408.34864604623,-56660.682861465895,-49613.63762170913,-43244.66305856011,-37524.128832025315,-32416.904114053636,-27883.861283832368,-23883.263248526964,-20372.005741474382,-17306.696768008,-14644.565085607275,-12344.197898228793,-10366.114644120955,-8673.188824037548,-7230.933321244093,-6007.666753461333,-4974.579268365003,-4105.71607297941,-3377.8961029977854,-2770.581809603156,-2265.7142655308826,-1847.5258368184423,-1502.3406679700925,-1218.3712902752332,-985.5178601500036,-795.1749147712461,-640.0491221057347,-513.9903103702881,-411.83708346291814],\"type\":\"scatter\",\"xaxis\":\"x2\",\"yaxis\":\"y2\"}],                        {\"template\":{\"data\":{\"histogram2dcontour\":[{\"type\":\"histogram2dcontour\",\"colorbar\":{\"outlinewidth\":0,\"ticks\":\"\"},\"colorscale\":[[0.0,\"#0d0887\"],[0.1111111111111111,\"#46039f\"],[0.2222222222222222,\"#7201a8\"],[0.3333333333333333,\"#9c179e\"],[0.4444444444444444,\"#bd3786\"],[0.5555555555555556,\"#d8576b\"],[0.6666666666666666,\"#ed7953\"],[0.7777777777777778,\"#fb9f3a\"],[0.8888888888888888,\"#fdca26\"],[1.0,\"#f0f921\"]]}],\"choropleth\":[{\"type\":\"choropleth\",\"colorbar\":{\"outlinewidth\":0,\"ticks\":\"\"}}],\"histogram2d\":[{\"type\":\"histogram2d\",\"colorbar\":{\"outlinewidth\":0,\"ticks\":\"\"},\"colorscale\":[[0.0,\"#0d0887\"],[0.1111111111111111,\"#46039f\"],[0.2222222222222222,\"#7201a8\"],[0.3333333333333333,\"#9c179e\"],[0.4444444444444444,\"#bd3786\"],[0.5555555555555556,\"#d8576b\"],[0.6666666666666666,\"#ed7953\"],[0.7777777777777778,\"#fb9f3a\"],[0.8888888888888888,\"#fdca26\"],[1.0,\"#f0f921\"]]}],\"heatmap\":[{\"type\":\"heatmap\",\"colorbar\":{\"outlinewidth\":0,\"ticks\":\"\"},\"colorscale\":[[0.0,\"#0d0887\"],[0.1111111111111111,\"#46039f\"],[0.2222222222222222,\"#7201a8\"],[0.3333333333333333,\"#9c179e\"],[0.4444444444444444,\"#bd3786\"],[0.5555555555555556,\"#d8576b\"],[0.6666666666666666,\"#ed7953\"],[0.7777777777777778,\"#fb9f3a\"],[0.8888888888888888,\"#fdca26\"],[1.0,\"#f0f921\"]]}],\"heatmapgl\":[{\"type\":\"heatmapgl\",\"colorbar\":{\"outlinewidth\":0,\"ticks\":\"\"},\"colorscale\":[[0.0,\"#0d0887\"],[0.1111111111111111,\"#46039f\"],[0.2222222222222222,\"#7201a8\"],[0.3333333333333333,\"#9c179e\"],[0.4444444444444444,\"#bd3786\"],[0.5555555555555556,\"#d8576b\"],[0.6666666666666666,\"#ed7953\"],[0.7777777777777778,\"#fb9f3a\"],[0.8888888888888888,\"#fdca26\"],[1.0,\"#f0f921\"]]}],\"contourcarpet\":[{\"type\":\"contourcarpet\",\"colorbar\":{\"outlinewidth\":0,\"ticks\":\"\"}}],\"contour\":[{\"type\":\"contour\",\"colorbar\":{\"outlinewidth\":0,\"ticks\":\"\"},\"colorscale\":[[0.0,\"#0d0887\"],[0.1111111111111111,\"#46039f\"],[0.2222222222222222,\"#7201a8\"],[0.3333333333333333,\"#9c179e\"],[0.4444444444444444,\"#bd3786\"],[0.5555555555555556,\"#d8576b\"],[0.6666666666666666,\"#ed7953\"],[0.7777777777777778,\"#fb9f3a\"],[0.8888888888888888,\"#fdca26\"],[1.0,\"#f0f921\"]]}],\"surface\":[{\"type\":\"surface\",\"colorbar\":{\"outlinewidth\":0,\"ticks\":\"\"},\"colorscale\":[[0.0,\"#0d0887\"],[0.1111111111111111,\"#46039f\"],[0.2222222222222222,\"#7201a8\"],[0.3333333333333333,\"#9c179e\"],[0.4444444444444444,\"#bd3786\"],[0.5555555555555556,\"#d8576b\"],[0.6666666666666666,\"#ed7953\"],[0.7777777777777778,\"#fb9f3a\"],[0.8888888888888888,\"#fdca26\"],[1.0,\"#f0f921\"]]}],\"mesh3d\":[{\"type\":\"mesh3d\",\"colorbar\":{\"outlinewidth\":0,\"ticks\":\"\"}}],\"scatter\":[{\"fillpattern\":{\"fillmode\":\"overlay\",\"size\":10,\"solidity\":0.2},\"type\":\"scatter\"}],\"parcoords\":[{\"type\":\"parcoords\",\"line\":{\"colorbar\":{\"outlinewidth\":0,\"ticks\":\"\"}}}],\"scatterpolargl\":[{\"type\":\"scatterpolargl\",\"marker\":{\"colorbar\":{\"outlinewidth\":0,\"ticks\":\"\"}}}],\"bar\":[{\"error_x\":{\"color\":\"#2a3f5f\"},\"error_y\":{\"color\":\"#2a3f5f\"},\"marker\":{\"line\":{\"color\":\"#E5ECF6\",\"width\":0.5},\"pattern\":{\"fillmode\":\"overlay\",\"size\":10,\"solidity\":0.2}},\"type\":\"bar\"}],\"scattergeo\":[{\"type\":\"scattergeo\",\"marker\":{\"colorbar\":{\"outlinewidth\":0,\"ticks\":\"\"}}}],\"scatterpolar\":[{\"type\":\"scatterpolar\",\"marker\":{\"colorbar\":{\"outlinewidth\":0,\"ticks\":\"\"}}}],\"histogram\":[{\"marker\":{\"pattern\":{\"fillmode\":\"overlay\",\"size\":10,\"solidity\":0.2}},\"type\":\"histogram\"}],\"scattergl\":[{\"type\":\"scattergl\",\"marker\":{\"colorbar\":{\"outlinewidth\":0,\"ticks\":\"\"}}}],\"scatter3d\":[{\"type\":\"scatter3d\",\"line\":{\"colorbar\":{\"outlinewidth\":0,\"ticks\":\"\"}},\"marker\":{\"colorbar\":{\"outlinewidth\":0,\"ticks\":\"\"}}}],\"scattermapbox\":[{\"type\":\"scattermapbox\",\"marker\":{\"colorbar\":{\"outlinewidth\":0,\"ticks\":\"\"}}}],\"scatterternary\":[{\"type\":\"scatterternary\",\"marker\":{\"colorbar\":{\"outlinewidth\":0,\"ticks\":\"\"}}}],\"scattercarpet\":[{\"type\":\"scattercarpet\",\"marker\":{\"colorbar\":{\"outlinewidth\":0,\"ticks\":\"\"}}}],\"carpet\":[{\"aaxis\":{\"endlinecolor\":\"#2a3f5f\",\"gridcolor\":\"white\",\"linecolor\":\"white\",\"minorgridcolor\":\"white\",\"startlinecolor\":\"#2a3f5f\"},\"baxis\":{\"endlinecolor\":\"#2a3f5f\",\"gridcolor\":\"white\",\"linecolor\":\"white\",\"minorgridcolor\":\"white\",\"startlinecolor\":\"#2a3f5f\"},\"type\":\"carpet\"}],\"table\":[{\"cells\":{\"fill\":{\"color\":\"#EBF0F8\"},\"line\":{\"color\":\"white\"}},\"header\":{\"fill\":{\"color\":\"#C8D4E3\"},\"line\":{\"color\":\"white\"}},\"type\":\"table\"}],\"barpolar\":[{\"marker\":{\"line\":{\"color\":\"#E5ECF6\",\"width\":0.5},\"pattern\":{\"fillmode\":\"overlay\",\"size\":10,\"solidity\":0.2}},\"type\":\"barpolar\"}],\"pie\":[{\"automargin\":true,\"type\":\"pie\"}]},\"layout\":{\"autotypenumbers\":\"strict\",\"colorway\":[\"#636efa\",\"#EF553B\",\"#00cc96\",\"#ab63fa\",\"#FFA15A\",\"#19d3f3\",\"#FF6692\",\"#B6E880\",\"#FF97FF\",\"#FECB52\"],\"font\":{\"color\":\"#2a3f5f\"},\"hovermode\":\"closest\",\"hoverlabel\":{\"align\":\"left\"},\"paper_bgcolor\":\"white\",\"plot_bgcolor\":\"#E5ECF6\",\"polar\":{\"bgcolor\":\"#E5ECF6\",\"angularaxis\":{\"gridcolor\":\"white\",\"linecolor\":\"white\",\"ticks\":\"\"},\"radialaxis\":{\"gridcolor\":\"white\",\"linecolor\":\"white\",\"ticks\":\"\"}},\"ternary\":{\"bgcolor\":\"#E5ECF6\",\"aaxis\":{\"gridcolor\":\"white\",\"linecolor\":\"white\",\"ticks\":\"\"},\"baxis\":{\"gridcolor\":\"white\",\"linecolor\":\"white\",\"ticks\":\"\"},\"caxis\":{\"gridcolor\":\"white\",\"linecolor\":\"white\",\"ticks\":\"\"}},\"coloraxis\":{\"colorbar\":{\"outlinewidth\":0,\"ticks\":\"\"}},\"colorscale\":{\"sequential\":[[0.0,\"#0d0887\"],[0.1111111111111111,\"#46039f\"],[0.2222222222222222,\"#7201a8\"],[0.3333333333333333,\"#9c179e\"],[0.4444444444444444,\"#bd3786\"],[0.5555555555555556,\"#d8576b\"],[0.6666666666666666,\"#ed7953\"],[0.7777777777777778,\"#fb9f3a\"],[0.8888888888888888,\"#fdca26\"],[1.0,\"#f0f921\"]],\"sequentialminus\":[[0.0,\"#0d0887\"],[0.1111111111111111,\"#46039f\"],[0.2222222222222222,\"#7201a8\"],[0.3333333333333333,\"#9c179e\"],[0.4444444444444444,\"#bd3786\"],[0.5555555555555556,\"#d8576b\"],[0.6666666666666666,\"#ed7953\"],[0.7777777777777778,\"#fb9f3a\"],[0.8888888888888888,\"#fdca26\"],[1.0,\"#f0f921\"]],\"diverging\":[[0,\"#8e0152\"],[0.1,\"#c51b7d\"],[0.2,\"#de77ae\"],[0.3,\"#f1b6da\"],[0.4,\"#fde0ef\"],[0.5,\"#f7f7f7\"],[0.6,\"#e6f5d0\"],[0.7,\"#b8e186\"],[0.8,\"#7fbc41\"],[0.9,\"#4d9221\"],[1,\"#276419\"]]},\"xaxis\":{\"gridcolor\":\"white\",\"linecolor\":\"white\",\"ticks\":\"\",\"title\":{\"standoff\":15},\"zerolinecolor\":\"white\",\"automargin\":true,\"zerolinewidth\":2},\"yaxis\":{\"gridcolor\":\"white\",\"linecolor\":\"white\",\"ticks\":\"\",\"title\":{\"standoff\":15},\"zerolinecolor\":\"white\",\"automargin\":true,\"zerolinewidth\":2},\"scene\":{\"xaxis\":{\"backgroundcolor\":\"#E5ECF6\",\"gridcolor\":\"white\",\"linecolor\":\"white\",\"showbackground\":true,\"ticks\":\"\",\"zerolinecolor\":\"white\",\"gridwidth\":2},\"yaxis\":{\"backgroundcolor\":\"#E5ECF6\",\"gridcolor\":\"white\",\"linecolor\":\"white\",\"showbackground\":true,\"ticks\":\"\",\"zerolinecolor\":\"white\",\"gridwidth\":2},\"zaxis\":{\"backgroundcolor\":\"#E5ECF6\",\"gridcolor\":\"white\",\"linecolor\":\"white\",\"showbackground\":true,\"ticks\":\"\",\"zerolinecolor\":\"white\",\"gridwidth\":2}},\"shapedefaults\":{\"line\":{\"color\":\"#2a3f5f\"}},\"annotationdefaults\":{\"arrowcolor\":\"#2a3f5f\",\"arrowhead\":0,\"arrowwidth\":1},\"geo\":{\"bgcolor\":\"white\",\"landcolor\":\"#E5ECF6\",\"subunitcolor\":\"white\",\"showland\":true,\"showlakes\":true,\"lakecolor\":\"white\"},\"title\":{\"x\":0.05},\"mapbox\":{\"style\":\"light\"}}},\"xaxis\":{\"anchor\":\"y\",\"domain\":[0.0,0.45],\"title\":{\"text\":\"Price\"}},\"yaxis\":{\"anchor\":\"x\",\"domain\":[0.0,1.0],\"title\":{\"text\":\"Pnl\"}},\"xaxis2\":{\"anchor\":\"y2\",\"domain\":[0.55,1.0],\"title\":{\"text\":\"Price\"}},\"yaxis2\":{\"anchor\":\"x2\",\"domain\":[0.0,1.0],\"title\":{\"text\":\"Delta\"}},\"title\":{\"text\":\"Todays Option Pos (PnL and Delta)\",\"x\":0.5,\"xanchor\":\"center\"},\"barmode\":\"stack\"},                        {\"responsive\": true}                    ).then(function(){\n",
       "                            \n",
       "var gd = document.getElementById('c2b27a55-8f2e-465f-9f0a-e5b72dfed5a5');\n",
       "var x = new MutationObserver(function (mutations, observer) {{\n",
       "        var display = window.getComputedStyle(gd).display;\n",
       "        if (!display || display === 'none') {{\n",
       "            console.log([gd, 'removed!']);\n",
       "            Plotly.purge(gd);\n",
       "            observer.disconnect();\n",
       "        }}\n",
       "}});\n",
       "\n",
       "// Listen for the removal of the full notebook cells\n",
       "var notebookContainer = gd.closest('#notebook-container');\n",
       "if (notebookContainer) {{\n",
       "    x.observe(notebookContainer, {childList: true});\n",
       "}}\n",
       "\n",
       "// Listen for the clearing of the current output cell\n",
       "var outputEl = gd.closest('.output');\n",
       "if (outputEl) {{\n",
       "    x.observe(outputEl, {childList: true});\n",
       "}}\n",
       "\n",
       "                        })                };                });            </script>        </div>"
      ]
     },
     "metadata": {},
     "output_type": "display_data"
    }
   ],
   "source": [
    "pnl_delta_plot(end_this_wk)"
   ]
  },
  {
   "cell_type": "markdown",
   "id": "1e750bed-711b-4f18-94e3-eff90a310a44",
   "metadata": {},
   "source": [
    "## End of Next Week"
   ]
  },
  {
   "cell_type": "code",
   "execution_count": 25,
   "id": "5b6cbac5-ca2d-4f4c-a598-827398742811",
   "metadata": {},
   "outputs": [
    {
     "data": {
      "application/vnd.plotly.v1+json": {
       "config": {
        "plotlyServerURL": "https://plot.ly"
       },
       "data": [
        {
         "name": "EUA Mar25 60P",
         "type": "scatter",
         "x": [
          30,
          31,
          32,
          33,
          34,
          35,
          36,
          37,
          38,
          39,
          40,
          41,
          42,
          43,
          44,
          45,
          46,
          47,
          48,
          49,
          50,
          51,
          52,
          53,
          54,
          55,
          56,
          57,
          58,
          59,
          60,
          61,
          62,
          63,
          64,
          65,
          66,
          67,
          68,
          69,
          70,
          71,
          72,
          73,
          74,
          75,
          76,
          77,
          78,
          79,
          80,
          81,
          82,
          83,
          84,
          85,
          86,
          87,
          88,
          89,
          90,
          91,
          92,
          93,
          94,
          95,
          96,
          97,
          98,
          99,
          100
         ],
         "xaxis": "x",
         "y": [
          9899813.08119306,
          9567884.78953424,
          9235958.928131545,
          8904038.80179953,
          8572131.316044142,
          8240249.98760779,
          7908419.716213044,
          7576683.850682813,
          7245113.981068589,
          6913822.642623006,
          6582978.725259139,
          6252824.878570111,
          5923695.659594739,
          5596034.686256155,
          5270408.737574759,
          4947516.668258123,
          4628191.227083621,
          4313392.3811578825,
          4004191.4948569112,
          3701746.594449503,
          3407269.845734703,
          3121989.1608569087,
          2847106.4307802776,
          2583755.1864018515,
          2332960.5014770785,
          2095603.6836326644,
          1872393.8088021667,
          1663847.5142791872,
          1470277.7594341198,
          1291791.5702047742,
          1128296.1695252806,
          979512.4074745686,
          844994.0674802515,
          724151.4437762306,
          616277.5493200491,
          520575.39954569313,
          436184.99588324316,
          362208.8719564586,
          297735.33434625284,
          241858.80250788113,
          193696.9082303414,
          152404.23947790888,
          117182.79803143776,
          87289.38168693711,
          62040.20061210012,
          40813.09750838099,
          23047.768037765607,
          8244.378022465,
          -4039.0461620357314,
          -14190.111574598697,
          -22546.1370728413,
          -29398.562360010317,
          -34997.480672278696,
          -39556.13247128913,
          -43255.23793599816,
          -46247.081488866635,
          -48659.29160872818,
          -50598.283773279974,
          -52152.35383852482,
          -53394.42399464305,
          -54384.45423679783,
          -55171.53969167579,
          -55795.7187712811,
          -56289.519565916526,
          -56679.27265657432,
          -56986.218068831906,
          -57227.43277734773,
          -57416.6033026033,
          -57564.66575543356,
          -57680.333359226155,
          -57770.529145604865
         ],
         "yaxis": "y"
        },
        {
         "name": "EUA Mar25 60P",
         "type": "scatter",
         "x": [
          30,
          31,
          32,
          33,
          34,
          35,
          36,
          37,
          38,
          39,
          40,
          41,
          42,
          43,
          44,
          45,
          46,
          47,
          48,
          49,
          50,
          51,
          52,
          53,
          54,
          55,
          56,
          57,
          58,
          59,
          60,
          61,
          62,
          63,
          64,
          65,
          66,
          67,
          68,
          69,
          70,
          71,
          72,
          73,
          74,
          75,
          76,
          77,
          78,
          79,
          80,
          81,
          82,
          83,
          84,
          85,
          86,
          87,
          88,
          89,
          90,
          91,
          92,
          93,
          94,
          95,
          96,
          97,
          98,
          99,
          100
         ],
         "xaxis": "x2",
         "y": [
          -199999.49519433684,
          -199998.59698613593,
          -199996.3875392379,
          -199991.32973003172,
          -199980.49428698162,
          -199958.6606471486,
          -199917.09089525905,
          -199841.9996398354,
          -199712.82272367098,
          -199500.4786754258,
          -199165.89841054945,
          -198659.14742129776,
          -197919.4605294533,
          -196876.44197780307,
          -195452.55680661864,
          -193566.87084178888,
          -191139.81452394286,
          -188098.5827412619,
          -184382.6681957535,
          -179948.97968836533,
          -174776.02606383967,
          -168866.74486137618,
          -162249.70425060793,
          -154978.5830630338,
          -147130.01040831397,
          -138800.00017421952,
          -130099.32961795565,
          -121148.27619438442,
          -112071.1416425503,
          -102990.96277326706,
          -94024.74460328279,
          -85279.46600300712,
          -76849.01355965945,
          -68812.10708971435,
          -61231.198777707265,
          -54152.262865491575,
          -47605.34679637307,
          -41605.72781864329,
          -36155.509440295755,
          -31245.496736756184,
          -26857.20469333437,
          -22964.87580367057,
          -19537.408664808863,
          -16540.12549946293,
          -13936.33126817837,
          -11688.63886827083,
          -9760.05303636498,
          -8114.819678204355,
          -6719.057537577777,
          -5541.195750283001,
          -4552.244433656072,
          -3725.926631743115,
          -3038.6992666876276,
          -2469.688789116553,
          -2000.5644515998845,
          -1615.3689404881711,
          -1300.3227950660666,
          -1043.6158388171357,
          -835.1958931791969,
          -666.5624271706027,
          -530.5705574568665,
          -421.2489587954726,
          -333.6337561931968,
          -263.61931409839553,
          -207.82597279058734,
          -163.48416300551173,
          -128.33391256710235,
          -100.53850225455463,
          -78.61089565437408,
          -61.35152779920272,
          -47.79606368343625
         ],
         "yaxis": "y2"
        },
        {
         "name": "EUA Mar25 65P",
         "type": "scatter",
         "x": [
          30,
          31,
          32,
          33,
          34,
          35,
          36,
          37,
          38,
          39,
          40,
          41,
          42,
          43,
          44,
          45,
          46,
          47,
          48,
          49,
          50,
          51,
          52,
          53,
          54,
          55,
          56,
          57,
          58,
          59,
          60,
          61,
          62,
          63,
          64,
          65,
          66,
          67,
          68,
          69,
          70,
          71,
          72,
          73,
          74,
          75,
          76,
          77,
          78,
          79,
          80,
          81,
          82,
          83,
          84,
          85,
          86,
          87,
          88,
          89,
          90,
          91,
          92,
          93,
          94,
          95,
          96,
          97,
          98,
          99,
          100
         ],
         "xaxis": "x",
         "y": [
          5748012.894116381,
          5582048.017947532,
          5416083.149549407,
          5250118.30681866,
          5084153.541768398,
          4918188.993534865,
          4752225.006725997,
          4586262.375840829,
          4420302.814250303,
          4254349.793403666,
          4088409.9477945315,
          3922495.2812663494,
          3756626.4230578328,
          3590837.1485697576,
          3425180.284852215,
          3259734.9587268815,
          3094614.9254677147,
          2929977.463840748,
          2766032.0788993407,
          2603048.0643501207,
          2441359.8861832004,
          2281369.3905567774,
          2123544.022895257,
          1968410.5586129462,
          1816544.252681882,
          1668553.76265485,
          1525062.6278529756,
          1386688.4397427093,
          1254021.0711989254,
          1127601.4203872774,
          1007902.0646565466,
          895311.0271698784,
          790119.5654162947,
          692514.5366993141,
          602575.5240451712,
          520276.5559696838,
          445491.95643617585,
          378005.6378477811,
          317523.00962310587,
          263684.61720080354,
          216080.6424716209,
          174265.4723925492,
          137771.66081196596,
          106122.75181053829,
          78844.58506954483,
          55474.85155232326,
          35570.80112103651,
          18715.116096144164,
          4520.052913716195,
          -7369.982630494719,
          -17277.22105428006,
          -25490.45071946999,
          -32265.847370956213,
          -37828.49388416821,
          -42374.39148815919,
          -46072.78838557319,
          -49068.67904265292,
          -51485.35518951084,
          -53426.91607184672,
          -54980.66959765843,
          -56219.377062424515,
          -57203.31182643774,
          -57982.11665528586,
          -58596.45561476676,
          -59079.46475673304,
          -59458.01173131189,
          -59753.778324229184,
          -59984.1821456984,
          -60163.15465794423,
          -60301.7927464094,
          -60408.90039025189
         ],
         "yaxis": "y"
        },
        {
         "name": "EUA Mar25 65P",
         "type": "scatter",
         "x": [
          30,
          31,
          32,
          33,
          34,
          35,
          36,
          37,
          38,
          39,
          40,
          41,
          42,
          43,
          44,
          45,
          46,
          47,
          48,
          49,
          50,
          51,
          52,
          53,
          54,
          55,
          56,
          57,
          58,
          59,
          60,
          61,
          62,
          63,
          64,
          65,
          66,
          67,
          68,
          69,
          70,
          71,
          72,
          73,
          74,
          75,
          76,
          77,
          78,
          79,
          80,
          81,
          82,
          83,
          84,
          85,
          86,
          87,
          88,
          89,
          90,
          91,
          92,
          93,
          94,
          95,
          96,
          97,
          98,
          99,
          100
         ],
         "xaxis": "x2",
         "y": [
          -99999.99921983236,
          -99999.99688562247,
          -99999.98873345765,
          -99999.96277397287,
          -99999.88686581905,
          -99999.68173822298,
          -99999.16649860435,
          -99997.95725412955,
          -99995.29284899247,
          -99989.75750919367,
          -99978.87176280377,
          -99958.53380769711,
          -99922.31572479825,
          -99860.65211285012,
          -99759.99877460762,
          -99602.07840027724,
          -99363.35893727989,
          -99014.91880552647,
          -98522.83450398158,
          -97849.17884030982,
          -96953.64666351092,
          -95795.74000185613,
          -94337.36002072034,
          -92545.58402745078,
          -90395.3642067916,
          -87871.87823551346,
          -84972.2914886582,
          -81706.75114522668,
          -78098.51426564601,
          -74183.20235067914,
          -70007.26127526669,
          -65625.77698967102,
          -61099.84653491943,
          -56493.72730680351,
          -51871.98561655746,
          -47296.84212069544,
          -42825.87241650885,
          -38510.172733637446,
          -34393.049757323315,
          -30509.245793948405,
          -26884.669874399515,
          -23536.574485289497,
          -20474.09735864567,
          -17699.07776940007,
          -15207.055770138433,
          -12988.36884719845,
          -11029.27150027897,
          -9313.017172220727,
          -7820.856979202573,
          -6532.924369816051,
          -5428.988134692836,
          -4489.067448865902,
          -3693.9115515413177,
          -3025.353220136395,
          -2466.5495423854986,
          -2002.125922712339,
          -1618.2401314690287,
          -1302.5828878469924,
          -1044.3303094689438,
          -834.0618722739945,
          -663.6555584114467,
          -526.1698259666159,
          -415.72005688108595,
          -327.3553249033556,
          -256.9397304171828,
          -201.0411988155214,
          -156.82953584648106,
          -121.98466329875757,
          -94.61529791376933,
          -73.18785681728058,
          -56.46504379954731
         ],
         "yaxis": "y2"
        },
        {
         "name": "EUA Mar25 70P",
         "type": "scatter",
         "x": [
          30,
          31,
          32,
          33,
          34,
          35,
          36,
          37,
          38,
          39,
          40,
          41,
          42,
          43,
          44,
          45,
          46,
          47,
          48,
          49,
          50,
          51,
          52,
          53,
          54,
          55,
          56,
          57,
          58,
          59,
          60,
          61,
          62,
          63,
          64,
          65,
          66,
          67,
          68,
          69,
          70,
          71,
          72,
          73,
          74,
          75,
          76,
          77,
          78,
          79,
          80,
          81,
          82,
          83,
          84,
          85,
          86,
          87,
          88,
          89,
          90,
          91,
          92,
          93,
          94,
          95,
          96,
          97,
          98,
          99,
          100
         ],
         "xaxis": "x",
         "y": [
          3253818.5061270506,
          3170836.0666348403,
          3087853.6271477677,
          3004871.187686016,
          2921888.7483360968,
          2838906.3094324977,
          2755923.8721502437,
          2672941.440264678,
          2589959.0249373186,
          2506976.6566984057,
          2423994.4131994653,
          2341012.4789282377,
          2258031.2650328763,
          2175051.634303327,
          2092075.2975876457,
          2009105.4708757463,
          1926147.901896227,
          1843212.3839951877,
          1760314.8647804335,
          1677480.219872548,
          1594745.693931119,
          1512164.9136704719,
          1429812.25997544,
          1347787.2647400156,
          1266218.5938618402,
          1185267.1131419663,
          1105127.5271843425,
          1026028.1432167396,
          948228.4415241858,
          872014.3196674987,
          797691.0966681095,
          725574.5874990171,
          655980.7578846591,
          589214.618666186,
          525559.0997177446,
          465264.6476997361,
          408540.2225870892,
          355546.2370417371,
          306389.80910968455,
          261122.50452295443,
          219740.55210306708,
          182187.34348271793,
          148357.89075721017,
          118104.82104936586,
          91245.43776370215,
          67569.37187382368,
          46846.37646486573,
          28833.875123987887,
          13283.949905673873,
          -50.46193028291162,
          -11410.30961924343,
          -21026.178990657038,
          -29115.054492770138,
          -35878.04359897676,
          -41498.97518547001,
          -46143.75830214791,
          -49960.374823429396,
          -53079.376715731516,
          -55614.76379602671,
          -57665.128593085064,
          -59314.96916732006,
          -60636.08671404818,
          -61689.00104939898,
          -62524.33260864393,
          -63184.113666443154,
          -63703.00370560011,
          -64109.3940414895,
          -64426.3949588855,
          -64672.70486686819,
          -64863.36553408596,
          -65010.41057896797
         ],
         "yaxis": "y"
        },
        {
         "name": "EUA Mar25 70P",
         "type": "scatter",
         "x": [
          30,
          31,
          32,
          33,
          34,
          35,
          36,
          37,
          38,
          39,
          40,
          41,
          42,
          43,
          44,
          45,
          46,
          47,
          48,
          49,
          50,
          51,
          52,
          53,
          54,
          55,
          56,
          57,
          58,
          59,
          60,
          61,
          62,
          63,
          64,
          65,
          66,
          67,
          68,
          69,
          70,
          71,
          72,
          73,
          74,
          75,
          76,
          77,
          78,
          79,
          80,
          81,
          82,
          83,
          84,
          85,
          86,
          87,
          88,
          89,
          90,
          91,
          92,
          93,
          94,
          95,
          96,
          97,
          98,
          99,
          100
         ],
         "xaxis": "x2",
         "y": [
          -49999.999999769134,
          -49999.999998577965,
          -49999.99999226137,
          -49999.99996243006,
          -49999.99983585258,
          -49999.999349473524,
          -49999.9976448176,
          -49999.99216001886,
          -49999.97586299545,
          -49999.9309043802,
          -49999.81518529235,
          -49999.53603782118,
          -49998.9023344538,
          -49997.54338461789,
          -49994.780921428435,
          -49989.44071822493,
          -49979.59441578218,
          -49962.231127146166,
          -49932.872488895075,
          -49885.162759669765,
          -49810.48443697368,
          -49697.66551850887,
          -49532.85240493333,
          -49299.61870221991,
          -48979.36291246328,
          -48552.01798057133,
          -47997.056532099305,
          -47294.73333775718,
          -46427.468156371666,
          -45381.244396905684,
          -44146.887030745274,
          -42721.08918402861,
          -41107.080050666555,
          -39314.8635724286,
          -37361.00211291586,
          -35267.965613163884,
          -33063.108259535715,
          -30777.366590897116,
          -28443.792183619877,
          -26096.037640490555,
          -23766.90756301677,
          -21487.06897647204,
          -19283.99165796769,
          -17181.161613382134,
          -15197.583920641455,
          -13347.567022473888,
          -11640.761176875907,
          -10082.41012560951,
          -8673.767273328054,
          -7412.625290096236,
          -6293.910128550495,
          -5310.295826065203,
          -4452.803938508987,
          -3711.359915344914,
          -3075.2872499837267,
          -2533.7281277685806,
          -2075.986086597331,
          -1691.7916581183356,
          -1371.4960059577786,
          -1106.2002913104664,
          -887.8300347126111,
          -709.1643144174986,
          -563.8294714921277,
          -446.26629677489984,
          -351.6786486994161,
          -275.97025473400925,
          -215.67520829537946,
          -167.886478442425,
          -130.18566160292178,
          -100.57625748264853,
          -77.42195947871289
         ],
         "yaxis": "y2"
        },
        {
         "mode": "lines",
         "name": "Total_PnL",
         "type": "scatter",
         "x": [
          30,
          31,
          32,
          33,
          34,
          35,
          36,
          37,
          38,
          39,
          40,
          41,
          42,
          43,
          44,
          45,
          46,
          47,
          48,
          49,
          50,
          51,
          52,
          53,
          54,
          55,
          56,
          57,
          58,
          59,
          60,
          61,
          62,
          63,
          64,
          65,
          66,
          67,
          68,
          69,
          70,
          71,
          72,
          73,
          74,
          75,
          76,
          77,
          78,
          79,
          80,
          81,
          82,
          83,
          84,
          85,
          86,
          87,
          88,
          89,
          90,
          91,
          92,
          93,
          94,
          95,
          96,
          97,
          98,
          99,
          100
         ],
         "xaxis": "x",
         "y": [
          18901644.48143649,
          18320768.87411661,
          17739895.70482872,
          17159028.296304207,
          16578173.606148638,
          15997345.290575152,
          15416568.595089285,
          14835887.66678832,
          14255375.82025621,
          13675149.092725078,
          13095383.086253136,
          12516332.638764698,
          11938353.347685449,
          11361923.46912924,
          10787664.32001462,
          10216357.09786075,
          9648954.054447562,
          9086582.228993818,
          8530538.438536685,
          7982274.878672172,
          7443375.425849022,
          6915523.465084158,
          6400462.713650974,
          5899953.009754813,
          5415723.348020801,
          4949424.559429481,
          4502583.963839484,
          4076564.0972386356,
          3672527.272157231,
          3291407.31025955,
          2933889.330849936,
          2600398.022143464,
          2291094.390781205,
          2005880.5991417307,
          1744412.173082965,
          1506116.603215113,
          1290217.1749065083,
          1095760.746845977,
          921648.1530790433,
          766665.9242316391,
          629518.1028050294,
          508857.055353176,
          403312.34960061393,
          311516.95454684127,
          232130.2234453471,
          163857.32093452793,
          105464.94562366785,
          55793.36924259705,
          13764.956657354336,
          -21610.55613537633,
          -51233.667746364794,
          -75915.19207013735,
          -96378.38253600505,
          -113262.6699544341,
          -127128.60460962736,
          -138463.62817658775,
          -147688.34547481049,
          -155163.01567852232,
          -161194.03370639824,
          -166040.22218538655,
          -169918.8004665424,
          -173010.93823216172,
          -175466.83647596595,
          -177410.3077893272,
          -178942.85107975052,
          -180147.2335057439,
          -181090.6051430664,
          -181827.1804071872,
          -182400.525280246,
          -182845.49163972153,
          -183189.84011482474
         ],
         "yaxis": "y"
        },
        {
         "mode": "lines",
         "name": "Total_Delta",
         "type": "scatter",
         "x": [
          30,
          31,
          32,
          33,
          34,
          35,
          36,
          37,
          38,
          39,
          40,
          41,
          42,
          43,
          44,
          45,
          46,
          47,
          48,
          49,
          50,
          51,
          52,
          53,
          54,
          55,
          56,
          57,
          58,
          59,
          60,
          61,
          62,
          63,
          64,
          65,
          66,
          67,
          68,
          69,
          70,
          71,
          72,
          73,
          74,
          75,
          76,
          77,
          78,
          79,
          80,
          81,
          82,
          83,
          84,
          85,
          86,
          87,
          88,
          89,
          90,
          91,
          92,
          93,
          94,
          95,
          96,
          97,
          98,
          99,
          100
         ],
         "xaxis": "x2",
         "y": [
          -349999.4944139384,
          -349998.5938703364,
          -349996.3762649569,
          -349991.29246643465,
          -349980.3809886532,
          -349958.3417348451,
          -349916.255038681,
          -349839.94905398384,
          -349708.09143565886,
          -349490.1670889997,
          -349144.58535864553,
          -348617.21726681606,
          -347840.67858870537,
          -346734.63747527107,
          -345207.3365026547,
          -343158.38996029104,
          -340482.7678770049,
          -337075.73267393454,
          -332838.3751886302,
          -327683.3212883449,
          -321540.1571643243,
          -314360.1503817412,
          -306119.9166762616,
          -296823.7857927045,
          -286504.7375275688,
          -275223.8963903043,
          -263068.67763871315,
          -250149.76067736826,
          -236597.12406456796,
          -222555.40952085188,
          -208178.89290929475,
          -193626.33217670675,
          -179055.94014524543,
          -164620.69796894648,
          -150464.1865071806,
          -136717.0705993509,
          -123494.32747241764,
          -110893.26714317786,
          -98992.35138123894,
          -87850.78017119515,
          -77508.78213075065,
          -67988.51926543211,
          -59295.49768142223,
          -51420.364882245136,
          -44340.970958958256,
          -38024.57473794316,
          -32430.08571351986,
          -27510.246976034592,
          -23213.681790108407,
          -19486.745410195286,
          -16275.142696899402,
          -13525.289906674221,
          -11185.414756737933,
          -9206.401924597862,
          -7542.40124396911,
          -6151.2229909690905,
          -4994.549013132426,
          -4037.9903847824635,
          -3251.0222086059193,
          -2606.8245907550636,
          -2082.056150580924,
          -1656.5830991795872,
          -1313.1832845664103,
          -1037.240935776651,
          -816.4443519071863,
          -640.4956165550424,
          -500.83865670896284,
          -390.40964399573716,
          -303.4118551710652,
          -235.11564209913183,
          -181.68306696169645
         ],
         "yaxis": "y2"
        }
       ],
       "layout": {
        "autosize": true,
        "barmode": "stack",
        "template": {
         "data": {
          "bar": [
           {
            "error_x": {
             "color": "#2a3f5f"
            },
            "error_y": {
             "color": "#2a3f5f"
            },
            "marker": {
             "line": {
              "color": "#E5ECF6",
              "width": 0.5
             },
             "pattern": {
              "fillmode": "overlay",
              "size": 10,
              "solidity": 0.2
             }
            },
            "type": "bar"
           }
          ],
          "barpolar": [
           {
            "marker": {
             "line": {
              "color": "#E5ECF6",
              "width": 0.5
             },
             "pattern": {
              "fillmode": "overlay",
              "size": 10,
              "solidity": 0.2
             }
            },
            "type": "barpolar"
           }
          ],
          "carpet": [
           {
            "aaxis": {
             "endlinecolor": "#2a3f5f",
             "gridcolor": "white",
             "linecolor": "white",
             "minorgridcolor": "white",
             "startlinecolor": "#2a3f5f"
            },
            "baxis": {
             "endlinecolor": "#2a3f5f",
             "gridcolor": "white",
             "linecolor": "white",
             "minorgridcolor": "white",
             "startlinecolor": "#2a3f5f"
            },
            "type": "carpet"
           }
          ],
          "choropleth": [
           {
            "colorbar": {
             "outlinewidth": 0,
             "ticks": ""
            },
            "type": "choropleth"
           }
          ],
          "contour": [
           {
            "colorbar": {
             "outlinewidth": 0,
             "ticks": ""
            },
            "colorscale": [
             [
              0,
              "#0d0887"
             ],
             [
              0.1111111111111111,
              "#46039f"
             ],
             [
              0.2222222222222222,
              "#7201a8"
             ],
             [
              0.3333333333333333,
              "#9c179e"
             ],
             [
              0.4444444444444444,
              "#bd3786"
             ],
             [
              0.5555555555555556,
              "#d8576b"
             ],
             [
              0.6666666666666666,
              "#ed7953"
             ],
             [
              0.7777777777777778,
              "#fb9f3a"
             ],
             [
              0.8888888888888888,
              "#fdca26"
             ],
             [
              1,
              "#f0f921"
             ]
            ],
            "type": "contour"
           }
          ],
          "contourcarpet": [
           {
            "colorbar": {
             "outlinewidth": 0,
             "ticks": ""
            },
            "type": "contourcarpet"
           }
          ],
          "heatmap": [
           {
            "colorbar": {
             "outlinewidth": 0,
             "ticks": ""
            },
            "colorscale": [
             [
              0,
              "#0d0887"
             ],
             [
              0.1111111111111111,
              "#46039f"
             ],
             [
              0.2222222222222222,
              "#7201a8"
             ],
             [
              0.3333333333333333,
              "#9c179e"
             ],
             [
              0.4444444444444444,
              "#bd3786"
             ],
             [
              0.5555555555555556,
              "#d8576b"
             ],
             [
              0.6666666666666666,
              "#ed7953"
             ],
             [
              0.7777777777777778,
              "#fb9f3a"
             ],
             [
              0.8888888888888888,
              "#fdca26"
             ],
             [
              1,
              "#f0f921"
             ]
            ],
            "type": "heatmap"
           }
          ],
          "heatmapgl": [
           {
            "colorbar": {
             "outlinewidth": 0,
             "ticks": ""
            },
            "colorscale": [
             [
              0,
              "#0d0887"
             ],
             [
              0.1111111111111111,
              "#46039f"
             ],
             [
              0.2222222222222222,
              "#7201a8"
             ],
             [
              0.3333333333333333,
              "#9c179e"
             ],
             [
              0.4444444444444444,
              "#bd3786"
             ],
             [
              0.5555555555555556,
              "#d8576b"
             ],
             [
              0.6666666666666666,
              "#ed7953"
             ],
             [
              0.7777777777777778,
              "#fb9f3a"
             ],
             [
              0.8888888888888888,
              "#fdca26"
             ],
             [
              1,
              "#f0f921"
             ]
            ],
            "type": "heatmapgl"
           }
          ],
          "histogram": [
           {
            "marker": {
             "pattern": {
              "fillmode": "overlay",
              "size": 10,
              "solidity": 0.2
             }
            },
            "type": "histogram"
           }
          ],
          "histogram2d": [
           {
            "colorbar": {
             "outlinewidth": 0,
             "ticks": ""
            },
            "colorscale": [
             [
              0,
              "#0d0887"
             ],
             [
              0.1111111111111111,
              "#46039f"
             ],
             [
              0.2222222222222222,
              "#7201a8"
             ],
             [
              0.3333333333333333,
              "#9c179e"
             ],
             [
              0.4444444444444444,
              "#bd3786"
             ],
             [
              0.5555555555555556,
              "#d8576b"
             ],
             [
              0.6666666666666666,
              "#ed7953"
             ],
             [
              0.7777777777777778,
              "#fb9f3a"
             ],
             [
              0.8888888888888888,
              "#fdca26"
             ],
             [
              1,
              "#f0f921"
             ]
            ],
            "type": "histogram2d"
           }
          ],
          "histogram2dcontour": [
           {
            "colorbar": {
             "outlinewidth": 0,
             "ticks": ""
            },
            "colorscale": [
             [
              0,
              "#0d0887"
             ],
             [
              0.1111111111111111,
              "#46039f"
             ],
             [
              0.2222222222222222,
              "#7201a8"
             ],
             [
              0.3333333333333333,
              "#9c179e"
             ],
             [
              0.4444444444444444,
              "#bd3786"
             ],
             [
              0.5555555555555556,
              "#d8576b"
             ],
             [
              0.6666666666666666,
              "#ed7953"
             ],
             [
              0.7777777777777778,
              "#fb9f3a"
             ],
             [
              0.8888888888888888,
              "#fdca26"
             ],
             [
              1,
              "#f0f921"
             ]
            ],
            "type": "histogram2dcontour"
           }
          ],
          "mesh3d": [
           {
            "colorbar": {
             "outlinewidth": 0,
             "ticks": ""
            },
            "type": "mesh3d"
           }
          ],
          "parcoords": [
           {
            "line": {
             "colorbar": {
              "outlinewidth": 0,
              "ticks": ""
             }
            },
            "type": "parcoords"
           }
          ],
          "pie": [
           {
            "automargin": true,
            "type": "pie"
           }
          ],
          "scatter": [
           {
            "fillpattern": {
             "fillmode": "overlay",
             "size": 10,
             "solidity": 0.2
            },
            "type": "scatter"
           }
          ],
          "scatter3d": [
           {
            "line": {
             "colorbar": {
              "outlinewidth": 0,
              "ticks": ""
             }
            },
            "marker": {
             "colorbar": {
              "outlinewidth": 0,
              "ticks": ""
             }
            },
            "type": "scatter3d"
           }
          ],
          "scattercarpet": [
           {
            "marker": {
             "colorbar": {
              "outlinewidth": 0,
              "ticks": ""
             }
            },
            "type": "scattercarpet"
           }
          ],
          "scattergeo": [
           {
            "marker": {
             "colorbar": {
              "outlinewidth": 0,
              "ticks": ""
             }
            },
            "type": "scattergeo"
           }
          ],
          "scattergl": [
           {
            "marker": {
             "colorbar": {
              "outlinewidth": 0,
              "ticks": ""
             }
            },
            "type": "scattergl"
           }
          ],
          "scattermapbox": [
           {
            "marker": {
             "colorbar": {
              "outlinewidth": 0,
              "ticks": ""
             }
            },
            "type": "scattermapbox"
           }
          ],
          "scatterpolar": [
           {
            "marker": {
             "colorbar": {
              "outlinewidth": 0,
              "ticks": ""
             }
            },
            "type": "scatterpolar"
           }
          ],
          "scatterpolargl": [
           {
            "marker": {
             "colorbar": {
              "outlinewidth": 0,
              "ticks": ""
             }
            },
            "type": "scatterpolargl"
           }
          ],
          "scatterternary": [
           {
            "marker": {
             "colorbar": {
              "outlinewidth": 0,
              "ticks": ""
             }
            },
            "type": "scatterternary"
           }
          ],
          "surface": [
           {
            "colorbar": {
             "outlinewidth": 0,
             "ticks": ""
            },
            "colorscale": [
             [
              0,
              "#0d0887"
             ],
             [
              0.1111111111111111,
              "#46039f"
             ],
             [
              0.2222222222222222,
              "#7201a8"
             ],
             [
              0.3333333333333333,
              "#9c179e"
             ],
             [
              0.4444444444444444,
              "#bd3786"
             ],
             [
              0.5555555555555556,
              "#d8576b"
             ],
             [
              0.6666666666666666,
              "#ed7953"
             ],
             [
              0.7777777777777778,
              "#fb9f3a"
             ],
             [
              0.8888888888888888,
              "#fdca26"
             ],
             [
              1,
              "#f0f921"
             ]
            ],
            "type": "surface"
           }
          ],
          "table": [
           {
            "cells": {
             "fill": {
              "color": "#EBF0F8"
             },
             "line": {
              "color": "white"
             }
            },
            "header": {
             "fill": {
              "color": "#C8D4E3"
             },
             "line": {
              "color": "white"
             }
            },
            "type": "table"
           }
          ]
         },
         "layout": {
          "annotationdefaults": {
           "arrowcolor": "#2a3f5f",
           "arrowhead": 0,
           "arrowwidth": 1
          },
          "autotypenumbers": "strict",
          "coloraxis": {
           "colorbar": {
            "outlinewidth": 0,
            "ticks": ""
           }
          },
          "colorscale": {
           "diverging": [
            [
             0,
             "#8e0152"
            ],
            [
             0.1,
             "#c51b7d"
            ],
            [
             0.2,
             "#de77ae"
            ],
            [
             0.3,
             "#f1b6da"
            ],
            [
             0.4,
             "#fde0ef"
            ],
            [
             0.5,
             "#f7f7f7"
            ],
            [
             0.6,
             "#e6f5d0"
            ],
            [
             0.7,
             "#b8e186"
            ],
            [
             0.8,
             "#7fbc41"
            ],
            [
             0.9,
             "#4d9221"
            ],
            [
             1,
             "#276419"
            ]
           ],
           "sequential": [
            [
             0,
             "#0d0887"
            ],
            [
             0.1111111111111111,
             "#46039f"
            ],
            [
             0.2222222222222222,
             "#7201a8"
            ],
            [
             0.3333333333333333,
             "#9c179e"
            ],
            [
             0.4444444444444444,
             "#bd3786"
            ],
            [
             0.5555555555555556,
             "#d8576b"
            ],
            [
             0.6666666666666666,
             "#ed7953"
            ],
            [
             0.7777777777777778,
             "#fb9f3a"
            ],
            [
             0.8888888888888888,
             "#fdca26"
            ],
            [
             1,
             "#f0f921"
            ]
           ],
           "sequentialminus": [
            [
             0,
             "#0d0887"
            ],
            [
             0.1111111111111111,
             "#46039f"
            ],
            [
             0.2222222222222222,
             "#7201a8"
            ],
            [
             0.3333333333333333,
             "#9c179e"
            ],
            [
             0.4444444444444444,
             "#bd3786"
            ],
            [
             0.5555555555555556,
             "#d8576b"
            ],
            [
             0.6666666666666666,
             "#ed7953"
            ],
            [
             0.7777777777777778,
             "#fb9f3a"
            ],
            [
             0.8888888888888888,
             "#fdca26"
            ],
            [
             1,
             "#f0f921"
            ]
           ]
          },
          "colorway": [
           "#636efa",
           "#EF553B",
           "#00cc96",
           "#ab63fa",
           "#FFA15A",
           "#19d3f3",
           "#FF6692",
           "#B6E880",
           "#FF97FF",
           "#FECB52"
          ],
          "font": {
           "color": "#2a3f5f"
          },
          "geo": {
           "bgcolor": "white",
           "lakecolor": "white",
           "landcolor": "#E5ECF6",
           "showlakes": true,
           "showland": true,
           "subunitcolor": "white"
          },
          "hoverlabel": {
           "align": "left"
          },
          "hovermode": "closest",
          "mapbox": {
           "style": "light"
          },
          "paper_bgcolor": "white",
          "plot_bgcolor": "#E5ECF6",
          "polar": {
           "angularaxis": {
            "gridcolor": "white",
            "linecolor": "white",
            "ticks": ""
           },
           "bgcolor": "#E5ECF6",
           "radialaxis": {
            "gridcolor": "white",
            "linecolor": "white",
            "ticks": ""
           }
          },
          "scene": {
           "xaxis": {
            "backgroundcolor": "#E5ECF6",
            "gridcolor": "white",
            "gridwidth": 2,
            "linecolor": "white",
            "showbackground": true,
            "ticks": "",
            "zerolinecolor": "white"
           },
           "yaxis": {
            "backgroundcolor": "#E5ECF6",
            "gridcolor": "white",
            "gridwidth": 2,
            "linecolor": "white",
            "showbackground": true,
            "ticks": "",
            "zerolinecolor": "white"
           },
           "zaxis": {
            "backgroundcolor": "#E5ECF6",
            "gridcolor": "white",
            "gridwidth": 2,
            "linecolor": "white",
            "showbackground": true,
            "ticks": "",
            "zerolinecolor": "white"
           }
          },
          "shapedefaults": {
           "line": {
            "color": "#2a3f5f"
           }
          },
          "ternary": {
           "aaxis": {
            "gridcolor": "white",
            "linecolor": "white",
            "ticks": ""
           },
           "baxis": {
            "gridcolor": "white",
            "linecolor": "white",
            "ticks": ""
           },
           "bgcolor": "#E5ECF6",
           "caxis": {
            "gridcolor": "white",
            "linecolor": "white",
            "ticks": ""
           }
          },
          "title": {
           "x": 0.05
          },
          "xaxis": {
           "automargin": true,
           "gridcolor": "white",
           "linecolor": "white",
           "ticks": "",
           "title": {
            "standoff": 15
           },
           "zerolinecolor": "white",
           "zerolinewidth": 2
          },
          "yaxis": {
           "automargin": true,
           "gridcolor": "white",
           "linecolor": "white",
           "ticks": "",
           "title": {
            "standoff": 15
           },
           "zerolinecolor": "white",
           "zerolinewidth": 2
          }
         }
        },
        "title": {
         "text": "Todays Option Pos (PnL and Delta)",
         "x": 0.5,
         "xanchor": "center"
        },
        "xaxis": {
         "anchor": "y",
         "autorange": true,
         "domain": [
          0,
          0.45
         ],
         "range": [
          30,
          100
         ],
         "title": {
          "text": "Price"
         },
         "type": "linear"
        },
        "xaxis2": {
         "anchor": "y2",
         "autorange": true,
         "domain": [
          0.55,
          1
         ],
         "range": [
          30,
          100
         ],
         "title": {
          "text": "Price"
         },
         "type": "linear"
        },
        "yaxis": {
         "anchor": "x",
         "autorange": true,
         "domain": [
          0,
          1
         ],
         "range": [
          -1243458.413534342,
          19961913.05485601
         ],
         "title": {
          "text": "Pnl"
         },
         "type": "linear"
        },
        "yaxis2": {
         "anchor": "x2",
         "autorange": true,
         "domain": [
          0,
          1
         ],
         "range": [
          -369441.25543339696,
          19393.964955775173
         ],
         "title": {
          "text": "Delta"
         },
         "type": "linear"
        }
       }
      },
      "image/png": "[encoded data removed]",
      "text/html": [
       "<div>                            <div id=\"12919f01-b914-4a9d-bacc-ce58381b00af\" class=\"plotly-graph-div\" style=\"height:525px; width:100%;\"></div>            <script type=\"text/javascript\">                require([\"plotly\"], function(Plotly) {                    window.PLOTLYENV=window.PLOTLYENV || {};                                    if (document.getElementById(\"12919f01-b914-4a9d-bacc-ce58381b00af\")) {                    Plotly.newPlot(                        \"12919f01-b914-4a9d-bacc-ce58381b00af\",                        [{\"name\":\"EUA Mar25 60P\",\"x\":[30,31,32,33,34,35,36,37,38,39,40,41,42,43,44,45,46,47,48,49,50,51,52,53,54,55,56,57,58,59,60,61,62,63,64,65,66,67,68,69,70,71,72,73,74,75,76,77,78,79,80,81,82,83,84,85,86,87,88,89,90,91,92,93,94,95,96,97,98,99,100],\"y\":[9899813.08119306,9567884.78953424,9235958.928131545,8904038.80179953,8572131.316044142,8240249.98760779,7908419.716213044,7576683.850682813,7245113.981068589,6913822.642623006,6582978.725259139,6252824.878570111,5923695.659594739,5596034.686256155,5270408.737574759,4947516.668258123,4628191.227083621,4313392.3811578825,4004191.4948569112,3701746.594449503,3407269.845734703,3121989.1608569087,2847106.4307802776,2583755.1864018515,2332960.5014770785,2095603.6836326644,1872393.8088021667,1663847.5142791872,1470277.7594341198,1291791.5702047742,1128296.1695252806,979512.4074745686,844994.0674802515,724151.4437762306,616277.5493200491,520575.39954569313,436184.99588324316,362208.8719564586,297735.33434625284,241858.80250788113,193696.9082303414,152404.23947790888,117182.79803143776,87289.38168693711,62040.20061210012,40813.09750838099,23047.768037765607,8244.378022465,-4039.0461620357314,-14190.111574598697,-22546.1370728413,-29398.562360010317,-34997.480672278696,-39556.13247128913,-43255.23793599816,-46247.081488866635,-48659.29160872818,-50598.283773279974,-52152.35383852482,-53394.42399464305,-54384.45423679783,-55171.53969167579,-55795.7187712811,-56289.519565916526,-56679.27265657432,-56986.218068831906,-57227.43277734773,-57416.6033026033,-57564.66575543356,-57680.333359226155,-57770.529145604865],\"type\":\"scatter\",\"xaxis\":\"x\",\"yaxis\":\"y\"},{\"name\":\"EUA Mar25 60P\",\"x\":[30,31,32,33,34,35,36,37,38,39,40,41,42,43,44,45,46,47,48,49,50,51,52,53,54,55,56,57,58,59,60,61,62,63,64,65,66,67,68,69,70,71,72,73,74,75,76,77,78,79,80,81,82,83,84,85,86,87,88,89,90,91,92,93,94,95,96,97,98,99,100],\"y\":[-199999.49519433684,-199998.59698613593,-199996.3875392379,-199991.32973003172,-199980.49428698162,-199958.6606471486,-199917.09089525905,-199841.9996398354,-199712.82272367098,-199500.4786754258,-199165.89841054945,-198659.14742129776,-197919.4605294533,-196876.44197780307,-195452.55680661864,-193566.87084178888,-191139.81452394286,-188098.5827412619,-184382.6681957535,-179948.97968836533,-174776.02606383967,-168866.74486137618,-162249.70425060793,-154978.5830630338,-147130.01040831397,-138800.00017421952,-130099.32961795565,-121148.27619438442,-112071.1416425503,-102990.96277326706,-94024.74460328279,-85279.46600300712,-76849.01355965945,-68812.10708971435,-61231.198777707265,-54152.262865491575,-47605.34679637307,-41605.72781864329,-36155.509440295755,-31245.496736756184,-26857.20469333437,-22964.87580367057,-19537.408664808863,-16540.12549946293,-13936.33126817837,-11688.63886827083,-9760.05303636498,-8114.819678204355,-6719.057537577777,-5541.195750283001,-4552.244433656072,-3725.926631743115,-3038.6992666876276,-2469.688789116553,-2000.5644515998845,-1615.3689404881711,-1300.3227950660666,-1043.6158388171357,-835.1958931791969,-666.5624271706027,-530.5705574568665,-421.2489587954726,-333.6337561931968,-263.61931409839553,-207.82597279058734,-163.48416300551173,-128.33391256710235,-100.53850225455463,-78.61089565437408,-61.35152779920272,-47.79606368343625],\"type\":\"scatter\",\"xaxis\":\"x2\",\"yaxis\":\"y2\"},{\"name\":\"EUA Mar25 65P\",\"x\":[30,31,32,33,34,35,36,37,38,39,40,41,42,43,44,45,46,47,48,49,50,51,52,53,54,55,56,57,58,59,60,61,62,63,64,65,66,67,68,69,70,71,72,73,74,75,76,77,78,79,80,81,82,83,84,85,86,87,88,89,90,91,92,93,94,95,96,97,98,99,100],\"y\":[5748012.894116381,5582048.017947532,5416083.149549407,5250118.30681866,5084153.541768398,4918188.993534865,4752225.006725997,4586262.375840829,4420302.814250303,4254349.793403666,4088409.9477945315,3922495.2812663494,3756626.4230578328,3590837.1485697576,3425180.284852215,3259734.9587268815,3094614.9254677147,2929977.463840748,2766032.0788993407,2603048.0643501207,2441359.8861832004,2281369.3905567774,2123544.022895257,1968410.5586129462,1816544.252681882,1668553.76265485,1525062.6278529756,1386688.4397427093,1254021.0711989254,1127601.4203872774,1007902.0646565466,895311.0271698784,790119.5654162947,692514.5366993141,602575.5240451712,520276.5559696838,445491.95643617585,378005.6378477811,317523.00962310587,263684.61720080354,216080.6424716209,174265.4723925492,137771.66081196596,106122.75181053829,78844.58506954483,55474.85155232326,35570.80112103651,18715.116096144164,4520.052913716195,-7369.982630494719,-17277.22105428006,-25490.45071946999,-32265.847370956213,-37828.49388416821,-42374.39148815919,-46072.78838557319,-49068.67904265292,-51485.35518951084,-53426.91607184672,-54980.66959765843,-56219.377062424515,-57203.31182643774,-57982.11665528586,-58596.45561476676,-59079.46475673304,-59458.01173131189,-59753.778324229184,-59984.1821456984,-60163.15465794423,-60301.7927464094,-60408.90039025189],\"type\":\"scatter\",\"xaxis\":\"x\",\"yaxis\":\"y\"},{\"name\":\"EUA Mar25 65P\",\"x\":[30,31,32,33,34,35,36,37,38,39,40,41,42,43,44,45,46,47,48,49,50,51,52,53,54,55,56,57,58,59,60,61,62,63,64,65,66,67,68,69,70,71,72,73,74,75,76,77,78,79,80,81,82,83,84,85,86,87,88,89,90,91,92,93,94,95,96,97,98,99,100],\"y\":[-99999.99921983236,-99999.99688562247,-99999.98873345765,-99999.96277397287,-99999.88686581905,-99999.68173822298,-99999.16649860435,-99997.95725412955,-99995.29284899247,-99989.75750919367,-99978.87176280377,-99958.53380769711,-99922.31572479825,-99860.65211285012,-99759.99877460762,-99602.07840027724,-99363.35893727989,-99014.91880552647,-98522.83450398158,-97849.17884030982,-96953.64666351092,-95795.74000185613,-94337.36002072034,-92545.58402745078,-90395.3642067916,-87871.87823551346,-84972.2914886582,-81706.75114522668,-78098.51426564601,-74183.20235067914,-70007.26127526669,-65625.77698967102,-61099.84653491943,-56493.72730680351,-51871.98561655746,-47296.84212069544,-42825.87241650885,-38510.172733637446,-34393.049757323315,-30509.245793948405,-26884.669874399515,-23536.574485289497,-20474.09735864567,-17699.07776940007,-15207.055770138433,-12988.36884719845,-11029.27150027897,-9313.017172220727,-7820.856979202573,-6532.924369816051,-5428.988134692836,-4489.067448865902,-3693.9115515413177,-3025.353220136395,-2466.5495423854986,-2002.125922712339,-1618.2401314690287,-1302.5828878469924,-1044.3303094689438,-834.0618722739945,-663.6555584114467,-526.1698259666159,-415.72005688108595,-327.3553249033556,-256.9397304171828,-201.0411988155214,-156.82953584648106,-121.98466329875757,-94.61529791376933,-73.18785681728058,-56.46504379954731],\"type\":\"scatter\",\"xaxis\":\"x2\",\"yaxis\":\"y2\"},{\"name\":\"EUA Mar25 70P\",\"x\":[30,31,32,33,34,35,36,37,38,39,40,41,42,43,44,45,46,47,48,49,50,51,52,53,54,55,56,57,58,59,60,61,62,63,64,65,66,67,68,69,70,71,72,73,74,75,76,77,78,79,80,81,82,83,84,85,86,87,88,89,90,91,92,93,94,95,96,97,98,99,100],\"y\":[3253818.5061270506,3170836.0666348403,3087853.6271477677,3004871.187686016,2921888.7483360968,2838906.3094324977,2755923.8721502437,2672941.440264678,2589959.0249373186,2506976.6566984057,2423994.4131994653,2341012.4789282377,2258031.2650328763,2175051.634303327,2092075.2975876457,2009105.4708757463,1926147.901896227,1843212.3839951877,1760314.8647804335,1677480.219872548,1594745.693931119,1512164.9136704719,1429812.25997544,1347787.2647400156,1266218.5938618402,1185267.1131419663,1105127.5271843425,1026028.1432167396,948228.4415241858,872014.3196674987,797691.0966681095,725574.5874990171,655980.7578846591,589214.618666186,525559.0997177446,465264.6476997361,408540.2225870892,355546.2370417371,306389.80910968455,261122.50452295443,219740.55210306708,182187.34348271793,148357.89075721017,118104.82104936586,91245.43776370215,67569.37187382368,46846.37646486573,28833.875123987887,13283.949905673873,-50.46193028291162,-11410.30961924343,-21026.178990657038,-29115.054492770138,-35878.04359897676,-41498.97518547001,-46143.75830214791,-49960.374823429396,-53079.376715731516,-55614.76379602671,-57665.128593085064,-59314.96916732006,-60636.08671404818,-61689.00104939898,-62524.33260864393,-63184.113666443154,-63703.00370560011,-64109.3940414895,-64426.3949588855,-64672.70486686819,-64863.36553408596,-65010.41057896797],\"type\":\"scatter\",\"xaxis\":\"x\",\"yaxis\":\"y\"},{\"name\":\"EUA Mar25 70P\",\"x\":[30,31,32,33,34,35,36,37,38,39,40,41,42,43,44,45,46,47,48,49,50,51,52,53,54,55,56,57,58,59,60,61,62,63,64,65,66,67,68,69,70,71,72,73,74,75,76,77,78,79,80,81,82,83,84,85,86,87,88,89,90,91,92,93,94,95,96,97,98,99,100],\"y\":[-49999.999999769134,-49999.999998577965,-49999.99999226137,-49999.99996243006,-49999.99983585258,-49999.999349473524,-49999.9976448176,-49999.99216001886,-49999.97586299545,-49999.9309043802,-49999.81518529235,-49999.53603782118,-49998.9023344538,-49997.54338461789,-49994.780921428435,-49989.44071822493,-49979.59441578218,-49962.231127146166,-49932.872488895075,-49885.162759669765,-49810.48443697368,-49697.66551850887,-49532.85240493333,-49299.61870221991,-48979.36291246328,-48552.01798057133,-47997.056532099305,-47294.73333775718,-46427.468156371666,-45381.244396905684,-44146.887030745274,-42721.08918402861,-41107.080050666555,-39314.8635724286,-37361.00211291586,-35267.965613163884,-33063.108259535715,-30777.366590897116,-28443.792183619877,-26096.037640490555,-23766.90756301677,-21487.06897647204,-19283.99165796769,-17181.161613382134,-15197.583920641455,-13347.567022473888,-11640.761176875907,-10082.41012560951,-8673.767273328054,-7412.625290096236,-6293.910128550495,-5310.295826065203,-4452.803938508987,-3711.359915344914,-3075.2872499837267,-2533.7281277685806,-2075.986086597331,-1691.7916581183356,-1371.4960059577786,-1106.2002913104664,-887.8300347126111,-709.1643144174986,-563.8294714921277,-446.26629677489984,-351.6786486994161,-275.97025473400925,-215.67520829537946,-167.886478442425,-130.18566160292178,-100.57625748264853,-77.42195947871289],\"type\":\"scatter\",\"xaxis\":\"x2\",\"yaxis\":\"y2\"},{\"mode\":\"lines\",\"name\":\"Total_PnL\",\"x\":[30,31,32,33,34,35,36,37,38,39,40,41,42,43,44,45,46,47,48,49,50,51,52,53,54,55,56,57,58,59,60,61,62,63,64,65,66,67,68,69,70,71,72,73,74,75,76,77,78,79,80,81,82,83,84,85,86,87,88,89,90,91,92,93,94,95,96,97,98,99,100],\"y\":[18901644.48143649,18320768.87411661,17739895.70482872,17159028.296304207,16578173.606148638,15997345.290575152,15416568.595089285,14835887.66678832,14255375.82025621,13675149.092725078,13095383.086253136,12516332.638764698,11938353.347685449,11361923.46912924,10787664.32001462,10216357.09786075,9648954.054447562,9086582.228993818,8530538.438536685,7982274.878672172,7443375.425849022,6915523.465084158,6400462.713650974,5899953.009754813,5415723.348020801,4949424.559429481,4502583.963839484,4076564.0972386356,3672527.272157231,3291407.31025955,2933889.330849936,2600398.022143464,2291094.390781205,2005880.5991417307,1744412.173082965,1506116.603215113,1290217.1749065083,1095760.746845977,921648.1530790433,766665.9242316391,629518.1028050294,508857.055353176,403312.34960061393,311516.95454684127,232130.2234453471,163857.32093452793,105464.94562366785,55793.36924259705,13764.956657354336,-21610.55613537633,-51233.667746364794,-75915.19207013735,-96378.38253600505,-113262.6699544341,-127128.60460962736,-138463.62817658775,-147688.34547481049,-155163.01567852232,-161194.03370639824,-166040.22218538655,-169918.8004665424,-173010.93823216172,-175466.83647596595,-177410.3077893272,-178942.85107975052,-180147.2335057439,-181090.6051430664,-181827.1804071872,-182400.525280246,-182845.49163972153,-183189.84011482474],\"type\":\"scatter\",\"xaxis\":\"x\",\"yaxis\":\"y\"},{\"mode\":\"lines\",\"name\":\"Total_Delta\",\"x\":[30,31,32,33,34,35,36,37,38,39,40,41,42,43,44,45,46,47,48,49,50,51,52,53,54,55,56,57,58,59,60,61,62,63,64,65,66,67,68,69,70,71,72,73,74,75,76,77,78,79,80,81,82,83,84,85,86,87,88,89,90,91,92,93,94,95,96,97,98,99,100],\"y\":[-349999.4944139384,-349998.5938703364,-349996.3762649569,-349991.29246643465,-349980.3809886532,-349958.3417348451,-349916.255038681,-349839.94905398384,-349708.09143565886,-349490.1670889997,-349144.58535864553,-348617.21726681606,-347840.67858870537,-346734.63747527107,-345207.3365026547,-343158.38996029104,-340482.7678770049,-337075.73267393454,-332838.3751886302,-327683.3212883449,-321540.1571643243,-314360.1503817412,-306119.9166762616,-296823.7857927045,-286504.7375275688,-275223.8963903043,-263068.67763871315,-250149.76067736826,-236597.12406456796,-222555.40952085188,-208178.89290929475,-193626.33217670675,-179055.94014524543,-164620.69796894648,-150464.1865071806,-136717.0705993509,-123494.32747241764,-110893.26714317786,-98992.35138123894,-87850.78017119515,-77508.78213075065,-67988.51926543211,-59295.49768142223,-51420.364882245136,-44340.970958958256,-38024.57473794316,-32430.08571351986,-27510.246976034592,-23213.681790108407,-19486.745410195286,-16275.142696899402,-13525.289906674221,-11185.414756737933,-9206.401924597862,-7542.40124396911,-6151.2229909690905,-4994.549013132426,-4037.9903847824635,-3251.0222086059193,-2606.8245907550636,-2082.056150580924,-1656.5830991795872,-1313.1832845664103,-1037.240935776651,-816.4443519071863,-640.4956165550424,-500.83865670896284,-390.40964399573716,-303.4118551710652,-235.11564209913183,-181.68306696169645],\"type\":\"scatter\",\"xaxis\":\"x2\",\"yaxis\":\"y2\"}],                        {\"template\":{\"data\":{\"histogram2dcontour\":[{\"type\":\"histogram2dcontour\",\"colorbar\":{\"outlinewidth\":0,\"ticks\":\"\"},\"colorscale\":[[0.0,\"#0d0887\"],[0.1111111111111111,\"#46039f\"],[0.2222222222222222,\"#7201a8\"],[0.3333333333333333,\"#9c179e\"],[0.4444444444444444,\"#bd3786\"],[0.5555555555555556,\"#d8576b\"],[0.6666666666666666,\"#ed7953\"],[0.7777777777777778,\"#fb9f3a\"],[0.8888888888888888,\"#fdca26\"],[1.0,\"#f0f921\"]]}],\"choropleth\":[{\"type\":\"choropleth\",\"colorbar\":{\"outlinewidth\":0,\"ticks\":\"\"}}],\"histogram2d\":[{\"type\":\"histogram2d\",\"colorbar\":{\"outlinewidth\":0,\"ticks\":\"\"},\"colorscale\":[[0.0,\"#0d0887\"],[0.1111111111111111,\"#46039f\"],[0.2222222222222222,\"#7201a8\"],[0.3333333333333333,\"#9c179e\"],[0.4444444444444444,\"#bd3786\"],[0.5555555555555556,\"#d8576b\"],[0.6666666666666666,\"#ed7953\"],[0.7777777777777778,\"#fb9f3a\"],[0.8888888888888888,\"#fdca26\"],[1.0,\"#f0f921\"]]}],\"heatmap\":[{\"type\":\"heatmap\",\"colorbar\":{\"outlinewidth\":0,\"ticks\":\"\"},\"colorscale\":[[0.0,\"#0d0887\"],[0.1111111111111111,\"#46039f\"],[0.2222222222222222,\"#7201a8\"],[0.3333333333333333,\"#9c179e\"],[0.4444444444444444,\"#bd3786\"],[0.5555555555555556,\"#d8576b\"],[0.6666666666666666,\"#ed7953\"],[0.7777777777777778,\"#fb9f3a\"],[0.8888888888888888,\"#fdca26\"],[1.0,\"#f0f921\"]]}],\"heatmapgl\":[{\"type\":\"heatmapgl\",\"colorbar\":{\"outlinewidth\":0,\"ticks\":\"\"},\"colorscale\":[[0.0,\"#0d0887\"],[0.1111111111111111,\"#46039f\"],[0.2222222222222222,\"#7201a8\"],[0.3333333333333333,\"#9c179e\"],[0.4444444444444444,\"#bd3786\"],[0.5555555555555556,\"#d8576b\"],[0.6666666666666666,\"#ed7953\"],[0.7777777777777778,\"#fb9f3a\"],[0.8888888888888888,\"#fdca26\"],[1.0,\"#f0f921\"]]}],\"contourcarpet\":[{\"type\":\"contourcarpet\",\"colorbar\":{\"outlinewidth\":0,\"ticks\":\"\"}}],\"contour\":[{\"type\":\"contour\",\"colorbar\":{\"outlinewidth\":0,\"ticks\":\"\"},\"colorscale\":[[0.0,\"#0d0887\"],[0.1111111111111111,\"#46039f\"],[0.2222222222222222,\"#7201a8\"],[0.3333333333333333,\"#9c179e\"],[0.4444444444444444,\"#bd3786\"],[0.5555555555555556,\"#d8576b\"],[0.6666666666666666,\"#ed7953\"],[0.7777777777777778,\"#fb9f3a\"],[0.8888888888888888,\"#fdca26\"],[1.0,\"#f0f921\"]]}],\"surface\":[{\"type\":\"surface\",\"colorbar\":{\"outlinewidth\":0,\"ticks\":\"\"},\"colorscale\":[[0.0,\"#0d0887\"],[0.1111111111111111,\"#46039f\"],[0.2222222222222222,\"#7201a8\"],[0.3333333333333333,\"#9c179e\"],[0.4444444444444444,\"#bd3786\"],[0.5555555555555556,\"#d8576b\"],[0.6666666666666666,\"#ed7953\"],[0.7777777777777778,\"#fb9f3a\"],[0.8888888888888888,\"#fdca26\"],[1.0,\"#f0f921\"]]}],\"mesh3d\":[{\"type\":\"mesh3d\",\"colorbar\":{\"outlinewidth\":0,\"ticks\":\"\"}}],\"scatter\":[{\"fillpattern\":{\"fillmode\":\"overlay\",\"size\":10,\"solidity\":0.2},\"type\":\"scatter\"}],\"parcoords\":[{\"type\":\"parcoords\",\"line\":{\"colorbar\":{\"outlinewidth\":0,\"ticks\":\"\"}}}],\"scatterpolargl\":[{\"type\":\"scatterpolargl\",\"marker\":{\"colorbar\":{\"outlinewidth\":0,\"ticks\":\"\"}}}],\"bar\":[{\"error_x\":{\"color\":\"#2a3f5f\"},\"error_y\":{\"color\":\"#2a3f5f\"},\"marker\":{\"line\":{\"color\":\"#E5ECF6\",\"width\":0.5},\"pattern\":{\"fillmode\":\"overlay\",\"size\":10,\"solidity\":0.2}},\"type\":\"bar\"}],\"scattergeo\":[{\"type\":\"scattergeo\",\"marker\":{\"colorbar\":{\"outlinewidth\":0,\"ticks\":\"\"}}}],\"scatterpolar\":[{\"type\":\"scatterpolar\",\"marker\":{\"colorbar\":{\"outlinewidth\":0,\"ticks\":\"\"}}}],\"histogram\":[{\"marker\":{\"pattern\":{\"fillmode\":\"overlay\",\"size\":10,\"solidity\":0.2}},\"type\":\"histogram\"}],\"scattergl\":[{\"type\":\"scattergl\",\"marker\":{\"colorbar\":{\"outlinewidth\":0,\"ticks\":\"\"}}}],\"scatter3d\":[{\"type\":\"scatter3d\",\"line\":{\"colorbar\":{\"outlinewidth\":0,\"ticks\":\"\"}},\"marker\":{\"colorbar\":{\"outlinewidth\":0,\"ticks\":\"\"}}}],\"scattermapbox\":[{\"type\":\"scattermapbox\",\"marker\":{\"colorbar\":{\"outlinewidth\":0,\"ticks\":\"\"}}}],\"scatterternary\":[{\"type\":\"scatterternary\",\"marker\":{\"colorbar\":{\"outlinewidth\":0,\"ticks\":\"\"}}}],\"scattercarpet\":[{\"type\":\"scattercarpet\",\"marker\":{\"colorbar\":{\"outlinewidth\":0,\"ticks\":\"\"}}}],\"carpet\":[{\"aaxis\":{\"endlinecolor\":\"#2a3f5f\",\"gridcolor\":\"white\",\"linecolor\":\"white\",\"minorgridcolor\":\"white\",\"startlinecolor\":\"#2a3f5f\"},\"baxis\":{\"endlinecolor\":\"#2a3f5f\",\"gridcolor\":\"white\",\"linecolor\":\"white\",\"minorgridcolor\":\"white\",\"startlinecolor\":\"#2a3f5f\"},\"type\":\"carpet\"}],\"table\":[{\"cells\":{\"fill\":{\"color\":\"#EBF0F8\"},\"line\":{\"color\":\"white\"}},\"header\":{\"fill\":{\"color\":\"#C8D4E3\"},\"line\":{\"color\":\"white\"}},\"type\":\"table\"}],\"barpolar\":[{\"marker\":{\"line\":{\"color\":\"#E5ECF6\",\"width\":0.5},\"pattern\":{\"fillmode\":\"overlay\",\"size\":10,\"solidity\":0.2}},\"type\":\"barpolar\"}],\"pie\":[{\"automargin\":true,\"type\":\"pie\"}]},\"layout\":{\"autotypenumbers\":\"strict\",\"colorway\":[\"#636efa\",\"#EF553B\",\"#00cc96\",\"#ab63fa\",\"#FFA15A\",\"#19d3f3\",\"#FF6692\",\"#B6E880\",\"#FF97FF\",\"#FECB52\"],\"font\":{\"color\":\"#2a3f5f\"},\"hovermode\":\"closest\",\"hoverlabel\":{\"align\":\"left\"},\"paper_bgcolor\":\"white\",\"plot_bgcolor\":\"#E5ECF6\",\"polar\":{\"bgcolor\":\"#E5ECF6\",\"angularaxis\":{\"gridcolor\":\"white\",\"linecolor\":\"white\",\"ticks\":\"\"},\"radialaxis\":{\"gridcolor\":\"white\",\"linecolor\":\"white\",\"ticks\":\"\"}},\"ternary\":{\"bgcolor\":\"#E5ECF6\",\"aaxis\":{\"gridcolor\":\"white\",\"linecolor\":\"white\",\"ticks\":\"\"},\"baxis\":{\"gridcolor\":\"white\",\"linecolor\":\"white\",\"ticks\":\"\"},\"caxis\":{\"gridcolor\":\"white\",\"linecolor\":\"white\",\"ticks\":\"\"}},\"coloraxis\":{\"colorbar\":{\"outlinewidth\":0,\"ticks\":\"\"}},\"colorscale\":{\"sequential\":[[0.0,\"#0d0887\"],[0.1111111111111111,\"#46039f\"],[0.2222222222222222,\"#7201a8\"],[0.3333333333333333,\"#9c179e\"],[0.4444444444444444,\"#bd3786\"],[0.5555555555555556,\"#d8576b\"],[0.6666666666666666,\"#ed7953\"],[0.7777777777777778,\"#fb9f3a\"],[0.8888888888888888,\"#fdca26\"],[1.0,\"#f0f921\"]],\"sequentialminus\":[[0.0,\"#0d0887\"],[0.1111111111111111,\"#46039f\"],[0.2222222222222222,\"#7201a8\"],[0.3333333333333333,\"#9c179e\"],[0.4444444444444444,\"#bd3786\"],[0.5555555555555556,\"#d8576b\"],[0.6666666666666666,\"#ed7953\"],[0.7777777777777778,\"#fb9f3a\"],[0.8888888888888888,\"#fdca26\"],[1.0,\"#f0f921\"]],\"diverging\":[[0,\"#8e0152\"],[0.1,\"#c51b7d\"],[0.2,\"#de77ae\"],[0.3,\"#f1b6da\"],[0.4,\"#fde0ef\"],[0.5,\"#f7f7f7\"],[0.6,\"#e6f5d0\"],[0.7,\"#b8e186\"],[0.8,\"#7fbc41\"],[0.9,\"#4d9221\"],[1,\"#276419\"]]},\"xaxis\":{\"gridcolor\":\"white\",\"linecolor\":\"white\",\"ticks\":\"\",\"title\":{\"standoff\":15},\"zerolinecolor\":\"white\",\"automargin\":true,\"zerolinewidth\":2},\"yaxis\":{\"gridcolor\":\"white\",\"linecolor\":\"white\",\"ticks\":\"\",\"title\":{\"standoff\":15},\"zerolinecolor\":\"white\",\"automargin\":true,\"zerolinewidth\":2},\"scene\":{\"xaxis\":{\"backgroundcolor\":\"#E5ECF6\",\"gridcolor\":\"white\",\"linecolor\":\"white\",\"showbackground\":true,\"ticks\":\"\",\"zerolinecolor\":\"white\",\"gridwidth\":2},\"yaxis\":{\"backgroundcolor\":\"#E5ECF6\",\"gridcolor\":\"white\",\"linecolor\":\"white\",\"showbackground\":true,\"ticks\":\"\",\"zerolinecolor\":\"white\",\"gridwidth\":2},\"zaxis\":{\"backgroundcolor\":\"#E5ECF6\",\"gridcolor\":\"white\",\"linecolor\":\"white\",\"showbackground\":true,\"ticks\":\"\",\"zerolinecolor\":\"white\",\"gridwidth\":2}},\"shapedefaults\":{\"line\":{\"color\":\"#2a3f5f\"}},\"annotationdefaults\":{\"arrowcolor\":\"#2a3f5f\",\"arrowhead\":0,\"arrowwidth\":1},\"geo\":{\"bgcolor\":\"white\",\"landcolor\":\"#E5ECF6\",\"subunitcolor\":\"white\",\"showland\":true,\"showlakes\":true,\"lakecolor\":\"white\"},\"title\":{\"x\":0.05},\"mapbox\":{\"style\":\"light\"}}},\"xaxis\":{\"anchor\":\"y\",\"domain\":[0.0,0.45],\"title\":{\"text\":\"Price\"}},\"yaxis\":{\"anchor\":\"x\",\"domain\":[0.0,1.0],\"title\":{\"text\":\"Pnl\"}},\"xaxis2\":{\"anchor\":\"y2\",\"domain\":[0.55,1.0],\"title\":{\"text\":\"Price\"}},\"yaxis2\":{\"anchor\":\"x2\",\"domain\":[0.0,1.0],\"title\":{\"text\":\"Delta\"}},\"title\":{\"text\":\"Todays Option Pos (PnL and Delta)\",\"x\":0.5,\"xanchor\":\"center\"},\"barmode\":\"stack\"},                        {\"responsive\": true}                    ).then(function(){\n",
       "                            \n",
       "var gd = document.getElementById('12919f01-b914-4a9d-bacc-ce58381b00af');\n",
       "var x = new MutationObserver(function (mutations, observer) {{\n",
       "        var display = window.getComputedStyle(gd).display;\n",
       "        if (!display || display === 'none') {{\n",
       "            console.log([gd, 'removed!']);\n",
       "            Plotly.purge(gd);\n",
       "            observer.disconnect();\n",
       "        }}\n",
       "}});\n",
       "\n",
       "// Listen for the removal of the full notebook cells\n",
       "var notebookContainer = gd.closest('#notebook-container');\n",
       "if (notebookContainer) {{\n",
       "    x.observe(notebookContainer, {childList: true});\n",
       "}}\n",
       "\n",
       "// Listen for the clearing of the current output cell\n",
       "var outputEl = gd.closest('.output');\n",
       "if (outputEl) {{\n",
       "    x.observe(outputEl, {childList: true});\n",
       "}}\n",
       "\n",
       "                        })                };                });            </script>        </div>"
      ]
     },
     "metadata": {},
     "output_type": "display_data"
    }
   ],
   "source": [
    "pnl_delta_plot(end_next_wk)"
   ]
  },
  {
   "cell_type": "markdown",
   "id": "9c6a0988-c940-4dbc-a55c-15ceea732f6e",
   "metadata": {},
   "source": [
    "## End of 2 Weeks"
   ]
  },
  {
   "cell_type": "code",
   "execution_count": 28,
   "id": "551d95c7-9cae-4174-88c2-1fb026cb34fc",
   "metadata": {},
   "outputs": [
    {
     "data": {
      "application/vnd.plotly.v1+json": {
       "config": {
        "plotlyServerURL": "https://plot.ly"
       },
       "data": [
        {
         "name": "EUA Mar25 60P",
         "type": "scatter",
         "x": [
          30,
          31,
          32,
          33,
          34,
          35,
          36,
          37,
          38,
          39,
          40,
          41,
          42,
          43,
          44,
          45,
          46,
          47,
          48,
          49,
          50,
          51,
          52,
          53,
          54,
          55,
          56,
          57,
          58,
          59,
          60,
          61,
          62,
          63,
          64,
          65,
          66,
          67,
          68,
          69,
          70,
          71,
          72,
          73,
          74,
          75,
          76,
          77,
          78,
          79,
          80,
          81,
          82,
          83,
          84,
          85,
          86,
          87,
          88,
          89,
          90,
          91,
          92,
          93,
          94,
          95,
          96,
          97,
          98,
          99,
          100
         ],
         "xaxis": "x",
         "y": [
          9904697.451342857,
          9572605.002998438,
          9240512.882689597,
          8908421.703576624,
          8576333.009469252,
          8244250.3910617735,
          7912181.60693067,
          7580142.310766722,
          7248162.128933964,
          6916293.877742534,
          6584626.581938513,
          6253302.59569962,
          5922538.520585234,
          5592648.813295963,
          5264070.102054729,
          4937383.458532988,
          4613331.391429208,
          4292826.29350083,
          3976947.5646470687,
          3666925.625594221,
          3364112.4031037157,
          3069939.4038941776,
          2785865.9612708897,
          2513321.4105310324,
          2253645.658183607,
          2008032.7716963908,
          1777481.8384837199,
          1562758.5136477444,
          1364369.540427374,
          1182551.255788784,
          1017271.8519337644,
          868246.0900047022,
          734960.3489313283,
          616705.385894715,
          512613.9860581093,
          421700.7531206325,
          342901.58047161944,
          275110.77585775824,
          217214.32102800047,
          168118.270339206,
          126771.78035155793,
          92184.68262960929,
          63439.845612126184,
          39700.81258001216,
          20215.355364948777,
          4315.658168421178,
          -8584.142836545436,
          -18992.374775996,
          -27345.57755477443,
          -34015.054390647616,
          -39313.78547657224,
          -43503.36133255399,
          -46800.68024516933,
          -49384.231716007205,
          -51399.85322857637,
          -52965.90047839245,
          -54177.81206317635,
          -55112.07969683897,
          -55829.65582456494,
          -56378.843722927995,
          -56797.72237306547,
          -57116.16106048934,
          -57357.478051328464,
          -57539.79487540806,
          -57677.13355226675,
          -57780.29917174541,
          -57857.58506021653,
          -57915.33265851093,
          -57958.373425656355,
          -57990.37569300171,
          -58014.11548999286
         ],
         "yaxis": "y"
        },
        {
         "name": "EUA Mar25 60P",
         "type": "scatter",
         "x": [
          30,
          31,
          32,
          33,
          34,
          35,
          36,
          37,
          38,
          39,
          40,
          41,
          42,
          43,
          44,
          45,
          46,
          47,
          48,
          49,
          50,
          51,
          52,
          53,
          54,
          55,
          56,
          57,
          58,
          59,
          60,
          61,
          62,
          63,
          64,
          65,
          66,
          67,
          68,
          69,
          70,
          71,
          72,
          73,
          74,
          75,
          76,
          77,
          78,
          79,
          80,
          81,
          82,
          83,
          84,
          85,
          86,
          87,
          88,
          89,
          90,
          91,
          92,
          93,
          94,
          95,
          96,
          97,
          98,
          99,
          100
         ],
         "xaxis": "x2",
         "y": [
          -199999.95628526135,
          -199999.84893720518,
          -199999.52449172141,
          -199998.62626993237,
          -199996.33287293365,
          -199990.89920159837,
          -199978.88674274593,
          -199953.982520531,
          -199905.34254524985,
          -199815.47739443823,
          -199657.82284586175,
          -199394.28857273003,
          -198973.21809875287,
          -198328.28022794714,
          -197378.80676552694,
          -196031.97187569167,
          -194186.98038235493,
          -191741.1301531322,
          -188597.29377604494,
          -184672.09160103678,
          -179903.85853494052,
          -174259.47589016813,
          -167739.25326562047,
          -160379.28128765308,
          -152250.98967193798,
          -143457.98144427108,
          -134130.51960942874,
          -124418.27475735487,
          -114482.07613338716,
          -104485.43867203663,
          -94586.5752159133,
          -84931.46925730273,
          -75648.40758645425,
          -66844.18301329794,
          -58601.99956137026,
          -50980.964186143705,
          -44016.940440214756,
          -37724.473683016855,
          -32099.47169880847,
          -27122.332279918603,
          -22761.241724640913,
          -18975.41612598188,
          -15718.112398859606,
          -12939.291347480663,
          -10587.865712357836,
          -8613.508925857637,
          -6968.0337620313,
          -5606.374011892945,
          -4487.217494054429,
          -3573.346429976265,
          -2831.743038177148,
          -2233.5157238627003,
          -1753.695919606746,
          -1370.9487063456204,
          -1067.2327884751808,
          -827.4379278752964,
          -639.0210389454198,
          -491.6560924143054,
          -376.907897590506,
          -287.9357461635035,
          -219.22974557140319,
          -166.3803413334941,
          -125.87989920154197,
          -94.95415857154742,
          -71.42075406263437,
          -53.57172158775292,
          -40.076864223115294,
          -29.90497464654407,
          -22.260134248286434,
          -16.53058833961385,
          -12.247998839387542
         ],
         "yaxis": "y2"
        },
        {
         "name": "EUA Mar25 65P",
         "type": "scatter",
         "x": [
          30,
          31,
          32,
          33,
          34,
          35,
          36,
          37,
          38,
          39,
          40,
          41,
          42,
          43,
          44,
          45,
          46,
          47,
          48,
          49,
          50,
          51,
          52,
          53,
          54,
          55,
          56,
          57,
          58,
          59,
          60,
          61,
          62,
          63,
          64,
          65,
          66,
          67,
          68,
          69,
          70,
          71,
          72,
          73,
          74,
          75,
          76,
          77,
          78,
          79,
          80,
          81,
          82,
          83,
          84,
          85,
          86,
          87,
          88,
          89,
          90,
          91,
          92,
          93,
          94,
          95,
          96,
          97,
          98,
          99,
          100
         ],
         "xaxis": "x",
         "y": [
          5750862.5076177055,
          5584816.2111644605,
          5418769.915053417,
          5252723.620418714,
          5086677.331510972,
          4920631.062737063,
          4754584.858572978,
          4588538.844892021,
          4422493.350202764,
          4256449.169354651,
          4090408.0940233325,
          3924373.90335199,
          3758354.0866123578,
          3592362.63955076,
          3426424.308960891,
          3260580.6221398176,
          3094897.8990238905,
          2929477.1904117903,
          2764465.7279158086,
          2600069.054526198,
          2436562.6020858916,
          2274301.1822974826,
          2113724.7452009297,
          1955358.8908948295,
          1799809.01046506,
          1647747.5436116622,
          1499894.5905242092,
          1356992.8915888306,
          1219778.870892063,
          1088951.925048923,
          965144.359699891,
          848894.3096410447,
          740623.6483407438,
          640622.3593661708,
          549040.190064933,
          465885.7277575579,
          391032.413746987,
          324230.5046139883,
          265123.6424372342,
          213268.51865366762,
          168156.10038649867,
          129233.0064649717,
          95921.83641289435,
          67639.52963283421,
          43813.12651642444,
          23892.587185181826,
          7360.5742363719555,
          -6260.690765375989,
          -17405.23721209909,
          -26461.464546065,
          -33772.16327618537,
          -39636.01993087405,
          -44310.20709347572,
          -48013.69931249692,
          -50931.00739127072,
          -53216.080320684676,
          -54996.18054060257,
          -56375.59053302568,
          -57439.05463938501,
          -58254.898322257526,
          -58877.79763231015,
          -59351.19480363971,
          -59709.372490598194,
          -59979.210185651486,
          -60181.65288782633,
          -60332.92514952703,
          -60445.5241360032,
          -60529.02406991626,
          -60590.7220401647,
          -60636.15212491693,
          -60669.49148216202
         ],
         "yaxis": "y"
        },
        {
         "name": "EUA Mar25 65P",
         "type": "scatter",
         "x": [
          30,
          31,
          32,
          33,
          34,
          35,
          36,
          37,
          38,
          39,
          40,
          41,
          42,
          43,
          44,
          45,
          46,
          47,
          48,
          49,
          50,
          51,
          52,
          53,
          54,
          55,
          56,
          57,
          58,
          59,
          60,
          61,
          62,
          63,
          64,
          65,
          66,
          67,
          68,
          69,
          70,
          71,
          72,
          73,
          74,
          75,
          76,
          77,
          78,
          79,
          80,
          81,
          82,
          83,
          84,
          85,
          86,
          87,
          88,
          89,
          90,
          91,
          92,
          93,
          94,
          95,
          96,
          97,
          98,
          99,
          100
         ],
         "xaxis": "x2",
         "y": [
          -99999.99998027137,
          -99999.99989393838,
          -99999.9994943659,
          -99999.99784188224,
          -99999.99168242529,
          -99999.97082876282,
          -99999.90624797669,
          -99999.72214291187,
          -99999.2362092571,
          -99998.04244080611,
          -99995.29973953389,
          -99989.38061466126,
          -99977.33294634496,
          -99954.12065690971,
          -99911.64140609131,
          -99837.57211622868,
          -99714.16054534931,
          -99517.15016254358,
          -99215.0777139602,
          -98769.19872013184,
          -98134.26145556675,
          -97260.26097842715,
          -96095.17108111938,
          -94588.4955769279,
          -92695.33079270915,
          -90380.51884364254,
          -87622.41989384056,
          -84415.85261501514,
          -80773.84237632922,
          -76727.96002869704,
          -72327.2051856558,
          -67635.558173733,
          -62728.46850128174,
          -57688.646104018626,
          -52601.565655141116,
          -47551.084486091786,
          -42615.51979002025,
          -37864.444613811465,
          -33356.3605482985,
          -29137.30303290881,
          -25240.34492452425,
          -21685.89352816268,
          -18482.62947793099,
          -15628.912744464451,
          -13114.47882930037,
          -10922.262322149845,
          -9030.21015564649,
          -7412.977933073306,
          -6043.43518479239,
          -4893.9359276419345,
          -3937.3371940919164,
          -3147.769060787109,
          -2501.174814218854,
          -1975.649568281046,
          -1551.6106339475423,
          -1211.8341853532445,
          -941.3912676988101,
          -727.5128835790401,
          -559.4095738756688,
          -428.0662092340792,
          -326.0280901450585,
          -247.19022397179378,
          -186.59798142584006,
          -140.26430674214384,
          -105.00626550120629,
          -78.3019138912433,
          -58.16718785780495,
          -43.05165289504309,
          -31.751437308635833,
          -23.337412151924752,
          -17.09660862685425
         ],
         "yaxis": "y2"
        },
        {
         "name": "EUA Mar25 70P",
         "type": "scatter",
         "x": [
          30,
          31,
          32,
          33,
          34,
          35,
          36,
          37,
          38,
          39,
          40,
          41,
          42,
          43,
          44,
          45,
          46,
          47,
          48,
          49,
          50,
          51,
          52,
          53,
          54,
          55,
          56,
          57,
          58,
          59,
          60,
          61,
          62,
          63,
          64,
          65,
          66,
          67,
          68,
          69,
          70,
          71,
          72,
          73,
          74,
          75,
          76,
          77,
          78,
          79,
          80,
          81,
          82,
          83,
          84,
          85,
          86,
          87,
          88,
          89,
          90,
          91,
          92,
          93,
          94,
          95,
          96,
          97,
          98,
          99,
          100
         ],
         "xaxis": "x",
         "y": [
          3255446.8571786312,
          3172423.7089090366,
          3089400.560639495,
          3006377.4123703227,
          2923354.2641034233,
          2840331.1158488495,
          2757307.967653914,
          2674284.8197184866,
          2591261.6728058183,
          2508238.5295684924,
          2425215.398446882,
          2342192.3041669377,
          2259169.3137545786,
          2176146.596117512,
          2093124.548653784,
          2010104.0477056096,
          1927086.9111225775,
          1844076.69781059,
          1761080.0036217594,
          1678108.4332674313,
          1595181.4187970988,
          1512330.0014986105,
          1429601.586156819,
          1347065.515608725,
          1264819.1151873174,
          1182993.6514863507,
          1101759.478943852,
          1021329.5542446263,
          941960.5174119148,
          863950.6866305781,
          787634.584147539,
          713373.9711714905,
          641545.769303724,
          572527.6239488586,
          506682.16313855944,
          444341.1786270046,
          385790.9817463438,
          331260.0654590081,
          280909.9597680252,
          234829.83995168665,
          193035.08388551293,
          155469.6234646416,
          122011.63566454707,
          92481.89850928454,
          66654.00928427021,
          44265.62625409965,
          25029.939462398503,
          8646.682164047288,
          -5187.859994945715,
          -16772.221664099055,
          -26392.730038164038,
          -34318.14841709653,
          -40795.942391347875,
          -46050.0297212304,
          -50279.8154517898,
          -53660.28243608764,
          -56342.899692546445,
          -58457.12140487539,
          -60112.27227211859,
          -61399.64518989108,
          -62394.67058453748,
          -63159.049817276646,
          -63742.77561377293,
          -64185.98904671555,
          -64520.64454083862,
          -64771.97158344646,
          -64959.734602940924,
          -65099.30135610158,
          -65202.53579073776,
          -65278.534396767594,
          -65334.226160823564
         ],
         "yaxis": "y"
        },
        {
         "name": "EUA Mar25 70P",
         "type": "scatter",
         "x": [
          30,
          31,
          32,
          33,
          34,
          35,
          36,
          37,
          38,
          39,
          40,
          41,
          42,
          43,
          44,
          45,
          46,
          47,
          48,
          49,
          50,
          51,
          52,
          53,
          54,
          55,
          56,
          57,
          58,
          59,
          60,
          61,
          62,
          63,
          64,
          65,
          66,
          67,
          68,
          69,
          70,
          71,
          72,
          73,
          74,
          75,
          76,
          77,
          78,
          79,
          80,
          81,
          82,
          83,
          84,
          85,
          86,
          87,
          88,
          89,
          90,
          91,
          92,
          93,
          94,
          95,
          96,
          97,
          98,
          99,
          100
         ],
         "xaxis": "x2",
         "y": [
          -49999.999999998814,
          -49999.9999999892,
          -49999.999999915264,
          -49999.9999994216,
          -49999.999996528175,
          -49999.999981498964,
          -49999.99991171006,
          -49999.99961970683,
          -49999.99851090958,
          -49999.994664852406,
          -49999.98240548222,
          -49999.94629948105,
          -49999.84755275186,
          -49999.595614044476,
          -49998.993423607855,
          -49997.63968663797,
          -49994.767177352944,
          -49988.994686052676,
          -49977.97469159629,
          -49957.93179567604,
          -49923.10951955439,
          -49865.17365072241,
          -49772.6539776887,
          -49630.535034684006,
          -49420.121115349466,
          -49119.29322620029,
          -48703.241689678725,
          -48145.69954286083,
          -47420.62686295937,
          -46504.21785735051,
          -45377.03628922386,
          -44026.044395133176,
          -42446.28492510397,
          -40642.00745746255,
          -38627.093621373635,
          -36424.72031428459,
          -34066.29113114833,
          -31589.749495619137,
          -29037.450430863977,
          -26453.80404539267,
          -23882.910402777106,
          -21366.385142777373,
          -18941.534342913958,
          -16639.983979439192,
          -14486.81260589153,
          -12500.183073283666,
          -10691.425826268092,
          -9065.495698516823,
          -7621.707072009675,
          -6354.647750121356,
          -5255.177626146213,
          -4311.4312494480055,
          -3509.760635665565,
          -2835.573378189682,
          -2274.0391018784558,
          -1810.65303316863,
          -1431.6580775476261,
          -1124.3359952755604,
          -877.1841796744451,
          -679.9975855536544,
          -523.8760976377376,
          -401.17668430802445,
          -305.4276317162541,
          -231.21949722638146,
          -174.0845545486702,
          -130.3737126642168,
          -97.13736379490246,
          -72.01445574141485,
          -53.132329760752214,
          -39.018509775951,
          -28.52463578603137
         ],
         "yaxis": "y2"
        },
        {
         "mode": "lines",
         "name": "Total_PnL",
         "type": "scatter",
         "x": [
          30,
          31,
          32,
          33,
          34,
          35,
          36,
          37,
          38,
          39,
          40,
          41,
          42,
          43,
          44,
          45,
          46,
          47,
          48,
          49,
          50,
          51,
          52,
          53,
          54,
          55,
          56,
          57,
          58,
          59,
          60,
          61,
          62,
          63,
          64,
          65,
          66,
          67,
          68,
          69,
          70,
          71,
          72,
          73,
          74,
          75,
          76,
          77,
          78,
          79,
          80,
          81,
          82,
          83,
          84,
          85,
          86,
          87,
          88,
          89,
          90,
          91,
          92,
          93,
          94,
          95,
          96,
          97,
          98,
          99,
          100
         ],
         "xaxis": "x",
         "y": [
          18911006.816139195,
          18329844.923071936,
          17748683.35838251,
          17167522.73636566,
          16586364.605083648,
          16005212.569647685,
          15424074.433157561,
          14842965.975377232,
          14261917.151942546,
          13680981.576665677,
          13100250.074408727,
          12519868.803218547,
          11940061.920952171,
          11361158.048964234,
          10783618.959669404,
          10208068.128378415,
          9635316.201575676,
          9066380.181723211,
          8502493.296184637,
          7945103.113387851,
          7395856.423986706,
          6856570.5876902705,
          6329192.292628638,
          5815745.817034587,
          5318273.783835984,
          4838773.966794403,
          4379135.907951781,
          3941080.959481201,
          3526108.9287313516,
          3135453.867468285,
          2770050.795781194,
          2430514.3708172375,
          2117129.766575796,
          1829855.3692097445,
          1568336.3392616017,
          1331927.659505195,
          1119724.9759649504,
          930601.3459307547,
          763247.9232332598,
          616216.6289445603,
          487962.9646235695,
          376887.31255922257,
          281373.3176895676,
          199822.24072213093,
          130682.49116564343,
          72473.87160770265,
          23806.370862225023,
          -16606.3833773247,
          -49938.67476181923,
          -77248.74060081167,
          -99478.67879092164,
          -117457.52968052457,
          -131906.82972999293,
          -143447.96074973454,
          -152610.6760716369,
          -159842.26323516475,
          -165516.89229632536,
          -169944.79163474005,
          -173380.98273606854,
          -176033.3872350766,
          -178070.1905899131,
          -179626.4056814057,
          -180809.6261556996,
          -181704.9941077751,
          -182379.43098093168,
          -182885.1959047189,
          -183262.84379916068,
          -183543.65808452878,
          -183751.63125655882,
          -183905.06221468624,
          -184017.83313297844
         ],
         "yaxis": "y"
        },
        {
         "mode": "lines",
         "name": "Total_Delta",
         "type": "scatter",
         "x": [
          30,
          31,
          32,
          33,
          34,
          35,
          36,
          37,
          38,
          39,
          40,
          41,
          42,
          43,
          44,
          45,
          46,
          47,
          48,
          49,
          50,
          51,
          52,
          53,
          54,
          55,
          56,
          57,
          58,
          59,
          60,
          61,
          62,
          63,
          64,
          65,
          66,
          67,
          68,
          69,
          70,
          71,
          72,
          73,
          74,
          75,
          76,
          77,
          78,
          79,
          80,
          81,
          82,
          83,
          84,
          85,
          86,
          87,
          88,
          89,
          90,
          91,
          92,
          93,
          94,
          95,
          96,
          97,
          98,
          99,
          100
         ],
         "xaxis": "x2",
         "y": [
          -349999.95626553154,
          -349999.84883113275,
          -349999.52398600255,
          -349998.6241112362,
          -349996.3245518871,
          -349990.87001186016,
          -349978.7929024327,
          -349953.7042831497,
          -349904.5772654165,
          -349813.51450009673,
          -349653.10499087785,
          -349383.6154868723,
          -348950.39859784965,
          -348281.9964989013,
          -347289.4415952261,
          -345867.18367855833,
          -343895.9081050572,
          -341247.27500172844,
          -337790.34618160146,
          -333399.22211684467,
          -327961.2295100617,
          -321384.9105193177,
          -313607.0783244285,
          -304598.311899265,
          -294366.4415799966,
          -282957.7935141139,
          -270456.181192948,
          -256979.82691523083,
          -242676.54537267576,
          -227717.61655808418,
          -212290.81669079297,
          -196593.07182616892,
          -180823.16101283996,
          -165174.83657477912,
          -149830.658837885,
          -134956.76898652007,
          -120698.75136138334,
          -107178.66779244745,
          -94493.28267797094,
          -82713.43935822009,
          -71884.49705194226,
          -62027.69479692193,
          -53142.27621970455,
          -45208.188071384306,
          -38189.15714754973,
          -32035.954321291152,
          -26689.66974394588,
          -22084.847643483074,
          -18152.359750856493,
          -14821.930107739556,
          -12024.257858415276,
          -9692.716034097815,
          -7764.631369491165,
          -6182.171652816349,
          -4892.882524301179,
          -3849.925146397171,
          -3012.0703841918557,
          -2343.504971268906,
          -1813.5016511406197,
          -1395.9995409512371,
          -1069.1339333541994,
          -814.7472496133123,
          -617.9055123436361,
          -466.4379625400727,
          -350.51157411251086,
          -262.247348143213,
          -195.3814158758227,
          -144.971083283002,
          -107.14390131767448,
          -78.8865102674896,
          -57.869243252273165
         ],
         "yaxis": "y2"
        }
       ],
       "layout": {
        "autosize": true,
        "barmode": "stack",
        "template": {
         "data": {
          "bar": [
           {
            "error_x": {
             "color": "#2a3f5f"
            },
            "error_y": {
             "color": "#2a3f5f"
            },
            "marker": {
             "line": {
              "color": "#E5ECF6",
              "width": 0.5
             },
             "pattern": {
              "fillmode": "overlay",
              "size": 10,
              "solidity": 0.2
             }
            },
            "type": "bar"
           }
          ],
          "barpolar": [
           {
            "marker": {
             "line": {
              "color": "#E5ECF6",
              "width": 0.5
             },
             "pattern": {
              "fillmode": "overlay",
              "size": 10,
              "solidity": 0.2
             }
            },
            "type": "barpolar"
           }
          ],
          "carpet": [
           {
            "aaxis": {
             "endlinecolor": "#2a3f5f",
             "gridcolor": "white",
             "linecolor": "white",
             "minorgridcolor": "white",
             "startlinecolor": "#2a3f5f"
            },
            "baxis": {
             "endlinecolor": "#2a3f5f",
             "gridcolor": "white",
             "linecolor": "white",
             "minorgridcolor": "white",
             "startlinecolor": "#2a3f5f"
            },
            "type": "carpet"
           }
          ],
          "choropleth": [
           {
            "colorbar": {
             "outlinewidth": 0,
             "ticks": ""
            },
            "type": "choropleth"
           }
          ],
          "contour": [
           {
            "colorbar": {
             "outlinewidth": 0,
             "ticks": ""
            },
            "colorscale": [
             [
              0,
              "#0d0887"
             ],
             [
              0.1111111111111111,
              "#46039f"
             ],
             [
              0.2222222222222222,
              "#7201a8"
             ],
             [
              0.3333333333333333,
              "#9c179e"
             ],
             [
              0.4444444444444444,
              "#bd3786"
             ],
             [
              0.5555555555555556,
              "#d8576b"
             ],
             [
              0.6666666666666666,
              "#ed7953"
             ],
             [
              0.7777777777777778,
              "#fb9f3a"
             ],
             [
              0.8888888888888888,
              "#fdca26"
             ],
             [
              1,
              "#f0f921"
             ]
            ],
            "type": "contour"
           }
          ],
          "contourcarpet": [
           {
            "colorbar": {
             "outlinewidth": 0,
             "ticks": ""
            },
            "type": "contourcarpet"
           }
          ],
          "heatmap": [
           {
            "colorbar": {
             "outlinewidth": 0,
             "ticks": ""
            },
            "colorscale": [
             [
              0,
              "#0d0887"
             ],
             [
              0.1111111111111111,
              "#46039f"
             ],
             [
              0.2222222222222222,
              "#7201a8"
             ],
             [
              0.3333333333333333,
              "#9c179e"
             ],
             [
              0.4444444444444444,
              "#bd3786"
             ],
             [
              0.5555555555555556,
              "#d8576b"
             ],
             [
              0.6666666666666666,
              "#ed7953"
             ],
             [
              0.7777777777777778,
              "#fb9f3a"
             ],
             [
              0.8888888888888888,
              "#fdca26"
             ],
             [
              1,
              "#f0f921"
             ]
            ],
            "type": "heatmap"
           }
          ],
          "heatmapgl": [
           {
            "colorbar": {
             "outlinewidth": 0,
             "ticks": ""
            },
            "colorscale": [
             [
              0,
              "#0d0887"
             ],
             [
              0.1111111111111111,
              "#46039f"
             ],
             [
              0.2222222222222222,
              "#7201a8"
             ],
             [
              0.3333333333333333,
              "#9c179e"
             ],
             [
              0.4444444444444444,
              "#bd3786"
             ],
             [
              0.5555555555555556,
              "#d8576b"
             ],
             [
              0.6666666666666666,
              "#ed7953"
             ],
             [
              0.7777777777777778,
              "#fb9f3a"
             ],
             [
              0.8888888888888888,
              "#fdca26"
             ],
             [
              1,
              "#f0f921"
             ]
            ],
            "type": "heatmapgl"
           }
          ],
          "histogram": [
           {
            "marker": {
             "pattern": {
              "fillmode": "overlay",
              "size": 10,
              "solidity": 0.2
             }
            },
            "type": "histogram"
           }
          ],
          "histogram2d": [
           {
            "colorbar": {
             "outlinewidth": 0,
             "ticks": ""
            },
            "colorscale": [
             [
              0,
              "#0d0887"
             ],
             [
              0.1111111111111111,
              "#46039f"
             ],
             [
              0.2222222222222222,
              "#7201a8"
             ],
             [
              0.3333333333333333,
              "#9c179e"
             ],
             [
              0.4444444444444444,
              "#bd3786"
             ],
             [
              0.5555555555555556,
              "#d8576b"
             ],
             [
              0.6666666666666666,
              "#ed7953"
             ],
             [
              0.7777777777777778,
              "#fb9f3a"
             ],
             [
              0.8888888888888888,
              "#fdca26"
             ],
             [
              1,
              "#f0f921"
             ]
            ],
            "type": "histogram2d"
           }
          ],
          "histogram2dcontour": [
           {
            "colorbar": {
             "outlinewidth": 0,
             "ticks": ""
            },
            "colorscale": [
             [
              0,
              "#0d0887"
             ],
             [
              0.1111111111111111,
              "#46039f"
             ],
             [
              0.2222222222222222,
              "#7201a8"
             ],
             [
              0.3333333333333333,
              "#9c179e"
             ],
             [
              0.4444444444444444,
              "#bd3786"
             ],
             [
              0.5555555555555556,
              "#d8576b"
             ],
             [
              0.6666666666666666,
              "#ed7953"
             ],
             [
              0.7777777777777778,
              "#fb9f3a"
             ],
             [
              0.8888888888888888,
              "#fdca26"
             ],
             [
              1,
              "#f0f921"
             ]
            ],
            "type": "histogram2dcontour"
           }
          ],
          "mesh3d": [
           {
            "colorbar": {
             "outlinewidth": 0,
             "ticks": ""
            },
            "type": "mesh3d"
           }
          ],
          "parcoords": [
           {
            "line": {
             "colorbar": {
              "outlinewidth": 0,
              "ticks": ""
             }
            },
            "type": "parcoords"
           }
          ],
          "pie": [
           {
            "automargin": true,
            "type": "pie"
           }
          ],
          "scatter": [
           {
            "fillpattern": {
             "fillmode": "overlay",
             "size": 10,
             "solidity": 0.2
            },
            "type": "scatter"
           }
          ],
          "scatter3d": [
           {
            "line": {
             "colorbar": {
              "outlinewidth": 0,
              "ticks": ""
             }
            },
            "marker": {
             "colorbar": {
              "outlinewidth": 0,
              "ticks": ""
             }
            },
            "type": "scatter3d"
           }
          ],
          "scattercarpet": [
           {
            "marker": {
             "colorbar": {
              "outlinewidth": 0,
              "ticks": ""
             }
            },
            "type": "scattercarpet"
           }
          ],
          "scattergeo": [
           {
            "marker": {
             "colorbar": {
              "outlinewidth": 0,
              "ticks": ""
             }
            },
            "type": "scattergeo"
           }
          ],
          "scattergl": [
           {
            "marker": {
             "colorbar": {
              "outlinewidth": 0,
              "ticks": ""
             }
            },
            "type": "scattergl"
           }
          ],
          "scattermapbox": [
           {
            "marker": {
             "colorbar": {
              "outlinewidth": 0,
              "ticks": ""
             }
            },
            "type": "scattermapbox"
           }
          ],
          "scatterpolar": [
           {
            "marker": {
             "colorbar": {
              "outlinewidth": 0,
              "ticks": ""
             }
            },
            "type": "scatterpolar"
           }
          ],
          "scatterpolargl": [
           {
            "marker": {
             "colorbar": {
              "outlinewidth": 0,
              "ticks": ""
             }
            },
            "type": "scatterpolargl"
           }
          ],
          "scatterternary": [
           {
            "marker": {
             "colorbar": {
              "outlinewidth": 0,
              "ticks": ""
             }
            },
            "type": "scatterternary"
           }
          ],
          "surface": [
           {
            "colorbar": {
             "outlinewidth": 0,
             "ticks": ""
            },
            "colorscale": [
             [
              0,
              "#0d0887"
             ],
             [
              0.1111111111111111,
              "#46039f"
             ],
             [
              0.2222222222222222,
              "#7201a8"
             ],
             [
              0.3333333333333333,
              "#9c179e"
             ],
             [
              0.4444444444444444,
              "#bd3786"
             ],
             [
              0.5555555555555556,
              "#d8576b"
             ],
             [
              0.6666666666666666,
              "#ed7953"
             ],
             [
              0.7777777777777778,
              "#fb9f3a"
             ],
             [
              0.8888888888888888,
              "#fdca26"
             ],
             [
              1,
              "#f0f921"
             ]
            ],
            "type": "surface"
           }
          ],
          "table": [
           {
            "cells": {
             "fill": {
              "color": "#EBF0F8"
             },
             "line": {
              "color": "white"
             }
            },
            "header": {
             "fill": {
              "color": "#C8D4E3"
             },
             "line": {
              "color": "white"
             }
            },
            "type": "table"
           }
          ]
         },
         "layout": {
          "annotationdefaults": {
           "arrowcolor": "#2a3f5f",
           "arrowhead": 0,
           "arrowwidth": 1
          },
          "autotypenumbers": "strict",
          "coloraxis": {
           "colorbar": {
            "outlinewidth": 0,
            "ticks": ""
           }
          },
          "colorscale": {
           "diverging": [
            [
             0,
             "#8e0152"
            ],
            [
             0.1,
             "#c51b7d"
            ],
            [
             0.2,
             "#de77ae"
            ],
            [
             0.3,
             "#f1b6da"
            ],
            [
             0.4,
             "#fde0ef"
            ],
            [
             0.5,
             "#f7f7f7"
            ],
            [
             0.6,
             "#e6f5d0"
            ],
            [
             0.7,
             "#b8e186"
            ],
            [
             0.8,
             "#7fbc41"
            ],
            [
             0.9,
             "#4d9221"
            ],
            [
             1,
             "#276419"
            ]
           ],
           "sequential": [
            [
             0,
             "#0d0887"
            ],
            [
             0.1111111111111111,
             "#46039f"
            ],
            [
             0.2222222222222222,
             "#7201a8"
            ],
            [
             0.3333333333333333,
             "#9c179e"
            ],
            [
             0.4444444444444444,
             "#bd3786"
            ],
            [
             0.5555555555555556,
             "#d8576b"
            ],
            [
             0.6666666666666666,
             "#ed7953"
            ],
            [
             0.7777777777777778,
             "#fb9f3a"
            ],
            [
             0.8888888888888888,
             "#fdca26"
            ],
            [
             1,
             "#f0f921"
            ]
           ],
           "sequentialminus": [
            [
             0,
             "#0d0887"
            ],
            [
             0.1111111111111111,
             "#46039f"
            ],
            [
             0.2222222222222222,
             "#7201a8"
            ],
            [
             0.3333333333333333,
             "#9c179e"
            ],
            [
             0.4444444444444444,
             "#bd3786"
            ],
            [
             0.5555555555555556,
             "#d8576b"
            ],
            [
             0.6666666666666666,
             "#ed7953"
            ],
            [
             0.7777777777777778,
             "#fb9f3a"
            ],
            [
             0.8888888888888888,
             "#fdca26"
            ],
            [
             1,
             "#f0f921"
            ]
           ]
          },
          "colorway": [
           "#636efa",
           "#EF553B",
           "#00cc96",
           "#ab63fa",
           "#FFA15A",
           "#19d3f3",
           "#FF6692",
           "#B6E880",
           "#FF97FF",
           "#FECB52"
          ],
          "font": {
           "color": "#2a3f5f"
          },
          "geo": {
           "bgcolor": "white",
           "lakecolor": "white",
           "landcolor": "#E5ECF6",
           "showlakes": true,
           "showland": true,
           "subunitcolor": "white"
          },
          "hoverlabel": {
           "align": "left"
          },
          "hovermode": "closest",
          "mapbox": {
           "style": "light"
          },
          "paper_bgcolor": "white",
          "plot_bgcolor": "#E5ECF6",
          "polar": {
           "angularaxis": {
            "gridcolor": "white",
            "linecolor": "white",
            "ticks": ""
           },
           "bgcolor": "#E5ECF6",
           "radialaxis": {
            "gridcolor": "white",
            "linecolor": "white",
            "ticks": ""
           }
          },
          "scene": {
           "xaxis": {
            "backgroundcolor": "#E5ECF6",
            "gridcolor": "white",
            "gridwidth": 2,
            "linecolor": "white",
            "showbackground": true,
            "ticks": "",
            "zerolinecolor": "white"
           },
           "yaxis": {
            "backgroundcolor": "#E5ECF6",
            "gridcolor": "white",
            "gridwidth": 2,
            "linecolor": "white",
            "showbackground": true,
            "ticks": "",
            "zerolinecolor": "white"
           },
           "zaxis": {
            "backgroundcolor": "#E5ECF6",
            "gridcolor": "white",
            "gridwidth": 2,
            "linecolor": "white",
            "showbackground": true,
            "ticks": "",
            "zerolinecolor": "white"
           }
          },
          "shapedefaults": {
           "line": {
            "color": "#2a3f5f"
           }
          },
          "ternary": {
           "aaxis": {
            "gridcolor": "white",
            "linecolor": "white",
            "ticks": ""
           },
           "baxis": {
            "gridcolor": "white",
            "linecolor": "white",
            "ticks": ""
           },
           "bgcolor": "#E5ECF6",
           "caxis": {
            "gridcolor": "white",
            "linecolor": "white",
            "ticks": ""
           }
          },
          "title": {
           "x": 0.05
          },
          "xaxis": {
           "automargin": true,
           "gridcolor": "white",
           "linecolor": "white",
           "ticks": "",
           "title": {
            "standoff": 15
           },
           "zerolinecolor": "white",
           "zerolinewidth": 2
          },
          "yaxis": {
           "automargin": true,
           "gridcolor": "white",
           "linecolor": "white",
           "ticks": "",
           "title": {
            "standoff": 15
           },
           "zerolinecolor": "white",
           "zerolinewidth": 2
          }
         }
        },
        "title": {
         "text": "Todays Option Pos (PnL and Delta)",
         "x": 0.5,
         "xanchor": "center"
        },
        "xaxis": {
         "anchor": "y",
         "autorange": true,
         "domain": [
          0,
          0.45
         ],
         "range": [
          30,
          100
         ],
         "title": {
          "text": "Price"
         },
         "type": "linear"
        },
        "xaxis2": {
         "anchor": "y2",
         "autorange": true,
         "domain": [
          0.55,
          1
         ],
         "range": [
          30,
          100
         ],
         "title": {
          "text": "Price"
         },
         "type": "linear"
        },
        "yaxis": {
         "anchor": "x",
         "autorange": true,
         "domain": [
          0,
          1
         ],
         "range": [
          -1244852.5358703216,
          19971841.518876538
         ],
         "title": {
          "text": "Pnl"
         },
         "type": "linear"
        },
        "yaxis2": {
         "anchor": "x2",
         "autorange": true,
         "domain": [
          0,
          1
         ],
         "range": [
          -369443.71783590334,
          19431.5135715324
         ],
         "title": {
          "text": "Delta"
         },
         "type": "linear"
        }
       }
      },
      "image/png": "[encoded data removed]",
      "text/html": [
       "<div>                            <div id=\"0b43e04f-6e53-473b-bb5c-331f3e8d703b\" class=\"plotly-graph-div\" style=\"height:525px; width:100%;\"></div>            <script type=\"text/javascript\">                require([\"plotly\"], function(Plotly) {                    window.PLOTLYENV=window.PLOTLYENV || {};                                    if (document.getElementById(\"0b43e04f-6e53-473b-bb5c-331f3e8d703b\")) {                    Plotly.newPlot(                        \"0b43e04f-6e53-473b-bb5c-331f3e8d703b\",                        [{\"name\":\"EUA Mar25 60P\",\"x\":[30,31,32,33,34,35,36,37,38,39,40,41,42,43,44,45,46,47,48,49,50,51,52,53,54,55,56,57,58,59,60,61,62,63,64,65,66,67,68,69,70,71,72,73,74,75,76,77,78,79,80,81,82,83,84,85,86,87,88,89,90,91,92,93,94,95,96,97,98,99,100],\"y\":[9904697.451342857,9572605.002998438,9240512.882689597,8908421.703576624,8576333.009469252,8244250.3910617735,7912181.60693067,7580142.310766722,7248162.128933964,6916293.877742534,6584626.581938513,6253302.59569962,5922538.520585234,5592648.813295963,5264070.102054729,4937383.458532988,4613331.391429208,4292826.29350083,3976947.5646470687,3666925.625594221,3364112.4031037157,3069939.4038941776,2785865.9612708897,2513321.4105310324,2253645.658183607,2008032.7716963908,1777481.8384837199,1562758.5136477444,1364369.540427374,1182551.255788784,1017271.8519337644,868246.0900047022,734960.3489313283,616705.385894715,512613.9860581093,421700.7531206325,342901.58047161944,275110.77585775824,217214.32102800047,168118.270339206,126771.78035155793,92184.68262960929,63439.845612126184,39700.81258001216,20215.355364948777,4315.658168421178,-8584.142836545436,-18992.374775996,-27345.57755477443,-34015.054390647616,-39313.78547657224,-43503.36133255399,-46800.68024516933,-49384.231716007205,-51399.85322857637,-52965.90047839245,-54177.81206317635,-55112.07969683897,-55829.65582456494,-56378.843722927995,-56797.72237306547,-57116.16106048934,-57357.478051328464,-57539.79487540806,-57677.13355226675,-57780.29917174541,-57857.58506021653,-57915.33265851093,-57958.373425656355,-57990.37569300171,-58014.11548999286],\"type\":\"scatter\",\"xaxis\":\"x\",\"yaxis\":\"y\"},{\"name\":\"EUA Mar25 60P\",\"x\":[30,31,32,33,34,35,36,37,38,39,40,41,42,43,44,45,46,47,48,49,50,51,52,53,54,55,56,57,58,59,60,61,62,63,64,65,66,67,68,69,70,71,72,73,74,75,76,77,78,79,80,81,82,83,84,85,86,87,88,89,90,91,92,93,94,95,96,97,98,99,100],\"y\":[-199999.95628526135,-199999.84893720518,-199999.52449172141,-199998.62626993237,-199996.33287293365,-199990.89920159837,-199978.88674274593,-199953.982520531,-199905.34254524985,-199815.47739443823,-199657.82284586175,-199394.28857273003,-198973.21809875287,-198328.28022794714,-197378.80676552694,-196031.97187569167,-194186.98038235493,-191741.1301531322,-188597.29377604494,-184672.09160103678,-179903.85853494052,-174259.47589016813,-167739.25326562047,-160379.28128765308,-152250.98967193798,-143457.98144427108,-134130.51960942874,-124418.27475735487,-114482.07613338716,-104485.43867203663,-94586.5752159133,-84931.46925730273,-75648.40758645425,-66844.18301329794,-58601.99956137026,-50980.964186143705,-44016.940440214756,-37724.473683016855,-32099.47169880847,-27122.332279918603,-22761.241724640913,-18975.41612598188,-15718.112398859606,-12939.291347480663,-10587.865712357836,-8613.508925857637,-6968.0337620313,-5606.374011892945,-4487.217494054429,-3573.346429976265,-2831.743038177148,-2233.5157238627003,-1753.695919606746,-1370.9487063456204,-1067.2327884751808,-827.4379278752964,-639.0210389454198,-491.6560924143054,-376.907897590506,-287.9357461635035,-219.22974557140319,-166.3803413334941,-125.87989920154197,-94.95415857154742,-71.42075406263437,-53.57172158775292,-40.076864223115294,-29.90497464654407,-22.260134248286434,-16.53058833961385,-12.247998839387542],\"type\":\"scatter\",\"xaxis\":\"x2\",\"yaxis\":\"y2\"},{\"name\":\"EUA Mar25 65P\",\"x\":[30,31,32,33,34,35,36,37,38,39,40,41,42,43,44,45,46,47,48,49,50,51,52,53,54,55,56,57,58,59,60,61,62,63,64,65,66,67,68,69,70,71,72,73,74,75,76,77,78,79,80,81,82,83,84,85,86,87,88,89,90,91,92,93,94,95,96,97,98,99,100],\"y\":[5750862.5076177055,5584816.2111644605,5418769.915053417,5252723.620418714,5086677.331510972,4920631.062737063,4754584.858572978,4588538.844892021,4422493.350202764,4256449.169354651,4090408.0940233325,3924373.90335199,3758354.0866123578,3592362.63955076,3426424.308960891,3260580.6221398176,3094897.8990238905,2929477.1904117903,2764465.7279158086,2600069.054526198,2436562.6020858916,2274301.1822974826,2113724.7452009297,1955358.8908948295,1799809.01046506,1647747.5436116622,1499894.5905242092,1356992.8915888306,1219778.870892063,1088951.925048923,965144.359699891,848894.3096410447,740623.6483407438,640622.3593661708,549040.190064933,465885.7277575579,391032.413746987,324230.5046139883,265123.6424372342,213268.51865366762,168156.10038649867,129233.0064649717,95921.83641289435,67639.52963283421,43813.12651642444,23892.587185181826,7360.5742363719555,-6260.690765375989,-17405.23721209909,-26461.464546065,-33772.16327618537,-39636.01993087405,-44310.20709347572,-48013.69931249692,-50931.00739127072,-53216.080320684676,-54996.18054060257,-56375.59053302568,-57439.05463938501,-58254.898322257526,-58877.79763231015,-59351.19480363971,-59709.372490598194,-59979.210185651486,-60181.65288782633,-60332.92514952703,-60445.5241360032,-60529.02406991626,-60590.7220401647,-60636.15212491693,-60669.49148216202],\"type\":\"scatter\",\"xaxis\":\"x\",\"yaxis\":\"y\"},{\"name\":\"EUA Mar25 65P\",\"x\":[30,31,32,33,34,35,36,37,38,39,40,41,42,43,44,45,46,47,48,49,50,51,52,53,54,55,56,57,58,59,60,61,62,63,64,65,66,67,68,69,70,71,72,73,74,75,76,77,78,79,80,81,82,83,84,85,86,87,88,89,90,91,92,93,94,95,96,97,98,99,100],\"y\":[-99999.99998027137,-99999.99989393838,-99999.9994943659,-99999.99784188224,-99999.99168242529,-99999.97082876282,-99999.90624797669,-99999.72214291187,-99999.2362092571,-99998.04244080611,-99995.29973953389,-99989.38061466126,-99977.33294634496,-99954.12065690971,-99911.64140609131,-99837.57211622868,-99714.16054534931,-99517.15016254358,-99215.0777139602,-98769.19872013184,-98134.26145556675,-97260.26097842715,-96095.17108111938,-94588.4955769279,-92695.33079270915,-90380.51884364254,-87622.41989384056,-84415.85261501514,-80773.84237632922,-76727.96002869704,-72327.2051856558,-67635.558173733,-62728.46850128174,-57688.646104018626,-52601.565655141116,-47551.084486091786,-42615.51979002025,-37864.444613811465,-33356.3605482985,-29137.30303290881,-25240.34492452425,-21685.89352816268,-18482.62947793099,-15628.912744464451,-13114.47882930037,-10922.262322149845,-9030.21015564649,-7412.977933073306,-6043.43518479239,-4893.9359276419345,-3937.3371940919164,-3147.769060787109,-2501.174814218854,-1975.649568281046,-1551.6106339475423,-1211.8341853532445,-941.3912676988101,-727.5128835790401,-559.4095738756688,-428.0662092340792,-326.0280901450585,-247.19022397179378,-186.59798142584006,-140.26430674214384,-105.00626550120629,-78.3019138912433,-58.16718785780495,-43.05165289504309,-31.751437308635833,-23.337412151924752,-17.09660862685425],\"type\":\"scatter\",\"xaxis\":\"x2\",\"yaxis\":\"y2\"},{\"name\":\"EUA Mar25 70P\",\"x\":[30,31,32,33,34,35,36,37,38,39,40,41,42,43,44,45,46,47,48,49,50,51,52,53,54,55,56,57,58,59,60,61,62,63,64,65,66,67,68,69,70,71,72,73,74,75,76,77,78,79,80,81,82,83,84,85,86,87,88,89,90,91,92,93,94,95,96,97,98,99,100],\"y\":[3255446.8571786312,3172423.7089090366,3089400.560639495,3006377.4123703227,2923354.2641034233,2840331.1158488495,2757307.967653914,2674284.8197184866,2591261.6728058183,2508238.5295684924,2425215.398446882,2342192.3041669377,2259169.3137545786,2176146.596117512,2093124.548653784,2010104.0477056096,1927086.9111225775,1844076.69781059,1761080.0036217594,1678108.4332674313,1595181.4187970988,1512330.0014986105,1429601.586156819,1347065.515608725,1264819.1151873174,1182993.6514863507,1101759.478943852,1021329.5542446263,941960.5174119148,863950.6866305781,787634.584147539,713373.9711714905,641545.769303724,572527.6239488586,506682.16313855944,444341.1786270046,385790.9817463438,331260.0654590081,280909.9597680252,234829.83995168665,193035.08388551293,155469.6234646416,122011.63566454707,92481.89850928454,66654.00928427021,44265.62625409965,25029.939462398503,8646.682164047288,-5187.859994945715,-16772.221664099055,-26392.730038164038,-34318.14841709653,-40795.942391347875,-46050.0297212304,-50279.8154517898,-53660.28243608764,-56342.899692546445,-58457.12140487539,-60112.27227211859,-61399.64518989108,-62394.67058453748,-63159.049817276646,-63742.77561377293,-64185.98904671555,-64520.64454083862,-64771.97158344646,-64959.734602940924,-65099.30135610158,-65202.53579073776,-65278.534396767594,-65334.226160823564],\"type\":\"scatter\",\"xaxis\":\"x\",\"yaxis\":\"y\"},{\"name\":\"EUA Mar25 70P\",\"x\":[30,31,32,33,34,35,36,37,38,39,40,41,42,43,44,45,46,47,48,49,50,51,52,53,54,55,56,57,58,59,60,61,62,63,64,65,66,67,68,69,70,71,72,73,74,75,76,77,78,79,80,81,82,83,84,85,86,87,88,89,90,91,92,93,94,95,96,97,98,99,100],\"y\":[-49999.999999998814,-49999.9999999892,-49999.999999915264,-49999.9999994216,-49999.999996528175,-49999.999981498964,-49999.99991171006,-49999.99961970683,-49999.99851090958,-49999.994664852406,-49999.98240548222,-49999.94629948105,-49999.84755275186,-49999.595614044476,-49998.993423607855,-49997.63968663797,-49994.767177352944,-49988.994686052676,-49977.97469159629,-49957.93179567604,-49923.10951955439,-49865.17365072241,-49772.6539776887,-49630.535034684006,-49420.121115349466,-49119.29322620029,-48703.241689678725,-48145.69954286083,-47420.62686295937,-46504.21785735051,-45377.03628922386,-44026.044395133176,-42446.28492510397,-40642.00745746255,-38627.093621373635,-36424.72031428459,-34066.29113114833,-31589.749495619137,-29037.450430863977,-26453.80404539267,-23882.910402777106,-21366.385142777373,-18941.534342913958,-16639.983979439192,-14486.81260589153,-12500.183073283666,-10691.425826268092,-9065.495698516823,-7621.707072009675,-6354.647750121356,-5255.177626146213,-4311.4312494480055,-3509.760635665565,-2835.573378189682,-2274.0391018784558,-1810.65303316863,-1431.6580775476261,-1124.3359952755604,-877.1841796744451,-679.9975855536544,-523.8760976377376,-401.17668430802445,-305.4276317162541,-231.21949722638146,-174.0845545486702,-130.3737126642168,-97.13736379490246,-72.01445574141485,-53.132329760752214,-39.018509775951,-28.52463578603137],\"type\":\"scatter\",\"xaxis\":\"x2\",\"yaxis\":\"y2\"},{\"mode\":\"lines\",\"name\":\"Total_PnL\",\"x\":[30,31,32,33,34,35,36,37,38,39,40,41,42,43,44,45,46,47,48,49,50,51,52,53,54,55,56,57,58,59,60,61,62,63,64,65,66,67,68,69,70,71,72,73,74,75,76,77,78,79,80,81,82,83,84,85,86,87,88,89,90,91,92,93,94,95,96,97,98,99,100],\"y\":[18911006.816139195,18329844.923071936,17748683.35838251,17167522.73636566,16586364.605083648,16005212.569647685,15424074.433157561,14842965.975377232,14261917.151942546,13680981.576665677,13100250.074408727,12519868.803218547,11940061.920952171,11361158.048964234,10783618.959669404,10208068.128378415,9635316.201575676,9066380.181723211,8502493.296184637,7945103.113387851,7395856.423986706,6856570.5876902705,6329192.292628638,5815745.817034587,5318273.783835984,4838773.966794403,4379135.907951781,3941080.959481201,3526108.9287313516,3135453.867468285,2770050.795781194,2430514.3708172375,2117129.766575796,1829855.3692097445,1568336.3392616017,1331927.659505195,1119724.9759649504,930601.3459307547,763247.9232332598,616216.6289445603,487962.9646235695,376887.31255922257,281373.3176895676,199822.24072213093,130682.49116564343,72473.87160770265,23806.370862225023,-16606.3833773247,-49938.67476181923,-77248.74060081167,-99478.67879092164,-117457.52968052457,-131906.82972999293,-143447.96074973454,-152610.6760716369,-159842.26323516475,-165516.89229632536,-169944.79163474005,-173380.98273606854,-176033.3872350766,-178070.1905899131,-179626.4056814057,-180809.6261556996,-181704.9941077751,-182379.43098093168,-182885.1959047189,-183262.84379916068,-183543.65808452878,-183751.63125655882,-183905.06221468624,-184017.83313297844],\"type\":\"scatter\",\"xaxis\":\"x\",\"yaxis\":\"y\"},{\"mode\":\"lines\",\"name\":\"Total_Delta\",\"x\":[30,31,32,33,34,35,36,37,38,39,40,41,42,43,44,45,46,47,48,49,50,51,52,53,54,55,56,57,58,59,60,61,62,63,64,65,66,67,68,69,70,71,72,73,74,75,76,77,78,79,80,81,82,83,84,85,86,87,88,89,90,91,92,93,94,95,96,97,98,99,100],\"y\":[-349999.95626553154,-349999.84883113275,-349999.52398600255,-349998.6241112362,-349996.3245518871,-349990.87001186016,-349978.7929024327,-349953.7042831497,-349904.5772654165,-349813.51450009673,-349653.10499087785,-349383.6154868723,-348950.39859784965,-348281.9964989013,-347289.4415952261,-345867.18367855833,-343895.9081050572,-341247.27500172844,-337790.34618160146,-333399.22211684467,-327961.2295100617,-321384.9105193177,-313607.0783244285,-304598.311899265,-294366.4415799966,-282957.7935141139,-270456.181192948,-256979.82691523083,-242676.54537267576,-227717.61655808418,-212290.81669079297,-196593.07182616892,-180823.16101283996,-165174.83657477912,-149830.658837885,-134956.76898652007,-120698.75136138334,-107178.66779244745,-94493.28267797094,-82713.43935822009,-71884.49705194226,-62027.69479692193,-53142.27621970455,-45208.188071384306,-38189.15714754973,-32035.954321291152,-26689.66974394588,-22084.847643483074,-18152.359750856493,-14821.930107739556,-12024.257858415276,-9692.716034097815,-7764.631369491165,-6182.171652816349,-4892.882524301179,-3849.925146397171,-3012.0703841918557,-2343.504971268906,-1813.5016511406197,-1395.9995409512371,-1069.1339333541994,-814.7472496133123,-617.9055123436361,-466.4379625400727,-350.51157411251086,-262.247348143213,-195.3814158758227,-144.971083283002,-107.14390131767448,-78.8865102674896,-57.869243252273165],\"type\":\"scatter\",\"xaxis\":\"x2\",\"yaxis\":\"y2\"}],                        {\"template\":{\"data\":{\"histogram2dcontour\":[{\"type\":\"histogram2dcontour\",\"colorbar\":{\"outlinewidth\":0,\"ticks\":\"\"},\"colorscale\":[[0.0,\"#0d0887\"],[0.1111111111111111,\"#46039f\"],[0.2222222222222222,\"#7201a8\"],[0.3333333333333333,\"#9c179e\"],[0.4444444444444444,\"#bd3786\"],[0.5555555555555556,\"#d8576b\"],[0.6666666666666666,\"#ed7953\"],[0.7777777777777778,\"#fb9f3a\"],[0.8888888888888888,\"#fdca26\"],[1.0,\"#f0f921\"]]}],\"choropleth\":[{\"type\":\"choropleth\",\"colorbar\":{\"outlinewidth\":0,\"ticks\":\"\"}}],\"histogram2d\":[{\"type\":\"histogram2d\",\"colorbar\":{\"outlinewidth\":0,\"ticks\":\"\"},\"colorscale\":[[0.0,\"#0d0887\"],[0.1111111111111111,\"#46039f\"],[0.2222222222222222,\"#7201a8\"],[0.3333333333333333,\"#9c179e\"],[0.4444444444444444,\"#bd3786\"],[0.5555555555555556,\"#d8576b\"],[0.6666666666666666,\"#ed7953\"],[0.7777777777777778,\"#fb9f3a\"],[0.8888888888888888,\"#fdca26\"],[1.0,\"#f0f921\"]]}],\"heatmap\":[{\"type\":\"heatmap\",\"colorbar\":{\"outlinewidth\":0,\"ticks\":\"\"},\"colorscale\":[[0.0,\"#0d0887\"],[0.1111111111111111,\"#46039f\"],[0.2222222222222222,\"#7201a8\"],[0.3333333333333333,\"#9c179e\"],[0.4444444444444444,\"#bd3786\"],[0.5555555555555556,\"#d8576b\"],[0.6666666666666666,\"#ed7953\"],[0.7777777777777778,\"#fb9f3a\"],[0.8888888888888888,\"#fdca26\"],[1.0,\"#f0f921\"]]}],\"heatmapgl\":[{\"type\":\"heatmapgl\",\"colorbar\":{\"outlinewidth\":0,\"ticks\":\"\"},\"colorscale\":[[0.0,\"#0d0887\"],[0.1111111111111111,\"#46039f\"],[0.2222222222222222,\"#7201a8\"],[0.3333333333333333,\"#9c179e\"],[0.4444444444444444,\"#bd3786\"],[0.5555555555555556,\"#d8576b\"],[0.6666666666666666,\"#ed7953\"],[0.7777777777777778,\"#fb9f3a\"],[0.8888888888888888,\"#fdca26\"],[1.0,\"#f0f921\"]]}],\"contourcarpet\":[{\"type\":\"contourcarpet\",\"colorbar\":{\"outlinewidth\":0,\"ticks\":\"\"}}],\"contour\":[{\"type\":\"contour\",\"colorbar\":{\"outlinewidth\":0,\"ticks\":\"\"},\"colorscale\":[[0.0,\"#0d0887\"],[0.1111111111111111,\"#46039f\"],[0.2222222222222222,\"#7201a8\"],[0.3333333333333333,\"#9c179e\"],[0.4444444444444444,\"#bd3786\"],[0.5555555555555556,\"#d8576b\"],[0.6666666666666666,\"#ed7953\"],[0.7777777777777778,\"#fb9f3a\"],[0.8888888888888888,\"#fdca26\"],[1.0,\"#f0f921\"]]}],\"surface\":[{\"type\":\"surface\",\"colorbar\":{\"outlinewidth\":0,\"ticks\":\"\"},\"colorscale\":[[0.0,\"#0d0887\"],[0.1111111111111111,\"#46039f\"],[0.2222222222222222,\"#7201a8\"],[0.3333333333333333,\"#9c179e\"],[0.4444444444444444,\"#bd3786\"],[0.5555555555555556,\"#d8576b\"],[0.6666666666666666,\"#ed7953\"],[0.7777777777777778,\"#fb9f3a\"],[0.8888888888888888,\"#fdca26\"],[1.0,\"#f0f921\"]]}],\"mesh3d\":[{\"type\":\"mesh3d\",\"colorbar\":{\"outlinewidth\":0,\"ticks\":\"\"}}],\"scatter\":[{\"fillpattern\":{\"fillmode\":\"overlay\",\"size\":10,\"solidity\":0.2},\"type\":\"scatter\"}],\"parcoords\":[{\"type\":\"parcoords\",\"line\":{\"colorbar\":{\"outlinewidth\":0,\"ticks\":\"\"}}}],\"scatterpolargl\":[{\"type\":\"scatterpolargl\",\"marker\":{\"colorbar\":{\"outlinewidth\":0,\"ticks\":\"\"}}}],\"bar\":[{\"error_x\":{\"color\":\"#2a3f5f\"},\"error_y\":{\"color\":\"#2a3f5f\"},\"marker\":{\"line\":{\"color\":\"#E5ECF6\",\"width\":0.5},\"pattern\":{\"fillmode\":\"overlay\",\"size\":10,\"solidity\":0.2}},\"type\":\"bar\"}],\"scattergeo\":[{\"type\":\"scattergeo\",\"marker\":{\"colorbar\":{\"outlinewidth\":0,\"ticks\":\"\"}}}],\"scatterpolar\":[{\"type\":\"scatterpolar\",\"marker\":{\"colorbar\":{\"outlinewidth\":0,\"ticks\":\"\"}}}],\"histogram\":[{\"marker\":{\"pattern\":{\"fillmode\":\"overlay\",\"size\":10,\"solidity\":0.2}},\"type\":\"histogram\"}],\"scattergl\":[{\"type\":\"scattergl\",\"marker\":{\"colorbar\":{\"outlinewidth\":0,\"ticks\":\"\"}}}],\"scatter3d\":[{\"type\":\"scatter3d\",\"line\":{\"colorbar\":{\"outlinewidth\":0,\"ticks\":\"\"}},\"marker\":{\"colorbar\":{\"outlinewidth\":0,\"ticks\":\"\"}}}],\"scattermapbox\":[{\"type\":\"scattermapbox\",\"marker\":{\"colorbar\":{\"outlinewidth\":0,\"ticks\":\"\"}}}],\"scatterternary\":[{\"type\":\"scatterternary\",\"marker\":{\"colorbar\":{\"outlinewidth\":0,\"ticks\":\"\"}}}],\"scattercarpet\":[{\"type\":\"scattercarpet\",\"marker\":{\"colorbar\":{\"outlinewidth\":0,\"ticks\":\"\"}}}],\"carpet\":[{\"aaxis\":{\"endlinecolor\":\"#2a3f5f\",\"gridcolor\":\"white\",\"linecolor\":\"white\",\"minorgridcolor\":\"white\",\"startlinecolor\":\"#2a3f5f\"},\"baxis\":{\"endlinecolor\":\"#2a3f5f\",\"gridcolor\":\"white\",\"linecolor\":\"white\",\"minorgridcolor\":\"white\",\"startlinecolor\":\"#2a3f5f\"},\"type\":\"carpet\"}],\"table\":[{\"cells\":{\"fill\":{\"color\":\"#EBF0F8\"},\"line\":{\"color\":\"white\"}},\"header\":{\"fill\":{\"color\":\"#C8D4E3\"},\"line\":{\"color\":\"white\"}},\"type\":\"table\"}],\"barpolar\":[{\"marker\":{\"line\":{\"color\":\"#E5ECF6\",\"width\":0.5},\"pattern\":{\"fillmode\":\"overlay\",\"size\":10,\"solidity\":0.2}},\"type\":\"barpolar\"}],\"pie\":[{\"automargin\":true,\"type\":\"pie\"}]},\"layout\":{\"autotypenumbers\":\"strict\",\"colorway\":[\"#636efa\",\"#EF553B\",\"#00cc96\",\"#ab63fa\",\"#FFA15A\",\"#19d3f3\",\"#FF6692\",\"#B6E880\",\"#FF97FF\",\"#FECB52\"],\"font\":{\"color\":\"#2a3f5f\"},\"hovermode\":\"closest\",\"hoverlabel\":{\"align\":\"left\"},\"paper_bgcolor\":\"white\",\"plot_bgcolor\":\"#E5ECF6\",\"polar\":{\"bgcolor\":\"#E5ECF6\",\"angularaxis\":{\"gridcolor\":\"white\",\"linecolor\":\"white\",\"ticks\":\"\"},\"radialaxis\":{\"gridcolor\":\"white\",\"linecolor\":\"white\",\"ticks\":\"\"}},\"ternary\":{\"bgcolor\":\"#E5ECF6\",\"aaxis\":{\"gridcolor\":\"white\",\"linecolor\":\"white\",\"ticks\":\"\"},\"baxis\":{\"gridcolor\":\"white\",\"linecolor\":\"white\",\"ticks\":\"\"},\"caxis\":{\"gridcolor\":\"white\",\"linecolor\":\"white\",\"ticks\":\"\"}},\"coloraxis\":{\"colorbar\":{\"outlinewidth\":0,\"ticks\":\"\"}},\"colorscale\":{\"sequential\":[[0.0,\"#0d0887\"],[0.1111111111111111,\"#46039f\"],[0.2222222222222222,\"#7201a8\"],[0.3333333333333333,\"#9c179e\"],[0.4444444444444444,\"#bd3786\"],[0.5555555555555556,\"#d8576b\"],[0.6666666666666666,\"#ed7953\"],[0.7777777777777778,\"#fb9f3a\"],[0.8888888888888888,\"#fdca26\"],[1.0,\"#f0f921\"]],\"sequentialminus\":[[0.0,\"#0d0887\"],[0.1111111111111111,\"#46039f\"],[0.2222222222222222,\"#7201a8\"],[0.3333333333333333,\"#9c179e\"],[0.4444444444444444,\"#bd3786\"],[0.5555555555555556,\"#d8576b\"],[0.6666666666666666,\"#ed7953\"],[0.7777777777777778,\"#fb9f3a\"],[0.8888888888888888,\"#fdca26\"],[1.0,\"#f0f921\"]],\"diverging\":[[0,\"#8e0152\"],[0.1,\"#c51b7d\"],[0.2,\"#de77ae\"],[0.3,\"#f1b6da\"],[0.4,\"#fde0ef\"],[0.5,\"#f7f7f7\"],[0.6,\"#e6f5d0\"],[0.7,\"#b8e186\"],[0.8,\"#7fbc41\"],[0.9,\"#4d9221\"],[1,\"#276419\"]]},\"xaxis\":{\"gridcolor\":\"white\",\"linecolor\":\"white\",\"ticks\":\"\",\"title\":{\"standoff\":15},\"zerolinecolor\":\"white\",\"automargin\":true,\"zerolinewidth\":2},\"yaxis\":{\"gridcolor\":\"white\",\"linecolor\":\"white\",\"ticks\":\"\",\"title\":{\"standoff\":15},\"zerolinecolor\":\"white\",\"automargin\":true,\"zerolinewidth\":2},\"scene\":{\"xaxis\":{\"backgroundcolor\":\"#E5ECF6\",\"gridcolor\":\"white\",\"linecolor\":\"white\",\"showbackground\":true,\"ticks\":\"\",\"zerolinecolor\":\"white\",\"gridwidth\":2},\"yaxis\":{\"backgroundcolor\":\"#E5ECF6\",\"gridcolor\":\"white\",\"linecolor\":\"white\",\"showbackground\":true,\"ticks\":\"\",\"zerolinecolor\":\"white\",\"gridwidth\":2},\"zaxis\":{\"backgroundcolor\":\"#E5ECF6\",\"gridcolor\":\"white\",\"linecolor\":\"white\",\"showbackground\":true,\"ticks\":\"\",\"zerolinecolor\":\"white\",\"gridwidth\":2}},\"shapedefaults\":{\"line\":{\"color\":\"#2a3f5f\"}},\"annotationdefaults\":{\"arrowcolor\":\"#2a3f5f\",\"arrowhead\":0,\"arrowwidth\":1},\"geo\":{\"bgcolor\":\"white\",\"landcolor\":\"#E5ECF6\",\"subunitcolor\":\"white\",\"showland\":true,\"showlakes\":true,\"lakecolor\":\"white\"},\"title\":{\"x\":0.05},\"mapbox\":{\"style\":\"light\"}}},\"xaxis\":{\"anchor\":\"y\",\"domain\":[0.0,0.45],\"title\":{\"text\":\"Price\"}},\"yaxis\":{\"anchor\":\"x\",\"domain\":[0.0,1.0],\"title\":{\"text\":\"Pnl\"}},\"xaxis2\":{\"anchor\":\"y2\",\"domain\":[0.55,1.0],\"title\":{\"text\":\"Price\"}},\"yaxis2\":{\"anchor\":\"x2\",\"domain\":[0.0,1.0],\"title\":{\"text\":\"Delta\"}},\"title\":{\"text\":\"Todays Option Pos (PnL and Delta)\",\"x\":0.5,\"xanchor\":\"center\"},\"barmode\":\"stack\"},                        {\"responsive\": true}                    ).then(function(){\n",
       "                            \n",
       "var gd = document.getElementById('0b43e04f-6e53-473b-bb5c-331f3e8d703b');\n",
       "var x = new MutationObserver(function (mutations, observer) {{\n",
       "        var display = window.getComputedStyle(gd).display;\n",
       "        if (!display || display === 'none') {{\n",
       "            console.log([gd, 'removed!']);\n",
       "            Plotly.purge(gd);\n",
       "            observer.disconnect();\n",
       "        }}\n",
       "}});\n",
       "\n",
       "// Listen for the removal of the full notebook cells\n",
       "var notebookContainer = gd.closest('#notebook-container');\n",
       "if (notebookContainer) {{\n",
       "    x.observe(notebookContainer, {childList: true});\n",
       "}}\n",
       "\n",
       "// Listen for the clearing of the current output cell\n",
       "var outputEl = gd.closest('.output');\n",
       "if (outputEl) {{\n",
       "    x.observe(outputEl, {childList: true});\n",
       "}}\n",
       "\n",
       "                        })                };                });            </script>        </div>"
      ]
     },
     "metadata": {},
     "output_type": "display_data"
    }
   ],
   "source": [
    "pnl_delta_plot(end_two_wk)"
   ]
  },
  {
   "cell_type": "markdown",
   "id": "2e416a58-312a-4763-ae26-a9e34ce0a640",
   "metadata": {},
   "source": [
    "## End of Month"
   ]
  },
  {
   "cell_type": "code",
   "execution_count": 30,
   "id": "21589bc1-b268-439c-9383-12137c7f17fd",
   "metadata": {},
   "outputs": [
    {
     "data": {
      "application/vnd.plotly.v1+json": {
       "config": {
        "plotlyServerURL": "https://plot.ly"
       },
       "data": [
        {
         "name": "EUA Mar25 60P",
         "type": "scatter",
         "x": [
          30,
          31,
          32,
          33,
          34,
          35,
          36,
          37,
          38,
          39,
          40,
          41,
          42,
          43,
          44,
          45,
          46,
          47,
          48,
          49,
          50,
          51,
          52,
          53,
          54,
          55,
          56,
          57,
          58,
          59,
          60,
          61,
          62,
          63,
          64,
          65,
          66,
          67,
          68,
          69,
          70,
          71,
          72,
          73,
          74,
          75,
          76,
          77,
          78,
          79,
          80,
          81,
          82,
          83,
          84,
          85,
          86,
          87,
          88,
          89,
          90,
          91,
          92,
          93,
          94,
          95,
          96,
          97,
          98,
          99,
          100
         ],
         "xaxis": "x",
         "y": [
          9908886.495899675,
          9576654.273864668,
          9244422.076466663,
          8912189.96982551,
          8579958.165068405,
          8247727.274016359,
          7915498.916885069,
          7583277.039154867,
          7251070.525813487,
          6918897.974695176,
          6586795.7375205215,
          6254830.443056316,
          5923117.042705136,
          5591842.846452691,
          5261297.0066907685,
          4931903.546927412,
          4604254.552631635,
          4279138.8817575,
          3957561.0793805863,
          3640745.382684604,
          3330120.894608548,
          3027286.078290128,
          2733953.3592190184,
          2451877.355940747,
          2182772.59915417,
          1928228.1303053647,
          1689626.8497275056,
          1468076.8748492373,
          1264360.631933354,
          1078905.2452372846,
          911775.3786678395,
          762687.3907718722,
          631041.7764577074,
          515969.5719073954,
          416387.75854579115,
          331058.6791565729,
          258648.95981476916,
          197784.2591148137,
          147097.17588675322,
          105266.68916631046,
          71048.46300654126,
          43296.14647734569,
          20974.397111907077,
          3164.7479205298305,
          -10934.358353655227,
          -22011.9962972029,
          -30652.34372392679,
          -37344.27042366744,
          -42491.962893491465,
          -46425.82165252392,
          -49413.06479403645,
          -51667.648460846045,
          -53359.26449414708,
          -54621.29496756083,
          -55557.69347058315,
          -56248.82681353397,
          -56756.352396798815,
          -57127.230298154354,
          -57396.9795041739,
          -57592.28849125219,
          -57733.084765095904,
          -57834.15854247843,
          -57906.42442197482,
          -57957.89300531959,
          -57994.41290746169,
          -58020.23298570733,
          -58038.425217060256,
          -58051.20056255034,
          -58060.143359407295,
          -58066.38418287405,
          -58070.72658605051
         ],
         "yaxis": "y"
        },
        {
         "name": "EUA Mar25 60P",
         "type": "scatter",
         "x": [
          30,
          31,
          32,
          33,
          34,
          35,
          36,
          37,
          38,
          39,
          40,
          41,
          42,
          43,
          44,
          45,
          46,
          47,
          48,
          49,
          50,
          51,
          52,
          53,
          54,
          55,
          56,
          57,
          58,
          59,
          60,
          61,
          62,
          63,
          64,
          65,
          66,
          67,
          68,
          69,
          70,
          71,
          72,
          73,
          74,
          75,
          76,
          77,
          78,
          79,
          80,
          81,
          82,
          83,
          84,
          85,
          86,
          87,
          88,
          89,
          90,
          91,
          92,
          93,
          94,
          95,
          96,
          97,
          98,
          99,
          100
         ],
         "xaxis": "x2",
         "y": [
          -199999.99807760594,
          -199999.9912116318,
          -199999.96418950957,
          -199999.86872732747,
          -199999.56346821605,
          -199998.67323979092,
          -199996.28936481563,
          -199990.39157198707,
          -199976.83506074868,
          -199947.7366966437,
          -199889.14084513477,
          -199777.97153554956,
          -199578.4867762487,
          -199238.71342592206,
          -198687.5927217172,
          -197833.7214037253,
          -196566.55042486382,
          -194760.65777239035,
          -192283.25857424937,
          -189004.53301412673,
          -184809.76587400114,
          -179611.83864081823,
          -173362.407565654,
          -166060.19315386683,
          -157755.1822335509,
          -148548.12384570958,
          -138585.36604025177,
          -128049.70524794018,
          -117148.39720008514,
          -106099.7433092177,
          -95119.70216640449,
          -84409.80902151373,
          -74147.37384528367,
          -64478.54161565978,
          -55514.40566844064,
          -47330.02159091071,
          -39965.910753471464,
          -33431.48395473543,
          -27709.75377360636,
          -22762.72342136134,
          -18536.91769321344,
          -14968.633951108633,
          -11988.616135520091,
          -9525.975443732705,
          -7511.28590955652,
          -5878.865413110246,
          -4568.310843936963,
          -3525.3916950016783,
          -2702.4227494680586,
          -2058.238136603885,
          -1557.8803816683971,
          -1172.103216925624,
          -876.769174350156,
          -652.2048187430184,
          -482.55956762037755,
          -355.1993526865971,
          -260.1543356758773,
          -189.63053945877385,
          -137.5883843735659,
          -99.38638311695058,
          -71.48524482953889,
          -51.20597313221786,
          -36.53485460450856,
          -25.968219694738615,
          -18.39027410623917,
          -12.977960244864306,
          -9.127581492496262,
          -6.398715434796642,
          -4.471697550378906,
          -3.1156409900479076,
          -2.164555395167689
         ],
         "yaxis": "y2"
        },
        {
         "name": "EUA Mar25 65P",
         "type": "scatter",
         "x": [
          30,
          31,
          32,
          33,
          34,
          35,
          36,
          37,
          38,
          39,
          40,
          41,
          42,
          43,
          44,
          45,
          46,
          47,
          48,
          49,
          50,
          51,
          52,
          53,
          54,
          55,
          56,
          57,
          58,
          59,
          60,
          61,
          62,
          63,
          64,
          65,
          66,
          67,
          68,
          69,
          70,
          71,
          72,
          73,
          74,
          75,
          76,
          77,
          78,
          79,
          80,
          81,
          82,
          83,
          84,
          85,
          86,
          87,
          88,
          89,
          90,
          91,
          92,
          93,
          94,
          95,
          96,
          97,
          98,
          99,
          100
         ],
         "xaxis": "x",
         "y": [
          5753306.146796119,
          5587190.031995163,
          5421073.917200339,
          5254957.802442746,
          5088841.68788349,
          4922725.574260786,
          4756609.464592328,
          4590493.369969809,
          4424377.327314404,
          4258261.448657216,
          4092146.0457217274,
          3926031.918203392,
          3759920.966988871,
          3593817.397709828,
          3427729.9069244307,
          3261675.3658737275,
          3095684.5871695634,
          2929810.7150080386,
          2764140.5586309345,
          2598808.7579963184,
          2434014.0487831193,
          2270036.1669729464,
          2107251.24878067,
          1946143.1191986587,
          1787307.7866925702,
          1631448.8722562194,
          1479362.595327219,
          1331912.2012685542,
          1189993.1373758258,
          1054491.6131809182,
          926240.1755545057,
          805974.4157448829,
          694294.831549051,
          591637.2310312997,
          498254.01564075635,
          414207.4094424124,
          339374.41222946404,
          273462.12858432776,
          216031.29185392387,
          166525.3261191204,
          124302.17191659898,
          88666.29324882623,
          58898.70249866719,
          34283.39170212438,
          14129.152773315098,
          -2213.668763813983,
          -15341.464480358632,
          -25790.311983270658,
          -34032.953227689104,
          -40479.04431115765,
          -45477.88527333746,
          -49322.87701245766,
          -52257.03917269169,
          -54479.0360074522,
          -56149.27905720255,
          -57395.792964831475,
          -58319.63542266584,
          -58999.74958240204,
          -59497.19582099481,
          -59858.7602692598,
          -60119.972045498114,
          -60307.582431816765,
          -60441.5701926126,
          -60536.740605201005,
          -60603.983937767145,
          -60651.25401527006,
          -60684.32065614464,
          -60707.34222712129,
          -60723.29708720669,
          -60734.305734030364,
          -60741.869276305035
         ],
         "yaxis": "y"
        },
        {
         "name": "EUA Mar25 65P",
         "type": "scatter",
         "x": [
          30,
          31,
          32,
          33,
          34,
          35,
          36,
          37,
          38,
          39,
          40,
          41,
          42,
          43,
          44,
          45,
          46,
          47,
          48,
          49,
          50,
          51,
          52,
          53,
          54,
          55,
          56,
          57,
          58,
          59,
          60,
          61,
          62,
          63,
          64,
          65,
          66,
          67,
          68,
          69,
          70,
          71,
          72,
          73,
          74,
          75,
          76,
          77,
          78,
          79,
          80,
          81,
          82,
          83,
          84,
          85,
          86,
          87,
          88,
          89,
          90,
          91,
          92,
          93,
          94,
          95,
          96,
          97,
          98,
          99,
          100
         ],
         "xaxis": "x2",
         "y": [
          -99999.99999982167,
          -99999.99999859437,
          -99999.99999044582,
          -99999.99994333458,
          -99999.99970363738,
          -99999.9986201363,
          -99999.99423119884,
          -99999.97817514,
          -99999.92475016025,
          -99999.76201648338,
          -99999.30556392443,
          -99998.12023621719,
          -99995.25638715166,
          -99988.7894303582,
          -99975.08377789699,
          -99947.71728133365,
          -99896.05186223213,
          -99803.5251019516,
          -99645.8578890742,
          -99389.50026460757,
          -98990.73362874867,
          -98395.87137697115,
          -97542.92143081076,
          -96364.88664380068,
          -94794.60728592647,
          -92770.74635689096,
          -90244.25130414758,
          -87184.45961815846,
          -83583.99420024829,
          -79461.72753636212,
          -74863.35630656194,
          -69859.46703974066,
          -64541.32226960809,
          -59014.89179171665,
          -53393.84816595922,
          -47792.31722867375,
          -42318.126372209685,
          -37067.149851122864,
          -32119.148003332375,
          -27535.275892152265,
          -23357.23168217412,
          -19607.851416377598,
          -16292.848206392851,
          -13403.342352452064,
          -10918.827961218192,
          -8810.25917249575,
          -7043.0009623376645,
          -5579.462068145435,
          -4381.299678864725,
          -3411.1492155891488,
          -2633.8832304959146,
          -2017.439548683375,
          -1533.2808611192238,
          -1156.558065299129,
          -866.0504629797283,
          -643.9503139623271,
          -475.5498091724486,
          -348.87739142263064,
          -254.31909390711826,
          -184.2502279717828,
          -132.69392038086636,
          -95.01590987398556,
          -67.65964851646045,
          -47.92194567382335,
          -33.766892279296634,
          -23.67433660712681,
          -16.518487685823757,
          -11.472068687168324,
          -7.931641440983572,
          -5.460128706735734,
          -3.7430662567672357
         ],
         "yaxis": "y2"
        },
        {
         "name": "EUA Mar25 70P",
         "type": "scatter",
         "x": [
          30,
          31,
          32,
          33,
          34,
          35,
          36,
          37,
          38,
          39,
          40,
          41,
          42,
          43,
          44,
          45,
          46,
          47,
          48,
          49,
          50,
          51,
          52,
          53,
          54,
          55,
          56,
          57,
          58,
          59,
          60,
          61,
          62,
          63,
          64,
          65,
          66,
          67,
          68,
          69,
          70,
          71,
          72,
          73,
          74,
          75,
          76,
          77,
          78,
          79,
          80,
          81,
          82,
          83,
          84,
          85,
          86,
          87,
          88,
          89,
          90,
          91,
          92,
          93,
          94,
          95,
          96,
          97,
          98,
          99,
          100
         ],
         "xaxis": "x",
         "y": [
          3256843.2224336443,
          3173785.1650326666,
          3090727.107631691,
          3007669.0502307145,
          2924610.9928297536,
          2841552.9354289146,
          2758494.878028924,
          2675436.820634132,
          2592378.7632675613,
          2509320.7060377803,
          2426262.649404469,
          2343204.5951267355,
          2260146.5493268752,
          2177088.531493617,
          2094030.598665438,
          2010972.9050667246,
          1927915.8376515678,
          1844860.3010195096,
          1761808.2729311339,
          1678763.8113903143,
          1595734.7552652536,
          1512735.402195949,
          1429790.441342838,
          1346940.333772742,
          1264248.1483721884,
          1181807.576126938,
          1099751.4914765437,
          1018260.0696987999,
          937567.1898936266,
          857963.7425248787,
          779796.584222802,
          703462.2609744713,
          629395.2171722692,
          558050.9318635608,
          489885.14943723666,
          425330.96767962823,
          364775.90291119047,
          308541.10820309987,
          256864.67329411698,
          209890.43599252525,
          167663.07708850765,
          130129.56493814469,
          97146.36808669665,
          68491.3475554974,
          43878.92359374681,
          22976.99711788995,
          5424.174302042073,
          -9153.947836392272,
          -21130.37915820509,
          -30864.82857096477,
          -38694.578984112435,
          -44928.154396686936,
          -49841.57295049399,
          -53676.83463706203,
          -56642.214293076715,
          -58913.909440369964,
          -60638.61476656377,
          -61936.64617123977,
          -62905.30411151098,
          -63622.237668740694,
          -64148.63941164271,
          -64532.161676627205,
          -64809.49470534085,
          -65008.58545807754,
          -65150.503468728355,
          -65250.97822533571,
          -65321.64302098812,
          -65371.024850603404,
          -65405.32041383128,
          -65428.99605279051,
          -65445.24564082045
         ],
         "yaxis": "y"
        },
        {
         "name": "EUA Mar25 70P",
         "type": "scatter",
         "x": [
          30,
          31,
          32,
          33,
          34,
          35,
          36,
          37,
          38,
          39,
          40,
          41,
          42,
          43,
          44,
          45,
          46,
          47,
          48,
          49,
          50,
          51,
          52,
          53,
          54,
          55,
          56,
          57,
          58,
          59,
          60,
          61,
          62,
          63,
          64,
          65,
          66,
          67,
          68,
          69,
          70,
          71,
          72,
          73,
          74,
          75,
          76,
          77,
          78,
          79,
          80,
          81,
          82,
          83,
          84,
          85,
          86,
          87,
          88,
          89,
          90,
          91,
          92,
          93,
          94,
          95,
          96,
          97,
          98,
          99,
          100
         ],
         "xaxis": "x2",
         "y": [
          -50000,
          -49999.99999999998,
          -49999.99999999974,
          -49999.999999997235,
          -49999.99999997505,
          -49999.99999980551,
          -49999.99999867628,
          -49999.99999205965,
          -49999.99995765022,
          -49999.99979755309,
          -49999.99912623101,
          -49999.99657219486,
          -49999.987701891594,
          -49999.959419527775,
          -49999.876202004096,
          -49999.64915468411,
          -49999.07219880497,
          -49997.701089882066,
          -49994.64227947406,
          -49988.21371604667,
          -49975.44410911479,
          -49951.396819514375,
          -49908.34293870196,
          -49834.863480041735,
          -49715.02366149611,
          -49527.81657334478,
          -49247.098957989336,
          -48842.22068591,
          -48279.47344556725,
          -47524.35919433239,
          -46544.52626376591,
          -45313.07288429639,
          -43811.80924955903,
          -42034.02812077194,
          -39986.37356616483,
          -37689.512394618134,
          -35177.480866563135,
          -32495.767137448067,
          -29698.36196249569,
          -26844.13667115675,
          -23992.970285517502,
          -21202.04302947584,
          -18522.650404694985,
          -15997.78861418804,
          -13660.640492308723,
          -11533.97242245795,
          -9630.353563545257,
          -7953.039096213899,
          -6497.322403251904,
          -5252.154692995181,
          -4201.848280737963,
          -3327.7134373649264,
          -2609.5201911762233,
          -2026.7187060994397,
          -1559.3897118646505,
          -1188.9268419185971,
          -898.4744172376047,
          -673.157418760617,
          -500.14628969196616,
          -368.59945890694854,
          -269.5228458375998,
          -195.57971353442727,
          -140.87740095644062,
          -100.7506568585781,
          -71.55514405133844,
          -50.47952226038821,
          -35.380466147333365,
          -24.641995534752105,
          -17.058459503138668,
          -11.739253862841359,
          -8.032683104014504
         ],
         "yaxis": "y2"
        },
        {
         "mode": "lines",
         "name": "Total_PnL",
         "type": "scatter",
         "x": [
          30,
          31,
          32,
          33,
          34,
          35,
          36,
          37,
          38,
          39,
          40,
          41,
          42,
          43,
          44,
          45,
          46,
          47,
          48,
          49,
          50,
          51,
          52,
          53,
          54,
          55,
          56,
          57,
          58,
          59,
          60,
          61,
          62,
          63,
          64,
          65,
          66,
          67,
          68,
          69,
          70,
          71,
          72,
          73,
          74,
          75,
          76,
          77,
          78,
          79,
          80,
          81,
          82,
          83,
          84,
          85,
          86,
          87,
          88,
          89,
          90,
          91,
          92,
          93,
          94,
          95,
          96,
          97,
          98,
          99,
          100
         ],
         "xaxis": "x",
         "y": [
          18919035.86512944,
          18337629.470892496,
          17756223.101298694,
          17174816.82249897,
          16593410.845781649,
          16012005.783706058,
          15430603.25950632,
          14849207.229758808,
          14267826.616395453,
          13686480.12939017,
          13105204.432646718,
          12524066.956386443,
          11943184.55902088,
          11362748.775656136,
          10783057.512280637,
          10204551.817867864,
          9627854.977452766,
          9053809.897785049,
          8483509.910942655,
          7918317.952071236,
          7359869.698656921,
          6810057.647459024,
          6270995.049342526,
          5744960.808912148,
          5234328.534218929,
          4741484.578688522,
          4268740.936531268,
          3818249.145816591,
          3391920.9592028065,
          2991360.6009430815,
          2617812.1384451473,
          2272124.0674912264,
          1954731.8251790276,
          1665657.7348022559,
          1404526.9236237842,
          1170597.0562786134,
          962799.2749554235,
          779787.4959022413,
          619993.141034794,
          481682.45127795613,
          363013.7120116479,
          262092.0046643166,
          177019.4676972709,
          105939.48717815161,
          47073.71801340668,
          -1248.6679431269295,
          -40569.63390224335,
          -72288.53024333037,
          -97655.29527938567,
          -117769.69453464635,
          -133585.52905148634,
          -145918.67986999065,
          -155457.87661733275,
          -162777.16561207507,
          -168349.1868208624,
          -172558.5292187354,
          -175714.6025860284,
          -178063.62605179616,
          -179799.47943667969,
          -181073.2864292527,
          -182001.69622223673,
          -182673.9026509224,
          -183157.48931992828,
          -183503.21906859815,
          -183748.9003139572,
          -183922.4652263131,
          -184044.38889419302,
          -184129.56764027503,
          -184188.76086044527,
          -184229.68596969493,
          -184257.841503176
         ],
         "yaxis": "y"
        },
        {
         "mode": "lines",
         "name": "Total_Delta",
         "type": "scatter",
         "x": [
          30,
          31,
          32,
          33,
          34,
          35,
          36,
          37,
          38,
          39,
          40,
          41,
          42,
          43,
          44,
          45,
          46,
          47,
          48,
          49,
          50,
          51,
          52,
          53,
          54,
          55,
          56,
          57,
          58,
          59,
          60,
          61,
          62,
          63,
          64,
          65,
          66,
          67,
          68,
          69,
          70,
          71,
          72,
          73,
          74,
          75,
          76,
          77,
          78,
          79,
          80,
          81,
          82,
          83,
          84,
          85,
          86,
          87,
          88,
          89,
          90,
          91,
          92,
          93,
          94,
          95,
          96,
          97,
          98,
          99,
          100
         ],
         "xaxis": "x2",
         "y": [
          -349999.9980774276,
          -349999.9912102262,
          -349999.9641799552,
          -349999.86867065926,
          -349999.56317182846,
          -349998.67185973277,
          -349996.2835946908,
          -349990.3697391867,
          -349976.75976855913,
          -349947.4985106802,
          -349888.44553529023,
          -349776.08834396163,
          -349573.7308652919,
          -349227.46227580804,
          -348662.5527016183,
          -347781.08783974306,
          -346461.67448590096,
          -344561.883964224,
          -341923.75874279765,
          -338382.24699478096,
          -333775.9436118646,
          -327959.1068373038,
          -320813.6719351667,
          -312259.94327770924,
          -302264.81318097346,
          -290846.68677594536,
          -278076.7163023887,
          -264076.38555200864,
          -249011.86484590068,
          -233085.8300399122,
          -216527.58473673233,
          -199582.34894555077,
          -182500.5053644508,
          -165527.4615281484,
          -148894.6274005647,
          -132811.8512142026,
          -117461.51799224428,
          -102994.40094330636,
          -89527.26373943442,
          -77142.13598467036,
          -65887.11966090505,
          -55778.52839696207,
          -46804.11474660793,
          -38927.10641037281,
          -32090.754363083433,
          -26223.097008063945,
          -21241.665369819886,
          -17057.89285936101,
          -13581.044831584688,
          -10721.542045188215,
          -8393.611892902274,
          -6517.256202973926,
          -5019.570226645603,
          -3835.4815901415873,
          -2907.9997424647563,
          -2188.076508567521,
          -1634.1785620859305,
          -1211.6653496420215,
          -892.0537679726503,
          -652.2360699956819,
          -473.70201104800503,
          -341.8015965406307,
          -245.07190407740964,
          -174.64082222714006,
          -123.71231043687425,
          -87.13181911237933,
          -61.026535325653384,
          -42.51277965671707,
          -29.461798494501146,
          -20.315023559625,
          -13.940304755949429
         ],
         "yaxis": "y2"
        }
       ],
       "layout": {
        "autosize": true,
        "barmode": "stack",
        "template": {
         "data": {
          "bar": [
           {
            "error_x": {
             "color": "#2a3f5f"
            },
            "error_y": {
             "color": "#2a3f5f"
            },
            "marker": {
             "line": {
              "color": "#E5ECF6",
              "width": 0.5
             },
             "pattern": {
              "fillmode": "overlay",
              "size": 10,
              "solidity": 0.2
             }
            },
            "type": "bar"
           }
          ],
          "barpolar": [
           {
            "marker": {
             "line": {
              "color": "#E5ECF6",
              "width": 0.5
             },
             "pattern": {
              "fillmode": "overlay",
              "size": 10,
              "solidity": 0.2
             }
            },
            "type": "barpolar"
           }
          ],
          "carpet": [
           {
            "aaxis": {
             "endlinecolor": "#2a3f5f",
             "gridcolor": "white",
             "linecolor": "white",
             "minorgridcolor": "white",
             "startlinecolor": "#2a3f5f"
            },
            "baxis": {
             "endlinecolor": "#2a3f5f",
             "gridcolor": "white",
             "linecolor": "white",
             "minorgridcolor": "white",
             "startlinecolor": "#2a3f5f"
            },
            "type": "carpet"
           }
          ],
          "choropleth": [
           {
            "colorbar": {
             "outlinewidth": 0,
             "ticks": ""
            },
            "type": "choropleth"
           }
          ],
          "contour": [
           {
            "colorbar": {
             "outlinewidth": 0,
             "ticks": ""
            },
            "colorscale": [
             [
              0,
              "#0d0887"
             ],
             [
              0.1111111111111111,
              "#46039f"
             ],
             [
              0.2222222222222222,
              "#7201a8"
             ],
             [
              0.3333333333333333,
              "#9c179e"
             ],
             [
              0.4444444444444444,
              "#bd3786"
             ],
             [
              0.5555555555555556,
              "#d8576b"
             ],
             [
              0.6666666666666666,
              "#ed7953"
             ],
             [
              0.7777777777777778,
              "#fb9f3a"
             ],
             [
              0.8888888888888888,
              "#fdca26"
             ],
             [
              1,
              "#f0f921"
             ]
            ],
            "type": "contour"
           }
          ],
          "contourcarpet": [
           {
            "colorbar": {
             "outlinewidth": 0,
             "ticks": ""
            },
            "type": "contourcarpet"
           }
          ],
          "heatmap": [
           {
            "colorbar": {
             "outlinewidth": 0,
             "ticks": ""
            },
            "colorscale": [
             [
              0,
              "#0d0887"
             ],
             [
              0.1111111111111111,
              "#46039f"
             ],
             [
              0.2222222222222222,
              "#7201a8"
             ],
             [
              0.3333333333333333,
              "#9c179e"
             ],
             [
              0.4444444444444444,
              "#bd3786"
             ],
             [
              0.5555555555555556,
              "#d8576b"
             ],
             [
              0.6666666666666666,
              "#ed7953"
             ],
             [
              0.7777777777777778,
              "#fb9f3a"
             ],
             [
              0.8888888888888888,
              "#fdca26"
             ],
             [
              1,
              "#f0f921"
             ]
            ],
            "type": "heatmap"
           }
          ],
          "heatmapgl": [
           {
            "colorbar": {
             "outlinewidth": 0,
             "ticks": ""
            },
            "colorscale": [
             [
              0,
              "#0d0887"
             ],
             [
              0.1111111111111111,
              "#46039f"
             ],
             [
              0.2222222222222222,
              "#7201a8"
             ],
             [
              0.3333333333333333,
              "#9c179e"
             ],
             [
              0.4444444444444444,
              "#bd3786"
             ],
             [
              0.5555555555555556,
              "#d8576b"
             ],
             [
              0.6666666666666666,
              "#ed7953"
             ],
             [
              0.7777777777777778,
              "#fb9f3a"
             ],
             [
              0.8888888888888888,
              "#fdca26"
             ],
             [
              1,
              "#f0f921"
             ]
            ],
            "type": "heatmapgl"
           }
          ],
          "histogram": [
           {
            "marker": {
             "pattern": {
              "fillmode": "overlay",
              "size": 10,
              "solidity": 0.2
             }
            },
            "type": "histogram"
           }
          ],
          "histogram2d": [
           {
            "colorbar": {
             "outlinewidth": 0,
             "ticks": ""
            },
            "colorscale": [
             [
              0,
              "#0d0887"
             ],
             [
              0.1111111111111111,
              "#46039f"
             ],
             [
              0.2222222222222222,
              "#7201a8"
             ],
             [
              0.3333333333333333,
              "#9c179e"
             ],
             [
              0.4444444444444444,
              "#bd3786"
             ],
             [
              0.5555555555555556,
              "#d8576b"
             ],
             [
              0.6666666666666666,
              "#ed7953"
             ],
             [
              0.7777777777777778,
              "#fb9f3a"
             ],
             [
              0.8888888888888888,
              "#fdca26"
             ],
             [
              1,
              "#f0f921"
             ]
            ],
            "type": "histogram2d"
           }
          ],
          "histogram2dcontour": [
           {
            "colorbar": {
             "outlinewidth": 0,
             "ticks": ""
            },
            "colorscale": [
             [
              0,
              "#0d0887"
             ],
             [
              0.1111111111111111,
              "#46039f"
             ],
             [
              0.2222222222222222,
              "#7201a8"
             ],
             [
              0.3333333333333333,
              "#9c179e"
             ],
             [
              0.4444444444444444,
              "#bd3786"
             ],
             [
              0.5555555555555556,
              "#d8576b"
             ],
             [
              0.6666666666666666,
              "#ed7953"
             ],
             [
              0.7777777777777778,
              "#fb9f3a"
             ],
             [
              0.8888888888888888,
              "#fdca26"
             ],
             [
              1,
              "#f0f921"
             ]
            ],
            "type": "histogram2dcontour"
           }
          ],
          "mesh3d": [
           {
            "colorbar": {
             "outlinewidth": 0,
             "ticks": ""
            },
            "type": "mesh3d"
           }
          ],
          "parcoords": [
           {
            "line": {
             "colorbar": {
              "outlinewidth": 0,
              "ticks": ""
             }
            },
            "type": "parcoords"
           }
          ],
          "pie": [
           {
            "automargin": true,
            "type": "pie"
           }
          ],
          "scatter": [
           {
            "fillpattern": {
             "fillmode": "overlay",
             "size": 10,
             "solidity": 0.2
            },
            "type": "scatter"
           }
          ],
          "scatter3d": [
           {
            "line": {
             "colorbar": {
              "outlinewidth": 0,
              "ticks": ""
             }
            },
            "marker": {
             "colorbar": {
              "outlinewidth": 0,
              "ticks": ""
             }
            },
            "type": "scatter3d"
           }
          ],
          "scattercarpet": [
           {
            "marker": {
             "colorbar": {
              "outlinewidth": 0,
              "ticks": ""
             }
            },
            "type": "scattercarpet"
           }
          ],
          "scattergeo": [
           {
            "marker": {
             "colorbar": {
              "outlinewidth": 0,
              "ticks": ""
             }
            },
            "type": "scattergeo"
           }
          ],
          "scattergl": [
           {
            "marker": {
             "colorbar": {
              "outlinewidth": 0,
              "ticks": ""
             }
            },
            "type": "scattergl"
           }
          ],
          "scattermapbox": [
           {
            "marker": {
             "colorbar": {
              "outlinewidth": 0,
              "ticks": ""
             }
            },
            "type": "scattermapbox"
           }
          ],
          "scatterpolar": [
           {
            "marker": {
             "colorbar": {
              "outlinewidth": 0,
              "ticks": ""
             }
            },
            "type": "scatterpolar"
           }
          ],
          "scatterpolargl": [
           {
            "marker": {
             "colorbar": {
              "outlinewidth": 0,
              "ticks": ""
             }
            },
            "type": "scatterpolargl"
           }
          ],
          "scatterternary": [
           {
            "marker": {
             "colorbar": {
              "outlinewidth": 0,
              "ticks": ""
             }
            },
            "type": "scatterternary"
           }
          ],
          "surface": [
           {
            "colorbar": {
             "outlinewidth": 0,
             "ticks": ""
            },
            "colorscale": [
             [
              0,
              "#0d0887"
             ],
             [
              0.1111111111111111,
              "#46039f"
             ],
             [
              0.2222222222222222,
              "#7201a8"
             ],
             [
              0.3333333333333333,
              "#9c179e"
             ],
             [
              0.4444444444444444,
              "#bd3786"
             ],
             [
              0.5555555555555556,
              "#d8576b"
             ],
             [
              0.6666666666666666,
              "#ed7953"
             ],
             [
              0.7777777777777778,
              "#fb9f3a"
             ],
             [
              0.8888888888888888,
              "#fdca26"
             ],
             [
              1,
              "#f0f921"
             ]
            ],
            "type": "surface"
           }
          ],
          "table": [
           {
            "cells": {
             "fill": {
              "color": "#EBF0F8"
             },
             "line": {
              "color": "white"
             }
            },
            "header": {
             "fill": {
              "color": "#C8D4E3"
             },
             "line": {
              "color": "white"
             }
            },
            "type": "table"
           }
          ]
         },
         "layout": {
          "annotationdefaults": {
           "arrowcolor": "#2a3f5f",
           "arrowhead": 0,
           "arrowwidth": 1
          },
          "autotypenumbers": "strict",
          "coloraxis": {
           "colorbar": {
            "outlinewidth": 0,
            "ticks": ""
           }
          },
          "colorscale": {
           "diverging": [
            [
             0,
             "#8e0152"
            ],
            [
             0.1,
             "#c51b7d"
            ],
            [
             0.2,
             "#de77ae"
            ],
            [
             0.3,
             "#f1b6da"
            ],
            [
             0.4,
             "#fde0ef"
            ],
            [
             0.5,
             "#f7f7f7"
            ],
            [
             0.6,
             "#e6f5d0"
            ],
            [
             0.7,
             "#b8e186"
            ],
            [
             0.8,
             "#7fbc41"
            ],
            [
             0.9,
             "#4d9221"
            ],
            [
             1,
             "#276419"
            ]
           ],
           "sequential": [
            [
             0,
             "#0d0887"
            ],
            [
             0.1111111111111111,
             "#46039f"
            ],
            [
             0.2222222222222222,
             "#7201a8"
            ],
            [
             0.3333333333333333,
             "#9c179e"
            ],
            [
             0.4444444444444444,
             "#bd3786"
            ],
            [
             0.5555555555555556,
             "#d8576b"
            ],
            [
             0.6666666666666666,
             "#ed7953"
            ],
            [
             0.7777777777777778,
             "#fb9f3a"
            ],
            [
             0.8888888888888888,
             "#fdca26"
            ],
            [
             1,
             "#f0f921"
            ]
           ],
           "sequentialminus": [
            [
             0,
             "#0d0887"
            ],
            [
             0.1111111111111111,
             "#46039f"
            ],
            [
             0.2222222222222222,
             "#7201a8"
            ],
            [
             0.3333333333333333,
             "#9c179e"
            ],
            [
             0.4444444444444444,
             "#bd3786"
            ],
            [
             0.5555555555555556,
             "#d8576b"
            ],
            [
             0.6666666666666666,
             "#ed7953"
            ],
            [
             0.7777777777777778,
             "#fb9f3a"
            ],
            [
             0.8888888888888888,
             "#fdca26"
            ],
            [
             1,
             "#f0f921"
            ]
           ]
          },
          "colorway": [
           "#636efa",
           "#EF553B",
           "#00cc96",
           "#ab63fa",
           "#FFA15A",
           "#19d3f3",
           "#FF6692",
           "#B6E880",
           "#FF97FF",
           "#FECB52"
          ],
          "font": {
           "color": "#2a3f5f"
          },
          "geo": {
           "bgcolor": "white",
           "lakecolor": "white",
           "landcolor": "#E5ECF6",
           "showlakes": true,
           "showland": true,
           "subunitcolor": "white"
          },
          "hoverlabel": {
           "align": "left"
          },
          "hovermode": "closest",
          "mapbox": {
           "style": "light"
          },
          "paper_bgcolor": "white",
          "plot_bgcolor": "#E5ECF6",
          "polar": {
           "angularaxis": {
            "gridcolor": "white",
            "linecolor": "white",
            "ticks": ""
           },
           "bgcolor": "#E5ECF6",
           "radialaxis": {
            "gridcolor": "white",
            "linecolor": "white",
            "ticks": ""
           }
          },
          "scene": {
           "xaxis": {
            "backgroundcolor": "#E5ECF6",
            "gridcolor": "white",
            "gridwidth": 2,
            "linecolor": "white",
            "showbackground": true,
            "ticks": "",
            "zerolinecolor": "white"
           },
           "yaxis": {
            "backgroundcolor": "#E5ECF6",
            "gridcolor": "white",
            "gridwidth": 2,
            "linecolor": "white",
            "showbackground": true,
            "ticks": "",
            "zerolinecolor": "white"
           },
           "zaxis": {
            "backgroundcolor": "#E5ECF6",
            "gridcolor": "white",
            "gridwidth": 2,
            "linecolor": "white",
            "showbackground": true,
            "ticks": "",
            "zerolinecolor": "white"
           }
          },
          "shapedefaults": {
           "line": {
            "color": "#2a3f5f"
           }
          },
          "ternary": {
           "aaxis": {
            "gridcolor": "white",
            "linecolor": "white",
            "ticks": ""
           },
           "baxis": {
            "gridcolor": "white",
            "linecolor": "white",
            "ticks": ""
           },
           "bgcolor": "#E5ECF6",
           "caxis": {
            "gridcolor": "white",
            "linecolor": "white",
            "ticks": ""
           }
          },
          "title": {
           "x": 0.05
          },
          "xaxis": {
           "automargin": true,
           "gridcolor": "white",
           "linecolor": "white",
           "ticks": "",
           "title": {
            "standoff": 15
           },
           "zerolinecolor": "white",
           "zerolinewidth": 2
          },
          "yaxis": {
           "automargin": true,
           "gridcolor": "white",
           "linecolor": "white",
           "ticks": "",
           "title": {
            "standoff": 15
           },
           "zerolinecolor": "white",
           "zerolinewidth": 2
          }
         }
        },
        "title": {
         "text": "Todays Option Pos (PnL and Delta)",
         "x": 0.5,
         "xanchor": "center"
        },
        "xaxis": {
         "anchor": "y",
         "autorange": true,
         "domain": [
          0,
          0.45
         ],
         "range": [
          30,
          100
         ],
         "title": {
          "text": "Price"
         },
         "type": "linear"
        },
        "xaxis2": {
         "anchor": "y2",
         "autorange": true,
         "domain": [
          0.55,
          1
         ],
         "range": [
          30,
          100
         ],
         "title": {
          "text": "Price"
         },
         "type": "linear"
        },
        "yaxis": {
         "anchor": "x",
         "autorange": true,
         "domain": [
          0,
          1
         ],
         "range": [
          -1245551.9363160993,
          19980329.959942363
         ],
         "title": {
          "text": "Pnl"
         },
         "type": "linear"
        },
        "yaxis2": {
         "anchor": "x2",
         "autorange": true,
         "domain": [
          0,
          1
         ],
         "range": [
          -369444.322161985,
          19442.15952916219
         ],
         "title": {
          "text": "Delta"
         },
         "type": "linear"
        }
       }
      },
      "image/png": "[encoded data removed]",
      "text/html": [
       "<div>                            <div id=\"221929ce-e1db-4a9c-b564-6b1be35375cf\" class=\"plotly-graph-div\" style=\"height:525px; width:100%;\"></div>            <script type=\"text/javascript\">                require([\"plotly\"], function(Plotly) {                    window.PLOTLYENV=window.PLOTLYENV || {};                                    if (document.getElementById(\"221929ce-e1db-4a9c-b564-6b1be35375cf\")) {                    Plotly.newPlot(                        \"221929ce-e1db-4a9c-b564-6b1be35375cf\",                        [{\"name\":\"EUA Mar25 60P\",\"x\":[30,31,32,33,34,35,36,37,38,39,40,41,42,43,44,45,46,47,48,49,50,51,52,53,54,55,56,57,58,59,60,61,62,63,64,65,66,67,68,69,70,71,72,73,74,75,76,77,78,79,80,81,82,83,84,85,86,87,88,89,90,91,92,93,94,95,96,97,98,99,100],\"y\":[9908886.495899675,9576654.273864668,9244422.076466663,8912189.96982551,8579958.165068405,8247727.274016359,7915498.916885069,7583277.039154867,7251070.525813487,6918897.974695176,6586795.7375205215,6254830.443056316,5923117.042705136,5591842.846452691,5261297.0066907685,4931903.546927412,4604254.552631635,4279138.8817575,3957561.0793805863,3640745.382684604,3330120.894608548,3027286.078290128,2733953.3592190184,2451877.355940747,2182772.59915417,1928228.1303053647,1689626.8497275056,1468076.8748492373,1264360.631933354,1078905.2452372846,911775.3786678395,762687.3907718722,631041.7764577074,515969.5719073954,416387.75854579115,331058.6791565729,258648.95981476916,197784.2591148137,147097.17588675322,105266.68916631046,71048.46300654126,43296.14647734569,20974.397111907077,3164.7479205298305,-10934.358353655227,-22011.9962972029,-30652.34372392679,-37344.27042366744,-42491.962893491465,-46425.82165252392,-49413.06479403645,-51667.648460846045,-53359.26449414708,-54621.29496756083,-55557.69347058315,-56248.82681353397,-56756.352396798815,-57127.230298154354,-57396.9795041739,-57592.28849125219,-57733.084765095904,-57834.15854247843,-57906.42442197482,-57957.89300531959,-57994.41290746169,-58020.23298570733,-58038.425217060256,-58051.20056255034,-58060.143359407295,-58066.38418287405,-58070.72658605051],\"type\":\"scatter\",\"xaxis\":\"x\",\"yaxis\":\"y\"},{\"name\":\"EUA Mar25 60P\",\"x\":[30,31,32,33,34,35,36,37,38,39,40,41,42,43,44,45,46,47,48,49,50,51,52,53,54,55,56,57,58,59,60,61,62,63,64,65,66,67,68,69,70,71,72,73,74,75,76,77,78,79,80,81,82,83,84,85,86,87,88,89,90,91,92,93,94,95,96,97,98,99,100],\"y\":[-199999.99807760594,-199999.9912116318,-199999.96418950957,-199999.86872732747,-199999.56346821605,-199998.67323979092,-199996.28936481563,-199990.39157198707,-199976.83506074868,-199947.7366966437,-199889.14084513477,-199777.97153554956,-199578.4867762487,-199238.71342592206,-198687.5927217172,-197833.7214037253,-196566.55042486382,-194760.65777239035,-192283.25857424937,-189004.53301412673,-184809.76587400114,-179611.83864081823,-173362.407565654,-166060.19315386683,-157755.1822335509,-148548.12384570958,-138585.36604025177,-128049.70524794018,-117148.39720008514,-106099.7433092177,-95119.70216640449,-84409.80902151373,-74147.37384528367,-64478.54161565978,-55514.40566844064,-47330.02159091071,-39965.910753471464,-33431.48395473543,-27709.75377360636,-22762.72342136134,-18536.91769321344,-14968.633951108633,-11988.616135520091,-9525.975443732705,-7511.28590955652,-5878.865413110246,-4568.310843936963,-3525.3916950016783,-2702.4227494680586,-2058.238136603885,-1557.8803816683971,-1172.103216925624,-876.769174350156,-652.2048187430184,-482.55956762037755,-355.1993526865971,-260.1543356758773,-189.63053945877385,-137.5883843735659,-99.38638311695058,-71.48524482953889,-51.20597313221786,-36.53485460450856,-25.968219694738615,-18.39027410623917,-12.977960244864306,-9.127581492496262,-6.398715434796642,-4.471697550378906,-3.1156409900479076,-2.164555395167689],\"type\":\"scatter\",\"xaxis\":\"x2\",\"yaxis\":\"y2\"},{\"name\":\"EUA Mar25 65P\",\"x\":[30,31,32,33,34,35,36,37,38,39,40,41,42,43,44,45,46,47,48,49,50,51,52,53,54,55,56,57,58,59,60,61,62,63,64,65,66,67,68,69,70,71,72,73,74,75,76,77,78,79,80,81,82,83,84,85,86,87,88,89,90,91,92,93,94,95,96,97,98,99,100],\"y\":[5753306.146796119,5587190.031995163,5421073.917200339,5254957.802442746,5088841.68788349,4922725.574260786,4756609.464592328,4590493.369969809,4424377.327314404,4258261.448657216,4092146.0457217274,3926031.918203392,3759920.966988871,3593817.397709828,3427729.9069244307,3261675.3658737275,3095684.5871695634,2929810.7150080386,2764140.5586309345,2598808.7579963184,2434014.0487831193,2270036.1669729464,2107251.24878067,1946143.1191986587,1787307.7866925702,1631448.8722562194,1479362.595327219,1331912.2012685542,1189993.1373758258,1054491.6131809182,926240.1755545057,805974.4157448829,694294.831549051,591637.2310312997,498254.01564075635,414207.4094424124,339374.41222946404,273462.12858432776,216031.29185392387,166525.3261191204,124302.17191659898,88666.29324882623,58898.70249866719,34283.39170212438,14129.152773315098,-2213.668763813983,-15341.464480358632,-25790.311983270658,-34032.953227689104,-40479.04431115765,-45477.88527333746,-49322.87701245766,-52257.03917269169,-54479.0360074522,-56149.27905720255,-57395.792964831475,-58319.63542266584,-58999.74958240204,-59497.19582099481,-59858.7602692598,-60119.972045498114,-60307.582431816765,-60441.5701926126,-60536.740605201005,-60603.983937767145,-60651.25401527006,-60684.32065614464,-60707.34222712129,-60723.29708720669,-60734.305734030364,-60741.869276305035],\"type\":\"scatter\",\"xaxis\":\"x\",\"yaxis\":\"y\"},{\"name\":\"EUA Mar25 65P\",\"x\":[30,31,32,33,34,35,36,37,38,39,40,41,42,43,44,45,46,47,48,49,50,51,52,53,54,55,56,57,58,59,60,61,62,63,64,65,66,67,68,69,70,71,72,73,74,75,76,77,78,79,80,81,82,83,84,85,86,87,88,89,90,91,92,93,94,95,96,97,98,99,100],\"y\":[-99999.99999982167,-99999.99999859437,-99999.99999044582,-99999.99994333458,-99999.99970363738,-99999.9986201363,-99999.99423119884,-99999.97817514,-99999.92475016025,-99999.76201648338,-99999.30556392443,-99998.12023621719,-99995.25638715166,-99988.7894303582,-99975.08377789699,-99947.71728133365,-99896.05186223213,-99803.5251019516,-99645.8578890742,-99389.50026460757,-98990.73362874867,-98395.87137697115,-97542.92143081076,-96364.88664380068,-94794.60728592647,-92770.74635689096,-90244.25130414758,-87184.45961815846,-83583.99420024829,-79461.72753636212,-74863.35630656194,-69859.46703974066,-64541.32226960809,-59014.89179171665,-53393.84816595922,-47792.31722867375,-42318.126372209685,-37067.149851122864,-32119.148003332375,-27535.275892152265,-23357.23168217412,-19607.851416377598,-16292.848206392851,-13403.342352452064,-10918.827961218192,-8810.25917249575,-7043.0009623376645,-5579.462068145435,-4381.299678864725,-3411.1492155891488,-2633.8832304959146,-2017.439548683375,-1533.2808611192238,-1156.558065299129,-866.0504629797283,-643.9503139623271,-475.5498091724486,-348.87739142263064,-254.31909390711826,-184.2502279717828,-132.69392038086636,-95.01590987398556,-67.65964851646045,-47.92194567382335,-33.766892279296634,-23.67433660712681,-16.518487685823757,-11.472068687168324,-7.931641440983572,-5.460128706735734,-3.7430662567672357],\"type\":\"scatter\",\"xaxis\":\"x2\",\"yaxis\":\"y2\"},{\"name\":\"EUA Mar25 70P\",\"x\":[30,31,32,33,34,35,36,37,38,39,40,41,42,43,44,45,46,47,48,49,50,51,52,53,54,55,56,57,58,59,60,61,62,63,64,65,66,67,68,69,70,71,72,73,74,75,76,77,78,79,80,81,82,83,84,85,86,87,88,89,90,91,92,93,94,95,96,97,98,99,100],\"y\":[3256843.2224336443,3173785.1650326666,3090727.107631691,3007669.0502307145,2924610.9928297536,2841552.9354289146,2758494.878028924,2675436.820634132,2592378.7632675613,2509320.7060377803,2426262.649404469,2343204.5951267355,2260146.5493268752,2177088.531493617,2094030.598665438,2010972.9050667246,1927915.8376515678,1844860.3010195096,1761808.2729311339,1678763.8113903143,1595734.7552652536,1512735.402195949,1429790.441342838,1346940.333772742,1264248.1483721884,1181807.576126938,1099751.4914765437,1018260.0696987999,937567.1898936266,857963.7425248787,779796.584222802,703462.2609744713,629395.2171722692,558050.9318635608,489885.14943723666,425330.96767962823,364775.90291119047,308541.10820309987,256864.67329411698,209890.43599252525,167663.07708850765,130129.56493814469,97146.36808669665,68491.3475554974,43878.92359374681,22976.99711788995,5424.174302042073,-9153.947836392272,-21130.37915820509,-30864.82857096477,-38694.578984112435,-44928.154396686936,-49841.57295049399,-53676.83463706203,-56642.214293076715,-58913.909440369964,-60638.61476656377,-61936.64617123977,-62905.30411151098,-63622.237668740694,-64148.63941164271,-64532.161676627205,-64809.49470534085,-65008.58545807754,-65150.503468728355,-65250.97822533571,-65321.64302098812,-65371.024850603404,-65405.32041383128,-65428.99605279051,-65445.24564082045],\"type\":\"scatter\",\"xaxis\":\"x\",\"yaxis\":\"y\"},{\"name\":\"EUA Mar25 70P\",\"x\":[30,31,32,33,34,35,36,37,38,39,40,41,42,43,44,45,46,47,48,49,50,51,52,53,54,55,56,57,58,59,60,61,62,63,64,65,66,67,68,69,70,71,72,73,74,75,76,77,78,79,80,81,82,83,84,85,86,87,88,89,90,91,92,93,94,95,96,97,98,99,100],\"y\":[-50000.0,-49999.99999999998,-49999.99999999974,-49999.999999997235,-49999.99999997505,-49999.99999980551,-49999.99999867628,-49999.99999205965,-49999.99995765022,-49999.99979755309,-49999.99912623101,-49999.99657219486,-49999.987701891594,-49999.959419527775,-49999.876202004096,-49999.64915468411,-49999.07219880497,-49997.701089882066,-49994.64227947406,-49988.21371604667,-49975.44410911479,-49951.396819514375,-49908.34293870196,-49834.863480041735,-49715.02366149611,-49527.81657334478,-49247.098957989336,-48842.22068591,-48279.47344556725,-47524.35919433239,-46544.52626376591,-45313.07288429639,-43811.80924955903,-42034.02812077194,-39986.37356616483,-37689.512394618134,-35177.480866563135,-32495.767137448067,-29698.36196249569,-26844.13667115675,-23992.970285517502,-21202.04302947584,-18522.650404694985,-15997.78861418804,-13660.640492308723,-11533.97242245795,-9630.353563545257,-7953.039096213899,-6497.322403251904,-5252.154692995181,-4201.848280737963,-3327.7134373649264,-2609.5201911762233,-2026.7187060994397,-1559.3897118646505,-1188.9268419185971,-898.4744172376047,-673.157418760617,-500.14628969196616,-368.59945890694854,-269.5228458375998,-195.57971353442727,-140.87740095644062,-100.7506568585781,-71.55514405133844,-50.47952226038821,-35.380466147333365,-24.641995534752105,-17.058459503138668,-11.739253862841359,-8.032683104014504],\"type\":\"scatter\",\"xaxis\":\"x2\",\"yaxis\":\"y2\"},{\"mode\":\"lines\",\"name\":\"Total_PnL\",\"x\":[30,31,32,33,34,35,36,37,38,39,40,41,42,43,44,45,46,47,48,49,50,51,52,53,54,55,56,57,58,59,60,61,62,63,64,65,66,67,68,69,70,71,72,73,74,75,76,77,78,79,80,81,82,83,84,85,86,87,88,89,90,91,92,93,94,95,96,97,98,99,100],\"y\":[18919035.86512944,18337629.470892496,17756223.101298694,17174816.82249897,16593410.845781649,16012005.783706058,15430603.25950632,14849207.229758808,14267826.616395453,13686480.12939017,13105204.432646718,12524066.956386443,11943184.55902088,11362748.775656136,10783057.512280637,10204551.817867864,9627854.977452766,9053809.897785049,8483509.910942655,7918317.952071236,7359869.698656921,6810057.647459024,6270995.049342526,5744960.808912148,5234328.534218929,4741484.578688522,4268740.936531268,3818249.145816591,3391920.9592028065,2991360.6009430815,2617812.1384451473,2272124.0674912264,1954731.8251790276,1665657.7348022559,1404526.9236237842,1170597.0562786134,962799.2749554235,779787.4959022413,619993.141034794,481682.45127795613,363013.7120116479,262092.0046643166,177019.4676972709,105939.48717815161,47073.71801340668,-1248.6679431269295,-40569.63390224335,-72288.53024333037,-97655.29527938567,-117769.69453464635,-133585.52905148634,-145918.67986999065,-155457.87661733275,-162777.16561207507,-168349.1868208624,-172558.5292187354,-175714.6025860284,-178063.62605179616,-179799.47943667969,-181073.2864292527,-182001.69622223673,-182673.9026509224,-183157.48931992828,-183503.21906859815,-183748.9003139572,-183922.4652263131,-184044.38889419302,-184129.56764027503,-184188.76086044527,-184229.68596969493,-184257.841503176],\"type\":\"scatter\",\"xaxis\":\"x\",\"yaxis\":\"y\"},{\"mode\":\"lines\",\"name\":\"Total_Delta\",\"x\":[30,31,32,33,34,35,36,37,38,39,40,41,42,43,44,45,46,47,48,49,50,51,52,53,54,55,56,57,58,59,60,61,62,63,64,65,66,67,68,69,70,71,72,73,74,75,76,77,78,79,80,81,82,83,84,85,86,87,88,89,90,91,92,93,94,95,96,97,98,99,100],\"y\":[-349999.9980774276,-349999.9912102262,-349999.9641799552,-349999.86867065926,-349999.56317182846,-349998.67185973277,-349996.2835946908,-349990.3697391867,-349976.75976855913,-349947.4985106802,-349888.44553529023,-349776.08834396163,-349573.7308652919,-349227.46227580804,-348662.5527016183,-347781.08783974306,-346461.67448590096,-344561.883964224,-341923.75874279765,-338382.24699478096,-333775.9436118646,-327959.1068373038,-320813.6719351667,-312259.94327770924,-302264.81318097346,-290846.68677594536,-278076.7163023887,-264076.38555200864,-249011.86484590068,-233085.8300399122,-216527.58473673233,-199582.34894555077,-182500.5053644508,-165527.4615281484,-148894.6274005647,-132811.8512142026,-117461.51799224428,-102994.40094330636,-89527.26373943442,-77142.13598467036,-65887.11966090505,-55778.52839696207,-46804.11474660793,-38927.10641037281,-32090.754363083433,-26223.097008063945,-21241.665369819886,-17057.89285936101,-13581.044831584688,-10721.542045188215,-8393.611892902274,-6517.256202973926,-5019.570226645603,-3835.4815901415873,-2907.9997424647563,-2188.076508567521,-1634.1785620859305,-1211.6653496420215,-892.0537679726503,-652.2360699956819,-473.70201104800503,-341.8015965406307,-245.07190407740964,-174.64082222714006,-123.71231043687425,-87.13181911237933,-61.026535325653384,-42.51277965671707,-29.461798494501146,-20.315023559625,-13.940304755949429],\"type\":\"scatter\",\"xaxis\":\"x2\",\"yaxis\":\"y2\"}],                        {\"template\":{\"data\":{\"histogram2dcontour\":[{\"type\":\"histogram2dcontour\",\"colorbar\":{\"outlinewidth\":0,\"ticks\":\"\"},\"colorscale\":[[0.0,\"#0d0887\"],[0.1111111111111111,\"#46039f\"],[0.2222222222222222,\"#7201a8\"],[0.3333333333333333,\"#9c179e\"],[0.4444444444444444,\"#bd3786\"],[0.5555555555555556,\"#d8576b\"],[0.6666666666666666,\"#ed7953\"],[0.7777777777777778,\"#fb9f3a\"],[0.8888888888888888,\"#fdca26\"],[1.0,\"#f0f921\"]]}],\"choropleth\":[{\"type\":\"choropleth\",\"colorbar\":{\"outlinewidth\":0,\"ticks\":\"\"}}],\"histogram2d\":[{\"type\":\"histogram2d\",\"colorbar\":{\"outlinewidth\":0,\"ticks\":\"\"},\"colorscale\":[[0.0,\"#0d0887\"],[0.1111111111111111,\"#46039f\"],[0.2222222222222222,\"#7201a8\"],[0.3333333333333333,\"#9c179e\"],[0.4444444444444444,\"#bd3786\"],[0.5555555555555556,\"#d8576b\"],[0.6666666666666666,\"#ed7953\"],[0.7777777777777778,\"#fb9f3a\"],[0.8888888888888888,\"#fdca26\"],[1.0,\"#f0f921\"]]}],\"heatmap\":[{\"type\":\"heatmap\",\"colorbar\":{\"outlinewidth\":0,\"ticks\":\"\"},\"colorscale\":[[0.0,\"#0d0887\"],[0.1111111111111111,\"#46039f\"],[0.2222222222222222,\"#7201a8\"],[0.3333333333333333,\"#9c179e\"],[0.4444444444444444,\"#bd3786\"],[0.5555555555555556,\"#d8576b\"],[0.6666666666666666,\"#ed7953\"],[0.7777777777777778,\"#fb9f3a\"],[0.8888888888888888,\"#fdca26\"],[1.0,\"#f0f921\"]]}],\"heatmapgl\":[{\"type\":\"heatmapgl\",\"colorbar\":{\"outlinewidth\":0,\"ticks\":\"\"},\"colorscale\":[[0.0,\"#0d0887\"],[0.1111111111111111,\"#46039f\"],[0.2222222222222222,\"#7201a8\"],[0.3333333333333333,\"#9c179e\"],[0.4444444444444444,\"#bd3786\"],[0.5555555555555556,\"#d8576b\"],[0.6666666666666666,\"#ed7953\"],[0.7777777777777778,\"#fb9f3a\"],[0.8888888888888888,\"#fdca26\"],[1.0,\"#f0f921\"]]}],\"contourcarpet\":[{\"type\":\"contourcarpet\",\"colorbar\":{\"outlinewidth\":0,\"ticks\":\"\"}}],\"contour\":[{\"type\":\"contour\",\"colorbar\":{\"outlinewidth\":0,\"ticks\":\"\"},\"colorscale\":[[0.0,\"#0d0887\"],[0.1111111111111111,\"#46039f\"],[0.2222222222222222,\"#7201a8\"],[0.3333333333333333,\"#9c179e\"],[0.4444444444444444,\"#bd3786\"],[0.5555555555555556,\"#d8576b\"],[0.6666666666666666,\"#ed7953\"],[0.7777777777777778,\"#fb9f3a\"],[0.8888888888888888,\"#fdca26\"],[1.0,\"#f0f921\"]]}],\"surface\":[{\"type\":\"surface\",\"colorbar\":{\"outlinewidth\":0,\"ticks\":\"\"},\"colorscale\":[[0.0,\"#0d0887\"],[0.1111111111111111,\"#46039f\"],[0.2222222222222222,\"#7201a8\"],[0.3333333333333333,\"#9c179e\"],[0.4444444444444444,\"#bd3786\"],[0.5555555555555556,\"#d8576b\"],[0.6666666666666666,\"#ed7953\"],[0.7777777777777778,\"#fb9f3a\"],[0.8888888888888888,\"#fdca26\"],[1.0,\"#f0f921\"]]}],\"mesh3d\":[{\"type\":\"mesh3d\",\"colorbar\":{\"outlinewidth\":0,\"ticks\":\"\"}}],\"scatter\":[{\"fillpattern\":{\"fillmode\":\"overlay\",\"size\":10,\"solidity\":0.2},\"type\":\"scatter\"}],\"parcoords\":[{\"type\":\"parcoords\",\"line\":{\"colorbar\":{\"outlinewidth\":0,\"ticks\":\"\"}}}],\"scatterpolargl\":[{\"type\":\"scatterpolargl\",\"marker\":{\"colorbar\":{\"outlinewidth\":0,\"ticks\":\"\"}}}],\"bar\":[{\"error_x\":{\"color\":\"#2a3f5f\"},\"error_y\":{\"color\":\"#2a3f5f\"},\"marker\":{\"line\":{\"color\":\"#E5ECF6\",\"width\":0.5},\"pattern\":{\"fillmode\":\"overlay\",\"size\":10,\"solidity\":0.2}},\"type\":\"bar\"}],\"scattergeo\":[{\"type\":\"scattergeo\",\"marker\":{\"colorbar\":{\"outlinewidth\":0,\"ticks\":\"\"}}}],\"scatterpolar\":[{\"type\":\"scatterpolar\",\"marker\":{\"colorbar\":{\"outlinewidth\":0,\"ticks\":\"\"}}}],\"histogram\":[{\"marker\":{\"pattern\":{\"fillmode\":\"overlay\",\"size\":10,\"solidity\":0.2}},\"type\":\"histogram\"}],\"scattergl\":[{\"type\":\"scattergl\",\"marker\":{\"colorbar\":{\"outlinewidth\":0,\"ticks\":\"\"}}}],\"scatter3d\":[{\"type\":\"scatter3d\",\"line\":{\"colorbar\":{\"outlinewidth\":0,\"ticks\":\"\"}},\"marker\":{\"colorbar\":{\"outlinewidth\":0,\"ticks\":\"\"}}}],\"scattermapbox\":[{\"type\":\"scattermapbox\",\"marker\":{\"colorbar\":{\"outlinewidth\":0,\"ticks\":\"\"}}}],\"scatterternary\":[{\"type\":\"scatterternary\",\"marker\":{\"colorbar\":{\"outlinewidth\":0,\"ticks\":\"\"}}}],\"scattercarpet\":[{\"type\":\"scattercarpet\",\"marker\":{\"colorbar\":{\"outlinewidth\":0,\"ticks\":\"\"}}}],\"carpet\":[{\"aaxis\":{\"endlinecolor\":\"#2a3f5f\",\"gridcolor\":\"white\",\"linecolor\":\"white\",\"minorgridcolor\":\"white\",\"startlinecolor\":\"#2a3f5f\"},\"baxis\":{\"endlinecolor\":\"#2a3f5f\",\"gridcolor\":\"white\",\"linecolor\":\"white\",\"minorgridcolor\":\"white\",\"startlinecolor\":\"#2a3f5f\"},\"type\":\"carpet\"}],\"table\":[{\"cells\":{\"fill\":{\"color\":\"#EBF0F8\"},\"line\":{\"color\":\"white\"}},\"header\":{\"fill\":{\"color\":\"#C8D4E3\"},\"line\":{\"color\":\"white\"}},\"type\":\"table\"}],\"barpolar\":[{\"marker\":{\"line\":{\"color\":\"#E5ECF6\",\"width\":0.5},\"pattern\":{\"fillmode\":\"overlay\",\"size\":10,\"solidity\":0.2}},\"type\":\"barpolar\"}],\"pie\":[{\"automargin\":true,\"type\":\"pie\"}]},\"layout\":{\"autotypenumbers\":\"strict\",\"colorway\":[\"#636efa\",\"#EF553B\",\"#00cc96\",\"#ab63fa\",\"#FFA15A\",\"#19d3f3\",\"#FF6692\",\"#B6E880\",\"#FF97FF\",\"#FECB52\"],\"font\":{\"color\":\"#2a3f5f\"},\"hovermode\":\"closest\",\"hoverlabel\":{\"align\":\"left\"},\"paper_bgcolor\":\"white\",\"plot_bgcolor\":\"#E5ECF6\",\"polar\":{\"bgcolor\":\"#E5ECF6\",\"angularaxis\":{\"gridcolor\":\"white\",\"linecolor\":\"white\",\"ticks\":\"\"},\"radialaxis\":{\"gridcolor\":\"white\",\"linecolor\":\"white\",\"ticks\":\"\"}},\"ternary\":{\"bgcolor\":\"#E5ECF6\",\"aaxis\":{\"gridcolor\":\"white\",\"linecolor\":\"white\",\"ticks\":\"\"},\"baxis\":{\"gridcolor\":\"white\",\"linecolor\":\"white\",\"ticks\":\"\"},\"caxis\":{\"gridcolor\":\"white\",\"linecolor\":\"white\",\"ticks\":\"\"}},\"coloraxis\":{\"colorbar\":{\"outlinewidth\":0,\"ticks\":\"\"}},\"colorscale\":{\"sequential\":[[0.0,\"#0d0887\"],[0.1111111111111111,\"#46039f\"],[0.2222222222222222,\"#7201a8\"],[0.3333333333333333,\"#9c179e\"],[0.4444444444444444,\"#bd3786\"],[0.5555555555555556,\"#d8576b\"],[0.6666666666666666,\"#ed7953\"],[0.7777777777777778,\"#fb9f3a\"],[0.8888888888888888,\"#fdca26\"],[1.0,\"#f0f921\"]],\"sequentialminus\":[[0.0,\"#0d0887\"],[0.1111111111111111,\"#46039f\"],[0.2222222222222222,\"#7201a8\"],[0.3333333333333333,\"#9c179e\"],[0.4444444444444444,\"#bd3786\"],[0.5555555555555556,\"#d8576b\"],[0.6666666666666666,\"#ed7953\"],[0.7777777777777778,\"#fb9f3a\"],[0.8888888888888888,\"#fdca26\"],[1.0,\"#f0f921\"]],\"diverging\":[[0,\"#8e0152\"],[0.1,\"#c51b7d\"],[0.2,\"#de77ae\"],[0.3,\"#f1b6da\"],[0.4,\"#fde0ef\"],[0.5,\"#f7f7f7\"],[0.6,\"#e6f5d0\"],[0.7,\"#b8e186\"],[0.8,\"#7fbc41\"],[0.9,\"#4d9221\"],[1,\"#276419\"]]},\"xaxis\":{\"gridcolor\":\"white\",\"linecolor\":\"white\",\"ticks\":\"\",\"title\":{\"standoff\":15},\"zerolinecolor\":\"white\",\"automargin\":true,\"zerolinewidth\":2},\"yaxis\":{\"gridcolor\":\"white\",\"linecolor\":\"white\",\"ticks\":\"\",\"title\":{\"standoff\":15},\"zerolinecolor\":\"white\",\"automargin\":true,\"zerolinewidth\":2},\"scene\":{\"xaxis\":{\"backgroundcolor\":\"#E5ECF6\",\"gridcolor\":\"white\",\"linecolor\":\"white\",\"showbackground\":true,\"ticks\":\"\",\"zerolinecolor\":\"white\",\"gridwidth\":2},\"yaxis\":{\"backgroundcolor\":\"#E5ECF6\",\"gridcolor\":\"white\",\"linecolor\":\"white\",\"showbackground\":true,\"ticks\":\"\",\"zerolinecolor\":\"white\",\"gridwidth\":2},\"zaxis\":{\"backgroundcolor\":\"#E5ECF6\",\"gridcolor\":\"white\",\"linecolor\":\"white\",\"showbackground\":true,\"ticks\":\"\",\"zerolinecolor\":\"white\",\"gridwidth\":2}},\"shapedefaults\":{\"line\":{\"color\":\"#2a3f5f\"}},\"annotationdefaults\":{\"arrowcolor\":\"#2a3f5f\",\"arrowhead\":0,\"arrowwidth\":1},\"geo\":{\"bgcolor\":\"white\",\"landcolor\":\"#E5ECF6\",\"subunitcolor\":\"white\",\"showland\":true,\"showlakes\":true,\"lakecolor\":\"white\"},\"title\":{\"x\":0.05},\"mapbox\":{\"style\":\"light\"}}},\"xaxis\":{\"anchor\":\"y\",\"domain\":[0.0,0.45],\"title\":{\"text\":\"Price\"}},\"yaxis\":{\"anchor\":\"x\",\"domain\":[0.0,1.0],\"title\":{\"text\":\"Pnl\"}},\"xaxis2\":{\"anchor\":\"y2\",\"domain\":[0.55,1.0],\"title\":{\"text\":\"Price\"}},\"yaxis2\":{\"anchor\":\"x2\",\"domain\":[0.0,1.0],\"title\":{\"text\":\"Delta\"}},\"title\":{\"text\":\"Todays Option Pos (PnL and Delta)\",\"x\":0.5,\"xanchor\":\"center\"},\"barmode\":\"stack\"},                        {\"responsive\": true}                    ).then(function(){\n",
       "                            \n",
       "var gd = document.getElementById('221929ce-e1db-4a9c-b564-6b1be35375cf');\n",
       "var x = new MutationObserver(function (mutations, observer) {{\n",
       "        var display = window.getComputedStyle(gd).display;\n",
       "        if (!display || display === 'none') {{\n",
       "            console.log([gd, 'removed!']);\n",
       "            Plotly.purge(gd);\n",
       "            observer.disconnect();\n",
       "        }}\n",
       "}});\n",
       "\n",
       "// Listen for the removal of the full notebook cells\n",
       "var notebookContainer = gd.closest('#notebook-container');\n",
       "if (notebookContainer) {{\n",
       "    x.observe(notebookContainer, {childList: true});\n",
       "}}\n",
       "\n",
       "// Listen for the clearing of the current output cell\n",
       "var outputEl = gd.closest('.output');\n",
       "if (outputEl) {{\n",
       "    x.observe(outputEl, {childList: true});\n",
       "}}\n",
       "\n",
       "                        })                };                });            </script>        </div>"
      ]
     },
     "metadata": {},
     "output_type": "display_data"
    }
   ],
   "source": [
    "pnl_delta_plot(end_of_month)"
   ]
  },
  {
   "cell_type": "markdown",
   "id": "89f40338",
   "metadata": {},
   "source": [
    "## End of Next Month"
   ]
  },
  {
   "cell_type": "code",
   "execution_count": 40,
   "id": "451ebb54",
   "metadata": {},
   "outputs": [
    {
     "data": {
      "application/vnd.plotly.v1+json": {
       "config": {
        "plotlyServerURL": "https://plot.ly"
       },
       "data": [
        {
         "name": "EUA Mar25 60P",
         "type": "scatter",
         "x": [
          30,
          31,
          32,
          33,
          34,
          35,
          36,
          37,
          38,
          39,
          40,
          41,
          42,
          43,
          44,
          45,
          46,
          47,
          48,
          49,
          50,
          51,
          52,
          53,
          54,
          55,
          56,
          57,
          58,
          59,
          60,
          61,
          62,
          63,
          64,
          65,
          66,
          67,
          68,
          69,
          70,
          71,
          72,
          73,
          74,
          75,
          76,
          77,
          78,
          79,
          80,
          81,
          82,
          83,
          84,
          85,
          86,
          87,
          88,
          89,
          90,
          91,
          92,
          93,
          94,
          95,
          96,
          97,
          98,
          99,
          100
         ],
         "xaxis": "x",
         "y": [
          9927059.605857188,
          9594221.605857188,
          9261383.605857188,
          8928545.605857188,
          8595707.605857188,
          8262869.605857189,
          7930031.605857189,
          7597193.605857189,
          7264355.605857189,
          6931517.605857188,
          6598679.605857188,
          6265841.605857188,
          5933003.605857188,
          5600165.605857188,
          5267327.605857188,
          4934489.605857188,
          4601651.605857188,
          4268813.605857188,
          3935975.605857188,
          3603137.605857188,
          3270299.605857188,
          2937461.605857188,
          2604623.605857188,
          2271785.605857188,
          1938947.605857188,
          1606109.6058571879,
          1273271.6058571879,
          940433.6058571878,
          607595.605857188,
          274757.6058571879,
          -58080.3941428121,
          -58080.3941428121,
          -58080.3941428121,
          -58080.3941428121,
          -58080.3941428121,
          -58080.3941428121,
          -58080.3941428121,
          -58080.3941428121,
          -58080.3941428121,
          -58080.3941428121,
          -58080.3941428121,
          -58080.3941428121,
          -58080.3941428121,
          -58080.3941428121,
          -58080.3941428121,
          -58080.3941428121,
          -58080.3941428121,
          -58080.3941428121,
          -58080.3941428121,
          -58080.3941428121,
          -58080.3941428121,
          -58080.3941428121,
          -58080.3941428121,
          -58080.3941428121,
          -58080.3941428121,
          -58080.3941428121,
          -58080.3941428121,
          -58080.3941428121,
          -58080.3941428121,
          -58080.3941428121,
          -58080.3941428121,
          -58080.3941428121,
          -58080.3941428121,
          -58080.3941428121,
          -58080.3941428121,
          -58080.3941428121,
          -58080.3941428121,
          -58080.3941428121,
          -58080.3941428121,
          -58080.3941428121,
          -58080.3941428121
         ],
         "yaxis": "y"
        },
        {
         "name": "EUA Mar25 60P",
         "type": "scatter",
         "x": [
          30,
          31,
          32,
          33,
          34,
          35,
          36,
          37,
          38,
          39,
          40,
          41,
          42,
          43,
          44,
          45,
          46,
          47,
          48,
          49,
          50,
          51,
          52,
          53,
          54,
          55,
          56,
          57,
          58,
          59,
          60,
          61,
          62,
          63,
          64,
          65,
          66,
          67,
          68,
          69,
          70,
          71,
          72,
          73,
          74,
          75,
          76,
          77,
          78,
          79,
          80,
          81,
          82,
          83,
          84,
          85,
          86,
          87,
          88,
          89,
          90,
          91,
          92,
          93,
          94,
          95,
          96,
          97,
          98,
          99,
          100
         ],
         "xaxis": "x2",
         "y": [
          -200000,
          -200000,
          -200000,
          -200000,
          -200000,
          -200000,
          -200000,
          -200000,
          -200000,
          -200000,
          -200000,
          -200000,
          -200000,
          -200000,
          -200000,
          -200000,
          -200000,
          -200000,
          -200000,
          -200000,
          -200000,
          -200000,
          -200000,
          -200000,
          -200000,
          -200000,
          -200000,
          -200000,
          -200000,
          -200000,
          null,
          0,
          0,
          0,
          0,
          0,
          0,
          0,
          0,
          0,
          0,
          0,
          0,
          0,
          0,
          0,
          0,
          0,
          0,
          0,
          0,
          0,
          0,
          0,
          0,
          0,
          0,
          0,
          0,
          0,
          0,
          0,
          0,
          0,
          0,
          0,
          0,
          0,
          0,
          0,
          0
         ],
         "yaxis": "y2"
        },
        {
         "name": "EUA Mar25 65P",
         "type": "scatter",
         "x": [
          30,
          31,
          32,
          33,
          34,
          35,
          36,
          37,
          38,
          39,
          40,
          41,
          42,
          43,
          44,
          45,
          46,
          47,
          48,
          49,
          50,
          51,
          52,
          53,
          54,
          55,
          56,
          57,
          58,
          59,
          60,
          61,
          62,
          63,
          64,
          65,
          66,
          67,
          68,
          69,
          70,
          71,
          72,
          73,
          74,
          75,
          76,
          77,
          78,
          79,
          80,
          81,
          82,
          83,
          84,
          85,
          86,
          87,
          88,
          89,
          90,
          91,
          92,
          93,
          94,
          95,
          96,
          97,
          98,
          99,
          100
         ],
         "xaxis": "x",
         "y": [
          5763907.128727572,
          5597488.128727572,
          5431069.128727572,
          5264650.128727572,
          5098231.128727572,
          4931812.128727572,
          4765393.128727572,
          4598974.128727572,
          4432555.128727572,
          4266136.128727572,
          4099717.128727572,
          3933298.128727572,
          3766879.128727572,
          3600460.1287275716,
          3434041.128727572,
          3267622.128727572,
          3101203.128727572,
          2934784.128727572,
          2768365.128727572,
          2601946.128727572,
          2435527.128727572,
          2269108.128727572,
          2102689.128727572,
          1936270.128727572,
          1769851.128727572,
          1603432.128727572,
          1437013.1287275718,
          1270594.1287275718,
          1104175.1287275718,
          937756.1287275719,
          771337.128727572,
          604918.128727572,
          438499.1287275721,
          272080.12872757204,
          105661.12872757204,
          -60757.871272427976,
          -60757.871272427976,
          -60757.871272427976,
          -60757.871272427976,
          -60757.871272427976,
          -60757.871272427976,
          -60757.871272427976,
          -60757.871272427976,
          -60757.871272427976,
          -60757.871272427976,
          -60757.871272427976,
          -60757.871272427976,
          -60757.871272427976,
          -60757.871272427976,
          -60757.871272427976,
          -60757.871272427976,
          -60757.871272427976,
          -60757.871272427976,
          -60757.871272427976,
          -60757.871272427976,
          -60757.871272427976,
          -60757.871272427976,
          -60757.871272427976,
          -60757.871272427976,
          -60757.871272427976,
          -60757.871272427976,
          -60757.871272427976,
          -60757.871272427976,
          -60757.871272427976,
          -60757.871272427976,
          -60757.871272427976,
          -60757.871272427976,
          -60757.871272427976,
          -60757.871272427976,
          -60757.871272427976,
          -60757.871272427976
         ],
         "yaxis": "y"
        },
        {
         "name": "EUA Mar25 65P",
         "type": "scatter",
         "x": [
          30,
          31,
          32,
          33,
          34,
          35,
          36,
          37,
          38,
          39,
          40,
          41,
          42,
          43,
          44,
          45,
          46,
          47,
          48,
          49,
          50,
          51,
          52,
          53,
          54,
          55,
          56,
          57,
          58,
          59,
          60,
          61,
          62,
          63,
          64,
          65,
          66,
          67,
          68,
          69,
          70,
          71,
          72,
          73,
          74,
          75,
          76,
          77,
          78,
          79,
          80,
          81,
          82,
          83,
          84,
          85,
          86,
          87,
          88,
          89,
          90,
          91,
          92,
          93,
          94,
          95,
          96,
          97,
          98,
          99,
          100
         ],
         "xaxis": "x2",
         "y": [
          -100000,
          -100000,
          -100000,
          -100000,
          -100000,
          -100000,
          -100000,
          -100000,
          -100000,
          -100000,
          -100000,
          -100000,
          -100000,
          -100000,
          -100000,
          -100000,
          -100000,
          -100000,
          -100000,
          -100000,
          -100000,
          -100000,
          -100000,
          -100000,
          -100000,
          -100000,
          -100000,
          -100000,
          -100000,
          -100000,
          -100000,
          -100000,
          -100000,
          -100000,
          -100000,
          null,
          0,
          0,
          0,
          0,
          0,
          0,
          0,
          0,
          0,
          0,
          0,
          0,
          0,
          0,
          0,
          0,
          0,
          0,
          0,
          0,
          0,
          0,
          0,
          0,
          0,
          0,
          0,
          0,
          0,
          0,
          0,
          0,
          0,
          0,
          0
         ],
         "yaxis": "y2"
        },
        {
         "name": "EUA Mar25 70P",
         "type": "scatter",
         "x": [
          30,
          31,
          32,
          33,
          34,
          35,
          36,
          37,
          38,
          39,
          40,
          41,
          42,
          43,
          44,
          45,
          46,
          47,
          48,
          49,
          50,
          51,
          52,
          53,
          54,
          55,
          56,
          57,
          58,
          59,
          60,
          61,
          62,
          63,
          64,
          65,
          66,
          67,
          68,
          69,
          70,
          71,
          72,
          73,
          74,
          75,
          76,
          77,
          78,
          79,
          80,
          81,
          82,
          83,
          84,
          85,
          86,
          87,
          88,
          89,
          90,
          91,
          92,
          93,
          94,
          95,
          96,
          97,
          98,
          99,
          100
         ],
         "xaxis": "x",
         "y": [
          3262900.9263945506,
          3179691.4263945506,
          3096481.9263945506,
          3013272.4263945506,
          2930062.9263945506,
          2846853.4263945506,
          2763643.9263945506,
          2680434.4263945506,
          2597224.9263945506,
          2514015.4263945506,
          2430805.9263945506,
          2347596.4263945506,
          2264386.9263945506,
          2181177.4263945506,
          2097967.9263945506,
          2014758.4263945504,
          1931548.9263945504,
          1848339.4263945504,
          1765129.9263945504,
          1681920.4263945506,
          1598710.9263945506,
          1515501.4263945506,
          1432291.9263945506,
          1349082.4263945506,
          1265872.9263945506,
          1182663.4263945506,
          1099453.9263945506,
          1016244.4263945505,
          933034.9263945505,
          849825.4263945505,
          766615.9263945505,
          683406.4263945505,
          600196.9263945506,
          516987.4263945506,
          433777.92639455054,
          350568.42639455054,
          267358.92639455054,
          184149.42639455054,
          100939.92639455052,
          17730.426394550523,
          -65479.073605449485,
          -65479.073605449485,
          -65479.073605449485,
          -65479.073605449485,
          -65479.073605449485,
          -65479.073605449485,
          -65479.073605449485,
          -65479.073605449485,
          -65479.073605449485,
          -65479.073605449485,
          -65479.073605449485,
          -65479.073605449485,
          -65479.073605449485,
          -65479.073605449485,
          -65479.073605449485,
          -65479.073605449485,
          -65479.073605449485,
          -65479.073605449485,
          -65479.073605449485,
          -65479.073605449485,
          -65479.073605449485,
          -65479.073605449485,
          -65479.073605449485,
          -65479.073605449485,
          -65479.073605449485,
          -65479.073605449485,
          -65479.073605449485,
          -65479.073605449485,
          -65479.073605449485,
          -65479.073605449485,
          -65479.073605449485
         ],
         "yaxis": "y"
        },
        {
         "name": "EUA Mar25 70P",
         "type": "scatter",
         "x": [
          30,
          31,
          32,
          33,
          34,
          35,
          36,
          37,
          38,
          39,
          40,
          41,
          42,
          43,
          44,
          45,
          46,
          47,
          48,
          49,
          50,
          51,
          52,
          53,
          54,
          55,
          56,
          57,
          58,
          59,
          60,
          61,
          62,
          63,
          64,
          65,
          66,
          67,
          68,
          69,
          70,
          71,
          72,
          73,
          74,
          75,
          76,
          77,
          78,
          79,
          80,
          81,
          82,
          83,
          84,
          85,
          86,
          87,
          88,
          89,
          90,
          91,
          92,
          93,
          94,
          95,
          96,
          97,
          98,
          99,
          100
         ],
         "xaxis": "x2",
         "y": [
          -50000,
          -50000,
          -50000,
          -50000,
          -50000,
          -50000,
          -50000,
          -50000,
          -50000,
          -50000,
          -50000,
          -50000,
          -50000,
          -50000,
          -50000,
          -50000,
          -50000,
          -50000,
          -50000,
          -50000,
          -50000,
          -50000,
          -50000,
          -50000,
          -50000,
          -50000,
          -50000,
          -50000,
          -50000,
          -50000,
          -50000,
          -50000,
          -50000,
          -50000,
          -50000,
          -50000,
          -50000,
          -50000,
          -50000,
          -50000,
          null,
          0,
          0,
          0,
          0,
          0,
          0,
          0,
          0,
          0,
          0,
          0,
          0,
          0,
          0,
          0,
          0,
          0,
          0,
          0,
          0,
          0,
          0,
          0,
          0,
          0,
          0,
          0,
          0,
          0,
          0
         ],
         "yaxis": "y2"
        },
        {
         "mode": "lines",
         "name": "Total_PnL",
         "type": "scatter",
         "x": [
          30,
          31,
          32,
          33,
          34,
          35,
          36,
          37,
          38,
          39,
          40,
          41,
          42,
          43,
          44,
          45,
          46,
          47,
          48,
          49,
          50,
          51,
          52,
          53,
          54,
          55,
          56,
          57,
          58,
          59,
          60,
          61,
          62,
          63,
          64,
          65,
          66,
          67,
          68,
          69,
          70,
          71,
          72,
          73,
          74,
          75,
          76,
          77,
          78,
          79,
          80,
          81,
          82,
          83,
          84,
          85,
          86,
          87,
          88,
          89,
          90,
          91,
          92,
          93,
          94,
          95,
          96,
          97,
          98,
          99,
          100
         ],
         "xaxis": "x",
         "y": [
          18953867.660979312,
          18371401.160979312,
          17788934.660979312,
          17206468.160979312,
          16624001.66097931,
          16041535.16097931,
          15459068.66097931,
          14876602.16097931,
          14294135.66097931,
          13711669.16097931,
          13129202.66097931,
          12546736.16097931,
          11964269.66097931,
          11381803.16097931,
          10799336.66097931,
          10216870.16097931,
          9634403.66097931,
          9051937.16097931,
          8469470.66097931,
          7887004.16097931,
          7304537.66097931,
          6722071.16097931,
          6139604.66097931,
          5557138.16097931,
          4974671.66097931,
          4392205.16097931,
          3809738.6609793105,
          3227272.16097931,
          2644805.6609793105,
          2062339.1609793105,
          1479872.6609793105,
          1230244.1609793105,
          980615.6609793105,
          730987.1609793105,
          481358.66097931046,
          231730.16097931046,
          148520.66097931046,
          65311.16097931046,
          -17898.339020689556,
          -101107.83902068956,
          -184317.33902068957,
          -184317.33902068957,
          -184317.33902068957,
          -184317.33902068957,
          -184317.33902068957,
          -184317.33902068957,
          -184317.33902068957,
          -184317.33902068957,
          -184317.33902068957,
          -184317.33902068957,
          -184317.33902068957,
          -184317.33902068957,
          -184317.33902068957,
          -184317.33902068957,
          -184317.33902068957,
          -184317.33902068957,
          -184317.33902068957,
          -184317.33902068957,
          -184317.33902068957,
          -184317.33902068957,
          -184317.33902068957,
          -184317.33902068957,
          -184317.33902068957,
          -184317.33902068957,
          -184317.33902068957,
          -184317.33902068957,
          -184317.33902068957,
          -184317.33902068957,
          -184317.33902068957,
          -184317.33902068957,
          -184317.33902068957
         ],
         "yaxis": "y"
        },
        {
         "mode": "lines",
         "name": "Total_Delta",
         "type": "scatter",
         "x": [
          30,
          31,
          32,
          33,
          34,
          35,
          36,
          37,
          38,
          39,
          40,
          41,
          42,
          43,
          44,
          45,
          46,
          47,
          48,
          49,
          50,
          51,
          52,
          53,
          54,
          55,
          56,
          57,
          58,
          59,
          60,
          61,
          62,
          63,
          64,
          65,
          66,
          67,
          68,
          69,
          70,
          71,
          72,
          73,
          74,
          75,
          76,
          77,
          78,
          79,
          80,
          81,
          82,
          83,
          84,
          85,
          86,
          87,
          88,
          89,
          90,
          91,
          92,
          93,
          94,
          95,
          96,
          97,
          98,
          99,
          100
         ],
         "xaxis": "x2",
         "y": [
          -350000,
          -350000,
          -350000,
          -350000,
          -350000,
          -350000,
          -350000,
          -350000,
          -350000,
          -350000,
          -350000,
          -350000,
          -350000,
          -350000,
          -350000,
          -350000,
          -350000,
          -350000,
          -350000,
          -350000,
          -350000,
          -350000,
          -350000,
          -350000,
          -350000,
          -350000,
          -350000,
          -350000,
          -350000,
          -350000,
          -150000,
          -150000,
          -150000,
          -150000,
          -150000,
          -50000,
          -50000,
          -50000,
          -50000,
          -50000,
          0,
          0,
          0,
          0,
          0,
          0,
          0,
          0,
          0,
          0,
          0,
          0,
          0,
          0,
          0,
          0,
          0,
          0,
          0,
          0,
          0,
          0,
          0,
          0,
          0,
          0,
          0,
          0,
          0,
          0,
          0
         ],
         "yaxis": "y2"
        }
       ],
       "layout": {
        "autosize": true,
        "barmode": "stack",
        "template": {
         "data": {
          "bar": [
           {
            "error_x": {
             "color": "#2a3f5f"
            },
            "error_y": {
             "color": "#2a3f5f"
            },
            "marker": {
             "line": {
              "color": "#E5ECF6",
              "width": 0.5
             },
             "pattern": {
              "fillmode": "overlay",
              "size": 10,
              "solidity": 0.2
             }
            },
            "type": "bar"
           }
          ],
          "barpolar": [
           {
            "marker": {
             "line": {
              "color": "#E5ECF6",
              "width": 0.5
             },
             "pattern": {
              "fillmode": "overlay",
              "size": 10,
              "solidity": 0.2
             }
            },
            "type": "barpolar"
           }
          ],
          "carpet": [
           {
            "aaxis": {
             "endlinecolor": "#2a3f5f",
             "gridcolor": "white",
             "linecolor": "white",
             "minorgridcolor": "white",
             "startlinecolor": "#2a3f5f"
            },
            "baxis": {
             "endlinecolor": "#2a3f5f",
             "gridcolor": "white",
             "linecolor": "white",
             "minorgridcolor": "white",
             "startlinecolor": "#2a3f5f"
            },
            "type": "carpet"
           }
          ],
          "choropleth": [
           {
            "colorbar": {
             "outlinewidth": 0,
             "ticks": ""
            },
            "type": "choropleth"
           }
          ],
          "contour": [
           {
            "colorbar": {
             "outlinewidth": 0,
             "ticks": ""
            },
            "colorscale": [
             [
              0,
              "#0d0887"
             ],
             [
              0.1111111111111111,
              "#46039f"
             ],
             [
              0.2222222222222222,
              "#7201a8"
             ],
             [
              0.3333333333333333,
              "#9c179e"
             ],
             [
              0.4444444444444444,
              "#bd3786"
             ],
             [
              0.5555555555555556,
              "#d8576b"
             ],
             [
              0.6666666666666666,
              "#ed7953"
             ],
             [
              0.7777777777777778,
              "#fb9f3a"
             ],
             [
              0.8888888888888888,
              "#fdca26"
             ],
             [
              1,
              "#f0f921"
             ]
            ],
            "type": "contour"
           }
          ],
          "contourcarpet": [
           {
            "colorbar": {
             "outlinewidth": 0,
             "ticks": ""
            },
            "type": "contourcarpet"
           }
          ],
          "heatmap": [
           {
            "colorbar": {
             "outlinewidth": 0,
             "ticks": ""
            },
            "colorscale": [
             [
              0,
              "#0d0887"
             ],
             [
              0.1111111111111111,
              "#46039f"
             ],
             [
              0.2222222222222222,
              "#7201a8"
             ],
             [
              0.3333333333333333,
              "#9c179e"
             ],
             [
              0.4444444444444444,
              "#bd3786"
             ],
             [
              0.5555555555555556,
              "#d8576b"
             ],
             [
              0.6666666666666666,
              "#ed7953"
             ],
             [
              0.7777777777777778,
              "#fb9f3a"
             ],
             [
              0.8888888888888888,
              "#fdca26"
             ],
             [
              1,
              "#f0f921"
             ]
            ],
            "type": "heatmap"
           }
          ],
          "heatmapgl": [
           {
            "colorbar": {
             "outlinewidth": 0,
             "ticks": ""
            },
            "colorscale": [
             [
              0,
              "#0d0887"
             ],
             [
              0.1111111111111111,
              "#46039f"
             ],
             [
              0.2222222222222222,
              "#7201a8"
             ],
             [
              0.3333333333333333,
              "#9c179e"
             ],
             [
              0.4444444444444444,
              "#bd3786"
             ],
             [
              0.5555555555555556,
              "#d8576b"
             ],
             [
              0.6666666666666666,
              "#ed7953"
             ],
             [
              0.7777777777777778,
              "#fb9f3a"
             ],
             [
              0.8888888888888888,
              "#fdca26"
             ],
             [
              1,
              "#f0f921"
             ]
            ],
            "type": "heatmapgl"
           }
          ],
          "histogram": [
           {
            "marker": {
             "pattern": {
              "fillmode": "overlay",
              "size": 10,
              "solidity": 0.2
             }
            },
            "type": "histogram"
           }
          ],
          "histogram2d": [
           {
            "colorbar": {
             "outlinewidth": 0,
             "ticks": ""
            },
            "colorscale": [
             [
              0,
              "#0d0887"
             ],
             [
              0.1111111111111111,
              "#46039f"
             ],
             [
              0.2222222222222222,
              "#7201a8"
             ],
             [
              0.3333333333333333,
              "#9c179e"
             ],
             [
              0.4444444444444444,
              "#bd3786"
             ],
             [
              0.5555555555555556,
              "#d8576b"
             ],
             [
              0.6666666666666666,
              "#ed7953"
             ],
             [
              0.7777777777777778,
              "#fb9f3a"
             ],
             [
              0.8888888888888888,
              "#fdca26"
             ],
             [
              1,
              "#f0f921"
             ]
            ],
            "type": "histogram2d"
           }
          ],
          "histogram2dcontour": [
           {
            "colorbar": {
             "outlinewidth": 0,
             "ticks": ""
            },
            "colorscale": [
             [
              0,
              "#0d0887"
             ],
             [
              0.1111111111111111,
              "#46039f"
             ],
             [
              0.2222222222222222,
              "#7201a8"
             ],
             [
              0.3333333333333333,
              "#9c179e"
             ],
             [
              0.4444444444444444,
              "#bd3786"
             ],
             [
              0.5555555555555556,
              "#d8576b"
             ],
             [
              0.6666666666666666,
              "#ed7953"
             ],
             [
              0.7777777777777778,
              "#fb9f3a"
             ],
             [
              0.8888888888888888,
              "#fdca26"
             ],
             [
              1,
              "#f0f921"
             ]
            ],
            "type": "histogram2dcontour"
           }
          ],
          "mesh3d": [
           {
            "colorbar": {
             "outlinewidth": 0,
             "ticks": ""
            },
            "type": "mesh3d"
           }
          ],
          "parcoords": [
           {
            "line": {
             "colorbar": {
              "outlinewidth": 0,
              "ticks": ""
             }
            },
            "type": "parcoords"
           }
          ],
          "pie": [
           {
            "automargin": true,
            "type": "pie"
           }
          ],
          "scatter": [
           {
            "fillpattern": {
             "fillmode": "overlay",
             "size": 10,
             "solidity": 0.2
            },
            "type": "scatter"
           }
          ],
          "scatter3d": [
           {
            "line": {
             "colorbar": {
              "outlinewidth": 0,
              "ticks": ""
             }
            },
            "marker": {
             "colorbar": {
              "outlinewidth": 0,
              "ticks": ""
             }
            },
            "type": "scatter3d"
           }
          ],
          "scattercarpet": [
           {
            "marker": {
             "colorbar": {
              "outlinewidth": 0,
              "ticks": ""
             }
            },
            "type": "scattercarpet"
           }
          ],
          "scattergeo": [
           {
            "marker": {
             "colorbar": {
              "outlinewidth": 0,
              "ticks": ""
             }
            },
            "type": "scattergeo"
           }
          ],
          "scattergl": [
           {
            "marker": {
             "colorbar": {
              "outlinewidth": 0,
              "ticks": ""
             }
            },
            "type": "scattergl"
           }
          ],
          "scattermapbox": [
           {
            "marker": {
             "colorbar": {
              "outlinewidth": 0,
              "ticks": ""
             }
            },
            "type": "scattermapbox"
           }
          ],
          "scatterpolar": [
           {
            "marker": {
             "colorbar": {
              "outlinewidth": 0,
              "ticks": ""
             }
            },
            "type": "scatterpolar"
           }
          ],
          "scatterpolargl": [
           {
            "marker": {
             "colorbar": {
              "outlinewidth": 0,
              "ticks": ""
             }
            },
            "type": "scatterpolargl"
           }
          ],
          "scatterternary": [
           {
            "marker": {
             "colorbar": {
              "outlinewidth": 0,
              "ticks": ""
             }
            },
            "type": "scatterternary"
           }
          ],
          "surface": [
           {
            "colorbar": {
             "outlinewidth": 0,
             "ticks": ""
            },
            "colorscale": [
             [
              0,
              "#0d0887"
             ],
             [
              0.1111111111111111,
              "#46039f"
             ],
             [
              0.2222222222222222,
              "#7201a8"
             ],
             [
              0.3333333333333333,
              "#9c179e"
             ],
             [
              0.4444444444444444,
              "#bd3786"
             ],
             [
              0.5555555555555556,
              "#d8576b"
             ],
             [
              0.6666666666666666,
              "#ed7953"
             ],
             [
              0.7777777777777778,
              "#fb9f3a"
             ],
             [
              0.8888888888888888,
              "#fdca26"
             ],
             [
              1,
              "#f0f921"
             ]
            ],
            "type": "surface"
           }
          ],
          "table": [
           {
            "cells": {
             "fill": {
              "color": "#EBF0F8"
             },
             "line": {
              "color": "white"
             }
            },
            "header": {
             "fill": {
              "color": "#C8D4E3"
             },
             "line": {
              "color": "white"
             }
            },
            "type": "table"
           }
          ]
         },
         "layout": {
          "annotationdefaults": {
           "arrowcolor": "#2a3f5f",
           "arrowhead": 0,
           "arrowwidth": 1
          },
          "autotypenumbers": "strict",
          "coloraxis": {
           "colorbar": {
            "outlinewidth": 0,
            "ticks": ""
           }
          },
          "colorscale": {
           "diverging": [
            [
             0,
             "#8e0152"
            ],
            [
             0.1,
             "#c51b7d"
            ],
            [
             0.2,
             "#de77ae"
            ],
            [
             0.3,
             "#f1b6da"
            ],
            [
             0.4,
             "#fde0ef"
            ],
            [
             0.5,
             "#f7f7f7"
            ],
            [
             0.6,
             "#e6f5d0"
            ],
            [
             0.7,
             "#b8e186"
            ],
            [
             0.8,
             "#7fbc41"
            ],
            [
             0.9,
             "#4d9221"
            ],
            [
             1,
             "#276419"
            ]
           ],
           "sequential": [
            [
             0,
             "#0d0887"
            ],
            [
             0.1111111111111111,
             "#46039f"
            ],
            [
             0.2222222222222222,
             "#7201a8"
            ],
            [
             0.3333333333333333,
             "#9c179e"
            ],
            [
             0.4444444444444444,
             "#bd3786"
            ],
            [
             0.5555555555555556,
             "#d8576b"
            ],
            [
             0.6666666666666666,
             "#ed7953"
            ],
            [
             0.7777777777777778,
             "#fb9f3a"
            ],
            [
             0.8888888888888888,
             "#fdca26"
            ],
            [
             1,
             "#f0f921"
            ]
           ],
           "sequentialminus": [
            [
             0,
             "#0d0887"
            ],
            [
             0.1111111111111111,
             "#46039f"
            ],
            [
             0.2222222222222222,
             "#7201a8"
            ],
            [
             0.3333333333333333,
             "#9c179e"
            ],
            [
             0.4444444444444444,
             "#bd3786"
            ],
            [
             0.5555555555555556,
             "#d8576b"
            ],
            [
             0.6666666666666666,
             "#ed7953"
            ],
            [
             0.7777777777777778,
             "#fb9f3a"
            ],
            [
             0.8888888888888888,
             "#fdca26"
            ],
            [
             1,
             "#f0f921"
            ]
           ]
          },
          "colorway": [
           "#636efa",
           "#EF553B",
           "#00cc96",
           "#ab63fa",
           "#FFA15A",
           "#19d3f3",
           "#FF6692",
           "#B6E880",
           "#FF97FF",
           "#FECB52"
          ],
          "font": {
           "color": "#2a3f5f"
          },
          "geo": {
           "bgcolor": "white",
           "lakecolor": "white",
           "landcolor": "#E5ECF6",
           "showlakes": true,
           "showland": true,
           "subunitcolor": "white"
          },
          "hoverlabel": {
           "align": "left"
          },
          "hovermode": "closest",
          "mapbox": {
           "style": "light"
          },
          "paper_bgcolor": "white",
          "plot_bgcolor": "#E5ECF6",
          "polar": {
           "angularaxis": {
            "gridcolor": "white",
            "linecolor": "white",
            "ticks": ""
           },
           "bgcolor": "#E5ECF6",
           "radialaxis": {
            "gridcolor": "white",
            "linecolor": "white",
            "ticks": ""
           }
          },
          "scene": {
           "xaxis": {
            "backgroundcolor": "#E5ECF6",
            "gridcolor": "white",
            "gridwidth": 2,
            "linecolor": "white",
            "showbackground": true,
            "ticks": "",
            "zerolinecolor": "white"
           },
           "yaxis": {
            "backgroundcolor": "#E5ECF6",
            "gridcolor": "white",
            "gridwidth": 2,
            "linecolor": "white",
            "showbackground": true,
            "ticks": "",
            "zerolinecolor": "white"
           },
           "zaxis": {
            "backgroundcolor": "#E5ECF6",
            "gridcolor": "white",
            "gridwidth": 2,
            "linecolor": "white",
            "showbackground": true,
            "ticks": "",
            "zerolinecolor": "white"
           }
          },
          "shapedefaults": {
           "line": {
            "color": "#2a3f5f"
           }
          },
          "ternary": {
           "aaxis": {
            "gridcolor": "white",
            "linecolor": "white",
            "ticks": ""
           },
           "baxis": {
            "gridcolor": "white",
            "linecolor": "white",
            "ticks": ""
           },
           "bgcolor": "#E5ECF6",
           "caxis": {
            "gridcolor": "white",
            "linecolor": "white",
            "ticks": ""
           }
          },
          "title": {
           "x": 0.05
          },
          "xaxis": {
           "automargin": true,
           "gridcolor": "white",
           "linecolor": "white",
           "ticks": "",
           "title": {
            "standoff": 15
           },
           "zerolinecolor": "white",
           "zerolinewidth": 2
          },
          "yaxis": {
           "automargin": true,
           "gridcolor": "white",
           "linecolor": "white",
           "ticks": "",
           "title": {
            "standoff": 15
           },
           "zerolinecolor": "white",
           "zerolinewidth": 2
          }
         }
        },
        "title": {
         "text": "Todays Option Pos (PnL and Delta)",
         "x": 0.5,
         "xanchor": "center"
        },
        "xaxis": {
         "anchor": "y",
         "autorange": true,
         "domain": [
          0,
          0.45
         ],
         "range": [
          30,
          100
         ],
         "title": {
          "text": "Price"
         },
         "type": "linear"
        },
        "xaxis2": {
         "anchor": "y2",
         "autorange": true,
         "domain": [
          0.55,
          1
         ],
         "range": [
          30,
          100
         ],
         "title": {
          "text": "Price"
         },
         "type": "linear"
        },
        "yaxis": {
         "anchor": "x",
         "autorange": true,
         "domain": [
          0,
          1
         ],
         "range": [
          -1247549.8390206895,
          20017100.160979312
         ],
         "title": {
          "text": "Pnl"
         },
         "type": "linear"
        },
        "yaxis2": {
         "anchor": "x2",
         "autorange": true,
         "domain": [
          0,
          1
         ],
         "range": [
          -369444.44444444444,
          19444.444444444445
         ],
         "title": {
          "text": "Delta"
         },
         "type": "linear"
        }
       }
      },
      "image/png": "[encoded data removed]",
      "text/html": [
       "<div>                            <div id=\"ec719323-4159-49bf-8ce7-a570bfa55e10\" class=\"plotly-graph-div\" style=\"height:525px; width:100%;\"></div>            <script type=\"text/javascript\">                require([\"plotly\"], function(Plotly) {                    window.PLOTLYENV=window.PLOTLYENV || {};                                    if (document.getElementById(\"ec719323-4159-49bf-8ce7-a570bfa55e10\")) {                    Plotly.newPlot(                        \"ec719323-4159-49bf-8ce7-a570bfa55e10\",                        [{\"name\":\"EUA Mar25 60P\",\"x\":[30,31,32,33,34,35,36,37,38,39,40,41,42,43,44,45,46,47,48,49,50,51,52,53,54,55,56,57,58,59,60,61,62,63,64,65,66,67,68,69,70,71,72,73,74,75,76,77,78,79,80,81,82,83,84,85,86,87,88,89,90,91,92,93,94,95,96,97,98,99,100],\"y\":[9927059.605857188,9594221.605857188,9261383.605857188,8928545.605857188,8595707.605857188,8262869.605857189,7930031.605857189,7597193.605857189,7264355.605857189,6931517.605857188,6598679.605857188,6265841.605857188,5933003.605857188,5600165.605857188,5267327.605857188,4934489.605857188,4601651.605857188,4268813.605857188,3935975.605857188,3603137.605857188,3270299.605857188,2937461.605857188,2604623.605857188,2271785.605857188,1938947.605857188,1606109.6058571879,1273271.6058571879,940433.6058571878,607595.605857188,274757.6058571879,-58080.3941428121,-58080.3941428121,-58080.3941428121,-58080.3941428121,-58080.3941428121,-58080.3941428121,-58080.3941428121,-58080.3941428121,-58080.3941428121,-58080.3941428121,-58080.3941428121,-58080.3941428121,-58080.3941428121,-58080.3941428121,-58080.3941428121,-58080.3941428121,-58080.3941428121,-58080.3941428121,-58080.3941428121,-58080.3941428121,-58080.3941428121,-58080.3941428121,-58080.3941428121,-58080.3941428121,-58080.3941428121,-58080.3941428121,-58080.3941428121,-58080.3941428121,-58080.3941428121,-58080.3941428121,-58080.3941428121,-58080.3941428121,-58080.3941428121,-58080.3941428121,-58080.3941428121,-58080.3941428121,-58080.3941428121,-58080.3941428121,-58080.3941428121,-58080.3941428121,-58080.3941428121],\"type\":\"scatter\",\"xaxis\":\"x\",\"yaxis\":\"y\"},{\"name\":\"EUA Mar25 60P\",\"x\":[30,31,32,33,34,35,36,37,38,39,40,41,42,43,44,45,46,47,48,49,50,51,52,53,54,55,56,57,58,59,60,61,62,63,64,65,66,67,68,69,70,71,72,73,74,75,76,77,78,79,80,81,82,83,84,85,86,87,88,89,90,91,92,93,94,95,96,97,98,99,100],\"y\":[-200000.0,-200000.0,-200000.0,-200000.0,-200000.0,-200000.0,-200000.0,-200000.0,-200000.0,-200000.0,-200000.0,-200000.0,-200000.0,-200000.0,-200000.0,-200000.0,-200000.0,-200000.0,-200000.0,-200000.0,-200000.0,-200000.0,-200000.0,-200000.0,-200000.0,-200000.0,-200000.0,-200000.0,-200000.0,-200000.0,null,0.0,0.0,0.0,0.0,0.0,0.0,0.0,0.0,0.0,0.0,0.0,0.0,0.0,0.0,0.0,0.0,0.0,0.0,0.0,0.0,0.0,0.0,0.0,0.0,0.0,0.0,0.0,0.0,0.0,0.0,0.0,0.0,0.0,0.0,0.0,0.0,0.0,0.0,0.0,0.0],\"type\":\"scatter\",\"xaxis\":\"x2\",\"yaxis\":\"y2\"},{\"name\":\"EUA Mar25 65P\",\"x\":[30,31,32,33,34,35,36,37,38,39,40,41,42,43,44,45,46,47,48,49,50,51,52,53,54,55,56,57,58,59,60,61,62,63,64,65,66,67,68,69,70,71,72,73,74,75,76,77,78,79,80,81,82,83,84,85,86,87,88,89,90,91,92,93,94,95,96,97,98,99,100],\"y\":[5763907.128727572,5597488.128727572,5431069.128727572,5264650.128727572,5098231.128727572,4931812.128727572,4765393.128727572,4598974.128727572,4432555.128727572,4266136.128727572,4099717.128727572,3933298.128727572,3766879.128727572,3600460.1287275716,3434041.128727572,3267622.128727572,3101203.128727572,2934784.128727572,2768365.128727572,2601946.128727572,2435527.128727572,2269108.128727572,2102689.128727572,1936270.128727572,1769851.128727572,1603432.128727572,1437013.1287275718,1270594.1287275718,1104175.1287275718,937756.1287275719,771337.128727572,604918.128727572,438499.1287275721,272080.12872757204,105661.12872757204,-60757.871272427976,-60757.871272427976,-60757.871272427976,-60757.871272427976,-60757.871272427976,-60757.871272427976,-60757.871272427976,-60757.871272427976,-60757.871272427976,-60757.871272427976,-60757.871272427976,-60757.871272427976,-60757.871272427976,-60757.871272427976,-60757.871272427976,-60757.871272427976,-60757.871272427976,-60757.871272427976,-60757.871272427976,-60757.871272427976,-60757.871272427976,-60757.871272427976,-60757.871272427976,-60757.871272427976,-60757.871272427976,-60757.871272427976,-60757.871272427976,-60757.871272427976,-60757.871272427976,-60757.871272427976,-60757.871272427976,-60757.871272427976,-60757.871272427976,-60757.871272427976,-60757.871272427976,-60757.871272427976],\"type\":\"scatter\",\"xaxis\":\"x\",\"yaxis\":\"y\"},{\"name\":\"EUA Mar25 65P\",\"x\":[30,31,32,33,34,35,36,37,38,39,40,41,42,43,44,45,46,47,48,49,50,51,52,53,54,55,56,57,58,59,60,61,62,63,64,65,66,67,68,69,70,71,72,73,74,75,76,77,78,79,80,81,82,83,84,85,86,87,88,89,90,91,92,93,94,95,96,97,98,99,100],\"y\":[-100000.0,-100000.0,-100000.0,-100000.0,-100000.0,-100000.0,-100000.0,-100000.0,-100000.0,-100000.0,-100000.0,-100000.0,-100000.0,-100000.0,-100000.0,-100000.0,-100000.0,-100000.0,-100000.0,-100000.0,-100000.0,-100000.0,-100000.0,-100000.0,-100000.0,-100000.0,-100000.0,-100000.0,-100000.0,-100000.0,-100000.0,-100000.0,-100000.0,-100000.0,-100000.0,null,0.0,0.0,0.0,0.0,0.0,0.0,0.0,0.0,0.0,0.0,0.0,0.0,0.0,0.0,0.0,0.0,0.0,0.0,0.0,0.0,0.0,0.0,0.0,0.0,0.0,0.0,0.0,0.0,0.0,0.0,0.0,0.0,0.0,0.0,0.0],\"type\":\"scatter\",\"xaxis\":\"x2\",\"yaxis\":\"y2\"},{\"name\":\"EUA Mar25 70P\",\"x\":[30,31,32,33,34,35,36,37,38,39,40,41,42,43,44,45,46,47,48,49,50,51,52,53,54,55,56,57,58,59,60,61,62,63,64,65,66,67,68,69,70,71,72,73,74,75,76,77,78,79,80,81,82,83,84,85,86,87,88,89,90,91,92,93,94,95,96,97,98,99,100],\"y\":[3262900.9263945506,3179691.4263945506,3096481.9263945506,3013272.4263945506,2930062.9263945506,2846853.4263945506,2763643.9263945506,2680434.4263945506,2597224.9263945506,2514015.4263945506,2430805.9263945506,2347596.4263945506,2264386.9263945506,2181177.4263945506,2097967.9263945506,2014758.4263945504,1931548.9263945504,1848339.4263945504,1765129.9263945504,1681920.4263945506,1598710.9263945506,1515501.4263945506,1432291.9263945506,1349082.4263945506,1265872.9263945506,1182663.4263945506,1099453.9263945506,1016244.4263945505,933034.9263945505,849825.4263945505,766615.9263945505,683406.4263945505,600196.9263945506,516987.4263945506,433777.92639455054,350568.42639455054,267358.92639455054,184149.42639455054,100939.92639455052,17730.426394550523,-65479.073605449485,-65479.073605449485,-65479.073605449485,-65479.073605449485,-65479.073605449485,-65479.073605449485,-65479.073605449485,-65479.073605449485,-65479.073605449485,-65479.073605449485,-65479.073605449485,-65479.073605449485,-65479.073605449485,-65479.073605449485,-65479.073605449485,-65479.073605449485,-65479.073605449485,-65479.073605449485,-65479.073605449485,-65479.073605449485,-65479.073605449485,-65479.073605449485,-65479.073605449485,-65479.073605449485,-65479.073605449485,-65479.073605449485,-65479.073605449485,-65479.073605449485,-65479.073605449485,-65479.073605449485,-65479.073605449485],\"type\":\"scatter\",\"xaxis\":\"x\",\"yaxis\":\"y\"},{\"name\":\"EUA Mar25 70P\",\"x\":[30,31,32,33,34,35,36,37,38,39,40,41,42,43,44,45,46,47,48,49,50,51,52,53,54,55,56,57,58,59,60,61,62,63,64,65,66,67,68,69,70,71,72,73,74,75,76,77,78,79,80,81,82,83,84,85,86,87,88,89,90,91,92,93,94,95,96,97,98,99,100],\"y\":[-50000.0,-50000.0,-50000.0,-50000.0,-50000.0,-50000.0,-50000.0,-50000.0,-50000.0,-50000.0,-50000.0,-50000.0,-50000.0,-50000.0,-50000.0,-50000.0,-50000.0,-50000.0,-50000.0,-50000.0,-50000.0,-50000.0,-50000.0,-50000.0,-50000.0,-50000.0,-50000.0,-50000.0,-50000.0,-50000.0,-50000.0,-50000.0,-50000.0,-50000.0,-50000.0,-50000.0,-50000.0,-50000.0,-50000.0,-50000.0,null,0.0,0.0,0.0,0.0,0.0,0.0,0.0,0.0,0.0,0.0,0.0,0.0,0.0,0.0,0.0,0.0,0.0,0.0,0.0,0.0,0.0,0.0,0.0,0.0,0.0,0.0,0.0,0.0,0.0,0.0],\"type\":\"scatter\",\"xaxis\":\"x2\",\"yaxis\":\"y2\"},{\"mode\":\"lines\",\"name\":\"Total_PnL\",\"x\":[30,31,32,33,34,35,36,37,38,39,40,41,42,43,44,45,46,47,48,49,50,51,52,53,54,55,56,57,58,59,60,61,62,63,64,65,66,67,68,69,70,71,72,73,74,75,76,77,78,79,80,81,82,83,84,85,86,87,88,89,90,91,92,93,94,95,96,97,98,99,100],\"y\":[18953867.660979312,18371401.160979312,17788934.660979312,17206468.160979312,16624001.66097931,16041535.16097931,15459068.66097931,14876602.16097931,14294135.66097931,13711669.16097931,13129202.66097931,12546736.16097931,11964269.66097931,11381803.16097931,10799336.66097931,10216870.16097931,9634403.66097931,9051937.16097931,8469470.66097931,7887004.16097931,7304537.66097931,6722071.16097931,6139604.66097931,5557138.16097931,4974671.66097931,4392205.16097931,3809738.6609793105,3227272.16097931,2644805.6609793105,2062339.1609793105,1479872.6609793105,1230244.1609793105,980615.6609793105,730987.1609793105,481358.66097931046,231730.16097931046,148520.66097931046,65311.16097931046,-17898.339020689556,-101107.83902068956,-184317.33902068957,-184317.33902068957,-184317.33902068957,-184317.33902068957,-184317.33902068957,-184317.33902068957,-184317.33902068957,-184317.33902068957,-184317.33902068957,-184317.33902068957,-184317.33902068957,-184317.33902068957,-184317.33902068957,-184317.33902068957,-184317.33902068957,-184317.33902068957,-184317.33902068957,-184317.33902068957,-184317.33902068957,-184317.33902068957,-184317.33902068957,-184317.33902068957,-184317.33902068957,-184317.33902068957,-184317.33902068957,-184317.33902068957,-184317.33902068957,-184317.33902068957,-184317.33902068957,-184317.33902068957,-184317.33902068957],\"type\":\"scatter\",\"xaxis\":\"x\",\"yaxis\":\"y\"},{\"mode\":\"lines\",\"name\":\"Total_Delta\",\"x\":[30,31,32,33,34,35,36,37,38,39,40,41,42,43,44,45,46,47,48,49,50,51,52,53,54,55,56,57,58,59,60,61,62,63,64,65,66,67,68,69,70,71,72,73,74,75,76,77,78,79,80,81,82,83,84,85,86,87,88,89,90,91,92,93,94,95,96,97,98,99,100],\"y\":[-350000.0,-350000.0,-350000.0,-350000.0,-350000.0,-350000.0,-350000.0,-350000.0,-350000.0,-350000.0,-350000.0,-350000.0,-350000.0,-350000.0,-350000.0,-350000.0,-350000.0,-350000.0,-350000.0,-350000.0,-350000.0,-350000.0,-350000.0,-350000.0,-350000.0,-350000.0,-350000.0,-350000.0,-350000.0,-350000.0,-150000.0,-150000.0,-150000.0,-150000.0,-150000.0,-50000.0,-50000.0,-50000.0,-50000.0,-50000.0,0.0,0.0,0.0,0.0,0.0,0.0,0.0,0.0,0.0,0.0,0.0,0.0,0.0,0.0,0.0,0.0,0.0,0.0,0.0,0.0,0.0,0.0,0.0,0.0,0.0,0.0,0.0,0.0,0.0,0.0,0.0],\"type\":\"scatter\",\"xaxis\":\"x2\",\"yaxis\":\"y2\"}],                        {\"template\":{\"data\":{\"histogram2dcontour\":[{\"type\":\"histogram2dcontour\",\"colorbar\":{\"outlinewidth\":0,\"ticks\":\"\"},\"colorscale\":[[0.0,\"#0d0887\"],[0.1111111111111111,\"#46039f\"],[0.2222222222222222,\"#7201a8\"],[0.3333333333333333,\"#9c179e\"],[0.4444444444444444,\"#bd3786\"],[0.5555555555555556,\"#d8576b\"],[0.6666666666666666,\"#ed7953\"],[0.7777777777777778,\"#fb9f3a\"],[0.8888888888888888,\"#fdca26\"],[1.0,\"#f0f921\"]]}],\"choropleth\":[{\"type\":\"choropleth\",\"colorbar\":{\"outlinewidth\":0,\"ticks\":\"\"}}],\"histogram2d\":[{\"type\":\"histogram2d\",\"colorbar\":{\"outlinewidth\":0,\"ticks\":\"\"},\"colorscale\":[[0.0,\"#0d0887\"],[0.1111111111111111,\"#46039f\"],[0.2222222222222222,\"#7201a8\"],[0.3333333333333333,\"#9c179e\"],[0.4444444444444444,\"#bd3786\"],[0.5555555555555556,\"#d8576b\"],[0.6666666666666666,\"#ed7953\"],[0.7777777777777778,\"#fb9f3a\"],[0.8888888888888888,\"#fdca26\"],[1.0,\"#f0f921\"]]}],\"heatmap\":[{\"type\":\"heatmap\",\"colorbar\":{\"outlinewidth\":0,\"ticks\":\"\"},\"colorscale\":[[0.0,\"#0d0887\"],[0.1111111111111111,\"#46039f\"],[0.2222222222222222,\"#7201a8\"],[0.3333333333333333,\"#9c179e\"],[0.4444444444444444,\"#bd3786\"],[0.5555555555555556,\"#d8576b\"],[0.6666666666666666,\"#ed7953\"],[0.7777777777777778,\"#fb9f3a\"],[0.8888888888888888,\"#fdca26\"],[1.0,\"#f0f921\"]]}],\"heatmapgl\":[{\"type\":\"heatmapgl\",\"colorbar\":{\"outlinewidth\":0,\"ticks\":\"\"},\"colorscale\":[[0.0,\"#0d0887\"],[0.1111111111111111,\"#46039f\"],[0.2222222222222222,\"#7201a8\"],[0.3333333333333333,\"#9c179e\"],[0.4444444444444444,\"#bd3786\"],[0.5555555555555556,\"#d8576b\"],[0.6666666666666666,\"#ed7953\"],[0.7777777777777778,\"#fb9f3a\"],[0.8888888888888888,\"#fdca26\"],[1.0,\"#f0f921\"]]}],\"contourcarpet\":[{\"type\":\"contourcarpet\",\"colorbar\":{\"outlinewidth\":0,\"ticks\":\"\"}}],\"contour\":[{\"type\":\"contour\",\"colorbar\":{\"outlinewidth\":0,\"ticks\":\"\"},\"colorscale\":[[0.0,\"#0d0887\"],[0.1111111111111111,\"#46039f\"],[0.2222222222222222,\"#7201a8\"],[0.3333333333333333,\"#9c179e\"],[0.4444444444444444,\"#bd3786\"],[0.5555555555555556,\"#d8576b\"],[0.6666666666666666,\"#ed7953\"],[0.7777777777777778,\"#fb9f3a\"],[0.8888888888888888,\"#fdca26\"],[1.0,\"#f0f921\"]]}],\"surface\":[{\"type\":\"surface\",\"colorbar\":{\"outlinewidth\":0,\"ticks\":\"\"},\"colorscale\":[[0.0,\"#0d0887\"],[0.1111111111111111,\"#46039f\"],[0.2222222222222222,\"#7201a8\"],[0.3333333333333333,\"#9c179e\"],[0.4444444444444444,\"#bd3786\"],[0.5555555555555556,\"#d8576b\"],[0.6666666666666666,\"#ed7953\"],[0.7777777777777778,\"#fb9f3a\"],[0.8888888888888888,\"#fdca26\"],[1.0,\"#f0f921\"]]}],\"mesh3d\":[{\"type\":\"mesh3d\",\"colorbar\":{\"outlinewidth\":0,\"ticks\":\"\"}}],\"scatter\":[{\"fillpattern\":{\"fillmode\":\"overlay\",\"size\":10,\"solidity\":0.2},\"type\":\"scatter\"}],\"parcoords\":[{\"type\":\"parcoords\",\"line\":{\"colorbar\":{\"outlinewidth\":0,\"ticks\":\"\"}}}],\"scatterpolargl\":[{\"type\":\"scatterpolargl\",\"marker\":{\"colorbar\":{\"outlinewidth\":0,\"ticks\":\"\"}}}],\"bar\":[{\"error_x\":{\"color\":\"#2a3f5f\"},\"error_y\":{\"color\":\"#2a3f5f\"},\"marker\":{\"line\":{\"color\":\"#E5ECF6\",\"width\":0.5},\"pattern\":{\"fillmode\":\"overlay\",\"size\":10,\"solidity\":0.2}},\"type\":\"bar\"}],\"scattergeo\":[{\"type\":\"scattergeo\",\"marker\":{\"colorbar\":{\"outlinewidth\":0,\"ticks\":\"\"}}}],\"scatterpolar\":[{\"type\":\"scatterpolar\",\"marker\":{\"colorbar\":{\"outlinewidth\":0,\"ticks\":\"\"}}}],\"histogram\":[{\"marker\":{\"pattern\":{\"fillmode\":\"overlay\",\"size\":10,\"solidity\":0.2}},\"type\":\"histogram\"}],\"scattergl\":[{\"type\":\"scattergl\",\"marker\":{\"colorbar\":{\"outlinewidth\":0,\"ticks\":\"\"}}}],\"scatter3d\":[{\"type\":\"scatter3d\",\"line\":{\"colorbar\":{\"outlinewidth\":0,\"ticks\":\"\"}},\"marker\":{\"colorbar\":{\"outlinewidth\":0,\"ticks\":\"\"}}}],\"scattermapbox\":[{\"type\":\"scattermapbox\",\"marker\":{\"colorbar\":{\"outlinewidth\":0,\"ticks\":\"\"}}}],\"scatterternary\":[{\"type\":\"scatterternary\",\"marker\":{\"colorbar\":{\"outlinewidth\":0,\"ticks\":\"\"}}}],\"scattercarpet\":[{\"type\":\"scattercarpet\",\"marker\":{\"colorbar\":{\"outlinewidth\":0,\"ticks\":\"\"}}}],\"carpet\":[{\"aaxis\":{\"endlinecolor\":\"#2a3f5f\",\"gridcolor\":\"white\",\"linecolor\":\"white\",\"minorgridcolor\":\"white\",\"startlinecolor\":\"#2a3f5f\"},\"baxis\":{\"endlinecolor\":\"#2a3f5f\",\"gridcolor\":\"white\",\"linecolor\":\"white\",\"minorgridcolor\":\"white\",\"startlinecolor\":\"#2a3f5f\"},\"type\":\"carpet\"}],\"table\":[{\"cells\":{\"fill\":{\"color\":\"#EBF0F8\"},\"line\":{\"color\":\"white\"}},\"header\":{\"fill\":{\"color\":\"#C8D4E3\"},\"line\":{\"color\":\"white\"}},\"type\":\"table\"}],\"barpolar\":[{\"marker\":{\"line\":{\"color\":\"#E5ECF6\",\"width\":0.5},\"pattern\":{\"fillmode\":\"overlay\",\"size\":10,\"solidity\":0.2}},\"type\":\"barpolar\"}],\"pie\":[{\"automargin\":true,\"type\":\"pie\"}]},\"layout\":{\"autotypenumbers\":\"strict\",\"colorway\":[\"#636efa\",\"#EF553B\",\"#00cc96\",\"#ab63fa\",\"#FFA15A\",\"#19d3f3\",\"#FF6692\",\"#B6E880\",\"#FF97FF\",\"#FECB52\"],\"font\":{\"color\":\"#2a3f5f\"},\"hovermode\":\"closest\",\"hoverlabel\":{\"align\":\"left\"},\"paper_bgcolor\":\"white\",\"plot_bgcolor\":\"#E5ECF6\",\"polar\":{\"bgcolor\":\"#E5ECF6\",\"angularaxis\":{\"gridcolor\":\"white\",\"linecolor\":\"white\",\"ticks\":\"\"},\"radialaxis\":{\"gridcolor\":\"white\",\"linecolor\":\"white\",\"ticks\":\"\"}},\"ternary\":{\"bgcolor\":\"#E5ECF6\",\"aaxis\":{\"gridcolor\":\"white\",\"linecolor\":\"white\",\"ticks\":\"\"},\"baxis\":{\"gridcolor\":\"white\",\"linecolor\":\"white\",\"ticks\":\"\"},\"caxis\":{\"gridcolor\":\"white\",\"linecolor\":\"white\",\"ticks\":\"\"}},\"coloraxis\":{\"colorbar\":{\"outlinewidth\":0,\"ticks\":\"\"}},\"colorscale\":{\"sequential\":[[0.0,\"#0d0887\"],[0.1111111111111111,\"#46039f\"],[0.2222222222222222,\"#7201a8\"],[0.3333333333333333,\"#9c179e\"],[0.4444444444444444,\"#bd3786\"],[0.5555555555555556,\"#d8576b\"],[0.6666666666666666,\"#ed7953\"],[0.7777777777777778,\"#fb9f3a\"],[0.8888888888888888,\"#fdca26\"],[1.0,\"#f0f921\"]],\"sequentialminus\":[[0.0,\"#0d0887\"],[0.1111111111111111,\"#46039f\"],[0.2222222222222222,\"#7201a8\"],[0.3333333333333333,\"#9c179e\"],[0.4444444444444444,\"#bd3786\"],[0.5555555555555556,\"#d8576b\"],[0.6666666666666666,\"#ed7953\"],[0.7777777777777778,\"#fb9f3a\"],[0.8888888888888888,\"#fdca26\"],[1.0,\"#f0f921\"]],\"diverging\":[[0,\"#8e0152\"],[0.1,\"#c51b7d\"],[0.2,\"#de77ae\"],[0.3,\"#f1b6da\"],[0.4,\"#fde0ef\"],[0.5,\"#f7f7f7\"],[0.6,\"#e6f5d0\"],[0.7,\"#b8e186\"],[0.8,\"#7fbc41\"],[0.9,\"#4d9221\"],[1,\"#276419\"]]},\"xaxis\":{\"gridcolor\":\"white\",\"linecolor\":\"white\",\"ticks\":\"\",\"title\":{\"standoff\":15},\"zerolinecolor\":\"white\",\"automargin\":true,\"zerolinewidth\":2},\"yaxis\":{\"gridcolor\":\"white\",\"linecolor\":\"white\",\"ticks\":\"\",\"title\":{\"standoff\":15},\"zerolinecolor\":\"white\",\"automargin\":true,\"zerolinewidth\":2},\"scene\":{\"xaxis\":{\"backgroundcolor\":\"#E5ECF6\",\"gridcolor\":\"white\",\"linecolor\":\"white\",\"showbackground\":true,\"ticks\":\"\",\"zerolinecolor\":\"white\",\"gridwidth\":2},\"yaxis\":{\"backgroundcolor\":\"#E5ECF6\",\"gridcolor\":\"white\",\"linecolor\":\"white\",\"showbackground\":true,\"ticks\":\"\",\"zerolinecolor\":\"white\",\"gridwidth\":2},\"zaxis\":{\"backgroundcolor\":\"#E5ECF6\",\"gridcolor\":\"white\",\"linecolor\":\"white\",\"showbackground\":true,\"ticks\":\"\",\"zerolinecolor\":\"white\",\"gridwidth\":2}},\"shapedefaults\":{\"line\":{\"color\":\"#2a3f5f\"}},\"annotationdefaults\":{\"arrowcolor\":\"#2a3f5f\",\"arrowhead\":0,\"arrowwidth\":1},\"geo\":{\"bgcolor\":\"white\",\"landcolor\":\"#E5ECF6\",\"subunitcolor\":\"white\",\"showland\":true,\"showlakes\":true,\"lakecolor\":\"white\"},\"title\":{\"x\":0.05},\"mapbox\":{\"style\":\"light\"}}},\"xaxis\":{\"anchor\":\"y\",\"domain\":[0.0,0.45],\"title\":{\"text\":\"Price\"}},\"yaxis\":{\"anchor\":\"x\",\"domain\":[0.0,1.0],\"title\":{\"text\":\"Pnl\"}},\"xaxis2\":{\"anchor\":\"y2\",\"domain\":[0.55,1.0],\"title\":{\"text\":\"Price\"}},\"yaxis2\":{\"anchor\":\"x2\",\"domain\":[0.0,1.0],\"title\":{\"text\":\"Delta\"}},\"title\":{\"text\":\"Todays Option Pos (PnL and Delta)\",\"x\":0.5,\"xanchor\":\"center\"},\"barmode\":\"stack\"},                        {\"responsive\": true}                    ).then(function(){\n",
       "                            \n",
       "var gd = document.getElementById('ec719323-4159-49bf-8ce7-a570bfa55e10');\n",
       "var x = new MutationObserver(function (mutations, observer) {{\n",
       "        var display = window.getComputedStyle(gd).display;\n",
       "        if (!display || display === 'none') {{\n",
       "            console.log([gd, 'removed!']);\n",
       "            Plotly.purge(gd);\n",
       "            observer.disconnect();\n",
       "        }}\n",
       "}});\n",
       "\n",
       "// Listen for the removal of the full notebook cells\n",
       "var notebookContainer = gd.closest('#notebook-container');\n",
       "if (notebookContainer) {{\n",
       "    x.observe(notebookContainer, {childList: true});\n",
       "}}\n",
       "\n",
       "// Listen for the clearing of the current output cell\n",
       "var outputEl = gd.closest('.output');\n",
       "if (outputEl) {{\n",
       "    x.observe(outputEl, {childList: true});\n",
       "}}\n",
       "\n",
       "                        })                };                });            </script>        </div>"
      ]
     },
     "metadata": {},
     "output_type": "display_data"
    }
   ],
   "source": [
    "pnl_delta_plot(two_months)"
   ]
  },
  {
   "cell_type": "markdown",
   "id": "8cc6406d",
   "metadata": {},
   "source": [
    "## End of Year"
   ]
  },
  {
   "cell_type": "code",
   "execution_count": 47,
   "id": "76f3a582",
   "metadata": {},
   "outputs": [
    {
     "data": {
      "application/vnd.plotly.v1+json": {
       "config": {
        "plotlyServerURL": "https://plot.ly"
       },
       "data": [
        {
         "name": "EUA Mar25 60P",
         "type": "scatter",
         "x": [
          30,
          31,
          32,
          33,
          34,
          35,
          36,
          37,
          38,
          39,
          40,
          41,
          42,
          43,
          44,
          45,
          46,
          47,
          48,
          49,
          50,
          51,
          52,
          53,
          54,
          55,
          56,
          57,
          58,
          59,
          60,
          61,
          62,
          63,
          64,
          65,
          66,
          67,
          68,
          69,
          70,
          71,
          72,
          73,
          74,
          75,
          76,
          77,
          78,
          79,
          80,
          81,
          82,
          83,
          84,
          85,
          86,
          87,
          88,
          89,
          90,
          91,
          92,
          93,
          94,
          95,
          96,
          97,
          98,
          99,
          100
         ],
         "xaxis": "x",
         "y": [
          9927059.605857188,
          9594221.605857188,
          9261383.605857188,
          8928545.605857188,
          8595707.605857188,
          8262869.605857189,
          7930031.605857189,
          7597193.605857189,
          7264355.605857189,
          6931517.605857188,
          6598679.605857188,
          6265841.605857188,
          5933003.605857188,
          5600165.605857188,
          5267327.605857188,
          4934489.605857188,
          4601651.605857188,
          4268813.605857188,
          3935975.605857188,
          3603137.605857188,
          3270299.605857188,
          2937461.605857188,
          2604623.605857188,
          2271785.605857188,
          1938947.605857188,
          1606109.6058571879,
          1273271.6058571879,
          940433.6058571878,
          607595.605857188,
          274757.6058571879,
          -58080.3941428121,
          -58080.3941428121,
          -58080.3941428121,
          -58080.3941428121,
          -58080.3941428121,
          -58080.3941428121,
          -58080.3941428121,
          -58080.3941428121,
          -58080.3941428121,
          -58080.3941428121,
          -58080.3941428121,
          -58080.3941428121,
          -58080.3941428121,
          -58080.3941428121,
          -58080.3941428121,
          -58080.3941428121,
          -58080.3941428121,
          -58080.3941428121,
          -58080.3941428121,
          -58080.3941428121,
          -58080.3941428121,
          -58080.3941428121,
          -58080.3941428121,
          -58080.3941428121,
          -58080.3941428121,
          -58080.3941428121,
          -58080.3941428121,
          -58080.3941428121,
          -58080.3941428121,
          -58080.3941428121,
          -58080.3941428121,
          -58080.3941428121,
          -58080.3941428121,
          -58080.3941428121,
          -58080.3941428121,
          -58080.3941428121,
          -58080.3941428121,
          -58080.3941428121,
          -58080.3941428121,
          -58080.3941428121,
          -58080.3941428121
         ],
         "yaxis": "y"
        },
        {
         "name": "EUA Mar25 60P",
         "type": "scatter",
         "x": [
          30,
          31,
          32,
          33,
          34,
          35,
          36,
          37,
          38,
          39,
          40,
          41,
          42,
          43,
          44,
          45,
          46,
          47,
          48,
          49,
          50,
          51,
          52,
          53,
          54,
          55,
          56,
          57,
          58,
          59,
          60,
          61,
          62,
          63,
          64,
          65,
          66,
          67,
          68,
          69,
          70,
          71,
          72,
          73,
          74,
          75,
          76,
          77,
          78,
          79,
          80,
          81,
          82,
          83,
          84,
          85,
          86,
          87,
          88,
          89,
          90,
          91,
          92,
          93,
          94,
          95,
          96,
          97,
          98,
          99,
          100
         ],
         "xaxis": "x2",
         "y": [
          -200000,
          -200000,
          -200000,
          -200000,
          -200000,
          -200000,
          -200000,
          -200000,
          -200000,
          -200000,
          -200000,
          -200000,
          -200000,
          -200000,
          -200000,
          -200000,
          -200000,
          -200000,
          -200000,
          -200000,
          -200000,
          -200000,
          -200000,
          -200000,
          -200000,
          -200000,
          -200000,
          -200000,
          -200000,
          -200000,
          null,
          0,
          0,
          0,
          0,
          0,
          0,
          0,
          0,
          0,
          0,
          0,
          0,
          0,
          0,
          0,
          0,
          0,
          0,
          0,
          0,
          0,
          0,
          0,
          0,
          0,
          0,
          0,
          0,
          0,
          0,
          0,
          0,
          0,
          0,
          0,
          0,
          0,
          0,
          0,
          0
         ],
         "yaxis": "y2"
        },
        {
         "name": "EUA Mar25 65P",
         "type": "scatter",
         "x": [
          30,
          31,
          32,
          33,
          34,
          35,
          36,
          37,
          38,
          39,
          40,
          41,
          42,
          43,
          44,
          45,
          46,
          47,
          48,
          49,
          50,
          51,
          52,
          53,
          54,
          55,
          56,
          57,
          58,
          59,
          60,
          61,
          62,
          63,
          64,
          65,
          66,
          67,
          68,
          69,
          70,
          71,
          72,
          73,
          74,
          75,
          76,
          77,
          78,
          79,
          80,
          81,
          82,
          83,
          84,
          85,
          86,
          87,
          88,
          89,
          90,
          91,
          92,
          93,
          94,
          95,
          96,
          97,
          98,
          99,
          100
         ],
         "xaxis": "x",
         "y": [
          5763907.128727572,
          5597488.128727572,
          5431069.128727572,
          5264650.128727572,
          5098231.128727572,
          4931812.128727572,
          4765393.128727572,
          4598974.128727572,
          4432555.128727572,
          4266136.128727572,
          4099717.128727572,
          3933298.128727572,
          3766879.128727572,
          3600460.1287275716,
          3434041.128727572,
          3267622.128727572,
          3101203.128727572,
          2934784.128727572,
          2768365.128727572,
          2601946.128727572,
          2435527.128727572,
          2269108.128727572,
          2102689.128727572,
          1936270.128727572,
          1769851.128727572,
          1603432.128727572,
          1437013.1287275718,
          1270594.1287275718,
          1104175.1287275718,
          937756.1287275719,
          771337.128727572,
          604918.128727572,
          438499.1287275721,
          272080.12872757204,
          105661.12872757204,
          -60757.871272427976,
          -60757.871272427976,
          -60757.871272427976,
          -60757.871272427976,
          -60757.871272427976,
          -60757.871272427976,
          -60757.871272427976,
          -60757.871272427976,
          -60757.871272427976,
          -60757.871272427976,
          -60757.871272427976,
          -60757.871272427976,
          -60757.871272427976,
          -60757.871272427976,
          -60757.871272427976,
          -60757.871272427976,
          -60757.871272427976,
          -60757.871272427976,
          -60757.871272427976,
          -60757.871272427976,
          -60757.871272427976,
          -60757.871272427976,
          -60757.871272427976,
          -60757.871272427976,
          -60757.871272427976,
          -60757.871272427976,
          -60757.871272427976,
          -60757.871272427976,
          -60757.871272427976,
          -60757.871272427976,
          -60757.871272427976,
          -60757.871272427976,
          -60757.871272427976,
          -60757.871272427976,
          -60757.871272427976,
          -60757.871272427976
         ],
         "yaxis": "y"
        },
        {
         "name": "EUA Mar25 65P",
         "type": "scatter",
         "x": [
          30,
          31,
          32,
          33,
          34,
          35,
          36,
          37,
          38,
          39,
          40,
          41,
          42,
          43,
          44,
          45,
          46,
          47,
          48,
          49,
          50,
          51,
          52,
          53,
          54,
          55,
          56,
          57,
          58,
          59,
          60,
          61,
          62,
          63,
          64,
          65,
          66,
          67,
          68,
          69,
          70,
          71,
          72,
          73,
          74,
          75,
          76,
          77,
          78,
          79,
          80,
          81,
          82,
          83,
          84,
          85,
          86,
          87,
          88,
          89,
          90,
          91,
          92,
          93,
          94,
          95,
          96,
          97,
          98,
          99,
          100
         ],
         "xaxis": "x2",
         "y": [
          -100000,
          -100000,
          -100000,
          -100000,
          -100000,
          -100000,
          -100000,
          -100000,
          -100000,
          -100000,
          -100000,
          -100000,
          -100000,
          -100000,
          -100000,
          -100000,
          -100000,
          -100000,
          -100000,
          -100000,
          -100000,
          -100000,
          -100000,
          -100000,
          -100000,
          -100000,
          -100000,
          -100000,
          -100000,
          -100000,
          -100000,
          -100000,
          -100000,
          -100000,
          -100000,
          null,
          0,
          0,
          0,
          0,
          0,
          0,
          0,
          0,
          0,
          0,
          0,
          0,
          0,
          0,
          0,
          0,
          0,
          0,
          0,
          0,
          0,
          0,
          0,
          0,
          0,
          0,
          0,
          0,
          0,
          0,
          0,
          0,
          0,
          0,
          0
         ],
         "yaxis": "y2"
        },
        {
         "name": "EUA Mar25 70P",
         "type": "scatter",
         "x": [
          30,
          31,
          32,
          33,
          34,
          35,
          36,
          37,
          38,
          39,
          40,
          41,
          42,
          43,
          44,
          45,
          46,
          47,
          48,
          49,
          50,
          51,
          52,
          53,
          54,
          55,
          56,
          57,
          58,
          59,
          60,
          61,
          62,
          63,
          64,
          65,
          66,
          67,
          68,
          69,
          70,
          71,
          72,
          73,
          74,
          75,
          76,
          77,
          78,
          79,
          80,
          81,
          82,
          83,
          84,
          85,
          86,
          87,
          88,
          89,
          90,
          91,
          92,
          93,
          94,
          95,
          96,
          97,
          98,
          99,
          100
         ],
         "xaxis": "x",
         "y": [
          3262900.9263945506,
          3179691.4263945506,
          3096481.9263945506,
          3013272.4263945506,
          2930062.9263945506,
          2846853.4263945506,
          2763643.9263945506,
          2680434.4263945506,
          2597224.9263945506,
          2514015.4263945506,
          2430805.9263945506,
          2347596.4263945506,
          2264386.9263945506,
          2181177.4263945506,
          2097967.9263945506,
          2014758.4263945504,
          1931548.9263945504,
          1848339.4263945504,
          1765129.9263945504,
          1681920.4263945506,
          1598710.9263945506,
          1515501.4263945506,
          1432291.9263945506,
          1349082.4263945506,
          1265872.9263945506,
          1182663.4263945506,
          1099453.9263945506,
          1016244.4263945505,
          933034.9263945505,
          849825.4263945505,
          766615.9263945505,
          683406.4263945505,
          600196.9263945506,
          516987.4263945506,
          433777.92639455054,
          350568.42639455054,
          267358.92639455054,
          184149.42639455054,
          100939.92639455052,
          17730.426394550523,
          -65479.073605449485,
          -65479.073605449485,
          -65479.073605449485,
          -65479.073605449485,
          -65479.073605449485,
          -65479.073605449485,
          -65479.073605449485,
          -65479.073605449485,
          -65479.073605449485,
          -65479.073605449485,
          -65479.073605449485,
          -65479.073605449485,
          -65479.073605449485,
          -65479.073605449485,
          -65479.073605449485,
          -65479.073605449485,
          -65479.073605449485,
          -65479.073605449485,
          -65479.073605449485,
          -65479.073605449485,
          -65479.073605449485,
          -65479.073605449485,
          -65479.073605449485,
          -65479.073605449485,
          -65479.073605449485,
          -65479.073605449485,
          -65479.073605449485,
          -65479.073605449485,
          -65479.073605449485,
          -65479.073605449485,
          -65479.073605449485
         ],
         "yaxis": "y"
        },
        {
         "name": "EUA Mar25 70P",
         "type": "scatter",
         "x": [
          30,
          31,
          32,
          33,
          34,
          35,
          36,
          37,
          38,
          39,
          40,
          41,
          42,
          43,
          44,
          45,
          46,
          47,
          48,
          49,
          50,
          51,
          52,
          53,
          54,
          55,
          56,
          57,
          58,
          59,
          60,
          61,
          62,
          63,
          64,
          65,
          66,
          67,
          68,
          69,
          70,
          71,
          72,
          73,
          74,
          75,
          76,
          77,
          78,
          79,
          80,
          81,
          82,
          83,
          84,
          85,
          86,
          87,
          88,
          89,
          90,
          91,
          92,
          93,
          94,
          95,
          96,
          97,
          98,
          99,
          100
         ],
         "xaxis": "x2",
         "y": [
          -50000,
          -50000,
          -50000,
          -50000,
          -50000,
          -50000,
          -50000,
          -50000,
          -50000,
          -50000,
          -50000,
          -50000,
          -50000,
          -50000,
          -50000,
          -50000,
          -50000,
          -50000,
          -50000,
          -50000,
          -50000,
          -50000,
          -50000,
          -50000,
          -50000,
          -50000,
          -50000,
          -50000,
          -50000,
          -50000,
          -50000,
          -50000,
          -50000,
          -50000,
          -50000,
          -50000,
          -50000,
          -50000,
          -50000,
          -50000,
          null,
          0,
          0,
          0,
          0,
          0,
          0,
          0,
          0,
          0,
          0,
          0,
          0,
          0,
          0,
          0,
          0,
          0,
          0,
          0,
          0,
          0,
          0,
          0,
          0,
          0,
          0,
          0,
          0,
          0,
          0
         ],
         "yaxis": "y2"
        },
        {
         "mode": "lines",
         "name": "Total_PnL",
         "type": "scatter",
         "x": [
          30,
          31,
          32,
          33,
          34,
          35,
          36,
          37,
          38,
          39,
          40,
          41,
          42,
          43,
          44,
          45,
          46,
          47,
          48,
          49,
          50,
          51,
          52,
          53,
          54,
          55,
          56,
          57,
          58,
          59,
          60,
          61,
          62,
          63,
          64,
          65,
          66,
          67,
          68,
          69,
          70,
          71,
          72,
          73,
          74,
          75,
          76,
          77,
          78,
          79,
          80,
          81,
          82,
          83,
          84,
          85,
          86,
          87,
          88,
          89,
          90,
          91,
          92,
          93,
          94,
          95,
          96,
          97,
          98,
          99,
          100
         ],
         "xaxis": "x",
         "y": [
          18953867.660979312,
          18371401.160979312,
          17788934.660979312,
          17206468.160979312,
          16624001.66097931,
          16041535.16097931,
          15459068.66097931,
          14876602.16097931,
          14294135.66097931,
          13711669.16097931,
          13129202.66097931,
          12546736.16097931,
          11964269.66097931,
          11381803.16097931,
          10799336.66097931,
          10216870.16097931,
          9634403.66097931,
          9051937.16097931,
          8469470.66097931,
          7887004.16097931,
          7304537.66097931,
          6722071.16097931,
          6139604.66097931,
          5557138.16097931,
          4974671.66097931,
          4392205.16097931,
          3809738.6609793105,
          3227272.16097931,
          2644805.6609793105,
          2062339.1609793105,
          1479872.6609793105,
          1230244.1609793105,
          980615.6609793105,
          730987.1609793105,
          481358.66097931046,
          231730.16097931046,
          148520.66097931046,
          65311.16097931046,
          -17898.339020689556,
          -101107.83902068956,
          -184317.33902068957,
          -184317.33902068957,
          -184317.33902068957,
          -184317.33902068957,
          -184317.33902068957,
          -184317.33902068957,
          -184317.33902068957,
          -184317.33902068957,
          -184317.33902068957,
          -184317.33902068957,
          -184317.33902068957,
          -184317.33902068957,
          -184317.33902068957,
          -184317.33902068957,
          -184317.33902068957,
          -184317.33902068957,
          -184317.33902068957,
          -184317.33902068957,
          -184317.33902068957,
          -184317.33902068957,
          -184317.33902068957,
          -184317.33902068957,
          -184317.33902068957,
          -184317.33902068957,
          -184317.33902068957,
          -184317.33902068957,
          -184317.33902068957,
          -184317.33902068957,
          -184317.33902068957,
          -184317.33902068957,
          -184317.33902068957
         ],
         "yaxis": "y"
        },
        {
         "mode": "lines",
         "name": "Total_Delta",
         "type": "scatter",
         "x": [
          30,
          31,
          32,
          33,
          34,
          35,
          36,
          37,
          38,
          39,
          40,
          41,
          42,
          43,
          44,
          45,
          46,
          47,
          48,
          49,
          50,
          51,
          52,
          53,
          54,
          55,
          56,
          57,
          58,
          59,
          60,
          61,
          62,
          63,
          64,
          65,
          66,
          67,
          68,
          69,
          70,
          71,
          72,
          73,
          74,
          75,
          76,
          77,
          78,
          79,
          80,
          81,
          82,
          83,
          84,
          85,
          86,
          87,
          88,
          89,
          90,
          91,
          92,
          93,
          94,
          95,
          96,
          97,
          98,
          99,
          100
         ],
         "xaxis": "x2",
         "y": [
          -350000,
          -350000,
          -350000,
          -350000,
          -350000,
          -350000,
          -350000,
          -350000,
          -350000,
          -350000,
          -350000,
          -350000,
          -350000,
          -350000,
          -350000,
          -350000,
          -350000,
          -350000,
          -350000,
          -350000,
          -350000,
          -350000,
          -350000,
          -350000,
          -350000,
          -350000,
          -350000,
          -350000,
          -350000,
          -350000,
          -150000,
          -150000,
          -150000,
          -150000,
          -150000,
          -50000,
          -50000,
          -50000,
          -50000,
          -50000,
          0,
          0,
          0,
          0,
          0,
          0,
          0,
          0,
          0,
          0,
          0,
          0,
          0,
          0,
          0,
          0,
          0,
          0,
          0,
          0,
          0,
          0,
          0,
          0,
          0,
          0,
          0,
          0,
          0,
          0,
          0
         ],
         "yaxis": "y2"
        }
       ],
       "layout": {
        "autosize": true,
        "barmode": "stack",
        "template": {
         "data": {
          "bar": [
           {
            "error_x": {
             "color": "#2a3f5f"
            },
            "error_y": {
             "color": "#2a3f5f"
            },
            "marker": {
             "line": {
              "color": "#E5ECF6",
              "width": 0.5
             },
             "pattern": {
              "fillmode": "overlay",
              "size": 10,
              "solidity": 0.2
             }
            },
            "type": "bar"
           }
          ],
          "barpolar": [
           {
            "marker": {
             "line": {
              "color": "#E5ECF6",
              "width": 0.5
             },
             "pattern": {
              "fillmode": "overlay",
              "size": 10,
              "solidity": 0.2
             }
            },
            "type": "barpolar"
           }
          ],
          "carpet": [
           {
            "aaxis": {
             "endlinecolor": "#2a3f5f",
             "gridcolor": "white",
             "linecolor": "white",
             "minorgridcolor": "white",
             "startlinecolor": "#2a3f5f"
            },
            "baxis": {
             "endlinecolor": "#2a3f5f",
             "gridcolor": "white",
             "linecolor": "white",
             "minorgridcolor": "white",
             "startlinecolor": "#2a3f5f"
            },
            "type": "carpet"
           }
          ],
          "choropleth": [
           {
            "colorbar": {
             "outlinewidth": 0,
             "ticks": ""
            },
            "type": "choropleth"
           }
          ],
          "contour": [
           {
            "colorbar": {
             "outlinewidth": 0,
             "ticks": ""
            },
            "colorscale": [
             [
              0,
              "#0d0887"
             ],
             [
              0.1111111111111111,
              "#46039f"
             ],
             [
              0.2222222222222222,
              "#7201a8"
             ],
             [
              0.3333333333333333,
              "#9c179e"
             ],
             [
              0.4444444444444444,
              "#bd3786"
             ],
             [
              0.5555555555555556,
              "#d8576b"
             ],
             [
              0.6666666666666666,
              "#ed7953"
             ],
             [
              0.7777777777777778,
              "#fb9f3a"
             ],
             [
              0.8888888888888888,
              "#fdca26"
             ],
             [
              1,
              "#f0f921"
             ]
            ],
            "type": "contour"
           }
          ],
          "contourcarpet": [
           {
            "colorbar": {
             "outlinewidth": 0,
             "ticks": ""
            },
            "type": "contourcarpet"
           }
          ],
          "heatmap": [
           {
            "colorbar": {
             "outlinewidth": 0,
             "ticks": ""
            },
            "colorscale": [
             [
              0,
              "#0d0887"
             ],
             [
              0.1111111111111111,
              "#46039f"
             ],
             [
              0.2222222222222222,
              "#7201a8"
             ],
             [
              0.3333333333333333,
              "#9c179e"
             ],
             [
              0.4444444444444444,
              "#bd3786"
             ],
             [
              0.5555555555555556,
              "#d8576b"
             ],
             [
              0.6666666666666666,
              "#ed7953"
             ],
             [
              0.7777777777777778,
              "#fb9f3a"
             ],
             [
              0.8888888888888888,
              "#fdca26"
             ],
             [
              1,
              "#f0f921"
             ]
            ],
            "type": "heatmap"
           }
          ],
          "heatmapgl": [
           {
            "colorbar": {
             "outlinewidth": 0,
             "ticks": ""
            },
            "colorscale": [
             [
              0,
              "#0d0887"
             ],
             [
              0.1111111111111111,
              "#46039f"
             ],
             [
              0.2222222222222222,
              "#7201a8"
             ],
             [
              0.3333333333333333,
              "#9c179e"
             ],
             [
              0.4444444444444444,
              "#bd3786"
             ],
             [
              0.5555555555555556,
              "#d8576b"
             ],
             [
              0.6666666666666666,
              "#ed7953"
             ],
             [
              0.7777777777777778,
              "#fb9f3a"
             ],
             [
              0.8888888888888888,
              "#fdca26"
             ],
             [
              1,
              "#f0f921"
             ]
            ],
            "type": "heatmapgl"
           }
          ],
          "histogram": [
           {
            "marker": {
             "pattern": {
              "fillmode": "overlay",
              "size": 10,
              "solidity": 0.2
             }
            },
            "type": "histogram"
           }
          ],
          "histogram2d": [
           {
            "colorbar": {
             "outlinewidth": 0,
             "ticks": ""
            },
            "colorscale": [
             [
              0,
              "#0d0887"
             ],
             [
              0.1111111111111111,
              "#46039f"
             ],
             [
              0.2222222222222222,
              "#7201a8"
             ],
             [
              0.3333333333333333,
              "#9c179e"
             ],
             [
              0.4444444444444444,
              "#bd3786"
             ],
             [
              0.5555555555555556,
              "#d8576b"
             ],
             [
              0.6666666666666666,
              "#ed7953"
             ],
             [
              0.7777777777777778,
              "#fb9f3a"
             ],
             [
              0.8888888888888888,
              "#fdca26"
             ],
             [
              1,
              "#f0f921"
             ]
            ],
            "type": "histogram2d"
           }
          ],
          "histogram2dcontour": [
           {
            "colorbar": {
             "outlinewidth": 0,
             "ticks": ""
            },
            "colorscale": [
             [
              0,
              "#0d0887"
             ],
             [
              0.1111111111111111,
              "#46039f"
             ],
             [
              0.2222222222222222,
              "#7201a8"
             ],
             [
              0.3333333333333333,
              "#9c179e"
             ],
             [
              0.4444444444444444,
              "#bd3786"
             ],
             [
              0.5555555555555556,
              "#d8576b"
             ],
             [
              0.6666666666666666,
              "#ed7953"
             ],
             [
              0.7777777777777778,
              "#fb9f3a"
             ],
             [
              0.8888888888888888,
              "#fdca26"
             ],
             [
              1,
              "#f0f921"
             ]
            ],
            "type": "histogram2dcontour"
           }
          ],
          "mesh3d": [
           {
            "colorbar": {
             "outlinewidth": 0,
             "ticks": ""
            },
            "type": "mesh3d"
           }
          ],
          "parcoords": [
           {
            "line": {
             "colorbar": {
              "outlinewidth": 0,
              "ticks": ""
             }
            },
            "type": "parcoords"
           }
          ],
          "pie": [
           {
            "automargin": true,
            "type": "pie"
           }
          ],
          "scatter": [
           {
            "fillpattern": {
             "fillmode": "overlay",
             "size": 10,
             "solidity": 0.2
            },
            "type": "scatter"
           }
          ],
          "scatter3d": [
           {
            "line": {
             "colorbar": {
              "outlinewidth": 0,
              "ticks": ""
             }
            },
            "marker": {
             "colorbar": {
              "outlinewidth": 0,
              "ticks": ""
             }
            },
            "type": "scatter3d"
           }
          ],
          "scattercarpet": [
           {
            "marker": {
             "colorbar": {
              "outlinewidth": 0,
              "ticks": ""
             }
            },
            "type": "scattercarpet"
           }
          ],
          "scattergeo": [
           {
            "marker": {
             "colorbar": {
              "outlinewidth": 0,
              "ticks": ""
             }
            },
            "type": "scattergeo"
           }
          ],
          "scattergl": [
           {
            "marker": {
             "colorbar": {
              "outlinewidth": 0,
              "ticks": ""
             }
            },
            "type": "scattergl"
           }
          ],
          "scattermapbox": [
           {
            "marker": {
             "colorbar": {
              "outlinewidth": 0,
              "ticks": ""
             }
            },
            "type": "scattermapbox"
           }
          ],
          "scatterpolar": [
           {
            "marker": {
             "colorbar": {
              "outlinewidth": 0,
              "ticks": ""
             }
            },
            "type": "scatterpolar"
           }
          ],
          "scatterpolargl": [
           {
            "marker": {
             "colorbar": {
              "outlinewidth": 0,
              "ticks": ""
             }
            },
            "type": "scatterpolargl"
           }
          ],
          "scatterternary": [
           {
            "marker": {
             "colorbar": {
              "outlinewidth": 0,
              "ticks": ""
             }
            },
            "type": "scatterternary"
           }
          ],
          "surface": [
           {
            "colorbar": {
             "outlinewidth": 0,
             "ticks": ""
            },
            "colorscale": [
             [
              0,
              "#0d0887"
             ],
             [
              0.1111111111111111,
              "#46039f"
             ],
             [
              0.2222222222222222,
              "#7201a8"
             ],
             [
              0.3333333333333333,
              "#9c179e"
             ],
             [
              0.4444444444444444,
              "#bd3786"
             ],
             [
              0.5555555555555556,
              "#d8576b"
             ],
             [
              0.6666666666666666,
              "#ed7953"
             ],
             [
              0.7777777777777778,
              "#fb9f3a"
             ],
             [
              0.8888888888888888,
              "#fdca26"
             ],
             [
              1,
              "#f0f921"
             ]
            ],
            "type": "surface"
           }
          ],
          "table": [
           {
            "cells": {
             "fill": {
              "color": "#EBF0F8"
             },
             "line": {
              "color": "white"
             }
            },
            "header": {
             "fill": {
              "color": "#C8D4E3"
             },
             "line": {
              "color": "white"
             }
            },
            "type": "table"
           }
          ]
         },
         "layout": {
          "annotationdefaults": {
           "arrowcolor": "#2a3f5f",
           "arrowhead": 0,
           "arrowwidth": 1
          },
          "autotypenumbers": "strict",
          "coloraxis": {
           "colorbar": {
            "outlinewidth": 0,
            "ticks": ""
           }
          },
          "colorscale": {
           "diverging": [
            [
             0,
             "#8e0152"
            ],
            [
             0.1,
             "#c51b7d"
            ],
            [
             0.2,
             "#de77ae"
            ],
            [
             0.3,
             "#f1b6da"
            ],
            [
             0.4,
             "#fde0ef"
            ],
            [
             0.5,
             "#f7f7f7"
            ],
            [
             0.6,
             "#e6f5d0"
            ],
            [
             0.7,
             "#b8e186"
            ],
            [
             0.8,
             "#7fbc41"
            ],
            [
             0.9,
             "#4d9221"
            ],
            [
             1,
             "#276419"
            ]
           ],
           "sequential": [
            [
             0,
             "#0d0887"
            ],
            [
             0.1111111111111111,
             "#46039f"
            ],
            [
             0.2222222222222222,
             "#7201a8"
            ],
            [
             0.3333333333333333,
             "#9c179e"
            ],
            [
             0.4444444444444444,
             "#bd3786"
            ],
            [
             0.5555555555555556,
             "#d8576b"
            ],
            [
             0.6666666666666666,
             "#ed7953"
            ],
            [
             0.7777777777777778,
             "#fb9f3a"
            ],
            [
             0.8888888888888888,
             "#fdca26"
            ],
            [
             1,
             "#f0f921"
            ]
           ],
           "sequentialminus": [
            [
             0,
             "#0d0887"
            ],
            [
             0.1111111111111111,
             "#46039f"
            ],
            [
             0.2222222222222222,
             "#7201a8"
            ],
            [
             0.3333333333333333,
             "#9c179e"
            ],
            [
             0.4444444444444444,
             "#bd3786"
            ],
            [
             0.5555555555555556,
             "#d8576b"
            ],
            [
             0.6666666666666666,
             "#ed7953"
            ],
            [
             0.7777777777777778,
             "#fb9f3a"
            ],
            [
             0.8888888888888888,
             "#fdca26"
            ],
            [
             1,
             "#f0f921"
            ]
           ]
          },
          "colorway": [
           "#636efa",
           "#EF553B",
           "#00cc96",
           "#ab63fa",
           "#FFA15A",
           "#19d3f3",
           "#FF6692",
           "#B6E880",
           "#FF97FF",
           "#FECB52"
          ],
          "font": {
           "color": "#2a3f5f"
          },
          "geo": {
           "bgcolor": "white",
           "lakecolor": "white",
           "landcolor": "#E5ECF6",
           "showlakes": true,
           "showland": true,
           "subunitcolor": "white"
          },
          "hoverlabel": {
           "align": "left"
          },
          "hovermode": "closest",
          "mapbox": {
           "style": "light"
          },
          "paper_bgcolor": "white",
          "plot_bgcolor": "#E5ECF6",
          "polar": {
           "angularaxis": {
            "gridcolor": "white",
            "linecolor": "white",
            "ticks": ""
           },
           "bgcolor": "#E5ECF6",
           "radialaxis": {
            "gridcolor": "white",
            "linecolor": "white",
            "ticks": ""
           }
          },
          "scene": {
           "xaxis": {
            "backgroundcolor": "#E5ECF6",
            "gridcolor": "white",
            "gridwidth": 2,
            "linecolor": "white",
            "showbackground": true,
            "ticks": "",
            "zerolinecolor": "white"
           },
           "yaxis": {
            "backgroundcolor": "#E5ECF6",
            "gridcolor": "white",
            "gridwidth": 2,
            "linecolor": "white",
            "showbackground": true,
            "ticks": "",
            "zerolinecolor": "white"
           },
           "zaxis": {
            "backgroundcolor": "#E5ECF6",
            "gridcolor": "white",
            "gridwidth": 2,
            "linecolor": "white",
            "showbackground": true,
            "ticks": "",
            "zerolinecolor": "white"
           }
          },
          "shapedefaults": {
           "line": {
            "color": "#2a3f5f"
           }
          },
          "ternary": {
           "aaxis": {
            "gridcolor": "white",
            "linecolor": "white",
            "ticks": ""
           },
           "baxis": {
            "gridcolor": "white",
            "linecolor": "white",
            "ticks": ""
           },
           "bgcolor": "#E5ECF6",
           "caxis": {
            "gridcolor": "white",
            "linecolor": "white",
            "ticks": ""
           }
          },
          "title": {
           "x": 0.05
          },
          "xaxis": {
           "automargin": true,
           "gridcolor": "white",
           "linecolor": "white",
           "ticks": "",
           "title": {
            "standoff": 15
           },
           "zerolinecolor": "white",
           "zerolinewidth": 2
          },
          "yaxis": {
           "automargin": true,
           "gridcolor": "white",
           "linecolor": "white",
           "ticks": "",
           "title": {
            "standoff": 15
           },
           "zerolinecolor": "white",
           "zerolinewidth": 2
          }
         }
        },
        "title": {
         "text": "Todays Option Pos (PnL and Delta)",
         "x": 0.5,
         "xanchor": "center"
        },
        "xaxis": {
         "anchor": "y",
         "autorange": true,
         "domain": [
          0,
          0.45
         ],
         "range": [
          30,
          100
         ],
         "title": {
          "text": "Price"
         },
         "type": "linear"
        },
        "xaxis2": {
         "anchor": "y2",
         "autorange": true,
         "domain": [
          0.55,
          1
         ],
         "range": [
          30,
          100
         ],
         "title": {
          "text": "Price"
         },
         "type": "linear"
        },
        "yaxis": {
         "anchor": "x",
         "autorange": true,
         "domain": [
          0,
          1
         ],
         "range": [
          -1247549.8390206895,
          20017100.160979312
         ],
         "title": {
          "text": "Pnl"
         },
         "type": "linear"
        },
        "yaxis2": {
         "anchor": "x2",
         "autorange": true,
         "domain": [
          0,
          1
         ],
         "range": [
          -369444.44444444444,
          19444.444444444445
         ],
         "title": {
          "text": "Delta"
         },
         "type": "linear"
        }
       }
      },
      "image/png": "[encoded data removed]",
      "text/html": [
       "<div>                            <div id=\"45ec05bd-19a2-4698-9425-a39b7493c05f\" class=\"plotly-graph-div\" style=\"height:525px; width:100%;\"></div>            <script type=\"text/javascript\">                require([\"plotly\"], function(Plotly) {                    window.PLOTLYENV=window.PLOTLYENV || {};                                    if (document.getElementById(\"45ec05bd-19a2-4698-9425-a39b7493c05f\")) {                    Plotly.newPlot(                        \"45ec05bd-19a2-4698-9425-a39b7493c05f\",                        [{\"name\":\"EUA Mar25 60P\",\"x\":[30,31,32,33,34,35,36,37,38,39,40,41,42,43,44,45,46,47,48,49,50,51,52,53,54,55,56,57,58,59,60,61,62,63,64,65,66,67,68,69,70,71,72,73,74,75,76,77,78,79,80,81,82,83,84,85,86,87,88,89,90,91,92,93,94,95,96,97,98,99,100],\"y\":[9927059.605857188,9594221.605857188,9261383.605857188,8928545.605857188,8595707.605857188,8262869.605857189,7930031.605857189,7597193.605857189,7264355.605857189,6931517.605857188,6598679.605857188,6265841.605857188,5933003.605857188,5600165.605857188,5267327.605857188,4934489.605857188,4601651.605857188,4268813.605857188,3935975.605857188,3603137.605857188,3270299.605857188,2937461.605857188,2604623.605857188,2271785.605857188,1938947.605857188,1606109.6058571879,1273271.6058571879,940433.6058571878,607595.605857188,274757.6058571879,-58080.3941428121,-58080.3941428121,-58080.3941428121,-58080.3941428121,-58080.3941428121,-58080.3941428121,-58080.3941428121,-58080.3941428121,-58080.3941428121,-58080.3941428121,-58080.3941428121,-58080.3941428121,-58080.3941428121,-58080.3941428121,-58080.3941428121,-58080.3941428121,-58080.3941428121,-58080.3941428121,-58080.3941428121,-58080.3941428121,-58080.3941428121,-58080.3941428121,-58080.3941428121,-58080.3941428121,-58080.3941428121,-58080.3941428121,-58080.3941428121,-58080.3941428121,-58080.3941428121,-58080.3941428121,-58080.3941428121,-58080.3941428121,-58080.3941428121,-58080.3941428121,-58080.3941428121,-58080.3941428121,-58080.3941428121,-58080.3941428121,-58080.3941428121,-58080.3941428121,-58080.3941428121],\"type\":\"scatter\",\"xaxis\":\"x\",\"yaxis\":\"y\"},{\"name\":\"EUA Mar25 60P\",\"x\":[30,31,32,33,34,35,36,37,38,39,40,41,42,43,44,45,46,47,48,49,50,51,52,53,54,55,56,57,58,59,60,61,62,63,64,65,66,67,68,69,70,71,72,73,74,75,76,77,78,79,80,81,82,83,84,85,86,87,88,89,90,91,92,93,94,95,96,97,98,99,100],\"y\":[-200000.0,-200000.0,-200000.0,-200000.0,-200000.0,-200000.0,-200000.0,-200000.0,-200000.0,-200000.0,-200000.0,-200000.0,-200000.0,-200000.0,-200000.0,-200000.0,-200000.0,-200000.0,-200000.0,-200000.0,-200000.0,-200000.0,-200000.0,-200000.0,-200000.0,-200000.0,-200000.0,-200000.0,-200000.0,-200000.0,null,0.0,0.0,0.0,0.0,0.0,0.0,0.0,0.0,0.0,0.0,0.0,0.0,0.0,0.0,0.0,0.0,0.0,0.0,0.0,0.0,0.0,0.0,0.0,0.0,0.0,0.0,0.0,0.0,0.0,0.0,0.0,0.0,0.0,0.0,0.0,0.0,0.0,0.0,0.0,0.0],\"type\":\"scatter\",\"xaxis\":\"x2\",\"yaxis\":\"y2\"},{\"name\":\"EUA Mar25 65P\",\"x\":[30,31,32,33,34,35,36,37,38,39,40,41,42,43,44,45,46,47,48,49,50,51,52,53,54,55,56,57,58,59,60,61,62,63,64,65,66,67,68,69,70,71,72,73,74,75,76,77,78,79,80,81,82,83,84,85,86,87,88,89,90,91,92,93,94,95,96,97,98,99,100],\"y\":[5763907.128727572,5597488.128727572,5431069.128727572,5264650.128727572,5098231.128727572,4931812.128727572,4765393.128727572,4598974.128727572,4432555.128727572,4266136.128727572,4099717.128727572,3933298.128727572,3766879.128727572,3600460.1287275716,3434041.128727572,3267622.128727572,3101203.128727572,2934784.128727572,2768365.128727572,2601946.128727572,2435527.128727572,2269108.128727572,2102689.128727572,1936270.128727572,1769851.128727572,1603432.128727572,1437013.1287275718,1270594.1287275718,1104175.1287275718,937756.1287275719,771337.128727572,604918.128727572,438499.1287275721,272080.12872757204,105661.12872757204,-60757.871272427976,-60757.871272427976,-60757.871272427976,-60757.871272427976,-60757.871272427976,-60757.871272427976,-60757.871272427976,-60757.871272427976,-60757.871272427976,-60757.871272427976,-60757.871272427976,-60757.871272427976,-60757.871272427976,-60757.871272427976,-60757.871272427976,-60757.871272427976,-60757.871272427976,-60757.871272427976,-60757.871272427976,-60757.871272427976,-60757.871272427976,-60757.871272427976,-60757.871272427976,-60757.871272427976,-60757.871272427976,-60757.871272427976,-60757.871272427976,-60757.871272427976,-60757.871272427976,-60757.871272427976,-60757.871272427976,-60757.871272427976,-60757.871272427976,-60757.871272427976,-60757.871272427976,-60757.871272427976],\"type\":\"scatter\",\"xaxis\":\"x\",\"yaxis\":\"y\"},{\"name\":\"EUA Mar25 65P\",\"x\":[30,31,32,33,34,35,36,37,38,39,40,41,42,43,44,45,46,47,48,49,50,51,52,53,54,55,56,57,58,59,60,61,62,63,64,65,66,67,68,69,70,71,72,73,74,75,76,77,78,79,80,81,82,83,84,85,86,87,88,89,90,91,92,93,94,95,96,97,98,99,100],\"y\":[-100000.0,-100000.0,-100000.0,-100000.0,-100000.0,-100000.0,-100000.0,-100000.0,-100000.0,-100000.0,-100000.0,-100000.0,-100000.0,-100000.0,-100000.0,-100000.0,-100000.0,-100000.0,-100000.0,-100000.0,-100000.0,-100000.0,-100000.0,-100000.0,-100000.0,-100000.0,-100000.0,-100000.0,-100000.0,-100000.0,-100000.0,-100000.0,-100000.0,-100000.0,-100000.0,null,0.0,0.0,0.0,0.0,0.0,0.0,0.0,0.0,0.0,0.0,0.0,0.0,0.0,0.0,0.0,0.0,0.0,0.0,0.0,0.0,0.0,0.0,0.0,0.0,0.0,0.0,0.0,0.0,0.0,0.0,0.0,0.0,0.0,0.0,0.0],\"type\":\"scatter\",\"xaxis\":\"x2\",\"yaxis\":\"y2\"},{\"name\":\"EUA Mar25 70P\",\"x\":[30,31,32,33,34,35,36,37,38,39,40,41,42,43,44,45,46,47,48,49,50,51,52,53,54,55,56,57,58,59,60,61,62,63,64,65,66,67,68,69,70,71,72,73,74,75,76,77,78,79,80,81,82,83,84,85,86,87,88,89,90,91,92,93,94,95,96,97,98,99,100],\"y\":[3262900.9263945506,3179691.4263945506,3096481.9263945506,3013272.4263945506,2930062.9263945506,2846853.4263945506,2763643.9263945506,2680434.4263945506,2597224.9263945506,2514015.4263945506,2430805.9263945506,2347596.4263945506,2264386.9263945506,2181177.4263945506,2097967.9263945506,2014758.4263945504,1931548.9263945504,1848339.4263945504,1765129.9263945504,1681920.4263945506,1598710.9263945506,1515501.4263945506,1432291.9263945506,1349082.4263945506,1265872.9263945506,1182663.4263945506,1099453.9263945506,1016244.4263945505,933034.9263945505,849825.4263945505,766615.9263945505,683406.4263945505,600196.9263945506,516987.4263945506,433777.92639455054,350568.42639455054,267358.92639455054,184149.42639455054,100939.92639455052,17730.426394550523,-65479.073605449485,-65479.073605449485,-65479.073605449485,-65479.073605449485,-65479.073605449485,-65479.073605449485,-65479.073605449485,-65479.073605449485,-65479.073605449485,-65479.073605449485,-65479.073605449485,-65479.073605449485,-65479.073605449485,-65479.073605449485,-65479.073605449485,-65479.073605449485,-65479.073605449485,-65479.073605449485,-65479.073605449485,-65479.073605449485,-65479.073605449485,-65479.073605449485,-65479.073605449485,-65479.073605449485,-65479.073605449485,-65479.073605449485,-65479.073605449485,-65479.073605449485,-65479.073605449485,-65479.073605449485,-65479.073605449485],\"type\":\"scatter\",\"xaxis\":\"x\",\"yaxis\":\"y\"},{\"name\":\"EUA Mar25 70P\",\"x\":[30,31,32,33,34,35,36,37,38,39,40,41,42,43,44,45,46,47,48,49,50,51,52,53,54,55,56,57,58,59,60,61,62,63,64,65,66,67,68,69,70,71,72,73,74,75,76,77,78,79,80,81,82,83,84,85,86,87,88,89,90,91,92,93,94,95,96,97,98,99,100],\"y\":[-50000.0,-50000.0,-50000.0,-50000.0,-50000.0,-50000.0,-50000.0,-50000.0,-50000.0,-50000.0,-50000.0,-50000.0,-50000.0,-50000.0,-50000.0,-50000.0,-50000.0,-50000.0,-50000.0,-50000.0,-50000.0,-50000.0,-50000.0,-50000.0,-50000.0,-50000.0,-50000.0,-50000.0,-50000.0,-50000.0,-50000.0,-50000.0,-50000.0,-50000.0,-50000.0,-50000.0,-50000.0,-50000.0,-50000.0,-50000.0,null,0.0,0.0,0.0,0.0,0.0,0.0,0.0,0.0,0.0,0.0,0.0,0.0,0.0,0.0,0.0,0.0,0.0,0.0,0.0,0.0,0.0,0.0,0.0,0.0,0.0,0.0,0.0,0.0,0.0,0.0],\"type\":\"scatter\",\"xaxis\":\"x2\",\"yaxis\":\"y2\"},{\"mode\":\"lines\",\"name\":\"Total_PnL\",\"x\":[30,31,32,33,34,35,36,37,38,39,40,41,42,43,44,45,46,47,48,49,50,51,52,53,54,55,56,57,58,59,60,61,62,63,64,65,66,67,68,69,70,71,72,73,74,75,76,77,78,79,80,81,82,83,84,85,86,87,88,89,90,91,92,93,94,95,96,97,98,99,100],\"y\":[18953867.660979312,18371401.160979312,17788934.660979312,17206468.160979312,16624001.66097931,16041535.16097931,15459068.66097931,14876602.16097931,14294135.66097931,13711669.16097931,13129202.66097931,12546736.16097931,11964269.66097931,11381803.16097931,10799336.66097931,10216870.16097931,9634403.66097931,9051937.16097931,8469470.66097931,7887004.16097931,7304537.66097931,6722071.16097931,6139604.66097931,5557138.16097931,4974671.66097931,4392205.16097931,3809738.6609793105,3227272.16097931,2644805.6609793105,2062339.1609793105,1479872.6609793105,1230244.1609793105,980615.6609793105,730987.1609793105,481358.66097931046,231730.16097931046,148520.66097931046,65311.16097931046,-17898.339020689556,-101107.83902068956,-184317.33902068957,-184317.33902068957,-184317.33902068957,-184317.33902068957,-184317.33902068957,-184317.33902068957,-184317.33902068957,-184317.33902068957,-184317.33902068957,-184317.33902068957,-184317.33902068957,-184317.33902068957,-184317.33902068957,-184317.33902068957,-184317.33902068957,-184317.33902068957,-184317.33902068957,-184317.33902068957,-184317.33902068957,-184317.33902068957,-184317.33902068957,-184317.33902068957,-184317.33902068957,-184317.33902068957,-184317.33902068957,-184317.33902068957,-184317.33902068957,-184317.33902068957,-184317.33902068957,-184317.33902068957,-184317.33902068957],\"type\":\"scatter\",\"xaxis\":\"x\",\"yaxis\":\"y\"},{\"mode\":\"lines\",\"name\":\"Total_Delta\",\"x\":[30,31,32,33,34,35,36,37,38,39,40,41,42,43,44,45,46,47,48,49,50,51,52,53,54,55,56,57,58,59,60,61,62,63,64,65,66,67,68,69,70,71,72,73,74,75,76,77,78,79,80,81,82,83,84,85,86,87,88,89,90,91,92,93,94,95,96,97,98,99,100],\"y\":[-350000.0,-350000.0,-350000.0,-350000.0,-350000.0,-350000.0,-350000.0,-350000.0,-350000.0,-350000.0,-350000.0,-350000.0,-350000.0,-350000.0,-350000.0,-350000.0,-350000.0,-350000.0,-350000.0,-350000.0,-350000.0,-350000.0,-350000.0,-350000.0,-350000.0,-350000.0,-350000.0,-350000.0,-350000.0,-350000.0,-150000.0,-150000.0,-150000.0,-150000.0,-150000.0,-50000.0,-50000.0,-50000.0,-50000.0,-50000.0,0.0,0.0,0.0,0.0,0.0,0.0,0.0,0.0,0.0,0.0,0.0,0.0,0.0,0.0,0.0,0.0,0.0,0.0,0.0,0.0,0.0,0.0,0.0,0.0,0.0,0.0,0.0,0.0,0.0,0.0,0.0],\"type\":\"scatter\",\"xaxis\":\"x2\",\"yaxis\":\"y2\"}],                        {\"template\":{\"data\":{\"histogram2dcontour\":[{\"type\":\"histogram2dcontour\",\"colorbar\":{\"outlinewidth\":0,\"ticks\":\"\"},\"colorscale\":[[0.0,\"#0d0887\"],[0.1111111111111111,\"#46039f\"],[0.2222222222222222,\"#7201a8\"],[0.3333333333333333,\"#9c179e\"],[0.4444444444444444,\"#bd3786\"],[0.5555555555555556,\"#d8576b\"],[0.6666666666666666,\"#ed7953\"],[0.7777777777777778,\"#fb9f3a\"],[0.8888888888888888,\"#fdca26\"],[1.0,\"#f0f921\"]]}],\"choropleth\":[{\"type\":\"choropleth\",\"colorbar\":{\"outlinewidth\":0,\"ticks\":\"\"}}],\"histogram2d\":[{\"type\":\"histogram2d\",\"colorbar\":{\"outlinewidth\":0,\"ticks\":\"\"},\"colorscale\":[[0.0,\"#0d0887\"],[0.1111111111111111,\"#46039f\"],[0.2222222222222222,\"#7201a8\"],[0.3333333333333333,\"#9c179e\"],[0.4444444444444444,\"#bd3786\"],[0.5555555555555556,\"#d8576b\"],[0.6666666666666666,\"#ed7953\"],[0.7777777777777778,\"#fb9f3a\"],[0.8888888888888888,\"#fdca26\"],[1.0,\"#f0f921\"]]}],\"heatmap\":[{\"type\":\"heatmap\",\"colorbar\":{\"outlinewidth\":0,\"ticks\":\"\"},\"colorscale\":[[0.0,\"#0d0887\"],[0.1111111111111111,\"#46039f\"],[0.2222222222222222,\"#7201a8\"],[0.3333333333333333,\"#9c179e\"],[0.4444444444444444,\"#bd3786\"],[0.5555555555555556,\"#d8576b\"],[0.6666666666666666,\"#ed7953\"],[0.7777777777777778,\"#fb9f3a\"],[0.8888888888888888,\"#fdca26\"],[1.0,\"#f0f921\"]]}],\"heatmapgl\":[{\"type\":\"heatmapgl\",\"colorbar\":{\"outlinewidth\":0,\"ticks\":\"\"},\"colorscale\":[[0.0,\"#0d0887\"],[0.1111111111111111,\"#46039f\"],[0.2222222222222222,\"#7201a8\"],[0.3333333333333333,\"#9c179e\"],[0.4444444444444444,\"#bd3786\"],[0.5555555555555556,\"#d8576b\"],[0.6666666666666666,\"#ed7953\"],[0.7777777777777778,\"#fb9f3a\"],[0.8888888888888888,\"#fdca26\"],[1.0,\"#f0f921\"]]}],\"contourcarpet\":[{\"type\":\"contourcarpet\",\"colorbar\":{\"outlinewidth\":0,\"ticks\":\"\"}}],\"contour\":[{\"type\":\"contour\",\"colorbar\":{\"outlinewidth\":0,\"ticks\":\"\"},\"colorscale\":[[0.0,\"#0d0887\"],[0.1111111111111111,\"#46039f\"],[0.2222222222222222,\"#7201a8\"],[0.3333333333333333,\"#9c179e\"],[0.4444444444444444,\"#bd3786\"],[0.5555555555555556,\"#d8576b\"],[0.6666666666666666,\"#ed7953\"],[0.7777777777777778,\"#fb9f3a\"],[0.8888888888888888,\"#fdca26\"],[1.0,\"#f0f921\"]]}],\"surface\":[{\"type\":\"surface\",\"colorbar\":{\"outlinewidth\":0,\"ticks\":\"\"},\"colorscale\":[[0.0,\"#0d0887\"],[0.1111111111111111,\"#46039f\"],[0.2222222222222222,\"#7201a8\"],[0.3333333333333333,\"#9c179e\"],[0.4444444444444444,\"#bd3786\"],[0.5555555555555556,\"#d8576b\"],[0.6666666666666666,\"#ed7953\"],[0.7777777777777778,\"#fb9f3a\"],[0.8888888888888888,\"#fdca26\"],[1.0,\"#f0f921\"]]}],\"mesh3d\":[{\"type\":\"mesh3d\",\"colorbar\":{\"outlinewidth\":0,\"ticks\":\"\"}}],\"scatter\":[{\"fillpattern\":{\"fillmode\":\"overlay\",\"size\":10,\"solidity\":0.2},\"type\":\"scatter\"}],\"parcoords\":[{\"type\":\"parcoords\",\"line\":{\"colorbar\":{\"outlinewidth\":0,\"ticks\":\"\"}}}],\"scatterpolargl\":[{\"type\":\"scatterpolargl\",\"marker\":{\"colorbar\":{\"outlinewidth\":0,\"ticks\":\"\"}}}],\"bar\":[{\"error_x\":{\"color\":\"#2a3f5f\"},\"error_y\":{\"color\":\"#2a3f5f\"},\"marker\":{\"line\":{\"color\":\"#E5ECF6\",\"width\":0.5},\"pattern\":{\"fillmode\":\"overlay\",\"size\":10,\"solidity\":0.2}},\"type\":\"bar\"}],\"scattergeo\":[{\"type\":\"scattergeo\",\"marker\":{\"colorbar\":{\"outlinewidth\":0,\"ticks\":\"\"}}}],\"scatterpolar\":[{\"type\":\"scatterpolar\",\"marker\":{\"colorbar\":{\"outlinewidth\":0,\"ticks\":\"\"}}}],\"histogram\":[{\"marker\":{\"pattern\":{\"fillmode\":\"overlay\",\"size\":10,\"solidity\":0.2}},\"type\":\"histogram\"}],\"scattergl\":[{\"type\":\"scattergl\",\"marker\":{\"colorbar\":{\"outlinewidth\":0,\"ticks\":\"\"}}}],\"scatter3d\":[{\"type\":\"scatter3d\",\"line\":{\"colorbar\":{\"outlinewidth\":0,\"ticks\":\"\"}},\"marker\":{\"colorbar\":{\"outlinewidth\":0,\"ticks\":\"\"}}}],\"scattermapbox\":[{\"type\":\"scattermapbox\",\"marker\":{\"colorbar\":{\"outlinewidth\":0,\"ticks\":\"\"}}}],\"scatterternary\":[{\"type\":\"scatterternary\",\"marker\":{\"colorbar\":{\"outlinewidth\":0,\"ticks\":\"\"}}}],\"scattercarpet\":[{\"type\":\"scattercarpet\",\"marker\":{\"colorbar\":{\"outlinewidth\":0,\"ticks\":\"\"}}}],\"carpet\":[{\"aaxis\":{\"endlinecolor\":\"#2a3f5f\",\"gridcolor\":\"white\",\"linecolor\":\"white\",\"minorgridcolor\":\"white\",\"startlinecolor\":\"#2a3f5f\"},\"baxis\":{\"endlinecolor\":\"#2a3f5f\",\"gridcolor\":\"white\",\"linecolor\":\"white\",\"minorgridcolor\":\"white\",\"startlinecolor\":\"#2a3f5f\"},\"type\":\"carpet\"}],\"table\":[{\"cells\":{\"fill\":{\"color\":\"#EBF0F8\"},\"line\":{\"color\":\"white\"}},\"header\":{\"fill\":{\"color\":\"#C8D4E3\"},\"line\":{\"color\":\"white\"}},\"type\":\"table\"}],\"barpolar\":[{\"marker\":{\"line\":{\"color\":\"#E5ECF6\",\"width\":0.5},\"pattern\":{\"fillmode\":\"overlay\",\"size\":10,\"solidity\":0.2}},\"type\":\"barpolar\"}],\"pie\":[{\"automargin\":true,\"type\":\"pie\"}]},\"layout\":{\"autotypenumbers\":\"strict\",\"colorway\":[\"#636efa\",\"#EF553B\",\"#00cc96\",\"#ab63fa\",\"#FFA15A\",\"#19d3f3\",\"#FF6692\",\"#B6E880\",\"#FF97FF\",\"#FECB52\"],\"font\":{\"color\":\"#2a3f5f\"},\"hovermode\":\"closest\",\"hoverlabel\":{\"align\":\"left\"},\"paper_bgcolor\":\"white\",\"plot_bgcolor\":\"#E5ECF6\",\"polar\":{\"bgcolor\":\"#E5ECF6\",\"angularaxis\":{\"gridcolor\":\"white\",\"linecolor\":\"white\",\"ticks\":\"\"},\"radialaxis\":{\"gridcolor\":\"white\",\"linecolor\":\"white\",\"ticks\":\"\"}},\"ternary\":{\"bgcolor\":\"#E5ECF6\",\"aaxis\":{\"gridcolor\":\"white\",\"linecolor\":\"white\",\"ticks\":\"\"},\"baxis\":{\"gridcolor\":\"white\",\"linecolor\":\"white\",\"ticks\":\"\"},\"caxis\":{\"gridcolor\":\"white\",\"linecolor\":\"white\",\"ticks\":\"\"}},\"coloraxis\":{\"colorbar\":{\"outlinewidth\":0,\"ticks\":\"\"}},\"colorscale\":{\"sequential\":[[0.0,\"#0d0887\"],[0.1111111111111111,\"#46039f\"],[0.2222222222222222,\"#7201a8\"],[0.3333333333333333,\"#9c179e\"],[0.4444444444444444,\"#bd3786\"],[0.5555555555555556,\"#d8576b\"],[0.6666666666666666,\"#ed7953\"],[0.7777777777777778,\"#fb9f3a\"],[0.8888888888888888,\"#fdca26\"],[1.0,\"#f0f921\"]],\"sequentialminus\":[[0.0,\"#0d0887\"],[0.1111111111111111,\"#46039f\"],[0.2222222222222222,\"#7201a8\"],[0.3333333333333333,\"#9c179e\"],[0.4444444444444444,\"#bd3786\"],[0.5555555555555556,\"#d8576b\"],[0.6666666666666666,\"#ed7953\"],[0.7777777777777778,\"#fb9f3a\"],[0.8888888888888888,\"#fdca26\"],[1.0,\"#f0f921\"]],\"diverging\":[[0,\"#8e0152\"],[0.1,\"#c51b7d\"],[0.2,\"#de77ae\"],[0.3,\"#f1b6da\"],[0.4,\"#fde0ef\"],[0.5,\"#f7f7f7\"],[0.6,\"#e6f5d0\"],[0.7,\"#b8e186\"],[0.8,\"#7fbc41\"],[0.9,\"#4d9221\"],[1,\"#276419\"]]},\"xaxis\":{\"gridcolor\":\"white\",\"linecolor\":\"white\",\"ticks\":\"\",\"title\":{\"standoff\":15},\"zerolinecolor\":\"white\",\"automargin\":true,\"zerolinewidth\":2},\"yaxis\":{\"gridcolor\":\"white\",\"linecolor\":\"white\",\"ticks\":\"\",\"title\":{\"standoff\":15},\"zerolinecolor\":\"white\",\"automargin\":true,\"zerolinewidth\":2},\"scene\":{\"xaxis\":{\"backgroundcolor\":\"#E5ECF6\",\"gridcolor\":\"white\",\"linecolor\":\"white\",\"showbackground\":true,\"ticks\":\"\",\"zerolinecolor\":\"white\",\"gridwidth\":2},\"yaxis\":{\"backgroundcolor\":\"#E5ECF6\",\"gridcolor\":\"white\",\"linecolor\":\"white\",\"showbackground\":true,\"ticks\":\"\",\"zerolinecolor\":\"white\",\"gridwidth\":2},\"zaxis\":{\"backgroundcolor\":\"#E5ECF6\",\"gridcolor\":\"white\",\"linecolor\":\"white\",\"showbackground\":true,\"ticks\":\"\",\"zerolinecolor\":\"white\",\"gridwidth\":2}},\"shapedefaults\":{\"line\":{\"color\":\"#2a3f5f\"}},\"annotationdefaults\":{\"arrowcolor\":\"#2a3f5f\",\"arrowhead\":0,\"arrowwidth\":1},\"geo\":{\"bgcolor\":\"white\",\"landcolor\":\"#E5ECF6\",\"subunitcolor\":\"white\",\"showland\":true,\"showlakes\":true,\"lakecolor\":\"white\"},\"title\":{\"x\":0.05},\"mapbox\":{\"style\":\"light\"}}},\"xaxis\":{\"anchor\":\"y\",\"domain\":[0.0,0.45],\"title\":{\"text\":\"Price\"}},\"yaxis\":{\"anchor\":\"x\",\"domain\":[0.0,1.0],\"title\":{\"text\":\"Pnl\"}},\"xaxis2\":{\"anchor\":\"y2\",\"domain\":[0.55,1.0],\"title\":{\"text\":\"Price\"}},\"yaxis2\":{\"anchor\":\"x2\",\"domain\":[0.0,1.0],\"title\":{\"text\":\"Delta\"}},\"title\":{\"text\":\"Todays Option Pos (PnL and Delta)\",\"x\":0.5,\"xanchor\":\"center\"},\"barmode\":\"stack\"},                        {\"responsive\": true}                    ).then(function(){\n",
       "                            \n",
       "var gd = document.getElementById('45ec05bd-19a2-4698-9425-a39b7493c05f');\n",
       "var x = new MutationObserver(function (mutations, observer) {{\n",
       "        var display = window.getComputedStyle(gd).display;\n",
       "        if (!display || display === 'none') {{\n",
       "            console.log([gd, 'removed!']);\n",
       "            Plotly.purge(gd);\n",
       "            observer.disconnect();\n",
       "        }}\n",
       "}});\n",
       "\n",
       "// Listen for the removal of the full notebook cells\n",
       "var notebookContainer = gd.closest('#notebook-container');\n",
       "if (notebookContainer) {{\n",
       "    x.observe(notebookContainer, {childList: true});\n",
       "}}\n",
       "\n",
       "// Listen for the clearing of the current output cell\n",
       "var outputEl = gd.closest('.output');\n",
       "if (outputEl) {{\n",
       "    x.observe(outputEl, {childList: true});\n",
       "}}\n",
       "\n",
       "                        })                };                });            </script>        </div>"
      ]
     },
     "metadata": {},
     "output_type": "display_data"
    }
   ],
   "source": [
    "pnl_delta_plot(dec_exp)"
   ]
  },
  {
   "cell_type": "code",
   "execution_count": null,
   "id": "175af9cd",
   "metadata": {},
   "outputs": [],
   "source": [
    "### THIS IS FOR PLOTTING THETA AND VEGA\n",
    "\n",
    "#fig_t = go.Figure()\n",
    "#for i in list(t)[1:-1]:\n",
    "#    fig_t.add_trace(go.Bar(x=t.Price, y=t[i], name=i, base=0))\n",
    "#\n",
    "#fig_t.add_trace(go.Scatter(x=t.Price, y=t.Option_Theta, mode='lines', name='Total_Theta'))\n",
    "#\n",
    "#\n",
    "#~~~~~~~~~~~~~~~~~~~~~~~~~~~~~~~~~~~~~~~~~~~~~~~~~~~~~~~~~~~~~~~~~~~~~~~~~~~~~~~~~\n",
    "#fig_v = go.Figure()\n",
    "#for i in list(v)[1:-1]:\n",
    "#    fig_v.add_trace(go.Bar(x=v.Price, y=v[i], name=i, base=0))\n",
    "#\n",
    "#fig_v.add_trace(go.Scatter(x=v.Price, y=v.Option_Vega, mode='lines', name='Total_Vega'))\n",
    "#\n",
    "##~~~~~~~~~~~~~~~~~~~~~~~~~~~~~~~~~~~~~~~~~~~~~~~~~~~~~~~~~~~~~~~~~~~~~~~~~~~~~~~~\n",
    "#fig = make_subplots(rows=1, cols=2)\n",
    "#for i in range(0,len(fig_p.data)):\n",
    "#    fig.add_trace(fig_t.data[i], row=1, col=1)\n",
    "#    fig.add_trace(fig_v.data[i], row=1, col=2)\n",
    "#   \n",
    "#fig.update_layout(title={'text': 'Todays Option Pos (Theta and Vega)','x': 0.5,'xanchor': 'center'}, barmode='stack')\n",
    "#\n",
    "#fig.update_xaxes(title_text=\"Price\", row=1, col=1)\n",
    "#fig.update_yaxes(title_text=\"Theta\", row=1, col=1)\n",
    "#fig.update_xaxes(title_text=\"Price\", row=1, col=2)\n",
    "#fig.update_yaxes(title_text=\"Vega\", row=1, col=2)    \n",
    "#fig.show()  "
   ]
  }
 ],
 "metadata": {
  "kernelspec": {
   "display_name": "Python 3 (ipykernel)",
   "language": "python",
   "name": "python3"
  },
  "language_info": {
   "codemirror_mode": {
    "name": "ipython",
    "version": 3
   },
   "file_extension": ".py",
   "mimetype": "text/x-python",
   "name": "python",
   "nbconvert_exporter": "python",
   "pygments_lexer": "ipython3",
   "version": "3.12.3"
  },
  "toc": {
   "base_numbering": 1,
   "nav_menu": {},
   "number_sections": true,
   "sideBar": true,
   "skip_h1_title": false,
   "title_cell": "Table of Contents",
   "title_sidebar": "Contents",
   "toc_cell": false,
   "toc_position": {},
   "toc_section_display": true,
   "toc_window_display": false
  },
  "varInspector": {
   "cols": {
    "lenName": 16,
    "lenType": 16,
    "lenVar": 40
   },
   "kernels_config": {
    "python": {
     "delete_cmd_postfix": "",
     "delete_cmd_prefix": "del ",
     "library": "var_list.py",
     "varRefreshCmd": "print(var_dic_list())"
    },
    "r": {
     "delete_cmd_postfix": ") ",
     "delete_cmd_prefix": "rm(",
     "library": "var_list.r",
     "varRefreshCmd": "cat(var_dic_list()) "
    }
   },
   "types_to_exclude": [
    "module",
    "function",
    "builtin_function_or_method",
    "instance",
    "_Feature"
   ],
   "window_display": false
  }
 },
 "nbformat": 4,
 "nbformat_minor": 5
}
