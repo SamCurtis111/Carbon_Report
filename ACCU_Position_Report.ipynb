{
 "cells": [
  {
   "cell_type": "code",
   "execution_count": 1,
   "id": "bba20152",
   "metadata": {
    "scrolled": true
   },
   "outputs": [],
   "source": [
    "import warnings\n",
    "warnings.filterwarnings('ignore', category=RuntimeWarning)\n",
    "\n",
    "import pandas as pd\n",
    "import plotly.graph_objects as go\n",
    "from plotly.subplots import make_subplots\n",
    "import plotly\n",
    "\n",
    "import datetime as dt\n",
    "import calendar\n",
    "\n",
    "from Position_Report_Calcs import Position_Reporting"
   ]
  },
  {
   "cell_type": "code",
   "execution_count": 2,
   "id": "9b481c4e",
   "metadata": {},
   "outputs": [
    {
     "data": {
      "text/html": [
       "        <script type=\"text/javascript\">\n",
       "        window.PlotlyConfig = {MathJaxConfig: 'local'};\n",
       "        if (window.MathJax && window.MathJax.Hub && window.MathJax.Hub.Config) {window.MathJax.Hub.Config({SVG: {font: \"STIX-Web\"}});}\n",
       "        if (typeof require !== 'undefined') {\n",
       "        require.undef(\"plotly\");\n",
       "        requirejs.config({\n",
       "            paths: {\n",
       "                'plotly': ['https://cdn.plot.ly/plotly-2.12.1.min']\n",
       "            }\n",
       "        });\n",
       "        require(['plotly'], function(Plotly) {\n",
       "            window._Plotly = Plotly;\n",
       "        });\n",
       "        }\n",
       "        </script>\n",
       "        "
      ]
     },
     "metadata": {},
     "output_type": "display_data"
    }
   ],
   "source": [
    "plotly.offline.init_notebook_mode(connected=True)"
   ]
  },
  {
   "cell_type": "code",
   "execution_count": 3,
   "id": "3ca5488c",
   "metadata": {},
   "outputs": [],
   "source": [
    "## Read in the position data\n",
    "mkts = ['ACCU','NZU','EUA']\n",
    "\n",
    "positions = dict()\n",
    "for m in mkts:\n",
    "    positions[m] = pd.read_excel('Positions.xlsx', sheet_name=m)\n",
    "    positions[m]['Expiry'] = pd.to_datetime(positions[m].Expiry).dt.date\n",
    "\n",
    "premiums = pd.read_excel('Positions.xlsx', sheet_name='Index') "
   ]
  },
  {
   "cell_type": "code",
   "execution_count": 4,
   "id": "557de5c9",
   "metadata": {},
   "outputs": [],
   "source": [
    "## Define the dates we want to use for reporting\n",
    "current_date = dt.datetime.today().date()\n",
    "\n",
    "_, last_day = calendar.monthrange(current_date.year, current_date.month)\n",
    "end_of_month = dt.date(current_date.year, current_date.month, last_day)\n",
    "\n",
    "three_months = current_date + dt.timedelta(days=3*30)\n",
    "\n",
    "six_months = current_date + dt.timedelta(days=6*30)\n",
    "\n",
    "end_of_year = dt.datetime.strptime('10-12-2023', '%d-%m-%Y').date()\n",
    "\n",
    "one_year = current_date + dt.timedelta(days=365)\n",
    "\n",
    "dates_names = ['today','EoM','3 months','6 months','EoY','OneYear']\n",
    "dates_values = [current_date, end_of_month, three_months, six_months, end_of_year, one_year]"
   ]
  },
  {
   "cell_type": "code",
   "execution_count": 5,
   "id": "d56c3bd8",
   "metadata": {},
   "outputs": [],
   "source": [
    "dates = dict()\n",
    "for i in list(range(0,len(dates_names))):\n",
    "    dates[dates_names[i]] = dates_values[i]"
   ]
  },
  {
   "cell_type": "code",
   "execution_count": 6,
   "id": "a2d18819",
   "metadata": {},
   "outputs": [],
   "source": [
    "current_spot = positions['ACCU']\n",
    "current_spot = current_spot[current_spot.Type=='Spot'].reset_index(drop=True)\n",
    "current_spot = current_spot['Price'][0]"
   ]
  },
  {
   "cell_type": "markdown",
   "id": "756bb0ec",
   "metadata": {},
   "source": [
    "# ACCU Position Report"
   ]
  },
  {
   "cell_type": "code",
   "execution_count": 7,
   "id": "659c3281",
   "metadata": {},
   "outputs": [],
   "source": [
    "accus = dict()\n",
    "\n",
    "for d in dates_values:\n",
    "    accus[d] = Position_Reporting(positions, 'ACCU', d).combine_frame()"
   ]
  },
  {
   "cell_type": "code",
   "execution_count": 8,
   "id": "fb9d8c7f",
   "metadata": {},
   "outputs": [],
   "source": [
    "# data type; 0=PnL, 1=Delta, 2=Option Theta, 3=Option Vega\n",
    "def generate_summary_plots(mkt_data, data_type):\n",
    "    if data_type==0:\n",
    "        colname='Total_Pnl'\n",
    "    elif data_type==1:\n",
    "        colname='Total_Delta'\n",
    "    elif data_type==2:\n",
    "        colname='Option_Theta'\n",
    "    elif data_type==3:\n",
    "        colname='Option_Vega'\n",
    "    fig = go.Figure()\n",
    "    for i in list(range(0, len(dates_names))):\n",
    "        date_value = dates_values[i]\n",
    "        date_name = dates_names[i]\n",
    "        fig.add_trace(go.Scatter(x=mkt_data[date_value][data_type].Price, y=mkt_data[date_value][data_type][colname], name=date_name))\n",
    "    return fig"
   ]
  },
  {
   "cell_type": "code",
   "execution_count": 9,
   "id": "4708cc1d",
   "metadata": {},
   "outputs": [],
   "source": [
    "fig_d = generate_summary_plots(accus, 1)\n",
    "fig_p = generate_summary_plots(accus, 0)\n",
    "fig_t = generate_summary_plots(accus,2)\n",
    "fig_v = generate_summary_plots(accus,3)"
   ]
  },
  {
   "cell_type": "code",
   "execution_count": 10,
   "id": "ff94b9f0",
   "metadata": {},
   "outputs": [
    {
     "data": {
      "application/vnd.plotly.v1+json": {
       "config": {
        "plotlyServerURL": "https://plot.ly"
       },
       "data": [
        {
         "name": "today",
         "type": "scatter",
         "x": [
          20,
          21,
          22,
          23,
          24,
          25,
          26,
          27,
          28,
          29,
          30,
          31,
          32,
          33,
          34,
          35,
          36,
          37,
          38,
          39,
          40,
          41,
          42,
          43,
          44,
          45
         ],
         "xaxis": "x",
         "y": [
          -581009.1281535362,
          -494849.28958067845,
          -413994.9978076096,
          -339500.7154204704,
          -272071.62021060893,
          -212158.42824776203,
          -160106.41212462512,
          -116133.85092425236,
          -80062.85636508369,
          -51003.26901005073,
          -27300.69594262795,
          -6872.413122178723,
          12240.425795548712,
          31408.045699583832,
          51237.311784542806,
          71691.68694405165,
          92375.93011151557,
          112836.9436641325,
          132786.78977075464,
          152218.60258116107,
          171426.95273778238,
          190959.47996120743,
          211528.05479716044,
          233904.97911987768,
          258825.89689783868,
          286915.59681993444
         ],
         "yaxis": "y"
        },
        {
         "name": "today",
         "type": "scatter",
         "x": [
          20,
          21,
          22,
          23,
          24,
          25,
          26,
          27,
          28,
          29,
          30,
          31,
          32,
          33,
          34,
          35,
          36,
          37,
          38,
          39,
          40,
          41,
          42,
          43,
          44,
          45
         ],
         "xaxis": "x2",
         "y": [
          89859.27474808412,
          85183.45224752299,
          79293.5488598292,
          72525.28053604029,
          65206.7917523349,
          57507.804832161564,
          49500.66350663355,
          41413.811648367024,
          33821.19047199691,
          27525.67051146608,
          23182.496345542684,
          20954.67283738211,
          20448.126610564286,
          20931.75756595702,
          21661.419041551853,
          22122.081395662237,
          22112.97675956256,
          21705.030004007225,
          21139.110117502205,
          20720.347756697796,
          20735.03002202697,
          21396.314454443214,
          22817.072498330133,
          25006.50365895377,
          27886.037406729607,
          31317.93109367627
         ],
         "yaxis": "y2"
        },
        {
         "name": "EoM",
         "type": "scatter",
         "x": [
          20,
          21,
          22,
          23,
          24,
          25,
          26,
          27,
          28,
          29,
          30,
          31,
          32,
          33,
          34,
          35,
          36,
          37,
          38,
          39,
          40,
          41,
          42,
          43,
          44,
          45
         ],
         "xaxis": "x",
         "y": [
          -580138.0637994763,
          -493556.92713268986,
          -412274.49651603075,
          -337393.930334482,
          -269614.74615681986,
          -209339.47730441295,
          -156907.5219687387,
          -112654.53832669821,
          -76605.88538653046,
          -48003.623046406676,
          -25120.032456330744,
          -5611.492999560646,
          12778.465340309827,
          31599.530348980392,
          51462.10260370109,
          72199.80725826405,
          93237.37174619045,
          113959.57625995454,
          133967.726464663,
          153202.50364590285,
          171959.1169653309,
          190829.4328295287,
          210600.3338630644,
          232133.26868107123,
          256248.604392202,
          283635.4660510876
         ],
         "yaxis": "y"
        },
        {
         "name": "EoM",
         "type": "scatter",
         "x": [
          20,
          21,
          22,
          23,
          24,
          25,
          26,
          27,
          28,
          29,
          30,
          31,
          32,
          33,
          34,
          35,
          36,
          37,
          38,
          39,
          40,
          41,
          42,
          43,
          44,
          45
         ],
         "xaxis": "x2",
         "y": [
          90255.03019360144,
          85618.95768117206,
          79705.11410343599,
          72887.08215522153,
          65554.56642821021,
          57886.61337470794,
          49861.315221352925,
          41576.8411338891,
          33588.56563095748,
          26855.98479795061,
          22260.336781683312,
          20089.548226454062,
          19898.095793355445,
          20788.130751392433,
          21848.233457028284,
          22470.491397881284,
          22443.40733258624,
          21878.19201853402,
          21073.665584961214,
          20391.73186742897,
          20167.499995769445,
          20651.95235868766,
          21981.012412569115,
          24168.729450935818,
          27123.269654383803,
          30680.60518707346
         ],
         "yaxis": "y2"
        },
        {
         "name": "3 months",
         "type": "scatter",
         "x": [
          20,
          21,
          22,
          23,
          24,
          25,
          26,
          27,
          28,
          29,
          30,
          31,
          32,
          33,
          34,
          35,
          36,
          37,
          38,
          39,
          40,
          41,
          42,
          43,
          44,
          45
         ],
         "xaxis": "x",
         "y": [
          -558711.5141807704,
          -462835.5926385749,
          -366959.6710963793,
          -271083.7495541837,
          -175207.8280119883,
          -79331.90646979271,
          -58455.98492759699,
          -37580.06338540162,
          -16704.1418432059,
          4171.779698989383,
          -24952.298758814795,
          -54076.37721661931,
          -8200.455674423603,
          62675.465867772116,
          133551.38740996737,
          204427.3089521631,
          275303.2304943589,
          308679.15203655395,
          304555.0735787499,
          300430.9951209455,
          296306.9166631412,
          242182.8382053363,
          188058.75974753208,
          133934.6812897278,
          117310.60283192364,
          138186.524374119
         ],
         "yaxis": "y"
        },
        {
         "name": "3 months",
         "type": "scatter",
         "x": [
          20,
          21,
          22,
          23,
          24,
          25,
          26,
          27,
          28,
          29,
          30,
          31,
          32,
          33,
          34,
          35,
          36,
          37,
          38,
          39,
          40,
          41,
          42,
          43,
          44,
          45
         ],
         "xaxis": "x2",
         "y": [
          97030,
          97030,
          97030,
          97030,
          97030,
          22030,
          22030,
          22030,
          22030,
          -27970,
          -27970,
          47030,
          72030,
          72030,
          72030,
          72030,
          72030,
          -2970,
          -2970,
          -2970,
          -2970,
          -52970,
          -52970,
          -52970,
          22030,
          22030
         ],
         "yaxis": "y2"
        },
        {
         "name": "6 months",
         "type": "scatter",
         "x": [
          20,
          21,
          22,
          23,
          24,
          25,
          26,
          27,
          28,
          29,
          30,
          31,
          32,
          33,
          34,
          35,
          36,
          37,
          38,
          39,
          40,
          41,
          42,
          43,
          44,
          45
         ],
         "xaxis": "x",
         "y": [
          -546994.2467093106,
          -450733.64228589425,
          -354473.0378624775,
          -258212.43343906093,
          -161951.8290156445,
          -65691.22459222795,
          -44430.62016881141,
          -23170.015745394747,
          -1909.411321978434,
          19351.19310143814,
          -9388.202475145328,
          -38127.59805172843,
          8133.006371688214,
          79393.61079510453,
          150654.2152185213,
          221914.81964193785,
          293175.4240653544,
          326936.02848877106,
          323196.6329121874,
          319457.2373356044,
          315717.8417590207,
          261978.44618243707,
          208239.05060585355,
          154499.65502927022,
          138260.25945268676,
          159520.8638761033
         ],
         "yaxis": "y"
        },
        {
         "name": "6 months",
         "type": "scatter",
         "x": [
          20,
          21,
          22,
          23,
          24,
          25,
          26,
          27,
          28,
          29,
          30,
          31,
          32,
          33,
          34,
          35,
          36,
          37,
          38,
          39,
          40,
          41,
          42,
          43,
          44,
          45
         ],
         "xaxis": "x2",
         "y": [
          97030,
          97030,
          97030,
          97030,
          97030,
          22030,
          22030,
          22030,
          22030,
          -27970,
          -27970,
          47030,
          72030,
          72030,
          72030,
          72030,
          72030,
          -2970,
          -2970,
          -2970,
          -2970,
          -52970,
          -52970,
          -52970,
          22030,
          22030
         ],
         "yaxis": "y2"
        },
        {
         "name": "EoY",
         "type": "scatter",
         "x": [
          20,
          21,
          22,
          23,
          24,
          25,
          26,
          27,
          28,
          29,
          30,
          31,
          32,
          33,
          34,
          35,
          36,
          37,
          38,
          39,
          40,
          41,
          42,
          43,
          44,
          45
         ],
         "xaxis": "x",
         "y": [
          -576106.4509166431,
          -487194.85899867106,
          -403455.97516085097,
          -326499.90119569085,
          -257297.98543107294,
          -195880.82679611898,
          -141533.2433626189,
          -93990.1960753965,
          -55132.46751434507,
          -28001.171432749397,
          -12211.198051428764,
          -1928.2080501047049,
          10071.934578673492,
          27513.273297192092,
          49835.53577153242,
          74498.67861111122,
          99148.26472214039,
          122326.79899872292,
          143323.8199128821,
          161923.52927798644,
          178299.6288783197,
          193045.03169927874,
          207262.1655887115,
          222566.57913103187,
          240832.9905659965,
          263692.5925423299
         ],
         "yaxis": "y"
        },
        {
         "name": "EoY",
         "type": "scatter",
         "x": [
          20,
          21,
          22,
          23,
          24,
          25,
          26,
          27,
          28,
          29,
          30,
          31,
          32,
          33,
          34,
          35,
          36,
          37,
          38,
          39,
          40,
          41,
          42,
          43,
          44,
          45
         ],
         "xaxis": "x2",
         "y": [
          92369.36770719847,
          88095.6914834326,
          82049.53190852425,
          74639.42240119721,
          66705.43044343834,
          59211.94633150497,
          52509.75288193574,
          45197.4909033334,
          34857.88338887058,
          22367.33172858879,
          13215.793408637212,
          11594.168973221342,
          15979.324965448577,
          21706.28107860771,
          25420.343536847504,
          26448.394323428874,
          25556.71807612275,
          23630.907029023692,
          21273.168075425696,
          18898.916372264073,
          16894.591623956294,
          15723.733247131815,
          15928.337700867829,
          17946.467196684724,
          21811.317371922327,
          27007.40241267273
         ],
         "yaxis": "y2"
        },
        {
         "name": "OneYear",
         "type": "scatter",
         "x": [
          20,
          21,
          22,
          23,
          24,
          25,
          26,
          27,
          28,
          29,
          30,
          31,
          32,
          33,
          34,
          35,
          36,
          37,
          38,
          39,
          40,
          41,
          42,
          43,
          44,
          45
         ],
         "xaxis": "x",
         "y": [
          -528043.6548299207,
          -431079.32521408226,
          -334114.9955982438,
          -237150.6659824053,
          -140186.33636656706,
          -43222.006750728586,
          -21257.677134890226,
          706.6524809482507,
          22670.98209678661,
          44635.311712625116,
          16599.64132846358,
          -11436.029055698062,
          35528.3005601404,
          107492.63017597876,
          179456.95979181724,
          251421.2894076556,
          323385.6190234941,
          357849.94863933243,
          354814.2782551709,
          351778.60787100927,
          348742.93748684775,
          295707.26710268616,
          242671.5967185247,
          189635.92633436294,
          174100.25595020154,
          196064.58556603978
         ],
         "yaxis": "y"
        },
        {
         "name": "OneYear",
         "type": "scatter",
         "x": [
          20,
          21,
          22,
          23,
          24,
          25,
          26,
          27,
          28,
          29,
          30,
          31,
          32,
          33,
          34,
          35,
          36,
          37,
          38,
          39,
          40,
          41,
          42,
          43,
          44,
          45
         ],
         "xaxis": "x2",
         "y": [
          97030,
          97030,
          97030,
          97030,
          97030,
          22030,
          22030,
          22030,
          22030,
          -27970,
          -27970,
          47030,
          72030,
          72030,
          72030,
          72030,
          72030,
          -2970,
          -2970,
          -2970,
          -2970,
          -52970,
          -52970,
          -52970,
          22030,
          22030
         ],
         "yaxis": "y2"
        }
       ],
       "layout": {
        "shapes": [
         {
          "line": {
           "color": "green",
           "dash": "dash",
           "width": 1
          },
          "type": "line",
          "x0": 31,
          "x1": 31,
          "xref": "x",
          "y0": 0,
          "y1": 1,
          "yref": "y domain"
         },
         {
          "line": {
           "color": "green",
           "dash": "dash",
           "width": 1
          },
          "type": "line",
          "x0": 31,
          "x1": 31,
          "xref": "x2",
          "y0": 0,
          "y1": 1,
          "yref": "y2 domain"
         }
        ],
        "template": {
         "data": {
          "bar": [
           {
            "error_x": {
             "color": "#2a3f5f"
            },
            "error_y": {
             "color": "#2a3f5f"
            },
            "marker": {
             "line": {
              "color": "#E5ECF6",
              "width": 0.5
             },
             "pattern": {
              "fillmode": "overlay",
              "size": 10,
              "solidity": 0.2
             }
            },
            "type": "bar"
           }
          ],
          "barpolar": [
           {
            "marker": {
             "line": {
              "color": "#E5ECF6",
              "width": 0.5
             },
             "pattern": {
              "fillmode": "overlay",
              "size": 10,
              "solidity": 0.2
             }
            },
            "type": "barpolar"
           }
          ],
          "carpet": [
           {
            "aaxis": {
             "endlinecolor": "#2a3f5f",
             "gridcolor": "white",
             "linecolor": "white",
             "minorgridcolor": "white",
             "startlinecolor": "#2a3f5f"
            },
            "baxis": {
             "endlinecolor": "#2a3f5f",
             "gridcolor": "white",
             "linecolor": "white",
             "minorgridcolor": "white",
             "startlinecolor": "#2a3f5f"
            },
            "type": "carpet"
           }
          ],
          "choropleth": [
           {
            "colorbar": {
             "outlinewidth": 0,
             "ticks": ""
            },
            "type": "choropleth"
           }
          ],
          "contour": [
           {
            "colorbar": {
             "outlinewidth": 0,
             "ticks": ""
            },
            "colorscale": [
             [
              0,
              "#0d0887"
             ],
             [
              0.1111111111111111,
              "#46039f"
             ],
             [
              0.2222222222222222,
              "#7201a8"
             ],
             [
              0.3333333333333333,
              "#9c179e"
             ],
             [
              0.4444444444444444,
              "#bd3786"
             ],
             [
              0.5555555555555556,
              "#d8576b"
             ],
             [
              0.6666666666666666,
              "#ed7953"
             ],
             [
              0.7777777777777778,
              "#fb9f3a"
             ],
             [
              0.8888888888888888,
              "#fdca26"
             ],
             [
              1,
              "#f0f921"
             ]
            ],
            "type": "contour"
           }
          ],
          "contourcarpet": [
           {
            "colorbar": {
             "outlinewidth": 0,
             "ticks": ""
            },
            "type": "contourcarpet"
           }
          ],
          "heatmap": [
           {
            "colorbar": {
             "outlinewidth": 0,
             "ticks": ""
            },
            "colorscale": [
             [
              0,
              "#0d0887"
             ],
             [
              0.1111111111111111,
              "#46039f"
             ],
             [
              0.2222222222222222,
              "#7201a8"
             ],
             [
              0.3333333333333333,
              "#9c179e"
             ],
             [
              0.4444444444444444,
              "#bd3786"
             ],
             [
              0.5555555555555556,
              "#d8576b"
             ],
             [
              0.6666666666666666,
              "#ed7953"
             ],
             [
              0.7777777777777778,
              "#fb9f3a"
             ],
             [
              0.8888888888888888,
              "#fdca26"
             ],
             [
              1,
              "#f0f921"
             ]
            ],
            "type": "heatmap"
           }
          ],
          "heatmapgl": [
           {
            "colorbar": {
             "outlinewidth": 0,
             "ticks": ""
            },
            "colorscale": [
             [
              0,
              "#0d0887"
             ],
             [
              0.1111111111111111,
              "#46039f"
             ],
             [
              0.2222222222222222,
              "#7201a8"
             ],
             [
              0.3333333333333333,
              "#9c179e"
             ],
             [
              0.4444444444444444,
              "#bd3786"
             ],
             [
              0.5555555555555556,
              "#d8576b"
             ],
             [
              0.6666666666666666,
              "#ed7953"
             ],
             [
              0.7777777777777778,
              "#fb9f3a"
             ],
             [
              0.8888888888888888,
              "#fdca26"
             ],
             [
              1,
              "#f0f921"
             ]
            ],
            "type": "heatmapgl"
           }
          ],
          "histogram": [
           {
            "marker": {
             "pattern": {
              "fillmode": "overlay",
              "size": 10,
              "solidity": 0.2
             }
            },
            "type": "histogram"
           }
          ],
          "histogram2d": [
           {
            "colorbar": {
             "outlinewidth": 0,
             "ticks": ""
            },
            "colorscale": [
             [
              0,
              "#0d0887"
             ],
             [
              0.1111111111111111,
              "#46039f"
             ],
             [
              0.2222222222222222,
              "#7201a8"
             ],
             [
              0.3333333333333333,
              "#9c179e"
             ],
             [
              0.4444444444444444,
              "#bd3786"
             ],
             [
              0.5555555555555556,
              "#d8576b"
             ],
             [
              0.6666666666666666,
              "#ed7953"
             ],
             [
              0.7777777777777778,
              "#fb9f3a"
             ],
             [
              0.8888888888888888,
              "#fdca26"
             ],
             [
              1,
              "#f0f921"
             ]
            ],
            "type": "histogram2d"
           }
          ],
          "histogram2dcontour": [
           {
            "colorbar": {
             "outlinewidth": 0,
             "ticks": ""
            },
            "colorscale": [
             [
              0,
              "#0d0887"
             ],
             [
              0.1111111111111111,
              "#46039f"
             ],
             [
              0.2222222222222222,
              "#7201a8"
             ],
             [
              0.3333333333333333,
              "#9c179e"
             ],
             [
              0.4444444444444444,
              "#bd3786"
             ],
             [
              0.5555555555555556,
              "#d8576b"
             ],
             [
              0.6666666666666666,
              "#ed7953"
             ],
             [
              0.7777777777777778,
              "#fb9f3a"
             ],
             [
              0.8888888888888888,
              "#fdca26"
             ],
             [
              1,
              "#f0f921"
             ]
            ],
            "type": "histogram2dcontour"
           }
          ],
          "mesh3d": [
           {
            "colorbar": {
             "outlinewidth": 0,
             "ticks": ""
            },
            "type": "mesh3d"
           }
          ],
          "parcoords": [
           {
            "line": {
             "colorbar": {
              "outlinewidth": 0,
              "ticks": ""
             }
            },
            "type": "parcoords"
           }
          ],
          "pie": [
           {
            "automargin": true,
            "type": "pie"
           }
          ],
          "scatter": [
           {
            "fillpattern": {
             "fillmode": "overlay",
             "size": 10,
             "solidity": 0.2
            },
            "type": "scatter"
           }
          ],
          "scatter3d": [
           {
            "line": {
             "colorbar": {
              "outlinewidth": 0,
              "ticks": ""
             }
            },
            "marker": {
             "colorbar": {
              "outlinewidth": 0,
              "ticks": ""
             }
            },
            "type": "scatter3d"
           }
          ],
          "scattercarpet": [
           {
            "marker": {
             "colorbar": {
              "outlinewidth": 0,
              "ticks": ""
             }
            },
            "type": "scattercarpet"
           }
          ],
          "scattergeo": [
           {
            "marker": {
             "colorbar": {
              "outlinewidth": 0,
              "ticks": ""
             }
            },
            "type": "scattergeo"
           }
          ],
          "scattergl": [
           {
            "marker": {
             "colorbar": {
              "outlinewidth": 0,
              "ticks": ""
             }
            },
            "type": "scattergl"
           }
          ],
          "scattermapbox": [
           {
            "marker": {
             "colorbar": {
              "outlinewidth": 0,
              "ticks": ""
             }
            },
            "type": "scattermapbox"
           }
          ],
          "scatterpolar": [
           {
            "marker": {
             "colorbar": {
              "outlinewidth": 0,
              "ticks": ""
             }
            },
            "type": "scatterpolar"
           }
          ],
          "scatterpolargl": [
           {
            "marker": {
             "colorbar": {
              "outlinewidth": 0,
              "ticks": ""
             }
            },
            "type": "scatterpolargl"
           }
          ],
          "scatterternary": [
           {
            "marker": {
             "colorbar": {
              "outlinewidth": 0,
              "ticks": ""
             }
            },
            "type": "scatterternary"
           }
          ],
          "surface": [
           {
            "colorbar": {
             "outlinewidth": 0,
             "ticks": ""
            },
            "colorscale": [
             [
              0,
              "#0d0887"
             ],
             [
              0.1111111111111111,
              "#46039f"
             ],
             [
              0.2222222222222222,
              "#7201a8"
             ],
             [
              0.3333333333333333,
              "#9c179e"
             ],
             [
              0.4444444444444444,
              "#bd3786"
             ],
             [
              0.5555555555555556,
              "#d8576b"
             ],
             [
              0.6666666666666666,
              "#ed7953"
             ],
             [
              0.7777777777777778,
              "#fb9f3a"
             ],
             [
              0.8888888888888888,
              "#fdca26"
             ],
             [
              1,
              "#f0f921"
             ]
            ],
            "type": "surface"
           }
          ],
          "table": [
           {
            "cells": {
             "fill": {
              "color": "#EBF0F8"
             },
             "line": {
              "color": "white"
             }
            },
            "header": {
             "fill": {
              "color": "#C8D4E3"
             },
             "line": {
              "color": "white"
             }
            },
            "type": "table"
           }
          ]
         },
         "layout": {
          "annotationdefaults": {
           "arrowcolor": "#2a3f5f",
           "arrowhead": 0,
           "arrowwidth": 1
          },
          "autotypenumbers": "strict",
          "coloraxis": {
           "colorbar": {
            "outlinewidth": 0,
            "ticks": ""
           }
          },
          "colorscale": {
           "diverging": [
            [
             0,
             "#8e0152"
            ],
            [
             0.1,
             "#c51b7d"
            ],
            [
             0.2,
             "#de77ae"
            ],
            [
             0.3,
             "#f1b6da"
            ],
            [
             0.4,
             "#fde0ef"
            ],
            [
             0.5,
             "#f7f7f7"
            ],
            [
             0.6,
             "#e6f5d0"
            ],
            [
             0.7,
             "#b8e186"
            ],
            [
             0.8,
             "#7fbc41"
            ],
            [
             0.9,
             "#4d9221"
            ],
            [
             1,
             "#276419"
            ]
           ],
           "sequential": [
            [
             0,
             "#0d0887"
            ],
            [
             0.1111111111111111,
             "#46039f"
            ],
            [
             0.2222222222222222,
             "#7201a8"
            ],
            [
             0.3333333333333333,
             "#9c179e"
            ],
            [
             0.4444444444444444,
             "#bd3786"
            ],
            [
             0.5555555555555556,
             "#d8576b"
            ],
            [
             0.6666666666666666,
             "#ed7953"
            ],
            [
             0.7777777777777778,
             "#fb9f3a"
            ],
            [
             0.8888888888888888,
             "#fdca26"
            ],
            [
             1,
             "#f0f921"
            ]
           ],
           "sequentialminus": [
            [
             0,
             "#0d0887"
            ],
            [
             0.1111111111111111,
             "#46039f"
            ],
            [
             0.2222222222222222,
             "#7201a8"
            ],
            [
             0.3333333333333333,
             "#9c179e"
            ],
            [
             0.4444444444444444,
             "#bd3786"
            ],
            [
             0.5555555555555556,
             "#d8576b"
            ],
            [
             0.6666666666666666,
             "#ed7953"
            ],
            [
             0.7777777777777778,
             "#fb9f3a"
            ],
            [
             0.8888888888888888,
             "#fdca26"
            ],
            [
             1,
             "#f0f921"
            ]
           ]
          },
          "colorway": [
           "#636efa",
           "#EF553B",
           "#00cc96",
           "#ab63fa",
           "#FFA15A",
           "#19d3f3",
           "#FF6692",
           "#B6E880",
           "#FF97FF",
           "#FECB52"
          ],
          "font": {
           "color": "#2a3f5f"
          },
          "geo": {
           "bgcolor": "white",
           "lakecolor": "white",
           "landcolor": "#E5ECF6",
           "showlakes": true,
           "showland": true,
           "subunitcolor": "white"
          },
          "hoverlabel": {
           "align": "left"
          },
          "hovermode": "closest",
          "mapbox": {
           "style": "light"
          },
          "paper_bgcolor": "white",
          "plot_bgcolor": "#E5ECF6",
          "polar": {
           "angularaxis": {
            "gridcolor": "white",
            "linecolor": "white",
            "ticks": ""
           },
           "bgcolor": "#E5ECF6",
           "radialaxis": {
            "gridcolor": "white",
            "linecolor": "white",
            "ticks": ""
           }
          },
          "scene": {
           "xaxis": {
            "backgroundcolor": "#E5ECF6",
            "gridcolor": "white",
            "gridwidth": 2,
            "linecolor": "white",
            "showbackground": true,
            "ticks": "",
            "zerolinecolor": "white"
           },
           "yaxis": {
            "backgroundcolor": "#E5ECF6",
            "gridcolor": "white",
            "gridwidth": 2,
            "linecolor": "white",
            "showbackground": true,
            "ticks": "",
            "zerolinecolor": "white"
           },
           "zaxis": {
            "backgroundcolor": "#E5ECF6",
            "gridcolor": "white",
            "gridwidth": 2,
            "linecolor": "white",
            "showbackground": true,
            "ticks": "",
            "zerolinecolor": "white"
           }
          },
          "shapedefaults": {
           "line": {
            "color": "#2a3f5f"
           }
          },
          "ternary": {
           "aaxis": {
            "gridcolor": "white",
            "linecolor": "white",
            "ticks": ""
           },
           "baxis": {
            "gridcolor": "white",
            "linecolor": "white",
            "ticks": ""
           },
           "bgcolor": "#E5ECF6",
           "caxis": {
            "gridcolor": "white",
            "linecolor": "white",
            "ticks": ""
           }
          },
          "title": {
           "x": 0.05
          },
          "xaxis": {
           "automargin": true,
           "gridcolor": "white",
           "linecolor": "white",
           "ticks": "",
           "title": {
            "standoff": 15
           },
           "zerolinecolor": "white",
           "zerolinewidth": 2
          },
          "yaxis": {
           "automargin": true,
           "gridcolor": "white",
           "linecolor": "white",
           "ticks": "",
           "title": {
            "standoff": 15
           },
           "zerolinecolor": "white",
           "zerolinewidth": 2
          }
         }
        },
        "title": {
         "text": "ACCU Position (PnL and Delta)",
         "x": 0.5,
         "xanchor": "center"
        },
        "xaxis": {
         "anchor": "y",
         "domain": [
          0,
          0.45
         ],
         "title": {
          "text": "Price"
         }
        },
        "xaxis2": {
         "anchor": "y2",
         "domain": [
          0.55,
          1
         ],
         "title": {
          "text": "Price"
         }
        },
        "yaxis": {
         "anchor": "x",
         "domain": [
          0,
          1
         ],
         "title": {
          "text": "PnL"
         }
        },
        "yaxis2": {
         "anchor": "x2",
         "domain": [
          0,
          1
         ],
         "title": {
          "text": "Delta"
         }
        }
       }
      },
      "text/html": [
       "<div>                            <div id=\"791f9c7f-303c-49ec-96f7-98a344387033\" class=\"plotly-graph-div\" style=\"height:525px; width:100%;\"></div>            <script type=\"text/javascript\">                require([\"plotly\"], function(Plotly) {                    window.PLOTLYENV=window.PLOTLYENV || {};                                    if (document.getElementById(\"791f9c7f-303c-49ec-96f7-98a344387033\")) {                    Plotly.newPlot(                        \"791f9c7f-303c-49ec-96f7-98a344387033\",                        [{\"name\":\"today\",\"x\":[20,21,22,23,24,25,26,27,28,29,30,31,32,33,34,35,36,37,38,39,40,41,42,43,44,45],\"y\":[-581009.1281535362,-494849.28958067845,-413994.9978076096,-339500.7154204704,-272071.62021060893,-212158.42824776203,-160106.41212462512,-116133.85092425236,-80062.85636508369,-51003.26901005073,-27300.69594262795,-6872.413122178723,12240.425795548712,31408.045699583832,51237.311784542806,71691.68694405165,92375.93011151557,112836.9436641325,132786.78977075464,152218.60258116107,171426.95273778238,190959.47996120743,211528.05479716044,233904.97911987768,258825.89689783868,286915.59681993444],\"type\":\"scatter\",\"xaxis\":\"x\",\"yaxis\":\"y\"},{\"name\":\"today\",\"x\":[20,21,22,23,24,25,26,27,28,29,30,31,32,33,34,35,36,37,38,39,40,41,42,43,44,45],\"y\":[89859.27474808412,85183.45224752299,79293.5488598292,72525.28053604029,65206.7917523349,57507.804832161564,49500.66350663355,41413.811648367024,33821.19047199691,27525.67051146608,23182.496345542684,20954.67283738211,20448.126610564286,20931.75756595702,21661.419041551853,22122.081395662237,22112.97675956256,21705.030004007225,21139.110117502205,20720.347756697796,20735.03002202697,21396.314454443214,22817.072498330133,25006.50365895377,27886.037406729607,31317.93109367627],\"type\":\"scatter\",\"xaxis\":\"x2\",\"yaxis\":\"y2\"},{\"name\":\"EoM\",\"x\":[20,21,22,23,24,25,26,27,28,29,30,31,32,33,34,35,36,37,38,39,40,41,42,43,44,45],\"y\":[-580138.0637994763,-493556.92713268986,-412274.49651603075,-337393.930334482,-269614.74615681986,-209339.47730441295,-156907.5219687387,-112654.53832669821,-76605.88538653046,-48003.623046406676,-25120.032456330744,-5611.492999560646,12778.465340309827,31599.530348980392,51462.10260370109,72199.80725826405,93237.37174619045,113959.57625995454,133967.726464663,153202.50364590285,171959.1169653309,190829.4328295287,210600.3338630644,232133.26868107123,256248.604392202,283635.4660510876],\"type\":\"scatter\",\"xaxis\":\"x\",\"yaxis\":\"y\"},{\"name\":\"EoM\",\"x\":[20,21,22,23,24,25,26,27,28,29,30,31,32,33,34,35,36,37,38,39,40,41,42,43,44,45],\"y\":[90255.03019360144,85618.95768117206,79705.11410343599,72887.08215522153,65554.56642821021,57886.61337470794,49861.315221352925,41576.8411338891,33588.56563095748,26855.98479795061,22260.336781683312,20089.548226454062,19898.095793355445,20788.130751392433,21848.233457028284,22470.491397881284,22443.40733258624,21878.19201853402,21073.665584961214,20391.73186742897,20167.499995769445,20651.95235868766,21981.012412569115,24168.729450935818,27123.269654383803,30680.60518707346],\"type\":\"scatter\",\"xaxis\":\"x2\",\"yaxis\":\"y2\"},{\"name\":\"3 months\",\"x\":[20,21,22,23,24,25,26,27,28,29,30,31,32,33,34,35,36,37,38,39,40,41,42,43,44,45],\"y\":[-558711.5141807704,-462835.5926385749,-366959.6710963793,-271083.7495541837,-175207.8280119883,-79331.90646979271,-58455.98492759699,-37580.06338540162,-16704.1418432059,4171.779698989383,-24952.298758814795,-54076.37721661931,-8200.455674423603,62675.465867772116,133551.38740996737,204427.3089521631,275303.2304943589,308679.15203655395,304555.0735787499,300430.9951209455,296306.9166631412,242182.8382053363,188058.75974753208,133934.6812897278,117310.60283192364,138186.524374119],\"type\":\"scatter\",\"xaxis\":\"x\",\"yaxis\":\"y\"},{\"name\":\"3 months\",\"x\":[20,21,22,23,24,25,26,27,28,29,30,31,32,33,34,35,36,37,38,39,40,41,42,43,44,45],\"y\":[97030.0,97030.0,97030.0,97030.0,97030.0,22030.0,22030.0,22030.0,22030.0,-27970.0,-27970.0,47030.0,72030.0,72030.0,72030.0,72030.0,72030.0,-2970.0,-2970.0,-2970.0,-2970.0,-52970.0,-52970.0,-52970.0,22030.0,22030.0],\"type\":\"scatter\",\"xaxis\":\"x2\",\"yaxis\":\"y2\"},{\"name\":\"6 months\",\"x\":[20,21,22,23,24,25,26,27,28,29,30,31,32,33,34,35,36,37,38,39,40,41,42,43,44,45],\"y\":[-546994.2467093106,-450733.64228589425,-354473.0378624775,-258212.43343906093,-161951.8290156445,-65691.22459222795,-44430.62016881141,-23170.015745394747,-1909.411321978434,19351.19310143814,-9388.202475145328,-38127.59805172843,8133.006371688214,79393.61079510453,150654.2152185213,221914.81964193785,293175.4240653544,326936.02848877106,323196.6329121874,319457.2373356044,315717.8417590207,261978.44618243707,208239.05060585355,154499.65502927022,138260.25945268676,159520.8638761033],\"type\":\"scatter\",\"xaxis\":\"x\",\"yaxis\":\"y\"},{\"name\":\"6 months\",\"x\":[20,21,22,23,24,25,26,27,28,29,30,31,32,33,34,35,36,37,38,39,40,41,42,43,44,45],\"y\":[97030.0,97030.0,97030.0,97030.0,97030.0,22030.0,22030.0,22030.0,22030.0,-27970.0,-27970.0,47030.0,72030.0,72030.0,72030.0,72030.0,72030.0,-2970.0,-2970.0,-2970.0,-2970.0,-52970.0,-52970.0,-52970.0,22030.0,22030.0],\"type\":\"scatter\",\"xaxis\":\"x2\",\"yaxis\":\"y2\"},{\"name\":\"EoY\",\"x\":[20,21,22,23,24,25,26,27,28,29,30,31,32,33,34,35,36,37,38,39,40,41,42,43,44,45],\"y\":[-576106.4509166431,-487194.85899867106,-403455.97516085097,-326499.90119569085,-257297.98543107294,-195880.82679611898,-141533.2433626189,-93990.1960753965,-55132.46751434507,-28001.171432749397,-12211.198051428764,-1928.2080501047049,10071.934578673492,27513.273297192092,49835.53577153242,74498.67861111122,99148.26472214039,122326.79899872292,143323.8199128821,161923.52927798644,178299.6288783197,193045.03169927874,207262.1655887115,222566.57913103187,240832.9905659965,263692.5925423299],\"type\":\"scatter\",\"xaxis\":\"x\",\"yaxis\":\"y\"},{\"name\":\"EoY\",\"x\":[20,21,22,23,24,25,26,27,28,29,30,31,32,33,34,35,36,37,38,39,40,41,42,43,44,45],\"y\":[92369.36770719847,88095.6914834326,82049.53190852425,74639.42240119721,66705.43044343834,59211.94633150497,52509.75288193574,45197.4909033334,34857.88338887058,22367.33172858879,13215.793408637212,11594.168973221342,15979.324965448577,21706.28107860771,25420.343536847504,26448.394323428874,25556.71807612275,23630.907029023692,21273.168075425696,18898.916372264073,16894.591623956294,15723.733247131815,15928.337700867829,17946.467196684724,21811.317371922327,27007.40241267273],\"type\":\"scatter\",\"xaxis\":\"x2\",\"yaxis\":\"y2\"},{\"name\":\"OneYear\",\"x\":[20,21,22,23,24,25,26,27,28,29,30,31,32,33,34,35,36,37,38,39,40,41,42,43,44,45],\"y\":[-528043.6548299207,-431079.32521408226,-334114.9955982438,-237150.6659824053,-140186.33636656706,-43222.006750728586,-21257.677134890226,706.6524809482507,22670.98209678661,44635.311712625116,16599.64132846358,-11436.029055698062,35528.3005601404,107492.63017597876,179456.95979181724,251421.2894076556,323385.6190234941,357849.94863933243,354814.2782551709,351778.60787100927,348742.93748684775,295707.26710268616,242671.5967185247,189635.92633436294,174100.25595020154,196064.58556603978],\"type\":\"scatter\",\"xaxis\":\"x\",\"yaxis\":\"y\"},{\"name\":\"OneYear\",\"x\":[20,21,22,23,24,25,26,27,28,29,30,31,32,33,34,35,36,37,38,39,40,41,42,43,44,45],\"y\":[97030.0,97030.0,97030.0,97030.0,97030.0,22030.0,22030.0,22030.0,22030.0,-27970.0,-27970.0,47030.0,72030.0,72030.0,72030.0,72030.0,72030.0,-2970.0,-2970.0,-2970.0,-2970.0,-52970.0,-52970.0,-52970.0,22030.0,22030.0],\"type\":\"scatter\",\"xaxis\":\"x2\",\"yaxis\":\"y2\"}],                        {\"template\":{\"data\":{\"histogram2dcontour\":[{\"type\":\"histogram2dcontour\",\"colorbar\":{\"outlinewidth\":0,\"ticks\":\"\"},\"colorscale\":[[0.0,\"#0d0887\"],[0.1111111111111111,\"#46039f\"],[0.2222222222222222,\"#7201a8\"],[0.3333333333333333,\"#9c179e\"],[0.4444444444444444,\"#bd3786\"],[0.5555555555555556,\"#d8576b\"],[0.6666666666666666,\"#ed7953\"],[0.7777777777777778,\"#fb9f3a\"],[0.8888888888888888,\"#fdca26\"],[1.0,\"#f0f921\"]]}],\"choropleth\":[{\"type\":\"choropleth\",\"colorbar\":{\"outlinewidth\":0,\"ticks\":\"\"}}],\"histogram2d\":[{\"type\":\"histogram2d\",\"colorbar\":{\"outlinewidth\":0,\"ticks\":\"\"},\"colorscale\":[[0.0,\"#0d0887\"],[0.1111111111111111,\"#46039f\"],[0.2222222222222222,\"#7201a8\"],[0.3333333333333333,\"#9c179e\"],[0.4444444444444444,\"#bd3786\"],[0.5555555555555556,\"#d8576b\"],[0.6666666666666666,\"#ed7953\"],[0.7777777777777778,\"#fb9f3a\"],[0.8888888888888888,\"#fdca26\"],[1.0,\"#f0f921\"]]}],\"heatmap\":[{\"type\":\"heatmap\",\"colorbar\":{\"outlinewidth\":0,\"ticks\":\"\"},\"colorscale\":[[0.0,\"#0d0887\"],[0.1111111111111111,\"#46039f\"],[0.2222222222222222,\"#7201a8\"],[0.3333333333333333,\"#9c179e\"],[0.4444444444444444,\"#bd3786\"],[0.5555555555555556,\"#d8576b\"],[0.6666666666666666,\"#ed7953\"],[0.7777777777777778,\"#fb9f3a\"],[0.8888888888888888,\"#fdca26\"],[1.0,\"#f0f921\"]]}],\"heatmapgl\":[{\"type\":\"heatmapgl\",\"colorbar\":{\"outlinewidth\":0,\"ticks\":\"\"},\"colorscale\":[[0.0,\"#0d0887\"],[0.1111111111111111,\"#46039f\"],[0.2222222222222222,\"#7201a8\"],[0.3333333333333333,\"#9c179e\"],[0.4444444444444444,\"#bd3786\"],[0.5555555555555556,\"#d8576b\"],[0.6666666666666666,\"#ed7953\"],[0.7777777777777778,\"#fb9f3a\"],[0.8888888888888888,\"#fdca26\"],[1.0,\"#f0f921\"]]}],\"contourcarpet\":[{\"type\":\"contourcarpet\",\"colorbar\":{\"outlinewidth\":0,\"ticks\":\"\"}}],\"contour\":[{\"type\":\"contour\",\"colorbar\":{\"outlinewidth\":0,\"ticks\":\"\"},\"colorscale\":[[0.0,\"#0d0887\"],[0.1111111111111111,\"#46039f\"],[0.2222222222222222,\"#7201a8\"],[0.3333333333333333,\"#9c179e\"],[0.4444444444444444,\"#bd3786\"],[0.5555555555555556,\"#d8576b\"],[0.6666666666666666,\"#ed7953\"],[0.7777777777777778,\"#fb9f3a\"],[0.8888888888888888,\"#fdca26\"],[1.0,\"#f0f921\"]]}],\"surface\":[{\"type\":\"surface\",\"colorbar\":{\"outlinewidth\":0,\"ticks\":\"\"},\"colorscale\":[[0.0,\"#0d0887\"],[0.1111111111111111,\"#46039f\"],[0.2222222222222222,\"#7201a8\"],[0.3333333333333333,\"#9c179e\"],[0.4444444444444444,\"#bd3786\"],[0.5555555555555556,\"#d8576b\"],[0.6666666666666666,\"#ed7953\"],[0.7777777777777778,\"#fb9f3a\"],[0.8888888888888888,\"#fdca26\"],[1.0,\"#f0f921\"]]}],\"mesh3d\":[{\"type\":\"mesh3d\",\"colorbar\":{\"outlinewidth\":0,\"ticks\":\"\"}}],\"scatter\":[{\"fillpattern\":{\"fillmode\":\"overlay\",\"size\":10,\"solidity\":0.2},\"type\":\"scatter\"}],\"parcoords\":[{\"type\":\"parcoords\",\"line\":{\"colorbar\":{\"outlinewidth\":0,\"ticks\":\"\"}}}],\"scatterpolargl\":[{\"type\":\"scatterpolargl\",\"marker\":{\"colorbar\":{\"outlinewidth\":0,\"ticks\":\"\"}}}],\"bar\":[{\"error_x\":{\"color\":\"#2a3f5f\"},\"error_y\":{\"color\":\"#2a3f5f\"},\"marker\":{\"line\":{\"color\":\"#E5ECF6\",\"width\":0.5},\"pattern\":{\"fillmode\":\"overlay\",\"size\":10,\"solidity\":0.2}},\"type\":\"bar\"}],\"scattergeo\":[{\"type\":\"scattergeo\",\"marker\":{\"colorbar\":{\"outlinewidth\":0,\"ticks\":\"\"}}}],\"scatterpolar\":[{\"type\":\"scatterpolar\",\"marker\":{\"colorbar\":{\"outlinewidth\":0,\"ticks\":\"\"}}}],\"histogram\":[{\"marker\":{\"pattern\":{\"fillmode\":\"overlay\",\"size\":10,\"solidity\":0.2}},\"type\":\"histogram\"}],\"scattergl\":[{\"type\":\"scattergl\",\"marker\":{\"colorbar\":{\"outlinewidth\":0,\"ticks\":\"\"}}}],\"scatter3d\":[{\"type\":\"scatter3d\",\"line\":{\"colorbar\":{\"outlinewidth\":0,\"ticks\":\"\"}},\"marker\":{\"colorbar\":{\"outlinewidth\":0,\"ticks\":\"\"}}}],\"scattermapbox\":[{\"type\":\"scattermapbox\",\"marker\":{\"colorbar\":{\"outlinewidth\":0,\"ticks\":\"\"}}}],\"scatterternary\":[{\"type\":\"scatterternary\",\"marker\":{\"colorbar\":{\"outlinewidth\":0,\"ticks\":\"\"}}}],\"scattercarpet\":[{\"type\":\"scattercarpet\",\"marker\":{\"colorbar\":{\"outlinewidth\":0,\"ticks\":\"\"}}}],\"carpet\":[{\"aaxis\":{\"endlinecolor\":\"#2a3f5f\",\"gridcolor\":\"white\",\"linecolor\":\"white\",\"minorgridcolor\":\"white\",\"startlinecolor\":\"#2a3f5f\"},\"baxis\":{\"endlinecolor\":\"#2a3f5f\",\"gridcolor\":\"white\",\"linecolor\":\"white\",\"minorgridcolor\":\"white\",\"startlinecolor\":\"#2a3f5f\"},\"type\":\"carpet\"}],\"table\":[{\"cells\":{\"fill\":{\"color\":\"#EBF0F8\"},\"line\":{\"color\":\"white\"}},\"header\":{\"fill\":{\"color\":\"#C8D4E3\"},\"line\":{\"color\":\"white\"}},\"type\":\"table\"}],\"barpolar\":[{\"marker\":{\"line\":{\"color\":\"#E5ECF6\",\"width\":0.5},\"pattern\":{\"fillmode\":\"overlay\",\"size\":10,\"solidity\":0.2}},\"type\":\"barpolar\"}],\"pie\":[{\"automargin\":true,\"type\":\"pie\"}]},\"layout\":{\"autotypenumbers\":\"strict\",\"colorway\":[\"#636efa\",\"#EF553B\",\"#00cc96\",\"#ab63fa\",\"#FFA15A\",\"#19d3f3\",\"#FF6692\",\"#B6E880\",\"#FF97FF\",\"#FECB52\"],\"font\":{\"color\":\"#2a3f5f\"},\"hovermode\":\"closest\",\"hoverlabel\":{\"align\":\"left\"},\"paper_bgcolor\":\"white\",\"plot_bgcolor\":\"#E5ECF6\",\"polar\":{\"bgcolor\":\"#E5ECF6\",\"angularaxis\":{\"gridcolor\":\"white\",\"linecolor\":\"white\",\"ticks\":\"\"},\"radialaxis\":{\"gridcolor\":\"white\",\"linecolor\":\"white\",\"ticks\":\"\"}},\"ternary\":{\"bgcolor\":\"#E5ECF6\",\"aaxis\":{\"gridcolor\":\"white\",\"linecolor\":\"white\",\"ticks\":\"\"},\"baxis\":{\"gridcolor\":\"white\",\"linecolor\":\"white\",\"ticks\":\"\"},\"caxis\":{\"gridcolor\":\"white\",\"linecolor\":\"white\",\"ticks\":\"\"}},\"coloraxis\":{\"colorbar\":{\"outlinewidth\":0,\"ticks\":\"\"}},\"colorscale\":{\"sequential\":[[0.0,\"#0d0887\"],[0.1111111111111111,\"#46039f\"],[0.2222222222222222,\"#7201a8\"],[0.3333333333333333,\"#9c179e\"],[0.4444444444444444,\"#bd3786\"],[0.5555555555555556,\"#d8576b\"],[0.6666666666666666,\"#ed7953\"],[0.7777777777777778,\"#fb9f3a\"],[0.8888888888888888,\"#fdca26\"],[1.0,\"#f0f921\"]],\"sequentialminus\":[[0.0,\"#0d0887\"],[0.1111111111111111,\"#46039f\"],[0.2222222222222222,\"#7201a8\"],[0.3333333333333333,\"#9c179e\"],[0.4444444444444444,\"#bd3786\"],[0.5555555555555556,\"#d8576b\"],[0.6666666666666666,\"#ed7953\"],[0.7777777777777778,\"#fb9f3a\"],[0.8888888888888888,\"#fdca26\"],[1.0,\"#f0f921\"]],\"diverging\":[[0,\"#8e0152\"],[0.1,\"#c51b7d\"],[0.2,\"#de77ae\"],[0.3,\"#f1b6da\"],[0.4,\"#fde0ef\"],[0.5,\"#f7f7f7\"],[0.6,\"#e6f5d0\"],[0.7,\"#b8e186\"],[0.8,\"#7fbc41\"],[0.9,\"#4d9221\"],[1,\"#276419\"]]},\"xaxis\":{\"gridcolor\":\"white\",\"linecolor\":\"white\",\"ticks\":\"\",\"title\":{\"standoff\":15},\"zerolinecolor\":\"white\",\"automargin\":true,\"zerolinewidth\":2},\"yaxis\":{\"gridcolor\":\"white\",\"linecolor\":\"white\",\"ticks\":\"\",\"title\":{\"standoff\":15},\"zerolinecolor\":\"white\",\"automargin\":true,\"zerolinewidth\":2},\"scene\":{\"xaxis\":{\"backgroundcolor\":\"#E5ECF6\",\"gridcolor\":\"white\",\"linecolor\":\"white\",\"showbackground\":true,\"ticks\":\"\",\"zerolinecolor\":\"white\",\"gridwidth\":2},\"yaxis\":{\"backgroundcolor\":\"#E5ECF6\",\"gridcolor\":\"white\",\"linecolor\":\"white\",\"showbackground\":true,\"ticks\":\"\",\"zerolinecolor\":\"white\",\"gridwidth\":2},\"zaxis\":{\"backgroundcolor\":\"#E5ECF6\",\"gridcolor\":\"white\",\"linecolor\":\"white\",\"showbackground\":true,\"ticks\":\"\",\"zerolinecolor\":\"white\",\"gridwidth\":2}},\"shapedefaults\":{\"line\":{\"color\":\"#2a3f5f\"}},\"annotationdefaults\":{\"arrowcolor\":\"#2a3f5f\",\"arrowhead\":0,\"arrowwidth\":1},\"geo\":{\"bgcolor\":\"white\",\"landcolor\":\"#E5ECF6\",\"subunitcolor\":\"white\",\"showland\":true,\"showlakes\":true,\"lakecolor\":\"white\"},\"title\":{\"x\":0.05},\"mapbox\":{\"style\":\"light\"}}},\"xaxis\":{\"anchor\":\"y\",\"domain\":[0.0,0.45],\"title\":{\"text\":\"Price\"}},\"yaxis\":{\"anchor\":\"x\",\"domain\":[0.0,1.0],\"title\":{\"text\":\"PnL\"}},\"xaxis2\":{\"anchor\":\"y2\",\"domain\":[0.55,1.0],\"title\":{\"text\":\"Price\"}},\"yaxis2\":{\"anchor\":\"x2\",\"domain\":[0.0,1.0],\"title\":{\"text\":\"Delta\"}},\"title\":{\"text\":\"ACCU Position (PnL and Delta)\",\"x\":0.5,\"xanchor\":\"center\"},\"shapes\":[{\"line\":{\"color\":\"green\",\"dash\":\"dash\",\"width\":1},\"type\":\"line\",\"x0\":31.0,\"x1\":31.0,\"xref\":\"x\",\"y0\":0,\"y1\":1,\"yref\":\"y domain\"},{\"line\":{\"color\":\"green\",\"dash\":\"dash\",\"width\":1},\"type\":\"line\",\"x0\":31.0,\"x1\":31.0,\"xref\":\"x2\",\"y0\":0,\"y1\":1,\"yref\":\"y2 domain\"}]},                        {\"responsive\": true}                    ).then(function(){\n",
       "                            \n",
       "var gd = document.getElementById('791f9c7f-303c-49ec-96f7-98a344387033');\n",
       "var x = new MutationObserver(function (mutations, observer) {{\n",
       "        var display = window.getComputedStyle(gd).display;\n",
       "        if (!display || display === 'none') {{\n",
       "            console.log([gd, 'removed!']);\n",
       "            Plotly.purge(gd);\n",
       "            observer.disconnect();\n",
       "        }}\n",
       "}});\n",
       "\n",
       "// Listen for the removal of the full notebook cells\n",
       "var notebookContainer = gd.closest('#notebook-container');\n",
       "if (notebookContainer) {{\n",
       "    x.observe(notebookContainer, {childList: true});\n",
       "}}\n",
       "\n",
       "// Listen for the clearing of the current output cell\n",
       "var outputEl = gd.closest('.output');\n",
       "if (outputEl) {{\n",
       "    x.observe(outputEl, {childList: true});\n",
       "}}\n",
       "\n",
       "                        })                };                });            </script>        </div>"
      ]
     },
     "metadata": {},
     "output_type": "display_data"
    }
   ],
   "source": [
    "fig = make_subplots(rows=1, cols=2)\n",
    "for i in range(0,len(fig_d.data)):\n",
    "    fig.add_trace(fig_p.data[i], row=1, col=1)\n",
    "    fig.add_trace(fig_d.data[i], row=1, col=2)\n",
    "\n",
    "fig.update_layout(title={'text': 'ACCU Position (PnL and Delta)','x': 0.5,'xanchor': 'center'})\n",
    "\n",
    "fig.update_xaxes(title_text=\"Price\", row=1, col=1)\n",
    "fig.update_yaxes(title_text=\"PnL\", row=1, col=1)\n",
    "fig.update_xaxes(title_text=\"Price\", row=1, col=2)\n",
    "fig.update_yaxes(title_text=\"Delta\", row=1, col=2)\n",
    "\n",
    "fig.add_vline(x=current_spot, line_width=1, line_dash=\"dash\", line_color=\"green\")\n",
    "\n",
    "fig.show()"
   ]
  },
  {
   "cell_type": "code",
   "execution_count": 11,
   "id": "795643ae",
   "metadata": {},
   "outputs": [
    {
     "data": {
      "application/vnd.plotly.v1+json": {
       "config": {
        "plotlyServerURL": "https://plot.ly"
       },
       "data": [
        {
         "name": "today",
         "type": "scatter",
         "x": [
          20,
          21,
          22,
          23,
          24,
          25,
          26,
          27,
          28,
          29,
          30,
          31,
          32,
          33,
          34,
          35,
          36,
          37,
          38,
          39,
          40,
          41,
          42,
          43,
          44,
          45
         ],
         "xaxis": "x",
         "y": [
          392.6930795416783,
          600.1182409020024,
          811.0247226982536,
          1004.2139093627678,
          1182.7200849348774,
          1364.4351432044523,
          1544.1013994056082,
          1663.934723503653,
          1636.4643347046945,
          1411.7487498870173,
          1029.0136889821822,
          604.6770295530177,
          268.50800017662255,
          99.5231136091262,
          101.16919723521005,
          217.63580682722954,
          368.4215573169531,
          478.61337475277924,
          495.5831435453583,
          393.8986807500128,
          173.63741932679272,
          -144.39418499647968,
          -525.343679357565,
          -928.3944742945519,
          -1315.1002697343579,
          -1656.1652221682994
         ],
         "yaxis": "y"
        },
        {
         "name": "today",
         "type": "scatter",
         "x": [
          20,
          21,
          22,
          23,
          24,
          25,
          26,
          27,
          28,
          29,
          30,
          31,
          32,
          33,
          34,
          35,
          36,
          37,
          38,
          39,
          40,
          41,
          42,
          43,
          44,
          45
         ],
         "xaxis": "x2",
         "y": [
          -921.6401673159309,
          -1360.7727343019617,
          -1791.4995286450926,
          -2139.7448079134374,
          -2363.704817769815,
          -2461.7853315661173,
          -2447.2563780532273,
          -2318.6548020993987,
          -2063.9233072646334,
          -1697.2486155870847,
          -1286.2583146608686,
          -935.2115569565906,
          -734.5959812873939,
          -716.460016276033,
          -843.7524348153211,
          -1032.1199213670366,
          -1184.0988907725332,
          -1217.1385647829693,
          -1078.2595324125732,
          -747.3602008053758,
          -233.97800102450674,
          429.0711523300679,
          1193.697694831254,
          2005.402021982322,
          2811.8610634703978,
          3569.7268549291916
         ],
         "yaxis": "y2"
        },
        {
         "name": "EoM",
         "type": "scatter",
         "x": [
          20,
          21,
          22,
          23,
          24,
          25,
          26,
          27,
          28,
          29,
          30,
          31,
          32,
          33,
          34,
          35,
          36,
          37,
          38,
          39,
          40,
          41,
          42,
          43,
          44,
          45
         ],
         "xaxis": "x",
         "y": [
          384.1723992465385,
          598.0544694846761,
          815.4661894466459,
          1008.5537584632332,
          1179.4014383865542,
          1358.5318465797047,
          1558.5133582273324,
          1720.802560965068,
          1728.407312130508,
          1496.4560890857067,
          1057.970271084316,
          559.0301430616892,
          169.9920425301275,
          -7.576817987096774,
          25.7016397478028,
          194.41962854549593,
          398.18641345645847,
          549.7323197873907,
          591.2394926363615,
          495.8755166622864,
          264.11404860508674,
          -80.81008210666141,
          -498.7566874107856,
          -941.134172558961,
          -1361.2304980849908,
          -1723.627923433769
         ],
         "yaxis": "y"
        },
        {
         "name": "EoM",
         "type": "scatter",
         "x": [
          20,
          21,
          22,
          23,
          24,
          25,
          26,
          27,
          28,
          29,
          30,
          31,
          32,
          33,
          34,
          35,
          36,
          37,
          38,
          39,
          40,
          41,
          42,
          43,
          44,
          45
         ],
         "xaxis": "x2",
         "y": [
          -867.16397550899,
          -1303.798810264167,
          -1737.1669760130444,
          -2085.28599025432,
          -2299.3749145120346,
          -2380.8041213835522,
          -2355.0198522375736,
          -2228.201522042955,
          -1981.1427171572586,
          -1614.4014303674571,
          -1192.591974694451,
          -832.2442254559578,
          -639.5434254380684,
          -652.0570309995546,
          -825.5567775368595,
          -1063.145142695616,
          -1257.6054371340088,
          -1322.4243607432418,
          -1204.721785941717,
          -885.6519164153488,
          -375.73094353701526,
          291.17901913801416,
          1064.9602329565087,
          1887.8650774313105,
          2703.904535476906,
          3466.9518100012256
         ],
         "yaxis": "y2"
        },
        {
         "name": "3 months",
         "type": "scatter",
         "x": [
          20,
          21,
          22,
          23,
          24,
          25,
          26,
          27,
          28,
          29,
          30,
          31,
          32,
          33,
          34,
          35,
          36,
          37,
          38,
          39,
          40,
          41,
          42,
          43,
          44,
          45
         ],
         "xaxis": "x",
         "y": [
          0,
          0,
          0,
          0,
          0,
          0,
          0,
          0,
          0,
          0,
          0,
          0,
          0,
          0,
          0,
          0,
          0,
          0,
          0,
          0,
          0,
          0,
          0,
          0,
          0,
          0
         ],
         "yaxis": "y"
        },
        {
         "name": "3 months",
         "type": "scatter",
         "x": [
          20,
          21,
          22,
          23,
          24,
          25,
          26,
          27,
          28,
          29,
          30,
          31,
          32,
          33,
          34,
          35,
          36,
          37,
          38,
          39,
          40,
          41,
          42,
          43,
          44,
          45
         ],
         "xaxis": "x2",
         "y": [
          0,
          0,
          0,
          0,
          0,
          0,
          0,
          0,
          0,
          0,
          0,
          0,
          0,
          0,
          0,
          0,
          0,
          0,
          0,
          0,
          0,
          0,
          0,
          0,
          0,
          0
         ],
         "yaxis": "y2"
        },
        {
         "name": "6 months",
         "type": "scatter",
         "x": [
          20,
          21,
          22,
          23,
          24,
          25,
          26,
          27,
          28,
          29,
          30,
          31,
          32,
          33,
          34,
          35,
          36,
          37,
          38,
          39,
          40,
          41,
          42,
          43,
          44,
          45
         ],
         "xaxis": "x",
         "y": [
          0,
          0,
          0,
          0,
          0,
          0,
          0,
          0,
          0,
          0,
          0,
          0,
          0,
          0,
          0,
          0,
          0,
          0,
          0,
          0,
          0,
          0,
          0,
          0,
          0,
          0
         ],
         "yaxis": "y"
        },
        {
         "name": "6 months",
         "type": "scatter",
         "x": [
          20,
          21,
          22,
          23,
          24,
          25,
          26,
          27,
          28,
          29,
          30,
          31,
          32,
          33,
          34,
          35,
          36,
          37,
          38,
          39,
          40,
          41,
          42,
          43,
          44,
          45
         ],
         "xaxis": "x2",
         "y": [
          0,
          0,
          0,
          0,
          0,
          0,
          0,
          0,
          0,
          0,
          0,
          0,
          0,
          0,
          0,
          0,
          0,
          0,
          0,
          0,
          0,
          0,
          0,
          0,
          0,
          0
         ],
         "yaxis": "y2"
        },
        {
         "name": "EoY",
         "type": "scatter",
         "x": [
          20,
          21,
          22,
          23,
          24,
          25,
          26,
          27,
          28,
          29,
          30,
          31,
          32,
          33,
          34,
          35,
          36,
          37,
          38,
          39,
          40,
          41,
          42,
          43,
          44,
          45
         ],
         "xaxis": "x",
         "y": [
          321.90421949500194,
          574.4765978197387,
          856.7265565134305,
          1098.2874289369142,
          1227.8953295696208,
          1229.3706329740958,
          1273.5009128439274,
          1753.4672377824218,
          2622.032450129594,
          2825.1870082006767,
          1624.061865680468,
          -153.83876723364182,
          -1188.5675263197772,
          -1097.9634177934731,
          -405.1456334670969,
          293.8473852199828,
          772.5361971277409,
          1051.8032603828847,
          1185.6399554328502,
          1183.5721186140086,
          1006.2846493422128,
          580.8086436931501,
          -139.85519736621927,
          -1077.3514835217738,
          -1994.1832850127983,
          -2616.8194964948957
         ],
         "yaxis": "y"
        },
        {
         "name": "EoY",
         "type": "scatter",
         "x": [
          20,
          21,
          22,
          23,
          24,
          25,
          26,
          27,
          28,
          29,
          30,
          31,
          32,
          33,
          34,
          35,
          36,
          37,
          38,
          39,
          40,
          41,
          42,
          43,
          44,
          45
         ],
         "xaxis": "x2",
         "y": [
          -582.2290465382825,
          -990.7451843631778,
          -1446.6331754100295,
          -1838.6699155889182,
          -2054.3919782863986,
          -2034.0884971794412,
          -1824.5331914054448,
          -1582.30087734545,
          -1394.429167602325,
          -1117.5926833272151,
          -659.0828079273267,
          -245.9380369672973,
          -168.67380893312998,
          -461.49892869705127,
          -931.0844272228637,
          -1368.0129966020131,
          -1660.760919674854,
          -1773.2441172964627,
          -1697.352618953193,
          -1434.123031869155,
          -989.4707817759008,
          -373.1240930533213,
          392.47390611753235,
          1253.7698473317614,
          2122.1992180950183,
          2905.3948258996907
         ],
         "yaxis": "y2"
        },
        {
         "name": "OneYear",
         "type": "scatter",
         "x": [
          20,
          21,
          22,
          23,
          24,
          25,
          26,
          27,
          28,
          29,
          30,
          31,
          32,
          33,
          34,
          35,
          36,
          37,
          38,
          39,
          40,
          41,
          42,
          43,
          44,
          45
         ],
         "xaxis": "x",
         "y": [
          0,
          0,
          0,
          0,
          0,
          0,
          0,
          0,
          0,
          0,
          0,
          0,
          0,
          0,
          0,
          0,
          0,
          0,
          0,
          0,
          0,
          0,
          0,
          0,
          0,
          0
         ],
         "yaxis": "y"
        },
        {
         "name": "OneYear",
         "type": "scatter",
         "x": [
          20,
          21,
          22,
          23,
          24,
          25,
          26,
          27,
          28,
          29,
          30,
          31,
          32,
          33,
          34,
          35,
          36,
          37,
          38,
          39,
          40,
          41,
          42,
          43,
          44,
          45
         ],
         "xaxis": "x2",
         "y": [
          0,
          0,
          0,
          0,
          0,
          0,
          0,
          0,
          0,
          0,
          0,
          0,
          0,
          0,
          0,
          0,
          0,
          0,
          0,
          0,
          0,
          0,
          0,
          0,
          0,
          0
         ],
         "yaxis": "y2"
        }
       ],
       "layout": {
        "template": {
         "data": {
          "bar": [
           {
            "error_x": {
             "color": "#2a3f5f"
            },
            "error_y": {
             "color": "#2a3f5f"
            },
            "marker": {
             "line": {
              "color": "#E5ECF6",
              "width": 0.5
             },
             "pattern": {
              "fillmode": "overlay",
              "size": 10,
              "solidity": 0.2
             }
            },
            "type": "bar"
           }
          ],
          "barpolar": [
           {
            "marker": {
             "line": {
              "color": "#E5ECF6",
              "width": 0.5
             },
             "pattern": {
              "fillmode": "overlay",
              "size": 10,
              "solidity": 0.2
             }
            },
            "type": "barpolar"
           }
          ],
          "carpet": [
           {
            "aaxis": {
             "endlinecolor": "#2a3f5f",
             "gridcolor": "white",
             "linecolor": "white",
             "minorgridcolor": "white",
             "startlinecolor": "#2a3f5f"
            },
            "baxis": {
             "endlinecolor": "#2a3f5f",
             "gridcolor": "white",
             "linecolor": "white",
             "minorgridcolor": "white",
             "startlinecolor": "#2a3f5f"
            },
            "type": "carpet"
           }
          ],
          "choropleth": [
           {
            "colorbar": {
             "outlinewidth": 0,
             "ticks": ""
            },
            "type": "choropleth"
           }
          ],
          "contour": [
           {
            "colorbar": {
             "outlinewidth": 0,
             "ticks": ""
            },
            "colorscale": [
             [
              0,
              "#0d0887"
             ],
             [
              0.1111111111111111,
              "#46039f"
             ],
             [
              0.2222222222222222,
              "#7201a8"
             ],
             [
              0.3333333333333333,
              "#9c179e"
             ],
             [
              0.4444444444444444,
              "#bd3786"
             ],
             [
              0.5555555555555556,
              "#d8576b"
             ],
             [
              0.6666666666666666,
              "#ed7953"
             ],
             [
              0.7777777777777778,
              "#fb9f3a"
             ],
             [
              0.8888888888888888,
              "#fdca26"
             ],
             [
              1,
              "#f0f921"
             ]
            ],
            "type": "contour"
           }
          ],
          "contourcarpet": [
           {
            "colorbar": {
             "outlinewidth": 0,
             "ticks": ""
            },
            "type": "contourcarpet"
           }
          ],
          "heatmap": [
           {
            "colorbar": {
             "outlinewidth": 0,
             "ticks": ""
            },
            "colorscale": [
             [
              0,
              "#0d0887"
             ],
             [
              0.1111111111111111,
              "#46039f"
             ],
             [
              0.2222222222222222,
              "#7201a8"
             ],
             [
              0.3333333333333333,
              "#9c179e"
             ],
             [
              0.4444444444444444,
              "#bd3786"
             ],
             [
              0.5555555555555556,
              "#d8576b"
             ],
             [
              0.6666666666666666,
              "#ed7953"
             ],
             [
              0.7777777777777778,
              "#fb9f3a"
             ],
             [
              0.8888888888888888,
              "#fdca26"
             ],
             [
              1,
              "#f0f921"
             ]
            ],
            "type": "heatmap"
           }
          ],
          "heatmapgl": [
           {
            "colorbar": {
             "outlinewidth": 0,
             "ticks": ""
            },
            "colorscale": [
             [
              0,
              "#0d0887"
             ],
             [
              0.1111111111111111,
              "#46039f"
             ],
             [
              0.2222222222222222,
              "#7201a8"
             ],
             [
              0.3333333333333333,
              "#9c179e"
             ],
             [
              0.4444444444444444,
              "#bd3786"
             ],
             [
              0.5555555555555556,
              "#d8576b"
             ],
             [
              0.6666666666666666,
              "#ed7953"
             ],
             [
              0.7777777777777778,
              "#fb9f3a"
             ],
             [
              0.8888888888888888,
              "#fdca26"
             ],
             [
              1,
              "#f0f921"
             ]
            ],
            "type": "heatmapgl"
           }
          ],
          "histogram": [
           {
            "marker": {
             "pattern": {
              "fillmode": "overlay",
              "size": 10,
              "solidity": 0.2
             }
            },
            "type": "histogram"
           }
          ],
          "histogram2d": [
           {
            "colorbar": {
             "outlinewidth": 0,
             "ticks": ""
            },
            "colorscale": [
             [
              0,
              "#0d0887"
             ],
             [
              0.1111111111111111,
              "#46039f"
             ],
             [
              0.2222222222222222,
              "#7201a8"
             ],
             [
              0.3333333333333333,
              "#9c179e"
             ],
             [
              0.4444444444444444,
              "#bd3786"
             ],
             [
              0.5555555555555556,
              "#d8576b"
             ],
             [
              0.6666666666666666,
              "#ed7953"
             ],
             [
              0.7777777777777778,
              "#fb9f3a"
             ],
             [
              0.8888888888888888,
              "#fdca26"
             ],
             [
              1,
              "#f0f921"
             ]
            ],
            "type": "histogram2d"
           }
          ],
          "histogram2dcontour": [
           {
            "colorbar": {
             "outlinewidth": 0,
             "ticks": ""
            },
            "colorscale": [
             [
              0,
              "#0d0887"
             ],
             [
              0.1111111111111111,
              "#46039f"
             ],
             [
              0.2222222222222222,
              "#7201a8"
             ],
             [
              0.3333333333333333,
              "#9c179e"
             ],
             [
              0.4444444444444444,
              "#bd3786"
             ],
             [
              0.5555555555555556,
              "#d8576b"
             ],
             [
              0.6666666666666666,
              "#ed7953"
             ],
             [
              0.7777777777777778,
              "#fb9f3a"
             ],
             [
              0.8888888888888888,
              "#fdca26"
             ],
             [
              1,
              "#f0f921"
             ]
            ],
            "type": "histogram2dcontour"
           }
          ],
          "mesh3d": [
           {
            "colorbar": {
             "outlinewidth": 0,
             "ticks": ""
            },
            "type": "mesh3d"
           }
          ],
          "parcoords": [
           {
            "line": {
             "colorbar": {
              "outlinewidth": 0,
              "ticks": ""
             }
            },
            "type": "parcoords"
           }
          ],
          "pie": [
           {
            "automargin": true,
            "type": "pie"
           }
          ],
          "scatter": [
           {
            "fillpattern": {
             "fillmode": "overlay",
             "size": 10,
             "solidity": 0.2
            },
            "type": "scatter"
           }
          ],
          "scatter3d": [
           {
            "line": {
             "colorbar": {
              "outlinewidth": 0,
              "ticks": ""
             }
            },
            "marker": {
             "colorbar": {
              "outlinewidth": 0,
              "ticks": ""
             }
            },
            "type": "scatter3d"
           }
          ],
          "scattercarpet": [
           {
            "marker": {
             "colorbar": {
              "outlinewidth": 0,
              "ticks": ""
             }
            },
            "type": "scattercarpet"
           }
          ],
          "scattergeo": [
           {
            "marker": {
             "colorbar": {
              "outlinewidth": 0,
              "ticks": ""
             }
            },
            "type": "scattergeo"
           }
          ],
          "scattergl": [
           {
            "marker": {
             "colorbar": {
              "outlinewidth": 0,
              "ticks": ""
             }
            },
            "type": "scattergl"
           }
          ],
          "scattermapbox": [
           {
            "marker": {
             "colorbar": {
              "outlinewidth": 0,
              "ticks": ""
             }
            },
            "type": "scattermapbox"
           }
          ],
          "scatterpolar": [
           {
            "marker": {
             "colorbar": {
              "outlinewidth": 0,
              "ticks": ""
             }
            },
            "type": "scatterpolar"
           }
          ],
          "scatterpolargl": [
           {
            "marker": {
             "colorbar": {
              "outlinewidth": 0,
              "ticks": ""
             }
            },
            "type": "scatterpolargl"
           }
          ],
          "scatterternary": [
           {
            "marker": {
             "colorbar": {
              "outlinewidth": 0,
              "ticks": ""
             }
            },
            "type": "scatterternary"
           }
          ],
          "surface": [
           {
            "colorbar": {
             "outlinewidth": 0,
             "ticks": ""
            },
            "colorscale": [
             [
              0,
              "#0d0887"
             ],
             [
              0.1111111111111111,
              "#46039f"
             ],
             [
              0.2222222222222222,
              "#7201a8"
             ],
             [
              0.3333333333333333,
              "#9c179e"
             ],
             [
              0.4444444444444444,
              "#bd3786"
             ],
             [
              0.5555555555555556,
              "#d8576b"
             ],
             [
              0.6666666666666666,
              "#ed7953"
             ],
             [
              0.7777777777777778,
              "#fb9f3a"
             ],
             [
              0.8888888888888888,
              "#fdca26"
             ],
             [
              1,
              "#f0f921"
             ]
            ],
            "type": "surface"
           }
          ],
          "table": [
           {
            "cells": {
             "fill": {
              "color": "#EBF0F8"
             },
             "line": {
              "color": "white"
             }
            },
            "header": {
             "fill": {
              "color": "#C8D4E3"
             },
             "line": {
              "color": "white"
             }
            },
            "type": "table"
           }
          ]
         },
         "layout": {
          "annotationdefaults": {
           "arrowcolor": "#2a3f5f",
           "arrowhead": 0,
           "arrowwidth": 1
          },
          "autotypenumbers": "strict",
          "coloraxis": {
           "colorbar": {
            "outlinewidth": 0,
            "ticks": ""
           }
          },
          "colorscale": {
           "diverging": [
            [
             0,
             "#8e0152"
            ],
            [
             0.1,
             "#c51b7d"
            ],
            [
             0.2,
             "#de77ae"
            ],
            [
             0.3,
             "#f1b6da"
            ],
            [
             0.4,
             "#fde0ef"
            ],
            [
             0.5,
             "#f7f7f7"
            ],
            [
             0.6,
             "#e6f5d0"
            ],
            [
             0.7,
             "#b8e186"
            ],
            [
             0.8,
             "#7fbc41"
            ],
            [
             0.9,
             "#4d9221"
            ],
            [
             1,
             "#276419"
            ]
           ],
           "sequential": [
            [
             0,
             "#0d0887"
            ],
            [
             0.1111111111111111,
             "#46039f"
            ],
            [
             0.2222222222222222,
             "#7201a8"
            ],
            [
             0.3333333333333333,
             "#9c179e"
            ],
            [
             0.4444444444444444,
             "#bd3786"
            ],
            [
             0.5555555555555556,
             "#d8576b"
            ],
            [
             0.6666666666666666,
             "#ed7953"
            ],
            [
             0.7777777777777778,
             "#fb9f3a"
            ],
            [
             0.8888888888888888,
             "#fdca26"
            ],
            [
             1,
             "#f0f921"
            ]
           ],
           "sequentialminus": [
            [
             0,
             "#0d0887"
            ],
            [
             0.1111111111111111,
             "#46039f"
            ],
            [
             0.2222222222222222,
             "#7201a8"
            ],
            [
             0.3333333333333333,
             "#9c179e"
            ],
            [
             0.4444444444444444,
             "#bd3786"
            ],
            [
             0.5555555555555556,
             "#d8576b"
            ],
            [
             0.6666666666666666,
             "#ed7953"
            ],
            [
             0.7777777777777778,
             "#fb9f3a"
            ],
            [
             0.8888888888888888,
             "#fdca26"
            ],
            [
             1,
             "#f0f921"
            ]
           ]
          },
          "colorway": [
           "#636efa",
           "#EF553B",
           "#00cc96",
           "#ab63fa",
           "#FFA15A",
           "#19d3f3",
           "#FF6692",
           "#B6E880",
           "#FF97FF",
           "#FECB52"
          ],
          "font": {
           "color": "#2a3f5f"
          },
          "geo": {
           "bgcolor": "white",
           "lakecolor": "white",
           "landcolor": "#E5ECF6",
           "showlakes": true,
           "showland": true,
           "subunitcolor": "white"
          },
          "hoverlabel": {
           "align": "left"
          },
          "hovermode": "closest",
          "mapbox": {
           "style": "light"
          },
          "paper_bgcolor": "white",
          "plot_bgcolor": "#E5ECF6",
          "polar": {
           "angularaxis": {
            "gridcolor": "white",
            "linecolor": "white",
            "ticks": ""
           },
           "bgcolor": "#E5ECF6",
           "radialaxis": {
            "gridcolor": "white",
            "linecolor": "white",
            "ticks": ""
           }
          },
          "scene": {
           "xaxis": {
            "backgroundcolor": "#E5ECF6",
            "gridcolor": "white",
            "gridwidth": 2,
            "linecolor": "white",
            "showbackground": true,
            "ticks": "",
            "zerolinecolor": "white"
           },
           "yaxis": {
            "backgroundcolor": "#E5ECF6",
            "gridcolor": "white",
            "gridwidth": 2,
            "linecolor": "white",
            "showbackground": true,
            "ticks": "",
            "zerolinecolor": "white"
           },
           "zaxis": {
            "backgroundcolor": "#E5ECF6",
            "gridcolor": "white",
            "gridwidth": 2,
            "linecolor": "white",
            "showbackground": true,
            "ticks": "",
            "zerolinecolor": "white"
           }
          },
          "shapedefaults": {
           "line": {
            "color": "#2a3f5f"
           }
          },
          "ternary": {
           "aaxis": {
            "gridcolor": "white",
            "linecolor": "white",
            "ticks": ""
           },
           "baxis": {
            "gridcolor": "white",
            "linecolor": "white",
            "ticks": ""
           },
           "bgcolor": "#E5ECF6",
           "caxis": {
            "gridcolor": "white",
            "linecolor": "white",
            "ticks": ""
           }
          },
          "title": {
           "x": 0.05
          },
          "xaxis": {
           "automargin": true,
           "gridcolor": "white",
           "linecolor": "white",
           "ticks": "",
           "title": {
            "standoff": 15
           },
           "zerolinecolor": "white",
           "zerolinewidth": 2
          },
          "yaxis": {
           "automargin": true,
           "gridcolor": "white",
           "linecolor": "white",
           "ticks": "",
           "title": {
            "standoff": 15
           },
           "zerolinecolor": "white",
           "zerolinewidth": 2
          }
         }
        },
        "title": {
         "text": "ACCU Position (Theta and Vega)",
         "x": 0.5,
         "xanchor": "center"
        },
        "xaxis": {
         "anchor": "y",
         "domain": [
          0,
          0.45
         ],
         "title": {
          "text": "Price"
         }
        },
        "xaxis2": {
         "anchor": "y2",
         "domain": [
          0.55,
          1
         ],
         "title": {
          "text": "Price"
         }
        },
        "yaxis": {
         "anchor": "x",
         "domain": [
          0,
          1
         ],
         "title": {
          "text": "Theta"
         }
        },
        "yaxis2": {
         "anchor": "x2",
         "domain": [
          0,
          1
         ],
         "title": {
          "text": "Vega"
         }
        }
       }
      },
      "text/html": [
       "<div>                            <div id=\"d62c5428-9119-43f0-ba74-9b7e8697df10\" class=\"plotly-graph-div\" style=\"height:525px; width:100%;\"></div>            <script type=\"text/javascript\">                require([\"plotly\"], function(Plotly) {                    window.PLOTLYENV=window.PLOTLYENV || {};                                    if (document.getElementById(\"d62c5428-9119-43f0-ba74-9b7e8697df10\")) {                    Plotly.newPlot(                        \"d62c5428-9119-43f0-ba74-9b7e8697df10\",                        [{\"name\":\"today\",\"x\":[20,21,22,23,24,25,26,27,28,29,30,31,32,33,34,35,36,37,38,39,40,41,42,43,44,45],\"y\":[392.6930795416783,600.1182409020024,811.0247226982536,1004.2139093627678,1182.7200849348774,1364.4351432044523,1544.1013994056082,1663.934723503653,1636.4643347046945,1411.7487498870173,1029.0136889821822,604.6770295530177,268.50800017662255,99.5231136091262,101.16919723521005,217.63580682722954,368.4215573169531,478.61337475277924,495.5831435453583,393.8986807500128,173.63741932679272,-144.39418499647968,-525.343679357565,-928.3944742945519,-1315.1002697343579,-1656.1652221682994],\"type\":\"scatter\",\"xaxis\":\"x\",\"yaxis\":\"y\"},{\"name\":\"today\",\"x\":[20,21,22,23,24,25,26,27,28,29,30,31,32,33,34,35,36,37,38,39,40,41,42,43,44,45],\"y\":[-921.6401673159309,-1360.7727343019617,-1791.4995286450926,-2139.7448079134374,-2363.704817769815,-2461.7853315661173,-2447.2563780532273,-2318.6548020993987,-2063.9233072646334,-1697.2486155870847,-1286.2583146608686,-935.2115569565906,-734.5959812873939,-716.460016276033,-843.7524348153211,-1032.1199213670366,-1184.0988907725332,-1217.1385647829693,-1078.2595324125732,-747.3602008053758,-233.97800102450674,429.0711523300679,1193.697694831254,2005.402021982322,2811.8610634703978,3569.7268549291916],\"type\":\"scatter\",\"xaxis\":\"x2\",\"yaxis\":\"y2\"},{\"name\":\"EoM\",\"x\":[20,21,22,23,24,25,26,27,28,29,30,31,32,33,34,35,36,37,38,39,40,41,42,43,44,45],\"y\":[384.1723992465385,598.0544694846761,815.4661894466459,1008.5537584632332,1179.4014383865542,1358.5318465797047,1558.5133582273324,1720.802560965068,1728.407312130508,1496.4560890857067,1057.970271084316,559.0301430616892,169.9920425301275,-7.576817987096774,25.7016397478028,194.41962854549593,398.18641345645847,549.7323197873907,591.2394926363615,495.8755166622864,264.11404860508674,-80.81008210666141,-498.7566874107856,-941.134172558961,-1361.2304980849908,-1723.627923433769],\"type\":\"scatter\",\"xaxis\":\"x\",\"yaxis\":\"y\"},{\"name\":\"EoM\",\"x\":[20,21,22,23,24,25,26,27,28,29,30,31,32,33,34,35,36,37,38,39,40,41,42,43,44,45],\"y\":[-867.16397550899,-1303.798810264167,-1737.1669760130444,-2085.28599025432,-2299.3749145120346,-2380.8041213835522,-2355.0198522375736,-2228.201522042955,-1981.1427171572586,-1614.4014303674571,-1192.591974694451,-832.2442254559578,-639.5434254380684,-652.0570309995546,-825.5567775368595,-1063.145142695616,-1257.6054371340088,-1322.4243607432418,-1204.721785941717,-885.6519164153488,-375.73094353701526,291.17901913801416,1064.9602329565087,1887.8650774313105,2703.904535476906,3466.9518100012256],\"type\":\"scatter\",\"xaxis\":\"x2\",\"yaxis\":\"y2\"},{\"name\":\"3 months\",\"x\":[20,21,22,23,24,25,26,27,28,29,30,31,32,33,34,35,36,37,38,39,40,41,42,43,44,45],\"y\":[0.0,0.0,0.0,0.0,0.0,0.0,0.0,0.0,0.0,0.0,0.0,0.0,0.0,0.0,0.0,0.0,0.0,0.0,0.0,0.0,0.0,0.0,0.0,0.0,0.0,0.0],\"type\":\"scatter\",\"xaxis\":\"x\",\"yaxis\":\"y\"},{\"name\":\"3 months\",\"x\":[20,21,22,23,24,25,26,27,28,29,30,31,32,33,34,35,36,37,38,39,40,41,42,43,44,45],\"y\":[0.0,0.0,0.0,0.0,0.0,0.0,0.0,0.0,0.0,0.0,0.0,0.0,0.0,0.0,0.0,0.0,0.0,0.0,0.0,0.0,0.0,0.0,0.0,0.0,0.0,0.0],\"type\":\"scatter\",\"xaxis\":\"x2\",\"yaxis\":\"y2\"},{\"name\":\"6 months\",\"x\":[20,21,22,23,24,25,26,27,28,29,30,31,32,33,34,35,36,37,38,39,40,41,42,43,44,45],\"y\":[0.0,0.0,0.0,0.0,0.0,0.0,0.0,0.0,0.0,0.0,0.0,0.0,0.0,0.0,0.0,0.0,0.0,0.0,0.0,0.0,0.0,0.0,0.0,0.0,0.0,0.0],\"type\":\"scatter\",\"xaxis\":\"x\",\"yaxis\":\"y\"},{\"name\":\"6 months\",\"x\":[20,21,22,23,24,25,26,27,28,29,30,31,32,33,34,35,36,37,38,39,40,41,42,43,44,45],\"y\":[0.0,0.0,0.0,0.0,0.0,0.0,0.0,0.0,0.0,0.0,0.0,0.0,0.0,0.0,0.0,0.0,0.0,0.0,0.0,0.0,0.0,0.0,0.0,0.0,0.0,0.0],\"type\":\"scatter\",\"xaxis\":\"x2\",\"yaxis\":\"y2\"},{\"name\":\"EoY\",\"x\":[20,21,22,23,24,25,26,27,28,29,30,31,32,33,34,35,36,37,38,39,40,41,42,43,44,45],\"y\":[321.90421949500194,574.4765978197387,856.7265565134305,1098.2874289369142,1227.8953295696208,1229.3706329740958,1273.5009128439274,1753.4672377824218,2622.032450129594,2825.1870082006767,1624.061865680468,-153.83876723364182,-1188.5675263197772,-1097.9634177934731,-405.1456334670969,293.8473852199828,772.5361971277409,1051.8032603828847,1185.6399554328502,1183.5721186140086,1006.2846493422128,580.8086436931501,-139.85519736621927,-1077.3514835217738,-1994.1832850127983,-2616.8194964948957],\"type\":\"scatter\",\"xaxis\":\"x\",\"yaxis\":\"y\"},{\"name\":\"EoY\",\"x\":[20,21,22,23,24,25,26,27,28,29,30,31,32,33,34,35,36,37,38,39,40,41,42,43,44,45],\"y\":[-582.2290465382825,-990.7451843631778,-1446.6331754100295,-1838.6699155889182,-2054.3919782863986,-2034.0884971794412,-1824.5331914054448,-1582.30087734545,-1394.429167602325,-1117.5926833272151,-659.0828079273267,-245.9380369672973,-168.67380893312998,-461.49892869705127,-931.0844272228637,-1368.0129966020131,-1660.760919674854,-1773.2441172964627,-1697.352618953193,-1434.123031869155,-989.4707817759008,-373.1240930533213,392.47390611753235,1253.7698473317614,2122.1992180950183,2905.3948258996907],\"type\":\"scatter\",\"xaxis\":\"x2\",\"yaxis\":\"y2\"},{\"name\":\"OneYear\",\"x\":[20,21,22,23,24,25,26,27,28,29,30,31,32,33,34,35,36,37,38,39,40,41,42,43,44,45],\"y\":[0.0,0.0,0.0,0.0,0.0,0.0,0.0,0.0,0.0,0.0,0.0,0.0,0.0,0.0,0.0,0.0,0.0,0.0,0.0,0.0,0.0,0.0,0.0,0.0,0.0,0.0],\"type\":\"scatter\",\"xaxis\":\"x\",\"yaxis\":\"y\"},{\"name\":\"OneYear\",\"x\":[20,21,22,23,24,25,26,27,28,29,30,31,32,33,34,35,36,37,38,39,40,41,42,43,44,45],\"y\":[0.0,0.0,0.0,0.0,0.0,0.0,0.0,0.0,0.0,0.0,0.0,0.0,0.0,0.0,0.0,0.0,0.0,0.0,0.0,0.0,0.0,0.0,0.0,0.0,0.0,0.0],\"type\":\"scatter\",\"xaxis\":\"x2\",\"yaxis\":\"y2\"}],                        {\"template\":{\"data\":{\"histogram2dcontour\":[{\"type\":\"histogram2dcontour\",\"colorbar\":{\"outlinewidth\":0,\"ticks\":\"\"},\"colorscale\":[[0.0,\"#0d0887\"],[0.1111111111111111,\"#46039f\"],[0.2222222222222222,\"#7201a8\"],[0.3333333333333333,\"#9c179e\"],[0.4444444444444444,\"#bd3786\"],[0.5555555555555556,\"#d8576b\"],[0.6666666666666666,\"#ed7953\"],[0.7777777777777778,\"#fb9f3a\"],[0.8888888888888888,\"#fdca26\"],[1.0,\"#f0f921\"]]}],\"choropleth\":[{\"type\":\"choropleth\",\"colorbar\":{\"outlinewidth\":0,\"ticks\":\"\"}}],\"histogram2d\":[{\"type\":\"histogram2d\",\"colorbar\":{\"outlinewidth\":0,\"ticks\":\"\"},\"colorscale\":[[0.0,\"#0d0887\"],[0.1111111111111111,\"#46039f\"],[0.2222222222222222,\"#7201a8\"],[0.3333333333333333,\"#9c179e\"],[0.4444444444444444,\"#bd3786\"],[0.5555555555555556,\"#d8576b\"],[0.6666666666666666,\"#ed7953\"],[0.7777777777777778,\"#fb9f3a\"],[0.8888888888888888,\"#fdca26\"],[1.0,\"#f0f921\"]]}],\"heatmap\":[{\"type\":\"heatmap\",\"colorbar\":{\"outlinewidth\":0,\"ticks\":\"\"},\"colorscale\":[[0.0,\"#0d0887\"],[0.1111111111111111,\"#46039f\"],[0.2222222222222222,\"#7201a8\"],[0.3333333333333333,\"#9c179e\"],[0.4444444444444444,\"#bd3786\"],[0.5555555555555556,\"#d8576b\"],[0.6666666666666666,\"#ed7953\"],[0.7777777777777778,\"#fb9f3a\"],[0.8888888888888888,\"#fdca26\"],[1.0,\"#f0f921\"]]}],\"heatmapgl\":[{\"type\":\"heatmapgl\",\"colorbar\":{\"outlinewidth\":0,\"ticks\":\"\"},\"colorscale\":[[0.0,\"#0d0887\"],[0.1111111111111111,\"#46039f\"],[0.2222222222222222,\"#7201a8\"],[0.3333333333333333,\"#9c179e\"],[0.4444444444444444,\"#bd3786\"],[0.5555555555555556,\"#d8576b\"],[0.6666666666666666,\"#ed7953\"],[0.7777777777777778,\"#fb9f3a\"],[0.8888888888888888,\"#fdca26\"],[1.0,\"#f0f921\"]]}],\"contourcarpet\":[{\"type\":\"contourcarpet\",\"colorbar\":{\"outlinewidth\":0,\"ticks\":\"\"}}],\"contour\":[{\"type\":\"contour\",\"colorbar\":{\"outlinewidth\":0,\"ticks\":\"\"},\"colorscale\":[[0.0,\"#0d0887\"],[0.1111111111111111,\"#46039f\"],[0.2222222222222222,\"#7201a8\"],[0.3333333333333333,\"#9c179e\"],[0.4444444444444444,\"#bd3786\"],[0.5555555555555556,\"#d8576b\"],[0.6666666666666666,\"#ed7953\"],[0.7777777777777778,\"#fb9f3a\"],[0.8888888888888888,\"#fdca26\"],[1.0,\"#f0f921\"]]}],\"surface\":[{\"type\":\"surface\",\"colorbar\":{\"outlinewidth\":0,\"ticks\":\"\"},\"colorscale\":[[0.0,\"#0d0887\"],[0.1111111111111111,\"#46039f\"],[0.2222222222222222,\"#7201a8\"],[0.3333333333333333,\"#9c179e\"],[0.4444444444444444,\"#bd3786\"],[0.5555555555555556,\"#d8576b\"],[0.6666666666666666,\"#ed7953\"],[0.7777777777777778,\"#fb9f3a\"],[0.8888888888888888,\"#fdca26\"],[1.0,\"#f0f921\"]]}],\"mesh3d\":[{\"type\":\"mesh3d\",\"colorbar\":{\"outlinewidth\":0,\"ticks\":\"\"}}],\"scatter\":[{\"fillpattern\":{\"fillmode\":\"overlay\",\"size\":10,\"solidity\":0.2},\"type\":\"scatter\"}],\"parcoords\":[{\"type\":\"parcoords\",\"line\":{\"colorbar\":{\"outlinewidth\":0,\"ticks\":\"\"}}}],\"scatterpolargl\":[{\"type\":\"scatterpolargl\",\"marker\":{\"colorbar\":{\"outlinewidth\":0,\"ticks\":\"\"}}}],\"bar\":[{\"error_x\":{\"color\":\"#2a3f5f\"},\"error_y\":{\"color\":\"#2a3f5f\"},\"marker\":{\"line\":{\"color\":\"#E5ECF6\",\"width\":0.5},\"pattern\":{\"fillmode\":\"overlay\",\"size\":10,\"solidity\":0.2}},\"type\":\"bar\"}],\"scattergeo\":[{\"type\":\"scattergeo\",\"marker\":{\"colorbar\":{\"outlinewidth\":0,\"ticks\":\"\"}}}],\"scatterpolar\":[{\"type\":\"scatterpolar\",\"marker\":{\"colorbar\":{\"outlinewidth\":0,\"ticks\":\"\"}}}],\"histogram\":[{\"marker\":{\"pattern\":{\"fillmode\":\"overlay\",\"size\":10,\"solidity\":0.2}},\"type\":\"histogram\"}],\"scattergl\":[{\"type\":\"scattergl\",\"marker\":{\"colorbar\":{\"outlinewidth\":0,\"ticks\":\"\"}}}],\"scatter3d\":[{\"type\":\"scatter3d\",\"line\":{\"colorbar\":{\"outlinewidth\":0,\"ticks\":\"\"}},\"marker\":{\"colorbar\":{\"outlinewidth\":0,\"ticks\":\"\"}}}],\"scattermapbox\":[{\"type\":\"scattermapbox\",\"marker\":{\"colorbar\":{\"outlinewidth\":0,\"ticks\":\"\"}}}],\"scatterternary\":[{\"type\":\"scatterternary\",\"marker\":{\"colorbar\":{\"outlinewidth\":0,\"ticks\":\"\"}}}],\"scattercarpet\":[{\"type\":\"scattercarpet\",\"marker\":{\"colorbar\":{\"outlinewidth\":0,\"ticks\":\"\"}}}],\"carpet\":[{\"aaxis\":{\"endlinecolor\":\"#2a3f5f\",\"gridcolor\":\"white\",\"linecolor\":\"white\",\"minorgridcolor\":\"white\",\"startlinecolor\":\"#2a3f5f\"},\"baxis\":{\"endlinecolor\":\"#2a3f5f\",\"gridcolor\":\"white\",\"linecolor\":\"white\",\"minorgridcolor\":\"white\",\"startlinecolor\":\"#2a3f5f\"},\"type\":\"carpet\"}],\"table\":[{\"cells\":{\"fill\":{\"color\":\"#EBF0F8\"},\"line\":{\"color\":\"white\"}},\"header\":{\"fill\":{\"color\":\"#C8D4E3\"},\"line\":{\"color\":\"white\"}},\"type\":\"table\"}],\"barpolar\":[{\"marker\":{\"line\":{\"color\":\"#E5ECF6\",\"width\":0.5},\"pattern\":{\"fillmode\":\"overlay\",\"size\":10,\"solidity\":0.2}},\"type\":\"barpolar\"}],\"pie\":[{\"automargin\":true,\"type\":\"pie\"}]},\"layout\":{\"autotypenumbers\":\"strict\",\"colorway\":[\"#636efa\",\"#EF553B\",\"#00cc96\",\"#ab63fa\",\"#FFA15A\",\"#19d3f3\",\"#FF6692\",\"#B6E880\",\"#FF97FF\",\"#FECB52\"],\"font\":{\"color\":\"#2a3f5f\"},\"hovermode\":\"closest\",\"hoverlabel\":{\"align\":\"left\"},\"paper_bgcolor\":\"white\",\"plot_bgcolor\":\"#E5ECF6\",\"polar\":{\"bgcolor\":\"#E5ECF6\",\"angularaxis\":{\"gridcolor\":\"white\",\"linecolor\":\"white\",\"ticks\":\"\"},\"radialaxis\":{\"gridcolor\":\"white\",\"linecolor\":\"white\",\"ticks\":\"\"}},\"ternary\":{\"bgcolor\":\"#E5ECF6\",\"aaxis\":{\"gridcolor\":\"white\",\"linecolor\":\"white\",\"ticks\":\"\"},\"baxis\":{\"gridcolor\":\"white\",\"linecolor\":\"white\",\"ticks\":\"\"},\"caxis\":{\"gridcolor\":\"white\",\"linecolor\":\"white\",\"ticks\":\"\"}},\"coloraxis\":{\"colorbar\":{\"outlinewidth\":0,\"ticks\":\"\"}},\"colorscale\":{\"sequential\":[[0.0,\"#0d0887\"],[0.1111111111111111,\"#46039f\"],[0.2222222222222222,\"#7201a8\"],[0.3333333333333333,\"#9c179e\"],[0.4444444444444444,\"#bd3786\"],[0.5555555555555556,\"#d8576b\"],[0.6666666666666666,\"#ed7953\"],[0.7777777777777778,\"#fb9f3a\"],[0.8888888888888888,\"#fdca26\"],[1.0,\"#f0f921\"]],\"sequentialminus\":[[0.0,\"#0d0887\"],[0.1111111111111111,\"#46039f\"],[0.2222222222222222,\"#7201a8\"],[0.3333333333333333,\"#9c179e\"],[0.4444444444444444,\"#bd3786\"],[0.5555555555555556,\"#d8576b\"],[0.6666666666666666,\"#ed7953\"],[0.7777777777777778,\"#fb9f3a\"],[0.8888888888888888,\"#fdca26\"],[1.0,\"#f0f921\"]],\"diverging\":[[0,\"#8e0152\"],[0.1,\"#c51b7d\"],[0.2,\"#de77ae\"],[0.3,\"#f1b6da\"],[0.4,\"#fde0ef\"],[0.5,\"#f7f7f7\"],[0.6,\"#e6f5d0\"],[0.7,\"#b8e186\"],[0.8,\"#7fbc41\"],[0.9,\"#4d9221\"],[1,\"#276419\"]]},\"xaxis\":{\"gridcolor\":\"white\",\"linecolor\":\"white\",\"ticks\":\"\",\"title\":{\"standoff\":15},\"zerolinecolor\":\"white\",\"automargin\":true,\"zerolinewidth\":2},\"yaxis\":{\"gridcolor\":\"white\",\"linecolor\":\"white\",\"ticks\":\"\",\"title\":{\"standoff\":15},\"zerolinecolor\":\"white\",\"automargin\":true,\"zerolinewidth\":2},\"scene\":{\"xaxis\":{\"backgroundcolor\":\"#E5ECF6\",\"gridcolor\":\"white\",\"linecolor\":\"white\",\"showbackground\":true,\"ticks\":\"\",\"zerolinecolor\":\"white\",\"gridwidth\":2},\"yaxis\":{\"backgroundcolor\":\"#E5ECF6\",\"gridcolor\":\"white\",\"linecolor\":\"white\",\"showbackground\":true,\"ticks\":\"\",\"zerolinecolor\":\"white\",\"gridwidth\":2},\"zaxis\":{\"backgroundcolor\":\"#E5ECF6\",\"gridcolor\":\"white\",\"linecolor\":\"white\",\"showbackground\":true,\"ticks\":\"\",\"zerolinecolor\":\"white\",\"gridwidth\":2}},\"shapedefaults\":{\"line\":{\"color\":\"#2a3f5f\"}},\"annotationdefaults\":{\"arrowcolor\":\"#2a3f5f\",\"arrowhead\":0,\"arrowwidth\":1},\"geo\":{\"bgcolor\":\"white\",\"landcolor\":\"#E5ECF6\",\"subunitcolor\":\"white\",\"showland\":true,\"showlakes\":true,\"lakecolor\":\"white\"},\"title\":{\"x\":0.05},\"mapbox\":{\"style\":\"light\"}}},\"xaxis\":{\"anchor\":\"y\",\"domain\":[0.0,0.45],\"title\":{\"text\":\"Price\"}},\"yaxis\":{\"anchor\":\"x\",\"domain\":[0.0,1.0],\"title\":{\"text\":\"Theta\"}},\"xaxis2\":{\"anchor\":\"y2\",\"domain\":[0.55,1.0],\"title\":{\"text\":\"Price\"}},\"yaxis2\":{\"anchor\":\"x2\",\"domain\":[0.0,1.0],\"title\":{\"text\":\"Vega\"}},\"title\":{\"text\":\"ACCU Position (Theta and Vega)\",\"x\":0.5,\"xanchor\":\"center\"}},                        {\"responsive\": true}                    ).then(function(){\n",
       "                            \n",
       "var gd = document.getElementById('d62c5428-9119-43f0-ba74-9b7e8697df10');\n",
       "var x = new MutationObserver(function (mutations, observer) {{\n",
       "        var display = window.getComputedStyle(gd).display;\n",
       "        if (!display || display === 'none') {{\n",
       "            console.log([gd, 'removed!']);\n",
       "            Plotly.purge(gd);\n",
       "            observer.disconnect();\n",
       "        }}\n",
       "}});\n",
       "\n",
       "// Listen for the removal of the full notebook cells\n",
       "var notebookContainer = gd.closest('#notebook-container');\n",
       "if (notebookContainer) {{\n",
       "    x.observe(notebookContainer, {childList: true});\n",
       "}}\n",
       "\n",
       "// Listen for the clearing of the current output cell\n",
       "var outputEl = gd.closest('.output');\n",
       "if (outputEl) {{\n",
       "    x.observe(outputEl, {childList: true});\n",
       "}}\n",
       "\n",
       "                        })                };                });            </script>        </div>"
      ]
     },
     "metadata": {},
     "output_type": "display_data"
    }
   ],
   "source": [
    "fig = make_subplots(rows=1, cols=2)\n",
    "for i in range(0,len(fig_d.data)):\n",
    "    fig.add_trace(fig_t.data[i], row=1, col=1)\n",
    "    fig.add_trace(fig_v.data[i], row=1, col=2)\n",
    "\n",
    "fig.update_layout(title={'text': 'ACCU Position (Theta and Vega)','x': 0.5,'xanchor': 'center'})\n",
    "\n",
    "fig.update_xaxes(title_text=\"Price\", row=1, col=1)\n",
    "fig.update_yaxes(title_text=\"Theta\", row=1, col=1)\n",
    "fig.update_xaxes(title_text=\"Price\", row=1, col=2)\n",
    "fig.update_yaxes(title_text=\"Vega\", row=1, col=2)\n",
    "\n",
    "fig.show()"
   ]
  },
  {
   "cell_type": "markdown",
   "id": "0b054dac",
   "metadata": {},
   "source": [
    "# Today's Position"
   ]
  },
  {
   "cell_type": "code",
   "execution_count": 12,
   "id": "c201f2c6",
   "metadata": {},
   "outputs": [
    {
     "data": {
      "application/vnd.plotly.v1+json": {
       "config": {
        "plotlyServerURL": "https://plot.ly"
       },
       "data": [
        {
         "base": 0,
         "name": "Spot",
         "type": "bar",
         "x": [
          20,
          21,
          22,
          23,
          24,
          25,
          26,
          27,
          28,
          29,
          30,
          31,
          32,
          33,
          34,
          35,
          36,
          37,
          38,
          39,
          40,
          41,
          42,
          43,
          44,
          45
         ],
         "xaxis": "x2",
         "y": [
          67030,
          67030,
          67030,
          67030,
          67030,
          67030,
          67030,
          67030,
          67030,
          67030,
          67030,
          67030,
          67030,
          67030,
          67030,
          67030,
          67030,
          67030,
          67030,
          67030,
          67030,
          67030,
          67030,
          67030,
          67030,
          67030
         ],
         "yaxis": "y2"
        },
        {
         "base": 0,
         "name": "Spot",
         "type": "bar",
         "x": [
          20,
          21,
          22,
          23,
          24,
          25,
          26,
          27,
          28,
          29,
          30,
          31,
          32,
          33,
          34,
          35,
          36,
          37,
          38,
          39,
          40,
          41,
          42,
          43,
          44,
          45
         ],
         "xaxis": "x",
         "y": [
          -737330,
          -670300,
          -603270,
          -536240,
          -469210,
          -402180,
          -335150,
          -268120,
          -201090,
          -134060,
          -67030,
          0,
          67030,
          134060,
          201090,
          268120,
          335150,
          402180,
          469210,
          536240,
          603270,
          670300,
          737330,
          804360,
          871390,
          938420
         ],
         "yaxis": "y"
        },
        {
         "base": 0,
         "name": "Fwds",
         "type": "bar",
         "x": [
          20,
          21,
          22,
          23,
          24,
          25,
          26,
          27,
          28,
          29,
          30,
          31,
          32,
          33,
          34,
          35,
          36,
          37,
          38,
          39,
          40,
          41,
          42,
          43,
          44,
          45
         ],
         "xaxis": "x2",
         "y": [
          5000,
          5000,
          5000,
          5000,
          5000,
          5000,
          5000,
          5000,
          5000,
          5000,
          5000,
          5000,
          5000,
          5000,
          5000,
          5000,
          5000,
          5000,
          5000,
          5000,
          5000,
          5000,
          5000,
          5000,
          5000,
          5000
         ],
         "yaxis": "y2"
        },
        {
         "base": 0,
         "name": "Fwds",
         "type": "bar",
         "x": [
          20,
          21,
          22,
          23,
          24,
          25,
          26,
          27,
          28,
          29,
          30,
          31,
          32,
          33,
          34,
          35,
          36,
          37,
          38,
          39,
          40,
          41,
          42,
          43,
          44,
          45
         ],
         "xaxis": "x",
         "y": [
          -44888.724087101116,
          -41361.65540740674,
          -37834.58672771242,
          -34307.518048017984,
          -30780.449368324014,
          -27253.380688630044,
          -23726.31200893561,
          -20199.24332924129,
          -16672.174649547203,
          -13145.105969853,
          -9618.037290158914,
          -6090.968610464479,
          -2563.899930770742,
          963.1687489236938,
          4490.237428618129,
          8017.306108312565,
          11544.374788006535,
          15071.443467701203,
          18598.512147395173,
          22125.580827089143,
          25652.64950678358,
          29179.71818647755,
          32706.786866171984,
          36233.855545865954,
          39760.92422556062,
          43287.99290525459
         ],
         "yaxis": "y"
        },
        {
         "base": 0,
         "name": "Options",
         "type": "bar",
         "x": [
          20,
          21,
          22,
          23,
          24,
          25,
          26,
          27,
          28,
          29,
          30,
          31,
          32,
          33,
          34,
          35,
          36,
          37,
          38,
          39,
          40,
          41,
          42,
          43,
          44,
          45
         ],
         "xaxis": "x2",
         "y": [
          17829.274748084124,
          13153.45224752299,
          7263.548859829193,
          495.2805360402807,
          -6823.208247665098,
          -14522.195167838436,
          -22529.33649336645,
          -30616.188351632976,
          -38208.80952800309,
          -44504.32948853392,
          -48847.503654457316,
          -51075.32716261789,
          -51581.873389435714,
          -51098.24243404298,
          -50368.58095844815,
          -49907.91860433776,
          -49917.02324043744,
          -50324.969995992775,
          -50890.889882497795,
          -51309.652243302204,
          -51294.96997797303,
          -50633.685545556786,
          -49212.92750166987,
          -47023.49634104623,
          -44143.96259327039,
          -40712.06890632373
         ],
         "yaxis": "y2"
        },
        {
         "base": 0,
         "name": "Options",
         "type": "bar",
         "x": [
          20,
          21,
          22,
          23,
          24,
          25,
          26,
          27,
          28,
          29,
          30,
          31,
          32,
          33,
          34,
          35,
          36,
          37,
          38,
          39,
          40,
          41,
          42,
          43,
          44,
          45
         ],
         "xaxis": "x",
         "y": [
          201209.59593356497,
          216812.36582672826,
          227109.58892010277,
          231046.8026275476,
          227918.82915771505,
          217274.95244086802,
          198769.8998843105,
          172185.39240498893,
          137699.31828446352,
          96201.83695980227,
          49347.341347530964,
          -781.4445117142441,
          -52225.674273680546,
          -103615.12304933986,
          -154342.92564407532,
          -204445.61916426092,
          -254318.44467649097,
          -304414.4998035687,
          -355021.72237664054,
          -406146.97824592807,
          -457495.6967690012,
          -508520.2382252701,
          -558508.7320690115,
          -606688.8764259883,
          -652325.0273277219,
          -694792.3960853202
         ],
         "yaxis": "y"
        },
        {
         "mode": "lines",
         "name": "Total_Delta",
         "type": "scatter",
         "x": [
          20,
          21,
          22,
          23,
          24,
          25,
          26,
          27,
          28,
          29,
          30,
          31,
          32,
          33,
          34,
          35,
          36,
          37,
          38,
          39,
          40,
          41,
          42,
          43,
          44,
          45
         ],
         "xaxis": "x2",
         "y": [
          89859.27474808412,
          85183.45224752299,
          79293.5488598292,
          72525.28053604029,
          65206.7917523349,
          57507.804832161564,
          49500.66350663355,
          41413.811648367024,
          33821.19047199691,
          27525.67051146608,
          23182.496345542684,
          20954.67283738211,
          20448.126610564286,
          20931.75756595702,
          21661.419041551853,
          22122.081395662237,
          22112.97675956256,
          21705.030004007225,
          21139.110117502205,
          20720.347756697796,
          20735.03002202697,
          21396.314454443214,
          22817.072498330133,
          25006.50365895377,
          27886.037406729607,
          31317.93109367627
         ],
         "yaxis": "y2"
        },
        {
         "mode": "lines",
         "name": "Total_PnL",
         "type": "scatter",
         "x": [
          20,
          21,
          22,
          23,
          24,
          25,
          26,
          27,
          28,
          29,
          30,
          31,
          32,
          33,
          34,
          35,
          36,
          37,
          38,
          39,
          40,
          41,
          42,
          43,
          44,
          45
         ],
         "xaxis": "x",
         "y": [
          -581009.1281535362,
          -494849.28958067845,
          -413994.9978076096,
          -339500.7154204704,
          -272071.62021060893,
          -212158.42824776203,
          -160106.41212462512,
          -116133.85092425236,
          -80062.85636508369,
          -51003.26901005073,
          -27300.69594262795,
          -6872.413122178723,
          12240.425795548712,
          31408.045699583832,
          51237.311784542806,
          71691.68694405165,
          92375.93011151557,
          112836.9436641325,
          132786.78977075464,
          152218.60258116107,
          171426.95273778238,
          190959.47996120743,
          211528.05479716044,
          233904.97911987768,
          258825.89689783868,
          286915.59681993444
         ],
         "yaxis": "y"
        }
       ],
       "layout": {
        "barmode": "stack",
        "template": {
         "data": {
          "bar": [
           {
            "error_x": {
             "color": "#2a3f5f"
            },
            "error_y": {
             "color": "#2a3f5f"
            },
            "marker": {
             "line": {
              "color": "#E5ECF6",
              "width": 0.5
             },
             "pattern": {
              "fillmode": "overlay",
              "size": 10,
              "solidity": 0.2
             }
            },
            "type": "bar"
           }
          ],
          "barpolar": [
           {
            "marker": {
             "line": {
              "color": "#E5ECF6",
              "width": 0.5
             },
             "pattern": {
              "fillmode": "overlay",
              "size": 10,
              "solidity": 0.2
             }
            },
            "type": "barpolar"
           }
          ],
          "carpet": [
           {
            "aaxis": {
             "endlinecolor": "#2a3f5f",
             "gridcolor": "white",
             "linecolor": "white",
             "minorgridcolor": "white",
             "startlinecolor": "#2a3f5f"
            },
            "baxis": {
             "endlinecolor": "#2a3f5f",
             "gridcolor": "white",
             "linecolor": "white",
             "minorgridcolor": "white",
             "startlinecolor": "#2a3f5f"
            },
            "type": "carpet"
           }
          ],
          "choropleth": [
           {
            "colorbar": {
             "outlinewidth": 0,
             "ticks": ""
            },
            "type": "choropleth"
           }
          ],
          "contour": [
           {
            "colorbar": {
             "outlinewidth": 0,
             "ticks": ""
            },
            "colorscale": [
             [
              0,
              "#0d0887"
             ],
             [
              0.1111111111111111,
              "#46039f"
             ],
             [
              0.2222222222222222,
              "#7201a8"
             ],
             [
              0.3333333333333333,
              "#9c179e"
             ],
             [
              0.4444444444444444,
              "#bd3786"
             ],
             [
              0.5555555555555556,
              "#d8576b"
             ],
             [
              0.6666666666666666,
              "#ed7953"
             ],
             [
              0.7777777777777778,
              "#fb9f3a"
             ],
             [
              0.8888888888888888,
              "#fdca26"
             ],
             [
              1,
              "#f0f921"
             ]
            ],
            "type": "contour"
           }
          ],
          "contourcarpet": [
           {
            "colorbar": {
             "outlinewidth": 0,
             "ticks": ""
            },
            "type": "contourcarpet"
           }
          ],
          "heatmap": [
           {
            "colorbar": {
             "outlinewidth": 0,
             "ticks": ""
            },
            "colorscale": [
             [
              0,
              "#0d0887"
             ],
             [
              0.1111111111111111,
              "#46039f"
             ],
             [
              0.2222222222222222,
              "#7201a8"
             ],
             [
              0.3333333333333333,
              "#9c179e"
             ],
             [
              0.4444444444444444,
              "#bd3786"
             ],
             [
              0.5555555555555556,
              "#d8576b"
             ],
             [
              0.6666666666666666,
              "#ed7953"
             ],
             [
              0.7777777777777778,
              "#fb9f3a"
             ],
             [
              0.8888888888888888,
              "#fdca26"
             ],
             [
              1,
              "#f0f921"
             ]
            ],
            "type": "heatmap"
           }
          ],
          "heatmapgl": [
           {
            "colorbar": {
             "outlinewidth": 0,
             "ticks": ""
            },
            "colorscale": [
             [
              0,
              "#0d0887"
             ],
             [
              0.1111111111111111,
              "#46039f"
             ],
             [
              0.2222222222222222,
              "#7201a8"
             ],
             [
              0.3333333333333333,
              "#9c179e"
             ],
             [
              0.4444444444444444,
              "#bd3786"
             ],
             [
              0.5555555555555556,
              "#d8576b"
             ],
             [
              0.6666666666666666,
              "#ed7953"
             ],
             [
              0.7777777777777778,
              "#fb9f3a"
             ],
             [
              0.8888888888888888,
              "#fdca26"
             ],
             [
              1,
              "#f0f921"
             ]
            ],
            "type": "heatmapgl"
           }
          ],
          "histogram": [
           {
            "marker": {
             "pattern": {
              "fillmode": "overlay",
              "size": 10,
              "solidity": 0.2
             }
            },
            "type": "histogram"
           }
          ],
          "histogram2d": [
           {
            "colorbar": {
             "outlinewidth": 0,
             "ticks": ""
            },
            "colorscale": [
             [
              0,
              "#0d0887"
             ],
             [
              0.1111111111111111,
              "#46039f"
             ],
             [
              0.2222222222222222,
              "#7201a8"
             ],
             [
              0.3333333333333333,
              "#9c179e"
             ],
             [
              0.4444444444444444,
              "#bd3786"
             ],
             [
              0.5555555555555556,
              "#d8576b"
             ],
             [
              0.6666666666666666,
              "#ed7953"
             ],
             [
              0.7777777777777778,
              "#fb9f3a"
             ],
             [
              0.8888888888888888,
              "#fdca26"
             ],
             [
              1,
              "#f0f921"
             ]
            ],
            "type": "histogram2d"
           }
          ],
          "histogram2dcontour": [
           {
            "colorbar": {
             "outlinewidth": 0,
             "ticks": ""
            },
            "colorscale": [
             [
              0,
              "#0d0887"
             ],
             [
              0.1111111111111111,
              "#46039f"
             ],
             [
              0.2222222222222222,
              "#7201a8"
             ],
             [
              0.3333333333333333,
              "#9c179e"
             ],
             [
              0.4444444444444444,
              "#bd3786"
             ],
             [
              0.5555555555555556,
              "#d8576b"
             ],
             [
              0.6666666666666666,
              "#ed7953"
             ],
             [
              0.7777777777777778,
              "#fb9f3a"
             ],
             [
              0.8888888888888888,
              "#fdca26"
             ],
             [
              1,
              "#f0f921"
             ]
            ],
            "type": "histogram2dcontour"
           }
          ],
          "mesh3d": [
           {
            "colorbar": {
             "outlinewidth": 0,
             "ticks": ""
            },
            "type": "mesh3d"
           }
          ],
          "parcoords": [
           {
            "line": {
             "colorbar": {
              "outlinewidth": 0,
              "ticks": ""
             }
            },
            "type": "parcoords"
           }
          ],
          "pie": [
           {
            "automargin": true,
            "type": "pie"
           }
          ],
          "scatter": [
           {
            "fillpattern": {
             "fillmode": "overlay",
             "size": 10,
             "solidity": 0.2
            },
            "type": "scatter"
           }
          ],
          "scatter3d": [
           {
            "line": {
             "colorbar": {
              "outlinewidth": 0,
              "ticks": ""
             }
            },
            "marker": {
             "colorbar": {
              "outlinewidth": 0,
              "ticks": ""
             }
            },
            "type": "scatter3d"
           }
          ],
          "scattercarpet": [
           {
            "marker": {
             "colorbar": {
              "outlinewidth": 0,
              "ticks": ""
             }
            },
            "type": "scattercarpet"
           }
          ],
          "scattergeo": [
           {
            "marker": {
             "colorbar": {
              "outlinewidth": 0,
              "ticks": ""
             }
            },
            "type": "scattergeo"
           }
          ],
          "scattergl": [
           {
            "marker": {
             "colorbar": {
              "outlinewidth": 0,
              "ticks": ""
             }
            },
            "type": "scattergl"
           }
          ],
          "scattermapbox": [
           {
            "marker": {
             "colorbar": {
              "outlinewidth": 0,
              "ticks": ""
             }
            },
            "type": "scattermapbox"
           }
          ],
          "scatterpolar": [
           {
            "marker": {
             "colorbar": {
              "outlinewidth": 0,
              "ticks": ""
             }
            },
            "type": "scatterpolar"
           }
          ],
          "scatterpolargl": [
           {
            "marker": {
             "colorbar": {
              "outlinewidth": 0,
              "ticks": ""
             }
            },
            "type": "scatterpolargl"
           }
          ],
          "scatterternary": [
           {
            "marker": {
             "colorbar": {
              "outlinewidth": 0,
              "ticks": ""
             }
            },
            "type": "scatterternary"
           }
          ],
          "surface": [
           {
            "colorbar": {
             "outlinewidth": 0,
             "ticks": ""
            },
            "colorscale": [
             [
              0,
              "#0d0887"
             ],
             [
              0.1111111111111111,
              "#46039f"
             ],
             [
              0.2222222222222222,
              "#7201a8"
             ],
             [
              0.3333333333333333,
              "#9c179e"
             ],
             [
              0.4444444444444444,
              "#bd3786"
             ],
             [
              0.5555555555555556,
              "#d8576b"
             ],
             [
              0.6666666666666666,
              "#ed7953"
             ],
             [
              0.7777777777777778,
              "#fb9f3a"
             ],
             [
              0.8888888888888888,
              "#fdca26"
             ],
             [
              1,
              "#f0f921"
             ]
            ],
            "type": "surface"
           }
          ],
          "table": [
           {
            "cells": {
             "fill": {
              "color": "#EBF0F8"
             },
             "line": {
              "color": "white"
             }
            },
            "header": {
             "fill": {
              "color": "#C8D4E3"
             },
             "line": {
              "color": "white"
             }
            },
            "type": "table"
           }
          ]
         },
         "layout": {
          "annotationdefaults": {
           "arrowcolor": "#2a3f5f",
           "arrowhead": 0,
           "arrowwidth": 1
          },
          "autotypenumbers": "strict",
          "coloraxis": {
           "colorbar": {
            "outlinewidth": 0,
            "ticks": ""
           }
          },
          "colorscale": {
           "diverging": [
            [
             0,
             "#8e0152"
            ],
            [
             0.1,
             "#c51b7d"
            ],
            [
             0.2,
             "#de77ae"
            ],
            [
             0.3,
             "#f1b6da"
            ],
            [
             0.4,
             "#fde0ef"
            ],
            [
             0.5,
             "#f7f7f7"
            ],
            [
             0.6,
             "#e6f5d0"
            ],
            [
             0.7,
             "#b8e186"
            ],
            [
             0.8,
             "#7fbc41"
            ],
            [
             0.9,
             "#4d9221"
            ],
            [
             1,
             "#276419"
            ]
           ],
           "sequential": [
            [
             0,
             "#0d0887"
            ],
            [
             0.1111111111111111,
             "#46039f"
            ],
            [
             0.2222222222222222,
             "#7201a8"
            ],
            [
             0.3333333333333333,
             "#9c179e"
            ],
            [
             0.4444444444444444,
             "#bd3786"
            ],
            [
             0.5555555555555556,
             "#d8576b"
            ],
            [
             0.6666666666666666,
             "#ed7953"
            ],
            [
             0.7777777777777778,
             "#fb9f3a"
            ],
            [
             0.8888888888888888,
             "#fdca26"
            ],
            [
             1,
             "#f0f921"
            ]
           ],
           "sequentialminus": [
            [
             0,
             "#0d0887"
            ],
            [
             0.1111111111111111,
             "#46039f"
            ],
            [
             0.2222222222222222,
             "#7201a8"
            ],
            [
             0.3333333333333333,
             "#9c179e"
            ],
            [
             0.4444444444444444,
             "#bd3786"
            ],
            [
             0.5555555555555556,
             "#d8576b"
            ],
            [
             0.6666666666666666,
             "#ed7953"
            ],
            [
             0.7777777777777778,
             "#fb9f3a"
            ],
            [
             0.8888888888888888,
             "#fdca26"
            ],
            [
             1,
             "#f0f921"
            ]
           ]
          },
          "colorway": [
           "#636efa",
           "#EF553B",
           "#00cc96",
           "#ab63fa",
           "#FFA15A",
           "#19d3f3",
           "#FF6692",
           "#B6E880",
           "#FF97FF",
           "#FECB52"
          ],
          "font": {
           "color": "#2a3f5f"
          },
          "geo": {
           "bgcolor": "white",
           "lakecolor": "white",
           "landcolor": "#E5ECF6",
           "showlakes": true,
           "showland": true,
           "subunitcolor": "white"
          },
          "hoverlabel": {
           "align": "left"
          },
          "hovermode": "closest",
          "mapbox": {
           "style": "light"
          },
          "paper_bgcolor": "white",
          "plot_bgcolor": "#E5ECF6",
          "polar": {
           "angularaxis": {
            "gridcolor": "white",
            "linecolor": "white",
            "ticks": ""
           },
           "bgcolor": "#E5ECF6",
           "radialaxis": {
            "gridcolor": "white",
            "linecolor": "white",
            "ticks": ""
           }
          },
          "scene": {
           "xaxis": {
            "backgroundcolor": "#E5ECF6",
            "gridcolor": "white",
            "gridwidth": 2,
            "linecolor": "white",
            "showbackground": true,
            "ticks": "",
            "zerolinecolor": "white"
           },
           "yaxis": {
            "backgroundcolor": "#E5ECF6",
            "gridcolor": "white",
            "gridwidth": 2,
            "linecolor": "white",
            "showbackground": true,
            "ticks": "",
            "zerolinecolor": "white"
           },
           "zaxis": {
            "backgroundcolor": "#E5ECF6",
            "gridcolor": "white",
            "gridwidth": 2,
            "linecolor": "white",
            "showbackground": true,
            "ticks": "",
            "zerolinecolor": "white"
           }
          },
          "shapedefaults": {
           "line": {
            "color": "#2a3f5f"
           }
          },
          "ternary": {
           "aaxis": {
            "gridcolor": "white",
            "linecolor": "white",
            "ticks": ""
           },
           "baxis": {
            "gridcolor": "white",
            "linecolor": "white",
            "ticks": ""
           },
           "bgcolor": "#E5ECF6",
           "caxis": {
            "gridcolor": "white",
            "linecolor": "white",
            "ticks": ""
           }
          },
          "title": {
           "x": 0.05
          },
          "xaxis": {
           "automargin": true,
           "gridcolor": "white",
           "linecolor": "white",
           "ticks": "",
           "title": {
            "standoff": 15
           },
           "zerolinecolor": "white",
           "zerolinewidth": 2
          },
          "yaxis": {
           "automargin": true,
           "gridcolor": "white",
           "linecolor": "white",
           "ticks": "",
           "title": {
            "standoff": 15
           },
           "zerolinecolor": "white",
           "zerolinewidth": 2
          }
         }
        },
        "title": {
         "text": "Todays ACCU Pos (PnL and Delta)",
         "x": 0.5,
         "xanchor": "center"
        },
        "xaxis": {
         "anchor": "y",
         "domain": [
          0,
          0.45
         ],
         "title": {
          "text": "Price"
         }
        },
        "xaxis2": {
         "anchor": "y2",
         "domain": [
          0.55,
          1
         ],
         "title": {
          "text": "Price"
         }
        },
        "yaxis": {
         "anchor": "x",
         "domain": [
          0,
          1
         ],
         "title": {
          "text": "Pnl"
         }
        },
        "yaxis2": {
         "anchor": "x2",
         "domain": [
          0,
          1
         ],
         "title": {
          "text": "Delta"
         }
        }
       }
      },
      "text/html": [
       "<div>                            <div id=\"5f1576cb-c524-4971-ba1d-bd791c5e2d0e\" class=\"plotly-graph-div\" style=\"height:525px; width:100%;\"></div>            <script type=\"text/javascript\">                require([\"plotly\"], function(Plotly) {                    window.PLOTLYENV=window.PLOTLYENV || {};                                    if (document.getElementById(\"5f1576cb-c524-4971-ba1d-bd791c5e2d0e\")) {                    Plotly.newPlot(                        \"5f1576cb-c524-4971-ba1d-bd791c5e2d0e\",                        [{\"base\":0,\"name\":\"Spot\",\"x\":[20,21,22,23,24,25,26,27,28,29,30,31,32,33,34,35,36,37,38,39,40,41,42,43,44,45],\"y\":[67030,67030,67030,67030,67030,67030,67030,67030,67030,67030,67030,67030,67030,67030,67030,67030,67030,67030,67030,67030,67030,67030,67030,67030,67030,67030],\"type\":\"bar\",\"xaxis\":\"x2\",\"yaxis\":\"y2\"},{\"base\":0,\"name\":\"Spot\",\"x\":[20,21,22,23,24,25,26,27,28,29,30,31,32,33,34,35,36,37,38,39,40,41,42,43,44,45],\"y\":[-737330.0,-670300.0,-603270.0,-536240.0,-469210.0,-402180.0,-335150.0,-268120.0,-201090.0,-134060.0,-67030.0,0.0,67030.0,134060.0,201090.0,268120.0,335150.0,402180.0,469210.0,536240.0,603270.0,670300.0,737330.0,804360.0,871390.0,938420.0],\"type\":\"bar\",\"xaxis\":\"x\",\"yaxis\":\"y\"},{\"base\":0,\"name\":\"Fwds\",\"x\":[20,21,22,23,24,25,26,27,28,29,30,31,32,33,34,35,36,37,38,39,40,41,42,43,44,45],\"y\":[5000,5000,5000,5000,5000,5000,5000,5000,5000,5000,5000,5000,5000,5000,5000,5000,5000,5000,5000,5000,5000,5000,5000,5000,5000,5000],\"type\":\"bar\",\"xaxis\":\"x2\",\"yaxis\":\"y2\"},{\"base\":0,\"name\":\"Fwds\",\"x\":[20,21,22,23,24,25,26,27,28,29,30,31,32,33,34,35,36,37,38,39,40,41,42,43,44,45],\"y\":[-44888.724087101116,-41361.65540740674,-37834.58672771242,-34307.518048017984,-30780.449368324014,-27253.380688630044,-23726.31200893561,-20199.24332924129,-16672.174649547203,-13145.105969853,-9618.037290158914,-6090.968610464479,-2563.899930770742,963.1687489236938,4490.237428618129,8017.306108312565,11544.374788006535,15071.443467701203,18598.512147395173,22125.580827089143,25652.64950678358,29179.71818647755,32706.786866171984,36233.855545865954,39760.92422556062,43287.99290525459],\"type\":\"bar\",\"xaxis\":\"x\",\"yaxis\":\"y\"},{\"base\":0,\"name\":\"Options\",\"x\":[20,21,22,23,24,25,26,27,28,29,30,31,32,33,34,35,36,37,38,39,40,41,42,43,44,45],\"y\":[17829.274748084124,13153.45224752299,7263.548859829193,495.2805360402807,-6823.208247665098,-14522.195167838436,-22529.33649336645,-30616.188351632976,-38208.80952800309,-44504.32948853392,-48847.503654457316,-51075.32716261789,-51581.873389435714,-51098.24243404298,-50368.58095844815,-49907.91860433776,-49917.02324043744,-50324.969995992775,-50890.889882497795,-51309.652243302204,-51294.96997797303,-50633.685545556786,-49212.92750166987,-47023.49634104623,-44143.96259327039,-40712.06890632373],\"type\":\"bar\",\"xaxis\":\"x2\",\"yaxis\":\"y2\"},{\"base\":0,\"name\":\"Options\",\"x\":[20,21,22,23,24,25,26,27,28,29,30,31,32,33,34,35,36,37,38,39,40,41,42,43,44,45],\"y\":[201209.59593356497,216812.36582672826,227109.58892010277,231046.8026275476,227918.82915771505,217274.95244086802,198769.8998843105,172185.39240498893,137699.31828446352,96201.83695980227,49347.341347530964,-781.4445117142441,-52225.674273680546,-103615.12304933986,-154342.92564407532,-204445.61916426092,-254318.44467649097,-304414.4998035687,-355021.72237664054,-406146.97824592807,-457495.6967690012,-508520.2382252701,-558508.7320690115,-606688.8764259883,-652325.0273277219,-694792.3960853202],\"type\":\"bar\",\"xaxis\":\"x\",\"yaxis\":\"y\"},{\"mode\":\"lines\",\"name\":\"Total_Delta\",\"x\":[20,21,22,23,24,25,26,27,28,29,30,31,32,33,34,35,36,37,38,39,40,41,42,43,44,45],\"y\":[89859.27474808412,85183.45224752299,79293.5488598292,72525.28053604029,65206.7917523349,57507.804832161564,49500.66350663355,41413.811648367024,33821.19047199691,27525.67051146608,23182.496345542684,20954.67283738211,20448.126610564286,20931.75756595702,21661.419041551853,22122.081395662237,22112.97675956256,21705.030004007225,21139.110117502205,20720.347756697796,20735.03002202697,21396.314454443214,22817.072498330133,25006.50365895377,27886.037406729607,31317.93109367627],\"type\":\"scatter\",\"xaxis\":\"x2\",\"yaxis\":\"y2\"},{\"mode\":\"lines\",\"name\":\"Total_PnL\",\"x\":[20,21,22,23,24,25,26,27,28,29,30,31,32,33,34,35,36,37,38,39,40,41,42,43,44,45],\"y\":[-581009.1281535362,-494849.28958067845,-413994.9978076096,-339500.7154204704,-272071.62021060893,-212158.42824776203,-160106.41212462512,-116133.85092425236,-80062.85636508369,-51003.26901005073,-27300.69594262795,-6872.413122178723,12240.425795548712,31408.045699583832,51237.311784542806,71691.68694405165,92375.93011151557,112836.9436641325,132786.78977075464,152218.60258116107,171426.95273778238,190959.47996120743,211528.05479716044,233904.97911987768,258825.89689783868,286915.59681993444],\"type\":\"scatter\",\"xaxis\":\"x\",\"yaxis\":\"y\"}],                        {\"template\":{\"data\":{\"histogram2dcontour\":[{\"type\":\"histogram2dcontour\",\"colorbar\":{\"outlinewidth\":0,\"ticks\":\"\"},\"colorscale\":[[0.0,\"#0d0887\"],[0.1111111111111111,\"#46039f\"],[0.2222222222222222,\"#7201a8\"],[0.3333333333333333,\"#9c179e\"],[0.4444444444444444,\"#bd3786\"],[0.5555555555555556,\"#d8576b\"],[0.6666666666666666,\"#ed7953\"],[0.7777777777777778,\"#fb9f3a\"],[0.8888888888888888,\"#fdca26\"],[1.0,\"#f0f921\"]]}],\"choropleth\":[{\"type\":\"choropleth\",\"colorbar\":{\"outlinewidth\":0,\"ticks\":\"\"}}],\"histogram2d\":[{\"type\":\"histogram2d\",\"colorbar\":{\"outlinewidth\":0,\"ticks\":\"\"},\"colorscale\":[[0.0,\"#0d0887\"],[0.1111111111111111,\"#46039f\"],[0.2222222222222222,\"#7201a8\"],[0.3333333333333333,\"#9c179e\"],[0.4444444444444444,\"#bd3786\"],[0.5555555555555556,\"#d8576b\"],[0.6666666666666666,\"#ed7953\"],[0.7777777777777778,\"#fb9f3a\"],[0.8888888888888888,\"#fdca26\"],[1.0,\"#f0f921\"]]}],\"heatmap\":[{\"type\":\"heatmap\",\"colorbar\":{\"outlinewidth\":0,\"ticks\":\"\"},\"colorscale\":[[0.0,\"#0d0887\"],[0.1111111111111111,\"#46039f\"],[0.2222222222222222,\"#7201a8\"],[0.3333333333333333,\"#9c179e\"],[0.4444444444444444,\"#bd3786\"],[0.5555555555555556,\"#d8576b\"],[0.6666666666666666,\"#ed7953\"],[0.7777777777777778,\"#fb9f3a\"],[0.8888888888888888,\"#fdca26\"],[1.0,\"#f0f921\"]]}],\"heatmapgl\":[{\"type\":\"heatmapgl\",\"colorbar\":{\"outlinewidth\":0,\"ticks\":\"\"},\"colorscale\":[[0.0,\"#0d0887\"],[0.1111111111111111,\"#46039f\"],[0.2222222222222222,\"#7201a8\"],[0.3333333333333333,\"#9c179e\"],[0.4444444444444444,\"#bd3786\"],[0.5555555555555556,\"#d8576b\"],[0.6666666666666666,\"#ed7953\"],[0.7777777777777778,\"#fb9f3a\"],[0.8888888888888888,\"#fdca26\"],[1.0,\"#f0f921\"]]}],\"contourcarpet\":[{\"type\":\"contourcarpet\",\"colorbar\":{\"outlinewidth\":0,\"ticks\":\"\"}}],\"contour\":[{\"type\":\"contour\",\"colorbar\":{\"outlinewidth\":0,\"ticks\":\"\"},\"colorscale\":[[0.0,\"#0d0887\"],[0.1111111111111111,\"#46039f\"],[0.2222222222222222,\"#7201a8\"],[0.3333333333333333,\"#9c179e\"],[0.4444444444444444,\"#bd3786\"],[0.5555555555555556,\"#d8576b\"],[0.6666666666666666,\"#ed7953\"],[0.7777777777777778,\"#fb9f3a\"],[0.8888888888888888,\"#fdca26\"],[1.0,\"#f0f921\"]]}],\"surface\":[{\"type\":\"surface\",\"colorbar\":{\"outlinewidth\":0,\"ticks\":\"\"},\"colorscale\":[[0.0,\"#0d0887\"],[0.1111111111111111,\"#46039f\"],[0.2222222222222222,\"#7201a8\"],[0.3333333333333333,\"#9c179e\"],[0.4444444444444444,\"#bd3786\"],[0.5555555555555556,\"#d8576b\"],[0.6666666666666666,\"#ed7953\"],[0.7777777777777778,\"#fb9f3a\"],[0.8888888888888888,\"#fdca26\"],[1.0,\"#f0f921\"]]}],\"mesh3d\":[{\"type\":\"mesh3d\",\"colorbar\":{\"outlinewidth\":0,\"ticks\":\"\"}}],\"scatter\":[{\"fillpattern\":{\"fillmode\":\"overlay\",\"size\":10,\"solidity\":0.2},\"type\":\"scatter\"}],\"parcoords\":[{\"type\":\"parcoords\",\"line\":{\"colorbar\":{\"outlinewidth\":0,\"ticks\":\"\"}}}],\"scatterpolargl\":[{\"type\":\"scatterpolargl\",\"marker\":{\"colorbar\":{\"outlinewidth\":0,\"ticks\":\"\"}}}],\"bar\":[{\"error_x\":{\"color\":\"#2a3f5f\"},\"error_y\":{\"color\":\"#2a3f5f\"},\"marker\":{\"line\":{\"color\":\"#E5ECF6\",\"width\":0.5},\"pattern\":{\"fillmode\":\"overlay\",\"size\":10,\"solidity\":0.2}},\"type\":\"bar\"}],\"scattergeo\":[{\"type\":\"scattergeo\",\"marker\":{\"colorbar\":{\"outlinewidth\":0,\"ticks\":\"\"}}}],\"scatterpolar\":[{\"type\":\"scatterpolar\",\"marker\":{\"colorbar\":{\"outlinewidth\":0,\"ticks\":\"\"}}}],\"histogram\":[{\"marker\":{\"pattern\":{\"fillmode\":\"overlay\",\"size\":10,\"solidity\":0.2}},\"type\":\"histogram\"}],\"scattergl\":[{\"type\":\"scattergl\",\"marker\":{\"colorbar\":{\"outlinewidth\":0,\"ticks\":\"\"}}}],\"scatter3d\":[{\"type\":\"scatter3d\",\"line\":{\"colorbar\":{\"outlinewidth\":0,\"ticks\":\"\"}},\"marker\":{\"colorbar\":{\"outlinewidth\":0,\"ticks\":\"\"}}}],\"scattermapbox\":[{\"type\":\"scattermapbox\",\"marker\":{\"colorbar\":{\"outlinewidth\":0,\"ticks\":\"\"}}}],\"scatterternary\":[{\"type\":\"scatterternary\",\"marker\":{\"colorbar\":{\"outlinewidth\":0,\"ticks\":\"\"}}}],\"scattercarpet\":[{\"type\":\"scattercarpet\",\"marker\":{\"colorbar\":{\"outlinewidth\":0,\"ticks\":\"\"}}}],\"carpet\":[{\"aaxis\":{\"endlinecolor\":\"#2a3f5f\",\"gridcolor\":\"white\",\"linecolor\":\"white\",\"minorgridcolor\":\"white\",\"startlinecolor\":\"#2a3f5f\"},\"baxis\":{\"endlinecolor\":\"#2a3f5f\",\"gridcolor\":\"white\",\"linecolor\":\"white\",\"minorgridcolor\":\"white\",\"startlinecolor\":\"#2a3f5f\"},\"type\":\"carpet\"}],\"table\":[{\"cells\":{\"fill\":{\"color\":\"#EBF0F8\"},\"line\":{\"color\":\"white\"}},\"header\":{\"fill\":{\"color\":\"#C8D4E3\"},\"line\":{\"color\":\"white\"}},\"type\":\"table\"}],\"barpolar\":[{\"marker\":{\"line\":{\"color\":\"#E5ECF6\",\"width\":0.5},\"pattern\":{\"fillmode\":\"overlay\",\"size\":10,\"solidity\":0.2}},\"type\":\"barpolar\"}],\"pie\":[{\"automargin\":true,\"type\":\"pie\"}]},\"layout\":{\"autotypenumbers\":\"strict\",\"colorway\":[\"#636efa\",\"#EF553B\",\"#00cc96\",\"#ab63fa\",\"#FFA15A\",\"#19d3f3\",\"#FF6692\",\"#B6E880\",\"#FF97FF\",\"#FECB52\"],\"font\":{\"color\":\"#2a3f5f\"},\"hovermode\":\"closest\",\"hoverlabel\":{\"align\":\"left\"},\"paper_bgcolor\":\"white\",\"plot_bgcolor\":\"#E5ECF6\",\"polar\":{\"bgcolor\":\"#E5ECF6\",\"angularaxis\":{\"gridcolor\":\"white\",\"linecolor\":\"white\",\"ticks\":\"\"},\"radialaxis\":{\"gridcolor\":\"white\",\"linecolor\":\"white\",\"ticks\":\"\"}},\"ternary\":{\"bgcolor\":\"#E5ECF6\",\"aaxis\":{\"gridcolor\":\"white\",\"linecolor\":\"white\",\"ticks\":\"\"},\"baxis\":{\"gridcolor\":\"white\",\"linecolor\":\"white\",\"ticks\":\"\"},\"caxis\":{\"gridcolor\":\"white\",\"linecolor\":\"white\",\"ticks\":\"\"}},\"coloraxis\":{\"colorbar\":{\"outlinewidth\":0,\"ticks\":\"\"}},\"colorscale\":{\"sequential\":[[0.0,\"#0d0887\"],[0.1111111111111111,\"#46039f\"],[0.2222222222222222,\"#7201a8\"],[0.3333333333333333,\"#9c179e\"],[0.4444444444444444,\"#bd3786\"],[0.5555555555555556,\"#d8576b\"],[0.6666666666666666,\"#ed7953\"],[0.7777777777777778,\"#fb9f3a\"],[0.8888888888888888,\"#fdca26\"],[1.0,\"#f0f921\"]],\"sequentialminus\":[[0.0,\"#0d0887\"],[0.1111111111111111,\"#46039f\"],[0.2222222222222222,\"#7201a8\"],[0.3333333333333333,\"#9c179e\"],[0.4444444444444444,\"#bd3786\"],[0.5555555555555556,\"#d8576b\"],[0.6666666666666666,\"#ed7953\"],[0.7777777777777778,\"#fb9f3a\"],[0.8888888888888888,\"#fdca26\"],[1.0,\"#f0f921\"]],\"diverging\":[[0,\"#8e0152\"],[0.1,\"#c51b7d\"],[0.2,\"#de77ae\"],[0.3,\"#f1b6da\"],[0.4,\"#fde0ef\"],[0.5,\"#f7f7f7\"],[0.6,\"#e6f5d0\"],[0.7,\"#b8e186\"],[0.8,\"#7fbc41\"],[0.9,\"#4d9221\"],[1,\"#276419\"]]},\"xaxis\":{\"gridcolor\":\"white\",\"linecolor\":\"white\",\"ticks\":\"\",\"title\":{\"standoff\":15},\"zerolinecolor\":\"white\",\"automargin\":true,\"zerolinewidth\":2},\"yaxis\":{\"gridcolor\":\"white\",\"linecolor\":\"white\",\"ticks\":\"\",\"title\":{\"standoff\":15},\"zerolinecolor\":\"white\",\"automargin\":true,\"zerolinewidth\":2},\"scene\":{\"xaxis\":{\"backgroundcolor\":\"#E5ECF6\",\"gridcolor\":\"white\",\"linecolor\":\"white\",\"showbackground\":true,\"ticks\":\"\",\"zerolinecolor\":\"white\",\"gridwidth\":2},\"yaxis\":{\"backgroundcolor\":\"#E5ECF6\",\"gridcolor\":\"white\",\"linecolor\":\"white\",\"showbackground\":true,\"ticks\":\"\",\"zerolinecolor\":\"white\",\"gridwidth\":2},\"zaxis\":{\"backgroundcolor\":\"#E5ECF6\",\"gridcolor\":\"white\",\"linecolor\":\"white\",\"showbackground\":true,\"ticks\":\"\",\"zerolinecolor\":\"white\",\"gridwidth\":2}},\"shapedefaults\":{\"line\":{\"color\":\"#2a3f5f\"}},\"annotationdefaults\":{\"arrowcolor\":\"#2a3f5f\",\"arrowhead\":0,\"arrowwidth\":1},\"geo\":{\"bgcolor\":\"white\",\"landcolor\":\"#E5ECF6\",\"subunitcolor\":\"white\",\"showland\":true,\"showlakes\":true,\"lakecolor\":\"white\"},\"title\":{\"x\":0.05},\"mapbox\":{\"style\":\"light\"}}},\"xaxis\":{\"anchor\":\"y\",\"domain\":[0.0,0.45],\"title\":{\"text\":\"Price\"}},\"yaxis\":{\"anchor\":\"x\",\"domain\":[0.0,1.0],\"title\":{\"text\":\"Pnl\"}},\"xaxis2\":{\"anchor\":\"y2\",\"domain\":[0.55,1.0],\"title\":{\"text\":\"Price\"}},\"yaxis2\":{\"anchor\":\"x2\",\"domain\":[0.0,1.0],\"title\":{\"text\":\"Delta\"}},\"title\":{\"text\":\"Todays ACCU Pos (PnL and Delta)\",\"x\":0.5,\"xanchor\":\"center\"},\"barmode\":\"stack\"},                        {\"responsive\": true}                    ).then(function(){\n",
       "                            \n",
       "var gd = document.getElementById('5f1576cb-c524-4971-ba1d-bd791c5e2d0e');\n",
       "var x = new MutationObserver(function (mutations, observer) {{\n",
       "        var display = window.getComputedStyle(gd).display;\n",
       "        if (!display || display === 'none') {{\n",
       "            console.log([gd, 'removed!']);\n",
       "            Plotly.purge(gd);\n",
       "            observer.disconnect();\n",
       "        }}\n",
       "}});\n",
       "\n",
       "// Listen for the removal of the full notebook cells\n",
       "var notebookContainer = gd.closest('#notebook-container');\n",
       "if (notebookContainer) {{\n",
       "    x.observe(notebookContainer, {childList: true});\n",
       "}}\n",
       "\n",
       "// Listen for the clearing of the current output cell\n",
       "var outputEl = gd.closest('.output');\n",
       "if (outputEl) {{\n",
       "    x.observe(outputEl, {childList: true});\n",
       "}}\n",
       "\n",
       "                        })                };                });            </script>        </div>"
      ]
     },
     "metadata": {},
     "output_type": "display_data"
    }
   ],
   "source": [
    "## USE THIS STYLE OF GRAPHING FOR TODAY DATE ENTRY ##\n",
    "position_functions = Position_Reporting(positions, 'ACCU', current_date)\n",
    "pnl, delta, theta, vega, value = position_functions.combine_frame()\n",
    "\n",
    "fig_d = go.Figure()\n",
    "\n",
    "fig_d.add_trace(go.Bar(x=delta.Price, y=delta.Spot, name='Spot', base=0))\n",
    "fig_d.add_trace(go.Bar(x=delta.Price, y=delta.Fwds, name='Fwds', base=0))\n",
    "fig_d.add_trace(go.Bar(x=delta.Price, y=delta.Options, name='Options', base=0))\n",
    "fig_d.add_trace(go.Scatter(x=delta.Price, y=delta.Total_Delta, mode='lines', name='Total_Delta'))\n",
    "\n",
    "#fig_d.update_layout(title='ACCU Delta Today', xaxis_title='Price', yaxis_title='Delta', barmode='stack')\n",
    "#fig_d.show()\n",
    "\n",
    "#~~~~~~~~~~~~~~~~~~~~~~~~~~~~~~~~~\n",
    "fig_p = go.Figure()\n",
    "\n",
    "fig_p.add_trace(go.Bar(x=pnl.Price, y=pnl.Spot, name='Spot', base=0))\n",
    "fig_p.add_trace(go.Bar(x=pnl.Price, y=pnl.Fwds, name='Fwds', base=0))\n",
    "fig_p.add_trace(go.Bar(x=pnl.Price, y=pnl.Options, name='Options', base=0))\n",
    "fig_p.add_trace(go.Scatter(x=pnl.Price, y=pnl.Total_Pnl, mode='lines', name='Total_PnL'))\n",
    "\n",
    "#fig_p.update_layout(title='ACCU PnL Today', xaxis_title='Price', yaxis_title='pnl', barmode='stack')\n",
    "#fig_p.show()\n",
    "\n",
    "\n",
    "#~~~~~~~~~~~~~~~~~~~~~~~~~~~~~~~\n",
    "fig = make_subplots(rows=1, cols=2)\n",
    "for i in range(0,len(fig_d.data)):\n",
    "    fig.add_trace(fig_d.data[i], row=1, col=2)\n",
    "    fig.add_trace(fig_p.data[i], row=1, col=1)\n",
    "    \n",
    "fig.update_layout(title={'text': 'Todays ACCU Pos (PnL and Delta)','x': 0.5,'xanchor': 'center'}, barmode='stack')\n",
    "\n",
    "fig.update_xaxes(title_text=\"Price\", row=1, col=1)\n",
    "fig.update_yaxes(title_text=\"Pnl\", row=1, col=1)\n",
    "fig.update_xaxes(title_text=\"Price\", row=1, col=2)\n",
    "fig.update_yaxes(title_text=\"Delta\", row=1, col=2)    \n",
    "fig.show()  "
   ]
  },
  {
   "cell_type": "markdown",
   "id": "bdbfe069",
   "metadata": {},
   "source": [
    "  # Options Book"
   ]
  },
  {
   "cell_type": "code",
   "execution_count": 13,
   "id": "47f6c878",
   "metadata": {},
   "outputs": [],
   "source": [
    "p,d,t,v, value = position_functions.options()"
   ]
  },
  {
   "cell_type": "code",
   "execution_count": 14,
   "id": "b3e9cc12",
   "metadata": {},
   "outputs": [
    {
     "data": {
      "application/vnd.plotly.v1+json": {
       "config": {
        "plotlyServerURL": "https://plot.ly"
       },
       "data": [
        {
         "base": 0,
         "name": "ACCU 32P Dec23",
         "type": "bar",
         "x": [
          20,
          21,
          22,
          23,
          24,
          25,
          26,
          27,
          28,
          29,
          30,
          31,
          32,
          33,
          34,
          35,
          36,
          37,
          38,
          39,
          40,
          41,
          42,
          43,
          44,
          45
         ],
         "xaxis": "x",
         "y": [
          255684.48955850647,
          230684.527299302,
          205684.91597548925,
          180687.79646210364,
          155703.76484537005,
          130772.24634460121,
          106006.24199895313,
          81660.14760821164,
          58190.078586981814,
          36251.44865359643,
          16593.921483671715,
          -125.41985122291953,
          -13528.666075205823,
          -23613.728163756823,
          -30723.85004423073,
          -35421.45304873434,
          -38334.30813530021,
          -40033.403298129204,
          -40968.3925371038,
          -41455.28714070382,
          -41695.99825900998,
          -41809.337574983314,
          -41860.32295991305,
          -41882.30143919198,
          -41891.406457279234,
          -41895.04119193676
         ],
         "yaxis": "y"
        },
        {
         "base": 0,
         "name": "ACCU 32P Dec23",
         "type": "bar",
         "x": [
          20,
          21,
          22,
          23,
          24,
          25,
          26,
          27,
          28,
          29,
          30,
          31,
          32,
          33,
          34,
          35,
          36,
          37,
          38,
          39,
          40,
          41,
          42,
          43,
          44,
          45
         ],
         "xaxis": "x2",
         "y": [
          -24999.992282322775,
          -24999.89751745916,
          -24999.057762452092,
          -24993.723627042837,
          -24968.508392506086,
          -24876.898330640855,
          -24613.866484053066,
          -24002.380479426203,
          -22826.722627212705,
          -20922.258514097004,
          -18279.930044771627,
          -15094.06194581014,
          -11712.681418371856,
          -8516.935267732137,
          -5799.760709056667,
          -3702.1688090967286,
          -2219.76152166829,
          -1253.5213135997258,
          -668.7487305611778,
          -338.14449154128954,
          -162.57947303297826,
          -74.56680179775965,
          -32.725587078322185,
          -13.784058391907994,
          -5.587697812867165,
          -2.1857638646427535
         ],
         "yaxis": "y2"
        },
        {
         "base": 0,
         "name": "ACCU 45C Dec23",
         "type": "bar",
         "x": [
          20,
          21,
          22,
          23,
          24,
          25,
          26,
          27,
          28,
          29,
          30,
          31,
          32,
          33,
          34,
          35,
          36,
          37,
          38,
          39,
          40,
          41,
          42,
          43,
          44,
          45
         ],
         "xaxis": "x",
         "y": [
          -1.10992621238905,
          -1.1099262123969993,
          -1.1099262123269626,
          -1.1099262093677673,
          -1.1099261273261498,
          -1.1099244763751561,
          -1.1098997863726656,
          -1.1096171455349866,
          -1.107076415124614,
          -1.0887332322268668,
          -0.9802281353580216,
          -0.44492354575593307,
          1.7929172997587148,
          9.834423194191412,
          34.99528521976884,
          104.34963029241301,
          274.57066610702844,
          650.2252334351757,
          1402.3879536530894,
          2780.261912466348,
          5107.634767407338,
          8759.040995345518,
          14116.986354180499,
          21518.857396001473,
          31206.721920896078,
          43292.89366773189
         ],
         "yaxis": "y"
        },
        {
         "base": 0,
         "name": "ACCU 45C Dec23",
         "type": "bar",
         "x": [
          20,
          21,
          22,
          23,
          24,
          25,
          26,
          27,
          28,
          29,
          30,
          31,
          32,
          33,
          34,
          35,
          36,
          37,
          38,
          39,
          40,
          41,
          42,
          43,
          44,
          45
         ],
         "xaxis": "x2",
         "y": [
          5.924045232440196e-14,
          5.203853249006057e-12,
          2.8796968002729154e-10,
          1.0580355680766776e-08,
          2.6995717603654406e-07,
          4.971910087732904e-06,
          6.834851678414264e-05,
          0.0007220725687313254,
          0.0060141392985305344,
          0.04039000977249825,
          0.22311189534459097,
          1.031811703978863,
          4.058513850434706,
          13.771411773748609,
          40.83060641500288,
          107.00889450893234,
          250.53237070468927,
          529.0743531331133,
          1016.8302353614753,
          1793.282438050073,
          2924.6203082582383,
          4442.861545714913,
          6330.129603071761,
          8514.550715600748,
          10880.078376469548,
          13287.318581628144
         ],
         "yaxis": "y2"
        },
        {
         "base": 0,
         "name": "ACCU 29P Dec23",
         "type": "bar",
         "x": [
          20,
          21,
          22,
          23,
          24,
          25,
          26,
          27,
          28,
          29,
          30,
          31,
          32,
          33,
          34,
          35,
          36,
          37,
          38,
          39,
          40,
          41,
          42,
          43,
          44,
          45
         ],
         "xaxis": "x",
         "y": [
          -428026.12760905904,
          -378033.50769886235,
          -328079.5519656638,
          -278291.910187855,
          -229043.85434891356,
          -181157.28906692014,
          -136014.50745297942,
          -95391.94354670313,
          -60982.31351434463,
          -33826.3836613498,
          -13979.148472466906,
          -577.2877559485423,
          7787.031329383521,
          12622.797290319544,
          15221.317779753506,
          16524.297956279155,
          17136.57008425181,
          17407.348985610566,
          17520.532401918463,
          17565.428931416085,
          17582.39495668341,
          17588.524977040146,
          17590.6498555818,
          17591.358735127276,
          17591.58700883866,
          17591.658158267728
         ],
         "yaxis": "y"
        },
        {
         "base": 0,
         "name": "ACCU 29P Dec23",
         "type": "bar",
         "x": [
          20,
          21,
          22,
          23,
          24,
          25,
          26,
          27,
          28,
          29,
          30,
          31,
          32,
          33,
          34,
          35,
          36,
          37,
          38,
          39,
          40,
          41,
          42,
          43,
          44,
          45
         ],
         "xaxis": "x2",
         "y": [
          49997.83093334959,
          49983.10113720684,
          49906.0691590926,
          49610.756419784746,
          48750.7769411206,
          46789.33768430506,
          43191.588049148566,
          37761.047130326835,
          30878.744979343654,
          23425.362836743712,
          16419.87504283606,
          10626.372092362346,
          6359.208971905184,
          3529.605768800398,
          1823.9718858487631,
          881.2937977632218,
          399.8842567294658,
          171.1367333758318,
          69.36988951560252,
          26.739605553138812,
          9.838609789003527,
          3.46770361207005,
          1.17465594345334,
          0.3835924258843715,
          0.12110274165144652,
          0.037060037810787705
         ],
         "yaxis": "y2"
        },
        {
         "base": 0,
         "name": "ACCU 40C Jan24",
         "type": "bar",
         "x": [
          20,
          21,
          22,
          23,
          24,
          25,
          26,
          27,
          28,
          29,
          30,
          31,
          32,
          33,
          34,
          35,
          36,
          37,
          38,
          39,
          40,
          41,
          42,
          43,
          44,
          45
         ],
         "xaxis": "x",
         "y": [
          6479.703307455331,
          6478.8274045906555,
          6475.689164324289,
          6465.897240004626,
          6438.871233904168,
          6371.994410992669,
          6221.879381226358,
          5913.093828163016,
          5325.791762794921,
          4284.751032558177,
          2552.8738931962394,
          -168.07276203521997,
          -4227.861686502154,
          -10009.493157839765,
          -17904.150830415347,
          -28282.823016594775,
          -41468.61139693401,
          -57713.49237625516,
          -77182.31710660637,
          -99945.4529014075,
          -125980.03805837563,
          -155178.63682752821,
          -187363.31345514435,
          -222302.83667024312,
          -259730.81900954092,
          -299362.9701609744
         ],
         "yaxis": "y"
        },
        {
         "base": 0,
         "name": "ACCU 40C Jan24",
         "type": "bar",
         "x": [
          20,
          21,
          22,
          23,
          24,
          25,
          26,
          27,
          28,
          29,
          30,
          31,
          32,
          33,
          34,
          35,
          36,
          37,
          38,
          39,
          40,
          41,
          42,
          43,
          44,
          45
         ],
         "xaxis": "x2",
         "y": [
          -0.4038607622388472,
          -1.587314878411734,
          -5.366468042908626,
          -15.884553181552661,
          -41.790661584275384,
          -99.00286076849576,
          -213.5869443246296,
          -423.7681518585682,
          -779.9243605941421,
          -1341.6816278018953,
          -2171.9383914914665,
          -3328.5604895350048,
          -4855.276564219837,
          -6773.666578097706,
          -9077.950937297024,
          -11733.63782206843,
          -14680.205025691317,
          -17837.154594608037,
          -21112.198773727105,
          -24410.11337562104,
          -27640.91080024762,
          -30726.338697213145,
          -33604.16929868541,
          -36230.18856306219,
          -38578.14150374565,
          -40638.103815455004
         ],
         "yaxis": "y2"
        },
        {
         "base": 0,
         "name": "ACCU 55C Jan24",
         "type": "bar",
         "x": [
          20,
          21,
          22,
          23,
          24,
          25,
          26,
          27,
          28,
          29,
          30,
          31,
          32,
          33,
          34,
          35,
          36,
          37,
          38,
          39,
          40,
          41,
          42,
          43,
          44,
          45
         ],
         "xaxis": "x",
         "y": [
          -10.506603639603663,
          -10.506586831167736,
          -10.506477984233346,
          -10.505881057210585,
          -10.503059225459902,
          -10.491383488158082,
          -10.448534023616268,
          -10.30742757023148,
          -9.886212535581581,
          -8.736186506742253,
          -5.841492260013661,
          0.9232322227480445,
          15.69324506888645,
          45.99307342981261,
          104.69128508461245,
          212.56490334798872,
          401.4083668860928,
          717.4971876089775,
          1225.0885282854495,
          2009.5379640190163,
          3179.5607807796514,
          4868.185953033261,
          7232.046328780591,
          10448.808935133276,
          14712.750838988472,
          20228.69689789416
         ],
         "yaxis": "y"
        },
        {
         "base": 0,
         "name": "ACCU 55C Jan24",
         "type": "bar",
         "x": [
          20,
          21,
          22,
          23,
          24,
          25,
          26,
          27,
          28,
          29,
          30,
          31,
          32,
          33,
          34,
          35,
          36,
          37,
          38,
          39,
          40,
          41,
          42,
          43,
          44,
          45
         ],
         "xaxis": "x2",
         "y": [
          5.225810332659159e-06,
          3.8132901372382285e-05,
          0.00023207436375517334,
          0.001202000365573099,
          0.005390639499397006,
          0.0212473580869153,
          0.0745604862588371,
          0.23558239220621185,
          0.6768516368056269,
          1.783753743671232,
          4.345155168983227,
          9.850759094221543,
          20.910872081062664,
          41.790661584275384,
          79.01633266019888,
          141.97148274694658,
          243.3686636444799,
          399.46540683481345,
          629.9044083650335,
          957.0969022652035,
          1405.1315734615337,
          1998.2670831013686,
          2759.139100032723,
          3706.867643685216,
          4855.276564219837,
          6211.429556604986
         ],
         "yaxis": "y2"
        },
        {
         "base": 0,
         "name": "ACCU 31P Jan24",
         "type": "bar",
         "x": [
          20,
          21,
          22,
          23,
          24,
          25,
          26,
          27,
          28,
          29,
          30,
          31,
          32,
          33,
          34,
          35,
          36,
          37,
          38,
          39,
          40,
          41,
          42,
          43,
          44,
          45
         ],
         "xaxis": "x",
         "y": [
          671905.7067566082,
          597358.6732037028,
          523384.626472265,
          450458.71650194656,
          379254.8236181364,
          310622.8642094314,
          245519.65691281308,
          184904.4760671957,
          129622.5080340635,
          80302.90799937033,
          37292.54635462779,
          635.2486488356953,
          -29905.738675923698,
          -54793.23588607591,
          -74644.73678127711,
          -90158.70447556852,
          -102049.53933309253,
          -110997.49487171175,
          -117615.4627978197,
          -122431.36207371745,
          -125883.05974476255,
          -128322.1341066883,
          -130022.9971219155,
          -131194.54452775122,
          -131992.29915482053,
          -132529.76251224586
         ],
         "yaxis": "y"
        },
        {
         "base": 0,
         "name": "ACCU 31P Jan24",
         "type": "bar",
         "x": [
          20,
          21,
          22,
          23,
          24,
          25,
          26,
          27,
          28,
          29,
          30,
          31,
          32,
          33,
          34,
          35,
          36,
          37,
          38,
          39,
          40,
          41,
          42,
          43,
          44,
          45
         ],
         "xaxis": "x2",
         "y": [
          -74722.02978851767,
          -74323.5626735863,
          -73545.70231540175,
          -72193.43847170069,
          -70071.51421633012,
          -67031.13498883211,
          -63013.39067216261,
          -58074.35500340721,
          -52383.594070940606,
          -46197.45509711175,
          -39816.36709717201,
          -33538.63379962857,
          -27621.703338566185,
          -22257.461679062824,
          -17563.04924853221,
          -13584.791667255347,
          -10310.803628574475,
          -7687.541782908461,
          -5636.4561050850525,
          -4068.2491049662676,
          -2893.5837881279485,
          -2030.1012763335457,
          -1406.2353246117736,
          -962.5892182544865,
          -651.6717634343555,
          -436.6790794660347
         ],
         "yaxis": "y2"
        },
        {
         "base": 0,
         "name": "ACCU 25P Jan24",
         "type": "bar",
         "x": [
          20,
          21,
          22,
          23,
          24,
          25,
          26,
          27,
          28,
          29,
          30,
          31,
          32,
          33,
          34,
          35,
          36,
          37,
          38,
          39,
          40,
          41,
          42,
          43,
          44,
          45
         ],
         "xaxis": "x",
         "y": [
          -358308.20915829495,
          -292908.5202500753,
          -233112.89975310053,
          -180166.96595170198,
          -134867.8780795938,
          -97450.87450692657,
          -67605.4609135656,
          -44592.99431650301,
          -27414.015228045744,
          -14975.068704589783,
          -6221.394861696277,
          -222.03575565470965,
          3790.349091773088,
          6414.133065493627,
          8094.807662751422,
          9151.195492584366,
          9803.801303709226,
          10200.644849515595,
          10438.510890737669,
          10579.228143164573,
          10661.485918552962,
          10709.051529214183,
          10736.286653362777,
          10751.742197227983,
          10760.442292448786,
          10765.303956464773
         ],
         "yaxis": "y"
        },
        {
         "base": 0,
         "name": "ACCU 25P Jan24",
         "type": "bar",
         "x": [
          20,
          21,
          22,
          23,
          24,
          25,
          26,
          27,
          28,
          29,
          30,
          31,
          32,
          33,
          34,
          35,
          36,
          37,
          38,
          39,
          40,
          41,
          42,
          43,
          44,
          45
         ],
         "xaxis": "x2",
         "y": [
          67717.08515367025,
          62832.73880300565,
          56546.97505113183,
          49210.101167011504,
          41349.215792303556,
          33538.63379962857,
          26278.215234019008,
          19916.15599291902,
          14626.28604813061,
          10428.810169730066,
          7234.3323815133335,
          4892.332503028518,
          3231.8705125918445,
          2089.49016742129,
          1324.5128622208142,
          824.5785092966362,
          504.9482961701518,
          304.59969776534814,
          181.24240349807752,
          106.50555815829854,
          61.881144361516924,
          35.58522538294196,
          20.2731581643939,
          11.452349109283833,
          6.4200643217493525,
          3.5741890971052737
         ],
         "yaxis": "y2"
        },
        {
         "base": 0,
         "name": "ACCU 36.5C Feb24",
         "type": "bar",
         "x": [
          20,
          21,
          22,
          23,
          24,
          25,
          26,
          27,
          28,
          29,
          30,
          31,
          32,
          33,
          34,
          35,
          36,
          37,
          38,
          39,
          40,
          41,
          42,
          43,
          44,
          45
         ],
         "xaxis": "x",
         "y": [
          65279.39969369264,
          65024.9508469039,
          64518.57040111993,
          63587.003287872954,
          61988.06690789698,
          59407.06806303423,
          55461.75782294619,
          49716.32273849492,
          41703.20515787098,
          30950.13442112622,
          17008.948302615478,
          -517.303143320969,
          -21951.938629324388,
          -47528.92429398662,
          -77384.74977891837,
          -111557.75724244223,
          -149993.9595670364,
          -192557.86374627505,
          -239046.59612507242,
          -289205.6599694432,
          -342744.8696573528,
          -399353.32200172625,
          -458712.61585164897,
          -520507.86508982035,
          -584436.3350406775,
          -650213.7524647324
         ],
         "yaxis": "y"
        },
        {
         "base": 0,
         "name": "ACCU 36.5C Feb24",
         "type": "bar",
         "x": [
          20,
          21,
          22,
          23,
          24,
          25,
          26,
          27,
          28,
          29,
          30,
          31,
          32,
          33,
          34,
          35,
          36,
          37,
          38,
          39,
          40,
          41,
          42,
          43,
          44,
          45
         ],
         "xaxis": "x2",
         "y": [
          -170.87030148739777,
          -356.86048127725843,
          -684.6008560685981,
          -1218.8322936131783,
          -2031.5706645490127,
          -3194.3713696312825,
          -4769.254848896506,
          -6800.000558160948,
          -9305.435347557806,
          -12275.858793044912,
          -15673.05026997729,
          -19433.603205985462,
          -23474.797081604524,
          -27701.93128580157,
          -32016.009417245354,
          -36320.82310935963,
          -40528.75990470404,
          -44564.97004594645,
          -48369.81029404227,
          -51899.70173209689,
          -55126.67905684535,
          -58036.974845360026,
          -60628.98804164332,
          -62910.94999669249,
          -64898.54197766703,
          -66612.65017711525
         ],
         "yaxis": "y2"
        },
        {
         "base": 0,
         "name": "ACCU 43.5C Feb24",
         "type": "bar",
         "x": [
          20,
          21,
          22,
          23,
          24,
          25,
          26,
          27,
          28,
          29,
          30,
          31,
          32,
          33,
          34,
          35,
          36,
          37,
          38,
          39,
          40,
          41,
          42,
          43,
          44,
          45
         ],
         "xaxis": "x",
         "y": [
          -11793.750085491722,
          -11780.968465789843,
          -11750.1449701348,
          -11682.118917556583,
          -11543.352033732426,
          -11279.45570538026,
          -10808.109431273233,
          -10012.292929154451,
          -8734.94322590661,
          -6776.127861170345,
          -3893.583632021702,
          192.94779895542888,
          5793.664209750266,
          13237.500599882085,
          22858.749777956935,
          34982.71063657502,
          49911.62333491807,
          67912.03823263207,
          89204.5264153671,
          113956.32688827786,
          142277.19252707646,
          174218.38883102284,
          209774.54812770462,
          248887.9040375284,
          291454.3302734242,
          337330.57756421075
         ],
         "yaxis": "y"
        },
        {
         "base": 0,
         "name": "ACCU 43.5C Feb24",
         "type": "bar",
         "x": [
          20,
          21,
          22,
          23,
          24,
          25,
          26,
          27,
          28,
          29,
          30,
          31,
          32,
          33,
          34,
          35,
          36,
          37,
          38,
          39,
          40,
          41,
          42,
          43,
          44,
          45
         ],
         "xaxis": "x2",
         "y": [
          7.654888928542372,
          19.520256378729986,
          45.231819495467946,
          96.30069277134328,
          190.17756297078313,
          351.21964577068024,
          610.8845440680147,
          1006.8764135093267,
          1581.1529850518057,
          2376.9273932944193,
          3435.006457541353,
          4789.94511215222,
          6466.536142898168,
          8477.094367071548,
          10819.857666538328,
          13478.650119126638,
          16423.773252951894,
          19613.941549960793,
          22998.97708417762,
          26522.931956896555,
          30127.31150441058,
          33754.114517336406,
          37348.47423313663,
          40860.76119453372,
          44248.08424163672,
          47475.19054220916
         ],
         "yaxis": "y2"
        },
        {
         "base": 0,
         "name": "ACCU 38C Jun24",
         "type": "bar",
         "x": [
          20,
          21,
          22,
          23,
          24,
          25,
          26,
          27,
          28,
          29,
          30,
          31,
          32,
          33,
          34,
          35,
          36,
          37,
          38,
          39,
          40,
          41,
          42,
          43,
          44,
          45
         ],
         "xaxis": "x",
         "y": [
          0,
          0,
          0,
          0,
          0,
          0,
          0,
          0,
          0,
          0,
          0,
          0,
          0,
          0,
          0,
          0,
          0,
          0,
          0,
          0,
          0,
          0,
          0,
          0,
          0,
          0
         ],
         "yaxis": "y"
        },
        {
         "base": 0,
         "name": "ACCU 38C Jun24",
         "type": "bar",
         "x": [
          20,
          21,
          22,
          23,
          24,
          25,
          26,
          27,
          28,
          29,
          30,
          31,
          32,
          33,
          34,
          35,
          36,
          37,
          38,
          39,
          40,
          41,
          42,
          43,
          44,
          45
         ],
         "xaxis": "x2",
         "y": [
          0,
          0,
          0,
          0,
          0,
          0,
          0,
          0,
          0,
          0,
          0,
          0,
          0,
          0,
          0,
          0,
          0,
          0,
          0,
          0,
          0,
          0,
          0,
          0,
          0,
          0
         ],
         "yaxis": "y2"
        },
        {
         "base": 0,
         "name": "ACCU 27P Jun24",
         "type": "bar",
         "x": [
          20,
          21,
          22,
          23,
          24,
          25,
          26,
          27,
          28,
          29,
          30,
          31,
          32,
          33,
          34,
          35,
          36,
          37,
          38,
          39,
          40,
          41,
          42,
          43,
          44,
          45
         ],
         "xaxis": "x",
         "y": [
          0,
          0,
          0,
          0,
          0,
          0,
          0,
          0,
          0,
          0,
          0,
          0,
          0,
          0,
          0,
          0,
          0,
          0,
          0,
          0,
          0,
          0,
          0,
          0,
          0,
          0
         ],
         "yaxis": "y"
        },
        {
         "base": 0,
         "name": "ACCU 27P Jun24",
         "type": "bar",
         "x": [
          20,
          21,
          22,
          23,
          24,
          25,
          26,
          27,
          28,
          29,
          30,
          31,
          32,
          33,
          34,
          35,
          36,
          37,
          38,
          39,
          40,
          41,
          42,
          43,
          44,
          45
         ],
         "xaxis": "x2",
         "y": [
          0,
          0,
          0,
          0,
          0,
          0,
          0,
          0,
          0,
          0,
          0,
          0,
          0,
          0,
          0,
          0,
          0,
          0,
          0,
          0,
          0,
          0,
          0,
          0,
          0,
          0
         ],
         "yaxis": "y2"
        },
        {
         "base": 0,
         "name": "ACCU 24P Jun24",
         "type": "bar",
         "x": [
          20,
          21,
          22,
          23,
          24,
          25,
          26,
          27,
          28,
          29,
          30,
          31,
          32,
          33,
          34,
          35,
          36,
          37,
          38,
          39,
          40,
          41,
          42,
          43,
          44,
          45
         ],
         "xaxis": "x",
         "y": [
          0,
          0,
          0,
          0,
          0,
          0,
          0,
          0,
          0,
          0,
          0,
          0,
          0,
          0,
          0,
          0,
          0,
          0,
          0,
          0,
          0,
          0,
          0,
          0,
          0,
          0
         ],
         "yaxis": "y"
        },
        {
         "base": 0,
         "name": "ACCU 24P Jun24",
         "type": "bar",
         "x": [
          20,
          21,
          22,
          23,
          24,
          25,
          26,
          27,
          28,
          29,
          30,
          31,
          32,
          33,
          34,
          35,
          36,
          37,
          38,
          39,
          40,
          41,
          42,
          43,
          44,
          45
         ],
         "xaxis": "x2",
         "y": [
          0,
          0,
          0,
          0,
          0,
          0,
          0,
          0,
          0,
          0,
          0,
          0,
          0,
          0,
          0,
          0,
          0,
          0,
          0,
          0,
          0,
          0,
          0,
          0,
          0,
          0
         ],
         "yaxis": "y2"
        },
        {
         "mode": "lines",
         "name": "Total_PnL",
         "type": "scatter",
         "x": [
          20,
          21,
          22,
          23,
          24,
          25,
          26,
          27,
          28,
          29,
          30,
          31,
          32,
          33,
          34,
          35,
          36,
          37,
          38,
          39,
          40,
          41,
          42,
          43,
          44,
          45
         ],
         "xaxis": "x",
         "y": [
          201209.59593356497,
          216812.36582672826,
          227109.58892010277,
          231046.8026275476,
          227918.82915771505,
          217274.95244086802,
          198769.8998843105,
          172185.39240498893,
          137699.31828446352,
          96201.83695980227,
          49347.341347530964,
          -781.4445117142441,
          -52225.674273680546,
          -103615.12304933986,
          -154342.92564407532,
          -204445.61916426092,
          -254318.44467649097,
          -304414.4998035687,
          -355021.72237664054,
          -406146.97824592807,
          -457495.6967690012,
          -508520.2382252701,
          -558508.7320690115,
          -606688.8764259883,
          -652325.0273277219,
          -694792.3960853202
         ],
         "yaxis": "y"
        },
        {
         "mode": "lines",
         "name": "Total_Delta",
         "type": "scatter",
         "x": [
          20,
          21,
          22,
          23,
          24,
          25,
          26,
          27,
          28,
          29,
          30,
          31,
          32,
          33,
          34,
          35,
          36,
          37,
          38,
          39,
          40,
          41,
          42,
          43,
          44,
          45
         ],
         "xaxis": "x2",
         "y": [
          17829.274748084124,
          13153.45224752299,
          7263.548859829193,
          495.2805360402807,
          -6823.208247665098,
          -14522.195167838436,
          -22529.33649336645,
          -30616.188351632976,
          -38208.80952800309,
          -44504.32948853392,
          -48847.503654457316,
          -51075.32716261789,
          -51581.873389435714,
          -51098.24243404298,
          -50368.58095844815,
          -49907.91860433776,
          -49917.02324043744,
          -50324.969995992775,
          -50890.889882497795,
          -51309.652243302204,
          -51294.96997797303,
          -50633.685545556786,
          -49212.92750166987,
          -47023.49634104623,
          -44143.96259327039,
          -40712.06890632373
         ],
         "yaxis": "y2"
        }
       ],
       "layout": {
        "barmode": "stack",
        "template": {
         "data": {
          "bar": [
           {
            "error_x": {
             "color": "#2a3f5f"
            },
            "error_y": {
             "color": "#2a3f5f"
            },
            "marker": {
             "line": {
              "color": "#E5ECF6",
              "width": 0.5
             },
             "pattern": {
              "fillmode": "overlay",
              "size": 10,
              "solidity": 0.2
             }
            },
            "type": "bar"
           }
          ],
          "barpolar": [
           {
            "marker": {
             "line": {
              "color": "#E5ECF6",
              "width": 0.5
             },
             "pattern": {
              "fillmode": "overlay",
              "size": 10,
              "solidity": 0.2
             }
            },
            "type": "barpolar"
           }
          ],
          "carpet": [
           {
            "aaxis": {
             "endlinecolor": "#2a3f5f",
             "gridcolor": "white",
             "linecolor": "white",
             "minorgridcolor": "white",
             "startlinecolor": "#2a3f5f"
            },
            "baxis": {
             "endlinecolor": "#2a3f5f",
             "gridcolor": "white",
             "linecolor": "white",
             "minorgridcolor": "white",
             "startlinecolor": "#2a3f5f"
            },
            "type": "carpet"
           }
          ],
          "choropleth": [
           {
            "colorbar": {
             "outlinewidth": 0,
             "ticks": ""
            },
            "type": "choropleth"
           }
          ],
          "contour": [
           {
            "colorbar": {
             "outlinewidth": 0,
             "ticks": ""
            },
            "colorscale": [
             [
              0,
              "#0d0887"
             ],
             [
              0.1111111111111111,
              "#46039f"
             ],
             [
              0.2222222222222222,
              "#7201a8"
             ],
             [
              0.3333333333333333,
              "#9c179e"
             ],
             [
              0.4444444444444444,
              "#bd3786"
             ],
             [
              0.5555555555555556,
              "#d8576b"
             ],
             [
              0.6666666666666666,
              "#ed7953"
             ],
             [
              0.7777777777777778,
              "#fb9f3a"
             ],
             [
              0.8888888888888888,
              "#fdca26"
             ],
             [
              1,
              "#f0f921"
             ]
            ],
            "type": "contour"
           }
          ],
          "contourcarpet": [
           {
            "colorbar": {
             "outlinewidth": 0,
             "ticks": ""
            },
            "type": "contourcarpet"
           }
          ],
          "heatmap": [
           {
            "colorbar": {
             "outlinewidth": 0,
             "ticks": ""
            },
            "colorscale": [
             [
              0,
              "#0d0887"
             ],
             [
              0.1111111111111111,
              "#46039f"
             ],
             [
              0.2222222222222222,
              "#7201a8"
             ],
             [
              0.3333333333333333,
              "#9c179e"
             ],
             [
              0.4444444444444444,
              "#bd3786"
             ],
             [
              0.5555555555555556,
              "#d8576b"
             ],
             [
              0.6666666666666666,
              "#ed7953"
             ],
             [
              0.7777777777777778,
              "#fb9f3a"
             ],
             [
              0.8888888888888888,
              "#fdca26"
             ],
             [
              1,
              "#f0f921"
             ]
            ],
            "type": "heatmap"
           }
          ],
          "heatmapgl": [
           {
            "colorbar": {
             "outlinewidth": 0,
             "ticks": ""
            },
            "colorscale": [
             [
              0,
              "#0d0887"
             ],
             [
              0.1111111111111111,
              "#46039f"
             ],
             [
              0.2222222222222222,
              "#7201a8"
             ],
             [
              0.3333333333333333,
              "#9c179e"
             ],
             [
              0.4444444444444444,
              "#bd3786"
             ],
             [
              0.5555555555555556,
              "#d8576b"
             ],
             [
              0.6666666666666666,
              "#ed7953"
             ],
             [
              0.7777777777777778,
              "#fb9f3a"
             ],
             [
              0.8888888888888888,
              "#fdca26"
             ],
             [
              1,
              "#f0f921"
             ]
            ],
            "type": "heatmapgl"
           }
          ],
          "histogram": [
           {
            "marker": {
             "pattern": {
              "fillmode": "overlay",
              "size": 10,
              "solidity": 0.2
             }
            },
            "type": "histogram"
           }
          ],
          "histogram2d": [
           {
            "colorbar": {
             "outlinewidth": 0,
             "ticks": ""
            },
            "colorscale": [
             [
              0,
              "#0d0887"
             ],
             [
              0.1111111111111111,
              "#46039f"
             ],
             [
              0.2222222222222222,
              "#7201a8"
             ],
             [
              0.3333333333333333,
              "#9c179e"
             ],
             [
              0.4444444444444444,
              "#bd3786"
             ],
             [
              0.5555555555555556,
              "#d8576b"
             ],
             [
              0.6666666666666666,
              "#ed7953"
             ],
             [
              0.7777777777777778,
              "#fb9f3a"
             ],
             [
              0.8888888888888888,
              "#fdca26"
             ],
             [
              1,
              "#f0f921"
             ]
            ],
            "type": "histogram2d"
           }
          ],
          "histogram2dcontour": [
           {
            "colorbar": {
             "outlinewidth": 0,
             "ticks": ""
            },
            "colorscale": [
             [
              0,
              "#0d0887"
             ],
             [
              0.1111111111111111,
              "#46039f"
             ],
             [
              0.2222222222222222,
              "#7201a8"
             ],
             [
              0.3333333333333333,
              "#9c179e"
             ],
             [
              0.4444444444444444,
              "#bd3786"
             ],
             [
              0.5555555555555556,
              "#d8576b"
             ],
             [
              0.6666666666666666,
              "#ed7953"
             ],
             [
              0.7777777777777778,
              "#fb9f3a"
             ],
             [
              0.8888888888888888,
              "#fdca26"
             ],
             [
              1,
              "#f0f921"
             ]
            ],
            "type": "histogram2dcontour"
           }
          ],
          "mesh3d": [
           {
            "colorbar": {
             "outlinewidth": 0,
             "ticks": ""
            },
            "type": "mesh3d"
           }
          ],
          "parcoords": [
           {
            "line": {
             "colorbar": {
              "outlinewidth": 0,
              "ticks": ""
             }
            },
            "type": "parcoords"
           }
          ],
          "pie": [
           {
            "automargin": true,
            "type": "pie"
           }
          ],
          "scatter": [
           {
            "fillpattern": {
             "fillmode": "overlay",
             "size": 10,
             "solidity": 0.2
            },
            "type": "scatter"
           }
          ],
          "scatter3d": [
           {
            "line": {
             "colorbar": {
              "outlinewidth": 0,
              "ticks": ""
             }
            },
            "marker": {
             "colorbar": {
              "outlinewidth": 0,
              "ticks": ""
             }
            },
            "type": "scatter3d"
           }
          ],
          "scattercarpet": [
           {
            "marker": {
             "colorbar": {
              "outlinewidth": 0,
              "ticks": ""
             }
            },
            "type": "scattercarpet"
           }
          ],
          "scattergeo": [
           {
            "marker": {
             "colorbar": {
              "outlinewidth": 0,
              "ticks": ""
             }
            },
            "type": "scattergeo"
           }
          ],
          "scattergl": [
           {
            "marker": {
             "colorbar": {
              "outlinewidth": 0,
              "ticks": ""
             }
            },
            "type": "scattergl"
           }
          ],
          "scattermapbox": [
           {
            "marker": {
             "colorbar": {
              "outlinewidth": 0,
              "ticks": ""
             }
            },
            "type": "scattermapbox"
           }
          ],
          "scatterpolar": [
           {
            "marker": {
             "colorbar": {
              "outlinewidth": 0,
              "ticks": ""
             }
            },
            "type": "scatterpolar"
           }
          ],
          "scatterpolargl": [
           {
            "marker": {
             "colorbar": {
              "outlinewidth": 0,
              "ticks": ""
             }
            },
            "type": "scatterpolargl"
           }
          ],
          "scatterternary": [
           {
            "marker": {
             "colorbar": {
              "outlinewidth": 0,
              "ticks": ""
             }
            },
            "type": "scatterternary"
           }
          ],
          "surface": [
           {
            "colorbar": {
             "outlinewidth": 0,
             "ticks": ""
            },
            "colorscale": [
             [
              0,
              "#0d0887"
             ],
             [
              0.1111111111111111,
              "#46039f"
             ],
             [
              0.2222222222222222,
              "#7201a8"
             ],
             [
              0.3333333333333333,
              "#9c179e"
             ],
             [
              0.4444444444444444,
              "#bd3786"
             ],
             [
              0.5555555555555556,
              "#d8576b"
             ],
             [
              0.6666666666666666,
              "#ed7953"
             ],
             [
              0.7777777777777778,
              "#fb9f3a"
             ],
             [
              0.8888888888888888,
              "#fdca26"
             ],
             [
              1,
              "#f0f921"
             ]
            ],
            "type": "surface"
           }
          ],
          "table": [
           {
            "cells": {
             "fill": {
              "color": "#EBF0F8"
             },
             "line": {
              "color": "white"
             }
            },
            "header": {
             "fill": {
              "color": "#C8D4E3"
             },
             "line": {
              "color": "white"
             }
            },
            "type": "table"
           }
          ]
         },
         "layout": {
          "annotationdefaults": {
           "arrowcolor": "#2a3f5f",
           "arrowhead": 0,
           "arrowwidth": 1
          },
          "autotypenumbers": "strict",
          "coloraxis": {
           "colorbar": {
            "outlinewidth": 0,
            "ticks": ""
           }
          },
          "colorscale": {
           "diverging": [
            [
             0,
             "#8e0152"
            ],
            [
             0.1,
             "#c51b7d"
            ],
            [
             0.2,
             "#de77ae"
            ],
            [
             0.3,
             "#f1b6da"
            ],
            [
             0.4,
             "#fde0ef"
            ],
            [
             0.5,
             "#f7f7f7"
            ],
            [
             0.6,
             "#e6f5d0"
            ],
            [
             0.7,
             "#b8e186"
            ],
            [
             0.8,
             "#7fbc41"
            ],
            [
             0.9,
             "#4d9221"
            ],
            [
             1,
             "#276419"
            ]
           ],
           "sequential": [
            [
             0,
             "#0d0887"
            ],
            [
             0.1111111111111111,
             "#46039f"
            ],
            [
             0.2222222222222222,
             "#7201a8"
            ],
            [
             0.3333333333333333,
             "#9c179e"
            ],
            [
             0.4444444444444444,
             "#bd3786"
            ],
            [
             0.5555555555555556,
             "#d8576b"
            ],
            [
             0.6666666666666666,
             "#ed7953"
            ],
            [
             0.7777777777777778,
             "#fb9f3a"
            ],
            [
             0.8888888888888888,
             "#fdca26"
            ],
            [
             1,
             "#f0f921"
            ]
           ],
           "sequentialminus": [
            [
             0,
             "#0d0887"
            ],
            [
             0.1111111111111111,
             "#46039f"
            ],
            [
             0.2222222222222222,
             "#7201a8"
            ],
            [
             0.3333333333333333,
             "#9c179e"
            ],
            [
             0.4444444444444444,
             "#bd3786"
            ],
            [
             0.5555555555555556,
             "#d8576b"
            ],
            [
             0.6666666666666666,
             "#ed7953"
            ],
            [
             0.7777777777777778,
             "#fb9f3a"
            ],
            [
             0.8888888888888888,
             "#fdca26"
            ],
            [
             1,
             "#f0f921"
            ]
           ]
          },
          "colorway": [
           "#636efa",
           "#EF553B",
           "#00cc96",
           "#ab63fa",
           "#FFA15A",
           "#19d3f3",
           "#FF6692",
           "#B6E880",
           "#FF97FF",
           "#FECB52"
          ],
          "font": {
           "color": "#2a3f5f"
          },
          "geo": {
           "bgcolor": "white",
           "lakecolor": "white",
           "landcolor": "#E5ECF6",
           "showlakes": true,
           "showland": true,
           "subunitcolor": "white"
          },
          "hoverlabel": {
           "align": "left"
          },
          "hovermode": "closest",
          "mapbox": {
           "style": "light"
          },
          "paper_bgcolor": "white",
          "plot_bgcolor": "#E5ECF6",
          "polar": {
           "angularaxis": {
            "gridcolor": "white",
            "linecolor": "white",
            "ticks": ""
           },
           "bgcolor": "#E5ECF6",
           "radialaxis": {
            "gridcolor": "white",
            "linecolor": "white",
            "ticks": ""
           }
          },
          "scene": {
           "xaxis": {
            "backgroundcolor": "#E5ECF6",
            "gridcolor": "white",
            "gridwidth": 2,
            "linecolor": "white",
            "showbackground": true,
            "ticks": "",
            "zerolinecolor": "white"
           },
           "yaxis": {
            "backgroundcolor": "#E5ECF6",
            "gridcolor": "white",
            "gridwidth": 2,
            "linecolor": "white",
            "showbackground": true,
            "ticks": "",
            "zerolinecolor": "white"
           },
           "zaxis": {
            "backgroundcolor": "#E5ECF6",
            "gridcolor": "white",
            "gridwidth": 2,
            "linecolor": "white",
            "showbackground": true,
            "ticks": "",
            "zerolinecolor": "white"
           }
          },
          "shapedefaults": {
           "line": {
            "color": "#2a3f5f"
           }
          },
          "ternary": {
           "aaxis": {
            "gridcolor": "white",
            "linecolor": "white",
            "ticks": ""
           },
           "baxis": {
            "gridcolor": "white",
            "linecolor": "white",
            "ticks": ""
           },
           "bgcolor": "#E5ECF6",
           "caxis": {
            "gridcolor": "white",
            "linecolor": "white",
            "ticks": ""
           }
          },
          "title": {
           "x": 0.05
          },
          "xaxis": {
           "automargin": true,
           "gridcolor": "white",
           "linecolor": "white",
           "ticks": "",
           "title": {
            "standoff": 15
           },
           "zerolinecolor": "white",
           "zerolinewidth": 2
          },
          "yaxis": {
           "automargin": true,
           "gridcolor": "white",
           "linecolor": "white",
           "ticks": "",
           "title": {
            "standoff": 15
           },
           "zerolinecolor": "white",
           "zerolinewidth": 2
          }
         }
        },
        "title": {
         "text": "Todays Option Pos (PnL and Delta)",
         "x": 0.5,
         "xanchor": "center"
        },
        "xaxis": {
         "anchor": "y",
         "domain": [
          0,
          0.45
         ],
         "title": {
          "text": "Price"
         }
        },
        "xaxis2": {
         "anchor": "y2",
         "domain": [
          0.55,
          1
         ],
         "title": {
          "text": "Price"
         }
        },
        "yaxis": {
         "anchor": "x",
         "domain": [
          0,
          1
         ],
         "title": {
          "text": "Pnl"
         }
        },
        "yaxis2": {
         "anchor": "x2",
         "domain": [
          0,
          1
         ],
         "title": {
          "text": "Delta"
         }
        }
       }
      },
      "text/html": [
       "<div>                            <div id=\"b3c39dd8-4d2e-4dbe-a5fb-2e52b76768ce\" class=\"plotly-graph-div\" style=\"height:525px; width:100%;\"></div>            <script type=\"text/javascript\">                require([\"plotly\"], function(Plotly) {                    window.PLOTLYENV=window.PLOTLYENV || {};                                    if (document.getElementById(\"b3c39dd8-4d2e-4dbe-a5fb-2e52b76768ce\")) {                    Plotly.newPlot(                        \"b3c39dd8-4d2e-4dbe-a5fb-2e52b76768ce\",                        [{\"base\":0,\"name\":\"ACCU 32P Dec23\",\"x\":[20,21,22,23,24,25,26,27,28,29,30,31,32,33,34,35,36,37,38,39,40,41,42,43,44,45],\"y\":[255684.48955850647,230684.527299302,205684.91597548925,180687.79646210364,155703.76484537005,130772.24634460121,106006.24199895313,81660.14760821164,58190.078586981814,36251.44865359643,16593.921483671715,-125.41985122291953,-13528.666075205823,-23613.728163756823,-30723.85004423073,-35421.45304873434,-38334.30813530021,-40033.403298129204,-40968.3925371038,-41455.28714070382,-41695.99825900998,-41809.337574983314,-41860.32295991305,-41882.30143919198,-41891.406457279234,-41895.04119193676],\"type\":\"bar\",\"xaxis\":\"x\",\"yaxis\":\"y\"},{\"base\":0,\"name\":\"ACCU 32P Dec23\",\"x\":[20,21,22,23,24,25,26,27,28,29,30,31,32,33,34,35,36,37,38,39,40,41,42,43,44,45],\"y\":[-24999.992282322775,-24999.89751745916,-24999.057762452092,-24993.723627042837,-24968.508392506086,-24876.898330640855,-24613.866484053066,-24002.380479426203,-22826.722627212705,-20922.258514097004,-18279.930044771627,-15094.06194581014,-11712.681418371856,-8516.935267732137,-5799.760709056667,-3702.1688090967286,-2219.76152166829,-1253.5213135997258,-668.7487305611778,-338.14449154128954,-162.57947303297826,-74.56680179775965,-32.725587078322185,-13.784058391907994,-5.587697812867165,-2.1857638646427535],\"type\":\"bar\",\"xaxis\":\"x2\",\"yaxis\":\"y2\"},{\"base\":0,\"name\":\"ACCU 45C Dec23\",\"x\":[20,21,22,23,24,25,26,27,28,29,30,31,32,33,34,35,36,37,38,39,40,41,42,43,44,45],\"y\":[-1.10992621238905,-1.1099262123969993,-1.1099262123269626,-1.1099262093677673,-1.1099261273261498,-1.1099244763751561,-1.1098997863726656,-1.1096171455349866,-1.107076415124614,-1.0887332322268668,-0.9802281353580216,-0.44492354575593307,1.7929172997587148,9.834423194191412,34.99528521976884,104.34963029241301,274.57066610702844,650.2252334351757,1402.3879536530894,2780.261912466348,5107.634767407338,8759.040995345518,14116.986354180499,21518.857396001473,31206.721920896078,43292.89366773189],\"type\":\"bar\",\"xaxis\":\"x\",\"yaxis\":\"y\"},{\"base\":0,\"name\":\"ACCU 45C Dec23\",\"x\":[20,21,22,23,24,25,26,27,28,29,30,31,32,33,34,35,36,37,38,39,40,41,42,43,44,45],\"y\":[5.924045232440196e-14,5.203853249006057e-12,2.8796968002729154e-10,1.0580355680766776e-08,2.6995717603654406e-07,4.971910087732904e-06,6.834851678414264e-05,0.0007220725687313254,0.0060141392985305344,0.04039000977249825,0.22311189534459097,1.031811703978863,4.058513850434706,13.771411773748609,40.83060641500288,107.00889450893234,250.53237070468927,529.0743531331133,1016.8302353614753,1793.282438050073,2924.6203082582383,4442.861545714913,6330.129603071761,8514.550715600748,10880.078376469548,13287.318581628144],\"type\":\"bar\",\"xaxis\":\"x2\",\"yaxis\":\"y2\"},{\"base\":0,\"name\":\"ACCU 29P Dec23\",\"x\":[20,21,22,23,24,25,26,27,28,29,30,31,32,33,34,35,36,37,38,39,40,41,42,43,44,45],\"y\":[-428026.12760905904,-378033.50769886235,-328079.5519656638,-278291.910187855,-229043.85434891356,-181157.28906692014,-136014.50745297942,-95391.94354670313,-60982.31351434463,-33826.3836613498,-13979.148472466906,-577.2877559485423,7787.031329383521,12622.797290319544,15221.317779753506,16524.297956279155,17136.57008425181,17407.348985610566,17520.532401918463,17565.428931416085,17582.39495668341,17588.524977040146,17590.6498555818,17591.358735127276,17591.58700883866,17591.658158267728],\"type\":\"bar\",\"xaxis\":\"x\",\"yaxis\":\"y\"},{\"base\":0,\"name\":\"ACCU 29P Dec23\",\"x\":[20,21,22,23,24,25,26,27,28,29,30,31,32,33,34,35,36,37,38,39,40,41,42,43,44,45],\"y\":[49997.83093334959,49983.10113720684,49906.0691590926,49610.756419784746,48750.7769411206,46789.33768430506,43191.588049148566,37761.047130326835,30878.744979343654,23425.362836743712,16419.87504283606,10626.372092362346,6359.208971905184,3529.605768800398,1823.9718858487631,881.2937977632218,399.8842567294658,171.1367333758318,69.36988951560252,26.739605553138812,9.838609789003527,3.46770361207005,1.17465594345334,0.3835924258843715,0.12110274165144652,0.037060037810787705],\"type\":\"bar\",\"xaxis\":\"x2\",\"yaxis\":\"y2\"},{\"base\":0,\"name\":\"ACCU 40C Jan24\",\"x\":[20,21,22,23,24,25,26,27,28,29,30,31,32,33,34,35,36,37,38,39,40,41,42,43,44,45],\"y\":[6479.703307455331,6478.8274045906555,6475.689164324289,6465.897240004626,6438.871233904168,6371.994410992669,6221.879381226358,5913.093828163016,5325.791762794921,4284.751032558177,2552.8738931962394,-168.07276203521997,-4227.861686502154,-10009.493157839765,-17904.150830415347,-28282.823016594775,-41468.61139693401,-57713.49237625516,-77182.31710660637,-99945.4529014075,-125980.03805837563,-155178.63682752821,-187363.31345514435,-222302.83667024312,-259730.81900954092,-299362.9701609744],\"type\":\"bar\",\"xaxis\":\"x\",\"yaxis\":\"y\"},{\"base\":0,\"name\":\"ACCU 40C Jan24\",\"x\":[20,21,22,23,24,25,26,27,28,29,30,31,32,33,34,35,36,37,38,39,40,41,42,43,44,45],\"y\":[-0.4038607622388472,-1.587314878411734,-5.366468042908626,-15.884553181552661,-41.790661584275384,-99.00286076849576,-213.5869443246296,-423.7681518585682,-779.9243605941421,-1341.6816278018953,-2171.9383914914665,-3328.5604895350048,-4855.276564219837,-6773.666578097706,-9077.950937297024,-11733.63782206843,-14680.205025691317,-17837.154594608037,-21112.198773727105,-24410.11337562104,-27640.91080024762,-30726.338697213145,-33604.16929868541,-36230.18856306219,-38578.14150374565,-40638.103815455004],\"type\":\"bar\",\"xaxis\":\"x2\",\"yaxis\":\"y2\"},{\"base\":0,\"name\":\"ACCU 55C Jan24\",\"x\":[20,21,22,23,24,25,26,27,28,29,30,31,32,33,34,35,36,37,38,39,40,41,42,43,44,45],\"y\":[-10.506603639603663,-10.506586831167736,-10.506477984233346,-10.505881057210585,-10.503059225459902,-10.491383488158082,-10.448534023616268,-10.30742757023148,-9.886212535581581,-8.736186506742253,-5.841492260013661,0.9232322227480445,15.69324506888645,45.99307342981261,104.69128508461245,212.56490334798872,401.4083668860928,717.4971876089775,1225.0885282854495,2009.5379640190163,3179.5607807796514,4868.185953033261,7232.046328780591,10448.808935133276,14712.750838988472,20228.69689789416],\"type\":\"bar\",\"xaxis\":\"x\",\"yaxis\":\"y\"},{\"base\":0,\"name\":\"ACCU 55C Jan24\",\"x\":[20,21,22,23,24,25,26,27,28,29,30,31,32,33,34,35,36,37,38,39,40,41,42,43,44,45],\"y\":[5.225810332659159e-06,3.8132901372382285e-05,0.00023207436375517334,0.001202000365573099,0.005390639499397006,0.0212473580869153,0.0745604862588371,0.23558239220621185,0.6768516368056269,1.783753743671232,4.345155168983227,9.850759094221543,20.910872081062664,41.790661584275384,79.01633266019888,141.97148274694658,243.3686636444799,399.46540683481345,629.9044083650335,957.0969022652035,1405.1315734615337,1998.2670831013686,2759.139100032723,3706.867643685216,4855.276564219837,6211.429556604986],\"type\":\"bar\",\"xaxis\":\"x2\",\"yaxis\":\"y2\"},{\"base\":0,\"name\":\"ACCU 31P Jan24\",\"x\":[20,21,22,23,24,25,26,27,28,29,30,31,32,33,34,35,36,37,38,39,40,41,42,43,44,45],\"y\":[671905.7067566082,597358.6732037028,523384.626472265,450458.71650194656,379254.8236181364,310622.8642094314,245519.65691281308,184904.4760671957,129622.5080340635,80302.90799937033,37292.54635462779,635.2486488356953,-29905.738675923698,-54793.23588607591,-74644.73678127711,-90158.70447556852,-102049.53933309253,-110997.49487171175,-117615.4627978197,-122431.36207371745,-125883.05974476255,-128322.1341066883,-130022.9971219155,-131194.54452775122,-131992.29915482053,-132529.76251224586],\"type\":\"bar\",\"xaxis\":\"x\",\"yaxis\":\"y\"},{\"base\":0,\"name\":\"ACCU 31P Jan24\",\"x\":[20,21,22,23,24,25,26,27,28,29,30,31,32,33,34,35,36,37,38,39,40,41,42,43,44,45],\"y\":[-74722.02978851767,-74323.5626735863,-73545.70231540175,-72193.43847170069,-70071.51421633012,-67031.13498883211,-63013.39067216261,-58074.35500340721,-52383.594070940606,-46197.45509711175,-39816.36709717201,-33538.63379962857,-27621.703338566185,-22257.461679062824,-17563.04924853221,-13584.791667255347,-10310.803628574475,-7687.541782908461,-5636.4561050850525,-4068.2491049662676,-2893.5837881279485,-2030.1012763335457,-1406.2353246117736,-962.5892182544865,-651.6717634343555,-436.6790794660347],\"type\":\"bar\",\"xaxis\":\"x2\",\"yaxis\":\"y2\"},{\"base\":0,\"name\":\"ACCU 25P Jan24\",\"x\":[20,21,22,23,24,25,26,27,28,29,30,31,32,33,34,35,36,37,38,39,40,41,42,43,44,45],\"y\":[-358308.20915829495,-292908.5202500753,-233112.89975310053,-180166.96595170198,-134867.8780795938,-97450.87450692657,-67605.4609135656,-44592.99431650301,-27414.015228045744,-14975.068704589783,-6221.394861696277,-222.03575565470965,3790.349091773088,6414.133065493627,8094.807662751422,9151.195492584366,9803.801303709226,10200.644849515595,10438.510890737669,10579.228143164573,10661.485918552962,10709.051529214183,10736.286653362777,10751.742197227983,10760.442292448786,10765.303956464773],\"type\":\"bar\",\"xaxis\":\"x\",\"yaxis\":\"y\"},{\"base\":0,\"name\":\"ACCU 25P Jan24\",\"x\":[20,21,22,23,24,25,26,27,28,29,30,31,32,33,34,35,36,37,38,39,40,41,42,43,44,45],\"y\":[67717.08515367025,62832.73880300565,56546.97505113183,49210.101167011504,41349.215792303556,33538.63379962857,26278.215234019008,19916.15599291902,14626.28604813061,10428.810169730066,7234.3323815133335,4892.332503028518,3231.8705125918445,2089.49016742129,1324.5128622208142,824.5785092966362,504.9482961701518,304.59969776534814,181.24240349807752,106.50555815829854,61.881144361516924,35.58522538294196,20.2731581643939,11.452349109283833,6.4200643217493525,3.5741890971052737],\"type\":\"bar\",\"xaxis\":\"x2\",\"yaxis\":\"y2\"},{\"base\":0,\"name\":\"ACCU 36.5C Feb24\",\"x\":[20,21,22,23,24,25,26,27,28,29,30,31,32,33,34,35,36,37,38,39,40,41,42,43,44,45],\"y\":[65279.39969369264,65024.9508469039,64518.57040111993,63587.003287872954,61988.06690789698,59407.06806303423,55461.75782294619,49716.32273849492,41703.20515787098,30950.13442112622,17008.948302615478,-517.303143320969,-21951.938629324388,-47528.92429398662,-77384.74977891837,-111557.75724244223,-149993.9595670364,-192557.86374627505,-239046.59612507242,-289205.6599694432,-342744.8696573528,-399353.32200172625,-458712.61585164897,-520507.86508982035,-584436.3350406775,-650213.7524647324],\"type\":\"bar\",\"xaxis\":\"x\",\"yaxis\":\"y\"},{\"base\":0,\"name\":\"ACCU 36.5C Feb24\",\"x\":[20,21,22,23,24,25,26,27,28,29,30,31,32,33,34,35,36,37,38,39,40,41,42,43,44,45],\"y\":[-170.87030148739777,-356.86048127725843,-684.6008560685981,-1218.8322936131783,-2031.5706645490127,-3194.3713696312825,-4769.254848896506,-6800.000558160948,-9305.435347557806,-12275.858793044912,-15673.05026997729,-19433.603205985462,-23474.797081604524,-27701.93128580157,-32016.009417245354,-36320.82310935963,-40528.75990470404,-44564.97004594645,-48369.81029404227,-51899.70173209689,-55126.67905684535,-58036.974845360026,-60628.98804164332,-62910.94999669249,-64898.54197766703,-66612.65017711525],\"type\":\"bar\",\"xaxis\":\"x2\",\"yaxis\":\"y2\"},{\"base\":0,\"name\":\"ACCU 43.5C Feb24\",\"x\":[20,21,22,23,24,25,26,27,28,29,30,31,32,33,34,35,36,37,38,39,40,41,42,43,44,45],\"y\":[-11793.750085491722,-11780.968465789843,-11750.1449701348,-11682.118917556583,-11543.352033732426,-11279.45570538026,-10808.109431273233,-10012.292929154451,-8734.94322590661,-6776.127861170345,-3893.583632021702,192.94779895542888,5793.664209750266,13237.500599882085,22858.749777956935,34982.71063657502,49911.62333491807,67912.03823263207,89204.5264153671,113956.32688827786,142277.19252707646,174218.38883102284,209774.54812770462,248887.9040375284,291454.3302734242,337330.57756421075],\"type\":\"bar\",\"xaxis\":\"x\",\"yaxis\":\"y\"},{\"base\":0,\"name\":\"ACCU 43.5C Feb24\",\"x\":[20,21,22,23,24,25,26,27,28,29,30,31,32,33,34,35,36,37,38,39,40,41,42,43,44,45],\"y\":[7.654888928542372,19.520256378729986,45.231819495467946,96.30069277134328,190.17756297078313,351.21964577068024,610.8845440680147,1006.8764135093267,1581.1529850518057,2376.9273932944193,3435.006457541353,4789.94511215222,6466.536142898168,8477.094367071548,10819.857666538328,13478.650119126638,16423.773252951894,19613.941549960793,22998.97708417762,26522.931956896555,30127.31150441058,33754.114517336406,37348.47423313663,40860.76119453372,44248.08424163672,47475.19054220916],\"type\":\"bar\",\"xaxis\":\"x2\",\"yaxis\":\"y2\"},{\"base\":0,\"name\":\"ACCU 38C Jun24\",\"x\":[20,21,22,23,24,25,26,27,28,29,30,31,32,33,34,35,36,37,38,39,40,41,42,43,44,45],\"y\":[0.0,0.0,0.0,0.0,0.0,0.0,0.0,0.0,0.0,0.0,0.0,0.0,0.0,0.0,0.0,0.0,0.0,0.0,0.0,0.0,0.0,0.0,0.0,0.0,0.0,0.0],\"type\":\"bar\",\"xaxis\":\"x\",\"yaxis\":\"y\"},{\"base\":0,\"name\":\"ACCU 38C Jun24\",\"x\":[20,21,22,23,24,25,26,27,28,29,30,31,32,33,34,35,36,37,38,39,40,41,42,43,44,45],\"y\":[0.0,0.0,0.0,0.0,0.0,0.0,0.0,0.0,0.0,0.0,0.0,0.0,0.0,0.0,0.0,0.0,0.0,0.0,0.0,0.0,0.0,0.0,0.0,0.0,0.0,0.0],\"type\":\"bar\",\"xaxis\":\"x2\",\"yaxis\":\"y2\"},{\"base\":0,\"name\":\"ACCU 27P Jun24\",\"x\":[20,21,22,23,24,25,26,27,28,29,30,31,32,33,34,35,36,37,38,39,40,41,42,43,44,45],\"y\":[0.0,0.0,0.0,0.0,0.0,0.0,0.0,0.0,0.0,0.0,0.0,0.0,0.0,0.0,0.0,0.0,0.0,0.0,0.0,0.0,0.0,0.0,0.0,0.0,0.0,0.0],\"type\":\"bar\",\"xaxis\":\"x\",\"yaxis\":\"y\"},{\"base\":0,\"name\":\"ACCU 27P Jun24\",\"x\":[20,21,22,23,24,25,26,27,28,29,30,31,32,33,34,35,36,37,38,39,40,41,42,43,44,45],\"y\":[-0.0,-0.0,-0.0,-0.0,-0.0,-0.0,-0.0,-0.0,-0.0,-0.0,-0.0,-0.0,-0.0,-0.0,-0.0,-0.0,-0.0,-0.0,-0.0,-0.0,-0.0,-0.0,-0.0,-0.0,-0.0,-0.0],\"type\":\"bar\",\"xaxis\":\"x2\",\"yaxis\":\"y2\"},{\"base\":0,\"name\":\"ACCU 24P Jun24\",\"x\":[20,21,22,23,24,25,26,27,28,29,30,31,32,33,34,35,36,37,38,39,40,41,42,43,44,45],\"y\":[0.0,0.0,0.0,0.0,0.0,0.0,0.0,0.0,0.0,0.0,0.0,0.0,0.0,0.0,0.0,0.0,0.0,0.0,0.0,0.0,0.0,0.0,0.0,0.0,0.0,0.0],\"type\":\"bar\",\"xaxis\":\"x\",\"yaxis\":\"y\"},{\"base\":0,\"name\":\"ACCU 24P Jun24\",\"x\":[20,21,22,23,24,25,26,27,28,29,30,31,32,33,34,35,36,37,38,39,40,41,42,43,44,45],\"y\":[-0.0,-0.0,-0.0,-0.0,-0.0,-0.0,-0.0,-0.0,-0.0,-0.0,-0.0,-0.0,-0.0,-0.0,-0.0,-0.0,-0.0,-0.0,-0.0,-0.0,-0.0,-0.0,-0.0,-0.0,-0.0,-0.0],\"type\":\"bar\",\"xaxis\":\"x2\",\"yaxis\":\"y2\"},{\"mode\":\"lines\",\"name\":\"Total_PnL\",\"x\":[20,21,22,23,24,25,26,27,28,29,30,31,32,33,34,35,36,37,38,39,40,41,42,43,44,45],\"y\":[201209.59593356497,216812.36582672826,227109.58892010277,231046.8026275476,227918.82915771505,217274.95244086802,198769.8998843105,172185.39240498893,137699.31828446352,96201.83695980227,49347.341347530964,-781.4445117142441,-52225.674273680546,-103615.12304933986,-154342.92564407532,-204445.61916426092,-254318.44467649097,-304414.4998035687,-355021.72237664054,-406146.97824592807,-457495.6967690012,-508520.2382252701,-558508.7320690115,-606688.8764259883,-652325.0273277219,-694792.3960853202],\"type\":\"scatter\",\"xaxis\":\"x\",\"yaxis\":\"y\"},{\"mode\":\"lines\",\"name\":\"Total_Delta\",\"x\":[20,21,22,23,24,25,26,27,28,29,30,31,32,33,34,35,36,37,38,39,40,41,42,43,44,45],\"y\":[17829.274748084124,13153.45224752299,7263.548859829193,495.2805360402807,-6823.208247665098,-14522.195167838436,-22529.33649336645,-30616.188351632976,-38208.80952800309,-44504.32948853392,-48847.503654457316,-51075.32716261789,-51581.873389435714,-51098.24243404298,-50368.58095844815,-49907.91860433776,-49917.02324043744,-50324.969995992775,-50890.889882497795,-51309.652243302204,-51294.96997797303,-50633.685545556786,-49212.92750166987,-47023.49634104623,-44143.96259327039,-40712.06890632373],\"type\":\"scatter\",\"xaxis\":\"x2\",\"yaxis\":\"y2\"}],                        {\"template\":{\"data\":{\"histogram2dcontour\":[{\"type\":\"histogram2dcontour\",\"colorbar\":{\"outlinewidth\":0,\"ticks\":\"\"},\"colorscale\":[[0.0,\"#0d0887\"],[0.1111111111111111,\"#46039f\"],[0.2222222222222222,\"#7201a8\"],[0.3333333333333333,\"#9c179e\"],[0.4444444444444444,\"#bd3786\"],[0.5555555555555556,\"#d8576b\"],[0.6666666666666666,\"#ed7953\"],[0.7777777777777778,\"#fb9f3a\"],[0.8888888888888888,\"#fdca26\"],[1.0,\"#f0f921\"]]}],\"choropleth\":[{\"type\":\"choropleth\",\"colorbar\":{\"outlinewidth\":0,\"ticks\":\"\"}}],\"histogram2d\":[{\"type\":\"histogram2d\",\"colorbar\":{\"outlinewidth\":0,\"ticks\":\"\"},\"colorscale\":[[0.0,\"#0d0887\"],[0.1111111111111111,\"#46039f\"],[0.2222222222222222,\"#7201a8\"],[0.3333333333333333,\"#9c179e\"],[0.4444444444444444,\"#bd3786\"],[0.5555555555555556,\"#d8576b\"],[0.6666666666666666,\"#ed7953\"],[0.7777777777777778,\"#fb9f3a\"],[0.8888888888888888,\"#fdca26\"],[1.0,\"#f0f921\"]]}],\"heatmap\":[{\"type\":\"heatmap\",\"colorbar\":{\"outlinewidth\":0,\"ticks\":\"\"},\"colorscale\":[[0.0,\"#0d0887\"],[0.1111111111111111,\"#46039f\"],[0.2222222222222222,\"#7201a8\"],[0.3333333333333333,\"#9c179e\"],[0.4444444444444444,\"#bd3786\"],[0.5555555555555556,\"#d8576b\"],[0.6666666666666666,\"#ed7953\"],[0.7777777777777778,\"#fb9f3a\"],[0.8888888888888888,\"#fdca26\"],[1.0,\"#f0f921\"]]}],\"heatmapgl\":[{\"type\":\"heatmapgl\",\"colorbar\":{\"outlinewidth\":0,\"ticks\":\"\"},\"colorscale\":[[0.0,\"#0d0887\"],[0.1111111111111111,\"#46039f\"],[0.2222222222222222,\"#7201a8\"],[0.3333333333333333,\"#9c179e\"],[0.4444444444444444,\"#bd3786\"],[0.5555555555555556,\"#d8576b\"],[0.6666666666666666,\"#ed7953\"],[0.7777777777777778,\"#fb9f3a\"],[0.8888888888888888,\"#fdca26\"],[1.0,\"#f0f921\"]]}],\"contourcarpet\":[{\"type\":\"contourcarpet\",\"colorbar\":{\"outlinewidth\":0,\"ticks\":\"\"}}],\"contour\":[{\"type\":\"contour\",\"colorbar\":{\"outlinewidth\":0,\"ticks\":\"\"},\"colorscale\":[[0.0,\"#0d0887\"],[0.1111111111111111,\"#46039f\"],[0.2222222222222222,\"#7201a8\"],[0.3333333333333333,\"#9c179e\"],[0.4444444444444444,\"#bd3786\"],[0.5555555555555556,\"#d8576b\"],[0.6666666666666666,\"#ed7953\"],[0.7777777777777778,\"#fb9f3a\"],[0.8888888888888888,\"#fdca26\"],[1.0,\"#f0f921\"]]}],\"surface\":[{\"type\":\"surface\",\"colorbar\":{\"outlinewidth\":0,\"ticks\":\"\"},\"colorscale\":[[0.0,\"#0d0887\"],[0.1111111111111111,\"#46039f\"],[0.2222222222222222,\"#7201a8\"],[0.3333333333333333,\"#9c179e\"],[0.4444444444444444,\"#bd3786\"],[0.5555555555555556,\"#d8576b\"],[0.6666666666666666,\"#ed7953\"],[0.7777777777777778,\"#fb9f3a\"],[0.8888888888888888,\"#fdca26\"],[1.0,\"#f0f921\"]]}],\"mesh3d\":[{\"type\":\"mesh3d\",\"colorbar\":{\"outlinewidth\":0,\"ticks\":\"\"}}],\"scatter\":[{\"fillpattern\":{\"fillmode\":\"overlay\",\"size\":10,\"solidity\":0.2},\"type\":\"scatter\"}],\"parcoords\":[{\"type\":\"parcoords\",\"line\":{\"colorbar\":{\"outlinewidth\":0,\"ticks\":\"\"}}}],\"scatterpolargl\":[{\"type\":\"scatterpolargl\",\"marker\":{\"colorbar\":{\"outlinewidth\":0,\"ticks\":\"\"}}}],\"bar\":[{\"error_x\":{\"color\":\"#2a3f5f\"},\"error_y\":{\"color\":\"#2a3f5f\"},\"marker\":{\"line\":{\"color\":\"#E5ECF6\",\"width\":0.5},\"pattern\":{\"fillmode\":\"overlay\",\"size\":10,\"solidity\":0.2}},\"type\":\"bar\"}],\"scattergeo\":[{\"type\":\"scattergeo\",\"marker\":{\"colorbar\":{\"outlinewidth\":0,\"ticks\":\"\"}}}],\"scatterpolar\":[{\"type\":\"scatterpolar\",\"marker\":{\"colorbar\":{\"outlinewidth\":0,\"ticks\":\"\"}}}],\"histogram\":[{\"marker\":{\"pattern\":{\"fillmode\":\"overlay\",\"size\":10,\"solidity\":0.2}},\"type\":\"histogram\"}],\"scattergl\":[{\"type\":\"scattergl\",\"marker\":{\"colorbar\":{\"outlinewidth\":0,\"ticks\":\"\"}}}],\"scatter3d\":[{\"type\":\"scatter3d\",\"line\":{\"colorbar\":{\"outlinewidth\":0,\"ticks\":\"\"}},\"marker\":{\"colorbar\":{\"outlinewidth\":0,\"ticks\":\"\"}}}],\"scattermapbox\":[{\"type\":\"scattermapbox\",\"marker\":{\"colorbar\":{\"outlinewidth\":0,\"ticks\":\"\"}}}],\"scatterternary\":[{\"type\":\"scatterternary\",\"marker\":{\"colorbar\":{\"outlinewidth\":0,\"ticks\":\"\"}}}],\"scattercarpet\":[{\"type\":\"scattercarpet\",\"marker\":{\"colorbar\":{\"outlinewidth\":0,\"ticks\":\"\"}}}],\"carpet\":[{\"aaxis\":{\"endlinecolor\":\"#2a3f5f\",\"gridcolor\":\"white\",\"linecolor\":\"white\",\"minorgridcolor\":\"white\",\"startlinecolor\":\"#2a3f5f\"},\"baxis\":{\"endlinecolor\":\"#2a3f5f\",\"gridcolor\":\"white\",\"linecolor\":\"white\",\"minorgridcolor\":\"white\",\"startlinecolor\":\"#2a3f5f\"},\"type\":\"carpet\"}],\"table\":[{\"cells\":{\"fill\":{\"color\":\"#EBF0F8\"},\"line\":{\"color\":\"white\"}},\"header\":{\"fill\":{\"color\":\"#C8D4E3\"},\"line\":{\"color\":\"white\"}},\"type\":\"table\"}],\"barpolar\":[{\"marker\":{\"line\":{\"color\":\"#E5ECF6\",\"width\":0.5},\"pattern\":{\"fillmode\":\"overlay\",\"size\":10,\"solidity\":0.2}},\"type\":\"barpolar\"}],\"pie\":[{\"automargin\":true,\"type\":\"pie\"}]},\"layout\":{\"autotypenumbers\":\"strict\",\"colorway\":[\"#636efa\",\"#EF553B\",\"#00cc96\",\"#ab63fa\",\"#FFA15A\",\"#19d3f3\",\"#FF6692\",\"#B6E880\",\"#FF97FF\",\"#FECB52\"],\"font\":{\"color\":\"#2a3f5f\"},\"hovermode\":\"closest\",\"hoverlabel\":{\"align\":\"left\"},\"paper_bgcolor\":\"white\",\"plot_bgcolor\":\"#E5ECF6\",\"polar\":{\"bgcolor\":\"#E5ECF6\",\"angularaxis\":{\"gridcolor\":\"white\",\"linecolor\":\"white\",\"ticks\":\"\"},\"radialaxis\":{\"gridcolor\":\"white\",\"linecolor\":\"white\",\"ticks\":\"\"}},\"ternary\":{\"bgcolor\":\"#E5ECF6\",\"aaxis\":{\"gridcolor\":\"white\",\"linecolor\":\"white\",\"ticks\":\"\"},\"baxis\":{\"gridcolor\":\"white\",\"linecolor\":\"white\",\"ticks\":\"\"},\"caxis\":{\"gridcolor\":\"white\",\"linecolor\":\"white\",\"ticks\":\"\"}},\"coloraxis\":{\"colorbar\":{\"outlinewidth\":0,\"ticks\":\"\"}},\"colorscale\":{\"sequential\":[[0.0,\"#0d0887\"],[0.1111111111111111,\"#46039f\"],[0.2222222222222222,\"#7201a8\"],[0.3333333333333333,\"#9c179e\"],[0.4444444444444444,\"#bd3786\"],[0.5555555555555556,\"#d8576b\"],[0.6666666666666666,\"#ed7953\"],[0.7777777777777778,\"#fb9f3a\"],[0.8888888888888888,\"#fdca26\"],[1.0,\"#f0f921\"]],\"sequentialminus\":[[0.0,\"#0d0887\"],[0.1111111111111111,\"#46039f\"],[0.2222222222222222,\"#7201a8\"],[0.3333333333333333,\"#9c179e\"],[0.4444444444444444,\"#bd3786\"],[0.5555555555555556,\"#d8576b\"],[0.6666666666666666,\"#ed7953\"],[0.7777777777777778,\"#fb9f3a\"],[0.8888888888888888,\"#fdca26\"],[1.0,\"#f0f921\"]],\"diverging\":[[0,\"#8e0152\"],[0.1,\"#c51b7d\"],[0.2,\"#de77ae\"],[0.3,\"#f1b6da\"],[0.4,\"#fde0ef\"],[0.5,\"#f7f7f7\"],[0.6,\"#e6f5d0\"],[0.7,\"#b8e186\"],[0.8,\"#7fbc41\"],[0.9,\"#4d9221\"],[1,\"#276419\"]]},\"xaxis\":{\"gridcolor\":\"white\",\"linecolor\":\"white\",\"ticks\":\"\",\"title\":{\"standoff\":15},\"zerolinecolor\":\"white\",\"automargin\":true,\"zerolinewidth\":2},\"yaxis\":{\"gridcolor\":\"white\",\"linecolor\":\"white\",\"ticks\":\"\",\"title\":{\"standoff\":15},\"zerolinecolor\":\"white\",\"automargin\":true,\"zerolinewidth\":2},\"scene\":{\"xaxis\":{\"backgroundcolor\":\"#E5ECF6\",\"gridcolor\":\"white\",\"linecolor\":\"white\",\"showbackground\":true,\"ticks\":\"\",\"zerolinecolor\":\"white\",\"gridwidth\":2},\"yaxis\":{\"backgroundcolor\":\"#E5ECF6\",\"gridcolor\":\"white\",\"linecolor\":\"white\",\"showbackground\":true,\"ticks\":\"\",\"zerolinecolor\":\"white\",\"gridwidth\":2},\"zaxis\":{\"backgroundcolor\":\"#E5ECF6\",\"gridcolor\":\"white\",\"linecolor\":\"white\",\"showbackground\":true,\"ticks\":\"\",\"zerolinecolor\":\"white\",\"gridwidth\":2}},\"shapedefaults\":{\"line\":{\"color\":\"#2a3f5f\"}},\"annotationdefaults\":{\"arrowcolor\":\"#2a3f5f\",\"arrowhead\":0,\"arrowwidth\":1},\"geo\":{\"bgcolor\":\"white\",\"landcolor\":\"#E5ECF6\",\"subunitcolor\":\"white\",\"showland\":true,\"showlakes\":true,\"lakecolor\":\"white\"},\"title\":{\"x\":0.05},\"mapbox\":{\"style\":\"light\"}}},\"xaxis\":{\"anchor\":\"y\",\"domain\":[0.0,0.45],\"title\":{\"text\":\"Price\"}},\"yaxis\":{\"anchor\":\"x\",\"domain\":[0.0,1.0],\"title\":{\"text\":\"Pnl\"}},\"xaxis2\":{\"anchor\":\"y2\",\"domain\":[0.55,1.0],\"title\":{\"text\":\"Price\"}},\"yaxis2\":{\"anchor\":\"x2\",\"domain\":[0.0,1.0],\"title\":{\"text\":\"Delta\"}},\"title\":{\"text\":\"Todays Option Pos (PnL and Delta)\",\"x\":0.5,\"xanchor\":\"center\"},\"barmode\":\"stack\"},                        {\"responsive\": true}                    ).then(function(){\n",
       "                            \n",
       "var gd = document.getElementById('b3c39dd8-4d2e-4dbe-a5fb-2e52b76768ce');\n",
       "var x = new MutationObserver(function (mutations, observer) {{\n",
       "        var display = window.getComputedStyle(gd).display;\n",
       "        if (!display || display === 'none') {{\n",
       "            console.log([gd, 'removed!']);\n",
       "            Plotly.purge(gd);\n",
       "            observer.disconnect();\n",
       "        }}\n",
       "}});\n",
       "\n",
       "// Listen for the removal of the full notebook cells\n",
       "var notebookContainer = gd.closest('#notebook-container');\n",
       "if (notebookContainer) {{\n",
       "    x.observe(notebookContainer, {childList: true});\n",
       "}}\n",
       "\n",
       "// Listen for the clearing of the current output cell\n",
       "var outputEl = gd.closest('.output');\n",
       "if (outputEl) {{\n",
       "    x.observe(outputEl, {childList: true});\n",
       "}}\n",
       "\n",
       "                        })                };                });            </script>        </div>"
      ]
     },
     "metadata": {},
     "output_type": "display_data"
    }
   ],
   "source": [
    "fig_p = go.Figure()\n",
    "for i in list(p)[1:-1]:\n",
    "    fig_p.add_trace(go.Bar(x=p.Price, y=p[i], name=i, base=0))\n",
    "\n",
    "fig_p.add_trace(go.Scatter(x=p.Price, y=p.Option_Pnl, mode='lines', name='Total_PnL'))\n",
    "\n",
    "#fig_p.update_layout(title='Option PnL Today', xaxis_title='Price', yaxis_title='pnl', barmode='stack')\n",
    "#fig_p.show()\n",
    "\n",
    "#~~~~~~~~~~~~~~~~~~~~~~~~~~~~~~~~~~~~~~~~~~~~~~~~~~~~~~~~~~~~~~~~~~~~~~~~~~~~~~~~~\n",
    "fig_d = go.Figure()\n",
    "for i in list(d)[1:-1]:\n",
    "    fig_d.add_trace(go.Bar(x=d.Price, y=d[i], name=i, base=0))\n",
    "\n",
    "fig_d.add_trace(go.Scatter(x=d.Price, y=d.Option_Delta, mode='lines', name='Total_Delta'))\n",
    "\n",
    "#~~~~~~~~~~~~~~~~~~~~~~~~~~~~~~~~~~~~~~~~~~~~~~~~~~~~~~~~~~~~~~~~~~~~~~~~~~~~~~~~\n",
    "fig = make_subplots(rows=1, cols=2)\n",
    "for i in range(0,len(fig_p.data)):\n",
    "    fig.add_trace(fig_p.data[i], row=1, col=1)\n",
    "    fig.add_trace(fig_d.data[i], row=1, col=2)\n",
    "    \n",
    "fig.update_layout(title={'text': 'Todays Option Pos (PnL and Delta)','x': 0.5,'xanchor': 'center'}, barmode='stack')\n",
    "\n",
    "fig.update_xaxes(title_text=\"Price\", row=1, col=1)\n",
    "fig.update_yaxes(title_text=\"Pnl\", row=1, col=1)\n",
    "fig.update_xaxes(title_text=\"Price\", row=1, col=2)\n",
    "fig.update_yaxes(title_text=\"Delta\", row=1, col=2)    \n",
    "fig.show()  "
   ]
  },
  {
   "cell_type": "code",
   "execution_count": 15,
   "id": "175af9cd",
   "metadata": {},
   "outputs": [
    {
     "data": {
      "application/vnd.plotly.v1+json": {
       "config": {
        "plotlyServerURL": "https://plot.ly"
       },
       "data": [
        {
         "base": 0,
         "name": "ACCU 32P Dec23",
         "type": "bar",
         "x": [
          20,
          21,
          22,
          23,
          24,
          25,
          26,
          27,
          28,
          29,
          30,
          31,
          32,
          33,
          34,
          35,
          36,
          37,
          38,
          39,
          40,
          41,
          42,
          43,
          44,
          45
         ],
         "xaxis": "x",
         "y": [
          142.03289896912267,
          142.00732193944117,
          141.79464221410316,
          140.53947978139666,
          135.0910128755473,
          117.17013829154149,
          71.4082368521769,
          -21.04266675526805,
          -170.69861201601668,
          -365.58206832244,
          -567.2660841112619,
          -724.4038628576653,
          -796.5854391088326,
          -772.3872144486085,
          -670.7517103352932,
          -527.853171256578,
          -380.0463963863365,
          -252.37952435980102,
          -155.6798802031973,
          -89.76016300804703,
          -48.64402004770878,
          -24.90277202585309,
          -12.097796667668431,
          -5.600031380979883,
          -2.479275483167551,
          -1.0533955460410764
         ],
         "yaxis": "y"
        },
        {
         "base": 0,
         "name": "ACCU 32P Dec23",
         "type": "bar",
         "x": [
          20,
          21,
          22,
          23,
          24,
          25,
          26,
          27,
          28,
          29,
          30,
          31,
          32,
          33,
          34,
          35,
          36,
          37,
          38,
          39,
          40,
          41,
          42,
          43,
          44,
          45
         ],
         "xaxis": "x2",
         "y": [
          0.0017230930437686165,
          0.02167079945467054,
          0.18727506775407518,
          1.1627268178319476,
          5.386968780529957,
          19.239682723199387,
          54.476156929278666,
          125.28979950325295,
          239.062146181401,
          385.50427887375446,
          533.9915241552853,
          644.5531623733066,
          686.6289083511205,
          652.8749296266457,
          559.701559457848,
          436.5296043828755,
          312.2557581515464,
          206.34912094160458,
          126.8048183215276,
          72.8923256721262,
          39.40675994934297,
          20.133431160254048,
          9.76443907270697,
          4.513497398884834,
          1.9958004179684032,
          0.8470794047592819
         ],
         "yaxis": "y2"
        },
        {
         "base": 0,
         "name": "ACCU 45C Dec23",
         "type": "bar",
         "x": [
          20,
          21,
          22,
          23,
          24,
          25,
          26,
          27,
          28,
          29,
          30,
          31,
          32,
          33,
          34,
          35,
          36,
          37,
          38,
          39,
          40,
          41,
          42,
          43,
          44,
          45
         ],
         "xaxis": "x",
         "y": [
          -2.857610312457043e-14,
          -2.4809436239645603e-12,
          -1.3528621911560446e-10,
          -4.88359843193989e-09,
          -1.2206252797163827e-07,
          -2.1956231170907063e-06,
          -2.938879254225734e-05,
          -0.00030135742555832375,
          -0.0024282831340125505,
          -0.01572292004417017,
          -0.08343365326339772,
          -0.36923685170821857,
          -1.3840992053396086,
          -4.456012222873886,
          -12.474799041994276,
          -30.70959895711622,
          -67.1487076499579,
          -131.60666624560955,
          -233.1230230677688,
          -376.0386431821804,
          -556.1819739490737,
          -759.0981997266729,
          -961.6882680145624,
          -1137.158487555465,
          -1261.6220790813586,
          -1319.9351404253052
         ],
         "yaxis": "y"
        },
        {
         "base": 0,
         "name": "ACCU 45C Dec23",
         "type": "bar",
         "x": [
          20,
          21,
          22,
          23,
          24,
          25,
          26,
          27,
          28,
          29,
          30,
          31,
          32,
          33,
          34,
          35,
          36,
          37,
          38,
          39,
          40,
          41,
          42,
          43,
          44,
          45
         ],
         "xaxis": "x2",
         "y": [
          2.2429951565497027e-14,
          1.9464573684919698e-12,
          1.0608880785015402e-10,
          3.827607693698172e-09,
          9.561423768836517e-08,
          1.7188162702301781e-06,
          2.299114438737259e-05,
          0.00023558092506007164,
          0.0018967274167081298,
          0.012270129245486623,
          0.06504657222603877,
          0.2875444132368714,
          1.0765255382557266,
          3.4609079093592854,
          9.673401520381704,
          23.7694839558727,
          51.86316410523979,
          101.3963535492285,
          179.0866545664133,
          287.87660913149426,
          424.0186165804956,
          575.8012683967778,
          724.9563408144803,
          850.6249253801768,
          934.5473391815146,
          965.5719023687632
         ],
         "yaxis": "y2"
        },
        {
         "base": 0,
         "name": "ACCU 29P Dec23",
         "type": "bar",
         "x": [
          20,
          21,
          22,
          23,
          24,
          25,
          26,
          27,
          28,
          29,
          30,
          31,
          32,
          33,
          34,
          35,
          36,
          37,
          38,
          39,
          40,
          41,
          42,
          43,
          44,
          45
         ],
         "xaxis": "x",
         "y": [
          -256.9392004199398,
          -253.83531297755138,
          -239.09732193541328,
          -188.720360950619,
          -60.95650467498697,
          184.8152678273542,
          547.6086020438975,
          956.0912512515018,
          1289.7669855438373,
          1443.8111083847589,
          1386.4288303734102,
          1165.933703420398,
          871.9086739585667,
          586.9795529956514,
          359.43897894511537,
          202.00671582426133,
          105.01708492639521,
          50.8553512484797,
          23.083449405870514,
          9.875962558780857,
          4.002761304614991,
          1.5438959501996827,
          0.5690439813642573,
          0.20117343569245355,
          0.06845013098800715,
          0.022485818358039054
         ],
         "yaxis": "y"
        },
        {
         "base": 0,
         "name": "ACCU 29P Dec23",
         "type": "bar",
         "x": [
          20,
          21,
          22,
          23,
          24,
          25,
          26,
          27,
          28,
          29,
          30,
          31,
          32,
          33,
          34,
          35,
          36,
          37,
          38,
          39,
          40,
          41,
          42,
          43,
          44,
          45
         ],
         "xaxis": "x2",
         "y": [
          -0.38891517616489624,
          -2.800329619122776,
          -14.219098997897978,
          -53.11231746205321,
          -151.2797410438252,
          -338.8278828457791,
          -612.7480786091888,
          -915.4500119252784,
          -1152.6239932729402,
          -1244.5148963864056,
          -1170.0535871315383,
          -970.8444376595615,
          -719.4506654802358,
          -481.22406186774964,
          -293.27362188911064,
          -164.21983764154066,
          -85.12791507786261,
          -41.12877668396713,
          -18.63323003959366,
          -7.9594403090127095,
          -3.2216973349881033,
          -1.2412200572346381,
          -0.45703490435516975,
          -0.1614363779440904,
          -0.054887957815532476,
          -0.018018587327221045
         ],
         "yaxis": "y2"
        },
        {
         "base": 0,
         "name": "ACCU 40C Jan24",
         "type": "bar",
         "x": [
          20,
          21,
          22,
          23,
          24,
          25,
          26,
          27,
          28,
          29,
          30,
          31,
          32,
          33,
          34,
          35,
          36,
          37,
          38,
          39,
          40,
          41,
          42,
          43,
          44,
          45
         ],
         "xaxis": "x",
         "y": [
          0.06074953472229033,
          0.23449826441046867,
          0.7761304815592707,
          2.2418325680214766,
          5.737173609931121,
          13.17805614890995,
          27.474731941453744,
          52.50244792286633,
          92.74537591138187,
          152.5896083132142,
          235.3694188515974,
          342.3856028938443,
          472.1631764357758,
          620.1734637518455,
          779.127027886056,
          939.793197726548,
          1092.171360627888,
          1226.7673134373151,
          1335.7278889410645,
          1413.6470244742159,
          1457.9493319092544,
          1468.8529671449548,
          1448.9888324193948,
          1402.7959598299562,
          1335.8226213508717,
          1254.046469802656
         ],
         "yaxis": "y"
        },
        {
         "base": 0,
         "name": "ACCU 40C Jan24",
         "type": "bar",
         "x": [
          20,
          21,
          22,
          23,
          24,
          25,
          26,
          27,
          28,
          29,
          30,
          31,
          32,
          33,
          34,
          35,
          36,
          37,
          38,
          39,
          40,
          41,
          42,
          43,
          44,
          45
         ],
         "xaxis": "x2",
         "y": [
          -0.1325183531485064,
          -0.5107293250255319,
          -1.6875161053308745,
          -4.865360028727144,
          -12.4261484314246,
          -28.479666031919127,
          -59.23368565531092,
          -112.89114837986702,
          -198.8360375514252,
          -326.06863866215224,
          -501.1317361514413,
          -726.0145600928576,
          -996.6175786688491,
          -1302.2579769178305,
          -1626.4281522631347,
          -1948.6872842268046,
          -2247.283995977344,
          -2501.9593223820266,
          -2696.389504704148,
          -2819.868820319071,
          -2868.0422844320087,
          -2842.7098523469663,
          -2750.886908980814,
          -2603.3954062020252,
          -2413.275909130508,
          -2194.270063499677
         ],
         "yaxis": "y2"
        },
        {
         "base": 0,
         "name": "ACCU 55C Jan24",
         "type": "bar",
         "x": [
          20,
          21,
          22,
          23,
          24,
          25,
          26,
          27,
          28,
          29,
          30,
          31,
          32,
          33,
          34,
          35,
          36,
          37,
          38,
          39,
          40,
          41,
          42,
          43,
          44,
          45
         ],
         "xaxis": "x",
         "y": [
          -1.1225158121540569e-06,
          -8.202675902929812e-06,
          -4.988430368804507e-05,
          -0.00025765275883189584,
          -0.001150047760344145,
          -0.004503083116610596,
          -0.015669421246420238,
          -0.049006776815822155,
          -0.13913006186935653,
          -0.36168665053541066,
          -0.8676323005805462,
          -1.93374386017135,
          -4.028711098008203,
          -7.888613713655291,
          -14.588897120183482,
          -25.59403653059186,
          -42.76328001372945,
          -68.29314041985863,
          -104.58537517286717,
          -154.04204982751156,
          -218.8043272679913,
          -300.4653514997574,
          -399.7965959259622,
          -516.528988165854,
          -649.2243675991917,
          -795.2605304040379
         ],
         "yaxis": "y"
        },
        {
         "base": 0,
         "name": "ACCU 55C Jan24",
         "type": "bar",
         "x": [
          20,
          21,
          22,
          23,
          24,
          25,
          26,
          27,
          28,
          29,
          30,
          31,
          32,
          33,
          34,
          35,
          36,
          37,
          38,
          39,
          40,
          41,
          42,
          43,
          44,
          45
         ],
         "xaxis": "x2",
         "y": [
          2.4654809845503368e-06,
          1.8002208609138473e-05,
          0.00010939062591160755,
          0.0005645215318894914,
          0.0025175217233128116,
          0.009848259524773771,
          0.03423524667343472,
          0.10696077807022915,
          0.3033277544033662,
          0.7876240570351971,
          1.8870680519062801,
          4.200329800060576,
          8.738709207260527,
          17.085954093208823,
          31.548243695102432,
          55.25329304992416,
          92.15198117304975,
          146.88154258389093,
          224.46758371353377,
          329.8706213404197,
          467.4156614990854,
          640.1728134806904,
          849.3756658950236,
          1093.9671964418478,
          1370.3491706696675,
          1672.3830643980461
         ],
         "yaxis": "y2"
        },
        {
         "base": 0,
         "name": "ACCU 31P Jan24",
         "type": "bar",
         "x": [
          20,
          21,
          22,
          23,
          24,
          25,
          26,
          27,
          28,
          29,
          30,
          31,
          32,
          33,
          34,
          35,
          36,
          37,
          38,
          39,
          40,
          41,
          42,
          43,
          44,
          45
         ],
         "xaxis": "x",
         "y": [
          382.6143624584209,
          345.81414969832537,
          278.72588452127076,
          171.0069492720394,
          16.938416258340045,
          -181.03631959282959,
          -410.8405231275841,
          -652.2144715458234,
          -880.6999971173109,
          -1072.7806273545016,
          -1210.5068759362393,
          -1284.349119616248,
          -1293.8094096924958,
          -1246.084664382197,
          -1153.537531496332,
          -1030.8320016540208,
          -892.4177180108521,
          -750.7495854461874,
          -615.3394050941253,
          -492.53004942325146,
          -385.78018494263875,
          -296.23141029957986,
          -223.36730436384542,
          -165.6336501536194,
          -120.94842449387895,
          -87.07696893323731
         ],
         "yaxis": "y"
        },
        {
         "base": 0,
         "name": "ACCU 31P Jan24",
         "type": "bar",
         "x": [
          20,
          21,
          22,
          23,
          24,
          25,
          26,
          27,
          28,
          29,
          30,
          31,
          32,
          33,
          34,
          35,
          36,
          37,
          38,
          39,
          40,
          41,
          42,
          43,
          44,
          45
         ],
         "xaxis": "x2",
         "y": [
          60.1853768757183,
          139.08670219482406,
          282.20037669698564,
          510.5700542069192,
          834.6832612654837,
          1247.0259440775176,
          1719.3120684942592,
          2206.1282043605115,
          2653.9948855073017,
          3012.7193772303526,
          3245.358787224501,
          3334.0991556522104,
          3281.133319641378,
          3105.2927161398484,
          2836.1748517059013,
          2507.6838066261316,
          2152.4792904507144,
          1798.1495110361302,
          1465.2758560762509,
          1167.1071142067253,
          910.3460798941516,
          696.5285398819974,
          523.5685772272618,
          387.18361933169354,
          282.04776487717135,
          202.6267334627278
         ],
         "yaxis": "y2"
        },
        {
         "base": 0,
         "name": "ACCU 25P Jan24",
         "type": "bar",
         "x": [
          20,
          21,
          22,
          23,
          24,
          25,
          26,
          27,
          28,
          29,
          30,
          31,
          32,
          33,
          34,
          35,
          36,
          37,
          38,
          39,
          40,
          41,
          42,
          43,
          44,
          45
         ],
         "xaxis": "x",
         "y": [
          111.59089828897501,
          339.0556530300136,
          579.4856307861644,
          795.5119544774685,
          954.0906639975354,
          1035.7654190453609,
          1038.0395042334394,
          972.8828353634938,
          860.7817310350367,
          724.26677412184,
          582.9991308524922,
          451.19786352138993,
          337.16434645134285,
          244.16641231464544,
          171.90581953970235,
          117.99893526931784,
          79.16433051911613,
          52.024239649426605,
          33.55553179239405,
          21.28004982919869,
          13.289885182540463,
          8.185241259853008,
          4.978113899321612,
          2.99315695933935,
          1.7810926529995161,
          1.0499169041898815
         ],
         "yaxis": "y"
        },
        {
         "base": 0,
         "name": "ACCU 25P Jan24",
         "type": "bar",
         "x": [
          20,
          21,
          22,
          23,
          24,
          25,
          26,
          27,
          28,
          29,
          30,
          31,
          32,
          33,
          34,
          35,
          36,
          37,
          38,
          39,
          40,
          41,
          42,
          43,
          44,
          45
         ],
         "xaxis": "x2",
         "y": [
          -934.328980002046,
          -1402.2984488078132,
          -1885.2999391517387,
          -2301.9322895622317,
          -2582.5156926095133,
          -2688.789641655008,
          -2620.283705432828,
          -2407.8217018234736,
          -2099.7497815597767,
          -1747.4458423077979,
          -1394.6219103910946,
          -1071.9938995254058,
          -796.6320253607739,
          -574.2623463021666,
          -402.758189134437,
          -275.5578203984821,
          -184.35086455985763,
          -120.85480244890827,
          -77.78518875599669,
          -49.23673576271407,
          -30.69820013110548,
          -18.878834598632984,
          -11.466370459865542,
          -6.885954483476906,
          -4.093012569418419,
          -2.410324096435812
         ],
         "yaxis": "y2"
        },
        {
         "base": 0,
         "name": "ACCU 36.5C Feb24",
         "type": "bar",
         "x": [
          20,
          21,
          22,
          23,
          24,
          25,
          26,
          27,
          28,
          29,
          30,
          31,
          32,
          33,
          34,
          35,
          36,
          37,
          38,
          39,
          40,
          41,
          42,
          43,
          44,
          45
         ],
         "xaxis": "x",
         "y": [
          14.125754927038532,
          28.843757453953845,
          53.923548667199846,
          93.25430501967358,
          150.50299611602466,
          228.39794667564394,
          328.058628566038,
          448.53425375471875,
          586.6632575692936,
          737.2865094526646,
          893.7663310879602,
          1048.7039527938527,
          1194.7216927456748,
          1325.1828011933108,
          1434.7528605635634,
          1519.749445193122,
          1578.2696540225359,
          1610.1197364555053,
          1616.5931876526997,
          1600.1530097456812,
          1564.0724974900468,
          1512.0803178146944,
          1448.0433527458567,
          1375.7077318148342,
          1298.5067676368087,
          1219.4352815625687
         ],
         "yaxis": "y"
        },
        {
         "base": 0,
         "name": "ACCU 36.5C Feb24",
         "type": "bar",
         "x": [
          20,
          21,
          22,
          23,
          24,
          25,
          26,
          27,
          28,
          29,
          30,
          31,
          32,
          33,
          34,
          35,
          36,
          37,
          38,
          39,
          40,
          41,
          42,
          43,
          44,
          45
         ],
         "xaxis": "x2",
         "y": [
          -49.7928179313577,
          -101.37185936571082,
          -188.9053075353843,
          -325.54438077182755,
          -523.3852173965648,
          -790.9414674860957,
          -1130.8343174501108,
          -1538.2729410836516,
          -2000.706552664936,
          -2498.7396164936417,
          -3008.1132725176726,
          -3502.3495121875685,
          -3955.570009750736,
          -4345.035670647757,
          -4653.072371212905,
          -4868.2071353984065,
          -4985.494615217331,
          -5006.136583617339,
          -4936.573284125698,
          -4787.254593866385,
          -4571.289784686208,
          -4303.140091288021,
          -3997.47137313397,
          -3668.2356308228505,
          -3328.007358215,
          -2987.567622283683
         ],
         "yaxis": "y2"
        },
        {
         "base": 0,
         "name": "ACCU 43.5C Feb24",
         "type": "bar",
         "x": [
          20,
          21,
          22,
          23,
          24,
          25,
          26,
          27,
          28,
          29,
          30,
          31,
          32,
          33,
          34,
          35,
          36,
          37,
          38,
          39,
          40,
          41,
          42,
          43,
          44,
          45
         ],
         "xaxis": "x",
         "y": [
          -0.7923830941454493,
          -2.0018183039122834,
          -4.583742152191552,
          -9.619993147570309,
          -18.682523077691307,
          -33.85085991278883,
          -57.6320822937744,
          -92.76961835359475,
          -141.9528478765241,
          -207.46514513793926,
          -290.82599618193285,
          -392.4881298906744,
          -511.64223031006145,
          -646.1626118789922,
          -792.7025517054242,
          -946.9236787877128,
          -1103.824770718106,
          -1258.1243495664908,
          -1404.649230708712,
          -1538.6864604168734,
          -1656.2665503522514,
          -1754.3588736143183,
          -1830.973057431464,
          -1885.171339078456,
          -1917.005054848429,
          -1927.3933409474507
         ],
         "yaxis": "y"
        },
        {
         "base": 0,
         "name": "ACCU 43.5C Feb24",
         "type": "bar",
         "x": [
          20,
          21,
          22,
          23,
          24,
          25,
          26,
          27,
          28,
          29,
          30,
          31,
          32,
          33,
          34,
          35,
          36,
          37,
          38,
          39,
          40,
          41,
          42,
          43,
          44,
          45
         ],
         "xaxis": "x2",
         "y": [
          2.815961712543199,
          7.100241819221333,
          16.22457198978759,
          33.976194361291725,
          65.82923404816222,
          118.97784967362678,
          202.0209254328558,
          324.2558008901122,
          494.630801613922,
          720.496827972525,
          1006.3597655269594,
          1352.8506602699888,
          1756.096835235186,
          2207.6055316904085,
          2694.6818433050325,
          3201.3159682833934,
          3709.4083061793117,
          4200.164392238417,
          4655.486762535137,
          5059.212719101041,
          5398.086847636728,
          5662.405097701203,
          5846.314359300785,
          5947.7912113160155,
          5968.352156196817,
          5912.564103762018
         ],
         "yaxis": "y2"
        },
        {
         "base": 0,
         "name": "ACCU 38C Jun24",
         "type": "bar",
         "x": [
          20,
          21,
          22,
          23,
          24,
          25,
          26,
          27,
          28,
          29,
          30,
          31,
          32,
          33,
          34,
          35,
          36,
          37,
          38,
          39,
          40,
          41,
          42,
          43,
          44,
          45
         ],
         "xaxis": "x",
         "y": [
          0,
          0,
          0,
          0,
          0,
          0,
          0,
          0,
          0,
          0,
          0,
          0,
          0,
          0,
          0,
          0,
          0,
          0,
          0,
          0,
          0,
          0,
          0,
          0,
          0,
          0
         ],
         "yaxis": "y"
        },
        {
         "base": 0,
         "name": "ACCU 38C Jun24",
         "type": "bar",
         "x": [
          20,
          21,
          22,
          23,
          24,
          25,
          26,
          27,
          28,
          29,
          30,
          31,
          32,
          33,
          34,
          35,
          36,
          37,
          38,
          39,
          40,
          41,
          42,
          43,
          44,
          45
         ],
         "xaxis": "x2",
         "y": [
          0,
          0,
          0,
          0,
          0,
          0,
          0,
          0,
          0,
          0,
          0,
          0,
          0,
          0,
          0,
          0,
          0,
          0,
          0,
          0,
          0,
          0,
          0,
          0,
          0,
          0
         ],
         "yaxis": "y2"
        },
        {
         "base": 0,
         "name": "ACCU 27P Jun24",
         "type": "bar",
         "x": [
          20,
          21,
          22,
          23,
          24,
          25,
          26,
          27,
          28,
          29,
          30,
          31,
          32,
          33,
          34,
          35,
          36,
          37,
          38,
          39,
          40,
          41,
          42,
          43,
          44,
          45
         ],
         "xaxis": "x",
         "y": [
          0,
          0,
          0,
          0,
          0,
          0,
          0,
          0,
          0,
          0,
          0,
          0,
          0,
          0,
          0,
          0,
          0,
          0,
          0,
          0,
          0,
          0,
          0,
          0,
          0,
          0
         ],
         "yaxis": "y"
        },
        {
         "base": 0,
         "name": "ACCU 27P Jun24",
         "type": "bar",
         "x": [
          20,
          21,
          22,
          23,
          24,
          25,
          26,
          27,
          28,
          29,
          30,
          31,
          32,
          33,
          34,
          35,
          36,
          37,
          38,
          39,
          40,
          41,
          42,
          43,
          44,
          45
         ],
         "xaxis": "x2",
         "y": [
          0,
          0,
          0,
          0,
          0,
          0,
          0,
          0,
          0,
          0,
          0,
          0,
          0,
          0,
          0,
          0,
          0,
          0,
          0,
          0,
          0,
          0,
          0,
          0,
          0,
          0
         ],
         "yaxis": "y2"
        },
        {
         "base": 0,
         "name": "ACCU 24P Jun24",
         "type": "bar",
         "x": [
          20,
          21,
          22,
          23,
          24,
          25,
          26,
          27,
          28,
          29,
          30,
          31,
          32,
          33,
          34,
          35,
          36,
          37,
          38,
          39,
          40,
          41,
          42,
          43,
          44,
          45
         ],
         "xaxis": "x",
         "y": [
          0,
          0,
          0,
          0,
          0,
          0,
          0,
          0,
          0,
          0,
          0,
          0,
          0,
          0,
          0,
          0,
          0,
          0,
          0,
          0,
          0,
          0,
          0,
          0,
          0,
          0
         ],
         "yaxis": "y"
        },
        {
         "base": 0,
         "name": "ACCU 24P Jun24",
         "type": "bar",
         "x": [
          20,
          21,
          22,
          23,
          24,
          25,
          26,
          27,
          28,
          29,
          30,
          31,
          32,
          33,
          34,
          35,
          36,
          37,
          38,
          39,
          40,
          41,
          42,
          43,
          44,
          45
         ],
         "xaxis": "x2",
         "y": [
          0,
          0,
          0,
          0,
          0,
          0,
          0,
          0,
          0,
          0,
          0,
          0,
          0,
          0,
          0,
          0,
          0,
          0,
          0,
          0,
          0,
          0,
          0,
          0,
          0,
          0
         ],
         "yaxis": "y2"
        },
        {
         "mode": "lines",
         "name": "Total_Theta",
         "type": "scatter",
         "x": [
          20,
          21,
          22,
          23,
          24,
          25,
          26,
          27,
          28,
          29,
          30,
          31,
          32,
          33,
          34,
          35,
          36,
          37,
          38,
          39,
          40,
          41,
          42,
          43,
          44,
          45
         ],
         "xaxis": "x",
         "y": [
          392.6930795416783,
          600.1182409020024,
          811.0247226982536,
          1004.2139093627678,
          1182.7200849348774,
          1364.4351432044523,
          1544.1013994056082,
          1663.934723503653,
          1636.4643347046945,
          1411.7487498870173,
          1029.0136889821822,
          604.6770295530177,
          268.50800017662255,
          99.5231136091262,
          101.16919723521005,
          217.63580682722954,
          368.4215573169531,
          478.61337475277924,
          495.5831435453583,
          393.8986807500128,
          173.63741932679272,
          -144.39418499647968,
          -525.343679357565,
          -928.3944742945519,
          -1315.1002697343579,
          -1656.1652221682994
         ],
         "yaxis": "y"
        },
        {
         "mode": "lines",
         "name": "Total_Vega",
         "type": "scatter",
         "x": [
          20,
          21,
          22,
          23,
          24,
          25,
          26,
          27,
          28,
          29,
          30,
          31,
          32,
          33,
          34,
          35,
          36,
          37,
          38,
          39,
          40,
          41,
          42,
          43,
          44,
          45
         ],
         "xaxis": "x2",
         "y": [
          -921.6401673159309,
          -1360.7727343019617,
          -1791.4995286450926,
          -2139.7448079134374,
          -2363.704817769815,
          -2461.7853315661173,
          -2447.2563780532273,
          -2318.6548020993987,
          -2063.9233072646334,
          -1697.2486155870847,
          -1286.2583146608686,
          -935.2115569565906,
          -734.5959812873939,
          -716.460016276033,
          -843.7524348153211,
          -1032.1199213670366,
          -1184.0988907725332,
          -1217.1385647829693,
          -1078.2595324125732,
          -747.3602008053758,
          -233.97800102450674,
          429.0711523300679,
          1193.697694831254,
          2005.402021982322,
          2811.8610634703978,
          3569.7268549291916
         ],
         "yaxis": "y2"
        }
       ],
       "layout": {
        "barmode": "stack",
        "template": {
         "data": {
          "bar": [
           {
            "error_x": {
             "color": "#2a3f5f"
            },
            "error_y": {
             "color": "#2a3f5f"
            },
            "marker": {
             "line": {
              "color": "#E5ECF6",
              "width": 0.5
             },
             "pattern": {
              "fillmode": "overlay",
              "size": 10,
              "solidity": 0.2
             }
            },
            "type": "bar"
           }
          ],
          "barpolar": [
           {
            "marker": {
             "line": {
              "color": "#E5ECF6",
              "width": 0.5
             },
             "pattern": {
              "fillmode": "overlay",
              "size": 10,
              "solidity": 0.2
             }
            },
            "type": "barpolar"
           }
          ],
          "carpet": [
           {
            "aaxis": {
             "endlinecolor": "#2a3f5f",
             "gridcolor": "white",
             "linecolor": "white",
             "minorgridcolor": "white",
             "startlinecolor": "#2a3f5f"
            },
            "baxis": {
             "endlinecolor": "#2a3f5f",
             "gridcolor": "white",
             "linecolor": "white",
             "minorgridcolor": "white",
             "startlinecolor": "#2a3f5f"
            },
            "type": "carpet"
           }
          ],
          "choropleth": [
           {
            "colorbar": {
             "outlinewidth": 0,
             "ticks": ""
            },
            "type": "choropleth"
           }
          ],
          "contour": [
           {
            "colorbar": {
             "outlinewidth": 0,
             "ticks": ""
            },
            "colorscale": [
             [
              0,
              "#0d0887"
             ],
             [
              0.1111111111111111,
              "#46039f"
             ],
             [
              0.2222222222222222,
              "#7201a8"
             ],
             [
              0.3333333333333333,
              "#9c179e"
             ],
             [
              0.4444444444444444,
              "#bd3786"
             ],
             [
              0.5555555555555556,
              "#d8576b"
             ],
             [
              0.6666666666666666,
              "#ed7953"
             ],
             [
              0.7777777777777778,
              "#fb9f3a"
             ],
             [
              0.8888888888888888,
              "#fdca26"
             ],
             [
              1,
              "#f0f921"
             ]
            ],
            "type": "contour"
           }
          ],
          "contourcarpet": [
           {
            "colorbar": {
             "outlinewidth": 0,
             "ticks": ""
            },
            "type": "contourcarpet"
           }
          ],
          "heatmap": [
           {
            "colorbar": {
             "outlinewidth": 0,
             "ticks": ""
            },
            "colorscale": [
             [
              0,
              "#0d0887"
             ],
             [
              0.1111111111111111,
              "#46039f"
             ],
             [
              0.2222222222222222,
              "#7201a8"
             ],
             [
              0.3333333333333333,
              "#9c179e"
             ],
             [
              0.4444444444444444,
              "#bd3786"
             ],
             [
              0.5555555555555556,
              "#d8576b"
             ],
             [
              0.6666666666666666,
              "#ed7953"
             ],
             [
              0.7777777777777778,
              "#fb9f3a"
             ],
             [
              0.8888888888888888,
              "#fdca26"
             ],
             [
              1,
              "#f0f921"
             ]
            ],
            "type": "heatmap"
           }
          ],
          "heatmapgl": [
           {
            "colorbar": {
             "outlinewidth": 0,
             "ticks": ""
            },
            "colorscale": [
             [
              0,
              "#0d0887"
             ],
             [
              0.1111111111111111,
              "#46039f"
             ],
             [
              0.2222222222222222,
              "#7201a8"
             ],
             [
              0.3333333333333333,
              "#9c179e"
             ],
             [
              0.4444444444444444,
              "#bd3786"
             ],
             [
              0.5555555555555556,
              "#d8576b"
             ],
             [
              0.6666666666666666,
              "#ed7953"
             ],
             [
              0.7777777777777778,
              "#fb9f3a"
             ],
             [
              0.8888888888888888,
              "#fdca26"
             ],
             [
              1,
              "#f0f921"
             ]
            ],
            "type": "heatmapgl"
           }
          ],
          "histogram": [
           {
            "marker": {
             "pattern": {
              "fillmode": "overlay",
              "size": 10,
              "solidity": 0.2
             }
            },
            "type": "histogram"
           }
          ],
          "histogram2d": [
           {
            "colorbar": {
             "outlinewidth": 0,
             "ticks": ""
            },
            "colorscale": [
             [
              0,
              "#0d0887"
             ],
             [
              0.1111111111111111,
              "#46039f"
             ],
             [
              0.2222222222222222,
              "#7201a8"
             ],
             [
              0.3333333333333333,
              "#9c179e"
             ],
             [
              0.4444444444444444,
              "#bd3786"
             ],
             [
              0.5555555555555556,
              "#d8576b"
             ],
             [
              0.6666666666666666,
              "#ed7953"
             ],
             [
              0.7777777777777778,
              "#fb9f3a"
             ],
             [
              0.8888888888888888,
              "#fdca26"
             ],
             [
              1,
              "#f0f921"
             ]
            ],
            "type": "histogram2d"
           }
          ],
          "histogram2dcontour": [
           {
            "colorbar": {
             "outlinewidth": 0,
             "ticks": ""
            },
            "colorscale": [
             [
              0,
              "#0d0887"
             ],
             [
              0.1111111111111111,
              "#46039f"
             ],
             [
              0.2222222222222222,
              "#7201a8"
             ],
             [
              0.3333333333333333,
              "#9c179e"
             ],
             [
              0.4444444444444444,
              "#bd3786"
             ],
             [
              0.5555555555555556,
              "#d8576b"
             ],
             [
              0.6666666666666666,
              "#ed7953"
             ],
             [
              0.7777777777777778,
              "#fb9f3a"
             ],
             [
              0.8888888888888888,
              "#fdca26"
             ],
             [
              1,
              "#f0f921"
             ]
            ],
            "type": "histogram2dcontour"
           }
          ],
          "mesh3d": [
           {
            "colorbar": {
             "outlinewidth": 0,
             "ticks": ""
            },
            "type": "mesh3d"
           }
          ],
          "parcoords": [
           {
            "line": {
             "colorbar": {
              "outlinewidth": 0,
              "ticks": ""
             }
            },
            "type": "parcoords"
           }
          ],
          "pie": [
           {
            "automargin": true,
            "type": "pie"
           }
          ],
          "scatter": [
           {
            "fillpattern": {
             "fillmode": "overlay",
             "size": 10,
             "solidity": 0.2
            },
            "type": "scatter"
           }
          ],
          "scatter3d": [
           {
            "line": {
             "colorbar": {
              "outlinewidth": 0,
              "ticks": ""
             }
            },
            "marker": {
             "colorbar": {
              "outlinewidth": 0,
              "ticks": ""
             }
            },
            "type": "scatter3d"
           }
          ],
          "scattercarpet": [
           {
            "marker": {
             "colorbar": {
              "outlinewidth": 0,
              "ticks": ""
             }
            },
            "type": "scattercarpet"
           }
          ],
          "scattergeo": [
           {
            "marker": {
             "colorbar": {
              "outlinewidth": 0,
              "ticks": ""
             }
            },
            "type": "scattergeo"
           }
          ],
          "scattergl": [
           {
            "marker": {
             "colorbar": {
              "outlinewidth": 0,
              "ticks": ""
             }
            },
            "type": "scattergl"
           }
          ],
          "scattermapbox": [
           {
            "marker": {
             "colorbar": {
              "outlinewidth": 0,
              "ticks": ""
             }
            },
            "type": "scattermapbox"
           }
          ],
          "scatterpolar": [
           {
            "marker": {
             "colorbar": {
              "outlinewidth": 0,
              "ticks": ""
             }
            },
            "type": "scatterpolar"
           }
          ],
          "scatterpolargl": [
           {
            "marker": {
             "colorbar": {
              "outlinewidth": 0,
              "ticks": ""
             }
            },
            "type": "scatterpolargl"
           }
          ],
          "scatterternary": [
           {
            "marker": {
             "colorbar": {
              "outlinewidth": 0,
              "ticks": ""
             }
            },
            "type": "scatterternary"
           }
          ],
          "surface": [
           {
            "colorbar": {
             "outlinewidth": 0,
             "ticks": ""
            },
            "colorscale": [
             [
              0,
              "#0d0887"
             ],
             [
              0.1111111111111111,
              "#46039f"
             ],
             [
              0.2222222222222222,
              "#7201a8"
             ],
             [
              0.3333333333333333,
              "#9c179e"
             ],
             [
              0.4444444444444444,
              "#bd3786"
             ],
             [
              0.5555555555555556,
              "#d8576b"
             ],
             [
              0.6666666666666666,
              "#ed7953"
             ],
             [
              0.7777777777777778,
              "#fb9f3a"
             ],
             [
              0.8888888888888888,
              "#fdca26"
             ],
             [
              1,
              "#f0f921"
             ]
            ],
            "type": "surface"
           }
          ],
          "table": [
           {
            "cells": {
             "fill": {
              "color": "#EBF0F8"
             },
             "line": {
              "color": "white"
             }
            },
            "header": {
             "fill": {
              "color": "#C8D4E3"
             },
             "line": {
              "color": "white"
             }
            },
            "type": "table"
           }
          ]
         },
         "layout": {
          "annotationdefaults": {
           "arrowcolor": "#2a3f5f",
           "arrowhead": 0,
           "arrowwidth": 1
          },
          "autotypenumbers": "strict",
          "coloraxis": {
           "colorbar": {
            "outlinewidth": 0,
            "ticks": ""
           }
          },
          "colorscale": {
           "diverging": [
            [
             0,
             "#8e0152"
            ],
            [
             0.1,
             "#c51b7d"
            ],
            [
             0.2,
             "#de77ae"
            ],
            [
             0.3,
             "#f1b6da"
            ],
            [
             0.4,
             "#fde0ef"
            ],
            [
             0.5,
             "#f7f7f7"
            ],
            [
             0.6,
             "#e6f5d0"
            ],
            [
             0.7,
             "#b8e186"
            ],
            [
             0.8,
             "#7fbc41"
            ],
            [
             0.9,
             "#4d9221"
            ],
            [
             1,
             "#276419"
            ]
           ],
           "sequential": [
            [
             0,
             "#0d0887"
            ],
            [
             0.1111111111111111,
             "#46039f"
            ],
            [
             0.2222222222222222,
             "#7201a8"
            ],
            [
             0.3333333333333333,
             "#9c179e"
            ],
            [
             0.4444444444444444,
             "#bd3786"
            ],
            [
             0.5555555555555556,
             "#d8576b"
            ],
            [
             0.6666666666666666,
             "#ed7953"
            ],
            [
             0.7777777777777778,
             "#fb9f3a"
            ],
            [
             0.8888888888888888,
             "#fdca26"
            ],
            [
             1,
             "#f0f921"
            ]
           ],
           "sequentialminus": [
            [
             0,
             "#0d0887"
            ],
            [
             0.1111111111111111,
             "#46039f"
            ],
            [
             0.2222222222222222,
             "#7201a8"
            ],
            [
             0.3333333333333333,
             "#9c179e"
            ],
            [
             0.4444444444444444,
             "#bd3786"
            ],
            [
             0.5555555555555556,
             "#d8576b"
            ],
            [
             0.6666666666666666,
             "#ed7953"
            ],
            [
             0.7777777777777778,
             "#fb9f3a"
            ],
            [
             0.8888888888888888,
             "#fdca26"
            ],
            [
             1,
             "#f0f921"
            ]
           ]
          },
          "colorway": [
           "#636efa",
           "#EF553B",
           "#00cc96",
           "#ab63fa",
           "#FFA15A",
           "#19d3f3",
           "#FF6692",
           "#B6E880",
           "#FF97FF",
           "#FECB52"
          ],
          "font": {
           "color": "#2a3f5f"
          },
          "geo": {
           "bgcolor": "white",
           "lakecolor": "white",
           "landcolor": "#E5ECF6",
           "showlakes": true,
           "showland": true,
           "subunitcolor": "white"
          },
          "hoverlabel": {
           "align": "left"
          },
          "hovermode": "closest",
          "mapbox": {
           "style": "light"
          },
          "paper_bgcolor": "white",
          "plot_bgcolor": "#E5ECF6",
          "polar": {
           "angularaxis": {
            "gridcolor": "white",
            "linecolor": "white",
            "ticks": ""
           },
           "bgcolor": "#E5ECF6",
           "radialaxis": {
            "gridcolor": "white",
            "linecolor": "white",
            "ticks": ""
           }
          },
          "scene": {
           "xaxis": {
            "backgroundcolor": "#E5ECF6",
            "gridcolor": "white",
            "gridwidth": 2,
            "linecolor": "white",
            "showbackground": true,
            "ticks": "",
            "zerolinecolor": "white"
           },
           "yaxis": {
            "backgroundcolor": "#E5ECF6",
            "gridcolor": "white",
            "gridwidth": 2,
            "linecolor": "white",
            "showbackground": true,
            "ticks": "",
            "zerolinecolor": "white"
           },
           "zaxis": {
            "backgroundcolor": "#E5ECF6",
            "gridcolor": "white",
            "gridwidth": 2,
            "linecolor": "white",
            "showbackground": true,
            "ticks": "",
            "zerolinecolor": "white"
           }
          },
          "shapedefaults": {
           "line": {
            "color": "#2a3f5f"
           }
          },
          "ternary": {
           "aaxis": {
            "gridcolor": "white",
            "linecolor": "white",
            "ticks": ""
           },
           "baxis": {
            "gridcolor": "white",
            "linecolor": "white",
            "ticks": ""
           },
           "bgcolor": "#E5ECF6",
           "caxis": {
            "gridcolor": "white",
            "linecolor": "white",
            "ticks": ""
           }
          },
          "title": {
           "x": 0.05
          },
          "xaxis": {
           "automargin": true,
           "gridcolor": "white",
           "linecolor": "white",
           "ticks": "",
           "title": {
            "standoff": 15
           },
           "zerolinecolor": "white",
           "zerolinewidth": 2
          },
          "yaxis": {
           "automargin": true,
           "gridcolor": "white",
           "linecolor": "white",
           "ticks": "",
           "title": {
            "standoff": 15
           },
           "zerolinecolor": "white",
           "zerolinewidth": 2
          }
         }
        },
        "title": {
         "text": "Todays Option Pos (Theta and Vega)",
         "x": 0.5,
         "xanchor": "center"
        },
        "xaxis": {
         "anchor": "y",
         "domain": [
          0,
          0.45
         ],
         "title": {
          "text": "Price"
         }
        },
        "xaxis2": {
         "anchor": "y2",
         "domain": [
          0.55,
          1
         ],
         "title": {
          "text": "Price"
         }
        },
        "yaxis": {
         "anchor": "x",
         "domain": [
          0,
          1
         ],
         "title": {
          "text": "Theta"
         }
        },
        "yaxis2": {
         "anchor": "x2",
         "domain": [
          0,
          1
         ],
         "title": {
          "text": "Vega"
         }
        }
       }
      },
      "text/html": [
       "<div>                            <div id=\"8b3dc939-230b-4bfe-8d09-4c0f14c91af7\" class=\"plotly-graph-div\" style=\"height:525px; width:100%;\"></div>            <script type=\"text/javascript\">                require([\"plotly\"], function(Plotly) {                    window.PLOTLYENV=window.PLOTLYENV || {};                                    if (document.getElementById(\"8b3dc939-230b-4bfe-8d09-4c0f14c91af7\")) {                    Plotly.newPlot(                        \"8b3dc939-230b-4bfe-8d09-4c0f14c91af7\",                        [{\"base\":0,\"name\":\"ACCU 32P Dec23\",\"x\":[20,21,22,23,24,25,26,27,28,29,30,31,32,33,34,35,36,37,38,39,40,41,42,43,44,45],\"y\":[142.03289896912267,142.00732193944117,141.79464221410316,140.53947978139666,135.0910128755473,117.17013829154149,71.4082368521769,-21.04266675526805,-170.69861201601668,-365.58206832244,-567.2660841112619,-724.4038628576653,-796.5854391088326,-772.3872144486085,-670.7517103352932,-527.853171256578,-380.0463963863365,-252.37952435980102,-155.6798802031973,-89.76016300804703,-48.64402004770878,-24.90277202585309,-12.097796667668431,-5.600031380979883,-2.479275483167551,-1.0533955460410764],\"type\":\"bar\",\"xaxis\":\"x\",\"yaxis\":\"y\"},{\"base\":0,\"name\":\"ACCU 32P Dec23\",\"x\":[20,21,22,23,24,25,26,27,28,29,30,31,32,33,34,35,36,37,38,39,40,41,42,43,44,45],\"y\":[0.0017230930437686165,0.02167079945467054,0.18727506775407518,1.1627268178319476,5.386968780529957,19.239682723199387,54.476156929278666,125.28979950325295,239.062146181401,385.50427887375446,533.9915241552853,644.5531623733066,686.6289083511205,652.8749296266457,559.701559457848,436.5296043828755,312.2557581515464,206.34912094160458,126.8048183215276,72.8923256721262,39.40675994934297,20.133431160254048,9.76443907270697,4.513497398884834,1.9958004179684032,0.8470794047592819],\"type\":\"bar\",\"xaxis\":\"x2\",\"yaxis\":\"y2\"},{\"base\":0,\"name\":\"ACCU 45C Dec23\",\"x\":[20,21,22,23,24,25,26,27,28,29,30,31,32,33,34,35,36,37,38,39,40,41,42,43,44,45],\"y\":[-2.857610312457043e-14,-2.4809436239645603e-12,-1.3528621911560446e-10,-4.88359843193989e-09,-1.2206252797163827e-07,-2.1956231170907063e-06,-2.938879254225734e-05,-0.00030135742555832375,-0.0024282831340125505,-0.01572292004417017,-0.08343365326339772,-0.36923685170821857,-1.3840992053396086,-4.456012222873886,-12.474799041994276,-30.70959895711622,-67.1487076499579,-131.60666624560955,-233.1230230677688,-376.0386431821804,-556.1819739490737,-759.0981997266729,-961.6882680145624,-1137.158487555465,-1261.6220790813586,-1319.9351404253052],\"type\":\"bar\",\"xaxis\":\"x\",\"yaxis\":\"y\"},{\"base\":0,\"name\":\"ACCU 45C Dec23\",\"x\":[20,21,22,23,24,25,26,27,28,29,30,31,32,33,34,35,36,37,38,39,40,41,42,43,44,45],\"y\":[2.2429951565497027e-14,1.9464573684919698e-12,1.0608880785015402e-10,3.827607693698172e-09,9.561423768836517e-08,1.7188162702301781e-06,2.299114438737259e-05,0.00023558092506007164,0.0018967274167081298,0.012270129245486623,0.06504657222603877,0.2875444132368714,1.0765255382557266,3.4609079093592854,9.673401520381704,23.7694839558727,51.86316410523979,101.3963535492285,179.0866545664133,287.87660913149426,424.0186165804956,575.8012683967778,724.9563408144803,850.6249253801768,934.5473391815146,965.5719023687632],\"type\":\"bar\",\"xaxis\":\"x2\",\"yaxis\":\"y2\"},{\"base\":0,\"name\":\"ACCU 29P Dec23\",\"x\":[20,21,22,23,24,25,26,27,28,29,30,31,32,33,34,35,36,37,38,39,40,41,42,43,44,45],\"y\":[-256.9392004199398,-253.83531297755138,-239.09732193541328,-188.720360950619,-60.95650467498697,184.8152678273542,547.6086020438975,956.0912512515018,1289.7669855438373,1443.8111083847589,1386.4288303734102,1165.933703420398,871.9086739585667,586.9795529956514,359.43897894511537,202.00671582426133,105.01708492639521,50.8553512484797,23.083449405870514,9.875962558780857,4.002761304614991,1.5438959501996827,0.5690439813642573,0.20117343569245355,0.06845013098800715,0.022485818358039054],\"type\":\"bar\",\"xaxis\":\"x\",\"yaxis\":\"y\"},{\"base\":0,\"name\":\"ACCU 29P Dec23\",\"x\":[20,21,22,23,24,25,26,27,28,29,30,31,32,33,34,35,36,37,38,39,40,41,42,43,44,45],\"y\":[-0.38891517616489624,-2.800329619122776,-14.219098997897978,-53.11231746205321,-151.2797410438252,-338.8278828457791,-612.7480786091888,-915.4500119252784,-1152.6239932729402,-1244.5148963864056,-1170.0535871315383,-970.8444376595615,-719.4506654802358,-481.22406186774964,-293.27362188911064,-164.21983764154066,-85.12791507786261,-41.12877668396713,-18.63323003959366,-7.9594403090127095,-3.2216973349881033,-1.2412200572346381,-0.45703490435516975,-0.1614363779440904,-0.054887957815532476,-0.018018587327221045],\"type\":\"bar\",\"xaxis\":\"x2\",\"yaxis\":\"y2\"},{\"base\":0,\"name\":\"ACCU 40C Jan24\",\"x\":[20,21,22,23,24,25,26,27,28,29,30,31,32,33,34,35,36,37,38,39,40,41,42,43,44,45],\"y\":[0.06074953472229033,0.23449826441046867,0.7761304815592707,2.2418325680214766,5.737173609931121,13.17805614890995,27.474731941453744,52.50244792286633,92.74537591138187,152.5896083132142,235.3694188515974,342.3856028938443,472.1631764357758,620.1734637518455,779.127027886056,939.793197726548,1092.171360627888,1226.7673134373151,1335.7278889410645,1413.6470244742159,1457.9493319092544,1468.8529671449548,1448.9888324193948,1402.7959598299562,1335.8226213508717,1254.046469802656],\"type\":\"bar\",\"xaxis\":\"x\",\"yaxis\":\"y\"},{\"base\":0,\"name\":\"ACCU 40C Jan24\",\"x\":[20,21,22,23,24,25,26,27,28,29,30,31,32,33,34,35,36,37,38,39,40,41,42,43,44,45],\"y\":[-0.1325183531485064,-0.5107293250255319,-1.6875161053308745,-4.865360028727144,-12.4261484314246,-28.479666031919127,-59.23368565531092,-112.89114837986702,-198.8360375514252,-326.06863866215224,-501.1317361514413,-726.0145600928576,-996.6175786688491,-1302.2579769178305,-1626.4281522631347,-1948.6872842268046,-2247.283995977344,-2501.9593223820266,-2696.389504704148,-2819.868820319071,-2868.0422844320087,-2842.7098523469663,-2750.886908980814,-2603.3954062020252,-2413.275909130508,-2194.270063499677],\"type\":\"bar\",\"xaxis\":\"x2\",\"yaxis\":\"y2\"},{\"base\":0,\"name\":\"ACCU 55C Jan24\",\"x\":[20,21,22,23,24,25,26,27,28,29,30,31,32,33,34,35,36,37,38,39,40,41,42,43,44,45],\"y\":[-1.1225158121540569e-06,-8.202675902929812e-06,-4.988430368804507e-05,-0.00025765275883189584,-0.001150047760344145,-0.004503083116610596,-0.015669421246420238,-0.049006776815822155,-0.13913006186935653,-0.36168665053541066,-0.8676323005805462,-1.93374386017135,-4.028711098008203,-7.888613713655291,-14.588897120183482,-25.59403653059186,-42.76328001372945,-68.29314041985863,-104.58537517286717,-154.04204982751156,-218.8043272679913,-300.4653514997574,-399.7965959259622,-516.528988165854,-649.2243675991917,-795.2605304040379],\"type\":\"bar\",\"xaxis\":\"x\",\"yaxis\":\"y\"},{\"base\":0,\"name\":\"ACCU 55C Jan24\",\"x\":[20,21,22,23,24,25,26,27,28,29,30,31,32,33,34,35,36,37,38,39,40,41,42,43,44,45],\"y\":[2.4654809845503368e-06,1.8002208609138473e-05,0.00010939062591160755,0.0005645215318894914,0.0025175217233128116,0.009848259524773771,0.03423524667343472,0.10696077807022915,0.3033277544033662,0.7876240570351971,1.8870680519062801,4.200329800060576,8.738709207260527,17.085954093208823,31.548243695102432,55.25329304992416,92.15198117304975,146.88154258389093,224.46758371353377,329.8706213404197,467.4156614990854,640.1728134806904,849.3756658950236,1093.9671964418478,1370.3491706696675,1672.3830643980461],\"type\":\"bar\",\"xaxis\":\"x2\",\"yaxis\":\"y2\"},{\"base\":0,\"name\":\"ACCU 31P Jan24\",\"x\":[20,21,22,23,24,25,26,27,28,29,30,31,32,33,34,35,36,37,38,39,40,41,42,43,44,45],\"y\":[382.6143624584209,345.81414969832537,278.72588452127076,171.0069492720394,16.938416258340045,-181.03631959282959,-410.8405231275841,-652.2144715458234,-880.6999971173109,-1072.7806273545016,-1210.5068759362393,-1284.349119616248,-1293.8094096924958,-1246.084664382197,-1153.537531496332,-1030.8320016540208,-892.4177180108521,-750.7495854461874,-615.3394050941253,-492.53004942325146,-385.78018494263875,-296.23141029957986,-223.36730436384542,-165.6336501536194,-120.94842449387895,-87.07696893323731],\"type\":\"bar\",\"xaxis\":\"x\",\"yaxis\":\"y\"},{\"base\":0,\"name\":\"ACCU 31P Jan24\",\"x\":[20,21,22,23,24,25,26,27,28,29,30,31,32,33,34,35,36,37,38,39,40,41,42,43,44,45],\"y\":[60.1853768757183,139.08670219482406,282.20037669698564,510.5700542069192,834.6832612654837,1247.0259440775176,1719.3120684942592,2206.1282043605115,2653.9948855073017,3012.7193772303526,3245.358787224501,3334.0991556522104,3281.133319641378,3105.2927161398484,2836.1748517059013,2507.6838066261316,2152.4792904507144,1798.1495110361302,1465.2758560762509,1167.1071142067253,910.3460798941516,696.5285398819974,523.5685772272618,387.18361933169354,282.04776487717135,202.6267334627278],\"type\":\"bar\",\"xaxis\":\"x2\",\"yaxis\":\"y2\"},{\"base\":0,\"name\":\"ACCU 25P Jan24\",\"x\":[20,21,22,23,24,25,26,27,28,29,30,31,32,33,34,35,36,37,38,39,40,41,42,43,44,45],\"y\":[111.59089828897501,339.0556530300136,579.4856307861644,795.5119544774685,954.0906639975354,1035.7654190453609,1038.0395042334394,972.8828353634938,860.7817310350367,724.26677412184,582.9991308524922,451.19786352138993,337.16434645134285,244.16641231464544,171.90581953970235,117.99893526931784,79.16433051911613,52.024239649426605,33.55553179239405,21.28004982919869,13.289885182540463,8.185241259853008,4.978113899321612,2.99315695933935,1.7810926529995161,1.0499169041898815],\"type\":\"bar\",\"xaxis\":\"x\",\"yaxis\":\"y\"},{\"base\":0,\"name\":\"ACCU 25P Jan24\",\"x\":[20,21,22,23,24,25,26,27,28,29,30,31,32,33,34,35,36,37,38,39,40,41,42,43,44,45],\"y\":[-934.328980002046,-1402.2984488078132,-1885.2999391517387,-2301.9322895622317,-2582.5156926095133,-2688.789641655008,-2620.283705432828,-2407.8217018234736,-2099.7497815597767,-1747.4458423077979,-1394.6219103910946,-1071.9938995254058,-796.6320253607739,-574.2623463021666,-402.758189134437,-275.5578203984821,-184.35086455985763,-120.85480244890827,-77.78518875599669,-49.23673576271407,-30.69820013110548,-18.878834598632984,-11.466370459865542,-6.885954483476906,-4.093012569418419,-2.410324096435812],\"type\":\"bar\",\"xaxis\":\"x2\",\"yaxis\":\"y2\"},{\"base\":0,\"name\":\"ACCU 36.5C Feb24\",\"x\":[20,21,22,23,24,25,26,27,28,29,30,31,32,33,34,35,36,37,38,39,40,41,42,43,44,45],\"y\":[14.125754927038532,28.843757453953845,53.923548667199846,93.25430501967358,150.50299611602466,228.39794667564394,328.058628566038,448.53425375471875,586.6632575692936,737.2865094526646,893.7663310879602,1048.7039527938527,1194.7216927456748,1325.1828011933108,1434.7528605635634,1519.749445193122,1578.2696540225359,1610.1197364555053,1616.5931876526997,1600.1530097456812,1564.0724974900468,1512.0803178146944,1448.0433527458567,1375.7077318148342,1298.5067676368087,1219.4352815625687],\"type\":\"bar\",\"xaxis\":\"x\",\"yaxis\":\"y\"},{\"base\":0,\"name\":\"ACCU 36.5C Feb24\",\"x\":[20,21,22,23,24,25,26,27,28,29,30,31,32,33,34,35,36,37,38,39,40,41,42,43,44,45],\"y\":[-49.7928179313577,-101.37185936571082,-188.9053075353843,-325.54438077182755,-523.3852173965648,-790.9414674860957,-1130.8343174501108,-1538.2729410836516,-2000.706552664936,-2498.7396164936417,-3008.1132725176726,-3502.3495121875685,-3955.570009750736,-4345.035670647757,-4653.072371212905,-4868.2071353984065,-4985.494615217331,-5006.136583617339,-4936.573284125698,-4787.254593866385,-4571.289784686208,-4303.140091288021,-3997.47137313397,-3668.2356308228505,-3328.007358215,-2987.567622283683],\"type\":\"bar\",\"xaxis\":\"x2\",\"yaxis\":\"y2\"},{\"base\":0,\"name\":\"ACCU 43.5C Feb24\",\"x\":[20,21,22,23,24,25,26,27,28,29,30,31,32,33,34,35,36,37,38,39,40,41,42,43,44,45],\"y\":[-0.7923830941454493,-2.0018183039122834,-4.583742152191552,-9.619993147570309,-18.682523077691307,-33.85085991278883,-57.6320822937744,-92.76961835359475,-141.9528478765241,-207.46514513793926,-290.82599618193285,-392.4881298906744,-511.64223031006145,-646.1626118789922,-792.7025517054242,-946.9236787877128,-1103.824770718106,-1258.1243495664908,-1404.649230708712,-1538.6864604168734,-1656.2665503522514,-1754.3588736143183,-1830.973057431464,-1885.171339078456,-1917.005054848429,-1927.3933409474507],\"type\":\"bar\",\"xaxis\":\"x\",\"yaxis\":\"y\"},{\"base\":0,\"name\":\"ACCU 43.5C Feb24\",\"x\":[20,21,22,23,24,25,26,27,28,29,30,31,32,33,34,35,36,37,38,39,40,41,42,43,44,45],\"y\":[2.815961712543199,7.100241819221333,16.22457198978759,33.976194361291725,65.82923404816222,118.97784967362678,202.0209254328558,324.2558008901122,494.630801613922,720.496827972525,1006.3597655269594,1352.8506602699888,1756.096835235186,2207.6055316904085,2694.6818433050325,3201.3159682833934,3709.4083061793117,4200.164392238417,4655.486762535137,5059.212719101041,5398.086847636728,5662.405097701203,5846.314359300785,5947.7912113160155,5968.352156196817,5912.564103762018],\"type\":\"bar\",\"xaxis\":\"x2\",\"yaxis\":\"y2\"},{\"base\":0,\"name\":\"ACCU 38C Jun24\",\"x\":[20,21,22,23,24,25,26,27,28,29,30,31,32,33,34,35,36,37,38,39,40,41,42,43,44,45],\"y\":[-0.0,-0.0,-0.0,-0.0,-0.0,-0.0,-0.0,-0.0,-0.0,-0.0,-0.0,-0.0,-0.0,-0.0,-0.0,-0.0,-0.0,-0.0,-0.0,-0.0,-0.0,-0.0,-0.0,-0.0,-0.0,-0.0],\"type\":\"bar\",\"xaxis\":\"x\",\"yaxis\":\"y\"},{\"base\":0,\"name\":\"ACCU 38C Jun24\",\"x\":[20,21,22,23,24,25,26,27,28,29,30,31,32,33,34,35,36,37,38,39,40,41,42,43,44,45],\"y\":[0.0,0.0,0.0,0.0,0.0,0.0,0.0,0.0,0.0,0.0,0.0,0.0,0.0,0.0,0.0,0.0,0.0,0.0,0.0,0.0,0.0,0.0,0.0,0.0,0.0,0.0],\"type\":\"bar\",\"xaxis\":\"x2\",\"yaxis\":\"y2\"},{\"base\":0,\"name\":\"ACCU 27P Jun24\",\"x\":[20,21,22,23,24,25,26,27,28,29,30,31,32,33,34,35,36,37,38,39,40,41,42,43,44,45],\"y\":[-0.0,-0.0,-0.0,-0.0,-0.0,-0.0,-0.0,-0.0,-0.0,-0.0,-0.0,-0.0,-0.0,-0.0,-0.0,-0.0,-0.0,-0.0,-0.0,-0.0,-0.0,-0.0,-0.0,-0.0,-0.0,-0.0],\"type\":\"bar\",\"xaxis\":\"x\",\"yaxis\":\"y\"},{\"base\":0,\"name\":\"ACCU 27P Jun24\",\"x\":[20,21,22,23,24,25,26,27,28,29,30,31,32,33,34,35,36,37,38,39,40,41,42,43,44,45],\"y\":[0.0,0.0,0.0,0.0,0.0,0.0,0.0,0.0,0.0,0.0,0.0,0.0,0.0,0.0,0.0,0.0,0.0,0.0,0.0,0.0,0.0,0.0,0.0,0.0,0.0,0.0],\"type\":\"bar\",\"xaxis\":\"x2\",\"yaxis\":\"y2\"},{\"base\":0,\"name\":\"ACCU 24P Jun24\",\"x\":[20,21,22,23,24,25,26,27,28,29,30,31,32,33,34,35,36,37,38,39,40,41,42,43,44,45],\"y\":[-0.0,-0.0,-0.0,-0.0,-0.0,-0.0,-0.0,-0.0,-0.0,-0.0,-0.0,-0.0,-0.0,-0.0,-0.0,-0.0,-0.0,-0.0,-0.0,-0.0,-0.0,-0.0,-0.0,-0.0,-0.0,-0.0],\"type\":\"bar\",\"xaxis\":\"x\",\"yaxis\":\"y\"},{\"base\":0,\"name\":\"ACCU 24P Jun24\",\"x\":[20,21,22,23,24,25,26,27,28,29,30,31,32,33,34,35,36,37,38,39,40,41,42,43,44,45],\"y\":[0.0,0.0,0.0,0.0,0.0,0.0,0.0,0.0,0.0,0.0,0.0,0.0,0.0,0.0,0.0,0.0,0.0,0.0,0.0,0.0,0.0,0.0,0.0,0.0,0.0,0.0],\"type\":\"bar\",\"xaxis\":\"x2\",\"yaxis\":\"y2\"},{\"mode\":\"lines\",\"name\":\"Total_Theta\",\"x\":[20,21,22,23,24,25,26,27,28,29,30,31,32,33,34,35,36,37,38,39,40,41,42,43,44,45],\"y\":[392.6930795416783,600.1182409020024,811.0247226982536,1004.2139093627678,1182.7200849348774,1364.4351432044523,1544.1013994056082,1663.934723503653,1636.4643347046945,1411.7487498870173,1029.0136889821822,604.6770295530177,268.50800017662255,99.5231136091262,101.16919723521005,217.63580682722954,368.4215573169531,478.61337475277924,495.5831435453583,393.8986807500128,173.63741932679272,-144.39418499647968,-525.343679357565,-928.3944742945519,-1315.1002697343579,-1656.1652221682994],\"type\":\"scatter\",\"xaxis\":\"x\",\"yaxis\":\"y\"},{\"mode\":\"lines\",\"name\":\"Total_Vega\",\"x\":[20,21,22,23,24,25,26,27,28,29,30,31,32,33,34,35,36,37,38,39,40,41,42,43,44,45],\"y\":[-921.6401673159309,-1360.7727343019617,-1791.4995286450926,-2139.7448079134374,-2363.704817769815,-2461.7853315661173,-2447.2563780532273,-2318.6548020993987,-2063.9233072646334,-1697.2486155870847,-1286.2583146608686,-935.2115569565906,-734.5959812873939,-716.460016276033,-843.7524348153211,-1032.1199213670366,-1184.0988907725332,-1217.1385647829693,-1078.2595324125732,-747.3602008053758,-233.97800102450674,429.0711523300679,1193.697694831254,2005.402021982322,2811.8610634703978,3569.7268549291916],\"type\":\"scatter\",\"xaxis\":\"x2\",\"yaxis\":\"y2\"}],                        {\"template\":{\"data\":{\"histogram2dcontour\":[{\"type\":\"histogram2dcontour\",\"colorbar\":{\"outlinewidth\":0,\"ticks\":\"\"},\"colorscale\":[[0.0,\"#0d0887\"],[0.1111111111111111,\"#46039f\"],[0.2222222222222222,\"#7201a8\"],[0.3333333333333333,\"#9c179e\"],[0.4444444444444444,\"#bd3786\"],[0.5555555555555556,\"#d8576b\"],[0.6666666666666666,\"#ed7953\"],[0.7777777777777778,\"#fb9f3a\"],[0.8888888888888888,\"#fdca26\"],[1.0,\"#f0f921\"]]}],\"choropleth\":[{\"type\":\"choropleth\",\"colorbar\":{\"outlinewidth\":0,\"ticks\":\"\"}}],\"histogram2d\":[{\"type\":\"histogram2d\",\"colorbar\":{\"outlinewidth\":0,\"ticks\":\"\"},\"colorscale\":[[0.0,\"#0d0887\"],[0.1111111111111111,\"#46039f\"],[0.2222222222222222,\"#7201a8\"],[0.3333333333333333,\"#9c179e\"],[0.4444444444444444,\"#bd3786\"],[0.5555555555555556,\"#d8576b\"],[0.6666666666666666,\"#ed7953\"],[0.7777777777777778,\"#fb9f3a\"],[0.8888888888888888,\"#fdca26\"],[1.0,\"#f0f921\"]]}],\"heatmap\":[{\"type\":\"heatmap\",\"colorbar\":{\"outlinewidth\":0,\"ticks\":\"\"},\"colorscale\":[[0.0,\"#0d0887\"],[0.1111111111111111,\"#46039f\"],[0.2222222222222222,\"#7201a8\"],[0.3333333333333333,\"#9c179e\"],[0.4444444444444444,\"#bd3786\"],[0.5555555555555556,\"#d8576b\"],[0.6666666666666666,\"#ed7953\"],[0.7777777777777778,\"#fb9f3a\"],[0.8888888888888888,\"#fdca26\"],[1.0,\"#f0f921\"]]}],\"heatmapgl\":[{\"type\":\"heatmapgl\",\"colorbar\":{\"outlinewidth\":0,\"ticks\":\"\"},\"colorscale\":[[0.0,\"#0d0887\"],[0.1111111111111111,\"#46039f\"],[0.2222222222222222,\"#7201a8\"],[0.3333333333333333,\"#9c179e\"],[0.4444444444444444,\"#bd3786\"],[0.5555555555555556,\"#d8576b\"],[0.6666666666666666,\"#ed7953\"],[0.7777777777777778,\"#fb9f3a\"],[0.8888888888888888,\"#fdca26\"],[1.0,\"#f0f921\"]]}],\"contourcarpet\":[{\"type\":\"contourcarpet\",\"colorbar\":{\"outlinewidth\":0,\"ticks\":\"\"}}],\"contour\":[{\"type\":\"contour\",\"colorbar\":{\"outlinewidth\":0,\"ticks\":\"\"},\"colorscale\":[[0.0,\"#0d0887\"],[0.1111111111111111,\"#46039f\"],[0.2222222222222222,\"#7201a8\"],[0.3333333333333333,\"#9c179e\"],[0.4444444444444444,\"#bd3786\"],[0.5555555555555556,\"#d8576b\"],[0.6666666666666666,\"#ed7953\"],[0.7777777777777778,\"#fb9f3a\"],[0.8888888888888888,\"#fdca26\"],[1.0,\"#f0f921\"]]}],\"surface\":[{\"type\":\"surface\",\"colorbar\":{\"outlinewidth\":0,\"ticks\":\"\"},\"colorscale\":[[0.0,\"#0d0887\"],[0.1111111111111111,\"#46039f\"],[0.2222222222222222,\"#7201a8\"],[0.3333333333333333,\"#9c179e\"],[0.4444444444444444,\"#bd3786\"],[0.5555555555555556,\"#d8576b\"],[0.6666666666666666,\"#ed7953\"],[0.7777777777777778,\"#fb9f3a\"],[0.8888888888888888,\"#fdca26\"],[1.0,\"#f0f921\"]]}],\"mesh3d\":[{\"type\":\"mesh3d\",\"colorbar\":{\"outlinewidth\":0,\"ticks\":\"\"}}],\"scatter\":[{\"fillpattern\":{\"fillmode\":\"overlay\",\"size\":10,\"solidity\":0.2},\"type\":\"scatter\"}],\"parcoords\":[{\"type\":\"parcoords\",\"line\":{\"colorbar\":{\"outlinewidth\":0,\"ticks\":\"\"}}}],\"scatterpolargl\":[{\"type\":\"scatterpolargl\",\"marker\":{\"colorbar\":{\"outlinewidth\":0,\"ticks\":\"\"}}}],\"bar\":[{\"error_x\":{\"color\":\"#2a3f5f\"},\"error_y\":{\"color\":\"#2a3f5f\"},\"marker\":{\"line\":{\"color\":\"#E5ECF6\",\"width\":0.5},\"pattern\":{\"fillmode\":\"overlay\",\"size\":10,\"solidity\":0.2}},\"type\":\"bar\"}],\"scattergeo\":[{\"type\":\"scattergeo\",\"marker\":{\"colorbar\":{\"outlinewidth\":0,\"ticks\":\"\"}}}],\"scatterpolar\":[{\"type\":\"scatterpolar\",\"marker\":{\"colorbar\":{\"outlinewidth\":0,\"ticks\":\"\"}}}],\"histogram\":[{\"marker\":{\"pattern\":{\"fillmode\":\"overlay\",\"size\":10,\"solidity\":0.2}},\"type\":\"histogram\"}],\"scattergl\":[{\"type\":\"scattergl\",\"marker\":{\"colorbar\":{\"outlinewidth\":0,\"ticks\":\"\"}}}],\"scatter3d\":[{\"type\":\"scatter3d\",\"line\":{\"colorbar\":{\"outlinewidth\":0,\"ticks\":\"\"}},\"marker\":{\"colorbar\":{\"outlinewidth\":0,\"ticks\":\"\"}}}],\"scattermapbox\":[{\"type\":\"scattermapbox\",\"marker\":{\"colorbar\":{\"outlinewidth\":0,\"ticks\":\"\"}}}],\"scatterternary\":[{\"type\":\"scatterternary\",\"marker\":{\"colorbar\":{\"outlinewidth\":0,\"ticks\":\"\"}}}],\"scattercarpet\":[{\"type\":\"scattercarpet\",\"marker\":{\"colorbar\":{\"outlinewidth\":0,\"ticks\":\"\"}}}],\"carpet\":[{\"aaxis\":{\"endlinecolor\":\"#2a3f5f\",\"gridcolor\":\"white\",\"linecolor\":\"white\",\"minorgridcolor\":\"white\",\"startlinecolor\":\"#2a3f5f\"},\"baxis\":{\"endlinecolor\":\"#2a3f5f\",\"gridcolor\":\"white\",\"linecolor\":\"white\",\"minorgridcolor\":\"white\",\"startlinecolor\":\"#2a3f5f\"},\"type\":\"carpet\"}],\"table\":[{\"cells\":{\"fill\":{\"color\":\"#EBF0F8\"},\"line\":{\"color\":\"white\"}},\"header\":{\"fill\":{\"color\":\"#C8D4E3\"},\"line\":{\"color\":\"white\"}},\"type\":\"table\"}],\"barpolar\":[{\"marker\":{\"line\":{\"color\":\"#E5ECF6\",\"width\":0.5},\"pattern\":{\"fillmode\":\"overlay\",\"size\":10,\"solidity\":0.2}},\"type\":\"barpolar\"}],\"pie\":[{\"automargin\":true,\"type\":\"pie\"}]},\"layout\":{\"autotypenumbers\":\"strict\",\"colorway\":[\"#636efa\",\"#EF553B\",\"#00cc96\",\"#ab63fa\",\"#FFA15A\",\"#19d3f3\",\"#FF6692\",\"#B6E880\",\"#FF97FF\",\"#FECB52\"],\"font\":{\"color\":\"#2a3f5f\"},\"hovermode\":\"closest\",\"hoverlabel\":{\"align\":\"left\"},\"paper_bgcolor\":\"white\",\"plot_bgcolor\":\"#E5ECF6\",\"polar\":{\"bgcolor\":\"#E5ECF6\",\"angularaxis\":{\"gridcolor\":\"white\",\"linecolor\":\"white\",\"ticks\":\"\"},\"radialaxis\":{\"gridcolor\":\"white\",\"linecolor\":\"white\",\"ticks\":\"\"}},\"ternary\":{\"bgcolor\":\"#E5ECF6\",\"aaxis\":{\"gridcolor\":\"white\",\"linecolor\":\"white\",\"ticks\":\"\"},\"baxis\":{\"gridcolor\":\"white\",\"linecolor\":\"white\",\"ticks\":\"\"},\"caxis\":{\"gridcolor\":\"white\",\"linecolor\":\"white\",\"ticks\":\"\"}},\"coloraxis\":{\"colorbar\":{\"outlinewidth\":0,\"ticks\":\"\"}},\"colorscale\":{\"sequential\":[[0.0,\"#0d0887\"],[0.1111111111111111,\"#46039f\"],[0.2222222222222222,\"#7201a8\"],[0.3333333333333333,\"#9c179e\"],[0.4444444444444444,\"#bd3786\"],[0.5555555555555556,\"#d8576b\"],[0.6666666666666666,\"#ed7953\"],[0.7777777777777778,\"#fb9f3a\"],[0.8888888888888888,\"#fdca26\"],[1.0,\"#f0f921\"]],\"sequentialminus\":[[0.0,\"#0d0887\"],[0.1111111111111111,\"#46039f\"],[0.2222222222222222,\"#7201a8\"],[0.3333333333333333,\"#9c179e\"],[0.4444444444444444,\"#bd3786\"],[0.5555555555555556,\"#d8576b\"],[0.6666666666666666,\"#ed7953\"],[0.7777777777777778,\"#fb9f3a\"],[0.8888888888888888,\"#fdca26\"],[1.0,\"#f0f921\"]],\"diverging\":[[0,\"#8e0152\"],[0.1,\"#c51b7d\"],[0.2,\"#de77ae\"],[0.3,\"#f1b6da\"],[0.4,\"#fde0ef\"],[0.5,\"#f7f7f7\"],[0.6,\"#e6f5d0\"],[0.7,\"#b8e186\"],[0.8,\"#7fbc41\"],[0.9,\"#4d9221\"],[1,\"#276419\"]]},\"xaxis\":{\"gridcolor\":\"white\",\"linecolor\":\"white\",\"ticks\":\"\",\"title\":{\"standoff\":15},\"zerolinecolor\":\"white\",\"automargin\":true,\"zerolinewidth\":2},\"yaxis\":{\"gridcolor\":\"white\",\"linecolor\":\"white\",\"ticks\":\"\",\"title\":{\"standoff\":15},\"zerolinecolor\":\"white\",\"automargin\":true,\"zerolinewidth\":2},\"scene\":{\"xaxis\":{\"backgroundcolor\":\"#E5ECF6\",\"gridcolor\":\"white\",\"linecolor\":\"white\",\"showbackground\":true,\"ticks\":\"\",\"zerolinecolor\":\"white\",\"gridwidth\":2},\"yaxis\":{\"backgroundcolor\":\"#E5ECF6\",\"gridcolor\":\"white\",\"linecolor\":\"white\",\"showbackground\":true,\"ticks\":\"\",\"zerolinecolor\":\"white\",\"gridwidth\":2},\"zaxis\":{\"backgroundcolor\":\"#E5ECF6\",\"gridcolor\":\"white\",\"linecolor\":\"white\",\"showbackground\":true,\"ticks\":\"\",\"zerolinecolor\":\"white\",\"gridwidth\":2}},\"shapedefaults\":{\"line\":{\"color\":\"#2a3f5f\"}},\"annotationdefaults\":{\"arrowcolor\":\"#2a3f5f\",\"arrowhead\":0,\"arrowwidth\":1},\"geo\":{\"bgcolor\":\"white\",\"landcolor\":\"#E5ECF6\",\"subunitcolor\":\"white\",\"showland\":true,\"showlakes\":true,\"lakecolor\":\"white\"},\"title\":{\"x\":0.05},\"mapbox\":{\"style\":\"light\"}}},\"xaxis\":{\"anchor\":\"y\",\"domain\":[0.0,0.45],\"title\":{\"text\":\"Price\"}},\"yaxis\":{\"anchor\":\"x\",\"domain\":[0.0,1.0],\"title\":{\"text\":\"Theta\"}},\"xaxis2\":{\"anchor\":\"y2\",\"domain\":[0.55,1.0],\"title\":{\"text\":\"Price\"}},\"yaxis2\":{\"anchor\":\"x2\",\"domain\":[0.0,1.0],\"title\":{\"text\":\"Vega\"}},\"title\":{\"text\":\"Todays Option Pos (Theta and Vega)\",\"x\":0.5,\"xanchor\":\"center\"},\"barmode\":\"stack\"},                        {\"responsive\": true}                    ).then(function(){\n",
       "                            \n",
       "var gd = document.getElementById('8b3dc939-230b-4bfe-8d09-4c0f14c91af7');\n",
       "var x = new MutationObserver(function (mutations, observer) {{\n",
       "        var display = window.getComputedStyle(gd).display;\n",
       "        if (!display || display === 'none') {{\n",
       "            console.log([gd, 'removed!']);\n",
       "            Plotly.purge(gd);\n",
       "            observer.disconnect();\n",
       "        }}\n",
       "}});\n",
       "\n",
       "// Listen for the removal of the full notebook cells\n",
       "var notebookContainer = gd.closest('#notebook-container');\n",
       "if (notebookContainer) {{\n",
       "    x.observe(notebookContainer, {childList: true});\n",
       "}}\n",
       "\n",
       "// Listen for the clearing of the current output cell\n",
       "var outputEl = gd.closest('.output');\n",
       "if (outputEl) {{\n",
       "    x.observe(outputEl, {childList: true});\n",
       "}}\n",
       "\n",
       "                        })                };                });            </script>        </div>"
      ]
     },
     "metadata": {},
     "output_type": "display_data"
    }
   ],
   "source": [
    "fig_t = go.Figure()\n",
    "for i in list(t)[1:-1]:\n",
    "    fig_t.add_trace(go.Bar(x=t.Price, y=t[i], name=i, base=0))\n",
    "\n",
    "fig_t.add_trace(go.Scatter(x=t.Price, y=t.Option_Theta, mode='lines', name='Total_Theta'))\n",
    "\n",
    "\n",
    "#~~~~~~~~~~~~~~~~~~~~~~~~~~~~~~~~~~~~~~~~~~~~~~~~~~~~~~~~~~~~~~~~~~~~~~~~~~~~~~~~~\n",
    "fig_v = go.Figure()\n",
    "for i in list(v)[1:-1]:\n",
    "    fig_v.add_trace(go.Bar(x=v.Price, y=v[i], name=i, base=0))\n",
    "\n",
    "fig_v.add_trace(go.Scatter(x=v.Price, y=v.Option_Vega, mode='lines', name='Total_Vega'))\n",
    "\n",
    "#~~~~~~~~~~~~~~~~~~~~~~~~~~~~~~~~~~~~~~~~~~~~~~~~~~~~~~~~~~~~~~~~~~~~~~~~~~~~~~~~\n",
    "fig = make_subplots(rows=1, cols=2)\n",
    "for i in range(0,len(fig_p.data)):\n",
    "    fig.add_trace(fig_t.data[i], row=1, col=1)\n",
    "    fig.add_trace(fig_v.data[i], row=1, col=2)\n",
    "    \n",
    "fig.update_layout(title={'text': 'Todays Option Pos (Theta and Vega)','x': 0.5,'xanchor': 'center'}, barmode='stack')\n",
    "\n",
    "fig.update_xaxes(title_text=\"Price\", row=1, col=1)\n",
    "fig.update_yaxes(title_text=\"Theta\", row=1, col=1)\n",
    "fig.update_xaxes(title_text=\"Price\", row=1, col=2)\n",
    "fig.update_yaxes(title_text=\"Vega\", row=1, col=2)    \n",
    "fig.show()  "
   ]
  },
  {
   "cell_type": "markdown",
   "id": "43d2b75e",
   "metadata": {},
   "source": [
    "# Historical Volatility"
   ]
  },
  {
   "cell_type": "code",
   "execution_count": 16,
   "id": "210a26ec",
   "metadata": {},
   "outputs": [
    {
     "data": {
      "application/vnd.plotly.v1+json": {
       "config": {
        "plotlyServerURL": "https://plot.ly"
       },
       "data": [
        {
         "name": "10-day_Vol",
         "type": "scatter",
         "x": [
          "2022-04-08T00:00:00",
          "2022-04-11T00:00:00",
          "2022-04-12T00:00:00",
          "2022-04-13T00:00:00",
          "2022-04-14T00:00:00",
          "2022-04-19T00:00:00",
          "2022-04-20T00:00:00",
          "2022-04-21T00:00:00",
          "2022-04-22T00:00:00",
          "2022-04-25T00:00:00",
          "2022-04-26T00:00:00",
          "2022-04-27T00:00:00",
          "2022-04-28T00:00:00",
          "2022-04-29T00:00:00",
          "2022-05-02T00:00:00",
          "2022-05-03T00:00:00",
          "2022-05-04T00:00:00",
          "2022-05-05T00:00:00",
          "2022-05-06T00:00:00",
          "2022-05-09T00:00:00",
          "2022-05-10T00:00:00",
          "2022-05-11T00:00:00",
          "2022-05-12T00:00:00",
          "2022-05-13T00:00:00",
          "2022-05-16T00:00:00",
          "2022-05-17T00:00:00",
          "2022-05-18T00:00:00",
          "2022-05-19T00:00:00",
          "2022-05-20T00:00:00",
          "2022-05-23T00:00:00",
          "2022-05-24T00:00:00",
          "2022-05-25T00:00:00",
          "2022-05-26T00:00:00",
          "2022-05-27T00:00:00",
          "2022-05-30T00:00:00",
          "2022-05-31T00:00:00",
          "2022-06-01T00:00:00",
          "2022-06-02T00:00:00",
          "2022-06-03T00:00:00",
          "2022-06-06T00:00:00",
          "2022-06-07T00:00:00",
          "2022-06-08T00:00:00",
          "2022-06-09T00:00:00",
          "2022-06-10T00:00:00",
          "2022-06-13T00:00:00",
          "2022-06-14T00:00:00",
          "2022-06-15T00:00:00",
          "2022-06-16T00:00:00",
          "2022-06-17T00:00:00",
          "2022-06-20T00:00:00",
          "2022-06-21T00:00:00",
          "2022-06-22T00:00:00",
          "2022-06-23T00:00:00",
          "2022-06-24T00:00:00",
          "2022-06-27T00:00:00",
          "2022-06-28T00:00:00",
          "2022-06-29T00:00:00",
          "2022-06-30T00:00:00",
          "2022-07-01T00:00:00",
          "2022-07-04T00:00:00",
          "2022-07-05T00:00:00",
          "2022-07-06T00:00:00",
          "2022-07-07T00:00:00",
          "2022-07-08T00:00:00",
          "2022-07-11T00:00:00",
          "2022-07-12T00:00:00",
          "2022-07-13T00:00:00",
          "2022-07-14T00:00:00",
          "2022-07-15T00:00:00",
          "2022-07-18T00:00:00",
          "2022-07-19T00:00:00",
          "2022-07-20T00:00:00",
          "2022-07-21T00:00:00",
          "2022-07-22T00:00:00",
          "2022-07-25T00:00:00",
          "2022-07-26T00:00:00",
          "2022-07-27T00:00:00",
          "2022-07-28T00:00:00",
          "2022-07-29T00:00:00",
          "2022-08-01T00:00:00",
          "2022-08-02T00:00:00",
          "2022-08-03T00:00:00",
          "2022-08-04T00:00:00",
          "2022-08-05T00:00:00",
          "2022-08-08T00:00:00",
          "2022-08-09T00:00:00",
          "2022-08-10T00:00:00",
          "2022-08-11T00:00:00",
          "2022-08-12T00:00:00",
          "2022-08-15T00:00:00",
          "2022-08-16T00:00:00",
          "2022-08-17T00:00:00",
          "2022-08-18T00:00:00",
          "2022-08-19T00:00:00",
          "2022-08-22T00:00:00",
          "2022-08-23T00:00:00",
          "2022-08-24T00:00:00",
          "2022-08-25T00:00:00",
          "2022-08-26T00:00:00",
          "2022-08-29T00:00:00",
          "2022-08-30T00:00:00",
          "2022-08-31T00:00:00",
          "2022-09-01T00:00:00",
          "2022-09-02T00:00:00",
          "2022-09-05T00:00:00",
          "2022-09-06T00:00:00",
          "2022-09-07T00:00:00",
          "2022-09-08T00:00:00",
          "2022-09-09T00:00:00",
          "2022-09-12T00:00:00",
          "2022-09-13T00:00:00",
          "2022-09-14T00:00:00",
          "2022-09-15T00:00:00",
          "2022-09-16T00:00:00",
          "2022-09-19T00:00:00",
          "2022-09-20T00:00:00",
          "2022-09-21T00:00:00",
          "2022-09-22T00:00:00",
          "2022-09-23T00:00:00",
          "2022-09-26T00:00:00",
          "2022-09-27T00:00:00",
          "2022-09-28T00:00:00",
          "2022-09-29T00:00:00",
          "2022-09-30T00:00:00",
          "2022-10-03T00:00:00",
          "2022-10-04T00:00:00",
          "2022-10-05T00:00:00",
          "2022-10-06T00:00:00",
          "2022-10-07T00:00:00",
          "2022-10-10T00:00:00",
          "2022-10-11T00:00:00",
          "2022-10-12T00:00:00",
          "2022-10-13T00:00:00",
          "2022-10-14T00:00:00",
          "2022-10-17T00:00:00",
          "2022-10-18T00:00:00",
          "2022-10-19T00:00:00",
          "2022-10-20T00:00:00",
          "2022-10-21T00:00:00",
          "2022-10-24T00:00:00",
          "2022-10-25T00:00:00",
          "2022-10-26T00:00:00",
          "2022-10-27T00:00:00",
          "2022-10-28T00:00:00",
          "2022-10-31T00:00:00",
          "2022-11-01T00:00:00",
          "2022-11-02T00:00:00",
          "2022-11-03T00:00:00",
          "2022-11-04T00:00:00",
          "2022-11-07T00:00:00",
          "2022-11-08T00:00:00",
          "2022-11-09T00:00:00",
          "2022-11-10T00:00:00",
          "2022-11-11T00:00:00",
          "2022-11-14T00:00:00",
          "2022-11-15T00:00:00",
          "2022-11-16T00:00:00",
          "2022-11-17T00:00:00",
          "2022-11-18T00:00:00",
          "2022-11-21T00:00:00",
          "2022-11-22T00:00:00",
          "2022-11-23T00:00:00",
          "2022-11-24T00:00:00",
          "2022-11-25T00:00:00",
          "2022-11-28T00:00:00",
          "2022-11-29T00:00:00",
          "2022-11-30T00:00:00",
          "2022-12-01T00:00:00",
          "2022-12-02T00:00:00",
          "2022-12-05T00:00:00",
          "2022-12-06T00:00:00",
          "2022-12-07T00:00:00",
          "2022-12-08T00:00:00",
          "2022-12-09T00:00:00",
          "2022-12-12T00:00:00",
          "2022-12-13T00:00:00",
          "2022-12-14T00:00:00",
          "2022-12-15T00:00:00",
          "2022-12-16T00:00:00",
          "2022-12-19T00:00:00",
          "2022-12-20T00:00:00",
          "2022-12-21T00:00:00",
          "2022-12-22T00:00:00",
          "2022-12-23T00:00:00",
          "2022-12-26T00:00:00",
          "2022-12-27T00:00:00",
          "2022-12-28T00:00:00",
          "2022-12-29T00:00:00",
          "2022-12-30T00:00:00",
          "2023-01-02T00:00:00",
          "2023-01-03T00:00:00",
          "2023-01-04T00:00:00",
          "2023-01-05T00:00:00",
          "2023-01-06T00:00:00",
          "2023-01-09T00:00:00",
          "2023-01-10T00:00:00",
          "2023-01-11T00:00:00",
          "2023-01-12T00:00:00",
          "2023-01-13T00:00:00",
          "2023-01-16T00:00:00",
          "2023-01-17T00:00:00",
          "2023-01-18T00:00:00",
          "2023-01-19T00:00:00",
          "2023-01-20T00:00:00",
          "2023-01-23T00:00:00",
          "2023-01-24T00:00:00",
          "2023-01-25T00:00:00",
          "2023-01-26T00:00:00",
          "2023-01-27T00:00:00",
          "2023-01-30T00:00:00",
          "2023-01-31T00:00:00",
          "2023-02-01T00:00:00",
          "2023-02-02T00:00:00",
          "2023-02-03T00:00:00",
          "2023-02-06T00:00:00",
          "2023-02-07T00:00:00",
          "2023-02-08T00:00:00",
          "2023-02-09T00:00:00",
          "2023-02-10T00:00:00",
          "2023-02-13T00:00:00",
          "2023-02-14T00:00:00",
          "2023-02-15T00:00:00",
          "2023-02-16T00:00:00",
          "2023-02-17T00:00:00",
          "2023-02-20T00:00:00",
          "2023-02-21T00:00:00",
          "2023-02-22T00:00:00",
          "2023-02-23T00:00:00",
          "2023-02-24T00:00:00",
          "2023-02-27T00:00:00",
          "2023-02-28T00:00:00",
          "2023-03-01T00:00:00",
          "2023-03-02T00:00:00",
          "2023-03-03T00:00:00",
          "2023-03-06T00:00:00",
          "2023-03-07T00:00:00",
          "2023-03-08T00:00:00",
          "2023-03-09T00:00:00",
          "2023-03-10T00:00:00",
          "2023-03-13T00:00:00",
          "2023-03-14T00:00:00",
          "2023-03-15T00:00:00",
          "2023-03-16T00:00:00",
          "2023-03-17T00:00:00",
          "2023-03-20T00:00:00",
          "2023-03-21T00:00:00",
          "2023-03-22T00:00:00",
          "2023-03-23T00:00:00",
          "2023-03-24T00:00:00",
          "2023-03-27T00:00:00",
          "2023-03-28T00:00:00",
          "2023-03-29T00:00:00",
          "2023-03-30T00:00:00",
          "2023-03-31T00:00:00",
          "2023-04-03T00:00:00",
          "2023-04-04T00:00:00",
          "2023-04-05T00:00:00",
          "2023-04-06T00:00:00",
          "2023-04-07T00:00:00",
          "2023-04-10T00:00:00",
          "2023-04-11T00:00:00",
          "2023-04-12T00:00:00",
          "2023-04-13T00:00:00",
          "2023-04-14T00:00:00",
          "2023-04-17T00:00:00",
          "2023-04-18T00:00:00",
          "2023-04-19T00:00:00",
          "2023-04-20T00:00:00",
          "2023-04-21T00:00:00",
          "2023-04-24T00:00:00",
          "2023-04-25T00:00:00",
          "2023-04-26T00:00:00",
          "2023-04-27T00:00:00",
          "2023-04-28T00:00:00",
          "2023-05-01T00:00:00",
          "2023-05-02T00:00:00",
          "2023-05-03T00:00:00",
          "2023-05-04T00:00:00",
          "2023-05-05T00:00:00",
          "2023-05-08T00:00:00",
          "2023-05-09T00:00:00",
          "2023-05-10T00:00:00",
          "2023-05-11T00:00:00",
          "2023-05-12T00:00:00",
          "2023-05-15T00:00:00",
          "2023-05-16T00:00:00",
          "2023-05-17T00:00:00",
          "2023-05-18T00:00:00",
          "2023-05-19T00:00:00",
          "2023-05-22T00:00:00",
          "2023-05-23T00:00:00",
          "2023-05-24T00:00:00",
          "2023-05-25T00:00:00",
          "2023-05-26T00:00:00",
          "2023-05-29T00:00:00",
          "2023-05-30T00:00:00",
          "2023-05-31T00:00:00",
          "2023-06-01T00:00:00",
          "2023-06-02T00:00:00",
          "2023-06-05T00:00:00",
          "2023-06-06T00:00:00",
          "2023-06-07T00:00:00",
          "2023-06-08T00:00:00",
          "2023-06-09T00:00:00",
          "2023-06-12T00:00:00",
          "2023-06-13T00:00:00",
          "2023-06-14T00:00:00",
          "2023-06-15T00:00:00",
          "2023-06-16T00:00:00",
          "2023-06-19T00:00:00",
          "2023-06-20T00:00:00",
          "2023-06-21T00:00:00",
          "2023-06-22T00:00:00",
          "2023-06-23T00:00:00",
          "2023-06-26T00:00:00",
          "2023-06-27T00:00:00",
          "2023-06-28T00:00:00",
          "2023-06-29T00:00:00",
          "2023-06-30T00:00:00",
          "2023-07-03T00:00:00",
          "2023-07-04T00:00:00",
          "2023-07-05T00:00:00",
          "2023-07-06T00:00:00",
          "2023-07-07T00:00:00",
          "2023-07-10T00:00:00",
          "2023-07-11T00:00:00",
          "2023-07-12T00:00:00",
          "2023-07-13T00:00:00",
          "2023-07-14T00:00:00",
          "2023-07-17T00:00:00",
          "2023-07-18T00:00:00",
          "2023-07-19T00:00:00",
          "2023-07-20T00:00:00",
          "2023-07-21T00:00:00",
          "2023-07-24T00:00:00",
          "2023-07-25T00:00:00",
          "2023-07-26T00:00:00",
          "2023-07-27T00:00:00",
          "2023-07-28T00:00:00",
          "2023-07-31T00:00:00",
          "2023-08-01T00:00:00",
          "2023-08-02T00:00:00",
          "2023-08-03T00:00:00",
          "2023-08-04T00:00:00",
          "2023-08-07T00:00:00",
          "2023-08-08T00:00:00",
          "2023-08-09T00:00:00",
          "2023-08-10T00:00:00",
          "2023-08-11T00:00:00",
          "2023-08-14T00:00:00",
          "2023-08-15T00:00:00",
          "2023-08-16T00:00:00",
          "2023-08-17T00:00:00",
          "2023-08-18T00:00:00",
          "2023-08-21T00:00:00"
         ],
         "y": [
          null,
          null,
          null,
          null,
          null,
          null,
          null,
          null,
          null,
          0,
          0,
          2.5099800796022245,
          4.286607049870557,
          10.25548633659077,
          13.022096605385789,
          14.54561789681003,
          15.204440140958841,
          15.194999177360977,
          14.389822792515584,
          12.63772131359136,
          9.424595482035368,
          6.6560498796209195,
          6.6560498796209195,
          9.379925372837524,
          10.91159933282013,
          11.727872782393248,
          11.975934201556047,
          11.732348443512887,
          11.497608446977052,
          32.73939522960059,
          42.83511410046656,
          48.31818498246789,
          51.54504825878023,
          51.83755395463775,
          50.15747202561127,
          46.290517387473365,
          39.60116159912446,
          28.691462144686284,
          3.834057902531061,
          3.834057902531061,
          3.3466401061305464,
          2.928310092862838,
          1.6733200530571397,
          1.9170289512585355,
          2.0493901531830523,
          2.091650066326574,
          2.049390153183202,
          1.917028951258843,
          1.6733200530576748,
          1.2549900397872902,
          0,
          0,
          0,
          0,
          0,
          0,
          0.2509980078919685,
          0.7668115804850301,
          0.9934787365445417,
          1.1224972160171847,
          1.4611639196088424,
          1.4611639196088424,
          3.6276714294389523,
          4.58639291818402,
          7.670397642884639,
          18.288247592374034,
          24.786044460542296,
          28.350802457778585,
          32.4162305026354,
          33.9440716473436,
          33.529091845738996,
          29.76911150840762,
          27.761484110184266,
          22.040871126160607,
          14.82565344259828,
          13.677536327863645,
          12.660963628414413,
          10.2554863365925,
          9.621590305143785,
          10.323516842628768,
          10.549881515924394,
          8.111719916272182,
          8.583414239103725,
          8.532291603083566,
          8.53229160308365,
          8.583414239104005,
          8.111719916272698,
          7.012488859175241,
          2.6786190472067695,
          2.091650066349441,
          8.324662155310692,
          9.363492938004692,
          9.757048734123623,
          10.118053172427146,
          10.449880382093506,
          10.876580344945836,
          12.09545369136936,
          12.732910115133125,
          13.187418246194294,
          14.067089251158402,
          9.853070587388101,
          4.386684397132912,
          4.157282766429113,
          4.119223227751465,
          3.6746428397935396,
          2.6244999523803956,
          4.257111696918864,
          4.864874099094637,
          4.967393682811971,
          5.373546315054835,
          5.751086853807509,
          6.725102229708845,
          8.054998448170634,
          8.838551917595332,
          8.826267614344399,
          7.923572426628115,
          7.802051012395327,
          9.66188387427702,
          10.170152407904702,
          9.545260604090664,
          8.19585260970461,
          7.343568614781183,
          6.960387920223857,
          6.467766229541481,
          5.83806474784207,
          5.83806474784207,
          5.974947698515565,
          6.204836822995322,
          5.9749476985159395,
          5.751086853804573,
          5.628054726102622,
          5.5497747702054445,
          5.549774770205641,
          5.01996015920577,
          3.741657386775978,
          3.646916505764317,
          4.658325879542805,
          4.949747468307883,
          4.658325879543245,
          4.601630145940017,
          4.183300132673434,
          4.09878030638709,
          3.8340579025397807,
          4.60163014594037,
          4.60163014594037,
          4.60163014594037,
          4.751315607284583,
          4.751315607284462,
          4.601630145940001,
          4.286607049873212,
          3.764970119406211,
          3.2403703492070015,
          8.664583082873316,
          11.570436465406601,
          13.20227253165176,
          15.250409830558686,
          16.20185174601951,
          16.25038461083276,
          15.40454478392611,
          13.497221936383053,
          9.934787365614564,
          3.834057902532274,
          3.3466401061316735,
          2.509980079595829,
          0,
          0,
          0,
          0,
          2.5099800795953975,
          3.346640106131019,
          3.8340579025314248,
          5.612486080157496,
          6.534523701078745,
          6.949820141554614,
          7.494998332218358,
          7.43639697702818,
          8.147883160671274,
          7.702726789906765,
          7.714078039529109,
          7.136665888210195,
          5.797154474390075,
          5.432494822817551,
          4.71879221834762,
          3.4455768747680686,
          2.586890024708319,
          0.33466401051565986,
          0.25099800782980414,
          0,
          0,
          0,
          0,
          0,
          0,
          0,
          0,
          3.7649701193944467,
          5.019960159197613,
          7.353570561293907,
          10.212737145345734,
          11.720708169727667,
          12.38143771942165,
          12.33186928246943,
          11.718020310611703,
          21.930070679318277,
          25.944556269088142,
          27.413865105086312,
          27.208822098721168,
          26.571036863469356,
          25.76858552578777,
          23.90857586724544,
          20.707969480367304,
          15.349918566553251,
          3.0119760954909407,
          2.258982071599948,
          7.52994023879443,
          10.039920318399941,
          14.70714112259169,
          23.250268815646855,
          27.635122579787012,
          29.76029233727161,
          28.199290771221108,
          25.868900247205815,
          22.151749366582617,
          16.64932431061098,
          15.25040983055551,
          14.056137449523812,
          13.849187701807878,
          12.15318888193147,
          9.53939201416416,
          4.658325879529615,
          4.658325879529615,
          4.949747468295021,
          5.928490533001739,
          6.2949980142880095,
          6.564449710363341,
          7.71180912626136,
          8.249060552565037,
          8.238446455484269,
          7.677694966581956,
          6.424328758701143,
          3.8531805044497127,
          3.5109827683812473,
          3.372684390788705,
          2.7748873850787485,
          2.7748873850787485,
          3.346640106116935,
          3.646916505744499,
          3.741657386756961,
          3.6469165057448407,
          5.29150262211718,
          11.387493139399405,
          14.635573101175902,
          16.607227342330756,
          17.7482393492947,
          17.792554622646144,
          17.39468309570023,
          15.92403843250299,
          13.022096605379078,
          7.4833147735356915,
          3.2672618505122544,
          4.67707173344756,
          6.088678017420185,
          7.62463113860718,
          8.238446455480553,
          8.464750439311345,
          8.333486665245461,
          8.005747935066788,
          7.455668984056912,
          7.714078039521861,
          5.684364520316939,
          6.033821343049523,
          6.3194145298311755,
          6.588398895015568,
          6.4841152056270195,
          5.956760864752328,
          5.301579953169219,
          4.699654242585065,
          3.2352356946364775,
          3.2352356946364775,
          3.2352356946364775,
          3.485218787945646,
          3.6710693264835887,
          4.18434582698987,
          4.199999999981889,
          4.243318276991319,
          3.8304046783400634,
          6.30610815002812,
          7.855698568545816,
          8.972569308723923,
          9.678171314864016,
          9.669126123898646,
          9.196031752873736,
          7.425092592006174,
          9.656448622545984,
          11.232764575111304,
          11.653325705560679,
          12.9951914183626,
          14.130640466726508,
          14.424805024675122,
          13.59411637436932,
          11.861703081762695,
          9.908329828982268,
          7.245688373087876,
          7.5878191860310285,
          7.948270252067431,
          7.981227975687665,
          7.815049583969315,
          7.815049583969315,
          7.815049583969315,
          9.757048734115207,
          12.044708381687768,
          13.464768843166233,
          13.754090300703302,
          19.625875776634828,
          22.171490703150816,
          22.547172771766856,
          20.87043363229204,
          19.781304304820445,
          17.353587525347884,
          15.477305967122053,
          14.262783739505918,
          20.571630951383494,
          22.104456564229856,
          30.53534018150002,
          43.134753969391525,
          42.02007853395732,
          40.49996296294534,
          37.338010123732445,
          32.83557521956863,
          27.75202695299847,
          22.92814863873567,
          22.77882788907183,
          22.620786900546957,
          22.120126581915272,
          6.758328195637645,
          6.547900426850681,
          6.758328195637639,
          6.758328195637639,
          8.250757540974652,
          8.61394218694018,
          12.303454799362035,
          14.149204924657136,
          14.855133792731008,
          15.367237878029236,
          13.4554078347679,
          10.92442218151289,
          8.805225721123158,
          11.903234854438738,
          13.721224435155994,
          13.874689185704968,
          15.11648107199278,
          15.492675688850971,
          15.309735464726746,
          14.124694686962615,
          12.17735603486686
         ]
        },
        {
         "name": "30-day_Vol",
         "type": "scatter",
         "x": [
          "2022-04-08T00:00:00",
          "2022-04-11T00:00:00",
          "2022-04-12T00:00:00",
          "2022-04-13T00:00:00",
          "2022-04-14T00:00:00",
          "2022-04-19T00:00:00",
          "2022-04-20T00:00:00",
          "2022-04-21T00:00:00",
          "2022-04-22T00:00:00",
          "2022-04-25T00:00:00",
          "2022-04-26T00:00:00",
          "2022-04-27T00:00:00",
          "2022-04-28T00:00:00",
          "2022-04-29T00:00:00",
          "2022-05-02T00:00:00",
          "2022-05-03T00:00:00",
          "2022-05-04T00:00:00",
          "2022-05-05T00:00:00",
          "2022-05-06T00:00:00",
          "2022-05-09T00:00:00",
          "2022-05-10T00:00:00",
          "2022-05-11T00:00:00",
          "2022-05-12T00:00:00",
          "2022-05-13T00:00:00",
          "2022-05-16T00:00:00",
          "2022-05-17T00:00:00",
          "2022-05-18T00:00:00",
          "2022-05-19T00:00:00",
          "2022-05-20T00:00:00",
          "2022-05-23T00:00:00",
          "2022-05-24T00:00:00",
          "2022-05-25T00:00:00",
          "2022-05-26T00:00:00",
          "2022-05-27T00:00:00",
          "2022-05-30T00:00:00",
          "2022-05-31T00:00:00",
          "2022-06-01T00:00:00",
          "2022-06-02T00:00:00",
          "2022-06-03T00:00:00",
          "2022-06-06T00:00:00",
          "2022-06-07T00:00:00",
          "2022-06-08T00:00:00",
          "2022-06-09T00:00:00",
          "2022-06-10T00:00:00",
          "2022-06-13T00:00:00",
          "2022-06-14T00:00:00",
          "2022-06-15T00:00:00",
          "2022-06-16T00:00:00",
          "2022-06-17T00:00:00",
          "2022-06-20T00:00:00",
          "2022-06-21T00:00:00",
          "2022-06-22T00:00:00",
          "2022-06-23T00:00:00",
          "2022-06-24T00:00:00",
          "2022-06-27T00:00:00",
          "2022-06-28T00:00:00",
          "2022-06-29T00:00:00",
          "2022-06-30T00:00:00",
          "2022-07-01T00:00:00",
          "2022-07-04T00:00:00",
          "2022-07-05T00:00:00",
          "2022-07-06T00:00:00",
          "2022-07-07T00:00:00",
          "2022-07-08T00:00:00",
          "2022-07-11T00:00:00",
          "2022-07-12T00:00:00",
          "2022-07-13T00:00:00",
          "2022-07-14T00:00:00",
          "2022-07-15T00:00:00",
          "2022-07-18T00:00:00",
          "2022-07-19T00:00:00",
          "2022-07-20T00:00:00",
          "2022-07-21T00:00:00",
          "2022-07-22T00:00:00",
          "2022-07-25T00:00:00",
          "2022-07-26T00:00:00",
          "2022-07-27T00:00:00",
          "2022-07-28T00:00:00",
          "2022-07-29T00:00:00",
          "2022-08-01T00:00:00",
          "2022-08-02T00:00:00",
          "2022-08-03T00:00:00",
          "2022-08-04T00:00:00",
          "2022-08-05T00:00:00",
          "2022-08-08T00:00:00",
          "2022-08-09T00:00:00",
          "2022-08-10T00:00:00",
          "2022-08-11T00:00:00",
          "2022-08-12T00:00:00",
          "2022-08-15T00:00:00",
          "2022-08-16T00:00:00",
          "2022-08-17T00:00:00",
          "2022-08-18T00:00:00",
          "2022-08-19T00:00:00",
          "2022-08-22T00:00:00",
          "2022-08-23T00:00:00",
          "2022-08-24T00:00:00",
          "2022-08-25T00:00:00",
          "2022-08-26T00:00:00",
          "2022-08-29T00:00:00",
          "2022-08-30T00:00:00",
          "2022-08-31T00:00:00",
          "2022-09-01T00:00:00",
          "2022-09-02T00:00:00",
          "2022-09-05T00:00:00",
          "2022-09-06T00:00:00",
          "2022-09-07T00:00:00",
          "2022-09-08T00:00:00",
          "2022-09-09T00:00:00",
          "2022-09-12T00:00:00",
          "2022-09-13T00:00:00",
          "2022-09-14T00:00:00",
          "2022-09-15T00:00:00",
          "2022-09-16T00:00:00",
          "2022-09-19T00:00:00",
          "2022-09-20T00:00:00",
          "2022-09-21T00:00:00",
          "2022-09-22T00:00:00",
          "2022-09-23T00:00:00",
          "2022-09-26T00:00:00",
          "2022-09-27T00:00:00",
          "2022-09-28T00:00:00",
          "2022-09-29T00:00:00",
          "2022-09-30T00:00:00",
          "2022-10-03T00:00:00",
          "2022-10-04T00:00:00",
          "2022-10-05T00:00:00",
          "2022-10-06T00:00:00",
          "2022-10-07T00:00:00",
          "2022-10-10T00:00:00",
          "2022-10-11T00:00:00",
          "2022-10-12T00:00:00",
          "2022-10-13T00:00:00",
          "2022-10-14T00:00:00",
          "2022-10-17T00:00:00",
          "2022-10-18T00:00:00",
          "2022-10-19T00:00:00",
          "2022-10-20T00:00:00",
          "2022-10-21T00:00:00",
          "2022-10-24T00:00:00",
          "2022-10-25T00:00:00",
          "2022-10-26T00:00:00",
          "2022-10-27T00:00:00",
          "2022-10-28T00:00:00",
          "2022-10-31T00:00:00",
          "2022-11-01T00:00:00",
          "2022-11-02T00:00:00",
          "2022-11-03T00:00:00",
          "2022-11-04T00:00:00",
          "2022-11-07T00:00:00",
          "2022-11-08T00:00:00",
          "2022-11-09T00:00:00",
          "2022-11-10T00:00:00",
          "2022-11-11T00:00:00",
          "2022-11-14T00:00:00",
          "2022-11-15T00:00:00",
          "2022-11-16T00:00:00",
          "2022-11-17T00:00:00",
          "2022-11-18T00:00:00",
          "2022-11-21T00:00:00",
          "2022-11-22T00:00:00",
          "2022-11-23T00:00:00",
          "2022-11-24T00:00:00",
          "2022-11-25T00:00:00",
          "2022-11-28T00:00:00",
          "2022-11-29T00:00:00",
          "2022-11-30T00:00:00",
          "2022-12-01T00:00:00",
          "2022-12-02T00:00:00",
          "2022-12-05T00:00:00",
          "2022-12-06T00:00:00",
          "2022-12-07T00:00:00",
          "2022-12-08T00:00:00",
          "2022-12-09T00:00:00",
          "2022-12-12T00:00:00",
          "2022-12-13T00:00:00",
          "2022-12-14T00:00:00",
          "2022-12-15T00:00:00",
          "2022-12-16T00:00:00",
          "2022-12-19T00:00:00",
          "2022-12-20T00:00:00",
          "2022-12-21T00:00:00",
          "2022-12-22T00:00:00",
          "2022-12-23T00:00:00",
          "2022-12-26T00:00:00",
          "2022-12-27T00:00:00",
          "2022-12-28T00:00:00",
          "2022-12-29T00:00:00",
          "2022-12-30T00:00:00",
          "2023-01-02T00:00:00",
          "2023-01-03T00:00:00",
          "2023-01-04T00:00:00",
          "2023-01-05T00:00:00",
          "2023-01-06T00:00:00",
          "2023-01-09T00:00:00",
          "2023-01-10T00:00:00",
          "2023-01-11T00:00:00",
          "2023-01-12T00:00:00",
          "2023-01-13T00:00:00",
          "2023-01-16T00:00:00",
          "2023-01-17T00:00:00",
          "2023-01-18T00:00:00",
          "2023-01-19T00:00:00",
          "2023-01-20T00:00:00",
          "2023-01-23T00:00:00",
          "2023-01-24T00:00:00",
          "2023-01-25T00:00:00",
          "2023-01-26T00:00:00",
          "2023-01-27T00:00:00",
          "2023-01-30T00:00:00",
          "2023-01-31T00:00:00",
          "2023-02-01T00:00:00",
          "2023-02-02T00:00:00",
          "2023-02-03T00:00:00",
          "2023-02-06T00:00:00",
          "2023-02-07T00:00:00",
          "2023-02-08T00:00:00",
          "2023-02-09T00:00:00",
          "2023-02-10T00:00:00",
          "2023-02-13T00:00:00",
          "2023-02-14T00:00:00",
          "2023-02-15T00:00:00",
          "2023-02-16T00:00:00",
          "2023-02-17T00:00:00",
          "2023-02-20T00:00:00",
          "2023-02-21T00:00:00",
          "2023-02-22T00:00:00",
          "2023-02-23T00:00:00",
          "2023-02-24T00:00:00",
          "2023-02-27T00:00:00",
          "2023-02-28T00:00:00",
          "2023-03-01T00:00:00",
          "2023-03-02T00:00:00",
          "2023-03-03T00:00:00",
          "2023-03-06T00:00:00",
          "2023-03-07T00:00:00",
          "2023-03-08T00:00:00",
          "2023-03-09T00:00:00",
          "2023-03-10T00:00:00",
          "2023-03-13T00:00:00",
          "2023-03-14T00:00:00",
          "2023-03-15T00:00:00",
          "2023-03-16T00:00:00",
          "2023-03-17T00:00:00",
          "2023-03-20T00:00:00",
          "2023-03-21T00:00:00",
          "2023-03-22T00:00:00",
          "2023-03-23T00:00:00",
          "2023-03-24T00:00:00",
          "2023-03-27T00:00:00",
          "2023-03-28T00:00:00",
          "2023-03-29T00:00:00",
          "2023-03-30T00:00:00",
          "2023-03-31T00:00:00",
          "2023-04-03T00:00:00",
          "2023-04-04T00:00:00",
          "2023-04-05T00:00:00",
          "2023-04-06T00:00:00",
          "2023-04-07T00:00:00",
          "2023-04-10T00:00:00",
          "2023-04-11T00:00:00",
          "2023-04-12T00:00:00",
          "2023-04-13T00:00:00",
          "2023-04-14T00:00:00",
          "2023-04-17T00:00:00",
          "2023-04-18T00:00:00",
          "2023-04-19T00:00:00",
          "2023-04-20T00:00:00",
          "2023-04-21T00:00:00",
          "2023-04-24T00:00:00",
          "2023-04-25T00:00:00",
          "2023-04-26T00:00:00",
          "2023-04-27T00:00:00",
          "2023-04-28T00:00:00",
          "2023-05-01T00:00:00",
          "2023-05-02T00:00:00",
          "2023-05-03T00:00:00",
          "2023-05-04T00:00:00",
          "2023-05-05T00:00:00",
          "2023-05-08T00:00:00",
          "2023-05-09T00:00:00",
          "2023-05-10T00:00:00",
          "2023-05-11T00:00:00",
          "2023-05-12T00:00:00",
          "2023-05-15T00:00:00",
          "2023-05-16T00:00:00",
          "2023-05-17T00:00:00",
          "2023-05-18T00:00:00",
          "2023-05-19T00:00:00",
          "2023-05-22T00:00:00",
          "2023-05-23T00:00:00",
          "2023-05-24T00:00:00",
          "2023-05-25T00:00:00",
          "2023-05-26T00:00:00",
          "2023-05-29T00:00:00",
          "2023-05-30T00:00:00",
          "2023-05-31T00:00:00",
          "2023-06-01T00:00:00",
          "2023-06-02T00:00:00",
          "2023-06-05T00:00:00",
          "2023-06-06T00:00:00",
          "2023-06-07T00:00:00",
          "2023-06-08T00:00:00",
          "2023-06-09T00:00:00",
          "2023-06-12T00:00:00",
          "2023-06-13T00:00:00",
          "2023-06-14T00:00:00",
          "2023-06-15T00:00:00",
          "2023-06-16T00:00:00",
          "2023-06-19T00:00:00",
          "2023-06-20T00:00:00",
          "2023-06-21T00:00:00",
          "2023-06-22T00:00:00",
          "2023-06-23T00:00:00",
          "2023-06-26T00:00:00",
          "2023-06-27T00:00:00",
          "2023-06-28T00:00:00",
          "2023-06-29T00:00:00",
          "2023-06-30T00:00:00",
          "2023-07-03T00:00:00",
          "2023-07-04T00:00:00",
          "2023-07-05T00:00:00",
          "2023-07-06T00:00:00",
          "2023-07-07T00:00:00",
          "2023-07-10T00:00:00",
          "2023-07-11T00:00:00",
          "2023-07-12T00:00:00",
          "2023-07-13T00:00:00",
          "2023-07-14T00:00:00",
          "2023-07-17T00:00:00",
          "2023-07-18T00:00:00",
          "2023-07-19T00:00:00",
          "2023-07-20T00:00:00",
          "2023-07-21T00:00:00",
          "2023-07-24T00:00:00",
          "2023-07-25T00:00:00",
          "2023-07-26T00:00:00",
          "2023-07-27T00:00:00",
          "2023-07-28T00:00:00",
          "2023-07-31T00:00:00",
          "2023-08-01T00:00:00",
          "2023-08-02T00:00:00",
          "2023-08-03T00:00:00",
          "2023-08-04T00:00:00",
          "2023-08-07T00:00:00",
          "2023-08-08T00:00:00",
          "2023-08-09T00:00:00",
          "2023-08-10T00:00:00",
          "2023-08-11T00:00:00",
          "2023-08-14T00:00:00",
          "2023-08-15T00:00:00",
          "2023-08-16T00:00:00",
          "2023-08-17T00:00:00",
          "2023-08-18T00:00:00",
          "2023-08-21T00:00:00"
         ],
         "y": [
          null,
          null,
          null,
          null,
          null,
          null,
          null,
          null,
          null,
          null,
          null,
          null,
          null,
          null,
          null,
          null,
          null,
          null,
          null,
          null,
          null,
          null,
          null,
          null,
          null,
          null,
          null,
          null,
          null,
          22.57725129111312,
          29.49290738816532,
          34.77176619238561,
          39.08279275659779,
          42.15571135682566,
          44.824314522519956,
          47.15729219215785,
          49.20240952888665,
          50.99431205604176,
          52.55890488545799,
          53.91598061351793,
          55.080879716511674,
          55.771263456965066,
          56.18573294179669,
          55.734473947520996,
          55.003423404429086,
          53.98121512347511,
          52.650893498656785,
          50.944536778600806,
          48.86413429796602,
          46.35935682812311,
          43.35671645857156,
          40.441390541937636,
          37.88530604064206,
          35.161774405031835,
          31.9100438193327,
          27.946340825182304,
          22.900375693349712,
          16.093979384036906,
          3.8698703533499987,
          3.942539878006078,
          3.6168427839969377,
          3.0373536576091924,
          3.211187340835691,
          3.8283876141464814,
          5.680775202079717,
          12.003253869192624,
          16.68332328590682,
          20.02142387027244,
          24.134440264828253,
          27.323265948070283,
          29.88522008134382,
          31.798755668563135,
          34.73075751033065,
          37.130322676607236,
          39.34601806957142,
          41.147072213271045,
          42.58612571540499,
          43.698956430370835,
          44.33133086826655,
          45.43668007845335,
          46.38306208386694,
          46.96486764703417,
          47.19558168975639,
          47.080365993362335,
          46.61665567377047,
          45.94364614056695,
          44.92007615063986,
          43.57681446159941,
          41.79238340110305,
          39.50704869452649,
          37.71791854424505,
          34.442718563854996,
          30.653865706605007,
          25.856183813147315,
          21.113486456404495,
          19.21556481174648,
          17.61308291171985,
          15.721433864586427,
          14.838607611969948,
          13.940970381302616,
          12.861341432689605,
          11.234129034880965,
          10.959398422953926,
          10.791773686947213,
          10.791773686947213,
          10.791773686947213,
          11.171591125520292,
          11.532635850277865,
          11.729838168031895,
          12.211510963019379,
          12.796287177036335,
          13.665866110556923,
          14.813502694127093,
          15.759342056980413,
          16.538043915520095,
          17.00702187637202,
          17.37734256101052,
          18.516687720482878,
          19.38083749658195,
          20.00548545464006,
          18.555753824621476,
          17.354303848582386,
          17.28877351506258,
          17.09533511688433,
          16.769562945386177,
          16.098365734145325,
          15.734509623862078,
          15.182690915915945,
          14.538297818116027,
          14.115625970947443,
          13.42624295921842,
          12.677948545025231,
          11.844474923223046,
          11.200948235719764,
          10.49054746935832,
          9.698588592657142,
          9.698588592657142,
          9.698588592657142,
          9.698588592657142,
          9.698588592657142,
          9.877806890473272,
          10.210987996371005,
          10.531366941434325,
          10.52311249353951,
          10.558252206456114,
          10.59317281765904,
          10.612330174099393,
          10.022775787311641,
          9.326685851119809,
          8.497920638154625,
          7.850104326121685,
          7.094193837699671,
          8.185405430943865,
          9.129527691070834,
          9.968441582623008,
          11.639854247219475,
          13.031824441567055,
          14.226614204514764,
          15.270576847039655,
          16.182285972949252,
          16.9771905803041,
          17.613082911720475,
          18.14617372036385,
          18.585311218901285,
          18.93703268457132,
          19.206141259215432,
          19.11780628736866,
          18.913596641860828,
          18.894922689660632,
          18.71344712895659,
          18.364344200951308,
          18.193500165604284,
          17.793572066803634,
          17.854512614172346,
          17.74058759669047,
          17.42345327820861,
          17.35430384858334,
          17.00778827681471,
          16.322990978455834,
          15.308371610961878,
          13.891849508204984,
          12.407028041702086,
          12.48687724966784,
          12.44898001638178,
          12.292247346501926,
          12.39593370479977,
          12.42758472386987,
          12.387752572323281,
          12.27574142714834,
          12.089545212632085,
          11.825660293586582,
          11.478729954978066,
          11.040928559151022,
          10.500896513451039,
          9.84181963831411,
          9.535380577545045,
          9.020247339678049,
          8.840231312311737,
          9.78722073191251,
          10.402686987107264,
          10.743756807785406,
          11.327752006344852,
          11.838145532775885,
          18.04635410690301,
          22.283468435529823,
          24.834723327603932,
          27.079467345650535,
          28.931551205775865,
          30.443548662605554,
          31.678288550950185,
          32.667224954178735,
          33.43217787164638,
          33.98827383996889,
          34.345659264961746,
          33.85913007824031,
          33.273684849266424,
          32.508343756536256,
          32.21184190046754,
          31.91031613541451,
          31.603622664455226,
          30.748860365762017,
          29.88570469016271,
          28.862324804205848,
          27.748504153533194,
          26.49359389062586,
          25.73378632499925,
          25.06197834610665,
          24.70732475505499,
          24.608577142239373,
          24.508693039058357,
          24.407658492847634,
          24.127163115460323,
          23.863844387808655,
          23.01844537726725,
          22.06212310413705,
          21.400339185195364,
          20.68594475350006,
          19.91327836325408,
          19.075260200693656,
          18.16284669318193,
          17.164177813109198,
          16.063173774947728,
          14.747853145926843,
          13.236262885438828,
          13.053366589136173,
          12.862242256391411,
          12.88586635520366,
          11.52280497460535,
          9.827093091078366,
          8.206212953275836,
          10.325656028254155,
          11.671570233870213,
          12.97867747366979,
          14.010194564108074,
          14.940665405484639,
          16.043777395098463,
          16.590416843301615,
          16.93995582781426,
          17.33044062953434,
          17.510844915514312,
          16.883435056598085,
          16.663779635009522,
          16.44231295081181,
          16.135029358938674,
          15.810538824817272,
          15.713486410482986,
          15.58682135651845,
          15.429814399849814,
          15.323973780120244,
          15.14238285808113,
          14.953745926736845,
          14.757792798243289,
          14.393001172745036,
          13.974647302933928,
          13.28963298317923,
          12.495319468533348,
          11.850166956485063,
          11.153207749498206,
          10.394025555163775,
          10.394025555163775,
          10.289695632374913,
          10.155815813001212,
          9.957075546981427,
          9.851058493801366,
          9.743293449414331,
          9.315858281299848,
          9.59349860672653,
          9.67804349350076,
          9.235839580603663,
          8.517975415111234,
          8.79610268322394,
          9.072328617932172,
          9.372430682409938,
          11.027516133245697,
          12.537553589118971,
          14.00970999478442,
          15.10818144422938,
          16.211061836354315,
          17.517072706560654,
          18.29119559260502,
          18.722582022420013,
          18.65884947667306,
          18.54713217909996,
          18.40847443528451,
          18.165163941856516,
          17.691763133126756,
          17.547198420654958,
          17.894437586908612,
          18.114540739608646,
          18.42528341615302,
          18.541250376317386,
          18.6389247876971,
          18.22811488919919,
          20.528517590971195,
          22.22341495841383,
          23.273875394143776,
          24.678292150153773,
          25.480621439941103,
          25.922138720833605,
          26.411962415177808,
          27.324736803478824,
          31.02878585643055,
          33.75648903135857,
          38.8837085821755,
          46.69143796576045,
          47.93404088810149,
          49.280534381900125,
          49.94272443647883,
          50.40661594507824,
          51.334412736824234,
          51.49609827871603,
          50.858980490685,
          49.86610900788597,
          48.489030398283724,
          47.1023247833923,
          45.176604030452715,
          42.605811891064064,
          40.57242821220677,
          38.107190470007566,
          35.82661118450523,
          33.587670151516875,
          31.37712817346413,
          28.892867512651875,
          28.203548932962324,
          27.477750246715935,
          26.71249804350666,
          25.904296009047382,
          26.144775307167567,
          26.290155493307353,
          26.73887522458773,
          27.764470597985753,
          28.911508268249047,
          29.878725564848185,
          29.485651098285977,
          25.021855963582333
         ]
        },
        {
         "name": "50-day_Vol",
         "type": "scatter",
         "x": [
          "2022-04-08T00:00:00",
          "2022-04-11T00:00:00",
          "2022-04-12T00:00:00",
          "2022-04-13T00:00:00",
          "2022-04-14T00:00:00",
          "2022-04-19T00:00:00",
          "2022-04-20T00:00:00",
          "2022-04-21T00:00:00",
          "2022-04-22T00:00:00",
          "2022-04-25T00:00:00",
          "2022-04-26T00:00:00",
          "2022-04-27T00:00:00",
          "2022-04-28T00:00:00",
          "2022-04-29T00:00:00",
          "2022-05-02T00:00:00",
          "2022-05-03T00:00:00",
          "2022-05-04T00:00:00",
          "2022-05-05T00:00:00",
          "2022-05-06T00:00:00",
          "2022-05-09T00:00:00",
          "2022-05-10T00:00:00",
          "2022-05-11T00:00:00",
          "2022-05-12T00:00:00",
          "2022-05-13T00:00:00",
          "2022-05-16T00:00:00",
          "2022-05-17T00:00:00",
          "2022-05-18T00:00:00",
          "2022-05-19T00:00:00",
          "2022-05-20T00:00:00",
          "2022-05-23T00:00:00",
          "2022-05-24T00:00:00",
          "2022-05-25T00:00:00",
          "2022-05-26T00:00:00",
          "2022-05-27T00:00:00",
          "2022-05-30T00:00:00",
          "2022-05-31T00:00:00",
          "2022-06-01T00:00:00",
          "2022-06-02T00:00:00",
          "2022-06-03T00:00:00",
          "2022-06-06T00:00:00",
          "2022-06-07T00:00:00",
          "2022-06-08T00:00:00",
          "2022-06-09T00:00:00",
          "2022-06-10T00:00:00",
          "2022-06-13T00:00:00",
          "2022-06-14T00:00:00",
          "2022-06-15T00:00:00",
          "2022-06-16T00:00:00",
          "2022-06-17T00:00:00",
          "2022-06-20T00:00:00",
          "2022-06-21T00:00:00",
          "2022-06-22T00:00:00",
          "2022-06-23T00:00:00",
          "2022-06-24T00:00:00",
          "2022-06-27T00:00:00",
          "2022-06-28T00:00:00",
          "2022-06-29T00:00:00",
          "2022-06-30T00:00:00",
          "2022-07-01T00:00:00",
          "2022-07-04T00:00:00",
          "2022-07-05T00:00:00",
          "2022-07-06T00:00:00",
          "2022-07-07T00:00:00",
          "2022-07-08T00:00:00",
          "2022-07-11T00:00:00",
          "2022-07-12T00:00:00",
          "2022-07-13T00:00:00",
          "2022-07-14T00:00:00",
          "2022-07-15T00:00:00",
          "2022-07-18T00:00:00",
          "2022-07-19T00:00:00",
          "2022-07-20T00:00:00",
          "2022-07-21T00:00:00",
          "2022-07-22T00:00:00",
          "2022-07-25T00:00:00",
          "2022-07-26T00:00:00",
          "2022-07-27T00:00:00",
          "2022-07-28T00:00:00",
          "2022-07-29T00:00:00",
          "2022-08-01T00:00:00",
          "2022-08-02T00:00:00",
          "2022-08-03T00:00:00",
          "2022-08-04T00:00:00",
          "2022-08-05T00:00:00",
          "2022-08-08T00:00:00",
          "2022-08-09T00:00:00",
          "2022-08-10T00:00:00",
          "2022-08-11T00:00:00",
          "2022-08-12T00:00:00",
          "2022-08-15T00:00:00",
          "2022-08-16T00:00:00",
          "2022-08-17T00:00:00",
          "2022-08-18T00:00:00",
          "2022-08-19T00:00:00",
          "2022-08-22T00:00:00",
          "2022-08-23T00:00:00",
          "2022-08-24T00:00:00",
          "2022-08-25T00:00:00",
          "2022-08-26T00:00:00",
          "2022-08-29T00:00:00",
          "2022-08-30T00:00:00",
          "2022-08-31T00:00:00",
          "2022-09-01T00:00:00",
          "2022-09-02T00:00:00",
          "2022-09-05T00:00:00",
          "2022-09-06T00:00:00",
          "2022-09-07T00:00:00",
          "2022-09-08T00:00:00",
          "2022-09-09T00:00:00",
          "2022-09-12T00:00:00",
          "2022-09-13T00:00:00",
          "2022-09-14T00:00:00",
          "2022-09-15T00:00:00",
          "2022-09-16T00:00:00",
          "2022-09-19T00:00:00",
          "2022-09-20T00:00:00",
          "2022-09-21T00:00:00",
          "2022-09-22T00:00:00",
          "2022-09-23T00:00:00",
          "2022-09-26T00:00:00",
          "2022-09-27T00:00:00",
          "2022-09-28T00:00:00",
          "2022-09-29T00:00:00",
          "2022-09-30T00:00:00",
          "2022-10-03T00:00:00",
          "2022-10-04T00:00:00",
          "2022-10-05T00:00:00",
          "2022-10-06T00:00:00",
          "2022-10-07T00:00:00",
          "2022-10-10T00:00:00",
          "2022-10-11T00:00:00",
          "2022-10-12T00:00:00",
          "2022-10-13T00:00:00",
          "2022-10-14T00:00:00",
          "2022-10-17T00:00:00",
          "2022-10-18T00:00:00",
          "2022-10-19T00:00:00",
          "2022-10-20T00:00:00",
          "2022-10-21T00:00:00",
          "2022-10-24T00:00:00",
          "2022-10-25T00:00:00",
          "2022-10-26T00:00:00",
          "2022-10-27T00:00:00",
          "2022-10-28T00:00:00",
          "2022-10-31T00:00:00",
          "2022-11-01T00:00:00",
          "2022-11-02T00:00:00",
          "2022-11-03T00:00:00",
          "2022-11-04T00:00:00",
          "2022-11-07T00:00:00",
          "2022-11-08T00:00:00",
          "2022-11-09T00:00:00",
          "2022-11-10T00:00:00",
          "2022-11-11T00:00:00",
          "2022-11-14T00:00:00",
          "2022-11-15T00:00:00",
          "2022-11-16T00:00:00",
          "2022-11-17T00:00:00",
          "2022-11-18T00:00:00",
          "2022-11-21T00:00:00",
          "2022-11-22T00:00:00",
          "2022-11-23T00:00:00",
          "2022-11-24T00:00:00",
          "2022-11-25T00:00:00",
          "2022-11-28T00:00:00",
          "2022-11-29T00:00:00",
          "2022-11-30T00:00:00",
          "2022-12-01T00:00:00",
          "2022-12-02T00:00:00",
          "2022-12-05T00:00:00",
          "2022-12-06T00:00:00",
          "2022-12-07T00:00:00",
          "2022-12-08T00:00:00",
          "2022-12-09T00:00:00",
          "2022-12-12T00:00:00",
          "2022-12-13T00:00:00",
          "2022-12-14T00:00:00",
          "2022-12-15T00:00:00",
          "2022-12-16T00:00:00",
          "2022-12-19T00:00:00",
          "2022-12-20T00:00:00",
          "2022-12-21T00:00:00",
          "2022-12-22T00:00:00",
          "2022-12-23T00:00:00",
          "2022-12-26T00:00:00",
          "2022-12-27T00:00:00",
          "2022-12-28T00:00:00",
          "2022-12-29T00:00:00",
          "2022-12-30T00:00:00",
          "2023-01-02T00:00:00",
          "2023-01-03T00:00:00",
          "2023-01-04T00:00:00",
          "2023-01-05T00:00:00",
          "2023-01-06T00:00:00",
          "2023-01-09T00:00:00",
          "2023-01-10T00:00:00",
          "2023-01-11T00:00:00",
          "2023-01-12T00:00:00",
          "2023-01-13T00:00:00",
          "2023-01-16T00:00:00",
          "2023-01-17T00:00:00",
          "2023-01-18T00:00:00",
          "2023-01-19T00:00:00",
          "2023-01-20T00:00:00",
          "2023-01-23T00:00:00",
          "2023-01-24T00:00:00",
          "2023-01-25T00:00:00",
          "2023-01-26T00:00:00",
          "2023-01-27T00:00:00",
          "2023-01-30T00:00:00",
          "2023-01-31T00:00:00",
          "2023-02-01T00:00:00",
          "2023-02-02T00:00:00",
          "2023-02-03T00:00:00",
          "2023-02-06T00:00:00",
          "2023-02-07T00:00:00",
          "2023-02-08T00:00:00",
          "2023-02-09T00:00:00",
          "2023-02-10T00:00:00",
          "2023-02-13T00:00:00",
          "2023-02-14T00:00:00",
          "2023-02-15T00:00:00",
          "2023-02-16T00:00:00",
          "2023-02-17T00:00:00",
          "2023-02-20T00:00:00",
          "2023-02-21T00:00:00",
          "2023-02-22T00:00:00",
          "2023-02-23T00:00:00",
          "2023-02-24T00:00:00",
          "2023-02-27T00:00:00",
          "2023-02-28T00:00:00",
          "2023-03-01T00:00:00",
          "2023-03-02T00:00:00",
          "2023-03-03T00:00:00",
          "2023-03-06T00:00:00",
          "2023-03-07T00:00:00",
          "2023-03-08T00:00:00",
          "2023-03-09T00:00:00",
          "2023-03-10T00:00:00",
          "2023-03-13T00:00:00",
          "2023-03-14T00:00:00",
          "2023-03-15T00:00:00",
          "2023-03-16T00:00:00",
          "2023-03-17T00:00:00",
          "2023-03-20T00:00:00",
          "2023-03-21T00:00:00",
          "2023-03-22T00:00:00",
          "2023-03-23T00:00:00",
          "2023-03-24T00:00:00",
          "2023-03-27T00:00:00",
          "2023-03-28T00:00:00",
          "2023-03-29T00:00:00",
          "2023-03-30T00:00:00",
          "2023-03-31T00:00:00",
          "2023-04-03T00:00:00",
          "2023-04-04T00:00:00",
          "2023-04-05T00:00:00",
          "2023-04-06T00:00:00",
          "2023-04-07T00:00:00",
          "2023-04-10T00:00:00",
          "2023-04-11T00:00:00",
          "2023-04-12T00:00:00",
          "2023-04-13T00:00:00",
          "2023-04-14T00:00:00",
          "2023-04-17T00:00:00",
          "2023-04-18T00:00:00",
          "2023-04-19T00:00:00",
          "2023-04-20T00:00:00",
          "2023-04-21T00:00:00",
          "2023-04-24T00:00:00",
          "2023-04-25T00:00:00",
          "2023-04-26T00:00:00",
          "2023-04-27T00:00:00",
          "2023-04-28T00:00:00",
          "2023-05-01T00:00:00",
          "2023-05-02T00:00:00",
          "2023-05-03T00:00:00",
          "2023-05-04T00:00:00",
          "2023-05-05T00:00:00",
          "2023-05-08T00:00:00",
          "2023-05-09T00:00:00",
          "2023-05-10T00:00:00",
          "2023-05-11T00:00:00",
          "2023-05-12T00:00:00",
          "2023-05-15T00:00:00",
          "2023-05-16T00:00:00",
          "2023-05-17T00:00:00",
          "2023-05-18T00:00:00",
          "2023-05-19T00:00:00",
          "2023-05-22T00:00:00",
          "2023-05-23T00:00:00",
          "2023-05-24T00:00:00",
          "2023-05-25T00:00:00",
          "2023-05-26T00:00:00",
          "2023-05-29T00:00:00",
          "2023-05-30T00:00:00",
          "2023-05-31T00:00:00",
          "2023-06-01T00:00:00",
          "2023-06-02T00:00:00",
          "2023-06-05T00:00:00",
          "2023-06-06T00:00:00",
          "2023-06-07T00:00:00",
          "2023-06-08T00:00:00",
          "2023-06-09T00:00:00",
          "2023-06-12T00:00:00",
          "2023-06-13T00:00:00",
          "2023-06-14T00:00:00",
          "2023-06-15T00:00:00",
          "2023-06-16T00:00:00",
          "2023-06-19T00:00:00",
          "2023-06-20T00:00:00",
          "2023-06-21T00:00:00",
          "2023-06-22T00:00:00",
          "2023-06-23T00:00:00",
          "2023-06-26T00:00:00",
          "2023-06-27T00:00:00",
          "2023-06-28T00:00:00",
          "2023-06-29T00:00:00",
          "2023-06-30T00:00:00",
          "2023-07-03T00:00:00",
          "2023-07-04T00:00:00",
          "2023-07-05T00:00:00",
          "2023-07-06T00:00:00",
          "2023-07-07T00:00:00",
          "2023-07-10T00:00:00",
          "2023-07-11T00:00:00",
          "2023-07-12T00:00:00",
          "2023-07-13T00:00:00",
          "2023-07-14T00:00:00",
          "2023-07-17T00:00:00",
          "2023-07-18T00:00:00",
          "2023-07-19T00:00:00",
          "2023-07-20T00:00:00",
          "2023-07-21T00:00:00",
          "2023-07-24T00:00:00",
          "2023-07-25T00:00:00",
          "2023-07-26T00:00:00",
          "2023-07-27T00:00:00",
          "2023-07-28T00:00:00",
          "2023-07-31T00:00:00",
          "2023-08-01T00:00:00",
          "2023-08-02T00:00:00",
          "2023-08-03T00:00:00",
          "2023-08-04T00:00:00",
          "2023-08-07T00:00:00",
          "2023-08-08T00:00:00",
          "2023-08-09T00:00:00",
          "2023-08-10T00:00:00",
          "2023-08-11T00:00:00",
          "2023-08-14T00:00:00",
          "2023-08-15T00:00:00",
          "2023-08-16T00:00:00",
          "2023-08-17T00:00:00",
          "2023-08-18T00:00:00",
          "2023-08-21T00:00:00"
         ],
         "y": [
          null,
          null,
          null,
          null,
          null,
          null,
          null,
          null,
          null,
          null,
          null,
          null,
          null,
          null,
          null,
          null,
          null,
          null,
          null,
          null,
          null,
          null,
          null,
          null,
          null,
          null,
          null,
          null,
          null,
          null,
          null,
          null,
          null,
          null,
          null,
          null,
          null,
          null,
          null,
          null,
          null,
          null,
          null,
          null,
          null,
          null,
          null,
          null,
          null,
          50.41566338238256,
          50.79952868172805,
          51.12509280466599,
          51.393463731156615,
          51.60553375642684,
          51.76199488317379,
          51.86335039587888,
          51.896856221878046,
          51.852362117292735,
          51.75616485018956,
          51.607975297290174,
          51.38677122706636,
          50.996561228604975,
          50.31135316350432,
          48.945336564667436,
          47.394943672445535,
          45.95141658006078,
          44.56808723739442,
          43.085112112123895,
          41.92063930810215,
          40.712265964939846,
          39.45595881124022,
          38.43581254135633,
          38.59202878463744,
          38.89382029503988,
          39.35319518703114,
          39.80581579905844,
          40.251909981302205,
          40.7445000670555,
          41.27372045260761,
          42.99923587360927,
          44.55241696185359,
          45.90098038168687,
          47.062519208874896,
          48.20260810963899,
          49.190918151335964,
          50.16405229700996,
          50.98972585587366,
          51.67500777524313,
          52.225424842695254,
          52.64520735207403,
          53.66545177566036,
          54.33420390772031,
          54.26038412796487,
          54.08659723073747,
          53.81187468526697,
          53.43465969895267,
          52.82537945235922,
          52.15338066018096,
          51.37738273932297,
          50.41451066621902,
          49.38947140549607,
          48.24566331362289,
          46.97441127130542,
          45.52816898831541,
          43.935652948374795,
          42.18029871871508,
          40.241955717882774,
          38.18698506784043,
          35.91707950265502,
          33.38843084491629,
          30.648969220607718,
          27.292138585524494,
          24.40501646324944,
          21.040913206690366,
          18.10327515751281,
          17.327620395526846,
          16.921466501798186,
          17.103713882413903,
          17.80226390097757,
          18.465718043368685,
          18.9397812628806,
          19.309169546396273,
          19.795480003563362,
          20.254580434348092,
          20.686200369191372,
          20.89915992843571,
          21.099005392943894,
          21.28610613254009,
          21.4699896866045,
          21.4479409601159,
          21.332444103492154,
          21.147942149128895,
          20.942179583661552,
          20.714522855786512,
          20.464241286415085,
          20.082683372214365,
          19.648439414584942,
          19.18796944516576,
          18.699336122670626,
          18.180268739174736,
          16.37766859389549,
          14.862432025557839,
          14.439668575541127,
          13.990324207416078,
          13.476875432703679,
          12.918714000573416,
          12.61737577424923,
          12.211395146690286,
          11.774335286062259,
          11.530709307882857,
          11.133898046700654,
          10.708673387227963,
          10.856056900579027,
          11.075950781505096,
          11.222463442325079,
          11.668595214752752,
          12.254455749413015,
          12.752707275601457,
          13.17329441386325,
          13.523465320906059,
          13.901329843889238,
          14.327531937797428,
          14.759756095546894,
          15.160082924764883,
          15.530979179876187,
          15.8700445584046,
          16.18749517374547,
          16.431676725155985,
          16.918396580562113,
          17.382256963435157,
          17.857291427954294,
          18.591011653101262,
          19.28302362182945,
          19.924930542987834,
          20.663010429267857,
          21.29547235581251,
          22.193448840335815,
          23.0001888191014,
          23.69634329837236,
          24.263734843825244,
          24.759808446063243,
          25.11289025864779,
          25.39635744410212,
          25.61252149131136,
          25.763076568720265,
          25.849169094134755,
          25.645129863471425,
          25.357446919706682,
          24.98323094740662,
          24.518520113813057,
          23.95804905007377,
          23.294906862108544,
          22.52002537425676,
          22.109938941571617,
          21.470810085190312,
          21.02298334136837,
          20.452250312793584,
          20.00578773398249,
          19.71619276490462,
          19.246390385138756,
          18.582717777548503,
          17.944636285770383,
          18.28452976074154,
          21.82204913777441,
          24.630508955938808,
          26.698897248495538,
          28.465923989419963,
          29.98491477869695,
          31.292011303663013,
          32.4128585595285,
          33.366231432392816,
          34.16615242353999,
          34.82319793306911,
          35.34533673020277,
          35.11395693208844,
          34.80724431986604,
          34.20692035246651,
          33.54269092195349,
          33.074024766963284,
          32.58895693767599,
          32.03573406592771,
          31.631037650654555,
          31.234929623282493,
          30.803695974903174,
          30.462721480524014,
          30.12367080647909,
          29.867402680131388,
          29.595704321500616,
          29.29178334326107,
          28.970477583715212,
          28.631201761115225,
          28.322038364899328,
          28.002167773227324,
          27.62819677689492,
          27.220532691333734,
          26.84927453129991,
          26.431739037970885,
          25.965693850594885,
          25.44847399298023,
          24.87688772449447,
          24.247090547114297,
          23.55441359915288,
          22.769731788368578,
          21.914824727957523,
          20.97807631109774,
          20.43514409750193,
          19.856678617388113,
          19.496775557584108,
          19.313111016685237,
          19.193978966628553,
          19.49595122802844,
          19.738352080583905,
          19.9591268059775,
          19.86014242503824,
          19.760454014447383,
          19.995502351420452,
          20.22654832498129,
          20.45372756806244,
          20.81070397655845,
          21.158925168487638,
          21.074323578365682,
          20.944978941433394,
          20.76283011262338,
          20.629538461701056,
          20.83342095219539,
          21.027685831505952,
          21.081271308911695,
          20.244999382562142,
          19.14030899884766,
          17.92502241480794,
          17.596915314093152,
          17.11690893323055,
          16.84661899101737,
          16.56459757606799,
          16.36687071931562,
          16.259693592261165,
          15.79595540455814,
          15.30306901992221,
          14.778118235125852,
          14.199816145688589,
          13.575079320996887,
          13.335717078579917,
          13.158316490230437,
          12.891996686757077,
          12.622238028854838,
          12.528688507350314,
          12.723691344436874,
          12.913759273401189,
          13.099107112425033,
          13.279932497674242,
          13.456417746612807,
          13.628731468060382,
          13.725087821730458,
          14.613869390799877,
          15.561060604688462,
          16.648021117922347,
          17.65039963124886,
          18.778392788367697,
          19.821619690196687,
          20.718198522070836,
          21.15117777875532,
          21.17122794873001,
          21.14753025093551,
          21.17122794873015,
          21.143578052380242,
          20.94900696589455,
          20.69180738497972,
          20.828367503409986,
          20.716647032897985,
          20.788204931780072,
          21.426873146988058,
          22.177211759564152,
          22.881796414242483,
          24.99656276370791,
          26.719000863483863,
          28.17106684424388,
          29.392858826592647,
          30.2398862667931,
          31.22175580767841,
          32.21646927981343,
          33.55704365064739,
          36.750677836314864,
          39.46578310022908,
          43.31383810549029,
          49.041461248912995,
          50.18839251118943,
          51.64266259595917,
          52.48564456796138,
          53.1757305007257,
          54.27560383292549,
          54.8056191071171,
          55.15355732601849,
          55.23190071999142,
          55.122849812293914,
          55.22044885211203,
          54.991705608341015,
          54.85462058933748,
          54.51534096013868,
          53.920133795935726,
          53.21678682521323,
          52.21344900639155,
          51.111900766848805,
          49.905639246197765,
          49.19954268080355,
          48.531634454831185,
          47.904612363680656,
          47.223207369745005,
          46.609072078300656,
          45.972754664353104,
          45.20697828559786,
          44.307265125003795,
          42.94054228149441,
          41.49402056751532,
          40.08707272925082,
          38.547243370036455
         ]
        },
        {
         "name": "100-day_Vol",
         "type": "scatter",
         "x": [
          "2022-04-08T00:00:00",
          "2022-04-11T00:00:00",
          "2022-04-12T00:00:00",
          "2022-04-13T00:00:00",
          "2022-04-14T00:00:00",
          "2022-04-19T00:00:00",
          "2022-04-20T00:00:00",
          "2022-04-21T00:00:00",
          "2022-04-22T00:00:00",
          "2022-04-25T00:00:00",
          "2022-04-26T00:00:00",
          "2022-04-27T00:00:00",
          "2022-04-28T00:00:00",
          "2022-04-29T00:00:00",
          "2022-05-02T00:00:00",
          "2022-05-03T00:00:00",
          "2022-05-04T00:00:00",
          "2022-05-05T00:00:00",
          "2022-05-06T00:00:00",
          "2022-05-09T00:00:00",
          "2022-05-10T00:00:00",
          "2022-05-11T00:00:00",
          "2022-05-12T00:00:00",
          "2022-05-13T00:00:00",
          "2022-05-16T00:00:00",
          "2022-05-17T00:00:00",
          "2022-05-18T00:00:00",
          "2022-05-19T00:00:00",
          "2022-05-20T00:00:00",
          "2022-05-23T00:00:00",
          "2022-05-24T00:00:00",
          "2022-05-25T00:00:00",
          "2022-05-26T00:00:00",
          "2022-05-27T00:00:00",
          "2022-05-30T00:00:00",
          "2022-05-31T00:00:00",
          "2022-06-01T00:00:00",
          "2022-06-02T00:00:00",
          "2022-06-03T00:00:00",
          "2022-06-06T00:00:00",
          "2022-06-07T00:00:00",
          "2022-06-08T00:00:00",
          "2022-06-09T00:00:00",
          "2022-06-10T00:00:00",
          "2022-06-13T00:00:00",
          "2022-06-14T00:00:00",
          "2022-06-15T00:00:00",
          "2022-06-16T00:00:00",
          "2022-06-17T00:00:00",
          "2022-06-20T00:00:00",
          "2022-06-21T00:00:00",
          "2022-06-22T00:00:00",
          "2022-06-23T00:00:00",
          "2022-06-24T00:00:00",
          "2022-06-27T00:00:00",
          "2022-06-28T00:00:00",
          "2022-06-29T00:00:00",
          "2022-06-30T00:00:00",
          "2022-07-01T00:00:00",
          "2022-07-04T00:00:00",
          "2022-07-05T00:00:00",
          "2022-07-06T00:00:00",
          "2022-07-07T00:00:00",
          "2022-07-08T00:00:00",
          "2022-07-11T00:00:00",
          "2022-07-12T00:00:00",
          "2022-07-13T00:00:00",
          "2022-07-14T00:00:00",
          "2022-07-15T00:00:00",
          "2022-07-18T00:00:00",
          "2022-07-19T00:00:00",
          "2022-07-20T00:00:00",
          "2022-07-21T00:00:00",
          "2022-07-22T00:00:00",
          "2022-07-25T00:00:00",
          "2022-07-26T00:00:00",
          "2022-07-27T00:00:00",
          "2022-07-28T00:00:00",
          "2022-07-29T00:00:00",
          "2022-08-01T00:00:00",
          "2022-08-02T00:00:00",
          "2022-08-03T00:00:00",
          "2022-08-04T00:00:00",
          "2022-08-05T00:00:00",
          "2022-08-08T00:00:00",
          "2022-08-09T00:00:00",
          "2022-08-10T00:00:00",
          "2022-08-11T00:00:00",
          "2022-08-12T00:00:00",
          "2022-08-15T00:00:00",
          "2022-08-16T00:00:00",
          "2022-08-17T00:00:00",
          "2022-08-18T00:00:00",
          "2022-08-19T00:00:00",
          "2022-08-22T00:00:00",
          "2022-08-23T00:00:00",
          "2022-08-24T00:00:00",
          "2022-08-25T00:00:00",
          "2022-08-26T00:00:00",
          "2022-08-29T00:00:00",
          "2022-08-30T00:00:00",
          "2022-08-31T00:00:00",
          "2022-09-01T00:00:00",
          "2022-09-02T00:00:00",
          "2022-09-05T00:00:00",
          "2022-09-06T00:00:00",
          "2022-09-07T00:00:00",
          "2022-09-08T00:00:00",
          "2022-09-09T00:00:00",
          "2022-09-12T00:00:00",
          "2022-09-13T00:00:00",
          "2022-09-14T00:00:00",
          "2022-09-15T00:00:00",
          "2022-09-16T00:00:00",
          "2022-09-19T00:00:00",
          "2022-09-20T00:00:00",
          "2022-09-21T00:00:00",
          "2022-09-22T00:00:00",
          "2022-09-23T00:00:00",
          "2022-09-26T00:00:00",
          "2022-09-27T00:00:00",
          "2022-09-28T00:00:00",
          "2022-09-29T00:00:00",
          "2022-09-30T00:00:00",
          "2022-10-03T00:00:00",
          "2022-10-04T00:00:00",
          "2022-10-05T00:00:00",
          "2022-10-06T00:00:00",
          "2022-10-07T00:00:00",
          "2022-10-10T00:00:00",
          "2022-10-11T00:00:00",
          "2022-10-12T00:00:00",
          "2022-10-13T00:00:00",
          "2022-10-14T00:00:00",
          "2022-10-17T00:00:00",
          "2022-10-18T00:00:00",
          "2022-10-19T00:00:00",
          "2022-10-20T00:00:00",
          "2022-10-21T00:00:00",
          "2022-10-24T00:00:00",
          "2022-10-25T00:00:00",
          "2022-10-26T00:00:00",
          "2022-10-27T00:00:00",
          "2022-10-28T00:00:00",
          "2022-10-31T00:00:00",
          "2022-11-01T00:00:00",
          "2022-11-02T00:00:00",
          "2022-11-03T00:00:00",
          "2022-11-04T00:00:00",
          "2022-11-07T00:00:00",
          "2022-11-08T00:00:00",
          "2022-11-09T00:00:00",
          "2022-11-10T00:00:00",
          "2022-11-11T00:00:00",
          "2022-11-14T00:00:00",
          "2022-11-15T00:00:00",
          "2022-11-16T00:00:00",
          "2022-11-17T00:00:00",
          "2022-11-18T00:00:00",
          "2022-11-21T00:00:00",
          "2022-11-22T00:00:00",
          "2022-11-23T00:00:00",
          "2022-11-24T00:00:00",
          "2022-11-25T00:00:00",
          "2022-11-28T00:00:00",
          "2022-11-29T00:00:00",
          "2022-11-30T00:00:00",
          "2022-12-01T00:00:00",
          "2022-12-02T00:00:00",
          "2022-12-05T00:00:00",
          "2022-12-06T00:00:00",
          "2022-12-07T00:00:00",
          "2022-12-08T00:00:00",
          "2022-12-09T00:00:00",
          "2022-12-12T00:00:00",
          "2022-12-13T00:00:00",
          "2022-12-14T00:00:00",
          "2022-12-15T00:00:00",
          "2022-12-16T00:00:00",
          "2022-12-19T00:00:00",
          "2022-12-20T00:00:00",
          "2022-12-21T00:00:00",
          "2022-12-22T00:00:00",
          "2022-12-23T00:00:00",
          "2022-12-26T00:00:00",
          "2022-12-27T00:00:00",
          "2022-12-28T00:00:00",
          "2022-12-29T00:00:00",
          "2022-12-30T00:00:00",
          "2023-01-02T00:00:00",
          "2023-01-03T00:00:00",
          "2023-01-04T00:00:00",
          "2023-01-05T00:00:00",
          "2023-01-06T00:00:00",
          "2023-01-09T00:00:00",
          "2023-01-10T00:00:00",
          "2023-01-11T00:00:00",
          "2023-01-12T00:00:00",
          "2023-01-13T00:00:00",
          "2023-01-16T00:00:00",
          "2023-01-17T00:00:00",
          "2023-01-18T00:00:00",
          "2023-01-19T00:00:00",
          "2023-01-20T00:00:00",
          "2023-01-23T00:00:00",
          "2023-01-24T00:00:00",
          "2023-01-25T00:00:00",
          "2023-01-26T00:00:00",
          "2023-01-27T00:00:00",
          "2023-01-30T00:00:00",
          "2023-01-31T00:00:00",
          "2023-02-01T00:00:00",
          "2023-02-02T00:00:00",
          "2023-02-03T00:00:00",
          "2023-02-06T00:00:00",
          "2023-02-07T00:00:00",
          "2023-02-08T00:00:00",
          "2023-02-09T00:00:00",
          "2023-02-10T00:00:00",
          "2023-02-13T00:00:00",
          "2023-02-14T00:00:00",
          "2023-02-15T00:00:00",
          "2023-02-16T00:00:00",
          "2023-02-17T00:00:00",
          "2023-02-20T00:00:00",
          "2023-02-21T00:00:00",
          "2023-02-22T00:00:00",
          "2023-02-23T00:00:00",
          "2023-02-24T00:00:00",
          "2023-02-27T00:00:00",
          "2023-02-28T00:00:00",
          "2023-03-01T00:00:00",
          "2023-03-02T00:00:00",
          "2023-03-03T00:00:00",
          "2023-03-06T00:00:00",
          "2023-03-07T00:00:00",
          "2023-03-08T00:00:00",
          "2023-03-09T00:00:00",
          "2023-03-10T00:00:00",
          "2023-03-13T00:00:00",
          "2023-03-14T00:00:00",
          "2023-03-15T00:00:00",
          "2023-03-16T00:00:00",
          "2023-03-17T00:00:00",
          "2023-03-20T00:00:00",
          "2023-03-21T00:00:00",
          "2023-03-22T00:00:00",
          "2023-03-23T00:00:00",
          "2023-03-24T00:00:00",
          "2023-03-27T00:00:00",
          "2023-03-28T00:00:00",
          "2023-03-29T00:00:00",
          "2023-03-30T00:00:00",
          "2023-03-31T00:00:00",
          "2023-04-03T00:00:00",
          "2023-04-04T00:00:00",
          "2023-04-05T00:00:00",
          "2023-04-06T00:00:00",
          "2023-04-07T00:00:00",
          "2023-04-10T00:00:00",
          "2023-04-11T00:00:00",
          "2023-04-12T00:00:00",
          "2023-04-13T00:00:00",
          "2023-04-14T00:00:00",
          "2023-04-17T00:00:00",
          "2023-04-18T00:00:00",
          "2023-04-19T00:00:00",
          "2023-04-20T00:00:00",
          "2023-04-21T00:00:00",
          "2023-04-24T00:00:00",
          "2023-04-25T00:00:00",
          "2023-04-26T00:00:00",
          "2023-04-27T00:00:00",
          "2023-04-28T00:00:00",
          "2023-05-01T00:00:00",
          "2023-05-02T00:00:00",
          "2023-05-03T00:00:00",
          "2023-05-04T00:00:00",
          "2023-05-05T00:00:00",
          "2023-05-08T00:00:00",
          "2023-05-09T00:00:00",
          "2023-05-10T00:00:00",
          "2023-05-11T00:00:00",
          "2023-05-12T00:00:00",
          "2023-05-15T00:00:00",
          "2023-05-16T00:00:00",
          "2023-05-17T00:00:00",
          "2023-05-18T00:00:00",
          "2023-05-19T00:00:00",
          "2023-05-22T00:00:00",
          "2023-05-23T00:00:00",
          "2023-05-24T00:00:00",
          "2023-05-25T00:00:00",
          "2023-05-26T00:00:00",
          "2023-05-29T00:00:00",
          "2023-05-30T00:00:00",
          "2023-05-31T00:00:00",
          "2023-06-01T00:00:00",
          "2023-06-02T00:00:00",
          "2023-06-05T00:00:00",
          "2023-06-06T00:00:00",
          "2023-06-07T00:00:00",
          "2023-06-08T00:00:00",
          "2023-06-09T00:00:00",
          "2023-06-12T00:00:00",
          "2023-06-13T00:00:00",
          "2023-06-14T00:00:00",
          "2023-06-15T00:00:00",
          "2023-06-16T00:00:00",
          "2023-06-19T00:00:00",
          "2023-06-20T00:00:00",
          "2023-06-21T00:00:00",
          "2023-06-22T00:00:00",
          "2023-06-23T00:00:00",
          "2023-06-26T00:00:00",
          "2023-06-27T00:00:00",
          "2023-06-28T00:00:00",
          "2023-06-29T00:00:00",
          "2023-06-30T00:00:00",
          "2023-07-03T00:00:00",
          "2023-07-04T00:00:00",
          "2023-07-05T00:00:00",
          "2023-07-06T00:00:00",
          "2023-07-07T00:00:00",
          "2023-07-10T00:00:00",
          "2023-07-11T00:00:00",
          "2023-07-12T00:00:00",
          "2023-07-13T00:00:00",
          "2023-07-14T00:00:00",
          "2023-07-17T00:00:00",
          "2023-07-18T00:00:00",
          "2023-07-19T00:00:00",
          "2023-07-20T00:00:00",
          "2023-07-21T00:00:00",
          "2023-07-24T00:00:00",
          "2023-07-25T00:00:00",
          "2023-07-26T00:00:00",
          "2023-07-27T00:00:00",
          "2023-07-28T00:00:00",
          "2023-07-31T00:00:00",
          "2023-08-01T00:00:00",
          "2023-08-02T00:00:00",
          "2023-08-03T00:00:00",
          "2023-08-04T00:00:00",
          "2023-08-07T00:00:00",
          "2023-08-08T00:00:00",
          "2023-08-09T00:00:00",
          "2023-08-10T00:00:00",
          "2023-08-11T00:00:00",
          "2023-08-14T00:00:00",
          "2023-08-15T00:00:00",
          "2023-08-16T00:00:00",
          "2023-08-17T00:00:00",
          "2023-08-18T00:00:00",
          "2023-08-21T00:00:00"
         ],
         "y": [
          null,
          null,
          null,
          null,
          null,
          null,
          null,
          null,
          null,
          null,
          null,
          null,
          null,
          null,
          null,
          null,
          null,
          null,
          null,
          null,
          null,
          null,
          null,
          null,
          null,
          null,
          null,
          null,
          null,
          null,
          null,
          null,
          null,
          null,
          null,
          null,
          null,
          null,
          null,
          null,
          null,
          null,
          null,
          null,
          null,
          null,
          null,
          null,
          null,
          null,
          null,
          null,
          null,
          null,
          null,
          null,
          null,
          null,
          null,
          null,
          null,
          null,
          null,
          null,
          null,
          null,
          null,
          null,
          null,
          null,
          null,
          null,
          null,
          null,
          null,
          null,
          null,
          null,
          null,
          null,
          null,
          null,
          null,
          null,
          null,
          null,
          null,
          null,
          null,
          null,
          null,
          null,
          null,
          null,
          null,
          null,
          null,
          null,
          null,
          51.360491713873856,
          51.50180508751828,
          51.6416227475473,
          51.7799568102632,
          51.886445681454624,
          51.991951475029424,
          52.096480163774416,
          52.14957962002619,
          52.20235078301286,
          52.25479464734657,
          52.30691219749413,
          52.338436857889334,
          52.31225521285181,
          52.24693188034191,
          52.031397164684016,
          51.81236707407005,
          51.5918983245167,
          51.365808666855386,
          51.10907453671995,
          50.84559272936048,
          50.57525778481011,
          50.299923368819236,
          50.1045227499474,
          50.00448089012529,
          49.92804977710877,
          49.85070365145763,
          49.79427102863063,
          49.73748650300254,
          49.68965257201211,
          49.67374722764893,
          49.274893847032885,
          48.73980527435265,
          48.197149387602835,
          47.62744128794196,
          47.156232886014074,
          46.66223585026171,
          46.14471830310293,
          45.64180978006892,
          45.111261746526566,
          44.552086779000945,
          43.963192559230656,
          43.343367742628416,
          42.76265448006954,
          42.15221206316668,
          41.47199854885651,
          40.771689487147285,
          40.03991338197869,
          39.27491137655636,
          38.47470160555318,
          37.63703845464406,
          36.759361578193335,
          35.83873133407984,
          34.868885322538716,
          33.93640215033236,
          32.96670606977441,
          31.956409657247324,
          30.97822813173487,
          29.9819630626632,
          28.989229975034622,
          27.95252338584756,
          26.866753364774596,
          25.778269213357877,
          24.491945429244318,
          23.548266294029716,
          22.558105376600423,
          21.91033546069048,
          22.032820147143088,
          22.246325130640624,
          22.456666959036497,
          22.89988249275111,
          23.32786238891927,
          23.7414306071205,
          24.28890749442465,
          24.794847888587107,
          25.274560152633356,
          25.78470529737965,
          26.26533370329502,
          26.90324279203649,
          27.50277952895257,
          28.076980542138553,
          28.474134514742097,
          28.78540618248941,
          29.06183329636045,
          29.304401934304387,
          29.513946934226766,
          29.69116749595268,
          29.775305814779234,
          29.82588823641131,
          29.84308538764943,
          29.82695501479383,
          29.777442957562666,
          29.166487150962524,
          28.6958932760261,
          28.66897547080195,
          28.61263420874816,
          28.52669515320037,
          28.611249694672516,
          28.78872206579874,
          29.049341723100085,
          29.43908549098364,
          29.87749046294928,
          30.21138376656881,
          30.500761242362863,
          30.77946009332119,
          32.57127847994564,
          34.19217188453822,
          35.44611954656078,
          36.69565592323362,
          37.8465193547929,
          38.90746691598115,
          39.88567446180036,
          40.83388666291742,
          41.77855180483253,
          42.71652064908402,
          43.595088651652475,
          43.981450325418514,
          44.33155371228757,
          44.450036506785096,
          44.43611880605052,
          44.4170393184661,
          44.39279138861071,
          44.51389537906296,
          44.58434672311857,
          44.68920675062358,
          44.778155896089835,
          44.89337640960551,
          44.958976452276374,
          44.88152808936368,
          44.786756565265364,
          44.67455163329946,
          44.49736631634375,
          44.30047937356036,
          44.1412728942794,
          43.98062848366487,
          43.76670590134145,
          43.52509464247417,
          43.3407953948069,
          42.99405085696018,
          42.60862055329313,
          42.18344408112526,
          41.717306197351746,
          41.208816907417464,
          40.65638717571671,
          40.01864338257584,
          39.567976606433064,
          38.97239115998958,
          38.33732159753322,
          37.660770522701675,
          36.940458849342384,
          36.17377251796909,
          35.511243417977724,
          35.08124660892655,
          34.681367803580486,
          34.7046401141764,
          34.689348640337215,
          34.63544230461507,
          34.73946210396302,
          34.80735619742615,
          34.8393357884701,
          34.90085958826739,
          34.92398563633921,
          34.68457870581615,
          34.387620922756895,
          34.02739538024607,
          33.66935644820552,
          33.30485045209359,
          32.90610775027459,
          32.471867124411084,
          32.000683515426665,
          31.52111514524755,
          31.03957547155727,
          30.529609621420278,
          30.14030177203017,
          29.728565540416902,
          29.306143204888098,
          28.937010274669323,
          28.568662623421204,
          28.26658857282586,
          27.950413763402675,
          27.606683849781263,
          27.264677323331927,
          26.927709494799583,
          26.57114792914833,
          26.215606255884932,
          25.79625259077818,
          25.349562171222697,
          24.88727006651381,
          24.390371283840565,
          23.87507510697285,
          23.340163053492038,
          22.78425358363962,
          22.205769776425115,
          21.602898216757747,
          20.973535976644364,
          20.502151383783985,
          20.078913237975335,
          20.000907536226613,
          19.92251655562244,
          20.070988391206832,
          20.332473634333535,
          20.513958274571692,
          20.62596405460306,
          20.58167394243448,
          20.55594566719533,
          20.478688090525967,
          20.386281762275043,
          20.377945576260867,
          20.35835616912745,
          20.563748608124456,
          20.747489059466588,
          21.06540534318496,
          21.440315306788364,
          21.872415847362582,
          22.267584113969008,
          23.532175893288844,
          24.87006840104555,
          26.11009962203676,
          27.27213583828327,
          28.059430961960853,
          28.779179855961395,
          29.617666909832277,
          30.914424589942282,
          33.4366471853856,
          35.75874734052621,
          38.907528045820605,
          43.36286442756739,
          44.93174432099453,
          46.632697390447426,
          47.95092484177722,
          49.20852949438694,
          50.87764120908072,
          52.27279244067035,
          53.577410542639086,
          54.80867741931467,
          55.829179666843345,
          57.038252973532366,
          58.07304125370472,
          58.90986205829392,
          59.6373947094205,
          60.20480675841526,
          60.74175613724305,
          61.04465826157656,
          61.32715646803204,
          61.613745754571916,
          61.89917984843601,
          62.18822698067484,
          62.459506100133865,
          62.7132477848756,
          62.71384139305022,
          62.70621538354235,
          62.57395982137619,
          62.213813085490045,
          61.841382823683546,
          61.447824819109144,
          61.04908332645073,
          60.654376537738315
         ]
        }
       ],
       "layout": {
        "template": {
         "data": {
          "bar": [
           {
            "error_x": {
             "color": "#2a3f5f"
            },
            "error_y": {
             "color": "#2a3f5f"
            },
            "marker": {
             "line": {
              "color": "#E5ECF6",
              "width": 0.5
             },
             "pattern": {
              "fillmode": "overlay",
              "size": 10,
              "solidity": 0.2
             }
            },
            "type": "bar"
           }
          ],
          "barpolar": [
           {
            "marker": {
             "line": {
              "color": "#E5ECF6",
              "width": 0.5
             },
             "pattern": {
              "fillmode": "overlay",
              "size": 10,
              "solidity": 0.2
             }
            },
            "type": "barpolar"
           }
          ],
          "carpet": [
           {
            "aaxis": {
             "endlinecolor": "#2a3f5f",
             "gridcolor": "white",
             "linecolor": "white",
             "minorgridcolor": "white",
             "startlinecolor": "#2a3f5f"
            },
            "baxis": {
             "endlinecolor": "#2a3f5f",
             "gridcolor": "white",
             "linecolor": "white",
             "minorgridcolor": "white",
             "startlinecolor": "#2a3f5f"
            },
            "type": "carpet"
           }
          ],
          "choropleth": [
           {
            "colorbar": {
             "outlinewidth": 0,
             "ticks": ""
            },
            "type": "choropleth"
           }
          ],
          "contour": [
           {
            "colorbar": {
             "outlinewidth": 0,
             "ticks": ""
            },
            "colorscale": [
             [
              0,
              "#0d0887"
             ],
             [
              0.1111111111111111,
              "#46039f"
             ],
             [
              0.2222222222222222,
              "#7201a8"
             ],
             [
              0.3333333333333333,
              "#9c179e"
             ],
             [
              0.4444444444444444,
              "#bd3786"
             ],
             [
              0.5555555555555556,
              "#d8576b"
             ],
             [
              0.6666666666666666,
              "#ed7953"
             ],
             [
              0.7777777777777778,
              "#fb9f3a"
             ],
             [
              0.8888888888888888,
              "#fdca26"
             ],
             [
              1,
              "#f0f921"
             ]
            ],
            "type": "contour"
           }
          ],
          "contourcarpet": [
           {
            "colorbar": {
             "outlinewidth": 0,
             "ticks": ""
            },
            "type": "contourcarpet"
           }
          ],
          "heatmap": [
           {
            "colorbar": {
             "outlinewidth": 0,
             "ticks": ""
            },
            "colorscale": [
             [
              0,
              "#0d0887"
             ],
             [
              0.1111111111111111,
              "#46039f"
             ],
             [
              0.2222222222222222,
              "#7201a8"
             ],
             [
              0.3333333333333333,
              "#9c179e"
             ],
             [
              0.4444444444444444,
              "#bd3786"
             ],
             [
              0.5555555555555556,
              "#d8576b"
             ],
             [
              0.6666666666666666,
              "#ed7953"
             ],
             [
              0.7777777777777778,
              "#fb9f3a"
             ],
             [
              0.8888888888888888,
              "#fdca26"
             ],
             [
              1,
              "#f0f921"
             ]
            ],
            "type": "heatmap"
           }
          ],
          "heatmapgl": [
           {
            "colorbar": {
             "outlinewidth": 0,
             "ticks": ""
            },
            "colorscale": [
             [
              0,
              "#0d0887"
             ],
             [
              0.1111111111111111,
              "#46039f"
             ],
             [
              0.2222222222222222,
              "#7201a8"
             ],
             [
              0.3333333333333333,
              "#9c179e"
             ],
             [
              0.4444444444444444,
              "#bd3786"
             ],
             [
              0.5555555555555556,
              "#d8576b"
             ],
             [
              0.6666666666666666,
              "#ed7953"
             ],
             [
              0.7777777777777778,
              "#fb9f3a"
             ],
             [
              0.8888888888888888,
              "#fdca26"
             ],
             [
              1,
              "#f0f921"
             ]
            ],
            "type": "heatmapgl"
           }
          ],
          "histogram": [
           {
            "marker": {
             "pattern": {
              "fillmode": "overlay",
              "size": 10,
              "solidity": 0.2
             }
            },
            "type": "histogram"
           }
          ],
          "histogram2d": [
           {
            "colorbar": {
             "outlinewidth": 0,
             "ticks": ""
            },
            "colorscale": [
             [
              0,
              "#0d0887"
             ],
             [
              0.1111111111111111,
              "#46039f"
             ],
             [
              0.2222222222222222,
              "#7201a8"
             ],
             [
              0.3333333333333333,
              "#9c179e"
             ],
             [
              0.4444444444444444,
              "#bd3786"
             ],
             [
              0.5555555555555556,
              "#d8576b"
             ],
             [
              0.6666666666666666,
              "#ed7953"
             ],
             [
              0.7777777777777778,
              "#fb9f3a"
             ],
             [
              0.8888888888888888,
              "#fdca26"
             ],
             [
              1,
              "#f0f921"
             ]
            ],
            "type": "histogram2d"
           }
          ],
          "histogram2dcontour": [
           {
            "colorbar": {
             "outlinewidth": 0,
             "ticks": ""
            },
            "colorscale": [
             [
              0,
              "#0d0887"
             ],
             [
              0.1111111111111111,
              "#46039f"
             ],
             [
              0.2222222222222222,
              "#7201a8"
             ],
             [
              0.3333333333333333,
              "#9c179e"
             ],
             [
              0.4444444444444444,
              "#bd3786"
             ],
             [
              0.5555555555555556,
              "#d8576b"
             ],
             [
              0.6666666666666666,
              "#ed7953"
             ],
             [
              0.7777777777777778,
              "#fb9f3a"
             ],
             [
              0.8888888888888888,
              "#fdca26"
             ],
             [
              1,
              "#f0f921"
             ]
            ],
            "type": "histogram2dcontour"
           }
          ],
          "mesh3d": [
           {
            "colorbar": {
             "outlinewidth": 0,
             "ticks": ""
            },
            "type": "mesh3d"
           }
          ],
          "parcoords": [
           {
            "line": {
             "colorbar": {
              "outlinewidth": 0,
              "ticks": ""
             }
            },
            "type": "parcoords"
           }
          ],
          "pie": [
           {
            "automargin": true,
            "type": "pie"
           }
          ],
          "scatter": [
           {
            "fillpattern": {
             "fillmode": "overlay",
             "size": 10,
             "solidity": 0.2
            },
            "type": "scatter"
           }
          ],
          "scatter3d": [
           {
            "line": {
             "colorbar": {
              "outlinewidth": 0,
              "ticks": ""
             }
            },
            "marker": {
             "colorbar": {
              "outlinewidth": 0,
              "ticks": ""
             }
            },
            "type": "scatter3d"
           }
          ],
          "scattercarpet": [
           {
            "marker": {
             "colorbar": {
              "outlinewidth": 0,
              "ticks": ""
             }
            },
            "type": "scattercarpet"
           }
          ],
          "scattergeo": [
           {
            "marker": {
             "colorbar": {
              "outlinewidth": 0,
              "ticks": ""
             }
            },
            "type": "scattergeo"
           }
          ],
          "scattergl": [
           {
            "marker": {
             "colorbar": {
              "outlinewidth": 0,
              "ticks": ""
             }
            },
            "type": "scattergl"
           }
          ],
          "scattermapbox": [
           {
            "marker": {
             "colorbar": {
              "outlinewidth": 0,
              "ticks": ""
             }
            },
            "type": "scattermapbox"
           }
          ],
          "scatterpolar": [
           {
            "marker": {
             "colorbar": {
              "outlinewidth": 0,
              "ticks": ""
             }
            },
            "type": "scatterpolar"
           }
          ],
          "scatterpolargl": [
           {
            "marker": {
             "colorbar": {
              "outlinewidth": 0,
              "ticks": ""
             }
            },
            "type": "scatterpolargl"
           }
          ],
          "scatterternary": [
           {
            "marker": {
             "colorbar": {
              "outlinewidth": 0,
              "ticks": ""
             }
            },
            "type": "scatterternary"
           }
          ],
          "surface": [
           {
            "colorbar": {
             "outlinewidth": 0,
             "ticks": ""
            },
            "colorscale": [
             [
              0,
              "#0d0887"
             ],
             [
              0.1111111111111111,
              "#46039f"
             ],
             [
              0.2222222222222222,
              "#7201a8"
             ],
             [
              0.3333333333333333,
              "#9c179e"
             ],
             [
              0.4444444444444444,
              "#bd3786"
             ],
             [
              0.5555555555555556,
              "#d8576b"
             ],
             [
              0.6666666666666666,
              "#ed7953"
             ],
             [
              0.7777777777777778,
              "#fb9f3a"
             ],
             [
              0.8888888888888888,
              "#fdca26"
             ],
             [
              1,
              "#f0f921"
             ]
            ],
            "type": "surface"
           }
          ],
          "table": [
           {
            "cells": {
             "fill": {
              "color": "#EBF0F8"
             },
             "line": {
              "color": "white"
             }
            },
            "header": {
             "fill": {
              "color": "#C8D4E3"
             },
             "line": {
              "color": "white"
             }
            },
            "type": "table"
           }
          ]
         },
         "layout": {
          "annotationdefaults": {
           "arrowcolor": "#2a3f5f",
           "arrowhead": 0,
           "arrowwidth": 1
          },
          "autotypenumbers": "strict",
          "coloraxis": {
           "colorbar": {
            "outlinewidth": 0,
            "ticks": ""
           }
          },
          "colorscale": {
           "diverging": [
            [
             0,
             "#8e0152"
            ],
            [
             0.1,
             "#c51b7d"
            ],
            [
             0.2,
             "#de77ae"
            ],
            [
             0.3,
             "#f1b6da"
            ],
            [
             0.4,
             "#fde0ef"
            ],
            [
             0.5,
             "#f7f7f7"
            ],
            [
             0.6,
             "#e6f5d0"
            ],
            [
             0.7,
             "#b8e186"
            ],
            [
             0.8,
             "#7fbc41"
            ],
            [
             0.9,
             "#4d9221"
            ],
            [
             1,
             "#276419"
            ]
           ],
           "sequential": [
            [
             0,
             "#0d0887"
            ],
            [
             0.1111111111111111,
             "#46039f"
            ],
            [
             0.2222222222222222,
             "#7201a8"
            ],
            [
             0.3333333333333333,
             "#9c179e"
            ],
            [
             0.4444444444444444,
             "#bd3786"
            ],
            [
             0.5555555555555556,
             "#d8576b"
            ],
            [
             0.6666666666666666,
             "#ed7953"
            ],
            [
             0.7777777777777778,
             "#fb9f3a"
            ],
            [
             0.8888888888888888,
             "#fdca26"
            ],
            [
             1,
             "#f0f921"
            ]
           ],
           "sequentialminus": [
            [
             0,
             "#0d0887"
            ],
            [
             0.1111111111111111,
             "#46039f"
            ],
            [
             0.2222222222222222,
             "#7201a8"
            ],
            [
             0.3333333333333333,
             "#9c179e"
            ],
            [
             0.4444444444444444,
             "#bd3786"
            ],
            [
             0.5555555555555556,
             "#d8576b"
            ],
            [
             0.6666666666666666,
             "#ed7953"
            ],
            [
             0.7777777777777778,
             "#fb9f3a"
            ],
            [
             0.8888888888888888,
             "#fdca26"
            ],
            [
             1,
             "#f0f921"
            ]
           ]
          },
          "colorway": [
           "#636efa",
           "#EF553B",
           "#00cc96",
           "#ab63fa",
           "#FFA15A",
           "#19d3f3",
           "#FF6692",
           "#B6E880",
           "#FF97FF",
           "#FECB52"
          ],
          "font": {
           "color": "#2a3f5f"
          },
          "geo": {
           "bgcolor": "white",
           "lakecolor": "white",
           "landcolor": "#E5ECF6",
           "showlakes": true,
           "showland": true,
           "subunitcolor": "white"
          },
          "hoverlabel": {
           "align": "left"
          },
          "hovermode": "closest",
          "mapbox": {
           "style": "light"
          },
          "paper_bgcolor": "white",
          "plot_bgcolor": "#E5ECF6",
          "polar": {
           "angularaxis": {
            "gridcolor": "white",
            "linecolor": "white",
            "ticks": ""
           },
           "bgcolor": "#E5ECF6",
           "radialaxis": {
            "gridcolor": "white",
            "linecolor": "white",
            "ticks": ""
           }
          },
          "scene": {
           "xaxis": {
            "backgroundcolor": "#E5ECF6",
            "gridcolor": "white",
            "gridwidth": 2,
            "linecolor": "white",
            "showbackground": true,
            "ticks": "",
            "zerolinecolor": "white"
           },
           "yaxis": {
            "backgroundcolor": "#E5ECF6",
            "gridcolor": "white",
            "gridwidth": 2,
            "linecolor": "white",
            "showbackground": true,
            "ticks": "",
            "zerolinecolor": "white"
           },
           "zaxis": {
            "backgroundcolor": "#E5ECF6",
            "gridcolor": "white",
            "gridwidth": 2,
            "linecolor": "white",
            "showbackground": true,
            "ticks": "",
            "zerolinecolor": "white"
           }
          },
          "shapedefaults": {
           "line": {
            "color": "#2a3f5f"
           }
          },
          "ternary": {
           "aaxis": {
            "gridcolor": "white",
            "linecolor": "white",
            "ticks": ""
           },
           "baxis": {
            "gridcolor": "white",
            "linecolor": "white",
            "ticks": ""
           },
           "bgcolor": "#E5ECF6",
           "caxis": {
            "gridcolor": "white",
            "linecolor": "white",
            "ticks": ""
           }
          },
          "title": {
           "x": 0.05
          },
          "xaxis": {
           "automargin": true,
           "gridcolor": "white",
           "linecolor": "white",
           "ticks": "",
           "title": {
            "standoff": 15
           },
           "zerolinecolor": "white",
           "zerolinewidth": 2
          },
          "yaxis": {
           "automargin": true,
           "gridcolor": "white",
           "linecolor": "white",
           "ticks": "",
           "title": {
            "standoff": 15
           },
           "zerolinecolor": "white",
           "zerolinewidth": 2
          }
         }
        }
       }
      },
      "text/html": [
       "<div>                            <div id=\"ac100082-cc88-415d-b28b-7cf2b600ebf8\" class=\"plotly-graph-div\" style=\"height:525px; width:100%;\"></div>            <script type=\"text/javascript\">                require([\"plotly\"], function(Plotly) {                    window.PLOTLYENV=window.PLOTLYENV || {};                                    if (document.getElementById(\"ac100082-cc88-415d-b28b-7cf2b600ebf8\")) {                    Plotly.newPlot(                        \"ac100082-cc88-415d-b28b-7cf2b600ebf8\",                        [{\"name\":\"10-day_Vol\",\"x\":[\"2022-04-08T00:00:00\",\"2022-04-11T00:00:00\",\"2022-04-12T00:00:00\",\"2022-04-13T00:00:00\",\"2022-04-14T00:00:00\",\"2022-04-19T00:00:00\",\"2022-04-20T00:00:00\",\"2022-04-21T00:00:00\",\"2022-04-22T00:00:00\",\"2022-04-25T00:00:00\",\"2022-04-26T00:00:00\",\"2022-04-27T00:00:00\",\"2022-04-28T00:00:00\",\"2022-04-29T00:00:00\",\"2022-05-02T00:00:00\",\"2022-05-03T00:00:00\",\"2022-05-04T00:00:00\",\"2022-05-05T00:00:00\",\"2022-05-06T00:00:00\",\"2022-05-09T00:00:00\",\"2022-05-10T00:00:00\",\"2022-05-11T00:00:00\",\"2022-05-12T00:00:00\",\"2022-05-13T00:00:00\",\"2022-05-16T00:00:00\",\"2022-05-17T00:00:00\",\"2022-05-18T00:00:00\",\"2022-05-19T00:00:00\",\"2022-05-20T00:00:00\",\"2022-05-23T00:00:00\",\"2022-05-24T00:00:00\",\"2022-05-25T00:00:00\",\"2022-05-26T00:00:00\",\"2022-05-27T00:00:00\",\"2022-05-30T00:00:00\",\"2022-05-31T00:00:00\",\"2022-06-01T00:00:00\",\"2022-06-02T00:00:00\",\"2022-06-03T00:00:00\",\"2022-06-06T00:00:00\",\"2022-06-07T00:00:00\",\"2022-06-08T00:00:00\",\"2022-06-09T00:00:00\",\"2022-06-10T00:00:00\",\"2022-06-13T00:00:00\",\"2022-06-14T00:00:00\",\"2022-06-15T00:00:00\",\"2022-06-16T00:00:00\",\"2022-06-17T00:00:00\",\"2022-06-20T00:00:00\",\"2022-06-21T00:00:00\",\"2022-06-22T00:00:00\",\"2022-06-23T00:00:00\",\"2022-06-24T00:00:00\",\"2022-06-27T00:00:00\",\"2022-06-28T00:00:00\",\"2022-06-29T00:00:00\",\"2022-06-30T00:00:00\",\"2022-07-01T00:00:00\",\"2022-07-04T00:00:00\",\"2022-07-05T00:00:00\",\"2022-07-06T00:00:00\",\"2022-07-07T00:00:00\",\"2022-07-08T00:00:00\",\"2022-07-11T00:00:00\",\"2022-07-12T00:00:00\",\"2022-07-13T00:00:00\",\"2022-07-14T00:00:00\",\"2022-07-15T00:00:00\",\"2022-07-18T00:00:00\",\"2022-07-19T00:00:00\",\"2022-07-20T00:00:00\",\"2022-07-21T00:00:00\",\"2022-07-22T00:00:00\",\"2022-07-25T00:00:00\",\"2022-07-26T00:00:00\",\"2022-07-27T00:00:00\",\"2022-07-28T00:00:00\",\"2022-07-29T00:00:00\",\"2022-08-01T00:00:00\",\"2022-08-02T00:00:00\",\"2022-08-03T00:00:00\",\"2022-08-04T00:00:00\",\"2022-08-05T00:00:00\",\"2022-08-08T00:00:00\",\"2022-08-09T00:00:00\",\"2022-08-10T00:00:00\",\"2022-08-11T00:00:00\",\"2022-08-12T00:00:00\",\"2022-08-15T00:00:00\",\"2022-08-16T00:00:00\",\"2022-08-17T00:00:00\",\"2022-08-18T00:00:00\",\"2022-08-19T00:00:00\",\"2022-08-22T00:00:00\",\"2022-08-23T00:00:00\",\"2022-08-24T00:00:00\",\"2022-08-25T00:00:00\",\"2022-08-26T00:00:00\",\"2022-08-29T00:00:00\",\"2022-08-30T00:00:00\",\"2022-08-31T00:00:00\",\"2022-09-01T00:00:00\",\"2022-09-02T00:00:00\",\"2022-09-05T00:00:00\",\"2022-09-06T00:00:00\",\"2022-09-07T00:00:00\",\"2022-09-08T00:00:00\",\"2022-09-09T00:00:00\",\"2022-09-12T00:00:00\",\"2022-09-13T00:00:00\",\"2022-09-14T00:00:00\",\"2022-09-15T00:00:00\",\"2022-09-16T00:00:00\",\"2022-09-19T00:00:00\",\"2022-09-20T00:00:00\",\"2022-09-21T00:00:00\",\"2022-09-22T00:00:00\",\"2022-09-23T00:00:00\",\"2022-09-26T00:00:00\",\"2022-09-27T00:00:00\",\"2022-09-28T00:00:00\",\"2022-09-29T00:00:00\",\"2022-09-30T00:00:00\",\"2022-10-03T00:00:00\",\"2022-10-04T00:00:00\",\"2022-10-05T00:00:00\",\"2022-10-06T00:00:00\",\"2022-10-07T00:00:00\",\"2022-10-10T00:00:00\",\"2022-10-11T00:00:00\",\"2022-10-12T00:00:00\",\"2022-10-13T00:00:00\",\"2022-10-14T00:00:00\",\"2022-10-17T00:00:00\",\"2022-10-18T00:00:00\",\"2022-10-19T00:00:00\",\"2022-10-20T00:00:00\",\"2022-10-21T00:00:00\",\"2022-10-24T00:00:00\",\"2022-10-25T00:00:00\",\"2022-10-26T00:00:00\",\"2022-10-27T00:00:00\",\"2022-10-28T00:00:00\",\"2022-10-31T00:00:00\",\"2022-11-01T00:00:00\",\"2022-11-02T00:00:00\",\"2022-11-03T00:00:00\",\"2022-11-04T00:00:00\",\"2022-11-07T00:00:00\",\"2022-11-08T00:00:00\",\"2022-11-09T00:00:00\",\"2022-11-10T00:00:00\",\"2022-11-11T00:00:00\",\"2022-11-14T00:00:00\",\"2022-11-15T00:00:00\",\"2022-11-16T00:00:00\",\"2022-11-17T00:00:00\",\"2022-11-18T00:00:00\",\"2022-11-21T00:00:00\",\"2022-11-22T00:00:00\",\"2022-11-23T00:00:00\",\"2022-11-24T00:00:00\",\"2022-11-25T00:00:00\",\"2022-11-28T00:00:00\",\"2022-11-29T00:00:00\",\"2022-11-30T00:00:00\",\"2022-12-01T00:00:00\",\"2022-12-02T00:00:00\",\"2022-12-05T00:00:00\",\"2022-12-06T00:00:00\",\"2022-12-07T00:00:00\",\"2022-12-08T00:00:00\",\"2022-12-09T00:00:00\",\"2022-12-12T00:00:00\",\"2022-12-13T00:00:00\",\"2022-12-14T00:00:00\",\"2022-12-15T00:00:00\",\"2022-12-16T00:00:00\",\"2022-12-19T00:00:00\",\"2022-12-20T00:00:00\",\"2022-12-21T00:00:00\",\"2022-12-22T00:00:00\",\"2022-12-23T00:00:00\",\"2022-12-26T00:00:00\",\"2022-12-27T00:00:00\",\"2022-12-28T00:00:00\",\"2022-12-29T00:00:00\",\"2022-12-30T00:00:00\",\"2023-01-02T00:00:00\",\"2023-01-03T00:00:00\",\"2023-01-04T00:00:00\",\"2023-01-05T00:00:00\",\"2023-01-06T00:00:00\",\"2023-01-09T00:00:00\",\"2023-01-10T00:00:00\",\"2023-01-11T00:00:00\",\"2023-01-12T00:00:00\",\"2023-01-13T00:00:00\",\"2023-01-16T00:00:00\",\"2023-01-17T00:00:00\",\"2023-01-18T00:00:00\",\"2023-01-19T00:00:00\",\"2023-01-20T00:00:00\",\"2023-01-23T00:00:00\",\"2023-01-24T00:00:00\",\"2023-01-25T00:00:00\",\"2023-01-26T00:00:00\",\"2023-01-27T00:00:00\",\"2023-01-30T00:00:00\",\"2023-01-31T00:00:00\",\"2023-02-01T00:00:00\",\"2023-02-02T00:00:00\",\"2023-02-03T00:00:00\",\"2023-02-06T00:00:00\",\"2023-02-07T00:00:00\",\"2023-02-08T00:00:00\",\"2023-02-09T00:00:00\",\"2023-02-10T00:00:00\",\"2023-02-13T00:00:00\",\"2023-02-14T00:00:00\",\"2023-02-15T00:00:00\",\"2023-02-16T00:00:00\",\"2023-02-17T00:00:00\",\"2023-02-20T00:00:00\",\"2023-02-21T00:00:00\",\"2023-02-22T00:00:00\",\"2023-02-23T00:00:00\",\"2023-02-24T00:00:00\",\"2023-02-27T00:00:00\",\"2023-02-28T00:00:00\",\"2023-03-01T00:00:00\",\"2023-03-02T00:00:00\",\"2023-03-03T00:00:00\",\"2023-03-06T00:00:00\",\"2023-03-07T00:00:00\",\"2023-03-08T00:00:00\",\"2023-03-09T00:00:00\",\"2023-03-10T00:00:00\",\"2023-03-13T00:00:00\",\"2023-03-14T00:00:00\",\"2023-03-15T00:00:00\",\"2023-03-16T00:00:00\",\"2023-03-17T00:00:00\",\"2023-03-20T00:00:00\",\"2023-03-21T00:00:00\",\"2023-03-22T00:00:00\",\"2023-03-23T00:00:00\",\"2023-03-24T00:00:00\",\"2023-03-27T00:00:00\",\"2023-03-28T00:00:00\",\"2023-03-29T00:00:00\",\"2023-03-30T00:00:00\",\"2023-03-31T00:00:00\",\"2023-04-03T00:00:00\",\"2023-04-04T00:00:00\",\"2023-04-05T00:00:00\",\"2023-04-06T00:00:00\",\"2023-04-07T00:00:00\",\"2023-04-10T00:00:00\",\"2023-04-11T00:00:00\",\"2023-04-12T00:00:00\",\"2023-04-13T00:00:00\",\"2023-04-14T00:00:00\",\"2023-04-17T00:00:00\",\"2023-04-18T00:00:00\",\"2023-04-19T00:00:00\",\"2023-04-20T00:00:00\",\"2023-04-21T00:00:00\",\"2023-04-24T00:00:00\",\"2023-04-25T00:00:00\",\"2023-04-26T00:00:00\",\"2023-04-27T00:00:00\",\"2023-04-28T00:00:00\",\"2023-05-01T00:00:00\",\"2023-05-02T00:00:00\",\"2023-05-03T00:00:00\",\"2023-05-04T00:00:00\",\"2023-05-05T00:00:00\",\"2023-05-08T00:00:00\",\"2023-05-09T00:00:00\",\"2023-05-10T00:00:00\",\"2023-05-11T00:00:00\",\"2023-05-12T00:00:00\",\"2023-05-15T00:00:00\",\"2023-05-16T00:00:00\",\"2023-05-17T00:00:00\",\"2023-05-18T00:00:00\",\"2023-05-19T00:00:00\",\"2023-05-22T00:00:00\",\"2023-05-23T00:00:00\",\"2023-05-24T00:00:00\",\"2023-05-25T00:00:00\",\"2023-05-26T00:00:00\",\"2023-05-29T00:00:00\",\"2023-05-30T00:00:00\",\"2023-05-31T00:00:00\",\"2023-06-01T00:00:00\",\"2023-06-02T00:00:00\",\"2023-06-05T00:00:00\",\"2023-06-06T00:00:00\",\"2023-06-07T00:00:00\",\"2023-06-08T00:00:00\",\"2023-06-09T00:00:00\",\"2023-06-12T00:00:00\",\"2023-06-13T00:00:00\",\"2023-06-14T00:00:00\",\"2023-06-15T00:00:00\",\"2023-06-16T00:00:00\",\"2023-06-19T00:00:00\",\"2023-06-20T00:00:00\",\"2023-06-21T00:00:00\",\"2023-06-22T00:00:00\",\"2023-06-23T00:00:00\",\"2023-06-26T00:00:00\",\"2023-06-27T00:00:00\",\"2023-06-28T00:00:00\",\"2023-06-29T00:00:00\",\"2023-06-30T00:00:00\",\"2023-07-03T00:00:00\",\"2023-07-04T00:00:00\",\"2023-07-05T00:00:00\",\"2023-07-06T00:00:00\",\"2023-07-07T00:00:00\",\"2023-07-10T00:00:00\",\"2023-07-11T00:00:00\",\"2023-07-12T00:00:00\",\"2023-07-13T00:00:00\",\"2023-07-14T00:00:00\",\"2023-07-17T00:00:00\",\"2023-07-18T00:00:00\",\"2023-07-19T00:00:00\",\"2023-07-20T00:00:00\",\"2023-07-21T00:00:00\",\"2023-07-24T00:00:00\",\"2023-07-25T00:00:00\",\"2023-07-26T00:00:00\",\"2023-07-27T00:00:00\",\"2023-07-28T00:00:00\",\"2023-07-31T00:00:00\",\"2023-08-01T00:00:00\",\"2023-08-02T00:00:00\",\"2023-08-03T00:00:00\",\"2023-08-04T00:00:00\",\"2023-08-07T00:00:00\",\"2023-08-08T00:00:00\",\"2023-08-09T00:00:00\",\"2023-08-10T00:00:00\",\"2023-08-11T00:00:00\",\"2023-08-14T00:00:00\",\"2023-08-15T00:00:00\",\"2023-08-16T00:00:00\",\"2023-08-17T00:00:00\",\"2023-08-18T00:00:00\",\"2023-08-21T00:00:00\"],\"y\":[null,null,null,null,null,null,null,null,null,0.0,0.0,2.5099800796022245,4.286607049870557,10.25548633659077,13.022096605385789,14.54561789681003,15.204440140958841,15.194999177360977,14.389822792515584,12.63772131359136,9.424595482035368,6.6560498796209195,6.6560498796209195,9.379925372837524,10.91159933282013,11.727872782393248,11.975934201556047,11.732348443512887,11.497608446977052,32.73939522960059,42.83511410046656,48.31818498246789,51.54504825878023,51.83755395463775,50.15747202561127,46.290517387473365,39.60116159912446,28.691462144686284,3.834057902531061,3.834057902531061,3.3466401061305464,2.928310092862838,1.6733200530571397,1.9170289512585355,2.0493901531830523,2.091650066326574,2.049390153183202,1.917028951258843,1.6733200530576748,1.2549900397872902,0.0,0.0,0.0,0.0,0.0,0.0,0.2509980078919685,0.7668115804850301,0.9934787365445417,1.1224972160171847,1.4611639196088424,1.4611639196088424,3.6276714294389523,4.58639291818402,7.670397642884639,18.288247592374034,24.786044460542296,28.350802457778585,32.4162305026354,33.9440716473436,33.529091845738996,29.76911150840762,27.761484110184266,22.040871126160607,14.82565344259828,13.677536327863645,12.660963628414413,10.2554863365925,9.621590305143785,10.323516842628768,10.549881515924394,8.111719916272182,8.583414239103725,8.532291603083566,8.53229160308365,8.583414239104005,8.111719916272698,7.012488859175241,2.6786190472067695,2.091650066349441,8.324662155310692,9.363492938004692,9.757048734123623,10.118053172427146,10.449880382093506,10.876580344945836,12.09545369136936,12.732910115133125,13.187418246194294,14.067089251158402,9.853070587388101,4.386684397132912,4.157282766429113,4.119223227751465,3.6746428397935396,2.6244999523803956,4.257111696918864,4.864874099094637,4.967393682811971,5.373546315054835,5.751086853807509,6.725102229708845,8.054998448170634,8.838551917595332,8.826267614344399,7.923572426628115,7.802051012395327,9.66188387427702,10.170152407904702,9.545260604090664,8.19585260970461,7.343568614781183,6.960387920223857,6.467766229541481,5.83806474784207,5.83806474784207,5.974947698515565,6.204836822995322,5.9749476985159395,5.751086853804573,5.628054726102622,5.5497747702054445,5.549774770205641,5.01996015920577,3.741657386775978,3.646916505764317,4.658325879542805,4.949747468307883,4.658325879543245,4.601630145940017,4.183300132673434,4.09878030638709,3.8340579025397807,4.60163014594037,4.60163014594037,4.60163014594037,4.751315607284583,4.751315607284462,4.601630145940001,4.286607049873212,3.764970119406211,3.2403703492070015,8.664583082873316,11.570436465406601,13.20227253165176,15.250409830558686,16.20185174601951,16.25038461083276,15.40454478392611,13.497221936383053,9.934787365614564,3.834057902532274,3.3466401061316735,2.509980079595829,0.0,0.0,0.0,0.0,2.5099800795953975,3.346640106131019,3.8340579025314248,5.612486080157496,6.534523701078745,6.949820141554614,7.494998332218358,7.43639697702818,8.147883160671274,7.702726789906765,7.714078039529109,7.136665888210195,5.797154474390075,5.432494822817551,4.71879221834762,3.4455768747680686,2.586890024708319,0.33466401051565986,0.25099800782980414,0.0,0.0,0.0,0.0,0.0,0.0,0.0,0.0,3.7649701193944467,5.019960159197613,7.353570561293907,10.212737145345734,11.720708169727667,12.38143771942165,12.33186928246943,11.718020310611703,21.930070679318277,25.944556269088142,27.413865105086312,27.208822098721168,26.571036863469356,25.76858552578777,23.90857586724544,20.707969480367304,15.349918566553251,3.0119760954909407,2.258982071599948,7.52994023879443,10.039920318399941,14.70714112259169,23.250268815646855,27.635122579787012,29.76029233727161,28.199290771221108,25.868900247205815,22.151749366582617,16.64932431061098,15.25040983055551,14.056137449523812,13.849187701807878,12.15318888193147,9.53939201416416,4.658325879529615,4.658325879529615,4.949747468295021,5.928490533001739,6.2949980142880095,6.564449710363341,7.71180912626136,8.249060552565037,8.238446455484269,7.677694966581956,6.424328758701143,3.8531805044497127,3.5109827683812473,3.372684390788705,2.7748873850787485,2.7748873850787485,3.346640106116935,3.646916505744499,3.741657386756961,3.6469165057448407,5.29150262211718,11.387493139399405,14.635573101175902,16.607227342330756,17.7482393492947,17.792554622646144,17.39468309570023,15.92403843250299,13.022096605379078,7.4833147735356915,3.2672618505122544,4.67707173344756,6.088678017420185,7.62463113860718,8.238446455480553,8.464750439311345,8.333486665245461,8.005747935066788,7.455668984056912,7.714078039521861,5.684364520316939,6.033821343049523,6.3194145298311755,6.588398895015568,6.4841152056270195,5.956760864752328,5.301579953169219,4.699654242585065,3.2352356946364775,3.2352356946364775,3.2352356946364775,3.485218787945646,3.6710693264835887,4.18434582698987,4.199999999981889,4.243318276991319,3.8304046783400634,6.30610815002812,7.855698568545816,8.972569308723923,9.678171314864016,9.669126123898646,9.196031752873736,7.425092592006174,9.656448622545984,11.232764575111304,11.653325705560679,12.9951914183626,14.130640466726508,14.424805024675122,13.59411637436932,11.861703081762695,9.908329828982268,7.245688373087876,7.5878191860310285,7.948270252067431,7.981227975687665,7.815049583969315,7.815049583969315,7.815049583969315,9.757048734115207,12.044708381687768,13.464768843166233,13.754090300703302,19.625875776634828,22.171490703150816,22.547172771766856,20.87043363229204,19.781304304820445,17.353587525347884,15.477305967122053,14.262783739505918,20.571630951383494,22.104456564229856,30.53534018150002,43.134753969391525,42.02007853395732,40.49996296294534,37.338010123732445,32.83557521956863,27.75202695299847,22.92814863873567,22.77882788907183,22.620786900546957,22.120126581915272,6.758328195637645,6.547900426850681,6.758328195637639,6.758328195637639,8.250757540974652,8.61394218694018,12.303454799362035,14.149204924657136,14.855133792731008,15.367237878029236,13.4554078347679,10.92442218151289,8.805225721123158,11.903234854438738,13.721224435155994,13.874689185704968,15.11648107199278,15.492675688850971,15.309735464726746,14.124694686962615,12.17735603486686],\"type\":\"scatter\"},{\"name\":\"30-day_Vol\",\"x\":[\"2022-04-08T00:00:00\",\"2022-04-11T00:00:00\",\"2022-04-12T00:00:00\",\"2022-04-13T00:00:00\",\"2022-04-14T00:00:00\",\"2022-04-19T00:00:00\",\"2022-04-20T00:00:00\",\"2022-04-21T00:00:00\",\"2022-04-22T00:00:00\",\"2022-04-25T00:00:00\",\"2022-04-26T00:00:00\",\"2022-04-27T00:00:00\",\"2022-04-28T00:00:00\",\"2022-04-29T00:00:00\",\"2022-05-02T00:00:00\",\"2022-05-03T00:00:00\",\"2022-05-04T00:00:00\",\"2022-05-05T00:00:00\",\"2022-05-06T00:00:00\",\"2022-05-09T00:00:00\",\"2022-05-10T00:00:00\",\"2022-05-11T00:00:00\",\"2022-05-12T00:00:00\",\"2022-05-13T00:00:00\",\"2022-05-16T00:00:00\",\"2022-05-17T00:00:00\",\"2022-05-18T00:00:00\",\"2022-05-19T00:00:00\",\"2022-05-20T00:00:00\",\"2022-05-23T00:00:00\",\"2022-05-24T00:00:00\",\"2022-05-25T00:00:00\",\"2022-05-26T00:00:00\",\"2022-05-27T00:00:00\",\"2022-05-30T00:00:00\",\"2022-05-31T00:00:00\",\"2022-06-01T00:00:00\",\"2022-06-02T00:00:00\",\"2022-06-03T00:00:00\",\"2022-06-06T00:00:00\",\"2022-06-07T00:00:00\",\"2022-06-08T00:00:00\",\"2022-06-09T00:00:00\",\"2022-06-10T00:00:00\",\"2022-06-13T00:00:00\",\"2022-06-14T00:00:00\",\"2022-06-15T00:00:00\",\"2022-06-16T00:00:00\",\"2022-06-17T00:00:00\",\"2022-06-20T00:00:00\",\"2022-06-21T00:00:00\",\"2022-06-22T00:00:00\",\"2022-06-23T00:00:00\",\"2022-06-24T00:00:00\",\"2022-06-27T00:00:00\",\"2022-06-28T00:00:00\",\"2022-06-29T00:00:00\",\"2022-06-30T00:00:00\",\"2022-07-01T00:00:00\",\"2022-07-04T00:00:00\",\"2022-07-05T00:00:00\",\"2022-07-06T00:00:00\",\"2022-07-07T00:00:00\",\"2022-07-08T00:00:00\",\"2022-07-11T00:00:00\",\"2022-07-12T00:00:00\",\"2022-07-13T00:00:00\",\"2022-07-14T00:00:00\",\"2022-07-15T00:00:00\",\"2022-07-18T00:00:00\",\"2022-07-19T00:00:00\",\"2022-07-20T00:00:00\",\"2022-07-21T00:00:00\",\"2022-07-22T00:00:00\",\"2022-07-25T00:00:00\",\"2022-07-26T00:00:00\",\"2022-07-27T00:00:00\",\"2022-07-28T00:00:00\",\"2022-07-29T00:00:00\",\"2022-08-01T00:00:00\",\"2022-08-02T00:00:00\",\"2022-08-03T00:00:00\",\"2022-08-04T00:00:00\",\"2022-08-05T00:00:00\",\"2022-08-08T00:00:00\",\"2022-08-09T00:00:00\",\"2022-08-10T00:00:00\",\"2022-08-11T00:00:00\",\"2022-08-12T00:00:00\",\"2022-08-15T00:00:00\",\"2022-08-16T00:00:00\",\"2022-08-17T00:00:00\",\"2022-08-18T00:00:00\",\"2022-08-19T00:00:00\",\"2022-08-22T00:00:00\",\"2022-08-23T00:00:00\",\"2022-08-24T00:00:00\",\"2022-08-25T00:00:00\",\"2022-08-26T00:00:00\",\"2022-08-29T00:00:00\",\"2022-08-30T00:00:00\",\"2022-08-31T00:00:00\",\"2022-09-01T00:00:00\",\"2022-09-02T00:00:00\",\"2022-09-05T00:00:00\",\"2022-09-06T00:00:00\",\"2022-09-07T00:00:00\",\"2022-09-08T00:00:00\",\"2022-09-09T00:00:00\",\"2022-09-12T00:00:00\",\"2022-09-13T00:00:00\",\"2022-09-14T00:00:00\",\"2022-09-15T00:00:00\",\"2022-09-16T00:00:00\",\"2022-09-19T00:00:00\",\"2022-09-20T00:00:00\",\"2022-09-21T00:00:00\",\"2022-09-22T00:00:00\",\"2022-09-23T00:00:00\",\"2022-09-26T00:00:00\",\"2022-09-27T00:00:00\",\"2022-09-28T00:00:00\",\"2022-09-29T00:00:00\",\"2022-09-30T00:00:00\",\"2022-10-03T00:00:00\",\"2022-10-04T00:00:00\",\"2022-10-05T00:00:00\",\"2022-10-06T00:00:00\",\"2022-10-07T00:00:00\",\"2022-10-10T00:00:00\",\"2022-10-11T00:00:00\",\"2022-10-12T00:00:00\",\"2022-10-13T00:00:00\",\"2022-10-14T00:00:00\",\"2022-10-17T00:00:00\",\"2022-10-18T00:00:00\",\"2022-10-19T00:00:00\",\"2022-10-20T00:00:00\",\"2022-10-21T00:00:00\",\"2022-10-24T00:00:00\",\"2022-10-25T00:00:00\",\"2022-10-26T00:00:00\",\"2022-10-27T00:00:00\",\"2022-10-28T00:00:00\",\"2022-10-31T00:00:00\",\"2022-11-01T00:00:00\",\"2022-11-02T00:00:00\",\"2022-11-03T00:00:00\",\"2022-11-04T00:00:00\",\"2022-11-07T00:00:00\",\"2022-11-08T00:00:00\",\"2022-11-09T00:00:00\",\"2022-11-10T00:00:00\",\"2022-11-11T00:00:00\",\"2022-11-14T00:00:00\",\"2022-11-15T00:00:00\",\"2022-11-16T00:00:00\",\"2022-11-17T00:00:00\",\"2022-11-18T00:00:00\",\"2022-11-21T00:00:00\",\"2022-11-22T00:00:00\",\"2022-11-23T00:00:00\",\"2022-11-24T00:00:00\",\"2022-11-25T00:00:00\",\"2022-11-28T00:00:00\",\"2022-11-29T00:00:00\",\"2022-11-30T00:00:00\",\"2022-12-01T00:00:00\",\"2022-12-02T00:00:00\",\"2022-12-05T00:00:00\",\"2022-12-06T00:00:00\",\"2022-12-07T00:00:00\",\"2022-12-08T00:00:00\",\"2022-12-09T00:00:00\",\"2022-12-12T00:00:00\",\"2022-12-13T00:00:00\",\"2022-12-14T00:00:00\",\"2022-12-15T00:00:00\",\"2022-12-16T00:00:00\",\"2022-12-19T00:00:00\",\"2022-12-20T00:00:00\",\"2022-12-21T00:00:00\",\"2022-12-22T00:00:00\",\"2022-12-23T00:00:00\",\"2022-12-26T00:00:00\",\"2022-12-27T00:00:00\",\"2022-12-28T00:00:00\",\"2022-12-29T00:00:00\",\"2022-12-30T00:00:00\",\"2023-01-02T00:00:00\",\"2023-01-03T00:00:00\",\"2023-01-04T00:00:00\",\"2023-01-05T00:00:00\",\"2023-01-06T00:00:00\",\"2023-01-09T00:00:00\",\"2023-01-10T00:00:00\",\"2023-01-11T00:00:00\",\"2023-01-12T00:00:00\",\"2023-01-13T00:00:00\",\"2023-01-16T00:00:00\",\"2023-01-17T00:00:00\",\"2023-01-18T00:00:00\",\"2023-01-19T00:00:00\",\"2023-01-20T00:00:00\",\"2023-01-23T00:00:00\",\"2023-01-24T00:00:00\",\"2023-01-25T00:00:00\",\"2023-01-26T00:00:00\",\"2023-01-27T00:00:00\",\"2023-01-30T00:00:00\",\"2023-01-31T00:00:00\",\"2023-02-01T00:00:00\",\"2023-02-02T00:00:00\",\"2023-02-03T00:00:00\",\"2023-02-06T00:00:00\",\"2023-02-07T00:00:00\",\"2023-02-08T00:00:00\",\"2023-02-09T00:00:00\",\"2023-02-10T00:00:00\",\"2023-02-13T00:00:00\",\"2023-02-14T00:00:00\",\"2023-02-15T00:00:00\",\"2023-02-16T00:00:00\",\"2023-02-17T00:00:00\",\"2023-02-20T00:00:00\",\"2023-02-21T00:00:00\",\"2023-02-22T00:00:00\",\"2023-02-23T00:00:00\",\"2023-02-24T00:00:00\",\"2023-02-27T00:00:00\",\"2023-02-28T00:00:00\",\"2023-03-01T00:00:00\",\"2023-03-02T00:00:00\",\"2023-03-03T00:00:00\",\"2023-03-06T00:00:00\",\"2023-03-07T00:00:00\",\"2023-03-08T00:00:00\",\"2023-03-09T00:00:00\",\"2023-03-10T00:00:00\",\"2023-03-13T00:00:00\",\"2023-03-14T00:00:00\",\"2023-03-15T00:00:00\",\"2023-03-16T00:00:00\",\"2023-03-17T00:00:00\",\"2023-03-20T00:00:00\",\"2023-03-21T00:00:00\",\"2023-03-22T00:00:00\",\"2023-03-23T00:00:00\",\"2023-03-24T00:00:00\",\"2023-03-27T00:00:00\",\"2023-03-28T00:00:00\",\"2023-03-29T00:00:00\",\"2023-03-30T00:00:00\",\"2023-03-31T00:00:00\",\"2023-04-03T00:00:00\",\"2023-04-04T00:00:00\",\"2023-04-05T00:00:00\",\"2023-04-06T00:00:00\",\"2023-04-07T00:00:00\",\"2023-04-10T00:00:00\",\"2023-04-11T00:00:00\",\"2023-04-12T00:00:00\",\"2023-04-13T00:00:00\",\"2023-04-14T00:00:00\",\"2023-04-17T00:00:00\",\"2023-04-18T00:00:00\",\"2023-04-19T00:00:00\",\"2023-04-20T00:00:00\",\"2023-04-21T00:00:00\",\"2023-04-24T00:00:00\",\"2023-04-25T00:00:00\",\"2023-04-26T00:00:00\",\"2023-04-27T00:00:00\",\"2023-04-28T00:00:00\",\"2023-05-01T00:00:00\",\"2023-05-02T00:00:00\",\"2023-05-03T00:00:00\",\"2023-05-04T00:00:00\",\"2023-05-05T00:00:00\",\"2023-05-08T00:00:00\",\"2023-05-09T00:00:00\",\"2023-05-10T00:00:00\",\"2023-05-11T00:00:00\",\"2023-05-12T00:00:00\",\"2023-05-15T00:00:00\",\"2023-05-16T00:00:00\",\"2023-05-17T00:00:00\",\"2023-05-18T00:00:00\",\"2023-05-19T00:00:00\",\"2023-05-22T00:00:00\",\"2023-05-23T00:00:00\",\"2023-05-24T00:00:00\",\"2023-05-25T00:00:00\",\"2023-05-26T00:00:00\",\"2023-05-29T00:00:00\",\"2023-05-30T00:00:00\",\"2023-05-31T00:00:00\",\"2023-06-01T00:00:00\",\"2023-06-02T00:00:00\",\"2023-06-05T00:00:00\",\"2023-06-06T00:00:00\",\"2023-06-07T00:00:00\",\"2023-06-08T00:00:00\",\"2023-06-09T00:00:00\",\"2023-06-12T00:00:00\",\"2023-06-13T00:00:00\",\"2023-06-14T00:00:00\",\"2023-06-15T00:00:00\",\"2023-06-16T00:00:00\",\"2023-06-19T00:00:00\",\"2023-06-20T00:00:00\",\"2023-06-21T00:00:00\",\"2023-06-22T00:00:00\",\"2023-06-23T00:00:00\",\"2023-06-26T00:00:00\",\"2023-06-27T00:00:00\",\"2023-06-28T00:00:00\",\"2023-06-29T00:00:00\",\"2023-06-30T00:00:00\",\"2023-07-03T00:00:00\",\"2023-07-04T00:00:00\",\"2023-07-05T00:00:00\",\"2023-07-06T00:00:00\",\"2023-07-07T00:00:00\",\"2023-07-10T00:00:00\",\"2023-07-11T00:00:00\",\"2023-07-12T00:00:00\",\"2023-07-13T00:00:00\",\"2023-07-14T00:00:00\",\"2023-07-17T00:00:00\",\"2023-07-18T00:00:00\",\"2023-07-19T00:00:00\",\"2023-07-20T00:00:00\",\"2023-07-21T00:00:00\",\"2023-07-24T00:00:00\",\"2023-07-25T00:00:00\",\"2023-07-26T00:00:00\",\"2023-07-27T00:00:00\",\"2023-07-28T00:00:00\",\"2023-07-31T00:00:00\",\"2023-08-01T00:00:00\",\"2023-08-02T00:00:00\",\"2023-08-03T00:00:00\",\"2023-08-04T00:00:00\",\"2023-08-07T00:00:00\",\"2023-08-08T00:00:00\",\"2023-08-09T00:00:00\",\"2023-08-10T00:00:00\",\"2023-08-11T00:00:00\",\"2023-08-14T00:00:00\",\"2023-08-15T00:00:00\",\"2023-08-16T00:00:00\",\"2023-08-17T00:00:00\",\"2023-08-18T00:00:00\",\"2023-08-21T00:00:00\"],\"y\":[null,null,null,null,null,null,null,null,null,null,null,null,null,null,null,null,null,null,null,null,null,null,null,null,null,null,null,null,null,22.57725129111312,29.49290738816532,34.77176619238561,39.08279275659779,42.15571135682566,44.824314522519956,47.15729219215785,49.20240952888665,50.99431205604176,52.55890488545799,53.91598061351793,55.080879716511674,55.771263456965066,56.18573294179669,55.734473947520996,55.003423404429086,53.98121512347511,52.650893498656785,50.944536778600806,48.86413429796602,46.35935682812311,43.35671645857156,40.441390541937636,37.88530604064206,35.161774405031835,31.9100438193327,27.946340825182304,22.900375693349712,16.093979384036906,3.8698703533499987,3.942539878006078,3.6168427839969377,3.0373536576091924,3.211187340835691,3.8283876141464814,5.680775202079717,12.003253869192624,16.68332328590682,20.02142387027244,24.134440264828253,27.323265948070283,29.88522008134382,31.798755668563135,34.73075751033065,37.130322676607236,39.34601806957142,41.147072213271045,42.58612571540499,43.698956430370835,44.33133086826655,45.43668007845335,46.38306208386694,46.96486764703417,47.19558168975639,47.080365993362335,46.61665567377047,45.94364614056695,44.92007615063986,43.57681446159941,41.79238340110305,39.50704869452649,37.71791854424505,34.442718563854996,30.653865706605007,25.856183813147315,21.113486456404495,19.21556481174648,17.61308291171985,15.721433864586427,14.838607611969948,13.940970381302616,12.861341432689605,11.234129034880965,10.959398422953926,10.791773686947213,10.791773686947213,10.791773686947213,11.171591125520292,11.532635850277865,11.729838168031895,12.211510963019379,12.796287177036335,13.665866110556923,14.813502694127093,15.759342056980413,16.538043915520095,17.00702187637202,17.37734256101052,18.516687720482878,19.38083749658195,20.00548545464006,18.555753824621476,17.354303848582386,17.28877351506258,17.09533511688433,16.769562945386177,16.098365734145325,15.734509623862078,15.182690915915945,14.538297818116027,14.115625970947443,13.42624295921842,12.677948545025231,11.844474923223046,11.200948235719764,10.49054746935832,9.698588592657142,9.698588592657142,9.698588592657142,9.698588592657142,9.698588592657142,9.877806890473272,10.210987996371005,10.531366941434325,10.52311249353951,10.558252206456114,10.59317281765904,10.612330174099393,10.022775787311641,9.326685851119809,8.497920638154625,7.850104326121685,7.094193837699671,8.185405430943865,9.129527691070834,9.968441582623008,11.639854247219475,13.031824441567055,14.226614204514764,15.270576847039655,16.182285972949252,16.9771905803041,17.613082911720475,18.14617372036385,18.585311218901285,18.93703268457132,19.206141259215432,19.11780628736866,18.913596641860828,18.894922689660632,18.71344712895659,18.364344200951308,18.193500165604284,17.793572066803634,17.854512614172346,17.74058759669047,17.42345327820861,17.35430384858334,17.00778827681471,16.322990978455834,15.308371610961878,13.891849508204984,12.407028041702086,12.48687724966784,12.44898001638178,12.292247346501926,12.39593370479977,12.42758472386987,12.387752572323281,12.27574142714834,12.089545212632085,11.825660293586582,11.478729954978066,11.040928559151022,10.500896513451039,9.84181963831411,9.535380577545045,9.020247339678049,8.840231312311737,9.78722073191251,10.402686987107264,10.743756807785406,11.327752006344852,11.838145532775885,18.04635410690301,22.283468435529823,24.834723327603932,27.079467345650535,28.931551205775865,30.443548662605554,31.678288550950185,32.667224954178735,33.43217787164638,33.98827383996889,34.345659264961746,33.85913007824031,33.273684849266424,32.508343756536256,32.21184190046754,31.91031613541451,31.603622664455226,30.748860365762017,29.88570469016271,28.862324804205848,27.748504153533194,26.49359389062586,25.73378632499925,25.06197834610665,24.70732475505499,24.608577142239373,24.508693039058357,24.407658492847634,24.127163115460323,23.863844387808655,23.01844537726725,22.06212310413705,21.400339185195364,20.68594475350006,19.91327836325408,19.075260200693656,18.16284669318193,17.164177813109198,16.063173774947728,14.747853145926843,13.236262885438828,13.053366589136173,12.862242256391411,12.88586635520366,11.52280497460535,9.827093091078366,8.206212953275836,10.325656028254155,11.671570233870213,12.97867747366979,14.010194564108074,14.940665405484639,16.043777395098463,16.590416843301615,16.93995582781426,17.33044062953434,17.510844915514312,16.883435056598085,16.663779635009522,16.44231295081181,16.135029358938674,15.810538824817272,15.713486410482986,15.58682135651845,15.429814399849814,15.323973780120244,15.14238285808113,14.953745926736845,14.757792798243289,14.393001172745036,13.974647302933928,13.28963298317923,12.495319468533348,11.850166956485063,11.153207749498206,10.394025555163775,10.394025555163775,10.289695632374913,10.155815813001212,9.957075546981427,9.851058493801366,9.743293449414331,9.315858281299848,9.59349860672653,9.67804349350076,9.235839580603663,8.517975415111234,8.79610268322394,9.072328617932172,9.372430682409938,11.027516133245697,12.537553589118971,14.00970999478442,15.10818144422938,16.211061836354315,17.517072706560654,18.29119559260502,18.722582022420013,18.65884947667306,18.54713217909996,18.40847443528451,18.165163941856516,17.691763133126756,17.547198420654958,17.894437586908612,18.114540739608646,18.42528341615302,18.541250376317386,18.6389247876971,18.22811488919919,20.528517590971195,22.22341495841383,23.273875394143776,24.678292150153773,25.480621439941103,25.922138720833605,26.411962415177808,27.324736803478824,31.02878585643055,33.75648903135857,38.8837085821755,46.69143796576045,47.93404088810149,49.280534381900125,49.94272443647883,50.40661594507824,51.334412736824234,51.49609827871603,50.858980490685,49.86610900788597,48.489030398283724,47.1023247833923,45.176604030452715,42.605811891064064,40.57242821220677,38.107190470007566,35.82661118450523,33.587670151516875,31.37712817346413,28.892867512651875,28.203548932962324,27.477750246715935,26.71249804350666,25.904296009047382,26.144775307167567,26.290155493307353,26.73887522458773,27.764470597985753,28.911508268249047,29.878725564848185,29.485651098285977,25.021855963582333],\"type\":\"scatter\"},{\"name\":\"50-day_Vol\",\"x\":[\"2022-04-08T00:00:00\",\"2022-04-11T00:00:00\",\"2022-04-12T00:00:00\",\"2022-04-13T00:00:00\",\"2022-04-14T00:00:00\",\"2022-04-19T00:00:00\",\"2022-04-20T00:00:00\",\"2022-04-21T00:00:00\",\"2022-04-22T00:00:00\",\"2022-04-25T00:00:00\",\"2022-04-26T00:00:00\",\"2022-04-27T00:00:00\",\"2022-04-28T00:00:00\",\"2022-04-29T00:00:00\",\"2022-05-02T00:00:00\",\"2022-05-03T00:00:00\",\"2022-05-04T00:00:00\",\"2022-05-05T00:00:00\",\"2022-05-06T00:00:00\",\"2022-05-09T00:00:00\",\"2022-05-10T00:00:00\",\"2022-05-11T00:00:00\",\"2022-05-12T00:00:00\",\"2022-05-13T00:00:00\",\"2022-05-16T00:00:00\",\"2022-05-17T00:00:00\",\"2022-05-18T00:00:00\",\"2022-05-19T00:00:00\",\"2022-05-20T00:00:00\",\"2022-05-23T00:00:00\",\"2022-05-24T00:00:00\",\"2022-05-25T00:00:00\",\"2022-05-26T00:00:00\",\"2022-05-27T00:00:00\",\"2022-05-30T00:00:00\",\"2022-05-31T00:00:00\",\"2022-06-01T00:00:00\",\"2022-06-02T00:00:00\",\"2022-06-03T00:00:00\",\"2022-06-06T00:00:00\",\"2022-06-07T00:00:00\",\"2022-06-08T00:00:00\",\"2022-06-09T00:00:00\",\"2022-06-10T00:00:00\",\"2022-06-13T00:00:00\",\"2022-06-14T00:00:00\",\"2022-06-15T00:00:00\",\"2022-06-16T00:00:00\",\"2022-06-17T00:00:00\",\"2022-06-20T00:00:00\",\"2022-06-21T00:00:00\",\"2022-06-22T00:00:00\",\"2022-06-23T00:00:00\",\"2022-06-24T00:00:00\",\"2022-06-27T00:00:00\",\"2022-06-28T00:00:00\",\"2022-06-29T00:00:00\",\"2022-06-30T00:00:00\",\"2022-07-01T00:00:00\",\"2022-07-04T00:00:00\",\"2022-07-05T00:00:00\",\"2022-07-06T00:00:00\",\"2022-07-07T00:00:00\",\"2022-07-08T00:00:00\",\"2022-07-11T00:00:00\",\"2022-07-12T00:00:00\",\"2022-07-13T00:00:00\",\"2022-07-14T00:00:00\",\"2022-07-15T00:00:00\",\"2022-07-18T00:00:00\",\"2022-07-19T00:00:00\",\"2022-07-20T00:00:00\",\"2022-07-21T00:00:00\",\"2022-07-22T00:00:00\",\"2022-07-25T00:00:00\",\"2022-07-26T00:00:00\",\"2022-07-27T00:00:00\",\"2022-07-28T00:00:00\",\"2022-07-29T00:00:00\",\"2022-08-01T00:00:00\",\"2022-08-02T00:00:00\",\"2022-08-03T00:00:00\",\"2022-08-04T00:00:00\",\"2022-08-05T00:00:00\",\"2022-08-08T00:00:00\",\"2022-08-09T00:00:00\",\"2022-08-10T00:00:00\",\"2022-08-11T00:00:00\",\"2022-08-12T00:00:00\",\"2022-08-15T00:00:00\",\"2022-08-16T00:00:00\",\"2022-08-17T00:00:00\",\"2022-08-18T00:00:00\",\"2022-08-19T00:00:00\",\"2022-08-22T00:00:00\",\"2022-08-23T00:00:00\",\"2022-08-24T00:00:00\",\"2022-08-25T00:00:00\",\"2022-08-26T00:00:00\",\"2022-08-29T00:00:00\",\"2022-08-30T00:00:00\",\"2022-08-31T00:00:00\",\"2022-09-01T00:00:00\",\"2022-09-02T00:00:00\",\"2022-09-05T00:00:00\",\"2022-09-06T00:00:00\",\"2022-09-07T00:00:00\",\"2022-09-08T00:00:00\",\"2022-09-09T00:00:00\",\"2022-09-12T00:00:00\",\"2022-09-13T00:00:00\",\"2022-09-14T00:00:00\",\"2022-09-15T00:00:00\",\"2022-09-16T00:00:00\",\"2022-09-19T00:00:00\",\"2022-09-20T00:00:00\",\"2022-09-21T00:00:00\",\"2022-09-22T00:00:00\",\"2022-09-23T00:00:00\",\"2022-09-26T00:00:00\",\"2022-09-27T00:00:00\",\"2022-09-28T00:00:00\",\"2022-09-29T00:00:00\",\"2022-09-30T00:00:00\",\"2022-10-03T00:00:00\",\"2022-10-04T00:00:00\",\"2022-10-05T00:00:00\",\"2022-10-06T00:00:00\",\"2022-10-07T00:00:00\",\"2022-10-10T00:00:00\",\"2022-10-11T00:00:00\",\"2022-10-12T00:00:00\",\"2022-10-13T00:00:00\",\"2022-10-14T00:00:00\",\"2022-10-17T00:00:00\",\"2022-10-18T00:00:00\",\"2022-10-19T00:00:00\",\"2022-10-20T00:00:00\",\"2022-10-21T00:00:00\",\"2022-10-24T00:00:00\",\"2022-10-25T00:00:00\",\"2022-10-26T00:00:00\",\"2022-10-27T00:00:00\",\"2022-10-28T00:00:00\",\"2022-10-31T00:00:00\",\"2022-11-01T00:00:00\",\"2022-11-02T00:00:00\",\"2022-11-03T00:00:00\",\"2022-11-04T00:00:00\",\"2022-11-07T00:00:00\",\"2022-11-08T00:00:00\",\"2022-11-09T00:00:00\",\"2022-11-10T00:00:00\",\"2022-11-11T00:00:00\",\"2022-11-14T00:00:00\",\"2022-11-15T00:00:00\",\"2022-11-16T00:00:00\",\"2022-11-17T00:00:00\",\"2022-11-18T00:00:00\",\"2022-11-21T00:00:00\",\"2022-11-22T00:00:00\",\"2022-11-23T00:00:00\",\"2022-11-24T00:00:00\",\"2022-11-25T00:00:00\",\"2022-11-28T00:00:00\",\"2022-11-29T00:00:00\",\"2022-11-30T00:00:00\",\"2022-12-01T00:00:00\",\"2022-12-02T00:00:00\",\"2022-12-05T00:00:00\",\"2022-12-06T00:00:00\",\"2022-12-07T00:00:00\",\"2022-12-08T00:00:00\",\"2022-12-09T00:00:00\",\"2022-12-12T00:00:00\",\"2022-12-13T00:00:00\",\"2022-12-14T00:00:00\",\"2022-12-15T00:00:00\",\"2022-12-16T00:00:00\",\"2022-12-19T00:00:00\",\"2022-12-20T00:00:00\",\"2022-12-21T00:00:00\",\"2022-12-22T00:00:00\",\"2022-12-23T00:00:00\",\"2022-12-26T00:00:00\",\"2022-12-27T00:00:00\",\"2022-12-28T00:00:00\",\"2022-12-29T00:00:00\",\"2022-12-30T00:00:00\",\"2023-01-02T00:00:00\",\"2023-01-03T00:00:00\",\"2023-01-04T00:00:00\",\"2023-01-05T00:00:00\",\"2023-01-06T00:00:00\",\"2023-01-09T00:00:00\",\"2023-01-10T00:00:00\",\"2023-01-11T00:00:00\",\"2023-01-12T00:00:00\",\"2023-01-13T00:00:00\",\"2023-01-16T00:00:00\",\"2023-01-17T00:00:00\",\"2023-01-18T00:00:00\",\"2023-01-19T00:00:00\",\"2023-01-20T00:00:00\",\"2023-01-23T00:00:00\",\"2023-01-24T00:00:00\",\"2023-01-25T00:00:00\",\"2023-01-26T00:00:00\",\"2023-01-27T00:00:00\",\"2023-01-30T00:00:00\",\"2023-01-31T00:00:00\",\"2023-02-01T00:00:00\",\"2023-02-02T00:00:00\",\"2023-02-03T00:00:00\",\"2023-02-06T00:00:00\",\"2023-02-07T00:00:00\",\"2023-02-08T00:00:00\",\"2023-02-09T00:00:00\",\"2023-02-10T00:00:00\",\"2023-02-13T00:00:00\",\"2023-02-14T00:00:00\",\"2023-02-15T00:00:00\",\"2023-02-16T00:00:00\",\"2023-02-17T00:00:00\",\"2023-02-20T00:00:00\",\"2023-02-21T00:00:00\",\"2023-02-22T00:00:00\",\"2023-02-23T00:00:00\",\"2023-02-24T00:00:00\",\"2023-02-27T00:00:00\",\"2023-02-28T00:00:00\",\"2023-03-01T00:00:00\",\"2023-03-02T00:00:00\",\"2023-03-03T00:00:00\",\"2023-03-06T00:00:00\",\"2023-03-07T00:00:00\",\"2023-03-08T00:00:00\",\"2023-03-09T00:00:00\",\"2023-03-10T00:00:00\",\"2023-03-13T00:00:00\",\"2023-03-14T00:00:00\",\"2023-03-15T00:00:00\",\"2023-03-16T00:00:00\",\"2023-03-17T00:00:00\",\"2023-03-20T00:00:00\",\"2023-03-21T00:00:00\",\"2023-03-22T00:00:00\",\"2023-03-23T00:00:00\",\"2023-03-24T00:00:00\",\"2023-03-27T00:00:00\",\"2023-03-28T00:00:00\",\"2023-03-29T00:00:00\",\"2023-03-30T00:00:00\",\"2023-03-31T00:00:00\",\"2023-04-03T00:00:00\",\"2023-04-04T00:00:00\",\"2023-04-05T00:00:00\",\"2023-04-06T00:00:00\",\"2023-04-07T00:00:00\",\"2023-04-10T00:00:00\",\"2023-04-11T00:00:00\",\"2023-04-12T00:00:00\",\"2023-04-13T00:00:00\",\"2023-04-14T00:00:00\",\"2023-04-17T00:00:00\",\"2023-04-18T00:00:00\",\"2023-04-19T00:00:00\",\"2023-04-20T00:00:00\",\"2023-04-21T00:00:00\",\"2023-04-24T00:00:00\",\"2023-04-25T00:00:00\",\"2023-04-26T00:00:00\",\"2023-04-27T00:00:00\",\"2023-04-28T00:00:00\",\"2023-05-01T00:00:00\",\"2023-05-02T00:00:00\",\"2023-05-03T00:00:00\",\"2023-05-04T00:00:00\",\"2023-05-05T00:00:00\",\"2023-05-08T00:00:00\",\"2023-05-09T00:00:00\",\"2023-05-10T00:00:00\",\"2023-05-11T00:00:00\",\"2023-05-12T00:00:00\",\"2023-05-15T00:00:00\",\"2023-05-16T00:00:00\",\"2023-05-17T00:00:00\",\"2023-05-18T00:00:00\",\"2023-05-19T00:00:00\",\"2023-05-22T00:00:00\",\"2023-05-23T00:00:00\",\"2023-05-24T00:00:00\",\"2023-05-25T00:00:00\",\"2023-05-26T00:00:00\",\"2023-05-29T00:00:00\",\"2023-05-30T00:00:00\",\"2023-05-31T00:00:00\",\"2023-06-01T00:00:00\",\"2023-06-02T00:00:00\",\"2023-06-05T00:00:00\",\"2023-06-06T00:00:00\",\"2023-06-07T00:00:00\",\"2023-06-08T00:00:00\",\"2023-06-09T00:00:00\",\"2023-06-12T00:00:00\",\"2023-06-13T00:00:00\",\"2023-06-14T00:00:00\",\"2023-06-15T00:00:00\",\"2023-06-16T00:00:00\",\"2023-06-19T00:00:00\",\"2023-06-20T00:00:00\",\"2023-06-21T00:00:00\",\"2023-06-22T00:00:00\",\"2023-06-23T00:00:00\",\"2023-06-26T00:00:00\",\"2023-06-27T00:00:00\",\"2023-06-28T00:00:00\",\"2023-06-29T00:00:00\",\"2023-06-30T00:00:00\",\"2023-07-03T00:00:00\",\"2023-07-04T00:00:00\",\"2023-07-05T00:00:00\",\"2023-07-06T00:00:00\",\"2023-07-07T00:00:00\",\"2023-07-10T00:00:00\",\"2023-07-11T00:00:00\",\"2023-07-12T00:00:00\",\"2023-07-13T00:00:00\",\"2023-07-14T00:00:00\",\"2023-07-17T00:00:00\",\"2023-07-18T00:00:00\",\"2023-07-19T00:00:00\",\"2023-07-20T00:00:00\",\"2023-07-21T00:00:00\",\"2023-07-24T00:00:00\",\"2023-07-25T00:00:00\",\"2023-07-26T00:00:00\",\"2023-07-27T00:00:00\",\"2023-07-28T00:00:00\",\"2023-07-31T00:00:00\",\"2023-08-01T00:00:00\",\"2023-08-02T00:00:00\",\"2023-08-03T00:00:00\",\"2023-08-04T00:00:00\",\"2023-08-07T00:00:00\",\"2023-08-08T00:00:00\",\"2023-08-09T00:00:00\",\"2023-08-10T00:00:00\",\"2023-08-11T00:00:00\",\"2023-08-14T00:00:00\",\"2023-08-15T00:00:00\",\"2023-08-16T00:00:00\",\"2023-08-17T00:00:00\",\"2023-08-18T00:00:00\",\"2023-08-21T00:00:00\"],\"y\":[null,null,null,null,null,null,null,null,null,null,null,null,null,null,null,null,null,null,null,null,null,null,null,null,null,null,null,null,null,null,null,null,null,null,null,null,null,null,null,null,null,null,null,null,null,null,null,null,null,50.41566338238256,50.79952868172805,51.12509280466599,51.393463731156615,51.60553375642684,51.76199488317379,51.86335039587888,51.896856221878046,51.852362117292735,51.75616485018956,51.607975297290174,51.38677122706636,50.996561228604975,50.31135316350432,48.945336564667436,47.394943672445535,45.95141658006078,44.56808723739442,43.085112112123895,41.92063930810215,40.712265964939846,39.45595881124022,38.43581254135633,38.59202878463744,38.89382029503988,39.35319518703114,39.80581579905844,40.251909981302205,40.7445000670555,41.27372045260761,42.99923587360927,44.55241696185359,45.90098038168687,47.062519208874896,48.20260810963899,49.190918151335964,50.16405229700996,50.98972585587366,51.67500777524313,52.225424842695254,52.64520735207403,53.66545177566036,54.33420390772031,54.26038412796487,54.08659723073747,53.81187468526697,53.43465969895267,52.82537945235922,52.15338066018096,51.37738273932297,50.41451066621902,49.38947140549607,48.24566331362289,46.97441127130542,45.52816898831541,43.935652948374795,42.18029871871508,40.241955717882774,38.18698506784043,35.91707950265502,33.38843084491629,30.648969220607718,27.292138585524494,24.40501646324944,21.040913206690366,18.10327515751281,17.327620395526846,16.921466501798186,17.103713882413903,17.80226390097757,18.465718043368685,18.9397812628806,19.309169546396273,19.795480003563362,20.254580434348092,20.686200369191372,20.89915992843571,21.099005392943894,21.28610613254009,21.4699896866045,21.4479409601159,21.332444103492154,21.147942149128895,20.942179583661552,20.714522855786512,20.464241286415085,20.082683372214365,19.648439414584942,19.18796944516576,18.699336122670626,18.180268739174736,16.37766859389549,14.862432025557839,14.439668575541127,13.990324207416078,13.476875432703679,12.918714000573416,12.61737577424923,12.211395146690286,11.774335286062259,11.530709307882857,11.133898046700654,10.708673387227963,10.856056900579027,11.075950781505096,11.222463442325079,11.668595214752752,12.254455749413015,12.752707275601457,13.17329441386325,13.523465320906059,13.901329843889238,14.327531937797428,14.759756095546894,15.160082924764883,15.530979179876187,15.8700445584046,16.18749517374547,16.431676725155985,16.918396580562113,17.382256963435157,17.857291427954294,18.591011653101262,19.28302362182945,19.924930542987834,20.663010429267857,21.29547235581251,22.193448840335815,23.0001888191014,23.69634329837236,24.263734843825244,24.759808446063243,25.11289025864779,25.39635744410212,25.61252149131136,25.763076568720265,25.849169094134755,25.645129863471425,25.357446919706682,24.98323094740662,24.518520113813057,23.95804905007377,23.294906862108544,22.52002537425676,22.109938941571617,21.470810085190312,21.02298334136837,20.452250312793584,20.00578773398249,19.71619276490462,19.246390385138756,18.582717777548503,17.944636285770383,18.28452976074154,21.82204913777441,24.630508955938808,26.698897248495538,28.465923989419963,29.98491477869695,31.292011303663013,32.4128585595285,33.366231432392816,34.16615242353999,34.82319793306911,35.34533673020277,35.11395693208844,34.80724431986604,34.20692035246651,33.54269092195349,33.074024766963284,32.58895693767599,32.03573406592771,31.631037650654555,31.234929623282493,30.803695974903174,30.462721480524014,30.12367080647909,29.867402680131388,29.595704321500616,29.29178334326107,28.970477583715212,28.631201761115225,28.322038364899328,28.002167773227324,27.62819677689492,27.220532691333734,26.84927453129991,26.431739037970885,25.965693850594885,25.44847399298023,24.87688772449447,24.247090547114297,23.55441359915288,22.769731788368578,21.914824727957523,20.97807631109774,20.43514409750193,19.856678617388113,19.496775557584108,19.313111016685237,19.193978966628553,19.49595122802844,19.738352080583905,19.9591268059775,19.86014242503824,19.760454014447383,19.995502351420452,20.22654832498129,20.45372756806244,20.81070397655845,21.158925168487638,21.074323578365682,20.944978941433394,20.76283011262338,20.629538461701056,20.83342095219539,21.027685831505952,21.081271308911695,20.244999382562142,19.14030899884766,17.92502241480794,17.596915314093152,17.11690893323055,16.84661899101737,16.56459757606799,16.36687071931562,16.259693592261165,15.79595540455814,15.30306901992221,14.778118235125852,14.199816145688589,13.575079320996887,13.335717078579917,13.158316490230437,12.891996686757077,12.622238028854838,12.528688507350314,12.723691344436874,12.913759273401189,13.099107112425033,13.279932497674242,13.456417746612807,13.628731468060382,13.725087821730458,14.613869390799877,15.561060604688462,16.648021117922347,17.65039963124886,18.778392788367697,19.821619690196687,20.718198522070836,21.15117777875532,21.17122794873001,21.14753025093551,21.17122794873015,21.143578052380242,20.94900696589455,20.69180738497972,20.828367503409986,20.716647032897985,20.788204931780072,21.426873146988058,22.177211759564152,22.881796414242483,24.99656276370791,26.719000863483863,28.17106684424388,29.392858826592647,30.2398862667931,31.22175580767841,32.21646927981343,33.55704365064739,36.750677836314864,39.46578310022908,43.31383810549029,49.041461248912995,50.18839251118943,51.64266259595917,52.48564456796138,53.1757305007257,54.27560383292549,54.8056191071171,55.15355732601849,55.23190071999142,55.122849812293914,55.22044885211203,54.991705608341015,54.85462058933748,54.51534096013868,53.920133795935726,53.21678682521323,52.21344900639155,51.111900766848805,49.905639246197765,49.19954268080355,48.531634454831185,47.904612363680656,47.223207369745005,46.609072078300656,45.972754664353104,45.20697828559786,44.307265125003795,42.94054228149441,41.49402056751532,40.08707272925082,38.547243370036455],\"type\":\"scatter\"},{\"name\":\"100-day_Vol\",\"x\":[\"2022-04-08T00:00:00\",\"2022-04-11T00:00:00\",\"2022-04-12T00:00:00\",\"2022-04-13T00:00:00\",\"2022-04-14T00:00:00\",\"2022-04-19T00:00:00\",\"2022-04-20T00:00:00\",\"2022-04-21T00:00:00\",\"2022-04-22T00:00:00\",\"2022-04-25T00:00:00\",\"2022-04-26T00:00:00\",\"2022-04-27T00:00:00\",\"2022-04-28T00:00:00\",\"2022-04-29T00:00:00\",\"2022-05-02T00:00:00\",\"2022-05-03T00:00:00\",\"2022-05-04T00:00:00\",\"2022-05-05T00:00:00\",\"2022-05-06T00:00:00\",\"2022-05-09T00:00:00\",\"2022-05-10T00:00:00\",\"2022-05-11T00:00:00\",\"2022-05-12T00:00:00\",\"2022-05-13T00:00:00\",\"2022-05-16T00:00:00\",\"2022-05-17T00:00:00\",\"2022-05-18T00:00:00\",\"2022-05-19T00:00:00\",\"2022-05-20T00:00:00\",\"2022-05-23T00:00:00\",\"2022-05-24T00:00:00\",\"2022-05-25T00:00:00\",\"2022-05-26T00:00:00\",\"2022-05-27T00:00:00\",\"2022-05-30T00:00:00\",\"2022-05-31T00:00:00\",\"2022-06-01T00:00:00\",\"2022-06-02T00:00:00\",\"2022-06-03T00:00:00\",\"2022-06-06T00:00:00\",\"2022-06-07T00:00:00\",\"2022-06-08T00:00:00\",\"2022-06-09T00:00:00\",\"2022-06-10T00:00:00\",\"2022-06-13T00:00:00\",\"2022-06-14T00:00:00\",\"2022-06-15T00:00:00\",\"2022-06-16T00:00:00\",\"2022-06-17T00:00:00\",\"2022-06-20T00:00:00\",\"2022-06-21T00:00:00\",\"2022-06-22T00:00:00\",\"2022-06-23T00:00:00\",\"2022-06-24T00:00:00\",\"2022-06-27T00:00:00\",\"2022-06-28T00:00:00\",\"2022-06-29T00:00:00\",\"2022-06-30T00:00:00\",\"2022-07-01T00:00:00\",\"2022-07-04T00:00:00\",\"2022-07-05T00:00:00\",\"2022-07-06T00:00:00\",\"2022-07-07T00:00:00\",\"2022-07-08T00:00:00\",\"2022-07-11T00:00:00\",\"2022-07-12T00:00:00\",\"2022-07-13T00:00:00\",\"2022-07-14T00:00:00\",\"2022-07-15T00:00:00\",\"2022-07-18T00:00:00\",\"2022-07-19T00:00:00\",\"2022-07-20T00:00:00\",\"2022-07-21T00:00:00\",\"2022-07-22T00:00:00\",\"2022-07-25T00:00:00\",\"2022-07-26T00:00:00\",\"2022-07-27T00:00:00\",\"2022-07-28T00:00:00\",\"2022-07-29T00:00:00\",\"2022-08-01T00:00:00\",\"2022-08-02T00:00:00\",\"2022-08-03T00:00:00\",\"2022-08-04T00:00:00\",\"2022-08-05T00:00:00\",\"2022-08-08T00:00:00\",\"2022-08-09T00:00:00\",\"2022-08-10T00:00:00\",\"2022-08-11T00:00:00\",\"2022-08-12T00:00:00\",\"2022-08-15T00:00:00\",\"2022-08-16T00:00:00\",\"2022-08-17T00:00:00\",\"2022-08-18T00:00:00\",\"2022-08-19T00:00:00\",\"2022-08-22T00:00:00\",\"2022-08-23T00:00:00\",\"2022-08-24T00:00:00\",\"2022-08-25T00:00:00\",\"2022-08-26T00:00:00\",\"2022-08-29T00:00:00\",\"2022-08-30T00:00:00\",\"2022-08-31T00:00:00\",\"2022-09-01T00:00:00\",\"2022-09-02T00:00:00\",\"2022-09-05T00:00:00\",\"2022-09-06T00:00:00\",\"2022-09-07T00:00:00\",\"2022-09-08T00:00:00\",\"2022-09-09T00:00:00\",\"2022-09-12T00:00:00\",\"2022-09-13T00:00:00\",\"2022-09-14T00:00:00\",\"2022-09-15T00:00:00\",\"2022-09-16T00:00:00\",\"2022-09-19T00:00:00\",\"2022-09-20T00:00:00\",\"2022-09-21T00:00:00\",\"2022-09-22T00:00:00\",\"2022-09-23T00:00:00\",\"2022-09-26T00:00:00\",\"2022-09-27T00:00:00\",\"2022-09-28T00:00:00\",\"2022-09-29T00:00:00\",\"2022-09-30T00:00:00\",\"2022-10-03T00:00:00\",\"2022-10-04T00:00:00\",\"2022-10-05T00:00:00\",\"2022-10-06T00:00:00\",\"2022-10-07T00:00:00\",\"2022-10-10T00:00:00\",\"2022-10-11T00:00:00\",\"2022-10-12T00:00:00\",\"2022-10-13T00:00:00\",\"2022-10-14T00:00:00\",\"2022-10-17T00:00:00\",\"2022-10-18T00:00:00\",\"2022-10-19T00:00:00\",\"2022-10-20T00:00:00\",\"2022-10-21T00:00:00\",\"2022-10-24T00:00:00\",\"2022-10-25T00:00:00\",\"2022-10-26T00:00:00\",\"2022-10-27T00:00:00\",\"2022-10-28T00:00:00\",\"2022-10-31T00:00:00\",\"2022-11-01T00:00:00\",\"2022-11-02T00:00:00\",\"2022-11-03T00:00:00\",\"2022-11-04T00:00:00\",\"2022-11-07T00:00:00\",\"2022-11-08T00:00:00\",\"2022-11-09T00:00:00\",\"2022-11-10T00:00:00\",\"2022-11-11T00:00:00\",\"2022-11-14T00:00:00\",\"2022-11-15T00:00:00\",\"2022-11-16T00:00:00\",\"2022-11-17T00:00:00\",\"2022-11-18T00:00:00\",\"2022-11-21T00:00:00\",\"2022-11-22T00:00:00\",\"2022-11-23T00:00:00\",\"2022-11-24T00:00:00\",\"2022-11-25T00:00:00\",\"2022-11-28T00:00:00\",\"2022-11-29T00:00:00\",\"2022-11-30T00:00:00\",\"2022-12-01T00:00:00\",\"2022-12-02T00:00:00\",\"2022-12-05T00:00:00\",\"2022-12-06T00:00:00\",\"2022-12-07T00:00:00\",\"2022-12-08T00:00:00\",\"2022-12-09T00:00:00\",\"2022-12-12T00:00:00\",\"2022-12-13T00:00:00\",\"2022-12-14T00:00:00\",\"2022-12-15T00:00:00\",\"2022-12-16T00:00:00\",\"2022-12-19T00:00:00\",\"2022-12-20T00:00:00\",\"2022-12-21T00:00:00\",\"2022-12-22T00:00:00\",\"2022-12-23T00:00:00\",\"2022-12-26T00:00:00\",\"2022-12-27T00:00:00\",\"2022-12-28T00:00:00\",\"2022-12-29T00:00:00\",\"2022-12-30T00:00:00\",\"2023-01-02T00:00:00\",\"2023-01-03T00:00:00\",\"2023-01-04T00:00:00\",\"2023-01-05T00:00:00\",\"2023-01-06T00:00:00\",\"2023-01-09T00:00:00\",\"2023-01-10T00:00:00\",\"2023-01-11T00:00:00\",\"2023-01-12T00:00:00\",\"2023-01-13T00:00:00\",\"2023-01-16T00:00:00\",\"2023-01-17T00:00:00\",\"2023-01-18T00:00:00\",\"2023-01-19T00:00:00\",\"2023-01-20T00:00:00\",\"2023-01-23T00:00:00\",\"2023-01-24T00:00:00\",\"2023-01-25T00:00:00\",\"2023-01-26T00:00:00\",\"2023-01-27T00:00:00\",\"2023-01-30T00:00:00\",\"2023-01-31T00:00:00\",\"2023-02-01T00:00:00\",\"2023-02-02T00:00:00\",\"2023-02-03T00:00:00\",\"2023-02-06T00:00:00\",\"2023-02-07T00:00:00\",\"2023-02-08T00:00:00\",\"2023-02-09T00:00:00\",\"2023-02-10T00:00:00\",\"2023-02-13T00:00:00\",\"2023-02-14T00:00:00\",\"2023-02-15T00:00:00\",\"2023-02-16T00:00:00\",\"2023-02-17T00:00:00\",\"2023-02-20T00:00:00\",\"2023-02-21T00:00:00\",\"2023-02-22T00:00:00\",\"2023-02-23T00:00:00\",\"2023-02-24T00:00:00\",\"2023-02-27T00:00:00\",\"2023-02-28T00:00:00\",\"2023-03-01T00:00:00\",\"2023-03-02T00:00:00\",\"2023-03-03T00:00:00\",\"2023-03-06T00:00:00\",\"2023-03-07T00:00:00\",\"2023-03-08T00:00:00\",\"2023-03-09T00:00:00\",\"2023-03-10T00:00:00\",\"2023-03-13T00:00:00\",\"2023-03-14T00:00:00\",\"2023-03-15T00:00:00\",\"2023-03-16T00:00:00\",\"2023-03-17T00:00:00\",\"2023-03-20T00:00:00\",\"2023-03-21T00:00:00\",\"2023-03-22T00:00:00\",\"2023-03-23T00:00:00\",\"2023-03-24T00:00:00\",\"2023-03-27T00:00:00\",\"2023-03-28T00:00:00\",\"2023-03-29T00:00:00\",\"2023-03-30T00:00:00\",\"2023-03-31T00:00:00\",\"2023-04-03T00:00:00\",\"2023-04-04T00:00:00\",\"2023-04-05T00:00:00\",\"2023-04-06T00:00:00\",\"2023-04-07T00:00:00\",\"2023-04-10T00:00:00\",\"2023-04-11T00:00:00\",\"2023-04-12T00:00:00\",\"2023-04-13T00:00:00\",\"2023-04-14T00:00:00\",\"2023-04-17T00:00:00\",\"2023-04-18T00:00:00\",\"2023-04-19T00:00:00\",\"2023-04-20T00:00:00\",\"2023-04-21T00:00:00\",\"2023-04-24T00:00:00\",\"2023-04-25T00:00:00\",\"2023-04-26T00:00:00\",\"2023-04-27T00:00:00\",\"2023-04-28T00:00:00\",\"2023-05-01T00:00:00\",\"2023-05-02T00:00:00\",\"2023-05-03T00:00:00\",\"2023-05-04T00:00:00\",\"2023-05-05T00:00:00\",\"2023-05-08T00:00:00\",\"2023-05-09T00:00:00\",\"2023-05-10T00:00:00\",\"2023-05-11T00:00:00\",\"2023-05-12T00:00:00\",\"2023-05-15T00:00:00\",\"2023-05-16T00:00:00\",\"2023-05-17T00:00:00\",\"2023-05-18T00:00:00\",\"2023-05-19T00:00:00\",\"2023-05-22T00:00:00\",\"2023-05-23T00:00:00\",\"2023-05-24T00:00:00\",\"2023-05-25T00:00:00\",\"2023-05-26T00:00:00\",\"2023-05-29T00:00:00\",\"2023-05-30T00:00:00\",\"2023-05-31T00:00:00\",\"2023-06-01T00:00:00\",\"2023-06-02T00:00:00\",\"2023-06-05T00:00:00\",\"2023-06-06T00:00:00\",\"2023-06-07T00:00:00\",\"2023-06-08T00:00:00\",\"2023-06-09T00:00:00\",\"2023-06-12T00:00:00\",\"2023-06-13T00:00:00\",\"2023-06-14T00:00:00\",\"2023-06-15T00:00:00\",\"2023-06-16T00:00:00\",\"2023-06-19T00:00:00\",\"2023-06-20T00:00:00\",\"2023-06-21T00:00:00\",\"2023-06-22T00:00:00\",\"2023-06-23T00:00:00\",\"2023-06-26T00:00:00\",\"2023-06-27T00:00:00\",\"2023-06-28T00:00:00\",\"2023-06-29T00:00:00\",\"2023-06-30T00:00:00\",\"2023-07-03T00:00:00\",\"2023-07-04T00:00:00\",\"2023-07-05T00:00:00\",\"2023-07-06T00:00:00\",\"2023-07-07T00:00:00\",\"2023-07-10T00:00:00\",\"2023-07-11T00:00:00\",\"2023-07-12T00:00:00\",\"2023-07-13T00:00:00\",\"2023-07-14T00:00:00\",\"2023-07-17T00:00:00\",\"2023-07-18T00:00:00\",\"2023-07-19T00:00:00\",\"2023-07-20T00:00:00\",\"2023-07-21T00:00:00\",\"2023-07-24T00:00:00\",\"2023-07-25T00:00:00\",\"2023-07-26T00:00:00\",\"2023-07-27T00:00:00\",\"2023-07-28T00:00:00\",\"2023-07-31T00:00:00\",\"2023-08-01T00:00:00\",\"2023-08-02T00:00:00\",\"2023-08-03T00:00:00\",\"2023-08-04T00:00:00\",\"2023-08-07T00:00:00\",\"2023-08-08T00:00:00\",\"2023-08-09T00:00:00\",\"2023-08-10T00:00:00\",\"2023-08-11T00:00:00\",\"2023-08-14T00:00:00\",\"2023-08-15T00:00:00\",\"2023-08-16T00:00:00\",\"2023-08-17T00:00:00\",\"2023-08-18T00:00:00\",\"2023-08-21T00:00:00\"],\"y\":[null,null,null,null,null,null,null,null,null,null,null,null,null,null,null,null,null,null,null,null,null,null,null,null,null,null,null,null,null,null,null,null,null,null,null,null,null,null,null,null,null,null,null,null,null,null,null,null,null,null,null,null,null,null,null,null,null,null,null,null,null,null,null,null,null,null,null,null,null,null,null,null,null,null,null,null,null,null,null,null,null,null,null,null,null,null,null,null,null,null,null,null,null,null,null,null,null,null,null,51.360491713873856,51.50180508751828,51.6416227475473,51.7799568102632,51.886445681454624,51.991951475029424,52.096480163774416,52.14957962002619,52.20235078301286,52.25479464734657,52.30691219749413,52.338436857889334,52.31225521285181,52.24693188034191,52.031397164684016,51.81236707407005,51.5918983245167,51.365808666855386,51.10907453671995,50.84559272936048,50.57525778481011,50.299923368819236,50.1045227499474,50.00448089012529,49.92804977710877,49.85070365145763,49.79427102863063,49.73748650300254,49.68965257201211,49.67374722764893,49.274893847032885,48.73980527435265,48.197149387602835,47.62744128794196,47.156232886014074,46.66223585026171,46.14471830310293,45.64180978006892,45.111261746526566,44.552086779000945,43.963192559230656,43.343367742628416,42.76265448006954,42.15221206316668,41.47199854885651,40.771689487147285,40.03991338197869,39.27491137655636,38.47470160555318,37.63703845464406,36.759361578193335,35.83873133407984,34.868885322538716,33.93640215033236,32.96670606977441,31.956409657247324,30.97822813173487,29.9819630626632,28.989229975034622,27.95252338584756,26.866753364774596,25.778269213357877,24.491945429244318,23.548266294029716,22.558105376600423,21.91033546069048,22.032820147143088,22.246325130640624,22.456666959036497,22.89988249275111,23.32786238891927,23.7414306071205,24.28890749442465,24.794847888587107,25.274560152633356,25.78470529737965,26.26533370329502,26.90324279203649,27.50277952895257,28.076980542138553,28.474134514742097,28.78540618248941,29.06183329636045,29.304401934304387,29.513946934226766,29.69116749595268,29.775305814779234,29.82588823641131,29.84308538764943,29.82695501479383,29.777442957562666,29.166487150962524,28.6958932760261,28.66897547080195,28.61263420874816,28.52669515320037,28.611249694672516,28.78872206579874,29.049341723100085,29.43908549098364,29.87749046294928,30.21138376656881,30.500761242362863,30.77946009332119,32.57127847994564,34.19217188453822,35.44611954656078,36.69565592323362,37.8465193547929,38.90746691598115,39.88567446180036,40.83388666291742,41.77855180483253,42.71652064908402,43.595088651652475,43.981450325418514,44.33155371228757,44.450036506785096,44.43611880605052,44.4170393184661,44.39279138861071,44.51389537906296,44.58434672311857,44.68920675062358,44.778155896089835,44.89337640960551,44.958976452276374,44.88152808936368,44.786756565265364,44.67455163329946,44.49736631634375,44.30047937356036,44.1412728942794,43.98062848366487,43.76670590134145,43.52509464247417,43.3407953948069,42.99405085696018,42.60862055329313,42.18344408112526,41.717306197351746,41.208816907417464,40.65638717571671,40.01864338257584,39.567976606433064,38.97239115998958,38.33732159753322,37.660770522701675,36.940458849342384,36.17377251796909,35.511243417977724,35.08124660892655,34.681367803580486,34.7046401141764,34.689348640337215,34.63544230461507,34.73946210396302,34.80735619742615,34.8393357884701,34.90085958826739,34.92398563633921,34.68457870581615,34.387620922756895,34.02739538024607,33.66935644820552,33.30485045209359,32.90610775027459,32.471867124411084,32.000683515426665,31.52111514524755,31.03957547155727,30.529609621420278,30.14030177203017,29.728565540416902,29.306143204888098,28.937010274669323,28.568662623421204,28.26658857282586,27.950413763402675,27.606683849781263,27.264677323331927,26.927709494799583,26.57114792914833,26.215606255884932,25.79625259077818,25.349562171222697,24.88727006651381,24.390371283840565,23.87507510697285,23.340163053492038,22.78425358363962,22.205769776425115,21.602898216757747,20.973535976644364,20.502151383783985,20.078913237975335,20.000907536226613,19.92251655562244,20.070988391206832,20.332473634333535,20.513958274571692,20.62596405460306,20.58167394243448,20.55594566719533,20.478688090525967,20.386281762275043,20.377945576260867,20.35835616912745,20.563748608124456,20.747489059466588,21.06540534318496,21.440315306788364,21.872415847362582,22.267584113969008,23.532175893288844,24.87006840104555,26.11009962203676,27.27213583828327,28.059430961960853,28.779179855961395,29.617666909832277,30.914424589942282,33.4366471853856,35.75874734052621,38.907528045820605,43.36286442756739,44.93174432099453,46.632697390447426,47.95092484177722,49.20852949438694,50.87764120908072,52.27279244067035,53.577410542639086,54.80867741931467,55.829179666843345,57.038252973532366,58.07304125370472,58.90986205829392,59.6373947094205,60.20480675841526,60.74175613724305,61.04465826157656,61.32715646803204,61.613745754571916,61.89917984843601,62.18822698067484,62.459506100133865,62.7132477848756,62.71384139305022,62.70621538354235,62.57395982137619,62.213813085490045,61.841382823683546,61.447824819109144,61.04908332645073,60.654376537738315],\"type\":\"scatter\"}],                        {\"template\":{\"data\":{\"histogram2dcontour\":[{\"type\":\"histogram2dcontour\",\"colorbar\":{\"outlinewidth\":0,\"ticks\":\"\"},\"colorscale\":[[0.0,\"#0d0887\"],[0.1111111111111111,\"#46039f\"],[0.2222222222222222,\"#7201a8\"],[0.3333333333333333,\"#9c179e\"],[0.4444444444444444,\"#bd3786\"],[0.5555555555555556,\"#d8576b\"],[0.6666666666666666,\"#ed7953\"],[0.7777777777777778,\"#fb9f3a\"],[0.8888888888888888,\"#fdca26\"],[1.0,\"#f0f921\"]]}],\"choropleth\":[{\"type\":\"choropleth\",\"colorbar\":{\"outlinewidth\":0,\"ticks\":\"\"}}],\"histogram2d\":[{\"type\":\"histogram2d\",\"colorbar\":{\"outlinewidth\":0,\"ticks\":\"\"},\"colorscale\":[[0.0,\"#0d0887\"],[0.1111111111111111,\"#46039f\"],[0.2222222222222222,\"#7201a8\"],[0.3333333333333333,\"#9c179e\"],[0.4444444444444444,\"#bd3786\"],[0.5555555555555556,\"#d8576b\"],[0.6666666666666666,\"#ed7953\"],[0.7777777777777778,\"#fb9f3a\"],[0.8888888888888888,\"#fdca26\"],[1.0,\"#f0f921\"]]}],\"heatmap\":[{\"type\":\"heatmap\",\"colorbar\":{\"outlinewidth\":0,\"ticks\":\"\"},\"colorscale\":[[0.0,\"#0d0887\"],[0.1111111111111111,\"#46039f\"],[0.2222222222222222,\"#7201a8\"],[0.3333333333333333,\"#9c179e\"],[0.4444444444444444,\"#bd3786\"],[0.5555555555555556,\"#d8576b\"],[0.6666666666666666,\"#ed7953\"],[0.7777777777777778,\"#fb9f3a\"],[0.8888888888888888,\"#fdca26\"],[1.0,\"#f0f921\"]]}],\"heatmapgl\":[{\"type\":\"heatmapgl\",\"colorbar\":{\"outlinewidth\":0,\"ticks\":\"\"},\"colorscale\":[[0.0,\"#0d0887\"],[0.1111111111111111,\"#46039f\"],[0.2222222222222222,\"#7201a8\"],[0.3333333333333333,\"#9c179e\"],[0.4444444444444444,\"#bd3786\"],[0.5555555555555556,\"#d8576b\"],[0.6666666666666666,\"#ed7953\"],[0.7777777777777778,\"#fb9f3a\"],[0.8888888888888888,\"#fdca26\"],[1.0,\"#f0f921\"]]}],\"contourcarpet\":[{\"type\":\"contourcarpet\",\"colorbar\":{\"outlinewidth\":0,\"ticks\":\"\"}}],\"contour\":[{\"type\":\"contour\",\"colorbar\":{\"outlinewidth\":0,\"ticks\":\"\"},\"colorscale\":[[0.0,\"#0d0887\"],[0.1111111111111111,\"#46039f\"],[0.2222222222222222,\"#7201a8\"],[0.3333333333333333,\"#9c179e\"],[0.4444444444444444,\"#bd3786\"],[0.5555555555555556,\"#d8576b\"],[0.6666666666666666,\"#ed7953\"],[0.7777777777777778,\"#fb9f3a\"],[0.8888888888888888,\"#fdca26\"],[1.0,\"#f0f921\"]]}],\"surface\":[{\"type\":\"surface\",\"colorbar\":{\"outlinewidth\":0,\"ticks\":\"\"},\"colorscale\":[[0.0,\"#0d0887\"],[0.1111111111111111,\"#46039f\"],[0.2222222222222222,\"#7201a8\"],[0.3333333333333333,\"#9c179e\"],[0.4444444444444444,\"#bd3786\"],[0.5555555555555556,\"#d8576b\"],[0.6666666666666666,\"#ed7953\"],[0.7777777777777778,\"#fb9f3a\"],[0.8888888888888888,\"#fdca26\"],[1.0,\"#f0f921\"]]}],\"mesh3d\":[{\"type\":\"mesh3d\",\"colorbar\":{\"outlinewidth\":0,\"ticks\":\"\"}}],\"scatter\":[{\"fillpattern\":{\"fillmode\":\"overlay\",\"size\":10,\"solidity\":0.2},\"type\":\"scatter\"}],\"parcoords\":[{\"type\":\"parcoords\",\"line\":{\"colorbar\":{\"outlinewidth\":0,\"ticks\":\"\"}}}],\"scatterpolargl\":[{\"type\":\"scatterpolargl\",\"marker\":{\"colorbar\":{\"outlinewidth\":0,\"ticks\":\"\"}}}],\"bar\":[{\"error_x\":{\"color\":\"#2a3f5f\"},\"error_y\":{\"color\":\"#2a3f5f\"},\"marker\":{\"line\":{\"color\":\"#E5ECF6\",\"width\":0.5},\"pattern\":{\"fillmode\":\"overlay\",\"size\":10,\"solidity\":0.2}},\"type\":\"bar\"}],\"scattergeo\":[{\"type\":\"scattergeo\",\"marker\":{\"colorbar\":{\"outlinewidth\":0,\"ticks\":\"\"}}}],\"scatterpolar\":[{\"type\":\"scatterpolar\",\"marker\":{\"colorbar\":{\"outlinewidth\":0,\"ticks\":\"\"}}}],\"histogram\":[{\"marker\":{\"pattern\":{\"fillmode\":\"overlay\",\"size\":10,\"solidity\":0.2}},\"type\":\"histogram\"}],\"scattergl\":[{\"type\":\"scattergl\",\"marker\":{\"colorbar\":{\"outlinewidth\":0,\"ticks\":\"\"}}}],\"scatter3d\":[{\"type\":\"scatter3d\",\"line\":{\"colorbar\":{\"outlinewidth\":0,\"ticks\":\"\"}},\"marker\":{\"colorbar\":{\"outlinewidth\":0,\"ticks\":\"\"}}}],\"scattermapbox\":[{\"type\":\"scattermapbox\",\"marker\":{\"colorbar\":{\"outlinewidth\":0,\"ticks\":\"\"}}}],\"scatterternary\":[{\"type\":\"scatterternary\",\"marker\":{\"colorbar\":{\"outlinewidth\":0,\"ticks\":\"\"}}}],\"scattercarpet\":[{\"type\":\"scattercarpet\",\"marker\":{\"colorbar\":{\"outlinewidth\":0,\"ticks\":\"\"}}}],\"carpet\":[{\"aaxis\":{\"endlinecolor\":\"#2a3f5f\",\"gridcolor\":\"white\",\"linecolor\":\"white\",\"minorgridcolor\":\"white\",\"startlinecolor\":\"#2a3f5f\"},\"baxis\":{\"endlinecolor\":\"#2a3f5f\",\"gridcolor\":\"white\",\"linecolor\":\"white\",\"minorgridcolor\":\"white\",\"startlinecolor\":\"#2a3f5f\"},\"type\":\"carpet\"}],\"table\":[{\"cells\":{\"fill\":{\"color\":\"#EBF0F8\"},\"line\":{\"color\":\"white\"}},\"header\":{\"fill\":{\"color\":\"#C8D4E3\"},\"line\":{\"color\":\"white\"}},\"type\":\"table\"}],\"barpolar\":[{\"marker\":{\"line\":{\"color\":\"#E5ECF6\",\"width\":0.5},\"pattern\":{\"fillmode\":\"overlay\",\"size\":10,\"solidity\":0.2}},\"type\":\"barpolar\"}],\"pie\":[{\"automargin\":true,\"type\":\"pie\"}]},\"layout\":{\"autotypenumbers\":\"strict\",\"colorway\":[\"#636efa\",\"#EF553B\",\"#00cc96\",\"#ab63fa\",\"#FFA15A\",\"#19d3f3\",\"#FF6692\",\"#B6E880\",\"#FF97FF\",\"#FECB52\"],\"font\":{\"color\":\"#2a3f5f\"},\"hovermode\":\"closest\",\"hoverlabel\":{\"align\":\"left\"},\"paper_bgcolor\":\"white\",\"plot_bgcolor\":\"#E5ECF6\",\"polar\":{\"bgcolor\":\"#E5ECF6\",\"angularaxis\":{\"gridcolor\":\"white\",\"linecolor\":\"white\",\"ticks\":\"\"},\"radialaxis\":{\"gridcolor\":\"white\",\"linecolor\":\"white\",\"ticks\":\"\"}},\"ternary\":{\"bgcolor\":\"#E5ECF6\",\"aaxis\":{\"gridcolor\":\"white\",\"linecolor\":\"white\",\"ticks\":\"\"},\"baxis\":{\"gridcolor\":\"white\",\"linecolor\":\"white\",\"ticks\":\"\"},\"caxis\":{\"gridcolor\":\"white\",\"linecolor\":\"white\",\"ticks\":\"\"}},\"coloraxis\":{\"colorbar\":{\"outlinewidth\":0,\"ticks\":\"\"}},\"colorscale\":{\"sequential\":[[0.0,\"#0d0887\"],[0.1111111111111111,\"#46039f\"],[0.2222222222222222,\"#7201a8\"],[0.3333333333333333,\"#9c179e\"],[0.4444444444444444,\"#bd3786\"],[0.5555555555555556,\"#d8576b\"],[0.6666666666666666,\"#ed7953\"],[0.7777777777777778,\"#fb9f3a\"],[0.8888888888888888,\"#fdca26\"],[1.0,\"#f0f921\"]],\"sequentialminus\":[[0.0,\"#0d0887\"],[0.1111111111111111,\"#46039f\"],[0.2222222222222222,\"#7201a8\"],[0.3333333333333333,\"#9c179e\"],[0.4444444444444444,\"#bd3786\"],[0.5555555555555556,\"#d8576b\"],[0.6666666666666666,\"#ed7953\"],[0.7777777777777778,\"#fb9f3a\"],[0.8888888888888888,\"#fdca26\"],[1.0,\"#f0f921\"]],\"diverging\":[[0,\"#8e0152\"],[0.1,\"#c51b7d\"],[0.2,\"#de77ae\"],[0.3,\"#f1b6da\"],[0.4,\"#fde0ef\"],[0.5,\"#f7f7f7\"],[0.6,\"#e6f5d0\"],[0.7,\"#b8e186\"],[0.8,\"#7fbc41\"],[0.9,\"#4d9221\"],[1,\"#276419\"]]},\"xaxis\":{\"gridcolor\":\"white\",\"linecolor\":\"white\",\"ticks\":\"\",\"title\":{\"standoff\":15},\"zerolinecolor\":\"white\",\"automargin\":true,\"zerolinewidth\":2},\"yaxis\":{\"gridcolor\":\"white\",\"linecolor\":\"white\",\"ticks\":\"\",\"title\":{\"standoff\":15},\"zerolinecolor\":\"white\",\"automargin\":true,\"zerolinewidth\":2},\"scene\":{\"xaxis\":{\"backgroundcolor\":\"#E5ECF6\",\"gridcolor\":\"white\",\"linecolor\":\"white\",\"showbackground\":true,\"ticks\":\"\",\"zerolinecolor\":\"white\",\"gridwidth\":2},\"yaxis\":{\"backgroundcolor\":\"#E5ECF6\",\"gridcolor\":\"white\",\"linecolor\":\"white\",\"showbackground\":true,\"ticks\":\"\",\"zerolinecolor\":\"white\",\"gridwidth\":2},\"zaxis\":{\"backgroundcolor\":\"#E5ECF6\",\"gridcolor\":\"white\",\"linecolor\":\"white\",\"showbackground\":true,\"ticks\":\"\",\"zerolinecolor\":\"white\",\"gridwidth\":2}},\"shapedefaults\":{\"line\":{\"color\":\"#2a3f5f\"}},\"annotationdefaults\":{\"arrowcolor\":\"#2a3f5f\",\"arrowhead\":0,\"arrowwidth\":1},\"geo\":{\"bgcolor\":\"white\",\"landcolor\":\"#E5ECF6\",\"subunitcolor\":\"white\",\"showland\":true,\"showlakes\":true,\"lakecolor\":\"white\"},\"title\":{\"x\":0.05},\"mapbox\":{\"style\":\"light\"}}}},                        {\"responsive\": true}                    ).then(function(){\n",
       "                            \n",
       "var gd = document.getElementById('ac100082-cc88-415d-b28b-7cf2b600ebf8');\n",
       "var x = new MutationObserver(function (mutations, observer) {{\n",
       "        var display = window.getComputedStyle(gd).display;\n",
       "        if (!display || display === 'none') {{\n",
       "            console.log([gd, 'removed!']);\n",
       "            Plotly.purge(gd);\n",
       "            observer.disconnect();\n",
       "        }}\n",
       "}});\n",
       "\n",
       "// Listen for the removal of the full notebook cells\n",
       "var notebookContainer = gd.closest('#notebook-container');\n",
       "if (notebookContainer) {{\n",
       "    x.observe(notebookContainer, {childList: true});\n",
       "}}\n",
       "\n",
       "// Listen for the clearing of the current output cell\n",
       "var outputEl = gd.closest('.output');\n",
       "if (outputEl) {{\n",
       "    x.observe(outputEl, {childList: true});\n",
       "}}\n",
       "\n",
       "                        })                };                });            </script>        </div>"
      ]
     },
     "metadata": {},
     "output_type": "display_data"
    }
   ],
   "source": [
    "histvol = Position_Reporting(positions, 'ACCU', current_date).rolling_vol()\n",
    "\n",
    "fig = go.Figure()\n",
    "for i in list(histvol)[1:]:\n",
    "    fig.add_trace(go.Scatter(x=histvol['Date'], y=histvol[i], name=i))#, base=0))\n",
    "    \n",
    "fig.show()"
   ]
  },
  {
   "cell_type": "markdown",
   "id": "899f2807",
   "metadata": {},
   "source": [
    "# Issuances\n",
    "## Most Recent Issuance"
   ]
  },
  {
   "cell_type": "code",
   "execution_count": null,
   "id": "28264fc1",
   "metadata": {},
   "outputs": [],
   "source": []
  }
 ],
 "metadata": {
  "kernelspec": {
   "display_name": "Python 3 (ipykernel)",
   "language": "python",
   "name": "python3"
  },
  "language_info": {
   "codemirror_mode": {
    "name": "ipython",
    "version": 3
   },
   "file_extension": ".py",
   "mimetype": "text/x-python",
   "name": "python",
   "nbconvert_exporter": "python",
   "pygments_lexer": "ipython3",
   "version": "3.8.16"
  },
  "toc": {
   "base_numbering": 1,
   "nav_menu": {},
   "number_sections": true,
   "sideBar": true,
   "skip_h1_title": false,
   "title_cell": "Table of Contents",
   "title_sidebar": "Contents",
   "toc_cell": false,
   "toc_position": {},
   "toc_section_display": true,
   "toc_window_display": false
  },
  "varInspector": {
   "cols": {
    "lenName": 16,
    "lenType": 16,
    "lenVar": 40
   },
   "kernels_config": {
    "python": {
     "delete_cmd_postfix": "",
     "delete_cmd_prefix": "del ",
     "library": "var_list.py",
     "varRefreshCmd": "print(var_dic_list())"
    },
    "r": {
     "delete_cmd_postfix": ") ",
     "delete_cmd_prefix": "rm(",
     "library": "var_list.r",
     "varRefreshCmd": "cat(var_dic_list()) "
    }
   },
   "types_to_exclude": [
    "module",
    "function",
    "builtin_function_or_method",
    "instance",
    "_Feature"
   ],
   "window_display": false
  }
 },
 "nbformat": 4,
 "nbformat_minor": 5
}
