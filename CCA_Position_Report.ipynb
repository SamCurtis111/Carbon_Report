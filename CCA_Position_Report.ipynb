{
 "cells": [
  {
   "cell_type": "code",
   "execution_count": 1,
   "id": "bba20152",
   "metadata": {},
   "outputs": [],
   "source": [
    "import warnings\n",
    "warnings.filterwarnings('ignore', category=RuntimeWarning)\n",
    "\n",
    "import pandas as pd\n",
    "import plotly.graph_objects as go\n",
    "from plotly.subplots import make_subplots\n",
    "import plotly\n",
    "\n",
    "import datetime as dt\n",
    "from datetime import datetime, timedelta\n",
    "import calendar\n",
    "\n",
    "import openpyxl\n",
    "from openpyxl.utils.dataframe import dataframe_to_rows\n",
    "\n",
    "from Position_Report_Calcs import Position_Reporting"
   ]
  },
  {
   "cell_type": "code",
   "execution_count": 2,
   "id": "9b481c4e",
   "metadata": {},
   "outputs": [
    {
     "data": {
      "text/html": [
       "        <script type=\"text/javascript\">\n",
       "        window.PlotlyConfig = {MathJaxConfig: 'local'};\n",
       "        if (window.MathJax && window.MathJax.Hub && window.MathJax.Hub.Config) {window.MathJax.Hub.Config({SVG: {font: \"STIX-Web\"}});}\n",
       "        if (typeof require !== 'undefined') {\n",
       "        require.undef(\"plotly\");\n",
       "        requirejs.config({\n",
       "            paths: {\n",
       "                'plotly': ['https://cdn.plot.ly/plotly-2.12.1.min']\n",
       "            }\n",
       "        });\n",
       "        require(['plotly'], function(Plotly) {\n",
       "            window._Plotly = Plotly;\n",
       "        });\n",
       "        }\n",
       "        </script>\n",
       "        "
      ]
     },
     "metadata": {},
     "output_type": "display_data"
    }
   ],
   "source": [
    "plotly.offline.init_notebook_mode(connected=True)"
   ]
  },
  {
   "cell_type": "code",
   "execution_count": 3,
   "id": "f43d6000",
   "metadata": {},
   "outputs": [],
   "source": [
    "def reporting_date(run_date='today'):\n",
    "    if run_date=='today':\n",
    "        current_date = dt.datetime.today().date()\n",
    "        current_year = current_date.year\n",
    "    else:\n",
    "        current_date = run_date\n",
    "        current_year = current_date.year\n",
    "    return current_date, current_year\n",
    "        \n",
    "#current_date, current_year = reporting_date(run_date = dt.datetime.strptime('21-06-2024', '%d-%m-%Y').date())    # for a specific date\n",
    "current_date, current_year = reporting_date()    # as at today"
   ]
  },
  {
   "cell_type": "code",
   "execution_count": 4,
   "id": "8c664bd8",
   "metadata": {},
   "outputs": [],
   "source": [
    "def get_month_year(months_fwd):   # This is incase the months fwd overlaps into a different year\n",
    "    current_date = dt.datetime.today().date()\n",
    "    month = current_date.month + months_fwd\n",
    "    year = current_date.year\n",
    "    if month > 12:\n",
    "        month -=12\n",
    "        year += 1\n",
    "        \n",
    "    _, last_day_of_month = calendar.monthrange(year, month)\n",
    "    date_to_use = dt.date(year, month, last_day_of_month)\n",
    "    return date_to_use"
   ]
  },
  {
   "cell_type": "code",
   "execution_count": 17,
   "id": "700cd579",
   "metadata": {},
   "outputs": [],
   "source": [
    "## Define the dates we want to use for reporting\n",
    "#current_date = dt.datetime.today().date()\n",
    "#current_year = str(dt.datetime.today().date().year)\n",
    "\n",
    "_, last_day = calendar.monthrange(current_date.year, current_date.month)\n",
    "end_of_month = dt.date(current_date.year, current_date.month, last_day)\n",
    "two_months = get_month_year(2)\n",
    "three_months = get_month_year(3)\n",
    "four_months = get_month_year(4)\n",
    "five_months = get_month_year(5)\n",
    "six_months = get_month_year(6)\n",
    "\n",
    "dec_exp = dt.datetime.strptime('16-12-2024', '%d-%m-%Y').date()\n",
    "\n",
    "## TO GET END OF NEXT WEEK ##\n",
    "# Get the current date\n",
    "today = datetime.now()\n",
    "# Calculate the number of days until the next Saturday (because we want the full friday session)\n",
    "days_until_saturday = (5 - today.weekday()) % 7  # Saturday is weekday 5\n",
    "# Get the date of the end of the current week (this coming Saturday)\n",
    "end_of_this_week_saturday = today + timedelta(days=days_until_saturday)\n",
    "# Get the end of next week by adding 7 more days\n",
    "end_this_wk = end_of_this_week_saturday.date()\n",
    "end_next_wk= end_of_this_week_saturday + timedelta(weeks=1)\n",
    "end_next_wk = end_next_wk.date()\n",
    "end_two_wk = end_of_this_week_saturday + timedelta(weeks=2)\n",
    "end_two_wk = end_two_wk.date()\n",
    "\n",
    "dates_names = ['today','End of This Wk','End of Next Wk','End of 2 Wks','EoM','2 Months','3 Months','4 Months', '5 Months', '6 Months', 'Dec Expiry']\n",
    "dates_values = [current_date, end_this_wk, end_next_wk, end_two_wk, end_of_month, two_months, three_months, four_months, five_months, six_months, dec_exp]"
   ]
  },
  {
   "cell_type": "code",
   "execution_count": 18,
   "id": "3ca5488c",
   "metadata": {},
   "outputs": [],
   "source": [
    "## Read in the position data\n",
    "mkts = ['ACCU','NZU','CCA']\n",
    "\n",
    "positions = dict()\n",
    "for m in mkts:\n",
    "    positions[m] = pd.read_excel('Positions.xlsx', sheet_name=m)\n",
    "    positions[m]['Expiry'] = pd.to_datetime(positions[m].Expiry).dt.date\n",
    "    positions[m] = positions[m][~((positions[m]['Type'] == 'Option') & (positions[m]['Expiry'] < current_date))] # remove expired options\n",
    "\n",
    "premiums = pd.read_excel('Positions.xlsx', sheet_name='Index') "
   ]
  },
  {
   "cell_type": "code",
   "execution_count": 19,
   "id": "57bfbb22",
   "metadata": {},
   "outputs": [
    {
     "data": {
      "text/html": [
       "<div>\n",
       "<style scoped>\n",
       "    .dataframe tbody tr th:only-of-type {\n",
       "        vertical-align: middle;\n",
       "    }\n",
       "\n",
       "    .dataframe tbody tr th {\n",
       "        vertical-align: top;\n",
       "    }\n",
       "\n",
       "    .dataframe thead th {\n",
       "        text-align: right;\n",
       "    }\n",
       "</style>\n",
       "<table border=\"1\" class=\"dataframe\">\n",
       "  <thead>\n",
       "    <tr style=\"text-align: right;\">\n",
       "      <th></th>\n",
       "      <th>Market</th>\n",
       "      <th>1% Move (Adj for FUM FX)</th>\n",
       "      <th>AUD Required Return</th>\n",
       "      <th>Required Delta</th>\n",
       "      <th>Current Delta</th>\n",
       "      <th>Actual Weight (% FUM)</th>\n",
       "      <th>Over / Under Weight</th>\n",
       "    </tr>\n",
       "  </thead>\n",
       "  <tbody>\n",
       "    <tr>\n",
       "      <th>0</th>\n",
       "      <td>EUA</td>\n",
       "      <td>0.6458</td>\n",
       "      <td>11081.998992</td>\n",
       "      <td>16232.604353</td>\n",
       "      <td>13.209513</td>\n",
       "      <td>0.135627</td>\n",
       "      <td>-0.031039</td>\n",
       "    </tr>\n",
       "    <tr>\n",
       "      <th>1</th>\n",
       "      <td>UKA</td>\n",
       "      <td>0.0014</td>\n",
       "      <td>9232.833894</td>\n",
       "      <td>24144.441448</td>\n",
       "      <td>26.259119</td>\n",
       "      <td>0.000237</td>\n",
       "      <td>-0.166430</td>\n",
       "    </tr>\n",
       "    <tr>\n",
       "      <th>2</th>\n",
       "      <td>ACCU</td>\n",
       "      <td>0.3850</td>\n",
       "      <td>18116.666667</td>\n",
       "      <td>43866.020985</td>\n",
       "      <td>58.988747</td>\n",
       "      <td>0.224667</td>\n",
       "      <td>0.058001</td>\n",
       "    </tr>\n",
       "    <tr>\n",
       "      <th>3</th>\n",
       "      <td>LGC</td>\n",
       "      <td>NaN</td>\n",
       "      <td>NaN</td>\n",
       "      <td>NaN</td>\n",
       "      <td>NaN</td>\n",
       "      <td>NaN</td>\n",
       "      <td>NaN</td>\n",
       "    </tr>\n",
       "    <tr>\n",
       "      <th>4</th>\n",
       "      <td>NZU</td>\n",
       "      <td>0.6370</td>\n",
       "      <td>19994.113968</td>\n",
       "      <td>31289.693221</td>\n",
       "      <td>62.425506</td>\n",
       "      <td>0.332514</td>\n",
       "      <td>0.165847</td>\n",
       "    </tr>\n",
       "    <tr>\n",
       "      <th>5</th>\n",
       "      <td>CCA</td>\n",
       "      <td>0.0204</td>\n",
       "      <td>11724.200833</td>\n",
       "      <td>33973.343475</td>\n",
       "      <td>21.547671</td>\n",
       "      <td>0.002328</td>\n",
       "      <td>-0.164339</td>\n",
       "    </tr>\n",
       "  </tbody>\n",
       "</table>\n",
       "</div>"
      ],
      "text/plain": [
       "  Market  1% Move (Adj for FUM FX)  AUD Required Return  Required Delta  \\\n",
       "0    EUA                    0.6458         11081.998992    16232.604353   \n",
       "1    UKA                    0.0014          9232.833894    24144.441448   \n",
       "2   ACCU                    0.3850         18116.666667    43866.020985   \n",
       "3    LGC                       NaN                  NaN             NaN   \n",
       "4    NZU                    0.6370         19994.113968    31289.693221   \n",
       "5    CCA                    0.0204         11724.200833    33973.343475   \n",
       "\n",
       "   Current Delta  Actual Weight (% FUM)  Over / Under Weight  \n",
       "0      13.209513               0.135627            -0.031039  \n",
       "1      26.259119               0.000237            -0.166430  \n",
       "2      58.988747               0.224667             0.058001  \n",
       "3            NaN                    NaN                  NaN  \n",
       "4      62.425506               0.332514             0.165847  \n",
       "5      21.547671               0.002328            -0.164339  "
      ]
     },
     "execution_count": 19,
     "metadata": {},
     "output_type": "execute_result"
    }
   ],
   "source": [
    "beta = pd.read_excel('Positions.xlsx', sheet_name='Allocation')\n",
    "beta"
   ]
  },
  {
   "cell_type": "code",
   "execution_count": 20,
   "id": "3679bbc8",
   "metadata": {},
   "outputs": [],
   "source": [
    "dates = dict()\n",
    "for i in list(range(0,len(dates_names))):\n",
    "    dates[dates_names[i]] = dates_values[i]"
   ]
  },
  {
   "cell_type": "code",
   "execution_count": 21,
   "id": "0d6f379e",
   "metadata": {},
   "outputs": [],
   "source": [
    "current_spot = positions['CCA']\n",
    "current_spot = current_spot[current_spot.Type=='Spot'].reset_index(drop=True)\n",
    "current_spot = current_spot['Price'][0]"
   ]
  },
  {
   "cell_type": "markdown",
   "id": "756bb0ec",
   "metadata": {},
   "source": [
    "# CCA Position Report\n",
    "All PnL figures are in AUD"
   ]
  },
  {
   "cell_type": "code",
   "execution_count": 22,
   "id": "d8fb018a",
   "metadata": {},
   "outputs": [
    {
     "name": "stdout",
     "output_type": "stream",
     "text": [
      "Report as at 15-11-2024\n"
     ]
    }
   ],
   "source": [
    "z = current_date.strftime('%d-%m-%Y')\n",
    "print('Report as at {}'.format(z))"
   ]
  },
  {
   "cell_type": "code",
   "execution_count": 23,
   "id": "659c3281",
   "metadata": {},
   "outputs": [],
   "source": [
    "CCAs = dict()\n",
    "workbook = openpyxl.Workbook()\n",
    "\n",
    "for i,d in enumerate(dates_values):\n",
    "    CCAs[d] = Position_Reporting(positions, 'CCA', d).combine_frame()\n",
    "    \n",
    "    # Generate an excel file\n",
    "    sheet_name = dates_names[i]\n",
    "    sheet = workbook.create_sheet(title=sheet_name)    \n",
    "    for row in dataframe_to_rows(CCAs[d][0], index=False, header=True):\n",
    "        sheet.append(row)\n",
    "    \n",
    "workbook.save('CCA PnL Output.xlsx')\n",
    "\n",
    "beta_pnl = Position_Reporting(positions, 'CCA', d).beta_pnl()\n"
   ]
  },
  {
   "cell_type": "code",
   "execution_count": 24,
   "id": "fb9d8c7f",
   "metadata": {},
   "outputs": [],
   "source": [
    "# data type; 0=PnL, 1=Delta, 2=Option Theta, 3=Option Vega\n",
    "def generate_summary_plots(mkt_data, data_type):\n",
    "    if data_type==0:\n",
    "        colname='Total_Pnl'\n",
    "    elif data_type==1:\n",
    "        colname='Total_Delta'\n",
    "    elif data_type==2:\n",
    "        colname='Option_Theta'\n",
    "    elif data_type==3:\n",
    "        colname='Option_Vega'\n",
    "    fig = go.Figure()\n",
    "    for i in list(range(0, len(dates_names))):\n",
    "        date_value = dates_values[i]\n",
    "        date_name = dates_names[i]\n",
    "        fig.add_trace(go.Scatter(x=mkt_data[date_value][data_type].Price, y=mkt_data[date_value][data_type][colname], name=date_name))\n",
    "    return fig"
   ]
  },
  {
   "cell_type": "code",
   "execution_count": 25,
   "id": "eb8ac28f",
   "metadata": {},
   "outputs": [],
   "source": [
    "beta_pnl = Position_Reporting(positions,'CCA',d).beta_pnl()\n",
    "\n",
    "beta_delta = Position_Reporting(positions,'CCA',d).beta_units()\n",
    "beta_delta = beta_delta['CCA']\n",
    "delta_frame = pd.DataFrame()\n",
    "delta_frame['Price'] = beta_pnl.Price\n",
    "delta_frame['Beta'] = beta_delta"
   ]
  },
  {
   "cell_type": "code",
   "execution_count": 26,
   "id": "4708cc1d",
   "metadata": {},
   "outputs": [],
   "source": [
    "fig_d = generate_summary_plots(CCAs, 1)\n",
    "fig_d = fig_d.add_trace(go.Scatter(x=delta_frame['Price'], y=delta_frame['Beta'], name='Beta'))\n",
    "\n",
    "fig_p = generate_summary_plots(CCAs, 0)\n",
    "fig_p = fig_p.add_trace(go.Scatter(x=beta_pnl['Price'], y=beta_pnl['Spot'], name='Beta'))\n",
    "\n",
    "fig_t = generate_summary_plots(CCAs,2)\n",
    "fig_v = generate_summary_plots(CCAs,3)"
   ]
  },
  {
   "cell_type": "code",
   "execution_count": 27,
   "id": "ff94b9f0",
   "metadata": {
    "scrolled": false
   },
   "outputs": [
    {
     "data": {
      "application/vnd.plotly.v1+json": {
       "config": {
        "plotlyServerURL": "https://plot.ly"
       },
       "data": [
        {
         "name": "today",
         "type": "scatter",
         "x": [
          20,
          21,
          22,
          23,
          24,
          25,
          26,
          27,
          28,
          29,
          30,
          31,
          32,
          33,
          34,
          35,
          36,
          37,
          38,
          39,
          40,
          41,
          42,
          43,
          44,
          45,
          46,
          47,
          48,
          49,
          50,
          51,
          52,
          53,
          54,
          55
         ],
         "xaxis": "x",
         "y": [
          796708.2511318555,
          718043.002240441,
          642308.6968270673,
          570358.8191313692,
          502764.06883670005,
          439626.6516710891,
          380514.09223829745,
          324565.9306215353,
          270774.958865735,
          218387.9645878711,
          167326.1358965935,
          118505.36378602865,
          73950.38655602752,
          36645.60559362822,
          10138.79041611822,
          -2011.846758023532,
          3190.2636289209186,
          27727.44889598277,
          72329.87496200745,
          136479.25992700426,
          218615.50016359036,
          316465.89460811205,
          427406.9349001059,
          548785.2587223273,
          678154.5564796772,
          813416.0211940365,
          952872.8201816287,
          1095221.1201757584,
          1239502.747351833,
          1385040.9686025542,
          1531374.627753255,
          1678199.5251844325,
          1825320.8723963662,
          1972617.2978449333,
          2120015.0537191,
          2267470.358696216
         ],
         "yaxis": "y"
        },
        {
         "name": "today",
         "type": "scatter",
         "x": [
          20,
          21,
          22,
          23,
          24,
          25,
          26,
          27,
          28,
          29,
          30,
          31,
          32,
          33,
          34,
          35,
          36,
          37,
          38,
          39,
          40,
          41,
          42,
          43,
          44,
          45,
          46,
          47,
          48,
          49,
          50,
          51,
          52,
          53,
          54,
          55
         ],
         "xaxis": "x2",
         "y": [
          -51922.4328201864,
          -50316.77545054461,
          -48112.88950279794,
          -45421.78593426718,
          -42496.84467176405,
          -39681.34091762422,
          -37308.51759245088,
          -35582.24846141684,
          -34475.56963576932,
          -33681.73413103541,
          -32640.03142409912,
          -30639.025375160003,
          -26976.40939810982,
          -21133.722297095926,
          -12914.78033365507,
          -2505.5504398606863,
          9561.213815162628,
          22521.463203924166,
          35536.22211854171,
          47842.35000929733,
          58861.14836078493,
          68248.12372232147,
          75887.34869947989,
          81847.21056420647,
          86318.62336220036,
          89553.77563671762,
          91816.80969467762,
          93350.86739930262,
          94360.74905237618,
          95007.6352017663,
          95411.55863302102,
          95657.82839056177,
          95804.66645671494,
          95890.41154943823,
          95939.514524951,
          95967.12542906558
         ],
         "yaxis": "y2"
        },
        {
         "name": "End of Next Wk",
         "type": "scatter",
         "x": [
          20,
          21,
          22,
          23,
          24,
          25,
          26,
          27,
          28,
          29,
          30,
          31,
          32,
          33,
          34,
          35,
          36,
          37,
          38,
          39,
          40,
          41,
          42,
          43,
          44,
          45,
          46,
          47,
          48,
          49,
          50,
          51,
          52,
          53,
          54,
          55
         ],
         "xaxis": "x",
         "y": [
          795095.7762037064,
          714500.953879549,
          636329.602419643,
          561814.4807388857,
          492105.0557841414,
          427899.61112605786,
          369134.4421594996,
          314884.372350915,
          263567.67315114895,
          213442.2990082155,
          163275.872553131,
          113004.0854657207,
          64174.605193056355,
          20010.330937287596,
          -14980.646478431252,
          -35783.38874555609,
          -37839.86451124535,
          -17920.76685361657,
          25339.614485266105,
          91363.04951852416,
          177959.2359079309,
          281908.5073698106,
          399597.09248060244,
          527545.9697776695,
          662752.5545059636,
          802840.3462571589,
          946060.2132483062,
          1091203.5116819008,
          1237480.553967593,
          1384400.7372973994,
          1531672.9066139637,
          1679131.3579594006,
          1826685.346446676,
          1974286.9117292776,
          2121911.5257828054,
          2269547.0212386614
         ],
         "yaxis": "y"
        },
        {
         "name": "End of Next Wk",
         "type": "scatter",
         "x": [
          20,
          21,
          22,
          23,
          24,
          25,
          26,
          27,
          28,
          29,
          30,
          31,
          32,
          33,
          34,
          35,
          36,
          37,
          38,
          39,
          40,
          41,
          42,
          43,
          44,
          45,
          46,
          47,
          48,
          49,
          50,
          51,
          52,
          53,
          54,
          55
         ],
         "xaxis": "x2",
         "y": [
          -52936.2344010239,
          -51728.028462584036,
          -49760.23486466613,
          -46980.27886789427,
          -43559.54041593839,
          -39907.750357920966,
          -36582.747154390876,
          -34112.703134262985,
          -32790.02717039925,
          -32510.40127539489,
          -32715.448945976503,
          -32467.34468570482,
          -30649.50939278683,
          -26250.918101320116,
          -18655.922247056875,
          -7843.502529879075,
          5579.865147508977,
          20529.4656462496,
          35717.06578270129,
          49949.19252601519,
          62351.37857276268,
          72465.88213556909,
          80226.67064872828,
          85854.76527952065,
          89727.89376592686,
          92266.42817696555,
          93856.28973256378,
          94810.63713161249,
          95361.23908359004,
          95667.34759990752,
          95831.73193730638,
          95917.1913852701,
          95960.29111429463,
          95981.41835085228,
          95991.50268764615,
          95996.19751830268
         ],
         "yaxis": "y2"
        },
        {
         "name": "End of 2 Wks",
         "type": "scatter",
         "x": [
          20,
          21,
          22,
          23,
          24,
          25,
          26,
          27,
          28,
          29,
          30,
          31,
          32,
          33,
          34,
          35,
          36,
          37,
          38,
          39,
          40,
          41,
          42,
          43,
          44,
          45,
          46,
          47,
          48,
          49,
          50,
          51,
          52,
          53,
          54,
          55
         ],
         "xaxis": "x",
         "y": [
          794578.443098983,
          712434.9698467744,
          631841.5236515761,
          554209.9371799416,
          481319.03751537483,
          414833.4896934233,
          355628.84013443266,
          303225.2246416821,
          255662.89159621042,
          209987.09936552792,
          163239.26114344646,
          113639.01300634132,
          61582.65572645067,
          10143.331082495824,
          -35133.99637752159,
          -67195.47113202172,
          -79014.36681904897,
          -65247.82885619436,
          -23437.412195985813,
          45663.73289267419,
          138668.68167410148,
          250695.85983701283,
          376576.2638561683,
          511746.20426801045,
          652683.1393361061,
          796951.0344457015,
          943017.1593406508,
          1089994.5235604607,
          1237407.0641628865,
          1385016.1968648338,
          1532709.6344458866,
          1680437.5027078893,
          1828178.8039855484,
          1975925.126138084,
          2123673.2510011345,
          2271421.999170033
         ],
         "yaxis": "y"
        },
        {
         "name": "End of 2 Wks",
         "type": "scatter",
         "x": [
          20,
          21,
          22,
          23,
          24,
          25,
          26,
          27,
          28,
          29,
          30,
          31,
          32,
          33,
          34,
          35,
          36,
          37,
          38,
          39,
          40,
          41,
          42,
          43,
          44,
          45,
          46,
          47,
          48,
          49,
          50,
          51,
          52,
          53,
          54,
          55
         ],
         "xaxis": "x2",
         "y": [
          -53647.85125173929,
          -52983.320636649725,
          -51572.512086897,
          -49089.76613629338,
          -45420.74357898094,
          -40851.785561901466,
          -36111.22712663703,
          -32182.632808532362,
          -29936.18912893491,
          -29736.709853627053,
          -31202.049300920346,
          -33202.77876783625,
          -34094.02187684545,
          -32119.818885036162,
          -25909.333711159445,
          -14939.324213727643,
          215.06257019816076,
          17990.1856347436,
          36299.546449634974,
          53158.75891467362,
          67193.2121909389,
          77842.77111021598,
          85258.60633809849,
          90025.24141855253,
          92868.18843096623,
          94449.17480370194,
          95272.62399974011,
          95675.99973958798,
          95862.56986193391,
          95944.34434453853,
          95978.42573316081,
          95991.97525421088,
          95997.12908954776,
          95999.00990050429,
          95999.67013305478,
          95999.89361459603
         ],
         "yaxis": "y2"
        },
        {
         "name": "EoM",
         "type": "scatter",
         "x": [
          20,
          21,
          22,
          23,
          24,
          25,
          26,
          27,
          28,
          29,
          30,
          31,
          32,
          33,
          34,
          35,
          36,
          37,
          38,
          39,
          40,
          41,
          42,
          43,
          44,
          45,
          46,
          47,
          48,
          49,
          50,
          51,
          52,
          53,
          54,
          55
         ],
         "xaxis": "x",
         "y": [
          794578.443098983,
          712434.9698467744,
          631841.5236515761,
          554209.9371799416,
          481319.03751537483,
          414833.4896934233,
          355628.84013443266,
          303225.2246416821,
          255662.89159621042,
          209987.09936552792,
          163239.26114344646,
          113639.01300634132,
          61582.65572645067,
          10143.331082495824,
          -35133.99637752159,
          -67195.47113202172,
          -79014.36681904897,
          -65247.82885619436,
          -23437.412195985813,
          45663.73289267419,
          138668.68167410148,
          250695.85983701283,
          376576.2638561683,
          511746.20426801045,
          652683.1393361061,
          796951.0344457015,
          943017.1593406508,
          1089994.5235604607,
          1237407.0641628865,
          1385016.1968648338,
          1532709.6344458866,
          1680437.5027078893,
          1828178.8039855484,
          1975925.126138084,
          2123673.2510011345,
          2271421.999170033
         ],
         "yaxis": "y"
        },
        {
         "name": "EoM",
         "type": "scatter",
         "x": [
          20,
          21,
          22,
          23,
          24,
          25,
          26,
          27,
          28,
          29,
          30,
          31,
          32,
          33,
          34,
          35,
          36,
          37,
          38,
          39,
          40,
          41,
          42,
          43,
          44,
          45,
          46,
          47,
          48,
          49,
          50,
          51,
          52,
          53,
          54,
          55
         ],
         "xaxis": "x2",
         "y": [
          -53647.85125173929,
          -52983.320636649725,
          -51572.512086897,
          -49089.76613629338,
          -45420.74357898094,
          -40851.785561901466,
          -36111.22712663703,
          -32182.632808532362,
          -29936.18912893491,
          -29736.709853627053,
          -31202.049300920346,
          -33202.77876783625,
          -34094.02187684545,
          -32119.818885036162,
          -25909.333711159445,
          -14939.324213727643,
          215.06257019816076,
          17990.1856347436,
          36299.546449634974,
          53158.75891467362,
          67193.2121909389,
          77842.77111021598,
          85258.60633809849,
          90025.24141855253,
          92868.18843096623,
          94449.17480370194,
          95272.62399974011,
          95675.99973958798,
          95862.56986193391,
          95944.34434453853,
          95978.42573316081,
          95991.97525421088,
          95997.12908954776,
          95999.00990050429,
          95999.67013305478,
          95999.89361459603
         ],
         "yaxis": "y2"
        },
        {
         "name": "2 Months",
         "type": "scatter",
         "x": [
          20,
          21,
          22,
          23,
          24,
          25,
          26,
          27,
          28,
          29,
          30,
          31,
          32,
          33,
          34,
          35,
          36,
          37,
          38,
          39,
          40,
          41,
          42,
          43,
          44,
          45,
          46,
          47,
          48,
          49,
          50,
          51,
          52,
          53,
          54,
          55
         ],
         "xaxis": "x",
         "y": [
          795845.1716795583,
          712601.7617828418,
          629358.3518861253,
          546114.9419894088,
          462871.53209269233,
          379628.12219597585,
          296384.71229925944,
          213141.30240254285,
          206975.12389167494,
          200808.94538080698,
          194642.7668699391,
          188476.58835907126,
          105233.17846235473,
          21989.76856563825,
          -61253.64133107825,
          -144497.05122779476,
          -227740.46112451123,
          -233906.63963537914,
          -240072.818146247,
          -92084.53388541765,
          55903.75037541168,
          203892.03463624098,
          351880.3188970703,
          499868.6031578997,
          647856.8874187293,
          795845.1716795586,
          943833.4559403879,
          1091821.7402012171,
          1239810.0244620463,
          1387798.3087228755,
          1535786.592983705,
          1683774.8772445342,
          1831763.1615053634,
          1979751.4457661929,
          2127739.7300270223,
          2275728.014287852
         ],
         "yaxis": "y"
        },
        {
         "name": "2 Months",
         "type": "scatter",
         "x": [
          20,
          21,
          22,
          23,
          24,
          25,
          26,
          27,
          28,
          29,
          30,
          31,
          32,
          33,
          34,
          35,
          36,
          37,
          38,
          39,
          40,
          41,
          42,
          43,
          44,
          45,
          46,
          47,
          48,
          49,
          50,
          51,
          52,
          53,
          54,
          55
         ],
         "xaxis": "x2",
         "y": [
          -54000,
          -54000,
          -54000,
          -54000,
          -54000,
          -54000,
          -54000,
          -4000,
          -4000,
          -4000,
          -4000,
          -54000,
          -54000,
          -54000,
          -54000,
          -54000,
          -54000,
          -4000,
          46000,
          96000,
          96000,
          96000,
          96000,
          96000,
          96000,
          96000,
          96000,
          96000,
          96000,
          96000,
          96000,
          96000,
          96000,
          96000,
          96000,
          96000
         ],
         "yaxis": "y2"
        },
        {
         "name": "3 Months",
         "type": "scatter",
         "x": [
          20,
          21,
          22,
          23,
          24,
          25,
          26,
          27,
          28,
          29,
          30,
          31,
          32,
          33,
          34,
          35,
          36,
          37,
          38,
          39,
          40,
          41,
          42,
          43,
          44,
          45,
          46,
          47,
          48,
          49,
          50,
          51,
          52,
          53,
          54,
          55
         ],
         "xaxis": "x",
         "y": [
          795845.1716795583,
          712601.7617828418,
          629358.3518861253,
          546114.9419894088,
          462871.53209269233,
          379628.12219597585,
          296384.71229925944,
          213141.30240254285,
          206975.12389167494,
          200808.94538080698,
          194642.7668699391,
          188476.58835907126,
          105233.17846235473,
          21989.76856563825,
          -61253.64133107825,
          -144497.05122779476,
          -227740.46112451123,
          -233906.63963537914,
          -240072.818146247,
          -92084.53388541765,
          55903.75037541168,
          203892.03463624098,
          351880.3188970703,
          499868.6031578997,
          647856.8874187293,
          795845.1716795586,
          943833.4559403879,
          1091821.7402012171,
          1239810.0244620463,
          1387798.3087228755,
          1535786.592983705,
          1683774.8772445342,
          1831763.1615053634,
          1979751.4457661929,
          2127739.7300270223,
          2275728.014287852
         ],
         "yaxis": "y"
        },
        {
         "name": "3 Months",
         "type": "scatter",
         "x": [
          20,
          21,
          22,
          23,
          24,
          25,
          26,
          27,
          28,
          29,
          30,
          31,
          32,
          33,
          34,
          35,
          36,
          37,
          38,
          39,
          40,
          41,
          42,
          43,
          44,
          45,
          46,
          47,
          48,
          49,
          50,
          51,
          52,
          53,
          54,
          55
         ],
         "xaxis": "x2",
         "y": [
          -54000,
          -54000,
          -54000,
          -54000,
          -54000,
          -54000,
          -54000,
          -4000,
          -4000,
          -4000,
          -4000,
          -54000,
          -54000,
          -54000,
          -54000,
          -54000,
          -54000,
          -4000,
          46000,
          96000,
          96000,
          96000,
          96000,
          96000,
          96000,
          96000,
          96000,
          96000,
          96000,
          96000,
          96000,
          96000,
          96000,
          96000,
          96000,
          96000
         ],
         "yaxis": "y2"
        },
        {
         "name": "4 Months",
         "type": "scatter",
         "x": [
          20,
          21,
          22,
          23,
          24,
          25,
          26,
          27,
          28,
          29,
          30,
          31,
          32,
          33,
          34,
          35,
          36,
          37,
          38,
          39,
          40,
          41,
          42,
          43,
          44,
          45,
          46,
          47,
          48,
          49,
          50,
          51,
          52,
          53,
          54,
          55
         ],
         "xaxis": "x",
         "y": [
          795845.1716795583,
          712601.7617828418,
          629358.3518861253,
          546114.9419894088,
          462871.53209269233,
          379628.12219597585,
          296384.71229925944,
          213141.30240254285,
          206975.12389167494,
          200808.94538080698,
          194642.7668699391,
          188476.58835907126,
          105233.17846235473,
          21989.76856563825,
          -61253.64133107825,
          -144497.05122779476,
          -227740.46112451123,
          -233906.63963537914,
          -240072.818146247,
          -92084.53388541765,
          55903.75037541168,
          203892.03463624098,
          351880.3188970703,
          499868.6031578997,
          647856.8874187293,
          795845.1716795586,
          943833.4559403879,
          1091821.7402012171,
          1239810.0244620463,
          1387798.3087228755,
          1535786.592983705,
          1683774.8772445342,
          1831763.1615053634,
          1979751.4457661929,
          2127739.7300270223,
          2275728.014287852
         ],
         "yaxis": "y"
        },
        {
         "name": "4 Months",
         "type": "scatter",
         "x": [
          20,
          21,
          22,
          23,
          24,
          25,
          26,
          27,
          28,
          29,
          30,
          31,
          32,
          33,
          34,
          35,
          36,
          37,
          38,
          39,
          40,
          41,
          42,
          43,
          44,
          45,
          46,
          47,
          48,
          49,
          50,
          51,
          52,
          53,
          54,
          55
         ],
         "xaxis": "x2",
         "y": [
          -54000,
          -54000,
          -54000,
          -54000,
          -54000,
          -54000,
          -54000,
          -4000,
          -4000,
          -4000,
          -4000,
          -54000,
          -54000,
          -54000,
          -54000,
          -54000,
          -54000,
          -4000,
          46000,
          96000,
          96000,
          96000,
          96000,
          96000,
          96000,
          96000,
          96000,
          96000,
          96000,
          96000,
          96000,
          96000,
          96000,
          96000,
          96000,
          96000
         ],
         "yaxis": "y2"
        },
        {
         "name": "5 Months",
         "type": "scatter",
         "x": [
          20,
          21,
          22,
          23,
          24,
          25,
          26,
          27,
          28,
          29,
          30,
          31,
          32,
          33,
          34,
          35,
          36,
          37,
          38,
          39,
          40,
          41,
          42,
          43,
          44,
          45,
          46,
          47,
          48,
          49,
          50,
          51,
          52,
          53,
          54,
          55
         ],
         "xaxis": "x",
         "y": [
          795845.1716795583,
          712601.7617828418,
          629358.3518861253,
          546114.9419894088,
          462871.53209269233,
          379628.12219597585,
          296384.71229925944,
          213141.30240254285,
          206975.12389167494,
          200808.94538080698,
          194642.7668699391,
          188476.58835907126,
          105233.17846235473,
          21989.76856563825,
          -61253.64133107825,
          -144497.05122779476,
          -227740.46112451123,
          -233906.63963537914,
          -240072.818146247,
          -92084.53388541765,
          55903.75037541168,
          203892.03463624098,
          351880.3188970703,
          499868.6031578997,
          647856.8874187293,
          795845.1716795586,
          943833.4559403879,
          1091821.7402012171,
          1239810.0244620463,
          1387798.3087228755,
          1535786.592983705,
          1683774.8772445342,
          1831763.1615053634,
          1979751.4457661929,
          2127739.7300270223,
          2275728.014287852
         ],
         "yaxis": "y"
        },
        {
         "name": "5 Months",
         "type": "scatter",
         "x": [
          20,
          21,
          22,
          23,
          24,
          25,
          26,
          27,
          28,
          29,
          30,
          31,
          32,
          33,
          34,
          35,
          36,
          37,
          38,
          39,
          40,
          41,
          42,
          43,
          44,
          45,
          46,
          47,
          48,
          49,
          50,
          51,
          52,
          53,
          54,
          55
         ],
         "xaxis": "x2",
         "y": [
          -54000,
          -54000,
          -54000,
          -54000,
          -54000,
          -54000,
          -54000,
          -4000,
          -4000,
          -4000,
          -4000,
          -54000,
          -54000,
          -54000,
          -54000,
          -54000,
          -54000,
          -4000,
          46000,
          96000,
          96000,
          96000,
          96000,
          96000,
          96000,
          96000,
          96000,
          96000,
          96000,
          96000,
          96000,
          96000,
          96000,
          96000,
          96000,
          96000
         ],
         "yaxis": "y2"
        },
        {
         "name": "6 Months",
         "type": "scatter",
         "x": [
          20,
          21,
          22,
          23,
          24,
          25,
          26,
          27,
          28,
          29,
          30,
          31,
          32,
          33,
          34,
          35,
          36,
          37,
          38,
          39,
          40,
          41,
          42,
          43,
          44,
          45,
          46,
          47,
          48,
          49,
          50,
          51,
          52,
          53,
          54,
          55
         ],
         "xaxis": "x",
         "y": [
          795845.1716795583,
          712601.7617828418,
          629358.3518861253,
          546114.9419894088,
          462871.53209269233,
          379628.12219597585,
          296384.71229925944,
          213141.30240254285,
          206975.12389167494,
          200808.94538080698,
          194642.7668699391,
          188476.58835907126,
          105233.17846235473,
          21989.76856563825,
          -61253.64133107825,
          -144497.05122779476,
          -227740.46112451123,
          -233906.63963537914,
          -240072.818146247,
          -92084.53388541765,
          55903.75037541168,
          203892.03463624098,
          351880.3188970703,
          499868.6031578997,
          647856.8874187293,
          795845.1716795586,
          943833.4559403879,
          1091821.7402012171,
          1239810.0244620463,
          1387798.3087228755,
          1535786.592983705,
          1683774.8772445342,
          1831763.1615053634,
          1979751.4457661929,
          2127739.7300270223,
          2275728.014287852
         ],
         "yaxis": "y"
        },
        {
         "name": "6 Months",
         "type": "scatter",
         "x": [
          20,
          21,
          22,
          23,
          24,
          25,
          26,
          27,
          28,
          29,
          30,
          31,
          32,
          33,
          34,
          35,
          36,
          37,
          38,
          39,
          40,
          41,
          42,
          43,
          44,
          45,
          46,
          47,
          48,
          49,
          50,
          51,
          52,
          53,
          54,
          55
         ],
         "xaxis": "x2",
         "y": [
          -54000,
          -54000,
          -54000,
          -54000,
          -54000,
          -54000,
          -54000,
          -4000,
          -4000,
          -4000,
          -4000,
          -54000,
          -54000,
          -54000,
          -54000,
          -54000,
          -54000,
          -4000,
          46000,
          96000,
          96000,
          96000,
          96000,
          96000,
          96000,
          96000,
          96000,
          96000,
          96000,
          96000,
          96000,
          96000,
          96000,
          96000,
          96000,
          96000
         ],
         "yaxis": "y2"
        },
        {
         "name": "Dec Expiry",
         "type": "scatter",
         "x": [
          20,
          21,
          22,
          23,
          24,
          25,
          26,
          27,
          28,
          29,
          30,
          31,
          32,
          33,
          34,
          35,
          36,
          37,
          38,
          39,
          40,
          41,
          42,
          43,
          44,
          45,
          46,
          47,
          48,
          49,
          50,
          51,
          52,
          53,
          54,
          55
         ],
         "xaxis": "x",
         "y": [
          795845.1716795583,
          712601.7617828418,
          629358.3518861253,
          546114.9419894088,
          462871.53209269233,
          379628.12219597585,
          296384.71229925944,
          213141.30240254285,
          206975.12389167494,
          200808.94538080698,
          194642.7668699391,
          188476.58835907126,
          105233.17846235473,
          21989.76856563825,
          -61253.64133107825,
          -144497.05122779476,
          -227740.46112451123,
          -233906.63963537914,
          -240072.818146247,
          -92084.53388541765,
          55903.75037541168,
          203892.03463624098,
          351880.3188970703,
          499868.6031578997,
          647856.8874187293,
          795845.1716795586,
          943833.4559403879,
          1091821.7402012171,
          1239810.0244620463,
          1387798.3087228755,
          1535786.592983705,
          1683774.8772445342,
          1831763.1615053634,
          1979751.4457661929,
          2127739.7300270223,
          2275728.014287852
         ],
         "yaxis": "y"
        },
        {
         "name": "Dec Expiry",
         "type": "scatter",
         "x": [
          20,
          21,
          22,
          23,
          24,
          25,
          26,
          27,
          28,
          29,
          30,
          31,
          32,
          33,
          34,
          35,
          36,
          37,
          38,
          39,
          40,
          41,
          42,
          43,
          44,
          45,
          46,
          47,
          48,
          49,
          50,
          51,
          52,
          53,
          54,
          55
         ],
         "xaxis": "x2",
         "y": [
          -54000,
          -54000,
          -54000,
          -54000,
          -54000,
          -54000,
          -54000,
          -4000,
          -4000,
          -4000,
          -4000,
          -54000,
          -54000,
          -54000,
          -54000,
          -54000,
          -54000,
          -4000,
          46000,
          96000,
          96000,
          96000,
          96000,
          96000,
          96000,
          96000,
          96000,
          96000,
          96000,
          96000,
          96000,
          96000,
          96000,
          96000,
          96000,
          96000
         ],
         "yaxis": "y2"
        },
        {
         "name": "Beta",
         "type": "scatter",
         "x": [
          20,
          21,
          22,
          23,
          24,
          25,
          26,
          27,
          28,
          29,
          30,
          31,
          32,
          33,
          34,
          35,
          36,
          37,
          38,
          39,
          40,
          41,
          42,
          43,
          44,
          45,
          46,
          47,
          48,
          49,
          50,
          51,
          52,
          53,
          54,
          55
         ],
         "xaxis": "x",
         "y": [
          -756322.8456913825,
          -704198.5971943886,
          -652074.3486973946,
          -599950.1002004007,
          -547825.8517034067,
          -495701.6032064127,
          -443577.3547094187,
          -391453.1062124247,
          -339328.8577154307,
          -287204.60921843676,
          -235080.36072144276,
          -182956.11222444876,
          -130831.8637274548,
          -78707.61523046081,
          -26583.366733466824,
          25540.881763527155,
          77665.13026052114,
          129789.37875751512,
          181913.6272545091,
          234037.87575150304,
          286162.124248497,
          338286.37274549104,
          390410.621242485,
          442534.869739479,
          494659.11823647295,
          546783.366733467,
          598907.6152304609,
          651031.8637274549,
          703156.1122244489,
          755280.3607214428,
          807404.6092184369,
          859528.8577154309,
          911653.1062124249,
          963777.3547094188,
          1015901.6032064129,
          1068025.8517034068
         ],
         "yaxis": "y"
        },
        {
         "name": "Beta",
         "type": "scatter",
         "x": [
          20,
          21,
          22,
          23,
          24,
          25,
          26,
          27,
          28,
          29,
          30,
          31,
          32,
          33,
          34,
          35,
          36,
          37,
          38,
          39,
          40,
          41,
          42,
          43,
          44,
          45,
          46,
          47,
          48,
          49,
          50,
          51,
          52,
          53,
          54,
          55
         ],
         "xaxis": "x2",
         "y": [
          33813,
          33813,
          33813,
          33813,
          33813,
          33813,
          33813,
          33813,
          33813,
          33813,
          33813,
          33813,
          33813,
          33813,
          33813,
          33813,
          33813,
          33813,
          33813,
          33813,
          33813,
          33813,
          33813,
          33813,
          33813,
          33813,
          33813,
          33813,
          33813,
          33813,
          33813,
          33813,
          33813,
          33813,
          33813,
          33813
         ],
         "yaxis": "y2"
        }
       ],
       "layout": {
        "shapes": [
         {
          "line": {
           "color": "green",
           "dash": "dash",
           "width": 1
          },
          "type": "line",
          "x0": 34.51,
          "x1": 34.51,
          "xref": "x",
          "y0": 0,
          "y1": 1,
          "yref": "y domain"
         },
         {
          "line": {
           "color": "green",
           "dash": "dash",
           "width": 1
          },
          "type": "line",
          "x0": 34.51,
          "x1": 34.51,
          "xref": "x2",
          "y0": 0,
          "y1": 1,
          "yref": "y2 domain"
         }
        ],
        "template": {
         "data": {
          "bar": [
           {
            "error_x": {
             "color": "#2a3f5f"
            },
            "error_y": {
             "color": "#2a3f5f"
            },
            "marker": {
             "line": {
              "color": "#E5ECF6",
              "width": 0.5
             },
             "pattern": {
              "fillmode": "overlay",
              "size": 10,
              "solidity": 0.2
             }
            },
            "type": "bar"
           }
          ],
          "barpolar": [
           {
            "marker": {
             "line": {
              "color": "#E5ECF6",
              "width": 0.5
             },
             "pattern": {
              "fillmode": "overlay",
              "size": 10,
              "solidity": 0.2
             }
            },
            "type": "barpolar"
           }
          ],
          "carpet": [
           {
            "aaxis": {
             "endlinecolor": "#2a3f5f",
             "gridcolor": "white",
             "linecolor": "white",
             "minorgridcolor": "white",
             "startlinecolor": "#2a3f5f"
            },
            "baxis": {
             "endlinecolor": "#2a3f5f",
             "gridcolor": "white",
             "linecolor": "white",
             "minorgridcolor": "white",
             "startlinecolor": "#2a3f5f"
            },
            "type": "carpet"
           }
          ],
          "choropleth": [
           {
            "colorbar": {
             "outlinewidth": 0,
             "ticks": ""
            },
            "type": "choropleth"
           }
          ],
          "contour": [
           {
            "colorbar": {
             "outlinewidth": 0,
             "ticks": ""
            },
            "colorscale": [
             [
              0,
              "#0d0887"
             ],
             [
              0.1111111111111111,
              "#46039f"
             ],
             [
              0.2222222222222222,
              "#7201a8"
             ],
             [
              0.3333333333333333,
              "#9c179e"
             ],
             [
              0.4444444444444444,
              "#bd3786"
             ],
             [
              0.5555555555555556,
              "#d8576b"
             ],
             [
              0.6666666666666666,
              "#ed7953"
             ],
             [
              0.7777777777777778,
              "#fb9f3a"
             ],
             [
              0.8888888888888888,
              "#fdca26"
             ],
             [
              1,
              "#f0f921"
             ]
            ],
            "type": "contour"
           }
          ],
          "contourcarpet": [
           {
            "colorbar": {
             "outlinewidth": 0,
             "ticks": ""
            },
            "type": "contourcarpet"
           }
          ],
          "heatmap": [
           {
            "colorbar": {
             "outlinewidth": 0,
             "ticks": ""
            },
            "colorscale": [
             [
              0,
              "#0d0887"
             ],
             [
              0.1111111111111111,
              "#46039f"
             ],
             [
              0.2222222222222222,
              "#7201a8"
             ],
             [
              0.3333333333333333,
              "#9c179e"
             ],
             [
              0.4444444444444444,
              "#bd3786"
             ],
             [
              0.5555555555555556,
              "#d8576b"
             ],
             [
              0.6666666666666666,
              "#ed7953"
             ],
             [
              0.7777777777777778,
              "#fb9f3a"
             ],
             [
              0.8888888888888888,
              "#fdca26"
             ],
             [
              1,
              "#f0f921"
             ]
            ],
            "type": "heatmap"
           }
          ],
          "heatmapgl": [
           {
            "colorbar": {
             "outlinewidth": 0,
             "ticks": ""
            },
            "colorscale": [
             [
              0,
              "#0d0887"
             ],
             [
              0.1111111111111111,
              "#46039f"
             ],
             [
              0.2222222222222222,
              "#7201a8"
             ],
             [
              0.3333333333333333,
              "#9c179e"
             ],
             [
              0.4444444444444444,
              "#bd3786"
             ],
             [
              0.5555555555555556,
              "#d8576b"
             ],
             [
              0.6666666666666666,
              "#ed7953"
             ],
             [
              0.7777777777777778,
              "#fb9f3a"
             ],
             [
              0.8888888888888888,
              "#fdca26"
             ],
             [
              1,
              "#f0f921"
             ]
            ],
            "type": "heatmapgl"
           }
          ],
          "histogram": [
           {
            "marker": {
             "pattern": {
              "fillmode": "overlay",
              "size": 10,
              "solidity": 0.2
             }
            },
            "type": "histogram"
           }
          ],
          "histogram2d": [
           {
            "colorbar": {
             "outlinewidth": 0,
             "ticks": ""
            },
            "colorscale": [
             [
              0,
              "#0d0887"
             ],
             [
              0.1111111111111111,
              "#46039f"
             ],
             [
              0.2222222222222222,
              "#7201a8"
             ],
             [
              0.3333333333333333,
              "#9c179e"
             ],
             [
              0.4444444444444444,
              "#bd3786"
             ],
             [
              0.5555555555555556,
              "#d8576b"
             ],
             [
              0.6666666666666666,
              "#ed7953"
             ],
             [
              0.7777777777777778,
              "#fb9f3a"
             ],
             [
              0.8888888888888888,
              "#fdca26"
             ],
             [
              1,
              "#f0f921"
             ]
            ],
            "type": "histogram2d"
           }
          ],
          "histogram2dcontour": [
           {
            "colorbar": {
             "outlinewidth": 0,
             "ticks": ""
            },
            "colorscale": [
             [
              0,
              "#0d0887"
             ],
             [
              0.1111111111111111,
              "#46039f"
             ],
             [
              0.2222222222222222,
              "#7201a8"
             ],
             [
              0.3333333333333333,
              "#9c179e"
             ],
             [
              0.4444444444444444,
              "#bd3786"
             ],
             [
              0.5555555555555556,
              "#d8576b"
             ],
             [
              0.6666666666666666,
              "#ed7953"
             ],
             [
              0.7777777777777778,
              "#fb9f3a"
             ],
             [
              0.8888888888888888,
              "#fdca26"
             ],
             [
              1,
              "#f0f921"
             ]
            ],
            "type": "histogram2dcontour"
           }
          ],
          "mesh3d": [
           {
            "colorbar": {
             "outlinewidth": 0,
             "ticks": ""
            },
            "type": "mesh3d"
           }
          ],
          "parcoords": [
           {
            "line": {
             "colorbar": {
              "outlinewidth": 0,
              "ticks": ""
             }
            },
            "type": "parcoords"
           }
          ],
          "pie": [
           {
            "automargin": true,
            "type": "pie"
           }
          ],
          "scatter": [
           {
            "fillpattern": {
             "fillmode": "overlay",
             "size": 10,
             "solidity": 0.2
            },
            "type": "scatter"
           }
          ],
          "scatter3d": [
           {
            "line": {
             "colorbar": {
              "outlinewidth": 0,
              "ticks": ""
             }
            },
            "marker": {
             "colorbar": {
              "outlinewidth": 0,
              "ticks": ""
             }
            },
            "type": "scatter3d"
           }
          ],
          "scattercarpet": [
           {
            "marker": {
             "colorbar": {
              "outlinewidth": 0,
              "ticks": ""
             }
            },
            "type": "scattercarpet"
           }
          ],
          "scattergeo": [
           {
            "marker": {
             "colorbar": {
              "outlinewidth": 0,
              "ticks": ""
             }
            },
            "type": "scattergeo"
           }
          ],
          "scattergl": [
           {
            "marker": {
             "colorbar": {
              "outlinewidth": 0,
              "ticks": ""
             }
            },
            "type": "scattergl"
           }
          ],
          "scattermapbox": [
           {
            "marker": {
             "colorbar": {
              "outlinewidth": 0,
              "ticks": ""
             }
            },
            "type": "scattermapbox"
           }
          ],
          "scatterpolar": [
           {
            "marker": {
             "colorbar": {
              "outlinewidth": 0,
              "ticks": ""
             }
            },
            "type": "scatterpolar"
           }
          ],
          "scatterpolargl": [
           {
            "marker": {
             "colorbar": {
              "outlinewidth": 0,
              "ticks": ""
             }
            },
            "type": "scatterpolargl"
           }
          ],
          "scatterternary": [
           {
            "marker": {
             "colorbar": {
              "outlinewidth": 0,
              "ticks": ""
             }
            },
            "type": "scatterternary"
           }
          ],
          "surface": [
           {
            "colorbar": {
             "outlinewidth": 0,
             "ticks": ""
            },
            "colorscale": [
             [
              0,
              "#0d0887"
             ],
             [
              0.1111111111111111,
              "#46039f"
             ],
             [
              0.2222222222222222,
              "#7201a8"
             ],
             [
              0.3333333333333333,
              "#9c179e"
             ],
             [
              0.4444444444444444,
              "#bd3786"
             ],
             [
              0.5555555555555556,
              "#d8576b"
             ],
             [
              0.6666666666666666,
              "#ed7953"
             ],
             [
              0.7777777777777778,
              "#fb9f3a"
             ],
             [
              0.8888888888888888,
              "#fdca26"
             ],
             [
              1,
              "#f0f921"
             ]
            ],
            "type": "surface"
           }
          ],
          "table": [
           {
            "cells": {
             "fill": {
              "color": "#EBF0F8"
             },
             "line": {
              "color": "white"
             }
            },
            "header": {
             "fill": {
              "color": "#C8D4E3"
             },
             "line": {
              "color": "white"
             }
            },
            "type": "table"
           }
          ]
         },
         "layout": {
          "annotationdefaults": {
           "arrowcolor": "#2a3f5f",
           "arrowhead": 0,
           "arrowwidth": 1
          },
          "autotypenumbers": "strict",
          "coloraxis": {
           "colorbar": {
            "outlinewidth": 0,
            "ticks": ""
           }
          },
          "colorscale": {
           "diverging": [
            [
             0,
             "#8e0152"
            ],
            [
             0.1,
             "#c51b7d"
            ],
            [
             0.2,
             "#de77ae"
            ],
            [
             0.3,
             "#f1b6da"
            ],
            [
             0.4,
             "#fde0ef"
            ],
            [
             0.5,
             "#f7f7f7"
            ],
            [
             0.6,
             "#e6f5d0"
            ],
            [
             0.7,
             "#b8e186"
            ],
            [
             0.8,
             "#7fbc41"
            ],
            [
             0.9,
             "#4d9221"
            ],
            [
             1,
             "#276419"
            ]
           ],
           "sequential": [
            [
             0,
             "#0d0887"
            ],
            [
             0.1111111111111111,
             "#46039f"
            ],
            [
             0.2222222222222222,
             "#7201a8"
            ],
            [
             0.3333333333333333,
             "#9c179e"
            ],
            [
             0.4444444444444444,
             "#bd3786"
            ],
            [
             0.5555555555555556,
             "#d8576b"
            ],
            [
             0.6666666666666666,
             "#ed7953"
            ],
            [
             0.7777777777777778,
             "#fb9f3a"
            ],
            [
             0.8888888888888888,
             "#fdca26"
            ],
            [
             1,
             "#f0f921"
            ]
           ],
           "sequentialminus": [
            [
             0,
             "#0d0887"
            ],
            [
             0.1111111111111111,
             "#46039f"
            ],
            [
             0.2222222222222222,
             "#7201a8"
            ],
            [
             0.3333333333333333,
             "#9c179e"
            ],
            [
             0.4444444444444444,
             "#bd3786"
            ],
            [
             0.5555555555555556,
             "#d8576b"
            ],
            [
             0.6666666666666666,
             "#ed7953"
            ],
            [
             0.7777777777777778,
             "#fb9f3a"
            ],
            [
             0.8888888888888888,
             "#fdca26"
            ],
            [
             1,
             "#f0f921"
            ]
           ]
          },
          "colorway": [
           "#636efa",
           "#EF553B",
           "#00cc96",
           "#ab63fa",
           "#FFA15A",
           "#19d3f3",
           "#FF6692",
           "#B6E880",
           "#FF97FF",
           "#FECB52"
          ],
          "font": {
           "color": "#2a3f5f"
          },
          "geo": {
           "bgcolor": "white",
           "lakecolor": "white",
           "landcolor": "#E5ECF6",
           "showlakes": true,
           "showland": true,
           "subunitcolor": "white"
          },
          "hoverlabel": {
           "align": "left"
          },
          "hovermode": "closest",
          "mapbox": {
           "style": "light"
          },
          "paper_bgcolor": "white",
          "plot_bgcolor": "#E5ECF6",
          "polar": {
           "angularaxis": {
            "gridcolor": "white",
            "linecolor": "white",
            "ticks": ""
           },
           "bgcolor": "#E5ECF6",
           "radialaxis": {
            "gridcolor": "white",
            "linecolor": "white",
            "ticks": ""
           }
          },
          "scene": {
           "xaxis": {
            "backgroundcolor": "#E5ECF6",
            "gridcolor": "white",
            "gridwidth": 2,
            "linecolor": "white",
            "showbackground": true,
            "ticks": "",
            "zerolinecolor": "white"
           },
           "yaxis": {
            "backgroundcolor": "#E5ECF6",
            "gridcolor": "white",
            "gridwidth": 2,
            "linecolor": "white",
            "showbackground": true,
            "ticks": "",
            "zerolinecolor": "white"
           },
           "zaxis": {
            "backgroundcolor": "#E5ECF6",
            "gridcolor": "white",
            "gridwidth": 2,
            "linecolor": "white",
            "showbackground": true,
            "ticks": "",
            "zerolinecolor": "white"
           }
          },
          "shapedefaults": {
           "line": {
            "color": "#2a3f5f"
           }
          },
          "ternary": {
           "aaxis": {
            "gridcolor": "white",
            "linecolor": "white",
            "ticks": ""
           },
           "baxis": {
            "gridcolor": "white",
            "linecolor": "white",
            "ticks": ""
           },
           "bgcolor": "#E5ECF6",
           "caxis": {
            "gridcolor": "white",
            "linecolor": "white",
            "ticks": ""
           }
          },
          "title": {
           "x": 0.05
          },
          "xaxis": {
           "automargin": true,
           "gridcolor": "white",
           "linecolor": "white",
           "ticks": "",
           "title": {
            "standoff": 15
           },
           "zerolinecolor": "white",
           "zerolinewidth": 2
          },
          "yaxis": {
           "automargin": true,
           "gridcolor": "white",
           "linecolor": "white",
           "ticks": "",
           "title": {
            "standoff": 15
           },
           "zerolinecolor": "white",
           "zerolinewidth": 2
          }
         }
        },
        "title": {
         "text": "CCA Position (PnL and Delta)",
         "x": 0.5,
         "xanchor": "center"
        },
        "xaxis": {
         "anchor": "y",
         "domain": [
          0,
          0.45
         ],
         "title": {
          "text": "Price"
         }
        },
        "xaxis2": {
         "anchor": "y2",
         "domain": [
          0.55,
          1
         ],
         "title": {
          "text": "Price"
         }
        },
        "yaxis": {
         "anchor": "x",
         "domain": [
          0,
          1
         ],
         "title": {
          "text": "PnL"
         }
        },
        "yaxis2": {
         "anchor": "x2",
         "domain": [
          0,
          1
         ],
         "title": {
          "text": "Delta"
         }
        }
       }
      },
      "text/html": [
       "<div>                            <div id=\"de035362-9b8b-4d0a-9683-12ea48bea7cf\" class=\"plotly-graph-div\" style=\"height:525px; width:100%;\"></div>            <script type=\"text/javascript\">                require([\"plotly\"], function(Plotly) {                    window.PLOTLYENV=window.PLOTLYENV || {};                                    if (document.getElementById(\"de035362-9b8b-4d0a-9683-12ea48bea7cf\")) {                    Plotly.newPlot(                        \"de035362-9b8b-4d0a-9683-12ea48bea7cf\",                        [{\"name\":\"today\",\"x\":[20,21,22,23,24,25,26,27,28,29,30,31,32,33,34,35,36,37,38,39,40,41,42,43,44,45,46,47,48,49,50,51,52,53,54,55],\"y\":[796708.2511318555,718043.002240441,642308.6968270673,570358.8191313692,502764.06883670005,439626.6516710891,380514.09223829745,324565.9306215353,270774.958865735,218387.9645878711,167326.1358965935,118505.36378602865,73950.38655602752,36645.60559362822,10138.79041611822,-2011.846758023532,3190.2636289209186,27727.44889598277,72329.87496200745,136479.25992700426,218615.50016359036,316465.89460811205,427406.9349001059,548785.2587223273,678154.5564796772,813416.0211940365,952872.8201816287,1095221.1201757584,1239502.747351833,1385040.9686025542,1531374.627753255,1678199.5251844325,1825320.8723963662,1972617.2978449333,2120015.0537191,2267470.358696216],\"type\":\"scatter\",\"xaxis\":\"x\",\"yaxis\":\"y\"},{\"name\":\"today\",\"x\":[20,21,22,23,24,25,26,27,28,29,30,31,32,33,34,35,36,37,38,39,40,41,42,43,44,45,46,47,48,49,50,51,52,53,54,55],\"y\":[-51922.4328201864,-50316.77545054461,-48112.88950279794,-45421.78593426718,-42496.84467176405,-39681.34091762422,-37308.51759245088,-35582.24846141684,-34475.56963576932,-33681.73413103541,-32640.03142409912,-30639.025375160003,-26976.40939810982,-21133.722297095926,-12914.78033365507,-2505.5504398606863,9561.213815162628,22521.463203924166,35536.22211854171,47842.35000929733,58861.14836078493,68248.12372232147,75887.34869947989,81847.21056420647,86318.62336220036,89553.77563671762,91816.80969467762,93350.86739930262,94360.74905237618,95007.6352017663,95411.55863302102,95657.82839056177,95804.66645671494,95890.41154943823,95939.514524951,95967.12542906558],\"type\":\"scatter\",\"xaxis\":\"x2\",\"yaxis\":\"y2\"},{\"name\":\"End of Next Wk\",\"x\":[20,21,22,23,24,25,26,27,28,29,30,31,32,33,34,35,36,37,38,39,40,41,42,43,44,45,46,47,48,49,50,51,52,53,54,55],\"y\":[795095.7762037064,714500.953879549,636329.602419643,561814.4807388857,492105.0557841414,427899.61112605786,369134.4421594996,314884.372350915,263567.67315114895,213442.2990082155,163275.872553131,113004.0854657207,64174.605193056355,20010.330937287596,-14980.646478431252,-35783.38874555609,-37839.86451124535,-17920.76685361657,25339.614485266105,91363.04951852416,177959.2359079309,281908.5073698106,399597.09248060244,527545.9697776695,662752.5545059636,802840.3462571589,946060.2132483062,1091203.5116819008,1237480.553967593,1384400.7372973994,1531672.9066139637,1679131.3579594006,1826685.346446676,1974286.9117292776,2121911.5257828054,2269547.0212386614],\"type\":\"scatter\",\"xaxis\":\"x\",\"yaxis\":\"y\"},{\"name\":\"End of Next Wk\",\"x\":[20,21,22,23,24,25,26,27,28,29,30,31,32,33,34,35,36,37,38,39,40,41,42,43,44,45,46,47,48,49,50,51,52,53,54,55],\"y\":[-52936.2344010239,-51728.028462584036,-49760.23486466613,-46980.27886789427,-43559.54041593839,-39907.750357920966,-36582.747154390876,-34112.703134262985,-32790.02717039925,-32510.40127539489,-32715.448945976503,-32467.34468570482,-30649.50939278683,-26250.918101320116,-18655.922247056875,-7843.502529879075,5579.865147508977,20529.4656462496,35717.06578270129,49949.19252601519,62351.37857276268,72465.88213556909,80226.67064872828,85854.76527952065,89727.89376592686,92266.42817696555,93856.28973256378,94810.63713161249,95361.23908359004,95667.34759990752,95831.73193730638,95917.1913852701,95960.29111429463,95981.41835085228,95991.50268764615,95996.19751830268],\"type\":\"scatter\",\"xaxis\":\"x2\",\"yaxis\":\"y2\"},{\"name\":\"End of 2 Wks\",\"x\":[20,21,22,23,24,25,26,27,28,29,30,31,32,33,34,35,36,37,38,39,40,41,42,43,44,45,46,47,48,49,50,51,52,53,54,55],\"y\":[794578.443098983,712434.9698467744,631841.5236515761,554209.9371799416,481319.03751537483,414833.4896934233,355628.84013443266,303225.2246416821,255662.89159621042,209987.09936552792,163239.26114344646,113639.01300634132,61582.65572645067,10143.331082495824,-35133.99637752159,-67195.47113202172,-79014.36681904897,-65247.82885619436,-23437.412195985813,45663.73289267419,138668.68167410148,250695.85983701283,376576.2638561683,511746.20426801045,652683.1393361061,796951.0344457015,943017.1593406508,1089994.5235604607,1237407.0641628865,1385016.1968648338,1532709.6344458866,1680437.5027078893,1828178.8039855484,1975925.126138084,2123673.2510011345,2271421.999170033],\"type\":\"scatter\",\"xaxis\":\"x\",\"yaxis\":\"y\"},{\"name\":\"End of 2 Wks\",\"x\":[20,21,22,23,24,25,26,27,28,29,30,31,32,33,34,35,36,37,38,39,40,41,42,43,44,45,46,47,48,49,50,51,52,53,54,55],\"y\":[-53647.85125173929,-52983.320636649725,-51572.512086897,-49089.76613629338,-45420.74357898094,-40851.785561901466,-36111.22712663703,-32182.632808532362,-29936.18912893491,-29736.709853627053,-31202.049300920346,-33202.77876783625,-34094.02187684545,-32119.818885036162,-25909.333711159445,-14939.324213727643,215.06257019816076,17990.1856347436,36299.546449634974,53158.75891467362,67193.2121909389,77842.77111021598,85258.60633809849,90025.24141855253,92868.18843096623,94449.17480370194,95272.62399974011,95675.99973958798,95862.56986193391,95944.34434453853,95978.42573316081,95991.97525421088,95997.12908954776,95999.00990050429,95999.67013305478,95999.89361459603],\"type\":\"scatter\",\"xaxis\":\"x2\",\"yaxis\":\"y2\"},{\"name\":\"EoM\",\"x\":[20,21,22,23,24,25,26,27,28,29,30,31,32,33,34,35,36,37,38,39,40,41,42,43,44,45,46,47,48,49,50,51,52,53,54,55],\"y\":[794578.443098983,712434.9698467744,631841.5236515761,554209.9371799416,481319.03751537483,414833.4896934233,355628.84013443266,303225.2246416821,255662.89159621042,209987.09936552792,163239.26114344646,113639.01300634132,61582.65572645067,10143.331082495824,-35133.99637752159,-67195.47113202172,-79014.36681904897,-65247.82885619436,-23437.412195985813,45663.73289267419,138668.68167410148,250695.85983701283,376576.2638561683,511746.20426801045,652683.1393361061,796951.0344457015,943017.1593406508,1089994.5235604607,1237407.0641628865,1385016.1968648338,1532709.6344458866,1680437.5027078893,1828178.8039855484,1975925.126138084,2123673.2510011345,2271421.999170033],\"type\":\"scatter\",\"xaxis\":\"x\",\"yaxis\":\"y\"},{\"name\":\"EoM\",\"x\":[20,21,22,23,24,25,26,27,28,29,30,31,32,33,34,35,36,37,38,39,40,41,42,43,44,45,46,47,48,49,50,51,52,53,54,55],\"y\":[-53647.85125173929,-52983.320636649725,-51572.512086897,-49089.76613629338,-45420.74357898094,-40851.785561901466,-36111.22712663703,-32182.632808532362,-29936.18912893491,-29736.709853627053,-31202.049300920346,-33202.77876783625,-34094.02187684545,-32119.818885036162,-25909.333711159445,-14939.324213727643,215.06257019816076,17990.1856347436,36299.546449634974,53158.75891467362,67193.2121909389,77842.77111021598,85258.60633809849,90025.24141855253,92868.18843096623,94449.17480370194,95272.62399974011,95675.99973958798,95862.56986193391,95944.34434453853,95978.42573316081,95991.97525421088,95997.12908954776,95999.00990050429,95999.67013305478,95999.89361459603],\"type\":\"scatter\",\"xaxis\":\"x2\",\"yaxis\":\"y2\"},{\"name\":\"2 Months\",\"x\":[20,21,22,23,24,25,26,27,28,29,30,31,32,33,34,35,36,37,38,39,40,41,42,43,44,45,46,47,48,49,50,51,52,53,54,55],\"y\":[795845.1716795583,712601.7617828418,629358.3518861253,546114.9419894088,462871.53209269233,379628.12219597585,296384.71229925944,213141.30240254285,206975.12389167494,200808.94538080698,194642.7668699391,188476.58835907126,105233.17846235473,21989.76856563825,-61253.64133107825,-144497.05122779476,-227740.46112451123,-233906.63963537914,-240072.818146247,-92084.53388541765,55903.75037541168,203892.03463624098,351880.3188970703,499868.6031578997,647856.8874187293,795845.1716795586,943833.4559403879,1091821.7402012171,1239810.0244620463,1387798.3087228755,1535786.592983705,1683774.8772445342,1831763.1615053634,1979751.4457661929,2127739.7300270223,2275728.014287852],\"type\":\"scatter\",\"xaxis\":\"x\",\"yaxis\":\"y\"},{\"name\":\"2 Months\",\"x\":[20,21,22,23,24,25,26,27,28,29,30,31,32,33,34,35,36,37,38,39,40,41,42,43,44,45,46,47,48,49,50,51,52,53,54,55],\"y\":[-54000.0,-54000.0,-54000.0,-54000.0,-54000.0,-54000.0,-54000.0,-4000.0,-4000.0,-4000.0,-4000.0,-54000.0,-54000.0,-54000.0,-54000.0,-54000.0,-54000.0,-4000.0,46000.0,96000.0,96000.0,96000.0,96000.0,96000.0,96000.0,96000.0,96000.0,96000.0,96000.0,96000.0,96000.0,96000.0,96000.0,96000.0,96000.0,96000.0],\"type\":\"scatter\",\"xaxis\":\"x2\",\"yaxis\":\"y2\"},{\"name\":\"3 Months\",\"x\":[20,21,22,23,24,25,26,27,28,29,30,31,32,33,34,35,36,37,38,39,40,41,42,43,44,45,46,47,48,49,50,51,52,53,54,55],\"y\":[795845.1716795583,712601.7617828418,629358.3518861253,546114.9419894088,462871.53209269233,379628.12219597585,296384.71229925944,213141.30240254285,206975.12389167494,200808.94538080698,194642.7668699391,188476.58835907126,105233.17846235473,21989.76856563825,-61253.64133107825,-144497.05122779476,-227740.46112451123,-233906.63963537914,-240072.818146247,-92084.53388541765,55903.75037541168,203892.03463624098,351880.3188970703,499868.6031578997,647856.8874187293,795845.1716795586,943833.4559403879,1091821.7402012171,1239810.0244620463,1387798.3087228755,1535786.592983705,1683774.8772445342,1831763.1615053634,1979751.4457661929,2127739.7300270223,2275728.014287852],\"type\":\"scatter\",\"xaxis\":\"x\",\"yaxis\":\"y\"},{\"name\":\"3 Months\",\"x\":[20,21,22,23,24,25,26,27,28,29,30,31,32,33,34,35,36,37,38,39,40,41,42,43,44,45,46,47,48,49,50,51,52,53,54,55],\"y\":[-54000.0,-54000.0,-54000.0,-54000.0,-54000.0,-54000.0,-54000.0,-4000.0,-4000.0,-4000.0,-4000.0,-54000.0,-54000.0,-54000.0,-54000.0,-54000.0,-54000.0,-4000.0,46000.0,96000.0,96000.0,96000.0,96000.0,96000.0,96000.0,96000.0,96000.0,96000.0,96000.0,96000.0,96000.0,96000.0,96000.0,96000.0,96000.0,96000.0],\"type\":\"scatter\",\"xaxis\":\"x2\",\"yaxis\":\"y2\"},{\"name\":\"4 Months\",\"x\":[20,21,22,23,24,25,26,27,28,29,30,31,32,33,34,35,36,37,38,39,40,41,42,43,44,45,46,47,48,49,50,51,52,53,54,55],\"y\":[795845.1716795583,712601.7617828418,629358.3518861253,546114.9419894088,462871.53209269233,379628.12219597585,296384.71229925944,213141.30240254285,206975.12389167494,200808.94538080698,194642.7668699391,188476.58835907126,105233.17846235473,21989.76856563825,-61253.64133107825,-144497.05122779476,-227740.46112451123,-233906.63963537914,-240072.818146247,-92084.53388541765,55903.75037541168,203892.03463624098,351880.3188970703,499868.6031578997,647856.8874187293,795845.1716795586,943833.4559403879,1091821.7402012171,1239810.0244620463,1387798.3087228755,1535786.592983705,1683774.8772445342,1831763.1615053634,1979751.4457661929,2127739.7300270223,2275728.014287852],\"type\":\"scatter\",\"xaxis\":\"x\",\"yaxis\":\"y\"},{\"name\":\"4 Months\",\"x\":[20,21,22,23,24,25,26,27,28,29,30,31,32,33,34,35,36,37,38,39,40,41,42,43,44,45,46,47,48,49,50,51,52,53,54,55],\"y\":[-54000.0,-54000.0,-54000.0,-54000.0,-54000.0,-54000.0,-54000.0,-4000.0,-4000.0,-4000.0,-4000.0,-54000.0,-54000.0,-54000.0,-54000.0,-54000.0,-54000.0,-4000.0,46000.0,96000.0,96000.0,96000.0,96000.0,96000.0,96000.0,96000.0,96000.0,96000.0,96000.0,96000.0,96000.0,96000.0,96000.0,96000.0,96000.0,96000.0],\"type\":\"scatter\",\"xaxis\":\"x2\",\"yaxis\":\"y2\"},{\"name\":\"5 Months\",\"x\":[20,21,22,23,24,25,26,27,28,29,30,31,32,33,34,35,36,37,38,39,40,41,42,43,44,45,46,47,48,49,50,51,52,53,54,55],\"y\":[795845.1716795583,712601.7617828418,629358.3518861253,546114.9419894088,462871.53209269233,379628.12219597585,296384.71229925944,213141.30240254285,206975.12389167494,200808.94538080698,194642.7668699391,188476.58835907126,105233.17846235473,21989.76856563825,-61253.64133107825,-144497.05122779476,-227740.46112451123,-233906.63963537914,-240072.818146247,-92084.53388541765,55903.75037541168,203892.03463624098,351880.3188970703,499868.6031578997,647856.8874187293,795845.1716795586,943833.4559403879,1091821.7402012171,1239810.0244620463,1387798.3087228755,1535786.592983705,1683774.8772445342,1831763.1615053634,1979751.4457661929,2127739.7300270223,2275728.014287852],\"type\":\"scatter\",\"xaxis\":\"x\",\"yaxis\":\"y\"},{\"name\":\"5 Months\",\"x\":[20,21,22,23,24,25,26,27,28,29,30,31,32,33,34,35,36,37,38,39,40,41,42,43,44,45,46,47,48,49,50,51,52,53,54,55],\"y\":[-54000.0,-54000.0,-54000.0,-54000.0,-54000.0,-54000.0,-54000.0,-4000.0,-4000.0,-4000.0,-4000.0,-54000.0,-54000.0,-54000.0,-54000.0,-54000.0,-54000.0,-4000.0,46000.0,96000.0,96000.0,96000.0,96000.0,96000.0,96000.0,96000.0,96000.0,96000.0,96000.0,96000.0,96000.0,96000.0,96000.0,96000.0,96000.0,96000.0],\"type\":\"scatter\",\"xaxis\":\"x2\",\"yaxis\":\"y2\"},{\"name\":\"6 Months\",\"x\":[20,21,22,23,24,25,26,27,28,29,30,31,32,33,34,35,36,37,38,39,40,41,42,43,44,45,46,47,48,49,50,51,52,53,54,55],\"y\":[795845.1716795583,712601.7617828418,629358.3518861253,546114.9419894088,462871.53209269233,379628.12219597585,296384.71229925944,213141.30240254285,206975.12389167494,200808.94538080698,194642.7668699391,188476.58835907126,105233.17846235473,21989.76856563825,-61253.64133107825,-144497.05122779476,-227740.46112451123,-233906.63963537914,-240072.818146247,-92084.53388541765,55903.75037541168,203892.03463624098,351880.3188970703,499868.6031578997,647856.8874187293,795845.1716795586,943833.4559403879,1091821.7402012171,1239810.0244620463,1387798.3087228755,1535786.592983705,1683774.8772445342,1831763.1615053634,1979751.4457661929,2127739.7300270223,2275728.014287852],\"type\":\"scatter\",\"xaxis\":\"x\",\"yaxis\":\"y\"},{\"name\":\"6 Months\",\"x\":[20,21,22,23,24,25,26,27,28,29,30,31,32,33,34,35,36,37,38,39,40,41,42,43,44,45,46,47,48,49,50,51,52,53,54,55],\"y\":[-54000.0,-54000.0,-54000.0,-54000.0,-54000.0,-54000.0,-54000.0,-4000.0,-4000.0,-4000.0,-4000.0,-54000.0,-54000.0,-54000.0,-54000.0,-54000.0,-54000.0,-4000.0,46000.0,96000.0,96000.0,96000.0,96000.0,96000.0,96000.0,96000.0,96000.0,96000.0,96000.0,96000.0,96000.0,96000.0,96000.0,96000.0,96000.0,96000.0],\"type\":\"scatter\",\"xaxis\":\"x2\",\"yaxis\":\"y2\"},{\"name\":\"Dec Expiry\",\"x\":[20,21,22,23,24,25,26,27,28,29,30,31,32,33,34,35,36,37,38,39,40,41,42,43,44,45,46,47,48,49,50,51,52,53,54,55],\"y\":[795845.1716795583,712601.7617828418,629358.3518861253,546114.9419894088,462871.53209269233,379628.12219597585,296384.71229925944,213141.30240254285,206975.12389167494,200808.94538080698,194642.7668699391,188476.58835907126,105233.17846235473,21989.76856563825,-61253.64133107825,-144497.05122779476,-227740.46112451123,-233906.63963537914,-240072.818146247,-92084.53388541765,55903.75037541168,203892.03463624098,351880.3188970703,499868.6031578997,647856.8874187293,795845.1716795586,943833.4559403879,1091821.7402012171,1239810.0244620463,1387798.3087228755,1535786.592983705,1683774.8772445342,1831763.1615053634,1979751.4457661929,2127739.7300270223,2275728.014287852],\"type\":\"scatter\",\"xaxis\":\"x\",\"yaxis\":\"y\"},{\"name\":\"Dec Expiry\",\"x\":[20,21,22,23,24,25,26,27,28,29,30,31,32,33,34,35,36,37,38,39,40,41,42,43,44,45,46,47,48,49,50,51,52,53,54,55],\"y\":[-54000.0,-54000.0,-54000.0,-54000.0,-54000.0,-54000.0,-54000.0,-4000.0,-4000.0,-4000.0,-4000.0,-54000.0,-54000.0,-54000.0,-54000.0,-54000.0,-54000.0,-4000.0,46000.0,96000.0,96000.0,96000.0,96000.0,96000.0,96000.0,96000.0,96000.0,96000.0,96000.0,96000.0,96000.0,96000.0,96000.0,96000.0,96000.0,96000.0],\"type\":\"scatter\",\"xaxis\":\"x2\",\"yaxis\":\"y2\"},{\"name\":\"Beta\",\"x\":[20,21,22,23,24,25,26,27,28,29,30,31,32,33,34,35,36,37,38,39,40,41,42,43,44,45,46,47,48,49,50,51,52,53,54,55],\"y\":[-756322.8456913825,-704198.5971943886,-652074.3486973946,-599950.1002004007,-547825.8517034067,-495701.6032064127,-443577.3547094187,-391453.1062124247,-339328.8577154307,-287204.60921843676,-235080.36072144276,-182956.11222444876,-130831.8637274548,-78707.61523046081,-26583.366733466824,25540.881763527155,77665.13026052114,129789.37875751512,181913.6272545091,234037.87575150304,286162.124248497,338286.37274549104,390410.621242485,442534.869739479,494659.11823647295,546783.366733467,598907.6152304609,651031.8637274549,703156.1122244489,755280.3607214428,807404.6092184369,859528.8577154309,911653.1062124249,963777.3547094188,1015901.6032064129,1068025.8517034068],\"type\":\"scatter\",\"xaxis\":\"x\",\"yaxis\":\"y\"},{\"name\":\"Beta\",\"x\":[20,21,22,23,24,25,26,27,28,29,30,31,32,33,34,35,36,37,38,39,40,41,42,43,44,45,46,47,48,49,50,51,52,53,54,55],\"y\":[33813,33813,33813,33813,33813,33813,33813,33813,33813,33813,33813,33813,33813,33813,33813,33813,33813,33813,33813,33813,33813,33813,33813,33813,33813,33813,33813,33813,33813,33813,33813,33813,33813,33813,33813,33813],\"type\":\"scatter\",\"xaxis\":\"x2\",\"yaxis\":\"y2\"}],                        {\"template\":{\"data\":{\"histogram2dcontour\":[{\"type\":\"histogram2dcontour\",\"colorbar\":{\"outlinewidth\":0,\"ticks\":\"\"},\"colorscale\":[[0.0,\"#0d0887\"],[0.1111111111111111,\"#46039f\"],[0.2222222222222222,\"#7201a8\"],[0.3333333333333333,\"#9c179e\"],[0.4444444444444444,\"#bd3786\"],[0.5555555555555556,\"#d8576b\"],[0.6666666666666666,\"#ed7953\"],[0.7777777777777778,\"#fb9f3a\"],[0.8888888888888888,\"#fdca26\"],[1.0,\"#f0f921\"]]}],\"choropleth\":[{\"type\":\"choropleth\",\"colorbar\":{\"outlinewidth\":0,\"ticks\":\"\"}}],\"histogram2d\":[{\"type\":\"histogram2d\",\"colorbar\":{\"outlinewidth\":0,\"ticks\":\"\"},\"colorscale\":[[0.0,\"#0d0887\"],[0.1111111111111111,\"#46039f\"],[0.2222222222222222,\"#7201a8\"],[0.3333333333333333,\"#9c179e\"],[0.4444444444444444,\"#bd3786\"],[0.5555555555555556,\"#d8576b\"],[0.6666666666666666,\"#ed7953\"],[0.7777777777777778,\"#fb9f3a\"],[0.8888888888888888,\"#fdca26\"],[1.0,\"#f0f921\"]]}],\"heatmap\":[{\"type\":\"heatmap\",\"colorbar\":{\"outlinewidth\":0,\"ticks\":\"\"},\"colorscale\":[[0.0,\"#0d0887\"],[0.1111111111111111,\"#46039f\"],[0.2222222222222222,\"#7201a8\"],[0.3333333333333333,\"#9c179e\"],[0.4444444444444444,\"#bd3786\"],[0.5555555555555556,\"#d8576b\"],[0.6666666666666666,\"#ed7953\"],[0.7777777777777778,\"#fb9f3a\"],[0.8888888888888888,\"#fdca26\"],[1.0,\"#f0f921\"]]}],\"heatmapgl\":[{\"type\":\"heatmapgl\",\"colorbar\":{\"outlinewidth\":0,\"ticks\":\"\"},\"colorscale\":[[0.0,\"#0d0887\"],[0.1111111111111111,\"#46039f\"],[0.2222222222222222,\"#7201a8\"],[0.3333333333333333,\"#9c179e\"],[0.4444444444444444,\"#bd3786\"],[0.5555555555555556,\"#d8576b\"],[0.6666666666666666,\"#ed7953\"],[0.7777777777777778,\"#fb9f3a\"],[0.8888888888888888,\"#fdca26\"],[1.0,\"#f0f921\"]]}],\"contourcarpet\":[{\"type\":\"contourcarpet\",\"colorbar\":{\"outlinewidth\":0,\"ticks\":\"\"}}],\"contour\":[{\"type\":\"contour\",\"colorbar\":{\"outlinewidth\":0,\"ticks\":\"\"},\"colorscale\":[[0.0,\"#0d0887\"],[0.1111111111111111,\"#46039f\"],[0.2222222222222222,\"#7201a8\"],[0.3333333333333333,\"#9c179e\"],[0.4444444444444444,\"#bd3786\"],[0.5555555555555556,\"#d8576b\"],[0.6666666666666666,\"#ed7953\"],[0.7777777777777778,\"#fb9f3a\"],[0.8888888888888888,\"#fdca26\"],[1.0,\"#f0f921\"]]}],\"surface\":[{\"type\":\"surface\",\"colorbar\":{\"outlinewidth\":0,\"ticks\":\"\"},\"colorscale\":[[0.0,\"#0d0887\"],[0.1111111111111111,\"#46039f\"],[0.2222222222222222,\"#7201a8\"],[0.3333333333333333,\"#9c179e\"],[0.4444444444444444,\"#bd3786\"],[0.5555555555555556,\"#d8576b\"],[0.6666666666666666,\"#ed7953\"],[0.7777777777777778,\"#fb9f3a\"],[0.8888888888888888,\"#fdca26\"],[1.0,\"#f0f921\"]]}],\"mesh3d\":[{\"type\":\"mesh3d\",\"colorbar\":{\"outlinewidth\":0,\"ticks\":\"\"}}],\"scatter\":[{\"fillpattern\":{\"fillmode\":\"overlay\",\"size\":10,\"solidity\":0.2},\"type\":\"scatter\"}],\"parcoords\":[{\"type\":\"parcoords\",\"line\":{\"colorbar\":{\"outlinewidth\":0,\"ticks\":\"\"}}}],\"scatterpolargl\":[{\"type\":\"scatterpolargl\",\"marker\":{\"colorbar\":{\"outlinewidth\":0,\"ticks\":\"\"}}}],\"bar\":[{\"error_x\":{\"color\":\"#2a3f5f\"},\"error_y\":{\"color\":\"#2a3f5f\"},\"marker\":{\"line\":{\"color\":\"#E5ECF6\",\"width\":0.5},\"pattern\":{\"fillmode\":\"overlay\",\"size\":10,\"solidity\":0.2}},\"type\":\"bar\"}],\"scattergeo\":[{\"type\":\"scattergeo\",\"marker\":{\"colorbar\":{\"outlinewidth\":0,\"ticks\":\"\"}}}],\"scatterpolar\":[{\"type\":\"scatterpolar\",\"marker\":{\"colorbar\":{\"outlinewidth\":0,\"ticks\":\"\"}}}],\"histogram\":[{\"marker\":{\"pattern\":{\"fillmode\":\"overlay\",\"size\":10,\"solidity\":0.2}},\"type\":\"histogram\"}],\"scattergl\":[{\"type\":\"scattergl\",\"marker\":{\"colorbar\":{\"outlinewidth\":0,\"ticks\":\"\"}}}],\"scatter3d\":[{\"type\":\"scatter3d\",\"line\":{\"colorbar\":{\"outlinewidth\":0,\"ticks\":\"\"}},\"marker\":{\"colorbar\":{\"outlinewidth\":0,\"ticks\":\"\"}}}],\"scattermapbox\":[{\"type\":\"scattermapbox\",\"marker\":{\"colorbar\":{\"outlinewidth\":0,\"ticks\":\"\"}}}],\"scatterternary\":[{\"type\":\"scatterternary\",\"marker\":{\"colorbar\":{\"outlinewidth\":0,\"ticks\":\"\"}}}],\"scattercarpet\":[{\"type\":\"scattercarpet\",\"marker\":{\"colorbar\":{\"outlinewidth\":0,\"ticks\":\"\"}}}],\"carpet\":[{\"aaxis\":{\"endlinecolor\":\"#2a3f5f\",\"gridcolor\":\"white\",\"linecolor\":\"white\",\"minorgridcolor\":\"white\",\"startlinecolor\":\"#2a3f5f\"},\"baxis\":{\"endlinecolor\":\"#2a3f5f\",\"gridcolor\":\"white\",\"linecolor\":\"white\",\"minorgridcolor\":\"white\",\"startlinecolor\":\"#2a3f5f\"},\"type\":\"carpet\"}],\"table\":[{\"cells\":{\"fill\":{\"color\":\"#EBF0F8\"},\"line\":{\"color\":\"white\"}},\"header\":{\"fill\":{\"color\":\"#C8D4E3\"},\"line\":{\"color\":\"white\"}},\"type\":\"table\"}],\"barpolar\":[{\"marker\":{\"line\":{\"color\":\"#E5ECF6\",\"width\":0.5},\"pattern\":{\"fillmode\":\"overlay\",\"size\":10,\"solidity\":0.2}},\"type\":\"barpolar\"}],\"pie\":[{\"automargin\":true,\"type\":\"pie\"}]},\"layout\":{\"autotypenumbers\":\"strict\",\"colorway\":[\"#636efa\",\"#EF553B\",\"#00cc96\",\"#ab63fa\",\"#FFA15A\",\"#19d3f3\",\"#FF6692\",\"#B6E880\",\"#FF97FF\",\"#FECB52\"],\"font\":{\"color\":\"#2a3f5f\"},\"hovermode\":\"closest\",\"hoverlabel\":{\"align\":\"left\"},\"paper_bgcolor\":\"white\",\"plot_bgcolor\":\"#E5ECF6\",\"polar\":{\"bgcolor\":\"#E5ECF6\",\"angularaxis\":{\"gridcolor\":\"white\",\"linecolor\":\"white\",\"ticks\":\"\"},\"radialaxis\":{\"gridcolor\":\"white\",\"linecolor\":\"white\",\"ticks\":\"\"}},\"ternary\":{\"bgcolor\":\"#E5ECF6\",\"aaxis\":{\"gridcolor\":\"white\",\"linecolor\":\"white\",\"ticks\":\"\"},\"baxis\":{\"gridcolor\":\"white\",\"linecolor\":\"white\",\"ticks\":\"\"},\"caxis\":{\"gridcolor\":\"white\",\"linecolor\":\"white\",\"ticks\":\"\"}},\"coloraxis\":{\"colorbar\":{\"outlinewidth\":0,\"ticks\":\"\"}},\"colorscale\":{\"sequential\":[[0.0,\"#0d0887\"],[0.1111111111111111,\"#46039f\"],[0.2222222222222222,\"#7201a8\"],[0.3333333333333333,\"#9c179e\"],[0.4444444444444444,\"#bd3786\"],[0.5555555555555556,\"#d8576b\"],[0.6666666666666666,\"#ed7953\"],[0.7777777777777778,\"#fb9f3a\"],[0.8888888888888888,\"#fdca26\"],[1.0,\"#f0f921\"]],\"sequentialminus\":[[0.0,\"#0d0887\"],[0.1111111111111111,\"#46039f\"],[0.2222222222222222,\"#7201a8\"],[0.3333333333333333,\"#9c179e\"],[0.4444444444444444,\"#bd3786\"],[0.5555555555555556,\"#d8576b\"],[0.6666666666666666,\"#ed7953\"],[0.7777777777777778,\"#fb9f3a\"],[0.8888888888888888,\"#fdca26\"],[1.0,\"#f0f921\"]],\"diverging\":[[0,\"#8e0152\"],[0.1,\"#c51b7d\"],[0.2,\"#de77ae\"],[0.3,\"#f1b6da\"],[0.4,\"#fde0ef\"],[0.5,\"#f7f7f7\"],[0.6,\"#e6f5d0\"],[0.7,\"#b8e186\"],[0.8,\"#7fbc41\"],[0.9,\"#4d9221\"],[1,\"#276419\"]]},\"xaxis\":{\"gridcolor\":\"white\",\"linecolor\":\"white\",\"ticks\":\"\",\"title\":{\"standoff\":15},\"zerolinecolor\":\"white\",\"automargin\":true,\"zerolinewidth\":2},\"yaxis\":{\"gridcolor\":\"white\",\"linecolor\":\"white\",\"ticks\":\"\",\"title\":{\"standoff\":15},\"zerolinecolor\":\"white\",\"automargin\":true,\"zerolinewidth\":2},\"scene\":{\"xaxis\":{\"backgroundcolor\":\"#E5ECF6\",\"gridcolor\":\"white\",\"linecolor\":\"white\",\"showbackground\":true,\"ticks\":\"\",\"zerolinecolor\":\"white\",\"gridwidth\":2},\"yaxis\":{\"backgroundcolor\":\"#E5ECF6\",\"gridcolor\":\"white\",\"linecolor\":\"white\",\"showbackground\":true,\"ticks\":\"\",\"zerolinecolor\":\"white\",\"gridwidth\":2},\"zaxis\":{\"backgroundcolor\":\"#E5ECF6\",\"gridcolor\":\"white\",\"linecolor\":\"white\",\"showbackground\":true,\"ticks\":\"\",\"zerolinecolor\":\"white\",\"gridwidth\":2}},\"shapedefaults\":{\"line\":{\"color\":\"#2a3f5f\"}},\"annotationdefaults\":{\"arrowcolor\":\"#2a3f5f\",\"arrowhead\":0,\"arrowwidth\":1},\"geo\":{\"bgcolor\":\"white\",\"landcolor\":\"#E5ECF6\",\"subunitcolor\":\"white\",\"showland\":true,\"showlakes\":true,\"lakecolor\":\"white\"},\"title\":{\"x\":0.05},\"mapbox\":{\"style\":\"light\"}}},\"xaxis\":{\"anchor\":\"y\",\"domain\":[0.0,0.45],\"title\":{\"text\":\"Price\"}},\"yaxis\":{\"anchor\":\"x\",\"domain\":[0.0,1.0],\"title\":{\"text\":\"PnL\"}},\"xaxis2\":{\"anchor\":\"y2\",\"domain\":[0.55,1.0],\"title\":{\"text\":\"Price\"}},\"yaxis2\":{\"anchor\":\"x2\",\"domain\":[0.0,1.0],\"title\":{\"text\":\"Delta\"}},\"title\":{\"text\":\"CCA Position (PnL and Delta)\",\"x\":0.5,\"xanchor\":\"center\"},\"shapes\":[{\"line\":{\"color\":\"green\",\"dash\":\"dash\",\"width\":1},\"type\":\"line\",\"x0\":34.51,\"x1\":34.51,\"xref\":\"x\",\"y0\":0,\"y1\":1,\"yref\":\"y domain\"},{\"line\":{\"color\":\"green\",\"dash\":\"dash\",\"width\":1},\"type\":\"line\",\"x0\":34.51,\"x1\":34.51,\"xref\":\"x2\",\"y0\":0,\"y1\":1,\"yref\":\"y2 domain\"}]},                        {\"responsive\": true}                    ).then(function(){\n",
       "                            \n",
       "var gd = document.getElementById('de035362-9b8b-4d0a-9683-12ea48bea7cf');\n",
       "var x = new MutationObserver(function (mutations, observer) {{\n",
       "        var display = window.getComputedStyle(gd).display;\n",
       "        if (!display || display === 'none') {{\n",
       "            console.log([gd, 'removed!']);\n",
       "            Plotly.purge(gd);\n",
       "            observer.disconnect();\n",
       "        }}\n",
       "}});\n",
       "\n",
       "// Listen for the removal of the full notebook cells\n",
       "var notebookContainer = gd.closest('#notebook-container');\n",
       "if (notebookContainer) {{\n",
       "    x.observe(notebookContainer, {childList: true});\n",
       "}}\n",
       "\n",
       "// Listen for the clearing of the current output cell\n",
       "var outputEl = gd.closest('.output');\n",
       "if (outputEl) {{\n",
       "    x.observe(outputEl, {childList: true});\n",
       "}}\n",
       "\n",
       "                        })                };                });            </script>        </div>"
      ]
     },
     "metadata": {},
     "output_type": "display_data"
    }
   ],
   "source": [
    "fig = make_subplots(rows=1, cols=2)\n",
    "for i in range(0,len(fig_d.data)):\n",
    "    fig.add_trace(fig_p.data[i], row=1, col=1)\n",
    "    fig.add_trace(fig_d.data[i], row=1, col=2)\n",
    "\n",
    "fig.update_layout(title={'text': 'CCA Position (PnL and Delta)','x': 0.5,'xanchor': 'center'})\n",
    "\n",
    "fig.update_xaxes(title_text=\"Price\", row=1, col=1)\n",
    "fig.update_yaxes(title_text=\"PnL\", row=1, col=1)\n",
    "fig.update_xaxes(title_text=\"Price\", row=1, col=2)\n",
    "fig.update_yaxes(title_text=\"Delta\", row=1, col=2)\n",
    "\n",
    "fig.add_vline(x=current_spot, line_width=1, line_dash=\"dash\", line_color=\"green\")\n",
    "\n",
    "fig.show()"
   ]
  },
  {
   "cell_type": "code",
   "execution_count": 28,
   "id": "795643ae",
   "metadata": {},
   "outputs": [
    {
     "data": {
      "application/vnd.plotly.v1+json": {
       "config": {
        "plotlyServerURL": "https://plot.ly"
       },
       "data": [
        {
         "name": "today",
         "type": "scatter",
         "x": [
          20,
          21,
          22,
          23,
          24,
          25,
          26,
          27,
          28,
          29,
          30,
          31,
          32,
          33,
          34,
          35,
          36,
          37,
          38,
          39,
          40,
          41,
          42,
          43,
          44,
          45,
          46,
          47,
          48,
          49,
          50,
          51,
          52,
          53,
          54,
          55
         ],
         "xaxis": "x",
         "y": [
          -74.14875234993063,
          -225.5881097828447,
          -402.75371619381906,
          -575.1087067076189,
          -704.3961463805239,
          -757.623671135628,
          -721.1578719734558,
          -610.4319297491295,
          -471.1255213834316,
          -370.40684741607726,
          -379.88277201069684,
          -554.6494865577479,
          -914.7203969595854,
          -1435.2614931585022,
          -2049.739651047574,
          -2665.644412441109,
          -3187.691495135149,
          -3540.6929646629005,
          -3684.9147127937513,
          -3620.2149006934415,
          -3379.6525828137687,
          -3016.5349743537067,
          -2589.9588580202517,
          -2152.965056253216,
          -1745.4272533031708,
          -1391.8009795311125,
          -1102.541534665032,
          -877.5275486093578,
          -710.0031244502518,
          -590.0472446028716,
          -507.1103701002418,
          -451.56187056555666,
          -415.4209849947324,
          -392.5244528766368,
          -378.36968426066994,
          -369.8147621366187
         ],
         "yaxis": "y"
        },
        {
         "name": "today",
         "type": "scatter",
         "x": [
          20,
          21,
          22,
          23,
          24,
          25,
          26,
          27,
          28,
          29,
          30,
          31,
          32,
          33,
          34,
          35,
          36,
          37,
          38,
          39,
          40,
          41,
          42,
          43,
          44,
          45,
          46,
          47,
          48,
          49,
          50,
          51,
          52,
          53,
          54,
          55
         ],
         "xaxis": "x2",
         "y": [
          254.0000112111493,
          412.22397867693303,
          592.9843430854809,
          760.5997528139031,
          871.7408256761817,
          891.262424375818,
          809.5285259515798,
          654.5142912515246,
          493.2278309195085,
          420.0061789475915,
          533.0742763930058,
          904.8505432211191,
          1554.9221547103518,
          2435.617045314055,
          3437.0200787916506,
          4411.43624872789,
          5209.6162816722945,
          5716.465086923257,
          5874.779868639715,
          5691.064686485226,
          5224.5449078855,
          4565.811552358902,
          3813.2781596544905,
          3054.0917661930275,
          2352.8745426111627,
          1748.42226137945,
          1256.3539806318702,
          874.9613420557349,
          591.8180007726072,
          389.53771193386297,
          249.94754663698012,
          156.60497561821762,
          95.95950615372897,
          57.58628648470123,
          33.89071298568048,
          19.58476129337359
         ],
         "yaxis": "y2"
        },
        {
         "name": "End of Next Wk",
         "type": "scatter",
         "x": [
          20,
          21,
          22,
          23,
          24,
          25,
          26,
          27,
          28,
          29,
          30,
          31,
          32,
          33,
          34,
          35,
          36,
          37,
          38,
          39,
          40,
          41,
          42,
          43,
          44,
          45,
          46,
          47,
          48,
          49,
          50,
          51,
          52,
          53,
          54,
          55
         ],
         "xaxis": "x",
         "y": [
          4.811613865775877,
          -148.70412306722147,
          -364.91238874704186,
          -615.9718431575382,
          -846.073243723725,
          -986.8391971467244,
          -984.3456108190198,
          -826.2900777951406,
          -556.6754409210989,
          -270.9229490774894,
          -92.2721667065531,
          -136.2256553296121,
          -472.85367731824147,
          -1098.3896090767462,
          -1927.293341118975,
          -2811.096937332186,
          -3580.1009975156467,
          -4092.956806438105,
          -4274.68975128222,
          -4129.423335784649,
          -3726.4374920626506,
          -3169.5416350959595,
          -2564.1745568189185,
          -1993.5844544723295,
          -1508.560452338504,
          -1128.909201990829,
          -851.6848578272483,
          -661.1283137573485,
          -536.9911109220786,
          -459.9376152719632,
          -414.1644884761562,
          -388.0440811324713,
          -373.67906795666227,
          -366.0437701072824,
          -362.11150641455174,
          -360.1447566171445
         ],
         "yaxis": "y"
        },
        {
         "name": "End of Next Wk",
         "type": "scatter",
         "x": [
          20,
          21,
          22,
          23,
          24,
          25,
          26,
          27,
          28,
          29,
          30,
          31,
          32,
          33,
          34,
          35,
          36,
          37,
          38,
          39,
          40,
          41,
          42,
          43,
          44,
          45,
          46,
          47,
          48,
          49,
          50,
          51,
          52,
          53,
          54,
          55
         ],
         "xaxis": "x2",
         "y": [
          127.19239529143985,
          248.40035311010385,
          417.18850386119186,
          608.734659154784,
          775.0394720892095,
          858.534430878844,
          816.071368658335,
          643.4445776989886,
          389.1598341424641,
          150.5241218925053,
          51.6767131052448,
          208.422869744369,
          688.5381555022651,
          1479.7669361452397,
          2479.31734275703,
          3513.930889614627,
          4387.327484489442,
          4937.883996526042,
          5083.256959272779,
          4835.115296493162,
          4282.035712702602,
          3552.4552971490475,
          2775.0557823993186,
          2050.287691990079,
          1438.3887085945096,
          961.6248035310044,
          614.6315198199841,
          376.7030761583119,
          221.9999718163064,
          126.11909520060843,
          69.2321028141396,
          36.80315716261755,
          18.98452993743249,
          9.520906353383946,
          4.650421676286058,
          2.215972369463768
         ],
         "yaxis": "y2"
        },
        {
         "name": "End of 2 Wks",
         "type": "scatter",
         "x": [
          20,
          21,
          22,
          23,
          24,
          25,
          26,
          27,
          28,
          29,
          30,
          31,
          32,
          33,
          34,
          35,
          36,
          37,
          38,
          39,
          40,
          41,
          42,
          43,
          44,
          45,
          46,
          47,
          48,
          49,
          50,
          51,
          52,
          53,
          54,
          55
         ],
         "xaxis": "x",
         "y": [
          91.17333550917776,
          -28.95728329158131,
          -251.1296858849681,
          -578.656407889261,
          -957.2060791913617,
          -1273.54114888686,
          -1394.2066362426708,
          -1231.1114144081762,
          -798.5048098119266,
          -227.01084725441848,
          273.5810302293652,
          482.364486778299,
          237.81759230555713,
          -507.01983824702745,
          -1654.7384601477693,
          -2973.0927828108015,
          -4156.406847764676,
          -4927.576345941204,
          -5136.632560494137,
          -4804.2475541089825,
          -4090.0446977540314,
          -3211.1874710239035,
          -2359.658801148431,
          -1654.757967397437,
          -1138.111951267498,
          -796.0330037954589,
          -588.6913110200762,
          -472.5232954181689,
          -411.9011966684674,
          -382.25020432751285,
          -368.58475402398574,
          -362.6226764792403,
          -360.1501512941752,
          -359.17190651376325,
          -358.801431773856,
          -358.6667264744721
         ],
         "yaxis": "y"
        },
        {
         "name": "End of 2 Wks",
         "type": "scatter",
         "x": [
          20,
          21,
          22,
          23,
          24,
          25,
          26,
          27,
          28,
          29,
          30,
          31,
          32,
          33,
          34,
          35,
          36,
          37,
          38,
          39,
          40,
          41,
          42,
          43,
          44,
          45,
          46,
          47,
          48,
          49,
          50,
          51,
          52,
          53,
          54,
          55
         ],
         "xaxis": "x2",
         "y": [
          40.93423783438332,
          107.56711863465785,
          230.27474495469474,
          409.5831527386515,
          612.5933877836428,
          772.2219088459626,
          810.1741171046244,
          676.7750087852326,
          386.6191248146848,
          28.59453815071327,
          -255.8990708821733,
          -315.45496058137917,
          -36.22227158141919,
          615.5488434311786,
          1564.9197489346966,
          2629.4086180349723,
          3564.67381395078,
          4147.414307144645,
          4258.122262633728,
          3918.648853718728,
          3266.2831595660377,
          2485.4126103282797,
          1737.8584869943618,
          1123.04182698691,
          674.2174569935125,
          377.8352082316976,
          198.5309199773432,
          98.21302379343359,
          45.919390331261276,
          20.3642496599601,
          8.594908819427955,
          3.463165486650187,
          1.3360809962199363,
          0.49488532792935236,
          0.1764393769141776,
          0.060693257374234554
         ],
         "yaxis": "y2"
        },
        {
         "name": "EoM",
         "type": "scatter",
         "x": [
          20,
          21,
          22,
          23,
          24,
          25,
          26,
          27,
          28,
          29,
          30,
          31,
          32,
          33,
          34,
          35,
          36,
          37,
          38,
          39,
          40,
          41,
          42,
          43,
          44,
          45,
          46,
          47,
          48,
          49,
          50,
          51,
          52,
          53,
          54,
          55
         ],
         "xaxis": "x",
         "y": [
          91.17333550917776,
          -28.95728329158131,
          -251.1296858849681,
          -578.656407889261,
          -957.2060791913617,
          -1273.54114888686,
          -1394.2066362426708,
          -1231.1114144081762,
          -798.5048098119266,
          -227.01084725441848,
          273.5810302293652,
          482.364486778299,
          237.81759230555713,
          -507.01983824702745,
          -1654.7384601477693,
          -2973.0927828108015,
          -4156.406847764676,
          -4927.576345941204,
          -5136.632560494137,
          -4804.2475541089825,
          -4090.0446977540314,
          -3211.1874710239035,
          -2359.658801148431,
          -1654.757967397437,
          -1138.111951267498,
          -796.0330037954589,
          -588.6913110200762,
          -472.5232954181689,
          -411.9011966684674,
          -382.25020432751285,
          -368.58475402398574,
          -362.6226764792403,
          -360.1501512941752,
          -359.17190651376325,
          -358.801431773856,
          -358.6667264744721
         ],
         "yaxis": "y"
        },
        {
         "name": "EoM",
         "type": "scatter",
         "x": [
          20,
          21,
          22,
          23,
          24,
          25,
          26,
          27,
          28,
          29,
          30,
          31,
          32,
          33,
          34,
          35,
          36,
          37,
          38,
          39,
          40,
          41,
          42,
          43,
          44,
          45,
          46,
          47,
          48,
          49,
          50,
          51,
          52,
          53,
          54,
          55
         ],
         "xaxis": "x2",
         "y": [
          40.93423783438332,
          107.56711863465785,
          230.27474495469474,
          409.5831527386515,
          612.5933877836428,
          772.2219088459626,
          810.1741171046244,
          676.7750087852326,
          386.6191248146848,
          28.59453815071327,
          -255.8990708821733,
          -315.45496058137917,
          -36.22227158141919,
          615.5488434311786,
          1564.9197489346966,
          2629.4086180349723,
          3564.67381395078,
          4147.414307144645,
          4258.122262633728,
          3918.648853718728,
          3266.2831595660377,
          2485.4126103282797,
          1737.8584869943618,
          1123.04182698691,
          674.2174569935125,
          377.8352082316976,
          198.5309199773432,
          98.21302379343359,
          45.919390331261276,
          20.3642496599601,
          8.594908819427955,
          3.463165486650187,
          1.3360809962199363,
          0.49488532792935236,
          0.1764393769141776,
          0.060693257374234554
         ],
         "yaxis": "y2"
        },
        {
         "name": "2 Months",
         "type": "scatter",
         "x": [
          20,
          21,
          22,
          23,
          24,
          25,
          26,
          27,
          28,
          29,
          30,
          31,
          32,
          33,
          34,
          35,
          36,
          37,
          38,
          39,
          40,
          41,
          42,
          43,
          44,
          45,
          46,
          47,
          48,
          49,
          50,
          51,
          52,
          53,
          54,
          55
         ],
         "xaxis": "x",
         "y": [
          0,
          0,
          0,
          0,
          0,
          0,
          0,
          0,
          0,
          0,
          0,
          0,
          0,
          0,
          0,
          0,
          0,
          0,
          0,
          0,
          0,
          0,
          0,
          0,
          0,
          0,
          0,
          0,
          0,
          0,
          0,
          0,
          0,
          0,
          0,
          0
         ],
         "yaxis": "y"
        },
        {
         "name": "2 Months",
         "type": "scatter",
         "x": [
          20,
          21,
          22,
          23,
          24,
          25,
          26,
          27,
          28,
          29,
          30,
          31,
          32,
          33,
          34,
          35,
          36,
          37,
          38,
          39,
          40,
          41,
          42,
          43,
          44,
          45,
          46,
          47,
          48,
          49,
          50,
          51,
          52,
          53,
          54,
          55
         ],
         "xaxis": "x2",
         "y": [
          0,
          0,
          0,
          0,
          0,
          0,
          0,
          0,
          0,
          0,
          0,
          0,
          0,
          0,
          0,
          0,
          0,
          0,
          0,
          0,
          0,
          0,
          0,
          0,
          0,
          0,
          0,
          0,
          0,
          0,
          0,
          0,
          0,
          0,
          0,
          0
         ],
         "yaxis": "y2"
        },
        {
         "name": "3 Months",
         "type": "scatter",
         "x": [
          20,
          21,
          22,
          23,
          24,
          25,
          26,
          27,
          28,
          29,
          30,
          31,
          32,
          33,
          34,
          35,
          36,
          37,
          38,
          39,
          40,
          41,
          42,
          43,
          44,
          45,
          46,
          47,
          48,
          49,
          50,
          51,
          52,
          53,
          54,
          55
         ],
         "xaxis": "x",
         "y": [
          0,
          0,
          0,
          0,
          0,
          0,
          0,
          0,
          0,
          0,
          0,
          0,
          0,
          0,
          0,
          0,
          0,
          0,
          0,
          0,
          0,
          0,
          0,
          0,
          0,
          0,
          0,
          0,
          0,
          0,
          0,
          0,
          0,
          0,
          0,
          0
         ],
         "yaxis": "y"
        },
        {
         "name": "3 Months",
         "type": "scatter",
         "x": [
          20,
          21,
          22,
          23,
          24,
          25,
          26,
          27,
          28,
          29,
          30,
          31,
          32,
          33,
          34,
          35,
          36,
          37,
          38,
          39,
          40,
          41,
          42,
          43,
          44,
          45,
          46,
          47,
          48,
          49,
          50,
          51,
          52,
          53,
          54,
          55
         ],
         "xaxis": "x2",
         "y": [
          0,
          0,
          0,
          0,
          0,
          0,
          0,
          0,
          0,
          0,
          0,
          0,
          0,
          0,
          0,
          0,
          0,
          0,
          0,
          0,
          0,
          0,
          0,
          0,
          0,
          0,
          0,
          0,
          0,
          0,
          0,
          0,
          0,
          0,
          0,
          0
         ],
         "yaxis": "y2"
        },
        {
         "name": "4 Months",
         "type": "scatter",
         "x": [
          20,
          21,
          22,
          23,
          24,
          25,
          26,
          27,
          28,
          29,
          30,
          31,
          32,
          33,
          34,
          35,
          36,
          37,
          38,
          39,
          40,
          41,
          42,
          43,
          44,
          45,
          46,
          47,
          48,
          49,
          50,
          51,
          52,
          53,
          54,
          55
         ],
         "xaxis": "x",
         "y": [
          0,
          0,
          0,
          0,
          0,
          0,
          0,
          0,
          0,
          0,
          0,
          0,
          0,
          0,
          0,
          0,
          0,
          0,
          0,
          0,
          0,
          0,
          0,
          0,
          0,
          0,
          0,
          0,
          0,
          0,
          0,
          0,
          0,
          0,
          0,
          0
         ],
         "yaxis": "y"
        },
        {
         "name": "4 Months",
         "type": "scatter",
         "x": [
          20,
          21,
          22,
          23,
          24,
          25,
          26,
          27,
          28,
          29,
          30,
          31,
          32,
          33,
          34,
          35,
          36,
          37,
          38,
          39,
          40,
          41,
          42,
          43,
          44,
          45,
          46,
          47,
          48,
          49,
          50,
          51,
          52,
          53,
          54,
          55
         ],
         "xaxis": "x2",
         "y": [
          0,
          0,
          0,
          0,
          0,
          0,
          0,
          0,
          0,
          0,
          0,
          0,
          0,
          0,
          0,
          0,
          0,
          0,
          0,
          0,
          0,
          0,
          0,
          0,
          0,
          0,
          0,
          0,
          0,
          0,
          0,
          0,
          0,
          0,
          0,
          0
         ],
         "yaxis": "y2"
        },
        {
         "name": "5 Months",
         "type": "scatter",
         "x": [
          20,
          21,
          22,
          23,
          24,
          25,
          26,
          27,
          28,
          29,
          30,
          31,
          32,
          33,
          34,
          35,
          36,
          37,
          38,
          39,
          40,
          41,
          42,
          43,
          44,
          45,
          46,
          47,
          48,
          49,
          50,
          51,
          52,
          53,
          54,
          55
         ],
         "xaxis": "x",
         "y": [
          0,
          0,
          0,
          0,
          0,
          0,
          0,
          0,
          0,
          0,
          0,
          0,
          0,
          0,
          0,
          0,
          0,
          0,
          0,
          0,
          0,
          0,
          0,
          0,
          0,
          0,
          0,
          0,
          0,
          0,
          0,
          0,
          0,
          0,
          0,
          0
         ],
         "yaxis": "y"
        },
        {
         "name": "5 Months",
         "type": "scatter",
         "x": [
          20,
          21,
          22,
          23,
          24,
          25,
          26,
          27,
          28,
          29,
          30,
          31,
          32,
          33,
          34,
          35,
          36,
          37,
          38,
          39,
          40,
          41,
          42,
          43,
          44,
          45,
          46,
          47,
          48,
          49,
          50,
          51,
          52,
          53,
          54,
          55
         ],
         "xaxis": "x2",
         "y": [
          0,
          0,
          0,
          0,
          0,
          0,
          0,
          0,
          0,
          0,
          0,
          0,
          0,
          0,
          0,
          0,
          0,
          0,
          0,
          0,
          0,
          0,
          0,
          0,
          0,
          0,
          0,
          0,
          0,
          0,
          0,
          0,
          0,
          0,
          0,
          0
         ],
         "yaxis": "y2"
        },
        {
         "name": "6 Months",
         "type": "scatter",
         "x": [
          20,
          21,
          22,
          23,
          24,
          25,
          26,
          27,
          28,
          29,
          30,
          31,
          32,
          33,
          34,
          35,
          36,
          37,
          38,
          39,
          40,
          41,
          42,
          43,
          44,
          45,
          46,
          47,
          48,
          49,
          50,
          51,
          52,
          53,
          54,
          55
         ],
         "xaxis": "x",
         "y": [
          0,
          0,
          0,
          0,
          0,
          0,
          0,
          0,
          0,
          0,
          0,
          0,
          0,
          0,
          0,
          0,
          0,
          0,
          0,
          0,
          0,
          0,
          0,
          0,
          0,
          0,
          0,
          0,
          0,
          0,
          0,
          0,
          0,
          0,
          0,
          0
         ],
         "yaxis": "y"
        },
        {
         "name": "6 Months",
         "type": "scatter",
         "x": [
          20,
          21,
          22,
          23,
          24,
          25,
          26,
          27,
          28,
          29,
          30,
          31,
          32,
          33,
          34,
          35,
          36,
          37,
          38,
          39,
          40,
          41,
          42,
          43,
          44,
          45,
          46,
          47,
          48,
          49,
          50,
          51,
          52,
          53,
          54,
          55
         ],
         "xaxis": "x2",
         "y": [
          0,
          0,
          0,
          0,
          0,
          0,
          0,
          0,
          0,
          0,
          0,
          0,
          0,
          0,
          0,
          0,
          0,
          0,
          0,
          0,
          0,
          0,
          0,
          0,
          0,
          0,
          0,
          0,
          0,
          0,
          0,
          0,
          0,
          0,
          0,
          0
         ],
         "yaxis": "y2"
        },
        {
         "name": "Dec Expiry",
         "type": "scatter",
         "x": [
          20,
          21,
          22,
          23,
          24,
          25,
          26,
          27,
          28,
          29,
          30,
          31,
          32,
          33,
          34,
          35,
          36,
          37,
          38,
          39,
          40,
          41,
          42,
          43,
          44,
          45,
          46,
          47,
          48,
          49,
          50,
          51,
          52,
          53,
          54,
          55
         ],
         "xaxis": "x",
         "y": [
          0,
          0,
          0,
          0,
          0,
          0,
          0,
          0,
          0,
          0,
          0,
          0,
          0,
          0,
          0,
          0,
          0,
          0,
          0,
          0,
          0,
          0,
          0,
          0,
          0,
          0,
          0,
          0,
          0,
          0,
          0,
          0,
          0,
          0,
          0,
          0
         ],
         "yaxis": "y"
        },
        {
         "name": "Dec Expiry",
         "type": "scatter",
         "x": [
          20,
          21,
          22,
          23,
          24,
          25,
          26,
          27,
          28,
          29,
          30,
          31,
          32,
          33,
          34,
          35,
          36,
          37,
          38,
          39,
          40,
          41,
          42,
          43,
          44,
          45,
          46,
          47,
          48,
          49,
          50,
          51,
          52,
          53,
          54,
          55
         ],
         "xaxis": "x2",
         "y": [
          0,
          0,
          0,
          0,
          0,
          0,
          0,
          0,
          0,
          0,
          0,
          0,
          0,
          0,
          0,
          0,
          0,
          0,
          0,
          0,
          0,
          0,
          0,
          0,
          0,
          0,
          0,
          0,
          0,
          0,
          0,
          0,
          0,
          0,
          0,
          0
         ],
         "yaxis": "y2"
        }
       ],
       "layout": {
        "template": {
         "data": {
          "bar": [
           {
            "error_x": {
             "color": "#2a3f5f"
            },
            "error_y": {
             "color": "#2a3f5f"
            },
            "marker": {
             "line": {
              "color": "#E5ECF6",
              "width": 0.5
             },
             "pattern": {
              "fillmode": "overlay",
              "size": 10,
              "solidity": 0.2
             }
            },
            "type": "bar"
           }
          ],
          "barpolar": [
           {
            "marker": {
             "line": {
              "color": "#E5ECF6",
              "width": 0.5
             },
             "pattern": {
              "fillmode": "overlay",
              "size": 10,
              "solidity": 0.2
             }
            },
            "type": "barpolar"
           }
          ],
          "carpet": [
           {
            "aaxis": {
             "endlinecolor": "#2a3f5f",
             "gridcolor": "white",
             "linecolor": "white",
             "minorgridcolor": "white",
             "startlinecolor": "#2a3f5f"
            },
            "baxis": {
             "endlinecolor": "#2a3f5f",
             "gridcolor": "white",
             "linecolor": "white",
             "minorgridcolor": "white",
             "startlinecolor": "#2a3f5f"
            },
            "type": "carpet"
           }
          ],
          "choropleth": [
           {
            "colorbar": {
             "outlinewidth": 0,
             "ticks": ""
            },
            "type": "choropleth"
           }
          ],
          "contour": [
           {
            "colorbar": {
             "outlinewidth": 0,
             "ticks": ""
            },
            "colorscale": [
             [
              0,
              "#0d0887"
             ],
             [
              0.1111111111111111,
              "#46039f"
             ],
             [
              0.2222222222222222,
              "#7201a8"
             ],
             [
              0.3333333333333333,
              "#9c179e"
             ],
             [
              0.4444444444444444,
              "#bd3786"
             ],
             [
              0.5555555555555556,
              "#d8576b"
             ],
             [
              0.6666666666666666,
              "#ed7953"
             ],
             [
              0.7777777777777778,
              "#fb9f3a"
             ],
             [
              0.8888888888888888,
              "#fdca26"
             ],
             [
              1,
              "#f0f921"
             ]
            ],
            "type": "contour"
           }
          ],
          "contourcarpet": [
           {
            "colorbar": {
             "outlinewidth": 0,
             "ticks": ""
            },
            "type": "contourcarpet"
           }
          ],
          "heatmap": [
           {
            "colorbar": {
             "outlinewidth": 0,
             "ticks": ""
            },
            "colorscale": [
             [
              0,
              "#0d0887"
             ],
             [
              0.1111111111111111,
              "#46039f"
             ],
             [
              0.2222222222222222,
              "#7201a8"
             ],
             [
              0.3333333333333333,
              "#9c179e"
             ],
             [
              0.4444444444444444,
              "#bd3786"
             ],
             [
              0.5555555555555556,
              "#d8576b"
             ],
             [
              0.6666666666666666,
              "#ed7953"
             ],
             [
              0.7777777777777778,
              "#fb9f3a"
             ],
             [
              0.8888888888888888,
              "#fdca26"
             ],
             [
              1,
              "#f0f921"
             ]
            ],
            "type": "heatmap"
           }
          ],
          "heatmapgl": [
           {
            "colorbar": {
             "outlinewidth": 0,
             "ticks": ""
            },
            "colorscale": [
             [
              0,
              "#0d0887"
             ],
             [
              0.1111111111111111,
              "#46039f"
             ],
             [
              0.2222222222222222,
              "#7201a8"
             ],
             [
              0.3333333333333333,
              "#9c179e"
             ],
             [
              0.4444444444444444,
              "#bd3786"
             ],
             [
              0.5555555555555556,
              "#d8576b"
             ],
             [
              0.6666666666666666,
              "#ed7953"
             ],
             [
              0.7777777777777778,
              "#fb9f3a"
             ],
             [
              0.8888888888888888,
              "#fdca26"
             ],
             [
              1,
              "#f0f921"
             ]
            ],
            "type": "heatmapgl"
           }
          ],
          "histogram": [
           {
            "marker": {
             "pattern": {
              "fillmode": "overlay",
              "size": 10,
              "solidity": 0.2
             }
            },
            "type": "histogram"
           }
          ],
          "histogram2d": [
           {
            "colorbar": {
             "outlinewidth": 0,
             "ticks": ""
            },
            "colorscale": [
             [
              0,
              "#0d0887"
             ],
             [
              0.1111111111111111,
              "#46039f"
             ],
             [
              0.2222222222222222,
              "#7201a8"
             ],
             [
              0.3333333333333333,
              "#9c179e"
             ],
             [
              0.4444444444444444,
              "#bd3786"
             ],
             [
              0.5555555555555556,
              "#d8576b"
             ],
             [
              0.6666666666666666,
              "#ed7953"
             ],
             [
              0.7777777777777778,
              "#fb9f3a"
             ],
             [
              0.8888888888888888,
              "#fdca26"
             ],
             [
              1,
              "#f0f921"
             ]
            ],
            "type": "histogram2d"
           }
          ],
          "histogram2dcontour": [
           {
            "colorbar": {
             "outlinewidth": 0,
             "ticks": ""
            },
            "colorscale": [
             [
              0,
              "#0d0887"
             ],
             [
              0.1111111111111111,
              "#46039f"
             ],
             [
              0.2222222222222222,
              "#7201a8"
             ],
             [
              0.3333333333333333,
              "#9c179e"
             ],
             [
              0.4444444444444444,
              "#bd3786"
             ],
             [
              0.5555555555555556,
              "#d8576b"
             ],
             [
              0.6666666666666666,
              "#ed7953"
             ],
             [
              0.7777777777777778,
              "#fb9f3a"
             ],
             [
              0.8888888888888888,
              "#fdca26"
             ],
             [
              1,
              "#f0f921"
             ]
            ],
            "type": "histogram2dcontour"
           }
          ],
          "mesh3d": [
           {
            "colorbar": {
             "outlinewidth": 0,
             "ticks": ""
            },
            "type": "mesh3d"
           }
          ],
          "parcoords": [
           {
            "line": {
             "colorbar": {
              "outlinewidth": 0,
              "ticks": ""
             }
            },
            "type": "parcoords"
           }
          ],
          "pie": [
           {
            "automargin": true,
            "type": "pie"
           }
          ],
          "scatter": [
           {
            "fillpattern": {
             "fillmode": "overlay",
             "size": 10,
             "solidity": 0.2
            },
            "type": "scatter"
           }
          ],
          "scatter3d": [
           {
            "line": {
             "colorbar": {
              "outlinewidth": 0,
              "ticks": ""
             }
            },
            "marker": {
             "colorbar": {
              "outlinewidth": 0,
              "ticks": ""
             }
            },
            "type": "scatter3d"
           }
          ],
          "scattercarpet": [
           {
            "marker": {
             "colorbar": {
              "outlinewidth": 0,
              "ticks": ""
             }
            },
            "type": "scattercarpet"
           }
          ],
          "scattergeo": [
           {
            "marker": {
             "colorbar": {
              "outlinewidth": 0,
              "ticks": ""
             }
            },
            "type": "scattergeo"
           }
          ],
          "scattergl": [
           {
            "marker": {
             "colorbar": {
              "outlinewidth": 0,
              "ticks": ""
             }
            },
            "type": "scattergl"
           }
          ],
          "scattermapbox": [
           {
            "marker": {
             "colorbar": {
              "outlinewidth": 0,
              "ticks": ""
             }
            },
            "type": "scattermapbox"
           }
          ],
          "scatterpolar": [
           {
            "marker": {
             "colorbar": {
              "outlinewidth": 0,
              "ticks": ""
             }
            },
            "type": "scatterpolar"
           }
          ],
          "scatterpolargl": [
           {
            "marker": {
             "colorbar": {
              "outlinewidth": 0,
              "ticks": ""
             }
            },
            "type": "scatterpolargl"
           }
          ],
          "scatterternary": [
           {
            "marker": {
             "colorbar": {
              "outlinewidth": 0,
              "ticks": ""
             }
            },
            "type": "scatterternary"
           }
          ],
          "surface": [
           {
            "colorbar": {
             "outlinewidth": 0,
             "ticks": ""
            },
            "colorscale": [
             [
              0,
              "#0d0887"
             ],
             [
              0.1111111111111111,
              "#46039f"
             ],
             [
              0.2222222222222222,
              "#7201a8"
             ],
             [
              0.3333333333333333,
              "#9c179e"
             ],
             [
              0.4444444444444444,
              "#bd3786"
             ],
             [
              0.5555555555555556,
              "#d8576b"
             ],
             [
              0.6666666666666666,
              "#ed7953"
             ],
             [
              0.7777777777777778,
              "#fb9f3a"
             ],
             [
              0.8888888888888888,
              "#fdca26"
             ],
             [
              1,
              "#f0f921"
             ]
            ],
            "type": "surface"
           }
          ],
          "table": [
           {
            "cells": {
             "fill": {
              "color": "#EBF0F8"
             },
             "line": {
              "color": "white"
             }
            },
            "header": {
             "fill": {
              "color": "#C8D4E3"
             },
             "line": {
              "color": "white"
             }
            },
            "type": "table"
           }
          ]
         },
         "layout": {
          "annotationdefaults": {
           "arrowcolor": "#2a3f5f",
           "arrowhead": 0,
           "arrowwidth": 1
          },
          "autotypenumbers": "strict",
          "coloraxis": {
           "colorbar": {
            "outlinewidth": 0,
            "ticks": ""
           }
          },
          "colorscale": {
           "diverging": [
            [
             0,
             "#8e0152"
            ],
            [
             0.1,
             "#c51b7d"
            ],
            [
             0.2,
             "#de77ae"
            ],
            [
             0.3,
             "#f1b6da"
            ],
            [
             0.4,
             "#fde0ef"
            ],
            [
             0.5,
             "#f7f7f7"
            ],
            [
             0.6,
             "#e6f5d0"
            ],
            [
             0.7,
             "#b8e186"
            ],
            [
             0.8,
             "#7fbc41"
            ],
            [
             0.9,
             "#4d9221"
            ],
            [
             1,
             "#276419"
            ]
           ],
           "sequential": [
            [
             0,
             "#0d0887"
            ],
            [
             0.1111111111111111,
             "#46039f"
            ],
            [
             0.2222222222222222,
             "#7201a8"
            ],
            [
             0.3333333333333333,
             "#9c179e"
            ],
            [
             0.4444444444444444,
             "#bd3786"
            ],
            [
             0.5555555555555556,
             "#d8576b"
            ],
            [
             0.6666666666666666,
             "#ed7953"
            ],
            [
             0.7777777777777778,
             "#fb9f3a"
            ],
            [
             0.8888888888888888,
             "#fdca26"
            ],
            [
             1,
             "#f0f921"
            ]
           ],
           "sequentialminus": [
            [
             0,
             "#0d0887"
            ],
            [
             0.1111111111111111,
             "#46039f"
            ],
            [
             0.2222222222222222,
             "#7201a8"
            ],
            [
             0.3333333333333333,
             "#9c179e"
            ],
            [
             0.4444444444444444,
             "#bd3786"
            ],
            [
             0.5555555555555556,
             "#d8576b"
            ],
            [
             0.6666666666666666,
             "#ed7953"
            ],
            [
             0.7777777777777778,
             "#fb9f3a"
            ],
            [
             0.8888888888888888,
             "#fdca26"
            ],
            [
             1,
             "#f0f921"
            ]
           ]
          },
          "colorway": [
           "#636efa",
           "#EF553B",
           "#00cc96",
           "#ab63fa",
           "#FFA15A",
           "#19d3f3",
           "#FF6692",
           "#B6E880",
           "#FF97FF",
           "#FECB52"
          ],
          "font": {
           "color": "#2a3f5f"
          },
          "geo": {
           "bgcolor": "white",
           "lakecolor": "white",
           "landcolor": "#E5ECF6",
           "showlakes": true,
           "showland": true,
           "subunitcolor": "white"
          },
          "hoverlabel": {
           "align": "left"
          },
          "hovermode": "closest",
          "mapbox": {
           "style": "light"
          },
          "paper_bgcolor": "white",
          "plot_bgcolor": "#E5ECF6",
          "polar": {
           "angularaxis": {
            "gridcolor": "white",
            "linecolor": "white",
            "ticks": ""
           },
           "bgcolor": "#E5ECF6",
           "radialaxis": {
            "gridcolor": "white",
            "linecolor": "white",
            "ticks": ""
           }
          },
          "scene": {
           "xaxis": {
            "backgroundcolor": "#E5ECF6",
            "gridcolor": "white",
            "gridwidth": 2,
            "linecolor": "white",
            "showbackground": true,
            "ticks": "",
            "zerolinecolor": "white"
           },
           "yaxis": {
            "backgroundcolor": "#E5ECF6",
            "gridcolor": "white",
            "gridwidth": 2,
            "linecolor": "white",
            "showbackground": true,
            "ticks": "",
            "zerolinecolor": "white"
           },
           "zaxis": {
            "backgroundcolor": "#E5ECF6",
            "gridcolor": "white",
            "gridwidth": 2,
            "linecolor": "white",
            "showbackground": true,
            "ticks": "",
            "zerolinecolor": "white"
           }
          },
          "shapedefaults": {
           "line": {
            "color": "#2a3f5f"
           }
          },
          "ternary": {
           "aaxis": {
            "gridcolor": "white",
            "linecolor": "white",
            "ticks": ""
           },
           "baxis": {
            "gridcolor": "white",
            "linecolor": "white",
            "ticks": ""
           },
           "bgcolor": "#E5ECF6",
           "caxis": {
            "gridcolor": "white",
            "linecolor": "white",
            "ticks": ""
           }
          },
          "title": {
           "x": 0.05
          },
          "xaxis": {
           "automargin": true,
           "gridcolor": "white",
           "linecolor": "white",
           "ticks": "",
           "title": {
            "standoff": 15
           },
           "zerolinecolor": "white",
           "zerolinewidth": 2
          },
          "yaxis": {
           "automargin": true,
           "gridcolor": "white",
           "linecolor": "white",
           "ticks": "",
           "title": {
            "standoff": 15
           },
           "zerolinecolor": "white",
           "zerolinewidth": 2
          }
         }
        },
        "title": {
         "text": "CCA Position (Theta and Vega)",
         "x": 0.5,
         "xanchor": "center"
        },
        "xaxis": {
         "anchor": "y",
         "domain": [
          0,
          0.45
         ],
         "title": {
          "text": "Price"
         }
        },
        "xaxis2": {
         "anchor": "y2",
         "domain": [
          0.55,
          1
         ],
         "title": {
          "text": "Price"
         }
        },
        "yaxis": {
         "anchor": "x",
         "domain": [
          0,
          1
         ],
         "title": {
          "text": "Theta"
         }
        },
        "yaxis2": {
         "anchor": "x2",
         "domain": [
          0,
          1
         ],
         "title": {
          "text": "Vega"
         }
        }
       }
      },
      "text/html": [
       "<div>                            <div id=\"91037549-ea9e-45ad-b2d2-0adbcd134991\" class=\"plotly-graph-div\" style=\"height:525px; width:100%;\"></div>            <script type=\"text/javascript\">                require([\"plotly\"], function(Plotly) {                    window.PLOTLYENV=window.PLOTLYENV || {};                                    if (document.getElementById(\"91037549-ea9e-45ad-b2d2-0adbcd134991\")) {                    Plotly.newPlot(                        \"91037549-ea9e-45ad-b2d2-0adbcd134991\",                        [{\"name\":\"today\",\"x\":[20,21,22,23,24,25,26,27,28,29,30,31,32,33,34,35,36,37,38,39,40,41,42,43,44,45,46,47,48,49,50,51,52,53,54,55],\"y\":[-74.14875234993063,-225.5881097828447,-402.75371619381906,-575.1087067076189,-704.3961463805239,-757.623671135628,-721.1578719734558,-610.4319297491295,-471.1255213834316,-370.40684741607726,-379.88277201069684,-554.6494865577479,-914.7203969595854,-1435.2614931585022,-2049.739651047574,-2665.644412441109,-3187.691495135149,-3540.6929646629005,-3684.9147127937513,-3620.2149006934415,-3379.6525828137687,-3016.5349743537067,-2589.9588580202517,-2152.965056253216,-1745.4272533031708,-1391.8009795311125,-1102.541534665032,-877.5275486093578,-710.0031244502518,-590.0472446028716,-507.1103701002418,-451.56187056555666,-415.4209849947324,-392.5244528766368,-378.36968426066994,-369.8147621366187],\"type\":\"scatter\",\"xaxis\":\"x\",\"yaxis\":\"y\"},{\"name\":\"today\",\"x\":[20,21,22,23,24,25,26,27,28,29,30,31,32,33,34,35,36,37,38,39,40,41,42,43,44,45,46,47,48,49,50,51,52,53,54,55],\"y\":[254.0000112111493,412.22397867693303,592.9843430854809,760.5997528139031,871.7408256761817,891.262424375818,809.5285259515798,654.5142912515246,493.2278309195085,420.0061789475915,533.0742763930058,904.8505432211191,1554.9221547103518,2435.617045314055,3437.0200787916506,4411.43624872789,5209.6162816722945,5716.465086923257,5874.779868639715,5691.064686485226,5224.5449078855,4565.811552358902,3813.2781596544905,3054.0917661930275,2352.8745426111627,1748.42226137945,1256.3539806318702,874.9613420557349,591.8180007726072,389.53771193386297,249.94754663698012,156.60497561821762,95.95950615372897,57.58628648470123,33.89071298568048,19.58476129337359],\"type\":\"scatter\",\"xaxis\":\"x2\",\"yaxis\":\"y2\"},{\"name\":\"End of Next Wk\",\"x\":[20,21,22,23,24,25,26,27,28,29,30,31,32,33,34,35,36,37,38,39,40,41,42,43,44,45,46,47,48,49,50,51,52,53,54,55],\"y\":[4.811613865775877,-148.70412306722147,-364.91238874704186,-615.9718431575382,-846.073243723725,-986.8391971467244,-984.3456108190198,-826.2900777951406,-556.6754409210989,-270.9229490774894,-92.2721667065531,-136.2256553296121,-472.85367731824147,-1098.3896090767462,-1927.293341118975,-2811.096937332186,-3580.1009975156467,-4092.956806438105,-4274.68975128222,-4129.423335784649,-3726.4374920626506,-3169.5416350959595,-2564.1745568189185,-1993.5844544723295,-1508.560452338504,-1128.909201990829,-851.6848578272483,-661.1283137573485,-536.9911109220786,-459.9376152719632,-414.1644884761562,-388.0440811324713,-373.67906795666227,-366.0437701072824,-362.11150641455174,-360.1447566171445],\"type\":\"scatter\",\"xaxis\":\"x\",\"yaxis\":\"y\"},{\"name\":\"End of Next Wk\",\"x\":[20,21,22,23,24,25,26,27,28,29,30,31,32,33,34,35,36,37,38,39,40,41,42,43,44,45,46,47,48,49,50,51,52,53,54,55],\"y\":[127.19239529143985,248.40035311010385,417.18850386119186,608.734659154784,775.0394720892095,858.534430878844,816.071368658335,643.4445776989886,389.1598341424641,150.5241218925053,51.6767131052448,208.422869744369,688.5381555022651,1479.7669361452397,2479.31734275703,3513.930889614627,4387.327484489442,4937.883996526042,5083.256959272779,4835.115296493162,4282.035712702602,3552.4552971490475,2775.0557823993186,2050.287691990079,1438.3887085945096,961.6248035310044,614.6315198199841,376.7030761583119,221.9999718163064,126.11909520060843,69.2321028141396,36.80315716261755,18.98452993743249,9.520906353383946,4.650421676286058,2.215972369463768],\"type\":\"scatter\",\"xaxis\":\"x2\",\"yaxis\":\"y2\"},{\"name\":\"End of 2 Wks\",\"x\":[20,21,22,23,24,25,26,27,28,29,30,31,32,33,34,35,36,37,38,39,40,41,42,43,44,45,46,47,48,49,50,51,52,53,54,55],\"y\":[91.17333550917776,-28.95728329158131,-251.1296858849681,-578.656407889261,-957.2060791913617,-1273.54114888686,-1394.2066362426708,-1231.1114144081762,-798.5048098119266,-227.01084725441848,273.5810302293652,482.364486778299,237.81759230555713,-507.01983824702745,-1654.7384601477693,-2973.0927828108015,-4156.406847764676,-4927.576345941204,-5136.632560494137,-4804.2475541089825,-4090.0446977540314,-3211.1874710239035,-2359.658801148431,-1654.757967397437,-1138.111951267498,-796.0330037954589,-588.6913110200762,-472.5232954181689,-411.9011966684674,-382.25020432751285,-368.58475402398574,-362.6226764792403,-360.1501512941752,-359.17190651376325,-358.801431773856,-358.6667264744721],\"type\":\"scatter\",\"xaxis\":\"x\",\"yaxis\":\"y\"},{\"name\":\"End of 2 Wks\",\"x\":[20,21,22,23,24,25,26,27,28,29,30,31,32,33,34,35,36,37,38,39,40,41,42,43,44,45,46,47,48,49,50,51,52,53,54,55],\"y\":[40.93423783438332,107.56711863465785,230.27474495469474,409.5831527386515,612.5933877836428,772.2219088459626,810.1741171046244,676.7750087852326,386.6191248146848,28.59453815071327,-255.8990708821733,-315.45496058137917,-36.22227158141919,615.5488434311786,1564.9197489346966,2629.4086180349723,3564.67381395078,4147.414307144645,4258.122262633728,3918.648853718728,3266.2831595660377,2485.4126103282797,1737.8584869943618,1123.04182698691,674.2174569935125,377.8352082316976,198.5309199773432,98.21302379343359,45.919390331261276,20.3642496599601,8.594908819427955,3.463165486650187,1.3360809962199363,0.49488532792935236,0.1764393769141776,0.060693257374234554],\"type\":\"scatter\",\"xaxis\":\"x2\",\"yaxis\":\"y2\"},{\"name\":\"EoM\",\"x\":[20,21,22,23,24,25,26,27,28,29,30,31,32,33,34,35,36,37,38,39,40,41,42,43,44,45,46,47,48,49,50,51,52,53,54,55],\"y\":[91.17333550917776,-28.95728329158131,-251.1296858849681,-578.656407889261,-957.2060791913617,-1273.54114888686,-1394.2066362426708,-1231.1114144081762,-798.5048098119266,-227.01084725441848,273.5810302293652,482.364486778299,237.81759230555713,-507.01983824702745,-1654.7384601477693,-2973.0927828108015,-4156.406847764676,-4927.576345941204,-5136.632560494137,-4804.2475541089825,-4090.0446977540314,-3211.1874710239035,-2359.658801148431,-1654.757967397437,-1138.111951267498,-796.0330037954589,-588.6913110200762,-472.5232954181689,-411.9011966684674,-382.25020432751285,-368.58475402398574,-362.6226764792403,-360.1501512941752,-359.17190651376325,-358.801431773856,-358.6667264744721],\"type\":\"scatter\",\"xaxis\":\"x\",\"yaxis\":\"y\"},{\"name\":\"EoM\",\"x\":[20,21,22,23,24,25,26,27,28,29,30,31,32,33,34,35,36,37,38,39,40,41,42,43,44,45,46,47,48,49,50,51,52,53,54,55],\"y\":[40.93423783438332,107.56711863465785,230.27474495469474,409.5831527386515,612.5933877836428,772.2219088459626,810.1741171046244,676.7750087852326,386.6191248146848,28.59453815071327,-255.8990708821733,-315.45496058137917,-36.22227158141919,615.5488434311786,1564.9197489346966,2629.4086180349723,3564.67381395078,4147.414307144645,4258.122262633728,3918.648853718728,3266.2831595660377,2485.4126103282797,1737.8584869943618,1123.04182698691,674.2174569935125,377.8352082316976,198.5309199773432,98.21302379343359,45.919390331261276,20.3642496599601,8.594908819427955,3.463165486650187,1.3360809962199363,0.49488532792935236,0.1764393769141776,0.060693257374234554],\"type\":\"scatter\",\"xaxis\":\"x2\",\"yaxis\":\"y2\"},{\"name\":\"2 Months\",\"x\":[20,21,22,23,24,25,26,27,28,29,30,31,32,33,34,35,36,37,38,39,40,41,42,43,44,45,46,47,48,49,50,51,52,53,54,55],\"y\":[0.0,0.0,0.0,0.0,0.0,0.0,0.0,0.0,0.0,0.0,0.0,0.0,0.0,0.0,0.0,0.0,0.0,0.0,0.0,0.0,0.0,0.0,0.0,0.0,0.0,0.0,0.0,0.0,0.0,0.0,0.0,0.0,0.0,0.0,0.0,0.0],\"type\":\"scatter\",\"xaxis\":\"x\",\"yaxis\":\"y\"},{\"name\":\"2 Months\",\"x\":[20,21,22,23,24,25,26,27,28,29,30,31,32,33,34,35,36,37,38,39,40,41,42,43,44,45,46,47,48,49,50,51,52,53,54,55],\"y\":[0.0,0.0,0.0,0.0,0.0,0.0,0.0,0.0,0.0,0.0,0.0,0.0,0.0,0.0,0.0,0.0,0.0,0.0,0.0,0.0,0.0,0.0,0.0,0.0,0.0,0.0,0.0,0.0,0.0,0.0,0.0,0.0,0.0,0.0,0.0,0.0],\"type\":\"scatter\",\"xaxis\":\"x2\",\"yaxis\":\"y2\"},{\"name\":\"3 Months\",\"x\":[20,21,22,23,24,25,26,27,28,29,30,31,32,33,34,35,36,37,38,39,40,41,42,43,44,45,46,47,48,49,50,51,52,53,54,55],\"y\":[0.0,0.0,0.0,0.0,0.0,0.0,0.0,0.0,0.0,0.0,0.0,0.0,0.0,0.0,0.0,0.0,0.0,0.0,0.0,0.0,0.0,0.0,0.0,0.0,0.0,0.0,0.0,0.0,0.0,0.0,0.0,0.0,0.0,0.0,0.0,0.0],\"type\":\"scatter\",\"xaxis\":\"x\",\"yaxis\":\"y\"},{\"name\":\"3 Months\",\"x\":[20,21,22,23,24,25,26,27,28,29,30,31,32,33,34,35,36,37,38,39,40,41,42,43,44,45,46,47,48,49,50,51,52,53,54,55],\"y\":[0.0,0.0,0.0,0.0,0.0,0.0,0.0,0.0,0.0,0.0,0.0,0.0,0.0,0.0,0.0,0.0,0.0,0.0,0.0,0.0,0.0,0.0,0.0,0.0,0.0,0.0,0.0,0.0,0.0,0.0,0.0,0.0,0.0,0.0,0.0,0.0],\"type\":\"scatter\",\"xaxis\":\"x2\",\"yaxis\":\"y2\"},{\"name\":\"4 Months\",\"x\":[20,21,22,23,24,25,26,27,28,29,30,31,32,33,34,35,36,37,38,39,40,41,42,43,44,45,46,47,48,49,50,51,52,53,54,55],\"y\":[0.0,0.0,0.0,0.0,0.0,0.0,0.0,0.0,0.0,0.0,0.0,0.0,0.0,0.0,0.0,0.0,0.0,0.0,0.0,0.0,0.0,0.0,0.0,0.0,0.0,0.0,0.0,0.0,0.0,0.0,0.0,0.0,0.0,0.0,0.0,0.0],\"type\":\"scatter\",\"xaxis\":\"x\",\"yaxis\":\"y\"},{\"name\":\"4 Months\",\"x\":[20,21,22,23,24,25,26,27,28,29,30,31,32,33,34,35,36,37,38,39,40,41,42,43,44,45,46,47,48,49,50,51,52,53,54,55],\"y\":[0.0,0.0,0.0,0.0,0.0,0.0,0.0,0.0,0.0,0.0,0.0,0.0,0.0,0.0,0.0,0.0,0.0,0.0,0.0,0.0,0.0,0.0,0.0,0.0,0.0,0.0,0.0,0.0,0.0,0.0,0.0,0.0,0.0,0.0,0.0,0.0],\"type\":\"scatter\",\"xaxis\":\"x2\",\"yaxis\":\"y2\"},{\"name\":\"5 Months\",\"x\":[20,21,22,23,24,25,26,27,28,29,30,31,32,33,34,35,36,37,38,39,40,41,42,43,44,45,46,47,48,49,50,51,52,53,54,55],\"y\":[0.0,0.0,0.0,0.0,0.0,0.0,0.0,0.0,0.0,0.0,0.0,0.0,0.0,0.0,0.0,0.0,0.0,0.0,0.0,0.0,0.0,0.0,0.0,0.0,0.0,0.0,0.0,0.0,0.0,0.0,0.0,0.0,0.0,0.0,0.0,0.0],\"type\":\"scatter\",\"xaxis\":\"x\",\"yaxis\":\"y\"},{\"name\":\"5 Months\",\"x\":[20,21,22,23,24,25,26,27,28,29,30,31,32,33,34,35,36,37,38,39,40,41,42,43,44,45,46,47,48,49,50,51,52,53,54,55],\"y\":[0.0,0.0,0.0,0.0,0.0,0.0,0.0,0.0,0.0,0.0,0.0,0.0,0.0,0.0,0.0,0.0,0.0,0.0,0.0,0.0,0.0,0.0,0.0,0.0,0.0,0.0,0.0,0.0,0.0,0.0,0.0,0.0,0.0,0.0,0.0,0.0],\"type\":\"scatter\",\"xaxis\":\"x2\",\"yaxis\":\"y2\"},{\"name\":\"6 Months\",\"x\":[20,21,22,23,24,25,26,27,28,29,30,31,32,33,34,35,36,37,38,39,40,41,42,43,44,45,46,47,48,49,50,51,52,53,54,55],\"y\":[0.0,0.0,0.0,0.0,0.0,0.0,0.0,0.0,0.0,0.0,0.0,0.0,0.0,0.0,0.0,0.0,0.0,0.0,0.0,0.0,0.0,0.0,0.0,0.0,0.0,0.0,0.0,0.0,0.0,0.0,0.0,0.0,0.0,0.0,0.0,0.0],\"type\":\"scatter\",\"xaxis\":\"x\",\"yaxis\":\"y\"},{\"name\":\"6 Months\",\"x\":[20,21,22,23,24,25,26,27,28,29,30,31,32,33,34,35,36,37,38,39,40,41,42,43,44,45,46,47,48,49,50,51,52,53,54,55],\"y\":[0.0,0.0,0.0,0.0,0.0,0.0,0.0,0.0,0.0,0.0,0.0,0.0,0.0,0.0,0.0,0.0,0.0,0.0,0.0,0.0,0.0,0.0,0.0,0.0,0.0,0.0,0.0,0.0,0.0,0.0,0.0,0.0,0.0,0.0,0.0,0.0],\"type\":\"scatter\",\"xaxis\":\"x2\",\"yaxis\":\"y2\"},{\"name\":\"Dec Expiry\",\"x\":[20,21,22,23,24,25,26,27,28,29,30,31,32,33,34,35,36,37,38,39,40,41,42,43,44,45,46,47,48,49,50,51,52,53,54,55],\"y\":[0.0,0.0,0.0,0.0,0.0,0.0,0.0,0.0,0.0,0.0,0.0,0.0,0.0,0.0,0.0,0.0,0.0,0.0,0.0,0.0,0.0,0.0,0.0,0.0,0.0,0.0,0.0,0.0,0.0,0.0,0.0,0.0,0.0,0.0,0.0,0.0],\"type\":\"scatter\",\"xaxis\":\"x\",\"yaxis\":\"y\"},{\"name\":\"Dec Expiry\",\"x\":[20,21,22,23,24,25,26,27,28,29,30,31,32,33,34,35,36,37,38,39,40,41,42,43,44,45,46,47,48,49,50,51,52,53,54,55],\"y\":[0.0,0.0,0.0,0.0,0.0,0.0,0.0,0.0,0.0,0.0,0.0,0.0,0.0,0.0,0.0,0.0,0.0,0.0,0.0,0.0,0.0,0.0,0.0,0.0,0.0,0.0,0.0,0.0,0.0,0.0,0.0,0.0,0.0,0.0,0.0,0.0],\"type\":\"scatter\",\"xaxis\":\"x2\",\"yaxis\":\"y2\"}],                        {\"template\":{\"data\":{\"histogram2dcontour\":[{\"type\":\"histogram2dcontour\",\"colorbar\":{\"outlinewidth\":0,\"ticks\":\"\"},\"colorscale\":[[0.0,\"#0d0887\"],[0.1111111111111111,\"#46039f\"],[0.2222222222222222,\"#7201a8\"],[0.3333333333333333,\"#9c179e\"],[0.4444444444444444,\"#bd3786\"],[0.5555555555555556,\"#d8576b\"],[0.6666666666666666,\"#ed7953\"],[0.7777777777777778,\"#fb9f3a\"],[0.8888888888888888,\"#fdca26\"],[1.0,\"#f0f921\"]]}],\"choropleth\":[{\"type\":\"choropleth\",\"colorbar\":{\"outlinewidth\":0,\"ticks\":\"\"}}],\"histogram2d\":[{\"type\":\"histogram2d\",\"colorbar\":{\"outlinewidth\":0,\"ticks\":\"\"},\"colorscale\":[[0.0,\"#0d0887\"],[0.1111111111111111,\"#46039f\"],[0.2222222222222222,\"#7201a8\"],[0.3333333333333333,\"#9c179e\"],[0.4444444444444444,\"#bd3786\"],[0.5555555555555556,\"#d8576b\"],[0.6666666666666666,\"#ed7953\"],[0.7777777777777778,\"#fb9f3a\"],[0.8888888888888888,\"#fdca26\"],[1.0,\"#f0f921\"]]}],\"heatmap\":[{\"type\":\"heatmap\",\"colorbar\":{\"outlinewidth\":0,\"ticks\":\"\"},\"colorscale\":[[0.0,\"#0d0887\"],[0.1111111111111111,\"#46039f\"],[0.2222222222222222,\"#7201a8\"],[0.3333333333333333,\"#9c179e\"],[0.4444444444444444,\"#bd3786\"],[0.5555555555555556,\"#d8576b\"],[0.6666666666666666,\"#ed7953\"],[0.7777777777777778,\"#fb9f3a\"],[0.8888888888888888,\"#fdca26\"],[1.0,\"#f0f921\"]]}],\"heatmapgl\":[{\"type\":\"heatmapgl\",\"colorbar\":{\"outlinewidth\":0,\"ticks\":\"\"},\"colorscale\":[[0.0,\"#0d0887\"],[0.1111111111111111,\"#46039f\"],[0.2222222222222222,\"#7201a8\"],[0.3333333333333333,\"#9c179e\"],[0.4444444444444444,\"#bd3786\"],[0.5555555555555556,\"#d8576b\"],[0.6666666666666666,\"#ed7953\"],[0.7777777777777778,\"#fb9f3a\"],[0.8888888888888888,\"#fdca26\"],[1.0,\"#f0f921\"]]}],\"contourcarpet\":[{\"type\":\"contourcarpet\",\"colorbar\":{\"outlinewidth\":0,\"ticks\":\"\"}}],\"contour\":[{\"type\":\"contour\",\"colorbar\":{\"outlinewidth\":0,\"ticks\":\"\"},\"colorscale\":[[0.0,\"#0d0887\"],[0.1111111111111111,\"#46039f\"],[0.2222222222222222,\"#7201a8\"],[0.3333333333333333,\"#9c179e\"],[0.4444444444444444,\"#bd3786\"],[0.5555555555555556,\"#d8576b\"],[0.6666666666666666,\"#ed7953\"],[0.7777777777777778,\"#fb9f3a\"],[0.8888888888888888,\"#fdca26\"],[1.0,\"#f0f921\"]]}],\"surface\":[{\"type\":\"surface\",\"colorbar\":{\"outlinewidth\":0,\"ticks\":\"\"},\"colorscale\":[[0.0,\"#0d0887\"],[0.1111111111111111,\"#46039f\"],[0.2222222222222222,\"#7201a8\"],[0.3333333333333333,\"#9c179e\"],[0.4444444444444444,\"#bd3786\"],[0.5555555555555556,\"#d8576b\"],[0.6666666666666666,\"#ed7953\"],[0.7777777777777778,\"#fb9f3a\"],[0.8888888888888888,\"#fdca26\"],[1.0,\"#f0f921\"]]}],\"mesh3d\":[{\"type\":\"mesh3d\",\"colorbar\":{\"outlinewidth\":0,\"ticks\":\"\"}}],\"scatter\":[{\"fillpattern\":{\"fillmode\":\"overlay\",\"size\":10,\"solidity\":0.2},\"type\":\"scatter\"}],\"parcoords\":[{\"type\":\"parcoords\",\"line\":{\"colorbar\":{\"outlinewidth\":0,\"ticks\":\"\"}}}],\"scatterpolargl\":[{\"type\":\"scatterpolargl\",\"marker\":{\"colorbar\":{\"outlinewidth\":0,\"ticks\":\"\"}}}],\"bar\":[{\"error_x\":{\"color\":\"#2a3f5f\"},\"error_y\":{\"color\":\"#2a3f5f\"},\"marker\":{\"line\":{\"color\":\"#E5ECF6\",\"width\":0.5},\"pattern\":{\"fillmode\":\"overlay\",\"size\":10,\"solidity\":0.2}},\"type\":\"bar\"}],\"scattergeo\":[{\"type\":\"scattergeo\",\"marker\":{\"colorbar\":{\"outlinewidth\":0,\"ticks\":\"\"}}}],\"scatterpolar\":[{\"type\":\"scatterpolar\",\"marker\":{\"colorbar\":{\"outlinewidth\":0,\"ticks\":\"\"}}}],\"histogram\":[{\"marker\":{\"pattern\":{\"fillmode\":\"overlay\",\"size\":10,\"solidity\":0.2}},\"type\":\"histogram\"}],\"scattergl\":[{\"type\":\"scattergl\",\"marker\":{\"colorbar\":{\"outlinewidth\":0,\"ticks\":\"\"}}}],\"scatter3d\":[{\"type\":\"scatter3d\",\"line\":{\"colorbar\":{\"outlinewidth\":0,\"ticks\":\"\"}},\"marker\":{\"colorbar\":{\"outlinewidth\":0,\"ticks\":\"\"}}}],\"scattermapbox\":[{\"type\":\"scattermapbox\",\"marker\":{\"colorbar\":{\"outlinewidth\":0,\"ticks\":\"\"}}}],\"scatterternary\":[{\"type\":\"scatterternary\",\"marker\":{\"colorbar\":{\"outlinewidth\":0,\"ticks\":\"\"}}}],\"scattercarpet\":[{\"type\":\"scattercarpet\",\"marker\":{\"colorbar\":{\"outlinewidth\":0,\"ticks\":\"\"}}}],\"carpet\":[{\"aaxis\":{\"endlinecolor\":\"#2a3f5f\",\"gridcolor\":\"white\",\"linecolor\":\"white\",\"minorgridcolor\":\"white\",\"startlinecolor\":\"#2a3f5f\"},\"baxis\":{\"endlinecolor\":\"#2a3f5f\",\"gridcolor\":\"white\",\"linecolor\":\"white\",\"minorgridcolor\":\"white\",\"startlinecolor\":\"#2a3f5f\"},\"type\":\"carpet\"}],\"table\":[{\"cells\":{\"fill\":{\"color\":\"#EBF0F8\"},\"line\":{\"color\":\"white\"}},\"header\":{\"fill\":{\"color\":\"#C8D4E3\"},\"line\":{\"color\":\"white\"}},\"type\":\"table\"}],\"barpolar\":[{\"marker\":{\"line\":{\"color\":\"#E5ECF6\",\"width\":0.5},\"pattern\":{\"fillmode\":\"overlay\",\"size\":10,\"solidity\":0.2}},\"type\":\"barpolar\"}],\"pie\":[{\"automargin\":true,\"type\":\"pie\"}]},\"layout\":{\"autotypenumbers\":\"strict\",\"colorway\":[\"#636efa\",\"#EF553B\",\"#00cc96\",\"#ab63fa\",\"#FFA15A\",\"#19d3f3\",\"#FF6692\",\"#B6E880\",\"#FF97FF\",\"#FECB52\"],\"font\":{\"color\":\"#2a3f5f\"},\"hovermode\":\"closest\",\"hoverlabel\":{\"align\":\"left\"},\"paper_bgcolor\":\"white\",\"plot_bgcolor\":\"#E5ECF6\",\"polar\":{\"bgcolor\":\"#E5ECF6\",\"angularaxis\":{\"gridcolor\":\"white\",\"linecolor\":\"white\",\"ticks\":\"\"},\"radialaxis\":{\"gridcolor\":\"white\",\"linecolor\":\"white\",\"ticks\":\"\"}},\"ternary\":{\"bgcolor\":\"#E5ECF6\",\"aaxis\":{\"gridcolor\":\"white\",\"linecolor\":\"white\",\"ticks\":\"\"},\"baxis\":{\"gridcolor\":\"white\",\"linecolor\":\"white\",\"ticks\":\"\"},\"caxis\":{\"gridcolor\":\"white\",\"linecolor\":\"white\",\"ticks\":\"\"}},\"coloraxis\":{\"colorbar\":{\"outlinewidth\":0,\"ticks\":\"\"}},\"colorscale\":{\"sequential\":[[0.0,\"#0d0887\"],[0.1111111111111111,\"#46039f\"],[0.2222222222222222,\"#7201a8\"],[0.3333333333333333,\"#9c179e\"],[0.4444444444444444,\"#bd3786\"],[0.5555555555555556,\"#d8576b\"],[0.6666666666666666,\"#ed7953\"],[0.7777777777777778,\"#fb9f3a\"],[0.8888888888888888,\"#fdca26\"],[1.0,\"#f0f921\"]],\"sequentialminus\":[[0.0,\"#0d0887\"],[0.1111111111111111,\"#46039f\"],[0.2222222222222222,\"#7201a8\"],[0.3333333333333333,\"#9c179e\"],[0.4444444444444444,\"#bd3786\"],[0.5555555555555556,\"#d8576b\"],[0.6666666666666666,\"#ed7953\"],[0.7777777777777778,\"#fb9f3a\"],[0.8888888888888888,\"#fdca26\"],[1.0,\"#f0f921\"]],\"diverging\":[[0,\"#8e0152\"],[0.1,\"#c51b7d\"],[0.2,\"#de77ae\"],[0.3,\"#f1b6da\"],[0.4,\"#fde0ef\"],[0.5,\"#f7f7f7\"],[0.6,\"#e6f5d0\"],[0.7,\"#b8e186\"],[0.8,\"#7fbc41\"],[0.9,\"#4d9221\"],[1,\"#276419\"]]},\"xaxis\":{\"gridcolor\":\"white\",\"linecolor\":\"white\",\"ticks\":\"\",\"title\":{\"standoff\":15},\"zerolinecolor\":\"white\",\"automargin\":true,\"zerolinewidth\":2},\"yaxis\":{\"gridcolor\":\"white\",\"linecolor\":\"white\",\"ticks\":\"\",\"title\":{\"standoff\":15},\"zerolinecolor\":\"white\",\"automargin\":true,\"zerolinewidth\":2},\"scene\":{\"xaxis\":{\"backgroundcolor\":\"#E5ECF6\",\"gridcolor\":\"white\",\"linecolor\":\"white\",\"showbackground\":true,\"ticks\":\"\",\"zerolinecolor\":\"white\",\"gridwidth\":2},\"yaxis\":{\"backgroundcolor\":\"#E5ECF6\",\"gridcolor\":\"white\",\"linecolor\":\"white\",\"showbackground\":true,\"ticks\":\"\",\"zerolinecolor\":\"white\",\"gridwidth\":2},\"zaxis\":{\"backgroundcolor\":\"#E5ECF6\",\"gridcolor\":\"white\",\"linecolor\":\"white\",\"showbackground\":true,\"ticks\":\"\",\"zerolinecolor\":\"white\",\"gridwidth\":2}},\"shapedefaults\":{\"line\":{\"color\":\"#2a3f5f\"}},\"annotationdefaults\":{\"arrowcolor\":\"#2a3f5f\",\"arrowhead\":0,\"arrowwidth\":1},\"geo\":{\"bgcolor\":\"white\",\"landcolor\":\"#E5ECF6\",\"subunitcolor\":\"white\",\"showland\":true,\"showlakes\":true,\"lakecolor\":\"white\"},\"title\":{\"x\":0.05},\"mapbox\":{\"style\":\"light\"}}},\"xaxis\":{\"anchor\":\"y\",\"domain\":[0.0,0.45],\"title\":{\"text\":\"Price\"}},\"yaxis\":{\"anchor\":\"x\",\"domain\":[0.0,1.0],\"title\":{\"text\":\"Theta\"}},\"xaxis2\":{\"anchor\":\"y2\",\"domain\":[0.55,1.0],\"title\":{\"text\":\"Price\"}},\"yaxis2\":{\"anchor\":\"x2\",\"domain\":[0.0,1.0],\"title\":{\"text\":\"Vega\"}},\"title\":{\"text\":\"CCA Position (Theta and Vega)\",\"x\":0.5,\"xanchor\":\"center\"}},                        {\"responsive\": true}                    ).then(function(){\n",
       "                            \n",
       "var gd = document.getElementById('91037549-ea9e-45ad-b2d2-0adbcd134991');\n",
       "var x = new MutationObserver(function (mutations, observer) {{\n",
       "        var display = window.getComputedStyle(gd).display;\n",
       "        if (!display || display === 'none') {{\n",
       "            console.log([gd, 'removed!']);\n",
       "            Plotly.purge(gd);\n",
       "            observer.disconnect();\n",
       "        }}\n",
       "}});\n",
       "\n",
       "// Listen for the removal of the full notebook cells\n",
       "var notebookContainer = gd.closest('#notebook-container');\n",
       "if (notebookContainer) {{\n",
       "    x.observe(notebookContainer, {childList: true});\n",
       "}}\n",
       "\n",
       "// Listen for the clearing of the current output cell\n",
       "var outputEl = gd.closest('.output');\n",
       "if (outputEl) {{\n",
       "    x.observe(outputEl, {childList: true});\n",
       "}}\n",
       "\n",
       "                        })                };                });            </script>        </div>"
      ]
     },
     "metadata": {},
     "output_type": "display_data"
    }
   ],
   "source": [
    "fig = make_subplots(rows=1, cols=2)\n",
    "for i in range(0,len(fig_t.data)):\n",
    "    fig.add_trace(fig_t.data[i], row=1, col=1)\n",
    "    fig.add_trace(fig_v.data[i], row=1, col=2)\n",
    "\n",
    "fig.update_layout(title={'text': 'CCA Position (Theta and Vega)','x': 0.5,'xanchor': 'center'})\n",
    "\n",
    "fig.update_xaxes(title_text=\"Price\", row=1, col=1)\n",
    "fig.update_yaxes(title_text=\"Theta\", row=1, col=1)\n",
    "fig.update_xaxes(title_text=\"Price\", row=1, col=2)\n",
    "fig.update_yaxes(title_text=\"Vega\", row=1, col=2)\n",
    "fig.show()"
   ]
  },
  {
   "cell_type": "markdown",
   "id": "0b054dac",
   "metadata": {},
   "source": [
    "# Today's Position"
   ]
  },
  {
   "cell_type": "code",
   "execution_count": 29,
   "id": "c201f2c6",
   "metadata": {},
   "outputs": [
    {
     "data": {
      "application/vnd.plotly.v1+json": {
       "config": {
        "plotlyServerURL": "https://plot.ly"
       },
       "data": [
        {
         "base": 0,
         "name": "Spot",
         "type": "bar",
         "x": [
          20,
          21,
          22,
          23,
          24,
          25,
          26,
          27,
          28,
          29,
          30,
          31,
          32,
          33,
          34,
          35,
          36,
          37,
          38,
          39,
          40,
          41,
          42,
          43,
          44,
          45,
          46,
          47,
          48,
          49,
          50,
          51,
          52,
          53,
          54,
          55
         ],
         "xaxis": "x2",
         "y": [
          -4000,
          -4000,
          -4000,
          -4000,
          -4000,
          -4000,
          -4000,
          -4000,
          -4000,
          -4000,
          -4000,
          -4000,
          -4000,
          -4000,
          -4000,
          -4000,
          -4000,
          -4000,
          -4000,
          -4000,
          -4000,
          -4000,
          -4000,
          -4000,
          -4000,
          -4000,
          -4000,
          -4000,
          -4000,
          -4000,
          -4000,
          -4000,
          -4000,
          -4000,
          -4000,
          -4000
         ],
         "yaxis": "y2"
        },
        {
         "base": 0,
         "name": "Spot",
         "type": "bar",
         "x": [
          20,
          21,
          22,
          23,
          24,
          25,
          26,
          27,
          28,
          29,
          30,
          31,
          32,
          33,
          34,
          35,
          36,
          37,
          38,
          39,
          40,
          41,
          42,
          43,
          44,
          45,
          46,
          47,
          48,
          49,
          50,
          51,
          52,
          53,
          54,
          55
         ],
         "xaxis": "x",
         "y": [
          89471.25019269306,
          83305.07168182517,
          77138.89317095728,
          70972.71466008939,
          64806.5361492215,
          58640.35763835361,
          52474.179127485724,
          46308.000616617835,
          40141.82210574995,
          33975.64359488206,
          27809.465084014166,
          21643.286573146277,
          15477.10806227839,
          9310.9295514105,
          3144.751040542611,
          -3021.4274703252777,
          -9187.605981193166,
          -15353.784492061055,
          -21519.963002928944,
          -27686.141513796832,
          -33852.32002466472,
          -40018.498535532606,
          -46184.677046400495,
          -52350.85555726839,
          -58517.03406813628,
          -64683.21257900417,
          -70849.39108987205,
          -77015.56960073994,
          -83181.74811160783,
          -89347.92662247572,
          -95514.1051333436,
          -101680.28364421151,
          -107846.4621550794,
          -114012.64066594729,
          -120178.81917681517,
          -126344.99768768306
         ],
         "yaxis": "y"
        },
        {
         "base": 0,
         "name": "Fwds",
         "type": "bar",
         "x": [
          20,
          21,
          22,
          23,
          24,
          25,
          26,
          27,
          28,
          29,
          30,
          31,
          32,
          33,
          34,
          35,
          36,
          37,
          38,
          39,
          40,
          41,
          42,
          43,
          44,
          45,
          46,
          47,
          48,
          49,
          50,
          51,
          52,
          53,
          54,
          55
         ],
         "xaxis": "x2",
         "y": [
          0,
          0,
          0,
          0,
          0,
          0,
          0,
          0,
          0,
          0,
          0,
          0,
          0,
          0,
          0,
          0,
          0,
          0,
          0,
          0,
          0,
          0,
          0,
          0,
          0,
          0,
          0,
          0,
          0,
          0,
          0,
          0,
          0,
          0,
          0,
          0
         ],
         "yaxis": "y2"
        },
        {
         "base": 0,
         "name": "Fwds",
         "type": "bar",
         "x": [
          20,
          21,
          22,
          23,
          24,
          25,
          26,
          27,
          28,
          29,
          30,
          31,
          32,
          33,
          34,
          35,
          36,
          37,
          38,
          39,
          40,
          41,
          42,
          43,
          44,
          45,
          46,
          47,
          48,
          49,
          50,
          51,
          52,
          53,
          54,
          55
         ],
         "xaxis": "x",
         "y": [
          0,
          0,
          0,
          0,
          0,
          0,
          0,
          0,
          0,
          0,
          0,
          0,
          0,
          0,
          0,
          0,
          0,
          0,
          0,
          0,
          0,
          0,
          0,
          0,
          0,
          0,
          0,
          0,
          0,
          0,
          0,
          0,
          0,
          0,
          0,
          0
         ],
         "yaxis": "y"
        },
        {
         "base": 0,
         "name": "Options",
         "type": "bar",
         "x": [
          20,
          21,
          22,
          23,
          24,
          25,
          26,
          27,
          28,
          29,
          30,
          31,
          32,
          33,
          34,
          35,
          36,
          37,
          38,
          39,
          40,
          41,
          42,
          43,
          44,
          45,
          46,
          47,
          48,
          49,
          50,
          51,
          52,
          53,
          54,
          55
         ],
         "xaxis": "x2",
         "y": [
          -47922.4328201864,
          -46316.77545054461,
          -44112.88950279794,
          -41421.78593426718,
          -38496.84467176405,
          -35681.34091762422,
          -33308.51759245088,
          -31582.248461416842,
          -30475.569635769323,
          -29681.734131035406,
          -28640.03142409912,
          -26639.025375160003,
          -22976.40939810982,
          -17133.722297095926,
          -8914.78033365507,
          1494.4495601393137,
          13561.213815162628,
          26521.463203924166,
          39536.22211854171,
          51842.35000929733,
          62861.14836078493,
          72248.12372232147,
          79887.34869947989,
          85847.21056420647,
          90318.62336220036,
          93553.77563671762,
          95816.80969467762,
          97350.86739930262,
          98360.74905237618,
          99007.6352017663,
          99411.55863302102,
          99657.82839056177,
          99804.66645671494,
          99890.41154943823,
          99939.514524951,
          99967.12542906558
         ],
         "yaxis": "y2"
        },
        {
         "base": 0,
         "name": "Options",
         "type": "bar",
         "x": [
          20,
          21,
          22,
          23,
          24,
          25,
          26,
          27,
          28,
          29,
          30,
          31,
          32,
          33,
          34,
          35,
          36,
          37,
          38,
          39,
          40,
          41,
          42,
          43,
          44,
          45,
          46,
          47,
          48,
          49,
          50,
          51,
          52,
          53,
          54,
          55
         ],
         "xaxis": "x",
         "y": [
          707237.0009391624,
          634737.9305586158,
          565169.80365611,
          499386.1044712799,
          437957.5326874786,
          380986.2940327355,
          328039.9131108117,
          278257.93000491743,
          230633.13675998506,
          184412.32099298906,
          139516.67081257934,
          96862.07721288237,
          58473.27849374912,
          27334.67604221772,
          6994.039375575608,
          1009.5807123017457,
          12377.869610114085,
          43081.233388043824,
          93849.83796493639,
          164165.4014408011,
          252467.82018825508,
          356484.3931436447,
          473591.61194650637,
          601136.1142795957,
          736671.5905478135,
          878099.2337730406,
          1023722.2112715008,
          1172236.6897764984,
          1322684.4954634407,
          1474388.89522503,
          1626888.7328865984,
          1779879.808828644,
          1933167.3345514457,
          2086629.9385108806,
          2240193.872895915,
          2393815.3563838988
         ],
         "yaxis": "y"
        },
        {
         "mode": "lines",
         "name": "Total_Delta",
         "type": "scatter",
         "x": [
          20,
          21,
          22,
          23,
          24,
          25,
          26,
          27,
          28,
          29,
          30,
          31,
          32,
          33,
          34,
          35,
          36,
          37,
          38,
          39,
          40,
          41,
          42,
          43,
          44,
          45,
          46,
          47,
          48,
          49,
          50,
          51,
          52,
          53,
          54,
          55
         ],
         "xaxis": "x2",
         "y": [
          -51922.4328201864,
          -50316.77545054461,
          -48112.88950279794,
          -45421.78593426718,
          -42496.84467176405,
          -39681.34091762422,
          -37308.51759245088,
          -35582.24846141684,
          -34475.56963576932,
          -33681.73413103541,
          -32640.03142409912,
          -30639.025375160003,
          -26976.40939810982,
          -21133.722297095926,
          -12914.78033365507,
          -2505.5504398606863,
          9561.213815162628,
          22521.463203924166,
          35536.22211854171,
          47842.35000929733,
          58861.14836078493,
          68248.12372232147,
          75887.34869947989,
          81847.21056420647,
          86318.62336220036,
          89553.77563671762,
          91816.80969467762,
          93350.86739930262,
          94360.74905237618,
          95007.6352017663,
          95411.55863302102,
          95657.82839056177,
          95804.66645671494,
          95890.41154943823,
          95939.514524951,
          95967.12542906558
         ],
         "yaxis": "y2"
        },
        {
         "mode": "lines",
         "name": "Total_PnL",
         "type": "scatter",
         "x": [
          20,
          21,
          22,
          23,
          24,
          25,
          26,
          27,
          28,
          29,
          30,
          31,
          32,
          33,
          34,
          35,
          36,
          37,
          38,
          39,
          40,
          41,
          42,
          43,
          44,
          45,
          46,
          47,
          48,
          49,
          50,
          51,
          52,
          53,
          54,
          55
         ],
         "xaxis": "x",
         "y": [
          796708.2511318555,
          718043.002240441,
          642308.6968270673,
          570358.8191313692,
          502764.06883670005,
          439626.6516710891,
          380514.09223829745,
          324565.9306215353,
          270774.958865735,
          218387.9645878711,
          167326.1358965935,
          118505.36378602865,
          73950.38655602752,
          36645.60559362822,
          10138.79041611822,
          -2011.846758023532,
          3190.2636289209186,
          27727.44889598277,
          72329.87496200745,
          136479.25992700426,
          218615.50016359036,
          316465.89460811205,
          427406.9349001059,
          548785.2587223273,
          678154.5564796772,
          813416.0211940365,
          952872.8201816287,
          1095221.1201757584,
          1239502.747351833,
          1385040.9686025542,
          1531374.627753255,
          1678199.5251844325,
          1825320.8723963662,
          1972617.2978449333,
          2120015.0537191,
          2267470.358696216
         ],
         "yaxis": "y"
        }
       ],
       "layout": {
        "template": {
         "data": {
          "bar": [
           {
            "error_x": {
             "color": "#2a3f5f"
            },
            "error_y": {
             "color": "#2a3f5f"
            },
            "marker": {
             "line": {
              "color": "#E5ECF6",
              "width": 0.5
             },
             "pattern": {
              "fillmode": "overlay",
              "size": 10,
              "solidity": 0.2
             }
            },
            "type": "bar"
           }
          ],
          "barpolar": [
           {
            "marker": {
             "line": {
              "color": "#E5ECF6",
              "width": 0.5
             },
             "pattern": {
              "fillmode": "overlay",
              "size": 10,
              "solidity": 0.2
             }
            },
            "type": "barpolar"
           }
          ],
          "carpet": [
           {
            "aaxis": {
             "endlinecolor": "#2a3f5f",
             "gridcolor": "white",
             "linecolor": "white",
             "minorgridcolor": "white",
             "startlinecolor": "#2a3f5f"
            },
            "baxis": {
             "endlinecolor": "#2a3f5f",
             "gridcolor": "white",
             "linecolor": "white",
             "minorgridcolor": "white",
             "startlinecolor": "#2a3f5f"
            },
            "type": "carpet"
           }
          ],
          "choropleth": [
           {
            "colorbar": {
             "outlinewidth": 0,
             "ticks": ""
            },
            "type": "choropleth"
           }
          ],
          "contour": [
           {
            "colorbar": {
             "outlinewidth": 0,
             "ticks": ""
            },
            "colorscale": [
             [
              0,
              "#0d0887"
             ],
             [
              0.1111111111111111,
              "#46039f"
             ],
             [
              0.2222222222222222,
              "#7201a8"
             ],
             [
              0.3333333333333333,
              "#9c179e"
             ],
             [
              0.4444444444444444,
              "#bd3786"
             ],
             [
              0.5555555555555556,
              "#d8576b"
             ],
             [
              0.6666666666666666,
              "#ed7953"
             ],
             [
              0.7777777777777778,
              "#fb9f3a"
             ],
             [
              0.8888888888888888,
              "#fdca26"
             ],
             [
              1,
              "#f0f921"
             ]
            ],
            "type": "contour"
           }
          ],
          "contourcarpet": [
           {
            "colorbar": {
             "outlinewidth": 0,
             "ticks": ""
            },
            "type": "contourcarpet"
           }
          ],
          "heatmap": [
           {
            "colorbar": {
             "outlinewidth": 0,
             "ticks": ""
            },
            "colorscale": [
             [
              0,
              "#0d0887"
             ],
             [
              0.1111111111111111,
              "#46039f"
             ],
             [
              0.2222222222222222,
              "#7201a8"
             ],
             [
              0.3333333333333333,
              "#9c179e"
             ],
             [
              0.4444444444444444,
              "#bd3786"
             ],
             [
              0.5555555555555556,
              "#d8576b"
             ],
             [
              0.6666666666666666,
              "#ed7953"
             ],
             [
              0.7777777777777778,
              "#fb9f3a"
             ],
             [
              0.8888888888888888,
              "#fdca26"
             ],
             [
              1,
              "#f0f921"
             ]
            ],
            "type": "heatmap"
           }
          ],
          "heatmapgl": [
           {
            "colorbar": {
             "outlinewidth": 0,
             "ticks": ""
            },
            "colorscale": [
             [
              0,
              "#0d0887"
             ],
             [
              0.1111111111111111,
              "#46039f"
             ],
             [
              0.2222222222222222,
              "#7201a8"
             ],
             [
              0.3333333333333333,
              "#9c179e"
             ],
             [
              0.4444444444444444,
              "#bd3786"
             ],
             [
              0.5555555555555556,
              "#d8576b"
             ],
             [
              0.6666666666666666,
              "#ed7953"
             ],
             [
              0.7777777777777778,
              "#fb9f3a"
             ],
             [
              0.8888888888888888,
              "#fdca26"
             ],
             [
              1,
              "#f0f921"
             ]
            ],
            "type": "heatmapgl"
           }
          ],
          "histogram": [
           {
            "marker": {
             "pattern": {
              "fillmode": "overlay",
              "size": 10,
              "solidity": 0.2
             }
            },
            "type": "histogram"
           }
          ],
          "histogram2d": [
           {
            "colorbar": {
             "outlinewidth": 0,
             "ticks": ""
            },
            "colorscale": [
             [
              0,
              "#0d0887"
             ],
             [
              0.1111111111111111,
              "#46039f"
             ],
             [
              0.2222222222222222,
              "#7201a8"
             ],
             [
              0.3333333333333333,
              "#9c179e"
             ],
             [
              0.4444444444444444,
              "#bd3786"
             ],
             [
              0.5555555555555556,
              "#d8576b"
             ],
             [
              0.6666666666666666,
              "#ed7953"
             ],
             [
              0.7777777777777778,
              "#fb9f3a"
             ],
             [
              0.8888888888888888,
              "#fdca26"
             ],
             [
              1,
              "#f0f921"
             ]
            ],
            "type": "histogram2d"
           }
          ],
          "histogram2dcontour": [
           {
            "colorbar": {
             "outlinewidth": 0,
             "ticks": ""
            },
            "colorscale": [
             [
              0,
              "#0d0887"
             ],
             [
              0.1111111111111111,
              "#46039f"
             ],
             [
              0.2222222222222222,
              "#7201a8"
             ],
             [
              0.3333333333333333,
              "#9c179e"
             ],
             [
              0.4444444444444444,
              "#bd3786"
             ],
             [
              0.5555555555555556,
              "#d8576b"
             ],
             [
              0.6666666666666666,
              "#ed7953"
             ],
             [
              0.7777777777777778,
              "#fb9f3a"
             ],
             [
              0.8888888888888888,
              "#fdca26"
             ],
             [
              1,
              "#f0f921"
             ]
            ],
            "type": "histogram2dcontour"
           }
          ],
          "mesh3d": [
           {
            "colorbar": {
             "outlinewidth": 0,
             "ticks": ""
            },
            "type": "mesh3d"
           }
          ],
          "parcoords": [
           {
            "line": {
             "colorbar": {
              "outlinewidth": 0,
              "ticks": ""
             }
            },
            "type": "parcoords"
           }
          ],
          "pie": [
           {
            "automargin": true,
            "type": "pie"
           }
          ],
          "scatter": [
           {
            "fillpattern": {
             "fillmode": "overlay",
             "size": 10,
             "solidity": 0.2
            },
            "type": "scatter"
           }
          ],
          "scatter3d": [
           {
            "line": {
             "colorbar": {
              "outlinewidth": 0,
              "ticks": ""
             }
            },
            "marker": {
             "colorbar": {
              "outlinewidth": 0,
              "ticks": ""
             }
            },
            "type": "scatter3d"
           }
          ],
          "scattercarpet": [
           {
            "marker": {
             "colorbar": {
              "outlinewidth": 0,
              "ticks": ""
             }
            },
            "type": "scattercarpet"
           }
          ],
          "scattergeo": [
           {
            "marker": {
             "colorbar": {
              "outlinewidth": 0,
              "ticks": ""
             }
            },
            "type": "scattergeo"
           }
          ],
          "scattergl": [
           {
            "marker": {
             "colorbar": {
              "outlinewidth": 0,
              "ticks": ""
             }
            },
            "type": "scattergl"
           }
          ],
          "scattermapbox": [
           {
            "marker": {
             "colorbar": {
              "outlinewidth": 0,
              "ticks": ""
             }
            },
            "type": "scattermapbox"
           }
          ],
          "scatterpolar": [
           {
            "marker": {
             "colorbar": {
              "outlinewidth": 0,
              "ticks": ""
             }
            },
            "type": "scatterpolar"
           }
          ],
          "scatterpolargl": [
           {
            "marker": {
             "colorbar": {
              "outlinewidth": 0,
              "ticks": ""
             }
            },
            "type": "scatterpolargl"
           }
          ],
          "scatterternary": [
           {
            "marker": {
             "colorbar": {
              "outlinewidth": 0,
              "ticks": ""
             }
            },
            "type": "scatterternary"
           }
          ],
          "surface": [
           {
            "colorbar": {
             "outlinewidth": 0,
             "ticks": ""
            },
            "colorscale": [
             [
              0,
              "#0d0887"
             ],
             [
              0.1111111111111111,
              "#46039f"
             ],
             [
              0.2222222222222222,
              "#7201a8"
             ],
             [
              0.3333333333333333,
              "#9c179e"
             ],
             [
              0.4444444444444444,
              "#bd3786"
             ],
             [
              0.5555555555555556,
              "#d8576b"
             ],
             [
              0.6666666666666666,
              "#ed7953"
             ],
             [
              0.7777777777777778,
              "#fb9f3a"
             ],
             [
              0.8888888888888888,
              "#fdca26"
             ],
             [
              1,
              "#f0f921"
             ]
            ],
            "type": "surface"
           }
          ],
          "table": [
           {
            "cells": {
             "fill": {
              "color": "#EBF0F8"
             },
             "line": {
              "color": "white"
             }
            },
            "header": {
             "fill": {
              "color": "#C8D4E3"
             },
             "line": {
              "color": "white"
             }
            },
            "type": "table"
           }
          ]
         },
         "layout": {
          "annotationdefaults": {
           "arrowcolor": "#2a3f5f",
           "arrowhead": 0,
           "arrowwidth": 1
          },
          "autotypenumbers": "strict",
          "coloraxis": {
           "colorbar": {
            "outlinewidth": 0,
            "ticks": ""
           }
          },
          "colorscale": {
           "diverging": [
            [
             0,
             "#8e0152"
            ],
            [
             0.1,
             "#c51b7d"
            ],
            [
             0.2,
             "#de77ae"
            ],
            [
             0.3,
             "#f1b6da"
            ],
            [
             0.4,
             "#fde0ef"
            ],
            [
             0.5,
             "#f7f7f7"
            ],
            [
             0.6,
             "#e6f5d0"
            ],
            [
             0.7,
             "#b8e186"
            ],
            [
             0.8,
             "#7fbc41"
            ],
            [
             0.9,
             "#4d9221"
            ],
            [
             1,
             "#276419"
            ]
           ],
           "sequential": [
            [
             0,
             "#0d0887"
            ],
            [
             0.1111111111111111,
             "#46039f"
            ],
            [
             0.2222222222222222,
             "#7201a8"
            ],
            [
             0.3333333333333333,
             "#9c179e"
            ],
            [
             0.4444444444444444,
             "#bd3786"
            ],
            [
             0.5555555555555556,
             "#d8576b"
            ],
            [
             0.6666666666666666,
             "#ed7953"
            ],
            [
             0.7777777777777778,
             "#fb9f3a"
            ],
            [
             0.8888888888888888,
             "#fdca26"
            ],
            [
             1,
             "#f0f921"
            ]
           ],
           "sequentialminus": [
            [
             0,
             "#0d0887"
            ],
            [
             0.1111111111111111,
             "#46039f"
            ],
            [
             0.2222222222222222,
             "#7201a8"
            ],
            [
             0.3333333333333333,
             "#9c179e"
            ],
            [
             0.4444444444444444,
             "#bd3786"
            ],
            [
             0.5555555555555556,
             "#d8576b"
            ],
            [
             0.6666666666666666,
             "#ed7953"
            ],
            [
             0.7777777777777778,
             "#fb9f3a"
            ],
            [
             0.8888888888888888,
             "#fdca26"
            ],
            [
             1,
             "#f0f921"
            ]
           ]
          },
          "colorway": [
           "#636efa",
           "#EF553B",
           "#00cc96",
           "#ab63fa",
           "#FFA15A",
           "#19d3f3",
           "#FF6692",
           "#B6E880",
           "#FF97FF",
           "#FECB52"
          ],
          "font": {
           "color": "#2a3f5f"
          },
          "geo": {
           "bgcolor": "white",
           "lakecolor": "white",
           "landcolor": "#E5ECF6",
           "showlakes": true,
           "showland": true,
           "subunitcolor": "white"
          },
          "hoverlabel": {
           "align": "left"
          },
          "hovermode": "closest",
          "mapbox": {
           "style": "light"
          },
          "paper_bgcolor": "white",
          "plot_bgcolor": "#E5ECF6",
          "polar": {
           "angularaxis": {
            "gridcolor": "white",
            "linecolor": "white",
            "ticks": ""
           },
           "bgcolor": "#E5ECF6",
           "radialaxis": {
            "gridcolor": "white",
            "linecolor": "white",
            "ticks": ""
           }
          },
          "scene": {
           "xaxis": {
            "backgroundcolor": "#E5ECF6",
            "gridcolor": "white",
            "gridwidth": 2,
            "linecolor": "white",
            "showbackground": true,
            "ticks": "",
            "zerolinecolor": "white"
           },
           "yaxis": {
            "backgroundcolor": "#E5ECF6",
            "gridcolor": "white",
            "gridwidth": 2,
            "linecolor": "white",
            "showbackground": true,
            "ticks": "",
            "zerolinecolor": "white"
           },
           "zaxis": {
            "backgroundcolor": "#E5ECF6",
            "gridcolor": "white",
            "gridwidth": 2,
            "linecolor": "white",
            "showbackground": true,
            "ticks": "",
            "zerolinecolor": "white"
           }
          },
          "shapedefaults": {
           "line": {
            "color": "#2a3f5f"
           }
          },
          "ternary": {
           "aaxis": {
            "gridcolor": "white",
            "linecolor": "white",
            "ticks": ""
           },
           "baxis": {
            "gridcolor": "white",
            "linecolor": "white",
            "ticks": ""
           },
           "bgcolor": "#E5ECF6",
           "caxis": {
            "gridcolor": "white",
            "linecolor": "white",
            "ticks": ""
           }
          },
          "title": {
           "x": 0.05
          },
          "xaxis": {
           "automargin": true,
           "gridcolor": "white",
           "linecolor": "white",
           "ticks": "",
           "title": {
            "standoff": 15
           },
           "zerolinecolor": "white",
           "zerolinewidth": 2
          },
          "yaxis": {
           "automargin": true,
           "gridcolor": "white",
           "linecolor": "white",
           "ticks": "",
           "title": {
            "standoff": 15
           },
           "zerolinecolor": "white",
           "zerolinewidth": 2
          }
         }
        },
        "title": {
         "text": "Todays CCA Pos (PnL and Delta)",
         "x": 0.5,
         "xanchor": "center"
        },
        "xaxis": {
         "anchor": "y",
         "domain": [
          0,
          0.45
         ],
         "title": {
          "text": "Price"
         }
        },
        "xaxis2": {
         "anchor": "y2",
         "domain": [
          0.55,
          1
         ],
         "title": {
          "text": "Price"
         }
        },
        "yaxis": {
         "anchor": "x",
         "domain": [
          0,
          1
         ],
         "title": {
          "text": "Pnl"
         }
        },
        "yaxis2": {
         "anchor": "x2",
         "domain": [
          0,
          1
         ],
         "title": {
          "text": "Delta"
         }
        }
       }
      },
      "text/html": [
       "<div>                            <div id=\"492c7417-e42b-45ae-b7b1-e94dda041693\" class=\"plotly-graph-div\" style=\"height:525px; width:100%;\"></div>            <script type=\"text/javascript\">                require([\"plotly\"], function(Plotly) {                    window.PLOTLYENV=window.PLOTLYENV || {};                                    if (document.getElementById(\"492c7417-e42b-45ae-b7b1-e94dda041693\")) {                    Plotly.newPlot(                        \"492c7417-e42b-45ae-b7b1-e94dda041693\",                        [{\"base\":0,\"name\":\"Spot\",\"x\":[20,21,22,23,24,25,26,27,28,29,30,31,32,33,34,35,36,37,38,39,40,41,42,43,44,45,46,47,48,49,50,51,52,53,54,55],\"y\":[-4000,-4000,-4000,-4000,-4000,-4000,-4000,-4000,-4000,-4000,-4000,-4000,-4000,-4000,-4000,-4000,-4000,-4000,-4000,-4000,-4000,-4000,-4000,-4000,-4000,-4000,-4000,-4000,-4000,-4000,-4000,-4000,-4000,-4000,-4000,-4000],\"type\":\"bar\",\"xaxis\":\"x2\",\"yaxis\":\"y2\"},{\"base\":0,\"name\":\"Spot\",\"x\":[20,21,22,23,24,25,26,27,28,29,30,31,32,33,34,35,36,37,38,39,40,41,42,43,44,45,46,47,48,49,50,51,52,53,54,55],\"y\":[89471.25019269306,83305.07168182517,77138.89317095728,70972.71466008939,64806.5361492215,58640.35763835361,52474.179127485724,46308.000616617835,40141.82210574995,33975.64359488206,27809.465084014166,21643.286573146277,15477.10806227839,9310.9295514105,3144.751040542611,-3021.4274703252777,-9187.605981193166,-15353.784492061055,-21519.963002928944,-27686.141513796832,-33852.32002466472,-40018.498535532606,-46184.677046400495,-52350.85555726839,-58517.03406813628,-64683.21257900417,-70849.39108987205,-77015.56960073994,-83181.74811160783,-89347.92662247572,-95514.1051333436,-101680.28364421151,-107846.4621550794,-114012.64066594729,-120178.81917681517,-126344.99768768306],\"type\":\"bar\",\"xaxis\":\"x\",\"yaxis\":\"y\"},{\"base\":0,\"name\":\"Fwds\",\"x\":[20,21,22,23,24,25,26,27,28,29,30,31,32,33,34,35,36,37,38,39,40,41,42,43,44,45,46,47,48,49,50,51,52,53,54,55],\"y\":[0.0,0.0,0.0,0.0,0.0,0.0,0.0,0.0,0.0,0.0,0.0,0.0,0.0,0.0,0.0,0.0,0.0,0.0,0.0,0.0,0.0,0.0,0.0,0.0,0.0,0.0,0.0,0.0,0.0,0.0,0.0,0.0,0.0,0.0,0.0,0.0],\"type\":\"bar\",\"xaxis\":\"x2\",\"yaxis\":\"y2\"},{\"base\":0,\"name\":\"Fwds\",\"x\":[20,21,22,23,24,25,26,27,28,29,30,31,32,33,34,35,36,37,38,39,40,41,42,43,44,45,46,47,48,49,50,51,52,53,54,55],\"y\":[0.0,0.0,0.0,0.0,0.0,0.0,0.0,0.0,0.0,0.0,0.0,0.0,0.0,0.0,0.0,0.0,0.0,0.0,0.0,0.0,0.0,0.0,0.0,0.0,0.0,0.0,0.0,0.0,0.0,0.0,0.0,0.0,0.0,0.0,0.0,0.0],\"type\":\"bar\",\"xaxis\":\"x\",\"yaxis\":\"y\"},{\"base\":0,\"name\":\"Options\",\"x\":[20,21,22,23,24,25,26,27,28,29,30,31,32,33,34,35,36,37,38,39,40,41,42,43,44,45,46,47,48,49,50,51,52,53,54,55],\"y\":[-47922.4328201864,-46316.77545054461,-44112.88950279794,-41421.78593426718,-38496.84467176405,-35681.34091762422,-33308.51759245088,-31582.248461416842,-30475.569635769323,-29681.734131035406,-28640.03142409912,-26639.025375160003,-22976.40939810982,-17133.722297095926,-8914.78033365507,1494.4495601393137,13561.213815162628,26521.463203924166,39536.22211854171,51842.35000929733,62861.14836078493,72248.12372232147,79887.34869947989,85847.21056420647,90318.62336220036,93553.77563671762,95816.80969467762,97350.86739930262,98360.74905237618,99007.6352017663,99411.55863302102,99657.82839056177,99804.66645671494,99890.41154943823,99939.514524951,99967.12542906558],\"type\":\"bar\",\"xaxis\":\"x2\",\"yaxis\":\"y2\"},{\"base\":0,\"name\":\"Options\",\"x\":[20,21,22,23,24,25,26,27,28,29,30,31,32,33,34,35,36,37,38,39,40,41,42,43,44,45,46,47,48,49,50,51,52,53,54,55],\"y\":[707237.0009391624,634737.9305586158,565169.80365611,499386.1044712799,437957.5326874786,380986.2940327355,328039.9131108117,278257.93000491743,230633.13675998506,184412.32099298906,139516.67081257934,96862.07721288237,58473.27849374912,27334.67604221772,6994.039375575608,1009.5807123017457,12377.869610114085,43081.233388043824,93849.83796493639,164165.4014408011,252467.82018825508,356484.3931436447,473591.61194650637,601136.1142795957,736671.5905478135,878099.2337730406,1023722.2112715008,1172236.6897764984,1322684.4954634407,1474388.89522503,1626888.7328865984,1779879.808828644,1933167.3345514457,2086629.9385108806,2240193.872895915,2393815.3563838988],\"type\":\"bar\",\"xaxis\":\"x\",\"yaxis\":\"y\"},{\"mode\":\"lines\",\"name\":\"Total_Delta\",\"x\":[20,21,22,23,24,25,26,27,28,29,30,31,32,33,34,35,36,37,38,39,40,41,42,43,44,45,46,47,48,49,50,51,52,53,54,55],\"y\":[-51922.4328201864,-50316.77545054461,-48112.88950279794,-45421.78593426718,-42496.84467176405,-39681.34091762422,-37308.51759245088,-35582.24846141684,-34475.56963576932,-33681.73413103541,-32640.03142409912,-30639.025375160003,-26976.40939810982,-21133.722297095926,-12914.78033365507,-2505.5504398606863,9561.213815162628,22521.463203924166,35536.22211854171,47842.35000929733,58861.14836078493,68248.12372232147,75887.34869947989,81847.21056420647,86318.62336220036,89553.77563671762,91816.80969467762,93350.86739930262,94360.74905237618,95007.6352017663,95411.55863302102,95657.82839056177,95804.66645671494,95890.41154943823,95939.514524951,95967.12542906558],\"type\":\"scatter\",\"xaxis\":\"x2\",\"yaxis\":\"y2\"},{\"mode\":\"lines\",\"name\":\"Total_PnL\",\"x\":[20,21,22,23,24,25,26,27,28,29,30,31,32,33,34,35,36,37,38,39,40,41,42,43,44,45,46,47,48,49,50,51,52,53,54,55],\"y\":[796708.2511318555,718043.002240441,642308.6968270673,570358.8191313692,502764.06883670005,439626.6516710891,380514.09223829745,324565.9306215353,270774.958865735,218387.9645878711,167326.1358965935,118505.36378602865,73950.38655602752,36645.60559362822,10138.79041611822,-2011.846758023532,3190.2636289209186,27727.44889598277,72329.87496200745,136479.25992700426,218615.50016359036,316465.89460811205,427406.9349001059,548785.2587223273,678154.5564796772,813416.0211940365,952872.8201816287,1095221.1201757584,1239502.747351833,1385040.9686025542,1531374.627753255,1678199.5251844325,1825320.8723963662,1972617.2978449333,2120015.0537191,2267470.358696216],\"type\":\"scatter\",\"xaxis\":\"x\",\"yaxis\":\"y\"}],                        {\"template\":{\"data\":{\"histogram2dcontour\":[{\"type\":\"histogram2dcontour\",\"colorbar\":{\"outlinewidth\":0,\"ticks\":\"\"},\"colorscale\":[[0.0,\"#0d0887\"],[0.1111111111111111,\"#46039f\"],[0.2222222222222222,\"#7201a8\"],[0.3333333333333333,\"#9c179e\"],[0.4444444444444444,\"#bd3786\"],[0.5555555555555556,\"#d8576b\"],[0.6666666666666666,\"#ed7953\"],[0.7777777777777778,\"#fb9f3a\"],[0.8888888888888888,\"#fdca26\"],[1.0,\"#f0f921\"]]}],\"choropleth\":[{\"type\":\"choropleth\",\"colorbar\":{\"outlinewidth\":0,\"ticks\":\"\"}}],\"histogram2d\":[{\"type\":\"histogram2d\",\"colorbar\":{\"outlinewidth\":0,\"ticks\":\"\"},\"colorscale\":[[0.0,\"#0d0887\"],[0.1111111111111111,\"#46039f\"],[0.2222222222222222,\"#7201a8\"],[0.3333333333333333,\"#9c179e\"],[0.4444444444444444,\"#bd3786\"],[0.5555555555555556,\"#d8576b\"],[0.6666666666666666,\"#ed7953\"],[0.7777777777777778,\"#fb9f3a\"],[0.8888888888888888,\"#fdca26\"],[1.0,\"#f0f921\"]]}],\"heatmap\":[{\"type\":\"heatmap\",\"colorbar\":{\"outlinewidth\":0,\"ticks\":\"\"},\"colorscale\":[[0.0,\"#0d0887\"],[0.1111111111111111,\"#46039f\"],[0.2222222222222222,\"#7201a8\"],[0.3333333333333333,\"#9c179e\"],[0.4444444444444444,\"#bd3786\"],[0.5555555555555556,\"#d8576b\"],[0.6666666666666666,\"#ed7953\"],[0.7777777777777778,\"#fb9f3a\"],[0.8888888888888888,\"#fdca26\"],[1.0,\"#f0f921\"]]}],\"heatmapgl\":[{\"type\":\"heatmapgl\",\"colorbar\":{\"outlinewidth\":0,\"ticks\":\"\"},\"colorscale\":[[0.0,\"#0d0887\"],[0.1111111111111111,\"#46039f\"],[0.2222222222222222,\"#7201a8\"],[0.3333333333333333,\"#9c179e\"],[0.4444444444444444,\"#bd3786\"],[0.5555555555555556,\"#d8576b\"],[0.6666666666666666,\"#ed7953\"],[0.7777777777777778,\"#fb9f3a\"],[0.8888888888888888,\"#fdca26\"],[1.0,\"#f0f921\"]]}],\"contourcarpet\":[{\"type\":\"contourcarpet\",\"colorbar\":{\"outlinewidth\":0,\"ticks\":\"\"}}],\"contour\":[{\"type\":\"contour\",\"colorbar\":{\"outlinewidth\":0,\"ticks\":\"\"},\"colorscale\":[[0.0,\"#0d0887\"],[0.1111111111111111,\"#46039f\"],[0.2222222222222222,\"#7201a8\"],[0.3333333333333333,\"#9c179e\"],[0.4444444444444444,\"#bd3786\"],[0.5555555555555556,\"#d8576b\"],[0.6666666666666666,\"#ed7953\"],[0.7777777777777778,\"#fb9f3a\"],[0.8888888888888888,\"#fdca26\"],[1.0,\"#f0f921\"]]}],\"surface\":[{\"type\":\"surface\",\"colorbar\":{\"outlinewidth\":0,\"ticks\":\"\"},\"colorscale\":[[0.0,\"#0d0887\"],[0.1111111111111111,\"#46039f\"],[0.2222222222222222,\"#7201a8\"],[0.3333333333333333,\"#9c179e\"],[0.4444444444444444,\"#bd3786\"],[0.5555555555555556,\"#d8576b\"],[0.6666666666666666,\"#ed7953\"],[0.7777777777777778,\"#fb9f3a\"],[0.8888888888888888,\"#fdca26\"],[1.0,\"#f0f921\"]]}],\"mesh3d\":[{\"type\":\"mesh3d\",\"colorbar\":{\"outlinewidth\":0,\"ticks\":\"\"}}],\"scatter\":[{\"fillpattern\":{\"fillmode\":\"overlay\",\"size\":10,\"solidity\":0.2},\"type\":\"scatter\"}],\"parcoords\":[{\"type\":\"parcoords\",\"line\":{\"colorbar\":{\"outlinewidth\":0,\"ticks\":\"\"}}}],\"scatterpolargl\":[{\"type\":\"scatterpolargl\",\"marker\":{\"colorbar\":{\"outlinewidth\":0,\"ticks\":\"\"}}}],\"bar\":[{\"error_x\":{\"color\":\"#2a3f5f\"},\"error_y\":{\"color\":\"#2a3f5f\"},\"marker\":{\"line\":{\"color\":\"#E5ECF6\",\"width\":0.5},\"pattern\":{\"fillmode\":\"overlay\",\"size\":10,\"solidity\":0.2}},\"type\":\"bar\"}],\"scattergeo\":[{\"type\":\"scattergeo\",\"marker\":{\"colorbar\":{\"outlinewidth\":0,\"ticks\":\"\"}}}],\"scatterpolar\":[{\"type\":\"scatterpolar\",\"marker\":{\"colorbar\":{\"outlinewidth\":0,\"ticks\":\"\"}}}],\"histogram\":[{\"marker\":{\"pattern\":{\"fillmode\":\"overlay\",\"size\":10,\"solidity\":0.2}},\"type\":\"histogram\"}],\"scattergl\":[{\"type\":\"scattergl\",\"marker\":{\"colorbar\":{\"outlinewidth\":0,\"ticks\":\"\"}}}],\"scatter3d\":[{\"type\":\"scatter3d\",\"line\":{\"colorbar\":{\"outlinewidth\":0,\"ticks\":\"\"}},\"marker\":{\"colorbar\":{\"outlinewidth\":0,\"ticks\":\"\"}}}],\"scattermapbox\":[{\"type\":\"scattermapbox\",\"marker\":{\"colorbar\":{\"outlinewidth\":0,\"ticks\":\"\"}}}],\"scatterternary\":[{\"type\":\"scatterternary\",\"marker\":{\"colorbar\":{\"outlinewidth\":0,\"ticks\":\"\"}}}],\"scattercarpet\":[{\"type\":\"scattercarpet\",\"marker\":{\"colorbar\":{\"outlinewidth\":0,\"ticks\":\"\"}}}],\"carpet\":[{\"aaxis\":{\"endlinecolor\":\"#2a3f5f\",\"gridcolor\":\"white\",\"linecolor\":\"white\",\"minorgridcolor\":\"white\",\"startlinecolor\":\"#2a3f5f\"},\"baxis\":{\"endlinecolor\":\"#2a3f5f\",\"gridcolor\":\"white\",\"linecolor\":\"white\",\"minorgridcolor\":\"white\",\"startlinecolor\":\"#2a3f5f\"},\"type\":\"carpet\"}],\"table\":[{\"cells\":{\"fill\":{\"color\":\"#EBF0F8\"},\"line\":{\"color\":\"white\"}},\"header\":{\"fill\":{\"color\":\"#C8D4E3\"},\"line\":{\"color\":\"white\"}},\"type\":\"table\"}],\"barpolar\":[{\"marker\":{\"line\":{\"color\":\"#E5ECF6\",\"width\":0.5},\"pattern\":{\"fillmode\":\"overlay\",\"size\":10,\"solidity\":0.2}},\"type\":\"barpolar\"}],\"pie\":[{\"automargin\":true,\"type\":\"pie\"}]},\"layout\":{\"autotypenumbers\":\"strict\",\"colorway\":[\"#636efa\",\"#EF553B\",\"#00cc96\",\"#ab63fa\",\"#FFA15A\",\"#19d3f3\",\"#FF6692\",\"#B6E880\",\"#FF97FF\",\"#FECB52\"],\"font\":{\"color\":\"#2a3f5f\"},\"hovermode\":\"closest\",\"hoverlabel\":{\"align\":\"left\"},\"paper_bgcolor\":\"white\",\"plot_bgcolor\":\"#E5ECF6\",\"polar\":{\"bgcolor\":\"#E5ECF6\",\"angularaxis\":{\"gridcolor\":\"white\",\"linecolor\":\"white\",\"ticks\":\"\"},\"radialaxis\":{\"gridcolor\":\"white\",\"linecolor\":\"white\",\"ticks\":\"\"}},\"ternary\":{\"bgcolor\":\"#E5ECF6\",\"aaxis\":{\"gridcolor\":\"white\",\"linecolor\":\"white\",\"ticks\":\"\"},\"baxis\":{\"gridcolor\":\"white\",\"linecolor\":\"white\",\"ticks\":\"\"},\"caxis\":{\"gridcolor\":\"white\",\"linecolor\":\"white\",\"ticks\":\"\"}},\"coloraxis\":{\"colorbar\":{\"outlinewidth\":0,\"ticks\":\"\"}},\"colorscale\":{\"sequential\":[[0.0,\"#0d0887\"],[0.1111111111111111,\"#46039f\"],[0.2222222222222222,\"#7201a8\"],[0.3333333333333333,\"#9c179e\"],[0.4444444444444444,\"#bd3786\"],[0.5555555555555556,\"#d8576b\"],[0.6666666666666666,\"#ed7953\"],[0.7777777777777778,\"#fb9f3a\"],[0.8888888888888888,\"#fdca26\"],[1.0,\"#f0f921\"]],\"sequentialminus\":[[0.0,\"#0d0887\"],[0.1111111111111111,\"#46039f\"],[0.2222222222222222,\"#7201a8\"],[0.3333333333333333,\"#9c179e\"],[0.4444444444444444,\"#bd3786\"],[0.5555555555555556,\"#d8576b\"],[0.6666666666666666,\"#ed7953\"],[0.7777777777777778,\"#fb9f3a\"],[0.8888888888888888,\"#fdca26\"],[1.0,\"#f0f921\"]],\"diverging\":[[0,\"#8e0152\"],[0.1,\"#c51b7d\"],[0.2,\"#de77ae\"],[0.3,\"#f1b6da\"],[0.4,\"#fde0ef\"],[0.5,\"#f7f7f7\"],[0.6,\"#e6f5d0\"],[0.7,\"#b8e186\"],[0.8,\"#7fbc41\"],[0.9,\"#4d9221\"],[1,\"#276419\"]]},\"xaxis\":{\"gridcolor\":\"white\",\"linecolor\":\"white\",\"ticks\":\"\",\"title\":{\"standoff\":15},\"zerolinecolor\":\"white\",\"automargin\":true,\"zerolinewidth\":2},\"yaxis\":{\"gridcolor\":\"white\",\"linecolor\":\"white\",\"ticks\":\"\",\"title\":{\"standoff\":15},\"zerolinecolor\":\"white\",\"automargin\":true,\"zerolinewidth\":2},\"scene\":{\"xaxis\":{\"backgroundcolor\":\"#E5ECF6\",\"gridcolor\":\"white\",\"linecolor\":\"white\",\"showbackground\":true,\"ticks\":\"\",\"zerolinecolor\":\"white\",\"gridwidth\":2},\"yaxis\":{\"backgroundcolor\":\"#E5ECF6\",\"gridcolor\":\"white\",\"linecolor\":\"white\",\"showbackground\":true,\"ticks\":\"\",\"zerolinecolor\":\"white\",\"gridwidth\":2},\"zaxis\":{\"backgroundcolor\":\"#E5ECF6\",\"gridcolor\":\"white\",\"linecolor\":\"white\",\"showbackground\":true,\"ticks\":\"\",\"zerolinecolor\":\"white\",\"gridwidth\":2}},\"shapedefaults\":{\"line\":{\"color\":\"#2a3f5f\"}},\"annotationdefaults\":{\"arrowcolor\":\"#2a3f5f\",\"arrowhead\":0,\"arrowwidth\":1},\"geo\":{\"bgcolor\":\"white\",\"landcolor\":\"#E5ECF6\",\"subunitcolor\":\"white\",\"showland\":true,\"showlakes\":true,\"lakecolor\":\"white\"},\"title\":{\"x\":0.05},\"mapbox\":{\"style\":\"light\"}}},\"xaxis\":{\"anchor\":\"y\",\"domain\":[0.0,0.45],\"title\":{\"text\":\"Price\"}},\"yaxis\":{\"anchor\":\"x\",\"domain\":[0.0,1.0],\"title\":{\"text\":\"Pnl\"}},\"xaxis2\":{\"anchor\":\"y2\",\"domain\":[0.55,1.0],\"title\":{\"text\":\"Price\"}},\"yaxis2\":{\"anchor\":\"x2\",\"domain\":[0.0,1.0],\"title\":{\"text\":\"Delta\"}},\"title\":{\"text\":\"Todays CCA Pos (PnL and Delta)\",\"x\":0.5,\"xanchor\":\"center\"}},                        {\"responsive\": true}                    ).then(function(){\n",
       "                            \n",
       "var gd = document.getElementById('492c7417-e42b-45ae-b7b1-e94dda041693');\n",
       "var x = new MutationObserver(function (mutations, observer) {{\n",
       "        var display = window.getComputedStyle(gd).display;\n",
       "        if (!display || display === 'none') {{\n",
       "            console.log([gd, 'removed!']);\n",
       "            Plotly.purge(gd);\n",
       "            observer.disconnect();\n",
       "        }}\n",
       "}});\n",
       "\n",
       "// Listen for the removal of the full notebook cells\n",
       "var notebookContainer = gd.closest('#notebook-container');\n",
       "if (notebookContainer) {{\n",
       "    x.observe(notebookContainer, {childList: true});\n",
       "}}\n",
       "\n",
       "// Listen for the clearing of the current output cell\n",
       "var outputEl = gd.closest('.output');\n",
       "if (outputEl) {{\n",
       "    x.observe(outputEl, {childList: true});\n",
       "}}\n",
       "\n",
       "                        })                };                });            </script>        </div>"
      ]
     },
     "metadata": {},
     "output_type": "display_data"
    }
   ],
   "source": [
    "## USE THIS STYLE OF GRAPHING FOR TODAY DATE ENTRY ##\n",
    "position_functions = Position_Reporting(positions, 'CCA', current_date)\n",
    "pnl, delta, theta, vega, value = position_functions.combine_frame()\n",
    "\n",
    "fig_d = go.Figure()\n",
    "\n",
    "fig_d.add_trace(go.Bar(x=delta.Price, y=delta.Spot, name='Spot', base=0))\n",
    "fig_d.add_trace(go.Bar(x=delta.Price, y=delta.Fwds, name='Fwds', base=0))\n",
    "fig_d.add_trace(go.Bar(x=delta.Price, y=delta.Options, name='Options', base=0))\n",
    "fig_d.add_trace(go.Scatter(x=delta.Price, y=delta.Total_Delta, mode='lines', name='Total_Delta'))\n",
    "\n",
    "#fig_d.update_layout(title='ACCU Delta Today', xaxis_title='Price', yaxis_title='Delta', barmode='stack')\n",
    "#fig_d.show()\n",
    "\n",
    "#~~~~~~~~~~~~~~~~~~~~~~~~~~~~~~~~~\n",
    "fig_p = go.Figure()\n",
    "\n",
    "fig_p.add_trace(go.Bar(x=pnl.Price, y=pnl.Spot, name='Spot', base=0))\n",
    "fig_p.add_trace(go.Bar(x=pnl.Price, y=pnl.Fwds, name='Fwds', base=0))\n",
    "fig_p.add_trace(go.Bar(x=pnl.Price, y=pnl.Options, name='Options', base=0))\n",
    "fig_p.add_trace(go.Scatter(x=pnl.Price, y=pnl.Total_Pnl, mode='lines', name='Total_PnL'))\n",
    "\n",
    "#fig_p.update_layout(title='ACCU PnL Today', xaxis_title='Price', yaxis_title='pnl', barmode='stack')\n",
    "#fig_p.show()\n",
    "\n",
    "\n",
    "#~~~~~~~~~~~~~~~~~~~~~~~~~~~~~~~\n",
    "fig = make_subplots(rows=1, cols=2)\n",
    "for i in range(0,len(fig_d.data)):\n",
    "    fig.add_trace(fig_d.data[i], row=1, col=2)\n",
    "    fig.add_trace(fig_p.data[i], row=1, col=1)\n",
    "    \n",
    "#fig.update_layout(title={'text': 'Todays CCA Pos (PnL and Delta)','x': 0.5,'xanchor': 'center'}, barmode='stack')\n",
    "fig.update_layout(title={'text': 'Todays CCA Pos (PnL and Delta)','x': 0.5,'xanchor': 'center'})\n",
    "\n",
    "fig.update_xaxes(title_text=\"Price\", row=1, col=1)\n",
    "fig.update_yaxes(title_text=\"Pnl\", row=1, col=1)\n",
    "fig.update_xaxes(title_text=\"Price\", row=1, col=2)\n",
    "fig.update_yaxes(title_text=\"Delta\", row=1, col=2)    \n",
    "fig.show()  "
   ]
  },
  {
   "cell_type": "markdown",
   "id": "bdbfe069",
   "metadata": {},
   "source": [
    "  # Options Book"
   ]
  },
  {
   "cell_type": "code",
   "execution_count": 30,
   "id": "47f6c878",
   "metadata": {},
   "outputs": [],
   "source": [
    "p,d,t,v, value = position_functions.options()"
   ]
  },
  {
   "cell_type": "code",
   "execution_count": 31,
   "id": "b3e9cc12",
   "metadata": {},
   "outputs": [
    {
     "data": {
      "application/vnd.plotly.v1+json": {
       "config": {
        "plotlyServerURL": "https://plot.ly"
       },
       "data": [
        {
         "base": 0,
         "name": "CCA V24 Dec24 36C",
         "type": "bar",
         "x": [
          20,
          21,
          22,
          23,
          24,
          25,
          26,
          27,
          28,
          29,
          30,
          31,
          32,
          33,
          34,
          35,
          36,
          37,
          38,
          39,
          40,
          41,
          42,
          43,
          44,
          45,
          46,
          47,
          48,
          49,
          50,
          51,
          52,
          53,
          54,
          55
         ],
         "xaxis": "x",
         "y": [
          -72942.440803236,
          -72942.3962365633,
          -72942.06481397906,
          -72940.12922687423,
          -72931.0038506864,
          -72895.4387317248,
          -72778.45548930211,
          -72447.75956147483,
          -71631.37784792062,
          -69846.14529712232,
          -66343.78616096587,
          -60108.2811568985,
          -49928.253705318835,
          -34542.203482132056,
          -12824.501249731436,
          16038.26404628814,
          52428.56840966032,
          96264.04488104604,
          147047.45874597185,
          203976.6324799089,
          266079.85416717536,
          332344.62208423874,
          401818.1539017451,
          473670.9317338203,
          547225.0966449956,
          621955.6978746714,
          697474.7608804966,
          773507.1584490794,
          849864.8770793298,
          926423.6579594437,
          1003103.8357380283,
          1079855.7331805404,
          1156649.1513963523,
          1233466.157264061,
          1310296.3289659137,
          1387133.7295175914
         ],
         "yaxis": "y"
        },
        {
         "base": 0,
         "name": "CCA V24 Dec24 36C",
         "type": "bar",
         "x": [
          20,
          21,
          22,
          23,
          24,
          25,
          26,
          27,
          28,
          29,
          30,
          31,
          32,
          33,
          34,
          35,
          36,
          37,
          38,
          39,
          40,
          41,
          42,
          43,
          44,
          45,
          46,
          47,
          48,
          49,
          50,
          51,
          52,
          53,
          54,
          55
         ],
         "xaxis": "x2",
         "y": [
          0.007874220601170923,
          0.06999340801981925,
          0.47636373869348597,
          2.56257949653479,
          11.196991844999495,
          40.682473929794725,
          125.44400133746576,
          334.17481792974866,
          781.2711533648384,
          1625.5080165108723,
          3047.540770438129,
          5206.678345269155,
          8189.392368081693,
          11969.455474961987,
          16396.932291610323,
          21221.562393260916,
          26142.08737609103,
          30864.150571049388,
          35148.97263468346,
          38841.49225214301,
          41875.617827210575,
          44261.448754549616,
          46062.706426313314,
          47372.34584189216,
          48291.873932952956,
          48916.92105519174,
          49329.21000675478,
          49593.66815849354,
          49758.95186170093,
          49859.78557215526,
          49919.93181025179,
          49955.06419653581,
          49975.18858855256,
          49986.50810196821,
          49992.76782282846,
          49996.17503142484
         ],
         "yaxis": "y2"
        },
        {
         "base": 0,
         "name": "CCA V24 Dec24 27P",
         "type": "bar",
         "x": [
          20,
          21,
          22,
          23,
          24,
          25,
          26,
          27,
          28,
          29,
          30,
          31,
          32,
          33,
          34,
          35,
          36,
          37,
          38,
          39,
          40,
          41,
          42,
          43,
          44,
          45,
          46,
          47,
          48,
          49,
          50,
          51,
          52,
          53,
          54,
          55
         ],
         "xaxis": "x",
         "y": [
          530548.7144432686,
          458177.26590481814,
          388976.05079185084,
          324100.9251037329,
          264644.5488241183,
          211481.16296209412,
          165152.4008489871,
          125817.35647637692,
          93268.83332635541,
          67000.62833881791,
          46302.431948953425,
          30359.276150932314,
          18338.398780049854,
          9454.262367591882,
          3009.5080749492804,
          -1585.5365547143663,
          -4809.7411853169215,
          -7038.866924819267,
          -8559.152187828153,
          -9583.06387494633,
          -10264.74958275858,
          -10713.802360505117,
          -11006.743554187946,
          -11196.145460198639,
          -11317.605752878084,
          -11394.915022018538,
          -11443.786432762401,
          -11474.488122121551,
          -11493.665647055132,
          -11505.58264181759,
          -11512.953014816017,
          -11517.491910402334,
          -11520.276264375456,
          -11521.978324436683,
          -11523.01550002096,
          -11523.645726290602
         ],
         "yaxis": "y"
        },
        {
         "base": 0,
         "name": "CCA V24 Dec24 27P",
         "type": "bar",
         "x": [
          20,
          21,
          22,
          23,
          24,
          25,
          26,
          27,
          28,
          29,
          30,
          31,
          32,
          33,
          34,
          35,
          36,
          37,
          38,
          39,
          40,
          41,
          42,
          43,
          44,
          45,
          46,
          47,
          48,
          49,
          50,
          51,
          52,
          53,
          54,
          55
         ],
         "xaxis": "x2",
         "y": [
          -47878.847185495986,
          -46178.641359741705,
          -43740.99483464966,
          -40553.9418568415,
          -36711.7699082823,
          -32400.032589895323,
          -27858.987324973594,
          -23338.91172249516,
          -19060.557561166435,
          -15189.194891860492,
          -11824.59030448272,
          -9004.461303438276,
          -6716.542919087498,
          -4914.188878284475,
          -3531.567317788353,
          -2496.113464543154,
          -1737.3517732663545,
          -1192.2123032651555,
          -807.5073008431299,
          -540.4052035227091,
          -357.6803847951282,
          -234.35048789413048,
          -152.12340893281385,
          -97.90916214215683,
          -62.52596433606872,
          -39.645751675504435,
          -24.97467910537732,
          -15.639324068023042,
          -9.740475168751317,
          -6.036686633559274,
          -3.724516565722924,
          -2.2886317409542833,
          -1.4011518347789576,
          -0.8549760793785666,
          -0.5201481239391903,
          -0.315601276762445
         ],
         "yaxis": "y2"
        },
        {
         "base": 0,
         "name": "CCA V24 Dec24 31P",
         "type": "bar",
         "x": [
          20,
          21,
          22,
          23,
          24,
          25,
          26,
          27,
          28,
          29,
          30,
          31,
          32,
          33,
          34,
          35,
          36,
          37,
          38,
          39,
          40,
          41,
          42,
          43,
          44,
          45,
          46,
          47,
          48,
          49,
          50,
          51,
          52,
          53,
          54,
          55
         ],
         "xaxis": "x",
         "y": [
          -803700.3344105412,
          -726982.3579142832,
          -650503.9794473007,
          -574569.0337471364,
          -499705.92536953324,
          -426709.9676248961,
          -356625.6186368309,
          -290653.344565528,
          -229994.6745660931,
          -175674.64000782173,
          -128390.05816876836,
          -88421.73831884633,
          -55625.651679275965,
          -29493.90528243093,
          -9260.21996678126,
          5980.047030676095,
          17160.42333036448,
          25159.69687998815,
          30749.30819804745,
          34569.280563331646,
          37126.029235819355,
          38804.250077115925,
          39885.94389960927,
          40571.413610979274,
          40998.983687617714,
          41261.792088519935,
          41421.13525418677,
          41516.52715814396,
          41572.96474071007,
          41605.99207925476,
          41625.124609872124,
          41636.10423671199,
          41642.35050172976,
          41645.875446173755,
          41647.84989520184,
          41648.94826025086
         ],
         "yaxis": "y"
        },
        {
         "base": 0,
         "name": "CCA V24 Dec24 31P",
         "type": "bar",
         "x": [
          20,
          21,
          22,
          23,
          24,
          25,
          26,
          27,
          28,
          29,
          30,
          31,
          32,
          33,
          34,
          35,
          36,
          37,
          38,
          39,
          40,
          41,
          42,
          43,
          44,
          45,
          46,
          47,
          48,
          49,
          50,
          51,
          52,
          53,
          54,
          55
         ],
         "xaxis": "x2",
         "y": [
          49956.406193349,
          49861.79201327229,
          49627.591073139396,
          49129.3109512131,
          48202.06390012342,
          46670.04713010901,
          44393.40482622777,
          41316.16701233492,
          37495.77930806415,
          33101.889324223,
          28385.051180966177,
          23627.401114853226,
          19091.925531833993,
          14984.156912752871,
          11433.088871203967,
          8490.806808155938,
          6145.514533733737,
          4341.051425989789,
          2996.9121899798947,
          2024.9138755807583,
          1340.877473365737,
          871.3584305681421,
          556.3901640415925,
          349.5092848954551,
          216.23581083780596,
          131.90163919689078,
          79.40760667461966,
          47.224959806019264,
          27.769026834306707,
          16.15795480786053,
          9.310700904235913,
          5.316920036718686,
          3.0109980443338014,
          1.6920177138002312,
          0.9440541148542092,
          0.5232666924037677
         ],
         "yaxis": "y2"
        },
        {
         "base": 0,
         "name": "CCA V24 Dec24 38P",
         "type": "bar",
         "x": [
          20,
          21,
          22,
          23,
          24,
          25,
          26,
          27,
          28,
          29,
          30,
          31,
          32,
          33,
          34,
          35,
          36,
          37,
          38,
          39,
          40,
          41,
          42,
          43,
          44,
          45,
          46,
          47,
          48,
          49,
          50,
          51,
          52,
          53,
          54,
          55
         ],
         "xaxis": "x",
         "y": [
          1084161.9541841394,
          1007316.310179366,
          930470.6767875535,
          853625.1268433025,
          776780.0896620539,
          699937.579281635,
          623105.2812097229,
          546307.5042912554,
          469609.0208350454,
          393157.2593385214,
          317242.2394033837,
          242361.78552329136,
          169266.9452513307,
          98957.99136951788,
          32611.533856233018,
          -28557.511859570517,
          -83469.42797915342,
          -131343.38078320195,
          -171808.27100700396,
          -204935.92902738324,
          -231196.68453188724,
          -251358.18859675914,
          -266358.5439707469,
          -277183.5381751793,
          -284768.7599408978,
          -289935.81106126274,
          -293361.91224466707,
          -295576.03943601856,
          -296972.448488749,
          -297833.0167721622,
          -298351.89046173973,
          -298658.3441298599,
          -298835.84388414735,
          -298936.7788327359,
          -298993.18868012674,
          -299024.2038336236
         ],
         "yaxis": "y"
        },
        {
         "base": 0,
         "name": "CCA V24 Dec24 38P",
         "type": "bar",
         "x": [
          20,
          21,
          22,
          23,
          24,
          25,
          26,
          27,
          28,
          29,
          30,
          31,
          32,
          33,
          34,
          35,
          36,
          37,
          38,
          39,
          40,
          41,
          42,
          43,
          44,
          45,
          46,
          47,
          48,
          49,
          50,
          51,
          52,
          53,
          54,
          55
         ],
         "xaxis": "x2",
         "y": [
          -49999.99985113001,
          -49999.9980487416,
          -49999.98105251318,
          -49999.85880406766,
          -49999.16782772508,
          -49996.01896588385,
          -49984.189547521266,
          -49946.839284593174,
          -49846.03126801594,
          -49609.96828995439,
          -49124.01653551035,
          -48234.32176592205,
          -46770.592189469004,
          -44586.57290326316,
          -41606.6170893405,
          -37860.903088367195,
          -33494.518160697895,
          -28745.763244924925,
          -23901.077702639257,
          -19241.825457451865,
          -14998.833277498125,
          -11325.166487451077,
          -8289.812240971107,
          -5888.367700219499,
          -4063.4802086271684,
          -2727.70065299775,
          -1783.4166198232026,
          -1137.1931974644644,
          -708.1156804951527,
          -431.135819281625,
          -256.9796807846414,
          -150.13204713489324,
          -86.0659890235871,
          -48.4667970822028,
          -26.83860193418708,
          -14.628633887459053
         ],
         "yaxis": "y2"
        },
        {
         "base": 0,
         "name": "CCA V24 Dec24 38C",
         "type": "bar",
         "x": [
          20,
          21,
          22,
          23,
          24,
          25,
          26,
          27,
          28,
          29,
          30,
          31,
          32,
          33,
          34,
          35,
          36,
          37,
          38,
          39,
          40,
          41,
          42,
          43,
          44,
          45,
          46,
          47,
          48,
          49,
          50,
          51,
          52,
          53,
          54,
          55
         ],
         "xaxis": "x",
         "y": [
          -30830.892474468357,
          -30830.891374721912,
          -30830.879662014682,
          -30830.784501745016,
          -30830.176578473904,
          -30827.0418543727,
          -30813.694821765213,
          -30765.826635712034,
          -30618.664987401986,
          -30224.781379406217,
          -29294.156210023568,
          -27328.96498559646,
          -23578.160153036635,
          -17041.46893032906,
          -6542.281339093996,
          9134.318049622392,
          31068.047034559622,
          60039.73933503084,
          96420.4942157492,
          140138.48129989012,
          190723.37089990618,
          247407.5119395543,
          309252.80167008686,
          375273.45257017406,
          444533.8759089761,
          516212.4698931305,
          589632.0138142469,
          664263.531727415,
          739712.7677792049,
          815697.8446003112,
          892024.6160152539,
          968563.8074516539,
          1045231.9528018866,
          1121976.6629578182,
          1198765.898214947,
          1275580.5281659705
         ],
         "yaxis": "y"
        },
        {
         "base": 0,
         "name": "CCA V24 Dec24 38C",
         "type": "bar",
         "x": [
          20,
          21,
          22,
          23,
          24,
          25,
          26,
          27,
          28,
          29,
          30,
          31,
          32,
          33,
          34,
          35,
          36,
          37,
          38,
          39,
          40,
          41,
          42,
          43,
          44,
          45,
          46,
          47,
          48,
          49,
          50,
          51,
          52,
          53,
          54,
          55
         ],
         "xaxis": "x2",
         "y": [
          0.00014886999502290328,
          0.0019512583956980275,
          0.018947486818389883,
          0.14119593234162794,
          0.8321722749175484,
          3.9810341161500107,
          15.810452478739835,
          53.160715406823584,
          153.96873198406234,
          390.0317100456087,
          875.9834644896483,
          1765.6782340779448,
          3229.407810530995,
          5413.427096736845,
          8393.382910659495,
          12139.096911632805,
          16505.48183930211,
          21254.23675507507,
          26098.922297360743,
          30758.174542548135,
          35001.166722501875,
          38674.833512548925,
          41710.18775902889,
          44111.632299780504,
          45936.51979137283,
          47272.29934700225,
          48216.583380176795,
          48862.80680253554,
          49291.88431950485,
          49568.864180718374,
          49743.02031921536,
          49849.867952865105,
          49913.934010976416,
          49951.533202917795,
          49973.161398065815,
          49985.371366112544
         ],
         "yaxis": "y2"
        },
        {
         "mode": "lines",
         "name": "Total_PnL",
         "type": "scatter",
         "x": [
          20,
          21,
          22,
          23,
          24,
          25,
          26,
          27,
          28,
          29,
          30,
          31,
          32,
          33,
          34,
          35,
          36,
          37,
          38,
          39,
          40,
          41,
          42,
          43,
          44,
          45,
          46,
          47,
          48,
          49,
          50,
          51,
          52,
          53,
          54,
          55
         ],
         "xaxis": "x",
         "y": [
          707237.0009391624,
          634737.9305586158,
          565169.80365611,
          499386.1044712799,
          437957.5326874786,
          380986.2940327355,
          328039.9131108117,
          278257.93000491743,
          230633.13675998506,
          184412.32099298906,
          139516.67081257934,
          96862.07721288237,
          58473.27849374912,
          27334.67604221772,
          6994.039375575608,
          1009.5807123017457,
          12377.869610114085,
          43081.233388043824,
          93849.83796493639,
          164165.4014408011,
          252467.82018825508,
          356484.3931436447,
          473591.61194650637,
          601136.1142795957,
          736671.5905478135,
          878099.2337730406,
          1023722.2112715008,
          1172236.6897764984,
          1322684.4954634407,
          1474388.89522503,
          1626888.7328865984,
          1779879.808828644,
          1933167.3345514457,
          2086629.9385108806,
          2240193.872895915,
          2393815.3563838988
         ],
         "yaxis": "y"
        },
        {
         "mode": "lines",
         "name": "Total_Delta",
         "type": "scatter",
         "x": [
          20,
          21,
          22,
          23,
          24,
          25,
          26,
          27,
          28,
          29,
          30,
          31,
          32,
          33,
          34,
          35,
          36,
          37,
          38,
          39,
          40,
          41,
          42,
          43,
          44,
          45,
          46,
          47,
          48,
          49,
          50,
          51,
          52,
          53,
          54,
          55
         ],
         "xaxis": "x2",
         "y": [
          -47922.4328201864,
          -46316.77545054461,
          -44112.88950279794,
          -41421.78593426718,
          -38496.84467176405,
          -35681.34091762422,
          -33308.51759245088,
          -31582.248461416842,
          -30475.569635769323,
          -29681.734131035406,
          -28640.03142409912,
          -26639.025375160003,
          -22976.40939810982,
          -17133.722297095926,
          -8914.78033365507,
          1494.4495601393137,
          13561.213815162628,
          26521.463203924166,
          39536.22211854171,
          51842.35000929733,
          62861.14836078493,
          72248.12372232147,
          79887.34869947989,
          85847.21056420647,
          90318.62336220036,
          93553.77563671762,
          95816.80969467762,
          97350.86739930262,
          98360.74905237618,
          99007.6352017663,
          99411.55863302102,
          99657.82839056177,
          99804.66645671494,
          99890.41154943823,
          99939.514524951,
          99967.12542906558
         ],
         "yaxis": "y2"
        }
       ],
       "layout": {
        "template": {
         "data": {
          "bar": [
           {
            "error_x": {
             "color": "#2a3f5f"
            },
            "error_y": {
             "color": "#2a3f5f"
            },
            "marker": {
             "line": {
              "color": "#E5ECF6",
              "width": 0.5
             },
             "pattern": {
              "fillmode": "overlay",
              "size": 10,
              "solidity": 0.2
             }
            },
            "type": "bar"
           }
          ],
          "barpolar": [
           {
            "marker": {
             "line": {
              "color": "#E5ECF6",
              "width": 0.5
             },
             "pattern": {
              "fillmode": "overlay",
              "size": 10,
              "solidity": 0.2
             }
            },
            "type": "barpolar"
           }
          ],
          "carpet": [
           {
            "aaxis": {
             "endlinecolor": "#2a3f5f",
             "gridcolor": "white",
             "linecolor": "white",
             "minorgridcolor": "white",
             "startlinecolor": "#2a3f5f"
            },
            "baxis": {
             "endlinecolor": "#2a3f5f",
             "gridcolor": "white",
             "linecolor": "white",
             "minorgridcolor": "white",
             "startlinecolor": "#2a3f5f"
            },
            "type": "carpet"
           }
          ],
          "choropleth": [
           {
            "colorbar": {
             "outlinewidth": 0,
             "ticks": ""
            },
            "type": "choropleth"
           }
          ],
          "contour": [
           {
            "colorbar": {
             "outlinewidth": 0,
             "ticks": ""
            },
            "colorscale": [
             [
              0,
              "#0d0887"
             ],
             [
              0.1111111111111111,
              "#46039f"
             ],
             [
              0.2222222222222222,
              "#7201a8"
             ],
             [
              0.3333333333333333,
              "#9c179e"
             ],
             [
              0.4444444444444444,
              "#bd3786"
             ],
             [
              0.5555555555555556,
              "#d8576b"
             ],
             [
              0.6666666666666666,
              "#ed7953"
             ],
             [
              0.7777777777777778,
              "#fb9f3a"
             ],
             [
              0.8888888888888888,
              "#fdca26"
             ],
             [
              1,
              "#f0f921"
             ]
            ],
            "type": "contour"
           }
          ],
          "contourcarpet": [
           {
            "colorbar": {
             "outlinewidth": 0,
             "ticks": ""
            },
            "type": "contourcarpet"
           }
          ],
          "heatmap": [
           {
            "colorbar": {
             "outlinewidth": 0,
             "ticks": ""
            },
            "colorscale": [
             [
              0,
              "#0d0887"
             ],
             [
              0.1111111111111111,
              "#46039f"
             ],
             [
              0.2222222222222222,
              "#7201a8"
             ],
             [
              0.3333333333333333,
              "#9c179e"
             ],
             [
              0.4444444444444444,
              "#bd3786"
             ],
             [
              0.5555555555555556,
              "#d8576b"
             ],
             [
              0.6666666666666666,
              "#ed7953"
             ],
             [
              0.7777777777777778,
              "#fb9f3a"
             ],
             [
              0.8888888888888888,
              "#fdca26"
             ],
             [
              1,
              "#f0f921"
             ]
            ],
            "type": "heatmap"
           }
          ],
          "heatmapgl": [
           {
            "colorbar": {
             "outlinewidth": 0,
             "ticks": ""
            },
            "colorscale": [
             [
              0,
              "#0d0887"
             ],
             [
              0.1111111111111111,
              "#46039f"
             ],
             [
              0.2222222222222222,
              "#7201a8"
             ],
             [
              0.3333333333333333,
              "#9c179e"
             ],
             [
              0.4444444444444444,
              "#bd3786"
             ],
             [
              0.5555555555555556,
              "#d8576b"
             ],
             [
              0.6666666666666666,
              "#ed7953"
             ],
             [
              0.7777777777777778,
              "#fb9f3a"
             ],
             [
              0.8888888888888888,
              "#fdca26"
             ],
             [
              1,
              "#f0f921"
             ]
            ],
            "type": "heatmapgl"
           }
          ],
          "histogram": [
           {
            "marker": {
             "pattern": {
              "fillmode": "overlay",
              "size": 10,
              "solidity": 0.2
             }
            },
            "type": "histogram"
           }
          ],
          "histogram2d": [
           {
            "colorbar": {
             "outlinewidth": 0,
             "ticks": ""
            },
            "colorscale": [
             [
              0,
              "#0d0887"
             ],
             [
              0.1111111111111111,
              "#46039f"
             ],
             [
              0.2222222222222222,
              "#7201a8"
             ],
             [
              0.3333333333333333,
              "#9c179e"
             ],
             [
              0.4444444444444444,
              "#bd3786"
             ],
             [
              0.5555555555555556,
              "#d8576b"
             ],
             [
              0.6666666666666666,
              "#ed7953"
             ],
             [
              0.7777777777777778,
              "#fb9f3a"
             ],
             [
              0.8888888888888888,
              "#fdca26"
             ],
             [
              1,
              "#f0f921"
             ]
            ],
            "type": "histogram2d"
           }
          ],
          "histogram2dcontour": [
           {
            "colorbar": {
             "outlinewidth": 0,
             "ticks": ""
            },
            "colorscale": [
             [
              0,
              "#0d0887"
             ],
             [
              0.1111111111111111,
              "#46039f"
             ],
             [
              0.2222222222222222,
              "#7201a8"
             ],
             [
              0.3333333333333333,
              "#9c179e"
             ],
             [
              0.4444444444444444,
              "#bd3786"
             ],
             [
              0.5555555555555556,
              "#d8576b"
             ],
             [
              0.6666666666666666,
              "#ed7953"
             ],
             [
              0.7777777777777778,
              "#fb9f3a"
             ],
             [
              0.8888888888888888,
              "#fdca26"
             ],
             [
              1,
              "#f0f921"
             ]
            ],
            "type": "histogram2dcontour"
           }
          ],
          "mesh3d": [
           {
            "colorbar": {
             "outlinewidth": 0,
             "ticks": ""
            },
            "type": "mesh3d"
           }
          ],
          "parcoords": [
           {
            "line": {
             "colorbar": {
              "outlinewidth": 0,
              "ticks": ""
             }
            },
            "type": "parcoords"
           }
          ],
          "pie": [
           {
            "automargin": true,
            "type": "pie"
           }
          ],
          "scatter": [
           {
            "fillpattern": {
             "fillmode": "overlay",
             "size": 10,
             "solidity": 0.2
            },
            "type": "scatter"
           }
          ],
          "scatter3d": [
           {
            "line": {
             "colorbar": {
              "outlinewidth": 0,
              "ticks": ""
             }
            },
            "marker": {
             "colorbar": {
              "outlinewidth": 0,
              "ticks": ""
             }
            },
            "type": "scatter3d"
           }
          ],
          "scattercarpet": [
           {
            "marker": {
             "colorbar": {
              "outlinewidth": 0,
              "ticks": ""
             }
            },
            "type": "scattercarpet"
           }
          ],
          "scattergeo": [
           {
            "marker": {
             "colorbar": {
              "outlinewidth": 0,
              "ticks": ""
             }
            },
            "type": "scattergeo"
           }
          ],
          "scattergl": [
           {
            "marker": {
             "colorbar": {
              "outlinewidth": 0,
              "ticks": ""
             }
            },
            "type": "scattergl"
           }
          ],
          "scattermapbox": [
           {
            "marker": {
             "colorbar": {
              "outlinewidth": 0,
              "ticks": ""
             }
            },
            "type": "scattermapbox"
           }
          ],
          "scatterpolar": [
           {
            "marker": {
             "colorbar": {
              "outlinewidth": 0,
              "ticks": ""
             }
            },
            "type": "scatterpolar"
           }
          ],
          "scatterpolargl": [
           {
            "marker": {
             "colorbar": {
              "outlinewidth": 0,
              "ticks": ""
             }
            },
            "type": "scatterpolargl"
           }
          ],
          "scatterternary": [
           {
            "marker": {
             "colorbar": {
              "outlinewidth": 0,
              "ticks": ""
             }
            },
            "type": "scatterternary"
           }
          ],
          "surface": [
           {
            "colorbar": {
             "outlinewidth": 0,
             "ticks": ""
            },
            "colorscale": [
             [
              0,
              "#0d0887"
             ],
             [
              0.1111111111111111,
              "#46039f"
             ],
             [
              0.2222222222222222,
              "#7201a8"
             ],
             [
              0.3333333333333333,
              "#9c179e"
             ],
             [
              0.4444444444444444,
              "#bd3786"
             ],
             [
              0.5555555555555556,
              "#d8576b"
             ],
             [
              0.6666666666666666,
              "#ed7953"
             ],
             [
              0.7777777777777778,
              "#fb9f3a"
             ],
             [
              0.8888888888888888,
              "#fdca26"
             ],
             [
              1,
              "#f0f921"
             ]
            ],
            "type": "surface"
           }
          ],
          "table": [
           {
            "cells": {
             "fill": {
              "color": "#EBF0F8"
             },
             "line": {
              "color": "white"
             }
            },
            "header": {
             "fill": {
              "color": "#C8D4E3"
             },
             "line": {
              "color": "white"
             }
            },
            "type": "table"
           }
          ]
         },
         "layout": {
          "annotationdefaults": {
           "arrowcolor": "#2a3f5f",
           "arrowhead": 0,
           "arrowwidth": 1
          },
          "autotypenumbers": "strict",
          "coloraxis": {
           "colorbar": {
            "outlinewidth": 0,
            "ticks": ""
           }
          },
          "colorscale": {
           "diverging": [
            [
             0,
             "#8e0152"
            ],
            [
             0.1,
             "#c51b7d"
            ],
            [
             0.2,
             "#de77ae"
            ],
            [
             0.3,
             "#f1b6da"
            ],
            [
             0.4,
             "#fde0ef"
            ],
            [
             0.5,
             "#f7f7f7"
            ],
            [
             0.6,
             "#e6f5d0"
            ],
            [
             0.7,
             "#b8e186"
            ],
            [
             0.8,
             "#7fbc41"
            ],
            [
             0.9,
             "#4d9221"
            ],
            [
             1,
             "#276419"
            ]
           ],
           "sequential": [
            [
             0,
             "#0d0887"
            ],
            [
             0.1111111111111111,
             "#46039f"
            ],
            [
             0.2222222222222222,
             "#7201a8"
            ],
            [
             0.3333333333333333,
             "#9c179e"
            ],
            [
             0.4444444444444444,
             "#bd3786"
            ],
            [
             0.5555555555555556,
             "#d8576b"
            ],
            [
             0.6666666666666666,
             "#ed7953"
            ],
            [
             0.7777777777777778,
             "#fb9f3a"
            ],
            [
             0.8888888888888888,
             "#fdca26"
            ],
            [
             1,
             "#f0f921"
            ]
           ],
           "sequentialminus": [
            [
             0,
             "#0d0887"
            ],
            [
             0.1111111111111111,
             "#46039f"
            ],
            [
             0.2222222222222222,
             "#7201a8"
            ],
            [
             0.3333333333333333,
             "#9c179e"
            ],
            [
             0.4444444444444444,
             "#bd3786"
            ],
            [
             0.5555555555555556,
             "#d8576b"
            ],
            [
             0.6666666666666666,
             "#ed7953"
            ],
            [
             0.7777777777777778,
             "#fb9f3a"
            ],
            [
             0.8888888888888888,
             "#fdca26"
            ],
            [
             1,
             "#f0f921"
            ]
           ]
          },
          "colorway": [
           "#636efa",
           "#EF553B",
           "#00cc96",
           "#ab63fa",
           "#FFA15A",
           "#19d3f3",
           "#FF6692",
           "#B6E880",
           "#FF97FF",
           "#FECB52"
          ],
          "font": {
           "color": "#2a3f5f"
          },
          "geo": {
           "bgcolor": "white",
           "lakecolor": "white",
           "landcolor": "#E5ECF6",
           "showlakes": true,
           "showland": true,
           "subunitcolor": "white"
          },
          "hoverlabel": {
           "align": "left"
          },
          "hovermode": "closest",
          "mapbox": {
           "style": "light"
          },
          "paper_bgcolor": "white",
          "plot_bgcolor": "#E5ECF6",
          "polar": {
           "angularaxis": {
            "gridcolor": "white",
            "linecolor": "white",
            "ticks": ""
           },
           "bgcolor": "#E5ECF6",
           "radialaxis": {
            "gridcolor": "white",
            "linecolor": "white",
            "ticks": ""
           }
          },
          "scene": {
           "xaxis": {
            "backgroundcolor": "#E5ECF6",
            "gridcolor": "white",
            "gridwidth": 2,
            "linecolor": "white",
            "showbackground": true,
            "ticks": "",
            "zerolinecolor": "white"
           },
           "yaxis": {
            "backgroundcolor": "#E5ECF6",
            "gridcolor": "white",
            "gridwidth": 2,
            "linecolor": "white",
            "showbackground": true,
            "ticks": "",
            "zerolinecolor": "white"
           },
           "zaxis": {
            "backgroundcolor": "#E5ECF6",
            "gridcolor": "white",
            "gridwidth": 2,
            "linecolor": "white",
            "showbackground": true,
            "ticks": "",
            "zerolinecolor": "white"
           }
          },
          "shapedefaults": {
           "line": {
            "color": "#2a3f5f"
           }
          },
          "ternary": {
           "aaxis": {
            "gridcolor": "white",
            "linecolor": "white",
            "ticks": ""
           },
           "baxis": {
            "gridcolor": "white",
            "linecolor": "white",
            "ticks": ""
           },
           "bgcolor": "#E5ECF6",
           "caxis": {
            "gridcolor": "white",
            "linecolor": "white",
            "ticks": ""
           }
          },
          "title": {
           "x": 0.05
          },
          "xaxis": {
           "automargin": true,
           "gridcolor": "white",
           "linecolor": "white",
           "ticks": "",
           "title": {
            "standoff": 15
           },
           "zerolinecolor": "white",
           "zerolinewidth": 2
          },
          "yaxis": {
           "automargin": true,
           "gridcolor": "white",
           "linecolor": "white",
           "ticks": "",
           "title": {
            "standoff": 15
           },
           "zerolinecolor": "white",
           "zerolinewidth": 2
          }
         }
        },
        "title": {
         "text": "Todays Option Pos (PnL and Delta)",
         "x": 0.5,
         "xanchor": "center"
        },
        "xaxis": {
         "anchor": "y",
         "domain": [
          0,
          0.45
         ],
         "title": {
          "text": "Price"
         }
        },
        "xaxis2": {
         "anchor": "y2",
         "domain": [
          0.55,
          1
         ],
         "title": {
          "text": "Price"
         }
        },
        "yaxis": {
         "anchor": "x",
         "domain": [
          0,
          1
         ],
         "title": {
          "text": "Pnl"
         }
        },
        "yaxis2": {
         "anchor": "x2",
         "domain": [
          0,
          1
         ],
         "title": {
          "text": "Delta"
         }
        }
       }
      },
      "text/html": [
       "<div>                            <div id=\"b8a66e58-e5d6-474b-9df1-b8807778503a\" class=\"plotly-graph-div\" style=\"height:525px; width:100%;\"></div>            <script type=\"text/javascript\">                require([\"plotly\"], function(Plotly) {                    window.PLOTLYENV=window.PLOTLYENV || {};                                    if (document.getElementById(\"b8a66e58-e5d6-474b-9df1-b8807778503a\")) {                    Plotly.newPlot(                        \"b8a66e58-e5d6-474b-9df1-b8807778503a\",                        [{\"base\":0,\"name\":\"CCA V24 Dec24 36C\",\"x\":[20,21,22,23,24,25,26,27,28,29,30,31,32,33,34,35,36,37,38,39,40,41,42,43,44,45,46,47,48,49,50,51,52,53,54,55],\"y\":[-72942.440803236,-72942.3962365633,-72942.06481397906,-72940.12922687423,-72931.0038506864,-72895.4387317248,-72778.45548930211,-72447.75956147483,-71631.37784792062,-69846.14529712232,-66343.78616096587,-60108.2811568985,-49928.253705318835,-34542.203482132056,-12824.501249731436,16038.26404628814,52428.56840966032,96264.04488104604,147047.45874597185,203976.6324799089,266079.85416717536,332344.62208423874,401818.1539017451,473670.9317338203,547225.0966449956,621955.6978746714,697474.7608804966,773507.1584490794,849864.8770793298,926423.6579594437,1003103.8357380283,1079855.7331805404,1156649.1513963523,1233466.157264061,1310296.3289659137,1387133.7295175914],\"type\":\"bar\",\"xaxis\":\"x\",\"yaxis\":\"y\"},{\"base\":0,\"name\":\"CCA V24 Dec24 36C\",\"x\":[20,21,22,23,24,25,26,27,28,29,30,31,32,33,34,35,36,37,38,39,40,41,42,43,44,45,46,47,48,49,50,51,52,53,54,55],\"y\":[0.007874220601170923,0.06999340801981925,0.47636373869348597,2.56257949653479,11.196991844999495,40.682473929794725,125.44400133746576,334.17481792974866,781.2711533648384,1625.5080165108723,3047.540770438129,5206.678345269155,8189.392368081693,11969.455474961987,16396.932291610323,21221.562393260916,26142.08737609103,30864.150571049388,35148.97263468346,38841.49225214301,41875.617827210575,44261.448754549616,46062.706426313314,47372.34584189216,48291.873932952956,48916.92105519174,49329.21000675478,49593.66815849354,49758.95186170093,49859.78557215526,49919.93181025179,49955.06419653581,49975.18858855256,49986.50810196821,49992.76782282846,49996.17503142484],\"type\":\"bar\",\"xaxis\":\"x2\",\"yaxis\":\"y2\"},{\"base\":0,\"name\":\"CCA V24 Dec24 27P\",\"x\":[20,21,22,23,24,25,26,27,28,29,30,31,32,33,34,35,36,37,38,39,40,41,42,43,44,45,46,47,48,49,50,51,52,53,54,55],\"y\":[530548.7144432686,458177.26590481814,388976.05079185084,324100.9251037329,264644.5488241183,211481.16296209412,165152.4008489871,125817.35647637692,93268.83332635541,67000.62833881791,46302.431948953425,30359.276150932314,18338.398780049854,9454.262367591882,3009.5080749492804,-1585.5365547143663,-4809.7411853169215,-7038.866924819267,-8559.152187828153,-9583.06387494633,-10264.74958275858,-10713.802360505117,-11006.743554187946,-11196.145460198639,-11317.605752878084,-11394.915022018538,-11443.786432762401,-11474.488122121551,-11493.665647055132,-11505.58264181759,-11512.953014816017,-11517.491910402334,-11520.276264375456,-11521.978324436683,-11523.01550002096,-11523.645726290602],\"type\":\"bar\",\"xaxis\":\"x\",\"yaxis\":\"y\"},{\"base\":0,\"name\":\"CCA V24 Dec24 27P\",\"x\":[20,21,22,23,24,25,26,27,28,29,30,31,32,33,34,35,36,37,38,39,40,41,42,43,44,45,46,47,48,49,50,51,52,53,54,55],\"y\":[-47878.847185495986,-46178.641359741705,-43740.99483464966,-40553.9418568415,-36711.7699082823,-32400.032589895323,-27858.987324973594,-23338.91172249516,-19060.557561166435,-15189.194891860492,-11824.59030448272,-9004.461303438276,-6716.542919087498,-4914.188878284475,-3531.567317788353,-2496.113464543154,-1737.3517732663545,-1192.2123032651555,-807.5073008431299,-540.4052035227091,-357.6803847951282,-234.35048789413048,-152.12340893281385,-97.90916214215683,-62.52596433606872,-39.645751675504435,-24.97467910537732,-15.639324068023042,-9.740475168751317,-6.036686633559274,-3.724516565722924,-2.2886317409542833,-1.4011518347789576,-0.8549760793785666,-0.5201481239391903,-0.315601276762445],\"type\":\"bar\",\"xaxis\":\"x2\",\"yaxis\":\"y2\"},{\"base\":0,\"name\":\"CCA V24 Dec24 31P\",\"x\":[20,21,22,23,24,25,26,27,28,29,30,31,32,33,34,35,36,37,38,39,40,41,42,43,44,45,46,47,48,49,50,51,52,53,54,55],\"y\":[-803700.3344105412,-726982.3579142832,-650503.9794473007,-574569.0337471364,-499705.92536953324,-426709.9676248961,-356625.6186368309,-290653.344565528,-229994.6745660931,-175674.64000782173,-128390.05816876836,-88421.73831884633,-55625.651679275965,-29493.90528243093,-9260.21996678126,5980.047030676095,17160.42333036448,25159.69687998815,30749.30819804745,34569.280563331646,37126.029235819355,38804.250077115925,39885.94389960927,40571.413610979274,40998.983687617714,41261.792088519935,41421.13525418677,41516.52715814396,41572.96474071007,41605.99207925476,41625.124609872124,41636.10423671199,41642.35050172976,41645.875446173755,41647.84989520184,41648.94826025086],\"type\":\"bar\",\"xaxis\":\"x\",\"yaxis\":\"y\"},{\"base\":0,\"name\":\"CCA V24 Dec24 31P\",\"x\":[20,21,22,23,24,25,26,27,28,29,30,31,32,33,34,35,36,37,38,39,40,41,42,43,44,45,46,47,48,49,50,51,52,53,54,55],\"y\":[49956.406193349,49861.79201327229,49627.591073139396,49129.3109512131,48202.06390012342,46670.04713010901,44393.40482622777,41316.16701233492,37495.77930806415,33101.889324223,28385.051180966177,23627.401114853226,19091.925531833993,14984.156912752871,11433.088871203967,8490.806808155938,6145.514533733737,4341.051425989789,2996.9121899798947,2024.9138755807583,1340.877473365737,871.3584305681421,556.3901640415925,349.5092848954551,216.23581083780596,131.90163919689078,79.40760667461966,47.224959806019264,27.769026834306707,16.15795480786053,9.310700904235913,5.316920036718686,3.0109980443338014,1.6920177138002312,0.9440541148542092,0.5232666924037677],\"type\":\"bar\",\"xaxis\":\"x2\",\"yaxis\":\"y2\"},{\"base\":0,\"name\":\"CCA V24 Dec24 38P\",\"x\":[20,21,22,23,24,25,26,27,28,29,30,31,32,33,34,35,36,37,38,39,40,41,42,43,44,45,46,47,48,49,50,51,52,53,54,55],\"y\":[1084161.9541841394,1007316.310179366,930470.6767875535,853625.1268433025,776780.0896620539,699937.579281635,623105.2812097229,546307.5042912554,469609.0208350454,393157.2593385214,317242.2394033837,242361.78552329136,169266.9452513307,98957.99136951788,32611.533856233018,-28557.511859570517,-83469.42797915342,-131343.38078320195,-171808.27100700396,-204935.92902738324,-231196.68453188724,-251358.18859675914,-266358.5439707469,-277183.5381751793,-284768.7599408978,-289935.81106126274,-293361.91224466707,-295576.03943601856,-296972.448488749,-297833.0167721622,-298351.89046173973,-298658.3441298599,-298835.84388414735,-298936.7788327359,-298993.18868012674,-299024.2038336236],\"type\":\"bar\",\"xaxis\":\"x\",\"yaxis\":\"y\"},{\"base\":0,\"name\":\"CCA V24 Dec24 38P\",\"x\":[20,21,22,23,24,25,26,27,28,29,30,31,32,33,34,35,36,37,38,39,40,41,42,43,44,45,46,47,48,49,50,51,52,53,54,55],\"y\":[-49999.99985113001,-49999.9980487416,-49999.98105251318,-49999.85880406766,-49999.16782772508,-49996.01896588385,-49984.189547521266,-49946.839284593174,-49846.03126801594,-49609.96828995439,-49124.01653551035,-48234.32176592205,-46770.592189469004,-44586.57290326316,-41606.6170893405,-37860.903088367195,-33494.518160697895,-28745.763244924925,-23901.077702639257,-19241.825457451865,-14998.833277498125,-11325.166487451077,-8289.812240971107,-5888.367700219499,-4063.4802086271684,-2727.70065299775,-1783.4166198232026,-1137.1931974644644,-708.1156804951527,-431.135819281625,-256.9796807846414,-150.13204713489324,-86.0659890235871,-48.4667970822028,-26.83860193418708,-14.628633887459053],\"type\":\"bar\",\"xaxis\":\"x2\",\"yaxis\":\"y2\"},{\"base\":0,\"name\":\"CCA V24 Dec24 38C\",\"x\":[20,21,22,23,24,25,26,27,28,29,30,31,32,33,34,35,36,37,38,39,40,41,42,43,44,45,46,47,48,49,50,51,52,53,54,55],\"y\":[-30830.892474468357,-30830.891374721912,-30830.879662014682,-30830.784501745016,-30830.176578473904,-30827.0418543727,-30813.694821765213,-30765.826635712034,-30618.664987401986,-30224.781379406217,-29294.156210023568,-27328.96498559646,-23578.160153036635,-17041.46893032906,-6542.281339093996,9134.318049622392,31068.047034559622,60039.73933503084,96420.4942157492,140138.48129989012,190723.37089990618,247407.5119395543,309252.80167008686,375273.45257017406,444533.8759089761,516212.4698931305,589632.0138142469,664263.531727415,739712.7677792049,815697.8446003112,892024.6160152539,968563.8074516539,1045231.9528018866,1121976.6629578182,1198765.898214947,1275580.5281659705],\"type\":\"bar\",\"xaxis\":\"x\",\"yaxis\":\"y\"},{\"base\":0,\"name\":\"CCA V24 Dec24 38C\",\"x\":[20,21,22,23,24,25,26,27,28,29,30,31,32,33,34,35,36,37,38,39,40,41,42,43,44,45,46,47,48,49,50,51,52,53,54,55],\"y\":[0.00014886999502290328,0.0019512583956980275,0.018947486818389883,0.14119593234162794,0.8321722749175484,3.9810341161500107,15.810452478739835,53.160715406823584,153.96873198406234,390.0317100456087,875.9834644896483,1765.6782340779448,3229.407810530995,5413.427096736845,8393.382910659495,12139.096911632805,16505.48183930211,21254.23675507507,26098.922297360743,30758.174542548135,35001.166722501875,38674.833512548925,41710.18775902889,44111.632299780504,45936.51979137283,47272.29934700225,48216.583380176795,48862.80680253554,49291.88431950485,49568.864180718374,49743.02031921536,49849.867952865105,49913.934010976416,49951.533202917795,49973.161398065815,49985.371366112544],\"type\":\"bar\",\"xaxis\":\"x2\",\"yaxis\":\"y2\"},{\"mode\":\"lines\",\"name\":\"Total_PnL\",\"x\":[20,21,22,23,24,25,26,27,28,29,30,31,32,33,34,35,36,37,38,39,40,41,42,43,44,45,46,47,48,49,50,51,52,53,54,55],\"y\":[707237.0009391624,634737.9305586158,565169.80365611,499386.1044712799,437957.5326874786,380986.2940327355,328039.9131108117,278257.93000491743,230633.13675998506,184412.32099298906,139516.67081257934,96862.07721288237,58473.27849374912,27334.67604221772,6994.039375575608,1009.5807123017457,12377.869610114085,43081.233388043824,93849.83796493639,164165.4014408011,252467.82018825508,356484.3931436447,473591.61194650637,601136.1142795957,736671.5905478135,878099.2337730406,1023722.2112715008,1172236.6897764984,1322684.4954634407,1474388.89522503,1626888.7328865984,1779879.808828644,1933167.3345514457,2086629.9385108806,2240193.872895915,2393815.3563838988],\"type\":\"scatter\",\"xaxis\":\"x\",\"yaxis\":\"y\"},{\"mode\":\"lines\",\"name\":\"Total_Delta\",\"x\":[20,21,22,23,24,25,26,27,28,29,30,31,32,33,34,35,36,37,38,39,40,41,42,43,44,45,46,47,48,49,50,51,52,53,54,55],\"y\":[-47922.4328201864,-46316.77545054461,-44112.88950279794,-41421.78593426718,-38496.84467176405,-35681.34091762422,-33308.51759245088,-31582.248461416842,-30475.569635769323,-29681.734131035406,-28640.03142409912,-26639.025375160003,-22976.40939810982,-17133.722297095926,-8914.78033365507,1494.4495601393137,13561.213815162628,26521.463203924166,39536.22211854171,51842.35000929733,62861.14836078493,72248.12372232147,79887.34869947989,85847.21056420647,90318.62336220036,93553.77563671762,95816.80969467762,97350.86739930262,98360.74905237618,99007.6352017663,99411.55863302102,99657.82839056177,99804.66645671494,99890.41154943823,99939.514524951,99967.12542906558],\"type\":\"scatter\",\"xaxis\":\"x2\",\"yaxis\":\"y2\"}],                        {\"template\":{\"data\":{\"histogram2dcontour\":[{\"type\":\"histogram2dcontour\",\"colorbar\":{\"outlinewidth\":0,\"ticks\":\"\"},\"colorscale\":[[0.0,\"#0d0887\"],[0.1111111111111111,\"#46039f\"],[0.2222222222222222,\"#7201a8\"],[0.3333333333333333,\"#9c179e\"],[0.4444444444444444,\"#bd3786\"],[0.5555555555555556,\"#d8576b\"],[0.6666666666666666,\"#ed7953\"],[0.7777777777777778,\"#fb9f3a\"],[0.8888888888888888,\"#fdca26\"],[1.0,\"#f0f921\"]]}],\"choropleth\":[{\"type\":\"choropleth\",\"colorbar\":{\"outlinewidth\":0,\"ticks\":\"\"}}],\"histogram2d\":[{\"type\":\"histogram2d\",\"colorbar\":{\"outlinewidth\":0,\"ticks\":\"\"},\"colorscale\":[[0.0,\"#0d0887\"],[0.1111111111111111,\"#46039f\"],[0.2222222222222222,\"#7201a8\"],[0.3333333333333333,\"#9c179e\"],[0.4444444444444444,\"#bd3786\"],[0.5555555555555556,\"#d8576b\"],[0.6666666666666666,\"#ed7953\"],[0.7777777777777778,\"#fb9f3a\"],[0.8888888888888888,\"#fdca26\"],[1.0,\"#f0f921\"]]}],\"heatmap\":[{\"type\":\"heatmap\",\"colorbar\":{\"outlinewidth\":0,\"ticks\":\"\"},\"colorscale\":[[0.0,\"#0d0887\"],[0.1111111111111111,\"#46039f\"],[0.2222222222222222,\"#7201a8\"],[0.3333333333333333,\"#9c179e\"],[0.4444444444444444,\"#bd3786\"],[0.5555555555555556,\"#d8576b\"],[0.6666666666666666,\"#ed7953\"],[0.7777777777777778,\"#fb9f3a\"],[0.8888888888888888,\"#fdca26\"],[1.0,\"#f0f921\"]]}],\"heatmapgl\":[{\"type\":\"heatmapgl\",\"colorbar\":{\"outlinewidth\":0,\"ticks\":\"\"},\"colorscale\":[[0.0,\"#0d0887\"],[0.1111111111111111,\"#46039f\"],[0.2222222222222222,\"#7201a8\"],[0.3333333333333333,\"#9c179e\"],[0.4444444444444444,\"#bd3786\"],[0.5555555555555556,\"#d8576b\"],[0.6666666666666666,\"#ed7953\"],[0.7777777777777778,\"#fb9f3a\"],[0.8888888888888888,\"#fdca26\"],[1.0,\"#f0f921\"]]}],\"contourcarpet\":[{\"type\":\"contourcarpet\",\"colorbar\":{\"outlinewidth\":0,\"ticks\":\"\"}}],\"contour\":[{\"type\":\"contour\",\"colorbar\":{\"outlinewidth\":0,\"ticks\":\"\"},\"colorscale\":[[0.0,\"#0d0887\"],[0.1111111111111111,\"#46039f\"],[0.2222222222222222,\"#7201a8\"],[0.3333333333333333,\"#9c179e\"],[0.4444444444444444,\"#bd3786\"],[0.5555555555555556,\"#d8576b\"],[0.6666666666666666,\"#ed7953\"],[0.7777777777777778,\"#fb9f3a\"],[0.8888888888888888,\"#fdca26\"],[1.0,\"#f0f921\"]]}],\"surface\":[{\"type\":\"surface\",\"colorbar\":{\"outlinewidth\":0,\"ticks\":\"\"},\"colorscale\":[[0.0,\"#0d0887\"],[0.1111111111111111,\"#46039f\"],[0.2222222222222222,\"#7201a8\"],[0.3333333333333333,\"#9c179e\"],[0.4444444444444444,\"#bd3786\"],[0.5555555555555556,\"#d8576b\"],[0.6666666666666666,\"#ed7953\"],[0.7777777777777778,\"#fb9f3a\"],[0.8888888888888888,\"#fdca26\"],[1.0,\"#f0f921\"]]}],\"mesh3d\":[{\"type\":\"mesh3d\",\"colorbar\":{\"outlinewidth\":0,\"ticks\":\"\"}}],\"scatter\":[{\"fillpattern\":{\"fillmode\":\"overlay\",\"size\":10,\"solidity\":0.2},\"type\":\"scatter\"}],\"parcoords\":[{\"type\":\"parcoords\",\"line\":{\"colorbar\":{\"outlinewidth\":0,\"ticks\":\"\"}}}],\"scatterpolargl\":[{\"type\":\"scatterpolargl\",\"marker\":{\"colorbar\":{\"outlinewidth\":0,\"ticks\":\"\"}}}],\"bar\":[{\"error_x\":{\"color\":\"#2a3f5f\"},\"error_y\":{\"color\":\"#2a3f5f\"},\"marker\":{\"line\":{\"color\":\"#E5ECF6\",\"width\":0.5},\"pattern\":{\"fillmode\":\"overlay\",\"size\":10,\"solidity\":0.2}},\"type\":\"bar\"}],\"scattergeo\":[{\"type\":\"scattergeo\",\"marker\":{\"colorbar\":{\"outlinewidth\":0,\"ticks\":\"\"}}}],\"scatterpolar\":[{\"type\":\"scatterpolar\",\"marker\":{\"colorbar\":{\"outlinewidth\":0,\"ticks\":\"\"}}}],\"histogram\":[{\"marker\":{\"pattern\":{\"fillmode\":\"overlay\",\"size\":10,\"solidity\":0.2}},\"type\":\"histogram\"}],\"scattergl\":[{\"type\":\"scattergl\",\"marker\":{\"colorbar\":{\"outlinewidth\":0,\"ticks\":\"\"}}}],\"scatter3d\":[{\"type\":\"scatter3d\",\"line\":{\"colorbar\":{\"outlinewidth\":0,\"ticks\":\"\"}},\"marker\":{\"colorbar\":{\"outlinewidth\":0,\"ticks\":\"\"}}}],\"scattermapbox\":[{\"type\":\"scattermapbox\",\"marker\":{\"colorbar\":{\"outlinewidth\":0,\"ticks\":\"\"}}}],\"scatterternary\":[{\"type\":\"scatterternary\",\"marker\":{\"colorbar\":{\"outlinewidth\":0,\"ticks\":\"\"}}}],\"scattercarpet\":[{\"type\":\"scattercarpet\",\"marker\":{\"colorbar\":{\"outlinewidth\":0,\"ticks\":\"\"}}}],\"carpet\":[{\"aaxis\":{\"endlinecolor\":\"#2a3f5f\",\"gridcolor\":\"white\",\"linecolor\":\"white\",\"minorgridcolor\":\"white\",\"startlinecolor\":\"#2a3f5f\"},\"baxis\":{\"endlinecolor\":\"#2a3f5f\",\"gridcolor\":\"white\",\"linecolor\":\"white\",\"minorgridcolor\":\"white\",\"startlinecolor\":\"#2a3f5f\"},\"type\":\"carpet\"}],\"table\":[{\"cells\":{\"fill\":{\"color\":\"#EBF0F8\"},\"line\":{\"color\":\"white\"}},\"header\":{\"fill\":{\"color\":\"#C8D4E3\"},\"line\":{\"color\":\"white\"}},\"type\":\"table\"}],\"barpolar\":[{\"marker\":{\"line\":{\"color\":\"#E5ECF6\",\"width\":0.5},\"pattern\":{\"fillmode\":\"overlay\",\"size\":10,\"solidity\":0.2}},\"type\":\"barpolar\"}],\"pie\":[{\"automargin\":true,\"type\":\"pie\"}]},\"layout\":{\"autotypenumbers\":\"strict\",\"colorway\":[\"#636efa\",\"#EF553B\",\"#00cc96\",\"#ab63fa\",\"#FFA15A\",\"#19d3f3\",\"#FF6692\",\"#B6E880\",\"#FF97FF\",\"#FECB52\"],\"font\":{\"color\":\"#2a3f5f\"},\"hovermode\":\"closest\",\"hoverlabel\":{\"align\":\"left\"},\"paper_bgcolor\":\"white\",\"plot_bgcolor\":\"#E5ECF6\",\"polar\":{\"bgcolor\":\"#E5ECF6\",\"angularaxis\":{\"gridcolor\":\"white\",\"linecolor\":\"white\",\"ticks\":\"\"},\"radialaxis\":{\"gridcolor\":\"white\",\"linecolor\":\"white\",\"ticks\":\"\"}},\"ternary\":{\"bgcolor\":\"#E5ECF6\",\"aaxis\":{\"gridcolor\":\"white\",\"linecolor\":\"white\",\"ticks\":\"\"},\"baxis\":{\"gridcolor\":\"white\",\"linecolor\":\"white\",\"ticks\":\"\"},\"caxis\":{\"gridcolor\":\"white\",\"linecolor\":\"white\",\"ticks\":\"\"}},\"coloraxis\":{\"colorbar\":{\"outlinewidth\":0,\"ticks\":\"\"}},\"colorscale\":{\"sequential\":[[0.0,\"#0d0887\"],[0.1111111111111111,\"#46039f\"],[0.2222222222222222,\"#7201a8\"],[0.3333333333333333,\"#9c179e\"],[0.4444444444444444,\"#bd3786\"],[0.5555555555555556,\"#d8576b\"],[0.6666666666666666,\"#ed7953\"],[0.7777777777777778,\"#fb9f3a\"],[0.8888888888888888,\"#fdca26\"],[1.0,\"#f0f921\"]],\"sequentialminus\":[[0.0,\"#0d0887\"],[0.1111111111111111,\"#46039f\"],[0.2222222222222222,\"#7201a8\"],[0.3333333333333333,\"#9c179e\"],[0.4444444444444444,\"#bd3786\"],[0.5555555555555556,\"#d8576b\"],[0.6666666666666666,\"#ed7953\"],[0.7777777777777778,\"#fb9f3a\"],[0.8888888888888888,\"#fdca26\"],[1.0,\"#f0f921\"]],\"diverging\":[[0,\"#8e0152\"],[0.1,\"#c51b7d\"],[0.2,\"#de77ae\"],[0.3,\"#f1b6da\"],[0.4,\"#fde0ef\"],[0.5,\"#f7f7f7\"],[0.6,\"#e6f5d0\"],[0.7,\"#b8e186\"],[0.8,\"#7fbc41\"],[0.9,\"#4d9221\"],[1,\"#276419\"]]},\"xaxis\":{\"gridcolor\":\"white\",\"linecolor\":\"white\",\"ticks\":\"\",\"title\":{\"standoff\":15},\"zerolinecolor\":\"white\",\"automargin\":true,\"zerolinewidth\":2},\"yaxis\":{\"gridcolor\":\"white\",\"linecolor\":\"white\",\"ticks\":\"\",\"title\":{\"standoff\":15},\"zerolinecolor\":\"white\",\"automargin\":true,\"zerolinewidth\":2},\"scene\":{\"xaxis\":{\"backgroundcolor\":\"#E5ECF6\",\"gridcolor\":\"white\",\"linecolor\":\"white\",\"showbackground\":true,\"ticks\":\"\",\"zerolinecolor\":\"white\",\"gridwidth\":2},\"yaxis\":{\"backgroundcolor\":\"#E5ECF6\",\"gridcolor\":\"white\",\"linecolor\":\"white\",\"showbackground\":true,\"ticks\":\"\",\"zerolinecolor\":\"white\",\"gridwidth\":2},\"zaxis\":{\"backgroundcolor\":\"#E5ECF6\",\"gridcolor\":\"white\",\"linecolor\":\"white\",\"showbackground\":true,\"ticks\":\"\",\"zerolinecolor\":\"white\",\"gridwidth\":2}},\"shapedefaults\":{\"line\":{\"color\":\"#2a3f5f\"}},\"annotationdefaults\":{\"arrowcolor\":\"#2a3f5f\",\"arrowhead\":0,\"arrowwidth\":1},\"geo\":{\"bgcolor\":\"white\",\"landcolor\":\"#E5ECF6\",\"subunitcolor\":\"white\",\"showland\":true,\"showlakes\":true,\"lakecolor\":\"white\"},\"title\":{\"x\":0.05},\"mapbox\":{\"style\":\"light\"}}},\"xaxis\":{\"anchor\":\"y\",\"domain\":[0.0,0.45],\"title\":{\"text\":\"Price\"}},\"yaxis\":{\"anchor\":\"x\",\"domain\":[0.0,1.0],\"title\":{\"text\":\"Pnl\"}},\"xaxis2\":{\"anchor\":\"y2\",\"domain\":[0.55,1.0],\"title\":{\"text\":\"Price\"}},\"yaxis2\":{\"anchor\":\"x2\",\"domain\":[0.0,1.0],\"title\":{\"text\":\"Delta\"}},\"title\":{\"text\":\"Todays Option Pos (PnL and Delta)\",\"x\":0.5,\"xanchor\":\"center\"}},                        {\"responsive\": true}                    ).then(function(){\n",
       "                            \n",
       "var gd = document.getElementById('b8a66e58-e5d6-474b-9df1-b8807778503a');\n",
       "var x = new MutationObserver(function (mutations, observer) {{\n",
       "        var display = window.getComputedStyle(gd).display;\n",
       "        if (!display || display === 'none') {{\n",
       "            console.log([gd, 'removed!']);\n",
       "            Plotly.purge(gd);\n",
       "            observer.disconnect();\n",
       "        }}\n",
       "}});\n",
       "\n",
       "// Listen for the removal of the full notebook cells\n",
       "var notebookContainer = gd.closest('#notebook-container');\n",
       "if (notebookContainer) {{\n",
       "    x.observe(notebookContainer, {childList: true});\n",
       "}}\n",
       "\n",
       "// Listen for the clearing of the current output cell\n",
       "var outputEl = gd.closest('.output');\n",
       "if (outputEl) {{\n",
       "    x.observe(outputEl, {childList: true});\n",
       "}}\n",
       "\n",
       "                        })                };                });            </script>        </div>"
      ]
     },
     "metadata": {},
     "output_type": "display_data"
    }
   ],
   "source": [
    "fig_p = go.Figure()\n",
    "for i in list(p)[1:-1]:\n",
    "    fig_p.add_trace(go.Bar(x=p.Price, y=p[i], name=i, base=0))\n",
    "\n",
    "fig_p.add_trace(go.Scatter(x=p.Price, y=p.Option_Pnl, mode='lines', name='Total_PnL'))\n",
    "\n",
    "#fig_p.update_layout(title='Option PnL Today', xaxis_title='Price', yaxis_title='pnl', barmode='stack')\n",
    "#fig_p.show()\n",
    "\n",
    "#~~~~~~~~~~~~~~~~~~~~~~~~~~~~~~~~~~~~~~~~~~~~~~~~~~~~~~~~~~~~~~~~~~~~~~~~~~~~~~~~~\n",
    "fig_d = go.Figure()\n",
    "for i in list(d)[1:-1]:\n",
    "    fig_d.add_trace(go.Bar(x=d.Price, y=d[i], name=i, base=0))\n",
    "\n",
    "fig_d.add_trace(go.Scatter(x=d.Price, y=d.Option_Delta, mode='lines', name='Total_Delta'))\n",
    "\n",
    "#~~~~~~~~~~~~~~~~~~~~~~~~~~~~~~~~~~~~~~~~~~~~~~~~~~~~~~~~~~~~~~~~~~~~~~~~~~~~~~~~\n",
    "fig = make_subplots(rows=1, cols=2)\n",
    "for i in range(0,len(fig_p.data)):\n",
    "    fig.add_trace(fig_p.data[i], row=1, col=1)\n",
    "    fig.add_trace(fig_d.data[i], row=1, col=2)\n",
    "    \n",
    "#fig.update_layout(title={'text': 'Todays Option Pos (PnL and Delta)','x': 0.5,'xanchor': 'center'}, barmode='stack')\n",
    "fig.update_layout(title={'text': 'Todays Option Pos (PnL and Delta)','x': 0.5,'xanchor': 'center'})\n",
    "\n",
    "fig.update_xaxes(title_text=\"Price\", row=1, col=1)\n",
    "fig.update_yaxes(title_text=\"Pnl\", row=1, col=1)\n",
    "fig.update_xaxes(title_text=\"Price\", row=1, col=2)\n",
    "fig.update_yaxes(title_text=\"Delta\", row=1, col=2)    \n",
    "fig.show()  "
   ]
  },
  {
   "cell_type": "code",
   "execution_count": 32,
   "id": "175af9cd",
   "metadata": {},
   "outputs": [
    {
     "data": {
      "application/vnd.plotly.v1+json": {
       "config": {
        "plotlyServerURL": "https://plot.ly"
       },
       "data": [
        {
         "base": 0,
         "name": "CCA V24 Dec24 36C",
         "type": "bar",
         "x": [
          20,
          21,
          22,
          23,
          24,
          25,
          26,
          27,
          28,
          29,
          30,
          31,
          32,
          33,
          34,
          35,
          36,
          37,
          38,
          39,
          40,
          41,
          42,
          43,
          44,
          45,
          46,
          47,
          48,
          49,
          50,
          51,
          52,
          53,
          54,
          55
         ],
         "xaxis": "x",
         "y": [
          -0.0015396819224612005,
          -0.01325597232848626,
          -0.08697897702534278,
          -0.44893434283083955,
          -1.872568552636251,
          -6.460113207125663,
          -18.80526469023549,
          -47.00057757458539,
          -102.40058013296886,
          -197.0892375327063,
          -339.0703305692235,
          -526.879719571947,
          -746.3935887920869,
          -972.0461368520874,
          -1172.607018754953,
          -1319.376665650242,
          -1393.5510260380508,
          -1390.1173306917572,
          -1317.3966788632924,
          -1193.1530233133108,
          -1039.191911317013,
          -876.362769050984,
          -721.1789435617873,
          -584.3904134967897,
          -471.1757823861766,
          -382.31316282645986,
          -315.69554926426156,
          -267.7371588935217,
          -234.4391641783212,
          -212.06276192790537,
          -197.46517299100123,
          -188.1966874201905,
          -182.4561932206696,
          -178.98111318157677,
          -176.92131767190244,
          -175.723976695934
         ],
         "yaxis": "y"
        },
        {
         "base": 0,
         "name": "CCA V24 Dec24 36C",
         "type": "bar",
         "x": [
          20,
          21,
          22,
          23,
          24,
          25,
          26,
          27,
          28,
          29,
          30,
          31,
          32,
          33,
          34,
          35,
          36,
          37,
          38,
          39,
          40,
          41,
          42,
          43,
          44,
          45,
          46,
          47,
          48,
          49,
          50,
          51,
          52,
          53,
          54,
          55
         ],
         "xaxis": "x2",
         "y": [
          0.002423962732986259,
          0.02085241186824411,
          0.13670004907674985,
          0.7048545454148492,
          2.9367053521688593,
          10.118153783546093,
          29.410175239522946,
          73.3802379253846,
          159.55634042536028,
          306.3788373511503,
          525.6294754936104,
          814.0558711267912,
          1148.560112102334,
          1488.3784455347977,
          1784.3915915800076,
          1992.1047984499573,
          2083.1479802156923,
          2051.175228100602,
          1910.8527605766135,
          1691.472609338405,
          1428.2828380811634,
          1154.5675103002561,
          896.3707083541252,
          670.3539647579547,
          484.22183951755284,
          338.67676462079027,
          229.8878601209734,
          151.755820680294,
          97.61362824769184,
          61.289103617918926,
          37.62501234901554,
          22.61776923733597,
          13.332541142125631,
          7.716705190430045,
          4.390680018896855,
          2.458671227981988
         ],
         "yaxis": "y2"
        },
        {
         "base": 0,
         "name": "CCA V24 Dec24 27P",
         "type": "bar",
         "x": [
          20,
          21,
          22,
          23,
          24,
          25,
          26,
          27,
          28,
          29,
          30,
          31,
          32,
          33,
          34,
          35,
          36,
          37,
          38,
          39,
          40,
          41,
          42,
          43,
          44,
          45,
          46,
          47,
          48,
          49,
          50,
          51,
          52,
          53,
          54,
          55
         ],
         "xaxis": "x",
         "y": [
          -114.6393556605847,
          -279.3703372743792,
          -487.162254417954,
          -719.3356374299035,
          -948.8644045688924,
          -1146.9618809658398,
          -1289.9581762997134,
          -1364.0994075587669,
          -1367.1206178157172,
          -1306.8134522671025,
          -1197.7039521298911,
          -1057.1845885284836,
          -902.1648196667044,
          -746.8065723894557,
          -601.442885765568,
          -472.46927620721544,
          -362.8682347377581,
          -273.0335477390654,
          -201.6401289482227,
          -146.4039492607837,
          -104.66303304996508,
          -73.77101417558183,
          -51.32890445827256,
          -35.29432342514514,
          -24.00786361924,
          -16.16993063648859,
          -10.792799679021927,
          -7.144394714061739,
          -4.693621260788399,
          -3.06226293877675,
          -1.9853011848691575,
          -1.2796663221730147,
          -0.8204868602918297,
          -0.5235427376307269,
          -0.3326011966528115,
          -0.2104544059489405
         ],
         "yaxis": "y"
        },
        {
         "base": 0,
         "name": "CCA V24 Dec24 27P",
         "type": "bar",
         "x": [
          20,
          21,
          22,
          23,
          24,
          25,
          26,
          27,
          28,
          29,
          30,
          31,
          32,
          33,
          34,
          35,
          36,
          37,
          38,
          39,
          40,
          41,
          42,
          43,
          44,
          45,
          46,
          47,
          48,
          49,
          50,
          51,
          52,
          53,
          54,
          55
         ],
         "xaxis": "x2",
         "y": [
          262.6233852823605,
          438.12916114349554,
          658.6245307899094,
          903.608788441415,
          1143.7615270929587,
          1348.1122303412094,
          1491.461075947133,
          1559.4975163353556,
          1550.4009996716145,
          1473.1928355585485,
          1344.068217073934,
          1182.172566801659,
          1005.9722209606388,
          830.8236099992458,
          667.8361415923692,
          523.7911541034073,
          401.742524272181,
          301.9345758855746,
          222.76108669907978,
          161.5979471797943,
          115.4363547842632,
          81.30912440293729,
          56.53947344536829,
          38.85599364476863,
          26.417596418234492,
          17.785029341462888,
          11.866005467290638,
          7.851904445430098,
          5.1566781249876295,
          3.363323046254283,
          2.1798519617878864,
          1.4046918467941332,
          0.9004257768338748,
          0.5744176714817073,
          0.36484254977704667,
          0.23080846591900897
         ],
         "yaxis": "y2"
        },
        {
         "base": 0,
         "name": "CCA V24 Dec24 31P",
         "type": "bar",
         "x": [
          20,
          21,
          22,
          23,
          24,
          25,
          26,
          27,
          28,
          29,
          30,
          31,
          32,
          33,
          34,
          35,
          36,
          37,
          38,
          39,
          40,
          41,
          42,
          43,
          44,
          45,
          46,
          47,
          48,
          49,
          50,
          51,
          52,
          53,
          54,
          55
         ],
         "xaxis": "x",
         "y": [
          -143.38379196797015,
          -130.07970798983038,
          -99.37287928635996,
          -39.14538925231691,
          62.77528088755708,
          213.34486713995992,
          409.1147997820055,
          633.9633526755459,
          861.4215733301336,
          1060.9975365417504,
          1205.9847260614486,
          1279.7653193307838,
          1278.6208251156588,
          1210.737874806802,
          1092.5013835535988,
          943.7714706981214,
          783.6561112159164,
          627.6634519250007,
          486.4367157955389,
          365.7922655542628,
          267.5704594219568,
          190.81710759288762,
          132.94097109531273,
          90.6500068459773,
          60.600611334923535,
          39.779083382976815,
          25.675104478506032,
          16.315826286071694,
          10.220188920913559,
          6.317333593963687,
          3.857165246734718,
          2.3284277619435234,
          1.3908718277406158,
          0.8227786077054654,
          0.48235482626786585,
          0.28043419706379286
         ],
         "yaxis": "y"
        },
        {
         "base": 0,
         "name": "CCA V24 Dec24 31P",
         "type": "bar",
         "x": [
          20,
          21,
          22,
          23,
          24,
          25,
          26,
          27,
          28,
          29,
          30,
          31,
          32,
          33,
          34,
          35,
          36,
          37,
          38,
          39,
          40,
          41,
          42,
          43,
          44,
          45,
          46,
          47,
          48,
          49,
          50,
          51,
          52,
          53,
          54,
          55
         ],
         "xaxis": "x2",
         "y": [
          -8.625901522015491,
          -25.927355700128267,
          -65.78932507689137,
          -143.80338319475837,
          -275.4644456691023,
          -469.28884885303586,
          -720.1183379210864,
          -1006.30756464247,
          -1292.938566777714,
          -1540.2165533899665,
          -1713.7094828923632,
          -1792.512181694252,
          -1772.7661686592357,
          -1666.1796162966962,
          -1495.0267269474825,
          -1285.8767507868658,
          -1064.0373542552668,
          -849.8564606090011,
          -657.1265714183384,
          -493.20442064387254,
          -360.18831362239854,
          -256.51344114807085,
          -178.49877488210535,
          -121.58911156593477,
          -81.20996652946009,
          -53.264559189283595,
          -34.35464235740281,
          -21.817473055569426,
          -13.658537835574455,
          -8.43825911325481,
          -5.1496971228653265,
          -3.107338537208589,
          -1.8554147394777083,
          -1.0971823591324854,
          -0.6430083758762698,
          -0.37371973266020797
         ],
         "yaxis": "y2"
        },
        {
         "base": 0,
         "name": "CCA V24 Dec24 38P",
         "type": "bar",
         "x": [
          20,
          21,
          22,
          23,
          24,
          25,
          26,
          27,
          28,
          29,
          30,
          31,
          32,
          33,
          34,
          35,
          36,
          37,
          38,
          39,
          40,
          41,
          42,
          43,
          44,
          45,
          46,
          47,
          48,
          49,
          50,
          51,
          52,
          53,
          54,
          55
         ],
         "xaxis": "x",
         "y": [
          183.87596654045646,
          183.87559478702983,
          183.87219730394324,
          183.8486262188993,
          183.72077198690698,
          183.1647270088719,
          181.1833836774268,
          175.29035041452155,
          160.4250506777435,
          128.18715198117368,
          67.39139137366772,
          -33.237249833867466,
          -180.45340774804336,
          -371.63533030169737,
          -592.1575659801427,
          -816.8469715807034,
          -1015.5261737274452,
          -1160.6647700183564,
          -1234.2193113287042,
          -1231.2870977766215,
          -1159.7460498741905,
          -1036.6711502998312,
          -883.2579914875691,
          -720.027164028446,
          -563.4841102561558,
          -424.6104856653873,
          -308.9261460399442,
          -217.5429115837399,
          -148.60726490584477,
          -98.6817776048935,
          -63.82053152536995,
          -40.26897323238522,
          -24.829589310572686,
          -14.983288722384268,
          -8.861061049008152,
          -5.142383555716624
         ],
         "yaxis": "y"
        },
        {
         "base": 0,
         "name": "CCA V24 Dec24 38P",
         "type": "bar",
         "x": [
          20,
          21,
          22,
          23,
          24,
          25,
          26,
          27,
          28,
          29,
          30,
          31,
          32,
          33,
          34,
          35,
          36,
          37,
          38,
          39,
          40,
          41,
          42,
          43,
          44,
          45,
          46,
          47,
          48,
          49,
          50,
          51,
          52,
          53,
          54,
          55
         ],
         "xaxis": "x2",
         "y": [
          5.1744035646288375e-05,
          0.0006604108487265864,
          0.006218661693053325,
          0.04474651091578909,
          0.25351945007820853,
          1.1604445520492193,
          4.3878063430051455,
          13.972050816627227,
          38.104528800123816,
          90.32552971392954,
          188.54303335891228,
          350.56714349346043,
          586.5779951533075,
          891.2973030383537,
          1239.9095362833782,
          1590.708523480696,
          1894.381565719844,
          2106.6058717730407,
          2199.1462963911795,
          2165.5992753054493,
          2020.5070143212358,
          1793.22417940189,
          1519.4333763685513,
          1233.2354596781195,
          961.7225366024177,
          722.6125133032402,
          524.4773787005045,
          368.5855449927901,
          251.35311611775109,
          166.66177219147227,
          107.64618972452101,
          67.84492653564806,
          41.790976987123585,
          25.196172990960985,
          14.889099396441424,
          8.6345006660664
         ],
         "yaxis": "y2"
        },
        {
         "base": 0,
         "name": "CCA V24 Dec24 38C",
         "type": "bar",
         "x": [
          20,
          21,
          22,
          23,
          24,
          25,
          26,
          27,
          28,
          29,
          30,
          31,
          32,
          33,
          34,
          35,
          36,
          37,
          38,
          39,
          40,
          41,
          42,
          43,
          44,
          45,
          46,
          47,
          48,
          49,
          50,
          51,
          52,
          53,
          54,
          55
         ],
         "xaxis": "x",
         "y": [
          -3.1579909783202195e-05,
          -0.0004033333364240881,
          -0.003800816423005379,
          -0.02737190146690755,
          -0.15522613345923317,
          -0.7112711114943361,
          -2.6926144429394454,
          -8.58564770584472,
          -23.4509474426227,
          -55.68884613919255,
          -116.48460674669856,
          -217.11324795423374,
          -364.3294058684096,
          -555.5113284220637,
          -776.0335641005089,
          -1000.7229697010697,
          -1199.4021718478114,
          -1344.5407681387226,
          -1418.0953094490706,
          -1415.163095896988,
          -1343.6220479945569,
          -1220.5471484201973,
          -1067.1339896079353,
          -903.9031621488124,
          -747.3601083765221,
          -608.4864837857535,
          -492.80214416031043,
          -401.41890970410617,
          -332.48326302621103,
          -282.5577757252597,
          -247.69652964573623,
          -224.14497135275147,
          -208.70558743093892,
          -198.85928684275052,
          -192.7370591693744,
          -189.01838167608287
         ],
         "yaxis": "y"
        },
        {
         "base": 0,
         "name": "CCA V24 Dec24 38C",
         "type": "bar",
         "x": [
          20,
          21,
          22,
          23,
          24,
          25,
          26,
          27,
          28,
          29,
          30,
          31,
          32,
          33,
          34,
          35,
          36,
          37,
          38,
          39,
          40,
          41,
          42,
          43,
          44,
          45,
          46,
          47,
          48,
          49,
          50,
          51,
          52,
          53,
          54,
          55
         ],
         "xaxis": "x2",
         "y": [
          5.1744035646288375e-05,
          0.0006604108487265864,
          0.006218661693053325,
          0.04474651091578909,
          0.25351945007820853,
          1.1604445520492193,
          4.3878063430051455,
          13.972050816627227,
          38.104528800123816,
          90.32552971392954,
          188.54303335891228,
          350.56714349346043,
          586.5779951533075,
          891.2973030383537,
          1239.9095362833782,
          1590.708523480696,
          1894.381565719844,
          2106.6058717730407,
          2199.1462963911795,
          2165.5992753054493,
          2020.5070143212358,
          1793.22417940189,
          1519.4333763685513,
          1233.2354596781195,
          961.7225366024177,
          722.6125133032402,
          524.4773787005045,
          368.5855449927901,
          251.35311611775109,
          166.66177219147227,
          107.64618972452101,
          67.84492653564806,
          41.790976987123585,
          25.196172990960985,
          14.889099396441424,
          8.6345006660664
         ],
         "yaxis": "y2"
        },
        {
         "mode": "lines",
         "name": "Total_Theta",
         "type": "scatter",
         "x": [
          20,
          21,
          22,
          23,
          24,
          25,
          26,
          27,
          28,
          29,
          30,
          31,
          32,
          33,
          34,
          35,
          36,
          37,
          38,
          39,
          40,
          41,
          42,
          43,
          44,
          45,
          46,
          47,
          48,
          49,
          50,
          51,
          52,
          53,
          54,
          55
         ],
         "xaxis": "x",
         "y": [
          -74.14875234993063,
          -225.5881097828447,
          -402.75371619381906,
          -575.1087067076189,
          -704.3961463805239,
          -757.623671135628,
          -721.1578719734558,
          -610.4319297491295,
          -471.1255213834316,
          -370.40684741607726,
          -379.88277201069684,
          -554.6494865577479,
          -914.7203969595854,
          -1435.2614931585022,
          -2049.739651047574,
          -2665.644412441109,
          -3187.691495135149,
          -3540.6929646629005,
          -3684.9147127937513,
          -3620.2149006934415,
          -3379.6525828137687,
          -3016.5349743537067,
          -2589.9588580202517,
          -2152.965056253216,
          -1745.4272533031708,
          -1391.8009795311125,
          -1102.541534665032,
          -877.5275486093578,
          -710.0031244502518,
          -590.0472446028716,
          -507.1103701002418,
          -451.56187056555666,
          -415.4209849947324,
          -392.5244528766368,
          -378.36968426066994,
          -369.8147621366187
         ],
         "yaxis": "y"
        },
        {
         "mode": "lines",
         "name": "Total_Vega",
         "type": "scatter",
         "x": [
          20,
          21,
          22,
          23,
          24,
          25,
          26,
          27,
          28,
          29,
          30,
          31,
          32,
          33,
          34,
          35,
          36,
          37,
          38,
          39,
          40,
          41,
          42,
          43,
          44,
          45,
          46,
          47,
          48,
          49,
          50,
          51,
          52,
          53,
          54,
          55
         ],
         "xaxis": "x2",
         "y": [
          254.0000112111493,
          412.22397867693303,
          592.9843430854809,
          760.5997528139031,
          871.7408256761817,
          891.262424375818,
          809.5285259515798,
          654.5142912515246,
          493.2278309195085,
          420.0061789475915,
          533.0742763930058,
          904.8505432211191,
          1554.9221547103518,
          2435.617045314055,
          3437.0200787916506,
          4411.43624872789,
          5209.6162816722945,
          5716.465086923257,
          5874.779868639715,
          5691.064686485226,
          5224.5449078855,
          4565.811552358902,
          3813.2781596544905,
          3054.0917661930275,
          2352.8745426111627,
          1748.42226137945,
          1256.3539806318702,
          874.9613420557349,
          591.8180007726072,
          389.53771193386297,
          249.94754663698012,
          156.60497561821762,
          95.95950615372897,
          57.58628648470123,
          33.89071298568048,
          19.58476129337359
         ],
         "yaxis": "y2"
        }
       ],
       "layout": {
        "template": {
         "data": {
          "bar": [
           {
            "error_x": {
             "color": "#2a3f5f"
            },
            "error_y": {
             "color": "#2a3f5f"
            },
            "marker": {
             "line": {
              "color": "#E5ECF6",
              "width": 0.5
             },
             "pattern": {
              "fillmode": "overlay",
              "size": 10,
              "solidity": 0.2
             }
            },
            "type": "bar"
           }
          ],
          "barpolar": [
           {
            "marker": {
             "line": {
              "color": "#E5ECF6",
              "width": 0.5
             },
             "pattern": {
              "fillmode": "overlay",
              "size": 10,
              "solidity": 0.2
             }
            },
            "type": "barpolar"
           }
          ],
          "carpet": [
           {
            "aaxis": {
             "endlinecolor": "#2a3f5f",
             "gridcolor": "white",
             "linecolor": "white",
             "minorgridcolor": "white",
             "startlinecolor": "#2a3f5f"
            },
            "baxis": {
             "endlinecolor": "#2a3f5f",
             "gridcolor": "white",
             "linecolor": "white",
             "minorgridcolor": "white",
             "startlinecolor": "#2a3f5f"
            },
            "type": "carpet"
           }
          ],
          "choropleth": [
           {
            "colorbar": {
             "outlinewidth": 0,
             "ticks": ""
            },
            "type": "choropleth"
           }
          ],
          "contour": [
           {
            "colorbar": {
             "outlinewidth": 0,
             "ticks": ""
            },
            "colorscale": [
             [
              0,
              "#0d0887"
             ],
             [
              0.1111111111111111,
              "#46039f"
             ],
             [
              0.2222222222222222,
              "#7201a8"
             ],
             [
              0.3333333333333333,
              "#9c179e"
             ],
             [
              0.4444444444444444,
              "#bd3786"
             ],
             [
              0.5555555555555556,
              "#d8576b"
             ],
             [
              0.6666666666666666,
              "#ed7953"
             ],
             [
              0.7777777777777778,
              "#fb9f3a"
             ],
             [
              0.8888888888888888,
              "#fdca26"
             ],
             [
              1,
              "#f0f921"
             ]
            ],
            "type": "contour"
           }
          ],
          "contourcarpet": [
           {
            "colorbar": {
             "outlinewidth": 0,
             "ticks": ""
            },
            "type": "contourcarpet"
           }
          ],
          "heatmap": [
           {
            "colorbar": {
             "outlinewidth": 0,
             "ticks": ""
            },
            "colorscale": [
             [
              0,
              "#0d0887"
             ],
             [
              0.1111111111111111,
              "#46039f"
             ],
             [
              0.2222222222222222,
              "#7201a8"
             ],
             [
              0.3333333333333333,
              "#9c179e"
             ],
             [
              0.4444444444444444,
              "#bd3786"
             ],
             [
              0.5555555555555556,
              "#d8576b"
             ],
             [
              0.6666666666666666,
              "#ed7953"
             ],
             [
              0.7777777777777778,
              "#fb9f3a"
             ],
             [
              0.8888888888888888,
              "#fdca26"
             ],
             [
              1,
              "#f0f921"
             ]
            ],
            "type": "heatmap"
           }
          ],
          "heatmapgl": [
           {
            "colorbar": {
             "outlinewidth": 0,
             "ticks": ""
            },
            "colorscale": [
             [
              0,
              "#0d0887"
             ],
             [
              0.1111111111111111,
              "#46039f"
             ],
             [
              0.2222222222222222,
              "#7201a8"
             ],
             [
              0.3333333333333333,
              "#9c179e"
             ],
             [
              0.4444444444444444,
              "#bd3786"
             ],
             [
              0.5555555555555556,
              "#d8576b"
             ],
             [
              0.6666666666666666,
              "#ed7953"
             ],
             [
              0.7777777777777778,
              "#fb9f3a"
             ],
             [
              0.8888888888888888,
              "#fdca26"
             ],
             [
              1,
              "#f0f921"
             ]
            ],
            "type": "heatmapgl"
           }
          ],
          "histogram": [
           {
            "marker": {
             "pattern": {
              "fillmode": "overlay",
              "size": 10,
              "solidity": 0.2
             }
            },
            "type": "histogram"
           }
          ],
          "histogram2d": [
           {
            "colorbar": {
             "outlinewidth": 0,
             "ticks": ""
            },
            "colorscale": [
             [
              0,
              "#0d0887"
             ],
             [
              0.1111111111111111,
              "#46039f"
             ],
             [
              0.2222222222222222,
              "#7201a8"
             ],
             [
              0.3333333333333333,
              "#9c179e"
             ],
             [
              0.4444444444444444,
              "#bd3786"
             ],
             [
              0.5555555555555556,
              "#d8576b"
             ],
             [
              0.6666666666666666,
              "#ed7953"
             ],
             [
              0.7777777777777778,
              "#fb9f3a"
             ],
             [
              0.8888888888888888,
              "#fdca26"
             ],
             [
              1,
              "#f0f921"
             ]
            ],
            "type": "histogram2d"
           }
          ],
          "histogram2dcontour": [
           {
            "colorbar": {
             "outlinewidth": 0,
             "ticks": ""
            },
            "colorscale": [
             [
              0,
              "#0d0887"
             ],
             [
              0.1111111111111111,
              "#46039f"
             ],
             [
              0.2222222222222222,
              "#7201a8"
             ],
             [
              0.3333333333333333,
              "#9c179e"
             ],
             [
              0.4444444444444444,
              "#bd3786"
             ],
             [
              0.5555555555555556,
              "#d8576b"
             ],
             [
              0.6666666666666666,
              "#ed7953"
             ],
             [
              0.7777777777777778,
              "#fb9f3a"
             ],
             [
              0.8888888888888888,
              "#fdca26"
             ],
             [
              1,
              "#f0f921"
             ]
            ],
            "type": "histogram2dcontour"
           }
          ],
          "mesh3d": [
           {
            "colorbar": {
             "outlinewidth": 0,
             "ticks": ""
            },
            "type": "mesh3d"
           }
          ],
          "parcoords": [
           {
            "line": {
             "colorbar": {
              "outlinewidth": 0,
              "ticks": ""
             }
            },
            "type": "parcoords"
           }
          ],
          "pie": [
           {
            "automargin": true,
            "type": "pie"
           }
          ],
          "scatter": [
           {
            "fillpattern": {
             "fillmode": "overlay",
             "size": 10,
             "solidity": 0.2
            },
            "type": "scatter"
           }
          ],
          "scatter3d": [
           {
            "line": {
             "colorbar": {
              "outlinewidth": 0,
              "ticks": ""
             }
            },
            "marker": {
             "colorbar": {
              "outlinewidth": 0,
              "ticks": ""
             }
            },
            "type": "scatter3d"
           }
          ],
          "scattercarpet": [
           {
            "marker": {
             "colorbar": {
              "outlinewidth": 0,
              "ticks": ""
             }
            },
            "type": "scattercarpet"
           }
          ],
          "scattergeo": [
           {
            "marker": {
             "colorbar": {
              "outlinewidth": 0,
              "ticks": ""
             }
            },
            "type": "scattergeo"
           }
          ],
          "scattergl": [
           {
            "marker": {
             "colorbar": {
              "outlinewidth": 0,
              "ticks": ""
             }
            },
            "type": "scattergl"
           }
          ],
          "scattermapbox": [
           {
            "marker": {
             "colorbar": {
              "outlinewidth": 0,
              "ticks": ""
             }
            },
            "type": "scattermapbox"
           }
          ],
          "scatterpolar": [
           {
            "marker": {
             "colorbar": {
              "outlinewidth": 0,
              "ticks": ""
             }
            },
            "type": "scatterpolar"
           }
          ],
          "scatterpolargl": [
           {
            "marker": {
             "colorbar": {
              "outlinewidth": 0,
              "ticks": ""
             }
            },
            "type": "scatterpolargl"
           }
          ],
          "scatterternary": [
           {
            "marker": {
             "colorbar": {
              "outlinewidth": 0,
              "ticks": ""
             }
            },
            "type": "scatterternary"
           }
          ],
          "surface": [
           {
            "colorbar": {
             "outlinewidth": 0,
             "ticks": ""
            },
            "colorscale": [
             [
              0,
              "#0d0887"
             ],
             [
              0.1111111111111111,
              "#46039f"
             ],
             [
              0.2222222222222222,
              "#7201a8"
             ],
             [
              0.3333333333333333,
              "#9c179e"
             ],
             [
              0.4444444444444444,
              "#bd3786"
             ],
             [
              0.5555555555555556,
              "#d8576b"
             ],
             [
              0.6666666666666666,
              "#ed7953"
             ],
             [
              0.7777777777777778,
              "#fb9f3a"
             ],
             [
              0.8888888888888888,
              "#fdca26"
             ],
             [
              1,
              "#f0f921"
             ]
            ],
            "type": "surface"
           }
          ],
          "table": [
           {
            "cells": {
             "fill": {
              "color": "#EBF0F8"
             },
             "line": {
              "color": "white"
             }
            },
            "header": {
             "fill": {
              "color": "#C8D4E3"
             },
             "line": {
              "color": "white"
             }
            },
            "type": "table"
           }
          ]
         },
         "layout": {
          "annotationdefaults": {
           "arrowcolor": "#2a3f5f",
           "arrowhead": 0,
           "arrowwidth": 1
          },
          "autotypenumbers": "strict",
          "coloraxis": {
           "colorbar": {
            "outlinewidth": 0,
            "ticks": ""
           }
          },
          "colorscale": {
           "diverging": [
            [
             0,
             "#8e0152"
            ],
            [
             0.1,
             "#c51b7d"
            ],
            [
             0.2,
             "#de77ae"
            ],
            [
             0.3,
             "#f1b6da"
            ],
            [
             0.4,
             "#fde0ef"
            ],
            [
             0.5,
             "#f7f7f7"
            ],
            [
             0.6,
             "#e6f5d0"
            ],
            [
             0.7,
             "#b8e186"
            ],
            [
             0.8,
             "#7fbc41"
            ],
            [
             0.9,
             "#4d9221"
            ],
            [
             1,
             "#276419"
            ]
           ],
           "sequential": [
            [
             0,
             "#0d0887"
            ],
            [
             0.1111111111111111,
             "#46039f"
            ],
            [
             0.2222222222222222,
             "#7201a8"
            ],
            [
             0.3333333333333333,
             "#9c179e"
            ],
            [
             0.4444444444444444,
             "#bd3786"
            ],
            [
             0.5555555555555556,
             "#d8576b"
            ],
            [
             0.6666666666666666,
             "#ed7953"
            ],
            [
             0.7777777777777778,
             "#fb9f3a"
            ],
            [
             0.8888888888888888,
             "#fdca26"
            ],
            [
             1,
             "#f0f921"
            ]
           ],
           "sequentialminus": [
            [
             0,
             "#0d0887"
            ],
            [
             0.1111111111111111,
             "#46039f"
            ],
            [
             0.2222222222222222,
             "#7201a8"
            ],
            [
             0.3333333333333333,
             "#9c179e"
            ],
            [
             0.4444444444444444,
             "#bd3786"
            ],
            [
             0.5555555555555556,
             "#d8576b"
            ],
            [
             0.6666666666666666,
             "#ed7953"
            ],
            [
             0.7777777777777778,
             "#fb9f3a"
            ],
            [
             0.8888888888888888,
             "#fdca26"
            ],
            [
             1,
             "#f0f921"
            ]
           ]
          },
          "colorway": [
           "#636efa",
           "#EF553B",
           "#00cc96",
           "#ab63fa",
           "#FFA15A",
           "#19d3f3",
           "#FF6692",
           "#B6E880",
           "#FF97FF",
           "#FECB52"
          ],
          "font": {
           "color": "#2a3f5f"
          },
          "geo": {
           "bgcolor": "white",
           "lakecolor": "white",
           "landcolor": "#E5ECF6",
           "showlakes": true,
           "showland": true,
           "subunitcolor": "white"
          },
          "hoverlabel": {
           "align": "left"
          },
          "hovermode": "closest",
          "mapbox": {
           "style": "light"
          },
          "paper_bgcolor": "white",
          "plot_bgcolor": "#E5ECF6",
          "polar": {
           "angularaxis": {
            "gridcolor": "white",
            "linecolor": "white",
            "ticks": ""
           },
           "bgcolor": "#E5ECF6",
           "radialaxis": {
            "gridcolor": "white",
            "linecolor": "white",
            "ticks": ""
           }
          },
          "scene": {
           "xaxis": {
            "backgroundcolor": "#E5ECF6",
            "gridcolor": "white",
            "gridwidth": 2,
            "linecolor": "white",
            "showbackground": true,
            "ticks": "",
            "zerolinecolor": "white"
           },
           "yaxis": {
            "backgroundcolor": "#E5ECF6",
            "gridcolor": "white",
            "gridwidth": 2,
            "linecolor": "white",
            "showbackground": true,
            "ticks": "",
            "zerolinecolor": "white"
           },
           "zaxis": {
            "backgroundcolor": "#E5ECF6",
            "gridcolor": "white",
            "gridwidth": 2,
            "linecolor": "white",
            "showbackground": true,
            "ticks": "",
            "zerolinecolor": "white"
           }
          },
          "shapedefaults": {
           "line": {
            "color": "#2a3f5f"
           }
          },
          "ternary": {
           "aaxis": {
            "gridcolor": "white",
            "linecolor": "white",
            "ticks": ""
           },
           "baxis": {
            "gridcolor": "white",
            "linecolor": "white",
            "ticks": ""
           },
           "bgcolor": "#E5ECF6",
           "caxis": {
            "gridcolor": "white",
            "linecolor": "white",
            "ticks": ""
           }
          },
          "title": {
           "x": 0.05
          },
          "xaxis": {
           "automargin": true,
           "gridcolor": "white",
           "linecolor": "white",
           "ticks": "",
           "title": {
            "standoff": 15
           },
           "zerolinecolor": "white",
           "zerolinewidth": 2
          },
          "yaxis": {
           "automargin": true,
           "gridcolor": "white",
           "linecolor": "white",
           "ticks": "",
           "title": {
            "standoff": 15
           },
           "zerolinecolor": "white",
           "zerolinewidth": 2
          }
         }
        },
        "title": {
         "text": "Todays Option Pos (Theta and Vega)",
         "x": 0.5,
         "xanchor": "center"
        },
        "xaxis": {
         "anchor": "y",
         "domain": [
          0,
          0.45
         ],
         "title": {
          "text": "Price"
         }
        },
        "xaxis2": {
         "anchor": "y2",
         "domain": [
          0.55,
          1
         ],
         "title": {
          "text": "Price"
         }
        },
        "yaxis": {
         "anchor": "x",
         "domain": [
          0,
          1
         ],
         "title": {
          "text": "Theta"
         }
        },
        "yaxis2": {
         "anchor": "x2",
         "domain": [
          0,
          1
         ],
         "title": {
          "text": "Vega"
         }
        }
       }
      },
      "text/html": [
       "<div>                            <div id=\"306b9098-941b-4400-9e0a-f2c1b88bbfdf\" class=\"plotly-graph-div\" style=\"height:525px; width:100%;\"></div>            <script type=\"text/javascript\">                require([\"plotly\"], function(Plotly) {                    window.PLOTLYENV=window.PLOTLYENV || {};                                    if (document.getElementById(\"306b9098-941b-4400-9e0a-f2c1b88bbfdf\")) {                    Plotly.newPlot(                        \"306b9098-941b-4400-9e0a-f2c1b88bbfdf\",                        [{\"base\":0,\"name\":\"CCA V24 Dec24 36C\",\"x\":[20,21,22,23,24,25,26,27,28,29,30,31,32,33,34,35,36,37,38,39,40,41,42,43,44,45,46,47,48,49,50,51,52,53,54,55],\"y\":[-0.0015396819224612005,-0.01325597232848626,-0.08697897702534278,-0.44893434283083955,-1.872568552636251,-6.460113207125663,-18.80526469023549,-47.00057757458539,-102.40058013296886,-197.0892375327063,-339.0703305692235,-526.879719571947,-746.3935887920869,-972.0461368520874,-1172.607018754953,-1319.376665650242,-1393.5510260380508,-1390.1173306917572,-1317.3966788632924,-1193.1530233133108,-1039.191911317013,-876.362769050984,-721.1789435617873,-584.3904134967897,-471.1757823861766,-382.31316282645986,-315.69554926426156,-267.7371588935217,-234.4391641783212,-212.06276192790537,-197.46517299100123,-188.1966874201905,-182.4561932206696,-178.98111318157677,-176.92131767190244,-175.723976695934],\"type\":\"bar\",\"xaxis\":\"x\",\"yaxis\":\"y\"},{\"base\":0,\"name\":\"CCA V24 Dec24 36C\",\"x\":[20,21,22,23,24,25,26,27,28,29,30,31,32,33,34,35,36,37,38,39,40,41,42,43,44,45,46,47,48,49,50,51,52,53,54,55],\"y\":[0.002423962732986259,0.02085241186824411,0.13670004907674985,0.7048545454148492,2.9367053521688593,10.118153783546093,29.410175239522946,73.3802379253846,159.55634042536028,306.3788373511503,525.6294754936104,814.0558711267912,1148.560112102334,1488.3784455347977,1784.3915915800076,1992.1047984499573,2083.1479802156923,2051.175228100602,1910.8527605766135,1691.472609338405,1428.2828380811634,1154.5675103002561,896.3707083541252,670.3539647579547,484.22183951755284,338.67676462079027,229.8878601209734,151.755820680294,97.61362824769184,61.289103617918926,37.62501234901554,22.61776923733597,13.332541142125631,7.716705190430045,4.390680018896855,2.458671227981988],\"type\":\"bar\",\"xaxis\":\"x2\",\"yaxis\":\"y2\"},{\"base\":0,\"name\":\"CCA V24 Dec24 27P\",\"x\":[20,21,22,23,24,25,26,27,28,29,30,31,32,33,34,35,36,37,38,39,40,41,42,43,44,45,46,47,48,49,50,51,52,53,54,55],\"y\":[-114.6393556605847,-279.3703372743792,-487.162254417954,-719.3356374299035,-948.8644045688924,-1146.9618809658398,-1289.9581762997134,-1364.0994075587669,-1367.1206178157172,-1306.8134522671025,-1197.7039521298911,-1057.1845885284836,-902.1648196667044,-746.8065723894557,-601.442885765568,-472.46927620721544,-362.8682347377581,-273.0335477390654,-201.6401289482227,-146.4039492607837,-104.66303304996508,-73.77101417558183,-51.32890445827256,-35.29432342514514,-24.00786361924,-16.16993063648859,-10.792799679021927,-7.144394714061739,-4.693621260788399,-3.06226293877675,-1.9853011848691575,-1.2796663221730147,-0.8204868602918297,-0.5235427376307269,-0.3326011966528115,-0.2104544059489405],\"type\":\"bar\",\"xaxis\":\"x\",\"yaxis\":\"y\"},{\"base\":0,\"name\":\"CCA V24 Dec24 27P\",\"x\":[20,21,22,23,24,25,26,27,28,29,30,31,32,33,34,35,36,37,38,39,40,41,42,43,44,45,46,47,48,49,50,51,52,53,54,55],\"y\":[262.6233852823605,438.12916114349554,658.6245307899094,903.608788441415,1143.7615270929587,1348.1122303412094,1491.461075947133,1559.4975163353556,1550.4009996716145,1473.1928355585485,1344.068217073934,1182.172566801659,1005.9722209606388,830.8236099992458,667.8361415923692,523.7911541034073,401.742524272181,301.9345758855746,222.76108669907978,161.5979471797943,115.4363547842632,81.30912440293729,56.53947344536829,38.85599364476863,26.417596418234492,17.785029341462888,11.866005467290638,7.851904445430098,5.1566781249876295,3.363323046254283,2.1798519617878864,1.4046918467941332,0.9004257768338748,0.5744176714817073,0.36484254977704667,0.23080846591900897],\"type\":\"bar\",\"xaxis\":\"x2\",\"yaxis\":\"y2\"},{\"base\":0,\"name\":\"CCA V24 Dec24 31P\",\"x\":[20,21,22,23,24,25,26,27,28,29,30,31,32,33,34,35,36,37,38,39,40,41,42,43,44,45,46,47,48,49,50,51,52,53,54,55],\"y\":[-143.38379196797015,-130.07970798983038,-99.37287928635996,-39.14538925231691,62.77528088755708,213.34486713995992,409.1147997820055,633.9633526755459,861.4215733301336,1060.9975365417504,1205.9847260614486,1279.7653193307838,1278.6208251156588,1210.737874806802,1092.5013835535988,943.7714706981214,783.6561112159164,627.6634519250007,486.4367157955389,365.7922655542628,267.5704594219568,190.81710759288762,132.94097109531273,90.6500068459773,60.600611334923535,39.779083382976815,25.675104478506032,16.315826286071694,10.220188920913559,6.317333593963687,3.857165246734718,2.3284277619435234,1.3908718277406158,0.8227786077054654,0.48235482626786585,0.28043419706379286],\"type\":\"bar\",\"xaxis\":\"x\",\"yaxis\":\"y\"},{\"base\":0,\"name\":\"CCA V24 Dec24 31P\",\"x\":[20,21,22,23,24,25,26,27,28,29,30,31,32,33,34,35,36,37,38,39,40,41,42,43,44,45,46,47,48,49,50,51,52,53,54,55],\"y\":[-8.625901522015491,-25.927355700128267,-65.78932507689137,-143.80338319475837,-275.4644456691023,-469.28884885303586,-720.1183379210864,-1006.30756464247,-1292.938566777714,-1540.2165533899665,-1713.7094828923632,-1792.512181694252,-1772.7661686592357,-1666.1796162966962,-1495.0267269474825,-1285.8767507868658,-1064.0373542552668,-849.8564606090011,-657.1265714183384,-493.20442064387254,-360.18831362239854,-256.51344114807085,-178.49877488210535,-121.58911156593477,-81.20996652946009,-53.264559189283595,-34.35464235740281,-21.817473055569426,-13.658537835574455,-8.43825911325481,-5.1496971228653265,-3.107338537208589,-1.8554147394777083,-1.0971823591324854,-0.6430083758762698,-0.37371973266020797],\"type\":\"bar\",\"xaxis\":\"x2\",\"yaxis\":\"y2\"},{\"base\":0,\"name\":\"CCA V24 Dec24 38P\",\"x\":[20,21,22,23,24,25,26,27,28,29,30,31,32,33,34,35,36,37,38,39,40,41,42,43,44,45,46,47,48,49,50,51,52,53,54,55],\"y\":[183.87596654045646,183.87559478702983,183.87219730394324,183.8486262188993,183.72077198690698,183.1647270088719,181.1833836774268,175.29035041452155,160.4250506777435,128.18715198117368,67.39139137366772,-33.237249833867466,-180.45340774804336,-371.63533030169737,-592.1575659801427,-816.8469715807034,-1015.5261737274452,-1160.6647700183564,-1234.2193113287042,-1231.2870977766215,-1159.7460498741905,-1036.6711502998312,-883.2579914875691,-720.027164028446,-563.4841102561558,-424.6104856653873,-308.9261460399442,-217.5429115837399,-148.60726490584477,-98.6817776048935,-63.82053152536995,-40.26897323238522,-24.829589310572686,-14.983288722384268,-8.861061049008152,-5.142383555716624],\"type\":\"bar\",\"xaxis\":\"x\",\"yaxis\":\"y\"},{\"base\":0,\"name\":\"CCA V24 Dec24 38P\",\"x\":[20,21,22,23,24,25,26,27,28,29,30,31,32,33,34,35,36,37,38,39,40,41,42,43,44,45,46,47,48,49,50,51,52,53,54,55],\"y\":[5.1744035646288375e-05,0.0006604108487265864,0.006218661693053325,0.04474651091578909,0.25351945007820853,1.1604445520492193,4.3878063430051455,13.972050816627227,38.104528800123816,90.32552971392954,188.54303335891228,350.56714349346043,586.5779951533075,891.2973030383537,1239.9095362833782,1590.708523480696,1894.381565719844,2106.6058717730407,2199.1462963911795,2165.5992753054493,2020.5070143212358,1793.22417940189,1519.4333763685513,1233.2354596781195,961.7225366024177,722.6125133032402,524.4773787005045,368.5855449927901,251.35311611775109,166.66177219147227,107.64618972452101,67.84492653564806,41.790976987123585,25.196172990960985,14.889099396441424,8.6345006660664],\"type\":\"bar\",\"xaxis\":\"x2\",\"yaxis\":\"y2\"},{\"base\":0,\"name\":\"CCA V24 Dec24 38C\",\"x\":[20,21,22,23,24,25,26,27,28,29,30,31,32,33,34,35,36,37,38,39,40,41,42,43,44,45,46,47,48,49,50,51,52,53,54,55],\"y\":[-3.1579909783202195e-05,-0.0004033333364240881,-0.003800816423005379,-0.02737190146690755,-0.15522613345923317,-0.7112711114943361,-2.6926144429394454,-8.58564770584472,-23.4509474426227,-55.68884613919255,-116.48460674669856,-217.11324795423374,-364.3294058684096,-555.5113284220637,-776.0335641005089,-1000.7229697010697,-1199.4021718478114,-1344.5407681387226,-1418.0953094490706,-1415.163095896988,-1343.6220479945569,-1220.5471484201973,-1067.1339896079353,-903.9031621488124,-747.3601083765221,-608.4864837857535,-492.80214416031043,-401.41890970410617,-332.48326302621103,-282.5577757252597,-247.69652964573623,-224.14497135275147,-208.70558743093892,-198.85928684275052,-192.7370591693744,-189.01838167608287],\"type\":\"bar\",\"xaxis\":\"x\",\"yaxis\":\"y\"},{\"base\":0,\"name\":\"CCA V24 Dec24 38C\",\"x\":[20,21,22,23,24,25,26,27,28,29,30,31,32,33,34,35,36,37,38,39,40,41,42,43,44,45,46,47,48,49,50,51,52,53,54,55],\"y\":[5.1744035646288375e-05,0.0006604108487265864,0.006218661693053325,0.04474651091578909,0.25351945007820853,1.1604445520492193,4.3878063430051455,13.972050816627227,38.104528800123816,90.32552971392954,188.54303335891228,350.56714349346043,586.5779951533075,891.2973030383537,1239.9095362833782,1590.708523480696,1894.381565719844,2106.6058717730407,2199.1462963911795,2165.5992753054493,2020.5070143212358,1793.22417940189,1519.4333763685513,1233.2354596781195,961.7225366024177,722.6125133032402,524.4773787005045,368.5855449927901,251.35311611775109,166.66177219147227,107.64618972452101,67.84492653564806,41.790976987123585,25.196172990960985,14.889099396441424,8.6345006660664],\"type\":\"bar\",\"xaxis\":\"x2\",\"yaxis\":\"y2\"},{\"mode\":\"lines\",\"name\":\"Total_Theta\",\"x\":[20,21,22,23,24,25,26,27,28,29,30,31,32,33,34,35,36,37,38,39,40,41,42,43,44,45,46,47,48,49,50,51,52,53,54,55],\"y\":[-74.14875234993063,-225.5881097828447,-402.75371619381906,-575.1087067076189,-704.3961463805239,-757.623671135628,-721.1578719734558,-610.4319297491295,-471.1255213834316,-370.40684741607726,-379.88277201069684,-554.6494865577479,-914.7203969595854,-1435.2614931585022,-2049.739651047574,-2665.644412441109,-3187.691495135149,-3540.6929646629005,-3684.9147127937513,-3620.2149006934415,-3379.6525828137687,-3016.5349743537067,-2589.9588580202517,-2152.965056253216,-1745.4272533031708,-1391.8009795311125,-1102.541534665032,-877.5275486093578,-710.0031244502518,-590.0472446028716,-507.1103701002418,-451.56187056555666,-415.4209849947324,-392.5244528766368,-378.36968426066994,-369.8147621366187],\"type\":\"scatter\",\"xaxis\":\"x\",\"yaxis\":\"y\"},{\"mode\":\"lines\",\"name\":\"Total_Vega\",\"x\":[20,21,22,23,24,25,26,27,28,29,30,31,32,33,34,35,36,37,38,39,40,41,42,43,44,45,46,47,48,49,50,51,52,53,54,55],\"y\":[254.0000112111493,412.22397867693303,592.9843430854809,760.5997528139031,871.7408256761817,891.262424375818,809.5285259515798,654.5142912515246,493.2278309195085,420.0061789475915,533.0742763930058,904.8505432211191,1554.9221547103518,2435.617045314055,3437.0200787916506,4411.43624872789,5209.6162816722945,5716.465086923257,5874.779868639715,5691.064686485226,5224.5449078855,4565.811552358902,3813.2781596544905,3054.0917661930275,2352.8745426111627,1748.42226137945,1256.3539806318702,874.9613420557349,591.8180007726072,389.53771193386297,249.94754663698012,156.60497561821762,95.95950615372897,57.58628648470123,33.89071298568048,19.58476129337359],\"type\":\"scatter\",\"xaxis\":\"x2\",\"yaxis\":\"y2\"}],                        {\"template\":{\"data\":{\"histogram2dcontour\":[{\"type\":\"histogram2dcontour\",\"colorbar\":{\"outlinewidth\":0,\"ticks\":\"\"},\"colorscale\":[[0.0,\"#0d0887\"],[0.1111111111111111,\"#46039f\"],[0.2222222222222222,\"#7201a8\"],[0.3333333333333333,\"#9c179e\"],[0.4444444444444444,\"#bd3786\"],[0.5555555555555556,\"#d8576b\"],[0.6666666666666666,\"#ed7953\"],[0.7777777777777778,\"#fb9f3a\"],[0.8888888888888888,\"#fdca26\"],[1.0,\"#f0f921\"]]}],\"choropleth\":[{\"type\":\"choropleth\",\"colorbar\":{\"outlinewidth\":0,\"ticks\":\"\"}}],\"histogram2d\":[{\"type\":\"histogram2d\",\"colorbar\":{\"outlinewidth\":0,\"ticks\":\"\"},\"colorscale\":[[0.0,\"#0d0887\"],[0.1111111111111111,\"#46039f\"],[0.2222222222222222,\"#7201a8\"],[0.3333333333333333,\"#9c179e\"],[0.4444444444444444,\"#bd3786\"],[0.5555555555555556,\"#d8576b\"],[0.6666666666666666,\"#ed7953\"],[0.7777777777777778,\"#fb9f3a\"],[0.8888888888888888,\"#fdca26\"],[1.0,\"#f0f921\"]]}],\"heatmap\":[{\"type\":\"heatmap\",\"colorbar\":{\"outlinewidth\":0,\"ticks\":\"\"},\"colorscale\":[[0.0,\"#0d0887\"],[0.1111111111111111,\"#46039f\"],[0.2222222222222222,\"#7201a8\"],[0.3333333333333333,\"#9c179e\"],[0.4444444444444444,\"#bd3786\"],[0.5555555555555556,\"#d8576b\"],[0.6666666666666666,\"#ed7953\"],[0.7777777777777778,\"#fb9f3a\"],[0.8888888888888888,\"#fdca26\"],[1.0,\"#f0f921\"]]}],\"heatmapgl\":[{\"type\":\"heatmapgl\",\"colorbar\":{\"outlinewidth\":0,\"ticks\":\"\"},\"colorscale\":[[0.0,\"#0d0887\"],[0.1111111111111111,\"#46039f\"],[0.2222222222222222,\"#7201a8\"],[0.3333333333333333,\"#9c179e\"],[0.4444444444444444,\"#bd3786\"],[0.5555555555555556,\"#d8576b\"],[0.6666666666666666,\"#ed7953\"],[0.7777777777777778,\"#fb9f3a\"],[0.8888888888888888,\"#fdca26\"],[1.0,\"#f0f921\"]]}],\"contourcarpet\":[{\"type\":\"contourcarpet\",\"colorbar\":{\"outlinewidth\":0,\"ticks\":\"\"}}],\"contour\":[{\"type\":\"contour\",\"colorbar\":{\"outlinewidth\":0,\"ticks\":\"\"},\"colorscale\":[[0.0,\"#0d0887\"],[0.1111111111111111,\"#46039f\"],[0.2222222222222222,\"#7201a8\"],[0.3333333333333333,\"#9c179e\"],[0.4444444444444444,\"#bd3786\"],[0.5555555555555556,\"#d8576b\"],[0.6666666666666666,\"#ed7953\"],[0.7777777777777778,\"#fb9f3a\"],[0.8888888888888888,\"#fdca26\"],[1.0,\"#f0f921\"]]}],\"surface\":[{\"type\":\"surface\",\"colorbar\":{\"outlinewidth\":0,\"ticks\":\"\"},\"colorscale\":[[0.0,\"#0d0887\"],[0.1111111111111111,\"#46039f\"],[0.2222222222222222,\"#7201a8\"],[0.3333333333333333,\"#9c179e\"],[0.4444444444444444,\"#bd3786\"],[0.5555555555555556,\"#d8576b\"],[0.6666666666666666,\"#ed7953\"],[0.7777777777777778,\"#fb9f3a\"],[0.8888888888888888,\"#fdca26\"],[1.0,\"#f0f921\"]]}],\"mesh3d\":[{\"type\":\"mesh3d\",\"colorbar\":{\"outlinewidth\":0,\"ticks\":\"\"}}],\"scatter\":[{\"fillpattern\":{\"fillmode\":\"overlay\",\"size\":10,\"solidity\":0.2},\"type\":\"scatter\"}],\"parcoords\":[{\"type\":\"parcoords\",\"line\":{\"colorbar\":{\"outlinewidth\":0,\"ticks\":\"\"}}}],\"scatterpolargl\":[{\"type\":\"scatterpolargl\",\"marker\":{\"colorbar\":{\"outlinewidth\":0,\"ticks\":\"\"}}}],\"bar\":[{\"error_x\":{\"color\":\"#2a3f5f\"},\"error_y\":{\"color\":\"#2a3f5f\"},\"marker\":{\"line\":{\"color\":\"#E5ECF6\",\"width\":0.5},\"pattern\":{\"fillmode\":\"overlay\",\"size\":10,\"solidity\":0.2}},\"type\":\"bar\"}],\"scattergeo\":[{\"type\":\"scattergeo\",\"marker\":{\"colorbar\":{\"outlinewidth\":0,\"ticks\":\"\"}}}],\"scatterpolar\":[{\"type\":\"scatterpolar\",\"marker\":{\"colorbar\":{\"outlinewidth\":0,\"ticks\":\"\"}}}],\"histogram\":[{\"marker\":{\"pattern\":{\"fillmode\":\"overlay\",\"size\":10,\"solidity\":0.2}},\"type\":\"histogram\"}],\"scattergl\":[{\"type\":\"scattergl\",\"marker\":{\"colorbar\":{\"outlinewidth\":0,\"ticks\":\"\"}}}],\"scatter3d\":[{\"type\":\"scatter3d\",\"line\":{\"colorbar\":{\"outlinewidth\":0,\"ticks\":\"\"}},\"marker\":{\"colorbar\":{\"outlinewidth\":0,\"ticks\":\"\"}}}],\"scattermapbox\":[{\"type\":\"scattermapbox\",\"marker\":{\"colorbar\":{\"outlinewidth\":0,\"ticks\":\"\"}}}],\"scatterternary\":[{\"type\":\"scatterternary\",\"marker\":{\"colorbar\":{\"outlinewidth\":0,\"ticks\":\"\"}}}],\"scattercarpet\":[{\"type\":\"scattercarpet\",\"marker\":{\"colorbar\":{\"outlinewidth\":0,\"ticks\":\"\"}}}],\"carpet\":[{\"aaxis\":{\"endlinecolor\":\"#2a3f5f\",\"gridcolor\":\"white\",\"linecolor\":\"white\",\"minorgridcolor\":\"white\",\"startlinecolor\":\"#2a3f5f\"},\"baxis\":{\"endlinecolor\":\"#2a3f5f\",\"gridcolor\":\"white\",\"linecolor\":\"white\",\"minorgridcolor\":\"white\",\"startlinecolor\":\"#2a3f5f\"},\"type\":\"carpet\"}],\"table\":[{\"cells\":{\"fill\":{\"color\":\"#EBF0F8\"},\"line\":{\"color\":\"white\"}},\"header\":{\"fill\":{\"color\":\"#C8D4E3\"},\"line\":{\"color\":\"white\"}},\"type\":\"table\"}],\"barpolar\":[{\"marker\":{\"line\":{\"color\":\"#E5ECF6\",\"width\":0.5},\"pattern\":{\"fillmode\":\"overlay\",\"size\":10,\"solidity\":0.2}},\"type\":\"barpolar\"}],\"pie\":[{\"automargin\":true,\"type\":\"pie\"}]},\"layout\":{\"autotypenumbers\":\"strict\",\"colorway\":[\"#636efa\",\"#EF553B\",\"#00cc96\",\"#ab63fa\",\"#FFA15A\",\"#19d3f3\",\"#FF6692\",\"#B6E880\",\"#FF97FF\",\"#FECB52\"],\"font\":{\"color\":\"#2a3f5f\"},\"hovermode\":\"closest\",\"hoverlabel\":{\"align\":\"left\"},\"paper_bgcolor\":\"white\",\"plot_bgcolor\":\"#E5ECF6\",\"polar\":{\"bgcolor\":\"#E5ECF6\",\"angularaxis\":{\"gridcolor\":\"white\",\"linecolor\":\"white\",\"ticks\":\"\"},\"radialaxis\":{\"gridcolor\":\"white\",\"linecolor\":\"white\",\"ticks\":\"\"}},\"ternary\":{\"bgcolor\":\"#E5ECF6\",\"aaxis\":{\"gridcolor\":\"white\",\"linecolor\":\"white\",\"ticks\":\"\"},\"baxis\":{\"gridcolor\":\"white\",\"linecolor\":\"white\",\"ticks\":\"\"},\"caxis\":{\"gridcolor\":\"white\",\"linecolor\":\"white\",\"ticks\":\"\"}},\"coloraxis\":{\"colorbar\":{\"outlinewidth\":0,\"ticks\":\"\"}},\"colorscale\":{\"sequential\":[[0.0,\"#0d0887\"],[0.1111111111111111,\"#46039f\"],[0.2222222222222222,\"#7201a8\"],[0.3333333333333333,\"#9c179e\"],[0.4444444444444444,\"#bd3786\"],[0.5555555555555556,\"#d8576b\"],[0.6666666666666666,\"#ed7953\"],[0.7777777777777778,\"#fb9f3a\"],[0.8888888888888888,\"#fdca26\"],[1.0,\"#f0f921\"]],\"sequentialminus\":[[0.0,\"#0d0887\"],[0.1111111111111111,\"#46039f\"],[0.2222222222222222,\"#7201a8\"],[0.3333333333333333,\"#9c179e\"],[0.4444444444444444,\"#bd3786\"],[0.5555555555555556,\"#d8576b\"],[0.6666666666666666,\"#ed7953\"],[0.7777777777777778,\"#fb9f3a\"],[0.8888888888888888,\"#fdca26\"],[1.0,\"#f0f921\"]],\"diverging\":[[0,\"#8e0152\"],[0.1,\"#c51b7d\"],[0.2,\"#de77ae\"],[0.3,\"#f1b6da\"],[0.4,\"#fde0ef\"],[0.5,\"#f7f7f7\"],[0.6,\"#e6f5d0\"],[0.7,\"#b8e186\"],[0.8,\"#7fbc41\"],[0.9,\"#4d9221\"],[1,\"#276419\"]]},\"xaxis\":{\"gridcolor\":\"white\",\"linecolor\":\"white\",\"ticks\":\"\",\"title\":{\"standoff\":15},\"zerolinecolor\":\"white\",\"automargin\":true,\"zerolinewidth\":2},\"yaxis\":{\"gridcolor\":\"white\",\"linecolor\":\"white\",\"ticks\":\"\",\"title\":{\"standoff\":15},\"zerolinecolor\":\"white\",\"automargin\":true,\"zerolinewidth\":2},\"scene\":{\"xaxis\":{\"backgroundcolor\":\"#E5ECF6\",\"gridcolor\":\"white\",\"linecolor\":\"white\",\"showbackground\":true,\"ticks\":\"\",\"zerolinecolor\":\"white\",\"gridwidth\":2},\"yaxis\":{\"backgroundcolor\":\"#E5ECF6\",\"gridcolor\":\"white\",\"linecolor\":\"white\",\"showbackground\":true,\"ticks\":\"\",\"zerolinecolor\":\"white\",\"gridwidth\":2},\"zaxis\":{\"backgroundcolor\":\"#E5ECF6\",\"gridcolor\":\"white\",\"linecolor\":\"white\",\"showbackground\":true,\"ticks\":\"\",\"zerolinecolor\":\"white\",\"gridwidth\":2}},\"shapedefaults\":{\"line\":{\"color\":\"#2a3f5f\"}},\"annotationdefaults\":{\"arrowcolor\":\"#2a3f5f\",\"arrowhead\":0,\"arrowwidth\":1},\"geo\":{\"bgcolor\":\"white\",\"landcolor\":\"#E5ECF6\",\"subunitcolor\":\"white\",\"showland\":true,\"showlakes\":true,\"lakecolor\":\"white\"},\"title\":{\"x\":0.05},\"mapbox\":{\"style\":\"light\"}}},\"xaxis\":{\"anchor\":\"y\",\"domain\":[0.0,0.45],\"title\":{\"text\":\"Price\"}},\"yaxis\":{\"anchor\":\"x\",\"domain\":[0.0,1.0],\"title\":{\"text\":\"Theta\"}},\"xaxis2\":{\"anchor\":\"y2\",\"domain\":[0.55,1.0],\"title\":{\"text\":\"Price\"}},\"yaxis2\":{\"anchor\":\"x2\",\"domain\":[0.0,1.0],\"title\":{\"text\":\"Vega\"}},\"title\":{\"text\":\"Todays Option Pos (Theta and Vega)\",\"x\":0.5,\"xanchor\":\"center\"}},                        {\"responsive\": true}                    ).then(function(){\n",
       "                            \n",
       "var gd = document.getElementById('306b9098-941b-4400-9e0a-f2c1b88bbfdf');\n",
       "var x = new MutationObserver(function (mutations, observer) {{\n",
       "        var display = window.getComputedStyle(gd).display;\n",
       "        if (!display || display === 'none') {{\n",
       "            console.log([gd, 'removed!']);\n",
       "            Plotly.purge(gd);\n",
       "            observer.disconnect();\n",
       "        }}\n",
       "}});\n",
       "\n",
       "// Listen for the removal of the full notebook cells\n",
       "var notebookContainer = gd.closest('#notebook-container');\n",
       "if (notebookContainer) {{\n",
       "    x.observe(notebookContainer, {childList: true});\n",
       "}}\n",
       "\n",
       "// Listen for the clearing of the current output cell\n",
       "var outputEl = gd.closest('.output');\n",
       "if (outputEl) {{\n",
       "    x.observe(outputEl, {childList: true});\n",
       "}}\n",
       "\n",
       "                        })                };                });            </script>        </div>"
      ]
     },
     "metadata": {},
     "output_type": "display_data"
    }
   ],
   "source": [
    "fig_t = go.Figure()\n",
    "for i in list(t)[1:-1]:\n",
    "    fig_t.add_trace(go.Bar(x=t.Price, y=t[i], name=i, base=0))\n",
    "\n",
    "fig_t.add_trace(go.Scatter(x=t.Price, y=t.Option_Theta, mode='lines', name='Total_Theta'))\n",
    "\n",
    "\n",
    "#~~~~~~~~~~~~~~~~~~~~~~~~~~~~~~~~~~~~~~~~~~~~~~~~~~~~~~~~~~~~~~~~~~~~~~~~~~~~~~~~~\n",
    "fig_v = go.Figure()\n",
    "for i in list(v)[1:-1]:\n",
    "    fig_v.add_trace(go.Bar(x=v.Price, y=v[i], name=i, base=0))\n",
    "\n",
    "fig_v.add_trace(go.Scatter(x=v.Price, y=v.Option_Vega, mode='lines', name='Total_Vega'))\n",
    "\n",
    "#~~~~~~~~~~~~~~~~~~~~~~~~~~~~~~~~~~~~~~~~~~~~~~~~~~~~~~~~~~~~~~~~~~~~~~~~~~~~~~~~\n",
    "fig = make_subplots(rows=1, cols=2)\n",
    "for i in range(0,len(fig_p.data)):\n",
    "    fig.add_trace(fig_t.data[i], row=1, col=1)\n",
    "    fig.add_trace(fig_v.data[i], row=1, col=2)\n",
    "    \n",
    "#fig.update_layout(title={'text': 'Todays Option Pos (Theta and Vega)','x': 0.5,'xanchor': 'center'}, barmode='stack')\n",
    "fig.update_layout(title={'text': 'Todays Option Pos (Theta and Vega)','x': 0.5,'xanchor': 'center'})\n",
    "\n",
    "fig.update_xaxes(title_text=\"Price\", row=1, col=1)\n",
    "fig.update_yaxes(title_text=\"Theta\", row=1, col=1)\n",
    "fig.update_xaxes(title_text=\"Price\", row=1, col=2)\n",
    "fig.update_yaxes(title_text=\"Vega\", row=1, col=2)    \n",
    "fig.show()  "
   ]
  },
  {
   "cell_type": "markdown",
   "id": "0a6965fc",
   "metadata": {},
   "source": [
    "# Option PnL & Delta At Different Points in Time\n",
    "Need to rebase the option values to date of calc  \n",
    "Delta will be correct  \n",
    "Incrimental PnL will be correct, just rebase to zero"
   ]
  },
  {
   "cell_type": "markdown",
   "id": "4faea6f7",
   "metadata": {},
   "source": [
    "# Ignore For Now, Needs Adjusting\n",
    "Recalculate the starting option value so that forward looking pnl / theta it is not relative to todays value"
   ]
  },
  {
   "cell_type": "code",
   "execution_count": null,
   "id": "9fc3ec13",
   "metadata": {},
   "outputs": [],
   "source": [
    "## Define the dates we want to use for reporting\n",
    "current_date = dt.datetime.today().date()\n",
    "current_year = str(dt.datetime.today().date().year)\n",
    "\n",
    "_, last_day = calendar.monthrange(current_date.year, current_date.month)\n",
    "end_of_month = dt.date(current_date.year, current_date.month, last_day)\n",
    "\n",
    "one_month = current_date + dt.timedelta(days=1*30)\n",
    "\n",
    "three_months = current_date + dt.timedelta(days=3*30)\n",
    "\n",
    "six_months = current_date + dt.timedelta(days=6*30)\n",
    "\n",
    "eoy = '10-12-{}'.format(current_year)\n",
    "end_of_year = dt.datetime.strptime(eoy, '%d-%m-%Y').date()\n",
    "\n",
    "one_year = current_date + dt.timedelta(days=365)\n",
    "\n",
    "post_june = dt.datetime.strptime('20-06-2024', '%d-%m-%Y').date()\n",
    "post_sep = dt.datetime.strptime('26-09-2024', '%d-%m-%Y').date()"
   ]
  },
  {
   "cell_type": "code",
   "execution_count": null,
   "id": "faba4161",
   "metadata": {},
   "outputs": [],
   "source": [
    "# Options for timing are: [current_date, end_of_month, one_month, three_months, six_months, end_of_year, end_of_feb, march_expiry]\n",
    "\n",
    "def pnl_delta_plot(timing):\n",
    "    position_functions = Position_Reporting(positions, 'CCA', timing)\n",
    "    p,d,t,v, value = position_functions.options()\n",
    "    fig_p = go.Figure()\n",
    "    for i in list(p)[1:-1]:\n",
    "        fig_p.add_trace(go.Scatter(x=p.Price, y=p[i], name=i))\n",
    "\n",
    "    fig_p.add_trace(go.Scatter(x=p.Price, y=p.Option_Pnl, mode='lines', name='Total_PnL'))\n",
    "\n",
    "    #fig_p.update_layout(title='Option PnL Today', xaxis_title='Price', yaxis_title='pnl', barmode='stack')\n",
    "    #fig_p.show()\n",
    "\n",
    "    #~~~~~~~~~~~~~~~~~~~~~~~~~~~~~~~~~~~~~~~~~~~~~~~~~~~~~~~~~~~~~~~~~~~~~~~~~~~~~~~~~\n",
    "    fig_d = go.Figure()\n",
    "    for i in list(d)[1:-1]:\n",
    "        fig_d.add_trace(go.Scatter(x=d.Price, y=d[i], name=i))\n",
    "\n",
    "    fig_d.add_trace(go.Scatter(x=d.Price, y=d.Option_Delta, mode='lines', name='Total_Delta'))\n",
    "\n",
    "    #~~~~~~~~~~~~~~~~~~~~~~~~~~~~~~~~~~~~~~~~~~~~~~~~~~~~~~~~~~~~~~~~~~~~~~~~~~~~~~~~\n",
    "    fig = make_subplots(rows=1, cols=2)\n",
    "    for i in range(0,len(fig_p.data)):\n",
    "        fig.add_trace(fig_p.data[i], row=1, col=1)\n",
    "        fig.add_trace(fig_d.data[i], row=1, col=2)\n",
    "\n",
    "    fig.update_layout(title={'text': 'Todays Option Pos (PnL and Delta)','x': 0.5,'xanchor': 'center'}, barmode='stack')\n",
    "\n",
    "    fig.update_xaxes(title_text=\"Price\", row=1, col=1)\n",
    "    fig.update_yaxes(title_text=\"Pnl\", row=1, col=1)\n",
    "    fig.update_xaxes(title_text=\"Price\", row=1, col=2)\n",
    "    fig.update_yaxes(title_text=\"Delta\", row=1, col=2)    \n",
    "    \n",
    "    fig.add_vline(x=current_spot, line_width=1, line_dash=\"dash\", line_color=\"green\")\n",
    "    fig.show()  "
   ]
  },
  {
   "cell_type": "markdown",
   "id": "ae1499b8",
   "metadata": {},
   "source": [
    "## Post Sep Expiry"
   ]
  },
  {
   "cell_type": "code",
   "execution_count": null,
   "id": "b2f27f4f",
   "metadata": {},
   "outputs": [],
   "source": [
    "current_date = post_sep\n",
    "positions = dict()\n",
    "for m in mkts:\n",
    "    positions[m] = pd.read_excel('Positions.xlsx', sheet_name=m)\n",
    "    positions[m]['Expiry'] = pd.to_datetime(positions[m].Expiry).dt.date\n",
    "    positions[m] = positions[m][~((positions[m]['Type'] == 'Option') & (positions[m]['Expiry'] < current_date))] # remove expired options"
   ]
  },
  {
   "cell_type": "code",
   "execution_count": null,
   "id": "f8417675",
   "metadata": {},
   "outputs": [],
   "source": [
    "pnl_delta_plot(post_sep)"
   ]
  },
  {
   "cell_type": "markdown",
   "id": "3e993a44",
   "metadata": {},
   "source": [
    "Post Sep Expiry, End of Year (to see theta impact)"
   ]
  },
  {
   "cell_type": "code",
   "execution_count": null,
   "id": "18bf4450",
   "metadata": {},
   "outputs": [],
   "source": [
    "pnl_delta_plot(end_of_year)"
   ]
  },
  {
   "cell_type": "markdown",
   "id": "44b486a8",
   "metadata": {},
   "source": [
    "# Historical Volatility"
   ]
  },
  {
   "cell_type": "code",
   "execution_count": null,
   "id": "fc29329a",
   "metadata": {},
   "outputs": [],
   "source": [
    "histvol = Position_Reporting(positions, 'CCA', current_date).rolling_vol()\n",
    "\n",
    "fig = go.Figure()\n",
    "for i in list(histvol)[1:]:\n",
    "    fig.add_trace(go.Scatter(x=histvol['Date'], y=histvol[i], name=i))#, base=0))\n",
    "    \n",
    "fig.show()"
   ]
  }
 ],
 "metadata": {
  "kernelspec": {
   "display_name": "Python 3 (ipykernel)",
   "language": "python",
   "name": "python3"
  },
  "language_info": {
   "codemirror_mode": {
    "name": "ipython",
    "version": 3
   },
   "file_extension": ".py",
   "mimetype": "text/x-python",
   "name": "python",
   "nbconvert_exporter": "python",
   "pygments_lexer": "ipython3",
   "version": "3.8.16"
  },
  "toc": {
   "base_numbering": 1,
   "nav_menu": {},
   "number_sections": true,
   "sideBar": true,
   "skip_h1_title": false,
   "title_cell": "Table of Contents",
   "title_sidebar": "Contents",
   "toc_cell": false,
   "toc_position": {},
   "toc_section_display": true,
   "toc_window_display": false
  },
  "varInspector": {
   "cols": {
    "lenName": 16,
    "lenType": 16,
    "lenVar": 40
   },
   "kernels_config": {
    "python": {
     "delete_cmd_postfix": "",
     "delete_cmd_prefix": "del ",
     "library": "var_list.py",
     "varRefreshCmd": "print(var_dic_list())"
    },
    "r": {
     "delete_cmd_postfix": ") ",
     "delete_cmd_prefix": "rm(",
     "library": "var_list.r",
     "varRefreshCmd": "cat(var_dic_list()) "
    }
   },
   "types_to_exclude": [
    "module",
    "function",
    "builtin_function_or_method",
    "instance",
    "_Feature"
   ],
   "window_display": false
  }
 },
 "nbformat": 4,
 "nbformat_minor": 5
}
