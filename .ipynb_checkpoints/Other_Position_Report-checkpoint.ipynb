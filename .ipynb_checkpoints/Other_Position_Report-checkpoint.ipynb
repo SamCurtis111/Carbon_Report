{
 "cells": [
  {
   "cell_type": "code",
   "execution_count": 1,
   "id": "bba20152",
   "metadata": {},
   "outputs": [],
   "source": [
    "import warnings\n",
    "warnings.filterwarnings('ignore', category=RuntimeWarning)\n",
    "\n",
    "import pandas as pd\n",
    "import plotly.graph_objects as go\n",
    "from plotly.subplots import make_subplots\n",
    "import plotly\n",
    "\n",
    "import datetime as dt\n",
    "import calendar\n",
    "\n",
    "import openpyxl\n",
    "from openpyxl.utils.dataframe import dataframe_to_rows\n",
    "\n",
    "from Position_Report_Calcs import Position_Reporting"
   ]
  },
  {
   "cell_type": "code",
   "execution_count": 2,
   "id": "9b481c4e",
   "metadata": {},
   "outputs": [
    {
     "data": {
      "text/html": [
       "        <script type=\"text/javascript\">\n",
       "        window.PlotlyConfig = {MathJaxConfig: 'local'};\n",
       "        if (window.MathJax && window.MathJax.Hub && window.MathJax.Hub.Config) {window.MathJax.Hub.Config({SVG: {font: \"STIX-Web\"}});}\n",
       "        if (typeof require !== 'undefined') {\n",
       "        require.undef(\"plotly\");\n",
       "        requirejs.config({\n",
       "            paths: {\n",
       "                'plotly': ['https://cdn.plot.ly/plotly-2.12.1.min']\n",
       "            }\n",
       "        });\n",
       "        require(['plotly'], function(Plotly) {\n",
       "            window._Plotly = Plotly;\n",
       "        });\n",
       "        }\n",
       "        </script>\n",
       "        "
      ]
     },
     "metadata": {},
     "output_type": "display_data"
    }
   ],
   "source": [
    "plotly.offline.init_notebook_mode(connected=True)"
   ]
  },
  {
   "cell_type": "code",
   "execution_count": 3,
   "id": "3ca5488c",
   "metadata": {},
   "outputs": [],
   "source": [
    "## Read in the position data\n",
    "mkts = ['ACCU','NZU','EUA','OTHER']\n",
    "\n",
    "positions = dict()\n",
    "for m in mkts:\n",
    "    positions[m] = pd.read_excel('Positions.xlsx', sheet_name=m)\n",
    "    positions[m]['Expiry'] = pd.to_datetime(positions[m].Expiry).dt.date\n",
    "\n",
    "premiums = pd.read_excel('Positions.xlsx', sheet_name='Index') "
   ]
  },
  {
   "cell_type": "code",
   "execution_count": 4,
   "id": "557de5c9",
   "metadata": {},
   "outputs": [],
   "source": [
    "## Define the dates we want to use for reporting\n",
    "current_date = dt.datetime.today().date()\n",
    "current_year = str(dt.datetime.today().date().year)\n",
    "\n",
    "_, last_day = calendar.monthrange(current_date.year, current_date.month)\n",
    "_, last_day_next_month = calendar.monthrange(current_date.year, current_date.month+1)\n",
    "\n",
    "end_of_month = dt.date(current_date.year, current_date.month, last_day)\n",
    "end_of_next_month = dt.date(current_date.year, current_date.month + 1, last_day_next_month)\n",
    "\n",
    "one_month = current_date + dt.timedelta(days=1*30)\n",
    "\n",
    "three_months = current_date + dt.timedelta(days=3*30)\n",
    "\n",
    "six_months = current_date + dt.timedelta(days=6*30)\n",
    "\n",
    "eoy = '10-12-{}'.format(current_year)\n",
    "end_of_year = dt.datetime.strptime(eoy, '%d-%m-%Y').date()\n",
    "\n",
    "one_year = current_date + dt.timedelta(days=365)\n",
    "\n",
    "end_of_may = dt.datetime.strptime('31-05-2024', '%d-%m-%Y').date()\n",
    "\n",
    "june_expiry = dt.datetime.strptime('15-06-2024', '%d-%m-%Y').date()\n",
    "\n",
    "dates_names = ['today','EoM','End of Next Month','3 months','6 months','EoY','OneYear','End of May', 'Mid June']\n",
    "dates_values = [current_date, end_of_month, end_of_next_month, three_months, six_months, end_of_year, one_year,end_of_may,june_expiry]"
   ]
  },
  {
   "cell_type": "code",
   "execution_count": 5,
   "id": "d56c3bd8",
   "metadata": {},
   "outputs": [],
   "source": [
    "dates = dict()\n",
    "for i in list(range(0,len(dates_names))):\n",
    "    dates[dates_names[i]] = dates_values[i]"
   ]
  },
  {
   "cell_type": "code",
   "execution_count": 6,
   "id": "c9bcfcb0",
   "metadata": {},
   "outputs": [],
   "source": [
    "current_spot = positions['OTHER']\n",
    "current_spot = current_spot[current_spot.Type=='Spot'].reset_index(drop=True)\n",
    "current_spot = current_spot['Price'][0]"
   ]
  },
  {
   "cell_type": "markdown",
   "id": "756bb0ec",
   "metadata": {},
   "source": [
    "# OTHER Position Report\n",
    "All PnL figures are in AUD"
   ]
  },
  {
   "cell_type": "code",
   "execution_count": 7,
   "id": "659c3281",
   "metadata": {},
   "outputs": [],
   "source": [
    "other = dict()\n",
    "workbook = openpyxl.Workbook()\n",
    "\n",
    "for i,d in enumerate(dates_values):\n",
    "    other[d] = Position_Reporting(positions, 'OTHER', d).combine_frame()\n",
    "    \n",
    "    sheet_name = dates_names[i]\n",
    "    sheet = workbook.create_sheet(title=sheet_name)\n",
    "    \n",
    "    for row in dataframe_to_rows(other[d][0], index=False, header=True):\n",
    "        sheet.append(row)\n",
    "    \n",
    "workbook.save('Other PnL Output.xlsx')    "
   ]
  },
  {
   "cell_type": "code",
   "execution_count": 8,
   "id": "fb9d8c7f",
   "metadata": {},
   "outputs": [],
   "source": [
    "# data type; 0=PnL, 1=Delta, 2=Option Theta, 3=Option Vega\n",
    "def generate_summary_plots(mkt_data, data_type):\n",
    "    if data_type==0:\n",
    "        colname='Total_Pnl'\n",
    "    elif data_type==1:\n",
    "        colname='Total_Delta'\n",
    "    elif data_type==2:\n",
    "        colname='Option_Theta'\n",
    "    elif data_type==3:\n",
    "        colname='Option_Vega'\n",
    "    fig = go.Figure()\n",
    "    for i in list(range(0, len(dates_names))):\n",
    "        date_value = dates_values[i]\n",
    "        date_name = dates_names[i]\n",
    "        fig.add_trace(go.Scatter(x=mkt_data[date_value][data_type].Price, y=mkt_data[date_value][data_type][colname], name=date_name))\n",
    "    return fig"
   ]
  },
  {
   "cell_type": "code",
   "execution_count": 9,
   "id": "4708cc1d",
   "metadata": {},
   "outputs": [],
   "source": [
    "#fig_d = generate_summary_plots(other, 1)\n",
    "#fig_p = generate_summary_plots(other, 0)\n",
    "#fig_t = generate_summary_plots(other,2)\n",
    "#fig_v = generate_summary_plots(other,3)"
   ]
  },
  {
   "cell_type": "code",
   "execution_count": 10,
   "id": "ff94b9f0",
   "metadata": {},
   "outputs": [],
   "source": [
    "#fig = make_subplots(rows=1, cols=2)\n",
    "#for i in range(0,len(fig_d.data)):\n",
    "#    fig.add_trace(fig_p.data[i], row=1, col=1)\n",
    "#    fig.add_trace(fig_d.data[i], row=1, col=2)\n",
    "#\n",
    "#fig.update_layout(title={'text': 'OTHER Position (PnL and Delta)','x': 0.5,'xanchor': 'center'})\n",
    "#\n",
    "#fig.update_xaxes(title_text=\"Price\", row=1, col=1)\n",
    "#fig.update_yaxes(title_text=\"PnL\", row=1, col=1)\n",
    "#fig.update_xaxes(title_text=\"Price\", row=1, col=2)\n",
    "#fig.update_yaxes(title_text=\"Delta\", row=1, col=2)\n",
    "#\n",
    "#fig.add_vline(x=current_spot, line_width=1, line_dash=\"dash\", line_color=\"green\")\n",
    "#\n",
    "#fig.show()"
   ]
  },
  {
   "cell_type": "code",
   "execution_count": 11,
   "id": "795643ae",
   "metadata": {},
   "outputs": [],
   "source": [
    "#fig = make_subplots(rows=1, cols=2)\n",
    "#for i in range(0,len(fig_d.data)):\n",
    "#    fig.add_trace(fig_t.data[i], row=1, col=1)\n",
    "#    fig.add_trace(fig_v.data[i], row=1, col=2)\n",
    "#\n",
    "#fig.update_layout(title={'text': 'OTHER Position (Theta and Vega)','x': 0.5,'xanchor': 'center'})\n",
    "#\n",
    "#fig.update_xaxes(title_text=\"Price\", row=1, col=1)\n",
    "#fig.update_yaxes(title_text=\"Theta\", row=1, col=1)\n",
    "#fig.update_xaxes(title_text=\"Price\", row=1, col=2)\n",
    "#fig.update_yaxes(title_text=\"Vega\", row=1, col=2)\n",
    "#fig.show()"
   ]
  },
  {
   "cell_type": "code",
   "execution_count": 12,
   "id": "c201f2c6",
   "metadata": {},
   "outputs": [],
   "source": [
    "## USE THIS STYLE OF GRAPHING FOR TODAY DATE ENTRY ##\n",
    "#position_functions = Position_Reporting(positions, 'OTHER', current_date)\n",
    "#pnl, delta, theta, vega, value = position_functions.combine_frame()\n",
    "#\n",
    "#fig_d = go.Figure()\n",
    "#\n",
    "#fig_d.add_trace(go.Bar(x=delta.Price, y=delta.Spot, name='Spot', base=0))\n",
    "#fig_d.add_trace(go.Bar(x=delta.Price, y=delta.Fwds, name='Fwds', base=0))\n",
    "#fig_d.add_trace(go.Bar(x=delta.Price, y=delta.Options, name='Options', base=0))\n",
    "#fig_d.add_trace(go.Scatter(x=delta.Price, y=delta.Total_Delta, mode='lines', name='Total_Delta'))\n",
    "#\n",
    "#\n",
    "##~~~~~~~~~~~~~~~~~~~~~~~~~~~~~~~~~\n",
    "#fig_p = go.Figure()\n",
    "#\n",
    "#fig_p.add_trace(go.Bar(x=pnl.Price, y=pnl.Spot, name='Spot', base=0))\n",
    "#fig_p.add_trace(go.Bar(x=pnl.Price, y=pnl.Fwds, name='Fwds', base=0))\n",
    "#fig_p.add_trace(go.Bar(x=pnl.Price, y=pnl.Options, name='Options', base=0))\n",
    "#fig_p.add_trace(go.Scatter(x=pnl.Price, y=pnl.Total_Pnl, mode='lines', name='Total_PnL'))\n",
    "#\n",
    "#\n",
    "##~~~~~~~~~~~~~~~~~~~~~~~~~~~~~~~\n",
    "#fig = make_subplots(rows=1, cols=2)\n",
    "#for i in range(0,len(fig_d.data)):\n",
    "#    fig.add_trace(fig_d.data[i], row=1, col=2)\n",
    "#    fig.add_trace(fig_p.data[i], row=1, col=1)\n",
    "#    \n",
    "#fig.update_layout(title={'text': 'Todays OTHER Pos (PnL and Delta)','x': 0.5,'xanchor': 'center'}, barmode='stack')\n",
    "#\n",
    "#fig.update_xaxes(title_text=\"Price\", row=1, col=1)\n",
    "#fig.update_yaxes(title_text=\"Pnl\", row=1, col=1)\n",
    "#fig.update_xaxes(title_text=\"Price\", row=1, col=2)\n",
    "#fig.update_yaxes(title_text=\"Delta\", row=1, col=2)    \n",
    "#fig.show()  "
   ]
  },
  {
   "cell_type": "markdown",
   "id": "d2ae8345",
   "metadata": {},
   "source": [
    "### Positions"
   ]
  },
  {
   "cell_type": "code",
   "execution_count": 13,
   "id": "7cc76593",
   "metadata": {},
   "outputs": [
    {
     "data": {
      "text/html": [
       "<div>\n",
       "<style scoped>\n",
       "    .dataframe tbody tr th:only-of-type {\n",
       "        vertical-align: middle;\n",
       "    }\n",
       "\n",
       "    .dataframe tbody tr th {\n",
       "        vertical-align: top;\n",
       "    }\n",
       "\n",
       "    .dataframe thead th {\n",
       "        text-align: right;\n",
       "    }\n",
       "</style>\n",
       "<table border=\"1\" class=\"dataframe\">\n",
       "  <thead>\n",
       "    <tr style=\"text-align: right;\">\n",
       "      <th></th>\n",
       "      <th>Name</th>\n",
       "      <th>Type</th>\n",
       "      <th>Subtype</th>\n",
       "      <th>Strike</th>\n",
       "      <th>Vol</th>\n",
       "      <th>Expiry</th>\n",
       "      <th>Qty</th>\n",
       "      <th>Price</th>\n",
       "      <th>Rate</th>\n",
       "      <th>FX</th>\n",
       "    </tr>\n",
       "  </thead>\n",
       "  <tbody>\n",
       "    <tr>\n",
       "      <th>0</th>\n",
       "      <td>EUA Dec24</td>\n",
       "      <td>Spot</td>\n",
       "      <td>NaN</td>\n",
       "      <td>NaN</td>\n",
       "      <td>NaN</td>\n",
       "      <td>NaT</td>\n",
       "      <td>0</td>\n",
       "      <td>62.010000</td>\n",
       "      <td>0.032325</td>\n",
       "      <td>1.62845</td>\n",
       "    </tr>\n",
       "    <tr>\n",
       "      <th>1</th>\n",
       "      <td>EUA Dec24 75C</td>\n",
       "      <td>Option</td>\n",
       "      <td>Call</td>\n",
       "      <td>75.0</td>\n",
       "      <td>0.383876</td>\n",
       "      <td>2024-12-16</td>\n",
       "      <td>25000</td>\n",
       "      <td>0.689892</td>\n",
       "      <td>0.032325</td>\n",
       "      <td>1.62845</td>\n",
       "    </tr>\n",
       "    <tr>\n",
       "      <th>2</th>\n",
       "      <td>EUA Dec24 80C</td>\n",
       "      <td>Option</td>\n",
       "      <td>Call</td>\n",
       "      <td>80.0</td>\n",
       "      <td>0.395457</td>\n",
       "      <td>2024-12-16</td>\n",
       "      <td>50000</td>\n",
       "      <td>0.349333</td>\n",
       "      <td>0.032325</td>\n",
       "      <td>1.62845</td>\n",
       "    </tr>\n",
       "    <tr>\n",
       "      <th>3</th>\n",
       "      <td>EUA Dec24 85C</td>\n",
       "      <td>Option</td>\n",
       "      <td>Call</td>\n",
       "      <td>85.0</td>\n",
       "      <td>0.408208</td>\n",
       "      <td>2024-12-16</td>\n",
       "      <td>100000</td>\n",
       "      <td>0.181692</td>\n",
       "      <td>0.032325</td>\n",
       "      <td>1.62845</td>\n",
       "    </tr>\n",
       "  </tbody>\n",
       "</table>\n",
       "</div>"
      ],
      "text/plain": [
       "            Name    Type Subtype  Strike       Vol      Expiry     Qty  \\\n",
       "0      EUA Dec24    Spot     NaN     NaN       NaN         NaT       0   \n",
       "1  EUA Dec24 75C  Option    Call    75.0  0.383876  2024-12-16   25000   \n",
       "2  EUA Dec24 80C  Option    Call    80.0  0.395457  2024-12-16   50000   \n",
       "3  EUA Dec24 85C  Option    Call    85.0  0.408208  2024-12-16  100000   \n",
       "\n",
       "       Price      Rate       FX  \n",
       "0  62.010000  0.032325  1.62845  \n",
       "1   0.689892  0.032325  1.62845  \n",
       "2   0.349333  0.032325  1.62845  \n",
       "3   0.181692  0.032325  1.62845  "
      ]
     },
     "execution_count": 13,
     "metadata": {},
     "output_type": "execute_result"
    }
   ],
   "source": [
    "positions['OTHER']"
   ]
  },
  {
   "cell_type": "code",
   "execution_count": 14,
   "id": "e2a919b9",
   "metadata": {},
   "outputs": [],
   "source": [
    "# Options for timing are: [current_date, end_of_month, one_month, three_months, six_months, end_of_year, end_of_feb, march_expiry]\n",
    "\n",
    "def pnl_delta_plot(timing):\n",
    "    position_functions = Position_Reporting(positions, 'OTHER', timing)\n",
    "    p,d,t,v, value = position_functions.options()\n",
    "    fig_p = go.Figure()\n",
    "    for i in list(p)[1:-1]:\n",
    "        fig_p.add_trace(go.Scatter(x=p.Price, y=p[i], name=i))\n",
    "\n",
    "    fig_p.add_trace(go.Scatter(x=p.Price, y=p.Option_Pnl, mode='lines', name='Total_PnL'))\n",
    "\n",
    "    #fig_p.update_layout(title='Option PnL Today', xaxis_title='Price', yaxis_title='pnl', barmode='stack')\n",
    "    #fig_p.show()\n",
    "\n",
    "    #~~~~~~~~~~~~~~~~~~~~~~~~~~~~~~~~~~~~~~~~~~~~~~~~~~~~~~~~~~~~~~~~~~~~~~~~~~~~~~~~~\n",
    "    fig_d = go.Figure()\n",
    "    for i in list(d)[1:-1]:\n",
    "        fig_d.add_trace(go.Scatter(x=d.Price, y=d[i], name=i))\n",
    "\n",
    "    fig_d.add_trace(go.Scatter(x=d.Price, y=d.Option_Delta, mode='lines', name='Total_Delta'))\n",
    "\n",
    "    #~~~~~~~~~~~~~~~~~~~~~~~~~~~~~~~~~~~~~~~~~~~~~~~~~~~~~~~~~~~~~~~~~~~~~~~~~~~~~~~~\n",
    "    fig = make_subplots(rows=1, cols=2)\n",
    "    for i in range(0,len(fig_p.data)):\n",
    "        fig.add_trace(fig_p.data[i], row=1, col=1)\n",
    "        fig.add_trace(fig_d.data[i], row=1, col=2)\n",
    "\n",
    "    fig.update_layout(title={'text': 'Todays Option Pos (PnL and Delta)','x': 0.5,'xanchor': 'center'}, barmode='stack')\n",
    "\n",
    "    fig.update_xaxes(title_text=\"Price\", row=1, col=1)\n",
    "    fig.update_yaxes(title_text=\"Pnl\", row=1, col=1)\n",
    "    fig.update_xaxes(title_text=\"Price\", row=1, col=2)\n",
    "    fig.update_yaxes(title_text=\"Delta\", row=1, col=2)    \n",
    "    fig.show()  "
   ]
  },
  {
   "cell_type": "markdown",
   "id": "614a4b0f",
   "metadata": {},
   "source": [
    "## Current Date"
   ]
  },
  {
   "cell_type": "code",
   "execution_count": 15,
   "id": "8fab91a0",
   "metadata": {},
   "outputs": [
    {
     "data": {
      "application/vnd.plotly.v1+json": {
       "config": {
        "plotlyServerURL": "https://plot.ly"
       },
       "data": [
        {
         "name": "EUA Dec24 75C",
         "type": "scatter",
         "x": [
          30,
          31,
          32,
          33,
          34,
          35,
          36,
          37,
          38,
          39,
          40,
          41,
          42,
          43,
          44,
          45,
          46,
          47,
          48,
          49,
          50,
          51,
          52,
          53,
          54,
          55,
          56,
          57,
          58,
          59,
          60,
          61,
          62,
          63,
          64,
          65,
          66,
          67,
          68,
          69,
          70,
          71,
          72,
          73,
          74,
          75,
          76,
          77,
          78,
          79,
          80,
          81,
          82,
          83,
          84,
          85,
          86,
          87,
          88,
          89,
          90,
          91,
          92,
          93,
          94,
          95,
          96,
          97,
          98,
          99,
          100
         ],
         "xaxis": "x",
         "y": [
          -28086.385009846683,
          -28086.38350221757,
          -28086.37912228915,
          -28086.367237439583,
          -28086.336959253364,
          -28086.264196477918,
          -28086.098554228447,
          -28085.739976502813,
          -28084.999242625334,
          -28083.534403654896,
          -28080.75322458744,
          -28075.670044726015,
          -28066.70463267821,
          -28051.41107017817,
          -28026.126864453043,
          -27985.536618324422,
          -27922.150694346885,
          -27825.707112449396,
          -27682.51383677091,
          -27474.757798842467,
          -27179.81547278245,
          -26769.606533094244,
          -26210.036164032732,
          -25460.57226525732,
          -24474.000759841845,
          -23196.395491457693,
          -21567.32921599224,
          -19520.339701198754,
          -16983.650942087803,
          -13881.13510452079,
          -10133.487156417943,
          -5659.572259576425,
          -377.89670040121587,
          5791.853001879932,
          12927.260883175755,
          21101.679592084318,
          30382.829249469058,
          40831.54413833177,
          52500.70570525012,
          65434.39046113338,
          79667.25083774589,
          95224.13655352856,
          112119.95414864588,
          130359.75353156969,
          149939.02297532835,
          170844.16821618058,
          193053.1472221203,
          216536.22978545484,
          241256.85023620707,
          267172.5220886873,
          294235.7850962561,
          322395.1577509419,
          351596.07147336897,
          381781.7663537445,
          412894.13210831716,
          444874.4817196511,
          477664.24887906323,
          511205.60372727265,
          545441.9844102282,
          580318.5445788405,
          615782.5191389782,
          651783.5123000991,
          688273.7132939639,
          725208.0460697873,
          762544.2598588751,
          800242.9677860271,
          838267.6407348877,
          876584.5634979024,
          915162.7599043571,
          953973.8931643085,
          992992.1471295576
         ],
         "yaxis": "y"
        },
        {
         "name": "EUA Dec24 75C",
         "type": "scatter",
         "x": [
          30,
          31,
          32,
          33,
          34,
          35,
          36,
          37,
          38,
          39,
          40,
          41,
          42,
          43,
          44,
          45,
          46,
          47,
          48,
          49,
          50,
          51,
          52,
          53,
          54,
          55,
          56,
          57,
          58,
          59,
          60,
          61,
          62,
          63,
          64,
          65,
          66,
          67,
          68,
          69,
          70,
          71,
          72,
          73,
          74,
          75,
          76,
          77,
          78,
          79,
          80,
          81,
          82,
          83,
          84,
          85,
          86,
          87,
          88,
          89,
          90,
          91,
          92,
          93,
          94,
          95,
          96,
          97,
          98,
          99,
          100
         ],
         "xaxis": "x2",
         "y": [
          0.0005069063968404047,
          0.001536833430340014,
          0.004335826422769973,
          0.01144721852177262,
          0.02842504302254227,
          0.06668831613718136,
          0.14843320146675867,
          0.31460362829047617,
          0.6371172368742287,
          1.236628246269285,
          2.3070047650863197,
          4.1473374929916815,
          7.20164160561347,
          12.105473572769386,
          19.737528038964395,
          31.273032975471974,
          48.23459466506432,
          72.53524752178004,
          106.50801453021168,
          152.91641469245943,
          214.94112601394858,
          296.1394026648901,
          400.375743844842,
          531.7245385199388,
          694.3477366387415,
          892.3527801723449,
          1129.6378396985397,
          1409.7326625999015,
          1735.6439307502715,
          2109.713907363668,
          2533.500357509913,
          3007.68435246732,
          3532.0107607319865,
          4105.264162527886,
          4725.280781964921,
          5388.994982220312,
          6092.517058758373,
          6831.23760199574,
          7599.952651357779,
          8393.003253791912,
          9204.422860860808,
          10028.086208479124,
          10857.85385894837,
          11687.707369464539,
          12511.871002752412,
          13324.916933800512,
          14121.851959141288,
          14898.184720351464,
          15649.973363550023,
          16373.854337987712,
          17067.05366942583,
          17727.382520304727,
          18353.21917147975,
          18943.479740409795,
          19497.580004734493,
          20015.390648335997,
          20497.18811102591,
          20943.603024709882,
          21355.56797881132,
          21734.26609431356,
          22081.08161478803,
          22397.553457070935,
          22685.332413748012,
          22946.142471423293,
          23181.746507472963,
          23393.916456029398,
          23584.407891912982,
          23754.93886832554,
          23907.172758484703,
          24042.704790440737,
          24163.051925068983
         ],
         "yaxis": "y2"
        },
        {
         "name": "EUA Dec24 80C",
         "type": "scatter",
         "x": [
          30,
          31,
          32,
          33,
          34,
          35,
          36,
          37,
          38,
          39,
          40,
          41,
          42,
          43,
          44,
          45,
          46,
          47,
          48,
          49,
          50,
          51,
          52,
          53,
          54,
          55,
          56,
          57,
          58,
          59,
          60,
          61,
          62,
          63,
          64,
          65,
          66,
          67,
          68,
          69,
          70,
          71,
          72,
          73,
          74,
          75,
          76,
          77,
          78,
          79,
          80,
          81,
          82,
          83,
          84,
          85,
          86,
          87,
          88,
          89,
          90,
          91,
          92,
          93,
          94,
          95,
          96,
          97,
          98,
          99,
          100
         ],
         "xaxis": "x",
         "y": [
          -28443.55410269835,
          -28443.55322683911,
          -28443.55065784291,
          -28443.54360822627,
          -28443.52541863142,
          -28443.481087929056,
          -28443.3786193061,
          -28443.153145076114,
          -28442.679240136444,
          -28441.724879398047,
          -28439.87823175303,
          -28436.43611427316,
          -28430.24077170005,
          -28419.450111175072,
          -28401.226077487834,
          -28371.326954371103,
          -28323.592384749292,
          -28249.315007387282,
          -28136.49976231843,
          -27969.02080376912,
          -27725.695988915108,
          -27379.30927061846,
          -26895.6210548931,
          -26232.41469351002,
          -25338.632850936392,
          -24153.65978204125,
          -22606.8041269723,
          -20617.031546112124,
          -18092.987599841454,
          -14933.339265100913,
          -11027.44917712119,
          -6256.381074811673,
          -494.2190813994169,
          6390.331576104112,
          14532.108060878392,
          24067.473990780418,
          35132.1880294144,
          47859.22514682781,
          62376.61941127725,
          78805.394596155,
          97257.6433792259,
          117834.80798733568,
          140626.2054057426,
          165707.82937693447,
          193141.45000384998,
          222974.0204464527,
          255237.38948188134,
          289948.30901312275,
          327108.71727719076,
          366706.2717282461,
          408715.1004556912,
          453096.7375487826,
          499801.20596455474,
          548768.2110582803,
          599928.4088131808,
          653204.7147475225,
          708513.6222580625,
          765766.5025546163,
          824870.8621370052,
          885731.5377676971,
          948251.8129299391,
          1012334.4436886265,
          1077882.5855750644,
          1144800.6165106422,
          1212994.8538091176,
          1282374.165916841,
          1352850.4817509349,
          1424339.2022796324,
          1496759.5203742143,
          1570034.6559752617,
          1644092.0142926318
         ],
         "yaxis": "y"
        },
        {
         "name": "EUA Dec24 80C",
         "type": "scatter",
         "x": [
          30,
          31,
          32,
          33,
          34,
          35,
          36,
          37,
          38,
          39,
          40,
          41,
          42,
          43,
          44,
          45,
          46,
          47,
          48,
          49,
          50,
          51,
          52,
          53,
          54,
          55,
          56,
          57,
          58,
          59,
          60,
          61,
          62,
          63,
          64,
          65,
          66,
          67,
          68,
          69,
          70,
          71,
          72,
          73,
          74,
          75,
          76,
          77,
          78,
          79,
          80,
          81,
          82,
          83,
          84,
          85,
          86,
          87,
          88,
          89,
          90,
          91,
          92,
          93,
          94,
          95,
          96,
          97,
          98,
          99,
          100
         ],
         "xaxis": "x2",
         "y": [
          0.0002930533225498327,
          0.0008961220595979575,
          0.0025544991896164996,
          0.006825268906950411,
          0.017176245263678606,
          0.040892345242684584,
          0.09246753567104987,
          0.19931377088419042,
          0.4108764046317636,
          0.8124750918760124,
          1.5453287174549233,
          2.834201426859001,
          5.023856483372596,
          8.624976342461359,
          14.369386438828013,
          23.273338502683448,
          36.70634948677213,
          56.46178335235807,
          84.82416609501674,
          124.62731109862527,
          179.2968589674323,
          252.87092064760435,
          349.99321296953735,
          475.8743793678998,
          636.2190116864454,
          837.1180855630461,
          1084.908901043362,
          1386.0069690639095,
          1746.716393484128,
          2173.026983688171,
          2670.4074552573875,
          3243.604553265561,
          3896.4577430656664,
          4631.738294563731,
          5451.020225930106,
          6354.58879734368,
          7341.390203476214,
          8409.023961384984,
          9553.77737823306,
          10770.69954275172,
          12053.710621240154,
          13395.740927683391,
          14788.893320209116,
          16224.621963429197,
          17693.92037168134,
          19187.511873132164,
          20696.036154411788,
          22210.226295362936,
          23721.071615048237,
          25219.962655864598,
          26698.815670092896,
          28150.17498815482,
          29567.29259588189,
          30944.185095605848,
          32275.66894999645,
          33557.375495510845,
          34785.747660187546,
          35958.02063185997,
          37072.18890704784,
          38126.9622213898,
          39121.71283578204,
          40056.416546015294,
          40931.5896154867,
          41748.22361766024,
          42507.719933133594,
          43211.82538940845,
          43862.57027162836,
          44462.20967933555,
          45013.168965233264,
          45517.99377252432,
          45979.30499128332
         ],
         "yaxis": "y2"
        },
        {
         "name": "EUA Dec24 85C",
         "type": "scatter",
         "x": [
          30,
          31,
          32,
          33,
          34,
          35,
          36,
          37,
          38,
          39,
          40,
          41,
          42,
          43,
          44,
          45,
          46,
          47,
          48,
          49,
          50,
          51,
          52,
          53,
          54,
          55,
          56,
          57,
          58,
          59,
          60,
          61,
          62,
          63,
          64,
          65,
          66,
          67,
          68,
          69,
          70,
          71,
          72,
          73,
          74,
          75,
          76,
          77,
          78,
          79,
          80,
          81,
          82,
          83,
          84,
          85,
          86,
          87,
          88,
          89,
          90,
          91,
          92,
          93,
          94,
          95,
          96,
          97,
          98,
          99,
          100
         ],
         "xaxis": "x",
         "y": [
          -29587.670968508926,
          -29587.670306568783,
          -29587.668371309537,
          -29587.663066887682,
          -29587.649370214913,
          -29587.61590725486,
          -29587.538246876004,
          -29587.36642634769,
          -29587.00284231682,
          -29586.26480601493,
          -29584.82378041119,
          -29582.110682590195,
          -29577.173843127843,
          -29568.473572214505,
          -29553.59519363547,
          -29528.861339112136,
          -29488.82472173928,
          -29425.624942962455,
          -29328.197415000326,
          -29181.329285464308,
          -28964.566177281067,
          -28650.98419098313,
          -28205.853302670683,
          -27585.230181987357,
          -26734.529587154837,
          -25587.13288384696,
          -24063.09897522513,
          -22068.046287075438,
          -19492.273936697668,
          -16210.185634782367,
          -12080.071347866306,
          -6944.289708180408,
          -629.8792811760154,
          7050.390030575598,
          16296.531953887259,
          27319.449388900044,
          40338.6713548934,
          55579.77681073946,
          73271.57278210508,
          93643.10298098637,
          116920.56835505583,
          143324.2426796889,
          173065.4645342395,
          206343.7820927641,
          243344.31955355118,
          284235.4242757354,
          329166.6423838875,
          378267.0583577353,
          431644.02153796767,
          489382.2700949372,
          551543.4512977346,
          618166.0262724821,
          689265.5381433255,
          764835.2147042888,
          844846.8706812045,
          929252.0702340939,
          1017983.507573399,
          1110956.5623132254,
          1208070.9863095968,
          1309212.6800510895,
          1414255.518982488,
          1523063.193242875,
          1635491.0279834312,
          1751387.7555036803,
          1870597.2147303529,
          1992959.9579040078,
          2118314.748600852,
          2246499.9392912057,
          2377354.720435709,
          2510720.2365825367,
          2646440.568011424
         ],
         "yaxis": "y"
        },
        {
         "name": "EUA Dec24 85C",
         "type": "scatter",
         "x": [
          30,
          31,
          32,
          33,
          34,
          35,
          36,
          37,
          38,
          39,
          40,
          41,
          42,
          43,
          44,
          45,
          46,
          47,
          48,
          49,
          50,
          51,
          52,
          53,
          54,
          55,
          56,
          57,
          58,
          59,
          60,
          61,
          62,
          63,
          64,
          65,
          66,
          67,
          68,
          69,
          70,
          71,
          72,
          73,
          74,
          75,
          76,
          77,
          78,
          79,
          80,
          81,
          82,
          83,
          84,
          85,
          86,
          87,
          88,
          89,
          90,
          91,
          92,
          93,
          94,
          95,
          96,
          97,
          98,
          99,
          100
         ],
         "xaxis": "x2",
         "y": [
          0.00022211906657867663,
          0.0006761050536289299,
          0.0019227827230758178,
          0.005135707146887094,
          0.012943809001447797,
          0.03091389668350243,
          0.07023245970121754,
          0.1523079896931336,
          0.3162859176296087,
          0.6307539807770631,
          1.2111725872492827,
          2.2447334826466054,
          4.024362818430993,
          6.993375239281103,
          11.80180218662669,
          19.374636641764823,
          30.99117328091612,
          48.373337377677366,
          73.77949107964194,
          110.09882001468257,
          160.94019429415061,
          230.70852373493256,
          324.66122461051935,
          448.93758179145107,
          610.5545691129196,
          817.3640642617667,
          1077.9682835527626,
          1401.59253479281,
          1797.9168721258525,
          2276.8707434310145,
          2848.39705520222,
          3522.194065794688,
          4307.4450123365295,
          5212.546280489756,
          6244.845190789129,
          7410.398102541385,
          8713.758575074271,
          10157.80386425983,
          11743.606185981036,
          13470.353080722569,
          15335.319003122471,
          17333.888070134413,
          19459.625850287914,
          21704.39626260411,
          24058.518150555996,
          26510.954951238036,
          29049.530113949262,
          31661.160533368206,
          34332.100227889365,
          37048.18677506274,
          39795.083563682034,
          42558.511679382784,
          45324.46614857904,
          48079.41226619415,
          50810.45877196788,
          53505.50567038478,
          56153.36547033195,
          58743.85752070459,
          61267.87591409976,
          63717.432107404595,
          66085.67395791116,
          68366.88329547079,
          70556.45444943705,
          72650.85633226283,
          74647.58076120504,
          76545.07968926616,
          78342.69393093692,
          80040.5758224043,
          81639.60806416806,
          83141.32077004368,
          84547.80850261316
         ],
         "yaxis": "y2"
        },
        {
         "mode": "lines",
         "name": "Total_PnL",
         "type": "scatter",
         "x": [
          30,
          31,
          32,
          33,
          34,
          35,
          36,
          37,
          38,
          39,
          40,
          41,
          42,
          43,
          44,
          45,
          46,
          47,
          48,
          49,
          50,
          51,
          52,
          53,
          54,
          55,
          56,
          57,
          58,
          59,
          60,
          61,
          62,
          63,
          64,
          65,
          66,
          67,
          68,
          69,
          70,
          71,
          72,
          73,
          74,
          75,
          76,
          77,
          78,
          79,
          80,
          81,
          82,
          83,
          84,
          85,
          86,
          87,
          88,
          89,
          90,
          91,
          92,
          93,
          94,
          95,
          96,
          97,
          98,
          99,
          100
         ],
         "xaxis": "x",
         "y": [
          -86117.61008105396,
          -86117.60703562546,
          -86117.59815144159,
          -86117.57391255355,
          -86117.5117480997,
          -86117.36119166184,
          -86117.01542041055,
          -86116.25954792662,
          -86114.68132507859,
          -86111.52408906788,
          -86105.45523675166,
          -86094.21684158937,
          -86074.11924750611,
          -86039.33475356775,
          -85980.94813557634,
          -85885.72491180766,
          -85734.56780083546,
          -85500.64706279914,
          -85147.21101408967,
          -84625.1078880759,
          -83870.07763897863,
          -82799.89999469584,
          -81311.51052159652,
          -79278.2171407547,
          -76547.16319793309,
          -72937.18815734591,
          -68237.23231818966,
          -62205.41753438632,
          -54568.912478626924,
          -45024.66000440407,
          -33241.007681405434,
          -18860.243042568505,
          -1501.9950629766481,
          19232.57460855964,
          43755.90089794141,
          72488.60297176478,
          105853.68863377685,
          144270.54609589904,
          188148.89789863245,
          237882.88803827477,
          293845.46257202764,
          356383.18722055317,
          425811.624088628,
          502411.3650012683,
          586424.7925327295,
          678053.6129383687,
          777457.1790878891,
          884751.5971563129,
          1000009.5890513656,
          1123261.0639118706,
          1254494.336849682,
          1393657.9215722065,
          1540662.815581249,
          1695385.1921163136,
          1857669.4116027025,
          2027331.2667012676,
          2204161.3787105246,
          2387928.6685951143,
          2578383.83285683,
          2775262.7623976273,
          2978289.851051405,
          3187181.1492316006,
          3401647.3268524595,
          3621396.41808411,
          3846136.3283983455,
          4075577.091606876,
          4309432.871086675,
          4547423.705068741,
          4789277.000714281,
          5034728.785722107,
          5283524.729433613
         ],
         "yaxis": "y"
        },
        {
         "mode": "lines",
         "name": "Total_Delta",
         "type": "scatter",
         "x": [
          30,
          31,
          32,
          33,
          34,
          35,
          36,
          37,
          38,
          39,
          40,
          41,
          42,
          43,
          44,
          45,
          46,
          47,
          48,
          49,
          50,
          51,
          52,
          53,
          54,
          55,
          56,
          57,
          58,
          59,
          60,
          61,
          62,
          63,
          64,
          65,
          66,
          67,
          68,
          69,
          70,
          71,
          72,
          73,
          74,
          75,
          76,
          77,
          78,
          79,
          80,
          81,
          82,
          83,
          84,
          85,
          86,
          87,
          88,
          89,
          90,
          91,
          92,
          93,
          94,
          95,
          96,
          97,
          98,
          99,
          100
         ],
         "xaxis": "x2",
         "y": [
          0.0010220787859689141,
          0.003109060543566902,
          0.00881310833546229,
          0.02340819457561013,
          0.05854509728766867,
          0.13849455806336836,
          0.31113319683902607,
          0.6662253888678003,
          1.364279559135601,
          2.6798573189223602,
          5.063506069790526,
          9.226272402497287,
          16.24986090741706,
          27.723825154511847,
          45.908716664419096,
          73.92100811992024,
          115.93211743275256,
          177.37036825181545,
          265.1116717048704,
          387.64254580576727,
          555.1781792755315,
          779.718847047427,
          1075.0301814248987,
          1456.5364996792896,
          1941.1213174381064,
          2546.8349299971574,
          3292.5150242946647,
          4197.332166456621,
          5280.277196360252,
          6559.611634482853,
          8052.30486796952,
          9773.48297152757,
          11735.913516134182,
          13949.548737581374,
          16421.146198684157,
          19153.981882105378,
          22147.665837308858,
          25398.065427640555,
          28897.336215571875,
          32634.0558772662,
          36593.45248522343,
          40757.715206296925,
          45106.3730294454,
          49616.72559549785,
          54264.309524989745,
          59023.38375817071,
          63867.418227502334,
          68769.57154908261,
          73703.14520648762,
          78642.00376891505,
          83560.95290320076,
          88436.06918784234,
          93244.97791594068,
          97967.07710220979,
          102583.70772669882,
          107078.27181423162,
          111436.3012415454,
          115645.48117727443,
          119695.63279995893,
          123578.66042310794,
          127288.46840848123,
          130820.85329855702,
          134173.37647867177,
          137345.22242134635,
          140337.0472018116,
          143150.821534704,
          145789.67209447827,
          148257.72437006538,
          150559.94978788603,
          152702.01933300873,
          154690.16541896545
         ],
         "yaxis": "y2"
        }
       ],
       "layout": {
        "barmode": "stack",
        "template": {
         "data": {
          "bar": [
           {
            "error_x": {
             "color": "#2a3f5f"
            },
            "error_y": {
             "color": "#2a3f5f"
            },
            "marker": {
             "line": {
              "color": "#E5ECF6",
              "width": 0.5
             },
             "pattern": {
              "fillmode": "overlay",
              "size": 10,
              "solidity": 0.2
             }
            },
            "type": "bar"
           }
          ],
          "barpolar": [
           {
            "marker": {
             "line": {
              "color": "#E5ECF6",
              "width": 0.5
             },
             "pattern": {
              "fillmode": "overlay",
              "size": 10,
              "solidity": 0.2
             }
            },
            "type": "barpolar"
           }
          ],
          "carpet": [
           {
            "aaxis": {
             "endlinecolor": "#2a3f5f",
             "gridcolor": "white",
             "linecolor": "white",
             "minorgridcolor": "white",
             "startlinecolor": "#2a3f5f"
            },
            "baxis": {
             "endlinecolor": "#2a3f5f",
             "gridcolor": "white",
             "linecolor": "white",
             "minorgridcolor": "white",
             "startlinecolor": "#2a3f5f"
            },
            "type": "carpet"
           }
          ],
          "choropleth": [
           {
            "colorbar": {
             "outlinewidth": 0,
             "ticks": ""
            },
            "type": "choropleth"
           }
          ],
          "contour": [
           {
            "colorbar": {
             "outlinewidth": 0,
             "ticks": ""
            },
            "colorscale": [
             [
              0,
              "#0d0887"
             ],
             [
              0.1111111111111111,
              "#46039f"
             ],
             [
              0.2222222222222222,
              "#7201a8"
             ],
             [
              0.3333333333333333,
              "#9c179e"
             ],
             [
              0.4444444444444444,
              "#bd3786"
             ],
             [
              0.5555555555555556,
              "#d8576b"
             ],
             [
              0.6666666666666666,
              "#ed7953"
             ],
             [
              0.7777777777777778,
              "#fb9f3a"
             ],
             [
              0.8888888888888888,
              "#fdca26"
             ],
             [
              1,
              "#f0f921"
             ]
            ],
            "type": "contour"
           }
          ],
          "contourcarpet": [
           {
            "colorbar": {
             "outlinewidth": 0,
             "ticks": ""
            },
            "type": "contourcarpet"
           }
          ],
          "heatmap": [
           {
            "colorbar": {
             "outlinewidth": 0,
             "ticks": ""
            },
            "colorscale": [
             [
              0,
              "#0d0887"
             ],
             [
              0.1111111111111111,
              "#46039f"
             ],
             [
              0.2222222222222222,
              "#7201a8"
             ],
             [
              0.3333333333333333,
              "#9c179e"
             ],
             [
              0.4444444444444444,
              "#bd3786"
             ],
             [
              0.5555555555555556,
              "#d8576b"
             ],
             [
              0.6666666666666666,
              "#ed7953"
             ],
             [
              0.7777777777777778,
              "#fb9f3a"
             ],
             [
              0.8888888888888888,
              "#fdca26"
             ],
             [
              1,
              "#f0f921"
             ]
            ],
            "type": "heatmap"
           }
          ],
          "heatmapgl": [
           {
            "colorbar": {
             "outlinewidth": 0,
             "ticks": ""
            },
            "colorscale": [
             [
              0,
              "#0d0887"
             ],
             [
              0.1111111111111111,
              "#46039f"
             ],
             [
              0.2222222222222222,
              "#7201a8"
             ],
             [
              0.3333333333333333,
              "#9c179e"
             ],
             [
              0.4444444444444444,
              "#bd3786"
             ],
             [
              0.5555555555555556,
              "#d8576b"
             ],
             [
              0.6666666666666666,
              "#ed7953"
             ],
             [
              0.7777777777777778,
              "#fb9f3a"
             ],
             [
              0.8888888888888888,
              "#fdca26"
             ],
             [
              1,
              "#f0f921"
             ]
            ],
            "type": "heatmapgl"
           }
          ],
          "histogram": [
           {
            "marker": {
             "pattern": {
              "fillmode": "overlay",
              "size": 10,
              "solidity": 0.2
             }
            },
            "type": "histogram"
           }
          ],
          "histogram2d": [
           {
            "colorbar": {
             "outlinewidth": 0,
             "ticks": ""
            },
            "colorscale": [
             [
              0,
              "#0d0887"
             ],
             [
              0.1111111111111111,
              "#46039f"
             ],
             [
              0.2222222222222222,
              "#7201a8"
             ],
             [
              0.3333333333333333,
              "#9c179e"
             ],
             [
              0.4444444444444444,
              "#bd3786"
             ],
             [
              0.5555555555555556,
              "#d8576b"
             ],
             [
              0.6666666666666666,
              "#ed7953"
             ],
             [
              0.7777777777777778,
              "#fb9f3a"
             ],
             [
              0.8888888888888888,
              "#fdca26"
             ],
             [
              1,
              "#f0f921"
             ]
            ],
            "type": "histogram2d"
           }
          ],
          "histogram2dcontour": [
           {
            "colorbar": {
             "outlinewidth": 0,
             "ticks": ""
            },
            "colorscale": [
             [
              0,
              "#0d0887"
             ],
             [
              0.1111111111111111,
              "#46039f"
             ],
             [
              0.2222222222222222,
              "#7201a8"
             ],
             [
              0.3333333333333333,
              "#9c179e"
             ],
             [
              0.4444444444444444,
              "#bd3786"
             ],
             [
              0.5555555555555556,
              "#d8576b"
             ],
             [
              0.6666666666666666,
              "#ed7953"
             ],
             [
              0.7777777777777778,
              "#fb9f3a"
             ],
             [
              0.8888888888888888,
              "#fdca26"
             ],
             [
              1,
              "#f0f921"
             ]
            ],
            "type": "histogram2dcontour"
           }
          ],
          "mesh3d": [
           {
            "colorbar": {
             "outlinewidth": 0,
             "ticks": ""
            },
            "type": "mesh3d"
           }
          ],
          "parcoords": [
           {
            "line": {
             "colorbar": {
              "outlinewidth": 0,
              "ticks": ""
             }
            },
            "type": "parcoords"
           }
          ],
          "pie": [
           {
            "automargin": true,
            "type": "pie"
           }
          ],
          "scatter": [
           {
            "fillpattern": {
             "fillmode": "overlay",
             "size": 10,
             "solidity": 0.2
            },
            "type": "scatter"
           }
          ],
          "scatter3d": [
           {
            "line": {
             "colorbar": {
              "outlinewidth": 0,
              "ticks": ""
             }
            },
            "marker": {
             "colorbar": {
              "outlinewidth": 0,
              "ticks": ""
             }
            },
            "type": "scatter3d"
           }
          ],
          "scattercarpet": [
           {
            "marker": {
             "colorbar": {
              "outlinewidth": 0,
              "ticks": ""
             }
            },
            "type": "scattercarpet"
           }
          ],
          "scattergeo": [
           {
            "marker": {
             "colorbar": {
              "outlinewidth": 0,
              "ticks": ""
             }
            },
            "type": "scattergeo"
           }
          ],
          "scattergl": [
           {
            "marker": {
             "colorbar": {
              "outlinewidth": 0,
              "ticks": ""
             }
            },
            "type": "scattergl"
           }
          ],
          "scattermapbox": [
           {
            "marker": {
             "colorbar": {
              "outlinewidth": 0,
              "ticks": ""
             }
            },
            "type": "scattermapbox"
           }
          ],
          "scatterpolar": [
           {
            "marker": {
             "colorbar": {
              "outlinewidth": 0,
              "ticks": ""
             }
            },
            "type": "scatterpolar"
           }
          ],
          "scatterpolargl": [
           {
            "marker": {
             "colorbar": {
              "outlinewidth": 0,
              "ticks": ""
             }
            },
            "type": "scatterpolargl"
           }
          ],
          "scatterternary": [
           {
            "marker": {
             "colorbar": {
              "outlinewidth": 0,
              "ticks": ""
             }
            },
            "type": "scatterternary"
           }
          ],
          "surface": [
           {
            "colorbar": {
             "outlinewidth": 0,
             "ticks": ""
            },
            "colorscale": [
             [
              0,
              "#0d0887"
             ],
             [
              0.1111111111111111,
              "#46039f"
             ],
             [
              0.2222222222222222,
              "#7201a8"
             ],
             [
              0.3333333333333333,
              "#9c179e"
             ],
             [
              0.4444444444444444,
              "#bd3786"
             ],
             [
              0.5555555555555556,
              "#d8576b"
             ],
             [
              0.6666666666666666,
              "#ed7953"
             ],
             [
              0.7777777777777778,
              "#fb9f3a"
             ],
             [
              0.8888888888888888,
              "#fdca26"
             ],
             [
              1,
              "#f0f921"
             ]
            ],
            "type": "surface"
           }
          ],
          "table": [
           {
            "cells": {
             "fill": {
              "color": "#EBF0F8"
             },
             "line": {
              "color": "white"
             }
            },
            "header": {
             "fill": {
              "color": "#C8D4E3"
             },
             "line": {
              "color": "white"
             }
            },
            "type": "table"
           }
          ]
         },
         "layout": {
          "annotationdefaults": {
           "arrowcolor": "#2a3f5f",
           "arrowhead": 0,
           "arrowwidth": 1
          },
          "autotypenumbers": "strict",
          "coloraxis": {
           "colorbar": {
            "outlinewidth": 0,
            "ticks": ""
           }
          },
          "colorscale": {
           "diverging": [
            [
             0,
             "#8e0152"
            ],
            [
             0.1,
             "#c51b7d"
            ],
            [
             0.2,
             "#de77ae"
            ],
            [
             0.3,
             "#f1b6da"
            ],
            [
             0.4,
             "#fde0ef"
            ],
            [
             0.5,
             "#f7f7f7"
            ],
            [
             0.6,
             "#e6f5d0"
            ],
            [
             0.7,
             "#b8e186"
            ],
            [
             0.8,
             "#7fbc41"
            ],
            [
             0.9,
             "#4d9221"
            ],
            [
             1,
             "#276419"
            ]
           ],
           "sequential": [
            [
             0,
             "#0d0887"
            ],
            [
             0.1111111111111111,
             "#46039f"
            ],
            [
             0.2222222222222222,
             "#7201a8"
            ],
            [
             0.3333333333333333,
             "#9c179e"
            ],
            [
             0.4444444444444444,
             "#bd3786"
            ],
            [
             0.5555555555555556,
             "#d8576b"
            ],
            [
             0.6666666666666666,
             "#ed7953"
            ],
            [
             0.7777777777777778,
             "#fb9f3a"
            ],
            [
             0.8888888888888888,
             "#fdca26"
            ],
            [
             1,
             "#f0f921"
            ]
           ],
           "sequentialminus": [
            [
             0,
             "#0d0887"
            ],
            [
             0.1111111111111111,
             "#46039f"
            ],
            [
             0.2222222222222222,
             "#7201a8"
            ],
            [
             0.3333333333333333,
             "#9c179e"
            ],
            [
             0.4444444444444444,
             "#bd3786"
            ],
            [
             0.5555555555555556,
             "#d8576b"
            ],
            [
             0.6666666666666666,
             "#ed7953"
            ],
            [
             0.7777777777777778,
             "#fb9f3a"
            ],
            [
             0.8888888888888888,
             "#fdca26"
            ],
            [
             1,
             "#f0f921"
            ]
           ]
          },
          "colorway": [
           "#636efa",
           "#EF553B",
           "#00cc96",
           "#ab63fa",
           "#FFA15A",
           "#19d3f3",
           "#FF6692",
           "#B6E880",
           "#FF97FF",
           "#FECB52"
          ],
          "font": {
           "color": "#2a3f5f"
          },
          "geo": {
           "bgcolor": "white",
           "lakecolor": "white",
           "landcolor": "#E5ECF6",
           "showlakes": true,
           "showland": true,
           "subunitcolor": "white"
          },
          "hoverlabel": {
           "align": "left"
          },
          "hovermode": "closest",
          "mapbox": {
           "style": "light"
          },
          "paper_bgcolor": "white",
          "plot_bgcolor": "#E5ECF6",
          "polar": {
           "angularaxis": {
            "gridcolor": "white",
            "linecolor": "white",
            "ticks": ""
           },
           "bgcolor": "#E5ECF6",
           "radialaxis": {
            "gridcolor": "white",
            "linecolor": "white",
            "ticks": ""
           }
          },
          "scene": {
           "xaxis": {
            "backgroundcolor": "#E5ECF6",
            "gridcolor": "white",
            "gridwidth": 2,
            "linecolor": "white",
            "showbackground": true,
            "ticks": "",
            "zerolinecolor": "white"
           },
           "yaxis": {
            "backgroundcolor": "#E5ECF6",
            "gridcolor": "white",
            "gridwidth": 2,
            "linecolor": "white",
            "showbackground": true,
            "ticks": "",
            "zerolinecolor": "white"
           },
           "zaxis": {
            "backgroundcolor": "#E5ECF6",
            "gridcolor": "white",
            "gridwidth": 2,
            "linecolor": "white",
            "showbackground": true,
            "ticks": "",
            "zerolinecolor": "white"
           }
          },
          "shapedefaults": {
           "line": {
            "color": "#2a3f5f"
           }
          },
          "ternary": {
           "aaxis": {
            "gridcolor": "white",
            "linecolor": "white",
            "ticks": ""
           },
           "baxis": {
            "gridcolor": "white",
            "linecolor": "white",
            "ticks": ""
           },
           "bgcolor": "#E5ECF6",
           "caxis": {
            "gridcolor": "white",
            "linecolor": "white",
            "ticks": ""
           }
          },
          "title": {
           "x": 0.05
          },
          "xaxis": {
           "automargin": true,
           "gridcolor": "white",
           "linecolor": "white",
           "ticks": "",
           "title": {
            "standoff": 15
           },
           "zerolinecolor": "white",
           "zerolinewidth": 2
          },
          "yaxis": {
           "automargin": true,
           "gridcolor": "white",
           "linecolor": "white",
           "ticks": "",
           "title": {
            "standoff": 15
           },
           "zerolinecolor": "white",
           "zerolinewidth": 2
          }
         }
        },
        "title": {
         "text": "Todays Option Pos (PnL and Delta)",
         "x": 0.5,
         "xanchor": "center"
        },
        "xaxis": {
         "anchor": "y",
         "domain": [
          0,
          0.45
         ],
         "title": {
          "text": "Price"
         }
        },
        "xaxis2": {
         "anchor": "y2",
         "domain": [
          0.55,
          1
         ],
         "title": {
          "text": "Price"
         }
        },
        "yaxis": {
         "anchor": "x",
         "domain": [
          0,
          1
         ],
         "title": {
          "text": "Pnl"
         }
        },
        "yaxis2": {
         "anchor": "x2",
         "domain": [
          0,
          1
         ],
         "title": {
          "text": "Delta"
         }
        }
       }
      },
      "text/html": [
       "<div>                            <div id=\"08d0e147-435b-4eb7-9657-8205cb8ec569\" class=\"plotly-graph-div\" style=\"height:525px; width:100%;\"></div>            <script type=\"text/javascript\">                require([\"plotly\"], function(Plotly) {                    window.PLOTLYENV=window.PLOTLYENV || {};                                    if (document.getElementById(\"08d0e147-435b-4eb7-9657-8205cb8ec569\")) {                    Plotly.newPlot(                        \"08d0e147-435b-4eb7-9657-8205cb8ec569\",                        [{\"name\":\"EUA Dec24 75C\",\"x\":[30,31,32,33,34,35,36,37,38,39,40,41,42,43,44,45,46,47,48,49,50,51,52,53,54,55,56,57,58,59,60,61,62,63,64,65,66,67,68,69,70,71,72,73,74,75,76,77,78,79,80,81,82,83,84,85,86,87,88,89,90,91,92,93,94,95,96,97,98,99,100],\"y\":[-28086.385009846683,-28086.38350221757,-28086.37912228915,-28086.367237439583,-28086.336959253364,-28086.264196477918,-28086.098554228447,-28085.739976502813,-28084.999242625334,-28083.534403654896,-28080.75322458744,-28075.670044726015,-28066.70463267821,-28051.41107017817,-28026.126864453043,-27985.536618324422,-27922.150694346885,-27825.707112449396,-27682.51383677091,-27474.757798842467,-27179.81547278245,-26769.606533094244,-26210.036164032732,-25460.57226525732,-24474.000759841845,-23196.395491457693,-21567.32921599224,-19520.339701198754,-16983.650942087803,-13881.13510452079,-10133.487156417943,-5659.572259576425,-377.89670040121587,5791.853001879932,12927.260883175755,21101.679592084318,30382.829249469058,40831.54413833177,52500.70570525012,65434.39046113338,79667.25083774589,95224.13655352856,112119.95414864588,130359.75353156969,149939.02297532835,170844.16821618058,193053.1472221203,216536.22978545484,241256.85023620707,267172.5220886873,294235.7850962561,322395.1577509419,351596.07147336897,381781.7663537445,412894.13210831716,444874.4817196511,477664.24887906323,511205.60372727265,545441.9844102282,580318.5445788405,615782.5191389782,651783.5123000991,688273.7132939639,725208.0460697873,762544.2598588751,800242.9677860271,838267.6407348877,876584.5634979024,915162.7599043571,953973.8931643085,992992.1471295576],\"type\":\"scatter\",\"xaxis\":\"x\",\"yaxis\":\"y\"},{\"name\":\"EUA Dec24 75C\",\"x\":[30,31,32,33,34,35,36,37,38,39,40,41,42,43,44,45,46,47,48,49,50,51,52,53,54,55,56,57,58,59,60,61,62,63,64,65,66,67,68,69,70,71,72,73,74,75,76,77,78,79,80,81,82,83,84,85,86,87,88,89,90,91,92,93,94,95,96,97,98,99,100],\"y\":[0.0005069063968404047,0.001536833430340014,0.004335826422769973,0.01144721852177262,0.02842504302254227,0.06668831613718136,0.14843320146675867,0.31460362829047617,0.6371172368742287,1.236628246269285,2.3070047650863197,4.1473374929916815,7.20164160561347,12.105473572769386,19.737528038964395,31.273032975471974,48.23459466506432,72.53524752178004,106.50801453021168,152.91641469245943,214.94112601394858,296.1394026648901,400.375743844842,531.7245385199388,694.3477366387415,892.3527801723449,1129.6378396985397,1409.7326625999015,1735.6439307502715,2109.713907363668,2533.500357509913,3007.68435246732,3532.0107607319865,4105.264162527886,4725.280781964921,5388.994982220312,6092.517058758373,6831.23760199574,7599.952651357779,8393.003253791912,9204.422860860808,10028.086208479124,10857.85385894837,11687.707369464539,12511.871002752412,13324.916933800512,14121.851959141288,14898.184720351464,15649.973363550023,16373.854337987712,17067.05366942583,17727.382520304727,18353.21917147975,18943.479740409795,19497.580004734493,20015.390648335997,20497.18811102591,20943.603024709882,21355.56797881132,21734.26609431356,22081.08161478803,22397.553457070935,22685.332413748012,22946.142471423293,23181.746507472963,23393.916456029398,23584.407891912982,23754.93886832554,23907.172758484703,24042.704790440737,24163.051925068983],\"type\":\"scatter\",\"xaxis\":\"x2\",\"yaxis\":\"y2\"},{\"name\":\"EUA Dec24 80C\",\"x\":[30,31,32,33,34,35,36,37,38,39,40,41,42,43,44,45,46,47,48,49,50,51,52,53,54,55,56,57,58,59,60,61,62,63,64,65,66,67,68,69,70,71,72,73,74,75,76,77,78,79,80,81,82,83,84,85,86,87,88,89,90,91,92,93,94,95,96,97,98,99,100],\"y\":[-28443.55410269835,-28443.55322683911,-28443.55065784291,-28443.54360822627,-28443.52541863142,-28443.481087929056,-28443.3786193061,-28443.153145076114,-28442.679240136444,-28441.724879398047,-28439.87823175303,-28436.43611427316,-28430.24077170005,-28419.450111175072,-28401.226077487834,-28371.326954371103,-28323.592384749292,-28249.315007387282,-28136.49976231843,-27969.02080376912,-27725.695988915108,-27379.30927061846,-26895.6210548931,-26232.41469351002,-25338.632850936392,-24153.65978204125,-22606.8041269723,-20617.031546112124,-18092.987599841454,-14933.339265100913,-11027.44917712119,-6256.381074811673,-494.2190813994169,6390.331576104112,14532.108060878392,24067.473990780418,35132.1880294144,47859.22514682781,62376.61941127725,78805.394596155,97257.6433792259,117834.80798733568,140626.2054057426,165707.82937693447,193141.45000384998,222974.0204464527,255237.38948188134,289948.30901312275,327108.71727719076,366706.2717282461,408715.1004556912,453096.7375487826,499801.20596455474,548768.2110582803,599928.4088131808,653204.7147475225,708513.6222580625,765766.5025546163,824870.8621370052,885731.5377676971,948251.8129299391,1012334.4436886265,1077882.5855750644,1144800.6165106422,1212994.8538091176,1282374.165916841,1352850.4817509349,1424339.2022796324,1496759.5203742143,1570034.6559752617,1644092.0142926318],\"type\":\"scatter\",\"xaxis\":\"x\",\"yaxis\":\"y\"},{\"name\":\"EUA Dec24 80C\",\"x\":[30,31,32,33,34,35,36,37,38,39,40,41,42,43,44,45,46,47,48,49,50,51,52,53,54,55,56,57,58,59,60,61,62,63,64,65,66,67,68,69,70,71,72,73,74,75,76,77,78,79,80,81,82,83,84,85,86,87,88,89,90,91,92,93,94,95,96,97,98,99,100],\"y\":[0.0002930533225498327,0.0008961220595979575,0.0025544991896164996,0.006825268906950411,0.017176245263678606,0.040892345242684584,0.09246753567104987,0.19931377088419042,0.4108764046317636,0.8124750918760124,1.5453287174549233,2.834201426859001,5.023856483372596,8.624976342461359,14.369386438828013,23.273338502683448,36.70634948677213,56.46178335235807,84.82416609501674,124.62731109862527,179.2968589674323,252.87092064760435,349.99321296953735,475.8743793678998,636.2190116864454,837.1180855630461,1084.908901043362,1386.0069690639095,1746.716393484128,2173.026983688171,2670.4074552573875,3243.604553265561,3896.4577430656664,4631.738294563731,5451.020225930106,6354.58879734368,7341.390203476214,8409.023961384984,9553.77737823306,10770.69954275172,12053.710621240154,13395.740927683391,14788.893320209116,16224.621963429197,17693.92037168134,19187.511873132164,20696.036154411788,22210.226295362936,23721.071615048237,25219.962655864598,26698.815670092896,28150.17498815482,29567.29259588189,30944.185095605848,32275.66894999645,33557.375495510845,34785.747660187546,35958.02063185997,37072.18890704784,38126.9622213898,39121.71283578204,40056.416546015294,40931.5896154867,41748.22361766024,42507.719933133594,43211.82538940845,43862.57027162836,44462.20967933555,45013.168965233264,45517.99377252432,45979.30499128332],\"type\":\"scatter\",\"xaxis\":\"x2\",\"yaxis\":\"y2\"},{\"name\":\"EUA Dec24 85C\",\"x\":[30,31,32,33,34,35,36,37,38,39,40,41,42,43,44,45,46,47,48,49,50,51,52,53,54,55,56,57,58,59,60,61,62,63,64,65,66,67,68,69,70,71,72,73,74,75,76,77,78,79,80,81,82,83,84,85,86,87,88,89,90,91,92,93,94,95,96,97,98,99,100],\"y\":[-29587.670968508926,-29587.670306568783,-29587.668371309537,-29587.663066887682,-29587.649370214913,-29587.61590725486,-29587.538246876004,-29587.36642634769,-29587.00284231682,-29586.26480601493,-29584.82378041119,-29582.110682590195,-29577.173843127843,-29568.473572214505,-29553.59519363547,-29528.861339112136,-29488.82472173928,-29425.624942962455,-29328.197415000326,-29181.329285464308,-28964.566177281067,-28650.98419098313,-28205.853302670683,-27585.230181987357,-26734.529587154837,-25587.13288384696,-24063.09897522513,-22068.046287075438,-19492.273936697668,-16210.185634782367,-12080.071347866306,-6944.289708180408,-629.8792811760154,7050.390030575598,16296.531953887259,27319.449388900044,40338.6713548934,55579.77681073946,73271.57278210508,93643.10298098637,116920.56835505583,143324.2426796889,173065.4645342395,206343.7820927641,243344.31955355118,284235.4242757354,329166.6423838875,378267.0583577353,431644.02153796767,489382.2700949372,551543.4512977346,618166.0262724821,689265.5381433255,764835.2147042888,844846.8706812045,929252.0702340939,1017983.507573399,1110956.5623132254,1208070.9863095968,1309212.6800510895,1414255.518982488,1523063.193242875,1635491.0279834312,1751387.7555036803,1870597.2147303529,1992959.9579040078,2118314.748600852,2246499.9392912057,2377354.720435709,2510720.2365825367,2646440.568011424],\"type\":\"scatter\",\"xaxis\":\"x\",\"yaxis\":\"y\"},{\"name\":\"EUA Dec24 85C\",\"x\":[30,31,32,33,34,35,36,37,38,39,40,41,42,43,44,45,46,47,48,49,50,51,52,53,54,55,56,57,58,59,60,61,62,63,64,65,66,67,68,69,70,71,72,73,74,75,76,77,78,79,80,81,82,83,84,85,86,87,88,89,90,91,92,93,94,95,96,97,98,99,100],\"y\":[0.00022211906657867663,0.0006761050536289299,0.0019227827230758178,0.005135707146887094,0.012943809001447797,0.03091389668350243,0.07023245970121754,0.1523079896931336,0.3162859176296087,0.6307539807770631,1.2111725872492827,2.2447334826466054,4.024362818430993,6.993375239281103,11.80180218662669,19.374636641764823,30.99117328091612,48.373337377677366,73.77949107964194,110.09882001468257,160.94019429415061,230.70852373493256,324.66122461051935,448.93758179145107,610.5545691129196,817.3640642617667,1077.9682835527626,1401.59253479281,1797.9168721258525,2276.8707434310145,2848.39705520222,3522.194065794688,4307.4450123365295,5212.546280489756,6244.845190789129,7410.398102541385,8713.758575074271,10157.80386425983,11743.606185981036,13470.353080722569,15335.319003122471,17333.888070134413,19459.625850287914,21704.39626260411,24058.518150555996,26510.954951238036,29049.530113949262,31661.160533368206,34332.100227889365,37048.18677506274,39795.083563682034,42558.511679382784,45324.46614857904,48079.41226619415,50810.45877196788,53505.50567038478,56153.36547033195,58743.85752070459,61267.87591409976,63717.432107404595,66085.67395791116,68366.88329547079,70556.45444943705,72650.85633226283,74647.58076120504,76545.07968926616,78342.69393093692,80040.5758224043,81639.60806416806,83141.32077004368,84547.80850261316],\"type\":\"scatter\",\"xaxis\":\"x2\",\"yaxis\":\"y2\"},{\"mode\":\"lines\",\"name\":\"Total_PnL\",\"x\":[30,31,32,33,34,35,36,37,38,39,40,41,42,43,44,45,46,47,48,49,50,51,52,53,54,55,56,57,58,59,60,61,62,63,64,65,66,67,68,69,70,71,72,73,74,75,76,77,78,79,80,81,82,83,84,85,86,87,88,89,90,91,92,93,94,95,96,97,98,99,100],\"y\":[-86117.61008105396,-86117.60703562546,-86117.59815144159,-86117.57391255355,-86117.5117480997,-86117.36119166184,-86117.01542041055,-86116.25954792662,-86114.68132507859,-86111.52408906788,-86105.45523675166,-86094.21684158937,-86074.11924750611,-86039.33475356775,-85980.94813557634,-85885.72491180766,-85734.56780083546,-85500.64706279914,-85147.21101408967,-84625.1078880759,-83870.07763897863,-82799.89999469584,-81311.51052159652,-79278.2171407547,-76547.16319793309,-72937.18815734591,-68237.23231818966,-62205.41753438632,-54568.912478626924,-45024.66000440407,-33241.007681405434,-18860.243042568505,-1501.9950629766481,19232.57460855964,43755.90089794141,72488.60297176478,105853.68863377685,144270.54609589904,188148.89789863245,237882.88803827477,293845.46257202764,356383.18722055317,425811.624088628,502411.3650012683,586424.7925327295,678053.6129383687,777457.1790878891,884751.5971563129,1000009.5890513656,1123261.0639118706,1254494.336849682,1393657.9215722065,1540662.815581249,1695385.1921163136,1857669.4116027025,2027331.2667012676,2204161.3787105246,2387928.6685951143,2578383.83285683,2775262.7623976273,2978289.851051405,3187181.1492316006,3401647.3268524595,3621396.41808411,3846136.3283983455,4075577.091606876,4309432.871086675,4547423.705068741,4789277.000714281,5034728.785722107,5283524.729433613],\"type\":\"scatter\",\"xaxis\":\"x\",\"yaxis\":\"y\"},{\"mode\":\"lines\",\"name\":\"Total_Delta\",\"x\":[30,31,32,33,34,35,36,37,38,39,40,41,42,43,44,45,46,47,48,49,50,51,52,53,54,55,56,57,58,59,60,61,62,63,64,65,66,67,68,69,70,71,72,73,74,75,76,77,78,79,80,81,82,83,84,85,86,87,88,89,90,91,92,93,94,95,96,97,98,99,100],\"y\":[0.0010220787859689141,0.003109060543566902,0.00881310833546229,0.02340819457561013,0.05854509728766867,0.13849455806336836,0.31113319683902607,0.6662253888678003,1.364279559135601,2.6798573189223602,5.063506069790526,9.226272402497287,16.24986090741706,27.723825154511847,45.908716664419096,73.92100811992024,115.93211743275256,177.37036825181545,265.1116717048704,387.64254580576727,555.1781792755315,779.718847047427,1075.0301814248987,1456.5364996792896,1941.1213174381064,2546.8349299971574,3292.5150242946647,4197.332166456621,5280.277196360252,6559.611634482853,8052.30486796952,9773.48297152757,11735.913516134182,13949.548737581374,16421.146198684157,19153.981882105378,22147.665837308858,25398.065427640555,28897.336215571875,32634.0558772662,36593.45248522343,40757.715206296925,45106.3730294454,49616.72559549785,54264.309524989745,59023.38375817071,63867.418227502334,68769.57154908261,73703.14520648762,78642.00376891505,83560.95290320076,88436.06918784234,93244.97791594068,97967.07710220979,102583.70772669882,107078.27181423162,111436.3012415454,115645.48117727443,119695.63279995893,123578.66042310794,127288.46840848123,130820.85329855702,134173.37647867177,137345.22242134635,140337.0472018116,143150.821534704,145789.67209447827,148257.72437006538,150559.94978788603,152702.01933300873,154690.16541896545],\"type\":\"scatter\",\"xaxis\":\"x2\",\"yaxis\":\"y2\"}],                        {\"template\":{\"data\":{\"histogram2dcontour\":[{\"type\":\"histogram2dcontour\",\"colorbar\":{\"outlinewidth\":0,\"ticks\":\"\"},\"colorscale\":[[0.0,\"#0d0887\"],[0.1111111111111111,\"#46039f\"],[0.2222222222222222,\"#7201a8\"],[0.3333333333333333,\"#9c179e\"],[0.4444444444444444,\"#bd3786\"],[0.5555555555555556,\"#d8576b\"],[0.6666666666666666,\"#ed7953\"],[0.7777777777777778,\"#fb9f3a\"],[0.8888888888888888,\"#fdca26\"],[1.0,\"#f0f921\"]]}],\"choropleth\":[{\"type\":\"choropleth\",\"colorbar\":{\"outlinewidth\":0,\"ticks\":\"\"}}],\"histogram2d\":[{\"type\":\"histogram2d\",\"colorbar\":{\"outlinewidth\":0,\"ticks\":\"\"},\"colorscale\":[[0.0,\"#0d0887\"],[0.1111111111111111,\"#46039f\"],[0.2222222222222222,\"#7201a8\"],[0.3333333333333333,\"#9c179e\"],[0.4444444444444444,\"#bd3786\"],[0.5555555555555556,\"#d8576b\"],[0.6666666666666666,\"#ed7953\"],[0.7777777777777778,\"#fb9f3a\"],[0.8888888888888888,\"#fdca26\"],[1.0,\"#f0f921\"]]}],\"heatmap\":[{\"type\":\"heatmap\",\"colorbar\":{\"outlinewidth\":0,\"ticks\":\"\"},\"colorscale\":[[0.0,\"#0d0887\"],[0.1111111111111111,\"#46039f\"],[0.2222222222222222,\"#7201a8\"],[0.3333333333333333,\"#9c179e\"],[0.4444444444444444,\"#bd3786\"],[0.5555555555555556,\"#d8576b\"],[0.6666666666666666,\"#ed7953\"],[0.7777777777777778,\"#fb9f3a\"],[0.8888888888888888,\"#fdca26\"],[1.0,\"#f0f921\"]]}],\"heatmapgl\":[{\"type\":\"heatmapgl\",\"colorbar\":{\"outlinewidth\":0,\"ticks\":\"\"},\"colorscale\":[[0.0,\"#0d0887\"],[0.1111111111111111,\"#46039f\"],[0.2222222222222222,\"#7201a8\"],[0.3333333333333333,\"#9c179e\"],[0.4444444444444444,\"#bd3786\"],[0.5555555555555556,\"#d8576b\"],[0.6666666666666666,\"#ed7953\"],[0.7777777777777778,\"#fb9f3a\"],[0.8888888888888888,\"#fdca26\"],[1.0,\"#f0f921\"]]}],\"contourcarpet\":[{\"type\":\"contourcarpet\",\"colorbar\":{\"outlinewidth\":0,\"ticks\":\"\"}}],\"contour\":[{\"type\":\"contour\",\"colorbar\":{\"outlinewidth\":0,\"ticks\":\"\"},\"colorscale\":[[0.0,\"#0d0887\"],[0.1111111111111111,\"#46039f\"],[0.2222222222222222,\"#7201a8\"],[0.3333333333333333,\"#9c179e\"],[0.4444444444444444,\"#bd3786\"],[0.5555555555555556,\"#d8576b\"],[0.6666666666666666,\"#ed7953\"],[0.7777777777777778,\"#fb9f3a\"],[0.8888888888888888,\"#fdca26\"],[1.0,\"#f0f921\"]]}],\"surface\":[{\"type\":\"surface\",\"colorbar\":{\"outlinewidth\":0,\"ticks\":\"\"},\"colorscale\":[[0.0,\"#0d0887\"],[0.1111111111111111,\"#46039f\"],[0.2222222222222222,\"#7201a8\"],[0.3333333333333333,\"#9c179e\"],[0.4444444444444444,\"#bd3786\"],[0.5555555555555556,\"#d8576b\"],[0.6666666666666666,\"#ed7953\"],[0.7777777777777778,\"#fb9f3a\"],[0.8888888888888888,\"#fdca26\"],[1.0,\"#f0f921\"]]}],\"mesh3d\":[{\"type\":\"mesh3d\",\"colorbar\":{\"outlinewidth\":0,\"ticks\":\"\"}}],\"scatter\":[{\"fillpattern\":{\"fillmode\":\"overlay\",\"size\":10,\"solidity\":0.2},\"type\":\"scatter\"}],\"parcoords\":[{\"type\":\"parcoords\",\"line\":{\"colorbar\":{\"outlinewidth\":0,\"ticks\":\"\"}}}],\"scatterpolargl\":[{\"type\":\"scatterpolargl\",\"marker\":{\"colorbar\":{\"outlinewidth\":0,\"ticks\":\"\"}}}],\"bar\":[{\"error_x\":{\"color\":\"#2a3f5f\"},\"error_y\":{\"color\":\"#2a3f5f\"},\"marker\":{\"line\":{\"color\":\"#E5ECF6\",\"width\":0.5},\"pattern\":{\"fillmode\":\"overlay\",\"size\":10,\"solidity\":0.2}},\"type\":\"bar\"}],\"scattergeo\":[{\"type\":\"scattergeo\",\"marker\":{\"colorbar\":{\"outlinewidth\":0,\"ticks\":\"\"}}}],\"scatterpolar\":[{\"type\":\"scatterpolar\",\"marker\":{\"colorbar\":{\"outlinewidth\":0,\"ticks\":\"\"}}}],\"histogram\":[{\"marker\":{\"pattern\":{\"fillmode\":\"overlay\",\"size\":10,\"solidity\":0.2}},\"type\":\"histogram\"}],\"scattergl\":[{\"type\":\"scattergl\",\"marker\":{\"colorbar\":{\"outlinewidth\":0,\"ticks\":\"\"}}}],\"scatter3d\":[{\"type\":\"scatter3d\",\"line\":{\"colorbar\":{\"outlinewidth\":0,\"ticks\":\"\"}},\"marker\":{\"colorbar\":{\"outlinewidth\":0,\"ticks\":\"\"}}}],\"scattermapbox\":[{\"type\":\"scattermapbox\",\"marker\":{\"colorbar\":{\"outlinewidth\":0,\"ticks\":\"\"}}}],\"scatterternary\":[{\"type\":\"scatterternary\",\"marker\":{\"colorbar\":{\"outlinewidth\":0,\"ticks\":\"\"}}}],\"scattercarpet\":[{\"type\":\"scattercarpet\",\"marker\":{\"colorbar\":{\"outlinewidth\":0,\"ticks\":\"\"}}}],\"carpet\":[{\"aaxis\":{\"endlinecolor\":\"#2a3f5f\",\"gridcolor\":\"white\",\"linecolor\":\"white\",\"minorgridcolor\":\"white\",\"startlinecolor\":\"#2a3f5f\"},\"baxis\":{\"endlinecolor\":\"#2a3f5f\",\"gridcolor\":\"white\",\"linecolor\":\"white\",\"minorgridcolor\":\"white\",\"startlinecolor\":\"#2a3f5f\"},\"type\":\"carpet\"}],\"table\":[{\"cells\":{\"fill\":{\"color\":\"#EBF0F8\"},\"line\":{\"color\":\"white\"}},\"header\":{\"fill\":{\"color\":\"#C8D4E3\"},\"line\":{\"color\":\"white\"}},\"type\":\"table\"}],\"barpolar\":[{\"marker\":{\"line\":{\"color\":\"#E5ECF6\",\"width\":0.5},\"pattern\":{\"fillmode\":\"overlay\",\"size\":10,\"solidity\":0.2}},\"type\":\"barpolar\"}],\"pie\":[{\"automargin\":true,\"type\":\"pie\"}]},\"layout\":{\"autotypenumbers\":\"strict\",\"colorway\":[\"#636efa\",\"#EF553B\",\"#00cc96\",\"#ab63fa\",\"#FFA15A\",\"#19d3f3\",\"#FF6692\",\"#B6E880\",\"#FF97FF\",\"#FECB52\"],\"font\":{\"color\":\"#2a3f5f\"},\"hovermode\":\"closest\",\"hoverlabel\":{\"align\":\"left\"},\"paper_bgcolor\":\"white\",\"plot_bgcolor\":\"#E5ECF6\",\"polar\":{\"bgcolor\":\"#E5ECF6\",\"angularaxis\":{\"gridcolor\":\"white\",\"linecolor\":\"white\",\"ticks\":\"\"},\"radialaxis\":{\"gridcolor\":\"white\",\"linecolor\":\"white\",\"ticks\":\"\"}},\"ternary\":{\"bgcolor\":\"#E5ECF6\",\"aaxis\":{\"gridcolor\":\"white\",\"linecolor\":\"white\",\"ticks\":\"\"},\"baxis\":{\"gridcolor\":\"white\",\"linecolor\":\"white\",\"ticks\":\"\"},\"caxis\":{\"gridcolor\":\"white\",\"linecolor\":\"white\",\"ticks\":\"\"}},\"coloraxis\":{\"colorbar\":{\"outlinewidth\":0,\"ticks\":\"\"}},\"colorscale\":{\"sequential\":[[0.0,\"#0d0887\"],[0.1111111111111111,\"#46039f\"],[0.2222222222222222,\"#7201a8\"],[0.3333333333333333,\"#9c179e\"],[0.4444444444444444,\"#bd3786\"],[0.5555555555555556,\"#d8576b\"],[0.6666666666666666,\"#ed7953\"],[0.7777777777777778,\"#fb9f3a\"],[0.8888888888888888,\"#fdca26\"],[1.0,\"#f0f921\"]],\"sequentialminus\":[[0.0,\"#0d0887\"],[0.1111111111111111,\"#46039f\"],[0.2222222222222222,\"#7201a8\"],[0.3333333333333333,\"#9c179e\"],[0.4444444444444444,\"#bd3786\"],[0.5555555555555556,\"#d8576b\"],[0.6666666666666666,\"#ed7953\"],[0.7777777777777778,\"#fb9f3a\"],[0.8888888888888888,\"#fdca26\"],[1.0,\"#f0f921\"]],\"diverging\":[[0,\"#8e0152\"],[0.1,\"#c51b7d\"],[0.2,\"#de77ae\"],[0.3,\"#f1b6da\"],[0.4,\"#fde0ef\"],[0.5,\"#f7f7f7\"],[0.6,\"#e6f5d0\"],[0.7,\"#b8e186\"],[0.8,\"#7fbc41\"],[0.9,\"#4d9221\"],[1,\"#276419\"]]},\"xaxis\":{\"gridcolor\":\"white\",\"linecolor\":\"white\",\"ticks\":\"\",\"title\":{\"standoff\":15},\"zerolinecolor\":\"white\",\"automargin\":true,\"zerolinewidth\":2},\"yaxis\":{\"gridcolor\":\"white\",\"linecolor\":\"white\",\"ticks\":\"\",\"title\":{\"standoff\":15},\"zerolinecolor\":\"white\",\"automargin\":true,\"zerolinewidth\":2},\"scene\":{\"xaxis\":{\"backgroundcolor\":\"#E5ECF6\",\"gridcolor\":\"white\",\"linecolor\":\"white\",\"showbackground\":true,\"ticks\":\"\",\"zerolinecolor\":\"white\",\"gridwidth\":2},\"yaxis\":{\"backgroundcolor\":\"#E5ECF6\",\"gridcolor\":\"white\",\"linecolor\":\"white\",\"showbackground\":true,\"ticks\":\"\",\"zerolinecolor\":\"white\",\"gridwidth\":2},\"zaxis\":{\"backgroundcolor\":\"#E5ECF6\",\"gridcolor\":\"white\",\"linecolor\":\"white\",\"showbackground\":true,\"ticks\":\"\",\"zerolinecolor\":\"white\",\"gridwidth\":2}},\"shapedefaults\":{\"line\":{\"color\":\"#2a3f5f\"}},\"annotationdefaults\":{\"arrowcolor\":\"#2a3f5f\",\"arrowhead\":0,\"arrowwidth\":1},\"geo\":{\"bgcolor\":\"white\",\"landcolor\":\"#E5ECF6\",\"subunitcolor\":\"white\",\"showland\":true,\"showlakes\":true,\"lakecolor\":\"white\"},\"title\":{\"x\":0.05},\"mapbox\":{\"style\":\"light\"}}},\"xaxis\":{\"anchor\":\"y\",\"domain\":[0.0,0.45],\"title\":{\"text\":\"Price\"}},\"yaxis\":{\"anchor\":\"x\",\"domain\":[0.0,1.0],\"title\":{\"text\":\"Pnl\"}},\"xaxis2\":{\"anchor\":\"y2\",\"domain\":[0.55,1.0],\"title\":{\"text\":\"Price\"}},\"yaxis2\":{\"anchor\":\"x2\",\"domain\":[0.0,1.0],\"title\":{\"text\":\"Delta\"}},\"title\":{\"text\":\"Todays Option Pos (PnL and Delta)\",\"x\":0.5,\"xanchor\":\"center\"},\"barmode\":\"stack\"},                        {\"responsive\": true}                    ).then(function(){\n",
       "                            \n",
       "var gd = document.getElementById('08d0e147-435b-4eb7-9657-8205cb8ec569');\n",
       "var x = new MutationObserver(function (mutations, observer) {{\n",
       "        var display = window.getComputedStyle(gd).display;\n",
       "        if (!display || display === 'none') {{\n",
       "            console.log([gd, 'removed!']);\n",
       "            Plotly.purge(gd);\n",
       "            observer.disconnect();\n",
       "        }}\n",
       "}});\n",
       "\n",
       "// Listen for the removal of the full notebook cells\n",
       "var notebookContainer = gd.closest('#notebook-container');\n",
       "if (notebookContainer) {{\n",
       "    x.observe(notebookContainer, {childList: true});\n",
       "}}\n",
       "\n",
       "// Listen for the clearing of the current output cell\n",
       "var outputEl = gd.closest('.output');\n",
       "if (outputEl) {{\n",
       "    x.observe(outputEl, {childList: true});\n",
       "}}\n",
       "\n",
       "                        })                };                });            </script>        </div>"
      ]
     },
     "metadata": {},
     "output_type": "display_data"
    }
   ],
   "source": [
    "pnl_delta_plot(current_date)"
   ]
  },
  {
   "cell_type": "markdown",
   "id": "188a9617",
   "metadata": {},
   "source": [
    "## End of Month"
   ]
  },
  {
   "cell_type": "code",
   "execution_count": 16,
   "id": "8d15a408",
   "metadata": {},
   "outputs": [
    {
     "data": {
      "application/vnd.plotly.v1+json": {
       "config": {
        "plotlyServerURL": "https://plot.ly"
       },
       "data": [
        {
         "name": "EUA Dec24 75C",
         "type": "scatter",
         "x": [
          30,
          31,
          32,
          33,
          34,
          35,
          36,
          37,
          38,
          39,
          40,
          41,
          42,
          43,
          44,
          45,
          46,
          47,
          48,
          49,
          50,
          51,
          52,
          53,
          54,
          55,
          56,
          57,
          58,
          59,
          60,
          61,
          62,
          63,
          64,
          65,
          66,
          67,
          68,
          69,
          70,
          71,
          72,
          73,
          74,
          75,
          76,
          77,
          78,
          79,
          80,
          81,
          82,
          83,
          84,
          85,
          86,
          87,
          88,
          89,
          90,
          91,
          92,
          93,
          94,
          95,
          96,
          97,
          98,
          99,
          100
         ],
         "xaxis": "x",
         "y": [
          -28086.385683960067,
          -28086.38568252739,
          -28086.385675834696,
          -28086.385647520925,
          -28086.385538227394,
          -28086.3851506764,
          -28086.383880515594,
          -28086.38001154809,
          -28086.36900297651,
          -28086.33960849032,
          -28086.265643344996,
          -28086.089572115052,
          -28085.691661076395,
          -28084.835150194463,
          -28083.073858518157,
          -28079.604225570813,
          -28073.039722632297,
          -28061.08286977753,
          -28040.06999894961,
          -28004.367633165213,
          -27945.607836302835,
          -27851.763461788876,
          -27706.082392035867,
          -27485.921170943206,
          -27161.540577375396,
          -26694.94575314758,
          -26038.868387602117,
          -25135.995395590013,
          -23918.545536303478,
          -22308.28171720877,
          -20217.02288960897,
          -17547.6873863053,
          -14195.862286216341,
          -10051.854608905263,
          -5003.143724003168,
          1062.8761279904513,
          8255.996044045069,
          16680.279440563238,
          26431.279920040462,
          37593.52360869818,
          50238.36996639122,
          64422.338676851374,
          80185.95968243116,
          97553.17147810364,
          116531.26197485672,
          137111.31872035988,
          159269.13260941746,
          182966.48240011203,
          208152.71674423295,
          234766.54588023564,
          262737.9560343118,
          291990.1650395865,
          322441.54665091843,
          354007.4623832316,
          386601.9523564373,
          420139.24962676066,
          454535.095022674,
          489707.84097073093,
          525579.3427702701,
          562075.6440126089,
          599127.4692522272,
          636670.5416632182,
          674645.7463877198,
          712999.1618024214,
          751681.981229175,
          790650.3469449049,
          829865.1169474634,
          869291.5830330657,
          908899.156535609,
          948661.0357349131,
          988553.8665930247
         ],
         "yaxis": "y"
        },
        {
         "name": "EUA Dec24 75C",
         "type": "scatter",
         "x": [
          30,
          31,
          32,
          33,
          34,
          35,
          36,
          37,
          38,
          39,
          40,
          41,
          42,
          43,
          44,
          45,
          46,
          47,
          48,
          49,
          50,
          51,
          52,
          53,
          54,
          55,
          56,
          57,
          58,
          59,
          60,
          61,
          62,
          63,
          64,
          65,
          66,
          67,
          68,
          69,
          70,
          71,
          72,
          73,
          74,
          75,
          76,
          77,
          78,
          79,
          80,
          81,
          82,
          83,
          84,
          85,
          86,
          87,
          88,
          89,
          90,
          91,
          92,
          93,
          94,
          95,
          96,
          97,
          98,
          99,
          100
         ],
         "xaxis": "x2",
         "y": [
          3.5385567133094603e-07,
          1.7660625702071212e-06,
          7.935435912793407e-06,
          3.236464392572669e-05,
          0.00012069714007267639,
          0.0004143102016256161,
          0.0013169141261019696,
          0.003897179739169891,
          0.010790663454465953,
          0.02808045815727835,
          0.06896095858216543,
          0.16042780528653347,
          0.3547585610575125,
          0.7480697145318281,
          1.508613329004189,
          2.917518984951907,
          5.4241853406453515,
          9.717309915232873,
          16.81054629089693,
          28.139083660679887,
          45.66033110054719,
          71.9488095422639,
          110.27287365112056,
          164.6395826400129,
          239.7943859594877,
          341.1645410265703,
          474.73929552592386,
          646.8854908545751,
          864.103746238662,
          1132.7369562174147,
          1458.6486197452598,
          1846.8927481486608,
          2301.399210921443,
          2824.6981003373457,
          3417.7040725522634,
          4079.576992748944,
          4807.669141668189,
          5597.562432251553,
          6443.192271982007,
          7337.048559739498,
          8270.439358866994,
          9233.79939002552,
          10217.023787687467,
          11209.807523492998,
          12201.972322552247,
          13183.76547842744,
          14146.11834122774,
          15080.856029829883,
          15980.853749125617,
          16840.13867768252,
          17653.939504954884,
          18418.68819460853,
          19131.980362845203,
          19792.501786082983,
          20399.929042258635,
          20954.812232965887,
          21458.447240031255,
          21912.744158385904,
          22320.097532489854,
          22683.262910045072,
          23005.24310168685,
          23289.18646707802,
          23538.298585214718,
          23755.767840487057,
          23944.704781018354,
          24108.09458406031,
          24248.761587042824,
          24369.344597827105,
          24472.281565304485,
          24559.802151426073,
          24633.926777689405
         ],
         "yaxis": "y2"
        },
        {
         "name": "EUA Dec24 80C",
         "type": "scatter",
         "x": [
          30,
          31,
          32,
          33,
          34,
          35,
          36,
          37,
          38,
          39,
          40,
          41,
          42,
          43,
          44,
          45,
          46,
          47,
          48,
          49,
          50,
          51,
          52,
          53,
          54,
          55,
          56,
          57,
          58,
          59,
          60,
          61,
          62,
          63,
          64,
          65,
          66,
          67,
          68,
          69,
          70,
          71,
          72,
          73,
          74,
          75,
          76,
          77,
          78,
          79,
          80,
          81,
          82,
          83,
          84,
          85,
          86,
          87,
          88,
          89,
          90,
          91,
          92,
          93,
          94,
          95,
          96,
          97,
          98,
          99,
          100
         ],
         "xaxis": "x",
         "y": [
          -28443.55449066656,
          -28443.554490192026,
          -28443.554487941852,
          -28443.554478255643,
          -28443.554440128162,
          -28443.55430199063,
          -28443.553838598673,
          -28443.552391547833,
          -28443.548164453056,
          -28443.53656172008,
          -28443.50651415065,
          -28443.43282372773,
          -28443.26109054362,
          -28442.87957848721,
          -28442.069298384256,
          -28440.419616854295,
          -28437.192008930357,
          -28431.109599300966,
          -28420.04561704103,
          -28400.58083232757,
          -28367.399633971214,
          -28312.497821638444,
          -28224.18336663781,
          -28085.86479537299,
          -27874.640230898138,
          -27559.72243756476,
          -27100.759594961895,
          -26446.135475059633,
          -25531.353343472783,
          -24277.622399775515,
          -22590.77148193048,
          -20360.610444576694,
          -17460.844495390407,
          -13749.621433214461,
          -9070.757912088111,
          -3255.6512405896638,
          3874.158864980011,
          12503.855151395235,
          22821.747377943906,
          35015.35863514198,
          49267.354976069546,
          65751.4885766713,
          84628.7223317668,
          106043.69123080673,
          130121.63455038083,
          156965.90492423423,
          186656.1281038674,
          219247.05318189407,
          254768.09955751506,
          293223.57601024886,
          334593.5205162825,
          378835.08800060453,
          425884.39767226914,
          475658.74207345437,
          528059.0562133364,
          582972.5465632331,
          640275.3854442973,
          699835.3854975179,
          761514.5804993568,
          825171.6518153526,
          890664.1533945041,
          957850.50164868,
          1026591.7092296188,
          1096752.8531604074,
          1168204.2776973813,
          1240822.5405270178,
          1314491.11739295,
          1389100.8850482255,
          1464550.4056575773,
          1540746.037603715,
          1617601.8982811158
         ],
         "yaxis": "y"
        },
        {
         "name": "EUA Dec24 80C",
         "type": "scatter",
         "x": [
          30,
          31,
          32,
          33,
          34,
          35,
          36,
          37,
          38,
          39,
          40,
          41,
          42,
          43,
          44,
          45,
          46,
          47,
          48,
          49,
          50,
          51,
          52,
          53,
          54,
          55,
          56,
          57,
          58,
          59,
          60,
          61,
          62,
          63,
          64,
          65,
          66,
          67,
          68,
          69,
          70,
          71,
          72,
          73,
          74,
          75,
          76,
          77,
          78,
          79,
          80,
          81,
          82,
          83,
          84,
          85,
          86,
          87,
          88,
          89,
          90,
          91,
          92,
          93,
          94,
          95,
          96,
          97,
          98,
          99,
          100
         ],
         "xaxis": "x2",
         "y": [
          1.1624992883130866e-07,
          5.880288422767501e-07,
          2.684873872544914e-06,
          1.1153301804956833e-05,
          4.24546286796162e-05,
          0.00014902972196324574,
          0.00048524931202801534,
          0.0014732776782773191,
          0.004190908502412416,
          0.01121832961565972,
          0.028370949634174313,
          0.06803442955739086,
          0.15521943109867753,
          0.33795770667925573,
          0.7042210889553333,
          1.4080659537677191,
          2.708044268845915,
          5.020899517896858,
          8.992997384653725,
          15.59068114907048,
          26.20873173798506,
          42.793423716012995,
          67.97352568431569,
          105.18936751844802,
          158.80726479548306,
          234.2046662602028,
          337.81083578716573,
          477.08901909692787,
          660.4489902167325,
          897.0834874016912,
          1196.727951224713,
          1569.3495856366085,
          2024.7783693317963,
          2572.298517118387,
          3220.223370815324,
          3975.479288830877,
          4843.224526008446,
          5826.527320322167,
          6926.12363832441,
          8140.269683495144,
          9464.697885360023,
          10892.678272986364,
          12415.180498730404,
          14021.125852374444,
          15697.713811309297,
          17430.804284157563,
          19205.334845373352,
          21005.751905112127,
          22816.43576858044,
          24622.101677879753,
          26408.161906615613,
          28161.037480647545,
          29868.411822546077,
          31519.422289480593,
          33104.78896935647,
          34616.88305020157,
          36049.739474777925,
          37399.0203843228,
          38661.93703973628,
          39837.13852274597,
          40924.5756300281,
          41925.34806489817,
          42841.54239780868,
          43676.067402990426,
          44432.492372964705,
          45114.89294398171,
          45727.7078994489,
          46275.60940674445,
          46763.38822303483,
          47195.85460231011,
          47577.75496177522
         ],
         "yaxis": "y2"
        },
        {
         "name": "EUA Dec24 85C",
         "type": "scatter",
         "x": [
          30,
          31,
          32,
          33,
          34,
          35,
          36,
          37,
          38,
          39,
          40,
          41,
          42,
          43,
          44,
          45,
          46,
          47,
          48,
          49,
          50,
          51,
          52,
          53,
          54,
          55,
          56,
          57,
          58,
          59,
          60,
          61,
          62,
          63,
          64,
          65,
          66,
          67,
          68,
          69,
          70,
          71,
          72,
          73,
          74,
          75,
          76,
          77,
          78,
          79,
          80,
          81,
          82,
          83,
          84,
          85,
          86,
          87,
          88,
          89,
          90,
          91,
          92,
          93,
          94,
          95,
          96,
          97,
          98,
          99,
          100
         ],
         "xaxis": "x",
         "y": [
          -29587.671264401823,
          -29587.67126417221,
          -29587.67126308759,
          -29587.671258422226,
          -29587.67124002154,
          -29587.67117305421,
          -29587.67094687645,
          -29587.67023428075,
          -29587.668130073424,
          -29587.662281476878,
          -29587.646919817398,
          -29587.60865404927,
          -29587.51795494363,
          -29587.312774796403,
          -29586.868528806943,
          -29585.945552897432,
          -29584.10107086883,
          -29580.547721483315,
          -29573.93509857698,
          -29562.025094060347,
          -29541.22692907228,
          -29505.954668098264,
          -29447.769914564262,
          -29354.276424787546,
          -29207.7424492531,
          -28983.441165627748,
          -28647.719431847792,
          -28155.829356242473,
          -27449.584217355085,
          -26454.927804721287,
          -25079.531615641332,
          -23210.554733759687,
          -20712.714047375324,
          -17426.81569067802,
          -13168.890968877253,
          -7730.0613020502715,
          -877.2276801353162,
          7645.357468678189,
          18113.621657007483,
          30820.3390408087,
          46071.01043139076,
          64179.07673523587,
          85460.62140054429,
          110228.7439608797,
          138787.80282721308,
          171427.730439627,
          208418.61793706537,
          250005.7505811595,
          296405.2508328353,
          347800.4552175083,
          404339.11615554005,
          466131.4830613307,
          533249.2803928554,
          605725.5658780892,
          683555.4214206544,
          766697.4033532384,
          855075.6584976251,
          948582.5982279027,
          1047082.014371996,
          1150412.517968849,
          1258391.184027109,
          1370817.291741397,
          1487476.0592546447,
          1608142.2841188787,
          1732583.8142352419,
          1860564.7884464532,
          1991848.6004082332,
          2126200.5532934642,
          2263390.1858222084,
          2403193.2617257256,
          2545393.4248231086
         ],
         "yaxis": "y"
        },
        {
         "name": "EUA Dec24 85C",
         "type": "scatter",
         "x": [
          30,
          31,
          32,
          33,
          34,
          35,
          36,
          37,
          38,
          39,
          40,
          41,
          42,
          43,
          44,
          45,
          46,
          47,
          48,
          49,
          50,
          51,
          52,
          53,
          54,
          55,
          56,
          57,
          58,
          59,
          60,
          61,
          62,
          63,
          64,
          65,
          66,
          67,
          68,
          69,
          70,
          71,
          72,
          73,
          74,
          75,
          76,
          77,
          78,
          79,
          80,
          81,
          82,
          83,
          84,
          85,
          86,
          87,
          88,
          89,
          90,
          91,
          92,
          93,
          94,
          95,
          96,
          97,
          98,
          99,
          100
         ],
         "xaxis": "x2",
         "y": [
          5.647181561478361e-08,
          2.839737284540477e-07,
          1.2931944176989571e-06,
          5.3739232682108405e-06,
          2.0517796032616045e-05,
          7.242024173757474e-05,
          0.00023763043874360304,
          0.000728542171075252,
          0.0020966046158014794,
          0.005687348168230596,
          0.014598215634054893,
          0.035580464700874385,
          0.08261240413294267,
          0.18326868327157958,
          0.3895176314587299,
          0.7951650504869642,
          1.5627586819129375,
          2.963259804291633,
          5.432026185427965,
          9.64446267274837,
          16.613919747189588,
          27.812940416834415,
          45.31674076700208,
          71.96494391370292,
          111.53428588198501,
          168.9116121308234,
          250.2534118212005,
          363.1158559955685,
          516.5382466641095,
          721.0632766852812,
          988.6797157761015,
          1332.6770485528557,
          1767.4069607312695,
          2307.952976079891,
          2969.716425105096,
          3767.933638187333,
          4717.145164076751,
          5830.642358034167,
          7119.919438818332,
          8594.159836492116,
          10259.78429860041,
          12120.084938808468,
          14174.964514280275,
          16420.794144655338,
          18850.395947530567,
          21453.150192437126,
          24215.22006562818,
          27119.88141752173,
          30147.94025818851,
          33278.21748185468,
          36488.07842740234,
          39753.984395362626,
          43052.04402538538,
          46358.54430183697,
          49650.443661687605,
          52905.81296796806,
          56104.2137229638,
          59227.00658502461,
          62257.58681021737,
          65181.546494584865,
          67986.76631906924,
          70663.44181709496,
          73204.05095653867,
          75603.27105242654,
          77857.85373341218,
          79966.46692576322,
          81929.5126603458,
          83748.92902644165,
          85427.98386906167,
          86971.06692921733,
          88383.48612875877
         ],
         "yaxis": "y2"
        },
        {
         "mode": "lines",
         "name": "Total_PnL",
         "type": "scatter",
         "x": [
          30,
          31,
          32,
          33,
          34,
          35,
          36,
          37,
          38,
          39,
          40,
          41,
          42,
          43,
          44,
          45,
          46,
          47,
          48,
          49,
          50,
          51,
          52,
          53,
          54,
          55,
          56,
          57,
          58,
          59,
          60,
          61,
          62,
          63,
          64,
          65,
          66,
          67,
          68,
          69,
          70,
          71,
          72,
          73,
          74,
          75,
          76,
          77,
          78,
          79,
          80,
          81,
          82,
          83,
          84,
          85,
          86,
          87,
          88,
          89,
          90,
          91,
          92,
          93,
          94,
          95,
          96,
          97,
          98,
          99,
          100
         ],
         "xaxis": "x",
         "y": [
          -86117.61143902845,
          -86117.61143689163,
          -86117.61142686414,
          -86117.6113841988,
          -86117.6112183771,
          -86117.61062572124,
          -86117.60866599072,
          -86117.60263737668,
          -86117.58529750298,
          -86117.53845168729,
          -86117.41907731304,
          -86117.13104989205,
          -86116.47070656365,
          -86115.02750347808,
          -86112.01168570935,
          -86105.96939532254,
          -86094.33280243148,
          -86072.7401905618,
          -86034.05071456762,
          -85966.97355955312,
          -85854.23439934633,
          -85670.21595152558,
          -85378.03567323793,
          -84926.06239110374,
          -84243.92325752664,
          -83238.1093563401,
          -81787.34741441181,
          -79737.96022689212,
          -76899.48309713133,
          -73040.83192170557,
          -67887.32598718078,
          -61118.85256464168,
          -52369.420828982074,
          -41228.29173279775,
          -27242.792604968534,
          -9922.836414649484,
          11252.927228889763,
          36829.49206063666,
          67366.64895499186,
          103429.22128464887,
          145576.73537385152,
          194352.90398875854,
          250275.30341474223,
          313825.60666979005,
          385440.6993524506,
          465504.95408422104,
          554343.8786503503,
          652219.2861631656,
          759326.0671345834,
          875790.5771079927,
          1001670.5927061343,
          1136956.7361015216,
          1281575.224716043,
          1435391.770334775,
          1598216.429990428,
          1769809.199543232,
          1949886.1389645967,
          2138125.8246961515,
          2334175.937641623,
          2537659.813796811,
          2748182.8066738406,
          2965338.335053295,
          3188713.514871983,
          3417894.2990817074,
          3652470.0731617985,
          3892037.675918376,
          4136204.8347486467,
          4384593.021374756,
          4636839.748015394,
          4892600.335064353,
          5151549.189697249
         ],
         "yaxis": "y"
        },
        {
         "mode": "lines",
         "name": "Total_Delta",
         "type": "scatter",
         "x": [
          30,
          31,
          32,
          33,
          34,
          35,
          36,
          37,
          38,
          39,
          40,
          41,
          42,
          43,
          44,
          45,
          46,
          47,
          48,
          49,
          50,
          51,
          52,
          53,
          54,
          55,
          56,
          57,
          58,
          59,
          60,
          61,
          62,
          63,
          64,
          65,
          66,
          67,
          68,
          69,
          70,
          71,
          72,
          73,
          74,
          75,
          76,
          77,
          78,
          79,
          80,
          81,
          82,
          83,
          84,
          85,
          86,
          87,
          88,
          89,
          90,
          91,
          92,
          93,
          94,
          95,
          96,
          97,
          98,
          99,
          100
         ],
         "xaxis": "x2",
         "y": [
          5.265774157770384e-07,
          2.638065140937919e-06,
          1.1913504203037277e-05,
          4.889186899889436e-05,
          0.00018366956478490864,
          0.0006357601653264365,
          0.002039793876873588,
          0.0060989995885224624,
          0.01707817657267985,
          0.04498613594116867,
          0.11193012385039464,
          0.2640426995447987,
          0.5925903962891327,
          1.2692961044826634,
          2.602352049418252,
          5.1207499892065895,
          9.694988291404204,
          17.701469237421364,
          31.23556986097862,
          53.37422748249873,
          88.48298258572183,
          142.55517367511132,
          223.56314010243833,
          341.7938940721638,
          510.13593663695576,
          744.2808194175965,
          1062.80354313429,
          1487.0903659470714,
          2041.090983119504,
          2750.8837203043868,
          3644.0562867460744,
          4748.919382338125,
          6093.584540984509,
          7704.949593535623,
          9607.643868472684,
          11822.989919767155,
          14368.038831753387,
          17254.73211060789,
          20489.23534912475,
          24071.47807972676,
          27994.921542827426,
          32246.562601820355,
          36807.16880069815,
          41651.72752052278,
          46750.08208139211,
          52067.71995502213,
          57566.67325222927,
          63206.489352463745,
          68945.22977589456,
          74740.45783741695,
          80550.17983897284,
          86333.7100706187,
          92052.43621077665,
          97670.46837740054,
          103155.1616733027,
          108477.50825113551,
          113612.40043777299,
          118538.77112773331,
          123239.6213824435,
          127701.9479273759,
          131916.5850507842,
          135877.97634907116,
          139583.89193956208,
          143035.10629590403,
          146235.05088739522,
          149189.45445380523,
          151905.98214683752,
          154393.8830310132,
          156663.65365740098,
          158726.7236829535,
          160595.1678682234
         ],
         "yaxis": "y2"
        }
       ],
       "layout": {
        "barmode": "stack",
        "template": {
         "data": {
          "bar": [
           {
            "error_x": {
             "color": "#2a3f5f"
            },
            "error_y": {
             "color": "#2a3f5f"
            },
            "marker": {
             "line": {
              "color": "#E5ECF6",
              "width": 0.5
             },
             "pattern": {
              "fillmode": "overlay",
              "size": 10,
              "solidity": 0.2
             }
            },
            "type": "bar"
           }
          ],
          "barpolar": [
           {
            "marker": {
             "line": {
              "color": "#E5ECF6",
              "width": 0.5
             },
             "pattern": {
              "fillmode": "overlay",
              "size": 10,
              "solidity": 0.2
             }
            },
            "type": "barpolar"
           }
          ],
          "carpet": [
           {
            "aaxis": {
             "endlinecolor": "#2a3f5f",
             "gridcolor": "white",
             "linecolor": "white",
             "minorgridcolor": "white",
             "startlinecolor": "#2a3f5f"
            },
            "baxis": {
             "endlinecolor": "#2a3f5f",
             "gridcolor": "white",
             "linecolor": "white",
             "minorgridcolor": "white",
             "startlinecolor": "#2a3f5f"
            },
            "type": "carpet"
           }
          ],
          "choropleth": [
           {
            "colorbar": {
             "outlinewidth": 0,
             "ticks": ""
            },
            "type": "choropleth"
           }
          ],
          "contour": [
           {
            "colorbar": {
             "outlinewidth": 0,
             "ticks": ""
            },
            "colorscale": [
             [
              0,
              "#0d0887"
             ],
             [
              0.1111111111111111,
              "#46039f"
             ],
             [
              0.2222222222222222,
              "#7201a8"
             ],
             [
              0.3333333333333333,
              "#9c179e"
             ],
             [
              0.4444444444444444,
              "#bd3786"
             ],
             [
              0.5555555555555556,
              "#d8576b"
             ],
             [
              0.6666666666666666,
              "#ed7953"
             ],
             [
              0.7777777777777778,
              "#fb9f3a"
             ],
             [
              0.8888888888888888,
              "#fdca26"
             ],
             [
              1,
              "#f0f921"
             ]
            ],
            "type": "contour"
           }
          ],
          "contourcarpet": [
           {
            "colorbar": {
             "outlinewidth": 0,
             "ticks": ""
            },
            "type": "contourcarpet"
           }
          ],
          "heatmap": [
           {
            "colorbar": {
             "outlinewidth": 0,
             "ticks": ""
            },
            "colorscale": [
             [
              0,
              "#0d0887"
             ],
             [
              0.1111111111111111,
              "#46039f"
             ],
             [
              0.2222222222222222,
              "#7201a8"
             ],
             [
              0.3333333333333333,
              "#9c179e"
             ],
             [
              0.4444444444444444,
              "#bd3786"
             ],
             [
              0.5555555555555556,
              "#d8576b"
             ],
             [
              0.6666666666666666,
              "#ed7953"
             ],
             [
              0.7777777777777778,
              "#fb9f3a"
             ],
             [
              0.8888888888888888,
              "#fdca26"
             ],
             [
              1,
              "#f0f921"
             ]
            ],
            "type": "heatmap"
           }
          ],
          "heatmapgl": [
           {
            "colorbar": {
             "outlinewidth": 0,
             "ticks": ""
            },
            "colorscale": [
             [
              0,
              "#0d0887"
             ],
             [
              0.1111111111111111,
              "#46039f"
             ],
             [
              0.2222222222222222,
              "#7201a8"
             ],
             [
              0.3333333333333333,
              "#9c179e"
             ],
             [
              0.4444444444444444,
              "#bd3786"
             ],
             [
              0.5555555555555556,
              "#d8576b"
             ],
             [
              0.6666666666666666,
              "#ed7953"
             ],
             [
              0.7777777777777778,
              "#fb9f3a"
             ],
             [
              0.8888888888888888,
              "#fdca26"
             ],
             [
              1,
              "#f0f921"
             ]
            ],
            "type": "heatmapgl"
           }
          ],
          "histogram": [
           {
            "marker": {
             "pattern": {
              "fillmode": "overlay",
              "size": 10,
              "solidity": 0.2
             }
            },
            "type": "histogram"
           }
          ],
          "histogram2d": [
           {
            "colorbar": {
             "outlinewidth": 0,
             "ticks": ""
            },
            "colorscale": [
             [
              0,
              "#0d0887"
             ],
             [
              0.1111111111111111,
              "#46039f"
             ],
             [
              0.2222222222222222,
              "#7201a8"
             ],
             [
              0.3333333333333333,
              "#9c179e"
             ],
             [
              0.4444444444444444,
              "#bd3786"
             ],
             [
              0.5555555555555556,
              "#d8576b"
             ],
             [
              0.6666666666666666,
              "#ed7953"
             ],
             [
              0.7777777777777778,
              "#fb9f3a"
             ],
             [
              0.8888888888888888,
              "#fdca26"
             ],
             [
              1,
              "#f0f921"
             ]
            ],
            "type": "histogram2d"
           }
          ],
          "histogram2dcontour": [
           {
            "colorbar": {
             "outlinewidth": 0,
             "ticks": ""
            },
            "colorscale": [
             [
              0,
              "#0d0887"
             ],
             [
              0.1111111111111111,
              "#46039f"
             ],
             [
              0.2222222222222222,
              "#7201a8"
             ],
             [
              0.3333333333333333,
              "#9c179e"
             ],
             [
              0.4444444444444444,
              "#bd3786"
             ],
             [
              0.5555555555555556,
              "#d8576b"
             ],
             [
              0.6666666666666666,
              "#ed7953"
             ],
             [
              0.7777777777777778,
              "#fb9f3a"
             ],
             [
              0.8888888888888888,
              "#fdca26"
             ],
             [
              1,
              "#f0f921"
             ]
            ],
            "type": "histogram2dcontour"
           }
          ],
          "mesh3d": [
           {
            "colorbar": {
             "outlinewidth": 0,
             "ticks": ""
            },
            "type": "mesh3d"
           }
          ],
          "parcoords": [
           {
            "line": {
             "colorbar": {
              "outlinewidth": 0,
              "ticks": ""
             }
            },
            "type": "parcoords"
           }
          ],
          "pie": [
           {
            "automargin": true,
            "type": "pie"
           }
          ],
          "scatter": [
           {
            "fillpattern": {
             "fillmode": "overlay",
             "size": 10,
             "solidity": 0.2
            },
            "type": "scatter"
           }
          ],
          "scatter3d": [
           {
            "line": {
             "colorbar": {
              "outlinewidth": 0,
              "ticks": ""
             }
            },
            "marker": {
             "colorbar": {
              "outlinewidth": 0,
              "ticks": ""
             }
            },
            "type": "scatter3d"
           }
          ],
          "scattercarpet": [
           {
            "marker": {
             "colorbar": {
              "outlinewidth": 0,
              "ticks": ""
             }
            },
            "type": "scattercarpet"
           }
          ],
          "scattergeo": [
           {
            "marker": {
             "colorbar": {
              "outlinewidth": 0,
              "ticks": ""
             }
            },
            "type": "scattergeo"
           }
          ],
          "scattergl": [
           {
            "marker": {
             "colorbar": {
              "outlinewidth": 0,
              "ticks": ""
             }
            },
            "type": "scattergl"
           }
          ],
          "scattermapbox": [
           {
            "marker": {
             "colorbar": {
              "outlinewidth": 0,
              "ticks": ""
             }
            },
            "type": "scattermapbox"
           }
          ],
          "scatterpolar": [
           {
            "marker": {
             "colorbar": {
              "outlinewidth": 0,
              "ticks": ""
             }
            },
            "type": "scatterpolar"
           }
          ],
          "scatterpolargl": [
           {
            "marker": {
             "colorbar": {
              "outlinewidth": 0,
              "ticks": ""
             }
            },
            "type": "scatterpolargl"
           }
          ],
          "scatterternary": [
           {
            "marker": {
             "colorbar": {
              "outlinewidth": 0,
              "ticks": ""
             }
            },
            "type": "scatterternary"
           }
          ],
          "surface": [
           {
            "colorbar": {
             "outlinewidth": 0,
             "ticks": ""
            },
            "colorscale": [
             [
              0,
              "#0d0887"
             ],
             [
              0.1111111111111111,
              "#46039f"
             ],
             [
              0.2222222222222222,
              "#7201a8"
             ],
             [
              0.3333333333333333,
              "#9c179e"
             ],
             [
              0.4444444444444444,
              "#bd3786"
             ],
             [
              0.5555555555555556,
              "#d8576b"
             ],
             [
              0.6666666666666666,
              "#ed7953"
             ],
             [
              0.7777777777777778,
              "#fb9f3a"
             ],
             [
              0.8888888888888888,
              "#fdca26"
             ],
             [
              1,
              "#f0f921"
             ]
            ],
            "type": "surface"
           }
          ],
          "table": [
           {
            "cells": {
             "fill": {
              "color": "#EBF0F8"
             },
             "line": {
              "color": "white"
             }
            },
            "header": {
             "fill": {
              "color": "#C8D4E3"
             },
             "line": {
              "color": "white"
             }
            },
            "type": "table"
           }
          ]
         },
         "layout": {
          "annotationdefaults": {
           "arrowcolor": "#2a3f5f",
           "arrowhead": 0,
           "arrowwidth": 1
          },
          "autotypenumbers": "strict",
          "coloraxis": {
           "colorbar": {
            "outlinewidth": 0,
            "ticks": ""
           }
          },
          "colorscale": {
           "diverging": [
            [
             0,
             "#8e0152"
            ],
            [
             0.1,
             "#c51b7d"
            ],
            [
             0.2,
             "#de77ae"
            ],
            [
             0.3,
             "#f1b6da"
            ],
            [
             0.4,
             "#fde0ef"
            ],
            [
             0.5,
             "#f7f7f7"
            ],
            [
             0.6,
             "#e6f5d0"
            ],
            [
             0.7,
             "#b8e186"
            ],
            [
             0.8,
             "#7fbc41"
            ],
            [
             0.9,
             "#4d9221"
            ],
            [
             1,
             "#276419"
            ]
           ],
           "sequential": [
            [
             0,
             "#0d0887"
            ],
            [
             0.1111111111111111,
             "#46039f"
            ],
            [
             0.2222222222222222,
             "#7201a8"
            ],
            [
             0.3333333333333333,
             "#9c179e"
            ],
            [
             0.4444444444444444,
             "#bd3786"
            ],
            [
             0.5555555555555556,
             "#d8576b"
            ],
            [
             0.6666666666666666,
             "#ed7953"
            ],
            [
             0.7777777777777778,
             "#fb9f3a"
            ],
            [
             0.8888888888888888,
             "#fdca26"
            ],
            [
             1,
             "#f0f921"
            ]
           ],
           "sequentialminus": [
            [
             0,
             "#0d0887"
            ],
            [
             0.1111111111111111,
             "#46039f"
            ],
            [
             0.2222222222222222,
             "#7201a8"
            ],
            [
             0.3333333333333333,
             "#9c179e"
            ],
            [
             0.4444444444444444,
             "#bd3786"
            ],
            [
             0.5555555555555556,
             "#d8576b"
            ],
            [
             0.6666666666666666,
             "#ed7953"
            ],
            [
             0.7777777777777778,
             "#fb9f3a"
            ],
            [
             0.8888888888888888,
             "#fdca26"
            ],
            [
             1,
             "#f0f921"
            ]
           ]
          },
          "colorway": [
           "#636efa",
           "#EF553B",
           "#00cc96",
           "#ab63fa",
           "#FFA15A",
           "#19d3f3",
           "#FF6692",
           "#B6E880",
           "#FF97FF",
           "#FECB52"
          ],
          "font": {
           "color": "#2a3f5f"
          },
          "geo": {
           "bgcolor": "white",
           "lakecolor": "white",
           "landcolor": "#E5ECF6",
           "showlakes": true,
           "showland": true,
           "subunitcolor": "white"
          },
          "hoverlabel": {
           "align": "left"
          },
          "hovermode": "closest",
          "mapbox": {
           "style": "light"
          },
          "paper_bgcolor": "white",
          "plot_bgcolor": "#E5ECF6",
          "polar": {
           "angularaxis": {
            "gridcolor": "white",
            "linecolor": "white",
            "ticks": ""
           },
           "bgcolor": "#E5ECF6",
           "radialaxis": {
            "gridcolor": "white",
            "linecolor": "white",
            "ticks": ""
           }
          },
          "scene": {
           "xaxis": {
            "backgroundcolor": "#E5ECF6",
            "gridcolor": "white",
            "gridwidth": 2,
            "linecolor": "white",
            "showbackground": true,
            "ticks": "",
            "zerolinecolor": "white"
           },
           "yaxis": {
            "backgroundcolor": "#E5ECF6",
            "gridcolor": "white",
            "gridwidth": 2,
            "linecolor": "white",
            "showbackground": true,
            "ticks": "",
            "zerolinecolor": "white"
           },
           "zaxis": {
            "backgroundcolor": "#E5ECF6",
            "gridcolor": "white",
            "gridwidth": 2,
            "linecolor": "white",
            "showbackground": true,
            "ticks": "",
            "zerolinecolor": "white"
           }
          },
          "shapedefaults": {
           "line": {
            "color": "#2a3f5f"
           }
          },
          "ternary": {
           "aaxis": {
            "gridcolor": "white",
            "linecolor": "white",
            "ticks": ""
           },
           "baxis": {
            "gridcolor": "white",
            "linecolor": "white",
            "ticks": ""
           },
           "bgcolor": "#E5ECF6",
           "caxis": {
            "gridcolor": "white",
            "linecolor": "white",
            "ticks": ""
           }
          },
          "title": {
           "x": 0.05
          },
          "xaxis": {
           "automargin": true,
           "gridcolor": "white",
           "linecolor": "white",
           "ticks": "",
           "title": {
            "standoff": 15
           },
           "zerolinecolor": "white",
           "zerolinewidth": 2
          },
          "yaxis": {
           "automargin": true,
           "gridcolor": "white",
           "linecolor": "white",
           "ticks": "",
           "title": {
            "standoff": 15
           },
           "zerolinecolor": "white",
           "zerolinewidth": 2
          }
         }
        },
        "title": {
         "text": "Todays Option Pos (PnL and Delta)",
         "x": 0.5,
         "xanchor": "center"
        },
        "xaxis": {
         "anchor": "y",
         "domain": [
          0,
          0.45
         ],
         "title": {
          "text": "Price"
         }
        },
        "xaxis2": {
         "anchor": "y2",
         "domain": [
          0.55,
          1
         ],
         "title": {
          "text": "Price"
         }
        },
        "yaxis": {
         "anchor": "x",
         "domain": [
          0,
          1
         ],
         "title": {
          "text": "Pnl"
         }
        },
        "yaxis2": {
         "anchor": "x2",
         "domain": [
          0,
          1
         ],
         "title": {
          "text": "Delta"
         }
        }
       }
      },
      "text/html": [
       "<div>                            <div id=\"72430da5-051e-41ae-a1f1-1e239e436001\" class=\"plotly-graph-div\" style=\"height:525px; width:100%;\"></div>            <script type=\"text/javascript\">                require([\"plotly\"], function(Plotly) {                    window.PLOTLYENV=window.PLOTLYENV || {};                                    if (document.getElementById(\"72430da5-051e-41ae-a1f1-1e239e436001\")) {                    Plotly.newPlot(                        \"72430da5-051e-41ae-a1f1-1e239e436001\",                        [{\"name\":\"EUA Dec24 75C\",\"x\":[30,31,32,33,34,35,36,37,38,39,40,41,42,43,44,45,46,47,48,49,50,51,52,53,54,55,56,57,58,59,60,61,62,63,64,65,66,67,68,69,70,71,72,73,74,75,76,77,78,79,80,81,82,83,84,85,86,87,88,89,90,91,92,93,94,95,96,97,98,99,100],\"y\":[-28086.385683960067,-28086.38568252739,-28086.385675834696,-28086.385647520925,-28086.385538227394,-28086.3851506764,-28086.383880515594,-28086.38001154809,-28086.36900297651,-28086.33960849032,-28086.265643344996,-28086.089572115052,-28085.691661076395,-28084.835150194463,-28083.073858518157,-28079.604225570813,-28073.039722632297,-28061.08286977753,-28040.06999894961,-28004.367633165213,-27945.607836302835,-27851.763461788876,-27706.082392035867,-27485.921170943206,-27161.540577375396,-26694.94575314758,-26038.868387602117,-25135.995395590013,-23918.545536303478,-22308.28171720877,-20217.02288960897,-17547.6873863053,-14195.862286216341,-10051.854608905263,-5003.143724003168,1062.8761279904513,8255.996044045069,16680.279440563238,26431.279920040462,37593.52360869818,50238.36996639122,64422.338676851374,80185.95968243116,97553.17147810364,116531.26197485672,137111.31872035988,159269.13260941746,182966.48240011203,208152.71674423295,234766.54588023564,262737.9560343118,291990.1650395865,322441.54665091843,354007.4623832316,386601.9523564373,420139.24962676066,454535.095022674,489707.84097073093,525579.3427702701,562075.6440126089,599127.4692522272,636670.5416632182,674645.7463877198,712999.1618024214,751681.981229175,790650.3469449049,829865.1169474634,869291.5830330657,908899.156535609,948661.0357349131,988553.8665930247],\"type\":\"scatter\",\"xaxis\":\"x\",\"yaxis\":\"y\"},{\"name\":\"EUA Dec24 75C\",\"x\":[30,31,32,33,34,35,36,37,38,39,40,41,42,43,44,45,46,47,48,49,50,51,52,53,54,55,56,57,58,59,60,61,62,63,64,65,66,67,68,69,70,71,72,73,74,75,76,77,78,79,80,81,82,83,84,85,86,87,88,89,90,91,92,93,94,95,96,97,98,99,100],\"y\":[3.5385567133094603e-07,1.7660625702071212e-06,7.935435912793407e-06,3.236464392572669e-05,0.00012069714007267639,0.0004143102016256161,0.0013169141261019696,0.003897179739169891,0.010790663454465953,0.02808045815727835,0.06896095858216543,0.16042780528653347,0.3547585610575125,0.7480697145318281,1.508613329004189,2.917518984951907,5.4241853406453515,9.717309915232873,16.81054629089693,28.139083660679887,45.66033110054719,71.9488095422639,110.27287365112056,164.6395826400129,239.7943859594877,341.1645410265703,474.73929552592386,646.8854908545751,864.103746238662,1132.7369562174147,1458.6486197452598,1846.8927481486608,2301.399210921443,2824.6981003373457,3417.7040725522634,4079.576992748944,4807.669141668189,5597.562432251553,6443.192271982007,7337.048559739498,8270.439358866994,9233.79939002552,10217.023787687467,11209.807523492998,12201.972322552247,13183.76547842744,14146.11834122774,15080.856029829883,15980.853749125617,16840.13867768252,17653.939504954884,18418.68819460853,19131.980362845203,19792.501786082983,20399.929042258635,20954.812232965887,21458.447240031255,21912.744158385904,22320.097532489854,22683.262910045072,23005.24310168685,23289.18646707802,23538.298585214718,23755.767840487057,23944.704781018354,24108.09458406031,24248.761587042824,24369.344597827105,24472.281565304485,24559.802151426073,24633.926777689405],\"type\":\"scatter\",\"xaxis\":\"x2\",\"yaxis\":\"y2\"},{\"name\":\"EUA Dec24 80C\",\"x\":[30,31,32,33,34,35,36,37,38,39,40,41,42,43,44,45,46,47,48,49,50,51,52,53,54,55,56,57,58,59,60,61,62,63,64,65,66,67,68,69,70,71,72,73,74,75,76,77,78,79,80,81,82,83,84,85,86,87,88,89,90,91,92,93,94,95,96,97,98,99,100],\"y\":[-28443.55449066656,-28443.554490192026,-28443.554487941852,-28443.554478255643,-28443.554440128162,-28443.55430199063,-28443.553838598673,-28443.552391547833,-28443.548164453056,-28443.53656172008,-28443.50651415065,-28443.43282372773,-28443.26109054362,-28442.87957848721,-28442.069298384256,-28440.419616854295,-28437.192008930357,-28431.109599300966,-28420.04561704103,-28400.58083232757,-28367.399633971214,-28312.497821638444,-28224.18336663781,-28085.86479537299,-27874.640230898138,-27559.72243756476,-27100.759594961895,-26446.135475059633,-25531.353343472783,-24277.622399775515,-22590.77148193048,-20360.610444576694,-17460.844495390407,-13749.621433214461,-9070.757912088111,-3255.6512405896638,3874.158864980011,12503.855151395235,22821.747377943906,35015.35863514198,49267.354976069546,65751.4885766713,84628.7223317668,106043.69123080673,130121.63455038083,156965.90492423423,186656.1281038674,219247.05318189407,254768.09955751506,293223.57601024886,334593.5205162825,378835.08800060453,425884.39767226914,475658.74207345437,528059.0562133364,582972.5465632331,640275.3854442973,699835.3854975179,761514.5804993568,825171.6518153526,890664.1533945041,957850.50164868,1026591.7092296188,1096752.8531604074,1168204.2776973813,1240822.5405270178,1314491.11739295,1389100.8850482255,1464550.4056575773,1540746.037603715,1617601.8982811158],\"type\":\"scatter\",\"xaxis\":\"x\",\"yaxis\":\"y\"},{\"name\":\"EUA Dec24 80C\",\"x\":[30,31,32,33,34,35,36,37,38,39,40,41,42,43,44,45,46,47,48,49,50,51,52,53,54,55,56,57,58,59,60,61,62,63,64,65,66,67,68,69,70,71,72,73,74,75,76,77,78,79,80,81,82,83,84,85,86,87,88,89,90,91,92,93,94,95,96,97,98,99,100],\"y\":[1.1624992883130866e-07,5.880288422767501e-07,2.684873872544914e-06,1.1153301804956833e-05,4.24546286796162e-05,0.00014902972196324574,0.00048524931202801534,0.0014732776782773191,0.004190908502412416,0.01121832961565972,0.028370949634174313,0.06803442955739086,0.15521943109867753,0.33795770667925573,0.7042210889553333,1.4080659537677191,2.708044268845915,5.020899517896858,8.992997384653725,15.59068114907048,26.20873173798506,42.793423716012995,67.97352568431569,105.18936751844802,158.80726479548306,234.2046662602028,337.81083578716573,477.08901909692787,660.4489902167325,897.0834874016912,1196.727951224713,1569.3495856366085,2024.7783693317963,2572.298517118387,3220.223370815324,3975.479288830877,4843.224526008446,5826.527320322167,6926.12363832441,8140.269683495144,9464.697885360023,10892.678272986364,12415.180498730404,14021.125852374444,15697.713811309297,17430.804284157563,19205.334845373352,21005.751905112127,22816.43576858044,24622.101677879753,26408.161906615613,28161.037480647545,29868.411822546077,31519.422289480593,33104.78896935647,34616.88305020157,36049.739474777925,37399.0203843228,38661.93703973628,39837.13852274597,40924.5756300281,41925.34806489817,42841.54239780868,43676.067402990426,44432.492372964705,45114.89294398171,45727.7078994489,46275.60940674445,46763.38822303483,47195.85460231011,47577.75496177522],\"type\":\"scatter\",\"xaxis\":\"x2\",\"yaxis\":\"y2\"},{\"name\":\"EUA Dec24 85C\",\"x\":[30,31,32,33,34,35,36,37,38,39,40,41,42,43,44,45,46,47,48,49,50,51,52,53,54,55,56,57,58,59,60,61,62,63,64,65,66,67,68,69,70,71,72,73,74,75,76,77,78,79,80,81,82,83,84,85,86,87,88,89,90,91,92,93,94,95,96,97,98,99,100],\"y\":[-29587.671264401823,-29587.67126417221,-29587.67126308759,-29587.671258422226,-29587.67124002154,-29587.67117305421,-29587.67094687645,-29587.67023428075,-29587.668130073424,-29587.662281476878,-29587.646919817398,-29587.60865404927,-29587.51795494363,-29587.312774796403,-29586.868528806943,-29585.945552897432,-29584.10107086883,-29580.547721483315,-29573.93509857698,-29562.025094060347,-29541.22692907228,-29505.954668098264,-29447.769914564262,-29354.276424787546,-29207.7424492531,-28983.441165627748,-28647.719431847792,-28155.829356242473,-27449.584217355085,-26454.927804721287,-25079.531615641332,-23210.554733759687,-20712.714047375324,-17426.81569067802,-13168.890968877253,-7730.0613020502715,-877.2276801353162,7645.357468678189,18113.621657007483,30820.3390408087,46071.01043139076,64179.07673523587,85460.62140054429,110228.7439608797,138787.80282721308,171427.730439627,208418.61793706537,250005.7505811595,296405.2508328353,347800.4552175083,404339.11615554005,466131.4830613307,533249.2803928554,605725.5658780892,683555.4214206544,766697.4033532384,855075.6584976251,948582.5982279027,1047082.014371996,1150412.517968849,1258391.184027109,1370817.291741397,1487476.0592546447,1608142.2841188787,1732583.8142352419,1860564.7884464532,1991848.6004082332,2126200.5532934642,2263390.1858222084,2403193.2617257256,2545393.4248231086],\"type\":\"scatter\",\"xaxis\":\"x\",\"yaxis\":\"y\"},{\"name\":\"EUA Dec24 85C\",\"x\":[30,31,32,33,34,35,36,37,38,39,40,41,42,43,44,45,46,47,48,49,50,51,52,53,54,55,56,57,58,59,60,61,62,63,64,65,66,67,68,69,70,71,72,73,74,75,76,77,78,79,80,81,82,83,84,85,86,87,88,89,90,91,92,93,94,95,96,97,98,99,100],\"y\":[5.647181561478361e-08,2.839737284540477e-07,1.2931944176989571e-06,5.3739232682108405e-06,2.0517796032616045e-05,7.242024173757474e-05,0.00023763043874360304,0.000728542171075252,0.0020966046158014794,0.005687348168230596,0.014598215634054893,0.035580464700874385,0.08261240413294267,0.18326868327157958,0.3895176314587299,0.7951650504869642,1.5627586819129375,2.963259804291633,5.432026185427965,9.64446267274837,16.613919747189588,27.812940416834415,45.31674076700208,71.96494391370292,111.53428588198501,168.9116121308234,250.2534118212005,363.1158559955685,516.5382466641095,721.0632766852812,988.6797157761015,1332.6770485528557,1767.4069607312695,2307.952976079891,2969.716425105096,3767.933638187333,4717.145164076751,5830.642358034167,7119.919438818332,8594.159836492116,10259.78429860041,12120.084938808468,14174.964514280275,16420.794144655338,18850.395947530567,21453.150192437126,24215.22006562818,27119.88141752173,30147.94025818851,33278.21748185468,36488.07842740234,39753.984395362626,43052.04402538538,46358.54430183697,49650.443661687605,52905.81296796806,56104.2137229638,59227.00658502461,62257.58681021737,65181.546494584865,67986.76631906924,70663.44181709496,73204.05095653867,75603.27105242654,77857.85373341218,79966.46692576322,81929.5126603458,83748.92902644165,85427.98386906167,86971.06692921733,88383.48612875877],\"type\":\"scatter\",\"xaxis\":\"x2\",\"yaxis\":\"y2\"},{\"mode\":\"lines\",\"name\":\"Total_PnL\",\"x\":[30,31,32,33,34,35,36,37,38,39,40,41,42,43,44,45,46,47,48,49,50,51,52,53,54,55,56,57,58,59,60,61,62,63,64,65,66,67,68,69,70,71,72,73,74,75,76,77,78,79,80,81,82,83,84,85,86,87,88,89,90,91,92,93,94,95,96,97,98,99,100],\"y\":[-86117.61143902845,-86117.61143689163,-86117.61142686414,-86117.6113841988,-86117.6112183771,-86117.61062572124,-86117.60866599072,-86117.60263737668,-86117.58529750298,-86117.53845168729,-86117.41907731304,-86117.13104989205,-86116.47070656365,-86115.02750347808,-86112.01168570935,-86105.96939532254,-86094.33280243148,-86072.7401905618,-86034.05071456762,-85966.97355955312,-85854.23439934633,-85670.21595152558,-85378.03567323793,-84926.06239110374,-84243.92325752664,-83238.1093563401,-81787.34741441181,-79737.96022689212,-76899.48309713133,-73040.83192170557,-67887.32598718078,-61118.85256464168,-52369.420828982074,-41228.29173279775,-27242.792604968534,-9922.836414649484,11252.927228889763,36829.49206063666,67366.64895499186,103429.22128464887,145576.73537385152,194352.90398875854,250275.30341474223,313825.60666979005,385440.6993524506,465504.95408422104,554343.8786503503,652219.2861631656,759326.0671345834,875790.5771079927,1001670.5927061343,1136956.7361015216,1281575.224716043,1435391.770334775,1598216.429990428,1769809.199543232,1949886.1389645967,2138125.8246961515,2334175.937641623,2537659.813796811,2748182.8066738406,2965338.335053295,3188713.514871983,3417894.2990817074,3652470.0731617985,3892037.675918376,4136204.8347486467,4384593.021374756,4636839.748015394,4892600.335064353,5151549.189697249],\"type\":\"scatter\",\"xaxis\":\"x\",\"yaxis\":\"y\"},{\"mode\":\"lines\",\"name\":\"Total_Delta\",\"x\":[30,31,32,33,34,35,36,37,38,39,40,41,42,43,44,45,46,47,48,49,50,51,52,53,54,55,56,57,58,59,60,61,62,63,64,65,66,67,68,69,70,71,72,73,74,75,76,77,78,79,80,81,82,83,84,85,86,87,88,89,90,91,92,93,94,95,96,97,98,99,100],\"y\":[5.265774157770384e-07,2.638065140937919e-06,1.1913504203037277e-05,4.889186899889436e-05,0.00018366956478490864,0.0006357601653264365,0.002039793876873588,0.0060989995885224624,0.01707817657267985,0.04498613594116867,0.11193012385039464,0.2640426995447987,0.5925903962891327,1.2692961044826634,2.602352049418252,5.1207499892065895,9.694988291404204,17.701469237421364,31.23556986097862,53.37422748249873,88.48298258572183,142.55517367511132,223.56314010243833,341.7938940721638,510.13593663695576,744.2808194175965,1062.80354313429,1487.0903659470714,2041.090983119504,2750.8837203043868,3644.0562867460744,4748.919382338125,6093.584540984509,7704.949593535623,9607.643868472684,11822.989919767155,14368.038831753387,17254.73211060789,20489.23534912475,24071.47807972676,27994.921542827426,32246.562601820355,36807.16880069815,41651.72752052278,46750.08208139211,52067.71995502213,57566.67325222927,63206.489352463745,68945.22977589456,74740.45783741695,80550.17983897284,86333.7100706187,92052.43621077665,97670.46837740054,103155.1616733027,108477.50825113551,113612.40043777299,118538.77112773331,123239.6213824435,127701.9479273759,131916.5850507842,135877.97634907116,139583.89193956208,143035.10629590403,146235.05088739522,149189.45445380523,151905.98214683752,154393.8830310132,156663.65365740098,158726.7236829535,160595.1678682234],\"type\":\"scatter\",\"xaxis\":\"x2\",\"yaxis\":\"y2\"}],                        {\"template\":{\"data\":{\"histogram2dcontour\":[{\"type\":\"histogram2dcontour\",\"colorbar\":{\"outlinewidth\":0,\"ticks\":\"\"},\"colorscale\":[[0.0,\"#0d0887\"],[0.1111111111111111,\"#46039f\"],[0.2222222222222222,\"#7201a8\"],[0.3333333333333333,\"#9c179e\"],[0.4444444444444444,\"#bd3786\"],[0.5555555555555556,\"#d8576b\"],[0.6666666666666666,\"#ed7953\"],[0.7777777777777778,\"#fb9f3a\"],[0.8888888888888888,\"#fdca26\"],[1.0,\"#f0f921\"]]}],\"choropleth\":[{\"type\":\"choropleth\",\"colorbar\":{\"outlinewidth\":0,\"ticks\":\"\"}}],\"histogram2d\":[{\"type\":\"histogram2d\",\"colorbar\":{\"outlinewidth\":0,\"ticks\":\"\"},\"colorscale\":[[0.0,\"#0d0887\"],[0.1111111111111111,\"#46039f\"],[0.2222222222222222,\"#7201a8\"],[0.3333333333333333,\"#9c179e\"],[0.4444444444444444,\"#bd3786\"],[0.5555555555555556,\"#d8576b\"],[0.6666666666666666,\"#ed7953\"],[0.7777777777777778,\"#fb9f3a\"],[0.8888888888888888,\"#fdca26\"],[1.0,\"#f0f921\"]]}],\"heatmap\":[{\"type\":\"heatmap\",\"colorbar\":{\"outlinewidth\":0,\"ticks\":\"\"},\"colorscale\":[[0.0,\"#0d0887\"],[0.1111111111111111,\"#46039f\"],[0.2222222222222222,\"#7201a8\"],[0.3333333333333333,\"#9c179e\"],[0.4444444444444444,\"#bd3786\"],[0.5555555555555556,\"#d8576b\"],[0.6666666666666666,\"#ed7953\"],[0.7777777777777778,\"#fb9f3a\"],[0.8888888888888888,\"#fdca26\"],[1.0,\"#f0f921\"]]}],\"heatmapgl\":[{\"type\":\"heatmapgl\",\"colorbar\":{\"outlinewidth\":0,\"ticks\":\"\"},\"colorscale\":[[0.0,\"#0d0887\"],[0.1111111111111111,\"#46039f\"],[0.2222222222222222,\"#7201a8\"],[0.3333333333333333,\"#9c179e\"],[0.4444444444444444,\"#bd3786\"],[0.5555555555555556,\"#d8576b\"],[0.6666666666666666,\"#ed7953\"],[0.7777777777777778,\"#fb9f3a\"],[0.8888888888888888,\"#fdca26\"],[1.0,\"#f0f921\"]]}],\"contourcarpet\":[{\"type\":\"contourcarpet\",\"colorbar\":{\"outlinewidth\":0,\"ticks\":\"\"}}],\"contour\":[{\"type\":\"contour\",\"colorbar\":{\"outlinewidth\":0,\"ticks\":\"\"},\"colorscale\":[[0.0,\"#0d0887\"],[0.1111111111111111,\"#46039f\"],[0.2222222222222222,\"#7201a8\"],[0.3333333333333333,\"#9c179e\"],[0.4444444444444444,\"#bd3786\"],[0.5555555555555556,\"#d8576b\"],[0.6666666666666666,\"#ed7953\"],[0.7777777777777778,\"#fb9f3a\"],[0.8888888888888888,\"#fdca26\"],[1.0,\"#f0f921\"]]}],\"surface\":[{\"type\":\"surface\",\"colorbar\":{\"outlinewidth\":0,\"ticks\":\"\"},\"colorscale\":[[0.0,\"#0d0887\"],[0.1111111111111111,\"#46039f\"],[0.2222222222222222,\"#7201a8\"],[0.3333333333333333,\"#9c179e\"],[0.4444444444444444,\"#bd3786\"],[0.5555555555555556,\"#d8576b\"],[0.6666666666666666,\"#ed7953\"],[0.7777777777777778,\"#fb9f3a\"],[0.8888888888888888,\"#fdca26\"],[1.0,\"#f0f921\"]]}],\"mesh3d\":[{\"type\":\"mesh3d\",\"colorbar\":{\"outlinewidth\":0,\"ticks\":\"\"}}],\"scatter\":[{\"fillpattern\":{\"fillmode\":\"overlay\",\"size\":10,\"solidity\":0.2},\"type\":\"scatter\"}],\"parcoords\":[{\"type\":\"parcoords\",\"line\":{\"colorbar\":{\"outlinewidth\":0,\"ticks\":\"\"}}}],\"scatterpolargl\":[{\"type\":\"scatterpolargl\",\"marker\":{\"colorbar\":{\"outlinewidth\":0,\"ticks\":\"\"}}}],\"bar\":[{\"error_x\":{\"color\":\"#2a3f5f\"},\"error_y\":{\"color\":\"#2a3f5f\"},\"marker\":{\"line\":{\"color\":\"#E5ECF6\",\"width\":0.5},\"pattern\":{\"fillmode\":\"overlay\",\"size\":10,\"solidity\":0.2}},\"type\":\"bar\"}],\"scattergeo\":[{\"type\":\"scattergeo\",\"marker\":{\"colorbar\":{\"outlinewidth\":0,\"ticks\":\"\"}}}],\"scatterpolar\":[{\"type\":\"scatterpolar\",\"marker\":{\"colorbar\":{\"outlinewidth\":0,\"ticks\":\"\"}}}],\"histogram\":[{\"marker\":{\"pattern\":{\"fillmode\":\"overlay\",\"size\":10,\"solidity\":0.2}},\"type\":\"histogram\"}],\"scattergl\":[{\"type\":\"scattergl\",\"marker\":{\"colorbar\":{\"outlinewidth\":0,\"ticks\":\"\"}}}],\"scatter3d\":[{\"type\":\"scatter3d\",\"line\":{\"colorbar\":{\"outlinewidth\":0,\"ticks\":\"\"}},\"marker\":{\"colorbar\":{\"outlinewidth\":0,\"ticks\":\"\"}}}],\"scattermapbox\":[{\"type\":\"scattermapbox\",\"marker\":{\"colorbar\":{\"outlinewidth\":0,\"ticks\":\"\"}}}],\"scatterternary\":[{\"type\":\"scatterternary\",\"marker\":{\"colorbar\":{\"outlinewidth\":0,\"ticks\":\"\"}}}],\"scattercarpet\":[{\"type\":\"scattercarpet\",\"marker\":{\"colorbar\":{\"outlinewidth\":0,\"ticks\":\"\"}}}],\"carpet\":[{\"aaxis\":{\"endlinecolor\":\"#2a3f5f\",\"gridcolor\":\"white\",\"linecolor\":\"white\",\"minorgridcolor\":\"white\",\"startlinecolor\":\"#2a3f5f\"},\"baxis\":{\"endlinecolor\":\"#2a3f5f\",\"gridcolor\":\"white\",\"linecolor\":\"white\",\"minorgridcolor\":\"white\",\"startlinecolor\":\"#2a3f5f\"},\"type\":\"carpet\"}],\"table\":[{\"cells\":{\"fill\":{\"color\":\"#EBF0F8\"},\"line\":{\"color\":\"white\"}},\"header\":{\"fill\":{\"color\":\"#C8D4E3\"},\"line\":{\"color\":\"white\"}},\"type\":\"table\"}],\"barpolar\":[{\"marker\":{\"line\":{\"color\":\"#E5ECF6\",\"width\":0.5},\"pattern\":{\"fillmode\":\"overlay\",\"size\":10,\"solidity\":0.2}},\"type\":\"barpolar\"}],\"pie\":[{\"automargin\":true,\"type\":\"pie\"}]},\"layout\":{\"autotypenumbers\":\"strict\",\"colorway\":[\"#636efa\",\"#EF553B\",\"#00cc96\",\"#ab63fa\",\"#FFA15A\",\"#19d3f3\",\"#FF6692\",\"#B6E880\",\"#FF97FF\",\"#FECB52\"],\"font\":{\"color\":\"#2a3f5f\"},\"hovermode\":\"closest\",\"hoverlabel\":{\"align\":\"left\"},\"paper_bgcolor\":\"white\",\"plot_bgcolor\":\"#E5ECF6\",\"polar\":{\"bgcolor\":\"#E5ECF6\",\"angularaxis\":{\"gridcolor\":\"white\",\"linecolor\":\"white\",\"ticks\":\"\"},\"radialaxis\":{\"gridcolor\":\"white\",\"linecolor\":\"white\",\"ticks\":\"\"}},\"ternary\":{\"bgcolor\":\"#E5ECF6\",\"aaxis\":{\"gridcolor\":\"white\",\"linecolor\":\"white\",\"ticks\":\"\"},\"baxis\":{\"gridcolor\":\"white\",\"linecolor\":\"white\",\"ticks\":\"\"},\"caxis\":{\"gridcolor\":\"white\",\"linecolor\":\"white\",\"ticks\":\"\"}},\"coloraxis\":{\"colorbar\":{\"outlinewidth\":0,\"ticks\":\"\"}},\"colorscale\":{\"sequential\":[[0.0,\"#0d0887\"],[0.1111111111111111,\"#46039f\"],[0.2222222222222222,\"#7201a8\"],[0.3333333333333333,\"#9c179e\"],[0.4444444444444444,\"#bd3786\"],[0.5555555555555556,\"#d8576b\"],[0.6666666666666666,\"#ed7953\"],[0.7777777777777778,\"#fb9f3a\"],[0.8888888888888888,\"#fdca26\"],[1.0,\"#f0f921\"]],\"sequentialminus\":[[0.0,\"#0d0887\"],[0.1111111111111111,\"#46039f\"],[0.2222222222222222,\"#7201a8\"],[0.3333333333333333,\"#9c179e\"],[0.4444444444444444,\"#bd3786\"],[0.5555555555555556,\"#d8576b\"],[0.6666666666666666,\"#ed7953\"],[0.7777777777777778,\"#fb9f3a\"],[0.8888888888888888,\"#fdca26\"],[1.0,\"#f0f921\"]],\"diverging\":[[0,\"#8e0152\"],[0.1,\"#c51b7d\"],[0.2,\"#de77ae\"],[0.3,\"#f1b6da\"],[0.4,\"#fde0ef\"],[0.5,\"#f7f7f7\"],[0.6,\"#e6f5d0\"],[0.7,\"#b8e186\"],[0.8,\"#7fbc41\"],[0.9,\"#4d9221\"],[1,\"#276419\"]]},\"xaxis\":{\"gridcolor\":\"white\",\"linecolor\":\"white\",\"ticks\":\"\",\"title\":{\"standoff\":15},\"zerolinecolor\":\"white\",\"automargin\":true,\"zerolinewidth\":2},\"yaxis\":{\"gridcolor\":\"white\",\"linecolor\":\"white\",\"ticks\":\"\",\"title\":{\"standoff\":15},\"zerolinecolor\":\"white\",\"automargin\":true,\"zerolinewidth\":2},\"scene\":{\"xaxis\":{\"backgroundcolor\":\"#E5ECF6\",\"gridcolor\":\"white\",\"linecolor\":\"white\",\"showbackground\":true,\"ticks\":\"\",\"zerolinecolor\":\"white\",\"gridwidth\":2},\"yaxis\":{\"backgroundcolor\":\"#E5ECF6\",\"gridcolor\":\"white\",\"linecolor\":\"white\",\"showbackground\":true,\"ticks\":\"\",\"zerolinecolor\":\"white\",\"gridwidth\":2},\"zaxis\":{\"backgroundcolor\":\"#E5ECF6\",\"gridcolor\":\"white\",\"linecolor\":\"white\",\"showbackground\":true,\"ticks\":\"\",\"zerolinecolor\":\"white\",\"gridwidth\":2}},\"shapedefaults\":{\"line\":{\"color\":\"#2a3f5f\"}},\"annotationdefaults\":{\"arrowcolor\":\"#2a3f5f\",\"arrowhead\":0,\"arrowwidth\":1},\"geo\":{\"bgcolor\":\"white\",\"landcolor\":\"#E5ECF6\",\"subunitcolor\":\"white\",\"showland\":true,\"showlakes\":true,\"lakecolor\":\"white\"},\"title\":{\"x\":0.05},\"mapbox\":{\"style\":\"light\"}}},\"xaxis\":{\"anchor\":\"y\",\"domain\":[0.0,0.45],\"title\":{\"text\":\"Price\"}},\"yaxis\":{\"anchor\":\"x\",\"domain\":[0.0,1.0],\"title\":{\"text\":\"Pnl\"}},\"xaxis2\":{\"anchor\":\"y2\",\"domain\":[0.55,1.0],\"title\":{\"text\":\"Price\"}},\"yaxis2\":{\"anchor\":\"x2\",\"domain\":[0.0,1.0],\"title\":{\"text\":\"Delta\"}},\"title\":{\"text\":\"Todays Option Pos (PnL and Delta)\",\"x\":0.5,\"xanchor\":\"center\"},\"barmode\":\"stack\"},                        {\"responsive\": true}                    ).then(function(){\n",
       "                            \n",
       "var gd = document.getElementById('72430da5-051e-41ae-a1f1-1e239e436001');\n",
       "var x = new MutationObserver(function (mutations, observer) {{\n",
       "        var display = window.getComputedStyle(gd).display;\n",
       "        if (!display || display === 'none') {{\n",
       "            console.log([gd, 'removed!']);\n",
       "            Plotly.purge(gd);\n",
       "            observer.disconnect();\n",
       "        }}\n",
       "}});\n",
       "\n",
       "// Listen for the removal of the full notebook cells\n",
       "var notebookContainer = gd.closest('#notebook-container');\n",
       "if (notebookContainer) {{\n",
       "    x.observe(notebookContainer, {childList: true});\n",
       "}}\n",
       "\n",
       "// Listen for the clearing of the current output cell\n",
       "var outputEl = gd.closest('.output');\n",
       "if (outputEl) {{\n",
       "    x.observe(outputEl, {childList: true});\n",
       "}}\n",
       "\n",
       "                        })                };                });            </script>        </div>"
      ]
     },
     "metadata": {},
     "output_type": "display_data"
    }
   ],
   "source": [
    "pnl_delta_plot(end_of_month)"
   ]
  },
  {
   "cell_type": "markdown",
   "id": "74ba72d0",
   "metadata": {},
   "source": [
    "## One Month"
   ]
  },
  {
   "cell_type": "code",
   "execution_count": 17,
   "id": "072e82ff",
   "metadata": {},
   "outputs": [
    {
     "data": {
      "application/vnd.plotly.v1+json": {
       "config": {
        "plotlyServerURL": "https://plot.ly"
       },
       "data": [
        {
         "name": "EUA Dec24 75C",
         "type": "scatter",
         "x": [
          30,
          31,
          32,
          33,
          34,
          35,
          36,
          37,
          38,
          39,
          40,
          41,
          42,
          43,
          44,
          45,
          46,
          47,
          48,
          49,
          50,
          51,
          52,
          53,
          54,
          55,
          56,
          57,
          58,
          59,
          60,
          61,
          62,
          63,
          64,
          65,
          66,
          67,
          68,
          69,
          70,
          71,
          72,
          73,
          74,
          75,
          76,
          77,
          78,
          79,
          80,
          81,
          82,
          83,
          84,
          85,
          86,
          87,
          88,
          89,
          90,
          91,
          92,
          93,
          94,
          95,
          96,
          97,
          98,
          99,
          100
         ],
         "xaxis": "x",
         "y": [
          -28086.385684289777,
          -28086.385684282995,
          -28086.385684237288,
          -28086.385683964738,
          -28086.38568251421,
          -28086.385675566176,
          -28086.385645384475,
          -28086.385525668215,
          -28086.385089350642,
          -28086.3836198624,
          -28086.379022544606,
          -28086.36559831639,
          -28086.328851294376,
          -28086.234172585013,
          -28086.003714332623,
          -28085.471935613285,
          -28084.30500250101,
          -28081.862618008923,
          -28076.973612661586,
          -28067.5900500022,
          -28050.28062445196,
          -28019.525085791494,
          -27966.77960746165,
          -27879.300064199113,
          -27738.736439615463,
          -27519.545590919104,
          -27187.30792836913,
          -26697.071083957417,
          -25991.87421135965,
          -25001.624090408677,
          -23642.493839095125,
          -21816.99416134714,
          -19414.826008071468,
          -16314.565704116472,
          -12386.16504686945,
          -7494.1774128742045,
          -1501.5548679654544,
          5726.191690437655,
          14316.71136950909,
          24386.6648961115,
          36037.951859867935,
          49354.524931687454,
          64399.95470915024,
          81215.85070823332,
          99821.18175770305,
          120212.47869657564,
          142364.84893979618,
          166233.68991129706,
          191756.95873064324,
          218857.83951945486,
          247447.64655973346,
          277428.8095460026,
          308697.8039147274,
          341147.9119879574,
          374671.72672474664,
          409163.3367832095,
          444520.157332757,
          480644.39410550223,
          517444.1475509107,
          554834.1791611732,
          592736.3729855359,
          631079.9322921311,
          669801.3547331343,
          708844.2298236281,
          748158.9007099422,
          787702.028724038,
          827436.094686748,
          867328.8658422019,
          907352.8520897544,
          947484.7701407054,
          987705.0295842641
         ],
         "yaxis": "y"
        },
        {
         "name": "EUA Dec24 75C",
         "type": "scatter",
         "x": [
          30,
          31,
          32,
          33,
          34,
          35,
          36,
          37,
          38,
          39,
          40,
          41,
          42,
          43,
          44,
          45,
          46,
          47,
          48,
          49,
          50,
          51,
          52,
          53,
          54,
          55,
          56,
          57,
          58,
          59,
          60,
          61,
          62,
          63,
          64,
          65,
          66,
          67,
          68,
          69,
          70,
          71,
          72,
          73,
          74,
          75,
          76,
          77,
          78,
          79,
          80,
          81,
          82,
          83,
          84,
          85,
          86,
          87,
          88,
          89,
          90,
          91,
          92,
          93,
          94,
          95,
          96,
          97,
          98,
          99,
          100
         ],
         "xaxis": "x2",
         "y": [
          1.3024391814955183e-09,
          9.56917791462356e-09,
          6.169170785634065e-08,
          3.525562773322737e-07,
          1.8023811323160113e-06,
          8.311078844291538e-06,
          3.482522426299879e-05,
          0.00013350191505398902,
          0.00047108881961457455,
          0.0015387505532237001,
          0.0046762976573180215,
          0.013284210119039103,
          0.035426872621563014,
          0.0890445326084373,
          0.21170847202608384,
          0.4777312518210595,
          1.0263417222635098,
          2.105294186242059,
          4.134338507505436,
          7.792025490126276,
          14.127019696394113,
          24.69130765506316,
          41.68762658448159,
          68.11770487207613,
          107.9124799614365,
          166.0215448874242,
          248.43785389498464,
          362.13606658649235,
          514.9091450966982,
          715.0975460978144,
          971.2174663882488,
          1291.507457153871,
          1683.4244078855413,
          2153.1285971490397,
          2705.001818947804,
          3341.2417954382627,
          4061.570235548896,
          4863.081794490265,
          5740.248207695306,
          6685.077714923837,
          7687.416298213984,
          8735.365756308,
          9815.785343515723,
          10914.839213645202,
          12018.551303079948,
          13113.332172612325,
          14186.44797406319,
          15226.40918724718,
          16223.265106604245,
          17168.798339247547,
          18056.621065308787,
          18882.180980293557,
          19642.689389961866,
          20336.986776571262,
          20965.362392939092,
          21529.34428730821,
          22031.47491391254,
          22475.085467878784,
          22864.079616726034,
          23202.73466613837,
          23495.52562374887,
          23746.9752800279,
          23961.531419062652,
          24143.4706596494,
          24296.82722031323,
          24425.34407912404,
          24532.443516652842,
          24621.21383160571,
          24694.409042382908,
          24754.458574186385,
          24803.48422597863
         ],
         "yaxis": "y2"
        },
        {
         "name": "EUA Dec24 80C",
         "type": "scatter",
         "x": [
          30,
          31,
          32,
          33,
          34,
          35,
          36,
          37,
          38,
          39,
          40,
          41,
          42,
          43,
          44,
          45,
          46,
          47,
          48,
          49,
          50,
          51,
          52,
          53,
          54,
          55,
          56,
          57,
          58,
          59,
          60,
          61,
          62,
          63,
          64,
          65,
          66,
          67,
          68,
          69,
          70,
          71,
          72,
          73,
          74,
          75,
          76,
          77,
          78,
          79,
          80,
          81,
          82,
          83,
          84,
          85,
          86,
          87,
          88,
          89,
          90,
          91,
          92,
          93,
          94,
          95,
          96,
          97,
          98,
          99,
          100
         ],
         "xaxis": "x",
         "y": [
          -28443.554490774368,
          -28443.554490772916,
          -28443.554490762934,
          -28443.554490702074,
          -28443.554490370014,
          -28443.554488735383,
          -28443.55448142185,
          -28443.55445148353,
          -28443.55433867348,
          -28443.55394522709,
          -28443.552668693814,
          -28443.548797943135,
          -28443.537782093535,
          -28443.50824306412,
          -28443.43334117088,
          -28443.25314276454,
          -28442.840565075523,
          -28441.93900575396,
          -28440.053773137177,
          -28436.272089462578,
          -28428.978369071265,
          -28415.423863197677,
          -28391.104358273973,
          -28348.89856860448,
          -28277.92541315032,
          -28162.092366160316,
          -27978.330473167825,
          -27694.54400234872,
          -27267.341967600856,
          -26639.661160134547,
          -25738.43077603288,
          -24472.461461772444,
          -22730.76103103063,
          -20381.480749819537,
          -17271.677371504615,
          -13228.03690973501,
          -8058.648963516098,
          -1555.8501240890732,
          6499.921770283661,
          16335.396479699106,
          28179.064469913777,
          42255.34770875124,
          58778.63419338964,
          77947.47272100145,
          99939.21260362842,
          124905.3409903482,
          152967.72203489617,
          184215.88238100463,
          218705.42193693077,
          256457.56321466327,
          297459.7915578839,
          341667.48632420023,
          389006.40224971314,
          439375.8322486821,
          492652.2680134192,
          548693.3721679237,
          607342.0837875534,
          668430.6957003522,
          731784.7647532547,
          797226.7427619735,
          864579.2439435184,
          933667.8923407124,
          1004323.7185645666,
          1076385.0979992608,
          1149699.241743768,
          1224123.2666832802,
          1299524.8821836591,
          1375782.738217486,
          1452786.4836666125,
          1530436.5846153053,
          1608643.9512095442
         ],
         "yaxis": "y"
        },
        {
         "name": "EUA Dec24 80C",
         "type": "scatter",
         "x": [
          30,
          31,
          32,
          33,
          34,
          35,
          36,
          37,
          38,
          39,
          40,
          41,
          42,
          43,
          44,
          45,
          46,
          47,
          48,
          49,
          50,
          51,
          52,
          53,
          54,
          55,
          56,
          57,
          58,
          59,
          60,
          61,
          62,
          63,
          64,
          65,
          66,
          67,
          68,
          69,
          70,
          71,
          72,
          73,
          74,
          75,
          76,
          77,
          78,
          79,
          80,
          81,
          82,
          83,
          84,
          85,
          86,
          87,
          88,
          89,
          90,
          91,
          92,
          93,
          94,
          95,
          96,
          97,
          98,
          99,
          100
         ],
         "xaxis": "x2",
         "y": [
          2.760010693372711e-10,
          2.062985603772961e-09,
          1.3574799446323267e-08,
          7.941335205599535e-08,
          4.166925477193742e-07,
          1.976795780547797e-06,
          8.540087867197047e-06,
          3.381865242807757e-05,
          0.00012348805475551386,
          0.00041804314528701,
          0.0013185434183539762,
          0.003892363837324241,
          0.01079902546936721,
          0.028266306226153184,
          0.07004829432839206,
          0.1648857451668495,
          0.3697707297274637,
          0.7922396354779939,
          1.6258439323949059,
          3.2036415197098833,
          6.074692161492717,
          11.10776957155952,
          19.624504973028507,
          33.56078482196331,
          55.650519672755664,
          89.62027810702293,
          140.3774554317322,
          214.16958367643943,
          318.6891466166758,
          463.0977985503939,
          657.9468459490835,
          914.9774054304862,
          1246.7934003287905,
          1666.4125501086364,
          2186.713360902176,
          2819.8082368911673,
          3576.382622907831,
          4465.046252609547,
          5491.744276951283,
          6659.273030977425,
          7966.937810777266,
          9410.379150252338,
          10981.58096074598,
          12669.059965762932,
          14458.222558980728,
          16331.86378325223,
          18270.77450372449,
          20254.4175749382,
          22261.63202420351,
          24271.32577244682,
          26263.12168144183,
          28217.92805360512,
          30118.4123286818,
          31949.36483676805,
          33697.947376431286,
          35353.828521708056,
          36909.21351708447,
          38358.78115914995,
          39699.54310892263,
          40930.642684015496,
          42053.110499653165,
          43069.59358310673,
          43984.07303207708,
          44801.58318408595,
          45527.94285473384,
          46169.50669968098,
          46732.94232971741,
          47225.03658771377,
          47652.53246520959,
          48021.9965410298,
          48339.7155784667
         ],
         "yaxis": "y2"
        },
        {
         "name": "EUA Dec24 85C",
         "type": "scatter",
         "x": [
          30,
          31,
          32,
          33,
          34,
          35,
          36,
          37,
          38,
          39,
          40,
          41,
          42,
          43,
          44,
          45,
          46,
          47,
          48,
          49,
          50,
          51,
          52,
          53,
          54,
          55,
          56,
          57,
          58,
          59,
          60,
          61,
          62,
          63,
          64,
          65,
          66,
          67,
          68,
          69,
          70,
          71,
          72,
          73,
          74,
          75,
          76,
          77,
          78,
          79,
          80,
          81,
          82,
          83,
          84,
          85,
          86,
          87,
          88,
          89,
          90,
          91,
          92,
          93,
          94,
          95,
          96,
          97,
          98,
          99,
          100
         ],
         "xaxis": "x",
         "y": [
          -29587.671264454508,
          -29587.67126445401,
          -29587.671264450604,
          -29587.671264429868,
          -29587.671264316374,
          -29587.67126375421,
          -29587.671261216357,
          -29587.67125070646,
          -29587.67121054744,
          -29587.67106820642,
          -29587.670597933018,
          -29587.66914321562,
          -29587.664912722743,
          -29587.653303006166,
          -29587.623132893605,
          -29587.54865147348,
          -29587.373456566103,
          -29586.979734367083,
          -29586.132194949292,
          -29584.380492881275,
          -29580.89672929678,
          -29574.216087522294,
          -29561.839453618093,
          -29539.648225920955,
          -29501.075136104926,
          -29435.97286775277,
          -29329.126746238788,
          -29158.370687080154,
          -28892.28811790222,
          -28487.51179937266,
          -27885.677015545523,
          -27010.128625225356,
          -25762.529743935076,
          -24019.563184993287,
          -21629.95070808892,
          -18412.034473325104,
          -14152.16587352897,
          -8604.126862445943,
          -1489.7679093801175,
          7499.013037135574,
          18696.900443049144,
          32460.432664414784,
          49162.03233211582,
          69182.99224595871,
          92905.68079904627,
          120705.28121042464,
          152941.40832080177,
          189949.95374431336,
          232035.49509816538,
          279464.5699888358,
          332460.0640146357,
          391196.8988486004,
          455799.13659056014,
          526338.5451324742,
          602834.6009597525,
          685255.8445615509,
          773522.452430705,
          867509.8504220933,
          967053.1668737816,
          1071952.310281386,
          1181977.4545488837,
          1296874.7234014352,
          1416371.88251533,
          1540183.871169718,
          1668018.0326024261,
          1799578.931726265,
          1934572.678632703,
          2072710.7048771644,
          2213712.9657430784,
          2357310.5647001355,
          2503247.8156106165
         ],
         "yaxis": "y"
        },
        {
         "name": "EUA Dec24 85C",
         "type": "scatter",
         "x": [
          30,
          31,
          32,
          33,
          34,
          35,
          36,
          37,
          38,
          39,
          40,
          41,
          42,
          43,
          44,
          45,
          46,
          47,
          48,
          49,
          50,
          51,
          52,
          53,
          54,
          55,
          56,
          57,
          58,
          59,
          60,
          61,
          62,
          63,
          64,
          65,
          66,
          67,
          68,
          69,
          70,
          71,
          72,
          73,
          74,
          75,
          76,
          77,
          78,
          79,
          80,
          81,
          82,
          83,
          84,
          85,
          86,
          87,
          88,
          89,
          90,
          91,
          92,
          93,
          94,
          95,
          96,
          97,
          98,
          99,
          100
         ],
         "xaxis": "x2",
         "y": [
          9.494399287105369e-11,
          7.047899889550811e-10,
          4.624595821960419e-09,
          2.707799793747483e-08,
          1.4268576202539555e-07,
          6.818619753743298e-07,
          2.9756141086485645e-06,
          1.1933109078019406e-05,
          4.422955237016952e-05,
          0.00015230669809938716,
          0.0004896021884987839,
          0.0014756446225626689,
          0.004186727282946589,
          0.011223353920744661,
          0.028523361350487365,
          0.06893987913044805,
          0.1589247363928287,
          0.3503728421954693,
          0.7405768027073296,
          1.5042393069635993,
          2.942441483615655,
          5.554133565398764,
          10.135798586798238,
          17.914115714437884,
          30.714435809384923,
          51.1645212408541,
          82.92834111727879,
          130.95905587749706,
          201.75424464490294,
          303.5907236530779,
          446.71190014881483,
          643.4384150746552,
          908.1735876267044,
          1257.2793028782344,
          1708.8054717066393,
          2282.066565920675,
          2997.071085382598,
          3873.8229176990444,
          4931.52600906073,
          6187.7342025118805,
          7657.495346353654,
          9352.542013056463,
          11280.580030020981,
          13444.72062047055,
          15843.09284524858,
          18468.661142319692,
          21309.259230626576,
          24347.837718229537,
          27562.909620714836,
          30929.166675105313,
          34418.23059236279,
          37999.49769111099,
          41641.03284836997,
          45310.46925565848,
          48975.87371100027,
          52606.54257012376,
          56173.70038757264,
          59651.081037373275,
          63015.37908322292,
          66246.56681938897,
          69328.07928585257,
          72246.8753610325,
          74993.38756688956,
          77561.37641689813,
          79947.70703092222,
          82152.06644511173,
          84176.63972758764,
          86025.76187231649,
          87705.5606964556,
          89223.60381783375,
          90588.56042857126
         ],
         "yaxis": "y2"
        },
        {
         "mode": "lines",
         "name": "Total_PnL",
         "type": "scatter",
         "x": [
          30,
          31,
          32,
          33,
          34,
          35,
          36,
          37,
          38,
          39,
          40,
          41,
          42,
          43,
          44,
          45,
          46,
          47,
          48,
          49,
          50,
          51,
          52,
          53,
          54,
          55,
          56,
          57,
          58,
          59,
          60,
          61,
          62,
          63,
          64,
          65,
          66,
          67,
          68,
          69,
          70,
          71,
          72,
          73,
          74,
          75,
          76,
          77,
          78,
          79,
          80,
          81,
          82,
          83,
          84,
          85,
          86,
          87,
          88,
          89,
          90,
          91,
          92,
          93,
          94,
          95,
          96,
          97,
          98,
          99,
          100
         ],
         "xaxis": "x",
         "y": [
          -86117.61143951865,
          -86117.61143950993,
          -86117.61143945082,
          -86117.61143909668,
          -86117.6114372006,
          -86117.61142805577,
          -86117.61138802268,
          -86117.6112278582,
          -86117.61063857157,
          -86117.60863329591,
          -86117.60228917144,
          -86117.58353947515,
          -86117.53154611065,
          -86117.3957186553,
          -86117.0601883971,
          -86116.27372985131,
          -86114.51902414263,
          -86110.78135812997,
          -86103.15958074806,
          -86088.24263234605,
          -86060.15572282,
          -86009.16503651146,
          -85919.72341935372,
          -85767.84685872454,
          -85517.73698887072,
          -85117.6108248322,
          -84494.76514777575,
          -83549.98577338629,
          -82151.50429686272,
          -80128.79704991588,
          -77266.60163067354,
          -73299.58424834494,
          -67908.11678303717,
          -60715.609638929294,
          -51287.79312646299,
          -39134.24879593432,
          -23712.369705010522,
          -4433.785296097361,
          19326.865230412634,
          48221.07441294618,
          82913.91677283085,
          124070.30530485348,
          172340.6212346557,
          228346.3156751935,
          292666.0751603778,
          365823.1008973485,
          448273.97929549415,
          540399.526036615,
          642497.8757657394,
          754779.9727229539,
          877367.502132253,
          1010293.1947188033,
          1153503.3427550008,
          1306862.2893691137,
          1470158.5956979182,
          1643112.553512684,
          1825384.6935510156,
          2016584.9402279477,
          2216282.079177947,
          2424013.2322045323,
          2639293.071477938,
          2861622.5480342787,
          3090496.9558130307,
          3325413.1989926067,
          3565876.175056136,
          3811404.2271335833,
          4061533.65550311,
          4315822.308936852,
          4573852.301499445,
          4835231.919456147,
          5099596.796404425
         ],
         "yaxis": "y"
        },
        {
         "mode": "lines",
         "name": "Total_Delta",
         "type": "scatter",
         "x": [
          30,
          31,
          32,
          33,
          34,
          35,
          36,
          37,
          38,
          39,
          40,
          41,
          42,
          43,
          44,
          45,
          46,
          47,
          48,
          49,
          50,
          51,
          52,
          53,
          54,
          55,
          56,
          57,
          58,
          59,
          60,
          61,
          62,
          63,
          64,
          65,
          66,
          67,
          68,
          69,
          70,
          71,
          72,
          73,
          74,
          75,
          76,
          77,
          78,
          79,
          80,
          81,
          82,
          83,
          84,
          85,
          86,
          87,
          88,
          89,
          90,
          91,
          92,
          93,
          94,
          95,
          96,
          97,
          98,
          99,
          100
         ],
         "xaxis": "x2",
         "y": [
          1.673384243703843e-09,
          1.2336953507351602e-08,
          7.989110312462434e-08,
          4.590476273257439e-07,
          2.361759442060781e-06,
          1.0969736600213665e-05,
          4.6340926238844406e-05,
          0.000179253676560086,
          0.0006388064267402578,
          0.0021091003966100972,
          0.006484443264170781,
          0.018652218578926013,
          0.050412625373876814,
          0.12853419275533515,
          0.31028012770496327,
          0.711556876118357,
          1.5550371883838023,
          3.2479066639155225,
          6.500759242607672,
          12.499906316799759,
          23.144153341502484,
          41.35321079202144,
          71.44793014430834,
          119.59260540847733,
          194.2774354435771,
          306.80634423530125,
          471.74365044399565,
          707.2647061404289,
          1035.352536358277,
          1481.7860683012864,
          2075.8762124861473,
          2849.923277659012,
          3838.3913958410362,
          5076.8204501359105,
          6600.520651556619,
          8443.116598250104,
          10635.023943839326,
          13201.950964798856,
          16163.518493707317,
          19532.084948413143,
          23311.849455344905,
          27498.2869196168,
          32077.946334282686,
          37028.61979987868,
          42319.86670730926,
          47913.85709818425,
          53766.481708414256,
          59828.66448041492,
          66047.8067515226,
          72369.29078679968,
          78737.9733391134,
          85099.60672500967,
          91402.13456701364,
          97596.82086899779,
          103639.18348037064,
          109489.71537914002,
          115114.38881856966,
          120484.94766440202,
          125579.00180887159,
          130379.94416954284,
          134876.7154092546,
          139063.44422416712,
          142938.9920180293,
          146506.43026063347,
          149772.47710596927,
          152746.91722391674,
          155442.0255739579,
          157872.01229163597,
          160052.5022040481,
          162000.05893304994,
          163731.76023301657
         ],
         "yaxis": "y2"
        }
       ],
       "layout": {
        "barmode": "stack",
        "template": {
         "data": {
          "bar": [
           {
            "error_x": {
             "color": "#2a3f5f"
            },
            "error_y": {
             "color": "#2a3f5f"
            },
            "marker": {
             "line": {
              "color": "#E5ECF6",
              "width": 0.5
             },
             "pattern": {
              "fillmode": "overlay",
              "size": 10,
              "solidity": 0.2
             }
            },
            "type": "bar"
           }
          ],
          "barpolar": [
           {
            "marker": {
             "line": {
              "color": "#E5ECF6",
              "width": 0.5
             },
             "pattern": {
              "fillmode": "overlay",
              "size": 10,
              "solidity": 0.2
             }
            },
            "type": "barpolar"
           }
          ],
          "carpet": [
           {
            "aaxis": {
             "endlinecolor": "#2a3f5f",
             "gridcolor": "white",
             "linecolor": "white",
             "minorgridcolor": "white",
             "startlinecolor": "#2a3f5f"
            },
            "baxis": {
             "endlinecolor": "#2a3f5f",
             "gridcolor": "white",
             "linecolor": "white",
             "minorgridcolor": "white",
             "startlinecolor": "#2a3f5f"
            },
            "type": "carpet"
           }
          ],
          "choropleth": [
           {
            "colorbar": {
             "outlinewidth": 0,
             "ticks": ""
            },
            "type": "choropleth"
           }
          ],
          "contour": [
           {
            "colorbar": {
             "outlinewidth": 0,
             "ticks": ""
            },
            "colorscale": [
             [
              0,
              "#0d0887"
             ],
             [
              0.1111111111111111,
              "#46039f"
             ],
             [
              0.2222222222222222,
              "#7201a8"
             ],
             [
              0.3333333333333333,
              "#9c179e"
             ],
             [
              0.4444444444444444,
              "#bd3786"
             ],
             [
              0.5555555555555556,
              "#d8576b"
             ],
             [
              0.6666666666666666,
              "#ed7953"
             ],
             [
              0.7777777777777778,
              "#fb9f3a"
             ],
             [
              0.8888888888888888,
              "#fdca26"
             ],
             [
              1,
              "#f0f921"
             ]
            ],
            "type": "contour"
           }
          ],
          "contourcarpet": [
           {
            "colorbar": {
             "outlinewidth": 0,
             "ticks": ""
            },
            "type": "contourcarpet"
           }
          ],
          "heatmap": [
           {
            "colorbar": {
             "outlinewidth": 0,
             "ticks": ""
            },
            "colorscale": [
             [
              0,
              "#0d0887"
             ],
             [
              0.1111111111111111,
              "#46039f"
             ],
             [
              0.2222222222222222,
              "#7201a8"
             ],
             [
              0.3333333333333333,
              "#9c179e"
             ],
             [
              0.4444444444444444,
              "#bd3786"
             ],
             [
              0.5555555555555556,
              "#d8576b"
             ],
             [
              0.6666666666666666,
              "#ed7953"
             ],
             [
              0.7777777777777778,
              "#fb9f3a"
             ],
             [
              0.8888888888888888,
              "#fdca26"
             ],
             [
              1,
              "#f0f921"
             ]
            ],
            "type": "heatmap"
           }
          ],
          "heatmapgl": [
           {
            "colorbar": {
             "outlinewidth": 0,
             "ticks": ""
            },
            "colorscale": [
             [
              0,
              "#0d0887"
             ],
             [
              0.1111111111111111,
              "#46039f"
             ],
             [
              0.2222222222222222,
              "#7201a8"
             ],
             [
              0.3333333333333333,
              "#9c179e"
             ],
             [
              0.4444444444444444,
              "#bd3786"
             ],
             [
              0.5555555555555556,
              "#d8576b"
             ],
             [
              0.6666666666666666,
              "#ed7953"
             ],
             [
              0.7777777777777778,
              "#fb9f3a"
             ],
             [
              0.8888888888888888,
              "#fdca26"
             ],
             [
              1,
              "#f0f921"
             ]
            ],
            "type": "heatmapgl"
           }
          ],
          "histogram": [
           {
            "marker": {
             "pattern": {
              "fillmode": "overlay",
              "size": 10,
              "solidity": 0.2
             }
            },
            "type": "histogram"
           }
          ],
          "histogram2d": [
           {
            "colorbar": {
             "outlinewidth": 0,
             "ticks": ""
            },
            "colorscale": [
             [
              0,
              "#0d0887"
             ],
             [
              0.1111111111111111,
              "#46039f"
             ],
             [
              0.2222222222222222,
              "#7201a8"
             ],
             [
              0.3333333333333333,
              "#9c179e"
             ],
             [
              0.4444444444444444,
              "#bd3786"
             ],
             [
              0.5555555555555556,
              "#d8576b"
             ],
             [
              0.6666666666666666,
              "#ed7953"
             ],
             [
              0.7777777777777778,
              "#fb9f3a"
             ],
             [
              0.8888888888888888,
              "#fdca26"
             ],
             [
              1,
              "#f0f921"
             ]
            ],
            "type": "histogram2d"
           }
          ],
          "histogram2dcontour": [
           {
            "colorbar": {
             "outlinewidth": 0,
             "ticks": ""
            },
            "colorscale": [
             [
              0,
              "#0d0887"
             ],
             [
              0.1111111111111111,
              "#46039f"
             ],
             [
              0.2222222222222222,
              "#7201a8"
             ],
             [
              0.3333333333333333,
              "#9c179e"
             ],
             [
              0.4444444444444444,
              "#bd3786"
             ],
             [
              0.5555555555555556,
              "#d8576b"
             ],
             [
              0.6666666666666666,
              "#ed7953"
             ],
             [
              0.7777777777777778,
              "#fb9f3a"
             ],
             [
              0.8888888888888888,
              "#fdca26"
             ],
             [
              1,
              "#f0f921"
             ]
            ],
            "type": "histogram2dcontour"
           }
          ],
          "mesh3d": [
           {
            "colorbar": {
             "outlinewidth": 0,
             "ticks": ""
            },
            "type": "mesh3d"
           }
          ],
          "parcoords": [
           {
            "line": {
             "colorbar": {
              "outlinewidth": 0,
              "ticks": ""
             }
            },
            "type": "parcoords"
           }
          ],
          "pie": [
           {
            "automargin": true,
            "type": "pie"
           }
          ],
          "scatter": [
           {
            "fillpattern": {
             "fillmode": "overlay",
             "size": 10,
             "solidity": 0.2
            },
            "type": "scatter"
           }
          ],
          "scatter3d": [
           {
            "line": {
             "colorbar": {
              "outlinewidth": 0,
              "ticks": ""
             }
            },
            "marker": {
             "colorbar": {
              "outlinewidth": 0,
              "ticks": ""
             }
            },
            "type": "scatter3d"
           }
          ],
          "scattercarpet": [
           {
            "marker": {
             "colorbar": {
              "outlinewidth": 0,
              "ticks": ""
             }
            },
            "type": "scattercarpet"
           }
          ],
          "scattergeo": [
           {
            "marker": {
             "colorbar": {
              "outlinewidth": 0,
              "ticks": ""
             }
            },
            "type": "scattergeo"
           }
          ],
          "scattergl": [
           {
            "marker": {
             "colorbar": {
              "outlinewidth": 0,
              "ticks": ""
             }
            },
            "type": "scattergl"
           }
          ],
          "scattermapbox": [
           {
            "marker": {
             "colorbar": {
              "outlinewidth": 0,
              "ticks": ""
             }
            },
            "type": "scattermapbox"
           }
          ],
          "scatterpolar": [
           {
            "marker": {
             "colorbar": {
              "outlinewidth": 0,
              "ticks": ""
             }
            },
            "type": "scatterpolar"
           }
          ],
          "scatterpolargl": [
           {
            "marker": {
             "colorbar": {
              "outlinewidth": 0,
              "ticks": ""
             }
            },
            "type": "scatterpolargl"
           }
          ],
          "scatterternary": [
           {
            "marker": {
             "colorbar": {
              "outlinewidth": 0,
              "ticks": ""
             }
            },
            "type": "scatterternary"
           }
          ],
          "surface": [
           {
            "colorbar": {
             "outlinewidth": 0,
             "ticks": ""
            },
            "colorscale": [
             [
              0,
              "#0d0887"
             ],
             [
              0.1111111111111111,
              "#46039f"
             ],
             [
              0.2222222222222222,
              "#7201a8"
             ],
             [
              0.3333333333333333,
              "#9c179e"
             ],
             [
              0.4444444444444444,
              "#bd3786"
             ],
             [
              0.5555555555555556,
              "#d8576b"
             ],
             [
              0.6666666666666666,
              "#ed7953"
             ],
             [
              0.7777777777777778,
              "#fb9f3a"
             ],
             [
              0.8888888888888888,
              "#fdca26"
             ],
             [
              1,
              "#f0f921"
             ]
            ],
            "type": "surface"
           }
          ],
          "table": [
           {
            "cells": {
             "fill": {
              "color": "#EBF0F8"
             },
             "line": {
              "color": "white"
             }
            },
            "header": {
             "fill": {
              "color": "#C8D4E3"
             },
             "line": {
              "color": "white"
             }
            },
            "type": "table"
           }
          ]
         },
         "layout": {
          "annotationdefaults": {
           "arrowcolor": "#2a3f5f",
           "arrowhead": 0,
           "arrowwidth": 1
          },
          "autotypenumbers": "strict",
          "coloraxis": {
           "colorbar": {
            "outlinewidth": 0,
            "ticks": ""
           }
          },
          "colorscale": {
           "diverging": [
            [
             0,
             "#8e0152"
            ],
            [
             0.1,
             "#c51b7d"
            ],
            [
             0.2,
             "#de77ae"
            ],
            [
             0.3,
             "#f1b6da"
            ],
            [
             0.4,
             "#fde0ef"
            ],
            [
             0.5,
             "#f7f7f7"
            ],
            [
             0.6,
             "#e6f5d0"
            ],
            [
             0.7,
             "#b8e186"
            ],
            [
             0.8,
             "#7fbc41"
            ],
            [
             0.9,
             "#4d9221"
            ],
            [
             1,
             "#276419"
            ]
           ],
           "sequential": [
            [
             0,
             "#0d0887"
            ],
            [
             0.1111111111111111,
             "#46039f"
            ],
            [
             0.2222222222222222,
             "#7201a8"
            ],
            [
             0.3333333333333333,
             "#9c179e"
            ],
            [
             0.4444444444444444,
             "#bd3786"
            ],
            [
             0.5555555555555556,
             "#d8576b"
            ],
            [
             0.6666666666666666,
             "#ed7953"
            ],
            [
             0.7777777777777778,
             "#fb9f3a"
            ],
            [
             0.8888888888888888,
             "#fdca26"
            ],
            [
             1,
             "#f0f921"
            ]
           ],
           "sequentialminus": [
            [
             0,
             "#0d0887"
            ],
            [
             0.1111111111111111,
             "#46039f"
            ],
            [
             0.2222222222222222,
             "#7201a8"
            ],
            [
             0.3333333333333333,
             "#9c179e"
            ],
            [
             0.4444444444444444,
             "#bd3786"
            ],
            [
             0.5555555555555556,
             "#d8576b"
            ],
            [
             0.6666666666666666,
             "#ed7953"
            ],
            [
             0.7777777777777778,
             "#fb9f3a"
            ],
            [
             0.8888888888888888,
             "#fdca26"
            ],
            [
             1,
             "#f0f921"
            ]
           ]
          },
          "colorway": [
           "#636efa",
           "#EF553B",
           "#00cc96",
           "#ab63fa",
           "#FFA15A",
           "#19d3f3",
           "#FF6692",
           "#B6E880",
           "#FF97FF",
           "#FECB52"
          ],
          "font": {
           "color": "#2a3f5f"
          },
          "geo": {
           "bgcolor": "white",
           "lakecolor": "white",
           "landcolor": "#E5ECF6",
           "showlakes": true,
           "showland": true,
           "subunitcolor": "white"
          },
          "hoverlabel": {
           "align": "left"
          },
          "hovermode": "closest",
          "mapbox": {
           "style": "light"
          },
          "paper_bgcolor": "white",
          "plot_bgcolor": "#E5ECF6",
          "polar": {
           "angularaxis": {
            "gridcolor": "white",
            "linecolor": "white",
            "ticks": ""
           },
           "bgcolor": "#E5ECF6",
           "radialaxis": {
            "gridcolor": "white",
            "linecolor": "white",
            "ticks": ""
           }
          },
          "scene": {
           "xaxis": {
            "backgroundcolor": "#E5ECF6",
            "gridcolor": "white",
            "gridwidth": 2,
            "linecolor": "white",
            "showbackground": true,
            "ticks": "",
            "zerolinecolor": "white"
           },
           "yaxis": {
            "backgroundcolor": "#E5ECF6",
            "gridcolor": "white",
            "gridwidth": 2,
            "linecolor": "white",
            "showbackground": true,
            "ticks": "",
            "zerolinecolor": "white"
           },
           "zaxis": {
            "backgroundcolor": "#E5ECF6",
            "gridcolor": "white",
            "gridwidth": 2,
            "linecolor": "white",
            "showbackground": true,
            "ticks": "",
            "zerolinecolor": "white"
           }
          },
          "shapedefaults": {
           "line": {
            "color": "#2a3f5f"
           }
          },
          "ternary": {
           "aaxis": {
            "gridcolor": "white",
            "linecolor": "white",
            "ticks": ""
           },
           "baxis": {
            "gridcolor": "white",
            "linecolor": "white",
            "ticks": ""
           },
           "bgcolor": "#E5ECF6",
           "caxis": {
            "gridcolor": "white",
            "linecolor": "white",
            "ticks": ""
           }
          },
          "title": {
           "x": 0.05
          },
          "xaxis": {
           "automargin": true,
           "gridcolor": "white",
           "linecolor": "white",
           "ticks": "",
           "title": {
            "standoff": 15
           },
           "zerolinecolor": "white",
           "zerolinewidth": 2
          },
          "yaxis": {
           "automargin": true,
           "gridcolor": "white",
           "linecolor": "white",
           "ticks": "",
           "title": {
            "standoff": 15
           },
           "zerolinecolor": "white",
           "zerolinewidth": 2
          }
         }
        },
        "title": {
         "text": "Todays Option Pos (PnL and Delta)",
         "x": 0.5,
         "xanchor": "center"
        },
        "xaxis": {
         "anchor": "y",
         "domain": [
          0,
          0.45
         ],
         "title": {
          "text": "Price"
         }
        },
        "xaxis2": {
         "anchor": "y2",
         "domain": [
          0.55,
          1
         ],
         "title": {
          "text": "Price"
         }
        },
        "yaxis": {
         "anchor": "x",
         "domain": [
          0,
          1
         ],
         "title": {
          "text": "Pnl"
         }
        },
        "yaxis2": {
         "anchor": "x2",
         "domain": [
          0,
          1
         ],
         "title": {
          "text": "Delta"
         }
        }
       }
      },
      "text/html": [
       "<div>                            <div id=\"f31bce75-e427-4d65-8685-3db40f935787\" class=\"plotly-graph-div\" style=\"height:525px; width:100%;\"></div>            <script type=\"text/javascript\">                require([\"plotly\"], function(Plotly) {                    window.PLOTLYENV=window.PLOTLYENV || {};                                    if (document.getElementById(\"f31bce75-e427-4d65-8685-3db40f935787\")) {                    Plotly.newPlot(                        \"f31bce75-e427-4d65-8685-3db40f935787\",                        [{\"name\":\"EUA Dec24 75C\",\"x\":[30,31,32,33,34,35,36,37,38,39,40,41,42,43,44,45,46,47,48,49,50,51,52,53,54,55,56,57,58,59,60,61,62,63,64,65,66,67,68,69,70,71,72,73,74,75,76,77,78,79,80,81,82,83,84,85,86,87,88,89,90,91,92,93,94,95,96,97,98,99,100],\"y\":[-28086.385684289777,-28086.385684282995,-28086.385684237288,-28086.385683964738,-28086.38568251421,-28086.385675566176,-28086.385645384475,-28086.385525668215,-28086.385089350642,-28086.3836198624,-28086.379022544606,-28086.36559831639,-28086.328851294376,-28086.234172585013,-28086.003714332623,-28085.471935613285,-28084.30500250101,-28081.862618008923,-28076.973612661586,-28067.5900500022,-28050.28062445196,-28019.525085791494,-27966.77960746165,-27879.300064199113,-27738.736439615463,-27519.545590919104,-27187.30792836913,-26697.071083957417,-25991.87421135965,-25001.624090408677,-23642.493839095125,-21816.99416134714,-19414.826008071468,-16314.565704116472,-12386.16504686945,-7494.1774128742045,-1501.5548679654544,5726.191690437655,14316.71136950909,24386.6648961115,36037.951859867935,49354.524931687454,64399.95470915024,81215.85070823332,99821.18175770305,120212.47869657564,142364.84893979618,166233.68991129706,191756.95873064324,218857.83951945486,247447.64655973346,277428.8095460026,308697.8039147274,341147.9119879574,374671.72672474664,409163.3367832095,444520.157332757,480644.39410550223,517444.1475509107,554834.1791611732,592736.3729855359,631079.9322921311,669801.3547331343,708844.2298236281,748158.9007099422,787702.028724038,827436.094686748,867328.8658422019,907352.8520897544,947484.7701407054,987705.0295842641],\"type\":\"scatter\",\"xaxis\":\"x\",\"yaxis\":\"y\"},{\"name\":\"EUA Dec24 75C\",\"x\":[30,31,32,33,34,35,36,37,38,39,40,41,42,43,44,45,46,47,48,49,50,51,52,53,54,55,56,57,58,59,60,61,62,63,64,65,66,67,68,69,70,71,72,73,74,75,76,77,78,79,80,81,82,83,84,85,86,87,88,89,90,91,92,93,94,95,96,97,98,99,100],\"y\":[1.3024391814955183e-09,9.56917791462356e-09,6.169170785634065e-08,3.525562773322737e-07,1.8023811323160113e-06,8.311078844291538e-06,3.482522426299879e-05,0.00013350191505398902,0.00047108881961457455,0.0015387505532237001,0.0046762976573180215,0.013284210119039103,0.035426872621563014,0.0890445326084373,0.21170847202608384,0.4777312518210595,1.0263417222635098,2.105294186242059,4.134338507505436,7.792025490126276,14.127019696394113,24.69130765506316,41.68762658448159,68.11770487207613,107.9124799614365,166.0215448874242,248.43785389498464,362.13606658649235,514.9091450966982,715.0975460978144,971.2174663882488,1291.507457153871,1683.4244078855413,2153.1285971490397,2705.001818947804,3341.2417954382627,4061.570235548896,4863.081794490265,5740.248207695306,6685.077714923837,7687.416298213984,8735.365756308,9815.785343515723,10914.839213645202,12018.551303079948,13113.332172612325,14186.44797406319,15226.40918724718,16223.265106604245,17168.798339247547,18056.621065308787,18882.180980293557,19642.689389961866,20336.986776571262,20965.362392939092,21529.34428730821,22031.47491391254,22475.085467878784,22864.079616726034,23202.73466613837,23495.52562374887,23746.9752800279,23961.531419062652,24143.4706596494,24296.82722031323,24425.34407912404,24532.443516652842,24621.21383160571,24694.409042382908,24754.458574186385,24803.48422597863],\"type\":\"scatter\",\"xaxis\":\"x2\",\"yaxis\":\"y2\"},{\"name\":\"EUA Dec24 80C\",\"x\":[30,31,32,33,34,35,36,37,38,39,40,41,42,43,44,45,46,47,48,49,50,51,52,53,54,55,56,57,58,59,60,61,62,63,64,65,66,67,68,69,70,71,72,73,74,75,76,77,78,79,80,81,82,83,84,85,86,87,88,89,90,91,92,93,94,95,96,97,98,99,100],\"y\":[-28443.554490774368,-28443.554490772916,-28443.554490762934,-28443.554490702074,-28443.554490370014,-28443.554488735383,-28443.55448142185,-28443.55445148353,-28443.55433867348,-28443.55394522709,-28443.552668693814,-28443.548797943135,-28443.537782093535,-28443.50824306412,-28443.43334117088,-28443.25314276454,-28442.840565075523,-28441.93900575396,-28440.053773137177,-28436.272089462578,-28428.978369071265,-28415.423863197677,-28391.104358273973,-28348.89856860448,-28277.92541315032,-28162.092366160316,-27978.330473167825,-27694.54400234872,-27267.341967600856,-26639.661160134547,-25738.43077603288,-24472.461461772444,-22730.76103103063,-20381.480749819537,-17271.677371504615,-13228.03690973501,-8058.648963516098,-1555.8501240890732,6499.921770283661,16335.396479699106,28179.064469913777,42255.34770875124,58778.63419338964,77947.47272100145,99939.21260362842,124905.3409903482,152967.72203489617,184215.88238100463,218705.42193693077,256457.56321466327,297459.7915578839,341667.48632420023,389006.40224971314,439375.8322486821,492652.2680134192,548693.3721679237,607342.0837875534,668430.6957003522,731784.7647532547,797226.7427619735,864579.2439435184,933667.8923407124,1004323.7185645666,1076385.0979992608,1149699.241743768,1224123.2666832802,1299524.8821836591,1375782.738217486,1452786.4836666125,1530436.5846153053,1608643.9512095442],\"type\":\"scatter\",\"xaxis\":\"x\",\"yaxis\":\"y\"},{\"name\":\"EUA Dec24 80C\",\"x\":[30,31,32,33,34,35,36,37,38,39,40,41,42,43,44,45,46,47,48,49,50,51,52,53,54,55,56,57,58,59,60,61,62,63,64,65,66,67,68,69,70,71,72,73,74,75,76,77,78,79,80,81,82,83,84,85,86,87,88,89,90,91,92,93,94,95,96,97,98,99,100],\"y\":[2.760010693372711e-10,2.062985603772961e-09,1.3574799446323267e-08,7.941335205599535e-08,4.166925477193742e-07,1.976795780547797e-06,8.540087867197047e-06,3.381865242807757e-05,0.00012348805475551386,0.00041804314528701,0.0013185434183539762,0.003892363837324241,0.01079902546936721,0.028266306226153184,0.07004829432839206,0.1648857451668495,0.3697707297274637,0.7922396354779939,1.6258439323949059,3.2036415197098833,6.074692161492717,11.10776957155952,19.624504973028507,33.56078482196331,55.650519672755664,89.62027810702293,140.3774554317322,214.16958367643943,318.6891466166758,463.0977985503939,657.9468459490835,914.9774054304862,1246.7934003287905,1666.4125501086364,2186.713360902176,2819.8082368911673,3576.382622907831,4465.046252609547,5491.744276951283,6659.273030977425,7966.937810777266,9410.379150252338,10981.58096074598,12669.059965762932,14458.222558980728,16331.86378325223,18270.77450372449,20254.4175749382,22261.63202420351,24271.32577244682,26263.12168144183,28217.92805360512,30118.4123286818,31949.36483676805,33697.947376431286,35353.828521708056,36909.21351708447,38358.78115914995,39699.54310892263,40930.642684015496,42053.110499653165,43069.59358310673,43984.07303207708,44801.58318408595,45527.94285473384,46169.50669968098,46732.94232971741,47225.03658771377,47652.53246520959,48021.9965410298,48339.7155784667],\"type\":\"scatter\",\"xaxis\":\"x2\",\"yaxis\":\"y2\"},{\"name\":\"EUA Dec24 85C\",\"x\":[30,31,32,33,34,35,36,37,38,39,40,41,42,43,44,45,46,47,48,49,50,51,52,53,54,55,56,57,58,59,60,61,62,63,64,65,66,67,68,69,70,71,72,73,74,75,76,77,78,79,80,81,82,83,84,85,86,87,88,89,90,91,92,93,94,95,96,97,98,99,100],\"y\":[-29587.671264454508,-29587.67126445401,-29587.671264450604,-29587.671264429868,-29587.671264316374,-29587.67126375421,-29587.671261216357,-29587.67125070646,-29587.67121054744,-29587.67106820642,-29587.670597933018,-29587.66914321562,-29587.664912722743,-29587.653303006166,-29587.623132893605,-29587.54865147348,-29587.373456566103,-29586.979734367083,-29586.132194949292,-29584.380492881275,-29580.89672929678,-29574.216087522294,-29561.839453618093,-29539.648225920955,-29501.075136104926,-29435.97286775277,-29329.126746238788,-29158.370687080154,-28892.28811790222,-28487.51179937266,-27885.677015545523,-27010.128625225356,-25762.529743935076,-24019.563184993287,-21629.95070808892,-18412.034473325104,-14152.16587352897,-8604.126862445943,-1489.7679093801175,7499.013037135574,18696.900443049144,32460.432664414784,49162.03233211582,69182.99224595871,92905.68079904627,120705.28121042464,152941.40832080177,189949.95374431336,232035.49509816538,279464.5699888358,332460.0640146357,391196.8988486004,455799.13659056014,526338.5451324742,602834.6009597525,685255.8445615509,773522.452430705,867509.8504220933,967053.1668737816,1071952.310281386,1181977.4545488837,1296874.7234014352,1416371.88251533,1540183.871169718,1668018.0326024261,1799578.931726265,1934572.678632703,2072710.7048771644,2213712.9657430784,2357310.5647001355,2503247.8156106165],\"type\":\"scatter\",\"xaxis\":\"x\",\"yaxis\":\"y\"},{\"name\":\"EUA Dec24 85C\",\"x\":[30,31,32,33,34,35,36,37,38,39,40,41,42,43,44,45,46,47,48,49,50,51,52,53,54,55,56,57,58,59,60,61,62,63,64,65,66,67,68,69,70,71,72,73,74,75,76,77,78,79,80,81,82,83,84,85,86,87,88,89,90,91,92,93,94,95,96,97,98,99,100],\"y\":[9.494399287105369e-11,7.047899889550811e-10,4.624595821960419e-09,2.707799793747483e-08,1.4268576202539555e-07,6.818619753743298e-07,2.9756141086485645e-06,1.1933109078019406e-05,4.422955237016952e-05,0.00015230669809938716,0.0004896021884987839,0.0014756446225626689,0.004186727282946589,0.011223353920744661,0.028523361350487365,0.06893987913044805,0.1589247363928287,0.3503728421954693,0.7405768027073296,1.5042393069635993,2.942441483615655,5.554133565398764,10.135798586798238,17.914115714437884,30.714435809384923,51.1645212408541,82.92834111727879,130.95905587749706,201.75424464490294,303.5907236530779,446.71190014881483,643.4384150746552,908.1735876267044,1257.2793028782344,1708.8054717066393,2282.066565920675,2997.071085382598,3873.8229176990444,4931.52600906073,6187.7342025118805,7657.495346353654,9352.542013056463,11280.580030020981,13444.72062047055,15843.09284524858,18468.661142319692,21309.259230626576,24347.837718229537,27562.909620714836,30929.166675105313,34418.23059236279,37999.49769111099,41641.03284836997,45310.46925565848,48975.87371100027,52606.54257012376,56173.70038757264,59651.081037373275,63015.37908322292,66246.56681938897,69328.07928585257,72246.8753610325,74993.38756688956,77561.37641689813,79947.70703092222,82152.06644511173,84176.63972758764,86025.76187231649,87705.5606964556,89223.60381783375,90588.56042857126],\"type\":\"scatter\",\"xaxis\":\"x2\",\"yaxis\":\"y2\"},{\"mode\":\"lines\",\"name\":\"Total_PnL\",\"x\":[30,31,32,33,34,35,36,37,38,39,40,41,42,43,44,45,46,47,48,49,50,51,52,53,54,55,56,57,58,59,60,61,62,63,64,65,66,67,68,69,70,71,72,73,74,75,76,77,78,79,80,81,82,83,84,85,86,87,88,89,90,91,92,93,94,95,96,97,98,99,100],\"y\":[-86117.61143951865,-86117.61143950993,-86117.61143945082,-86117.61143909668,-86117.6114372006,-86117.61142805577,-86117.61138802268,-86117.6112278582,-86117.61063857157,-86117.60863329591,-86117.60228917144,-86117.58353947515,-86117.53154611065,-86117.3957186553,-86117.0601883971,-86116.27372985131,-86114.51902414263,-86110.78135812997,-86103.15958074806,-86088.24263234605,-86060.15572282,-86009.16503651146,-85919.72341935372,-85767.84685872454,-85517.73698887072,-85117.6108248322,-84494.76514777575,-83549.98577338629,-82151.50429686272,-80128.79704991588,-77266.60163067354,-73299.58424834494,-67908.11678303717,-60715.609638929294,-51287.79312646299,-39134.24879593432,-23712.369705010522,-4433.785296097361,19326.865230412634,48221.07441294618,82913.91677283085,124070.30530485348,172340.6212346557,228346.3156751935,292666.0751603778,365823.1008973485,448273.97929549415,540399.526036615,642497.8757657394,754779.9727229539,877367.502132253,1010293.1947188033,1153503.3427550008,1306862.2893691137,1470158.5956979182,1643112.553512684,1825384.6935510156,2016584.9402279477,2216282.079177947,2424013.2322045323,2639293.071477938,2861622.5480342787,3090496.9558130307,3325413.1989926067,3565876.175056136,3811404.2271335833,4061533.65550311,4315822.308936852,4573852.301499445,4835231.919456147,5099596.796404425],\"type\":\"scatter\",\"xaxis\":\"x\",\"yaxis\":\"y\"},{\"mode\":\"lines\",\"name\":\"Total_Delta\",\"x\":[30,31,32,33,34,35,36,37,38,39,40,41,42,43,44,45,46,47,48,49,50,51,52,53,54,55,56,57,58,59,60,61,62,63,64,65,66,67,68,69,70,71,72,73,74,75,76,77,78,79,80,81,82,83,84,85,86,87,88,89,90,91,92,93,94,95,96,97,98,99,100],\"y\":[1.673384243703843e-09,1.2336953507351602e-08,7.989110312462434e-08,4.590476273257439e-07,2.361759442060781e-06,1.0969736600213665e-05,4.6340926238844406e-05,0.000179253676560086,0.0006388064267402578,0.0021091003966100972,0.006484443264170781,0.018652218578926013,0.050412625373876814,0.12853419275533515,0.31028012770496327,0.711556876118357,1.5550371883838023,3.2479066639155225,6.500759242607672,12.499906316799759,23.144153341502484,41.35321079202144,71.44793014430834,119.59260540847733,194.2774354435771,306.80634423530125,471.74365044399565,707.2647061404289,1035.352536358277,1481.7860683012864,2075.8762124861473,2849.923277659012,3838.3913958410362,5076.8204501359105,6600.520651556619,8443.116598250104,10635.023943839326,13201.950964798856,16163.518493707317,19532.084948413143,23311.849455344905,27498.2869196168,32077.946334282686,37028.61979987868,42319.86670730926,47913.85709818425,53766.481708414256,59828.66448041492,66047.8067515226,72369.29078679968,78737.9733391134,85099.60672500967,91402.13456701364,97596.82086899779,103639.18348037064,109489.71537914002,115114.38881856966,120484.94766440202,125579.00180887159,130379.94416954284,134876.7154092546,139063.44422416712,142938.9920180293,146506.43026063347,149772.47710596927,152746.91722391674,155442.0255739579,157872.01229163597,160052.5022040481,162000.05893304994,163731.76023301657],\"type\":\"scatter\",\"xaxis\":\"x2\",\"yaxis\":\"y2\"}],                        {\"template\":{\"data\":{\"histogram2dcontour\":[{\"type\":\"histogram2dcontour\",\"colorbar\":{\"outlinewidth\":0,\"ticks\":\"\"},\"colorscale\":[[0.0,\"#0d0887\"],[0.1111111111111111,\"#46039f\"],[0.2222222222222222,\"#7201a8\"],[0.3333333333333333,\"#9c179e\"],[0.4444444444444444,\"#bd3786\"],[0.5555555555555556,\"#d8576b\"],[0.6666666666666666,\"#ed7953\"],[0.7777777777777778,\"#fb9f3a\"],[0.8888888888888888,\"#fdca26\"],[1.0,\"#f0f921\"]]}],\"choropleth\":[{\"type\":\"choropleth\",\"colorbar\":{\"outlinewidth\":0,\"ticks\":\"\"}}],\"histogram2d\":[{\"type\":\"histogram2d\",\"colorbar\":{\"outlinewidth\":0,\"ticks\":\"\"},\"colorscale\":[[0.0,\"#0d0887\"],[0.1111111111111111,\"#46039f\"],[0.2222222222222222,\"#7201a8\"],[0.3333333333333333,\"#9c179e\"],[0.4444444444444444,\"#bd3786\"],[0.5555555555555556,\"#d8576b\"],[0.6666666666666666,\"#ed7953\"],[0.7777777777777778,\"#fb9f3a\"],[0.8888888888888888,\"#fdca26\"],[1.0,\"#f0f921\"]]}],\"heatmap\":[{\"type\":\"heatmap\",\"colorbar\":{\"outlinewidth\":0,\"ticks\":\"\"},\"colorscale\":[[0.0,\"#0d0887\"],[0.1111111111111111,\"#46039f\"],[0.2222222222222222,\"#7201a8\"],[0.3333333333333333,\"#9c179e\"],[0.4444444444444444,\"#bd3786\"],[0.5555555555555556,\"#d8576b\"],[0.6666666666666666,\"#ed7953\"],[0.7777777777777778,\"#fb9f3a\"],[0.8888888888888888,\"#fdca26\"],[1.0,\"#f0f921\"]]}],\"heatmapgl\":[{\"type\":\"heatmapgl\",\"colorbar\":{\"outlinewidth\":0,\"ticks\":\"\"},\"colorscale\":[[0.0,\"#0d0887\"],[0.1111111111111111,\"#46039f\"],[0.2222222222222222,\"#7201a8\"],[0.3333333333333333,\"#9c179e\"],[0.4444444444444444,\"#bd3786\"],[0.5555555555555556,\"#d8576b\"],[0.6666666666666666,\"#ed7953\"],[0.7777777777777778,\"#fb9f3a\"],[0.8888888888888888,\"#fdca26\"],[1.0,\"#f0f921\"]]}],\"contourcarpet\":[{\"type\":\"contourcarpet\",\"colorbar\":{\"outlinewidth\":0,\"ticks\":\"\"}}],\"contour\":[{\"type\":\"contour\",\"colorbar\":{\"outlinewidth\":0,\"ticks\":\"\"},\"colorscale\":[[0.0,\"#0d0887\"],[0.1111111111111111,\"#46039f\"],[0.2222222222222222,\"#7201a8\"],[0.3333333333333333,\"#9c179e\"],[0.4444444444444444,\"#bd3786\"],[0.5555555555555556,\"#d8576b\"],[0.6666666666666666,\"#ed7953\"],[0.7777777777777778,\"#fb9f3a\"],[0.8888888888888888,\"#fdca26\"],[1.0,\"#f0f921\"]]}],\"surface\":[{\"type\":\"surface\",\"colorbar\":{\"outlinewidth\":0,\"ticks\":\"\"},\"colorscale\":[[0.0,\"#0d0887\"],[0.1111111111111111,\"#46039f\"],[0.2222222222222222,\"#7201a8\"],[0.3333333333333333,\"#9c179e\"],[0.4444444444444444,\"#bd3786\"],[0.5555555555555556,\"#d8576b\"],[0.6666666666666666,\"#ed7953\"],[0.7777777777777778,\"#fb9f3a\"],[0.8888888888888888,\"#fdca26\"],[1.0,\"#f0f921\"]]}],\"mesh3d\":[{\"type\":\"mesh3d\",\"colorbar\":{\"outlinewidth\":0,\"ticks\":\"\"}}],\"scatter\":[{\"fillpattern\":{\"fillmode\":\"overlay\",\"size\":10,\"solidity\":0.2},\"type\":\"scatter\"}],\"parcoords\":[{\"type\":\"parcoords\",\"line\":{\"colorbar\":{\"outlinewidth\":0,\"ticks\":\"\"}}}],\"scatterpolargl\":[{\"type\":\"scatterpolargl\",\"marker\":{\"colorbar\":{\"outlinewidth\":0,\"ticks\":\"\"}}}],\"bar\":[{\"error_x\":{\"color\":\"#2a3f5f\"},\"error_y\":{\"color\":\"#2a3f5f\"},\"marker\":{\"line\":{\"color\":\"#E5ECF6\",\"width\":0.5},\"pattern\":{\"fillmode\":\"overlay\",\"size\":10,\"solidity\":0.2}},\"type\":\"bar\"}],\"scattergeo\":[{\"type\":\"scattergeo\",\"marker\":{\"colorbar\":{\"outlinewidth\":0,\"ticks\":\"\"}}}],\"scatterpolar\":[{\"type\":\"scatterpolar\",\"marker\":{\"colorbar\":{\"outlinewidth\":0,\"ticks\":\"\"}}}],\"histogram\":[{\"marker\":{\"pattern\":{\"fillmode\":\"overlay\",\"size\":10,\"solidity\":0.2}},\"type\":\"histogram\"}],\"scattergl\":[{\"type\":\"scattergl\",\"marker\":{\"colorbar\":{\"outlinewidth\":0,\"ticks\":\"\"}}}],\"scatter3d\":[{\"type\":\"scatter3d\",\"line\":{\"colorbar\":{\"outlinewidth\":0,\"ticks\":\"\"}},\"marker\":{\"colorbar\":{\"outlinewidth\":0,\"ticks\":\"\"}}}],\"scattermapbox\":[{\"type\":\"scattermapbox\",\"marker\":{\"colorbar\":{\"outlinewidth\":0,\"ticks\":\"\"}}}],\"scatterternary\":[{\"type\":\"scatterternary\",\"marker\":{\"colorbar\":{\"outlinewidth\":0,\"ticks\":\"\"}}}],\"scattercarpet\":[{\"type\":\"scattercarpet\",\"marker\":{\"colorbar\":{\"outlinewidth\":0,\"ticks\":\"\"}}}],\"carpet\":[{\"aaxis\":{\"endlinecolor\":\"#2a3f5f\",\"gridcolor\":\"white\",\"linecolor\":\"white\",\"minorgridcolor\":\"white\",\"startlinecolor\":\"#2a3f5f\"},\"baxis\":{\"endlinecolor\":\"#2a3f5f\",\"gridcolor\":\"white\",\"linecolor\":\"white\",\"minorgridcolor\":\"white\",\"startlinecolor\":\"#2a3f5f\"},\"type\":\"carpet\"}],\"table\":[{\"cells\":{\"fill\":{\"color\":\"#EBF0F8\"},\"line\":{\"color\":\"white\"}},\"header\":{\"fill\":{\"color\":\"#C8D4E3\"},\"line\":{\"color\":\"white\"}},\"type\":\"table\"}],\"barpolar\":[{\"marker\":{\"line\":{\"color\":\"#E5ECF6\",\"width\":0.5},\"pattern\":{\"fillmode\":\"overlay\",\"size\":10,\"solidity\":0.2}},\"type\":\"barpolar\"}],\"pie\":[{\"automargin\":true,\"type\":\"pie\"}]},\"layout\":{\"autotypenumbers\":\"strict\",\"colorway\":[\"#636efa\",\"#EF553B\",\"#00cc96\",\"#ab63fa\",\"#FFA15A\",\"#19d3f3\",\"#FF6692\",\"#B6E880\",\"#FF97FF\",\"#FECB52\"],\"font\":{\"color\":\"#2a3f5f\"},\"hovermode\":\"closest\",\"hoverlabel\":{\"align\":\"left\"},\"paper_bgcolor\":\"white\",\"plot_bgcolor\":\"#E5ECF6\",\"polar\":{\"bgcolor\":\"#E5ECF6\",\"angularaxis\":{\"gridcolor\":\"white\",\"linecolor\":\"white\",\"ticks\":\"\"},\"radialaxis\":{\"gridcolor\":\"white\",\"linecolor\":\"white\",\"ticks\":\"\"}},\"ternary\":{\"bgcolor\":\"#E5ECF6\",\"aaxis\":{\"gridcolor\":\"white\",\"linecolor\":\"white\",\"ticks\":\"\"},\"baxis\":{\"gridcolor\":\"white\",\"linecolor\":\"white\",\"ticks\":\"\"},\"caxis\":{\"gridcolor\":\"white\",\"linecolor\":\"white\",\"ticks\":\"\"}},\"coloraxis\":{\"colorbar\":{\"outlinewidth\":0,\"ticks\":\"\"}},\"colorscale\":{\"sequential\":[[0.0,\"#0d0887\"],[0.1111111111111111,\"#46039f\"],[0.2222222222222222,\"#7201a8\"],[0.3333333333333333,\"#9c179e\"],[0.4444444444444444,\"#bd3786\"],[0.5555555555555556,\"#d8576b\"],[0.6666666666666666,\"#ed7953\"],[0.7777777777777778,\"#fb9f3a\"],[0.8888888888888888,\"#fdca26\"],[1.0,\"#f0f921\"]],\"sequentialminus\":[[0.0,\"#0d0887\"],[0.1111111111111111,\"#46039f\"],[0.2222222222222222,\"#7201a8\"],[0.3333333333333333,\"#9c179e\"],[0.4444444444444444,\"#bd3786\"],[0.5555555555555556,\"#d8576b\"],[0.6666666666666666,\"#ed7953\"],[0.7777777777777778,\"#fb9f3a\"],[0.8888888888888888,\"#fdca26\"],[1.0,\"#f0f921\"]],\"diverging\":[[0,\"#8e0152\"],[0.1,\"#c51b7d\"],[0.2,\"#de77ae\"],[0.3,\"#f1b6da\"],[0.4,\"#fde0ef\"],[0.5,\"#f7f7f7\"],[0.6,\"#e6f5d0\"],[0.7,\"#b8e186\"],[0.8,\"#7fbc41\"],[0.9,\"#4d9221\"],[1,\"#276419\"]]},\"xaxis\":{\"gridcolor\":\"white\",\"linecolor\":\"white\",\"ticks\":\"\",\"title\":{\"standoff\":15},\"zerolinecolor\":\"white\",\"automargin\":true,\"zerolinewidth\":2},\"yaxis\":{\"gridcolor\":\"white\",\"linecolor\":\"white\",\"ticks\":\"\",\"title\":{\"standoff\":15},\"zerolinecolor\":\"white\",\"automargin\":true,\"zerolinewidth\":2},\"scene\":{\"xaxis\":{\"backgroundcolor\":\"#E5ECF6\",\"gridcolor\":\"white\",\"linecolor\":\"white\",\"showbackground\":true,\"ticks\":\"\",\"zerolinecolor\":\"white\",\"gridwidth\":2},\"yaxis\":{\"backgroundcolor\":\"#E5ECF6\",\"gridcolor\":\"white\",\"linecolor\":\"white\",\"showbackground\":true,\"ticks\":\"\",\"zerolinecolor\":\"white\",\"gridwidth\":2},\"zaxis\":{\"backgroundcolor\":\"#E5ECF6\",\"gridcolor\":\"white\",\"linecolor\":\"white\",\"showbackground\":true,\"ticks\":\"\",\"zerolinecolor\":\"white\",\"gridwidth\":2}},\"shapedefaults\":{\"line\":{\"color\":\"#2a3f5f\"}},\"annotationdefaults\":{\"arrowcolor\":\"#2a3f5f\",\"arrowhead\":0,\"arrowwidth\":1},\"geo\":{\"bgcolor\":\"white\",\"landcolor\":\"#E5ECF6\",\"subunitcolor\":\"white\",\"showland\":true,\"showlakes\":true,\"lakecolor\":\"white\"},\"title\":{\"x\":0.05},\"mapbox\":{\"style\":\"light\"}}},\"xaxis\":{\"anchor\":\"y\",\"domain\":[0.0,0.45],\"title\":{\"text\":\"Price\"}},\"yaxis\":{\"anchor\":\"x\",\"domain\":[0.0,1.0],\"title\":{\"text\":\"Pnl\"}},\"xaxis2\":{\"anchor\":\"y2\",\"domain\":[0.55,1.0],\"title\":{\"text\":\"Price\"}},\"yaxis2\":{\"anchor\":\"x2\",\"domain\":[0.0,1.0],\"title\":{\"text\":\"Delta\"}},\"title\":{\"text\":\"Todays Option Pos (PnL and Delta)\",\"x\":0.5,\"xanchor\":\"center\"},\"barmode\":\"stack\"},                        {\"responsive\": true}                    ).then(function(){\n",
       "                            \n",
       "var gd = document.getElementById('f31bce75-e427-4d65-8685-3db40f935787');\n",
       "var x = new MutationObserver(function (mutations, observer) {{\n",
       "        var display = window.getComputedStyle(gd).display;\n",
       "        if (!display || display === 'none') {{\n",
       "            console.log([gd, 'removed!']);\n",
       "            Plotly.purge(gd);\n",
       "            observer.disconnect();\n",
       "        }}\n",
       "}});\n",
       "\n",
       "// Listen for the removal of the full notebook cells\n",
       "var notebookContainer = gd.closest('#notebook-container');\n",
       "if (notebookContainer) {{\n",
       "    x.observe(notebookContainer, {childList: true});\n",
       "}}\n",
       "\n",
       "// Listen for the clearing of the current output cell\n",
       "var outputEl = gd.closest('.output');\n",
       "if (outputEl) {{\n",
       "    x.observe(outputEl, {childList: true});\n",
       "}}\n",
       "\n",
       "                        })                };                });            </script>        </div>"
      ]
     },
     "metadata": {},
     "output_type": "display_data"
    }
   ],
   "source": [
    "pnl_delta_plot(one_month)"
   ]
  },
  {
   "cell_type": "markdown",
   "id": "89f40338",
   "metadata": {},
   "source": [
    "## End of Next Month"
   ]
  },
  {
   "cell_type": "code",
   "execution_count": 18,
   "id": "451ebb54",
   "metadata": {},
   "outputs": [
    {
     "data": {
      "application/vnd.plotly.v1+json": {
       "config": {
        "plotlyServerURL": "https://plot.ly"
       },
       "data": [
        {
         "name": "EUA Dec24 75C",
         "type": "scatter",
         "x": [
          30,
          31,
          32,
          33,
          34,
          35,
          36,
          37,
          38,
          39,
          40,
          41,
          42,
          43,
          44,
          45,
          46,
          47,
          48,
          49,
          50,
          51,
          52,
          53,
          54,
          55,
          56,
          57,
          58,
          59,
          60,
          61,
          62,
          63,
          64,
          65,
          66,
          67,
          68,
          69,
          70,
          71,
          72,
          73,
          74,
          75,
          76,
          77,
          78,
          79,
          80,
          81,
          82,
          83,
          84,
          85,
          86,
          87,
          88,
          89,
          90,
          91,
          92,
          93,
          94,
          95,
          96,
          97,
          98,
          99,
          100
         ],
         "xaxis": "x",
         "y": [
          -28086.385684290766,
          -28086.385684290766,
          -28086.385684290766,
          -28086.385684290766,
          -28086.385684290766,
          -28086.385684290766,
          -28086.385684290766,
          -28086.385684290766,
          -28086.385684290766,
          -28086.385684290763,
          -28086.385684290708,
          -28086.385684290097,
          -28086.385684284112,
          -28086.385684233148,
          -28086.38568385208,
          -28086.38568133338,
          -28086.385666510094,
          -28086.385588311357,
          -28086.38521623668,
          -28086.38361027528,
          -28086.37728843751,
          -28086.354478301142,
          -28086.278686916565,
          -28086.0457593799,
          -28085.38092397577,
          -28083.611732390622,
          -28079.206394636978,
          -28068.90697090375,
          -28046.225089372943,
          -27999.029087620293,
          -27905.97189280519,
          -27731.62700852373,
          -27420.439725799835,
          -26889.952296005384,
          -26024.168099003236,
          -24668.278318327564,
          -22626.16008105235,
          -19661.958728624177,
          -15506.639657222455,
          -9869.676724389034,
          -2455.1649581999523,
          7019.2035365438205,
          18802.48061419822,
          33092.539394080486,
          50022.1082753914,
          69650.39238895984,
          91961.06765008344,
          116866.51290868408,
          144217.3312851845,
          173815.63767579308,
          205430.32226290306,
          238812.53505066206,
          273709.91282203014,
          309878.4945319588,
          347091.74535651307,
          385146.54985760496,
          423866.38458844007,
          463102.11370392784,
          502730.96768210985,
          542654.2833029182,
          582794.5301435603,
          623092.0542926126,
          663501.8593346815,
          703990.6370010073,
          744534.1671576496,
          785115.1346078817,
          825721.3593257081,
          866344.404956487,
          906978.5139253602,
          947619.8121007638,
          988265.7278255558
         ],
         "yaxis": "y"
        },
        {
         "name": "EUA Dec24 75C",
         "type": "scatter",
         "x": [
          30,
          31,
          32,
          33,
          34,
          35,
          36,
          37,
          38,
          39,
          40,
          41,
          42,
          43,
          44,
          45,
          46,
          47,
          48,
          49,
          50,
          51,
          52,
          53,
          54,
          55,
          56,
          57,
          58,
          59,
          60,
          61,
          62,
          63,
          64,
          65,
          66,
          67,
          68,
          69,
          70,
          71,
          72,
          73,
          74,
          75,
          76,
          77,
          78,
          79,
          80,
          81,
          82,
          83,
          84,
          85,
          86,
          87,
          88,
          89,
          90,
          91,
          92,
          93,
          94,
          95,
          96,
          97,
          98,
          99,
          100
         ],
         "xaxis": "x2",
         "y": [
          8.252663581150309e-26,
          8.107784941669901e-24,
          5.883277793653941e-22,
          3.228147491017643e-20,
          1.3679690531033616e-18,
          4.563048007143594e-17,
          1.2188851511087687e-15,
          2.6483401967759962e-14,
          4.747280417330783e-13,
          7.111903955764612e-12,
          9.009903656044715e-11,
          9.757475221411326e-10,
          9.123048478168152e-09,
          7.431603211230921e-08,
          5.318727824875792e-07,
          3.3703691337842463e-06,
          1.9045825940145316e-05,
          9.661704898070036e-05,
          0.0004427012107259384,
          0.001842695829045898,
          0.007004779619541551,
          0.024439332845802676,
          0.07862353851824623,
          0.23424438145916576,
          0.6489423311853905,
          1.6781182725646389,
          4.0651762848681505,
          9.25651519876709,
          19.875402157947345,
          40.36442494435144,
          77.75746917025688,
          142.47220156210585,
          248.93782451012166,
          415.8165449387736,
          665.5712667627784,
          1023.1994806518396,
          1514.0972693901583,
          2161.2138701878657,
          2981.8583982747377,
          3984.667607905257,
          5167.287337303727,
          6515.237839844743,
          8002.237846720277,
          9591.999831614425,
          11241.2435789922,
          12903.469190169222,
          14532.927100229406,
          16088.23512497793,
          17535.205179068547,
          18848.618256486006,
          20012.880476829316,
          21021.664723763486,
          21876.76393270051,
          22586.44217276969,
          23163.57201875664,
          23623.805298970856,
          23983.957615557727,
          24260.712954377555,
          24469.687133046828,
          24624.836238005,
          24738.16176538052,
          24819.64701885428,
          24877.35604910739,
          24917.632660651485,
          24945.348503271347,
          24964.16254186263,
          24976.766853003803,
          24985.10434987281,
          24990.55214094554,
          24994.069808760905,
          24996.315310107257
         ],
         "yaxis": "y2"
        },
        {
         "name": "EUA Dec24 80C",
         "type": "scatter",
         "x": [
          30,
          31,
          32,
          33,
          34,
          35,
          36,
          37,
          38,
          39,
          40,
          41,
          42,
          43,
          44,
          45,
          46,
          47,
          48,
          49,
          50,
          51,
          52,
          53,
          54,
          55,
          56,
          57,
          58,
          59,
          60,
          61,
          62,
          63,
          64,
          65,
          66,
          67,
          68,
          69,
          70,
          71,
          72,
          73,
          74,
          75,
          76,
          77,
          78,
          79,
          80,
          81,
          82,
          83,
          84,
          85,
          86,
          87,
          88,
          89,
          90,
          91,
          92,
          93,
          94,
          95,
          96,
          97,
          98,
          99,
          100
         ],
         "xaxis": "x",
         "y": [
          -28443.554490774575,
          -28443.554490774575,
          -28443.554490774575,
          -28443.554490774575,
          -28443.554490774575,
          -28443.554490774575,
          -28443.554490774575,
          -28443.554490774575,
          -28443.554490774575,
          -28443.554490774575,
          -28443.554490774575,
          -28443.554490774557,
          -28443.554490774404,
          -28443.55449077293,
          -28443.554490760765,
          -28443.554490671857,
          -28443.554490091952,
          -28443.554486696004,
          -28443.554468732746,
          -28443.554382424598,
          -28443.55400379069,
          -28443.552479758953,
          -28443.546825933132,
          -28443.52741238572,
          -28443.465467514456,
          -28443.28110988127,
          -28442.767549241267,
          -28441.424082680478,
          -28438.11342992231,
          -28430.405757515906,
          -28413.40543715865,
          -28377.788841450234,
          -28306.73503544642,
          -28171.438737572327,
          -27924.99240665313,
          -27494.63889849879,
          -26772.730866292084,
          -25607.154054318973,
          -23792.404062823254,
          -21062.844150055476,
          -17089.802106503674,
          -11483.999570538439,
          -3804.316580749873,
          6426.877344972467,
          19702.52759995077,
          36505.461599302194,
          57281.08203331477,
          82410.9483802718,
          112189.98977747645,
          146809.6608486998,
          186348.59409361717,
          230771.3609416595,
          279934.9937025861,
          333602.0938644522,
          391458.76823743497,
          453135.34651264537,
          518227.83797617146,
          586318.3314210933,
          656992.9525884411,
          729856.4807907447,
          804543.2114929782,
          880724.0740918872,
          958110.3371577364,
          1036454.4433268578,
          1115548.6180431417,
          1195221.908314195,
          1275336.2537921707,
          1355782.0980106385,
          1436473.934894521,
          1517346.0721655458,
          1598348.7908418134
         ],
         "yaxis": "y"
        },
        {
         "name": "EUA Dec24 80C",
         "type": "scatter",
         "x": [
          30,
          31,
          32,
          33,
          34,
          35,
          36,
          37,
          38,
          39,
          40,
          41,
          42,
          43,
          44,
          45,
          46,
          47,
          48,
          49,
          50,
          51,
          52,
          53,
          54,
          55,
          56,
          57,
          58,
          59,
          60,
          61,
          62,
          63,
          64,
          65,
          66,
          67,
          68,
          69,
          70,
          71,
          72,
          73,
          74,
          75,
          76,
          77,
          78,
          79,
          80,
          81,
          82,
          83,
          84,
          85,
          86,
          87,
          88,
          89,
          90,
          91,
          92,
          93,
          94,
          95,
          96,
          97,
          98,
          99,
          100
         ],
         "xaxis": "x2",
         "y": [
          9.24318389750141e-28,
          9.476986685570903e-26,
          7.231766221979984e-24,
          4.2016732605578008e-22,
          1.8970671316343568e-20,
          6.780015439867997e-19,
          1.9503145151991073e-17,
          4.584246074435054e-16,
          8.926623301370838e-15,
          1.4581436449500068e-13,
          2.0210388078025788e-12,
          2.4019178520988857e-11,
          2.4712889243486406e-10,
          2.2207878526408137e-09,
          1.7572870331383475e-08,
          1.233649727858871e-07,
          7.736953768758634e-07,
          4.362846669861903e-06,
          2.2252701760821186e-05,
          0.00010323242589314022,
          0.0004378356082820196,
          0.0017059118358167785,
          0.006133423358981463,
          0.020434955995677087,
          0.06333976425351083,
          0.18332111261900322,
          0.49714808141180344,
          1.2673917099642376,
          3.046634068249088,
          6.925820691482553,
          14.929720673272422,
          30.59750565028553,
          59.76409304216379,
          111.51342533826923,
          199.20947972491328,
          341.4345937923161,
          562.5970156625035,
          892.9356076598914,
          1367.6730269861814,
          2025.1625183046244,
          2904.032480482103,
          4039.5311460955845,
          5459.468444113302,
          7180.294965499098,
          9203.90846432079,
          11515.716385316757,
          14084.315363602149,
          16862.907999556064,
          19792.31293934712,
          22805.18973998084,
          25830.939127391477,
          28800.676998172963,
          31651.719034853493,
          34331.13386806306,
          36798.094595693234,
          39024.94481167496,
          40997.063419015925,
          42711.73917888054,
          44176.33992856056,
          45406.0828355359,
          46421.689737614215,
          47247.15923006012,
          47907.81957276316,
          48428.75689416426,
          48833.651348721396,
          49144.005635148824,
          49378.71770858046,
          49553.931877885574,
          49683.09721995282,
          49777.16599523275,
          49844.87409606108
         ],
         "yaxis": "y2"
        },
        {
         "name": "EUA Dec24 85C",
         "type": "scatter",
         "x": [
          30,
          31,
          32,
          33,
          34,
          35,
          36,
          37,
          38,
          39,
          40,
          41,
          42,
          43,
          44,
          45,
          46,
          47,
          48,
          49,
          50,
          51,
          52,
          53,
          54,
          55,
          56,
          57,
          58,
          59,
          60,
          61,
          62,
          63,
          64,
          65,
          66,
          67,
          68,
          69,
          70,
          71,
          72,
          73,
          74,
          75,
          76,
          77,
          78,
          79,
          80,
          81,
          82,
          83,
          84,
          85,
          86,
          87,
          88,
          89,
          90,
          91,
          92,
          93,
          94,
          95,
          96,
          97,
          98,
          99,
          100
         ],
         "xaxis": "x",
         "y": [
          -29587.67126445458,
          -29587.67126445458,
          -29587.67126445458,
          -29587.67126445458,
          -29587.67126445458,
          -29587.67126445458,
          -29587.67126445458,
          -29587.67126445458,
          -29587.67126445458,
          -29587.67126445458,
          -29587.67126445458,
          -29587.67126445458,
          -29587.67126445457,
          -29587.671264454504,
          -29587.671264453882,
          -29587.671264449018,
          -29587.671264415185,
          -29587.671264202923,
          -29587.671262997395,
          -29587.671256764912,
          -29587.67122728662,
          -29587.671099132996,
          -29587.670584800653,
          -29587.668671359035,
          -29587.66204757365,
          -29587.64063471603,
          -29587.575773834233,
          -29587.391099813296,
          -29586.89537839571,
          -29585.637327407898,
          -29582.610842100843,
          -29575.69179425939,
          -29560.623967340547,
          -29529.296420112187,
          -29466.98056317715,
          -29348.145157530133,
          -29130.47232689101,
          -28746.79137068675,
          -28094.8566787836,
          -27025.22947915329,
          -25327.958766342967,
          -22719.237647766764,
          -18829.64934021771,
          -13195.90732062894,
          -5258.03833641444,
          5636.310500035067,
          20219.34937414422,
          39282.1751624391,
          63646.130522900334,
          94128.27867370585,
          131503.61925960594,
          176467.1999426016,
          229599.40856594057,
          291337.4423384608,
          361955.29439507,
          441553.68245985324,
          530060.3109367067,
          627239.8541960139,
          732712.2029715274,
          845976.9171746533,
          966441.5193865588,
          1093451.2396722299,
          1226318.042168363,
          1364347.1604712568,
          1506859.8654252996,
          1653211.711623838,
          1802805.9964395703,
          1955102.574315656,
          2109622.4753776034,
          2265948.974819259,
          2423725.8554882044
         ],
         "yaxis": "y"
        },
        {
         "name": "EUA Dec24 85C",
         "type": "scatter",
         "x": [
          30,
          31,
          32,
          33,
          34,
          35,
          36,
          37,
          38,
          39,
          40,
          41,
          42,
          43,
          44,
          45,
          46,
          47,
          48,
          49,
          50,
          51,
          52,
          53,
          54,
          55,
          56,
          57,
          58,
          59,
          60,
          61,
          62,
          63,
          64,
          65,
          66,
          67,
          68,
          69,
          70,
          71,
          72,
          73,
          74,
          75,
          76,
          77,
          78,
          79,
          80,
          81,
          82,
          83,
          84,
          85,
          86,
          87,
          88,
          89,
          90,
          91,
          92,
          93,
          94,
          95,
          96,
          97,
          98,
          99,
          100
         ],
         "xaxis": "x2",
         "y": [
          3.142153825567226e-29,
          3.1784398129079707e-27,
          2.415732910229721e-25,
          1.4100431784393094e-23,
          6.446229750071051e-22,
          2.3494813011269794e-20,
          6.937424097121702e-19,
          1.683850712299251e-17,
          3.404349504322696e-16,
          5.802670987368445e-15,
          8.430844094123921e-14,
          1.0547420988653756e-12,
          1.1467682390129824e-11,
          1.0928426197761599e-10,
          9.200250020793221e-10,
          6.892024821719744e-09,
          4.624954327780804e-08,
          2.797532790023776e-07,
          1.5340841055155437e-06,
          7.667462791774573e-06,
          3.510297749928478e-05,
          0.00014789053775513656,
          0.0005758656660747342,
          0.0020808645118875206,
          0.007004114224599054,
          0.022038966535842294,
          0.065043638077183,
          0.18061501850165748,
          0.4732797710009769,
          1.173553154951706,
          2.760869470212464,
          6.1776307387945035,
          13.177943187230271,
          26.8587637140019,
          52.414414901373554,
          98.13180439153334,
          176.59931060872094,
          306.03804110747245,
          511.58787040821744,
          826.3076587714767,
          1291.6001340941657,
          1956.768601221677,
          2877.4707098221593,
          4112.957729683031,
          5722.16402175476,
          7758.912909105798,
          10266.693540123117,
          13273.598143969806,
          16788.057749600626,
          20795.960740853476,
          25259.58710153926,
          30118.566460170066,
          35292.80908603455,
          40687.11041846561,
          46196.93213225766,
          51714.74482873569,
          57136.29138729242,
          62366.19099543482,
          67322.4331073869,
          71939.48070294407,
          76169.88349183065,
          79984.46756114901,
          83371.29887837695,
          86333.70339515034,
          88887.6643225682,
          91058.91263268728,
          92879.9897997061,
          94387.50409422125,
          95619.73504277036,
          96614.67479496344,
          97408.53722414945
         ],
         "yaxis": "y2"
        },
        {
         "mode": "lines",
         "name": "Total_PnL",
         "type": "scatter",
         "x": [
          30,
          31,
          32,
          33,
          34,
          35,
          36,
          37,
          38,
          39,
          40,
          41,
          42,
          43,
          44,
          45,
          46,
          47,
          48,
          49,
          50,
          51,
          52,
          53,
          54,
          55,
          56,
          57,
          58,
          59,
          60,
          61,
          62,
          63,
          64,
          65,
          66,
          67,
          68,
          69,
          70,
          71,
          72,
          73,
          74,
          75,
          76,
          77,
          78,
          79,
          80,
          81,
          82,
          83,
          84,
          85,
          86,
          87,
          88,
          89,
          90,
          91,
          92,
          93,
          94,
          95,
          96,
          97,
          98,
          99,
          100
         ],
         "xaxis": "x",
         "y": [
          -86117.61143951993,
          -86117.61143951993,
          -86117.61143951993,
          -86117.61143951993,
          -86117.61143951993,
          -86117.61143951993,
          -86117.61143951993,
          -86117.61143951993,
          -86117.61143951993,
          -86117.61143951991,
          -86117.61143951987,
          -86117.61143951923,
          -86117.61143951309,
          -86117.61143946058,
          -86117.61143906672,
          -86117.61143645426,
          -86117.61142101724,
          -86117.61133921029,
          -86117.61094796682,
          -86117.60924946479,
          -86117.60251951482,
          -86117.57805719308,
          -86117.49609765035,
          -86117.24184312465,
          -86116.50843906388,
          -86114.53347698791,
          -86109.54971771248,
          -86097.72215339752,
          -86071.23389769097,
          -86015.0721725441,
          -85901.98817206468,
          -85685.10764423336,
          -85287.7987285868,
          -84590.6874536899,
          -83416.14106883352,
          -81511.0623743565,
          -78529.36327423545,
          -74015.9041536299,
          -67393.90039882931,
          -57957.7503535978,
          -44872.925831046596,
          -27184.033681761382,
          -3831.4853067693657,
          26323.509418424015,
          64466.59753892773,
          111792.1644882971,
          169461.49905754242,
          238559.636451395,
          320053.45158556127,
          414753.57719819876,
          523282.5356161262,
          646051.0959349232,
          783244.3150905569,
          934818.0307348717,
          1100505.807989018,
          1279835.5788301034,
          1472154.5335013182,
          1676660.299321035,
          1892436.1232420783,
          2118487.681268316,
          2353779.261023097,
          2597267.3680567294,
          2847930.2386607807,
          3104792.240799122,
          3366942.6506260913,
          3633548.754545915,
          3903863.609557449,
          4177229.0772827817,
          4453074.924197485,
          4730914.859085568,
          5010340.374155574
         ],
         "yaxis": "y"
        },
        {
         "mode": "lines",
         "name": "Total_Delta",
         "type": "scatter",
         "x": [
          30,
          31,
          32,
          33,
          34,
          35,
          36,
          37,
          38,
          39,
          40,
          41,
          42,
          43,
          44,
          45,
          46,
          47,
          48,
          49,
          50,
          51,
          52,
          53,
          54,
          55,
          56,
          57,
          58,
          59,
          60,
          61,
          62,
          63,
          64,
          65,
          66,
          67,
          68,
          69,
          70,
          71,
          72,
          73,
          74,
          75,
          76,
          77,
          78,
          79,
          80,
          81,
          82,
          83,
          84,
          85,
          86,
          87,
          88,
          89,
          90,
          91,
          92,
          93,
          94,
          95,
          96,
          97,
          98,
          99,
          100
         ],
         "xaxis": "x2",
         "y": [
          8.34823757395089e-26,
          8.205733248338518e-24,
          5.958011188783971e-22,
          3.2715742668016605e-20,
          1.3875843473947122e-18,
          4.633197642843401e-17,
          1.239082038670472e-15,
          2.6958665082326458e-14,
          4.839950999848814e-13,
          7.263520991246981e-12,
          9.220438380919096e-11,
          1.0008214427609869e-09,
          9.381645052993146e-09,
          7.664610422692763e-08,
          5.503656778210419e-07,
          3.500626131391853e-06,
          1.9865770860298988e-05,
          0.00010125964892956464,
          0.00046648799659227514,
          0.001953595717730813,
          0.0074777182053228555,
          0.02629313521937459,
          0.08533282754330243,
          0.2567602019667304,
          0.7192862096635003,
          1.8834783517194844,
          4.6273680043571375,
          10.704521927232983,
          23.39531599719741,
          48.4637987907857,
          95.44805931374178,
          179.2473379511859,
          321.8798607395157,
          554.1887339910447,
          917.1951613890652,
          1462.765878835689,
          2253.293595661383,
          3360.1875189552297,
          4861.119295669136,
          6836.137784981358,
          9362.919951879996,
          12511.537587162004,
          16339.177000655738,
          20885.252526796554,
          26167.316065067753,
          32178.098484591777,
          38883.936003954674,
          46224.7412685038,
          54115.5758680163,
          62449.76873732032,
          71103.40670576005,
          79940.90818210652,
          88821.29205358855,
          97604.68645929836,
          106158.59874670753,
          114363.49493938152,
          122117.31242186608,
          129338.64312869291,
          135968.4601689943,
          141970.39977648496,
          147329.73499482538,
          152051.2738100634,
          156156.4745002475,
          159680.09294996609,
          162666.66417456095,
          165167.08080969873,
          167235.47436129037,
          168926.54032197964,
          170293.38440366872,
          171385.9105989571,
          172249.7266303178
         ],
         "yaxis": "y2"
        }
       ],
       "layout": {
        "barmode": "stack",
        "template": {
         "data": {
          "bar": [
           {
            "error_x": {
             "color": "#2a3f5f"
            },
            "error_y": {
             "color": "#2a3f5f"
            },
            "marker": {
             "line": {
              "color": "#E5ECF6",
              "width": 0.5
             },
             "pattern": {
              "fillmode": "overlay",
              "size": 10,
              "solidity": 0.2
             }
            },
            "type": "bar"
           }
          ],
          "barpolar": [
           {
            "marker": {
             "line": {
              "color": "#E5ECF6",
              "width": 0.5
             },
             "pattern": {
              "fillmode": "overlay",
              "size": 10,
              "solidity": 0.2
             }
            },
            "type": "barpolar"
           }
          ],
          "carpet": [
           {
            "aaxis": {
             "endlinecolor": "#2a3f5f",
             "gridcolor": "white",
             "linecolor": "white",
             "minorgridcolor": "white",
             "startlinecolor": "#2a3f5f"
            },
            "baxis": {
             "endlinecolor": "#2a3f5f",
             "gridcolor": "white",
             "linecolor": "white",
             "minorgridcolor": "white",
             "startlinecolor": "#2a3f5f"
            },
            "type": "carpet"
           }
          ],
          "choropleth": [
           {
            "colorbar": {
             "outlinewidth": 0,
             "ticks": ""
            },
            "type": "choropleth"
           }
          ],
          "contour": [
           {
            "colorbar": {
             "outlinewidth": 0,
             "ticks": ""
            },
            "colorscale": [
             [
              0,
              "#0d0887"
             ],
             [
              0.1111111111111111,
              "#46039f"
             ],
             [
              0.2222222222222222,
              "#7201a8"
             ],
             [
              0.3333333333333333,
              "#9c179e"
             ],
             [
              0.4444444444444444,
              "#bd3786"
             ],
             [
              0.5555555555555556,
              "#d8576b"
             ],
             [
              0.6666666666666666,
              "#ed7953"
             ],
             [
              0.7777777777777778,
              "#fb9f3a"
             ],
             [
              0.8888888888888888,
              "#fdca26"
             ],
             [
              1,
              "#f0f921"
             ]
            ],
            "type": "contour"
           }
          ],
          "contourcarpet": [
           {
            "colorbar": {
             "outlinewidth": 0,
             "ticks": ""
            },
            "type": "contourcarpet"
           }
          ],
          "heatmap": [
           {
            "colorbar": {
             "outlinewidth": 0,
             "ticks": ""
            },
            "colorscale": [
             [
              0,
              "#0d0887"
             ],
             [
              0.1111111111111111,
              "#46039f"
             ],
             [
              0.2222222222222222,
              "#7201a8"
             ],
             [
              0.3333333333333333,
              "#9c179e"
             ],
             [
              0.4444444444444444,
              "#bd3786"
             ],
             [
              0.5555555555555556,
              "#d8576b"
             ],
             [
              0.6666666666666666,
              "#ed7953"
             ],
             [
              0.7777777777777778,
              "#fb9f3a"
             ],
             [
              0.8888888888888888,
              "#fdca26"
             ],
             [
              1,
              "#f0f921"
             ]
            ],
            "type": "heatmap"
           }
          ],
          "heatmapgl": [
           {
            "colorbar": {
             "outlinewidth": 0,
             "ticks": ""
            },
            "colorscale": [
             [
              0,
              "#0d0887"
             ],
             [
              0.1111111111111111,
              "#46039f"
             ],
             [
              0.2222222222222222,
              "#7201a8"
             ],
             [
              0.3333333333333333,
              "#9c179e"
             ],
             [
              0.4444444444444444,
              "#bd3786"
             ],
             [
              0.5555555555555556,
              "#d8576b"
             ],
             [
              0.6666666666666666,
              "#ed7953"
             ],
             [
              0.7777777777777778,
              "#fb9f3a"
             ],
             [
              0.8888888888888888,
              "#fdca26"
             ],
             [
              1,
              "#f0f921"
             ]
            ],
            "type": "heatmapgl"
           }
          ],
          "histogram": [
           {
            "marker": {
             "pattern": {
              "fillmode": "overlay",
              "size": 10,
              "solidity": 0.2
             }
            },
            "type": "histogram"
           }
          ],
          "histogram2d": [
           {
            "colorbar": {
             "outlinewidth": 0,
             "ticks": ""
            },
            "colorscale": [
             [
              0,
              "#0d0887"
             ],
             [
              0.1111111111111111,
              "#46039f"
             ],
             [
              0.2222222222222222,
              "#7201a8"
             ],
             [
              0.3333333333333333,
              "#9c179e"
             ],
             [
              0.4444444444444444,
              "#bd3786"
             ],
             [
              0.5555555555555556,
              "#d8576b"
             ],
             [
              0.6666666666666666,
              "#ed7953"
             ],
             [
              0.7777777777777778,
              "#fb9f3a"
             ],
             [
              0.8888888888888888,
              "#fdca26"
             ],
             [
              1,
              "#f0f921"
             ]
            ],
            "type": "histogram2d"
           }
          ],
          "histogram2dcontour": [
           {
            "colorbar": {
             "outlinewidth": 0,
             "ticks": ""
            },
            "colorscale": [
             [
              0,
              "#0d0887"
             ],
             [
              0.1111111111111111,
              "#46039f"
             ],
             [
              0.2222222222222222,
              "#7201a8"
             ],
             [
              0.3333333333333333,
              "#9c179e"
             ],
             [
              0.4444444444444444,
              "#bd3786"
             ],
             [
              0.5555555555555556,
              "#d8576b"
             ],
             [
              0.6666666666666666,
              "#ed7953"
             ],
             [
              0.7777777777777778,
              "#fb9f3a"
             ],
             [
              0.8888888888888888,
              "#fdca26"
             ],
             [
              1,
              "#f0f921"
             ]
            ],
            "type": "histogram2dcontour"
           }
          ],
          "mesh3d": [
           {
            "colorbar": {
             "outlinewidth": 0,
             "ticks": ""
            },
            "type": "mesh3d"
           }
          ],
          "parcoords": [
           {
            "line": {
             "colorbar": {
              "outlinewidth": 0,
              "ticks": ""
             }
            },
            "type": "parcoords"
           }
          ],
          "pie": [
           {
            "automargin": true,
            "type": "pie"
           }
          ],
          "scatter": [
           {
            "fillpattern": {
             "fillmode": "overlay",
             "size": 10,
             "solidity": 0.2
            },
            "type": "scatter"
           }
          ],
          "scatter3d": [
           {
            "line": {
             "colorbar": {
              "outlinewidth": 0,
              "ticks": ""
             }
            },
            "marker": {
             "colorbar": {
              "outlinewidth": 0,
              "ticks": ""
             }
            },
            "type": "scatter3d"
           }
          ],
          "scattercarpet": [
           {
            "marker": {
             "colorbar": {
              "outlinewidth": 0,
              "ticks": ""
             }
            },
            "type": "scattercarpet"
           }
          ],
          "scattergeo": [
           {
            "marker": {
             "colorbar": {
              "outlinewidth": 0,
              "ticks": ""
             }
            },
            "type": "scattergeo"
           }
          ],
          "scattergl": [
           {
            "marker": {
             "colorbar": {
              "outlinewidth": 0,
              "ticks": ""
             }
            },
            "type": "scattergl"
           }
          ],
          "scattermapbox": [
           {
            "marker": {
             "colorbar": {
              "outlinewidth": 0,
              "ticks": ""
             }
            },
            "type": "scattermapbox"
           }
          ],
          "scatterpolar": [
           {
            "marker": {
             "colorbar": {
              "outlinewidth": 0,
              "ticks": ""
             }
            },
            "type": "scatterpolar"
           }
          ],
          "scatterpolargl": [
           {
            "marker": {
             "colorbar": {
              "outlinewidth": 0,
              "ticks": ""
             }
            },
            "type": "scatterpolargl"
           }
          ],
          "scatterternary": [
           {
            "marker": {
             "colorbar": {
              "outlinewidth": 0,
              "ticks": ""
             }
            },
            "type": "scatterternary"
           }
          ],
          "surface": [
           {
            "colorbar": {
             "outlinewidth": 0,
             "ticks": ""
            },
            "colorscale": [
             [
              0,
              "#0d0887"
             ],
             [
              0.1111111111111111,
              "#46039f"
             ],
             [
              0.2222222222222222,
              "#7201a8"
             ],
             [
              0.3333333333333333,
              "#9c179e"
             ],
             [
              0.4444444444444444,
              "#bd3786"
             ],
             [
              0.5555555555555556,
              "#d8576b"
             ],
             [
              0.6666666666666666,
              "#ed7953"
             ],
             [
              0.7777777777777778,
              "#fb9f3a"
             ],
             [
              0.8888888888888888,
              "#fdca26"
             ],
             [
              1,
              "#f0f921"
             ]
            ],
            "type": "surface"
           }
          ],
          "table": [
           {
            "cells": {
             "fill": {
              "color": "#EBF0F8"
             },
             "line": {
              "color": "white"
             }
            },
            "header": {
             "fill": {
              "color": "#C8D4E3"
             },
             "line": {
              "color": "white"
             }
            },
            "type": "table"
           }
          ]
         },
         "layout": {
          "annotationdefaults": {
           "arrowcolor": "#2a3f5f",
           "arrowhead": 0,
           "arrowwidth": 1
          },
          "autotypenumbers": "strict",
          "coloraxis": {
           "colorbar": {
            "outlinewidth": 0,
            "ticks": ""
           }
          },
          "colorscale": {
           "diverging": [
            [
             0,
             "#8e0152"
            ],
            [
             0.1,
             "#c51b7d"
            ],
            [
             0.2,
             "#de77ae"
            ],
            [
             0.3,
             "#f1b6da"
            ],
            [
             0.4,
             "#fde0ef"
            ],
            [
             0.5,
             "#f7f7f7"
            ],
            [
             0.6,
             "#e6f5d0"
            ],
            [
             0.7,
             "#b8e186"
            ],
            [
             0.8,
             "#7fbc41"
            ],
            [
             0.9,
             "#4d9221"
            ],
            [
             1,
             "#276419"
            ]
           ],
           "sequential": [
            [
             0,
             "#0d0887"
            ],
            [
             0.1111111111111111,
             "#46039f"
            ],
            [
             0.2222222222222222,
             "#7201a8"
            ],
            [
             0.3333333333333333,
             "#9c179e"
            ],
            [
             0.4444444444444444,
             "#bd3786"
            ],
            [
             0.5555555555555556,
             "#d8576b"
            ],
            [
             0.6666666666666666,
             "#ed7953"
            ],
            [
             0.7777777777777778,
             "#fb9f3a"
            ],
            [
             0.8888888888888888,
             "#fdca26"
            ],
            [
             1,
             "#f0f921"
            ]
           ],
           "sequentialminus": [
            [
             0,
             "#0d0887"
            ],
            [
             0.1111111111111111,
             "#46039f"
            ],
            [
             0.2222222222222222,
             "#7201a8"
            ],
            [
             0.3333333333333333,
             "#9c179e"
            ],
            [
             0.4444444444444444,
             "#bd3786"
            ],
            [
             0.5555555555555556,
             "#d8576b"
            ],
            [
             0.6666666666666666,
             "#ed7953"
            ],
            [
             0.7777777777777778,
             "#fb9f3a"
            ],
            [
             0.8888888888888888,
             "#fdca26"
            ],
            [
             1,
             "#f0f921"
            ]
           ]
          },
          "colorway": [
           "#636efa",
           "#EF553B",
           "#00cc96",
           "#ab63fa",
           "#FFA15A",
           "#19d3f3",
           "#FF6692",
           "#B6E880",
           "#FF97FF",
           "#FECB52"
          ],
          "font": {
           "color": "#2a3f5f"
          },
          "geo": {
           "bgcolor": "white",
           "lakecolor": "white",
           "landcolor": "#E5ECF6",
           "showlakes": true,
           "showland": true,
           "subunitcolor": "white"
          },
          "hoverlabel": {
           "align": "left"
          },
          "hovermode": "closest",
          "mapbox": {
           "style": "light"
          },
          "paper_bgcolor": "white",
          "plot_bgcolor": "#E5ECF6",
          "polar": {
           "angularaxis": {
            "gridcolor": "white",
            "linecolor": "white",
            "ticks": ""
           },
           "bgcolor": "#E5ECF6",
           "radialaxis": {
            "gridcolor": "white",
            "linecolor": "white",
            "ticks": ""
           }
          },
          "scene": {
           "xaxis": {
            "backgroundcolor": "#E5ECF6",
            "gridcolor": "white",
            "gridwidth": 2,
            "linecolor": "white",
            "showbackground": true,
            "ticks": "",
            "zerolinecolor": "white"
           },
           "yaxis": {
            "backgroundcolor": "#E5ECF6",
            "gridcolor": "white",
            "gridwidth": 2,
            "linecolor": "white",
            "showbackground": true,
            "ticks": "",
            "zerolinecolor": "white"
           },
           "zaxis": {
            "backgroundcolor": "#E5ECF6",
            "gridcolor": "white",
            "gridwidth": 2,
            "linecolor": "white",
            "showbackground": true,
            "ticks": "",
            "zerolinecolor": "white"
           }
          },
          "shapedefaults": {
           "line": {
            "color": "#2a3f5f"
           }
          },
          "ternary": {
           "aaxis": {
            "gridcolor": "white",
            "linecolor": "white",
            "ticks": ""
           },
           "baxis": {
            "gridcolor": "white",
            "linecolor": "white",
            "ticks": ""
           },
           "bgcolor": "#E5ECF6",
           "caxis": {
            "gridcolor": "white",
            "linecolor": "white",
            "ticks": ""
           }
          },
          "title": {
           "x": 0.05
          },
          "xaxis": {
           "automargin": true,
           "gridcolor": "white",
           "linecolor": "white",
           "ticks": "",
           "title": {
            "standoff": 15
           },
           "zerolinecolor": "white",
           "zerolinewidth": 2
          },
          "yaxis": {
           "automargin": true,
           "gridcolor": "white",
           "linecolor": "white",
           "ticks": "",
           "title": {
            "standoff": 15
           },
           "zerolinecolor": "white",
           "zerolinewidth": 2
          }
         }
        },
        "title": {
         "text": "Todays Option Pos (PnL and Delta)",
         "x": 0.5,
         "xanchor": "center"
        },
        "xaxis": {
         "anchor": "y",
         "domain": [
          0,
          0.45
         ],
         "title": {
          "text": "Price"
         }
        },
        "xaxis2": {
         "anchor": "y2",
         "domain": [
          0.55,
          1
         ],
         "title": {
          "text": "Price"
         }
        },
        "yaxis": {
         "anchor": "x",
         "domain": [
          0,
          1
         ],
         "title": {
          "text": "Pnl"
         }
        },
        "yaxis2": {
         "anchor": "x2",
         "domain": [
          0,
          1
         ],
         "title": {
          "text": "Delta"
         }
        }
       }
      },
      "text/html": [
       "<div>                            <div id=\"d4bd59a5-a1a8-4685-8c96-9e38ca054ec2\" class=\"plotly-graph-div\" style=\"height:525px; width:100%;\"></div>            <script type=\"text/javascript\">                require([\"plotly\"], function(Plotly) {                    window.PLOTLYENV=window.PLOTLYENV || {};                                    if (document.getElementById(\"d4bd59a5-a1a8-4685-8c96-9e38ca054ec2\")) {                    Plotly.newPlot(                        \"d4bd59a5-a1a8-4685-8c96-9e38ca054ec2\",                        [{\"name\":\"EUA Dec24 75C\",\"x\":[30,31,32,33,34,35,36,37,38,39,40,41,42,43,44,45,46,47,48,49,50,51,52,53,54,55,56,57,58,59,60,61,62,63,64,65,66,67,68,69,70,71,72,73,74,75,76,77,78,79,80,81,82,83,84,85,86,87,88,89,90,91,92,93,94,95,96,97,98,99,100],\"y\":[-28086.385684290766,-28086.385684290766,-28086.385684290766,-28086.385684290766,-28086.385684290766,-28086.385684290766,-28086.385684290766,-28086.385684290766,-28086.385684290766,-28086.385684290763,-28086.385684290708,-28086.385684290097,-28086.385684284112,-28086.385684233148,-28086.38568385208,-28086.38568133338,-28086.385666510094,-28086.385588311357,-28086.38521623668,-28086.38361027528,-28086.37728843751,-28086.354478301142,-28086.278686916565,-28086.0457593799,-28085.38092397577,-28083.611732390622,-28079.206394636978,-28068.90697090375,-28046.225089372943,-27999.029087620293,-27905.97189280519,-27731.62700852373,-27420.439725799835,-26889.952296005384,-26024.168099003236,-24668.278318327564,-22626.16008105235,-19661.958728624177,-15506.639657222455,-9869.676724389034,-2455.1649581999523,7019.2035365438205,18802.48061419822,33092.539394080486,50022.1082753914,69650.39238895984,91961.06765008344,116866.51290868408,144217.3312851845,173815.63767579308,205430.32226290306,238812.53505066206,273709.91282203014,309878.4945319588,347091.74535651307,385146.54985760496,423866.38458844007,463102.11370392784,502730.96768210985,542654.2833029182,582794.5301435603,623092.0542926126,663501.8593346815,703990.6370010073,744534.1671576496,785115.1346078817,825721.3593257081,866344.404956487,906978.5139253602,947619.8121007638,988265.7278255558],\"type\":\"scatter\",\"xaxis\":\"x\",\"yaxis\":\"y\"},{\"name\":\"EUA Dec24 75C\",\"x\":[30,31,32,33,34,35,36,37,38,39,40,41,42,43,44,45,46,47,48,49,50,51,52,53,54,55,56,57,58,59,60,61,62,63,64,65,66,67,68,69,70,71,72,73,74,75,76,77,78,79,80,81,82,83,84,85,86,87,88,89,90,91,92,93,94,95,96,97,98,99,100],\"y\":[8.252663581150309e-26,8.107784941669901e-24,5.883277793653941e-22,3.228147491017643e-20,1.3679690531033616e-18,4.563048007143594e-17,1.2188851511087687e-15,2.6483401967759962e-14,4.747280417330783e-13,7.111903955764612e-12,9.009903656044715e-11,9.757475221411326e-10,9.123048478168152e-09,7.431603211230921e-08,5.318727824875792e-07,3.3703691337842463e-06,1.9045825940145316e-05,9.661704898070036e-05,0.0004427012107259384,0.001842695829045898,0.007004779619541551,0.024439332845802676,0.07862353851824623,0.23424438145916576,0.6489423311853905,1.6781182725646389,4.0651762848681505,9.25651519876709,19.875402157947345,40.36442494435144,77.75746917025688,142.47220156210585,248.93782451012166,415.8165449387736,665.5712667627784,1023.1994806518396,1514.0972693901583,2161.2138701878657,2981.8583982747377,3984.667607905257,5167.287337303727,6515.237839844743,8002.237846720277,9591.999831614425,11241.2435789922,12903.469190169222,14532.927100229406,16088.23512497793,17535.205179068547,18848.618256486006,20012.880476829316,21021.664723763486,21876.76393270051,22586.44217276969,23163.57201875664,23623.805298970856,23983.957615557727,24260.712954377555,24469.687133046828,24624.836238005,24738.16176538052,24819.64701885428,24877.35604910739,24917.632660651485,24945.348503271347,24964.16254186263,24976.766853003803,24985.10434987281,24990.55214094554,24994.069808760905,24996.315310107257],\"type\":\"scatter\",\"xaxis\":\"x2\",\"yaxis\":\"y2\"},{\"name\":\"EUA Dec24 80C\",\"x\":[30,31,32,33,34,35,36,37,38,39,40,41,42,43,44,45,46,47,48,49,50,51,52,53,54,55,56,57,58,59,60,61,62,63,64,65,66,67,68,69,70,71,72,73,74,75,76,77,78,79,80,81,82,83,84,85,86,87,88,89,90,91,92,93,94,95,96,97,98,99,100],\"y\":[-28443.554490774575,-28443.554490774575,-28443.554490774575,-28443.554490774575,-28443.554490774575,-28443.554490774575,-28443.554490774575,-28443.554490774575,-28443.554490774575,-28443.554490774575,-28443.554490774575,-28443.554490774557,-28443.554490774404,-28443.55449077293,-28443.554490760765,-28443.554490671857,-28443.554490091952,-28443.554486696004,-28443.554468732746,-28443.554382424598,-28443.55400379069,-28443.552479758953,-28443.546825933132,-28443.52741238572,-28443.465467514456,-28443.28110988127,-28442.767549241267,-28441.424082680478,-28438.11342992231,-28430.405757515906,-28413.40543715865,-28377.788841450234,-28306.73503544642,-28171.438737572327,-27924.99240665313,-27494.63889849879,-26772.730866292084,-25607.154054318973,-23792.404062823254,-21062.844150055476,-17089.802106503674,-11483.999570538439,-3804.316580749873,6426.877344972467,19702.52759995077,36505.461599302194,57281.08203331477,82410.9483802718,112189.98977747645,146809.6608486998,186348.59409361717,230771.3609416595,279934.9937025861,333602.0938644522,391458.76823743497,453135.34651264537,518227.83797617146,586318.3314210933,656992.9525884411,729856.4807907447,804543.2114929782,880724.0740918872,958110.3371577364,1036454.4433268578,1115548.6180431417,1195221.908314195,1275336.2537921707,1355782.0980106385,1436473.934894521,1517346.0721655458,1598348.7908418134],\"type\":\"scatter\",\"xaxis\":\"x\",\"yaxis\":\"y\"},{\"name\":\"EUA Dec24 80C\",\"x\":[30,31,32,33,34,35,36,37,38,39,40,41,42,43,44,45,46,47,48,49,50,51,52,53,54,55,56,57,58,59,60,61,62,63,64,65,66,67,68,69,70,71,72,73,74,75,76,77,78,79,80,81,82,83,84,85,86,87,88,89,90,91,92,93,94,95,96,97,98,99,100],\"y\":[9.24318389750141e-28,9.476986685570903e-26,7.231766221979984e-24,4.2016732605578008e-22,1.8970671316343568e-20,6.780015439867997e-19,1.9503145151991073e-17,4.584246074435054e-16,8.926623301370838e-15,1.4581436449500068e-13,2.0210388078025788e-12,2.4019178520988857e-11,2.4712889243486406e-10,2.2207878526408137e-09,1.7572870331383475e-08,1.233649727858871e-07,7.736953768758634e-07,4.362846669861903e-06,2.2252701760821186e-05,0.00010323242589314022,0.0004378356082820196,0.0017059118358167785,0.006133423358981463,0.020434955995677087,0.06333976425351083,0.18332111261900322,0.49714808141180344,1.2673917099642376,3.046634068249088,6.925820691482553,14.929720673272422,30.59750565028553,59.76409304216379,111.51342533826923,199.20947972491328,341.4345937923161,562.5970156625035,892.9356076598914,1367.6730269861814,2025.1625183046244,2904.032480482103,4039.5311460955845,5459.468444113302,7180.294965499098,9203.90846432079,11515.716385316757,14084.315363602149,16862.907999556064,19792.31293934712,22805.18973998084,25830.939127391477,28800.676998172963,31651.719034853493,34331.13386806306,36798.094595693234,39024.94481167496,40997.063419015925,42711.73917888054,44176.33992856056,45406.0828355359,46421.689737614215,47247.15923006012,47907.81957276316,48428.75689416426,48833.651348721396,49144.005635148824,49378.71770858046,49553.931877885574,49683.09721995282,49777.16599523275,49844.87409606108],\"type\":\"scatter\",\"xaxis\":\"x2\",\"yaxis\":\"y2\"},{\"name\":\"EUA Dec24 85C\",\"x\":[30,31,32,33,34,35,36,37,38,39,40,41,42,43,44,45,46,47,48,49,50,51,52,53,54,55,56,57,58,59,60,61,62,63,64,65,66,67,68,69,70,71,72,73,74,75,76,77,78,79,80,81,82,83,84,85,86,87,88,89,90,91,92,93,94,95,96,97,98,99,100],\"y\":[-29587.67126445458,-29587.67126445458,-29587.67126445458,-29587.67126445458,-29587.67126445458,-29587.67126445458,-29587.67126445458,-29587.67126445458,-29587.67126445458,-29587.67126445458,-29587.67126445458,-29587.67126445458,-29587.67126445457,-29587.671264454504,-29587.671264453882,-29587.671264449018,-29587.671264415185,-29587.671264202923,-29587.671262997395,-29587.671256764912,-29587.67122728662,-29587.671099132996,-29587.670584800653,-29587.668671359035,-29587.66204757365,-29587.64063471603,-29587.575773834233,-29587.391099813296,-29586.89537839571,-29585.637327407898,-29582.610842100843,-29575.69179425939,-29560.623967340547,-29529.296420112187,-29466.98056317715,-29348.145157530133,-29130.47232689101,-28746.79137068675,-28094.8566787836,-27025.22947915329,-25327.958766342967,-22719.237647766764,-18829.64934021771,-13195.90732062894,-5258.03833641444,5636.310500035067,20219.34937414422,39282.1751624391,63646.130522900334,94128.27867370585,131503.61925960594,176467.1999426016,229599.40856594057,291337.4423384608,361955.29439507,441553.68245985324,530060.3109367067,627239.8541960139,732712.2029715274,845976.9171746533,966441.5193865588,1093451.2396722299,1226318.042168363,1364347.1604712568,1506859.8654252996,1653211.711623838,1802805.9964395703,1955102.574315656,2109622.4753776034,2265948.974819259,2423725.8554882044],\"type\":\"scatter\",\"xaxis\":\"x\",\"yaxis\":\"y\"},{\"name\":\"EUA Dec24 85C\",\"x\":[30,31,32,33,34,35,36,37,38,39,40,41,42,43,44,45,46,47,48,49,50,51,52,53,54,55,56,57,58,59,60,61,62,63,64,65,66,67,68,69,70,71,72,73,74,75,76,77,78,79,80,81,82,83,84,85,86,87,88,89,90,91,92,93,94,95,96,97,98,99,100],\"y\":[3.142153825567226e-29,3.1784398129079707e-27,2.415732910229721e-25,1.4100431784393094e-23,6.446229750071051e-22,2.3494813011269794e-20,6.937424097121702e-19,1.683850712299251e-17,3.404349504322696e-16,5.802670987368445e-15,8.430844094123921e-14,1.0547420988653756e-12,1.1467682390129824e-11,1.0928426197761599e-10,9.200250020793221e-10,6.892024821719744e-09,4.624954327780804e-08,2.797532790023776e-07,1.5340841055155437e-06,7.667462791774573e-06,3.510297749928478e-05,0.00014789053775513656,0.0005758656660747342,0.0020808645118875206,0.007004114224599054,0.022038966535842294,0.065043638077183,0.18061501850165748,0.4732797710009769,1.173553154951706,2.760869470212464,6.1776307387945035,13.177943187230271,26.8587637140019,52.414414901373554,98.13180439153334,176.59931060872094,306.03804110747245,511.58787040821744,826.3076587714767,1291.6001340941657,1956.768601221677,2877.4707098221593,4112.957729683031,5722.16402175476,7758.912909105798,10266.693540123117,13273.598143969806,16788.057749600626,20795.960740853476,25259.58710153926,30118.566460170066,35292.80908603455,40687.11041846561,46196.93213225766,51714.74482873569,57136.29138729242,62366.19099543482,67322.4331073869,71939.48070294407,76169.88349183065,79984.46756114901,83371.29887837695,86333.70339515034,88887.6643225682,91058.91263268728,92879.9897997061,94387.50409422125,95619.73504277036,96614.67479496344,97408.53722414945],\"type\":\"scatter\",\"xaxis\":\"x2\",\"yaxis\":\"y2\"},{\"mode\":\"lines\",\"name\":\"Total_PnL\",\"x\":[30,31,32,33,34,35,36,37,38,39,40,41,42,43,44,45,46,47,48,49,50,51,52,53,54,55,56,57,58,59,60,61,62,63,64,65,66,67,68,69,70,71,72,73,74,75,76,77,78,79,80,81,82,83,84,85,86,87,88,89,90,91,92,93,94,95,96,97,98,99,100],\"y\":[-86117.61143951993,-86117.61143951993,-86117.61143951993,-86117.61143951993,-86117.61143951993,-86117.61143951993,-86117.61143951993,-86117.61143951993,-86117.61143951993,-86117.61143951991,-86117.61143951987,-86117.61143951923,-86117.61143951309,-86117.61143946058,-86117.61143906672,-86117.61143645426,-86117.61142101724,-86117.61133921029,-86117.61094796682,-86117.60924946479,-86117.60251951482,-86117.57805719308,-86117.49609765035,-86117.24184312465,-86116.50843906388,-86114.53347698791,-86109.54971771248,-86097.72215339752,-86071.23389769097,-86015.0721725441,-85901.98817206468,-85685.10764423336,-85287.7987285868,-84590.6874536899,-83416.14106883352,-81511.0623743565,-78529.36327423545,-74015.9041536299,-67393.90039882931,-57957.7503535978,-44872.925831046596,-27184.033681761382,-3831.4853067693657,26323.509418424015,64466.59753892773,111792.1644882971,169461.49905754242,238559.636451395,320053.45158556127,414753.57719819876,523282.5356161262,646051.0959349232,783244.3150905569,934818.0307348717,1100505.807989018,1279835.5788301034,1472154.5335013182,1676660.299321035,1892436.1232420783,2118487.681268316,2353779.261023097,2597267.3680567294,2847930.2386607807,3104792.240799122,3366942.6506260913,3633548.754545915,3903863.609557449,4177229.0772827817,4453074.924197485,4730914.859085568,5010340.374155574],\"type\":\"scatter\",\"xaxis\":\"x\",\"yaxis\":\"y\"},{\"mode\":\"lines\",\"name\":\"Total_Delta\",\"x\":[30,31,32,33,34,35,36,37,38,39,40,41,42,43,44,45,46,47,48,49,50,51,52,53,54,55,56,57,58,59,60,61,62,63,64,65,66,67,68,69,70,71,72,73,74,75,76,77,78,79,80,81,82,83,84,85,86,87,88,89,90,91,92,93,94,95,96,97,98,99,100],\"y\":[8.34823757395089e-26,8.205733248338518e-24,5.958011188783971e-22,3.2715742668016605e-20,1.3875843473947122e-18,4.633197642843401e-17,1.239082038670472e-15,2.6958665082326458e-14,4.839950999848814e-13,7.263520991246981e-12,9.220438380919096e-11,1.0008214427609869e-09,9.381645052993146e-09,7.664610422692763e-08,5.503656778210419e-07,3.500626131391853e-06,1.9865770860298988e-05,0.00010125964892956464,0.00046648799659227514,0.001953595717730813,0.0074777182053228555,0.02629313521937459,0.08533282754330243,0.2567602019667304,0.7192862096635003,1.8834783517194844,4.6273680043571375,10.704521927232983,23.39531599719741,48.4637987907857,95.44805931374178,179.2473379511859,321.8798607395157,554.1887339910447,917.1951613890652,1462.765878835689,2253.293595661383,3360.1875189552297,4861.119295669136,6836.137784981358,9362.919951879996,12511.537587162004,16339.177000655738,20885.252526796554,26167.316065067753,32178.098484591777,38883.936003954674,46224.7412685038,54115.5758680163,62449.76873732032,71103.40670576005,79940.90818210652,88821.29205358855,97604.68645929836,106158.59874670753,114363.49493938152,122117.31242186608,129338.64312869291,135968.4601689943,141970.39977648496,147329.73499482538,152051.2738100634,156156.4745002475,159680.09294996609,162666.66417456095,165167.08080969873,167235.47436129037,168926.54032197964,170293.38440366872,171385.9105989571,172249.7266303178],\"type\":\"scatter\",\"xaxis\":\"x2\",\"yaxis\":\"y2\"}],                        {\"template\":{\"data\":{\"histogram2dcontour\":[{\"type\":\"histogram2dcontour\",\"colorbar\":{\"outlinewidth\":0,\"ticks\":\"\"},\"colorscale\":[[0.0,\"#0d0887\"],[0.1111111111111111,\"#46039f\"],[0.2222222222222222,\"#7201a8\"],[0.3333333333333333,\"#9c179e\"],[0.4444444444444444,\"#bd3786\"],[0.5555555555555556,\"#d8576b\"],[0.6666666666666666,\"#ed7953\"],[0.7777777777777778,\"#fb9f3a\"],[0.8888888888888888,\"#fdca26\"],[1.0,\"#f0f921\"]]}],\"choropleth\":[{\"type\":\"choropleth\",\"colorbar\":{\"outlinewidth\":0,\"ticks\":\"\"}}],\"histogram2d\":[{\"type\":\"histogram2d\",\"colorbar\":{\"outlinewidth\":0,\"ticks\":\"\"},\"colorscale\":[[0.0,\"#0d0887\"],[0.1111111111111111,\"#46039f\"],[0.2222222222222222,\"#7201a8\"],[0.3333333333333333,\"#9c179e\"],[0.4444444444444444,\"#bd3786\"],[0.5555555555555556,\"#d8576b\"],[0.6666666666666666,\"#ed7953\"],[0.7777777777777778,\"#fb9f3a\"],[0.8888888888888888,\"#fdca26\"],[1.0,\"#f0f921\"]]}],\"heatmap\":[{\"type\":\"heatmap\",\"colorbar\":{\"outlinewidth\":0,\"ticks\":\"\"},\"colorscale\":[[0.0,\"#0d0887\"],[0.1111111111111111,\"#46039f\"],[0.2222222222222222,\"#7201a8\"],[0.3333333333333333,\"#9c179e\"],[0.4444444444444444,\"#bd3786\"],[0.5555555555555556,\"#d8576b\"],[0.6666666666666666,\"#ed7953\"],[0.7777777777777778,\"#fb9f3a\"],[0.8888888888888888,\"#fdca26\"],[1.0,\"#f0f921\"]]}],\"heatmapgl\":[{\"type\":\"heatmapgl\",\"colorbar\":{\"outlinewidth\":0,\"ticks\":\"\"},\"colorscale\":[[0.0,\"#0d0887\"],[0.1111111111111111,\"#46039f\"],[0.2222222222222222,\"#7201a8\"],[0.3333333333333333,\"#9c179e\"],[0.4444444444444444,\"#bd3786\"],[0.5555555555555556,\"#d8576b\"],[0.6666666666666666,\"#ed7953\"],[0.7777777777777778,\"#fb9f3a\"],[0.8888888888888888,\"#fdca26\"],[1.0,\"#f0f921\"]]}],\"contourcarpet\":[{\"type\":\"contourcarpet\",\"colorbar\":{\"outlinewidth\":0,\"ticks\":\"\"}}],\"contour\":[{\"type\":\"contour\",\"colorbar\":{\"outlinewidth\":0,\"ticks\":\"\"},\"colorscale\":[[0.0,\"#0d0887\"],[0.1111111111111111,\"#46039f\"],[0.2222222222222222,\"#7201a8\"],[0.3333333333333333,\"#9c179e\"],[0.4444444444444444,\"#bd3786\"],[0.5555555555555556,\"#d8576b\"],[0.6666666666666666,\"#ed7953\"],[0.7777777777777778,\"#fb9f3a\"],[0.8888888888888888,\"#fdca26\"],[1.0,\"#f0f921\"]]}],\"surface\":[{\"type\":\"surface\",\"colorbar\":{\"outlinewidth\":0,\"ticks\":\"\"},\"colorscale\":[[0.0,\"#0d0887\"],[0.1111111111111111,\"#46039f\"],[0.2222222222222222,\"#7201a8\"],[0.3333333333333333,\"#9c179e\"],[0.4444444444444444,\"#bd3786\"],[0.5555555555555556,\"#d8576b\"],[0.6666666666666666,\"#ed7953\"],[0.7777777777777778,\"#fb9f3a\"],[0.8888888888888888,\"#fdca26\"],[1.0,\"#f0f921\"]]}],\"mesh3d\":[{\"type\":\"mesh3d\",\"colorbar\":{\"outlinewidth\":0,\"ticks\":\"\"}}],\"scatter\":[{\"fillpattern\":{\"fillmode\":\"overlay\",\"size\":10,\"solidity\":0.2},\"type\":\"scatter\"}],\"parcoords\":[{\"type\":\"parcoords\",\"line\":{\"colorbar\":{\"outlinewidth\":0,\"ticks\":\"\"}}}],\"scatterpolargl\":[{\"type\":\"scatterpolargl\",\"marker\":{\"colorbar\":{\"outlinewidth\":0,\"ticks\":\"\"}}}],\"bar\":[{\"error_x\":{\"color\":\"#2a3f5f\"},\"error_y\":{\"color\":\"#2a3f5f\"},\"marker\":{\"line\":{\"color\":\"#E5ECF6\",\"width\":0.5},\"pattern\":{\"fillmode\":\"overlay\",\"size\":10,\"solidity\":0.2}},\"type\":\"bar\"}],\"scattergeo\":[{\"type\":\"scattergeo\",\"marker\":{\"colorbar\":{\"outlinewidth\":0,\"ticks\":\"\"}}}],\"scatterpolar\":[{\"type\":\"scatterpolar\",\"marker\":{\"colorbar\":{\"outlinewidth\":0,\"ticks\":\"\"}}}],\"histogram\":[{\"marker\":{\"pattern\":{\"fillmode\":\"overlay\",\"size\":10,\"solidity\":0.2}},\"type\":\"histogram\"}],\"scattergl\":[{\"type\":\"scattergl\",\"marker\":{\"colorbar\":{\"outlinewidth\":0,\"ticks\":\"\"}}}],\"scatter3d\":[{\"type\":\"scatter3d\",\"line\":{\"colorbar\":{\"outlinewidth\":0,\"ticks\":\"\"}},\"marker\":{\"colorbar\":{\"outlinewidth\":0,\"ticks\":\"\"}}}],\"scattermapbox\":[{\"type\":\"scattermapbox\",\"marker\":{\"colorbar\":{\"outlinewidth\":0,\"ticks\":\"\"}}}],\"scatterternary\":[{\"type\":\"scatterternary\",\"marker\":{\"colorbar\":{\"outlinewidth\":0,\"ticks\":\"\"}}}],\"scattercarpet\":[{\"type\":\"scattercarpet\",\"marker\":{\"colorbar\":{\"outlinewidth\":0,\"ticks\":\"\"}}}],\"carpet\":[{\"aaxis\":{\"endlinecolor\":\"#2a3f5f\",\"gridcolor\":\"white\",\"linecolor\":\"white\",\"minorgridcolor\":\"white\",\"startlinecolor\":\"#2a3f5f\"},\"baxis\":{\"endlinecolor\":\"#2a3f5f\",\"gridcolor\":\"white\",\"linecolor\":\"white\",\"minorgridcolor\":\"white\",\"startlinecolor\":\"#2a3f5f\"},\"type\":\"carpet\"}],\"table\":[{\"cells\":{\"fill\":{\"color\":\"#EBF0F8\"},\"line\":{\"color\":\"white\"}},\"header\":{\"fill\":{\"color\":\"#C8D4E3\"},\"line\":{\"color\":\"white\"}},\"type\":\"table\"}],\"barpolar\":[{\"marker\":{\"line\":{\"color\":\"#E5ECF6\",\"width\":0.5},\"pattern\":{\"fillmode\":\"overlay\",\"size\":10,\"solidity\":0.2}},\"type\":\"barpolar\"}],\"pie\":[{\"automargin\":true,\"type\":\"pie\"}]},\"layout\":{\"autotypenumbers\":\"strict\",\"colorway\":[\"#636efa\",\"#EF553B\",\"#00cc96\",\"#ab63fa\",\"#FFA15A\",\"#19d3f3\",\"#FF6692\",\"#B6E880\",\"#FF97FF\",\"#FECB52\"],\"font\":{\"color\":\"#2a3f5f\"},\"hovermode\":\"closest\",\"hoverlabel\":{\"align\":\"left\"},\"paper_bgcolor\":\"white\",\"plot_bgcolor\":\"#E5ECF6\",\"polar\":{\"bgcolor\":\"#E5ECF6\",\"angularaxis\":{\"gridcolor\":\"white\",\"linecolor\":\"white\",\"ticks\":\"\"},\"radialaxis\":{\"gridcolor\":\"white\",\"linecolor\":\"white\",\"ticks\":\"\"}},\"ternary\":{\"bgcolor\":\"#E5ECF6\",\"aaxis\":{\"gridcolor\":\"white\",\"linecolor\":\"white\",\"ticks\":\"\"},\"baxis\":{\"gridcolor\":\"white\",\"linecolor\":\"white\",\"ticks\":\"\"},\"caxis\":{\"gridcolor\":\"white\",\"linecolor\":\"white\",\"ticks\":\"\"}},\"coloraxis\":{\"colorbar\":{\"outlinewidth\":0,\"ticks\":\"\"}},\"colorscale\":{\"sequential\":[[0.0,\"#0d0887\"],[0.1111111111111111,\"#46039f\"],[0.2222222222222222,\"#7201a8\"],[0.3333333333333333,\"#9c179e\"],[0.4444444444444444,\"#bd3786\"],[0.5555555555555556,\"#d8576b\"],[0.6666666666666666,\"#ed7953\"],[0.7777777777777778,\"#fb9f3a\"],[0.8888888888888888,\"#fdca26\"],[1.0,\"#f0f921\"]],\"sequentialminus\":[[0.0,\"#0d0887\"],[0.1111111111111111,\"#46039f\"],[0.2222222222222222,\"#7201a8\"],[0.3333333333333333,\"#9c179e\"],[0.4444444444444444,\"#bd3786\"],[0.5555555555555556,\"#d8576b\"],[0.6666666666666666,\"#ed7953\"],[0.7777777777777778,\"#fb9f3a\"],[0.8888888888888888,\"#fdca26\"],[1.0,\"#f0f921\"]],\"diverging\":[[0,\"#8e0152\"],[0.1,\"#c51b7d\"],[0.2,\"#de77ae\"],[0.3,\"#f1b6da\"],[0.4,\"#fde0ef\"],[0.5,\"#f7f7f7\"],[0.6,\"#e6f5d0\"],[0.7,\"#b8e186\"],[0.8,\"#7fbc41\"],[0.9,\"#4d9221\"],[1,\"#276419\"]]},\"xaxis\":{\"gridcolor\":\"white\",\"linecolor\":\"white\",\"ticks\":\"\",\"title\":{\"standoff\":15},\"zerolinecolor\":\"white\",\"automargin\":true,\"zerolinewidth\":2},\"yaxis\":{\"gridcolor\":\"white\",\"linecolor\":\"white\",\"ticks\":\"\",\"title\":{\"standoff\":15},\"zerolinecolor\":\"white\",\"automargin\":true,\"zerolinewidth\":2},\"scene\":{\"xaxis\":{\"backgroundcolor\":\"#E5ECF6\",\"gridcolor\":\"white\",\"linecolor\":\"white\",\"showbackground\":true,\"ticks\":\"\",\"zerolinecolor\":\"white\",\"gridwidth\":2},\"yaxis\":{\"backgroundcolor\":\"#E5ECF6\",\"gridcolor\":\"white\",\"linecolor\":\"white\",\"showbackground\":true,\"ticks\":\"\",\"zerolinecolor\":\"white\",\"gridwidth\":2},\"zaxis\":{\"backgroundcolor\":\"#E5ECF6\",\"gridcolor\":\"white\",\"linecolor\":\"white\",\"showbackground\":true,\"ticks\":\"\",\"zerolinecolor\":\"white\",\"gridwidth\":2}},\"shapedefaults\":{\"line\":{\"color\":\"#2a3f5f\"}},\"annotationdefaults\":{\"arrowcolor\":\"#2a3f5f\",\"arrowhead\":0,\"arrowwidth\":1},\"geo\":{\"bgcolor\":\"white\",\"landcolor\":\"#E5ECF6\",\"subunitcolor\":\"white\",\"showland\":true,\"showlakes\":true,\"lakecolor\":\"white\"},\"title\":{\"x\":0.05},\"mapbox\":{\"style\":\"light\"}}},\"xaxis\":{\"anchor\":\"y\",\"domain\":[0.0,0.45],\"title\":{\"text\":\"Price\"}},\"yaxis\":{\"anchor\":\"x\",\"domain\":[0.0,1.0],\"title\":{\"text\":\"Pnl\"}},\"xaxis2\":{\"anchor\":\"y2\",\"domain\":[0.55,1.0],\"title\":{\"text\":\"Price\"}},\"yaxis2\":{\"anchor\":\"x2\",\"domain\":[0.0,1.0],\"title\":{\"text\":\"Delta\"}},\"title\":{\"text\":\"Todays Option Pos (PnL and Delta)\",\"x\":0.5,\"xanchor\":\"center\"},\"barmode\":\"stack\"},                        {\"responsive\": true}                    ).then(function(){\n",
       "                            \n",
       "var gd = document.getElementById('d4bd59a5-a1a8-4685-8c96-9e38ca054ec2');\n",
       "var x = new MutationObserver(function (mutations, observer) {{\n",
       "        var display = window.getComputedStyle(gd).display;\n",
       "        if (!display || display === 'none') {{\n",
       "            console.log([gd, 'removed!']);\n",
       "            Plotly.purge(gd);\n",
       "            observer.disconnect();\n",
       "        }}\n",
       "}});\n",
       "\n",
       "// Listen for the removal of the full notebook cells\n",
       "var notebookContainer = gd.closest('#notebook-container');\n",
       "if (notebookContainer) {{\n",
       "    x.observe(notebookContainer, {childList: true});\n",
       "}}\n",
       "\n",
       "// Listen for the clearing of the current output cell\n",
       "var outputEl = gd.closest('.output');\n",
       "if (outputEl) {{\n",
       "    x.observe(outputEl, {childList: true});\n",
       "}}\n",
       "\n",
       "                        })                };                });            </script>        </div>"
      ]
     },
     "metadata": {},
     "output_type": "display_data"
    }
   ],
   "source": [
    "pnl_delta_plot(end_of_next_month)"
   ]
  },
  {
   "cell_type": "markdown",
   "id": "53e1ac51",
   "metadata": {},
   "source": [
    "## Mid June"
   ]
  },
  {
   "cell_type": "code",
   "execution_count": 19,
   "id": "d5935e2b",
   "metadata": {},
   "outputs": [
    {
     "data": {
      "application/vnd.plotly.v1+json": {
       "config": {
        "plotlyServerURL": "https://plot.ly"
       },
       "data": [
        {
         "name": "EUA Dec24 75C",
         "type": "scatter",
         "x": [
          30,
          31,
          32,
          33,
          34,
          35,
          36,
          37,
          38,
          39,
          40,
          41,
          42,
          43,
          44,
          45,
          46,
          47,
          48,
          49,
          50,
          51,
          52,
          53,
          54,
          55,
          56,
          57,
          58,
          59,
          60,
          61,
          62,
          63,
          64,
          65,
          66,
          67,
          68,
          69,
          70,
          71,
          72,
          73,
          74,
          75,
          76,
          77,
          78,
          79,
          80,
          81,
          82,
          83,
          84,
          85,
          86,
          87,
          88,
          89,
          90,
          91,
          92,
          93,
          94,
          95,
          96,
          97,
          98,
          99,
          100
         ],
         "xaxis": "x",
         "y": [
          -28034.798007314424,
          -28003.54729313649,
          -27956.95066828698,
          -27889.176949349647,
          -27792.835959054824,
          -27658.759682228447,
          -27475.798211837693,
          -27230.64001493118,
          -26907.66544753649,
          -26488.841339989034,
          -25953.66295091644,
          -25279.14776330638,
          -24439.883594718693,
          -23408.13144048811,
          -22153.981478908012,
          -20645.558839669287,
          -18849.274149177603,
          -16730.11257378233,
          -14251.954116488554,
          -11377.917295089726,
          -8070.718031958254,
          -4293.035594892225,
          -7.877709984279376,
          4821.062520723994,
          10229.06456834918,
          16250.05913259008,
          22916.332420922612,
          30258.259999832597,
          38304.07318834101,
          47079.660010116255,
          56608.40181734448,
          66911.04586812592,
          78005.61339450172,
          89907.34205003387,
          102628.66107911273,
          116179.19710575914,
          130565.80809514575,
          145792.6427912619,
          161861.22277192242,
          178770.54417920596,
          196517.19616995024,
          215095.49317738827,
          234497.61817159026,
          254713.77424353446,
          275732.3420064014,
          297540.04049977724,
          320122.0894903143,
          343462.3712794631,
          367543.5903493205,
          392347.4293966523,
          417854.70051863877,
          444045.49051867344,
          470899.299494102,
          498395.17204825196,
          526511.8206352667,
          555227.7406972882,
          584521.3173891737,
          614370.9238061795,
          644755.0107352264,
          675652.188041057,
          707041.2978755502,
          738901.4799624626,
          771212.229262044,
          803953.4463611159,
          837105.4809655688,
          870649.1688946589,
          904565.8629911313,
          938837.4583689435,
          973446.4124221815,
          1008375.7600154955,
          1043609.1242688781
         ],
         "yaxis": "y"
        },
        {
         "name": "EUA Dec24 75C",
         "type": "scatter",
         "x": [
          30,
          31,
          32,
          33,
          34,
          35,
          36,
          37,
          38,
          39,
          40,
          41,
          42,
          43,
          44,
          45,
          46,
          47,
          48,
          49,
          50,
          51,
          52,
          53,
          54,
          55,
          56,
          57,
          58,
          59,
          60,
          61,
          62,
          63,
          64,
          65,
          66,
          67,
          68,
          69,
          70,
          71,
          72,
          73,
          74,
          75,
          76,
          77,
          78,
          79,
          80,
          81,
          82,
          83,
          84,
          85,
          86,
          87,
          88,
          89,
          90,
          91,
          92,
          93,
          94,
          95,
          96,
          97,
          98,
          99,
          100
         ],
         "xaxis": "x2",
         "y": [
          15.766477520075606,
          23.838571019128313,
          35.11873417026146,
          50.51201173607193,
          71.06276957158342,
          97.94841675361202,
          132.46709854358932,
          176.01956648827223,
          230.08577051935168,
          296.19700891017476,
          375.9046973213481,
          470.7469674575831,
          582.2143759687735,
          711.7159984978467,
          860.5471106257721,
          1029.8595288423132,
          1220.6355145225887,
          1433.6659467571078,
          1669.5332597590286,
          1928.599430035785,
          2210.999098154834,
          2516.6377280538095,
          2845.19454937234,
          3196.129898873548,
          3568.696477292213,
          3961.953967773674,
          4374.786419944252,
          4805.921787039154,
          5253.953009167478,
          5717.360060078981,
          6194.532413933958,
          6683.7914388516965,
          7183.412281930332,
          7691.64487283018,
          8206.733737135357,
          8726.936374232035,
          9250.540015489083,
          9775.876635650093,
          10301.336142496037,
          10825.377716324387,
          11346.539311234086,
          11863.445364489233,
          12374.812788452877,
          12879.455341998708,
          13376.286495308585,
          13864.32091402027,
          14342.674696328302,
          14810.564500412876,
          15267.305700033015,
          15712.309703811778,
          16145.08056917691,
          16565.21103557794,
          16972.378093913216,
          17366.338200456576,
          17746.922234311663,
          18114.030287834878,
          18467.626369801477,
          18807.733091546903,
          19134.42639705935,
          19447.830389158484,
          19748.112295563296,
          20035.47761089731,
          20310.165443544563,
          20572.44408977798,
          20822.60685173854,
          21060.968110641305,
          21287.859662003815,
          21503.62731570641,
          21708.6277602691,
          21903.22568782796,
          22087.79117387501
         ],
         "yaxis": "y2"
        },
        {
         "name": "EUA Dec24 80C",
         "type": "scatter",
         "x": [
          30,
          31,
          32,
          33,
          34,
          35,
          36,
          37,
          38,
          39,
          40,
          41,
          42,
          43,
          44,
          45,
          46,
          47,
          48,
          49,
          50,
          51,
          52,
          53,
          54,
          55,
          56,
          57,
          58,
          59,
          60,
          61,
          62,
          63,
          64,
          65,
          66,
          67,
          68,
          69,
          70,
          71,
          72,
          73,
          74,
          75,
          76,
          77,
          78,
          79,
          80,
          81,
          82,
          83,
          84,
          85,
          86,
          87,
          88,
          89,
          90,
          91,
          92,
          93,
          94,
          95,
          96,
          97,
          98,
          99,
          100
         ],
         "xaxis": "x",
         "y": [
          -28377.944496322187,
          -28338.142294144673,
          -28278.656131702413,
          -28191.881181043093,
          -28068.102502339232,
          -27895.162990215944,
          -27658.138281972773,
          -27339.031024798358,
          -26916.496854305264,
          -26365.61374719497,
          -25657.705138570942,
          -24760.22543635128,
          -23636.714442011664,
          -22246.82483112803,
          -20546.424392739413,
          -18487.772299398235,
          -16019.766391019475,
          -13088.256396728204,
          -9636.416259000749,
          -5605.167309748248,
          -933.6430027115805,
          4440.31476515702,
          10579.638021730529,
          17547.504032695088,
          25406.80549520992,
          34219.62897503193,
          44046.75017158749,
          54947.15366044872,
          66977.58371853118,
          80192.13172872347,
          94641.86452784571,
          110374.4969402144,
          127434.11065827365,
          145860.92061574783,
          165691.0890659308,
          186956.58674119593,
          209685.09973781116,
          233899.98014673995,
          259620.2379366407,
          286860.57118713146,
          315631.4314634341,
          345939.12091085484,
          377785.9175210173,
          411170.2249720997,
          446086.74346317205,
          482526.65803832666,
          520477.84102017793,
          559925.0653354543,
          600850.2257091906,
          643232.5649206938,
          687048.9025468023,
          732273.8638597255,
          778880.1067924061,
          826838.5451291781,
          876118.5663194847,
          926688.2425443796,
          978514.5338868921,
          1031563.4826660034,
          1085800.3981886222,
          1141190.0313536078,
          1197696.7387058784,
          1255284.6356869533,
          1313917.7389608554,
          1373560.097811605,
          1434175.9147110349,
          1495729.6552440263,
          1558186.1476534794,
          1621510.6723299802,
          1685669.0416224508,
          1750627.6703868962,
          1816353.637721503
         ],
         "yaxis": "y"
        },
        {
         "name": "EUA Dec24 80C",
         "type": "scatter",
         "x": [
          30,
          31,
          32,
          33,
          34,
          35,
          36,
          37,
          38,
          39,
          40,
          41,
          42,
          43,
          44,
          45,
          46,
          47,
          48,
          49,
          50,
          51,
          52,
          53,
          54,
          55,
          56,
          57,
          58,
          59,
          60,
          61,
          62,
          63,
          64,
          65,
          66,
          67,
          68,
          69,
          70,
          71,
          72,
          73,
          74,
          75,
          76,
          77,
          78,
          79,
          80,
          81,
          82,
          83,
          84,
          85,
          86,
          87,
          88,
          89,
          90,
          91,
          92,
          93,
          94,
          95,
          96,
          97,
          98,
          99,
          100
         ],
         "xaxis": "x2",
         "y": [
          20.060773486798688,
          30.39229978124252,
          44.891726286196054,
          64.77551879307212,
          91.46730836018352,
          126.59725757930826,
          171.9937983421906,
          229.66756496394567,
          301.78776014149514,
          390.65157895776247,
          498.6476528110879,
          628.2147423796567,
          781.7970954897788,
          961.7979881095621,
          1170.532986968837,
          1410.18441790705,
          1682.7584060458728,
          1990.045685623105,
          2333.5871731472325,
          2714.6450716627464,
          3134.180039600841,
          3592.8347265744433,
          4090.9237602219123,
          4628.430070308001,
          5205.007264082512,
          5819.987623658554,
          6472.395183358342,
          7160.963262482958,
          7884.155775437706,
          8640.191614277384,
          9427.071395550873,
          10242.60588044135,
          11084.445411050941,
          11950.109752702934,
          12837.017788911171,
          13742.516579028497,
          14663.909355692342,
          15598.482107564938,
          16543.52846043452,
          17496.372634807194,
          18454.390319352875,
          19415.0273559948,
          20375.816183382012,
          21334.39003056248,
          22288.49489171837,
          23235.99934586239,
          24174.902312610397,
          25103.33885684172,
          26019.584171627226,
          26922.055880694483,
          27809.31480939634,
          28680.06437715373,
          29533.148765157435,
          30367.5500112216,
          31182.38417954759,
          31976.89674721276,
          32750.457341838766,
          33502.55395647893,
          34232.786758608185,
          34940.86160048266,
          35626.58332829782,
          36289.84897771499,
          36930.64093361741,
          37549.020122531605,
          38145.11929711812,
          38719.136463578485,
          39271.32849480241,
          39802.004964630534,
          40311.52223175723,
          40800.27779555293,
          41268.704940444026
         ],
         "yaxis": "y2"
        },
        {
         "name": "EUA Dec24 85C",
         "type": "scatter",
         "x": [
          30,
          31,
          32,
          33,
          34,
          35,
          36,
          37,
          38,
          39,
          40,
          41,
          42,
          43,
          44,
          45,
          46,
          47,
          48,
          49,
          50,
          51,
          52,
          53,
          54,
          55,
          56,
          57,
          58,
          59,
          60,
          61,
          62,
          63,
          64,
          65,
          66,
          67,
          68,
          69,
          70,
          71,
          72,
          73,
          74,
          75,
          76,
          77,
          78,
          79,
          80,
          81,
          82,
          83,
          84,
          85,
          86,
          87,
          88,
          89,
          90,
          91,
          92,
          93,
          94,
          95,
          96,
          97,
          98,
          99,
          100
         ],
         "xaxis": "x",
         "y": [
          -29494.318829037446,
          -29438.27360586272,
          -29354.695353029314,
          -29232.951939449304,
          -29059.42469698139,
          -28817.011646427174,
          -28484.628010937202,
          -28036.720041101238,
          -27442.80871218991,
          -26667.07960042637,
          -25668.03423904354,
          -24398.216578439216,
          -22804.025944261415,
          -20825.62524118666,
          -18396.950237398156,
          -15445.822734033389,
          -11894.167414825868,
          -7658.329307585241,
          -2649.48617430241,
          3225.8521393879623,
          10065.267265684472,
          17969.790140420155,
          27043.20549997336,
          37391.3160868459,
          49121.17983194755,
          62340.333146391094,
          77156.01299784188,
          93674.38971502549,
          111999.82151044652,
          132234.1405875295,
          154475.9794546312,
          178820.14475138747,
          205357.0445455446,
          234172.17371803525,
          265345.66075252555,
          298951.8780094109,
          335059.11641364044,
          373729.32443650573,
          415017.91031391104,
          458973.60562383133,
          505638.38764608593,
          555047.4573470533,
          607229.2693670545,
          662205.6100330383,
          719991.7191664325,
          780596.4512971595,
          844022.4718204176,
          910266.4836332162,
          979319.4798530579,
          1051167.0183418947,
          1125789.5139250695,
          1203162.5443989236,
          1283257.1666534718,
          1366040.2394907672,
          1451474.749988505,
          1539520.1405357716,
          1630132.6339486695,
          1723265.5543529966,
          1818869.641795587,
          1916893.3588119966,
          2017283.1874334216,
          2119983.915358074,
          2224938.910240056,
          2332090.381261277,
          2441379.6273480044,
          2552747.271573587,
          2666133.481451811,
          2781478.174972423,
          2898721.212361091,
          3017802.573661685,
          3138662.522339665
         ],
         "yaxis": "y"
        },
        {
         "name": "EUA Dec24 85C",
         "type": "scatter",
         "x": [
          30,
          31,
          32,
          33,
          34,
          35,
          36,
          37,
          38,
          39,
          40,
          41,
          42,
          43,
          44,
          45,
          46,
          47,
          48,
          49,
          50,
          51,
          52,
          53,
          54,
          55,
          56,
          57,
          58,
          59,
          60,
          61,
          62,
          63,
          64,
          65,
          66,
          67,
          68,
          69,
          70,
          71,
          72,
          73,
          74,
          75,
          76,
          77,
          78,
          79,
          80,
          81,
          82,
          83,
          84,
          85,
          86,
          87,
          88,
          89,
          90,
          91,
          92,
          93,
          94,
          95,
          96,
          97,
          98,
          99,
          100
         ],
         "xaxis": "x2",
         "y": [
          28.288554988706462,
          42.744956593355376,
          63.02213600220609,
          90.83584329558714,
          128.20830616473498,
          177.4746207880059,
          241.27944987293793,
          322.56345026502925,
          424.5393474251835,
          550.6580613772869,
          704.5657373622473,
          890.0529195627497,
          1110.9974103202808,
          1371.3025701957818,
          1674.8329330364054,
          2025.349038052733,
          2426.443325855254,
          2881.478819093985,
          3393.5321246800627,
          3965.342068448916,
          4599.265019429524,
          5297.237693629624,
          6060.747958977204,
          6890.813904450398,
          7787.971196078548,
          8752.26852687972,
          9783.270781337695,
          10880.069380258545,
          12041.299149678081,
          13265.160967427331,
          14549.449381405027,
          15891.58436212057,
          17288.646345638303,
          18737.41373829857,
          20234.402087976105,
          21775.90417462032,
          23358.030331994534,
          24976.748379702694,
          26627.92261686452,
          28307.35140360985,
          30010.802931701997,
          31734.048859218594,
          33472.89555481948,
          35223.21276354583,
          36980.95956746005,
          38742.20757016036,
          40503.16128393715,
          42260.17574192902,
          44009.77139511373,
          45748.64638548903,
          47473.68631263603,
          49181.971631362736,
          50870.78283371039,
          52537.60357971675,
          54180.121948436776,
          55796.229984294696,
          57384.021714348055,
          58941.789809933296,
          60468.021061860556,
          61961.3908322299,
          63420.756638419516,
          64845.15101617796,
          66233.7737993387,
          67585.98394372598,
          68901.29101256575,
          70179.34643035464,
          71419.9346018356,
          72622.96398262479,
          73788.45817823878,
          74916.5471388798,
          76007.45850841088
         ],
         "yaxis": "y2"
        },
        {
         "mode": "lines",
         "name": "Total_PnL",
         "type": "scatter",
         "x": [
          30,
          31,
          32,
          33,
          34,
          35,
          36,
          37,
          38,
          39,
          40,
          41,
          42,
          43,
          44,
          45,
          46,
          47,
          48,
          49,
          50,
          51,
          52,
          53,
          54,
          55,
          56,
          57,
          58,
          59,
          60,
          61,
          62,
          63,
          64,
          65,
          66,
          67,
          68,
          69,
          70,
          71,
          72,
          73,
          74,
          75,
          76,
          77,
          78,
          79,
          80,
          81,
          82,
          83,
          84,
          85,
          86,
          87,
          88,
          89,
          90,
          91,
          92,
          93,
          94,
          95,
          96,
          97,
          98,
          99,
          100
         ],
         "xaxis": "x",
         "y": [
          -85907.06133267406,
          -85779.96319314388,
          -85590.30215301871,
          -85314.01006984204,
          -84920.36315837545,
          -84370.93431887156,
          -83618.56450474767,
          -82606.39108083077,
          -81266.97101403166,
          -79521.53468761037,
          -77279.40232853092,
          -74437.58977809688,
          -70880.62398099178,
          -66480.5815128028,
          -61097.35610904558,
          -54579.15387310091,
          -46763.20795502295,
          -37476.69827809578,
          -26537.85654979171,
          -13757.232465450013,
          1060.9062310146364,
          18117.06931068495,
          37614.96581171961,
          59759.88264026499,
          84757.04989550664,
          112810.0212540131,
          144119.09559035196,
          178879.8033753068,
          217281.47841731872,
          259505.93232636922,
          305726.24579982134,
          356105.6875597278,
          410796.76859831996,
          469940.436383817,
          533665.410897569,
          602087.661856366,
          675310.0242465974,
          753421.9473745076,
          836499.3710224741,
          924604.7209901687,
          1017787.0152794702,
          1116082.0714352964,
          1219512.805059662,
          1328089.6092486726,
          1441810.804636006,
          1560663.1498352634,
          1684622.4023309099,
          1813653.9202481336,
          1947713.2959115691,
          2086747.0126592407,
          2230693.1169905104,
          2379481.898777323,
          2533036.57293998,
          2691273.956668197,
          2854105.1369432565,
          3021436.1237774394,
          3193168.485224735,
          3369199.9608251797,
          3549425.0507194353,
          3733735.578206661,
          3922021.2240148503,
          4114170.03100749,
          4310068.878462955,
          4509603.925433998,
          4712661.023024607,
          4919126.095712272,
          5128885.492096421,
          5341826.305671347,
          5557836.6664057225,
          5776806.004064077,
          5998625.284330046
         ],
         "yaxis": "y"
        },
        {
         "mode": "lines",
         "name": "Total_Delta",
         "type": "scatter",
         "x": [
          30,
          31,
          32,
          33,
          34,
          35,
          36,
          37,
          38,
          39,
          40,
          41,
          42,
          43,
          44,
          45,
          46,
          47,
          48,
          49,
          50,
          51,
          52,
          53,
          54,
          55,
          56,
          57,
          58,
          59,
          60,
          61,
          62,
          63,
          64,
          65,
          66,
          67,
          68,
          69,
          70,
          71,
          72,
          73,
          74,
          75,
          76,
          77,
          78,
          79,
          80,
          81,
          82,
          83,
          84,
          85,
          86,
          87,
          88,
          89,
          90,
          91,
          92,
          93,
          94,
          95,
          96,
          97,
          98,
          99,
          100
         ],
         "xaxis": "x2",
         "y": [
          64.11580599558076,
          96.9758273937262,
          143.0325964586636,
          206.12337382473117,
          290.73838409650193,
          402.02029512092616,
          545.7403467587178,
          728.2505817172471,
          956.4128780860303,
          1237.5066492452243,
          1579.1180874946833,
          1989.0146293999896,
          2475.0088817788333,
          3044.8165568031905,
          3705.9130306310144,
          4465.392984802096,
          5329.837246423715,
          6305.190451474198,
          7396.652557586323,
          8608.586570147447,
          9944.444157185198,
          11406.710148257876,
          12996.866268571455,
          14715.373873631946,
          16561.674937453274,
          18534.210118311945,
          20630.452384640288,
          22846.954429780657,
          25179.407934283267,
          27622.7126417837,
          30171.053190889856,
          32817.981681413614,
          35556.504038619576,
          38379.16836383168,
          41278.15361402264,
          44245.35712788085,
          47272.47970317596,
          50351.107122917725,
          53472.78721979508,
          56629.10175474143,
          59811.73256228896,
          63012.521579702625,
          66223.52452665436,
          69437.05813610702,
          72645.740954487,
          75842.52783004302,
          79020.73829287585,
          82174.07909918361,
          85296.66126677397,
          88383.01196999529,
          91428.08169120929,
          94427.2470440944,
          97376.30969278104,
          100271.49179139492,
          103109.42836229602,
          105887.15701934232,
          108602.1054259883,
          111252.07685795912,
          113835.23421752808,
          116350.08282187104,
          118795.45226228063,
          121170.47760479026,
          123474.58017650068,
          125707.44815603556,
          127869.01716142241,
          129959.45100457442,
          131979.12275864184,
          133928.59626296174,
          135808.6081702651,
          137620.0506222607,
          139363.9546227299
         ],
         "yaxis": "y2"
        }
       ],
       "layout": {
        "barmode": "stack",
        "template": {
         "data": {
          "bar": [
           {
            "error_x": {
             "color": "#2a3f5f"
            },
            "error_y": {
             "color": "#2a3f5f"
            },
            "marker": {
             "line": {
              "color": "#E5ECF6",
              "width": 0.5
             },
             "pattern": {
              "fillmode": "overlay",
              "size": 10,
              "solidity": 0.2
             }
            },
            "type": "bar"
           }
          ],
          "barpolar": [
           {
            "marker": {
             "line": {
              "color": "#E5ECF6",
              "width": 0.5
             },
             "pattern": {
              "fillmode": "overlay",
              "size": 10,
              "solidity": 0.2
             }
            },
            "type": "barpolar"
           }
          ],
          "carpet": [
           {
            "aaxis": {
             "endlinecolor": "#2a3f5f",
             "gridcolor": "white",
             "linecolor": "white",
             "minorgridcolor": "white",
             "startlinecolor": "#2a3f5f"
            },
            "baxis": {
             "endlinecolor": "#2a3f5f",
             "gridcolor": "white",
             "linecolor": "white",
             "minorgridcolor": "white",
             "startlinecolor": "#2a3f5f"
            },
            "type": "carpet"
           }
          ],
          "choropleth": [
           {
            "colorbar": {
             "outlinewidth": 0,
             "ticks": ""
            },
            "type": "choropleth"
           }
          ],
          "contour": [
           {
            "colorbar": {
             "outlinewidth": 0,
             "ticks": ""
            },
            "colorscale": [
             [
              0,
              "#0d0887"
             ],
             [
              0.1111111111111111,
              "#46039f"
             ],
             [
              0.2222222222222222,
              "#7201a8"
             ],
             [
              0.3333333333333333,
              "#9c179e"
             ],
             [
              0.4444444444444444,
              "#bd3786"
             ],
             [
              0.5555555555555556,
              "#d8576b"
             ],
             [
              0.6666666666666666,
              "#ed7953"
             ],
             [
              0.7777777777777778,
              "#fb9f3a"
             ],
             [
              0.8888888888888888,
              "#fdca26"
             ],
             [
              1,
              "#f0f921"
             ]
            ],
            "type": "contour"
           }
          ],
          "contourcarpet": [
           {
            "colorbar": {
             "outlinewidth": 0,
             "ticks": ""
            },
            "type": "contourcarpet"
           }
          ],
          "heatmap": [
           {
            "colorbar": {
             "outlinewidth": 0,
             "ticks": ""
            },
            "colorscale": [
             [
              0,
              "#0d0887"
             ],
             [
              0.1111111111111111,
              "#46039f"
             ],
             [
              0.2222222222222222,
              "#7201a8"
             ],
             [
              0.3333333333333333,
              "#9c179e"
             ],
             [
              0.4444444444444444,
              "#bd3786"
             ],
             [
              0.5555555555555556,
              "#d8576b"
             ],
             [
              0.6666666666666666,
              "#ed7953"
             ],
             [
              0.7777777777777778,
              "#fb9f3a"
             ],
             [
              0.8888888888888888,
              "#fdca26"
             ],
             [
              1,
              "#f0f921"
             ]
            ],
            "type": "heatmap"
           }
          ],
          "heatmapgl": [
           {
            "colorbar": {
             "outlinewidth": 0,
             "ticks": ""
            },
            "colorscale": [
             [
              0,
              "#0d0887"
             ],
             [
              0.1111111111111111,
              "#46039f"
             ],
             [
              0.2222222222222222,
              "#7201a8"
             ],
             [
              0.3333333333333333,
              "#9c179e"
             ],
             [
              0.4444444444444444,
              "#bd3786"
             ],
             [
              0.5555555555555556,
              "#d8576b"
             ],
             [
              0.6666666666666666,
              "#ed7953"
             ],
             [
              0.7777777777777778,
              "#fb9f3a"
             ],
             [
              0.8888888888888888,
              "#fdca26"
             ],
             [
              1,
              "#f0f921"
             ]
            ],
            "type": "heatmapgl"
           }
          ],
          "histogram": [
           {
            "marker": {
             "pattern": {
              "fillmode": "overlay",
              "size": 10,
              "solidity": 0.2
             }
            },
            "type": "histogram"
           }
          ],
          "histogram2d": [
           {
            "colorbar": {
             "outlinewidth": 0,
             "ticks": ""
            },
            "colorscale": [
             [
              0,
              "#0d0887"
             ],
             [
              0.1111111111111111,
              "#46039f"
             ],
             [
              0.2222222222222222,
              "#7201a8"
             ],
             [
              0.3333333333333333,
              "#9c179e"
             ],
             [
              0.4444444444444444,
              "#bd3786"
             ],
             [
              0.5555555555555556,
              "#d8576b"
             ],
             [
              0.6666666666666666,
              "#ed7953"
             ],
             [
              0.7777777777777778,
              "#fb9f3a"
             ],
             [
              0.8888888888888888,
              "#fdca26"
             ],
             [
              1,
              "#f0f921"
             ]
            ],
            "type": "histogram2d"
           }
          ],
          "histogram2dcontour": [
           {
            "colorbar": {
             "outlinewidth": 0,
             "ticks": ""
            },
            "colorscale": [
             [
              0,
              "#0d0887"
             ],
             [
              0.1111111111111111,
              "#46039f"
             ],
             [
              0.2222222222222222,
              "#7201a8"
             ],
             [
              0.3333333333333333,
              "#9c179e"
             ],
             [
              0.4444444444444444,
              "#bd3786"
             ],
             [
              0.5555555555555556,
              "#d8576b"
             ],
             [
              0.6666666666666666,
              "#ed7953"
             ],
             [
              0.7777777777777778,
              "#fb9f3a"
             ],
             [
              0.8888888888888888,
              "#fdca26"
             ],
             [
              1,
              "#f0f921"
             ]
            ],
            "type": "histogram2dcontour"
           }
          ],
          "mesh3d": [
           {
            "colorbar": {
             "outlinewidth": 0,
             "ticks": ""
            },
            "type": "mesh3d"
           }
          ],
          "parcoords": [
           {
            "line": {
             "colorbar": {
              "outlinewidth": 0,
              "ticks": ""
             }
            },
            "type": "parcoords"
           }
          ],
          "pie": [
           {
            "automargin": true,
            "type": "pie"
           }
          ],
          "scatter": [
           {
            "fillpattern": {
             "fillmode": "overlay",
             "size": 10,
             "solidity": 0.2
            },
            "type": "scatter"
           }
          ],
          "scatter3d": [
           {
            "line": {
             "colorbar": {
              "outlinewidth": 0,
              "ticks": ""
             }
            },
            "marker": {
             "colorbar": {
              "outlinewidth": 0,
              "ticks": ""
             }
            },
            "type": "scatter3d"
           }
          ],
          "scattercarpet": [
           {
            "marker": {
             "colorbar": {
              "outlinewidth": 0,
              "ticks": ""
             }
            },
            "type": "scattercarpet"
           }
          ],
          "scattergeo": [
           {
            "marker": {
             "colorbar": {
              "outlinewidth": 0,
              "ticks": ""
             }
            },
            "type": "scattergeo"
           }
          ],
          "scattergl": [
           {
            "marker": {
             "colorbar": {
              "outlinewidth": 0,
              "ticks": ""
             }
            },
            "type": "scattergl"
           }
          ],
          "scattermapbox": [
           {
            "marker": {
             "colorbar": {
              "outlinewidth": 0,
              "ticks": ""
             }
            },
            "type": "scattermapbox"
           }
          ],
          "scatterpolar": [
           {
            "marker": {
             "colorbar": {
              "outlinewidth": 0,
              "ticks": ""
             }
            },
            "type": "scatterpolar"
           }
          ],
          "scatterpolargl": [
           {
            "marker": {
             "colorbar": {
              "outlinewidth": 0,
              "ticks": ""
             }
            },
            "type": "scatterpolargl"
           }
          ],
          "scatterternary": [
           {
            "marker": {
             "colorbar": {
              "outlinewidth": 0,
              "ticks": ""
             }
            },
            "type": "scatterternary"
           }
          ],
          "surface": [
           {
            "colorbar": {
             "outlinewidth": 0,
             "ticks": ""
            },
            "colorscale": [
             [
              0,
              "#0d0887"
             ],
             [
              0.1111111111111111,
              "#46039f"
             ],
             [
              0.2222222222222222,
              "#7201a8"
             ],
             [
              0.3333333333333333,
              "#9c179e"
             ],
             [
              0.4444444444444444,
              "#bd3786"
             ],
             [
              0.5555555555555556,
              "#d8576b"
             ],
             [
              0.6666666666666666,
              "#ed7953"
             ],
             [
              0.7777777777777778,
              "#fb9f3a"
             ],
             [
              0.8888888888888888,
              "#fdca26"
             ],
             [
              1,
              "#f0f921"
             ]
            ],
            "type": "surface"
           }
          ],
          "table": [
           {
            "cells": {
             "fill": {
              "color": "#EBF0F8"
             },
             "line": {
              "color": "white"
             }
            },
            "header": {
             "fill": {
              "color": "#C8D4E3"
             },
             "line": {
              "color": "white"
             }
            },
            "type": "table"
           }
          ]
         },
         "layout": {
          "annotationdefaults": {
           "arrowcolor": "#2a3f5f",
           "arrowhead": 0,
           "arrowwidth": 1
          },
          "autotypenumbers": "strict",
          "coloraxis": {
           "colorbar": {
            "outlinewidth": 0,
            "ticks": ""
           }
          },
          "colorscale": {
           "diverging": [
            [
             0,
             "#8e0152"
            ],
            [
             0.1,
             "#c51b7d"
            ],
            [
             0.2,
             "#de77ae"
            ],
            [
             0.3,
             "#f1b6da"
            ],
            [
             0.4,
             "#fde0ef"
            ],
            [
             0.5,
             "#f7f7f7"
            ],
            [
             0.6,
             "#e6f5d0"
            ],
            [
             0.7,
             "#b8e186"
            ],
            [
             0.8,
             "#7fbc41"
            ],
            [
             0.9,
             "#4d9221"
            ],
            [
             1,
             "#276419"
            ]
           ],
           "sequential": [
            [
             0,
             "#0d0887"
            ],
            [
             0.1111111111111111,
             "#46039f"
            ],
            [
             0.2222222222222222,
             "#7201a8"
            ],
            [
             0.3333333333333333,
             "#9c179e"
            ],
            [
             0.4444444444444444,
             "#bd3786"
            ],
            [
             0.5555555555555556,
             "#d8576b"
            ],
            [
             0.6666666666666666,
             "#ed7953"
            ],
            [
             0.7777777777777778,
             "#fb9f3a"
            ],
            [
             0.8888888888888888,
             "#fdca26"
            ],
            [
             1,
             "#f0f921"
            ]
           ],
           "sequentialminus": [
            [
             0,
             "#0d0887"
            ],
            [
             0.1111111111111111,
             "#46039f"
            ],
            [
             0.2222222222222222,
             "#7201a8"
            ],
            [
             0.3333333333333333,
             "#9c179e"
            ],
            [
             0.4444444444444444,
             "#bd3786"
            ],
            [
             0.5555555555555556,
             "#d8576b"
            ],
            [
             0.6666666666666666,
             "#ed7953"
            ],
            [
             0.7777777777777778,
             "#fb9f3a"
            ],
            [
             0.8888888888888888,
             "#fdca26"
            ],
            [
             1,
             "#f0f921"
            ]
           ]
          },
          "colorway": [
           "#636efa",
           "#EF553B",
           "#00cc96",
           "#ab63fa",
           "#FFA15A",
           "#19d3f3",
           "#FF6692",
           "#B6E880",
           "#FF97FF",
           "#FECB52"
          ],
          "font": {
           "color": "#2a3f5f"
          },
          "geo": {
           "bgcolor": "white",
           "lakecolor": "white",
           "landcolor": "#E5ECF6",
           "showlakes": true,
           "showland": true,
           "subunitcolor": "white"
          },
          "hoverlabel": {
           "align": "left"
          },
          "hovermode": "closest",
          "mapbox": {
           "style": "light"
          },
          "paper_bgcolor": "white",
          "plot_bgcolor": "#E5ECF6",
          "polar": {
           "angularaxis": {
            "gridcolor": "white",
            "linecolor": "white",
            "ticks": ""
           },
           "bgcolor": "#E5ECF6",
           "radialaxis": {
            "gridcolor": "white",
            "linecolor": "white",
            "ticks": ""
           }
          },
          "scene": {
           "xaxis": {
            "backgroundcolor": "#E5ECF6",
            "gridcolor": "white",
            "gridwidth": 2,
            "linecolor": "white",
            "showbackground": true,
            "ticks": "",
            "zerolinecolor": "white"
           },
           "yaxis": {
            "backgroundcolor": "#E5ECF6",
            "gridcolor": "white",
            "gridwidth": 2,
            "linecolor": "white",
            "showbackground": true,
            "ticks": "",
            "zerolinecolor": "white"
           },
           "zaxis": {
            "backgroundcolor": "#E5ECF6",
            "gridcolor": "white",
            "gridwidth": 2,
            "linecolor": "white",
            "showbackground": true,
            "ticks": "",
            "zerolinecolor": "white"
           }
          },
          "shapedefaults": {
           "line": {
            "color": "#2a3f5f"
           }
          },
          "ternary": {
           "aaxis": {
            "gridcolor": "white",
            "linecolor": "white",
            "ticks": ""
           },
           "baxis": {
            "gridcolor": "white",
            "linecolor": "white",
            "ticks": ""
           },
           "bgcolor": "#E5ECF6",
           "caxis": {
            "gridcolor": "white",
            "linecolor": "white",
            "ticks": ""
           }
          },
          "title": {
           "x": 0.05
          },
          "xaxis": {
           "automargin": true,
           "gridcolor": "white",
           "linecolor": "white",
           "ticks": "",
           "title": {
            "standoff": 15
           },
           "zerolinecolor": "white",
           "zerolinewidth": 2
          },
          "yaxis": {
           "automargin": true,
           "gridcolor": "white",
           "linecolor": "white",
           "ticks": "",
           "title": {
            "standoff": 15
           },
           "zerolinecolor": "white",
           "zerolinewidth": 2
          }
         }
        },
        "title": {
         "text": "Todays Option Pos (PnL and Delta)",
         "x": 0.5,
         "xanchor": "center"
        },
        "xaxis": {
         "anchor": "y",
         "domain": [
          0,
          0.45
         ],
         "title": {
          "text": "Price"
         }
        },
        "xaxis2": {
         "anchor": "y2",
         "domain": [
          0.55,
          1
         ],
         "title": {
          "text": "Price"
         }
        },
        "yaxis": {
         "anchor": "x",
         "domain": [
          0,
          1
         ],
         "title": {
          "text": "Pnl"
         }
        },
        "yaxis2": {
         "anchor": "x2",
         "domain": [
          0,
          1
         ],
         "title": {
          "text": "Delta"
         }
        }
       }
      },
      "text/html": [
       "<div>                            <div id=\"59a7a846-f6bd-46a2-89a2-c6d41f9e8124\" class=\"plotly-graph-div\" style=\"height:525px; width:100%;\"></div>            <script type=\"text/javascript\">                require([\"plotly\"], function(Plotly) {                    window.PLOTLYENV=window.PLOTLYENV || {};                                    if (document.getElementById(\"59a7a846-f6bd-46a2-89a2-c6d41f9e8124\")) {                    Plotly.newPlot(                        \"59a7a846-f6bd-46a2-89a2-c6d41f9e8124\",                        [{\"name\":\"EUA Dec24 75C\",\"x\":[30,31,32,33,34,35,36,37,38,39,40,41,42,43,44,45,46,47,48,49,50,51,52,53,54,55,56,57,58,59,60,61,62,63,64,65,66,67,68,69,70,71,72,73,74,75,76,77,78,79,80,81,82,83,84,85,86,87,88,89,90,91,92,93,94,95,96,97,98,99,100],\"y\":[-28034.798007314424,-28003.54729313649,-27956.95066828698,-27889.176949349647,-27792.835959054824,-27658.759682228447,-27475.798211837693,-27230.64001493118,-26907.66544753649,-26488.841339989034,-25953.66295091644,-25279.14776330638,-24439.883594718693,-23408.13144048811,-22153.981478908012,-20645.558839669287,-18849.274149177603,-16730.11257378233,-14251.954116488554,-11377.917295089726,-8070.718031958254,-4293.035594892225,-7.877709984279376,4821.062520723994,10229.06456834918,16250.05913259008,22916.332420922612,30258.259999832597,38304.07318834101,47079.660010116255,56608.40181734448,66911.04586812592,78005.61339450172,89907.34205003387,102628.66107911273,116179.19710575914,130565.80809514575,145792.6427912619,161861.22277192242,178770.54417920596,196517.19616995024,215095.49317738827,234497.61817159026,254713.77424353446,275732.3420064014,297540.04049977724,320122.0894903143,343462.3712794631,367543.5903493205,392347.4293966523,417854.70051863877,444045.49051867344,470899.299494102,498395.17204825196,526511.8206352667,555227.7406972882,584521.3173891737,614370.9238061795,644755.0107352264,675652.188041057,707041.2978755502,738901.4799624626,771212.229262044,803953.4463611159,837105.4809655688,870649.1688946589,904565.8629911313,938837.4583689435,973446.4124221815,1008375.7600154955,1043609.1242688781],\"type\":\"scatter\",\"xaxis\":\"x\",\"yaxis\":\"y\"},{\"name\":\"EUA Dec24 75C\",\"x\":[30,31,32,33,34,35,36,37,38,39,40,41,42,43,44,45,46,47,48,49,50,51,52,53,54,55,56,57,58,59,60,61,62,63,64,65,66,67,68,69,70,71,72,73,74,75,76,77,78,79,80,81,82,83,84,85,86,87,88,89,90,91,92,93,94,95,96,97,98,99,100],\"y\":[15.766477520075606,23.838571019128313,35.11873417026146,50.51201173607193,71.06276957158342,97.94841675361202,132.46709854358932,176.01956648827223,230.08577051935168,296.19700891017476,375.9046973213481,470.7469674575831,582.2143759687735,711.7159984978467,860.5471106257721,1029.8595288423132,1220.6355145225887,1433.6659467571078,1669.5332597590286,1928.599430035785,2210.999098154834,2516.6377280538095,2845.19454937234,3196.129898873548,3568.696477292213,3961.953967773674,4374.786419944252,4805.921787039154,5253.953009167478,5717.360060078981,6194.532413933958,6683.7914388516965,7183.412281930332,7691.64487283018,8206.733737135357,8726.936374232035,9250.540015489083,9775.876635650093,10301.336142496037,10825.377716324387,11346.539311234086,11863.445364489233,12374.812788452877,12879.455341998708,13376.286495308585,13864.32091402027,14342.674696328302,14810.564500412876,15267.305700033015,15712.309703811778,16145.08056917691,16565.21103557794,16972.378093913216,17366.338200456576,17746.922234311663,18114.030287834878,18467.626369801477,18807.733091546903,19134.42639705935,19447.830389158484,19748.112295563296,20035.47761089731,20310.165443544563,20572.44408977798,20822.60685173854,21060.968110641305,21287.859662003815,21503.62731570641,21708.6277602691,21903.22568782796,22087.79117387501],\"type\":\"scatter\",\"xaxis\":\"x2\",\"yaxis\":\"y2\"},{\"name\":\"EUA Dec24 80C\",\"x\":[30,31,32,33,34,35,36,37,38,39,40,41,42,43,44,45,46,47,48,49,50,51,52,53,54,55,56,57,58,59,60,61,62,63,64,65,66,67,68,69,70,71,72,73,74,75,76,77,78,79,80,81,82,83,84,85,86,87,88,89,90,91,92,93,94,95,96,97,98,99,100],\"y\":[-28377.944496322187,-28338.142294144673,-28278.656131702413,-28191.881181043093,-28068.102502339232,-27895.162990215944,-27658.138281972773,-27339.031024798358,-26916.496854305264,-26365.61374719497,-25657.705138570942,-24760.22543635128,-23636.714442011664,-22246.82483112803,-20546.424392739413,-18487.772299398235,-16019.766391019475,-13088.256396728204,-9636.416259000749,-5605.167309748248,-933.6430027115805,4440.31476515702,10579.638021730529,17547.504032695088,25406.80549520992,34219.62897503193,44046.75017158749,54947.15366044872,66977.58371853118,80192.13172872347,94641.86452784571,110374.4969402144,127434.11065827365,145860.92061574783,165691.0890659308,186956.58674119593,209685.09973781116,233899.98014673995,259620.2379366407,286860.57118713146,315631.4314634341,345939.12091085484,377785.9175210173,411170.2249720997,446086.74346317205,482526.65803832666,520477.84102017793,559925.0653354543,600850.2257091906,643232.5649206938,687048.9025468023,732273.8638597255,778880.1067924061,826838.5451291781,876118.5663194847,926688.2425443796,978514.5338868921,1031563.4826660034,1085800.3981886222,1141190.0313536078,1197696.7387058784,1255284.6356869533,1313917.7389608554,1373560.097811605,1434175.9147110349,1495729.6552440263,1558186.1476534794,1621510.6723299802,1685669.0416224508,1750627.6703868962,1816353.637721503],\"type\":\"scatter\",\"xaxis\":\"x\",\"yaxis\":\"y\"},{\"name\":\"EUA Dec24 80C\",\"x\":[30,31,32,33,34,35,36,37,38,39,40,41,42,43,44,45,46,47,48,49,50,51,52,53,54,55,56,57,58,59,60,61,62,63,64,65,66,67,68,69,70,71,72,73,74,75,76,77,78,79,80,81,82,83,84,85,86,87,88,89,90,91,92,93,94,95,96,97,98,99,100],\"y\":[20.060773486798688,30.39229978124252,44.891726286196054,64.77551879307212,91.46730836018352,126.59725757930826,171.9937983421906,229.66756496394567,301.78776014149514,390.65157895776247,498.6476528110879,628.2147423796567,781.7970954897788,961.7979881095621,1170.532986968837,1410.18441790705,1682.7584060458728,1990.045685623105,2333.5871731472325,2714.6450716627464,3134.180039600841,3592.8347265744433,4090.9237602219123,4628.430070308001,5205.007264082512,5819.987623658554,6472.395183358342,7160.963262482958,7884.155775437706,8640.191614277384,9427.071395550873,10242.60588044135,11084.445411050941,11950.109752702934,12837.017788911171,13742.516579028497,14663.909355692342,15598.482107564938,16543.52846043452,17496.372634807194,18454.390319352875,19415.0273559948,20375.816183382012,21334.39003056248,22288.49489171837,23235.99934586239,24174.902312610397,25103.33885684172,26019.584171627226,26922.055880694483,27809.31480939634,28680.06437715373,29533.148765157435,30367.5500112216,31182.38417954759,31976.89674721276,32750.457341838766,33502.55395647893,34232.786758608185,34940.86160048266,35626.58332829782,36289.84897771499,36930.64093361741,37549.020122531605,38145.11929711812,38719.136463578485,39271.32849480241,39802.004964630534,40311.52223175723,40800.27779555293,41268.704940444026],\"type\":\"scatter\",\"xaxis\":\"x2\",\"yaxis\":\"y2\"},{\"name\":\"EUA Dec24 85C\",\"x\":[30,31,32,33,34,35,36,37,38,39,40,41,42,43,44,45,46,47,48,49,50,51,52,53,54,55,56,57,58,59,60,61,62,63,64,65,66,67,68,69,70,71,72,73,74,75,76,77,78,79,80,81,82,83,84,85,86,87,88,89,90,91,92,93,94,95,96,97,98,99,100],\"y\":[-29494.318829037446,-29438.27360586272,-29354.695353029314,-29232.951939449304,-29059.42469698139,-28817.011646427174,-28484.628010937202,-28036.720041101238,-27442.80871218991,-26667.07960042637,-25668.03423904354,-24398.216578439216,-22804.025944261415,-20825.62524118666,-18396.950237398156,-15445.822734033389,-11894.167414825868,-7658.329307585241,-2649.48617430241,3225.8521393879623,10065.267265684472,17969.790140420155,27043.20549997336,37391.3160868459,49121.17983194755,62340.333146391094,77156.01299784188,93674.38971502549,111999.82151044652,132234.1405875295,154475.9794546312,178820.14475138747,205357.0445455446,234172.17371803525,265345.66075252555,298951.8780094109,335059.11641364044,373729.32443650573,415017.91031391104,458973.60562383133,505638.38764608593,555047.4573470533,607229.2693670545,662205.6100330383,719991.7191664325,780596.4512971595,844022.4718204176,910266.4836332162,979319.4798530579,1051167.0183418947,1125789.5139250695,1203162.5443989236,1283257.1666534718,1366040.2394907672,1451474.749988505,1539520.1405357716,1630132.6339486695,1723265.5543529966,1818869.641795587,1916893.3588119966,2017283.1874334216,2119983.915358074,2224938.910240056,2332090.381261277,2441379.6273480044,2552747.271573587,2666133.481451811,2781478.174972423,2898721.212361091,3017802.573661685,3138662.522339665],\"type\":\"scatter\",\"xaxis\":\"x\",\"yaxis\":\"y\"},{\"name\":\"EUA Dec24 85C\",\"x\":[30,31,32,33,34,35,36,37,38,39,40,41,42,43,44,45,46,47,48,49,50,51,52,53,54,55,56,57,58,59,60,61,62,63,64,65,66,67,68,69,70,71,72,73,74,75,76,77,78,79,80,81,82,83,84,85,86,87,88,89,90,91,92,93,94,95,96,97,98,99,100],\"y\":[28.288554988706462,42.744956593355376,63.02213600220609,90.83584329558714,128.20830616473498,177.4746207880059,241.27944987293793,322.56345026502925,424.5393474251835,550.6580613772869,704.5657373622473,890.0529195627497,1110.9974103202808,1371.3025701957818,1674.8329330364054,2025.349038052733,2426.443325855254,2881.478819093985,3393.5321246800627,3965.342068448916,4599.265019429524,5297.237693629624,6060.747958977204,6890.813904450398,7787.971196078548,8752.26852687972,9783.270781337695,10880.069380258545,12041.299149678081,13265.160967427331,14549.449381405027,15891.58436212057,17288.646345638303,18737.41373829857,20234.402087976105,21775.90417462032,23358.030331994534,24976.748379702694,26627.92261686452,28307.35140360985,30010.802931701997,31734.048859218594,33472.89555481948,35223.21276354583,36980.95956746005,38742.20757016036,40503.16128393715,42260.17574192902,44009.77139511373,45748.64638548903,47473.68631263603,49181.971631362736,50870.78283371039,52537.60357971675,54180.121948436776,55796.229984294696,57384.021714348055,58941.789809933296,60468.021061860556,61961.3908322299,63420.756638419516,64845.15101617796,66233.7737993387,67585.98394372598,68901.29101256575,70179.34643035464,71419.9346018356,72622.96398262479,73788.45817823878,74916.5471388798,76007.45850841088],\"type\":\"scatter\",\"xaxis\":\"x2\",\"yaxis\":\"y2\"},{\"mode\":\"lines\",\"name\":\"Total_PnL\",\"x\":[30,31,32,33,34,35,36,37,38,39,40,41,42,43,44,45,46,47,48,49,50,51,52,53,54,55,56,57,58,59,60,61,62,63,64,65,66,67,68,69,70,71,72,73,74,75,76,77,78,79,80,81,82,83,84,85,86,87,88,89,90,91,92,93,94,95,96,97,98,99,100],\"y\":[-85907.06133267406,-85779.96319314388,-85590.30215301871,-85314.01006984204,-84920.36315837545,-84370.93431887156,-83618.56450474767,-82606.39108083077,-81266.97101403166,-79521.53468761037,-77279.40232853092,-74437.58977809688,-70880.62398099178,-66480.5815128028,-61097.35610904558,-54579.15387310091,-46763.20795502295,-37476.69827809578,-26537.85654979171,-13757.232465450013,1060.9062310146364,18117.06931068495,37614.96581171961,59759.88264026499,84757.04989550664,112810.0212540131,144119.09559035196,178879.8033753068,217281.47841731872,259505.93232636922,305726.24579982134,356105.6875597278,410796.76859831996,469940.436383817,533665.410897569,602087.661856366,675310.0242465974,753421.9473745076,836499.3710224741,924604.7209901687,1017787.0152794702,1116082.0714352964,1219512.805059662,1328089.6092486726,1441810.804636006,1560663.1498352634,1684622.4023309099,1813653.9202481336,1947713.2959115691,2086747.0126592407,2230693.1169905104,2379481.898777323,2533036.57293998,2691273.956668197,2854105.1369432565,3021436.1237774394,3193168.485224735,3369199.9608251797,3549425.0507194353,3733735.578206661,3922021.2240148503,4114170.03100749,4310068.878462955,4509603.925433998,4712661.023024607,4919126.095712272,5128885.492096421,5341826.305671347,5557836.6664057225,5776806.004064077,5998625.284330046],\"type\":\"scatter\",\"xaxis\":\"x\",\"yaxis\":\"y\"},{\"mode\":\"lines\",\"name\":\"Total_Delta\",\"x\":[30,31,32,33,34,35,36,37,38,39,40,41,42,43,44,45,46,47,48,49,50,51,52,53,54,55,56,57,58,59,60,61,62,63,64,65,66,67,68,69,70,71,72,73,74,75,76,77,78,79,80,81,82,83,84,85,86,87,88,89,90,91,92,93,94,95,96,97,98,99,100],\"y\":[64.11580599558076,96.9758273937262,143.0325964586636,206.12337382473117,290.73838409650193,402.02029512092616,545.7403467587178,728.2505817172471,956.4128780860303,1237.5066492452243,1579.1180874946833,1989.0146293999896,2475.0088817788333,3044.8165568031905,3705.9130306310144,4465.392984802096,5329.837246423715,6305.190451474198,7396.652557586323,8608.586570147447,9944.444157185198,11406.710148257876,12996.866268571455,14715.373873631946,16561.674937453274,18534.210118311945,20630.452384640288,22846.954429780657,25179.407934283267,27622.7126417837,30171.053190889856,32817.981681413614,35556.504038619576,38379.16836383168,41278.15361402264,44245.35712788085,47272.47970317596,50351.107122917725,53472.78721979508,56629.10175474143,59811.73256228896,63012.521579702625,66223.52452665436,69437.05813610702,72645.740954487,75842.52783004302,79020.73829287585,82174.07909918361,85296.66126677397,88383.01196999529,91428.08169120929,94427.2470440944,97376.30969278104,100271.49179139492,103109.42836229602,105887.15701934232,108602.1054259883,111252.07685795912,113835.23421752808,116350.08282187104,118795.45226228063,121170.47760479026,123474.58017650068,125707.44815603556,127869.01716142241,129959.45100457442,131979.12275864184,133928.59626296174,135808.6081702651,137620.0506222607,139363.9546227299],\"type\":\"scatter\",\"xaxis\":\"x2\",\"yaxis\":\"y2\"}],                        {\"template\":{\"data\":{\"histogram2dcontour\":[{\"type\":\"histogram2dcontour\",\"colorbar\":{\"outlinewidth\":0,\"ticks\":\"\"},\"colorscale\":[[0.0,\"#0d0887\"],[0.1111111111111111,\"#46039f\"],[0.2222222222222222,\"#7201a8\"],[0.3333333333333333,\"#9c179e\"],[0.4444444444444444,\"#bd3786\"],[0.5555555555555556,\"#d8576b\"],[0.6666666666666666,\"#ed7953\"],[0.7777777777777778,\"#fb9f3a\"],[0.8888888888888888,\"#fdca26\"],[1.0,\"#f0f921\"]]}],\"choropleth\":[{\"type\":\"choropleth\",\"colorbar\":{\"outlinewidth\":0,\"ticks\":\"\"}}],\"histogram2d\":[{\"type\":\"histogram2d\",\"colorbar\":{\"outlinewidth\":0,\"ticks\":\"\"},\"colorscale\":[[0.0,\"#0d0887\"],[0.1111111111111111,\"#46039f\"],[0.2222222222222222,\"#7201a8\"],[0.3333333333333333,\"#9c179e\"],[0.4444444444444444,\"#bd3786\"],[0.5555555555555556,\"#d8576b\"],[0.6666666666666666,\"#ed7953\"],[0.7777777777777778,\"#fb9f3a\"],[0.8888888888888888,\"#fdca26\"],[1.0,\"#f0f921\"]]}],\"heatmap\":[{\"type\":\"heatmap\",\"colorbar\":{\"outlinewidth\":0,\"ticks\":\"\"},\"colorscale\":[[0.0,\"#0d0887\"],[0.1111111111111111,\"#46039f\"],[0.2222222222222222,\"#7201a8\"],[0.3333333333333333,\"#9c179e\"],[0.4444444444444444,\"#bd3786\"],[0.5555555555555556,\"#d8576b\"],[0.6666666666666666,\"#ed7953\"],[0.7777777777777778,\"#fb9f3a\"],[0.8888888888888888,\"#fdca26\"],[1.0,\"#f0f921\"]]}],\"heatmapgl\":[{\"type\":\"heatmapgl\",\"colorbar\":{\"outlinewidth\":0,\"ticks\":\"\"},\"colorscale\":[[0.0,\"#0d0887\"],[0.1111111111111111,\"#46039f\"],[0.2222222222222222,\"#7201a8\"],[0.3333333333333333,\"#9c179e\"],[0.4444444444444444,\"#bd3786\"],[0.5555555555555556,\"#d8576b\"],[0.6666666666666666,\"#ed7953\"],[0.7777777777777778,\"#fb9f3a\"],[0.8888888888888888,\"#fdca26\"],[1.0,\"#f0f921\"]]}],\"contourcarpet\":[{\"type\":\"contourcarpet\",\"colorbar\":{\"outlinewidth\":0,\"ticks\":\"\"}}],\"contour\":[{\"type\":\"contour\",\"colorbar\":{\"outlinewidth\":0,\"ticks\":\"\"},\"colorscale\":[[0.0,\"#0d0887\"],[0.1111111111111111,\"#46039f\"],[0.2222222222222222,\"#7201a8\"],[0.3333333333333333,\"#9c179e\"],[0.4444444444444444,\"#bd3786\"],[0.5555555555555556,\"#d8576b\"],[0.6666666666666666,\"#ed7953\"],[0.7777777777777778,\"#fb9f3a\"],[0.8888888888888888,\"#fdca26\"],[1.0,\"#f0f921\"]]}],\"surface\":[{\"type\":\"surface\",\"colorbar\":{\"outlinewidth\":0,\"ticks\":\"\"},\"colorscale\":[[0.0,\"#0d0887\"],[0.1111111111111111,\"#46039f\"],[0.2222222222222222,\"#7201a8\"],[0.3333333333333333,\"#9c179e\"],[0.4444444444444444,\"#bd3786\"],[0.5555555555555556,\"#d8576b\"],[0.6666666666666666,\"#ed7953\"],[0.7777777777777778,\"#fb9f3a\"],[0.8888888888888888,\"#fdca26\"],[1.0,\"#f0f921\"]]}],\"mesh3d\":[{\"type\":\"mesh3d\",\"colorbar\":{\"outlinewidth\":0,\"ticks\":\"\"}}],\"scatter\":[{\"fillpattern\":{\"fillmode\":\"overlay\",\"size\":10,\"solidity\":0.2},\"type\":\"scatter\"}],\"parcoords\":[{\"type\":\"parcoords\",\"line\":{\"colorbar\":{\"outlinewidth\":0,\"ticks\":\"\"}}}],\"scatterpolargl\":[{\"type\":\"scatterpolargl\",\"marker\":{\"colorbar\":{\"outlinewidth\":0,\"ticks\":\"\"}}}],\"bar\":[{\"error_x\":{\"color\":\"#2a3f5f\"},\"error_y\":{\"color\":\"#2a3f5f\"},\"marker\":{\"line\":{\"color\":\"#E5ECF6\",\"width\":0.5},\"pattern\":{\"fillmode\":\"overlay\",\"size\":10,\"solidity\":0.2}},\"type\":\"bar\"}],\"scattergeo\":[{\"type\":\"scattergeo\",\"marker\":{\"colorbar\":{\"outlinewidth\":0,\"ticks\":\"\"}}}],\"scatterpolar\":[{\"type\":\"scatterpolar\",\"marker\":{\"colorbar\":{\"outlinewidth\":0,\"ticks\":\"\"}}}],\"histogram\":[{\"marker\":{\"pattern\":{\"fillmode\":\"overlay\",\"size\":10,\"solidity\":0.2}},\"type\":\"histogram\"}],\"scattergl\":[{\"type\":\"scattergl\",\"marker\":{\"colorbar\":{\"outlinewidth\":0,\"ticks\":\"\"}}}],\"scatter3d\":[{\"type\":\"scatter3d\",\"line\":{\"colorbar\":{\"outlinewidth\":0,\"ticks\":\"\"}},\"marker\":{\"colorbar\":{\"outlinewidth\":0,\"ticks\":\"\"}}}],\"scattermapbox\":[{\"type\":\"scattermapbox\",\"marker\":{\"colorbar\":{\"outlinewidth\":0,\"ticks\":\"\"}}}],\"scatterternary\":[{\"type\":\"scatterternary\",\"marker\":{\"colorbar\":{\"outlinewidth\":0,\"ticks\":\"\"}}}],\"scattercarpet\":[{\"type\":\"scattercarpet\",\"marker\":{\"colorbar\":{\"outlinewidth\":0,\"ticks\":\"\"}}}],\"carpet\":[{\"aaxis\":{\"endlinecolor\":\"#2a3f5f\",\"gridcolor\":\"white\",\"linecolor\":\"white\",\"minorgridcolor\":\"white\",\"startlinecolor\":\"#2a3f5f\"},\"baxis\":{\"endlinecolor\":\"#2a3f5f\",\"gridcolor\":\"white\",\"linecolor\":\"white\",\"minorgridcolor\":\"white\",\"startlinecolor\":\"#2a3f5f\"},\"type\":\"carpet\"}],\"table\":[{\"cells\":{\"fill\":{\"color\":\"#EBF0F8\"},\"line\":{\"color\":\"white\"}},\"header\":{\"fill\":{\"color\":\"#C8D4E3\"},\"line\":{\"color\":\"white\"}},\"type\":\"table\"}],\"barpolar\":[{\"marker\":{\"line\":{\"color\":\"#E5ECF6\",\"width\":0.5},\"pattern\":{\"fillmode\":\"overlay\",\"size\":10,\"solidity\":0.2}},\"type\":\"barpolar\"}],\"pie\":[{\"automargin\":true,\"type\":\"pie\"}]},\"layout\":{\"autotypenumbers\":\"strict\",\"colorway\":[\"#636efa\",\"#EF553B\",\"#00cc96\",\"#ab63fa\",\"#FFA15A\",\"#19d3f3\",\"#FF6692\",\"#B6E880\",\"#FF97FF\",\"#FECB52\"],\"font\":{\"color\":\"#2a3f5f\"},\"hovermode\":\"closest\",\"hoverlabel\":{\"align\":\"left\"},\"paper_bgcolor\":\"white\",\"plot_bgcolor\":\"#E5ECF6\",\"polar\":{\"bgcolor\":\"#E5ECF6\",\"angularaxis\":{\"gridcolor\":\"white\",\"linecolor\":\"white\",\"ticks\":\"\"},\"radialaxis\":{\"gridcolor\":\"white\",\"linecolor\":\"white\",\"ticks\":\"\"}},\"ternary\":{\"bgcolor\":\"#E5ECF6\",\"aaxis\":{\"gridcolor\":\"white\",\"linecolor\":\"white\",\"ticks\":\"\"},\"baxis\":{\"gridcolor\":\"white\",\"linecolor\":\"white\",\"ticks\":\"\"},\"caxis\":{\"gridcolor\":\"white\",\"linecolor\":\"white\",\"ticks\":\"\"}},\"coloraxis\":{\"colorbar\":{\"outlinewidth\":0,\"ticks\":\"\"}},\"colorscale\":{\"sequential\":[[0.0,\"#0d0887\"],[0.1111111111111111,\"#46039f\"],[0.2222222222222222,\"#7201a8\"],[0.3333333333333333,\"#9c179e\"],[0.4444444444444444,\"#bd3786\"],[0.5555555555555556,\"#d8576b\"],[0.6666666666666666,\"#ed7953\"],[0.7777777777777778,\"#fb9f3a\"],[0.8888888888888888,\"#fdca26\"],[1.0,\"#f0f921\"]],\"sequentialminus\":[[0.0,\"#0d0887\"],[0.1111111111111111,\"#46039f\"],[0.2222222222222222,\"#7201a8\"],[0.3333333333333333,\"#9c179e\"],[0.4444444444444444,\"#bd3786\"],[0.5555555555555556,\"#d8576b\"],[0.6666666666666666,\"#ed7953\"],[0.7777777777777778,\"#fb9f3a\"],[0.8888888888888888,\"#fdca26\"],[1.0,\"#f0f921\"]],\"diverging\":[[0,\"#8e0152\"],[0.1,\"#c51b7d\"],[0.2,\"#de77ae\"],[0.3,\"#f1b6da\"],[0.4,\"#fde0ef\"],[0.5,\"#f7f7f7\"],[0.6,\"#e6f5d0\"],[0.7,\"#b8e186\"],[0.8,\"#7fbc41\"],[0.9,\"#4d9221\"],[1,\"#276419\"]]},\"xaxis\":{\"gridcolor\":\"white\",\"linecolor\":\"white\",\"ticks\":\"\",\"title\":{\"standoff\":15},\"zerolinecolor\":\"white\",\"automargin\":true,\"zerolinewidth\":2},\"yaxis\":{\"gridcolor\":\"white\",\"linecolor\":\"white\",\"ticks\":\"\",\"title\":{\"standoff\":15},\"zerolinecolor\":\"white\",\"automargin\":true,\"zerolinewidth\":2},\"scene\":{\"xaxis\":{\"backgroundcolor\":\"#E5ECF6\",\"gridcolor\":\"white\",\"linecolor\":\"white\",\"showbackground\":true,\"ticks\":\"\",\"zerolinecolor\":\"white\",\"gridwidth\":2},\"yaxis\":{\"backgroundcolor\":\"#E5ECF6\",\"gridcolor\":\"white\",\"linecolor\":\"white\",\"showbackground\":true,\"ticks\":\"\",\"zerolinecolor\":\"white\",\"gridwidth\":2},\"zaxis\":{\"backgroundcolor\":\"#E5ECF6\",\"gridcolor\":\"white\",\"linecolor\":\"white\",\"showbackground\":true,\"ticks\":\"\",\"zerolinecolor\":\"white\",\"gridwidth\":2}},\"shapedefaults\":{\"line\":{\"color\":\"#2a3f5f\"}},\"annotationdefaults\":{\"arrowcolor\":\"#2a3f5f\",\"arrowhead\":0,\"arrowwidth\":1},\"geo\":{\"bgcolor\":\"white\",\"landcolor\":\"#E5ECF6\",\"subunitcolor\":\"white\",\"showland\":true,\"showlakes\":true,\"lakecolor\":\"white\"},\"title\":{\"x\":0.05},\"mapbox\":{\"style\":\"light\"}}},\"xaxis\":{\"anchor\":\"y\",\"domain\":[0.0,0.45],\"title\":{\"text\":\"Price\"}},\"yaxis\":{\"anchor\":\"x\",\"domain\":[0.0,1.0],\"title\":{\"text\":\"Pnl\"}},\"xaxis2\":{\"anchor\":\"y2\",\"domain\":[0.55,1.0],\"title\":{\"text\":\"Price\"}},\"yaxis2\":{\"anchor\":\"x2\",\"domain\":[0.0,1.0],\"title\":{\"text\":\"Delta\"}},\"title\":{\"text\":\"Todays Option Pos (PnL and Delta)\",\"x\":0.5,\"xanchor\":\"center\"},\"barmode\":\"stack\"},                        {\"responsive\": true}                    ).then(function(){\n",
       "                            \n",
       "var gd = document.getElementById('59a7a846-f6bd-46a2-89a2-c6d41f9e8124');\n",
       "var x = new MutationObserver(function (mutations, observer) {{\n",
       "        var display = window.getComputedStyle(gd).display;\n",
       "        if (!display || display === 'none') {{\n",
       "            console.log([gd, 'removed!']);\n",
       "            Plotly.purge(gd);\n",
       "            observer.disconnect();\n",
       "        }}\n",
       "}});\n",
       "\n",
       "// Listen for the removal of the full notebook cells\n",
       "var notebookContainer = gd.closest('#notebook-container');\n",
       "if (notebookContainer) {{\n",
       "    x.observe(notebookContainer, {childList: true});\n",
       "}}\n",
       "\n",
       "// Listen for the clearing of the current output cell\n",
       "var outputEl = gd.closest('.output');\n",
       "if (outputEl) {{\n",
       "    x.observe(outputEl, {childList: true});\n",
       "}}\n",
       "\n",
       "                        })                };                });            </script>        </div>"
      ]
     },
     "metadata": {},
     "output_type": "display_data"
    }
   ],
   "source": [
    "pnl_delta_plot(june_expiry)"
   ]
  },
  {
   "cell_type": "markdown",
   "id": "8cc6406d",
   "metadata": {},
   "source": [
    "## End of Year"
   ]
  },
  {
   "cell_type": "code",
   "execution_count": 20,
   "id": "76f3a582",
   "metadata": {},
   "outputs": [
    {
     "data": {
      "application/vnd.plotly.v1+json": {
       "config": {
        "plotlyServerURL": "https://plot.ly"
       },
       "data": [
        {
         "name": "EUA Dec24 75C",
         "type": "scatter",
         "x": [
          30,
          31,
          32,
          33,
          34,
          35,
          36,
          37,
          38,
          39,
          40,
          41,
          42,
          43,
          44,
          45,
          46,
          47,
          48,
          49,
          50,
          51,
          52,
          53,
          54,
          55,
          56,
          57,
          58,
          59,
          60,
          61,
          62,
          63,
          64,
          65,
          66,
          67,
          68,
          69,
          70,
          71,
          72,
          73,
          74,
          75,
          76,
          77,
          78,
          79,
          80,
          81,
          82,
          83,
          84,
          85,
          86,
          87,
          88,
          89,
          90,
          91,
          92,
          93,
          94,
          95,
          96,
          97,
          98,
          99,
          100
         ],
         "xaxis": "x",
         "y": [
          -28086.385684290766,
          -28086.385684290766,
          -28086.385684290766,
          -28086.385684290766,
          -28086.385684290766,
          -28086.385684290766,
          -28086.385684290766,
          -28086.385684290766,
          -28086.385684290766,
          -28086.385684290766,
          -28086.385684290766,
          -28086.385684290766,
          -28086.385684290766,
          -28086.385684290766,
          -28086.385684290766,
          -28086.385684290766,
          -28086.385684290766,
          -28086.385684290766,
          -28086.385684290766,
          -28086.385684290766,
          -28086.385684290766,
          -28086.38568429073,
          -28086.385684289955,
          -28086.385684275814,
          -28086.38568406363,
          -28086.385681422522,
          -28086.38565389567,
          -28086.385411538617,
          -28086.383593933995,
          -28086.37189080549,
          -28086.30671377914,
          -28085.990527796133,
          -28084.645403749106,
          -28079.594880830417,
          -28062.755377937723,
          -28012.601653616628,
          -27878.407563854984,
          -27554.049570294475,
          -26841.970620672997,
          -25414.52321890896,
          -22787.760217714313,
          -18326.927748617334,
          -11298.189375040529,
          -966.1514656221308,
          13283.066912150902,
          31828.02841029529,
          54742.76960182262,
          81792.6823775191,
          112492.98129316041,
          146207.25350643205,
          182254.91868651213,
          220000.54664167066,
          258910.18834256328,
          298573.24112149084,
          338697.67823538324,
          379089.9856174513,
          419630.017921451,
          460247.5770810744,
          500903.9233881619,
          541578.800622726,
          582262.1459638034,
          622949.198392167,
          663637.8078142687,
          704327.0455445412,
          745016.5272186415,
          785706.1001388162,
          826395.7059819796,
          867085.3232981458,
          907774.9444802899,
          948464.5669235026,
          989154.1897653614
         ],
         "yaxis": "y"
        },
        {
         "name": "EUA Dec24 75C",
         "type": "scatter",
         "x": [
          30,
          31,
          32,
          33,
          34,
          35,
          36,
          37,
          38,
          39,
          40,
          41,
          42,
          43,
          44,
          45,
          46,
          47,
          48,
          49,
          50,
          51,
          52,
          53,
          54,
          55,
          56,
          57,
          58,
          59,
          60,
          61,
          62,
          63,
          64,
          65,
          66,
          67,
          68,
          69,
          70,
          71,
          72,
          73,
          74,
          75,
          76,
          77,
          78,
          79,
          80,
          81,
          82,
          83,
          84,
          85,
          86,
          87,
          88,
          89,
          90,
          91,
          92,
          93,
          94,
          95,
          96,
          97,
          98,
          99,
          100
         ],
         "xaxis": "x2",
         "y": [
          4.6307030252876674e-73,
          9.214473563700046e-68,
          8.164528913289142e-63,
          3.4296098097943506e-58,
          7.225424746383831e-54,
          8.032008630858381e-50,
          4.932255220432694e-46,
          1.7441375384773007e-42,
          3.688374706771157e-39,
          4.8278426089602375e-36,
          4.036276522305619e-33,
          2.218229299412831e-30,
          8.227771938142525e-28,
          2.1102440907227063e-25,
          3.82690773110663e-23,
          5.009184147216428e-21,
          4.823367056543247e-19,
          3.477322872855431e-17,
          1.9078409426977876e-15,
          8.087755223962968e-14,
          2.686765168602767e-12,
          7.086902063907417e-11,
          1.5025747816060536e-09,
          2.590291632090513e-08,
          3.669916580235906e-07,
          4.316484315980305e-06,
          4.254773244510652e-05,
          0.00035461573259772133,
          0.002520091275884653,
          0.015391839356600876,
          0.08140223760278906,
          0.37544215569814127,
          1.5203735233323377,
          5.440821306179738,
          17.31308766037767,
          49.27972711947639,
          126.19695628146525,
          292.38287253186246,
          616.2597188872479,
          1188.0668037479873,
          2106.3491005234596,
          3452.9638714876314,
          5262.846356102679,
          7500.112644409465,
          10052.17699548558,
          12747.115549713648,
          15389.527448135797,
          17802.18632652328,
          19859.148239445552,
          21500.97671727582,
          22730.91978381545,
          23597.748886993184,
          24173.802005954556,
          24535.559674182998,
          24750.690840992433,
          24872.081233610086,
          24937.19736495417,
          24970.46399839316,
          24986.67853019096,
          24994.231241655445,
          24997.598696885245,
          24999.038059346236,
          24999.628735848823,
          24999.861789727085,
          24999.95031788748,
          24999.98273639033,
          24999.994195121562,
          24999.99810926369,
          24999.99940285564,
          24999.999816954027,
          24999.999945489133
         ],
         "yaxis": "y2"
        },
        {
         "name": "EUA Dec24 80C",
         "type": "scatter",
         "x": [
          30,
          31,
          32,
          33,
          34,
          35,
          36,
          37,
          38,
          39,
          40,
          41,
          42,
          43,
          44,
          45,
          46,
          47,
          48,
          49,
          50,
          51,
          52,
          53,
          54,
          55,
          56,
          57,
          58,
          59,
          60,
          61,
          62,
          63,
          64,
          65,
          66,
          67,
          68,
          69,
          70,
          71,
          72,
          73,
          74,
          75,
          76,
          77,
          78,
          79,
          80,
          81,
          82,
          83,
          84,
          85,
          86,
          87,
          88,
          89,
          90,
          91,
          92,
          93,
          94,
          95,
          96,
          97,
          98,
          99,
          100
         ],
         "xaxis": "x",
         "y": [
          -28443.554490774575,
          -28443.554490774575,
          -28443.554490774575,
          -28443.554490774575,
          -28443.554490774575,
          -28443.554490774575,
          -28443.554490774575,
          -28443.554490774575,
          -28443.554490774575,
          -28443.554490774575,
          -28443.554490774575,
          -28443.554490774575,
          -28443.554490774575,
          -28443.554490774575,
          -28443.554490774575,
          -28443.554490774575,
          -28443.554490774575,
          -28443.554490774575,
          -28443.554490774575,
          -28443.554490774575,
          -28443.554490774575,
          -28443.554490774575,
          -28443.554490774575,
          -28443.554490774564,
          -28443.554490774422,
          -28443.554490771952,
          -28443.554490736828,
          -28443.5544903148,
          -28443.554485991885,
          -28443.554447953502,
          -28443.55415836418,
          -28443.55223795049,
          -28443.54107345999,
          -28443.483826609554,
          -28443.223428177083,
          -28442.16689011715,
          -28438.323013758196,
          -28425.720101827905,
          -28388.301963969727,
          -28287.232714424357,
          -28037.75533195427,
          -27472.541314081944,
          -26292.181161446755,
          -24010.50494244018,
          -19911.01775465882,
          -13036.652471000923,
          -2233.219484609569,
          13745.301635400643,
          36081.58803155374,
          65722.07024032658,
          103229.27681337784,
          148697.96696588048,
          201755.09919812094,
          261638.8756508022,
          327331.0336109106,
          397706.5266245636,
          471667.3597367432,
          548238.9649772769,
          626622.0224355598,
          706204.6591359446,
          786546.6957310693,
          867349.0090744786,
          948418.8171234376,
          1029637.8958045921,
          1110937.066240133,
          1192277.610313797,
          1273638.7572882941,
          1355009.8063594827,
          1436385.454029312,
          1517763.1676014955,
          1599141.779942962
         ],
         "yaxis": "y"
        },
        {
         "name": "EUA Dec24 80C",
         "type": "scatter",
         "x": [
          30,
          31,
          32,
          33,
          34,
          35,
          36,
          37,
          38,
          39,
          40,
          41,
          42,
          43,
          44,
          45,
          46,
          47,
          48,
          49,
          50,
          51,
          52,
          53,
          54,
          55,
          56,
          57,
          58,
          59,
          60,
          61,
          62,
          63,
          64,
          65,
          66,
          67,
          68,
          69,
          70,
          71,
          72,
          73,
          74,
          75,
          76,
          77,
          78,
          79,
          80,
          81,
          82,
          83,
          84,
          85,
          86,
          87,
          88,
          89,
          90,
          91,
          92,
          93,
          94,
          95,
          96,
          97,
          98,
          99,
          100
         ],
         "xaxis": "x2",
         "y": [
          9.242259622155372e-79,
          2.0688936370133155e-73,
          2.1049382863388773e-68,
          1.0342442492412002e-63,
          2.5915741910743444e-59,
          3.4785959485883456e-55,
          2.6148186241315858e-51,
          1.145967404866215e-47,
          3.0373846819145083e-44,
          5.034034865403948e-41,
          5.378461223169067e-38,
          3.80927080376094e-35,
          1.834773555338977e-32,
          6.153133809773422e-30,
          1.468223783399165e-27,
          2.54302725713013e-25,
          3.256837350156512e-23,
          3.137298182207111e-21,
          2.309504978915898e-19,
          1.318510854181244e-17,
          5.918370624414869e-16,
          2.115529947442997e-14,
          6.094077897097401e-13,
          1.4305463695568762e-11,
          2.765177588057559e-10,
          4.444346750315177e-09,
          5.994203100569945e-08,
          6.842705806842972e-07,
          6.6651580806772e-06,
          5.581993615556576e-05,
          0.00040484418793854636,
          0.002560106428470436,
          0.01420672801359076,
          0.06960592077232754,
          0.3028535559375143,
          1.176662324551317,
          4.103867665443056,
          12.913656669614701,
          36.84044539236197,
          95.73038730149672,
          227.60871456628342,
          497.3401789018128,
          1003.0296444311653,
          1875.0398433632051,
          3262.6373322506,
          5306.542090160893,
          8101.658866601427,
          11660.495914573185,
          15890.63840756421,
          20596.693223293645,
          25508.93624395256,
          30331.096291380298,
          34792.94879966022,
          38692.64542421693,
          41918.748683907266,
          44449.84736292199,
          46336.70244925031,
          47675.600717141635,
          48581.509495008744,
          49166.92813304422,
          49528.8224331773,
          49743.155932475755,
          49864.94965653995,
          49931.44549616043,
          49966.37423189958,
          49984.04890187711,
          49992.675493386,
          49996.741473620656,
          49998.594272261435,
          49999.41143402261,
          49999.7606278722
         ],
         "yaxis": "y2"
        },
        {
         "name": "EUA Dec24 85C",
         "type": "scatter",
         "x": [
          30,
          31,
          32,
          33,
          34,
          35,
          36,
          37,
          38,
          39,
          40,
          41,
          42,
          43,
          44,
          45,
          46,
          47,
          48,
          49,
          50,
          51,
          52,
          53,
          54,
          55,
          56,
          57,
          58,
          59,
          60,
          61,
          62,
          63,
          64,
          65,
          66,
          67,
          68,
          69,
          70,
          71,
          72,
          73,
          74,
          75,
          76,
          77,
          78,
          79,
          80,
          81,
          82,
          83,
          84,
          85,
          86,
          87,
          88,
          89,
          90,
          91,
          92,
          93,
          94,
          95,
          96,
          97,
          98,
          99,
          100
         ],
         "xaxis": "x",
         "y": [
          -29587.67126445458,
          -29587.67126445458,
          -29587.67126445458,
          -29587.67126445458,
          -29587.67126445458,
          -29587.67126445458,
          -29587.67126445458,
          -29587.67126445458,
          -29587.67126445458,
          -29587.67126445458,
          -29587.67126445458,
          -29587.67126445458,
          -29587.67126445458,
          -29587.67126445458,
          -29587.67126445458,
          -29587.67126445458,
          -29587.67126445458,
          -29587.67126445458,
          -29587.67126445458,
          -29587.67126445458,
          -29587.67126445458,
          -29587.67126445458,
          -29587.67126445458,
          -29587.67126445458,
          -29587.67126445458,
          -29587.671264454573,
          -29587.671264454526,
          -29587.671264453726,
          -29587.671264443437,
          -29587.671264328383,
          -29587.671263213317,
          -29587.67125378289,
          -29587.671183753635,
          -29587.67072448296,
          -29587.668049673703,
          -29587.654143005722,
          -29587.58927686306,
          -29587.316547147973,
          -29586.278240910346,
          -29582.683489786228,
          -29571.318881277577,
          -29538.38052320436,
          -29450.525695517263,
          -29234.083456866087,
          -28739.79905982516,
          -27689.839082910385,
          -25608.24415783698,
          -21743.808863187904,
          -15003.790064581242,
          -3924.06391169962,
          13298.385110863048,
          38694.679658742505,
          74338.3433193258,
          122111.22934980366,
          183466.10087631477,
          259236.85917308164,
          349537.7712424858,
          453770.8747817577,
          570733.9378504832,
          698798.9928936634,
          836119.9863756882,
          980829.166631412,
          1131192.6551743133,
          1285710.914360587,
          1443164.2464146768,
          1602613.5344783429,
          1763371.0341057403,
          1924955.9314933298,
          2087046.368349963,
          2249435.533742435,
          2411995.5975996326
         ],
         "yaxis": "y"
        },
        {
         "name": "EUA Dec24 85C",
         "type": "scatter",
         "x": [
          30,
          31,
          32,
          33,
          34,
          35,
          36,
          37,
          38,
          39,
          40,
          41,
          42,
          43,
          44,
          45,
          46,
          47,
          48,
          49,
          50,
          51,
          52,
          53,
          54,
          55,
          56,
          57,
          58,
          59,
          60,
          61,
          62,
          63,
          64,
          65,
          66,
          67,
          68,
          69,
          70,
          71,
          72,
          73,
          74,
          75,
          76,
          77,
          78,
          79,
          80,
          81,
          82,
          83,
          84,
          85,
          86,
          87,
          88,
          89,
          90,
          91,
          92,
          93,
          94,
          95,
          96,
          97,
          98,
          99,
          100
         ],
         "xaxis": "x2",
         "y": [
          3.5154891241019e-83,
          7.615838505510351e-78,
          7.691832664404779e-73,
          3.839349706412607e-68,
          9.981102847740949e-64,
          1.416879617408349e-59,
          1.146300021376288e-55,
          5.4944281645308694e-52,
          1.6163100379860753e-48,
          3.013478189604749e-45,
          3.666989349433478e-42,
          2.991783724133808e-39,
          1.6774418049126233e-36,
          6.611733603719499e-34,
          1.870728776733908e-31,
          3.8735618484798306e-29,
          5.9752780681092935e-27,
          6.981109743139875e-25,
          6.272784580378317e-23,
          4.396874085013069e-21,
          2.4362570989740553e-19,
          1.0803203104314042e-17,
          3.8781823741861236e-16,
          1.139246027922511e-14,
          2.766218971535804e-13,
          5.604346162369877e-12,
          9.558025784902926e-11,
          1.383623448204345e-09,
          1.713406050672833e-08,
          1.82844930068469e-07,
          1.6931292150635094e-06,
          1.3693578460131846e-05,
          9.732901533243984e-05,
          0.0006115060389123906,
          0.0034150215550701394,
          0.017041139935730164,
          0.07636267458079433,
          0.3087459900747365,
          1.131419856676811,
          3.774204476120961,
          11.508090283708334,
          32.20194865397929,
          83.0084439621513,
          197.84568584664416,
          437.57085232784334,
          901.153929319957,
          1734.0259692583252,
          3128.020427384487,
          5307.315871371616,
          8497.61785809804,
          12881.384270114104,
          18548.420001200182,
          25455.693872195094,
          33410.093853972365,
          42082.24543825464,
          51050.26465685593,
          59863.0423047826,
          68107.05656079353,
          75460.75262964271,
          81725.6646984055,
          86831.17844189946,
          90817.06350693437,
          93802.38318962854,
          95950.37704660316,
          97437.0771094987,
          98428.16369759983,
          99065.2911938323,
          99460.72701624616,
          99697.94615732766,
          99835.64119300802,
          99913.05793897061
         ],
         "yaxis": "y2"
        },
        {
         "mode": "lines",
         "name": "Total_PnL",
         "type": "scatter",
         "x": [
          30,
          31,
          32,
          33,
          34,
          35,
          36,
          37,
          38,
          39,
          40,
          41,
          42,
          43,
          44,
          45,
          46,
          47,
          48,
          49,
          50,
          51,
          52,
          53,
          54,
          55,
          56,
          57,
          58,
          59,
          60,
          61,
          62,
          63,
          64,
          65,
          66,
          67,
          68,
          69,
          70,
          71,
          72,
          73,
          74,
          75,
          76,
          77,
          78,
          79,
          80,
          81,
          82,
          83,
          84,
          85,
          86,
          87,
          88,
          89,
          90,
          91,
          92,
          93,
          94,
          95,
          96,
          97,
          98,
          99,
          100
         ],
         "xaxis": "x",
         "y": [
          -86117.61143951993,
          -86117.61143951993,
          -86117.61143951993,
          -86117.61143951993,
          -86117.61143951993,
          -86117.61143951993,
          -86117.61143951993,
          -86117.61143951993,
          -86117.61143951993,
          -86117.61143951993,
          -86117.61143951993,
          -86117.61143951993,
          -86117.61143951993,
          -86117.61143951993,
          -86117.61143951993,
          -86117.61143951993,
          -86117.61143951993,
          -86117.61143951993,
          -86117.61143951993,
          -86117.61143951993,
          -86117.61143951993,
          -86117.61143951988,
          -86117.61143951911,
          -86117.61143950495,
          -86117.61143929262,
          -86117.61143664905,
          -86117.61140908703,
          -86117.61116630715,
          -86117.60934436932,
          -86117.59760308737,
          -86117.53213535664,
          -86117.2140195295,
          -86115.85766096273,
          -86110.74943192293,
          -86093.64685578851,
          -86042.4226867395,
          -85904.31985447624,
          -85567.08621927035,
          -84816.55082555307,
          -83284.43942311955,
          -80396.83443094615,
          -75337.84958590363,
          -67040.89623200455,
          -54210.7398649284,
          -35367.749902333075,
          -8898.463143616016,
          26901.305959376074,
          73794.17514973183,
          133570.77926013293,
          208005.259835059,
          298782.58061075304,
          407393.1932662936,
          535003.63086001,
          682323.3461220966,
          849494.8127226087,
          1036033.3714150966,
          1240835.14890068,
          1462257.416840109,
          1698259.8836742048,
          1946582.4526523338,
          2204928.828070561,
          2471127.374098058,
          2743249.2801120197,
          3019675.8557097204,
          3299117.8398734513,
          3580597.2449309556,
          3863405.4973760145,
          4147051.0611509583,
          4431206.766859565,
          4715663.268267432,
          5000291.5673079565
         ],
         "yaxis": "y"
        },
        {
         "mode": "lines",
         "name": "Total_Delta",
         "type": "scatter",
         "x": [
          30,
          31,
          32,
          33,
          34,
          35,
          36,
          37,
          38,
          39,
          40,
          41,
          42,
          43,
          44,
          45,
          46,
          47,
          48,
          49,
          50,
          51,
          52,
          53,
          54,
          55,
          56,
          57,
          58,
          59,
          60,
          61,
          62,
          63,
          64,
          65,
          66,
          67,
          68,
          69,
          70,
          71,
          72,
          73,
          74,
          75,
          76,
          77,
          78,
          79,
          80,
          81,
          82,
          83,
          84,
          85,
          86,
          87,
          88,
          89,
          90,
          91,
          92,
          93,
          94,
          95,
          96,
          97,
          98,
          99,
          100
         ],
         "xaxis": "x2",
         "y": [
          4.630712267898838e-73,
          9.214494253398e-68,
          8.164549963441188e-63,
          3.429620152620778e-58,
          7.225450663123852e-54,
          8.032043418234746e-50,
          4.9322813697652355e-46,
          1.744148998700792e-42,
          3.688405082234286e-39,
          4.8278929523223694e-36,
          4.03633031058484e-33,
          2.2182673951126524e-30,
          8.227955432272479e-28,
          2.1103056286725376e-25,
          3.8270545721922577e-23,
          5.00943848867776e-21,
          4.823692800031044e-19,
          3.4776366724847496e-17,
          1.9080719559235253e-15,
          8.089074174504558e-14,
          2.6873572492909184e-12,
          7.08901867417517e-11,
          1.5031845772140008e-09,
          2.5917233177060976e-08,
          3.672684524042935e-07,
          4.320934267076783e-06,
          4.260777005637006e-05,
          0.0003553013868018538,
          0.0025267735680258373,
          0.015447842137686511,
          0.08180877491994266,
          0.37801595570507185,
          1.534677580361261,
          5.511038732990978,
          17.619356237870253,
          50.473430583963435,
          130.3771866214891,
          305.60527519155187,
          654.2315841362866,
          1287.5713955256049,
          2345.4659053734517,
          3982.505999043424,
          6348.884444495996,
          9572.998173619313,
          13752.385180064024,
          18954.8115691945,
          25225.21228399555,
          32590.70266848095,
          41057.10251838138,
          50595.28779866751,
          61121.24029788211,
          72477.26517957366,
          84422.44467780986,
          96638.29895237228,
          108751.68496315434,
          120372.193253388,
          131136.9421189871,
          140753.12127632834,
          149028.94065484242,
          155886.82407310518,
          161357.59957196203,
          165559.25749875634,
          168666.9615820173,
          170881.68433249067,
          172403.40165928577,
          173412.1953358673,
          174057.96088233986,
          174457.4665991305,
          174696.53983244475,
          174835.05244398466,
          174912.81851233193
         ],
         "yaxis": "y2"
        }
       ],
       "layout": {
        "barmode": "stack",
        "template": {
         "data": {
          "bar": [
           {
            "error_x": {
             "color": "#2a3f5f"
            },
            "error_y": {
             "color": "#2a3f5f"
            },
            "marker": {
             "line": {
              "color": "#E5ECF6",
              "width": 0.5
             },
             "pattern": {
              "fillmode": "overlay",
              "size": 10,
              "solidity": 0.2
             }
            },
            "type": "bar"
           }
          ],
          "barpolar": [
           {
            "marker": {
             "line": {
              "color": "#E5ECF6",
              "width": 0.5
             },
             "pattern": {
              "fillmode": "overlay",
              "size": 10,
              "solidity": 0.2
             }
            },
            "type": "barpolar"
           }
          ],
          "carpet": [
           {
            "aaxis": {
             "endlinecolor": "#2a3f5f",
             "gridcolor": "white",
             "linecolor": "white",
             "minorgridcolor": "white",
             "startlinecolor": "#2a3f5f"
            },
            "baxis": {
             "endlinecolor": "#2a3f5f",
             "gridcolor": "white",
             "linecolor": "white",
             "minorgridcolor": "white",
             "startlinecolor": "#2a3f5f"
            },
            "type": "carpet"
           }
          ],
          "choropleth": [
           {
            "colorbar": {
             "outlinewidth": 0,
             "ticks": ""
            },
            "type": "choropleth"
           }
          ],
          "contour": [
           {
            "colorbar": {
             "outlinewidth": 0,
             "ticks": ""
            },
            "colorscale": [
             [
              0,
              "#0d0887"
             ],
             [
              0.1111111111111111,
              "#46039f"
             ],
             [
              0.2222222222222222,
              "#7201a8"
             ],
             [
              0.3333333333333333,
              "#9c179e"
             ],
             [
              0.4444444444444444,
              "#bd3786"
             ],
             [
              0.5555555555555556,
              "#d8576b"
             ],
             [
              0.6666666666666666,
              "#ed7953"
             ],
             [
              0.7777777777777778,
              "#fb9f3a"
             ],
             [
              0.8888888888888888,
              "#fdca26"
             ],
             [
              1,
              "#f0f921"
             ]
            ],
            "type": "contour"
           }
          ],
          "contourcarpet": [
           {
            "colorbar": {
             "outlinewidth": 0,
             "ticks": ""
            },
            "type": "contourcarpet"
           }
          ],
          "heatmap": [
           {
            "colorbar": {
             "outlinewidth": 0,
             "ticks": ""
            },
            "colorscale": [
             [
              0,
              "#0d0887"
             ],
             [
              0.1111111111111111,
              "#46039f"
             ],
             [
              0.2222222222222222,
              "#7201a8"
             ],
             [
              0.3333333333333333,
              "#9c179e"
             ],
             [
              0.4444444444444444,
              "#bd3786"
             ],
             [
              0.5555555555555556,
              "#d8576b"
             ],
             [
              0.6666666666666666,
              "#ed7953"
             ],
             [
              0.7777777777777778,
              "#fb9f3a"
             ],
             [
              0.8888888888888888,
              "#fdca26"
             ],
             [
              1,
              "#f0f921"
             ]
            ],
            "type": "heatmap"
           }
          ],
          "heatmapgl": [
           {
            "colorbar": {
             "outlinewidth": 0,
             "ticks": ""
            },
            "colorscale": [
             [
              0,
              "#0d0887"
             ],
             [
              0.1111111111111111,
              "#46039f"
             ],
             [
              0.2222222222222222,
              "#7201a8"
             ],
             [
              0.3333333333333333,
              "#9c179e"
             ],
             [
              0.4444444444444444,
              "#bd3786"
             ],
             [
              0.5555555555555556,
              "#d8576b"
             ],
             [
              0.6666666666666666,
              "#ed7953"
             ],
             [
              0.7777777777777778,
              "#fb9f3a"
             ],
             [
              0.8888888888888888,
              "#fdca26"
             ],
             [
              1,
              "#f0f921"
             ]
            ],
            "type": "heatmapgl"
           }
          ],
          "histogram": [
           {
            "marker": {
             "pattern": {
              "fillmode": "overlay",
              "size": 10,
              "solidity": 0.2
             }
            },
            "type": "histogram"
           }
          ],
          "histogram2d": [
           {
            "colorbar": {
             "outlinewidth": 0,
             "ticks": ""
            },
            "colorscale": [
             [
              0,
              "#0d0887"
             ],
             [
              0.1111111111111111,
              "#46039f"
             ],
             [
              0.2222222222222222,
              "#7201a8"
             ],
             [
              0.3333333333333333,
              "#9c179e"
             ],
             [
              0.4444444444444444,
              "#bd3786"
             ],
             [
              0.5555555555555556,
              "#d8576b"
             ],
             [
              0.6666666666666666,
              "#ed7953"
             ],
             [
              0.7777777777777778,
              "#fb9f3a"
             ],
             [
              0.8888888888888888,
              "#fdca26"
             ],
             [
              1,
              "#f0f921"
             ]
            ],
            "type": "histogram2d"
           }
          ],
          "histogram2dcontour": [
           {
            "colorbar": {
             "outlinewidth": 0,
             "ticks": ""
            },
            "colorscale": [
             [
              0,
              "#0d0887"
             ],
             [
              0.1111111111111111,
              "#46039f"
             ],
             [
              0.2222222222222222,
              "#7201a8"
             ],
             [
              0.3333333333333333,
              "#9c179e"
             ],
             [
              0.4444444444444444,
              "#bd3786"
             ],
             [
              0.5555555555555556,
              "#d8576b"
             ],
             [
              0.6666666666666666,
              "#ed7953"
             ],
             [
              0.7777777777777778,
              "#fb9f3a"
             ],
             [
              0.8888888888888888,
              "#fdca26"
             ],
             [
              1,
              "#f0f921"
             ]
            ],
            "type": "histogram2dcontour"
           }
          ],
          "mesh3d": [
           {
            "colorbar": {
             "outlinewidth": 0,
             "ticks": ""
            },
            "type": "mesh3d"
           }
          ],
          "parcoords": [
           {
            "line": {
             "colorbar": {
              "outlinewidth": 0,
              "ticks": ""
             }
            },
            "type": "parcoords"
           }
          ],
          "pie": [
           {
            "automargin": true,
            "type": "pie"
           }
          ],
          "scatter": [
           {
            "fillpattern": {
             "fillmode": "overlay",
             "size": 10,
             "solidity": 0.2
            },
            "type": "scatter"
           }
          ],
          "scatter3d": [
           {
            "line": {
             "colorbar": {
              "outlinewidth": 0,
              "ticks": ""
             }
            },
            "marker": {
             "colorbar": {
              "outlinewidth": 0,
              "ticks": ""
             }
            },
            "type": "scatter3d"
           }
          ],
          "scattercarpet": [
           {
            "marker": {
             "colorbar": {
              "outlinewidth": 0,
              "ticks": ""
             }
            },
            "type": "scattercarpet"
           }
          ],
          "scattergeo": [
           {
            "marker": {
             "colorbar": {
              "outlinewidth": 0,
              "ticks": ""
             }
            },
            "type": "scattergeo"
           }
          ],
          "scattergl": [
           {
            "marker": {
             "colorbar": {
              "outlinewidth": 0,
              "ticks": ""
             }
            },
            "type": "scattergl"
           }
          ],
          "scattermapbox": [
           {
            "marker": {
             "colorbar": {
              "outlinewidth": 0,
              "ticks": ""
             }
            },
            "type": "scattermapbox"
           }
          ],
          "scatterpolar": [
           {
            "marker": {
             "colorbar": {
              "outlinewidth": 0,
              "ticks": ""
             }
            },
            "type": "scatterpolar"
           }
          ],
          "scatterpolargl": [
           {
            "marker": {
             "colorbar": {
              "outlinewidth": 0,
              "ticks": ""
             }
            },
            "type": "scatterpolargl"
           }
          ],
          "scatterternary": [
           {
            "marker": {
             "colorbar": {
              "outlinewidth": 0,
              "ticks": ""
             }
            },
            "type": "scatterternary"
           }
          ],
          "surface": [
           {
            "colorbar": {
             "outlinewidth": 0,
             "ticks": ""
            },
            "colorscale": [
             [
              0,
              "#0d0887"
             ],
             [
              0.1111111111111111,
              "#46039f"
             ],
             [
              0.2222222222222222,
              "#7201a8"
             ],
             [
              0.3333333333333333,
              "#9c179e"
             ],
             [
              0.4444444444444444,
              "#bd3786"
             ],
             [
              0.5555555555555556,
              "#d8576b"
             ],
             [
              0.6666666666666666,
              "#ed7953"
             ],
             [
              0.7777777777777778,
              "#fb9f3a"
             ],
             [
              0.8888888888888888,
              "#fdca26"
             ],
             [
              1,
              "#f0f921"
             ]
            ],
            "type": "surface"
           }
          ],
          "table": [
           {
            "cells": {
             "fill": {
              "color": "#EBF0F8"
             },
             "line": {
              "color": "white"
             }
            },
            "header": {
             "fill": {
              "color": "#C8D4E3"
             },
             "line": {
              "color": "white"
             }
            },
            "type": "table"
           }
          ]
         },
         "layout": {
          "annotationdefaults": {
           "arrowcolor": "#2a3f5f",
           "arrowhead": 0,
           "arrowwidth": 1
          },
          "autotypenumbers": "strict",
          "coloraxis": {
           "colorbar": {
            "outlinewidth": 0,
            "ticks": ""
           }
          },
          "colorscale": {
           "diverging": [
            [
             0,
             "#8e0152"
            ],
            [
             0.1,
             "#c51b7d"
            ],
            [
             0.2,
             "#de77ae"
            ],
            [
             0.3,
             "#f1b6da"
            ],
            [
             0.4,
             "#fde0ef"
            ],
            [
             0.5,
             "#f7f7f7"
            ],
            [
             0.6,
             "#e6f5d0"
            ],
            [
             0.7,
             "#b8e186"
            ],
            [
             0.8,
             "#7fbc41"
            ],
            [
             0.9,
             "#4d9221"
            ],
            [
             1,
             "#276419"
            ]
           ],
           "sequential": [
            [
             0,
             "#0d0887"
            ],
            [
             0.1111111111111111,
             "#46039f"
            ],
            [
             0.2222222222222222,
             "#7201a8"
            ],
            [
             0.3333333333333333,
             "#9c179e"
            ],
            [
             0.4444444444444444,
             "#bd3786"
            ],
            [
             0.5555555555555556,
             "#d8576b"
            ],
            [
             0.6666666666666666,
             "#ed7953"
            ],
            [
             0.7777777777777778,
             "#fb9f3a"
            ],
            [
             0.8888888888888888,
             "#fdca26"
            ],
            [
             1,
             "#f0f921"
            ]
           ],
           "sequentialminus": [
            [
             0,
             "#0d0887"
            ],
            [
             0.1111111111111111,
             "#46039f"
            ],
            [
             0.2222222222222222,
             "#7201a8"
            ],
            [
             0.3333333333333333,
             "#9c179e"
            ],
            [
             0.4444444444444444,
             "#bd3786"
            ],
            [
             0.5555555555555556,
             "#d8576b"
            ],
            [
             0.6666666666666666,
             "#ed7953"
            ],
            [
             0.7777777777777778,
             "#fb9f3a"
            ],
            [
             0.8888888888888888,
             "#fdca26"
            ],
            [
             1,
             "#f0f921"
            ]
           ]
          },
          "colorway": [
           "#636efa",
           "#EF553B",
           "#00cc96",
           "#ab63fa",
           "#FFA15A",
           "#19d3f3",
           "#FF6692",
           "#B6E880",
           "#FF97FF",
           "#FECB52"
          ],
          "font": {
           "color": "#2a3f5f"
          },
          "geo": {
           "bgcolor": "white",
           "lakecolor": "white",
           "landcolor": "#E5ECF6",
           "showlakes": true,
           "showland": true,
           "subunitcolor": "white"
          },
          "hoverlabel": {
           "align": "left"
          },
          "hovermode": "closest",
          "mapbox": {
           "style": "light"
          },
          "paper_bgcolor": "white",
          "plot_bgcolor": "#E5ECF6",
          "polar": {
           "angularaxis": {
            "gridcolor": "white",
            "linecolor": "white",
            "ticks": ""
           },
           "bgcolor": "#E5ECF6",
           "radialaxis": {
            "gridcolor": "white",
            "linecolor": "white",
            "ticks": ""
           }
          },
          "scene": {
           "xaxis": {
            "backgroundcolor": "#E5ECF6",
            "gridcolor": "white",
            "gridwidth": 2,
            "linecolor": "white",
            "showbackground": true,
            "ticks": "",
            "zerolinecolor": "white"
           },
           "yaxis": {
            "backgroundcolor": "#E5ECF6",
            "gridcolor": "white",
            "gridwidth": 2,
            "linecolor": "white",
            "showbackground": true,
            "ticks": "",
            "zerolinecolor": "white"
           },
           "zaxis": {
            "backgroundcolor": "#E5ECF6",
            "gridcolor": "white",
            "gridwidth": 2,
            "linecolor": "white",
            "showbackground": true,
            "ticks": "",
            "zerolinecolor": "white"
           }
          },
          "shapedefaults": {
           "line": {
            "color": "#2a3f5f"
           }
          },
          "ternary": {
           "aaxis": {
            "gridcolor": "white",
            "linecolor": "white",
            "ticks": ""
           },
           "baxis": {
            "gridcolor": "white",
            "linecolor": "white",
            "ticks": ""
           },
           "bgcolor": "#E5ECF6",
           "caxis": {
            "gridcolor": "white",
            "linecolor": "white",
            "ticks": ""
           }
          },
          "title": {
           "x": 0.05
          },
          "xaxis": {
           "automargin": true,
           "gridcolor": "white",
           "linecolor": "white",
           "ticks": "",
           "title": {
            "standoff": 15
           },
           "zerolinecolor": "white",
           "zerolinewidth": 2
          },
          "yaxis": {
           "automargin": true,
           "gridcolor": "white",
           "linecolor": "white",
           "ticks": "",
           "title": {
            "standoff": 15
           },
           "zerolinecolor": "white",
           "zerolinewidth": 2
          }
         }
        },
        "title": {
         "text": "Todays Option Pos (PnL and Delta)",
         "x": 0.5,
         "xanchor": "center"
        },
        "xaxis": {
         "anchor": "y",
         "domain": [
          0,
          0.45
         ],
         "title": {
          "text": "Price"
         }
        },
        "xaxis2": {
         "anchor": "y2",
         "domain": [
          0.55,
          1
         ],
         "title": {
          "text": "Price"
         }
        },
        "yaxis": {
         "anchor": "x",
         "domain": [
          0,
          1
         ],
         "title": {
          "text": "Pnl"
         }
        },
        "yaxis2": {
         "anchor": "x2",
         "domain": [
          0,
          1
         ],
         "title": {
          "text": "Delta"
         }
        }
       }
      },
      "text/html": [
       "<div>                            <div id=\"5e0355f3-3b69-4008-b70d-ad566887f760\" class=\"plotly-graph-div\" style=\"height:525px; width:100%;\"></div>            <script type=\"text/javascript\">                require([\"plotly\"], function(Plotly) {                    window.PLOTLYENV=window.PLOTLYENV || {};                                    if (document.getElementById(\"5e0355f3-3b69-4008-b70d-ad566887f760\")) {                    Plotly.newPlot(                        \"5e0355f3-3b69-4008-b70d-ad566887f760\",                        [{\"name\":\"EUA Dec24 75C\",\"x\":[30,31,32,33,34,35,36,37,38,39,40,41,42,43,44,45,46,47,48,49,50,51,52,53,54,55,56,57,58,59,60,61,62,63,64,65,66,67,68,69,70,71,72,73,74,75,76,77,78,79,80,81,82,83,84,85,86,87,88,89,90,91,92,93,94,95,96,97,98,99,100],\"y\":[-28086.385684290766,-28086.385684290766,-28086.385684290766,-28086.385684290766,-28086.385684290766,-28086.385684290766,-28086.385684290766,-28086.385684290766,-28086.385684290766,-28086.385684290766,-28086.385684290766,-28086.385684290766,-28086.385684290766,-28086.385684290766,-28086.385684290766,-28086.385684290766,-28086.385684290766,-28086.385684290766,-28086.385684290766,-28086.385684290766,-28086.385684290766,-28086.38568429073,-28086.385684289955,-28086.385684275814,-28086.38568406363,-28086.385681422522,-28086.38565389567,-28086.385411538617,-28086.383593933995,-28086.37189080549,-28086.30671377914,-28085.990527796133,-28084.645403749106,-28079.594880830417,-28062.755377937723,-28012.601653616628,-27878.407563854984,-27554.049570294475,-26841.970620672997,-25414.52321890896,-22787.760217714313,-18326.927748617334,-11298.189375040529,-966.1514656221308,13283.066912150902,31828.02841029529,54742.76960182262,81792.6823775191,112492.98129316041,146207.25350643205,182254.91868651213,220000.54664167066,258910.18834256328,298573.24112149084,338697.67823538324,379089.9856174513,419630.017921451,460247.5770810744,500903.9233881619,541578.800622726,582262.1459638034,622949.198392167,663637.8078142687,704327.0455445412,745016.5272186415,785706.1001388162,826395.7059819796,867085.3232981458,907774.9444802899,948464.5669235026,989154.1897653614],\"type\":\"scatter\",\"xaxis\":\"x\",\"yaxis\":\"y\"},{\"name\":\"EUA Dec24 75C\",\"x\":[30,31,32,33,34,35,36,37,38,39,40,41,42,43,44,45,46,47,48,49,50,51,52,53,54,55,56,57,58,59,60,61,62,63,64,65,66,67,68,69,70,71,72,73,74,75,76,77,78,79,80,81,82,83,84,85,86,87,88,89,90,91,92,93,94,95,96,97,98,99,100],\"y\":[4.6307030252876674e-73,9.214473563700046e-68,8.164528913289142e-63,3.4296098097943506e-58,7.225424746383831e-54,8.032008630858381e-50,4.932255220432694e-46,1.7441375384773007e-42,3.688374706771157e-39,4.8278426089602375e-36,4.036276522305619e-33,2.218229299412831e-30,8.227771938142525e-28,2.1102440907227063e-25,3.82690773110663e-23,5.009184147216428e-21,4.823367056543247e-19,3.477322872855431e-17,1.9078409426977876e-15,8.087755223962968e-14,2.686765168602767e-12,7.086902063907417e-11,1.5025747816060536e-09,2.590291632090513e-08,3.669916580235906e-07,4.316484315980305e-06,4.254773244510652e-05,0.00035461573259772133,0.002520091275884653,0.015391839356600876,0.08140223760278906,0.37544215569814127,1.5203735233323377,5.440821306179738,17.31308766037767,49.27972711947639,126.19695628146525,292.38287253186246,616.2597188872479,1188.0668037479873,2106.3491005234596,3452.9638714876314,5262.846356102679,7500.112644409465,10052.17699548558,12747.115549713648,15389.527448135797,17802.18632652328,19859.148239445552,21500.97671727582,22730.91978381545,23597.748886993184,24173.802005954556,24535.559674182998,24750.690840992433,24872.081233610086,24937.19736495417,24970.46399839316,24986.67853019096,24994.231241655445,24997.598696885245,24999.038059346236,24999.628735848823,24999.861789727085,24999.95031788748,24999.98273639033,24999.994195121562,24999.99810926369,24999.99940285564,24999.999816954027,24999.999945489133],\"type\":\"scatter\",\"xaxis\":\"x2\",\"yaxis\":\"y2\"},{\"name\":\"EUA Dec24 80C\",\"x\":[30,31,32,33,34,35,36,37,38,39,40,41,42,43,44,45,46,47,48,49,50,51,52,53,54,55,56,57,58,59,60,61,62,63,64,65,66,67,68,69,70,71,72,73,74,75,76,77,78,79,80,81,82,83,84,85,86,87,88,89,90,91,92,93,94,95,96,97,98,99,100],\"y\":[-28443.554490774575,-28443.554490774575,-28443.554490774575,-28443.554490774575,-28443.554490774575,-28443.554490774575,-28443.554490774575,-28443.554490774575,-28443.554490774575,-28443.554490774575,-28443.554490774575,-28443.554490774575,-28443.554490774575,-28443.554490774575,-28443.554490774575,-28443.554490774575,-28443.554490774575,-28443.554490774575,-28443.554490774575,-28443.554490774575,-28443.554490774575,-28443.554490774575,-28443.554490774575,-28443.554490774564,-28443.554490774422,-28443.554490771952,-28443.554490736828,-28443.5544903148,-28443.554485991885,-28443.554447953502,-28443.55415836418,-28443.55223795049,-28443.54107345999,-28443.483826609554,-28443.223428177083,-28442.16689011715,-28438.323013758196,-28425.720101827905,-28388.301963969727,-28287.232714424357,-28037.75533195427,-27472.541314081944,-26292.181161446755,-24010.50494244018,-19911.01775465882,-13036.652471000923,-2233.219484609569,13745.301635400643,36081.58803155374,65722.07024032658,103229.27681337784,148697.96696588048,201755.09919812094,261638.8756508022,327331.0336109106,397706.5266245636,471667.3597367432,548238.9649772769,626622.0224355598,706204.6591359446,786546.6957310693,867349.0090744786,948418.8171234376,1029637.8958045921,1110937.066240133,1192277.610313797,1273638.7572882941,1355009.8063594827,1436385.454029312,1517763.1676014955,1599141.779942962],\"type\":\"scatter\",\"xaxis\":\"x\",\"yaxis\":\"y\"},{\"name\":\"EUA Dec24 80C\",\"x\":[30,31,32,33,34,35,36,37,38,39,40,41,42,43,44,45,46,47,48,49,50,51,52,53,54,55,56,57,58,59,60,61,62,63,64,65,66,67,68,69,70,71,72,73,74,75,76,77,78,79,80,81,82,83,84,85,86,87,88,89,90,91,92,93,94,95,96,97,98,99,100],\"y\":[9.242259622155372e-79,2.0688936370133155e-73,2.1049382863388773e-68,1.0342442492412002e-63,2.5915741910743444e-59,3.4785959485883456e-55,2.6148186241315858e-51,1.145967404866215e-47,3.0373846819145083e-44,5.034034865403948e-41,5.378461223169067e-38,3.80927080376094e-35,1.834773555338977e-32,6.153133809773422e-30,1.468223783399165e-27,2.54302725713013e-25,3.256837350156512e-23,3.137298182207111e-21,2.309504978915898e-19,1.318510854181244e-17,5.918370624414869e-16,2.115529947442997e-14,6.094077897097401e-13,1.4305463695568762e-11,2.765177588057559e-10,4.444346750315177e-09,5.994203100569945e-08,6.842705806842972e-07,6.6651580806772e-06,5.581993615556576e-05,0.00040484418793854636,0.002560106428470436,0.01420672801359076,0.06960592077232754,0.3028535559375143,1.176662324551317,4.103867665443056,12.913656669614701,36.84044539236197,95.73038730149672,227.60871456628342,497.3401789018128,1003.0296444311653,1875.0398433632051,3262.6373322506,5306.542090160893,8101.658866601427,11660.495914573185,15890.63840756421,20596.693223293645,25508.93624395256,30331.096291380298,34792.94879966022,38692.64542421693,41918.748683907266,44449.84736292199,46336.70244925031,47675.600717141635,48581.509495008744,49166.92813304422,49528.8224331773,49743.155932475755,49864.94965653995,49931.44549616043,49966.37423189958,49984.04890187711,49992.675493386,49996.741473620656,49998.594272261435,49999.41143402261,49999.7606278722],\"type\":\"scatter\",\"xaxis\":\"x2\",\"yaxis\":\"y2\"},{\"name\":\"EUA Dec24 85C\",\"x\":[30,31,32,33,34,35,36,37,38,39,40,41,42,43,44,45,46,47,48,49,50,51,52,53,54,55,56,57,58,59,60,61,62,63,64,65,66,67,68,69,70,71,72,73,74,75,76,77,78,79,80,81,82,83,84,85,86,87,88,89,90,91,92,93,94,95,96,97,98,99,100],\"y\":[-29587.67126445458,-29587.67126445458,-29587.67126445458,-29587.67126445458,-29587.67126445458,-29587.67126445458,-29587.67126445458,-29587.67126445458,-29587.67126445458,-29587.67126445458,-29587.67126445458,-29587.67126445458,-29587.67126445458,-29587.67126445458,-29587.67126445458,-29587.67126445458,-29587.67126445458,-29587.67126445458,-29587.67126445458,-29587.67126445458,-29587.67126445458,-29587.67126445458,-29587.67126445458,-29587.67126445458,-29587.67126445458,-29587.671264454573,-29587.671264454526,-29587.671264453726,-29587.671264443437,-29587.671264328383,-29587.671263213317,-29587.67125378289,-29587.671183753635,-29587.67072448296,-29587.668049673703,-29587.654143005722,-29587.58927686306,-29587.316547147973,-29586.278240910346,-29582.683489786228,-29571.318881277577,-29538.38052320436,-29450.525695517263,-29234.083456866087,-28739.79905982516,-27689.839082910385,-25608.24415783698,-21743.808863187904,-15003.790064581242,-3924.06391169962,13298.385110863048,38694.679658742505,74338.3433193258,122111.22934980366,183466.10087631477,259236.85917308164,349537.7712424858,453770.8747817577,570733.9378504832,698798.9928936634,836119.9863756882,980829.166631412,1131192.6551743133,1285710.914360587,1443164.2464146768,1602613.5344783429,1763371.0341057403,1924955.9314933298,2087046.368349963,2249435.533742435,2411995.5975996326],\"type\":\"scatter\",\"xaxis\":\"x\",\"yaxis\":\"y\"},{\"name\":\"EUA Dec24 85C\",\"x\":[30,31,32,33,34,35,36,37,38,39,40,41,42,43,44,45,46,47,48,49,50,51,52,53,54,55,56,57,58,59,60,61,62,63,64,65,66,67,68,69,70,71,72,73,74,75,76,77,78,79,80,81,82,83,84,85,86,87,88,89,90,91,92,93,94,95,96,97,98,99,100],\"y\":[3.5154891241019e-83,7.615838505510351e-78,7.691832664404779e-73,3.839349706412607e-68,9.981102847740949e-64,1.416879617408349e-59,1.146300021376288e-55,5.4944281645308694e-52,1.6163100379860753e-48,3.013478189604749e-45,3.666989349433478e-42,2.991783724133808e-39,1.6774418049126233e-36,6.611733603719499e-34,1.870728776733908e-31,3.8735618484798306e-29,5.9752780681092935e-27,6.981109743139875e-25,6.272784580378317e-23,4.396874085013069e-21,2.4362570989740553e-19,1.0803203104314042e-17,3.8781823741861236e-16,1.139246027922511e-14,2.766218971535804e-13,5.604346162369877e-12,9.558025784902926e-11,1.383623448204345e-09,1.713406050672833e-08,1.82844930068469e-07,1.6931292150635094e-06,1.3693578460131846e-05,9.732901533243984e-05,0.0006115060389123906,0.0034150215550701394,0.017041139935730164,0.07636267458079433,0.3087459900747365,1.131419856676811,3.774204476120961,11.508090283708334,32.20194865397929,83.0084439621513,197.84568584664416,437.57085232784334,901.153929319957,1734.0259692583252,3128.020427384487,5307.315871371616,8497.61785809804,12881.384270114104,18548.420001200182,25455.693872195094,33410.093853972365,42082.24543825464,51050.26465685593,59863.0423047826,68107.05656079353,75460.75262964271,81725.6646984055,86831.17844189946,90817.06350693437,93802.38318962854,95950.37704660316,97437.0771094987,98428.16369759983,99065.2911938323,99460.72701624616,99697.94615732766,99835.64119300802,99913.05793897061],\"type\":\"scatter\",\"xaxis\":\"x2\",\"yaxis\":\"y2\"},{\"mode\":\"lines\",\"name\":\"Total_PnL\",\"x\":[30,31,32,33,34,35,36,37,38,39,40,41,42,43,44,45,46,47,48,49,50,51,52,53,54,55,56,57,58,59,60,61,62,63,64,65,66,67,68,69,70,71,72,73,74,75,76,77,78,79,80,81,82,83,84,85,86,87,88,89,90,91,92,93,94,95,96,97,98,99,100],\"y\":[-86117.61143951993,-86117.61143951993,-86117.61143951993,-86117.61143951993,-86117.61143951993,-86117.61143951993,-86117.61143951993,-86117.61143951993,-86117.61143951993,-86117.61143951993,-86117.61143951993,-86117.61143951993,-86117.61143951993,-86117.61143951993,-86117.61143951993,-86117.61143951993,-86117.61143951993,-86117.61143951993,-86117.61143951993,-86117.61143951993,-86117.61143951993,-86117.61143951988,-86117.61143951911,-86117.61143950495,-86117.61143929262,-86117.61143664905,-86117.61140908703,-86117.61116630715,-86117.60934436932,-86117.59760308737,-86117.53213535664,-86117.2140195295,-86115.85766096273,-86110.74943192293,-86093.64685578851,-86042.4226867395,-85904.31985447624,-85567.08621927035,-84816.55082555307,-83284.43942311955,-80396.83443094615,-75337.84958590363,-67040.89623200455,-54210.7398649284,-35367.749902333075,-8898.463143616016,26901.305959376074,73794.17514973183,133570.77926013293,208005.259835059,298782.58061075304,407393.1932662936,535003.63086001,682323.3461220966,849494.8127226087,1036033.3714150966,1240835.14890068,1462257.416840109,1698259.8836742048,1946582.4526523338,2204928.828070561,2471127.374098058,2743249.2801120197,3019675.8557097204,3299117.8398734513,3580597.2449309556,3863405.4973760145,4147051.0611509583,4431206.766859565,4715663.268267432,5000291.5673079565],\"type\":\"scatter\",\"xaxis\":\"x\",\"yaxis\":\"y\"},{\"mode\":\"lines\",\"name\":\"Total_Delta\",\"x\":[30,31,32,33,34,35,36,37,38,39,40,41,42,43,44,45,46,47,48,49,50,51,52,53,54,55,56,57,58,59,60,61,62,63,64,65,66,67,68,69,70,71,72,73,74,75,76,77,78,79,80,81,82,83,84,85,86,87,88,89,90,91,92,93,94,95,96,97,98,99,100],\"y\":[4.630712267898838e-73,9.214494253398e-68,8.164549963441188e-63,3.429620152620778e-58,7.225450663123852e-54,8.032043418234746e-50,4.9322813697652355e-46,1.744148998700792e-42,3.688405082234286e-39,4.8278929523223694e-36,4.03633031058484e-33,2.2182673951126524e-30,8.227955432272479e-28,2.1103056286725376e-25,3.8270545721922577e-23,5.00943848867776e-21,4.823692800031044e-19,3.4776366724847496e-17,1.9080719559235253e-15,8.089074174504558e-14,2.6873572492909184e-12,7.08901867417517e-11,1.5031845772140008e-09,2.5917233177060976e-08,3.672684524042935e-07,4.320934267076783e-06,4.260777005637006e-05,0.0003553013868018538,0.0025267735680258373,0.015447842137686511,0.08180877491994266,0.37801595570507185,1.534677580361261,5.511038732990978,17.619356237870253,50.473430583963435,130.3771866214891,305.60527519155187,654.2315841362866,1287.5713955256049,2345.4659053734517,3982.505999043424,6348.884444495996,9572.998173619313,13752.385180064024,18954.8115691945,25225.21228399555,32590.70266848095,41057.10251838138,50595.28779866751,61121.24029788211,72477.26517957366,84422.44467780986,96638.29895237228,108751.68496315434,120372.193253388,131136.9421189871,140753.12127632834,149028.94065484242,155886.82407310518,161357.59957196203,165559.25749875634,168666.9615820173,170881.68433249067,172403.40165928577,173412.1953358673,174057.96088233986,174457.4665991305,174696.53983244475,174835.05244398466,174912.81851233193],\"type\":\"scatter\",\"xaxis\":\"x2\",\"yaxis\":\"y2\"}],                        {\"template\":{\"data\":{\"histogram2dcontour\":[{\"type\":\"histogram2dcontour\",\"colorbar\":{\"outlinewidth\":0,\"ticks\":\"\"},\"colorscale\":[[0.0,\"#0d0887\"],[0.1111111111111111,\"#46039f\"],[0.2222222222222222,\"#7201a8\"],[0.3333333333333333,\"#9c179e\"],[0.4444444444444444,\"#bd3786\"],[0.5555555555555556,\"#d8576b\"],[0.6666666666666666,\"#ed7953\"],[0.7777777777777778,\"#fb9f3a\"],[0.8888888888888888,\"#fdca26\"],[1.0,\"#f0f921\"]]}],\"choropleth\":[{\"type\":\"choropleth\",\"colorbar\":{\"outlinewidth\":0,\"ticks\":\"\"}}],\"histogram2d\":[{\"type\":\"histogram2d\",\"colorbar\":{\"outlinewidth\":0,\"ticks\":\"\"},\"colorscale\":[[0.0,\"#0d0887\"],[0.1111111111111111,\"#46039f\"],[0.2222222222222222,\"#7201a8\"],[0.3333333333333333,\"#9c179e\"],[0.4444444444444444,\"#bd3786\"],[0.5555555555555556,\"#d8576b\"],[0.6666666666666666,\"#ed7953\"],[0.7777777777777778,\"#fb9f3a\"],[0.8888888888888888,\"#fdca26\"],[1.0,\"#f0f921\"]]}],\"heatmap\":[{\"type\":\"heatmap\",\"colorbar\":{\"outlinewidth\":0,\"ticks\":\"\"},\"colorscale\":[[0.0,\"#0d0887\"],[0.1111111111111111,\"#46039f\"],[0.2222222222222222,\"#7201a8\"],[0.3333333333333333,\"#9c179e\"],[0.4444444444444444,\"#bd3786\"],[0.5555555555555556,\"#d8576b\"],[0.6666666666666666,\"#ed7953\"],[0.7777777777777778,\"#fb9f3a\"],[0.8888888888888888,\"#fdca26\"],[1.0,\"#f0f921\"]]}],\"heatmapgl\":[{\"type\":\"heatmapgl\",\"colorbar\":{\"outlinewidth\":0,\"ticks\":\"\"},\"colorscale\":[[0.0,\"#0d0887\"],[0.1111111111111111,\"#46039f\"],[0.2222222222222222,\"#7201a8\"],[0.3333333333333333,\"#9c179e\"],[0.4444444444444444,\"#bd3786\"],[0.5555555555555556,\"#d8576b\"],[0.6666666666666666,\"#ed7953\"],[0.7777777777777778,\"#fb9f3a\"],[0.8888888888888888,\"#fdca26\"],[1.0,\"#f0f921\"]]}],\"contourcarpet\":[{\"type\":\"contourcarpet\",\"colorbar\":{\"outlinewidth\":0,\"ticks\":\"\"}}],\"contour\":[{\"type\":\"contour\",\"colorbar\":{\"outlinewidth\":0,\"ticks\":\"\"},\"colorscale\":[[0.0,\"#0d0887\"],[0.1111111111111111,\"#46039f\"],[0.2222222222222222,\"#7201a8\"],[0.3333333333333333,\"#9c179e\"],[0.4444444444444444,\"#bd3786\"],[0.5555555555555556,\"#d8576b\"],[0.6666666666666666,\"#ed7953\"],[0.7777777777777778,\"#fb9f3a\"],[0.8888888888888888,\"#fdca26\"],[1.0,\"#f0f921\"]]}],\"surface\":[{\"type\":\"surface\",\"colorbar\":{\"outlinewidth\":0,\"ticks\":\"\"},\"colorscale\":[[0.0,\"#0d0887\"],[0.1111111111111111,\"#46039f\"],[0.2222222222222222,\"#7201a8\"],[0.3333333333333333,\"#9c179e\"],[0.4444444444444444,\"#bd3786\"],[0.5555555555555556,\"#d8576b\"],[0.6666666666666666,\"#ed7953\"],[0.7777777777777778,\"#fb9f3a\"],[0.8888888888888888,\"#fdca26\"],[1.0,\"#f0f921\"]]}],\"mesh3d\":[{\"type\":\"mesh3d\",\"colorbar\":{\"outlinewidth\":0,\"ticks\":\"\"}}],\"scatter\":[{\"fillpattern\":{\"fillmode\":\"overlay\",\"size\":10,\"solidity\":0.2},\"type\":\"scatter\"}],\"parcoords\":[{\"type\":\"parcoords\",\"line\":{\"colorbar\":{\"outlinewidth\":0,\"ticks\":\"\"}}}],\"scatterpolargl\":[{\"type\":\"scatterpolargl\",\"marker\":{\"colorbar\":{\"outlinewidth\":0,\"ticks\":\"\"}}}],\"bar\":[{\"error_x\":{\"color\":\"#2a3f5f\"},\"error_y\":{\"color\":\"#2a3f5f\"},\"marker\":{\"line\":{\"color\":\"#E5ECF6\",\"width\":0.5},\"pattern\":{\"fillmode\":\"overlay\",\"size\":10,\"solidity\":0.2}},\"type\":\"bar\"}],\"scattergeo\":[{\"type\":\"scattergeo\",\"marker\":{\"colorbar\":{\"outlinewidth\":0,\"ticks\":\"\"}}}],\"scatterpolar\":[{\"type\":\"scatterpolar\",\"marker\":{\"colorbar\":{\"outlinewidth\":0,\"ticks\":\"\"}}}],\"histogram\":[{\"marker\":{\"pattern\":{\"fillmode\":\"overlay\",\"size\":10,\"solidity\":0.2}},\"type\":\"histogram\"}],\"scattergl\":[{\"type\":\"scattergl\",\"marker\":{\"colorbar\":{\"outlinewidth\":0,\"ticks\":\"\"}}}],\"scatter3d\":[{\"type\":\"scatter3d\",\"line\":{\"colorbar\":{\"outlinewidth\":0,\"ticks\":\"\"}},\"marker\":{\"colorbar\":{\"outlinewidth\":0,\"ticks\":\"\"}}}],\"scattermapbox\":[{\"type\":\"scattermapbox\",\"marker\":{\"colorbar\":{\"outlinewidth\":0,\"ticks\":\"\"}}}],\"scatterternary\":[{\"type\":\"scatterternary\",\"marker\":{\"colorbar\":{\"outlinewidth\":0,\"ticks\":\"\"}}}],\"scattercarpet\":[{\"type\":\"scattercarpet\",\"marker\":{\"colorbar\":{\"outlinewidth\":0,\"ticks\":\"\"}}}],\"carpet\":[{\"aaxis\":{\"endlinecolor\":\"#2a3f5f\",\"gridcolor\":\"white\",\"linecolor\":\"white\",\"minorgridcolor\":\"white\",\"startlinecolor\":\"#2a3f5f\"},\"baxis\":{\"endlinecolor\":\"#2a3f5f\",\"gridcolor\":\"white\",\"linecolor\":\"white\",\"minorgridcolor\":\"white\",\"startlinecolor\":\"#2a3f5f\"},\"type\":\"carpet\"}],\"table\":[{\"cells\":{\"fill\":{\"color\":\"#EBF0F8\"},\"line\":{\"color\":\"white\"}},\"header\":{\"fill\":{\"color\":\"#C8D4E3\"},\"line\":{\"color\":\"white\"}},\"type\":\"table\"}],\"barpolar\":[{\"marker\":{\"line\":{\"color\":\"#E5ECF6\",\"width\":0.5},\"pattern\":{\"fillmode\":\"overlay\",\"size\":10,\"solidity\":0.2}},\"type\":\"barpolar\"}],\"pie\":[{\"automargin\":true,\"type\":\"pie\"}]},\"layout\":{\"autotypenumbers\":\"strict\",\"colorway\":[\"#636efa\",\"#EF553B\",\"#00cc96\",\"#ab63fa\",\"#FFA15A\",\"#19d3f3\",\"#FF6692\",\"#B6E880\",\"#FF97FF\",\"#FECB52\"],\"font\":{\"color\":\"#2a3f5f\"},\"hovermode\":\"closest\",\"hoverlabel\":{\"align\":\"left\"},\"paper_bgcolor\":\"white\",\"plot_bgcolor\":\"#E5ECF6\",\"polar\":{\"bgcolor\":\"#E5ECF6\",\"angularaxis\":{\"gridcolor\":\"white\",\"linecolor\":\"white\",\"ticks\":\"\"},\"radialaxis\":{\"gridcolor\":\"white\",\"linecolor\":\"white\",\"ticks\":\"\"}},\"ternary\":{\"bgcolor\":\"#E5ECF6\",\"aaxis\":{\"gridcolor\":\"white\",\"linecolor\":\"white\",\"ticks\":\"\"},\"baxis\":{\"gridcolor\":\"white\",\"linecolor\":\"white\",\"ticks\":\"\"},\"caxis\":{\"gridcolor\":\"white\",\"linecolor\":\"white\",\"ticks\":\"\"}},\"coloraxis\":{\"colorbar\":{\"outlinewidth\":0,\"ticks\":\"\"}},\"colorscale\":{\"sequential\":[[0.0,\"#0d0887\"],[0.1111111111111111,\"#46039f\"],[0.2222222222222222,\"#7201a8\"],[0.3333333333333333,\"#9c179e\"],[0.4444444444444444,\"#bd3786\"],[0.5555555555555556,\"#d8576b\"],[0.6666666666666666,\"#ed7953\"],[0.7777777777777778,\"#fb9f3a\"],[0.8888888888888888,\"#fdca26\"],[1.0,\"#f0f921\"]],\"sequentialminus\":[[0.0,\"#0d0887\"],[0.1111111111111111,\"#46039f\"],[0.2222222222222222,\"#7201a8\"],[0.3333333333333333,\"#9c179e\"],[0.4444444444444444,\"#bd3786\"],[0.5555555555555556,\"#d8576b\"],[0.6666666666666666,\"#ed7953\"],[0.7777777777777778,\"#fb9f3a\"],[0.8888888888888888,\"#fdca26\"],[1.0,\"#f0f921\"]],\"diverging\":[[0,\"#8e0152\"],[0.1,\"#c51b7d\"],[0.2,\"#de77ae\"],[0.3,\"#f1b6da\"],[0.4,\"#fde0ef\"],[0.5,\"#f7f7f7\"],[0.6,\"#e6f5d0\"],[0.7,\"#b8e186\"],[0.8,\"#7fbc41\"],[0.9,\"#4d9221\"],[1,\"#276419\"]]},\"xaxis\":{\"gridcolor\":\"white\",\"linecolor\":\"white\",\"ticks\":\"\",\"title\":{\"standoff\":15},\"zerolinecolor\":\"white\",\"automargin\":true,\"zerolinewidth\":2},\"yaxis\":{\"gridcolor\":\"white\",\"linecolor\":\"white\",\"ticks\":\"\",\"title\":{\"standoff\":15},\"zerolinecolor\":\"white\",\"automargin\":true,\"zerolinewidth\":2},\"scene\":{\"xaxis\":{\"backgroundcolor\":\"#E5ECF6\",\"gridcolor\":\"white\",\"linecolor\":\"white\",\"showbackground\":true,\"ticks\":\"\",\"zerolinecolor\":\"white\",\"gridwidth\":2},\"yaxis\":{\"backgroundcolor\":\"#E5ECF6\",\"gridcolor\":\"white\",\"linecolor\":\"white\",\"showbackground\":true,\"ticks\":\"\",\"zerolinecolor\":\"white\",\"gridwidth\":2},\"zaxis\":{\"backgroundcolor\":\"#E5ECF6\",\"gridcolor\":\"white\",\"linecolor\":\"white\",\"showbackground\":true,\"ticks\":\"\",\"zerolinecolor\":\"white\",\"gridwidth\":2}},\"shapedefaults\":{\"line\":{\"color\":\"#2a3f5f\"}},\"annotationdefaults\":{\"arrowcolor\":\"#2a3f5f\",\"arrowhead\":0,\"arrowwidth\":1},\"geo\":{\"bgcolor\":\"white\",\"landcolor\":\"#E5ECF6\",\"subunitcolor\":\"white\",\"showland\":true,\"showlakes\":true,\"lakecolor\":\"white\"},\"title\":{\"x\":0.05},\"mapbox\":{\"style\":\"light\"}}},\"xaxis\":{\"anchor\":\"y\",\"domain\":[0.0,0.45],\"title\":{\"text\":\"Price\"}},\"yaxis\":{\"anchor\":\"x\",\"domain\":[0.0,1.0],\"title\":{\"text\":\"Pnl\"}},\"xaxis2\":{\"anchor\":\"y2\",\"domain\":[0.55,1.0],\"title\":{\"text\":\"Price\"}},\"yaxis2\":{\"anchor\":\"x2\",\"domain\":[0.0,1.0],\"title\":{\"text\":\"Delta\"}},\"title\":{\"text\":\"Todays Option Pos (PnL and Delta)\",\"x\":0.5,\"xanchor\":\"center\"},\"barmode\":\"stack\"},                        {\"responsive\": true}                    ).then(function(){\n",
       "                            \n",
       "var gd = document.getElementById('5e0355f3-3b69-4008-b70d-ad566887f760');\n",
       "var x = new MutationObserver(function (mutations, observer) {{\n",
       "        var display = window.getComputedStyle(gd).display;\n",
       "        if (!display || display === 'none') {{\n",
       "            console.log([gd, 'removed!']);\n",
       "            Plotly.purge(gd);\n",
       "            observer.disconnect();\n",
       "        }}\n",
       "}});\n",
       "\n",
       "// Listen for the removal of the full notebook cells\n",
       "var notebookContainer = gd.closest('#notebook-container');\n",
       "if (notebookContainer) {{\n",
       "    x.observe(notebookContainer, {childList: true});\n",
       "}}\n",
       "\n",
       "// Listen for the clearing of the current output cell\n",
       "var outputEl = gd.closest('.output');\n",
       "if (outputEl) {{\n",
       "    x.observe(outputEl, {childList: true});\n",
       "}}\n",
       "\n",
       "                        })                };                });            </script>        </div>"
      ]
     },
     "metadata": {},
     "output_type": "display_data"
    }
   ],
   "source": [
    "pnl_delta_plot(end_of_year)"
   ]
  },
  {
   "cell_type": "code",
   "execution_count": 21,
   "id": "175af9cd",
   "metadata": {},
   "outputs": [],
   "source": [
    "### THIS IS FOR PLOTTING THETA AND VEGA\n",
    "\n",
    "#fig_t = go.Figure()\n",
    "#for i in list(t)[1:-1]:\n",
    "#    fig_t.add_trace(go.Bar(x=t.Price, y=t[i], name=i, base=0))\n",
    "#\n",
    "#fig_t.add_trace(go.Scatter(x=t.Price, y=t.Option_Theta, mode='lines', name='Total_Theta'))\n",
    "#\n",
    "#\n",
    "#~~~~~~~~~~~~~~~~~~~~~~~~~~~~~~~~~~~~~~~~~~~~~~~~~~~~~~~~~~~~~~~~~~~~~~~~~~~~~~~~~\n",
    "#fig_v = go.Figure()\n",
    "#for i in list(v)[1:-1]:\n",
    "#    fig_v.add_trace(go.Bar(x=v.Price, y=v[i], name=i, base=0))\n",
    "#\n",
    "#fig_v.add_trace(go.Scatter(x=v.Price, y=v.Option_Vega, mode='lines', name='Total_Vega'))\n",
    "#\n",
    "##~~~~~~~~~~~~~~~~~~~~~~~~~~~~~~~~~~~~~~~~~~~~~~~~~~~~~~~~~~~~~~~~~~~~~~~~~~~~~~~~\n",
    "#fig = make_subplots(rows=1, cols=2)\n",
    "#for i in range(0,len(fig_p.data)):\n",
    "#    fig.add_trace(fig_t.data[i], row=1, col=1)\n",
    "#    fig.add_trace(fig_v.data[i], row=1, col=2)\n",
    "#   \n",
    "#fig.update_layout(title={'text': 'Todays Option Pos (Theta and Vega)','x': 0.5,'xanchor': 'center'}, barmode='stack')\n",
    "#\n",
    "#fig.update_xaxes(title_text=\"Price\", row=1, col=1)\n",
    "#fig.update_yaxes(title_text=\"Theta\", row=1, col=1)\n",
    "#fig.update_xaxes(title_text=\"Price\", row=1, col=2)\n",
    "#fig.update_yaxes(title_text=\"Vega\", row=1, col=2)    \n",
    "#fig.show()  "
   ]
  }
 ],
 "metadata": {
  "kernelspec": {
   "display_name": "Python 3 (ipykernel)",
   "language": "python",
   "name": "python3"
  },
  "language_info": {
   "codemirror_mode": {
    "name": "ipython",
    "version": 3
   },
   "file_extension": ".py",
   "mimetype": "text/x-python",
   "name": "python",
   "nbconvert_exporter": "python",
   "pygments_lexer": "ipython3",
   "version": "3.8.16"
  },
  "toc": {
   "base_numbering": 1,
   "nav_menu": {},
   "number_sections": true,
   "sideBar": true,
   "skip_h1_title": false,
   "title_cell": "Table of Contents",
   "title_sidebar": "Contents",
   "toc_cell": false,
   "toc_position": {},
   "toc_section_display": true,
   "toc_window_display": false
  },
  "varInspector": {
   "cols": {
    "lenName": 16,
    "lenType": 16,
    "lenVar": 40
   },
   "kernels_config": {
    "python": {
     "delete_cmd_postfix": "",
     "delete_cmd_prefix": "del ",
     "library": "var_list.py",
     "varRefreshCmd": "print(var_dic_list())"
    },
    "r": {
     "delete_cmd_postfix": ") ",
     "delete_cmd_prefix": "rm(",
     "library": "var_list.r",
     "varRefreshCmd": "cat(var_dic_list()) "
    }
   },
   "types_to_exclude": [
    "module",
    "function",
    "builtin_function_or_method",
    "instance",
    "_Feature"
   ],
   "window_display": false
  }
 },
 "nbformat": 4,
 "nbformat_minor": 5
}
