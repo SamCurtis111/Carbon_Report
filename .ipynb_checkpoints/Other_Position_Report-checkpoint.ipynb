{
 "cells": [
  {
   "cell_type": "code",
   "execution_count": 1,
   "id": "bba20152",
   "metadata": {},
   "outputs": [],
   "source": [
    "import warnings\n",
    "warnings.filterwarnings('ignore', category=RuntimeWarning)\n",
    "\n",
    "import pandas as pd\n",
    "import plotly.graph_objects as go\n",
    "from plotly.subplots import make_subplots\n",
    "import plotly\n",
    "\n",
    "import datetime as dt\n",
    "import calendar\n",
    "\n",
    "import openpyxl\n",
    "from openpyxl.utils.dataframe import dataframe_to_rows\n",
    "\n",
    "from Position_Report_Calcs import Position_Reporting"
   ]
  },
  {
   "cell_type": "code",
   "execution_count": 2,
   "id": "9b481c4e",
   "metadata": {},
   "outputs": [
    {
     "data": {
      "text/html": [
       "        <script type=\"text/javascript\">\n",
       "        window.PlotlyConfig = {MathJaxConfig: 'local'};\n",
       "        if (window.MathJax && window.MathJax.Hub && window.MathJax.Hub.Config) {window.MathJax.Hub.Config({SVG: {font: \"STIX-Web\"}});}\n",
       "        if (typeof require !== 'undefined') {\n",
       "        require.undef(\"plotly\");\n",
       "        requirejs.config({\n",
       "            paths: {\n",
       "                'plotly': ['https://cdn.plot.ly/plotly-2.12.1.min']\n",
       "            }\n",
       "        });\n",
       "        require(['plotly'], function(Plotly) {\n",
       "            window._Plotly = Plotly;\n",
       "        });\n",
       "        }\n",
       "        </script>\n",
       "        "
      ]
     },
     "metadata": {},
     "output_type": "display_data"
    }
   ],
   "source": [
    "plotly.offline.init_notebook_mode(connected=True)"
   ]
  },
  {
   "cell_type": "code",
   "execution_count": 3,
   "id": "3ca5488c",
   "metadata": {},
   "outputs": [],
   "source": [
    "## Read in the position data\n",
    "mkts = ['ACCU','NZU','EUA','OTHER']\n",
    "\n",
    "positions = dict()\n",
    "for m in mkts:\n",
    "    positions[m] = pd.read_excel('Positions.xlsx', sheet_name=m)\n",
    "    positions[m]['Expiry'] = pd.to_datetime(positions[m].Expiry).dt.date\n",
    "\n",
    "premiums = pd.read_excel('Positions.xlsx', sheet_name='Index') "
   ]
  },
  {
   "cell_type": "code",
   "execution_count": 4,
   "id": "557de5c9",
   "metadata": {},
   "outputs": [],
   "source": [
    "## Define the dates we want to use for reporting\n",
    "current_date = dt.datetime.today().date()\n",
    "current_year = str(dt.datetime.today().date().year)\n",
    "\n",
    "_, last_day = calendar.monthrange(current_date.year, current_date.month)\n",
    "end_of_month = dt.date(current_date.year, current_date.month, last_day)\n",
    "\n",
    "one_month = current_date + dt.timedelta(days=1*30)\n",
    "\n",
    "three_months = current_date + dt.timedelta(days=3*30)\n",
    "\n",
    "six_months = current_date + dt.timedelta(days=6*30)\n",
    "\n",
    "eoy = '10-12-{}'.format(current_year)\n",
    "end_of_year = dt.datetime.strptime(eoy, '%d-%m-%Y').date()\n",
    "\n",
    "one_year = current_date + dt.timedelta(days=365)\n",
    "\n",
    "end_of_may = dt.datetime.strptime('31-05-2024', '%d-%m-%Y').date()\n",
    "\n",
    "june_expiry = dt.datetime.strptime('15-06-2024', '%d-%m-%Y').date()\n",
    "\n",
    "dates_names = ['today','EoM','3 months','6 months','EoY','OneYear','End of May', 'Mid June']\n",
    "dates_values = [current_date, end_of_month, three_months, six_months, end_of_year, one_year,end_of_may,june_expiry]"
   ]
  },
  {
   "cell_type": "code",
   "execution_count": 5,
   "id": "d56c3bd8",
   "metadata": {},
   "outputs": [],
   "source": [
    "dates = dict()\n",
    "for i in list(range(0,len(dates_names))):\n",
    "    dates[dates_names[i]] = dates_values[i]"
   ]
  },
  {
   "cell_type": "code",
   "execution_count": 6,
   "id": "c9bcfcb0",
   "metadata": {},
   "outputs": [],
   "source": [
    "current_spot = positions['OTHER']\n",
    "current_spot = current_spot[current_spot.Type=='Spot'].reset_index(drop=True)\n",
    "current_spot = current_spot['Price'][0]"
   ]
  },
  {
   "cell_type": "markdown",
   "id": "756bb0ec",
   "metadata": {},
   "source": [
    "# OTHER Position Report\n",
    "All PnL figures are in AUD"
   ]
  },
  {
   "cell_type": "code",
   "execution_count": 7,
   "id": "659c3281",
   "metadata": {},
   "outputs": [],
   "source": [
    "other = dict()\n",
    "workbook = openpyxl.Workbook()\n",
    "\n",
    "for i,d in enumerate(dates_values):\n",
    "    other[d] = Position_Reporting(positions, 'OTHER', d).combine_frame()\n",
    "    \n",
    "    sheet_name = dates_names[i]\n",
    "    sheet = workbook.create_sheet(title=sheet_name)\n",
    "    \n",
    "    for row in dataframe_to_rows(other[d][0], index=False, header=True):\n",
    "        sheet.append(row)\n",
    "    \n",
    "workbook.save('Other PnL Output.xlsx')    "
   ]
  },
  {
   "cell_type": "code",
   "execution_count": 8,
   "id": "fb9d8c7f",
   "metadata": {},
   "outputs": [],
   "source": [
    "# data type; 0=PnL, 1=Delta, 2=Option Theta, 3=Option Vega\n",
    "def generate_summary_plots(mkt_data, data_type):\n",
    "    if data_type==0:\n",
    "        colname='Total_Pnl'\n",
    "    elif data_type==1:\n",
    "        colname='Total_Delta'\n",
    "    elif data_type==2:\n",
    "        colname='Option_Theta'\n",
    "    elif data_type==3:\n",
    "        colname='Option_Vega'\n",
    "    fig = go.Figure()\n",
    "    for i in list(range(0, len(dates_names))):\n",
    "        date_value = dates_values[i]\n",
    "        date_name = dates_names[i]\n",
    "        fig.add_trace(go.Scatter(x=mkt_data[date_value][data_type].Price, y=mkt_data[date_value][data_type][colname], name=date_name))\n",
    "    return fig"
   ]
  },
  {
   "cell_type": "code",
   "execution_count": 9,
   "id": "4708cc1d",
   "metadata": {},
   "outputs": [],
   "source": [
    "#fig_d = generate_summary_plots(other, 1)\n",
    "#fig_p = generate_summary_plots(other, 0)\n",
    "#fig_t = generate_summary_plots(other,2)\n",
    "#fig_v = generate_summary_plots(other,3)"
   ]
  },
  {
   "cell_type": "code",
   "execution_count": 10,
   "id": "ff94b9f0",
   "metadata": {},
   "outputs": [],
   "source": [
    "#fig = make_subplots(rows=1, cols=2)\n",
    "#for i in range(0,len(fig_d.data)):\n",
    "#    fig.add_trace(fig_p.data[i], row=1, col=1)\n",
    "#    fig.add_trace(fig_d.data[i], row=1, col=2)\n",
    "#\n",
    "#fig.update_layout(title={'text': 'OTHER Position (PnL and Delta)','x': 0.5,'xanchor': 'center'})\n",
    "#\n",
    "#fig.update_xaxes(title_text=\"Price\", row=1, col=1)\n",
    "#fig.update_yaxes(title_text=\"PnL\", row=1, col=1)\n",
    "#fig.update_xaxes(title_text=\"Price\", row=1, col=2)\n",
    "#fig.update_yaxes(title_text=\"Delta\", row=1, col=2)\n",
    "#\n",
    "#fig.add_vline(x=current_spot, line_width=1, line_dash=\"dash\", line_color=\"green\")\n",
    "#\n",
    "#fig.show()"
   ]
  },
  {
   "cell_type": "code",
   "execution_count": 11,
   "id": "795643ae",
   "metadata": {},
   "outputs": [],
   "source": [
    "#fig = make_subplots(rows=1, cols=2)\n",
    "#for i in range(0,len(fig_d.data)):\n",
    "#    fig.add_trace(fig_t.data[i], row=1, col=1)\n",
    "#    fig.add_trace(fig_v.data[i], row=1, col=2)\n",
    "#\n",
    "#fig.update_layout(title={'text': 'OTHER Position (Theta and Vega)','x': 0.5,'xanchor': 'center'})\n",
    "#\n",
    "#fig.update_xaxes(title_text=\"Price\", row=1, col=1)\n",
    "#fig.update_yaxes(title_text=\"Theta\", row=1, col=1)\n",
    "#fig.update_xaxes(title_text=\"Price\", row=1, col=2)\n",
    "#fig.update_yaxes(title_text=\"Vega\", row=1, col=2)\n",
    "#fig.show()"
   ]
  },
  {
   "cell_type": "code",
   "execution_count": 12,
   "id": "c201f2c6",
   "metadata": {},
   "outputs": [],
   "source": [
    "## USE THIS STYLE OF GRAPHING FOR TODAY DATE ENTRY ##\n",
    "#position_functions = Position_Reporting(positions, 'OTHER', current_date)\n",
    "#pnl, delta, theta, vega, value = position_functions.combine_frame()\n",
    "#\n",
    "#fig_d = go.Figure()\n",
    "#\n",
    "#fig_d.add_trace(go.Bar(x=delta.Price, y=delta.Spot, name='Spot', base=0))\n",
    "#fig_d.add_trace(go.Bar(x=delta.Price, y=delta.Fwds, name='Fwds', base=0))\n",
    "#fig_d.add_trace(go.Bar(x=delta.Price, y=delta.Options, name='Options', base=0))\n",
    "#fig_d.add_trace(go.Scatter(x=delta.Price, y=delta.Total_Delta, mode='lines', name='Total_Delta'))\n",
    "#\n",
    "#\n",
    "##~~~~~~~~~~~~~~~~~~~~~~~~~~~~~~~~~\n",
    "#fig_p = go.Figure()\n",
    "#\n",
    "#fig_p.add_trace(go.Bar(x=pnl.Price, y=pnl.Spot, name='Spot', base=0))\n",
    "#fig_p.add_trace(go.Bar(x=pnl.Price, y=pnl.Fwds, name='Fwds', base=0))\n",
    "#fig_p.add_trace(go.Bar(x=pnl.Price, y=pnl.Options, name='Options', base=0))\n",
    "#fig_p.add_trace(go.Scatter(x=pnl.Price, y=pnl.Total_Pnl, mode='lines', name='Total_PnL'))\n",
    "#\n",
    "#\n",
    "##~~~~~~~~~~~~~~~~~~~~~~~~~~~~~~~\n",
    "#fig = make_subplots(rows=1, cols=2)\n",
    "#for i in range(0,len(fig_d.data)):\n",
    "#    fig.add_trace(fig_d.data[i], row=1, col=2)\n",
    "#    fig.add_trace(fig_p.data[i], row=1, col=1)\n",
    "#    \n",
    "#fig.update_layout(title={'text': 'Todays OTHER Pos (PnL and Delta)','x': 0.5,'xanchor': 'center'}, barmode='stack')\n",
    "#\n",
    "#fig.update_xaxes(title_text=\"Price\", row=1, col=1)\n",
    "#fig.update_yaxes(title_text=\"Pnl\", row=1, col=1)\n",
    "#fig.update_xaxes(title_text=\"Price\", row=1, col=2)\n",
    "#fig.update_yaxes(title_text=\"Delta\", row=1, col=2)    \n",
    "#fig.show()  "
   ]
  },
  {
   "cell_type": "markdown",
   "id": "d2ae8345",
   "metadata": {},
   "source": [
    "### Positions"
   ]
  },
  {
   "cell_type": "code",
   "execution_count": 13,
   "id": "7cc76593",
   "metadata": {},
   "outputs": [
    {
     "data": {
      "text/html": [
       "<div>\n",
       "<style scoped>\n",
       "    .dataframe tbody tr th:only-of-type {\n",
       "        vertical-align: middle;\n",
       "    }\n",
       "\n",
       "    .dataframe tbody tr th {\n",
       "        vertical-align: top;\n",
       "    }\n",
       "\n",
       "    .dataframe thead th {\n",
       "        text-align: right;\n",
       "    }\n",
       "</style>\n",
       "<table border=\"1\" class=\"dataframe\">\n",
       "  <thead>\n",
       "    <tr style=\"text-align: right;\">\n",
       "      <th></th>\n",
       "      <th>Name</th>\n",
       "      <th>Type</th>\n",
       "      <th>Subtype</th>\n",
       "      <th>Strike</th>\n",
       "      <th>Vol</th>\n",
       "      <th>Expiry</th>\n",
       "      <th>Qty</th>\n",
       "      <th>Price</th>\n",
       "      <th>Rate</th>\n",
       "      <th>FX</th>\n",
       "    </tr>\n",
       "  </thead>\n",
       "  <tbody>\n",
       "    <tr>\n",
       "      <th>0</th>\n",
       "      <td>EUA Dec24</td>\n",
       "      <td>Spot</td>\n",
       "      <td>NaN</td>\n",
       "      <td>NaN</td>\n",
       "      <td>NaN</td>\n",
       "      <td>NaT</td>\n",
       "      <td>0</td>\n",
       "      <td>61.800000</td>\n",
       "      <td>0.037</td>\n",
       "      <td>1.65273</td>\n",
       "    </tr>\n",
       "    <tr>\n",
       "      <th>1</th>\n",
       "      <td>EUA Jun24 40P</td>\n",
       "      <td>Option</td>\n",
       "      <td>Put</td>\n",
       "      <td>40.0</td>\n",
       "      <td>0.581324</td>\n",
       "      <td>2024-06-19</td>\n",
       "      <td>50000</td>\n",
       "      <td>0.312068</td>\n",
       "      <td>0.037</td>\n",
       "      <td>1.65273</td>\n",
       "    </tr>\n",
       "    <tr>\n",
       "      <th>2</th>\n",
       "      <td>EUA Jun24 50P</td>\n",
       "      <td>Option</td>\n",
       "      <td>Put</td>\n",
       "      <td>50.0</td>\n",
       "      <td>0.485942</td>\n",
       "      <td>2024-06-19</td>\n",
       "      <td>-50000</td>\n",
       "      <td>1.224780</td>\n",
       "      <td>0.037</td>\n",
       "      <td>1.65273</td>\n",
       "    </tr>\n",
       "    <tr>\n",
       "      <th>3</th>\n",
       "      <td>EUA Jun24 70C</td>\n",
       "      <td>Option</td>\n",
       "      <td>Call</td>\n",
       "      <td>70.0</td>\n",
       "      <td>0.408138</td>\n",
       "      <td>2024-06-19</td>\n",
       "      <td>-50000</td>\n",
       "      <td>1.682409</td>\n",
       "      <td>0.037</td>\n",
       "      <td>1.65273</td>\n",
       "    </tr>\n",
       "    <tr>\n",
       "      <th>4</th>\n",
       "      <td>EUA Jun24 80C</td>\n",
       "      <td>Option</td>\n",
       "      <td>Call</td>\n",
       "      <td>80.0</td>\n",
       "      <td>0.412703</td>\n",
       "      <td>2024-06-19</td>\n",
       "      <td>50000</td>\n",
       "      <td>0.466796</td>\n",
       "      <td>0.037</td>\n",
       "      <td>1.65273</td>\n",
       "    </tr>\n",
       "  </tbody>\n",
       "</table>\n",
       "</div>"
      ],
      "text/plain": [
       "            Name    Type Subtype  Strike       Vol      Expiry    Qty  \\\n",
       "0      EUA Dec24    Spot     NaN     NaN       NaN         NaT      0   \n",
       "1  EUA Jun24 40P  Option     Put    40.0  0.581324  2024-06-19  50000   \n",
       "2  EUA Jun24 50P  Option     Put    50.0  0.485942  2024-06-19 -50000   \n",
       "3  EUA Jun24 70C  Option    Call    70.0  0.408138  2024-06-19 -50000   \n",
       "4  EUA Jun24 80C  Option    Call    80.0  0.412703  2024-06-19  50000   \n",
       "\n",
       "       Price   Rate       FX  \n",
       "0  61.800000  0.037  1.65273  \n",
       "1   0.312068  0.037  1.65273  \n",
       "2   1.224780  0.037  1.65273  \n",
       "3   1.682409  0.037  1.65273  \n",
       "4   0.466796  0.037  1.65273  "
      ]
     },
     "execution_count": 13,
     "metadata": {},
     "output_type": "execute_result"
    }
   ],
   "source": [
    "positions['OTHER']"
   ]
  },
  {
   "cell_type": "code",
   "execution_count": 14,
   "id": "e2a919b9",
   "metadata": {},
   "outputs": [],
   "source": [
    "# Options for timing are: [current_date, end_of_month, one_month, three_months, six_months, end_of_year, end_of_feb, march_expiry]\n",
    "\n",
    "def pnl_delta_plot(timing):\n",
    "    position_functions = Position_Reporting(positions, 'OTHER', timing)\n",
    "    p,d,t,v, value = position_functions.options()\n",
    "    fig_p = go.Figure()\n",
    "    for i in list(p)[1:-1]:\n",
    "        fig_p.add_trace(go.Scatter(x=p.Price, y=p[i], name=i))\n",
    "\n",
    "    fig_p.add_trace(go.Scatter(x=p.Price, y=p.Option_Pnl, mode='lines', name='Total_PnL'))\n",
    "\n",
    "    #fig_p.update_layout(title='Option PnL Today', xaxis_title='Price', yaxis_title='pnl', barmode='stack')\n",
    "    #fig_p.show()\n",
    "\n",
    "    #~~~~~~~~~~~~~~~~~~~~~~~~~~~~~~~~~~~~~~~~~~~~~~~~~~~~~~~~~~~~~~~~~~~~~~~~~~~~~~~~~\n",
    "    fig_d = go.Figure()\n",
    "    for i in list(d)[1:-1]:\n",
    "        fig_d.add_trace(go.Scatter(x=d.Price, y=d[i], name=i))\n",
    "\n",
    "    fig_d.add_trace(go.Scatter(x=d.Price, y=d.Option_Delta, mode='lines', name='Total_Delta'))\n",
    "\n",
    "    #~~~~~~~~~~~~~~~~~~~~~~~~~~~~~~~~~~~~~~~~~~~~~~~~~~~~~~~~~~~~~~~~~~~~~~~~~~~~~~~~\n",
    "    fig = make_subplots(rows=1, cols=2)\n",
    "    for i in range(0,len(fig_p.data)):\n",
    "        fig.add_trace(fig_p.data[i], row=1, col=1)\n",
    "        fig.add_trace(fig_d.data[i], row=1, col=2)\n",
    "\n",
    "    fig.update_layout(title={'text': 'Todays Option Pos (PnL and Delta)','x': 0.5,'xanchor': 'center'}, barmode='stack')\n",
    "\n",
    "    fig.update_xaxes(title_text=\"Price\", row=1, col=1)\n",
    "    fig.update_yaxes(title_text=\"Pnl\", row=1, col=1)\n",
    "    fig.update_xaxes(title_text=\"Price\", row=1, col=2)\n",
    "    fig.update_yaxes(title_text=\"Delta\", row=1, col=2)    \n",
    "    fig.show()  "
   ]
  },
  {
   "cell_type": "markdown",
   "id": "614a4b0f",
   "metadata": {},
   "source": [
    "## Current Date"
   ]
  },
  {
   "cell_type": "code",
   "execution_count": 15,
   "id": "8fab91a0",
   "metadata": {},
   "outputs": [
    {
     "data": {
      "application/vnd.plotly.v1+json": {
       "config": {
        "plotlyServerURL": "https://plot.ly"
       },
       "data": [
        {
         "name": "EUA Jun24 40P",
         "type": "scatter",
         "x": [
          50,
          51,
          52,
          53,
          54,
          55,
          56,
          57,
          58,
          59,
          60,
          61,
          62,
          63,
          64,
          65,
          66,
          67,
          68,
          69,
          70,
          71,
          72,
          73,
          74,
          75,
          76,
          77,
          78,
          79,
          80,
          81,
          82,
          83,
          84,
          85,
          86,
          87,
          88,
          89,
          90,
          91,
          92,
          93,
          94,
          95,
          96,
          97,
          98,
          99,
          100
         ],
         "xaxis": "x",
         "y": [
          85745.41963169558,
          72775.63285347307,
          61197.83333259389,
          50883.30517626057,
          41711.541467861796,
          33570.42162936377,
          26356.214671694564,
          19973.442334636362,
          14334.632661676911,
          9359.990892254411,
          4977.010883189059,
          1120.0467360069758,
          -2270.1389953820826,
          -5246.837151891075,
          -7857.853192555334,
          -10145.959468290015,
          -12149.332247206352,
          -13901.968910230251,
          -15434.082168403442,
          -16772.46932898795,
          -17940.855585668454,
          -18960.211058469544,
          -19849.041889466374,
          -20623.65613744858,
          -21298.405532135752,
          -21885.90436780445,
          -22397.226955794762,
          -22842.085131636384,
          -23228.987339137184,
          -23565.380802358188,
          -23857.778256601385,
          -24111.87064925371,
          -24332.627147024457,
          -24524.38370288387,
          -24690.921347925854,
          -24835.53528354589,
          -24961.095760155524,
          -25070.10164185419,
          -25164.727473326173,
          -25246.864786573366,
          -25318.158311422987,
          -25380.037685385658,
          -25433.74519544977,
          -25480.360026714236,
          -25520.819440260166,
          -25555.937255079734,
          -25586.419965967485,
          -25612.88079068926,
          -25635.851905201424,
          -25655.795094840603,
          -25673.111021924942
         ],
         "yaxis": "y"
        },
        {
         "name": "EUA Jun24 40P",
         "type": "scatter",
         "x": [
          50,
          51,
          52,
          53,
          54,
          55,
          56,
          57,
          58,
          59,
          60,
          61,
          62,
          63,
          64,
          65,
          66,
          67,
          68,
          69,
          70,
          71,
          72,
          73,
          74,
          75,
          76,
          77,
          78,
          79,
          80,
          81,
          82,
          83,
          84,
          85,
          86,
          87,
          88,
          89,
          90,
          91,
          92,
          93,
          94,
          95,
          96,
          97,
          98,
          99,
          100
         ],
         "xaxis": "x2",
         "y": [
          -8360.429899456667,
          -7470.7696902083235,
          -6662.033045285698,
          -5929.309358839535,
          -5267.519402255627,
          -4671.532500191655,
          -4136.26199979461,
          -3656.7410272898783,
          -3228.180725837293,
          -2846.0132278121496,
          -2505.9215704713256,
          -2203.858647423007,
          -1936.0571247987623,
          -1699.0320605755005,
          -1489.5777634486517,
          -1304.760225330276,
          -1141.9062669114298,
          -998.5903540749686,
          -872.6198774512861,
          -762.0195396504826,
          -665.0153650724467,
          -580.01873524825,
          -505.6107573973345,
          -440.52719394530595,
          -383.64411460078964,
          -333.9643786377078,
          -290.60501168950424,
          -252.78550713012103,
          -219.81705559978028,
          -191.09268617014675,
          -166.07828791251333,
          -144.30447025187698,
          -125.35921361194191,
          -108.8812577582754,
          -94.55417331997174,
          -82.1010617062301,
          -71.27982961541713,
          -61.878986218222295,
          -53.713913610103916,
          -46.62356405094603,
          -40.46754067192904,
          -35.1235215972967,
          -30.484990702434047,
          -26.45924143520606,
          -22.965623211718132,
          -19.934002824500972,
          -17.30341604731511,
          -15.020887173822217,
          -13.040396582086888,
          -11.321978574219127,
          -9.830933705368139
         ],
         "yaxis": "y2"
        },
        {
         "name": "EUA Jun24 50P",
         "type": "scatter",
         "x": [
          50,
          51,
          52,
          53,
          54,
          55,
          56,
          57,
          58,
          59,
          60,
          61,
          62,
          63,
          64,
          65,
          66,
          67,
          68,
          69,
          70,
          71,
          72,
          73,
          74,
          75,
          76,
          77,
          78,
          79,
          80,
          81,
          82,
          83,
          84,
          85,
          86,
          87,
          88,
          89,
          90,
          91,
          92,
          93,
          94,
          95,
          96,
          97,
          98,
          99,
          100
         ],
         "xaxis": "x",
         "y": [
          -265121.15555482864,
          -229241.34060791216,
          -196158.39610979584,
          -165761.42109502884,
          -137927.23604881135,
          -112523.4163313633,
          -89411.14493148995,
          -68447.82954113251,
          -49489.447155351336,
          -32392.59551400704,
          -17016.24439005892,
          -3223.1908868110554,
          9118.768411252071,
          20135.929209560283,
          29948.01164668358,
          38667.706700363735,
          46400.40965087995,
          53244.113467630865,
          59289.4359481799,
          64619.75604798488,
          69311.43688127326,
          73434.11517135234,
          77051.0393389409,
          80219.4408282396,
          82990.92559901075,
          85411.8749000845,
          87523.84644663693,
          89363.96892851016,
          90965.32437052017,
          92357.31424910299,
          93566.00645083646,
          94614.46115025868,
          95523.03450321555,
          96309.65971533835,
          96990.10557170662,
          97578.21292115355,
          98086.10991448331,
          98524.40701595266,
          98902.37295639377,
          99228.09288731494,
          99508.61003967149,
          99750.05219861449,
          99957.74428495945,
          100136.30829238497,
          100289.75177250194,
          100421.54599272649,
          100534.69481828598,
          100631.79529281412,
          100715.09081426707,
          100786.51772617966,
          100847.74606993806
         ],
         "yaxis": "y"
        },
        {
         "name": "EUA Jun24 50P",
         "type": "scatter",
         "x": [
          50,
          51,
          52,
          53,
          54,
          55,
          56,
          57,
          58,
          59,
          60,
          61,
          62,
          63,
          64,
          65,
          66,
          67,
          68,
          69,
          70,
          71,
          72,
          73,
          74,
          75,
          76,
          77,
          78,
          79,
          80,
          81,
          82,
          83,
          84,
          85,
          86,
          87,
          88,
          89,
          90,
          91,
          92,
          93,
          94,
          95,
          96,
          97,
          98,
          99,
          100
         ],
         "xaxis": "x2",
         "y": [
          22751.652300937985,
          21015.349690580886,
          19342.292783979443,
          17740.91954438002,
          16217.777301001146,
          14777.61218969994,
          13423.498035698056,
          12156.993036607466,
          10978.31373541957,
          9886.517176832354,
          8879.683670023469,
          7955.09412150891,
          7109.397367977116,
          6338.76427311949,
          5639.026519864354,
          5005.799014194045,
          4434.585617363585,
          3920.868548628542,
          3460.1822661399606,
          3048.1729590330465,
          2680.6449901948135,
          2353.5957380599657,
          2063.2403172518298,
          1806.0276302967081,
          1578.6491320643247,
          1378.0415886659014,
          1201.3849945108568,
          1046.0966840602382,
          909.8225454595432,
          790.4261168460436,
          685.9762263633329,
          594.7337261922092,
          515.137770645313,
          445.7919992199466,
          385.4509075255252,
          333.00662184322925,
          287.47623609174934,
          247.98982233706357,
          213.77918677042973,
          184.16741132348258,
          158.55919583839807,
          136.4319960529048,
          117.32793774377748,
          100.84647642474297,
          86.63776432196735,
          74.39668134222033,
          63.85748387548462,
          54.7890240805482,
          46.990492405146746,
          40.28763716966699,
          34.529416830392236
         ],
         "yaxis": "y2"
        },
        {
         "name": "EUA Jun24 70C",
         "type": "scatter",
         "x": [
          50,
          51,
          52,
          53,
          54,
          55,
          56,
          57,
          58,
          59,
          60,
          61,
          62,
          63,
          64,
          65,
          66,
          67,
          68,
          69,
          70,
          71,
          72,
          73,
          74,
          75,
          76,
          77,
          78,
          79,
          80,
          81,
          82,
          83,
          84,
          85,
          86,
          87,
          88,
          89,
          90,
          91,
          92,
          93,
          94,
          95,
          96,
          97,
          98,
          99,
          100
         ],
         "xaxis": "x",
         "y": [
          125426.86529819158,
          121241.89296345461,
          116085.66692678833,
          109814.47143481477,
          102279.7127696365,
          93330.38170488806,
          82815.67237592771,
          70587.6621813599,
          56503.95734907769,
          40430.21388617619,
          22242.45303253989,
          1829.103087143412,
          -20907.285498431072,
          -46048.68864676497,
          -73660.64129438518,
          -103791.65895253183,
          -136473.03874070058,
          -171719.0181473039,
          -209527.2597726864,
          -249879.62276924914,
          -292743.17661472113,
          -338071.41011109797,
          -385805.5878687928,
          -435876.20772091975,
          -488204.51518555393,
          -542704.0349106618,
          -599282.0836607555,
          -657841.2345233847,
          -718280.7073495892,
          -780497.6657588072,
          -844388.4061438243,
          -909849.428858408,
          -976778.3860545483,
          -1045074.904391873,
          -1114641.2840360682,
          -1185383.0779912244,
          -1257209.5578904413,
          -1330034.0739338305,
          -1403774.3177593935,
          -1478352.497713421,
          -1553695.4363102878,
          -1629734.5996945673,
          -1706406.068697414,
          -1783650.4606669236,
          -1861412.81069678,
          -1939642.4202216482,
          -2018292.68022866,
          -2097320.8755831784,
          -2176687.976209692,
          -2256358.4201257485,
          -2336299.8926140745
         ],
         "yaxis": "y"
        },
        {
         "name": "EUA Jun24 70C",
         "type": "scatter",
         "x": [
          50,
          51,
          52,
          53,
          54,
          55,
          56,
          57,
          58,
          59,
          60,
          61,
          62,
          63,
          64,
          65,
          66,
          67,
          68,
          69,
          70,
          71,
          72,
          73,
          74,
          75,
          76,
          77,
          78,
          79,
          80,
          81,
          82,
          83,
          84,
          85,
          86,
          87,
          88,
          89,
          90,
          91,
          92,
          93,
          94,
          95,
          96,
          97,
          98,
          99,
          100
         ],
         "xaxis": "x2",
         "y": [
          -2283.961689965526,
          -2833.7297735269212,
          -3469.179458762331,
          -4193.990204914621,
          -5010.406335361081,
          -5919.113410558613,
          -6919.171658307757,
          -8008.008106395964,
          -9181.465799084945,
          -10433.905591038658,
          -11758.353659908364,
          -13146.686158042392,
          -14589.841369447293,
          -16078.049331073924,
          -17601.06905559558,
          -19148.42416338964,
          -20709.628783760607,
          -22274.39690240595,
          -23832.829799741612,
          -25375.577739530665,
          -26893.973541396044,
          -28380.137034662122,
          -29827.050594134445,
          -31228.606968920554,
          -32579.63141788697,
          -33875.88075860667,
          -35114.022330661384,
          -36291.5960871603,
          -37406.963084017094,
          -38459.24356155804,
          -39448.24763496451,
          -40374.40135566068,
          -41238.67059983603,
          -42042.48490482364,
          -42787.663027749215,
          -43476.34165897758,
          -44110.90839726482,
          -44693.93979283286,
          -45228.14499461792,
          -45716.31530202834,
          -46161.279720950886,
          -46565.866458102515,
          -46932.87015552586,
          -47265.024565570704,
          -47564.9802930109,
          -47835.287181613545,
          -48078.38089399318,
          -48296.57322248476,
          -48492.04567176819,
          -48666.84586804039,
          -48822.886371933724
         ],
         "yaxis": "y2"
        },
        {
         "name": "EUA Jun24 80C",
         "type": "scatter",
         "x": [
          50,
          51,
          52,
          53,
          54,
          55,
          56,
          57,
          58,
          59,
          60,
          61,
          62,
          63,
          64,
          65,
          66,
          67,
          68,
          69,
          70,
          71,
          72,
          73,
          74,
          75,
          76,
          77,
          78,
          79,
          80,
          81,
          82,
          83,
          84,
          85,
          86,
          87,
          88,
          89,
          90,
          91,
          92,
          93,
          94,
          95,
          96,
          97,
          98,
          99,
          100
         ],
         "xaxis": "x",
         "y": [
          -36359.20549662184,
          -35512.55344321556,
          -34405.85564257558,
          -32979.82757073267,
          -31167.094820550312,
          -28892.222459039516,
          -26071.960014764463,
          -22615.70893516026,
          -18426.2101345216,
          -13400.440114569828,
          -7430.695607446223,
          -405.83922322629985,
          7787.327458162729,
          17262.601279268507,
          28132.865875840696,
          40508.57226874203,
          54496.25194129968,
          70197.10013679763,
          87705.66327176332,
          107108.65949659601,
          128483.95585136244,
          151899.71946784089,
          177413.75414945654,
          205073.0276796668,
          234913.38958866365,
          266959.4740253041,
          301224.77796639927,
          337711.9013330014,
          376412.93271427776,
          417309.96232665965,
          460375.7025295742,
          505574.1956239997,
          552861.5887016228,
          602186.9559034928,
          653493.1494933184,
          706717.6625560501,
          761793.4878031703,
          818649.9588142652,
          877213.5619896157,
          937408.7094606842,
          999158.4651445523,
          1062385.21798577,
          1127011.2981666713,
          1192959.5336569431,
          1260153.7458962132,
          1328519.1846492367,
          1397982.9031382059,
          1468474.075443014,
          1539924.2588751065,
          1612267.6045840713,
          1685441.0200617725
         ],
         "yaxis": "y"
        },
        {
         "name": "EUA Jun24 80C",
         "type": "scatter",
         "x": [
          50,
          51,
          52,
          53,
          54,
          55,
          56,
          57,
          58,
          59,
          60,
          61,
          62,
          63,
          64,
          65,
          66,
          67,
          68,
          69,
          70,
          71,
          72,
          73,
          74,
          75,
          76,
          77,
          78,
          79,
          80,
          81,
          82,
          83,
          84,
          85,
          86,
          87,
          88,
          89,
          90,
          91,
          92,
          93,
          94,
          95,
          96,
          97,
          98,
          99,
          100
         ],
         "xaxis": "x2",
         "y": [
          447.81682869540884,
          589.9352168621803,
          765.7625192589768,
          980.198997118493,
          1238.1900046589901,
          1544.5984064592028,
          1904.0700820815503,
          2320.8980507069514,
          2798.8908688717283,
          3341.250739620201,
          3950.466253269322,
          4628.223910004098,
          5375.341617609042,
          6191.726285552812,
          7076.356521709262,
          8027.290347704747,
          9041.696841654855,
          10115.909739396997,
          11245.500310316198,
          12425.3662908798,
          13649.833314496507,
          14912.765115361737,
          16207.678792293029,
          17527.86157494256,
          18866.48581332478,
          20216.719284046736,
          21571.828344302387,
          22925.271940133705,
          24270.78496370105,
          25602.449933721633,
          26914.756426076397,
          28202.64809416702,
          29461.557481243704,
          30687.4291336799,
          31876.731772429168,
          33026.46046988869,
          34134.12991362721,
          35197.759921185054,
          36215.85440691555,
          37187.37499888024,
          38111.71046775024,
          38988.64306713717,
          39818.31280215779,
          40601.18054624919,
          41337.99082061912,
          42029.734940881346,
          42677.6151253125,
          43283.01005197247,
          43847.442250166954,
          44372.54761725958,
          44860.04726595161
         ],
         "yaxis": "y2"
        },
        {
         "mode": "lines",
         "name": "Total_PnL",
         "type": "scatter",
         "x": [
          50,
          51,
          52,
          53,
          54,
          55,
          56,
          57,
          58,
          59,
          60,
          61,
          62,
          63,
          64,
          65,
          66,
          67,
          68,
          69,
          70,
          71,
          72,
          73,
          74,
          75,
          76,
          77,
          78,
          79,
          80,
          81,
          82,
          83,
          84,
          85,
          86,
          87,
          88,
          89,
          90,
          91,
          92,
          93,
          94,
          95,
          96,
          97,
          98,
          99,
          100
         ],
         "xaxis": "x",
         "y": [
          -90308.07612156332,
          -70736.36823420005,
          -53280.75149298919,
          -38043.47205468618,
          -25103.076631863358,
          -14514.835456150988,
          -6311.217898632141,
          -502.433960296501,
          2922.9327208816685,
          3997.169149853733,
          2772.523918223804,
          -679.8802868869676,
          -6271.328624398354,
          -13896.995309827253,
          -23437.616964416236,
          -34761.33945171607,
          -47725.7093957273,
          -62179.77345310566,
          -77966.24272114663,
          -94923.67655365619,
          -112888.63946775388,
          -131697.7865303743,
          -151189.83626986176,
          -171207.3953504619,
          -191598.6055300153,
          -212218.59035307763,
          -232930.68620351405,
          -253607.4493935096,
          -274131.4376039285,
          -294395.76998540276,
          -314304.475420015,
          -333772.64273340337,
          -352726.38999673445,
          -371102.67247592576,
          -388848.9503189691,
          -405922.7377975667,
          -422291.0559329431,
          -437929.8097454668,
          -452823.1102867103,
          -466962.5601519953,
          -480346.519437487,
          -492979.3671955685,
          -504870.7714412329,
          -516034.9787443096,
          -526490.1324683251,
          -536257.6268347646,
          -545361.5022381358,
          -553827.8856380396,
          -561684.47842552,
          -568960.0929103382,
          -575684.2375042888
         ],
         "yaxis": "y"
        },
        {
         "mode": "lines",
         "name": "Total_Delta",
         "type": "scatter",
         "x": [
          50,
          51,
          52,
          53,
          54,
          55,
          56,
          57,
          58,
          59,
          60,
          61,
          62,
          63,
          64,
          65,
          66,
          67,
          68,
          69,
          70,
          71,
          72,
          73,
          74,
          75,
          76,
          77,
          78,
          79,
          80,
          81,
          82,
          83,
          84,
          85,
          86,
          87,
          88,
          89,
          90,
          91,
          92,
          93,
          94,
          95,
          96,
          97,
          98,
          99,
          100
         ],
         "xaxis": "x2",
         "y": [
          12555.077540211201,
          11300.785443707824,
          9976.842799190392,
          8597.818977744357,
          7178.041568043429,
          5731.564685408874,
          4272.13445967724,
          2813.1419536285753,
          1367.5580793690606,
          -52.150902398251674,
          -1434.1253070868988,
          -2767.2267739523913,
          -4041.1595086598963,
          -5246.590832977122,
          -6375.263777470616,
          -7420.0950268211245,
          -8375.252591653596,
          -9236.208968455383,
          -9999.767100736739,
          -10664.0580292683,
          -11228.510601777169,
          -11693.79491648867,
          -12061.74224198692,
          -12335.244957626594,
          -12518.140587098653,
          -12615.084264531743,
          -12631.414003537644,
          -12573.012970096479,
          -12446.172630456276,
          -12257.460197160508,
          -12013.59327043729,
          -11721.324005553328,
          -11387.33456155895,
          -11018.14502968207,
          -10620.034521114492,
          -10198.975628951892,
          -9760.582077161285,
          -9310.06903552897,
          -8852.225314542047,
          -8391.396455875569,
          -7931.477598034173,
          -7475.914916509733,
          -7027.714406326726,
          -6589.456784331975,
          -6163.317331281534,
          -5751.089562214482,
          -5354.211700852509,
          -4973.795033605558,
          -4610.6533257781775,
          -4265.332592185361,
          -3938.1406228570922
         ],
         "yaxis": "y2"
        }
       ],
       "layout": {
        "barmode": "stack",
        "template": {
         "data": {
          "bar": [
           {
            "error_x": {
             "color": "#2a3f5f"
            },
            "error_y": {
             "color": "#2a3f5f"
            },
            "marker": {
             "line": {
              "color": "#E5ECF6",
              "width": 0.5
             },
             "pattern": {
              "fillmode": "overlay",
              "size": 10,
              "solidity": 0.2
             }
            },
            "type": "bar"
           }
          ],
          "barpolar": [
           {
            "marker": {
             "line": {
              "color": "#E5ECF6",
              "width": 0.5
             },
             "pattern": {
              "fillmode": "overlay",
              "size": 10,
              "solidity": 0.2
             }
            },
            "type": "barpolar"
           }
          ],
          "carpet": [
           {
            "aaxis": {
             "endlinecolor": "#2a3f5f",
             "gridcolor": "white",
             "linecolor": "white",
             "minorgridcolor": "white",
             "startlinecolor": "#2a3f5f"
            },
            "baxis": {
             "endlinecolor": "#2a3f5f",
             "gridcolor": "white",
             "linecolor": "white",
             "minorgridcolor": "white",
             "startlinecolor": "#2a3f5f"
            },
            "type": "carpet"
           }
          ],
          "choropleth": [
           {
            "colorbar": {
             "outlinewidth": 0,
             "ticks": ""
            },
            "type": "choropleth"
           }
          ],
          "contour": [
           {
            "colorbar": {
             "outlinewidth": 0,
             "ticks": ""
            },
            "colorscale": [
             [
              0,
              "#0d0887"
             ],
             [
              0.1111111111111111,
              "#46039f"
             ],
             [
              0.2222222222222222,
              "#7201a8"
             ],
             [
              0.3333333333333333,
              "#9c179e"
             ],
             [
              0.4444444444444444,
              "#bd3786"
             ],
             [
              0.5555555555555556,
              "#d8576b"
             ],
             [
              0.6666666666666666,
              "#ed7953"
             ],
             [
              0.7777777777777778,
              "#fb9f3a"
             ],
             [
              0.8888888888888888,
              "#fdca26"
             ],
             [
              1,
              "#f0f921"
             ]
            ],
            "type": "contour"
           }
          ],
          "contourcarpet": [
           {
            "colorbar": {
             "outlinewidth": 0,
             "ticks": ""
            },
            "type": "contourcarpet"
           }
          ],
          "heatmap": [
           {
            "colorbar": {
             "outlinewidth": 0,
             "ticks": ""
            },
            "colorscale": [
             [
              0,
              "#0d0887"
             ],
             [
              0.1111111111111111,
              "#46039f"
             ],
             [
              0.2222222222222222,
              "#7201a8"
             ],
             [
              0.3333333333333333,
              "#9c179e"
             ],
             [
              0.4444444444444444,
              "#bd3786"
             ],
             [
              0.5555555555555556,
              "#d8576b"
             ],
             [
              0.6666666666666666,
              "#ed7953"
             ],
             [
              0.7777777777777778,
              "#fb9f3a"
             ],
             [
              0.8888888888888888,
              "#fdca26"
             ],
             [
              1,
              "#f0f921"
             ]
            ],
            "type": "heatmap"
           }
          ],
          "heatmapgl": [
           {
            "colorbar": {
             "outlinewidth": 0,
             "ticks": ""
            },
            "colorscale": [
             [
              0,
              "#0d0887"
             ],
             [
              0.1111111111111111,
              "#46039f"
             ],
             [
              0.2222222222222222,
              "#7201a8"
             ],
             [
              0.3333333333333333,
              "#9c179e"
             ],
             [
              0.4444444444444444,
              "#bd3786"
             ],
             [
              0.5555555555555556,
              "#d8576b"
             ],
             [
              0.6666666666666666,
              "#ed7953"
             ],
             [
              0.7777777777777778,
              "#fb9f3a"
             ],
             [
              0.8888888888888888,
              "#fdca26"
             ],
             [
              1,
              "#f0f921"
             ]
            ],
            "type": "heatmapgl"
           }
          ],
          "histogram": [
           {
            "marker": {
             "pattern": {
              "fillmode": "overlay",
              "size": 10,
              "solidity": 0.2
             }
            },
            "type": "histogram"
           }
          ],
          "histogram2d": [
           {
            "colorbar": {
             "outlinewidth": 0,
             "ticks": ""
            },
            "colorscale": [
             [
              0,
              "#0d0887"
             ],
             [
              0.1111111111111111,
              "#46039f"
             ],
             [
              0.2222222222222222,
              "#7201a8"
             ],
             [
              0.3333333333333333,
              "#9c179e"
             ],
             [
              0.4444444444444444,
              "#bd3786"
             ],
             [
              0.5555555555555556,
              "#d8576b"
             ],
             [
              0.6666666666666666,
              "#ed7953"
             ],
             [
              0.7777777777777778,
              "#fb9f3a"
             ],
             [
              0.8888888888888888,
              "#fdca26"
             ],
             [
              1,
              "#f0f921"
             ]
            ],
            "type": "histogram2d"
           }
          ],
          "histogram2dcontour": [
           {
            "colorbar": {
             "outlinewidth": 0,
             "ticks": ""
            },
            "colorscale": [
             [
              0,
              "#0d0887"
             ],
             [
              0.1111111111111111,
              "#46039f"
             ],
             [
              0.2222222222222222,
              "#7201a8"
             ],
             [
              0.3333333333333333,
              "#9c179e"
             ],
             [
              0.4444444444444444,
              "#bd3786"
             ],
             [
              0.5555555555555556,
              "#d8576b"
             ],
             [
              0.6666666666666666,
              "#ed7953"
             ],
             [
              0.7777777777777778,
              "#fb9f3a"
             ],
             [
              0.8888888888888888,
              "#fdca26"
             ],
             [
              1,
              "#f0f921"
             ]
            ],
            "type": "histogram2dcontour"
           }
          ],
          "mesh3d": [
           {
            "colorbar": {
             "outlinewidth": 0,
             "ticks": ""
            },
            "type": "mesh3d"
           }
          ],
          "parcoords": [
           {
            "line": {
             "colorbar": {
              "outlinewidth": 0,
              "ticks": ""
             }
            },
            "type": "parcoords"
           }
          ],
          "pie": [
           {
            "automargin": true,
            "type": "pie"
           }
          ],
          "scatter": [
           {
            "fillpattern": {
             "fillmode": "overlay",
             "size": 10,
             "solidity": 0.2
            },
            "type": "scatter"
           }
          ],
          "scatter3d": [
           {
            "line": {
             "colorbar": {
              "outlinewidth": 0,
              "ticks": ""
             }
            },
            "marker": {
             "colorbar": {
              "outlinewidth": 0,
              "ticks": ""
             }
            },
            "type": "scatter3d"
           }
          ],
          "scattercarpet": [
           {
            "marker": {
             "colorbar": {
              "outlinewidth": 0,
              "ticks": ""
             }
            },
            "type": "scattercarpet"
           }
          ],
          "scattergeo": [
           {
            "marker": {
             "colorbar": {
              "outlinewidth": 0,
              "ticks": ""
             }
            },
            "type": "scattergeo"
           }
          ],
          "scattergl": [
           {
            "marker": {
             "colorbar": {
              "outlinewidth": 0,
              "ticks": ""
             }
            },
            "type": "scattergl"
           }
          ],
          "scattermapbox": [
           {
            "marker": {
             "colorbar": {
              "outlinewidth": 0,
              "ticks": ""
             }
            },
            "type": "scattermapbox"
           }
          ],
          "scatterpolar": [
           {
            "marker": {
             "colorbar": {
              "outlinewidth": 0,
              "ticks": ""
             }
            },
            "type": "scatterpolar"
           }
          ],
          "scatterpolargl": [
           {
            "marker": {
             "colorbar": {
              "outlinewidth": 0,
              "ticks": ""
             }
            },
            "type": "scatterpolargl"
           }
          ],
          "scatterternary": [
           {
            "marker": {
             "colorbar": {
              "outlinewidth": 0,
              "ticks": ""
             }
            },
            "type": "scatterternary"
           }
          ],
          "surface": [
           {
            "colorbar": {
             "outlinewidth": 0,
             "ticks": ""
            },
            "colorscale": [
             [
              0,
              "#0d0887"
             ],
             [
              0.1111111111111111,
              "#46039f"
             ],
             [
              0.2222222222222222,
              "#7201a8"
             ],
             [
              0.3333333333333333,
              "#9c179e"
             ],
             [
              0.4444444444444444,
              "#bd3786"
             ],
             [
              0.5555555555555556,
              "#d8576b"
             ],
             [
              0.6666666666666666,
              "#ed7953"
             ],
             [
              0.7777777777777778,
              "#fb9f3a"
             ],
             [
              0.8888888888888888,
              "#fdca26"
             ],
             [
              1,
              "#f0f921"
             ]
            ],
            "type": "surface"
           }
          ],
          "table": [
           {
            "cells": {
             "fill": {
              "color": "#EBF0F8"
             },
             "line": {
              "color": "white"
             }
            },
            "header": {
             "fill": {
              "color": "#C8D4E3"
             },
             "line": {
              "color": "white"
             }
            },
            "type": "table"
           }
          ]
         },
         "layout": {
          "annotationdefaults": {
           "arrowcolor": "#2a3f5f",
           "arrowhead": 0,
           "arrowwidth": 1
          },
          "autotypenumbers": "strict",
          "coloraxis": {
           "colorbar": {
            "outlinewidth": 0,
            "ticks": ""
           }
          },
          "colorscale": {
           "diverging": [
            [
             0,
             "#8e0152"
            ],
            [
             0.1,
             "#c51b7d"
            ],
            [
             0.2,
             "#de77ae"
            ],
            [
             0.3,
             "#f1b6da"
            ],
            [
             0.4,
             "#fde0ef"
            ],
            [
             0.5,
             "#f7f7f7"
            ],
            [
             0.6,
             "#e6f5d0"
            ],
            [
             0.7,
             "#b8e186"
            ],
            [
             0.8,
             "#7fbc41"
            ],
            [
             0.9,
             "#4d9221"
            ],
            [
             1,
             "#276419"
            ]
           ],
           "sequential": [
            [
             0,
             "#0d0887"
            ],
            [
             0.1111111111111111,
             "#46039f"
            ],
            [
             0.2222222222222222,
             "#7201a8"
            ],
            [
             0.3333333333333333,
             "#9c179e"
            ],
            [
             0.4444444444444444,
             "#bd3786"
            ],
            [
             0.5555555555555556,
             "#d8576b"
            ],
            [
             0.6666666666666666,
             "#ed7953"
            ],
            [
             0.7777777777777778,
             "#fb9f3a"
            ],
            [
             0.8888888888888888,
             "#fdca26"
            ],
            [
             1,
             "#f0f921"
            ]
           ],
           "sequentialminus": [
            [
             0,
             "#0d0887"
            ],
            [
             0.1111111111111111,
             "#46039f"
            ],
            [
             0.2222222222222222,
             "#7201a8"
            ],
            [
             0.3333333333333333,
             "#9c179e"
            ],
            [
             0.4444444444444444,
             "#bd3786"
            ],
            [
             0.5555555555555556,
             "#d8576b"
            ],
            [
             0.6666666666666666,
             "#ed7953"
            ],
            [
             0.7777777777777778,
             "#fb9f3a"
            ],
            [
             0.8888888888888888,
             "#fdca26"
            ],
            [
             1,
             "#f0f921"
            ]
           ]
          },
          "colorway": [
           "#636efa",
           "#EF553B",
           "#00cc96",
           "#ab63fa",
           "#FFA15A",
           "#19d3f3",
           "#FF6692",
           "#B6E880",
           "#FF97FF",
           "#FECB52"
          ],
          "font": {
           "color": "#2a3f5f"
          },
          "geo": {
           "bgcolor": "white",
           "lakecolor": "white",
           "landcolor": "#E5ECF6",
           "showlakes": true,
           "showland": true,
           "subunitcolor": "white"
          },
          "hoverlabel": {
           "align": "left"
          },
          "hovermode": "closest",
          "mapbox": {
           "style": "light"
          },
          "paper_bgcolor": "white",
          "plot_bgcolor": "#E5ECF6",
          "polar": {
           "angularaxis": {
            "gridcolor": "white",
            "linecolor": "white",
            "ticks": ""
           },
           "bgcolor": "#E5ECF6",
           "radialaxis": {
            "gridcolor": "white",
            "linecolor": "white",
            "ticks": ""
           }
          },
          "scene": {
           "xaxis": {
            "backgroundcolor": "#E5ECF6",
            "gridcolor": "white",
            "gridwidth": 2,
            "linecolor": "white",
            "showbackground": true,
            "ticks": "",
            "zerolinecolor": "white"
           },
           "yaxis": {
            "backgroundcolor": "#E5ECF6",
            "gridcolor": "white",
            "gridwidth": 2,
            "linecolor": "white",
            "showbackground": true,
            "ticks": "",
            "zerolinecolor": "white"
           },
           "zaxis": {
            "backgroundcolor": "#E5ECF6",
            "gridcolor": "white",
            "gridwidth": 2,
            "linecolor": "white",
            "showbackground": true,
            "ticks": "",
            "zerolinecolor": "white"
           }
          },
          "shapedefaults": {
           "line": {
            "color": "#2a3f5f"
           }
          },
          "ternary": {
           "aaxis": {
            "gridcolor": "white",
            "linecolor": "white",
            "ticks": ""
           },
           "baxis": {
            "gridcolor": "white",
            "linecolor": "white",
            "ticks": ""
           },
           "bgcolor": "#E5ECF6",
           "caxis": {
            "gridcolor": "white",
            "linecolor": "white",
            "ticks": ""
           }
          },
          "title": {
           "x": 0.05
          },
          "xaxis": {
           "automargin": true,
           "gridcolor": "white",
           "linecolor": "white",
           "ticks": "",
           "title": {
            "standoff": 15
           },
           "zerolinecolor": "white",
           "zerolinewidth": 2
          },
          "yaxis": {
           "automargin": true,
           "gridcolor": "white",
           "linecolor": "white",
           "ticks": "",
           "title": {
            "standoff": 15
           },
           "zerolinecolor": "white",
           "zerolinewidth": 2
          }
         }
        },
        "title": {
         "text": "Todays Option Pos (PnL and Delta)",
         "x": 0.5,
         "xanchor": "center"
        },
        "xaxis": {
         "anchor": "y",
         "domain": [
          0,
          0.45
         ],
         "title": {
          "text": "Price"
         }
        },
        "xaxis2": {
         "anchor": "y2",
         "domain": [
          0.55,
          1
         ],
         "title": {
          "text": "Price"
         }
        },
        "yaxis": {
         "anchor": "x",
         "domain": [
          0,
          1
         ],
         "title": {
          "text": "Pnl"
         }
        },
        "yaxis2": {
         "anchor": "x2",
         "domain": [
          0,
          1
         ],
         "title": {
          "text": "Delta"
         }
        }
       }
      },
      "text/html": [
       "<div>                            <div id=\"b113be07-16d4-4268-9ff9-76445e486091\" class=\"plotly-graph-div\" style=\"height:525px; width:100%;\"></div>            <script type=\"text/javascript\">                require([\"plotly\"], function(Plotly) {                    window.PLOTLYENV=window.PLOTLYENV || {};                                    if (document.getElementById(\"b113be07-16d4-4268-9ff9-76445e486091\")) {                    Plotly.newPlot(                        \"b113be07-16d4-4268-9ff9-76445e486091\",                        [{\"name\":\"EUA Jun24 40P\",\"x\":[50,51,52,53,54,55,56,57,58,59,60,61,62,63,64,65,66,67,68,69,70,71,72,73,74,75,76,77,78,79,80,81,82,83,84,85,86,87,88,89,90,91,92,93,94,95,96,97,98,99,100],\"y\":[85745.41963169558,72775.63285347307,61197.83333259389,50883.30517626057,41711.541467861796,33570.42162936377,26356.214671694564,19973.442334636362,14334.632661676911,9359.990892254411,4977.010883189059,1120.0467360069758,-2270.1389953820826,-5246.837151891075,-7857.853192555334,-10145.959468290015,-12149.332247206352,-13901.968910230251,-15434.082168403442,-16772.46932898795,-17940.855585668454,-18960.211058469544,-19849.041889466374,-20623.65613744858,-21298.405532135752,-21885.90436780445,-22397.226955794762,-22842.085131636384,-23228.987339137184,-23565.380802358188,-23857.778256601385,-24111.87064925371,-24332.627147024457,-24524.38370288387,-24690.921347925854,-24835.53528354589,-24961.095760155524,-25070.10164185419,-25164.727473326173,-25246.864786573366,-25318.158311422987,-25380.037685385658,-25433.74519544977,-25480.360026714236,-25520.819440260166,-25555.937255079734,-25586.419965967485,-25612.88079068926,-25635.851905201424,-25655.795094840603,-25673.111021924942],\"type\":\"scatter\",\"xaxis\":\"x\",\"yaxis\":\"y\"},{\"name\":\"EUA Jun24 40P\",\"x\":[50,51,52,53,54,55,56,57,58,59,60,61,62,63,64,65,66,67,68,69,70,71,72,73,74,75,76,77,78,79,80,81,82,83,84,85,86,87,88,89,90,91,92,93,94,95,96,97,98,99,100],\"y\":[-8360.429899456667,-7470.7696902083235,-6662.033045285698,-5929.309358839535,-5267.519402255627,-4671.532500191655,-4136.26199979461,-3656.7410272898783,-3228.180725837293,-2846.0132278121496,-2505.9215704713256,-2203.858647423007,-1936.0571247987623,-1699.0320605755005,-1489.5777634486517,-1304.760225330276,-1141.9062669114298,-998.5903540749686,-872.6198774512861,-762.0195396504826,-665.0153650724467,-580.01873524825,-505.6107573973345,-440.52719394530595,-383.64411460078964,-333.9643786377078,-290.60501168950424,-252.78550713012103,-219.81705559978028,-191.09268617014675,-166.07828791251333,-144.30447025187698,-125.35921361194191,-108.8812577582754,-94.55417331997174,-82.1010617062301,-71.27982961541713,-61.878986218222295,-53.713913610103916,-46.62356405094603,-40.46754067192904,-35.1235215972967,-30.484990702434047,-26.45924143520606,-22.965623211718132,-19.934002824500972,-17.30341604731511,-15.020887173822217,-13.040396582086888,-11.321978574219127,-9.830933705368139],\"type\":\"scatter\",\"xaxis\":\"x2\",\"yaxis\":\"y2\"},{\"name\":\"EUA Jun24 50P\",\"x\":[50,51,52,53,54,55,56,57,58,59,60,61,62,63,64,65,66,67,68,69,70,71,72,73,74,75,76,77,78,79,80,81,82,83,84,85,86,87,88,89,90,91,92,93,94,95,96,97,98,99,100],\"y\":[-265121.15555482864,-229241.34060791216,-196158.39610979584,-165761.42109502884,-137927.23604881135,-112523.4163313633,-89411.14493148995,-68447.82954113251,-49489.447155351336,-32392.59551400704,-17016.24439005892,-3223.1908868110554,9118.768411252071,20135.929209560283,29948.01164668358,38667.706700363735,46400.40965087995,53244.113467630865,59289.4359481799,64619.75604798488,69311.43688127326,73434.11517135234,77051.0393389409,80219.4408282396,82990.92559901075,85411.8749000845,87523.84644663693,89363.96892851016,90965.32437052017,92357.31424910299,93566.00645083646,94614.46115025868,95523.03450321555,96309.65971533835,96990.10557170662,97578.21292115355,98086.10991448331,98524.40701595266,98902.37295639377,99228.09288731494,99508.61003967149,99750.05219861449,99957.74428495945,100136.30829238497,100289.75177250194,100421.54599272649,100534.69481828598,100631.79529281412,100715.09081426707,100786.51772617966,100847.74606993806],\"type\":\"scatter\",\"xaxis\":\"x\",\"yaxis\":\"y\"},{\"name\":\"EUA Jun24 50P\",\"x\":[50,51,52,53,54,55,56,57,58,59,60,61,62,63,64,65,66,67,68,69,70,71,72,73,74,75,76,77,78,79,80,81,82,83,84,85,86,87,88,89,90,91,92,93,94,95,96,97,98,99,100],\"y\":[22751.652300937985,21015.349690580886,19342.292783979443,17740.91954438002,16217.777301001146,14777.61218969994,13423.498035698056,12156.993036607466,10978.31373541957,9886.517176832354,8879.683670023469,7955.09412150891,7109.397367977116,6338.76427311949,5639.026519864354,5005.799014194045,4434.585617363585,3920.868548628542,3460.1822661399606,3048.1729590330465,2680.6449901948135,2353.5957380599657,2063.2403172518298,1806.0276302967081,1578.6491320643247,1378.0415886659014,1201.3849945108568,1046.0966840602382,909.8225454595432,790.4261168460436,685.9762263633329,594.7337261922092,515.137770645313,445.7919992199466,385.4509075255252,333.00662184322925,287.47623609174934,247.98982233706357,213.77918677042973,184.16741132348258,158.55919583839807,136.4319960529048,117.32793774377748,100.84647642474297,86.63776432196735,74.39668134222033,63.85748387548462,54.7890240805482,46.990492405146746,40.28763716966699,34.529416830392236],\"type\":\"scatter\",\"xaxis\":\"x2\",\"yaxis\":\"y2\"},{\"name\":\"EUA Jun24 70C\",\"x\":[50,51,52,53,54,55,56,57,58,59,60,61,62,63,64,65,66,67,68,69,70,71,72,73,74,75,76,77,78,79,80,81,82,83,84,85,86,87,88,89,90,91,92,93,94,95,96,97,98,99,100],\"y\":[125426.86529819158,121241.89296345461,116085.66692678833,109814.47143481477,102279.7127696365,93330.38170488806,82815.67237592771,70587.6621813599,56503.95734907769,40430.21388617619,22242.45303253989,1829.103087143412,-20907.285498431072,-46048.68864676497,-73660.64129438518,-103791.65895253183,-136473.03874070058,-171719.0181473039,-209527.2597726864,-249879.62276924914,-292743.17661472113,-338071.41011109797,-385805.5878687928,-435876.20772091975,-488204.51518555393,-542704.0349106618,-599282.0836607555,-657841.2345233847,-718280.7073495892,-780497.6657588072,-844388.4061438243,-909849.428858408,-976778.3860545483,-1045074.904391873,-1114641.2840360682,-1185383.0779912244,-1257209.5578904413,-1330034.0739338305,-1403774.3177593935,-1478352.497713421,-1553695.4363102878,-1629734.5996945673,-1706406.068697414,-1783650.4606669236,-1861412.81069678,-1939642.4202216482,-2018292.68022866,-2097320.8755831784,-2176687.976209692,-2256358.4201257485,-2336299.8926140745],\"type\":\"scatter\",\"xaxis\":\"x\",\"yaxis\":\"y\"},{\"name\":\"EUA Jun24 70C\",\"x\":[50,51,52,53,54,55,56,57,58,59,60,61,62,63,64,65,66,67,68,69,70,71,72,73,74,75,76,77,78,79,80,81,82,83,84,85,86,87,88,89,90,91,92,93,94,95,96,97,98,99,100],\"y\":[-2283.961689965526,-2833.7297735269212,-3469.179458762331,-4193.990204914621,-5010.406335361081,-5919.113410558613,-6919.171658307757,-8008.008106395964,-9181.465799084945,-10433.905591038658,-11758.353659908364,-13146.686158042392,-14589.841369447293,-16078.049331073924,-17601.06905559558,-19148.42416338964,-20709.628783760607,-22274.39690240595,-23832.829799741612,-25375.577739530665,-26893.973541396044,-28380.137034662122,-29827.050594134445,-31228.606968920554,-32579.63141788697,-33875.88075860667,-35114.022330661384,-36291.5960871603,-37406.963084017094,-38459.24356155804,-39448.24763496451,-40374.40135566068,-41238.67059983603,-42042.48490482364,-42787.663027749215,-43476.34165897758,-44110.90839726482,-44693.93979283286,-45228.14499461792,-45716.31530202834,-46161.279720950886,-46565.866458102515,-46932.87015552586,-47265.024565570704,-47564.9802930109,-47835.287181613545,-48078.38089399318,-48296.57322248476,-48492.04567176819,-48666.84586804039,-48822.886371933724],\"type\":\"scatter\",\"xaxis\":\"x2\",\"yaxis\":\"y2\"},{\"name\":\"EUA Jun24 80C\",\"x\":[50,51,52,53,54,55,56,57,58,59,60,61,62,63,64,65,66,67,68,69,70,71,72,73,74,75,76,77,78,79,80,81,82,83,84,85,86,87,88,89,90,91,92,93,94,95,96,97,98,99,100],\"y\":[-36359.20549662184,-35512.55344321556,-34405.85564257558,-32979.82757073267,-31167.094820550312,-28892.222459039516,-26071.960014764463,-22615.70893516026,-18426.2101345216,-13400.440114569828,-7430.695607446223,-405.83922322629985,7787.327458162729,17262.601279268507,28132.865875840696,40508.57226874203,54496.25194129968,70197.10013679763,87705.66327176332,107108.65949659601,128483.95585136244,151899.71946784089,177413.75414945654,205073.0276796668,234913.38958866365,266959.4740253041,301224.77796639927,337711.9013330014,376412.93271427776,417309.96232665965,460375.7025295742,505574.1956239997,552861.5887016228,602186.9559034928,653493.1494933184,706717.6625560501,761793.4878031703,818649.9588142652,877213.5619896157,937408.7094606842,999158.4651445523,1062385.21798577,1127011.2981666713,1192959.5336569431,1260153.7458962132,1328519.1846492367,1397982.9031382059,1468474.075443014,1539924.2588751065,1612267.6045840713,1685441.0200617725],\"type\":\"scatter\",\"xaxis\":\"x\",\"yaxis\":\"y\"},{\"name\":\"EUA Jun24 80C\",\"x\":[50,51,52,53,54,55,56,57,58,59,60,61,62,63,64,65,66,67,68,69,70,71,72,73,74,75,76,77,78,79,80,81,82,83,84,85,86,87,88,89,90,91,92,93,94,95,96,97,98,99,100],\"y\":[447.81682869540884,589.9352168621803,765.7625192589768,980.198997118493,1238.1900046589901,1544.5984064592028,1904.0700820815503,2320.8980507069514,2798.8908688717283,3341.250739620201,3950.466253269322,4628.223910004098,5375.341617609042,6191.726285552812,7076.356521709262,8027.290347704747,9041.696841654855,10115.909739396997,11245.500310316198,12425.3662908798,13649.833314496507,14912.765115361737,16207.678792293029,17527.86157494256,18866.48581332478,20216.719284046736,21571.828344302387,22925.271940133705,24270.78496370105,25602.449933721633,26914.756426076397,28202.64809416702,29461.557481243704,30687.4291336799,31876.731772429168,33026.46046988869,34134.12991362721,35197.759921185054,36215.85440691555,37187.37499888024,38111.71046775024,38988.64306713717,39818.31280215779,40601.18054624919,41337.99082061912,42029.734940881346,42677.6151253125,43283.01005197247,43847.442250166954,44372.54761725958,44860.04726595161],\"type\":\"scatter\",\"xaxis\":\"x2\",\"yaxis\":\"y2\"},{\"mode\":\"lines\",\"name\":\"Total_PnL\",\"x\":[50,51,52,53,54,55,56,57,58,59,60,61,62,63,64,65,66,67,68,69,70,71,72,73,74,75,76,77,78,79,80,81,82,83,84,85,86,87,88,89,90,91,92,93,94,95,96,97,98,99,100],\"y\":[-90308.07612156332,-70736.36823420005,-53280.75149298919,-38043.47205468618,-25103.076631863358,-14514.835456150988,-6311.217898632141,-502.433960296501,2922.9327208816685,3997.169149853733,2772.523918223804,-679.8802868869676,-6271.328624398354,-13896.995309827253,-23437.616964416236,-34761.33945171607,-47725.7093957273,-62179.77345310566,-77966.24272114663,-94923.67655365619,-112888.63946775388,-131697.7865303743,-151189.83626986176,-171207.3953504619,-191598.6055300153,-212218.59035307763,-232930.68620351405,-253607.4493935096,-274131.4376039285,-294395.76998540276,-314304.475420015,-333772.64273340337,-352726.38999673445,-371102.67247592576,-388848.9503189691,-405922.7377975667,-422291.0559329431,-437929.8097454668,-452823.1102867103,-466962.5601519953,-480346.519437487,-492979.3671955685,-504870.7714412329,-516034.9787443096,-526490.1324683251,-536257.6268347646,-545361.5022381358,-553827.8856380396,-561684.47842552,-568960.0929103382,-575684.2375042888],\"type\":\"scatter\",\"xaxis\":\"x\",\"yaxis\":\"y\"},{\"mode\":\"lines\",\"name\":\"Total_Delta\",\"x\":[50,51,52,53,54,55,56,57,58,59,60,61,62,63,64,65,66,67,68,69,70,71,72,73,74,75,76,77,78,79,80,81,82,83,84,85,86,87,88,89,90,91,92,93,94,95,96,97,98,99,100],\"y\":[12555.077540211201,11300.785443707824,9976.842799190392,8597.818977744357,7178.041568043429,5731.564685408874,4272.13445967724,2813.1419536285753,1367.5580793690606,-52.150902398251674,-1434.1253070868988,-2767.2267739523913,-4041.1595086598963,-5246.590832977122,-6375.263777470616,-7420.0950268211245,-8375.252591653596,-9236.208968455383,-9999.767100736739,-10664.0580292683,-11228.510601777169,-11693.79491648867,-12061.74224198692,-12335.244957626594,-12518.140587098653,-12615.084264531743,-12631.414003537644,-12573.012970096479,-12446.172630456276,-12257.460197160508,-12013.59327043729,-11721.324005553328,-11387.33456155895,-11018.14502968207,-10620.034521114492,-10198.975628951892,-9760.582077161285,-9310.06903552897,-8852.225314542047,-8391.396455875569,-7931.477598034173,-7475.914916509733,-7027.714406326726,-6589.456784331975,-6163.317331281534,-5751.089562214482,-5354.211700852509,-4973.795033605558,-4610.6533257781775,-4265.332592185361,-3938.1406228570922],\"type\":\"scatter\",\"xaxis\":\"x2\",\"yaxis\":\"y2\"}],                        {\"template\":{\"data\":{\"histogram2dcontour\":[{\"type\":\"histogram2dcontour\",\"colorbar\":{\"outlinewidth\":0,\"ticks\":\"\"},\"colorscale\":[[0.0,\"#0d0887\"],[0.1111111111111111,\"#46039f\"],[0.2222222222222222,\"#7201a8\"],[0.3333333333333333,\"#9c179e\"],[0.4444444444444444,\"#bd3786\"],[0.5555555555555556,\"#d8576b\"],[0.6666666666666666,\"#ed7953\"],[0.7777777777777778,\"#fb9f3a\"],[0.8888888888888888,\"#fdca26\"],[1.0,\"#f0f921\"]]}],\"choropleth\":[{\"type\":\"choropleth\",\"colorbar\":{\"outlinewidth\":0,\"ticks\":\"\"}}],\"histogram2d\":[{\"type\":\"histogram2d\",\"colorbar\":{\"outlinewidth\":0,\"ticks\":\"\"},\"colorscale\":[[0.0,\"#0d0887\"],[0.1111111111111111,\"#46039f\"],[0.2222222222222222,\"#7201a8\"],[0.3333333333333333,\"#9c179e\"],[0.4444444444444444,\"#bd3786\"],[0.5555555555555556,\"#d8576b\"],[0.6666666666666666,\"#ed7953\"],[0.7777777777777778,\"#fb9f3a\"],[0.8888888888888888,\"#fdca26\"],[1.0,\"#f0f921\"]]}],\"heatmap\":[{\"type\":\"heatmap\",\"colorbar\":{\"outlinewidth\":0,\"ticks\":\"\"},\"colorscale\":[[0.0,\"#0d0887\"],[0.1111111111111111,\"#46039f\"],[0.2222222222222222,\"#7201a8\"],[0.3333333333333333,\"#9c179e\"],[0.4444444444444444,\"#bd3786\"],[0.5555555555555556,\"#d8576b\"],[0.6666666666666666,\"#ed7953\"],[0.7777777777777778,\"#fb9f3a\"],[0.8888888888888888,\"#fdca26\"],[1.0,\"#f0f921\"]]}],\"heatmapgl\":[{\"type\":\"heatmapgl\",\"colorbar\":{\"outlinewidth\":0,\"ticks\":\"\"},\"colorscale\":[[0.0,\"#0d0887\"],[0.1111111111111111,\"#46039f\"],[0.2222222222222222,\"#7201a8\"],[0.3333333333333333,\"#9c179e\"],[0.4444444444444444,\"#bd3786\"],[0.5555555555555556,\"#d8576b\"],[0.6666666666666666,\"#ed7953\"],[0.7777777777777778,\"#fb9f3a\"],[0.8888888888888888,\"#fdca26\"],[1.0,\"#f0f921\"]]}],\"contourcarpet\":[{\"type\":\"contourcarpet\",\"colorbar\":{\"outlinewidth\":0,\"ticks\":\"\"}}],\"contour\":[{\"type\":\"contour\",\"colorbar\":{\"outlinewidth\":0,\"ticks\":\"\"},\"colorscale\":[[0.0,\"#0d0887\"],[0.1111111111111111,\"#46039f\"],[0.2222222222222222,\"#7201a8\"],[0.3333333333333333,\"#9c179e\"],[0.4444444444444444,\"#bd3786\"],[0.5555555555555556,\"#d8576b\"],[0.6666666666666666,\"#ed7953\"],[0.7777777777777778,\"#fb9f3a\"],[0.8888888888888888,\"#fdca26\"],[1.0,\"#f0f921\"]]}],\"surface\":[{\"type\":\"surface\",\"colorbar\":{\"outlinewidth\":0,\"ticks\":\"\"},\"colorscale\":[[0.0,\"#0d0887\"],[0.1111111111111111,\"#46039f\"],[0.2222222222222222,\"#7201a8\"],[0.3333333333333333,\"#9c179e\"],[0.4444444444444444,\"#bd3786\"],[0.5555555555555556,\"#d8576b\"],[0.6666666666666666,\"#ed7953\"],[0.7777777777777778,\"#fb9f3a\"],[0.8888888888888888,\"#fdca26\"],[1.0,\"#f0f921\"]]}],\"mesh3d\":[{\"type\":\"mesh3d\",\"colorbar\":{\"outlinewidth\":0,\"ticks\":\"\"}}],\"scatter\":[{\"fillpattern\":{\"fillmode\":\"overlay\",\"size\":10,\"solidity\":0.2},\"type\":\"scatter\"}],\"parcoords\":[{\"type\":\"parcoords\",\"line\":{\"colorbar\":{\"outlinewidth\":0,\"ticks\":\"\"}}}],\"scatterpolargl\":[{\"type\":\"scatterpolargl\",\"marker\":{\"colorbar\":{\"outlinewidth\":0,\"ticks\":\"\"}}}],\"bar\":[{\"error_x\":{\"color\":\"#2a3f5f\"},\"error_y\":{\"color\":\"#2a3f5f\"},\"marker\":{\"line\":{\"color\":\"#E5ECF6\",\"width\":0.5},\"pattern\":{\"fillmode\":\"overlay\",\"size\":10,\"solidity\":0.2}},\"type\":\"bar\"}],\"scattergeo\":[{\"type\":\"scattergeo\",\"marker\":{\"colorbar\":{\"outlinewidth\":0,\"ticks\":\"\"}}}],\"scatterpolar\":[{\"type\":\"scatterpolar\",\"marker\":{\"colorbar\":{\"outlinewidth\":0,\"ticks\":\"\"}}}],\"histogram\":[{\"marker\":{\"pattern\":{\"fillmode\":\"overlay\",\"size\":10,\"solidity\":0.2}},\"type\":\"histogram\"}],\"scattergl\":[{\"type\":\"scattergl\",\"marker\":{\"colorbar\":{\"outlinewidth\":0,\"ticks\":\"\"}}}],\"scatter3d\":[{\"type\":\"scatter3d\",\"line\":{\"colorbar\":{\"outlinewidth\":0,\"ticks\":\"\"}},\"marker\":{\"colorbar\":{\"outlinewidth\":0,\"ticks\":\"\"}}}],\"scattermapbox\":[{\"type\":\"scattermapbox\",\"marker\":{\"colorbar\":{\"outlinewidth\":0,\"ticks\":\"\"}}}],\"scatterternary\":[{\"type\":\"scatterternary\",\"marker\":{\"colorbar\":{\"outlinewidth\":0,\"ticks\":\"\"}}}],\"scattercarpet\":[{\"type\":\"scattercarpet\",\"marker\":{\"colorbar\":{\"outlinewidth\":0,\"ticks\":\"\"}}}],\"carpet\":[{\"aaxis\":{\"endlinecolor\":\"#2a3f5f\",\"gridcolor\":\"white\",\"linecolor\":\"white\",\"minorgridcolor\":\"white\",\"startlinecolor\":\"#2a3f5f\"},\"baxis\":{\"endlinecolor\":\"#2a3f5f\",\"gridcolor\":\"white\",\"linecolor\":\"white\",\"minorgridcolor\":\"white\",\"startlinecolor\":\"#2a3f5f\"},\"type\":\"carpet\"}],\"table\":[{\"cells\":{\"fill\":{\"color\":\"#EBF0F8\"},\"line\":{\"color\":\"white\"}},\"header\":{\"fill\":{\"color\":\"#C8D4E3\"},\"line\":{\"color\":\"white\"}},\"type\":\"table\"}],\"barpolar\":[{\"marker\":{\"line\":{\"color\":\"#E5ECF6\",\"width\":0.5},\"pattern\":{\"fillmode\":\"overlay\",\"size\":10,\"solidity\":0.2}},\"type\":\"barpolar\"}],\"pie\":[{\"automargin\":true,\"type\":\"pie\"}]},\"layout\":{\"autotypenumbers\":\"strict\",\"colorway\":[\"#636efa\",\"#EF553B\",\"#00cc96\",\"#ab63fa\",\"#FFA15A\",\"#19d3f3\",\"#FF6692\",\"#B6E880\",\"#FF97FF\",\"#FECB52\"],\"font\":{\"color\":\"#2a3f5f\"},\"hovermode\":\"closest\",\"hoverlabel\":{\"align\":\"left\"},\"paper_bgcolor\":\"white\",\"plot_bgcolor\":\"#E5ECF6\",\"polar\":{\"bgcolor\":\"#E5ECF6\",\"angularaxis\":{\"gridcolor\":\"white\",\"linecolor\":\"white\",\"ticks\":\"\"},\"radialaxis\":{\"gridcolor\":\"white\",\"linecolor\":\"white\",\"ticks\":\"\"}},\"ternary\":{\"bgcolor\":\"#E5ECF6\",\"aaxis\":{\"gridcolor\":\"white\",\"linecolor\":\"white\",\"ticks\":\"\"},\"baxis\":{\"gridcolor\":\"white\",\"linecolor\":\"white\",\"ticks\":\"\"},\"caxis\":{\"gridcolor\":\"white\",\"linecolor\":\"white\",\"ticks\":\"\"}},\"coloraxis\":{\"colorbar\":{\"outlinewidth\":0,\"ticks\":\"\"}},\"colorscale\":{\"sequential\":[[0.0,\"#0d0887\"],[0.1111111111111111,\"#46039f\"],[0.2222222222222222,\"#7201a8\"],[0.3333333333333333,\"#9c179e\"],[0.4444444444444444,\"#bd3786\"],[0.5555555555555556,\"#d8576b\"],[0.6666666666666666,\"#ed7953\"],[0.7777777777777778,\"#fb9f3a\"],[0.8888888888888888,\"#fdca26\"],[1.0,\"#f0f921\"]],\"sequentialminus\":[[0.0,\"#0d0887\"],[0.1111111111111111,\"#46039f\"],[0.2222222222222222,\"#7201a8\"],[0.3333333333333333,\"#9c179e\"],[0.4444444444444444,\"#bd3786\"],[0.5555555555555556,\"#d8576b\"],[0.6666666666666666,\"#ed7953\"],[0.7777777777777778,\"#fb9f3a\"],[0.8888888888888888,\"#fdca26\"],[1.0,\"#f0f921\"]],\"diverging\":[[0,\"#8e0152\"],[0.1,\"#c51b7d\"],[0.2,\"#de77ae\"],[0.3,\"#f1b6da\"],[0.4,\"#fde0ef\"],[0.5,\"#f7f7f7\"],[0.6,\"#e6f5d0\"],[0.7,\"#b8e186\"],[0.8,\"#7fbc41\"],[0.9,\"#4d9221\"],[1,\"#276419\"]]},\"xaxis\":{\"gridcolor\":\"white\",\"linecolor\":\"white\",\"ticks\":\"\",\"title\":{\"standoff\":15},\"zerolinecolor\":\"white\",\"automargin\":true,\"zerolinewidth\":2},\"yaxis\":{\"gridcolor\":\"white\",\"linecolor\":\"white\",\"ticks\":\"\",\"title\":{\"standoff\":15},\"zerolinecolor\":\"white\",\"automargin\":true,\"zerolinewidth\":2},\"scene\":{\"xaxis\":{\"backgroundcolor\":\"#E5ECF6\",\"gridcolor\":\"white\",\"linecolor\":\"white\",\"showbackground\":true,\"ticks\":\"\",\"zerolinecolor\":\"white\",\"gridwidth\":2},\"yaxis\":{\"backgroundcolor\":\"#E5ECF6\",\"gridcolor\":\"white\",\"linecolor\":\"white\",\"showbackground\":true,\"ticks\":\"\",\"zerolinecolor\":\"white\",\"gridwidth\":2},\"zaxis\":{\"backgroundcolor\":\"#E5ECF6\",\"gridcolor\":\"white\",\"linecolor\":\"white\",\"showbackground\":true,\"ticks\":\"\",\"zerolinecolor\":\"white\",\"gridwidth\":2}},\"shapedefaults\":{\"line\":{\"color\":\"#2a3f5f\"}},\"annotationdefaults\":{\"arrowcolor\":\"#2a3f5f\",\"arrowhead\":0,\"arrowwidth\":1},\"geo\":{\"bgcolor\":\"white\",\"landcolor\":\"#E5ECF6\",\"subunitcolor\":\"white\",\"showland\":true,\"showlakes\":true,\"lakecolor\":\"white\"},\"title\":{\"x\":0.05},\"mapbox\":{\"style\":\"light\"}}},\"xaxis\":{\"anchor\":\"y\",\"domain\":[0.0,0.45],\"title\":{\"text\":\"Price\"}},\"yaxis\":{\"anchor\":\"x\",\"domain\":[0.0,1.0],\"title\":{\"text\":\"Pnl\"}},\"xaxis2\":{\"anchor\":\"y2\",\"domain\":[0.55,1.0],\"title\":{\"text\":\"Price\"}},\"yaxis2\":{\"anchor\":\"x2\",\"domain\":[0.0,1.0],\"title\":{\"text\":\"Delta\"}},\"title\":{\"text\":\"Todays Option Pos (PnL and Delta)\",\"x\":0.5,\"xanchor\":\"center\"},\"barmode\":\"stack\"},                        {\"responsive\": true}                    ).then(function(){\n",
       "                            \n",
       "var gd = document.getElementById('b113be07-16d4-4268-9ff9-76445e486091');\n",
       "var x = new MutationObserver(function (mutations, observer) {{\n",
       "        var display = window.getComputedStyle(gd).display;\n",
       "        if (!display || display === 'none') {{\n",
       "            console.log([gd, 'removed!']);\n",
       "            Plotly.purge(gd);\n",
       "            observer.disconnect();\n",
       "        }}\n",
       "}});\n",
       "\n",
       "// Listen for the removal of the full notebook cells\n",
       "var notebookContainer = gd.closest('#notebook-container');\n",
       "if (notebookContainer) {{\n",
       "    x.observe(notebookContainer, {childList: true});\n",
       "}}\n",
       "\n",
       "// Listen for the clearing of the current output cell\n",
       "var outputEl = gd.closest('.output');\n",
       "if (outputEl) {{\n",
       "    x.observe(outputEl, {childList: true});\n",
       "}}\n",
       "\n",
       "                        })                };                });            </script>        </div>"
      ]
     },
     "metadata": {},
     "output_type": "display_data"
    }
   ],
   "source": [
    "pnl_delta_plot(current_date)"
   ]
  },
  {
   "cell_type": "markdown",
   "id": "188a9617",
   "metadata": {},
   "source": [
    "## End of Month"
   ]
  },
  {
   "cell_type": "code",
   "execution_count": 16,
   "id": "8d15a408",
   "metadata": {},
   "outputs": [
    {
     "data": {
      "application/vnd.plotly.v1+json": {
       "config": {
        "plotlyServerURL": "https://plot.ly"
       },
       "data": [
        {
         "name": "EUA Jun24 40P",
         "type": "scatter",
         "x": [
          50,
          51,
          52,
          53,
          54,
          55,
          56,
          57,
          58,
          59,
          60,
          61,
          62,
          63,
          64,
          65,
          66,
          67,
          68,
          69,
          70,
          71,
          72,
          73,
          74,
          75,
          76,
          77,
          78,
          79,
          80,
          81,
          82,
          83,
          84,
          85,
          86,
          87,
          88,
          89,
          90,
          91,
          92,
          93,
          94,
          95,
          96,
          97,
          98,
          99,
          100
         ],
         "xaxis": "x",
         "y": [
          35320.711945992676,
          25712.40148438021,
          17496.16736766877,
          10496.225326151696,
          4553.322954276977,
          -475.5217893749117,
          -4717.638755268251,
          -8285.578521229609,
          -11278.153240489684,
          -13781.573825343788,
          -15870.626316020156,
          -17609.843390642207,
          -19054.638438937076,
          -20252.379340556265,
          -21243.387085788894,
          -22061.850768981858,
          -22736.655442203686,
          -23292.123032562733,
          -23748.669199681855,
          -24123.380830349008,
          -24430.52000878114,
          -24681.96091600628,
          -24887.566330716516,
          -25055.510334890543,
          -25192.553558186708,
          -25304.276895022886,
          -25395.279150993258,
          -25469.343561159843,
          -25529.577601171273,
          -25578.53000377713,
          -25618.28841183722,
          -25650.560652859873,
          -25676.742213934634,
          -25697.97213125651,
          -25715.17918488377,
          -25729.120005090732,
          -25740.41044908407,
          -25749.551392762554,
          -25756.94989831871,
          -25762.936561435614,
          -25767.779708413433,
          -25771.697000711076,
          -25774.864909360505,
          -25777.426441966265,
          -25779.49743833406,
          -25781.17169517973,
          -25782.525134179174,
          -25783.61918930304,
          -25784.503557706183,
          -25785.218432283546,
          -25785.796312467846
         ],
         "yaxis": "y"
        },
        {
         "name": "EUA Jun24 40P",
         "type": "scatter",
         "x": [
          50,
          51,
          52,
          53,
          54,
          55,
          56,
          57,
          58,
          59,
          60,
          61,
          62,
          63,
          64,
          65,
          66,
          67,
          68,
          69,
          70,
          71,
          72,
          73,
          74,
          75,
          76,
          77,
          78,
          79,
          80,
          81,
          82,
          83,
          84,
          85,
          86,
          87,
          88,
          89,
          90,
          91,
          92,
          93,
          94,
          95,
          96,
          97,
          98,
          99,
          100
         ],
         "xaxis": "x2",
         "y": [
          -6303.980739342319,
          -5400.708187910297,
          -4609.337543249692,
          -3919.8261407071946,
          -3322.159064450658,
          -2806.599922898273,
          -2363.8752522744553,
          -1985.301467546341,
          -1662.863691872507,
          -1389.2555557568464,
          -1157.8883844919008,
          -962.8772646619154,
          -799.0104338518988,
          -661.7073715080912,
          -546.9699507599623,
          -451.330083097351,
          -371.79647265050966,
          -305.80240265414835,
          -251.15590177680613,
          -205.99317428015019,
          -168.73581370303037,
          -138.05204154986316,
          -112.82200664130548,
          -92.10703433749634,
          -75.1226159328433,
          -61.21486676372578,
          -49.84014812317583,
          -40.54753559637469,
          -32.96381895881994,
          -26.780731585729356,
          -21.74412673430215,
          -17.64484129454513,
          -14.311012600493056,
          -11.601639176939127,
          -9.401200849945557,
          -7.615176810588098,
          -6.166321593287227,
          -4.991578313601197,
          -4.039525845778158,
          -3.268271945089385,
          -2.643717735351103,
          -2.1381306277046264,
          -1.728972772957471,
          -1.3979407439301816,
          -1.1301794625995232,
          -0.9136395872744174,
          -0.7385528054071333,
          -0.5970038715885639,
          -0.482581908595181,
          -0.39009655811717003,
          -0.3153471209604852
         ],
         "yaxis": "y2"
        },
        {
         "name": "EUA Jun24 50P",
         "type": "scatter",
         "x": [
          50,
          51,
          52,
          53,
          54,
          55,
          56,
          57,
          58,
          59,
          60,
          61,
          62,
          63,
          64,
          65,
          66,
          67,
          68,
          69,
          70,
          71,
          72,
          73,
          74,
          75,
          76,
          77,
          78,
          79,
          80,
          81,
          82,
          83,
          84,
          85,
          86,
          87,
          88,
          89,
          90,
          91,
          92,
          93,
          94,
          95,
          96,
          97,
          98,
          99,
          100
         ],
         "xaxis": "x",
         "y": [
          -193184.26251368877,
          -156830.3907136257,
          -123978.83720859565,
          -94469.6027794315,
          -68116.92450234429,
          -44716.21600124788,
          -24050.681979425135,
          -5897.374537778112,
          9967.467555133506,
          23763.887636987583,
          35704.520435638406,
          45991.72694189143,
          54815.50418129761,
          62352.09450921819,
          68763.20423717238,
          74195.73485724296,
          78781.93012782047,
          82639.84711542254,
          85874.06740454966,
          88576.57476382854,
          90827.73651721168,
          92697.33689034071,
          94245.62109346456,
          95524.31847395303,
          96577.62149948115,
          97443.10452298267,
          98152.57223350232,
          98732.83248041669,
          99206.39188126994,
          99592.07541706203,
          99905.57322287727,
          100159.9191332788,
          100365.90636898045,
          100532.44616873703,
          100666.87527775097,
          100775.21808524142,
          100862.40892818378,
          100932.47970085804,
          100988.71747385156,
          101033.79636423472,
          101069.88743466906,
          101098.74995015921,
          101121.80689813789,
          101140.20728749358,
          101154.87738845908,
          101166.5627591213,
          101175.86262499481,
          101183.25793389327,
          101189.13419667236,
          101193.80004242496,
          101197.5022613109
         ],
         "yaxis": "y"
        },
        {
         "name": "EUA Jun24 50P",
         "type": "scatter",
         "x": [
          50,
          51,
          52,
          53,
          54,
          55,
          56,
          57,
          58,
          59,
          60,
          61,
          62,
          63,
          64,
          65,
          66,
          67,
          68,
          69,
          70,
          71,
          72,
          73,
          74,
          75,
          76,
          77,
          78,
          79,
          80,
          81,
          82,
          83,
          84,
          85,
          86,
          87,
          88,
          89,
          90,
          91,
          92,
          93,
          94,
          95,
          96,
          97,
          98,
          99,
          100
         ],
         "xaxis": "x2",
         "y": [
          23198.508440076843,
          21026.46509838787,
          18942.460247062514,
          16964.291920112002,
          15105.49741815147,
          13375.465481786869,
          11779.7126589334,
          10320.278293442276,
          8996.194669188506,
          7803.993624179278,
          6738.2173215727535,
          5791.90790501179,
          4957.05775286055,
          4225.008468865532,
          3586.792288782803,
          3033.414090417025,
          2556.075641611699,
          2146.346169768093,
          1796.284906388379,
          1498.522098604771,
          1246.3052421625375,
          1033.517125535116,
          854.6718154178235,
          704.894071630413,
          579.8869440213849,
          475.8915433558497,
          389.6422410941014,
          318.3198717186364,
          259.50490486086886,
          211.13203171213013,
          171.44717240048513,
          138.96755436548779,
          112.44522922217448,
          90.83417836560082,
          73.26099614942683,
          58.99902448867067,
          47.44573539579022,
          38.103110353904235,
          30.560740686341738,
          24.481365382517104,
          19.588567394418497,
          15.656362368432486,
          12.500432095052805,
          9.970776323092734,
          7.945579267665259,
          6.326109896803711,
          5.0324970506832045,
          4.000241070245547,
          3.1773425580861048,
          2.5219460029479723,
          2.000411230929089
         ],
         "yaxis": "y2"
        },
        {
         "name": "EUA Jun24 70C",
         "type": "scatter",
         "x": [
          50,
          51,
          52,
          53,
          54,
          55,
          56,
          57,
          58,
          59,
          60,
          61,
          62,
          63,
          64,
          65,
          66,
          67,
          68,
          69,
          70,
          71,
          72,
          73,
          74,
          75,
          76,
          77,
          78,
          79,
          80,
          81,
          82,
          83,
          84,
          85,
          86,
          87,
          88,
          89,
          90,
          91,
          92,
          93,
          94,
          95,
          96,
          97,
          98,
          99,
          100
         ],
         "xaxis": "x",
         "y": [
          135709.91041246153,
          134182.2775472855,
          132099.60111819988,
          129317.44286751292,
          125671.55297516545,
          120979.52167788646,
          115043.4404490636,
          107653.50559216428,
          98592.42772848887,
          87640.45169365888,
          74580.7481104507,
          59204.91375797157,
          41318.314024715786,
          20745.016337061377,
          -2667.9041625445175,
          -29046.860204112374,
          -58489.169406903,
          -91061.45623423821,
          -126799.04697094859,
          -165706.31543231008,
          -207757.89466824892,
          -252900.637249046,
          -301056.1846187028,
          -352123.99437370803,
          -405984.67232108646,
          -462503.4624080932,
          -521533.76038972207,
          -582920.5345724492,
          -646503.557339247,
          -712120.3727764233,
          -779608.9471838117,
          -848809.9694422918,
          -919568.7863244234,
          -991736.9733435287,
          -1065173.5543813445,
          -1139745.8930696342,
          -1215330.2858522066,
          -1291812.2910694506,
          -1369086.8306153999,
          -1447058.1010863928,
          -1525639.3302494315,
          -1604752.4124717698,
          -1684327.4538052536,
          -1764302.2540013362,
          -1844621.7490910743,
          -1925237.4344959403,
          -2006106.7850910525,
          -2087192.6853313432,
          -2168462.8795455126,
          -2249889.449843341,
          -2331448.3267857083
         ],
         "yaxis": "y"
        },
        {
         "name": "EUA Jun24 70C",
         "type": "scatter",
         "x": [
          50,
          51,
          52,
          53,
          54,
          55,
          56,
          57,
          58,
          59,
          60,
          61,
          62,
          63,
          64,
          65,
          66,
          67,
          68,
          69,
          70,
          71,
          72,
          73,
          74,
          75,
          76,
          77,
          78,
          79,
          80,
          81,
          82,
          83,
          84,
          85,
          86,
          87,
          88,
          89,
          90,
          91,
          92,
          93,
          94,
          95,
          96,
          97,
          98,
          99,
          100
         ],
         "xaxis": "x2",
         "y": [
          -786.3320851095926,
          -1084.0707105074434,
          -1463.4350632889827,
          -1936.7683617728137,
          -2515.7189234714615,
          -3210.620701941971,
          -4029.8924462694454,
          -4979.499518783223,
          -6062.5180141723185,
          -7278.832705147542,
          -8624.989539558888,
          -10094.211208900806,
          -11676.572021488393,
          -13359.317144506305,
          -15127.302174670853,
          -16963.522576308325,
          -18849.699056651003,
          -20766.884373337703,
          -22696.059063359236,
          -24618.687632407793,
          -26517.212231730748,
          -28375.46713530476,
          -30179.003814806325,
          -31915.322584942434,
          -33574.01226734762,
          -35146.80383678138,
          -36627.54743305489,
          -38012.124420109925,
          -39298.307412262235,
          -40485.581492693556,
          -41574.93938605547,
          -42568.66229828975,
          -43470.0966848479,
          -44283.435521975756,
          -45013.51088041313,
          -45665.602854918005,
          -46245.26827549911,
          -46758.19117816018,
          -47210.05578022327,
          -47606.441702648066,
          -47952.74040719245,
          -48254.09125542178,
          -48515.33522685599,
          -48740.984127574746,
          -48935.20304913638,
          -49101.80387178654,
          -49244.24771862001,
          -49365.654434521166,
          -49468.81736472629,
          -49556.22192577317,
          -49630.06668306173
         ],
         "yaxis": "y2"
        },
        {
         "name": "EUA Jun24 80C",
         "type": "scatter",
         "x": [
          50,
          51,
          52,
          53,
          54,
          55,
          56,
          57,
          58,
          59,
          60,
          61,
          62,
          63,
          64,
          65,
          66,
          67,
          68,
          69,
          70,
          71,
          72,
          73,
          74,
          75,
          76,
          77,
          78,
          79,
          80,
          81,
          82,
          83,
          84,
          85,
          86,
          87,
          88,
          89,
          90,
          91,
          92,
          93,
          94,
          95,
          96,
          97,
          98,
          99,
          100
         ],
         "xaxis": "x",
         "y": [
          -38343.82679991602,
          -38205.7743896001,
          -37998.722867251345,
          -37695.09649597439,
          -37259.239044811264,
          -36646.07251240097,
          -35799.8261144967,
          -34652.92005559549,
          -33125.091593324934,
          -31122.84731684006,
          -28539.315187503405,
          -25254.553197458255,
          -21136.34958737682,
          -16041.524038464886,
          -9817.712062448563,
          -2305.5880333666555,
          6658.54206485561,
          17239.867327944132,
          29602.021971191356,
          43903.97110477316,
          60296.94652419113,
          78921.54233794601,
          99905.0701148266,
          123359.25842881178,
          149378.3634561881,
          178037.73699010292,
          209392.87722755637,
          243478.96719310663,
          280310.8867532531,
          319883.66767773195,
          362173.3476989508,
          407138.1693348806,
          454720.06246497756,
          504846.3461694724,
          557431.584882424,
          612379.5360707161,
          669585.1309619915,
          728936.4357962119,
          790316.5481609505,
          853605.3907109835,
          918681.3725397506,
          985422.8962988874,
          1053709.6965586853,
          1123424.0016455392,
          1194451.5171309763,
          1266682.2341926945,
          1340011.0701884874,
          1414338.3519917482,
          1489570.154980954,
          1565618.5121297957,
          1642401.5085008
         ],
         "yaxis": "y"
        },
        {
         "name": "EUA Jun24 80C",
         "type": "scatter",
         "x": [
          50,
          51,
          52,
          53,
          54,
          55,
          56,
          57,
          58,
          59,
          60,
          61,
          62,
          63,
          64,
          65,
          66,
          67,
          68,
          69,
          70,
          71,
          72,
          73,
          74,
          75,
          76,
          77,
          78,
          79,
          80,
          81,
          82,
          83,
          84,
          85,
          86,
          87,
          88,
          89,
          90,
          91,
          92,
          93,
          94,
          95,
          96,
          97,
          98,
          99,
          100
         ],
         "xaxis": "x2",
         "y": [
          67.49278381340169,
          102.49881967470517,
          152.0893621320346,
          220.7678286713248,
          313.8586456553185,
          437.48870589184213,
          598.519561508673,
          804.426677724648,
          1063.125874487576,
          1382.7512135108113,
          1771.3926406888431,
          2236.805262245925,
          2786.1048626058473,
          3425.4659003845186,
          4159.838602491692,
          4992.7009003894855,
          5925.858924964117,
          6959.306807482371,
          8091.152906480589,
          9317.615614685565,
          10633.08791963554,
          12030.266192062474,
          13500.33550088589,
          15033.201278939017,
          16617.755491146436,
          18242.16461566645,
          19894.166702225437,
          21561.365431516773,
          23231.510338434222,
          24892.754031380286,
          26533.87918405188,
          28144.490144587697,
          29715.16606484409,
          31237.574387237604,
          32704.54525155604,
          34110.108840142966,
          35449.49883375363,
          36719.12599234501,
          37916.52641475891,
          39040.28929339455,
          40089.96899983408,
          41065.9861565744,
          41969.522012717505,
          42802.40999135405,
          43567.0277542421,
          44266.19257149326,
          44903.06222103774,
          45481.04309934466,
          46003.706719920854,
          46474.715322540265,
          46897.75692194035
         ],
         "yaxis": "y2"
        },
        {
         "mode": "lines",
         "name": "Total_PnL",
         "type": "scatter",
         "x": [
          50,
          51,
          52,
          53,
          54,
          55,
          56,
          57,
          58,
          59,
          60,
          61,
          62,
          63,
          64,
          65,
          66,
          67,
          68,
          69,
          70,
          71,
          72,
          73,
          74,
          75,
          76,
          77,
          78,
          79,
          80,
          81,
          82,
          83,
          84,
          85,
          86,
          87,
          88,
          89,
          90,
          91,
          92,
          93,
          94,
          95,
          96,
          97,
          98,
          99,
          100
         ],
         "xaxis": "x",
         "y": [
          -60497.4669551506,
          -35141.48607156007,
          -12381.791589978355,
          7648.968918258732,
          24848.712382286874,
          39141.711374862694,
          50475.293599873505,
          58817.63247756107,
          64156.650449807756,
          66499.91818846262,
          65875.32704256554,
          62332.24411176254,
          55942.8301796995,
          46803.207467258406,
          35034.200926390404,
          20781.435850782073,
          4214.6473435693915,
          -14473.864823434273,
          -35071.62679488944,
          -57349.15039405738,
          -81063.73163562725,
          -105963.71893676557,
          -131793.05974112818,
          -158295.92780583375,
          -185221.2409236039,
          -212326.89779003052,
          -239383.59007965663,
          -266178.0784600857,
          -292515.8563058952,
          -318223.1596854065,
          -343148.31467382086,
          -367162.44162699225,
          -390159.55970439996,
          -412056.15313657577,
          -432790.2734060533,
          -452320.25891876733,
          -470623.15641111543,
          -487692.92696514307,
          -503538.51487891644,
          -518181.85057261016,
          -531655.8499834252,
          -544002.4632234343,
          -555270.815257791,
          -565515.4715102697,
          -574794.852009973,
          -583169.8092393042,
          -590702.3774117494,
          -597454.6945950047,
          -603488.0939255925,
          -608862.356103404,
          -613635.1123360652
         ],
         "yaxis": "y"
        },
        {
         "mode": "lines",
         "name": "Total_Delta",
         "type": "scatter",
         "x": [
          50,
          51,
          52,
          53,
          54,
          55,
          56,
          57,
          58,
          59,
          60,
          61,
          62,
          63,
          64,
          65,
          66,
          67,
          68,
          69,
          70,
          71,
          72,
          73,
          74,
          75,
          76,
          77,
          78,
          79,
          80,
          81,
          82,
          83,
          84,
          85,
          86,
          87,
          88,
          89,
          90,
          91,
          92,
          93,
          94,
          95,
          96,
          97,
          98,
          99,
          100
         ],
         "xaxis": "x2",
         "y": [
          16175.688399438333,
          14644.185019644836,
          13021.777002655874,
          11328.465246303318,
          9581.47807588467,
          7795.733562838467,
          5984.464521898174,
          4159.9039848373595,
          2333.9388376312563,
          518.6565767857014,
          -1273.2679617891927,
          -3028.3753063050067,
          -4732.4198398738945,
          -6370.550146764344,
          -7927.64123415632,
          -9388.737668599166,
          -10739.560962725698,
          -11967.033798741388,
          -13059.777152267076,
          -14008.54309339761,
          -14806.5548836357,
          -15449.73585925703,
          -15936.818505143916,
          -16269.3342687105,
          -16451.492448112647,
          -16489.9625445228,
          -16393.57863785853,
          -16172.986652470892,
          -15840.255987925964,
          -15408.47616118687,
          -14891.35715633741,
          -14302.849440631115,
          -13656.796403382134,
          -12966.62859554949,
          -12245.105833557609,
          -11504.110167096958,
          -10754.490027942978,
          -10005.953653774865,
          -9267.008150623798,
          -8544.93931581609,
          -7845.8265576993,
          -7174.586867106649,
          -6535.04175481639,
          -5930.001300641532,
          -5361.359895089205,
          -4830.198829983754,
          -4336.891553336995,
          -3881.208097977855,
          -3462.41588415594,
          -3079.374753788077,
          -2730.624697011408
         ],
         "yaxis": "y2"
        }
       ],
       "layout": {
        "barmode": "stack",
        "template": {
         "data": {
          "bar": [
           {
            "error_x": {
             "color": "#2a3f5f"
            },
            "error_y": {
             "color": "#2a3f5f"
            },
            "marker": {
             "line": {
              "color": "#E5ECF6",
              "width": 0.5
             },
             "pattern": {
              "fillmode": "overlay",
              "size": 10,
              "solidity": 0.2
             }
            },
            "type": "bar"
           }
          ],
          "barpolar": [
           {
            "marker": {
             "line": {
              "color": "#E5ECF6",
              "width": 0.5
             },
             "pattern": {
              "fillmode": "overlay",
              "size": 10,
              "solidity": 0.2
             }
            },
            "type": "barpolar"
           }
          ],
          "carpet": [
           {
            "aaxis": {
             "endlinecolor": "#2a3f5f",
             "gridcolor": "white",
             "linecolor": "white",
             "minorgridcolor": "white",
             "startlinecolor": "#2a3f5f"
            },
            "baxis": {
             "endlinecolor": "#2a3f5f",
             "gridcolor": "white",
             "linecolor": "white",
             "minorgridcolor": "white",
             "startlinecolor": "#2a3f5f"
            },
            "type": "carpet"
           }
          ],
          "choropleth": [
           {
            "colorbar": {
             "outlinewidth": 0,
             "ticks": ""
            },
            "type": "choropleth"
           }
          ],
          "contour": [
           {
            "colorbar": {
             "outlinewidth": 0,
             "ticks": ""
            },
            "colorscale": [
             [
              0,
              "#0d0887"
             ],
             [
              0.1111111111111111,
              "#46039f"
             ],
             [
              0.2222222222222222,
              "#7201a8"
             ],
             [
              0.3333333333333333,
              "#9c179e"
             ],
             [
              0.4444444444444444,
              "#bd3786"
             ],
             [
              0.5555555555555556,
              "#d8576b"
             ],
             [
              0.6666666666666666,
              "#ed7953"
             ],
             [
              0.7777777777777778,
              "#fb9f3a"
             ],
             [
              0.8888888888888888,
              "#fdca26"
             ],
             [
              1,
              "#f0f921"
             ]
            ],
            "type": "contour"
           }
          ],
          "contourcarpet": [
           {
            "colorbar": {
             "outlinewidth": 0,
             "ticks": ""
            },
            "type": "contourcarpet"
           }
          ],
          "heatmap": [
           {
            "colorbar": {
             "outlinewidth": 0,
             "ticks": ""
            },
            "colorscale": [
             [
              0,
              "#0d0887"
             ],
             [
              0.1111111111111111,
              "#46039f"
             ],
             [
              0.2222222222222222,
              "#7201a8"
             ],
             [
              0.3333333333333333,
              "#9c179e"
             ],
             [
              0.4444444444444444,
              "#bd3786"
             ],
             [
              0.5555555555555556,
              "#d8576b"
             ],
             [
              0.6666666666666666,
              "#ed7953"
             ],
             [
              0.7777777777777778,
              "#fb9f3a"
             ],
             [
              0.8888888888888888,
              "#fdca26"
             ],
             [
              1,
              "#f0f921"
             ]
            ],
            "type": "heatmap"
           }
          ],
          "heatmapgl": [
           {
            "colorbar": {
             "outlinewidth": 0,
             "ticks": ""
            },
            "colorscale": [
             [
              0,
              "#0d0887"
             ],
             [
              0.1111111111111111,
              "#46039f"
             ],
             [
              0.2222222222222222,
              "#7201a8"
             ],
             [
              0.3333333333333333,
              "#9c179e"
             ],
             [
              0.4444444444444444,
              "#bd3786"
             ],
             [
              0.5555555555555556,
              "#d8576b"
             ],
             [
              0.6666666666666666,
              "#ed7953"
             ],
             [
              0.7777777777777778,
              "#fb9f3a"
             ],
             [
              0.8888888888888888,
              "#fdca26"
             ],
             [
              1,
              "#f0f921"
             ]
            ],
            "type": "heatmapgl"
           }
          ],
          "histogram": [
           {
            "marker": {
             "pattern": {
              "fillmode": "overlay",
              "size": 10,
              "solidity": 0.2
             }
            },
            "type": "histogram"
           }
          ],
          "histogram2d": [
           {
            "colorbar": {
             "outlinewidth": 0,
             "ticks": ""
            },
            "colorscale": [
             [
              0,
              "#0d0887"
             ],
             [
              0.1111111111111111,
              "#46039f"
             ],
             [
              0.2222222222222222,
              "#7201a8"
             ],
             [
              0.3333333333333333,
              "#9c179e"
             ],
             [
              0.4444444444444444,
              "#bd3786"
             ],
             [
              0.5555555555555556,
              "#d8576b"
             ],
             [
              0.6666666666666666,
              "#ed7953"
             ],
             [
              0.7777777777777778,
              "#fb9f3a"
             ],
             [
              0.8888888888888888,
              "#fdca26"
             ],
             [
              1,
              "#f0f921"
             ]
            ],
            "type": "histogram2d"
           }
          ],
          "histogram2dcontour": [
           {
            "colorbar": {
             "outlinewidth": 0,
             "ticks": ""
            },
            "colorscale": [
             [
              0,
              "#0d0887"
             ],
             [
              0.1111111111111111,
              "#46039f"
             ],
             [
              0.2222222222222222,
              "#7201a8"
             ],
             [
              0.3333333333333333,
              "#9c179e"
             ],
             [
              0.4444444444444444,
              "#bd3786"
             ],
             [
              0.5555555555555556,
              "#d8576b"
             ],
             [
              0.6666666666666666,
              "#ed7953"
             ],
             [
              0.7777777777777778,
              "#fb9f3a"
             ],
             [
              0.8888888888888888,
              "#fdca26"
             ],
             [
              1,
              "#f0f921"
             ]
            ],
            "type": "histogram2dcontour"
           }
          ],
          "mesh3d": [
           {
            "colorbar": {
             "outlinewidth": 0,
             "ticks": ""
            },
            "type": "mesh3d"
           }
          ],
          "parcoords": [
           {
            "line": {
             "colorbar": {
              "outlinewidth": 0,
              "ticks": ""
             }
            },
            "type": "parcoords"
           }
          ],
          "pie": [
           {
            "automargin": true,
            "type": "pie"
           }
          ],
          "scatter": [
           {
            "fillpattern": {
             "fillmode": "overlay",
             "size": 10,
             "solidity": 0.2
            },
            "type": "scatter"
           }
          ],
          "scatter3d": [
           {
            "line": {
             "colorbar": {
              "outlinewidth": 0,
              "ticks": ""
             }
            },
            "marker": {
             "colorbar": {
              "outlinewidth": 0,
              "ticks": ""
             }
            },
            "type": "scatter3d"
           }
          ],
          "scattercarpet": [
           {
            "marker": {
             "colorbar": {
              "outlinewidth": 0,
              "ticks": ""
             }
            },
            "type": "scattercarpet"
           }
          ],
          "scattergeo": [
           {
            "marker": {
             "colorbar": {
              "outlinewidth": 0,
              "ticks": ""
             }
            },
            "type": "scattergeo"
           }
          ],
          "scattergl": [
           {
            "marker": {
             "colorbar": {
              "outlinewidth": 0,
              "ticks": ""
             }
            },
            "type": "scattergl"
           }
          ],
          "scattermapbox": [
           {
            "marker": {
             "colorbar": {
              "outlinewidth": 0,
              "ticks": ""
             }
            },
            "type": "scattermapbox"
           }
          ],
          "scatterpolar": [
           {
            "marker": {
             "colorbar": {
              "outlinewidth": 0,
              "ticks": ""
             }
            },
            "type": "scatterpolar"
           }
          ],
          "scatterpolargl": [
           {
            "marker": {
             "colorbar": {
              "outlinewidth": 0,
              "ticks": ""
             }
            },
            "type": "scatterpolargl"
           }
          ],
          "scatterternary": [
           {
            "marker": {
             "colorbar": {
              "outlinewidth": 0,
              "ticks": ""
             }
            },
            "type": "scatterternary"
           }
          ],
          "surface": [
           {
            "colorbar": {
             "outlinewidth": 0,
             "ticks": ""
            },
            "colorscale": [
             [
              0,
              "#0d0887"
             ],
             [
              0.1111111111111111,
              "#46039f"
             ],
             [
              0.2222222222222222,
              "#7201a8"
             ],
             [
              0.3333333333333333,
              "#9c179e"
             ],
             [
              0.4444444444444444,
              "#bd3786"
             ],
             [
              0.5555555555555556,
              "#d8576b"
             ],
             [
              0.6666666666666666,
              "#ed7953"
             ],
             [
              0.7777777777777778,
              "#fb9f3a"
             ],
             [
              0.8888888888888888,
              "#fdca26"
             ],
             [
              1,
              "#f0f921"
             ]
            ],
            "type": "surface"
           }
          ],
          "table": [
           {
            "cells": {
             "fill": {
              "color": "#EBF0F8"
             },
             "line": {
              "color": "white"
             }
            },
            "header": {
             "fill": {
              "color": "#C8D4E3"
             },
             "line": {
              "color": "white"
             }
            },
            "type": "table"
           }
          ]
         },
         "layout": {
          "annotationdefaults": {
           "arrowcolor": "#2a3f5f",
           "arrowhead": 0,
           "arrowwidth": 1
          },
          "autotypenumbers": "strict",
          "coloraxis": {
           "colorbar": {
            "outlinewidth": 0,
            "ticks": ""
           }
          },
          "colorscale": {
           "diverging": [
            [
             0,
             "#8e0152"
            ],
            [
             0.1,
             "#c51b7d"
            ],
            [
             0.2,
             "#de77ae"
            ],
            [
             0.3,
             "#f1b6da"
            ],
            [
             0.4,
             "#fde0ef"
            ],
            [
             0.5,
             "#f7f7f7"
            ],
            [
             0.6,
             "#e6f5d0"
            ],
            [
             0.7,
             "#b8e186"
            ],
            [
             0.8,
             "#7fbc41"
            ],
            [
             0.9,
             "#4d9221"
            ],
            [
             1,
             "#276419"
            ]
           ],
           "sequential": [
            [
             0,
             "#0d0887"
            ],
            [
             0.1111111111111111,
             "#46039f"
            ],
            [
             0.2222222222222222,
             "#7201a8"
            ],
            [
             0.3333333333333333,
             "#9c179e"
            ],
            [
             0.4444444444444444,
             "#bd3786"
            ],
            [
             0.5555555555555556,
             "#d8576b"
            ],
            [
             0.6666666666666666,
             "#ed7953"
            ],
            [
             0.7777777777777778,
             "#fb9f3a"
            ],
            [
             0.8888888888888888,
             "#fdca26"
            ],
            [
             1,
             "#f0f921"
            ]
           ],
           "sequentialminus": [
            [
             0,
             "#0d0887"
            ],
            [
             0.1111111111111111,
             "#46039f"
            ],
            [
             0.2222222222222222,
             "#7201a8"
            ],
            [
             0.3333333333333333,
             "#9c179e"
            ],
            [
             0.4444444444444444,
             "#bd3786"
            ],
            [
             0.5555555555555556,
             "#d8576b"
            ],
            [
             0.6666666666666666,
             "#ed7953"
            ],
            [
             0.7777777777777778,
             "#fb9f3a"
            ],
            [
             0.8888888888888888,
             "#fdca26"
            ],
            [
             1,
             "#f0f921"
            ]
           ]
          },
          "colorway": [
           "#636efa",
           "#EF553B",
           "#00cc96",
           "#ab63fa",
           "#FFA15A",
           "#19d3f3",
           "#FF6692",
           "#B6E880",
           "#FF97FF",
           "#FECB52"
          ],
          "font": {
           "color": "#2a3f5f"
          },
          "geo": {
           "bgcolor": "white",
           "lakecolor": "white",
           "landcolor": "#E5ECF6",
           "showlakes": true,
           "showland": true,
           "subunitcolor": "white"
          },
          "hoverlabel": {
           "align": "left"
          },
          "hovermode": "closest",
          "mapbox": {
           "style": "light"
          },
          "paper_bgcolor": "white",
          "plot_bgcolor": "#E5ECF6",
          "polar": {
           "angularaxis": {
            "gridcolor": "white",
            "linecolor": "white",
            "ticks": ""
           },
           "bgcolor": "#E5ECF6",
           "radialaxis": {
            "gridcolor": "white",
            "linecolor": "white",
            "ticks": ""
           }
          },
          "scene": {
           "xaxis": {
            "backgroundcolor": "#E5ECF6",
            "gridcolor": "white",
            "gridwidth": 2,
            "linecolor": "white",
            "showbackground": true,
            "ticks": "",
            "zerolinecolor": "white"
           },
           "yaxis": {
            "backgroundcolor": "#E5ECF6",
            "gridcolor": "white",
            "gridwidth": 2,
            "linecolor": "white",
            "showbackground": true,
            "ticks": "",
            "zerolinecolor": "white"
           },
           "zaxis": {
            "backgroundcolor": "#E5ECF6",
            "gridcolor": "white",
            "gridwidth": 2,
            "linecolor": "white",
            "showbackground": true,
            "ticks": "",
            "zerolinecolor": "white"
           }
          },
          "shapedefaults": {
           "line": {
            "color": "#2a3f5f"
           }
          },
          "ternary": {
           "aaxis": {
            "gridcolor": "white",
            "linecolor": "white",
            "ticks": ""
           },
           "baxis": {
            "gridcolor": "white",
            "linecolor": "white",
            "ticks": ""
           },
           "bgcolor": "#E5ECF6",
           "caxis": {
            "gridcolor": "white",
            "linecolor": "white",
            "ticks": ""
           }
          },
          "title": {
           "x": 0.05
          },
          "xaxis": {
           "automargin": true,
           "gridcolor": "white",
           "linecolor": "white",
           "ticks": "",
           "title": {
            "standoff": 15
           },
           "zerolinecolor": "white",
           "zerolinewidth": 2
          },
          "yaxis": {
           "automargin": true,
           "gridcolor": "white",
           "linecolor": "white",
           "ticks": "",
           "title": {
            "standoff": 15
           },
           "zerolinecolor": "white",
           "zerolinewidth": 2
          }
         }
        },
        "title": {
         "text": "Todays Option Pos (PnL and Delta)",
         "x": 0.5,
         "xanchor": "center"
        },
        "xaxis": {
         "anchor": "y",
         "domain": [
          0,
          0.45
         ],
         "title": {
          "text": "Price"
         }
        },
        "xaxis2": {
         "anchor": "y2",
         "domain": [
          0.55,
          1
         ],
         "title": {
          "text": "Price"
         }
        },
        "yaxis": {
         "anchor": "x",
         "domain": [
          0,
          1
         ],
         "title": {
          "text": "Pnl"
         }
        },
        "yaxis2": {
         "anchor": "x2",
         "domain": [
          0,
          1
         ],
         "title": {
          "text": "Delta"
         }
        }
       }
      },
      "text/html": [
       "<div>                            <div id=\"5db4af5d-d4cc-4b83-a5eb-70bb05824a4f\" class=\"plotly-graph-div\" style=\"height:525px; width:100%;\"></div>            <script type=\"text/javascript\">                require([\"plotly\"], function(Plotly) {                    window.PLOTLYENV=window.PLOTLYENV || {};                                    if (document.getElementById(\"5db4af5d-d4cc-4b83-a5eb-70bb05824a4f\")) {                    Plotly.newPlot(                        \"5db4af5d-d4cc-4b83-a5eb-70bb05824a4f\",                        [{\"name\":\"EUA Jun24 40P\",\"x\":[50,51,52,53,54,55,56,57,58,59,60,61,62,63,64,65,66,67,68,69,70,71,72,73,74,75,76,77,78,79,80,81,82,83,84,85,86,87,88,89,90,91,92,93,94,95,96,97,98,99,100],\"y\":[35320.711945992676,25712.40148438021,17496.16736766877,10496.225326151696,4553.322954276977,-475.5217893749117,-4717.638755268251,-8285.578521229609,-11278.153240489684,-13781.573825343788,-15870.626316020156,-17609.843390642207,-19054.638438937076,-20252.379340556265,-21243.387085788894,-22061.850768981858,-22736.655442203686,-23292.123032562733,-23748.669199681855,-24123.380830349008,-24430.52000878114,-24681.96091600628,-24887.566330716516,-25055.510334890543,-25192.553558186708,-25304.276895022886,-25395.279150993258,-25469.343561159843,-25529.577601171273,-25578.53000377713,-25618.28841183722,-25650.560652859873,-25676.742213934634,-25697.97213125651,-25715.17918488377,-25729.120005090732,-25740.41044908407,-25749.551392762554,-25756.94989831871,-25762.936561435614,-25767.779708413433,-25771.697000711076,-25774.864909360505,-25777.426441966265,-25779.49743833406,-25781.17169517973,-25782.525134179174,-25783.61918930304,-25784.503557706183,-25785.218432283546,-25785.796312467846],\"type\":\"scatter\",\"xaxis\":\"x\",\"yaxis\":\"y\"},{\"name\":\"EUA Jun24 40P\",\"x\":[50,51,52,53,54,55,56,57,58,59,60,61,62,63,64,65,66,67,68,69,70,71,72,73,74,75,76,77,78,79,80,81,82,83,84,85,86,87,88,89,90,91,92,93,94,95,96,97,98,99,100],\"y\":[-6303.980739342319,-5400.708187910297,-4609.337543249692,-3919.8261407071946,-3322.159064450658,-2806.599922898273,-2363.8752522744553,-1985.301467546341,-1662.863691872507,-1389.2555557568464,-1157.8883844919008,-962.8772646619154,-799.0104338518988,-661.7073715080912,-546.9699507599623,-451.330083097351,-371.79647265050966,-305.80240265414835,-251.15590177680613,-205.99317428015019,-168.73581370303037,-138.05204154986316,-112.82200664130548,-92.10703433749634,-75.1226159328433,-61.21486676372578,-49.84014812317583,-40.54753559637469,-32.96381895881994,-26.780731585729356,-21.74412673430215,-17.64484129454513,-14.311012600493056,-11.601639176939127,-9.401200849945557,-7.615176810588098,-6.166321593287227,-4.991578313601197,-4.039525845778158,-3.268271945089385,-2.643717735351103,-2.1381306277046264,-1.728972772957471,-1.3979407439301816,-1.1301794625995232,-0.9136395872744174,-0.7385528054071333,-0.5970038715885639,-0.482581908595181,-0.39009655811717003,-0.3153471209604852],\"type\":\"scatter\",\"xaxis\":\"x2\",\"yaxis\":\"y2\"},{\"name\":\"EUA Jun24 50P\",\"x\":[50,51,52,53,54,55,56,57,58,59,60,61,62,63,64,65,66,67,68,69,70,71,72,73,74,75,76,77,78,79,80,81,82,83,84,85,86,87,88,89,90,91,92,93,94,95,96,97,98,99,100],\"y\":[-193184.26251368877,-156830.3907136257,-123978.83720859565,-94469.6027794315,-68116.92450234429,-44716.21600124788,-24050.681979425135,-5897.374537778112,9967.467555133506,23763.887636987583,35704.520435638406,45991.72694189143,54815.50418129761,62352.09450921819,68763.20423717238,74195.73485724296,78781.93012782047,82639.84711542254,85874.06740454966,88576.57476382854,90827.73651721168,92697.33689034071,94245.62109346456,95524.31847395303,96577.62149948115,97443.10452298267,98152.57223350232,98732.83248041669,99206.39188126994,99592.07541706203,99905.57322287727,100159.9191332788,100365.90636898045,100532.44616873703,100666.87527775097,100775.21808524142,100862.40892818378,100932.47970085804,100988.71747385156,101033.79636423472,101069.88743466906,101098.74995015921,101121.80689813789,101140.20728749358,101154.87738845908,101166.5627591213,101175.86262499481,101183.25793389327,101189.13419667236,101193.80004242496,101197.5022613109],\"type\":\"scatter\",\"xaxis\":\"x\",\"yaxis\":\"y\"},{\"name\":\"EUA Jun24 50P\",\"x\":[50,51,52,53,54,55,56,57,58,59,60,61,62,63,64,65,66,67,68,69,70,71,72,73,74,75,76,77,78,79,80,81,82,83,84,85,86,87,88,89,90,91,92,93,94,95,96,97,98,99,100],\"y\":[23198.508440076843,21026.46509838787,18942.460247062514,16964.291920112002,15105.49741815147,13375.465481786869,11779.7126589334,10320.278293442276,8996.194669188506,7803.993624179278,6738.2173215727535,5791.90790501179,4957.05775286055,4225.008468865532,3586.792288782803,3033.414090417025,2556.075641611699,2146.346169768093,1796.284906388379,1498.522098604771,1246.3052421625375,1033.517125535116,854.6718154178235,704.894071630413,579.8869440213849,475.8915433558497,389.6422410941014,318.3198717186364,259.50490486086886,211.13203171213013,171.44717240048513,138.96755436548779,112.44522922217448,90.83417836560082,73.26099614942683,58.99902448867067,47.44573539579022,38.103110353904235,30.560740686341738,24.481365382517104,19.588567394418497,15.656362368432486,12.500432095052805,9.970776323092734,7.945579267665259,6.326109896803711,5.0324970506832045,4.000241070245547,3.1773425580861048,2.5219460029479723,2.000411230929089],\"type\":\"scatter\",\"xaxis\":\"x2\",\"yaxis\":\"y2\"},{\"name\":\"EUA Jun24 70C\",\"x\":[50,51,52,53,54,55,56,57,58,59,60,61,62,63,64,65,66,67,68,69,70,71,72,73,74,75,76,77,78,79,80,81,82,83,84,85,86,87,88,89,90,91,92,93,94,95,96,97,98,99,100],\"y\":[135709.91041246153,134182.2775472855,132099.60111819988,129317.44286751292,125671.55297516545,120979.52167788646,115043.4404490636,107653.50559216428,98592.42772848887,87640.45169365888,74580.7481104507,59204.91375797157,41318.314024715786,20745.016337061377,-2667.9041625445175,-29046.860204112374,-58489.169406903,-91061.45623423821,-126799.04697094859,-165706.31543231008,-207757.89466824892,-252900.637249046,-301056.1846187028,-352123.99437370803,-405984.67232108646,-462503.4624080932,-521533.76038972207,-582920.5345724492,-646503.557339247,-712120.3727764233,-779608.9471838117,-848809.9694422918,-919568.7863244234,-991736.9733435287,-1065173.5543813445,-1139745.8930696342,-1215330.2858522066,-1291812.2910694506,-1369086.8306153999,-1447058.1010863928,-1525639.3302494315,-1604752.4124717698,-1684327.4538052536,-1764302.2540013362,-1844621.7490910743,-1925237.4344959403,-2006106.7850910525,-2087192.6853313432,-2168462.8795455126,-2249889.449843341,-2331448.3267857083],\"type\":\"scatter\",\"xaxis\":\"x\",\"yaxis\":\"y\"},{\"name\":\"EUA Jun24 70C\",\"x\":[50,51,52,53,54,55,56,57,58,59,60,61,62,63,64,65,66,67,68,69,70,71,72,73,74,75,76,77,78,79,80,81,82,83,84,85,86,87,88,89,90,91,92,93,94,95,96,97,98,99,100],\"y\":[-786.3320851095926,-1084.0707105074434,-1463.4350632889827,-1936.7683617728137,-2515.7189234714615,-3210.620701941971,-4029.8924462694454,-4979.499518783223,-6062.5180141723185,-7278.832705147542,-8624.989539558888,-10094.211208900806,-11676.572021488393,-13359.317144506305,-15127.302174670853,-16963.522576308325,-18849.699056651003,-20766.884373337703,-22696.059063359236,-24618.687632407793,-26517.212231730748,-28375.46713530476,-30179.003814806325,-31915.322584942434,-33574.01226734762,-35146.80383678138,-36627.54743305489,-38012.124420109925,-39298.307412262235,-40485.581492693556,-41574.93938605547,-42568.66229828975,-43470.0966848479,-44283.435521975756,-45013.51088041313,-45665.602854918005,-46245.26827549911,-46758.19117816018,-47210.05578022327,-47606.441702648066,-47952.74040719245,-48254.09125542178,-48515.33522685599,-48740.984127574746,-48935.20304913638,-49101.80387178654,-49244.24771862001,-49365.654434521166,-49468.81736472629,-49556.22192577317,-49630.06668306173],\"type\":\"scatter\",\"xaxis\":\"x2\",\"yaxis\":\"y2\"},{\"name\":\"EUA Jun24 80C\",\"x\":[50,51,52,53,54,55,56,57,58,59,60,61,62,63,64,65,66,67,68,69,70,71,72,73,74,75,76,77,78,79,80,81,82,83,84,85,86,87,88,89,90,91,92,93,94,95,96,97,98,99,100],\"y\":[-38343.82679991602,-38205.7743896001,-37998.722867251345,-37695.09649597439,-37259.239044811264,-36646.07251240097,-35799.8261144967,-34652.92005559549,-33125.091593324934,-31122.84731684006,-28539.315187503405,-25254.553197458255,-21136.34958737682,-16041.524038464886,-9817.712062448563,-2305.5880333666555,6658.54206485561,17239.867327944132,29602.021971191356,43903.97110477316,60296.94652419113,78921.54233794601,99905.0701148266,123359.25842881178,149378.3634561881,178037.73699010292,209392.87722755637,243478.96719310663,280310.8867532531,319883.66767773195,362173.3476989508,407138.1693348806,454720.06246497756,504846.3461694724,557431.584882424,612379.5360707161,669585.1309619915,728936.4357962119,790316.5481609505,853605.3907109835,918681.3725397506,985422.8962988874,1053709.6965586853,1123424.0016455392,1194451.5171309763,1266682.2341926945,1340011.0701884874,1414338.3519917482,1489570.154980954,1565618.5121297957,1642401.5085008],\"type\":\"scatter\",\"xaxis\":\"x\",\"yaxis\":\"y\"},{\"name\":\"EUA Jun24 80C\",\"x\":[50,51,52,53,54,55,56,57,58,59,60,61,62,63,64,65,66,67,68,69,70,71,72,73,74,75,76,77,78,79,80,81,82,83,84,85,86,87,88,89,90,91,92,93,94,95,96,97,98,99,100],\"y\":[67.49278381340169,102.49881967470517,152.0893621320346,220.7678286713248,313.8586456553185,437.48870589184213,598.519561508673,804.426677724648,1063.125874487576,1382.7512135108113,1771.3926406888431,2236.805262245925,2786.1048626058473,3425.4659003845186,4159.838602491692,4992.7009003894855,5925.858924964117,6959.306807482371,8091.152906480589,9317.615614685565,10633.08791963554,12030.266192062474,13500.33550088589,15033.201278939017,16617.755491146436,18242.16461566645,19894.166702225437,21561.365431516773,23231.510338434222,24892.754031380286,26533.87918405188,28144.490144587697,29715.16606484409,31237.574387237604,32704.54525155604,34110.108840142966,35449.49883375363,36719.12599234501,37916.52641475891,39040.28929339455,40089.96899983408,41065.9861565744,41969.522012717505,42802.40999135405,43567.0277542421,44266.19257149326,44903.06222103774,45481.04309934466,46003.706719920854,46474.715322540265,46897.75692194035],\"type\":\"scatter\",\"xaxis\":\"x2\",\"yaxis\":\"y2\"},{\"mode\":\"lines\",\"name\":\"Total_PnL\",\"x\":[50,51,52,53,54,55,56,57,58,59,60,61,62,63,64,65,66,67,68,69,70,71,72,73,74,75,76,77,78,79,80,81,82,83,84,85,86,87,88,89,90,91,92,93,94,95,96,97,98,99,100],\"y\":[-60497.4669551506,-35141.48607156007,-12381.791589978355,7648.968918258732,24848.712382286874,39141.711374862694,50475.293599873505,58817.63247756107,64156.650449807756,66499.91818846262,65875.32704256554,62332.24411176254,55942.8301796995,46803.207467258406,35034.200926390404,20781.435850782073,4214.6473435693915,-14473.864823434273,-35071.62679488944,-57349.15039405738,-81063.73163562725,-105963.71893676557,-131793.05974112818,-158295.92780583375,-185221.2409236039,-212326.89779003052,-239383.59007965663,-266178.0784600857,-292515.8563058952,-318223.1596854065,-343148.31467382086,-367162.44162699225,-390159.55970439996,-412056.15313657577,-432790.2734060533,-452320.25891876733,-470623.15641111543,-487692.92696514307,-503538.51487891644,-518181.85057261016,-531655.8499834252,-544002.4632234343,-555270.815257791,-565515.4715102697,-574794.852009973,-583169.8092393042,-590702.3774117494,-597454.6945950047,-603488.0939255925,-608862.356103404,-613635.1123360652],\"type\":\"scatter\",\"xaxis\":\"x\",\"yaxis\":\"y\"},{\"mode\":\"lines\",\"name\":\"Total_Delta\",\"x\":[50,51,52,53,54,55,56,57,58,59,60,61,62,63,64,65,66,67,68,69,70,71,72,73,74,75,76,77,78,79,80,81,82,83,84,85,86,87,88,89,90,91,92,93,94,95,96,97,98,99,100],\"y\":[16175.688399438333,14644.185019644836,13021.777002655874,11328.465246303318,9581.47807588467,7795.733562838467,5984.464521898174,4159.9039848373595,2333.9388376312563,518.6565767857014,-1273.2679617891927,-3028.3753063050067,-4732.4198398738945,-6370.550146764344,-7927.64123415632,-9388.737668599166,-10739.560962725698,-11967.033798741388,-13059.777152267076,-14008.54309339761,-14806.5548836357,-15449.73585925703,-15936.818505143916,-16269.3342687105,-16451.492448112647,-16489.9625445228,-16393.57863785853,-16172.986652470892,-15840.255987925964,-15408.47616118687,-14891.35715633741,-14302.849440631115,-13656.796403382134,-12966.62859554949,-12245.105833557609,-11504.110167096958,-10754.490027942978,-10005.953653774865,-9267.008150623798,-8544.93931581609,-7845.8265576993,-7174.586867106649,-6535.04175481639,-5930.001300641532,-5361.359895089205,-4830.198829983754,-4336.891553336995,-3881.208097977855,-3462.41588415594,-3079.374753788077,-2730.624697011408],\"type\":\"scatter\",\"xaxis\":\"x2\",\"yaxis\":\"y2\"}],                        {\"template\":{\"data\":{\"histogram2dcontour\":[{\"type\":\"histogram2dcontour\",\"colorbar\":{\"outlinewidth\":0,\"ticks\":\"\"},\"colorscale\":[[0.0,\"#0d0887\"],[0.1111111111111111,\"#46039f\"],[0.2222222222222222,\"#7201a8\"],[0.3333333333333333,\"#9c179e\"],[0.4444444444444444,\"#bd3786\"],[0.5555555555555556,\"#d8576b\"],[0.6666666666666666,\"#ed7953\"],[0.7777777777777778,\"#fb9f3a\"],[0.8888888888888888,\"#fdca26\"],[1.0,\"#f0f921\"]]}],\"choropleth\":[{\"type\":\"choropleth\",\"colorbar\":{\"outlinewidth\":0,\"ticks\":\"\"}}],\"histogram2d\":[{\"type\":\"histogram2d\",\"colorbar\":{\"outlinewidth\":0,\"ticks\":\"\"},\"colorscale\":[[0.0,\"#0d0887\"],[0.1111111111111111,\"#46039f\"],[0.2222222222222222,\"#7201a8\"],[0.3333333333333333,\"#9c179e\"],[0.4444444444444444,\"#bd3786\"],[0.5555555555555556,\"#d8576b\"],[0.6666666666666666,\"#ed7953\"],[0.7777777777777778,\"#fb9f3a\"],[0.8888888888888888,\"#fdca26\"],[1.0,\"#f0f921\"]]}],\"heatmap\":[{\"type\":\"heatmap\",\"colorbar\":{\"outlinewidth\":0,\"ticks\":\"\"},\"colorscale\":[[0.0,\"#0d0887\"],[0.1111111111111111,\"#46039f\"],[0.2222222222222222,\"#7201a8\"],[0.3333333333333333,\"#9c179e\"],[0.4444444444444444,\"#bd3786\"],[0.5555555555555556,\"#d8576b\"],[0.6666666666666666,\"#ed7953\"],[0.7777777777777778,\"#fb9f3a\"],[0.8888888888888888,\"#fdca26\"],[1.0,\"#f0f921\"]]}],\"heatmapgl\":[{\"type\":\"heatmapgl\",\"colorbar\":{\"outlinewidth\":0,\"ticks\":\"\"},\"colorscale\":[[0.0,\"#0d0887\"],[0.1111111111111111,\"#46039f\"],[0.2222222222222222,\"#7201a8\"],[0.3333333333333333,\"#9c179e\"],[0.4444444444444444,\"#bd3786\"],[0.5555555555555556,\"#d8576b\"],[0.6666666666666666,\"#ed7953\"],[0.7777777777777778,\"#fb9f3a\"],[0.8888888888888888,\"#fdca26\"],[1.0,\"#f0f921\"]]}],\"contourcarpet\":[{\"type\":\"contourcarpet\",\"colorbar\":{\"outlinewidth\":0,\"ticks\":\"\"}}],\"contour\":[{\"type\":\"contour\",\"colorbar\":{\"outlinewidth\":0,\"ticks\":\"\"},\"colorscale\":[[0.0,\"#0d0887\"],[0.1111111111111111,\"#46039f\"],[0.2222222222222222,\"#7201a8\"],[0.3333333333333333,\"#9c179e\"],[0.4444444444444444,\"#bd3786\"],[0.5555555555555556,\"#d8576b\"],[0.6666666666666666,\"#ed7953\"],[0.7777777777777778,\"#fb9f3a\"],[0.8888888888888888,\"#fdca26\"],[1.0,\"#f0f921\"]]}],\"surface\":[{\"type\":\"surface\",\"colorbar\":{\"outlinewidth\":0,\"ticks\":\"\"},\"colorscale\":[[0.0,\"#0d0887\"],[0.1111111111111111,\"#46039f\"],[0.2222222222222222,\"#7201a8\"],[0.3333333333333333,\"#9c179e\"],[0.4444444444444444,\"#bd3786\"],[0.5555555555555556,\"#d8576b\"],[0.6666666666666666,\"#ed7953\"],[0.7777777777777778,\"#fb9f3a\"],[0.8888888888888888,\"#fdca26\"],[1.0,\"#f0f921\"]]}],\"mesh3d\":[{\"type\":\"mesh3d\",\"colorbar\":{\"outlinewidth\":0,\"ticks\":\"\"}}],\"scatter\":[{\"fillpattern\":{\"fillmode\":\"overlay\",\"size\":10,\"solidity\":0.2},\"type\":\"scatter\"}],\"parcoords\":[{\"type\":\"parcoords\",\"line\":{\"colorbar\":{\"outlinewidth\":0,\"ticks\":\"\"}}}],\"scatterpolargl\":[{\"type\":\"scatterpolargl\",\"marker\":{\"colorbar\":{\"outlinewidth\":0,\"ticks\":\"\"}}}],\"bar\":[{\"error_x\":{\"color\":\"#2a3f5f\"},\"error_y\":{\"color\":\"#2a3f5f\"},\"marker\":{\"line\":{\"color\":\"#E5ECF6\",\"width\":0.5},\"pattern\":{\"fillmode\":\"overlay\",\"size\":10,\"solidity\":0.2}},\"type\":\"bar\"}],\"scattergeo\":[{\"type\":\"scattergeo\",\"marker\":{\"colorbar\":{\"outlinewidth\":0,\"ticks\":\"\"}}}],\"scatterpolar\":[{\"type\":\"scatterpolar\",\"marker\":{\"colorbar\":{\"outlinewidth\":0,\"ticks\":\"\"}}}],\"histogram\":[{\"marker\":{\"pattern\":{\"fillmode\":\"overlay\",\"size\":10,\"solidity\":0.2}},\"type\":\"histogram\"}],\"scattergl\":[{\"type\":\"scattergl\",\"marker\":{\"colorbar\":{\"outlinewidth\":0,\"ticks\":\"\"}}}],\"scatter3d\":[{\"type\":\"scatter3d\",\"line\":{\"colorbar\":{\"outlinewidth\":0,\"ticks\":\"\"}},\"marker\":{\"colorbar\":{\"outlinewidth\":0,\"ticks\":\"\"}}}],\"scattermapbox\":[{\"type\":\"scattermapbox\",\"marker\":{\"colorbar\":{\"outlinewidth\":0,\"ticks\":\"\"}}}],\"scatterternary\":[{\"type\":\"scatterternary\",\"marker\":{\"colorbar\":{\"outlinewidth\":0,\"ticks\":\"\"}}}],\"scattercarpet\":[{\"type\":\"scattercarpet\",\"marker\":{\"colorbar\":{\"outlinewidth\":0,\"ticks\":\"\"}}}],\"carpet\":[{\"aaxis\":{\"endlinecolor\":\"#2a3f5f\",\"gridcolor\":\"white\",\"linecolor\":\"white\",\"minorgridcolor\":\"white\",\"startlinecolor\":\"#2a3f5f\"},\"baxis\":{\"endlinecolor\":\"#2a3f5f\",\"gridcolor\":\"white\",\"linecolor\":\"white\",\"minorgridcolor\":\"white\",\"startlinecolor\":\"#2a3f5f\"},\"type\":\"carpet\"}],\"table\":[{\"cells\":{\"fill\":{\"color\":\"#EBF0F8\"},\"line\":{\"color\":\"white\"}},\"header\":{\"fill\":{\"color\":\"#C8D4E3\"},\"line\":{\"color\":\"white\"}},\"type\":\"table\"}],\"barpolar\":[{\"marker\":{\"line\":{\"color\":\"#E5ECF6\",\"width\":0.5},\"pattern\":{\"fillmode\":\"overlay\",\"size\":10,\"solidity\":0.2}},\"type\":\"barpolar\"}],\"pie\":[{\"automargin\":true,\"type\":\"pie\"}]},\"layout\":{\"autotypenumbers\":\"strict\",\"colorway\":[\"#636efa\",\"#EF553B\",\"#00cc96\",\"#ab63fa\",\"#FFA15A\",\"#19d3f3\",\"#FF6692\",\"#B6E880\",\"#FF97FF\",\"#FECB52\"],\"font\":{\"color\":\"#2a3f5f\"},\"hovermode\":\"closest\",\"hoverlabel\":{\"align\":\"left\"},\"paper_bgcolor\":\"white\",\"plot_bgcolor\":\"#E5ECF6\",\"polar\":{\"bgcolor\":\"#E5ECF6\",\"angularaxis\":{\"gridcolor\":\"white\",\"linecolor\":\"white\",\"ticks\":\"\"},\"radialaxis\":{\"gridcolor\":\"white\",\"linecolor\":\"white\",\"ticks\":\"\"}},\"ternary\":{\"bgcolor\":\"#E5ECF6\",\"aaxis\":{\"gridcolor\":\"white\",\"linecolor\":\"white\",\"ticks\":\"\"},\"baxis\":{\"gridcolor\":\"white\",\"linecolor\":\"white\",\"ticks\":\"\"},\"caxis\":{\"gridcolor\":\"white\",\"linecolor\":\"white\",\"ticks\":\"\"}},\"coloraxis\":{\"colorbar\":{\"outlinewidth\":0,\"ticks\":\"\"}},\"colorscale\":{\"sequential\":[[0.0,\"#0d0887\"],[0.1111111111111111,\"#46039f\"],[0.2222222222222222,\"#7201a8\"],[0.3333333333333333,\"#9c179e\"],[0.4444444444444444,\"#bd3786\"],[0.5555555555555556,\"#d8576b\"],[0.6666666666666666,\"#ed7953\"],[0.7777777777777778,\"#fb9f3a\"],[0.8888888888888888,\"#fdca26\"],[1.0,\"#f0f921\"]],\"sequentialminus\":[[0.0,\"#0d0887\"],[0.1111111111111111,\"#46039f\"],[0.2222222222222222,\"#7201a8\"],[0.3333333333333333,\"#9c179e\"],[0.4444444444444444,\"#bd3786\"],[0.5555555555555556,\"#d8576b\"],[0.6666666666666666,\"#ed7953\"],[0.7777777777777778,\"#fb9f3a\"],[0.8888888888888888,\"#fdca26\"],[1.0,\"#f0f921\"]],\"diverging\":[[0,\"#8e0152\"],[0.1,\"#c51b7d\"],[0.2,\"#de77ae\"],[0.3,\"#f1b6da\"],[0.4,\"#fde0ef\"],[0.5,\"#f7f7f7\"],[0.6,\"#e6f5d0\"],[0.7,\"#b8e186\"],[0.8,\"#7fbc41\"],[0.9,\"#4d9221\"],[1,\"#276419\"]]},\"xaxis\":{\"gridcolor\":\"white\",\"linecolor\":\"white\",\"ticks\":\"\",\"title\":{\"standoff\":15},\"zerolinecolor\":\"white\",\"automargin\":true,\"zerolinewidth\":2},\"yaxis\":{\"gridcolor\":\"white\",\"linecolor\":\"white\",\"ticks\":\"\",\"title\":{\"standoff\":15},\"zerolinecolor\":\"white\",\"automargin\":true,\"zerolinewidth\":2},\"scene\":{\"xaxis\":{\"backgroundcolor\":\"#E5ECF6\",\"gridcolor\":\"white\",\"linecolor\":\"white\",\"showbackground\":true,\"ticks\":\"\",\"zerolinecolor\":\"white\",\"gridwidth\":2},\"yaxis\":{\"backgroundcolor\":\"#E5ECF6\",\"gridcolor\":\"white\",\"linecolor\":\"white\",\"showbackground\":true,\"ticks\":\"\",\"zerolinecolor\":\"white\",\"gridwidth\":2},\"zaxis\":{\"backgroundcolor\":\"#E5ECF6\",\"gridcolor\":\"white\",\"linecolor\":\"white\",\"showbackground\":true,\"ticks\":\"\",\"zerolinecolor\":\"white\",\"gridwidth\":2}},\"shapedefaults\":{\"line\":{\"color\":\"#2a3f5f\"}},\"annotationdefaults\":{\"arrowcolor\":\"#2a3f5f\",\"arrowhead\":0,\"arrowwidth\":1},\"geo\":{\"bgcolor\":\"white\",\"landcolor\":\"#E5ECF6\",\"subunitcolor\":\"white\",\"showland\":true,\"showlakes\":true,\"lakecolor\":\"white\"},\"title\":{\"x\":0.05},\"mapbox\":{\"style\":\"light\"}}},\"xaxis\":{\"anchor\":\"y\",\"domain\":[0.0,0.45],\"title\":{\"text\":\"Price\"}},\"yaxis\":{\"anchor\":\"x\",\"domain\":[0.0,1.0],\"title\":{\"text\":\"Pnl\"}},\"xaxis2\":{\"anchor\":\"y2\",\"domain\":[0.55,1.0],\"title\":{\"text\":\"Price\"}},\"yaxis2\":{\"anchor\":\"x2\",\"domain\":[0.0,1.0],\"title\":{\"text\":\"Delta\"}},\"title\":{\"text\":\"Todays Option Pos (PnL and Delta)\",\"x\":0.5,\"xanchor\":\"center\"},\"barmode\":\"stack\"},                        {\"responsive\": true}                    ).then(function(){\n",
       "                            \n",
       "var gd = document.getElementById('5db4af5d-d4cc-4b83-a5eb-70bb05824a4f');\n",
       "var x = new MutationObserver(function (mutations, observer) {{\n",
       "        var display = window.getComputedStyle(gd).display;\n",
       "        if (!display || display === 'none') {{\n",
       "            console.log([gd, 'removed!']);\n",
       "            Plotly.purge(gd);\n",
       "            observer.disconnect();\n",
       "        }}\n",
       "}});\n",
       "\n",
       "// Listen for the removal of the full notebook cells\n",
       "var notebookContainer = gd.closest('#notebook-container');\n",
       "if (notebookContainer) {{\n",
       "    x.observe(notebookContainer, {childList: true});\n",
       "}}\n",
       "\n",
       "// Listen for the clearing of the current output cell\n",
       "var outputEl = gd.closest('.output');\n",
       "if (outputEl) {{\n",
       "    x.observe(outputEl, {childList: true});\n",
       "}}\n",
       "\n",
       "                        })                };                });            </script>        </div>"
      ]
     },
     "metadata": {},
     "output_type": "display_data"
    }
   ],
   "source": [
    "pnl_delta_plot(end_of_month)"
   ]
  },
  {
   "cell_type": "markdown",
   "id": "74ba72d0",
   "metadata": {},
   "source": [
    "## One Month"
   ]
  },
  {
   "cell_type": "code",
   "execution_count": 17,
   "id": "072e82ff",
   "metadata": {},
   "outputs": [
    {
     "data": {
      "application/vnd.plotly.v1+json": {
       "config": {
        "plotlyServerURL": "https://plot.ly"
       },
       "data": [
        {
         "name": "EUA Jun24 40P",
         "type": "scatter",
         "x": [
          50,
          51,
          52,
          53,
          54,
          55,
          56,
          57,
          58,
          59,
          60,
          61,
          62,
          63,
          64,
          65,
          66,
          67,
          68,
          69,
          70,
          71,
          72,
          73,
          74,
          75,
          76,
          77,
          78,
          79,
          80,
          81,
          82,
          83,
          84,
          85,
          86,
          87,
          88,
          89,
          90,
          91,
          92,
          93,
          94,
          95,
          96,
          97,
          98,
          99,
          100
         ],
         "xaxis": "x",
         "y": [
          31673.35973041035,
          22384.278921008994,
          14479.438616514635,
          7778.728750005177,
          2119.6340566946483,
          -2643.1268512669785,
          -6638.337461099909,
          -9979.282097691892,
          -12764.912551476787,
          -15081.105108056066,
          -17001.94684533762,
          -18591.004771040996,
          -19902.544118138307,
          -20982.672804140955,
          -21870.397752051205,
          -22598.585624436317,
          -23194.825750947064,
          -23682.196869909898,
          -24079.941993405304,
          -24404.05746546802,
          -24667.803315072142,
          -24882.142483272157,
          -25056.11657334233,
          -25197.165553768824,
          -25311.398431923546,
          -25403.821385516694,
          -25478.529245716745,
          -25538.865611443107,
          -25587.556268035994,
          -25626.820005030404,
          -25658.460389492906,
          -25683.94156021396,
          -25704.450666876906,
          -25720.949187115006,
          -25734.21501127569,
          -25744.8768865739,
          -25753.44255536337,
          -25760.321702306894,
          -25765.84463819453,
          -25770.277489921064,
          -25773.834532978104,
          -25776.68819124395,
          -25778.97713572539,
          -25780.8128364977,
          -25782.284857909723,
          -25783.465134119888,
          -25784.41141834061,
          -25785.170063277084,
          -25785.778260801053,
          -25786.26584483122,
          -25786.65674171136
         ],
         "yaxis": "y"
        },
        {
         "name": "EUA Jun24 40P",
         "type": "scatter",
         "x": [
          50,
          51,
          52,
          53,
          54,
          55,
          56,
          57,
          58,
          59,
          60,
          61,
          62,
          63,
          64,
          65,
          66,
          67,
          68,
          69,
          70,
          71,
          72,
          73,
          74,
          75,
          76,
          77,
          78,
          79,
          80,
          81,
          82,
          83,
          84,
          85,
          86,
          87,
          88,
          89,
          90,
          91,
          92,
          93,
          94,
          95,
          96,
          97,
          98,
          99,
          100
         ],
         "xaxis": "x2",
         "y": [
          -6107.313278133697,
          -5207.442402606393,
          -4422.4200326884065,
          -3741.534637131022,
          -3154.1548382474584,
          -2649.9949275155086,
          -2219.3070200880015,
          -1853.010175931763,
          -1542.7671896071083,
          -1281.0193844603857,
          -1060.988898534987,
          -876.6568262344898,
          -722.7243393688854,
          -594.5626667051507,
          -488.1566379563884,
          -400.04544170805235,
          -327.2633297638106,
          -267.2822290928523,
          -217.95759220543664,
          -177.47831573916574,
          -144.32116997726285,
          -117.20989219740075,
          -95.07888755696526,
          -77.04133715941141,
          -62.361420178158596,
          -50.43030350108113,
          -40.74552829364531,
          -32.893419986723686,
          -26.534159953112145,
          -21.389178460690104,
          -17.23055551172692,
          -13.87214603008613,
          -11.162176481904762,
          -8.977089985612308,
          -7.21644535074395,
          -5.798701716797083,
          -4.657744251262974,
          -3.7400276109544883,
          -3.002232608489974,
          -2.409347878346013,
          -1.9331024805946395,
          -1.5506875185977709,
          -1.2437151936106616,
          -0.9973724861056521,
          -0.7997340428000932,
          -0.6412050465698371,
          -0.5140700238548401,
          -0.4121278521673766,
          -0.3303968024614967,
          -0.26487640396588574,
          -0.2123553526633959
         ],
         "yaxis": "y2"
        },
        {
         "name": "EUA Jun24 50P",
         "type": "scatter",
         "x": [
          50,
          51,
          52,
          53,
          54,
          55,
          56,
          57,
          58,
          59,
          60,
          61,
          62,
          63,
          64,
          65,
          66,
          67,
          68,
          69,
          70,
          71,
          72,
          73,
          74,
          75,
          76,
          77,
          78,
          79,
          80,
          81,
          82,
          83,
          84,
          85,
          86,
          87,
          88,
          89,
          90,
          91,
          92,
          93,
          94,
          95,
          96,
          97,
          98,
          99,
          100
         ],
         "xaxis": "x",
         "y": [
          -187313.4881708569,
          -150929.94651855493,
          -118121.2049676968,
          -88721.46085056031,
          -62537.42440125339,
          -39355.811859348694,
          -18950.492798158954,
          -1089.0281833034192,
          14461.580526755057,
          27930.03351617309,
          39536.801477828325,
          49491.102785974064,
          57988.73009728173,
          65210.63988929038,
          71322.20223466883,
          76473.00140669646,
          80797.07865667348,
          84413.51468823533,
          87427.25916025719,
          89930.12643648165,
          92001.88952966697,
          93711.41682731448,
          95117.80807809217,
          96271.49684340316,
          97215.29595009184,
          97985.37033910584,
          98612.12811897055,
          99121.02570240741,
          99533.28677247865,
          99866.53765577232,
          100135.36364331555,
          100351.79205761624,
          100525.70856517316,
          100665.21350898128,
          100776.9249967359,
          100866.23522025676,
          100937.5260747829,
          100994.34965187221,
          101039.57864129529,
          101075.53112855263,
          101104.07373872957,
          101126.70657009662,
          101144.63289177805,
          101158.81615424517,
          101170.02648114636,
          101178.87847562357,
          101185.86188177479,
          101191.36638918357,
          101195.70165197125,
          101199.11340972708,
          101201.79644219595
         ],
         "yaxis": "y"
        },
        {
         "name": "EUA Jun24 50P",
         "type": "scatter",
         "x": [
          50,
          51,
          52,
          53,
          54,
          55,
          56,
          57,
          58,
          59,
          60,
          61,
          62,
          63,
          64,
          65,
          66,
          67,
          68,
          69,
          70,
          71,
          72,
          73,
          74,
          75,
          76,
          77,
          78,
          79,
          80,
          81,
          82,
          83,
          84,
          85,
          86,
          87,
          88,
          89,
          90,
          91,
          92,
          93,
          94,
          95,
          96,
          97,
          98,
          99,
          100
         ],
         "xaxis": "x2",
         "y": [
          23234.809819181646,
          21017.800593443288,
          18891.706390089195,
          16875.53565643491,
          14983.702537236932,
          13226.13977650669,
          11608.597673749544,
          10133.077390706285,
          8798.349064015787,
          7600.510570442609,
          6533.55011818888,
          5589.883986705846,
          4760.848836529141,
          4037.1354432925664,
          3409.15709611177,
          2867.351059046458,
          2402.415398124835,
          2005.4862061213985,
          1668.2619603944127,
          1383.0826061524638,
          1142.9711566286526,
          941.6453208163422,
          773.5060657985293,
          633.6092251633673,
          517.625380812986,
          421.792349675898,
          342.86375322268304,
          278.0563706227479,
          224.99829478743183,
          181.67933168393714,
          146.40460613057348,
          117.75195523821557,
          94.53339390727011,
          75.76071389059358,
          60.615117086787464,
          48.420673582633135,
          38.62132513141048,
          30.76111609191523,
          24.467318560672524,
          19.43612003997286,
          15.420555269363145,
          12.220384690497799,
          9.673647255764584,
          7.649642572638005,
          6.043125000482208,
          4.76951910998169,
          3.760991112150558,
          2.963234009883964,
          2.3328450955206748,
          1.8351929538196199,
          1.4426873838346843
         ],
         "yaxis": "y2"
        },
        {
         "name": "EUA Jun24 70C",
         "type": "scatter",
         "x": [
          50,
          51,
          52,
          53,
          54,
          55,
          56,
          57,
          58,
          59,
          60,
          61,
          62,
          63,
          64,
          65,
          66,
          67,
          68,
          69,
          70,
          71,
          72,
          73,
          74,
          75,
          76,
          77,
          78,
          79,
          80,
          81,
          82,
          83,
          84,
          85,
          86,
          87,
          88,
          89,
          90,
          91,
          92,
          93,
          94,
          95,
          96,
          97,
          98,
          99,
          100
         ],
         "xaxis": "x",
         "y": [
          136180.00140294345,
          134816.12383480085,
          132934.95373262465,
          130394.78890141756,
          127032.75193964629,
          122666.14914836439,
          117094.92936227283,
          110105.1996241208,
          101473.67476176229,
          90972.86697470918,
          78376.76631463351,
          63466.728239481476,
          46037.272567208885,
          25901.508978141086,
          2895.9353018628963,
          -23115.59796502443,
          -52238.905350082045,
          -84547.55134954088,
          -120082.02439755203,
          -158849.96317184507,
          -200827.3485430196,
          -245960.53535093725,
          -294168.9711430279,
          -345348.43410868954,
          -399374.6188384044,
          -456106.9046898741,
          -515392.1554932589,
          -577068.4189225067,
          -640968.4169656326,
          -706922.7435845501,
          -774762.7101885247,
          -844322.8026225994,
          -915442.7340243662,
          -987969.0955102243,
          -1061756.620909545,
          -1136669.0926275684,
          -1212579.9233450568,
          -1289372.4529604015,
          -1366940.0023456335,
          -1445185.725565592,
          -1524022.30065074,
          -1603371.4962501945,
          -1683163.6479131945,
          -1763337.073693242,
          -1843837.4545199294,
          -1924617.200561273,
          -2005634.8207705435,
          -2086854.3090929673,
          -2168244.557472678,
          -2249778.8028871785,
          -2331434.113155057
         ],
         "yaxis": "y"
        },
        {
         "name": "EUA Jun24 70C",
         "type": "scatter",
         "x": [
          50,
          51,
          52,
          53,
          54,
          55,
          56,
          57,
          58,
          59,
          60,
          61,
          62,
          63,
          64,
          65,
          66,
          67,
          68,
          69,
          70,
          71,
          72,
          73,
          74,
          75,
          76,
          77,
          78,
          79,
          80,
          81,
          82,
          83,
          84,
          85,
          86,
          87,
          88,
          89,
          90,
          91,
          92,
          93,
          94,
          95,
          96,
          97,
          98,
          99,
          100
         ],
         "xaxis": "x2",
         "y": [
          -697.3751486317351,
          -973.1592064470657,
          -1328.5441151998284,
          -1776.597043335694,
          -2329.889673732325,
          -2999.832969521706,
          -3796.0132584979497,
          -4725.579292997875,
          -5792.726903652132,
          -6998.320201835368,
          -8339.677032270316,
          -9810.532935487987,
          -11401.18379400862,
          -13098.794078324778,
          -14887.846403866357,
          -16750.699819820828,
          -18668.219323472757,
          -20620.43757562156,
          -22587.211385676124,
          -24548.83968649274,
          -26486.61572360596,
          -28383.293282907336,
          -30223.45424921575,
          -31993.771996460313,
          -33683.17156644275,
          -35282.89296020603,
          -36786.4679596718,
          -38189.62366976287,
          -39490.127485984594,
          -40687.58859371898,
          -41783.23058848188,
          -42779.64858982251,
          -43680.56252497693,
          -44490.57628518696,
          -45214.95038350221,
          -45859.39370979999,
          -46429.87809283693,
          -46932.477712188345,
          -47373.23399604681,
          -47758.04550947438,
          -48092.58147713415,
          -48382.216975457915,
          -48631.9874427586,
          -48846.55995785468,
          -49030.21869247608,
          -49186.86201509753,
          -49320.00888165868,
          -49432.81236352131,
          -49528.07841108032,
          -49608.288213367705,
          -49675.622774852665
         ],
         "yaxis": "y2"
        },
        {
         "name": "EUA Jun24 80C",
         "type": "scatter",
         "x": [
          50,
          51,
          52,
          53,
          54,
          55,
          56,
          57,
          58,
          59,
          60,
          61,
          62,
          63,
          64,
          65,
          66,
          67,
          68,
          69,
          70,
          71,
          72,
          73,
          74,
          75,
          76,
          77,
          78,
          79,
          80,
          81,
          82,
          83,
          84,
          85,
          86,
          87,
          88,
          89,
          90,
          91,
          92,
          93,
          94,
          95,
          96,
          97,
          98,
          99,
          100
         ],
         "xaxis": "x",
         "y": [
          -38394.89470554111,
          -38282.57679057892,
          -38111.426280743464,
          -37856.672210206874,
          -37485.80660777785,
          -36957.15491109709,
          -36218.4776925467,
          -35205.69148244887,
          -33841.80334711831,
          -32036.153834146902,
          -29684.055286471445,
          -26666.89746151463,
          -22852.770747605362,
          -18097.63059502483,
          -12246.997122321603,
          -5138.153544707201,
          3397.2215450793337,
          13530.07778225583,
          25430.78143449359,
          39265.78988825305,
          55194.33846977696,
          73365.26344166877,
          93914.0757993711,
          116960.38550373956,
          142605.75638319942,
          170932.04965801907,
          202000.2904548608,
          235850.0682808793,
          272499.4605170596,
          311945.44862001186,
          354164.78064746433,
          399115.22140116687,
          446737.1230814808,
          496955.2447875072,
          549680.7481858567,
          604813.2987669999,
          662243.2067670419,
          721853.5484619307,
          783522.216541421,
          847123.8570735093,
          912531.659664821,
          979618.9763727417,
          1048260.75337919,
          1118334.7671296143,
          1189722.6633941168,
          1262310.803416913,
          1335990.9259486268,
          1410660.6375212763,
          1486223.745888215,
          1562590.453202284,
          1639677.4263557272
         ],
         "yaxis": "y"
        },
        {
         "name": "EUA Jun24 80C",
         "type": "scatter",
         "x": [
          50,
          51,
          52,
          53,
          54,
          55,
          56,
          57,
          58,
          59,
          60,
          61,
          62,
          63,
          64,
          65,
          66,
          67,
          68,
          69,
          70,
          71,
          72,
          73,
          74,
          75,
          76,
          77,
          78,
          79,
          80,
          81,
          82,
          83,
          84,
          85,
          86,
          87,
          88,
          89,
          90,
          91,
          92,
          93,
          94,
          95,
          96,
          97,
          98,
          99,
          100
         ],
         "xaxis": "x2",
         "y": [
          54.41488798284673,
          84.00744168858704,
          126.59279761634598,
          186.4457296529298,
          268.7036279288249,
          379.3718514564459,
          525.2790198122607,
          713.9761994990249,
          953.5778077745156,
          1252.5465328771131,
          1619.4292146120563,
          2062.554969719263,
          2589.7104363403755,
          3207.809487667527,
          3922.575886616384,
          4738.257027737072,
          5657.385195401701,
          6680.599847947699,
          7806.540608660981,
          9031.81626335465,
          10351.050510292662,
          11757.000843606183,
          13240.743088508572,
          14791.91098469173,
          16398.977986609036,
          18049.56718105073,
          19730.774896889983,
          21429.494113874163,
          23132.725030183843,
          24827.861953004198,
          26502.94784931943,
          28146.890254649672,
          29749.634620093773,
          31302.2934423782,
          32797.231557795145,
          34228.10971188045,
          35589.88989735626,
          36878.80696716211,
          38092.311685698645,
          39228.990707221856,
          40288.46900673987,
          41271.300085142415,
          42178.848879568955,
          43013.17178478052,
          43776.8975807718,
          44473.11240978037,
          45105.25128917442,
          45676.99801501739,
          46192.194726639005,
          46654.76188058522,
          47068.628931982574
         ],
         "yaxis": "y2"
        },
        {
         "mode": "lines",
         "name": "Total_PnL",
         "type": "scatter",
         "x": [
          50,
          51,
          52,
          53,
          54,
          55,
          56,
          57,
          58,
          59,
          60,
          61,
          62,
          63,
          64,
          65,
          66,
          67,
          68,
          69,
          70,
          71,
          72,
          73,
          74,
          75,
          76,
          77,
          78,
          79,
          80,
          81,
          82,
          83,
          84,
          85,
          86,
          87,
          88,
          89,
          90,
          91,
          92,
          93,
          94,
          95,
          96,
          97,
          98,
          99,
          100
         ],
         "xaxis": "x",
         "y": [
          -57855.0217430442,
          -32012.120553324006,
          -8818.238899300974,
          11595.38459065555,
          29129.154987309696,
          43710.05552665164,
          55287.62141046727,
          63831.19786067661,
          69328.53938992225,
          71785.6415486793,
          71227.56566065278,
          67699.92879289991,
          61270.68779874695,
          52031.84546826569,
          40100.74266215892,
          25620.664272528516,
          8760.5691007237,
          -10286.155748959616,
          -31303.925796206546,
          -54058.1043125784,
          -78298.92385864782,
          -103765.99756522616,
          -130193.20383890693,
          -157313.71731531565,
          -184864.96493703668,
          -212593.30607826592,
          -240258.2661651443,
          -267636.19055066316,
          -294523.2259441304,
          -320737.5773137963,
          -346121.02628723765,
          -370539.7307240303,
          -393884.3530445892,
          -416069.5864008509,
          -437033.1627382282,
          -456734.4355268857,
          -475152.63305859524,
          -492284.8765489055,
          -508144.05180111167,
          -522756.61485345114,
          -536160.4017801675,
          -548402.5014986001,
          -559537.2387779519,
          -569624.3032458802,
          -578727.049502576,
          -586910.9838028564,
          -594242.4443584825,
          -600787.4752457845,
          -606610.8881932928,
          -611775.5021199984,
          -616341.5470988455
         ],
         "yaxis": "y"
        },
        {
         "mode": "lines",
         "name": "Total_Delta",
         "type": "scatter",
         "x": [
          50,
          51,
          52,
          53,
          54,
          55,
          56,
          57,
          58,
          59,
          60,
          61,
          62,
          63,
          64,
          65,
          66,
          67,
          68,
          69,
          70,
          71,
          72,
          73,
          74,
          75,
          76,
          77,
          78,
          79,
          80,
          81,
          82,
          83,
          84,
          85,
          86,
          87,
          88,
          89,
          90,
          91,
          92,
          93,
          94,
          95,
          96,
          97,
          98,
          99,
          100
         ],
         "xaxis": "x2",
         "y": [
          16484.53628039906,
          14921.206426078415,
          13267.335039817308,
          11543.849705621122,
          9768.361653185973,
          7955.683730925922,
          6118.556414975854,
          4268.464121275672,
          2416.4327785310625,
          573.7175170239686,
          -1247.6865980043665,
          -3034.7508052973676,
          -4773.348860507989,
          -6448.411814069835,
          -8044.270059094591,
          -9545.137174745349,
          -10935.68205971003,
          -12201.633750645316,
          -13330.366408826168,
          -14311.419132724792,
          -15136.915226661906,
          -15801.857010682212,
          -16304.283982465613,
          -16645.293123764626,
          -16828.929619198887,
          -16861.963732980486,
          -16753.57483785278,
          -16514.96660525268,
          -16158.93832096643,
          -15699.436487491534,
          -15151.108688543605,
          -14528.878525964708,
          -13847.556687457789,
          -13121.49921890378,
          -12364.32015397102,
          -11588.662026053702,
          -10806.024614600523,
          -10026.649656545269,
          -9259.457224395985,
          -8512.0280300909,
          -7790.625017605511,
          -7100.247193143601,
          -6444.708631127491,
          -5826.735902987632,
          -5248.077720746602,
          -4709.621291253752,
          -4211.510671395961,
          -3753.2632423462055,
          -3333.881236148256,
          -2951.9560162326306,
          -2605.7635108389222
         ],
         "yaxis": "y2"
        }
       ],
       "layout": {
        "barmode": "stack",
        "template": {
         "data": {
          "bar": [
           {
            "error_x": {
             "color": "#2a3f5f"
            },
            "error_y": {
             "color": "#2a3f5f"
            },
            "marker": {
             "line": {
              "color": "#E5ECF6",
              "width": 0.5
             },
             "pattern": {
              "fillmode": "overlay",
              "size": 10,
              "solidity": 0.2
             }
            },
            "type": "bar"
           }
          ],
          "barpolar": [
           {
            "marker": {
             "line": {
              "color": "#E5ECF6",
              "width": 0.5
             },
             "pattern": {
              "fillmode": "overlay",
              "size": 10,
              "solidity": 0.2
             }
            },
            "type": "barpolar"
           }
          ],
          "carpet": [
           {
            "aaxis": {
             "endlinecolor": "#2a3f5f",
             "gridcolor": "white",
             "linecolor": "white",
             "minorgridcolor": "white",
             "startlinecolor": "#2a3f5f"
            },
            "baxis": {
             "endlinecolor": "#2a3f5f",
             "gridcolor": "white",
             "linecolor": "white",
             "minorgridcolor": "white",
             "startlinecolor": "#2a3f5f"
            },
            "type": "carpet"
           }
          ],
          "choropleth": [
           {
            "colorbar": {
             "outlinewidth": 0,
             "ticks": ""
            },
            "type": "choropleth"
           }
          ],
          "contour": [
           {
            "colorbar": {
             "outlinewidth": 0,
             "ticks": ""
            },
            "colorscale": [
             [
              0,
              "#0d0887"
             ],
             [
              0.1111111111111111,
              "#46039f"
             ],
             [
              0.2222222222222222,
              "#7201a8"
             ],
             [
              0.3333333333333333,
              "#9c179e"
             ],
             [
              0.4444444444444444,
              "#bd3786"
             ],
             [
              0.5555555555555556,
              "#d8576b"
             ],
             [
              0.6666666666666666,
              "#ed7953"
             ],
             [
              0.7777777777777778,
              "#fb9f3a"
             ],
             [
              0.8888888888888888,
              "#fdca26"
             ],
             [
              1,
              "#f0f921"
             ]
            ],
            "type": "contour"
           }
          ],
          "contourcarpet": [
           {
            "colorbar": {
             "outlinewidth": 0,
             "ticks": ""
            },
            "type": "contourcarpet"
           }
          ],
          "heatmap": [
           {
            "colorbar": {
             "outlinewidth": 0,
             "ticks": ""
            },
            "colorscale": [
             [
              0,
              "#0d0887"
             ],
             [
              0.1111111111111111,
              "#46039f"
             ],
             [
              0.2222222222222222,
              "#7201a8"
             ],
             [
              0.3333333333333333,
              "#9c179e"
             ],
             [
              0.4444444444444444,
              "#bd3786"
             ],
             [
              0.5555555555555556,
              "#d8576b"
             ],
             [
              0.6666666666666666,
              "#ed7953"
             ],
             [
              0.7777777777777778,
              "#fb9f3a"
             ],
             [
              0.8888888888888888,
              "#fdca26"
             ],
             [
              1,
              "#f0f921"
             ]
            ],
            "type": "heatmap"
           }
          ],
          "heatmapgl": [
           {
            "colorbar": {
             "outlinewidth": 0,
             "ticks": ""
            },
            "colorscale": [
             [
              0,
              "#0d0887"
             ],
             [
              0.1111111111111111,
              "#46039f"
             ],
             [
              0.2222222222222222,
              "#7201a8"
             ],
             [
              0.3333333333333333,
              "#9c179e"
             ],
             [
              0.4444444444444444,
              "#bd3786"
             ],
             [
              0.5555555555555556,
              "#d8576b"
             ],
             [
              0.6666666666666666,
              "#ed7953"
             ],
             [
              0.7777777777777778,
              "#fb9f3a"
             ],
             [
              0.8888888888888888,
              "#fdca26"
             ],
             [
              1,
              "#f0f921"
             ]
            ],
            "type": "heatmapgl"
           }
          ],
          "histogram": [
           {
            "marker": {
             "pattern": {
              "fillmode": "overlay",
              "size": 10,
              "solidity": 0.2
             }
            },
            "type": "histogram"
           }
          ],
          "histogram2d": [
           {
            "colorbar": {
             "outlinewidth": 0,
             "ticks": ""
            },
            "colorscale": [
             [
              0,
              "#0d0887"
             ],
             [
              0.1111111111111111,
              "#46039f"
             ],
             [
              0.2222222222222222,
              "#7201a8"
             ],
             [
              0.3333333333333333,
              "#9c179e"
             ],
             [
              0.4444444444444444,
              "#bd3786"
             ],
             [
              0.5555555555555556,
              "#d8576b"
             ],
             [
              0.6666666666666666,
              "#ed7953"
             ],
             [
              0.7777777777777778,
              "#fb9f3a"
             ],
             [
              0.8888888888888888,
              "#fdca26"
             ],
             [
              1,
              "#f0f921"
             ]
            ],
            "type": "histogram2d"
           }
          ],
          "histogram2dcontour": [
           {
            "colorbar": {
             "outlinewidth": 0,
             "ticks": ""
            },
            "colorscale": [
             [
              0,
              "#0d0887"
             ],
             [
              0.1111111111111111,
              "#46039f"
             ],
             [
              0.2222222222222222,
              "#7201a8"
             ],
             [
              0.3333333333333333,
              "#9c179e"
             ],
             [
              0.4444444444444444,
              "#bd3786"
             ],
             [
              0.5555555555555556,
              "#d8576b"
             ],
             [
              0.6666666666666666,
              "#ed7953"
             ],
             [
              0.7777777777777778,
              "#fb9f3a"
             ],
             [
              0.8888888888888888,
              "#fdca26"
             ],
             [
              1,
              "#f0f921"
             ]
            ],
            "type": "histogram2dcontour"
           }
          ],
          "mesh3d": [
           {
            "colorbar": {
             "outlinewidth": 0,
             "ticks": ""
            },
            "type": "mesh3d"
           }
          ],
          "parcoords": [
           {
            "line": {
             "colorbar": {
              "outlinewidth": 0,
              "ticks": ""
             }
            },
            "type": "parcoords"
           }
          ],
          "pie": [
           {
            "automargin": true,
            "type": "pie"
           }
          ],
          "scatter": [
           {
            "fillpattern": {
             "fillmode": "overlay",
             "size": 10,
             "solidity": 0.2
            },
            "type": "scatter"
           }
          ],
          "scatter3d": [
           {
            "line": {
             "colorbar": {
              "outlinewidth": 0,
              "ticks": ""
             }
            },
            "marker": {
             "colorbar": {
              "outlinewidth": 0,
              "ticks": ""
             }
            },
            "type": "scatter3d"
           }
          ],
          "scattercarpet": [
           {
            "marker": {
             "colorbar": {
              "outlinewidth": 0,
              "ticks": ""
             }
            },
            "type": "scattercarpet"
           }
          ],
          "scattergeo": [
           {
            "marker": {
             "colorbar": {
              "outlinewidth": 0,
              "ticks": ""
             }
            },
            "type": "scattergeo"
           }
          ],
          "scattergl": [
           {
            "marker": {
             "colorbar": {
              "outlinewidth": 0,
              "ticks": ""
             }
            },
            "type": "scattergl"
           }
          ],
          "scattermapbox": [
           {
            "marker": {
             "colorbar": {
              "outlinewidth": 0,
              "ticks": ""
             }
            },
            "type": "scattermapbox"
           }
          ],
          "scatterpolar": [
           {
            "marker": {
             "colorbar": {
              "outlinewidth": 0,
              "ticks": ""
             }
            },
            "type": "scatterpolar"
           }
          ],
          "scatterpolargl": [
           {
            "marker": {
             "colorbar": {
              "outlinewidth": 0,
              "ticks": ""
             }
            },
            "type": "scatterpolargl"
           }
          ],
          "scatterternary": [
           {
            "marker": {
             "colorbar": {
              "outlinewidth": 0,
              "ticks": ""
             }
            },
            "type": "scatterternary"
           }
          ],
          "surface": [
           {
            "colorbar": {
             "outlinewidth": 0,
             "ticks": ""
            },
            "colorscale": [
             [
              0,
              "#0d0887"
             ],
             [
              0.1111111111111111,
              "#46039f"
             ],
             [
              0.2222222222222222,
              "#7201a8"
             ],
             [
              0.3333333333333333,
              "#9c179e"
             ],
             [
              0.4444444444444444,
              "#bd3786"
             ],
             [
              0.5555555555555556,
              "#d8576b"
             ],
             [
              0.6666666666666666,
              "#ed7953"
             ],
             [
              0.7777777777777778,
              "#fb9f3a"
             ],
             [
              0.8888888888888888,
              "#fdca26"
             ],
             [
              1,
              "#f0f921"
             ]
            ],
            "type": "surface"
           }
          ],
          "table": [
           {
            "cells": {
             "fill": {
              "color": "#EBF0F8"
             },
             "line": {
              "color": "white"
             }
            },
            "header": {
             "fill": {
              "color": "#C8D4E3"
             },
             "line": {
              "color": "white"
             }
            },
            "type": "table"
           }
          ]
         },
         "layout": {
          "annotationdefaults": {
           "arrowcolor": "#2a3f5f",
           "arrowhead": 0,
           "arrowwidth": 1
          },
          "autotypenumbers": "strict",
          "coloraxis": {
           "colorbar": {
            "outlinewidth": 0,
            "ticks": ""
           }
          },
          "colorscale": {
           "diverging": [
            [
             0,
             "#8e0152"
            ],
            [
             0.1,
             "#c51b7d"
            ],
            [
             0.2,
             "#de77ae"
            ],
            [
             0.3,
             "#f1b6da"
            ],
            [
             0.4,
             "#fde0ef"
            ],
            [
             0.5,
             "#f7f7f7"
            ],
            [
             0.6,
             "#e6f5d0"
            ],
            [
             0.7,
             "#b8e186"
            ],
            [
             0.8,
             "#7fbc41"
            ],
            [
             0.9,
             "#4d9221"
            ],
            [
             1,
             "#276419"
            ]
           ],
           "sequential": [
            [
             0,
             "#0d0887"
            ],
            [
             0.1111111111111111,
             "#46039f"
            ],
            [
             0.2222222222222222,
             "#7201a8"
            ],
            [
             0.3333333333333333,
             "#9c179e"
            ],
            [
             0.4444444444444444,
             "#bd3786"
            ],
            [
             0.5555555555555556,
             "#d8576b"
            ],
            [
             0.6666666666666666,
             "#ed7953"
            ],
            [
             0.7777777777777778,
             "#fb9f3a"
            ],
            [
             0.8888888888888888,
             "#fdca26"
            ],
            [
             1,
             "#f0f921"
            ]
           ],
           "sequentialminus": [
            [
             0,
             "#0d0887"
            ],
            [
             0.1111111111111111,
             "#46039f"
            ],
            [
             0.2222222222222222,
             "#7201a8"
            ],
            [
             0.3333333333333333,
             "#9c179e"
            ],
            [
             0.4444444444444444,
             "#bd3786"
            ],
            [
             0.5555555555555556,
             "#d8576b"
            ],
            [
             0.6666666666666666,
             "#ed7953"
            ],
            [
             0.7777777777777778,
             "#fb9f3a"
            ],
            [
             0.8888888888888888,
             "#fdca26"
            ],
            [
             1,
             "#f0f921"
            ]
           ]
          },
          "colorway": [
           "#636efa",
           "#EF553B",
           "#00cc96",
           "#ab63fa",
           "#FFA15A",
           "#19d3f3",
           "#FF6692",
           "#B6E880",
           "#FF97FF",
           "#FECB52"
          ],
          "font": {
           "color": "#2a3f5f"
          },
          "geo": {
           "bgcolor": "white",
           "lakecolor": "white",
           "landcolor": "#E5ECF6",
           "showlakes": true,
           "showland": true,
           "subunitcolor": "white"
          },
          "hoverlabel": {
           "align": "left"
          },
          "hovermode": "closest",
          "mapbox": {
           "style": "light"
          },
          "paper_bgcolor": "white",
          "plot_bgcolor": "#E5ECF6",
          "polar": {
           "angularaxis": {
            "gridcolor": "white",
            "linecolor": "white",
            "ticks": ""
           },
           "bgcolor": "#E5ECF6",
           "radialaxis": {
            "gridcolor": "white",
            "linecolor": "white",
            "ticks": ""
           }
          },
          "scene": {
           "xaxis": {
            "backgroundcolor": "#E5ECF6",
            "gridcolor": "white",
            "gridwidth": 2,
            "linecolor": "white",
            "showbackground": true,
            "ticks": "",
            "zerolinecolor": "white"
           },
           "yaxis": {
            "backgroundcolor": "#E5ECF6",
            "gridcolor": "white",
            "gridwidth": 2,
            "linecolor": "white",
            "showbackground": true,
            "ticks": "",
            "zerolinecolor": "white"
           },
           "zaxis": {
            "backgroundcolor": "#E5ECF6",
            "gridcolor": "white",
            "gridwidth": 2,
            "linecolor": "white",
            "showbackground": true,
            "ticks": "",
            "zerolinecolor": "white"
           }
          },
          "shapedefaults": {
           "line": {
            "color": "#2a3f5f"
           }
          },
          "ternary": {
           "aaxis": {
            "gridcolor": "white",
            "linecolor": "white",
            "ticks": ""
           },
           "baxis": {
            "gridcolor": "white",
            "linecolor": "white",
            "ticks": ""
           },
           "bgcolor": "#E5ECF6",
           "caxis": {
            "gridcolor": "white",
            "linecolor": "white",
            "ticks": ""
           }
          },
          "title": {
           "x": 0.05
          },
          "xaxis": {
           "automargin": true,
           "gridcolor": "white",
           "linecolor": "white",
           "ticks": "",
           "title": {
            "standoff": 15
           },
           "zerolinecolor": "white",
           "zerolinewidth": 2
          },
          "yaxis": {
           "automargin": true,
           "gridcolor": "white",
           "linecolor": "white",
           "ticks": "",
           "title": {
            "standoff": 15
           },
           "zerolinecolor": "white",
           "zerolinewidth": 2
          }
         }
        },
        "title": {
         "text": "Todays Option Pos (PnL and Delta)",
         "x": 0.5,
         "xanchor": "center"
        },
        "xaxis": {
         "anchor": "y",
         "domain": [
          0,
          0.45
         ],
         "title": {
          "text": "Price"
         }
        },
        "xaxis2": {
         "anchor": "y2",
         "domain": [
          0.55,
          1
         ],
         "title": {
          "text": "Price"
         }
        },
        "yaxis": {
         "anchor": "x",
         "domain": [
          0,
          1
         ],
         "title": {
          "text": "Pnl"
         }
        },
        "yaxis2": {
         "anchor": "x2",
         "domain": [
          0,
          1
         ],
         "title": {
          "text": "Delta"
         }
        }
       }
      },
      "text/html": [
       "<div>                            <div id=\"35a97423-e9bb-4f1a-801d-14bf882c4532\" class=\"plotly-graph-div\" style=\"height:525px; width:100%;\"></div>            <script type=\"text/javascript\">                require([\"plotly\"], function(Plotly) {                    window.PLOTLYENV=window.PLOTLYENV || {};                                    if (document.getElementById(\"35a97423-e9bb-4f1a-801d-14bf882c4532\")) {                    Plotly.newPlot(                        \"35a97423-e9bb-4f1a-801d-14bf882c4532\",                        [{\"name\":\"EUA Jun24 40P\",\"x\":[50,51,52,53,54,55,56,57,58,59,60,61,62,63,64,65,66,67,68,69,70,71,72,73,74,75,76,77,78,79,80,81,82,83,84,85,86,87,88,89,90,91,92,93,94,95,96,97,98,99,100],\"y\":[31673.35973041035,22384.278921008994,14479.438616514635,7778.728750005177,2119.6340566946483,-2643.1268512669785,-6638.337461099909,-9979.282097691892,-12764.912551476787,-15081.105108056066,-17001.94684533762,-18591.004771040996,-19902.544118138307,-20982.672804140955,-21870.397752051205,-22598.585624436317,-23194.825750947064,-23682.196869909898,-24079.941993405304,-24404.05746546802,-24667.803315072142,-24882.142483272157,-25056.11657334233,-25197.165553768824,-25311.398431923546,-25403.821385516694,-25478.529245716745,-25538.865611443107,-25587.556268035994,-25626.820005030404,-25658.460389492906,-25683.94156021396,-25704.450666876906,-25720.949187115006,-25734.21501127569,-25744.8768865739,-25753.44255536337,-25760.321702306894,-25765.84463819453,-25770.277489921064,-25773.834532978104,-25776.68819124395,-25778.97713572539,-25780.8128364977,-25782.284857909723,-25783.465134119888,-25784.41141834061,-25785.170063277084,-25785.778260801053,-25786.26584483122,-25786.65674171136],\"type\":\"scatter\",\"xaxis\":\"x\",\"yaxis\":\"y\"},{\"name\":\"EUA Jun24 40P\",\"x\":[50,51,52,53,54,55,56,57,58,59,60,61,62,63,64,65,66,67,68,69,70,71,72,73,74,75,76,77,78,79,80,81,82,83,84,85,86,87,88,89,90,91,92,93,94,95,96,97,98,99,100],\"y\":[-6107.313278133697,-5207.442402606393,-4422.4200326884065,-3741.534637131022,-3154.1548382474584,-2649.9949275155086,-2219.3070200880015,-1853.010175931763,-1542.7671896071083,-1281.0193844603857,-1060.988898534987,-876.6568262344898,-722.7243393688854,-594.5626667051507,-488.1566379563884,-400.04544170805235,-327.2633297638106,-267.2822290928523,-217.95759220543664,-177.47831573916574,-144.32116997726285,-117.20989219740075,-95.07888755696526,-77.04133715941141,-62.361420178158596,-50.43030350108113,-40.74552829364531,-32.893419986723686,-26.534159953112145,-21.389178460690104,-17.23055551172692,-13.87214603008613,-11.162176481904762,-8.977089985612308,-7.21644535074395,-5.798701716797083,-4.657744251262974,-3.7400276109544883,-3.002232608489974,-2.409347878346013,-1.9331024805946395,-1.5506875185977709,-1.2437151936106616,-0.9973724861056521,-0.7997340428000932,-0.6412050465698371,-0.5140700238548401,-0.4121278521673766,-0.3303968024614967,-0.26487640396588574,-0.2123553526633959],\"type\":\"scatter\",\"xaxis\":\"x2\",\"yaxis\":\"y2\"},{\"name\":\"EUA Jun24 50P\",\"x\":[50,51,52,53,54,55,56,57,58,59,60,61,62,63,64,65,66,67,68,69,70,71,72,73,74,75,76,77,78,79,80,81,82,83,84,85,86,87,88,89,90,91,92,93,94,95,96,97,98,99,100],\"y\":[-187313.4881708569,-150929.94651855493,-118121.2049676968,-88721.46085056031,-62537.42440125339,-39355.811859348694,-18950.492798158954,-1089.0281833034192,14461.580526755057,27930.03351617309,39536.801477828325,49491.102785974064,57988.73009728173,65210.63988929038,71322.20223466883,76473.00140669646,80797.07865667348,84413.51468823533,87427.25916025719,89930.12643648165,92001.88952966697,93711.41682731448,95117.80807809217,96271.49684340316,97215.29595009184,97985.37033910584,98612.12811897055,99121.02570240741,99533.28677247865,99866.53765577232,100135.36364331555,100351.79205761624,100525.70856517316,100665.21350898128,100776.9249967359,100866.23522025676,100937.5260747829,100994.34965187221,101039.57864129529,101075.53112855263,101104.07373872957,101126.70657009662,101144.63289177805,101158.81615424517,101170.02648114636,101178.87847562357,101185.86188177479,101191.36638918357,101195.70165197125,101199.11340972708,101201.79644219595],\"type\":\"scatter\",\"xaxis\":\"x\",\"yaxis\":\"y\"},{\"name\":\"EUA Jun24 50P\",\"x\":[50,51,52,53,54,55,56,57,58,59,60,61,62,63,64,65,66,67,68,69,70,71,72,73,74,75,76,77,78,79,80,81,82,83,84,85,86,87,88,89,90,91,92,93,94,95,96,97,98,99,100],\"y\":[23234.809819181646,21017.800593443288,18891.706390089195,16875.53565643491,14983.702537236932,13226.13977650669,11608.597673749544,10133.077390706285,8798.349064015787,7600.510570442609,6533.55011818888,5589.883986705846,4760.848836529141,4037.1354432925664,3409.15709611177,2867.351059046458,2402.415398124835,2005.4862061213985,1668.2619603944127,1383.0826061524638,1142.9711566286526,941.6453208163422,773.5060657985293,633.6092251633673,517.625380812986,421.792349675898,342.86375322268304,278.0563706227479,224.99829478743183,181.67933168393714,146.40460613057348,117.75195523821557,94.53339390727011,75.76071389059358,60.615117086787464,48.420673582633135,38.62132513141048,30.76111609191523,24.467318560672524,19.43612003997286,15.420555269363145,12.220384690497799,9.673647255764584,7.649642572638005,6.043125000482208,4.76951910998169,3.760991112150558,2.963234009883964,2.3328450955206748,1.8351929538196199,1.4426873838346843],\"type\":\"scatter\",\"xaxis\":\"x2\",\"yaxis\":\"y2\"},{\"name\":\"EUA Jun24 70C\",\"x\":[50,51,52,53,54,55,56,57,58,59,60,61,62,63,64,65,66,67,68,69,70,71,72,73,74,75,76,77,78,79,80,81,82,83,84,85,86,87,88,89,90,91,92,93,94,95,96,97,98,99,100],\"y\":[136180.00140294345,134816.12383480085,132934.95373262465,130394.78890141756,127032.75193964629,122666.14914836439,117094.92936227283,110105.1996241208,101473.67476176229,90972.86697470918,78376.76631463351,63466.728239481476,46037.272567208885,25901.508978141086,2895.9353018628963,-23115.59796502443,-52238.905350082045,-84547.55134954088,-120082.02439755203,-158849.96317184507,-200827.3485430196,-245960.53535093725,-294168.9711430279,-345348.43410868954,-399374.6188384044,-456106.9046898741,-515392.1554932589,-577068.4189225067,-640968.4169656326,-706922.7435845501,-774762.7101885247,-844322.8026225994,-915442.7340243662,-987969.0955102243,-1061756.620909545,-1136669.0926275684,-1212579.9233450568,-1289372.4529604015,-1366940.0023456335,-1445185.725565592,-1524022.30065074,-1603371.4962501945,-1683163.6479131945,-1763337.073693242,-1843837.4545199294,-1924617.200561273,-2005634.8207705435,-2086854.3090929673,-2168244.557472678,-2249778.8028871785,-2331434.113155057],\"type\":\"scatter\",\"xaxis\":\"x\",\"yaxis\":\"y\"},{\"name\":\"EUA Jun24 70C\",\"x\":[50,51,52,53,54,55,56,57,58,59,60,61,62,63,64,65,66,67,68,69,70,71,72,73,74,75,76,77,78,79,80,81,82,83,84,85,86,87,88,89,90,91,92,93,94,95,96,97,98,99,100],\"y\":[-697.3751486317351,-973.1592064470657,-1328.5441151998284,-1776.597043335694,-2329.889673732325,-2999.832969521706,-3796.0132584979497,-4725.579292997875,-5792.726903652132,-6998.320201835368,-8339.677032270316,-9810.532935487987,-11401.18379400862,-13098.794078324778,-14887.846403866357,-16750.699819820828,-18668.219323472757,-20620.43757562156,-22587.211385676124,-24548.83968649274,-26486.61572360596,-28383.293282907336,-30223.45424921575,-31993.771996460313,-33683.17156644275,-35282.89296020603,-36786.4679596718,-38189.62366976287,-39490.127485984594,-40687.58859371898,-41783.23058848188,-42779.64858982251,-43680.56252497693,-44490.57628518696,-45214.95038350221,-45859.39370979999,-46429.87809283693,-46932.477712188345,-47373.23399604681,-47758.04550947438,-48092.58147713415,-48382.216975457915,-48631.9874427586,-48846.55995785468,-49030.21869247608,-49186.86201509753,-49320.00888165868,-49432.81236352131,-49528.07841108032,-49608.288213367705,-49675.622774852665],\"type\":\"scatter\",\"xaxis\":\"x2\",\"yaxis\":\"y2\"},{\"name\":\"EUA Jun24 80C\",\"x\":[50,51,52,53,54,55,56,57,58,59,60,61,62,63,64,65,66,67,68,69,70,71,72,73,74,75,76,77,78,79,80,81,82,83,84,85,86,87,88,89,90,91,92,93,94,95,96,97,98,99,100],\"y\":[-38394.89470554111,-38282.57679057892,-38111.426280743464,-37856.672210206874,-37485.80660777785,-36957.15491109709,-36218.4776925467,-35205.69148244887,-33841.80334711831,-32036.153834146902,-29684.055286471445,-26666.89746151463,-22852.770747605362,-18097.63059502483,-12246.997122321603,-5138.153544707201,3397.2215450793337,13530.07778225583,25430.78143449359,39265.78988825305,55194.33846977696,73365.26344166877,93914.0757993711,116960.38550373956,142605.75638319942,170932.04965801907,202000.2904548608,235850.0682808793,272499.4605170596,311945.44862001186,354164.78064746433,399115.22140116687,446737.1230814808,496955.2447875072,549680.7481858567,604813.2987669999,662243.2067670419,721853.5484619307,783522.216541421,847123.8570735093,912531.659664821,979618.9763727417,1048260.75337919,1118334.7671296143,1189722.6633941168,1262310.803416913,1335990.9259486268,1410660.6375212763,1486223.745888215,1562590.453202284,1639677.4263557272],\"type\":\"scatter\",\"xaxis\":\"x\",\"yaxis\":\"y\"},{\"name\":\"EUA Jun24 80C\",\"x\":[50,51,52,53,54,55,56,57,58,59,60,61,62,63,64,65,66,67,68,69,70,71,72,73,74,75,76,77,78,79,80,81,82,83,84,85,86,87,88,89,90,91,92,93,94,95,96,97,98,99,100],\"y\":[54.41488798284673,84.00744168858704,126.59279761634598,186.4457296529298,268.7036279288249,379.3718514564459,525.2790198122607,713.9761994990249,953.5778077745156,1252.5465328771131,1619.4292146120563,2062.554969719263,2589.7104363403755,3207.809487667527,3922.575886616384,4738.257027737072,5657.385195401701,6680.599847947699,7806.540608660981,9031.81626335465,10351.050510292662,11757.000843606183,13240.743088508572,14791.91098469173,16398.977986609036,18049.56718105073,19730.774896889983,21429.494113874163,23132.725030183843,24827.861953004198,26502.94784931943,28146.890254649672,29749.634620093773,31302.2934423782,32797.231557795145,34228.10971188045,35589.88989735626,36878.80696716211,38092.311685698645,39228.990707221856,40288.46900673987,41271.300085142415,42178.848879568955,43013.17178478052,43776.8975807718,44473.11240978037,45105.25128917442,45676.99801501739,46192.194726639005,46654.76188058522,47068.628931982574],\"type\":\"scatter\",\"xaxis\":\"x2\",\"yaxis\":\"y2\"},{\"mode\":\"lines\",\"name\":\"Total_PnL\",\"x\":[50,51,52,53,54,55,56,57,58,59,60,61,62,63,64,65,66,67,68,69,70,71,72,73,74,75,76,77,78,79,80,81,82,83,84,85,86,87,88,89,90,91,92,93,94,95,96,97,98,99,100],\"y\":[-57855.0217430442,-32012.120553324006,-8818.238899300974,11595.38459065555,29129.154987309696,43710.05552665164,55287.62141046727,63831.19786067661,69328.53938992225,71785.6415486793,71227.56566065278,67699.92879289991,61270.68779874695,52031.84546826569,40100.74266215892,25620.664272528516,8760.5691007237,-10286.155748959616,-31303.925796206546,-54058.1043125784,-78298.92385864782,-103765.99756522616,-130193.20383890693,-157313.71731531565,-184864.96493703668,-212593.30607826592,-240258.2661651443,-267636.19055066316,-294523.2259441304,-320737.5773137963,-346121.02628723765,-370539.7307240303,-393884.3530445892,-416069.5864008509,-437033.1627382282,-456734.4355268857,-475152.63305859524,-492284.8765489055,-508144.05180111167,-522756.61485345114,-536160.4017801675,-548402.5014986001,-559537.2387779519,-569624.3032458802,-578727.049502576,-586910.9838028564,-594242.4443584825,-600787.4752457845,-606610.8881932928,-611775.5021199984,-616341.5470988455],\"type\":\"scatter\",\"xaxis\":\"x\",\"yaxis\":\"y\"},{\"mode\":\"lines\",\"name\":\"Total_Delta\",\"x\":[50,51,52,53,54,55,56,57,58,59,60,61,62,63,64,65,66,67,68,69,70,71,72,73,74,75,76,77,78,79,80,81,82,83,84,85,86,87,88,89,90,91,92,93,94,95,96,97,98,99,100],\"y\":[16484.53628039906,14921.206426078415,13267.335039817308,11543.849705621122,9768.361653185973,7955.683730925922,6118.556414975854,4268.464121275672,2416.4327785310625,573.7175170239686,-1247.6865980043665,-3034.7508052973676,-4773.348860507989,-6448.411814069835,-8044.270059094591,-9545.137174745349,-10935.68205971003,-12201.633750645316,-13330.366408826168,-14311.419132724792,-15136.915226661906,-15801.857010682212,-16304.283982465613,-16645.293123764626,-16828.929619198887,-16861.963732980486,-16753.57483785278,-16514.96660525268,-16158.93832096643,-15699.436487491534,-15151.108688543605,-14528.878525964708,-13847.556687457789,-13121.49921890378,-12364.32015397102,-11588.662026053702,-10806.024614600523,-10026.649656545269,-9259.457224395985,-8512.0280300909,-7790.625017605511,-7100.247193143601,-6444.708631127491,-5826.735902987632,-5248.077720746602,-4709.621291253752,-4211.510671395961,-3753.2632423462055,-3333.881236148256,-2951.9560162326306,-2605.7635108389222],\"type\":\"scatter\",\"xaxis\":\"x2\",\"yaxis\":\"y2\"}],                        {\"template\":{\"data\":{\"histogram2dcontour\":[{\"type\":\"histogram2dcontour\",\"colorbar\":{\"outlinewidth\":0,\"ticks\":\"\"},\"colorscale\":[[0.0,\"#0d0887\"],[0.1111111111111111,\"#46039f\"],[0.2222222222222222,\"#7201a8\"],[0.3333333333333333,\"#9c179e\"],[0.4444444444444444,\"#bd3786\"],[0.5555555555555556,\"#d8576b\"],[0.6666666666666666,\"#ed7953\"],[0.7777777777777778,\"#fb9f3a\"],[0.8888888888888888,\"#fdca26\"],[1.0,\"#f0f921\"]]}],\"choropleth\":[{\"type\":\"choropleth\",\"colorbar\":{\"outlinewidth\":0,\"ticks\":\"\"}}],\"histogram2d\":[{\"type\":\"histogram2d\",\"colorbar\":{\"outlinewidth\":0,\"ticks\":\"\"},\"colorscale\":[[0.0,\"#0d0887\"],[0.1111111111111111,\"#46039f\"],[0.2222222222222222,\"#7201a8\"],[0.3333333333333333,\"#9c179e\"],[0.4444444444444444,\"#bd3786\"],[0.5555555555555556,\"#d8576b\"],[0.6666666666666666,\"#ed7953\"],[0.7777777777777778,\"#fb9f3a\"],[0.8888888888888888,\"#fdca26\"],[1.0,\"#f0f921\"]]}],\"heatmap\":[{\"type\":\"heatmap\",\"colorbar\":{\"outlinewidth\":0,\"ticks\":\"\"},\"colorscale\":[[0.0,\"#0d0887\"],[0.1111111111111111,\"#46039f\"],[0.2222222222222222,\"#7201a8\"],[0.3333333333333333,\"#9c179e\"],[0.4444444444444444,\"#bd3786\"],[0.5555555555555556,\"#d8576b\"],[0.6666666666666666,\"#ed7953\"],[0.7777777777777778,\"#fb9f3a\"],[0.8888888888888888,\"#fdca26\"],[1.0,\"#f0f921\"]]}],\"heatmapgl\":[{\"type\":\"heatmapgl\",\"colorbar\":{\"outlinewidth\":0,\"ticks\":\"\"},\"colorscale\":[[0.0,\"#0d0887\"],[0.1111111111111111,\"#46039f\"],[0.2222222222222222,\"#7201a8\"],[0.3333333333333333,\"#9c179e\"],[0.4444444444444444,\"#bd3786\"],[0.5555555555555556,\"#d8576b\"],[0.6666666666666666,\"#ed7953\"],[0.7777777777777778,\"#fb9f3a\"],[0.8888888888888888,\"#fdca26\"],[1.0,\"#f0f921\"]]}],\"contourcarpet\":[{\"type\":\"contourcarpet\",\"colorbar\":{\"outlinewidth\":0,\"ticks\":\"\"}}],\"contour\":[{\"type\":\"contour\",\"colorbar\":{\"outlinewidth\":0,\"ticks\":\"\"},\"colorscale\":[[0.0,\"#0d0887\"],[0.1111111111111111,\"#46039f\"],[0.2222222222222222,\"#7201a8\"],[0.3333333333333333,\"#9c179e\"],[0.4444444444444444,\"#bd3786\"],[0.5555555555555556,\"#d8576b\"],[0.6666666666666666,\"#ed7953\"],[0.7777777777777778,\"#fb9f3a\"],[0.8888888888888888,\"#fdca26\"],[1.0,\"#f0f921\"]]}],\"surface\":[{\"type\":\"surface\",\"colorbar\":{\"outlinewidth\":0,\"ticks\":\"\"},\"colorscale\":[[0.0,\"#0d0887\"],[0.1111111111111111,\"#46039f\"],[0.2222222222222222,\"#7201a8\"],[0.3333333333333333,\"#9c179e\"],[0.4444444444444444,\"#bd3786\"],[0.5555555555555556,\"#d8576b\"],[0.6666666666666666,\"#ed7953\"],[0.7777777777777778,\"#fb9f3a\"],[0.8888888888888888,\"#fdca26\"],[1.0,\"#f0f921\"]]}],\"mesh3d\":[{\"type\":\"mesh3d\",\"colorbar\":{\"outlinewidth\":0,\"ticks\":\"\"}}],\"scatter\":[{\"fillpattern\":{\"fillmode\":\"overlay\",\"size\":10,\"solidity\":0.2},\"type\":\"scatter\"}],\"parcoords\":[{\"type\":\"parcoords\",\"line\":{\"colorbar\":{\"outlinewidth\":0,\"ticks\":\"\"}}}],\"scatterpolargl\":[{\"type\":\"scatterpolargl\",\"marker\":{\"colorbar\":{\"outlinewidth\":0,\"ticks\":\"\"}}}],\"bar\":[{\"error_x\":{\"color\":\"#2a3f5f\"},\"error_y\":{\"color\":\"#2a3f5f\"},\"marker\":{\"line\":{\"color\":\"#E5ECF6\",\"width\":0.5},\"pattern\":{\"fillmode\":\"overlay\",\"size\":10,\"solidity\":0.2}},\"type\":\"bar\"}],\"scattergeo\":[{\"type\":\"scattergeo\",\"marker\":{\"colorbar\":{\"outlinewidth\":0,\"ticks\":\"\"}}}],\"scatterpolar\":[{\"type\":\"scatterpolar\",\"marker\":{\"colorbar\":{\"outlinewidth\":0,\"ticks\":\"\"}}}],\"histogram\":[{\"marker\":{\"pattern\":{\"fillmode\":\"overlay\",\"size\":10,\"solidity\":0.2}},\"type\":\"histogram\"}],\"scattergl\":[{\"type\":\"scattergl\",\"marker\":{\"colorbar\":{\"outlinewidth\":0,\"ticks\":\"\"}}}],\"scatter3d\":[{\"type\":\"scatter3d\",\"line\":{\"colorbar\":{\"outlinewidth\":0,\"ticks\":\"\"}},\"marker\":{\"colorbar\":{\"outlinewidth\":0,\"ticks\":\"\"}}}],\"scattermapbox\":[{\"type\":\"scattermapbox\",\"marker\":{\"colorbar\":{\"outlinewidth\":0,\"ticks\":\"\"}}}],\"scatterternary\":[{\"type\":\"scatterternary\",\"marker\":{\"colorbar\":{\"outlinewidth\":0,\"ticks\":\"\"}}}],\"scattercarpet\":[{\"type\":\"scattercarpet\",\"marker\":{\"colorbar\":{\"outlinewidth\":0,\"ticks\":\"\"}}}],\"carpet\":[{\"aaxis\":{\"endlinecolor\":\"#2a3f5f\",\"gridcolor\":\"white\",\"linecolor\":\"white\",\"minorgridcolor\":\"white\",\"startlinecolor\":\"#2a3f5f\"},\"baxis\":{\"endlinecolor\":\"#2a3f5f\",\"gridcolor\":\"white\",\"linecolor\":\"white\",\"minorgridcolor\":\"white\",\"startlinecolor\":\"#2a3f5f\"},\"type\":\"carpet\"}],\"table\":[{\"cells\":{\"fill\":{\"color\":\"#EBF0F8\"},\"line\":{\"color\":\"white\"}},\"header\":{\"fill\":{\"color\":\"#C8D4E3\"},\"line\":{\"color\":\"white\"}},\"type\":\"table\"}],\"barpolar\":[{\"marker\":{\"line\":{\"color\":\"#E5ECF6\",\"width\":0.5},\"pattern\":{\"fillmode\":\"overlay\",\"size\":10,\"solidity\":0.2}},\"type\":\"barpolar\"}],\"pie\":[{\"automargin\":true,\"type\":\"pie\"}]},\"layout\":{\"autotypenumbers\":\"strict\",\"colorway\":[\"#636efa\",\"#EF553B\",\"#00cc96\",\"#ab63fa\",\"#FFA15A\",\"#19d3f3\",\"#FF6692\",\"#B6E880\",\"#FF97FF\",\"#FECB52\"],\"font\":{\"color\":\"#2a3f5f\"},\"hovermode\":\"closest\",\"hoverlabel\":{\"align\":\"left\"},\"paper_bgcolor\":\"white\",\"plot_bgcolor\":\"#E5ECF6\",\"polar\":{\"bgcolor\":\"#E5ECF6\",\"angularaxis\":{\"gridcolor\":\"white\",\"linecolor\":\"white\",\"ticks\":\"\"},\"radialaxis\":{\"gridcolor\":\"white\",\"linecolor\":\"white\",\"ticks\":\"\"}},\"ternary\":{\"bgcolor\":\"#E5ECF6\",\"aaxis\":{\"gridcolor\":\"white\",\"linecolor\":\"white\",\"ticks\":\"\"},\"baxis\":{\"gridcolor\":\"white\",\"linecolor\":\"white\",\"ticks\":\"\"},\"caxis\":{\"gridcolor\":\"white\",\"linecolor\":\"white\",\"ticks\":\"\"}},\"coloraxis\":{\"colorbar\":{\"outlinewidth\":0,\"ticks\":\"\"}},\"colorscale\":{\"sequential\":[[0.0,\"#0d0887\"],[0.1111111111111111,\"#46039f\"],[0.2222222222222222,\"#7201a8\"],[0.3333333333333333,\"#9c179e\"],[0.4444444444444444,\"#bd3786\"],[0.5555555555555556,\"#d8576b\"],[0.6666666666666666,\"#ed7953\"],[0.7777777777777778,\"#fb9f3a\"],[0.8888888888888888,\"#fdca26\"],[1.0,\"#f0f921\"]],\"sequentialminus\":[[0.0,\"#0d0887\"],[0.1111111111111111,\"#46039f\"],[0.2222222222222222,\"#7201a8\"],[0.3333333333333333,\"#9c179e\"],[0.4444444444444444,\"#bd3786\"],[0.5555555555555556,\"#d8576b\"],[0.6666666666666666,\"#ed7953\"],[0.7777777777777778,\"#fb9f3a\"],[0.8888888888888888,\"#fdca26\"],[1.0,\"#f0f921\"]],\"diverging\":[[0,\"#8e0152\"],[0.1,\"#c51b7d\"],[0.2,\"#de77ae\"],[0.3,\"#f1b6da\"],[0.4,\"#fde0ef\"],[0.5,\"#f7f7f7\"],[0.6,\"#e6f5d0\"],[0.7,\"#b8e186\"],[0.8,\"#7fbc41\"],[0.9,\"#4d9221\"],[1,\"#276419\"]]},\"xaxis\":{\"gridcolor\":\"white\",\"linecolor\":\"white\",\"ticks\":\"\",\"title\":{\"standoff\":15},\"zerolinecolor\":\"white\",\"automargin\":true,\"zerolinewidth\":2},\"yaxis\":{\"gridcolor\":\"white\",\"linecolor\":\"white\",\"ticks\":\"\",\"title\":{\"standoff\":15},\"zerolinecolor\":\"white\",\"automargin\":true,\"zerolinewidth\":2},\"scene\":{\"xaxis\":{\"backgroundcolor\":\"#E5ECF6\",\"gridcolor\":\"white\",\"linecolor\":\"white\",\"showbackground\":true,\"ticks\":\"\",\"zerolinecolor\":\"white\",\"gridwidth\":2},\"yaxis\":{\"backgroundcolor\":\"#E5ECF6\",\"gridcolor\":\"white\",\"linecolor\":\"white\",\"showbackground\":true,\"ticks\":\"\",\"zerolinecolor\":\"white\",\"gridwidth\":2},\"zaxis\":{\"backgroundcolor\":\"#E5ECF6\",\"gridcolor\":\"white\",\"linecolor\":\"white\",\"showbackground\":true,\"ticks\":\"\",\"zerolinecolor\":\"white\",\"gridwidth\":2}},\"shapedefaults\":{\"line\":{\"color\":\"#2a3f5f\"}},\"annotationdefaults\":{\"arrowcolor\":\"#2a3f5f\",\"arrowhead\":0,\"arrowwidth\":1},\"geo\":{\"bgcolor\":\"white\",\"landcolor\":\"#E5ECF6\",\"subunitcolor\":\"white\",\"showland\":true,\"showlakes\":true,\"lakecolor\":\"white\"},\"title\":{\"x\":0.05},\"mapbox\":{\"style\":\"light\"}}},\"xaxis\":{\"anchor\":\"y\",\"domain\":[0.0,0.45],\"title\":{\"text\":\"Price\"}},\"yaxis\":{\"anchor\":\"x\",\"domain\":[0.0,1.0],\"title\":{\"text\":\"Pnl\"}},\"xaxis2\":{\"anchor\":\"y2\",\"domain\":[0.55,1.0],\"title\":{\"text\":\"Price\"}},\"yaxis2\":{\"anchor\":\"x2\",\"domain\":[0.0,1.0],\"title\":{\"text\":\"Delta\"}},\"title\":{\"text\":\"Todays Option Pos (PnL and Delta)\",\"x\":0.5,\"xanchor\":\"center\"},\"barmode\":\"stack\"},                        {\"responsive\": true}                    ).then(function(){\n",
       "                            \n",
       "var gd = document.getElementById('35a97423-e9bb-4f1a-801d-14bf882c4532');\n",
       "var x = new MutationObserver(function (mutations, observer) {{\n",
       "        var display = window.getComputedStyle(gd).display;\n",
       "        if (!display || display === 'none') {{\n",
       "            console.log([gd, 'removed!']);\n",
       "            Plotly.purge(gd);\n",
       "            observer.disconnect();\n",
       "        }}\n",
       "}});\n",
       "\n",
       "// Listen for the removal of the full notebook cells\n",
       "var notebookContainer = gd.closest('#notebook-container');\n",
       "if (notebookContainer) {{\n",
       "    x.observe(notebookContainer, {childList: true});\n",
       "}}\n",
       "\n",
       "// Listen for the clearing of the current output cell\n",
       "var outputEl = gd.closest('.output');\n",
       "if (outputEl) {{\n",
       "    x.observe(outputEl, {childList: true});\n",
       "}}\n",
       "\n",
       "                        })                };                });            </script>        </div>"
      ]
     },
     "metadata": {},
     "output_type": "display_data"
    }
   ],
   "source": [
    "pnl_delta_plot(one_month)"
   ]
  },
  {
   "cell_type": "markdown",
   "id": "89f40338",
   "metadata": {},
   "source": [
    "## End of May"
   ]
  },
  {
   "cell_type": "code",
   "execution_count": 18,
   "id": "451ebb54",
   "metadata": {},
   "outputs": [
    {
     "data": {
      "application/vnd.plotly.v1+json": {
       "config": {
        "plotlyServerURL": "https://plot.ly"
       },
       "data": [
        {
         "name": "EUA Jun24 40P",
         "type": "scatter",
         "x": [
          50,
          51,
          52,
          53,
          54,
          55,
          56,
          57,
          58,
          59,
          60,
          61,
          62,
          63,
          64,
          65,
          66,
          67,
          68,
          69,
          70,
          71,
          72,
          73,
          74,
          75,
          76,
          77,
          78,
          79,
          80,
          81,
          82,
          83,
          84,
          85,
          86,
          87,
          88,
          89,
          90,
          91,
          92,
          93,
          94,
          95,
          96,
          97,
          98,
          99,
          100
         ],
         "xaxis": "x",
         "y": [
          -16472.358071879116,
          -19294.139207752713,
          -21308.293379695584,
          -22728.424541800796,
          -23718.137290325525,
          -24400.32339380314,
          -24865.659303154414,
          -25179.960487016066,
          -25390.278136273104,
          -25529.77969742277,
          -25621.54290683028,
          -25681.43180038769,
          -25720.2293211306,
          -25745.188121245068,
          -25761.13876395544,
          -25771.26927188791,
          -25777.66570866289,
          -25781.682193207867,
          -25784.1911592031,
          -25785.75077085514,
          -25786.715791607676,
          -25787.31032230586,
          -25787.67511168052,
          -25787.898082146028,
          -25788.033879488,
          -25788.116306636184,
          -25788.166180815046,
          -25788.19626889492,
          -25788.214370154248,
          -25788.22523183246,
          -25788.231733626653,
          -25788.235616813374,
          -25788.237931163334,
          -25788.239307800908,
          -25788.240125173612,
          -25788.240609668013,
          -25788.24089640298,
          -25788.241065854698,
          -25788.241165863343,
          -25788.24122481558,
          -25788.24125952741,
          -25788.241279945465,
          -25788.24129194529,
          -25788.241298991303,
          -25788.24130312517,
          -25788.24130554925,
          -25788.2413069701,
          -25788.241307802058,
          -25788.241308289165,
          -25788.241308574456,
          -25788.241308741108
         ],
         "yaxis": "y"
        },
        {
         "name": "EUA Jun24 40P",
         "type": "scatter",
         "x": [
          50,
          51,
          52,
          53,
          54,
          55,
          56,
          57,
          58,
          59,
          60,
          61,
          62,
          63,
          64,
          65,
          66,
          67,
          68,
          69,
          70,
          71,
          72,
          73,
          74,
          75,
          76,
          77,
          78,
          79,
          80,
          81,
          82,
          83,
          84,
          85,
          86,
          87,
          88,
          89,
          90,
          91,
          92,
          93,
          94,
          95,
          96,
          97,
          98,
          99,
          100
         ],
         "xaxis": "x2",
         "y": [
          -2007.2619525012935,
          -1441.3878082900678,
          -1022.077335571836,
          -716.1384883990429,
          -496.12888984835735,
          -340.04721056370977,
          -230.71870409495654,
          -155.04780362477487,
          -103.25634257374317,
          -68.17955850974555,
          -44.6565557955858,
          -29.02730544574461,
          -18.732922761932613,
          -12.007676021863478,
          -7.647775074748342,
          -4.841649918652102,
          -3.047789099441811,
          -1.9083276262599203,
          -1.1888669411985742,
          -0.7371478008888488,
          -0.45502886093506945,
          -0.2797061838089032,
          -0.17125910767856745,
          -0.10447150357584256,
          -0.06350871198934627,
          -0.03848165474051868,
          -0.023245990588005583,
          -0.014002341430785492,
          -0.008411853408274439,
          -0.005040774470055354,
          -0.0030136282580528473,
          -0.0017977845101491141,
          -0.0010703022246261185,
          -0.0006360014903616928,
          -0.00037726956558792324,
          -0.0002234310292337227,
          -0.00013212550498131748,
          -7.802470336493172e-05,
          -4.601805603243747e-05,
          -2.7109470224218057e-05,
          -1.595344412130828e-05,
          -9.379291787681154e-06,
          -5.5094429018964775e-06,
          -3.2337410527105703e-06,
          -1.8966994641544943e-06,
          -1.111788439089878e-06,
          -6.513400929719637e-07,
          -3.814115689948494e-07,
          -2.2325474802187273e-07,
          -1.3063439219251904e-07,
          -7.641665078494952e-08
         ],
         "yaxis": "y2"
        },
        {
         "name": "EUA Jun24 50P",
         "type": "scatter",
         "x": [
          50,
          51,
          52,
          53,
          54,
          55,
          56,
          57,
          58,
          59,
          60,
          61,
          62,
          63,
          64,
          65,
          66,
          67,
          68,
          69,
          70,
          71,
          72,
          73,
          74,
          75,
          76,
          77,
          78,
          79,
          80,
          81,
          82,
          83,
          84,
          85,
          86,
          87,
          88,
          89,
          90,
          91,
          92,
          93,
          94,
          95,
          96,
          97,
          98,
          99,
          100
         ],
         "xaxis": "x",
         "y": [
          -81029.0101320523,
          -44548.45734445011,
          -13717.216800718104,
          11874.438538970226,
          32741.932762828914,
          49462.07675213412,
          62631.79299822476,
          72833.54945034055,
          80609.43798635312,
          86444.27717005709,
          90756.95184538559,
          93898.49193663204,
          96155.1030069272,
          97754.39476716093,
          98873.29409091259,
          99646.46857725251,
          100174.44252734212,
          100530.9059323762,
          100768.97178614316,
          100926.32083190115,
          101029.29158029384,
          101096.03938282543,
          101138.91562729445,
          101166.2198166595,
          101183.46404151584,
          101194.26897440632,
          101200.98821115904,
          101205.1366650356,
          101207.6803525228,
          101209.22984361519,
          101210.16782264362,
          101210.73224107167,
          101211.0699427403,
          101211.27090015015,
          101211.3898663454,
          101211.45994682945,
          101211.50103580824,
          101211.52501888109,
          101211.538957762,
          101211.54702608143,
          101211.55167824618,
          101211.55435079224,
          101211.55588072047,
          101211.55675362612,
          101211.55725008746,
          101211.5575315976,
          101211.55769076635,
          101211.5577805178,
          101211.55783099639,
          101211.55785931688,
          101211.55787516973
         ],
         "yaxis": "y"
        },
        {
         "name": "EUA Jun24 50P",
         "type": "scatter",
         "x": [
          50,
          51,
          52,
          53,
          54,
          55,
          56,
          57,
          58,
          59,
          60,
          61,
          62,
          63,
          64,
          65,
          66,
          67,
          68,
          69,
          70,
          71,
          72,
          73,
          74,
          75,
          76,
          77,
          78,
          79,
          80,
          81,
          82,
          83,
          84,
          85,
          86,
          87,
          88,
          89,
          90,
          91,
          92,
          93,
          94,
          95,
          96,
          97,
          98,
          99,
          100
         ],
         "xaxis": "x2",
         "y": [
          23888.54779145053,
          20367.646087685625,
          17054.28368544497,
          14025.821390579069,
          11332.833475163185,
          8999.49482115343,
          7026.709977478018,
          5396.938984947602,
          4079.6930996461533,
          3036.8616500842436,
          2227.300286498041,
          1610.3851690734916,
          1148.4669603509356,
          808.3194534023453,
          561.7683969824594,
          385.718148784675,
          261.78456640056356,
          175.709509219818,
          116.68977630878152,
          76.71114761684805,
          49.942095368371575,
          32.21400883207659,
          20.5955010568748,
          13.056362443836234,
          8.210317267692835,
          5.1232367235864995,
          3.173422268509807,
          1.9518933467688182,
          1.192528399168724,
          0.7239349093302039,
          0.4367937998961402,
          0.262012560425795,
          0.15629812246675812,
          0.0927435469866289,
          0.054754449868577026,
          0.03217094479146532,
          0.018815484376100144,
          0.010956415913421225,
          0.00635350628219733,
          0.00366975248522472,
          0.002111646912883458,
          0.0012107275793038497,
          0.0006918122297250306,
          0.0003940212045527858,
          0.0002237228680090908,
          0.00012665652415755346,
          7.150482983497852e-05,
          4.026200484119613e-05,
          2.2613438899199423e-05,
          1.2670853255514203e-05,
          7.083816866426673e-06
         ],
         "yaxis": "y2"
        },
        {
         "name": "EUA Jun24 70C",
         "type": "scatter",
         "x": [
          50,
          51,
          52,
          53,
          54,
          55,
          56,
          57,
          58,
          59,
          60,
          61,
          62,
          63,
          64,
          65,
          66,
          67,
          68,
          69,
          70,
          71,
          72,
          73,
          74,
          75,
          76,
          77,
          78,
          79,
          80,
          81,
          82,
          83,
          84,
          85,
          86,
          87,
          88,
          89,
          90,
          91,
          92,
          93,
          94,
          95,
          96,
          97,
          98,
          99,
          100
         ],
         "xaxis": "x",
         "y": [
          139011.586576912,
          138988.7464819144,
          138940.02202566073,
          138841.59738799895,
          138652.7621727345,
          138307.6798595978,
          137705.40915750535,
          136698.95077364874,
          135084.65353722498,
          132593.7806379519,
          128888.25316239076,
          123562.42939455411,
          116152.19713365257,
          106151.71019709557,
          93036.94865583366,
          76294.15084237879,
          55450.288706434294,
          30102.3202921086,
          -57.95905209771143,
          -35226.058716256564,
          -75475.56287128765,
          -120758.02623346096,
          -170911.38254127663,
          -225675.34424190904,
          -284711.6802664935,
          -347627.0251427404,
          -413995.97046638164,
          -483382.5432610779,
          -555358.6845269579,
          -629518.9033433413,
          -705490.8114868231,
          -782941.6810927528,
          -861581.4825885877,
          -941163.0466028177,
          -1021480.0653039552,
          -1102363.6303017302,
          -1183677.9245904791,
          -1265315.5724757817,
          -1347193.0267687046,
          -1429246.2533459044,
          -1511426.8698051737,
          -1593698.8123609598,
          -1676035.5442135807,
          -1758417.777586809,
          -1840831.6571851051,
          -1923267.3411720125,
          -2005717.9132297256,
          -2088178.562632377,
          -2170645.9760121508,
          -2253117.8927477975,
          -2335592.7843899443
         ],
         "yaxis": "y"
        },
        {
         "name": "EUA Jun24 70C",
         "type": "scatter",
         "x": [
          50,
          51,
          52,
          53,
          54,
          55,
          56,
          57,
          58,
          59,
          60,
          61,
          62,
          63,
          64,
          65,
          66,
          67,
          68,
          69,
          70,
          71,
          72,
          73,
          74,
          75,
          76,
          77,
          78,
          79,
          80,
          81,
          82,
          83,
          84,
          85,
          86,
          87,
          88,
          89,
          90,
          91,
          92,
          93,
          94,
          95,
          96,
          97,
          98,
          99,
          100
         ],
         "xaxis": "x2",
         "y": [
          -9.04698197280854,
          -19.929717766440355,
          -41.48779664251914,
          -81.87284005844951,
          -153.62264593155993,
          -274.84444455238406,
          -470.09672257495566,
          -770.6308133236435,
          -1213.6648099350407,
          -1840.4675099543397,
          -2693.225388154675,
          -3810.917112862551,
          -5224.669906343119,
          -6953.25401905495,
          -8999.431881963279,
          -11347.79284603685,
          -13964.486205398935,
          -16798.96163475407,
          -19787.50429707613,
          -22858.07970700425,
          -25935.83251040679,
          -28948.53777419788,
          -31831.377628266182,
          -34530.58065547533,
          -37005.673437050624,
          -39230.30870506492,
          -41191.816290866824,
          -42889.74888383731,
          -44333.7569405242,
          -45541.13109203037,
          -46534.30974846546,
          -47338.581632760055,
          -47980.134586323984,
          -48484.52683292419,
          -48875.59406913682,
          -49174.759757878586,
          -49400.68748389274,
          -49569.20117166982,
          -49693.397906082464,
          -49783.885149068556,
          -49849.08572188,
          -49895.56713207007,
          -49928.3646226835,
          -49951.27846933124,
          -49967.13497357226,
          -49978.007203821,
          -49985.39602689739,
          -49990.37471936534,
          -49993.701860890586,
          -49995.90768327598,
          -49997.35891080121
         ],
         "yaxis": "y2"
        },
        {
         "name": "EUA Jun24 80C",
         "type": "scatter",
         "x": [
          50,
          51,
          52,
          53,
          54,
          55,
          56,
          57,
          58,
          59,
          60,
          61,
          62,
          63,
          64,
          65,
          66,
          67,
          68,
          69,
          70,
          71,
          72,
          73,
          74,
          75,
          76,
          77,
          78,
          79,
          80,
          81,
          82,
          83,
          84,
          85,
          86,
          87,
          88,
          89,
          90,
          91,
          92,
          93,
          94,
          95,
          96,
          97,
          98,
          99,
          100
         ],
         "xaxis": "x",
         "y": [
          -38574.3882057433,
          -38574.331829586175,
          -38574.17524157731,
          -38573.76554043646,
          -38572.75264882436,
          -38570.37961187272,
          -38565.096689015096,
          -38553.892384207735,
          -38531.19975378506,
          -38487.20880081099,
          -38405.408390844,
          -38259.20880825126,
          -38007.57194128273,
          -37589.70646134745,
          -36919.064866023706,
          -35877.08783472212,
          -34307.34489236509,
          -32010.875707347626,
          -28743.60000153325,
          -24216.602940422854,
          -18099.903993661213,
          -10029.993524869324,
          378.98834121341895,
          13520.993051306132,
          29781.68454622005,
          49521.19300625841,
          73057.39916342846,
          100651.12096668917,
          132494.3848699834,
          168702.64308732733,
          209311.39579518835,
          254277.2512583712,
          303483.0625995286,
          356746.4619517038,
          413830.89935830643,
          474458.19538611703,
          538321.6268789425,
          605098.6658208278,
          674462.6554752553,
          746092.9068816857,
          819682.9053338501,
          894946.5084877504,
          971622.1796941916,
          1049475.4233852506,
          1128299.671462116,
          1207915.9131323155,
          1288171.371334124,
          1368937.5143127765,
          1450107.6590405072,
          1531594.381391278,
          1613326.9024942706
         ],
         "yaxis": "y"
        },
        {
         "name": "EUA Jun24 80C",
         "type": "scatter",
         "x": [
          50,
          51,
          52,
          53,
          54,
          55,
          56,
          57,
          58,
          59,
          60,
          61,
          62,
          63,
          64,
          65,
          66,
          67,
          68,
          69,
          70,
          71,
          72,
          73,
          74,
          75,
          76,
          77,
          78,
          79,
          80,
          81,
          82,
          83,
          84,
          85,
          86,
          87,
          88,
          89,
          90,
          91,
          92,
          93,
          94,
          95,
          96,
          97,
          98,
          99,
          100
         ],
         "xaxis": "x2",
         "y": [
          0.0191264902999259,
          0.055097359094954154,
          0.14918257708262891,
          0.38089884741829383,
          0.9198738348623096,
          2.107243337903981,
          4.591287078469593,
          9.538586286715576,
          18.940718120344997,
          36.0285290106071,
          65.78934028872261,
          115.55678904582702,
          195.6109256936476,
          319.6933873116296,
          505.3172259877925,
          773.7424264862955,
          1149.5037518729819,
          1659.4204571608182,
          2331.084603915974,
          3190.9067090556096,
          4261.879812298111,
          5561.289380827442,
          7098.63232741457,
          8874.004768482022,
          10877.173628264884,
          13087.468478889325,
          15474.530267908249,
          17999.849538585768,
          20618.935092254455,
          23283.88820339999,
          25946.12539285145,
          28558.995945602437,
          31080.07454016149,
          33472.9659791667,
          35708.52736509763,
          37765.48241941492,
          39630.46398105479,
          41297.56782291738,
          42767.530753751846,
          44046.65843599413,
          45145.625649790665,
          46078.2575094195,
          46860.37860697464,
          47508.792290332836,
          48040.42769809482,
          48471.67027219227,
          48817.87376390997,
          49093.03886365478,
          49309.63543418897,
          49478.541341466356,
          49609.07021742875
         ],
         "yaxis": "y2"
        },
        {
         "mode": "lines",
         "name": "Total_PnL",
         "type": "scatter",
         "x": [
          50,
          51,
          52,
          53,
          54,
          55,
          56,
          57,
          58,
          59,
          60,
          61,
          62,
          63,
          64,
          65,
          66,
          67,
          68,
          69,
          70,
          71,
          72,
          73,
          74,
          75,
          76,
          77,
          78,
          79,
          80,
          81,
          82,
          83,
          84,
          85,
          86,
          87,
          88,
          89,
          90,
          91,
          92,
          93,
          94,
          95,
          96,
          97,
          98,
          99,
          100
         ],
         "xaxis": "x",
         "y": [
          2935.8301672372836,
          36571.81810012539,
          65340.336603669726,
          89413.84584473191,
          109103.80499641353,
          124799.05360605606,
          136906.44616356058,
          145798.6473527655,
          151772.61363351994,
          155021.06930977522,
          155618.25371010206,
          153520.2807225472,
          148579.49887816643,
          140571.210381664,
          129230.0391167671,
          114292.26231302126,
          95539.72063274845,
          72840.66832392932,
          46183.2215733091,
          15697.908404366586,
          -18332.891076262695,
          -55479.290697810706,
          -95181.15368444928,
          -136776.02945608943,
          -179534.56555824564,
          -222699.6794687119,
          -265525.7492726092,
          -307314.4818982481,
          -347444.83367460594,
          -385395.2556442312,
          -420757.4796026178,
          -453241.93321012333,
          -482675.5879774821,
          -508993.5530587646,
          -532226.016204477,
          -552482.2155784518,
          -569933.0375721314,
          -584793.6227019274,
          -597307.0735015506,
          -607730.0406629528,
          -616320.6540526049,
          -623328.9908023627,
          -628990.049930614,
          -633519.0387469234,
          -637108.6697760269,
          -639928.1118136486,
          -642123.2255118054,
          -643817.7318468848,
          -645115.0004489364,
          -646100.1948057772,
          -646842.5653292451
         ],
         "yaxis": "y"
        },
        {
         "mode": "lines",
         "name": "Total_Delta",
         "type": "scatter",
         "x": [
          50,
          51,
          52,
          53,
          54,
          55,
          56,
          57,
          58,
          59,
          60,
          61,
          62,
          63,
          64,
          65,
          66,
          67,
          68,
          69,
          70,
          71,
          72,
          73,
          74,
          75,
          76,
          77,
          78,
          79,
          80,
          81,
          82,
          83,
          84,
          85,
          86,
          87,
          88,
          89,
          90,
          91,
          92,
          93,
          94,
          95,
          96,
          97,
          98,
          99,
          100
         ],
         "xaxis": "x2",
         "y": [
          21872.25798346673,
          18906.383658988212,
          15990.867735807698,
          13228.190960968994,
          10684.001813218129,
          8386.71040937524,
          6330.485837886576,
          4480.798954285899,
          2781.7126652577144,
          1164.2431106307654,
          -444.79231716349744,
          -2114.0024601889772,
          -3899.3249430604683,
          -5837.248854362839,
          -7939.994034067776,
          -10193.173920684532,
          -12556.245676224831,
          -14965.739995999693,
          -17340.918783792575,
          -19591.19899813268,
          -21624.465631601244,
          -23355.31409072217,
          -24712.321058902417,
          -25643.623996053044,
          -26120.353000230032,
          -26137.755471106746,
          -25714.135846680652,
          -24887.961454246208,
          -23713.63773172399,
          -22256.523994495525,
          -20587.75057544237,
          -18779.3254723817,
          -16899.90481834225,
          -15011.468746211991,
          -13167.012326858887,
          -11409.245390949902,
          -9770.204819479077,
          -8271.622470361232,
          -6925.860844842391,
          -5737.223070431406,
          -4703.457976395868,
          -3817.3084213022885,
          -3067.9853294060667,
          -2442.4857882109427,
          -1926.7070536512765,
          -1506.336806083993,
          -1167.5221921339325,
          -897.335815829967,
          -684.0664043114375,
          -517.3663292694036,
          -388.2886863650565
         ],
         "yaxis": "y2"
        }
       ],
       "layout": {
        "barmode": "stack",
        "template": {
         "data": {
          "bar": [
           {
            "error_x": {
             "color": "#2a3f5f"
            },
            "error_y": {
             "color": "#2a3f5f"
            },
            "marker": {
             "line": {
              "color": "#E5ECF6",
              "width": 0.5
             },
             "pattern": {
              "fillmode": "overlay",
              "size": 10,
              "solidity": 0.2
             }
            },
            "type": "bar"
           }
          ],
          "barpolar": [
           {
            "marker": {
             "line": {
              "color": "#E5ECF6",
              "width": 0.5
             },
             "pattern": {
              "fillmode": "overlay",
              "size": 10,
              "solidity": 0.2
             }
            },
            "type": "barpolar"
           }
          ],
          "carpet": [
           {
            "aaxis": {
             "endlinecolor": "#2a3f5f",
             "gridcolor": "white",
             "linecolor": "white",
             "minorgridcolor": "white",
             "startlinecolor": "#2a3f5f"
            },
            "baxis": {
             "endlinecolor": "#2a3f5f",
             "gridcolor": "white",
             "linecolor": "white",
             "minorgridcolor": "white",
             "startlinecolor": "#2a3f5f"
            },
            "type": "carpet"
           }
          ],
          "choropleth": [
           {
            "colorbar": {
             "outlinewidth": 0,
             "ticks": ""
            },
            "type": "choropleth"
           }
          ],
          "contour": [
           {
            "colorbar": {
             "outlinewidth": 0,
             "ticks": ""
            },
            "colorscale": [
             [
              0,
              "#0d0887"
             ],
             [
              0.1111111111111111,
              "#46039f"
             ],
             [
              0.2222222222222222,
              "#7201a8"
             ],
             [
              0.3333333333333333,
              "#9c179e"
             ],
             [
              0.4444444444444444,
              "#bd3786"
             ],
             [
              0.5555555555555556,
              "#d8576b"
             ],
             [
              0.6666666666666666,
              "#ed7953"
             ],
             [
              0.7777777777777778,
              "#fb9f3a"
             ],
             [
              0.8888888888888888,
              "#fdca26"
             ],
             [
              1,
              "#f0f921"
             ]
            ],
            "type": "contour"
           }
          ],
          "contourcarpet": [
           {
            "colorbar": {
             "outlinewidth": 0,
             "ticks": ""
            },
            "type": "contourcarpet"
           }
          ],
          "heatmap": [
           {
            "colorbar": {
             "outlinewidth": 0,
             "ticks": ""
            },
            "colorscale": [
             [
              0,
              "#0d0887"
             ],
             [
              0.1111111111111111,
              "#46039f"
             ],
             [
              0.2222222222222222,
              "#7201a8"
             ],
             [
              0.3333333333333333,
              "#9c179e"
             ],
             [
              0.4444444444444444,
              "#bd3786"
             ],
             [
              0.5555555555555556,
              "#d8576b"
             ],
             [
              0.6666666666666666,
              "#ed7953"
             ],
             [
              0.7777777777777778,
              "#fb9f3a"
             ],
             [
              0.8888888888888888,
              "#fdca26"
             ],
             [
              1,
              "#f0f921"
             ]
            ],
            "type": "heatmap"
           }
          ],
          "heatmapgl": [
           {
            "colorbar": {
             "outlinewidth": 0,
             "ticks": ""
            },
            "colorscale": [
             [
              0,
              "#0d0887"
             ],
             [
              0.1111111111111111,
              "#46039f"
             ],
             [
              0.2222222222222222,
              "#7201a8"
             ],
             [
              0.3333333333333333,
              "#9c179e"
             ],
             [
              0.4444444444444444,
              "#bd3786"
             ],
             [
              0.5555555555555556,
              "#d8576b"
             ],
             [
              0.6666666666666666,
              "#ed7953"
             ],
             [
              0.7777777777777778,
              "#fb9f3a"
             ],
             [
              0.8888888888888888,
              "#fdca26"
             ],
             [
              1,
              "#f0f921"
             ]
            ],
            "type": "heatmapgl"
           }
          ],
          "histogram": [
           {
            "marker": {
             "pattern": {
              "fillmode": "overlay",
              "size": 10,
              "solidity": 0.2
             }
            },
            "type": "histogram"
           }
          ],
          "histogram2d": [
           {
            "colorbar": {
             "outlinewidth": 0,
             "ticks": ""
            },
            "colorscale": [
             [
              0,
              "#0d0887"
             ],
             [
              0.1111111111111111,
              "#46039f"
             ],
             [
              0.2222222222222222,
              "#7201a8"
             ],
             [
              0.3333333333333333,
              "#9c179e"
             ],
             [
              0.4444444444444444,
              "#bd3786"
             ],
             [
              0.5555555555555556,
              "#d8576b"
             ],
             [
              0.6666666666666666,
              "#ed7953"
             ],
             [
              0.7777777777777778,
              "#fb9f3a"
             ],
             [
              0.8888888888888888,
              "#fdca26"
             ],
             [
              1,
              "#f0f921"
             ]
            ],
            "type": "histogram2d"
           }
          ],
          "histogram2dcontour": [
           {
            "colorbar": {
             "outlinewidth": 0,
             "ticks": ""
            },
            "colorscale": [
             [
              0,
              "#0d0887"
             ],
             [
              0.1111111111111111,
              "#46039f"
             ],
             [
              0.2222222222222222,
              "#7201a8"
             ],
             [
              0.3333333333333333,
              "#9c179e"
             ],
             [
              0.4444444444444444,
              "#bd3786"
             ],
             [
              0.5555555555555556,
              "#d8576b"
             ],
             [
              0.6666666666666666,
              "#ed7953"
             ],
             [
              0.7777777777777778,
              "#fb9f3a"
             ],
             [
              0.8888888888888888,
              "#fdca26"
             ],
             [
              1,
              "#f0f921"
             ]
            ],
            "type": "histogram2dcontour"
           }
          ],
          "mesh3d": [
           {
            "colorbar": {
             "outlinewidth": 0,
             "ticks": ""
            },
            "type": "mesh3d"
           }
          ],
          "parcoords": [
           {
            "line": {
             "colorbar": {
              "outlinewidth": 0,
              "ticks": ""
             }
            },
            "type": "parcoords"
           }
          ],
          "pie": [
           {
            "automargin": true,
            "type": "pie"
           }
          ],
          "scatter": [
           {
            "fillpattern": {
             "fillmode": "overlay",
             "size": 10,
             "solidity": 0.2
            },
            "type": "scatter"
           }
          ],
          "scatter3d": [
           {
            "line": {
             "colorbar": {
              "outlinewidth": 0,
              "ticks": ""
             }
            },
            "marker": {
             "colorbar": {
              "outlinewidth": 0,
              "ticks": ""
             }
            },
            "type": "scatter3d"
           }
          ],
          "scattercarpet": [
           {
            "marker": {
             "colorbar": {
              "outlinewidth": 0,
              "ticks": ""
             }
            },
            "type": "scattercarpet"
           }
          ],
          "scattergeo": [
           {
            "marker": {
             "colorbar": {
              "outlinewidth": 0,
              "ticks": ""
             }
            },
            "type": "scattergeo"
           }
          ],
          "scattergl": [
           {
            "marker": {
             "colorbar": {
              "outlinewidth": 0,
              "ticks": ""
             }
            },
            "type": "scattergl"
           }
          ],
          "scattermapbox": [
           {
            "marker": {
             "colorbar": {
              "outlinewidth": 0,
              "ticks": ""
             }
            },
            "type": "scattermapbox"
           }
          ],
          "scatterpolar": [
           {
            "marker": {
             "colorbar": {
              "outlinewidth": 0,
              "ticks": ""
             }
            },
            "type": "scatterpolar"
           }
          ],
          "scatterpolargl": [
           {
            "marker": {
             "colorbar": {
              "outlinewidth": 0,
              "ticks": ""
             }
            },
            "type": "scatterpolargl"
           }
          ],
          "scatterternary": [
           {
            "marker": {
             "colorbar": {
              "outlinewidth": 0,
              "ticks": ""
             }
            },
            "type": "scatterternary"
           }
          ],
          "surface": [
           {
            "colorbar": {
             "outlinewidth": 0,
             "ticks": ""
            },
            "colorscale": [
             [
              0,
              "#0d0887"
             ],
             [
              0.1111111111111111,
              "#46039f"
             ],
             [
              0.2222222222222222,
              "#7201a8"
             ],
             [
              0.3333333333333333,
              "#9c179e"
             ],
             [
              0.4444444444444444,
              "#bd3786"
             ],
             [
              0.5555555555555556,
              "#d8576b"
             ],
             [
              0.6666666666666666,
              "#ed7953"
             ],
             [
              0.7777777777777778,
              "#fb9f3a"
             ],
             [
              0.8888888888888888,
              "#fdca26"
             ],
             [
              1,
              "#f0f921"
             ]
            ],
            "type": "surface"
           }
          ],
          "table": [
           {
            "cells": {
             "fill": {
              "color": "#EBF0F8"
             },
             "line": {
              "color": "white"
             }
            },
            "header": {
             "fill": {
              "color": "#C8D4E3"
             },
             "line": {
              "color": "white"
             }
            },
            "type": "table"
           }
          ]
         },
         "layout": {
          "annotationdefaults": {
           "arrowcolor": "#2a3f5f",
           "arrowhead": 0,
           "arrowwidth": 1
          },
          "autotypenumbers": "strict",
          "coloraxis": {
           "colorbar": {
            "outlinewidth": 0,
            "ticks": ""
           }
          },
          "colorscale": {
           "diverging": [
            [
             0,
             "#8e0152"
            ],
            [
             0.1,
             "#c51b7d"
            ],
            [
             0.2,
             "#de77ae"
            ],
            [
             0.3,
             "#f1b6da"
            ],
            [
             0.4,
             "#fde0ef"
            ],
            [
             0.5,
             "#f7f7f7"
            ],
            [
             0.6,
             "#e6f5d0"
            ],
            [
             0.7,
             "#b8e186"
            ],
            [
             0.8,
             "#7fbc41"
            ],
            [
             0.9,
             "#4d9221"
            ],
            [
             1,
             "#276419"
            ]
           ],
           "sequential": [
            [
             0,
             "#0d0887"
            ],
            [
             0.1111111111111111,
             "#46039f"
            ],
            [
             0.2222222222222222,
             "#7201a8"
            ],
            [
             0.3333333333333333,
             "#9c179e"
            ],
            [
             0.4444444444444444,
             "#bd3786"
            ],
            [
             0.5555555555555556,
             "#d8576b"
            ],
            [
             0.6666666666666666,
             "#ed7953"
            ],
            [
             0.7777777777777778,
             "#fb9f3a"
            ],
            [
             0.8888888888888888,
             "#fdca26"
            ],
            [
             1,
             "#f0f921"
            ]
           ],
           "sequentialminus": [
            [
             0,
             "#0d0887"
            ],
            [
             0.1111111111111111,
             "#46039f"
            ],
            [
             0.2222222222222222,
             "#7201a8"
            ],
            [
             0.3333333333333333,
             "#9c179e"
            ],
            [
             0.4444444444444444,
             "#bd3786"
            ],
            [
             0.5555555555555556,
             "#d8576b"
            ],
            [
             0.6666666666666666,
             "#ed7953"
            ],
            [
             0.7777777777777778,
             "#fb9f3a"
            ],
            [
             0.8888888888888888,
             "#fdca26"
            ],
            [
             1,
             "#f0f921"
            ]
           ]
          },
          "colorway": [
           "#636efa",
           "#EF553B",
           "#00cc96",
           "#ab63fa",
           "#FFA15A",
           "#19d3f3",
           "#FF6692",
           "#B6E880",
           "#FF97FF",
           "#FECB52"
          ],
          "font": {
           "color": "#2a3f5f"
          },
          "geo": {
           "bgcolor": "white",
           "lakecolor": "white",
           "landcolor": "#E5ECF6",
           "showlakes": true,
           "showland": true,
           "subunitcolor": "white"
          },
          "hoverlabel": {
           "align": "left"
          },
          "hovermode": "closest",
          "mapbox": {
           "style": "light"
          },
          "paper_bgcolor": "white",
          "plot_bgcolor": "#E5ECF6",
          "polar": {
           "angularaxis": {
            "gridcolor": "white",
            "linecolor": "white",
            "ticks": ""
           },
           "bgcolor": "#E5ECF6",
           "radialaxis": {
            "gridcolor": "white",
            "linecolor": "white",
            "ticks": ""
           }
          },
          "scene": {
           "xaxis": {
            "backgroundcolor": "#E5ECF6",
            "gridcolor": "white",
            "gridwidth": 2,
            "linecolor": "white",
            "showbackground": true,
            "ticks": "",
            "zerolinecolor": "white"
           },
           "yaxis": {
            "backgroundcolor": "#E5ECF6",
            "gridcolor": "white",
            "gridwidth": 2,
            "linecolor": "white",
            "showbackground": true,
            "ticks": "",
            "zerolinecolor": "white"
           },
           "zaxis": {
            "backgroundcolor": "#E5ECF6",
            "gridcolor": "white",
            "gridwidth": 2,
            "linecolor": "white",
            "showbackground": true,
            "ticks": "",
            "zerolinecolor": "white"
           }
          },
          "shapedefaults": {
           "line": {
            "color": "#2a3f5f"
           }
          },
          "ternary": {
           "aaxis": {
            "gridcolor": "white",
            "linecolor": "white",
            "ticks": ""
           },
           "baxis": {
            "gridcolor": "white",
            "linecolor": "white",
            "ticks": ""
           },
           "bgcolor": "#E5ECF6",
           "caxis": {
            "gridcolor": "white",
            "linecolor": "white",
            "ticks": ""
           }
          },
          "title": {
           "x": 0.05
          },
          "xaxis": {
           "automargin": true,
           "gridcolor": "white",
           "linecolor": "white",
           "ticks": "",
           "title": {
            "standoff": 15
           },
           "zerolinecolor": "white",
           "zerolinewidth": 2
          },
          "yaxis": {
           "automargin": true,
           "gridcolor": "white",
           "linecolor": "white",
           "ticks": "",
           "title": {
            "standoff": 15
           },
           "zerolinecolor": "white",
           "zerolinewidth": 2
          }
         }
        },
        "title": {
         "text": "Todays Option Pos (PnL and Delta)",
         "x": 0.5,
         "xanchor": "center"
        },
        "xaxis": {
         "anchor": "y",
         "domain": [
          0,
          0.45
         ],
         "title": {
          "text": "Price"
         }
        },
        "xaxis2": {
         "anchor": "y2",
         "domain": [
          0.55,
          1
         ],
         "title": {
          "text": "Price"
         }
        },
        "yaxis": {
         "anchor": "x",
         "domain": [
          0,
          1
         ],
         "title": {
          "text": "Pnl"
         }
        },
        "yaxis2": {
         "anchor": "x2",
         "domain": [
          0,
          1
         ],
         "title": {
          "text": "Delta"
         }
        }
       }
      },
      "text/html": [
       "<div>                            <div id=\"8e5aa671-3c31-44f2-84b6-b2068829e2ad\" class=\"plotly-graph-div\" style=\"height:525px; width:100%;\"></div>            <script type=\"text/javascript\">                require([\"plotly\"], function(Plotly) {                    window.PLOTLYENV=window.PLOTLYENV || {};                                    if (document.getElementById(\"8e5aa671-3c31-44f2-84b6-b2068829e2ad\")) {                    Plotly.newPlot(                        \"8e5aa671-3c31-44f2-84b6-b2068829e2ad\",                        [{\"name\":\"EUA Jun24 40P\",\"x\":[50,51,52,53,54,55,56,57,58,59,60,61,62,63,64,65,66,67,68,69,70,71,72,73,74,75,76,77,78,79,80,81,82,83,84,85,86,87,88,89,90,91,92,93,94,95,96,97,98,99,100],\"y\":[-16472.358071879116,-19294.139207752713,-21308.293379695584,-22728.424541800796,-23718.137290325525,-24400.32339380314,-24865.659303154414,-25179.960487016066,-25390.278136273104,-25529.77969742277,-25621.54290683028,-25681.43180038769,-25720.2293211306,-25745.188121245068,-25761.13876395544,-25771.26927188791,-25777.66570866289,-25781.682193207867,-25784.1911592031,-25785.75077085514,-25786.715791607676,-25787.31032230586,-25787.67511168052,-25787.898082146028,-25788.033879488,-25788.116306636184,-25788.166180815046,-25788.19626889492,-25788.214370154248,-25788.22523183246,-25788.231733626653,-25788.235616813374,-25788.237931163334,-25788.239307800908,-25788.240125173612,-25788.240609668013,-25788.24089640298,-25788.241065854698,-25788.241165863343,-25788.24122481558,-25788.24125952741,-25788.241279945465,-25788.24129194529,-25788.241298991303,-25788.24130312517,-25788.24130554925,-25788.2413069701,-25788.241307802058,-25788.241308289165,-25788.241308574456,-25788.241308741108],\"type\":\"scatter\",\"xaxis\":\"x\",\"yaxis\":\"y\"},{\"name\":\"EUA Jun24 40P\",\"x\":[50,51,52,53,54,55,56,57,58,59,60,61,62,63,64,65,66,67,68,69,70,71,72,73,74,75,76,77,78,79,80,81,82,83,84,85,86,87,88,89,90,91,92,93,94,95,96,97,98,99,100],\"y\":[-2007.2619525012935,-1441.3878082900678,-1022.077335571836,-716.1384883990429,-496.12888984835735,-340.04721056370977,-230.71870409495654,-155.04780362477487,-103.25634257374317,-68.17955850974555,-44.6565557955858,-29.02730544574461,-18.732922761932613,-12.007676021863478,-7.647775074748342,-4.841649918652102,-3.047789099441811,-1.9083276262599203,-1.1888669411985742,-0.7371478008888488,-0.45502886093506945,-0.2797061838089032,-0.17125910767856745,-0.10447150357584256,-0.06350871198934627,-0.03848165474051868,-0.023245990588005583,-0.014002341430785492,-0.008411853408274439,-0.005040774470055354,-0.0030136282580528473,-0.0017977845101491141,-0.0010703022246261185,-0.0006360014903616928,-0.00037726956558792324,-0.0002234310292337227,-0.00013212550498131748,-7.802470336493172e-05,-4.601805603243747e-05,-2.7109470224218057e-05,-1.595344412130828e-05,-9.379291787681154e-06,-5.5094429018964775e-06,-3.2337410527105703e-06,-1.8966994641544943e-06,-1.111788439089878e-06,-6.513400929719637e-07,-3.814115689948494e-07,-2.2325474802187273e-07,-1.3063439219251904e-07,-7.641665078494952e-08],\"type\":\"scatter\",\"xaxis\":\"x2\",\"yaxis\":\"y2\"},{\"name\":\"EUA Jun24 50P\",\"x\":[50,51,52,53,54,55,56,57,58,59,60,61,62,63,64,65,66,67,68,69,70,71,72,73,74,75,76,77,78,79,80,81,82,83,84,85,86,87,88,89,90,91,92,93,94,95,96,97,98,99,100],\"y\":[-81029.0101320523,-44548.45734445011,-13717.216800718104,11874.438538970226,32741.932762828914,49462.07675213412,62631.79299822476,72833.54945034055,80609.43798635312,86444.27717005709,90756.95184538559,93898.49193663204,96155.1030069272,97754.39476716093,98873.29409091259,99646.46857725251,100174.44252734212,100530.9059323762,100768.97178614316,100926.32083190115,101029.29158029384,101096.03938282543,101138.91562729445,101166.2198166595,101183.46404151584,101194.26897440632,101200.98821115904,101205.1366650356,101207.6803525228,101209.22984361519,101210.16782264362,101210.73224107167,101211.0699427403,101211.27090015015,101211.3898663454,101211.45994682945,101211.50103580824,101211.52501888109,101211.538957762,101211.54702608143,101211.55167824618,101211.55435079224,101211.55588072047,101211.55675362612,101211.55725008746,101211.5575315976,101211.55769076635,101211.5577805178,101211.55783099639,101211.55785931688,101211.55787516973],\"type\":\"scatter\",\"xaxis\":\"x\",\"yaxis\":\"y\"},{\"name\":\"EUA Jun24 50P\",\"x\":[50,51,52,53,54,55,56,57,58,59,60,61,62,63,64,65,66,67,68,69,70,71,72,73,74,75,76,77,78,79,80,81,82,83,84,85,86,87,88,89,90,91,92,93,94,95,96,97,98,99,100],\"y\":[23888.54779145053,20367.646087685625,17054.28368544497,14025.821390579069,11332.833475163185,8999.49482115343,7026.709977478018,5396.938984947602,4079.6930996461533,3036.8616500842436,2227.300286498041,1610.3851690734916,1148.4669603509356,808.3194534023453,561.7683969824594,385.718148784675,261.78456640056356,175.709509219818,116.68977630878152,76.71114761684805,49.942095368371575,32.21400883207659,20.5955010568748,13.056362443836234,8.210317267692835,5.1232367235864995,3.173422268509807,1.9518933467688182,1.192528399168724,0.7239349093302039,0.4367937998961402,0.262012560425795,0.15629812246675812,0.0927435469866289,0.054754449868577026,0.03217094479146532,0.018815484376100144,0.010956415913421225,0.00635350628219733,0.00366975248522472,0.002111646912883458,0.0012107275793038497,0.0006918122297250306,0.0003940212045527858,0.0002237228680090908,0.00012665652415755346,7.150482983497852e-05,4.026200484119613e-05,2.2613438899199423e-05,1.2670853255514203e-05,7.083816866426673e-06],\"type\":\"scatter\",\"xaxis\":\"x2\",\"yaxis\":\"y2\"},{\"name\":\"EUA Jun24 70C\",\"x\":[50,51,52,53,54,55,56,57,58,59,60,61,62,63,64,65,66,67,68,69,70,71,72,73,74,75,76,77,78,79,80,81,82,83,84,85,86,87,88,89,90,91,92,93,94,95,96,97,98,99,100],\"y\":[139011.586576912,138988.7464819144,138940.02202566073,138841.59738799895,138652.7621727345,138307.6798595978,137705.40915750535,136698.95077364874,135084.65353722498,132593.7806379519,128888.25316239076,123562.42939455411,116152.19713365257,106151.71019709557,93036.94865583366,76294.15084237879,55450.288706434294,30102.3202921086,-57.95905209771143,-35226.058716256564,-75475.56287128765,-120758.02623346096,-170911.38254127663,-225675.34424190904,-284711.6802664935,-347627.0251427404,-413995.97046638164,-483382.5432610779,-555358.6845269579,-629518.9033433413,-705490.8114868231,-782941.6810927528,-861581.4825885877,-941163.0466028177,-1021480.0653039552,-1102363.6303017302,-1183677.9245904791,-1265315.5724757817,-1347193.0267687046,-1429246.2533459044,-1511426.8698051737,-1593698.8123609598,-1676035.5442135807,-1758417.777586809,-1840831.6571851051,-1923267.3411720125,-2005717.9132297256,-2088178.562632377,-2170645.9760121508,-2253117.8927477975,-2335592.7843899443],\"type\":\"scatter\",\"xaxis\":\"x\",\"yaxis\":\"y\"},{\"name\":\"EUA Jun24 70C\",\"x\":[50,51,52,53,54,55,56,57,58,59,60,61,62,63,64,65,66,67,68,69,70,71,72,73,74,75,76,77,78,79,80,81,82,83,84,85,86,87,88,89,90,91,92,93,94,95,96,97,98,99,100],\"y\":[-9.04698197280854,-19.929717766440355,-41.48779664251914,-81.87284005844951,-153.62264593155993,-274.84444455238406,-470.09672257495566,-770.6308133236435,-1213.6648099350407,-1840.4675099543397,-2693.225388154675,-3810.917112862551,-5224.669906343119,-6953.25401905495,-8999.431881963279,-11347.79284603685,-13964.486205398935,-16798.96163475407,-19787.50429707613,-22858.07970700425,-25935.83251040679,-28948.53777419788,-31831.377628266182,-34530.58065547533,-37005.673437050624,-39230.30870506492,-41191.816290866824,-42889.74888383731,-44333.7569405242,-45541.13109203037,-46534.30974846546,-47338.581632760055,-47980.134586323984,-48484.52683292419,-48875.59406913682,-49174.759757878586,-49400.68748389274,-49569.20117166982,-49693.397906082464,-49783.885149068556,-49849.08572188,-49895.56713207007,-49928.3646226835,-49951.27846933124,-49967.13497357226,-49978.007203821,-49985.39602689739,-49990.37471936534,-49993.701860890586,-49995.90768327598,-49997.35891080121],\"type\":\"scatter\",\"xaxis\":\"x2\",\"yaxis\":\"y2\"},{\"name\":\"EUA Jun24 80C\",\"x\":[50,51,52,53,54,55,56,57,58,59,60,61,62,63,64,65,66,67,68,69,70,71,72,73,74,75,76,77,78,79,80,81,82,83,84,85,86,87,88,89,90,91,92,93,94,95,96,97,98,99,100],\"y\":[-38574.3882057433,-38574.331829586175,-38574.17524157731,-38573.76554043646,-38572.75264882436,-38570.37961187272,-38565.096689015096,-38553.892384207735,-38531.19975378506,-38487.20880081099,-38405.408390844,-38259.20880825126,-38007.57194128273,-37589.70646134745,-36919.064866023706,-35877.08783472212,-34307.34489236509,-32010.875707347626,-28743.60000153325,-24216.602940422854,-18099.903993661213,-10029.993524869324,378.98834121341895,13520.993051306132,29781.68454622005,49521.19300625841,73057.39916342846,100651.12096668917,132494.3848699834,168702.64308732733,209311.39579518835,254277.2512583712,303483.0625995286,356746.4619517038,413830.89935830643,474458.19538611703,538321.6268789425,605098.6658208278,674462.6554752553,746092.9068816857,819682.9053338501,894946.5084877504,971622.1796941916,1049475.4233852506,1128299.671462116,1207915.9131323155,1288171.371334124,1368937.5143127765,1450107.6590405072,1531594.381391278,1613326.9024942706],\"type\":\"scatter\",\"xaxis\":\"x\",\"yaxis\":\"y\"},{\"name\":\"EUA Jun24 80C\",\"x\":[50,51,52,53,54,55,56,57,58,59,60,61,62,63,64,65,66,67,68,69,70,71,72,73,74,75,76,77,78,79,80,81,82,83,84,85,86,87,88,89,90,91,92,93,94,95,96,97,98,99,100],\"y\":[0.0191264902999259,0.055097359094954154,0.14918257708262891,0.38089884741829383,0.9198738348623096,2.107243337903981,4.591287078469593,9.538586286715576,18.940718120344997,36.0285290106071,65.78934028872261,115.55678904582702,195.6109256936476,319.6933873116296,505.3172259877925,773.7424264862955,1149.5037518729819,1659.4204571608182,2331.084603915974,3190.9067090556096,4261.879812298111,5561.289380827442,7098.63232741457,8874.004768482022,10877.173628264884,13087.468478889325,15474.530267908249,17999.849538585768,20618.935092254455,23283.88820339999,25946.12539285145,28558.995945602437,31080.07454016149,33472.9659791667,35708.52736509763,37765.48241941492,39630.46398105479,41297.56782291738,42767.530753751846,44046.65843599413,45145.625649790665,46078.2575094195,46860.37860697464,47508.792290332836,48040.42769809482,48471.67027219227,48817.87376390997,49093.03886365478,49309.63543418897,49478.541341466356,49609.07021742875],\"type\":\"scatter\",\"xaxis\":\"x2\",\"yaxis\":\"y2\"},{\"mode\":\"lines\",\"name\":\"Total_PnL\",\"x\":[50,51,52,53,54,55,56,57,58,59,60,61,62,63,64,65,66,67,68,69,70,71,72,73,74,75,76,77,78,79,80,81,82,83,84,85,86,87,88,89,90,91,92,93,94,95,96,97,98,99,100],\"y\":[2935.8301672372836,36571.81810012539,65340.336603669726,89413.84584473191,109103.80499641353,124799.05360605606,136906.44616356058,145798.6473527655,151772.61363351994,155021.06930977522,155618.25371010206,153520.2807225472,148579.49887816643,140571.210381664,129230.0391167671,114292.26231302126,95539.72063274845,72840.66832392932,46183.2215733091,15697.908404366586,-18332.891076262695,-55479.290697810706,-95181.15368444928,-136776.02945608943,-179534.56555824564,-222699.6794687119,-265525.7492726092,-307314.4818982481,-347444.83367460594,-385395.2556442312,-420757.4796026178,-453241.93321012333,-482675.5879774821,-508993.5530587646,-532226.016204477,-552482.2155784518,-569933.0375721314,-584793.6227019274,-597307.0735015506,-607730.0406629528,-616320.6540526049,-623328.9908023627,-628990.049930614,-633519.0387469234,-637108.6697760269,-639928.1118136486,-642123.2255118054,-643817.7318468848,-645115.0004489364,-646100.1948057772,-646842.5653292451],\"type\":\"scatter\",\"xaxis\":\"x\",\"yaxis\":\"y\"},{\"mode\":\"lines\",\"name\":\"Total_Delta\",\"x\":[50,51,52,53,54,55,56,57,58,59,60,61,62,63,64,65,66,67,68,69,70,71,72,73,74,75,76,77,78,79,80,81,82,83,84,85,86,87,88,89,90,91,92,93,94,95,96,97,98,99,100],\"y\":[21872.25798346673,18906.383658988212,15990.867735807698,13228.190960968994,10684.001813218129,8386.71040937524,6330.485837886576,4480.798954285899,2781.7126652577144,1164.2431106307654,-444.79231716349744,-2114.0024601889772,-3899.3249430604683,-5837.248854362839,-7939.994034067776,-10193.173920684532,-12556.245676224831,-14965.739995999693,-17340.918783792575,-19591.19899813268,-21624.465631601244,-23355.31409072217,-24712.321058902417,-25643.623996053044,-26120.353000230032,-26137.755471106746,-25714.135846680652,-24887.961454246208,-23713.63773172399,-22256.523994495525,-20587.75057544237,-18779.3254723817,-16899.90481834225,-15011.468746211991,-13167.012326858887,-11409.245390949902,-9770.204819479077,-8271.622470361232,-6925.860844842391,-5737.223070431406,-4703.457976395868,-3817.3084213022885,-3067.9853294060667,-2442.4857882109427,-1926.7070536512765,-1506.336806083993,-1167.5221921339325,-897.335815829967,-684.0664043114375,-517.3663292694036,-388.2886863650565],\"type\":\"scatter\",\"xaxis\":\"x2\",\"yaxis\":\"y2\"}],                        {\"template\":{\"data\":{\"histogram2dcontour\":[{\"type\":\"histogram2dcontour\",\"colorbar\":{\"outlinewidth\":0,\"ticks\":\"\"},\"colorscale\":[[0.0,\"#0d0887\"],[0.1111111111111111,\"#46039f\"],[0.2222222222222222,\"#7201a8\"],[0.3333333333333333,\"#9c179e\"],[0.4444444444444444,\"#bd3786\"],[0.5555555555555556,\"#d8576b\"],[0.6666666666666666,\"#ed7953\"],[0.7777777777777778,\"#fb9f3a\"],[0.8888888888888888,\"#fdca26\"],[1.0,\"#f0f921\"]]}],\"choropleth\":[{\"type\":\"choropleth\",\"colorbar\":{\"outlinewidth\":0,\"ticks\":\"\"}}],\"histogram2d\":[{\"type\":\"histogram2d\",\"colorbar\":{\"outlinewidth\":0,\"ticks\":\"\"},\"colorscale\":[[0.0,\"#0d0887\"],[0.1111111111111111,\"#46039f\"],[0.2222222222222222,\"#7201a8\"],[0.3333333333333333,\"#9c179e\"],[0.4444444444444444,\"#bd3786\"],[0.5555555555555556,\"#d8576b\"],[0.6666666666666666,\"#ed7953\"],[0.7777777777777778,\"#fb9f3a\"],[0.8888888888888888,\"#fdca26\"],[1.0,\"#f0f921\"]]}],\"heatmap\":[{\"type\":\"heatmap\",\"colorbar\":{\"outlinewidth\":0,\"ticks\":\"\"},\"colorscale\":[[0.0,\"#0d0887\"],[0.1111111111111111,\"#46039f\"],[0.2222222222222222,\"#7201a8\"],[0.3333333333333333,\"#9c179e\"],[0.4444444444444444,\"#bd3786\"],[0.5555555555555556,\"#d8576b\"],[0.6666666666666666,\"#ed7953\"],[0.7777777777777778,\"#fb9f3a\"],[0.8888888888888888,\"#fdca26\"],[1.0,\"#f0f921\"]]}],\"heatmapgl\":[{\"type\":\"heatmapgl\",\"colorbar\":{\"outlinewidth\":0,\"ticks\":\"\"},\"colorscale\":[[0.0,\"#0d0887\"],[0.1111111111111111,\"#46039f\"],[0.2222222222222222,\"#7201a8\"],[0.3333333333333333,\"#9c179e\"],[0.4444444444444444,\"#bd3786\"],[0.5555555555555556,\"#d8576b\"],[0.6666666666666666,\"#ed7953\"],[0.7777777777777778,\"#fb9f3a\"],[0.8888888888888888,\"#fdca26\"],[1.0,\"#f0f921\"]]}],\"contourcarpet\":[{\"type\":\"contourcarpet\",\"colorbar\":{\"outlinewidth\":0,\"ticks\":\"\"}}],\"contour\":[{\"type\":\"contour\",\"colorbar\":{\"outlinewidth\":0,\"ticks\":\"\"},\"colorscale\":[[0.0,\"#0d0887\"],[0.1111111111111111,\"#46039f\"],[0.2222222222222222,\"#7201a8\"],[0.3333333333333333,\"#9c179e\"],[0.4444444444444444,\"#bd3786\"],[0.5555555555555556,\"#d8576b\"],[0.6666666666666666,\"#ed7953\"],[0.7777777777777778,\"#fb9f3a\"],[0.8888888888888888,\"#fdca26\"],[1.0,\"#f0f921\"]]}],\"surface\":[{\"type\":\"surface\",\"colorbar\":{\"outlinewidth\":0,\"ticks\":\"\"},\"colorscale\":[[0.0,\"#0d0887\"],[0.1111111111111111,\"#46039f\"],[0.2222222222222222,\"#7201a8\"],[0.3333333333333333,\"#9c179e\"],[0.4444444444444444,\"#bd3786\"],[0.5555555555555556,\"#d8576b\"],[0.6666666666666666,\"#ed7953\"],[0.7777777777777778,\"#fb9f3a\"],[0.8888888888888888,\"#fdca26\"],[1.0,\"#f0f921\"]]}],\"mesh3d\":[{\"type\":\"mesh3d\",\"colorbar\":{\"outlinewidth\":0,\"ticks\":\"\"}}],\"scatter\":[{\"fillpattern\":{\"fillmode\":\"overlay\",\"size\":10,\"solidity\":0.2},\"type\":\"scatter\"}],\"parcoords\":[{\"type\":\"parcoords\",\"line\":{\"colorbar\":{\"outlinewidth\":0,\"ticks\":\"\"}}}],\"scatterpolargl\":[{\"type\":\"scatterpolargl\",\"marker\":{\"colorbar\":{\"outlinewidth\":0,\"ticks\":\"\"}}}],\"bar\":[{\"error_x\":{\"color\":\"#2a3f5f\"},\"error_y\":{\"color\":\"#2a3f5f\"},\"marker\":{\"line\":{\"color\":\"#E5ECF6\",\"width\":0.5},\"pattern\":{\"fillmode\":\"overlay\",\"size\":10,\"solidity\":0.2}},\"type\":\"bar\"}],\"scattergeo\":[{\"type\":\"scattergeo\",\"marker\":{\"colorbar\":{\"outlinewidth\":0,\"ticks\":\"\"}}}],\"scatterpolar\":[{\"type\":\"scatterpolar\",\"marker\":{\"colorbar\":{\"outlinewidth\":0,\"ticks\":\"\"}}}],\"histogram\":[{\"marker\":{\"pattern\":{\"fillmode\":\"overlay\",\"size\":10,\"solidity\":0.2}},\"type\":\"histogram\"}],\"scattergl\":[{\"type\":\"scattergl\",\"marker\":{\"colorbar\":{\"outlinewidth\":0,\"ticks\":\"\"}}}],\"scatter3d\":[{\"type\":\"scatter3d\",\"line\":{\"colorbar\":{\"outlinewidth\":0,\"ticks\":\"\"}},\"marker\":{\"colorbar\":{\"outlinewidth\":0,\"ticks\":\"\"}}}],\"scattermapbox\":[{\"type\":\"scattermapbox\",\"marker\":{\"colorbar\":{\"outlinewidth\":0,\"ticks\":\"\"}}}],\"scatterternary\":[{\"type\":\"scatterternary\",\"marker\":{\"colorbar\":{\"outlinewidth\":0,\"ticks\":\"\"}}}],\"scattercarpet\":[{\"type\":\"scattercarpet\",\"marker\":{\"colorbar\":{\"outlinewidth\":0,\"ticks\":\"\"}}}],\"carpet\":[{\"aaxis\":{\"endlinecolor\":\"#2a3f5f\",\"gridcolor\":\"white\",\"linecolor\":\"white\",\"minorgridcolor\":\"white\",\"startlinecolor\":\"#2a3f5f\"},\"baxis\":{\"endlinecolor\":\"#2a3f5f\",\"gridcolor\":\"white\",\"linecolor\":\"white\",\"minorgridcolor\":\"white\",\"startlinecolor\":\"#2a3f5f\"},\"type\":\"carpet\"}],\"table\":[{\"cells\":{\"fill\":{\"color\":\"#EBF0F8\"},\"line\":{\"color\":\"white\"}},\"header\":{\"fill\":{\"color\":\"#C8D4E3\"},\"line\":{\"color\":\"white\"}},\"type\":\"table\"}],\"barpolar\":[{\"marker\":{\"line\":{\"color\":\"#E5ECF6\",\"width\":0.5},\"pattern\":{\"fillmode\":\"overlay\",\"size\":10,\"solidity\":0.2}},\"type\":\"barpolar\"}],\"pie\":[{\"automargin\":true,\"type\":\"pie\"}]},\"layout\":{\"autotypenumbers\":\"strict\",\"colorway\":[\"#636efa\",\"#EF553B\",\"#00cc96\",\"#ab63fa\",\"#FFA15A\",\"#19d3f3\",\"#FF6692\",\"#B6E880\",\"#FF97FF\",\"#FECB52\"],\"font\":{\"color\":\"#2a3f5f\"},\"hovermode\":\"closest\",\"hoverlabel\":{\"align\":\"left\"},\"paper_bgcolor\":\"white\",\"plot_bgcolor\":\"#E5ECF6\",\"polar\":{\"bgcolor\":\"#E5ECF6\",\"angularaxis\":{\"gridcolor\":\"white\",\"linecolor\":\"white\",\"ticks\":\"\"},\"radialaxis\":{\"gridcolor\":\"white\",\"linecolor\":\"white\",\"ticks\":\"\"}},\"ternary\":{\"bgcolor\":\"#E5ECF6\",\"aaxis\":{\"gridcolor\":\"white\",\"linecolor\":\"white\",\"ticks\":\"\"},\"baxis\":{\"gridcolor\":\"white\",\"linecolor\":\"white\",\"ticks\":\"\"},\"caxis\":{\"gridcolor\":\"white\",\"linecolor\":\"white\",\"ticks\":\"\"}},\"coloraxis\":{\"colorbar\":{\"outlinewidth\":0,\"ticks\":\"\"}},\"colorscale\":{\"sequential\":[[0.0,\"#0d0887\"],[0.1111111111111111,\"#46039f\"],[0.2222222222222222,\"#7201a8\"],[0.3333333333333333,\"#9c179e\"],[0.4444444444444444,\"#bd3786\"],[0.5555555555555556,\"#d8576b\"],[0.6666666666666666,\"#ed7953\"],[0.7777777777777778,\"#fb9f3a\"],[0.8888888888888888,\"#fdca26\"],[1.0,\"#f0f921\"]],\"sequentialminus\":[[0.0,\"#0d0887\"],[0.1111111111111111,\"#46039f\"],[0.2222222222222222,\"#7201a8\"],[0.3333333333333333,\"#9c179e\"],[0.4444444444444444,\"#bd3786\"],[0.5555555555555556,\"#d8576b\"],[0.6666666666666666,\"#ed7953\"],[0.7777777777777778,\"#fb9f3a\"],[0.8888888888888888,\"#fdca26\"],[1.0,\"#f0f921\"]],\"diverging\":[[0,\"#8e0152\"],[0.1,\"#c51b7d\"],[0.2,\"#de77ae\"],[0.3,\"#f1b6da\"],[0.4,\"#fde0ef\"],[0.5,\"#f7f7f7\"],[0.6,\"#e6f5d0\"],[0.7,\"#b8e186\"],[0.8,\"#7fbc41\"],[0.9,\"#4d9221\"],[1,\"#276419\"]]},\"xaxis\":{\"gridcolor\":\"white\",\"linecolor\":\"white\",\"ticks\":\"\",\"title\":{\"standoff\":15},\"zerolinecolor\":\"white\",\"automargin\":true,\"zerolinewidth\":2},\"yaxis\":{\"gridcolor\":\"white\",\"linecolor\":\"white\",\"ticks\":\"\",\"title\":{\"standoff\":15},\"zerolinecolor\":\"white\",\"automargin\":true,\"zerolinewidth\":2},\"scene\":{\"xaxis\":{\"backgroundcolor\":\"#E5ECF6\",\"gridcolor\":\"white\",\"linecolor\":\"white\",\"showbackground\":true,\"ticks\":\"\",\"zerolinecolor\":\"white\",\"gridwidth\":2},\"yaxis\":{\"backgroundcolor\":\"#E5ECF6\",\"gridcolor\":\"white\",\"linecolor\":\"white\",\"showbackground\":true,\"ticks\":\"\",\"zerolinecolor\":\"white\",\"gridwidth\":2},\"zaxis\":{\"backgroundcolor\":\"#E5ECF6\",\"gridcolor\":\"white\",\"linecolor\":\"white\",\"showbackground\":true,\"ticks\":\"\",\"zerolinecolor\":\"white\",\"gridwidth\":2}},\"shapedefaults\":{\"line\":{\"color\":\"#2a3f5f\"}},\"annotationdefaults\":{\"arrowcolor\":\"#2a3f5f\",\"arrowhead\":0,\"arrowwidth\":1},\"geo\":{\"bgcolor\":\"white\",\"landcolor\":\"#E5ECF6\",\"subunitcolor\":\"white\",\"showland\":true,\"showlakes\":true,\"lakecolor\":\"white\"},\"title\":{\"x\":0.05},\"mapbox\":{\"style\":\"light\"}}},\"xaxis\":{\"anchor\":\"y\",\"domain\":[0.0,0.45],\"title\":{\"text\":\"Price\"}},\"yaxis\":{\"anchor\":\"x\",\"domain\":[0.0,1.0],\"title\":{\"text\":\"Pnl\"}},\"xaxis2\":{\"anchor\":\"y2\",\"domain\":[0.55,1.0],\"title\":{\"text\":\"Price\"}},\"yaxis2\":{\"anchor\":\"x2\",\"domain\":[0.0,1.0],\"title\":{\"text\":\"Delta\"}},\"title\":{\"text\":\"Todays Option Pos (PnL and Delta)\",\"x\":0.5,\"xanchor\":\"center\"},\"barmode\":\"stack\"},                        {\"responsive\": true}                    ).then(function(){\n",
       "                            \n",
       "var gd = document.getElementById('8e5aa671-3c31-44f2-84b6-b2068829e2ad');\n",
       "var x = new MutationObserver(function (mutations, observer) {{\n",
       "        var display = window.getComputedStyle(gd).display;\n",
       "        if (!display || display === 'none') {{\n",
       "            console.log([gd, 'removed!']);\n",
       "            Plotly.purge(gd);\n",
       "            observer.disconnect();\n",
       "        }}\n",
       "}});\n",
       "\n",
       "// Listen for the removal of the full notebook cells\n",
       "var notebookContainer = gd.closest('#notebook-container');\n",
       "if (notebookContainer) {{\n",
       "    x.observe(notebookContainer, {childList: true});\n",
       "}}\n",
       "\n",
       "// Listen for the clearing of the current output cell\n",
       "var outputEl = gd.closest('.output');\n",
       "if (outputEl) {{\n",
       "    x.observe(outputEl, {childList: true});\n",
       "}}\n",
       "\n",
       "                        })                };                });            </script>        </div>"
      ]
     },
     "metadata": {},
     "output_type": "display_data"
    }
   ],
   "source": [
    "pnl_delta_plot(end_of_may)"
   ]
  },
  {
   "cell_type": "markdown",
   "id": "53e1ac51",
   "metadata": {},
   "source": [
    "## Mid June"
   ]
  },
  {
   "cell_type": "code",
   "execution_count": null,
   "id": "d5935e2b",
   "metadata": {},
   "outputs": [],
   "source": [
    "pnl_delta_plot(june_expiry)"
   ]
  },
  {
   "cell_type": "markdown",
   "id": "8cc6406d",
   "metadata": {},
   "source": [
    "## End of Year"
   ]
  },
  {
   "cell_type": "code",
   "execution_count": 19,
   "id": "76f3a582",
   "metadata": {},
   "outputs": [
    {
     "data": {
      "application/vnd.plotly.v1+json": {
       "config": {
        "plotlyServerURL": "https://plot.ly"
       },
       "data": [
        {
         "name": "EUA Jun24 40P",
         "type": "scatter",
         "x": [
          50,
          51,
          52,
          53,
          54,
          55,
          56,
          57,
          58,
          59,
          60,
          61,
          62,
          63,
          64,
          65,
          66,
          67,
          68,
          69,
          70,
          71,
          72,
          73,
          74,
          75,
          76,
          77,
          78,
          79,
          80,
          81,
          82,
          83,
          84,
          85,
          86,
          87,
          88,
          89,
          90,
          91,
          92,
          93,
          94,
          95,
          96,
          97,
          98,
          99,
          100
         ],
         "xaxis": "x",
         "y": [
          -25788.241308976183,
          -25788.241308976183,
          -25788.241308976183,
          -25788.241308976183,
          -25788.241308976183,
          -25788.241308976183,
          -25788.241308976183,
          -25788.241308976183,
          -25788.241308976183,
          -25788.241308976183,
          -25788.241308976183,
          -25788.241308976183,
          -25788.241308976183,
          -25788.241308976183,
          -25788.241308976183,
          -25788.241308976183,
          -25788.241308976183,
          -25788.241308976183,
          -25788.241308976183,
          -25788.241308976183,
          -25788.241308976183,
          -25788.241308976183,
          -25788.241308976183,
          -25788.241308976183,
          -25788.241308976183,
          -25788.241308976183,
          -25788.241308976183,
          -25788.241308976183,
          -25788.241308976183,
          -25788.241308976183,
          -25788.241308976183,
          -25788.241308976183,
          -25788.241308976183,
          -25788.241308976183,
          -25788.241308976183,
          -25788.241308976183,
          -25788.241308976183,
          -25788.241308976183,
          -25788.241308976183,
          -25788.241308976183,
          -25788.241308976183,
          -25788.241308976183,
          -25788.241308976183,
          -25788.241308976183,
          -25788.241308976183,
          -25788.241308976183,
          -25788.241308976183,
          -25788.241308976183,
          -25788.241308976183,
          -25788.241308976183,
          -25788.241308976183
         ],
         "yaxis": "y"
        },
        {
         "name": "EUA Jun24 40P",
         "type": "scatter",
         "x": [
          50,
          51,
          52,
          53,
          54,
          55,
          56,
          57,
          58,
          59,
          60,
          61,
          62,
          63,
          64,
          65,
          66,
          67,
          68,
          69,
          70,
          71,
          72,
          73,
          74,
          75,
          76,
          77,
          78,
          79,
          80,
          81,
          82,
          83,
          84,
          85,
          86,
          87,
          88,
          89,
          90,
          91,
          92,
          93,
          94,
          95,
          96,
          97,
          98,
          99,
          100
         ],
         "xaxis": "x2",
         "y": [
          0,
          0,
          0,
          0,
          0,
          0,
          0,
          0,
          0,
          0,
          0,
          0,
          0,
          0,
          0,
          0,
          0,
          0,
          0,
          0,
          0,
          0,
          0,
          0,
          0,
          0,
          0,
          0,
          0,
          0,
          0,
          0,
          0,
          0,
          0,
          0,
          0,
          0,
          0,
          0,
          0,
          0,
          0,
          0,
          0,
          0,
          0,
          0,
          0,
          0,
          0
         ],
         "yaxis": "y2"
        },
        {
         "name": "EUA Jun24 50P",
         "type": "scatter",
         "x": [
          50,
          51,
          52,
          53,
          54,
          55,
          56,
          57,
          58,
          59,
          60,
          61,
          62,
          63,
          64,
          65,
          66,
          67,
          68,
          69,
          70,
          71,
          72,
          73,
          74,
          75,
          76,
          77,
          78,
          79,
          80,
          81,
          82,
          83,
          84,
          85,
          86,
          87,
          88,
          89,
          90,
          91,
          92,
          93,
          94,
          95,
          96,
          97,
          98,
          99,
          100
         ],
         "xaxis": "x",
         "y": [
          101211.5578951148,
          101211.5578951148,
          101211.5578951148,
          101211.5578951148,
          101211.5578951148,
          101211.5578951148,
          101211.5578951148,
          101211.5578951148,
          101211.5578951148,
          101211.5578951148,
          101211.5578951148,
          101211.5578951148,
          101211.5578951148,
          101211.5578951148,
          101211.5578951148,
          101211.5578951148,
          101211.5578951148,
          101211.5578951148,
          101211.5578951148,
          101211.5578951148,
          101211.5578951148,
          101211.5578951148,
          101211.5578951148,
          101211.5578951148,
          101211.5578951148,
          101211.5578951148,
          101211.5578951148,
          101211.5578951148,
          101211.5578951148,
          101211.5578951148,
          101211.5578951148,
          101211.5578951148,
          101211.5578951148,
          101211.5578951148,
          101211.5578951148,
          101211.5578951148,
          101211.5578951148,
          101211.5578951148,
          101211.5578951148,
          101211.5578951148,
          101211.5578951148,
          101211.5578951148,
          101211.5578951148,
          101211.5578951148,
          101211.5578951148,
          101211.5578951148,
          101211.5578951148,
          101211.5578951148,
          101211.5578951148,
          101211.5578951148,
          101211.5578951148
         ],
         "yaxis": "y"
        },
        {
         "name": "EUA Jun24 50P",
         "type": "scatter",
         "x": [
          50,
          51,
          52,
          53,
          54,
          55,
          56,
          57,
          58,
          59,
          60,
          61,
          62,
          63,
          64,
          65,
          66,
          67,
          68,
          69,
          70,
          71,
          72,
          73,
          74,
          75,
          76,
          77,
          78,
          79,
          80,
          81,
          82,
          83,
          84,
          85,
          86,
          87,
          88,
          89,
          90,
          91,
          92,
          93,
          94,
          95,
          96,
          97,
          98,
          99,
          100
         ],
         "xaxis": "x2",
         "y": [
          null,
          0,
          0,
          0,
          0,
          0,
          0,
          0,
          0,
          0,
          0,
          0,
          0,
          0,
          0,
          0,
          0,
          0,
          0,
          0,
          0,
          0,
          0,
          0,
          0,
          0,
          0,
          0,
          0,
          0,
          0,
          0,
          0,
          0,
          0,
          0,
          0,
          0,
          0,
          0,
          0,
          0,
          0,
          0,
          0,
          0,
          0,
          0,
          0,
          0,
          0
         ],
         "yaxis": "y2"
        },
        {
         "name": "EUA Jun24 70C",
         "type": "scatter",
         "x": [
          50,
          51,
          52,
          53,
          54,
          55,
          56,
          57,
          58,
          59,
          60,
          61,
          62,
          63,
          64,
          65,
          66,
          67,
          68,
          69,
          70,
          71,
          72,
          73,
          74,
          75,
          76,
          77,
          78,
          79,
          80,
          81,
          82,
          83,
          84,
          85,
          86,
          87,
          88,
          89,
          90,
          91,
          92,
          93,
          94,
          95,
          96,
          97,
          98,
          99,
          100
         ],
         "xaxis": "x",
         "y": [
          139028.425416976,
          139028.425416976,
          139028.425416976,
          139028.425416976,
          139028.425416976,
          139028.425416976,
          139028.425416976,
          139028.425416976,
          139028.425416976,
          139028.425416976,
          139028.425416976,
          139028.425416976,
          139028.425416976,
          139028.425416976,
          139028.425416976,
          139028.425416976,
          139028.425416976,
          139028.425416976,
          139028.425416976,
          139028.425416976,
          139028.425416976,
          56391.92541697601,
          -26244.57458302399,
          -108881.07458302399,
          -191517.57458302402,
          -274154.074583024,
          -356790.574583024,
          -439427.074583024,
          -522063.574583024,
          -604700.074583024,
          -687336.5745830239,
          -769973.0745830239,
          -852609.5745830239,
          -935246.0745830239,
          -1017882.5745830239,
          -1100519.074583024,
          -1183155.574583024,
          -1265792.074583024,
          -1348428.574583024,
          -1431065.074583024,
          -1513701.574583024,
          -1596338.074583024,
          -1678974.574583024,
          -1761611.074583024,
          -1844247.574583024,
          -1926884.074583024,
          -2009520.574583024,
          -2092157.074583024,
          -2174793.574583024,
          -2257430.074583024,
          -2340066.574583024
         ],
         "yaxis": "y"
        },
        {
         "name": "EUA Jun24 70C",
         "type": "scatter",
         "x": [
          50,
          51,
          52,
          53,
          54,
          55,
          56,
          57,
          58,
          59,
          60,
          61,
          62,
          63,
          64,
          65,
          66,
          67,
          68,
          69,
          70,
          71,
          72,
          73,
          74,
          75,
          76,
          77,
          78,
          79,
          80,
          81,
          82,
          83,
          84,
          85,
          86,
          87,
          88,
          89,
          90,
          91,
          92,
          93,
          94,
          95,
          96,
          97,
          98,
          99,
          100
         ],
         "xaxis": "x2",
         "y": [
          0,
          0,
          0,
          0,
          0,
          0,
          0,
          0,
          0,
          0,
          0,
          0,
          0,
          0,
          0,
          0,
          0,
          0,
          0,
          0,
          null,
          -50000,
          -50000,
          -50000,
          -50000,
          -50000,
          -50000,
          -50000,
          -50000,
          -50000,
          -50000,
          -50000,
          -50000,
          -50000,
          -50000,
          -50000,
          -50000,
          -50000,
          -50000,
          -50000,
          -50000,
          -50000,
          -50000,
          -50000,
          -50000,
          -50000,
          -50000,
          -50000,
          -50000,
          -50000,
          -50000
         ],
         "yaxis": "y2"
        },
        {
         "name": "EUA Jun24 80C",
         "type": "scatter",
         "x": [
          50,
          51,
          52,
          53,
          54,
          55,
          56,
          57,
          58,
          59,
          60,
          61,
          62,
          63,
          64,
          65,
          66,
          67,
          68,
          69,
          70,
          71,
          72,
          73,
          74,
          75,
          76,
          77,
          78,
          79,
          80,
          81,
          82,
          83,
          84,
          85,
          86,
          87,
          88,
          89,
          90,
          91,
          92,
          93,
          94,
          95,
          96,
          97,
          98,
          99,
          100
         ],
         "xaxis": "x",
         "y": [
          -38574.41571071709,
          -38574.41571071709,
          -38574.41571071709,
          -38574.41571071709,
          -38574.41571071709,
          -38574.41571071709,
          -38574.41571071709,
          -38574.41571071709,
          -38574.41571071709,
          -38574.41571071709,
          -38574.41571071709,
          -38574.41571071709,
          -38574.41571071709,
          -38574.41571071709,
          -38574.41571071709,
          -38574.41571071709,
          -38574.41571071709,
          -38574.41571071709,
          -38574.41571071709,
          -38574.41571071709,
          -38574.41571071709,
          -38574.41571071709,
          -38574.41571071709,
          -38574.41571071709,
          -38574.41571071709,
          -38574.41571071709,
          -38574.41571071709,
          -38574.41571071709,
          -38574.41571071709,
          -38574.41571071709,
          -38574.41571071709,
          44062.0842892829,
          126698.58428928291,
          209335.08428928294,
          291971.58428928297,
          374608.0842892829,
          457244.5842892829,
          539881.0842892829,
          622517.5842892829,
          705154.084289283,
          787790.584289283,
          870427.0842892829,
          953063.5842892829,
          1035700.0842892829,
          1118336.5842892828,
          1200973.084289283,
          1283609.584289283,
          1366246.084289283,
          1448882.584289283,
          1531519.084289283,
          1614155.584289283
         ],
         "yaxis": "y"
        },
        {
         "name": "EUA Jun24 80C",
         "type": "scatter",
         "x": [
          50,
          51,
          52,
          53,
          54,
          55,
          56,
          57,
          58,
          59,
          60,
          61,
          62,
          63,
          64,
          65,
          66,
          67,
          68,
          69,
          70,
          71,
          72,
          73,
          74,
          75,
          76,
          77,
          78,
          79,
          80,
          81,
          82,
          83,
          84,
          85,
          86,
          87,
          88,
          89,
          90,
          91,
          92,
          93,
          94,
          95,
          96,
          97,
          98,
          99,
          100
         ],
         "xaxis": "x2",
         "y": [
          0,
          0,
          0,
          0,
          0,
          0,
          0,
          0,
          0,
          0,
          0,
          0,
          0,
          0,
          0,
          0,
          0,
          0,
          0,
          0,
          0,
          0,
          0,
          0,
          0,
          0,
          0,
          0,
          0,
          0,
          null,
          50000,
          50000,
          50000,
          50000,
          50000,
          50000,
          50000,
          50000,
          50000,
          50000,
          50000,
          50000,
          50000,
          50000,
          50000,
          50000,
          50000,
          50000,
          50000,
          50000
         ],
         "yaxis": "y2"
        },
        {
         "mode": "lines",
         "name": "Total_PnL",
         "type": "scatter",
         "x": [
          50,
          51,
          52,
          53,
          54,
          55,
          56,
          57,
          58,
          59,
          60,
          61,
          62,
          63,
          64,
          65,
          66,
          67,
          68,
          69,
          70,
          71,
          72,
          73,
          74,
          75,
          76,
          77,
          78,
          79,
          80,
          81,
          82,
          83,
          84,
          85,
          86,
          87,
          88,
          89,
          90,
          91,
          92,
          93,
          94,
          95,
          96,
          97,
          98,
          99,
          100
         ],
         "xaxis": "x",
         "y": [
          175877.32629239754,
          175877.32629239754,
          175877.32629239754,
          175877.32629239754,
          175877.32629239754,
          175877.32629239754,
          175877.32629239754,
          175877.32629239754,
          175877.32629239754,
          175877.32629239754,
          175877.32629239754,
          175877.32629239754,
          175877.32629239754,
          175877.32629239754,
          175877.32629239754,
          175877.32629239754,
          175877.32629239754,
          175877.32629239754,
          175877.32629239754,
          175877.32629239754,
          175877.32629239754,
          93240.82629239754,
          10604.326292397542,
          -72032.17370760246,
          -154668.6737076025,
          -237305.1737076025,
          -319941.6737076025,
          -402578.1737076025,
          -485214.6737076025,
          -567851.1737076024,
          -650487.6737076024,
          -650487.6737076024,
          -650487.6737076024,
          -650487.6737076024,
          -650487.6737076023,
          -650487.6737076024,
          -650487.6737076024,
          -650487.6737076024,
          -650487.6737076024,
          -650487.6737076023,
          -650487.6737076023,
          -650487.6737076024,
          -650487.6737076024,
          -650487.6737076024,
          -650487.6737076025,
          -650487.6737076023,
          -650487.6737076023,
          -650487.6737076023,
          -650487.6737076021,
          -650487.6737076021,
          -650487.6737076021
         ],
         "yaxis": "y"
        },
        {
         "mode": "lines",
         "name": "Total_Delta",
         "type": "scatter",
         "x": [
          50,
          51,
          52,
          53,
          54,
          55,
          56,
          57,
          58,
          59,
          60,
          61,
          62,
          63,
          64,
          65,
          66,
          67,
          68,
          69,
          70,
          71,
          72,
          73,
          74,
          75,
          76,
          77,
          78,
          79,
          80,
          81,
          82,
          83,
          84,
          85,
          86,
          87,
          88,
          89,
          90,
          91,
          92,
          93,
          94,
          95,
          96,
          97,
          98,
          99,
          100
         ],
         "xaxis": "x2",
         "y": [
          0,
          0,
          0,
          0,
          0,
          0,
          0,
          0,
          0,
          0,
          0,
          0,
          0,
          0,
          0,
          0,
          0,
          0,
          0,
          0,
          0,
          -50000,
          -50000,
          -50000,
          -50000,
          -50000,
          -50000,
          -50000,
          -50000,
          -50000,
          -50000,
          0,
          0,
          0,
          0,
          0,
          0,
          0,
          0,
          0,
          0,
          0,
          0,
          0,
          0,
          0,
          0,
          0,
          0,
          0,
          0
         ],
         "yaxis": "y2"
        }
       ],
       "layout": {
        "barmode": "stack",
        "template": {
         "data": {
          "bar": [
           {
            "error_x": {
             "color": "#2a3f5f"
            },
            "error_y": {
             "color": "#2a3f5f"
            },
            "marker": {
             "line": {
              "color": "#E5ECF6",
              "width": 0.5
             },
             "pattern": {
              "fillmode": "overlay",
              "size": 10,
              "solidity": 0.2
             }
            },
            "type": "bar"
           }
          ],
          "barpolar": [
           {
            "marker": {
             "line": {
              "color": "#E5ECF6",
              "width": 0.5
             },
             "pattern": {
              "fillmode": "overlay",
              "size": 10,
              "solidity": 0.2
             }
            },
            "type": "barpolar"
           }
          ],
          "carpet": [
           {
            "aaxis": {
             "endlinecolor": "#2a3f5f",
             "gridcolor": "white",
             "linecolor": "white",
             "minorgridcolor": "white",
             "startlinecolor": "#2a3f5f"
            },
            "baxis": {
             "endlinecolor": "#2a3f5f",
             "gridcolor": "white",
             "linecolor": "white",
             "minorgridcolor": "white",
             "startlinecolor": "#2a3f5f"
            },
            "type": "carpet"
           }
          ],
          "choropleth": [
           {
            "colorbar": {
             "outlinewidth": 0,
             "ticks": ""
            },
            "type": "choropleth"
           }
          ],
          "contour": [
           {
            "colorbar": {
             "outlinewidth": 0,
             "ticks": ""
            },
            "colorscale": [
             [
              0,
              "#0d0887"
             ],
             [
              0.1111111111111111,
              "#46039f"
             ],
             [
              0.2222222222222222,
              "#7201a8"
             ],
             [
              0.3333333333333333,
              "#9c179e"
             ],
             [
              0.4444444444444444,
              "#bd3786"
             ],
             [
              0.5555555555555556,
              "#d8576b"
             ],
             [
              0.6666666666666666,
              "#ed7953"
             ],
             [
              0.7777777777777778,
              "#fb9f3a"
             ],
             [
              0.8888888888888888,
              "#fdca26"
             ],
             [
              1,
              "#f0f921"
             ]
            ],
            "type": "contour"
           }
          ],
          "contourcarpet": [
           {
            "colorbar": {
             "outlinewidth": 0,
             "ticks": ""
            },
            "type": "contourcarpet"
           }
          ],
          "heatmap": [
           {
            "colorbar": {
             "outlinewidth": 0,
             "ticks": ""
            },
            "colorscale": [
             [
              0,
              "#0d0887"
             ],
             [
              0.1111111111111111,
              "#46039f"
             ],
             [
              0.2222222222222222,
              "#7201a8"
             ],
             [
              0.3333333333333333,
              "#9c179e"
             ],
             [
              0.4444444444444444,
              "#bd3786"
             ],
             [
              0.5555555555555556,
              "#d8576b"
             ],
             [
              0.6666666666666666,
              "#ed7953"
             ],
             [
              0.7777777777777778,
              "#fb9f3a"
             ],
             [
              0.8888888888888888,
              "#fdca26"
             ],
             [
              1,
              "#f0f921"
             ]
            ],
            "type": "heatmap"
           }
          ],
          "heatmapgl": [
           {
            "colorbar": {
             "outlinewidth": 0,
             "ticks": ""
            },
            "colorscale": [
             [
              0,
              "#0d0887"
             ],
             [
              0.1111111111111111,
              "#46039f"
             ],
             [
              0.2222222222222222,
              "#7201a8"
             ],
             [
              0.3333333333333333,
              "#9c179e"
             ],
             [
              0.4444444444444444,
              "#bd3786"
             ],
             [
              0.5555555555555556,
              "#d8576b"
             ],
             [
              0.6666666666666666,
              "#ed7953"
             ],
             [
              0.7777777777777778,
              "#fb9f3a"
             ],
             [
              0.8888888888888888,
              "#fdca26"
             ],
             [
              1,
              "#f0f921"
             ]
            ],
            "type": "heatmapgl"
           }
          ],
          "histogram": [
           {
            "marker": {
             "pattern": {
              "fillmode": "overlay",
              "size": 10,
              "solidity": 0.2
             }
            },
            "type": "histogram"
           }
          ],
          "histogram2d": [
           {
            "colorbar": {
             "outlinewidth": 0,
             "ticks": ""
            },
            "colorscale": [
             [
              0,
              "#0d0887"
             ],
             [
              0.1111111111111111,
              "#46039f"
             ],
             [
              0.2222222222222222,
              "#7201a8"
             ],
             [
              0.3333333333333333,
              "#9c179e"
             ],
             [
              0.4444444444444444,
              "#bd3786"
             ],
             [
              0.5555555555555556,
              "#d8576b"
             ],
             [
              0.6666666666666666,
              "#ed7953"
             ],
             [
              0.7777777777777778,
              "#fb9f3a"
             ],
             [
              0.8888888888888888,
              "#fdca26"
             ],
             [
              1,
              "#f0f921"
             ]
            ],
            "type": "histogram2d"
           }
          ],
          "histogram2dcontour": [
           {
            "colorbar": {
             "outlinewidth": 0,
             "ticks": ""
            },
            "colorscale": [
             [
              0,
              "#0d0887"
             ],
             [
              0.1111111111111111,
              "#46039f"
             ],
             [
              0.2222222222222222,
              "#7201a8"
             ],
             [
              0.3333333333333333,
              "#9c179e"
             ],
             [
              0.4444444444444444,
              "#bd3786"
             ],
             [
              0.5555555555555556,
              "#d8576b"
             ],
             [
              0.6666666666666666,
              "#ed7953"
             ],
             [
              0.7777777777777778,
              "#fb9f3a"
             ],
             [
              0.8888888888888888,
              "#fdca26"
             ],
             [
              1,
              "#f0f921"
             ]
            ],
            "type": "histogram2dcontour"
           }
          ],
          "mesh3d": [
           {
            "colorbar": {
             "outlinewidth": 0,
             "ticks": ""
            },
            "type": "mesh3d"
           }
          ],
          "parcoords": [
           {
            "line": {
             "colorbar": {
              "outlinewidth": 0,
              "ticks": ""
             }
            },
            "type": "parcoords"
           }
          ],
          "pie": [
           {
            "automargin": true,
            "type": "pie"
           }
          ],
          "scatter": [
           {
            "fillpattern": {
             "fillmode": "overlay",
             "size": 10,
             "solidity": 0.2
            },
            "type": "scatter"
           }
          ],
          "scatter3d": [
           {
            "line": {
             "colorbar": {
              "outlinewidth": 0,
              "ticks": ""
             }
            },
            "marker": {
             "colorbar": {
              "outlinewidth": 0,
              "ticks": ""
             }
            },
            "type": "scatter3d"
           }
          ],
          "scattercarpet": [
           {
            "marker": {
             "colorbar": {
              "outlinewidth": 0,
              "ticks": ""
             }
            },
            "type": "scattercarpet"
           }
          ],
          "scattergeo": [
           {
            "marker": {
             "colorbar": {
              "outlinewidth": 0,
              "ticks": ""
             }
            },
            "type": "scattergeo"
           }
          ],
          "scattergl": [
           {
            "marker": {
             "colorbar": {
              "outlinewidth": 0,
              "ticks": ""
             }
            },
            "type": "scattergl"
           }
          ],
          "scattermapbox": [
           {
            "marker": {
             "colorbar": {
              "outlinewidth": 0,
              "ticks": ""
             }
            },
            "type": "scattermapbox"
           }
          ],
          "scatterpolar": [
           {
            "marker": {
             "colorbar": {
              "outlinewidth": 0,
              "ticks": ""
             }
            },
            "type": "scatterpolar"
           }
          ],
          "scatterpolargl": [
           {
            "marker": {
             "colorbar": {
              "outlinewidth": 0,
              "ticks": ""
             }
            },
            "type": "scatterpolargl"
           }
          ],
          "scatterternary": [
           {
            "marker": {
             "colorbar": {
              "outlinewidth": 0,
              "ticks": ""
             }
            },
            "type": "scatterternary"
           }
          ],
          "surface": [
           {
            "colorbar": {
             "outlinewidth": 0,
             "ticks": ""
            },
            "colorscale": [
             [
              0,
              "#0d0887"
             ],
             [
              0.1111111111111111,
              "#46039f"
             ],
             [
              0.2222222222222222,
              "#7201a8"
             ],
             [
              0.3333333333333333,
              "#9c179e"
             ],
             [
              0.4444444444444444,
              "#bd3786"
             ],
             [
              0.5555555555555556,
              "#d8576b"
             ],
             [
              0.6666666666666666,
              "#ed7953"
             ],
             [
              0.7777777777777778,
              "#fb9f3a"
             ],
             [
              0.8888888888888888,
              "#fdca26"
             ],
             [
              1,
              "#f0f921"
             ]
            ],
            "type": "surface"
           }
          ],
          "table": [
           {
            "cells": {
             "fill": {
              "color": "#EBF0F8"
             },
             "line": {
              "color": "white"
             }
            },
            "header": {
             "fill": {
              "color": "#C8D4E3"
             },
             "line": {
              "color": "white"
             }
            },
            "type": "table"
           }
          ]
         },
         "layout": {
          "annotationdefaults": {
           "arrowcolor": "#2a3f5f",
           "arrowhead": 0,
           "arrowwidth": 1
          },
          "autotypenumbers": "strict",
          "coloraxis": {
           "colorbar": {
            "outlinewidth": 0,
            "ticks": ""
           }
          },
          "colorscale": {
           "diverging": [
            [
             0,
             "#8e0152"
            ],
            [
             0.1,
             "#c51b7d"
            ],
            [
             0.2,
             "#de77ae"
            ],
            [
             0.3,
             "#f1b6da"
            ],
            [
             0.4,
             "#fde0ef"
            ],
            [
             0.5,
             "#f7f7f7"
            ],
            [
             0.6,
             "#e6f5d0"
            ],
            [
             0.7,
             "#b8e186"
            ],
            [
             0.8,
             "#7fbc41"
            ],
            [
             0.9,
             "#4d9221"
            ],
            [
             1,
             "#276419"
            ]
           ],
           "sequential": [
            [
             0,
             "#0d0887"
            ],
            [
             0.1111111111111111,
             "#46039f"
            ],
            [
             0.2222222222222222,
             "#7201a8"
            ],
            [
             0.3333333333333333,
             "#9c179e"
            ],
            [
             0.4444444444444444,
             "#bd3786"
            ],
            [
             0.5555555555555556,
             "#d8576b"
            ],
            [
             0.6666666666666666,
             "#ed7953"
            ],
            [
             0.7777777777777778,
             "#fb9f3a"
            ],
            [
             0.8888888888888888,
             "#fdca26"
            ],
            [
             1,
             "#f0f921"
            ]
           ],
           "sequentialminus": [
            [
             0,
             "#0d0887"
            ],
            [
             0.1111111111111111,
             "#46039f"
            ],
            [
             0.2222222222222222,
             "#7201a8"
            ],
            [
             0.3333333333333333,
             "#9c179e"
            ],
            [
             0.4444444444444444,
             "#bd3786"
            ],
            [
             0.5555555555555556,
             "#d8576b"
            ],
            [
             0.6666666666666666,
             "#ed7953"
            ],
            [
             0.7777777777777778,
             "#fb9f3a"
            ],
            [
             0.8888888888888888,
             "#fdca26"
            ],
            [
             1,
             "#f0f921"
            ]
           ]
          },
          "colorway": [
           "#636efa",
           "#EF553B",
           "#00cc96",
           "#ab63fa",
           "#FFA15A",
           "#19d3f3",
           "#FF6692",
           "#B6E880",
           "#FF97FF",
           "#FECB52"
          ],
          "font": {
           "color": "#2a3f5f"
          },
          "geo": {
           "bgcolor": "white",
           "lakecolor": "white",
           "landcolor": "#E5ECF6",
           "showlakes": true,
           "showland": true,
           "subunitcolor": "white"
          },
          "hoverlabel": {
           "align": "left"
          },
          "hovermode": "closest",
          "mapbox": {
           "style": "light"
          },
          "paper_bgcolor": "white",
          "plot_bgcolor": "#E5ECF6",
          "polar": {
           "angularaxis": {
            "gridcolor": "white",
            "linecolor": "white",
            "ticks": ""
           },
           "bgcolor": "#E5ECF6",
           "radialaxis": {
            "gridcolor": "white",
            "linecolor": "white",
            "ticks": ""
           }
          },
          "scene": {
           "xaxis": {
            "backgroundcolor": "#E5ECF6",
            "gridcolor": "white",
            "gridwidth": 2,
            "linecolor": "white",
            "showbackground": true,
            "ticks": "",
            "zerolinecolor": "white"
           },
           "yaxis": {
            "backgroundcolor": "#E5ECF6",
            "gridcolor": "white",
            "gridwidth": 2,
            "linecolor": "white",
            "showbackground": true,
            "ticks": "",
            "zerolinecolor": "white"
           },
           "zaxis": {
            "backgroundcolor": "#E5ECF6",
            "gridcolor": "white",
            "gridwidth": 2,
            "linecolor": "white",
            "showbackground": true,
            "ticks": "",
            "zerolinecolor": "white"
           }
          },
          "shapedefaults": {
           "line": {
            "color": "#2a3f5f"
           }
          },
          "ternary": {
           "aaxis": {
            "gridcolor": "white",
            "linecolor": "white",
            "ticks": ""
           },
           "baxis": {
            "gridcolor": "white",
            "linecolor": "white",
            "ticks": ""
           },
           "bgcolor": "#E5ECF6",
           "caxis": {
            "gridcolor": "white",
            "linecolor": "white",
            "ticks": ""
           }
          },
          "title": {
           "x": 0.05
          },
          "xaxis": {
           "automargin": true,
           "gridcolor": "white",
           "linecolor": "white",
           "ticks": "",
           "title": {
            "standoff": 15
           },
           "zerolinecolor": "white",
           "zerolinewidth": 2
          },
          "yaxis": {
           "automargin": true,
           "gridcolor": "white",
           "linecolor": "white",
           "ticks": "",
           "title": {
            "standoff": 15
           },
           "zerolinecolor": "white",
           "zerolinewidth": 2
          }
         }
        },
        "title": {
         "text": "Todays Option Pos (PnL and Delta)",
         "x": 0.5,
         "xanchor": "center"
        },
        "xaxis": {
         "anchor": "y",
         "domain": [
          0,
          0.45
         ],
         "title": {
          "text": "Price"
         }
        },
        "xaxis2": {
         "anchor": "y2",
         "domain": [
          0.55,
          1
         ],
         "title": {
          "text": "Price"
         }
        },
        "yaxis": {
         "anchor": "x",
         "domain": [
          0,
          1
         ],
         "title": {
          "text": "Pnl"
         }
        },
        "yaxis2": {
         "anchor": "x2",
         "domain": [
          0,
          1
         ],
         "title": {
          "text": "Delta"
         }
        }
       }
      },
      "text/html": [
       "<div>                            <div id=\"af3483c7-4796-4cbe-a903-9d41945fedc1\" class=\"plotly-graph-div\" style=\"height:525px; width:100%;\"></div>            <script type=\"text/javascript\">                require([\"plotly\"], function(Plotly) {                    window.PLOTLYENV=window.PLOTLYENV || {};                                    if (document.getElementById(\"af3483c7-4796-4cbe-a903-9d41945fedc1\")) {                    Plotly.newPlot(                        \"af3483c7-4796-4cbe-a903-9d41945fedc1\",                        [{\"name\":\"EUA Jun24 40P\",\"x\":[50,51,52,53,54,55,56,57,58,59,60,61,62,63,64,65,66,67,68,69,70,71,72,73,74,75,76,77,78,79,80,81,82,83,84,85,86,87,88,89,90,91,92,93,94,95,96,97,98,99,100],\"y\":[-25788.241308976183,-25788.241308976183,-25788.241308976183,-25788.241308976183,-25788.241308976183,-25788.241308976183,-25788.241308976183,-25788.241308976183,-25788.241308976183,-25788.241308976183,-25788.241308976183,-25788.241308976183,-25788.241308976183,-25788.241308976183,-25788.241308976183,-25788.241308976183,-25788.241308976183,-25788.241308976183,-25788.241308976183,-25788.241308976183,-25788.241308976183,-25788.241308976183,-25788.241308976183,-25788.241308976183,-25788.241308976183,-25788.241308976183,-25788.241308976183,-25788.241308976183,-25788.241308976183,-25788.241308976183,-25788.241308976183,-25788.241308976183,-25788.241308976183,-25788.241308976183,-25788.241308976183,-25788.241308976183,-25788.241308976183,-25788.241308976183,-25788.241308976183,-25788.241308976183,-25788.241308976183,-25788.241308976183,-25788.241308976183,-25788.241308976183,-25788.241308976183,-25788.241308976183,-25788.241308976183,-25788.241308976183,-25788.241308976183,-25788.241308976183,-25788.241308976183],\"type\":\"scatter\",\"xaxis\":\"x\",\"yaxis\":\"y\"},{\"name\":\"EUA Jun24 40P\",\"x\":[50,51,52,53,54,55,56,57,58,59,60,61,62,63,64,65,66,67,68,69,70,71,72,73,74,75,76,77,78,79,80,81,82,83,84,85,86,87,88,89,90,91,92,93,94,95,96,97,98,99,100],\"y\":[0.0,0.0,0.0,0.0,0.0,0.0,0.0,0.0,0.0,0.0,0.0,0.0,0.0,0.0,0.0,0.0,0.0,0.0,0.0,0.0,0.0,0.0,0.0,0.0,0.0,0.0,0.0,0.0,0.0,0.0,0.0,0.0,0.0,0.0,0.0,0.0,0.0,0.0,0.0,0.0,0.0,0.0,0.0,0.0,0.0,0.0,0.0,0.0,0.0,0.0,0.0],\"type\":\"scatter\",\"xaxis\":\"x2\",\"yaxis\":\"y2\"},{\"name\":\"EUA Jun24 50P\",\"x\":[50,51,52,53,54,55,56,57,58,59,60,61,62,63,64,65,66,67,68,69,70,71,72,73,74,75,76,77,78,79,80,81,82,83,84,85,86,87,88,89,90,91,92,93,94,95,96,97,98,99,100],\"y\":[101211.5578951148,101211.5578951148,101211.5578951148,101211.5578951148,101211.5578951148,101211.5578951148,101211.5578951148,101211.5578951148,101211.5578951148,101211.5578951148,101211.5578951148,101211.5578951148,101211.5578951148,101211.5578951148,101211.5578951148,101211.5578951148,101211.5578951148,101211.5578951148,101211.5578951148,101211.5578951148,101211.5578951148,101211.5578951148,101211.5578951148,101211.5578951148,101211.5578951148,101211.5578951148,101211.5578951148,101211.5578951148,101211.5578951148,101211.5578951148,101211.5578951148,101211.5578951148,101211.5578951148,101211.5578951148,101211.5578951148,101211.5578951148,101211.5578951148,101211.5578951148,101211.5578951148,101211.5578951148,101211.5578951148,101211.5578951148,101211.5578951148,101211.5578951148,101211.5578951148,101211.5578951148,101211.5578951148,101211.5578951148,101211.5578951148,101211.5578951148,101211.5578951148],\"type\":\"scatter\",\"xaxis\":\"x\",\"yaxis\":\"y\"},{\"name\":\"EUA Jun24 50P\",\"x\":[50,51,52,53,54,55,56,57,58,59,60,61,62,63,64,65,66,67,68,69,70,71,72,73,74,75,76,77,78,79,80,81,82,83,84,85,86,87,88,89,90,91,92,93,94,95,96,97,98,99,100],\"y\":[null,-0.0,-0.0,-0.0,-0.0,-0.0,-0.0,-0.0,-0.0,-0.0,-0.0,-0.0,-0.0,-0.0,-0.0,-0.0,-0.0,-0.0,-0.0,-0.0,-0.0,-0.0,-0.0,-0.0,-0.0,-0.0,-0.0,-0.0,-0.0,-0.0,-0.0,-0.0,-0.0,-0.0,-0.0,-0.0,-0.0,-0.0,-0.0,-0.0,-0.0,-0.0,-0.0,-0.0,-0.0,-0.0,-0.0,-0.0,-0.0,-0.0,-0.0],\"type\":\"scatter\",\"xaxis\":\"x2\",\"yaxis\":\"y2\"},{\"name\":\"EUA Jun24 70C\",\"x\":[50,51,52,53,54,55,56,57,58,59,60,61,62,63,64,65,66,67,68,69,70,71,72,73,74,75,76,77,78,79,80,81,82,83,84,85,86,87,88,89,90,91,92,93,94,95,96,97,98,99,100],\"y\":[139028.425416976,139028.425416976,139028.425416976,139028.425416976,139028.425416976,139028.425416976,139028.425416976,139028.425416976,139028.425416976,139028.425416976,139028.425416976,139028.425416976,139028.425416976,139028.425416976,139028.425416976,139028.425416976,139028.425416976,139028.425416976,139028.425416976,139028.425416976,139028.425416976,56391.92541697601,-26244.57458302399,-108881.07458302399,-191517.57458302402,-274154.074583024,-356790.574583024,-439427.074583024,-522063.574583024,-604700.074583024,-687336.5745830239,-769973.0745830239,-852609.5745830239,-935246.0745830239,-1017882.5745830239,-1100519.074583024,-1183155.574583024,-1265792.074583024,-1348428.574583024,-1431065.074583024,-1513701.574583024,-1596338.074583024,-1678974.574583024,-1761611.074583024,-1844247.574583024,-1926884.074583024,-2009520.574583024,-2092157.074583024,-2174793.574583024,-2257430.074583024,-2340066.574583024],\"type\":\"scatter\",\"xaxis\":\"x\",\"yaxis\":\"y\"},{\"name\":\"EUA Jun24 70C\",\"x\":[50,51,52,53,54,55,56,57,58,59,60,61,62,63,64,65,66,67,68,69,70,71,72,73,74,75,76,77,78,79,80,81,82,83,84,85,86,87,88,89,90,91,92,93,94,95,96,97,98,99,100],\"y\":[-0.0,-0.0,-0.0,-0.0,-0.0,-0.0,-0.0,-0.0,-0.0,-0.0,-0.0,-0.0,-0.0,-0.0,-0.0,-0.0,-0.0,-0.0,-0.0,-0.0,null,-50000.0,-50000.0,-50000.0,-50000.0,-50000.0,-50000.0,-50000.0,-50000.0,-50000.0,-50000.0,-50000.0,-50000.0,-50000.0,-50000.0,-50000.0,-50000.0,-50000.0,-50000.0,-50000.0,-50000.0,-50000.0,-50000.0,-50000.0,-50000.0,-50000.0,-50000.0,-50000.0,-50000.0,-50000.0,-50000.0],\"type\":\"scatter\",\"xaxis\":\"x2\",\"yaxis\":\"y2\"},{\"name\":\"EUA Jun24 80C\",\"x\":[50,51,52,53,54,55,56,57,58,59,60,61,62,63,64,65,66,67,68,69,70,71,72,73,74,75,76,77,78,79,80,81,82,83,84,85,86,87,88,89,90,91,92,93,94,95,96,97,98,99,100],\"y\":[-38574.41571071709,-38574.41571071709,-38574.41571071709,-38574.41571071709,-38574.41571071709,-38574.41571071709,-38574.41571071709,-38574.41571071709,-38574.41571071709,-38574.41571071709,-38574.41571071709,-38574.41571071709,-38574.41571071709,-38574.41571071709,-38574.41571071709,-38574.41571071709,-38574.41571071709,-38574.41571071709,-38574.41571071709,-38574.41571071709,-38574.41571071709,-38574.41571071709,-38574.41571071709,-38574.41571071709,-38574.41571071709,-38574.41571071709,-38574.41571071709,-38574.41571071709,-38574.41571071709,-38574.41571071709,-38574.41571071709,44062.0842892829,126698.58428928291,209335.08428928294,291971.58428928297,374608.0842892829,457244.5842892829,539881.0842892829,622517.5842892829,705154.084289283,787790.584289283,870427.0842892829,953063.5842892829,1035700.0842892829,1118336.5842892828,1200973.084289283,1283609.584289283,1366246.084289283,1448882.584289283,1531519.084289283,1614155.584289283],\"type\":\"scatter\",\"xaxis\":\"x\",\"yaxis\":\"y\"},{\"name\":\"EUA Jun24 80C\",\"x\":[50,51,52,53,54,55,56,57,58,59,60,61,62,63,64,65,66,67,68,69,70,71,72,73,74,75,76,77,78,79,80,81,82,83,84,85,86,87,88,89,90,91,92,93,94,95,96,97,98,99,100],\"y\":[0.0,0.0,0.0,0.0,0.0,0.0,0.0,0.0,0.0,0.0,0.0,0.0,0.0,0.0,0.0,0.0,0.0,0.0,0.0,0.0,0.0,0.0,0.0,0.0,0.0,0.0,0.0,0.0,0.0,0.0,null,50000.0,50000.0,50000.0,50000.0,50000.0,50000.0,50000.0,50000.0,50000.0,50000.0,50000.0,50000.0,50000.0,50000.0,50000.0,50000.0,50000.0,50000.0,50000.0,50000.0],\"type\":\"scatter\",\"xaxis\":\"x2\",\"yaxis\":\"y2\"},{\"mode\":\"lines\",\"name\":\"Total_PnL\",\"x\":[50,51,52,53,54,55,56,57,58,59,60,61,62,63,64,65,66,67,68,69,70,71,72,73,74,75,76,77,78,79,80,81,82,83,84,85,86,87,88,89,90,91,92,93,94,95,96,97,98,99,100],\"y\":[175877.32629239754,175877.32629239754,175877.32629239754,175877.32629239754,175877.32629239754,175877.32629239754,175877.32629239754,175877.32629239754,175877.32629239754,175877.32629239754,175877.32629239754,175877.32629239754,175877.32629239754,175877.32629239754,175877.32629239754,175877.32629239754,175877.32629239754,175877.32629239754,175877.32629239754,175877.32629239754,175877.32629239754,93240.82629239754,10604.326292397542,-72032.17370760246,-154668.6737076025,-237305.1737076025,-319941.6737076025,-402578.1737076025,-485214.6737076025,-567851.1737076024,-650487.6737076024,-650487.6737076024,-650487.6737076024,-650487.6737076024,-650487.6737076023,-650487.6737076024,-650487.6737076024,-650487.6737076024,-650487.6737076024,-650487.6737076023,-650487.6737076023,-650487.6737076024,-650487.6737076024,-650487.6737076024,-650487.6737076025,-650487.6737076023,-650487.6737076023,-650487.6737076023,-650487.6737076021,-650487.6737076021,-650487.6737076021],\"type\":\"scatter\",\"xaxis\":\"x\",\"yaxis\":\"y\"},{\"mode\":\"lines\",\"name\":\"Total_Delta\",\"x\":[50,51,52,53,54,55,56,57,58,59,60,61,62,63,64,65,66,67,68,69,70,71,72,73,74,75,76,77,78,79,80,81,82,83,84,85,86,87,88,89,90,91,92,93,94,95,96,97,98,99,100],\"y\":[0.0,0.0,0.0,0.0,0.0,0.0,0.0,0.0,0.0,0.0,0.0,0.0,0.0,0.0,0.0,0.0,0.0,0.0,0.0,0.0,0.0,-50000.0,-50000.0,-50000.0,-50000.0,-50000.0,-50000.0,-50000.0,-50000.0,-50000.0,-50000.0,0.0,0.0,0.0,0.0,0.0,0.0,0.0,0.0,0.0,0.0,0.0,0.0,0.0,0.0,0.0,0.0,0.0,0.0,0.0,0.0],\"type\":\"scatter\",\"xaxis\":\"x2\",\"yaxis\":\"y2\"}],                        {\"template\":{\"data\":{\"histogram2dcontour\":[{\"type\":\"histogram2dcontour\",\"colorbar\":{\"outlinewidth\":0,\"ticks\":\"\"},\"colorscale\":[[0.0,\"#0d0887\"],[0.1111111111111111,\"#46039f\"],[0.2222222222222222,\"#7201a8\"],[0.3333333333333333,\"#9c179e\"],[0.4444444444444444,\"#bd3786\"],[0.5555555555555556,\"#d8576b\"],[0.6666666666666666,\"#ed7953\"],[0.7777777777777778,\"#fb9f3a\"],[0.8888888888888888,\"#fdca26\"],[1.0,\"#f0f921\"]]}],\"choropleth\":[{\"type\":\"choropleth\",\"colorbar\":{\"outlinewidth\":0,\"ticks\":\"\"}}],\"histogram2d\":[{\"type\":\"histogram2d\",\"colorbar\":{\"outlinewidth\":0,\"ticks\":\"\"},\"colorscale\":[[0.0,\"#0d0887\"],[0.1111111111111111,\"#46039f\"],[0.2222222222222222,\"#7201a8\"],[0.3333333333333333,\"#9c179e\"],[0.4444444444444444,\"#bd3786\"],[0.5555555555555556,\"#d8576b\"],[0.6666666666666666,\"#ed7953\"],[0.7777777777777778,\"#fb9f3a\"],[0.8888888888888888,\"#fdca26\"],[1.0,\"#f0f921\"]]}],\"heatmap\":[{\"type\":\"heatmap\",\"colorbar\":{\"outlinewidth\":0,\"ticks\":\"\"},\"colorscale\":[[0.0,\"#0d0887\"],[0.1111111111111111,\"#46039f\"],[0.2222222222222222,\"#7201a8\"],[0.3333333333333333,\"#9c179e\"],[0.4444444444444444,\"#bd3786\"],[0.5555555555555556,\"#d8576b\"],[0.6666666666666666,\"#ed7953\"],[0.7777777777777778,\"#fb9f3a\"],[0.8888888888888888,\"#fdca26\"],[1.0,\"#f0f921\"]]}],\"heatmapgl\":[{\"type\":\"heatmapgl\",\"colorbar\":{\"outlinewidth\":0,\"ticks\":\"\"},\"colorscale\":[[0.0,\"#0d0887\"],[0.1111111111111111,\"#46039f\"],[0.2222222222222222,\"#7201a8\"],[0.3333333333333333,\"#9c179e\"],[0.4444444444444444,\"#bd3786\"],[0.5555555555555556,\"#d8576b\"],[0.6666666666666666,\"#ed7953\"],[0.7777777777777778,\"#fb9f3a\"],[0.8888888888888888,\"#fdca26\"],[1.0,\"#f0f921\"]]}],\"contourcarpet\":[{\"type\":\"contourcarpet\",\"colorbar\":{\"outlinewidth\":0,\"ticks\":\"\"}}],\"contour\":[{\"type\":\"contour\",\"colorbar\":{\"outlinewidth\":0,\"ticks\":\"\"},\"colorscale\":[[0.0,\"#0d0887\"],[0.1111111111111111,\"#46039f\"],[0.2222222222222222,\"#7201a8\"],[0.3333333333333333,\"#9c179e\"],[0.4444444444444444,\"#bd3786\"],[0.5555555555555556,\"#d8576b\"],[0.6666666666666666,\"#ed7953\"],[0.7777777777777778,\"#fb9f3a\"],[0.8888888888888888,\"#fdca26\"],[1.0,\"#f0f921\"]]}],\"surface\":[{\"type\":\"surface\",\"colorbar\":{\"outlinewidth\":0,\"ticks\":\"\"},\"colorscale\":[[0.0,\"#0d0887\"],[0.1111111111111111,\"#46039f\"],[0.2222222222222222,\"#7201a8\"],[0.3333333333333333,\"#9c179e\"],[0.4444444444444444,\"#bd3786\"],[0.5555555555555556,\"#d8576b\"],[0.6666666666666666,\"#ed7953\"],[0.7777777777777778,\"#fb9f3a\"],[0.8888888888888888,\"#fdca26\"],[1.0,\"#f0f921\"]]}],\"mesh3d\":[{\"type\":\"mesh3d\",\"colorbar\":{\"outlinewidth\":0,\"ticks\":\"\"}}],\"scatter\":[{\"fillpattern\":{\"fillmode\":\"overlay\",\"size\":10,\"solidity\":0.2},\"type\":\"scatter\"}],\"parcoords\":[{\"type\":\"parcoords\",\"line\":{\"colorbar\":{\"outlinewidth\":0,\"ticks\":\"\"}}}],\"scatterpolargl\":[{\"type\":\"scatterpolargl\",\"marker\":{\"colorbar\":{\"outlinewidth\":0,\"ticks\":\"\"}}}],\"bar\":[{\"error_x\":{\"color\":\"#2a3f5f\"},\"error_y\":{\"color\":\"#2a3f5f\"},\"marker\":{\"line\":{\"color\":\"#E5ECF6\",\"width\":0.5},\"pattern\":{\"fillmode\":\"overlay\",\"size\":10,\"solidity\":0.2}},\"type\":\"bar\"}],\"scattergeo\":[{\"type\":\"scattergeo\",\"marker\":{\"colorbar\":{\"outlinewidth\":0,\"ticks\":\"\"}}}],\"scatterpolar\":[{\"type\":\"scatterpolar\",\"marker\":{\"colorbar\":{\"outlinewidth\":0,\"ticks\":\"\"}}}],\"histogram\":[{\"marker\":{\"pattern\":{\"fillmode\":\"overlay\",\"size\":10,\"solidity\":0.2}},\"type\":\"histogram\"}],\"scattergl\":[{\"type\":\"scattergl\",\"marker\":{\"colorbar\":{\"outlinewidth\":0,\"ticks\":\"\"}}}],\"scatter3d\":[{\"type\":\"scatter3d\",\"line\":{\"colorbar\":{\"outlinewidth\":0,\"ticks\":\"\"}},\"marker\":{\"colorbar\":{\"outlinewidth\":0,\"ticks\":\"\"}}}],\"scattermapbox\":[{\"type\":\"scattermapbox\",\"marker\":{\"colorbar\":{\"outlinewidth\":0,\"ticks\":\"\"}}}],\"scatterternary\":[{\"type\":\"scatterternary\",\"marker\":{\"colorbar\":{\"outlinewidth\":0,\"ticks\":\"\"}}}],\"scattercarpet\":[{\"type\":\"scattercarpet\",\"marker\":{\"colorbar\":{\"outlinewidth\":0,\"ticks\":\"\"}}}],\"carpet\":[{\"aaxis\":{\"endlinecolor\":\"#2a3f5f\",\"gridcolor\":\"white\",\"linecolor\":\"white\",\"minorgridcolor\":\"white\",\"startlinecolor\":\"#2a3f5f\"},\"baxis\":{\"endlinecolor\":\"#2a3f5f\",\"gridcolor\":\"white\",\"linecolor\":\"white\",\"minorgridcolor\":\"white\",\"startlinecolor\":\"#2a3f5f\"},\"type\":\"carpet\"}],\"table\":[{\"cells\":{\"fill\":{\"color\":\"#EBF0F8\"},\"line\":{\"color\":\"white\"}},\"header\":{\"fill\":{\"color\":\"#C8D4E3\"},\"line\":{\"color\":\"white\"}},\"type\":\"table\"}],\"barpolar\":[{\"marker\":{\"line\":{\"color\":\"#E5ECF6\",\"width\":0.5},\"pattern\":{\"fillmode\":\"overlay\",\"size\":10,\"solidity\":0.2}},\"type\":\"barpolar\"}],\"pie\":[{\"automargin\":true,\"type\":\"pie\"}]},\"layout\":{\"autotypenumbers\":\"strict\",\"colorway\":[\"#636efa\",\"#EF553B\",\"#00cc96\",\"#ab63fa\",\"#FFA15A\",\"#19d3f3\",\"#FF6692\",\"#B6E880\",\"#FF97FF\",\"#FECB52\"],\"font\":{\"color\":\"#2a3f5f\"},\"hovermode\":\"closest\",\"hoverlabel\":{\"align\":\"left\"},\"paper_bgcolor\":\"white\",\"plot_bgcolor\":\"#E5ECF6\",\"polar\":{\"bgcolor\":\"#E5ECF6\",\"angularaxis\":{\"gridcolor\":\"white\",\"linecolor\":\"white\",\"ticks\":\"\"},\"radialaxis\":{\"gridcolor\":\"white\",\"linecolor\":\"white\",\"ticks\":\"\"}},\"ternary\":{\"bgcolor\":\"#E5ECF6\",\"aaxis\":{\"gridcolor\":\"white\",\"linecolor\":\"white\",\"ticks\":\"\"},\"baxis\":{\"gridcolor\":\"white\",\"linecolor\":\"white\",\"ticks\":\"\"},\"caxis\":{\"gridcolor\":\"white\",\"linecolor\":\"white\",\"ticks\":\"\"}},\"coloraxis\":{\"colorbar\":{\"outlinewidth\":0,\"ticks\":\"\"}},\"colorscale\":{\"sequential\":[[0.0,\"#0d0887\"],[0.1111111111111111,\"#46039f\"],[0.2222222222222222,\"#7201a8\"],[0.3333333333333333,\"#9c179e\"],[0.4444444444444444,\"#bd3786\"],[0.5555555555555556,\"#d8576b\"],[0.6666666666666666,\"#ed7953\"],[0.7777777777777778,\"#fb9f3a\"],[0.8888888888888888,\"#fdca26\"],[1.0,\"#f0f921\"]],\"sequentialminus\":[[0.0,\"#0d0887\"],[0.1111111111111111,\"#46039f\"],[0.2222222222222222,\"#7201a8\"],[0.3333333333333333,\"#9c179e\"],[0.4444444444444444,\"#bd3786\"],[0.5555555555555556,\"#d8576b\"],[0.6666666666666666,\"#ed7953\"],[0.7777777777777778,\"#fb9f3a\"],[0.8888888888888888,\"#fdca26\"],[1.0,\"#f0f921\"]],\"diverging\":[[0,\"#8e0152\"],[0.1,\"#c51b7d\"],[0.2,\"#de77ae\"],[0.3,\"#f1b6da\"],[0.4,\"#fde0ef\"],[0.5,\"#f7f7f7\"],[0.6,\"#e6f5d0\"],[0.7,\"#b8e186\"],[0.8,\"#7fbc41\"],[0.9,\"#4d9221\"],[1,\"#276419\"]]},\"xaxis\":{\"gridcolor\":\"white\",\"linecolor\":\"white\",\"ticks\":\"\",\"title\":{\"standoff\":15},\"zerolinecolor\":\"white\",\"automargin\":true,\"zerolinewidth\":2},\"yaxis\":{\"gridcolor\":\"white\",\"linecolor\":\"white\",\"ticks\":\"\",\"title\":{\"standoff\":15},\"zerolinecolor\":\"white\",\"automargin\":true,\"zerolinewidth\":2},\"scene\":{\"xaxis\":{\"backgroundcolor\":\"#E5ECF6\",\"gridcolor\":\"white\",\"linecolor\":\"white\",\"showbackground\":true,\"ticks\":\"\",\"zerolinecolor\":\"white\",\"gridwidth\":2},\"yaxis\":{\"backgroundcolor\":\"#E5ECF6\",\"gridcolor\":\"white\",\"linecolor\":\"white\",\"showbackground\":true,\"ticks\":\"\",\"zerolinecolor\":\"white\",\"gridwidth\":2},\"zaxis\":{\"backgroundcolor\":\"#E5ECF6\",\"gridcolor\":\"white\",\"linecolor\":\"white\",\"showbackground\":true,\"ticks\":\"\",\"zerolinecolor\":\"white\",\"gridwidth\":2}},\"shapedefaults\":{\"line\":{\"color\":\"#2a3f5f\"}},\"annotationdefaults\":{\"arrowcolor\":\"#2a3f5f\",\"arrowhead\":0,\"arrowwidth\":1},\"geo\":{\"bgcolor\":\"white\",\"landcolor\":\"#E5ECF6\",\"subunitcolor\":\"white\",\"showland\":true,\"showlakes\":true,\"lakecolor\":\"white\"},\"title\":{\"x\":0.05},\"mapbox\":{\"style\":\"light\"}}},\"xaxis\":{\"anchor\":\"y\",\"domain\":[0.0,0.45],\"title\":{\"text\":\"Price\"}},\"yaxis\":{\"anchor\":\"x\",\"domain\":[0.0,1.0],\"title\":{\"text\":\"Pnl\"}},\"xaxis2\":{\"anchor\":\"y2\",\"domain\":[0.55,1.0],\"title\":{\"text\":\"Price\"}},\"yaxis2\":{\"anchor\":\"x2\",\"domain\":[0.0,1.0],\"title\":{\"text\":\"Delta\"}},\"title\":{\"text\":\"Todays Option Pos (PnL and Delta)\",\"x\":0.5,\"xanchor\":\"center\"},\"barmode\":\"stack\"},                        {\"responsive\": true}                    ).then(function(){\n",
       "                            \n",
       "var gd = document.getElementById('af3483c7-4796-4cbe-a903-9d41945fedc1');\n",
       "var x = new MutationObserver(function (mutations, observer) {{\n",
       "        var display = window.getComputedStyle(gd).display;\n",
       "        if (!display || display === 'none') {{\n",
       "            console.log([gd, 'removed!']);\n",
       "            Plotly.purge(gd);\n",
       "            observer.disconnect();\n",
       "        }}\n",
       "}});\n",
       "\n",
       "// Listen for the removal of the full notebook cells\n",
       "var notebookContainer = gd.closest('#notebook-container');\n",
       "if (notebookContainer) {{\n",
       "    x.observe(notebookContainer, {childList: true});\n",
       "}}\n",
       "\n",
       "// Listen for the clearing of the current output cell\n",
       "var outputEl = gd.closest('.output');\n",
       "if (outputEl) {{\n",
       "    x.observe(outputEl, {childList: true});\n",
       "}}\n",
       "\n",
       "                        })                };                });            </script>        </div>"
      ]
     },
     "metadata": {},
     "output_type": "display_data"
    }
   ],
   "source": [
    "pnl_delta_plot(end_of_year)"
   ]
  },
  {
   "cell_type": "code",
   "execution_count": 20,
   "id": "175af9cd",
   "metadata": {},
   "outputs": [],
   "source": [
    "### THIS IS FOR PLOTTING THETA AND VEGA\n",
    "\n",
    "#fig_t = go.Figure()\n",
    "#for i in list(t)[1:-1]:\n",
    "#    fig_t.add_trace(go.Bar(x=t.Price, y=t[i], name=i, base=0))\n",
    "#\n",
    "#fig_t.add_trace(go.Scatter(x=t.Price, y=t.Option_Theta, mode='lines', name='Total_Theta'))\n",
    "#\n",
    "#\n",
    "#~~~~~~~~~~~~~~~~~~~~~~~~~~~~~~~~~~~~~~~~~~~~~~~~~~~~~~~~~~~~~~~~~~~~~~~~~~~~~~~~~\n",
    "#fig_v = go.Figure()\n",
    "#for i in list(v)[1:-1]:\n",
    "#    fig_v.add_trace(go.Bar(x=v.Price, y=v[i], name=i, base=0))\n",
    "#\n",
    "#fig_v.add_trace(go.Scatter(x=v.Price, y=v.Option_Vega, mode='lines', name='Total_Vega'))\n",
    "#\n",
    "##~~~~~~~~~~~~~~~~~~~~~~~~~~~~~~~~~~~~~~~~~~~~~~~~~~~~~~~~~~~~~~~~~~~~~~~~~~~~~~~~\n",
    "#fig = make_subplots(rows=1, cols=2)\n",
    "#for i in range(0,len(fig_p.data)):\n",
    "#    fig.add_trace(fig_t.data[i], row=1, col=1)\n",
    "#    fig.add_trace(fig_v.data[i], row=1, col=2)\n",
    "#   \n",
    "#fig.update_layout(title={'text': 'Todays Option Pos (Theta and Vega)','x': 0.5,'xanchor': 'center'}, barmode='stack')\n",
    "#\n",
    "#fig.update_xaxes(title_text=\"Price\", row=1, col=1)\n",
    "#fig.update_yaxes(title_text=\"Theta\", row=1, col=1)\n",
    "#fig.update_xaxes(title_text=\"Price\", row=1, col=2)\n",
    "#fig.update_yaxes(title_text=\"Vega\", row=1, col=2)    \n",
    "#fig.show()  "
   ]
  }
 ],
 "metadata": {
  "kernelspec": {
   "display_name": "Python 3 (ipykernel)",
   "language": "python",
   "name": "python3"
  },
  "language_info": {
   "codemirror_mode": {
    "name": "ipython",
    "version": 3
   },
   "file_extension": ".py",
   "mimetype": "text/x-python",
   "name": "python",
   "nbconvert_exporter": "python",
   "pygments_lexer": "ipython3",
   "version": "3.8.16"
  },
  "toc": {
   "base_numbering": 1,
   "nav_menu": {},
   "number_sections": true,
   "sideBar": true,
   "skip_h1_title": false,
   "title_cell": "Table of Contents",
   "title_sidebar": "Contents",
   "toc_cell": false,
   "toc_position": {},
   "toc_section_display": true,
   "toc_window_display": false
  },
  "varInspector": {
   "cols": {
    "lenName": 16,
    "lenType": 16,
    "lenVar": 40
   },
   "kernels_config": {
    "python": {
     "delete_cmd_postfix": "",
     "delete_cmd_prefix": "del ",
     "library": "var_list.py",
     "varRefreshCmd": "print(var_dic_list())"
    },
    "r": {
     "delete_cmd_postfix": ") ",
     "delete_cmd_prefix": "rm(",
     "library": "var_list.r",
     "varRefreshCmd": "cat(var_dic_list()) "
    }
   },
   "types_to_exclude": [
    "module",
    "function",
    "builtin_function_or_method",
    "instance",
    "_Feature"
   ],
   "window_display": false
  }
 },
 "nbformat": 4,
 "nbformat_minor": 5
}
